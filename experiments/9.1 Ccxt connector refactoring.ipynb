{
 "cells": [
  {
   "cell_type": "code",
   "execution_count": 8,
   "metadata": {},
   "outputs": [
    {
     "name": "stdout",
     "output_type": "stream",
     "text": [
      "The autoreload extension is already loaded. To reload it, use:\n",
      "  %reload_ext autoreload\n"
     ]
    }
   ],
   "source": [
    "%load_ext autoreload\n",
    "%autoreload 2\n",
    "\n",
    "import qubx\n",
    "%qubxd\n",
    "\n",
    "import time\n",
    "import pandas as pd\n",
    "import matplotlib.pyplot as plt\n",
    "from typing import Any\n",
    "from pathlib import Path\n",
    "from IPython.display import clear_output\n",
    "from collections import defaultdict\n",
    "\n",
    "from qubx import lookup, logger, QubxLogConfig\n",
    "from qubx.core.basics import TriggerEvent, Trade, MarketEvent, Instrument, SubscriptionType\n",
    "from qubx.core.interfaces import IStrategyContext, IStrategy\n",
    "from qubx.connectors.ccxt.ccxt_connector import CCXTExchangesConnector\n",
    "from qubx.connectors.ccxt.ccxt_trading import CCXTTradingConnector\n",
    "from qubx.utils.runner import get_account_config\n",
    "from qubx.pandaz import scols\n",
    "from qubx.backtester.simulator import SimulatedTrading\n",
    "from qubx.utils.runner import run_ccxt_paper_trading\n",
    "from qubx.utils.collections import TimeLimitedDeque"
   ]
  },
  {
   "cell_type": "markdown",
   "metadata": {},
   "source": [
    "## 1.0 Live paper trading"
   ]
  },
  {
   "cell_type": "code",
   "execution_count": null,
   "metadata": {},
   "outputs": [],
   "source": [
    "class TradeTestStrat(IStrategy):\n",
    "    _data_counter: int = 0\n",
    "    _data_to_buffer: dict[tuple[str, Instrument], TimeLimitedDeque]\n",
    "\n",
    "    def on_init(self, ctx: IStrategyContext):\n",
    "        # ctx.set_base_subscription(SubscriptionType.ORDERBOOK)\n",
    "        # ctx.set_base_subscription(SubscriptionType.OHLC)\n",
    "        # ctx.set_warmup(SubscriptionType.OHLC, \"1h\")\n",
    "        ctx.set_base_subscription(SubscriptionType.TRADE)\n",
    "        self._data_to_buffer = defaultdict(lambda: TimeLimitedDeque(\"1Min\", lambda x: x.time, unit=\"ns\"))\n",
    "\n",
    "    def on_market_data(self, ctx: IStrategyContext, data: MarketEvent):\n",
    "        self._data_counter += 1\n",
    "        self._data_to_buffer[(data.type, data.instrument)].append(data.data)\n",
    "        if self._data_counter % 1000 == 0:\n",
    "            logger.debug(f\"Processed {self._data_counter} data points\")\n",
    "\n",
    "    def on_universe_change(\n",
    "        self, ctx: IStrategyContext, add_instruments: list[Instrument], rm_instruments: list[Instrument]\n",
    "    ):\n",
    "        if add_instruments:\n",
    "            _sub_to_params = ctx.get_subscriptions(ctx.instruments[0])\n",
    "            for sub, params in _sub_to_params.items():\n",
    "                ctx.subscribe(add_instruments, sub, **params)\n",
    "\n",
    "    def get_data(self, type: str, instrument: Instrument) -> list:\n",
    "        return list(self._data_to_buffer[(type, instrument)])\n",
    "\n",
    "\n",
    "ctx = run_ccxt_paper_trading(\n",
    "    strategy=(stg := TradeTestStrat()),\n",
    "    exchange=\"BINANCE.UM\",\n",
    "    symbols=[\"BTCUSDT\", \"ETHUSDT\"],\n",
    "    # symbols=[\"BTCUSDT\", \"ETHUSDT\", \"ADAUSDT\", \"XRPUSDT\"],\n",
    "    blocking=False,\n",
    ")"
   ]
  },
  {
   "cell_type": "code",
   "execution_count": null,
   "metadata": {},
   "outputs": [],
   "source": [
    "ctx.stop()"
   ]
  },
  {
   "cell_type": "code",
   "execution_count": null,
   "metadata": {},
   "outputs": [],
   "source": [
    "ctx.get_data(ctx.instruments[0], SubscriptionType.TRADE)[-5:]"
   ]
  },
  {
   "cell_type": "code",
   "execution_count": null,
   "metadata": {},
   "outputs": [],
   "source": [
    "len(ctx.get_data(ctx.instruments[0], SubscriptionType.TRADE))"
   ]
  },
  {
   "cell_type": "code",
   "execution_count": null,
   "metadata": {},
   "outputs": [],
   "source": [
    "i1 = ctx.instruments[1]\n",
    "obs = stg.get_data(\"ohlc\", i1)\n",
    "print(f\"Instrument: {i1}\")\n",
    "for i in range(1, 5):\n",
    "    print(obs[-i])"
   ]
  },
  {
   "cell_type": "markdown",
   "metadata": {},
   "source": [
    "### Add trade subscription and remove it"
   ]
  },
  {
   "cell_type": "code",
   "execution_count": null,
   "metadata": {},
   "outputs": [],
   "source": [
    "ctx.subscribe(ctx.instruments, SubscriptionType.TRADE)"
   ]
  },
  {
   "cell_type": "code",
   "execution_count": null,
   "metadata": {},
   "outputs": [],
   "source": [
    "trades = stg.get_data(\"trade\", ctx.instruments[0])\n",
    "trades[-5:]"
   ]
  },
  {
   "cell_type": "code",
   "execution_count": null,
   "metadata": {},
   "outputs": [],
   "source": [
    "stg.ctx.unsubscribe(ctx.instruments, SubscriptionType.TRADE)"
   ]
  },
  {
   "cell_type": "markdown",
   "metadata": {},
   "source": [
    "### Add new instrument to the universe"
   ]
  },
  {
   "cell_type": "code",
   "execution_count": null,
   "metadata": {},
   "outputs": [],
   "source": [
    "s1 = lookup.find_symbol(\"BINANCE.UM\", \"XRPUSDT\"); assert s1 is not None\n",
    "ctx.set_universe(list(set(ctx.instruments) | {s1}))"
   ]
  },
  {
   "cell_type": "code",
   "execution_count": null,
   "metadata": {},
   "outputs": [],
   "source": [
    "new_instruments = ctx.instruments[-2:]\n",
    "print(new_instruments)\n",
    "ctx.set_universe(new_instruments)"
   ]
  },
  {
   "cell_type": "code",
   "execution_count": null,
   "metadata": {},
   "outputs": [],
   "source": [
    "obs = stg.get_data(\"orderbook\", s1)\n",
    "obs[-1]"
   ]
  },
  {
   "cell_type": "code",
   "execution_count": null,
   "metadata": {},
   "outputs": [],
   "source": [
    "s2 = lookup.find_symbol(\"BINANCE.UM\", \"ADAUSDT\"); assert s2 is not None\n",
    "stg.ctx.set_universe(list(set(stg.ctx.instruments) | {s2}))"
   ]
  },
  {
   "cell_type": "code",
   "execution_count": null,
   "metadata": {},
   "outputs": [],
   "source": [
    "trades = stg.get_data(\"trade\", s2)\n",
    "trades[-5:]"
   ]
  },
  {
   "cell_type": "code",
   "execution_count": null,
   "metadata": {},
   "outputs": [],
   "source": [
    "ctx.stop()"
   ]
  },
  {
   "cell_type": "markdown",
   "metadata": {},
   "source": [
    "## 2.0 Live execution"
   ]
  },
  {
   "cell_type": "code",
   "execution_count": null,
   "metadata": {},
   "outputs": [
    {
     "name": "stdout",
     "output_type": "stream",
     "text": [
      "\u001b[32m2024-11-13 18:27:32.007\u001b[0m [ \u001b[1mℹ️\u001b[0m ] \u001b[1mBINANCE loading ...\u001b[0m\n",
      "\u001b[32m2024-11-13 18:27:35.138\u001b[0m [ \u001b[1mℹ️\u001b[0m ] \u001b[1mbinance initialized - current time 2024-11-13T18:27:35.135090944\u001b[0m\n",
      "\u001b[32m2024-11-13 18:27:35.138\u001b[0m [ \u001b[1mℹ️\u001b[0m ] \u001b[1mLoading account data for Binance\u001b[0m\n",
      "\u001b[32m2024-11-13 18:27:35.883\u001b[0m [ \u001b[33m\u001b[1m⚠️\u001b[0m ] \u001b[36mqubx.connectors.ccxt.ccxt_utils\u001b[0m:\u001b[36mccxt_restore_position_from_deals\u001b[0m:\u001b[36m102\u001b[0m - \u001b[33m\u001b[1mCouldn't restore full deals history for BTCUSDT symbol. Qubx will use zero position !\u001b[0m\n",
      "\u001b[32m2024-11-13 18:27:36.380\u001b[0m [ \u001b[33m\u001b[1m⚠️\u001b[0m ] \u001b[36mqubx.connectors.ccxt.ccxt_utils\u001b[0m:\u001b[36mccxt_restore_position_from_deals\u001b[0m:\u001b[36m102\u001b[0m - \u001b[33m\u001b[1mCouldn't restore full deals history for ETHUSDT symbol. Qubx will use zero position !\u001b[0m\n",
      "\u001b[32m2024-11-13 18:27:36.383\u001b[0m [ \u001b[1mℹ️\u001b[0m ] \u001b[1m(StrategyContext) Start processing market data\u001b[0m\n",
      "\u001b[32m2024-11-13 18:27:36.383\u001b[0m [ \u001b[1mℹ️\u001b[0m ] \u001b[1m(StrategyContext) strategy is started in thread\u001b[0m\n",
      "\u001b[32m2024-11-13 18:27:36.385\u001b[0m [ \u001b[34m\u001b[1m🐞\u001b[0m ] \u001b[34m\u001b[1mRunning OHLC warmup for {BINANCE:CRYPTO:BTCUSDT, BINANCE:CRYPTO:ETHUSDT} with period 1h\u001b[0m\n",
      "\u001b[32m2024-11-13 18:27:36.385\u001b[0m [ \u001b[34m\u001b[1m🐞\u001b[0m ] \u001b[34m\u001b[1mListening to BTCUSDT executions\u001b[0m\n",
      "\u001b[32m2024-11-13 18:27:36.386\u001b[0m [ \u001b[34m\u001b[1m🐞\u001b[0m ] \u001b[34m\u001b[1mListening to ETHUSDT executions\u001b[0m\n"
     ]
    },
    {
     "name": "stdout",
     "output_type": "stream",
     "text": [
      "\u001b[32m2024-11-13 18:27:39.129\u001b[0m [ \u001b[1mℹ️\u001b[0m ] \u001b[1mBINANCE:CRYPTO:BTCUSDT: loaded 60 1m bars\u001b[0m\n",
      "\u001b[32m2024-11-13 18:27:39.130\u001b[0m [ \u001b[34m\u001b[1m🐞\u001b[0m ] \u001b[34m\u001b[1mInvoking \u001b[32mTradeTestStrat\u001b[0m\u001b[34m\u001b[1m on_fit\u001b[0m\n",
      "\u001b[32m2024-11-13 18:27:39.131\u001b[0m [ \u001b[34m\u001b[1m🐞\u001b[0m ] \u001b[34m\u001b[1m\u001b[32mTradeTestStrat\u001b[0m\u001b[34m\u001b[1m is fitted\u001b[0m\n",
      "\u001b[32m2024-11-13 18:27:39.159\u001b[0m [ \u001b[1mℹ️\u001b[0m ] \u001b[1mBINANCE:CRYPTO:ETHUSDT: loaded 60 1m bars\u001b[0m\n",
      "\u001b[32m2024-11-13 18:27:39.160\u001b[0m [ \u001b[34m\u001b[1m🐞\u001b[0m ] \u001b[34m\u001b[1mListening to BTCUSDT,ETHUSDT ohlc (warmup_period=1h)\u001b[0m\n",
      "\u001b[32m2024-11-13 18:29:01.210\u001b[0m [ \u001b[34m\u001b[1m🐞\u001b[0m ] \u001b[34m\u001b[1m(StrategyContext) sending limit buy for 0.00019 of \u001b[32mBTCUSDT\u001b[0m\u001b[34m\u001b[1m @ 88000.0 ...\u001b[0m\n",
      "\u001b[32m2024-11-13 18:29:01.451\u001b[0m [ \u001b[1mℹ️\u001b[0m ] \u001b[1m(CCXTSyncTradingConnector) New order [32397996623] LIMIT BUY 0.00019 of BTCUSDT @ 88000.0 (GTC) [NEW]\u001b[0m\n",
      "\u001b[32m2024-11-13 18:29:01.467\u001b[0m [ \u001b[34m\u001b[1m🐞\u001b[0m ] \u001b[34m\u001b[1mOrder 32397996623 LIMIT BUY 0.00019 of BINANCE:CRYPTO:BTCUSDT -> OPEN\u001b[0m\n",
      "\u001b[32m2024-11-13 18:29:01.468\u001b[0m [ \u001b[34m\u001b[1m🐞\u001b[0m ] \u001b[34m\u001b[1m[\u001b[31m32397996623\u001b[0m\u001b[34m\u001b[1m / TradeTestStrat_BTCUSDT_17315225413] : LIMIT BUY 0.00019 of BTCUSDT  @ 88000.0 -> [OPEN]\u001b[0m\n",
      "\u001b[32m2024-11-13 18:29:27.774\u001b[0m [ \u001b[1mℹ️\u001b[0m ] \u001b[1mCanceling order 32397996623 ...\u001b[0m\n",
      "\u001b[32m2024-11-13 18:29:28.030\u001b[0m [ \u001b[34m\u001b[1m🐞\u001b[0m ] \u001b[34m\u001b[1mOrder 32397996623 LIMIT BUY 0.00019 of BINANCE:CRYPTO:BTCUSDT -> CANCELED\u001b[0m\n",
      "\u001b[32m2024-11-13 18:29:28.031\u001b[0m [ \u001b[34m\u001b[1m🐞\u001b[0m ] \u001b[34m\u001b[1m[\u001b[31m32397996623\u001b[0m\u001b[34m\u001b[1m / TradeTestStrat_BTCUSDT_17315225413] : LIMIT BUY 0.00019 of BTCUSDT  @ 88000.0 -> [CANCELED]\u001b[0m\n",
      "\u001b[32m2024-11-13 18:29:41.752\u001b[0m [ \u001b[34m\u001b[1m🐞\u001b[0m ] \u001b[34m\u001b[1mNew instruments for trade warmup: {BINANCE:CRYPTO:BTCUSDT, BINANCE:CRYPTO:ETHUSDT}\u001b[0m\n",
      "\u001b[32m2024-11-13 18:29:41.753\u001b[0m [ \u001b[34m\u001b[1m🐞\u001b[0m ] \u001b[34m\u001b[1mListening to BTCUSDT executions\u001b[0m\n",
      "\u001b[32m2024-11-13 18:29:41.755\u001b[0m [ \u001b[34m\u001b[1m🐞\u001b[0m ] \u001b[34m\u001b[1mListening to ETHUSDT executions\u001b[0m\n",
      "\u001b[32m2024-11-13 18:29:42.048\u001b[0m [ \u001b[34m\u001b[1m🐞\u001b[0m ] \u001b[34m\u001b[1mLoaded 500 trades for BINANCE:CRYPTO:BTCUSDT\u001b[0m\n",
      "\u001b[32m2024-11-13 18:29:42.075\u001b[0m [ \u001b[34m\u001b[1m🐞\u001b[0m ] \u001b[34m\u001b[1mLoaded 500 trades for BINANCE:CRYPTO:ETHUSDT\u001b[0m\n",
      "\u001b[32m2024-11-13 18:29:42.076\u001b[0m [ \u001b[34m\u001b[1m🐞\u001b[0m ] \u001b[34m\u001b[1mListening to BTCUSDT,ETHUSDT trade (warmup_period=1m)\u001b[0m\n",
      "\u001b[32m2024-11-13 18:29:46.768\u001b[0m [ \u001b[34m\u001b[1m🐞\u001b[0m ] \u001b[34m\u001b[1mListening to BTCUSDT,ETHUSDT orderbook (warmup_period=1m)\u001b[0m\n",
      "\u001b[32m2024-11-13 18:29:46.769\u001b[0m [ \u001b[34m\u001b[1m🐞\u001b[0m ] \u001b[34m\u001b[1mListening to BTCUSDT executions\u001b[0m\n",
      "\u001b[32m2024-11-13 18:29:46.769\u001b[0m [ \u001b[34m\u001b[1m🐞\u001b[0m ] \u001b[34m\u001b[1mListening to ETHUSDT executions\u001b[0m\n",
      "\u001b[32m2024-11-13 18:29:55.392\u001b[0m [ \u001b[34m\u001b[1m🐞\u001b[0m ] \u001b[34m\u001b[1mProcessed 1000 data points\u001b[0m\n",
      "\u001b[32m2024-11-13 18:30:00.802\u001b[0m [ \u001b[34m\u001b[1m🐞\u001b[0m ] \u001b[34m\u001b[1mProcessed 2000 data points\u001b[0m\n",
      "\u001b[32m2024-11-13 18:30:04.165\u001b[0m [ \u001b[34m\u001b[1m🐞\u001b[0m ] \u001b[34m\u001b[1mProcessed 3000 data points\u001b[0m\n",
      "\u001b[32m2024-11-13 18:30:05.163\u001b[0m [ \u001b[34m\u001b[1m🐞\u001b[0m ] \u001b[34m\u001b[1mProcessed 4000 data points\u001b[0m\n",
      "\u001b[32m2024-11-13 18:30:06.442\u001b[0m [ \u001b[34m\u001b[1m🐞\u001b[0m ] \u001b[34m\u001b[1mProcessed 5000 data points\u001b[0m\n",
      "\u001b[32m2024-11-13 18:30:09.455\u001b[0m [ \u001b[34m\u001b[1m🐞\u001b[0m ] \u001b[34m\u001b[1mProcessed 6000 data points\u001b[0m\n",
      "\u001b[32m2024-11-13 18:30:13.510\u001b[0m [ \u001b[34m\u001b[1m🐞\u001b[0m ] \u001b[34m\u001b[1mProcessed 7000 data points\u001b[0m\n",
      "\u001b[32m2024-11-13 18:30:16.522\u001b[0m [ \u001b[34m\u001b[1m🐞\u001b[0m ] \u001b[34m\u001b[1mProcessed 8000 data points\u001b[0m\n",
      "\u001b[32m2024-11-13 18:30:20.168\u001b[0m [ \u001b[34m\u001b[1m🐞\u001b[0m ] \u001b[34m\u001b[1mProcessed 9000 data points\u001b[0m\n",
      "\u001b[32m2024-11-13 18:30:22.967\u001b[0m [ \u001b[34m\u001b[1m🐞\u001b[0m ] \u001b[34m\u001b[1mProcessed 10000 data points\u001b[0m\n",
      "\u001b[32m2024-11-13 18:30:26.951\u001b[0m [ \u001b[34m\u001b[1m🐞\u001b[0m ] \u001b[34m\u001b[1mProcessed 11000 data points\u001b[0m\n",
      "\u001b[32m2024-11-13 18:30:33.133\u001b[0m [ \u001b[34m\u001b[1m🐞\u001b[0m ] \u001b[34m\u001b[1mProcessed 12000 data points\u001b[0m\n",
      "\u001b[32m2024-11-13 18:30:35.955\u001b[0m [ \u001b[34m\u001b[1m🐞\u001b[0m ] \u001b[34m\u001b[1mProcessed 13000 data points\u001b[0m\n",
      "\u001b[32m2024-11-13 18:30:38.432\u001b[0m [ \u001b[34m\u001b[1m🐞\u001b[0m ] \u001b[34m\u001b[1mProcessed 14000 data points\u001b[0m\n",
      "\u001b[32m2024-11-13 18:30:42.491\u001b[0m [ \u001b[34m\u001b[1m🐞\u001b[0m ] \u001b[34m\u001b[1mProcessed 15000 data points\u001b[0m\n",
      "\u001b[32m2024-11-13 18:30:49.680\u001b[0m [ \u001b[34m\u001b[1m🐞\u001b[0m ] \u001b[34m\u001b[1mProcessed 16000 data points\u001b[0m\n",
      "\u001b[32m2024-11-13 18:30:53.661\u001b[0m [ \u001b[34m\u001b[1m🐞\u001b[0m ] \u001b[34m\u001b[1mProcessed 17000 data points\u001b[0m\n",
      "\u001b[32m2024-11-13 18:30:56.419\u001b[0m [ \u001b[34m\u001b[1m🐞\u001b[0m ] \u001b[34m\u001b[1mProcessed 18000 data points\u001b[0m\n",
      "\u001b[32m2024-11-13 18:31:01.966\u001b[0m [ \u001b[34m\u001b[1m🐞\u001b[0m ] \u001b[34m\u001b[1mProcessed 19000 data points\u001b[0m\n",
      "\u001b[32m2024-11-13 18:31:05.870\u001b[0m [ \u001b[34m\u001b[1m🐞\u001b[0m ] \u001b[34m\u001b[1mProcessed 20000 data points\u001b[0m\n",
      "\u001b[32m2024-11-13 18:31:08.650\u001b[0m [ \u001b[34m\u001b[1m🐞\u001b[0m ] \u001b[34m\u001b[1mProcessed 21000 data points\u001b[0m\n",
      "\u001b[32m2024-11-13 18:31:10.869\u001b[0m [ \u001b[34m\u001b[1m🐞\u001b[0m ] \u001b[34m\u001b[1mProcessed 22000 data points\u001b[0m\n",
      "\u001b[32m2024-11-13 18:31:12.414\u001b[0m [ \u001b[34m\u001b[1m🐞\u001b[0m ] \u001b[34m\u001b[1mProcessed 23000 data points\u001b[0m\n",
      "\u001b[32m2024-11-13 18:31:15.256\u001b[0m [ \u001b[34m\u001b[1m🐞\u001b[0m ] \u001b[34m\u001b[1mProcessed 24000 data points\u001b[0m\n",
      "\u001b[32m2024-11-13 18:31:17.305\u001b[0m [ \u001b[34m\u001b[1m🐞\u001b[0m ] \u001b[34m\u001b[1mProcessed 25000 data points\u001b[0m\n",
      "\u001b[32m2024-11-13 18:31:21.040\u001b[0m [ \u001b[34m\u001b[1m🐞\u001b[0m ] \u001b[34m\u001b[1mProcessed 26000 data points\u001b[0m\n",
      "\u001b[32m2024-11-13 18:31:24.905\u001b[0m [ \u001b[34m\u001b[1m🐞\u001b[0m ] \u001b[34m\u001b[1mProcessed 27000 data points\u001b[0m\n",
      "\u001b[32m2024-11-13 18:31:25.243\u001b[0m [ \u001b[1mℹ️\u001b[0m ] \u001b[1mETHUSDT executions listening has been stopped\u001b[0m\n",
      "\u001b[32m2024-11-13 18:31:25.244\u001b[0m [ \u001b[1mℹ️\u001b[0m ] \u001b[1mETHUSDT executions listening has been stopped\u001b[0m\n",
      "\u001b[32m2024-11-13 18:31:25.244\u001b[0m [ \u001b[1mℹ️\u001b[0m ] \u001b[1mETHUSDT executions listening has been stopped\u001b[0m\n",
      "\u001b[32m2024-11-13 18:31:25.244\u001b[0m [ \u001b[1mℹ️\u001b[0m ] \u001b[1mBTCUSDT executions listening has been stopped\u001b[0m\n",
      "\u001b[32m2024-11-13 18:31:25.245\u001b[0m [ \u001b[1mℹ️\u001b[0m ] \u001b[1mBTCUSDT executions listening has been stopped\u001b[0m\n",
      "\u001b[32m2024-11-13 18:31:25.245\u001b[0m [ \u001b[1mℹ️\u001b[0m ] \u001b[1mBTCUSDT executions listening has been stopped\u001b[0m\n",
      "\u001b[32m2024-11-13 18:31:25.249\u001b[0m [ \u001b[1mℹ️\u001b[0m ] \u001b[1mBTCUSDT,ETHUSDT ohlc (warmup_period=1h) listening has been stopped\u001b[0m\n",
      "\u001b[32m2024-11-13 18:31:25.249\u001b[0m [ \u001b[1mℹ️\u001b[0m ] \u001b[1mBTCUSDT,ETHUSDT trade (warmup_period=1m) listening has been stopped\u001b[0m\n",
      "\u001b[32m2024-11-13 18:31:25.249\u001b[0m [ \u001b[1mℹ️\u001b[0m ] \u001b[1mBTCUSDT,ETHUSDT orderbook (warmup_period=1m) listening has been stopped\u001b[0m\n",
      "\u001b[32m2024-11-13 18:31:25.501\u001b[0m [ \u001b[1mℹ️\u001b[0m ] \u001b[1m(StrategyContext) Market data processing stopped\u001b[0m\n"
     ]
    }
   ],
   "source": [
    "import os\n",
    "import dotenv\n",
    "from qubx import QubxLogConfig\n",
    "from qubx.utils.runner import run_ccxt_trading\n",
    "\n",
    "\n",
    "QubxLogConfig.set_log_level(\"DEBUG\")\n",
    "\n",
    "\n",
    "class TradeTestStrat(IStrategy):\n",
    "    _data_counter: int = 0\n",
    "\n",
    "    def on_init(self, ctx: IStrategyContext):\n",
    "        ctx.set_base_subscription(SubscriptionType.OHLC, timeframe=\"1m\")\n",
    "        ctx.set_warmup(SubscriptionType.OHLC, \"1h\")\n",
    "        ctx.set_event_schedule(\"@hourly\")\n",
    "    \n",
    "    def on_market_data(self, ctx: IStrategyContext, data: MarketEvent):\n",
    "        self._data_counter += 1\n",
    "        if self._data_counter % 1000 == 0:\n",
    "            logger.debug(f\"Processed {self._data_counter} data points\")\n",
    "\n",
    "    def on_universe_change(\n",
    "        self, ctx: IStrategyContext, add_instruments: list[Instrument], rm_instruments: list[Instrument]\n",
    "    ):\n",
    "        if add_instruments:\n",
    "            _sub_to_params = ctx.get_subscriptions(ctx.instruments[0])\n",
    "            for sub, params in _sub_to_params.items():\n",
    "                ctx.subscribe(add_instruments, sub, **params)\n",
    "\n",
    "\n",
    "dotenv.load_dotenv(\n",
    "    \"/mnt/HC_Volume_100695026/home/shared/devs/Qubx/debug/.env.binance.yuriy\"\n",
    ")\n",
    "\n",
    "credentials = {\n",
    "    \"apiKey\": os.getenv(\"BINANCE_KEY\"),\n",
    "    \"secret\": os.getenv(\"BINANCE_SECRET\")\n",
    "}\n",
    "\n",
    "ctx = run_ccxt_trading(\n",
    "    strategy=(stg := TradeTestStrat()),\n",
    "    exchange=\"BINANCE\",\n",
    "    symbols=[\"BTCUSDT\", \"ETHUSDT\"],\n",
    "    credentials=credentials,\n",
    "    blocking=False,\n",
    ")"
   ]
  },
  {
   "cell_type": "code",
   "execution_count": 10,
   "metadata": {},
   "outputs": [
    {
     "data": {
      "text/plain": [
       "17.05809094"
      ]
     },
     "execution_count": 10,
     "metadata": {},
     "output_type": "execute_result"
    }
   ],
   "source": [
    "ctx.get_total_capital()"
   ]
  },
  {
   "cell_type": "code",
   "execution_count": 14,
   "metadata": {},
   "outputs": [
    {
     "data": {
      "text/html": [
       "<div>\n",
       "<style scoped>\n",
       "    .dataframe tbody tr th:only-of-type {\n",
       "        vertical-align: middle;\n",
       "    }\n",
       "\n",
       "    .dataframe tbody tr th {\n",
       "        vertical-align: top;\n",
       "    }\n",
       "\n",
       "    .dataframe thead th {\n",
       "        text-align: right;\n",
       "    }\n",
       "</style>\n",
       "<table border=\"1\" class=\"dataframe\">\n",
       "  <thead>\n",
       "    <tr style=\"text-align: right;\">\n",
       "      <th></th>\n",
       "      <th>open</th>\n",
       "      <th>high</th>\n",
       "      <th>low</th>\n",
       "      <th>close</th>\n",
       "      <th>volume</th>\n",
       "      <th>bought_volume</th>\n",
       "    </tr>\n",
       "    <tr>\n",
       "      <th>timestamp</th>\n",
       "      <th></th>\n",
       "      <th></th>\n",
       "      <th></th>\n",
       "      <th></th>\n",
       "      <th></th>\n",
       "      <th></th>\n",
       "    </tr>\n",
       "  </thead>\n",
       "  <tbody>\n",
       "    <tr>\n",
       "      <th>2024-11-13 18:24:00</th>\n",
       "      <td>92810.29</td>\n",
       "      <td>92810.30</td>\n",
       "      <td>92672.00</td>\n",
       "      <td>92693.99</td>\n",
       "      <td>3.667641e+06</td>\n",
       "      <td>1.209412e+06</td>\n",
       "    </tr>\n",
       "    <tr>\n",
       "      <th>2024-11-13 18:25:00</th>\n",
       "      <td>92693.99</td>\n",
       "      <td>92751.29</td>\n",
       "      <td>92540.01</td>\n",
       "      <td>92599.99</td>\n",
       "      <td>7.754366e+06</td>\n",
       "      <td>5.357839e+06</td>\n",
       "    </tr>\n",
       "    <tr>\n",
       "      <th>2024-11-13 18:26:00</th>\n",
       "      <td>92599.99</td>\n",
       "      <td>92618.32</td>\n",
       "      <td>92504.86</td>\n",
       "      <td>92572.22</td>\n",
       "      <td>3.638763e+06</td>\n",
       "      <td>1.333537e+06</td>\n",
       "    </tr>\n",
       "    <tr>\n",
       "      <th>2024-11-13 18:27:00</th>\n",
       "      <td>92572.23</td>\n",
       "      <td>92661.25</td>\n",
       "      <td>92564.95</td>\n",
       "      <td>92659.10</td>\n",
       "      <td>1.885044e+06</td>\n",
       "      <td>5.906647e+05</td>\n",
       "    </tr>\n",
       "    <tr>\n",
       "      <th>2024-11-13 18:28:00</th>\n",
       "      <td>92659.09</td>\n",
       "      <td>92712.00</td>\n",
       "      <td>92618.01</td>\n",
       "      <td>92626.88</td>\n",
       "      <td>1.449182e+06</td>\n",
       "      <td>4.500472e+05</td>\n",
       "    </tr>\n",
       "  </tbody>\n",
       "</table>\n",
       "</div>"
      ],
      "text/plain": [
       "                         open      high       low     close        volume  \\\n",
       "timestamp                                                                   \n",
       "2024-11-13 18:24:00  92810.29  92810.30  92672.00  92693.99  3.667641e+06   \n",
       "2024-11-13 18:25:00  92693.99  92751.29  92540.01  92599.99  7.754366e+06   \n",
       "2024-11-13 18:26:00  92599.99  92618.32  92504.86  92572.22  3.638763e+06   \n",
       "2024-11-13 18:27:00  92572.23  92661.25  92564.95  92659.10  1.885044e+06   \n",
       "2024-11-13 18:28:00  92659.09  92712.00  92618.01  92626.88  1.449182e+06   \n",
       "\n",
       "                     bought_volume  \n",
       "timestamp                           \n",
       "2024-11-13 18:24:00   1.209412e+06  \n",
       "2024-11-13 18:25:00   5.357839e+06  \n",
       "2024-11-13 18:26:00   1.333537e+06  \n",
       "2024-11-13 18:27:00   5.906647e+05  \n",
       "2024-11-13 18:28:00   4.500472e+05  "
      ]
     },
     "execution_count": 14,
     "metadata": {},
     "output_type": "execute_result"
    }
   ],
   "source": [
    "ctx.ohlc(ctx.instruments[0]).pd().tail()"
   ]
  },
  {
   "cell_type": "code",
   "execution_count": 15,
   "metadata": {},
   "outputs": [
    {
     "data": {
      "text/plain": [
       "Order(id='32397996623', type='LIMIT', instrument=BINANCE:CRYPTO:BTCUSDT, time=Timestamp('2024-11-13 18:29:01.332000'), quantity=0.00019, price=88000.0, side='BUY', status='NEW', time_in_force='GTC', client_id='TradeTestStrat_BTCUSDT_17315225413', cost=0.0, options={})"
      ]
     },
     "execution_count": 15,
     "metadata": {},
     "output_type": "execute_result"
    }
   ],
   "source": [
    "o = ctx.trade(ctx.instruments[0], amount=0.00019, price=88000)\n",
    "o"
   ]
  },
  {
   "cell_type": "code",
   "execution_count": 16,
   "metadata": {},
   "outputs": [],
   "source": [
    "ctx.cancel_order(o.id)"
   ]
  },
  {
   "cell_type": "code",
   "execution_count": 17,
   "metadata": {},
   "outputs": [],
   "source": [
    "ctx.subscribe(ctx.instruments, SubscriptionType.TRADE)"
   ]
  },
  {
   "cell_type": "code",
   "execution_count": null,
   "metadata": {},
   "outputs": [],
   "source": [
    "ctx.unsubscribe(ctx.instruments, SubscriptionType.TRADE)"
   ]
  },
  {
   "cell_type": "code",
   "execution_count": null,
   "metadata": {},
   "outputs": [],
   "source": [
    "ctx.get_data(ctx.instruments[0], SubscriptionType.TRADE)[-5:]"
   ]
  },
  {
   "cell_type": "code",
   "execution_count": null,
   "metadata": {},
   "outputs": [],
   "source": [
    "ctx.set_universe([ctx.instruments[0]])"
   ]
  },
  {
   "cell_type": "code",
   "execution_count": 18,
   "metadata": {},
   "outputs": [],
   "source": [
    "ctx.subscribe(ctx.instruments, SubscriptionType.ORDERBOOK)"
   ]
  },
  {
   "cell_type": "code",
   "execution_count": null,
   "metadata": {},
   "outputs": [],
   "source": [
    "ctx.unsubscribe(ctx.instruments, SubscriptionType.ORDERBOOK)"
   ]
  },
  {
   "cell_type": "code",
   "execution_count": 22,
   "metadata": {},
   "outputs": [
    {
     "data": {
      "text/plain": [
       "[[2024-11-13T18:30:34.078000000]\t92689.37000 (0.00) take 4066180607,\n",
       " [2024-11-13T18:30:34.078000000]\t92689.37000 (0.00) take 4066180608,\n",
       " [2024-11-13T18:30:34.078000000]\t92689.37000 (0.00) take 4066180609,\n",
       " [2024-11-13T18:30:34.078000000]\t92689.37000 (0.00) take 4066180610,\n",
       " [2024-11-13T18:30:34.078000000]\t92689.37000 (0.00) take 4066180611]"
      ]
     },
     "execution_count": 22,
     "metadata": {},
     "output_type": "execute_result"
    }
   ],
   "source": [
    "ctx.get_data(ctx.instruments[0], SubscriptionType.TRADE)[-5:]"
   ]
  },
  {
   "cell_type": "code",
   "execution_count": 23,
   "metadata": {},
   "outputs": [
    {
     "data": {
      "text/plain": [
       "[[2024-11-13T18:30:43.213000000] 92687.4 (5.00577) | 92687.41 (2.88649),\n",
       " [2024-11-13T18:30:43.313000000] 92687.4 (5.36551) | 92687.41 (0.74832),\n",
       " [2024-11-13T18:30:43.413000000] 92687.4 (4.57564) | 92687.41 (0.41051),\n",
       " [2024-11-13T18:30:43.513000000] 92687.4 (4.58619) | 92687.41 (0.55437),\n",
       " [2024-11-13T18:30:43.613000000] 92687.4 (4.58658) | 92687.41 (0.55437)]"
      ]
     },
     "execution_count": 23,
     "metadata": {},
     "output_type": "execute_result"
    }
   ],
   "source": [
    "ctx.get_data(ctx.instruments[0], SubscriptionType.ORDERBOOK)[-5:]"
   ]
  },
  {
   "cell_type": "code",
   "execution_count": 25,
   "metadata": {},
   "outputs": [
    {
     "data": {
      "text/plain": [
       "[2024-11-13T18:31:11.513000000]\t92536.88000 (1.6) | 92536.89000 (2.6)"
      ]
     },
     "execution_count": 25,
     "metadata": {},
     "output_type": "execute_result"
    }
   ],
   "source": [
    "i1 = ctx.instruments[0]\n",
    "q = ctx.quote(i1)\n",
    "q"
   ]
  },
  {
   "cell_type": "code",
   "execution_count": 26,
   "metadata": {},
   "outputs": [],
   "source": [
    "ctx.stop()"
   ]
  },
  {
   "cell_type": "code",
   "execution_count": null,
   "metadata": {},
   "outputs": [],
   "source": [
    "pd.Timedelta(\"1h\").seconds"
   ]
  },
  {
   "cell_type": "markdown",
   "metadata": {},
   "source": [
    "### Tmp stuff"
   ]
  },
  {
   "cell_type": "code",
   "execution_count": null,
   "metadata": {},
   "outputs": [],
   "source": [
    "from qubx.connectors.ccxt.ccxt_customizations import BinanceQV\n",
    "\n",
    "\n",
    "binance = BinanceQV(credentials)"
   ]
  },
  {
   "cell_type": "code",
   "execution_count": null,
   "metadata": {},
   "outputs": [],
   "source": [
    "import asyncio\n",
    "\n",
    "ohlcv = None\n",
    "\n",
    "async def example():\n",
    "    global ohlcv\n",
    "    subscriptions = [[\"BTCUSDT\", \"1m\"]]\n",
    "    try:\n",
    "        while True:\n",
    "            ohlcv = await binance.watch_ohlcv_for_symbols(subscriptions)\n",
    "            print(pd.Timestamp(list(list(ohlcv.values())[0].values())[0][0][0], unit='ms'))\n",
    "            print(ohlcv)\n",
    "    except asyncio.CancelledError:\n",
    "        print(\"Keyboard interrupt received, exiting...\")\n",
    "\n",
    "await example()"
   ]
  },
  {
   "cell_type": "code",
   "execution_count": null,
   "metadata": {},
   "outputs": [],
   "source": []
  }
 ],
 "metadata": {
  "kernelspec": {
   "display_name": "xincubator",
   "language": "python",
   "name": "xincubator"
  }
 },
 "nbformat": 4,
 "nbformat_minor": 2
}
