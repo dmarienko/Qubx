{
 "cells": [
  {
   "cell_type": "code",
   "execution_count": 1,
   "metadata": {},
   "outputs": [
    {
     "name": "stdout",
     "output_type": "stream",
     "text": [
      "\n",
      "⠀⠀⡰⡖⠒⠒⢒⢦⠀⠀   \n",
      "⠀⢠⠃⠈⢆⣀⣎⣀⣱⡀  \u001b[31mQUBX\u001b[0m | \u001b[36mQuantitative Backtesting Environment\u001b[0m \n",
      "⠀⢳⠒⠒⡞⠚⡄⠀⡰⠁         (c) 2024, ver. \u001b[35m0.4.0\u001b[0m\n",
      "⠀⠀⠱⣜⣀⣀⣈⣦⠃⠀⠀⠀ \n",
      "        \n"
     ]
    }
   ],
   "source": [
    "%load_ext autoreload\n",
    "%autoreload 2\n",
    "\n",
    "import qubx\n",
    "%qubxd\n",
    "\n",
    "import time\n",
    "import pandas as pd\n",
    "import matplotlib.pyplot as plt\n",
    "from typing import Any\n",
    "from pathlib import Path\n",
    "from IPython.display import clear_output\n",
    "from collections import defaultdict\n",
    "\n",
    "import os\n",
    "import dotenv\n",
    "from qubx import QubxLogConfig\n",
    "from qubx.utils.runner import run_ccxt_trading\n",
    "\n",
    "from qubx import lookup, logger, QubxLogConfig\n",
    "from qubx.core.basics import TriggerEvent, Trade, MarketEvent, Instrument, SubscriptionType\n",
    "from qubx.core.interfaces import IStrategyContext, IStrategy\n",
    "from qubx.connectors.ccxt.ccxt_connector import CCXTExchangesConnector\n",
    "from qubx.connectors.ccxt.ccxt_trading import CCXTTradingConnector\n",
    "from qubx.utils.runner import get_account_config\n",
    "from qubx.pandaz import scols\n",
    "from qubx.backtester.simulator import SimulatedTrading\n",
    "from qubx.utils.runner import run_ccxt_paper_trading\n",
    "from qubx.utils.collections import TimeLimitedDeque"
   ]
  },
  {
   "cell_type": "markdown",
   "metadata": {},
   "source": [
    "## 1.0 Live paper trading"
   ]
  },
  {
   "cell_type": "code",
   "execution_count": null,
   "metadata": {},
   "outputs": [],
   "source": [
    "class TradeTestStrat(IStrategy):\n",
    "    _data_counter: int = 0\n",
    "    _data_to_buffer: dict[tuple[str, Instrument], TimeLimitedDeque]\n",
    "\n",
    "    def on_init(self, ctx: IStrategyContext):\n",
    "        # ctx.set_base_subscription(SubscriptionType.ORDERBOOK)\n",
    "        # ctx.set_base_subscription(SubscriptionType.OHLC)\n",
    "        # ctx.set_warmup(SubscriptionType.OHLC, \"1h\")\n",
    "        ctx.set_base_subscription(SubscriptionType.TRADE)\n",
    "        self._data_to_buffer = defaultdict(lambda: TimeLimitedDeque(\"1Min\", lambda x: x.time, unit=\"ns\"))\n",
    "\n",
    "    def on_market_data(self, ctx: IStrategyContext, data: MarketEvent):\n",
    "        self._data_counter += 1\n",
    "        self._data_to_buffer[(data.type, data.instrument)].append(data.data)\n",
    "        if self._data_counter % 1000 == 0:\n",
    "            logger.debug(f\"Processed {self._data_counter} data points\")\n",
    "\n",
    "    def on_universe_change(\n",
    "        self, ctx: IStrategyContext, add_instruments: list[Instrument], rm_instruments: list[Instrument]\n",
    "    ):\n",
    "        if add_instruments:\n",
    "            _sub_to_params = ctx.get_subscriptions(ctx.instruments[0])\n",
    "            for sub, params in _sub_to_params.items():\n",
    "                ctx.subscribe(add_instruments, sub, **params)\n",
    "\n",
    "    def get_data(self, type: str, instrument: Instrument) -> list:\n",
    "        return list(self._data_to_buffer[(type, instrument)])\n",
    "\n",
    "\n",
    "ctx = run_ccxt_paper_trading(\n",
    "    strategy=(stg := TradeTestStrat()),\n",
    "    exchange=\"BINANCE.UM\",\n",
    "    symbols=[\"BTCUSDT\", \"ETHUSDT\"],\n",
    "    # symbols=[\"BTCUSDT\", \"ETHUSDT\", \"ADAUSDT\", \"XRPUSDT\"],\n",
    "    blocking=False,\n",
    ")"
   ]
  },
  {
   "cell_type": "code",
   "execution_count": null,
   "metadata": {},
   "outputs": [],
   "source": [
    "ctx.stop()"
   ]
  },
  {
   "cell_type": "code",
   "execution_count": null,
   "metadata": {},
   "outputs": [],
   "source": [
    "ctx.get_data(ctx.instruments[0], SubscriptionType.TRADE)[-5:]"
   ]
  },
  {
   "cell_type": "code",
   "execution_count": null,
   "metadata": {},
   "outputs": [],
   "source": [
    "len(ctx.get_data(ctx.instruments[0], SubscriptionType.TRADE))"
   ]
  },
  {
   "cell_type": "code",
   "execution_count": null,
   "metadata": {},
   "outputs": [],
   "source": [
    "i1 = ctx.instruments[1]\n",
    "obs = stg.get_data(\"ohlc\", i1)\n",
    "print(f\"Instrument: {i1}\")\n",
    "for i in range(1, 5):\n",
    "    print(obs[-i])"
   ]
  },
  {
   "cell_type": "markdown",
   "metadata": {},
   "source": [
    "### Add trade subscription and remove it"
   ]
  },
  {
   "cell_type": "code",
   "execution_count": null,
   "metadata": {},
   "outputs": [],
   "source": [
    "ctx.subscribe(ctx.instruments, SubscriptionType.TRADE)"
   ]
  },
  {
   "cell_type": "code",
   "execution_count": null,
   "metadata": {},
   "outputs": [],
   "source": [
    "trades = stg.get_data(\"trade\", ctx.instruments[0])\n",
    "trades[-5:]"
   ]
  },
  {
   "cell_type": "code",
   "execution_count": null,
   "metadata": {},
   "outputs": [],
   "source": [
    "stg.ctx.unsubscribe(ctx.instruments, SubscriptionType.TRADE)"
   ]
  },
  {
   "cell_type": "markdown",
   "metadata": {},
   "source": [
    "### Add new instrument to the universe"
   ]
  },
  {
   "cell_type": "code",
   "execution_count": null,
   "metadata": {},
   "outputs": [],
   "source": [
    "s1 = lookup.find_symbol(\"BINANCE.UM\", \"XRPUSDT\"); assert s1 is not None\n",
    "ctx.set_universe(list(set(ctx.instruments) | {s1}))"
   ]
  },
  {
   "cell_type": "code",
   "execution_count": null,
   "metadata": {},
   "outputs": [],
   "source": [
    "new_instruments = ctx.instruments[-2:]\n",
    "print(new_instruments)\n",
    "ctx.set_universe(new_instruments)"
   ]
  },
  {
   "cell_type": "code",
   "execution_count": null,
   "metadata": {},
   "outputs": [],
   "source": [
    "obs = stg.get_data(\"orderbook\", s1)\n",
    "obs[-1]"
   ]
  },
  {
   "cell_type": "code",
   "execution_count": null,
   "metadata": {},
   "outputs": [],
   "source": [
    "s2 = lookup.find_symbol(\"BINANCE.UM\", \"ADAUSDT\"); assert s2 is not None\n",
    "stg.ctx.set_universe(list(set(stg.ctx.instruments) | {s2}))"
   ]
  },
  {
   "cell_type": "code",
   "execution_count": null,
   "metadata": {},
   "outputs": [],
   "source": [
    "trades = stg.get_data(\"trade\", s2)\n",
    "trades[-5:]"
   ]
  },
  {
   "cell_type": "code",
   "execution_count": null,
   "metadata": {},
   "outputs": [],
   "source": [
    "ctx.stop()"
   ]
  },
  {
   "cell_type": "markdown",
   "metadata": {},
   "source": [
    "## 2.0 Live execution"
   ]
  },
  {
   "cell_type": "code",
   "execution_count": null,
   "metadata": {},
   "outputs": [
    {
     "name": "stdout",
     "output_type": "stream",
     "text": [
      "\u001b[32m2024-11-15 09:41:25.487\u001b[0m [ \u001b[1mℹ️\u001b[0m ] \u001b[1mBINANCE loading ...\u001b[0m\n",
      "\u001b[32m2024-11-15 09:41:28.763\u001b[0m [ \u001b[34m\u001b[1m🐞\u001b[0m ] \u001b[34m\u001b[1mNTP offset controller thread is started\u001b[0m\n",
      "\u001b[32m2024-11-15 09:41:28.790\u001b[0m [ \u001b[1mℹ️\u001b[0m ] \u001b[1mbinance initialized - current time 2024-11-15T09:41:28.774249728\u001b[0m\n",
      "\u001b[32m2024-11-15 09:41:28.790\u001b[0m [ \u001b[1mℹ️\u001b[0m ] \u001b[1mLoading account data for Binance\u001b[0m\n",
      "\u001b[32m2024-11-15 09:41:29.517\u001b[0m [ \u001b[33m\u001b[1m⚠️\u001b[0m ] \u001b[36mqubx.connectors.ccxt.ccxt_utils\u001b[0m:\u001b[36mccxt_restore_position_from_deals\u001b[0m:\u001b[36m102\u001b[0m - \u001b[33m\u001b[1mCouldn't restore full deals history for BTCUSDT symbol. Qubx will use zero position !\u001b[0m\n",
      "\u001b[32m2024-11-15 09:41:30.007\u001b[0m [ \u001b[33m\u001b[1m⚠️\u001b[0m ] \u001b[36mqubx.connectors.ccxt.ccxt_utils\u001b[0m:\u001b[36mccxt_restore_position_from_deals\u001b[0m:\u001b[36m102\u001b[0m - \u001b[33m\u001b[1mCouldn't restore full deals history for ETHUSDT symbol. Qubx will use zero position !\u001b[0m\n",
      "\u001b[32m2024-11-15 09:41:30.010\u001b[0m [ \u001b[34m\u001b[1m🐞\u001b[0m ] \u001b[34m\u001b[1mRunning OHLC warmup for {BINANCE:CRYPTO:BTCUSDT, BINANCE:CRYPTO:ETHUSDT} with period 1h\u001b[0m\n",
      "\u001b[32m2024-11-15 09:41:30.010\u001b[0m [ \u001b[34m\u001b[1m🐞\u001b[0m ] \u001b[34m\u001b[1mListening to BTCUSDT executions\u001b[0m\n",
      "\u001b[32m2024-11-15 09:41:30.011\u001b[0m [ \u001b[34m\u001b[1m🐞\u001b[0m ] \u001b[34m\u001b[1mListening to ETHUSDT executions\u001b[0m\n",
      "\u001b[32m2024-11-15 09:41:30.012\u001b[0m [ \u001b[1mℹ️\u001b[0m ] \u001b[1m(StrategyContext) Start processing market data\u001b[0m\n",
      "\u001b[32m2024-11-15 09:41:30.013\u001b[0m [ \u001b[1mℹ️\u001b[0m ] \u001b[1m(StrategyContext) strategy is started in thread\u001b[0m\n"
     ]
    },
    {
     "name": "stdout",
     "output_type": "stream",
     "text": [
      "\u001b[32m2024-11-15 09:41:32.280\u001b[0m [ \u001b[1mℹ️\u001b[0m ] \u001b[1mBINANCE:CRYPTO:BTCUSDT: loaded 60 1m bars\u001b[0m\n",
      "\u001b[32m2024-11-15 09:41:32.281\u001b[0m [ \u001b[34m\u001b[1m🐞\u001b[0m ] \u001b[34m\u001b[1mInvoking \u001b[32mTradeTestStrat\u001b[0m\u001b[34m\u001b[1m on_fit\u001b[0m\n",
      "\u001b[32m2024-11-15 09:41:32.282\u001b[0m [ \u001b[34m\u001b[1m🐞\u001b[0m ] \u001b[34m\u001b[1m\u001b[32mTradeTestStrat\u001b[0m\u001b[34m\u001b[1m is fitted\u001b[0m\n",
      "\u001b[32m2024-11-15 09:41:32.312\u001b[0m [ \u001b[1mℹ️\u001b[0m ] \u001b[1mBINANCE:CRYPTO:ETHUSDT: loaded 60 1m bars\u001b[0m\n",
      "\u001b[32m2024-11-15 09:41:32.313\u001b[0m [ \u001b[34m\u001b[1m🐞\u001b[0m ] \u001b[34m\u001b[1mListening to BTCUSDT,ETHUSDT ohlc (warmup_period=1h)\u001b[0m\n",
      "\u001b[32m2024-11-15 09:41:36.462\u001b[0m [ \u001b[34m\u001b[1m🐞\u001b[0m ] \u001b[34m\u001b[1mNew instruments for trade warmup: {BINANCE:CRYPTO:BTCUSDT, BINANCE:CRYPTO:ETHUSDT}\u001b[0m\n",
      "\u001b[32m2024-11-15 09:41:36.729\u001b[0m [ \u001b[34m\u001b[1m🐞\u001b[0m ] \u001b[34m\u001b[1mLoaded 500 trades for BINANCE:CRYPTO:BTCUSDT\u001b[0m\n",
      "\u001b[32m2024-11-15 09:41:36.749\u001b[0m [ \u001b[34m\u001b[1m🐞\u001b[0m ] \u001b[34m\u001b[1mLoaded 500 trades for BINANCE:CRYPTO:ETHUSDT\u001b[0m\n",
      "\u001b[32m2024-11-15 09:41:36.749\u001b[0m [ \u001b[34m\u001b[1m🐞\u001b[0m ] \u001b[34m\u001b[1mListening to BTCUSDT,ETHUSDT trade (warmup_period=1m)\u001b[0m\n",
      "\u001b[32m2024-11-15 09:41:43.701\u001b[0m [ \u001b[34m\u001b[1m🐞\u001b[0m ] \u001b[34m\u001b[1mProcessed 1000 data points\u001b[0m\n",
      "\u001b[32m2024-11-15 09:41:45.650\u001b[0m [ \u001b[34m\u001b[1m🐞\u001b[0m ] \u001b[34m\u001b[1mProcessed 2000 data points\u001b[0m\n",
      "\u001b[32m2024-11-15 09:41:49.860\u001b[0m [ \u001b[34m\u001b[1m🐞\u001b[0m ] \u001b[34m\u001b[1mProcessed 3000 data points\u001b[0m\n",
      "\u001b[32m2024-11-15 09:41:50.080\u001b[0m [ \u001b[34m\u001b[1m🐞\u001b[0m ] \u001b[34m\u001b[1mCanceling existing trade subscription for {BINANCE:CRYPTO:BTCUSDT, BINANCE:CRYPTO:ETHUSDT}\u001b[0m\n",
      "\u001b[32m2024-11-15 09:42:02.345\u001b[0m [ \u001b[34m\u001b[1m🐞\u001b[0m ] \u001b[34m\u001b[1mListening to BTCUSDT,ETHUSDT trade (warmup_period=1m)\u001b[0m\n",
      "\u001b[32m2024-11-15 09:42:06.341\u001b[0m [ \u001b[34m\u001b[1m🐞\u001b[0m ] \u001b[34m\u001b[1mProcessed 4000 data points\u001b[0m\n",
      "\u001b[32m2024-11-15 09:42:08.046\u001b[0m [ \u001b[34m\u001b[1m🐞\u001b[0m ] \u001b[34m\u001b[1mProcessed 5000 data points\u001b[0m\n",
      "\u001b[32m2024-11-15 09:42:10.354\u001b[0m [ \u001b[34m\u001b[1m🐞\u001b[0m ] \u001b[34m\u001b[1mCanceling existing trade subscription for {BINANCE:CRYPTO:BTCUSDT, BINANCE:CRYPTO:ETHUSDT}\u001b[0m\n",
      "\u001b[32m2024-11-15 09:46:04.376\u001b[0m [ \u001b[1mℹ️\u001b[0m ] \u001b[1mBTCUSDT executions listening has been stopped\u001b[0m\n",
      "\u001b[32m2024-11-15 09:46:04.376\u001b[0m [ \u001b[1mℹ️\u001b[0m ] \u001b[1mETHUSDT executions listening has been stopped\u001b[0m\n",
      "\u001b[32m2024-11-15 09:46:04.378\u001b[0m [ \u001b[1mℹ️\u001b[0m ] \u001b[1mBTCUSDT,ETHUSDT ohlc (warmup_period=1h) listening has been stopped\u001b[0m\n",
      "\u001b[32m2024-11-15 09:46:04.630\u001b[0m [ \u001b[1mℹ️\u001b[0m ] \u001b[1m(StrategyContext) Market data processing stopped\u001b[0m\n"
     ]
    }
   ],
   "source": [
    "QubxLogConfig.set_log_level(\"DEBUG\")\n",
    "\n",
    "\n",
    "class TradeTestStrat(IStrategy):\n",
    "    _data_counter: int = 0\n",
    "\n",
    "    def on_init(self, ctx: IStrategyContext):\n",
    "        ctx.set_base_subscription(SubscriptionType.OHLC, timeframe=\"1m\")\n",
    "        ctx.set_warmup(SubscriptionType.OHLC, \"1h\")\n",
    "    \n",
    "    def on_market_data(self, ctx: IStrategyContext, data: MarketEvent):\n",
    "        self._data_counter += 1\n",
    "        if self._data_counter % 1000 == 0:\n",
    "            logger.debug(f\"Processed {self._data_counter} data points\")\n",
    "\n",
    "    def on_universe_change(\n",
    "        self, ctx: IStrategyContext, add_instruments: list[Instrument], rm_instruments: list[Instrument]\n",
    "    ):\n",
    "        if add_instruments:\n",
    "            _sub_to_params = ctx.get_subscriptions(ctx.instruments[0])\n",
    "            for sub, params in _sub_to_params.items():\n",
    "                ctx.subscribe(add_instruments, sub, **params)\n",
    "\n",
    "\n",
    "dotenv.load_dotenv(\n",
    "    \"/mnt/HC_Volume_100695026/home/shared/devs/Qubx/debug/.env.binance.yuriy\"\n",
    ")\n",
    "\n",
    "credentials = {\n",
    "    \"apiKey\": os.getenv(\"BINANCE_KEY\"),\n",
    "    \"secret\": os.getenv(\"BINANCE_SECRET\")\n",
    "}\n",
    "\n",
    "ctx = run_ccxt_trading(\n",
    "    strategy=(stg := TradeTestStrat()),\n",
    "    exchange=\"BINANCE\",\n",
    "    symbols=[\"BTCUSDT\", \"ETHUSDT\"],\n",
    "    credentials=credentials,\n",
    "    blocking=False,\n",
    ")"
   ]
  },
  {
   "cell_type": "code",
   "execution_count": 24,
   "metadata": {},
   "outputs": [
    {
     "data": {
      "text/plain": [
       "17.05809094"
      ]
     },
     "execution_count": 24,
     "metadata": {},
     "output_type": "execute_result"
    }
   ],
   "source": [
    "ctx.get_total_capital()"
   ]
  },
  {
   "cell_type": "code",
   "execution_count": 26,
   "metadata": {},
   "outputs": [
    {
     "data": {
      "text/html": [
       "<div>\n",
       "<style scoped>\n",
       "    .dataframe tbody tr th:only-of-type {\n",
       "        vertical-align: middle;\n",
       "    }\n",
       "\n",
       "    .dataframe tbody tr th {\n",
       "        vertical-align: top;\n",
       "    }\n",
       "\n",
       "    .dataframe thead th {\n",
       "        text-align: right;\n",
       "    }\n",
       "</style>\n",
       "<table border=\"1\" class=\"dataframe\">\n",
       "  <thead>\n",
       "    <tr style=\"text-align: right;\">\n",
       "      <th></th>\n",
       "      <th>open</th>\n",
       "      <th>high</th>\n",
       "      <th>low</th>\n",
       "      <th>close</th>\n",
       "      <th>volume</th>\n",
       "      <th>bought_volume</th>\n",
       "    </tr>\n",
       "    <tr>\n",
       "      <th>timestamp</th>\n",
       "      <th></th>\n",
       "      <th></th>\n",
       "      <th></th>\n",
       "      <th></th>\n",
       "      <th></th>\n",
       "      <th></th>\n",
       "    </tr>\n",
       "  </thead>\n",
       "  <tbody>\n",
       "    <tr>\n",
       "      <th>2024-11-15 09:34:00</th>\n",
       "      <td>89102.38</td>\n",
       "      <td>89179.79</td>\n",
       "      <td>89076.00</td>\n",
       "      <td>89179.79</td>\n",
       "      <td>2.643599e+06</td>\n",
       "      <td>1.058410e+06</td>\n",
       "    </tr>\n",
       "    <tr>\n",
       "      <th>2024-11-15 09:35:00</th>\n",
       "      <td>89179.79</td>\n",
       "      <td>89350.00</td>\n",
       "      <td>89173.29</td>\n",
       "      <td>89332.25</td>\n",
       "      <td>4.888036e+06</td>\n",
       "      <td>2.760296e+06</td>\n",
       "    </tr>\n",
       "    <tr>\n",
       "      <th>2024-11-15 09:36:00</th>\n",
       "      <td>89332.50</td>\n",
       "      <td>89336.39</td>\n",
       "      <td>89160.00</td>\n",
       "      <td>89227.30</td>\n",
       "      <td>2.649142e+06</td>\n",
       "      <td>1.016469e+06</td>\n",
       "    </tr>\n",
       "    <tr>\n",
       "      <th>2024-11-15 09:37:00</th>\n",
       "      <td>89227.29</td>\n",
       "      <td>89320.00</td>\n",
       "      <td>89227.29</td>\n",
       "      <td>89243.82</td>\n",
       "      <td>1.845508e+06</td>\n",
       "      <td>8.808934e+05</td>\n",
       "    </tr>\n",
       "    <tr>\n",
       "      <th>2024-11-15 09:38:00</th>\n",
       "      <td>89243.83</td>\n",
       "      <td>89312.00</td>\n",
       "      <td>89240.00</td>\n",
       "      <td>89240.00</td>\n",
       "      <td>1.316401e+06</td>\n",
       "      <td>3.701344e+05</td>\n",
       "    </tr>\n",
       "  </tbody>\n",
       "</table>\n",
       "</div>"
      ],
      "text/plain": [
       "                         open      high       low     close        volume  \\\n",
       "timestamp                                                                   \n",
       "2024-11-15 09:34:00  89102.38  89179.79  89076.00  89179.79  2.643599e+06   \n",
       "2024-11-15 09:35:00  89179.79  89350.00  89173.29  89332.25  4.888036e+06   \n",
       "2024-11-15 09:36:00  89332.50  89336.39  89160.00  89227.30  2.649142e+06   \n",
       "2024-11-15 09:37:00  89227.29  89320.00  89227.29  89243.82  1.845508e+06   \n",
       "2024-11-15 09:38:00  89243.83  89312.00  89240.00  89240.00  1.316401e+06   \n",
       "\n",
       "                     bought_volume  \n",
       "timestamp                           \n",
       "2024-11-15 09:34:00   1.058410e+06  \n",
       "2024-11-15 09:35:00   2.760296e+06  \n",
       "2024-11-15 09:36:00   1.016469e+06  \n",
       "2024-11-15 09:37:00   8.808934e+05  \n",
       "2024-11-15 09:38:00   3.701344e+05  "
      ]
     },
     "execution_count": 26,
     "metadata": {},
     "output_type": "execute_result"
    }
   ],
   "source": [
    "ctx.ohlc(ctx.instruments[0]).pd().tail()"
   ]
  },
  {
   "cell_type": "code",
   "execution_count": 15,
   "metadata": {},
   "outputs": [
    {
     "data": {
      "text/plain": [
       "Order(id='32397996623', type='LIMIT', instrument=BINANCE:CRYPTO:BTCUSDT, time=Timestamp('2024-11-13 18:29:01.332000'), quantity=0.00019, price=88000.0, side='BUY', status='NEW', time_in_force='GTC', client_id='TradeTestStrat_BTCUSDT_17315225413', cost=0.0, options={})"
      ]
     },
     "execution_count": 15,
     "metadata": {},
     "output_type": "execute_result"
    }
   ],
   "source": [
    "o = ctx.trade(ctx.instruments[0], amount=0.00019, price=88000)\n",
    "o"
   ]
  },
  {
   "cell_type": "code",
   "execution_count": 16,
   "metadata": {},
   "outputs": [],
   "source": [
    "ctx.cancel_order(o.id)"
   ]
  },
  {
   "cell_type": "code",
   "execution_count": 6,
   "metadata": {},
   "outputs": [],
   "source": [
    "ctx.subscribe(ctx.instruments, SubscriptionType.TRADE)"
   ]
  },
  {
   "cell_type": "code",
   "execution_count": 7,
   "metadata": {},
   "outputs": [],
   "source": [
    "ctx.unsubscribe(ctx.instruments, SubscriptionType.TRADE)"
   ]
  },
  {
   "cell_type": "code",
   "execution_count": null,
   "metadata": {},
   "outputs": [],
   "source": [
    "ctx.get_data(ctx.instruments[0], SubscriptionType.TRADE)[-5:]"
   ]
  },
  {
   "cell_type": "code",
   "execution_count": null,
   "metadata": {},
   "outputs": [],
   "source": [
    "ctx.set_universe([ctx.instruments[0]])"
   ]
  },
  {
   "cell_type": "code",
   "execution_count": 18,
   "metadata": {},
   "outputs": [],
   "source": [
    "ctx.subscribe(ctx.instruments, SubscriptionType.ORDERBOOK)"
   ]
  },
  {
   "cell_type": "code",
   "execution_count": null,
   "metadata": {},
   "outputs": [],
   "source": [
    "ctx.unsubscribe(ctx.instruments, SubscriptionType.ORDERBOOK)"
   ]
  },
  {
   "cell_type": "code",
   "execution_count": 22,
   "metadata": {},
   "outputs": [
    {
     "data": {
      "text/plain": [
       "[[2024-11-13T18:30:34.078000000]\t92689.37000 (0.00) take 4066180607,\n",
       " [2024-11-13T18:30:34.078000000]\t92689.37000 (0.00) take 4066180608,\n",
       " [2024-11-13T18:30:34.078000000]\t92689.37000 (0.00) take 4066180609,\n",
       " [2024-11-13T18:30:34.078000000]\t92689.37000 (0.00) take 4066180610,\n",
       " [2024-11-13T18:30:34.078000000]\t92689.37000 (0.00) take 4066180611]"
      ]
     },
     "execution_count": 22,
     "metadata": {},
     "output_type": "execute_result"
    }
   ],
   "source": [
    "ctx.get_data(ctx.instruments[0], SubscriptionType.TRADE)[-5:]"
   ]
  },
  {
   "cell_type": "code",
   "execution_count": 23,
   "metadata": {},
   "outputs": [
    {
     "data": {
      "text/plain": [
       "[[2024-11-13T18:30:43.213000000] 92687.4 (5.00577) | 92687.41 (2.88649),\n",
       " [2024-11-13T18:30:43.313000000] 92687.4 (5.36551) | 92687.41 (0.74832),\n",
       " [2024-11-13T18:30:43.413000000] 92687.4 (4.57564) | 92687.41 (0.41051),\n",
       " [2024-11-13T18:30:43.513000000] 92687.4 (4.58619) | 92687.41 (0.55437),\n",
       " [2024-11-13T18:30:43.613000000] 92687.4 (4.58658) | 92687.41 (0.55437)]"
      ]
     },
     "execution_count": 23,
     "metadata": {},
     "output_type": "execute_result"
    }
   ],
   "source": [
    "ctx.get_data(ctx.instruments[0], SubscriptionType.ORDERBOOK)[-5:]"
   ]
  },
  {
   "cell_type": "code",
   "execution_count": 25,
   "metadata": {},
   "outputs": [
    {
     "data": {
      "text/plain": [
       "[2024-11-13T18:31:11.513000000]\t92536.88000 (1.6) | 92536.89000 (2.6)"
      ]
     },
     "execution_count": 25,
     "metadata": {},
     "output_type": "execute_result"
    }
   ],
   "source": [
    "i1 = ctx.instruments[0]\n",
    "q = ctx.quote(i1)\n",
    "q"
   ]
  },
  {
   "cell_type": "code",
   "execution_count": 8,
   "metadata": {},
   "outputs": [],
   "source": [
    "ctx.stop()"
   ]
  },
  {
   "cell_type": "code",
   "execution_count": null,
   "metadata": {},
   "outputs": [],
   "source": [
    "pd.Timedelta(\"1h\").seconds"
   ]
  },
  {
   "cell_type": "markdown",
   "metadata": {},
   "source": [
    "## Tmp stuff"
   ]
  },
  {
   "cell_type": "code",
   "execution_count": 2,
   "metadata": {},
   "outputs": [
    {
     "name": "stdout",
     "output_type": "stream",
     "text": [
      "\u001b[32m2024-11-17 12:49:52.256\u001b[0m [ \u001b[1mℹ️\u001b[0m ] \u001b[36m(ccxt_trading)\u001b[0m \u001b[1mBINANCEUSDM loading ...\u001b[0m\n",
      "\u001b[32m2024-11-17 12:49:52.858\u001b[0m [ \u001b[34m\u001b[1m🐞\u001b[0m ] \u001b[36m(ntp)\u001b[0m \u001b[34m\u001b[1mNTP offset controller thread is started\u001b[0m\n",
      "\u001b[32m2024-11-17 12:49:52.888\u001b[0m [ \u001b[1mℹ️\u001b[0m ] \u001b[36m(ccxt_connector)\u001b[0m \u001b[1mbinance.um initialized - current time 2024-11-17T12:49:52.867604992\u001b[0m\n",
      "\u001b[32m2024-11-17 12:49:52.889\u001b[0m [ \u001b[1mℹ️\u001b[0m ] \u001b[36m(ccxt_trading)\u001b[0m \u001b[1mLoading account data for Binance USDⓈ-M\u001b[0m\n",
      "\u001b[32m2024-11-17 12:49:54.099\u001b[0m [ \u001b[34m\u001b[1m🐞\u001b[0m ] \u001b[36m(ccxt_connector)\u001b[0m \u001b[34m\u001b[1mRunning OHLC warmup for {BINANCE.UM:CRYPTO:BTCUSDT} with period 1h\u001b[0m\n",
      "\u001b[32m2024-11-17 12:49:54.100\u001b[0m [ \u001b[34m\u001b[1m🐞\u001b[0m ] \u001b[36m(ccxt_connector)\u001b[0m \u001b[34m\u001b[1mListening to BTCUSDT executions\u001b[0m\n",
      "\u001b[32m2024-11-17 12:49:54.100\u001b[0m [ \u001b[1mℹ️\u001b[0m ] \u001b[36m(ccxt_connector)\u001b[0m \u001b[1mChannel BTCUSDT executions is set to True\u001b[0m\n",
      "\u001b[32m2024-11-17 12:49:54.101\u001b[0m [ \u001b[1mℹ️\u001b[0m ] \u001b[36m(context)\u001b[0m \u001b[1m(StrategyContext) Start processing market data\u001b[0m\n",
      "\u001b[32m2024-11-17 12:49:54.101\u001b[0m [ \u001b[1mℹ️\u001b[0m ] \u001b[36m(context)\u001b[0m \u001b[1m(StrategyContext) strategy is started in thread\u001b[0m\n",
      "\u001b[32m2024-11-17 12:49:55.012\u001b[0m [ \u001b[1mℹ️\u001b[0m ] \u001b[36m(ccxt_connector)\u001b[0m \u001b[1mBINANCE.UM:CRYPTO:BTCUSDT: loaded 60 1m bars\u001b[0m\n",
      "\u001b[32m2024-11-17 12:49:55.013\u001b[0m [ \u001b[34m\u001b[1m🐞\u001b[0m ] \u001b[36m(ccxt_connector)\u001b[0m \u001b[34m\u001b[1mListening to BTCUSDT ohlc (warmup_period=1h)\u001b[0m\n",
      "\u001b[32m2024-11-17 12:49:55.013\u001b[0m [ \u001b[1mℹ️\u001b[0m ] \u001b[36m(ccxt_connector)\u001b[0m \u001b[1mChannel BTCUSDT ohlc (warmup_period=1h) is set to True\u001b[0m\n",
      "\u001b[32m2024-11-17 12:49:55.015\u001b[0m [ \u001b[34m\u001b[1m🐞\u001b[0m ] \u001b[36m(processing)\u001b[0m \u001b[34m\u001b[1mInvoking \u001b[32mTradeTestStrat\u001b[0m\u001b[34m\u001b[1m on_fit\u001b[0m\n",
      "\u001b[32m2024-11-17 12:49:55.015\u001b[0m [ \u001b[34m\u001b[1m🐞\u001b[0m ] \u001b[36m(processing)\u001b[0m \u001b[34m\u001b[1m\u001b[32mTradeTestStrat\u001b[0m\u001b[34m\u001b[1m is fitted\u001b[0m\n",
      "\u001b[32m2024-11-17 12:50:13.192\u001b[0m [ \u001b[34m\u001b[1m🐞\u001b[0m ] \u001b[36m(trading)\u001b[0m \u001b[34m\u001b[1m(StrategyContext) sending market buy for 0.002 of \u001b[32mBTCUSDT\u001b[0m\u001b[34m\u001b[1m @ None ...\u001b[0m\n",
      "\u001b[32m2024-11-17 12:50:13.428\u001b[0m [ \u001b[1mℹ️\u001b[0m ] \u001b[36m(ccxt_trading)\u001b[0m \u001b[1mNew order [4066953611] MARKET BUY 0.002 of BTCUSDT @ 91860.0 (GTC) [CLOSED]\u001b[0m\n",
      "\u001b[32m2024-11-17 12:50:13.455\u001b[0m [ \u001b[34m\u001b[1m🐞\u001b[0m ] \u001b[36m(account)\u001b[0m \u001b[34m\u001b[1mOrder 4066953611 MARKET BUY 0.002 of BINANCE.UM:CRYPTO:BTCUSDT -> OPEN\u001b[0m\n",
      "\u001b[32m2024-11-17 12:50:13.456\u001b[0m [ \u001b[34m\u001b[1m🐞\u001b[0m ] \u001b[36m(account)\u001b[0m \u001b[34m\u001b[1m  ::  traded 0.002 for BINANCE.UM:CRYPTO:BTCUSDT @ 91860.0 -> 0.00\u001b[0m\n",
      "\u001b[32m2024-11-17 12:50:13.457\u001b[0m [ \u001b[34m\u001b[1m🐞\u001b[0m ] \u001b[36m(account)\u001b[0m \u001b[34m\u001b[1mOrder 4066953611 MARKET BUY 0.002 of BINANCE.UM:CRYPTO:BTCUSDT -> CLOSED\u001b[0m\n",
      "\u001b[32m2024-11-17 12:50:13.457\u001b[0m [ \u001b[34m\u001b[1m🐞\u001b[0m ] \u001b[36m(processing)\u001b[0m \u001b[34m\u001b[1m[\u001b[31m4066953611\u001b[0m\u001b[34m\u001b[1m / TradeTestStrat_BTCUSDT_17318478132] : MARKET BUY 0.002 of BTCUSDT  -> [OPEN]\u001b[0m\n",
      "\u001b[32m2024-11-17 12:50:13.458\u001b[0m [ \u001b[34m\u001b[1m🐞\u001b[0m ] \u001b[36m(processing)\u001b[0m \u001b[34m\u001b[1m[\u001b[31m4066953611\u001b[0m\u001b[34m\u001b[1m / TradeTestStrat_BTCUSDT_17318478132] : MARKET BUY 0.002 of BTCUSDT  @ 91860.0 -> [CLOSED]\u001b[0m\n",
      "\u001b[32m2024-11-17 12:50:13.458\u001b[0m [ \u001b[34m\u001b[1m🐞\u001b[0m ] \u001b[36m(processing)\u001b[0m \u001b[34m\u001b[1mExecuted 0.002 @ 91860.0 of BINANCE.UM:CRYPTO:BTCUSDT for order \u001b[31m4066953611\u001b[0m\u001b[34m\u001b[1m\u001b[0m\n",
      "\u001b[32m2024-11-17 12:50:27.371\u001b[0m [ \u001b[34m\u001b[1m🐞\u001b[0m ] \u001b[36m(trading)\u001b[0m \u001b[34m\u001b[1m(StrategyContext) sending market sell for 0.002 of \u001b[32mBTCUSDT\u001b[0m\u001b[34m\u001b[1m @ None ...\u001b[0m\n",
      "\u001b[32m2024-11-17 12:50:27.608\u001b[0m [ \u001b[1mℹ️\u001b[0m ] \u001b[36m(ccxt_trading)\u001b[0m \u001b[1mNew order [4066953665] MARKET SELL 0.002 of BTCUSDT @ 91800.1 (GTC) [CLOSED]\u001b[0m\n",
      "\u001b[32m2024-11-17 12:50:27.634\u001b[0m [ \u001b[34m\u001b[1m🐞\u001b[0m ] \u001b[36m(account)\u001b[0m \u001b[34m\u001b[1mOrder 4066953665 MARKET SELL 0.002 of BINANCE.UM:CRYPTO:BTCUSDT -> OPEN\u001b[0m\n",
      "\u001b[32m2024-11-17 12:50:27.635\u001b[0m [ \u001b[34m\u001b[1m🐞\u001b[0m ] \u001b[36m(account)\u001b[0m \u001b[34m\u001b[1m  ::  traded -0.002 for BINANCE.UM:CRYPTO:BTCUSDT @ 91800.1 -> -0.12\u001b[0m\n",
      "\u001b[32m2024-11-17 12:50:27.636\u001b[0m [ \u001b[34m\u001b[1m🐞\u001b[0m ] \u001b[36m(account)\u001b[0m \u001b[34m\u001b[1mOrder 4066953665 MARKET SELL 0.002 of BINANCE.UM:CRYPTO:BTCUSDT -> CLOSED\u001b[0m\n",
      "\u001b[32m2024-11-17 12:50:27.637\u001b[0m [ \u001b[34m\u001b[1m🐞\u001b[0m ] \u001b[36m(processing)\u001b[0m \u001b[34m\u001b[1m[\u001b[31m4066953665\u001b[0m\u001b[34m\u001b[1m / TradeTestStrat_BTCUSDT_17318478133] : MARKET SELL 0.002 of BTCUSDT  -> [OPEN]\u001b[0m\n",
      "\u001b[32m2024-11-17 12:50:27.637\u001b[0m [ \u001b[34m\u001b[1m🐞\u001b[0m ] \u001b[36m(processing)\u001b[0m \u001b[34m\u001b[1m[\u001b[31m4066953665\u001b[0m\u001b[34m\u001b[1m / TradeTestStrat_BTCUSDT_17318478133] : MARKET SELL 0.002 of BTCUSDT  @ 91800.1 -> [CLOSED]\u001b[0m\n",
      "\u001b[32m2024-11-17 12:50:27.637\u001b[0m [ \u001b[34m\u001b[1m🐞\u001b[0m ] \u001b[36m(processing)\u001b[0m \u001b[34m\u001b[1mExecuted -0.002 @ 91800.1 of BINANCE.UM:CRYPTO:BTCUSDT for order \u001b[31m4066953665\u001b[0m\u001b[34m\u001b[1m\u001b[0m\n",
      "\u001b[32m2024-11-17 12:50:41.669\u001b[0m [ \u001b[1mℹ️\u001b[0m ] \u001b[36m(ccxt_connector)\u001b[0m \u001b[1mBTCUSDT executions listening has been stopped\u001b[0m\n",
      "\u001b[32m2024-11-17 12:50:41.671\u001b[0m [ \u001b[1mℹ️\u001b[0m ] \u001b[36m(ccxt_connector)\u001b[0m \u001b[1mBTCUSDT ohlc (warmup_period=1h) listening has been stopped\u001b[0m\n",
      "\u001b[32m2024-11-17 12:50:41.922\u001b[0m [ \u001b[1mℹ️\u001b[0m ] \u001b[36m(context)\u001b[0m \u001b[1m(StrategyContext) Market data processing stopped\u001b[0m\n"
     ]
    }
   ],
   "source": [
    "class TradeTestStrat(IStrategy):\n",
    "    _data_counter: int = 0\n",
    "\n",
    "    def on_init(self, ctx: IStrategyContext):\n",
    "        ctx.set_base_subscription(SubscriptionType.OHLC, timeframe=\"1m\")\n",
    "        ctx.set_warmup(SubscriptionType.OHLC, \"1h\")\n",
    "    \n",
    "    def on_market_data(self, ctx: IStrategyContext, data: MarketEvent):\n",
    "        self._data_counter += 1\n",
    "        if self._data_counter % 1000 == 0:\n",
    "            logger.debug(f\"Processed {self._data_counter} data points\")\n",
    "\n",
    "    def on_universe_change(\n",
    "        self, ctx: IStrategyContext, add_instruments: list[Instrument], rm_instruments: list[Instrument]\n",
    "    ):\n",
    "        if add_instruments:\n",
    "            _sub_to_params = ctx.get_subscriptions(ctx.instruments[0])\n",
    "            for sub, params in _sub_to_params.items():\n",
    "                ctx.subscribe(add_instruments, sub, **params)\n",
    "\n",
    "\n",
    "options = dotenv.dotenv_values(\"/mnt/HC_Volume_100695026/home/shared/devs/Qubx/.env.integration\")\n",
    "\n",
    "test_credentials = {\n",
    "    \"BINANCE\": {\n",
    "        \"apiKey\": options[\"BINANCE_SPOT_API_KEY\"],\n",
    "        \"secret\": options[\"BINANCE_SPOT_SECRET\"]\n",
    "    },\n",
    "    \"BINANCE.UM\": {\n",
    "        \"apiKey\": options[\"BINANCE_FUTURES_API_KEY\"],\n",
    "        \"secret\": options[\"BINANCE_FUTURES_SECRET\"]\n",
    "    }\n",
    "}\n",
    "\n",
    "exchange = \"BINANCE.UM\"\n",
    "\n",
    "ctx = run_ccxt_trading(\n",
    "    strategy=(stg := TradeTestStrat()),\n",
    "    exchange=exchange,\n",
    "    symbols=[\"BTCUSDT\"],\n",
    "    credentials=test_credentials[exchange],\n",
    "    blocking=False,\n",
    "    use_testnet=True,\n",
    "    commissions=\"vip0_usdt\",\n",
    ")\n",
    "\n",
    "i1 = ctx.instruments[0]"
   ]
  },
  {
   "cell_type": "code",
   "execution_count": 9,
   "metadata": {},
   "outputs": [],
   "source": [
    "ctx.stop()"
   ]
  },
  {
   "cell_type": "code",
   "execution_count": 3,
   "metadata": {},
   "outputs": [
    {
     "data": {
      "text/html": [
       "<div>\n",
       "<style scoped>\n",
       "    .dataframe tbody tr th:only-of-type {\n",
       "        vertical-align: middle;\n",
       "    }\n",
       "\n",
       "    .dataframe tbody tr th {\n",
       "        vertical-align: top;\n",
       "    }\n",
       "\n",
       "    .dataframe thead th {\n",
       "        text-align: right;\n",
       "    }\n",
       "</style>\n",
       "<table border=\"1\" class=\"dataframe\">\n",
       "  <thead>\n",
       "    <tr style=\"text-align: right;\">\n",
       "      <th></th>\n",
       "      <th>open</th>\n",
       "      <th>high</th>\n",
       "      <th>low</th>\n",
       "      <th>close</th>\n",
       "      <th>volume</th>\n",
       "      <th>bought_volume</th>\n",
       "    </tr>\n",
       "    <tr>\n",
       "      <th>timestamp</th>\n",
       "      <th></th>\n",
       "      <th></th>\n",
       "      <th></th>\n",
       "      <th></th>\n",
       "      <th></th>\n",
       "      <th></th>\n",
       "    </tr>\n",
       "  </thead>\n",
       "  <tbody>\n",
       "    <tr>\n",
       "      <th>2024-11-17 12:45:00</th>\n",
       "      <td>91999.9</td>\n",
       "      <td>92200.0</td>\n",
       "      <td>91775.9</td>\n",
       "      <td>91920.0</td>\n",
       "      <td>693055.5611</td>\n",
       "      <td>687547.2351</td>\n",
       "    </tr>\n",
       "    <tr>\n",
       "      <th>2024-11-17 12:46:00</th>\n",
       "      <td>92199.9</td>\n",
       "      <td>92200.0</td>\n",
       "      <td>91775.8</td>\n",
       "      <td>92200.0</td>\n",
       "      <td>330316.9185</td>\n",
       "      <td>224223.8300</td>\n",
       "    </tr>\n",
       "    <tr>\n",
       "      <th>2024-11-17 12:47:00</th>\n",
       "      <td>91920.0</td>\n",
       "      <td>92199.9</td>\n",
       "      <td>91775.8</td>\n",
       "      <td>91980.0</td>\n",
       "      <td>221621.4388</td>\n",
       "      <td>11892.7275</td>\n",
       "    </tr>\n",
       "    <tr>\n",
       "      <th>2024-11-17 12:48:00</th>\n",
       "      <td>92039.9</td>\n",
       "      <td>92199.9</td>\n",
       "      <td>91700.0</td>\n",
       "      <td>91700.0</td>\n",
       "      <td>560996.7881</td>\n",
       "      <td>12532.8358</td>\n",
       "    </tr>\n",
       "    <tr>\n",
       "      <th>2024-11-17 12:49:00</th>\n",
       "      <td>91700.0</td>\n",
       "      <td>91700.0</td>\n",
       "      <td>91700.0</td>\n",
       "      <td>91700.0</td>\n",
       "      <td>13204.8000</td>\n",
       "      <td>13204.8000</td>\n",
       "    </tr>\n",
       "  </tbody>\n",
       "</table>\n",
       "</div>"
      ],
      "text/plain": [
       "                        open     high      low    close       volume  \\\n",
       "timestamp                                                              \n",
       "2024-11-17 12:45:00  91999.9  92200.0  91775.9  91920.0  693055.5611   \n",
       "2024-11-17 12:46:00  92199.9  92200.0  91775.8  92200.0  330316.9185   \n",
       "2024-11-17 12:47:00  91920.0  92199.9  91775.8  91980.0  221621.4388   \n",
       "2024-11-17 12:48:00  92039.9  92199.9  91700.0  91700.0  560996.7881   \n",
       "2024-11-17 12:49:00  91700.0  91700.0  91700.0  91700.0   13204.8000   \n",
       "\n",
       "                     bought_volume  \n",
       "timestamp                           \n",
       "2024-11-17 12:45:00    687547.2351  \n",
       "2024-11-17 12:46:00    224223.8300  \n",
       "2024-11-17 12:47:00     11892.7275  \n",
       "2024-11-17 12:48:00     12532.8358  \n",
       "2024-11-17 12:49:00     13204.8000  "
      ]
     },
     "execution_count": 3,
     "metadata": {},
     "output_type": "execute_result"
    }
   ],
   "source": [
    "ctx.ohlc(i1).pd().tail()"
   ]
  },
  {
   "cell_type": "code",
   "execution_count": 8,
   "metadata": {},
   "outputs": [
    {
     "data": {
      "text/plain": [
       "2024-11-17 12:50:32 [BINANCE.UM:CRYPTO:BTCUSDT] qty=0.0 entryPrice=0.0000 price=91859.9000 pnl=-0.12 value=0.00"
      ]
     },
     "execution_count": 8,
     "metadata": {},
     "output_type": "execute_result"
    }
   ],
   "source": [
    "pos = ctx.positions[i1]\n",
    "pos"
   ]
  },
  {
   "cell_type": "code",
   "execution_count": 7,
   "metadata": {},
   "outputs": [
    {
     "data": {
      "text/plain": [
       "Order(id='4066953665', type='MARKET', instrument=BINANCE.UM:CRYPTO:BTCUSDT, time=Timestamp('2024-11-17 12:50:27.490000'), quantity=0.002, price=91800.1, side='SELL', status='CLOSED', time_in_force='GTC', client_id='TradeTestStrat_BTCUSDT_17318478133', cost=183.6002, options={})"
      ]
     },
     "execution_count": 7,
     "metadata": {},
     "output_type": "execute_result"
    }
   ],
   "source": [
    "ctx.trade(i1, amount=-0.002)"
   ]
  },
  {
   "cell_type": "code",
   "execution_count": 12,
   "metadata": {},
   "outputs": [],
   "source": [
    "trading_service = ctx._StrategyContext__broker.get_trading_service()"
   ]
  },
  {
   "cell_type": "code",
   "execution_count": 13,
   "metadata": {},
   "outputs": [
    {
     "data": {
      "text/plain": [
       "'binance.um'"
      ]
     },
     "execution_count": 13,
     "metadata": {},
     "output_type": "execute_result"
    }
   ],
   "source": [
    "trading_service.exchange_id"
   ]
  },
  {
   "cell_type": "code",
   "execution_count": null,
   "metadata": {},
   "outputs": [],
   "source": [
    "trading_service.sync.fetch_positions()"
   ]
  },
  {
   "cell_type": "code",
   "execution_count": 9,
   "metadata": {},
   "outputs": [],
   "source": [
    "ctx.stop()"
   ]
  },
  {
   "cell_type": "code",
   "execution_count": 14,
   "metadata": {},
   "outputs": [
    {
     "name": "stdout",
     "output_type": "stream",
     "text": [
      "[{'collateral': 10696.94465186,\n",
      "  'contractSize': 1.0,\n",
      "  'contracts': 1.0,\n",
      "  'datetime': '2024-11-15T14:30:49.311Z',\n",
      "  'entryPrice': 90300.4398,\n",
      "  'hedged': False,\n",
      "  'id': None,\n",
      "  'info': {'adl': '0',\n",
      "           'askNotional': '0',\n",
      "           'bidNotional': '0',\n",
      "           'breakEvenPrice': '90264.31962408',\n",
      "           'entryPrice': '90300.4398',\n",
      "           'initialMargin': '4464.16366421',\n",
      "           'isolatedMargin': '0',\n",
      "           'isolatedWallet': '0',\n",
      "           'liquidationPrice': '100494.90990235',\n",
      "           'maintMargin': '396.41636642',\n",
      "           'marginAsset': 'USDT',\n",
      "           'markPrice': '89283.27328425',\n",
      "           'notional': '-89283.27328425',\n",
      "           'openOrderInitialMargin': '0',\n",
      "           'positionAmt': '-1.000',\n",
      "           'positionInitialMargin': '4464.16366421',\n",
      "           'positionSide': 'BOTH',\n",
      "           'symbol': 'BTCUSDT',\n",
      "           'unRealizedProfit': '1017.16651575',\n",
      "           'updateTime': '1731681049311'},\n",
      "  'initialMargin': 4464.16366421,\n",
      "  'initialMarginPercentage': 0.04999999,\n",
      "  'leverage': None,\n",
      "  'liquidationPrice': 100494.90990235,\n",
      "  'maintenanceMargin': 446.41636642125,\n",
      "  'maintenanceMarginPercentage': 0.005,\n",
      "  'marginMode': 'cross',\n",
      "  'marginRatio': 0.0417,\n",
      "  'marginType': 'cross',\n",
      "  'markPrice': 89283.27328425,\n",
      "  'notional': 89283.27328425,\n",
      "  'percentage': 22.78,\n",
      "  'side': 'short',\n",
      "  'stopLossPrice': None,\n",
      "  'symbol': 'BTC/USDT:USDT',\n",
      "  'takeProfitPrice': None,\n",
      "  'timestamp': 1731681049311,\n",
      "  'unrealizedPnl': 1017.16651575}]\n"
     ]
    }
   ],
   "source": [
    "from pprint import pprint\n",
    "\n",
    "trading_service = ctx._StrategyContext__broker.get_trading_service()\n",
    "\n",
    "pos_info = trading_service.sync.fetch_positions()\n",
    "pprint(pos_info)"
   ]
  },
  {
   "cell_type": "code",
   "execution_count": 29,
   "metadata": {},
   "outputs": [
    {
     "data": {
      "text/plain": [
       "numpy.datetime64('2024-11-15T12:13:36.501')"
      ]
     },
     "execution_count": 29,
     "metadata": {},
     "output_type": "execute_result"
    }
   ],
   "source": [
    "pd.Timestamp(1731672816501, unit=\"ms\").asm8"
   ]
  },
  {
   "cell_type": "code",
   "execution_count": null,
   "metadata": {},
   "outputs": [
    {
     "data": {
      "text/plain": [
       "90000.0"
      ]
     },
     "execution_count": 31,
     "metadata": {},
     "output_type": "execute_result"
    }
   ],
   "source": [
    "from qubx.core.basics import Position\n",
    "\n",
    "\n",
    "def ccxt_construct_position(pos_infos: dict, exchange: str) -> list[Position]:\n",
    "    positions = []\n",
    "    for info in pos_infos:\n",
    "        symbol = info[\"info\"][\"symbol\"]\n",
    "        instr = lookup.find_symbol(exchange, symbol)\n",
    "        if instr is None:\n",
    "            logger.warning(f\"Could not find symbol {symbol}, skipping position...\")\n",
    "            continue\n",
    "        pos = Position(\n",
    "            instrument=instr,\n",
    "            quantity=info[\"contracts\"],\n",
    "            pos_average_price=info[\"entryPrice\"],\n",
    "        )\n",
    "        pos.update_market_price(pd.Timestamp(info[\"timestamp\"], unit=\"ms\").asm8, info[\"markPrice\"], 1)\n",
    "        positions.append(pos)\n",
    "    return positions\n",
    "\n",
    "\n",
    "ccxt_construct_position(pos_info, \"BINANCE.UM\")[0].position_avg_price"
   ]
  },
  {
   "cell_type": "code",
   "execution_count": null,
   "metadata": {},
   "outputs": [],
   "source": []
  },
  {
   "cell_type": "code",
   "execution_count": null,
   "metadata": {},
   "outputs": [],
   "source": [
    "from qubx.connectors.ccxt.ccxt_customizations import BinanceQV\n",
    "\n",
    "\n",
    "binance = BinanceQV(credentials)"
   ]
  },
  {
   "cell_type": "code",
   "execution_count": null,
   "metadata": {},
   "outputs": [],
   "source": [
    "import asyncio\n",
    "\n",
    "ohlcv = None\n",
    "\n",
    "async def example():\n",
    "    global ohlcv\n",
    "    subscriptions = [[\"BTCUSDT\", \"1m\"]]\n",
    "    try:\n",
    "        while True:\n",
    "            ohlcv = await binance.watch_ohlcv_for_symbols(subscriptions)\n",
    "            print(pd.Timestamp(list(list(ohlcv.values())[0].values())[0][0][0], unit='ms'))\n",
    "            print(ohlcv)\n",
    "    except asyncio.CancelledError:\n",
    "        print(\"Keyboard interrupt received, exiting...\")\n",
    "\n",
    "await example()"
   ]
  },
  {
   "cell_type": "code",
   "execution_count": null,
   "metadata": {},
   "outputs": [],
   "source": []
  }
 ],
 "metadata": {
  "kernelspec": {
   "display_name": "xincubator",
   "language": "python",
   "name": "xincubator"
  },
  "language_info": {
   "codemirror_mode": {
    "name": "ipython",
    "version": 3
   },
   "file_extension": ".py",
   "mimetype": "text/x-python",
   "name": "python",
   "nbconvert_exporter": "python",
   "pygments_lexer": "ipython3",
   "version": "3.11.9"
  }
 },
 "nbformat": 4,
 "nbformat_minor": 2
}
