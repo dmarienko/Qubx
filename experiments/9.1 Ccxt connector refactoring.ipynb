{
 "cells": [
  {
   "cell_type": "code",
   "execution_count": 1,
   "metadata": {},
   "outputs": [
    {
     "name": "stdout",
     "output_type": "stream",
     "text": [
      "\n",
      "⠀⠀⡰⡖⠒⠒⢒⢦⠀⠀   \n",
      "⠀⢠⠃⠈⢆⣀⣎⣀⣱⡀  \u001b[31mQUBX\u001b[0m | \u001b[36mQuantitative Backtesting Environment\u001b[0m \n",
      "⠀⢳⠒⠒⡞⠚⡄⠀⡰⠁         (c) 2024, ver. \u001b[35m0.2.82\u001b[0m\n",
      "⠀⠀⠱⣜⣀⣀⣈⣦⠃⠀⠀⠀ \n",
      "        \n"
     ]
    }
   ],
   "source": [
    "%load_ext autoreload\n",
    "%autoreload 2\n",
    "\n",
    "import qubx\n",
    "%qubxd\n",
    "\n",
    "import time\n",
    "import pandas as pd\n",
    "import matplotlib.pyplot as plt\n",
    "from typing import Any\n",
    "from pathlib import Path\n",
    "from IPython.display import clear_output\n",
    "from collections import defaultdict\n",
    "\n",
    "from qubx import lookup, logger, QubxLogConfig\n",
    "from qubx.core.basics import TriggerEvent, Trade, MarketEvent, Instrument\n",
    "from qubx.core.interfaces import IStrategyContext, IStrategy, SubscriptionType\n",
    "from qubx.connectors.ccxt.ccxt_connector import CCXTExchangesConnector\n",
    "from qubx.connectors.ccxt.ccxt_trading import CCXTTradingConnector\n",
    "from qubx.utils.runner import get_account_config\n",
    "from qubx.pandaz import scols\n",
    "from qubx.backtester.simulator import SimulatedTrading\n",
    "from qubx.utils.runner import run_ccxt_paper_trading\n",
    "from qubx.utils.collections import TimeLimitedDeque"
   ]
  },
  {
   "cell_type": "code",
   "execution_count": null,
   "metadata": {},
   "outputs": [
    {
     "name": "stdout",
     "output_type": "stream",
     "text": [
      "\u001b[96m2024-11-13 11:21:36.056\u001b[0m [\u001b[34m\u001b[1m🐞\u001b[0m] \u001b[34m\u001b[1mNTP offset controller thread is started\u001b[0m\n",
      "\u001b[96m2024-11-13 11:21:36.056\u001b[0m [\u001b[1mℹ️\u001b[0m] \u001b[1mbinance.um initialized - current time 2024-11-13T11:21:36.056265\u001b[0m\n",
      "\u001b[96m2024-11-13 11:21:36.056\u001b[0m [\u001b[1mℹ️\u001b[0m] \u001b[1m(StrategyContext) Start processing market data\u001b[0m\n",
      "\u001b[96m2024-11-13 11:21:36.056\u001b[0m [\u001b[1mℹ️\u001b[0m] \u001b[1m(StrategyContext) strategy is started in thread\u001b[0m\n",
      "\u001b[96m2024-11-13 11:21:36.056\u001b[0m [\u001b[34m\u001b[1m🐞\u001b[0m] \u001b[34m\u001b[1mSubscribing to trades warmup period 1m\u001b[0m\n"
     ]
    },
    {
     "name": "stdout",
     "output_type": "stream",
     "text": [
      "\u001b[96m2024-11-13 11:21:36.056\u001b[0m [\u001b[34m\u001b[1m🐞\u001b[0m] \u001b[34m\u001b[1mNew instruments for trade warmup: {BINANCE.UM:CRYPTO:BTCUSDT, BINANCE.UM:CRYPTO:ETHUSDT}\u001b[0m\n",
      "\u001b[96m2024-11-13 11:21:36.056\u001b[0m [\u001b[34m\u001b[1m🐞\u001b[0m] \u001b[34m\u001b[1mLoaded 500 trades for BINANCE.UM:CRYPTO:BTCUSDT\u001b[0m\n",
      "\u001b[96m2024-11-13 11:21:36.056\u001b[0m [\u001b[34m\u001b[1m🐞\u001b[0m] \u001b[34m\u001b[1mInvoking \u001b[32mTradeTestStrat\u001b[0m\u001b[34m\u001b[1m on_fit\u001b[0m\n",
      "\u001b[96m2024-11-13 11:21:36.056\u001b[0m [\u001b[34m\u001b[1m🐞\u001b[0m] \u001b[34m\u001b[1m\u001b[32mTradeTestStrat\u001b[0m\u001b[34m\u001b[1m is fitted\u001b[0m\n",
      "\u001b[96m2024-11-13 11:21:36.056\u001b[0m [\u001b[34m\u001b[1m🐞\u001b[0m] \u001b[34m\u001b[1mLoaded 500 trades for BINANCE.UM:CRYPTO:ETHUSDT\u001b[0m\n",
      "\u001b[96m2024-11-13 11:21:36.056\u001b[0m [\u001b[34m\u001b[1m🐞\u001b[0m] \u001b[34m\u001b[1mListening to BTCUSDT,ETHUSDT trade (warmup_period=1m)\u001b[0m\n",
      "\u001b[96m2024-11-13 11:21:44.061\u001b[0m [\u001b[34m\u001b[1m🐞\u001b[0m] \u001b[34m\u001b[1mProcessed 1000 data points\u001b[0m\n",
      "\u001b[96m2024-11-13 11:21:51.630\u001b[0m [\u001b[34m\u001b[1m🐞\u001b[0m] \u001b[34m\u001b[1mProcessed 2000 data points\u001b[0m\n",
      "\u001b[96m2024-11-13 11:21:58.990\u001b[0m [\u001b[34m\u001b[1m🐞\u001b[0m] \u001b[34m\u001b[1mProcessed 3000 data points\u001b[0m\n",
      "\u001b[96m2024-11-13 11:22:04.391\u001b[0m [\u001b[34m\u001b[1m🐞\u001b[0m] \u001b[34m\u001b[1mProcessed 4000 data points\u001b[0m\n",
      "\u001b[96m2024-11-13 11:22:13.230\u001b[0m [\u001b[1mℹ️\u001b[0m] \u001b[1mBTCUSDT,ETHUSDT trade (warmup_period=1m) listening has been stopped\u001b[0m\n",
      "\u001b[96m2024-11-13 11:22:13.230\u001b[0m [\u001b[1mℹ️\u001b[0m] \u001b[1m(StrategyContext) Market data processing stopped\u001b[0m\n"
     ]
    }
   ],
   "source": [
    "class TradeTestStrat(IStrategy):\n",
    "    _data_counter: int = 0\n",
    "    _data_to_buffer: dict[tuple[str, Instrument], TimeLimitedDeque]\n",
    "\n",
    "    def on_init(self, ctx: IStrategyContext):\n",
    "        # ctx.set_base_subscription(SubscriptionType.ORDERBOOK)\n",
    "        # ctx.set_base_subscription(SubscriptionType.OHLC)\n",
    "        # ctx.set_warmup(SubscriptionType.OHLC, \"1h\")\n",
    "        ctx.set_base_subscription(SubscriptionType.TRADE)\n",
    "        self._data_to_buffer = defaultdict(lambda: TimeLimitedDeque(\"1Min\", lambda x: x.time, unit=\"ns\"))\n",
    "\n",
    "    def on_market_data(self, ctx: IStrategyContext, data: MarketEvent):\n",
    "        self._data_counter += 1\n",
    "        self._data_to_buffer[(data.type, data.instrument)].append(data.data)\n",
    "        if self._data_counter % 1000 == 0:\n",
    "            logger.debug(f\"Processed {self._data_counter} data points\")\n",
    "\n",
    "    def on_universe_change(\n",
    "        self, ctx: IStrategyContext, add_instruments: list[Instrument], rm_instruments: list[Instrument]\n",
    "    ):\n",
    "        if add_instruments:\n",
    "            _sub_to_params = ctx.get_subscriptions(ctx.instruments[0])\n",
    "            for sub, params in _sub_to_params.items():\n",
    "                ctx.subscribe(add_instruments, sub, **params)\n",
    "\n",
    "    def get_data(self, type: str, instrument: Instrument) -> list:\n",
    "        return list(self._data_to_buffer[(type, instrument)])\n",
    "\n",
    "\n",
    "ctx = run_ccxt_paper_trading(\n",
    "    strategy=(stg := TradeTestStrat()),\n",
    "    exchange=\"BINANCE.UM\",\n",
    "    symbols=[\"BTCUSDT\", \"ETHUSDT\"],\n",
    "    # symbols=[\"BTCUSDT\", \"ETHUSDT\", \"ADAUSDT\", \"XRPUSDT\"],\n",
    "    blocking=False,\n",
    ")"
   ]
  },
  {
   "cell_type": "code",
   "execution_count": 4,
   "metadata": {},
   "outputs": [],
   "source": [
    "ctx.stop()"
   ]
  },
  {
   "cell_type": "code",
   "execution_count": 3,
   "metadata": {},
   "outputs": [
    {
     "name": "stdout",
     "output_type": "stream",
     "text": [
      "Instrument: BINANCE.UM:CRYPTO:ETHUSDT\n",
      "{o:3188.440000 | h:3188.440000 | l:3184.550000 | c:3186.600000 | v:6432294.735570}\n",
      "{o:3188.440000 | h:3188.440000 | l:3184.550000 | c:3186.600000 | v:6403459.199030}\n",
      "{o:3188.440000 | h:3188.440000 | l:3184.550000 | c:3186.600000 | v:6395005.149230}\n",
      "{o:3188.440000 | h:3188.440000 | l:3184.550000 | c:3185.890000 | v:6316647.862910}\n"
     ]
    }
   ],
   "source": [
    "i1 = ctx.instruments[1]\n",
    "obs = stg.get_data(\"ohlc\", i1)\n",
    "print(f\"Instrument: {i1}\")\n",
    "for i in range(1, 5):\n",
    "    print(obs[-i])"
   ]
  },
  {
   "cell_type": "markdown",
   "metadata": {},
   "source": [
    "### Add trade subscription and remove it"
   ]
  },
  {
   "cell_type": "code",
   "execution_count": 4,
   "metadata": {},
   "outputs": [],
   "source": [
    "ctx.subscribe(ctx.instruments, SubscriptionType.TRADE)"
   ]
  },
  {
   "cell_type": "code",
   "execution_count": 6,
   "metadata": {},
   "outputs": [
    {
     "data": {
      "text/plain": [
       "[]"
      ]
     },
     "execution_count": 6,
     "metadata": {},
     "output_type": "execute_result"
    }
   ],
   "source": [
    "trades = stg.get_data(\"trade\", ctx.instruments[0])\n",
    "trades[-5:]"
   ]
  },
  {
   "cell_type": "code",
   "execution_count": 8,
   "metadata": {},
   "outputs": [],
   "source": [
    "stg.ctx.unsubscribe(ctx.instruments, SubscriptionType.TRADE)"
   ]
  },
  {
   "cell_type": "markdown",
   "metadata": {},
   "source": [
    "### Add new instrument to the universe"
   ]
  },
  {
   "cell_type": "code",
   "execution_count": 8,
   "metadata": {},
   "outputs": [],
   "source": [
    "s1 = lookup.find_symbol(\"BINANCE.UM\", \"XRPUSDT\"); assert s1 is not None\n",
    "ctx.set_universe(list(set(ctx.instruments) | {s1}))"
   ]
  },
  {
   "cell_type": "code",
   "execution_count": 9,
   "metadata": {},
   "outputs": [
    {
     "name": "stdout",
     "output_type": "stream",
     "text": [
      "[BINANCE.UM:CRYPTO:BTCUSDT, BINANCE.UM:CRYPTO:ETHUSDT]\n"
     ]
    }
   ],
   "source": [
    "new_instruments = ctx.instruments[-2:]\n",
    "print(new_instruments)\n",
    "ctx.set_universe(new_instruments)"
   ]
  },
  {
   "cell_type": "code",
   "execution_count": 10,
   "metadata": {},
   "outputs": [
    {
     "data": {
      "text/plain": [
       "[2024-11-12T21:08:47.761000000] 0.7089 (33121.0) | 0.709 (23100.1)"
      ]
     },
     "execution_count": 10,
     "metadata": {},
     "output_type": "execute_result"
    }
   ],
   "source": [
    "obs = stg.get_data(\"orderbook\", s1)\n",
    "obs[-1]"
   ]
  },
  {
   "cell_type": "code",
   "execution_count": 11,
   "metadata": {},
   "outputs": [],
   "source": [
    "s2 = lookup.find_symbol(\"BINANCE.UM\", \"ADAUSDT\"); assert s2 is not None\n",
    "stg.ctx.set_universe(list(set(stg.ctx.instruments) | {s2}))"
   ]
  },
  {
   "cell_type": "code",
   "execution_count": 13,
   "metadata": {},
   "outputs": [
    {
     "data": {
      "text/plain": [
       "[[2024-11-12T21:10:09.125000000]\t0.57180 (2000.00) take 1206935015,\n",
       " [2024-11-12T21:10:09.125000000]\t0.57180 (720.00) take 1206935016,\n",
       " [2024-11-12T21:10:09.192000000]\t0.57180 (150.00) take 1206935017,\n",
       " [2024-11-12T21:10:09.192000000]\t0.57180 (27.00) take 1206935018,\n",
       " [2024-11-12T21:10:09.232000000]\t0.57190 (106.00) take 1206935019]"
      ]
     },
     "execution_count": 13,
     "metadata": {},
     "output_type": "execute_result"
    }
   ],
   "source": [
    "trades = stg.get_data(\"trade\", s2)\n",
    "trades[-5:]"
   ]
  },
  {
   "cell_type": "code",
   "execution_count": 5,
   "metadata": {},
   "outputs": [],
   "source": [
    "ctx.stop()"
   ]
  },
  {
   "cell_type": "markdown",
   "metadata": {},
   "source": [
    "### Tmp"
   ]
  },
  {
   "cell_type": "code",
   "execution_count": null,
   "metadata": {},
   "outputs": [],
   "source": [
    "import ccxt.pro as cxp\n",
    "\n",
    "binance = cxp.binance()\n",
    "cxp.binance"
   ]
  },
  {
   "cell_type": "code",
   "execution_count": 22,
   "metadata": {},
   "outputs": [],
   "source": [
    "trades = await binance.fetch_trades(\"BTC/USDT\")"
   ]
  },
  {
   "cell_type": "code",
   "execution_count": null,
   "metadata": {},
   "outputs": [],
   "source": [
    "trades[-5:]"
   ]
  },
  {
   "cell_type": "code",
   "execution_count": null,
   "metadata": {},
   "outputs": [],
   "source": []
  }
 ],
 "metadata": {
  "kernelspec": {
   "display_name": "xincubator",
   "language": "python",
   "name": "xincubator"
  },
  "language_info": {
   "codemirror_mode": {
    "name": "ipython",
    "version": 3
   },
   "file_extension": ".py",
   "mimetype": "text/x-python",
   "name": "python",
   "nbconvert_exporter": "python",
   "pygments_lexer": "ipython3",
   "version": "3.11.9"
  }
 },
 "nbformat": 4,
 "nbformat_minor": 2
}
