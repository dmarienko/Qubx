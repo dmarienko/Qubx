{
 "cells": [
  {
   "cell_type": "code",
   "execution_count": null,
   "metadata": {},
   "outputs": [],
   "source": [
    "import sys, os, re; sys.path = ([\"../src/\", \"../\"] if re.match(r'^(\\w\\:\\\\)|(/)', os.getcwd()) else [])+ sys.path \n",
    "from typing import List, Tuple, Dict, Optional, Union\n",
    "\n",
    "import qube\n",
    "%qubed\n",
    "\n",
    "%load_ext autoreload\n",
    "%autoreload 2\n",
    "\n",
    "import tests.qube.ta.utils_for_testing as test\n",
    "from qube.utils import reload_pyx_module\n",
    "from dataclasses import dataclass"
   ]
  },
  {
   "cell_type": "code",
   "execution_count": 21,
   "metadata": {},
   "outputs": [
    {
     "ename": "ImportError",
     "evalue": "module qube.core.series not in sys.modules",
     "output_type": "error",
     "traceback": [
      "\u001b[1;31m---------------------------------------------------------------------------\u001b[0m",
      "\u001b[1;31mImportError\u001b[0m                               Traceback (most recent call last)",
      "Cell \u001b[1;32mIn[21], line 9\u001b[0m\n\u001b[0;32m      2\u001b[0m \u001b[38;5;66;03m# del sys.modules['qube.core.series']; \u001b[39;00m\n\u001b[0;32m      3\u001b[0m \u001b[38;5;66;03m# del sys.modules['qube.ta.indicators']\u001b[39;00m\n\u001b[0;32m      4\u001b[0m \u001b[38;5;66;03m# reload_pyx_module('../src/qube/core/')\u001b[39;00m\n\u001b[0;32m      5\u001b[0m \u001b[38;5;66;03m# reload_pyx_module('../src/qube/ta/')\u001b[39;00m\n\u001b[0;32m      6\u001b[0m \u001b[38;5;66;03m# from qube.core.series import TimeSeries; import qube.ta.indicators; del sys.modules['qube.core.series']; del sys.modules['qube.ta.indicators']\u001b[39;00m\n\u001b[0;32m      7\u001b[0m \u001b[38;5;66;03m# from qube.ta.indicators import (sma, ema, tema, dema, kama)\u001b[39;00m\n\u001b[0;32m      8\u001b[0m reload(qube\u001b[38;5;241m.\u001b[39mta\u001b[38;5;241m.\u001b[39mindicators)\n\u001b[1;32m----> 9\u001b[0m \u001b[43mreload\u001b[49m\u001b[43m(\u001b[49m\u001b[43mqube\u001b[49m\u001b[38;5;241;43m.\u001b[39;49m\u001b[43mcore\u001b[49m\u001b[38;5;241;43m.\u001b[39;49m\u001b[43mseries\u001b[49m\u001b[43m)\u001b[49m\n",
      "File \u001b[1;32m~\\AppData\\Local\\Programs\\Python\\Python39\\lib\\importlib\\__init__.py:148\u001b[0m, in \u001b[0;36mreload\u001b[1;34m(module)\u001b[0m\n\u001b[0;32m    146\u001b[0m \u001b[38;5;28;01mif\u001b[39;00m sys\u001b[38;5;241m.\u001b[39mmodules\u001b[38;5;241m.\u001b[39mget(name) \u001b[38;5;129;01mis\u001b[39;00m \u001b[38;5;129;01mnot\u001b[39;00m module:\n\u001b[0;32m    147\u001b[0m     msg \u001b[38;5;241m=\u001b[39m \u001b[38;5;124m\"\u001b[39m\u001b[38;5;124mmodule \u001b[39m\u001b[38;5;132;01m{}\u001b[39;00m\u001b[38;5;124m not in sys.modules\u001b[39m\u001b[38;5;124m\"\u001b[39m\n\u001b[1;32m--> 148\u001b[0m     \u001b[38;5;28;01mraise\u001b[39;00m \u001b[38;5;167;01mImportError\u001b[39;00m(msg\u001b[38;5;241m.\u001b[39mformat(name), name\u001b[38;5;241m=\u001b[39mname)\n\u001b[0;32m    149\u001b[0m \u001b[38;5;28;01mif\u001b[39;00m name \u001b[38;5;129;01min\u001b[39;00m _RELOADING:\n\u001b[0;32m    150\u001b[0m     \u001b[38;5;28;01mreturn\u001b[39;00m _RELOADING[name]\n",
      "\u001b[1;31mImportError\u001b[0m: module qube.core.series not in sys.modules"
     ]
    }
   ],
   "source": [
    "from importlib import reload\n",
    "# del sys.modules['qube.core.series']; \n",
    "# del sys.modules['qube.ta.indicators']\n",
    "# reload_pyx_module('../src/qube/core/')\n",
    "# reload_pyx_module('../src/qube/ta/')\n",
    "# from qube.core.series import TimeSeries; import qube.ta.indicators; del sys.modules['qube.core.series']; del sys.modules['qube.ta.indicators']\n",
    "# from qube.ta.indicators import (sma, ema, tema, dema, kama)\n",
    "\n",
    "reload(qube.ta.indicators)\n",
    "reload(qube.core.series)"
   ]
  },
  {
   "cell_type": "code",
   "execution_count": 19,
   "metadata": {},
   "outputs": [],
   "source": [
    "from setuptools import setup\n",
    "from Cython.Build import cythonize\n",
    "\n",
    "# setup(\n",
    "    # ext_modules = cythonize([\"a.py\"], language_level=3)\n",
    "# )"
   ]
  },
  {
   "cell_type": "code",
   "execution_count": 15,
   "metadata": {},
   "outputs": [],
   "source": [
    "# import importlib\n",
    "# def load_dynamic(module, path):\n",
    "#     spec = importlib.util.spec_from_file_location(module, path)\n",
    "#     mod = importlib.util.module_from_spec(spec)\n",
    "#     spec.loader.exec_module(mod)\n",
    "#     return mod\n",
    "# import os.path as op\n",
    "# load_dynamic('series.cp39-win_amd64', op.expanduser(\"~/.pyxbld/lib.win-amd64-cpython-39/series.cp39-win_amd64.pyd.reload2\"))"
   ]
  },
  {
   "cell_type": "code",
   "execution_count": 34,
   "metadata": {},
   "outputs": [
    {
     "name": "stdout",
     "output_type": "stream",
     "text": [
      "None\n"
     ]
    }
   ],
   "source": [
    "import importlib\n",
    "from importlib.util import spec_from_file_location \n",
    "spec = importlib.util.spec_from_file_location('qube.core.series', '../src/')\n",
    "print(spec)\n",
    "# module = importlib.util.module_from_spec(spec)\n",
    "# spec.loader.exec_module(module)"
   ]
  },
  {
   "cell_type": "code",
   "execution_count": 18,
   "metadata": {},
   "outputs": [
    {
     "data": {
      "text/plain": [
       "<module 'qube.core.series' from 'c:\\\\Users\\\\dmitr\\\\devs\\\\Qube2\\\\experiments\\\\../src\\\\qube\\\\core\\\\series.pyx'>"
      ]
     },
     "execution_count": 18,
     "metadata": {},
     "output_type": "execute_result"
    }
   ],
   "source": [
    "import importlib\n",
    "# from importlib import reload\n",
    "importlib.import_module('qube.core.series')\n",
    "importlib.import_module('qube.ta.indicators')\n",
    "importlib.reload(qube.ta.indicators)\n",
    "importlib.reload(qube.core.series)"
   ]
  },
  {
   "cell_type": "code",
   "execution_count": 19,
   "metadata": {},
   "outputs": [
    {
     "data": {
      "text/plain": [
       "Series([], Name: sma(14), dtype: float64)"
      ]
     },
     "execution_count": 19,
     "metadata": {},
     "output_type": "execute_result"
    }
   ],
   "source": [
    "s1 = TimeSeries('X1','1Min')\n",
    "sma(s1, 14)"
   ]
  },
  {
   "cell_type": "markdown",
   "metadata": {},
   "source": [
    "# Strategy high level design"
   ]
  },
  {
   "cell_type": "code",
   "execution_count": 3,
   "metadata": {},
   "outputs": [],
   "source": [
    "@dataclass\n",
    "class Instrument:\n",
    "    symbol: str\n",
    "    exchange: str\n",
    "\n",
    "    # tick size\n",
    "    tick_size: float\n",
    "\n",
    "    # true for futures\n",
    "    is_futures: bool\n",
    "\n",
    "    # futures contract size\n",
    "    futures_contract_size: float = 1\n",
    "\n",
    "    # instrument used for conversion to main basis\n",
    "    # let's say we trade BTC/ETH with main account in USDT\n",
    "    # so we need to use ETH/USDT for convert profits/losses to USDT\n",
    "    currency_conversion_instrument: 'Instrument' = None\n",
    "\n",
    "class Trade:\n",
    "    time: int\n",
    "    price: float\n",
    "    size: float\n",
    "\n",
    "class Quote:\n",
    "    time: int\n",
    "    bid: float\n",
    "    ask: float\n",
    "    bid_size: float\n",
    "    ask_size: float\n",
    "\n",
    "class IStrategy:\n",
    "    def __init__(self, **kwargs) -> None:\n",
    "        print(\"Here\")\n",
    "        self.populate_parameters(**kwargs)\n",
    "\n",
    "    def populate_parameters(self, **kwargs):\n",
    "        for k,v in kwargs.items():\n",
    "            if k.startswith('_'):\n",
    "                raise ValueError(\"Internal variable can't be set from external parameter !\")\n",
    "            if hasattr(self, k):\n",
    "                self.__dict__[k] = v\n",
    "\n",
    "    def instruments(self) -> List[Instrument]:\n",
    "        pass\n",
    "\n",
    "    def position(self, position: float, group=None, stop=None, take=None, limit=None, cancel=False):\n",
    "        print(f\"NEW POSITION: {position} [{group}]\")\n",
    "        pass\n",
    "\n",
    "    def cancel(self, group=None):\n",
    "        print(f\"CANCEL: all from [{group}]\")\n",
    "\n",
    "    def open_position(self, instrument: Instrument) -> float:\n",
    "        \"\"\"\n",
    "        Returns open position\n",
    "        \"\"\"\n",
    "        return 0.0\n",
    "        \n",
    "class PositionTracker:\n",
    "    pass\n",
    "class CapitalManager:\n",
    "    pass\n",
    "class FixedCapitalPercentage(CapitalManager):\n",
    "    pass\n",
    "class AtrTracker(PositionTracker):\n",
    "    pass"
   ]
  },
  {
   "cell_type": "code",
   "execution_count": 32,
   "metadata": {},
   "outputs": [],
   "source": [
    "class CrossTestClassical(IStrategy):\n",
    "    period_fast: int = 5\n",
    "    period_slow: int = 50\n",
    "\n",
    "    def fit(self):\n",
    "        for i in self.Instruments():\n",
    "            ohlc = self.ohlc(i, '1H')\n",
    "            # do the model trainig stuff ...\n",
    "        return self\n",
    "\n",
    "    def process_data(self, timestamp: np.datetime64, instrument: Optional[Instrument]):\n",
    "        ohlc = self.ohlc(instrument, '1H')\n",
    "        # tick_bars = self.tickbars(instrument, 200) # returns series of 200 tick bars\n",
    "        # trades = self.trades(instrument) # returns series of trades\n",
    "        # quotes = self.quotes(instrument) # returns series of quotes\n",
    "        fast = ema(ohlc.close, self.period_fast)\n",
    "        slow = ema(ohlc.close, self.period_slow)\n",
    "        bar:Bar = ohlc[0]\n",
    "\n",
    "        if (fast[0] > slow[0]) and (fast[1] < slow[1]):\n",
    "            return instrument.position(+1, 'long', stop=bar.low, cancel=True)\n",
    "        elif (fast[0] < slow[0]) and (fast[1] > slow[1]):\n",
    "            return instrument.position(-1, 'short', stop=bar.high, cancel=True)\n",
    "\n",
    "    def tracker(self) -> Optional[PositionTracker]:\n",
    "        return None\n",
    "\n",
    "    def capital_manager(self) -> Optional[CapitalManager]:\n",
    "        return None "
   ]
  },
  {
   "cell_type": "code",
   "execution_count": 21,
   "metadata": {},
   "outputs": [
    {
     "name": "stdout",
     "output_type": "stream",
     "text": [
      "Here\n"
     ]
    },
    {
     "data": {
      "text/plain": [
       "<__main__.CrossTestClassical at 0x1e214d14160>"
      ]
     },
     "execution_count": 21,
     "metadata": {},
     "output_type": "execute_result"
    }
   ],
   "source": [
    "CrossTestClassical()"
   ]
  },
  {
   "cell_type": "code",
   "execution_count": 9,
   "metadata": {},
   "outputs": [],
   "source": [
    "class PairsTrading(IStrategy):\n",
    "    period: int = 15\n",
    "    timeframe: str = '1H'\n",
    "    __pair_for: Dict[Instrument, Instrument] = {}\n",
    "\n",
    "    def fit(self, instrument: Instrument):\n",
    "        closes = self.prices(self.timeframe, 'close', self.instruments()).pd()\n",
    "        # - find pairs\n",
    "        self.pairs_finder(closes, self.period, self.instruments())\n",
    "        return self\n",
    "\n",
    "    def pairs_finder(self, period, closes: pd.DataFrame):\n",
    "        self.__pair_for.clear()\n",
    "        self.__pair_for[self.instruments()[0]] = self.instruments()[1]\n",
    "\n",
    "    def process_data(self, timestamp: np.datetime64, instrument1: Optional[Instrument]):\n",
    "        instrument2 = self.__pair_for[instrument1]\n",
    "        delta = self.ohlc(instrument1, self.timeframe).close - self.ohlc(instrument2, self.timeframe).close, \n",
    "        spread = (delta - ema(delta, self.period)) / std(delta - ema(delta, self.period)) \n",
    "        if spread[0] > 2:\n",
    "            return instrument1.position(-1, 'short'), instrument2.position(+1, 'long')\n",
    "        elif spread[0] < -2:\n",
    "            return instrument2.position(-1, 'short'), instrument1.position(+1, 'long')\n",
    "\n",
    "    def tracker(self, instrument: Instrument) -> Optional[PositionTracker]:\n",
    "        return None\n",
    "\n",
    "    def capital_manager(\n",
    "            self, \n",
    "            instruments: List[Instrument], \n",
    "            available_capital: float, \n",
    "            entry_prices: List[float], stop_prices: List[float], take_prices: List[float]\n",
    "        ) -> Optional[CapitalManager]:\n",
    "        return None "
   ]
  },
  {
   "cell_type": "code",
   "execution_count": null,
   "metadata": {},
   "outputs": [],
   "source": [
    "s1 = CrossTestClassical(period_fast=444)"
   ]
  },
  {
   "cell_type": "code",
   "execution_count": null,
   "metadata": {},
   "outputs": [],
   "source": [
    "m = Market('binance.um.usdt.vip0')"
   ]
  },
  {
   "cell_type": "code",
   "execution_count": 31,
   "metadata": {},
   "outputs": [],
   "source": [
    "data1Min = OHLCV('15Min')"
   ]
  },
  {
   "cell_type": "code",
   "execution_count": null,
   "metadata": {},
   "outputs": [],
   "source": [
    "m.backtest(\n",
    "    {\n",
    "        'Signals': CrossTestClassical(period_fast=12),\n",
    "        'CapPct25%': CrossTestClassical(period_fast=12) + FixedCapitalPercentage(capital_in_risk=0.25),\n",
    "        'AtrTracker2': CrossTestClassical(period_fast=12) + AtrTracker(stop_atrs=2, initial_bar=0, period=200),\n",
    "    },\n",
    "    capital_base=100000,\n",
    "    leverage=5,\n",
    "    start='2021-01-01', end='now',\n",
    "    fit_start='2021-01-01', fit_end='now',\n",
    "\n",
    "    start='2021-01-01', end='',\n",
    "    fit_start='2021-01-01', fit_end='+4w',\n",
    "\n",
    "    data = data1Min.resample('15Min'),   # data to feed\n",
    "    handle_on='closes',                     # default on data's timeframe close prices\n",
    "    handle_on='closes.1H',                  # on 1H bar's close price\n",
    "    handle_on='quotes',                     # on every quote\n",
    "    handle_on='trades',                     # on every trade\n",
    "    handle_on='trades,quotes,15Min.closes', # on every trade or quote or close\n",
    "    handle_on='59Min59S',                   # on timer every T\n",
    "    symbols=['BTCUSDT', 'ETHUSDT', 'ETHUSDT']\n",
    ")"
   ]
  },
  {
   "cell_type": "code",
   "execution_count": null,
   "metadata": {},
   "outputs": [],
   "source": [
    "'1H - 5S'"
   ]
  },
  {
   "cell_type": "code",
   "execution_count": null,
   "metadata": {},
   "outputs": [],
   "source": [
    "# # from zipline\n",
    "# result = run_algorithm(start=start.tz_localize('UTC'),\n",
    "#                        end=end.tz_localize('UTC'),\n",
    "#                        initialize=initialize,\n",
    "#                        handle_data=handle_data,\n",
    "#                        capital_base=100000,\n",
    "#                        benchmark_returns=benchmark_returns,\n",
    "#                        bundle='quandl',\n",
    "#                        data_frequency='daily')"
   ]
  },
  {
   "cell_type": "code",
   "execution_count": null,
   "metadata": {},
   "outputs": [],
   "source": []
  }
 ],
 "metadata": {
  "kernelspec": {
   "display_name": "py39",
   "language": "python",
   "name": "python3"
  },
  "language_info": {
   "codemirror_mode": {
    "name": "ipython",
    "version": 3
   },
   "file_extension": ".py",
   "mimetype": "text/x-python",
   "name": "python",
   "nbconvert_exporter": "python",
   "pygments_lexer": "ipython3",
   "version": "3.9.13"
  }
 },
 "nbformat": 4,
 "nbformat_minor": 2
}
