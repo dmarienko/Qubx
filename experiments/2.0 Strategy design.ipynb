{
 "cells": [
  {
   "cell_type": "code",
   "execution_count": 132,
   "metadata": {},
   "outputs": [
    {
     "name": "stdout",
     "output_type": "stream",
     "text": [
      "The autoreload extension is already loaded. To reload it, use:\n",
      "  %reload_ext autoreload\n"
     ]
    }
   ],
   "source": [
    "import sys, os, re; sys.path = ([\"../src/\", \"../\"] if re.match(r'^(\\w\\:\\\\)|(/)', os.getcwd()) else [])+ sys.path \n",
    "from typing import List, Tuple, Dict, Optional, Union\n",
    "\n",
    "import qube\n",
    "%qubed\n",
    "\n",
    "%load_ext autoreload\n",
    "%autoreload 2\n",
    "from qube import lookup\n",
    "from qube.core.basics import Position, ZERO_COSTS, TransactionCostsCalculator\n",
    "from qube.core.strategy import Event, Instrument\n",
    "\n",
    "import tests.qube.ta.utils_for_testing as test\n",
    "from dataclasses import dataclass"
   ]
  },
  {
   "cell_type": "code",
   "execution_count": 19,
   "metadata": {},
   "outputs": [],
   "source": [
    "from qube.core.series import TimeSeries; from qube.ta.indicators import sma; del sys.modules['qube.core.series']; del sys.modules['qube.ta.indicators']\n",
    "from qube.core.series import TimeSeries, OHLCV, time_as_nsec, Quote, Trade\n",
    "from qube.ta.indicators import ( sma, ema, tema, dema, kama, highest, lowest)"
   ]
  },
  {
   "cell_type": "markdown",
   "metadata": {},
   "source": [
    "# Position"
   ]
  },
  {
   "cell_type": "code",
   "execution_count": 184,
   "metadata": {},
   "outputs": [],
   "source": [
    "qs = [\n",
    "    Quote('2024-01-01 12:00:00', 45000, 45000.5, 100, 50),\n",
    "    Trade('2024-01-01 12:01:00', 45010, 10, 1),\n",
    "    Trade('2024-01-01 12:02:00', 45015, 10, 1),\n",
    "    Quote('2024-01-01 12:03:00', 45020, 45021, 0, 0),\n",
    "    Quote('2024-01-01 12:04:00.100', 45120, 45121, 0, 0),\n",
    "]\n",
    "tcc = TransactionCostsCalculator(0.04/100, 0.04/100)"
   ]
  },
  {
   "cell_type": "code",
   "execution_count": 202,
   "metadata": {},
   "outputs": [
    {
     "name": "stdout",
     "output_type": "stream",
     "text": [
      "[BINANCE.UM:BTCUSDT] 2024-01-01 12:00:00.000000      0.0 45000.5     0.00 $0.00 / 0.0\n",
      "[BINANCE.UM:BTCUSDT] 2024-01-01 12:00:30.000000    100.0 45010.0 4500900.00 $4501000.00 / 100.0 <-\n",
      "[BINANCE.UM:BTCUSDT] 2024-01-01 12:01:00.000000    100.0 45010.0 4500900.00 $4501000.00 / 100.0\n",
      "[BINANCE.UM:BTCUSDT] 2024-01-01 12:02:00.000000    100.0 45015.0 4501400.00 $4501500.00 / 100.0\n",
      "[BINANCE.UM:BTCUSDT] 2024-01-01 12:03:00.000000    100.0 45020.0 4501900.00 $4502000.00 / 100.0\n",
      "[BINANCE.UM:BTCUSDT] 2024-01-01 12:04:00.100000    100.0 45120.0 4511900.00 $4512000.00 / 100.0\n",
      "0.04\n"
     ]
    }
   ],
   "source": [
    "i, s = lookup['BINANCE:BTCUSDT'][0], 1\n",
    "i, s = lookup['BINANCE.UM:BTCUSDT'][0], 100\n",
    "# i, s = lookup['BINANCE.CM:BTCUSD_PERP'][0], 1\n",
    "p = Position(i, tcc)\n",
    "p.update_market_price(qs[0]); print(p)\n",
    "p.update_position(time_as_nsec('2024-01-01 12:00:30'), s, 45010); print(p, '<-')\n",
    "for q in qs[1:]:\n",
    "    p.update_market_price(q); print(p)\n",
    "print(p.commissions)"
   ]
  },
  {
   "cell_type": "markdown",
   "metadata": {},
   "source": [
    "# Strategy high level design"
   ]
  },
  {
   "cell_type": "code",
   "execution_count": 55,
   "metadata": {},
   "outputs": [
    {
     "data": {
      "text/plain": [
       "[2020-01-01T12:00:01.220000000]\t12.30000 (10000.0) <make>"
      ]
     },
     "execution_count": 55,
     "metadata": {},
     "output_type": "execute_result"
    }
   ],
   "source": [
    "Quote('2020-01-01 12:00:01.22', 12.3, 12.4, 0, 0)\n",
    "Trade('2020-01-01 12:00:01.22', 12.3, 10000, 0)"
   ]
  },
  {
   "cell_type": "code",
   "execution_count": 3,
   "metadata": {},
   "outputs": [],
   "source": [
    "class IStrategy:\n",
    "    def __init__(self, **kwargs) -> None:\n",
    "        print(\"Here\")\n",
    "        self.populate_parameters(**kwargs)\n",
    "\n",
    "    def populate_parameters(self, **kwargs):\n",
    "        for k,v in kwargs.items():\n",
    "            if k.startswith('_'):\n",
    "                raise ValueError(\"Internal variable can't be set from external parameter !\")\n",
    "            if hasattr(self, k):\n",
    "                self.__dict__[k] = v\n",
    "\n",
    "    def instruments(self) -> List[Instrument]:\n",
    "        pass\n",
    "\n",
    "    def position(self, position: float, group=None, stop=None, take=None, limit=None, cancel=False):\n",
    "        print(f\"NEW POSITION: {position} [{group}]\")\n",
    "        pass\n",
    "\n",
    "    def cancel(self, group=None):\n",
    "        print(f\"CANCEL: all from [{group}]\")\n",
    "\n",
    "    def open_position(self, instrument: Instrument) -> float:\n",
    "        \"\"\"\n",
    "        Returns open position\n",
    "        \"\"\"\n",
    "        return 0.0\n",
    "        \n",
    "class PositionTracker:\n",
    "    pass\n",
    "class CapitalManager:\n",
    "    pass\n",
    "class FixedCapitalPercentage(CapitalManager):\n",
    "    pass\n",
    "class AtrTracker(PositionTracker):\n",
    "    pass"
   ]
  },
  {
   "cell_type": "code",
   "execution_count": 32,
   "metadata": {},
   "outputs": [],
   "source": [
    "class CrossTestClassical(IStrategy):\n",
    "    period_fast: int = 5\n",
    "    period_slow: int = 50\n",
    "\n",
    "    def fit(self):\n",
    "        for i in self.Instruments():\n",
    "            ohlc = self.ohlc(i, '1H')\n",
    "            # do the model trainig stuff ...\n",
    "        return self\n",
    "\n",
    "    def process_data(self, timestamp: np.datetime64, instrument: Optional[Instrument]):\n",
    "        ohlc = self.ohlc(instrument, '1H')\n",
    "        # tick_bars = self.tickbars(instrument, 200) # returns series of 200 tick bars\n",
    "        # trades = self.trades(instrument) # returns series of trades\n",
    "        # quotes = self.quotes(instrument) # returns series of quotes\n",
    "        fast = ema(ohlc.close, self.period_fast)\n",
    "        slow = ema(ohlc.close, self.period_slow)\n",
    "        bar:Bar = ohlc[0]\n",
    "\n",
    "        if (fast[0] > slow[0]) and (fast[1] < slow[1]):\n",
    "            return instrument.position(+1, 'long', stop=bar.low, cancel=True)\n",
    "        elif (fast[0] < slow[0]) and (fast[1] > slow[1]):\n",
    "            return instrument.position(-1, 'short', stop=bar.high, cancel=True)\n",
    "\n",
    "    def tracker(self, instrument: Instrument) -> Optional[PositionTracker]:\n",
    "        return None\n",
    "\n",
    "    def capital_manager(self) -> Optional[CapitalManager]:\n",
    "        return None "
   ]
  },
  {
   "cell_type": "code",
   "execution_count": null,
   "metadata": {},
   "outputs": [],
   "source": [
    "# CrossTestClassical()"
   ]
  },
  {
   "cell_type": "code",
   "execution_count": 9,
   "metadata": {},
   "outputs": [],
   "source": [
    "class PairsTrading(IStrategy):\n",
    "    period: int = 15\n",
    "    timeframe: str = '1H'\n",
    "    __pair_for: Dict[Instrument, Instrument] = {}\n",
    "\n",
    "    def fit(self, instrument: Instrument):\n",
    "        closes = self.prices(self.timeframe, 'close', self.instruments()).pd()\n",
    "        # - find pairs\n",
    "        self.pairs_finder(closes, self.period, self.instruments())\n",
    "        return self\n",
    "\n",
    "    def pairs_finder(self, period, closes: pd.DataFrame):\n",
    "        self.__pair_for.clear()\n",
    "        self.__pair_for[self.instruments()[0]] = self.instruments()[1]\n",
    "\n",
    "    def process_data(self, timestamp: np.datetime64, instrument1: Optional[Instrument]):\n",
    "        instrument2 = self.__pair_for[instrument1]\n",
    "        delta = self.ohlc(instrument1, self.timeframe).close - self.ohlc(instrument2, self.timeframe).close, \n",
    "        spread = (delta - ema(delta, self.period)) / std(delta - ema(delta, self.period)) \n",
    "        if spread[0] > 2:\n",
    "            return instrument1.position(-1, 'short'), instrument2.position(+1, 'long')\n",
    "        elif spread[0] < -2:\n",
    "            return instrument2.position(-1, 'short'), instrument1.position(+1, 'long')\n",
    "\n",
    "    def tracker(self, instrument: Instrument) -> Optional[PositionTracker]:\n",
    "        return None\n",
    "\n",
    "    def capital_manager(self) -> Optional[CapitalManager]:\n",
    "        return None "
   ]
  },
  {
   "cell_type": "code",
   "execution_count": null,
   "metadata": {},
   "outputs": [],
   "source": [
    "s1 = CrossTestClassical(period_fast=444)"
   ]
  },
  {
   "cell_type": "code",
   "execution_count": null,
   "metadata": {},
   "outputs": [],
   "source": [
    "m = Market('binance.um.usdt.vip0')"
   ]
  },
  {
   "cell_type": "code",
   "execution_count": 31,
   "metadata": {},
   "outputs": [],
   "source": [
    "data1Min = OHLCV('15Min')"
   ]
  },
  {
   "cell_type": "code",
   "execution_count": null,
   "metadata": {},
   "outputs": [],
   "source": [
    "m.backtest(\n",
    "    {\n",
    "        'Signals': CrossTestClassical(period_fast=12),\n",
    "        'CapPct25%': CrossTestClassical(period_fast=12) + FixedCapitalPercentage(capital_in_risk=0.25),\n",
    "        'AtrTracker2': CrossTestClassical(period_fast=12) + AtrTracker(stop_atrs=2, initial_bar=0, period=200),\n",
    "    },\n",
    "    capital_base=100000,\n",
    "    leverage=5,\n",
    "    start='2021-01-01', end='now',\n",
    "    fit_start='2021-01-01', fit_end='now',\n",
    "\n",
    "    start='2021-01-01', end='',\n",
    "    fit_start='2021-01-01', fit_end='+4w',\n",
    "\n",
    "    data = data1Min.resample('15Min'),   # data to feed\n",
    "    handle_on='closes',                     # default on data's timeframe close prices\n",
    "    handle_on='closes.1H',                  # on 1H bar's close price\n",
    "    handle_on='quotes',                     # on every quote\n",
    "    handle_on='trades',                     # on every trade\n",
    "    handle_on='trades,quotes,15Min.closes', # on every trade or quote or close\n",
    "    handle_on='59Min59S',                   # on timer every T\n",
    "    symbols=['BTCUSDT', 'ETHUSDT', 'ETHUSDT']\n",
    ")"
   ]
  },
  {
   "cell_type": "code",
   "execution_count": null,
   "metadata": {},
   "outputs": [],
   "source": [
    "'1H - 5S'"
   ]
  },
  {
   "cell_type": "code",
   "execution_count": null,
   "metadata": {},
   "outputs": [],
   "source": [
    "# # from zipline\n",
    "# result = run_algorithm(start=start.tz_localize('UTC'),\n",
    "#                        end=end.tz_localize('UTC'),\n",
    "#                        initialize=initialize,\n",
    "#                        handle_data=handle_data,\n",
    "#                        capital_base=100000,\n",
    "#                        benchmark_returns=benchmark_returns,\n",
    "#                        bundle='quandl',\n",
    "#                        data_frequency='daily')"
   ]
  },
  {
   "cell_type": "code",
   "execution_count": null,
   "metadata": {},
   "outputs": [],
   "source": []
  }
 ],
 "metadata": {
  "kernelspec": {
   "display_name": "py39",
   "language": "python",
   "name": "python3"
  },
  "language_info": {
   "codemirror_mode": {
    "name": "ipython",
    "version": 3
   },
   "file_extension": ".py",
   "mimetype": "text/x-python",
   "name": "python",
   "nbconvert_exporter": "python",
   "pygments_lexer": "ipython3",
   "version": "3.9.13"
  }
 },
 "nbformat": 4,
 "nbformat_minor": 2
}
