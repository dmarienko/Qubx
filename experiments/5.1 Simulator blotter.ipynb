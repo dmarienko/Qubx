{
 "cells": [
  {
   "cell_type": "code",
   "execution_count": 1,
   "metadata": {},
   "outputs": [
    {
     "name": "stdout",
     "output_type": "stream",
     "text": [
      " >  [\u001b[32mdev\u001b[0m] \u001b[31minstalling cython rebuilding hook\u001b[0m\n",
      "\n",
      "⠀⠀⡰⡖⠒⠒⢒⢦⠀⠀   \n",
      "⠀⢠⠃⠈⢆⣀⣎⣀⣱⡀  \u001b[31mQUBX\u001b[0m | \u001b[36mQuantitative Backtesting Environment\u001b[0m \n",
      "⠀⢳⠒⠒⡞⠚⡄⠀⡰⠁         (c) 2024, ver. \u001b[35mDev\u001b[0m\n",
      "⠀⠀⠱⣜⣀⣀⣈⣦⠃⠀⠀⠀ \n",
      "        \n",
      "\u001b[32m2024-07-23 10:20:30.789\u001b[0m [ \u001b[1mℹ️\u001b[0m ] \u001b[1mNTP offset controller thread is started\u001b[0m\n",
      "\u001b[32m2024-07-23 10:20:30.902\u001b[0m [ \u001b[34m\u001b[1m🐞\u001b[0m ] \u001b[34m\u001b[1mConnected to QuestDB at xlydian-data:8812\u001b[0m\n"
     ]
    }
   ],
   "source": [
    "import sys, os, re; sys.path = ([\"../src/\", \"../\"] if re.match(r'^(\\w\\:\\\\)|(/)', os.getcwd()) else [])+ sys.path \n",
    "\n",
    "from typing import Any, Optional, List\n",
    "\n",
    "import qubx\n",
    "%qubxd dev \n",
    "\n",
    "%load_ext autoreload\n",
    "%autoreload 2\n",
    "\n",
    "from qubx import lookup, logger\n",
    "from qubx.core.strategy import IStrategy, StrategyContext, TriggerEvent\n",
    "from qubx.pandaz.utils import *\n",
    "\n",
    "# - - - - - - - - - - - - - - - - - - - - - - - -\n",
    "from qubx.trackers import PortfolioRebalancerTracker\n",
    "from qubx.core.series import Quote\n",
    "from qubx.ta.indicators import sma, ema\n",
    "from qubx.data.readers import CsvStorageDataReader, MultiQdbConnector, AsTimestampedRecords, AsQuotes, RestoreTicksFromOHLC, AsPandasFrame, RestoreTicksFromOHLC\n",
    "from qubx.core.basics import Deal, Instrument, Order, Position, Signal\n",
    "from qubx.core.utils import recognize_time\n",
    "\n",
    "from qubx.impl.ccxt_connector import CCXTExchangesConnector\n",
    "from qubx.impl.ccxt_trading import CCXTTradingConnector\n",
    "from qubx.utils.runner import get_account_config\n",
    "\n",
    "def Q(time: str, bid: float, ask: float) -> Quote:\n",
    "    return Quote(recognize_time(time), bid, ask, 0, 0)\n",
    "\n",
    "# r = CsvStorageDataReader(\"../tests/data/csv\")\n",
    "r = MultiQdbConnector('xlydian-data')\n",
    "\n",
    "from qubx import QubxLogConfig\n",
    "\n",
    "from qube.portfolio.reports import tearsheet"
   ]
  },
  {
   "cell_type": "markdown",
   "metadata": {},
   "source": [
    "# Test Strategy"
   ]
  },
  {
   "cell_type": "code",
   "execution_count": 2,
   "metadata": {},
   "outputs": [],
   "source": [
    "class TestStrategy(IStrategy):\n",
    "    timeframe: str = \"1Min\"\n",
    "    fast_period = 5\n",
    "    slow_period = 12\n",
    "\n",
    "    def on_start(self, ctx: StrategyContext):\n",
    "        logger.info(f\" -> Strategy started | {ctx.time()}\")\n",
    "\n",
    "    def on_fit(self, ctx: \"StrategyContext\", fit_time: str | pd.Timestamp, previous_fit_time: str | pd.Timestamp | None = None):\n",
    "        logger.info(f\" -> Fit is called | fit_time: {fit_time} / prev: {previous_fit_time}\")\n",
    "        data = ctx.get_historical_ohlcs(ctx.instruments[0], '1h', 24)\n",
    "        logger.info(data)\n",
    "\n",
    "    def on_event(self, ctx: StrategyContext, event: TriggerEvent) -> List[Signal] | None:\n",
    "        logger.info(f\" ||||| {event.time} -> {event} |||||\")\n",
    "\n",
    "        for i in ctx.instruments:\n",
    "            logger.info(f\"\\t{i.symbol} : {ctx.broker_provider.get_quote(i.symbol)}\")\n",
    "\n",
    "            if True:\n",
    "                ohlc = ctx.ohlc(i, self.timeframe)\n",
    "                fast = ema(ohlc.close, self.fast_period)\n",
    "                slow = ema(ohlc.close, self.slow_period)\n",
    "                pos = ctx.positions[i.symbol].quantity\n",
    "                # cap = ctx.get_capital()\n",
    "                # n = len(ctx.instruments)\n",
    "                if pos <= 0:\n",
    "                    if (fast[0] > slow[0]) and (fast[1] < slow[1]):\n",
    "                        ctx.trade(i, abs(pos) + i.min_size * 10)\n",
    "\n",
    "                if pos >= 0:\n",
    "                    if (fast[0] < slow[0]) and (fast[1] > slow[1]):\n",
    "                        ctx.trade(i, -pos - i.min_size * 10)\n",
    "\n",
    "        return None\n",
    "\n",
    "    def ohlcs(self, timeframe: str) -> Dict[str, pd.DataFrame]:\n",
    "        return {s.symbol: self.ctx.ohlc(s, timeframe).pd() for s in self.ctx.instruments}\n",
    "\n",
    "    def on_stop(self, ctx: StrategyContext):\n",
    "        logger.info(f\" -> strategy is stopped\")\n",
    "\n",
    "    def tracker(self, ctx: StrategyContext) -> PortfolioRebalancerTracker:\n",
    "        return PortfolioRebalancerTracker(ctx, 1000, 0)"
   ]
  },
  {
   "cell_type": "markdown",
   "metadata": {},
   "source": [
    "# Simulated broker and paper trading"
   ]
  },
  {
   "cell_type": "code",
   "execution_count": 4,
   "metadata": {},
   "outputs": [],
   "source": [
    "from qubx.backtester.simulator import SimulatedTrading"
   ]
  },
  {
   "cell_type": "code",
   "execution_count": 5,
   "metadata": {},
   "outputs": [
    {
     "name": "stdout",
     "output_type": "stream",
     "text": [
      "\u001b[32m2024-07-22 01:20:57.947\u001b[0m [ \u001b[1mℹ️\u001b[0m ] \u001b[1mbinance initialized - current time 1970-01-01T00:00:00.000000000\u001b[0m\n",
      "\u001b[32m2024-07-22 01:20:57.948\u001b[0m [ \u001b[33m\u001b[1m⚠️\u001b[0m ] \u001b[36mqubx.core.loggers\u001b[0m:\u001b[36m__init__\u001b[0m:\u001b[36m396\u001b[0m - \u001b[33m\u001b[1mLog writer is not defined - strategy activity will not be saved !\u001b[0m\n",
      "\u001b[32m2024-07-22 01:20:57.948\u001b[0m [ \u001b[1mℹ️\u001b[0m ] \u001b[1mset strategy parameters:\n",
      "\tset \u001b[32mtimeframe\u001b[0m\u001b[1m <- \u001b[31m1Min\u001b[0m\u001b[1m\u001b[0m\n",
      "\u001b[32m2024-07-22 01:20:57.948\u001b[0m [ \u001b[34m\u001b[1m🐞\u001b[0m ] \u001b[34m\u001b[1mTriggering strategy on every 1Min bar after 55S\u001b[0m\n",
      "\u001b[32m2024-07-22 01:20:57.948\u001b[0m [ \u001b[33m\u001b[1m⚠️\u001b[0m ] \u001b[36mqubx.core.loggers\u001b[0m:\u001b[36m__init__\u001b[0m:\u001b[36m396\u001b[0m - \u001b[33m\u001b[1mLog writer is not defined - strategy activity will not be saved !\u001b[0m\n",
      "\u001b[32m2024-07-22 01:20:57.948\u001b[0m [ \u001b[1mℹ️\u001b[0m ] \u001b[1mset strategy parameters:\n",
      "\tset \u001b[32mtimeframe\u001b[0m\u001b[1m <- \u001b[31m1Min\u001b[0m\u001b[1m\u001b[0m\n",
      "\u001b[32m2024-07-22 01:20:57.948\u001b[0m [ \u001b[34m\u001b[1m🐞\u001b[0m ] \u001b[34m\u001b[1mTriggering strategy on every 1Min bar after 55S\u001b[0m\n"
     ]
    }
   ],
   "source": [
    "auth = get_account_config('binance-qbx', './configs/.env')\n",
    "\n",
    "sim = SimulatedTrading('binance', 10000, 'vip0_usdt', 'USDT')\n",
    "exch = CCXTExchangesConnector('binance', sim, **auth)\n",
    "\n",
    "instruments = [lookup.find_symbol('BINANCE', 'BTCUSDT')]\n",
    "ctx = StrategyContext(\n",
    "    TestStrategy(), dict(\n",
    "        timeframe='1Min',\n",
    "    ), \n",
    "    exch, instruments=instruments,  # type: ignore\n",
    "    md_subscription=dict(type='ohlc', timeframe='1Min', nback=0),\n",
    "    trigger_spec='1Min -5Sec',\n",
    ")\n",
    "S = ctx.strategy"
   ]
  },
  {
   "cell_type": "code",
   "execution_count": 6,
   "metadata": {},
   "outputs": [
    {
     "name": "stdout",
     "output_type": "stream",
     "text": [
      "\u001b[32m2024-07-22 01:21:02.025\u001b[0m [ \u001b[1mℹ️\u001b[0m ] \u001b[1m(StrategyContext) Subscribing to ohlc updates using {'timeframe': '1Min', 'nback': 0} for \n",
      "\t['BTCUSDT'] \u001b[0m\n",
      "\u001b[32m2024-07-22 01:21:02.027\u001b[0m [ \u001b[1mℹ️\u001b[0m ] \u001b[1mSubscribed on ohlc updates for 1 symbols: \n",
      "\t\t['BTCUSDT']\u001b[0m\n",
      "\u001b[32m2024-07-22 01:21:02.029\u001b[0m [ \u001b[1mℹ️\u001b[0m ] \u001b[1m -> Strategy started | 1970-01-01T00:00:00.000000000\u001b[0m\n",
      "\u001b[32m2024-07-22 01:21:02.030\u001b[0m [ \u001b[1mℹ️\u001b[0m ] \u001b[1m(StrategyContext) Start processing market data\u001b[0m\n",
      "\u001b[32m2024-07-22 01:21:02.032\u001b[0m [ \u001b[1mℹ️\u001b[0m ] \u001b[1m(StrategyContext) strategy is started in thread\u001b[0m\n"
     ]
    },
    {
     "name": "stdout",
     "output_type": "stream",
     "text": [
      "\u001b[32m2024-07-22 01:21:10.657\u001b[0m [ \u001b[34m\u001b[1m🐞\u001b[0m ] \u001b[34m\u001b[1m[2024-07-21T22:21:10.781562880]: Invoking TestStrategy on_fit('1970-01-01 00:00:00', 'None')\u001b[0m\n",
      "\u001b[32m2024-07-22 01:21:10.658\u001b[0m [ \u001b[1mℹ️\u001b[0m ] \u001b[1m -> Fit is called | fit_time: 1970-01-01 00:00:00 / prev: None\u001b[0m\n",
      "\u001b[32m2024-07-22 01:21:11.067\u001b[0m [ \u001b[1mℹ️\u001b[0m ] \u001b[1mBTCUSDT[1H] | 24 records\n",
      "  2024-07-21T22:00:00.000000000 {o:68194.000000 | h:68366.660000 | l:68038.000000 | c:68114.000000 | v:30436483.800795}\n",
      "  2024-07-21T21:00:00.000000000 {o:67723.910000 | h:68298.020000 | l:67564.200000 | c:68193.990000 | v:85407297.413267}\n",
      "  2024-07-21T20:00:00.000000000 {o:67422.030000 | h:68209.160000 | l:67274.690000 | c:67723.910000 | v:151774422.575169}\n",
      "   .......... \n",
      "  2024-07-21T01:00:00.000000000 {o:67066.020000 | h:67436.220000 | l:67041.070000 | c:67276.330000 | v:24780965.435619}\n",
      "  2024-07-21T00:00:00.000000000 {o:67139.970000 | h:67322.000000 | l:66962.000000 | c:67066.020000 | v:35409180.504901}\n",
      "  2024-07-20T23:00:00.000000000 {o:67114.000000 | h:67200.000000 | l:67092.000000 | c:67139.960000 | v:19865751.803434}\n",
      "\u001b[0m\n",
      "\u001b[32m2024-07-22 01:21:11.067\u001b[0m [ \u001b[34m\u001b[1m🐞\u001b[0m ] \u001b[34m\u001b[1m[2024-07-21T22:21:10.781562880]: TestStrategy is fitted\u001b[0m\n",
      "\u001b[32m2024-07-22 01:21:26.063\u001b[0m [ \u001b[34m\u001b[1m🐞\u001b[0m ] \u001b[34m\u001b[1m[SIM-ORDER-BTCUSDT-100001 / TestStrategy_BTCUSDT_1] : MARKET BUY 0.1 of BTCUSDT  -> [CLOSED]\u001b[0m\n",
      "\u001b[32m2024-07-22 01:21:26.064\u001b[0m [ \u001b[34m\u001b[1m🐞\u001b[0m ] \u001b[34m\u001b[1mExecuted 0.1 @ 68078.005 of BTCUSDT for order SIM-ORDER-BTCUSDT-100001\u001b[0m\n",
      "\u001b[32m2024-07-22 01:21:27.678\u001b[0m [ \u001b[34m\u001b[1m🐞\u001b[0m ] \u001b[34m\u001b[1m[SIM-ORDER-BTCUSDT-100002 / TestStrategy_BTCUSDT_2] : MARKET SELL 0.1 of BTCUSDT  -> [CLOSED]\u001b[0m\n",
      "\u001b[32m2024-07-22 01:21:27.679\u001b[0m [ \u001b[34m\u001b[1m🐞\u001b[0m ] \u001b[34m\u001b[1mExecuted -0.1 @ 68077.995 of BTCUSDT for order SIM-ORDER-BTCUSDT-100002\u001b[0m\n",
      "\u001b[32m2024-07-22 01:21:29.117\u001b[0m [ \u001b[34m\u001b[1m🐞\u001b[0m ] \u001b[34m\u001b[1m[SIM-ORDER-BTCUSDT-100003 / TestStrategy_BTCUSDT_3] : LIMIT BUY 0.1 of BTCUSDT  @ 45000 -> [OPEN]\u001b[0m\n",
      "\u001b[32m2024-07-22 01:21:30.410\u001b[0m [ \u001b[34m\u001b[1m🐞\u001b[0m ] \u001b[34m\u001b[1m[SIM-ORDER-BTCUSDT-100003 / TestStrategy_BTCUSDT_3] : LIMIT BUY 0.1 of BTCUSDT  @ 45000 -> [CANCELED]\u001b[0m\n",
      "\u001b[32m2024-07-22 01:21:33.110\u001b[0m [ \u001b[1mℹ️\u001b[0m ] \u001b[1m(StrategyContext) Market data processing stopped\u001b[0m\n",
      "\u001b[32m2024-07-22 01:21:33.128\u001b[0m [ \u001b[1mℹ️\u001b[0m ] \u001b[1m(CCXTDataConnector) BTCUSDT OHLCV listening has been stopped\u001b[0m\n",
      "\u001b[32m2024-07-22 01:21:33.129\u001b[0m [ \u001b[1mℹ️\u001b[0m ] \u001b[1m(CCXTDataConnector) BTCUSDT execution reports listening has been stopped\u001b[0m\n"
     ]
    }
   ],
   "source": [
    "ctx.start()"
   ]
  },
  {
   "cell_type": "code",
   "execution_count": null,
   "metadata": {},
   "outputs": [],
   "source": [
    "exch.get_historical_ohlcs('BTCUSDT', '5Min', 200)"
   ]
  },
  {
   "cell_type": "code",
   "execution_count": 8,
   "metadata": {},
   "outputs": [
    {
     "data": {
      "text/plain": [
       "                        open     high       low     close         volume  \\\n",
       "timestamp                                                                  \n",
       "2024-07-21 22:21:00  68092.0  68126.2  68091.99  68096.01  410255.488169   \n",
       "\n",
       "                     bought_volume  \n",
       "timestamp                           \n",
       "2024-07-21 22:21:00  240288.718168  "
      ]
     },
     "execution_count": 8,
     "metadata": {},
     "output_type": "execute_result"
    }
   ],
   "source": [
    "ctx.ohlc(ctx.instruments[0], '1Min')"
   ]
  },
  {
   "cell_type": "code",
   "execution_count": 6,
   "metadata": {},
   "outputs": [
    {
     "name": "stdout",
     "output_type": "stream",
     "text": [
      "??? [BINANCE:BTCUSDT]       0.00000      0.00    +0.0000 | nan        0.00\n",
      "[]\n"
     ]
    }
   ],
   "source": [
    "print(exch.trading_service.get_position(instruments[0]))\n",
    "print(exch.trading_service.get_orders())"
   ]
  },
  {
   "cell_type": "code",
   "execution_count": 9,
   "metadata": {},
   "outputs": [
    {
     "name": "stdout",
     "output_type": "stream",
     "text": [
      "\u001b[32m2024-07-22 01:21:26.058\u001b[0m [ \u001b[1mℹ️\u001b[0m ] \u001b[1m(StrategyContext) sending market buy for 0.1 of BTCUSDT ...\u001b[0m\n",
      "\u001b[32m2024-07-22 01:21:26.060\u001b[0m [ \u001b[34m\u001b[1m🐞\u001b[0m ] \u001b[34m\u001b[1m[OMS] BTCUSDT - SIM-ORDER-BTCUSDT-100001 MARKET BUY 0.1 executed at 68078.005\u001b[0m\n",
      "\u001b[32m2024-07-22 01:21:26.061\u001b[0m [ \u001b[1mℹ️\u001b[0m ] \u001b[1m  ::  traded 0.1 for BTCUSDT @ 68078.005 -> 0.00\u001b[0m\n",
      "\u001b[32m2024-07-22 01:21:26.061\u001b[0m [ \u001b[1mℹ️\u001b[0m ] \u001b[1mOrder SIM-ORDER-BTCUSDT-100001 MARKET BUY 0.1 of BTCUSDT -> CLOSED\u001b[0m\n"
     ]
    },
    {
     "data": {
      "text/plain": [
       "Order(id='SIM-ORDER-BTCUSDT-100001', type='MARKET', symbol='BTCUSDT', time=numpy.datetime64('2024-07-21T22:21:24.191141120'), quantity=0.1, price=0, side='BUY', status='CLOSED', time_in_force='gtc', client_id='TestStrategy_BTCUSDT_1', cost=0.0)"
      ]
     },
     "execution_count": 9,
     "metadata": {},
     "output_type": "execute_result"
    }
   ],
   "source": [
    "ctx.trade('BTCUSDT', 0.1)"
   ]
  },
  {
   "cell_type": "code",
   "execution_count": 10,
   "metadata": {},
   "outputs": [
    {
     "name": "stdout",
     "output_type": "stream",
     "text": [
      "\u001b[32m2024-07-22 01:21:27.671\u001b[0m [ \u001b[1mℹ️\u001b[0m ] \u001b[1m(StrategyContext) sending market sell for 0.1 of BTCUSDT ...\u001b[0m\n",
      "\u001b[32m2024-07-22 01:21:27.671\u001b[0m [ \u001b[34m\u001b[1m🐞\u001b[0m ] \u001b[34m\u001b[1m[OMS] BTCUSDT - SIM-ORDER-BTCUSDT-100002 MARKET SELL 0.1 executed at 68077.995\u001b[0m\n",
      "\u001b[32m2024-07-22 01:21:27.671\u001b[0m [ \u001b[1mℹ️\u001b[0m ] \u001b[1m  ::  traded -0.1 for BTCUSDT @ 68077.995 -> -0.00\u001b[0m\n",
      "\u001b[32m2024-07-22 01:21:27.677\u001b[0m [ \u001b[1mℹ️\u001b[0m ] \u001b[1mOrder SIM-ORDER-BTCUSDT-100002 MARKET SELL 0.1 of BTCUSDT -> CLOSED\u001b[0m\n"
     ]
    },
    {
     "data": {
      "text/plain": [
       "Order(id='SIM-ORDER-BTCUSDT-100002', type='MARKET', symbol='BTCUSDT', time=numpy.datetime64('2024-07-21T22:21:26.796219648'), quantity=0.1, price=0, side='SELL', status='CLOSED', time_in_force='gtc', client_id='TestStrategy_BTCUSDT_2', cost=0.0)"
      ]
     },
     "execution_count": 10,
     "metadata": {},
     "output_type": "execute_result"
    }
   ],
   "source": [
    "ctx.trade('BTCUSDT', -0.1)"
   ]
  },
  {
   "cell_type": "code",
   "execution_count": 11,
   "metadata": {},
   "outputs": [
    {
     "name": "stdout",
     "output_type": "stream",
     "text": [
      "\u001b[32m2024-07-22 01:21:29.112\u001b[0m [ \u001b[1mℹ️\u001b[0m ] \u001b[1m(StrategyContext) sending limit buy for 0.1 of BTCUSDT ...\u001b[0m\n",
      "\u001b[32m2024-07-22 01:21:29.117\u001b[0m [ \u001b[34m\u001b[1m🐞\u001b[0m ] \u001b[34m\u001b[1m[OMS] BTCUSDT - registered SIM-ORDER-BTCUSDT-100003 LIMIT BUY 0.1 45000\u001b[0m\n"
     ]
    },
    {
     "data": {
      "text/plain": [
       "Order(id='SIM-ORDER-BTCUSDT-100003', type='LIMIT', symbol='BTCUSDT', time=numpy.datetime64('2024-07-21T22:21:28.820779264'), quantity=0.1, price=45000, side='BUY', status='OPEN', time_in_force='gtc', client_id='TestStrategy_BTCUSDT_3', cost=0.0)"
      ]
     },
     "execution_count": 11,
     "metadata": {},
     "output_type": "execute_result"
    }
   ],
   "source": [
    "ctx.trade('BTCUSDT', 0.1, 45000)"
   ]
  },
  {
   "cell_type": "code",
   "execution_count": 12,
   "metadata": {},
   "outputs": [
    {
     "name": "stdout",
     "output_type": "stream",
     "text": [
      "\u001b[32m2024-07-22 01:21:30.410\u001b[0m [ \u001b[34m\u001b[1m🐞\u001b[0m ] \u001b[34m\u001b[1m[OMS] BTCUSDT - SIM-ORDER-BTCUSDT-100003 LIMIT BUY 0.1 canceled\u001b[0m\n",
      "\u001b[32m2024-07-22 01:21:30.410\u001b[0m [ \u001b[1mℹ️\u001b[0m ] \u001b[1mOrder SIM-ORDER-BTCUSDT-100003 LIMIT BUY 0.1 of BTCUSDT -> CANCELED\u001b[0m\n",
      "\u001b[32m2024-07-22 01:21:30.410\u001b[0m [ \u001b[1mℹ️\u001b[0m ] \u001b[1mOrder SIM-ORDER-BTCUSDT-100003 LIMIT BUY 0.1 of BTCUSDT -> CANCELED\u001b[0m\n"
     ]
    }
   ],
   "source": [
    "ctx.cancel('BTCUSDT')"
   ]
  },
  {
   "cell_type": "code",
   "execution_count": 13,
   "metadata": {},
   "outputs": [
    {
     "name": "stdout",
     "output_type": "stream",
     "text": [
      "\u001b[32m2024-07-22 01:21:33.117\u001b[0m [ \u001b[1mℹ️\u001b[0m ] \u001b[1m -> strategy is stopped\u001b[0m\n",
      "\u001b[32m2024-07-22 01:21:33.117\u001b[0m [ \u001b[1mℹ️\u001b[0m ] \u001b[1m\t\u001b[37mCachedMarketDataHolder.update_by_bar\u001b[0m\u001b[1m took \u001b[31m0.0000581\u001b[0m\u001b[1m secs\u001b[0m\n",
      "\u001b[32m2024-07-22 01:21:33.118\u001b[0m [ \u001b[1mℹ️\u001b[0m ] \u001b[1m\t\u001b[37mStrategyContext._processing_bar\u001b[0m\u001b[1m took \u001b[31m0.0000847\u001b[0m\u001b[1m secs\u001b[0m\n",
      "\u001b[32m2024-07-22 01:21:33.118\u001b[0m [ \u001b[1mℹ️\u001b[0m ] \u001b[1m\t\u001b[37mStrategyContext.handler\u001b[0m\u001b[1m took \u001b[31m0.0000090\u001b[0m\u001b[1m secs\u001b[0m\n",
      "\u001b[32m2024-07-22 01:21:33.118\u001b[0m [ \u001b[1mℹ️\u001b[0m ] \u001b[1m\t\u001b[37mloggers.notify\u001b[0m\u001b[1m took \u001b[31m0.0000021\u001b[0m\u001b[1m secs\u001b[0m\n",
      "\u001b[32m2024-07-22 01:21:33.118\u001b[0m [ \u001b[1mℹ️\u001b[0m ] \u001b[1m\t\u001b[37mStrategyContext._process_incoming_data\u001b[0m\u001b[1m took \u001b[31m0.0000179\u001b[0m\u001b[1m secs\u001b[0m\n",
      "\u001b[32m2024-07-22 01:21:33.118\u001b[0m [ \u001b[1mℹ️\u001b[0m ] \u001b[1m\t\u001b[37mCachedMarketDataHolder.get_ohlcv\u001b[0m\u001b[1m took \u001b[31m0.0001222\u001b[0m\u001b[1m secs\u001b[0m\n",
      "\u001b[32m2024-07-22 01:21:33.118\u001b[0m [ \u001b[1mℹ️\u001b[0m ] \u001b[1m\t\u001b[37mCachedMarketDataHolder.update_by_bars\u001b[0m\u001b[1m took \u001b[31m0.0004334\u001b[0m\u001b[1m secs\u001b[0m\n",
      "\u001b[32m2024-07-22 01:21:33.122\u001b[0m [ \u001b[1mℹ️\u001b[0m ] \u001b[1m\t\u001b[37mStrategyContext.get_historical_ohlcs\u001b[0m\u001b[1m took \u001b[31m0.4052954\u001b[0m\u001b[1m secs\u001b[0m\n",
      "\u001b[32m2024-07-22 01:21:33.123\u001b[0m [ \u001b[1mℹ️\u001b[0m ] \u001b[1m\t\u001b[37mstrategy.on_fit\u001b[0m\u001b[1m took \u001b[31m0.4092440\u001b[0m\u001b[1m secs\u001b[0m\n",
      "\u001b[32m2024-07-22 01:21:33.123\u001b[0m [ \u001b[1mℹ️\u001b[0m ] \u001b[1m\t\u001b[37mStrategyContext.trade\u001b[0m\u001b[1m took \u001b[31m0.0019785\u001b[0m\u001b[1m secs\u001b[0m\n",
      "\u001b[32m2024-07-22 01:21:33.124\u001b[0m [ \u001b[1mℹ️\u001b[0m ] \u001b[1m\t\u001b[37mStrategyContext._processing_order\u001b[0m\u001b[1m took \u001b[31m0.0009156\u001b[0m\u001b[1m secs\u001b[0m\n",
      "\u001b[32m2024-07-22 01:21:33.125\u001b[0m [ \u001b[1mℹ️\u001b[0m ] \u001b[1m\t\u001b[37mStrategyContext._processing_deals\u001b[0m\u001b[1m took \u001b[31m0.0010283\u001b[0m\u001b[1m secs\u001b[0m\n",
      "\u001b[32m2024-07-22 01:21:33.125\u001b[0m [ \u001b[1mℹ️\u001b[0m ] \u001b[1m\t\u001b[37mStrategyContext.cancel\u001b[0m\u001b[1m took \u001b[31m0.0015224\u001b[0m\u001b[1m secs\u001b[0m\n",
      "\u001b[32m2024-07-22 01:21:33.117\u001b[0m [ \u001b[1mℹ️\u001b[0m ] \u001b[1m\t\u001b[37mCachedMarketDataHolder.update_by_bar\u001b[0m\u001b[1m took \u001b[31m0.0000581\u001b[0m\u001b[1m secs\u001b[0m\n",
      "\u001b[32m2024-07-22 01:21:33.118\u001b[0m [ \u001b[1mℹ️\u001b[0m ] \u001b[1m\t\u001b[37mStrategyContext._processing_bar\u001b[0m\u001b[1m took \u001b[31m0.0000847\u001b[0m\u001b[1m secs\u001b[0m\n",
      "\u001b[32m2024-07-22 01:21:33.118\u001b[0m [ \u001b[1mℹ️\u001b[0m ] \u001b[1m\t\u001b[37mStrategyContext.handler\u001b[0m\u001b[1m took \u001b[31m0.0000090\u001b[0m\u001b[1m secs\u001b[0m\n",
      "\u001b[32m2024-07-22 01:21:33.118\u001b[0m [ \u001b[1mℹ️\u001b[0m ] \u001b[1m\t\u001b[37mloggers.notify\u001b[0m\u001b[1m took \u001b[31m0.0000021\u001b[0m\u001b[1m secs\u001b[0m\n",
      "\u001b[32m2024-07-22 01:21:33.118\u001b[0m [ \u001b[1mℹ️\u001b[0m ] \u001b[1m\t\u001b[37mStrategyContext._process_incoming_data\u001b[0m\u001b[1m took \u001b[31m0.0000179\u001b[0m\u001b[1m secs\u001b[0m\n",
      "\u001b[32m2024-07-22 01:21:33.118\u001b[0m [ \u001b[1mℹ️\u001b[0m ] \u001b[1m\t\u001b[37mCachedMarketDataHolder.get_ohlcv\u001b[0m\u001b[1m took \u001b[31m0.0001222\u001b[0m\u001b[1m secs\u001b[0m\n",
      "\u001b[32m2024-07-22 01:21:33.118\u001b[0m [ \u001b[1mℹ️\u001b[0m ] \u001b[1m\t\u001b[37mCachedMarketDataHolder.update_by_bars\u001b[0m\u001b[1m took \u001b[31m0.0004334\u001b[0m\u001b[1m secs\u001b[0m\n",
      "\u001b[32m2024-07-22 01:21:33.122\u001b[0m [ \u001b[1mℹ️\u001b[0m ] \u001b[1m\t\u001b[37mStrategyContext.get_historical_ohlcs\u001b[0m\u001b[1m took \u001b[31m0.4052954\u001b[0m\u001b[1m secs\u001b[0m\n",
      "\u001b[32m2024-07-22 01:21:33.123\u001b[0m [ \u001b[1mℹ️\u001b[0m ] \u001b[1m\t\u001b[37mstrategy.on_fit\u001b[0m\u001b[1m took \u001b[31m0.4092440\u001b[0m\u001b[1m secs\u001b[0m\n",
      "\u001b[32m2024-07-22 01:21:33.123\u001b[0m [ \u001b[1mℹ️\u001b[0m ] \u001b[1m\t\u001b[37mStrategyContext.trade\u001b[0m\u001b[1m took \u001b[31m0.0019785\u001b[0m\u001b[1m secs\u001b[0m\n",
      "\u001b[32m2024-07-22 01:21:33.124\u001b[0m [ \u001b[1mℹ️\u001b[0m ] \u001b[1m\t\u001b[37mStrategyContext._processing_order\u001b[0m\u001b[1m took \u001b[31m0.0009156\u001b[0m\u001b[1m secs\u001b[0m\n",
      "\u001b[32m2024-07-22 01:21:33.125\u001b[0m [ \u001b[1mℹ️\u001b[0m ] \u001b[1m\t\u001b[37mStrategyContext._processing_deals\u001b[0m\u001b[1m took \u001b[31m0.0010283\u001b[0m\u001b[1m secs\u001b[0m\n",
      "\u001b[32m2024-07-22 01:21:33.125\u001b[0m [ \u001b[1mℹ️\u001b[0m ] \u001b[1m\t\u001b[37mStrategyContext.cancel\u001b[0m\u001b[1m took \u001b[31m0.0015224\u001b[0m\u001b[1m secs\u001b[0m\n"
     ]
    }
   ],
   "source": [
    "ctx.stop()\n",
    "exch.close()"
   ]
  },
  {
   "cell_type": "markdown",
   "metadata": {},
   "source": [
    "# Simulated data provider"
   ]
  },
  {
   "cell_type": "code",
   "execution_count": 3,
   "metadata": {},
   "outputs": [],
   "source": [
    "from qubx.backtester.simulator import SimulatedTrading, SimulatedExchange\n",
    "from qubx.core.loggers import CsvFileLogsWriter, InMemoryLogsWriter\n",
    "from qubx.trackers.rebalancers import PortfolioRebalancerTracker\n",
    "\n",
    "QubxLogConfig.set_log_level(\"WARNING\")\n",
    "QubxLogConfig.set_log_level(\"INFO\")\n",
    "QubxLogConfig.set_log_level(\"DEBUG\")"
   ]
  },
  {
   "cell_type": "code",
   "execution_count": 4,
   "metadata": {},
   "outputs": [],
   "source": [
    "c1 = {'BINANCE.UM:BTCUSDT': r.read('BINANCE.UM:BTCUSDT', '2024-01-01', '2024-01-02', AsPandasFrame())}"
   ]
  },
  {
   "cell_type": "code",
   "execution_count": 5,
   "metadata": {},
   "outputs": [
    {
     "name": "stdout",
     "output_type": "stream",
     "text": [
      "['BINANCE.UM:BTCUSDT']\n",
      "['binance.umfutures.btcusdt.candles_1m', 'binance.umfutures.trxusdt.candles_1m', 'binance.umfutures.nfpusdt.candles_1m', 'binance.umfutures.hbarusdt.candles_1m', 'binance.umfutures.bigtimeusdt.candles_1m', 'binance.umfutures.eosusdt.candles_1m', 'binance.umfutures.jasmyusdt.candles_1m', 'binance.umfutures.cvcusdt.candles_1m', 'binance.umfutures.gmxusdt.candles_1m', 'binance.umfutures.minausdt.candles_1m', 'binance.umfutures.maviausdt.candles_1m', 'binance.umfutures.badgerusdt.candles_1m', 'binance.umfutures.flowusdt.candles_1m', 'binance.umfutures.imxusdt.candles_1m', 'binance.umfutures.stgusdt.candles_1m', 'binance.umfutures.loomusdt.candles_1m', 'binance.umfutures.pixelusdt.candles_1m', 'binance.umfutures.idusdt.candles_1m', 'binance.umfutures.iostusdt.candles_1m', 'binance.umfutures.solusdt.candles_1m', 'binance.umfutures.batusdt.candles_1m', 'binance.umfutures.trxusdt.agg_trade', 'binance.umfutures.arkusdt.candles_1m', 'binance.umfutures.solusdt.agg_trade', 'binance.umfutures.footballusdt.candles_1m', 'binance.umfutures.apeusdt.candles_1m', 'binance.umfutures.1000flokiusdt.agg_trade', 'binance.umfutures.linausdt.candles_1m', 'binance.umfutures.lskusdt.candles_1m', 'binance.umfutures.fxsusdt.candles_1m', 'binance.umfutures.aaveusdt.candles_1m', 'binance.umfutures.sntusdt.candles_1m', 'binance.umfutures.ctsiusdt.candles_1m', 'binance.umfutures.ustcusdt.candles_1m', 'binance.umfutures.galusdt.candles_1m', 'binance.umfutures.litusdt.candles_1m', 'binance.umfutures.keyusdt.candles_1m', 'binance.umfutures.ethusdt_240329.candles_1m', 'binance.umfutures.balusdt.candles_1m', 'binance.umfutures.myrousdt.agg_trade', 'binance.umfutures.ltcusdt.candles_1m', 'binance.umfutures.wavesusdt.candles_1m', 'binance.umfutures.zenusdt.candles_1m', 'binance.umfutures.cvxusdt.candles_1m', 'binance.umfutures.vanryusdt.candles_1m', 'binance.umfutures.spellusdt.candles_1m', 'binance.umfutures.glmusdt.candles_1m', 'binance.umfutures.grtusdt.candles_1m', 'binance.umfutures.kncusdt.candles_1m', 'binance.umfutures.btcusdt.funding_rate', 'binance.umfutures.rvnusdt.candles_1m', 'binance.umfutures.manausdt.candles_1m', 'binance.umfutures.trbusdt.candles_1m', 'binance.umfutures.eduusdt.candles_1m', 'binance.umfutures.altusdt.candles_1m', 'binance.umfutures.opusdt.candles_1m', 'binance.umfutures.cfxusdt.candles_1m', 'binance.umfutures.bluebirdusdt.candles_1m', 'binance.umfutures.enjusdt.candles_1m', 'binance.umfutures.solusdt.funding_rate', 'binance.umfutures.twtusdt.candles_1m', 'binance.umfutures.xvgusdt.candles_1m', 'binance.umfutures.bandusdt.candles_1m', 'binance.umfutures.ldousdt.candles_1m', 'binance.umfutures.xaiusdt.candles_1m', 'binance.umfutures.zilusdt.candles_1m', 'binance.umfutures.sklusdt.candles_1m', 'binance.umfutures.polyxusdt.candles_1m', 'binance.umfutures.ethusdt.candles_1m', 'binance.umfutures.sagausdt.candles_1m', 'binance.umfutures.aliceusdt.candles_1m', 'binance.umfutures.etcusdt.candles_1m', 'binance.umfutures.cocosusdt.candles_1m', 'binance.umfutures.stptusdt.candles_1m', 'binance.umfutures.1000bonkusdt.candles_1m', 'binance.umfutures.ilvusdt.candles_1m', 'binance.umfutures.runeusdt.candles_1m', 'binance.umfutures.mavusdt.candles_1m', 'binance.umfutures.zetausdt.candles_1m', 'binance.umfutures.btcstusdt.candles_1m', 'binance.umfutures.xtzusdt.candles_1m', 'binance.umfutures.agldusdt.candles_1m', 'binance.umfutures.ftmusdt.candles_1m', 'binance.umfutures.qtumusdt.candles_1m', 'binance.umfutures.sushiusdt.candles_1m', 'binance.umfutures.btcusdt_240927.candles_1m', 'binance.umfutures.xemusdt.candles_1m', 'binance.umfutures.belusdt.candles_1m', 'binance.umfutures.aptusdt.candles_1m', 'binance.umfutures.ongusdt.candles_1m', 'binance.umfutures.vetusdt.candles_1m', 'binance.umfutures.injusdt.candles_1m', 'binance.umfutures.hntusdt.candles_1m', 'binance.umfutures.aiusdt.candles_1m', 'binance.umfutures.dgbusdt.candles_1m', 'binance.umfutures.neousdt.candles_1m', 'binance.umfutures.klayusdt.candles_1m', 'binance.umfutures.cyberusdt.candles_1m', 'binance.umfutures.arpausdt.candles_1m', 'binance.umfutures.bnbusdt.candles_1m', 'binance.umfutures.tiausdt.candles_1m', 'binance.umfutures.renusdt.candles_1m', 'binance.umfutures.gmtusdt.candles_1m', 'binance.umfutures.srmusdt.candles_1m', 'binance.umfutures.gtcusdt.candles_1m', 'binance.umfutures.filusdt.candles_1m', 'binance.umfutures.unfiusdt.candles_1m', 'binance.umfutures.powrusdt.candles_1m', 'binance.umfutures.cakeusdt.candles_1m', 'binance.umfutures.maticusdt.candles_1m', 'binance.umfutures.lptusdt.candles_1m', 'binance.umfutures.nearusdt.candles_1m', 'binance.umfutures.seiusdt.candles_1m', 'binance.umfutures.astrusdt.candles_1m', 'binance.umfutures.mdtusdt.candles_1m', 'binance.umfutures.stmxusdt.candles_1m', 'binance.umfutures.nknusdt.candles_1m', 'binance.umfutures.omniusdt.candles_1m', 'binance.umfutures.uniusdt.candles_1m', 'binance.umfutures.arbusdt.candles_1m', 'binance.umfutures.mblusdt.candles_1m', 'binance.umfutures.xmrusdt.candles_1m', 'binance.umfutures.blzusdt.candles_1m', 'binance.umfutures.crvusdt.candles_1m', 'binance.umfutures.qntusdt.candles_1m', 'binance.umfutures.tnsrusdt.candles_1m', 'binance.umfutures.cotiusdt.candles_1m', 'binance.umfutures.sfpusdt.candles_1m', 'binance.umfutures.btcusdt.liquidation', 'binance.umfutures.tusdt.candles_1m', 'binance.umfutures.scusdt.candles_1m', 'binance.umfutures.ethusdt_240628.candles_1m', 'binance.umfutures.bakeusdt.candles_1m', 'binance.umfutures.mtlusdt.candles_1m', 'binance.umfutures.chrusdt.candles_1m', 'binance.umfutures.flmusdt.candles_1m', 'binance.umfutures.dashusdt.candles_1m', 'binance.umfutures.orbsusdt.candles_1m', 'binance.umfutures.truusdt.candles_1m', 'binance.umfutures.tlmusdt.candles_1m', 'binance.umfutures.dymusdt.candles_1m', 'binance.umfutures.solusdt.long_short', 'binance.umfutures.btsusdt.candles_1m', 'binance.umfutures.pythusdt.candles_1m', 'binance.umfutures.ckbusdt.candles_1m', 'binance.umfutures.darusdt.candles_1m', 'binance.umfutures.movrusdt.candles_1m', 'binance.umfutures.antusdt.candles_1m', 'binance.umfutures.axsusdt.candles_1m', 'binance.umfutures.dogeusdt.candles_1m', 'binance.umfutures.nearusdt.agg_trade', 'binance.umfutures.steemusdt.candles_1m', 'binance.umfutures.ambusdt.candles_1m', 'binance.umfutures.xrpusdt.candles_1m', 'binance.umfutures.1inchusdt.candles_1m', 'binance.umfutures.pendleusdt.candles_1m', 'binance.umfutures.peopleusdt.agg_trade', 'binance.umfutures.mkrusdt.candles_1m', 'binance.umfutures.atausdt.candles_1m', 'binance.umfutures.superusdt.candles_1m', 'binance.umfutures.icxusdt.candles_1m', 'binance.umfutures.ethfiusdt.candles_1m', 'binance.umfutures.wifusdt.agg_trade', 'binance.umfutures.solusdt.liquidation', 'binance.umfutures.solusdt.orderbook', 'binance.umfutures.rsrusdt.candles_1m', 'binance.umfutures.arbusdt.agg_trade', 'binance.umfutures.yggusdt.candles_1m', 'binance.umfutures.thetausdt.candles_1m', 'binance.umfutures.fttusdt.candles_1m', 'binance.umfutures.tokenusdt.candles_1m', 'binance.umfutures.mantausdt.candles_1m', 'binance.umfutures.adausdt.candles_1m', 'binance.umfutures.metisusdt.candles_1m', 'binance.umfutures.celrusdt.candles_1m', 'binance.umfutures.galausdt.candles_1m', 'binance.umfutures.oneusdt.candles_1m', 'binance.umfutures.solusdt.trade', 'binance.umfutures.1000ratsusdt.candles_1m', 'binance.umfutures.egldusdt.candles_1m', 'binance.umfutures.dydxusdt.candles_1m', 'binance.umfutures.ordiusdt.candles_1m', 'binance.umfutures.bomeusdt.candles_1m', 'binance.umfutures.duskusdt.candles_1m', 'binance.umfutures.phbusdt.candles_1m', 'binance.umfutures.c98usdt.candles_1m', 'binance.umfutures.omgusdt.candles_1m', 'binance.umfutures.rdntusdt.candles_1m', 'binance.umfutures.enausdt.candles_1m', 'binance.umfutures.ssvusdt.candles_1m', 'binance.umfutures.blurusdt.candles_1m', 'binance.umfutures.yfiusdt.candles_1m', 'binance.umfutures.iotxusdt.candles_1m', 'binance.umfutures.bondusdt.candles_1m', 'binance.umfutures.roseusdt.candles_1m', 'binance.umfutures.bnbusdt.agg_trade', 'binance.umfutures.straxusdt.candles_1m', 'binance.umfutures.xvsusdt.candles_1m', 'binance.umfutures.wusdt.candles_1m', 'binance.umfutures.sandusdt.candles_1m', 'binance.umfutures.perpusdt.candles_1m', 'binance.umfutures.dotusdt.candles_1m', 'binance.umfutures.btcusdt.orderbook', 'binance.umfutures.bntusdt.candles_1m', 'binance.umfutures.kasusdt.candles_1m', 'binance.umfutures.rlcusdt.candles_1m', 'binance.umfutures.slpusdt.candles_1m', 'binance.umfutures.wifusdt.candles_1m', 'binance.umfutures.avaxusdt.agg_trade', 'binance.umfutures.xlmusdt.candles_1m', 'binance.umfutures.frontusdt.candles_1m', 'binance.umfutures.roninusdt.candles_1m', 'binance.umfutures.maskusdt.candles_1m', 'binance.umfutures.nmrusdt.candles_1m', 'binance.umfutures.hftusdt.candles_1m', 'binance.umfutures.portalusdt.candles_1m', 'binance.umfutures.memeusdt.candles_1m', 'binance.umfutures.1000pepeusdt.candles_1m', 'binance.umfutures.1000shibusdt.candles_1m', 'binance.umfutures.hifiusdt.candles_1m', 'binance.umfutures.btcusdt.agg_trade', 'binance.umfutures.bnxusdt.candles_1m', 'binance.umfutures.1000flokiusdt.candles_1m', 'binance.umfutures.ctkusdt.candles_1m', 'binance.umfutures.hotusdt.candles_1m', 'binance.umfutures.btcusdt_240628.candles_1m', 'binance.umfutures.bsvusdt.candles_1m', 'binance.umfutures.icpusdt.candles_1m', 'binance.umfutures.agixusdt.candles_1m', 'binance.umfutures.alphausdt.candles_1m', 'binance.umfutures.chzusdt.candles_1m', 'binance.umfutures.bicousdt.candles_1m', 'binance.umfutures.tonusdt.candles_1m', 'binance.umfutures.joeusdt.candles_1m', 'binance.umfutures.rezusdt.candles_1m', 'binance.umfutures.1000satsusdt.candles_1m', 'binance.umfutures.ethusdt_240927.candles_1m', 'binance.umfutures.btcusdt.trade', 'binance.umfutures.suiusdt.candles_1m', 'binance.umfutures.rayusdt.candles_1m', 'binance.umfutures.rifusdt.candles_1m', 'binance.umfutures.arusdt.candles_1m', 'binance.umfutures.1000luncusdt.candles_1m', 'binance.umfutures.api3usdt.candles_1m', 'binance.umfutures.hookusdt.candles_1m', 'binance.umfutures.1000xecusdt.candles_1m', 'binance.umfutures.btcusdt.open_interest', 'binance.umfutures.bchusdt.candles_1m', 'binance.umfutures.magicusdt.candles_1m', 'binance.umfutures.lqtyusdt.candles_1m', 'binance.umfutures.radusdt.candles_1m', 'binance.umfutures.btcusdt_240329.candles_1m', 'binance.umfutures.wldusdt.candles_1m', 'binance.umfutures.gasusdt.candles_1m', 'binance.umfutures.usdcusdt.candles_1m', 'binance.umfutures.ntrnusdt.candles_1m', 'binance.umfutures.zecusdt.candles_1m', 'binance.umfutures.ognusdt.candles_1m', 'binance.umfutures.glmrusdt.candles_1m', 'binance.umfutures.tomousdt.candles_1m', 'binance.umfutures.iotausdt.candles_1m', 'binance.umfutures.ontusdt.candles_1m', 'binance.umfutures.atomusdt.candles_1m', 'binance.umfutures.ethwusdt.candles_1m', 'binance.umfutures.peopleusdt.candles_1m', 'binance.umfutures.celousdt.candles_1m', 'binance.umfutures.stxusdt.candles_1m', 'binance.umfutures.leverusdt.candles_1m', 'binance.umfutures.storjusdt.candles_1m', 'binance.umfutures.aevousdt.candles_1m', 'binance.umfutures.ondousdt.candles_1m', 'binance.umfutures.dodoxusdt.candles_1m', 'binance.umfutures.kavausdt.candles_1m', 'binance.umfutures.ankrusdt.candles_1m', 'binance.umfutures.linkusdt.candles_1m', 'binance.umfutures.beamxusdt.candles_1m', 'binance.umfutures.arkmusdt.candles_1m', 'binance.umfutures.compusdt.candles_1m', 'binance.umfutures.defiusdt.candles_1m', 'binance.umfutures.btcdomusdt.candles_1m', 'binance.umfutures.filusdt.agg_trade', 'binance.umfutures.galusdt.agg_trade', 'binance.umfutures.algousdt.candles_1m', 'binance.umfutures.lrcusdt.candles_1m', 'binance.umfutures.axlusdt.candles_1m', 'binance.umfutures.oceanusdt.candles_1m', 'binance.umfutures.aceusdt.candles_1m', 'binance.umfutures.ensusdt.candles_1m', 'binance.umfutures.auctionusdt.candles_1m', 'binance.umfutures.highusdt.candles_1m', 'binance.umfutures.oxtusdt.candles_1m', 'binance.umfutures.taousdt.candles_1m', 'binance.umfutures.ksmusdt.candles_1m', 'binance.umfutures.strkusdt.candles_1m', 'binance.umfutures.jtousdt.candles_1m', 'binance.umfutures.myrousdt.candles_1m', 'binance.umfutures.audiousdt.candles_1m', 'binance.umfutures.umausdt.candles_1m', 'binance.umfutures.luna2usdt.candles_1m', 'binance.umfutures.snxusdt.candles_1m', 'binance.umfutures.omusdt.candles_1m', 'binance.umfutures.woousdt.candles_1m', 'binance.umfutures.idexusdt.candles_1m', 'binance.umfutures.jupusdt.candles_1m', 'binance.umfutures.achusdt.candles_1m', 'binance.umfutures.sxpusdt.candles_1m', 'binance.umfutures.reefusdt.candles_1m', 'binance.umfutures.fetusdt.candles_1m', 'binance.umfutures.dentusdt.candles_1m', 'binance.umfutures.avaxusdt.candles_1m', 'binance.umfutures.combousdt.candles_1m', 'binance.umfutures.waxpusdt.candles_1m', 'binance.umfutures.rndrusdt.candles_1m', 'binance.umfutures.solusdt.open_interest', 'binance.umfutures.zrxusdt.candles_1m', 'binance.umfutures.btcusdt.long_short']\n"
     ]
    }
   ],
   "source": [
    "from qubx.data.readers import DataReader, InMemoryDataFrameReader\n",
    "from qubx.utils.time import infer_series_frequency, handle_start_stop\n",
    "\n",
    "r1 = InMemoryDataFrameReader(c1)\n",
    "print(r1.get_names())\n",
    "print(r.get_names('candles'))\n",
    "\n",
    "\n",
    "# d1 = r1.read('BTCUSDT', '2024-01-01', '2024-01-01 01:00', RestoreTicksFromOHLC())"
   ]
  },
  {
   "cell_type": "code",
   "execution_count": 9,
   "metadata": {},
   "outputs": [],
   "source": [
    "s = pd.Series([1, 2, 3, 4, 5], name='rrr')"
   ]
  },
  {
   "cell_type": "code",
   "execution_count": 31,
   "metadata": {},
   "outputs": [
    {
     "data": {
      "text/plain": [
       "numpy.datetime64('2020-01-01T00:00:00.000000000')"
      ]
     },
     "execution_count": 31,
     "metadata": {},
     "output_type": "execute_result"
    }
   ],
   "source": [
    "pd.Timestamp('2020-01-01').as_unit('ns').asm8"
   ]
  },
  {
   "cell_type": "code",
   "execution_count": 18,
   "metadata": {},
   "outputs": [
    {
     "data": {
      "text/plain": [
       "(0, 1)"
      ]
     },
     "execution_count": 18,
     "metadata": {},
     "output_type": "execute_result"
    }
   ],
   "source": [
    "ll = list(zip(s.index, s.values))\n",
    "ll.pop(0)\n"
   ]
  },
  {
   "cell_type": "code",
   "execution_count": 22,
   "metadata": {},
   "outputs": [
    {
     "data": {
      "text/plain": [
       "(4, 5)"
      ]
     },
     "execution_count": 22,
     "metadata": {},
     "output_type": "execute_result"
    }
   ],
   "source": [
    "\n",
    "ll.pe(0)"
   ]
  },
  {
   "cell_type": "code",
   "execution_count": 66,
   "metadata": {},
   "outputs": [
    {
     "name": "stdout",
     "output_type": "stream",
     "text": [
      "\u001b[32m2024-07-23 12:17:27.040\u001b[0m [ \u001b[1mℹ️\u001b[0m ] \u001b[1m\u001b[33mTestStrategy\u001b[0m\u001b[1m new parameters:\n",
      "\tset \u001b[32mtimeframe\u001b[0m\u001b[1m <- \u001b[31m1h\u001b[0m\u001b[1m\n",
      "\tset \u001b[32mfast_period\u001b[0m\u001b[1m <- \u001b[31m3\u001b[0m\u001b[1m\n",
      "\tset \u001b[32mslow_period\u001b[0m\u001b[1m <- \u001b[31m24\u001b[0m\u001b[1m\u001b[0m\n"
     ]
    },
    {
     "data": {
      "application/vnd.jupyter.widget-view+json": {
       "model_id": "a20e7afbc44f4b199a8fd70cf07a0b8f",
       "version_major": 2,
       "version_minor": 0
      },
      "text/plain": [
       "  0%|          | 0/2 [00:00<?, ?it/s]"
      ]
     },
     "metadata": {},
     "output_type": "display_data"
    },
    {
     "name": "stdout",
     "output_type": "stream",
     "text": [
      "\u001b[32m2024-07-23 12:17:27.040\u001b[0m [ \u001b[1mℹ️\u001b[0m ] \u001b[1mSimulatedData.binance.um initialized\u001b[0m\n",
      "\u001b[32m2024-07-23 12:17:27.040\u001b[0m [ \u001b[1mℹ️\u001b[0m ] \u001b[1m(StrategyContext) Subscribing to ohlc updates using {'timeframe': '5Min', 'nback': 10} for \n",
      "\t['BTCUSDT'] \u001b[0m\n"
     ]
    },
    {
     "data": {
      "application/vnd.jupyter.widget-view+json": {
       "model_id": "c9a2620d127b4749a8d131d73f14468d",
       "version_major": 2,
       "version_minor": 0
      },
      "text/plain": [
       "  0%|          | 0/10412 [00:00<?, ?it/s]"
      ]
     },
     "metadata": {},
     "output_type": "display_data"
    },
    {
     "name": "stdout",
     "output_type": "stream",
     "text": [
      "\u001b[32m2024-07-23 12:17:27.407\u001b[0m [ \u001b[1mℹ️\u001b[0m ] \u001b[1m(StrategyContext) sending market buy for 1.0 of BTCUSDT ...\u001b[0m\n",
      "\u001b[32m2024-07-23 12:17:27.408\u001b[0m [ \u001b[1mℹ️\u001b[0m ] \u001b[1m  ::  traded 1.0 for BTCUSDT @ 42688.850000000006 -> 0.00\u001b[0m\n",
      "\u001b[32m2024-07-23 12:17:27.409\u001b[0m [ \u001b[1mℹ️\u001b[0m ] \u001b[1mOrder SIM-ORDER-BTCUSDT-100001 MARKET BUY 1.0 of BTCUSDT -> CLOSED\u001b[0m\n",
      "\u001b[32m2024-07-23 12:17:27.633\u001b[0m [ \u001b[1mℹ️\u001b[0m ] \u001b[1m(StrategyContext) sending market sell for 1.0 of BTCUSDT ...\u001b[0m\n",
      "\u001b[32m2024-07-23 12:17:27.633\u001b[0m [ \u001b[1mℹ️\u001b[0m ] \u001b[1m  ::  traded -1.0 for BTCUSDT @ 43728.85 -> 1040.05\u001b[0m\n",
      "\u001b[32m2024-07-23 12:17:27.633\u001b[0m [ \u001b[1mℹ️\u001b[0m ] \u001b[1mOrder SIM-ORDER-BTCUSDT-100002 MARKET SELL 1.0 of BTCUSDT -> CLOSED\u001b[0m\n",
      "\u001b[32m2024-07-23 12:17:28.190\u001b[0m [ \u001b[1mℹ️\u001b[0m ] \u001b[1mSimulatedData.binance.um initialized\u001b[0m\n",
      "\u001b[32m2024-07-23 12:17:28.190\u001b[0m [ \u001b[1mℹ️\u001b[0m ] \u001b[1m(StrategyContext) Subscribing to ohlc updates using {'timeframe': '5Min', 'nback': 10} for \n",
      "\t['BTCUSDT'] \u001b[0m\n"
     ]
    },
    {
     "data": {
      "application/vnd.jupyter.widget-view+json": {
       "model_id": "0cc64ee419ae459bae11273eb0fda4b2",
       "version_major": 2,
       "version_minor": 0
      },
      "text/plain": [
       "  0%|          | 0/10412 [00:00<?, ?it/s]"
      ]
     },
     "metadata": {},
     "output_type": "display_data"
    },
    {
     "name": "stdout",
     "output_type": "stream",
     "text": [
      "\u001b[32m2024-07-23 12:17:28.744\u001b[0m [ \u001b[1mℹ️\u001b[0m ] \u001b[1m(StrategyContext) sending market buy for 1.0 of BTCUSDT ...\u001b[0m\n",
      "\u001b[32m2024-07-23 12:17:28.744\u001b[0m [ \u001b[1mℹ️\u001b[0m ] \u001b[1m  ::  traded 1.0 for BTCUSDT @ 45378.65 -> 0.00\u001b[0m\n",
      "\u001b[32m2024-07-23 12:17:28.744\u001b[0m [ \u001b[1mℹ️\u001b[0m ] \u001b[1mOrder SIM-ORDER-BTCUSDT-100001 MARKET BUY 1.0 of BTCUSDT -> CLOSED\u001b[0m\n",
      "\u001b[32m2024-07-23 12:17:28.744\u001b[0m [ \u001b[1mℹ️\u001b[0m ] \u001b[1m  ::  traded 1.0 for BTCUSDT @ 45378.65 -> 0.00\u001b[0m\n",
      "\u001b[32m2024-07-23 12:17:28.744\u001b[0m [ \u001b[1mℹ️\u001b[0m ] \u001b[1mOrder SIM-ORDER-BTCUSDT-100001 MARKET BUY 1.0 of BTCUSDT -> CLOSED\u001b[0m\n"
     ]
    }
   ],
   "source": [
    "from qubx.backtester.simulator import simulate\n",
    "\n",
    "\n",
    "QubxLogConfig.set_log_level(\"INFO\")\n",
    "rep = simulate(\n",
    "    {\n",
    "        \"test0\": [pd.Series(\n",
    "            {\n",
    "                \"2024-01-01 10:00\": 1,\n",
    "                \"2024-01-02 12:00\": 0,\n",
    "                \"2024-01-03 12:00\": -1,\n",
    "                \"2024-01-04 15:00\": 0,\n",
    "            }, name='BTCUSDT'), PortfolioRebalancerTracker(None, 1000, 0)],\n",
    "\n",
    "        \"test1\": pd.DataFrame(\n",
    "            {\n",
    "                'BTCUSDT': {\"2024-01-03 10:00\": 1, \"2024-01-03 15:00\": 0}\n",
    "            }\n",
    "        ),\n",
    "        \"test2\": TestStrategy(timeframe=\"1h\", fast_period=3, slow_period=24)\n",
    "    },\n",
    "\n",
    "    r, 10000, [\"BINANCE.UM:BTCUSDT\"], \n",
    "    dict(type=\"ohlc\", timeframe=\"5Min\", nback=10),\n",
    "    \"1h -2Sec\",\n",
    "    \"vip0_usdt\", \n",
    "    \"2024-01-01\", \"2024-01-10\", \n",
    ")"
   ]
  },
  {
   "cell_type": "code",
   "execution_count": 67,
   "metadata": {},
   "outputs": [
    {
     "data": {
      "text/html": [
       "\n",
       "\n",
       "\n",
       "\n",
       "<style>\n",
       ".report_table td, .report_table th {\n",
       "    text-align:left !important;\n",
       "}\n",
       "\n",
       ".wrap_table th {\n",
       "    text-align:center !important;\n",
       "}\n",
       "\n",
       ".wrap_table td, .wrap_table tr {\n",
       "    background: none !important;\n",
       "    text-align:left !important;\n",
       "}\n",
       "\n",
       ".flex-container {\n",
       "   display: flex;\n",
       "  align-items: flex-start;\n",
       "}\n",
       "\n",
       ".table_block {\n",
       "  width:30%;\n",
       "}\n",
       "\n",
       "</style>\n",
       "\n",
       "<table class=\"wrap_table\" width=100%>\n",
       "<th><font size=3 color=\"green\" text-align=\"center\"> Simulation </font></th>\n",
       "<tr><td><font color=\"#3030ff\" size=-2></font></td></tr>\n",
       "</table>\n",
       "\n",
       "<div class=\"flex-container\"><div class=\"\">\n",
       "<img src='data:image/png;base64,iVBORw0KGgoAAAANSUhEUgAAAtAAAAKACAYAAAC12U9rAAAAOXRFWHRTb2Z0d2FyZQBNYXRwbG90bGliIHZlcnNpb24zLjkuMCwgaHR0cHM6Ly9tYXRwbG90bGliLm9yZy80BEi2AAAACXBIWXMAAAxOAAAMTgF/d4wjAACN7UlEQVR4nOzdeZwcRf3/8VftkTshQLgD4QiHcgwgpwdkRQVREMUDuUU88IeUIioiMBlB8ETKLygiiICAJwRUQEGScMmpDBAuuQJJuMl97VW/P6o72zuZmZ2Znd3ZnXk/H488Zrq7ursqO7vzmZpPVRnvPSIiIiIiUpqmWldARERERGQ4UQAtIiIiIlIGBdAiIiIiImVQAC0iIiIiUgYF0CIiIiIiZVAALSIiIiJSBgXQIiIiIiJlUAAtIiIiIlIGBdAiIiIiImVQAC0iIiIiUgYF0CIigyCbzX48m82+nM1ml2Wz2d36KPvbbDZ7bvT8fdls9unBqWXponZsXcXrnZ/NZr9WreuVeM8HstnsjoN5TxGpDy21roCIyFCQzWZfBDYCuoDlwC3AyalUalmF1zoxlUrdntj9k+h6N5ZzrVQqdRewfbl1iOoxC9gH6EzsnplKpQ6p5Ho59RqXuM9vgXmpVOrMSq6VzWY3AI4FpkbbxxP+/96bU+7FaP/t2Wx2MuCA/YFW4GXgJ6lU6rfZbHZL4AXCz5Ho8UHApVKp2xKX/AnwPeDwSuotIo1LPdAiIj0OiQLD3YE9gLICwmw2W6xTYgowpx91q9TJqVRqXOJfv4PnAXA8cHMqlVpZxjlXE4LmKcD6wDHAazllJkY/zxRwG3BDFJzHbgLastnsxhXWW0QalHqgRURypFKp+dls9hZgJ4BsNnsocD6wGfAIcFIqlXoyOvYi8EvgKGD7bDZ7PbAF8NdsNtsFnAOcBTSH4tlXU6nUNtls9h3RebsC84HvpFKpm3Lrks1mpwG/S6VSk6Ptks4rRTab/SZwKuAJHxYuB7ZNpVLPRr3Xv0ulUpdFZY8n0SuczWY9sC3w/qjtPkrBmAncCeyTSqUOT9zr54BPpVI2T1U+DPymzOrvCXw9lUrFvcz/LVQwlUq9CrhsNtsK/DCbzV6VSqW6U6nUqmw2+zBwIHBlmfcXkQamHmgRkRzZbHZz4GDgv9lsdjvgOuBrwAbAzYTgeETilM8CHyH0eH4WeImoNzuVSv0wke6QioLnVuCvwD+BDYGvAtdks9miqRqVnlfgWgcBpwEfJATCHyj3GgCpVOpS4BrgR4ke7t8BB2Wz2YnRvVqAI4CrClxmZ6DcPO/7gIuz2ewR2Wx2ixLPuZ7w/5b8/3qS0EMtIlIyBdAiIj1mZLPZRcDdwGzgPOAzwN9TqdRtqVSqg5A3Oxp4d+K8n6dSqZfLSEHYBxgH/CCVSrWnUqk7gL8RAvFqn/fzbDa7KPHvnGj/p4ErUqnU41Ev7vQS696nVCr1CqEX+lPRroOAN1Op1MMFTpkILC3zNp8C7iL07r+QzWYfyWaze/ZxzoLocb3EvqXR/UVESqYUDhGRHoflDPwjm81uCsyNt1OpVHc2m32ZkM4Re7nM+2wKvJxKpboT++bmXLNa550Sp2HkuVYyoJ2bp0x/XAmcBPwaOJqQs1zIQmB8YruTMDAwVyvQAZBKpRYCpwOnZ7PZSYQPNjOiwYWFxP9Pbyf2jQcWFTlHRGQt6oEWESluAWGgGgDZbNYAmxPyj2M+55zc7XzX3DybzSb/Bm+Rc81qnpfPK4R2JK+TtBwYk9guNtAuX3tnALtks9mdgI8S0jwKeRTYLrH9ErBF9H8NQDabHUNIv1gr0E+lUm8SAuhN6d27nOvjwOv0Thd5B5Atco6IyFrUAy0iUtwfCb2cBxDSEiywGri3yDmvAcXmSL4fWAF8K5vN/hR4D3AIYWBcMZWel88fgSuy2exVwItAOuf4I8AnstnsZYTA9POsPctFbK32RgP0/gxcCzyQSqVeKlKXmwnT0cVB9v3AKsL/+88IAzDPBx4iCqCz2ewPCb3aTxFSak4Cnk2lUm9ls9lkbzbZbHYjQspHGrBxD342mx0FvAs4rkjdRETWoh5oEZEiUqnU04QUhP8D3iQErIekUqn2IqedD5wZ5Ryfluea7dF1Phxd8xfAsalU6qk+6lLJeRdFi57E/x6OrnULcCFwB/Bs9Jj0M6CdEBxfSfEe5MuBd0btnZHYfyVhgGCx9A0IgwsPzmazo6O6rSYMypwGzAOeJwTxn06lUnFv9xjgBkL6xfOEbwkOzbnuomw2uxx4jDAo9FOpVCo528chwKxUKrUAEZEyGO/7+qZRREQaQTw1XSqVerZK19uC0EO8cSqVWtJH2fOA11Op1IXVuHcpstns/cDnU6nU44N1TxGpDwqgRUQEqG4AHeVpXwBMSKVSJ/S7ciIiQ4hyoEVEpKqy2exYQurHXMIUdiIidUU90CIiIiIiZdAgQhERERGRMiiAFhEREREpg3KgS9TW1rYaeKPW9RARERGRsm0wc+bMkdW6mALo0r0xc+bMYkvEioiIiMgQ1NbWNq+a11MKh4iIiIhIGRRAi4iIiIiUQQG0iIiIiEgZFECLiIiIiJRBAbSIiIiISBkUQIuIiIiIlEEBtIiIiIhIGRRAi4iIiIiUQQG0iIiIiEgZFECLiIiIiJRBAbQ0rBk7mN/O2tI017oeIiIiMrwogJaGteMbHDdtLp0/fK95X63rIiIiIsOHAmhpWO1R3/PITt5R25qIiIjIcNJS6wqIDDaTMWOBbR/uSd7wtauNiIiIDDcKoKURLQNYHb36m2B0LSsjIiIiw4tSOKRhxSkczd2sU9uaiIiIyHCiAFoaVpcJjy1lBNBXp8yfn1nfrBqoOomIiMjQpwBaGlZrd3hs6WZCqedsspTdt3ubkQNVJxERERn6FEBLwxrRFR5HdbJJqec0e40bEBERaXQKoKVhtUQ90Ec9xkcz00pbUKXJo4VXREREGlxNetOccycDxwM7A9dZa49PHHsncBWwTbTrYeAUa+0TBa61HnA58CHgTeA71tprC5SdDky11h4dbW8G/Av4J2CttZrOrIHEOdAATZ6JwFt9ndPcrQBaRESk0dWqB3oBcC7wmwLHPgmsB0wCbgJ+X+RaFwPtwEbAUcAvnXM79lUB59wU4E7gJmvtKQqeG8+ozp7nZ93Jmzdva+b0dU6zeqBFREQaXk16oK211wM45/YAJuccWwQsio4boAuYmu86zrmxwOHATtbaZcDdzrmbgGOA0wvd3zm3DXAHcKW19ux+NkeGqacnsWyX1xkXbx/8LO/s65wmr7QnERGRRjdkgwHn3CJgFfB/wHkFim0HdFprn0nsywLFeqC3JvQ8/0rBc8OaD3Dk4Uy7eE9Kfg388L1m/9EdjBi4aomIiMhwMGRnFLDWTox6mI8D5hYoNg5YkrNvMTC+yKV3ArqBPxS7v3PuVODUeLulpWVckeIyTJiMaSWk/PjOZpaubOGx5PEfvte8b3Uzj5892y/MPffb9zArfj59mjHTZ3ml/YiIiDSgIdsDDWCtXQ5cAlzlnNswT5FlsNYcvhOApUUuexMh9/qOKA+60L0vsNZOjv91dnYuK7P6MjSNBlb5tG/yaf/Maff6GX96J3cCPL0+q799D3e+401m9HWR1u41g1xFRESkwQzpADrSBIwBNstz7BmgxTm3bWJfCig6GMxaeyrwN0IQne+6Ur+aCXn1a7wxJvQsj+wMvw8jO4svrPL4BqwY1ckeA1VBERERGdpqNY1dS3TvZqDZOTeKkMvc6Zz7IGE6ukeBsYTZOhYCT+Zex1q73Dl3PfA959yJwK7Ax4B3l1CNk4FfA/9yzu1vrX2t/y2TYaCJnAC6s5k3AEZ0hQC62dOa78RHN2TZ37ejbc/5/LG1i40HvKYiIiIyJNWqB/pMYCVhpoyjo+dnRscmAtcRcpmfI8wHfZC1dhWAc+4M59wtiWt9hfC1/OvReSdZa/ucjiyatu6LwAPA7c65Sf1vlgwDzYQc+DUWjeKKq3bhz5suC1PUNXfn/2A5qpPWLsMbXU10NnlGDUJdRUREZAgyXuOgStLW1jZv5syZk/suKUOZyZhNgJt82u+59kHjAd4cjZ+0wjcB/Gxfc8KyEdx41mz/1kvrmI4rdmPCHgt48KV1uP6kB71mcRERERkGqh3HDYccaJFqWiuFI9eklZjp04wB+Pp9XD5lMb8AaOnGpGf5lV2GjibP6EGoq4iIiAxBCqCl0ayVwhH7xzb8L37e2s1W8fOmbkYmy3U10a4UDhERkcalAFoaTcEe6PkTuAvg0Q1ZPqKL7dec4GnNTDMju03Y7jK0qwdaRESkcQ3ZhVREBkjBHuhuWA2waBRLWrrZKN7f5GlNz2ZVvN3VxOpm37tXWkRERBqHeqClYZiMmQzsQ4Ee6OaoV3lVCytaupmU2N9r+e5uQ3tTt1I4REREGpUCaGkkpwC/o0AA3drNRID2Zla0drN+vL/Jh29q/rUVL0JI4dhwOTsPdGVFRERkaFIALY1kZfSYN4Xj+XU59vz3svvqFpa2drFevL/J0/r8RDru3Zy9ALyh86DnenKkRUREpLEoB1oaSWf0mLcH+uxZfinw3+t2Nkvj3mgIAfTILpq6DW8PQh0Hzff2N+s2eSaceaefW+u6iIiIDCcKoKUhmIwZAWwWbebtgY51NLGktYt14u3mblqMh/QsX3T+6OFm33k8tMcCtkLfRImIiJRFb5zSKI4EvhQ9LxoIdzSzcEQX4+Ptlm5GejOQVauNMR2MW3cVddgyERGRgaUAWhrFwsTzscUKdjSxcFQn69y8rZkDMHE16y0dQceA1q4GOpvWpLSIiIhIGZTCIY0imbaxa7GCXU0s3XwxW+7yegi0J61gwsJRLB/IytVCZxPtta6DiIjIcKQeaGkUrYnn6xcsBXQbVqy7KszzvKwVNl7KiOWtdRlA112vuoiIyGBQAC3DnsmYP5qM6evblBF9HF+jy7BsbHv43Wj2MK4DVrSypF+VHILUAy0iIlIZBdBSDz4FjOujTBxA9xkIdzWxdFx7GFzXEiV+rGxlUV/n/fg95sPnvc/s2Fe5oSIOoKdPMxpIKCIiUgYF0FIvHujjeBxAv9LXhboNy0dEgXNr9NjZxIq+zvvmvdw8bS4z+yo3VHQZVgNMWsm3al0XERGR4UQBtAxbJmNuMhkzJtrc1mTMu4sUjwPop/q6brdZu5e6qykEm/GtC53b3D18fqfiNo3uYNta10VERGQ4GTZv9iJ5HAJsnth2RcqOAM4DjgZ2KHbRbsOy+PmTk1gF0GnWLANeVJMfer9TF7zbHFns+Of/y+cHqy4iIiL1YMi92YuUKTmn8x4mY5oLlBsHzPdpv8yn/dPFLthtWAzw8CYs/sOOjAHoaiotgN5zAeuWUq4Sl77LuLdHm6KrKOZz6r+55qK9zTdz93/qCfaPn2emmdbc4yIiIpKfAmgZ7nID1lEFyu0AvFjKBbsNSwHe9QrrTJ/lfbR7zeqFq1pCHvVgD74b28HW663CYIzvu3QQ1/HkB/hRsXIju9itv/UTERFpFAqgZbi7PWd7dIFyHwDuKeWC3WbtGTeafM80ePPH89VFI/GmwEJEP323+Uwp9ylXVwkDGXON6OYd8fN8Af8/t+a5Bzdl4egO9uxv/URERBqFAmipBy8lnhcKoLt82i8u5WLpWX41wKtje61euCY1ZPos75eMpIsCAfSIrl552VXT3N3Tu15qysWBz3LvmvM9G+ceX9HKwjfG8EprFxtWp5YiIiL1TwG0DHedwAGJ7dEmU3qKQzFXpfgwwDn7MenFiRyTPOYN5PZAP75B6CFu9oxhAIztYJP4eZNnvVLO2WhZz/zYI7rWHjzZ7BnR0cyqKYs5vDq1FBERqX8KoGVYMhlzTvR0NZDsWR4bHfcmYzaJnh8ClD34rqM59GyfNdu/lZ7ley173W3w+BBAP7O+WQXw9mgWP7IRS5u6ew1srJoNljMlft7k8w9WPGd/s8kP32vWDA6Mf8FnTWHeyE6mxvv/tp15FOC1cdztwX/kfwybBWBERERqTQG0DFfxrBJjoNeS1Mk0hSeiJb5vAtYv9wbxbBz5eEIP9P/tbU7d7m1GAjR7mla30N7sByaAHtnZk4e9zdu4G3cwD+eW2f5Nrvn2PcwCeH2s6WrtoumCfTlqVQvLW7t7/m8++j92BjjxYf//xnYM3MwhIiIi9UgBtAxXcfqEgV6LnGyaeD6RnmnuCuVG57WsNf9gwli3wQMt73mJsyEM0Gv2NK9uYfWozrVzjathRBdr8p6PmMOHPvY0u39vf7POz/Y1x1+5q7kGoKOZ5QDn7m8223AFTRuswCxr5e+dTXQ0+RDo5xrXzoSBqK+IiEi9yjsISmSoMRlzMPCwT/vXol3J+Z7j9IqnCEFz0laV3G9cuzfpIsenLmTE0Y8yd8nIELxvsowfN3XTtN88NoXy8okv2dOcv7yVR75xr/9DsXIju8Lv66tj6d54efjwO3Uh1xz5GB+JihzV2h3yr0d09qRknD3bL75xB9PR5Hs+RPx3Y5Y8sQF3HgW8Mo5ngUnl1FlERKSRqQdahou/A1/Kd8CnfTxH8zJgAnAzIcsC4L8DVaGtFtEaL939gef56rteKW1gX64vP8Tp+8zj58XKfG+aGb/9W4z89e5cPOMdPXM6j+noPXvG5ovZBWBcB/sALBoZ/h+6De3NvmcWj/VXMub5dTke4BNP+n0XjOuZ51pERESKUwAtw8nqIsfeCdwBbETokT50MCoUpXKwzUJGNHv4xZ6k49k4AEpd9KSvJcAnrOIICHNQvzqWM+L9hz3Ve/7mLRex3swtmbf+CvZ7YFPevmiv0APf2cTqpkQA3dKFOWu2fyve9gYy0wqu4igiIiIJNUnhcM6dDBwP7AxcZ609PnFsH+Ac4F2E1d9mAadYa18pcK1ZwD6E6cwA5ltrty9Qdjow1Vp7dLS9GfAv4J+AtdZWZfozGTAFA2if9k+ajDmA8Lr5M70HFg6YZ9fjsV1eD729ACtbeDoOqnvKmNW3bcNPTnrQf7fQdfoKoJs8Y98Yg49XRnxhXdOx1SJ6zQWdmWZaP2/wL05k5rsW8IlXx/HqmXf6uRB6oJu68+dAA3Q14YERUNqS5SIiIo2sVjnQC4BzgQNZe3DXusClwD8IQfFFwBXAQUWud7K19rJyKuCcm0LosfyLtfZb5ZwrNZMMoP8HbEvvFI3/EALobnoC6CUwcIPkRnT1nnGjs4n5u7zO2HP2Nxt0Gd6cTsiX/u8K3lPsOnvPL5z+cfO25olD32DqfZN59JBo332TuX38ag6atJI1qws2ezZc1UrXkpHcv8vrHPPSOj3BcJehPR5E+L1pZuzxzb2D/C6DN6GHWgG0iIhIH2oSQFtrrwdwzu0BTM45dkty2zl3ETC7mvd3zm1DCJ6vtNaeXc1ry4BKBtCvEwLoNft82n/RZMwXCDNxxAH0t4APUubAvlKNzAmgO5p4OdqfWtXCv+P93YaO3HNL8cP3mvd++9mwHPeDm/XMCvLZx/zBl+xpzv/yQ5we7xvXzkFdhu7VzfwPYN1VPfnR3U09OdBN3Wywqrl3znOXwRt6UjxERESksOEwC8d+wJw+ypzvnPsB8DTwXWvtrCJltwbuBC621p5XnSrKIEmmZWwQPeb2mL4KbAlrembvJATQA2JUZ+9VB7uamBc97Ta+p+e726xJMSrLt+/hrvj5qhbeSh57bSxn/2Rf7l/Ryuxjs7z2tfu4DKCjmecBukxPkNxlWD2yK9S12bP+qpbe9elqwhvfM8+0iIiIFDakA2jn3C7A2cDHihT7NvAEIbg6Avirc25Xa+1zBcrvRPiKv+iUYc65U4FT4+2WlpZxRYrL4EgGy3HP7xs5ZRaR6IGOcqN/Twisq2bGDjx42FPsOaqTkf/YhmfbXmDqiG5Iz/Jd9002bxnP2KbEgiqVBtBJXU2JwYlAtDriDIDn1w2fF67biX90NvECwLIRLEzcf2WzZ+PMNNM6ppsNVrf0zhHvNnQbCudIi4iISI8hG0A756YCtxAG991VqJy19v7E5pXOuc8CBwP/V+CUmwhf/9/hnNvPWju3wHUvAC6It2fMmDEvXzkZeCZj4sFyXYntTmA58FBO8RXAaJ/2D5qMaQLwaf9nwsDCqjnsSb/XIxubJaM7GNk+jhUmcayria4mz5hRnewR7+s2hQc1vjCRtQYE5po9hflvjuaGQse3js5/en0+PH2W99/fz7yj2/DGwXGdDKubPK27vMZdH3+Kve/ZnNeS50c50AqgRURESjAkp7GLBvjdDpxjrb26zNOjVZYLs9aeCvyNEERvVlktZRBNjB7j1+v6wFvR409zyq6EEEz6tB/QWVW6muge20FrezPLWrt77e9s8ow6+H9ckShesC4Lxvf0FBey/4t+8mn3+uv7KhfP0vHdO/1TyWnqug2rmrsZ8fGn2BugvXntHugz7ubR700zA7IMuYiISD2p1TR2LdG9m4Fm59wooNNa2xkFtHcAF1lrL+njOhOBvQmDDDuBzxBypm0J1TgZ+DXwL+fc/tba1/o6QWomDpzjeYonAIt92ueb1u5+yly2u1KdTXSObae5vZmlANfszE1HAZ2GzibP6OWtrCIamHfMo2EQ4/nvM6nWLrY67V4/I77OTq/3XgylEhfuzReXjOTPhUbEdhtWNSdynNubWZU83tVEN4QBhoSefRERESmgVj3QZxJ6Ck8Hjo6enxkdO5Ew0G+6c25Z/C8+0Tl3hnMunqmjlTAd3hvAm8BXgcOstc/0VYFozucvAg8AtzvntJTx0BUHzvHrdQSF54Q+DXpSJwbSHgtYf8MVNHU0hQC6synkaHeHFI7RT27AHbnnfOduHjnt3z2pGNOnGbNOseVhSvS1+/yvz57tC/ZkdzexakRXzweL9ubegy/juaubPev3vzYiIiL1rVbT2E0Hphc4lgEyRc49L/H8Dei9ElsJ901udwPHlnq+1Ey+ADrvtHADnbaR1BzdqaOZt6NdXQCdho7WLjbeYDk7Ajy6IcsmrWD0pnmu0eQHbo7qpG7D8gOfY9t4e1VLz5R4AB1NYZBjc7cCaBERkb4MyRxokRxNOY8jGKSVBkvxdjS4rzuaNq6riY53v8z/O+g5to/29wrq704M4GvyrAvwyji6GUDdpneP84pWeq3sufXCUI9mX3hBFxEREQkUQMtwkK8HesgE0KtayAL4aDn5LkPHyK7w7c5bo/H/2ZQ/AWSmmdEAHYkBfM2edR/fgBXNAxo+rx1AtzfzZnJ7wxXh/7alOwTSIiIiUpgCaBkOcnugWxlCAXSXCXNMexN6kcd1sN72b4Up4f66Pdec8B//eQy0djEVoKW7Z8q6lm426myia2QXTRfsa44ZqDrmBtAdzbye3P7btjwOoKnsRERE+qYAWoaDId0DHU8dF/dAr7OKdeJj8fzPHU34kV3suGAcXSO6egLoA57nD7u+xvj7N+O5jz/F5efub9aaVvGJSWuttli27jA/NrOnsGDeeLqWjOSfyeMffcbv/I9teLZJi6mIiIj0SQG0DAdDOoCO+Wi1wc6mnlUHu6PBjh1NdI/qZJu3R7O6NRFAz5/Ai6+PobuzifatFtE6tp0PnLufmRIff2Uc3e98w/daLrwS3U0sAZizIb+avMS3nH6Xv2+tMoYuLectIiLStyG7EqFIwpAeRJjgARaM5znCIi+YaFGfzia6/9+DnNsNPLFBz5Lcy1t59dZteWriSrYDSL3K997/IltMn2aaDIz6gim8AEs5ug3LADqa1lr6PFmms8kXXxFRRERE1AMtw0PcA71ftDz3RRSYxq6WjA/1fHQj3h3vG93JZhACaAi/cCO61rSHZs/ILsPKrqYwr/Umy9gAYOPlnJeezYqFowrOd12WOIDubOqd+5xTplM90CIiIn1TAC3DQfw6PRrYBNiQnuW9a2bJiDDLRrzd5MOqg+lZviveN6Iz5EPHK/0BjEwG0N2M7DKs6mwKKwNOXhIWOxnZycYAi0axZhGh/ug2YbGXjqbe09fllOkyqAdaRESkLwqgZThoTjzfPHocEq/dhaN6esKb88xgsWwEcwFSrzEOYHUztHaFtI74nO4mVm77FrsDjG8PgbmJUinam6uTqtJtwsIpnU0sKFKms0k90CIiIn0aEkGISB+SAfTk6NHkKzjoErVoSgTQ88fTdffmvHb8I/7oZPEVrb1zmlu6GdFtWPX4Rvwr3vf6ONpbu0PP9W6vsNasHJXoJvRkdzUxv2AZBdAiIiIlqWgQocmYVmB7wtfoi4CnfdoPuZxUqRvJD3pb5dk3JCQD6Ct2ZSqGjvfmlFnV0juAbu6mtcuwYv54fg4cBjC6g+ZJK9gBYOLq6nxQmD7Le4whPavw72mUA60UDhERkT6UFUCbjPkI8GXgAMIgrqXAeKDVZMwdwCU+7f9W9VpKo0v2QG8ZPb5dg3qsLREON3f39N6eead/MV/xboNfNoKO7+9ntttqIT878jm2+/n6LO0yPYP7jIcDnwuLrrw+hu4Nq1TVn+7LJ79R5Hi3oaNJOdAiIiJ9KrkXz2TMPcBJwHXAVJ/26/i0n+zTfh1gKnAN8OWonEg1JQPoKcCvge/WqC5r+Jy+4Xw50LkM8MYYFo/uYO8jH+dggPZmXupq6r209ivj6H5pAp1NvnqpKt+41/+l2HH1QIuIiJSmnB7oL/u0fyzfAZ/2CwiB9XUmY3auSs1EeiQ/6E0CHvBpX5Xp3arln1vz3ILx/KGvcn/blounvs1hzZ4J8b6OZl7oNrw5ewrz93/RT+6YaDrGtdO0uhnfVJVZoEvjQw605oYXERHpQ8lvloWC50rLiZQh2QO9PvR/aetqMIng9kPP+akf6qP8vZvzxhcf9vYfU83BzT7MygHQ0cwz0dR3k6Pt7tYuWryBwQygu9FCKiIiIqUou7fJZMxGwDeA9wHrEXJR7wR+5tP+1epWTwQIPdDXAI8AZ0CYM3m48VHGdGcTq5u7GR/vP3uWX54s19FE98guuHMKf27tYp0jB6l+3YaOlm76vWy4iIhIvSt3EOHGwMPAG8CNwAJgM+AQ4BiTMe/yaV9woQaRCjUTguaFwLoMkR7o3BzoUkUB9LhCxzua6BrZBcc94gcrdgbAGzrUAy0iItK3cnugvwvcC3zGp/2aldVMxqSB30fHT65e9USAEEB3ASui7SERQJfj1m14+pXx/Ps9QGcTK5t94Z7eziY6B7Fqa3Qb2pUDLSIi0rdy3yw/CHw8GTwD+LT3JmOmAzOqVC+RpFbCtInxIiBDIoWjvRmfXKK7mIOe9TvEzzubWBkvlJJPRzNdhY4NpG4NIhQRESlJuW+WmwDPFDj2DLBp/6ojklcr0A48H20PiR7oy3fn3R5Wf6fM81a0Mv9zj3BcoePLR7CMML5gUHlob6pwcSUREZFGUvabpU/7vL1jPu27TMYM4pwB0ghMxlxBGET4Kj09z0OiB/r0u/x9lZw3fzzToXAA/eo4Hls4is3XrbRiFeoOOdAKoEVERPpQ7pvlaJMxVxU4ZqDvhSREynQ8sAy4kNALDUOkB7pSZ97pX7xnC/P6e14m7yKDz6zHIc/txaSzBrle3tCxy6vsOsi3FRERGXbKDaC/38fx8yqtiEgRIwg50PHiKcM6gAZY1RLa8P33sX3ukorTZ3lPmOlmsPmtF2kWDhERkb6UFUD7tM8MVEVEiogD6I5oe0ikcPTHshG8DUz57p2+0JiCQadlvEVEREpT7jzQU4Aun/bzou0xhKnrdgL+Dfy4UI60SD+1+7TvNhkDddADvXAUTwC71boeSU0ogBYRESlFU5nlLwf2TGxfDBxBmIHjc8A5VaqXSK49Es+HfQ90d9OadJQhw3iNYRARESlFuQH0LsA/AUzGjAU+A3zap/03gY8RgmmRgbBd4vmw74H21Gau52KaPCNqXQcREZHhoNwAeoRP++XR8z2BpT7tHwbwaf8UMKmalRNJWFXg+bDkKW0BlsGkKexERERKU+4b5gsmY6b5tJ8FHArMjA+YjNmAnqWWi3LOnUyYnmxn4Dpr7fGJY/sQUkHeReilmwWcYq19pcC11iOklnwIeBP4jrX22gJlpwNTrbVHR9ubAf8i9Kpba63msR66Phc9nk/PYMLhywy9HuglI3kI+Gyt6yEiIjLUldsDPR2YYTLmP8CXgQsSxz4GPFDidRYA5wK/yXNsXeBSYEtgCrAUuKLItS4mzA+8EXAU8Evn3I59VcA5NwW4E7jJWnuKguehx2TMuMTm2wA+7c/waT/sf1ZDsQf6q/f7CxaMG3qBvYiIyFBT7jR2N5qM2QNIAf/xaf9C4vCThJk4+mStvR7AObcHMDnn2C3JbefcRcDsfNdxzo0FDgd2stYuA+52zt0EHAOcXuj+zrltgDuAK621Z5dSZ6mJ5KC24d/rnDAUc6ABMDB9mjHRXNQiIiKSRyVLeT8LPJtn/z1VqdHa9gPmFDi2HdBprU3OpZsF9i9yva0JPc8XW2u18MvQluylrasAetkIHq51HfLpBkz4u1BX/98iIiLVVO480C8DuT1THcBc4Dqf9r+uVsUAnHO7AGcT0kPyGQcsydm3GBhf5LI7EeKEP/Rx71OBU+PtlpaWcUWKy8BoTjyvq4Du1H/7q4Gra12PXN1NeNOzcI2IiIjkUW4P9NF59rUSenW/bjJmok/7H/e/WuCcmwrcQhjcd1eBYsuACTn7JhDypgu5CXgduMM5t5+1dm6+QtbaC0jkeM+YMWNeqXWXqknm6HfWrBYNpMvgCdPZLe+zsIiISIMqaxChT/vZef7d7tP+UuAw4AvVqFQ0wO924BxrbbFeumeAFufctol9KQqnfABgrT0V+BshiN6sv/WVAbOmB7oeBg4OB90Gb2BUreshIiIylJU7C0dBPu2fATYspaxzrsU5N4oQIDU750Y551qiY5sRBvhdZK29pNh1rLXLgeuB7znnxjrn3kNI9yjlq/GTCdPw/cs5t1Ep9ZZB19x3EammboM3WlBFRESkqKoF0CZj9gRKTXM4k7Ca3OmEtJCV0T6AEwkpIdOdc8vif/GJzrkznHPJmTq+AowmpGVcB5xkrS3aAw0QTVv3RcLUe7c757QIzNBTtdenlKYr9EC31roeIiIiQ5nxZXwzbjLmhDy7WwlzNn8OON2n/W+rUrMhpq2tbd7MmTMn911SqsVkzFbA88D6Pu3frnV9GsETG5gVM97BHmfc6Z+odV1ERESqpdpxXLmDCI/Js68TeAk41qf9P/tfJZE1moE7FTwPniiFQz3QIiIiRZS7kErbQFVEJI8mhuqCI3Wq29CNUjhERESKKjnH1GRMSQPtSi0nUoJmhuCS1/Ws2+CbvGbhEBERKaacHug7TMbMJsxwcb9P+zWBjcmYJmAv4FjCyoE7VbWW0qiaUQ/0oFIPtIiISN/KCaB3I8xa8WtgK5MxzxMWLBkPbEVY3vtXwNeqXEdpXErhGGTKgRYREelbyQG0T/t24CLgIpMxmwM7AxOBhcCjPu3nD0gNpZEphWOQdTXRrWnsREREiit3Fg4AfNq/DLxc5bqI5FIP9CDzhm71QIuIiBSnhSpkKFMP9CAzHjOqkx1qXQ8REZGhTAG0DGUaRDjI9p7P+ic/yPm1roeIiMhQpgBahjKlcNRIZppprnUdREREhqqKAmiTMalqV0QkD6Vw1IhBc0GLiIgUUtEgQuB2kzELCHNCX+PT/pUq1kkkphSOGjGeMcDyWtdDRERkKKo0hWMT4Gxgb+B/JmP+aTLmaJMxY6pXNRGaUA90TagHWkREpLCKAmif9p0+7W/0af8pYDPgj8C3gNdMxlxlMuY91aykNKxWoL3WlWhExjOy1nUQEREZqvo1iNBkzDjgMOAIYDLwe+B/wDUmYy7ud+2k0Y1AAXRNGM/oWtdBRERkqKooB9pkzEeAY4APA/cAlwEzfNqvio5fDLwE/L8q1VMakwLoGjGoB1pERKSQSgcR/gC4Evh6vgGEPu3fNhnztf5UTIQQQHfUuhKNqEk90CIiIgVVmsJxjk/7n+QGzyZjPhk/92l/Wb9qJqIc6JpRD7SIiEhhlQbQhYLjSyutiEgeSuGoEQ0iFBERKaysFA6TMVtHT5tMxmwFmMThrYFV1aqYCAqgB92t2/DMQc+xXZPXNHYiIiKFlJsD/SzgCYHzcznHXgWmV6FOIjHlQA+yg57129+9hXlVKRwiIiKFlRVA+7RvAjAZM9un/f4DUyWRNVrRtxqDrruJLqMeaBERkYIqXUhFwbMMhpEohWPQdUO38RXP0CMiIlL3Sn6TNBlzq0/7g6LndxFSOdbi036/KtVNZAywotaVaDTdhm4Tev9FREQkj3J6ma5KPNcUdTIYFEDXQLehy3gF0CIiIoWUHED7tL828fzKgamOSC9jgOW1rkSj6TZ0N6kHWkREpKBKl/I+odAxn/a/qbw6Ir2oB7oGvKFbPdAiIiKFVTpQ6Jic7Y2BbYB7AAXQUi0KoGug29BlKv/bICIiUvcqepP0ad+Wuy/qlX5HKec7504Gjgd2Bq6z1h6fODYCuBbYA5gCtFlrZxW51ixgH6Az2jXfWrt9gbLTganW2qOj7c2AfwH/BKy1Nu/ASKkZBdA1EOVAj6h1PURERIaqavYy/RZ4E/hmCWUXAOcCBwKj8xy/G7gQ+FOJ9z7ZWlvWwEbn3BTgDuAv1tpvlXOuDBoF0DXgNY2diIhIUZXmQOfOHz0GOBpYVMr51trrAZxzewCTc461E4JnnHNdldSvL865bQjB85XW2rMH4h5SFQqga0ApHCIiIsVV+ibZydrzQM8HvtC/6lTsfOfcD4Cnge8WS/kAtgbuBC621p43GJWTiimArgFNYyciIlJcpQH0Vjnby33av9nfylTo28AThBXrjgD+6pzb1Vr7XIHyOwHdwB+KXdQ5dypwarzd0tIyrjrVlTIogK4Bb+hsUg+0iIhIQZUOIpxb7YpUylp7f2LzSufcZ4GDgf8rcMpNwOvAHc65/ay1edtirb0AuCDenjFjxrwqVVlK1+TTfkDSeKSwqAdaAbSIiEgBleZAF1zKO6lGy3p7wBQrYK091Tk3kp4gev7gVE1KZTKmmT5+jjIwPErhEBERKabSXqaZwAnAlcBcYAvgOMIc0M/3dbJzriW6dzPQ7JwbBXRaazuj4yPpCZ5GRMdX504z55ybCOwNzCbkZX8G2A+wJbThZODXwL+cc/tba18r4RwZPM8Dm9W6Eo2o29CpQYQiIiKF5c6mUaoPAQf6tP+uT/tLfdqfSZiS7kCf9lfG/4qcfyawEjidMHvHymhf7Olo32bAP6LnUwCcc2c4526JyrUSpsN7gzCF3leBw6y1z/TVgCgY/yLwAHC7c25SaU2XQbJFrSvQqLyhq0kpHCIiIgUZ78tfO8RkzGJgI5/2qxL7RgOv+LSfWL3qDR1tbW3zZs6cObnvklINJmM8gE97pXEMsut2Nrd2NLHk2Kz/dK3rIiIiUg3VjuMq7WWaDfzWZMxZwDxgc2A6cFeV6iUiNeJDCkdzreshIiIyVFWawnF89DgHWAY8RshZ/lwV6iQCYXn1r9W6Eo3IQ1eTBhGKiIgUVOk0dm8DR0QrEm4AvOHTvruqNZNG10QIomWQdRs6m7sZVet6iIiIDFVl9UCbjPlUzq5tfdq/FgfPJmO+Vq2KScMbBazqs5RUnVI4REREiis3hePynO1/52x/rx91EUkaS5h9RQaZh07NwiEiIlJYuQF07owIfW2LlM1kjAE2IqwYKYOs29ChAFpERKSwcgPo3Dnv+toWqUQz0KG8+trwYSnvSgcYi4iI1L2ye5mi3sH431rbIlXQAnTUuhKNykNnk1YiFBERKajcN8lxhCWzYyaxbVAPtFRHC71fZzKIug0dxmsQoYiISCHlBtBbDUgtRHpTAF1DHjoVQIuIiBRWVgDt037uQFVEJEEBdA15Q2eTAmgREZGCNFBIhiIF0DXkwywcCqBFREQKUAAtQ5EC6BryKIAWEREpRgG0DEUKoGuo29ChlQhFREQKUwAtQ5EC6BqKeqD1t0FERKSAkgcRmoy5ixKmqfNpv1+/aiSiALqmNIhQRESkuHJm4bhswGoh0psC6Bryhnb1QIuIiBRWcgDt0/7KgayISIIC6Bry0KGlvEVERAqraLneaPnuE4HPApN82u9iMmY/YGOf9n+sZgWlISmAriEPnc1K4RARESmo0l6m7wGfBy4Ftoj2zQO+XY1KScNTAF1D3tCuHmgREZHCKn2TPB74qE/739MzsPAFYOtqVErqn8mYPU3G/L3A4RFAx2DWR3pEC6kogBYRESmg0jfJZmBZ9DwOoMcl9on0ZR/g4ALHRgMrB7EukqBp7ERERIqr9E3yZuACkzEjYU1O9DnAX6tVMal7q4ocUwBdQ96wWgG0iIhIYZW+SZ4KbAIsBtYh9DxPQTnQUrpiAfSoPo7LAIp6oE2t6yEiIjJUVTQLh0/7JcDHTcZsRBhE+LJP+1erWjOpd6sATMZY4Pc+7V9LHFMPdA15w2rNwiEiIlJYOSsR5uutfiP6t+a4T/vu6lRN6lw8y8aFhNfQtYlj6oGuoWgeaPVAi4iIFFBOD3QnJSzlDeq5kpIkX3uLco6pB7qGvKGjWTnQIiIiBZUTQG+VeP4R4JPA+cBcevKf/1K9qkmda008z/1gNg5QSlCNeFitHGgREZHCylnKe2783GTMqcAePu0XRbueMRnzEPAQ8Muq1lDqVTKAHp1zbDzwv0GsiyR4aFcALSIiUlhFgwgJM2+MofdX72Oi/X1yzp1MWIxlZ+A6a+3xiWMjCPmwexB6ttustbOKXGs94HLgQ8CbwHestdcWKDsdmGqtPTra3gz4F/BPwFprS0lRkX4yGbMO8NvErlE5RSYASwetQtKLN3Q0dyuFQ0REpJBKA+grgdtNxlwIvAxsDpwS7S/FAuBc4EDW7n0EuJswuOxPJVzrYqAd2AjYFfi7cy5rrZ1T7CTn3BTgDuAv1tpvlVhvqY5F0eNvCa+fNa8BkzGTgC/Se1ChDCKlcIiIiBRXaQD9LeBZ4DPApsArwEXAr0s52Vp7PYBzbg9gcs6xdkLwjHOuq9h1nHNjgcOBnay1y4C7nXM3AccApxc5bxtC8HyltfbsUuosA2JrYA69v7mIn78y+NURAG+UwiEiIlJMpfNAdwOXRP9qaTug01r7TGJfFti/yDlbA3cCF1trzxvIysnacqZDfJwwCPV9ySLR44uDVSdZS/u6q2i9ZhdzU60rIiIi9afLsOrYrP90revRH5X2QGMy5nOEnt7NgPnA1T7tr6hWxUo0DliSs28xYRBaITsB3cAfil3YOXcqYcVFAFpaWsZVWEfpbc1rzqf9/zMZ825g48TxVuB2n/btg14zAaDL8PZft+ealq6iv0ciIiIV8YZhv2ZIRQG0yZjvAscCP6VnGrtvmYzZ1Kf996tYv74sIww4S+prANpNwOvAHc65/ay1c/MVstZeAFwQb8+YMWNeP+sqQe5r7m1gfZMxu/u0/090vGPwqyWx6bO8J3w4FhERkTwqHWl/IvAhn/aX+rT/h0/7S4GDCIO/BtMzQItzbtvEvhQhr7Yga+2pwN8IQfRmA1g/WVtuAP0WsAPwcLTdSs8qhSIiIiJDTqUpHGOJlvBOeIv8M2qsxTnXEt27GWh2zo0i5DJ3RsdH0pMLOyI6vjp3mjlr7XLn3PXA95xzJxJm4fgY8O4SqnEyYdDjv5xz+1trXyul7tJv8WtuefS4mDAQFZMxLYQAWj3QIiIiMmRV2gN9K3CNyZjtTcaMNhmzA2EKu3+UeP6ZhKWaTweOjp6fmTj+dLRvs+iaKwlpIjjnznDO3ZIo+xVC4P46cB1wUl9T2AFEwfgXgQeA251zk0qsu/RPC/AYsCFATq7zWBRAi4iIyBBnvC9/7RCTMRMI09Z9hp6c1T8CpyRWJ6wrbW1t82bOnDm575JSjMmYTYAbfdrvldgXvwgnA9sCJ/q0P7oW9RMREZH6U+04rtJp7JYAx5qMOR6YBLwZTW0n0pcWCuc4b416oEVERGSIKyuANhmzRYFDk00mpCz7tH+pv5WSulYsgN6ZMP+zAmgREREZssrtgX4RiL9uz7dSmScMDBQppFgAvRmhF1oBtIiIiAxZ5Q4izAL/Iwz4m0L4uj35b0RVayf1qFAA3QmcBnwDBdAiIiIyhJUVQPu03w34JLAecA9wM3AEMMKnfZdP+67qV1HqzHHAB/Psf4ueD2DLBq86IiIiIuUpexo7n/aP+7T/JrAlYaW+jwKvmIzZvcp1k/q0Z4H9ixLPFUCLiIjIkFXpPNAQphvbH9gX+C+wsCo1kno3C/hynv0vJJ4rgBYREZEhq9xZONYDPkv4Gn48cDWwn2bekDKMAVbk7JsEbE5YDh4UQIuIiMgQVu4sHAsIPYVXA/dF+6aajJkaF/Bpf0eV6ib1aQw9y3gD4NP+rWhxnthzg1slERERkdKVG0C/CowCvhD9y+UJ05CJFDKWtXugAZJLet87SHURERERKVtZAbRP+y0HqB7SOPKlcODTfr7JmE182r9agzqJiIiIlKw/gwhFKrFWCkdMwbOIiIgMBwqgZbAVSuEQERERGRYUQMtgy5vCISIiIjJcKICWwbYFCqBFRERkGFMALYPGZMzGwGRgaa3rIiIiIlIpBdAymDYHbvRpv6rWFRERERGplAJoGUwbAq/XuhIiIiIi/aEAWgbTKGBlrSshIiIi0h8KoGUwjQRW17oSIiIiIv2hAFoGkwJoERERGfYUQMtgUgAtIiIiw54CaBlMCqBFRERk2FMALYNJAbSIiIgMewqgZTApgBYREZFhTwG0DKYxaBo7ERERGeYUQMtgGo+W8RYREZFhTgG0DKbxwJJaV0JERESkP1pqcVPn3MnA8cDOwHXW2uNzjh8AXAxsAdwPHG+tnVvgWi8CGwFd0a57rbUfKlD2t8A8a+2Z0faOwO3AT621P+lXo6QU6oEWERGRYa8mATSwADgXOBAYnTzgnJsEXA+cCPwVOAf4A7BPkesdYq29vZwKOOd2A/4BZKy1F5dzrlRsHdQDLSIiIsNcTVI4rLXXW2tnAG/lOfwJYI619k/W2lXAdCDlnNuhWvd3zu0F3AacoeB5UE0GXq11JURERET6YyjmQO8IZOMNa+1y4LlofyHXOOfecM790zmX6uP6ewG3Al+31l7W79pKSUzGvAvYDlhc67qIiIiI9EetUjiKGQe8kbNvMSF/Np+jgP8ABrDAP5xzO1hrFxUovw+h5/uWYpVwzp0KnBpvt7S0jOuz5lLM7sCPfdr7WldEREREpD+GYgC9DJiQs28CBQafWWvvSWye75w7DngfIX86n4uBqcBtzrn3W2sXFrjuBcAF8faMGTPmlVZ9yWUyZl1ge+CZWtdFREREpL+GYgrHHGBNGoZzbiywTbS/FJ7QG11IF3Ak8BKhtzo3WJfquxr4BvBKrSsiIiIi0l+1msauJbp3M9DsnBsFdFprO4EbgB875w4H/g6cDTxqrX0qz3W2ADYHHiR8GPgqMAm4J7dskrW2wzn3KWAGcLNz7sAo11qqzGTM1sCm0aYCaBERERn2atUDfSZhSefTgaOj52cCWGvfAA4Hvg8sBPYGjohPdM5d4py7JNocD/wyKjcfOAj4sLU23+wevVhr2wkzfqwC/uqcG93HKVKZ54Ddoue5ue0iIiIiw47xGtNVkra2tnkzZ86cXOt6DDcmY+IX2JE+7a+raWVERESkIVU7jhuKOdBSn7J9FxEREREZ+hRAy2DR/M8iIiJSFxRAy2BRAC0iIiJ1QQG0DLTXo0fNciIiIiJ1QQG0DLROoEkrEIqIiEi9UAAtA07Bs4iIiNQTBdAyYEzGNBNWfhQRERGpGwqgZSCNBFbXuhIiIiIi1aQAWgbSSMJKjyIiIiJ1QwG0DKRRqAdaRERE6owCaBlISuEQERGRuqMAWgaSAmgRERGpOwqgZSApgBYREZG6owBaBpIGEYqIiEjdUQAtA0k90CIiIlJ3FEDLQFIALSIiInVHAbQMJAXQIiIiUncUQMtA0jzQIiIiUndaal0BGf5MxmwFbAb826d9V+KQBhGKiIhI3VEPtFTDBcBdQGfOfqVwiIiISN1RAC3V0FFgvwJoERERqTsKoKUaCgXQlwC7D2ZFRERERAaaAmiphjWpGyZjknn1S4CvDn51RERERAaOAmjpk8mYnUzG7FqkSLIHelzi+RKf9vMGplYiIiIitaFZOKQUfyLMsjGhwPHk4ME/m4y5Fn04ExERkTqlAFrWEvU2z/dp/0a0axGwQ4mnHxD9WwW8WfXKiYiIiNSYegklnweBPyS2F8dPTMask5PnDPAscDrwcGLfSGDlgNVQREREpEYUQEs+HpiY2F6ceP4WkM4p3wKsIKw8mDyneSAqJyIiIlJLNUnhcM6dDBwP7AxcZ609Puf4AcDFwBbA/cDx1tq5Ba61JXAFsDfwEnCytfb2AmV/C8yz1p4Zbe8I3A781Fr7k/62qx6YjPk40ErvD1dLomM7EILiM4Gzon1bA+cApwAbJ855EUgNfI1FREREBleteqAXAOcCv8k94JybBFxPCNDWAx6idzpBruuA/wLrA98F/uyc26CvCjjndgNmAucqeO5lj+jRJPbFz/+Sp/xHCR/Eugg/g3bgJuCVnGuIiIiI1IWaBNDW2uuttTMI6QC5PgHMsdb+yVq7CpgOpJxzaw1ic85tR1ioI22tXWmt/QvwGHB4sfs75/YCbgPOsNZe3K/G1J99o8ddTMaMMBmzFxB/INma8KHnZZMxcXpGPIVdPBPHTT7tPwacRvhZioiIiNSVoTgLx45ANt6w1i53zj0X7X8qT9nnrbVLE/uy0f5C9gK+Ei5tr65OlavPZMwEBv8DziigDfgp8A3gaOBywowabwNdPu0/bzLmRWA8YXaOOIDuih5XAvi0fwJ4YrAqLiIiIjJYhmIAPQ54I2ffYkLAlq/s4jxlNyty/X0IPd+3FKuEc+5U4NR4u6WlZVyR4gPhOmDKIN5vXWDT6Pk3CQH05dH2XYQc8/jnMoUwU8e29PQ8dxKC56cHo7IiIiIitTIUA+hlrL1gxwRgaT/Lxi4GpgK3Oefeb61dmK+QtfYC4IJ4e8aMGYO6op5P+48M5v2iwYPXA/f5tPcmY84lDPScHBWZADyeOGWqyZgtgRHRdichB3r1oFRYREREpEaG4jR2c0jM3uCcGwtsE+3PV3Zr51yydzpVoGysCziSMGPHP5xzhVbXazT/jh6fix5n0hM8A9wB3JBzzgvASdHzDp/2K33adw9cFUVERERqryYBtHOuxTk3ijAlWrNzbpRzLu4NvwHYyTl3eFTmbOBRa21u/jPW2meAR4B0dI2PA7uQf7aI5HkdwKcIK+XdHAXpDc2n/auEGTXOjXbNThye5dP+AJ/28Wwl+yaOxekyxXr9RUREROpGrXqgzyTky55OGKi2MtqHtfYNwiwa3wcWEnJvj4hPdM5d4py7JHGtIwhTry0EfgB8MrpGUdbadsIsEauAvzrnRve/WcObT/u/+7R/KnoeDwr8rE/783LK3ZfYjGfoeGkQqigiIiJSc8Z7X+s6DAttbW3zZs6cObnvkvXDZMyDwP/zaf9AnmP7EKV9+LTXfM8iIiIyZFU7jhuKgwhliPBpv2eRY/eZjHmJsFqkiIiISMNQAC0V82k/mNPsiYiIiAwJQ3EWDhERERGRIUsBtIiIiIhIGRRAi4iIiIiUQQG0iIiIiEgZFECLiIiIiJRBAbSIiIiISBkUQIuIiIiIlEEBtIiIiIhIGRRAi4iIiIiUQQG0iIiIiEgZFECLiIiIiJShpdYVGEY2aGtrm1eLG7e0tIzr7OxcVot715rarrY3GrVdbW80anvjtb1G7d6gqlfz3uvfEP934YUXzqt1HdR2tV1tV9vVdrVdbVfb1e7wTykcIiIiIiJlUAAtIiIiIlIGBdDDwwW1rkANqe2NSW1vTGp7Y1LbG8+wb7fx3te6DiIiIiIiw4Z6oEVEREREyqAAWkRERESkDAqgRURERETKoIVUinDOjQR+AXwAWA94DviOtfaW6PgBwMXAFsD9wPHW2rnRsZ8AHwM2BuYD51lrr8pzj2OBK4EvWGsvK1KXYvf6NPA1YFfgAWvttBLa9Uvgk8AK4EfW2guiYyOAa4E9gCnAa8DYBmn7PsA5wLuA0UA34IFnG6Dt7wSuArYBxkRt7wb+V+9tzylzL7A7sBJ4pt7b7pzbEngBWA6MBJqBDuDJem97dHwMYTDT8cAIwmv+8Xpvu3PuKOBXUdH4524Ir/mv1XPbE9f7HrB1tKsLeJo6/7lHx08ETie8v3dGba+X97ii5Z1zuwKXA+8g/I37vLX2kWLXLEY90MW1AC8D+wPrAGcCf3TObemcmwRcD5xFCK4fAv6QOHc5cEh03nGAc869O3lx59y6wBnAnGKVKOFebwMXAj8osV3TgW0Jv0BtwLeccwcljt8NnAgsI7wYG6Xt6wKXAu8kvKn+nfB/0QhtX0D4gzs5ut4PCR+aGqHtsW0J7X+d8AbRSG3fFPg+IaAYTeO0/VJgfeDnwFRgHxqg7dbaa6y144CNCD/3bwHPA9+o97Y75zYDfkcIIs8DvkToKPlxA7R9WtTmI6Lr/QV4mPp5zRcs70Ln4I2En/26hOD+xmh/RdQDXYS1djnhxRj7m3PuBUIP5frAHGvtnwCcc9OBN51zO1hrn7LWphPn3e+cuwvYl9DDFTuf8If7031U5RN93Ov2aP+JJTbtOMKnvIXAQufcrwk9MLdaa9sJL0Ccc4uBV6213Q3S9lsS5b7rnNsdmG2tPagB2r4IWBRd7xzCm8pUa23d/9wTZX4CfI7wrZNvsLavsNZOT2zXfdudczsAhwKTrbVLovLPR9ev67bHBeL3OOfcTOCqBnnNTwYWWWtnADOi6/6I8LOv97Z/FPiTtfYh4CHn3KaEXuQT6qHtfZSfRoh5L7TWeuDnzrnTgPfT+29hydQDXQbn3EbAdoRPVTsC2fhY9IfouWh/7nmjgT1JfBpzzu1FSJO4pIRbl3yvEtqwLrBJ8nrR86LXatC27wfMaaS2O+cWAauA/wPOa5S2O+c+Bay21t6c2NcQbY/Mdc7Nc85d4Zyb1CBt3wuYC2Scc2865x5zzh3eIG1Plp1C+Ft3VYO0/SHgSefcoc65ZufcYcBq4FXqv+0QUnVyn7+HYd72Eu/1aBQ8xx7tz70UQJfIOdcKXANcaa19ChgHLM4pthgYn+f0Swgvkn9E12om9HKdHPXu9qWce5Vyrfj8kq7ViG13zu0CnE34mq9h2m6tnUj4au5kwh+Xum+7c2484WtNmzjeTAO0HXiT8AY4hdD7NJ4wBqIR2j4Z2CnatynhNX8lcAP13/akY4G7gHk0wM/dWttFGO9xLSFwvhb4CvBr6rzthJ7WTzvndomC37MJ6SvfZPi3fdDvpRSOEjjnmoCrgXbCH1kI+cETcopOAJbmnPtjwh/ptsQnn68QPgndl+deWwBPxNs25KmVdK8Cdb8EODraPI8wuCA+f1UJ1zI0WNudc1OBWwj531+mgdoe3Xu5c+5XhAEod1H/bZ8OXG2tfTFxmdMJAwnruu3W2mWEHjmA15xzXyXkw/+TOm874efbAZxrre2MvopeDEyk/tuedCzhK/eG+DvvnPsA8CPCV/r/IfSWzib8HtR12621tzvn0oTc5wmAIwwkXMYwb7u19rw+Tqn4XoUogO6Dc84QRm1uBBxsre2IDs0h5BrF5cYSZjBIfpWRAT4M7J/IsQM4ANjfOXdwtL0esJtzbldr7cn0fIqM9XmvQqy1XyYEgck2vQKkgNuiXaki1/oWMIoGaXv0debthNk42mjAn3viNd8CnNkAbT8AmOyc+0q0vSGwGTC9AdqeLGfoWV732AZo+6M5bb+cMCPFbxqg7XGZ9xB63xvpb92uwJ3W2oein/tJhODq7w3Qdqy1FwMXR23/M+Hbtk/UQ9v7MAf4hnPOJAL+XQgzgFREAXTffkmY8uQD1tqVif03AD92zh1OmK3hbMInr6cAnHPfAY4E3metfSvnmscTgtLY9YQX8uUF6tDXvZqBVsLPs8k5NwroSvxC5LoKONM59xDhj+YXCIOniK43ktDzPBHYEngvPZ9m67btLozOvgO4iPBHtmF+7s65DxK+zn+UMDPBgYTZKB6p97YT/ui3Rs9/SBihfmJUh7puu3Nub8Lg0f9F9fkgcJe19rV6bztwJ/AS8B1COseehAD6bw3Q9thxhNSNbWmQv3XAg8DpLkxp9mVC6lIToTe6rtsenTuVEExeTfh9v8Ba+0o9tL2P8rMIU/ad4kLv9Rei0+4oULc+KYAuwoXeyC8RDTBwzsWHvmStvSb6oV9EmBblfsIbb+w8wtdhzybOO89ae54NMx4k79MOLLHW5ubnAGCtfaOPex0DXJHYXknI5Tu+QNPShA8Gc6OyP7TW3po4/jQhJxJgB0JgtcI55+u87ScSpvHKEOZCBljqnFsePa/ntk8kDBzcnJ55oFcTRkTXddvjN4Ho9/3YqPylwC/rve2E1/t5hDfaeO7zdznnlkXH67bt1toO59zHCAHH7oRc0NWE2Qnquu1RfUYBnyF8jd0w73HW2tkuzPYwg/A+5wmpPNc3wM99FCHneyrh970LOMk5d1J0fLi3vWB5a227CwNGLyNMc/ckcJgNM49VxHjv+y4lIiIiIiKAZuEQERERESmLAmgRERERkTIogBYRERERKYMCaBERERGRMiiAFhEREREpgwJoEREREZEyKIAWERERESmDAmgRERERkTIogBYRERERKYMCaBERERGRMiiAFhEREREpgwJoEREREZEyKIAWERERESlDS60rMFy0tbWtBt6odT1EREREpGwbzJw5c2S1LjYkA2jn3HrA5cCHgDeB71hrry1Q1gA/AE6Mdl0GnG6t9XnKTgN+Z62dHG2PAH4PbAR82Fq7pEi13pg5c+bkihokIiIiIjXT1tY2r5rXG6opHBcD7YTA9ijgl865HQuU/SJwGJACdgEOAb7U1w2ccyOB64GJwIf6CJ5FRERERIAhGEA758YChwNnWWuXWWvvBm4CjilwynHAT62186y184GfAsf3cY8xwF8JPfAfsdYur1b9RURERKS+DcUUju2ATmvtM4l9WWD/AuV3jI4nyxbqrQYYCdwCLAY+Za1d3Y+6Dhxj1gOaB/mubxNeE014vzJRl/BBy/vuvGcZY6JzuvIcmwCsBAwwJnpsB1ZH1+wscM31gI6o/FJgXWAh3vtEnZrxvgNjWgpep3cdW4BOYHx0zVa8by96noiIiEiOoRhAjwNy0ykWE4KeQuUX55Qd55wz+fKgo+vsC3y2WPDsnDsVODXebmlpGVdC3avpd0DbIN6vGWhds2XMs8DV0dbhwEYY84sC5x4A7I0xbwGXAvH/+2TgC0Xvasz0RPnYZoTUnNgbwAbAHRgzO9p3AjAFY/4IfBpjrgKeK3KnHYDPEgLoFuBVYGOMmQv8AdC3ECIiIoOjCfg/vH+r1hWp1FAMoJcBE3L2TSD0GJZSfgKwrEDwDGFQ4inAVc65Zdbaf+QrZK29ALgg3p4xY0ZVk89L8BHggwxems12gEtsTwUyOWVyt3NtCkwvcrwTOAm4iPBNAH2Uj20QPe4OvD/n2Cejx2NLuA70vOY3jh6nAN8k9HSLiIjIwPPAPcBtta5IpYZiAP0M0OKc29Za+79oXwqYU6D8nOj4AyWUBcBae300iPDPzrlDrbUzq1Dv6gqpCv8cxDveijEthA8XdwCfq/A63fQO+uPtt4A/4/1lGPMu4Mt9XGc1PUF2bDlh0Gex+5Wqi54UmS6G5u+CiIiIDEFDbhBhNKDveuB7zrmxzrn3AB+jJ50g11XAqc65zZxzmwLfAH5bwn2uA04GbozuId5fgPdb0ndPczErc7a/FT3+Hu9zg+Y4bznftwVvAZ8v4X6VBr7J/PLi+dMiIiIiCUMugI58BRgNvA5cB5xkrZ0D4Jx7n3NuWaLsrwgzajwGPA78PdrXJ2vtlYSA++/Oub2qV/1hzvu58bPosZu1c4QLBZ1jc7azhHzu/yb2xbnKxYLf1Xj/m9yaFSzbo5JBgR0VnCMiIiINysSTGkhxbW1t8xpqIRVjzqanJ9rTM5DvfcDdwArCrBpJYWBeDw/sjfcP5lzbEPKZH4r2rCR8YEp6Au93xJjkC3QeYWBi7G1gPeAc4Kxo33LWDuKT5UfnuVc8sFBEREQGngcOxPtBy4GudhzXr6DBZEwrsA8h73gisIjQ43ifT3v16g1vl9ATQBtgw+j5v6PH3OD5LXp/o7GI8JpYTK7wqe1hjLmCkGudL4BeET1+H/gu4XW1XuJ4B/A/YO/o3rF4Kj3P2gMDjyDMEX5kzv4WeudEi4iIiBRUUQqHyZj1Tcb8BFhAWDr7g4Rpwj5IWIJ7gcmYn5iMmVS1msrg8v716NliYBrw42h//rmgwxR4cZC9jLD4DYRe40L3OIGQI70iz9F4AOG+0WPulINdhF5s6J22EQfQ+WbVWEZPQP9deqelKHgWERGRklTaA303IVDe1af9/NyDJmM2JSzBfSfwzsqrJzXWBnwM72cDszEmTpMYw9pBb/LD2DrR44N4ny84Tnqc/K/Dp6PHidFj7iItnhBUtwLr93GP2DLCoNPP4/15GHMjMIMwZZ+IiIhISSodRJjyaf+TfMEzgE/7BT7tfwzsWnHNpPa8n4X3X09sx6sHrgQ+kSj5KcJiK3+PjndH/y4q4S4vsnZv8Sp6FmC5OXrspvcgwm5gVPT8T9FjnDa0ivwDDpfj/X3E6SLezyEsAiMiIiJSsooCaJ/uvfyxyZjRJmM2MRkzulg5qSPe3wDsR+gZfhDv/4n3H2XteZr7Mh/YKHoep4fEvcvg/Vl5zoHk3M3eP00Y4Hg/YcnvbuDQPOcsjcr3pKF4/xLwmWir1NdrB/lyu0VERKQh9GsaO5MxbSZjHiAEJvOApSZjHjAZo169RuD9XXjfkpj2DrwvN7BMrjAZzyHdE0AH7wMepXevcu+UDu/fBOIFcVoS100GxblLxMeeih5HlFDfO4B/sPZ81yIiItIgKg6gTcbsQfh6/X7C4MF3Ah8irAj4V5Mxe1alhlLfes+jGAfN3Tm9xHcTBvytkyjbBVjglUS5swmB7Qh6AueXgBuj47kDEePzHgUOLLHGtxJ6zQsNphQREZE6159p7L4J/MinfTqx72ngDpMxb0THP92fyknDiYPp3AGDAO+id3rI+nj/c+DnOeVeIHyYW0QIctOEdItDit/Z/xPTKxU7uUR4ckq8ucCmKIAWERFpWP0JoPcFvl7g2K8JPdEi5YhTKPIFp3FQ3R6VyzdNHcRpGt4/iTEbAAvx3mNMKekZJxKmZYSQAhL3eCfv9Tr5p90TERGRBtGfHOiJPu0X5DsQ7V8n3zGRIsZHj/kC6HjGjfxpGD3+uOaZ92+vSRHxPl+vdq447WM2YSaPfBYRAmj1QIuIiDSofg0i7IPWCJdK5Qt24wC6iRDoPpL3TO9/Ru8VC8sRr644r0AdAJ4l5FnrA6KIiEiD6k8Kx1iTMS8VOGZYe6lnkUJ2Bc4FPhptF+uBbgLewvvdCl7N+4UV1uMKYAKhJ3y/xP44H/p3eL8MYzpRAC0iItKw+hNAv79qtZDG5n0WY06mJ4B+K0+pTxGmj9uU0udrLrce7cCPMearOUfiAPq2AbmviIiIDCsVB9A+7WdXsyLS8F4CHPAY+Qagev8UxpwN/JaBCqB7vJl79+gx78qbIiIi0lgqDqBNxhwELPFpf2+0vQ1wFbAT8G/gcz7tXylyCZEeYbDf1/oo9XL0WGiAX7UsomdAI4Qe6E56AuhCM4CIiIhIA+jPIMJz6D1Q8HLCfLtHEha9+Ek/ri2SzxPR40AHsMuA5LL0IwnLd6sHWkRERPqVA70N8CCAyZgNgfcCU3zazzcZcz9h6eWKOee+DnybMBjxz8BJ1tq1pjBzzm1JWDxjeWL3D6215xS47ovAidba26PtI4BfAodZa5WWMrQN1vzLy1l7We8OvF+asy+5wIqIiIg0iP4E0Mne532BF3zaxz10bwHjKr2wc+5A4HTCQMUFwA1AJtpXyERrbWeZ9zkOuAD4iLX23gqrK4NnZfTY11zQ/bWctQPj5MwgPrGveYDrMhj0QUBERKQM/UnheAg4xWTMBMIKbrckjm3N2gOxynEccLm1do61diEhXeT4flxvLc65LwE/BQ5U8DxMeN8RPRvoAHpZieXqZTEVBc8iIiJl6E8A/XXg/xEGXG0H/CBx7Bjgzn5ce0cgm9jOAhs559Yvcs5c59w859wVzrlJfVz/JOB7wAHW2of6UU+pjcHogY7tFD0mv61J9kDXi7K+vREREWlk/ZnG7glgG5Mx6/u0z52390L6N9XYOMKAxFj8fDxrzxH8JrAnYWW69YGLgWuAA4tc/4PATMKUaXk5504FTo23W1paKk5Jkapb3neRKl3f+zkYA71/Vy4Hfk5tA+hqpl20A0sJvz8iIiLSh/5MY7d14nm8KlsHMN+n/aJSr+OcOwr4VbR5l7X2w4Sv0CckisXPcwdxYa1dRkgnAXjNOXcy8Ipzbry1dq3ykZOAM4HLnHOft9autey4tfYCQn40ADNmzJhXaptkQH2OgZ7GzvuOKGiO/YzwrUp8fAXGLKD3azRpKb2nwRsI7YTZQcqxjPxjEy4FPtPvGomIiDSI/gwifJb8vWAdJmP+DHzFp/3itU/rzVp7DaHHOGkOkAL+GG2ngNestflWqMsVB8PF0lNeAw4AZgO/IATUMhx4/9tBvNs90T1PxZjTco51kb8HegmDE0CvorwA+hXC73u+ALoL2KAalRIREWkE/UnhWCtANRnTQhhA+H3gR8CXKrz8VcBvnXPXEGbhOJOwAt1anHN7E/Kw/wesS/hqfZa1tmjwbq1d4Jw7AJjtnPuZtfbrFdZV6lfPtHne5wbLXfSeiSZe7rvQtx7Vtk7fRdb4D/Aw8JE8x/YGvlOVGomIiDSI/gwiXItP+06f9s8QAud8b9YlsdbeSgjAZxKWeJ4LpOPjzrk5UeoHhID9VkLg8jhhgNlnS7zPS4Sp8j7pnDu/0vpKXdoZOLvI8S3pncIRB9ibRf8GS6E87OT+XxLyuvOVfYSepdM1kFBERKQEJqygXOWLhp7o133ar1f1i9dIW1vbvJkzZ06udT1kiDCm0C/OU8AOA3jncwiLC32jSJlFhIVgxkTbGwOnAMcCydfwGXgfPjga8yYwFhhV3eqKiIisxQMH4v1tg3XDasdxVe2BTvgMIY9ZpN7lBtKPAG8P4P3m4/1pwHNFyvyG8Lu9DBiB96/RswhN0v2J56sJaSkiIiLSh/7MwnE1awcPrYSvtncAPlx5tUSGjdzVCBcB6zEwq/stwft4xpoPA38Fts+piwfuJUzBuDSx+ExuAN1N78WO2lEALSIiUpL+zsKRqxO4GbjVp/0b/bi2yHCR+yFySfTYRf9+v/IZs+aZ9//DmN2B64HfARfRM7DwyegxORPICnrrovec6h3U18IwIiIiA6Y/s3BkqlkRkWFmJ+BBwrcuLxC+eTGED5G3A7sAGybKV6NHuncPsfcrgIMAMObqaO9qwofbVfTOZ87tge6i92JF7SiAFhERKUlFOdAmYw6tZjmRYcf7OYR8Z0OY4SIOjjsJuce5wWh/R+vuS1hBsy8fx/t2vB9N79SSFfQO4LvpvaJjOyH1RERERPpQaQ/0ESZjziMsgDIbeJqexSO2A/YHjiYEGDf1v5oiQ9IUQpAap228BPwAuCxP2f4O2H0Z7+cXOb4+4ffu1jV7es9dvTKnDk30noKnPfE4on9VFRERqW8Vvan7tD+SMNfyZsDVwBuEN+jXgSsJ02Z9xqf90VWqp8hQtGn0GOcSt+P9SsLvQu6H00X9vFfxBVq8fxvvb6DwvJQrgU2KXCEebNhepIyIiIjQvxzox4CTAUzGjAEmAot82ucOVhKpd08Dh9CTc7yKtZfy7qBwHnS8LLih8O/ksn7WMff3MjfF5L0F9ouIiEiOqswSEAXNCpylUcU90COjx80Tz58jzIv+d0IQPYKedKdYE7CQsJBJ/t/JtZcSL1fuIMLmnO1vEVb/XE7vFRZFREQkx0AtpCLSSOLBeHFQ2js49v5hQq90NyGIzk2TMITpH0cXuH415meOP+AuB44BftrrqPc/JizAoh5oERGRPlR7nlqRRrQ6eox/n/4AtEXP46B4JT0pHrlB6nyKr174gf5WkJ4gfy7e/65AmdX0f7YQERGRuqceaJHKxWkRL0ePrQCJ1QIhDKiFnkF6sHb6xFIK5zh3EGb36K84gF5VpMxq1AMtIiLSp6r2QJuM6RWQ+3S/8zZFhrJOALy/BWMgDqDz2znxPPeDawewZ4HzDNUNoF8tUkYzcIiIiJSg3z3QJmN2Nxnzb5MxywmBQAchsOgofqZI3Ul+IP0ksIDk8ts9cj9YtgOnJ7aTA/5a8L6z3zXzPg6OFxQp1Y5SOERERPpUjR7oK4G/AiegmThEAu//AvylwNFXCPnQcXC9GpiXON7/gDm/rwJPFDmuHGgREZESVCOAngJ816cLLuBQFufcToQZAt4FrG+tzTdvbrL8rsDlwDuAJ4HPW2sfKVB2FvA7a+1l0fY04AbgJGvt76tRf2lYzwHblFj2KWASPQH0FHoWWllFzzzSC+hZrKX/vL+ojxLqgRYRESlBNQYR3gB8qArXiXUAfwQ+31dB59wI4Ebgd8C6hN7wG6P9fZ37IWAG8DkFz1KhnmDT+6nA5BLOWRdYTO80jnujNI3xhDmYF0f736xONUumHGgREZESVKMHehRwg8mYu8kZoOTT/thyL2atfRp42jk3tYTi0whtuNBa64GfO+dOA94P3FroJOfcRwlB95HW2pvLraNIXt7PL6HMIoxZQu8A+svRsTAThzHxjBwnAQdWtY7Fre67iIiIiFQjgH6C4nmVA2lH4NEoeI49Gu0vFEAfAuwHfNJae/sA10/qW9H0ohxfBL4XPV9K7wA6d5XAJdHja3ifrrBulWinvDaJiIg0pH4H0D7tM9WoSIXG0fN1d2wxvVeCy9VGyEG9p9iFnXOnAqfG2y0tLeMqrKPUr5MAV1JJ738N/DramkdY7juW2/P7RvSYG1gPNKVwiIiIlKDfAbTJmOuB2cBsn/aPlHOuc+4oIF504i5r7YfLvP0yQs5o0gRCD18hZxGmGJvhnDvUWpv3a2tr7QXABfH2jBkz5uUrJw3M+2sw5toKzrwWuIiehVdyp7X7DfBxahNAjxzke4qIiAw71Ujh+BuwP/B1kzETgLsJAfWdPu0fLHaitfYa4Jp+3HsO8A3nnEmkcewCXFzknOXAwcBtwJ+cc4dbazVntVTGVzD7jPfLMOZGwge5rjzHb8aY9fF+Ub/rV55OYJNBvqeIiMiw0+9ZOHza/8an/XE+7bcEdgMeA84G7qvkes4545wbBYyItkc55wr1is0iBCCnOOdGOudOjvbfUewe1tqlwEHAZsC1zrncpZVFBtqc6HGfvEcHP3gG9T6LiIiUpBorEb7DZMyXTMZcC9wFfJCQlnFohZecQvjqOg4wVgJPxwedc7c4584AsNa2A4cBxxLm0T0BOCzaX5S1dlFU1+2Aq5xz1ZjST6RU8fLcQ2nmiz6nfxQREREwlXwD3esCGdNNWETifOCPPu2X9XHKsNTW1jZv5syZpczzK9I3Y44Dfgtsj/fP1Lg2gTFfAi6pdTVERKTueeBAvL9tsG5Y7TiuGjnQxxCmhTsN+JbJmDvpyYF+uQrXF6lHce7zUJr54vno0aPp7ERERAqqxjR2awYCmozZGPgq8AvCFHPKLRbJb+gF0N7fhjELCTPZ6HdXRESkgGpMY7cbYUXA/YH3EXKW/0bohRaR/J6NHodaT287IbhXAC0iIlJANVI4biAEyzcB3/Bp/1wVrilS37x/EGO2BF6pdVVydNJ7lUQRERHJUY0Uji2rUA+RxuP93FpXIY9O8s1NLSIiImtUowcakzGfIwwm3AyYD1zt0/6KalxbRAZVB+qBFhERKaoa80B/Fzgd+D1wSvT4rWi/iAwvHYRZOERERKSAavRAnwhM8+mer6NNxvwDuBP4fhWuLyKDRznQIiIifajG6ntjgTdy9r0FjK7CtUVkcKkHWkREpA/V6IG+FbjGZMzphOWJpxB6nv9RhWuLyOBSAC0iItKHavRAnwwsBR4FlgGPAMsJC6qIyPCiQYQiIiJ9qMY0dkuAY03GHA9MAt70aa83YJHhqZvqfLAWERGpWxUF0CZjti5yeJzJhMXVfNo/X8n1RaRm9qt1BURERIa6SnugnyXkSRp68iXjJYmT+ZNaDlhkeOoAWmtdCRERkaGoogDap/2ar3ijRVQ+AEwH5hIGEZ4N/KsK9ROR2uhEAbSIiEhe1ZiF4xxgW5/2K6Pt/5mM+RLwDPDbci/mnNsJ+CnwLmB9a63po7wHVtDT8/17a+2JBcrOAn5nrb0s2p4G3ACcZK39fbl1FaljWs5bRESkgGoE0E3AlsCTiX1TqDx9owP4I/ALYEaJ56Sstc+WcxPn3Iei+xxvrS31PiKNor3WFRARERmqqhFA/wy4w2TMFcDLwObA8dH+sllrnwaeds5NrULd8nLOfRT4HXCktfbmgbqPyDCmHmgREZECqjGN3Y9NxjwGfArYDXgFOMGn/a39vXYZ7nTONQH3Aqdaa18sUvYQwkwDn7TW3j4YlRMZhrSYioiISAHV6IEmCpYHM2BO2h+4DxgDnAv8zTm3q7W2s0D5NuAp4J5iF3XOnQqcGm+3tLSMq051RYa054BtUAAtIiJSUL8DaJMxbwF3ArOjf4/4tC/pzdc5dxTwq2jzLmvth8u9v7X2zuhpu3POAkuAdwCPFTjlLOCTwAzn3KHW2tUFrnsBcEG8PWPGjHnl1k1kGNoOuIsQRIuIiEge1eiB3ouQErE/YIGJJmPuBmb7tP9JsROttdcA11ShDknx/NSFLAcOBm4D/uScO9xa21HlOogMT953Y8yrQLHFkkRERBpaNXKgnyN87XuFyZjtgOOAk4EDgaIBdD7OOQOMBEZE26MAn6+n2Dm3I2Gu2seA0YQUjvn0nhFkLdbapc65gwhzVV/rnDvCWqtBUyJBO0rhEBERKaip7yLFmYw5yWTMdSZjXgKuIgS0nwUmVXjJKcBKYE60vRJ4Oj7onLvFOXdGtLkR8AdC2sbzhOn0PlpKj7K1dhHwQcJX1ldFgxBFJEwlKSIiIgUYX1q6cuELZEw3oQf6R8DffNq/Uo2KDTVtbW3zZs6cObnW9RAZcMZcDhwEbFrrqoiISF3ywIF4f9tg3bDacVw1cqAnE/Kf9wOsyZhWokGFPu1/V4Xri8jgUg+0iIhIEdXIgV4AXAdcZzJmN8IMFycDJxAWKxGR4aUD5UCLiIgUVI1p7L4OTAPeS5jhYjZwWvQoIsOPeqBFRESKqEYKRwqYAXzdp/3zVbieiNSWeqBFRESKqEYKx/FVqIeIDB3tta6AiIjIUFaVpbxNxhxKGEg4icQiJj7tj63G9UVkUCmFQ0REpIhqzAOdJizH3QR8CniLsIjKov5eW0RqQgG0iIhIEdVYPOQE4IM+7b8OtEePhxAWNRGR4Uc50CIiIkVUI4Ce6NP+8eh5u8mYVp/2DxBSOkRk+OkgkYolIiIivVUjgH7OZMyO0fPHgZNMxhwDLKzCtUVk8CmFQ0REpIhqDCI8E1g/en46cC0wDvhKFa4tIoNPAbSIiEgR/QqgTcY0AauA+wCi1I2pVaiXiNSOUjhERESK6FcKh0/7buBGn/aaN1akfqgHWkREpIhq5EDfaTJmnypcR0SGBvVAi4iIFFGNHOi5wC0mY24EXiYx/ZVP+7OrcH0RGVztKIAWEREpqBoB9GhgRvR8cmK/5pEVGZ6UwiEiIlJEvwNon/afq0ZFYs6544BTgG2BJYRZPc6w1nYWKL8rcDnwDuBJ4PPW2kcKlJ0F/M5ae1m0PQ24ATjJWvv7KjZDZDhTCoeIiEgR1VjK+50mY75kMuY70eM7+3nJMcDXgEnA3sABwGn5CjrnRgA3Ar8D1gWuBG6M9hflnPsQoef8cwqeRXpRAC0iIlJExT3QJmMMoef3OGAesADYDNjUZMzVwAk+7ctO47DW/jKxOd85dw3QVqD4NEIbLrTWeuDnzrnTgPcDtxa6h3Puo4Sg+0hr7c3l1lGkzimAFhERKaI/KRxfJASw+/i0fzDeaTJmT+A64EvAJf2qXbAfMKfAsR2BR6PgOfZotL9QAH1IdM1PWmtvr0L9ROqNcqBFRESK6E8AfQxwSjJ4BvBp/6DJmK8B36GfAbRz7gRgD+DEAkXGAYtz9i0Gxhe5bBvwFHBPH/c+FTg13m5paRnXV31F6oR6oEVERIroTwD9TmB2gWOzgav7uoBz7ijgV9HmXdbaDyeOHQacD3zAWvtmgUssAybk7JsALC1y27OATwIznHOHWmtX5ytkrb0AuCDenjFjxrwi1xSpJx1UZ454ERGRutSfN8lmn/Z5A9Vof5/XttZeY60dF/1LBs8HAb8GDrHWPlbkEnOAXZxzyd6yXSic8gGwHDgYWAf4k3Outa96ijQY9UCLiIgU0Z8e6FaTMW0UfqOt6NrOufcD1wAft9Y+0EfxWUAXcIpz7hLgC9H+O4qdZK1dGgXp/wKudc4dYa3tqqS+InVIAbSIiEgR/emBfh34DWEmjnz/Xq/wumcReodvds4ti/7dEh90zt3inDsDwFrbDhwGHAssAk4ADov2F2WtXQR8ENgOuMo5p6+sRQKtRCgiIlKE8eXPNNeQ2tra5s2cOXNy3yVFhjljNiYMtF2n1lUREZG65IED8f62wbphteM49bqKSC6lcIiIiBShAFpEcmkWDhERkSL0JikiuVYDo2pdCRERqVvD/lvO/szCISL1yPvVGHMwYTVRzU4jIiLV1gw8XutK9IcCaBFZWxjYMWiDO0RERIYTpXCIiIiIiJRBAbSIiIiISBkUQIuIiIiIlEE50KXboK2tbV4tbtzS0jKus7NzWS3uXWtqu9reaNR2tb3RqO2N1/YatXuDql7Ne69/Q/zfhRdeOK/WdVDb1Xa1XW1X29V2tV1tV7vDP6VwiIiIiIiUQQG0iIiIiEgZFEAPDxfUugI1pLY3JrW9MantjUltbzzDvt3Ge1/rOoiIiIiIDBvqgRYRERERKYMCaBERERGRMiiAFhEREREpgxZSKcI5NxL4BfABYD3gOeA71tpbouMHABcDWwD3A8dba+dGx34CfAzYGJgPnGetvSrPPY4FrgS+YK29rEhdit3r08DXgF2BB6y100po1y+BTwIrgB9Zay+Ijo0ArgX2AKYArwFjG6Tt+wDnAO8CRgPdgAeebYC2vxO4CtgGGBO1vRv4X723PafMvcDuwErgmXpvu3NuS+AFYDkwEmgGOoAn673t0fExhMFMxwMjCK/5x+u97c65o4BfRUXjn7shvOa/Vs9tT1zve8DW0a4u4Gnq/OceHT8ROJ3w/t4Ztb1e3uOKlnfO7QpcDryD8Dfu89baR4pdsxj1QBfXArwM7A+sA5wJ/NE5t6VzbhJwPXAWIbh+CPhD4tzlwCHReccBzjn37uTFnXPrAmcAc4pVooR7vQ1cCPygxHZNB7Yl/AK1Ad9yzh2UOH43cCKwjPBibJS2rwtcCryT8Kb6d8L/RSO0fQHhD+7k6Ho/JHxoaoS2x7YltP91whtEI7V9U+D7hIBiNI3T9kuB9YGfA1OBfWiAtltrr7HWjgM2IvzcvwU8D3yj3tvunNsM+B0hiDwP+BKho+THDdD2aVGbj4iu9xfgYernNV+wvAudgzcSfvbrEoL7G6P9FVEPdBHW2uWEF2Psb865Fwg9lOsDc6y1fwJwzk0H3nTO7WCtfcpam06cd79z7i5gX0IPV+x8wh/uT/dRlU/0ca/bo/0nlti04wif8hYCC51zvyb0wNxqrW0nvABxzi0GXrXWdjdI229JlPuuc253YLa19qAGaPsiYFF0vXMIbypTrbV1/3NPlPkJ8DnCt06+wdq+wlo7PbFd9213zu0AHApMttYuico/H12/rtseF4jf45xzM4GrGuQ1PxlYZK2dAcyIrvsjws++3tv+UeBP1tqHgIecc5sSepFPqIe291F+GiHmvdBa64GfO+dOA95P77+FJVMPdBmccxsB2xE+Ve0IZONj0R+i56L9ueeNBvYk8WnMObcXIU3ikhJuXfK9SmjDusAmyetFz4teq0Hbvh8wp5Ha7pxbBKwC/g84r1Ha7pz7FLDaWntzYl9DtD0y1zk3zzl3hXNuUoO0fS9gLpBxzr3pnHvMOXd4g7Q9WXYK4W/dVQ3S9oeAJ51zhzrnmp1zhwGrgVep/7ZDSNXJff4ehnnbS7zXo1HwHHu0P/dSAF0i51wrcA1wpbX2KWAcsDin2GJgfJ7TLyG8SP4RXauZ0Mt1ctS725dy7lXKteLzS7pWI7bdObcLcDbha76Gabu1diLhq7mTCX9c6r7tzrnxhK81beJ4Mw3QduBNwhvgFELv03jCGIhGaPtkYKdo36aE1/yVwA3Uf9uTjgXuAubRAD93a20XYbzHtYTA+VrgK8CvqfO2E3paP+2c2yUKfs8mpK98k+Hf9kG/l1I4SuCcawKuBtoJf2Qh5AdPyCk6AViac+6PCX+k2xKffL5C+CR0X557bQE8EW/bkKdW0r0K1P0S4Oho8zzC4IL4/FUlXMvQYG13zk0FbiHkf3+ZBmp7dO/lzrlfEQag3EX9t306cLW19sXEZU4nDCSs67Zba5cReuQAXnPOfZWQD/9P6rzthJ9vB3CutbYz+ip6MTCR+m970rGEr9wb4u+8c+4DwI8IX+n/h9BbOpvwe1DXbbfW3u6cSxNynycAjjCQcBnDvO3W2vP6OKXiexWiALoPzjlDGLW5EXCwtbYjOjSHkGsUlxtLmMEg+VVGBvgwsH8ixw7gAGB/59zB0fZ6wG7OuV2ttSfT8yky1ue9CrHWfpkQBCbb9AqQAm6LdqWKXOtbwCgapO3R15m3E2bjaKMBf+6J13wLcGYDtP0AYLJz7ivR9obAZsD0Bmh7spyhZ3ndYxug7Y/mtP1ywowUv2mAtsdl3kPofW+kv3W7Andaax+Kfu4nEYKrvzdA27HWXgxcHLX9z4Rv2z5RD23vwxzgG845kwj4dyHMAFIRBdB9+yVhypMPWGtXJvbfAPzYOXc4YbaGswmfvJ4CcM59BzgSeJ+19q2cax5PCEpj1xNeyJcXqENf92oGWgk/zybn3CigK/ELkesq4Ezn3EOEP5pfIAyeIrreSELP80RgS+C99Hyardu2uzA6+w7gIsIf2Yb5uTvnPkj4Ov9RwswEBxJmo3ik3ttO+KPfGj3/IWGE+olRHeq67c65vQmDR/8X1eeDwF3W2tfqve3AncBLwHcI6Rx7EgLovzVA22PHEVI3tqVB/tYBDwKnuzCl2ZcJqUtNhN7oum57dO5UQjB5NeH3/QJr7Sv10PY+ys8iTNl3igu911+ITrujQN36pAC6CBd6I79ENMDAORcf+pK19proh34RYVqU+wlvvLHzCF+HPZs47zxr7Xk2zHiQvE87sMRam5ufA4C19o0+7nUMcEVieyUhl+/4Ak1LEz4YzI3K/tBae2vi+NOEnEiAHQiB1QrnnK/ztp9ImMYrQ5gLGWCpc2559Lye2z6RMHBwc3rmgV5NGBFd122P3wSi3/djo/KXAr+s97YTXu/nEd5o47nP3+WcWxYdr9u2W2s7nHMfIwQcuxNyQVcTZieo67ZH9RkFfIbwNXbDvMdZa2e7MNvDDML7nCek8lzfAD/3UYSc76mE3/cu4CTn3EnR8eHe9oLlrbXtLgwYvYwwzd2TwGE2zDxWEeO977uUiIiIiIgAmoVDRERERKQsCqBFRERERMqgAFpEREREpAwKoEVEREREyqAAWkRERESkDAqgRURERETKoABaRERERKQMCqBFRERERMqgAFpEREREpAwKoEVEREREyqAAWkRERESkDAqgRURERETKoABaRERERKQMLbWuwHDR1ta2Gnij1vUQERERkbJtMHPmzJHVupgC6NK9MXPmzMm1roSIiIiIlKetrW1eNa+nFA4RERERkTIogBYRERERKYMCaBERERGRMigHWhqGyZhmYB0gEz3uD7wJzAEWAK8BLwErgH/4tO82GbN1tN8DBwM7AmOB833aLxz0RlSRyRgD4NPe17ouIiIiw4kCaBkWTMZ8EHjQp/2iaPujwLeBu4ADge2AO4G/ANsDq4GXAQM0A+8Bjoou9zRwPvDr6PiuhIB6HeAwQoD8F5Mxq4AlQBfQCtxDCLZ3At42GfMl4GHgC8BVwPToer8HrozuexghIP+PT/v5JmNGAd6n/epE294LjPJpf3uedm8FvBMYAewMbBodioP6J4AxQCcwD5gMrA+8CGwZld8RWBjVLw6W9wc+AhxuMuYW4EHgUp/28/P9/4uIiEgP49X5VJK2trZ5moVj8JmM2RfYCrgm2nU+8GmgHXidENT+lRAEbwhsAbwSHduR0MPcArxKCHIXASN92q/s476HAv+Nzp8ELPJpvzQ61gSkgbOj4vcB+xAC828DhwPHRMeWRXXZmhDkekJg/zNgX2BPYNvErZ8AFgNvEwLnrYDHCB8OXgWeIQT6o4FRhIC5HZhICKRfi+63fXSf5wm96lOAy6PrLgRmR9f8b3TudGB34DKf9qcV+78REREZbqodx5UdQJuM2ZDQ45civPEuArLAbT7tX61WxYYaBdCDz2TMtoSAEUJP7mvAccAvgKd92rfXqGoAmIzZEuj0aT/PZMzGwJs+7TujY+tEx5ZH29sSeqRfAbYhBNl7AdcReqsNIWBeCmxCCHgfBd72af9Kleo7zqf9siLHtyN8CJgBfCpui4iIyHBXswDaZMw7gHOANsLX1k8S3uzHA+8A3gXMBM72af9EtSo4VCiArj6TMSZf/m2Uq/wj4FPA13zaXz/olWtQJmMOAf4AfNan/Y21ro+IiEg1VDuOKycH+rfAj4GjkvmbMZMxI4FDCV8T71uV2kndMRmzBXAhId3gQJMxLwL/IqzyeBcwATiJ8M1Gm0/752pS0Qbl0/6vJmOOIXzLpABaREQkj5IDaJ/2e/dxfDXwp+ifCAAmY3YFNgI2Iwzkez/wG+AB4GhgJHBAdPwEQirDr4HrfNp31aDKEvK+16l1JURERIaqimfhMBmzPbAeIUfz6epVSWohGhi3K6EHeBPCgLenCIHUBtG/BdFxCCk8ywgB7/7ALoQc37mEAGwkMBX4BPAQIbf2NuCUOC844aoBapZUztS6AiIiIkNV2QG0yZhjgR8SZjww0b7XgNN92l9Z3erJINqd8JX9TEJuexPwZcI0bvFMEnsSZnCYBBwbPXYC3YSBpPMJ061tAywHXgD2qefBpXVKU/OIiIgUUVYAbTLmA8DFhCmvrif0SG5G6GX8ucmYBT7tb6t2JWVQNAP/9ml/dK0rIkOCeqBFREQKKLcH+hTguz7tf57Y9zzwk2jRCUv4ml6GHwVMElMPtIiISBHlBtB7AicWOPZH4MxyLuac25awSMSfrbVHJ/YfSVgwYxIhID/BWvt2gWvsSpj54x2EvNzPW2sfKVB2FvA7a+1l0fY04AbgJGvt78upex0yKHCSHvpAJSIiUkBTmeXH+rR/Pd+BaP/YMq93MWEJ4TWcczsCvyKs5LYRYRnkX+Q72Tk3gpC3+ztgXcKCFDdG+4tyzn2IsGDE5xQ8i/SiD1IiIiJFVDKI0JC/d6qsHkzn3BGEuX7vJczWEDsK+Ku19s6o3FnAk8658dbapTmXmUZow4XWWg/83Dl3GmGqtFuL3PujhKD7SGvtzaXWuc6pB1qS1AMtIiJSQLk90OMIsy50FPhXUg+0c24C8D3g1DyHdyTM6ACAtfY5oB3YrkDZR6PgOfZotL+QQ4CrgU8qeBbJSx+kREREiii3B3qrKt33HOBya+0851zusXHA4px9iwlLhvenbKyNML/xPcUq6Jw7lUSA39LSMq5Y+TqgHmhJUg+0iIhIAWUF0D7t5+bbbzJmXZ/2C0u5RjTo7wPAbgWKLKNnsY7YBMLcxP0pGzsL+CQwwzl3qLV2rWXJAay1FwAXxNszZsyYV+SaIvXEowBaRESkoLJSOEzGHGsy5sDE9h4mY14G3jQZ83S0OmFfpgFbAi85514FTgMOd879Jzo+B0jFhZ1zWxNWtXsmz7XmALs455Jv9rtE+wtZDhxMWGHvT8651hLq3AjUAy0iIiJSgnJzoE8DkqvKXQrcTghabwd+XMI1LiWsVLdr9O8S4O9AHJhfAxzinHufc24sIVf6+jwDCAFmAV3AKc65kc65k6P9dxSrQHStgwiLwFzrnGsuod6NQAG0gHqgRUREiio3gN6cMG8zJmM2B3YGvuHTfg5wOrB3Xxew1q6w1r4a/yOkYayy1r4RHZ9DWEL6GsLy0eOBr8TnO+ducc6dEZVtBw4jLCu9CDgBOCza31c9FgEfJAxOvMo5V+7/Rb1RwCQxfZASEREpotxBhJ3ACGAV8G7gKZ/28QInK4DR5VbAWjs9z75rgWsLlP9wzvZ/gXeVeK9pOdtvk0gXEQVOsoY+UImIiBRQbq/rbOD7JmN2Ab4K/DVxbAd6p3fI8KKASWL6ICUiIlJEuQG0JcyecQ+hx/mHiWPHUGTxEhnyNIhQkvSBSkREpIByp7GbT1jlL9+x06tSIxGpNX2QEhERKaKsANpkTL7guQOY69P+pepUSWpEPdCSpB5oERGRAsodRHh5nn2twIYmYx4EPh31UovI8KUPUiIiIkWUm8KRdylvkzFjgB8APwM+XYV6yeBTD7QkqQdaRESkgKrMfezTfgXwHeB91bieiNSUPkiJiIgUUc3FQzopPyVEhg71QEuSeqBFREQKqGYA/TXg4SpeT0RqQx+kREREiih3Fo67WPvNtRXYgrA64UeqVC8ZfOqBliT1QIuIiBRQbsrFZXn2dQIvAff7tG/vf5WkRhRAS8yjAFpERKSgcmfhuHKgKiIiIiIiMhyUnANtMuYUkzEj+igz0mTMKf2vltSAeqAlph5oERGRIsrpgd4YeM5kzM3AbOBpYCkwHtgOmAZ8GLiqynUUkcGlD1IiIiJFlNwD7dP+DGA34H/A54FbgMeBm4ETgKeA3XzanzkA9ZSBpx5oSVIPtIiISAHl5kC/Cfwk+ici9UkfpERERIqo5jzQMrypB1qS1AMtIiJSgAJoEcmlD1IiIiJFKICWmHqgJUk90CIiIgUogBaRXPogJSIiUkS5KxGuYTJmfeBgYBOf9j8yGbMp0OTTfl7VaieDST3QkqQeaBERkQIq6oE2GbM/YR7oo4Czot3bAr+sUr1k8Clgkpg+SImIiBRRaQrHhcBnfNofBHRG++4H9qpGpaRmFDhJTB+oRERECqg0gN7Sp/2/oudx0NVOP1JCpOaUwiExvQ5ERESKqDSAfsJkzIE5+z4APNbP+ojI0KAeaBERkQIq7TH+BvA3kzF/B0abjPkVcAjwsarVTAabeqAl5lEALSIiUlBFPdA+7e8DUsAc4DfAC8BePu0frGLdRERERESGnIpzln3azwd+VMW6SG2pB1pi6oEWEREpoqIA2mTM1RQItnzaH9uvGolIremDlIiISBGV9kA/m7O9MfBJ4Jr+VUdqSD3QkqQeaBERkQIqCqB92mdy95mMuRxI97tGIlJr+iAlIiJSRKXT2OXzCLB/Fa8ng0s90JKkHmgREZECKs2Bfn/OrjHAEcAT/a6R1IoCJonpg5SIiEgRleZAX56zvZzQA/3ZftVGak2Bk8T0gUpERKSASnOgt6p2RaTmFDBJTB+kREREiig5gDYZU1K+tE/77sqrIzWmwEli+kAlIiJSQDk90J0UD7DiQWjN/aqR1IoCJonpg5SIiEgR5QTQStuofwqcJKYPVCIiIgWUHED7tJ9bjRs650YCvwA+AKwHPAd8x1p7S6LMAcDFwBbA/cDx1tq893fObQlcAewNvAScbK29vUDZ3wLzrLVnRts7ArcDP7XW/qQa7RvGNI2dxLSUt4iISBEVzwNtMuZQkzE/NRlzpcmYq+J/JZzaArxMmDN6HeBM4I9RIIxzbhJwPXAWIcB+CPhDketdB/wXWB/4LvBn59wGfVXCObcbMBM4V8GziIiIiJSq0nmg08CXgd8DnwJ+BRxJ8UAXAGvtcmB6YtffnHMvAO8CXgQ+Acyx1v4JwDk3HXjTObeDtfap5LWcc9sBuwMfstauBP7inPsacDhwSaE6OOf2Am4GTrfWXtZ3ixuCeqAlph5oERGRIirtgT4B+KBP+68D7dHjIcCW5V7IObcRsB0wJ9q1I5CNj0cB93PR/lw7As9ba5cm9mULlI3tBdwKfF3Bs4iIiIiUq9KFVCb6tH88et5uMqbVp/0DJmPKWsrbOdcKXANcmehdHge8kVN0MTA+zyXGRcdyy25W5Lb7AG8BtxQpg3PuVODUeLulpWVcsfJ1QD3QElMPtIiISBGVBtDPmYzZ0af9HOBx4CSTMQuBhaVewDnXBFwNtAMnJw4tAybkFJ8ALGVt5ZSNXQxMBW5zzr3fWpu3ztbaC4AL4u0ZM2bMK3LNeqCASWL6ICUiIlJEpSkcZxIG7QGcDpwC/JhEj20xzjlDWA58I+Bwa21H4vAcIJUoOxbYhp4UD3LKbu2cS/ZOpwqUjXUR8rVfAv7hnMsNwBuZAieJ6QOViIhIAWUF0CZjHjAZ8xXgPp/2dwL4tH/Ap/1Un/Yb+7S/vsRL/RJ4B3BINPgv6QZgJ+fc4c65UcDZwKO5AwgBrLXPAI8AaefcKOfcx4FdgL8Uu3kUsH8KeBO4OQrSG50CJonpg5SIiEgR5fZAXwN8DlhgMub6aCq7stJAnHNTgC8BuwKvOueWRf+OArDWvkGYReP7hJSQvYEjEudf4pxLzrBxBLBHVPYHwCejaxRlrW0nzPixCvirc250Oe2oUwqcJKYPVCIiIgUY78uPmUzGvBM4GjgKGE2Yzu5Kn/YPV7d6Q0dbW9u8mTNnTq51PQaKyZgjgD192n+j1nWR2jIZswXwe5/27651XURERKqh2nFcRTnQPu2f8Gl/BmHauiMIs2H8y2TMY9WqmNSEeqAlph5oERGRAipeiRDAp70nzISxEugExlSjUlITCpgkpg9SIiIiRVS6EuHmwDHAscDGwJ+BT8QDC2XYUuD0/9u792i5yvKO49+dBALkYkBaahKEKrEoLBKhUm4WUvBauSyptGoJsU0KYVEfCzUCpUwGbJRbVh4FQSC1CRCs0JAgMWpZRBKWio0tRAMIKk0JKhqUQALkuvvHs4dsj5k5M3MmZ87Z+/dZK2vN7Ov7ZPbZ8+xn3v1uqdEFlYiISB0tJdBJNZlKJM0nAN8CrgQWpZW050gaMvjoQSpSo+NARESkgVYr0J8C5gNnp5X02d3QHukeVRwlT8eDiIhIHS0l0GklfevuaogMCKo8CuhR3iIiIg316SZCKRQlTCIiIiJNUAIteapAC6gCLSIi0pASaKlRwiQiIiLShI4k0Ek1mZxUkxM7sS3pKlWgBVSBFhERaaitBDqpJg8m1eT47PWniEd5L0yqyaWdbJz0KyVMUqMLKRERkQbarUAfDnw3ez0dmAwcA5zXiUZJ1yhxkhpdUImIiNTR1pMIicQ7TarJm4EkraSPASTVZN+OtUz6mxImqdGFlIiISAPtJtAPAdcDbwDuAciS6fUdapd0hxInqdEFlYiISB3tduGYCrwArAYq2bRDAe97k6RLlDBJjS6kREREGmirAp1W0ueBS3tMW9qRFkm3JChxkp10QSUiIlJHWwl0Uk0uBB5IK+kjSTU5BvgKsB34SFpJv9PJBkq/UgItoONARESkoXa7cPwD8HT2+jPAHODTwNwOtEm6QxVHydPxICIiUke7CfTr0kq6Iakmo4CJwOfTSjoP+KPONU26QJVHAR0HIiIiDbU7CsczSTU5DjgMWJFW0u1JNRlNdOOQwUkVR8nT8SAiIlJHuwn0J4G7gS3Amdm0DwDf60SjpGtUeRTQo7xFREQaancUjq8BY3tMviv7J4OTEiYRERGRJrRbgSapJhOADwPjgGeBO9NK+lSnGiZdoQq0gCrQIiIiDbV1E2FSTU4Fvk88POXXxM2Dq5JqcloH2yb9SwmTiIiISBParUDPBk5PK+ny2oSkmpxEPN773r43S7pEFWgBVaBFREQaancYu/HAyh7THsqmy+CkhElERESkCe0m0I8AF/WYdmE2XQYnPcpbalSBFhERaaDdLhwzgK8m1cSAZ4ADgZeBUzvVMBHpGl1IiYiINNByAp1UkyHEEHZvByZlr38GPJxW0q0dbZ30J1WgJU8VaBERkTpaTqDTSrojqSZL0ko6iuj3LMWhBFpAx4GIiEhD7faBXpFUk2M62hLpNlUcJU/Hg4iISB3t9oFeCyxLqskSog/0axWrtJJe3omGSVeo8iig40BERKShdhPovYHF2WsNXVcMqjhKno4HERGROtpKoNNK+rFON0QGBFUeBTSMnYiISEPtjMKxR220jaSanMBv96P+dlpJt3WqcdKvlDCJiIiINKGlBDqpJjOA44Czs0nfBJ7PXu8DzATmdax10p80jJ3UqAItIiLSQKujcEwBrs2935xW0gPTSnogcDIwrWMtExEREREZgFpNoP8wraSP5t4/lnv9KPCmvjdJukQVaKlRBVpERKSBVvtAj0yqyYi0km4CSCvp8bl5I7J/febu+xFdQd4NrAcuMbOFdZZNgM+ys/p9K3Cxmf1OMujuJwG3m9n47P2ewJeBA4D3mdmLnWi/iIiIiBRXqxXoHxJJ7a68B1jTt+a85gZgC5HYfhS40d0Pq7Ps3wFnABOBI4BTgXN724G7DwcWAWOAdyt5VgVaXqMKtIiISAOtVqDnAl9IqkkK3Js91nsIcDpwPXBhXxvk7iOAM4HDzWwj8JC730vcuHjxLlY5B7jOzNZl618HTAduarCPfYhxrHcAf25mr/S13SIiIiJSDi0l0Gkl/XJSTcYBtwN7JtVkPbA/sBm4Iq2kd3agTW8BtpnZk7lpjwIn1ln+sGx+ftl61WqA4cAyYAPwITPb3Ie27jZJNZlJ/N/2l6OAb/Tj/mTgSoH9k2pydbcbIiIihfTqYH9ydcvjQKeV9LqkmtwCHEskeM8D30kr6YYOtWkk0LM7xQZgVIPlN/RYdqS7J7vqB51t51jgw42SZ3e/kFxFfdiwYSObaHsnPUb9mHeH/wFW9OP+ZIBKK+mrSTWZQofuaRAREelha7cb0FftPonwRXZftXIjMLrHtNHAS00uPxrYWCd5hrgp8ePAAnffaGa7jMPM5gBzau8XL168rom2d0xaSe/rz/2J5KWV9N5ut0FERGSgavUmwv7wJDDM3Sfkpk2k/g2Ka7L5zSwLgJktIvpJ3+3uk/vQVhEREREpmQGXQJvZJmJ0jCvcfYS7H0/cpHhbnVUWABe6+zh3HwtcBPxbE/u5E7gAWJLtQ0RERESkVwMugc6cD+wN/BK4E5hhZmsA3P2d7r4xt+wXga8CPyCG2VuaTeuVmc0nEu6l7n5055ovIiIiIkWVpKmG/m3G5MmTNwO/6sa+hw0bNnLbtm0be1+yeBS7Yi8bxa7Yy0axly/2LsX9e8uXLx/esa2laap/A/zf3Llz13W7DYpdsSt2xa7YFbtiV+yKO/4N1C4cIiIiIiIDkhJoEREREZEWKIEeHOb0vkhhKfZyUuzlpNjLSbGXz6CPWzcRioiIiIi0QBVoEREREZEWKIEWEREREWmBEmgRERERkRYM63YDBjJ3Hw58ATgF2A/4CXCJmS3L5p8M3AC8EXgYmGpma7N51xKPIP8D4Flgtpkt2MU+pgDzgelmdmuDtjTa11nAJ4BJwPfM7KQm4roR+AvgZeBqM5uTzdsTWAj8MXAQ8BwwoiSxHwNcCRxFPAlzB5ACPy5B7G8DFgBvBvbJYt8BPFX02Hss823gSOAV4Mmix+7uBwNPA5uA4cBQYCvweNFjz+bvQ9zMNBXYkzjmf1j02N39o+x8Ym/tc0+IY/4TRY49t70rgDdlk7YDP6Lgn3s2fxpwMfH9vi2LvSjfcQ2Xd/dJwDzgrcQ57m/N7JFG22xEFejGhgHPACcCrwMuA77i7ge7+/7AIuCfieR6FfDvuXU3Aadm650DuLsfl9+4u+8LXAqsadSIJvb1a2Au8Nkm45oFTCD+gCYDM939vbn5DwHTgI3EwViW2PcFbgbeRnypLiX+L8oQ+8+IE+74bHtXERdNZYi9ZgIR/y+JL4gyxT4W+Bciodib8sR+M/B64HPAIcAxlCB2M7vDzEYCBxCf+0zgp8BFRY/d3ccBtxNJ5GzgXKJQck0JYj8pi/mvsu39B/B9inPM113eozi4hPjs9yWS+yXZ9LaoAt2AmW0iDsaa+9z9aaJC+XpgjZndBeDus4D17n6omT1hZpXceg+7+0rgWKLCVfMZ4sR9Vi9N+WAv+7o/mz6tydDOIa7yfgP8xt1vISowXzezLcQBiLtvAH5hZjtKEvuy3HL/5O5HAg+a2XtLEPsLwAvZ9q4kvlQOMbPCf+65Za4FPkb86pSWLPaXzWxW7n3hY3f3Q4HTgPFm9mK2/E+z7Rc69toCte84d18OLCjJMT8eeMHMFgOLs+1eTXz2RY/9A8BdZrYKWOXuY4kq8t8UIfZelj+JyHnnmlkKfM7d/xH4M377XNg0VaBb4O4HAG8hrqoOAx6tzctORD/Jpvdcb2/gHeSuxtz9aKKbxE1N7LrpfTURw77AG/Lby1433FZJY/9TYE2ZYnf3F4BXgc8Ds8sSu7t/CNhsZl/LTStF7Jm17r7O3b/k7vuXJPajgbVA1d3Xu/sP3P3MksSeX/Yg4ly3oCSxrwIed/fT3H2ou58BbAZ+QfFjh+iq0/P18Qzy2Jvc1+osea5Z3Zd9KYFukrvvAdwBzDezJ4CRwIYei20ARu1i9ZuIg+Qb2baGElWuC7Lqbm9a2Vcz26qt39S2yhi7ux8BXE78zFea2M1sDPHT3AXEyaXwsbv7KOJnTcvNH0oJYgfWE1+ABxHVp1HEPRBliH08cHg2bSxxzM8H7qH4sedNAVYC6yjB525m24n7PRYSifNC4HzgFgoeO1FpPcvdj8iS38uJ7iufZPDH3u/7UheOJrj7EOA2YAtxkoXoHzy6x6KjgZd6rHsNcZKenLvyOZ+4EvruLvb1RuCx2nuLfmpN7atO228C/jp7O5u4uaC2/qtNbCuhZLG7+yHAMqL/93mUKPZs35vc/YvEDSgrKX7ss4DbzOx/c5u5mLiRsNCxm9lGoiIH8Jy7/z3RH/6bFDx24vPdCnzazLZlP0VvAMZQ/NjzphA/uZfiPO/upwBXEz/p/zdRLX2Q+DsodOxmdr+7V4i+z6MBJ24k3Mggj93MZveyStv7qkcJdC/cPSHu2jwAeL+Zbc1mrSH6GtWWG0GMYJD/KaMKvA84MdfHDuBk4ER3f3/2fj/g7e4+ycwuYOdVZE2v+6rHzM4jksB8TD8HJgL/mU2a2GBbM4G9KEns2c+Z9xOjcUymhJ977pgfBlxWgthPBsa7+/nZ+98HxgGzShB7frmEnY/XnVKC2Ff3iH0eMSLFv5Yg9toyxxPV9zKd6yYBK8xsVfa5zyCSq6UliB0zuwG4IYv9buLXtg8WIfZerAEucvckl/AfQYwA0hYl0L27kRjy5BQzeyU3/R7gGnc/kxit4XLiyusJAHe/BPgI8E4ze77HNqcSSWnNIuJAnlenDb3tayiwB/F5DnH3vYDtuT+InhYAl7n7KuKkOZ24eYpse8OJyvMY4GDgBHZezRY2do+7sx8AridOsqX53N39XcTP+auJkQneQ4xG8UjRYydO+ntkr68i7lCflrWh0LG7+58QN48+lbXnXcBKM3uu6LEDK4D/Ay4hunO8g0ig7ytB7DXnEF03JlCScx3wX8DFHkOanUd0XRpCVKMLHXu27iFEMnkb8fc+x8x+XoTYe1n+W8SQfR/3qF5Pz1Z7oE7beqUEugGPauS5ZDcYuHtt1rlmdkf2oV9PDIvyMPHFWzOb+Dnsx7n1ZpvZbIsRD/L72QK8aGY9++cAYGa/6mVfZwNfyr1/hejLN7VOaBXiwmBttuxVZvb13PwfEX0iAQ4lEquX3T0teOzTiGG8qsRYyAAvufum7HWRYx9D3Dh4IDvHgd5M3BFd6NhrXwLZ3/uUbPmbgRuLHjtxvM8mvmhrY58f5e4bs/mFjd3Mtrr76UTCcSTRF3QzMTpBoWPP2rMX8JfEz9il+Y4zswc9RntYTHzPpURXnkUl+Nz3Ivp8H0L8vW8HZrj7jGz+YI+97vJmtsXjhtFbiWHuHgfOsBh5rC1Jmqa9LyUiIiIiIoBG4RARERERaYkSaBERERGRFiiBFhERERFpgRJoEREREZEWKIEWEREREWmBEmgRERERkRYogRYRERERaYESaBERERGRFiiBFhERERFpgRJoEREREZEWKIEWEREREWmBEmgRERERkRYogRYRERERacH/AyZ00PvdnqK4AAAAAElFTkSuQmCC'>\n",
       "</div>\n",
       "<div class=\"table_block\">\n",
       "<table class=\"report_table\" width=100%>\n",
       "<tr>\n",
       "     <th> Statistic </th><th> Model </th>\n",
       "</tr>\n",
       "<tr><td>Gain (USD):</td><td>996.84</td></tr>\n",
       "<tr><td>CAGR (%):</td><td>2240.700</td></tr>\n",
       "<tr><td>Sharpe:</td><td>3.259</td></tr>\n",
       "<tr><td>QR:</td><td>-0.012</td></tr>\n",
       "<tr><td>Sortino:</td><td>7.538</td></tr>\n",
       "<tr><td>Calmar: </td><td>215.422</td></tr>\n",
       "<tr><td>MaxDD (%):</td><td>16.544</td></tr>\n",
       "<tr><td>MaxDD On Init BP (%):</td><td>21.800</td></tr>\n",
       "<tr><td>MaxDD (USD):</td><td>2180.014</td></tr>\n",
       "<tr><td>MaxDD days:</td><td>7 days</td></tr>\n",
       "<tr><td>MaxDD start:</td><td>2024-01-02</td></tr>\n",
       "<tr><td>MaxDD peak:</td><td>2024-01-03</td></tr>\n",
       "<tr><td>MaxDD recover:</td><td>2024-01-10</td></tr>\n",
       "<tr><td>Tail Ratio:</td><td>2.087</td></tr>\n",
       "<tr><td>Stability: </td><td>0.000</td></tr>\n",
       "<tr><td>Alpha:</td><td></td></tr>\n",
       "<tr><td>Beta:</td><td></td></tr>\n",
       "<tr><td>Ann.Volatility (%):</td><td>95.67</td></tr>\n",
       "<tr><td>VAR_95 (USD):</td><td>842.32</td></tr>\n",
       "<tr><td>Mean return (%)</td><td>1.028</td></tr>\n",
       "<tr><td>Signals</td><td>???</td></tr>\n",
       "<tr><td>Broker's Commissions:</td><td> 43.209 </td></tr>\n",
       "\n",
       "\n",
       "</table>\n",
       "</div>\n",
       "</div></div>\n"
      ],
      "text/plain": [
       "<IPython.core.display.HTML object>"
      ]
     },
     "metadata": {},
     "output_type": "display_data"
    },
    {
     "data": {
      "text/plain": [
       "<Figure size 720x640 with 0 Axes>"
      ]
     },
     "metadata": {},
     "output_type": "display_data"
    }
   ],
   "source": [
    "tearsheet(rep['/test0/0'].get_portfolio(), 10000)"
   ]
  },
  {
   "cell_type": "code",
   "execution_count": 21,
   "metadata": {},
   "outputs": [
    {
     "data": {
      "application/vnd.jupyter.widget-view+json": {
       "model_id": "1ae86794bc6f4f4a843d94d095220a4e",
       "version_major": 2,
       "version_minor": 0
      },
      "text/plain": [
       "  0%|          | 0/2 [00:00<?, ?it/s]"
      ]
     },
     "metadata": {},
     "output_type": "display_data"
    },
    {
     "data": {
      "application/vnd.jupyter.widget-view+json": {
       "model_id": "3f0887bd045d498397dc705d73a352ef",
       "version_major": 2,
       "version_minor": 0
      },
      "text/plain": [
       "  0%|          | 0/10412 [00:00<?, ?it/s]"
      ]
     },
     "metadata": {},
     "output_type": "display_data"
    },
    {
     "data": {
      "application/vnd.jupyter.widget-view+json": {
       "model_id": "b9ee858330b44bfbb7daeb83a603092b",
       "version_major": 2,
       "version_minor": 0
      },
      "text/plain": [
       "  0%|          | 0/10412 [00:00<?, ?it/s]"
      ]
     },
     "metadata": {},
     "output_type": "display_data"
    }
   ],
   "source": [
    "sigs = pd.DataFrame.from_dict({'BTCUSDT': {'2024-01-01 01:00': +1, '2024-01-01 02:00': 0}})\n",
    "sigs.index = pd.to_datetime(sigs.index)\n",
    "\n",
    "rep = simulate(\n",
    "    {\n",
    "        'test1': [TestStrategy(timeframe='15Min', fast_period=6, slow_period=12)],\n",
    "        'test2': [TestStrategy(timeframe='15Min', fast_period=7, slow_period=14)],\n",
    "        # 'test3': sigs,\n",
    "    }, \n",
    "    r, 10000, [\"BINANCE.UM:BTCUSDT\"], \n",
    "    dict(type=\"ohlc\", timeframe=\"5Min\", nback=10),\n",
    "    \"4h -1Sec\",\n",
    "    \"vip0_usdt\", \n",
    "    \"2024-01-01\", \"2024-01-10\", \n",
    ")"
   ]
  },
  {
   "cell_type": "code",
   "execution_count": 22,
   "metadata": {},
   "outputs": [
    {
     "data": {
      "text/html": [
       "\n",
       "\n",
       "\n",
       "\n",
       "<style>\n",
       ".report_table td, .report_table th {\n",
       "    text-align:left !important;\n",
       "}\n",
       "\n",
       ".wrap_table th {\n",
       "    text-align:center !important;\n",
       "}\n",
       "\n",
       ".wrap_table td, .wrap_table tr {\n",
       "    background: none !important;\n",
       "    text-align:left !important;\n",
       "}\n",
       "\n",
       ".flex-container {\n",
       "   display: flex;\n",
       "  align-items: flex-start;\n",
       "}\n",
       "\n",
       ".table_block {\n",
       "  width:30%;\n",
       "}\n",
       "\n",
       "</style>\n",
       "\n",
       "<table class=\"wrap_table\" width=100%>\n",
       "<th><font size=3 color=\"green\" text-align=\"center\"> Simulation </font></th>\n",
       "<tr><td><font color=\"#3030ff\" size=-2></font></td></tr>\n",
       "</table>\n",
       "\n",
       "<div class=\"flex-container\"><div class=\"\">\n",
       "<img src='data:image/png;base64,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'>\n",
       "</div>\n",
       "<div class=\"table_block\">\n",
       "<table class=\"report_table\" width=100%>\n",
       "<tr>\n",
       "     <th> Statistic </th><th> Model </th>\n",
       "</tr>\n",
       "<tr><td>Gain (USD):</td><td>-1.02</td></tr>\n",
       "<tr><td>CAGR (%):</td><td>-0.339</td></tr>\n",
       "<tr><td>Sharpe:</td><td>-0.127</td></tr>\n",
       "<tr><td>QR:</td><td>0.179</td></tr>\n",
       "<tr><td>Sortino:</td><td>-0.206</td></tr>\n",
       "<tr><td>Calmar: </td><td>-0.879</td></tr>\n",
       "<tr><td>MaxDD (%):</td><td>0.529</td></tr>\n",
       "<tr><td>MaxDD On Init BP (%):</td><td>0.532</td></tr>\n",
       "<tr><td>MaxDD (USD):</td><td>53.171</td></tr>\n",
       "<tr><td>MaxDD days:</td><td>6 days</td></tr>\n",
       "<tr><td>MaxDD start:</td><td>2024-01-03</td></tr>\n",
       "<tr><td>MaxDD peak:</td><td>2024-01-09</td></tr>\n",
       "<tr><td>MaxDD recover:</td><td>2024-01-10</td></tr>\n",
       "<tr><td>Tail Ratio:</td><td>0.892</td></tr>\n",
       "<tr><td>Stability: </td><td>0.005</td></tr>\n",
       "<tr><td>Alpha:</td><td></td></tr>\n",
       "<tr><td>Beta:</td><td></td></tr>\n",
       "<tr><td>Ann.Volatility (%):</td><td>2.04</td></tr>\n",
       "<tr><td>VAR_95 (USD):</td><td>20.23</td></tr>\n",
       "<tr><td>Mean return (%)</td><td>-0.001</td></tr>\n",
       "<tr><td>Signals</td><td>???</td></tr>\n",
       "<tr><td>Broker's Commissions:</td><td> 2.444 </td></tr>\n",
       "\n",
       "\n",
       "</table>\n",
       "</div>\n",
       "</div></div>\n"
      ],
      "text/plain": [
       "<IPython.core.display.HTML object>"
      ]
     },
     "metadata": {},
     "output_type": "display_data"
    },
    {
     "data": {
      "text/plain": [
       "<Figure size 720x640 with 0 Axes>"
      ]
     },
     "metadata": {},
     "output_type": "display_data"
    }
   ],
   "source": [
    "tearsheet(rep['/test2/0'].get_portfolio(), 10000)"
   ]
  },
  {
   "cell_type": "code",
   "execution_count": 75,
   "metadata": {},
   "outputs": [
    {
     "data": {
      "text/plain": [
       "{'/test1/0': <qubx.core.loggers.InMemoryLogsWriter at 0x29683771450>,\n",
       " '/test2/0': <qubx.core.loggers.InMemoryLogsWriter at 0x2968218da90>,\n",
       " '/test3': <qubx.core.loggers.InMemoryLogsWriter at 0x296851f4f10>}"
      ]
     },
     "execution_count": 75,
     "metadata": {},
     "output_type": "execute_result"
    }
   ],
   "source": [
    "rep"
   ]
  },
  {
   "cell_type": "code",
   "execution_count": null,
   "metadata": {},
   "outputs": [],
   "source": [
    "# %%time\n",
    "# d = sdp.run('2024-01-01 00:00', '2024-01-03 00:00')\n",
    "d = sdp.run('2024-04-01 00:00', '2024-04-15 00:00')\n",
    "ctx.stop()"
   ]
  },
  {
   "cell_type": "code",
   "execution_count": null,
   "metadata": {},
   "outputs": [],
   "source": [
    "q_pfl = logs_writer.get_portfolio(qube_compatible=True)\n",
    "tearsheet(q_pfl, 1000, account_transactions=1)"
   ]
  },
  {
   "cell_type": "code",
   "execution_count": 216,
   "metadata": {},
   "outputs": [
    {
     "data": {
      "text/html": [
       "<div>\n",
       "<style scoped>\n",
       "    .dataframe tbody tr th:only-of-type {\n",
       "        vertical-align: middle;\n",
       "    }\n",
       "\n",
       "    .dataframe tbody tr th {\n",
       "        vertical-align: top;\n",
       "    }\n",
       "\n",
       "    .dataframe thead th {\n",
       "        text-align: right;\n",
       "    }\n",
       "</style>\n",
       "<table border=\"1\" class=\"dataframe\">\n",
       "  <thead>\n",
       "    <tr style=\"text-align: right;\">\n",
       "      <th></th>\n",
       "      <th>instrument_id</th>\n",
       "      <th>side</th>\n",
       "      <th>filled_qty</th>\n",
       "      <th>price</th>\n",
       "      <th>commissions</th>\n",
       "      <th>commissions_quoted</th>\n",
       "    </tr>\n",
       "    <tr>\n",
       "      <th>timestamp</th>\n",
       "      <th></th>\n",
       "      <th></th>\n",
       "      <th></th>\n",
       "      <th></th>\n",
       "      <th></th>\n",
       "      <th></th>\n",
       "    </tr>\n",
       "  </thead>\n",
       "  <tbody>\n",
       "    <tr>\n",
       "      <th>2024-01-02 17:59:59.999</th>\n",
       "      <td>SOLUSDT</td>\n",
       "      <td>sell</td>\n",
       "      <td>-10.0</td>\n",
       "      <td>107.7075</td>\n",
       "      <td>None</td>\n",
       "      <td>None</td>\n",
       "    </tr>\n",
       "    <tr>\n",
       "      <th>2024-01-03 06:59:59.999</th>\n",
       "      <td>SOLUSDT</td>\n",
       "      <td>buy</td>\n",
       "      <td>20.0</td>\n",
       "      <td>109.4985</td>\n",
       "      <td>None</td>\n",
       "      <td>None</td>\n",
       "    </tr>\n",
       "    <tr>\n",
       "      <th>2024-01-03 07:59:59.999</th>\n",
       "      <td>SOLUSDT</td>\n",
       "      <td>sell</td>\n",
       "      <td>-20.0</td>\n",
       "      <td>107.9585</td>\n",
       "      <td>None</td>\n",
       "      <td>None</td>\n",
       "    </tr>\n",
       "    <tr>\n",
       "      <th>2024-01-03 09:59:59.999</th>\n",
       "      <td>SOLUSDT</td>\n",
       "      <td>buy</td>\n",
       "      <td>20.0</td>\n",
       "      <td>109.1885</td>\n",
       "      <td>None</td>\n",
       "      <td>None</td>\n",
       "    </tr>\n",
       "    <tr>\n",
       "      <th>2024-01-03 10:59:59.999</th>\n",
       "      <td>SOLUSDT</td>\n",
       "      <td>sell</td>\n",
       "      <td>-20.0</td>\n",
       "      <td>107.5695</td>\n",
       "      <td>None</td>\n",
       "      <td>None</td>\n",
       "    </tr>\n",
       "  </tbody>\n",
       "</table>\n",
       "</div>"
      ],
      "text/plain": [
       "                        instrument_id  side  filled_qty     price commissions  \\\n",
       "timestamp                                                                       \n",
       "2024-01-02 17:59:59.999       SOLUSDT  sell       -10.0  107.7075        None   \n",
       "2024-01-03 06:59:59.999       SOLUSDT   buy        20.0  109.4985        None   \n",
       "2024-01-03 07:59:59.999       SOLUSDT  sell       -20.0  107.9585        None   \n",
       "2024-01-03 09:59:59.999       SOLUSDT   buy        20.0  109.1885        None   \n",
       "2024-01-03 10:59:59.999       SOLUSDT  sell       -20.0  107.5695        None   \n",
       "\n",
       "                        commissions_quoted  \n",
       "timestamp                                   \n",
       "2024-01-02 17:59:59.999               None  \n",
       "2024-01-03 06:59:59.999               None  \n",
       "2024-01-03 07:59:59.999               None  \n",
       "2024-01-03 09:59:59.999               None  \n",
       "2024-01-03 10:59:59.999               None  "
      ]
     },
     "execution_count": 216,
     "metadata": {},
     "output_type": "execute_result"
    }
   ],
   "source": [
    "exs.head()"
   ]
  },
  {
   "cell_type": "code",
   "execution_count": null,
   "metadata": {},
   "outputs": [],
   "source": [
    "# pfl = pd.read_csv(\"logs/Strategy3_Account1_portfolio.csv\", index_col='timestamp', parse_dates=True)\n",
    "pfl = logs_writer.get_portfolio(qube_compatible=False)\n",
    "exs = logs_writer.get_executions()"
   ]
  },
  {
   "cell_type": "code",
   "execution_count": 217,
   "metadata": {},
   "outputs": [
    {
     "data": {
      "text/plain": [
       "<Axes: xlabel='timestamp'>"
      ]
     },
     "execution_count": 217,
     "metadata": {},
     "output_type": "execute_result"
    },
    {
     "data": {
      "image/png": "[encoded data removed]",
      "text/plain": [
       "<Figure size 960x400 with 1 Axes>"
      ]
     },
     "metadata": {},
     "output_type": "display_data"
    }
   ],
   "source": [
    "(pfl[pfl['instrument_id'] == 'BTCUSDT'].pnl_quoted + \n",
    " pfl[pfl['instrument_id'] == 'SOLUSDT'].pnl_quoted).plot()\n",
    "# pfl[pfl['instrument_id'] == 'LINKUSDT'].pnl_quoted.plot()"
   ]
  },
  {
   "cell_type": "code",
   "execution_count": null,
   "metadata": {},
   "outputs": [],
   "source": []
  },
  {
   "cell_type": "code",
   "execution_count": null,
   "metadata": {},
   "outputs": [],
   "source": []
  }
 ],
 "metadata": {
  "kernelspec": {
   "display_name": ".venv",
   "language": "python",
   "name": "python3"
  },
  "language_info": {
   "codemirror_mode": {
    "name": "ipython",
    "version": 3
   },
   "file_extension": ".py",
   "mimetype": "text/x-python",
   "name": "python",
   "nbconvert_exporter": "python",
   "pygments_lexer": "ipython3",
   "version": "3.11.8"
  }
 },
 "nbformat": 4,
 "nbformat_minor": 2
}
