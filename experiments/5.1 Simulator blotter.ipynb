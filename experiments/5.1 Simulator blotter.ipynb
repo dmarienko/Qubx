{
 "cells": [
  {
   "cell_type": "code",
   "execution_count": 1,
   "metadata": {},
   "outputs": [
    {
     "name": "stdout",
     "output_type": "stream",
     "text": [
      " >  [\u001b[32mdev\u001b[0m] \u001b[31minstalling cython rebuilding hook\u001b[0m\n",
      "\n",
      "⠀⠀⡰⡖⠒⠒⢒⢦⠀⠀   \n",
      "⠀⢠⠃⠈⢆⣀⣎⣀⣱⡀  \u001b[31mQUBX\u001b[0m | \u001b[36mQuantitative Backtesting Environment\u001b[0m \n",
      "⠀⢳⠒⠒⡞⠚⡄⠀⡰⠁         (c) 2024, ver. \u001b[35mDev\u001b[0m\n",
      "⠀⠀⠱⣜⣀⣀⣈⣦⠃⠀⠀⠀ \n",
      "        \n",
      "\u001b[32m2024-07-12 18:42:17.820\u001b[0m [ \u001b[1mℹ️\u001b[0m ] \u001b[1mNTP offset controller thread is started\u001b[0m\n"
     ]
    },
    {
     "name": "stdout",
     "output_type": "stream",
     "text": [
      "\u001b[32m2024-07-13 01:05:23.336\u001b[0m [ \u001b[33m\u001b[1m⚠️\u001b[0m ] \u001b[36mqubx.utils.ntp\u001b[0m:\u001b[36m__correct_offset\u001b[0m:\u001b[36m28\u001b[0m - \u001b[33m\u001b[1mtime.windows.com NTP server request exception: [Errno 11001] getaddrinfo failed\u001b[0m\n",
      "\u001b[32m2024-07-13 01:05:23.345\u001b[0m [ \u001b[33m\u001b[1m⚠️\u001b[0m ] \u001b[36mqubx.utils.ntp\u001b[0m:\u001b[36m__correct_offset\u001b[0m:\u001b[36m28\u001b[0m - \u001b[33m\u001b[1mpool.ntp.org NTP server request exception: [Errno 11001] getaddrinfo failed\u001b[0m\n",
      "\u001b[32m2024-07-13 01:05:23.348\u001b[0m [ \u001b[33m\u001b[1m⚠️\u001b[0m ] \u001b[36mqubx.utils.ntp\u001b[0m:\u001b[36m__correct_offset\u001b[0m:\u001b[36m28\u001b[0m - \u001b[33m\u001b[1meurope.pool.ntp.org NTP server request exception: [Errno 11001] getaddrinfo failed\u001b[0m\n",
      "\u001b[32m2024-07-13 01:05:23.352\u001b[0m [ \u001b[33m\u001b[1m⚠️\u001b[0m ] \u001b[36mqubx.utils.ntp\u001b[0m:\u001b[36m__correct_offset\u001b[0m:\u001b[36m28\u001b[0m - \u001b[33m\u001b[1mtime.google.com NTP server request exception: [Errno 11001] getaddrinfo failed\u001b[0m\n",
      "\u001b[32m2024-07-13 01:05:23.352\u001b[0m [ \u001b[31m\u001b[1m❌\u001b[0m ] \u001b[31m\u001b[1mUnable to get ntp offset from neither of NTP servers list ['time.windows.com', 'pool.ntp.org', 'europe.pool.ntp.org', 'time.google.com']\u001b[0m\n",
      "\u001b[32m2024-07-13 05:52:58.449\u001b[0m [ \u001b[33m\u001b[1m⚠️\u001b[0m ] \u001b[36mqubx.utils.ntp\u001b[0m:\u001b[36m__correct_offset\u001b[0m:\u001b[36m28\u001b[0m - \u001b[33m\u001b[1mtime.windows.com NTP server request exception: [Errno 11001] getaddrinfo failed\u001b[0m\n",
      "\u001b[32m2024-07-13 05:52:58.488\u001b[0m [ \u001b[33m\u001b[1m⚠️\u001b[0m ] \u001b[36mqubx.utils.ntp\u001b[0m:\u001b[36m__correct_offset\u001b[0m:\u001b[36m28\u001b[0m - \u001b[33m\u001b[1mpool.ntp.org NTP server request exception: [Errno 11001] getaddrinfo failed\u001b[0m\n",
      "\u001b[32m2024-07-13 05:52:58.500\u001b[0m [ \u001b[33m\u001b[1m⚠️\u001b[0m ] \u001b[36mqubx.utils.ntp\u001b[0m:\u001b[36m__correct_offset\u001b[0m:\u001b[36m28\u001b[0m - \u001b[33m\u001b[1meurope.pool.ntp.org NTP server request exception: [Errno 11001] getaddrinfo failed\u001b[0m\n",
      "\u001b[32m2024-07-13 05:52:58.505\u001b[0m [ \u001b[33m\u001b[1m⚠️\u001b[0m ] \u001b[36mqubx.utils.ntp\u001b[0m:\u001b[36m__correct_offset\u001b[0m:\u001b[36m28\u001b[0m - \u001b[33m\u001b[1mtime.google.com NTP server request exception: [Errno 11001] getaddrinfo failed\u001b[0m\n",
      "\u001b[32m2024-07-13 05:52:58.506\u001b[0m [ \u001b[31m\u001b[1m❌\u001b[0m ] \u001b[31m\u001b[1mUnable to get ntp offset from neither of NTP servers list ['time.windows.com', 'pool.ntp.org', 'europe.pool.ntp.org', 'time.google.com']\u001b[0m\n",
      "\u001b[32m2024-07-13 12:33:44.869\u001b[0m [ \u001b[33m\u001b[1m⚠️\u001b[0m ] \u001b[36mqubx.utils.ntp\u001b[0m:\u001b[36m__correct_offset\u001b[0m:\u001b[36m28\u001b[0m - \u001b[33m\u001b[1mtime.windows.com NTP server request exception: [Errno 11001] getaddrinfo failed\u001b[0m\n",
      "\u001b[32m2024-07-13 12:33:44.873\u001b[0m [ \u001b[33m\u001b[1m⚠️\u001b[0m ] \u001b[36mqubx.utils.ntp\u001b[0m:\u001b[36m__correct_offset\u001b[0m:\u001b[36m28\u001b[0m - \u001b[33m\u001b[1mpool.ntp.org NTP server request exception: [Errno 11001] getaddrinfo failed\u001b[0m\n",
      "\u001b[32m2024-07-13 12:33:44.874\u001b[0m [ \u001b[33m\u001b[1m⚠️\u001b[0m ] \u001b[36mqubx.utils.ntp\u001b[0m:\u001b[36m__correct_offset\u001b[0m:\u001b[36m28\u001b[0m - \u001b[33m\u001b[1meurope.pool.ntp.org NTP server request exception: [Errno 11001] getaddrinfo failed\u001b[0m\n",
      "\u001b[32m2024-07-13 12:33:44.876\u001b[0m [ \u001b[33m\u001b[1m⚠️\u001b[0m ] \u001b[36mqubx.utils.ntp\u001b[0m:\u001b[36m__correct_offset\u001b[0m:\u001b[36m28\u001b[0m - \u001b[33m\u001b[1mtime.google.com NTP server request exception: [Errno 11001] getaddrinfo failed\u001b[0m\n",
      "\u001b[32m2024-07-13 12:33:44.877\u001b[0m [ \u001b[31m\u001b[1m❌\u001b[0m ] \u001b[31m\u001b[1mUnable to get ntp offset from neither of NTP servers list ['time.windows.com', 'pool.ntp.org', 'europe.pool.ntp.org', 'time.google.com']\u001b[0m\n"
     ]
    }
   ],
   "source": [
    "import sys, os, re; sys.path = ([\"../src/\", \"../\"] if re.match(r'^(\\w\\:\\\\)|(/)', os.getcwd()) else [])+ sys.path \n",
    "\n",
    "from typing import Any, Optional, List\n",
    "\n",
    "import qubx\n",
    "%qubxd dev \n",
    "\n",
    "%load_ext autoreload\n",
    "%autoreload 2\n",
    "import asyncio\n",
    "\n",
    "from qubx import lookup, logger\n",
    "from qubx.core.strategy import IStrategy, StrategyContext, TriggerEvent\n",
    "from qubx.pandaz.utils import *\n",
    "\n",
    "# - - - - - - - - - - - - - - - - - - - - - - - -\n",
    "from qubx.trackers import PortfolioRebalancerTracker\n",
    "from qubx.core.series import Quote\n",
    "from qubx.data.readers import CsvStorageDataReader, MultiQdbConnector, AsTimestampedRecords, AsQuotes, RestoreTicksFromOHLC\n",
    "from qubx.core.basics import Deal, Instrument, Order, Position, Signal\n",
    "from qubx.core.utils import recognize_time\n",
    "\n",
    "from qubx.impl.ccxt_connector import CCXTDataConnector\n",
    "from qubx.impl.ccxt_trading import CCXTSyncTradingConnector\n",
    "from qubx.utils.runner import get_account_config\n",
    "\n",
    "def Q(time: str, bid: float, ask: float) -> Quote:\n",
    "    return Quote(recognize_time(time), bid, ask, 0, 0)"
   ]
  },
  {
   "cell_type": "code",
   "execution_count": 2,
   "metadata": {},
   "outputs": [],
   "source": [
    "class TestStrategy(IStrategy):\n",
    "    capital_invested: int = 1000\n",
    "\n",
    "    def on_start(self, ctx: StrategyContext):\n",
    "        logger.info(f\" -> Strategy started | {ctx.time()}\")\n",
    "\n",
    "    def on_fit(self, ctx: 'StrategyContext', fit_time: str | pd.Timestamp, previous_fit_time: str | pd.Timestamp | None = None):\n",
    "        logger.info(f\" -> Fit is called | fit_time: {fit_time} / prev: {previous_fit_time}\")\n",
    "\n",
    "    def on_event(self, ctx: StrategyContext, event: TriggerEvent) -> List[Signal] | None:\n",
    "        logger.info(f\" ||||| {event.time} -> {event} |||||\")\n",
    "        return None\n",
    "\n",
    "    def ohlcs(self, timeframe:str) -> Dict[str, pd.DataFrame]:\n",
    "        return {s.symbol: self.ctx.ohlc(s, timeframe).pd() for s in self.ctx.instruments}\n",
    "\n",
    "    def on_stop(self, ctx: StrategyContext):\n",
    "        logger.info(f\" -> strategy is stopped\")\n",
    "\n",
    "    def tracker(self, ctx: StrategyContext) -> PortfolioRebalancerTracker:\n",
    "        return PortfolioRebalancerTracker(ctx, 1000, 0)"
   ]
  },
  {
   "cell_type": "markdown",
   "metadata": {},
   "source": [
    "# Simulated broker and paper trading"
   ]
  },
  {
   "cell_type": "code",
   "execution_count": 3,
   "metadata": {},
   "outputs": [],
   "source": [
    "from qubx.backtester.simulator import SimulatedExchangeService"
   ]
  },
  {
   "cell_type": "code",
   "execution_count": 4,
   "metadata": {},
   "outputs": [
    {
     "name": "stdout",
     "output_type": "stream",
     "text": [
      "\u001b[32m2024-07-12 18:42:21.182\u001b[0m [ \u001b[1mℹ️\u001b[0m ] \u001b[1mbinance initialized - current time 1970-01-01T00:00:00.000000000\u001b[0m\n",
      "\u001b[32m2024-07-12 18:42:21.183\u001b[0m [ \u001b[33m\u001b[1m⚠️\u001b[0m ] \u001b[36mqubx.core.loggers\u001b[0m:\u001b[36m__init__\u001b[0m:\u001b[36m324\u001b[0m - \u001b[33m\u001b[1mLog writer is not defined - strategy activity will not be saved !\u001b[0m\n",
      "\u001b[32m2024-07-12 18:42:21.184\u001b[0m [ \u001b[1mℹ️\u001b[0m ] \u001b[1m(StrategyContext) set strategy parameters:\n",
      "\tset \u001b[32mcapital_invested\u001b[0m\u001b[1m <- \u001b[31m100\u001b[0m\u001b[1m\u001b[0m\n",
      "\u001b[32m2024-07-12 18:42:21.185\u001b[0m [ \u001b[34m\u001b[1m🐞\u001b[0m ] \u001b[34m\u001b[1mTriggering strategy on every 1Min bar after 55S\u001b[0m\n",
      "\u001b[32m2024-07-12 18:42:21.183\u001b[0m [ \u001b[33m\u001b[1m⚠️\u001b[0m ] \u001b[36mqubx.core.loggers\u001b[0m:\u001b[36m__init__\u001b[0m:\u001b[36m324\u001b[0m - \u001b[33m\u001b[1mLog writer is not defined - strategy activity will not be saved !\u001b[0m\n",
      "\u001b[32m2024-07-12 18:42:21.184\u001b[0m [ \u001b[1mℹ️\u001b[0m ] \u001b[1m(StrategyContext) set strategy parameters:\n",
      "\tset \u001b[32mcapital_invested\u001b[0m\u001b[1m <- \u001b[31m100\u001b[0m\u001b[1m\u001b[0m\n",
      "\u001b[32m2024-07-12 18:42:21.185\u001b[0m [ \u001b[34m\u001b[1m🐞\u001b[0m ] \u001b[34m\u001b[1mTriggering strategy on every 1Min bar after 55S\u001b[0m\n"
     ]
    }
   ],
   "source": [
    "auth = get_account_config('binance-qbx', './configs/.env')\n",
    "\n",
    "sbroker = SimulatedExchangeService('binance', 10000, 'vip0_usdt', 'USDT')\n",
    "data = CCXTDataConnector('binance', sbroker, **auth)\n",
    "\n",
    "instruments = [lookup.find_symbol('BINANCE', 'BTCUSDT')]\n",
    "ctx = StrategyContext(\n",
    "    TestStrategy(), dict(\n",
    "        capital_invested=100,\n",
    "        trading_allowed=False\n",
    "    ), \n",
    "    data, sbroker, instruments=instruments,  # type: ignore\n",
    "    md_subscription=dict(type='ohlc', timeframe='1Min', nback=0),\n",
    "    trigger_spec='1Min -5Sec',\n",
    ")\n",
    "S = ctx.strategy"
   ]
  },
  {
   "cell_type": "code",
   "execution_count": null,
   "metadata": {},
   "outputs": [
    {
     "name": "stdout",
     "output_type": "stream",
     "text": [
      "\u001b[32m2024-07-12 18:42:22.955\u001b[0m [ \u001b[1mℹ️\u001b[0m ] \u001b[1m(StrategyContext) Subscribing to ohlc updates using {'timeframe': '1Min', 'nback': 0} for \n",
      "\t['BTCUSDT'] \u001b[0m\n",
      "\u001b[32m2024-07-12 18:42:22.957\u001b[0m [ \u001b[1mℹ️\u001b[0m ] \u001b[1mSubscribed on ohlc updates for 1 symbols: \n",
      "\t\t['BTCUSDT']\u001b[0m\n",
      "\u001b[32m2024-07-12 18:42:22.958\u001b[0m [ \u001b[1mℹ️\u001b[0m ] \u001b[1m -> Strategy started | 1970-01-01T00:00:00.000000000\u001b[0m\n",
      "\u001b[32m2024-07-12 18:42:22.960\u001b[0m [ \u001b[1mℹ️\u001b[0m ] \u001b[1m(StrategyContext) Start processing market data\u001b[0m\n",
      "\u001b[32m2024-07-12 18:42:22.960\u001b[0m [ \u001b[1mℹ️\u001b[0m ] \u001b[1m(StrategyContext) strategy is started\u001b[0m\n"
     ]
    },
    {
     "name": "stdout",
     "output_type": "stream",
     "text": [
      "\u001b[32m2024-07-12 18:42:31.634\u001b[0m [ \u001b[34m\u001b[1m🐞\u001b[0m ] \u001b[34m\u001b[1m[2024-07-12T15:42:31.637422592]: Invoking TestStrategy on_fit('1970-01-01 00:00:00', 'None')\u001b[0m\n",
      "\u001b[32m2024-07-12 18:42:31.634\u001b[0m [ \u001b[1mℹ️\u001b[0m ] \u001b[1m -> Fit is called | fit_time: 1970-01-01 00:00:00 / prev: None\u001b[0m\n",
      "\u001b[32m2024-07-12 18:42:31.634\u001b[0m [ \u001b[34m\u001b[1m🐞\u001b[0m ] \u001b[34m\u001b[1m[2024-07-12T15:42:31.637422592]: TestStrategy is fitted\u001b[0m\n",
      "\u001b[32m2024-07-12 18:42:41.175\u001b[0m [ \u001b[34m\u001b[1m🐞\u001b[0m ] \u001b[34m\u001b[1m[SIM-ORDER-BTCUSDT-100001 / TestStrategy_BTCUSDT_1] : MARKET BUY 0.1 of BTCUSDT  -> [CLOSED]\u001b[0m\n",
      "\u001b[32m2024-07-12 18:42:41.175\u001b[0m [ \u001b[34m\u001b[1m🐞\u001b[0m ] \u001b[34m\u001b[1mExecuted 0.1 @ 58004.024999999994 of BTCUSDT for order SIM-ORDER-BTCUSDT-100001\u001b[0m\n",
      "\u001b[32m2024-07-12 18:42:55.637\u001b[0m [ \u001b[1mℹ️\u001b[0m ] \u001b[1m ||||| 2024-07-12T15:42:55.603171328 -> TriggerEvent(time=numpy.datetime64('2024-07-12T15:42:55.603171328'), type='bar', instrument=Instrument(symbol='BTCUSDT', market_type='CRYPTO', exchange='BINANCE', base='BTC', quote='USDT', margin_symbol=None, min_tick=0.01, min_size_step=1e-05, min_size=1e-05, futures_info=None, _aux_instrument=None), data={o:57982.010000 | h:58024.000000 | l:57972.000000 | c:58005.990000 | v:683267.703702}) |||||\u001b[0m\n",
      "\u001b[32m2024-07-12 18:42:59.044\u001b[0m [ \u001b[34m\u001b[1m🐞\u001b[0m ] \u001b[34m\u001b[1m[SIM-ORDER-BTCUSDT-100002 / TestStrategy_BTCUSDT_2] : MARKET SELL 0.1 of BTCUSDT  -> [CLOSED]\u001b[0m\n",
      "\u001b[32m2024-07-12 18:42:59.045\u001b[0m [ \u001b[34m\u001b[1m🐞\u001b[0m ] \u001b[34m\u001b[1mExecuted -0.1 @ 58005.985 of BTCUSDT for order SIM-ORDER-BTCUSDT-100002\u001b[0m\n",
      "\u001b[32m2024-07-12 18:43:56.094\u001b[0m [ \u001b[1mℹ️\u001b[0m ] \u001b[1m ||||| 2024-07-12T15:43:56.313164544 -> TriggerEvent(time=numpy.datetime64('2024-07-12T15:43:56.313164544'), type='bar', instrument=Instrument(symbol='BTCUSDT', market_type='CRYPTO', exchange='BINANCE', base='BTC', quote='USDT', margin_symbol=None, min_tick=0.01, min_size_step=1e-05, min_size=1e-05, futures_info=None, _aux_instrument=None), data={o:58005.990000 | h:58008.000000 | l:57980.000000 | c:57987.990000 | v:457319.644122}) |||||\u001b[0m\n",
      "\u001b[32m2024-07-12 18:44:56.404\u001b[0m [ \u001b[1mℹ️\u001b[0m ] \u001b[1m ||||| 2024-07-12T15:44:56.719960064 -> TriggerEvent(time=numpy.datetime64('2024-07-12T15:44:56.719960064'), type='bar', instrument=Instrument(symbol='BTCUSDT', market_type='CRYPTO', exchange='BINANCE', base='BTC', quote='USDT', margin_symbol=None, min_tick=0.01, min_size_step=1e-05, min_size=1e-05, futures_info=None, _aux_instrument=None), data={o:57987.990000 | h:58001.880000 | l:57980.000000 | c:57997.410000 | v:428702.429875}) |||||\u001b[0m\n",
      "\u001b[32m2024-07-12 18:45:56.226\u001b[0m [ \u001b[1mℹ️\u001b[0m ] \u001b[1m ||||| 2024-07-12T15:45:56.239944704 -> TriggerEvent(time=numpy.datetime64('2024-07-12T15:45:56.239944704'), type='bar', instrument=Instrument(symbol='BTCUSDT', market_type='CRYPTO', exchange='BINANCE', base='BTC', quote='USDT', margin_symbol=None, min_tick=0.01, min_size_step=1e-05, min_size=1e-05, futures_info=None, _aux_instrument=None), data={o:57997.410000 | h:58005.440000 | l:57920.000000 | c:57935.990000 | v:940593.104574}) |||||\u001b[0m\n",
      "\u001b[32m2024-07-12 18:46:56.096\u001b[0m [ \u001b[1mℹ️\u001b[0m ] \u001b[1m ||||| 2024-07-12T15:46:56.089571584 -> TriggerEvent(time=numpy.datetime64('2024-07-12T15:46:56.089571584'), type='bar', instrument=Instrument(symbol='BTCUSDT', market_type='CRYPTO', exchange='BINANCE', base='BTC', quote='USDT', margin_symbol=None, min_tick=0.01, min_size_step=1e-05, min_size=1e-05, futures_info=None, _aux_instrument=None), data={o:57948.010000 | h:58014.130000 | l:57944.850000 | c:57994.200000 | v:1362610.909698}) |||||\u001b[0m\n",
      "\u001b[32m2024-07-12 18:47:55.131\u001b[0m [ \u001b[1mℹ️\u001b[0m ] \u001b[1m ||||| 2024-07-12T15:47:55.136878592 -> TriggerEvent(time=numpy.datetime64('2024-07-12T15:47:55.136878592'), type='bar', instrument=Instrument(symbol='BTCUSDT', market_type='CRYPTO', exchange='BINANCE', base='BTC', quote='USDT', margin_symbol=None, min_tick=0.01, min_size_step=1e-05, min_size=1e-05, futures_info=None, _aux_instrument=None), data={o:58018.060000 | h:58018.070000 | l:57979.990000 | c:58007.990000 | v:871277.059420}) |||||\u001b[0m\n",
      "\u001b[32m2024-07-12 18:48:56.600\u001b[0m [ \u001b[1mℹ️\u001b[0m ] \u001b[1m ||||| 2024-07-12T15:48:56.739033600 -> TriggerEvent(time=numpy.datetime64('2024-07-12T15:48:56.739033600'), type='bar', instrument=Instrument(symbol='BTCUSDT', market_type='CRYPTO', exchange='BINANCE', base='BTC', quote='USDT', margin_symbol=None, min_tick=0.01, min_size_step=1e-05, min_size=1e-05, futures_info=None, _aux_instrument=None), data={o:58010.000000 | h:58074.530000 | l:58009.990000 | c:58066.940000 | v:1710683.275682}) |||||\u001b[0m\n",
      "\u001b[32m2024-07-12 18:49:56.174\u001b[0m [ \u001b[1mℹ️\u001b[0m ] \u001b[1m ||||| 2024-07-12T15:49:56.328092928 -> TriggerEvent(time=numpy.datetime64('2024-07-12T15:49:56.328092928'), type='bar', instrument=Instrument(symbol='BTCUSDT', market_type='CRYPTO', exchange='BINANCE', base='BTC', quote='USDT', margin_symbol=None, min_tick=0.01, min_size_step=1e-05, min_size=1e-05, futures_info=None, _aux_instrument=None), data={o:58066.940000 | h:58066.940000 | l:58030.000000 | c:58047.990000 | v:671102.935125}) |||||\u001b[0m\n",
      "\u001b[32m2024-07-12 18:50:54.775\u001b[0m [ \u001b[1mℹ️\u001b[0m ] \u001b[1m ||||| 2024-07-12T15:50:55.076014592 -> TriggerEvent(time=numpy.datetime64('2024-07-12T15:50:55.076014592'), type='bar', instrument=Instrument(symbol='BTCUSDT', market_type='CRYPTO', exchange='BINANCE', base='BTC', quote='USDT', margin_symbol=None, min_tick=0.01, min_size_step=1e-05, min_size=1e-05, futures_info=None, _aux_instrument=None), data={o:58053.990000 | h:58058.000000 | l:58030.570000 | c:58058.000000 | v:311384.695480}) |||||\u001b[0m\n",
      "\u001b[32m2024-07-13 01:05:23.191\u001b[0m [ \u001b[31m\u001b[1m❌\u001b[0m ] \u001b[31m\u001b[1m(CCXTDataConnector) NetworkError in _listen_to_ohlcv : Connection to wss://stream.binance.com:9443/ws/0 timed out due to a ping-pong keepalive missing on time\u001b[0m\n",
      "\u001b[32m2024-07-13 01:05:23.207\u001b[0m [ \u001b[31m\u001b[1m❌\u001b[0m ] \u001b[31m\u001b[1m(CCXTDataConnector) NetworkError in _listen_to_execution_reports : Connection to wss://stream.binance.com:9443/ws/eV8iqa3mhoeM15R7Jv7jTcXnuoQnZoPg9qLzo0PNv6EyqagRHBepnbNKecWS timed out due to a ping-pong keepalive missing on time\u001b[0m\n",
      "\u001b[32m2024-07-13 01:05:24.216\u001b[0m [ \u001b[31m\u001b[1m❌\u001b[0m ] \u001b[31m\u001b[1m(CCXTDataConnector) NetworkError in _listen_to_ohlcv : Cannot connect to host stream.binance.com:9443 ssl:default [getaddrinfo failed]\u001b[0m\n",
      "\u001b[32m2024-07-13 01:05:24.231\u001b[0m [ \u001b[31m\u001b[1m❌\u001b[0m ] \u001b[31m\u001b[1m(CCXTDataConnector) NetworkError in _listen_to_execution_reports : binance POST https://api.binance.com/api/v3/userDataStream\u001b[0m\n",
      "\u001b[32m2024-07-13 05:52:58.446\u001b[0m [ \u001b[31m\u001b[1m❌\u001b[0m ] \u001b[31m\u001b[1m(CCXTDataConnector) NetworkError in _listen_to_execution_reports : binance POST https://api.binance.com/api/v3/userDataStream\u001b[0m\n",
      "\u001b[32m2024-07-13 05:52:58.446\u001b[0m [ \u001b[31m\u001b[1m❌\u001b[0m ] \u001b[31m\u001b[1m(CCXTDataConnector) NetworkError in _listen_to_ohlcv : Cannot connect to host stream.binance.com:9443 ssl:default [getaddrinfo failed]\u001b[0m\n",
      "\u001b[32m2024-07-13 05:52:59.460\u001b[0m [ \u001b[31m\u001b[1m❌\u001b[0m ] \u001b[31m\u001b[1m(CCXTDataConnector) NetworkError in _listen_to_ohlcv : Cannot connect to host stream.binance.com:9443 ssl:default [getaddrinfo failed]\u001b[0m\n",
      "\u001b[32m2024-07-13 05:52:59.492\u001b[0m [ \u001b[31m\u001b[1m❌\u001b[0m ] \u001b[31m\u001b[1m(CCXTDataConnector) NetworkError in _listen_to_execution_reports : binance POST https://api.binance.com/api/v3/userDataStream\u001b[0m\n",
      "\u001b[32m2024-07-13 05:53:01.735\u001b[0m [ \u001b[31m\u001b[1m❌\u001b[0m ] \u001b[31m\u001b[1m(CCXTDataConnector) NetworkError in _listen_to_ohlcv : Cannot connect to host stream.binance.com:9443 ssl:default [getaddrinfo failed]\u001b[0m\n",
      "\u001b[32m2024-07-13 05:53:01.749\u001b[0m [ \u001b[31m\u001b[1m❌\u001b[0m ] \u001b[31m\u001b[1m(CCXTDataConnector) NetworkError in _listen_to_execution_reports : binance POST https://api.binance.com/api/v3/userDataStream\u001b[0m\n",
      "\u001b[32m2024-07-13 12:33:37.749\u001b[0m [ \u001b[31m\u001b[1m❌\u001b[0m ] \u001b[31m\u001b[1m(CCXTDataConnector) NetworkError in _listen_to_ohlcv : Cannot connect to host stream.binance.com:9443 ssl:default [getaddrinfo failed]\u001b[0m\n",
      "\u001b[32m2024-07-13 12:33:37.769\u001b[0m [ \u001b[31m\u001b[1m❌\u001b[0m ] \u001b[31m\u001b[1m(CCXTDataConnector) NetworkError in _listen_to_execution_reports : binance POST https://api.binance.com/api/v3/userDataStream\u001b[0m\n",
      "\u001b[32m2024-07-13 12:33:38.766\u001b[0m [ \u001b[31m\u001b[1m❌\u001b[0m ] \u001b[31m\u001b[1m(CCXTDataConnector) NetworkError in _listen_to_ohlcv : Cannot connect to host stream.binance.com:9443 ssl:default [getaddrinfo failed]\u001b[0m\n",
      "\u001b[32m2024-07-13 12:33:38.779\u001b[0m [ \u001b[31m\u001b[1m❌\u001b[0m ] \u001b[31m\u001b[1m(CCXTDataConnector) NetworkError in _listen_to_execution_reports : binance POST https://api.binance.com/api/v3/userDataStream\u001b[0m\n",
      "\u001b[32m2024-07-13 12:33:39.763\u001b[0m [ \u001b[31m\u001b[1m❌\u001b[0m ] \u001b[31m\u001b[1m(CCXTDataConnector) NetworkError in _listen_to_ohlcv : Cannot connect to host stream.binance.com:9443 ssl:default [getaddrinfo failed]\u001b[0m\n",
      "\u001b[32m2024-07-13 12:33:39.812\u001b[0m [ \u001b[31m\u001b[1m❌\u001b[0m ] \u001b[31m\u001b[1m(CCXTDataConnector) NetworkError in _listen_to_execution_reports : binance POST https://api.binance.com/api/v3/userDataStream\u001b[0m\n",
      "\u001b[32m2024-07-13 12:33:40.780\u001b[0m [ \u001b[31m\u001b[1m❌\u001b[0m ] \u001b[31m\u001b[1m(CCXTDataConnector) NetworkError in _listen_to_ohlcv : Cannot connect to host stream.binance.com:9443 ssl:default [getaddrinfo failed]\u001b[0m\n",
      "\u001b[32m2024-07-13 12:33:40.843\u001b[0m [ \u001b[31m\u001b[1m❌\u001b[0m ] \u001b[31m\u001b[1m(CCXTDataConnector) NetworkError in _listen_to_execution_reports : binance POST https://api.binance.com/api/v3/userDataStream\u001b[0m\n",
      "\u001b[32m2024-07-13 12:33:41.780\u001b[0m [ \u001b[31m\u001b[1m❌\u001b[0m ] \u001b[31m\u001b[1m(CCXTDataConnector) NetworkError in _listen_to_ohlcv : Cannot connect to host stream.binance.com:9443 ssl:default [getaddrinfo failed]\u001b[0m\n",
      "\u001b[32m2024-07-13 12:33:41.861\u001b[0m [ \u001b[31m\u001b[1m❌\u001b[0m ] \u001b[31m\u001b[1m(CCXTDataConnector) NetworkError in _listen_to_execution_reports : binance POST https://api.binance.com/api/v3/userDataStream\u001b[0m\n",
      "\u001b[32m2024-07-13 12:33:42.793\u001b[0m [ \u001b[31m\u001b[1m❌\u001b[0m ] \u001b[31m\u001b[1m(CCXTDataConnector) NetworkError in _listen_to_ohlcv : Cannot connect to host stream.binance.com:9443 ssl:default [getaddrinfo failed]\u001b[0m\n",
      "\u001b[32m2024-07-13 12:33:42.880\u001b[0m [ \u001b[31m\u001b[1m❌\u001b[0m ] \u001b[31m\u001b[1m(CCXTDataConnector) NetworkError in _listen_to_execution_reports : binance POST https://api.binance.com/api/v3/userDataStream\u001b[0m\n",
      "\u001b[32m2024-07-13 12:33:43.794\u001b[0m [ \u001b[31m\u001b[1m❌\u001b[0m ] \u001b[31m\u001b[1m(CCXTDataConnector) NetworkError in _listen_to_ohlcv : Cannot connect to host stream.binance.com:9443 ssl:default [getaddrinfo failed]\u001b[0m\n",
      "\u001b[32m2024-07-13 12:33:43.916\u001b[0m [ \u001b[31m\u001b[1m❌\u001b[0m ] \u001b[31m\u001b[1m(CCXTDataConnector) NetworkError in _listen_to_execution_reports : binance POST https://api.binance.com/api/v3/userDataStream\u001b[0m\n",
      "\u001b[32m2024-07-13 12:33:44.793\u001b[0m [ \u001b[31m\u001b[1m❌\u001b[0m ] \u001b[31m\u001b[1m(CCXTDataConnector) NetworkError in _listen_to_ohlcv : Cannot connect to host stream.binance.com:9443 ssl:default [getaddrinfo failed]\u001b[0m\n",
      "\u001b[32m2024-07-13 12:33:44.965\u001b[0m [ \u001b[31m\u001b[1m❌\u001b[0m ] \u001b[31m\u001b[1m(CCXTDataConnector) NetworkError in _listen_to_execution_reports : binance POST https://api.binance.com/api/v3/userDataStream\u001b[0m\n",
      "\u001b[32m2024-07-13 12:33:45.796\u001b[0m [ \u001b[31m\u001b[1m❌\u001b[0m ] \u001b[31m\u001b[1m(CCXTDataConnector) NetworkError in _listen_to_ohlcv : Cannot connect to host stream.binance.com:9443 ssl:default [getaddrinfo failed]\u001b[0m\n",
      "\u001b[32m2024-07-13 12:33:46.000\u001b[0m [ \u001b[31m\u001b[1m❌\u001b[0m ] \u001b[31m\u001b[1m(CCXTDataConnector) NetworkError in _listen_to_execution_reports : binance POST https://api.binance.com/api/v3/userDataStream\u001b[0m\n",
      "\u001b[32m2024-07-13 12:33:46.800\u001b[0m [ \u001b[31m\u001b[1m❌\u001b[0m ] \u001b[31m\u001b[1m(CCXTDataConnector) NetworkError in _listen_to_ohlcv : Cannot connect to host stream.binance.com:9443 ssl:default [getaddrinfo failed]\u001b[0m\n",
      "\u001b[32m2024-07-13 12:33:47.035\u001b[0m [ \u001b[31m\u001b[1m❌\u001b[0m ] \u001b[31m\u001b[1m(CCXTDataConnector) NetworkError in _listen_to_execution_reports : binance POST https://api.binance.com/api/v3/userDataStream\u001b[0m\n",
      "\u001b[32m2024-07-13 12:33:47.817\u001b[0m [ \u001b[31m\u001b[1m❌\u001b[0m ] \u001b[31m\u001b[1m(CCXTDataConnector) NetworkError in _listen_to_ohlcv : Cannot connect to host stream.binance.com:9443 ssl:default [getaddrinfo failed]\u001b[0m\n",
      "\u001b[32m2024-07-13 12:33:48.084\u001b[0m [ \u001b[31m\u001b[1m❌\u001b[0m ] \u001b[31m\u001b[1m(CCXTDataConnector) NetworkError in _listen_to_execution_reports : binance POST https://api.binance.com/api/v3/userDataStream\u001b[0m\n",
      "\u001b[32m2024-07-13 12:33:48.819\u001b[0m [ \u001b[31m\u001b[1m❌\u001b[0m ] \u001b[31m\u001b[1m(CCXTDataConnector) NetworkError in _listen_to_ohlcv : Cannot connect to host stream.binance.com:9443 ssl:default [getaddrinfo failed]\u001b[0m\n",
      "\u001b[32m2024-07-13 12:33:49.118\u001b[0m [ \u001b[31m\u001b[1m❌\u001b[0m ] \u001b[31m\u001b[1m(CCXTDataConnector) NetworkError in _listen_to_execution_reports : binance POST https://api.binance.com/api/v3/userDataStream\u001b[0m\n",
      "\u001b[32m2024-07-13 12:33:49.835\u001b[0m [ \u001b[31m\u001b[1m❌\u001b[0m ] \u001b[31m\u001b[1m(CCXTDataConnector) NetworkError in _listen_to_ohlcv : Cannot connect to host stream.binance.com:9443 ssl:default [getaddrinfo failed]\u001b[0m\n",
      "\u001b[32m2024-07-13 12:33:50.136\u001b[0m [ \u001b[31m\u001b[1m❌\u001b[0m ] \u001b[31m\u001b[1m(CCXTDataConnector) NetworkError in _listen_to_execution_reports : binance POST https://api.binance.com/api/v3/userDataStream\u001b[0m\n",
      "\u001b[32m2024-07-13 12:33:50.854\u001b[0m [ \u001b[31m\u001b[1m❌\u001b[0m ] \u001b[31m\u001b[1m(CCXTDataConnector) NetworkError in _listen_to_ohlcv : Cannot connect to host stream.binance.com:9443 ssl:default [getaddrinfo failed]\u001b[0m\n",
      "\u001b[32m2024-07-13 12:33:51.154\u001b[0m [ \u001b[31m\u001b[1m❌\u001b[0m ] \u001b[31m\u001b[1m(CCXTDataConnector) NetworkError in _listen_to_execution_reports : binance POST https://api.binance.com/api/v3/userDataStream\u001b[0m\n",
      "\u001b[32m2024-07-13 12:33:51.854\u001b[0m [ \u001b[31m\u001b[1m❌\u001b[0m ] \u001b[31m\u001b[1m(CCXTDataConnector) NetworkError in _listen_to_ohlcv : Cannot connect to host stream.binance.com:9443 ssl:default [getaddrinfo failed]\u001b[0m\n",
      "\u001b[32m2024-07-13 12:33:52.185\u001b[0m [ \u001b[31m\u001b[1m❌\u001b[0m ] \u001b[31m\u001b[1m(CCXTDataConnector) NetworkError in _listen_to_execution_reports : binance POST https://api.binance.com/api/v3/userDataStream\u001b[0m\n",
      "\u001b[32m2024-07-13 12:33:52.865\u001b[0m [ \u001b[31m\u001b[1m❌\u001b[0m ] \u001b[31m\u001b[1m(CCXTDataConnector) NetworkError in _listen_to_ohlcv : Cannot connect to host stream.binance.com:9443 ssl:default [getaddrinfo failed]\u001b[0m\n",
      "\u001b[32m2024-07-13 12:33:53.218\u001b[0m [ \u001b[31m\u001b[1m❌\u001b[0m ] \u001b[31m\u001b[1m(CCXTDataConnector) NetworkError in _listen_to_execution_reports : binance POST https://api.binance.com/api/v3/userDataStream\u001b[0m\n",
      "\u001b[32m2024-07-13 12:33:53.868\u001b[0m [ \u001b[31m\u001b[1m❌\u001b[0m ] \u001b[31m\u001b[1m(CCXTDataConnector) NetworkError in _listen_to_ohlcv : Cannot connect to host stream.binance.com:9443 ssl:default [getaddrinfo failed]\u001b[0m\n",
      "\u001b[32m2024-07-13 12:33:54.234\u001b[0m [ \u001b[31m\u001b[1m❌\u001b[0m ] \u001b[31m\u001b[1m(CCXTDataConnector) NetworkError in _listen_to_execution_reports : binance POST https://api.binance.com/api/v3/userDataStream\u001b[0m\n",
      "\u001b[32m2024-07-13 12:33:54.887\u001b[0m [ \u001b[31m\u001b[1m❌\u001b[0m ] \u001b[31m\u001b[1m(CCXTDataConnector) NetworkError in _listen_to_ohlcv : Cannot connect to host stream.binance.com:9443 ssl:default [getaddrinfo failed]\u001b[0m\n",
      "\u001b[32m2024-07-13 12:33:55.251\u001b[0m [ \u001b[31m\u001b[1m❌\u001b[0m ] \u001b[31m\u001b[1m(CCXTDataConnector) NetworkError in _listen_to_execution_reports : binance POST https://api.binance.com/api/v3/userDataStream\u001b[0m\n",
      "\u001b[32m2024-07-13 12:33:55.888\u001b[0m [ \u001b[31m\u001b[1m❌\u001b[0m ] \u001b[31m\u001b[1m(CCXTDataConnector) NetworkError in _listen_to_ohlcv : Cannot connect to host stream.binance.com:9443 ssl:default [getaddrinfo failed]\u001b[0m\n",
      "\u001b[32m2024-07-13 12:33:56.285\u001b[0m [ \u001b[31m\u001b[1m❌\u001b[0m ] \u001b[31m\u001b[1m(CCXTDataConnector) NetworkError in _listen_to_execution_reports : binance POST https://api.binance.com/api/v3/userDataStream\u001b[0m\n",
      "\u001b[32m2024-07-13 12:33:56.906\u001b[0m [ \u001b[31m\u001b[1m❌\u001b[0m ] \u001b[31m\u001b[1m(CCXTDataConnector) NetworkError in _listen_to_ohlcv : Cannot connect to host stream.binance.com:9443 ssl:default [getaddrinfo failed]\u001b[0m\n",
      "\u001b[32m2024-07-13 12:33:57.303\u001b[0m [ \u001b[31m\u001b[1m❌\u001b[0m ] \u001b[31m\u001b[1m(CCXTDataConnector) NetworkError in _listen_to_execution_reports : binance POST https://api.binance.com/api/v3/userDataStream\u001b[0m\n",
      "\u001b[32m2024-07-13 12:33:57.908\u001b[0m [ \u001b[31m\u001b[1m❌\u001b[0m ] \u001b[31m\u001b[1m(CCXTDataConnector) NetworkError in _listen_to_ohlcv : Cannot connect to host stream.binance.com:9443 ssl:default [getaddrinfo failed]\u001b[0m\n",
      "\u001b[32m2024-07-13 12:33:58.335\u001b[0m [ \u001b[31m\u001b[1m❌\u001b[0m ] \u001b[31m\u001b[1m(CCXTDataConnector) NetworkError in _listen_to_execution_reports : binance POST https://api.binance.com/api/v3/userDataStream\u001b[0m\n",
      "\u001b[32m2024-07-13 12:33:58.912\u001b[0m [ \u001b[31m\u001b[1m❌\u001b[0m ] \u001b[31m\u001b[1m(CCXTDataConnector) NetworkError in _listen_to_ohlcv : Cannot connect to host stream.binance.com:9443 ssl:default [getaddrinfo failed]\u001b[0m\n",
      "\u001b[32m2024-07-13 12:33:59.370\u001b[0m [ \u001b[31m\u001b[1m❌\u001b[0m ] \u001b[31m\u001b[1m(CCXTDataConnector) NetworkError in _listen_to_execution_reports : binance POST https://api.binance.com/api/v3/userDataStream\u001b[0m\n",
      "\u001b[32m2024-07-13 12:33:59.914\u001b[0m [ \u001b[31m\u001b[1m❌\u001b[0m ] \u001b[31m\u001b[1m(CCXTDataConnector) NetworkError in _listen_to_ohlcv : Cannot connect to host stream.binance.com:9443 ssl:default [getaddrinfo failed]\u001b[0m\n",
      "\u001b[32m2024-07-13 12:34:00.401\u001b[0m [ \u001b[31m\u001b[1m❌\u001b[0m ] \u001b[31m\u001b[1m(CCXTDataConnector) NetworkError in _listen_to_execution_reports : binance POST https://api.binance.com/api/v3/userDataStream\u001b[0m\n",
      "\u001b[32m2024-07-13 12:34:00.931\u001b[0m [ \u001b[31m\u001b[1m❌\u001b[0m ] \u001b[31m\u001b[1m(CCXTDataConnector) NetworkError in _listen_to_ohlcv : Cannot connect to host stream.binance.com:9443 ssl:default [getaddrinfo failed]\u001b[0m\n",
      "\u001b[32m2024-07-13 12:34:01.433\u001b[0m [ \u001b[31m\u001b[1m❌\u001b[0m ] \u001b[31m\u001b[1m(CCXTDataConnector) NetworkError in _listen_to_execution_reports : binance POST https://api.binance.com/api/v3/userDataStream\u001b[0m\n",
      "\u001b[32m2024-07-13 12:34:01.935\u001b[0m [ \u001b[31m\u001b[1m❌\u001b[0m ] \u001b[31m\u001b[1m(CCXTDataConnector) NetworkError in _listen_to_ohlcv : Cannot connect to host stream.binance.com:9443 ssl:default [getaddrinfo failed]\u001b[0m\n",
      "\u001b[32m2024-07-13 12:34:02.468\u001b[0m [ \u001b[31m\u001b[1m❌\u001b[0m ] \u001b[31m\u001b[1m(CCXTDataConnector) NetworkError in _listen_to_execution_reports : binance POST https://api.binance.com/api/v3/userDataStream\u001b[0m\n",
      "\u001b[32m2024-07-13 12:34:02.947\u001b[0m [ \u001b[31m\u001b[1m❌\u001b[0m ] \u001b[31m\u001b[1m(CCXTDataConnector) NetworkError in _listen_to_ohlcv : Cannot connect to host stream.binance.com:9443 ssl:default [getaddrinfo failed]\u001b[0m\n",
      "\u001b[32m2024-07-13 12:34:03.485\u001b[0m [ \u001b[31m\u001b[1m❌\u001b[0m ] \u001b[31m\u001b[1m(CCXTDataConnector) NetworkError in _listen_to_execution_reports : binance POST https://api.binance.com/api/v3/userDataStream\u001b[0m\n",
      "\u001b[32m2024-07-13 12:34:03.965\u001b[0m [ \u001b[31m\u001b[1m❌\u001b[0m ] \u001b[31m\u001b[1m(CCXTDataConnector) NetworkError in _listen_to_ohlcv : Cannot connect to host stream.binance.com:9443 ssl:default [getaddrinfo failed]\u001b[0m\n",
      "\u001b[32m2024-07-13 12:34:04.517\u001b[0m [ \u001b[31m\u001b[1m❌\u001b[0m ] \u001b[31m\u001b[1m(CCXTDataConnector) NetworkError in _listen_to_execution_reports : binance POST https://api.binance.com/api/v3/userDataStream\u001b[0m\n",
      "\u001b[32m2024-07-13 12:34:04.987\u001b[0m [ \u001b[31m\u001b[1m❌\u001b[0m ] \u001b[31m\u001b[1m(CCXTDataConnector) NetworkError in _listen_to_ohlcv : Cannot connect to host stream.binance.com:9443 ssl:default [getaddrinfo failed]\u001b[0m\n",
      "\u001b[32m2024-07-13 12:34:05.549\u001b[0m [ \u001b[31m\u001b[1m❌\u001b[0m ] \u001b[31m\u001b[1m(CCXTDataConnector) NetworkError in _listen_to_execution_reports : binance POST https://api.binance.com/api/v3/userDataStream\u001b[0m\n",
      "\u001b[32m2024-07-13 12:34:05.990\u001b[0m [ \u001b[31m\u001b[1m❌\u001b[0m ] \u001b[31m\u001b[1m(CCXTDataConnector) NetworkError in _listen_to_ohlcv : Cannot connect to host stream.binance.com:9443 ssl:default [getaddrinfo failed]\u001b[0m\n",
      "\u001b[32m2024-07-13 12:34:06.582\u001b[0m [ \u001b[31m\u001b[1m❌\u001b[0m ] \u001b[31m\u001b[1m(CCXTDataConnector) NetworkError in _listen_to_execution_reports : binance POST https://api.binance.com/api/v3/userDataStream\u001b[0m\n",
      "\u001b[32m2024-07-13 12:34:06.992\u001b[0m [ \u001b[31m\u001b[1m❌\u001b[0m ] \u001b[31m\u001b[1m(CCXTDataConnector) NetworkError in _listen_to_ohlcv : Cannot connect to host stream.binance.com:9443 ssl:default [getaddrinfo failed]\u001b[0m\n",
      "\u001b[32m2024-07-13 12:34:07.598\u001b[0m [ \u001b[31m\u001b[1m❌\u001b[0m ] \u001b[31m\u001b[1m(CCXTDataConnector) NetworkError in _listen_to_execution_reports : binance POST https://api.binance.com/api/v3/userDataStream\u001b[0m\n",
      "\u001b[32m2024-07-13 12:34:07.993\u001b[0m [ \u001b[31m\u001b[1m❌\u001b[0m ] \u001b[31m\u001b[1m(CCXTDataConnector) NetworkError in _listen_to_ohlcv : Cannot connect to host stream.binance.com:9443 ssl:default [getaddrinfo failed]\u001b[0m\n",
      "\u001b[32m2024-07-13 12:34:08.629\u001b[0m [ \u001b[31m\u001b[1m❌\u001b[0m ] \u001b[31m\u001b[1m(CCXTDataConnector) NetworkError in _listen_to_execution_reports : binance POST https://api.binance.com/api/v3/userDataStream\u001b[0m\n",
      "\u001b[32m2024-07-13 12:34:09.012\u001b[0m [ \u001b[31m\u001b[1m❌\u001b[0m ] \u001b[31m\u001b[1m(CCXTDataConnector) NetworkError in _listen_to_ohlcv : Cannot connect to host stream.binance.com:9443 ssl:default [getaddrinfo failed]\u001b[0m\n",
      "\u001b[32m2024-07-13 12:34:09.651\u001b[0m [ \u001b[31m\u001b[1m❌\u001b[0m ] \u001b[31m\u001b[1m(CCXTDataConnector) NetworkError in _listen_to_execution_reports : binance POST https://api.binance.com/api/v3/userDataStream\u001b[0m\n",
      "\u001b[32m2024-07-13 12:34:10.015\u001b[0m [ \u001b[31m\u001b[1m❌\u001b[0m ] \u001b[31m\u001b[1m(CCXTDataConnector) NetworkError in _listen_to_ohlcv : Cannot connect to host stream.binance.com:9443 ssl:default [getaddrinfo failed]\u001b[0m\n",
      "\u001b[32m2024-07-13 12:34:57.934\u001b[0m [ \u001b[1mℹ️\u001b[0m ] \u001b[1m ||||| 2024-07-13T09:34:57.228408320 -> TriggerEvent(time=numpy.datetime64('2024-07-13T09:34:57.228408320'), type='bar', instrument=Instrument(symbol='BTCUSDT', market_type='CRYPTO', exchange='BINANCE', base='BTC', quote='USDT', margin_symbol=None, min_tick=0.01, min_size_step=1e-05, min_size=1e-05, futures_info=None, _aux_instrument=None), data={o:58397.990000 | h:58397.990000 | l:58304.400000 | c:58307.990000 | v:1221975.905412}) |||||\u001b[0m\n",
      "\u001b[32m2024-07-13 12:35:55.998\u001b[0m [ \u001b[1mℹ️\u001b[0m ] \u001b[1m ||||| 2024-07-13T09:35:55.289457920 -> TriggerEvent(time=numpy.datetime64('2024-07-13T09:35:55.289457920'), type='bar', instrument=Instrument(symbol='BTCUSDT', market_type='CRYPTO', exchange='BINANCE', base='BTC', quote='USDT', margin_symbol=None, min_tick=0.01, min_size_step=1e-05, min_size=1e-05, futures_info=None, _aux_instrument=None), data={o:58308.000000 | h:58367.570000 | l:58302.080000 | c:58306.240000 | v:1044819.598826}) |||||\u001b[0m\n",
      "\u001b[32m2024-07-13 12:36:57.642\u001b[0m [ \u001b[1mℹ️\u001b[0m ] \u001b[1m ||||| 2024-07-13T09:36:56.919486976 -> TriggerEvent(time=numpy.datetime64('2024-07-13T09:36:56.919486976'), type='bar', instrument=Instrument(symbol='BTCUSDT', market_type='CRYPTO', exchange='BINANCE', base='BTC', quote='USDT', margin_symbol=None, min_tick=0.01, min_size_step=1e-05, min_size=1e-05, futures_info=None, _aux_instrument=None), data={o:58314.950000 | h:58332.180000 | l:58293.050000 | c:58306.620000 | v:888928.099692}) |||||\u001b[0m\n"
     ]
    }
   ],
   "source": [
    "ctx.start()"
   ]
  },
  {
   "cell_type": "code",
   "execution_count": null,
   "metadata": {},
   "outputs": [],
   "source": [
    "data.get_historical_ohlcs('BTCUSDT', '5Min', 200)"
   ]
  },
  {
   "cell_type": "code",
   "execution_count": 11,
   "metadata": {},
   "outputs": [
    {
     "name": "stdout",
     "output_type": "stream",
     "text": [
      "2024-07-12 15:43:00 [BINANCE:BTCUSDT]       0.00000      0.00    +0.1965 | 58006.00        0.00\n",
      "[]\n"
     ]
    }
   ],
   "source": [
    "print(sbroker.get_position(instruments[0]))\n",
    "print(sbroker.get_orders())"
   ]
  },
  {
   "cell_type": "code",
   "execution_count": 8,
   "metadata": {},
   "outputs": [
    {
     "name": "stdout",
     "output_type": "stream",
     "text": [
      "\u001b[32m2024-07-12 18:42:41.169\u001b[0m [ \u001b[1mℹ️\u001b[0m ] \u001b[1m(StrategyContext) sending market buy for 0.1 of BTCUSDT ...\u001b[0m\n",
      "\u001b[32m2024-07-12 18:42:41.173\u001b[0m [ \u001b[34m\u001b[1m🐞\u001b[0m ] \u001b[34m\u001b[1m[OMS] BTCUSDT - SIM-ORDER-BTCUSDT-100001 MARKET BUY 0.1 executed at 58004.024999999994\u001b[0m\n",
      "\u001b[32m2024-07-12 18:42:41.174\u001b[0m [ \u001b[1mℹ️\u001b[0m ] \u001b[1m  ::  traded 0.1 for BTCUSDT @ 58004.024999999994 -> 0.00\u001b[0m\n",
      "\u001b[32m2024-07-12 18:42:41.175\u001b[0m [ \u001b[1mℹ️\u001b[0m ] \u001b[1mOrder SIM-ORDER-BTCUSDT-100001 MARKET BUY 0.1 of BTCUSDT -> CLOSED\u001b[0m\n"
     ]
    },
    {
     "data": {
      "text/plain": [
       "Order(id='SIM-ORDER-BTCUSDT-100001', type='MARKET', symbol='BTCUSDT', time=numpy.datetime64('2024-07-12T15:42:40.359531520'), quantity=0.1, price=0, side='BUY', status='CLOSED', time_in_force='gtc', client_id='TestStrategy_BTCUSDT_1', cost=0.0)"
      ]
     },
     "execution_count": 8,
     "metadata": {},
     "output_type": "execute_result"
    }
   ],
   "source": [
    "ctx.trade('BTCUSDT', 0.1)"
   ]
  },
  {
   "cell_type": "code",
   "execution_count": 10,
   "metadata": {},
   "outputs": [
    {
     "name": "stdout",
     "output_type": "stream",
     "text": [
      "\u001b[32m2024-07-12 18:42:59.040\u001b[0m [ \u001b[1mℹ️\u001b[0m ] \u001b[1m(StrategyContext) sending market sell for 0.1 of BTCUSDT ...\u001b[0m\n",
      "\u001b[32m2024-07-12 18:42:59.041\u001b[0m [ \u001b[34m\u001b[1m🐞\u001b[0m ] \u001b[34m\u001b[1m[OMS] BTCUSDT - SIM-ORDER-BTCUSDT-100002 MARKET SELL 0.1 executed at 58005.985\u001b[0m\n",
      "\u001b[32m2024-07-12 18:42:59.041\u001b[0m [ \u001b[1mℹ️\u001b[0m ] \u001b[1m  ::  traded -0.1 for BTCUSDT @ 58005.985 -> 0.20\u001b[0m\n",
      "\u001b[32m2024-07-12 18:42:59.042\u001b[0m [ \u001b[1mℹ️\u001b[0m ] \u001b[1mOrder SIM-ORDER-BTCUSDT-100002 MARKET SELL 0.1 of BTCUSDT -> CLOSED\u001b[0m\n"
     ]
    },
    {
     "data": {
      "text/plain": [
       "Order(id='SIM-ORDER-BTCUSDT-100002', type='MARKET', symbol='BTCUSDT', time=numpy.datetime64('2024-07-12T15:42:57.331495424'), quantity=0.1, price=0, side='SELL', status='CLOSED', time_in_force='gtc', client_id='TestStrategy_BTCUSDT_2', cost=0.0)"
      ]
     },
     "execution_count": 10,
     "metadata": {},
     "output_type": "execute_result"
    }
   ],
   "source": [
    "ctx.trade('BTCUSDT', -0.1)"
   ]
  },
  {
   "cell_type": "code",
   "execution_count": 124,
   "metadata": {},
   "outputs": [
    {
     "name": "stdout",
     "output_type": "stream",
     "text": [
      "\u001b[32m2024-07-11 08:55:43.969\u001b[0m [ \u001b[1mℹ️\u001b[0m ] \u001b[1m(StrategyContext) sending limit buy for 0.1 of BTCUSDT ...\u001b[0m\n",
      "\u001b[32m2024-07-11 08:55:43.969\u001b[0m [ \u001b[34m\u001b[1m🐞\u001b[0m ] \u001b[34m\u001b[1m[OMS] BTCUSDT - registered SIM-ORDER-BTCUSDT-100005 LIMIT BUY 0.1 45000\u001b[0m\n"
     ]
    },
    {
     "data": {
      "text/plain": [
       "Order(id='SIM-ORDER-BTCUSDT-100005', type='LIMIT', symbol='BTCUSDT', time=numpy.datetime64('2024-07-11T05:55:41.389935104'), quantity=0.1, price=45000, side='BUY', status='OPEN', time_in_force='gtc', client_id='TestStrategy_BTCUSDT_5', cost=0.0)"
      ]
     },
     "execution_count": 124,
     "metadata": {},
     "output_type": "execute_result"
    }
   ],
   "source": [
    "ctx.trade('BTCUSDT', 0.1, 45000)"
   ]
  },
  {
   "cell_type": "code",
   "execution_count": 136,
   "metadata": {},
   "outputs": [
    {
     "name": "stdout",
     "output_type": "stream",
     "text": [
      "\u001b[32m2024-07-11 08:56:31.011\u001b[0m [ \u001b[34m\u001b[1m🐞\u001b[0m ] \u001b[34m\u001b[1m[OMS] BTCUSDT - SIM-ORDER-BTCUSDT-100005 LIMIT BUY 0.1 canceled\u001b[0m\n",
      "\u001b[32m2024-07-11 08:56:31.011\u001b[0m [ \u001b[1mℹ️\u001b[0m ] \u001b[1mOrder SIM-ORDER-BTCUSDT-100005 LIMIT BUY 0.1 of BTCUSDT -> CANCELED\u001b[0m\n",
      "\u001b[32m2024-07-11 08:56:31.011\u001b[0m [ \u001b[1mℹ️\u001b[0m ] \u001b[1mOrder SIM-ORDER-BTCUSDT-100005 LIMIT BUY 0.1 of BTCUSDT -> CANCELED\u001b[0m\n"
     ]
    }
   ],
   "source": [
    "ctx.cancel('BTCUSDT')"
   ]
  },
  {
   "cell_type": "code",
   "execution_count": 81,
   "metadata": {},
   "outputs": [
    {
     "name": "stdout",
     "output_type": "stream",
     "text": [
      "\u001b[32m2024-07-11 12:12:14.148\u001b[0m [ \u001b[1mℹ️\u001b[0m ] \u001b[1m> test is stopped\u001b[0m\n",
      "\u001b[32m2024-07-11 12:12:14.149\u001b[0m [ \u001b[1mℹ️\u001b[0m ] \u001b[1m\t\u001b[37mCachedMarketDataHolder.update_by_bar\u001b[0m\u001b[1m took \u001b[31m0.0000254\u001b[0m\u001b[1m secs\u001b[0m\n",
      "\u001b[32m2024-07-11 12:12:14.149\u001b[0m [ \u001b[1mℹ️\u001b[0m ] \u001b[1m\t\u001b[37mStrategyContext._processing_bar\u001b[0m\u001b[1m took \u001b[31m0.0000359\u001b[0m\u001b[1m secs\u001b[0m\n",
      "\u001b[32m2024-07-11 12:12:14.150\u001b[0m [ \u001b[1mℹ️\u001b[0m ] \u001b[1m\t\u001b[37mStrategyContext.handler\u001b[0m\u001b[1m took \u001b[31m0.0000034\u001b[0m\u001b[1m secs\u001b[0m\n",
      "\u001b[32m2024-07-11 12:12:14.150\u001b[0m [ \u001b[1mℹ️\u001b[0m ] \u001b[1m\t\u001b[37mStrategyContext._process_incoming_data\u001b[0m\u001b[1m took \u001b[31m1.0039607\u001b[0m\u001b[1m secs\u001b[0m\n",
      "\u001b[32m2024-07-11 12:12:14.150\u001b[0m [ \u001b[1mℹ️\u001b[0m ] \u001b[1m\t\u001b[37mloggers.notify\u001b[0m\u001b[1m took \u001b[31m0.0000024\u001b[0m\u001b[1m secs\u001b[0m\n",
      "\u001b[32m2024-07-11 12:12:14.151\u001b[0m [ \u001b[1mℹ️\u001b[0m ] \u001b[1m\t\u001b[37mstrategy.on_fit\u001b[0m\u001b[1m took \u001b[31m0.0014524\u001b[0m\u001b[1m secs\u001b[0m\n",
      "\u001b[32m2024-07-11 12:12:14.151\u001b[0m [ \u001b[1mℹ️\u001b[0m ] \u001b[1m\t\u001b[37mstrategy.on_event\u001b[0m\u001b[1m took \u001b[31m0.0012006\u001b[0m\u001b[1m secs\u001b[0m\n",
      "\u001b[32m2024-07-11 12:12:14.151\u001b[0m [ \u001b[1mℹ️\u001b[0m ] \u001b[1m\t\u001b[37mStrategyContext.trade\u001b[0m\u001b[1m took \u001b[31m0.0033409\u001b[0m\u001b[1m secs\u001b[0m\n",
      "\u001b[32m2024-07-11 12:12:14.151\u001b[0m [ \u001b[1mℹ️\u001b[0m ] \u001b[1m\t\u001b[37mStrategyContext._processing_order\u001b[0m\u001b[1m took \u001b[31m0.0006063\u001b[0m\u001b[1m secs\u001b[0m\n",
      "\u001b[32m2024-07-11 12:12:14.151\u001b[0m [ \u001b[1mℹ️\u001b[0m ] \u001b[1m\t\u001b[37mStrategyContext._processing_deals\u001b[0m\u001b[1m took \u001b[31m0.0011736\u001b[0m\u001b[1m secs\u001b[0m\n",
      "\u001b[32m2024-07-11 12:12:14.151\u001b[0m [ \u001b[31m\u001b[1m❌\u001b[0m ] \u001b[31m\u001b[1mThis event loop is already running\u001b[0m\n"
     ]
    },
    {
     "name": "stderr",
     "output_type": "stream",
     "text": [
      "c:\\Users\\dmitr\\devs\\Qubx\\experiments\\../src\\qubx\\impl\\ccxt_connector.py:288: RuntimeWarning: coroutine 'Exchange.close' was never awaited\n",
      "  def get_quote(self, symbol: str) -> Optional[Quote]:\n",
      "RuntimeWarning: Enable tracemalloc to get the object allocation traceback\n"
     ]
    }
   ],
   "source": [
    "ctx.stop()\n",
    "data.close()"
   ]
  },
  {
   "cell_type": "markdown",
   "metadata": {},
   "source": [
    "# Simulated data provider"
   ]
  },
  {
   "cell_type": "code",
   "execution_count": 22,
   "metadata": {},
   "outputs": [],
   "source": [
    "from qubx.backtester.simulator import SimulatedExchangeService, SimulatedDataProvider, DataLoader"
   ]
  },
  {
   "cell_type": "code",
   "execution_count": 23,
   "metadata": {},
   "outputs": [
    {
     "name": "stdout",
     "output_type": "stream",
     "text": [
      "\u001b[32m2024-07-12 18:49:58.281\u001b[0m [ \u001b[34m\u001b[1m🐞\u001b[0m ] \u001b[34m\u001b[1mConnected to QuestDB at xlydian-data:8812\u001b[0m\n"
     ]
    }
   ],
   "source": [
    "# r = CsvStorageDataReader(\"../tests/data/csv\")\n",
    "r = MultiQdbConnector('xlydian-data')"
   ]
  },
  {
   "cell_type": "code",
   "execution_count": null,
   "metadata": {},
   "outputs": [],
   "source": [
    "# r.get_names('candles')"
   ]
  },
  {
   "cell_type": "code",
   "execution_count": 146,
   "metadata": {},
   "outputs": [],
   "source": [
    "# instr = lookup.find_symbol(\"BINANCE.UM\", \"SOLUSDT\")\n",
    "# stream = r.read('SOLUSDT', transform=RestoreTicksFromOHLC(trades=False, spread=instr.min_tick, timestamp_units='ms'))\n",
    "# stream = r.read('BINANCE.UM:SOLUSDT', '2024-04-01', '2024-04-10', transform=RestoreTicksFromOHLC(trades=False, spread=instr.min_tick, timestamp_units='ms'))\n",
    "# stream = r.read('BINANCE.UM:BTCUSDT', '2024-01-01', '2024-02-10', transform=RestoreTicksFromOHLC(trades=False, spread=instr.min_tick, timestamp_units='ms'))\n",
    "# stream[0], stream[-1]"
   ]
  },
  {
   "cell_type": "code",
   "execution_count": 24,
   "metadata": {},
   "outputs": [
    {
     "name": "stdout",
     "output_type": "stream",
     "text": [
      "\u001b[32m2024-07-12 18:49:59.935\u001b[0m [ \u001b[1mℹ️\u001b[0m ] \u001b[1mSimulatedData.binance initialized\u001b[0m\n",
      "\u001b[32m2024-07-12 18:49:59.935\u001b[0m [ \u001b[33m\u001b[1m⚠️\u001b[0m ] \u001b[36mqubx.core.loggers\u001b[0m:\u001b[36m__init__\u001b[0m:\u001b[36m324\u001b[0m - \u001b[33m\u001b[1mLog writer is not defined - strategy activity will not be saved !\u001b[0m\n",
      "\u001b[32m2024-07-12 18:49:59.935\u001b[0m [ \u001b[1mℹ️\u001b[0m ] \u001b[1m(StrategyContext) set strategy parameters:\n",
      "\tset \u001b[32mcapital_invested\u001b[0m\u001b[1m <- \u001b[31m100\u001b[0m\u001b[1m\u001b[0m\n",
      "\u001b[32m2024-07-12 18:49:59.935\u001b[0m [ \u001b[34m\u001b[1m🐞\u001b[0m ] \u001b[34m\u001b[1mTriggering strategy on every 5Min bar after 4Min59S\u001b[0m\n",
      "\u001b[32m2024-07-12 18:49:59.943\u001b[0m [ \u001b[1mℹ️\u001b[0m ] \u001b[1m(StrategyContext) Subscribing to ohlc updates using {'timeframe': '5Min', 'nback': 0} for \n",
      "\t['BTCUSDT', 'SOLUSDT', 'LINKUSDT'] \u001b[0m\n",
      "\u001b[32m2024-07-12 18:49:59.944\u001b[0m [ \u001b[1mℹ️\u001b[0m ] \u001b[1m -> Strategy started | 2024-01-01T00:00:00.000000000\u001b[0m\n",
      "\u001b[32m2024-07-12 18:49:59.944\u001b[0m [ \u001b[1mℹ️\u001b[0m ] \u001b[1m(StrategyContext) Start processing market data\u001b[0m\n",
      "\u001b[32m2024-07-12 18:49:59.944\u001b[0m [ \u001b[1mℹ️\u001b[0m ] \u001b[1m(StrategyContext) strategy is started\u001b[0m\n",
      "\u001b[32m2024-07-12 18:49:59.935\u001b[0m [ \u001b[33m\u001b[1m⚠️\u001b[0m ] \u001b[36mqubx.core.loggers\u001b[0m:\u001b[36m__init__\u001b[0m:\u001b[36m324\u001b[0m - \u001b[33m\u001b[1mLog writer is not defined - strategy activity will not be saved !\u001b[0m\n",
      "\u001b[32m2024-07-12 18:49:59.935\u001b[0m [ \u001b[1mℹ️\u001b[0m ] \u001b[1m(StrategyContext) set strategy parameters:\n",
      "\tset \u001b[32mcapital_invested\u001b[0m\u001b[1m <- \u001b[31m100\u001b[0m\u001b[1m\u001b[0m\n",
      "\u001b[32m2024-07-12 18:49:59.935\u001b[0m [ \u001b[34m\u001b[1m🐞\u001b[0m ] \u001b[34m\u001b[1mTriggering strategy on every 5Min bar after 4Min59S\u001b[0m\n",
      "\u001b[32m2024-07-12 18:49:59.943\u001b[0m [ \u001b[1mℹ️\u001b[0m ] \u001b[1m(StrategyContext) Subscribing to ohlc updates using {'timeframe': '5Min', 'nback': 0} for \n",
      "\t['BTCUSDT', 'SOLUSDT', 'LINKUSDT'] \u001b[0m\n",
      "\u001b[32m2024-07-12 18:49:59.944\u001b[0m [ \u001b[1mℹ️\u001b[0m ] \u001b[1m -> Strategy started | 2024-01-01T00:00:00.000000000\u001b[0m\n",
      "\u001b[32m2024-07-12 18:49:59.944\u001b[0m [ \u001b[1mℹ️\u001b[0m ] \u001b[1m(StrategyContext) Start processing market data\u001b[0m\n",
      "\u001b[32m2024-07-12 18:49:59.944\u001b[0m [ \u001b[1mℹ️\u001b[0m ] \u001b[1m(StrategyContext) strategy is started\u001b[0m\n"
     ]
    }
   ],
   "source": [
    "sbroker = SimulatedExchangeService('binance', 10000, 'vip0_usdt', 'USDT', '2024-01-01 00:00:00')\n",
    "sdp = SimulatedDataProvider('binance', sbroker, r)\n",
    "\n",
    "instruments = [lookup.find_symbol('BINANCE.UM', s) for s in ['BTCUSDT', 'SOLUSDT', 'LINKUSDT']]\n",
    "# sdp.subscribe('ohlc', instruments, '5Min')\n",
    "\n",
    "ctx = StrategyContext(\n",
    "    TestStrategy(), dict(\n",
    "        capital_invested=100,\n",
    "        trading_allowed=False\n",
    "    ), \n",
    "    sdp, sbroker, instruments=instruments,  # type: ignore\n",
    "    md_subscription=dict(type='ohlc', timeframe='5Min', nback=0),\n",
    "    trigger_spec='5Min -1Sec',\n",
    "    # trigger_spec=\"* * * * * *\"\n",
    "\n",
    ")\n",
    "ctx.start()"
   ]
  },
  {
   "cell_type": "code",
   "execution_count": 25,
   "metadata": {},
   "outputs": [
    {
     "name": "stdout",
     "output_type": "stream",
     "text": [
      "\u001b[32m2024-07-12 18:50:01.966\u001b[0m [ \u001b[34m\u001b[1m🐞\u001b[0m ] \u001b[34m\u001b[1m[2024-01-01T00:00:00.001000000]: Invoking TestStrategy on_fit('2024-01-01 00:00:00', 'None')\u001b[0m\n",
      "\u001b[32m2024-07-12 18:50:01.968\u001b[0m [ \u001b[1mℹ️\u001b[0m ] \u001b[1m -> Fit is called | fit_time: 2024-01-01 00:00:00 / prev: None\u001b[0m\n",
      "\u001b[32m2024-07-12 18:50:01.969\u001b[0m [ \u001b[34m\u001b[1m🐞\u001b[0m ] \u001b[34m\u001b[1m[2024-01-01T00:02:00.000000000]: TestStrategy is fitted\u001b[0m\n",
      "\u001b[32m2024-07-12 18:50:01.971\u001b[0m [ \u001b[1mℹ️\u001b[0m ] \u001b[1m ||||| 2024-01-01T00:04:59.999000000 -> TriggerEvent(time=numpy.datetime64('2024-01-01T00:04:59.999000000'), type='bar', instrument=Instrument(symbol='BTCUSDT', market_type='CRYPTO', exchange='BINANCE.UM', base='BTC', quote='USDT', margin_symbol='USDT', min_tick=0.1, min_size_step=0.001, min_size=0.001, futures_info=FuturesInfo(contract_type='PERPETUAL', delivery_date=datetime.datetime(2100, 12, 25, 10, 0), onboard_date=datetime.datetime(2019, 9, 25, 11, 0), contract_size=1.0, maint_margin=2.5, required_margin=5.0, liquidation_fee=0.0125), _aux_instrument=None), data=None) |||||\u001b[0m\n",
      "\u001b[32m2024-07-12 18:50:01.974\u001b[0m [ \u001b[1mℹ️\u001b[0m ] \u001b[1m ||||| 2024-01-01T00:09:59.999000000 -> TriggerEvent(time=numpy.datetime64('2024-01-01T00:09:59.999000000'), type='bar', instrument=Instrument(symbol='BTCUSDT', market_type='CRYPTO', exchange='BINANCE.UM', base='BTC', quote='USDT', margin_symbol='USDT', min_tick=0.1, min_size_step=0.001, min_size=0.001, futures_info=FuturesInfo(contract_type='PERPETUAL', delivery_date=datetime.datetime(2100, 12, 25, 10, 0), onboard_date=datetime.datetime(2019, 9, 25, 11, 0), contract_size=1.0, maint_margin=2.5, required_margin=5.0, liquidation_fee=0.0125), _aux_instrument=None), data=None) |||||\u001b[0m\n",
      "\u001b[32m2024-07-12 18:50:01.975\u001b[0m [ \u001b[1mℹ️\u001b[0m ] \u001b[1m ||||| 2024-01-01T00:14:59.999000000 -> TriggerEvent(time=numpy.datetime64('2024-01-01T00:14:59.999000000'), type='bar', instrument=Instrument(symbol='BTCUSDT', market_type='CRYPTO', exchange='BINANCE.UM', base='BTC', quote='USDT', margin_symbol='USDT', min_tick=0.1, min_size_step=0.001, min_size=0.001, futures_info=FuturesInfo(contract_type='PERPETUAL', delivery_date=datetime.datetime(2100, 12, 25, 10, 0), onboard_date=datetime.datetime(2019, 9, 25, 11, 0), contract_size=1.0, maint_margin=2.5, required_margin=5.0, liquidation_fee=0.0125), _aux_instrument=None), data=None) |||||\u001b[0m\n",
      "\u001b[32m2024-07-12 18:50:01.975\u001b[0m [ \u001b[1mℹ️\u001b[0m ] \u001b[1m ||||| 2024-01-01T00:19:59.999000000 -> TriggerEvent(time=numpy.datetime64('2024-01-01T00:19:59.999000000'), type='bar', instrument=Instrument(symbol='BTCUSDT', market_type='CRYPTO', exchange='BINANCE.UM', base='BTC', quote='USDT', margin_symbol='USDT', min_tick=0.1, min_size_step=0.001, min_size=0.001, futures_info=FuturesInfo(contract_type='PERPETUAL', delivery_date=datetime.datetime(2100, 12, 25, 10, 0), onboard_date=datetime.datetime(2019, 9, 25, 11, 0), contract_size=1.0, maint_margin=2.5, required_margin=5.0, liquidation_fee=0.0125), _aux_instrument=None), data=None) |||||\u001b[0m\n",
      "\u001b[32m2024-07-12 18:50:01.968\u001b[0m [ \u001b[1mℹ️\u001b[0m ] \u001b[1m -> Fit is called | fit_time: 2024-01-01 00:00:00 / prev: None\u001b[0m\n",
      "\u001b[32m2024-07-12 18:50:01.969\u001b[0m [ \u001b[34m\u001b[1m🐞\u001b[0m ] \u001b[34m\u001b[1m[2024-01-01T00:02:00.000000000]: TestStrategy is fitted\u001b[0m\n",
      "\u001b[32m2024-07-12 18:50:01.971\u001b[0m [ \u001b[1mℹ️\u001b[0m ] \u001b[1m ||||| 2024-01-01T00:04:59.999000000 -> TriggerEvent(time=numpy.datetime64('2024-01-01T00:04:59.999000000'), type='bar', instrument=Instrument(symbol='BTCUSDT', market_type='CRYPTO', exchange='BINANCE.UM', base='BTC', quote='USDT', margin_symbol='USDT', min_tick=0.1, min_size_step=0.001, min_size=0.001, futures_info=FuturesInfo(contract_type='PERPETUAL', delivery_date=datetime.datetime(2100, 12, 25, 10, 0), onboard_date=datetime.datetime(2019, 9, 25, 11, 0), contract_size=1.0, maint_margin=2.5, required_margin=5.0, liquidation_fee=0.0125), _aux_instrument=None), data=None) |||||\u001b[0m\n",
      "\u001b[32m2024-07-12 18:50:01.974\u001b[0m [ \u001b[1mℹ️\u001b[0m ] \u001b[1m ||||| 2024-01-01T00:09:59.999000000 -> TriggerEvent(time=numpy.datetime64('2024-01-01T00:09:59.999000000'), type='bar', instrument=Instrument(symbol='BTCUSDT', market_type='CRYPTO', exchange='BINANCE.UM', base='BTC', quote='USDT', margin_symbol='USDT', min_tick=0.1, min_size_step=0.001, min_size=0.001, futures_info=FuturesInfo(contract_type='PERPETUAL', delivery_date=datetime.datetime(2100, 12, 25, 10, 0), onboard_date=datetime.datetime(2019, 9, 25, 11, 0), contract_size=1.0, maint_margin=2.5, required_margin=5.0, liquidation_fee=0.0125), _aux_instrument=None), data=None) |||||\u001b[0m\n",
      "\u001b[32m2024-07-12 18:50:01.975\u001b[0m [ \u001b[1mℹ️\u001b[0m ] \u001b[1m ||||| 2024-01-01T00:14:59.999000000 -> TriggerEvent(time=numpy.datetime64('2024-01-01T00:14:59.999000000'), type='bar', instrument=Instrument(symbol='BTCUSDT', market_type='CRYPTO', exchange='BINANCE.UM', base='BTC', quote='USDT', margin_symbol='USDT', min_tick=0.1, min_size_step=0.001, min_size=0.001, futures_info=FuturesInfo(contract_type='PERPETUAL', delivery_date=datetime.datetime(2100, 12, 25, 10, 0), onboard_date=datetime.datetime(2019, 9, 25, 11, 0), contract_size=1.0, maint_margin=2.5, required_margin=5.0, liquidation_fee=0.0125), _aux_instrument=None), data=None) |||||\u001b[0m\n",
      "\u001b[32m2024-07-12 18:50:01.975\u001b[0m [ \u001b[1mℹ️\u001b[0m ] \u001b[1m ||||| 2024-01-01T00:19:59.999000000 -> TriggerEvent(time=numpy.datetime64('2024-01-01T00:19:59.999000000'), type='bar', instrument=Instrument(symbol='BTCUSDT', market_type='CRYPTO', exchange='BINANCE.UM', base='BTC', quote='USDT', margin_symbol='USDT', min_tick=0.1, min_size_step=0.001, min_size=0.001, futures_info=FuturesInfo(contract_type='PERPETUAL', delivery_date=datetime.datetime(2100, 12, 25, 10, 0), onboard_date=datetime.datetime(2019, 9, 25, 11, 0), contract_size=1.0, maint_margin=2.5, required_margin=5.0, liquidation_fee=0.0125), _aux_instrument=None), data=None) |||||\u001b[0m\n",
      "\u001b[32m2024-07-12 18:50:01.975\u001b[0m [ \u001b[1mℹ️\u001b[0m ] \u001b[1m ||||| 2024-01-01T00:24:59.999000000 -> TriggerEvent(time=numpy.datetime64('2024-01-01T00:24:59.999000000'), type='bar', instrument=Instrument(symbol='BTCUSDT', market_type='CRYPTO', exchange='BINANCE.UM', base='BTC', quote='USDT', margin_symbol='USDT', min_tick=0.1, min_size_step=0.001, min_size=0.001, futures_info=FuturesInfo(contract_type='PERPETUAL', delivery_date=datetime.datetime(2100, 12, 25, 10, 0), onboard_date=datetime.datetime(2019, 9, 25, 11, 0), contract_size=1.0, maint_margin=2.5, required_margin=5.0, liquidation_fee=0.0125), _aux_instrument=None), data=None) |||||\u001b[0m\n",
      "\u001b[32m2024-07-12 18:50:01.975\u001b[0m [ \u001b[1mℹ️\u001b[0m ] \u001b[1m ||||| 2024-01-01T00:29:59.999000000 -> TriggerEvent(time=numpy.datetime64('2024-01-01T00:29:59.999000000'), type='bar', instrument=Instrument(symbol='BTCUSDT', market_type='CRYPTO', exchange='BINANCE.UM', base='BTC', quote='USDT', margin_symbol='USDT', min_tick=0.1, min_size_step=0.001, min_size=0.001, futures_info=FuturesInfo(contract_type='PERPETUAL', delivery_date=datetime.datetime(2100, 12, 25, 10, 0), onboard_date=datetime.datetime(2019, 9, 25, 11, 0), contract_size=1.0, maint_margin=2.5, required_margin=5.0, liquidation_fee=0.0125), _aux_instrument=None), data=None) |||||\u001b[0m\n",
      "\u001b[32m2024-07-12 18:50:01.975\u001b[0m [ \u001b[1mℹ️\u001b[0m ] \u001b[1m ||||| 2024-01-01T00:34:59.999000000 -> TriggerEvent(time=numpy.datetime64('2024-01-01T00:34:59.999000000'), type='bar', instrument=Instrument(symbol='BTCUSDT', market_type='CRYPTO', exchange='BINANCE.UM', base='BTC', quote='USDT', margin_symbol='USDT', min_tick=0.1, min_size_step=0.001, min_size=0.001, futures_info=FuturesInfo(contract_type='PERPETUAL', delivery_date=datetime.datetime(2100, 12, 25, 10, 0), onboard_date=datetime.datetime(2019, 9, 25, 11, 0), contract_size=1.0, maint_margin=2.5, required_margin=5.0, liquidation_fee=0.0125), _aux_instrument=None), data=None) |||||\u001b[0m\n",
      "\u001b[32m2024-07-12 18:50:04.594\u001b[0m [ \u001b[1mℹ️\u001b[0m ] \u001b[1m(StrategyContext) Market data processing stopped\u001b[0m\n"
     ]
    }
   ],
   "source": [
    "# %%time\n",
    "d = sdp.run('2024-01-01 00:00', '2024-01-01 00:30')"
   ]
  },
  {
   "cell_type": "code",
   "execution_count": 26,
   "metadata": {},
   "outputs": [
    {
     "name": "stdout",
     "output_type": "stream",
     "text": [
      "\u001b[32m2024-07-12 18:50:04.594\u001b[0m [ \u001b[1mℹ️\u001b[0m ] \u001b[1m -> strategy is stopped\u001b[0m\n",
      "\u001b[32m2024-07-12 18:50:04.595\u001b[0m [ \u001b[1mℹ️\u001b[0m ] \u001b[1m\t\u001b[37mCachedMarketDataHolder.update_by_bar\u001b[0m\u001b[1m took \u001b[31m0.0000691\u001b[0m\u001b[1m secs\u001b[0m\n",
      "\u001b[32m2024-07-12 18:50:04.595\u001b[0m [ \u001b[1mℹ️\u001b[0m ] \u001b[1m\t\u001b[37mStrategyContext._processing_bar\u001b[0m\u001b[1m took \u001b[31m0.0001002\u001b[0m\u001b[1m secs\u001b[0m\n",
      "\u001b[32m2024-07-12 18:50:04.596\u001b[0m [ \u001b[1mℹ️\u001b[0m ] \u001b[1m\t\u001b[37mStrategyContext.handler\u001b[0m\u001b[1m took \u001b[31m0.0000029\u001b[0m\u001b[1m secs\u001b[0m\n",
      "\u001b[32m2024-07-12 18:50:04.597\u001b[0m [ \u001b[1mℹ️\u001b[0m ] \u001b[1m\t\u001b[37mstrategy.on_fit\u001b[0m\u001b[1m took \u001b[31m0.0023251\u001b[0m\u001b[1m secs\u001b[0m\n",
      "\u001b[32m2024-07-12 18:50:04.597\u001b[0m [ \u001b[1mℹ️\u001b[0m ] \u001b[1m\t\u001b[37mStrategyContext._process_incoming_data\u001b[0m\u001b[1m took \u001b[31m2.2218490\u001b[0m\u001b[1m secs\u001b[0m\n",
      "\u001b[32m2024-07-12 18:50:04.598\u001b[0m [ \u001b[1mℹ️\u001b[0m ] \u001b[1m\t\u001b[37mloggers.notify\u001b[0m\u001b[1m took \u001b[31m0.0000023\u001b[0m\u001b[1m secs\u001b[0m\n",
      "\u001b[32m2024-07-12 18:50:04.599\u001b[0m [ \u001b[1mℹ️\u001b[0m ] \u001b[1m\t\u001b[37mStrategyContext.trade\u001b[0m\u001b[1m took \u001b[31m0.0028840\u001b[0m\u001b[1m secs\u001b[0m\n",
      "\u001b[32m2024-07-12 18:50:04.599\u001b[0m [ \u001b[1mℹ️\u001b[0m ] \u001b[1m\t\u001b[37mStrategyContext._processing_order\u001b[0m\u001b[1m took \u001b[31m0.0014158\u001b[0m\u001b[1m secs\u001b[0m\n",
      "\u001b[32m2024-07-12 18:50:04.600\u001b[0m [ \u001b[1mℹ️\u001b[0m ] \u001b[1m\t\u001b[37mStrategyContext._processing_deals\u001b[0m\u001b[1m took \u001b[31m0.0005753\u001b[0m\u001b[1m secs\u001b[0m\n",
      "\u001b[32m2024-07-12 18:50:04.600\u001b[0m [ \u001b[1mℹ️\u001b[0m ] \u001b[1m\t\u001b[37mstrategy.on_event\u001b[0m\u001b[1m took \u001b[31m0.0008872\u001b[0m\u001b[1m secs\u001b[0m\n",
      "\u001b[32m2024-07-12 18:50:04.601\u001b[0m [ \u001b[1mℹ️\u001b[0m ] \u001b[1m\t\u001b[37mCachedMarketDataHolder.update_by_quote\u001b[0m\u001b[1m took \u001b[31m0.0000142\u001b[0m\u001b[1m secs\u001b[0m\n",
      "\u001b[32m2024-07-12 18:50:04.595\u001b[0m [ \u001b[1mℹ️\u001b[0m ] \u001b[1m\t\u001b[37mCachedMarketDataHolder.update_by_bar\u001b[0m\u001b[1m took \u001b[31m0.0000691\u001b[0m\u001b[1m secs\u001b[0m\n",
      "\u001b[32m2024-07-12 18:50:04.595\u001b[0m [ \u001b[1mℹ️\u001b[0m ] \u001b[1m\t\u001b[37mStrategyContext._processing_bar\u001b[0m\u001b[1m took \u001b[31m0.0001002\u001b[0m\u001b[1m secs\u001b[0m\n",
      "\u001b[32m2024-07-12 18:50:04.596\u001b[0m [ \u001b[1mℹ️\u001b[0m ] \u001b[1m\t\u001b[37mStrategyContext.handler\u001b[0m\u001b[1m took \u001b[31m0.0000029\u001b[0m\u001b[1m secs\u001b[0m\n",
      "\u001b[32m2024-07-12 18:50:04.597\u001b[0m [ \u001b[1mℹ️\u001b[0m ] \u001b[1m\t\u001b[37mstrategy.on_fit\u001b[0m\u001b[1m took \u001b[31m0.0023251\u001b[0m\u001b[1m secs\u001b[0m\n",
      "\u001b[32m2024-07-12 18:50:04.597\u001b[0m [ \u001b[1mℹ️\u001b[0m ] \u001b[1m\t\u001b[37mStrategyContext._process_incoming_data\u001b[0m\u001b[1m took \u001b[31m2.2218490\u001b[0m\u001b[1m secs\u001b[0m\n",
      "\u001b[32m2024-07-12 18:50:04.598\u001b[0m [ \u001b[1mℹ️\u001b[0m ] \u001b[1m\t\u001b[37mloggers.notify\u001b[0m\u001b[1m took \u001b[31m0.0000023\u001b[0m\u001b[1m secs\u001b[0m\n",
      "\u001b[32m2024-07-12 18:50:04.599\u001b[0m [ \u001b[1mℹ️\u001b[0m ] \u001b[1m\t\u001b[37mStrategyContext.trade\u001b[0m\u001b[1m took \u001b[31m0.0028840\u001b[0m\u001b[1m secs\u001b[0m\n",
      "\u001b[32m2024-07-12 18:50:04.599\u001b[0m [ \u001b[1mℹ️\u001b[0m ] \u001b[1m\t\u001b[37mStrategyContext._processing_order\u001b[0m\u001b[1m took \u001b[31m0.0014158\u001b[0m\u001b[1m secs\u001b[0m\n",
      "\u001b[32m2024-07-12 18:50:04.600\u001b[0m [ \u001b[1mℹ️\u001b[0m ] \u001b[1m\t\u001b[37mStrategyContext._processing_deals\u001b[0m\u001b[1m took \u001b[31m0.0005753\u001b[0m\u001b[1m secs\u001b[0m\n",
      "\u001b[32m2024-07-12 18:50:04.600\u001b[0m [ \u001b[1mℹ️\u001b[0m ] \u001b[1m\t\u001b[37mstrategy.on_event\u001b[0m\u001b[1m took \u001b[31m0.0008872\u001b[0m\u001b[1m secs\u001b[0m\n",
      "\u001b[32m2024-07-12 18:50:04.601\u001b[0m [ \u001b[1mℹ️\u001b[0m ] \u001b[1m\t\u001b[37mCachedMarketDataHolder.update_by_quote\u001b[0m\u001b[1m took \u001b[31m0.0000142\u001b[0m\u001b[1m secs\u001b[0m\n"
     ]
    }
   ],
   "source": [
    "ctx.stop()"
   ]
  },
  {
   "cell_type": "code",
   "execution_count": 103,
   "metadata": {},
   "outputs": [
    {
     "data": {
      "text/plain": [
       "'2024-01-01 00:19:30 [BINANCE.UM:BTCUSDT]       0.000       0.0    +0.0000 | 42549.1        0.00'"
      ]
     },
     "execution_count": 103,
     "metadata": {},
     "output_type": "execute_result"
    }
   ],
   "source": [
    "str(sbroker.get_position(instruments[0]))"
   ]
  },
  {
   "cell_type": "code",
   "execution_count": 13,
   "metadata": {},
   "outputs": [],
   "source": [
    "from queue import Queue, Empty\n",
    "from time import monotonic as time\n",
    "from threading import Thread\n",
    "from multiprocessing import Process, JoinableQueue\n",
    "\n",
    "class PeekQueue(Queue):\n",
    "    def peek(self, block=True, timeout=None):\n",
    "        '''Return first item from queue without removing it\n",
    "\n",
    "        If optional args 'block' is true and 'timeout' is None (the default),\n",
    "        block if necessary until an item is available. If 'timeout' is\n",
    "        a non-negative number, it blocks at most 'timeout' seconds and raises\n",
    "        the Empty exception if no item was available within that time.\n",
    "        Otherwise ('block' is false), return an item if one is immediately\n",
    "        available, else raise the Empty exception ('timeout' is ignored\n",
    "        in that case).\n",
    "        '''\n",
    "        with self.not_empty:\n",
    "            if not block:\n",
    "                if not self._qsize():\n",
    "                    raise Empty\n",
    "            elif timeout is None:\n",
    "                while not self._qsize():\n",
    "                    self.not_empty.wait()\n",
    "            elif timeout < 0:\n",
    "                raise ValueError(\"'timeout' must be a non-negative number\")\n",
    "            else:\n",
    "                endtime = time() + timeout\n",
    "                while not self._qsize():\n",
    "                    remaining = endtime - time()\n",
    "                    if remaining <= 0.0:\n",
    "                        raise Empty\n",
    "                    self.not_empty.wait(remaining)\n",
    "            item = self.queue[0]     #<----------- THE ONLY CHANGE from get()\n",
    "            self.not_full.notify()\n",
    "            return item\n"
   ]
  },
  {
   "cell_type": "code",
   "execution_count": 165,
   "metadata": {},
   "outputs": [],
   "source": [
    "# q = PeekQueue(1)\n",
    "q = JoinableQueue()\n",
    "\n",
    "def picker():\n",
    "    while True:\n",
    "        v = q.get()\n",
    "        print(f\"Peek {v}\", flush=True)\n",
    "        if v is None:\n",
    "            print(f\"Break ...\", flush=True)\n",
    "            break\n",
    "        q.task_done()\n",
    "    q.task_done()\n",
    "    print(f\"Finish ...\", flush=True)\n",
    "\n",
    "def getter():\n",
    "    while True:\n",
    "        v = q.get()\n",
    "        print(f\"Got {v}\", flush=True)\n",
    "        if v is None:\n",
    "            break\n",
    "        q.task_done()\n",
    "    q.task_done()\n",
    "\n",
    "\n",
    "t1 = Thread(target=picker, daemon=True)\n",
    "t2 = Thread(target=getter, daemon=True)"
   ]
  },
  {
   "cell_type": "code",
   "execution_count": 166,
   "metadata": {},
   "outputs": [],
   "source": [
    "t2.start()\n",
    "t1.start()"
   ]
  },
  {
   "cell_type": "code",
   "execution_count": 167,
   "metadata": {},
   "outputs": [
    {
     "name": "stdout",
     "output_type": "stream",
     "text": [
      "Got 0\n",
      "Peek 1\n",
      "Got 1\n",
      "Peek 1\n",
      "Got 1\n",
      "Peek 1\n",
      "Got 1\n",
      "Peek 1\n",
      "Got 1\n",
      "Peek None\n",
      "Break ...\n",
      "Finish ...\n",
      "Got None\n"
     ]
    }
   ],
   "source": [
    "q.put(0)"
   ]
  },
  {
   "cell_type": "code",
   "execution_count": null,
   "metadata": {},
   "outputs": [],
   "source": [
    "q.put(1)"
   ]
  },
  {
   "cell_type": "code",
   "execution_count": 178,
   "metadata": {},
   "outputs": [],
   "source": [
    "q.put(None)"
   ]
  },
  {
   "cell_type": "code",
   "execution_count": 179,
   "metadata": {},
   "outputs": [],
   "source": [
    "q.join()"
   ]
  },
  {
   "cell_type": "code",
   "execution_count": null,
   "metadata": {},
   "outputs": [],
   "source": [
    "from threading import Thread\n",
    "from multiprocessing import Process, JoinableQueue\n",
    "import time\n",
    "import os\n",
    "\n",
    "q = JoinableQueue()\n",
    "\n",
    "def producer():\n",
    "    for item in range(30):\n",
    "        time.sleep(0.5)\n",
    "        q.put(item)\n",
    "    pid = os.getpid()\n",
    "    print(f'producer {pid} done', flush=True)\n",
    "\n",
    "\n",
    "def worker():\n",
    "    while True:\n",
    "        item = q.get()\n",
    "        pid = os.getpid()\n",
    "        print(f'pid {pid} Working on {item}', flush=True)\n",
    "        print(f'pid {pid} Finished {item}', flush=True)\n",
    "        q.task_done()\n",
    "\n",
    "for i in range(5):\n",
    "    p = Thread(target=worker, daemon=True).start()\n",
    "\n",
    "producers = []\n",
    "# it is easy to extend it to multi producers.\n",
    "for i in range(1):\n",
    "    p = Thread(target=producer)\n",
    "    producers.append(p)\n",
    "    p.start()\n",
    "\n",
    "# make sure producers done\n",
    "for p in producers:\n",
    "    p.join()\n",
    "\n",
    "# block until all workers are done\n",
    "# q.join()\n",
    "# print('All work completed')"
   ]
  },
  {
   "cell_type": "code",
   "execution_count": null,
   "metadata": {},
   "outputs": [],
   "source": []
  }
 ],
 "metadata": {
  "kernelspec": {
   "display_name": ".venv",
   "language": "python",
   "name": "python3"
  },
  "language_info": {
   "codemirror_mode": {
    "name": "ipython",
    "version": 3
   },
   "file_extension": ".py",
   "mimetype": "text/x-python",
   "name": "python",
   "nbconvert_exporter": "python",
   "pygments_lexer": "ipython3",
   "version": "3.11.8"
  }
 },
 "nbformat": 4,
 "nbformat_minor": 2
}
