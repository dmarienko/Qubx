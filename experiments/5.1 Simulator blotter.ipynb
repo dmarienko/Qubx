{
 "cells": [
  {
   "cell_type": "code",
   "execution_count": 67,
   "metadata": {},
   "outputs": [
    {
     "name": "stdout",
     "output_type": "stream",
     "text": [
      " >  [\u001b[32mdev\u001b[0m] \u001b[31minstalling cython rebuilding hook\u001b[0m\n",
      "The autoreload extension is already loaded. To reload it, use:\n",
      "  %reload_ext autoreload\n"
     ]
    }
   ],
   "source": [
    "import sys, os, re; sys.path = ([\"../src/\", \"../\"] if re.match(r'^(\\w\\:\\\\)|(/)', os.getcwd()) else [])+ sys.path \n",
    "\n",
    "from typing import Any, Optional, List\n",
    "\n",
    "import qubx\n",
    "%qubxd dev \n",
    "\n",
    "%load_ext autoreload\n",
    "%autoreload 2\n",
    "\n",
    "from qubx import lookup, logger\n",
    "from qubx.core.strategy import IStrategy, StrategyContext, TriggerEvent\n",
    "from qubx.pandaz.utils import *\n",
    "\n",
    "# - - - - - - - - - - - - - - - - - - - - - - - -\n",
    "from qubx.trackers import PortfolioRebalancerTracker\n",
    "from qubx.core.series import Quote\n",
    "from qubx.ta.indicators import sma, ema\n",
    "from qubx.data.readers import CsvStorageDataReader, MultiQdbConnector, AsTimestampedRecords, AsQuotes, RestoreTicksFromOHLC\n",
    "from qubx.core.basics import Deal, Instrument, Order, Position, Signal\n",
    "from qubx.core.utils import recognize_time\n",
    "\n",
    "from qubx.impl.ccxt_connector import CCXTExchangesConnector\n",
    "from qubx.impl.ccxt_trading import CCXTTradingConnector\n",
    "from qubx.utils.runner import get_account_config\n",
    "\n",
    "def Q(time: str, bid: float, ask: float) -> Quote:\n",
    "    return Quote(recognize_time(time), bid, ask, 0, 0)\n",
    "\n",
    "# r = CsvStorageDataReader(\"../tests/data/csv\")\n",
    "r = MultiQdbConnector('xlydian-data')\n",
    "\n",
    "from qubx import QubxLogConfig"
   ]
  },
  {
   "cell_type": "code",
   "execution_count": 164,
   "metadata": {},
   "outputs": [],
   "source": [
    "class TestStrategy(IStrategy):\n",
    "    timeframe: str = \"1Min\"\n",
    "\n",
    "    def on_start(self, ctx: StrategyContext):\n",
    "        logger.info(f\" -> Strategy started | {ctx.time()}\")\n",
    "\n",
    "    def on_fit(self, ctx: \"StrategyContext\", fit_time: str | pd.Timestamp, previous_fit_time: str | pd.Timestamp | None = None):\n",
    "        logger.info(f\" -> Fit is called | fit_time: {fit_time} / prev: {previous_fit_time}\")\n",
    "\n",
    "    def on_event(self, ctx: StrategyContext, event: TriggerEvent) -> List[Signal] | None:\n",
    "        logger.info(f\" ||||| {event.time} -> {event} |||||\")\n",
    "\n",
    "        for i in ctx.instruments:\n",
    "            logger.info(f\"\\t{i.symbol} : {ctx.broker_provider.get_quote(i.symbol)}\")\n",
    "\n",
    "            if True:\n",
    "                ohlc = ctx.ohlc(i, self.timeframe)\n",
    "                fast = ema(ohlc.close, 5)\n",
    "                slow = ema(ohlc.close, 12)\n",
    "                pos = ctx.positions[i.symbol].quantity\n",
    "                # cap = ctx.get_capital()\n",
    "                # n = len(ctx.instruments)\n",
    "                if pos <= 0:\n",
    "                    if (fast[0] > slow[0]) and (fast[1] < slow[1]):\n",
    "                        ctx.trade(i, abs(pos) + i.min_size * 10)\n",
    "\n",
    "                if pos >= 0:\n",
    "                    if (fast[0] < slow[0]) and (fast[1] > slow[1]):\n",
    "                        ctx.trade(i, -pos - i.min_size * 10)\n",
    "\n",
    "        return None\n",
    "\n",
    "    def ohlcs(self, timeframe: str) -> Dict[str, pd.DataFrame]:\n",
    "        return {s.symbol: self.ctx.ohlc(s, timeframe).pd() for s in self.ctx.instruments}\n",
    "\n",
    "    def on_stop(self, ctx: StrategyContext):\n",
    "        logger.info(f\" -> strategy is stopped\")\n",
    "\n",
    "    def tracker(self, ctx: StrategyContext) -> PortfolioRebalancerTracker:\n",
    "        return PortfolioRebalancerTracker(ctx, 1000, 0)"
   ]
  },
  {
   "cell_type": "markdown",
   "metadata": {},
   "source": [
    "# Simulated broker and paper trading"
   ]
  },
  {
   "cell_type": "code",
   "execution_count": 3,
   "metadata": {},
   "outputs": [],
   "source": [
    "from qubx.backtester.simulator import SimulatedTrading"
   ]
  },
  {
   "cell_type": "code",
   "execution_count": 8,
   "metadata": {},
   "outputs": [
    {
     "name": "stdout",
     "output_type": "stream",
     "text": [
      "\u001b[32m2024-07-19 12:57:49.247\u001b[0m [ \u001b[1mℹ️\u001b[0m ] \u001b[1mbinance initialized - current time 1970-01-01T00:00:00.000000000\u001b[0m\n",
      "\u001b[32m2024-07-19 12:57:49.248\u001b[0m [ \u001b[33m\u001b[1m⚠️\u001b[0m ] \u001b[36mqubx.core.loggers\u001b[0m:\u001b[36m__init__\u001b[0m:\u001b[36m349\u001b[0m - \u001b[33m\u001b[1mLog writer is not defined - strategy activity will not be saved !\u001b[0m\n",
      "\u001b[32m2024-07-19 12:57:49.248\u001b[0m [ \u001b[1mℹ️\u001b[0m ] \u001b[1m(StrategyContext) set strategy parameters:\n",
      "\tset \u001b[32mtimeframe\u001b[0m\u001b[1m <- \u001b[31m1Min\u001b[0m\u001b[1m\u001b[0m\n",
      "\u001b[32m2024-07-19 12:57:49.249\u001b[0m [ \u001b[34m\u001b[1m🐞\u001b[0m ] \u001b[34m\u001b[1mTriggering strategy on every 1Min bar after 55S\u001b[0m\n",
      "\u001b[32m2024-07-19 12:57:49.248\u001b[0m [ \u001b[33m\u001b[1m⚠️\u001b[0m ] \u001b[36mqubx.core.loggers\u001b[0m:\u001b[36m__init__\u001b[0m:\u001b[36m349\u001b[0m - \u001b[33m\u001b[1mLog writer is not defined - strategy activity will not be saved !\u001b[0m\n",
      "\u001b[32m2024-07-19 12:57:49.248\u001b[0m [ \u001b[1mℹ️\u001b[0m ] \u001b[1m(StrategyContext) set strategy parameters:\n",
      "\tset \u001b[32mtimeframe\u001b[0m\u001b[1m <- \u001b[31m1Min\u001b[0m\u001b[1m\u001b[0m\n",
      "\u001b[32m2024-07-19 12:57:49.249\u001b[0m [ \u001b[34m\u001b[1m🐞\u001b[0m ] \u001b[34m\u001b[1mTriggering strategy on every 1Min bar after 55S\u001b[0m\n"
     ]
    }
   ],
   "source": [
    "auth = get_account_config('binance-qbx', './configs/.env')\n",
    "\n",
    "sim = SimulatedTrading('binance', 10000, 'vip0_usdt', 'USDT')\n",
    "exch = CCXTExchangesConnector('binance', sim, **auth)\n",
    "\n",
    "instruments = [lookup.find_symbol('BINANCE', 'BTCUSDT')]\n",
    "ctx = StrategyContext(\n",
    "    TestStrategy(), dict(\n",
    "        timeframe='1Min',\n",
    "    ), \n",
    "    exch, instruments=instruments,  # type: ignore\n",
    "    md_subscription=dict(type='ohlc', timeframe='1Min', nback=0),\n",
    "    trigger_spec='1Min -5Sec',\n",
    ")\n",
    "S = ctx.strategy"
   ]
  },
  {
   "cell_type": "code",
   "execution_count": null,
   "metadata": {},
   "outputs": [],
   "source": [
    "ctx.start()"
   ]
  },
  {
   "cell_type": "code",
   "execution_count": null,
   "metadata": {},
   "outputs": [],
   "source": [
    "exch.get_historical_ohlcs('BTCUSDT', '5Min', 200)"
   ]
  },
  {
   "cell_type": "code",
   "execution_count": null,
   "metadata": {},
   "outputs": [],
   "source": [
    "ctx.ohlc(ctx.instruments[0], '1Min')"
   ]
  },
  {
   "cell_type": "code",
   "execution_count": 6,
   "metadata": {},
   "outputs": [
    {
     "name": "stdout",
     "output_type": "stream",
     "text": [
      "??? [BINANCE:BTCUSDT]       0.00000      0.00    +0.0000 | nan        0.00\n",
      "[]\n"
     ]
    }
   ],
   "source": [
    "print(exch.trading_service.get_position(instruments[0]))\n",
    "print(exch.trading_service.get_orders())"
   ]
  },
  {
   "cell_type": "code",
   "execution_count": 13,
   "metadata": {},
   "outputs": [
    {
     "name": "stdout",
     "output_type": "stream",
     "text": [
      "\u001b[32m2024-07-19 13:35:58.845\u001b[0m [ \u001b[1mℹ️\u001b[0m ] \u001b[1m(StrategyContext) sending market buy for 0.1 of BTCUSDT ...\u001b[0m\n",
      "\u001b[32m2024-07-19 13:35:58.859\u001b[0m [ \u001b[34m\u001b[1m🐞\u001b[0m ] \u001b[34m\u001b[1m[OMS] BTCUSDT - SIM-ORDER-BTCUSDT-100001 MARKET BUY 0.1 executed at 64125.994999999995\u001b[0m\n",
      "\u001b[32m2024-07-19 13:35:58.859\u001b[0m [ \u001b[1mℹ️\u001b[0m ] \u001b[1m  ::  traded 0.1 for BTCUSDT @ 64125.994999999995 -> 0.00\u001b[0m\n",
      "\u001b[32m2024-07-19 13:35:58.861\u001b[0m [ \u001b[1mℹ️\u001b[0m ] \u001b[1mOrder SIM-ORDER-BTCUSDT-100001 MARKET BUY 0.1 of BTCUSDT -> CLOSED\u001b[0m\n"
     ]
    },
    {
     "data": {
      "text/plain": [
       "Order(id='SIM-ORDER-BTCUSDT-100001', type='MARKET', symbol='BTCUSDT', time=numpy.datetime64('2024-07-19T10:35:58.342475520'), quantity=0.1, price=0, side='BUY', status='CLOSED', time_in_force='gtc', client_id='TestStrategy_BTCUSDT_1', cost=0.0)"
      ]
     },
     "execution_count": 13,
     "metadata": {},
     "output_type": "execute_result"
    }
   ],
   "source": [
    "ctx.trade('BTCUSDT', 0.1)"
   ]
  },
  {
   "cell_type": "code",
   "execution_count": 14,
   "metadata": {},
   "outputs": [
    {
     "name": "stdout",
     "output_type": "stream",
     "text": [
      "\u001b[32m2024-07-19 13:36:00.978\u001b[0m [ \u001b[1mℹ️\u001b[0m ] \u001b[1m(StrategyContext) sending market sell for 0.1 of BTCUSDT ...\u001b[0m\n",
      "\u001b[32m2024-07-19 13:36:00.991\u001b[0m [ \u001b[34m\u001b[1m🐞\u001b[0m ] \u001b[34m\u001b[1m[OMS] BTCUSDT - SIM-ORDER-BTCUSDT-100002 MARKET SELL 0.1 executed at 64125.985\u001b[0m\n",
      "\u001b[32m2024-07-19 13:36:00.992\u001b[0m [ \u001b[1mℹ️\u001b[0m ] \u001b[1m  ::  traded -0.1 for BTCUSDT @ 64125.985 -> -0.00\u001b[0m\n",
      "\u001b[32m2024-07-19 13:36:00.992\u001b[0m [ \u001b[1mℹ️\u001b[0m ] \u001b[1mOrder SIM-ORDER-BTCUSDT-100002 MARKET SELL 0.1 of BTCUSDT -> CLOSED\u001b[0m\n"
     ]
    },
    {
     "data": {
      "text/plain": [
       "Order(id='SIM-ORDER-BTCUSDT-100002', type='MARKET', symbol='BTCUSDT', time=numpy.datetime64('2024-07-19T10:36:00.241386240'), quantity=0.1, price=0, side='SELL', status='CLOSED', time_in_force='gtc', client_id='TestStrategy_BTCUSDT_2', cost=0.0)"
      ]
     },
     "execution_count": 14,
     "metadata": {},
     "output_type": "execute_result"
    }
   ],
   "source": [
    "ctx.trade('BTCUSDT', -0.1)"
   ]
  },
  {
   "cell_type": "code",
   "execution_count": 183,
   "metadata": {},
   "outputs": [
    {
     "name": "stdout",
     "output_type": "stream",
     "text": [
      "\u001b[32m2024-07-19 12:34:40.521\u001b[0m [ \u001b[1mℹ️\u001b[0m ] \u001b[1m(StrategyContext) sending limit buy for 0.1 of BTCUSDT ...\u001b[0m\n",
      "\u001b[32m2024-07-19 12:34:40.522\u001b[0m [ \u001b[34m\u001b[1m🐞\u001b[0m ] \u001b[34m\u001b[1m[OMS] BTCUSDT - registered SIM-ORDER-BTCUSDT-100003 LIMIT BUY 0.1 45000\u001b[0m\n"
     ]
    },
    {
     "data": {
      "text/plain": [
       "Order(id='SIM-ORDER-BTCUSDT-100003', type='LIMIT', symbol='BTCUSDT', time=numpy.datetime64('2024-07-19T09:34:40.987281920'), quantity=0.1, price=45000, side='BUY', status='OPEN', time_in_force='gtc', client_id='TestStrategy_BTCUSDT_3', cost=0.0)"
      ]
     },
     "execution_count": 183,
     "metadata": {},
     "output_type": "execute_result"
    }
   ],
   "source": [
    "ctx.trade('BTCUSDT', 0.1, 45000)"
   ]
  },
  {
   "cell_type": "code",
   "execution_count": 184,
   "metadata": {},
   "outputs": [
    {
     "name": "stdout",
     "output_type": "stream",
     "text": [
      "\u001b[32m2024-07-19 12:34:43.226\u001b[0m [ \u001b[34m\u001b[1m🐞\u001b[0m ] \u001b[34m\u001b[1m[OMS] BTCUSDT - SIM-ORDER-BTCUSDT-100003 LIMIT BUY 0.1 canceled\u001b[0m\n",
      "\u001b[32m2024-07-19 12:34:43.227\u001b[0m [ \u001b[1mℹ️\u001b[0m ] \u001b[1mOrder SIM-ORDER-BTCUSDT-100003 LIMIT BUY 0.1 of BTCUSDT -> CANCELED\u001b[0m\n",
      "\u001b[32m2024-07-19 12:34:43.227\u001b[0m [ \u001b[1mℹ️\u001b[0m ] \u001b[1mOrder SIM-ORDER-BTCUSDT-100003 LIMIT BUY 0.1 of BTCUSDT -> CANCELED\u001b[0m\n"
     ]
    }
   ],
   "source": [
    "ctx.cancel('BTCUSDT')"
   ]
  },
  {
   "cell_type": "code",
   "execution_count": 16,
   "metadata": {},
   "outputs": [
    {
     "name": "stdout",
     "output_type": "stream",
     "text": [
      "\u001b[32m2024-07-19 13:37:02.809\u001b[0m [ \u001b[1mℹ️\u001b[0m ] \u001b[1m(StrategyContext) Market data processing stopped\u001b[0m\n",
      "\u001b[32m2024-07-19 13:37:02.825\u001b[0m [ \u001b[1mℹ️\u001b[0m ] \u001b[1m(CCXTDataConnector) BTCUSDT OHLCV listening has been stopped\u001b[0m\n",
      "\u001b[32m2024-07-19 13:37:02.825\u001b[0m [ \u001b[1mℹ️\u001b[0m ] \u001b[1m(CCXTDataConnector) BTCUSDT OHLCV listening has been stopped\u001b[0m\n",
      "\u001b[32m2024-07-19 13:37:02.828\u001b[0m [ \u001b[1mℹ️\u001b[0m ] \u001b[1m(CCXTDataConnector) BTCUSDT execution reports listening has been stopped\u001b[0m\n"
     ]
    },
    {
     "name": "stdout",
     "output_type": "stream",
     "text": [
      "\u001b[32m2024-07-19 13:37:02.809\u001b[0m [ \u001b[1mℹ️\u001b[0m ] \u001b[1m -> strategy is stopped\u001b[0m\n",
      "\u001b[32m2024-07-19 13:37:02.809\u001b[0m [ \u001b[1mℹ️\u001b[0m ] \u001b[1m\t\u001b[37mStrategyContext.handler\u001b[0m\u001b[1m took \u001b[31m0.0000023\u001b[0m\u001b[1m secs\u001b[0m\n",
      "\u001b[32m2024-07-19 13:37:02.809\u001b[0m [ \u001b[1mℹ️\u001b[0m ] \u001b[1m\t\u001b[37mloggers.notify\u001b[0m\u001b[1m took \u001b[31m0.0000025\u001b[0m\u001b[1m secs\u001b[0m\n",
      "\u001b[32m2024-07-19 13:37:02.809\u001b[0m [ \u001b[1mℹ️\u001b[0m ] \u001b[1m\t\u001b[37mStrategyContext._process_incoming_data\u001b[0m\u001b[1m took \u001b[31m0.0000214\u001b[0m\u001b[1m secs\u001b[0m\n",
      "\u001b[32m2024-07-19 13:37:02.809\u001b[0m [ \u001b[1mℹ️\u001b[0m ] \u001b[1m\t\u001b[37mCachedMarketDataHolder.update_by_bar\u001b[0m\u001b[1m took \u001b[31m0.0000592\u001b[0m\u001b[1m secs\u001b[0m\n",
      "\u001b[32m2024-07-19 13:37:02.809\u001b[0m [ \u001b[1mℹ️\u001b[0m ] \u001b[1m\t\u001b[37mStrategyContext._processing_bar\u001b[0m\u001b[1m took \u001b[31m0.0000764\u001b[0m\u001b[1m secs\u001b[0m\n",
      "\u001b[32m2024-07-19 13:37:02.809\u001b[0m [ \u001b[1mℹ️\u001b[0m ] \u001b[1m\t\u001b[37mstrategy.on_fit\u001b[0m\u001b[1m took \u001b[31m0.0007883\u001b[0m\u001b[1m secs\u001b[0m\n",
      "\u001b[32m2024-07-19 13:37:02.821\u001b[0m [ \u001b[1mℹ️\u001b[0m ] \u001b[1m\t\u001b[37mCachedMarketDataHolder.get_ohlcv\u001b[0m\u001b[1m took \u001b[31m0.0000692\u001b[0m\u001b[1m secs\u001b[0m\n",
      "\u001b[32m2024-07-19 13:37:02.821\u001b[0m [ \u001b[1mℹ️\u001b[0m ] \u001b[1m\t\u001b[37mstrategy.on_event\u001b[0m\u001b[1m took \u001b[31m0.0048913\u001b[0m\u001b[1m secs\u001b[0m\n",
      "\u001b[32m2024-07-19 13:37:02.821\u001b[0m [ \u001b[1mℹ️\u001b[0m ] \u001b[1m\t\u001b[37mStrategyContext.trade\u001b[0m\u001b[1m took \u001b[31m0.0033806\u001b[0m\u001b[1m secs\u001b[0m\n",
      "\u001b[32m2024-07-19 13:37:02.823\u001b[0m [ \u001b[1mℹ️\u001b[0m ] \u001b[1m\t\u001b[37mStrategyContext._processing_order\u001b[0m\u001b[1m took \u001b[31m0.0006886\u001b[0m\u001b[1m secs\u001b[0m\n",
      "\u001b[32m2024-07-19 13:37:02.824\u001b[0m [ \u001b[1mℹ️\u001b[0m ] \u001b[1m\t\u001b[37mStrategyContext._processing_deals\u001b[0m\u001b[1m took \u001b[31m0.0014585\u001b[0m\u001b[1m secs\u001b[0m\n",
      "\u001b[32m2024-07-19 13:37:02.809\u001b[0m [ \u001b[1mℹ️\u001b[0m ] \u001b[1m\t\u001b[37mStrategyContext.handler\u001b[0m\u001b[1m took \u001b[31m0.0000023\u001b[0m\u001b[1m secs\u001b[0m\n",
      "\u001b[32m2024-07-19 13:37:02.809\u001b[0m [ \u001b[1mℹ️\u001b[0m ] \u001b[1m\t\u001b[37mloggers.notify\u001b[0m\u001b[1m took \u001b[31m0.0000025\u001b[0m\u001b[1m secs\u001b[0m\n",
      "\u001b[32m2024-07-19 13:37:02.809\u001b[0m [ \u001b[1mℹ️\u001b[0m ] \u001b[1m\t\u001b[37mStrategyContext._process_incoming_data\u001b[0m\u001b[1m took \u001b[31m0.0000214\u001b[0m\u001b[1m secs\u001b[0m\n",
      "\u001b[32m2024-07-19 13:37:02.809\u001b[0m [ \u001b[1mℹ️\u001b[0m ] \u001b[1m\t\u001b[37mCachedMarketDataHolder.update_by_bar\u001b[0m\u001b[1m took \u001b[31m0.0000592\u001b[0m\u001b[1m secs\u001b[0m\n",
      "\u001b[32m2024-07-19 13:37:02.809\u001b[0m [ \u001b[1mℹ️\u001b[0m ] \u001b[1m\t\u001b[37mStrategyContext._processing_bar\u001b[0m\u001b[1m took \u001b[31m0.0000764\u001b[0m\u001b[1m secs\u001b[0m\n",
      "\u001b[32m2024-07-19 13:37:02.809\u001b[0m [ \u001b[1mℹ️\u001b[0m ] \u001b[1m\t\u001b[37mstrategy.on_fit\u001b[0m\u001b[1m took \u001b[31m0.0007883\u001b[0m\u001b[1m secs\u001b[0m\n",
      "\u001b[32m2024-07-19 13:37:02.821\u001b[0m [ \u001b[1mℹ️\u001b[0m ] \u001b[1m\t\u001b[37mCachedMarketDataHolder.get_ohlcv\u001b[0m\u001b[1m took \u001b[31m0.0000692\u001b[0m\u001b[1m secs\u001b[0m\n",
      "\u001b[32m2024-07-19 13:37:02.821\u001b[0m [ \u001b[1mℹ️\u001b[0m ] \u001b[1m\t\u001b[37mstrategy.on_event\u001b[0m\u001b[1m took \u001b[31m0.0048913\u001b[0m\u001b[1m secs\u001b[0m\n",
      "\u001b[32m2024-07-19 13:37:02.821\u001b[0m [ \u001b[1mℹ️\u001b[0m ] \u001b[1m\t\u001b[37mStrategyContext.trade\u001b[0m\u001b[1m took \u001b[31m0.0033806\u001b[0m\u001b[1m secs\u001b[0m\n",
      "\u001b[32m2024-07-19 13:37:02.823\u001b[0m [ \u001b[1mℹ️\u001b[0m ] \u001b[1m\t\u001b[37mStrategyContext._processing_order\u001b[0m\u001b[1m took \u001b[31m0.0006886\u001b[0m\u001b[1m secs\u001b[0m\n",
      "\u001b[32m2024-07-19 13:37:02.824\u001b[0m [ \u001b[1mℹ️\u001b[0m ] \u001b[1m\t\u001b[37mStrategyContext._processing_deals\u001b[0m\u001b[1m took \u001b[31m0.0014585\u001b[0m\u001b[1m secs\u001b[0m\n"
     ]
    }
   ],
   "source": [
    "ctx.stop()\n",
    "exch.close()"
   ]
  },
  {
   "cell_type": "markdown",
   "metadata": {},
   "source": [
    "# Simulated data provider"
   ]
  },
  {
   "cell_type": "code",
   "execution_count": 182,
   "metadata": {},
   "outputs": [],
   "source": [
    "from qubx.backtester.simulator import SimulatedTrading, SimulatedExchange\n",
    "from qubx.core.loggers import CsvFileLogsWriter, InMemoryLogsWriter\n",
    "\n",
    "QubxLogConfig.set_log_level(\"WARNING\")\n",
    "# QubxLogConfig.set_log_level(\"DEBUG\")"
   ]
  },
  {
   "cell_type": "code",
   "execution_count": 185,
   "metadata": {},
   "outputs": [],
   "source": [
    "sbroker = SimulatedTrading('binance', 10000, 'vip0_usdt', 'USDT', '2024-04-01 00:00:00')\n",
    "sdp = SimulatedExchange('binance', sbroker, r)\n",
    "\n",
    "instruments = [lookup.find_symbol('BINANCE.UM', s) for s in ['BTCUSDT', 'SOLUSDT']]#, 'LINKUSDT']]\n",
    "# instruments = [lookup.find_symbol('BINANCE.UM', s) for s in ['SOLUSDT']]#, 'LINKUSDT']]\n",
    "\n",
    "logs_writer = InMemoryLogsWriter('test', 'test', 'test')\n",
    "\n",
    "ctx = StrategyContext(\n",
    "    TestStrategy(), dict(timeframe='10Min'), \n",
    "    sdp, instruments=instruments,  # type: ignore\n",
    "    md_subscription=dict(type='ohlc', timeframe='5Min', nback=0), # TODO: doesn't work if nback > 0 !!!\n",
    "    trigger_spec='10Min -2Sec',\n",
    "    logs_writer=logs_writer,\n",
    "    # trigger_spec=\"*/10 * * * *\"\n",
    "\n",
    ")\n",
    "ctx.start()"
   ]
  },
  {
   "cell_type": "code",
   "execution_count": 186,
   "metadata": {},
   "outputs": [
    {
     "data": {
      "application/vnd.jupyter.widget-view+json": {
       "model_id": "b6d48db8c6c4430f90e78fa17c41cba6",
       "version_major": 2,
       "version_minor": 0
      },
      "text/plain": [
       "  0%|          | 0/104836 [00:00<?, ?it/s]"
      ]
     },
     "metadata": {},
     "output_type": "display_data"
    }
   ],
   "source": [
    "# %%time\n",
    "d = sdp.run('2024-01-01 00:00', '2024-04-01 00:00')\n",
    "# d = sdp.run('2024-04-01 00:00', '2024-04-15 00:00')\n",
    "ctx.stop()"
   ]
  },
  {
   "cell_type": "code",
   "execution_count": 187,
   "metadata": {},
   "outputs": [],
   "source": [
    "# pfl = pd.read_csv(\"logs/Strategy3_Account1_portfolio.csv\", index_col='timestamp', parse_dates=True)\n",
    "pfl = logs_writer.get_portfolio()\n",
    "exs = logs_writer.get_executions()"
   ]
  },
  {
   "cell_type": "code",
   "execution_count": null,
   "metadata": {},
   "outputs": [],
   "source": [
    "from qube.portfolio.reports import tearsheet\n",
    "from qube.portfolio.reports import split_cumulative_pnl\n",
    "tearsheet(pfl, 1000)"
   ]
  },
  {
   "cell_type": "code",
   "execution_count": 88,
   "metadata": {},
   "outputs": [
    {
     "data": {
      "text/html": [
       "<div>\n",
       "<style scoped>\n",
       "    .dataframe tbody tr th:only-of-type {\n",
       "        vertical-align: middle;\n",
       "    }\n",
       "\n",
       "    .dataframe tbody tr th {\n",
       "        vertical-align: top;\n",
       "    }\n",
       "\n",
       "    .dataframe thead th {\n",
       "        text-align: right;\n",
       "    }\n",
       "</style>\n",
       "<table border=\"1\" class=\"dataframe\">\n",
       "  <thead>\n",
       "    <tr style=\"text-align: right;\">\n",
       "      <th></th>\n",
       "      <th>instrument_id</th>\n",
       "      <th>side</th>\n",
       "      <th>filled_qty</th>\n",
       "      <th>price</th>\n",
       "      <th>commissions</th>\n",
       "      <th>commissions_quoted</th>\n",
       "    </tr>\n",
       "    <tr>\n",
       "      <th>timestamp</th>\n",
       "      <th></th>\n",
       "      <th></th>\n",
       "      <th></th>\n",
       "      <th></th>\n",
       "      <th></th>\n",
       "      <th></th>\n",
       "    </tr>\n",
       "  </thead>\n",
       "  <tbody>\n",
       "    <tr>\n",
       "      <th>2024-04-01 05:19:59.999</th>\n",
       "      <td>SOLUSDT</td>\n",
       "      <td>sell</td>\n",
       "      <td>-10.0</td>\n",
       "      <td>200.9585</td>\n",
       "      <td>None</td>\n",
       "      <td>None</td>\n",
       "    </tr>\n",
       "    <tr>\n",
       "      <th>2024-04-01 07:29:59.999</th>\n",
       "      <td>SOLUSDT</td>\n",
       "      <td>buy</td>\n",
       "      <td>20.0</td>\n",
       "      <td>199.1985</td>\n",
       "      <td>None</td>\n",
       "      <td>None</td>\n",
       "    </tr>\n",
       "    <tr>\n",
       "      <th>2024-04-01 07:49:59.999</th>\n",
       "      <td>SOLUSDT</td>\n",
       "      <td>sell</td>\n",
       "      <td>-20.0</td>\n",
       "      <td>198.4175</td>\n",
       "      <td>None</td>\n",
       "      <td>None</td>\n",
       "    </tr>\n",
       "    <tr>\n",
       "      <th>2024-04-01 09:39:59.999</th>\n",
       "      <td>SOLUSDT</td>\n",
       "      <td>buy</td>\n",
       "      <td>20.0</td>\n",
       "      <td>197.8745</td>\n",
       "      <td>None</td>\n",
       "      <td>None</td>\n",
       "    </tr>\n",
       "    <tr>\n",
       "      <th>2024-04-01 09:59:59.999</th>\n",
       "      <td>SOLUSDT</td>\n",
       "      <td>sell</td>\n",
       "      <td>-20.0</td>\n",
       "      <td>196.8675</td>\n",
       "      <td>None</td>\n",
       "      <td>None</td>\n",
       "    </tr>\n",
       "  </tbody>\n",
       "</table>\n",
       "</div>"
      ],
      "text/plain": [
       "                        instrument_id  side  filled_qty     price commissions  \\\n",
       "timestamp                                                                       \n",
       "2024-04-01 05:19:59.999       SOLUSDT  sell       -10.0  200.9585        None   \n",
       "2024-04-01 07:29:59.999       SOLUSDT   buy        20.0  199.1985        None   \n",
       "2024-04-01 07:49:59.999       SOLUSDT  sell       -20.0  198.4175        None   \n",
       "2024-04-01 09:39:59.999       SOLUSDT   buy        20.0  197.8745        None   \n",
       "2024-04-01 09:59:59.999       SOLUSDT  sell       -20.0  196.8675        None   \n",
       "\n",
       "                        commissions_quoted  \n",
       "timestamp                                   \n",
       "2024-04-01 05:19:59.999               None  \n",
       "2024-04-01 07:29:59.999               None  \n",
       "2024-04-01 07:49:59.999               None  \n",
       "2024-04-01 09:39:59.999               None  \n",
       "2024-04-01 09:59:59.999               None  "
      ]
     },
     "execution_count": 88,
     "metadata": {},
     "output_type": "execute_result"
    }
   ],
   "source": [
    "exs.head()"
   ]
  },
  {
   "cell_type": "code",
   "execution_count": 175,
   "metadata": {},
   "outputs": [
    {
     "data": {
      "text/plain": [
       "<Axes: xlabel='timestamp'>"
      ]
     },
     "execution_count": 175,
     "metadata": {},
     "output_type": "execute_result"
    },
    {
     "data": {
      "image/png": "[encoded data removed]",
      "text/plain": [
       "<Figure size 960x400 with 1 Axes>"
      ]
     },
     "metadata": {},
     "output_type": "display_data"
    }
   ],
   "source": [
    "# pfl[pfl['instrument_id'] == 'BTCUSDT'].pnl_quoted.plot();\n",
    "# pfl[pfl['instrument_id'] == 'SOLUSDT'].pnl_quoted.plot()\n",
    "# pfl[pfl['instrument_id'] == 'LINKUSDT'].pnl_quoted.plot()"
   ]
  }
 ],
 "metadata": {
  "kernelspec": {
   "display_name": ".venv",
   "language": "python",
   "name": "python3"
  },
  "language_info": {
   "codemirror_mode": {
    "name": "ipython",
    "version": 3
   },
   "file_extension": ".py",
   "mimetype": "text/x-python",
   "name": "python",
   "nbconvert_exporter": "python",
   "pygments_lexer": "ipython3",
   "version": "3.11.8"
  }
 },
 "nbformat": 4,
 "nbformat_minor": 2
}
