{
 "cells": [
  {
   "cell_type": "code",
   "execution_count": 2,
   "metadata": {},
   "outputs": [
    {
     "name": "stdout",
     "output_type": "stream",
     "text": [
      " >  [\u001b[32mdev\u001b[0m] \u001b[31minstalling cython rebuilding hook\u001b[0m\n",
      "\n",
      "⠀⠀⡰⡖⠒⠒⢒⢦⠀⠀   \n",
      "⠀⢠⠃⠈⢆⣀⣎⣀⣱⡀  \u001b[31mQUBX\u001b[0m | \u001b[36mQuantitative Backtesting Environment\u001b[0m \n",
      "⠀⢳⠒⠒⡞⠚⡄⠀⡰⠁         (c) 2024, ver. \u001b[35mDev\u001b[0m\n",
      "⠀⠀⠱⣜⣀⣀⣈⣦⠃⠀⠀⠀ \n",
      "        \n",
      "\u001b[32m2024-07-19 00:11:09.013\u001b[0m [ \u001b[1mℹ️\u001b[0m ] \u001b[1mNTP offset controller thread is started\u001b[0m\n"
     ]
    }
   ],
   "source": [
    "import sys, os, re; sys.path = ([\"../src/\", \"../\"] if re.match(r'^(\\w\\:\\\\)|(/)', os.getcwd()) else [])+ sys.path \n",
    "\n",
    "from typing import Any, Optional, List\n",
    "\n",
    "import qubx\n",
    "%qubxd dev \n",
    "\n",
    "%load_ext autoreload\n",
    "%autoreload 2\n",
    "import asyncio\n",
    "\n",
    "from qubx import lookup, logger\n",
    "from qubx.core.strategy import IStrategy, StrategyContext, TriggerEvent\n",
    "from qubx.pandaz.utils import *\n",
    "\n",
    "# - - - - - - - - - - - - - - - - - - - - - - - -\n",
    "from qubx.trackers import PortfolioRebalancerTracker\n",
    "from qubx.core.series import Quote\n",
    "from qubx.data.readers import CsvStorageDataReader, MultiQdbConnector, AsTimestampedRecords, AsQuotes, RestoreTicksFromOHLC\n",
    "from qubx.core.basics import Deal, Instrument, Order, Position, Signal\n",
    "from qubx.core.utils import recognize_time\n",
    "\n",
    "from qubx.impl.ccxt_connector import CCXTExchangesConnector\n",
    "from qubx.impl.ccxt_trading import CCXTTradingConnector\n",
    "from qubx.utils.runner import get_account_config\n",
    "\n",
    "def Q(time: str, bid: float, ask: float) -> Quote:\n",
    "    return Quote(recognize_time(time), bid, ask, 0, 0)"
   ]
  },
  {
   "cell_type": "code",
   "execution_count": 3,
   "metadata": {},
   "outputs": [],
   "source": [
    "class TestStrategy(IStrategy):\n",
    "    capital_invested: int = 1000\n",
    "\n",
    "    def on_start(self, ctx: StrategyContext):\n",
    "        logger.info(f\" -> Strategy started | {ctx.time()}\")\n",
    "\n",
    "    def on_fit(self, ctx: 'StrategyContext', fit_time: str | pd.Timestamp, previous_fit_time: str | pd.Timestamp | None = None):\n",
    "        logger.info(f\" -> Fit is called | fit_time: {fit_time} / prev: {previous_fit_time}\")\n",
    "\n",
    "    def on_event(self, ctx: StrategyContext, event: TriggerEvent) -> List[Signal] | None:\n",
    "        logger.info(f\" ||||| {event.time} -> {event} |||||\")\n",
    "\n",
    "        for i in ctx.instruments:\n",
    "            logger.info(f\"\\t{i.symbol} : {ctx.broker_provider.get_quote(i.symbol)}\")\n",
    "        logger.info(f\"- - - - - - - - - - - - - - - - - - - - - - -\")\n",
    "        return None\n",
    "\n",
    "    def ohlcs(self, timeframe:str) -> Dict[str, pd.DataFrame]:\n",
    "        return {s.symbol: self.ctx.ohlc(s, timeframe).pd() for s in self.ctx.instruments}\n",
    "\n",
    "    def on_stop(self, ctx: StrategyContext):\n",
    "        logger.info(f\" -> strategy is stopped\")\n",
    "\n",
    "    def tracker(self, ctx: StrategyContext) -> PortfolioRebalancerTracker:\n",
    "        return PortfolioRebalancerTracker(ctx, 1000, 0)"
   ]
  },
  {
   "cell_type": "markdown",
   "metadata": {},
   "source": [
    "# Simulated broker and paper trading"
   ]
  },
  {
   "cell_type": "code",
   "execution_count": 3,
   "metadata": {},
   "outputs": [],
   "source": [
    "from qubx.backtester.simulator import SimulatedTrading"
   ]
  },
  {
   "cell_type": "code",
   "execution_count": 4,
   "metadata": {},
   "outputs": [
    {
     "name": "stdout",
     "output_type": "stream",
     "text": [
      "\u001b[32m2024-07-16 11:27:39.515\u001b[0m [ \u001b[1mℹ️\u001b[0m ] \u001b[1mbinance initialized - current time 1970-01-01T00:00:00.000000000\u001b[0m\n",
      "\u001b[32m2024-07-16 11:27:39.524\u001b[0m [ \u001b[33m\u001b[1m⚠️\u001b[0m ] \u001b[36mqubx.core.loggers\u001b[0m:\u001b[36m__init__\u001b[0m:\u001b[36m324\u001b[0m - \u001b[33m\u001b[1mLog writer is not defined - strategy activity will not be saved !\u001b[0m\n",
      "\u001b[32m2024-07-16 11:27:39.524\u001b[0m [ \u001b[1mℹ️\u001b[0m ] \u001b[1m(StrategyContext) set strategy parameters:\n",
      "\tset \u001b[32mcapital_invested\u001b[0m\u001b[1m <- \u001b[31m100\u001b[0m\u001b[1m\u001b[0m\n",
      "\u001b[32m2024-07-16 11:27:39.525\u001b[0m [ \u001b[34m\u001b[1m🐞\u001b[0m ] \u001b[34m\u001b[1mTriggering strategy on every 1Min bar after 55S\u001b[0m\n",
      "\u001b[32m2024-07-16 11:27:39.524\u001b[0m [ \u001b[33m\u001b[1m⚠️\u001b[0m ] \u001b[36mqubx.core.loggers\u001b[0m:\u001b[36m__init__\u001b[0m:\u001b[36m324\u001b[0m - \u001b[33m\u001b[1mLog writer is not defined - strategy activity will not be saved !\u001b[0m\n",
      "\u001b[32m2024-07-16 11:27:39.524\u001b[0m [ \u001b[1mℹ️\u001b[0m ] \u001b[1m(StrategyContext) set strategy parameters:\n",
      "\tset \u001b[32mcapital_invested\u001b[0m\u001b[1m <- \u001b[31m100\u001b[0m\u001b[1m\u001b[0m\n",
      "\u001b[32m2024-07-16 11:27:39.525\u001b[0m [ \u001b[34m\u001b[1m🐞\u001b[0m ] \u001b[34m\u001b[1mTriggering strategy on every 1Min bar after 55S\u001b[0m\n"
     ]
    }
   ],
   "source": [
    "auth = get_account_config('binance-qbx', './configs/.env')\n",
    "\n",
    "sim = SimulatedTrading('binance', 10000, 'vip0_usdt', 'USDT')\n",
    "exch = CCXTExchangesConnector('binance', sim, **auth)\n",
    "\n",
    "instruments = [lookup.find_symbol('BINANCE', 'BTCUSDT')]\n",
    "ctx = StrategyContext(\n",
    "    TestStrategy(), dict(\n",
    "        capital_invested=100,\n",
    "        trading_allowed=False\n",
    "    ), \n",
    "    exch, instruments=instruments,  # type: ignore\n",
    "    md_subscription=dict(type='ohlc', timeframe='1Min', nback=0),\n",
    "    trigger_spec='1Min -5Sec',\n",
    ")\n",
    "S = ctx.strategy"
   ]
  },
  {
   "cell_type": "code",
   "execution_count": 5,
   "metadata": {},
   "outputs": [
    {
     "name": "stdout",
     "output_type": "stream",
     "text": [
      "\u001b[32m2024-07-16 11:27:42.734\u001b[0m [ \u001b[1mℹ️\u001b[0m ] \u001b[1m(StrategyContext) Subscribing to ohlc updates using {'timeframe': '1Min', 'nback': 0} for \n",
      "\t['BTCUSDT'] \u001b[0m\n",
      "\u001b[32m2024-07-16 11:27:42.734\u001b[0m [ \u001b[1mℹ️\u001b[0m ] \u001b[1mSubscribed on ohlc updates for 1 symbols: \n",
      "\t\t['BTCUSDT']\u001b[0m\n",
      "\u001b[32m2024-07-16 11:27:42.734\u001b[0m [ \u001b[1mℹ️\u001b[0m ] \u001b[1m -> Strategy started | 1970-01-01T00:00:00.000000000\u001b[0m\n",
      "\u001b[32m2024-07-16 11:27:42.734\u001b[0m [ \u001b[1mℹ️\u001b[0m ] \u001b[1m(StrategyContext) Start processing market data\u001b[0m\n",
      "\u001b[32m2024-07-16 11:27:42.734\u001b[0m [ \u001b[1mℹ️\u001b[0m ] \u001b[1m(StrategyContext) strategy is started\u001b[0m\n"
     ]
    },
    {
     "name": "stdout",
     "output_type": "stream",
     "text": [
      "\u001b[32m2024-07-16 11:27:47.303\u001b[0m [ \u001b[34m\u001b[1m🐞\u001b[0m ] \u001b[34m\u001b[1m \u001b[31m(2024-07-16T08:27:46.952262400)\u001b[0m\u001b[34m\u001b[1m DATA : \u001b[33m('BTCUSDT', 'bar', {o:62781.990000 | h:62782.140000 | l:62652.000000 | c:62652.000000 | v:1037665.532096})\u001b[0m\u001b[34m\u001b[1m\u001b[0m\n",
      "\u001b[32m2024-07-16 11:27:47.312\u001b[0m [ \u001b[34m\u001b[1m🐞\u001b[0m ] \u001b[34m\u001b[1m[2024-07-16T08:27:46.952262400]: Invoking TestStrategy on_fit('1970-01-01 00:00:00', 'None')\u001b[0m\n",
      "\u001b[32m2024-07-16 11:27:47.313\u001b[0m [ \u001b[1mℹ️\u001b[0m ] \u001b[1m -> Fit is called | fit_time: 1970-01-01 00:00:00 / prev: None\u001b[0m\n",
      "\u001b[32m2024-07-16 11:27:47.313\u001b[0m [ \u001b[34m\u001b[1m🐞\u001b[0m ] \u001b[34m\u001b[1m[2024-07-16T08:27:46.952262400]: TestStrategy is fitted\u001b[0m\n",
      "\u001b[32m2024-07-16 11:27:49.386\u001b[0m [ \u001b[34m\u001b[1m🐞\u001b[0m ] \u001b[34m\u001b[1m \u001b[31m(2024-07-16T08:27:49.035166976)\u001b[0m\u001b[34m\u001b[1m DATA : \u001b[33m('BTCUSDT', 'bar', {o:62781.990000 | h:62782.140000 | l:62651.990000 | c:62651.990000 | v:1041744.803504})\u001b[0m\u001b[34m\u001b[1m\u001b[0m\n",
      "\u001b[32m2024-07-16 11:27:51.462\u001b[0m [ \u001b[34m\u001b[1m🐞\u001b[0m ] \u001b[34m\u001b[1m \u001b[31m(2024-07-16T08:27:51.111800320)\u001b[0m\u001b[34m\u001b[1m DATA : \u001b[33m('BTCUSDT', 'bar', {o:62781.990000 | h:62782.140000 | l:62651.990000 | c:62655.990000 | v:1083726.049126})\u001b[0m\u001b[34m\u001b[1m\u001b[0m\n",
      "\u001b[32m2024-07-16 11:27:53.603\u001b[0m [ \u001b[34m\u001b[1m🐞\u001b[0m ] \u001b[34m\u001b[1m \u001b[31m(2024-07-16T08:27:53.252714240)\u001b[0m\u001b[34m\u001b[1m DATA : \u001b[33m('BTCUSDT', 'bar', {o:62781.990000 | h:62782.140000 | l:62651.990000 | c:62659.990000 | v:1099453.778236})\u001b[0m\u001b[34m\u001b[1m\u001b[0m\n",
      "\u001b[32m2024-07-16 11:27:55.764\u001b[0m [ \u001b[34m\u001b[1m🐞\u001b[0m ] \u001b[34m\u001b[1m \u001b[31m(2024-07-16T08:27:55.413300480)\u001b[0m\u001b[34m\u001b[1m DATA : \u001b[33m('BTCUSDT', 'bar', {o:62781.990000 | h:62782.140000 | l:62651.990000 | c:62679.890000 | v:1258663.764972})\u001b[0m\u001b[34m\u001b[1m\u001b[0m\n",
      "\u001b[32m2024-07-16 11:27:55.764\u001b[0m [ \u001b[1mℹ️\u001b[0m ] \u001b[1m ||||| 2024-07-16T08:27:55.413300480 -> TriggerEvent(time=numpy.datetime64('2024-07-16T08:27:55.413300480'), type='bar', instrument=Instrument(symbol='BTCUSDT', market_type='CRYPTO', exchange='BINANCE', base='BTC', quote='USDT', margin_symbol=None, min_tick=0.01, min_size_step=1e-05, min_size=1e-05, futures_info=None, _aux_instrument=None), data={o:62781.990000 | h:62782.140000 | l:62651.990000 | c:62679.890000 | v:1258663.764972}) |||||\u001b[0m\n",
      "\u001b[32m2024-07-16 11:27:58.198\u001b[0m [ \u001b[34m\u001b[1m🐞\u001b[0m ] \u001b[34m\u001b[1m \u001b[31m(2024-07-16T08:27:57.847285504)\u001b[0m\u001b[34m\u001b[1m DATA : \u001b[33m('BTCUSDT', 'bar', {o:62781.990000 | h:62782.140000 | l:62651.990000 | c:62686.970000 | v:1287217.660617})\u001b[0m\u001b[34m\u001b[1m\u001b[0m\n",
      "\u001b[32m2024-07-16 11:28:00.453\u001b[0m [ \u001b[34m\u001b[1m🐞\u001b[0m ] \u001b[34m\u001b[1m \u001b[31m(2024-07-16T08:28:00.102308864)\u001b[0m\u001b[34m\u001b[1m DATA : \u001b[33m('BTCUSDT', 'bar', {o:62781.990000 | h:62782.140000 | l:62651.990000 | c:62686.970000 | v:1292410.649219})\u001b[0m\u001b[34m\u001b[1m\u001b[0m\n",
      "\u001b[32m2024-07-16 11:28:00.469\u001b[0m [ \u001b[34m\u001b[1m🐞\u001b[0m ] \u001b[34m\u001b[1m \u001b[31m(2024-07-16T08:28:00.118398720)\u001b[0m\u001b[34m\u001b[1m DATA : \u001b[33m('BTCUSDT', 'bar', {o:62781.990000 | h:62782.140000 | l:62651.990000 | c:62686.970000 | v:1292461.425665})\u001b[0m\u001b[34m\u001b[1m\u001b[0m\n",
      "\u001b[32m2024-07-16 11:28:02.531\u001b[0m [ \u001b[34m\u001b[1m🐞\u001b[0m ] \u001b[34m\u001b[1m \u001b[31m(2024-07-16T08:28:02.180138240)\u001b[0m\u001b[34m\u001b[1m DATA : \u001b[33m('BTCUSDT', 'bar', {o:62686.970000 | h:62686.980000 | l:62672.860000 | c:62672.860000 | v:212801.330803})\u001b[0m\u001b[34m\u001b[1m\u001b[0m\n",
      "\u001b[32m2024-07-16 11:28:04.702\u001b[0m [ \u001b[34m\u001b[1m🐞\u001b[0m ] \u001b[34m\u001b[1m \u001b[31m(2024-07-16T08:28:04.351422976)\u001b[0m\u001b[34m\u001b[1m DATA : \u001b[33m('BTCUSDT', 'bar', {o:62686.970000 | h:62686.980000 | l:62636.000000 | c:62636.010000 | v:511735.386624})\u001b[0m\u001b[34m\u001b[1m\u001b[0m\n",
      "\u001b[32m2024-07-16 11:28:06.799\u001b[0m [ \u001b[34m\u001b[1m🐞\u001b[0m ] \u001b[34m\u001b[1m \u001b[31m(2024-07-16T08:28:06.442924544)\u001b[0m\u001b[34m\u001b[1m DATA : \u001b[33m('BTCUSDT', 'bar', {o:62686.970000 | h:62686.980000 | l:62624.000000 | c:62624.000000 | v:572927.515655})\u001b[0m\u001b[34m\u001b[1m\u001b[0m\n",
      "\u001b[32m2024-07-16 11:28:08.861\u001b[0m [ \u001b[34m\u001b[1m🐞\u001b[0m ] \u001b[34m\u001b[1m \u001b[31m(2024-07-16T08:28:08.510762752)\u001b[0m\u001b[34m\u001b[1m DATA : \u001b[33m('BTCUSDT', 'bar', {o:62686.970000 | h:62686.980000 | l:62623.990000 | c:62624.000000 | v:580624.631472})\u001b[0m\u001b[34m\u001b[1m\u001b[0m\n",
      "\u001b[32m2024-07-16 11:28:10.931\u001b[0m [ \u001b[34m\u001b[1m🐞\u001b[0m ] \u001b[34m\u001b[1m \u001b[31m(2024-07-16T08:28:10.580241664)\u001b[0m\u001b[34m\u001b[1m DATA : \u001b[33m('BTCUSDT', 'bar', {o:62686.970000 | h:62686.980000 | l:62623.990000 | c:62624.000000 | v:604490.010186})\u001b[0m\u001b[34m\u001b[1m\u001b[0m\n",
      "\u001b[32m2024-07-16 11:28:12.310\u001b[0m [ \u001b[34m\u001b[1m🐞\u001b[0m ] \u001b[34m\u001b[1m \u001b[31m(2024-07-16T08:28:10.580241664)\u001b[0m\u001b[34m\u001b[1m DATA : \u001b[33m(None, None, None)\u001b[0m\u001b[34m\u001b[1m\u001b[0m\n",
      "\u001b[32m2024-07-16 11:28:12.310\u001b[0m [ \u001b[1mℹ️\u001b[0m ] \u001b[1m(StrategyContext) Market data processing stopped\u001b[0m\n",
      "\u001b[32m2024-07-16 11:28:12.321\u001b[0m [ \u001b[1mℹ️\u001b[0m ] \u001b[1m(CCXTDataConnector) BTCUSDT OHLCV listening has been stopped\u001b[0m\n",
      "\u001b[32m2024-07-16 11:28:12.321\u001b[0m [ \u001b[1mℹ️\u001b[0m ] \u001b[1m(CCXTDataConnector) BTCUSDT execution reports listening has been stopped\u001b[0m\n"
     ]
    }
   ],
   "source": [
    "ctx.start()"
   ]
  },
  {
   "cell_type": "code",
   "execution_count": null,
   "metadata": {},
   "outputs": [],
   "source": [
    "exch.get_historical_ohlcs('BTCUSDT', '5Min', 200)"
   ]
  },
  {
   "cell_type": "code",
   "execution_count": 15,
   "metadata": {},
   "outputs": [
    {
     "name": "stdout",
     "output_type": "stream",
     "text": [
      "??? [BINANCE:BTCUSDT]       0.00000      0.00    +0.0000 | nan        0.00\n",
      "[]\n"
     ]
    }
   ],
   "source": [
    "print(exch.trading_service.get_position(instruments[0]))\n",
    "print(exch.trading_service.get_orders())"
   ]
  },
  {
   "cell_type": "code",
   "execution_count": 11,
   "metadata": {},
   "outputs": [
    {
     "name": "stdout",
     "output_type": "stream",
     "text": [
      "\u001b[32m2024-07-13 16:27:46.163\u001b[0m [ \u001b[1mℹ️\u001b[0m ] \u001b[1m(StrategyContext) sending market buy for 0.1 of BTCUSDT ...\u001b[0m\n",
      "\u001b[32m2024-07-13 16:27:46.164\u001b[0m [ \u001b[34m\u001b[1m🐞\u001b[0m ] \u001b[34m\u001b[1m[OMS] BTCUSDT - SIM-ORDER-BTCUSDT-100001 MARKET BUY 0.1 executed at 58708.005\u001b[0m\n",
      "\u001b[32m2024-07-13 16:27:46.165\u001b[0m [ \u001b[1mℹ️\u001b[0m ] \u001b[1m  ::  traded 0.1 for BTCUSDT @ 58708.005 -> 0.00\u001b[0m\n",
      "\u001b[32m2024-07-13 16:27:46.165\u001b[0m [ \u001b[1mℹ️\u001b[0m ] \u001b[1mOrder SIM-ORDER-BTCUSDT-100001 MARKET BUY 0.1 of BTCUSDT -> CLOSED\u001b[0m\n"
     ]
    },
    {
     "data": {
      "text/plain": [
       "Order(id='SIM-ORDER-BTCUSDT-100001', type='MARKET', symbol='BTCUSDT', time=numpy.datetime64('2024-07-13T13:27:45.682696960'), quantity=0.1, price=0, side='BUY', status='CLOSED', time_in_force='gtc', client_id='TestStrategy_BTCUSDT_1', cost=0.0)"
      ]
     },
     "execution_count": 11,
     "metadata": {},
     "output_type": "execute_result"
    }
   ],
   "source": [
    "ctx.trade('BTCUSDT', 0.1)"
   ]
  },
  {
   "cell_type": "code",
   "execution_count": 17,
   "metadata": {},
   "outputs": [
    {
     "name": "stdout",
     "output_type": "stream",
     "text": [
      "\u001b[32m2024-07-13 16:29:50.614\u001b[0m [ \u001b[1mℹ️\u001b[0m ] \u001b[1m(StrategyContext) sending market sell for 0.1 of BTCUSDT ...\u001b[0m\n",
      "\u001b[32m2024-07-13 16:29:50.622\u001b[0m [ \u001b[34m\u001b[1m🐞\u001b[0m ] \u001b[34m\u001b[1m[OMS] BTCUSDT - SIM-ORDER-BTCUSDT-100001 MARKET SELL 0.1 executed at 58737.985\u001b[0m\n",
      "\u001b[32m2024-07-13 16:29:50.622\u001b[0m [ \u001b[1mℹ️\u001b[0m ] \u001b[1m  ::  traded -0.1 for BTCUSDT @ 58737.985 -> 0.00\u001b[0m\n",
      "\u001b[32m2024-07-13 16:29:50.623\u001b[0m [ \u001b[1mℹ️\u001b[0m ] \u001b[1mOrder SIM-ORDER-BTCUSDT-100001 MARKET SELL 0.1 of BTCUSDT -> CLOSED\u001b[0m\n"
     ]
    },
    {
     "data": {
      "text/plain": [
       "Order(id='SIM-ORDER-BTCUSDT-100001', type='MARKET', symbol='BTCUSDT', time=numpy.datetime64('2024-07-13T13:29:49.821481984'), quantity=0.1, price=0, side='SELL', status='CLOSED', time_in_force='gtc', client_id='TestStrategy_BTCUSDT_1', cost=0.0)"
      ]
     },
     "execution_count": 17,
     "metadata": {},
     "output_type": "execute_result"
    }
   ],
   "source": [
    "ctx.trade('BTCUSDT', -0.1)"
   ]
  },
  {
   "cell_type": "code",
   "execution_count": 10,
   "metadata": {},
   "outputs": [
    {
     "name": "stdout",
     "output_type": "stream",
     "text": [
      "\u001b[32m2024-07-13 16:26:15.073\u001b[0m [ \u001b[1mℹ️\u001b[0m ] \u001b[1m(StrategyContext) sending limit buy for 0.1 of BTCUSDT ...\u001b[0m\n",
      "\u001b[32m2024-07-13 16:26:15.074\u001b[0m [ \u001b[34m\u001b[1m🐞\u001b[0m ] \u001b[34m\u001b[1m[OMS] BTCUSDT - registered SIM-ORDER-BTCUSDT-100003 LIMIT BUY 0.1 45000\u001b[0m\n"
     ]
    },
    {
     "data": {
      "text/plain": [
       "Order(id='SIM-ORDER-BTCUSDT-100003', type='LIMIT', symbol='BTCUSDT', time=numpy.datetime64('2024-07-13T13:26:14.253228800'), quantity=0.1, price=45000, side='BUY', status='OPEN', time_in_force='gtc', client_id='TestStrategy_BTCUSDT_3', cost=0.0)"
      ]
     },
     "execution_count": 10,
     "metadata": {},
     "output_type": "execute_result"
    }
   ],
   "source": [
    "ctx.trade('BTCUSDT', 0.1, 45000)"
   ]
  },
  {
   "cell_type": "code",
   "execution_count": 12,
   "metadata": {},
   "outputs": [
    {
     "name": "stdout",
     "output_type": "stream",
     "text": [
      "\u001b[32m2024-07-13 16:26:23.040\u001b[0m [ \u001b[34m\u001b[1m🐞\u001b[0m ] \u001b[34m\u001b[1m[OMS] BTCUSDT - SIM-ORDER-BTCUSDT-100003 LIMIT BUY 0.1 canceled\u001b[0m\n",
      "\u001b[32m2024-07-13 16:26:23.041\u001b[0m [ \u001b[1mℹ️\u001b[0m ] \u001b[1mOrder SIM-ORDER-BTCUSDT-100003 LIMIT BUY 0.1 of BTCUSDT -> CANCELED\u001b[0m\n",
      "\u001b[32m2024-07-13 16:26:23.041\u001b[0m [ \u001b[1mℹ️\u001b[0m ] \u001b[1mOrder SIM-ORDER-BTCUSDT-100003 LIMIT BUY 0.1 of BTCUSDT -> CANCELED\u001b[0m\n"
     ]
    }
   ],
   "source": [
    "ctx.cancel('BTCUSDT')"
   ]
  },
  {
   "cell_type": "code",
   "execution_count": 7,
   "metadata": {},
   "outputs": [
    {
     "name": "stdout",
     "output_type": "stream",
     "text": [
      "\u001b[32m2024-07-16 11:28:12.310\u001b[0m [ \u001b[1mℹ️\u001b[0m ] \u001b[1m -> strategy is stopped\u001b[0m\n",
      "\u001b[32m2024-07-16 11:28:12.310\u001b[0m [ \u001b[1mℹ️\u001b[0m ] \u001b[1m\t\u001b[37mCachedMarketDataHolder.update_by_bar\u001b[0m\u001b[1m took \u001b[31m0.0000245\u001b[0m\u001b[1m secs\u001b[0m\n",
      "\u001b[32m2024-07-16 11:28:12.310\u001b[0m [ \u001b[1mℹ️\u001b[0m ] \u001b[1m\t\u001b[37mStrategyContext._processing_bar\u001b[0m\u001b[1m took \u001b[31m0.0000363\u001b[0m\u001b[1m secs\u001b[0m\n",
      "\u001b[32m2024-07-16 11:28:12.310\u001b[0m [ \u001b[1mℹ️\u001b[0m ] \u001b[1m\t\u001b[37mStrategyContext.handler\u001b[0m\u001b[1m took \u001b[31m0.0000044\u001b[0m\u001b[1m secs\u001b[0m\n",
      "\u001b[32m2024-07-16 11:28:12.310\u001b[0m [ \u001b[1mℹ️\u001b[0m ] \u001b[1m\t\u001b[37mstrategy.on_fit\u001b[0m\u001b[1m took \u001b[31m0.0013473\u001b[0m\u001b[1m secs\u001b[0m\n",
      "\u001b[32m2024-07-16 11:28:12.310\u001b[0m [ \u001b[1mℹ️\u001b[0m ] \u001b[1m\t\u001b[37mStrategyContext._process_incoming_data\u001b[0m\u001b[1m took \u001b[31m1.4273392\u001b[0m\u001b[1m secs\u001b[0m\n",
      "\u001b[32m2024-07-16 11:28:12.317\u001b[0m [ \u001b[1mℹ️\u001b[0m ] \u001b[1m\t\u001b[37mloggers.notify\u001b[0m\u001b[1m took \u001b[31m0.0000015\u001b[0m\u001b[1m secs\u001b[0m\n",
      "\u001b[32m2024-07-16 11:28:12.317\u001b[0m [ \u001b[1mℹ️\u001b[0m ] \u001b[1m\t\u001b[37mstrategy.on_event\u001b[0m\u001b[1m took \u001b[31m0.0006303\u001b[0m\u001b[1m secs\u001b[0m\n",
      "\u001b[32m2024-07-16 11:28:12.310\u001b[0m [ \u001b[1mℹ️\u001b[0m ] \u001b[1m\t\u001b[37mCachedMarketDataHolder.update_by_bar\u001b[0m\u001b[1m took \u001b[31m0.0000245\u001b[0m\u001b[1m secs\u001b[0m\n",
      "\u001b[32m2024-07-16 11:28:12.310\u001b[0m [ \u001b[1mℹ️\u001b[0m ] \u001b[1m\t\u001b[37mStrategyContext._processing_bar\u001b[0m\u001b[1m took \u001b[31m0.0000363\u001b[0m\u001b[1m secs\u001b[0m\n",
      "\u001b[32m2024-07-16 11:28:12.310\u001b[0m [ \u001b[1mℹ️\u001b[0m ] \u001b[1m\t\u001b[37mStrategyContext.handler\u001b[0m\u001b[1m took \u001b[31m0.0000044\u001b[0m\u001b[1m secs\u001b[0m\n",
      "\u001b[32m2024-07-16 11:28:12.310\u001b[0m [ \u001b[1mℹ️\u001b[0m ] \u001b[1m\t\u001b[37mstrategy.on_fit\u001b[0m\u001b[1m took \u001b[31m0.0013473\u001b[0m\u001b[1m secs\u001b[0m\n",
      "\u001b[32m2024-07-16 11:28:12.310\u001b[0m [ \u001b[1mℹ️\u001b[0m ] \u001b[1m\t\u001b[37mStrategyContext._process_incoming_data\u001b[0m\u001b[1m took \u001b[31m1.4273392\u001b[0m\u001b[1m secs\u001b[0m\n",
      "\u001b[32m2024-07-16 11:28:12.317\u001b[0m [ \u001b[1mℹ️\u001b[0m ] \u001b[1m\t\u001b[37mloggers.notify\u001b[0m\u001b[1m took \u001b[31m0.0000015\u001b[0m\u001b[1m secs\u001b[0m\n",
      "\u001b[32m2024-07-16 11:28:12.317\u001b[0m [ \u001b[1mℹ️\u001b[0m ] \u001b[1m\t\u001b[37mstrategy.on_event\u001b[0m\u001b[1m took \u001b[31m0.0006303\u001b[0m\u001b[1m secs\u001b[0m\n"
     ]
    }
   ],
   "source": [
    "ctx.stop()\n",
    "exch.close()"
   ]
  },
  {
   "cell_type": "markdown",
   "metadata": {},
   "source": [
    "# Simulated data provider"
   ]
  },
  {
   "cell_type": "code",
   "execution_count": 4,
   "metadata": {},
   "outputs": [
    {
     "name": "stdout",
     "output_type": "stream",
     "text": [
      "\u001b[32m2024-07-19 00:11:11.977\u001b[0m [ \u001b[34m\u001b[1m🐞\u001b[0m ] \u001b[34m\u001b[1mConnected to QuestDB at xlydian-data:8812\u001b[0m\n"
     ]
    }
   ],
   "source": [
    "# r = CsvStorageDataReader(\"../tests/data/csv\")\n",
    "r = MultiQdbConnector('xlydian-data')"
   ]
  },
  {
   "cell_type": "code",
   "execution_count": 12,
   "metadata": {},
   "outputs": [],
   "source": [
    "from qubx.backtester.simulator import SimulatedTrading, SimulatedExchange"
   ]
  },
  {
   "cell_type": "code",
   "execution_count": 13,
   "metadata": {},
   "outputs": [
    {
     "name": "stdout",
     "output_type": "stream",
     "text": [
      "\u001b[32m2024-07-19 00:12:28.802\u001b[0m [ \u001b[1mℹ️\u001b[0m ] \u001b[1mSimulatedData.binance initialized\u001b[0m\n",
      "\u001b[32m2024-07-19 00:12:28.803\u001b[0m [ \u001b[33m\u001b[1m⚠️\u001b[0m ] \u001b[36mqubx.core.loggers\u001b[0m:\u001b[36m__init__\u001b[0m:\u001b[36m324\u001b[0m - \u001b[33m\u001b[1mLog writer is not defined - strategy activity will not be saved !\u001b[0m\n",
      "\u001b[32m2024-07-19 00:12:28.804\u001b[0m [ \u001b[1mℹ️\u001b[0m ] \u001b[1m(StrategyContext) set strategy parameters:\n",
      "\tset \u001b[32mcapital_invested\u001b[0m\u001b[1m <- \u001b[31m100\u001b[0m\u001b[1m\u001b[0m\n",
      "\u001b[32m2024-07-19 00:12:28.805\u001b[0m [ \u001b[34m\u001b[1m🐞\u001b[0m ] \u001b[34m\u001b[1mNow is \u001b[31m2024-01-01 00:00:00\u001b[0m\u001b[34m\u001b[1m next (time_event) at \u001b[36m2024-01-01 00:05:00\u001b[0m\u001b[34m\u001b[1m\u001b[0m\n",
      "\u001b[32m2024-07-19 00:12:28.806\u001b[0m [ \u001b[1mℹ️\u001b[0m ] \u001b[1m(StrategyContext) Subscribing to ohlc updates using {'timeframe': '1Min', 'nback': 0} for \n",
      "\t['BTCUSDT', 'SOLUSDT', 'LINKUSDT'] \u001b[0m\n",
      "\u001b[32m2024-07-19 00:12:28.807\u001b[0m [ \u001b[1mℹ️\u001b[0m ] \u001b[1m -> Strategy started | 2024-01-01T00:00:00.000000000\u001b[0m\n",
      "\u001b[32m2024-07-19 00:12:28.807\u001b[0m [ \u001b[1mℹ️\u001b[0m ] \u001b[1m(StrategyContext) Start processing market data\u001b[0m\n",
      "\u001b[32m2024-07-19 00:12:28.809\u001b[0m [ \u001b[1mℹ️\u001b[0m ] \u001b[1m(StrategyContext) strategy is started\u001b[0m\n",
      "\u001b[32m2024-07-19 00:12:28.803\u001b[0m [ \u001b[33m\u001b[1m⚠️\u001b[0m ] \u001b[36mqubx.core.loggers\u001b[0m:\u001b[36m__init__\u001b[0m:\u001b[36m324\u001b[0m - \u001b[33m\u001b[1mLog writer is not defined - strategy activity will not be saved !\u001b[0m\n",
      "\u001b[32m2024-07-19 00:12:28.804\u001b[0m [ \u001b[1mℹ️\u001b[0m ] \u001b[1m(StrategyContext) set strategy parameters:\n",
      "\tset \u001b[32mcapital_invested\u001b[0m\u001b[1m <- \u001b[31m100\u001b[0m\u001b[1m\u001b[0m\n",
      "\u001b[32m2024-07-19 00:12:28.805\u001b[0m [ \u001b[34m\u001b[1m🐞\u001b[0m ] \u001b[34m\u001b[1mNow is \u001b[31m2024-01-01 00:00:00\u001b[0m\u001b[34m\u001b[1m next (time_event) at \u001b[36m2024-01-01 00:05:00\u001b[0m\u001b[34m\u001b[1m\u001b[0m\n",
      "\u001b[32m2024-07-19 00:12:28.806\u001b[0m [ \u001b[1mℹ️\u001b[0m ] \u001b[1m(StrategyContext) Subscribing to ohlc updates using {'timeframe': '1Min', 'nback': 0} for \n",
      "\t['BTCUSDT', 'SOLUSDT', 'LINKUSDT'] \u001b[0m\n",
      "\u001b[32m2024-07-19 00:12:28.807\u001b[0m [ \u001b[1mℹ️\u001b[0m ] \u001b[1m -> Strategy started | 2024-01-01T00:00:00.000000000\u001b[0m\n",
      "\u001b[32m2024-07-19 00:12:28.807\u001b[0m [ \u001b[1mℹ️\u001b[0m ] \u001b[1m(StrategyContext) Start processing market data\u001b[0m\n",
      "\u001b[32m2024-07-19 00:12:28.809\u001b[0m [ \u001b[1mℹ️\u001b[0m ] \u001b[1m(StrategyContext) strategy is started\u001b[0m\n"
     ]
    }
   ],
   "source": [
    "sbroker = SimulatedTrading('binance', 10000, 'vip0_usdt', 'USDT', '2024-01-01 00:00:00')\n",
    "sdp = SimulatedExchange('binance', sbroker, r)\n",
    "\n",
    "instruments = [lookup.find_symbol('BINANCE.UM', s) for s in ['BTCUSDT', 'SOLUSDT', 'LINKUSDT']]\n",
    "\n",
    "ctx = StrategyContext(\n",
    "    TestStrategy(), dict(capital_invested=100, trading_allowed=False), \n",
    "    sdp, instruments=instruments,  # type: ignore\n",
    "    md_subscription=dict(type='ohlc', timeframe='1Min', nback=0),\n",
    "    # trigger_spec='5Min -1Sec',\n",
    "    trigger_spec=\"*/5 * * * *\"\n",
    "\n",
    ")\n",
    "ctx.start()"
   ]
  },
  {
   "cell_type": "code",
   "execution_count": 14,
   "metadata": {},
   "outputs": [
    {
     "name": "stdout",
     "output_type": "stream",
     "text": [
      "\u001b[32m2024-07-19 00:12:29.670\u001b[0m [ \u001b[34m\u001b[1m🐞\u001b[0m ] \u001b[34m\u001b[1m[2024-01-01T00:00:00.001000000]: Invoking TestStrategy on_fit('2024-01-01 00:00:00', 'None')\u001b[0m\n",
      "\u001b[32m2024-07-19 00:12:29.671\u001b[0m [ \u001b[1mℹ️\u001b[0m ] \u001b[1m -> Fit is called | fit_time: 2024-01-01 00:00:00 / prev: None\u001b[0m\n",
      "\u001b[32m2024-07-19 00:12:29.672\u001b[0m [ \u001b[34m\u001b[1m🐞\u001b[0m ] \u001b[34m\u001b[1m[2024-01-01T00:00:00.001000000]: TestStrategy is fitted\u001b[0m\n",
      "\u001b[32m2024-07-19 00:12:29.678\u001b[0m [ \u001b[1mℹ️\u001b[0m ] \u001b[1m ||||| 2024-01-01T00:05:00.001000000 -> TriggerEvent(time=numpy.datetime64('2024-01-01T00:05:00.001000000'), type='time', instrument=None, data=(1704066900.0, 1704067500.0)) |||||\u001b[0m\n",
      "\u001b[32m2024-07-19 00:12:29.679\u001b[0m [ \u001b[1mℹ️\u001b[0m ] \u001b[1m\tBTCUSDT : [2024-01-01T00:05:00.001000000]\t42437.15000 (1000000000.0) | 42437.25000 (1000000000.0)\u001b[0m\n",
      "\u001b[32m2024-07-19 00:12:29.679\u001b[0m [ \u001b[1mℹ️\u001b[0m ] \u001b[1m\tSOLUSDT : [2024-01-01T00:05:00.001000000]\t102.35550 (1000000000.0) | 102.35650 (1000000000.0)\u001b[0m\n",
      "\u001b[32m2024-07-19 00:12:29.679\u001b[0m [ \u001b[1mℹ️\u001b[0m ] \u001b[1m\tLINKUSDT : [2024-01-01T00:05:00.001000000]\t15.02050 (1000000000.0) | 15.02150 (1000000000.0)\u001b[0m\n",
      "\u001b[32m2024-07-19 00:12:29.680\u001b[0m [ \u001b[1mℹ️\u001b[0m ] \u001b[1m- - - - - - - - - - - - - - - - - - - - - - -\u001b[0m\n",
      "\u001b[32m2024-07-19 00:12:29.678\u001b[0m [ \u001b[1mℹ️\u001b[0m ] \u001b[1m ||||| 2024-01-01T00:05:00.001000000 -> TriggerEvent(time=numpy.datetime64('2024-01-01T00:05:00.001000000'), type='time', instrument=None, data=(1704066900.0, 1704067500.0)) |||||\u001b[0m\n",
      "\u001b[32m2024-07-19 00:12:29.679\u001b[0m [ \u001b[1mℹ️\u001b[0m ] \u001b[1m\tBTCUSDT : [2024-01-01T00:05:00.001000000]\t42437.15000 (1000000000.0) | 42437.25000 (1000000000.0)\u001b[0m\n",
      "\u001b[32m2024-07-19 00:12:29.679\u001b[0m [ \u001b[1mℹ️\u001b[0m ] \u001b[1m\tSOLUSDT : [2024-01-01T00:05:00.001000000]\t102.35550 (1000000000.0) | 102.35650 (1000000000.0)\u001b[0m\n",
      "\u001b[32m2024-07-19 00:12:29.679\u001b[0m [ \u001b[1mℹ️\u001b[0m ] \u001b[1m\tLINKUSDT : [2024-01-01T00:05:00.001000000]\t15.02050 (1000000000.0) | 15.02150 (1000000000.0)\u001b[0m\n",
      "\u001b[32m2024-07-19 00:12:29.680\u001b[0m [ \u001b[1mℹ️\u001b[0m ] \u001b[1m- - - - - - - - - - - - - - - - - - - - - - -\u001b[0m\n",
      "\u001b[32m2024-07-19 00:12:29.684\u001b[0m [ \u001b[1mℹ️\u001b[0m ] \u001b[1m ||||| 2024-01-01T00:10:00.001000000 -> TriggerEvent(time=numpy.datetime64('2024-01-01T00:10:00.001000000'), type='time', instrument=None, data=(1704067200.0, 1704067800.0)) |||||\u001b[0m\n",
      "\u001b[32m2024-07-19 00:12:29.684\u001b[0m [ \u001b[1mℹ️\u001b[0m ] \u001b[1m\tBTCUSDT : [2024-01-01T00:10:00.001000000]\t42446.75000 (1000000000.0) | 42446.85000 (1000000000.0)\u001b[0m\n",
      "\u001b[32m2024-07-19 00:12:29.685\u001b[0m [ \u001b[1mℹ️\u001b[0m ] \u001b[1m\tSOLUSDT : [2024-01-01T00:10:00.001000000]\t102.33650 (1000000000.0) | 102.33750 (1000000000.0)\u001b[0m\n",
      "\u001b[32m2024-07-19 00:12:29.685\u001b[0m [ \u001b[1mℹ️\u001b[0m ] \u001b[1m\tLINKUSDT : [2024-01-01T00:10:00.001000000]\t15.04050 (1000000000.0) | 15.04150 (1000000000.0)\u001b[0m\n",
      "\u001b[32m2024-07-19 00:12:29.685\u001b[0m [ \u001b[1mℹ️\u001b[0m ] \u001b[1m- - - - - - - - - - - - - - - - - - - - - - -\u001b[0m\n",
      "\u001b[32m2024-07-19 00:12:29.691\u001b[0m [ \u001b[1mℹ️\u001b[0m ] \u001b[1m ||||| 2024-01-01T00:15:00.001000000 -> TriggerEvent(time=numpy.datetime64('2024-01-01T00:15:00.001000000'), type='time', instrument=None, data=(1704067500.0, 1704068100.0)) |||||\u001b[0m\n",
      "\u001b[32m2024-07-19 00:12:29.693\u001b[0m [ \u001b[1mℹ️\u001b[0m ] \u001b[1m\tBTCUSDT : [2024-01-01T00:15:00.001000000]\t42532.35000 (1000000000.0) | 42532.45000 (1000000000.0)\u001b[0m\n",
      "\u001b[32m2024-07-19 00:12:29.693\u001b[0m [ \u001b[1mℹ️\u001b[0m ] \u001b[1m\tSOLUSDT : [2024-01-01T00:15:00.001000000]\t102.43150 (1000000000.0) | 102.43250 (1000000000.0)\u001b[0m\n",
      "\u001b[32m2024-07-19 00:12:29.693\u001b[0m [ \u001b[1mℹ️\u001b[0m ] \u001b[1m\tLINKUSDT : [2024-01-01T00:15:00.001000000]\t15.08650 (1000000000.0) | 15.08750 (1000000000.0)\u001b[0m\n",
      "\u001b[32m2024-07-19 00:12:29.693\u001b[0m [ \u001b[1mℹ️\u001b[0m ] \u001b[1m- - - - - - - - - - - - - - - - - - - - - - -\u001b[0m\n",
      "\u001b[32m2024-07-19 00:12:29.696\u001b[0m [ \u001b[1mℹ️\u001b[0m ] \u001b[1m ||||| 2024-01-01T00:20:00.001000000 -> TriggerEvent(time=numpy.datetime64('2024-01-01T00:20:00.001000000'), type='time', instrument=None, data=(1704067800.0, 1704068400.0)) |||||\u001b[0m\n",
      "\u001b[32m2024-07-19 00:12:29.696\u001b[0m [ \u001b[1mℹ️\u001b[0m ] \u001b[1m\tBTCUSDT : [2024-01-01T00:20:00.001000000]\t42494.05000 (1000000000.0) | 42494.15000 (1000000000.0)\u001b[0m\n",
      "\u001b[32m2024-07-19 00:12:29.696\u001b[0m [ \u001b[1mℹ️\u001b[0m ] \u001b[1m\tSOLUSDT : [2024-01-01T00:20:00.001000000]\t102.31950 (1000000000.0) | 102.32050 (1000000000.0)\u001b[0m\n",
      "\u001b[32m2024-07-19 00:12:29.696\u001b[0m [ \u001b[1mℹ️\u001b[0m ] \u001b[1m\tLINKUSDT : [2024-01-01T00:20:00.001000000]\t15.07850 (1000000000.0) | 15.07950 (1000000000.0)\u001b[0m\n",
      "\u001b[32m2024-07-19 00:12:29.696\u001b[0m [ \u001b[1mℹ️\u001b[0m ] \u001b[1m- - - - - - - - - - - - - - - - - - - - - - -\u001b[0m\n",
      "\u001b[32m2024-07-19 00:12:29.702\u001b[0m [ \u001b[1mℹ️\u001b[0m ] \u001b[1m ||||| 2024-01-01T00:25:00.001000000 -> TriggerEvent(time=numpy.datetime64('2024-01-01T00:25:00.001000000'), type='time', instrument=None, data=(1704068100.0, 1704068700.0)) |||||\u001b[0m\n",
      "\u001b[32m2024-07-19 00:12:29.702\u001b[0m [ \u001b[1mℹ️\u001b[0m ] \u001b[1m\tBTCUSDT : [2024-01-01T00:25:00.001000000]\t42509.35000 (1000000000.0) | 42509.45000 (1000000000.0)\u001b[0m\n",
      "\u001b[32m2024-07-19 00:12:29.702\u001b[0m [ \u001b[1mℹ️\u001b[0m ] \u001b[1m\tSOLUSDT : [2024-01-01T00:25:00.001000000]\t102.28950 (1000000000.0) | 102.29050 (1000000000.0)\u001b[0m\n",
      "\u001b[32m2024-07-19 00:12:29.702\u001b[0m [ \u001b[1mℹ️\u001b[0m ] \u001b[1m\tLINKUSDT : [2024-01-01T00:25:00.001000000]\t15.08950 (1000000000.0) | 15.09050 (1000000000.0)\u001b[0m\n",
      "\u001b[32m2024-07-19 00:12:29.702\u001b[0m [ \u001b[1mℹ️\u001b[0m ] \u001b[1m- - - - - - - - - - - - - - - - - - - - - - -\u001b[0m\n"
     ]
    },
    {
     "name": "stdout",
     "output_type": "stream",
     "text": [
      "\u001b[32m2024-07-19 00:12:29.678\u001b[0m [ \u001b[34m\u001b[1m🐞\u001b[0m ] \u001b[34m\u001b[1mNow is \u001b[31m2024-01-01 00:05:00.000999928\u001b[0m\u001b[34m\u001b[1m next (time_event) at \u001b[36m2024-01-01 00:10:00\u001b[0m\u001b[34m\u001b[1m\u001b[0m\n",
      "\u001b[32m2024-07-19 00:12:29.684\u001b[0m [ \u001b[34m\u001b[1m🐞\u001b[0m ] \u001b[34m\u001b[1mNow is \u001b[31m2024-01-01 00:10:00.000999928\u001b[0m\u001b[34m\u001b[1m next (time_event) at \u001b[36m2024-01-01 00:15:00\u001b[0m\u001b[34m\u001b[1m\u001b[0m\n",
      "\u001b[32m2024-07-19 00:12:29.684\u001b[0m [ \u001b[34m\u001b[1m🐞\u001b[0m ] \u001b[34m\u001b[1mNow is \u001b[31m2024-01-01 00:10:00.000999928\u001b[0m\u001b[34m\u001b[1m next (time_event) at \u001b[36m2024-01-01 00:15:00\u001b[0m\u001b[34m\u001b[1m\u001b[0m\n",
      "\u001b[32m2024-07-19 00:12:29.690\u001b[0m [ \u001b[34m\u001b[1m🐞\u001b[0m ] \u001b[34m\u001b[1mNow is \u001b[31m2024-01-01 00:15:00.000999928\u001b[0m\u001b[34m\u001b[1m next (time_event) at \u001b[36m2024-01-01 00:20:00\u001b[0m\u001b[34m\u001b[1m\u001b[0m\n",
      "\u001b[32m2024-07-19 00:12:29.696\u001b[0m [ \u001b[34m\u001b[1m🐞\u001b[0m ] \u001b[34m\u001b[1mNow is \u001b[31m2024-01-01 00:20:00.000999928\u001b[0m\u001b[34m\u001b[1m next (time_event) at \u001b[36m2024-01-01 00:25:00\u001b[0m\u001b[34m\u001b[1m\u001b[0m\n",
      "\u001b[32m2024-07-19 00:12:29.702\u001b[0m [ \u001b[34m\u001b[1m🐞\u001b[0m ] \u001b[34m\u001b[1mNow is \u001b[31m2024-01-01 00:25:00.000999928\u001b[0m\u001b[34m\u001b[1m next (time_event) at \u001b[36m2024-01-01 00:30:00\u001b[0m\u001b[34m\u001b[1m\u001b[0m\n"
     ]
    }
   ],
   "source": [
    "# %%time\n",
    "d = sdp.run('2024-01-01 00:00', '2024-01-01 00:25')"
   ]
  },
  {
   "cell_type": "code",
   "execution_count": null,
   "metadata": {},
   "outputs": [],
   "source": [
    "ctx.stop()"
   ]
  },
  {
   "cell_type": "code",
   "execution_count": null,
   "metadata": {},
   "outputs": [],
   "source": [
    "str(sbroker.get_position(instruments[0]))"
   ]
  },
  {
   "cell_type": "code",
   "execution_count": null,
   "metadata": {},
   "outputs": [],
   "source": []
  },
  {
   "cell_type": "code",
   "execution_count": 64,
   "metadata": {},
   "outputs": [
    {
     "data": {
      "text/plain": [
       "1721316593.471884"
      ]
     },
     "execution_count": 64,
     "metadata": {},
     "output_type": "execute_result"
    }
   ],
   "source": []
  },
  {
   "cell_type": "code",
   "execution_count": 74,
   "metadata": {},
   "outputs": [],
   "source": [
    "from croniter import croniter\n",
    "_SEC2TS = lambda t: pd.Timestamp(t, unit=\"s\")\n",
    "\n",
    "t0 = pd.Timestamp('2024-01-01 00:00:00').timestamp()\n",
    "\n",
    "iter = croniter(\"*/5 * * * *\", t0)"
   ]
  },
  {
   "cell_type": "code",
   "execution_count": 75,
   "metadata": {},
   "outputs": [
    {
     "data": {
      "text/plain": [
       "Timestamp('2024-01-01 00:05:00')"
      ]
     },
     "execution_count": 75,
     "metadata": {},
     "output_type": "execute_result"
    }
   ],
   "source": [
    "_SEC2TS(iter.get_next())"
   ]
  }
 ],
 "metadata": {
  "kernelspec": {
   "display_name": ".venv",
   "language": "python",
   "name": "python3"
  },
  "language_info": {
   "codemirror_mode": {
    "name": "ipython",
    "version": 3
   },
   "file_extension": ".py",
   "mimetype": "text/x-python",
   "name": "python",
   "nbconvert_exporter": "python",
   "pygments_lexer": "ipython3",
   "version": "3.11.8"
  }
 },
 "nbformat": 4,
 "nbformat_minor": 2
}
