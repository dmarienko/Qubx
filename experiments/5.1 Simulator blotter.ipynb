{
 "cells": [
  {
   "cell_type": "code",
   "execution_count": 1,
   "metadata": {},
   "outputs": [
    {
     "name": "stdout",
     "output_type": "stream",
     "text": [
      " >  [\u001b[32mdev\u001b[0m] \u001b[31minstalling cython rebuilding hook\u001b[0m\n",
      "\n",
      "⠀⠀⡰⡖⠒⠒⢒⢦⠀⠀   \n",
      "⠀⢠⠃⠈⢆⣀⣎⣀⣱⡀  \u001b[31mQUBX\u001b[0m | \u001b[36mQuantitative Backtesting Environment\u001b[0m \n",
      "⠀⢳⠒⠒⡞⠚⡄⠀⡰⠁         (c) 2024, ver. \u001b[35mDev\u001b[0m\n",
      "⠀⠀⠱⣜⣀⣀⣈⣦⠃⠀⠀⠀ \n",
      "        \n",
      "\u001b[32m2024-07-22 10:46:59.732\u001b[0m [ \u001b[1mℹ️\u001b[0m ] \u001b[1mNTP offset controller thread is started\u001b[0m\n",
      "\u001b[32m2024-07-22 10:47:00.227\u001b[0m [ \u001b[34m\u001b[1m🐞\u001b[0m ] \u001b[34m\u001b[1mConnected to QuestDB at xlydian-data:8812\u001b[0m\n"
     ]
    }
   ],
   "source": [
    "import sys, os, re; sys.path = ([\"../src/\", \"../\"] if re.match(r'^(\\w\\:\\\\)|(/)', os.getcwd()) else [])+ sys.path \n",
    "\n",
    "from typing import Any, Optional, List\n",
    "\n",
    "import qubx\n",
    "%qubxd dev \n",
    "\n",
    "%load_ext autoreload\n",
    "%autoreload 2\n",
    "\n",
    "from qubx import lookup, logger\n",
    "from qubx.core.strategy import IStrategy, StrategyContext, TriggerEvent\n",
    "from qubx.pandaz.utils import *\n",
    "\n",
    "# - - - - - - - - - - - - - - - - - - - - - - - -\n",
    "from qubx.trackers import PortfolioRebalancerTracker\n",
    "from qubx.core.series import Quote\n",
    "from qubx.ta.indicators import sma, ema\n",
    "from qubx.data.readers import CsvStorageDataReader, MultiQdbConnector, AsTimestampedRecords, AsQuotes, RestoreTicksFromOHLC, AsPandasFrame, RestoreTicksFromOHLC\n",
    "from qubx.core.basics import Deal, Instrument, Order, Position, Signal\n",
    "from qubx.core.utils import recognize_time\n",
    "\n",
    "from qubx.impl.ccxt_connector import CCXTExchangesConnector\n",
    "from qubx.impl.ccxt_trading import CCXTTradingConnector\n",
    "from qubx.utils.runner import get_account_config\n",
    "\n",
    "def Q(time: str, bid: float, ask: float) -> Quote:\n",
    "    return Quote(recognize_time(time), bid, ask, 0, 0)\n",
    "\n",
    "# r = CsvStorageDataReader(\"../tests/data/csv\")\n",
    "r = MultiQdbConnector('xlydian-data')\n",
    "\n",
    "from qubx import QubxLogConfig"
   ]
  },
  {
   "cell_type": "markdown",
   "metadata": {},
   "source": [
    "# Test Strategy"
   ]
  },
  {
   "cell_type": "code",
   "execution_count": 7,
   "metadata": {},
   "outputs": [],
   "source": [
    "class TestStrategy(IStrategy):\n",
    "    timeframe: str = \"1Min\"\n",
    "    fast_period = 5\n",
    "    slow_period = 12\n",
    "\n",
    "    def on_start(self, ctx: StrategyContext):\n",
    "        logger.info(f\" -> Strategy started | {ctx.time()}\")\n",
    "\n",
    "    def on_fit(self, ctx: \"StrategyContext\", fit_time: str | pd.Timestamp, previous_fit_time: str | pd.Timestamp | None = None):\n",
    "        logger.info(f\" -> Fit is called | fit_time: {fit_time} / prev: {previous_fit_time}\")\n",
    "        data = ctx.get_historical_ohlcs(ctx.instruments[0], '1h', 24)\n",
    "        logger.info(data)\n",
    "\n",
    "    def on_event(self, ctx: StrategyContext, event: TriggerEvent) -> List[Signal] | None:\n",
    "        logger.info(f\" ||||| {event.time} -> {event} |||||\")\n",
    "\n",
    "        for i in ctx.instruments:\n",
    "            logger.info(f\"\\t{i.symbol} : {ctx.broker_provider.get_quote(i.symbol)}\")\n",
    "\n",
    "            if True:\n",
    "                ohlc = ctx.ohlc(i, self.timeframe)\n",
    "                fast = ema(ohlc.close, self.fast_period)\n",
    "                slow = ema(ohlc.close, self.slow_period)\n",
    "                pos = ctx.positions[i.symbol].quantity\n",
    "                # cap = ctx.get_capital()\n",
    "                # n = len(ctx.instruments)\n",
    "                if pos <= 0:\n",
    "                    if (fast[0] > slow[0]) and (fast[1] < slow[1]):\n",
    "                        ctx.trade(i, abs(pos) + i.min_size * 10)\n",
    "\n",
    "                if pos >= 0:\n",
    "                    if (fast[0] < slow[0]) and (fast[1] > slow[1]):\n",
    "                        ctx.trade(i, -pos - i.min_size * 10)\n",
    "\n",
    "        return None\n",
    "\n",
    "    def ohlcs(self, timeframe: str) -> Dict[str, pd.DataFrame]:\n",
    "        return {s.symbol: self.ctx.ohlc(s, timeframe).pd() for s in self.ctx.instruments}\n",
    "\n",
    "    def on_stop(self, ctx: StrategyContext):\n",
    "        logger.info(f\" -> strategy is stopped\")\n",
    "\n",
    "    def tracker(self, ctx: StrategyContext) -> PortfolioRebalancerTracker:\n",
    "        return PortfolioRebalancerTracker(ctx, 1000, 0)"
   ]
  },
  {
   "cell_type": "markdown",
   "metadata": {},
   "source": [
    "# Simulated broker and paper trading"
   ]
  },
  {
   "cell_type": "code",
   "execution_count": 4,
   "metadata": {},
   "outputs": [],
   "source": [
    "from qubx.backtester.simulator import SimulatedTrading"
   ]
  },
  {
   "cell_type": "code",
   "execution_count": 5,
   "metadata": {},
   "outputs": [
    {
     "name": "stdout",
     "output_type": "stream",
     "text": [
      "\u001b[32m2024-07-22 01:20:57.947\u001b[0m [ \u001b[1mℹ️\u001b[0m ] \u001b[1mbinance initialized - current time 1970-01-01T00:00:00.000000000\u001b[0m\n",
      "\u001b[32m2024-07-22 01:20:57.948\u001b[0m [ \u001b[33m\u001b[1m⚠️\u001b[0m ] \u001b[36mqubx.core.loggers\u001b[0m:\u001b[36m__init__\u001b[0m:\u001b[36m396\u001b[0m - \u001b[33m\u001b[1mLog writer is not defined - strategy activity will not be saved !\u001b[0m\n",
      "\u001b[32m2024-07-22 01:20:57.948\u001b[0m [ \u001b[1mℹ️\u001b[0m ] \u001b[1mset strategy parameters:\n",
      "\tset \u001b[32mtimeframe\u001b[0m\u001b[1m <- \u001b[31m1Min\u001b[0m\u001b[1m\u001b[0m\n",
      "\u001b[32m2024-07-22 01:20:57.948\u001b[0m [ \u001b[34m\u001b[1m🐞\u001b[0m ] \u001b[34m\u001b[1mTriggering strategy on every 1Min bar after 55S\u001b[0m\n",
      "\u001b[32m2024-07-22 01:20:57.948\u001b[0m [ \u001b[33m\u001b[1m⚠️\u001b[0m ] \u001b[36mqubx.core.loggers\u001b[0m:\u001b[36m__init__\u001b[0m:\u001b[36m396\u001b[0m - \u001b[33m\u001b[1mLog writer is not defined - strategy activity will not be saved !\u001b[0m\n",
      "\u001b[32m2024-07-22 01:20:57.948\u001b[0m [ \u001b[1mℹ️\u001b[0m ] \u001b[1mset strategy parameters:\n",
      "\tset \u001b[32mtimeframe\u001b[0m\u001b[1m <- \u001b[31m1Min\u001b[0m\u001b[1m\u001b[0m\n",
      "\u001b[32m2024-07-22 01:20:57.948\u001b[0m [ \u001b[34m\u001b[1m🐞\u001b[0m ] \u001b[34m\u001b[1mTriggering strategy on every 1Min bar after 55S\u001b[0m\n"
     ]
    }
   ],
   "source": [
    "auth = get_account_config('binance-qbx', './configs/.env')\n",
    "\n",
    "sim = SimulatedTrading('binance', 10000, 'vip0_usdt', 'USDT')\n",
    "exch = CCXTExchangesConnector('binance', sim, **auth)\n",
    "\n",
    "instruments = [lookup.find_symbol('BINANCE', 'BTCUSDT')]\n",
    "ctx = StrategyContext(\n",
    "    TestStrategy(), dict(\n",
    "        timeframe='1Min',\n",
    "    ), \n",
    "    exch, instruments=instruments,  # type: ignore\n",
    "    md_subscription=dict(type='ohlc', timeframe='1Min', nback=0),\n",
    "    trigger_spec='1Min -5Sec',\n",
    ")\n",
    "S = ctx.strategy"
   ]
  },
  {
   "cell_type": "code",
   "execution_count": 6,
   "metadata": {},
   "outputs": [
    {
     "name": "stdout",
     "output_type": "stream",
     "text": [
      "\u001b[32m2024-07-22 01:21:02.025\u001b[0m [ \u001b[1mℹ️\u001b[0m ] \u001b[1m(StrategyContext) Subscribing to ohlc updates using {'timeframe': '1Min', 'nback': 0} for \n",
      "\t['BTCUSDT'] \u001b[0m\n",
      "\u001b[32m2024-07-22 01:21:02.027\u001b[0m [ \u001b[1mℹ️\u001b[0m ] \u001b[1mSubscribed on ohlc updates for 1 symbols: \n",
      "\t\t['BTCUSDT']\u001b[0m\n",
      "\u001b[32m2024-07-22 01:21:02.029\u001b[0m [ \u001b[1mℹ️\u001b[0m ] \u001b[1m -> Strategy started | 1970-01-01T00:00:00.000000000\u001b[0m\n",
      "\u001b[32m2024-07-22 01:21:02.030\u001b[0m [ \u001b[1mℹ️\u001b[0m ] \u001b[1m(StrategyContext) Start processing market data\u001b[0m\n",
      "\u001b[32m2024-07-22 01:21:02.032\u001b[0m [ \u001b[1mℹ️\u001b[0m ] \u001b[1m(StrategyContext) strategy is started in thread\u001b[0m\n"
     ]
    },
    {
     "name": "stdout",
     "output_type": "stream",
     "text": [
      "\u001b[32m2024-07-22 01:21:10.657\u001b[0m [ \u001b[34m\u001b[1m🐞\u001b[0m ] \u001b[34m\u001b[1m[2024-07-21T22:21:10.781562880]: Invoking TestStrategy on_fit('1970-01-01 00:00:00', 'None')\u001b[0m\n",
      "\u001b[32m2024-07-22 01:21:10.658\u001b[0m [ \u001b[1mℹ️\u001b[0m ] \u001b[1m -> Fit is called | fit_time: 1970-01-01 00:00:00 / prev: None\u001b[0m\n",
      "\u001b[32m2024-07-22 01:21:11.067\u001b[0m [ \u001b[1mℹ️\u001b[0m ] \u001b[1mBTCUSDT[1H] | 24 records\n",
      "  2024-07-21T22:00:00.000000000 {o:68194.000000 | h:68366.660000 | l:68038.000000 | c:68114.000000 | v:30436483.800795}\n",
      "  2024-07-21T21:00:00.000000000 {o:67723.910000 | h:68298.020000 | l:67564.200000 | c:68193.990000 | v:85407297.413267}\n",
      "  2024-07-21T20:00:00.000000000 {o:67422.030000 | h:68209.160000 | l:67274.690000 | c:67723.910000 | v:151774422.575169}\n",
      "   .......... \n",
      "  2024-07-21T01:00:00.000000000 {o:67066.020000 | h:67436.220000 | l:67041.070000 | c:67276.330000 | v:24780965.435619}\n",
      "  2024-07-21T00:00:00.000000000 {o:67139.970000 | h:67322.000000 | l:66962.000000 | c:67066.020000 | v:35409180.504901}\n",
      "  2024-07-20T23:00:00.000000000 {o:67114.000000 | h:67200.000000 | l:67092.000000 | c:67139.960000 | v:19865751.803434}\n",
      "\u001b[0m\n",
      "\u001b[32m2024-07-22 01:21:11.067\u001b[0m [ \u001b[34m\u001b[1m🐞\u001b[0m ] \u001b[34m\u001b[1m[2024-07-21T22:21:10.781562880]: TestStrategy is fitted\u001b[0m\n",
      "\u001b[32m2024-07-22 01:21:26.063\u001b[0m [ \u001b[34m\u001b[1m🐞\u001b[0m ] \u001b[34m\u001b[1m[SIM-ORDER-BTCUSDT-100001 / TestStrategy_BTCUSDT_1] : MARKET BUY 0.1 of BTCUSDT  -> [CLOSED]\u001b[0m\n",
      "\u001b[32m2024-07-22 01:21:26.064\u001b[0m [ \u001b[34m\u001b[1m🐞\u001b[0m ] \u001b[34m\u001b[1mExecuted 0.1 @ 68078.005 of BTCUSDT for order SIM-ORDER-BTCUSDT-100001\u001b[0m\n",
      "\u001b[32m2024-07-22 01:21:27.678\u001b[0m [ \u001b[34m\u001b[1m🐞\u001b[0m ] \u001b[34m\u001b[1m[SIM-ORDER-BTCUSDT-100002 / TestStrategy_BTCUSDT_2] : MARKET SELL 0.1 of BTCUSDT  -> [CLOSED]\u001b[0m\n",
      "\u001b[32m2024-07-22 01:21:27.679\u001b[0m [ \u001b[34m\u001b[1m🐞\u001b[0m ] \u001b[34m\u001b[1mExecuted -0.1 @ 68077.995 of BTCUSDT for order SIM-ORDER-BTCUSDT-100002\u001b[0m\n",
      "\u001b[32m2024-07-22 01:21:29.117\u001b[0m [ \u001b[34m\u001b[1m🐞\u001b[0m ] \u001b[34m\u001b[1m[SIM-ORDER-BTCUSDT-100003 / TestStrategy_BTCUSDT_3] : LIMIT BUY 0.1 of BTCUSDT  @ 45000 -> [OPEN]\u001b[0m\n",
      "\u001b[32m2024-07-22 01:21:30.410\u001b[0m [ \u001b[34m\u001b[1m🐞\u001b[0m ] \u001b[34m\u001b[1m[SIM-ORDER-BTCUSDT-100003 / TestStrategy_BTCUSDT_3] : LIMIT BUY 0.1 of BTCUSDT  @ 45000 -> [CANCELED]\u001b[0m\n",
      "\u001b[32m2024-07-22 01:21:33.110\u001b[0m [ \u001b[1mℹ️\u001b[0m ] \u001b[1m(StrategyContext) Market data processing stopped\u001b[0m\n",
      "\u001b[32m2024-07-22 01:21:33.128\u001b[0m [ \u001b[1mℹ️\u001b[0m ] \u001b[1m(CCXTDataConnector) BTCUSDT OHLCV listening has been stopped\u001b[0m\n",
      "\u001b[32m2024-07-22 01:21:33.129\u001b[0m [ \u001b[1mℹ️\u001b[0m ] \u001b[1m(CCXTDataConnector) BTCUSDT execution reports listening has been stopped\u001b[0m\n"
     ]
    }
   ],
   "source": [
    "ctx.start()"
   ]
  },
  {
   "cell_type": "code",
   "execution_count": null,
   "metadata": {},
   "outputs": [],
   "source": [
    "exch.get_historical_ohlcs('BTCUSDT', '5Min', 200)"
   ]
  },
  {
   "cell_type": "code",
   "execution_count": 8,
   "metadata": {},
   "outputs": [
    {
     "data": {
      "text/plain": [
       "                        open     high       low     close         volume  \\\n",
       "timestamp                                                                  \n",
       "2024-07-21 22:21:00  68092.0  68126.2  68091.99  68096.01  410255.488169   \n",
       "\n",
       "                     bought_volume  \n",
       "timestamp                           \n",
       "2024-07-21 22:21:00  240288.718168  "
      ]
     },
     "execution_count": 8,
     "metadata": {},
     "output_type": "execute_result"
    }
   ],
   "source": [
    "ctx.ohlc(ctx.instruments[0], '1Min')"
   ]
  },
  {
   "cell_type": "code",
   "execution_count": 6,
   "metadata": {},
   "outputs": [
    {
     "name": "stdout",
     "output_type": "stream",
     "text": [
      "??? [BINANCE:BTCUSDT]       0.00000      0.00    +0.0000 | nan        0.00\n",
      "[]\n"
     ]
    }
   ],
   "source": [
    "print(exch.trading_service.get_position(instruments[0]))\n",
    "print(exch.trading_service.get_orders())"
   ]
  },
  {
   "cell_type": "code",
   "execution_count": 9,
   "metadata": {},
   "outputs": [
    {
     "name": "stdout",
     "output_type": "stream",
     "text": [
      "\u001b[32m2024-07-22 01:21:26.058\u001b[0m [ \u001b[1mℹ️\u001b[0m ] \u001b[1m(StrategyContext) sending market buy for 0.1 of BTCUSDT ...\u001b[0m\n",
      "\u001b[32m2024-07-22 01:21:26.060\u001b[0m [ \u001b[34m\u001b[1m🐞\u001b[0m ] \u001b[34m\u001b[1m[OMS] BTCUSDT - SIM-ORDER-BTCUSDT-100001 MARKET BUY 0.1 executed at 68078.005\u001b[0m\n",
      "\u001b[32m2024-07-22 01:21:26.061\u001b[0m [ \u001b[1mℹ️\u001b[0m ] \u001b[1m  ::  traded 0.1 for BTCUSDT @ 68078.005 -> 0.00\u001b[0m\n",
      "\u001b[32m2024-07-22 01:21:26.061\u001b[0m [ \u001b[1mℹ️\u001b[0m ] \u001b[1mOrder SIM-ORDER-BTCUSDT-100001 MARKET BUY 0.1 of BTCUSDT -> CLOSED\u001b[0m\n"
     ]
    },
    {
     "data": {
      "text/plain": [
       "Order(id='SIM-ORDER-BTCUSDT-100001', type='MARKET', symbol='BTCUSDT', time=numpy.datetime64('2024-07-21T22:21:24.191141120'), quantity=0.1, price=0, side='BUY', status='CLOSED', time_in_force='gtc', client_id='TestStrategy_BTCUSDT_1', cost=0.0)"
      ]
     },
     "execution_count": 9,
     "metadata": {},
     "output_type": "execute_result"
    }
   ],
   "source": [
    "ctx.trade('BTCUSDT', 0.1)"
   ]
  },
  {
   "cell_type": "code",
   "execution_count": 10,
   "metadata": {},
   "outputs": [
    {
     "name": "stdout",
     "output_type": "stream",
     "text": [
      "\u001b[32m2024-07-22 01:21:27.671\u001b[0m [ \u001b[1mℹ️\u001b[0m ] \u001b[1m(StrategyContext) sending market sell for 0.1 of BTCUSDT ...\u001b[0m\n",
      "\u001b[32m2024-07-22 01:21:27.671\u001b[0m [ \u001b[34m\u001b[1m🐞\u001b[0m ] \u001b[34m\u001b[1m[OMS] BTCUSDT - SIM-ORDER-BTCUSDT-100002 MARKET SELL 0.1 executed at 68077.995\u001b[0m\n",
      "\u001b[32m2024-07-22 01:21:27.671\u001b[0m [ \u001b[1mℹ️\u001b[0m ] \u001b[1m  ::  traded -0.1 for BTCUSDT @ 68077.995 -> -0.00\u001b[0m\n",
      "\u001b[32m2024-07-22 01:21:27.677\u001b[0m [ \u001b[1mℹ️\u001b[0m ] \u001b[1mOrder SIM-ORDER-BTCUSDT-100002 MARKET SELL 0.1 of BTCUSDT -> CLOSED\u001b[0m\n"
     ]
    },
    {
     "data": {
      "text/plain": [
       "Order(id='SIM-ORDER-BTCUSDT-100002', type='MARKET', symbol='BTCUSDT', time=numpy.datetime64('2024-07-21T22:21:26.796219648'), quantity=0.1, price=0, side='SELL', status='CLOSED', time_in_force='gtc', client_id='TestStrategy_BTCUSDT_2', cost=0.0)"
      ]
     },
     "execution_count": 10,
     "metadata": {},
     "output_type": "execute_result"
    }
   ],
   "source": [
    "ctx.trade('BTCUSDT', -0.1)"
   ]
  },
  {
   "cell_type": "code",
   "execution_count": 11,
   "metadata": {},
   "outputs": [
    {
     "name": "stdout",
     "output_type": "stream",
     "text": [
      "\u001b[32m2024-07-22 01:21:29.112\u001b[0m [ \u001b[1mℹ️\u001b[0m ] \u001b[1m(StrategyContext) sending limit buy for 0.1 of BTCUSDT ...\u001b[0m\n",
      "\u001b[32m2024-07-22 01:21:29.117\u001b[0m [ \u001b[34m\u001b[1m🐞\u001b[0m ] \u001b[34m\u001b[1m[OMS] BTCUSDT - registered SIM-ORDER-BTCUSDT-100003 LIMIT BUY 0.1 45000\u001b[0m\n"
     ]
    },
    {
     "data": {
      "text/plain": [
       "Order(id='SIM-ORDER-BTCUSDT-100003', type='LIMIT', symbol='BTCUSDT', time=numpy.datetime64('2024-07-21T22:21:28.820779264'), quantity=0.1, price=45000, side='BUY', status='OPEN', time_in_force='gtc', client_id='TestStrategy_BTCUSDT_3', cost=0.0)"
      ]
     },
     "execution_count": 11,
     "metadata": {},
     "output_type": "execute_result"
    }
   ],
   "source": [
    "ctx.trade('BTCUSDT', 0.1, 45000)"
   ]
  },
  {
   "cell_type": "code",
   "execution_count": 12,
   "metadata": {},
   "outputs": [
    {
     "name": "stdout",
     "output_type": "stream",
     "text": [
      "\u001b[32m2024-07-22 01:21:30.410\u001b[0m [ \u001b[34m\u001b[1m🐞\u001b[0m ] \u001b[34m\u001b[1m[OMS] BTCUSDT - SIM-ORDER-BTCUSDT-100003 LIMIT BUY 0.1 canceled\u001b[0m\n",
      "\u001b[32m2024-07-22 01:21:30.410\u001b[0m [ \u001b[1mℹ️\u001b[0m ] \u001b[1mOrder SIM-ORDER-BTCUSDT-100003 LIMIT BUY 0.1 of BTCUSDT -> CANCELED\u001b[0m\n",
      "\u001b[32m2024-07-22 01:21:30.410\u001b[0m [ \u001b[1mℹ️\u001b[0m ] \u001b[1mOrder SIM-ORDER-BTCUSDT-100003 LIMIT BUY 0.1 of BTCUSDT -> CANCELED\u001b[0m\n"
     ]
    }
   ],
   "source": [
    "ctx.cancel('BTCUSDT')"
   ]
  },
  {
   "cell_type": "code",
   "execution_count": 13,
   "metadata": {},
   "outputs": [
    {
     "name": "stdout",
     "output_type": "stream",
     "text": [
      "\u001b[32m2024-07-22 01:21:33.117\u001b[0m [ \u001b[1mℹ️\u001b[0m ] \u001b[1m -> strategy is stopped\u001b[0m\n",
      "\u001b[32m2024-07-22 01:21:33.117\u001b[0m [ \u001b[1mℹ️\u001b[0m ] \u001b[1m\t\u001b[37mCachedMarketDataHolder.update_by_bar\u001b[0m\u001b[1m took \u001b[31m0.0000581\u001b[0m\u001b[1m secs\u001b[0m\n",
      "\u001b[32m2024-07-22 01:21:33.118\u001b[0m [ \u001b[1mℹ️\u001b[0m ] \u001b[1m\t\u001b[37mStrategyContext._processing_bar\u001b[0m\u001b[1m took \u001b[31m0.0000847\u001b[0m\u001b[1m secs\u001b[0m\n",
      "\u001b[32m2024-07-22 01:21:33.118\u001b[0m [ \u001b[1mℹ️\u001b[0m ] \u001b[1m\t\u001b[37mStrategyContext.handler\u001b[0m\u001b[1m took \u001b[31m0.0000090\u001b[0m\u001b[1m secs\u001b[0m\n",
      "\u001b[32m2024-07-22 01:21:33.118\u001b[0m [ \u001b[1mℹ️\u001b[0m ] \u001b[1m\t\u001b[37mloggers.notify\u001b[0m\u001b[1m took \u001b[31m0.0000021\u001b[0m\u001b[1m secs\u001b[0m\n",
      "\u001b[32m2024-07-22 01:21:33.118\u001b[0m [ \u001b[1mℹ️\u001b[0m ] \u001b[1m\t\u001b[37mStrategyContext._process_incoming_data\u001b[0m\u001b[1m took \u001b[31m0.0000179\u001b[0m\u001b[1m secs\u001b[0m\n",
      "\u001b[32m2024-07-22 01:21:33.118\u001b[0m [ \u001b[1mℹ️\u001b[0m ] \u001b[1m\t\u001b[37mCachedMarketDataHolder.get_ohlcv\u001b[0m\u001b[1m took \u001b[31m0.0001222\u001b[0m\u001b[1m secs\u001b[0m\n",
      "\u001b[32m2024-07-22 01:21:33.118\u001b[0m [ \u001b[1mℹ️\u001b[0m ] \u001b[1m\t\u001b[37mCachedMarketDataHolder.update_by_bars\u001b[0m\u001b[1m took \u001b[31m0.0004334\u001b[0m\u001b[1m secs\u001b[0m\n",
      "\u001b[32m2024-07-22 01:21:33.122\u001b[0m [ \u001b[1mℹ️\u001b[0m ] \u001b[1m\t\u001b[37mStrategyContext.get_historical_ohlcs\u001b[0m\u001b[1m took \u001b[31m0.4052954\u001b[0m\u001b[1m secs\u001b[0m\n",
      "\u001b[32m2024-07-22 01:21:33.123\u001b[0m [ \u001b[1mℹ️\u001b[0m ] \u001b[1m\t\u001b[37mstrategy.on_fit\u001b[0m\u001b[1m took \u001b[31m0.4092440\u001b[0m\u001b[1m secs\u001b[0m\n",
      "\u001b[32m2024-07-22 01:21:33.123\u001b[0m [ \u001b[1mℹ️\u001b[0m ] \u001b[1m\t\u001b[37mStrategyContext.trade\u001b[0m\u001b[1m took \u001b[31m0.0019785\u001b[0m\u001b[1m secs\u001b[0m\n",
      "\u001b[32m2024-07-22 01:21:33.124\u001b[0m [ \u001b[1mℹ️\u001b[0m ] \u001b[1m\t\u001b[37mStrategyContext._processing_order\u001b[0m\u001b[1m took \u001b[31m0.0009156\u001b[0m\u001b[1m secs\u001b[0m\n",
      "\u001b[32m2024-07-22 01:21:33.125\u001b[0m [ \u001b[1mℹ️\u001b[0m ] \u001b[1m\t\u001b[37mStrategyContext._processing_deals\u001b[0m\u001b[1m took \u001b[31m0.0010283\u001b[0m\u001b[1m secs\u001b[0m\n",
      "\u001b[32m2024-07-22 01:21:33.125\u001b[0m [ \u001b[1mℹ️\u001b[0m ] \u001b[1m\t\u001b[37mStrategyContext.cancel\u001b[0m\u001b[1m took \u001b[31m0.0015224\u001b[0m\u001b[1m secs\u001b[0m\n",
      "\u001b[32m2024-07-22 01:21:33.117\u001b[0m [ \u001b[1mℹ️\u001b[0m ] \u001b[1m\t\u001b[37mCachedMarketDataHolder.update_by_bar\u001b[0m\u001b[1m took \u001b[31m0.0000581\u001b[0m\u001b[1m secs\u001b[0m\n",
      "\u001b[32m2024-07-22 01:21:33.118\u001b[0m [ \u001b[1mℹ️\u001b[0m ] \u001b[1m\t\u001b[37mStrategyContext._processing_bar\u001b[0m\u001b[1m took \u001b[31m0.0000847\u001b[0m\u001b[1m secs\u001b[0m\n",
      "\u001b[32m2024-07-22 01:21:33.118\u001b[0m [ \u001b[1mℹ️\u001b[0m ] \u001b[1m\t\u001b[37mStrategyContext.handler\u001b[0m\u001b[1m took \u001b[31m0.0000090\u001b[0m\u001b[1m secs\u001b[0m\n",
      "\u001b[32m2024-07-22 01:21:33.118\u001b[0m [ \u001b[1mℹ️\u001b[0m ] \u001b[1m\t\u001b[37mloggers.notify\u001b[0m\u001b[1m took \u001b[31m0.0000021\u001b[0m\u001b[1m secs\u001b[0m\n",
      "\u001b[32m2024-07-22 01:21:33.118\u001b[0m [ \u001b[1mℹ️\u001b[0m ] \u001b[1m\t\u001b[37mStrategyContext._process_incoming_data\u001b[0m\u001b[1m took \u001b[31m0.0000179\u001b[0m\u001b[1m secs\u001b[0m\n",
      "\u001b[32m2024-07-22 01:21:33.118\u001b[0m [ \u001b[1mℹ️\u001b[0m ] \u001b[1m\t\u001b[37mCachedMarketDataHolder.get_ohlcv\u001b[0m\u001b[1m took \u001b[31m0.0001222\u001b[0m\u001b[1m secs\u001b[0m\n",
      "\u001b[32m2024-07-22 01:21:33.118\u001b[0m [ \u001b[1mℹ️\u001b[0m ] \u001b[1m\t\u001b[37mCachedMarketDataHolder.update_by_bars\u001b[0m\u001b[1m took \u001b[31m0.0004334\u001b[0m\u001b[1m secs\u001b[0m\n",
      "\u001b[32m2024-07-22 01:21:33.122\u001b[0m [ \u001b[1mℹ️\u001b[0m ] \u001b[1m\t\u001b[37mStrategyContext.get_historical_ohlcs\u001b[0m\u001b[1m took \u001b[31m0.4052954\u001b[0m\u001b[1m secs\u001b[0m\n",
      "\u001b[32m2024-07-22 01:21:33.123\u001b[0m [ \u001b[1mℹ️\u001b[0m ] \u001b[1m\t\u001b[37mstrategy.on_fit\u001b[0m\u001b[1m took \u001b[31m0.4092440\u001b[0m\u001b[1m secs\u001b[0m\n",
      "\u001b[32m2024-07-22 01:21:33.123\u001b[0m [ \u001b[1mℹ️\u001b[0m ] \u001b[1m\t\u001b[37mStrategyContext.trade\u001b[0m\u001b[1m took \u001b[31m0.0019785\u001b[0m\u001b[1m secs\u001b[0m\n",
      "\u001b[32m2024-07-22 01:21:33.124\u001b[0m [ \u001b[1mℹ️\u001b[0m ] \u001b[1m\t\u001b[37mStrategyContext._processing_order\u001b[0m\u001b[1m took \u001b[31m0.0009156\u001b[0m\u001b[1m secs\u001b[0m\n",
      "\u001b[32m2024-07-22 01:21:33.125\u001b[0m [ \u001b[1mℹ️\u001b[0m ] \u001b[1m\t\u001b[37mStrategyContext._processing_deals\u001b[0m\u001b[1m took \u001b[31m0.0010283\u001b[0m\u001b[1m secs\u001b[0m\n",
      "\u001b[32m2024-07-22 01:21:33.125\u001b[0m [ \u001b[1mℹ️\u001b[0m ] \u001b[1m\t\u001b[37mStrategyContext.cancel\u001b[0m\u001b[1m took \u001b[31m0.0015224\u001b[0m\u001b[1m secs\u001b[0m\n"
     ]
    }
   ],
   "source": [
    "ctx.stop()\n",
    "exch.close()"
   ]
  },
  {
   "cell_type": "markdown",
   "metadata": {},
   "source": [
    "# Simulated data provider"
   ]
  },
  {
   "cell_type": "code",
   "execution_count": 2,
   "metadata": {},
   "outputs": [],
   "source": [
    "from qubx.backtester.simulator import SimulatedTrading, SimulatedExchange\n",
    "from qubx.core.loggers import CsvFileLogsWriter, InMemoryLogsWriter\n",
    "from qubx.trackers.rebalancers import PortfolioRebalancerTracker\n",
    "\n",
    "QubxLogConfig.set_log_level(\"WARNING\")\n",
    "QubxLogConfig.set_log_level(\"INFO\")"
   ]
  },
  {
   "cell_type": "code",
   "execution_count": 8,
   "metadata": {},
   "outputs": [],
   "source": [
    "c1 = {'BTCUSDT': r.read('BINANCE.UM:BTCUSDT', '2024-01-01', '2024-01-02', AsPandasFrame())}"
   ]
  },
  {
   "cell_type": "code",
   "execution_count": 4,
   "metadata": {},
   "outputs": [],
   "source": [
    "from qubx.data.readers import DataReader, InMemoryDataFrameReader\n",
    "from qubx.utils.time import infer_series_frequency, handle_start_stop"
   ]
  },
  {
   "cell_type": "code",
   "execution_count": 6,
   "metadata": {},
   "outputs": [
    {
     "name": "stdout",
     "output_type": "stream",
     "text": [
      "['BTCUSDT']\n"
     ]
    }
   ],
   "source": [
    "r1 = InMemoryDataFrameReader(c1)\n",
    "print(r1.get_names())\n",
    "\n",
    "d1 = r1.read('BTCUSDT', '2024-01-01', '2024-01-01 01:00', RestoreTicksFromOHLC())"
   ]
  },
  {
   "cell_type": "code",
   "execution_count": 20,
   "metadata": {},
   "outputs": [
    {
     "name": "stdout",
     "output_type": "stream",
     "text": [
      "\u001b[32m2024-07-22 12:00:14.646\u001b[0m [ \u001b[1mℹ️\u001b[0m ] \u001b[1mset strategy parameters:\n",
      "\tset \u001b[32mtimeframe\u001b[0m\u001b[1m <- \u001b[31m1h\u001b[0m\u001b[1m\n",
      "\tset \u001b[32mfast_period\u001b[0m\u001b[1m <- \u001b[31m3\u001b[0m\u001b[1m\n",
      "\tset \u001b[32mslow_period\u001b[0m\u001b[1m <- \u001b[31m24\u001b[0m\u001b[1m\u001b[0m\n",
      "\u001b[32m2024-07-22 12:00:14.647\u001b[0m [ \u001b[1mℹ️\u001b[0m ] \u001b[1mSimulatedData.binance.um initialized\u001b[0m\n",
      " -> SimulationSetup(setup_type=<_Types.SIGNAL: 'signal'>, name='simulation/test0', generator=2020-01-01    1\n",
      "Name: BTCUSDT, dtype: int64, tracker=<qubx.trackers.rebalancers.PortfolioRebalancerTracker object at 0x0000025FE89BFED0>, instruments=[Instrument(symbol='BTCUSDT', market_type='CRYPTO', exchange='BINANCE.UM', base='BTC', quote='USDT', margin_symbol='USDT', min_tick=0.1, min_size_step=0.001, min_size=0.001, futures_info=FuturesInfo(contract_type='PERPETUAL', delivery_date=datetime.datetime(2100, 12, 25, 10, 0), onboard_date=datetime.datetime(2019, 9, 25, 11, 0), contract_size=1.0, maint_margin=2.5, required_margin=5.0, liquidation_fee=0.0125), _aux_instrument=None), Instrument(symbol='SOLUSDT', market_type='CRYPTO', exchange='BINANCE.UM', base='SOL', quote='USDT', margin_symbol='USDT', min_tick=0.001, min_size_step=1.0, min_size=1.0, futures_info=FuturesInfo(contract_type='PERPETUAL', delivery_date=datetime.datetime(2100, 12, 25, 10, 0), onboard_date=datetime.datetime(2019, 9, 25, 11, 0), contract_size=1.0, maint_margin=2.5, required_margin=5.0, liquidation_fee=0.015), _aux_instrument=None)])\n",
      " -> SimulationSetup(setup_type=<_Types.SIGNAL: 'signal'>, name='simulation/test1', generator=            BTCUSDT\n",
      "2020-01-01        1, tracker=None, instruments=[Instrument(symbol='BTCUSDT', market_type='CRYPTO', exchange='BINANCE.UM', base='BTC', quote='USDT', margin_symbol='USDT', min_tick=0.1, min_size_step=0.001, min_size=0.001, futures_info=FuturesInfo(contract_type='PERPETUAL', delivery_date=datetime.datetime(2100, 12, 25, 10, 0), onboard_date=datetime.datetime(2019, 9, 25, 11, 0), contract_size=1.0, maint_margin=2.5, required_margin=5.0, liquidation_fee=0.0125), _aux_instrument=None), Instrument(symbol='SOLUSDT', market_type='CRYPTO', exchange='BINANCE.UM', base='SOL', quote='USDT', margin_symbol='USDT', min_tick=0.001, min_size_step=1.0, min_size=1.0, futures_info=FuturesInfo(contract_type='PERPETUAL', delivery_date=datetime.datetime(2100, 12, 25, 10, 0), onboard_date=datetime.datetime(2019, 9, 25, 11, 0), contract_size=1.0, maint_margin=2.5, required_margin=5.0, liquidation_fee=0.015), _aux_instrument=None)])\n",
      " -> SimulationSetup(setup_type=<_Types.STRATEGY: 'strategy'>, name='simulation/test2', generator=<__main__.TestStrategy object at 0x0000025FE8C033D0>, tracker=None, instruments=[Instrument(symbol='BTCUSDT', market_type='CRYPTO', exchange='BINANCE.UM', base='BTC', quote='USDT', margin_symbol='USDT', min_tick=0.1, min_size_step=0.001, min_size=0.001, futures_info=FuturesInfo(contract_type='PERPETUAL', delivery_date=datetime.datetime(2100, 12, 25, 10, 0), onboard_date=datetime.datetime(2019, 9, 25, 11, 0), contract_size=1.0, maint_margin=2.5, required_margin=5.0, liquidation_fee=0.0125), _aux_instrument=None), Instrument(symbol='SOLUSDT', market_type='CRYPTO', exchange='BINANCE.UM', base='SOL', quote='USDT', margin_symbol='USDT', min_tick=0.001, min_size_step=1.0, min_size=1.0, futures_info=FuturesInfo(contract_type='PERPETUAL', delivery_date=datetime.datetime(2100, 12, 25, 10, 0), onboard_date=datetime.datetime(2019, 9, 25, 11, 0), contract_size=1.0, maint_margin=2.5, required_margin=5.0, liquidation_fee=0.015), _aux_instrument=None)])\n",
      "\u001b[32m2024-07-22 12:00:14.647\u001b[0m [ \u001b[1mℹ️\u001b[0m ] \u001b[1mSimulatedData.binance.um initialized\u001b[0m\n",
      " -> SimulationSetup(setup_type=<_Types.SIGNAL: 'signal'>, name='simulation/test0', generator=2020-01-01    1\n",
      "Name: BTCUSDT, dtype: int64, tracker=<qubx.trackers.rebalancers.PortfolioRebalancerTracker object at 0x0000025FE89BFED0>, instruments=[Instrument(symbol='BTCUSDT', market_type='CRYPTO', exchange='BINANCE.UM', base='BTC', quote='USDT', margin_symbol='USDT', min_tick=0.1, min_size_step=0.001, min_size=0.001, futures_info=FuturesInfo(contract_type='PERPETUAL', delivery_date=datetime.datetime(2100, 12, 25, 10, 0), onboard_date=datetime.datetime(2019, 9, 25, 11, 0), contract_size=1.0, maint_margin=2.5, required_margin=5.0, liquidation_fee=0.0125), _aux_instrument=None), Instrument(symbol='SOLUSDT', market_type='CRYPTO', exchange='BINANCE.UM', base='SOL', quote='USDT', margin_symbol='USDT', min_tick=0.001, min_size_step=1.0, min_size=1.0, futures_info=FuturesInfo(contract_type='PERPETUAL', delivery_date=datetime.datetime(2100, 12, 25, 10, 0), onboard_date=datetime.datetime(2019, 9, 25, 11, 0), contract_size=1.0, maint_margin=2.5, required_margin=5.0, liquidation_fee=0.015), _aux_instrument=None)])\n",
      " -> SimulationSetup(setup_type=<_Types.SIGNAL: 'signal'>, name='simulation/test1', generator=            BTCUSDT\n",
      "2020-01-01        1, tracker=None, instruments=[Instrument(symbol='BTCUSDT', market_type='CRYPTO', exchange='BINANCE.UM', base='BTC', quote='USDT', margin_symbol='USDT', min_tick=0.1, min_size_step=0.001, min_size=0.001, futures_info=FuturesInfo(contract_type='PERPETUAL', delivery_date=datetime.datetime(2100, 12, 25, 10, 0), onboard_date=datetime.datetime(2019, 9, 25, 11, 0), contract_size=1.0, maint_margin=2.5, required_margin=5.0, liquidation_fee=0.0125), _aux_instrument=None), Instrument(symbol='SOLUSDT', market_type='CRYPTO', exchange='BINANCE.UM', base='SOL', quote='USDT', margin_symbol='USDT', min_tick=0.001, min_size_step=1.0, min_size=1.0, futures_info=FuturesInfo(contract_type='PERPETUAL', delivery_date=datetime.datetime(2100, 12, 25, 10, 0), onboard_date=datetime.datetime(2019, 9, 25, 11, 0), contract_size=1.0, maint_margin=2.5, required_margin=5.0, liquidation_fee=0.015), _aux_instrument=None)])\n",
      " -> SimulationSetup(setup_type=<_Types.STRATEGY: 'strategy'>, name='simulation/test2', generator=<__main__.TestStrategy object at 0x0000025FE8C033D0>, tracker=None, instruments=[Instrument(symbol='BTCUSDT', market_type='CRYPTO', exchange='BINANCE.UM', base='BTC', quote='USDT', margin_symbol='USDT', min_tick=0.1, min_size_step=0.001, min_size=0.001, futures_info=FuturesInfo(contract_type='PERPETUAL', delivery_date=datetime.datetime(2100, 12, 25, 10, 0), onboard_date=datetime.datetime(2019, 9, 25, 11, 0), contract_size=1.0, maint_margin=2.5, required_margin=5.0, liquidation_fee=0.0125), _aux_instrument=None), Instrument(symbol='SOLUSDT', market_type='CRYPTO', exchange='BINANCE.UM', base='SOL', quote='USDT', margin_symbol='USDT', min_tick=0.001, min_size_step=1.0, min_size=1.0, futures_info=FuturesInfo(contract_type='PERPETUAL', delivery_date=datetime.datetime(2100, 12, 25, 10, 0), onboard_date=datetime.datetime(2019, 9, 25, 11, 0), contract_size=1.0, maint_margin=2.5, required_margin=5.0, liquidation_fee=0.015), _aux_instrument=None)])\n"
     ]
    }
   ],
   "source": [
    "from qubx.backtester.simulator import simulate\n",
    "\n",
    "instruments = [lookup.find_symbol('BINANCE.UM', s) for s in ['BTCUSDT', 'SOLUSDT']]#, 'LINKUSDT']]\n",
    "\n",
    "rep = simulate(\"BINANCE.UM\",\n",
    "    {\n",
    "        \"test0\": [pd.Series({\"2020-01-01\": 1}, name='BTCUSDT'), PortfolioRebalancerTracker(None, 1000, 0)],\n",
    "        \"test1\": pd.DataFrame({'BTCUSDT': {\"2020-01-01\": 1}}),\n",
    "        \"test2\": TestStrategy(timeframe=\"1h\", fast_period=3, slow_period=24)\n",
    "        },\n",
    "    c1,\n",
    "    10000,\n",
    "    ['BTCUSDT', 'SOLUSDT'],\n",
    "    \"vip0_usdt\",\n",
    "    \"2024-01-01\",\n",
    ")\n",
    "\n",
    "[print(f\" -> {r}\") for r in rep];"
   ]
  },
  {
   "cell_type": "code",
   "execution_count": 37,
   "metadata": {},
   "outputs": [
    {
     "data": {
      "text/html": [
       "<div>\n",
       "<style scoped>\n",
       "    .dataframe tbody tr th:only-of-type {\n",
       "        vertical-align: middle;\n",
       "    }\n",
       "\n",
       "    .dataframe tbody tr th {\n",
       "        vertical-align: top;\n",
       "    }\n",
       "\n",
       "    .dataframe thead th {\n",
       "        text-align: right;\n",
       "    }\n",
       "</style>\n",
       "<table border=\"1\" class=\"dataframe\">\n",
       "  <thead>\n",
       "    <tr style=\"text-align: right;\">\n",
       "      <th></th>\n",
       "      <th>BTCUSDT</th>\n",
       "    </tr>\n",
       "  </thead>\n",
       "  <tbody>\n",
       "    <tr>\n",
       "      <th>2020-01-01</th>\n",
       "      <td>1</td>\n",
       "    </tr>\n",
       "  </tbody>\n",
       "</table>\n",
       "</div>"
      ],
      "text/plain": [
       "            BTCUSDT\n",
       "2020-01-01        1"
      ]
     },
     "execution_count": 37,
     "metadata": {},
     "output_type": "execute_result"
    }
   ],
   "source": [
    "pd.DataFrame({'BTCUSDT': {\"2020-01-01\": 1}})"
   ]
  },
  {
   "cell_type": "code",
   "execution_count": 51,
   "metadata": {},
   "outputs": [
    {
     "data": {
      "text/html": [
       "<div>\n",
       "<style scoped>\n",
       "    .dataframe tbody tr th:only-of-type {\n",
       "        vertical-align: middle;\n",
       "    }\n",
       "\n",
       "    .dataframe tbody tr th {\n",
       "        vertical-align: top;\n",
       "    }\n",
       "\n",
       "    .dataframe thead th {\n",
       "        text-align: right;\n",
       "    }\n",
       "</style>\n",
       "<table border=\"1\" class=\"dataframe\">\n",
       "  <thead>\n",
       "    <tr style=\"text-align: right;\">\n",
       "      <th></th>\n",
       "      <th>BTCUSDT</th>\n",
       "    </tr>\n",
       "  </thead>\n",
       "  <tbody>\n",
       "    <tr>\n",
       "      <th>2024-01-01 01:00:00</th>\n",
       "      <td>1</td>\n",
       "    </tr>\n",
       "    <tr>\n",
       "      <th>2024-01-01 02:00:00</th>\n",
       "      <td>0</td>\n",
       "    </tr>\n",
       "  </tbody>\n",
       "</table>\n",
       "</div>"
      ],
      "text/plain": [
       "                     BTCUSDT\n",
       "2024-01-01 01:00:00        1\n",
       "2024-01-01 02:00:00        0"
      ]
     },
     "execution_count": 51,
     "metadata": {},
     "output_type": "execute_result"
    }
   ],
   "source": [
    "sigs = pd.DataFrame.from_dict({'BTCUSDT': {'2024-01-01 01:00': +1, '2024-01-01 02:00': 0}})\n",
    "sigs.index = pd.to_datetime(sigs.index)"
   ]
  },
  {
   "cell_type": "code",
   "execution_count": 50,
   "metadata": {},
   "outputs": [
    {
     "name": "stdout",
     "output_type": "stream",
     "text": [
      "\u001b[32m2024-07-22 10:03:31.034\u001b[0m [ \u001b[1mℹ️\u001b[0m ] \u001b[1mset strategy parameters:\n",
      "\tset \u001b[32mtimeframe\u001b[0m\u001b[1m <- \u001b[31m1h\u001b[0m\u001b[1m\n",
      "\tset \u001b[32mfast_period\u001b[0m\u001b[1m <- \u001b[31m3\u001b[0m\u001b[1m\n",
      "\tset \u001b[32mslow_period\u001b[0m\u001b[1m <- \u001b[31m24\u001b[0m\u001b[1m\u001b[0m\n"
     ]
    },
    {
     "ename": "AttributeError",
     "evalue": "'str' object has no attribute 'symbol'",
     "output_type": "error",
     "traceback": [
      "\u001b[1;31m---------------------------------------------------------------------------\u001b[0m",
      "\u001b[1;31mAttributeError\u001b[0m                            Traceback (most recent call last)",
      "Cell \u001b[1;32mIn[50], line 1\u001b[0m\n\u001b[1;32m----> 1\u001b[0m rep \u001b[38;5;241m=\u001b[39m \u001b[43msimulate\u001b[49m\u001b[43m(\u001b[49m\n\u001b[0;32m      2\u001b[0m \u001b[43m    \u001b[49m\u001b[43m{\u001b[49m\n\u001b[0;32m      3\u001b[0m \u001b[43m        \u001b[49m\u001b[38;5;124;43m'\u001b[39;49m\u001b[38;5;124;43mtest1\u001b[39;49m\u001b[38;5;124;43m'\u001b[39;49m\u001b[43m:\u001b[49m\u001b[43m \u001b[49m\u001b[43m[\u001b[49m\u001b[43mTestStrategy\u001b[49m\u001b[43m(\u001b[49m\u001b[43mtimeframe\u001b[49m\u001b[38;5;241;43m=\u001b[39;49m\u001b[38;5;124;43m'\u001b[39;49m\u001b[38;5;124;43m1h\u001b[39;49m\u001b[38;5;124;43m'\u001b[39;49m\u001b[43m,\u001b[49m\u001b[43m \u001b[49m\u001b[43mfast_period\u001b[49m\u001b[38;5;241;43m=\u001b[39;49m\u001b[38;5;241;43m3\u001b[39;49m\u001b[43m,\u001b[49m\u001b[43m \u001b[49m\u001b[43mslow_period\u001b[49m\u001b[38;5;241;43m=\u001b[39;49m\u001b[38;5;241;43m24\u001b[39;49m\u001b[43m)\u001b[49m\u001b[43m]\u001b[49m\u001b[43m,\u001b[49m\n\u001b[0;32m      4\u001b[0m \u001b[43m        \u001b[49m\u001b[38;5;124;43m'\u001b[39;49m\u001b[38;5;124;43mtest2\u001b[39;49m\u001b[38;5;124;43m'\u001b[39;49m\u001b[43m:\u001b[49m\u001b[43m \u001b[49m\u001b[43msigs\u001b[49m\u001b[43m,\u001b[49m\n\u001b[0;32m      5\u001b[0m \u001b[43m    \u001b[49m\u001b[43m}\u001b[49m\u001b[43m,\u001b[49m\u001b[43m \u001b[49m\n\u001b[0;32m      6\u001b[0m \u001b[43m    \u001b[49m\u001b[43mc1\u001b[49m\u001b[43m,\u001b[49m\u001b[43m \u001b[49m\u001b[38;5;241;43m10000\u001b[39;49m\u001b[43m,\u001b[49m\u001b[43m \u001b[49m\u001b[43m[\u001b[49m\u001b[38;5;124;43m\"\u001b[39;49m\u001b[38;5;124;43mBINANCE.UM:BTCUSDT\u001b[39;49m\u001b[38;5;124;43m\"\u001b[39;49m\u001b[43m]\u001b[49m\u001b[43m,\u001b[49m\u001b[43m \u001b[49m\u001b[38;5;124;43m\"\u001b[39;49m\u001b[38;5;124;43mvip0_usdt\u001b[39;49m\u001b[38;5;124;43m\"\u001b[39;49m\u001b[43m,\u001b[49m\u001b[43m \u001b[49m\u001b[38;5;124;43m\"\u001b[39;49m\u001b[38;5;124;43m2024-01-01\u001b[39;49m\u001b[38;5;124;43m\"\u001b[39;49m\u001b[43m,\u001b[49m\u001b[43m \u001b[49m\n\u001b[0;32m      7\u001b[0m \u001b[43m)\u001b[49m\n",
      "File \u001b[1;32mc:\\Users\\dmitr\\devs\\Qubx\\experiments\\../src\\qubx\\backtester\\simulator.py:490\u001b[0m, in \u001b[0;36msimulate\u001b[1;34m(setup, data, capital, instruments, commissions, start, stop, base_currency, leverage)\u001b[0m\n\u001b[0;32m    487\u001b[0m     \u001b[38;5;28;01mraise\u001b[39;00m \u001b[38;5;167;01mValueError\u001b[39;00m(\u001b[38;5;124mf\u001b[39m\u001b[38;5;124m\"\u001b[39m\u001b[38;5;124mUnsupported data type: \u001b[39m\u001b[38;5;132;01m{\u001b[39;00m\u001b[38;5;28mtype\u001b[39m(data)\u001b[38;5;241m.\u001b[39m\u001b[38;5;18m__name__\u001b[39m\u001b[38;5;132;01m}\u001b[39;00m\u001b[38;5;124m\"\u001b[39m)\n\u001b[0;32m    489\u001b[0m \u001b[38;5;66;03m# - recognize setup: it can be either a strategy or set of signals\u001b[39;00m\n\u001b[1;32m--> 490\u001b[0m setups \u001b[38;5;241m=\u001b[39m \u001b[43m_recognize_setup\u001b[49m\u001b[43m(\u001b[49m\u001b[38;5;124;43m\"\u001b[39;49m\u001b[38;5;124;43msimulation\u001b[39;49m\u001b[38;5;124;43m\"\u001b[39;49m\u001b[43m,\u001b[49m\u001b[43m \u001b[49m\u001b[43msetup\u001b[49m\u001b[43m,\u001b[49m\u001b[43m \u001b[49m\u001b[43minstruments\u001b[49m\u001b[43m)\u001b[49m\n\u001b[0;32m    492\u001b[0m broker \u001b[38;5;241m=\u001b[39m SimulatedTrading(\u001b[38;5;124m\"\u001b[39m\u001b[38;5;124msimulated\u001b[39m\u001b[38;5;124m\"\u001b[39m, capital, commissions, base_currency, np\u001b[38;5;241m.\u001b[39mdatetime64(start, \u001b[38;5;124m\"\u001b[39m\u001b[38;5;124mns\u001b[39m\u001b[38;5;124m\"\u001b[39m))\n\u001b[0;32m    493\u001b[0m exchange \u001b[38;5;241m=\u001b[39m SimulatedExchange(\u001b[38;5;124m\"\u001b[39m\u001b[38;5;124msimulated\u001b[39m\u001b[38;5;124m\"\u001b[39m, broker, data)\n",
      "File \u001b[1;32mc:\\Users\\dmitr\\devs\\Qubx\\experiments\\../src\\qubx\\backtester\\simulator.py:450\u001b[0m, in \u001b[0;36m_recognize_setup\u001b[1;34m(name, setup, instruments)\u001b[0m\n\u001b[0;32m    448\u001b[0m \u001b[38;5;28;01mif\u001b[39;00m \u001b[38;5;28misinstance\u001b[39m(setup, \u001b[38;5;28mdict\u001b[39m):\n\u001b[0;32m    449\u001b[0m     \u001b[38;5;28;01mfor\u001b[39;00m n, v \u001b[38;5;129;01min\u001b[39;00m setup\u001b[38;5;241m.\u001b[39mitems():\n\u001b[1;32m--> 450\u001b[0m         r\u001b[38;5;241m.\u001b[39mextend(\u001b[43m_recognize_setup\u001b[49m\u001b[43m(\u001b[49m\u001b[43mname\u001b[49m\u001b[43m \u001b[49m\u001b[38;5;241;43m+\u001b[39;49m\u001b[43m \u001b[49m\u001b[38;5;124;43m\"\u001b[39;49m\u001b[38;5;124;43m/\u001b[39;49m\u001b[38;5;124;43m\"\u001b[39;49m\u001b[43m \u001b[49m\u001b[38;5;241;43m+\u001b[39;49m\u001b[43m \u001b[49m\u001b[43mn\u001b[49m\u001b[43m,\u001b[49m\u001b[43m \u001b[49m\u001b[43mv\u001b[49m\u001b[43m,\u001b[49m\u001b[43m \u001b[49m\u001b[43minstruments\u001b[49m\u001b[43m)\u001b[49m)\n\u001b[0;32m    452\u001b[0m \u001b[38;5;28;01melif\u001b[39;00m \u001b[38;5;28misinstance\u001b[39m(setup, (\u001b[38;5;28mlist\u001b[39m, \u001b[38;5;28mtuple\u001b[39m)):\n\u001b[0;32m    453\u001b[0m     \u001b[38;5;28;01mif\u001b[39;00m \u001b[38;5;28mlen\u001b[39m(setup) \u001b[38;5;241m==\u001b[39m \u001b[38;5;241m2\u001b[39m \u001b[38;5;129;01mand\u001b[39;00m _is_signal_or_strategy(setup[\u001b[38;5;241m0\u001b[39m]) \u001b[38;5;129;01mand\u001b[39;00m _is_tracker(setup[\u001b[38;5;241m1\u001b[39m]):\n",
      "File \u001b[1;32mc:\\Users\\dmitr\\devs\\Qubx\\experiments\\../src\\qubx\\backtester\\simulator.py:465\u001b[0m, in \u001b[0;36m_recognize_setup\u001b[1;34m(name, setup, instruments)\u001b[0m\n\u001b[0;32m    461\u001b[0m     r\u001b[38;5;241m.\u001b[39mappend(SimulationSetup(_type(setup), name, setup, \u001b[38;5;28;01mNone\u001b[39;00m, instruments))\n\u001b[0;32m    463\u001b[0m \u001b[38;5;28;01melif\u001b[39;00m _is_signal(setup):\n\u001b[0;32m    464\u001b[0m     \u001b[38;5;66;03m# - check structure of signals\u001b[39;00m\n\u001b[1;32m--> 465\u001b[0m     r\u001b[38;5;241m.\u001b[39mappend(SimulationSetup(_type(setup), name, \u001b[43m_check_signals_structure\u001b[49m\u001b[43m(\u001b[49m\u001b[43msetup\u001b[49m\u001b[43m)\u001b[49m, \u001b[38;5;28;01mNone\u001b[39;00m, instruments))\n\u001b[0;32m    467\u001b[0m \u001b[38;5;28;01mreturn\u001b[39;00m r\n",
      "File \u001b[1;32mc:\\Users\\dmitr\\devs\\Qubx\\experiments\\../src\\qubx\\backtester\\simulator.py:443\u001b[0m, in \u001b[0;36m_recognize_setup.<locals>._check_signals_structure\u001b[1;34m(s)\u001b[0m\n\u001b[0;32m    441\u001b[0m \u001b[38;5;28;01mif\u001b[39;00m \u001b[38;5;28misinstance\u001b[39m(s, pd\u001b[38;5;241m.\u001b[39mDataFrame):\n\u001b[0;32m    442\u001b[0m     \u001b[38;5;28;01mfor\u001b[39;00m col \u001b[38;5;129;01min\u001b[39;00m s\u001b[38;5;241m.\u001b[39mcolumns:\n\u001b[1;32m--> 443\u001b[0m         \u001b[38;5;28;01mif\u001b[39;00m \u001b[38;5;129;01mnot\u001b[39;00m \u001b[43mname_in_list\u001b[49m\u001b[43m(\u001b[49m\u001b[43mcol\u001b[49m\u001b[43m)\u001b[49m:\n\u001b[0;32m    444\u001b[0m             \u001b[38;5;28;01mraise\u001b[39;00m \u001b[38;5;167;01mValueError\u001b[39;00m(\u001b[38;5;124mf\u001b[39m\u001b[38;5;124m\"\u001b[39m\u001b[38;5;124mCan\u001b[39m\u001b[38;5;124m'\u001b[39m\u001b[38;5;124mt find instrument for signal\u001b[39m\u001b[38;5;124m'\u001b[39m\u001b[38;5;124ms name: \u001b[39m\u001b[38;5;124m'\u001b[39m\u001b[38;5;132;01m{\u001b[39;00mcol\u001b[38;5;132;01m}\u001b[39;00m\u001b[38;5;124m'\u001b[39m\u001b[38;5;124m\"\u001b[39m)\n\u001b[0;32m    445\u001b[0m \u001b[38;5;28;01mreturn\u001b[39;00m s\n",
      "File \u001b[1;32mc:\\Users\\dmitr\\devs\\Qubx\\experiments\\../src\\qubx\\backtester\\simulator.py:434\u001b[0m, in \u001b[0;36m_recognize_setup.<locals>.<lambda>\u001b[1;34m(n)\u001b[0m\n\u001b[0;32m    429\u001b[0m \u001b[38;5;28;01mdef\u001b[39;00m \u001b[38;5;21m_recognize_setup\u001b[39m(\n\u001b[0;32m    430\u001b[0m     name: \u001b[38;5;28mstr\u001b[39m,\n\u001b[0;32m    431\u001b[0m     setup: Signals \u001b[38;5;241m|\u001b[39m Dict \u001b[38;5;241m|\u001b[39m List[Signals \u001b[38;5;241m|\u001b[39m PositionsTracker] \u001b[38;5;241m|\u001b[39m List[Signals \u001b[38;5;241m|\u001b[39m PositionsTracker],\n\u001b[0;32m    432\u001b[0m     instruments: List[Instrument],\n\u001b[0;32m    433\u001b[0m ):\n\u001b[1;32m--> 434\u001b[0m     name_in_list \u001b[38;5;241m=\u001b[39m \u001b[38;5;28;01mlambda\u001b[39;00m n: \u001b[38;5;28many\u001b[39m(\u001b[43m[\u001b[49m\u001b[43mn\u001b[49m\u001b[43m \u001b[49m\u001b[38;5;241;43m==\u001b[39;49m\u001b[43m \u001b[49m\u001b[43mi\u001b[49m\u001b[38;5;241;43m.\u001b[39;49m\u001b[43msymbol\u001b[49m\u001b[43m \u001b[49m\u001b[38;5;28;43;01mfor\u001b[39;49;00m\u001b[43m \u001b[49m\u001b[43mi\u001b[49m\u001b[43m \u001b[49m\u001b[38;5;129;43;01min\u001b[39;49;00m\u001b[43m \u001b[49m\u001b[43minstruments\u001b[49m\u001b[43m]\u001b[49m)\n\u001b[0;32m    436\u001b[0m     \u001b[38;5;28;01mdef\u001b[39;00m \u001b[38;5;21m_check_signals_structure\u001b[39m(s: pd\u001b[38;5;241m.\u001b[39mSeries \u001b[38;5;241m|\u001b[39m pd\u001b[38;5;241m.\u001b[39mDataFrame) \u001b[38;5;241m-\u001b[39m\u001b[38;5;241m>\u001b[39m pd\u001b[38;5;241m.\u001b[39mSeries \u001b[38;5;241m|\u001b[39m pd\u001b[38;5;241m.\u001b[39mDataFrame:\n\u001b[0;32m    437\u001b[0m         \u001b[38;5;28;01mif\u001b[39;00m \u001b[38;5;28misinstance\u001b[39m(s, pd\u001b[38;5;241m.\u001b[39mSeries):\n",
      "File \u001b[1;32mc:\\Users\\dmitr\\devs\\Qubx\\experiments\\../src\\qubx\\backtester\\simulator.py:434\u001b[0m, in \u001b[0;36m<listcomp>\u001b[1;34m(.0)\u001b[0m\n\u001b[0;32m    429\u001b[0m \u001b[38;5;28;01mdef\u001b[39;00m \u001b[38;5;21m_recognize_setup\u001b[39m(\n\u001b[0;32m    430\u001b[0m     name: \u001b[38;5;28mstr\u001b[39m,\n\u001b[0;32m    431\u001b[0m     setup: Signals \u001b[38;5;241m|\u001b[39m Dict \u001b[38;5;241m|\u001b[39m List[Signals \u001b[38;5;241m|\u001b[39m PositionsTracker] \u001b[38;5;241m|\u001b[39m List[Signals \u001b[38;5;241m|\u001b[39m PositionsTracker],\n\u001b[0;32m    432\u001b[0m     instruments: List[Instrument],\n\u001b[0;32m    433\u001b[0m ):\n\u001b[1;32m--> 434\u001b[0m     name_in_list \u001b[38;5;241m=\u001b[39m \u001b[38;5;28;01mlambda\u001b[39;00m n: \u001b[38;5;28many\u001b[39m([n \u001b[38;5;241m==\u001b[39m \u001b[43mi\u001b[49m\u001b[38;5;241;43m.\u001b[39;49m\u001b[43msymbol\u001b[49m \u001b[38;5;28;01mfor\u001b[39;00m i \u001b[38;5;129;01min\u001b[39;00m instruments])\n\u001b[0;32m    436\u001b[0m     \u001b[38;5;28;01mdef\u001b[39;00m \u001b[38;5;21m_check_signals_structure\u001b[39m(s: pd\u001b[38;5;241m.\u001b[39mSeries \u001b[38;5;241m|\u001b[39m pd\u001b[38;5;241m.\u001b[39mDataFrame) \u001b[38;5;241m-\u001b[39m\u001b[38;5;241m>\u001b[39m pd\u001b[38;5;241m.\u001b[39mSeries \u001b[38;5;241m|\u001b[39m pd\u001b[38;5;241m.\u001b[39mDataFrame:\n\u001b[0;32m    437\u001b[0m         \u001b[38;5;28;01mif\u001b[39;00m \u001b[38;5;28misinstance\u001b[39m(s, pd\u001b[38;5;241m.\u001b[39mSeries):\n",
      "\u001b[1;31mAttributeError\u001b[0m: 'str' object has no attribute 'symbol'"
     ]
    }
   ],
   "source": [
    "rep = simulate(\n",
    "    {\n",
    "        'test1': [TestStrategy(timeframe='1h', fast_period=3, slow_period=24)],\n",
    "        'test2': sigs,\n",
    "    }, \n",
    "    c1, 10000, [\"BINANCE.UM:BTCUSDT\"], \"vip0_usdt\", \"2024-01-01\", \n",
    ")"
   ]
  },
  {
   "cell_type": "code",
   "execution_count": 16,
   "metadata": {},
   "outputs": [
    {
     "name": "stdout",
     "output_type": "stream",
     "text": [
      "\u001b[32m2024-07-22 09:16:49.731\u001b[0m [ \u001b[1mℹ️\u001b[0m ] \u001b[1mSimulatedData.binance initialized\u001b[0m\n",
      "\u001b[32m2024-07-22 09:16:49.731\u001b[0m [ \u001b[1mℹ️\u001b[0m ] \u001b[1mset strategy parameters:\n",
      "\tset \u001b[32mtimeframe\u001b[0m\u001b[1m <- \u001b[31m1h\u001b[0m\u001b[1m\n",
      "\tset \u001b[32mfast_period\u001b[0m\u001b[1m <- \u001b[31m4\u001b[0m\u001b[1m\n",
      "\tset \u001b[32mslow_period\u001b[0m\u001b[1m <- \u001b[31m12\u001b[0m\u001b[1m\u001b[0m\n",
      "\u001b[32m2024-07-22 09:16:49.735\u001b[0m [ \u001b[1mℹ️\u001b[0m ] \u001b[1m(StrategyContext) Subscribing to ohlc updates using {'timeframe': '5Min', 'nback': 10} for \n",
      "\t['BTCUSDT', 'SOLUSDT'] \u001b[0m\n",
      "\u001b[32m2024-07-22 09:16:49.736\u001b[0m [ \u001b[1mℹ️\u001b[0m ] \u001b[1m -> Strategy started | 2024-04-01T00:00:00.000000000\u001b[0m\n",
      "\u001b[32m2024-07-22 09:16:49.731\u001b[0m [ \u001b[1mℹ️\u001b[0m ] \u001b[1mset strategy parameters:\n",
      "\tset \u001b[32mtimeframe\u001b[0m\u001b[1m <- \u001b[31m1h\u001b[0m\u001b[1m\n",
      "\tset \u001b[32mfast_period\u001b[0m\u001b[1m <- \u001b[31m4\u001b[0m\u001b[1m\n",
      "\tset \u001b[32mslow_period\u001b[0m\u001b[1m <- \u001b[31m12\u001b[0m\u001b[1m\u001b[0m\n",
      "\u001b[32m2024-07-22 09:16:49.735\u001b[0m [ \u001b[1mℹ️\u001b[0m ] \u001b[1m(StrategyContext) Subscribing to ohlc updates using {'timeframe': '5Min', 'nback': 10} for \n",
      "\t['BTCUSDT', 'SOLUSDT'] \u001b[0m\n",
      "\u001b[32m2024-07-22 09:16:49.736\u001b[0m [ \u001b[1mℹ️\u001b[0m ] \u001b[1m -> Strategy started | 2024-04-01T00:00:00.000000000\u001b[0m\n"
     ]
    }
   ],
   "source": [
    "sbroker = SimulatedTrading('binance', 10000, 'vip0_usdt', 'USDT', '2024-04-01 00:00:00')\n",
    "sdp = SimulatedExchange('binance', sbroker, r)\n",
    "\n",
    "instruments = [lookup.find_symbol('BINANCE.UM', s) for s in ['BTCUSDT', 'SOLUSDT']]#, 'LINKUSDT']]\n",
    "# instruments = [lookup.find_symbol('BINANCE.UM', s) for s in ['SOLUSDT']]#, 'LINKUSDT']]\n",
    "\n",
    "logs_writer = InMemoryLogsWriter('test', 'test', 'test')\n",
    "\n",
    "ctx = StrategyContext(\n",
    "    TestStrategy(timeframe='1h', fast_period=4, slow_period=12), None, #dict(timeframe='1h', fast_period=3, slow_period=24), \n",
    "    sdp, instruments=instruments,  # type: ignore\n",
    "    md_subscription=dict(type='ohlc', timeframe='5Min', nback=10), # TODO: doesn't work if nback > 0 !!!\n",
    "    trigger_spec='1h -2Sec',\n",
    "    logs_writer=logs_writer,\n",
    "    # trigger_spec=\"*/10 * * * *\"\n",
    "\n",
    ")\n",
    "ctx.start()"
   ]
  },
  {
   "cell_type": "code",
   "execution_count": null,
   "metadata": {},
   "outputs": [],
   "source": [
    "# %%time\n",
    "# d = sdp.run('2024-01-01 00:00', '2024-01-03 00:00')\n",
    "d = sdp.run('2024-04-01 00:00', '2024-04-15 00:00')\n",
    "ctx.stop()"
   ]
  },
  {
   "cell_type": "code",
   "execution_count": 65,
   "metadata": {},
   "outputs": [
    {
     "data": {
      "text/html": [
       "\n",
       "\n",
       "\n",
       "\n",
       "<style>\n",
       ".report_table td, .report_table th {\n",
       "    text-align:left !important;\n",
       "}\n",
       "\n",
       ".wrap_table th {\n",
       "    text-align:center !important;\n",
       "}\n",
       "\n",
       ".wrap_table td, .wrap_table tr {\n",
       "    background: none !important;\n",
       "    text-align:left !important;\n",
       "}\n",
       "\n",
       ".flex-container {\n",
       "   display: flex;\n",
       "  align-items: flex-start;\n",
       "}\n",
       "\n",
       ".table_block {\n",
       "  width:30%;\n",
       "}\n",
       "\n",
       "</style>\n",
       "\n",
       "<table class=\"wrap_table\" width=100%>\n",
       "<th><font size=3 color=\"green\" text-align=\"center\"> Simulation </font></th>\n",
       "<tr><td><font color=\"#3030ff\" size=-2></font></td></tr>\n",
       "</table>\n",
       "\n",
       "<div class=\"flex-container\"><div class=\"\">\n",
       "<img src='data:image/png;base64,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'>\n",
       "</div>\n",
       "<div class=\"table_block\">\n",
       "<table class=\"report_table\" width=100%>\n",
       "<tr>\n",
       "     <th> Statistic </th><th> Model </th>\n",
       "</tr>\n",
       "<tr><td>Gain (USD):</td><td>65.73</td></tr>\n",
       "<tr><td>CAGR (%):</td><td>327.236</td></tr>\n",
       "<tr><td>Sharpe:</td><td>1.602</td></tr>\n",
       "<tr><td>QR:</td><td>-0.016</td></tr>\n",
       "<tr><td>Sortino:</td><td>3.911</td></tr>\n",
       "<tr><td>Calmar: </td><td>12.386</td></tr>\n",
       "<tr><td>MaxDD (%):</td><td>37.705</td></tr>\n",
       "<tr><td>MaxDD On Init BP (%):</td><td>41.999</td></tr>\n",
       "<tr><td>MaxDD (USD):</td><td>419.989</td></tr>\n",
       "<tr><td>MaxDD days:</td><td>11 days</td></tr>\n",
       "<tr><td>MaxDD start:</td><td>2024-04-02</td></tr>\n",
       "<tr><td>MaxDD peak:</td><td>2024-04-12</td></tr>\n",
       "<tr><td>MaxDD recover:</td><td>2024-04-13</td></tr>\n",
       "<tr><td>Tail Ratio:</td><td>1.751</td></tr>\n",
       "<tr><td>Stability: </td><td>0.014</td></tr>\n",
       "<tr><td>Alpha:</td><td></td></tr>\n",
       "<tr><td>Beta:</td><td></td></tr>\n",
       "<tr><td>Ann.Volatility (%):</td><td>144.71</td></tr>\n",
       "<tr><td>VAR_95 (USD):</td><td>137.54</td></tr>\n",
       "<tr><td>Mean return (%)</td><td>0.764</td></tr>\n",
       "<tr><td>Signals</td><td>???</td></tr>\n",
       "<tr><td>Broker's Commissions:</td><td> 143.936 </td></tr>\n",
       "\n",
       "\n",
       "</table>\n",
       "</div>\n",
       "</div></div>\n"
      ],
      "text/plain": [
       "<IPython.core.display.HTML object>"
      ]
     },
     "metadata": {},
     "output_type": "display_data"
    },
    {
     "data": {
      "text/plain": [
       "<Figure size 720x640 with 0 Axes>"
      ]
     },
     "metadata": {},
     "output_type": "display_data"
    }
   ],
   "source": [
    "from qube.portfolio.reports import tearsheet\n",
    "\n",
    "q_pfl = logs_writer.get_portfolio(qube_compatible=True)\n",
    "tearsheet(q_pfl, 1000, account_transactions=1)"
   ]
  },
  {
   "cell_type": "code",
   "execution_count": 216,
   "metadata": {},
   "outputs": [
    {
     "data": {
      "text/html": [
       "<div>\n",
       "<style scoped>\n",
       "    .dataframe tbody tr th:only-of-type {\n",
       "        vertical-align: middle;\n",
       "    }\n",
       "\n",
       "    .dataframe tbody tr th {\n",
       "        vertical-align: top;\n",
       "    }\n",
       "\n",
       "    .dataframe thead th {\n",
       "        text-align: right;\n",
       "    }\n",
       "</style>\n",
       "<table border=\"1\" class=\"dataframe\">\n",
       "  <thead>\n",
       "    <tr style=\"text-align: right;\">\n",
       "      <th></th>\n",
       "      <th>instrument_id</th>\n",
       "      <th>side</th>\n",
       "      <th>filled_qty</th>\n",
       "      <th>price</th>\n",
       "      <th>commissions</th>\n",
       "      <th>commissions_quoted</th>\n",
       "    </tr>\n",
       "    <tr>\n",
       "      <th>timestamp</th>\n",
       "      <th></th>\n",
       "      <th></th>\n",
       "      <th></th>\n",
       "      <th></th>\n",
       "      <th></th>\n",
       "      <th></th>\n",
       "    </tr>\n",
       "  </thead>\n",
       "  <tbody>\n",
       "    <tr>\n",
       "      <th>2024-01-02 17:59:59.999</th>\n",
       "      <td>SOLUSDT</td>\n",
       "      <td>sell</td>\n",
       "      <td>-10.0</td>\n",
       "      <td>107.7075</td>\n",
       "      <td>None</td>\n",
       "      <td>None</td>\n",
       "    </tr>\n",
       "    <tr>\n",
       "      <th>2024-01-03 06:59:59.999</th>\n",
       "      <td>SOLUSDT</td>\n",
       "      <td>buy</td>\n",
       "      <td>20.0</td>\n",
       "      <td>109.4985</td>\n",
       "      <td>None</td>\n",
       "      <td>None</td>\n",
       "    </tr>\n",
       "    <tr>\n",
       "      <th>2024-01-03 07:59:59.999</th>\n",
       "      <td>SOLUSDT</td>\n",
       "      <td>sell</td>\n",
       "      <td>-20.0</td>\n",
       "      <td>107.9585</td>\n",
       "      <td>None</td>\n",
       "      <td>None</td>\n",
       "    </tr>\n",
       "    <tr>\n",
       "      <th>2024-01-03 09:59:59.999</th>\n",
       "      <td>SOLUSDT</td>\n",
       "      <td>buy</td>\n",
       "      <td>20.0</td>\n",
       "      <td>109.1885</td>\n",
       "      <td>None</td>\n",
       "      <td>None</td>\n",
       "    </tr>\n",
       "    <tr>\n",
       "      <th>2024-01-03 10:59:59.999</th>\n",
       "      <td>SOLUSDT</td>\n",
       "      <td>sell</td>\n",
       "      <td>-20.0</td>\n",
       "      <td>107.5695</td>\n",
       "      <td>None</td>\n",
       "      <td>None</td>\n",
       "    </tr>\n",
       "  </tbody>\n",
       "</table>\n",
       "</div>"
      ],
      "text/plain": [
       "                        instrument_id  side  filled_qty     price commissions  \\\n",
       "timestamp                                                                       \n",
       "2024-01-02 17:59:59.999       SOLUSDT  sell       -10.0  107.7075        None   \n",
       "2024-01-03 06:59:59.999       SOLUSDT   buy        20.0  109.4985        None   \n",
       "2024-01-03 07:59:59.999       SOLUSDT  sell       -20.0  107.9585        None   \n",
       "2024-01-03 09:59:59.999       SOLUSDT   buy        20.0  109.1885        None   \n",
       "2024-01-03 10:59:59.999       SOLUSDT  sell       -20.0  107.5695        None   \n",
       "\n",
       "                        commissions_quoted  \n",
       "timestamp                                   \n",
       "2024-01-02 17:59:59.999               None  \n",
       "2024-01-03 06:59:59.999               None  \n",
       "2024-01-03 07:59:59.999               None  \n",
       "2024-01-03 09:59:59.999               None  \n",
       "2024-01-03 10:59:59.999               None  "
      ]
     },
     "execution_count": 216,
     "metadata": {},
     "output_type": "execute_result"
    }
   ],
   "source": [
    "exs.head()"
   ]
  },
  {
   "cell_type": "code",
   "execution_count": null,
   "metadata": {},
   "outputs": [],
   "source": [
    "# pfl = pd.read_csv(\"logs/Strategy3_Account1_portfolio.csv\", index_col='timestamp', parse_dates=True)\n",
    "pfl = logs_writer.get_portfolio(qube_compatible=False)\n",
    "exs = logs_writer.get_executions()"
   ]
  },
  {
   "cell_type": "code",
   "execution_count": 217,
   "metadata": {},
   "outputs": [
    {
     "data": {
      "text/plain": [
       "<Axes: xlabel='timestamp'>"
      ]
     },
     "execution_count": 217,
     "metadata": {},
     "output_type": "execute_result"
    },
    {
     "data": {
      "image/png": "[encoded data removed]",
      "text/plain": [
       "<Figure size 960x400 with 1 Axes>"
      ]
     },
     "metadata": {},
     "output_type": "display_data"
    }
   ],
   "source": [
    "(pfl[pfl['instrument_id'] == 'BTCUSDT'].pnl_quoted + \n",
    " pfl[pfl['instrument_id'] == 'SOLUSDT'].pnl_quoted).plot()\n",
    "# pfl[pfl['instrument_id'] == 'LINKUSDT'].pnl_quoted.plot()"
   ]
  },
  {
   "cell_type": "code",
   "execution_count": null,
   "metadata": {},
   "outputs": [],
   "source": []
  },
  {
   "cell_type": "code",
   "execution_count": null,
   "metadata": {},
   "outputs": [],
   "source": []
  }
 ],
 "metadata": {
  "kernelspec": {
   "display_name": ".venv",
   "language": "python",
   "name": "python3"
  },
  "language_info": {
   "codemirror_mode": {
    "name": "ipython",
    "version": 3
   },
   "file_extension": ".py",
   "mimetype": "text/x-python",
   "name": "python",
   "nbconvert_exporter": "python",
   "pygments_lexer": "ipython3",
   "version": "3.11.8"
  }
 },
 "nbformat": 4,
 "nbformat_minor": 2
}
