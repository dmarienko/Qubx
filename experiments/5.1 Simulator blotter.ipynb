{
 "cells": [
  {
   "cell_type": "code",
   "execution_count": 8,
   "metadata": {},
   "outputs": [
    {
     "name": "stdout",
     "output_type": "stream",
     "text": [
      " >  [\u001b[32mdev\u001b[0m] \u001b[31minstalling cython rebuilding hook\u001b[0m\n",
      "The autoreload extension is already loaded. To reload it, use:\n",
      "  %reload_ext autoreload\n"
     ]
    }
   ],
   "source": [
    "import sys, os, re; sys.path = ([\"../src/\", \"../\"] if re.match(r'^(\\w\\:\\\\)|(/)', os.getcwd()) else [])+ sys.path \n",
    "\n",
    "from typing import Any, Optional, List\n",
    "\n",
    "import qubx\n",
    "%qubxd dev \n",
    "\n",
    "%load_ext autoreload\n",
    "%autoreload 2\n",
    "\n",
    "from qubx import lookup, logger\n",
    "from qubx.core.strategy import IStrategy, StrategyContext, TriggerEvent\n",
    "from qubx.pandaz.utils import *\n",
    "\n",
    "# - - - - - - - - - - - - - - - - - - - - - - - -\n",
    "from qubx.trackers import PortfolioRebalancerTracker\n",
    "from qubx.core.series import Quote\n",
    "from qubx.ta.indicators import sma, ema\n",
    "from qubx.data.readers import CsvStorageDataReader, MultiQdbConnector, AsTimestampedRecords, AsQuotes, RestoreTicksFromOHLC, AsPandasFrame, RestoreTicksFromOHLC\n",
    "from qubx.core.basics import Deal, Instrument, Order, Position, Signal\n",
    "from qubx.core.utils import recognize_time\n",
    "\n",
    "from qubx.impl.ccxt_connector import CCXTExchangesConnector\n",
    "from qubx.impl.ccxt_trading import CCXTTradingConnector\n",
    "from qubx.utils.runner import get_account_config\n",
    "\n",
    "def Q(time: str, bid: float, ask: float) -> Quote:\n",
    "    return Quote(recognize_time(time), bid, ask, 0, 0)\n",
    "\n",
    "# r = CsvStorageDataReader(\"../tests/data/csv\")\n",
    "r = MultiQdbConnector('xlydian-data')\n",
    "\n",
    "from qubx import QubxLogConfig\n",
    "from qubx.backtester.simulator import simulate\n",
    "\n",
    "# from qube.portfolio.reports import tearsheet\n",
    "from qubx.core.metrics import tearsheet\n",
    "from qubx.core.metrics import portfolio_metrics"
   ]
  },
  {
   "cell_type": "markdown",
   "metadata": {},
   "source": [
    "# Test Strategy"
   ]
  },
  {
   "cell_type": "code",
   "execution_count": 2,
   "metadata": {},
   "outputs": [],
   "source": [
    "class TestStrategy(IStrategy):\n",
    "    timeframe: str = \"1Min\"\n",
    "    fast_period = 5\n",
    "    slow_period = 12\n",
    "\n",
    "    def on_start(self, ctx: StrategyContext):\n",
    "        logger.info(f\" -> Strategy started | {ctx.time()}\")\n",
    "\n",
    "    def on_fit(self, ctx: \"StrategyContext\", fit_time: str | pd.Timestamp, previous_fit_time: str | pd.Timestamp | None = None):\n",
    "        logger.info(f\" -> Fit is called | fit_time: {fit_time} / prev: {previous_fit_time}\")\n",
    "        data = ctx.get_historical_ohlcs(ctx.instruments[0], '1h', 24)\n",
    "        logger.info(data)\n",
    "\n",
    "    def on_event(self, ctx: StrategyContext, event: TriggerEvent) -> List[Signal] | None:\n",
    "        logger.info(f\" ||||| {event.time} -> {event} |||||\")\n",
    "\n",
    "        for i in ctx.instruments:\n",
    "            logger.info(f\"\\t{i.symbol} : {ctx.broker_provider.get_quote(i.symbol)}\")\n",
    "\n",
    "            if True:\n",
    "                ohlc = ctx.ohlc(i, self.timeframe)\n",
    "                fast = ema(ohlc.close, self.fast_period)\n",
    "                slow = ema(ohlc.close, self.slow_period)\n",
    "                pos = ctx.positions[i.symbol].quantity\n",
    "                # cap = ctx.get_capital()\n",
    "                # n = len(ctx.instruments)\n",
    "                if pos <= 0:\n",
    "                    if (fast[0] > slow[0]) and (fast[1] < slow[1]):\n",
    "                        ctx.trade(i, abs(pos) + i.min_size * 10)\n",
    "\n",
    "                if pos >= 0:\n",
    "                    if (fast[0] < slow[0]) and (fast[1] > slow[1]):\n",
    "                        ctx.trade(i, -pos - i.min_size * 10)\n",
    "\n",
    "        return None\n",
    "\n",
    "    def ohlcs(self, timeframe: str) -> Dict[str, pd.DataFrame]:\n",
    "        return {s.symbol: self.ctx.ohlc(s, timeframe).pd() for s in self.ctx.instruments}\n",
    "\n",
    "    def on_stop(self, ctx: StrategyContext):\n",
    "        logger.info(f\" -> strategy is stopped\")\n",
    "\n",
    "    def tracker(self, ctx: StrategyContext) -> PortfolioRebalancerTracker:\n",
    "        return PortfolioRebalancerTracker(ctx, 1000, 0)"
   ]
  },
  {
   "cell_type": "markdown",
   "metadata": {},
   "source": [
    "# Simulated broker and paper trading"
   ]
  },
  {
   "cell_type": "code",
   "execution_count": 4,
   "metadata": {},
   "outputs": [],
   "source": [
    "from qubx.backtester.simulator import SimulatedTrading"
   ]
  },
  {
   "cell_type": "code",
   "execution_count": 5,
   "metadata": {},
   "outputs": [
    {
     "name": "stdout",
     "output_type": "stream",
     "text": [
      "\u001b[32m2024-07-22 01:20:57.947\u001b[0m [ \u001b[1mℹ️\u001b[0m ] \u001b[1mbinance initialized - current time 1970-01-01T00:00:00.000000000\u001b[0m\n",
      "\u001b[32m2024-07-22 01:20:57.948\u001b[0m [ \u001b[33m\u001b[1m⚠️\u001b[0m ] \u001b[36mqubx.core.loggers\u001b[0m:\u001b[36m__init__\u001b[0m:\u001b[36m396\u001b[0m - \u001b[33m\u001b[1mLog writer is not defined - strategy activity will not be saved !\u001b[0m\n",
      "\u001b[32m2024-07-22 01:20:57.948\u001b[0m [ \u001b[1mℹ️\u001b[0m ] \u001b[1mset strategy parameters:\n",
      "\tset \u001b[32mtimeframe\u001b[0m\u001b[1m <- \u001b[31m1Min\u001b[0m\u001b[1m\u001b[0m\n",
      "\u001b[32m2024-07-22 01:20:57.948\u001b[0m [ \u001b[34m\u001b[1m🐞\u001b[0m ] \u001b[34m\u001b[1mTriggering strategy on every 1Min bar after 55S\u001b[0m\n",
      "\u001b[32m2024-07-22 01:20:57.948\u001b[0m [ \u001b[33m\u001b[1m⚠️\u001b[0m ] \u001b[36mqubx.core.loggers\u001b[0m:\u001b[36m__init__\u001b[0m:\u001b[36m396\u001b[0m - \u001b[33m\u001b[1mLog writer is not defined - strategy activity will not be saved !\u001b[0m\n",
      "\u001b[32m2024-07-22 01:20:57.948\u001b[0m [ \u001b[1mℹ️\u001b[0m ] \u001b[1mset strategy parameters:\n",
      "\tset \u001b[32mtimeframe\u001b[0m\u001b[1m <- \u001b[31m1Min\u001b[0m\u001b[1m\u001b[0m\n",
      "\u001b[32m2024-07-22 01:20:57.948\u001b[0m [ \u001b[34m\u001b[1m🐞\u001b[0m ] \u001b[34m\u001b[1mTriggering strategy on every 1Min bar after 55S\u001b[0m\n"
     ]
    }
   ],
   "source": [
    "auth = get_account_config('binance-qbx', './configs/.env')\n",
    "\n",
    "sim = SimulatedTrading('binance', 10000, 'vip0_usdt', 'USDT')\n",
    "exch = CCXTExchangesConnector('binance', sim, **auth)\n",
    "\n",
    "instruments = [lookup.find_symbol('BINANCE', 'BTCUSDT')]\n",
    "ctx = StrategyContext(\n",
    "    TestStrategy(), dict(\n",
    "        timeframe='1Min',\n",
    "    ), \n",
    "    exch, instruments=instruments,  # type: ignore\n",
    "    md_subscription=dict(type='ohlc', timeframe='1Min', nback=0),\n",
    "    trigger_spec='1Min -5Sec',\n",
    ")\n",
    "S = ctx.strategy"
   ]
  },
  {
   "cell_type": "code",
   "execution_count": 6,
   "metadata": {},
   "outputs": [
    {
     "name": "stdout",
     "output_type": "stream",
     "text": [
      "\u001b[32m2024-07-22 01:21:02.025\u001b[0m [ \u001b[1mℹ️\u001b[0m ] \u001b[1m(StrategyContext) Subscribing to ohlc updates using {'timeframe': '1Min', 'nback': 0} for \n",
      "\t['BTCUSDT'] \u001b[0m\n",
      "\u001b[32m2024-07-22 01:21:02.027\u001b[0m [ \u001b[1mℹ️\u001b[0m ] \u001b[1mSubscribed on ohlc updates for 1 symbols: \n",
      "\t\t['BTCUSDT']\u001b[0m\n",
      "\u001b[32m2024-07-22 01:21:02.029\u001b[0m [ \u001b[1mℹ️\u001b[0m ] \u001b[1m -> Strategy started | 1970-01-01T00:00:00.000000000\u001b[0m\n",
      "\u001b[32m2024-07-22 01:21:02.030\u001b[0m [ \u001b[1mℹ️\u001b[0m ] \u001b[1m(StrategyContext) Start processing market data\u001b[0m\n",
      "\u001b[32m2024-07-22 01:21:02.032\u001b[0m [ \u001b[1mℹ️\u001b[0m ] \u001b[1m(StrategyContext) strategy is started in thread\u001b[0m\n"
     ]
    },
    {
     "name": "stdout",
     "output_type": "stream",
     "text": [
      "\u001b[32m2024-07-22 01:21:10.657\u001b[0m [ \u001b[34m\u001b[1m🐞\u001b[0m ] \u001b[34m\u001b[1m[2024-07-21T22:21:10.781562880]: Invoking TestStrategy on_fit('1970-01-01 00:00:00', 'None')\u001b[0m\n",
      "\u001b[32m2024-07-22 01:21:10.658\u001b[0m [ \u001b[1mℹ️\u001b[0m ] \u001b[1m -> Fit is called | fit_time: 1970-01-01 00:00:00 / prev: None\u001b[0m\n",
      "\u001b[32m2024-07-22 01:21:11.067\u001b[0m [ \u001b[1mℹ️\u001b[0m ] \u001b[1mBTCUSDT[1H] | 24 records\n",
      "  2024-07-21T22:00:00.000000000 {o:68194.000000 | h:68366.660000 | l:68038.000000 | c:68114.000000 | v:30436483.800795}\n",
      "  2024-07-21T21:00:00.000000000 {o:67723.910000 | h:68298.020000 | l:67564.200000 | c:68193.990000 | v:85407297.413267}\n",
      "  2024-07-21T20:00:00.000000000 {o:67422.030000 | h:68209.160000 | l:67274.690000 | c:67723.910000 | v:151774422.575169}\n",
      "   .......... \n",
      "  2024-07-21T01:00:00.000000000 {o:67066.020000 | h:67436.220000 | l:67041.070000 | c:67276.330000 | v:24780965.435619}\n",
      "  2024-07-21T00:00:00.000000000 {o:67139.970000 | h:67322.000000 | l:66962.000000 | c:67066.020000 | v:35409180.504901}\n",
      "  2024-07-20T23:00:00.000000000 {o:67114.000000 | h:67200.000000 | l:67092.000000 | c:67139.960000 | v:19865751.803434}\n",
      "\u001b[0m\n",
      "\u001b[32m2024-07-22 01:21:11.067\u001b[0m [ \u001b[34m\u001b[1m🐞\u001b[0m ] \u001b[34m\u001b[1m[2024-07-21T22:21:10.781562880]: TestStrategy is fitted\u001b[0m\n",
      "\u001b[32m2024-07-22 01:21:26.063\u001b[0m [ \u001b[34m\u001b[1m🐞\u001b[0m ] \u001b[34m\u001b[1m[SIM-ORDER-BTCUSDT-100001 / TestStrategy_BTCUSDT_1] : MARKET BUY 0.1 of BTCUSDT  -> [CLOSED]\u001b[0m\n",
      "\u001b[32m2024-07-22 01:21:26.064\u001b[0m [ \u001b[34m\u001b[1m🐞\u001b[0m ] \u001b[34m\u001b[1mExecuted 0.1 @ 68078.005 of BTCUSDT for order SIM-ORDER-BTCUSDT-100001\u001b[0m\n",
      "\u001b[32m2024-07-22 01:21:27.678\u001b[0m [ \u001b[34m\u001b[1m🐞\u001b[0m ] \u001b[34m\u001b[1m[SIM-ORDER-BTCUSDT-100002 / TestStrategy_BTCUSDT_2] : MARKET SELL 0.1 of BTCUSDT  -> [CLOSED]\u001b[0m\n",
      "\u001b[32m2024-07-22 01:21:27.679\u001b[0m [ \u001b[34m\u001b[1m🐞\u001b[0m ] \u001b[34m\u001b[1mExecuted -0.1 @ 68077.995 of BTCUSDT for order SIM-ORDER-BTCUSDT-100002\u001b[0m\n",
      "\u001b[32m2024-07-22 01:21:29.117\u001b[0m [ \u001b[34m\u001b[1m🐞\u001b[0m ] \u001b[34m\u001b[1m[SIM-ORDER-BTCUSDT-100003 / TestStrategy_BTCUSDT_3] : LIMIT BUY 0.1 of BTCUSDT  @ 45000 -> [OPEN]\u001b[0m\n",
      "\u001b[32m2024-07-22 01:21:30.410\u001b[0m [ \u001b[34m\u001b[1m🐞\u001b[0m ] \u001b[34m\u001b[1m[SIM-ORDER-BTCUSDT-100003 / TestStrategy_BTCUSDT_3] : LIMIT BUY 0.1 of BTCUSDT  @ 45000 -> [CANCELED]\u001b[0m\n",
      "\u001b[32m2024-07-22 01:21:33.110\u001b[0m [ \u001b[1mℹ️\u001b[0m ] \u001b[1m(StrategyContext) Market data processing stopped\u001b[0m\n",
      "\u001b[32m2024-07-22 01:21:33.128\u001b[0m [ \u001b[1mℹ️\u001b[0m ] \u001b[1m(CCXTDataConnector) BTCUSDT OHLCV listening has been stopped\u001b[0m\n",
      "\u001b[32m2024-07-22 01:21:33.129\u001b[0m [ \u001b[1mℹ️\u001b[0m ] \u001b[1m(CCXTDataConnector) BTCUSDT execution reports listening has been stopped\u001b[0m\n"
     ]
    }
   ],
   "source": [
    "ctx.start()"
   ]
  },
  {
   "cell_type": "code",
   "execution_count": null,
   "metadata": {},
   "outputs": [],
   "source": [
    "exch.get_historical_ohlcs('BTCUSDT', '5Min', 200)"
   ]
  },
  {
   "cell_type": "code",
   "execution_count": 8,
   "metadata": {},
   "outputs": [
    {
     "data": {
      "text/plain": [
       "                        open     high       low     close         volume  \\\n",
       "timestamp                                                                  \n",
       "2024-07-21 22:21:00  68092.0  68126.2  68091.99  68096.01  410255.488169   \n",
       "\n",
       "                     bought_volume  \n",
       "timestamp                           \n",
       "2024-07-21 22:21:00  240288.718168  "
      ]
     },
     "execution_count": 8,
     "metadata": {},
     "output_type": "execute_result"
    }
   ],
   "source": [
    "ctx.ohlc(ctx.instruments[0], '1Min')"
   ]
  },
  {
   "cell_type": "code",
   "execution_count": 6,
   "metadata": {},
   "outputs": [
    {
     "name": "stdout",
     "output_type": "stream",
     "text": [
      "??? [BINANCE:BTCUSDT]       0.00000      0.00    +0.0000 | nan        0.00\n",
      "[]\n"
     ]
    }
   ],
   "source": [
    "print(exch.trading_service.get_position(instruments[0]))\n",
    "print(exch.trading_service.get_orders())"
   ]
  },
  {
   "cell_type": "code",
   "execution_count": 9,
   "metadata": {},
   "outputs": [
    {
     "name": "stdout",
     "output_type": "stream",
     "text": [
      "\u001b[32m2024-07-22 01:21:26.058\u001b[0m [ \u001b[1mℹ️\u001b[0m ] \u001b[1m(StrategyContext) sending market buy for 0.1 of BTCUSDT ...\u001b[0m\n",
      "\u001b[32m2024-07-22 01:21:26.060\u001b[0m [ \u001b[34m\u001b[1m🐞\u001b[0m ] \u001b[34m\u001b[1m[OMS] BTCUSDT - SIM-ORDER-BTCUSDT-100001 MARKET BUY 0.1 executed at 68078.005\u001b[0m\n",
      "\u001b[32m2024-07-22 01:21:26.061\u001b[0m [ \u001b[1mℹ️\u001b[0m ] \u001b[1m  ::  traded 0.1 for BTCUSDT @ 68078.005 -> 0.00\u001b[0m\n",
      "\u001b[32m2024-07-22 01:21:26.061\u001b[0m [ \u001b[1mℹ️\u001b[0m ] \u001b[1mOrder SIM-ORDER-BTCUSDT-100001 MARKET BUY 0.1 of BTCUSDT -> CLOSED\u001b[0m\n"
     ]
    },
    {
     "data": {
      "text/plain": [
       "Order(id='SIM-ORDER-BTCUSDT-100001', type='MARKET', symbol='BTCUSDT', time=numpy.datetime64('2024-07-21T22:21:24.191141120'), quantity=0.1, price=0, side='BUY', status='CLOSED', time_in_force='gtc', client_id='TestStrategy_BTCUSDT_1', cost=0.0)"
      ]
     },
     "execution_count": 9,
     "metadata": {},
     "output_type": "execute_result"
    }
   ],
   "source": [
    "ctx.trade('BTCUSDT', 0.1)"
   ]
  },
  {
   "cell_type": "code",
   "execution_count": 10,
   "metadata": {},
   "outputs": [
    {
     "name": "stdout",
     "output_type": "stream",
     "text": [
      "\u001b[32m2024-07-22 01:21:27.671\u001b[0m [ \u001b[1mℹ️\u001b[0m ] \u001b[1m(StrategyContext) sending market sell for 0.1 of BTCUSDT ...\u001b[0m\n",
      "\u001b[32m2024-07-22 01:21:27.671\u001b[0m [ \u001b[34m\u001b[1m🐞\u001b[0m ] \u001b[34m\u001b[1m[OMS] BTCUSDT - SIM-ORDER-BTCUSDT-100002 MARKET SELL 0.1 executed at 68077.995\u001b[0m\n",
      "\u001b[32m2024-07-22 01:21:27.671\u001b[0m [ \u001b[1mℹ️\u001b[0m ] \u001b[1m  ::  traded -0.1 for BTCUSDT @ 68077.995 -> -0.00\u001b[0m\n",
      "\u001b[32m2024-07-22 01:21:27.677\u001b[0m [ \u001b[1mℹ️\u001b[0m ] \u001b[1mOrder SIM-ORDER-BTCUSDT-100002 MARKET SELL 0.1 of BTCUSDT -> CLOSED\u001b[0m\n"
     ]
    },
    {
     "data": {
      "text/plain": [
       "Order(id='SIM-ORDER-BTCUSDT-100002', type='MARKET', symbol='BTCUSDT', time=numpy.datetime64('2024-07-21T22:21:26.796219648'), quantity=0.1, price=0, side='SELL', status='CLOSED', time_in_force='gtc', client_id='TestStrategy_BTCUSDT_2', cost=0.0)"
      ]
     },
     "execution_count": 10,
     "metadata": {},
     "output_type": "execute_result"
    }
   ],
   "source": [
    "ctx.trade('BTCUSDT', -0.1)"
   ]
  },
  {
   "cell_type": "code",
   "execution_count": 11,
   "metadata": {},
   "outputs": [
    {
     "name": "stdout",
     "output_type": "stream",
     "text": [
      "\u001b[32m2024-07-22 01:21:29.112\u001b[0m [ \u001b[1mℹ️\u001b[0m ] \u001b[1m(StrategyContext) sending limit buy for 0.1 of BTCUSDT ...\u001b[0m\n",
      "\u001b[32m2024-07-22 01:21:29.117\u001b[0m [ \u001b[34m\u001b[1m🐞\u001b[0m ] \u001b[34m\u001b[1m[OMS] BTCUSDT - registered SIM-ORDER-BTCUSDT-100003 LIMIT BUY 0.1 45000\u001b[0m\n"
     ]
    },
    {
     "data": {
      "text/plain": [
       "Order(id='SIM-ORDER-BTCUSDT-100003', type='LIMIT', symbol='BTCUSDT', time=numpy.datetime64('2024-07-21T22:21:28.820779264'), quantity=0.1, price=45000, side='BUY', status='OPEN', time_in_force='gtc', client_id='TestStrategy_BTCUSDT_3', cost=0.0)"
      ]
     },
     "execution_count": 11,
     "metadata": {},
     "output_type": "execute_result"
    }
   ],
   "source": [
    "ctx.trade('BTCUSDT', 0.1, 45000)"
   ]
  },
  {
   "cell_type": "code",
   "execution_count": 12,
   "metadata": {},
   "outputs": [
    {
     "name": "stdout",
     "output_type": "stream",
     "text": [
      "\u001b[32m2024-07-22 01:21:30.410\u001b[0m [ \u001b[34m\u001b[1m🐞\u001b[0m ] \u001b[34m\u001b[1m[OMS] BTCUSDT - SIM-ORDER-BTCUSDT-100003 LIMIT BUY 0.1 canceled\u001b[0m\n",
      "\u001b[32m2024-07-22 01:21:30.410\u001b[0m [ \u001b[1mℹ️\u001b[0m ] \u001b[1mOrder SIM-ORDER-BTCUSDT-100003 LIMIT BUY 0.1 of BTCUSDT -> CANCELED\u001b[0m\n",
      "\u001b[32m2024-07-22 01:21:30.410\u001b[0m [ \u001b[1mℹ️\u001b[0m ] \u001b[1mOrder SIM-ORDER-BTCUSDT-100003 LIMIT BUY 0.1 of BTCUSDT -> CANCELED\u001b[0m\n"
     ]
    }
   ],
   "source": [
    "ctx.cancel('BTCUSDT')"
   ]
  },
  {
   "cell_type": "code",
   "execution_count": 13,
   "metadata": {},
   "outputs": [
    {
     "name": "stdout",
     "output_type": "stream",
     "text": [
      "\u001b[32m2024-07-22 01:21:33.117\u001b[0m [ \u001b[1mℹ️\u001b[0m ] \u001b[1m -> strategy is stopped\u001b[0m\n",
      "\u001b[32m2024-07-22 01:21:33.117\u001b[0m [ \u001b[1mℹ️\u001b[0m ] \u001b[1m\t\u001b[37mCachedMarketDataHolder.update_by_bar\u001b[0m\u001b[1m took \u001b[31m0.0000581\u001b[0m\u001b[1m secs\u001b[0m\n",
      "\u001b[32m2024-07-22 01:21:33.118\u001b[0m [ \u001b[1mℹ️\u001b[0m ] \u001b[1m\t\u001b[37mStrategyContext._processing_bar\u001b[0m\u001b[1m took \u001b[31m0.0000847\u001b[0m\u001b[1m secs\u001b[0m\n",
      "\u001b[32m2024-07-22 01:21:33.118\u001b[0m [ \u001b[1mℹ️\u001b[0m ] \u001b[1m\t\u001b[37mStrategyContext.handler\u001b[0m\u001b[1m took \u001b[31m0.0000090\u001b[0m\u001b[1m secs\u001b[0m\n",
      "\u001b[32m2024-07-22 01:21:33.118\u001b[0m [ \u001b[1mℹ️\u001b[0m ] \u001b[1m\t\u001b[37mloggers.notify\u001b[0m\u001b[1m took \u001b[31m0.0000021\u001b[0m\u001b[1m secs\u001b[0m\n",
      "\u001b[32m2024-07-22 01:21:33.118\u001b[0m [ \u001b[1mℹ️\u001b[0m ] \u001b[1m\t\u001b[37mStrategyContext._process_incoming_data\u001b[0m\u001b[1m took \u001b[31m0.0000179\u001b[0m\u001b[1m secs\u001b[0m\n",
      "\u001b[32m2024-07-22 01:21:33.118\u001b[0m [ \u001b[1mℹ️\u001b[0m ] \u001b[1m\t\u001b[37mCachedMarketDataHolder.get_ohlcv\u001b[0m\u001b[1m took \u001b[31m0.0001222\u001b[0m\u001b[1m secs\u001b[0m\n",
      "\u001b[32m2024-07-22 01:21:33.118\u001b[0m [ \u001b[1mℹ️\u001b[0m ] \u001b[1m\t\u001b[37mCachedMarketDataHolder.update_by_bars\u001b[0m\u001b[1m took \u001b[31m0.0004334\u001b[0m\u001b[1m secs\u001b[0m\n",
      "\u001b[32m2024-07-22 01:21:33.122\u001b[0m [ \u001b[1mℹ️\u001b[0m ] \u001b[1m\t\u001b[37mStrategyContext.get_historical_ohlcs\u001b[0m\u001b[1m took \u001b[31m0.4052954\u001b[0m\u001b[1m secs\u001b[0m\n",
      "\u001b[32m2024-07-22 01:21:33.123\u001b[0m [ \u001b[1mℹ️\u001b[0m ] \u001b[1m\t\u001b[37mstrategy.on_fit\u001b[0m\u001b[1m took \u001b[31m0.4092440\u001b[0m\u001b[1m secs\u001b[0m\n",
      "\u001b[32m2024-07-22 01:21:33.123\u001b[0m [ \u001b[1mℹ️\u001b[0m ] \u001b[1m\t\u001b[37mStrategyContext.trade\u001b[0m\u001b[1m took \u001b[31m0.0019785\u001b[0m\u001b[1m secs\u001b[0m\n",
      "\u001b[32m2024-07-22 01:21:33.124\u001b[0m [ \u001b[1mℹ️\u001b[0m ] \u001b[1m\t\u001b[37mStrategyContext._processing_order\u001b[0m\u001b[1m took \u001b[31m0.0009156\u001b[0m\u001b[1m secs\u001b[0m\n",
      "\u001b[32m2024-07-22 01:21:33.125\u001b[0m [ \u001b[1mℹ️\u001b[0m ] \u001b[1m\t\u001b[37mStrategyContext._processing_deals\u001b[0m\u001b[1m took \u001b[31m0.0010283\u001b[0m\u001b[1m secs\u001b[0m\n",
      "\u001b[32m2024-07-22 01:21:33.125\u001b[0m [ \u001b[1mℹ️\u001b[0m ] \u001b[1m\t\u001b[37mStrategyContext.cancel\u001b[0m\u001b[1m took \u001b[31m0.0015224\u001b[0m\u001b[1m secs\u001b[0m\n",
      "\u001b[32m2024-07-22 01:21:33.117\u001b[0m [ \u001b[1mℹ️\u001b[0m ] \u001b[1m\t\u001b[37mCachedMarketDataHolder.update_by_bar\u001b[0m\u001b[1m took \u001b[31m0.0000581\u001b[0m\u001b[1m secs\u001b[0m\n",
      "\u001b[32m2024-07-22 01:21:33.118\u001b[0m [ \u001b[1mℹ️\u001b[0m ] \u001b[1m\t\u001b[37mStrategyContext._processing_bar\u001b[0m\u001b[1m took \u001b[31m0.0000847\u001b[0m\u001b[1m secs\u001b[0m\n",
      "\u001b[32m2024-07-22 01:21:33.118\u001b[0m [ \u001b[1mℹ️\u001b[0m ] \u001b[1m\t\u001b[37mStrategyContext.handler\u001b[0m\u001b[1m took \u001b[31m0.0000090\u001b[0m\u001b[1m secs\u001b[0m\n",
      "\u001b[32m2024-07-22 01:21:33.118\u001b[0m [ \u001b[1mℹ️\u001b[0m ] \u001b[1m\t\u001b[37mloggers.notify\u001b[0m\u001b[1m took \u001b[31m0.0000021\u001b[0m\u001b[1m secs\u001b[0m\n",
      "\u001b[32m2024-07-22 01:21:33.118\u001b[0m [ \u001b[1mℹ️\u001b[0m ] \u001b[1m\t\u001b[37mStrategyContext._process_incoming_data\u001b[0m\u001b[1m took \u001b[31m0.0000179\u001b[0m\u001b[1m secs\u001b[0m\n",
      "\u001b[32m2024-07-22 01:21:33.118\u001b[0m [ \u001b[1mℹ️\u001b[0m ] \u001b[1m\t\u001b[37mCachedMarketDataHolder.get_ohlcv\u001b[0m\u001b[1m took \u001b[31m0.0001222\u001b[0m\u001b[1m secs\u001b[0m\n",
      "\u001b[32m2024-07-22 01:21:33.118\u001b[0m [ \u001b[1mℹ️\u001b[0m ] \u001b[1m\t\u001b[37mCachedMarketDataHolder.update_by_bars\u001b[0m\u001b[1m took \u001b[31m0.0004334\u001b[0m\u001b[1m secs\u001b[0m\n",
      "\u001b[32m2024-07-22 01:21:33.122\u001b[0m [ \u001b[1mℹ️\u001b[0m ] \u001b[1m\t\u001b[37mStrategyContext.get_historical_ohlcs\u001b[0m\u001b[1m took \u001b[31m0.4052954\u001b[0m\u001b[1m secs\u001b[0m\n",
      "\u001b[32m2024-07-22 01:21:33.123\u001b[0m [ \u001b[1mℹ️\u001b[0m ] \u001b[1m\t\u001b[37mstrategy.on_fit\u001b[0m\u001b[1m took \u001b[31m0.4092440\u001b[0m\u001b[1m secs\u001b[0m\n",
      "\u001b[32m2024-07-22 01:21:33.123\u001b[0m [ \u001b[1mℹ️\u001b[0m ] \u001b[1m\t\u001b[37mStrategyContext.trade\u001b[0m\u001b[1m took \u001b[31m0.0019785\u001b[0m\u001b[1m secs\u001b[0m\n",
      "\u001b[32m2024-07-22 01:21:33.124\u001b[0m [ \u001b[1mℹ️\u001b[0m ] \u001b[1m\t\u001b[37mStrategyContext._processing_order\u001b[0m\u001b[1m took \u001b[31m0.0009156\u001b[0m\u001b[1m secs\u001b[0m\n",
      "\u001b[32m2024-07-22 01:21:33.125\u001b[0m [ \u001b[1mℹ️\u001b[0m ] \u001b[1m\t\u001b[37mStrategyContext._processing_deals\u001b[0m\u001b[1m took \u001b[31m0.0010283\u001b[0m\u001b[1m secs\u001b[0m\n",
      "\u001b[32m2024-07-22 01:21:33.125\u001b[0m [ \u001b[1mℹ️\u001b[0m ] \u001b[1m\t\u001b[37mStrategyContext.cancel\u001b[0m\u001b[1m took \u001b[31m0.0015224\u001b[0m\u001b[1m secs\u001b[0m\n"
     ]
    }
   ],
   "source": [
    "ctx.stop()\n",
    "exch.close()"
   ]
  },
  {
   "cell_type": "markdown",
   "metadata": {},
   "source": [
    "# Simulated data provider"
   ]
  },
  {
   "cell_type": "code",
   "execution_count": 3,
   "metadata": {},
   "outputs": [],
   "source": [
    "from qubx.backtester.simulator import SimulatedTrading, SimulatedExchange\n",
    "from qubx.core.loggers import CsvFileLogsWriter, InMemoryLogsWriter\n",
    "from qubx.trackers.rebalancers import PortfolioRebalancerTracker\n",
    "\n",
    "QubxLogConfig.set_log_level(\"WARNING\")\n",
    "QubxLogConfig.set_log_level(\"INFO\")\n",
    "QubxLogConfig.set_log_level(\"DEBUG\")"
   ]
  },
  {
   "cell_type": "code",
   "execution_count": 4,
   "metadata": {},
   "outputs": [],
   "source": [
    "c1 = {'BINANCE.UM:BTCUSDT': r.read('BINANCE.UM:BTCUSDT', '2024-01-01', '2024-01-02', AsPandasFrame())}"
   ]
  },
  {
   "cell_type": "code",
   "execution_count": 5,
   "metadata": {},
   "outputs": [
    {
     "name": "stdout",
     "output_type": "stream",
     "text": [
      "['BINANCE.UM:BTCUSDT']\n",
      "['binance.umfutures.btcusdt.candles_1m', 'binance.umfutures.trxusdt.candles_1m', 'binance.umfutures.nfpusdt.candles_1m', 'binance.umfutures.hbarusdt.candles_1m', 'binance.umfutures.bigtimeusdt.candles_1m', 'binance.umfutures.eosusdt.candles_1m', 'binance.umfutures.jasmyusdt.candles_1m', 'binance.umfutures.cvcusdt.candles_1m', 'binance.umfutures.gmxusdt.candles_1m', 'binance.umfutures.minausdt.candles_1m', 'binance.umfutures.maviausdt.candles_1m', 'binance.umfutures.badgerusdt.candles_1m', 'binance.umfutures.flowusdt.candles_1m', 'binance.umfutures.imxusdt.candles_1m', 'binance.umfutures.stgusdt.candles_1m', 'binance.umfutures.loomusdt.candles_1m', 'binance.umfutures.pixelusdt.candles_1m', 'binance.umfutures.idusdt.candles_1m', 'binance.umfutures.iostusdt.candles_1m', 'binance.umfutures.solusdt.candles_1m', 'binance.umfutures.batusdt.candles_1m', 'binance.umfutures.trxusdt.agg_trade', 'binance.umfutures.arkusdt.candles_1m', 'binance.umfutures.solusdt.agg_trade', 'binance.umfutures.footballusdt.candles_1m', 'binance.umfutures.apeusdt.candles_1m', 'binance.umfutures.1000flokiusdt.agg_trade', 'binance.umfutures.linausdt.candles_1m', 'binance.umfutures.lskusdt.candles_1m', 'binance.umfutures.fxsusdt.candles_1m', 'binance.umfutures.aaveusdt.candles_1m', 'binance.umfutures.sntusdt.candles_1m', 'binance.umfutures.ctsiusdt.candles_1m', 'binance.umfutures.ustcusdt.candles_1m', 'binance.umfutures.galusdt.candles_1m', 'binance.umfutures.litusdt.candles_1m', 'binance.umfutures.keyusdt.candles_1m', 'binance.umfutures.ethusdt_240329.candles_1m', 'binance.umfutures.balusdt.candles_1m', 'binance.umfutures.myrousdt.agg_trade', 'binance.umfutures.ltcusdt.candles_1m', 'binance.umfutures.wavesusdt.candles_1m', 'binance.umfutures.zenusdt.candles_1m', 'binance.umfutures.cvxusdt.candles_1m', 'binance.umfutures.vanryusdt.candles_1m', 'binance.umfutures.spellusdt.candles_1m', 'binance.umfutures.glmusdt.candles_1m', 'binance.umfutures.grtusdt.candles_1m', 'binance.umfutures.kncusdt.candles_1m', 'binance.umfutures.btcusdt.funding_rate', 'binance.umfutures.rvnusdt.candles_1m', 'binance.umfutures.manausdt.candles_1m', 'binance.umfutures.trbusdt.candles_1m', 'binance.umfutures.eduusdt.candles_1m', 'binance.umfutures.altusdt.candles_1m', 'binance.umfutures.opusdt.candles_1m', 'binance.umfutures.cfxusdt.candles_1m', 'binance.umfutures.bluebirdusdt.candles_1m', 'binance.umfutures.enjusdt.candles_1m', 'binance.umfutures.solusdt.funding_rate', 'binance.umfutures.twtusdt.candles_1m', 'binance.umfutures.xvgusdt.candles_1m', 'binance.umfutures.bandusdt.candles_1m', 'binance.umfutures.ldousdt.candles_1m', 'binance.umfutures.xaiusdt.candles_1m', 'binance.umfutures.zilusdt.candles_1m', 'binance.umfutures.sklusdt.candles_1m', 'binance.umfutures.polyxusdt.candles_1m', 'binance.umfutures.ethusdt.candles_1m', 'binance.umfutures.sagausdt.candles_1m', 'binance.umfutures.aliceusdt.candles_1m', 'binance.umfutures.etcusdt.candles_1m', 'binance.umfutures.cocosusdt.candles_1m', 'binance.umfutures.stptusdt.candles_1m', 'binance.umfutures.1000bonkusdt.candles_1m', 'binance.umfutures.ilvusdt.candles_1m', 'binance.umfutures.runeusdt.candles_1m', 'binance.umfutures.mavusdt.candles_1m', 'binance.umfutures.zetausdt.candles_1m', 'binance.umfutures.btcstusdt.candles_1m', 'binance.umfutures.xtzusdt.candles_1m', 'binance.umfutures.agldusdt.candles_1m', 'binance.umfutures.ftmusdt.candles_1m', 'binance.umfutures.qtumusdt.candles_1m', 'binance.umfutures.sushiusdt.candles_1m', 'binance.umfutures.btcusdt_240927.candles_1m', 'binance.umfutures.xemusdt.candles_1m', 'binance.umfutures.belusdt.candles_1m', 'binance.umfutures.aptusdt.candles_1m', 'binance.umfutures.ongusdt.candles_1m', 'binance.umfutures.vetusdt.candles_1m', 'binance.umfutures.injusdt.candles_1m', 'binance.umfutures.hntusdt.candles_1m', 'binance.umfutures.aiusdt.candles_1m', 'binance.umfutures.dgbusdt.candles_1m', 'binance.umfutures.neousdt.candles_1m', 'binance.umfutures.klayusdt.candles_1m', 'binance.umfutures.cyberusdt.candles_1m', 'binance.umfutures.arpausdt.candles_1m', 'binance.umfutures.bnbusdt.candles_1m', 'binance.umfutures.tiausdt.candles_1m', 'binance.umfutures.renusdt.candles_1m', 'binance.umfutures.gmtusdt.candles_1m', 'binance.umfutures.srmusdt.candles_1m', 'binance.umfutures.gtcusdt.candles_1m', 'binance.umfutures.filusdt.candles_1m', 'binance.umfutures.unfiusdt.candles_1m', 'binance.umfutures.powrusdt.candles_1m', 'binance.umfutures.cakeusdt.candles_1m', 'binance.umfutures.maticusdt.candles_1m', 'binance.umfutures.lptusdt.candles_1m', 'binance.umfutures.nearusdt.candles_1m', 'binance.umfutures.seiusdt.candles_1m', 'binance.umfutures.astrusdt.candles_1m', 'binance.umfutures.mdtusdt.candles_1m', 'binance.umfutures.stmxusdt.candles_1m', 'binance.umfutures.nknusdt.candles_1m', 'binance.umfutures.omniusdt.candles_1m', 'binance.umfutures.uniusdt.candles_1m', 'binance.umfutures.arbusdt.candles_1m', 'binance.umfutures.mblusdt.candles_1m', 'binance.umfutures.xmrusdt.candles_1m', 'binance.umfutures.blzusdt.candles_1m', 'binance.umfutures.crvusdt.candles_1m', 'binance.umfutures.qntusdt.candles_1m', 'binance.umfutures.tnsrusdt.candles_1m', 'binance.umfutures.cotiusdt.candles_1m', 'binance.umfutures.sfpusdt.candles_1m', 'binance.umfutures.btcusdt.liquidation', 'binance.umfutures.tusdt.candles_1m', 'binance.umfutures.scusdt.candles_1m', 'binance.umfutures.ethusdt_240628.candles_1m', 'binance.umfutures.bakeusdt.candles_1m', 'binance.umfutures.mtlusdt.candles_1m', 'binance.umfutures.chrusdt.candles_1m', 'binance.umfutures.flmusdt.candles_1m', 'binance.umfutures.dashusdt.candles_1m', 'binance.umfutures.orbsusdt.candles_1m', 'binance.umfutures.truusdt.candles_1m', 'binance.umfutures.tlmusdt.candles_1m', 'binance.umfutures.dymusdt.candles_1m', 'binance.umfutures.solusdt.long_short', 'binance.umfutures.btsusdt.candles_1m', 'binance.umfutures.pythusdt.candles_1m', 'binance.umfutures.ckbusdt.candles_1m', 'binance.umfutures.darusdt.candles_1m', 'binance.umfutures.movrusdt.candles_1m', 'binance.umfutures.antusdt.candles_1m', 'binance.umfutures.axsusdt.candles_1m', 'binance.umfutures.dogeusdt.candles_1m', 'binance.umfutures.nearusdt.agg_trade', 'binance.umfutures.steemusdt.candles_1m', 'binance.umfutures.ambusdt.candles_1m', 'binance.umfutures.xrpusdt.candles_1m', 'binance.umfutures.1inchusdt.candles_1m', 'binance.umfutures.pendleusdt.candles_1m', 'binance.umfutures.peopleusdt.agg_trade', 'binance.umfutures.mkrusdt.candles_1m', 'binance.umfutures.atausdt.candles_1m', 'binance.umfutures.superusdt.candles_1m', 'binance.umfutures.icxusdt.candles_1m', 'binance.umfutures.ethfiusdt.candles_1m', 'binance.umfutures.wifusdt.agg_trade', 'binance.umfutures.solusdt.liquidation', 'binance.umfutures.solusdt.orderbook', 'binance.umfutures.rsrusdt.candles_1m', 'binance.umfutures.arbusdt.agg_trade', 'binance.umfutures.yggusdt.candles_1m', 'binance.umfutures.thetausdt.candles_1m', 'binance.umfutures.fttusdt.candles_1m', 'binance.umfutures.tokenusdt.candles_1m', 'binance.umfutures.mantausdt.candles_1m', 'binance.umfutures.adausdt.candles_1m', 'binance.umfutures.metisusdt.candles_1m', 'binance.umfutures.celrusdt.candles_1m', 'binance.umfutures.galausdt.candles_1m', 'binance.umfutures.oneusdt.candles_1m', 'binance.umfutures.solusdt.trade', 'binance.umfutures.1000ratsusdt.candles_1m', 'binance.umfutures.egldusdt.candles_1m', 'binance.umfutures.dydxusdt.candles_1m', 'binance.umfutures.ordiusdt.candles_1m', 'binance.umfutures.bomeusdt.candles_1m', 'binance.umfutures.duskusdt.candles_1m', 'binance.umfutures.phbusdt.candles_1m', 'binance.umfutures.c98usdt.candles_1m', 'binance.umfutures.omgusdt.candles_1m', 'binance.umfutures.rdntusdt.candles_1m', 'binance.umfutures.enausdt.candles_1m', 'binance.umfutures.ssvusdt.candles_1m', 'binance.umfutures.blurusdt.candles_1m', 'binance.umfutures.yfiusdt.candles_1m', 'binance.umfutures.iotxusdt.candles_1m', 'binance.umfutures.bondusdt.candles_1m', 'binance.umfutures.roseusdt.candles_1m', 'binance.umfutures.bnbusdt.agg_trade', 'binance.umfutures.straxusdt.candles_1m', 'binance.umfutures.xvsusdt.candles_1m', 'binance.umfutures.wusdt.candles_1m', 'binance.umfutures.sandusdt.candles_1m', 'binance.umfutures.perpusdt.candles_1m', 'binance.umfutures.dotusdt.candles_1m', 'binance.umfutures.btcusdt.orderbook', 'binance.umfutures.bntusdt.candles_1m', 'binance.umfutures.kasusdt.candles_1m', 'binance.umfutures.rlcusdt.candles_1m', 'binance.umfutures.slpusdt.candles_1m', 'binance.umfutures.wifusdt.candles_1m', 'binance.umfutures.avaxusdt.agg_trade', 'binance.umfutures.xlmusdt.candles_1m', 'binance.umfutures.frontusdt.candles_1m', 'binance.umfutures.roninusdt.candles_1m', 'binance.umfutures.maskusdt.candles_1m', 'binance.umfutures.nmrusdt.candles_1m', 'binance.umfutures.hftusdt.candles_1m', 'binance.umfutures.portalusdt.candles_1m', 'binance.umfutures.memeusdt.candles_1m', 'binance.umfutures.1000pepeusdt.candles_1m', 'binance.umfutures.1000shibusdt.candles_1m', 'binance.umfutures.hifiusdt.candles_1m', 'binance.umfutures.btcusdt.agg_trade', 'binance.umfutures.bnxusdt.candles_1m', 'binance.umfutures.1000flokiusdt.candles_1m', 'binance.umfutures.ctkusdt.candles_1m', 'binance.umfutures.hotusdt.candles_1m', 'binance.umfutures.btcusdt_240628.candles_1m', 'binance.umfutures.bsvusdt.candles_1m', 'binance.umfutures.icpusdt.candles_1m', 'binance.umfutures.agixusdt.candles_1m', 'binance.umfutures.alphausdt.candles_1m', 'binance.umfutures.chzusdt.candles_1m', 'binance.umfutures.bicousdt.candles_1m', 'binance.umfutures.tonusdt.candles_1m', 'binance.umfutures.joeusdt.candles_1m', 'binance.umfutures.rezusdt.candles_1m', 'binance.umfutures.1000satsusdt.candles_1m', 'binance.umfutures.ethusdt_240927.candles_1m', 'binance.umfutures.btcusdt.trade', 'binance.umfutures.suiusdt.candles_1m', 'binance.umfutures.rayusdt.candles_1m', 'binance.umfutures.rifusdt.candles_1m', 'binance.umfutures.arusdt.candles_1m', 'binance.umfutures.1000luncusdt.candles_1m', 'binance.umfutures.api3usdt.candles_1m', 'binance.umfutures.hookusdt.candles_1m', 'binance.umfutures.1000xecusdt.candles_1m', 'binance.umfutures.btcusdt.open_interest', 'binance.umfutures.bchusdt.candles_1m', 'binance.umfutures.magicusdt.candles_1m', 'binance.umfutures.lqtyusdt.candles_1m', 'binance.umfutures.radusdt.candles_1m', 'binance.umfutures.btcusdt_240329.candles_1m', 'binance.umfutures.wldusdt.candles_1m', 'binance.umfutures.gasusdt.candles_1m', 'binance.umfutures.usdcusdt.candles_1m', 'binance.umfutures.ntrnusdt.candles_1m', 'binance.umfutures.zecusdt.candles_1m', 'binance.umfutures.ognusdt.candles_1m', 'binance.umfutures.glmrusdt.candles_1m', 'binance.umfutures.tomousdt.candles_1m', 'binance.umfutures.iotausdt.candles_1m', 'binance.umfutures.ontusdt.candles_1m', 'binance.umfutures.atomusdt.candles_1m', 'binance.umfutures.ethwusdt.candles_1m', 'binance.umfutures.peopleusdt.candles_1m', 'binance.umfutures.celousdt.candles_1m', 'binance.umfutures.stxusdt.candles_1m', 'binance.umfutures.leverusdt.candles_1m', 'binance.umfutures.storjusdt.candles_1m', 'binance.umfutures.aevousdt.candles_1m', 'binance.umfutures.ondousdt.candles_1m', 'binance.umfutures.dodoxusdt.candles_1m', 'binance.umfutures.kavausdt.candles_1m', 'binance.umfutures.ankrusdt.candles_1m', 'binance.umfutures.linkusdt.candles_1m', 'binance.umfutures.beamxusdt.candles_1m', 'binance.umfutures.arkmusdt.candles_1m', 'binance.umfutures.compusdt.candles_1m', 'binance.umfutures.defiusdt.candles_1m', 'binance.umfutures.btcdomusdt.candles_1m', 'binance.umfutures.filusdt.agg_trade', 'binance.umfutures.galusdt.agg_trade', 'binance.umfutures.algousdt.candles_1m', 'binance.umfutures.lrcusdt.candles_1m', 'binance.umfutures.axlusdt.candles_1m', 'binance.umfutures.oceanusdt.candles_1m', 'binance.umfutures.aceusdt.candles_1m', 'binance.umfutures.ensusdt.candles_1m', 'binance.umfutures.auctionusdt.candles_1m', 'binance.umfutures.highusdt.candles_1m', 'binance.umfutures.oxtusdt.candles_1m', 'binance.umfutures.taousdt.candles_1m', 'binance.umfutures.ksmusdt.candles_1m', 'binance.umfutures.strkusdt.candles_1m', 'binance.umfutures.jtousdt.candles_1m', 'binance.umfutures.myrousdt.candles_1m', 'binance.umfutures.audiousdt.candles_1m', 'binance.umfutures.umausdt.candles_1m', 'binance.umfutures.luna2usdt.candles_1m', 'binance.umfutures.snxusdt.candles_1m', 'binance.umfutures.omusdt.candles_1m', 'binance.umfutures.woousdt.candles_1m', 'binance.umfutures.idexusdt.candles_1m', 'binance.umfutures.jupusdt.candles_1m', 'binance.umfutures.achusdt.candles_1m', 'binance.umfutures.sxpusdt.candles_1m', 'binance.umfutures.reefusdt.candles_1m', 'binance.umfutures.fetusdt.candles_1m', 'binance.umfutures.dentusdt.candles_1m', 'binance.umfutures.avaxusdt.candles_1m', 'binance.umfutures.combousdt.candles_1m', 'binance.umfutures.waxpusdt.candles_1m', 'binance.umfutures.rndrusdt.candles_1m', 'binance.umfutures.solusdt.open_interest', 'binance.umfutures.zrxusdt.candles_1m', 'binance.umfutures.btcusdt.long_short']\n"
     ]
    }
   ],
   "source": [
    "from qubx.data.readers import DataReader, InMemoryDataFrameReader\n",
    "from qubx.utils.time import infer_series_frequency, handle_start_stop\n",
    "\n",
    "r1 = InMemoryDataFrameReader(c1)\n",
    "print(r1.get_names())\n",
    "print(r.get_names('candles'))\n",
    "\n",
    "\n",
    "# d1 = r1.read('BTCUSDT', '2024-01-01', '2024-01-01 01:00', RestoreTicksFromOHLC())"
   ]
  },
  {
   "cell_type": "code",
   "execution_count": 16,
   "metadata": {},
   "outputs": [
    {
     "name": "stdout",
     "output_type": "stream",
     "text": [
      "\u001b[32m2024-07-24 14:54:56.490\u001b[0m [ \u001b[1mℹ️\u001b[0m ] \u001b[1m\u001b[33mTestStrategy\u001b[0m\u001b[1m new parameters:\n",
      "\tset \u001b[32mtimeframe\u001b[0m\u001b[1m <- \u001b[31m1h\u001b[0m\u001b[1m\n",
      "\tset \u001b[32mfast_period\u001b[0m\u001b[1m <- \u001b[31m3\u001b[0m\u001b[1m\n",
      "\tset \u001b[32mslow_period\u001b[0m\u001b[1m <- \u001b[31m24\u001b[0m\u001b[1m\u001b[0m\n"
     ]
    },
    {
     "data": {
      "application/vnd.jupyter.widget-view+json": {
       "model_id": "c1d352e3750f42eaaea1a91266203464",
       "version_major": 2,
       "version_minor": 0
      },
      "text/plain": [
       "  0%|          | 0/3 [00:00<?, ?it/s]"
      ]
     },
     "metadata": {},
     "output_type": "display_data"
    },
    {
     "name": "stdout",
     "output_type": "stream",
     "text": [
      "\u001b[32m2024-07-24 14:54:56.498\u001b[0m [ \u001b[1mℹ️\u001b[0m ] \u001b[1mSimulatedData.binance.um initialized\u001b[0m\n",
      "\u001b[32m2024-07-24 14:54:56.499\u001b[0m [ \u001b[1mℹ️\u001b[0m ] \u001b[1m(StrategyContext) Subscribing to ohlc updates using {'timeframe': '5Min', 'nback': 10} for \n",
      "\t['BTCUSDT'] \u001b[0m\n"
     ]
    },
    {
     "data": {
      "application/vnd.jupyter.widget-view+json": {
       "model_id": "09dde7510ebb49db8e1c4236ffbb2fc9",
       "version_major": 2,
       "version_minor": 0
      },
      "text/plain": [
       "  0%|          | 0/10412 [00:00<?, ?it/s]"
      ]
     },
     "metadata": {},
     "output_type": "display_data"
    },
    {
     "name": "stdout",
     "output_type": "stream",
     "text": [
      "\u001b[32m2024-07-24 14:54:57.106\u001b[0m [ \u001b[1mℹ️\u001b[0m ] \u001b[1m(StrategyContext) sending market buy for 1.0 of BTCUSDT ...\u001b[0m\n",
      "\u001b[32m2024-07-24 14:54:57.107\u001b[0m [ \u001b[1mℹ️\u001b[0m ] \u001b[1m  ::  traded 1.0 for BTCUSDT @ 42688.850000000006 -> 0.00\u001b[0m\n",
      "\u001b[32m2024-07-24 14:54:57.107\u001b[0m [ \u001b[1mℹ️\u001b[0m ] \u001b[1mOrder SIM-ORDER-BTCUSDT-100001 MARKET BUY 1.0 of BTCUSDT -> CLOSED\u001b[0m\n",
      "\u001b[32m2024-07-24 14:54:57.249\u001b[0m [ \u001b[1mℹ️\u001b[0m ] \u001b[1m(StrategyContext) sending market sell for 1.0 of BTCUSDT ...\u001b[0m\n",
      "\u001b[32m2024-07-24 14:54:57.250\u001b[0m [ \u001b[1mℹ️\u001b[0m ] \u001b[1m  ::  traded -1.0 for BTCUSDT @ 43728.85 -> 1040.05\u001b[0m\n",
      "\u001b[32m2024-07-24 14:54:57.250\u001b[0m [ \u001b[1mℹ️\u001b[0m ] \u001b[1mOrder SIM-ORDER-BTCUSDT-100002 MARKET SELL 1.0 of BTCUSDT -> CLOSED\u001b[0m\n",
      "\u001b[32m2024-07-24 14:54:57.646\u001b[0m [ \u001b[1mℹ️\u001b[0m ] \u001b[1mSimulatedData.binance.um initialized\u001b[0m\n",
      "\u001b[32m2024-07-24 14:54:57.647\u001b[0m [ \u001b[1mℹ️\u001b[0m ] \u001b[1m(StrategyContext) Subscribing to ohlc updates using {'timeframe': '5Min', 'nback': 10} for \n",
      "\t['BTCUSDT'] \u001b[0m\n"
     ]
    },
    {
     "data": {
      "application/vnd.jupyter.widget-view+json": {
       "model_id": "58b07c5fd1084137b5fad3d12c7d47c6",
       "version_major": 2,
       "version_minor": 0
      },
      "text/plain": [
       "  0%|          | 0/10412 [00:00<?, ?it/s]"
      ]
     },
     "metadata": {},
     "output_type": "display_data"
    },
    {
     "name": "stdout",
     "output_type": "stream",
     "text": [
      "\u001b[32m2024-07-24 14:54:58.100\u001b[0m [ \u001b[1mℹ️\u001b[0m ] \u001b[1m(StrategyContext) sending market buy for 1.0 of BTCUSDT ...\u001b[0m\n",
      "\u001b[32m2024-07-24 14:54:58.100\u001b[0m [ \u001b[1mℹ️\u001b[0m ] \u001b[1m  ::  traded 1.0 for BTCUSDT @ 45378.65 -> 0.00\u001b[0m\n",
      "\u001b[32m2024-07-24 14:54:58.100\u001b[0m [ \u001b[1mℹ️\u001b[0m ] \u001b[1mOrder SIM-ORDER-BTCUSDT-100001 MARKET BUY 1.0 of BTCUSDT -> CLOSED\u001b[0m\n",
      "\u001b[32m2024-07-24 14:54:58.349\u001b[0m [ \u001b[1mℹ️\u001b[0m ] \u001b[1mSimulatedData.binance.um initialized\u001b[0m\n",
      "\u001b[32m2024-07-24 14:54:58.349\u001b[0m [ \u001b[1mℹ️\u001b[0m ] \u001b[1m(StrategyContext) Subscribing to ohlc updates using {'timeframe': '5Min', 'nback': 10} for \n",
      "\t['BTCUSDT'] \u001b[0m\n",
      "\u001b[32m2024-07-24 14:54:58.349\u001b[0m [ \u001b[1mℹ️\u001b[0m ] \u001b[1m -> Strategy started | 2024-01-01T00:00:00.000000000\u001b[0m\n"
     ]
    },
    {
     "data": {
      "application/vnd.jupyter.widget-view+json": {
       "model_id": "418963c70f1a435387e3c5f34c5a1d03",
       "version_major": 2,
       "version_minor": 0
      },
      "text/plain": [
       "  0%|          | 0/10412 [00:00<?, ?it/s]"
      ]
     },
     "metadata": {},
     "output_type": "display_data"
    },
    {
     "name": "stdout",
     "output_type": "stream",
     "text": [
      "\u001b[32m2024-07-24 14:54:58.630\u001b[0m [ \u001b[1mℹ️\u001b[0m ] \u001b[1m -> Fit is called | fit_time: 2024-01-01 00:00:00 / prev: None\u001b[0m\n",
      "\u001b[32m2024-07-24 14:54:58.758\u001b[0m [ \u001b[1mℹ️\u001b[0m ] \u001b[1mBTCUSDT[1H] | 25 records\n",
      "  2023-12-31T23:00:00.000000000 {o:42294.800000 | h:42380.100000 | l:42211.000000 | c:42286.800000 | v:3461.175000}\n",
      "  2023-12-31T22:00:00.000000000 {o:42559.000000 | h:42629.500000 | l:42111.900000 | c:42294.800000 | v:11952.346000}\n",
      "  2023-12-31T21:00:00.000000000 {o:42599.200000 | h:42717.000000 | l:42558.200000 | c:42558.900000 | v:3794.010000}\n",
      "   .......... \n",
      "  2023-12-31T01:00:00.000000000 {o:42395.100000 | h:42472.400000 | l:42187.900000 | c:42212.000000 | v:5407.971000}\n",
      "  2023-12-31T00:00:00.000000000 {o:42174.300000 | h:42478.900000 | l:42169.000000 | c:42395.100000 | v:6728.723000}\n",
      "  2023-12-30T23:00:00.000000000 {o:42240.000000 | h:42335.200000 | l:42160.700000 | c:42174.200000 | v:3069.055000}\n",
      "\u001b[0m\n",
      "\u001b[32m2024-07-24 14:54:58.759\u001b[0m [ \u001b[1mℹ️\u001b[0m ] \u001b[1m ||||| 2023-12-31T23:10:00.001000000 -> TriggerEvent(time=numpy.datetime64('2023-12-31T23:10:00.001000000'), type='bar', instrument=Instrument(symbol='BTCUSDT', market_type='CRYPTO', exchange='BINANCE.UM', base='BTC', quote='USDT', margin_symbol='USDT', min_tick=0.1, min_size_step=0.001, min_size=0.001, futures_info=FuturesInfo(contract_type='PERPETUAL', delivery_date=datetime.datetime(2100, 12, 25, 10, 0), onboard_date=datetime.datetime(2019, 9, 25, 11, 0), contract_size=1.0, maint_margin=2.5, required_margin=5.0, liquidation_fee=0.0125), _aux_instrument=None), data=None) |||||\u001b[0m\n",
      "\u001b[32m2024-07-24 14:54:58.760\u001b[0m [ \u001b[1mℹ️\u001b[0m ] \u001b[1m\tBTCUSDT : [2023-12-31T23:10:00.001000000]\t42329.55000 (1000000000.0) | 42329.65000 (1000000000.0)\u001b[0m\n"
     ]
    }
   ],
   "source": [
    "from qubx.backtester.simulator import simulate\n",
    "QubxLogConfig.set_log_level(\"INFO\")\n",
    "\n",
    "\n",
    "rep = simulate(\n",
    "    {\n",
    "        # - generated signals as series\n",
    "        \"test0\": [pd.Series(\n",
    "            {\n",
    "                \"2024-01-01 10:00\": 1,\n",
    "                \"2024-01-02 12:00\": 0,\n",
    "                \"2024-01-03 12:00\": -1,\n",
    "                \"2024-01-04 15:00\": 0,\n",
    "            }, name='BTCUSDT'), PortfolioRebalancerTracker(None, 1000, 0)], # TODO: no need ctx here !\n",
    "\n",
    "        # - generated signals as dataframe\n",
    "        \"test1\": pd.DataFrame(\n",
    "            {\n",
    "                'BTCUSDT': {\"2024-01-03 10:00\": 1, \"2024-01-03 15:00\": 0}\n",
    "            }\n",
    "        ),\n",
    "        # - just test strategy\n",
    "        \"test2\": TestStrategy(timeframe=\"1h\", fast_period=3, slow_period=24)\n",
    "    },\n",
    "\n",
    "    r, 10000, [\"BINANCE.UM:BTCUSDT\"], \n",
    "    dict(type=\"ohlc\", timeframe=\"5Min\", nback=10),\n",
    "    \"1h -2Sec\",\n",
    "    \"vip0_usdt\", \n",
    "    \"2024-01-01\", \"2024-01-10\", \n",
    ")"
   ]
  },
  {
   "cell_type": "code",
   "execution_count": 18,
   "metadata": {},
   "outputs": [
    {
     "name": "stderr",
     "output_type": "stream",
     "text": [
      "c:\\Users\\dmitr\\devs\\Qubx\\.venv\\Lib\\site-packages\\statsmodels\\regression\\linear_model.py:1783: RuntimeWarning: divide by zero encountered in scalar divide\n",
      "  return 1 - self.ssr/self.centered_tss\n"
     ]
    },
    {
     "ename": "TypeError",
     "evalue": "unsupported operand type(s) for /: 'list' and 'int'",
     "output_type": "error",
     "traceback": [
      "\u001b[1;31m---------------------------------------------------------------------------\u001b[0m",
      "\u001b[1;31mTypeError\u001b[0m                                 Traceback (most recent call last)",
      "Cell \u001b[1;32mIn[18], line 1\u001b[0m\n\u001b[1;32m----> 1\u001b[0m \u001b[43mtearsheet\u001b[49m\u001b[43m(\u001b[49m\u001b[43mrep\u001b[49m\u001b[43m)\u001b[49m\n",
      "File \u001b[1;32mc:\\Users\\dmitr\\devs\\Qubx\\experiments\\../src\\qubx\\core\\metrics.py:728\u001b[0m, in \u001b[0;36mtearsheet\u001b[1;34m(session, compound, account_transactions, performance_statistics_period)\u001b[0m\n\u001b[0;32m    726\u001b[0m _eq \u001b[38;5;241m=\u001b[39m []\n\u001b[0;32m    727\u001b[0m \u001b[38;5;28;01mfor\u001b[39;00m s \u001b[38;5;129;01min\u001b[39;00m session:\n\u001b[1;32m--> 728\u001b[0m     report, mtrx \u001b[38;5;241m=\u001b[39m \u001b[43m_pfl_metrics_prepare\u001b[49m\u001b[43m(\u001b[49m\u001b[43ms\u001b[49m\u001b[43m,\u001b[49m\u001b[43m \u001b[49m\u001b[43maccount_transactions\u001b[49m\u001b[43m,\u001b[49m\u001b[43m \u001b[49m\u001b[43mperformance_statistics_period\u001b[49m\u001b[43m)\u001b[49m\n\u001b[0;32m    729\u001b[0m     _rs\u001b[38;5;241m.\u001b[39mappend(report)\n\u001b[0;32m    730\u001b[0m     \u001b[38;5;28;01mif\u001b[39;00m compound:\n",
      "File \u001b[1;32mc:\\Users\\dmitr\\devs\\Qubx\\experiments\\../src\\qubx\\core\\metrics.py:743\u001b[0m, in \u001b[0;36m_pfl_metrics_prepare\u001b[1;34m(session, account_transactions, performance_statistics_period)\u001b[0m\n\u001b[0;32m    742\u001b[0m \u001b[38;5;28;01mdef\u001b[39;00m \u001b[38;5;21m_pfl_metrics_prepare\u001b[39m(session: TradingSessionResult, account_transactions: \u001b[38;5;28mbool\u001b[39m, performance_statistics_period: \u001b[38;5;28mint\u001b[39m):\n\u001b[1;32m--> 743\u001b[0m     mtrx \u001b[38;5;241m=\u001b[39m \u001b[43mportfolio_metrics\u001b[49m\u001b[43m(\u001b[49m\n\u001b[0;32m    744\u001b[0m \u001b[43m        \u001b[49m\u001b[43msession\u001b[49m\u001b[38;5;241;43m.\u001b[39;49m\u001b[43mportfolio_log\u001b[49m\u001b[43m,\u001b[49m\n\u001b[0;32m    745\u001b[0m \u001b[43m        \u001b[49m\u001b[43msession\u001b[49m\u001b[38;5;241;43m.\u001b[39;49m\u001b[43mexecutions_log\u001b[49m\u001b[43m,\u001b[49m\n\u001b[0;32m    746\u001b[0m \u001b[43m        \u001b[49m\u001b[43msession\u001b[49m\u001b[38;5;241;43m.\u001b[39;49m\u001b[43mcapital\u001b[49m\u001b[43m,\u001b[49m\n\u001b[0;32m    747\u001b[0m \u001b[43m        \u001b[49m\u001b[43mperformance_statistics_period\u001b[49m\u001b[38;5;241;43m=\u001b[39;49m\u001b[43mperformance_statistics_period\u001b[49m\u001b[43m,\u001b[49m\n\u001b[0;32m    748\u001b[0m \u001b[43m        \u001b[49m\u001b[43maccount_transactions\u001b[49m\u001b[38;5;241;43m=\u001b[39;49m\u001b[43maccount_transactions\u001b[49m\u001b[43m,\u001b[49m\n\u001b[0;32m    749\u001b[0m \u001b[43m    \u001b[49m\u001b[43m)\u001b[49m\n\u001b[0;32m    750\u001b[0m     rpt \u001b[38;5;241m=\u001b[39m {}\n\u001b[0;32m    751\u001b[0m     \u001b[38;5;28;01mfor\u001b[39;00m k, v \u001b[38;5;129;01min\u001b[39;00m mtrx\u001b[38;5;241m.\u001b[39mitems():\n",
      "File \u001b[1;32mc:\\Users\\dmitr\\devs\\Qubx\\experiments\\../src\\qubx\\core\\metrics.py:675\u001b[0m, in \u001b[0;36mportfolio_metrics\u001b[1;34m(portfolio_log, executions_log, init_cash, start, end, risk_free, rolling_sharpe_window, account_transactions, performance_statistics_period, **kwargs)\u001b[0m\n\u001b[0;32m    673\u001b[0m sheet[\u001b[38;5;124m\"\u001b[39m\u001b[38;5;124mqr\u001b[39m\u001b[38;5;124m\"\u001b[39m] \u001b[38;5;241m=\u001b[39m qr(equity)\n\u001b[0;32m    674\u001b[0m sheet[\u001b[38;5;124m\"\u001b[39m\u001b[38;5;124mdrawdown_usd\u001b[39m\u001b[38;5;124m\"\u001b[39m] \u001b[38;5;241m=\u001b[39m dd_data\n\u001b[1;32m--> 675\u001b[0m sheet[\u001b[38;5;124m\"\u001b[39m\u001b[38;5;124mdrawdown_pct\u001b[39m\u001b[38;5;124m\"\u001b[39m] \u001b[38;5;241m=\u001b[39m \u001b[38;5;241;43m100\u001b[39;49m\u001b[43m \u001b[49m\u001b[38;5;241;43m*\u001b[39;49m\u001b[43m \u001b[49m\u001b[43mdd_data\u001b[49m\u001b[43m \u001b[49m\u001b[38;5;241;43m/\u001b[39;49m\u001b[43m \u001b[49m\u001b[43minit_cash\u001b[49m\n\u001b[0;32m    676\u001b[0m \u001b[38;5;66;03m# 25-May-2019: MDE fixed Max DD pct calculations\u001b[39;00m\n\u001b[0;32m    677\u001b[0m sheet[\u001b[38;5;124m\"\u001b[39m\u001b[38;5;124mmax_dd_pct\u001b[39m\u001b[38;5;124m\"\u001b[39m] \u001b[38;5;241m=\u001b[39m \u001b[38;5;241m100\u001b[39m \u001b[38;5;241m*\u001b[39m mdd \u001b[38;5;241m/\u001b[39m equity\u001b[38;5;241m.\u001b[39miloc[ddstart]  \u001b[38;5;66;03m# max_drawdown_pct(returns)\u001b[39;00m\n",
      "\u001b[1;31mTypeError\u001b[0m: unsupported operand type(s) for /: 'list' and 'int'"
     ]
    }
   ],
   "source": [
    "tearsheet(rep)"
   ]
  },
  {
   "cell_type": "code",
   "execution_count": null,
   "metadata": {},
   "outputs": [],
   "source": [
    "sigs = pd.DataFrame.from_dict({'BTCUSDT': {'2024-01-01 01:00': +0.01, '2024-01-01 02:00': 0}})\n",
    "sigs.index = pd.to_datetime(sigs.index)\n",
    "QubxLogConfig.set_log_level(\"ERROR\")\n",
    "\n",
    "rep = simulate(\n",
    "    {\n",
    "        'test1': [TestStrategy(timeframe='15Min', fast_period=6, slow_period=50)],\n",
    "        'test2': [TestStrategy(timeframe='1h', fast_period=6, slow_period=14)],\n",
    "        'test3': sigs,\n",
    "    }, \n",
    "    r, 10000, [\"BINANCE.UM:BTCUSDT\"], \n",
    "    dict(type=\"ohlc\", timeframe=\"5Min\", nback=10),\n",
    "    \"4h -1Sec\",\n",
    "    \"vip0_usdt\", \n",
    "    \"2024-01-01\", \"2024-01-10\", \n",
    ")"
   ]
  },
  {
   "cell_type": "code",
   "execution_count": 13,
   "metadata": {},
   "outputs": [
    {
     "data": {
      "text/html": [
       "<div>\n",
       "<style scoped>\n",
       "    .dataframe tbody tr th:only-of-type {\n",
       "        vertical-align: middle;\n",
       "    }\n",
       "\n",
       "    .dataframe tbody tr th {\n",
       "        vertical-align: top;\n",
       "    }\n",
       "\n",
       "    .dataframe thead th {\n",
       "        text-align: right;\n",
       "    }\n",
       "</style>\n",
       "<table border=\"1\" class=\"dataframe\">\n",
       "  <thead>\n",
       "    <tr style=\"text-align: right;\">\n",
       "      <th></th>\n",
       "      <th>Gain</th>\n",
       "      <th>Cagr</th>\n",
       "      <th>Sharpe</th>\n",
       "      <th>Qr</th>\n",
       "      <th>Max dd pct</th>\n",
       "      <th>Mdd usd</th>\n",
       "      <th>Sortino</th>\n",
       "      <th>Calmar</th>\n",
       "      <th>Tail ratio</th>\n",
       "      <th>Stability</th>\n",
       "      <th>Var</th>\n",
       "      <th>Avg return</th>\n",
       "      <th>Fees</th>\n",
       "      <th>Execs</th>\n",
       "    </tr>\n",
       "  </thead>\n",
       "  <tbody>\n",
       "    <tr>\n",
       "      <th>/test1/0</th>\n",
       "      <td>-33.603875</td>\n",
       "      <td>-0.105680</td>\n",
       "      <td>-5.477074</td>\n",
       "      <td>-1.925943</td>\n",
       "      <td>0.522909</td>\n",
       "      <td>52.290875</td>\n",
       "      <td>-6.836743</td>\n",
       "      <td>-25.317483</td>\n",
       "      <td>0.227491</td>\n",
       "      <td>0.777082</td>\n",
       "      <td>19.763601</td>\n",
       "      <td>-0.030544</td>\n",
       "      <td>0.213875</td>\n",
       "      <td>1.0</td>\n",
       "    </tr>\n",
       "    <tr>\n",
       "      <th>/test2/0</th>\n",
       "      <td>20.497219</td>\n",
       "      <td>0.070305</td>\n",
       "      <td>3.183481</td>\n",
       "      <td>0.273401</td>\n",
       "      <td>0.421530</td>\n",
       "      <td>42.290000</td>\n",
       "      <td>8.920002</td>\n",
       "      <td>52.042585</td>\n",
       "      <td>1.805298</td>\n",
       "      <td>0.414247</td>\n",
       "      <td>15.707881</td>\n",
       "      <td>0.018674</td>\n",
       "      <td>0.657281</td>\n",
       "      <td>2.0</td>\n",
       "    </tr>\n",
       "    <tr>\n",
       "      <th>/test3</th>\n",
       "      <td>35.891482</td>\n",
       "      <td>0.126236</td>\n",
       "      <td>4.534906</td>\n",
       "      <td>0.256376</td>\n",
       "      <td>0.541190</td>\n",
       "      <td>54.301000</td>\n",
       "      <td>10.753013</td>\n",
       "      <td>58.809632</td>\n",
       "      <td>1.588062</td>\n",
       "      <td>0.524270</td>\n",
       "      <td>18.313551</td>\n",
       "      <td>0.032662</td>\n",
       "      <td>0.212518</td>\n",
       "      <td>1.0</td>\n",
       "    </tr>\n",
       "  </tbody>\n",
       "</table>\n",
       "</div>"
      ],
      "text/plain": [
       "               Gain      Cagr    Sharpe        Qr  Max dd pct    Mdd usd  \\\n",
       "/test1/0 -33.603875 -0.105680 -5.477074 -1.925943    0.522909  52.290875   \n",
       "/test2/0  20.497219  0.070305  3.183481  0.273401    0.421530  42.290000   \n",
       "/test3    35.891482  0.126236  4.534906  0.256376    0.541190  54.301000   \n",
       "\n",
       "            Sortino     Calmar  Tail ratio  Stability        Var  Avg return  \\\n",
       "/test1/0  -6.836743 -25.317483    0.227491   0.777082  19.763601   -0.030544   \n",
       "/test2/0   8.920002  52.042585    1.805298   0.414247  15.707881    0.018674   \n",
       "/test3    10.753013  58.809632    1.588062   0.524270  18.313551    0.032662   \n",
       "\n",
       "              Fees  Execs  \n",
       "/test1/0  0.213875    1.0  \n",
       "/test2/0  0.657281    2.0  \n",
       "/test3    0.212518    1.0  "
      ]
     },
     "execution_count": 13,
     "metadata": {},
     "output_type": "execute_result"
    },
    {
     "data": {
      "image/png": "[encoded data removed]",
      "text/plain": [
       "<Figure size 960x400 with 1 Axes>"
      ]
     },
     "metadata": {},
     "output_type": "display_data"
    }
   ],
   "source": [
    "tearsheet(rep, True)"
   ]
  },
  {
   "cell_type": "code",
   "execution_count": null,
   "metadata": {},
   "outputs": [],
   "source": []
  },
  {
   "cell_type": "code",
   "execution_count": null,
   "metadata": {},
   "outputs": [],
   "source": []
  }
 ],
 "metadata": {
  "kernelspec": {
   "display_name": ".venv",
   "language": "python",
   "name": "python3"
  },
  "language_info": {
   "codemirror_mode": {
    "name": "ipython",
    "version": 3
   },
   "file_extension": ".py",
   "mimetype": "text/x-python",
   "name": "python",
   "nbconvert_exporter": "python",
   "pygments_lexer": "ipython3",
   "version": "3.11.8"
  }
 },
 "nbformat": 4,
 "nbformat_minor": 2
}
