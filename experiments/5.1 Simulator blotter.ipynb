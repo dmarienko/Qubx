{
 "cells": [
  {
   "cell_type": "code",
   "execution_count": 6,
   "metadata": {},
   "outputs": [
    {
     "name": "stdout",
     "output_type": "stream",
     "text": [
      " >  [\u001b[32mdev\u001b[0m] \u001b[31minstalling cython rebuilding hook\u001b[0m\n",
      "The autoreload extension is already loaded. To reload it, use:\n",
      "  %reload_ext autoreload\n"
     ]
    }
   ],
   "source": [
    "import sys, os, re; sys.path = ([\"../src/\", \"../\"] if re.match(r'^(\\w\\:\\\\)|(/)', os.getcwd()) else [])+ sys.path \n",
    "\n",
    "from typing import Any, Optional, List\n",
    "\n",
    "import qubx\n",
    "%qubxd dev \n",
    "\n",
    "%load_ext autoreload\n",
    "%autoreload 2\n",
    "import asyncio\n",
    "\n",
    "from qubx import lookup, logger\n",
    "from qubx.core.strategy import IStrategy, StrategyContext, TriggerEvent\n",
    "from qubx.pandaz.utils import *\n",
    "\n",
    "# - - - - - - - - - - - - - - - - - - - - - - - -\n",
    "from qubx.trackers import PortfolioRebalancerTracker\n",
    "from qubx.core.series import Quote\n",
    "from qubx.data.readers import CsvStorageDataReader, AsTimestampedRecords, AsQuotes, RestoreTicksFromOHLC\n",
    "from qubx.core.basics import Deal, Instrument, Order, Position, Signal\n",
    "from qubx.core.utils import recognize_time\n",
    "\n",
    "from qubx.impl.ccxt_connector import CCXTDataConnector\n",
    "from qubx.impl.ccxt_trading import CCXTSyncTradingConnector\n",
    "from qubx.utils.runner import get_account_config\n",
    "\n",
    "def Q(time: str, bid: float, ask: float) -> Quote:\n",
    "    return Quote(recognize_time(time), bid, ask, 0, 0)"
   ]
  },
  {
   "cell_type": "code",
   "execution_count": 2,
   "metadata": {},
   "outputs": [],
   "source": [
    "class TestStrategy(IStrategy):\n",
    "    capital_invested: int = 1000\n",
    "\n",
    "    def on_start(self, ctx: StrategyContext):\n",
    "        logger.info(f\"Strategy started | {ctx.time()}\")\n",
    "\n",
    "    def on_fit(self, ctx: 'StrategyContext', fit_time: str | pd.Timestamp, previous_fit_time: str | pd.Timestamp | None = None):\n",
    "        logger.info(f\"> Fit is called | fit_time: {fit_time} / prev: {previous_fit_time}\")\n",
    "\n",
    "    def on_event(self, ctx: StrategyContext, event: TriggerEvent) -> List[Signal] | None:\n",
    "        logger.info(f\"{event.time} -> {event}\")\n",
    "        return None\n",
    "\n",
    "    def ohlcs(self, timeframe:str) -> Dict[str, pd.DataFrame]:\n",
    "        return {s.symbol: self.ctx.ohlc(s, timeframe).pd() for s in self.ctx.instruments}\n",
    "\n",
    "    def on_stop(self, ctx: StrategyContext):\n",
    "        logger.info(f\"> test is stopped\")\n",
    "\n",
    "    def tracker(self, ctx: StrategyContext) -> PortfolioRebalancerTracker:\n",
    "        return PortfolioRebalancerTracker(ctx, 1000, 0)"
   ]
  },
  {
   "cell_type": "markdown",
   "metadata": {},
   "source": [
    "# Simulated broker and paper trading"
   ]
  },
  {
   "cell_type": "code",
   "execution_count": 3,
   "metadata": {},
   "outputs": [],
   "source": [
    "from qubx.backtester.simulator import SimulatedExchangeService"
   ]
  },
  {
   "cell_type": "code",
   "execution_count": 4,
   "metadata": {},
   "outputs": [
    {
     "name": "stdout",
     "output_type": "stream",
     "text": [
      "\u001b[32m2024-07-11 11:23:22.406\u001b[0m [ \u001b[1mℹ️\u001b[0m ] \u001b[1mbinance initialized - current time 1970-01-01T00:00:00.000000000\u001b[0m\n",
      "\u001b[32m2024-07-11 11:23:22.407\u001b[0m [ \u001b[33m\u001b[1m⚠️\u001b[0m ] \u001b[36mqubx.core.loggers\u001b[0m:\u001b[36m__init__\u001b[0m:\u001b[36m324\u001b[0m - \u001b[33m\u001b[1mLog writer is not defined - strategy activity will not be saved !\u001b[0m\n",
      "\u001b[32m2024-07-11 11:23:22.408\u001b[0m [ \u001b[1mℹ️\u001b[0m ] \u001b[1m(StrategyContext) set strategy parameters:\n",
      "\tset \u001b[32mcapital_invested\u001b[0m\u001b[1m <- \u001b[31m100\u001b[0m\u001b[1m\u001b[0m\n",
      "\u001b[32m2024-07-11 11:23:22.408\u001b[0m [ \u001b[34m\u001b[1m🐞\u001b[0m ] \u001b[34m\u001b[1mTriggering strategy on every 1Min bar after 55S\u001b[0m\n",
      "\u001b[32m2024-07-11 11:23:22.407\u001b[0m [ \u001b[33m\u001b[1m⚠️\u001b[0m ] \u001b[36mqubx.core.loggers\u001b[0m:\u001b[36m__init__\u001b[0m:\u001b[36m324\u001b[0m - \u001b[33m\u001b[1mLog writer is not defined - strategy activity will not be saved !\u001b[0m\n",
      "\u001b[32m2024-07-11 11:23:22.408\u001b[0m [ \u001b[1mℹ️\u001b[0m ] \u001b[1m(StrategyContext) set strategy parameters:\n",
      "\tset \u001b[32mcapital_invested\u001b[0m\u001b[1m <- \u001b[31m100\u001b[0m\u001b[1m\u001b[0m\n",
      "\u001b[32m2024-07-11 11:23:22.408\u001b[0m [ \u001b[34m\u001b[1m🐞\u001b[0m ] \u001b[34m\u001b[1mTriggering strategy on every 1Min bar after 55S\u001b[0m\n"
     ]
    }
   ],
   "source": [
    "auth = get_account_config('binance-qbx', './configs/.env')\n",
    "\n",
    "sbroker = SimulatedExchangeService('binance', 10000, 'vip0_usdt', 'USDT')\n",
    "data = CCXTDataConnector('binance', sbroker, **auth)\n",
    "\n",
    "instruments = [lookup.find_symbol('BINANCE', 'BTCUSDT')]\n",
    "ctx = StrategyContext(\n",
    "    TestStrategy(), dict(\n",
    "        capital_invested=100,\n",
    "        trading_allowed=False\n",
    "    ), \n",
    "    data, sbroker, instruments=instruments,  # type: ignore\n",
    "    md_subscription=dict(type='ohlc', timeframe='1Min', nback=0),\n",
    "    trigger_spec='1Min -5Sec',\n",
    ")\n",
    "S = ctx.strategy"
   ]
  },
  {
   "cell_type": "code",
   "execution_count": 5,
   "metadata": {},
   "outputs": [
    {
     "name": "stdout",
     "output_type": "stream",
     "text": [
      "\u001b[32m2024-07-11 11:23:25.109\u001b[0m [ \u001b[1mℹ️\u001b[0m ] \u001b[1m(StrategyContext) Subscribing to ohlc updates using {'timeframe': '1Min', 'nback': 0} for \n",
      "\t['BTCUSDT'] \u001b[0m\n",
      "\u001b[32m2024-07-11 11:23:25.109\u001b[0m [ \u001b[1mℹ️\u001b[0m ] \u001b[1mSubscribed on ohlc updates for 1 symbols: \n",
      "\t\t['BTCUSDT']\u001b[0m\n",
      "\u001b[32m2024-07-11 11:23:25.122\u001b[0m [ \u001b[1mℹ️\u001b[0m ] \u001b[1mStrategy started | 1970-01-01T00:00:00.000000000\u001b[0m\n",
      "\u001b[32m2024-07-11 11:23:25.123\u001b[0m [ \u001b[1mℹ️\u001b[0m ] \u001b[1m(StrategyContext) Start processing market data\u001b[0m\n",
      "\u001b[32m2024-07-11 11:23:25.124\u001b[0m [ \u001b[1mℹ️\u001b[0m ] \u001b[1m(StrategyContext) strategy is started\u001b[0m\n"
     ]
    },
    {
     "name": "stdout",
     "output_type": "stream",
     "text": [
      "\u001b[32m2024-07-11 11:23:31.409\u001b[0m [ \u001b[34m\u001b[1m🐞\u001b[0m ] \u001b[34m\u001b[1m[2024-07-11T08:23:31.640442880]: Invoking TestStrategy on_fit('1970-01-01 00:00:00', 'None')\u001b[0m\n",
      "\u001b[32m2024-07-11 11:23:31.409\u001b[0m [ \u001b[1mℹ️\u001b[0m ] \u001b[1m> Fit is called | fit_time: 1970-01-01 00:00:00 / prev: None\u001b[0m\n",
      "\u001b[32m2024-07-11 11:23:31.409\u001b[0m [ \u001b[34m\u001b[1m🐞\u001b[0m ] \u001b[34m\u001b[1m[2024-07-11T08:23:31.640442880]: TestStrategy is fitted\u001b[0m\n",
      "\u001b[32m2024-07-11 11:23:55.740\u001b[0m [ \u001b[1mℹ️\u001b[0m ] \u001b[1m2024-07-11T08:23:55.954088960 -> TriggerEvent(time=numpy.datetime64('2024-07-11T08:23:55.954088960'), type='bar', instrument=Instrument(symbol='BTCUSDT', market_type='CRYPTO', exchange='BINANCE', base='BTC', quote='USDT', margin_symbol=None, min_tick=0.01, min_size_step=1e-05, min_size=1e-05, futures_info=None, _aux_instrument=None), data={o:58142.470000 | h:58173.650000 | l:58140.000000 | c:58144.820000 | v:746402.094067})\u001b[0m\n",
      "\u001b[32m2024-07-11 11:24:56.053\u001b[0m [ \u001b[1mℹ️\u001b[0m ] \u001b[1m2024-07-11T08:24:56.263703296 -> TriggerEvent(time=numpy.datetime64('2024-07-11T08:24:56.263703296'), type='bar', instrument=Instrument(symbol='BTCUSDT', market_type='CRYPTO', exchange='BINANCE', base='BTC', quote='USDT', margin_symbol=None, min_tick=0.01, min_size_step=1e-05, min_size=1e-05, futures_info=None, _aux_instrument=None), data={o:58145.890000 | h:58166.000000 | l:58116.660000 | c:58116.660000 | v:526694.528414})\u001b[0m\n",
      "\u001b[32m2024-07-11 11:25:55.564\u001b[0m [ \u001b[1mℹ️\u001b[0m ] \u001b[1m2024-07-11T08:25:55.776022784 -> TriggerEvent(time=numpy.datetime64('2024-07-11T08:25:55.776022784'), type='bar', instrument=Instrument(symbol='BTCUSDT', market_type='CRYPTO', exchange='BINANCE', base='BTC', quote='USDT', margin_symbol=None, min_tick=0.01, min_size_step=1e-05, min_size=1e-05, futures_info=None, _aux_instrument=None), data={o:58110.000000 | h:58139.650000 | l:58104.270000 | c:58136.620000 | v:750409.827449})\u001b[0m\n",
      "\u001b[32m2024-07-11 11:26:56.396\u001b[0m [ \u001b[1mℹ️\u001b[0m ] \u001b[1m2024-07-11T08:26:56.612416000 -> TriggerEvent(time=numpy.datetime64('2024-07-11T08:26:56.612416000'), type='bar', instrument=Instrument(symbol='BTCUSDT', market_type='CRYPTO', exchange='BINANCE', base='BTC', quote='USDT', margin_symbol=None, min_tick=0.01, min_size_step=1e-05, min_size=1e-05, futures_info=None, _aux_instrument=None), data={o:58136.610000 | h:58198.000000 | l:58136.170000 | c:58186.000000 | v:712358.429544})\u001b[0m\n",
      "\u001b[32m2024-07-11 11:27:55.458\u001b[0m [ \u001b[1mℹ️\u001b[0m ] \u001b[1m2024-07-11T08:27:55.680681728 -> TriggerEvent(time=numpy.datetime64('2024-07-11T08:27:55.680681728'), type='bar', instrument=Instrument(symbol='BTCUSDT', market_type='CRYPTO', exchange='BINANCE', base='BTC', quote='USDT', margin_symbol=None, min_tick=0.01, min_size_step=1e-05, min_size=1e-05, futures_info=None, _aux_instrument=None), data={o:58168.000000 | h:58180.170000 | l:58122.000000 | c:58144.120000 | v:1909810.477351})\u001b[0m\n",
      "\u001b[32m2024-07-11 11:28:55.557\u001b[0m [ \u001b[1mℹ️\u001b[0m ] \u001b[1m2024-07-11T08:28:55.770447616 -> TriggerEvent(time=numpy.datetime64('2024-07-11T08:28:55.770447616'), type='bar', instrument=Instrument(symbol='BTCUSDT', market_type='CRYPTO', exchange='BINANCE', base='BTC', quote='USDT', margin_symbol=None, min_tick=0.01, min_size_step=1e-05, min_size=1e-05, futures_info=None, _aux_instrument=None), data={o:58136.010000 | h:58174.010000 | l:58136.000000 | c:58174.010000 | v:460828.186493})\u001b[0m\n",
      "\u001b[32m2024-07-11 11:29:57.007\u001b[0m [ \u001b[1mℹ️\u001b[0m ] \u001b[1m2024-07-11T08:29:57.218280960 -> TriggerEvent(time=numpy.datetime64('2024-07-11T08:29:57.218280960'), type='bar', instrument=Instrument(symbol='BTCUSDT', market_type='CRYPTO', exchange='BINANCE', base='BTC', quote='USDT', margin_symbol=None, min_tick=0.01, min_size_step=1e-05, min_size=1e-05, futures_info=None, _aux_instrument=None), data={o:58174.010000 | h:58174.010000 | l:58154.000000 | c:58154.610000 | v:310532.624002})\u001b[0m\n",
      "\u001b[32m2024-07-11 11:30:55.561\u001b[0m [ \u001b[1mℹ️\u001b[0m ] \u001b[1m2024-07-11T08:30:55.766818816 -> TriggerEvent(time=numpy.datetime64('2024-07-11T08:30:55.766818816'), type='bar', instrument=Instrument(symbol='BTCUSDT', market_type='CRYPTO', exchange='BINANCE', base='BTC', quote='USDT', margin_symbol=None, min_tick=0.01, min_size_step=1e-05, min_size=1e-05, futures_info=None, _aux_instrument=None), data={o:58154.010000 | h:58184.000000 | l:58147.710000 | c:58152.020000 | v:443700.255367})\u001b[0m\n",
      "\u001b[32m2024-07-11 11:31:56.984\u001b[0m [ \u001b[1mℹ️\u001b[0m ] \u001b[1m2024-07-11T08:31:57.033685248 -> TriggerEvent(time=numpy.datetime64('2024-07-11T08:31:57.033685248'), type='bar', instrument=Instrument(symbol='BTCUSDT', market_type='CRYPTO', exchange='BINANCE', base='BTC', quote='USDT', margin_symbol=None, min_tick=0.01, min_size_step=1e-05, min_size=1e-05, futures_info=None, _aux_instrument=None), data={o:58158.760000 | h:58158.770000 | l:58144.000000 | c:58148.000000 | v:356770.303955})\u001b[0m\n",
      "\u001b[32m2024-07-11 11:32:55.824\u001b[0m [ \u001b[1mℹ️\u001b[0m ] \u001b[1m2024-07-11T08:32:56.030909184 -> TriggerEvent(time=numpy.datetime64('2024-07-11T08:32:56.030909184'), type='bar', instrument=Instrument(symbol='BTCUSDT', market_type='CRYPTO', exchange='BINANCE', base='BTC', quote='USDT', margin_symbol=None, min_tick=0.01, min_size_step=1e-05, min_size=1e-05, futures_info=None, _aux_instrument=None), data={o:58148.000000 | h:58158.760000 | l:58116.700000 | c:58116.710000 | v:337465.767442})\u001b[0m\n",
      "\u001b[32m2024-07-11 11:33:57.006\u001b[0m [ \u001b[1mℹ️\u001b[0m ] \u001b[1m2024-07-11T08:33:57.210222336 -> TriggerEvent(time=numpy.datetime64('2024-07-11T08:33:57.210222336'), type='bar', instrument=Instrument(symbol='BTCUSDT', market_type='CRYPTO', exchange='BINANCE', base='BTC', quote='USDT', margin_symbol=None, min_tick=0.01, min_size_step=1e-05, min_size=1e-05, futures_info=None, _aux_instrument=None), data={o:58110.020000 | h:58110.020000 | l:58082.000000 | c:58086.000000 | v:502927.229878})\u001b[0m\n",
      "\u001b[32m2024-07-11 11:34:56.123\u001b[0m [ \u001b[1mℹ️\u001b[0m ] \u001b[1m2024-07-11T08:34:56.330716416 -> TriggerEvent(time=numpy.datetime64('2024-07-11T08:34:56.330716416'), type='bar', instrument=Instrument(symbol='BTCUSDT', market_type='CRYPTO', exchange='BINANCE', base='BTC', quote='USDT', margin_symbol=None, min_tick=0.01, min_size_step=1e-05, min_size=1e-05, futures_info=None, _aux_instrument=None), data={o:58085.990000 | h:58138.600000 | l:58085.990000 | c:58134.000000 | v:809672.003289})\u001b[0m\n",
      "\u001b[32m2024-07-11 11:35:55.254\u001b[0m [ \u001b[1mℹ️\u001b[0m ] \u001b[1m2024-07-11T08:35:55.471866112 -> TriggerEvent(time=numpy.datetime64('2024-07-11T08:35:55.471866112'), type='bar', instrument=Instrument(symbol='BTCUSDT', market_type='CRYPTO', exchange='BINANCE', base='BTC', quote='USDT', margin_symbol=None, min_tick=0.01, min_size_step=1e-05, min_size=1e-05, futures_info=None, _aux_instrument=None), data={o:58126.600000 | h:58142.000000 | l:58092.960000 | c:58142.000000 | v:455870.857043})\u001b[0m\n",
      "\u001b[32m2024-07-11 11:36:56.846\u001b[0m [ \u001b[1mℹ️\u001b[0m ] \u001b[1m2024-07-11T08:36:57.068453888 -> TriggerEvent(time=numpy.datetime64('2024-07-11T08:36:57.068453888'), type='bar', instrument=Instrument(symbol='BTCUSDT', market_type='CRYPTO', exchange='BINANCE', base='BTC', quote='USDT', margin_symbol=None, min_tick=0.01, min_size_step=1e-05, min_size=1e-05, futures_info=None, _aux_instrument=None), data={o:58148.010000 | h:58161.270000 | l:58128.000000 | c:58161.270000 | v:492615.788606})\u001b[0m\n",
      "\u001b[32m2024-07-11 11:37:56.597\u001b[0m [ \u001b[1mℹ️\u001b[0m ] \u001b[1m2024-07-11T08:37:56.671383808 -> TriggerEvent(time=numpy.datetime64('2024-07-11T08:37:56.671383808'), type='bar', instrument=Instrument(symbol='BTCUSDT', market_type='CRYPTO', exchange='BINANCE', base='BTC', quote='USDT', margin_symbol=None, min_tick=0.01, min_size_step=1e-05, min_size=1e-05, futures_info=None, _aux_instrument=None), data={o:58161.270000 | h:58161.270000 | l:58120.980000 | c:58121.920000 | v:616890.279706})\u001b[0m\n",
      "\u001b[32m2024-07-11 11:38:56.284\u001b[0m [ \u001b[1mℹ️\u001b[0m ] \u001b[1m2024-07-11T08:38:56.501713152 -> TriggerEvent(time=numpy.datetime64('2024-07-11T08:38:56.501713152'), type='bar', instrument=Instrument(symbol='BTCUSDT', market_type='CRYPTO', exchange='BINANCE', base='BTC', quote='USDT', margin_symbol=None, min_tick=0.01, min_size_step=1e-05, min_size=1e-05, futures_info=None, _aux_instrument=None), data={o:58124.470000 | h:58134.000000 | l:58118.510000 | c:58127.990000 | v:172686.035346})\u001b[0m\n",
      "\u001b[32m2024-07-11 11:39:55.410\u001b[0m [ \u001b[1mℹ️\u001b[0m ] \u001b[1m2024-07-11T08:39:55.642654208 -> TriggerEvent(time=numpy.datetime64('2024-07-11T08:39:55.642654208'), type='bar', instrument=Instrument(symbol='BTCUSDT', market_type='CRYPTO', exchange='BINANCE', base='BTC', quote='USDT', margin_symbol=None, min_tick=0.01, min_size_step=1e-05, min_size=1e-05, futures_info=None, _aux_instrument=None), data={o:58128.000000 | h:58128.000000 | l:58106.900000 | c:58114.000000 | v:228773.922997})\u001b[0m\n",
      "\u001b[32m2024-07-11 11:40:55.090\u001b[0m [ \u001b[1mℹ️\u001b[0m ] \u001b[1m2024-07-11T08:40:55.330736896 -> TriggerEvent(time=numpy.datetime64('2024-07-11T08:40:55.330736896'), type='bar', instrument=Instrument(symbol='BTCUSDT', market_type='CRYPTO', exchange='BINANCE', base='BTC', quote='USDT', margin_symbol=None, min_tick=0.01, min_size_step=1e-05, min_size=1e-05, futures_info=None, _aux_instrument=None), data={o:58117.990000 | h:58143.580000 | l:58114.000000 | c:58126.640000 | v:373858.799545})\u001b[0m\n",
      "\u001b[32m2024-07-11 11:41:56.960\u001b[0m [ \u001b[1mℹ️\u001b[0m ] \u001b[1m2024-07-11T08:41:57.170233088 -> TriggerEvent(time=numpy.datetime64('2024-07-11T08:41:57.170233088'), type='bar', instrument=Instrument(symbol='BTCUSDT', market_type='CRYPTO', exchange='BINANCE', base='BTC', quote='USDT', margin_symbol=None, min_tick=0.01, min_size_step=1e-05, min_size=1e-05, futures_info=None, _aux_instrument=None), data={o:58133.910000 | h:58139.990000 | l:58113.940000 | c:58127.030000 | v:216695.566553})\u001b[0m\n",
      "\u001b[32m2024-07-11 11:42:55.998\u001b[0m [ \u001b[1mℹ️\u001b[0m ] \u001b[1m2024-07-11T08:42:56.232519168 -> TriggerEvent(time=numpy.datetime64('2024-07-11T08:42:56.232519168'), type='bar', instrument=Instrument(symbol='BTCUSDT', market_type='CRYPTO', exchange='BINANCE', base='BTC', quote='USDT', margin_symbol=None, min_tick=0.01, min_size_step=1e-05, min_size=1e-05, futures_info=None, _aux_instrument=None), data={o:58128.280000 | h:58152.000000 | l:58128.280000 | c:58152.000000 | v:250348.515824})\u001b[0m\n",
      "\u001b[32m2024-07-11 11:43:56.511\u001b[0m [ \u001b[1mℹ️\u001b[0m ] \u001b[1m2024-07-11T08:43:56.735955200 -> TriggerEvent(time=numpy.datetime64('2024-07-11T08:43:56.735955200'), type='bar', instrument=Instrument(symbol='BTCUSDT', market_type='CRYPTO', exchange='BINANCE', base='BTC', quote='USDT', margin_symbol=None, min_tick=0.01, min_size_step=1e-05, min_size=1e-05, futures_info=None, _aux_instrument=None), data={o:58152.000000 | h:58152.000000 | l:58108.000000 | c:58122.650000 | v:507692.944701})\u001b[0m\n",
      "\u001b[32m2024-07-11 11:44:56.432\u001b[0m [ \u001b[1mℹ️\u001b[0m ] \u001b[1m2024-07-11T08:44:56.655593728 -> TriggerEvent(time=numpy.datetime64('2024-07-11T08:44:56.655593728'), type='bar', instrument=Instrument(symbol='BTCUSDT', market_type='CRYPTO', exchange='BINANCE', base='BTC', quote='USDT', margin_symbol=None, min_tick=0.01, min_size_step=1e-05, min_size=1e-05, futures_info=None, _aux_instrument=None), data={o:58122.650000 | h:58122.650000 | l:58082.540000 | c:58082.550000 | v:166758.813948})\u001b[0m\n",
      "\u001b[32m2024-07-11 11:45:56.079\u001b[0m [ \u001b[1mℹ️\u001b[0m ] \u001b[1m2024-07-11T08:45:56.312295680 -> TriggerEvent(time=numpy.datetime64('2024-07-11T08:45:56.312295680'), type='bar', instrument=Instrument(symbol='BTCUSDT', market_type='CRYPTO', exchange='BINANCE', base='BTC', quote='USDT', margin_symbol=None, min_tick=0.01, min_size_step=1e-05, min_size=1e-05, futures_info=None, _aux_instrument=None), data={o:58082.550000 | h:58124.750000 | l:58082.550000 | c:58124.750000 | v:483497.002572})\u001b[0m\n",
      "\u001b[32m2024-07-11 11:46:56.041\u001b[0m [ \u001b[1mℹ️\u001b[0m ] \u001b[1m2024-07-11T08:46:56.268520960 -> TriggerEvent(time=numpy.datetime64('2024-07-11T08:46:56.268520960'), type='bar', instrument=Instrument(symbol='BTCUSDT', market_type='CRYPTO', exchange='BINANCE', base='BTC', quote='USDT', margin_symbol=None, min_tick=0.01, min_size_step=1e-05, min_size=1e-05, futures_info=None, _aux_instrument=None), data={o:58124.750000 | h:58124.750000 | l:58090.050000 | c:58090.050000 | v:277382.553414})\u001b[0m\n",
      "\u001b[32m2024-07-11 11:47:55.005\u001b[0m [ \u001b[1mℹ️\u001b[0m ] \u001b[1m2024-07-11T08:47:55.244954624 -> TriggerEvent(time=numpy.datetime64('2024-07-11T08:47:55.244954624'), type='bar', instrument=Instrument(symbol='BTCUSDT', market_type='CRYPTO', exchange='BINANCE', base='BTC', quote='USDT', margin_symbol=None, min_tick=0.01, min_size_step=1e-05, min_size=1e-05, futures_info=None, _aux_instrument=None), data={o:58090.050000 | h:58094.000000 | l:58052.000000 | c:58056.000000 | v:474659.015428})\u001b[0m\n",
      "\u001b[32m2024-07-11 11:48:57.316\u001b[0m [ \u001b[1mℹ️\u001b[0m ] \u001b[1m2024-07-11T08:48:57.563684096 -> TriggerEvent(time=numpy.datetime64('2024-07-11T08:48:57.563684096'), type='bar', instrument=Instrument(symbol='BTCUSDT', market_type='CRYPTO', exchange='BINANCE', base='BTC', quote='USDT', margin_symbol=None, min_tick=0.01, min_size_step=1e-05, min_size=1e-05, futures_info=None, _aux_instrument=None), data={o:58075.570000 | h:58105.760000 | l:58056.000000 | c:58068.270000 | v:499621.696901})\u001b[0m\n",
      "\u001b[32m2024-07-11 11:49:55.386\u001b[0m [ \u001b[1mℹ️\u001b[0m ] \u001b[1m2024-07-11T08:49:55.933695488 -> TriggerEvent(time=numpy.datetime64('2024-07-11T08:49:55.933695488'), type='bar', instrument=Instrument(symbol='BTCUSDT', market_type='CRYPTO', exchange='BINANCE', base='BTC', quote='USDT', margin_symbol=None, min_tick=0.01, min_size_step=1e-05, min_size=1e-05, futures_info=None, _aux_instrument=None), data={o:58068.280000 | h:58086.010000 | l:58068.270000 | c:58086.010000 | v:116042.008650})\u001b[0m\n",
      "\u001b[32m2024-07-11 11:50:56.372\u001b[0m [ \u001b[1mℹ️\u001b[0m ] \u001b[1m2024-07-11T08:50:56.919583232 -> TriggerEvent(time=numpy.datetime64('2024-07-11T08:50:56.919583232'), type='bar', instrument=Instrument(symbol='BTCUSDT', market_type='CRYPTO', exchange='BINANCE', base='BTC', quote='USDT', margin_symbol=None, min_tick=0.01, min_size_step=1e-05, min_size=1e-05, futures_info=None, _aux_instrument=None), data={o:58086.010000 | h:58131.120000 | l:58086.010000 | c:58118.010000 | v:338780.028842})\u001b[0m\n",
      "\u001b[32m2024-07-11 11:51:55.263\u001b[0m [ \u001b[1mℹ️\u001b[0m ] \u001b[1m2024-07-11T08:51:55.822764288 -> TriggerEvent(time=numpy.datetime64('2024-07-11T08:51:55.822764288'), type='bar', instrument=Instrument(symbol='BTCUSDT', market_type='CRYPTO', exchange='BINANCE', base='BTC', quote='USDT', margin_symbol=None, min_tick=0.01, min_size_step=1e-05, min_size=1e-05, futures_info=None, _aux_instrument=None), data={o:58118.000000 | h:58120.710000 | l:58084.720000 | c:58084.730000 | v:174378.190342})\u001b[0m\n",
      "\u001b[32m2024-07-11 11:52:55.380\u001b[0m [ \u001b[1mℹ️\u001b[0m ] \u001b[1m2024-07-11T08:52:55.936718592 -> TriggerEvent(time=numpy.datetime64('2024-07-11T08:52:55.936718592'), type='bar', instrument=Instrument(symbol='BTCUSDT', market_type='CRYPTO', exchange='BINANCE', base='BTC', quote='USDT', margin_symbol=None, min_tick=0.01, min_size_step=1e-05, min_size=1e-05, futures_info=None, _aux_instrument=None), data={o:58088.000000 | h:58107.720000 | l:58087.990000 | c:58107.720000 | v:413289.722474})\u001b[0m\n",
      "\u001b[32m2024-07-11 11:53:56.836\u001b[0m [ \u001b[1mℹ️\u001b[0m ] \u001b[1m2024-07-11T08:53:57.390198272 -> TriggerEvent(time=numpy.datetime64('2024-07-11T08:53:57.390198272'), type='bar', instrument=Instrument(symbol='BTCUSDT', market_type='CRYPTO', exchange='BINANCE', base='BTC', quote='USDT', margin_symbol=None, min_tick=0.01, min_size_step=1e-05, min_size=1e-05, futures_info=None, _aux_instrument=None), data={o:58107.730000 | h:58116.610000 | l:58097.040000 | c:58116.610000 | v:343638.053705})\u001b[0m\n",
      "\u001b[32m2024-07-11 11:54:55.709\u001b[0m [ \u001b[1mℹ️\u001b[0m ] \u001b[1m2024-07-11T08:54:56.271532544 -> TriggerEvent(time=numpy.datetime64('2024-07-11T08:54:56.271532544'), type='bar', instrument=Instrument(symbol='BTCUSDT', market_type='CRYPTO', exchange='BINANCE', base='BTC', quote='USDT', margin_symbol=None, min_tick=0.01, min_size_step=1e-05, min_size=1e-05, futures_info=None, _aux_instrument=None), data={o:58120.710000 | h:58127.540000 | l:58106.000000 | c:58106.000000 | v:247401.553565})\u001b[0m\n",
      "\u001b[32m2024-07-11 11:55:54.608\u001b[0m [ \u001b[1mℹ️\u001b[0m ] \u001b[1m2024-07-11T08:55:55.155700736 -> TriggerEvent(time=numpy.datetime64('2024-07-11T08:55:55.155700736'), type='bar', instrument=Instrument(symbol='BTCUSDT', market_type='CRYPTO', exchange='BINANCE', base='BTC', quote='USDT', margin_symbol=None, min_tick=0.01, min_size_step=1e-05, min_size=1e-05, futures_info=None, _aux_instrument=None), data={o:58106.010000 | h:58121.610000 | l:58106.000000 | c:58112.000000 | v:103001.557704})\u001b[0m\n",
      "\u001b[32m2024-07-11 11:56:56.052\u001b[0m [ \u001b[1mℹ️\u001b[0m ] \u001b[1m2024-07-11T08:56:56.302093312 -> TriggerEvent(time=numpy.datetime64('2024-07-11T08:56:56.302093312'), type='bar', instrument=Instrument(symbol='BTCUSDT', market_type='CRYPTO', exchange='BINANCE', base='BTC', quote='USDT', margin_symbol=None, min_tick=0.01, min_size_step=1e-05, min_size=1e-05, futures_info=None, _aux_instrument=None), data={o:58112.010000 | h:58153.340000 | l:58112.000000 | c:58153.330000 | v:282454.299856})\u001b[0m\n"
     ]
    }
   ],
   "source": [
    "ctx.start()"
   ]
  },
  {
   "cell_type": "code",
   "execution_count": 31,
   "metadata": {},
   "outputs": [
    {
     "name": "stdout",
     "output_type": "stream",
     "text": [
      "JJJJJJJJJJJJJ\n",
      "kkkkkkkk\n"
     ]
    }
   ],
   "source": [
    "import threading\n",
    "import time\n",
    "\n",
    "async def get_bars(symbol):\n",
    "    ohlcv = await data._exchange.fetch_ohlcv(symbol, '1m')  # type: ignore\n",
    "    return ohlcv\n",
    "\n",
    "def run_coro_sync():\n",
    "    fut = asyncio.run_coroutine_threadsafe(get_bars('BTCUSDT'), data._loop) \n",
    "    finished = threading.Event()\n",
    "    def fut_finished_cb(_):\n",
    "        print(\"JJJJJJJJJJJJJ\")\n",
    "        finished.set()\n",
    "    fut.add_done_callback(fut_finished_cb)\n",
    "    while not finished.is_set():\n",
    "        ...\n",
    "    print(\"kkkkkkkk\")\n",
    "    return fut.result()"
   ]
  },
  {
   "cell_type": "code",
   "execution_count": null,
   "metadata": {},
   "outputs": [],
   "source": [
    "import threading\n",
    "import asyncio\n",
    "\n",
    "def run_coro_threadsafe(coro, other_loop, our_loop = None):\n",
    "    \"\"\"Schedules coro in other_loop, awaits until coro has run and returns\n",
    "    its result.\n",
    "    \"\"\"\n",
    "    loop = our_loop or asyncio.get_event_loop()\n",
    "\n",
    "    # schedule coro safely in other_loop, get a concurrent.future back\n",
    "    # NOTE run_coroutine_threadsafe requires Python 3.5.1\n",
    "    fut = asyncio.run_coroutine_threadsafe(coro, other_loop)\n",
    "\n",
    "    # set up a threading.Event that fires when the future is finished\n",
    "    finished = threading.Event()\n",
    "    def fut_finished_cb(_):\n",
    "        finished.set()\n",
    "    fut.add_done_callback(fut_finished_cb)\n",
    "\n",
    "    # wait on that event in an executor, yielding control to our_loop\n",
    "    await loop.run_in_executor(None, finished.wait)\n",
    "\n",
    "    # coro's result is now available in the future object\n",
    "    return fut.result()"
   ]
  },
  {
   "cell_type": "code",
   "execution_count": 24,
   "metadata": {},
   "outputs": [
    {
     "ename": "RuntimeError",
     "evalue": "This event loop is already running",
     "output_type": "error",
     "traceback": [
      "\u001b[1;31m---------------------------------------------------------------------------\u001b[0m",
      "\u001b[1;31mRuntimeError\u001b[0m                              Traceback (most recent call last)",
      "Cell \u001b[1;32mIn[24], line 1\u001b[0m\n\u001b[1;32m----> 1\u001b[0m fut \u001b[38;5;241m=\u001b[39m \u001b[43mdata\u001b[49m\u001b[38;5;241;43m.\u001b[39;49m\u001b[43m_loop\u001b[49m\u001b[38;5;241;43m.\u001b[39;49m\u001b[43mrun_until_complete\u001b[49m\u001b[43m(\u001b[49m\u001b[43mget_bars\u001b[49m\u001b[43m(\u001b[49m\u001b[38;5;124;43m'\u001b[39;49m\u001b[38;5;124;43mBTCUSDT\u001b[39;49m\u001b[38;5;124;43m'\u001b[39;49m\u001b[43m)\u001b[49m\u001b[43m)\u001b[49m\n\u001b[0;32m      2\u001b[0m finished \u001b[38;5;241m=\u001b[39m threading\u001b[38;5;241m.\u001b[39mEvent()\n\u001b[0;32m      3\u001b[0m \u001b[38;5;28;01mdef\u001b[39;00m \u001b[38;5;21mfut_finished_cb\u001b[39m(_):\n",
      "File \u001b[1;32m~\\AppData\\Local\\Programs\\Python\\Python311\\Lib\\asyncio\\base_events.py:630\u001b[0m, in \u001b[0;36mBaseEventLoop.run_until_complete\u001b[1;34m(self, future)\u001b[0m\n\u001b[0;32m    619\u001b[0m \u001b[38;5;250m\u001b[39m\u001b[38;5;124;03m\"\"\"Run until the Future is done.\u001b[39;00m\n\u001b[0;32m    620\u001b[0m \n\u001b[0;32m    621\u001b[0m \u001b[38;5;124;03mIf the argument is a coroutine, it is wrapped in a Task.\u001b[39;00m\n\u001b[1;32m   (...)\u001b[0m\n\u001b[0;32m    627\u001b[0m \u001b[38;5;124;03mReturn the Future's result, or raise its exception.\u001b[39;00m\n\u001b[0;32m    628\u001b[0m \u001b[38;5;124;03m\"\"\"\u001b[39;00m\n\u001b[0;32m    629\u001b[0m \u001b[38;5;28mself\u001b[39m\u001b[38;5;241m.\u001b[39m_check_closed()\n\u001b[1;32m--> 630\u001b[0m \u001b[38;5;28;43mself\u001b[39;49m\u001b[38;5;241;43m.\u001b[39;49m\u001b[43m_check_running\u001b[49m\u001b[43m(\u001b[49m\u001b[43m)\u001b[49m\n\u001b[0;32m    632\u001b[0m new_task \u001b[38;5;241m=\u001b[39m \u001b[38;5;129;01mnot\u001b[39;00m futures\u001b[38;5;241m.\u001b[39misfuture(future)\n\u001b[0;32m    633\u001b[0m future \u001b[38;5;241m=\u001b[39m tasks\u001b[38;5;241m.\u001b[39mensure_future(future, loop\u001b[38;5;241m=\u001b[39m\u001b[38;5;28mself\u001b[39m)\n",
      "File \u001b[1;32m~\\AppData\\Local\\Programs\\Python\\Python311\\Lib\\asyncio\\base_events.py:589\u001b[0m, in \u001b[0;36mBaseEventLoop._check_running\u001b[1;34m(self)\u001b[0m\n\u001b[0;32m    587\u001b[0m \u001b[38;5;28;01mdef\u001b[39;00m \u001b[38;5;21m_check_running\u001b[39m(\u001b[38;5;28mself\u001b[39m):\n\u001b[0;32m    588\u001b[0m     \u001b[38;5;28;01mif\u001b[39;00m \u001b[38;5;28mself\u001b[39m\u001b[38;5;241m.\u001b[39mis_running():\n\u001b[1;32m--> 589\u001b[0m         \u001b[38;5;28;01mraise\u001b[39;00m \u001b[38;5;167;01mRuntimeError\u001b[39;00m(\u001b[38;5;124m'\u001b[39m\u001b[38;5;124mThis event loop is already running\u001b[39m\u001b[38;5;124m'\u001b[39m)\n\u001b[0;32m    590\u001b[0m     \u001b[38;5;28;01mif\u001b[39;00m events\u001b[38;5;241m.\u001b[39m_get_running_loop() \u001b[38;5;129;01mis\u001b[39;00m \u001b[38;5;129;01mnot\u001b[39;00m \u001b[38;5;28;01mNone\u001b[39;00m:\n\u001b[0;32m    591\u001b[0m         \u001b[38;5;28;01mraise\u001b[39;00m \u001b[38;5;167;01mRuntimeError\u001b[39;00m(\n\u001b[0;32m    592\u001b[0m             \u001b[38;5;124m'\u001b[39m\u001b[38;5;124mCannot run the event loop while another loop is running\u001b[39m\u001b[38;5;124m'\u001b[39m)\n",
      "\u001b[1;31mRuntimeError\u001b[0m: This event loop is already running"
     ]
    }
   ],
   "source": [
    "# fut = data._loop.run_until_complete(get_bars('BTCUSDT'))"
   ]
  },
  {
   "cell_type": "code",
   "execution_count": 22,
   "metadata": {},
   "outputs": [
    {
     "data": {
      "text/plain": [
       "<coroutine object get_bars at 0x0000022F3118A880>"
      ]
     },
     "execution_count": 22,
     "metadata": {},
     "output_type": "execute_result"
    }
   ],
   "source": [
    "d.result()"
   ]
  },
  {
   "cell_type": "code",
   "execution_count": 137,
   "metadata": {},
   "outputs": [
    {
     "name": "stdout",
     "output_type": "stream",
     "text": [
      "2024-07-11 05:56:34 [BINANCE:BTCUSDT]       0.00000      0.00    -0.6950 | 58009.35        0.00\n",
      "[]\n"
     ]
    }
   ],
   "source": [
    "print(sbroker.get_position(instruments[0]))\n",
    "print(sbroker.get_orders())"
   ]
  },
  {
   "cell_type": "code",
   "execution_count": 101,
   "metadata": {},
   "outputs": [
    {
     "name": "stdout",
     "output_type": "stream",
     "text": [
      "\u001b[32m2024-07-11 08:55:12.110\u001b[0m [ \u001b[1mℹ️\u001b[0m ] \u001b[1m(StrategyContext) sending market buy for 0.1 of BTCUSDT ...\u001b[0m\n",
      "\u001b[32m2024-07-11 08:55:12.110\u001b[0m [ \u001b[34m\u001b[1m🐞\u001b[0m ] \u001b[34m\u001b[1m[OMS] BTCUSDT - SIM-ORDER-BTCUSDT-100002 MARKET BUY 0.1 executed at 57986.005\u001b[0m\n",
      "\u001b[32m2024-07-11 08:55:12.110\u001b[0m [ \u001b[1mℹ️\u001b[0m ] \u001b[1m  ::  traded 0.1 for BTCUSDT @ 57986.005 -> 0.00\u001b[0m\n",
      "\u001b[32m2024-07-11 08:55:12.110\u001b[0m [ \u001b[1mℹ️\u001b[0m ] \u001b[1mOrder SIM-ORDER-BTCUSDT-100002 MARKET BUY 0.1 of BTCUSDT -> CLOSED\u001b[0m\n"
     ]
    },
    {
     "data": {
      "text/plain": [
       "Order(id='SIM-ORDER-BTCUSDT-100002', type='MARKET', symbol='BTCUSDT', time=numpy.datetime64('2024-07-11T05:55:11.701357312'), quantity=0.1, price=0, side='BUY', status='CLOSED', time_in_force='gtc', client_id='TestStrategy_BTCUSDT_2', cost=0.0)"
      ]
     },
     "execution_count": 101,
     "metadata": {},
     "output_type": "execute_result"
    }
   ],
   "source": [
    "ctx.trade('BTCUSDT', 0.1)"
   ]
  },
  {
   "cell_type": "code",
   "execution_count": 122,
   "metadata": {},
   "outputs": [
    {
     "name": "stdout",
     "output_type": "stream",
     "text": [
      "\u001b[32m2024-07-11 08:55:28.803\u001b[0m [ \u001b[1mℹ️\u001b[0m ] \u001b[1m(StrategyContext) sending market sell for 0.1 of BTCUSDT ...\u001b[0m\n",
      "\u001b[32m2024-07-11 08:55:28.804\u001b[0m [ \u001b[34m\u001b[1m🐞\u001b[0m ] \u001b[34m\u001b[1m[OMS] BTCUSDT - SIM-ORDER-BTCUSDT-100004 MARKET SELL 0.1 executed at 57978.015\u001b[0m\n",
      "\u001b[32m2024-07-11 08:55:28.805\u001b[0m [ \u001b[1mℹ️\u001b[0m ] \u001b[1m  ::  traded -0.1 for BTCUSDT @ 57978.015 -> -0.35\u001b[0m\n",
      "\u001b[32m2024-07-11 08:55:28.805\u001b[0m [ \u001b[1mℹ️\u001b[0m ] \u001b[1mOrder SIM-ORDER-BTCUSDT-100004 MARKET SELL 0.1 of BTCUSDT -> CLOSED\u001b[0m\n"
     ]
    },
    {
     "data": {
      "text/plain": [
       "Order(id='SIM-ORDER-BTCUSDT-100004', type='MARKET', symbol='BTCUSDT', time=numpy.datetime64('2024-07-11T05:55:28.608849920'), quantity=0.1, price=0, side='SELL', status='CLOSED', time_in_force='gtc', client_id='TestStrategy_BTCUSDT_4', cost=0.0)"
      ]
     },
     "execution_count": 122,
     "metadata": {},
     "output_type": "execute_result"
    }
   ],
   "source": [
    "ctx.trade('BTCUSDT', -0.1)"
   ]
  },
  {
   "cell_type": "code",
   "execution_count": 124,
   "metadata": {},
   "outputs": [
    {
     "name": "stdout",
     "output_type": "stream",
     "text": [
      "\u001b[32m2024-07-11 08:55:43.969\u001b[0m [ \u001b[1mℹ️\u001b[0m ] \u001b[1m(StrategyContext) sending limit buy for 0.1 of BTCUSDT ...\u001b[0m\n",
      "\u001b[32m2024-07-11 08:55:43.969\u001b[0m [ \u001b[34m\u001b[1m🐞\u001b[0m ] \u001b[34m\u001b[1m[OMS] BTCUSDT - registered SIM-ORDER-BTCUSDT-100005 LIMIT BUY 0.1 45000\u001b[0m\n"
     ]
    },
    {
     "data": {
      "text/plain": [
       "Order(id='SIM-ORDER-BTCUSDT-100005', type='LIMIT', symbol='BTCUSDT', time=numpy.datetime64('2024-07-11T05:55:41.389935104'), quantity=0.1, price=45000, side='BUY', status='OPEN', time_in_force='gtc', client_id='TestStrategy_BTCUSDT_5', cost=0.0)"
      ]
     },
     "execution_count": 124,
     "metadata": {},
     "output_type": "execute_result"
    }
   ],
   "source": [
    "ctx.trade('BTCUSDT', 0.1, 45000)"
   ]
  },
  {
   "cell_type": "code",
   "execution_count": 136,
   "metadata": {},
   "outputs": [
    {
     "name": "stdout",
     "output_type": "stream",
     "text": [
      "\u001b[32m2024-07-11 08:56:31.011\u001b[0m [ \u001b[34m\u001b[1m🐞\u001b[0m ] \u001b[34m\u001b[1m[OMS] BTCUSDT - SIM-ORDER-BTCUSDT-100005 LIMIT BUY 0.1 canceled\u001b[0m\n",
      "\u001b[32m2024-07-11 08:56:31.011\u001b[0m [ \u001b[1mℹ️\u001b[0m ] \u001b[1mOrder SIM-ORDER-BTCUSDT-100005 LIMIT BUY 0.1 of BTCUSDT -> CANCELED\u001b[0m\n",
      "\u001b[32m2024-07-11 08:56:31.011\u001b[0m [ \u001b[1mℹ️\u001b[0m ] \u001b[1mOrder SIM-ORDER-BTCUSDT-100005 LIMIT BUY 0.1 of BTCUSDT -> CANCELED\u001b[0m\n"
     ]
    }
   ],
   "source": [
    "ctx.cancel('BTCUSDT')"
   ]
  },
  {
   "cell_type": "code",
   "execution_count": 138,
   "metadata": {},
   "outputs": [
    {
     "name": "stdout",
     "output_type": "stream",
     "text": [
      "\u001b[32m2024-07-11 08:56:41.983\u001b[0m [ \u001b[1mℹ️\u001b[0m ] \u001b[1m> test is stopped\u001b[0m\n",
      "\u001b[32m2024-07-11 08:56:41.984\u001b[0m [ \u001b[1mℹ️\u001b[0m ] \u001b[1m\t\u001b[37mCachedMarketDataHolder.update_by_bar\u001b[0m\u001b[1m took \u001b[31m0.0000314\u001b[0m\u001b[1m secs\u001b[0m\n",
      "\u001b[32m2024-07-11 08:56:41.984\u001b[0m [ \u001b[1mℹ️\u001b[0m ] \u001b[1m\t\u001b[37mStrategyContext._processing_bar\u001b[0m\u001b[1m took \u001b[31m0.0000478\u001b[0m\u001b[1m secs\u001b[0m\n",
      "\u001b[32m2024-07-11 08:56:41.984\u001b[0m [ \u001b[1mℹ️\u001b[0m ] \u001b[1m\t\u001b[37mStrategyContext.handler\u001b[0m\u001b[1m took \u001b[31m0.0000026\u001b[0m\u001b[1m secs\u001b[0m\n",
      "\u001b[32m2024-07-11 08:56:41.984\u001b[0m [ \u001b[1mℹ️\u001b[0m ] \u001b[1m\t\u001b[37mStrategyContext._process_incoming_data\u001b[0m\u001b[1m took \u001b[31m0.9502193\u001b[0m\u001b[1m secs\u001b[0m\n",
      "\u001b[32m2024-07-11 08:56:41.984\u001b[0m [ \u001b[1mℹ️\u001b[0m ] \u001b[1m\t\u001b[37mloggers.notify\u001b[0m\u001b[1m took \u001b[31m0.0000022\u001b[0m\u001b[1m secs\u001b[0m\n",
      "\u001b[32m2024-07-11 08:56:41.984\u001b[0m [ \u001b[1mℹ️\u001b[0m ] \u001b[1m\t\u001b[37mstrategy.on_fit\u001b[0m\u001b[1m took \u001b[31m0.0018189\u001b[0m\u001b[1m secs\u001b[0m\n",
      "\u001b[32m2024-07-11 08:56:41.984\u001b[0m [ \u001b[1mℹ️\u001b[0m ] \u001b[1m\t\u001b[37mstrategy.on_event\u001b[0m\u001b[1m took \u001b[31m0.0013189\u001b[0m\u001b[1m secs\u001b[0m\n",
      "\u001b[32m2024-07-11 08:56:41.984\u001b[0m [ \u001b[1mℹ️\u001b[0m ] \u001b[1m\t\u001b[37mStrategyContext.trade\u001b[0m\u001b[1m took \u001b[31m0.0014009\u001b[0m\u001b[1m secs\u001b[0m\n",
      "\u001b[32m2024-07-11 08:56:41.984\u001b[0m [ \u001b[1mℹ️\u001b[0m ] \u001b[1m\t\u001b[37mStrategyContext._processing_order\u001b[0m\u001b[1m took \u001b[31m0.0006980\u001b[0m\u001b[1m secs\u001b[0m\n",
      "\u001b[32m2024-07-11 08:56:41.984\u001b[0m [ \u001b[1mℹ️\u001b[0m ] \u001b[1m\t\u001b[37mStrategyContext._processing_deals\u001b[0m\u001b[1m took \u001b[31m0.0005858\u001b[0m\u001b[1m secs\u001b[0m\n",
      "\u001b[32m2024-07-11 08:56:41.984\u001b[0m [ \u001b[1mℹ️\u001b[0m ] \u001b[1m\t\u001b[37mStrategyContext.cancel\u001b[0m\u001b[1m took \u001b[31m0.0014524\u001b[0m\u001b[1m secs\u001b[0m\n",
      "\u001b[32m2024-07-11 08:56:41.984\u001b[0m [ \u001b[31m\u001b[1m❌\u001b[0m ] \u001b[31m\u001b[1mThis event loop is already running\u001b[0m\n"
     ]
    },
    {
     "name": "stderr",
     "output_type": "stream",
     "text": [
      "c:\\Users\\dmitr\\devs\\Qubx\\experiments\\../src\\qubx\\impl\\ccxt_connector.py:285: RuntimeWarning: coroutine 'Exchange.close' was never awaited\n",
      "  logger.error(e)\n",
      "RuntimeWarning: Enable tracemalloc to get the object allocation traceback\n"
     ]
    }
   ],
   "source": [
    "ctx.stop()\n",
    "data.close()"
   ]
  },
  {
   "cell_type": "markdown",
   "metadata": {},
   "source": [
    "# Simulated data provider"
   ]
  },
  {
   "cell_type": "code",
   "execution_count": 2,
   "metadata": {},
   "outputs": [],
   "source": [
    "r = CsvStorageDataReader('../tests/data/csv')"
   ]
  },
  {
   "cell_type": "code",
   "execution_count": 3,
   "metadata": {},
   "outputs": [],
   "source": [
    "instr = lookup.find_symbol(\"BINANCE.UM\", \"BTCUSDT\")\n",
    "stream = r.read('BTCUSDT_ohlcv_M1', transform=RestoreTicksFromOHLC(trades=False, spread=instr.min_tick))"
   ]
  },
  {
   "cell_type": "code",
   "execution_count": null,
   "metadata": {},
   "outputs": [],
   "source": [
    "from qubx.backtester.simulator import SimulatedExchangeService"
   ]
  },
  {
   "cell_type": "code",
   "execution_count": null,
   "metadata": {},
   "outputs": [],
   "source": []
  }
 ],
 "metadata": {
  "kernelspec": {
   "display_name": ".venv",
   "language": "python",
   "name": "python3"
  },
  "language_info": {
   "codemirror_mode": {
    "name": "ipython",
    "version": 3
   },
   "file_extension": ".py",
   "mimetype": "text/x-python",
   "name": "python",
   "nbconvert_exporter": "python",
   "pygments_lexer": "ipython3",
   "version": "3.11.8"
  }
 },
 "nbformat": 4,
 "nbformat_minor": 2
}
