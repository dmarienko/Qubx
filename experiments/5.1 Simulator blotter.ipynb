{
 "cells": [
  {
   "cell_type": "code",
   "execution_count": 1,
   "metadata": {},
   "outputs": [
    {
     "name": "stdout",
     "output_type": "stream",
     "text": [
      " >  [\u001b[32mdev\u001b[0m] \u001b[31minstalling cython rebuilding hook\u001b[0m\n",
      "\n",
      "⠀⠀⡰⡖⠒⠒⢒⢦⠀⠀   \n",
      "⠀⢠⠃⠈⢆⣀⣎⣀⣱⡀  \u001b[31mQUBX\u001b[0m | \u001b[36mQuantitative Backtesting Environment\u001b[0m \n",
      "⠀⢳⠒⠒⡞⠚⡄⠀⡰⠁         (c) 2024, ver. \u001b[35mDev\u001b[0m\n",
      "⠀⠀⠱⣜⣀⣀⣈⣦⠃⠀⠀⠀ \n",
      "        \n",
      "\u001b[32m2024-07-29 14:16:25.209\u001b[0m [ \u001b[1mℹ️\u001b[0m ] \u001b[1mNTP offset controller thread is started\u001b[0m\n",
      "\u001b[32m2024-07-29 14:16:25.378\u001b[0m [ \u001b[34m\u001b[1m🐞\u001b[0m ] \u001b[34m\u001b[1mConnected to QuestDB at xlydian-data:8812\u001b[0m\n"
     ]
    }
   ],
   "source": [
    "import sys, os, re; sys.path = ([\"../src/\", \"../\"] if re.match(r'^(\\w\\:\\\\)|(/)', os.getcwd()) else [])+ sys.path \n",
    "\n",
    "from typing import Any, Optional, List\n",
    "\n",
    "import qubx\n",
    "%qubxd dev \n",
    "\n",
    "%load_ext autoreload\n",
    "%autoreload 2\n",
    "\n",
    "from qubx import lookup, logger\n",
    "from qubx.core.strategy import IStrategy, StrategyContext, TriggerEvent, PositionsTracker\n",
    "from qubx.pandaz.utils import *\n",
    "\n",
    "# - - - - - - - - - - - - - - - - - - - - - - - -\n",
    "from qubx.trackers import PortfolioRebalancerTracker\n",
    "from qubx.core.series import Quote\n",
    "from qubx.ta.indicators import sma, ema\n",
    "from qubx.data.readers import CsvStorageDataReader, MultiQdbConnector, AsTimestampedRecords, AsQuotes, RestoreTicksFromOHLC, AsPandasFrame, RestoreTicksFromOHLC, AsOhlcvSeries\n",
    "from qubx.core.basics import Deal, Instrument, Order, Position, Signal\n",
    "from qubx.core.utils import recognize_time\n",
    "\n",
    "from qubx.impl.ccxt_connector import CCXTExchangesConnector\n",
    "from qubx.impl.ccxt_trading import CCXTTradingConnector\n",
    "from qubx.utils.runner import get_account_config\n",
    "from qubx.core.context import StrategyContextImpl\n",
    "\n",
    "def Q(time: str, bid: float, ask: float) -> Quote:\n",
    "    return Quote(recognize_time(time), bid, ask, 0, 0)\n",
    "\n",
    "# r = CsvStorageDataReader(\"../tests/data/csv\")\n",
    "r = MultiQdbConnector('xlydian-data')\n",
    "\n",
    "from qubx import QubxLogConfig\n",
    "from qubx.backtester.simulator import simulate\n",
    "\n",
    "# from qube.portfolio.reports import tearsheet\n",
    "from qubx.core.metrics import tearsheet, portfolio_metrics"
   ]
  },
  {
   "cell_type": "markdown",
   "metadata": {},
   "source": [
    "# <font color='green'>Test Strategy</font>"
   ]
  },
  {
   "cell_type": "code",
   "execution_count": 2,
   "metadata": {},
   "outputs": [],
   "source": [
    "class TestStrategy(IStrategy):\n",
    "    timeframe: str = \"1Min\"\n",
    "    fast_period = 5\n",
    "    slow_period = 12\n",
    "\n",
    "    def on_start(self, ctx: StrategyContext):\n",
    "        logger.info(f\" -> Strategy started | {ctx.time()}\")\n",
    "\n",
    "    def on_fit(self, ctx: \"StrategyContext\", fit_time: str | pd.Timestamp, previous_fit_time: str | pd.Timestamp | None = None):\n",
    "        logger.info(f\" -> Fit is called | fit_time: {fit_time} / prev: {previous_fit_time}\")\n",
    "        data = ctx.get_historical_ohlcs(ctx.instruments[0], '1h', 24)\n",
    "        logger.info(data)\n",
    "\n",
    "    def on_event(self, ctx: StrategyContext, event: TriggerEvent) -> List[Signal] | None:\n",
    "        # logger.info(f\" ||||| {event.time} -> {event} |||||\")\n",
    "\n",
    "        for i in ctx.instruments:\n",
    "            # logger.info(f\"\\t{i.symbol} : {ctx.broker_provider.get_quote(i.symbol)}\")\n",
    "\n",
    "            if True:\n",
    "                ohlc = ctx.ohlc(i, self.timeframe)\n",
    "                fast = sma(ohlc.close, self.fast_period)\n",
    "                slow = sma(ohlc.close, self.slow_period)\n",
    "                pos = ctx.positions[i.symbol].quantity\n",
    "                # cap = ctx.get_capital()\n",
    "                # n = len(ctx.instruments)\n",
    "                if pos <= 0:\n",
    "                    if (fast[0] > slow[0]) and (fast[1] < slow[1]):\n",
    "                        ctx.trade(i, abs(pos) + i.min_size * 10)\n",
    "\n",
    "                if pos >= 0:\n",
    "                    if (fast[0] < slow[0]) and (fast[1] > slow[1]):\n",
    "                        ctx.trade(i, -pos - i.min_size * 10)\n",
    "\n",
    "        return None\n",
    "\n",
    "    def ohlcs(self, timeframe: str) -> Dict[str, pd.DataFrame]:\n",
    "        return {s.symbol: self.ctx.ohlc(s, timeframe).pd() for s in self.ctx.instruments}\n",
    "\n",
    "    def on_stop(self, ctx: StrategyContext):\n",
    "        logger.info(f\" -> strategy is stopped\")\n",
    "\n",
    "    def tracker(self, ctx: StrategyContext) -> PositionsTracker:\n",
    "        return PortfolioRebalancerTracker(1000, 0)"
   ]
  },
  {
   "cell_type": "markdown",
   "metadata": {},
   "source": [
    "# Simulated broker and paper trading"
   ]
  },
  {
   "cell_type": "code",
   "execution_count": 3,
   "metadata": {},
   "outputs": [],
   "source": [
    "from qubx.backtester.simulator import SimulatedTrading"
   ]
  },
  {
   "cell_type": "code",
   "execution_count": 4,
   "metadata": {},
   "outputs": [
    {
     "name": "stdout",
     "output_type": "stream",
     "text": [
      "\u001b[32m2024-07-29 14:16:39.416\u001b[0m [ \u001b[1mℹ️\u001b[0m ] \u001b[1mbinance initialized - current time 1970-01-01T00:00:00.000000000\u001b[0m\n",
      "\u001b[32m2024-07-29 14:16:39.417\u001b[0m [ \u001b[33m\u001b[1m⚠️\u001b[0m ] \u001b[36mqubx.core.loggers\u001b[0m:\u001b[36m__init__\u001b[0m:\u001b[36m379\u001b[0m - \u001b[33m\u001b[1mLog writer is not defined - strategy activity will not be saved !\u001b[0m\n",
      "\u001b[32m2024-07-29 14:16:39.418\u001b[0m [ \u001b[1mℹ️\u001b[0m ] \u001b[1m\u001b[33mTestStrategy\u001b[0m\u001b[1m new parameters:\n",
      "\tset \u001b[32mtimeframe\u001b[0m\u001b[1m <- \u001b[31m1Min\u001b[0m\u001b[1m\u001b[0m\n",
      "\u001b[32m2024-07-29 14:16:39.419\u001b[0m [ \u001b[34m\u001b[1m🐞\u001b[0m ] \u001b[34m\u001b[1mTriggering strategy on every 1Min bar after 55S\u001b[0m\n",
      "\u001b[32m2024-07-29 14:16:39.417\u001b[0m [ \u001b[33m\u001b[1m⚠️\u001b[0m ] \u001b[36mqubx.core.loggers\u001b[0m:\u001b[36m__init__\u001b[0m:\u001b[36m379\u001b[0m - \u001b[33m\u001b[1mLog writer is not defined - strategy activity will not be saved !\u001b[0m\n",
      "\u001b[32m2024-07-29 14:16:39.418\u001b[0m [ \u001b[1mℹ️\u001b[0m ] \u001b[1m\u001b[33mTestStrategy\u001b[0m\u001b[1m new parameters:\n",
      "\tset \u001b[32mtimeframe\u001b[0m\u001b[1m <- \u001b[31m1Min\u001b[0m\u001b[1m\u001b[0m\n",
      "\u001b[32m2024-07-29 14:16:39.419\u001b[0m [ \u001b[34m\u001b[1m🐞\u001b[0m ] \u001b[34m\u001b[1mTriggering strategy on every 1Min bar after 55S\u001b[0m\n"
     ]
    }
   ],
   "source": [
    "auth = get_account_config('binance-qbx', './configs/.env')\n",
    "\n",
    "sim = SimulatedTrading('binance', 'vip0_usdt')\n",
    "exch = CCXTExchangesConnector('binance', sim, **auth)\n",
    "\n",
    "instruments = [lookup.find_symbol('BINANCE', 'BTCUSDT')]\n",
    "ctx = StrategyContextImpl(\n",
    "    TestStrategy(), dict(\n",
    "        timeframe='1Min',\n",
    "    ), \n",
    "    exch, instruments=instruments,  # type: ignore\n",
    "    initial_capital=10000,\n",
    "    md_subscription=dict(type='ohlc', timeframe='1Min', nback=0),\n",
    "    trigger_spec='1Min -5Sec',\n",
    ")\n",
    "S = ctx.strategy"
   ]
  },
  {
   "cell_type": "code",
   "execution_count": 5,
   "metadata": {},
   "outputs": [
    {
     "name": "stdout",
     "output_type": "stream",
     "text": [
      "\u001b[32m2024-07-29 14:16:41.279\u001b[0m [ \u001b[1mℹ️\u001b[0m ] \u001b[1m(StrategyContext) Subscribing to ohlc updates using {'timeframe': '1Min', 'nback': 0} for \n",
      "\t['BTCUSDT'] \u001b[0m\n",
      "\u001b[32m2024-07-29 14:16:41.279\u001b[0m [ \u001b[1mℹ️\u001b[0m ] \u001b[1mSubscribed on ohlc updates for 1 symbols: \n",
      "\t\t['BTCUSDT']\u001b[0m\n",
      "\u001b[32m2024-07-29 14:16:41.279\u001b[0m [ \u001b[1mℹ️\u001b[0m ] \u001b[1m -> Strategy started | 1970-01-01T00:00:00.000000000\u001b[0m\n",
      "\u001b[32m2024-07-29 14:16:41.279\u001b[0m [ \u001b[1mℹ️\u001b[0m ] \u001b[1m(StrategyContext) Start processing market data\u001b[0m\n",
      "\u001b[32m2024-07-29 14:16:41.279\u001b[0m [ \u001b[1mℹ️\u001b[0m ] \u001b[1m(StrategyContext) strategy is started in thread\u001b[0m\n"
     ]
    },
    {
     "name": "stdout",
     "output_type": "stream",
     "text": [
      "\u001b[32m2024-07-29 14:16:47.359\u001b[0m [ \u001b[34m\u001b[1m🐞\u001b[0m ] \u001b[34m\u001b[1m[2024-07-29T12:16:48.251553536]: Invoking TestStrategy on_fit('1970-01-01 00:00:00', 'None')\u001b[0m\n",
      "\u001b[32m2024-07-29 14:16:47.359\u001b[0m [ \u001b[1mℹ️\u001b[0m ] \u001b[1m -> Fit is called | fit_time: 1970-01-01 00:00:00 / prev: None\u001b[0m\n",
      "\u001b[32m2024-07-29 14:16:47.635\u001b[0m [ \u001b[1mℹ️\u001b[0m ] \u001b[1mBTCUSDT[1H] | 24 records\n",
      "  2024-07-29T12:00:00.000000000 {o:69580.010000 | h:69622.050000 | l:69396.740000 | c:69450.000000 | v:35881318.362977}\n",
      "  2024-07-29T11:00:00.000000000 {o:69620.000000 | h:69838.620000 | l:69580.000000 | c:69580.010000 | v:62760903.993269}\n",
      "  2024-07-29T10:00:00.000000000 {o:69520.000000 | h:69743.070000 | l:69378.800000 | c:69620.000000 | v:51750653.787636}\n",
      "   .......... \n",
      "  2024-07-28T15:00:00.000000000 {o:67746.000000 | h:67777.770000 | l:67577.630000 | c:67645.000000 | v:22045798.693969}\n",
      "  2024-07-28T14:00:00.000000000 {o:67988.010000 | h:68024.990000 | l:67634.700000 | c:67746.000000 | v:40866793.384038}\n",
      "  2024-07-28T13:00:00.000000000 {o:68000.010000 | h:68044.010000 | l:67861.270000 | c:67988.010000 | v:21058926.369926}\n",
      "\u001b[0m\n",
      "\u001b[32m2024-07-29 14:16:47.635\u001b[0m [ \u001b[34m\u001b[1m🐞\u001b[0m ] \u001b[34m\u001b[1m[2024-07-29T12:16:48.251553536]: TestStrategy is fitted\u001b[0m\n",
      "\u001b[32m2024-07-29 14:17:24.863\u001b[0m [ \u001b[34m\u001b[1m🐞\u001b[0m ] \u001b[34m\u001b[1m[SIM-ORDER-BTCUSDT-100001 / TestStrategy_BTCUSDT_1] : MARKET BUY 0.1 of BTCUSDT  -> [CLOSED]\u001b[0m\n",
      "\u001b[32m2024-07-29 14:17:24.864\u001b[0m [ \u001b[34m\u001b[1m🐞\u001b[0m ] \u001b[34m\u001b[1mExecuted 0.1 @ 69489.015 of BTCUSDT for order SIM-ORDER-BTCUSDT-100001\u001b[0m\n",
      "\u001b[32m2024-07-29 14:17:27.127\u001b[0m [ \u001b[34m\u001b[1m🐞\u001b[0m ] \u001b[34m\u001b[1m[SIM-ORDER-BTCUSDT-100002 / TestStrategy_BTCUSDT_2] : MARKET SELL 0.1 of BTCUSDT  -> [CLOSED]\u001b[0m\n",
      "\u001b[32m2024-07-29 14:17:27.127\u001b[0m [ \u001b[34m\u001b[1m🐞\u001b[0m ] \u001b[34m\u001b[1mExecuted -0.1 @ 69488.995 of BTCUSDT for order SIM-ORDER-BTCUSDT-100002\u001b[0m\n",
      "\u001b[32m2024-07-29 14:17:30.152\u001b[0m [ \u001b[34m\u001b[1m🐞\u001b[0m ] \u001b[34m\u001b[1m[SIM-ORDER-BTCUSDT-100003 / TestStrategy_BTCUSDT_3] : LIMIT BUY 0.1 of BTCUSDT  @ 45000 -> [OPEN]\u001b[0m\n",
      "\u001b[32m2024-07-29 14:17:32.916\u001b[0m [ \u001b[34m\u001b[1m🐞\u001b[0m ] \u001b[34m\u001b[1m[SIM-ORDER-BTCUSDT-100003 / TestStrategy_BTCUSDT_3] : LIMIT BUY 0.1 of BTCUSDT  @ 45000 -> [CANCELED]\u001b[0m\n",
      "\u001b[32m2024-07-29 14:17:34.383\u001b[0m [ \u001b[1mℹ️\u001b[0m ] \u001b[1m(StrategyContext) Market data processing stopped\u001b[0m\n",
      "\u001b[32m2024-07-29 14:17:34.394\u001b[0m [ \u001b[1mℹ️\u001b[0m ] \u001b[1m(CCXTDataConnector) BTCUSDT OHLCV listening has been stopped\u001b[0m\n",
      "\u001b[32m2024-07-29 14:17:34.395\u001b[0m [ \u001b[1mℹ️\u001b[0m ] \u001b[1m(CCXTDataConnector) BTCUSDT execution reports listening has been stopped\u001b[0m\n"
     ]
    }
   ],
   "source": [
    "ctx.start()"
   ]
  },
  {
   "cell_type": "code",
   "execution_count": null,
   "metadata": {},
   "outputs": [],
   "source": [
    "exch.get_historical_ohlcs('BTCUSDT', '5Min', 200)"
   ]
  },
  {
   "cell_type": "code",
   "execution_count": 7,
   "metadata": {},
   "outputs": [
    {
     "data": {
      "text/plain": [
       "                        open      high       low     close         volume  \\\n",
       "timestamp                                                                   \n",
       "2024-07-29 12:16:00  69460.0  69462.00  69440.00  69462.00  383267.899991   \n",
       "2024-07-29 12:17:00  69462.0  69482.01  69461.99  69482.01  194731.310801   \n",
       "\n",
       "                     bought_volume  \n",
       "timestamp                           \n",
       "2024-07-29 12:16:00  254104.841110  \n",
       "2024-07-29 12:17:00  168426.435801  "
      ]
     },
     "execution_count": 7,
     "metadata": {},
     "output_type": "execute_result"
    }
   ],
   "source": [
    "ctx.ohlc(ctx.instruments[0], '1Min')"
   ]
  },
  {
   "cell_type": "code",
   "execution_count": 8,
   "metadata": {},
   "outputs": [
    {
     "name": "stdout",
     "output_type": "stream",
     "text": [
      "2024-07-29 12:17:20 [BINANCE:BTCUSDT]       0.00000      0.00    +0.0000 | 69489.01        0.00\n",
      "[]\n"
     ]
    }
   ],
   "source": [
    "print(exch.trading_service.get_position(instruments[0]))\n",
    "print(exch.trading_service.get_orders())"
   ]
  },
  {
   "cell_type": "code",
   "execution_count": 9,
   "metadata": {},
   "outputs": [
    {
     "name": "stdout",
     "output_type": "stream",
     "text": [
      "\u001b[32m2024-07-29 14:17:24.859\u001b[0m [ \u001b[1mℹ️\u001b[0m ] \u001b[1m(StrategyContext) sending market buy for 0.1 of BTCUSDT ...\u001b[0m\n",
      "\u001b[32m2024-07-29 14:17:24.860\u001b[0m [ \u001b[34m\u001b[1m🐞\u001b[0m ] \u001b[34m\u001b[1m[OMS] BTCUSDT - SIM-ORDER-BTCUSDT-100001 MARKET BUY 0.1 executed at 69489.015\u001b[0m\n",
      "\u001b[32m2024-07-29 14:17:24.860\u001b[0m [ \u001b[1mℹ️\u001b[0m ] \u001b[1m  ::  traded 0.1 for BTCUSDT @ 69489.015 -> 0.00\u001b[0m\n",
      "\u001b[32m2024-07-29 14:17:24.861\u001b[0m [ \u001b[1mℹ️\u001b[0m ] \u001b[1mOrder SIM-ORDER-BTCUSDT-100001 MARKET BUY 0.1 of BTCUSDT -> CLOSED\u001b[0m\n"
     ]
    },
    {
     "data": {
      "text/plain": [
       "Order(id='SIM-ORDER-BTCUSDT-100001', type='MARKET', symbol='BTCUSDT', time=numpy.datetime64('2024-07-29T12:17:23.064312064'), quantity=0.1, price=0, side='BUY', status='CLOSED', time_in_force='gtc', client_id='TestStrategy_BTCUSDT_1', cost=0.0)"
      ]
     },
     "execution_count": 9,
     "metadata": {},
     "output_type": "execute_result"
    }
   ],
   "source": [
    "ctx.trade('BTCUSDT', 0.1)"
   ]
  },
  {
   "cell_type": "code",
   "execution_count": 10,
   "metadata": {},
   "outputs": [
    {
     "name": "stdout",
     "output_type": "stream",
     "text": [
      "\u001b[32m2024-07-29 14:17:27.127\u001b[0m [ \u001b[1mℹ️\u001b[0m ] \u001b[1m(StrategyContext) sending market sell for 0.1 of BTCUSDT ...\u001b[0m\n",
      "\u001b[32m2024-07-29 14:17:27.127\u001b[0m [ \u001b[34m\u001b[1m🐞\u001b[0m ] \u001b[34m\u001b[1m[OMS] BTCUSDT - SIM-ORDER-BTCUSDT-100002 MARKET SELL 0.1 executed at 69488.995\u001b[0m\n",
      "\u001b[32m2024-07-29 14:17:27.127\u001b[0m [ \u001b[1mℹ️\u001b[0m ] \u001b[1m  ::  traded -0.1 for BTCUSDT @ 69488.995 -> -0.00\u001b[0m\n",
      "\u001b[32m2024-07-29 14:17:27.127\u001b[0m [ \u001b[1mℹ️\u001b[0m ] \u001b[1mOrder SIM-ORDER-BTCUSDT-100002 MARKET SELL 0.1 of BTCUSDT -> CLOSED\u001b[0m\n"
     ]
    },
    {
     "data": {
      "text/plain": [
       "Order(id='SIM-ORDER-BTCUSDT-100002', type='MARKET', symbol='BTCUSDT', time=numpy.datetime64('2024-07-29T12:17:27.898189824'), quantity=0.1, price=0, side='SELL', status='CLOSED', time_in_force='gtc', client_id='TestStrategy_BTCUSDT_2', cost=0.0)"
      ]
     },
     "execution_count": 10,
     "metadata": {},
     "output_type": "execute_result"
    }
   ],
   "source": [
    "ctx.trade('BTCUSDT', -0.1)"
   ]
  },
  {
   "cell_type": "code",
   "execution_count": 11,
   "metadata": {},
   "outputs": [
    {
     "name": "stdout",
     "output_type": "stream",
     "text": [
      "\u001b[32m2024-07-29 14:17:30.150\u001b[0m [ \u001b[1mℹ️\u001b[0m ] \u001b[1m(StrategyContext) sending limit buy for 0.1 of BTCUSDT ...\u001b[0m\n",
      "\u001b[32m2024-07-29 14:17:30.151\u001b[0m [ \u001b[34m\u001b[1m🐞\u001b[0m ] \u001b[34m\u001b[1m[OMS] BTCUSDT - registered SIM-ORDER-BTCUSDT-100003 LIMIT BUY 0.1 45000\u001b[0m\n"
     ]
    },
    {
     "data": {
      "text/plain": [
       "Order(id='SIM-ORDER-BTCUSDT-100003', type='LIMIT', symbol='BTCUSDT', time=numpy.datetime64('2024-07-29T12:17:30.156213248'), quantity=0.1, price=45000, side='BUY', status='OPEN', time_in_force='gtc', client_id='TestStrategy_BTCUSDT_3', cost=0.0)"
      ]
     },
     "execution_count": 11,
     "metadata": {},
     "output_type": "execute_result"
    }
   ],
   "source": [
    "ctx.trade('BTCUSDT', 0.1, 45000)"
   ]
  },
  {
   "cell_type": "code",
   "execution_count": 12,
   "metadata": {},
   "outputs": [
    {
     "name": "stdout",
     "output_type": "stream",
     "text": [
      "\u001b[32m2024-07-29 14:17:32.916\u001b[0m [ \u001b[34m\u001b[1m🐞\u001b[0m ] \u001b[34m\u001b[1m[OMS] BTCUSDT - SIM-ORDER-BTCUSDT-100003 LIMIT BUY 0.1 canceled\u001b[0m\n",
      "\u001b[32m2024-07-29 14:17:32.916\u001b[0m [ \u001b[1mℹ️\u001b[0m ] \u001b[1mOrder SIM-ORDER-BTCUSDT-100003 LIMIT BUY 0.1 of BTCUSDT -> CANCELED\u001b[0m\n",
      "\u001b[32m2024-07-29 14:17:32.916\u001b[0m [ \u001b[1mℹ️\u001b[0m ] \u001b[1mOrder SIM-ORDER-BTCUSDT-100003 LIMIT BUY 0.1 of BTCUSDT -> CANCELED\u001b[0m\n"
     ]
    }
   ],
   "source": [
    "ctx.cancel('BTCUSDT')"
   ]
  },
  {
   "cell_type": "code",
   "execution_count": 13,
   "metadata": {},
   "outputs": [
    {
     "name": "stdout",
     "output_type": "stream",
     "text": [
      "\u001b[32m2024-07-29 14:17:34.383\u001b[0m [ \u001b[1mℹ️\u001b[0m ] \u001b[1m -> strategy is stopped\u001b[0m\n",
      "\u001b[32m2024-07-29 14:17:34.384\u001b[0m [ \u001b[1mℹ️\u001b[0m ] \u001b[1m\t\u001b[37mCachedMarketDataHolder.update_by_bar\u001b[0m\u001b[1m took \u001b[31m0.0000566\u001b[0m\u001b[1m secs\u001b[0m\n",
      "\u001b[32m2024-07-29 14:17:34.385\u001b[0m [ \u001b[1mℹ️\u001b[0m ] \u001b[1m\t\u001b[37mStrategyContext._processing_bar\u001b[0m\u001b[1m took \u001b[31m0.0000672\u001b[0m\u001b[1m secs\u001b[0m\n",
      "\u001b[32m2024-07-29 14:17:34.385\u001b[0m [ \u001b[1mℹ️\u001b[0m ] \u001b[1m\t\u001b[37mStrategyContext.handler\u001b[0m\u001b[1m took \u001b[31m0.0000041\u001b[0m\u001b[1m secs\u001b[0m\n",
      "\u001b[32m2024-07-29 14:17:34.386\u001b[0m [ \u001b[1mℹ️\u001b[0m ] \u001b[1m\t\u001b[37mloggers.notify\u001b[0m\u001b[1m took \u001b[31m0.0000023\u001b[0m\u001b[1m secs\u001b[0m\n",
      "\u001b[32m2024-07-29 14:17:34.387\u001b[0m [ \u001b[1mℹ️\u001b[0m ] \u001b[1m\t\u001b[37mStrategyContext._process_incoming_data\u001b[0m\u001b[1m took \u001b[31m0.0000156\u001b[0m\u001b[1m secs\u001b[0m\n",
      "\u001b[32m2024-07-29 14:17:34.387\u001b[0m [ \u001b[1mℹ️\u001b[0m ] \u001b[1m\t\u001b[37mCachedMarketDataHolder.get_ohlcv\u001b[0m\u001b[1m took \u001b[31m0.0000873\u001b[0m\u001b[1m secs\u001b[0m\n",
      "\u001b[32m2024-07-29 14:17:34.388\u001b[0m [ \u001b[1mℹ️\u001b[0m ] \u001b[1m\t\u001b[37mCachedMarketDataHolder.update_by_bars\u001b[0m\u001b[1m took \u001b[31m0.0002583\u001b[0m\u001b[1m secs\u001b[0m\n",
      "\u001b[32m2024-07-29 14:17:34.389\u001b[0m [ \u001b[1mℹ️\u001b[0m ] \u001b[1m\t\u001b[37mStrategyContext.get_historical_ohlcs\u001b[0m\u001b[1m took \u001b[31m0.2650401\u001b[0m\u001b[1m secs\u001b[0m\n",
      "\u001b[32m2024-07-29 14:17:34.389\u001b[0m [ \u001b[1mℹ️\u001b[0m ] \u001b[1m\t\u001b[37mstrategy.on_fit\u001b[0m\u001b[1m took \u001b[31m0.2680438\u001b[0m\u001b[1m secs\u001b[0m\n",
      "\u001b[32m2024-07-29 14:17:34.390\u001b[0m [ \u001b[1mℹ️\u001b[0m ] \u001b[1m\t\u001b[37mstrategy.on_event\u001b[0m\u001b[1m took \u001b[31m0.0001269\u001b[0m\u001b[1m secs\u001b[0m\n",
      "\u001b[32m2024-07-29 14:17:34.390\u001b[0m [ \u001b[1mℹ️\u001b[0m ] \u001b[1m\t\u001b[37mStrategyContext.trade\u001b[0m\u001b[1m took \u001b[31m0.0018894\u001b[0m\u001b[1m secs\u001b[0m\n",
      "\u001b[32m2024-07-29 14:17:34.391\u001b[0m [ \u001b[1mℹ️\u001b[0m ] \u001b[1m\t\u001b[37mStrategyContext._processing_order\u001b[0m\u001b[1m took \u001b[31m0.0010258\u001b[0m\u001b[1m secs\u001b[0m\n",
      "\u001b[32m2024-07-29 14:17:34.391\u001b[0m [ \u001b[1mℹ️\u001b[0m ] \u001b[1m\t\u001b[37mStrategyContext._processing_deals\u001b[0m\u001b[1m took \u001b[31m0.0012495\u001b[0m\u001b[1m secs\u001b[0m\n",
      "\u001b[32m2024-07-29 14:17:34.391\u001b[0m [ \u001b[1mℹ️\u001b[0m ] \u001b[1m\t\u001b[37mStrategyContext.cancel\u001b[0m\u001b[1m took \u001b[31m0.0012277\u001b[0m\u001b[1m secs\u001b[0m\n",
      "\u001b[32m2024-07-29 14:17:34.384\u001b[0m [ \u001b[1mℹ️\u001b[0m ] \u001b[1m\t\u001b[37mCachedMarketDataHolder.update_by_bar\u001b[0m\u001b[1m took \u001b[31m0.0000566\u001b[0m\u001b[1m secs\u001b[0m\n",
      "\u001b[32m2024-07-29 14:17:34.385\u001b[0m [ \u001b[1mℹ️\u001b[0m ] \u001b[1m\t\u001b[37mStrategyContext._processing_bar\u001b[0m\u001b[1m took \u001b[31m0.0000672\u001b[0m\u001b[1m secs\u001b[0m\n",
      "\u001b[32m2024-07-29 14:17:34.385\u001b[0m [ \u001b[1mℹ️\u001b[0m ] \u001b[1m\t\u001b[37mStrategyContext.handler\u001b[0m\u001b[1m took \u001b[31m0.0000041\u001b[0m\u001b[1m secs\u001b[0m\n",
      "\u001b[32m2024-07-29 14:17:34.386\u001b[0m [ \u001b[1mℹ️\u001b[0m ] \u001b[1m\t\u001b[37mloggers.notify\u001b[0m\u001b[1m took \u001b[31m0.0000023\u001b[0m\u001b[1m secs\u001b[0m\n",
      "\u001b[32m2024-07-29 14:17:34.387\u001b[0m [ \u001b[1mℹ️\u001b[0m ] \u001b[1m\t\u001b[37mStrategyContext._process_incoming_data\u001b[0m\u001b[1m took \u001b[31m0.0000156\u001b[0m\u001b[1m secs\u001b[0m\n",
      "\u001b[32m2024-07-29 14:17:34.387\u001b[0m [ \u001b[1mℹ️\u001b[0m ] \u001b[1m\t\u001b[37mCachedMarketDataHolder.get_ohlcv\u001b[0m\u001b[1m took \u001b[31m0.0000873\u001b[0m\u001b[1m secs\u001b[0m\n",
      "\u001b[32m2024-07-29 14:17:34.388\u001b[0m [ \u001b[1mℹ️\u001b[0m ] \u001b[1m\t\u001b[37mCachedMarketDataHolder.update_by_bars\u001b[0m\u001b[1m took \u001b[31m0.0002583\u001b[0m\u001b[1m secs\u001b[0m\n",
      "\u001b[32m2024-07-29 14:17:34.389\u001b[0m [ \u001b[1mℹ️\u001b[0m ] \u001b[1m\t\u001b[37mStrategyContext.get_historical_ohlcs\u001b[0m\u001b[1m took \u001b[31m0.2650401\u001b[0m\u001b[1m secs\u001b[0m\n",
      "\u001b[32m2024-07-29 14:17:34.389\u001b[0m [ \u001b[1mℹ️\u001b[0m ] \u001b[1m\t\u001b[37mstrategy.on_fit\u001b[0m\u001b[1m took \u001b[31m0.2680438\u001b[0m\u001b[1m secs\u001b[0m\n",
      "\u001b[32m2024-07-29 14:17:34.390\u001b[0m [ \u001b[1mℹ️\u001b[0m ] \u001b[1m\t\u001b[37mstrategy.on_event\u001b[0m\u001b[1m took \u001b[31m0.0001269\u001b[0m\u001b[1m secs\u001b[0m\n",
      "\u001b[32m2024-07-29 14:17:34.390\u001b[0m [ \u001b[1mℹ️\u001b[0m ] \u001b[1m\t\u001b[37mStrategyContext.trade\u001b[0m\u001b[1m took \u001b[31m0.0018894\u001b[0m\u001b[1m secs\u001b[0m\n",
      "\u001b[32m2024-07-29 14:17:34.391\u001b[0m [ \u001b[1mℹ️\u001b[0m ] \u001b[1m\t\u001b[37mStrategyContext._processing_order\u001b[0m\u001b[1m took \u001b[31m0.0010258\u001b[0m\u001b[1m secs\u001b[0m\n",
      "\u001b[32m2024-07-29 14:17:34.391\u001b[0m [ \u001b[1mℹ️\u001b[0m ] \u001b[1m\t\u001b[37mStrategyContext._processing_deals\u001b[0m\u001b[1m took \u001b[31m0.0012495\u001b[0m\u001b[1m secs\u001b[0m\n",
      "\u001b[32m2024-07-29 14:17:34.391\u001b[0m [ \u001b[1mℹ️\u001b[0m ] \u001b[1m\t\u001b[37mStrategyContext.cancel\u001b[0m\u001b[1m took \u001b[31m0.0012277\u001b[0m\u001b[1m secs\u001b[0m\n"
     ]
    }
   ],
   "source": [
    "ctx.stop()\n",
    "exch.close()"
   ]
  },
  {
   "cell_type": "markdown",
   "metadata": {},
   "source": [
    "# Simulated data provider"
   ]
  },
  {
   "cell_type": "code",
   "execution_count": 14,
   "metadata": {},
   "outputs": [],
   "source": [
    "from qubx.backtester.simulator import SimulatedTrading, SimulatedExchange\n",
    "from qubx.core.loggers import CsvFileLogsWriter, InMemoryLogsWriter\n",
    "from qubx.trackers.rebalancers import PortfolioRebalancerTracker\n",
    "\n",
    "QubxLogConfig.set_log_level(\"WARNING\")\n",
    "QubxLogConfig.set_log_level(\"INFO\")\n",
    "QubxLogConfig.set_log_level(\"DEBUG\")"
   ]
  },
  {
   "cell_type": "code",
   "execution_count": 15,
   "metadata": {},
   "outputs": [
    {
     "name": "stdout",
     "output_type": "stream",
     "text": [
      "['BINANCE.UM:BTCUSDT']\n",
      "['binance.umfutures.btcusdt.candles_1m', 'binance.umfutures.trxusdt.candles_1m', 'binance.umfutures.nfpusdt.candles_1m', 'binance.umfutures.hbarusdt.candles_1m', 'binance.umfutures.bigtimeusdt.candles_1m', 'binance.umfutures.eosusdt.candles_1m', 'binance.umfutures.jasmyusdt.candles_1m', 'binance.umfutures.cvcusdt.candles_1m', 'binance.umfutures.gmxusdt.candles_1m', 'binance.umfutures.minausdt.candles_1m', 'binance.umfutures.maviausdt.candles_1m', 'binance.umfutures.badgerusdt.candles_1m', 'binance.umfutures.flowusdt.candles_1m', 'binance.umfutures.imxusdt.candles_1m', 'binance.umfutures.stgusdt.candles_1m', 'binance.umfutures.loomusdt.candles_1m', 'binance.umfutures.pixelusdt.candles_1m', 'binance.umfutures.idusdt.candles_1m', 'binance.umfutures.iostusdt.candles_1m', 'binance.umfutures.solusdt.candles_1m', 'binance.umfutures.batusdt.candles_1m', 'binance.umfutures.trxusdt.agg_trade', 'binance.umfutures.arkusdt.candles_1m', 'binance.umfutures.solusdt.agg_trade', 'binance.umfutures.footballusdt.candles_1m', 'binance.umfutures.apeusdt.candles_1m', 'binance.umfutures.1000flokiusdt.agg_trade', 'binance.umfutures.linausdt.candles_1m', 'binance.umfutures.lskusdt.candles_1m', 'binance.umfutures.fxsusdt.candles_1m', 'binance.umfutures.aaveusdt.candles_1m', 'binance.umfutures.sntusdt.candles_1m', 'binance.umfutures.ctsiusdt.candles_1m', 'binance.umfutures.ustcusdt.candles_1m', 'binance.umfutures.galusdt.candles_1m', 'binance.umfutures.litusdt.candles_1m', 'binance.umfutures.keyusdt.candles_1m', 'binance.umfutures.ethusdt_240329.candles_1m', 'binance.umfutures.balusdt.candles_1m', 'binance.umfutures.myrousdt.agg_trade', 'binance.umfutures.ltcusdt.candles_1m', 'binance.umfutures.wavesusdt.candles_1m', 'binance.umfutures.zenusdt.candles_1m', 'binance.umfutures.cvxusdt.candles_1m', 'binance.umfutures.vanryusdt.candles_1m', 'binance.umfutures.spellusdt.candles_1m', 'binance.umfutures.glmusdt.candles_1m', 'binance.umfutures.grtusdt.candles_1m', 'binance.umfutures.kncusdt.candles_1m', 'binance.umfutures.btcusdt.funding_rate', 'binance.umfutures.rvnusdt.candles_1m', 'binance.umfutures.manausdt.candles_1m', 'binance.umfutures.trbusdt.candles_1m', 'binance.umfutures.eduusdt.candles_1m', 'binance.umfutures.altusdt.candles_1m', 'binance.umfutures.opusdt.candles_1m', 'binance.umfutures.cfxusdt.candles_1m', 'binance.umfutures.bluebirdusdt.candles_1m', 'binance.umfutures.enjusdt.candles_1m', 'binance.umfutures.solusdt.funding_rate', 'binance.umfutures.twtusdt.candles_1m', 'binance.umfutures.xvgusdt.candles_1m', 'binance.umfutures.bandusdt.candles_1m', 'binance.umfutures.ldousdt.candles_1m', 'binance.umfutures.xaiusdt.candles_1m', 'binance.umfutures.zilusdt.candles_1m', 'binance.umfutures.sklusdt.candles_1m', 'binance.umfutures.polyxusdt.candles_1m', 'binance.umfutures.ethusdt.candles_1m', 'binance.umfutures.sagausdt.candles_1m', 'binance.umfutures.aliceusdt.candles_1m', 'binance.umfutures.etcusdt.candles_1m', 'binance.umfutures.cocosusdt.candles_1m', 'binance.umfutures.stptusdt.candles_1m', 'binance.umfutures.1000bonkusdt.candles_1m', 'binance.umfutures.ilvusdt.candles_1m', 'binance.umfutures.runeusdt.candles_1m', 'binance.umfutures.mavusdt.candles_1m', 'binance.umfutures.zetausdt.candles_1m', 'binance.umfutures.btcstusdt.candles_1m', 'binance.umfutures.xtzusdt.candles_1m', 'binance.umfutures.agldusdt.candles_1m', 'binance.umfutures.ftmusdt.candles_1m', 'binance.umfutures.qtumusdt.candles_1m', 'binance.umfutures.sushiusdt.candles_1m', 'binance.umfutures.btcusdt_240927.candles_1m', 'binance.umfutures.xemusdt.candles_1m', 'binance.umfutures.belusdt.candles_1m', 'binance.umfutures.aptusdt.candles_1m', 'binance.umfutures.ongusdt.candles_1m', 'binance.umfutures.vetusdt.candles_1m', 'binance.umfutures.injusdt.candles_1m', 'binance.umfutures.hntusdt.candles_1m', 'binance.umfutures.aiusdt.candles_1m', 'binance.umfutures.dgbusdt.candles_1m', 'binance.umfutures.neousdt.candles_1m', 'binance.umfutures.klayusdt.candles_1m', 'binance.umfutures.cyberusdt.candles_1m', 'binance.umfutures.arpausdt.candles_1m', 'binance.umfutures.bnbusdt.candles_1m', 'binance.umfutures.tiausdt.candles_1m', 'binance.umfutures.renusdt.candles_1m', 'binance.umfutures.gmtusdt.candles_1m', 'binance.umfutures.srmusdt.candles_1m', 'binance.umfutures.gtcusdt.candles_1m', 'binance.umfutures.filusdt.candles_1m', 'binance.umfutures.unfiusdt.candles_1m', 'binance.umfutures.powrusdt.candles_1m', 'binance.umfutures.cakeusdt.candles_1m', 'binance.umfutures.maticusdt.candles_1m', 'binance.umfutures.lptusdt.candles_1m', 'binance.umfutures.nearusdt.candles_1m', 'binance.umfutures.seiusdt.candles_1m', 'binance.umfutures.astrusdt.candles_1m', 'binance.umfutures.mdtusdt.candles_1m', 'binance.umfutures.stmxusdt.candles_1m', 'binance.umfutures.nknusdt.candles_1m', 'binance.umfutures.omniusdt.candles_1m', 'binance.umfutures.uniusdt.candles_1m', 'binance.umfutures.arbusdt.candles_1m', 'binance.umfutures.mblusdt.candles_1m', 'binance.umfutures.xmrusdt.candles_1m', 'binance.umfutures.blzusdt.candles_1m', 'binance.umfutures.crvusdt.candles_1m', 'binance.umfutures.qntusdt.candles_1m', 'binance.umfutures.tnsrusdt.candles_1m', 'binance.umfutures.cotiusdt.candles_1m', 'binance.umfutures.sfpusdt.candles_1m', 'binance.umfutures.btcusdt.liquidation', 'binance.umfutures.tusdt.candles_1m', 'binance.umfutures.scusdt.candles_1m', 'binance.umfutures.ethusdt_240628.candles_1m', 'binance.umfutures.bakeusdt.candles_1m', 'binance.umfutures.mtlusdt.candles_1m', 'binance.umfutures.chrusdt.candles_1m', 'binance.umfutures.flmusdt.candles_1m', 'binance.umfutures.dashusdt.candles_1m', 'binance.umfutures.orbsusdt.candles_1m', 'binance.umfutures.truusdt.candles_1m', 'binance.umfutures.tlmusdt.candles_1m', 'binance.umfutures.dymusdt.candles_1m', 'binance.umfutures.solusdt.long_short', 'binance.umfutures.btsusdt.candles_1m', 'binance.umfutures.pythusdt.candles_1m', 'binance.umfutures.ckbusdt.candles_1m', 'binance.umfutures.darusdt.candles_1m', 'binance.umfutures.movrusdt.candles_1m', 'binance.umfutures.antusdt.candles_1m', 'binance.umfutures.axsusdt.candles_1m', 'binance.umfutures.dogeusdt.candles_1m', 'binance.umfutures.nearusdt.agg_trade', 'binance.umfutures.steemusdt.candles_1m', 'binance.umfutures.ambusdt.candles_1m', 'binance.umfutures.xrpusdt.candles_1m', 'binance.umfutures.1inchusdt.candles_1m', 'binance.umfutures.pendleusdt.candles_1m', 'binance.umfutures.peopleusdt.agg_trade', 'binance.umfutures.mkrusdt.candles_1m', 'binance.umfutures.atausdt.candles_1m', 'binance.umfutures.superusdt.candles_1m', 'binance.umfutures.icxusdt.candles_1m', 'binance.umfutures.ethfiusdt.candles_1m', 'binance.umfutures.wifusdt.agg_trade', 'binance.umfutures.solusdt.liquidation', 'binance.umfutures.solusdt.orderbook', 'binance.umfutures.rsrusdt.candles_1m', 'binance.umfutures.arbusdt.agg_trade', 'binance.umfutures.yggusdt.candles_1m', 'binance.umfutures.thetausdt.candles_1m', 'binance.umfutures.fttusdt.candles_1m', 'binance.umfutures.tokenusdt.candles_1m', 'binance.umfutures.mantausdt.candles_1m', 'binance.umfutures.adausdt.candles_1m', 'binance.umfutures.metisusdt.candles_1m', 'binance.umfutures.celrusdt.candles_1m', 'binance.umfutures.galausdt.candles_1m', 'binance.umfutures.oneusdt.candles_1m', 'binance.umfutures.solusdt.trade', 'binance.umfutures.1000ratsusdt.candles_1m', 'binance.umfutures.egldusdt.candles_1m', 'binance.umfutures.dydxusdt.candles_1m', 'binance.umfutures.ordiusdt.candles_1m', 'binance.umfutures.bomeusdt.candles_1m', 'binance.umfutures.duskusdt.candles_1m', 'binance.umfutures.phbusdt.candles_1m', 'binance.umfutures.c98usdt.candles_1m', 'binance.umfutures.omgusdt.candles_1m', 'binance.umfutures.rdntusdt.candles_1m', 'binance.umfutures.enausdt.candles_1m', 'binance.umfutures.ssvusdt.candles_1m', 'binance.umfutures.blurusdt.candles_1m', 'binance.umfutures.yfiusdt.candles_1m', 'binance.umfutures.iotxusdt.candles_1m', 'binance.umfutures.bondusdt.candles_1m', 'binance.umfutures.roseusdt.candles_1m', 'binance.umfutures.bnbusdt.agg_trade', 'binance.umfutures.straxusdt.candles_1m', 'binance.umfutures.xvsusdt.candles_1m', 'binance.umfutures.wusdt.candles_1m', 'binance.umfutures.sandusdt.candles_1m', 'binance.umfutures.perpusdt.candles_1m', 'binance.umfutures.dotusdt.candles_1m', 'binance.umfutures.btcusdt.orderbook', 'binance.umfutures.bntusdt.candles_1m', 'binance.umfutures.kasusdt.candles_1m', 'binance.umfutures.rlcusdt.candles_1m', 'binance.umfutures.slpusdt.candles_1m', 'binance.umfutures.wifusdt.candles_1m', 'binance.umfutures.avaxusdt.agg_trade', 'binance.umfutures.xlmusdt.candles_1m', 'binance.umfutures.frontusdt.candles_1m', 'binance.umfutures.roninusdt.candles_1m', 'binance.umfutures.maskusdt.candles_1m', 'binance.umfutures.nmrusdt.candles_1m', 'binance.umfutures.hftusdt.candles_1m', 'binance.umfutures.portalusdt.candles_1m', 'binance.umfutures.memeusdt.candles_1m', 'binance.umfutures.1000pepeusdt.candles_1m', 'binance.umfutures.1000shibusdt.candles_1m', 'binance.umfutures.hifiusdt.candles_1m', 'binance.umfutures.btcusdt.agg_trade', 'binance.umfutures.bnxusdt.candles_1m', 'binance.umfutures.1000flokiusdt.candles_1m', 'binance.umfutures.ctkusdt.candles_1m', 'binance.umfutures.hotusdt.candles_1m', 'binance.umfutures.btcusdt_240628.candles_1m', 'binance.umfutures.bsvusdt.candles_1m', 'binance.umfutures.icpusdt.candles_1m', 'binance.umfutures.agixusdt.candles_1m', 'binance.umfutures.alphausdt.candles_1m', 'binance.umfutures.chzusdt.candles_1m', 'binance.umfutures.bicousdt.candles_1m', 'binance.umfutures.tonusdt.candles_1m', 'binance.umfutures.joeusdt.candles_1m', 'binance.umfutures.rezusdt.candles_1m', 'binance.umfutures.1000satsusdt.candles_1m', 'binance.umfutures.ethusdt_240927.candles_1m', 'binance.umfutures.btcusdt.trade', 'binance.umfutures.suiusdt.candles_1m', 'binance.umfutures.rayusdt.candles_1m', 'binance.umfutures.rifusdt.candles_1m', 'binance.umfutures.arusdt.candles_1m', 'binance.umfutures.1000luncusdt.candles_1m', 'binance.umfutures.api3usdt.candles_1m', 'binance.umfutures.hookusdt.candles_1m', 'binance.umfutures.1000xecusdt.candles_1m', 'binance.umfutures.btcusdt.open_interest', 'binance.umfutures.bchusdt.candles_1m', 'binance.umfutures.magicusdt.candles_1m', 'binance.umfutures.lqtyusdt.candles_1m', 'binance.umfutures.radusdt.candles_1m', 'binance.umfutures.btcusdt_240329.candles_1m', 'binance.umfutures.wldusdt.candles_1m', 'binance.umfutures.gasusdt.candles_1m', 'binance.umfutures.usdcusdt.candles_1m', 'binance.umfutures.ntrnusdt.candles_1m', 'binance.umfutures.zecusdt.candles_1m', 'binance.umfutures.ognusdt.candles_1m', 'binance.umfutures.glmrusdt.candles_1m', 'binance.umfutures.tomousdt.candles_1m', 'binance.umfutures.iotausdt.candles_1m', 'binance.umfutures.ontusdt.candles_1m', 'binance.umfutures.atomusdt.candles_1m', 'binance.umfutures.ethwusdt.candles_1m', 'binance.umfutures.peopleusdt.candles_1m', 'binance.umfutures.celousdt.candles_1m', 'binance.umfutures.stxusdt.candles_1m', 'binance.umfutures.leverusdt.candles_1m', 'binance.umfutures.storjusdt.candles_1m', 'binance.umfutures.aevousdt.candles_1m', 'binance.umfutures.ondousdt.candles_1m', 'binance.umfutures.dodoxusdt.candles_1m', 'binance.umfutures.kavausdt.candles_1m', 'binance.umfutures.ankrusdt.candles_1m', 'binance.umfutures.linkusdt.candles_1m', 'binance.umfutures.beamxusdt.candles_1m', 'binance.umfutures.arkmusdt.candles_1m', 'binance.umfutures.compusdt.candles_1m', 'binance.umfutures.defiusdt.candles_1m', 'binance.umfutures.btcdomusdt.candles_1m', 'binance.umfutures.filusdt.agg_trade', 'binance.umfutures.galusdt.agg_trade', 'binance.umfutures.algousdt.candles_1m', 'binance.umfutures.lrcusdt.candles_1m', 'binance.umfutures.axlusdt.candles_1m', 'binance.umfutures.oceanusdt.candles_1m', 'binance.umfutures.aceusdt.candles_1m', 'binance.umfutures.ensusdt.candles_1m', 'binance.umfutures.auctionusdt.candles_1m', 'binance.umfutures.highusdt.candles_1m', 'binance.umfutures.oxtusdt.candles_1m', 'binance.umfutures.taousdt.candles_1m', 'binance.umfutures.ksmusdt.candles_1m', 'binance.umfutures.strkusdt.candles_1m', 'binance.umfutures.jtousdt.candles_1m', 'binance.umfutures.myrousdt.candles_1m', 'binance.umfutures.audiousdt.candles_1m', 'binance.umfutures.umausdt.candles_1m', 'binance.umfutures.luna2usdt.candles_1m', 'binance.umfutures.snxusdt.candles_1m', 'binance.umfutures.omusdt.candles_1m', 'binance.umfutures.woousdt.candles_1m', 'binance.umfutures.idexusdt.candles_1m', 'binance.umfutures.jupusdt.candles_1m', 'binance.umfutures.achusdt.candles_1m', 'binance.umfutures.sxpusdt.candles_1m', 'binance.umfutures.reefusdt.candles_1m', 'binance.umfutures.fetusdt.candles_1m', 'binance.umfutures.dentusdt.candles_1m', 'binance.umfutures.avaxusdt.candles_1m', 'binance.umfutures.combousdt.candles_1m', 'binance.umfutures.waxpusdt.candles_1m', 'binance.umfutures.rndrusdt.candles_1m', 'binance.umfutures.solusdt.open_interest', 'binance.umfutures.zrxusdt.candles_1m', 'binance.umfutures.btcusdt.long_short']\n"
     ]
    }
   ],
   "source": [
    "from qubx.data.readers import DataReader, InMemoryDataFrameReader\n",
    "from qubx.utils.time import infer_series_frequency, handle_start_stop\n",
    "\n",
    "c1 = {'BINANCE.UM:BTCUSDT': r.read('BINANCE.UM:BTCUSDT', '2024-01-01', '2024-01-02', AsPandasFrame())}\n",
    "r1 = InMemoryDataFrameReader(c1)\n",
    "print(r1.get_names())\n",
    "print(r.get_names('candles'))\n",
    "\n",
    "# d1 = r1.read('BTCUSDT', '2024-01-01', '2024-01-01 01:00', RestoreTicksFromOHLC())"
   ]
  },
  {
   "cell_type": "code",
   "execution_count": 16,
   "metadata": {},
   "outputs": [
    {
     "name": "stdout",
     "output_type": "stream",
     "text": [
      "\u001b[32m2024-07-29 14:17:50.699\u001b[0m [ \u001b[1mℹ️\u001b[0m ] \u001b[1m\u001b[33mTestStrategy\u001b[0m\u001b[1m new parameters:\n",
      "\tset \u001b[32mtimeframe\u001b[0m\u001b[1m <- \u001b[31m1h\u001b[0m\u001b[1m\n",
      "\tset \u001b[32mfast_period\u001b[0m\u001b[1m <- \u001b[31m12\u001b[0m\u001b[1m\n",
      "\tset \u001b[32mslow_period\u001b[0m\u001b[1m <- \u001b[31m24\u001b[0m\u001b[1m\u001b[0m\n"
     ]
    },
    {
     "data": {
      "application/vnd.jupyter.widget-view+json": {
       "model_id": "962fbd328b00482e98567677f978e587",
       "version_major": 2,
       "version_minor": 0
      },
      "text/plain": [
       "  0%|          | 0/3 [00:00<?, ?it/s]"
      ]
     },
     "metadata": {},
     "output_type": "display_data"
    },
    {
     "name": "stdout",
     "output_type": "stream",
     "text": [
      "\u001b[32m2024-07-29 14:17:50.699\u001b[0m [ \u001b[1mℹ️\u001b[0m ] \u001b[1mSimulatedData.binance.um initialized\u001b[0m\n",
      "\u001b[32m2024-07-29 14:17:50.715\u001b[0m [ \u001b[1mℹ️\u001b[0m ] \u001b[1m(StrategyContext) Subscribing to ohlc updates using {'timeframe': '5Min', 'nback': 10} for \n",
      "\t['BTCUSDT'] \u001b[0m\n"
     ]
    },
    {
     "data": {
      "application/vnd.jupyter.widget-view+json": {
       "model_id": "8b8e4d5e01a84f5c880c82f25316bfb9",
       "version_major": 2,
       "version_minor": 0
      },
      "text/plain": [
       "  0%|          | 0/4220 [00:00<?, ?it/s]"
      ]
     },
     "metadata": {},
     "output_type": "display_data"
    },
    {
     "name": "stdout",
     "output_type": "stream",
     "text": [
      "\u001b[32m2024-07-29 14:17:50.915\u001b[0m [ \u001b[1mℹ️\u001b[0m ] \u001b[1m(StrategyContext) sending market buy for 1.0 of BTCUSDT ...\u001b[0m\n",
      "\u001b[32m2024-07-29 14:17:50.915\u001b[0m [ \u001b[1mℹ️\u001b[0m ] \u001b[1m  ::  traded 1.0 for BTCUSDT @ 42688.850000000006 -> 0.00\u001b[0m\n",
      "\u001b[32m2024-07-29 14:17:50.915\u001b[0m [ \u001b[1mℹ️\u001b[0m ] \u001b[1mOrder SIM-ORDER-BTCUSDT-100001 MARKET BUY 1.0 of BTCUSDT -> CLOSED\u001b[0m\n",
      "\u001b[32m2024-07-29 14:17:50.983\u001b[0m [ \u001b[1mℹ️\u001b[0m ] \u001b[1m(StrategyContext) sending market sell for 1.0 of BTCUSDT ...\u001b[0m\n",
      "\u001b[32m2024-07-29 14:17:50.983\u001b[0m [ \u001b[1mℹ️\u001b[0m ] \u001b[1m  ::  traded -1.0 for BTCUSDT @ 45486.75 -> 2797.95\u001b[0m\n",
      "\u001b[32m2024-07-29 14:17:50.983\u001b[0m [ \u001b[1mℹ️\u001b[0m ] \u001b[1mOrder SIM-ORDER-BTCUSDT-100002 MARKET SELL 1.0 of BTCUSDT -> CLOSED\u001b[0m\n",
      "\u001b[32m2024-07-29 14:17:51.032\u001b[0m [ \u001b[1mℹ️\u001b[0m ] \u001b[1m(StrategyContext) sending market sell for 1.0 of BTCUSDT ...\u001b[0m\n",
      "\u001b[32m2024-07-29 14:17:51.033\u001b[0m [ \u001b[1mℹ️\u001b[0m ] \u001b[1m  ::  traded -1.0 for BTCUSDT @ 43728.85 -> 0.00\u001b[0m\n",
      "\u001b[32m2024-07-29 14:17:51.033\u001b[0m [ \u001b[1mℹ️\u001b[0m ] \u001b[1mOrder SIM-ORDER-BTCUSDT-100003 MARKET SELL 1.0 of BTCUSDT -> CLOSED\u001b[0m\n",
      "\u001b[32m2024-07-29 14:17:51.067\u001b[0m [ \u001b[1mℹ️\u001b[0m ] \u001b[1m(StrategyContext) sending market buy for 1.0 of BTCUSDT ...\u001b[0m\n",
      "\u001b[32m2024-07-29 14:17:51.067\u001b[0m [ \u001b[1mℹ️\u001b[0m ] \u001b[1m  ::  traded 1.0 for BTCUSDT @ 43674.05 -> 54.75\u001b[0m\n",
      "\u001b[32m2024-07-29 14:17:51.067\u001b[0m [ \u001b[1mℹ️\u001b[0m ] \u001b[1mOrder SIM-ORDER-BTCUSDT-100004 MARKET BUY 1.0 of BTCUSDT -> CLOSED\u001b[0m\n",
      "\u001b[32m2024-07-29 14:17:51.084\u001b[0m [ \u001b[1mℹ️\u001b[0m ] \u001b[1mSimulatedData.binance.um initialized\u001b[0m\n",
      "\u001b[32m2024-07-29 14:17:51.084\u001b[0m [ \u001b[1mℹ️\u001b[0m ] \u001b[1m(StrategyContext) Subscribing to ohlc updates using {'timeframe': '5Min', 'nback': 10} for \n",
      "\t['BTCUSDT'] \u001b[0m\n"
     ]
    },
    {
     "data": {
      "application/vnd.jupyter.widget-view+json": {
       "model_id": "d7701e4f30504ce98bc65533f3b667eb",
       "version_major": 2,
       "version_minor": 0
      },
      "text/plain": [
       "  0%|          | 0/3068 [00:00<?, ?it/s]"
      ]
     },
     "metadata": {},
     "output_type": "display_data"
    },
    {
     "name": "stdout",
     "output_type": "stream",
     "text": [
      "\u001b[32m2024-07-29 14:17:51.266\u001b[0m [ \u001b[1mℹ️\u001b[0m ] \u001b[1m(StrategyContext) sending market buy for 1.0 of BTCUSDT ...\u001b[0m\n",
      "\u001b[32m2024-07-29 14:17:51.267\u001b[0m [ \u001b[1mℹ️\u001b[0m ] \u001b[1m  ::  traded 1.0 for BTCUSDT @ 45378.65 -> 0.00\u001b[0m\n",
      "\u001b[32m2024-07-29 14:17:51.267\u001b[0m [ \u001b[1mℹ️\u001b[0m ] \u001b[1mOrder SIM-ORDER-BTCUSDT-100001 MARKET BUY 1.0 of BTCUSDT -> CLOSED\u001b[0m\n",
      "\u001b[32m2024-07-29 14:17:51.278\u001b[0m [ \u001b[1mℹ️\u001b[0m ] \u001b[1m(StrategyContext) sending market sell for 1.0 of BTCUSDT ...\u001b[0m\n",
      "\u001b[32m2024-07-29 14:17:51.279\u001b[0m [ \u001b[1mℹ️\u001b[0m ] \u001b[1m  ::  traded -1.0 for BTCUSDT @ 42204.049999999996 -> -3174.55\u001b[0m\n",
      "\u001b[32m2024-07-29 14:17:51.280\u001b[0m [ \u001b[1mℹ️\u001b[0m ] \u001b[1mOrder SIM-ORDER-BTCUSDT-100002 MARKET SELL 1.0 of BTCUSDT -> CLOSED\u001b[0m\n",
      "\u001b[32m2024-07-29 14:17:51.288\u001b[0m [ \u001b[1mℹ️\u001b[0m ] \u001b[1mSimulatedData.binance.um initialized\u001b[0m\n",
      "\u001b[32m2024-07-29 14:17:51.290\u001b[0m [ \u001b[1mℹ️\u001b[0m ] \u001b[1m(StrategyContext) Subscribing to ohlc updates using {'timeframe': '5Min', 'nback': 10} for \n",
      "\t['BTCUSDT'] \u001b[0m\n",
      "\u001b[32m2024-07-29 14:17:51.290\u001b[0m [ \u001b[1mℹ️\u001b[0m ] \u001b[1m -> Strategy started | 2024-01-01T00:00:00.000000000\u001b[0m\n"
     ]
    },
    {
     "data": {
      "application/vnd.jupyter.widget-view+json": {
       "model_id": "f479fc0f303141fd958340e76f0b4182",
       "version_major": 2,
       "version_minor": 0
      },
      "text/plain": [
       "  0%|          | 0/10412 [00:00<?, ?it/s]"
      ]
     },
     "metadata": {},
     "output_type": "display_data"
    },
    {
     "name": "stdout",
     "output_type": "stream",
     "text": [
      "\u001b[32m2024-07-29 14:17:51.427\u001b[0m [ \u001b[1mℹ️\u001b[0m ] \u001b[1m -> Fit is called | fit_time: 2024-01-01 00:00:00 / prev: None\u001b[0m\n",
      "\u001b[32m2024-07-29 14:17:51.508\u001b[0m [ \u001b[1mℹ️\u001b[0m ] \u001b[1mBTCUSDT[1H] | 25 records\n",
      "  2023-12-31T23:00:00.000000000 {o:42294.800000 | h:42380.100000 | l:42211.000000 | c:42286.800000 | v:3461.175000}\n",
      "  2023-12-31T22:00:00.000000000 {o:42559.000000 | h:42629.500000 | l:42111.900000 | c:42294.800000 | v:11952.346000}\n",
      "  2023-12-31T21:00:00.000000000 {o:42599.200000 | h:42717.000000 | l:42558.200000 | c:42558.900000 | v:3794.010000}\n",
      "   .......... \n",
      "  2023-12-31T01:00:00.000000000 {o:42395.100000 | h:42472.400000 | l:42187.900000 | c:42212.000000 | v:5407.971000}\n",
      "  2023-12-31T00:00:00.000000000 {o:42174.300000 | h:42478.900000 | l:42169.000000 | c:42395.100000 | v:6728.723000}\n",
      "  2023-12-30T23:00:00.000000000 {o:42240.000000 | h:42335.200000 | l:42160.700000 | c:42174.200000 | v:3069.055000}\n",
      "\u001b[0m\n",
      "\u001b[32m2024-07-29 14:17:51.528\u001b[0m [ \u001b[1mℹ️\u001b[0m ] \u001b[1m(StrategyContext) sending market sell for 0.01 of BTCUSDT ...\u001b[0m\n",
      "\u001b[32m2024-07-29 14:17:51.528\u001b[0m [ \u001b[1mℹ️\u001b[0m ] \u001b[1m  ::  traded -0.01 for BTCUSDT @ 42272.549999999996 -> 0.00\u001b[0m\n",
      "\u001b[32m2024-07-29 14:17:51.529\u001b[0m [ \u001b[1mℹ️\u001b[0m ] \u001b[1mOrder SIM-ORDER-BTCUSDT-100001 MARKET SELL 0.01 of BTCUSDT -> CLOSED\u001b[0m\n",
      "\u001b[32m2024-07-29 14:17:51.534\u001b[0m [ \u001b[1mℹ️\u001b[0m ] \u001b[1m(StrategyContext) sending market buy for 0.02 of BTCUSDT ...\u001b[0m\n",
      "\u001b[32m2024-07-29 14:17:51.534\u001b[0m [ \u001b[1mℹ️\u001b[0m ] \u001b[1m  ::  traded 0.02 for BTCUSDT @ 42727.65 -> -4.55\u001b[0m\n",
      "\u001b[32m2024-07-29 14:17:51.534\u001b[0m [ \u001b[1mℹ️\u001b[0m ] \u001b[1mOrder SIM-ORDER-BTCUSDT-100002 MARKET BUY 0.02 of BTCUSDT -> CLOSED\u001b[0m\n",
      "\u001b[32m2024-07-29 14:17:51.665\u001b[0m [ \u001b[1mℹ️\u001b[0m ] \u001b[1m(StrategyContext) sending market sell for 0.02 of BTCUSDT ...\u001b[0m\n",
      "\u001b[32m2024-07-29 14:17:51.665\u001b[0m [ \u001b[1mℹ️\u001b[0m ] \u001b[1m  ::  traded -0.02 for BTCUSDT @ 45006.649999999994 -> 22.79\u001b[0m\n",
      "\u001b[32m2024-07-29 14:17:51.665\u001b[0m [ \u001b[1mℹ️\u001b[0m ] \u001b[1mOrder SIM-ORDER-BTCUSDT-100003 MARKET SELL 0.02 of BTCUSDT -> CLOSED\u001b[0m\n",
      "\u001b[32m2024-07-29 14:17:51.702\u001b[0m [ \u001b[1mℹ️\u001b[0m ] \u001b[1m(StrategyContext) sending market buy for 0.02 of BTCUSDT ...\u001b[0m\n",
      "\u001b[32m2024-07-29 14:17:51.702\u001b[0m [ \u001b[1mℹ️\u001b[0m ] \u001b[1m  ::  traded 0.02 for BTCUSDT @ 45175.75 -> -1.69\u001b[0m\n",
      "\u001b[32m2024-07-29 14:17:51.702\u001b[0m [ \u001b[1mℹ️\u001b[0m ] \u001b[1mOrder SIM-ORDER-BTCUSDT-100004 MARKET BUY 0.02 of BTCUSDT -> CLOSED\u001b[0m\n",
      "\u001b[32m2024-07-29 14:17:51.702\u001b[0m [ \u001b[1mℹ️\u001b[0m ] \u001b[1m(StrategyContext) sending market sell for 0.02 of BTCUSDT ...\u001b[0m\n",
      "\u001b[32m2024-07-29 14:17:51.714\u001b[0m [ \u001b[1mℹ️\u001b[0m ] \u001b[1m  ::  traded -0.02 for BTCUSDT @ 43728.85 -> -14.47\u001b[0m\n",
      "\u001b[32m2024-07-29 14:17:51.714\u001b[0m [ \u001b[1mℹ️\u001b[0m ] \u001b[1mOrder SIM-ORDER-BTCUSDT-100005 MARKET SELL 0.02 of BTCUSDT -> CLOSED\u001b[0m\n",
      "\u001b[32m2024-07-29 14:17:51.769\u001b[0m [ \u001b[1mℹ️\u001b[0m ] \u001b[1m(StrategyContext) sending market buy for 0.02 of BTCUSDT ...\u001b[0m\n",
      "\u001b[32m2024-07-29 14:17:51.769\u001b[0m [ \u001b[1mℹ️\u001b[0m ] \u001b[1m  ::  traded 0.02 for BTCUSDT @ 43089.55 -> 6.39\u001b[0m\n",
      "\u001b[32m2024-07-29 14:17:51.769\u001b[0m [ \u001b[1mℹ️\u001b[0m ] \u001b[1mOrder SIM-ORDER-BTCUSDT-100006 MARKET BUY 0.02 of BTCUSDT -> CLOSED\u001b[0m\n",
      "\u001b[32m2024-07-29 14:17:51.835\u001b[0m [ \u001b[1mℹ️\u001b[0m ] \u001b[1m(StrategyContext) sending market sell for 0.02 of BTCUSDT ...\u001b[0m\n",
      "\u001b[32m2024-07-29 14:17:51.836\u001b[0m [ \u001b[1mℹ️\u001b[0m ] \u001b[1m  ::  traded -0.02 for BTCUSDT @ 43628.149999999994 -> 5.39\u001b[0m\n",
      "\u001b[32m2024-07-29 14:17:51.837\u001b[0m [ \u001b[1mℹ️\u001b[0m ] \u001b[1mOrder SIM-ORDER-BTCUSDT-100007 MARKET SELL 0.02 of BTCUSDT -> CLOSED\u001b[0m\n",
      "\u001b[32m2024-07-29 14:17:51.871\u001b[0m [ \u001b[1mℹ️\u001b[0m ] \u001b[1m(StrategyContext) sending market buy for 0.02 of BTCUSDT ...\u001b[0m\n",
      "\u001b[32m2024-07-29 14:17:51.872\u001b[0m [ \u001b[1mℹ️\u001b[0m ] \u001b[1m  ::  traded 0.02 for BTCUSDT @ 44145.450000000004 -> -5.17\u001b[0m\n",
      "\u001b[32m2024-07-29 14:17:51.872\u001b[0m [ \u001b[1mℹ️\u001b[0m ] \u001b[1mOrder SIM-ORDER-BTCUSDT-100008 MARKET BUY 0.02 of BTCUSDT -> CLOSED\u001b[0m\n",
      "\u001b[32m2024-07-29 14:17:51.877\u001b[0m [ \u001b[1mℹ️\u001b[0m ] \u001b[1m(StrategyContext) sending market sell for 0.02 of BTCUSDT ...\u001b[0m\n",
      "\u001b[32m2024-07-29 14:17:51.878\u001b[0m [ \u001b[1mℹ️\u001b[0m ] \u001b[1m  ::  traded -0.02 for BTCUSDT @ 43961.45 -> -1.84\u001b[0m\n",
      "\u001b[32m2024-07-29 14:17:51.879\u001b[0m [ \u001b[1mℹ️\u001b[0m ] \u001b[1mOrder SIM-ORDER-BTCUSDT-100009 MARKET SELL 0.02 of BTCUSDT -> CLOSED\u001b[0m\n",
      "\u001b[32m2024-07-29 14:17:51.882\u001b[0m [ \u001b[1mℹ️\u001b[0m ] \u001b[1m(StrategyContext) sending market buy for 0.02 of BTCUSDT ...\u001b[0m\n",
      "\u001b[32m2024-07-29 14:17:51.882\u001b[0m [ \u001b[1mℹ️\u001b[0m ] \u001b[1m  ::  traded 0.02 for BTCUSDT @ 43900.15 -> 0.61\u001b[0m\n",
      "\u001b[32m2024-07-29 14:17:51.883\u001b[0m [ \u001b[1mℹ️\u001b[0m ] \u001b[1mOrder SIM-ORDER-BTCUSDT-100010 MARKET BUY 0.02 of BTCUSDT -> CLOSED\u001b[0m\n",
      "\u001b[32m2024-07-29 14:17:51.904\u001b[0m [ \u001b[1mℹ️\u001b[0m ] \u001b[1m(StrategyContext) sending market sell for 0.02 of BTCUSDT ...\u001b[0m\n",
      "\u001b[32m2024-07-29 14:17:51.905\u001b[0m [ \u001b[1mℹ️\u001b[0m ] \u001b[1m  ::  traded -0.02 for BTCUSDT @ 43607.35 -> -2.93\u001b[0m\n",
      "\u001b[32m2024-07-29 14:17:51.906\u001b[0m [ \u001b[1mℹ️\u001b[0m ] \u001b[1mOrder SIM-ORDER-BTCUSDT-100011 MARKET SELL 0.02 of BTCUSDT -> CLOSED\u001b[0m\n",
      "\u001b[32m2024-07-29 14:17:51.928\u001b[0m [ \u001b[1mℹ️\u001b[0m ] \u001b[1m(StrategyContext) sending market buy for 0.02 of BTCUSDT ...\u001b[0m\n",
      "\u001b[32m2024-07-29 14:17:51.929\u001b[0m [ \u001b[1mℹ️\u001b[0m ] \u001b[1m  ::  traded 0.02 for BTCUSDT @ 43865.850000000006 -> -2.59\u001b[0m\n",
      "\u001b[32m2024-07-29 14:17:51.930\u001b[0m [ \u001b[1mℹ️\u001b[0m ] \u001b[1mOrder SIM-ORDER-BTCUSDT-100012 MARKET BUY 0.02 of BTCUSDT -> CLOSED\u001b[0m\n",
      "\u001b[32m2024-07-29 14:17:51.983\u001b[0m [ \u001b[1mℹ️\u001b[0m ] \u001b[1m(StrategyContext) sending market sell for 0.02 of BTCUSDT ...\u001b[0m\n",
      "\u001b[32m2024-07-29 14:17:51.983\u001b[0m [ \u001b[1mℹ️\u001b[0m ] \u001b[1m  ::  traded -0.02 for BTCUSDT @ 43699.25 -> -1.67\u001b[0m\n",
      "\u001b[32m2024-07-29 14:17:51.983\u001b[0m [ \u001b[1mℹ️\u001b[0m ] \u001b[1mOrder SIM-ORDER-BTCUSDT-100013 MARKET SELL 0.02 of BTCUSDT -> CLOSED\u001b[0m\n",
      "\u001b[32m2024-07-29 14:17:52.017\u001b[0m [ \u001b[1mℹ️\u001b[0m ] \u001b[1m(StrategyContext) sending market buy for 0.02 of BTCUSDT ...\u001b[0m\n",
      "\u001b[32m2024-07-29 14:17:52.017\u001b[0m [ \u001b[1mℹ️\u001b[0m ] \u001b[1m  ::  traded 0.02 for BTCUSDT @ 44915.950000000004 -> -12.17\u001b[0m\n",
      "\u001b[32m2024-07-29 14:17:52.018\u001b[0m [ \u001b[1mℹ️\u001b[0m ] \u001b[1mOrder SIM-ORDER-BTCUSDT-100014 MARKET BUY 0.02 of BTCUSDT -> CLOSED\u001b[0m\n",
      "\u001b[32m2024-07-29 14:17:52.075\u001b[0m [ \u001b[1mℹ️\u001b[0m ] \u001b[1m(StrategyContext) sending market sell for 0.02 of BTCUSDT ...\u001b[0m\n",
      "\u001b[32m2024-07-29 14:17:52.076\u001b[0m [ \u001b[1mℹ️\u001b[0m ] \u001b[1m  ::  traded -0.02 for BTCUSDT @ 46901.149999999994 -> 19.85\u001b[0m\n",
      "\u001b[32m2024-07-29 14:17:52.076\u001b[0m [ \u001b[1mℹ️\u001b[0m ] \u001b[1mOrder SIM-ORDER-BTCUSDT-100015 MARKET SELL 0.02 of BTCUSDT -> CLOSED\u001b[0m\n"
     ]
    }
   ],
   "source": [
    "from qubx.backtester.simulator import simulate\n",
    "QubxLogConfig.set_log_level(\"INFO\")\n",
    "\n",
    "\n",
    "rep = simulate(\n",
    "    {\n",
    "        # - generated signals as series\n",
    "        \"test0\": [pd.Series(\n",
    "            {\n",
    "                \"2024-01-01 10:00\": 1,\n",
    "                \"2024-01-02 12:00\": 0,\n",
    "                \"2024-01-03 12:00\": -1,\n",
    "                \"2024-01-04 15:00\": 0,\n",
    "            }, name='BTCUSDT'), PortfolioRebalancerTracker(1000, 0)],\n",
    "\n",
    "        # - generated signals as dataframe\n",
    "        \"test1\": pd.DataFrame(\n",
    "            {\n",
    "                'BTCUSDT': {\"2024-01-03 10:00\": 1, \"2024-01-03 15:00\": 0}\n",
    "            }\n",
    "        ),\n",
    "\n",
    "        # - just test strategy\n",
    "        \"test2\": TestStrategy(timeframe=\"1h\", fast_period=12, slow_period=24),\n",
    "    },\n",
    "\n",
    "    r, 10000, [\"BINANCE.UM:BTCUSDT\"], \n",
    "    dict(type=\"ohlc\", timeframe=\"5Min\", nback=10),\n",
    "    \"1h -2Sec\",\n",
    "    \"vip0_usdt\", \n",
    "    \"2024-01-01\", \"2024-01-10\", \n",
    ")"
   ]
  },
  {
   "cell_type": "code",
   "execution_count": 17,
   "metadata": {},
   "outputs": [
    {
     "data": {
      "text/html": [
       "<div>\n",
       "<style scoped>\n",
       "    .dataframe tbody tr th:only-of-type {\n",
       "        vertical-align: middle;\n",
       "    }\n",
       "\n",
       "    .dataframe tbody tr th {\n",
       "        vertical-align: top;\n",
       "    }\n",
       "\n",
       "    .dataframe thead th {\n",
       "        text-align: right;\n",
       "    }\n",
       "</style>\n",
       "<table border=\"1\" class=\"dataframe\">\n",
       "  <thead>\n",
       "    <tr style=\"text-align: right;\">\n",
       "      <th></th>\n",
       "      <th>Gain</th>\n",
       "      <th>Cagr</th>\n",
       "      <th>Sharpe</th>\n",
       "      <th>Qr</th>\n",
       "      <th>Max dd pct</th>\n",
       "      <th>Mdd usd</th>\n",
       "      <th>Sortino</th>\n",
       "      <th>Calmar</th>\n",
       "      <th>Tail ratio</th>\n",
       "      <th>Stability</th>\n",
       "      <th>Var</th>\n",
       "      <th>Avg return</th>\n",
       "      <th>Fees</th>\n",
       "      <th>Execs</th>\n",
       "    </tr>\n",
       "  </thead>\n",
       "  <tbody>\n",
       "    <tr>\n",
       "      <th>/test0</th>\n",
       "      <td>2786.797775</td>\n",
       "      <td>6.217434e+07</td>\n",
       "      <td>12.008822</td>\n",
       "      <td>2.464144</td>\n",
       "      <td>20.101978</td>\n",
       "      <td>3217.100000</td>\n",
       "      <td>44.226511</td>\n",
       "      <td>1.006143e+09</td>\n",
       "      <td>2.842543</td>\n",
       "      <td>0.745360</td>\n",
       "      <td>712.590448</td>\n",
       "      <td>5.315650</td>\n",
       "      <td>65.952225</td>\n",
       "      <td>4.0</td>\n",
       "    </tr>\n",
       "    <tr>\n",
       "      <th>/test1</th>\n",
       "      <td>-3197.189325</td>\n",
       "      <td>-1.000000e+00</td>\n",
       "      <td>-9.552487</td>\n",
       "      <td>-0.117170</td>\n",
       "      <td>49.501515</td>\n",
       "      <td>4955.800000</td>\n",
       "      <td>-11.496419</td>\n",
       "      <td>-3.127747e+00</td>\n",
       "      <td>0.000000</td>\n",
       "      <td>0.600000</td>\n",
       "      <td>3076.471491</td>\n",
       "      <td>-7.992973</td>\n",
       "      <td>22.689325</td>\n",
       "      <td>2.0</td>\n",
       "    </tr>\n",
       "    <tr>\n",
       "      <th>/test2</th>\n",
       "      <td>9.441105</td>\n",
       "      <td>3.180792e-02</td>\n",
       "      <td>2.206922</td>\n",
       "      <td>-0.231761</td>\n",
       "      <td>0.527017</td>\n",
       "      <td>52.874632</td>\n",
       "      <td>4.068147</td>\n",
       "      <td>1.536129e+01</td>\n",
       "      <td>0.896735</td>\n",
       "      <td>0.030436</td>\n",
       "      <td>10.821344</td>\n",
       "      <td>0.008604</td>\n",
       "      <td>6.394895</td>\n",
       "      <td>15.0</td>\n",
       "    </tr>\n",
       "  </tbody>\n",
       "</table>\n",
       "</div>"
      ],
      "text/plain": [
       "               Gain          Cagr     Sharpe        Qr  Max dd pct  \\\n",
       "/test0  2786.797775  6.217434e+07  12.008822  2.464144   20.101978   \n",
       "/test1 -3197.189325 -1.000000e+00  -9.552487 -0.117170   49.501515   \n",
       "/test2     9.441105  3.180792e-02   2.206922 -0.231761    0.527017   \n",
       "\n",
       "            Mdd usd    Sortino        Calmar  Tail ratio  Stability  \\\n",
       "/test0  3217.100000  44.226511  1.006143e+09    2.842543   0.745360   \n",
       "/test1  4955.800000 -11.496419 -3.127747e+00    0.000000   0.600000   \n",
       "/test2    52.874632   4.068147  1.536129e+01    0.896735   0.030436   \n",
       "\n",
       "                Var  Avg return       Fees  Execs  \n",
       "/test0   712.590448    5.315650  65.952225    4.0  \n",
       "/test1  3076.471491   -7.992973  22.689325    2.0  \n",
       "/test2    10.821344    0.008604   6.394895   15.0  "
      ]
     },
     "execution_count": 17,
     "metadata": {},
     "output_type": "execute_result"
    },
    {
     "data": {
      "image/png": "[encoded data removed]",
      "text/plain": [
       "<Figure size 960x400 with 1 Axes>"
      ]
     },
     "metadata": {},
     "output_type": "display_data"
    }
   ],
   "source": [
    "tearsheet(rep)"
   ]
  },
  {
   "cell_type": "code",
   "execution_count": 18,
   "metadata": {},
   "outputs": [
    {
     "data": {
      "application/vnd.jupyter.widget-view+json": {
       "model_id": "e7cb3456460b49c3a424f4284541ec96",
       "version_major": 2,
       "version_minor": 0
      },
      "text/plain": [
       "  0%|          | 0/3 [00:00<?, ?it/s]"
      ]
     },
     "metadata": {},
     "output_type": "display_data"
    },
    {
     "data": {
      "application/vnd.jupyter.widget-view+json": {
       "model_id": "b93ff71855b54bf9ad7275f955f26eef",
       "version_major": 2,
       "version_minor": 0
      },
      "text/plain": [
       "  0%|          | 0/102572 [00:00<?, ?it/s]"
      ]
     },
     "metadata": {},
     "output_type": "display_data"
    },
    {
     "data": {
      "application/vnd.jupyter.widget-view+json": {
       "model_id": "9f9765b818ec4884875ea0e90f532d46",
       "version_major": 2,
       "version_minor": 0
      },
      "text/plain": [
       "  0%|          | 0/102572 [00:00<?, ?it/s]"
      ]
     },
     "metadata": {},
     "output_type": "display_data"
    },
    {
     "data": {
      "application/vnd.jupyter.widget-view+json": {
       "model_id": "b12aae77ccc14407b2a30319b81f581c",
       "version_major": 2,
       "version_minor": 0
      },
      "text/plain": [
       "  0%|          | 0/140 [00:00<?, ?it/s]"
      ]
     },
     "metadata": {},
     "output_type": "display_data"
    }
   ],
   "source": [
    "sigs = pd.DataFrame.from_dict({'BTCUSDT': {\n",
    "    '2024-01-01 01:00': +0.1, \n",
    "    '2024-01-01 02:00': 0,\n",
    "}})\n",
    "sigs.index = pd.to_datetime(sigs.index)\n",
    "QubxLogConfig.set_log_level(\"ERROR\")\n",
    "\n",
    "rep = simulate(\n",
    "    {\n",
    "        'test1': [TestStrategy(timeframe='15Min', fast_period=6, slow_period=50)],\n",
    "        'test2': [TestStrategy(timeframe='15Min', fast_period=12, slow_period=24)],\n",
    "        'test3': sigs,\n",
    "    }, \n",
    "    r, 10000, [\"BINANCE.UM:BTCUSDT\"], \n",
    "    dict(type=\"ohlc\", timeframe=\"5Min\", nback=10),\n",
    "    \"5Min -1Sec\",\n",
    "    \"vip0_usdt\", \n",
    "    \"2024-01-01\", \"2024-03-30\", \n",
    ")"
   ]
  },
  {
   "cell_type": "code",
   "execution_count": 19,
   "metadata": {},
   "outputs": [
    {
     "data": {
      "text/html": [
       "<div>\n",
       "<style scoped>\n",
       "    .dataframe tbody tr th:only-of-type {\n",
       "        vertical-align: middle;\n",
       "    }\n",
       "\n",
       "    .dataframe tbody tr th {\n",
       "        vertical-align: top;\n",
       "    }\n",
       "\n",
       "    .dataframe thead th {\n",
       "        text-align: right;\n",
       "    }\n",
       "</style>\n",
       "<table border=\"1\" class=\"dataframe\">\n",
       "  <thead>\n",
       "    <tr style=\"text-align: right;\">\n",
       "      <th></th>\n",
       "      <th>Gain</th>\n",
       "      <th>Cagr</th>\n",
       "      <th>Sharpe</th>\n",
       "      <th>Qr</th>\n",
       "      <th>Max dd pct</th>\n",
       "      <th>Mdd usd</th>\n",
       "      <th>Sortino</th>\n",
       "      <th>Calmar</th>\n",
       "      <th>Tail ratio</th>\n",
       "      <th>Stability</th>\n",
       "      <th>Var</th>\n",
       "      <th>Avg return</th>\n",
       "      <th>Fees</th>\n",
       "      <th>Execs</th>\n",
       "    </tr>\n",
       "  </thead>\n",
       "  <tbody>\n",
       "    <tr>\n",
       "      <th>/test1</th>\n",
       "      <td>-91.655991</td>\n",
       "      <td>-0.036259</td>\n",
       "      <td>-1.122295</td>\n",
       "      <td>-0.376840</td>\n",
       "      <td>2.127339</td>\n",
       "      <td>213.339514</td>\n",
       "      <td>-1.839976</td>\n",
       "      <td>-1.875071</td>\n",
       "      <td>1.134280</td>\n",
       "      <td>0.287440</td>\n",
       "      <td>28.775302</td>\n",
       "      <td>-0.009975</td>\n",
       "      <td>158.133651</td>\n",
       "      <td>300.0</td>\n",
       "    </tr>\n",
       "    <tr>\n",
       "      <th>/test2</th>\n",
       "      <td>-420.841438</td>\n",
       "      <td>-0.158403</td>\n",
       "      <td>-5.463607</td>\n",
       "      <td>-6.976505</td>\n",
       "      <td>4.899236</td>\n",
       "      <td>489.960765</td>\n",
       "      <td>-7.456042</td>\n",
       "      <td>-3.342528</td>\n",
       "      <td>0.662877</td>\n",
       "      <td>0.949752</td>\n",
       "      <td>31.652616</td>\n",
       "      <td>-0.047102</td>\n",
       "      <td>224.101858</td>\n",
       "      <td>424.0</td>\n",
       "    </tr>\n",
       "    <tr>\n",
       "      <th>/test3</th>\n",
       "      <td>12.314823</td>\n",
       "      <td>0.251831</td>\n",
       "      <td>13.509256</td>\n",
       "      <td>0.332821</td>\n",
       "      <td>0.114826</td>\n",
       "      <td>11.510000</td>\n",
       "      <td>0.000000</td>\n",
       "      <td>0.000000</td>\n",
       "      <td>19.000000</td>\n",
       "      <td>1.000000</td>\n",
       "      <td>3.970629</td>\n",
       "      <td>0.061574</td>\n",
       "      <td>2.125178</td>\n",
       "      <td>2.0</td>\n",
       "    </tr>\n",
       "  </tbody>\n",
       "</table>\n",
       "</div>"
      ],
      "text/plain": [
       "              Gain      Cagr     Sharpe        Qr  Max dd pct     Mdd usd  \\\n",
       "/test1  -91.655991 -0.036259  -1.122295 -0.376840    2.127339  213.339514   \n",
       "/test2 -420.841438 -0.158403  -5.463607 -6.976505    4.899236  489.960765   \n",
       "/test3   12.314823  0.251831  13.509256  0.332821    0.114826   11.510000   \n",
       "\n",
       "         Sortino    Calmar  Tail ratio  Stability        Var  Avg return  \\\n",
       "/test1 -1.839976 -1.875071    1.134280   0.287440  28.775302   -0.009975   \n",
       "/test2 -7.456042 -3.342528    0.662877   0.949752  31.652616   -0.047102   \n",
       "/test3  0.000000  0.000000   19.000000   1.000000   3.970629    0.061574   \n",
       "\n",
       "              Fees  Execs  \n",
       "/test1  158.133651  300.0  \n",
       "/test2  224.101858  424.0  \n",
       "/test3    2.125178    2.0  "
      ]
     },
     "execution_count": 19,
     "metadata": {},
     "output_type": "execute_result"
    },
    {
     "data": {
      "image/png": "[encoded data removed]",
      "text/plain": [
       "<Figure size 960x400 with 1 Axes>"
      ]
     },
     "metadata": {},
     "output_type": "display_data"
    }
   ],
   "source": [
    "tearsheet(rep, False)"
   ]
  },
  {
   "cell_type": "code",
   "execution_count": 20,
   "metadata": {},
   "outputs": [
    {
     "data": {
      "application/vnd.jupyter.widget-view+json": {
       "model_id": "2f1cf88e7ebe48dabf4247da3805ef73",
       "version_major": 2,
       "version_minor": 0
      },
      "text/plain": [
       "  0%|          | 0/1 [00:00<?, ?it/s]"
      ]
     },
     "metadata": {},
     "output_type": "display_data"
    },
    {
     "data": {
      "application/vnd.jupyter.widget-view+json": {
       "model_id": "3770ba5cbd804a73aa4ae8af2bbed17f",
       "version_major": 2,
       "version_minor": 0
      },
      "text/plain": [
       "  0%|          | 0/524 [00:00<?, ?it/s]"
      ]
     },
     "metadata": {},
     "output_type": "display_data"
    }
   ],
   "source": [
    "sigs = pd.DataFrame.from_dict({'BTCUSDT': {\n",
    "    '2024-01-01 01:00': +0.1, \n",
    "    '2024-01-01 02:00': 0,\n",
    "    '2024-01-01 03:00': -0.1,\n",
    "    '2024-01-01 10:00': 0\n",
    "}})\n",
    "sigs.index = pd.to_datetime(sigs.index)\n",
    "QubxLogConfig.set_log_level(\"ERROR\")\n",
    "\n",
    "rep = simulate( { 'test3': sigs }, \n",
    "    r, 10000, [\"BINANCE.UM:BTCUSDT\"], \n",
    "    dict(type=\"ohlc\", timeframe=\"5Min\", nback=10), \"5Min -1Sec\", \"vip0_usdt\", \n",
    "    \"2024-01-01\", \"2024-01-02\", \n",
    ")"
   ]
  },
  {
   "cell_type": "code",
   "execution_count": 21,
   "metadata": {},
   "outputs": [
    {
     "data": {
      "application/vnd.plotly.v1+json": {
       "config": {
        "plotlyServerURL": "https://plot.ly"
       },
       "data": [
        {
         "fill": "tozeroy",
         "line": {
          "color": "green",
          "width": 1
         },
         "mode": "lines",
         "name": "Total_PnL",
         "type": "scatter",
         "uid": "e3218ddf-5f16-4ee9-bcbc-abcecde94616",
         "x": [
          "2023-12-31T23:10:00",
          "2023-12-31T23:15:00",
          "2023-12-31T23:20:00",
          "2023-12-31T23:25:00",
          "2023-12-31T23:30:00",
          "2023-12-31T23:35:00",
          "2023-12-31T23:40:00",
          "2023-12-31T23:45:00",
          "2023-12-31T23:50:00",
          "2023-12-31T23:55:00",
          "2024-01-01T00:00:00",
          "2024-01-01T00:05:00",
          "2024-01-01T00:10:00",
          "2024-01-01T00:15:00",
          "2024-01-01T00:20:00",
          "2024-01-01T00:25:00",
          "2024-01-01T00:30:00",
          "2024-01-01T00:35:00",
          "2024-01-01T00:40:00",
          "2024-01-01T00:45:00",
          "2024-01-01T00:50:00",
          "2024-01-01T00:55:00",
          "2024-01-01T01:00:00",
          "2024-01-01T01:05:00",
          "2024-01-01T01:10:00",
          "2024-01-01T01:15:00",
          "2024-01-01T01:20:00",
          "2024-01-01T01:25:00",
          "2024-01-01T01:30:00",
          "2024-01-01T01:35:00",
          "2024-01-01T01:40:00",
          "2024-01-01T01:45:00",
          "2024-01-01T01:50:00",
          "2024-01-01T01:55:00",
          "2024-01-01T02:00:00",
          "2024-01-01T02:05:00",
          "2024-01-01T02:10:00",
          "2024-01-01T02:15:00",
          "2024-01-01T02:20:00",
          "2024-01-01T02:25:00",
          "2024-01-01T02:30:00",
          "2024-01-01T02:35:00",
          "2024-01-01T02:40:00",
          "2024-01-01T02:45:00",
          "2024-01-01T02:50:00",
          "2024-01-01T02:55:00",
          "2024-01-01T03:00:00",
          "2024-01-01T03:05:00",
          "2024-01-01T03:10:00",
          "2024-01-01T03:15:00",
          "2024-01-01T03:20:00",
          "2024-01-01T03:25:00",
          "2024-01-01T03:30:00",
          "2024-01-01T03:35:00",
          "2024-01-01T03:40:00",
          "2024-01-01T03:45:00",
          "2024-01-01T03:50:00",
          "2024-01-01T03:55:00",
          "2024-01-01T04:00:00",
          "2024-01-01T04:05:00",
          "2024-01-01T04:10:00",
          "2024-01-01T04:15:00",
          "2024-01-01T04:20:00",
          "2024-01-01T04:25:00",
          "2024-01-01T04:30:00",
          "2024-01-01T04:35:00",
          "2024-01-01T04:40:00",
          "2024-01-01T04:45:00",
          "2024-01-01T04:50:00",
          "2024-01-01T04:55:00",
          "2024-01-01T05:00:00",
          "2024-01-01T05:05:00",
          "2024-01-01T05:10:00",
          "2024-01-01T05:15:00",
          "2024-01-01T05:20:00",
          "2024-01-01T05:25:00",
          "2024-01-01T05:30:00",
          "2024-01-01T05:35:00",
          "2024-01-01T05:40:00",
          "2024-01-01T05:45:00",
          "2024-01-01T05:50:00",
          "2024-01-01T05:55:00",
          "2024-01-01T06:00:00",
          "2024-01-01T06:05:00",
          "2024-01-01T06:10:00",
          "2024-01-01T06:15:00",
          "2024-01-01T06:20:00",
          "2024-01-01T06:25:00",
          "2024-01-01T06:30:00",
          "2024-01-01T06:35:00",
          "2024-01-01T06:40:00",
          "2024-01-01T06:45:00",
          "2024-01-01T06:50:00",
          "2024-01-01T06:55:00",
          "2024-01-01T07:00:00",
          "2024-01-01T07:05:00",
          "2024-01-01T07:10:00",
          "2024-01-01T07:15:00",
          "2024-01-01T07:20:00",
          "2024-01-01T07:25:00",
          "2024-01-01T07:30:00",
          "2024-01-01T07:35:00",
          "2024-01-01T07:40:00",
          "2024-01-01T07:45:00",
          "2024-01-01T07:50:00",
          "2024-01-01T07:55:00",
          "2024-01-01T08:00:00",
          "2024-01-01T08:05:00",
          "2024-01-01T08:10:00",
          "2024-01-01T08:15:00",
          "2024-01-01T08:20:00",
          "2024-01-01T08:25:00",
          "2024-01-01T08:30:00",
          "2024-01-01T08:35:00",
          "2024-01-01T08:40:00",
          "2024-01-01T08:45:00",
          "2024-01-01T08:50:00",
          "2024-01-01T08:55:00",
          "2024-01-01T09:00:00",
          "2024-01-01T09:05:00",
          "2024-01-01T09:10:00",
          "2024-01-01T09:15:00",
          "2024-01-01T09:20:00",
          "2024-01-01T09:25:00",
          "2024-01-01T09:30:00",
          "2024-01-01T09:35:00",
          "2024-01-01T09:40:00",
          "2024-01-01T09:45:00",
          "2024-01-01T09:50:00",
          "2024-01-01T09:55:00",
          "2024-01-01T10:00:00"
         ],
         "xaxis": "x",
         "y": [
          0,
          0,
          0,
          0,
          0,
          0,
          0,
          0,
          0,
          0,
          0,
          0,
          0,
          0,
          0,
          0,
          0,
          0,
          0,
          0,
          0,
          0,
          0,
          -5.995177499999045,
          -5.2351775000006455,
          -2.715177500000209,
          0.784822499999791,
          -1.3851775000002817,
          0.014822499999354477,
          7.3548224999995,
          23.824822500000664,
          20.944822499999646,
          21.004822500000955,
          17.53482249999979,
          12.314822500000446,
          10.177429999999731,
          10.177429999999731,
          10.177429999999731,
          10.177429999999731,
          10.177429999999731,
          10.177429999999731,
          10.177429999999731,
          10.177429999999731,
          10.177429999999731,
          10.177429999999731,
          10.177429999999731,
          10.177429999999731,
          11.27640749999955,
          12.51640750000115,
          15.666407500000787,
          19.426407500001005,
          22.71640750000006,
          23.39640750000035,
          25.196407499999623,
          27.436407499999405,
          36.89640750000035,
          32.09640749999926,
          34.76640750000115,
          33.10640749999948,
          30.78640749999977,
          31.666407500000787,
          37.626407499999914,
          39.81640750000042,
          34.876407499999914,
          35.79640749999999,
          34.02640749999955,
          32.496407500000714,
          35.34640749999926,
          30.926407500001005,
          29.84640749999926,
          26.426407500001005,
          34.19640749999962,
          32.496407500000714,
          31.14640750000035,
          31.07640750000064,
          33.246407500000714,
          37.46640750000006,
          35.66640750000079,
          39.01640750000115,
          36.50640749999911,
          42.78640749999977,
          43.926407500001005,
          42.82640750000064,
          39.186407499999405,
          37.996407500000714,
          39.25640749999911,
          32.996407500000714,
          35.39640750000035,
          35.176407500001005,
          33.60640749999948,
          31.736407500000496,
          29.496407500000714,
          29.416407500000787,
          26.07640750000064,
          27.746407500000714,
          23.82640750000064,
          19.676407500001005,
          21.866407499999696,
          21.976407500000278,
          21.53640749999977,
          17.59640749999926,
          17.136407500000132,
          17.626407499999914,
          22.546407499999987,
          20.416407500000787,
          19.39640750000035,
          17.376407499999914,
          20.59640749999926,
          17.89640750000035,
          14.89640750000035,
          15.08640750000086,
          15.77640749999955,
          18.08640750000086,
          20.566407500000423,
          19.296407499999987,
          17.03640749999977,
          13.806407500000205,
          11.946407499999623,
          11.26640750000115,
          9.08640750000086,
          12.136407500000132,
          9.176407500001005,
          7.296407499999987,
          1.2964074999999866,
          7.796407499999987,
          0.3564074999994773,
          -3.153592500000741,
          2.566407500000423,
          2.2164075000000594,
          1.4964075000007142,
          1.206407499999841
         ],
         "yaxis": "y"
        },
        {
         "fill": "tozeroy",
         "line": {
          "width": 1
         },
         "mode": "lines",
         "name": "Drawdown_1",
         "type": "scatter",
         "uid": "d27a6618-77ad-4268-871b-9364d94adfa1",
         "x": [
          "2023-12-31T23:10:00",
          "2023-12-31T23:15:00",
          "2023-12-31T23:20:00",
          "2023-12-31T23:25:00",
          "2023-12-31T23:30:00",
          "2023-12-31T23:35:00",
          "2023-12-31T23:40:00",
          "2023-12-31T23:45:00",
          "2023-12-31T23:50:00",
          "2023-12-31T23:55:00",
          "2024-01-01T00:00:00",
          "2024-01-01T00:05:00",
          "2024-01-01T00:10:00",
          "2024-01-01T00:15:00",
          "2024-01-01T00:20:00",
          "2024-01-01T00:25:00",
          "2024-01-01T00:30:00",
          "2024-01-01T00:35:00",
          "2024-01-01T00:40:00",
          "2024-01-01T00:45:00",
          "2024-01-01T00:50:00",
          "2024-01-01T00:55:00",
          "2024-01-01T01:00:00",
          "2024-01-01T01:05:00",
          "2024-01-01T01:10:00",
          "2024-01-01T01:15:00",
          "2024-01-01T01:20:00",
          "2024-01-01T01:25:00",
          "2024-01-01T01:30:00",
          "2024-01-01T01:35:00",
          "2024-01-01T01:40:00",
          "2024-01-01T01:45:00",
          "2024-01-01T01:50:00",
          "2024-01-01T01:55:00",
          "2024-01-01T02:00:00",
          "2024-01-01T02:05:00",
          "2024-01-01T02:10:00",
          "2024-01-01T02:15:00",
          "2024-01-01T02:20:00",
          "2024-01-01T02:25:00",
          "2024-01-01T02:30:00",
          "2024-01-01T02:35:00",
          "2024-01-01T02:40:00",
          "2024-01-01T02:45:00",
          "2024-01-01T02:50:00",
          "2024-01-01T02:55:00",
          "2024-01-01T03:00:00",
          "2024-01-01T03:05:00",
          "2024-01-01T03:10:00",
          "2024-01-01T03:15:00",
          "2024-01-01T03:20:00",
          "2024-01-01T03:25:00",
          "2024-01-01T03:30:00",
          "2024-01-01T03:35:00",
          "2024-01-01T03:40:00",
          "2024-01-01T03:45:00",
          "2024-01-01T03:50:00",
          "2024-01-01T03:55:00",
          "2024-01-01T04:00:00",
          "2024-01-01T04:05:00",
          "2024-01-01T04:10:00",
          "2024-01-01T04:15:00",
          "2024-01-01T04:20:00",
          "2024-01-01T04:25:00",
          "2024-01-01T04:30:00",
          "2024-01-01T04:35:00",
          "2024-01-01T04:40:00",
          "2024-01-01T04:45:00",
          "2024-01-01T04:50:00",
          "2024-01-01T04:55:00",
          "2024-01-01T05:00:00",
          "2024-01-01T05:05:00",
          "2024-01-01T05:10:00",
          "2024-01-01T05:15:00",
          "2024-01-01T05:20:00",
          "2024-01-01T05:25:00",
          "2024-01-01T05:30:00",
          "2024-01-01T05:35:00",
          "2024-01-01T05:40:00",
          "2024-01-01T05:45:00",
          "2024-01-01T05:50:00",
          "2024-01-01T05:55:00",
          "2024-01-01T06:00:00",
          "2024-01-01T06:05:00",
          "2024-01-01T06:10:00",
          "2024-01-01T06:15:00",
          "2024-01-01T06:20:00",
          "2024-01-01T06:25:00",
          "2024-01-01T06:30:00",
          "2024-01-01T06:35:00",
          "2024-01-01T06:40:00",
          "2024-01-01T06:45:00",
          "2024-01-01T06:50:00",
          "2024-01-01T06:55:00",
          "2024-01-01T07:00:00",
          "2024-01-01T07:05:00",
          "2024-01-01T07:10:00",
          "2024-01-01T07:15:00",
          "2024-01-01T07:20:00",
          "2024-01-01T07:25:00",
          "2024-01-01T07:30:00",
          "2024-01-01T07:35:00",
          "2024-01-01T07:40:00",
          "2024-01-01T07:45:00",
          "2024-01-01T07:50:00",
          "2024-01-01T07:55:00",
          "2024-01-01T08:00:00",
          "2024-01-01T08:05:00",
          "2024-01-01T08:10:00",
          "2024-01-01T08:15:00",
          "2024-01-01T08:20:00",
          "2024-01-01T08:25:00",
          "2024-01-01T08:30:00",
          "2024-01-01T08:35:00",
          "2024-01-01T08:40:00",
          "2024-01-01T08:45:00",
          "2024-01-01T08:50:00",
          "2024-01-01T08:55:00",
          "2024-01-01T09:00:00",
          "2024-01-01T09:05:00",
          "2024-01-01T09:10:00",
          "2024-01-01T09:15:00",
          "2024-01-01T09:20:00",
          "2024-01-01T09:25:00",
          "2024-01-01T09:30:00",
          "2024-01-01T09:35:00",
          "2024-01-01T09:40:00",
          "2024-01-01T09:45:00",
          "2024-01-01T09:50:00",
          "2024-01-01T09:55:00",
          "2024-01-01T10:00:00"
         ],
         "xaxis": "x",
         "y": [
          0,
          0,
          0,
          0,
          0,
          0,
          0,
          0,
          0,
          0,
          0,
          0,
          0,
          0,
          0,
          0,
          0,
          0,
          0,
          0,
          0,
          0,
          0,
          -5.995177499999045,
          -5.2351775000006455,
          -2.715177500000209,
          0,
          -2.1700000000000728,
          -0.7700000000004366,
          0,
          0,
          -2.8800000000010186,
          -2.819999999999709,
          -6.290000000000873,
          -11.510000000000218,
          -13.647392500000933,
          -13.647392500000933,
          -13.647392500000933,
          -13.647392500000933,
          -13.647392500000933,
          -13.647392500000933,
          -13.647392500000933,
          -13.647392500000933,
          -13.647392500000933,
          -13.647392500000933,
          -13.647392500000933,
          -13.647392500000933,
          -12.548415000001114,
          -11.308414999999513,
          -8.158414999999877,
          -4.398414999999659,
          -1.1084150000006048,
          -0.42841500000031374,
          0,
          0,
          0,
          -4.800000000001091,
          -2.1299999999991996,
          -3.790000000000873,
          -6.110000000000582,
          -5.229999999999563,
          0,
          0,
          -4.940000000000509,
          -4.020000000000437,
          -5.790000000000873,
          -7.319999999999709,
          -4.470000000001164,
          -8.889999999999418,
          -9.970000000001164,
          -13.389999999999418,
          -5.6200000000008,
          -7.319999999999709,
          -8.670000000000073,
          -8.739999999999782,
          -6.569999999999709,
          -2.350000000000364,
          -4.149999999999636,
          -0.7999999999992724,
          -3.3100000000013097,
          0,
          0,
          -1.1000000000003638,
          -4.740000000001601,
          -5.930000000000291,
          -4.670000000001892,
          -10.930000000000291,
          -8.530000000000655,
          -8.75,
          -10.320000000001528,
          -12.19000000000051,
          -14.430000000000291,
          -14.510000000000218,
          -17.850000000000364,
          -16.18000000000029,
          -20.100000000000364,
          -24.25,
          -22.06000000000131,
          -21.950000000000728,
          -22.390000000001237,
          -26.330000000001746,
          -26.790000000000873,
          -26.30000000000109,
          -21.38000000000102,
          -23.51000000000022,
          -24.530000000000655,
          -26.55000000000109,
          -23.330000000001746,
          -26.030000000000655,
          -29.030000000000655,
          -28.840000000000146,
          -28.150000000001455,
          -25.840000000000146,
          -23.360000000000582,
          -24.63000000000102,
          -26.890000000001237,
          -30.1200000000008,
          -31.980000000001382,
          -32.659999999999854,
          -34.840000000000146,
          -31.790000000000873,
          -34.75,
          -36.63000000000102,
          -42.63000000000102,
          -36.13000000000102,
          -43.57000000000153,
          -47.080000000001746,
          -41.36000000000058,
          -41.710000000000946,
          -42.43000000000029,
          -42.720000000001164
         ],
         "yaxis": "y2"
        }
       ],
       "layout": {
        "dragmode": "zoom",
        "height": 500,
        "hoverdistance": 1000,
        "hovermode": "x unified",
        "margin": {
         "b": 5,
         "l": 5,
         "r": 5,
         "t": 35
        },
        "modebar": {
         "add": [
          "drawline",
          "drawopenpath",
          "drawrect",
          "eraseshape"
         ]
        },
        "newshape": {
         "line": {
          "color": "yellow",
          "width": 1
         }
        },
        "showlegend": false,
        "template": {
         "data": {
          "bar": [
           {
            "error_x": {
             "color": "#f2f5fa"
            },
            "error_y": {
             "color": "#f2f5fa"
            },
            "marker": {
             "line": {
              "color": "rgb(17,17,17)",
              "width": 0.5
             },
             "pattern": {
              "fillmode": "overlay",
              "size": 10,
              "solidity": 0.2
             }
            },
            "type": "bar"
           }
          ],
          "barpolar": [
           {
            "marker": {
             "line": {
              "color": "rgb(17,17,17)",
              "width": 0.5
             },
             "pattern": {
              "fillmode": "overlay",
              "size": 10,
              "solidity": 0.2
             }
            },
            "type": "barpolar"
           }
          ],
          "carpet": [
           {
            "aaxis": {
             "endlinecolor": "#A2B1C6",
             "gridcolor": "#506784",
             "linecolor": "#506784",
             "minorgridcolor": "#506784",
             "startlinecolor": "#A2B1C6"
            },
            "baxis": {
             "endlinecolor": "#A2B1C6",
             "gridcolor": "#506784",
             "linecolor": "#506784",
             "minorgridcolor": "#506784",
             "startlinecolor": "#A2B1C6"
            },
            "type": "carpet"
           }
          ],
          "choropleth": [
           {
            "colorbar": {
             "outlinewidth": 0,
             "ticks": ""
            },
            "type": "choropleth"
           }
          ],
          "contour": [
           {
            "colorbar": {
             "outlinewidth": 0,
             "ticks": ""
            },
            "colorscale": [
             [
              0,
              "#0d0887"
             ],
             [
              0.1111111111111111,
              "#46039f"
             ],
             [
              0.2222222222222222,
              "#7201a8"
             ],
             [
              0.3333333333333333,
              "#9c179e"
             ],
             [
              0.4444444444444444,
              "#bd3786"
             ],
             [
              0.5555555555555556,
              "#d8576b"
             ],
             [
              0.6666666666666666,
              "#ed7953"
             ],
             [
              0.7777777777777778,
              "#fb9f3a"
             ],
             [
              0.8888888888888888,
              "#fdca26"
             ],
             [
              1,
              "#f0f921"
             ]
            ],
            "type": "contour"
           }
          ],
          "contourcarpet": [
           {
            "colorbar": {
             "outlinewidth": 0,
             "ticks": ""
            },
            "type": "contourcarpet"
           }
          ],
          "heatmap": [
           {
            "colorbar": {
             "outlinewidth": 0,
             "ticks": ""
            },
            "colorscale": [
             [
              0,
              "#0d0887"
             ],
             [
              0.1111111111111111,
              "#46039f"
             ],
             [
              0.2222222222222222,
              "#7201a8"
             ],
             [
              0.3333333333333333,
              "#9c179e"
             ],
             [
              0.4444444444444444,
              "#bd3786"
             ],
             [
              0.5555555555555556,
              "#d8576b"
             ],
             [
              0.6666666666666666,
              "#ed7953"
             ],
             [
              0.7777777777777778,
              "#fb9f3a"
             ],
             [
              0.8888888888888888,
              "#fdca26"
             ],
             [
              1,
              "#f0f921"
             ]
            ],
            "type": "heatmap"
           }
          ],
          "heatmapgl": [
           {
            "colorbar": {
             "outlinewidth": 0,
             "ticks": ""
            },
            "colorscale": [
             [
              0,
              "#0d0887"
             ],
             [
              0.1111111111111111,
              "#46039f"
             ],
             [
              0.2222222222222222,
              "#7201a8"
             ],
             [
              0.3333333333333333,
              "#9c179e"
             ],
             [
              0.4444444444444444,
              "#bd3786"
             ],
             [
              0.5555555555555556,
              "#d8576b"
             ],
             [
              0.6666666666666666,
              "#ed7953"
             ],
             [
              0.7777777777777778,
              "#fb9f3a"
             ],
             [
              0.8888888888888888,
              "#fdca26"
             ],
             [
              1,
              "#f0f921"
             ]
            ],
            "type": "heatmapgl"
           }
          ],
          "histogram": [
           {
            "marker": {
             "pattern": {
              "fillmode": "overlay",
              "size": 10,
              "solidity": 0.2
             }
            },
            "type": "histogram"
           }
          ],
          "histogram2d": [
           {
            "colorbar": {
             "outlinewidth": 0,
             "ticks": ""
            },
            "colorscale": [
             [
              0,
              "#0d0887"
             ],
             [
              0.1111111111111111,
              "#46039f"
             ],
             [
              0.2222222222222222,
              "#7201a8"
             ],
             [
              0.3333333333333333,
              "#9c179e"
             ],
             [
              0.4444444444444444,
              "#bd3786"
             ],
             [
              0.5555555555555556,
              "#d8576b"
             ],
             [
              0.6666666666666666,
              "#ed7953"
             ],
             [
              0.7777777777777778,
              "#fb9f3a"
             ],
             [
              0.8888888888888888,
              "#fdca26"
             ],
             [
              1,
              "#f0f921"
             ]
            ],
            "type": "histogram2d"
           }
          ],
          "histogram2dcontour": [
           {
            "colorbar": {
             "outlinewidth": 0,
             "ticks": ""
            },
            "colorscale": [
             [
              0,
              "#0d0887"
             ],
             [
              0.1111111111111111,
              "#46039f"
             ],
             [
              0.2222222222222222,
              "#7201a8"
             ],
             [
              0.3333333333333333,
              "#9c179e"
             ],
             [
              0.4444444444444444,
              "#bd3786"
             ],
             [
              0.5555555555555556,
              "#d8576b"
             ],
             [
              0.6666666666666666,
              "#ed7953"
             ],
             [
              0.7777777777777778,
              "#fb9f3a"
             ],
             [
              0.8888888888888888,
              "#fdca26"
             ],
             [
              1,
              "#f0f921"
             ]
            ],
            "type": "histogram2dcontour"
           }
          ],
          "mesh3d": [
           {
            "colorbar": {
             "outlinewidth": 0,
             "ticks": ""
            },
            "type": "mesh3d"
           }
          ],
          "parcoords": [
           {
            "line": {
             "colorbar": {
              "outlinewidth": 0,
              "ticks": ""
             }
            },
            "type": "parcoords"
           }
          ],
          "pie": [
           {
            "automargin": true,
            "type": "pie"
           }
          ],
          "scatter": [
           {
            "marker": {
             "line": {
              "color": "#283442"
             }
            },
            "type": "scatter"
           }
          ],
          "scatter3d": [
           {
            "line": {
             "colorbar": {
              "outlinewidth": 0,
              "ticks": ""
             }
            },
            "marker": {
             "colorbar": {
              "outlinewidth": 0,
              "ticks": ""
             }
            },
            "type": "scatter3d"
           }
          ],
          "scattercarpet": [
           {
            "marker": {
             "colorbar": {
              "outlinewidth": 0,
              "ticks": ""
             }
            },
            "type": "scattercarpet"
           }
          ],
          "scattergeo": [
           {
            "marker": {
             "colorbar": {
              "outlinewidth": 0,
              "ticks": ""
             }
            },
            "type": "scattergeo"
           }
          ],
          "scattergl": [
           {
            "marker": {
             "line": {
              "color": "#283442"
             }
            },
            "type": "scattergl"
           }
          ],
          "scattermapbox": [
           {
            "marker": {
             "colorbar": {
              "outlinewidth": 0,
              "ticks": ""
             }
            },
            "type": "scattermapbox"
           }
          ],
          "scatterpolar": [
           {
            "marker": {
             "colorbar": {
              "outlinewidth": 0,
              "ticks": ""
             }
            },
            "type": "scatterpolar"
           }
          ],
          "scatterpolargl": [
           {
            "marker": {
             "colorbar": {
              "outlinewidth": 0,
              "ticks": ""
             }
            },
            "type": "scatterpolargl"
           }
          ],
          "scatterternary": [
           {
            "marker": {
             "colorbar": {
              "outlinewidth": 0,
              "ticks": ""
             }
            },
            "type": "scatterternary"
           }
          ],
          "surface": [
           {
            "colorbar": {
             "outlinewidth": 0,
             "ticks": ""
            },
            "colorscale": [
             [
              0,
              "#0d0887"
             ],
             [
              0.1111111111111111,
              "#46039f"
             ],
             [
              0.2222222222222222,
              "#7201a8"
             ],
             [
              0.3333333333333333,
              "#9c179e"
             ],
             [
              0.4444444444444444,
              "#bd3786"
             ],
             [
              0.5555555555555556,
              "#d8576b"
             ],
             [
              0.6666666666666666,
              "#ed7953"
             ],
             [
              0.7777777777777778,
              "#fb9f3a"
             ],
             [
              0.8888888888888888,
              "#fdca26"
             ],
             [
              1,
              "#f0f921"
             ]
            ],
            "type": "surface"
           }
          ],
          "table": [
           {
            "cells": {
             "fill": {
              "color": "#506784"
             },
             "line": {
              "color": "rgb(17,17,17)"
             }
            },
            "header": {
             "fill": {
              "color": "#2a3f5f"
             },
             "line": {
              "color": "rgb(17,17,17)"
             }
            },
            "type": "table"
           }
          ]
         },
         "layout": {
          "annotationdefaults": {
           "arrowcolor": "#f2f5fa",
           "arrowhead": 0,
           "arrowwidth": 1
          },
          "autotypenumbers": "strict",
          "coloraxis": {
           "colorbar": {
            "outlinewidth": 0,
            "ticks": ""
           }
          },
          "colorscale": {
           "diverging": [
            [
             0,
             "#8e0152"
            ],
            [
             0.1,
             "#c51b7d"
            ],
            [
             0.2,
             "#de77ae"
            ],
            [
             0.3,
             "#f1b6da"
            ],
            [
             0.4,
             "#fde0ef"
            ],
            [
             0.5,
             "#f7f7f7"
            ],
            [
             0.6,
             "#e6f5d0"
            ],
            [
             0.7,
             "#b8e186"
            ],
            [
             0.8,
             "#7fbc41"
            ],
            [
             0.9,
             "#4d9221"
            ],
            [
             1,
             "#276419"
            ]
           ],
           "sequential": [
            [
             0,
             "#0d0887"
            ],
            [
             0.1111111111111111,
             "#46039f"
            ],
            [
             0.2222222222222222,
             "#7201a8"
            ],
            [
             0.3333333333333333,
             "#9c179e"
            ],
            [
             0.4444444444444444,
             "#bd3786"
            ],
            [
             0.5555555555555556,
             "#d8576b"
            ],
            [
             0.6666666666666666,
             "#ed7953"
            ],
            [
             0.7777777777777778,
             "#fb9f3a"
            ],
            [
             0.8888888888888888,
             "#fdca26"
            ],
            [
             1,
             "#f0f921"
            ]
           ],
           "sequentialminus": [
            [
             0,
             "#0d0887"
            ],
            [
             0.1111111111111111,
             "#46039f"
            ],
            [
             0.2222222222222222,
             "#7201a8"
            ],
            [
             0.3333333333333333,
             "#9c179e"
            ],
            [
             0.4444444444444444,
             "#bd3786"
            ],
            [
             0.5555555555555556,
             "#d8576b"
            ],
            [
             0.6666666666666666,
             "#ed7953"
            ],
            [
             0.7777777777777778,
             "#fb9f3a"
            ],
            [
             0.8888888888888888,
             "#fdca26"
            ],
            [
             1,
             "#f0f921"
            ]
           ]
          },
          "colorway": [
           "#636efa",
           "#EF553B",
           "#00cc96",
           "#ab63fa",
           "#FFA15A",
           "#19d3f3",
           "#FF6692",
           "#B6E880",
           "#FF97FF",
           "#FECB52"
          ],
          "font": {
           "color": "#f2f5fa"
          },
          "geo": {
           "bgcolor": "rgb(17,17,17)",
           "lakecolor": "rgb(17,17,17)",
           "landcolor": "rgb(17,17,17)",
           "showlakes": true,
           "showland": true,
           "subunitcolor": "#506784"
          },
          "hoverlabel": {
           "align": "left"
          },
          "hovermode": "closest",
          "mapbox": {
           "style": "dark"
          },
          "paper_bgcolor": "rgb(17,17,17)",
          "plot_bgcolor": "rgb(17,17,17)",
          "polar": {
           "angularaxis": {
            "gridcolor": "#506784",
            "linecolor": "#506784",
            "ticks": ""
           },
           "bgcolor": "rgb(17,17,17)",
           "radialaxis": {
            "gridcolor": "#506784",
            "linecolor": "#506784",
            "ticks": ""
           }
          },
          "scene": {
           "xaxis": {
            "backgroundcolor": "rgb(17,17,17)",
            "gridcolor": "#506784",
            "gridwidth": 2,
            "linecolor": "#506784",
            "showbackground": true,
            "ticks": "",
            "zerolinecolor": "#C8D4E3"
           },
           "yaxis": {
            "backgroundcolor": "rgb(17,17,17)",
            "gridcolor": "#506784",
            "gridwidth": 2,
            "linecolor": "#506784",
            "showbackground": true,
            "ticks": "",
            "zerolinecolor": "#C8D4E3"
           },
           "zaxis": {
            "backgroundcolor": "rgb(17,17,17)",
            "gridcolor": "#506784",
            "gridwidth": 2,
            "linecolor": "#506784",
            "showbackground": true,
            "ticks": "",
            "zerolinecolor": "#C8D4E3"
           }
          },
          "shapedefaults": {
           "line": {
            "color": "#f2f5fa"
           }
          },
          "sliderdefaults": {
           "bgcolor": "#C8D4E3",
           "bordercolor": "rgb(17,17,17)",
           "borderwidth": 1,
           "tickwidth": 0
          },
          "ternary": {
           "aaxis": {
            "gridcolor": "#506784",
            "linecolor": "#506784",
            "ticks": ""
           },
           "baxis": {
            "gridcolor": "#506784",
            "linecolor": "#506784",
            "ticks": ""
           },
           "bgcolor": "rgb(17,17,17)",
           "caxis": {
            "gridcolor": "#506784",
            "linecolor": "#506784",
            "ticks": ""
           }
          },
          "title": {
           "x": 0.05
          },
          "updatemenudefaults": {
           "bgcolor": "#506784",
           "borderwidth": 0
          },
          "xaxis": {
           "automargin": true,
           "gridcolor": "#283442",
           "linecolor": "#506784",
           "ticks": "",
           "title": {
            "standoff": 15
           },
           "zerolinecolor": "#283442",
           "zerolinewidth": 2
          },
          "yaxis": {
           "automargin": true,
           "gridcolor": "#283442",
           "linecolor": "#506784",
           "ticks": "",
           "title": {
            "standoff": 15
           },
           "zerolinecolor": "#283442",
           "zerolinewidth": 2
          }
         }
        },
        "title": {
         "text": " Simulation: /test3",
         "x": 0.5,
         "xanchor": "center",
         "y": 0.9,
         "yanchor": "top"
        },
        "xaxis": {
         "anchor": "y",
         "domain": [
          0,
          1
         ],
         "hoverformat": "%d-%b-%y %H:%M",
         "matches": "x2",
         "rangeslider": {
          "visible": false
         },
         "showspikes": true,
         "showticklabels": false,
         "spikecolor": "#306020",
         "spikedash": "dot",
         "spikemode": "across",
         "spikesnap": "cursor",
         "spikethickness": 1
        },
        "xaxis2": {
         "anchor": "y2",
         "domain": [
          0,
          1
         ],
         "showspikes": true,
         "spikecolor": "#306020",
         "spikedash": "dot",
         "spikemode": "across",
         "spikesnap": "cursor",
         "spikethickness": 1
        },
        "yaxis": {
         "anchor": "x",
         "domain": [
          0.16631578947368428,
          1
         ],
         "hoverformat": ".2f",
         "spikecolor": "#306020",
         "spikesnap": "cursor",
         "spikethickness": 1,
         "tickformat": ".2f"
        },
        "yaxis2": {
         "anchor": "x2",
         "domain": [
          0,
          0.15631578947368427
         ],
         "range": [
          -47.080000000001746,
          0
         ],
         "spikecolor": "#306020",
         "spikesnap": "cursor",
         "spikethickness": 1,
         "tickformat": ".2f"
        }
       }
      }
     },
     "metadata": {},
     "output_type": "display_data"
    },
    {
     "data": {
      "application/vnd.plotly.v1+json": {
       "config": {
        "plotlyServerURL": "https://plot.ly"
       },
       "data": [
        {
         "cells": {
          "align": [
           "center",
           "left"
          ],
          "fill": {
           "color": "#101010"
          },
          "font": {
           "size": 10
          },
          "line": {
           "color": "darkslategray"
          },
          "values": [
           1.206,
           0.022,
           13.509,
           0.096,
           0.469,
           47.08,
           0,
           0,
           19,
           1,
           0.389,
           0.006,
           6.389,
           4
          ]
         },
         "columnwidth": [
          130,
          130,
          130,
          130,
          200
         ],
         "header": {
          "fill": {
           "color": "#303030"
          },
          "font": {
           "color": "white",
           "size": 11
          },
          "line": {
           "color": "darkslategray"
          },
          "values": [
           "Gain",
           "Cagr",
           "Sharpe",
           "Qr",
           "Max dd pct",
           "Mdd usd",
           "Sortino",
           "Calmar",
           "Tail ratio",
           "Stability",
           "Var",
           "Avg return",
           "Fees",
           "Execs"
          ]
         },
         "type": "table",
         "uid": "5c3f0aed-aa4f-4263-93f8-afec545725a5"
        }
       ],
       "layout": {
        "height": 80,
        "margin": {
         "b": 1,
         "l": 5,
         "r": 5,
         "t": 0
        },
        "template": {
         "data": {
          "bar": [
           {
            "error_x": {
             "color": "#f2f5fa"
            },
            "error_y": {
             "color": "#f2f5fa"
            },
            "marker": {
             "line": {
              "color": "rgb(17,17,17)",
              "width": 0.5
             },
             "pattern": {
              "fillmode": "overlay",
              "size": 10,
              "solidity": 0.2
             }
            },
            "type": "bar"
           }
          ],
          "barpolar": [
           {
            "marker": {
             "line": {
              "color": "rgb(17,17,17)",
              "width": 0.5
             },
             "pattern": {
              "fillmode": "overlay",
              "size": 10,
              "solidity": 0.2
             }
            },
            "type": "barpolar"
           }
          ],
          "carpet": [
           {
            "aaxis": {
             "endlinecolor": "#A2B1C6",
             "gridcolor": "#506784",
             "linecolor": "#506784",
             "minorgridcolor": "#506784",
             "startlinecolor": "#A2B1C6"
            },
            "baxis": {
             "endlinecolor": "#A2B1C6",
             "gridcolor": "#506784",
             "linecolor": "#506784",
             "minorgridcolor": "#506784",
             "startlinecolor": "#A2B1C6"
            },
            "type": "carpet"
           }
          ],
          "choropleth": [
           {
            "colorbar": {
             "outlinewidth": 0,
             "ticks": ""
            },
            "type": "choropleth"
           }
          ],
          "contour": [
           {
            "colorbar": {
             "outlinewidth": 0,
             "ticks": ""
            },
            "colorscale": [
             [
              0,
              "#0d0887"
             ],
             [
              0.1111111111111111,
              "#46039f"
             ],
             [
              0.2222222222222222,
              "#7201a8"
             ],
             [
              0.3333333333333333,
              "#9c179e"
             ],
             [
              0.4444444444444444,
              "#bd3786"
             ],
             [
              0.5555555555555556,
              "#d8576b"
             ],
             [
              0.6666666666666666,
              "#ed7953"
             ],
             [
              0.7777777777777778,
              "#fb9f3a"
             ],
             [
              0.8888888888888888,
              "#fdca26"
             ],
             [
              1,
              "#f0f921"
             ]
            ],
            "type": "contour"
           }
          ],
          "contourcarpet": [
           {
            "colorbar": {
             "outlinewidth": 0,
             "ticks": ""
            },
            "type": "contourcarpet"
           }
          ],
          "heatmap": [
           {
            "colorbar": {
             "outlinewidth": 0,
             "ticks": ""
            },
            "colorscale": [
             [
              0,
              "#0d0887"
             ],
             [
              0.1111111111111111,
              "#46039f"
             ],
             [
              0.2222222222222222,
              "#7201a8"
             ],
             [
              0.3333333333333333,
              "#9c179e"
             ],
             [
              0.4444444444444444,
              "#bd3786"
             ],
             [
              0.5555555555555556,
              "#d8576b"
             ],
             [
              0.6666666666666666,
              "#ed7953"
             ],
             [
              0.7777777777777778,
              "#fb9f3a"
             ],
             [
              0.8888888888888888,
              "#fdca26"
             ],
             [
              1,
              "#f0f921"
             ]
            ],
            "type": "heatmap"
           }
          ],
          "heatmapgl": [
           {
            "colorbar": {
             "outlinewidth": 0,
             "ticks": ""
            },
            "colorscale": [
             [
              0,
              "#0d0887"
             ],
             [
              0.1111111111111111,
              "#46039f"
             ],
             [
              0.2222222222222222,
              "#7201a8"
             ],
             [
              0.3333333333333333,
              "#9c179e"
             ],
             [
              0.4444444444444444,
              "#bd3786"
             ],
             [
              0.5555555555555556,
              "#d8576b"
             ],
             [
              0.6666666666666666,
              "#ed7953"
             ],
             [
              0.7777777777777778,
              "#fb9f3a"
             ],
             [
              0.8888888888888888,
              "#fdca26"
             ],
             [
              1,
              "#f0f921"
             ]
            ],
            "type": "heatmapgl"
           }
          ],
          "histogram": [
           {
            "marker": {
             "pattern": {
              "fillmode": "overlay",
              "size": 10,
              "solidity": 0.2
             }
            },
            "type": "histogram"
           }
          ],
          "histogram2d": [
           {
            "colorbar": {
             "outlinewidth": 0,
             "ticks": ""
            },
            "colorscale": [
             [
              0,
              "#0d0887"
             ],
             [
              0.1111111111111111,
              "#46039f"
             ],
             [
              0.2222222222222222,
              "#7201a8"
             ],
             [
              0.3333333333333333,
              "#9c179e"
             ],
             [
              0.4444444444444444,
              "#bd3786"
             ],
             [
              0.5555555555555556,
              "#d8576b"
             ],
             [
              0.6666666666666666,
              "#ed7953"
             ],
             [
              0.7777777777777778,
              "#fb9f3a"
             ],
             [
              0.8888888888888888,
              "#fdca26"
             ],
             [
              1,
              "#f0f921"
             ]
            ],
            "type": "histogram2d"
           }
          ],
          "histogram2dcontour": [
           {
            "colorbar": {
             "outlinewidth": 0,
             "ticks": ""
            },
            "colorscale": [
             [
              0,
              "#0d0887"
             ],
             [
              0.1111111111111111,
              "#46039f"
             ],
             [
              0.2222222222222222,
              "#7201a8"
             ],
             [
              0.3333333333333333,
              "#9c179e"
             ],
             [
              0.4444444444444444,
              "#bd3786"
             ],
             [
              0.5555555555555556,
              "#d8576b"
             ],
             [
              0.6666666666666666,
              "#ed7953"
             ],
             [
              0.7777777777777778,
              "#fb9f3a"
             ],
             [
              0.8888888888888888,
              "#fdca26"
             ],
             [
              1,
              "#f0f921"
             ]
            ],
            "type": "histogram2dcontour"
           }
          ],
          "mesh3d": [
           {
            "colorbar": {
             "outlinewidth": 0,
             "ticks": ""
            },
            "type": "mesh3d"
           }
          ],
          "parcoords": [
           {
            "line": {
             "colorbar": {
              "outlinewidth": 0,
              "ticks": ""
             }
            },
            "type": "parcoords"
           }
          ],
          "pie": [
           {
            "automargin": true,
            "type": "pie"
           }
          ],
          "scatter": [
           {
            "marker": {
             "line": {
              "color": "#283442"
             }
            },
            "type": "scatter"
           }
          ],
          "scatter3d": [
           {
            "line": {
             "colorbar": {
              "outlinewidth": 0,
              "ticks": ""
             }
            },
            "marker": {
             "colorbar": {
              "outlinewidth": 0,
              "ticks": ""
             }
            },
            "type": "scatter3d"
           }
          ],
          "scattercarpet": [
           {
            "marker": {
             "colorbar": {
              "outlinewidth": 0,
              "ticks": ""
             }
            },
            "type": "scattercarpet"
           }
          ],
          "scattergeo": [
           {
            "marker": {
             "colorbar": {
              "outlinewidth": 0,
              "ticks": ""
             }
            },
            "type": "scattergeo"
           }
          ],
          "scattergl": [
           {
            "marker": {
             "line": {
              "color": "#283442"
             }
            },
            "type": "scattergl"
           }
          ],
          "scattermapbox": [
           {
            "marker": {
             "colorbar": {
              "outlinewidth": 0,
              "ticks": ""
             }
            },
            "type": "scattermapbox"
           }
          ],
          "scatterpolar": [
           {
            "marker": {
             "colorbar": {
              "outlinewidth": 0,
              "ticks": ""
             }
            },
            "type": "scatterpolar"
           }
          ],
          "scatterpolargl": [
           {
            "marker": {
             "colorbar": {
              "outlinewidth": 0,
              "ticks": ""
             }
            },
            "type": "scatterpolargl"
           }
          ],
          "scatterternary": [
           {
            "marker": {
             "colorbar": {
              "outlinewidth": 0,
              "ticks": ""
             }
            },
            "type": "scatterternary"
           }
          ],
          "surface": [
           {
            "colorbar": {
             "outlinewidth": 0,
             "ticks": ""
            },
            "colorscale": [
             [
              0,
              "#0d0887"
             ],
             [
              0.1111111111111111,
              "#46039f"
             ],
             [
              0.2222222222222222,
              "#7201a8"
             ],
             [
              0.3333333333333333,
              "#9c179e"
             ],
             [
              0.4444444444444444,
              "#bd3786"
             ],
             [
              0.5555555555555556,
              "#d8576b"
             ],
             [
              0.6666666666666666,
              "#ed7953"
             ],
             [
              0.7777777777777778,
              "#fb9f3a"
             ],
             [
              0.8888888888888888,
              "#fdca26"
             ],
             [
              1,
              "#f0f921"
             ]
            ],
            "type": "surface"
           }
          ],
          "table": [
           {
            "cells": {
             "fill": {
              "color": "#506784"
             },
             "line": {
              "color": "rgb(17,17,17)"
             }
            },
            "header": {
             "fill": {
              "color": "#2a3f5f"
             },
             "line": {
              "color": "rgb(17,17,17)"
             }
            },
            "type": "table"
           }
          ]
         },
         "layout": {
          "annotationdefaults": {
           "arrowcolor": "#f2f5fa",
           "arrowhead": 0,
           "arrowwidth": 1
          },
          "autotypenumbers": "strict",
          "coloraxis": {
           "colorbar": {
            "outlinewidth": 0,
            "ticks": ""
           }
          },
          "colorscale": {
           "diverging": [
            [
             0,
             "#8e0152"
            ],
            [
             0.1,
             "#c51b7d"
            ],
            [
             0.2,
             "#de77ae"
            ],
            [
             0.3,
             "#f1b6da"
            ],
            [
             0.4,
             "#fde0ef"
            ],
            [
             0.5,
             "#f7f7f7"
            ],
            [
             0.6,
             "#e6f5d0"
            ],
            [
             0.7,
             "#b8e186"
            ],
            [
             0.8,
             "#7fbc41"
            ],
            [
             0.9,
             "#4d9221"
            ],
            [
             1,
             "#276419"
            ]
           ],
           "sequential": [
            [
             0,
             "#0d0887"
            ],
            [
             0.1111111111111111,
             "#46039f"
            ],
            [
             0.2222222222222222,
             "#7201a8"
            ],
            [
             0.3333333333333333,
             "#9c179e"
            ],
            [
             0.4444444444444444,
             "#bd3786"
            ],
            [
             0.5555555555555556,
             "#d8576b"
            ],
            [
             0.6666666666666666,
             "#ed7953"
            ],
            [
             0.7777777777777778,
             "#fb9f3a"
            ],
            [
             0.8888888888888888,
             "#fdca26"
            ],
            [
             1,
             "#f0f921"
            ]
           ],
           "sequentialminus": [
            [
             0,
             "#0d0887"
            ],
            [
             0.1111111111111111,
             "#46039f"
            ],
            [
             0.2222222222222222,
             "#7201a8"
            ],
            [
             0.3333333333333333,
             "#9c179e"
            ],
            [
             0.4444444444444444,
             "#bd3786"
            ],
            [
             0.5555555555555556,
             "#d8576b"
            ],
            [
             0.6666666666666666,
             "#ed7953"
            ],
            [
             0.7777777777777778,
             "#fb9f3a"
            ],
            [
             0.8888888888888888,
             "#fdca26"
            ],
            [
             1,
             "#f0f921"
            ]
           ]
          },
          "colorway": [
           "#636efa",
           "#EF553B",
           "#00cc96",
           "#ab63fa",
           "#FFA15A",
           "#19d3f3",
           "#FF6692",
           "#B6E880",
           "#FF97FF",
           "#FECB52"
          ],
          "font": {
           "color": "#f2f5fa"
          },
          "geo": {
           "bgcolor": "rgb(17,17,17)",
           "lakecolor": "rgb(17,17,17)",
           "landcolor": "rgb(17,17,17)",
           "showlakes": true,
           "showland": true,
           "subunitcolor": "#506784"
          },
          "hoverlabel": {
           "align": "left"
          },
          "hovermode": "closest",
          "mapbox": {
           "style": "dark"
          },
          "paper_bgcolor": "rgb(17,17,17)",
          "plot_bgcolor": "rgb(17,17,17)",
          "polar": {
           "angularaxis": {
            "gridcolor": "#506784",
            "linecolor": "#506784",
            "ticks": ""
           },
           "bgcolor": "rgb(17,17,17)",
           "radialaxis": {
            "gridcolor": "#506784",
            "linecolor": "#506784",
            "ticks": ""
           }
          },
          "scene": {
           "xaxis": {
            "backgroundcolor": "rgb(17,17,17)",
            "gridcolor": "#506784",
            "gridwidth": 2,
            "linecolor": "#506784",
            "showbackground": true,
            "ticks": "",
            "zerolinecolor": "#C8D4E3"
           },
           "yaxis": {
            "backgroundcolor": "rgb(17,17,17)",
            "gridcolor": "#506784",
            "gridwidth": 2,
            "linecolor": "#506784",
            "showbackground": true,
            "ticks": "",
            "zerolinecolor": "#C8D4E3"
           },
           "zaxis": {
            "backgroundcolor": "rgb(17,17,17)",
            "gridcolor": "#506784",
            "gridwidth": 2,
            "linecolor": "#506784",
            "showbackground": true,
            "ticks": "",
            "zerolinecolor": "#C8D4E3"
           }
          },
          "shapedefaults": {
           "line": {
            "color": "#f2f5fa"
           }
          },
          "sliderdefaults": {
           "bgcolor": "#C8D4E3",
           "bordercolor": "rgb(17,17,17)",
           "borderwidth": 1,
           "tickwidth": 0
          },
          "ternary": {
           "aaxis": {
            "gridcolor": "#506784",
            "linecolor": "#506784",
            "ticks": ""
           },
           "baxis": {
            "gridcolor": "#506784",
            "linecolor": "#506784",
            "ticks": ""
           },
           "bgcolor": "rgb(17,17,17)",
           "caxis": {
            "gridcolor": "#506784",
            "linecolor": "#506784",
            "ticks": ""
           }
          },
          "title": {
           "x": 0.05
          },
          "updatemenudefaults": {
           "bgcolor": "#506784",
           "borderwidth": 0
          },
          "xaxis": {
           "automargin": true,
           "gridcolor": "#283442",
           "linecolor": "#506784",
           "ticks": "",
           "title": {
            "standoff": 15
           },
           "zerolinecolor": "#283442",
           "zerolinewidth": 2
          },
          "yaxis": {
           "automargin": true,
           "gridcolor": "#283442",
           "linecolor": "#506784",
           "ticks": "",
           "title": {
            "standoff": 15
           },
           "zerolinecolor": "#283442",
           "zerolinewidth": 2
          }
         }
        }
       }
      }
     },
     "metadata": {},
     "output_type": "display_data"
    }
   ],
   "source": [
    "tearsheet(rep, False)"
   ]
  },
  {
   "cell_type": "markdown",
   "metadata": {},
   "source": [
    "# Validation"
   ]
  },
  {
   "cell_type": "code",
   "execution_count": 22,
   "metadata": {},
   "outputs": [],
   "source": [
    "import qubx.pandaz.ta as pta"
   ]
  },
  {
   "cell_type": "code",
   "execution_count": 23,
   "metadata": {},
   "outputs": [],
   "source": [
    "r = MultiQdbConnector('xlydian-data')\n",
    "ohlc = r.read('BINANCE.UM:BTCUSDT', '2024-01-01', '2024-01-02', AsOhlcvSeries('5Min'))"
   ]
  },
  {
   "cell_type": "code",
   "execution_count": 25,
   "metadata": {},
   "outputs": [],
   "source": [
    "fast = sma(ohlc.close, 5)\n",
    "slow = sma(ohlc.close, 15)\n",
    "sigs = (((fast > slow) + (fast.shift(1) < slow.shift(1))) == 2) - (((fast < slow) + (fast.shift(1) > slow.shift(1))) == 2)\n",
    "sigs = sigs.pd()\n",
    "sigs = sigs[sigs != 0]\n",
    "s1 = shift_series(sigs, '4Min59Sec').rename('BTCUSDT') / 100"
   ]
  },
  {
   "cell_type": "code",
   "execution_count": 26,
   "metadata": {},
   "outputs": [],
   "source": [
    "ohlc_pd = r.read('BINANCE.UM:BTCUSDT', '2024-01-01', '2024-01-02', AsPandasFrame())\n",
    "ohlc_pd = ohlc_resample(ohlc_pd, '5Min')\n",
    "fast_pd = pta.sma(ohlc_pd.close, 5)\n",
    "slow_pd = pta.sma(ohlc_pd.close, 15)\n",
    "\n",
    "sigs = ((((fast_pd > slow_pd) & (fast_pd.shift(1) < slow_pd.shift(1)))) + 0) - ((((fast_pd < slow_pd) & (fast_pd.shift(1) > slow_pd.shift(1)))) + 0)\n",
    "sigs = sigs[sigs != 0]\n",
    "s2 = shift_series(sigs, '4Min59Sec').rename('BTCUSDT') / 100"
   ]
  },
  {
   "cell_type": "code",
   "execution_count": 27,
   "metadata": {},
   "outputs": [
    {
     "data": {
      "text/plain": [
       "2024-01-01 02:19:59   -0.01\n",
       "2024-01-01 04:49:59    0.01\n",
       "2024-01-01 05:34:59   -0.01\n",
       "2024-01-01 06:24:59    0.01\n",
       "2024-01-01 11:34:59   -0.01\n",
       "2024-01-01 12:19:59    0.01\n",
       "2024-01-01 13:09:59   -0.01\n",
       "2024-01-01 13:24:59    0.01\n",
       "2024-01-01 14:09:59   -0.01\n",
       "2024-01-01 15:24:59    0.01\n",
       "2024-01-01 16:39:59   -0.01\n",
       "2024-01-01 17:24:59    0.01\n",
       "2024-01-01 17:39:59   -0.01\n",
       "2024-01-01 17:54:59    0.01\n",
       "2024-01-01 21:34:59   -0.01\n",
       "2024-01-01 23:09:59    0.01\n",
       "Name: BTCUSDT, dtype: float64"
      ]
     },
     "execution_count": 27,
     "metadata": {},
     "output_type": "execute_result"
    }
   ],
   "source": [
    "s1"
   ]
  },
  {
   "cell_type": "code",
   "execution_count": 28,
   "metadata": {},
   "outputs": [
    {
     "data": {
      "text/html": [
       "<div>\n",
       "<style scoped>\n",
       "    .dataframe tbody tr th:only-of-type {\n",
       "        vertical-align: middle;\n",
       "    }\n",
       "\n",
       "    .dataframe tbody tr th {\n",
       "        vertical-align: top;\n",
       "    }\n",
       "\n",
       "    .dataframe thead th {\n",
       "        text-align: right;\n",
       "    }\n",
       "</style>\n",
       "<table border=\"1\" class=\"dataframe\">\n",
       "  <thead>\n",
       "    <tr style=\"text-align: right;\">\n",
       "      <th></th>\n",
       "      <th>BTCUSDT</th>\n",
       "      <th>BTCUSDT</th>\n",
       "    </tr>\n",
       "  </thead>\n",
       "  <tbody>\n",
       "    <tr>\n",
       "      <th>2024-01-01 02:19:59</th>\n",
       "      <td>-0.01</td>\n",
       "      <td>-0.01</td>\n",
       "    </tr>\n",
       "    <tr>\n",
       "      <th>2024-01-01 04:49:59</th>\n",
       "      <td>0.01</td>\n",
       "      <td>0.01</td>\n",
       "    </tr>\n",
       "    <tr>\n",
       "      <th>2024-01-01 05:34:59</th>\n",
       "      <td>-0.01</td>\n",
       "      <td>-0.01</td>\n",
       "    </tr>\n",
       "    <tr>\n",
       "      <th>2024-01-01 06:24:59</th>\n",
       "      <td>0.01</td>\n",
       "      <td>0.01</td>\n",
       "    </tr>\n",
       "    <tr>\n",
       "      <th>2024-01-01 11:34:59</th>\n",
       "      <td>-0.01</td>\n",
       "      <td>-0.01</td>\n",
       "    </tr>\n",
       "    <tr>\n",
       "      <th>2024-01-01 12:19:59</th>\n",
       "      <td>0.01</td>\n",
       "      <td>0.01</td>\n",
       "    </tr>\n",
       "    <tr>\n",
       "      <th>2024-01-01 13:09:59</th>\n",
       "      <td>-0.01</td>\n",
       "      <td>-0.01</td>\n",
       "    </tr>\n",
       "    <tr>\n",
       "      <th>2024-01-01 13:24:59</th>\n",
       "      <td>0.01</td>\n",
       "      <td>0.01</td>\n",
       "    </tr>\n",
       "    <tr>\n",
       "      <th>2024-01-01 14:09:59</th>\n",
       "      <td>-0.01</td>\n",
       "      <td>-0.01</td>\n",
       "    </tr>\n",
       "    <tr>\n",
       "      <th>2024-01-01 15:24:59</th>\n",
       "      <td>0.01</td>\n",
       "      <td>0.01</td>\n",
       "    </tr>\n",
       "    <tr>\n",
       "      <th>2024-01-01 16:39:59</th>\n",
       "      <td>-0.01</td>\n",
       "      <td>-0.01</td>\n",
       "    </tr>\n",
       "    <tr>\n",
       "      <th>2024-01-01 17:24:59</th>\n",
       "      <td>0.01</td>\n",
       "      <td>0.01</td>\n",
       "    </tr>\n",
       "    <tr>\n",
       "      <th>2024-01-01 17:39:59</th>\n",
       "      <td>-0.01</td>\n",
       "      <td>-0.01</td>\n",
       "    </tr>\n",
       "    <tr>\n",
       "      <th>2024-01-01 17:54:59</th>\n",
       "      <td>0.01</td>\n",
       "      <td>0.01</td>\n",
       "    </tr>\n",
       "    <tr>\n",
       "      <th>2024-01-01 21:34:59</th>\n",
       "      <td>-0.01</td>\n",
       "      <td>-0.01</td>\n",
       "    </tr>\n",
       "    <tr>\n",
       "      <th>2024-01-01 23:09:59</th>\n",
       "      <td>0.01</td>\n",
       "      <td>0.01</td>\n",
       "    </tr>\n",
       "  </tbody>\n",
       "</table>\n",
       "</div>"
      ],
      "text/plain": [
       "                     BTCUSDT  BTCUSDT\n",
       "2024-01-01 02:19:59    -0.01    -0.01\n",
       "2024-01-01 04:49:59     0.01     0.01\n",
       "2024-01-01 05:34:59    -0.01    -0.01\n",
       "2024-01-01 06:24:59     0.01     0.01\n",
       "2024-01-01 11:34:59    -0.01    -0.01\n",
       "2024-01-01 12:19:59     0.01     0.01\n",
       "2024-01-01 13:09:59    -0.01    -0.01\n",
       "2024-01-01 13:24:59     0.01     0.01\n",
       "2024-01-01 14:09:59    -0.01    -0.01\n",
       "2024-01-01 15:24:59     0.01     0.01\n",
       "2024-01-01 16:39:59    -0.01    -0.01\n",
       "2024-01-01 17:24:59     0.01     0.01\n",
       "2024-01-01 17:39:59    -0.01    -0.01\n",
       "2024-01-01 17:54:59     0.01     0.01\n",
       "2024-01-01 21:34:59    -0.01    -0.01\n",
       "2024-01-01 23:09:59     0.01     0.01"
      ]
     },
     "execution_count": 28,
     "metadata": {},
     "output_type": "execute_result"
    }
   ],
   "source": [
    "scols(s1, s2)"
   ]
  },
  {
   "cell_type": "code",
   "execution_count": 29,
   "metadata": {},
   "outputs": [
    {
     "data": {
      "application/vnd.jupyter.widget-view+json": {
       "model_id": "e4777b6357c644cb97330518445b7039",
       "version_major": 2,
       "version_minor": 0
      },
      "text/plain": [
       "  0%|          | 0/3 [00:00<?, ?it/s]"
      ]
     },
     "metadata": {},
     "output_type": "display_data"
    },
    {
     "data": {
      "application/vnd.jupyter.widget-view+json": {
       "model_id": "00e84ad64d51423c9ecf643439138d8d",
       "version_major": 2,
       "version_minor": 0
      },
      "text/plain": [
       "  0%|          | 0/1156 [00:00<?, ?it/s]"
      ]
     },
     "metadata": {},
     "output_type": "display_data"
    },
    {
     "data": {
      "application/vnd.jupyter.widget-view+json": {
       "model_id": "fd7d4d8ebb5e432c81b8ecac651d0c4a",
       "version_major": 2,
       "version_minor": 0
      },
      "text/plain": [
       "  0%|          | 0/1112 [00:00<?, ?it/s]"
      ]
     },
     "metadata": {},
     "output_type": "display_data"
    },
    {
     "data": {
      "application/vnd.jupyter.widget-view+json": {
       "model_id": "97b5f8a024c44a5da59a2da3e0400275",
       "version_major": 2,
       "version_minor": 0
      },
      "text/plain": [
       "  0%|          | 0/1112 [00:00<?, ?it/s]"
      ]
     },
     "metadata": {},
     "output_type": "display_data"
    }
   ],
   "source": [
    "rep1 = simulate(\n",
    "    {\n",
    "        # - generated signals as series\n",
    "        \"As Strategy\": TestStrategy(timeframe=\"5Min\", fast_period=5, slow_period=15),\n",
    "        \"Signals 1\": s1,\n",
    "        \"Signals 2\": s2,\n",
    "    },\n",
    "\n",
    "    r, 10000, [\"BINANCE.UM:BTCUSDT\"], \n",
    "    dict(type=\"ohlc\", timeframe=\"5Min\", nback=0),\n",
    "    \"5Min -1Sec\",\n",
    "    \"vip0_usdt\", \n",
    "    \"2024-01-01\", \"2024-01-02\", \n",
    ")"
   ]
  },
  {
   "cell_type": "code",
   "execution_count": 30,
   "metadata": {},
   "outputs": [
    {
     "name": "stderr",
     "output_type": "stream",
     "text": [
      "c:\\Users\\dmitr\\devs\\Qubx\\.venv\\Lib\\site-packages\\scipy\\stats\\_distn_infrastructure.py:2246: RuntimeWarning:\n",
      "\n",
      "invalid value encountered in multiply\n",
      "\n",
      "c:\\Users\\dmitr\\devs\\Qubx\\.venv\\Lib\\site-packages\\scipy\\stats\\_distn_infrastructure.py:2247: RuntimeWarning:\n",
      "\n",
      "invalid value encountered in multiply\n",
      "\n",
      "c:\\Users\\dmitr\\devs\\Qubx\\.venv\\Lib\\site-packages\\scipy\\stats\\_distn_infrastructure.py:2246: RuntimeWarning:\n",
      "\n",
      "invalid value encountered in multiply\n",
      "\n",
      "c:\\Users\\dmitr\\devs\\Qubx\\.venv\\Lib\\site-packages\\scipy\\stats\\_distn_infrastructure.py:2247: RuntimeWarning:\n",
      "\n",
      "invalid value encountered in multiply\n",
      "\n"
     ]
    },
    {
     "data": {
      "text/html": [
       "<div>\n",
       "<style scoped>\n",
       "    .dataframe tbody tr th:only-of-type {\n",
       "        vertical-align: middle;\n",
       "    }\n",
       "\n",
       "    .dataframe tbody tr th {\n",
       "        vertical-align: top;\n",
       "    }\n",
       "\n",
       "    .dataframe thead th {\n",
       "        text-align: right;\n",
       "    }\n",
       "</style>\n",
       "<table border=\"1\" class=\"dataframe\">\n",
       "  <thead>\n",
       "    <tr style=\"text-align: right;\">\n",
       "      <th></th>\n",
       "      <th>Gain</th>\n",
       "      <th>Cagr</th>\n",
       "      <th>Sharpe</th>\n",
       "      <th>Qr</th>\n",
       "      <th>Max dd pct</th>\n",
       "      <th>Mdd usd</th>\n",
       "      <th>Sortino</th>\n",
       "      <th>Calmar</th>\n",
       "      <th>Tail ratio</th>\n",
       "      <th>Stability</th>\n",
       "      <th>Var</th>\n",
       "      <th>Avg return</th>\n",
       "      <th>Fees</th>\n",
       "      <th>Execs</th>\n",
       "    </tr>\n",
       "  </thead>\n",
       "  <tbody>\n",
       "    <tr>\n",
       "      <th>/As Strategy</th>\n",
       "      <td>9.083837</td>\n",
       "      <td>0.180225</td>\n",
       "      <td>14.859306</td>\n",
       "      <td>0.320736</td>\n",
       "      <td>0.07263</td>\n",
       "      <td>7.266157</td>\n",
       "      <td>0.0</td>\n",
       "      <td>0.0</td>\n",
       "      <td>10.002917</td>\n",
       "      <td>1.0</td>\n",
       "      <td>2.250021</td>\n",
       "      <td>0.045417</td>\n",
       "      <td>6.632663</td>\n",
       "      <td>16.0</td>\n",
       "    </tr>\n",
       "    <tr>\n",
       "      <th>/Signals 1</th>\n",
       "      <td>4.101470</td>\n",
       "      <td>0.161454</td>\n",
       "      <td>0.000000</td>\n",
       "      <td>0.205300</td>\n",
       "      <td>0.07263</td>\n",
       "      <td>7.266157</td>\n",
       "      <td>0.0</td>\n",
       "      <td>0.0</td>\n",
       "      <td>1.000000</td>\n",
       "      <td>0.0</td>\n",
       "      <td>0.000000</td>\n",
       "      <td>0.041015</td>\n",
       "      <td>6.195530</td>\n",
       "      <td>16.0</td>\n",
       "    </tr>\n",
       "    <tr>\n",
       "      <th>/Signals 2</th>\n",
       "      <td>4.101470</td>\n",
       "      <td>0.161454</td>\n",
       "      <td>0.000000</td>\n",
       "      <td>0.205300</td>\n",
       "      <td>0.07263</td>\n",
       "      <td>7.266157</td>\n",
       "      <td>0.0</td>\n",
       "      <td>0.0</td>\n",
       "      <td>1.000000</td>\n",
       "      <td>0.0</td>\n",
       "      <td>0.000000</td>\n",
       "      <td>0.041015</td>\n",
       "      <td>6.195530</td>\n",
       "      <td>16.0</td>\n",
       "    </tr>\n",
       "  </tbody>\n",
       "</table>\n",
       "</div>"
      ],
      "text/plain": [
       "                  Gain      Cagr     Sharpe        Qr  Max dd pct   Mdd usd  \\\n",
       "/As Strategy  9.083837  0.180225  14.859306  0.320736     0.07263  7.266157   \n",
       "/Signals 1    4.101470  0.161454   0.000000  0.205300     0.07263  7.266157   \n",
       "/Signals 2    4.101470  0.161454   0.000000  0.205300     0.07263  7.266157   \n",
       "\n",
       "              Sortino  Calmar  Tail ratio  Stability       Var  Avg return  \\\n",
       "/As Strategy      0.0     0.0   10.002917        1.0  2.250021    0.045417   \n",
       "/Signals 1        0.0     0.0    1.000000        0.0  0.000000    0.041015   \n",
       "/Signals 2        0.0     0.0    1.000000        0.0  0.000000    0.041015   \n",
       "\n",
       "                  Fees  Execs  \n",
       "/As Strategy  6.632663   16.0  \n",
       "/Signals 1    6.195530   16.0  \n",
       "/Signals 2    6.195530   16.0  "
      ]
     },
     "execution_count": 30,
     "metadata": {},
     "output_type": "execute_result"
    },
    {
     "data": {
      "image/png": "[encoded data removed]",
      "text/plain": [
       "<Figure size 960x400 with 1 Axes>"
      ]
     },
     "metadata": {},
     "output_type": "display_data"
    }
   ],
   "source": [
    "tearsheet(rep1)"
   ]
  },
  {
   "cell_type": "code",
   "execution_count": 31,
   "metadata": {},
   "outputs": [
    {
     "data": {
      "text/plain": [
       "True"
      ]
     },
     "execution_count": 31,
     "metadata": {},
     "output_type": "execute_result"
    }
   ],
   "source": [
    "all(rep1[0].executions_log[['filled_qty', 'price', 'side']] == rep1[1].executions_log[['filled_qty', 'price', 'side']])"
   ]
  },
  {
   "cell_type": "code",
   "execution_count": 32,
   "metadata": {},
   "outputs": [
    {
     "data": {
      "application/vnd.plotly.v1+json": {
       "config": {
        "plotlyServerURL": "https://plot.ly"
       },
       "data": [
        {
         "fill": "tozeroy",
         "line": {
          "color": "green",
          "width": 1
         },
         "mode": "lines",
         "name": "Total_PnL",
         "type": "scatter",
         "uid": "5525e0dc-8292-437f-aa4d-dc5ed108b18e",
         "x": [
          "2024-01-01T00:00:00",
          "2024-01-01T00:05:00",
          "2024-01-01T00:10:00",
          "2024-01-01T00:15:00",
          "2024-01-01T00:20:00",
          "2024-01-01T00:25:00",
          "2024-01-01T00:30:00",
          "2024-01-01T00:35:00",
          "2024-01-01T00:40:00",
          "2024-01-01T00:45:00",
          "2024-01-01T00:50:00",
          "2024-01-01T00:55:00",
          "2024-01-01T01:00:00",
          "2024-01-01T01:05:00",
          "2024-01-01T01:10:00",
          "2024-01-01T01:15:00",
          "2024-01-01T01:20:00",
          "2024-01-01T01:25:00",
          "2024-01-01T01:30:00",
          "2024-01-01T01:35:00",
          "2024-01-01T01:40:00",
          "2024-01-01T01:45:00",
          "2024-01-01T01:50:00",
          "2024-01-01T01:55:00",
          "2024-01-01T02:00:00",
          "2024-01-01T02:05:00",
          "2024-01-01T02:10:00",
          "2024-01-01T02:15:00",
          "2024-01-01T02:20:00",
          "2024-01-01T02:25:00",
          "2024-01-01T02:30:00",
          "2024-01-01T02:35:00",
          "2024-01-01T02:40:00",
          "2024-01-01T02:45:00",
          "2024-01-01T02:50:00",
          "2024-01-01T02:55:00",
          "2024-01-01T03:00:00",
          "2024-01-01T03:05:00",
          "2024-01-01T03:10:00",
          "2024-01-01T03:15:00",
          "2024-01-01T03:20:00",
          "2024-01-01T03:25:00",
          "2024-01-01T03:30:00",
          "2024-01-01T03:35:00",
          "2024-01-01T03:40:00",
          "2024-01-01T03:45:00",
          "2024-01-01T03:50:00",
          "2024-01-01T03:55:00",
          "2024-01-01T04:00:00",
          "2024-01-01T04:05:00",
          "2024-01-01T04:10:00",
          "2024-01-01T04:15:00",
          "2024-01-01T04:20:00",
          "2024-01-01T04:25:00",
          "2024-01-01T04:30:00",
          "2024-01-01T04:35:00",
          "2024-01-01T04:40:00",
          "2024-01-01T04:45:00",
          "2024-01-01T04:50:00",
          "2024-01-01T04:55:00",
          "2024-01-01T05:00:00",
          "2024-01-01T05:05:00",
          "2024-01-01T05:10:00",
          "2024-01-01T05:15:00",
          "2024-01-01T05:20:00",
          "2024-01-01T05:25:00",
          "2024-01-01T05:30:00",
          "2024-01-01T05:35:00",
          "2024-01-01T05:40:00",
          "2024-01-01T05:45:00",
          "2024-01-01T05:50:00",
          "2024-01-01T05:55:00",
          "2024-01-01T06:00:00",
          "2024-01-01T06:05:00",
          "2024-01-01T06:10:00",
          "2024-01-01T06:15:00",
          "2024-01-01T06:20:00",
          "2024-01-01T06:25:00",
          "2024-01-01T06:30:00",
          "2024-01-01T06:35:00",
          "2024-01-01T06:40:00",
          "2024-01-01T06:45:00",
          "2024-01-01T06:50:00",
          "2024-01-01T06:55:00",
          "2024-01-01T07:00:00",
          "2024-01-01T07:05:00",
          "2024-01-01T07:10:00",
          "2024-01-01T07:15:00",
          "2024-01-01T07:20:00",
          "2024-01-01T07:25:00",
          "2024-01-01T07:30:00",
          "2024-01-01T07:35:00",
          "2024-01-01T07:40:00",
          "2024-01-01T07:45:00",
          "2024-01-01T07:50:00",
          "2024-01-01T07:55:00",
          "2024-01-01T08:00:00",
          "2024-01-01T08:05:00",
          "2024-01-01T08:10:00",
          "2024-01-01T08:15:00",
          "2024-01-01T08:20:00",
          "2024-01-01T08:25:00",
          "2024-01-01T08:30:00",
          "2024-01-01T08:35:00",
          "2024-01-01T08:40:00",
          "2024-01-01T08:45:00",
          "2024-01-01T08:50:00",
          "2024-01-01T08:55:00",
          "2024-01-01T09:00:00",
          "2024-01-01T09:05:00",
          "2024-01-01T09:10:00",
          "2024-01-01T09:15:00",
          "2024-01-01T09:20:00",
          "2024-01-01T09:25:00",
          "2024-01-01T09:30:00",
          "2024-01-01T09:35:00",
          "2024-01-01T09:40:00",
          "2024-01-01T09:45:00",
          "2024-01-01T09:50:00",
          "2024-01-01T09:55:00",
          "2024-01-01T10:00:00",
          "2024-01-01T10:05:00",
          "2024-01-01T10:10:00",
          "2024-01-01T10:15:00",
          "2024-01-01T10:20:00",
          "2024-01-01T10:25:00",
          "2024-01-01T10:30:00",
          "2024-01-01T10:35:00",
          "2024-01-01T10:40:00",
          "2024-01-01T10:45:00",
          "2024-01-01T10:50:00",
          "2024-01-01T10:55:00",
          "2024-01-01T11:00:00",
          "2024-01-01T11:05:00",
          "2024-01-01T11:10:00",
          "2024-01-01T11:15:00",
          "2024-01-01T11:20:00",
          "2024-01-01T11:25:00",
          "2024-01-01T11:30:00",
          "2024-01-01T11:35:00",
          "2024-01-01T11:40:00",
          "2024-01-01T11:45:00",
          "2024-01-01T11:50:00",
          "2024-01-01T11:55:00",
          "2024-01-01T12:00:00",
          "2024-01-01T12:05:00",
          "2024-01-01T12:10:00",
          "2024-01-01T12:15:00",
          "2024-01-01T12:20:00",
          "2024-01-01T12:25:00",
          "2024-01-01T12:30:00",
          "2024-01-01T12:35:00",
          "2024-01-01T12:40:00",
          "2024-01-01T12:45:00",
          "2024-01-01T12:50:00",
          "2024-01-01T12:55:00",
          "2024-01-01T13:00:00",
          "2024-01-01T13:05:00",
          "2024-01-01T13:10:00",
          "2024-01-01T13:15:00",
          "2024-01-01T13:20:00",
          "2024-01-01T13:25:00",
          "2024-01-01T13:30:00",
          "2024-01-01T13:35:00",
          "2024-01-01T13:40:00",
          "2024-01-01T13:45:00",
          "2024-01-01T13:50:00",
          "2024-01-01T13:55:00",
          "2024-01-01T14:00:00",
          "2024-01-01T14:05:00",
          "2024-01-01T14:10:00",
          "2024-01-01T14:15:00",
          "2024-01-01T14:20:00",
          "2024-01-01T14:25:00",
          "2024-01-01T14:30:00",
          "2024-01-01T14:35:00",
          "2024-01-01T14:40:00",
          "2024-01-01T14:45:00",
          "2024-01-01T14:50:00",
          "2024-01-01T14:55:00",
          "2024-01-01T15:00:00",
          "2024-01-01T15:05:00",
          "2024-01-01T15:10:00",
          "2024-01-01T15:15:00",
          "2024-01-01T15:20:00",
          "2024-01-01T15:25:00",
          "2024-01-01T15:30:00",
          "2024-01-01T15:35:00",
          "2024-01-01T15:40:00",
          "2024-01-01T15:45:00",
          "2024-01-01T15:50:00",
          "2024-01-01T15:55:00",
          "2024-01-01T16:00:00",
          "2024-01-01T16:05:00",
          "2024-01-01T16:10:00",
          "2024-01-01T16:15:00",
          "2024-01-01T16:20:00",
          "2024-01-01T16:25:00",
          "2024-01-01T16:30:00",
          "2024-01-01T16:35:00",
          "2024-01-01T16:40:00",
          "2024-01-01T16:45:00",
          "2024-01-01T16:50:00",
          "2024-01-01T16:55:00",
          "2024-01-01T17:00:00",
          "2024-01-01T17:05:00",
          "2024-01-01T17:10:00",
          "2024-01-01T17:15:00",
          "2024-01-01T17:20:00",
          "2024-01-01T17:25:00",
          "2024-01-01T17:30:00",
          "2024-01-01T17:35:00",
          "2024-01-01T17:40:00",
          "2024-01-01T17:45:00",
          "2024-01-01T17:50:00",
          "2024-01-01T17:55:00",
          "2024-01-01T18:00:00",
          "2024-01-01T18:05:00",
          "2024-01-01T18:10:00",
          "2024-01-01T18:15:00",
          "2024-01-01T18:20:00",
          "2024-01-01T18:25:00",
          "2024-01-01T18:30:00",
          "2024-01-01T18:35:00",
          "2024-01-01T18:40:00",
          "2024-01-01T18:45:00",
          "2024-01-01T18:50:00",
          "2024-01-01T18:55:00",
          "2024-01-01T19:00:00",
          "2024-01-01T19:05:00",
          "2024-01-01T19:10:00",
          "2024-01-01T19:15:00",
          "2024-01-01T19:20:00",
          "2024-01-01T19:25:00",
          "2024-01-01T19:30:00",
          "2024-01-01T19:35:00",
          "2024-01-01T19:40:00",
          "2024-01-01T19:45:00",
          "2024-01-01T19:50:00",
          "2024-01-01T19:55:00",
          "2024-01-01T20:00:00",
          "2024-01-01T20:05:00",
          "2024-01-01T20:10:00",
          "2024-01-01T20:15:00",
          "2024-01-01T20:20:00",
          "2024-01-01T20:25:00",
          "2024-01-01T20:30:00",
          "2024-01-01T20:35:00",
          "2024-01-01T20:40:00",
          "2024-01-01T20:45:00",
          "2024-01-01T20:50:00",
          "2024-01-01T20:55:00",
          "2024-01-01T21:00:00",
          "2024-01-01T21:05:00",
          "2024-01-01T21:10:00",
          "2024-01-01T21:15:00",
          "2024-01-01T21:20:00",
          "2024-01-01T21:25:00",
          "2024-01-01T21:30:00",
          "2024-01-01T21:35:00",
          "2024-01-01T21:40:00",
          "2024-01-01T21:45:00",
          "2024-01-01T21:50:00",
          "2024-01-01T21:55:00",
          "2024-01-01T22:00:00",
          "2024-01-01T22:05:00",
          "2024-01-01T22:10:00",
          "2024-01-01T22:15:00",
          "2024-01-01T22:20:00",
          "2024-01-01T22:25:00",
          "2024-01-01T22:30:00",
          "2024-01-01T22:35:00",
          "2024-01-01T22:40:00",
          "2024-01-01T22:45:00",
          "2024-01-01T22:50:00",
          "2024-01-01T22:55:00",
          "2024-01-01T23:00:00",
          "2024-01-01T23:05:00",
          "2024-01-01T23:10:00",
          "2024-01-01T23:15:00",
          "2024-01-01T23:20:00",
          "2024-01-01T23:25:00",
          "2024-01-01T23:30:00",
          "2024-01-01T23:35:00",
          "2024-01-01T23:40:00",
          "2024-01-01T23:45:00",
          "2024-01-01T23:50:00",
          "2024-01-01T23:55:00",
          "2024-01-02T00:00:00"
         ],
         "xaxis": "x",
         "y": [
          0,
          0,
          0,
          0,
          0,
          0,
          0,
          0,
          0,
          0,
          0,
          0,
          0,
          0,
          0,
          0,
          0,
          0,
          0,
          0,
          0,
          0,
          0,
          0,
          0,
          0,
          0,
          0,
          -0.2148792499992851,
          -0.31287924999924144,
          -0.21087925000028918,
          -0.8828792500007694,
          -0.5578792500000418,
          -0.21687924999969255,
          0.08812075000059849,
          -0.5168792500007839,
          -0.659879250000813,
          -0.3358792500002892,
          -0.2118792500004929,
          0.10312075000001641,
          0.47912075000022014,
          0.8081207499999437,
          0.8761207499992452,
          1.0561207499995362,
          1.2801207499996963,
          2.226120749999609,
          1.7461207500000455,
          2.013120749999871,
          1.847120750000613,
          1.6151207500006421,
          1.7031207500003802,
          2.299120749999929,
          2.5181207500008895,
          2.024120750000293,
          2.116120750000846,
          1.939120749999347,
          1.7861207500009186,
          2.071120750000773,
          1.2067052500005957,
          1.3147052500007703,
          1.6567052499995043,
          0.8797052499994606,
          1.0497052499995334,
          1.1847052499997517,
          1.1917052499993588,
          0.9747052500006248,
          0.5527052500001446,
          0.30576475000088976,
          0.6407647500000166,
          0.3897647499998129,
          1.017764750000424,
          1.131764750000002,
          1.02176474999942,
          0.657764749999842,
          0.5387647499992454,
          0.6647647499994491,
          0.038764749999245396,
          -0.14520475000063016,
          -0.12320474999978615,
          0.033795249999457155,
          0.2207952499993553,
          0.44479524999951536,
          0.4527952499993262,
          0.7867952500000683,
          0.6197952500006068,
          1.0117952500004321,
          1.4267952499994863,
          1.2077952500003448,
          1.1967952499999228,
          1.2407952499997918,
          1.6347952500000247,
          1.6807952500003012,
          1.6317952499994135,
          1.1397952499992243,
          1.3527952499989624,
          1.4547952499997336,
          1.6567952499990497,
          1.3347952500007523,
          1.6047952499993698,
          1.9047952500004612,
          1.8857952500002284,
          1.8167952500007232,
          1.585795249999137,
          1.3377952499995445,
          1.464795249999952,
          1.6907952500005194,
          2.0137952499990206,
          2.199795250000534,
          2.2677952499998355,
          2.485795250000592,
          2.180795250000301,
          2.4767952500005777,
          2.6647952500006795,
          3.2647952499992243,
          2.614795249999588,
          3.3587952500001848,
          3.7097952500007523,
          3.137795250000636,
          3.1727952500004903,
          3.2447952500006068,
          3.273795249999239,
          3.2447952500006068,
          3.2867952500000683,
          3.386795250000432,
          3.129795249999006,
          3.534795249999661,
          3.4227952500004903,
          3.6537952500002575,
          3.577795249999326,
          3.9437952499993116,
          3.996795249999195,
          3.9407952500005194,
          3.662795250000272,
          4.318795249999312,
          4.246795249999195,
          3.685795249999501,
          3.72479525000017,
          3.4257952499992825,
          3.5357952499998646,
          2.774479749999955,
          2.8024797500002023,
          3.116479750000508,
          3.1504797500001587,
          2.7384797499998967,
          2.3124797500004206,
          2.3494797500006825,
          2.7104797499996494,
          2.899479749999955,
          2.1559742499994172,
          2.391974250000203,
          2.3929742500004068,
          2.4519742499996937,
          3.355974250000145,
          3.04997424999965,
          2.6689742500002467,
          2.410974250000436,
          1.9719742500001303,
          2.1409742499999993,
          1.9981997499999125,
          1.8471997500000725,
          1.8191997499998251,
          1.2991542500003561,
          1.2821542500005307,
          1.1331542499992793,
          1.2121542499990028,
          1.5261542499993084,
          1.3051542499997595,
          1.3451542500006326,
          1.2931542499991338,
          0.5181542499994976,
          0.4395417499999894,
          0.6905417500001931,
          0.5535417499995674,
          1.0435417499993491,
          0.9695417500006442,
          0.6685417499993491,
          1.0375417499999458,
          0.7795417500001349,
          1.2305417499992473,
          1.0005417499996838,
          1.0975417499994364,
          1.257541749999291,
          0.808541750000586,
          0.7395417499992618,
          0.7525417500000913,
          -0.44853074999991804,
          -0.8685307499999908,
          -1.4685307500003546,
          -1.1935307500007184,
          0.8364692499999364,
          -0.040530750000471016,
          0.1634692499992525,
          0.1604692500004603,
          -0.018530749999627005,
          0.6524692500006495,
          0.7804692499994417,
          0.19046924999929615,
          -0.9585307500001363,
          -0.48853075000079116,
          -0.4005307500010531,
          -0.34813225000107195,
          -0.3241322499998205,
          -0.16113224999935483,
          0.26586775000032503,
          0.1578677500001504,
          -0.09213224999984959,
          -0.14713225000014063,
          -0.3461322500006645,
          -0.1351322499995149,
          -0.4834427500009042,
          -0.6344427500007441,
          -0.8424427499994636,
          -1.3293352500004403,
          -1.6053352500002802,
          -2.3353352499998437,
          -2.890361750000011,
          -2.9473617500007094,
          -1.5933617499995307,
          -0.9183617500002583,
          0.06663825000032375,
          -0.1173617500007822,
          0.17963824999969802,
          -0.456361750000724,
          -0.5603617500000837,
          -0.13436175000060757,
          0.41263824999987264,
          0.3326382499999454,
          0.28363824999905773,
          0.06263824999950884,
          0.41363825000007637,
          0.6496382499990432,
          0.7806382500002655,
          0.7306382499991741,
          1.0316382500004693,
          1.5866382499989413,
          2.613638249998985,
          2.882638249999218,
          2.84163824999996,
          3.573638249999931,
          4.260638249999829,
          4.1446382499998435,
          5.983638249999785,
          6.007638249999218,
          5.505638250000629,
          5.167638249999072,
          5.4426382500005275,
          6.085638250000557,
          5.8506382499999745,
          5.710638250000557,
          7.266638249999232,
          6.791638249998869,
          6.10463824999897,
          6.114638249999189,
          6.53963825000028,
          6.1116382500003965,
          6.39363824999964,
          6.71663824999996,
          5.870638250000411,
          5.6486382499988395,
          4.813469749999058,
          5.577469750000091,
          6.081469749999087,
          5.62146974999996,
          4.784469750000426,
          4.685469750000266,
          5.292469750000237,
          5.314469749999262,
          5.769469749999189,
          6.472469750000528,
          6.125469749998956,
          6.19946974999948,
          5.908469750000222,
          5.585469749999902,
          6.433469749999858,
          6.3114697500004695,
          6.252469749999364,
          5.6424697500006005,
          4.101469749999524,
          3.9128372499999386,
          4.117837249999866,
          4.679837249999764,
          5.535837249999531,
          7.3728372499990655,
          7.559837249998964,
          8.500837249999677,
          8.179837249999764,
          8.026837249999517,
          8.67083724999975,
          9.083837250000215
         ],
         "yaxis": "y"
        },
        {
         "fill": "tozeroy",
         "line": {
          "width": 1
         },
         "mode": "lines",
         "name": "Drawdown_1",
         "type": "scatter",
         "uid": "1e77adfa-980c-491d-a490-bb274d6b999b",
         "x": [
          "2024-01-01T00:00:00",
          "2024-01-01T00:05:00",
          "2024-01-01T00:10:00",
          "2024-01-01T00:15:00",
          "2024-01-01T00:20:00",
          "2024-01-01T00:25:00",
          "2024-01-01T00:30:00",
          "2024-01-01T00:35:00",
          "2024-01-01T00:40:00",
          "2024-01-01T00:45:00",
          "2024-01-01T00:50:00",
          "2024-01-01T00:55:00",
          "2024-01-01T01:00:00",
          "2024-01-01T01:05:00",
          "2024-01-01T01:10:00",
          "2024-01-01T01:15:00",
          "2024-01-01T01:20:00",
          "2024-01-01T01:25:00",
          "2024-01-01T01:30:00",
          "2024-01-01T01:35:00",
          "2024-01-01T01:40:00",
          "2024-01-01T01:45:00",
          "2024-01-01T01:50:00",
          "2024-01-01T01:55:00",
          "2024-01-01T02:00:00",
          "2024-01-01T02:05:00",
          "2024-01-01T02:10:00",
          "2024-01-01T02:15:00",
          "2024-01-01T02:20:00",
          "2024-01-01T02:25:00",
          "2024-01-01T02:30:00",
          "2024-01-01T02:35:00",
          "2024-01-01T02:40:00",
          "2024-01-01T02:45:00",
          "2024-01-01T02:50:00",
          "2024-01-01T02:55:00",
          "2024-01-01T03:00:00",
          "2024-01-01T03:05:00",
          "2024-01-01T03:10:00",
          "2024-01-01T03:15:00",
          "2024-01-01T03:20:00",
          "2024-01-01T03:25:00",
          "2024-01-01T03:30:00",
          "2024-01-01T03:35:00",
          "2024-01-01T03:40:00",
          "2024-01-01T03:45:00",
          "2024-01-01T03:50:00",
          "2024-01-01T03:55:00",
          "2024-01-01T04:00:00",
          "2024-01-01T04:05:00",
          "2024-01-01T04:10:00",
          "2024-01-01T04:15:00",
          "2024-01-01T04:20:00",
          "2024-01-01T04:25:00",
          "2024-01-01T04:30:00",
          "2024-01-01T04:35:00",
          "2024-01-01T04:40:00",
          "2024-01-01T04:45:00",
          "2024-01-01T04:50:00",
          "2024-01-01T04:55:00",
          "2024-01-01T05:00:00",
          "2024-01-01T05:05:00",
          "2024-01-01T05:10:00",
          "2024-01-01T05:15:00",
          "2024-01-01T05:20:00",
          "2024-01-01T05:25:00",
          "2024-01-01T05:30:00",
          "2024-01-01T05:35:00",
          "2024-01-01T05:40:00",
          "2024-01-01T05:45:00",
          "2024-01-01T05:50:00",
          "2024-01-01T05:55:00",
          "2024-01-01T06:00:00",
          "2024-01-01T06:05:00",
          "2024-01-01T06:10:00",
          "2024-01-01T06:15:00",
          "2024-01-01T06:20:00",
          "2024-01-01T06:25:00",
          "2024-01-01T06:30:00",
          "2024-01-01T06:35:00",
          "2024-01-01T06:40:00",
          "2024-01-01T06:45:00",
          "2024-01-01T06:50:00",
          "2024-01-01T06:55:00",
          "2024-01-01T07:00:00",
          "2024-01-01T07:05:00",
          "2024-01-01T07:10:00",
          "2024-01-01T07:15:00",
          "2024-01-01T07:20:00",
          "2024-01-01T07:25:00",
          "2024-01-01T07:30:00",
          "2024-01-01T07:35:00",
          "2024-01-01T07:40:00",
          "2024-01-01T07:45:00",
          "2024-01-01T07:50:00",
          "2024-01-01T07:55:00",
          "2024-01-01T08:00:00",
          "2024-01-01T08:05:00",
          "2024-01-01T08:10:00",
          "2024-01-01T08:15:00",
          "2024-01-01T08:20:00",
          "2024-01-01T08:25:00",
          "2024-01-01T08:30:00",
          "2024-01-01T08:35:00",
          "2024-01-01T08:40:00",
          "2024-01-01T08:45:00",
          "2024-01-01T08:50:00",
          "2024-01-01T08:55:00",
          "2024-01-01T09:00:00",
          "2024-01-01T09:05:00",
          "2024-01-01T09:10:00",
          "2024-01-01T09:15:00",
          "2024-01-01T09:20:00",
          "2024-01-01T09:25:00",
          "2024-01-01T09:30:00",
          "2024-01-01T09:35:00",
          "2024-01-01T09:40:00",
          "2024-01-01T09:45:00",
          "2024-01-01T09:50:00",
          "2024-01-01T09:55:00",
          "2024-01-01T10:00:00",
          "2024-01-01T10:05:00",
          "2024-01-01T10:10:00",
          "2024-01-01T10:15:00",
          "2024-01-01T10:20:00",
          "2024-01-01T10:25:00",
          "2024-01-01T10:30:00",
          "2024-01-01T10:35:00",
          "2024-01-01T10:40:00",
          "2024-01-01T10:45:00",
          "2024-01-01T10:50:00",
          "2024-01-01T10:55:00",
          "2024-01-01T11:00:00",
          "2024-01-01T11:05:00",
          "2024-01-01T11:10:00",
          "2024-01-01T11:15:00",
          "2024-01-01T11:20:00",
          "2024-01-01T11:25:00",
          "2024-01-01T11:30:00",
          "2024-01-01T11:35:00",
          "2024-01-01T11:40:00",
          "2024-01-01T11:45:00",
          "2024-01-01T11:50:00",
          "2024-01-01T11:55:00",
          "2024-01-01T12:00:00",
          "2024-01-01T12:05:00",
          "2024-01-01T12:10:00",
          "2024-01-01T12:15:00",
          "2024-01-01T12:20:00",
          "2024-01-01T12:25:00",
          "2024-01-01T12:30:00",
          "2024-01-01T12:35:00",
          "2024-01-01T12:40:00",
          "2024-01-01T12:45:00",
          "2024-01-01T12:50:00",
          "2024-01-01T12:55:00",
          "2024-01-01T13:00:00",
          "2024-01-01T13:05:00",
          "2024-01-01T13:10:00",
          "2024-01-01T13:15:00",
          "2024-01-01T13:20:00",
          "2024-01-01T13:25:00",
          "2024-01-01T13:30:00",
          "2024-01-01T13:35:00",
          "2024-01-01T13:40:00",
          "2024-01-01T13:45:00",
          "2024-01-01T13:50:00",
          "2024-01-01T13:55:00",
          "2024-01-01T14:00:00",
          "2024-01-01T14:05:00",
          "2024-01-01T14:10:00",
          "2024-01-01T14:15:00",
          "2024-01-01T14:20:00",
          "2024-01-01T14:25:00",
          "2024-01-01T14:30:00",
          "2024-01-01T14:35:00",
          "2024-01-01T14:40:00",
          "2024-01-01T14:45:00",
          "2024-01-01T14:50:00",
          "2024-01-01T14:55:00",
          "2024-01-01T15:00:00",
          "2024-01-01T15:05:00",
          "2024-01-01T15:10:00",
          "2024-01-01T15:15:00",
          "2024-01-01T15:20:00",
          "2024-01-01T15:25:00",
          "2024-01-01T15:30:00",
          "2024-01-01T15:35:00",
          "2024-01-01T15:40:00",
          "2024-01-01T15:45:00",
          "2024-01-01T15:50:00",
          "2024-01-01T15:55:00",
          "2024-01-01T16:00:00",
          "2024-01-01T16:05:00",
          "2024-01-01T16:10:00",
          "2024-01-01T16:15:00",
          "2024-01-01T16:20:00",
          "2024-01-01T16:25:00",
          "2024-01-01T16:30:00",
          "2024-01-01T16:35:00",
          "2024-01-01T16:40:00",
          "2024-01-01T16:45:00",
          "2024-01-01T16:50:00",
          "2024-01-01T16:55:00",
          "2024-01-01T17:00:00",
          "2024-01-01T17:05:00",
          "2024-01-01T17:10:00",
          "2024-01-01T17:15:00",
          "2024-01-01T17:20:00",
          "2024-01-01T17:25:00",
          "2024-01-01T17:30:00",
          "2024-01-01T17:35:00",
          "2024-01-01T17:40:00",
          "2024-01-01T17:45:00",
          "2024-01-01T17:50:00",
          "2024-01-01T17:55:00",
          "2024-01-01T18:00:00",
          "2024-01-01T18:05:00",
          "2024-01-01T18:10:00",
          "2024-01-01T18:15:00",
          "2024-01-01T18:20:00",
          "2024-01-01T18:25:00",
          "2024-01-01T18:30:00",
          "2024-01-01T18:35:00",
          "2024-01-01T18:40:00",
          "2024-01-01T18:45:00",
          "2024-01-01T18:50:00",
          "2024-01-01T18:55:00",
          "2024-01-01T19:00:00",
          "2024-01-01T19:05:00",
          "2024-01-01T19:10:00",
          "2024-01-01T19:15:00",
          "2024-01-01T19:20:00",
          "2024-01-01T19:25:00",
          "2024-01-01T19:30:00",
          "2024-01-01T19:35:00",
          "2024-01-01T19:40:00",
          "2024-01-01T19:45:00",
          "2024-01-01T19:50:00",
          "2024-01-01T19:55:00",
          "2024-01-01T20:00:00",
          "2024-01-01T20:05:00",
          "2024-01-01T20:10:00",
          "2024-01-01T20:15:00",
          "2024-01-01T20:20:00",
          "2024-01-01T20:25:00",
          "2024-01-01T20:30:00",
          "2024-01-01T20:35:00",
          "2024-01-01T20:40:00",
          "2024-01-01T20:45:00",
          "2024-01-01T20:50:00",
          "2024-01-01T20:55:00",
          "2024-01-01T21:00:00",
          "2024-01-01T21:05:00",
          "2024-01-01T21:10:00",
          "2024-01-01T21:15:00",
          "2024-01-01T21:20:00",
          "2024-01-01T21:25:00",
          "2024-01-01T21:30:00",
          "2024-01-01T21:35:00",
          "2024-01-01T21:40:00",
          "2024-01-01T21:45:00",
          "2024-01-01T21:50:00",
          "2024-01-01T21:55:00",
          "2024-01-01T22:00:00",
          "2024-01-01T22:05:00",
          "2024-01-01T22:10:00",
          "2024-01-01T22:15:00",
          "2024-01-01T22:20:00",
          "2024-01-01T22:25:00",
          "2024-01-01T22:30:00",
          "2024-01-01T22:35:00",
          "2024-01-01T22:40:00",
          "2024-01-01T22:45:00",
          "2024-01-01T22:50:00",
          "2024-01-01T22:55:00",
          "2024-01-01T23:00:00",
          "2024-01-01T23:05:00",
          "2024-01-01T23:10:00",
          "2024-01-01T23:15:00",
          "2024-01-01T23:20:00",
          "2024-01-01T23:25:00",
          "2024-01-01T23:30:00",
          "2024-01-01T23:35:00",
          "2024-01-01T23:40:00",
          "2024-01-01T23:45:00",
          "2024-01-01T23:50:00",
          "2024-01-01T23:55:00",
          "2024-01-02T00:00:00"
         ],
         "xaxis": "x",
         "y": [
          0,
          0,
          0,
          0,
          0,
          0,
          0,
          0,
          0,
          0,
          0,
          0,
          0,
          0,
          0,
          0,
          0,
          0,
          0,
          0,
          0,
          0,
          0,
          0,
          0,
          0,
          0,
          0,
          -0.2148792499992851,
          -0.31287924999924144,
          -0.21087925000028918,
          -0.8828792500007694,
          -0.5578792500000418,
          -0.21687924999969255,
          0,
          -0.6050000000013824,
          -0.7480000000014115,
          -0.42400000000088767,
          -0.3000000000010914,
          0,
          0,
          0,
          0,
          0,
          0,
          0,
          -0.47999999999956344,
          -0.21299999999973807,
          -0.3789999999989959,
          -0.6109999999989668,
          -0.5229999999992287,
          0,
          0,
          -0.49400000000059663,
          -0.40200000000004366,
          -0.5790000000015425,
          -0.7319999999999709,
          -0.4470000000001164,
          -1.3114155000002938,
          -1.2034155000001192,
          -0.8614155000013852,
          -1.6384155000014289,
          -1.4684155000013561,
          -1.3334155000011378,
          -1.3264155000015307,
          -1.5434155000002647,
          -1.965415500000745,
          -2.2123559999999998,
          -1.8773560000008729,
          -2.1283560000010766,
          -1.5003560000004654,
          -1.3863560000008874,
          -1.4963560000014695,
          -1.8603560000010475,
          -1.9793560000016441,
          -1.8533560000014404,
          -2.479356000001644,
          -2.6633255000015197,
          -2.6413255000006757,
          -2.4843255000014324,
          -2.2973255000015342,
          -2.073325500001374,
          -2.0653255000015633,
          -1.7313255000008212,
          -1.8983255000002828,
          -1.5063255000004574,
          -1.0913255000014033,
          -1.3103255000005447,
          -1.3213255000009667,
          -1.2773255000010977,
          -0.8833255000008648,
          -0.8373255000005884,
          -0.886325500001476,
          -1.3783255000016652,
          -1.1653255000019271,
          -1.0633255000011559,
          -0.8613255000018398,
          -1.1833255000001373,
          -0.9133255000015197,
          -0.6133255000004283,
          -0.6323255000006611,
          -0.7013255000001664,
          -0.9323255000017525,
          -1.180325500001345,
          -1.0533255000009376,
          -0.8273255000003701,
          -0.5043255000018689,
          -0.31832550000035553,
          -0.250325500001054,
          -0.032325500000297325,
          -0.33732550000058836,
          -0.04132550000031188,
          0,
          0,
          -0.6499999999996362,
          0,
          0,
          -0.5720000000001164,
          -0.5370000000002619,
          -0.4650000000001455,
          -0.4360000000015134,
          -0.4650000000001455,
          -0.42300000000068394,
          -0.32300000000032014,
          -0.5800000000017462,
          -0.1750000000010914,
          -0.28700000000026193,
          -0.056000000000494765,
          -0.1320000000014261,
          0,
          0,
          -0.055999999998675776,
          -0.33399999999892316,
          0,
          -0.07200000000011642,
          -0.6329999999998108,
          -0.5939999999991414,
          -0.8930000000000291,
          -0.782999999999447,
          -1.5443154999993567,
          -1.5163154999991093,
          -1.2023154999988037,
          -1.168315499999153,
          -1.580315499999415,
          -2.006315499998891,
          -1.969315499998629,
          -1.6083154999996623,
          -1.4193154999993567,
          -2.1628209999998944,
          -1.9268209999991086,
          -1.9258209999989049,
          -1.866820999999618,
          -0.9628209999991668,
          -1.2688209999996616,
          -1.649820999999065,
          -1.9078209999988758,
          -2.3468209999991814,
          -2.1778209999993123,
          -2.320595499999399,
          -2.471595499999239,
          -2.4995954999994865,
          -3.0196409999989555,
          -3.036640999998781,
          -3.1856410000000324,
          -3.106641000000309,
          -2.7926410000000033,
          -3.013640999999552,
          -2.973640999998679,
          -3.025641000000178,
          -3.800640999999814,
          -3.8792534999993222,
          -3.6282534999991185,
          -3.7652534999997442,
          -3.2752534999999625,
          -3.3492534999986674,
          -3.6502534999999625,
          -3.281253499999366,
          -3.5392534999991767,
          -3.0882535000000644,
          -3.318253499999628,
          -3.221253499999875,
          -3.0612535000000207,
          -3.5102534999987256,
          -3.57925350000005,
          -3.5662534999992204,
          -4.76732599999923,
          -5.187325999999302,
          -5.787325999999666,
          -5.51232600000003,
          -3.482325999999375,
          -4.359325999999783,
          -4.155326000000059,
          -4.158325999998851,
          -4.337325999998939,
          -3.666325999998662,
          -3.53832599999987,
          -4.1283260000000155,
          -5.277325999999448,
          -4.807326000000103,
          -4.719326000000365,
          -4.666927500000384,
          -4.642927499999132,
          -4.4799274999986665,
          -4.052927499998987,
          -4.160927499999161,
          -4.410927499999161,
          -4.465927499999452,
          -4.664927499999976,
          -4.4539274999988265,
          -4.802238000000216,
          -4.953238000000056,
          -5.161237999998775,
          -5.648130499999752,
          -5.924130499999592,
          -6.654130499999155,
          -7.209156999999323,
          -7.266157000000021,
          -5.912156999998842,
          -5.23715699999957,
          -4.252156999998988,
          -4.436157000000094,
          -4.139156999999614,
          -4.775157000000036,
          -4.879156999999395,
          -4.453156999999919,
          -3.906156999999439,
          -3.9861569999993662,
          -4.035157000000254,
          -4.256156999999803,
          -3.9051569999992353,
          -3.6691570000002685,
          -3.538156999999046,
          -3.5881570000001375,
          -3.2871569999988424,
          -2.7321570000003703,
          -1.7051570000003267,
          -1.4361570000000938,
          -1.4771569999993517,
          -0.7451569999993808,
          -0.05815699999948265,
          -0.1741569999994681,
          0,
          0,
          -0.5019999999985885,
          -0.8400000000001455,
          -0.5649999999986903,
          0,
          -0.23500000000058208,
          -0.375,
          0,
          -0.4750000000003638,
          -1.162000000000262,
          -1.1520000000000437,
          -0.7269999999989523,
          -1.1549999999988358,
          -0.8729999999995925,
          -0.5499999999992724,
          -1.3959999999988213,
          -1.618000000000393,
          -2.4531685000001744,
          -1.6891684999991412,
          -1.1851685000001453,
          -1.6451684999992722,
          -2.4821684999988065,
          -2.5811684999989666,
          -1.9741684999989957,
          -1.9521684999999707,
          -1.4971685000000434,
          -0.7941684999987046,
          -1.1411685000002763,
          -1.0671684999997524,
          -1.3581684999990102,
          -1.6811684999993304,
          -0.833168499999374,
          -0.9551684999987629,
          -1.0141684999998688,
          -1.6241684999986319,
          -3.1651684999997087,
          -3.3538009999992937,
          -3.1488009999993665,
          -2.5868009999994683,
          -1.7308009999997012,
          0,
          0,
          0,
          -0.3209999999999127,
          -0.47400000000016007,
          0,
          0
         ],
         "yaxis": "y2"
        }
       ],
       "layout": {
        "dragmode": "zoom",
        "height": 500,
        "hoverdistance": 1000,
        "hovermode": "x unified",
        "margin": {
         "b": 5,
         "l": 5,
         "r": 5,
         "t": 35
        },
        "modebar": {
         "add": [
          "drawline",
          "drawopenpath",
          "drawrect",
          "eraseshape"
         ]
        },
        "newshape": {
         "line": {
          "color": "yellow",
          "width": 1
         }
        },
        "showlegend": false,
        "template": {
         "data": {
          "bar": [
           {
            "error_x": {
             "color": "#f2f5fa"
            },
            "error_y": {
             "color": "#f2f5fa"
            },
            "marker": {
             "line": {
              "color": "rgb(17,17,17)",
              "width": 0.5
             },
             "pattern": {
              "fillmode": "overlay",
              "size": 10,
              "solidity": 0.2
             }
            },
            "type": "bar"
           }
          ],
          "barpolar": [
           {
            "marker": {
             "line": {
              "color": "rgb(17,17,17)",
              "width": 0.5
             },
             "pattern": {
              "fillmode": "overlay",
              "size": 10,
              "solidity": 0.2
             }
            },
            "type": "barpolar"
           }
          ],
          "carpet": [
           {
            "aaxis": {
             "endlinecolor": "#A2B1C6",
             "gridcolor": "#506784",
             "linecolor": "#506784",
             "minorgridcolor": "#506784",
             "startlinecolor": "#A2B1C6"
            },
            "baxis": {
             "endlinecolor": "#A2B1C6",
             "gridcolor": "#506784",
             "linecolor": "#506784",
             "minorgridcolor": "#506784",
             "startlinecolor": "#A2B1C6"
            },
            "type": "carpet"
           }
          ],
          "choropleth": [
           {
            "colorbar": {
             "outlinewidth": 0,
             "ticks": ""
            },
            "type": "choropleth"
           }
          ],
          "contour": [
           {
            "colorbar": {
             "outlinewidth": 0,
             "ticks": ""
            },
            "colorscale": [
             [
              0,
              "#0d0887"
             ],
             [
              0.1111111111111111,
              "#46039f"
             ],
             [
              0.2222222222222222,
              "#7201a8"
             ],
             [
              0.3333333333333333,
              "#9c179e"
             ],
             [
              0.4444444444444444,
              "#bd3786"
             ],
             [
              0.5555555555555556,
              "#d8576b"
             ],
             [
              0.6666666666666666,
              "#ed7953"
             ],
             [
              0.7777777777777778,
              "#fb9f3a"
             ],
             [
              0.8888888888888888,
              "#fdca26"
             ],
             [
              1,
              "#f0f921"
             ]
            ],
            "type": "contour"
           }
          ],
          "contourcarpet": [
           {
            "colorbar": {
             "outlinewidth": 0,
             "ticks": ""
            },
            "type": "contourcarpet"
           }
          ],
          "heatmap": [
           {
            "colorbar": {
             "outlinewidth": 0,
             "ticks": ""
            },
            "colorscale": [
             [
              0,
              "#0d0887"
             ],
             [
              0.1111111111111111,
              "#46039f"
             ],
             [
              0.2222222222222222,
              "#7201a8"
             ],
             [
              0.3333333333333333,
              "#9c179e"
             ],
             [
              0.4444444444444444,
              "#bd3786"
             ],
             [
              0.5555555555555556,
              "#d8576b"
             ],
             [
              0.6666666666666666,
              "#ed7953"
             ],
             [
              0.7777777777777778,
              "#fb9f3a"
             ],
             [
              0.8888888888888888,
              "#fdca26"
             ],
             [
              1,
              "#f0f921"
             ]
            ],
            "type": "heatmap"
           }
          ],
          "heatmapgl": [
           {
            "colorbar": {
             "outlinewidth": 0,
             "ticks": ""
            },
            "colorscale": [
             [
              0,
              "#0d0887"
             ],
             [
              0.1111111111111111,
              "#46039f"
             ],
             [
              0.2222222222222222,
              "#7201a8"
             ],
             [
              0.3333333333333333,
              "#9c179e"
             ],
             [
              0.4444444444444444,
              "#bd3786"
             ],
             [
              0.5555555555555556,
              "#d8576b"
             ],
             [
              0.6666666666666666,
              "#ed7953"
             ],
             [
              0.7777777777777778,
              "#fb9f3a"
             ],
             [
              0.8888888888888888,
              "#fdca26"
             ],
             [
              1,
              "#f0f921"
             ]
            ],
            "type": "heatmapgl"
           }
          ],
          "histogram": [
           {
            "marker": {
             "pattern": {
              "fillmode": "overlay",
              "size": 10,
              "solidity": 0.2
             }
            },
            "type": "histogram"
           }
          ],
          "histogram2d": [
           {
            "colorbar": {
             "outlinewidth": 0,
             "ticks": ""
            },
            "colorscale": [
             [
              0,
              "#0d0887"
             ],
             [
              0.1111111111111111,
              "#46039f"
             ],
             [
              0.2222222222222222,
              "#7201a8"
             ],
             [
              0.3333333333333333,
              "#9c179e"
             ],
             [
              0.4444444444444444,
              "#bd3786"
             ],
             [
              0.5555555555555556,
              "#d8576b"
             ],
             [
              0.6666666666666666,
              "#ed7953"
             ],
             [
              0.7777777777777778,
              "#fb9f3a"
             ],
             [
              0.8888888888888888,
              "#fdca26"
             ],
             [
              1,
              "#f0f921"
             ]
            ],
            "type": "histogram2d"
           }
          ],
          "histogram2dcontour": [
           {
            "colorbar": {
             "outlinewidth": 0,
             "ticks": ""
            },
            "colorscale": [
             [
              0,
              "#0d0887"
             ],
             [
              0.1111111111111111,
              "#46039f"
             ],
             [
              0.2222222222222222,
              "#7201a8"
             ],
             [
              0.3333333333333333,
              "#9c179e"
             ],
             [
              0.4444444444444444,
              "#bd3786"
             ],
             [
              0.5555555555555556,
              "#d8576b"
             ],
             [
              0.6666666666666666,
              "#ed7953"
             ],
             [
              0.7777777777777778,
              "#fb9f3a"
             ],
             [
              0.8888888888888888,
              "#fdca26"
             ],
             [
              1,
              "#f0f921"
             ]
            ],
            "type": "histogram2dcontour"
           }
          ],
          "mesh3d": [
           {
            "colorbar": {
             "outlinewidth": 0,
             "ticks": ""
            },
            "type": "mesh3d"
           }
          ],
          "parcoords": [
           {
            "line": {
             "colorbar": {
              "outlinewidth": 0,
              "ticks": ""
             }
            },
            "type": "parcoords"
           }
          ],
          "pie": [
           {
            "automargin": true,
            "type": "pie"
           }
          ],
          "scatter": [
           {
            "marker": {
             "line": {
              "color": "#283442"
             }
            },
            "type": "scatter"
           }
          ],
          "scatter3d": [
           {
            "line": {
             "colorbar": {
              "outlinewidth": 0,
              "ticks": ""
             }
            },
            "marker": {
             "colorbar": {
              "outlinewidth": 0,
              "ticks": ""
             }
            },
            "type": "scatter3d"
           }
          ],
          "scattercarpet": [
           {
            "marker": {
             "colorbar": {
              "outlinewidth": 0,
              "ticks": ""
             }
            },
            "type": "scattercarpet"
           }
          ],
          "scattergeo": [
           {
            "marker": {
             "colorbar": {
              "outlinewidth": 0,
              "ticks": ""
             }
            },
            "type": "scattergeo"
           }
          ],
          "scattergl": [
           {
            "marker": {
             "line": {
              "color": "#283442"
             }
            },
            "type": "scattergl"
           }
          ],
          "scattermapbox": [
           {
            "marker": {
             "colorbar": {
              "outlinewidth": 0,
              "ticks": ""
             }
            },
            "type": "scattermapbox"
           }
          ],
          "scatterpolar": [
           {
            "marker": {
             "colorbar": {
              "outlinewidth": 0,
              "ticks": ""
             }
            },
            "type": "scatterpolar"
           }
          ],
          "scatterpolargl": [
           {
            "marker": {
             "colorbar": {
              "outlinewidth": 0,
              "ticks": ""
             }
            },
            "type": "scatterpolargl"
           }
          ],
          "scatterternary": [
           {
            "marker": {
             "colorbar": {
              "outlinewidth": 0,
              "ticks": ""
             }
            },
            "type": "scatterternary"
           }
          ],
          "surface": [
           {
            "colorbar": {
             "outlinewidth": 0,
             "ticks": ""
            },
            "colorscale": [
             [
              0,
              "#0d0887"
             ],
             [
              0.1111111111111111,
              "#46039f"
             ],
             [
              0.2222222222222222,
              "#7201a8"
             ],
             [
              0.3333333333333333,
              "#9c179e"
             ],
             [
              0.4444444444444444,
              "#bd3786"
             ],
             [
              0.5555555555555556,
              "#d8576b"
             ],
             [
              0.6666666666666666,
              "#ed7953"
             ],
             [
              0.7777777777777778,
              "#fb9f3a"
             ],
             [
              0.8888888888888888,
              "#fdca26"
             ],
             [
              1,
              "#f0f921"
             ]
            ],
            "type": "surface"
           }
          ],
          "table": [
           {
            "cells": {
             "fill": {
              "color": "#506784"
             },
             "line": {
              "color": "rgb(17,17,17)"
             }
            },
            "header": {
             "fill": {
              "color": "#2a3f5f"
             },
             "line": {
              "color": "rgb(17,17,17)"
             }
            },
            "type": "table"
           }
          ]
         },
         "layout": {
          "annotationdefaults": {
           "arrowcolor": "#f2f5fa",
           "arrowhead": 0,
           "arrowwidth": 1
          },
          "autotypenumbers": "strict",
          "coloraxis": {
           "colorbar": {
            "outlinewidth": 0,
            "ticks": ""
           }
          },
          "colorscale": {
           "diverging": [
            [
             0,
             "#8e0152"
            ],
            [
             0.1,
             "#c51b7d"
            ],
            [
             0.2,
             "#de77ae"
            ],
            [
             0.3,
             "#f1b6da"
            ],
            [
             0.4,
             "#fde0ef"
            ],
            [
             0.5,
             "#f7f7f7"
            ],
            [
             0.6,
             "#e6f5d0"
            ],
            [
             0.7,
             "#b8e186"
            ],
            [
             0.8,
             "#7fbc41"
            ],
            [
             0.9,
             "#4d9221"
            ],
            [
             1,
             "#276419"
            ]
           ],
           "sequential": [
            [
             0,
             "#0d0887"
            ],
            [
             0.1111111111111111,
             "#46039f"
            ],
            [
             0.2222222222222222,
             "#7201a8"
            ],
            [
             0.3333333333333333,
             "#9c179e"
            ],
            [
             0.4444444444444444,
             "#bd3786"
            ],
            [
             0.5555555555555556,
             "#d8576b"
            ],
            [
             0.6666666666666666,
             "#ed7953"
            ],
            [
             0.7777777777777778,
             "#fb9f3a"
            ],
            [
             0.8888888888888888,
             "#fdca26"
            ],
            [
             1,
             "#f0f921"
            ]
           ],
           "sequentialminus": [
            [
             0,
             "#0d0887"
            ],
            [
             0.1111111111111111,
             "#46039f"
            ],
            [
             0.2222222222222222,
             "#7201a8"
            ],
            [
             0.3333333333333333,
             "#9c179e"
            ],
            [
             0.4444444444444444,
             "#bd3786"
            ],
            [
             0.5555555555555556,
             "#d8576b"
            ],
            [
             0.6666666666666666,
             "#ed7953"
            ],
            [
             0.7777777777777778,
             "#fb9f3a"
            ],
            [
             0.8888888888888888,
             "#fdca26"
            ],
            [
             1,
             "#f0f921"
            ]
           ]
          },
          "colorway": [
           "#636efa",
           "#EF553B",
           "#00cc96",
           "#ab63fa",
           "#FFA15A",
           "#19d3f3",
           "#FF6692",
           "#B6E880",
           "#FF97FF",
           "#FECB52"
          ],
          "font": {
           "color": "#f2f5fa"
          },
          "geo": {
           "bgcolor": "rgb(17,17,17)",
           "lakecolor": "rgb(17,17,17)",
           "landcolor": "rgb(17,17,17)",
           "showlakes": true,
           "showland": true,
           "subunitcolor": "#506784"
          },
          "hoverlabel": {
           "align": "left"
          },
          "hovermode": "closest",
          "mapbox": {
           "style": "dark"
          },
          "paper_bgcolor": "rgb(17,17,17)",
          "plot_bgcolor": "rgb(17,17,17)",
          "polar": {
           "angularaxis": {
            "gridcolor": "#506784",
            "linecolor": "#506784",
            "ticks": ""
           },
           "bgcolor": "rgb(17,17,17)",
           "radialaxis": {
            "gridcolor": "#506784",
            "linecolor": "#506784",
            "ticks": ""
           }
          },
          "scene": {
           "xaxis": {
            "backgroundcolor": "rgb(17,17,17)",
            "gridcolor": "#506784",
            "gridwidth": 2,
            "linecolor": "#506784",
            "showbackground": true,
            "ticks": "",
            "zerolinecolor": "#C8D4E3"
           },
           "yaxis": {
            "backgroundcolor": "rgb(17,17,17)",
            "gridcolor": "#506784",
            "gridwidth": 2,
            "linecolor": "#506784",
            "showbackground": true,
            "ticks": "",
            "zerolinecolor": "#C8D4E3"
           },
           "zaxis": {
            "backgroundcolor": "rgb(17,17,17)",
            "gridcolor": "#506784",
            "gridwidth": 2,
            "linecolor": "#506784",
            "showbackground": true,
            "ticks": "",
            "zerolinecolor": "#C8D4E3"
           }
          },
          "shapedefaults": {
           "line": {
            "color": "#f2f5fa"
           }
          },
          "sliderdefaults": {
           "bgcolor": "#C8D4E3",
           "bordercolor": "rgb(17,17,17)",
           "borderwidth": 1,
           "tickwidth": 0
          },
          "ternary": {
           "aaxis": {
            "gridcolor": "#506784",
            "linecolor": "#506784",
            "ticks": ""
           },
           "baxis": {
            "gridcolor": "#506784",
            "linecolor": "#506784",
            "ticks": ""
           },
           "bgcolor": "rgb(17,17,17)",
           "caxis": {
            "gridcolor": "#506784",
            "linecolor": "#506784",
            "ticks": ""
           }
          },
          "title": {
           "x": 0.05
          },
          "updatemenudefaults": {
           "bgcolor": "#506784",
           "borderwidth": 0
          },
          "xaxis": {
           "automargin": true,
           "gridcolor": "#283442",
           "linecolor": "#506784",
           "ticks": "",
           "title": {
            "standoff": 15
           },
           "zerolinecolor": "#283442",
           "zerolinewidth": 2
          },
          "yaxis": {
           "automargin": true,
           "gridcolor": "#283442",
           "linecolor": "#506784",
           "ticks": "",
           "title": {
            "standoff": 15
           },
           "zerolinecolor": "#283442",
           "zerolinewidth": 2
          }
         }
        },
        "title": {
         "text": " Simulation: /As Strategy",
         "x": 0.5,
         "xanchor": "center",
         "y": 0.9,
         "yanchor": "top"
        },
        "xaxis": {
         "anchor": "y",
         "domain": [
          0,
          1
         ],
         "hoverformat": "%d-%b-%y %H:%M",
         "matches": "x2",
         "rangeslider": {
          "visible": false
         },
         "showspikes": true,
         "showticklabels": false,
         "spikecolor": "#306020",
         "spikedash": "dot",
         "spikemode": "across",
         "spikesnap": "cursor",
         "spikethickness": 1
        },
        "xaxis2": {
         "anchor": "y2",
         "domain": [
          0,
          1
         ],
         "showspikes": true,
         "spikecolor": "#306020",
         "spikedash": "dot",
         "spikemode": "across",
         "spikesnap": "cursor",
         "spikethickness": 1
        },
        "yaxis": {
         "anchor": "x",
         "domain": [
          0.16631578947368428,
          1
         ],
         "hoverformat": ".2f",
         "spikecolor": "#306020",
         "spikesnap": "cursor",
         "spikethickness": 1,
         "tickformat": ".2f"
        },
        "yaxis2": {
         "anchor": "x2",
         "domain": [
          0,
          0.15631578947368427
         ],
         "range": [
          -7.266157000000021,
          0
         ],
         "spikecolor": "#306020",
         "spikesnap": "cursor",
         "spikethickness": 1,
         "tickformat": ".2f"
        }
       }
      }
     },
     "metadata": {},
     "output_type": "display_data"
    },
    {
     "data": {
      "application/vnd.plotly.v1+json": {
       "config": {
        "plotlyServerURL": "https://plot.ly"
       },
       "data": [
        {
         "cells": {
          "align": [
           "center",
           "left"
          ],
          "fill": {
           "color": "#101010"
          },
          "font": {
           "size": 10
          },
          "line": {
           "color": "darkslategray"
          },
          "values": [
           9.084,
           0.18,
           14.859,
           0.321,
           0.073,
           7.266,
           0,
           0,
           10.003,
           1,
           2.25,
           0.045,
           6.633,
           16
          ]
         },
         "columnwidth": [
          130,
          130,
          130,
          130,
          200
         ],
         "header": {
          "fill": {
           "color": "#303030"
          },
          "font": {
           "color": "white",
           "size": 11
          },
          "line": {
           "color": "darkslategray"
          },
          "values": [
           "Gain",
           "Cagr",
           "Sharpe",
           "Qr",
           "Max dd pct",
           "Mdd usd",
           "Sortino",
           "Calmar",
           "Tail ratio",
           "Stability",
           "Var",
           "Avg return",
           "Fees",
           "Execs"
          ]
         },
         "type": "table",
         "uid": "b0c918fd-ff62-4f2e-bc25-ecdcc09b9f09"
        }
       ],
       "layout": {
        "height": 80,
        "margin": {
         "b": 1,
         "l": 5,
         "r": 5,
         "t": 0
        },
        "template": {
         "data": {
          "bar": [
           {
            "error_x": {
             "color": "#f2f5fa"
            },
            "error_y": {
             "color": "#f2f5fa"
            },
            "marker": {
             "line": {
              "color": "rgb(17,17,17)",
              "width": 0.5
             },
             "pattern": {
              "fillmode": "overlay",
              "size": 10,
              "solidity": 0.2
             }
            },
            "type": "bar"
           }
          ],
          "barpolar": [
           {
            "marker": {
             "line": {
              "color": "rgb(17,17,17)",
              "width": 0.5
             },
             "pattern": {
              "fillmode": "overlay",
              "size": 10,
              "solidity": 0.2
             }
            },
            "type": "barpolar"
           }
          ],
          "carpet": [
           {
            "aaxis": {
             "endlinecolor": "#A2B1C6",
             "gridcolor": "#506784",
             "linecolor": "#506784",
             "minorgridcolor": "#506784",
             "startlinecolor": "#A2B1C6"
            },
            "baxis": {
             "endlinecolor": "#A2B1C6",
             "gridcolor": "#506784",
             "linecolor": "#506784",
             "minorgridcolor": "#506784",
             "startlinecolor": "#A2B1C6"
            },
            "type": "carpet"
           }
          ],
          "choropleth": [
           {
            "colorbar": {
             "outlinewidth": 0,
             "ticks": ""
            },
            "type": "choropleth"
           }
          ],
          "contour": [
           {
            "colorbar": {
             "outlinewidth": 0,
             "ticks": ""
            },
            "colorscale": [
             [
              0,
              "#0d0887"
             ],
             [
              0.1111111111111111,
              "#46039f"
             ],
             [
              0.2222222222222222,
              "#7201a8"
             ],
             [
              0.3333333333333333,
              "#9c179e"
             ],
             [
              0.4444444444444444,
              "#bd3786"
             ],
             [
              0.5555555555555556,
              "#d8576b"
             ],
             [
              0.6666666666666666,
              "#ed7953"
             ],
             [
              0.7777777777777778,
              "#fb9f3a"
             ],
             [
              0.8888888888888888,
              "#fdca26"
             ],
             [
              1,
              "#f0f921"
             ]
            ],
            "type": "contour"
           }
          ],
          "contourcarpet": [
           {
            "colorbar": {
             "outlinewidth": 0,
             "ticks": ""
            },
            "type": "contourcarpet"
           }
          ],
          "heatmap": [
           {
            "colorbar": {
             "outlinewidth": 0,
             "ticks": ""
            },
            "colorscale": [
             [
              0,
              "#0d0887"
             ],
             [
              0.1111111111111111,
              "#46039f"
             ],
             [
              0.2222222222222222,
              "#7201a8"
             ],
             [
              0.3333333333333333,
              "#9c179e"
             ],
             [
              0.4444444444444444,
              "#bd3786"
             ],
             [
              0.5555555555555556,
              "#d8576b"
             ],
             [
              0.6666666666666666,
              "#ed7953"
             ],
             [
              0.7777777777777778,
              "#fb9f3a"
             ],
             [
              0.8888888888888888,
              "#fdca26"
             ],
             [
              1,
              "#f0f921"
             ]
            ],
            "type": "heatmap"
           }
          ],
          "heatmapgl": [
           {
            "colorbar": {
             "outlinewidth": 0,
             "ticks": ""
            },
            "colorscale": [
             [
              0,
              "#0d0887"
             ],
             [
              0.1111111111111111,
              "#46039f"
             ],
             [
              0.2222222222222222,
              "#7201a8"
             ],
             [
              0.3333333333333333,
              "#9c179e"
             ],
             [
              0.4444444444444444,
              "#bd3786"
             ],
             [
              0.5555555555555556,
              "#d8576b"
             ],
             [
              0.6666666666666666,
              "#ed7953"
             ],
             [
              0.7777777777777778,
              "#fb9f3a"
             ],
             [
              0.8888888888888888,
              "#fdca26"
             ],
             [
              1,
              "#f0f921"
             ]
            ],
            "type": "heatmapgl"
           }
          ],
          "histogram": [
           {
            "marker": {
             "pattern": {
              "fillmode": "overlay",
              "size": 10,
              "solidity": 0.2
             }
            },
            "type": "histogram"
           }
          ],
          "histogram2d": [
           {
            "colorbar": {
             "outlinewidth": 0,
             "ticks": ""
            },
            "colorscale": [
             [
              0,
              "#0d0887"
             ],
             [
              0.1111111111111111,
              "#46039f"
             ],
             [
              0.2222222222222222,
              "#7201a8"
             ],
             [
              0.3333333333333333,
              "#9c179e"
             ],
             [
              0.4444444444444444,
              "#bd3786"
             ],
             [
              0.5555555555555556,
              "#d8576b"
             ],
             [
              0.6666666666666666,
              "#ed7953"
             ],
             [
              0.7777777777777778,
              "#fb9f3a"
             ],
             [
              0.8888888888888888,
              "#fdca26"
             ],
             [
              1,
              "#f0f921"
             ]
            ],
            "type": "histogram2d"
           }
          ],
          "histogram2dcontour": [
           {
            "colorbar": {
             "outlinewidth": 0,
             "ticks": ""
            },
            "colorscale": [
             [
              0,
              "#0d0887"
             ],
             [
              0.1111111111111111,
              "#46039f"
             ],
             [
              0.2222222222222222,
              "#7201a8"
             ],
             [
              0.3333333333333333,
              "#9c179e"
             ],
             [
              0.4444444444444444,
              "#bd3786"
             ],
             [
              0.5555555555555556,
              "#d8576b"
             ],
             [
              0.6666666666666666,
              "#ed7953"
             ],
             [
              0.7777777777777778,
              "#fb9f3a"
             ],
             [
              0.8888888888888888,
              "#fdca26"
             ],
             [
              1,
              "#f0f921"
             ]
            ],
            "type": "histogram2dcontour"
           }
          ],
          "mesh3d": [
           {
            "colorbar": {
             "outlinewidth": 0,
             "ticks": ""
            },
            "type": "mesh3d"
           }
          ],
          "parcoords": [
           {
            "line": {
             "colorbar": {
              "outlinewidth": 0,
              "ticks": ""
             }
            },
            "type": "parcoords"
           }
          ],
          "pie": [
           {
            "automargin": true,
            "type": "pie"
           }
          ],
          "scatter": [
           {
            "marker": {
             "line": {
              "color": "#283442"
             }
            },
            "type": "scatter"
           }
          ],
          "scatter3d": [
           {
            "line": {
             "colorbar": {
              "outlinewidth": 0,
              "ticks": ""
             }
            },
            "marker": {
             "colorbar": {
              "outlinewidth": 0,
              "ticks": ""
             }
            },
            "type": "scatter3d"
           }
          ],
          "scattercarpet": [
           {
            "marker": {
             "colorbar": {
              "outlinewidth": 0,
              "ticks": ""
             }
            },
            "type": "scattercarpet"
           }
          ],
          "scattergeo": [
           {
            "marker": {
             "colorbar": {
              "outlinewidth": 0,
              "ticks": ""
             }
            },
            "type": "scattergeo"
           }
          ],
          "scattergl": [
           {
            "marker": {
             "line": {
              "color": "#283442"
             }
            },
            "type": "scattergl"
           }
          ],
          "scattermapbox": [
           {
            "marker": {
             "colorbar": {
              "outlinewidth": 0,
              "ticks": ""
             }
            },
            "type": "scattermapbox"
           }
          ],
          "scatterpolar": [
           {
            "marker": {
             "colorbar": {
              "outlinewidth": 0,
              "ticks": ""
             }
            },
            "type": "scatterpolar"
           }
          ],
          "scatterpolargl": [
           {
            "marker": {
             "colorbar": {
              "outlinewidth": 0,
              "ticks": ""
             }
            },
            "type": "scatterpolargl"
           }
          ],
          "scatterternary": [
           {
            "marker": {
             "colorbar": {
              "outlinewidth": 0,
              "ticks": ""
             }
            },
            "type": "scatterternary"
           }
          ],
          "surface": [
           {
            "colorbar": {
             "outlinewidth": 0,
             "ticks": ""
            },
            "colorscale": [
             [
              0,
              "#0d0887"
             ],
             [
              0.1111111111111111,
              "#46039f"
             ],
             [
              0.2222222222222222,
              "#7201a8"
             ],
             [
              0.3333333333333333,
              "#9c179e"
             ],
             [
              0.4444444444444444,
              "#bd3786"
             ],
             [
              0.5555555555555556,
              "#d8576b"
             ],
             [
              0.6666666666666666,
              "#ed7953"
             ],
             [
              0.7777777777777778,
              "#fb9f3a"
             ],
             [
              0.8888888888888888,
              "#fdca26"
             ],
             [
              1,
              "#f0f921"
             ]
            ],
            "type": "surface"
           }
          ],
          "table": [
           {
            "cells": {
             "fill": {
              "color": "#506784"
             },
             "line": {
              "color": "rgb(17,17,17)"
             }
            },
            "header": {
             "fill": {
              "color": "#2a3f5f"
             },
             "line": {
              "color": "rgb(17,17,17)"
             }
            },
            "type": "table"
           }
          ]
         },
         "layout": {
          "annotationdefaults": {
           "arrowcolor": "#f2f5fa",
           "arrowhead": 0,
           "arrowwidth": 1
          },
          "autotypenumbers": "strict",
          "coloraxis": {
           "colorbar": {
            "outlinewidth": 0,
            "ticks": ""
           }
          },
          "colorscale": {
           "diverging": [
            [
             0,
             "#8e0152"
            ],
            [
             0.1,
             "#c51b7d"
            ],
            [
             0.2,
             "#de77ae"
            ],
            [
             0.3,
             "#f1b6da"
            ],
            [
             0.4,
             "#fde0ef"
            ],
            [
             0.5,
             "#f7f7f7"
            ],
            [
             0.6,
             "#e6f5d0"
            ],
            [
             0.7,
             "#b8e186"
            ],
            [
             0.8,
             "#7fbc41"
            ],
            [
             0.9,
             "#4d9221"
            ],
            [
             1,
             "#276419"
            ]
           ],
           "sequential": [
            [
             0,
             "#0d0887"
            ],
            [
             0.1111111111111111,
             "#46039f"
            ],
            [
             0.2222222222222222,
             "#7201a8"
            ],
            [
             0.3333333333333333,
             "#9c179e"
            ],
            [
             0.4444444444444444,
             "#bd3786"
            ],
            [
             0.5555555555555556,
             "#d8576b"
            ],
            [
             0.6666666666666666,
             "#ed7953"
            ],
            [
             0.7777777777777778,
             "#fb9f3a"
            ],
            [
             0.8888888888888888,
             "#fdca26"
            ],
            [
             1,
             "#f0f921"
            ]
           ],
           "sequentialminus": [
            [
             0,
             "#0d0887"
            ],
            [
             0.1111111111111111,
             "#46039f"
            ],
            [
             0.2222222222222222,
             "#7201a8"
            ],
            [
             0.3333333333333333,
             "#9c179e"
            ],
            [
             0.4444444444444444,
             "#bd3786"
            ],
            [
             0.5555555555555556,
             "#d8576b"
            ],
            [
             0.6666666666666666,
             "#ed7953"
            ],
            [
             0.7777777777777778,
             "#fb9f3a"
            ],
            [
             0.8888888888888888,
             "#fdca26"
            ],
            [
             1,
             "#f0f921"
            ]
           ]
          },
          "colorway": [
           "#636efa",
           "#EF553B",
           "#00cc96",
           "#ab63fa",
           "#FFA15A",
           "#19d3f3",
           "#FF6692",
           "#B6E880",
           "#FF97FF",
           "#FECB52"
          ],
          "font": {
           "color": "#f2f5fa"
          },
          "geo": {
           "bgcolor": "rgb(17,17,17)",
           "lakecolor": "rgb(17,17,17)",
           "landcolor": "rgb(17,17,17)",
           "showlakes": true,
           "showland": true,
           "subunitcolor": "#506784"
          },
          "hoverlabel": {
           "align": "left"
          },
          "hovermode": "closest",
          "mapbox": {
           "style": "dark"
          },
          "paper_bgcolor": "rgb(17,17,17)",
          "plot_bgcolor": "rgb(17,17,17)",
          "polar": {
           "angularaxis": {
            "gridcolor": "#506784",
            "linecolor": "#506784",
            "ticks": ""
           },
           "bgcolor": "rgb(17,17,17)",
           "radialaxis": {
            "gridcolor": "#506784",
            "linecolor": "#506784",
            "ticks": ""
           }
          },
          "scene": {
           "xaxis": {
            "backgroundcolor": "rgb(17,17,17)",
            "gridcolor": "#506784",
            "gridwidth": 2,
            "linecolor": "#506784",
            "showbackground": true,
            "ticks": "",
            "zerolinecolor": "#C8D4E3"
           },
           "yaxis": {
            "backgroundcolor": "rgb(17,17,17)",
            "gridcolor": "#506784",
            "gridwidth": 2,
            "linecolor": "#506784",
            "showbackground": true,
            "ticks": "",
            "zerolinecolor": "#C8D4E3"
           },
           "zaxis": {
            "backgroundcolor": "rgb(17,17,17)",
            "gridcolor": "#506784",
            "gridwidth": 2,
            "linecolor": "#506784",
            "showbackground": true,
            "ticks": "",
            "zerolinecolor": "#C8D4E3"
           }
          },
          "shapedefaults": {
           "line": {
            "color": "#f2f5fa"
           }
          },
          "sliderdefaults": {
           "bgcolor": "#C8D4E3",
           "bordercolor": "rgb(17,17,17)",
           "borderwidth": 1,
           "tickwidth": 0
          },
          "ternary": {
           "aaxis": {
            "gridcolor": "#506784",
            "linecolor": "#506784",
            "ticks": ""
           },
           "baxis": {
            "gridcolor": "#506784",
            "linecolor": "#506784",
            "ticks": ""
           },
           "bgcolor": "rgb(17,17,17)",
           "caxis": {
            "gridcolor": "#506784",
            "linecolor": "#506784",
            "ticks": ""
           }
          },
          "title": {
           "x": 0.05
          },
          "updatemenudefaults": {
           "bgcolor": "#506784",
           "borderwidth": 0
          },
          "xaxis": {
           "automargin": true,
           "gridcolor": "#283442",
           "linecolor": "#506784",
           "ticks": "",
           "title": {
            "standoff": 15
           },
           "zerolinecolor": "#283442",
           "zerolinewidth": 2
          },
          "yaxis": {
           "automargin": true,
           "gridcolor": "#283442",
           "linecolor": "#506784",
           "ticks": "",
           "title": {
            "standoff": 15
           },
           "zerolinecolor": "#283442",
           "zerolinewidth": 2
          }
         }
        }
       }
      }
     },
     "metadata": {},
     "output_type": "display_data"
    }
   ],
   "source": [
    "tearsheet(rep1[0], False)"
   ]
  },
  {
   "cell_type": "markdown",
   "metadata": {},
   "source": [
    "# Parameters variation example"
   ]
  },
  {
   "cell_type": "code",
   "execution_count": 46,
   "metadata": {},
   "outputs": [],
   "source": [
    "from qubx.backtester import simulate, variate\n",
    "from qubx.core.metrics import tearsheet, portfolio_metrics"
   ]
  },
  {
   "cell_type": "code",
   "execution_count": 47,
   "metadata": {},
   "outputs": [
    {
     "data": {
      "text/plain": [
       "{'TS_(fp=5,sp=25)': <__main__.TestStrategy at 0x220472d1950>,\n",
       " 'TS_(fp=5,sp=50)': <__main__.TestStrategy at 0x2203b9a9110>,\n",
       " 'TS_(fp=5,sp=75)': <__main__.TestStrategy at 0x2203b9a8c90>,\n",
       " 'TS_(fp=10,sp=25)': <__main__.TestStrategy at 0x2203dc35610>,\n",
       " 'TS_(fp=10,sp=50)': <__main__.TestStrategy at 0x2203dc352d0>,\n",
       " 'TS_(fp=10,sp=75)': <__main__.TestStrategy at 0x2203dc35550>,\n",
       " 'TS_(fp=15,sp=25)': <__main__.TestStrategy at 0x2203dc36e50>,\n",
       " 'TS_(fp=15,sp=50)': <__main__.TestStrategy at 0x220400b4d90>,\n",
       " 'TS_(fp=15,sp=75)': <__main__.TestStrategy at 0x220400b6450>,\n",
       " 'TS_(fp=20,sp=25)': <__main__.TestStrategy at 0x220400b6c90>,\n",
       " 'TS_(fp=20,sp=50)': <__main__.TestStrategy at 0x220400b6090>,\n",
       " 'TS_(fp=20,sp=75)': <__main__.TestStrategy at 0x220400b6550>}"
      ]
     },
     "execution_count": 47,
     "metadata": {},
     "output_type": "execute_result"
    }
   ],
   "source": [
    "sims = variate(\n",
    "        TestStrategy, timeframe='5Min', \n",
    "        fast_period=range(5, 25, 5), \n",
    "        slow_period=range(25, 100, 25),\n",
    "        conditions=lambda fast_period, slow_period: fast_period < slow_period\n",
    ")\n",
    "sims"
   ]
  },
  {
   "cell_type": "code",
   "execution_count": 48,
   "metadata": {},
   "outputs": [
    {
     "data": {
      "application/vnd.jupyter.widget-view+json": {
       "model_id": "f4fa3799932f4d1fa7df123dda825e06",
       "version_major": 2,
       "version_minor": 0
      },
      "text/plain": [
       "  0%|          | 0/12 [00:00<?, ?it/s]"
      ]
     },
     "metadata": {},
     "output_type": "display_data"
    },
    {
     "data": {
      "application/vnd.jupyter.widget-view+json": {
       "model_id": "2bf79a96a37249bbb3cbaa7decf8e6c4",
       "version_major": 2,
       "version_minor": 0
      },
      "text/plain": [
       "  0%|          | 0/4612 [00:00<?, ?it/s]"
      ]
     },
     "metadata": {},
     "output_type": "display_data"
    },
    {
     "data": {
      "application/vnd.jupyter.widget-view+json": {
       "model_id": "6c8d18eaa9764df18c4fdf7849e71f26",
       "version_major": 2,
       "version_minor": 0
      },
      "text/plain": [
       "  0%|          | 0/4612 [00:00<?, ?it/s]"
      ]
     },
     "metadata": {},
     "output_type": "display_data"
    },
    {
     "data": {
      "application/vnd.jupyter.widget-view+json": {
       "model_id": "2e322dd69fdf4983be79e2a25d100b71",
       "version_major": 2,
       "version_minor": 0
      },
      "text/plain": [
       "  0%|          | 0/4612 [00:00<?, ?it/s]"
      ]
     },
     "metadata": {},
     "output_type": "display_data"
    },
    {
     "data": {
      "application/vnd.jupyter.widget-view+json": {
       "model_id": "941d98aac9c041418e91687dd158ee14",
       "version_major": 2,
       "version_minor": 0
      },
      "text/plain": [
       "  0%|          | 0/4612 [00:00<?, ?it/s]"
      ]
     },
     "metadata": {},
     "output_type": "display_data"
    },
    {
     "data": {
      "application/vnd.jupyter.widget-view+json": {
       "model_id": "651c54b633a449aebe17e689b9b45945",
       "version_major": 2,
       "version_minor": 0
      },
      "text/plain": [
       "  0%|          | 0/4612 [00:00<?, ?it/s]"
      ]
     },
     "metadata": {},
     "output_type": "display_data"
    },
    {
     "data": {
      "application/vnd.jupyter.widget-view+json": {
       "model_id": "2c71a027cb834cc895ae841aefa50d2b",
       "version_major": 2,
       "version_minor": 0
      },
      "text/plain": [
       "  0%|          | 0/4612 [00:00<?, ?it/s]"
      ]
     },
     "metadata": {},
     "output_type": "display_data"
    },
    {
     "data": {
      "application/vnd.jupyter.widget-view+json": {
       "model_id": "37613672a5a64564b7837802bed55cb5",
       "version_major": 2,
       "version_minor": 0
      },
      "text/plain": [
       "  0%|          | 0/4612 [00:00<?, ?it/s]"
      ]
     },
     "metadata": {},
     "output_type": "display_data"
    },
    {
     "data": {
      "application/vnd.jupyter.widget-view+json": {
       "model_id": "3751f4a920224c8e98351e80348bae83",
       "version_major": 2,
       "version_minor": 0
      },
      "text/plain": [
       "  0%|          | 0/4612 [00:00<?, ?it/s]"
      ]
     },
     "metadata": {},
     "output_type": "display_data"
    },
    {
     "data": {
      "application/vnd.jupyter.widget-view+json": {
       "model_id": "f5cdaa258a5941a9a4dc3bceb3d3a10f",
       "version_major": 2,
       "version_minor": 0
      },
      "text/plain": [
       "  0%|          | 0/4612 [00:00<?, ?it/s]"
      ]
     },
     "metadata": {},
     "output_type": "display_data"
    },
    {
     "data": {
      "application/vnd.jupyter.widget-view+json": {
       "model_id": "1095441e8b8647638099a3bc05f1f029",
       "version_major": 2,
       "version_minor": 0
      },
      "text/plain": [
       "  0%|          | 0/4612 [00:00<?, ?it/s]"
      ]
     },
     "metadata": {},
     "output_type": "display_data"
    },
    {
     "data": {
      "application/vnd.jupyter.widget-view+json": {
       "model_id": "f5ebe1c16c8945c9999562524d03244f",
       "version_major": 2,
       "version_minor": 0
      },
      "text/plain": [
       "  0%|          | 0/4612 [00:00<?, ?it/s]"
      ]
     },
     "metadata": {},
     "output_type": "display_data"
    },
    {
     "data": {
      "application/vnd.jupyter.widget-view+json": {
       "model_id": "79a9fbf824c349aeba15b9c769ad8ef7",
       "version_major": 2,
       "version_minor": 0
      },
      "text/plain": [
       "  0%|          | 0/4612 [00:00<?, ?it/s]"
      ]
     },
     "metadata": {},
     "output_type": "display_data"
    }
   ],
   "source": [
    "QubxLogConfig.set_log_level(\"WARNING\")\n",
    "\n",
    "rep2 = simulate(\n",
    "    sims,\n",
    "    r, 10000, [\"BINANCE.UM:BTCUSDT\"], \n",
    "    dict(type=\"ohlc\", timeframe=\"5Min\", nback=0),\n",
    "    \"5Min -1Sec\",\n",
    "    \"vip0_usdt\", \n",
    "    \"2024-01-01\", \"2024-01-05\", \n",
    ")"
   ]
  },
  {
   "cell_type": "code",
   "execution_count": 86,
   "metadata": {},
   "outputs": [
    {
     "data": {
      "text/html": [
       "<div>\n",
       "<style scoped>\n",
       "    .dataframe tbody tr th:only-of-type {\n",
       "        vertical-align: middle;\n",
       "    }\n",
       "\n",
       "    .dataframe tbody tr th {\n",
       "        vertical-align: top;\n",
       "    }\n",
       "\n",
       "    .dataframe thead th {\n",
       "        text-align: right;\n",
       "    }\n",
       "</style>\n",
       "<table border=\"1\" class=\"dataframe\">\n",
       "  <thead>\n",
       "    <tr style=\"text-align: right;\">\n",
       "      <th></th>\n",
       "      <th>Gain</th>\n",
       "      <th>Cagr</th>\n",
       "      <th>Sharpe</th>\n",
       "      <th>Qr</th>\n",
       "      <th>Max dd pct</th>\n",
       "      <th>Mdd usd</th>\n",
       "      <th>Sortino</th>\n",
       "      <th>Calmar</th>\n",
       "      <th>Tail ratio</th>\n",
       "      <th>Stability</th>\n",
       "      <th>Var</th>\n",
       "      <th>Avg return</th>\n",
       "      <th>Fees</th>\n",
       "      <th>Execs</th>\n",
       "    </tr>\n",
       "  </thead>\n",
       "  <tbody>\n",
       "    <tr>\n",
       "      <th>/TS_(fp=5,sp=25)</th>\n",
       "      <td>-20.643830</td>\n",
       "      <td>-0.140028</td>\n",
       "      <td>-5.787193</td>\n",
       "      <td>-0.096723</td>\n",
       "      <td>0.600755</td>\n",
       "      <td>60.302701</td>\n",
       "      <td>-7.680846</td>\n",
       "      <td>-50.565233</td>\n",
       "      <td>0.273898</td>\n",
       "      <td>0.742442</td>\n",
       "      <td>24.157876</td>\n",
       "      <td>-0.041248</td>\n",
       "      <td>30.084830</td>\n",
       "      <td>69.0</td>\n",
       "    </tr>\n",
       "    <tr>\n",
       "      <th>/TS_(fp=5,sp=50)</th>\n",
       "      <td>-10.806998</td>\n",
       "      <td>-0.075899</td>\n",
       "      <td>-5.269831</td>\n",
       "      <td>-0.151505</td>\n",
       "      <td>0.443559</td>\n",
       "      <td>44.497650</td>\n",
       "      <td>-7.651961</td>\n",
       "      <td>-40.827460</td>\n",
       "      <td>0.572468</td>\n",
       "      <td>0.853461</td>\n",
       "      <td>13.679865</td>\n",
       "      <td>-0.021599</td>\n",
       "      <td>18.327498</td>\n",
       "      <td>42.0</td>\n",
       "    </tr>\n",
       "    <tr>\n",
       "      <th>/TS_(fp=5,sp=75)</th>\n",
       "      <td>4.551038</td>\n",
       "      <td>0.033773</td>\n",
       "      <td>1.755941</td>\n",
       "      <td>-0.008475</td>\n",
       "      <td>0.529792</td>\n",
       "      <td>53.225246</td>\n",
       "      <td>3.104883</td>\n",
       "      <td>22.314590</td>\n",
       "      <td>0.856987</td>\n",
       "      <td>0.335066</td>\n",
       "      <td>13.716351</td>\n",
       "      <td>0.009140</td>\n",
       "      <td>12.059462</td>\n",
       "      <td>28.0</td>\n",
       "    </tr>\n",
       "    <tr>\n",
       "      <th>/TS_(fp=10,sp=25)</th>\n",
       "      <td>3.892576</td>\n",
       "      <td>0.028818</td>\n",
       "      <td>1.470777</td>\n",
       "      <td>0.026368</td>\n",
       "      <td>0.338203</td>\n",
       "      <td>33.930341</td>\n",
       "      <td>3.732191</td>\n",
       "      <td>32.872362</td>\n",
       "      <td>1.702255</td>\n",
       "      <td>0.122490</td>\n",
       "      <td>14.171903</td>\n",
       "      <td>0.007825</td>\n",
       "      <td>22.984424</td>\n",
       "      <td>53.0</td>\n",
       "    </tr>\n",
       "    <tr>\n",
       "      <th>/TS_(fp=10,sp=50)</th>\n",
       "      <td>-0.688277</td>\n",
       "      <td>-0.005012</td>\n",
       "      <td>-0.476472</td>\n",
       "      <td>-0.007956</td>\n",
       "      <td>0.368830</td>\n",
       "      <td>37.006686</td>\n",
       "      <td>-0.863034</td>\n",
       "      <td>-6.168133</td>\n",
       "      <td>0.901142</td>\n",
       "      <td>0.534465</td>\n",
       "      <td>8.186381</td>\n",
       "      <td>-0.001365</td>\n",
       "      <td>14.806777</td>\n",
       "      <td>34.0</td>\n",
       "    </tr>\n",
       "    <tr>\n",
       "      <th>/TS_(fp=10,sp=75)</th>\n",
       "      <td>0.059183</td>\n",
       "      <td>0.000432</td>\n",
       "      <td>0.029897</td>\n",
       "      <td>-0.036476</td>\n",
       "      <td>0.576867</td>\n",
       "      <td>57.958717</td>\n",
       "      <td>0.053334</td>\n",
       "      <td>0.278509</td>\n",
       "      <td>0.891287</td>\n",
       "      <td>0.651228</td>\n",
       "      <td>15.063365</td>\n",
       "      <td>0.000160</td>\n",
       "      <td>9.847817</td>\n",
       "      <td>24.0</td>\n",
       "    </tr>\n",
       "    <tr>\n",
       "      <th>/TS_(fp=15,sp=25)</th>\n",
       "      <td>-5.794787</td>\n",
       "      <td>-0.041431</td>\n",
       "      <td>-2.608358</td>\n",
       "      <td>-0.068168</td>\n",
       "      <td>0.404406</td>\n",
       "      <td>40.560078</td>\n",
       "      <td>-5.062643</td>\n",
       "      <td>-43.105468</td>\n",
       "      <td>1.130419</td>\n",
       "      <td>0.008398</td>\n",
       "      <td>13.617091</td>\n",
       "      <td>-0.011564</td>\n",
       "      <td>24.762787</td>\n",
       "      <td>57.0</td>\n",
       "    </tr>\n",
       "    <tr>\n",
       "      <th>/TS_(fp=15,sp=50)</th>\n",
       "      <td>1.006098</td>\n",
       "      <td>0.007371</td>\n",
       "      <td>0.688831</td>\n",
       "      <td>-0.127299</td>\n",
       "      <td>0.422747</td>\n",
       "      <td>42.410346</td>\n",
       "      <td>1.209173</td>\n",
       "      <td>7.829541</td>\n",
       "      <td>0.794934</td>\n",
       "      <td>0.358523</td>\n",
       "      <td>8.059308</td>\n",
       "      <td>0.002025</td>\n",
       "      <td>12.132402</td>\n",
       "      <td>28.0</td>\n",
       "    </tr>\n",
       "    <tr>\n",
       "      <th>/TS_(fp=15,sp=75)</th>\n",
       "      <td>0.007829</td>\n",
       "      <td>0.000057</td>\n",
       "      <td>0.010044</td>\n",
       "      <td>-0.021913</td>\n",
       "      <td>0.535712</td>\n",
       "      <td>53.806222</td>\n",
       "      <td>0.021075</td>\n",
       "      <td>0.041974</td>\n",
       "      <td>1.171369</td>\n",
       "      <td>0.838946</td>\n",
       "      <td>12.628597</td>\n",
       "      <td>0.000045</td>\n",
       "      <td>8.996171</td>\n",
       "      <td>21.0</td>\n",
       "    </tr>\n",
       "    <tr>\n",
       "      <th>/TS_(fp=20,sp=25)</th>\n",
       "      <td>-32.013412</td>\n",
       "      <td>-0.208696</td>\n",
       "      <td>-16.726063</td>\n",
       "      <td>-1.648356</td>\n",
       "      <td>0.604685</td>\n",
       "      <td>60.639138</td>\n",
       "      <td>-16.093101</td>\n",
       "      <td>-75.305161</td>\n",
       "      <td>0.036655</td>\n",
       "      <td>0.885561</td>\n",
       "      <td>17.178323</td>\n",
       "      <td>-0.064088</td>\n",
       "      <td>28.443412</td>\n",
       "      <td>65.0</td>\n",
       "    </tr>\n",
       "    <tr>\n",
       "      <th>/TS_(fp=20,sp=50)</th>\n",
       "      <td>-11.328553</td>\n",
       "      <td>-0.079414</td>\n",
       "      <td>-4.310538</td>\n",
       "      <td>-0.924587</td>\n",
       "      <td>0.480092</td>\n",
       "      <td>48.125923</td>\n",
       "      <td>-6.401788</td>\n",
       "      <td>-33.067986</td>\n",
       "      <td>0.543057</td>\n",
       "      <td>0.450220</td>\n",
       "      <td>17.016947</td>\n",
       "      <td>-0.022627</td>\n",
       "      <td>10.833553</td>\n",
       "      <td>26.0</td>\n",
       "    </tr>\n",
       "    <tr>\n",
       "      <th>/TS_(fp=20,sp=75)</th>\n",
       "      <td>19.642112</td>\n",
       "      <td>0.154015</td>\n",
       "      <td>15.440373</td>\n",
       "      <td>0.324537</td>\n",
       "      <td>0.366182</td>\n",
       "      <td>36.788446</td>\n",
       "      <td>171.101185</td>\n",
       "      <td>1387.712463</td>\n",
       "      <td>10.013110</td>\n",
       "      <td>0.818587</td>\n",
       "      <td>3.221025</td>\n",
       "      <td>0.039263</td>\n",
       "      <td>8.137888</td>\n",
       "      <td>19.0</td>\n",
       "    </tr>\n",
       "  </tbody>\n",
       "</table>\n",
       "</div>"
      ],
      "text/plain": [
       "                        Gain      Cagr     Sharpe        Qr  Max dd pct  \\\n",
       "/TS_(fp=5,sp=25)  -20.643830 -0.140028  -5.787193 -0.096723    0.600755   \n",
       "/TS_(fp=5,sp=50)  -10.806998 -0.075899  -5.269831 -0.151505    0.443559   \n",
       "/TS_(fp=5,sp=75)    4.551038  0.033773   1.755941 -0.008475    0.529792   \n",
       "/TS_(fp=10,sp=25)   3.892576  0.028818   1.470777  0.026368    0.338203   \n",
       "/TS_(fp=10,sp=50)  -0.688277 -0.005012  -0.476472 -0.007956    0.368830   \n",
       "/TS_(fp=10,sp=75)   0.059183  0.000432   0.029897 -0.036476    0.576867   \n",
       "/TS_(fp=15,sp=25)  -5.794787 -0.041431  -2.608358 -0.068168    0.404406   \n",
       "/TS_(fp=15,sp=50)   1.006098  0.007371   0.688831 -0.127299    0.422747   \n",
       "/TS_(fp=15,sp=75)   0.007829  0.000057   0.010044 -0.021913    0.535712   \n",
       "/TS_(fp=20,sp=25) -32.013412 -0.208696 -16.726063 -1.648356    0.604685   \n",
       "/TS_(fp=20,sp=50) -11.328553 -0.079414  -4.310538 -0.924587    0.480092   \n",
       "/TS_(fp=20,sp=75)  19.642112  0.154015  15.440373  0.324537    0.366182   \n",
       "\n",
       "                     Mdd usd     Sortino       Calmar  Tail ratio  Stability  \\\n",
       "/TS_(fp=5,sp=25)   60.302701   -7.680846   -50.565233    0.273898   0.742442   \n",
       "/TS_(fp=5,sp=50)   44.497650   -7.651961   -40.827460    0.572468   0.853461   \n",
       "/TS_(fp=5,sp=75)   53.225246    3.104883    22.314590    0.856987   0.335066   \n",
       "/TS_(fp=10,sp=25)  33.930341    3.732191    32.872362    1.702255   0.122490   \n",
       "/TS_(fp=10,sp=50)  37.006686   -0.863034    -6.168133    0.901142   0.534465   \n",
       "/TS_(fp=10,sp=75)  57.958717    0.053334     0.278509    0.891287   0.651228   \n",
       "/TS_(fp=15,sp=25)  40.560078   -5.062643   -43.105468    1.130419   0.008398   \n",
       "/TS_(fp=15,sp=50)  42.410346    1.209173     7.829541    0.794934   0.358523   \n",
       "/TS_(fp=15,sp=75)  53.806222    0.021075     0.041974    1.171369   0.838946   \n",
       "/TS_(fp=20,sp=25)  60.639138  -16.093101   -75.305161    0.036655   0.885561   \n",
       "/TS_(fp=20,sp=50)  48.125923   -6.401788   -33.067986    0.543057   0.450220   \n",
       "/TS_(fp=20,sp=75)  36.788446  171.101185  1387.712463   10.013110   0.818587   \n",
       "\n",
       "                         Var  Avg return       Fees  Execs  \n",
       "/TS_(fp=5,sp=25)   24.157876   -0.041248  30.084830   69.0  \n",
       "/TS_(fp=5,sp=50)   13.679865   -0.021599  18.327498   42.0  \n",
       "/TS_(fp=5,sp=75)   13.716351    0.009140  12.059462   28.0  \n",
       "/TS_(fp=10,sp=25)  14.171903    0.007825  22.984424   53.0  \n",
       "/TS_(fp=10,sp=50)   8.186381   -0.001365  14.806777   34.0  \n",
       "/TS_(fp=10,sp=75)  15.063365    0.000160   9.847817   24.0  \n",
       "/TS_(fp=15,sp=25)  13.617091   -0.011564  24.762787   57.0  \n",
       "/TS_(fp=15,sp=50)   8.059308    0.002025  12.132402   28.0  \n",
       "/TS_(fp=15,sp=75)  12.628597    0.000045   8.996171   21.0  \n",
       "/TS_(fp=20,sp=25)  17.178323   -0.064088  28.443412   65.0  \n",
       "/TS_(fp=20,sp=50)  17.016947   -0.022627  10.833553   26.0  \n",
       "/TS_(fp=20,sp=75)   3.221025    0.039263   8.137888   19.0  "
      ]
     },
     "execution_count": 86,
     "metadata": {},
     "output_type": "execute_result"
    },
    {
     "data": {
      "image/png": "[encoded data removed]",
      "text/plain": [
       "<Figure size 960x400 with 1 Axes>"
      ]
     },
     "metadata": {},
     "output_type": "display_data"
    }
   ],
   "source": [
    "tearsheet(rep2)"
   ]
  },
  {
   "cell_type": "markdown",
   "metadata": {},
   "source": [
    "# Signals viewer"
   ]
  },
  {
   "cell_type": "code",
   "execution_count": 33,
   "metadata": {},
   "outputs": [],
   "source": [
    "from qubx.core.metrics import chart_signals"
   ]
  },
  {
   "cell_type": "code",
   "execution_count": 51,
   "metadata": {},
   "outputs": [],
   "source": [
    "ohlc_pd = r.read('BINANCE.UM:BTCUSDT', '2024-01-01', '2024-02-02', AsPandasFrame())\n",
    "ohlc_pd = ohlc_resample(ohlc_pd, '5Min')"
   ]
  },
  {
   "cell_type": "code",
   "execution_count": null,
   "metadata": {},
   "outputs": [],
   "source": [
    "chart_signals(rep2[-1], \"BTCUSDT\", ohlc_pd, overlay=[\n",
    "    pta.sma(ohlc_pd.close, 20),\n",
    "    pta.sma(ohlc_pd.close, 75),\n",
    "])"
   ]
  }
 ],
 "metadata": {
  "kernelspec": {
   "display_name": ".venv",
   "language": "python",
   "name": "python3"
  },
  "language_info": {
   "codemirror_mode": {
    "name": "ipython",
    "version": 3
   },
   "file_extension": ".py",
   "mimetype": "text/x-python",
   "name": "python",
   "nbconvert_exporter": "python",
   "pygments_lexer": "ipython3",
   "version": "3.11.8"
  }
 },
 "nbformat": 4,
 "nbformat_minor": 2
}
