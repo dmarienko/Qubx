{
 "cells": [
  {
   "cell_type": "code",
   "execution_count": 62,
   "metadata": {},
   "outputs": [
    {
     "name": "stdout",
     "output_type": "stream",
     "text": [
      " >  [\u001b[32mdev\u001b[0m] \u001b[31minstalling cython rebuilding hook\u001b[0m\n",
      "The autoreload extension is already loaded. To reload it, use:\n",
      "  %reload_ext autoreload\n"
     ]
    }
   ],
   "source": [
    "import sys, os, re; sys.path = ([\"../src/\", \"../\"] if re.match(r'^(\\w\\:\\\\)|(/)', os.getcwd()) else [])+ sys.path \n",
    "\n",
    "from typing import Any, Optional, List\n",
    "\n",
    "import qubx\n",
    "%qubxd dev \n",
    "\n",
    "%load_ext autoreload\n",
    "%autoreload 2\n",
    "\n",
    "from qubx import lookup, logger\n",
    "from qubx.core.strategy import IStrategy, StrategyContext, TriggerEvent\n",
    "from qubx.pandaz.utils import *\n",
    "\n",
    "# - - - - - - - - - - - - - - - - - - - - - - - -\n",
    "from qubx.trackers import PortfolioRebalancerTracker\n",
    "from qubx.core.series import Quote\n",
    "from qubx.ta.indicators import sma, ema\n",
    "from qubx.data.readers import CsvStorageDataReader, MultiQdbConnector, AsTimestampedRecords, AsQuotes, RestoreTicksFromOHLC, AsPandasFrame, RestoreTicksFromOHLC\n",
    "from qubx.core.basics import Deal, Instrument, Order, Position, Signal\n",
    "from qubx.core.utils import recognize_time\n",
    "\n",
    "from qubx.impl.ccxt_connector import CCXTExchangesConnector\n",
    "from qubx.impl.ccxt_trading import CCXTTradingConnector\n",
    "from qubx.utils.runner import get_account_config\n",
    "\n",
    "def Q(time: str, bid: float, ask: float) -> Quote:\n",
    "    return Quote(recognize_time(time), bid, ask, 0, 0)\n",
    "\n",
    "# r = CsvStorageDataReader(\"../tests/data/csv\")\n",
    "r = MultiQdbConnector('xlydian-data')\n",
    "\n",
    "from qubx import QubxLogConfig"
   ]
  },
  {
   "cell_type": "code",
   "execution_count": 23,
   "metadata": {},
   "outputs": [],
   "source": [
    "class TestStrategy(IStrategy):\n",
    "    timeframe: str = \"1Min\"\n",
    "    fast_period = 5\n",
    "    slow_period = 12\n",
    "\n",
    "    def on_start(self, ctx: StrategyContext):\n",
    "        logger.info(f\" -> Strategy started | {ctx.time()}\")\n",
    "\n",
    "    def on_fit(self, ctx: \"StrategyContext\", fit_time: str | pd.Timestamp, previous_fit_time: str | pd.Timestamp | None = None):\n",
    "        logger.info(f\" -> Fit is called | fit_time: {fit_time} / prev: {previous_fit_time}\")\n",
    "        data = ctx.get_historical_ohlcs(ctx.instruments[0], '1h', 24)\n",
    "        logger.info(data)\n",
    "\n",
    "    def on_event(self, ctx: StrategyContext, event: TriggerEvent) -> List[Signal] | None:\n",
    "        logger.info(f\" ||||| {event.time} -> {event} |||||\")\n",
    "\n",
    "        for i in ctx.instruments:\n",
    "            logger.info(f\"\\t{i.symbol} : {ctx.broker_provider.get_quote(i.symbol)}\")\n",
    "\n",
    "            if True:\n",
    "                ohlc = ctx.ohlc(i, self.timeframe)\n",
    "                fast = ema(ohlc.close, self.fast_period)\n",
    "                slow = ema(ohlc.close, self.slow_period)\n",
    "                pos = ctx.positions[i.symbol].quantity\n",
    "                # cap = ctx.get_capital()\n",
    "                # n = len(ctx.instruments)\n",
    "                if pos <= 0:\n",
    "                    if (fast[0] > slow[0]) and (fast[1] < slow[1]):\n",
    "                        ctx.trade(i, abs(pos) + i.min_size * 10)\n",
    "\n",
    "                if pos >= 0:\n",
    "                    if (fast[0] < slow[0]) and (fast[1] > slow[1]):\n",
    "                        ctx.trade(i, -pos - i.min_size * 10)\n",
    "\n",
    "        return None\n",
    "\n",
    "    def ohlcs(self, timeframe: str) -> Dict[str, pd.DataFrame]:\n",
    "        return {s.symbol: self.ctx.ohlc(s, timeframe).pd() for s in self.ctx.instruments}\n",
    "\n",
    "    def on_stop(self, ctx: StrategyContext):\n",
    "        logger.info(f\" -> strategy is stopped\")\n",
    "\n",
    "    def tracker(self, ctx: StrategyContext) -> PortfolioRebalancerTracker:\n",
    "        return PortfolioRebalancerTracker(ctx, 1000, 0)"
   ]
  },
  {
   "cell_type": "markdown",
   "metadata": {},
   "source": [
    "# Simulated broker and paper trading"
   ]
  },
  {
   "cell_type": "code",
   "execution_count": 3,
   "metadata": {},
   "outputs": [],
   "source": [
    "from qubx.backtester.simulator import SimulatedTrading"
   ]
  },
  {
   "cell_type": "code",
   "execution_count": 8,
   "metadata": {},
   "outputs": [
    {
     "name": "stdout",
     "output_type": "stream",
     "text": [
      "\u001b[32m2024-07-19 12:57:49.247\u001b[0m [ \u001b[1mℹ️\u001b[0m ] \u001b[1mbinance initialized - current time 1970-01-01T00:00:00.000000000\u001b[0m\n",
      "\u001b[32m2024-07-19 12:57:49.248\u001b[0m [ \u001b[33m\u001b[1m⚠️\u001b[0m ] \u001b[36mqubx.core.loggers\u001b[0m:\u001b[36m__init__\u001b[0m:\u001b[36m349\u001b[0m - \u001b[33m\u001b[1mLog writer is not defined - strategy activity will not be saved !\u001b[0m\n",
      "\u001b[32m2024-07-19 12:57:49.248\u001b[0m [ \u001b[1mℹ️\u001b[0m ] \u001b[1m(StrategyContext) set strategy parameters:\n",
      "\tset \u001b[32mtimeframe\u001b[0m\u001b[1m <- \u001b[31m1Min\u001b[0m\u001b[1m\u001b[0m\n",
      "\u001b[32m2024-07-19 12:57:49.249\u001b[0m [ \u001b[34m\u001b[1m🐞\u001b[0m ] \u001b[34m\u001b[1mTriggering strategy on every 1Min bar after 55S\u001b[0m\n",
      "\u001b[32m2024-07-19 12:57:49.248\u001b[0m [ \u001b[33m\u001b[1m⚠️\u001b[0m ] \u001b[36mqubx.core.loggers\u001b[0m:\u001b[36m__init__\u001b[0m:\u001b[36m349\u001b[0m - \u001b[33m\u001b[1mLog writer is not defined - strategy activity will not be saved !\u001b[0m\n",
      "\u001b[32m2024-07-19 12:57:49.248\u001b[0m [ \u001b[1mℹ️\u001b[0m ] \u001b[1m(StrategyContext) set strategy parameters:\n",
      "\tset \u001b[32mtimeframe\u001b[0m\u001b[1m <- \u001b[31m1Min\u001b[0m\u001b[1m\u001b[0m\n",
      "\u001b[32m2024-07-19 12:57:49.249\u001b[0m [ \u001b[34m\u001b[1m🐞\u001b[0m ] \u001b[34m\u001b[1mTriggering strategy on every 1Min bar after 55S\u001b[0m\n"
     ]
    }
   ],
   "source": [
    "auth = get_account_config('binance-qbx', './configs/.env')\n",
    "\n",
    "sim = SimulatedTrading('binance', 10000, 'vip0_usdt', 'USDT')\n",
    "exch = CCXTExchangesConnector('binance', sim, **auth)\n",
    "\n",
    "instruments = [lookup.find_symbol('BINANCE', 'BTCUSDT')]\n",
    "ctx = StrategyContext(\n",
    "    TestStrategy(), dict(\n",
    "        timeframe='1Min',\n",
    "    ), \n",
    "    exch, instruments=instruments,  # type: ignore\n",
    "    md_subscription=dict(type='ohlc', timeframe='1Min', nback=0),\n",
    "    trigger_spec='1Min -5Sec',\n",
    ")\n",
    "S = ctx.strategy"
   ]
  },
  {
   "cell_type": "code",
   "execution_count": null,
   "metadata": {},
   "outputs": [],
   "source": [
    "ctx.start()"
   ]
  },
  {
   "cell_type": "code",
   "execution_count": null,
   "metadata": {},
   "outputs": [],
   "source": [
    "exch.get_historical_ohlcs('BTCUSDT', '5Min', 200)"
   ]
  },
  {
   "cell_type": "code",
   "execution_count": null,
   "metadata": {},
   "outputs": [],
   "source": [
    "ctx.ohlc(ctx.instruments[0], '1Min')"
   ]
  },
  {
   "cell_type": "code",
   "execution_count": 6,
   "metadata": {},
   "outputs": [
    {
     "name": "stdout",
     "output_type": "stream",
     "text": [
      "??? [BINANCE:BTCUSDT]       0.00000      0.00    +0.0000 | nan        0.00\n",
      "[]\n"
     ]
    }
   ],
   "source": [
    "print(exch.trading_service.get_position(instruments[0]))\n",
    "print(exch.trading_service.get_orders())"
   ]
  },
  {
   "cell_type": "code",
   "execution_count": 13,
   "metadata": {},
   "outputs": [
    {
     "name": "stdout",
     "output_type": "stream",
     "text": [
      "\u001b[32m2024-07-19 13:35:58.845\u001b[0m [ \u001b[1mℹ️\u001b[0m ] \u001b[1m(StrategyContext) sending market buy for 0.1 of BTCUSDT ...\u001b[0m\n",
      "\u001b[32m2024-07-19 13:35:58.859\u001b[0m [ \u001b[34m\u001b[1m🐞\u001b[0m ] \u001b[34m\u001b[1m[OMS] BTCUSDT - SIM-ORDER-BTCUSDT-100001 MARKET BUY 0.1 executed at 64125.994999999995\u001b[0m\n",
      "\u001b[32m2024-07-19 13:35:58.859\u001b[0m [ \u001b[1mℹ️\u001b[0m ] \u001b[1m  ::  traded 0.1 for BTCUSDT @ 64125.994999999995 -> 0.00\u001b[0m\n",
      "\u001b[32m2024-07-19 13:35:58.861\u001b[0m [ \u001b[1mℹ️\u001b[0m ] \u001b[1mOrder SIM-ORDER-BTCUSDT-100001 MARKET BUY 0.1 of BTCUSDT -> CLOSED\u001b[0m\n"
     ]
    },
    {
     "data": {
      "text/plain": [
       "Order(id='SIM-ORDER-BTCUSDT-100001', type='MARKET', symbol='BTCUSDT', time=numpy.datetime64('2024-07-19T10:35:58.342475520'), quantity=0.1, price=0, side='BUY', status='CLOSED', time_in_force='gtc', client_id='TestStrategy_BTCUSDT_1', cost=0.0)"
      ]
     },
     "execution_count": 13,
     "metadata": {},
     "output_type": "execute_result"
    }
   ],
   "source": [
    "ctx.trade('BTCUSDT', 0.1)"
   ]
  },
  {
   "cell_type": "code",
   "execution_count": 14,
   "metadata": {},
   "outputs": [
    {
     "name": "stdout",
     "output_type": "stream",
     "text": [
      "\u001b[32m2024-07-19 13:36:00.978\u001b[0m [ \u001b[1mℹ️\u001b[0m ] \u001b[1m(StrategyContext) sending market sell for 0.1 of BTCUSDT ...\u001b[0m\n",
      "\u001b[32m2024-07-19 13:36:00.991\u001b[0m [ \u001b[34m\u001b[1m🐞\u001b[0m ] \u001b[34m\u001b[1m[OMS] BTCUSDT - SIM-ORDER-BTCUSDT-100002 MARKET SELL 0.1 executed at 64125.985\u001b[0m\n",
      "\u001b[32m2024-07-19 13:36:00.992\u001b[0m [ \u001b[1mℹ️\u001b[0m ] \u001b[1m  ::  traded -0.1 for BTCUSDT @ 64125.985 -> -0.00\u001b[0m\n",
      "\u001b[32m2024-07-19 13:36:00.992\u001b[0m [ \u001b[1mℹ️\u001b[0m ] \u001b[1mOrder SIM-ORDER-BTCUSDT-100002 MARKET SELL 0.1 of BTCUSDT -> CLOSED\u001b[0m\n"
     ]
    },
    {
     "data": {
      "text/plain": [
       "Order(id='SIM-ORDER-BTCUSDT-100002', type='MARKET', symbol='BTCUSDT', time=numpy.datetime64('2024-07-19T10:36:00.241386240'), quantity=0.1, price=0, side='SELL', status='CLOSED', time_in_force='gtc', client_id='TestStrategy_BTCUSDT_2', cost=0.0)"
      ]
     },
     "execution_count": 14,
     "metadata": {},
     "output_type": "execute_result"
    }
   ],
   "source": [
    "ctx.trade('BTCUSDT', -0.1)"
   ]
  },
  {
   "cell_type": "code",
   "execution_count": 183,
   "metadata": {},
   "outputs": [
    {
     "name": "stdout",
     "output_type": "stream",
     "text": [
      "\u001b[32m2024-07-19 12:34:40.521\u001b[0m [ \u001b[1mℹ️\u001b[0m ] \u001b[1m(StrategyContext) sending limit buy for 0.1 of BTCUSDT ...\u001b[0m\n",
      "\u001b[32m2024-07-19 12:34:40.522\u001b[0m [ \u001b[34m\u001b[1m🐞\u001b[0m ] \u001b[34m\u001b[1m[OMS] BTCUSDT - registered SIM-ORDER-BTCUSDT-100003 LIMIT BUY 0.1 45000\u001b[0m\n"
     ]
    },
    {
     "data": {
      "text/plain": [
       "Order(id='SIM-ORDER-BTCUSDT-100003', type='LIMIT', symbol='BTCUSDT', time=numpy.datetime64('2024-07-19T09:34:40.987281920'), quantity=0.1, price=45000, side='BUY', status='OPEN', time_in_force='gtc', client_id='TestStrategy_BTCUSDT_3', cost=0.0)"
      ]
     },
     "execution_count": 183,
     "metadata": {},
     "output_type": "execute_result"
    }
   ],
   "source": [
    "ctx.trade('BTCUSDT', 0.1, 45000)"
   ]
  },
  {
   "cell_type": "code",
   "execution_count": 184,
   "metadata": {},
   "outputs": [
    {
     "name": "stdout",
     "output_type": "stream",
     "text": [
      "\u001b[32m2024-07-19 12:34:43.226\u001b[0m [ \u001b[34m\u001b[1m🐞\u001b[0m ] \u001b[34m\u001b[1m[OMS] BTCUSDT - SIM-ORDER-BTCUSDT-100003 LIMIT BUY 0.1 canceled\u001b[0m\n",
      "\u001b[32m2024-07-19 12:34:43.227\u001b[0m [ \u001b[1mℹ️\u001b[0m ] \u001b[1mOrder SIM-ORDER-BTCUSDT-100003 LIMIT BUY 0.1 of BTCUSDT -> CANCELED\u001b[0m\n",
      "\u001b[32m2024-07-19 12:34:43.227\u001b[0m [ \u001b[1mℹ️\u001b[0m ] \u001b[1mOrder SIM-ORDER-BTCUSDT-100003 LIMIT BUY 0.1 of BTCUSDT -> CANCELED\u001b[0m\n"
     ]
    }
   ],
   "source": [
    "ctx.cancel('BTCUSDT')"
   ]
  },
  {
   "cell_type": "code",
   "execution_count": 16,
   "metadata": {},
   "outputs": [
    {
     "name": "stdout",
     "output_type": "stream",
     "text": [
      "\u001b[32m2024-07-19 13:37:02.809\u001b[0m [ \u001b[1mℹ️\u001b[0m ] \u001b[1m(StrategyContext) Market data processing stopped\u001b[0m\n",
      "\u001b[32m2024-07-19 13:37:02.825\u001b[0m [ \u001b[1mℹ️\u001b[0m ] \u001b[1m(CCXTDataConnector) BTCUSDT OHLCV listening has been stopped\u001b[0m\n",
      "\u001b[32m2024-07-19 13:37:02.825\u001b[0m [ \u001b[1mℹ️\u001b[0m ] \u001b[1m(CCXTDataConnector) BTCUSDT OHLCV listening has been stopped\u001b[0m\n",
      "\u001b[32m2024-07-19 13:37:02.828\u001b[0m [ \u001b[1mℹ️\u001b[0m ] \u001b[1m(CCXTDataConnector) BTCUSDT execution reports listening has been stopped\u001b[0m\n"
     ]
    },
    {
     "name": "stdout",
     "output_type": "stream",
     "text": [
      "\u001b[32m2024-07-19 13:37:02.809\u001b[0m [ \u001b[1mℹ️\u001b[0m ] \u001b[1m -> strategy is stopped\u001b[0m\n",
      "\u001b[32m2024-07-19 13:37:02.809\u001b[0m [ \u001b[1mℹ️\u001b[0m ] \u001b[1m\t\u001b[37mStrategyContext.handler\u001b[0m\u001b[1m took \u001b[31m0.0000023\u001b[0m\u001b[1m secs\u001b[0m\n",
      "\u001b[32m2024-07-19 13:37:02.809\u001b[0m [ \u001b[1mℹ️\u001b[0m ] \u001b[1m\t\u001b[37mloggers.notify\u001b[0m\u001b[1m took \u001b[31m0.0000025\u001b[0m\u001b[1m secs\u001b[0m\n",
      "\u001b[32m2024-07-19 13:37:02.809\u001b[0m [ \u001b[1mℹ️\u001b[0m ] \u001b[1m\t\u001b[37mStrategyContext._process_incoming_data\u001b[0m\u001b[1m took \u001b[31m0.0000214\u001b[0m\u001b[1m secs\u001b[0m\n",
      "\u001b[32m2024-07-19 13:37:02.809\u001b[0m [ \u001b[1mℹ️\u001b[0m ] \u001b[1m\t\u001b[37mCachedMarketDataHolder.update_by_bar\u001b[0m\u001b[1m took \u001b[31m0.0000592\u001b[0m\u001b[1m secs\u001b[0m\n",
      "\u001b[32m2024-07-19 13:37:02.809\u001b[0m [ \u001b[1mℹ️\u001b[0m ] \u001b[1m\t\u001b[37mStrategyContext._processing_bar\u001b[0m\u001b[1m took \u001b[31m0.0000764\u001b[0m\u001b[1m secs\u001b[0m\n",
      "\u001b[32m2024-07-19 13:37:02.809\u001b[0m [ \u001b[1mℹ️\u001b[0m ] \u001b[1m\t\u001b[37mstrategy.on_fit\u001b[0m\u001b[1m took \u001b[31m0.0007883\u001b[0m\u001b[1m secs\u001b[0m\n",
      "\u001b[32m2024-07-19 13:37:02.821\u001b[0m [ \u001b[1mℹ️\u001b[0m ] \u001b[1m\t\u001b[37mCachedMarketDataHolder.get_ohlcv\u001b[0m\u001b[1m took \u001b[31m0.0000692\u001b[0m\u001b[1m secs\u001b[0m\n",
      "\u001b[32m2024-07-19 13:37:02.821\u001b[0m [ \u001b[1mℹ️\u001b[0m ] \u001b[1m\t\u001b[37mstrategy.on_event\u001b[0m\u001b[1m took \u001b[31m0.0048913\u001b[0m\u001b[1m secs\u001b[0m\n",
      "\u001b[32m2024-07-19 13:37:02.821\u001b[0m [ \u001b[1mℹ️\u001b[0m ] \u001b[1m\t\u001b[37mStrategyContext.trade\u001b[0m\u001b[1m took \u001b[31m0.0033806\u001b[0m\u001b[1m secs\u001b[0m\n",
      "\u001b[32m2024-07-19 13:37:02.823\u001b[0m [ \u001b[1mℹ️\u001b[0m ] \u001b[1m\t\u001b[37mStrategyContext._processing_order\u001b[0m\u001b[1m took \u001b[31m0.0006886\u001b[0m\u001b[1m secs\u001b[0m\n",
      "\u001b[32m2024-07-19 13:37:02.824\u001b[0m [ \u001b[1mℹ️\u001b[0m ] \u001b[1m\t\u001b[37mStrategyContext._processing_deals\u001b[0m\u001b[1m took \u001b[31m0.0014585\u001b[0m\u001b[1m secs\u001b[0m\n",
      "\u001b[32m2024-07-19 13:37:02.809\u001b[0m [ \u001b[1mℹ️\u001b[0m ] \u001b[1m\t\u001b[37mStrategyContext.handler\u001b[0m\u001b[1m took \u001b[31m0.0000023\u001b[0m\u001b[1m secs\u001b[0m\n",
      "\u001b[32m2024-07-19 13:37:02.809\u001b[0m [ \u001b[1mℹ️\u001b[0m ] \u001b[1m\t\u001b[37mloggers.notify\u001b[0m\u001b[1m took \u001b[31m0.0000025\u001b[0m\u001b[1m secs\u001b[0m\n",
      "\u001b[32m2024-07-19 13:37:02.809\u001b[0m [ \u001b[1mℹ️\u001b[0m ] \u001b[1m\t\u001b[37mStrategyContext._process_incoming_data\u001b[0m\u001b[1m took \u001b[31m0.0000214\u001b[0m\u001b[1m secs\u001b[0m\n",
      "\u001b[32m2024-07-19 13:37:02.809\u001b[0m [ \u001b[1mℹ️\u001b[0m ] \u001b[1m\t\u001b[37mCachedMarketDataHolder.update_by_bar\u001b[0m\u001b[1m took \u001b[31m0.0000592\u001b[0m\u001b[1m secs\u001b[0m\n",
      "\u001b[32m2024-07-19 13:37:02.809\u001b[0m [ \u001b[1mℹ️\u001b[0m ] \u001b[1m\t\u001b[37mStrategyContext._processing_bar\u001b[0m\u001b[1m took \u001b[31m0.0000764\u001b[0m\u001b[1m secs\u001b[0m\n",
      "\u001b[32m2024-07-19 13:37:02.809\u001b[0m [ \u001b[1mℹ️\u001b[0m ] \u001b[1m\t\u001b[37mstrategy.on_fit\u001b[0m\u001b[1m took \u001b[31m0.0007883\u001b[0m\u001b[1m secs\u001b[0m\n",
      "\u001b[32m2024-07-19 13:37:02.821\u001b[0m [ \u001b[1mℹ️\u001b[0m ] \u001b[1m\t\u001b[37mCachedMarketDataHolder.get_ohlcv\u001b[0m\u001b[1m took \u001b[31m0.0000692\u001b[0m\u001b[1m secs\u001b[0m\n",
      "\u001b[32m2024-07-19 13:37:02.821\u001b[0m [ \u001b[1mℹ️\u001b[0m ] \u001b[1m\t\u001b[37mstrategy.on_event\u001b[0m\u001b[1m took \u001b[31m0.0048913\u001b[0m\u001b[1m secs\u001b[0m\n",
      "\u001b[32m2024-07-19 13:37:02.821\u001b[0m [ \u001b[1mℹ️\u001b[0m ] \u001b[1m\t\u001b[37mStrategyContext.trade\u001b[0m\u001b[1m took \u001b[31m0.0033806\u001b[0m\u001b[1m secs\u001b[0m\n",
      "\u001b[32m2024-07-19 13:37:02.823\u001b[0m [ \u001b[1mℹ️\u001b[0m ] \u001b[1m\t\u001b[37mStrategyContext._processing_order\u001b[0m\u001b[1m took \u001b[31m0.0006886\u001b[0m\u001b[1m secs\u001b[0m\n",
      "\u001b[32m2024-07-19 13:37:02.824\u001b[0m [ \u001b[1mℹ️\u001b[0m ] \u001b[1m\t\u001b[37mStrategyContext._processing_deals\u001b[0m\u001b[1m took \u001b[31m0.0014585\u001b[0m\u001b[1m secs\u001b[0m\n"
     ]
    }
   ],
   "source": [
    "ctx.stop()\n",
    "exch.close()"
   ]
  },
  {
   "cell_type": "markdown",
   "metadata": {},
   "source": [
    "# Simulated data provider"
   ]
  },
  {
   "cell_type": "code",
   "execution_count": 48,
   "metadata": {},
   "outputs": [],
   "source": [
    "from qubx.backtester.simulator import SimulatedTrading, SimulatedExchange\n",
    "from qubx.core.loggers import CsvFileLogsWriter, InMemoryLogsWriter\n",
    "\n",
    "QubxLogConfig.set_log_level(\"WARNING\")\n",
    "QubxLogConfig.set_log_level(\"INFO\")"
   ]
  },
  {
   "cell_type": "code",
   "execution_count": 63,
   "metadata": {},
   "outputs": [],
   "source": [
    "c1 = {'BTCUSDT': r.read('BINANCE.UM:BTCUSDT', '2024-01-01', '2024-01-02', AsPandasFrame())}"
   ]
  },
  {
   "cell_type": "code",
   "execution_count": 136,
   "metadata": {},
   "outputs": [],
   "source": [
    "from qubx.data.readers import DataReader, InMemoryDataFrameReader\n",
    "from qubx.utils.time import infer_series_frequency, handle_start_stop"
   ]
  },
  {
   "cell_type": "code",
   "execution_count": 139,
   "metadata": {},
   "outputs": [
    {
     "name": "stdout",
     "output_type": "stream",
     "text": [
      "['BTCUSDT']\n"
     ]
    },
    {
     "data": {
      "text/plain": [
       "[[2024-01-01T00:00:00.001000000]\t42314.00000 (1000000000.0) | 42314.00000 (1000000000.0),\n",
       " [2024-01-01T00:00:24.000000000]\t42289.60000 (1000000000.0) | 42289.60000 (1000000000.0),\n",
       " [2024-01-01T00:00:36.000000000]\t42335.80000 (1000000000.0) | 42335.80000 (1000000000.0),\n",
       " [2024-01-01T00:00:59.999000000]\t42331.90000 (1000000000.0) | 42331.90000 (1000000000.0),\n",
       " [2024-01-01T00:01:00.001000000]\t42331.90000 (1000000000.0) | 42331.90000 (1000000000.0),\n",
       " [2024-01-01T00:01:24.000000000]\t42331.80000 (1000000000.0) | 42331.80000 (1000000000.0),\n",
       " [2024-01-01T00:01:36.000000000]\t42353.10000 (1000000000.0) | 42353.10000 (1000000000.0),\n",
       " [2024-01-01T00:01:59.999000000]\t42350.40000 (1000000000.0) | 42350.40000 (1000000000.0),\n",
       " [2024-01-01T00:02:00.001000000]\t42350.40000 (1000000000.0) | 42350.40000 (1000000000.0),\n",
       " [2024-01-01T00:02:24.000000000]\t42349.60000 (1000000000.0) | 42349.60000 (1000000000.0)]"
      ]
     },
     "execution_count": 139,
     "metadata": {},
     "output_type": "execute_result"
    }
   ],
   "source": [
    "r1 = InMemoryDataFrameReader(c1)\n",
    "print(r1.get_names())\n",
    "\n",
    "d1 = r1.read('BTCUSDT', '2024-01-01', '2024-01-01 01:00', RestoreTicksFromOHLC())\n",
    "d1[:10]"
   ]
  },
  {
   "cell_type": "code",
   "execution_count": 53,
   "metadata": {},
   "outputs": [],
   "source": [
    "from qubx.data.readers import DataReader\n",
    "\n",
    "\n",
    "def simulate(\n",
    "    setup: Any,\n",
    "    data: Dict[str, pd.DataFrame] | pd.DataFrame | DataReader,\n",
    "    capital: float,\n",
    "    instruments: List[str] | Dict[str, List[str]] | None,\n",
    "    commissions: str,\n",
    "    start: str | pd.Timestamp,\n",
    "    stop: str | pd.Timestamp | None = None,\n",
    "    parameters: Dict[str, Any] | None = None,\n",
    "    base_currency: str = \"USDT\",\n",
    "    leverage: float = 1.0,\n",
    "):\n",
    "    pass\n",
    "\n",
    "\n",
    "rep = simulate(TestStrategy, \n",
    "               r, 10000, [\"BINANCE.UM:BTCUSDT\"], \"vip0_usdt\", \"2024-01-01\", \n",
    "               parameters={\n",
    "                   \n",
    "               })"
   ]
  },
  {
   "cell_type": "code",
   "execution_count": 49,
   "metadata": {},
   "outputs": [
    {
     "name": "stdout",
     "output_type": "stream",
     "text": [
      "\u001b[32m2024-07-21 14:56:44.729\u001b[0m [ \u001b[1mℹ️\u001b[0m ] \u001b[1mSimulatedData.binance initialized\u001b[0m\n",
      "\u001b[32m2024-07-21 14:56:44.731\u001b[0m [ \u001b[1mℹ️\u001b[0m ] \u001b[1m(StrategyContext) set strategy parameters:\n",
      "\tset \u001b[32mtimeframe\u001b[0m\u001b[1m <- \u001b[31m1h\u001b[0m\u001b[1m\n",
      "\tset \u001b[32mfast_period\u001b[0m\u001b[1m <- \u001b[31m3\u001b[0m\u001b[1m\n",
      "\tset \u001b[32mslow_period\u001b[0m\u001b[1m <- \u001b[31m24\u001b[0m\u001b[1m\u001b[0m\n",
      "\u001b[32m2024-07-21 14:56:44.733\u001b[0m [ \u001b[1mℹ️\u001b[0m ] \u001b[1m(StrategyContext) Subscribing to ohlc updates using {'timeframe': '5Min', 'nback': 10} for \n",
      "\t['BTCUSDT', 'SOLUSDT'] \u001b[0m\n",
      "\u001b[32m2024-07-21 14:56:44.734\u001b[0m [ \u001b[1mℹ️\u001b[0m ] \u001b[1m -> Strategy started | 2024-04-01T00:00:00.000000000\u001b[0m\n",
      "\u001b[32m2024-07-21 14:56:44.731\u001b[0m [ \u001b[1mℹ️\u001b[0m ] \u001b[1m(StrategyContext) set strategy parameters:\n",
      "\tset \u001b[32mtimeframe\u001b[0m\u001b[1m <- \u001b[31m1h\u001b[0m\u001b[1m\n",
      "\tset \u001b[32mfast_period\u001b[0m\u001b[1m <- \u001b[31m3\u001b[0m\u001b[1m\n",
      "\tset \u001b[32mslow_period\u001b[0m\u001b[1m <- \u001b[31m24\u001b[0m\u001b[1m\u001b[0m\n",
      "\u001b[32m2024-07-21 14:56:44.733\u001b[0m [ \u001b[1mℹ️\u001b[0m ] \u001b[1m(StrategyContext) Subscribing to ohlc updates using {'timeframe': '5Min', 'nback': 10} for \n",
      "\t['BTCUSDT', 'SOLUSDT'] \u001b[0m\n",
      "\u001b[32m2024-07-21 14:56:44.734\u001b[0m [ \u001b[1mℹ️\u001b[0m ] \u001b[1m -> Strategy started | 2024-04-01T00:00:00.000000000\u001b[0m\n"
     ]
    }
   ],
   "source": [
    "sbroker = SimulatedTrading('binance', 10000, 'vip0_usdt', 'USDT', '2024-04-01 00:00:00')\n",
    "sdp = SimulatedExchange('binance', sbroker, r)\n",
    "\n",
    "instruments = [lookup.find_symbol('BINANCE.UM', s) for s in ['BTCUSDT', 'SOLUSDT']]#, 'LINKUSDT']]\n",
    "# instruments = [lookup.find_symbol('BINANCE.UM', s) for s in ['SOLUSDT']]#, 'LINKUSDT']]\n",
    "\n",
    "logs_writer = InMemoryLogsWriter('test', 'test', 'test')\n",
    "\n",
    "ctx = StrategyContext(\n",
    "    TestStrategy(), dict(timeframe='1h', fast_period=3, slow_period=24), \n",
    "    sdp, instruments=instruments,  # type: ignore\n",
    "    md_subscription=dict(type='ohlc', timeframe='5Min', nback=10), # TODO: doesn't work if nback > 0 !!!\n",
    "    trigger_spec='1h -2Sec',\n",
    "    logs_writer=logs_writer,\n",
    "    # trigger_spec=\"*/10 * * * *\"\n",
    "\n",
    ")\n",
    "ctx.start()"
   ]
  },
  {
   "cell_type": "code",
   "execution_count": null,
   "metadata": {},
   "outputs": [],
   "source": [
    "# %%time\n",
    "d = sdp.run('2024-01-01 00:00', '2024-01-02 00:00')\n",
    "# d = sdp.run('2024-04-01 00:00', '2024-04-15 00:00')\n",
    "ctx.stop()"
   ]
  },
  {
   "cell_type": "code",
   "execution_count": 8,
   "metadata": {},
   "outputs": [
    {
     "name": "stderr",
     "output_type": "stream",
     "text": [
      "c:\\Users\\dmitr\\devs\\Qubx\\.venv\\Lib\\site-packages\\qube\\portfolio\\performance.py:87: RuntimeWarning: invalid value encountered in scalar power\n",
      "  return (cumrets.iloc[-1] ** (1.0 / years)) - 1.0\n",
      "c:\\Users\\dmitr\\devs\\Qubx\\.venv\\Lib\\site-packages\\qube\\portfolio\\performance.py:87: RuntimeWarning: invalid value encountered in scalar power\n",
      "  return (cumrets.iloc[-1] ** (1.0 / years)) - 1.0\n",
      "c:\\Users\\dmitr\\devs\\Qubx\\.venv\\Lib\\site-packages\\qube\\portfolio\\performance.py:310: RuntimeWarning: invalid value encountered in log1p\n",
      "  cum_log_returns = np.log1p(returns).cumsum()\n"
     ]
    },
    {
     "data": {
      "text/html": [
       "\n",
       "\n",
       "\n",
       "\n",
       "<style>\n",
       ".report_table td, .report_table th {\n",
       "    text-align:left !important;\n",
       "}\n",
       "\n",
       ".wrap_table th {\n",
       "    text-align:center !important;\n",
       "}\n",
       "\n",
       ".wrap_table td, .wrap_table tr {\n",
       "    background: none !important;\n",
       "    text-align:left !important;\n",
       "}\n",
       "\n",
       ".flex-container {\n",
       "   display: flex;\n",
       "  align-items: flex-start;\n",
       "}\n",
       "\n",
       ".table_block {\n",
       "  width:30%;\n",
       "}\n",
       "\n",
       "</style>\n",
       "\n",
       "<table class=\"wrap_table\" width=100%>\n",
       "<th><font size=3 color=\"green\" text-align=\"center\"> Simulation </font></th>\n",
       "<tr><td><font color=\"#3030ff\" size=-2></font></td></tr>\n",
       "</table>\n",
       "\n",
       "<div class=\"flex-container\"><div class=\"\">\n",
       "<img src='data:image/png;base64,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'>\n",
       "</div>\n",
       "<div class=\"table_block\">\n",
       "<table class=\"report_table\" width=100%>\n",
       "<tr>\n",
       "     <th> Statistic </th><th> Model </th>\n",
       "</tr>\n",
       "<tr><td>Gain (USD):</td><td>-1337.92</td></tr>\n",
       "<tr><td>CAGR (%):</td><td>nan</td></tr>\n",
       "<tr><td>Sharpe:</td><td>0.391</td></tr>\n",
       "<tr><td>QR:</td><td>-1.803</td></tr>\n",
       "<tr><td>Sortino:</td><td>1.240</td></tr>\n",
       "<tr><td>Calmar: </td><td>nan</td></tr>\n",
       "<tr><td>MaxDD (%):</td><td>140.244</td></tr>\n",
       "<tr><td>MaxDD On Init BP (%):</td><td>166.112</td></tr>\n",
       "<tr><td>MaxDD (USD):</td><td>1661.117</td></tr>\n",
       "<tr><td>MaxDD days:</td><td>88 days</td></tr>\n",
       "<tr><td>MaxDD start:</td><td>2024-01-03</td></tr>\n",
       "<tr><td>MaxDD peak:</td><td>2024-03-29</td></tr>\n",
       "<tr><td>MaxDD recover:</td><td>2024-04-01</td></tr>\n",
       "<tr><td>Tail Ratio:</td><td>0.468</td></tr>\n",
       "<tr><td>Stability: </td><td>nan</td></tr>\n",
       "<tr><td>Alpha:</td><td></td></tr>\n",
       "<tr><td>Beta:</td><td></td></tr>\n",
       "<tr><td>Ann.Volatility (%):</td><td>2659.68</td></tr>\n",
       "<tr><td>VAR_95 (USD):</td><td>2706.57</td></tr>\n",
       "<tr><td>Mean return (%)</td><td>3.427</td></tr>\n",
       "<tr><td>Signals</td><td>???</td></tr>\n",
       "<tr><td>Broker's Commissions:</td><td> 581.646 </td></tr>\n",
       "\n",
       "\n",
       "</table>\n",
       "</div>\n",
       "</div></div>\n"
      ],
      "text/plain": [
       "<IPython.core.display.HTML object>"
      ]
     },
     "metadata": {},
     "output_type": "display_data"
    },
    {
     "data": {
      "text/plain": [
       "<Figure size 720x640 with 0 Axes>"
      ]
     },
     "metadata": {},
     "output_type": "display_data"
    }
   ],
   "source": [
    "from qube.portfolio.reports import tearsheet\n",
    "\n",
    "q_pfl = logs_writer.get_portfolio(qube_compatible=True)\n",
    "tearsheet(q_pfl, 1000, account_transactions=1)"
   ]
  },
  {
   "cell_type": "code",
   "execution_count": 216,
   "metadata": {},
   "outputs": [
    {
     "data": {
      "text/html": [
       "<div>\n",
       "<style scoped>\n",
       "    .dataframe tbody tr th:only-of-type {\n",
       "        vertical-align: middle;\n",
       "    }\n",
       "\n",
       "    .dataframe tbody tr th {\n",
       "        vertical-align: top;\n",
       "    }\n",
       "\n",
       "    .dataframe thead th {\n",
       "        text-align: right;\n",
       "    }\n",
       "</style>\n",
       "<table border=\"1\" class=\"dataframe\">\n",
       "  <thead>\n",
       "    <tr style=\"text-align: right;\">\n",
       "      <th></th>\n",
       "      <th>instrument_id</th>\n",
       "      <th>side</th>\n",
       "      <th>filled_qty</th>\n",
       "      <th>price</th>\n",
       "      <th>commissions</th>\n",
       "      <th>commissions_quoted</th>\n",
       "    </tr>\n",
       "    <tr>\n",
       "      <th>timestamp</th>\n",
       "      <th></th>\n",
       "      <th></th>\n",
       "      <th></th>\n",
       "      <th></th>\n",
       "      <th></th>\n",
       "      <th></th>\n",
       "    </tr>\n",
       "  </thead>\n",
       "  <tbody>\n",
       "    <tr>\n",
       "      <th>2024-01-02 17:59:59.999</th>\n",
       "      <td>SOLUSDT</td>\n",
       "      <td>sell</td>\n",
       "      <td>-10.0</td>\n",
       "      <td>107.7075</td>\n",
       "      <td>None</td>\n",
       "      <td>None</td>\n",
       "    </tr>\n",
       "    <tr>\n",
       "      <th>2024-01-03 06:59:59.999</th>\n",
       "      <td>SOLUSDT</td>\n",
       "      <td>buy</td>\n",
       "      <td>20.0</td>\n",
       "      <td>109.4985</td>\n",
       "      <td>None</td>\n",
       "      <td>None</td>\n",
       "    </tr>\n",
       "    <tr>\n",
       "      <th>2024-01-03 07:59:59.999</th>\n",
       "      <td>SOLUSDT</td>\n",
       "      <td>sell</td>\n",
       "      <td>-20.0</td>\n",
       "      <td>107.9585</td>\n",
       "      <td>None</td>\n",
       "      <td>None</td>\n",
       "    </tr>\n",
       "    <tr>\n",
       "      <th>2024-01-03 09:59:59.999</th>\n",
       "      <td>SOLUSDT</td>\n",
       "      <td>buy</td>\n",
       "      <td>20.0</td>\n",
       "      <td>109.1885</td>\n",
       "      <td>None</td>\n",
       "      <td>None</td>\n",
       "    </tr>\n",
       "    <tr>\n",
       "      <th>2024-01-03 10:59:59.999</th>\n",
       "      <td>SOLUSDT</td>\n",
       "      <td>sell</td>\n",
       "      <td>-20.0</td>\n",
       "      <td>107.5695</td>\n",
       "      <td>None</td>\n",
       "      <td>None</td>\n",
       "    </tr>\n",
       "  </tbody>\n",
       "</table>\n",
       "</div>"
      ],
      "text/plain": [
       "                        instrument_id  side  filled_qty     price commissions  \\\n",
       "timestamp                                                                       \n",
       "2024-01-02 17:59:59.999       SOLUSDT  sell       -10.0  107.7075        None   \n",
       "2024-01-03 06:59:59.999       SOLUSDT   buy        20.0  109.4985        None   \n",
       "2024-01-03 07:59:59.999       SOLUSDT  sell       -20.0  107.9585        None   \n",
       "2024-01-03 09:59:59.999       SOLUSDT   buy        20.0  109.1885        None   \n",
       "2024-01-03 10:59:59.999       SOLUSDT  sell       -20.0  107.5695        None   \n",
       "\n",
       "                        commissions_quoted  \n",
       "timestamp                                   \n",
       "2024-01-02 17:59:59.999               None  \n",
       "2024-01-03 06:59:59.999               None  \n",
       "2024-01-03 07:59:59.999               None  \n",
       "2024-01-03 09:59:59.999               None  \n",
       "2024-01-03 10:59:59.999               None  "
      ]
     },
     "execution_count": 216,
     "metadata": {},
     "output_type": "execute_result"
    }
   ],
   "source": [
    "exs.head()"
   ]
  },
  {
   "cell_type": "code",
   "execution_count": null,
   "metadata": {},
   "outputs": [],
   "source": [
    "# pfl = pd.read_csv(\"logs/Strategy3_Account1_portfolio.csv\", index_col='timestamp', parse_dates=True)\n",
    "pfl = logs_writer.get_portfolio(qube_compatible=False)\n",
    "exs = logs_writer.get_executions()"
   ]
  },
  {
   "cell_type": "code",
   "execution_count": 217,
   "metadata": {},
   "outputs": [
    {
     "data": {
      "text/plain": [
       "<Axes: xlabel='timestamp'>"
      ]
     },
     "execution_count": 217,
     "metadata": {},
     "output_type": "execute_result"
    },
    {
     "data": {
      "image/png": "[encoded data removed]",
      "text/plain": [
       "<Figure size 960x400 with 1 Axes>"
      ]
     },
     "metadata": {},
     "output_type": "display_data"
    }
   ],
   "source": [
    "(pfl[pfl['instrument_id'] == 'BTCUSDT'].pnl_quoted + \n",
    " pfl[pfl['instrument_id'] == 'SOLUSDT'].pnl_quoted).plot()\n",
    "# pfl[pfl['instrument_id'] == 'LINKUSDT'].pnl_quoted.plot()"
   ]
  },
  {
   "cell_type": "code",
   "execution_count": null,
   "metadata": {},
   "outputs": [],
   "source": []
  },
  {
   "cell_type": "code",
   "execution_count": null,
   "metadata": {},
   "outputs": [],
   "source": []
  }
 ],
 "metadata": {
  "kernelspec": {
   "display_name": ".venv",
   "language": "python",
   "name": "python3"
  },
  "language_info": {
   "codemirror_mode": {
    "name": "ipython",
    "version": 3
   },
   "file_extension": ".py",
   "mimetype": "text/x-python",
   "name": "python",
   "nbconvert_exporter": "python",
   "pygments_lexer": "ipython3",
   "version": "3.11.8"
  }
 },
 "nbformat": 4,
 "nbformat_minor": 2
}
