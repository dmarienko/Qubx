{
 "cells": [
  {
   "cell_type": "code",
   "execution_count": 1,
   "metadata": {},
   "outputs": [
    {
     "name": "stdout",
     "output_type": "stream",
     "text": [
      " >  [\u001b[32mdev\u001b[0m] \u001b[31minstalling cython rebuilding hook\u001b[0m\n",
      "\n",
      "⠀⠀⡰⡖⠒⠒⢒⢦⠀⠀   \n",
      "⠀⢠⠃⠈⢆⣀⣎⣀⣱⡀  \u001b[31mQUBX\u001b[0m | \u001b[36mQuantitative Backtesting Environment\u001b[0m \n",
      "⠀⢳⠒⠒⡞⠚⡄⠀⡰⠁         (c) 2024, ver. \u001b[35mDev\u001b[0m\n",
      "⠀⠀⠱⣜⣀⣀⣈⣦⠃⠀⠀⠀ \n",
      "        \n",
      "\u001b[32m2024-07-24 23:26:27.805\u001b[0m [ \u001b[1mℹ️\u001b[0m ] \u001b[1mNTP offset controller thread is started\u001b[0m\n",
      "\u001b[32m2024-07-24 23:26:28.001\u001b[0m [ \u001b[34m\u001b[1m🐞\u001b[0m ] \u001b[34m\u001b[1mConnected to QuestDB at xlydian-data:8812\u001b[0m\n"
     ]
    }
   ],
   "source": [
    "import sys, os, re; sys.path = ([\"../src/\", \"../\"] if re.match(r'^(\\w\\:\\\\)|(/)', os.getcwd()) else [])+ sys.path \n",
    "\n",
    "from typing import Any, Optional, List\n",
    "\n",
    "import qubx\n",
    "%qubxd dev \n",
    "\n",
    "%load_ext autoreload\n",
    "%autoreload 2\n",
    "\n",
    "from qubx import lookup, logger\n",
    "from qubx.core.strategy import IStrategy, StrategyContext, TriggerEvent, PositionsTracker\n",
    "from qubx.pandaz.utils import *\n",
    "\n",
    "# - - - - - - - - - - - - - - - - - - - - - - - -\n",
    "from qubx.trackers import PortfolioRebalancerTracker\n",
    "from qubx.core.series import Quote\n",
    "from qubx.ta.indicators import sma, ema\n",
    "from qubx.data.readers import CsvStorageDataReader, MultiQdbConnector, AsTimestampedRecords, AsQuotes, RestoreTicksFromOHLC, AsPandasFrame, RestoreTicksFromOHLC\n",
    "from qubx.core.basics import Deal, Instrument, Order, Position, Signal\n",
    "from qubx.core.utils import recognize_time\n",
    "\n",
    "from qubx.impl.ccxt_connector import CCXTExchangesConnector\n",
    "from qubx.impl.ccxt_trading import CCXTTradingConnector\n",
    "from qubx.utils.runner import get_account_config\n",
    "\n",
    "def Q(time: str, bid: float, ask: float) -> Quote:\n",
    "    return Quote(recognize_time(time), bid, ask, 0, 0)\n",
    "\n",
    "# r = CsvStorageDataReader(\"../tests/data/csv\")\n",
    "r = MultiQdbConnector('xlydian-data')\n",
    "\n",
    "from qubx import QubxLogConfig\n",
    "from qubx.backtester.simulator import simulate\n",
    "\n",
    "# from qube.portfolio.reports import tearsheet\n",
    "from qubx.core.metrics import tearsheet, portfolio_metrics"
   ]
  },
  {
   "cell_type": "markdown",
   "metadata": {},
   "source": [
    "# Test Strategy"
   ]
  },
  {
   "cell_type": "code",
   "execution_count": 2,
   "metadata": {},
   "outputs": [],
   "source": [
    "class TestStrategy(IStrategy):\n",
    "    timeframe: str = \"1Min\"\n",
    "    fast_period = 5\n",
    "    slow_period = 12\n",
    "\n",
    "    def on_start(self, ctx: StrategyContext):\n",
    "        logger.info(f\" -> Strategy started | {ctx.time()}\")\n",
    "\n",
    "    def on_fit(self, ctx: \"StrategyContext\", fit_time: str | pd.Timestamp, previous_fit_time: str | pd.Timestamp | None = None):\n",
    "        logger.info(f\" -> Fit is called | fit_time: {fit_time} / prev: {previous_fit_time}\")\n",
    "        data = ctx.get_historical_ohlcs(ctx.instruments[0], '1h', 24)\n",
    "        logger.info(data)\n",
    "\n",
    "    def on_event(self, ctx: StrategyContext, event: TriggerEvent) -> List[Signal] | None:\n",
    "        # logger.info(f\" ||||| {event.time} -> {event} |||||\")\n",
    "\n",
    "        for i in ctx.instruments:\n",
    "            # logger.info(f\"\\t{i.symbol} : {ctx.broker_provider.get_quote(i.symbol)}\")\n",
    "\n",
    "            if True:\n",
    "                ohlc = ctx.ohlc(i, self.timeframe)\n",
    "                fast = ema(ohlc.close, self.fast_period)\n",
    "                slow = ema(ohlc.close, self.slow_period)\n",
    "                pos = ctx.positions[i.symbol].quantity\n",
    "                # cap = ctx.get_capital()\n",
    "                # n = len(ctx.instruments)\n",
    "                if pos <= 0:\n",
    "                    if (fast[0] > slow[0]) and (fast[1] < slow[1]):\n",
    "                        ctx.trade(i, abs(pos) + i.min_size * 10)\n",
    "\n",
    "                if pos >= 0:\n",
    "                    if (fast[0] < slow[0]) and (fast[1] > slow[1]):\n",
    "                        ctx.trade(i, -pos - i.min_size * 10)\n",
    "\n",
    "        return None\n",
    "\n",
    "    def ohlcs(self, timeframe: str) -> Dict[str, pd.DataFrame]:\n",
    "        return {s.symbol: self.ctx.ohlc(s, timeframe).pd() for s in self.ctx.instruments}\n",
    "\n",
    "    def on_stop(self, ctx: StrategyContext):\n",
    "        logger.info(f\" -> strategy is stopped\")\n",
    "\n",
    "    def tracker(self, ctx: StrategyContext) -> PositionsTracker:\n",
    "        return PortfolioRebalancerTracker(1000, 0).set_context(ctx)"
   ]
  },
  {
   "cell_type": "markdown",
   "metadata": {},
   "source": [
    "# Simulated broker and paper trading"
   ]
  },
  {
   "cell_type": "code",
   "execution_count": 3,
   "metadata": {},
   "outputs": [],
   "source": [
    "from qubx.backtester.simulator import SimulatedTrading"
   ]
  },
  {
   "cell_type": "code",
   "execution_count": 4,
   "metadata": {},
   "outputs": [
    {
     "name": "stdout",
     "output_type": "stream",
     "text": [
      "\u001b[32m2024-07-24 23:44:13.700\u001b[0m [ \u001b[1mℹ️\u001b[0m ] \u001b[1mbinance initialized - current time 1970-01-01T00:00:00.000000000\u001b[0m\n",
      "\u001b[32m2024-07-24 23:44:13.700\u001b[0m [ \u001b[33m\u001b[1m⚠️\u001b[0m ] \u001b[36mqubx.core.loggers\u001b[0m:\u001b[36m__init__\u001b[0m:\u001b[36m379\u001b[0m - \u001b[33m\u001b[1mLog writer is not defined - strategy activity will not be saved !\u001b[0m\n",
      "\u001b[32m2024-07-24 23:44:13.700\u001b[0m [ \u001b[1mℹ️\u001b[0m ] \u001b[1m\u001b[33mTestStrategy\u001b[0m\u001b[1m new parameters:\n",
      "\tset \u001b[32mtimeframe\u001b[0m\u001b[1m <- \u001b[31m1Min\u001b[0m\u001b[1m\u001b[0m\n",
      "\u001b[32m2024-07-24 23:44:13.700\u001b[0m [ \u001b[34m\u001b[1m🐞\u001b[0m ] \u001b[34m\u001b[1mTriggering strategy on every 1Min bar after 55S\u001b[0m\n",
      "\u001b[32m2024-07-24 23:44:13.700\u001b[0m [ \u001b[33m\u001b[1m⚠️\u001b[0m ] \u001b[36mqubx.core.loggers\u001b[0m:\u001b[36m__init__\u001b[0m:\u001b[36m379\u001b[0m - \u001b[33m\u001b[1mLog writer is not defined - strategy activity will not be saved !\u001b[0m\n",
      "\u001b[32m2024-07-24 23:44:13.700\u001b[0m [ \u001b[1mℹ️\u001b[0m ] \u001b[1m\u001b[33mTestStrategy\u001b[0m\u001b[1m new parameters:\n",
      "\tset \u001b[32mtimeframe\u001b[0m\u001b[1m <- \u001b[31m1Min\u001b[0m\u001b[1m\u001b[0m\n",
      "\u001b[32m2024-07-24 23:44:13.700\u001b[0m [ \u001b[34m\u001b[1m🐞\u001b[0m ] \u001b[34m\u001b[1mTriggering strategy on every 1Min bar after 55S\u001b[0m\n"
     ]
    }
   ],
   "source": [
    "auth = get_account_config('binance-qbx', './configs/.env')\n",
    "\n",
    "sim = SimulatedTrading('binance', 10000, 'vip0_usdt', 'USDT')\n",
    "exch = CCXTExchangesConnector('binance', sim, **auth)\n",
    "\n",
    "instruments = [lookup.find_symbol('BINANCE', 'BTCUSDT')]\n",
    "ctx = StrategyContext(\n",
    "    TestStrategy(), dict(\n",
    "        timeframe='1Min',\n",
    "    ), \n",
    "    exch, instruments=instruments,  # type: ignore\n",
    "    md_subscription=dict(type='ohlc', timeframe='1Min', nback=0),\n",
    "    trigger_spec='1Min -5Sec',\n",
    ")\n",
    "S = ctx.strategy"
   ]
  },
  {
   "cell_type": "code",
   "execution_count": 5,
   "metadata": {},
   "outputs": [
    {
     "name": "stdout",
     "output_type": "stream",
     "text": [
      "\u001b[32m2024-07-24 23:44:15.799\u001b[0m [ \u001b[1mℹ️\u001b[0m ] \u001b[1m(StrategyContext) Subscribing to ohlc updates using {'timeframe': '1Min', 'nback': 0} for \n",
      "\t['BTCUSDT'] \u001b[0m\n",
      "\u001b[32m2024-07-24 23:44:15.799\u001b[0m [ \u001b[1mℹ️\u001b[0m ] \u001b[1mSubscribed on ohlc updates for 1 symbols: \n",
      "\t\t['BTCUSDT']\u001b[0m\n",
      "\u001b[32m2024-07-24 23:44:15.799\u001b[0m [ \u001b[1mℹ️\u001b[0m ] \u001b[1m -> Strategy started | 1970-01-01T00:00:00.000000000\u001b[0m\n",
      "\u001b[32m2024-07-24 23:44:15.799\u001b[0m [ \u001b[1mℹ️\u001b[0m ] \u001b[1m(StrategyContext) Start processing market data\u001b[0m\n",
      "\u001b[32m2024-07-24 23:44:15.799\u001b[0m [ \u001b[1mℹ️\u001b[0m ] \u001b[1m(StrategyContext) strategy is started in thread\u001b[0m\n"
     ]
    },
    {
     "name": "stdout",
     "output_type": "stream",
     "text": [
      "\u001b[32m2024-07-24 23:44:21.421\u001b[0m [ \u001b[34m\u001b[1m🐞\u001b[0m ] \u001b[34m\u001b[1m[2024-07-24T20:44:22.301477632]: Invoking TestStrategy on_fit('1970-01-01 00:00:00', 'None')\u001b[0m\n",
      "\u001b[32m2024-07-24 23:44:21.421\u001b[0m [ \u001b[1mℹ️\u001b[0m ] \u001b[1m -> Fit is called | fit_time: 1970-01-01 00:00:00 / prev: None\u001b[0m\n",
      "\u001b[32m2024-07-24 23:44:21.697\u001b[0m [ \u001b[1mℹ️\u001b[0m ] \u001b[1mBTCUSDT[1H] | 24 records\n",
      "  2024-07-24T20:00:00.000000000 {o:65652.010000 | h:65977.760000 | l:65648.000000 | c:65942.010000 | v:29079733.553007}\n",
      "  2024-07-24T19:00:00.000000000 {o:65754.000000 | h:66102.000000 | l:65558.890000 | c:65652.000000 | v:90460500.512869}\n",
      "  2024-07-24T18:00:00.000000000 {o:66586.010000 | h:66650.000000 | l:65715.170000 | c:65754.000000 | v:99652544.921735}\n",
      "   .......... \n",
      "  2024-07-23T23:00:00.000000000 {o:65917.990000 | h:66054.000000 | l:65793.010000 | c:65936.010000 | v:44373941.504378}\n",
      "  2024-07-23T22:00:00.000000000 {o:65872.000000 | h:66043.470000 | l:65790.000000 | c:65917.990000 | v:44738031.684124}\n",
      "  2024-07-23T21:00:00.000000000 {o:65836.000000 | h:66049.990000 | l:65782.000000 | c:65872.000000 | v:38196072.917010}\n",
      "\u001b[0m\n",
      "\u001b[32m2024-07-24 23:44:21.697\u001b[0m [ \u001b[34m\u001b[1m🐞\u001b[0m ] \u001b[34m\u001b[1m[2024-07-24T20:44:22.301477632]: TestStrategy is fitted\u001b[0m\n",
      "\u001b[32m2024-07-24 23:46:52.614\u001b[0m [ \u001b[34m\u001b[1m🐞\u001b[0m ] \u001b[34m\u001b[1m[SIM-ORDER-BTCUSDT-100001 / TestStrategy_BTCUSDT_1] : MARKET BUY 0.1 of BTCUSDT  -> [CLOSED]\u001b[0m\n",
      "\u001b[32m2024-07-24 23:46:52.614\u001b[0m [ \u001b[34m\u001b[1m🐞\u001b[0m ] \u001b[34m\u001b[1mExecuted 0.1 @ 66001.725 of BTCUSDT for order SIM-ORDER-BTCUSDT-100001\u001b[0m\n",
      "\u001b[32m2024-07-24 23:46:56.042\u001b[0m [ \u001b[34m\u001b[1m🐞\u001b[0m ] \u001b[34m\u001b[1m[SIM-ORDER-BTCUSDT-100002 / TestStrategy_BTCUSDT_2] : MARKET SELL 0.1 of BTCUSDT  -> [CLOSED]\u001b[0m\n",
      "\u001b[32m2024-07-24 23:46:56.043\u001b[0m [ \u001b[34m\u001b[1m🐞\u001b[0m ] \u001b[34m\u001b[1mExecuted -0.1 @ 66001.72499999999 of BTCUSDT for order SIM-ORDER-BTCUSDT-100002\u001b[0m\n",
      "\u001b[32m2024-07-24 23:47:04.029\u001b[0m [ \u001b[34m\u001b[1m🐞\u001b[0m ] \u001b[34m\u001b[1m[SIM-ORDER-BTCUSDT-100003 / TestStrategy_BTCUSDT_3] : LIMIT BUY 0.1 of BTCUSDT  @ 45000 -> [OPEN]\u001b[0m\n",
      "\u001b[32m2024-07-24 23:47:06.680\u001b[0m [ \u001b[34m\u001b[1m🐞\u001b[0m ] \u001b[34m\u001b[1m[SIM-ORDER-BTCUSDT-100003 / TestStrategy_BTCUSDT_3] : LIMIT BUY 0.1 of BTCUSDT  @ 45000 -> [CANCELED]\u001b[0m\n",
      "\u001b[32m2024-07-24 23:47:08.443\u001b[0m [ \u001b[1mℹ️\u001b[0m ] \u001b[1m(StrategyContext) Market data processing stopped\u001b[0m\n",
      "\u001b[32m2024-07-24 23:47:08.457\u001b[0m [ \u001b[1mℹ️\u001b[0m ] \u001b[1m(CCXTDataConnector) BTCUSDT OHLCV listening has been stopped\u001b[0m\n",
      "\u001b[32m2024-07-24 23:47:08.457\u001b[0m [ \u001b[1mℹ️\u001b[0m ] \u001b[1m(CCXTDataConnector) BTCUSDT execution reports listening has been stopped\u001b[0m\n"
     ]
    }
   ],
   "source": [
    "ctx.start()"
   ]
  },
  {
   "cell_type": "code",
   "execution_count": null,
   "metadata": {},
   "outputs": [],
   "source": [
    "exch.get_historical_ohlcs('BTCUSDT', '5Min', 200)"
   ]
  },
  {
   "cell_type": "code",
   "execution_count": 7,
   "metadata": {},
   "outputs": [
    {
     "data": {
      "text/plain": [
       "                         open      high       low     close         volume  \\\n",
       "timestamp                                                                    \n",
       "2024-07-24 20:44:00  65942.00  65960.00  65942.00  65960.00  207115.180324   \n",
       "2024-07-24 20:45:00  65959.99  66000.00  65959.99  65994.00  543114.085287   \n",
       "2024-07-24 20:46:00  65994.00  66001.73  65994.00  66001.73  166845.124294   \n",
       "\n",
       "                     bought_volume  \n",
       "timestamp                           \n",
       "2024-07-24 20:44:00  185995.910316  \n",
       "2024-07-24 20:45:00  408569.665865  \n",
       "2024-07-24 20:46:00  157245.282872  "
      ]
     },
     "execution_count": 7,
     "metadata": {},
     "output_type": "execute_result"
    }
   ],
   "source": [
    "ctx.ohlc(ctx.instruments[0], '1Min')"
   ]
  },
  {
   "cell_type": "code",
   "execution_count": 8,
   "metadata": {},
   "outputs": [
    {
     "name": "stdout",
     "output_type": "stream",
     "text": [
      "2024-07-24 20:46:51 [BINANCE:BTCUSDT]       0.00000      0.00    +0.0000 | 66001.72        0.00\n",
      "[]\n"
     ]
    }
   ],
   "source": [
    "print(exch.trading_service.get_position(instruments[0]))\n",
    "print(exch.trading_service.get_orders())"
   ]
  },
  {
   "cell_type": "code",
   "execution_count": 9,
   "metadata": {},
   "outputs": [
    {
     "name": "stdout",
     "output_type": "stream",
     "text": [
      "\u001b[32m2024-07-24 23:46:52.611\u001b[0m [ \u001b[1mℹ️\u001b[0m ] \u001b[1m(StrategyContext) sending market buy for 0.1 of BTCUSDT ...\u001b[0m\n",
      "\u001b[32m2024-07-24 23:46:52.611\u001b[0m [ \u001b[34m\u001b[1m🐞\u001b[0m ] \u001b[34m\u001b[1m[OMS] BTCUSDT - SIM-ORDER-BTCUSDT-100001 MARKET BUY 0.1 executed at 66001.725\u001b[0m\n",
      "\u001b[32m2024-07-24 23:46:52.612\u001b[0m [ \u001b[1mℹ️\u001b[0m ] \u001b[1m  ::  traded 0.1 for BTCUSDT @ 66001.725 -> 0.00\u001b[0m\n",
      "\u001b[32m2024-07-24 23:46:52.612\u001b[0m [ \u001b[1mℹ️\u001b[0m ] \u001b[1mOrder SIM-ORDER-BTCUSDT-100001 MARKET BUY 0.1 of BTCUSDT -> CLOSED\u001b[0m\n"
     ]
    },
    {
     "data": {
      "text/plain": [
       "Order(id='SIM-ORDER-BTCUSDT-100001', type='MARKET', symbol='BTCUSDT', time=numpy.datetime64('2024-07-24T20:46:53.432892672'), quantity=0.1, price=0, side='BUY', status='CLOSED', time_in_force='gtc', client_id='TestStrategy_BTCUSDT_1', cost=0.0)"
      ]
     },
     "execution_count": 9,
     "metadata": {},
     "output_type": "execute_result"
    }
   ],
   "source": [
    "ctx.trade('BTCUSDT', 0.1)"
   ]
  },
  {
   "cell_type": "code",
   "execution_count": 10,
   "metadata": {},
   "outputs": [
    {
     "name": "stdout",
     "output_type": "stream",
     "text": [
      "\u001b[32m2024-07-24 23:46:56.039\u001b[0m [ \u001b[1mℹ️\u001b[0m ] \u001b[1m(StrategyContext) sending market sell for 0.1 of BTCUSDT ...\u001b[0m\n",
      "\u001b[32m2024-07-24 23:46:56.039\u001b[0m [ \u001b[34m\u001b[1m🐞\u001b[0m ] \u001b[34m\u001b[1m[OMS] BTCUSDT - SIM-ORDER-BTCUSDT-100002 MARKET SELL 0.1 executed at 66001.72499999999\u001b[0m\n",
      "\u001b[32m2024-07-24 23:46:56.040\u001b[0m [ \u001b[1mℹ️\u001b[0m ] \u001b[1m  ::  traded -0.1 for BTCUSDT @ 66001.72499999999 -> 0.00\u001b[0m\n",
      "\u001b[32m2024-07-24 23:46:56.040\u001b[0m [ \u001b[1mℹ️\u001b[0m ] \u001b[1mOrder SIM-ORDER-BTCUSDT-100002 MARKET SELL 0.1 of BTCUSDT -> CLOSED\u001b[0m\n"
     ]
    },
    {
     "data": {
      "text/plain": [
       "Order(id='SIM-ORDER-BTCUSDT-100002', type='MARKET', symbol='BTCUSDT', time=numpy.datetime64('2024-07-24T20:46:55.719847424'), quantity=0.1, price=0, side='SELL', status='CLOSED', time_in_force='gtc', client_id='TestStrategy_BTCUSDT_2', cost=0.0)"
      ]
     },
     "execution_count": 10,
     "metadata": {},
     "output_type": "execute_result"
    }
   ],
   "source": [
    "ctx.trade('BTCUSDT', -0.1)"
   ]
  },
  {
   "cell_type": "code",
   "execution_count": 11,
   "metadata": {},
   "outputs": [
    {
     "name": "stdout",
     "output_type": "stream",
     "text": [
      "\u001b[32m2024-07-24 23:47:04.026\u001b[0m [ \u001b[1mℹ️\u001b[0m ] \u001b[1m(StrategyContext) sending limit buy for 0.1 of BTCUSDT ...\u001b[0m\n",
      "\u001b[32m2024-07-24 23:47:04.026\u001b[0m [ \u001b[34m\u001b[1m🐞\u001b[0m ] \u001b[34m\u001b[1m[OMS] BTCUSDT - registered SIM-ORDER-BTCUSDT-100003 LIMIT BUY 0.1 45000\u001b[0m\n"
     ]
    },
    {
     "data": {
      "text/plain": [
       "Order(id='SIM-ORDER-BTCUSDT-100003', type='LIMIT', symbol='BTCUSDT', time=numpy.datetime64('2024-07-24T20:47:04.619925504'), quantity=0.1, price=45000, side='BUY', status='OPEN', time_in_force='gtc', client_id='TestStrategy_BTCUSDT_3', cost=0.0)"
      ]
     },
     "execution_count": 11,
     "metadata": {},
     "output_type": "execute_result"
    }
   ],
   "source": [
    "ctx.trade('BTCUSDT', 0.1, 45000)"
   ]
  },
  {
   "cell_type": "code",
   "execution_count": 12,
   "metadata": {},
   "outputs": [
    {
     "name": "stdout",
     "output_type": "stream",
     "text": [
      "\u001b[32m2024-07-24 23:47:06.680\u001b[0m [ \u001b[34m\u001b[1m🐞\u001b[0m ] \u001b[34m\u001b[1m[OMS] BTCUSDT - SIM-ORDER-BTCUSDT-100003 LIMIT BUY 0.1 canceled\u001b[0m\n",
      "\u001b[32m2024-07-24 23:47:06.680\u001b[0m [ \u001b[1mℹ️\u001b[0m ] \u001b[1mOrder SIM-ORDER-BTCUSDT-100003 LIMIT BUY 0.1 of BTCUSDT -> CANCELED\u001b[0m\n",
      "\u001b[32m2024-07-24 23:47:06.680\u001b[0m [ \u001b[1mℹ️\u001b[0m ] \u001b[1mOrder SIM-ORDER-BTCUSDT-100003 LIMIT BUY 0.1 of BTCUSDT -> CANCELED\u001b[0m\n"
     ]
    }
   ],
   "source": [
    "ctx.cancel('BTCUSDT')"
   ]
  },
  {
   "cell_type": "code",
   "execution_count": 13,
   "metadata": {},
   "outputs": [
    {
     "name": "stdout",
     "output_type": "stream",
     "text": [
      "\u001b[32m2024-07-24 23:47:08.443\u001b[0m [ \u001b[1mℹ️\u001b[0m ] \u001b[1m -> strategy is stopped\u001b[0m\n",
      "\u001b[32m2024-07-24 23:47:08.443\u001b[0m [ \u001b[1mℹ️\u001b[0m ] \u001b[1m\t\u001b[37mCachedMarketDataHolder.update_by_bar\u001b[0m\u001b[1m took \u001b[31m0.0000884\u001b[0m\u001b[1m secs\u001b[0m\n",
      "\u001b[32m2024-07-24 23:47:08.443\u001b[0m [ \u001b[1mℹ️\u001b[0m ] \u001b[1m\t\u001b[37mStrategyContext._processing_bar\u001b[0m\u001b[1m took \u001b[31m0.0000974\u001b[0m\u001b[1m secs\u001b[0m\n",
      "\u001b[32m2024-07-24 23:47:08.443\u001b[0m [ \u001b[1mℹ️\u001b[0m ] \u001b[1m\t\u001b[37mStrategyContext.handler\u001b[0m\u001b[1m took \u001b[31m0.0000024\u001b[0m\u001b[1m secs\u001b[0m\n",
      "\u001b[32m2024-07-24 23:47:08.449\u001b[0m [ \u001b[1mℹ️\u001b[0m ] \u001b[1m\t\u001b[37mloggers.notify\u001b[0m\u001b[1m took \u001b[31m0.0000019\u001b[0m\u001b[1m secs\u001b[0m\n",
      "\u001b[32m2024-07-24 23:47:08.449\u001b[0m [ \u001b[1mℹ️\u001b[0m ] \u001b[1m\t\u001b[37mStrategyContext._process_incoming_data\u001b[0m\u001b[1m took \u001b[31m0.0000140\u001b[0m\u001b[1m secs\u001b[0m\n",
      "\u001b[32m2024-07-24 23:47:08.449\u001b[0m [ \u001b[1mℹ️\u001b[0m ] \u001b[1m\t\u001b[37mCachedMarketDataHolder.get_ohlcv\u001b[0m\u001b[1m took \u001b[31m0.0000617\u001b[0m\u001b[1m secs\u001b[0m\n",
      "\u001b[32m2024-07-24 23:47:08.449\u001b[0m [ \u001b[1mℹ️\u001b[0m ] \u001b[1m\t\u001b[37mCachedMarketDataHolder.update_by_bars\u001b[0m\u001b[1m took \u001b[31m0.0001726\u001b[0m\u001b[1m secs\u001b[0m\n",
      "\u001b[32m2024-07-24 23:47:08.449\u001b[0m [ \u001b[1mℹ️\u001b[0m ] \u001b[1m\t\u001b[37mStrategyContext.get_historical_ohlcs\u001b[0m\u001b[1m took \u001b[31m0.2714645\u001b[0m\u001b[1m secs\u001b[0m\n",
      "\u001b[32m2024-07-24 23:47:08.449\u001b[0m [ \u001b[1mℹ️\u001b[0m ] \u001b[1m\t\u001b[37mstrategy.on_fit\u001b[0m\u001b[1m took \u001b[31m0.2738782\u001b[0m\u001b[1m secs\u001b[0m\n",
      "\u001b[32m2024-07-24 23:47:08.449\u001b[0m [ \u001b[1mℹ️\u001b[0m ] \u001b[1m\t\u001b[37mstrategy.on_event\u001b[0m\u001b[1m took \u001b[31m0.0001183\u001b[0m\u001b[1m secs\u001b[0m\n",
      "\u001b[32m2024-07-24 23:47:08.449\u001b[0m [ \u001b[1mℹ️\u001b[0m ] \u001b[1m\t\u001b[37mStrategyContext.trade\u001b[0m\u001b[1m took \u001b[31m0.0020589\u001b[0m\u001b[1m secs\u001b[0m\n",
      "\u001b[32m2024-07-24 23:47:08.449\u001b[0m [ \u001b[1mℹ️\u001b[0m ] \u001b[1m\t\u001b[37mStrategyContext._processing_order\u001b[0m\u001b[1m took \u001b[31m0.0007955\u001b[0m\u001b[1m secs\u001b[0m\n",
      "\u001b[32m2024-07-24 23:47:08.449\u001b[0m [ \u001b[1mℹ️\u001b[0m ] \u001b[1m\t\u001b[37mStrategyContext._processing_deals\u001b[0m\u001b[1m took \u001b[31m0.0009277\u001b[0m\u001b[1m secs\u001b[0m\n",
      "\u001b[32m2024-07-24 23:47:08.449\u001b[0m [ \u001b[1mℹ️\u001b[0m ] \u001b[1m\t\u001b[37mStrategyContext.cancel\u001b[0m\u001b[1m took \u001b[31m0.0014140\u001b[0m\u001b[1m secs\u001b[0m\n",
      "\u001b[32m2024-07-24 23:47:08.443\u001b[0m [ \u001b[1mℹ️\u001b[0m ] \u001b[1m\t\u001b[37mCachedMarketDataHolder.update_by_bar\u001b[0m\u001b[1m took \u001b[31m0.0000884\u001b[0m\u001b[1m secs\u001b[0m\n",
      "\u001b[32m2024-07-24 23:47:08.443\u001b[0m [ \u001b[1mℹ️\u001b[0m ] \u001b[1m\t\u001b[37mStrategyContext._processing_bar\u001b[0m\u001b[1m took \u001b[31m0.0000974\u001b[0m\u001b[1m secs\u001b[0m\n",
      "\u001b[32m2024-07-24 23:47:08.443\u001b[0m [ \u001b[1mℹ️\u001b[0m ] \u001b[1m\t\u001b[37mStrategyContext.handler\u001b[0m\u001b[1m took \u001b[31m0.0000024\u001b[0m\u001b[1m secs\u001b[0m\n",
      "\u001b[32m2024-07-24 23:47:08.449\u001b[0m [ \u001b[1mℹ️\u001b[0m ] \u001b[1m\t\u001b[37mloggers.notify\u001b[0m\u001b[1m took \u001b[31m0.0000019\u001b[0m\u001b[1m secs\u001b[0m\n",
      "\u001b[32m2024-07-24 23:47:08.449\u001b[0m [ \u001b[1mℹ️\u001b[0m ] \u001b[1m\t\u001b[37mStrategyContext._process_incoming_data\u001b[0m\u001b[1m took \u001b[31m0.0000140\u001b[0m\u001b[1m secs\u001b[0m\n",
      "\u001b[32m2024-07-24 23:47:08.449\u001b[0m [ \u001b[1mℹ️\u001b[0m ] \u001b[1m\t\u001b[37mCachedMarketDataHolder.get_ohlcv\u001b[0m\u001b[1m took \u001b[31m0.0000617\u001b[0m\u001b[1m secs\u001b[0m\n",
      "\u001b[32m2024-07-24 23:47:08.449\u001b[0m [ \u001b[1mℹ️\u001b[0m ] \u001b[1m\t\u001b[37mCachedMarketDataHolder.update_by_bars\u001b[0m\u001b[1m took \u001b[31m0.0001726\u001b[0m\u001b[1m secs\u001b[0m\n",
      "\u001b[32m2024-07-24 23:47:08.449\u001b[0m [ \u001b[1mℹ️\u001b[0m ] \u001b[1m\t\u001b[37mStrategyContext.get_historical_ohlcs\u001b[0m\u001b[1m took \u001b[31m0.2714645\u001b[0m\u001b[1m secs\u001b[0m\n",
      "\u001b[32m2024-07-24 23:47:08.449\u001b[0m [ \u001b[1mℹ️\u001b[0m ] \u001b[1m\t\u001b[37mstrategy.on_fit\u001b[0m\u001b[1m took \u001b[31m0.2738782\u001b[0m\u001b[1m secs\u001b[0m\n",
      "\u001b[32m2024-07-24 23:47:08.449\u001b[0m [ \u001b[1mℹ️\u001b[0m ] \u001b[1m\t\u001b[37mstrategy.on_event\u001b[0m\u001b[1m took \u001b[31m0.0001183\u001b[0m\u001b[1m secs\u001b[0m\n",
      "\u001b[32m2024-07-24 23:47:08.449\u001b[0m [ \u001b[1mℹ️\u001b[0m ] \u001b[1m\t\u001b[37mStrategyContext.trade\u001b[0m\u001b[1m took \u001b[31m0.0020589\u001b[0m\u001b[1m secs\u001b[0m\n",
      "\u001b[32m2024-07-24 23:47:08.449\u001b[0m [ \u001b[1mℹ️\u001b[0m ] \u001b[1m\t\u001b[37mStrategyContext._processing_order\u001b[0m\u001b[1m took \u001b[31m0.0007955\u001b[0m\u001b[1m secs\u001b[0m\n",
      "\u001b[32m2024-07-24 23:47:08.449\u001b[0m [ \u001b[1mℹ️\u001b[0m ] \u001b[1m\t\u001b[37mStrategyContext._processing_deals\u001b[0m\u001b[1m took \u001b[31m0.0009277\u001b[0m\u001b[1m secs\u001b[0m\n",
      "\u001b[32m2024-07-24 23:47:08.449\u001b[0m [ \u001b[1mℹ️\u001b[0m ] \u001b[1m\t\u001b[37mStrategyContext.cancel\u001b[0m\u001b[1m took \u001b[31m0.0014140\u001b[0m\u001b[1m secs\u001b[0m\n"
     ]
    }
   ],
   "source": [
    "ctx.stop()\n",
    "exch.close()"
   ]
  },
  {
   "cell_type": "markdown",
   "metadata": {},
   "source": [
    "# Simulated data provider"
   ]
  },
  {
   "cell_type": "code",
   "execution_count": 3,
   "metadata": {},
   "outputs": [],
   "source": [
    "from qubx.backtester.simulator import SimulatedTrading, SimulatedExchange\n",
    "from qubx.core.loggers import CsvFileLogsWriter, InMemoryLogsWriter\n",
    "from qubx.trackers.rebalancers import PortfolioRebalancerTracker\n",
    "\n",
    "QubxLogConfig.set_log_level(\"WARNING\")\n",
    "QubxLogConfig.set_log_level(\"INFO\")\n",
    "QubxLogConfig.set_log_level(\"DEBUG\")"
   ]
  },
  {
   "cell_type": "code",
   "execution_count": 5,
   "metadata": {},
   "outputs": [
    {
     "name": "stdout",
     "output_type": "stream",
     "text": [
      "['BINANCE.UM:BTCUSDT']\n",
      "['binance.umfutures.btcusdt.candles_1m', 'binance.umfutures.trxusdt.candles_1m', 'binance.umfutures.nfpusdt.candles_1m', 'binance.umfutures.hbarusdt.candles_1m', 'binance.umfutures.bigtimeusdt.candles_1m', 'binance.umfutures.eosusdt.candles_1m', 'binance.umfutures.jasmyusdt.candles_1m', 'binance.umfutures.cvcusdt.candles_1m', 'binance.umfutures.gmxusdt.candles_1m', 'binance.umfutures.minausdt.candles_1m', 'binance.umfutures.maviausdt.candles_1m', 'binance.umfutures.badgerusdt.candles_1m', 'binance.umfutures.flowusdt.candles_1m', 'binance.umfutures.imxusdt.candles_1m', 'binance.umfutures.stgusdt.candles_1m', 'binance.umfutures.loomusdt.candles_1m', 'binance.umfutures.pixelusdt.candles_1m', 'binance.umfutures.idusdt.candles_1m', 'binance.umfutures.iostusdt.candles_1m', 'binance.umfutures.solusdt.candles_1m', 'binance.umfutures.batusdt.candles_1m', 'binance.umfutures.trxusdt.agg_trade', 'binance.umfutures.arkusdt.candles_1m', 'binance.umfutures.solusdt.agg_trade', 'binance.umfutures.footballusdt.candles_1m', 'binance.umfutures.apeusdt.candles_1m', 'binance.umfutures.1000flokiusdt.agg_trade', 'binance.umfutures.linausdt.candles_1m', 'binance.umfutures.lskusdt.candles_1m', 'binance.umfutures.fxsusdt.candles_1m', 'binance.umfutures.aaveusdt.candles_1m', 'binance.umfutures.sntusdt.candles_1m', 'binance.umfutures.ctsiusdt.candles_1m', 'binance.umfutures.ustcusdt.candles_1m', 'binance.umfutures.galusdt.candles_1m', 'binance.umfutures.litusdt.candles_1m', 'binance.umfutures.keyusdt.candles_1m', 'binance.umfutures.ethusdt_240329.candles_1m', 'binance.umfutures.balusdt.candles_1m', 'binance.umfutures.myrousdt.agg_trade', 'binance.umfutures.ltcusdt.candles_1m', 'binance.umfutures.wavesusdt.candles_1m', 'binance.umfutures.zenusdt.candles_1m', 'binance.umfutures.cvxusdt.candles_1m', 'binance.umfutures.vanryusdt.candles_1m', 'binance.umfutures.spellusdt.candles_1m', 'binance.umfutures.glmusdt.candles_1m', 'binance.umfutures.grtusdt.candles_1m', 'binance.umfutures.kncusdt.candles_1m', 'binance.umfutures.btcusdt.funding_rate', 'binance.umfutures.rvnusdt.candles_1m', 'binance.umfutures.manausdt.candles_1m', 'binance.umfutures.trbusdt.candles_1m', 'binance.umfutures.eduusdt.candles_1m', 'binance.umfutures.altusdt.candles_1m', 'binance.umfutures.opusdt.candles_1m', 'binance.umfutures.cfxusdt.candles_1m', 'binance.umfutures.bluebirdusdt.candles_1m', 'binance.umfutures.enjusdt.candles_1m', 'binance.umfutures.solusdt.funding_rate', 'binance.umfutures.twtusdt.candles_1m', 'binance.umfutures.xvgusdt.candles_1m', 'binance.umfutures.bandusdt.candles_1m', 'binance.umfutures.ldousdt.candles_1m', 'binance.umfutures.xaiusdt.candles_1m', 'binance.umfutures.zilusdt.candles_1m', 'binance.umfutures.sklusdt.candles_1m', 'binance.umfutures.polyxusdt.candles_1m', 'binance.umfutures.ethusdt.candles_1m', 'binance.umfutures.sagausdt.candles_1m', 'binance.umfutures.aliceusdt.candles_1m', 'binance.umfutures.etcusdt.candles_1m', 'binance.umfutures.cocosusdt.candles_1m', 'binance.umfutures.stptusdt.candles_1m', 'binance.umfutures.1000bonkusdt.candles_1m', 'binance.umfutures.ilvusdt.candles_1m', 'binance.umfutures.runeusdt.candles_1m', 'binance.umfutures.mavusdt.candles_1m', 'binance.umfutures.zetausdt.candles_1m', 'binance.umfutures.btcstusdt.candles_1m', 'binance.umfutures.xtzusdt.candles_1m', 'binance.umfutures.agldusdt.candles_1m', 'binance.umfutures.ftmusdt.candles_1m', 'binance.umfutures.qtumusdt.candles_1m', 'binance.umfutures.sushiusdt.candles_1m', 'binance.umfutures.btcusdt_240927.candles_1m', 'binance.umfutures.xemusdt.candles_1m', 'binance.umfutures.belusdt.candles_1m', 'binance.umfutures.aptusdt.candles_1m', 'binance.umfutures.ongusdt.candles_1m', 'binance.umfutures.vetusdt.candles_1m', 'binance.umfutures.injusdt.candles_1m', 'binance.umfutures.hntusdt.candles_1m', 'binance.umfutures.aiusdt.candles_1m', 'binance.umfutures.dgbusdt.candles_1m', 'binance.umfutures.neousdt.candles_1m', 'binance.umfutures.klayusdt.candles_1m', 'binance.umfutures.cyberusdt.candles_1m', 'binance.umfutures.arpausdt.candles_1m', 'binance.umfutures.bnbusdt.candles_1m', 'binance.umfutures.tiausdt.candles_1m', 'binance.umfutures.renusdt.candles_1m', 'binance.umfutures.gmtusdt.candles_1m', 'binance.umfutures.srmusdt.candles_1m', 'binance.umfutures.gtcusdt.candles_1m', 'binance.umfutures.filusdt.candles_1m', 'binance.umfutures.unfiusdt.candles_1m', 'binance.umfutures.powrusdt.candles_1m', 'binance.umfutures.cakeusdt.candles_1m', 'binance.umfutures.maticusdt.candles_1m', 'binance.umfutures.lptusdt.candles_1m', 'binance.umfutures.nearusdt.candles_1m', 'binance.umfutures.seiusdt.candles_1m', 'binance.umfutures.astrusdt.candles_1m', 'binance.umfutures.mdtusdt.candles_1m', 'binance.umfutures.stmxusdt.candles_1m', 'binance.umfutures.nknusdt.candles_1m', 'binance.umfutures.omniusdt.candles_1m', 'binance.umfutures.uniusdt.candles_1m', 'binance.umfutures.arbusdt.candles_1m', 'binance.umfutures.mblusdt.candles_1m', 'binance.umfutures.xmrusdt.candles_1m', 'binance.umfutures.blzusdt.candles_1m', 'binance.umfutures.crvusdt.candles_1m', 'binance.umfutures.qntusdt.candles_1m', 'binance.umfutures.tnsrusdt.candles_1m', 'binance.umfutures.cotiusdt.candles_1m', 'binance.umfutures.sfpusdt.candles_1m', 'binance.umfutures.btcusdt.liquidation', 'binance.umfutures.tusdt.candles_1m', 'binance.umfutures.scusdt.candles_1m', 'binance.umfutures.ethusdt_240628.candles_1m', 'binance.umfutures.bakeusdt.candles_1m', 'binance.umfutures.mtlusdt.candles_1m', 'binance.umfutures.chrusdt.candles_1m', 'binance.umfutures.flmusdt.candles_1m', 'binance.umfutures.dashusdt.candles_1m', 'binance.umfutures.orbsusdt.candles_1m', 'binance.umfutures.truusdt.candles_1m', 'binance.umfutures.tlmusdt.candles_1m', 'binance.umfutures.dymusdt.candles_1m', 'binance.umfutures.solusdt.long_short', 'binance.umfutures.btsusdt.candles_1m', 'binance.umfutures.pythusdt.candles_1m', 'binance.umfutures.ckbusdt.candles_1m', 'binance.umfutures.darusdt.candles_1m', 'binance.umfutures.movrusdt.candles_1m', 'binance.umfutures.antusdt.candles_1m', 'binance.umfutures.axsusdt.candles_1m', 'binance.umfutures.dogeusdt.candles_1m', 'binance.umfutures.nearusdt.agg_trade', 'binance.umfutures.steemusdt.candles_1m', 'binance.umfutures.ambusdt.candles_1m', 'binance.umfutures.xrpusdt.candles_1m', 'binance.umfutures.1inchusdt.candles_1m', 'binance.umfutures.pendleusdt.candles_1m', 'binance.umfutures.peopleusdt.agg_trade', 'binance.umfutures.mkrusdt.candles_1m', 'binance.umfutures.atausdt.candles_1m', 'binance.umfutures.superusdt.candles_1m', 'binance.umfutures.icxusdt.candles_1m', 'binance.umfutures.ethfiusdt.candles_1m', 'binance.umfutures.wifusdt.agg_trade', 'binance.umfutures.solusdt.liquidation', 'binance.umfutures.solusdt.orderbook', 'binance.umfutures.rsrusdt.candles_1m', 'binance.umfutures.arbusdt.agg_trade', 'binance.umfutures.yggusdt.candles_1m', 'binance.umfutures.thetausdt.candles_1m', 'binance.umfutures.fttusdt.candles_1m', 'binance.umfutures.tokenusdt.candles_1m', 'binance.umfutures.mantausdt.candles_1m', 'binance.umfutures.adausdt.candles_1m', 'binance.umfutures.metisusdt.candles_1m', 'binance.umfutures.celrusdt.candles_1m', 'binance.umfutures.galausdt.candles_1m', 'binance.umfutures.oneusdt.candles_1m', 'binance.umfutures.solusdt.trade', 'binance.umfutures.1000ratsusdt.candles_1m', 'binance.umfutures.egldusdt.candles_1m', 'binance.umfutures.dydxusdt.candles_1m', 'binance.umfutures.ordiusdt.candles_1m', 'binance.umfutures.bomeusdt.candles_1m', 'binance.umfutures.duskusdt.candles_1m', 'binance.umfutures.phbusdt.candles_1m', 'binance.umfutures.c98usdt.candles_1m', 'binance.umfutures.omgusdt.candles_1m', 'binance.umfutures.rdntusdt.candles_1m', 'binance.umfutures.enausdt.candles_1m', 'binance.umfutures.ssvusdt.candles_1m', 'binance.umfutures.blurusdt.candles_1m', 'binance.umfutures.yfiusdt.candles_1m', 'binance.umfutures.iotxusdt.candles_1m', 'binance.umfutures.bondusdt.candles_1m', 'binance.umfutures.roseusdt.candles_1m', 'binance.umfutures.bnbusdt.agg_trade', 'binance.umfutures.straxusdt.candles_1m', 'binance.umfutures.xvsusdt.candles_1m', 'binance.umfutures.wusdt.candles_1m', 'binance.umfutures.sandusdt.candles_1m', 'binance.umfutures.perpusdt.candles_1m', 'binance.umfutures.dotusdt.candles_1m', 'binance.umfutures.btcusdt.orderbook', 'binance.umfutures.bntusdt.candles_1m', 'binance.umfutures.kasusdt.candles_1m', 'binance.umfutures.rlcusdt.candles_1m', 'binance.umfutures.slpusdt.candles_1m', 'binance.umfutures.wifusdt.candles_1m', 'binance.umfutures.avaxusdt.agg_trade', 'binance.umfutures.xlmusdt.candles_1m', 'binance.umfutures.frontusdt.candles_1m', 'binance.umfutures.roninusdt.candles_1m', 'binance.umfutures.maskusdt.candles_1m', 'binance.umfutures.nmrusdt.candles_1m', 'binance.umfutures.hftusdt.candles_1m', 'binance.umfutures.portalusdt.candles_1m', 'binance.umfutures.memeusdt.candles_1m', 'binance.umfutures.1000pepeusdt.candles_1m', 'binance.umfutures.1000shibusdt.candles_1m', 'binance.umfutures.hifiusdt.candles_1m', 'binance.umfutures.btcusdt.agg_trade', 'binance.umfutures.bnxusdt.candles_1m', 'binance.umfutures.1000flokiusdt.candles_1m', 'binance.umfutures.ctkusdt.candles_1m', 'binance.umfutures.hotusdt.candles_1m', 'binance.umfutures.btcusdt_240628.candles_1m', 'binance.umfutures.bsvusdt.candles_1m', 'binance.umfutures.icpusdt.candles_1m', 'binance.umfutures.agixusdt.candles_1m', 'binance.umfutures.alphausdt.candles_1m', 'binance.umfutures.chzusdt.candles_1m', 'binance.umfutures.bicousdt.candles_1m', 'binance.umfutures.tonusdt.candles_1m', 'binance.umfutures.joeusdt.candles_1m', 'binance.umfutures.rezusdt.candles_1m', 'binance.umfutures.1000satsusdt.candles_1m', 'binance.umfutures.ethusdt_240927.candles_1m', 'binance.umfutures.btcusdt.trade', 'binance.umfutures.suiusdt.candles_1m', 'binance.umfutures.rayusdt.candles_1m', 'binance.umfutures.rifusdt.candles_1m', 'binance.umfutures.arusdt.candles_1m', 'binance.umfutures.1000luncusdt.candles_1m', 'binance.umfutures.api3usdt.candles_1m', 'binance.umfutures.hookusdt.candles_1m', 'binance.umfutures.1000xecusdt.candles_1m', 'binance.umfutures.btcusdt.open_interest', 'binance.umfutures.bchusdt.candles_1m', 'binance.umfutures.magicusdt.candles_1m', 'binance.umfutures.lqtyusdt.candles_1m', 'binance.umfutures.radusdt.candles_1m', 'binance.umfutures.btcusdt_240329.candles_1m', 'binance.umfutures.wldusdt.candles_1m', 'binance.umfutures.gasusdt.candles_1m', 'binance.umfutures.usdcusdt.candles_1m', 'binance.umfutures.ntrnusdt.candles_1m', 'binance.umfutures.zecusdt.candles_1m', 'binance.umfutures.ognusdt.candles_1m', 'binance.umfutures.glmrusdt.candles_1m', 'binance.umfutures.tomousdt.candles_1m', 'binance.umfutures.iotausdt.candles_1m', 'binance.umfutures.ontusdt.candles_1m', 'binance.umfutures.atomusdt.candles_1m', 'binance.umfutures.ethwusdt.candles_1m', 'binance.umfutures.peopleusdt.candles_1m', 'binance.umfutures.celousdt.candles_1m', 'binance.umfutures.stxusdt.candles_1m', 'binance.umfutures.leverusdt.candles_1m', 'binance.umfutures.storjusdt.candles_1m', 'binance.umfutures.aevousdt.candles_1m', 'binance.umfutures.ondousdt.candles_1m', 'binance.umfutures.dodoxusdt.candles_1m', 'binance.umfutures.kavausdt.candles_1m', 'binance.umfutures.ankrusdt.candles_1m', 'binance.umfutures.linkusdt.candles_1m', 'binance.umfutures.beamxusdt.candles_1m', 'binance.umfutures.arkmusdt.candles_1m', 'binance.umfutures.compusdt.candles_1m', 'binance.umfutures.defiusdt.candles_1m', 'binance.umfutures.btcdomusdt.candles_1m', 'binance.umfutures.filusdt.agg_trade', 'binance.umfutures.galusdt.agg_trade', 'binance.umfutures.algousdt.candles_1m', 'binance.umfutures.lrcusdt.candles_1m', 'binance.umfutures.axlusdt.candles_1m', 'binance.umfutures.oceanusdt.candles_1m', 'binance.umfutures.aceusdt.candles_1m', 'binance.umfutures.ensusdt.candles_1m', 'binance.umfutures.auctionusdt.candles_1m', 'binance.umfutures.highusdt.candles_1m', 'binance.umfutures.oxtusdt.candles_1m', 'binance.umfutures.taousdt.candles_1m', 'binance.umfutures.ksmusdt.candles_1m', 'binance.umfutures.strkusdt.candles_1m', 'binance.umfutures.jtousdt.candles_1m', 'binance.umfutures.myrousdt.candles_1m', 'binance.umfutures.audiousdt.candles_1m', 'binance.umfutures.umausdt.candles_1m', 'binance.umfutures.luna2usdt.candles_1m', 'binance.umfutures.snxusdt.candles_1m', 'binance.umfutures.omusdt.candles_1m', 'binance.umfutures.woousdt.candles_1m', 'binance.umfutures.idexusdt.candles_1m', 'binance.umfutures.jupusdt.candles_1m', 'binance.umfutures.achusdt.candles_1m', 'binance.umfutures.sxpusdt.candles_1m', 'binance.umfutures.reefusdt.candles_1m', 'binance.umfutures.fetusdt.candles_1m', 'binance.umfutures.dentusdt.candles_1m', 'binance.umfutures.avaxusdt.candles_1m', 'binance.umfutures.combousdt.candles_1m', 'binance.umfutures.waxpusdt.candles_1m', 'binance.umfutures.rndrusdt.candles_1m', 'binance.umfutures.solusdt.open_interest', 'binance.umfutures.zrxusdt.candles_1m', 'binance.umfutures.btcusdt.long_short']\n"
     ]
    }
   ],
   "source": [
    "from qubx.data.readers import DataReader, InMemoryDataFrameReader\n",
    "from qubx.utils.time import infer_series_frequency, handle_start_stop\n",
    "\n",
    "c1 = {'BINANCE.UM:BTCUSDT': r.read('BINANCE.UM:BTCUSDT', '2024-01-01', '2024-01-02', AsPandasFrame())}\n",
    "r1 = InMemoryDataFrameReader(c1)\n",
    "print(r1.get_names())\n",
    "print(r.get_names('candles'))\n",
    "\n",
    "# d1 = r1.read('BTCUSDT', '2024-01-01', '2024-01-01 01:00', RestoreTicksFromOHLC())"
   ]
  },
  {
   "cell_type": "code",
   "execution_count": 4,
   "metadata": {},
   "outputs": [
    {
     "name": "stdout",
     "output_type": "stream",
     "text": [
      "\u001b[32m2024-07-24 23:26:31.844\u001b[0m [ \u001b[1mℹ️\u001b[0m ] \u001b[1m\u001b[33mTestStrategy\u001b[0m\u001b[1m new parameters:\n",
      "\tset \u001b[32mtimeframe\u001b[0m\u001b[1m <- \u001b[31m1h\u001b[0m\u001b[1m\n",
      "\tset \u001b[32mfast_period\u001b[0m\u001b[1m <- \u001b[31m12\u001b[0m\u001b[1m\n",
      "\tset \u001b[32mslow_period\u001b[0m\u001b[1m <- \u001b[31m24\u001b[0m\u001b[1m\u001b[0m\n"
     ]
    },
    {
     "data": {
      "application/vnd.jupyter.widget-view+json": {
       "model_id": "f9a33aff555345099f23b8d11dfcafcb",
       "version_major": 2,
       "version_minor": 0
      },
      "text/plain": [
       "  0%|          | 0/3 [00:00<?, ?it/s]"
      ]
     },
     "metadata": {},
     "output_type": "display_data"
    },
    {
     "name": "stdout",
     "output_type": "stream",
     "text": [
      "\u001b[32m2024-07-24 23:26:31.848\u001b[0m [ \u001b[1mℹ️\u001b[0m ] \u001b[1mSimulatedData.binance.um initialized\u001b[0m\n",
      "\u001b[32m2024-07-24 23:26:31.848\u001b[0m [ \u001b[1mℹ️\u001b[0m ] \u001b[1m(StrategyContext) Subscribing to ohlc updates using {'timeframe': '5Min', 'nback': 10} for \n",
      "\t['BTCUSDT'] \u001b[0m\n"
     ]
    },
    {
     "data": {
      "application/vnd.jupyter.widget-view+json": {
       "model_id": "c0eec06dc0b849d0bd4641c0c9f3044b",
       "version_major": 2,
       "version_minor": 0
      },
      "text/plain": [
       "  0%|          | 0/4220 [00:00<?, ?it/s]"
      ]
     },
     "metadata": {},
     "output_type": "display_data"
    },
    {
     "name": "stdout",
     "output_type": "stream",
     "text": [
      "\u001b[32m2024-07-24 23:26:32.009\u001b[0m [ \u001b[1mℹ️\u001b[0m ] \u001b[1m(StrategyContext) sending market buy for 1.0 of BTCUSDT ...\u001b[0m\n",
      "\u001b[32m2024-07-24 23:26:32.010\u001b[0m [ \u001b[1mℹ️\u001b[0m ] \u001b[1m  ::  traded 1.0 for BTCUSDT @ 42688.850000000006 -> 0.00\u001b[0m\n",
      "\u001b[32m2024-07-24 23:26:32.011\u001b[0m [ \u001b[1mℹ️\u001b[0m ] \u001b[1mOrder SIM-ORDER-BTCUSDT-100001 MARKET BUY 1.0 of BTCUSDT -> CLOSED\u001b[0m\n",
      "\u001b[32m2024-07-24 23:26:32.061\u001b[0m [ \u001b[1mℹ️\u001b[0m ] \u001b[1m(StrategyContext) sending market sell for 1.0 of BTCUSDT ...\u001b[0m\n",
      "\u001b[32m2024-07-24 23:26:32.067\u001b[0m [ \u001b[1mℹ️\u001b[0m ] \u001b[1m  ::  traded -1.0 for BTCUSDT @ 45486.75 -> 2797.95\u001b[0m\n",
      "\u001b[32m2024-07-24 23:26:32.067\u001b[0m [ \u001b[1mℹ️\u001b[0m ] \u001b[1mOrder SIM-ORDER-BTCUSDT-100002 MARKET SELL 1.0 of BTCUSDT -> CLOSED\u001b[0m\n",
      "\u001b[32m2024-07-24 23:26:32.111\u001b[0m [ \u001b[1mℹ️\u001b[0m ] \u001b[1m(StrategyContext) sending market sell for 1.0 of BTCUSDT ...\u001b[0m\n",
      "\u001b[32m2024-07-24 23:26:32.111\u001b[0m [ \u001b[1mℹ️\u001b[0m ] \u001b[1m  ::  traded -1.0 for BTCUSDT @ 43728.85 -> 0.00\u001b[0m\n",
      "\u001b[32m2024-07-24 23:26:32.111\u001b[0m [ \u001b[1mℹ️\u001b[0m ] \u001b[1mOrder SIM-ORDER-BTCUSDT-100003 MARKET SELL 1.0 of BTCUSDT -> CLOSED\u001b[0m\n",
      "\u001b[32m2024-07-24 23:26:32.198\u001b[0m [ \u001b[1mℹ️\u001b[0m ] \u001b[1m(StrategyContext) sending market buy for 1.0 of BTCUSDT ...\u001b[0m\n",
      "\u001b[32m2024-07-24 23:26:32.198\u001b[0m [ \u001b[1mℹ️\u001b[0m ] \u001b[1m  ::  traded 1.0 for BTCUSDT @ 43674.05 -> 54.75\u001b[0m\n",
      "\u001b[32m2024-07-24 23:26:32.198\u001b[0m [ \u001b[1mℹ️\u001b[0m ] \u001b[1mOrder SIM-ORDER-BTCUSDT-100004 MARKET BUY 1.0 of BTCUSDT -> CLOSED\u001b[0m\n",
      "\u001b[32m2024-07-24 23:26:32.209\u001b[0m [ \u001b[1mℹ️\u001b[0m ] \u001b[1mSimulatedData.binance.um initialized\u001b[0m\n",
      "\u001b[32m2024-07-24 23:26:32.209\u001b[0m [ \u001b[1mℹ️\u001b[0m ] \u001b[1m(StrategyContext) Subscribing to ohlc updates using {'timeframe': '5Min', 'nback': 10} for \n",
      "\t['BTCUSDT'] \u001b[0m\n"
     ]
    },
    {
     "data": {
      "application/vnd.jupyter.widget-view+json": {
       "model_id": "c10ef74f620043cb9ef429ab16b08463",
       "version_major": 2,
       "version_minor": 0
      },
      "text/plain": [
       "  0%|          | 0/3068 [00:00<?, ?it/s]"
      ]
     },
     "metadata": {},
     "output_type": "display_data"
    },
    {
     "name": "stdout",
     "output_type": "stream",
     "text": [
      "\u001b[32m2024-07-24 23:26:32.397\u001b[0m [ \u001b[1mℹ️\u001b[0m ] \u001b[1m(StrategyContext) sending market buy for 1.0 of BTCUSDT ...\u001b[0m\n",
      "\u001b[32m2024-07-24 23:26:32.397\u001b[0m [ \u001b[1mℹ️\u001b[0m ] \u001b[1m  ::  traded 1.0 for BTCUSDT @ 45378.65 -> 0.00\u001b[0m\n",
      "\u001b[32m2024-07-24 23:26:32.397\u001b[0m [ \u001b[1mℹ️\u001b[0m ] \u001b[1mOrder SIM-ORDER-BTCUSDT-100001 MARKET BUY 1.0 of BTCUSDT -> CLOSED\u001b[0m\n",
      "\u001b[32m2024-07-24 23:26:32.407\u001b[0m [ \u001b[1mℹ️\u001b[0m ] \u001b[1m(StrategyContext) sending market sell for 1.0 of BTCUSDT ...\u001b[0m\n",
      "\u001b[32m2024-07-24 23:26:32.409\u001b[0m [ \u001b[1mℹ️\u001b[0m ] \u001b[1m  ::  traded -1.0 for BTCUSDT @ 42204.049999999996 -> -3174.55\u001b[0m\n",
      "\u001b[32m2024-07-24 23:26:32.409\u001b[0m [ \u001b[1mℹ️\u001b[0m ] \u001b[1mOrder SIM-ORDER-BTCUSDT-100002 MARKET SELL 1.0 of BTCUSDT -> CLOSED\u001b[0m\n",
      "\u001b[32m2024-07-24 23:26:32.418\u001b[0m [ \u001b[1mℹ️\u001b[0m ] \u001b[1mSimulatedData.binance.um initialized\u001b[0m\n",
      "\u001b[32m2024-07-24 23:26:32.419\u001b[0m [ \u001b[1mℹ️\u001b[0m ] \u001b[1m(StrategyContext) Subscribing to ohlc updates using {'timeframe': '5Min', 'nback': 10} for \n",
      "\t['BTCUSDT'] \u001b[0m\n",
      "\u001b[32m2024-07-24 23:26:32.420\u001b[0m [ \u001b[1mℹ️\u001b[0m ] \u001b[1m -> Strategy started | 2024-01-01T00:00:00.000000000\u001b[0m\n"
     ]
    },
    {
     "data": {
      "application/vnd.jupyter.widget-view+json": {
       "model_id": "14adb7557b8d47ad87895fbd1a4e903b",
       "version_major": 2,
       "version_minor": 0
      },
      "text/plain": [
       "  0%|          | 0/10412 [00:00<?, ?it/s]"
      ]
     },
     "metadata": {},
     "output_type": "display_data"
    },
    {
     "name": "stdout",
     "output_type": "stream",
     "text": [
      "\u001b[32m2024-07-24 23:26:32.617\u001b[0m [ \u001b[1mℹ️\u001b[0m ] \u001b[1m -> Fit is called | fit_time: 2024-01-01 00:00:00 / prev: None\u001b[0m\n",
      "\u001b[32m2024-07-24 23:26:32.744\u001b[0m [ \u001b[1mℹ️\u001b[0m ] \u001b[1mBTCUSDT[1H] | 25 records\n",
      "  2023-12-31T23:00:00.000000000 {o:42294.800000 | h:42380.100000 | l:42211.000000 | c:42286.800000 | v:3461.175000}\n",
      "  2023-12-31T22:00:00.000000000 {o:42559.000000 | h:42629.500000 | l:42111.900000 | c:42294.800000 | v:11952.346000}\n",
      "  2023-12-31T21:00:00.000000000 {o:42599.200000 | h:42717.000000 | l:42558.200000 | c:42558.900000 | v:3794.010000}\n",
      "   .......... \n",
      "  2023-12-31T01:00:00.000000000 {o:42395.100000 | h:42472.400000 | l:42187.900000 | c:42212.000000 | v:5407.971000}\n",
      "  2023-12-31T00:00:00.000000000 {o:42174.300000 | h:42478.900000 | l:42169.000000 | c:42395.100000 | v:6728.723000}\n",
      "  2023-12-30T23:00:00.000000000 {o:42240.000000 | h:42335.200000 | l:42160.700000 | c:42174.200000 | v:3069.055000}\n",
      "\u001b[0m\n",
      "\u001b[32m2024-07-24 23:26:32.854\u001b[0m [ \u001b[1mℹ️\u001b[0m ] \u001b[1m(StrategyContext) sending market sell for 0.01 of BTCUSDT ...\u001b[0m\n",
      "\u001b[32m2024-07-24 23:26:32.854\u001b[0m [ \u001b[1mℹ️\u001b[0m ] \u001b[1m  ::  traded -0.01 for BTCUSDT @ 43728.85 -> 0.00\u001b[0m\n",
      "\u001b[32m2024-07-24 23:26:32.854\u001b[0m [ \u001b[1mℹ️\u001b[0m ] \u001b[1mOrder SIM-ORDER-BTCUSDT-100001 MARKET SELL 0.01 of BTCUSDT -> CLOSED\u001b[0m\n",
      "\u001b[32m2024-07-24 23:26:32.907\u001b[0m [ \u001b[1mℹ️\u001b[0m ] \u001b[1m(StrategyContext) sending market buy for 0.02 of BTCUSDT ...\u001b[0m\n",
      "\u001b[32m2024-07-24 23:26:32.908\u001b[0m [ \u001b[1mℹ️\u001b[0m ] \u001b[1m  ::  traded 0.02 for BTCUSDT @ 44050.450000000004 -> -3.22\u001b[0m\n",
      "\u001b[32m2024-07-24 23:26:32.909\u001b[0m [ \u001b[1mℹ️\u001b[0m ] \u001b[1mOrder SIM-ORDER-BTCUSDT-100002 MARKET BUY 0.02 of BTCUSDT -> CLOSED\u001b[0m\n",
      "\u001b[32m2024-07-24 23:26:32.948\u001b[0m [ \u001b[1mℹ️\u001b[0m ] \u001b[1m(StrategyContext) sending market sell for 0.02 of BTCUSDT ...\u001b[0m\n",
      "\u001b[32m2024-07-24 23:26:32.948\u001b[0m [ \u001b[1mℹ️\u001b[0m ] \u001b[1m  ::  traded -0.02 for BTCUSDT @ 43220.75 -> -8.30\u001b[0m\n",
      "\u001b[32m2024-07-24 23:26:32.948\u001b[0m [ \u001b[1mℹ️\u001b[0m ] \u001b[1mOrder SIM-ORDER-BTCUSDT-100003 MARKET SELL 0.02 of BTCUSDT -> CLOSED\u001b[0m\n",
      "\u001b[32m2024-07-24 23:26:32.967\u001b[0m [ \u001b[1mℹ️\u001b[0m ] \u001b[1m(StrategyContext) sending market buy for 0.02 of BTCUSDT ...\u001b[0m\n",
      "\u001b[32m2024-07-24 23:26:32.968\u001b[0m [ \u001b[1mℹ️\u001b[0m ] \u001b[1m  ::  traded 0.02 for BTCUSDT @ 43936.25 -> -7.16\u001b[0m\n",
      "\u001b[32m2024-07-24 23:26:32.968\u001b[0m [ \u001b[1mℹ️\u001b[0m ] \u001b[1mOrder SIM-ORDER-BTCUSDT-100004 MARKET BUY 0.02 of BTCUSDT -> CLOSED\u001b[0m\n",
      "\u001b[32m2024-07-24 23:26:32.988\u001b[0m [ \u001b[1mℹ️\u001b[0m ] \u001b[1m(StrategyContext) sending market sell for 0.02 of BTCUSDT ...\u001b[0m\n",
      "\u001b[32m2024-07-24 23:26:32.988\u001b[0m [ \u001b[1mℹ️\u001b[0m ] \u001b[1m  ::  traded -0.02 for BTCUSDT @ 43645.25 -> -2.91\u001b[0m\n",
      "\u001b[32m2024-07-24 23:26:32.989\u001b[0m [ \u001b[1mℹ️\u001b[0m ] \u001b[1mOrder SIM-ORDER-BTCUSDT-100005 MARKET SELL 0.02 of BTCUSDT -> CLOSED\u001b[0m\n",
      "\u001b[32m2024-07-24 23:26:33.007\u001b[0m [ \u001b[1mℹ️\u001b[0m ] \u001b[1m(StrategyContext) sending market buy for 0.02 of BTCUSDT ...\u001b[0m\n",
      "\u001b[32m2024-07-24 23:26:33.009\u001b[0m [ \u001b[1mℹ️\u001b[0m ] \u001b[1m  ::  traded 0.02 for BTCUSDT @ 43865.450000000004 -> -2.20\u001b[0m\n",
      "\u001b[32m2024-07-24 23:26:33.010\u001b[0m [ \u001b[1mℹ️\u001b[0m ] \u001b[1mOrder SIM-ORDER-BTCUSDT-100006 MARKET BUY 0.02 of BTCUSDT -> CLOSED\u001b[0m\n",
      "\u001b[32m2024-07-24 23:26:33.078\u001b[0m [ \u001b[1mℹ️\u001b[0m ] \u001b[1m(StrategyContext) sending market sell for 0.02 of BTCUSDT ...\u001b[0m\n",
      "\u001b[32m2024-07-24 23:26:33.079\u001b[0m [ \u001b[1mℹ️\u001b[0m ] \u001b[1m  ::  traded -0.02 for BTCUSDT @ 43621.75 -> -2.44\u001b[0m\n",
      "\u001b[32m2024-07-24 23:26:33.080\u001b[0m [ \u001b[1mℹ️\u001b[0m ] \u001b[1mOrder SIM-ORDER-BTCUSDT-100007 MARKET SELL 0.02 of BTCUSDT -> CLOSED\u001b[0m\n",
      "\u001b[32m2024-07-24 23:26:33.103\u001b[0m [ \u001b[1mℹ️\u001b[0m ] \u001b[1m(StrategyContext) sending market buy for 0.02 of BTCUSDT ...\u001b[0m\n",
      "\u001b[32m2024-07-24 23:26:33.104\u001b[0m [ \u001b[1mℹ️\u001b[0m ] \u001b[1m  ::  traded 0.02 for BTCUSDT @ 44637.25 -> -10.16\u001b[0m\n",
      "\u001b[32m2024-07-24 23:26:33.105\u001b[0m [ \u001b[1mℹ️\u001b[0m ] \u001b[1mOrder SIM-ORDER-BTCUSDT-100008 MARKET BUY 0.02 of BTCUSDT -> CLOSED\u001b[0m\n"
     ]
    }
   ],
   "source": [
    "from qubx.backtester.simulator import simulate\n",
    "QubxLogConfig.set_log_level(\"INFO\")\n",
    "\n",
    "\n",
    "rep = simulate(\n",
    "    {\n",
    "        # - generated signals as series\n",
    "        \"test0\": [pd.Series(\n",
    "            {\n",
    "                \"2024-01-01 10:00\": 1,\n",
    "                \"2024-01-02 12:00\": 0,\n",
    "                \"2024-01-03 12:00\": -1,\n",
    "                \"2024-01-04 15:00\": 0,\n",
    "            }, name='BTCUSDT'), PortfolioRebalancerTracker(1000, 0)],\n",
    "\n",
    "        # - generated signals as dataframe\n",
    "        \"test1\": pd.DataFrame(\n",
    "            {\n",
    "                'BTCUSDT': {\"2024-01-03 10:00\": 1, \"2024-01-03 15:00\": 0}\n",
    "            }\n",
    "        ),\n",
    "\n",
    "        # - just test strategy\n",
    "        \"test2\": TestStrategy(timeframe=\"1h\", fast_period=12, slow_period=24),\n",
    "    },\n",
    "\n",
    "    r, 10000, [\"BINANCE.UM:BTCUSDT\"], \n",
    "    dict(type=\"ohlc\", timeframe=\"5Min\", nback=10),\n",
    "    \"1h -2Sec\",\n",
    "    \"vip0_usdt\", \n",
    "    \"2024-01-01\", \"2024-01-10\", \n",
    ")"
   ]
  },
  {
   "cell_type": "code",
   "execution_count": 5,
   "metadata": {},
   "outputs": [
    {
     "data": {
      "text/html": [
       "<div>\n",
       "<style scoped>\n",
       "    .dataframe tbody tr th:only-of-type {\n",
       "        vertical-align: middle;\n",
       "    }\n",
       "\n",
       "    .dataframe tbody tr th {\n",
       "        vertical-align: top;\n",
       "    }\n",
       "\n",
       "    .dataframe thead th {\n",
       "        text-align: right;\n",
       "    }\n",
       "</style>\n",
       "<table border=\"1\" class=\"dataframe\">\n",
       "  <thead>\n",
       "    <tr style=\"text-align: right;\">\n",
       "      <th></th>\n",
       "      <th>Gain</th>\n",
       "      <th>Cagr</th>\n",
       "      <th>Sharpe</th>\n",
       "      <th>Qr</th>\n",
       "      <th>Max dd pct</th>\n",
       "      <th>Mdd usd</th>\n",
       "      <th>Sortino</th>\n",
       "      <th>Calmar</th>\n",
       "      <th>Tail ratio</th>\n",
       "      <th>Stability</th>\n",
       "      <th>Var</th>\n",
       "      <th>Avg return</th>\n",
       "      <th>Fees</th>\n",
       "      <th>Execs</th>\n",
       "    </tr>\n",
       "  </thead>\n",
       "  <tbody>\n",
       "    <tr>\n",
       "      <th>/test0</th>\n",
       "      <td>2786.797775</td>\n",
       "      <td>6.217434e+07</td>\n",
       "      <td>12.008822</td>\n",
       "      <td>2.464144</td>\n",
       "      <td>20.101978</td>\n",
       "      <td>3217.100000</td>\n",
       "      <td>44.226511</td>\n",
       "      <td>1.006143e+09</td>\n",
       "      <td>2.842543</td>\n",
       "      <td>0.745360</td>\n",
       "      <td>712.590448</td>\n",
       "      <td>5.315650</td>\n",
       "      <td>65.952225</td>\n",
       "      <td>4.0</td>\n",
       "    </tr>\n",
       "    <tr>\n",
       "      <th>/test1</th>\n",
       "      <td>-3197.189325</td>\n",
       "      <td>-1.000000e+00</td>\n",
       "      <td>-9.552487</td>\n",
       "      <td>-0.117170</td>\n",
       "      <td>49.501515</td>\n",
       "      <td>4955.800000</td>\n",
       "      <td>-11.496419</td>\n",
       "      <td>-3.127747e+00</td>\n",
       "      <td>-1.000000</td>\n",
       "      <td>0.600000</td>\n",
       "      <td>3076.471491</td>\n",
       "      <td>-7.992973</td>\n",
       "      <td>22.689325</td>\n",
       "      <td>2.0</td>\n",
       "    </tr>\n",
       "    <tr>\n",
       "      <th>/test2</th>\n",
       "      <td>-24.893916</td>\n",
       "      <td>-7.937779e-02</td>\n",
       "      <td>-5.501652</td>\n",
       "      <td>-1.577040</td>\n",
       "      <td>0.731794</td>\n",
       "      <td>73.417272</td>\n",
       "      <td>-7.696939</td>\n",
       "      <td>-2.256981e+01</td>\n",
       "      <td>0.679843</td>\n",
       "      <td>0.708381</td>\n",
       "      <td>14.586459</td>\n",
       "      <td>-0.022628</td>\n",
       "      <td>3.288416</td>\n",
       "      <td>8.0</td>\n",
       "    </tr>\n",
       "  </tbody>\n",
       "</table>\n",
       "</div>"
      ],
      "text/plain": [
       "               Gain          Cagr     Sharpe        Qr  Max dd pct  \\\n",
       "/test0  2786.797775  6.217434e+07  12.008822  2.464144   20.101978   \n",
       "/test1 -3197.189325 -1.000000e+00  -9.552487 -0.117170   49.501515   \n",
       "/test2   -24.893916 -7.937779e-02  -5.501652 -1.577040    0.731794   \n",
       "\n",
       "            Mdd usd    Sortino        Calmar  Tail ratio  Stability  \\\n",
       "/test0  3217.100000  44.226511  1.006143e+09    2.842543   0.745360   \n",
       "/test1  4955.800000 -11.496419 -3.127747e+00   -1.000000   0.600000   \n",
       "/test2    73.417272  -7.696939 -2.256981e+01    0.679843   0.708381   \n",
       "\n",
       "                Var  Avg return       Fees  Execs  \n",
       "/test0   712.590448    5.315650  65.952225    4.0  \n",
       "/test1  3076.471491   -7.992973  22.689325    2.0  \n",
       "/test2    14.586459   -0.022628   3.288416    8.0  "
      ]
     },
     "execution_count": 5,
     "metadata": {},
     "output_type": "execute_result"
    },
    {
     "data": {
      "image/png": "[encoded data removed]",
      "text/plain": [
       "<Figure size 960x400 with 1 Axes>"
      ]
     },
     "metadata": {},
     "output_type": "display_data"
    }
   ],
   "source": [
    "tearsheet(rep)"
   ]
  },
  {
   "cell_type": "code",
   "execution_count": 6,
   "metadata": {},
   "outputs": [
    {
     "data": {
      "application/vnd.jupyter.widget-view+json": {
       "model_id": "2dbccac239074f93898b0191efbf6850",
       "version_major": 2,
       "version_minor": 0
      },
      "text/plain": [
       "  0%|          | 0/3 [00:00<?, ?it/s]"
      ]
     },
     "metadata": {},
     "output_type": "display_data"
    },
    {
     "data": {
      "application/vnd.jupyter.widget-view+json": {
       "model_id": "5e9c9371924e4fbdb25a60243119a68b",
       "version_major": 2,
       "version_minor": 0
      },
      "text/plain": [
       "  0%|          | 0/102572 [00:00<?, ?it/s]"
      ]
     },
     "metadata": {},
     "output_type": "display_data"
    },
    {
     "data": {
      "application/vnd.jupyter.widget-view+json": {
       "model_id": "e500ebb4ad4f4baf9c1cc9adaf066a8f",
       "version_major": 2,
       "version_minor": 0
      },
      "text/plain": [
       "  0%|          | 0/102572 [00:00<?, ?it/s]"
      ]
     },
     "metadata": {},
     "output_type": "display_data"
    },
    {
     "data": {
      "application/vnd.jupyter.widget-view+json": {
       "model_id": "e91ebf0eb76e48659bc5cff0b6cb71fe",
       "version_major": 2,
       "version_minor": 0
      },
      "text/plain": [
       "  0%|          | 0/140 [00:00<?, ?it/s]"
      ]
     },
     "metadata": {},
     "output_type": "display_data"
    }
   ],
   "source": [
    "sigs = pd.DataFrame.from_dict({'BTCUSDT': {\n",
    "    '2024-01-01 01:00': +0.1, \n",
    "    '2024-01-01 02:00': 0,\n",
    "}})\n",
    "sigs.index = pd.to_datetime(sigs.index)\n",
    "QubxLogConfig.set_log_level(\"ERROR\")\n",
    "\n",
    "rep = simulate(\n",
    "    {\n",
    "        'test1': [TestStrategy(timeframe='15Min', fast_period=6, slow_period=50)],\n",
    "        'test2': [TestStrategy(timeframe='15Min', fast_period=12, slow_period=24)],\n",
    "        'test3': sigs,\n",
    "    }, \n",
    "    r, 10000, [\"BINANCE.UM:BTCUSDT\"], \n",
    "    dict(type=\"ohlc\", timeframe=\"5Min\", nback=10),\n",
    "    \"5Min -1Sec\",\n",
    "    \"vip0_usdt\", \n",
    "    \"2024-01-01\", \"2024-03-30\", \n",
    ")"
   ]
  },
  {
   "cell_type": "code",
   "execution_count": 7,
   "metadata": {},
   "outputs": [
    {
     "data": {
      "text/html": [
       "<div>\n",
       "<style scoped>\n",
       "    .dataframe tbody tr th:only-of-type {\n",
       "        vertical-align: middle;\n",
       "    }\n",
       "\n",
       "    .dataframe tbody tr th {\n",
       "        vertical-align: top;\n",
       "    }\n",
       "\n",
       "    .dataframe thead th {\n",
       "        text-align: right;\n",
       "    }\n",
       "</style>\n",
       "<table border=\"1\" class=\"dataframe\">\n",
       "  <thead>\n",
       "    <tr style=\"text-align: right;\">\n",
       "      <th></th>\n",
       "      <th>Gain</th>\n",
       "      <th>Cagr</th>\n",
       "      <th>Sharpe</th>\n",
       "      <th>Qr</th>\n",
       "      <th>Max dd pct</th>\n",
       "      <th>Mdd usd</th>\n",
       "      <th>Sortino</th>\n",
       "      <th>Calmar</th>\n",
       "      <th>Tail ratio</th>\n",
       "      <th>Stability</th>\n",
       "      <th>Var</th>\n",
       "      <th>Avg return</th>\n",
       "      <th>Fees</th>\n",
       "      <th>Execs</th>\n",
       "    </tr>\n",
       "  </thead>\n",
       "  <tbody>\n",
       "    <tr>\n",
       "      <th>/test1</th>\n",
       "      <td>-18.546843</td>\n",
       "      <td>-0.007418</td>\n",
       "      <td>-0.224979</td>\n",
       "      <td>0.000186</td>\n",
       "      <td>1.716011</td>\n",
       "      <td>172.087766</td>\n",
       "      <td>-0.409901</td>\n",
       "      <td>-0.500561</td>\n",
       "      <td>1.132268</td>\n",
       "      <td>0.005385</td>\n",
       "      <td>26.722381</td>\n",
       "      <td>-0.001910</td>\n",
       "      <td>155.730823</td>\n",
       "      <td>296.0</td>\n",
       "    </tr>\n",
       "    <tr>\n",
       "      <th>/test2</th>\n",
       "      <td>-59.710912</td>\n",
       "      <td>-0.023736</td>\n",
       "      <td>-0.781765</td>\n",
       "      <td>-0.143939</td>\n",
       "      <td>1.810529</td>\n",
       "      <td>181.749178</td>\n",
       "      <td>-1.380373</td>\n",
       "      <td>-1.447601</td>\n",
       "      <td>1.179788</td>\n",
       "      <td>0.170373</td>\n",
       "      <td>26.462098</td>\n",
       "      <td>-0.006458</td>\n",
       "      <td>168.231332</td>\n",
       "      <td>320.0</td>\n",
       "    </tr>\n",
       "    <tr>\n",
       "      <th>/test3</th>\n",
       "      <td>12.314823</td>\n",
       "      <td>0.251831</td>\n",
       "      <td>13.509256</td>\n",
       "      <td>0.332821</td>\n",
       "      <td>0.114826</td>\n",
       "      <td>11.510000</td>\n",
       "      <td>inf</td>\n",
       "      <td>NaN</td>\n",
       "      <td>19.000000</td>\n",
       "      <td>1.000000</td>\n",
       "      <td>3.970629</td>\n",
       "      <td>0.061574</td>\n",
       "      <td>2.125178</td>\n",
       "      <td>2.0</td>\n",
       "    </tr>\n",
       "  </tbody>\n",
       "</table>\n",
       "</div>"
      ],
      "text/plain": [
       "             Gain      Cagr     Sharpe        Qr  Max dd pct     Mdd usd  \\\n",
       "/test1 -18.546843 -0.007418  -0.224979  0.000186    1.716011  172.087766   \n",
       "/test2 -59.710912 -0.023736  -0.781765 -0.143939    1.810529  181.749178   \n",
       "/test3  12.314823  0.251831  13.509256  0.332821    0.114826   11.510000   \n",
       "\n",
       "         Sortino    Calmar  Tail ratio  Stability        Var  Avg return  \\\n",
       "/test1 -0.409901 -0.500561    1.132268   0.005385  26.722381   -0.001910   \n",
       "/test2 -1.380373 -1.447601    1.179788   0.170373  26.462098   -0.006458   \n",
       "/test3       inf       NaN   19.000000   1.000000   3.970629    0.061574   \n",
       "\n",
       "              Fees  Execs  \n",
       "/test1  155.730823  296.0  \n",
       "/test2  168.231332  320.0  \n",
       "/test3    2.125178    2.0  "
      ]
     },
     "execution_count": 7,
     "metadata": {},
     "output_type": "execute_result"
    },
    {
     "data": {
      "image/png": "[encoded data removed]",
      "text/plain": [
       "<Figure size 960x400 with 1 Axes>"
      ]
     },
     "metadata": {},
     "output_type": "display_data"
    }
   ],
   "source": [
    "tearsheet(rep, False)"
   ]
  },
  {
   "cell_type": "code",
   "execution_count": 8,
   "metadata": {},
   "outputs": [
    {
     "data": {
      "application/vnd.jupyter.widget-view+json": {
       "model_id": "10094d2ce0664d91b2fd03a999e4b4b6",
       "version_major": 2,
       "version_minor": 0
      },
      "text/plain": [
       "  0%|          | 0/1 [00:00<?, ?it/s]"
      ]
     },
     "metadata": {},
     "output_type": "display_data"
    },
    {
     "data": {
      "application/vnd.jupyter.widget-view+json": {
       "model_id": "e049f731109447ccaa100bea4530e2a0",
       "version_major": 2,
       "version_minor": 0
      },
      "text/plain": [
       "  0%|          | 0/524 [00:00<?, ?it/s]"
      ]
     },
     "metadata": {},
     "output_type": "display_data"
    }
   ],
   "source": [
    "sigs = pd.DataFrame.from_dict({'BTCUSDT': {\n",
    "    '2024-01-01 01:00': +0.1, \n",
    "    '2024-01-01 02:00': 0,\n",
    "    '2024-01-01 03:00': -0.1,\n",
    "    '2024-01-01 10:00': 0\n",
    "}})\n",
    "sigs.index = pd.to_datetime(sigs.index)\n",
    "QubxLogConfig.set_log_level(\"ERROR\")\n",
    "\n",
    "rep = simulate( { 'test3': sigs }, \n",
    "    r, 10000, [\"BINANCE.UM:BTCUSDT\"], \n",
    "    dict(type=\"ohlc\", timeframe=\"5Min\", nback=10), \"5Min -1Sec\", \"vip0_usdt\", \n",
    "    \"2024-01-01\", \"2024-01-02\", \n",
    ")"
   ]
  },
  {
   "cell_type": "code",
   "execution_count": 21,
   "metadata": {},
   "outputs": [
    {
     "data": {
      "application/vnd.plotly.v1+json": {
       "config": {
        "plotlyServerURL": "https://plot.ly"
       },
       "data": [
        {
         "fill": "tozeroy",
         "line": {
          "color": "green",
          "width": 1
         },
         "mode": "lines",
         "name": "Total_PnL",
         "type": "scatter",
         "uid": "e6f4fd9e-330b-4b7c-9923-dcd25d6b7ae4",
         "x": [
          "2023-12-31T23:10:00",
          "2023-12-31T23:15:00",
          "2023-12-31T23:20:00",
          "2023-12-31T23:25:00",
          "2023-12-31T23:30:00",
          "2023-12-31T23:35:00",
          "2023-12-31T23:40:00",
          "2023-12-31T23:45:00",
          "2023-12-31T23:50:00",
          "2023-12-31T23:55:00",
          "2024-01-01T00:00:00",
          "2024-01-01T00:05:00",
          "2024-01-01T00:10:00",
          "2024-01-01T00:15:00",
          "2024-01-01T00:20:00",
          "2024-01-01T00:25:00",
          "2024-01-01T00:30:00",
          "2024-01-01T00:35:00",
          "2024-01-01T00:40:00",
          "2024-01-01T00:45:00",
          "2024-01-01T00:50:00",
          "2024-01-01T00:55:00",
          "2024-01-01T01:00:00",
          "2024-01-01T01:05:00",
          "2024-01-01T01:10:00",
          "2024-01-01T01:15:00",
          "2024-01-01T01:20:00",
          "2024-01-01T01:25:00",
          "2024-01-01T01:30:00",
          "2024-01-01T01:35:00",
          "2024-01-01T01:40:00",
          "2024-01-01T01:45:00",
          "2024-01-01T01:50:00",
          "2024-01-01T01:55:00",
          "2024-01-01T02:00:00",
          "2024-01-01T02:05:00",
          "2024-01-01T02:10:00",
          "2024-01-01T02:15:00",
          "2024-01-01T02:20:00",
          "2024-01-01T02:25:00",
          "2024-01-01T02:30:00",
          "2024-01-01T02:35:00",
          "2024-01-01T02:40:00",
          "2024-01-01T02:45:00",
          "2024-01-01T02:50:00",
          "2024-01-01T02:55:00",
          "2024-01-01T03:00:00",
          "2024-01-01T03:05:00",
          "2024-01-01T03:10:00",
          "2024-01-01T03:15:00",
          "2024-01-01T03:20:00",
          "2024-01-01T03:25:00",
          "2024-01-01T03:30:00",
          "2024-01-01T03:35:00",
          "2024-01-01T03:40:00",
          "2024-01-01T03:45:00",
          "2024-01-01T03:50:00",
          "2024-01-01T03:55:00",
          "2024-01-01T04:00:00",
          "2024-01-01T04:05:00",
          "2024-01-01T04:10:00",
          "2024-01-01T04:15:00",
          "2024-01-01T04:20:00",
          "2024-01-01T04:25:00",
          "2024-01-01T04:30:00",
          "2024-01-01T04:35:00",
          "2024-01-01T04:40:00",
          "2024-01-01T04:45:00",
          "2024-01-01T04:50:00",
          "2024-01-01T04:55:00",
          "2024-01-01T05:00:00",
          "2024-01-01T05:05:00",
          "2024-01-01T05:10:00",
          "2024-01-01T05:15:00",
          "2024-01-01T05:20:00",
          "2024-01-01T05:25:00",
          "2024-01-01T05:30:00",
          "2024-01-01T05:35:00",
          "2024-01-01T05:40:00",
          "2024-01-01T05:45:00",
          "2024-01-01T05:50:00",
          "2024-01-01T05:55:00",
          "2024-01-01T06:00:00",
          "2024-01-01T06:05:00",
          "2024-01-01T06:10:00",
          "2024-01-01T06:15:00",
          "2024-01-01T06:20:00",
          "2024-01-01T06:25:00",
          "2024-01-01T06:30:00",
          "2024-01-01T06:35:00",
          "2024-01-01T06:40:00",
          "2024-01-01T06:45:00",
          "2024-01-01T06:50:00",
          "2024-01-01T06:55:00",
          "2024-01-01T07:00:00",
          "2024-01-01T07:05:00",
          "2024-01-01T07:10:00",
          "2024-01-01T07:15:00",
          "2024-01-01T07:20:00",
          "2024-01-01T07:25:00",
          "2024-01-01T07:30:00",
          "2024-01-01T07:35:00",
          "2024-01-01T07:40:00",
          "2024-01-01T07:45:00",
          "2024-01-01T07:50:00",
          "2024-01-01T07:55:00",
          "2024-01-01T08:00:00",
          "2024-01-01T08:05:00",
          "2024-01-01T08:10:00",
          "2024-01-01T08:15:00",
          "2024-01-01T08:20:00",
          "2024-01-01T08:25:00",
          "2024-01-01T08:30:00",
          "2024-01-01T08:35:00",
          "2024-01-01T08:40:00",
          "2024-01-01T08:45:00",
          "2024-01-01T08:50:00",
          "2024-01-01T08:55:00",
          "2024-01-01T09:00:00",
          "2024-01-01T09:05:00",
          "2024-01-01T09:10:00",
          "2024-01-01T09:15:00",
          "2024-01-01T09:20:00",
          "2024-01-01T09:25:00",
          "2024-01-01T09:30:00",
          "2024-01-01T09:35:00",
          "2024-01-01T09:40:00",
          "2024-01-01T09:45:00",
          "2024-01-01T09:50:00",
          "2024-01-01T09:55:00",
          "2024-01-01T10:00:00"
         ],
         "xaxis": "x",
         "y": [
          0,
          0,
          0,
          0,
          0,
          0,
          0,
          0,
          0,
          0,
          0,
          0,
          0,
          0,
          0,
          0,
          0,
          0,
          0,
          0,
          0,
          0,
          0,
          -5.995177499999045,
          -5.2351775000006455,
          -2.715177500000209,
          0.784822499999791,
          -1.3851775000002817,
          0.014822499999354477,
          7.3548224999995,
          23.824822500000664,
          20.944822499999646,
          21.004822500000955,
          17.53482249999979,
          12.314822500000446,
          10.177429999999731,
          10.177429999999731,
          10.177429999999731,
          10.177429999999731,
          10.177429999999731,
          10.177429999999731,
          10.177429999999731,
          10.177429999999731,
          10.177429999999731,
          10.177429999999731,
          10.177429999999731,
          10.177429999999731,
          11.27640749999955,
          12.51640750000115,
          15.666407500000787,
          19.426407500001005,
          22.71640750000006,
          23.39640750000035,
          25.196407499999623,
          27.436407499999405,
          36.89640750000035,
          32.09640749999926,
          34.76640750000115,
          33.10640749999948,
          30.78640749999977,
          31.666407500000787,
          37.626407499999914,
          39.81640750000042,
          34.876407499999914,
          35.79640749999999,
          34.02640749999955,
          32.496407500000714,
          35.34640749999926,
          30.926407500001005,
          29.84640749999926,
          26.426407500001005,
          34.19640749999962,
          32.496407500000714,
          31.14640750000035,
          31.07640750000064,
          33.246407500000714,
          37.46640750000006,
          35.66640750000079,
          39.01640750000115,
          36.50640749999911,
          42.78640749999977,
          43.926407500001005,
          42.82640750000064,
          39.186407499999405,
          37.996407500000714,
          39.25640749999911,
          32.996407500000714,
          35.39640750000035,
          35.176407500001005,
          33.60640749999948,
          31.736407500000496,
          29.496407500000714,
          29.416407500000787,
          26.07640750000064,
          27.746407500000714,
          23.82640750000064,
          19.676407500001005,
          21.866407499999696,
          21.976407500000278,
          21.53640749999977,
          17.59640749999926,
          17.136407500000132,
          17.626407499999914,
          22.546407499999987,
          20.416407500000787,
          19.39640750000035,
          17.376407499999914,
          20.59640749999926,
          17.89640750000035,
          14.89640750000035,
          15.08640750000086,
          15.77640749999955,
          18.08640750000086,
          20.566407500000423,
          19.296407499999987,
          17.03640749999977,
          13.806407500000205,
          11.946407499999623,
          11.26640750000115,
          9.08640750000086,
          12.136407500000132,
          9.176407500001005,
          7.296407499999987,
          1.2964074999999866,
          7.796407499999987,
          0.3564074999994773,
          -3.153592500000741,
          2.566407500000423,
          2.2164075000000594,
          1.4964075000007142,
          1.206407499999841
         ],
         "yaxis": "y"
        },
        {
         "fill": "tozeroy",
         "line": {
          "width": 1
         },
         "mode": "lines",
         "name": "Drawdown_1",
         "type": "scatter",
         "uid": "7020c048-2454-4f2e-ae05-fcf6937d34de",
         "x": [
          "2023-12-31T23:10:00",
          "2023-12-31T23:15:00",
          "2023-12-31T23:20:00",
          "2023-12-31T23:25:00",
          "2023-12-31T23:30:00",
          "2023-12-31T23:35:00",
          "2023-12-31T23:40:00",
          "2023-12-31T23:45:00",
          "2023-12-31T23:50:00",
          "2023-12-31T23:55:00",
          "2024-01-01T00:00:00",
          "2024-01-01T00:05:00",
          "2024-01-01T00:10:00",
          "2024-01-01T00:15:00",
          "2024-01-01T00:20:00",
          "2024-01-01T00:25:00",
          "2024-01-01T00:30:00",
          "2024-01-01T00:35:00",
          "2024-01-01T00:40:00",
          "2024-01-01T00:45:00",
          "2024-01-01T00:50:00",
          "2024-01-01T00:55:00",
          "2024-01-01T01:00:00",
          "2024-01-01T01:05:00",
          "2024-01-01T01:10:00",
          "2024-01-01T01:15:00",
          "2024-01-01T01:20:00",
          "2024-01-01T01:25:00",
          "2024-01-01T01:30:00",
          "2024-01-01T01:35:00",
          "2024-01-01T01:40:00",
          "2024-01-01T01:45:00",
          "2024-01-01T01:50:00",
          "2024-01-01T01:55:00",
          "2024-01-01T02:00:00",
          "2024-01-01T02:05:00",
          "2024-01-01T02:10:00",
          "2024-01-01T02:15:00",
          "2024-01-01T02:20:00",
          "2024-01-01T02:25:00",
          "2024-01-01T02:30:00",
          "2024-01-01T02:35:00",
          "2024-01-01T02:40:00",
          "2024-01-01T02:45:00",
          "2024-01-01T02:50:00",
          "2024-01-01T02:55:00",
          "2024-01-01T03:00:00",
          "2024-01-01T03:05:00",
          "2024-01-01T03:10:00",
          "2024-01-01T03:15:00",
          "2024-01-01T03:20:00",
          "2024-01-01T03:25:00",
          "2024-01-01T03:30:00",
          "2024-01-01T03:35:00",
          "2024-01-01T03:40:00",
          "2024-01-01T03:45:00",
          "2024-01-01T03:50:00",
          "2024-01-01T03:55:00",
          "2024-01-01T04:00:00",
          "2024-01-01T04:05:00",
          "2024-01-01T04:10:00",
          "2024-01-01T04:15:00",
          "2024-01-01T04:20:00",
          "2024-01-01T04:25:00",
          "2024-01-01T04:30:00",
          "2024-01-01T04:35:00",
          "2024-01-01T04:40:00",
          "2024-01-01T04:45:00",
          "2024-01-01T04:50:00",
          "2024-01-01T04:55:00",
          "2024-01-01T05:00:00",
          "2024-01-01T05:05:00",
          "2024-01-01T05:10:00",
          "2024-01-01T05:15:00",
          "2024-01-01T05:20:00",
          "2024-01-01T05:25:00",
          "2024-01-01T05:30:00",
          "2024-01-01T05:35:00",
          "2024-01-01T05:40:00",
          "2024-01-01T05:45:00",
          "2024-01-01T05:50:00",
          "2024-01-01T05:55:00",
          "2024-01-01T06:00:00",
          "2024-01-01T06:05:00",
          "2024-01-01T06:10:00",
          "2024-01-01T06:15:00",
          "2024-01-01T06:20:00",
          "2024-01-01T06:25:00",
          "2024-01-01T06:30:00",
          "2024-01-01T06:35:00",
          "2024-01-01T06:40:00",
          "2024-01-01T06:45:00",
          "2024-01-01T06:50:00",
          "2024-01-01T06:55:00",
          "2024-01-01T07:00:00",
          "2024-01-01T07:05:00",
          "2024-01-01T07:10:00",
          "2024-01-01T07:15:00",
          "2024-01-01T07:20:00",
          "2024-01-01T07:25:00",
          "2024-01-01T07:30:00",
          "2024-01-01T07:35:00",
          "2024-01-01T07:40:00",
          "2024-01-01T07:45:00",
          "2024-01-01T07:50:00",
          "2024-01-01T07:55:00",
          "2024-01-01T08:00:00",
          "2024-01-01T08:05:00",
          "2024-01-01T08:10:00",
          "2024-01-01T08:15:00",
          "2024-01-01T08:20:00",
          "2024-01-01T08:25:00",
          "2024-01-01T08:30:00",
          "2024-01-01T08:35:00",
          "2024-01-01T08:40:00",
          "2024-01-01T08:45:00",
          "2024-01-01T08:50:00",
          "2024-01-01T08:55:00",
          "2024-01-01T09:00:00",
          "2024-01-01T09:05:00",
          "2024-01-01T09:10:00",
          "2024-01-01T09:15:00",
          "2024-01-01T09:20:00",
          "2024-01-01T09:25:00",
          "2024-01-01T09:30:00",
          "2024-01-01T09:35:00",
          "2024-01-01T09:40:00",
          "2024-01-01T09:45:00",
          "2024-01-01T09:50:00",
          "2024-01-01T09:55:00",
          "2024-01-01T10:00:00"
         ],
         "xaxis": "x",
         "y": [
          0,
          0,
          0,
          0,
          0,
          0,
          0,
          0,
          0,
          0,
          0,
          0,
          0,
          0,
          0,
          0,
          0,
          0,
          0,
          0,
          0,
          0,
          0,
          -5.995177499999045,
          -5.2351775000006455,
          -2.715177500000209,
          0,
          -2.1700000000000728,
          -0.7700000000004366,
          0,
          0,
          -2.8800000000010186,
          -2.819999999999709,
          -6.290000000000873,
          -11.510000000000218,
          -13.647392500000933,
          -13.647392500000933,
          -13.647392500000933,
          -13.647392500000933,
          -13.647392500000933,
          -13.647392500000933,
          -13.647392500000933,
          -13.647392500000933,
          -13.647392500000933,
          -13.647392500000933,
          -13.647392500000933,
          -13.647392500000933,
          -12.548415000001114,
          -11.308414999999513,
          -8.158414999999877,
          -4.398414999999659,
          -1.1084150000006048,
          -0.42841500000031374,
          0,
          0,
          0,
          -4.800000000001091,
          -2.1299999999991996,
          -3.790000000000873,
          -6.110000000000582,
          -5.229999999999563,
          0,
          0,
          -4.940000000000509,
          -4.020000000000437,
          -5.790000000000873,
          -7.319999999999709,
          -4.470000000001164,
          -8.889999999999418,
          -9.970000000001164,
          -13.389999999999418,
          -5.6200000000008,
          -7.319999999999709,
          -8.670000000000073,
          -8.739999999999782,
          -6.569999999999709,
          -2.350000000000364,
          -4.149999999999636,
          -0.7999999999992724,
          -3.3100000000013097,
          0,
          0,
          -1.1000000000003638,
          -4.740000000001601,
          -5.930000000000291,
          -4.670000000001892,
          -10.930000000000291,
          -8.530000000000655,
          -8.75,
          -10.320000000001528,
          -12.19000000000051,
          -14.430000000000291,
          -14.510000000000218,
          -17.850000000000364,
          -16.18000000000029,
          -20.100000000000364,
          -24.25,
          -22.06000000000131,
          -21.950000000000728,
          -22.390000000001237,
          -26.330000000001746,
          -26.790000000000873,
          -26.30000000000109,
          -21.38000000000102,
          -23.51000000000022,
          -24.530000000000655,
          -26.55000000000109,
          -23.330000000001746,
          -26.030000000000655,
          -29.030000000000655,
          -28.840000000000146,
          -28.150000000001455,
          -25.840000000000146,
          -23.360000000000582,
          -24.63000000000102,
          -26.890000000001237,
          -30.1200000000008,
          -31.980000000001382,
          -32.659999999999854,
          -34.840000000000146,
          -31.790000000000873,
          -34.75,
          -36.63000000000102,
          -42.63000000000102,
          -36.13000000000102,
          -43.57000000000153,
          -47.080000000001746,
          -41.36000000000058,
          -41.710000000000946,
          -42.43000000000029,
          -42.720000000001164
         ],
         "yaxis": "y2"
        }
       ],
       "layout": {
        "dragmode": "zoom",
        "height": 500,
        "hoverdistance": 1000,
        "hovermode": "x unified",
        "margin": {
         "b": 5,
         "l": 5,
         "r": 5,
         "t": 35
        },
        "modebar": {
         "add": [
          "drawline",
          "drawopenpath",
          "drawrect",
          "eraseshape"
         ]
        },
        "newshape": {
         "line": {
          "color": "yellow",
          "width": 1
         }
        },
        "showlegend": false,
        "template": {
         "data": {
          "bar": [
           {
            "error_x": {
             "color": "#f2f5fa"
            },
            "error_y": {
             "color": "#f2f5fa"
            },
            "marker": {
             "line": {
              "color": "rgb(17,17,17)",
              "width": 0.5
             },
             "pattern": {
              "fillmode": "overlay",
              "size": 10,
              "solidity": 0.2
             }
            },
            "type": "bar"
           }
          ],
          "barpolar": [
           {
            "marker": {
             "line": {
              "color": "rgb(17,17,17)",
              "width": 0.5
             },
             "pattern": {
              "fillmode": "overlay",
              "size": 10,
              "solidity": 0.2
             }
            },
            "type": "barpolar"
           }
          ],
          "carpet": [
           {
            "aaxis": {
             "endlinecolor": "#A2B1C6",
             "gridcolor": "#506784",
             "linecolor": "#506784",
             "minorgridcolor": "#506784",
             "startlinecolor": "#A2B1C6"
            },
            "baxis": {
             "endlinecolor": "#A2B1C6",
             "gridcolor": "#506784",
             "linecolor": "#506784",
             "minorgridcolor": "#506784",
             "startlinecolor": "#A2B1C6"
            },
            "type": "carpet"
           }
          ],
          "choropleth": [
           {
            "colorbar": {
             "outlinewidth": 0,
             "ticks": ""
            },
            "type": "choropleth"
           }
          ],
          "contour": [
           {
            "colorbar": {
             "outlinewidth": 0,
             "ticks": ""
            },
            "colorscale": [
             [
              0,
              "#0d0887"
             ],
             [
              0.1111111111111111,
              "#46039f"
             ],
             [
              0.2222222222222222,
              "#7201a8"
             ],
             [
              0.3333333333333333,
              "#9c179e"
             ],
             [
              0.4444444444444444,
              "#bd3786"
             ],
             [
              0.5555555555555556,
              "#d8576b"
             ],
             [
              0.6666666666666666,
              "#ed7953"
             ],
             [
              0.7777777777777778,
              "#fb9f3a"
             ],
             [
              0.8888888888888888,
              "#fdca26"
             ],
             [
              1,
              "#f0f921"
             ]
            ],
            "type": "contour"
           }
          ],
          "contourcarpet": [
           {
            "colorbar": {
             "outlinewidth": 0,
             "ticks": ""
            },
            "type": "contourcarpet"
           }
          ],
          "heatmap": [
           {
            "colorbar": {
             "outlinewidth": 0,
             "ticks": ""
            },
            "colorscale": [
             [
              0,
              "#0d0887"
             ],
             [
              0.1111111111111111,
              "#46039f"
             ],
             [
              0.2222222222222222,
              "#7201a8"
             ],
             [
              0.3333333333333333,
              "#9c179e"
             ],
             [
              0.4444444444444444,
              "#bd3786"
             ],
             [
              0.5555555555555556,
              "#d8576b"
             ],
             [
              0.6666666666666666,
              "#ed7953"
             ],
             [
              0.7777777777777778,
              "#fb9f3a"
             ],
             [
              0.8888888888888888,
              "#fdca26"
             ],
             [
              1,
              "#f0f921"
             ]
            ],
            "type": "heatmap"
           }
          ],
          "heatmapgl": [
           {
            "colorbar": {
             "outlinewidth": 0,
             "ticks": ""
            },
            "colorscale": [
             [
              0,
              "#0d0887"
             ],
             [
              0.1111111111111111,
              "#46039f"
             ],
             [
              0.2222222222222222,
              "#7201a8"
             ],
             [
              0.3333333333333333,
              "#9c179e"
             ],
             [
              0.4444444444444444,
              "#bd3786"
             ],
             [
              0.5555555555555556,
              "#d8576b"
             ],
             [
              0.6666666666666666,
              "#ed7953"
             ],
             [
              0.7777777777777778,
              "#fb9f3a"
             ],
             [
              0.8888888888888888,
              "#fdca26"
             ],
             [
              1,
              "#f0f921"
             ]
            ],
            "type": "heatmapgl"
           }
          ],
          "histogram": [
           {
            "marker": {
             "pattern": {
              "fillmode": "overlay",
              "size": 10,
              "solidity": 0.2
             }
            },
            "type": "histogram"
           }
          ],
          "histogram2d": [
           {
            "colorbar": {
             "outlinewidth": 0,
             "ticks": ""
            },
            "colorscale": [
             [
              0,
              "#0d0887"
             ],
             [
              0.1111111111111111,
              "#46039f"
             ],
             [
              0.2222222222222222,
              "#7201a8"
             ],
             [
              0.3333333333333333,
              "#9c179e"
             ],
             [
              0.4444444444444444,
              "#bd3786"
             ],
             [
              0.5555555555555556,
              "#d8576b"
             ],
             [
              0.6666666666666666,
              "#ed7953"
             ],
             [
              0.7777777777777778,
              "#fb9f3a"
             ],
             [
              0.8888888888888888,
              "#fdca26"
             ],
             [
              1,
              "#f0f921"
             ]
            ],
            "type": "histogram2d"
           }
          ],
          "histogram2dcontour": [
           {
            "colorbar": {
             "outlinewidth": 0,
             "ticks": ""
            },
            "colorscale": [
             [
              0,
              "#0d0887"
             ],
             [
              0.1111111111111111,
              "#46039f"
             ],
             [
              0.2222222222222222,
              "#7201a8"
             ],
             [
              0.3333333333333333,
              "#9c179e"
             ],
             [
              0.4444444444444444,
              "#bd3786"
             ],
             [
              0.5555555555555556,
              "#d8576b"
             ],
             [
              0.6666666666666666,
              "#ed7953"
             ],
             [
              0.7777777777777778,
              "#fb9f3a"
             ],
             [
              0.8888888888888888,
              "#fdca26"
             ],
             [
              1,
              "#f0f921"
             ]
            ],
            "type": "histogram2dcontour"
           }
          ],
          "mesh3d": [
           {
            "colorbar": {
             "outlinewidth": 0,
             "ticks": ""
            },
            "type": "mesh3d"
           }
          ],
          "parcoords": [
           {
            "line": {
             "colorbar": {
              "outlinewidth": 0,
              "ticks": ""
             }
            },
            "type": "parcoords"
           }
          ],
          "pie": [
           {
            "automargin": true,
            "type": "pie"
           }
          ],
          "scatter": [
           {
            "marker": {
             "line": {
              "color": "#283442"
             }
            },
            "type": "scatter"
           }
          ],
          "scatter3d": [
           {
            "line": {
             "colorbar": {
              "outlinewidth": 0,
              "ticks": ""
             }
            },
            "marker": {
             "colorbar": {
              "outlinewidth": 0,
              "ticks": ""
             }
            },
            "type": "scatter3d"
           }
          ],
          "scattercarpet": [
           {
            "marker": {
             "colorbar": {
              "outlinewidth": 0,
              "ticks": ""
             }
            },
            "type": "scattercarpet"
           }
          ],
          "scattergeo": [
           {
            "marker": {
             "colorbar": {
              "outlinewidth": 0,
              "ticks": ""
             }
            },
            "type": "scattergeo"
           }
          ],
          "scattergl": [
           {
            "marker": {
             "line": {
              "color": "#283442"
             }
            },
            "type": "scattergl"
           }
          ],
          "scattermapbox": [
           {
            "marker": {
             "colorbar": {
              "outlinewidth": 0,
              "ticks": ""
             }
            },
            "type": "scattermapbox"
           }
          ],
          "scatterpolar": [
           {
            "marker": {
             "colorbar": {
              "outlinewidth": 0,
              "ticks": ""
             }
            },
            "type": "scatterpolar"
           }
          ],
          "scatterpolargl": [
           {
            "marker": {
             "colorbar": {
              "outlinewidth": 0,
              "ticks": ""
             }
            },
            "type": "scatterpolargl"
           }
          ],
          "scatterternary": [
           {
            "marker": {
             "colorbar": {
              "outlinewidth": 0,
              "ticks": ""
             }
            },
            "type": "scatterternary"
           }
          ],
          "surface": [
           {
            "colorbar": {
             "outlinewidth": 0,
             "ticks": ""
            },
            "colorscale": [
             [
              0,
              "#0d0887"
             ],
             [
              0.1111111111111111,
              "#46039f"
             ],
             [
              0.2222222222222222,
              "#7201a8"
             ],
             [
              0.3333333333333333,
              "#9c179e"
             ],
             [
              0.4444444444444444,
              "#bd3786"
             ],
             [
              0.5555555555555556,
              "#d8576b"
             ],
             [
              0.6666666666666666,
              "#ed7953"
             ],
             [
              0.7777777777777778,
              "#fb9f3a"
             ],
             [
              0.8888888888888888,
              "#fdca26"
             ],
             [
              1,
              "#f0f921"
             ]
            ],
            "type": "surface"
           }
          ],
          "table": [
           {
            "cells": {
             "fill": {
              "color": "#506784"
             },
             "line": {
              "color": "rgb(17,17,17)"
             }
            },
            "header": {
             "fill": {
              "color": "#2a3f5f"
             },
             "line": {
              "color": "rgb(17,17,17)"
             }
            },
            "type": "table"
           }
          ]
         },
         "layout": {
          "annotationdefaults": {
           "arrowcolor": "#f2f5fa",
           "arrowhead": 0,
           "arrowwidth": 1
          },
          "autotypenumbers": "strict",
          "coloraxis": {
           "colorbar": {
            "outlinewidth": 0,
            "ticks": ""
           }
          },
          "colorscale": {
           "diverging": [
            [
             0,
             "#8e0152"
            ],
            [
             0.1,
             "#c51b7d"
            ],
            [
             0.2,
             "#de77ae"
            ],
            [
             0.3,
             "#f1b6da"
            ],
            [
             0.4,
             "#fde0ef"
            ],
            [
             0.5,
             "#f7f7f7"
            ],
            [
             0.6,
             "#e6f5d0"
            ],
            [
             0.7,
             "#b8e186"
            ],
            [
             0.8,
             "#7fbc41"
            ],
            [
             0.9,
             "#4d9221"
            ],
            [
             1,
             "#276419"
            ]
           ],
           "sequential": [
            [
             0,
             "#0d0887"
            ],
            [
             0.1111111111111111,
             "#46039f"
            ],
            [
             0.2222222222222222,
             "#7201a8"
            ],
            [
             0.3333333333333333,
             "#9c179e"
            ],
            [
             0.4444444444444444,
             "#bd3786"
            ],
            [
             0.5555555555555556,
             "#d8576b"
            ],
            [
             0.6666666666666666,
             "#ed7953"
            ],
            [
             0.7777777777777778,
             "#fb9f3a"
            ],
            [
             0.8888888888888888,
             "#fdca26"
            ],
            [
             1,
             "#f0f921"
            ]
           ],
           "sequentialminus": [
            [
             0,
             "#0d0887"
            ],
            [
             0.1111111111111111,
             "#46039f"
            ],
            [
             0.2222222222222222,
             "#7201a8"
            ],
            [
             0.3333333333333333,
             "#9c179e"
            ],
            [
             0.4444444444444444,
             "#bd3786"
            ],
            [
             0.5555555555555556,
             "#d8576b"
            ],
            [
             0.6666666666666666,
             "#ed7953"
            ],
            [
             0.7777777777777778,
             "#fb9f3a"
            ],
            [
             0.8888888888888888,
             "#fdca26"
            ],
            [
             1,
             "#f0f921"
            ]
           ]
          },
          "colorway": [
           "#636efa",
           "#EF553B",
           "#00cc96",
           "#ab63fa",
           "#FFA15A",
           "#19d3f3",
           "#FF6692",
           "#B6E880",
           "#FF97FF",
           "#FECB52"
          ],
          "font": {
           "color": "#f2f5fa"
          },
          "geo": {
           "bgcolor": "rgb(17,17,17)",
           "lakecolor": "rgb(17,17,17)",
           "landcolor": "rgb(17,17,17)",
           "showlakes": true,
           "showland": true,
           "subunitcolor": "#506784"
          },
          "hoverlabel": {
           "align": "left"
          },
          "hovermode": "closest",
          "mapbox": {
           "style": "dark"
          },
          "paper_bgcolor": "rgb(17,17,17)",
          "plot_bgcolor": "rgb(17,17,17)",
          "polar": {
           "angularaxis": {
            "gridcolor": "#506784",
            "linecolor": "#506784",
            "ticks": ""
           },
           "bgcolor": "rgb(17,17,17)",
           "radialaxis": {
            "gridcolor": "#506784",
            "linecolor": "#506784",
            "ticks": ""
           }
          },
          "scene": {
           "xaxis": {
            "backgroundcolor": "rgb(17,17,17)",
            "gridcolor": "#506784",
            "gridwidth": 2,
            "linecolor": "#506784",
            "showbackground": true,
            "ticks": "",
            "zerolinecolor": "#C8D4E3"
           },
           "yaxis": {
            "backgroundcolor": "rgb(17,17,17)",
            "gridcolor": "#506784",
            "gridwidth": 2,
            "linecolor": "#506784",
            "showbackground": true,
            "ticks": "",
            "zerolinecolor": "#C8D4E3"
           },
           "zaxis": {
            "backgroundcolor": "rgb(17,17,17)",
            "gridcolor": "#506784",
            "gridwidth": 2,
            "linecolor": "#506784",
            "showbackground": true,
            "ticks": "",
            "zerolinecolor": "#C8D4E3"
           }
          },
          "shapedefaults": {
           "line": {
            "color": "#f2f5fa"
           }
          },
          "sliderdefaults": {
           "bgcolor": "#C8D4E3",
           "bordercolor": "rgb(17,17,17)",
           "borderwidth": 1,
           "tickwidth": 0
          },
          "ternary": {
           "aaxis": {
            "gridcolor": "#506784",
            "linecolor": "#506784",
            "ticks": ""
           },
           "baxis": {
            "gridcolor": "#506784",
            "linecolor": "#506784",
            "ticks": ""
           },
           "bgcolor": "rgb(17,17,17)",
           "caxis": {
            "gridcolor": "#506784",
            "linecolor": "#506784",
            "ticks": ""
           }
          },
          "title": {
           "x": 0.05
          },
          "updatemenudefaults": {
           "bgcolor": "#506784",
           "borderwidth": 0
          },
          "xaxis": {
           "automargin": true,
           "gridcolor": "#283442",
           "linecolor": "#506784",
           "ticks": "",
           "title": {
            "standoff": 15
           },
           "zerolinecolor": "#283442",
           "zerolinewidth": 2
          },
          "yaxis": {
           "automargin": true,
           "gridcolor": "#283442",
           "linecolor": "#506784",
           "ticks": "",
           "title": {
            "standoff": 15
           },
           "zerolinecolor": "#283442",
           "zerolinewidth": 2
          }
         }
        },
        "title": {
         "text": " Simulation: /test3",
         "x": 0.5,
         "xanchor": "center",
         "y": 0.9,
         "yanchor": "top"
        },
        "xaxis": {
         "anchor": "y",
         "domain": [
          0,
          1
         ],
         "hoverformat": "%d-%b-%y %H:%M",
         "matches": "x2",
         "rangeslider": {
          "visible": false
         },
         "showspikes": true,
         "showticklabels": false,
         "spikecolor": "#306020",
         "spikedash": "dot",
         "spikemode": "across",
         "spikesnap": "cursor",
         "spikethickness": 1
        },
        "xaxis2": {
         "anchor": "y2",
         "domain": [
          0,
          1
         ],
         "showspikes": true,
         "spikecolor": "#306020",
         "spikedash": "dot",
         "spikemode": "across",
         "spikesnap": "cursor",
         "spikethickness": 1
        },
        "yaxis": {
         "anchor": "x",
         "domain": [
          0.16631578947368428,
          1
         ],
         "hoverformat": ".2f",
         "spikecolor": "#306020",
         "spikesnap": "cursor",
         "spikethickness": 1,
         "tickformat": ".2f"
        },
        "yaxis2": {
         "anchor": "x2",
         "domain": [
          0,
          0.15631578947368427
         ],
         "range": [
          -47.080000000001746,
          0
         ],
         "spikecolor": "#306020",
         "spikesnap": "cursor",
         "spikethickness": 1,
         "tickformat": ".2f"
        }
       }
      }
     },
     "metadata": {},
     "output_type": "display_data"
    },
    {
     "data": {
      "application/vnd.plotly.v1+json": {
       "config": {
        "plotlyServerURL": "https://plot.ly"
       },
       "data": [
        {
         "cells": {
          "align": [
           "center",
           "left"
          ],
          "fill": {
           "color": "#101010"
          },
          "font": {
           "size": 10
          },
          "line": {
           "color": "darkslategray"
          },
          "values": [
           1.206,
           0.022,
           13.509,
           0.096,
           0.469,
           47.08,
           0,
           0,
           19,
           1,
           0.389,
           0.006,
           6.389,
           4
          ]
         },
         "columnwidth": [
          130,
          130,
          130,
          130,
          200
         ],
         "header": {
          "fill": {
           "color": "#303030"
          },
          "font": {
           "color": "white",
           "size": 11
          },
          "line": {
           "color": "darkslategray"
          },
          "values": [
           "Gain",
           "Cagr",
           "Sharpe",
           "Qr",
           "Max dd pct",
           "Mdd usd",
           "Sortino",
           "Calmar",
           "Tail ratio",
           "Stability",
           "Var",
           "Avg return",
           "Fees",
           "Execs"
          ]
         },
         "type": "table",
         "uid": "c0c89577-b8ab-4233-aa47-b3d30ba1b413"
        }
       ],
       "layout": {
        "height": 80,
        "margin": {
         "b": 1,
         "l": 5,
         "r": 5,
         "t": 0
        },
        "template": {
         "data": {
          "bar": [
           {
            "error_x": {
             "color": "#f2f5fa"
            },
            "error_y": {
             "color": "#f2f5fa"
            },
            "marker": {
             "line": {
              "color": "rgb(17,17,17)",
              "width": 0.5
             },
             "pattern": {
              "fillmode": "overlay",
              "size": 10,
              "solidity": 0.2
             }
            },
            "type": "bar"
           }
          ],
          "barpolar": [
           {
            "marker": {
             "line": {
              "color": "rgb(17,17,17)",
              "width": 0.5
             },
             "pattern": {
              "fillmode": "overlay",
              "size": 10,
              "solidity": 0.2
             }
            },
            "type": "barpolar"
           }
          ],
          "carpet": [
           {
            "aaxis": {
             "endlinecolor": "#A2B1C6",
             "gridcolor": "#506784",
             "linecolor": "#506784",
             "minorgridcolor": "#506784",
             "startlinecolor": "#A2B1C6"
            },
            "baxis": {
             "endlinecolor": "#A2B1C6",
             "gridcolor": "#506784",
             "linecolor": "#506784",
             "minorgridcolor": "#506784",
             "startlinecolor": "#A2B1C6"
            },
            "type": "carpet"
           }
          ],
          "choropleth": [
           {
            "colorbar": {
             "outlinewidth": 0,
             "ticks": ""
            },
            "type": "choropleth"
           }
          ],
          "contour": [
           {
            "colorbar": {
             "outlinewidth": 0,
             "ticks": ""
            },
            "colorscale": [
             [
              0,
              "#0d0887"
             ],
             [
              0.1111111111111111,
              "#46039f"
             ],
             [
              0.2222222222222222,
              "#7201a8"
             ],
             [
              0.3333333333333333,
              "#9c179e"
             ],
             [
              0.4444444444444444,
              "#bd3786"
             ],
             [
              0.5555555555555556,
              "#d8576b"
             ],
             [
              0.6666666666666666,
              "#ed7953"
             ],
             [
              0.7777777777777778,
              "#fb9f3a"
             ],
             [
              0.8888888888888888,
              "#fdca26"
             ],
             [
              1,
              "#f0f921"
             ]
            ],
            "type": "contour"
           }
          ],
          "contourcarpet": [
           {
            "colorbar": {
             "outlinewidth": 0,
             "ticks": ""
            },
            "type": "contourcarpet"
           }
          ],
          "heatmap": [
           {
            "colorbar": {
             "outlinewidth": 0,
             "ticks": ""
            },
            "colorscale": [
             [
              0,
              "#0d0887"
             ],
             [
              0.1111111111111111,
              "#46039f"
             ],
             [
              0.2222222222222222,
              "#7201a8"
             ],
             [
              0.3333333333333333,
              "#9c179e"
             ],
             [
              0.4444444444444444,
              "#bd3786"
             ],
             [
              0.5555555555555556,
              "#d8576b"
             ],
             [
              0.6666666666666666,
              "#ed7953"
             ],
             [
              0.7777777777777778,
              "#fb9f3a"
             ],
             [
              0.8888888888888888,
              "#fdca26"
             ],
             [
              1,
              "#f0f921"
             ]
            ],
            "type": "heatmap"
           }
          ],
          "heatmapgl": [
           {
            "colorbar": {
             "outlinewidth": 0,
             "ticks": ""
            },
            "colorscale": [
             [
              0,
              "#0d0887"
             ],
             [
              0.1111111111111111,
              "#46039f"
             ],
             [
              0.2222222222222222,
              "#7201a8"
             ],
             [
              0.3333333333333333,
              "#9c179e"
             ],
             [
              0.4444444444444444,
              "#bd3786"
             ],
             [
              0.5555555555555556,
              "#d8576b"
             ],
             [
              0.6666666666666666,
              "#ed7953"
             ],
             [
              0.7777777777777778,
              "#fb9f3a"
             ],
             [
              0.8888888888888888,
              "#fdca26"
             ],
             [
              1,
              "#f0f921"
             ]
            ],
            "type": "heatmapgl"
           }
          ],
          "histogram": [
           {
            "marker": {
             "pattern": {
              "fillmode": "overlay",
              "size": 10,
              "solidity": 0.2
             }
            },
            "type": "histogram"
           }
          ],
          "histogram2d": [
           {
            "colorbar": {
             "outlinewidth": 0,
             "ticks": ""
            },
            "colorscale": [
             [
              0,
              "#0d0887"
             ],
             [
              0.1111111111111111,
              "#46039f"
             ],
             [
              0.2222222222222222,
              "#7201a8"
             ],
             [
              0.3333333333333333,
              "#9c179e"
             ],
             [
              0.4444444444444444,
              "#bd3786"
             ],
             [
              0.5555555555555556,
              "#d8576b"
             ],
             [
              0.6666666666666666,
              "#ed7953"
             ],
             [
              0.7777777777777778,
              "#fb9f3a"
             ],
             [
              0.8888888888888888,
              "#fdca26"
             ],
             [
              1,
              "#f0f921"
             ]
            ],
            "type": "histogram2d"
           }
          ],
          "histogram2dcontour": [
           {
            "colorbar": {
             "outlinewidth": 0,
             "ticks": ""
            },
            "colorscale": [
             [
              0,
              "#0d0887"
             ],
             [
              0.1111111111111111,
              "#46039f"
             ],
             [
              0.2222222222222222,
              "#7201a8"
             ],
             [
              0.3333333333333333,
              "#9c179e"
             ],
             [
              0.4444444444444444,
              "#bd3786"
             ],
             [
              0.5555555555555556,
              "#d8576b"
             ],
             [
              0.6666666666666666,
              "#ed7953"
             ],
             [
              0.7777777777777778,
              "#fb9f3a"
             ],
             [
              0.8888888888888888,
              "#fdca26"
             ],
             [
              1,
              "#f0f921"
             ]
            ],
            "type": "histogram2dcontour"
           }
          ],
          "mesh3d": [
           {
            "colorbar": {
             "outlinewidth": 0,
             "ticks": ""
            },
            "type": "mesh3d"
           }
          ],
          "parcoords": [
           {
            "line": {
             "colorbar": {
              "outlinewidth": 0,
              "ticks": ""
             }
            },
            "type": "parcoords"
           }
          ],
          "pie": [
           {
            "automargin": true,
            "type": "pie"
           }
          ],
          "scatter": [
           {
            "marker": {
             "line": {
              "color": "#283442"
             }
            },
            "type": "scatter"
           }
          ],
          "scatter3d": [
           {
            "line": {
             "colorbar": {
              "outlinewidth": 0,
              "ticks": ""
             }
            },
            "marker": {
             "colorbar": {
              "outlinewidth": 0,
              "ticks": ""
             }
            },
            "type": "scatter3d"
           }
          ],
          "scattercarpet": [
           {
            "marker": {
             "colorbar": {
              "outlinewidth": 0,
              "ticks": ""
             }
            },
            "type": "scattercarpet"
           }
          ],
          "scattergeo": [
           {
            "marker": {
             "colorbar": {
              "outlinewidth": 0,
              "ticks": ""
             }
            },
            "type": "scattergeo"
           }
          ],
          "scattergl": [
           {
            "marker": {
             "line": {
              "color": "#283442"
             }
            },
            "type": "scattergl"
           }
          ],
          "scattermapbox": [
           {
            "marker": {
             "colorbar": {
              "outlinewidth": 0,
              "ticks": ""
             }
            },
            "type": "scattermapbox"
           }
          ],
          "scatterpolar": [
           {
            "marker": {
             "colorbar": {
              "outlinewidth": 0,
              "ticks": ""
             }
            },
            "type": "scatterpolar"
           }
          ],
          "scatterpolargl": [
           {
            "marker": {
             "colorbar": {
              "outlinewidth": 0,
              "ticks": ""
             }
            },
            "type": "scatterpolargl"
           }
          ],
          "scatterternary": [
           {
            "marker": {
             "colorbar": {
              "outlinewidth": 0,
              "ticks": ""
             }
            },
            "type": "scatterternary"
           }
          ],
          "surface": [
           {
            "colorbar": {
             "outlinewidth": 0,
             "ticks": ""
            },
            "colorscale": [
             [
              0,
              "#0d0887"
             ],
             [
              0.1111111111111111,
              "#46039f"
             ],
             [
              0.2222222222222222,
              "#7201a8"
             ],
             [
              0.3333333333333333,
              "#9c179e"
             ],
             [
              0.4444444444444444,
              "#bd3786"
             ],
             [
              0.5555555555555556,
              "#d8576b"
             ],
             [
              0.6666666666666666,
              "#ed7953"
             ],
             [
              0.7777777777777778,
              "#fb9f3a"
             ],
             [
              0.8888888888888888,
              "#fdca26"
             ],
             [
              1,
              "#f0f921"
             ]
            ],
            "type": "surface"
           }
          ],
          "table": [
           {
            "cells": {
             "fill": {
              "color": "#506784"
             },
             "line": {
              "color": "rgb(17,17,17)"
             }
            },
            "header": {
             "fill": {
              "color": "#2a3f5f"
             },
             "line": {
              "color": "rgb(17,17,17)"
             }
            },
            "type": "table"
           }
          ]
         },
         "layout": {
          "annotationdefaults": {
           "arrowcolor": "#f2f5fa",
           "arrowhead": 0,
           "arrowwidth": 1
          },
          "autotypenumbers": "strict",
          "coloraxis": {
           "colorbar": {
            "outlinewidth": 0,
            "ticks": ""
           }
          },
          "colorscale": {
           "diverging": [
            [
             0,
             "#8e0152"
            ],
            [
             0.1,
             "#c51b7d"
            ],
            [
             0.2,
             "#de77ae"
            ],
            [
             0.3,
             "#f1b6da"
            ],
            [
             0.4,
             "#fde0ef"
            ],
            [
             0.5,
             "#f7f7f7"
            ],
            [
             0.6,
             "#e6f5d0"
            ],
            [
             0.7,
             "#b8e186"
            ],
            [
             0.8,
             "#7fbc41"
            ],
            [
             0.9,
             "#4d9221"
            ],
            [
             1,
             "#276419"
            ]
           ],
           "sequential": [
            [
             0,
             "#0d0887"
            ],
            [
             0.1111111111111111,
             "#46039f"
            ],
            [
             0.2222222222222222,
             "#7201a8"
            ],
            [
             0.3333333333333333,
             "#9c179e"
            ],
            [
             0.4444444444444444,
             "#bd3786"
            ],
            [
             0.5555555555555556,
             "#d8576b"
            ],
            [
             0.6666666666666666,
             "#ed7953"
            ],
            [
             0.7777777777777778,
             "#fb9f3a"
            ],
            [
             0.8888888888888888,
             "#fdca26"
            ],
            [
             1,
             "#f0f921"
            ]
           ],
           "sequentialminus": [
            [
             0,
             "#0d0887"
            ],
            [
             0.1111111111111111,
             "#46039f"
            ],
            [
             0.2222222222222222,
             "#7201a8"
            ],
            [
             0.3333333333333333,
             "#9c179e"
            ],
            [
             0.4444444444444444,
             "#bd3786"
            ],
            [
             0.5555555555555556,
             "#d8576b"
            ],
            [
             0.6666666666666666,
             "#ed7953"
            ],
            [
             0.7777777777777778,
             "#fb9f3a"
            ],
            [
             0.8888888888888888,
             "#fdca26"
            ],
            [
             1,
             "#f0f921"
            ]
           ]
          },
          "colorway": [
           "#636efa",
           "#EF553B",
           "#00cc96",
           "#ab63fa",
           "#FFA15A",
           "#19d3f3",
           "#FF6692",
           "#B6E880",
           "#FF97FF",
           "#FECB52"
          ],
          "font": {
           "color": "#f2f5fa"
          },
          "geo": {
           "bgcolor": "rgb(17,17,17)",
           "lakecolor": "rgb(17,17,17)",
           "landcolor": "rgb(17,17,17)",
           "showlakes": true,
           "showland": true,
           "subunitcolor": "#506784"
          },
          "hoverlabel": {
           "align": "left"
          },
          "hovermode": "closest",
          "mapbox": {
           "style": "dark"
          },
          "paper_bgcolor": "rgb(17,17,17)",
          "plot_bgcolor": "rgb(17,17,17)",
          "polar": {
           "angularaxis": {
            "gridcolor": "#506784",
            "linecolor": "#506784",
            "ticks": ""
           },
           "bgcolor": "rgb(17,17,17)",
           "radialaxis": {
            "gridcolor": "#506784",
            "linecolor": "#506784",
            "ticks": ""
           }
          },
          "scene": {
           "xaxis": {
            "backgroundcolor": "rgb(17,17,17)",
            "gridcolor": "#506784",
            "gridwidth": 2,
            "linecolor": "#506784",
            "showbackground": true,
            "ticks": "",
            "zerolinecolor": "#C8D4E3"
           },
           "yaxis": {
            "backgroundcolor": "rgb(17,17,17)",
            "gridcolor": "#506784",
            "gridwidth": 2,
            "linecolor": "#506784",
            "showbackground": true,
            "ticks": "",
            "zerolinecolor": "#C8D4E3"
           },
           "zaxis": {
            "backgroundcolor": "rgb(17,17,17)",
            "gridcolor": "#506784",
            "gridwidth": 2,
            "linecolor": "#506784",
            "showbackground": true,
            "ticks": "",
            "zerolinecolor": "#C8D4E3"
           }
          },
          "shapedefaults": {
           "line": {
            "color": "#f2f5fa"
           }
          },
          "sliderdefaults": {
           "bgcolor": "#C8D4E3",
           "bordercolor": "rgb(17,17,17)",
           "borderwidth": 1,
           "tickwidth": 0
          },
          "ternary": {
           "aaxis": {
            "gridcolor": "#506784",
            "linecolor": "#506784",
            "ticks": ""
           },
           "baxis": {
            "gridcolor": "#506784",
            "linecolor": "#506784",
            "ticks": ""
           },
           "bgcolor": "rgb(17,17,17)",
           "caxis": {
            "gridcolor": "#506784",
            "linecolor": "#506784",
            "ticks": ""
           }
          },
          "title": {
           "x": 0.05
          },
          "updatemenudefaults": {
           "bgcolor": "#506784",
           "borderwidth": 0
          },
          "xaxis": {
           "automargin": true,
           "gridcolor": "#283442",
           "linecolor": "#506784",
           "ticks": "",
           "title": {
            "standoff": 15
           },
           "zerolinecolor": "#283442",
           "zerolinewidth": 2
          },
          "yaxis": {
           "automargin": true,
           "gridcolor": "#283442",
           "linecolor": "#506784",
           "ticks": "",
           "title": {
            "standoff": 15
           },
           "zerolinecolor": "#283442",
           "zerolinewidth": 2
          }
         }
        }
       }
      }
     },
     "metadata": {},
     "output_type": "display_data"
    }
   ],
   "source": [
    "tearsheet(rep, False)"
   ]
  },
  {
   "cell_type": "code",
   "execution_count": null,
   "metadata": {},
   "outputs": [],
   "source": []
  },
  {
   "cell_type": "code",
   "execution_count": null,
   "metadata": {},
   "outputs": [],
   "source": []
  }
 ],
 "metadata": {
  "kernelspec": {
   "display_name": ".venv",
   "language": "python",
   "name": "python3"
  },
  "language_info": {
   "codemirror_mode": {
    "name": "ipython",
    "version": 3
   },
   "file_extension": ".py",
   "mimetype": "text/x-python",
   "name": "python",
   "nbconvert_exporter": "python",
   "pygments_lexer": "ipython3",
   "version": "3.11.8"
  }
 },
 "nbformat": 4,
 "nbformat_minor": 2
}
