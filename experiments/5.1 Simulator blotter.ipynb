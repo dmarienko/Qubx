{
 "cells": [
  {
   "cell_type": "code",
   "execution_count": 1,
   "metadata": {},
   "outputs": [
    {
     "name": "stdout",
     "output_type": "stream",
     "text": [
      " >  [\u001b[32mdev\u001b[0m] \u001b[31minstalling cython rebuilding hook\u001b[0m\n",
      "\n",
      "⠀⠀⡰⡖⠒⠒⢒⢦⠀⠀   \n",
      "⠀⢠⠃⠈⢆⣀⣎⣀⣱⡀  \u001b[31mQUBX\u001b[0m | \u001b[36mQuantitative Backtesting Environment\u001b[0m \n",
      "⠀⢳⠒⠒⡞⠚⡄⠀⡰⠁         (c) 2024, ver. \u001b[35mDev\u001b[0m\n",
      "⠀⠀⠱⣜⣀⣀⣈⣦⠃⠀⠀⠀ \n",
      "        \n",
      "\u001b[32m2024-07-10 16:48:39.149\u001b[0m [ \u001b[1mℹ️\u001b[0m ] \u001b[1mNTP offset controller thread is started\u001b[0m\n"
     ]
    }
   ],
   "source": [
    "import sys, os, re; sys.path = ([\"../src/\", \"../\"] if re.match(r'^(\\w\\:\\\\)|(/)', os.getcwd()) else [])+ sys.path \n",
    "\n",
    "from typing import Any, Optional, List\n",
    "\n",
    "import qubx\n",
    "%qubxd dev \n",
    "\n",
    "%load_ext autoreload\n",
    "%autoreload 2\n",
    "\n",
    "from qubx import lookup, logger\n",
    "from qubx.core.strategy import IStrategy, StrategyContext, TriggerEvent\n",
    "from qubx.pandaz.utils import *\n",
    "\n",
    "# - - - - - - - - - - - - - - - - - - - - - - - -\n",
    "from qubx.trackers import PortfolioRebalancerTracker\n",
    "from qubx.core.series import Quote\n",
    "from qubx.data.readers import CsvStorageDataReader, AsTimestampedRecords, AsQuotes, RestoreTicksFromOHLC\n",
    "from qubx.core.basics import Deal, Instrument, Order, Position, Signal\n",
    "from qubx.core.utils import recognize_time\n",
    "\n",
    "from qubx.impl.ccxt_connector import CCXTDataConnector\n",
    "from qubx.impl.ccxt_trading import CCXTSyncTradingConnector\n",
    "from qubx.utils.runner import get_account_config\n",
    "\n",
    "def Q(time: str, bid: float, ask: float) -> Quote:\n",
    "    return Quote(recognize_time(time), bid, ask, 0, 0)"
   ]
  },
  {
   "cell_type": "markdown",
   "metadata": {},
   "source": [
    "# Simulated broker and paper trading"
   ]
  },
  {
   "cell_type": "code",
   "execution_count": 23,
   "metadata": {},
   "outputs": [],
   "source": [
    "from qubx.backtester.simulator import SimulatedExchangeService"
   ]
  },
  {
   "cell_type": "code",
   "execution_count": 24,
   "metadata": {},
   "outputs": [],
   "source": [
    "class TestStrategy(IStrategy):\n",
    "    capital_invested: int = 1000\n",
    "\n",
    "    def on_start(self, ctx: StrategyContext):\n",
    "        logger.info(f\"Strategy started | {ctx.time()}\")\n",
    "\n",
    "    def on_fit(self, ctx: 'StrategyContext', fit_time: str | pd.Timestamp, previous_fit_time: str | pd.Timestamp | None = None):\n",
    "        logger.info(f\"> Fit is called | fit_time: {fit_time} / prev: {previous_fit_time}\")\n",
    "\n",
    "    def on_event(self, ctx: StrategyContext, event: TriggerEvent) -> List[Signal] | None:\n",
    "        logger.info(f\"{event.time} -> {event}\")\n",
    "        return None\n",
    "\n",
    "    def ohlcs(self, timeframe:str) -> Dict[str, pd.DataFrame]:\n",
    "        return {s.symbol: self.ctx.ohlc(s, timeframe).pd() for s in self.ctx.instruments}\n",
    "\n",
    "    def on_stop(self, ctx: StrategyContext):\n",
    "        logger.info(f\"> test is stopped\")\n",
    "\n",
    "    def tracker(self, ctx: StrategyContext) -> PortfolioRebalancerTracker:\n",
    "        return PortfolioRebalancerTracker(ctx, 1000, 0)"
   ]
  },
  {
   "cell_type": "code",
   "execution_count": 25,
   "metadata": {},
   "outputs": [
    {
     "name": "stdout",
     "output_type": "stream",
     "text": [
      "\u001b[32m2024-07-10 17:00:49.402\u001b[0m [ \u001b[1mℹ️\u001b[0m ] \u001b[1mbinance initialized - current time 1970-01-01T00:00:00.000000000\u001b[0m\n",
      "\u001b[32m2024-07-10 17:00:49.403\u001b[0m [ \u001b[33m\u001b[1m⚠️\u001b[0m ] \u001b[36mqubx.core.loggers\u001b[0m:\u001b[36m__init__\u001b[0m:\u001b[36m324\u001b[0m - \u001b[33m\u001b[1mLog writer is not defined - strategy activity will not be saved !\u001b[0m\n",
      "\u001b[32m2024-07-10 17:00:49.404\u001b[0m [ \u001b[1mℹ️\u001b[0m ] \u001b[1m(StrategyContext) set strategy parameters:\n",
      "\tset \u001b[32mcapital_invested\u001b[0m\u001b[1m <- \u001b[31m100\u001b[0m\u001b[1m\u001b[0m\n",
      "\u001b[32m2024-07-10 17:00:49.405\u001b[0m [ \u001b[34m\u001b[1m🐞\u001b[0m ] \u001b[34m\u001b[1mTriggering strategy on every 1Min bar after 55S\u001b[0m\n",
      "\u001b[32m2024-07-10 17:00:49.403\u001b[0m [ \u001b[33m\u001b[1m⚠️\u001b[0m ] \u001b[36mqubx.core.loggers\u001b[0m:\u001b[36m__init__\u001b[0m:\u001b[36m324\u001b[0m - \u001b[33m\u001b[1mLog writer is not defined - strategy activity will not be saved !\u001b[0m\n",
      "\u001b[32m2024-07-10 17:00:49.404\u001b[0m [ \u001b[1mℹ️\u001b[0m ] \u001b[1m(StrategyContext) set strategy parameters:\n",
      "\tset \u001b[32mcapital_invested\u001b[0m\u001b[1m <- \u001b[31m100\u001b[0m\u001b[1m\u001b[0m\n",
      "\u001b[32m2024-07-10 17:00:49.405\u001b[0m [ \u001b[34m\u001b[1m🐞\u001b[0m ] \u001b[34m\u001b[1mTriggering strategy on every 1Min bar after 55S\u001b[0m\n"
     ]
    }
   ],
   "source": [
    "auth = get_account_config('binance-qbx', './configs/.env')\n",
    "\n",
    "sbroker = SimulatedExchangeService('binance', 10000, 'vip0_usdt', 'USDT')\n",
    "data = CCXTDataConnector('binance', sbroker, **auth)\n",
    "\n",
    "instruments = [lookup.find_symbol('BINANCE', 'BTCUSDT')]\n",
    "ctx = StrategyContext(\n",
    "    TestStrategy(), dict(\n",
    "        capital_invested=100,\n",
    "        trading_allowed=False\n",
    "    ), \n",
    "    data, sbroker, instruments=instruments,  # type: ignore\n",
    "    md_subscription=dict(type='ohlc', timeframe='1Min', nback=0),\n",
    "    trigger_spec='1Min -5Sec',\n",
    ")\n",
    "S = ctx.strategy"
   ]
  },
  {
   "cell_type": "code",
   "execution_count": null,
   "metadata": {},
   "outputs": [
    {
     "name": "stdout",
     "output_type": "stream",
     "text": [
      "\u001b[32m2024-07-10 17:00:52.328\u001b[0m [ \u001b[1mℹ️\u001b[0m ] \u001b[1m(StrategyContext) Subscribing to ohlc updates using {'timeframe': '1Min', 'nback': 0} for \n",
      "\t['BTCUSDT'] \u001b[0m\n",
      "\u001b[32m2024-07-10 17:00:52.328\u001b[0m [ \u001b[1mℹ️\u001b[0m ] \u001b[1mSubscribed on ohlc updates for 1 symbols: \n",
      "\t\t['BTCUSDT']\u001b[0m\n",
      "\u001b[32m2024-07-10 17:00:52.330\u001b[0m [ \u001b[1mℹ️\u001b[0m ] \u001b[1mStrategy started | 1970-01-01T00:00:00.000000000\u001b[0m\n",
      "\u001b[32m2024-07-10 17:00:52.332\u001b[0m [ \u001b[1mℹ️\u001b[0m ] \u001b[1m(StrategyContext) Start processing market data\u001b[0m\n",
      "\u001b[32m2024-07-10 17:00:52.333\u001b[0m [ \u001b[1mℹ️\u001b[0m ] \u001b[1m(StrategyContext) strategy is started\u001b[0m\n"
     ]
    },
    {
     "name": "stdout",
     "output_type": "stream",
     "text": [
      "\u001b[32m2024-07-10 17:00:59.141\u001b[0m [ \u001b[33m\u001b[1m⚠️\u001b[0m ] \u001b[36mqubx.core.strategy\u001b[0m:\u001b[36m_process_incoming_data\u001b[0m:\u001b[36m452\u001b[0m - \u001b[33m\u001b[1m[2024-07-10T14:00:59.576910848] TestStrategy::on_event() is SKIPPED for now because on_fit() was not called yet !\u001b[0m\n",
      "\u001b[32m2024-07-10 17:00:59.141\u001b[0m [ \u001b[34m\u001b[1m🐞\u001b[0m ] \u001b[34m\u001b[1m[2024-07-10T14:00:59.576910848]: Invoking TestStrategy on_fit('1970-01-01 00:00:00', 'None')\u001b[0m\n",
      "\u001b[32m2024-07-10 17:00:59.141\u001b[0m [ \u001b[1mℹ️\u001b[0m ] \u001b[1m> Fit is called | fit_time: 1970-01-01 00:00:00 / prev: None\u001b[0m\n",
      "\u001b[32m2024-07-10 17:00:59.141\u001b[0m [ \u001b[34m\u001b[1m🐞\u001b[0m ] \u001b[34m\u001b[1m[2024-07-10T14:00:59.576910848]: TestStrategy is fitted\u001b[0m\n",
      "\u001b[32m2024-07-10 17:01:15.264\u001b[0m [ \u001b[34m\u001b[1m🐞\u001b[0m ] \u001b[34m\u001b[1m[SIM-ORDER-BTCUSDT-100001 / TestStrategy_BTCUSDT_1] : LIMIT BUY 0.1 of BTCUSDT  @ 45000 -> [OPEN]\u001b[0m\n",
      "\u001b[32m2024-07-10 17:01:27.179\u001b[0m [ \u001b[34m\u001b[1m🐞\u001b[0m ] \u001b[34m\u001b[1m[SIM-ORDER-BTCUSDT-100002 / TestStrategy_BTCUSDT_2] : LIMIT SELL 0.1 of BTCUSDT  @ 45000 -> [CLOSED]\u001b[0m\n",
      "\u001b[32m2024-07-10 17:01:27.179\u001b[0m [ \u001b[34m\u001b[1m🐞\u001b[0m ] \u001b[34m\u001b[1mExecuted -0.1 @ 57780.495 of BTCUSDT for order SIM-ORDER-BTCUSDT-100002\u001b[0m\n",
      "\u001b[32m2024-07-10 17:01:39.318\u001b[0m [ \u001b[34m\u001b[1m🐞\u001b[0m ] \u001b[34m\u001b[1m[SIM-ORDER-BTCUSDT-100003 / TestStrategy_BTCUSDT_3] : MARKET BUY 0.1 of BTCUSDT  -> [CLOSED]\u001b[0m\n",
      "\u001b[32m2024-07-10 17:01:39.318\u001b[0m [ \u001b[34m\u001b[1m🐞\u001b[0m ] \u001b[34m\u001b[1mExecuted 0.1 @ 57812.405 of BTCUSDT for order SIM-ORDER-BTCUSDT-100003\u001b[0m\n",
      "\u001b[32m2024-07-10 17:01:44.892\u001b[0m [ \u001b[34m\u001b[1m🐞\u001b[0m ] \u001b[34m\u001b[1m[SIM-ORDER-BTCUSDT-100004 / TestStrategy_BTCUSDT_4] : MARKET BUY 0.1 of BTCUSDT  -> [CLOSED]\u001b[0m\n",
      "\u001b[32m2024-07-10 17:01:44.892\u001b[0m [ \u001b[34m\u001b[1m🐞\u001b[0m ] \u001b[34m\u001b[1mExecuted 0.1 @ 57798.094999999994 of BTCUSDT for order SIM-ORDER-BTCUSDT-100004\u001b[0m\n",
      "\u001b[32m2024-07-10 17:01:55.177\u001b[0m [ \u001b[34m\u001b[1m🐞\u001b[0m ] \u001b[34m\u001b[1m[SIM-ORDER-BTCUSDT-100005 / TestStrategy_BTCUSDT_5] : MARKET SELL 0.1 of BTCUSDT  -> [CLOSED]\u001b[0m\n",
      "\u001b[32m2024-07-10 17:01:55.178\u001b[0m [ \u001b[34m\u001b[1m🐞\u001b[0m ] \u001b[34m\u001b[1mExecuted -0.1 @ 57784.145000000004 of BTCUSDT for order SIM-ORDER-BTCUSDT-100005\u001b[0m\n",
      "\u001b[32m2024-07-10 17:01:55.883\u001b[0m [ \u001b[1mℹ️\u001b[0m ] \u001b[1m2024-07-10T14:01:56.046679552 -> TriggerEvent(time=numpy.datetime64('2024-07-10T14:01:56.046679552'), type='bar', instrument=Instrument(symbol='BTCUSDT', market_type='CRYPTO', exchange='BINANCE', base='BTC', quote='USDT', margin_symbol=None, min_tick=0.01, min_size_step=1e-05, min_size=1e-05, futures_info=None, _aux_instrument=None), data={o:57718.250000 | h:57813.670000 | l:57692.640000 | c:57789.320000 | v:1337108.331577})\u001b[0m\n",
      "\u001b[32m2024-07-10 17:02:05.861\u001b[0m [ \u001b[1mℹ️\u001b[0m ] \u001b[1m(StrategyContext) Market data processing stopped\u001b[0m\n"
     ]
    }
   ],
   "source": [
    "ctx.start()"
   ]
  },
  {
   "cell_type": "code",
   "execution_count": 42,
   "metadata": {},
   "outputs": [
    {
     "data": {
      "text/plain": [
       "'2024-07-10 14:01:58 [BINANCE:BTCUSDT]       0.00000      0.00    -4.5860 | 57789.33        0.00'"
      ]
     },
     "execution_count": 42,
     "metadata": {},
     "output_type": "execute_result"
    }
   ],
   "source": [
    "str(sbroker.get_position(instruments[0]))"
   ]
  },
  {
   "cell_type": "code",
   "execution_count": 39,
   "metadata": {},
   "outputs": [
    {
     "name": "stdout",
     "output_type": "stream",
     "text": [
      "\u001b[32m2024-07-10 17:01:44.892\u001b[0m [ \u001b[1mℹ️\u001b[0m ] \u001b[1m(StrategyContext) sending market buy for 0.1 of BTCUSDT ...\u001b[0m\n",
      "\u001b[32m2024-07-10 17:01:44.892\u001b[0m [ \u001b[34m\u001b[1m🐞\u001b[0m ] \u001b[34m\u001b[1m[OMS] BTCUSDT - SIM-ORDER-BTCUSDT-100004 MARKET BUY 0.1 executed at 57798.094999999994\u001b[0m\n",
      "\u001b[32m2024-07-10 17:01:44.892\u001b[0m [ \u001b[1mℹ️\u001b[0m ] \u001b[1m  ::  traded 0.1 for BTCUSDT @ 57798.094999999994 -> 0.00\u001b[0m\n",
      "\u001b[32m2024-07-10 17:01:44.892\u001b[0m [ \u001b[1mℹ️\u001b[0m ] \u001b[1mOrder SIM-ORDER-BTCUSDT-100004 MARKET BUY 0.1 of BTCUSDT -> CLOSED\u001b[0m\n"
     ]
    },
    {
     "data": {
      "text/plain": [
       "Order(id='SIM-ORDER-BTCUSDT-100004', type='MARKET', symbol='BTCUSDT', time=numpy.datetime64('2024-07-10T14:01:43.401421056'), quantity=0.1, price=0, side='BUY', status='CLOSED', time_in_force='gtc', client_id='TestStrategy_BTCUSDT_4', cost=0.0)"
      ]
     },
     "execution_count": 39,
     "metadata": {},
     "output_type": "execute_result"
    }
   ],
   "source": [
    "ctx.trade('BTCUSDT', 0.1)"
   ]
  },
  {
   "cell_type": "code",
   "execution_count": 41,
   "metadata": {},
   "outputs": [
    {
     "name": "stdout",
     "output_type": "stream",
     "text": [
      "\u001b[32m2024-07-10 17:01:55.173\u001b[0m [ \u001b[1mℹ️\u001b[0m ] \u001b[1m(StrategyContext) sending market sell for 0.1 of BTCUSDT ...\u001b[0m\n",
      "\u001b[32m2024-07-10 17:01:55.174\u001b[0m [ \u001b[34m\u001b[1m🐞\u001b[0m ] \u001b[34m\u001b[1m[OMS] BTCUSDT - SIM-ORDER-BTCUSDT-100005 MARKET SELL 0.1 executed at 57784.145000000004\u001b[0m\n",
      "\u001b[32m2024-07-10 17:01:55.175\u001b[0m [ \u001b[1mℹ️\u001b[0m ] \u001b[1m  ::  traded -0.1 for BTCUSDT @ 57784.145000000004 -> -1.39\u001b[0m\n",
      "\u001b[32m2024-07-10 17:01:55.176\u001b[0m [ \u001b[1mℹ️\u001b[0m ] \u001b[1mOrder SIM-ORDER-BTCUSDT-100005 MARKET SELL 0.1 of BTCUSDT -> CLOSED\u001b[0m\n"
     ]
    },
    {
     "data": {
      "text/plain": [
       "Order(id='SIM-ORDER-BTCUSDT-100005', type='MARKET', symbol='BTCUSDT', time=numpy.datetime64('2024-07-10T14:01:54.048028160'), quantity=0.1, price=0, side='SELL', status='CLOSED', time_in_force='gtc', client_id='TestStrategy_BTCUSDT_5', cost=0.0)"
      ]
     },
     "execution_count": 41,
     "metadata": {},
     "output_type": "execute_result"
    }
   ],
   "source": [
    "ctx.trade('BTCUSDT', -0.1)"
   ]
  },
  {
   "cell_type": "code",
   "execution_count": 43,
   "metadata": {},
   "outputs": [
    {
     "name": "stdout",
     "output_type": "stream",
     "text": [
      "\u001b[32m2024-07-10 17:02:05.861\u001b[0m [ \u001b[1mℹ️\u001b[0m ] \u001b[1m> test is stopped\u001b[0m\n",
      "\u001b[32m2024-07-10 17:02:05.861\u001b[0m [ \u001b[1mℹ️\u001b[0m ] \u001b[1m\t\u001b[37mCachedMarketDataHolder.update_by_bar\u001b[0m\u001b[1m took \u001b[31m0.0000215\u001b[0m\u001b[1m secs\u001b[0m\n",
      "\u001b[32m2024-07-10 17:02:05.861\u001b[0m [ \u001b[1mℹ️\u001b[0m ] \u001b[1m\t\u001b[37mStrategyContext._processing_bar\u001b[0m\u001b[1m took \u001b[31m0.0000314\u001b[0m\u001b[1m secs\u001b[0m\n",
      "\u001b[32m2024-07-10 17:02:05.861\u001b[0m [ \u001b[1mℹ️\u001b[0m ] \u001b[1m\t\u001b[37mStrategyContext.handler\u001b[0m\u001b[1m took \u001b[31m0.0000024\u001b[0m\u001b[1m secs\u001b[0m\n",
      "\u001b[32m2024-07-10 17:02:05.861\u001b[0m [ \u001b[1mℹ️\u001b[0m ] \u001b[1m\t\u001b[37mStrategyContext._process_incoming_data\u001b[0m\u001b[1m took \u001b[31m1.4704930\u001b[0m\u001b[1m secs\u001b[0m\n",
      "\u001b[32m2024-07-10 17:02:05.861\u001b[0m [ \u001b[1mℹ️\u001b[0m ] \u001b[1m\t\u001b[37mloggers.notify\u001b[0m\u001b[1m took \u001b[31m0.0000035\u001b[0m\u001b[1m secs\u001b[0m\n",
      "\u001b[32m2024-07-10 17:02:05.861\u001b[0m [ \u001b[1mℹ️\u001b[0m ] \u001b[1m\t\u001b[37mstrategy.on_fit\u001b[0m\u001b[1m took \u001b[31m0.0012412\u001b[0m\u001b[1m secs\u001b[0m\n",
      "\u001b[32m2024-07-10 17:02:05.873\u001b[0m [ \u001b[1mℹ️\u001b[0m ] \u001b[1m\t\u001b[37mstrategy.on_event\u001b[0m\u001b[1m took \u001b[31m0.0013669\u001b[0m\u001b[1m secs\u001b[0m\n",
      "\u001b[32m2024-07-10 17:02:05.873\u001b[0m [ \u001b[1mℹ️\u001b[0m ] \u001b[1m\t\u001b[37mStrategyContext.trade\u001b[0m\u001b[1m took \u001b[31m0.0025071\u001b[0m\u001b[1m secs\u001b[0m\n",
      "\u001b[32m2024-07-10 17:02:05.873\u001b[0m [ \u001b[1mℹ️\u001b[0m ] \u001b[1m\t\u001b[37mStrategyContext._processing_order\u001b[0m\u001b[1m took \u001b[31m0.0008409\u001b[0m\u001b[1m secs\u001b[0m\n",
      "\u001b[32m2024-07-10 17:02:05.874\u001b[0m [ \u001b[1mℹ️\u001b[0m ] \u001b[1m\t\u001b[37mStrategyContext._processing_deals\u001b[0m\u001b[1m took \u001b[31m0.0012512\u001b[0m\u001b[1m secs\u001b[0m\n",
      "\u001b[32m2024-07-10 17:02:05.874\u001b[0m [ \u001b[31m\u001b[1m❌\u001b[0m ] \u001b[31m\u001b[1mThis event loop is already running\u001b[0m\n",
      "\u001b[32m2024-07-10 17:02:05.861\u001b[0m [ \u001b[1mℹ️\u001b[0m ] \u001b[1m\t\u001b[37mCachedMarketDataHolder.update_by_bar\u001b[0m\u001b[1m took \u001b[31m0.0000215\u001b[0m\u001b[1m secs\u001b[0m\n",
      "\u001b[32m2024-07-10 17:02:05.861\u001b[0m [ \u001b[1mℹ️\u001b[0m ] \u001b[1m\t\u001b[37mStrategyContext._processing_bar\u001b[0m\u001b[1m took \u001b[31m0.0000314\u001b[0m\u001b[1m secs\u001b[0m\n",
      "\u001b[32m2024-07-10 17:02:05.861\u001b[0m [ \u001b[1mℹ️\u001b[0m ] \u001b[1m\t\u001b[37mStrategyContext.handler\u001b[0m\u001b[1m took \u001b[31m0.0000024\u001b[0m\u001b[1m secs\u001b[0m\n",
      "\u001b[32m2024-07-10 17:02:05.861\u001b[0m [ \u001b[1mℹ️\u001b[0m ] \u001b[1m\t\u001b[37mStrategyContext._process_incoming_data\u001b[0m\u001b[1m took \u001b[31m1.4704930\u001b[0m\u001b[1m secs\u001b[0m\n",
      "\u001b[32m2024-07-10 17:02:05.861\u001b[0m [ \u001b[1mℹ️\u001b[0m ] \u001b[1m\t\u001b[37mloggers.notify\u001b[0m\u001b[1m took \u001b[31m0.0000035\u001b[0m\u001b[1m secs\u001b[0m\n",
      "\u001b[32m2024-07-10 17:02:05.861\u001b[0m [ \u001b[1mℹ️\u001b[0m ] \u001b[1m\t\u001b[37mstrategy.on_fit\u001b[0m\u001b[1m took \u001b[31m0.0012412\u001b[0m\u001b[1m secs\u001b[0m\n",
      "\u001b[32m2024-07-10 17:02:05.873\u001b[0m [ \u001b[1mℹ️\u001b[0m ] \u001b[1m\t\u001b[37mstrategy.on_event\u001b[0m\u001b[1m took \u001b[31m0.0013669\u001b[0m\u001b[1m secs\u001b[0m\n",
      "\u001b[32m2024-07-10 17:02:05.873\u001b[0m [ \u001b[1mℹ️\u001b[0m ] \u001b[1m\t\u001b[37mStrategyContext.trade\u001b[0m\u001b[1m took \u001b[31m0.0025071\u001b[0m\u001b[1m secs\u001b[0m\n",
      "\u001b[32m2024-07-10 17:02:05.873\u001b[0m [ \u001b[1mℹ️\u001b[0m ] \u001b[1m\t\u001b[37mStrategyContext._processing_order\u001b[0m\u001b[1m took \u001b[31m0.0008409\u001b[0m\u001b[1m secs\u001b[0m\n",
      "\u001b[32m2024-07-10 17:02:05.874\u001b[0m [ \u001b[1mℹ️\u001b[0m ] \u001b[1m\t\u001b[37mStrategyContext._processing_deals\u001b[0m\u001b[1m took \u001b[31m0.0012512\u001b[0m\u001b[1m secs\u001b[0m\n",
      "\u001b[32m2024-07-10 17:02:05.874\u001b[0m [ \u001b[31m\u001b[1m❌\u001b[0m ] \u001b[31m\u001b[1mThis event loop is already running\u001b[0m\n"
     ]
    }
   ],
   "source": [
    "ctx.stop()\n",
    "data.close()"
   ]
  },
  {
   "cell_type": "markdown",
   "metadata": {},
   "source": [
    "# Simulated data provider"
   ]
  },
  {
   "cell_type": "code",
   "execution_count": null,
   "metadata": {},
   "outputs": [],
   "source": [
    "r = CsvStorageDataReader('../tests/data/csv')"
   ]
  },
  {
   "cell_type": "code",
   "execution_count": 9,
   "metadata": {},
   "outputs": [],
   "source": [
    "instr = lookup.find_symbol(\"BINANCE.UM\", \"BTCUSDT\")\n",
    "stream = r.read('BTCUSDT_ohlcv_M1', transform=RestoreTicksFromOHLC(trades=False, spread=instr.min_tick))"
   ]
  }
 ],
 "metadata": {
  "kernelspec": {
   "display_name": ".venv",
   "language": "python",
   "name": "python3"
  },
  "language_info": {
   "codemirror_mode": {
    "name": "ipython",
    "version": 3
   },
   "file_extension": ".py",
   "mimetype": "text/x-python",
   "name": "python",
   "nbconvert_exporter": "python",
   "pygments_lexer": "ipython3",
   "version": "3.11.8"
  }
 },
 "nbformat": 4,
 "nbformat_minor": 2
}
