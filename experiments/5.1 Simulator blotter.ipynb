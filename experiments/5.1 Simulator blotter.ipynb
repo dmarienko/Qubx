{
 "cells": [
  {
   "cell_type": "code",
   "execution_count": null,
   "metadata": {},
   "outputs": [
    {
     "name": "stdout",
     "output_type": "stream",
     "text": [
      " >  [\u001b[32mdev\u001b[0m] \u001b[31minstalling cython rebuilding hook\u001b[0m\n",
      "\n",
      "⠀⠀⡰⡖⠒⠒⢒⢦⠀⠀   \n",
      "⠀⢠⠃⠈⢆⣀⣎⣀⣱⡀  \u001b[31mQUBX\u001b[0m | \u001b[36mQuantitative Backtesting Environment\u001b[0m \n",
      "⠀⢳⠒⠒⡞⠚⡄⠀⡰⠁         (c) 2024, ver. \u001b[35mDev\u001b[0m\n",
      "⠀⠀⠱⣜⣀⣀⣈⣦⠃⠀⠀⠀ \n",
      "        \n",
      "\u001b[32m2024-07-10 16:48:39.149\u001b[0m [ \u001b[1mℹ️\u001b[0m ] \u001b[1mNTP offset controller thread is started\u001b[0m\n"
     ]
    },
    {
     "name": "stdout",
     "output_type": "stream",
     "text": [
      "\u001b[32m2024-07-11 00:41:40.731\u001b[0m [ \u001b[33m\u001b[1m⚠️\u001b[0m ] \u001b[36mqubx.utils.ntp\u001b[0m:\u001b[36m__correct_offset\u001b[0m:\u001b[36m29\u001b[0m - \u001b[33m\u001b[1mtime.windows.com NTP server request exception Traceback (most recent call last):\n",
      "  File \"c:\\Users\\dmitr\\devs\\Qubx\\experiments\\../src\\qubx\\utils\\ntp.py\", line 25, in __correct_offset\n",
      "    response = ntp_client.request(ntp_url)\n",
      "               ^^^^^^^^^^^^^^^^^^^^^^^^^^^\n",
      "  File \"c:\\Users\\dmitr\\devs\\Qubx\\.venv\\Lib\\site-packages\\ntplib.py\", line 296, in request\n",
      "    addrinfo = socket.getaddrinfo(host, port)[0]\n",
      "               ^^^^^^^^^^^^^^^^^^^^^^^^^^^^^^\n",
      "  File \"C:\\Users\\dmitr\\AppData\\Local\\Programs\\Python\\Python311\\Lib\\socket.py\", line 962, in getaddrinfo\n",
      "    for res in _socket.getaddrinfo(host, port, family, type, proto, flags):\n",
      "               ^^^^^^^^^^^^^^^^^^^^^^^^^^^^^^^^^^^^^^^^^^^^^^^^^^^^^^^^^^^\n",
      "socket.gaierror: [Errno 11001] getaddrinfo failed\n",
      ":\u001b[0m\n",
      "\u001b[32m2024-07-11 00:41:40.820\u001b[0m [ \u001b[33m\u001b[1m⚠️\u001b[0m ] \u001b[36mqubx.utils.ntp\u001b[0m:\u001b[36m__correct_offset\u001b[0m:\u001b[36m29\u001b[0m - \u001b[33m\u001b[1mpool.ntp.org NTP server request exception Traceback (most recent call last):\n",
      "  File \"c:\\Users\\dmitr\\devs\\Qubx\\experiments\\../src\\qubx\\utils\\ntp.py\", line 25, in __correct_offset\n",
      "    response = ntp_client.request(ntp_url)\n",
      "               ^^^^^^^^^^^^^^^^^^^^^^^^^^^\n",
      "  File \"c:\\Users\\dmitr\\devs\\Qubx\\.venv\\Lib\\site-packages\\ntplib.py\", line 296, in request\n",
      "    addrinfo = socket.getaddrinfo(host, port)[0]\n",
      "               ^^^^^^^^^^^^^^^^^^^^^^^^^^^^^^\n",
      "  File \"C:\\Users\\dmitr\\AppData\\Local\\Programs\\Python\\Python311\\Lib\\socket.py\", line 962, in getaddrinfo\n",
      "    for res in _socket.getaddrinfo(host, port, family, type, proto, flags):\n",
      "               ^^^^^^^^^^^^^^^^^^^^^^^^^^^^^^^^^^^^^^^^^^^^^^^^^^^^^^^^^^^\n",
      "socket.gaierror: [Errno 11001] getaddrinfo failed\n",
      ":\u001b[0m\n",
      "\u001b[32m2024-07-11 00:41:40.837\u001b[0m [ \u001b[33m\u001b[1m⚠️\u001b[0m ] \u001b[36mqubx.utils.ntp\u001b[0m:\u001b[36m__correct_offset\u001b[0m:\u001b[36m29\u001b[0m - \u001b[33m\u001b[1meurope.pool.ntp.org NTP server request exception Traceback (most recent call last):\n",
      "  File \"c:\\Users\\dmitr\\devs\\Qubx\\experiments\\../src\\qubx\\utils\\ntp.py\", line 25, in __correct_offset\n",
      "    response = ntp_client.request(ntp_url)\n",
      "               ^^^^^^^^^^^^^^^^^^^^^^^^^^^\n",
      "  File \"c:\\Users\\dmitr\\devs\\Qubx\\.venv\\Lib\\site-packages\\ntplib.py\", line 296, in request\n",
      "    addrinfo = socket.getaddrinfo(host, port)[0]\n",
      "               ^^^^^^^^^^^^^^^^^^^^^^^^^^^^^^\n",
      "  File \"C:\\Users\\dmitr\\AppData\\Local\\Programs\\Python\\Python311\\Lib\\socket.py\", line 962, in getaddrinfo\n",
      "    for res in _socket.getaddrinfo(host, port, family, type, proto, flags):\n",
      "               ^^^^^^^^^^^^^^^^^^^^^^^^^^^^^^^^^^^^^^^^^^^^^^^^^^^^^^^^^^^\n",
      "socket.gaierror: [Errno 11001] getaddrinfo failed\n",
      ":\u001b[0m\n",
      "\u001b[32m2024-07-11 00:41:40.844\u001b[0m [ \u001b[33m\u001b[1m⚠️\u001b[0m ] \u001b[36mqubx.utils.ntp\u001b[0m:\u001b[36m__correct_offset\u001b[0m:\u001b[36m29\u001b[0m - \u001b[33m\u001b[1mtime.google.com NTP server request exception Traceback (most recent call last):\n",
      "  File \"c:\\Users\\dmitr\\devs\\Qubx\\experiments\\../src\\qubx\\utils\\ntp.py\", line 25, in __correct_offset\n",
      "    response = ntp_client.request(ntp_url)\n",
      "               ^^^^^^^^^^^^^^^^^^^^^^^^^^^\n",
      "  File \"c:\\Users\\dmitr\\devs\\Qubx\\.venv\\Lib\\site-packages\\ntplib.py\", line 296, in request\n",
      "    addrinfo = socket.getaddrinfo(host, port)[0]\n",
      "               ^^^^^^^^^^^^^^^^^^^^^^^^^^^^^^\n",
      "  File \"C:\\Users\\dmitr\\AppData\\Local\\Programs\\Python\\Python311\\Lib\\socket.py\", line 962, in getaddrinfo\n",
      "    for res in _socket.getaddrinfo(host, port, family, type, proto, flags):\n",
      "               ^^^^^^^^^^^^^^^^^^^^^^^^^^^^^^^^^^^^^^^^^^^^^^^^^^^^^^^^^^^\n",
      "socket.gaierror: [Errno 11001] getaddrinfo failed\n",
      ":\u001b[0m\n",
      "\u001b[32m2024-07-11 00:41:40.844\u001b[0m [ \u001b[31m\u001b[1m❌\u001b[0m ] \u001b[31m\u001b[1mUnable to get ntp offset from neither of NTP servers list %s\u001b[0m\n",
      "\u001b[32m2024-07-11 04:31:44.379\u001b[0m [ \u001b[33m\u001b[1m⚠️\u001b[0m ] \u001b[36mqubx.utils.ntp\u001b[0m:\u001b[36m__correct_offset\u001b[0m:\u001b[36m29\u001b[0m - \u001b[33m\u001b[1mtime.windows.com NTP server request exception Traceback (most recent call last):\n",
      "  File \"c:\\Users\\dmitr\\devs\\Qubx\\experiments\\../src\\qubx\\utils\\ntp.py\", line 25, in __correct_offset\n",
      "    response = ntp_client.request(ntp_url)\n",
      "               ^^^^^^^^^^^^^^^^^^^^^^^^^^^\n",
      "  File \"c:\\Users\\dmitr\\devs\\Qubx\\.venv\\Lib\\site-packages\\ntplib.py\", line 296, in request\n",
      "    addrinfo = socket.getaddrinfo(host, port)[0]\n",
      "               ^^^^^^^^^^^^^^^^^^^^^^^^^^^^^^\n",
      "  File \"C:\\Users\\dmitr\\AppData\\Local\\Programs\\Python\\Python311\\Lib\\socket.py\", line 962, in getaddrinfo\n",
      "    for res in _socket.getaddrinfo(host, port, family, type, proto, flags):\n",
      "               ^^^^^^^^^^^^^^^^^^^^^^^^^^^^^^^^^^^^^^^^^^^^^^^^^^^^^^^^^^^\n",
      "socket.gaierror: [Errno 11001] getaddrinfo failed\n",
      ":\u001b[0m\n",
      "\u001b[32m2024-07-11 04:31:44.383\u001b[0m [ \u001b[33m\u001b[1m⚠️\u001b[0m ] \u001b[36mqubx.utils.ntp\u001b[0m:\u001b[36m__correct_offset\u001b[0m:\u001b[36m29\u001b[0m - \u001b[33m\u001b[1mpool.ntp.org NTP server request exception Traceback (most recent call last):\n",
      "  File \"c:\\Users\\dmitr\\devs\\Qubx\\experiments\\../src\\qubx\\utils\\ntp.py\", line 25, in __correct_offset\n",
      "    response = ntp_client.request(ntp_url)\n",
      "               ^^^^^^^^^^^^^^^^^^^^^^^^^^^\n",
      "  File \"c:\\Users\\dmitr\\devs\\Qubx\\.venv\\Lib\\site-packages\\ntplib.py\", line 296, in request\n",
      "    addrinfo = socket.getaddrinfo(host, port)[0]\n",
      "               ^^^^^^^^^^^^^^^^^^^^^^^^^^^^^^\n",
      "  File \"C:\\Users\\dmitr\\AppData\\Local\\Programs\\Python\\Python311\\Lib\\socket.py\", line 962, in getaddrinfo\n",
      "    for res in _socket.getaddrinfo(host, port, family, type, proto, flags):\n",
      "               ^^^^^^^^^^^^^^^^^^^^^^^^^^^^^^^^^^^^^^^^^^^^^^^^^^^^^^^^^^^\n",
      "socket.gaierror: [Errno 11001] getaddrinfo failed\n",
      ":\u001b[0m\n",
      "\u001b[32m2024-07-11 04:31:44.396\u001b[0m [ \u001b[33m\u001b[1m⚠️\u001b[0m ] \u001b[36mqubx.utils.ntp\u001b[0m:\u001b[36m__correct_offset\u001b[0m:\u001b[36m29\u001b[0m - \u001b[33m\u001b[1meurope.pool.ntp.org NTP server request exception Traceback (most recent call last):\n",
      "  File \"c:\\Users\\dmitr\\devs\\Qubx\\experiments\\../src\\qubx\\utils\\ntp.py\", line 25, in __correct_offset\n",
      "    response = ntp_client.request(ntp_url)\n",
      "               ^^^^^^^^^^^^^^^^^^^^^^^^^^^\n",
      "  File \"c:\\Users\\dmitr\\devs\\Qubx\\.venv\\Lib\\site-packages\\ntplib.py\", line 296, in request\n",
      "    addrinfo = socket.getaddrinfo(host, port)[0]\n",
      "               ^^^^^^^^^^^^^^^^^^^^^^^^^^^^^^\n",
      "  File \"C:\\Users\\dmitr\\AppData\\Local\\Programs\\Python\\Python311\\Lib\\socket.py\", line 962, in getaddrinfo\n",
      "    for res in _socket.getaddrinfo(host, port, family, type, proto, flags):\n",
      "               ^^^^^^^^^^^^^^^^^^^^^^^^^^^^^^^^^^^^^^^^^^^^^^^^^^^^^^^^^^^\n",
      "socket.gaierror: [Errno 11001] getaddrinfo failed\n",
      ":\u001b[0m\n",
      "\u001b[32m2024-07-11 04:31:44.400\u001b[0m [ \u001b[33m\u001b[1m⚠️\u001b[0m ] \u001b[36mqubx.utils.ntp\u001b[0m:\u001b[36m__correct_offset\u001b[0m:\u001b[36m29\u001b[0m - \u001b[33m\u001b[1mtime.google.com NTP server request exception Traceback (most recent call last):\n",
      "  File \"c:\\Users\\dmitr\\devs\\Qubx\\experiments\\../src\\qubx\\utils\\ntp.py\", line 25, in __correct_offset\n",
      "    response = ntp_client.request(ntp_url)\n",
      "               ^^^^^^^^^^^^^^^^^^^^^^^^^^^\n",
      "  File \"c:\\Users\\dmitr\\devs\\Qubx\\.venv\\Lib\\site-packages\\ntplib.py\", line 296, in request\n",
      "    addrinfo = socket.getaddrinfo(host, port)[0]\n",
      "               ^^^^^^^^^^^^^^^^^^^^^^^^^^^^^^\n",
      "  File \"C:\\Users\\dmitr\\AppData\\Local\\Programs\\Python\\Python311\\Lib\\socket.py\", line 962, in getaddrinfo\n",
      "    for res in _socket.getaddrinfo(host, port, family, type, proto, flags):\n",
      "               ^^^^^^^^^^^^^^^^^^^^^^^^^^^^^^^^^^^^^^^^^^^^^^^^^^^^^^^^^^^\n",
      "socket.gaierror: [Errno 11001] getaddrinfo failed\n",
      ":\u001b[0m\n",
      "\u001b[32m2024-07-11 04:31:44.401\u001b[0m [ \u001b[31m\u001b[1m❌\u001b[0m ] \u001b[31m\u001b[1mUnable to get ntp offset from neither of NTP servers list %s\u001b[0m\n",
      "\u001b[32m2024-07-11 08:47:37.469\u001b[0m [ \u001b[33m\u001b[1m⚠️\u001b[0m ] \u001b[36mqubx.utils.ntp\u001b[0m:\u001b[36m__correct_offset\u001b[0m:\u001b[36m29\u001b[0m - \u001b[33m\u001b[1mtime.windows.com NTP server request exception Traceback (most recent call last):\n",
      "  File \"c:\\Users\\dmitr\\devs\\Qubx\\experiments\\../src\\qubx\\utils\\ntp.py\", line 25, in __correct_offset\n",
      "    response = ntp_client.request(ntp_url)\n",
      "               ^^^^^^^^^^^^^^^^^^^^^^^^^^^\n",
      "  File \"c:\\Users\\dmitr\\devs\\Qubx\\.venv\\Lib\\site-packages\\ntplib.py\", line 296, in request\n",
      "    addrinfo = socket.getaddrinfo(host, port)[0]\n",
      "               ^^^^^^^^^^^^^^^^^^^^^^^^^^^^^^\n",
      "  File \"C:\\Users\\dmitr\\AppData\\Local\\Programs\\Python\\Python311\\Lib\\socket.py\", line 962, in getaddrinfo\n",
      "    for res in _socket.getaddrinfo(host, port, family, type, proto, flags):\n",
      "               ^^^^^^^^^^^^^^^^^^^^^^^^^^^^^^^^^^^^^^^^^^^^^^^^^^^^^^^^^^^\n",
      "socket.gaierror: [Errno 11001] getaddrinfo failed\n",
      ":\u001b[0m\n",
      "\u001b[32m2024-07-11 08:47:37.470\u001b[0m [ \u001b[33m\u001b[1m⚠️\u001b[0m ] \u001b[36mqubx.utils.ntp\u001b[0m:\u001b[36m__correct_offset\u001b[0m:\u001b[36m29\u001b[0m - \u001b[33m\u001b[1mpool.ntp.org NTP server request exception Traceback (most recent call last):\n",
      "  File \"c:\\Users\\dmitr\\devs\\Qubx\\experiments\\../src\\qubx\\utils\\ntp.py\", line 25, in __correct_offset\n",
      "    response = ntp_client.request(ntp_url)\n",
      "               ^^^^^^^^^^^^^^^^^^^^^^^^^^^\n",
      "  File \"c:\\Users\\dmitr\\devs\\Qubx\\.venv\\Lib\\site-packages\\ntplib.py\", line 296, in request\n",
      "    addrinfo = socket.getaddrinfo(host, port)[0]\n",
      "               ^^^^^^^^^^^^^^^^^^^^^^^^^^^^^^\n",
      "  File \"C:\\Users\\dmitr\\AppData\\Local\\Programs\\Python\\Python311\\Lib\\socket.py\", line 962, in getaddrinfo\n",
      "    for res in _socket.getaddrinfo(host, port, family, type, proto, flags):\n",
      "               ^^^^^^^^^^^^^^^^^^^^^^^^^^^^^^^^^^^^^^^^^^^^^^^^^^^^^^^^^^^\n",
      "socket.gaierror: [Errno 11001] getaddrinfo failed\n",
      ":\u001b[0m\n",
      "\u001b[32m2024-07-11 08:47:37.479\u001b[0m [ \u001b[33m\u001b[1m⚠️\u001b[0m ] \u001b[36mqubx.utils.ntp\u001b[0m:\u001b[36m__correct_offset\u001b[0m:\u001b[36m29\u001b[0m - \u001b[33m\u001b[1meurope.pool.ntp.org NTP server request exception Traceback (most recent call last):\n",
      "  File \"c:\\Users\\dmitr\\devs\\Qubx\\experiments\\../src\\qubx\\utils\\ntp.py\", line 25, in __correct_offset\n",
      "    response = ntp_client.request(ntp_url)\n",
      "               ^^^^^^^^^^^^^^^^^^^^^^^^^^^\n",
      "  File \"c:\\Users\\dmitr\\devs\\Qubx\\.venv\\Lib\\site-packages\\ntplib.py\", line 296, in request\n",
      "    addrinfo = socket.getaddrinfo(host, port)[0]\n",
      "               ^^^^^^^^^^^^^^^^^^^^^^^^^^^^^^\n",
      "  File \"C:\\Users\\dmitr\\AppData\\Local\\Programs\\Python\\Python311\\Lib\\socket.py\", line 962, in getaddrinfo\n",
      "    for res in _socket.getaddrinfo(host, port, family, type, proto, flags):\n",
      "               ^^^^^^^^^^^^^^^^^^^^^^^^^^^^^^^^^^^^^^^^^^^^^^^^^^^^^^^^^^^\n",
      "socket.gaierror: [Errno 11001] getaddrinfo failed\n",
      ":\u001b[0m\n",
      "\u001b[32m2024-07-11 08:47:37.484\u001b[0m [ \u001b[33m\u001b[1m⚠️\u001b[0m ] \u001b[36mqubx.utils.ntp\u001b[0m:\u001b[36m__correct_offset\u001b[0m:\u001b[36m29\u001b[0m - \u001b[33m\u001b[1mtime.google.com NTP server request exception Traceback (most recent call last):\n",
      "  File \"c:\\Users\\dmitr\\devs\\Qubx\\experiments\\../src\\qubx\\utils\\ntp.py\", line 25, in __correct_offset\n",
      "    response = ntp_client.request(ntp_url)\n",
      "               ^^^^^^^^^^^^^^^^^^^^^^^^^^^\n",
      "  File \"c:\\Users\\dmitr\\devs\\Qubx\\.venv\\Lib\\site-packages\\ntplib.py\", line 296, in request\n",
      "    addrinfo = socket.getaddrinfo(host, port)[0]\n",
      "               ^^^^^^^^^^^^^^^^^^^^^^^^^^^^^^\n",
      "  File \"C:\\Users\\dmitr\\AppData\\Local\\Programs\\Python\\Python311\\Lib\\socket.py\", line 962, in getaddrinfo\n",
      "    for res in _socket.getaddrinfo(host, port, family, type, proto, flags):\n",
      "               ^^^^^^^^^^^^^^^^^^^^^^^^^^^^^^^^^^^^^^^^^^^^^^^^^^^^^^^^^^^\n",
      "socket.gaierror: [Errno 11001] getaddrinfo failed\n",
      ":\u001b[0m\n",
      "\u001b[32m2024-07-11 08:47:37.484\u001b[0m [ \u001b[31m\u001b[1m❌\u001b[0m ] \u001b[31m\u001b[1mUnable to get ntp offset from neither of NTP servers list %s\u001b[0m\n"
     ]
    }
   ],
   "source": [
    "import sys, os, re; sys.path = ([\"../src/\", \"../\"] if re.match(r'^(\\w\\:\\\\)|(/)', os.getcwd()) else [])+ sys.path \n",
    "\n",
    "from typing import Any, Optional, List\n",
    "\n",
    "import qubx\n",
    "%qubxd dev \n",
    "\n",
    "%load_ext autoreload\n",
    "%autoreload 2\n",
    "\n",
    "from qubx import lookup, logger\n",
    "from qubx.core.strategy import IStrategy, StrategyContext, TriggerEvent\n",
    "from qubx.pandaz.utils import *\n",
    "\n",
    "# - - - - - - - - - - - - - - - - - - - - - - - -\n",
    "from qubx.trackers import PortfolioRebalancerTracker\n",
    "from qubx.core.series import Quote\n",
    "from qubx.data.readers import CsvStorageDataReader, AsTimestampedRecords, AsQuotes, RestoreTicksFromOHLC\n",
    "from qubx.core.basics import Deal, Instrument, Order, Position, Signal\n",
    "from qubx.core.utils import recognize_time\n",
    "\n",
    "from qubx.impl.ccxt_connector import CCXTDataConnector\n",
    "from qubx.impl.ccxt_trading import CCXTSyncTradingConnector\n",
    "from qubx.utils.runner import get_account_config\n",
    "\n",
    "def Q(time: str, bid: float, ask: float) -> Quote:\n",
    "    return Quote(recognize_time(time), bid, ask, 0, 0)"
   ]
  },
  {
   "cell_type": "markdown",
   "metadata": {},
   "source": [
    "# Simulated broker and paper trading"
   ]
  },
  {
   "cell_type": "code",
   "execution_count": 45,
   "metadata": {},
   "outputs": [],
   "source": [
    "from qubx.backtester.simulator import SimulatedExchangeService"
   ]
  },
  {
   "cell_type": "code",
   "execution_count": 46,
   "metadata": {},
   "outputs": [],
   "source": [
    "class TestStrategy(IStrategy):\n",
    "    capital_invested: int = 1000\n",
    "\n",
    "    def on_start(self, ctx: StrategyContext):\n",
    "        logger.info(f\"Strategy started | {ctx.time()}\")\n",
    "\n",
    "    def on_fit(self, ctx: 'StrategyContext', fit_time: str | pd.Timestamp, previous_fit_time: str | pd.Timestamp | None = None):\n",
    "        logger.info(f\"> Fit is called | fit_time: {fit_time} / prev: {previous_fit_time}\")\n",
    "\n",
    "    def on_event(self, ctx: StrategyContext, event: TriggerEvent) -> List[Signal] | None:\n",
    "        logger.info(f\"{event.time} -> {event}\")\n",
    "        return None\n",
    "\n",
    "    def ohlcs(self, timeframe:str) -> Dict[str, pd.DataFrame]:\n",
    "        return {s.symbol: self.ctx.ohlc(s, timeframe).pd() for s in self.ctx.instruments}\n",
    "\n",
    "    def on_stop(self, ctx: StrategyContext):\n",
    "        logger.info(f\"> test is stopped\")\n",
    "\n",
    "    def tracker(self, ctx: StrategyContext) -> PortfolioRebalancerTracker:\n",
    "        return PortfolioRebalancerTracker(ctx, 1000, 0)"
   ]
  },
  {
   "cell_type": "code",
   "execution_count": 47,
   "metadata": {},
   "outputs": [
    {
     "name": "stdout",
     "output_type": "stream",
     "text": [
      "\u001b[32m2024-07-11 08:54:13.247\u001b[0m [ \u001b[1mℹ️\u001b[0m ] \u001b[1mbinance initialized - current time 1970-01-01T00:00:00.000000000\u001b[0m\n",
      "\u001b[32m2024-07-11 08:54:13.248\u001b[0m [ \u001b[33m\u001b[1m⚠️\u001b[0m ] \u001b[36mqubx.core.loggers\u001b[0m:\u001b[36m__init__\u001b[0m:\u001b[36m324\u001b[0m - \u001b[33m\u001b[1mLog writer is not defined - strategy activity will not be saved !\u001b[0m\n",
      "\u001b[32m2024-07-11 08:54:13.248\u001b[0m [ \u001b[1mℹ️\u001b[0m ] \u001b[1m(StrategyContext) set strategy parameters:\n",
      "\tset \u001b[32mcapital_invested\u001b[0m\u001b[1m <- \u001b[31m100\u001b[0m\u001b[1m\u001b[0m\n",
      "\u001b[32m2024-07-11 08:54:13.250\u001b[0m [ \u001b[34m\u001b[1m🐞\u001b[0m ] \u001b[34m\u001b[1mTriggering strategy on every 1Min bar after 55S\u001b[0m\n",
      "\u001b[32m2024-07-11 08:54:13.248\u001b[0m [ \u001b[33m\u001b[1m⚠️\u001b[0m ] \u001b[36mqubx.core.loggers\u001b[0m:\u001b[36m__init__\u001b[0m:\u001b[36m324\u001b[0m - \u001b[33m\u001b[1mLog writer is not defined - strategy activity will not be saved !\u001b[0m\n",
      "\u001b[32m2024-07-11 08:54:13.248\u001b[0m [ \u001b[1mℹ️\u001b[0m ] \u001b[1m(StrategyContext) set strategy parameters:\n",
      "\tset \u001b[32mcapital_invested\u001b[0m\u001b[1m <- \u001b[31m100\u001b[0m\u001b[1m\u001b[0m\n",
      "\u001b[32m2024-07-11 08:54:13.250\u001b[0m [ \u001b[34m\u001b[1m🐞\u001b[0m ] \u001b[34m\u001b[1mTriggering strategy on every 1Min bar after 55S\u001b[0m\n"
     ]
    }
   ],
   "source": [
    "auth = get_account_config('binance-qbx', './configs/.env')\n",
    "\n",
    "sbroker = SimulatedExchangeService('binance', 10000, 'vip0_usdt', 'USDT')\n",
    "data = CCXTDataConnector('binance', sbroker, **auth)\n",
    "\n",
    "instruments = [lookup.find_symbol('BINANCE', 'BTCUSDT')]\n",
    "ctx = StrategyContext(\n",
    "    TestStrategy(), dict(\n",
    "        capital_invested=100,\n",
    "        trading_allowed=False\n",
    "    ), \n",
    "    data, sbroker, instruments=instruments,  # type: ignore\n",
    "    md_subscription=dict(type='ohlc', timeframe='1Min', nback=0),\n",
    "    trigger_spec='1Min -5Sec',\n",
    ")\n",
    "S = ctx.strategy"
   ]
  },
  {
   "cell_type": "code",
   "execution_count": null,
   "metadata": {},
   "outputs": [
    {
     "name": "stdout",
     "output_type": "stream",
     "text": [
      "\u001b[32m2024-07-11 08:54:15.108\u001b[0m [ \u001b[1mℹ️\u001b[0m ] \u001b[1m(StrategyContext) Subscribing to ohlc updates using {'timeframe': '1Min', 'nback': 0} for \n",
      "\t['BTCUSDT'] \u001b[0m\n",
      "\u001b[32m2024-07-11 08:54:15.108\u001b[0m [ \u001b[1mℹ️\u001b[0m ] \u001b[1mSubscribed on ohlc updates for 1 symbols: \n",
      "\t\t['BTCUSDT']\u001b[0m\n",
      "\u001b[32m2024-07-11 08:54:15.108\u001b[0m [ \u001b[1mℹ️\u001b[0m ] \u001b[1mStrategy started | 1970-01-01T00:00:00.000000000\u001b[0m\n",
      "\u001b[32m2024-07-11 08:54:15.119\u001b[0m [ \u001b[1mℹ️\u001b[0m ] \u001b[1m(StrategyContext) Start processing market data\u001b[0m\n",
      "\u001b[32m2024-07-11 08:54:15.121\u001b[0m [ \u001b[1mℹ️\u001b[0m ] \u001b[1m(StrategyContext) strategy is started\u001b[0m\n"
     ]
    },
    {
     "name": "stdout",
     "output_type": "stream",
     "text": [
      "\u001b[32m2024-07-11 08:54:22.158\u001b[0m [ \u001b[34m\u001b[1m🐞\u001b[0m ] \u001b[34m\u001b[1m[2024-07-11T05:54:22.480339456]: Invoking TestStrategy on_fit('1970-01-01 00:00:00', 'None')\u001b[0m\n",
      "\u001b[32m2024-07-11 08:54:22.158\u001b[0m [ \u001b[1mℹ️\u001b[0m ] \u001b[1m> Fit is called | fit_time: 1970-01-01 00:00:00 / prev: None\u001b[0m\n",
      "\u001b[32m2024-07-11 08:54:22.158\u001b[0m [ \u001b[34m\u001b[1m🐞\u001b[0m ] \u001b[34m\u001b[1m[2024-07-11T05:54:22.480339456]: TestStrategy is fitted\u001b[0m\n",
      "\u001b[32m2024-07-11 08:54:28.388\u001b[0m [ \u001b[34m\u001b[1m🐞\u001b[0m ] \u001b[34m\u001b[1m[SIM-ORDER-BTCUSDT-100001 / TestStrategy_BTCUSDT_1] : MARKET BUY 0.1 of BTCUSDT  -> [CLOSED]\u001b[0m\n",
      "\u001b[32m2024-07-11 08:54:28.388\u001b[0m [ \u001b[34m\u001b[1m🐞\u001b[0m ] \u001b[34m\u001b[1mExecuted 0.1 @ 57976.994999999995 of BTCUSDT for order SIM-ORDER-BTCUSDT-100001\u001b[0m\n",
      "\u001b[32m2024-07-11 08:54:55.475\u001b[0m [ \u001b[1mℹ️\u001b[0m ] \u001b[1m2024-07-11T05:54:55.794197248 -> TriggerEvent(time=numpy.datetime64('2024-07-11T05:54:55.794197248'), type='bar', instrument=Instrument(symbol='BTCUSDT', market_type='CRYPTO', exchange='BINANCE', base='BTC', quote='USDT', margin_symbol=None, min_tick=0.01, min_size_step=1e-05, min_size=1e-05, futures_info=None, _aux_instrument=None), data={o:57990.000000 | h:58002.000000 | l:57976.980000 | c:57994.550000 | v:324055.155273})\u001b[0m\n",
      "\u001b[32m2024-07-11 08:55:12.110\u001b[0m [ \u001b[34m\u001b[1m🐞\u001b[0m ] \u001b[34m\u001b[1m[SIM-ORDER-BTCUSDT-100002 / TestStrategy_BTCUSDT_2] : MARKET BUY 0.1 of BTCUSDT  -> [CLOSED]\u001b[0m\n",
      "\u001b[32m2024-07-11 08:55:12.110\u001b[0m [ \u001b[34m\u001b[1m🐞\u001b[0m ] \u001b[34m\u001b[1mExecuted 0.1 @ 57986.005 of BTCUSDT for order SIM-ORDER-BTCUSDT-100002\u001b[0m\n",
      "\u001b[32m2024-07-11 08:55:24.302\u001b[0m [ \u001b[34m\u001b[1m🐞\u001b[0m ] \u001b[34m\u001b[1m[SIM-ORDER-BTCUSDT-100003 / TestStrategy_BTCUSDT_3] : MARKET SELL 0.1 of BTCUSDT  -> [CLOSED]\u001b[0m\n",
      "\u001b[32m2024-07-11 08:55:24.314\u001b[0m [ \u001b[34m\u001b[1m🐞\u001b[0m ] \u001b[34m\u001b[1mExecuted -0.1 @ 57978.015 of BTCUSDT for order SIM-ORDER-BTCUSDT-100003\u001b[0m\n",
      "\u001b[32m2024-07-11 08:55:28.806\u001b[0m [ \u001b[34m\u001b[1m🐞\u001b[0m ] \u001b[34m\u001b[1m[SIM-ORDER-BTCUSDT-100004 / TestStrategy_BTCUSDT_4] : MARKET SELL 0.1 of BTCUSDT  -> [CLOSED]\u001b[0m\n",
      "\u001b[32m2024-07-11 08:55:28.806\u001b[0m [ \u001b[34m\u001b[1m🐞\u001b[0m ] \u001b[34m\u001b[1mExecuted -0.1 @ 57978.015 of BTCUSDT for order SIM-ORDER-BTCUSDT-100004\u001b[0m\n",
      "\u001b[32m2024-07-11 08:55:43.981\u001b[0m [ \u001b[34m\u001b[1m🐞\u001b[0m ] \u001b[34m\u001b[1m[SIM-ORDER-BTCUSDT-100005 / TestStrategy_BTCUSDT_5] : LIMIT BUY 0.1 of BTCUSDT  @ 45000 -> [OPEN]\u001b[0m\n",
      "\u001b[32m2024-07-11 08:55:55.322\u001b[0m [ \u001b[1mℹ️\u001b[0m ] \u001b[1m2024-07-11T05:55:55.631799808 -> TriggerEvent(time=numpy.datetime64('2024-07-11T05:55:55.631799808'), type='bar', instrument=Instrument(symbol='BTCUSDT', market_type='CRYPTO', exchange='BINANCE', base='BTC', quote='USDT', margin_symbol=None, min_tick=0.01, min_size_step=1e-05, min_size=1e-05, futures_info=None, _aux_instrument=None), data={o:57986.000000 | h:58013.220000 | l:57974.000000 | c:58013.210000 | v:333989.625875})\u001b[0m\n",
      "\u001b[32m2024-07-11 08:56:31.013\u001b[0m [ \u001b[34m\u001b[1m🐞\u001b[0m ] \u001b[34m\u001b[1m[SIM-ORDER-BTCUSDT-100005 / TestStrategy_BTCUSDT_5] : LIMIT BUY 0.1 of BTCUSDT  @ 45000 -> [CANCELED]\u001b[0m\n",
      "\u001b[32m2024-07-11 08:56:41.982\u001b[0m [ \u001b[1mℹ️\u001b[0m ] \u001b[1m(StrategyContext) Market data processing stopped\u001b[0m\n"
     ]
    }
   ],
   "source": [
    "ctx.start()"
   ]
  },
  {
   "cell_type": "code",
   "execution_count": 137,
   "metadata": {},
   "outputs": [
    {
     "name": "stdout",
     "output_type": "stream",
     "text": [
      "2024-07-11 05:56:34 [BINANCE:BTCUSDT]       0.00000      0.00    -0.6950 | 58009.35        0.00\n",
      "[]\n"
     ]
    }
   ],
   "source": [
    "print(sbroker.get_position(instruments[0]))\n",
    "print(sbroker.get_orders())"
   ]
  },
  {
   "cell_type": "code",
   "execution_count": 101,
   "metadata": {},
   "outputs": [
    {
     "name": "stdout",
     "output_type": "stream",
     "text": [
      "\u001b[32m2024-07-11 08:55:12.110\u001b[0m [ \u001b[1mℹ️\u001b[0m ] \u001b[1m(StrategyContext) sending market buy for 0.1 of BTCUSDT ...\u001b[0m\n",
      "\u001b[32m2024-07-11 08:55:12.110\u001b[0m [ \u001b[34m\u001b[1m🐞\u001b[0m ] \u001b[34m\u001b[1m[OMS] BTCUSDT - SIM-ORDER-BTCUSDT-100002 MARKET BUY 0.1 executed at 57986.005\u001b[0m\n",
      "\u001b[32m2024-07-11 08:55:12.110\u001b[0m [ \u001b[1mℹ️\u001b[0m ] \u001b[1m  ::  traded 0.1 for BTCUSDT @ 57986.005 -> 0.00\u001b[0m\n",
      "\u001b[32m2024-07-11 08:55:12.110\u001b[0m [ \u001b[1mℹ️\u001b[0m ] \u001b[1mOrder SIM-ORDER-BTCUSDT-100002 MARKET BUY 0.1 of BTCUSDT -> CLOSED\u001b[0m\n"
     ]
    },
    {
     "data": {
      "text/plain": [
       "Order(id='SIM-ORDER-BTCUSDT-100002', type='MARKET', symbol='BTCUSDT', time=numpy.datetime64('2024-07-11T05:55:11.701357312'), quantity=0.1, price=0, side='BUY', status='CLOSED', time_in_force='gtc', client_id='TestStrategy_BTCUSDT_2', cost=0.0)"
      ]
     },
     "execution_count": 101,
     "metadata": {},
     "output_type": "execute_result"
    }
   ],
   "source": [
    "ctx.trade('BTCUSDT', 0.1)"
   ]
  },
  {
   "cell_type": "code",
   "execution_count": 122,
   "metadata": {},
   "outputs": [
    {
     "name": "stdout",
     "output_type": "stream",
     "text": [
      "\u001b[32m2024-07-11 08:55:28.803\u001b[0m [ \u001b[1mℹ️\u001b[0m ] \u001b[1m(StrategyContext) sending market sell for 0.1 of BTCUSDT ...\u001b[0m\n",
      "\u001b[32m2024-07-11 08:55:28.804\u001b[0m [ \u001b[34m\u001b[1m🐞\u001b[0m ] \u001b[34m\u001b[1m[OMS] BTCUSDT - SIM-ORDER-BTCUSDT-100004 MARKET SELL 0.1 executed at 57978.015\u001b[0m\n",
      "\u001b[32m2024-07-11 08:55:28.805\u001b[0m [ \u001b[1mℹ️\u001b[0m ] \u001b[1m  ::  traded -0.1 for BTCUSDT @ 57978.015 -> -0.35\u001b[0m\n",
      "\u001b[32m2024-07-11 08:55:28.805\u001b[0m [ \u001b[1mℹ️\u001b[0m ] \u001b[1mOrder SIM-ORDER-BTCUSDT-100004 MARKET SELL 0.1 of BTCUSDT -> CLOSED\u001b[0m\n"
     ]
    },
    {
     "data": {
      "text/plain": [
       "Order(id='SIM-ORDER-BTCUSDT-100004', type='MARKET', symbol='BTCUSDT', time=numpy.datetime64('2024-07-11T05:55:28.608849920'), quantity=0.1, price=0, side='SELL', status='CLOSED', time_in_force='gtc', client_id='TestStrategy_BTCUSDT_4', cost=0.0)"
      ]
     },
     "execution_count": 122,
     "metadata": {},
     "output_type": "execute_result"
    }
   ],
   "source": [
    "ctx.trade('BTCUSDT', -0.1)"
   ]
  },
  {
   "cell_type": "code",
   "execution_count": 124,
   "metadata": {},
   "outputs": [
    {
     "name": "stdout",
     "output_type": "stream",
     "text": [
      "\u001b[32m2024-07-11 08:55:43.969\u001b[0m [ \u001b[1mℹ️\u001b[0m ] \u001b[1m(StrategyContext) sending limit buy for 0.1 of BTCUSDT ...\u001b[0m\n",
      "\u001b[32m2024-07-11 08:55:43.969\u001b[0m [ \u001b[34m\u001b[1m🐞\u001b[0m ] \u001b[34m\u001b[1m[OMS] BTCUSDT - registered SIM-ORDER-BTCUSDT-100005 LIMIT BUY 0.1 45000\u001b[0m\n"
     ]
    },
    {
     "data": {
      "text/plain": [
       "Order(id='SIM-ORDER-BTCUSDT-100005', type='LIMIT', symbol='BTCUSDT', time=numpy.datetime64('2024-07-11T05:55:41.389935104'), quantity=0.1, price=45000, side='BUY', status='OPEN', time_in_force='gtc', client_id='TestStrategy_BTCUSDT_5', cost=0.0)"
      ]
     },
     "execution_count": 124,
     "metadata": {},
     "output_type": "execute_result"
    }
   ],
   "source": [
    "ctx.trade('BTCUSDT', 0.1, 45000)"
   ]
  },
  {
   "cell_type": "code",
   "execution_count": 136,
   "metadata": {},
   "outputs": [
    {
     "name": "stdout",
     "output_type": "stream",
     "text": [
      "\u001b[32m2024-07-11 08:56:31.011\u001b[0m [ \u001b[34m\u001b[1m🐞\u001b[0m ] \u001b[34m\u001b[1m[OMS] BTCUSDT - SIM-ORDER-BTCUSDT-100005 LIMIT BUY 0.1 canceled\u001b[0m\n",
      "\u001b[32m2024-07-11 08:56:31.011\u001b[0m [ \u001b[1mℹ️\u001b[0m ] \u001b[1mOrder SIM-ORDER-BTCUSDT-100005 LIMIT BUY 0.1 of BTCUSDT -> CANCELED\u001b[0m\n",
      "\u001b[32m2024-07-11 08:56:31.011\u001b[0m [ \u001b[1mℹ️\u001b[0m ] \u001b[1mOrder SIM-ORDER-BTCUSDT-100005 LIMIT BUY 0.1 of BTCUSDT -> CANCELED\u001b[0m\n"
     ]
    }
   ],
   "source": [
    "ctx.cancel('BTCUSDT')"
   ]
  },
  {
   "cell_type": "code",
   "execution_count": 138,
   "metadata": {},
   "outputs": [
    {
     "name": "stdout",
     "output_type": "stream",
     "text": [
      "\u001b[32m2024-07-11 08:56:41.983\u001b[0m [ \u001b[1mℹ️\u001b[0m ] \u001b[1m> test is stopped\u001b[0m\n",
      "\u001b[32m2024-07-11 08:56:41.984\u001b[0m [ \u001b[1mℹ️\u001b[0m ] \u001b[1m\t\u001b[37mCachedMarketDataHolder.update_by_bar\u001b[0m\u001b[1m took \u001b[31m0.0000314\u001b[0m\u001b[1m secs\u001b[0m\n",
      "\u001b[32m2024-07-11 08:56:41.984\u001b[0m [ \u001b[1mℹ️\u001b[0m ] \u001b[1m\t\u001b[37mStrategyContext._processing_bar\u001b[0m\u001b[1m took \u001b[31m0.0000478\u001b[0m\u001b[1m secs\u001b[0m\n",
      "\u001b[32m2024-07-11 08:56:41.984\u001b[0m [ \u001b[1mℹ️\u001b[0m ] \u001b[1m\t\u001b[37mStrategyContext.handler\u001b[0m\u001b[1m took \u001b[31m0.0000026\u001b[0m\u001b[1m secs\u001b[0m\n",
      "\u001b[32m2024-07-11 08:56:41.984\u001b[0m [ \u001b[1mℹ️\u001b[0m ] \u001b[1m\t\u001b[37mStrategyContext._process_incoming_data\u001b[0m\u001b[1m took \u001b[31m0.9502193\u001b[0m\u001b[1m secs\u001b[0m\n",
      "\u001b[32m2024-07-11 08:56:41.984\u001b[0m [ \u001b[1mℹ️\u001b[0m ] \u001b[1m\t\u001b[37mloggers.notify\u001b[0m\u001b[1m took \u001b[31m0.0000022\u001b[0m\u001b[1m secs\u001b[0m\n",
      "\u001b[32m2024-07-11 08:56:41.984\u001b[0m [ \u001b[1mℹ️\u001b[0m ] \u001b[1m\t\u001b[37mstrategy.on_fit\u001b[0m\u001b[1m took \u001b[31m0.0018189\u001b[0m\u001b[1m secs\u001b[0m\n",
      "\u001b[32m2024-07-11 08:56:41.984\u001b[0m [ \u001b[1mℹ️\u001b[0m ] \u001b[1m\t\u001b[37mstrategy.on_event\u001b[0m\u001b[1m took \u001b[31m0.0013189\u001b[0m\u001b[1m secs\u001b[0m\n",
      "\u001b[32m2024-07-11 08:56:41.984\u001b[0m [ \u001b[1mℹ️\u001b[0m ] \u001b[1m\t\u001b[37mStrategyContext.trade\u001b[0m\u001b[1m took \u001b[31m0.0014009\u001b[0m\u001b[1m secs\u001b[0m\n",
      "\u001b[32m2024-07-11 08:56:41.984\u001b[0m [ \u001b[1mℹ️\u001b[0m ] \u001b[1m\t\u001b[37mStrategyContext._processing_order\u001b[0m\u001b[1m took \u001b[31m0.0006980\u001b[0m\u001b[1m secs\u001b[0m\n",
      "\u001b[32m2024-07-11 08:56:41.984\u001b[0m [ \u001b[1mℹ️\u001b[0m ] \u001b[1m\t\u001b[37mStrategyContext._processing_deals\u001b[0m\u001b[1m took \u001b[31m0.0005858\u001b[0m\u001b[1m secs\u001b[0m\n",
      "\u001b[32m2024-07-11 08:56:41.984\u001b[0m [ \u001b[1mℹ️\u001b[0m ] \u001b[1m\t\u001b[37mStrategyContext.cancel\u001b[0m\u001b[1m took \u001b[31m0.0014524\u001b[0m\u001b[1m secs\u001b[0m\n",
      "\u001b[32m2024-07-11 08:56:41.984\u001b[0m [ \u001b[31m\u001b[1m❌\u001b[0m ] \u001b[31m\u001b[1mThis event loop is already running\u001b[0m\n"
     ]
    },
    {
     "name": "stderr",
     "output_type": "stream",
     "text": [
      "c:\\Users\\dmitr\\devs\\Qubx\\experiments\\../src\\qubx\\impl\\ccxt_connector.py:285: RuntimeWarning: coroutine 'Exchange.close' was never awaited\n",
      "  logger.error(e)\n",
      "RuntimeWarning: Enable tracemalloc to get the object allocation traceback\n"
     ]
    }
   ],
   "source": [
    "ctx.stop()\n",
    "data.close()"
   ]
  },
  {
   "cell_type": "markdown",
   "metadata": {},
   "source": [
    "# Simulated data provider"
   ]
  },
  {
   "cell_type": "code",
   "execution_count": null,
   "metadata": {},
   "outputs": [],
   "source": [
    "r = CsvStorageDataReader('../tests/data/csv')"
   ]
  },
  {
   "cell_type": "code",
   "execution_count": 9,
   "metadata": {},
   "outputs": [],
   "source": [
    "instr = lookup.find_symbol(\"BINANCE.UM\", \"BTCUSDT\")\n",
    "stream = r.read('BTCUSDT_ohlcv_M1', transform=RestoreTicksFromOHLC(trades=False, spread=instr.min_tick))"
   ]
  }
 ],
 "metadata": {
  "kernelspec": {
   "display_name": ".venv",
   "language": "python",
   "name": "python3"
  },
  "language_info": {
   "codemirror_mode": {
    "name": "ipython",
    "version": 3
   },
   "file_extension": ".py",
   "mimetype": "text/x-python",
   "name": "python",
   "nbconvert_exporter": "python",
   "pygments_lexer": "ipython3",
   "version": "3.11.8"
  }
 },
 "nbformat": 4,
 "nbformat_minor": 2
}
