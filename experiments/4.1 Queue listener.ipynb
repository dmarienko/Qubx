{
 "cells": [
  {
   "cell_type": "code",
   "execution_count": 1,
   "metadata": {},
   "outputs": [
    {
     "name": "stdout",
     "output_type": "stream",
     "text": [
      " >  [\u001b[32mdev\u001b[0m] \u001b[31minstalled cython rebuilding hook\u001b[0m\n"
     ]
    }
   ],
   "source": [
    "import multiprocessing as mp\n",
    "from multiprocessing import Queue\n",
    "from threading import Thread\n",
    "import pyring as pr\n",
    "\n",
    "%load_ext autoreload\n",
    "%autoreload 2\n",
    "\n",
    "from qubx import logger\n",
    "from qubx.core.basics import Trade\n",
    "from qubx.utils import Stopwatch"
   ]
  },
  {
   "cell_type": "markdown",
   "metadata": {},
   "source": [
    "# Test throughput"
   ]
  },
  {
   "cell_type": "code",
   "execution_count": 6,
   "metadata": {},
   "outputs": [],
   "source": [
    "sw = Stopwatch()"
   ]
  },
  {
   "cell_type": "code",
   "execution_count": 41,
   "metadata": {},
   "outputs": [],
   "source": [
    "class DataPumper:\n",
    "    queue: Queue\n",
    "    def __init__(self):\n",
    "        self.queue = Queue()\n",
    "\n",
    "    def pump(self, n):\n",
    "        sw.start('pump_batch')\n",
    "        for i in range(n):\n",
    "            self.queue.put(Trade(100, i + 0.1, i * 100))\n",
    "        sw.stop('pump_batch')\n",
    "\n",
    "class DataReader:\n",
    "    def __init__(self, pumper: DataPumper):\n",
    "        self.queue = pumper.queue\n",
    "        self._run = True\n",
    "\n",
    "    def read(self):\n",
    "        while self._run:\n",
    "            data = self.queue.get()"
   ]
  },
  {
   "cell_type": "code",
   "execution_count": 31,
   "metadata": {},
   "outputs": [],
   "source": [
    "sw.start('test')"
   ]
  },
  {
   "cell_type": "code",
   "execution_count": 32,
   "metadata": {},
   "outputs": [
    {
     "data": {
      "text/plain": [
       "2393813600"
      ]
     },
     "execution_count": 32,
     "metadata": {},
     "output_type": "execute_result"
    }
   ],
   "source": [
    "sw.stop('test')"
   ]
  },
  {
   "cell_type": "code",
   "execution_count": 36,
   "metadata": {},
   "outputs": [
    {
     "name": "stdout",
     "output_type": "stream",
     "text": [
      "\u001b[32m2024-03-17 16:41:36.256\u001b[0m [ \u001b[1mℹ️\u001b[0m ] \u001b[1mTests\n",
      "\t\u001b[37m1l\u001b[0m\u001b[1m took \u001b[31m7.4938141\u001b[0m\u001b[1m secs\n",
      "\t\u001b[37mtest\u001b[0m\u001b[1m took \u001b[31m2.2381514\u001b[0m\u001b[1m secs\u001b[0m\n"
     ]
    }
   ],
   "source": [
    "logger.info('Tests' + str(sw))"
   ]
  },
  {
   "cell_type": "code",
   "execution_count": 44,
   "metadata": {},
   "outputs": [
    {
     "name": "stdout",
     "output_type": "stream",
     "text": [
      "\u001b[32m2024-03-17 16:38:36.110\u001b[0m [ \u001b[1mℹ️\u001b[0m ] \u001b[1m\t\u001b[37mtest\u001b[0m\u001b[1m took \u001b[31m0.0001913\u001b[0m\u001b[1m secs\u001b[0m\n"
     ]
    }
   ],
   "source": [
    "\n",
    "for l in sw.latencies.keys():\n",
    "    logger.info(f\"\\t<w>{l}</w> took <r>{sw.latency_sec(l):.7f}</r> secs\")"
   ]
  },
  {
   "cell_type": "code",
   "execution_count": null,
   "metadata": {},
   "outputs": [],
   "source": [
    "Thread"
   ]
  },
  {
   "cell_type": "code",
   "execution_count": 34,
   "metadata": {},
   "outputs": [],
   "source": [
    "dp = DataPumper()"
   ]
  },
  {
   "cell_type": "code",
   "execution_count": 38,
   "metadata": {},
   "outputs": [],
   "source": [
    "dp.pump(10)"
   ]
  },
  {
   "cell_type": "code",
   "execution_count": 32,
   "metadata": {},
   "outputs": [
    {
     "data": {
      "text/plain": [
       "[1970-01-01T00:00:00.000000100]\t0.00000 (0.0) <???>"
      ]
     },
     "execution_count": 32,
     "metadata": {},
     "output_type": "execute_result"
    }
   ],
   "source": [
    "Trade(100, 0, 0)"
   ]
  },
  {
   "cell_type": "markdown",
   "metadata": {},
   "source": [
    "# Test pyring\n"
   ]
  },
  {
   "cell_type": "code",
   "execution_count": 10,
   "metadata": {},
   "outputs": [
    {
     "name": "stdout",
     "output_type": "stream",
     "text": [
      "0 Something new!\n"
     ]
    }
   ],
   "source": [
    "# create ring buffer\n",
    "ring_buffer = pr.RingBuffer()\n",
    "\n",
    "# add to ring\n",
    "ring_buffer.put(\"Something new!\")\n",
    "\n",
    "# get latest from ring\n",
    "sequence, value = ring_buffer.get_latest()\n",
    "print(sequence, value) # 0 Something new!"
   ]
  },
  {
   "cell_type": "code",
   "execution_count": null,
   "metadata": {},
   "outputs": [],
   "source": [
    "ring_buffer.get_latest()"
   ]
  },
  {
   "cell_type": "code",
   "execution_count": 25,
   "metadata": {},
   "outputs": [],
   "source": [
    "ring_buffer.flush()"
   ]
  },
  {
   "cell_type": "code",
   "execution_count": null,
   "metadata": {},
   "outputs": [],
   "source": []
  }
 ],
 "metadata": {
  "kernelspec": {
   "display_name": "p311qbx",
   "language": "python",
   "name": "python3"
  },
  "language_info": {
   "codemirror_mode": {
    "name": "ipython",
    "version": 3
   },
   "file_extension": ".py",
   "mimetype": "text/x-python",
   "name": "python",
   "nbconvert_exporter": "python",
   "pygments_lexer": "ipython3",
   "version": "3.11.8"
  }
 },
 "nbformat": 4,
 "nbformat_minor": 2
}
