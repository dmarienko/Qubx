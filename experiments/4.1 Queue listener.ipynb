{
 "cells": [
  {
   "cell_type": "code",
   "execution_count": 1,
   "metadata": {},
   "outputs": [
    {
     "name": "stdout",
     "output_type": "stream",
     "text": [
      " >  [\u001b[32mdev\u001b[0m] \u001b[31minstalled cython rebuilding hook\u001b[0m\n"
     ]
    }
   ],
   "source": [
    "from typing import Callable, Any, List\n",
    "import multiprocessing as mp\n",
    "from multiprocessing import Queue as MQueue\n",
    "from queue import Queue\n",
    "from threading import Thread\n",
    "import pyring as pr\n",
    "\n",
    "%load_ext autoreload\n",
    "%autoreload 2\n",
    "\n",
    "from qubx import logger\n",
    "from qubx.core.basics import Trade\n",
    "from qubx.utils import Stopwatch"
   ]
  },
  {
   "cell_type": "markdown",
   "metadata": {},
   "source": [
    "# Test throughput"
   ]
  },
  {
   "cell_type": "code",
   "execution_count": 11,
   "metadata": {},
   "outputs": [],
   "source": [
    "sw = Stopwatch()\n",
    "\n",
    "def run_in_thread(method: Callable, arguments: List[Any]=list()) -> Thread:\n",
    "    t = Thread(target=method, args=arguments)\n",
    "    t.start()\n",
    "    return t\n",
    "\n",
    "class DataPumper:\n",
    "    queue: Queue\n",
    "    def __init__(self, type='q', ring_size=10000):\n",
    "        self.type = type\n",
    "        if type == 'q':\n",
    "            self.queue = Queue()\n",
    "        else:\n",
    "            self.queue = pr.SingleProducerDisruptor(ring_size)\n",
    "\n",
    "    def pump(self, n):\n",
    "        sw.start(f'{self.type.upper()}:pump_batch')\n",
    "        self.queue.put('S')\n",
    "        for i in range(n):\n",
    "            self.queue.put(Trade(100, i + 0.1, i * 100))\n",
    "        self.queue.put('F')\n",
    "        sw.stop(f'{self.type.upper()}:pump_batch')\n",
    "\n",
    "class DataReader:\n",
    "    def __init__(self, pumper: DataPumper):\n",
    "        self.queue = pumper.queue\n",
    "        self.type = pumper.type\n",
    "        self._run = True\n",
    "\n",
    "    def _read_queue(self):\n",
    "        print(\"START reading queue\")\n",
    "        while self._run:\n",
    "            data = self.queue.get()\n",
    "            if isinstance(data, str):\n",
    "                if data == 'S':\n",
    "                    sw.start('Q:read_batch')\n",
    "                    print(\"batch reading started ...\")\n",
    "                elif data == 'F':\n",
    "                    sw.stop('Q:read_batch')\n",
    "                    print(\"batch finished\")\n",
    "\n",
    "    def _read_disr(self):\n",
    "        print(\"START reading disruptor\")\n",
    "        sbscr = self.queue.subscribe()\n",
    "        while self._run:\n",
    "            idx, data = sbscr.next()\n",
    "            if isinstance(data, str):\n",
    "                if data == 'S':\n",
    "                    sw.start('D:read_batch')\n",
    "                    print(\"batch reading started ...\")\n",
    "                elif data == 'F':\n",
    "                    sw.stop('D:read_batch')\n",
    "                    print(\"batch finished\")\n",
    "        sbscr.unregister()\n",
    "\n",
    "    def read(self):\n",
    "        if self.type=='q':\n",
    "            self._read_queue()\n",
    "        else:\n",
    "            self._read_disr()\n",
    "\n",
    "    def run(self):\n",
    "        return run_in_thread(self.read)\n",
    "\n",
    "    def stop(self):\n",
    "        self._run = False\n",
    "        self.queue.put(None)"
   ]
  },
  {
   "cell_type": "code",
   "execution_count": 12,
   "metadata": {},
   "outputs": [
    {
     "name": "stdout",
     "output_type": "stream",
     "text": [
      "START reading disruptor\n",
      "batch reading started ...\n",
      "batch finished\n",
      "batch reading started ...\n",
      "batch finished\n",
      "batch reading started ...\n"
     ]
    }
   ],
   "source": [
    "# PyRing\n",
    "dp = DataPumper('d')\n",
    "rd = DataReader(dp)\n",
    "rd.run()\n",
    "dp.pump(1_000_000)\n",
    "dp.pump(1_000_000)\n",
    "dp.pump(1_000_000)\n",
    "rd.stop()\n",
    "# dp.pump(1)"
   ]
  },
  {
   "cell_type": "code",
   "execution_count": 13,
   "metadata": {},
   "outputs": [
    {
     "name": "stdout",
     "output_type": "stream",
     "text": [
      "START reading queue\n",
      "batch reading started ...\n",
      "batch finished\n",
      "batch reading started ...\n",
      "batch finished\n",
      "batch reading started ...\n"
     ]
    }
   ],
   "source": [
    "# Standard Queue\n",
    "dp = DataPumper('q')\n",
    "rd = DataReader(dp)\n",
    "rd.run()\n",
    "dp.pump(1_000_000)\n",
    "dp.pump(1_000_000)\n",
    "dp.pump(1_000_000)\n",
    "rd.stop()"
   ]
  },
  {
   "cell_type": "code",
   "execution_count": 14,
   "metadata": {},
   "outputs": [
    {
     "name": "stdout",
     "output_type": "stream",
     "text": [
      "\u001b[32m2024-03-18 10:53:58.319\u001b[0m [ \u001b[1mℹ️\u001b[0m ] \u001b[1mTests\n",
      "\t\u001b[37mD:pump_batch\u001b[0m\u001b[1m took \u001b[31m2.0618683\u001b[0m\u001b[1m secs\n",
      "\t\u001b[37mD:read_batch\u001b[0m\u001b[1m took \u001b[31m2.0830948\u001b[0m\u001b[1m secs\n",
      "\t\u001b[37mQ:pump_batch\u001b[0m\u001b[1m took \u001b[31m4.1221722\u001b[0m\u001b[1m secs\n",
      "\t\u001b[37mQ:read_batch\u001b[0m\u001b[1m took \u001b[31m4.3047418\u001b[0m\u001b[1m secs\u001b[0m\n"
     ]
    }
   ],
   "source": [
    "logger.info('Tests' + str(sw))"
   ]
  },
  {
   "cell_type": "code",
   "execution_count": 7,
   "metadata": {},
   "outputs": [],
   "source": [
    "sw.reset()"
   ]
  },
  {
   "cell_type": "markdown",
   "metadata": {},
   "source": [
    "# Test pyring\n"
   ]
  },
  {
   "cell_type": "code",
   "execution_count": null,
   "metadata": {},
   "outputs": [],
   "source": [
    "disruptor = pr.SingleProducerDisruptor()\n",
    "\n",
    "subscriber = disruptor.subscribe()\n",
    "# subscriber_two = disruptor.subscribe()\n",
    "\n",
    "for i in range(100):\n",
    "    disruptor.put(i ** 2)\n",
    "    sequence_one, res_one = subscriber.next()\n",
    "    # sequence_two, res_two = subscriber_two.next()\n",
    "\n",
    "# releases the subscribers barriers and allows disruptor to continue\n",
    "subscriber.unregister()\n",
    "# subscriber_two.unregister()"
   ]
  },
  {
   "cell_type": "code",
   "execution_count": 10,
   "metadata": {},
   "outputs": [
    {
     "name": "stdout",
     "output_type": "stream",
     "text": [
      "0 Something new!\n"
     ]
    }
   ],
   "source": [
    "# create ring buffer\n",
    "ring_buffer = pr.RingBuffer()\n",
    "\n",
    "# add to ring\n",
    "ring_buffer.put(\"Something new!\")\n",
    "\n",
    "# get latest from ring\n",
    "sequence, value = ring_buffer.get_latest()\n",
    "print(sequence, value) # 0 Something new!"
   ]
  }
 ],
 "metadata": {
  "kernelspec": {
   "display_name": "p311qbx",
   "language": "python",
   "name": "python3"
  },
  "language_info": {
   "codemirror_mode": {
    "name": "ipython",
    "version": 3
   },
   "file_extension": ".py",
   "mimetype": "text/x-python",
   "name": "python",
   "nbconvert_exporter": "python",
   "pygments_lexer": "ipython3",
   "version": "3.11.8"
  }
 },
 "nbformat": 4,
 "nbformat_minor": 2
}
