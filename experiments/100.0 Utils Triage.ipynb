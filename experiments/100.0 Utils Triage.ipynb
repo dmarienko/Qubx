{
 "cells": [
  {
   "cell_type": "code",
   "execution_count": 1,
   "metadata": {},
   "outputs": [
    {
     "name": "stdout",
     "output_type": "stream",
     "text": [
      " >  [\u001b[32mdev\u001b[0m] \u001b[31minstalled cython rebuilding hook\u001b[0m\n"
     ]
    },
    {
     "name": "stderr",
     "output_type": "stream",
     "text": [
      "\u001b[32m2024-02-08 13:42:42.230\u001b[0m | \u001b[1mINFO    \u001b[0m | \u001b[36mqube.core.lookups\u001b[0m:\u001b[36m_update_binance\u001b[0m:\u001b[36m127\u001b[0m - \u001b[1mLoaded 276 for binance.um\u001b[0m\n",
      "\u001b[32m2024-02-08 13:42:42.294\u001b[0m | \u001b[1mINFO    \u001b[0m | \u001b[36mqube.core.lookups\u001b[0m:\u001b[36m_update_binance\u001b[0m:\u001b[36m127\u001b[0m - \u001b[1mLoaded 62 for binance.cm\u001b[0m\n",
      "\u001b[32m2024-02-08 13:42:42.310\u001b[0m | \u001b[1mINFO    \u001b[0m | \u001b[36mqube.core.lookups\u001b[0m:\u001b[36m_update_binance\u001b[0m:\u001b[36m127\u001b[0m - \u001b[1mLoaded 2473 for binance\u001b[0m\n",
      "\u001b[32m2024-02-08 13:42:42.440\u001b[0m | \u001b[1mINFO    \u001b[0m | \u001b[36mqube.core.lookups\u001b[0m:\u001b[36m_update_dukas\u001b[0m:\u001b[36m91\u001b[0m - \u001b[1mUpdates 7 for DUKASCOPY\u001b[0m\n"
     ]
    },
    {
     "name": "stdout",
     "output_type": "stream",
     "text": [
      "\n",
      "                   \u001b[31m╻\u001b[0m\n",
      "   \u001b[32m┏┓      ╻     \u001b[0m  \u001b[31m┃\u001b[0m  \u001b[33m┏┓\u001b[0m       \u001b[36mQuantitative Backtesting Environment\u001b[0m \n",
      "   \u001b[32m┃┃  ┓┏  ┣┓  ┏┓\u001b[0m  \u001b[31m┃\u001b[0m  \u001b[33m┏┛\u001b[0m       \n",
      "   \u001b[32m┗┻  ┗┻  ┗┛  ┗ \u001b[0m  \u001b[31m┃\u001b[0m  \u001b[33m┗━\u001b[0m       (c) 2024,  ver. \u001b[35mDev\u001b[0m\n",
      "                   \u001b[31m╹\u001b[0m       \n",
      "\n"
     ]
    }
   ],
   "source": [
    "import sys, os, re; sys.path = ([\"../src/\", \"../\"] if re.match(r'^(\\w\\:\\\\)|(/)', os.getcwd()) else [])+ sys.path \n",
    "\n",
    "import qube\n",
    "%qubed\n",
    "\n",
    "%load_ext autoreload\n",
    "%autoreload 2\n",
    "from qube import lookup\n",
    "from qube.core.basics import Instrument, FuturesInfo\n",
    "from qube.utils.marketdata.binance import get_binance_symbol_info_for_type\n",
    "from qube.utils.pandas import scols"
   ]
  },
  {
   "cell_type": "markdown",
   "metadata": {},
   "source": [
    "# mstruct -> Struct"
   ]
  },
  {
   "cell_type": "code",
   "execution_count": 14,
   "metadata": {},
   "outputs": [],
   "source": [
    "from qube.utils import Struct"
   ]
  },
  {
   "cell_type": "code",
   "execution_count": 15,
   "metadata": {},
   "outputs": [
    {
     "data": {
      "text/plain": [
       "Struct(x=1, b=Struct(x=1), c=555)"
      ]
     },
     "execution_count": 15,
     "metadata": {},
     "output_type": "execute_result"
    }
   ],
   "source": [
    "y = Struct(Struct(x=1), b=Struct(x=1), c = 555)\n",
    "y"
   ]
  },
  {
   "cell_type": "code",
   "execution_count": 16,
   "metadata": {},
   "outputs": [
    {
     "data": {
      "text/plain": [
       "Struct(x=1, b=Struct(x=1), c=555, a1=2)"
      ]
     },
     "execution_count": 16,
     "metadata": {},
     "output_type": "execute_result"
    }
   ],
   "source": [
    "y | {'a1': 2}"
   ]
  },
  {
   "cell_type": "code",
   "execution_count": 37,
   "metadata": {},
   "outputs": [],
   "source": [
    "y.ast = 1"
   ]
  },
  {
   "cell_type": "code",
   "execution_count": 111,
   "metadata": {},
   "outputs": [
    {
     "data": {
      "text/plain": [
       "{'s': 1}"
      ]
     },
     "execution_count": 111,
     "metadata": {},
     "output_type": "execute_result"
    }
   ],
   "source": [
    "dict(s=1)"
   ]
  },
  {
   "cell_type": "code",
   "execution_count": 38,
   "metadata": {},
   "outputs": [
    {
     "data": {
      "text/plain": [
       "Struct(a=2, b=Struct(x=1), ast=1)"
      ]
     },
     "execution_count": 38,
     "metadata": {},
     "output_type": "execute_result"
    }
   ],
   "source": [
    "y"
   ]
  },
  {
   "cell_type": "markdown",
   "metadata": {},
   "source": [
    "# Market info and symbols"
   ]
  },
  {
   "cell_type": "code",
   "execution_count": 36,
   "metadata": {},
   "outputs": [],
   "source": [
    "s0 = lookup['BINANCE:ETH.*']\n",
    "s1 = lookup['DUKAS:EURGBP']"
   ]
  },
  {
   "cell_type": "code",
   "execution_count": null,
   "metadata": {},
   "outputs": [],
   "source": [
    "(\n",
    "    lookup.find_aux_instrument_for(s0[0], 'USDT'), \n",
    "    lookup.find_aux_instrument_for(s0[1], 'USDT'), \n",
    "    lookup.find_aux_instrument_for(s1[0], 'USD'),\n",
    ")"
   ]
  }
 ],
 "metadata": {
  "kernelspec": {
   "display_name": "py39",
   "language": "python",
   "name": "python3"
  },
  "language_info": {
   "codemirror_mode": {
    "name": "ipython",
    "version": 3
   },
   "file_extension": ".py",
   "mimetype": "text/x-python",
   "name": "python",
   "nbconvert_exporter": "python",
   "pygments_lexer": "ipython3",
   "version": "3.9.13"
  }
 },
 "nbformat": 4,
 "nbformat_minor": 2
}
