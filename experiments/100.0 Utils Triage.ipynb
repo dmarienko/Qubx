{
 "cells": [
  {
   "cell_type": "code",
   "execution_count": 1,
   "metadata": {},
   "outputs": [
    {
     "name": "stdout",
     "output_type": "stream",
     "text": [
      " >  [\u001b[32mdev\u001b[0m] \u001b[31minstalled cython rebuilding hook\u001b[0m\n",
      "\n",
      "                   \u001b[31m╻\u001b[0m\n",
      "   \u001b[32m┏┓      ╻     \u001b[0m  \u001b[31m┃\u001b[0m  \u001b[33m┏┓\u001b[0m       \u001b[36mQuantitative Backtesting Environment\u001b[0m \n",
      "   \u001b[32m┃┃  ┓┏  ┣┓  ┏┓\u001b[0m  \u001b[31m┃\u001b[0m  \u001b[33m┏┛\u001b[0m       \n",
      "   \u001b[32m┗┻  ┗┻  ┗┛  ┗ \u001b[0m  \u001b[31m┃\u001b[0m  \u001b[33m┗━\u001b[0m       (c) 2024,  ver. \u001b[35mDev\u001b[0m\n",
      "                   \u001b[31m╹\u001b[0m       \n",
      "\n"
     ]
    }
   ],
   "source": [
    "import sys, os, re; sys.path = ([\"../src/\", \"../\"] if re.match(r'^(\\w\\:\\\\)|(/)', os.getcwd()) else [])+ sys.path \n",
    "\n",
    "import qubx\n",
    "%qubxd\n",
    "\n",
    "%load_ext autoreload\n",
    "%autoreload 2\n",
    "from qubx import lookup\n",
    "from qubx.core.basics import Instrument, FuturesInfo\n",
    "from qubx.utils.marketdata.binance import get_binance_symbol_info_for_type\n",
    "from qubx.utils.pandas import scols"
   ]
  },
  {
   "cell_type": "markdown",
   "metadata": {},
   "source": [
    "# mstruct -> Struct"
   ]
  },
  {
   "cell_type": "code",
   "execution_count": 2,
   "metadata": {},
   "outputs": [],
   "source": [
    "from qubx.utils import Struct"
   ]
  },
  {
   "cell_type": "code",
   "execution_count": 3,
   "metadata": {},
   "outputs": [
    {
     "data": {
      "text/plain": [
       "Struct(x=1, b=Struct(x=1), c=555)"
      ]
     },
     "execution_count": 3,
     "metadata": {},
     "output_type": "execute_result"
    }
   ],
   "source": [
    "y = Struct(Struct(x=1), b=Struct(x=1), c = 555)\n",
    "y"
   ]
  },
  {
   "cell_type": "code",
   "execution_count": 4,
   "metadata": {},
   "outputs": [
    {
     "data": {
      "text/plain": [
       "Struct(x=1, b=Struct(x=1), c=555, a1=2)"
      ]
     },
     "execution_count": 4,
     "metadata": {},
     "output_type": "execute_result"
    }
   ],
   "source": [
    "y | {'a1': 2}"
   ]
  },
  {
   "cell_type": "code",
   "execution_count": 5,
   "metadata": {},
   "outputs": [],
   "source": [
    "y.ast = 1"
   ]
  },
  {
   "cell_type": "code",
   "execution_count": 6,
   "metadata": {},
   "outputs": [
    {
     "data": {
      "text/plain": [
       "{'s': 1}"
      ]
     },
     "execution_count": 6,
     "metadata": {},
     "output_type": "execute_result"
    }
   ],
   "source": [
    "dict(s=1)"
   ]
  },
  {
   "cell_type": "code",
   "execution_count": 7,
   "metadata": {},
   "outputs": [
    {
     "data": {
      "text/plain": [
       "Struct(x=1, b=Struct(x=1), c=555, a1=2, ast=1)"
      ]
     },
     "execution_count": 7,
     "metadata": {},
     "output_type": "execute_result"
    }
   ],
   "source": [
    "y"
   ]
  },
  {
   "cell_type": "markdown",
   "metadata": {},
   "source": [
    "# Market info and symbols"
   ]
  },
  {
   "cell_type": "code",
   "execution_count": 8,
   "metadata": {},
   "outputs": [],
   "source": [
    "s0 = lookup['BINANCE:ETH.*']\n",
    "s1 = lookup['DUKAS:EURGBP']"
   ]
  },
  {
   "cell_type": "code",
   "execution_count": 9,
   "metadata": {},
   "outputs": [
    {
     "data": {
      "text/plain": [
       "(Instrument(symbol='BTCUSDT', market_type='CRYPTO', exchange='BINANCE', base='BTC', quote='USDT', margin_symbol=None, min_tick=0.01, min_size_step=1e-05, min_size=1e-05, futures_info=None, _aux_instrument=None),\n",
       " None,\n",
       " Instrument(symbol='GBPUSD', market_type='FX', exchange='DUKAS', base='GBP', quote='USD', margin_symbol='USD', min_tick=1e-05, min_size_step=1, min_size=1000, futures_info=None, _aux_instrument=None))"
      ]
     },
     "execution_count": 9,
     "metadata": {},
     "output_type": "execute_result"
    },
    {
     "ename": "",
     "evalue": "",
     "output_type": "error",
     "traceback": [
      "\u001b[1;31mThe Kernel crashed while executing code in the current cell or a previous cell. \n",
      "\u001b[1;31mPlease review the code in the cell(s) to identify a possible cause of the failure. \n",
      "\u001b[1;31mClick <a href='https://aka.ms/vscodeJupyterKernelCrash'>here</a> for more info. \n",
      "\u001b[1;31mView Jupyter <a href='command:jupyter.viewOutput'>log</a> for further details."
     ]
    }
   ],
   "source": [
    "(\n",
    "    lookup.find_aux_instrument_for(s0[0], 'USDT'), \n",
    "    lookup.find_aux_instrument_for(s0[1], 'USDT'), \n",
    "    lookup.find_aux_instrument_for(s1[0], 'USD'),\n",
    ")"
   ]
  },
  {
   "cell_type": "markdown",
   "metadata": {},
   "source": [
    "# Fees"
   ]
  },
  {
   "cell_type": "code",
   "execution_count": 6,
   "metadata": {},
   "outputs": [
    {
     "data": {
      "text/plain": [
       "[('bitmex_tierb_xbt', (0.02, 0.075))]"
      ]
     },
     "execution_count": 6,
     "metadata": {},
     "output_type": "execute_result"
    }
   ],
   "source": [
    "lookup.fees['bitmex_tierb_xbt']"
   ]
  },
  {
   "cell_type": "code",
   "execution_count": 7,
   "metadata": {},
   "outputs": [
    {
     "data": {
      "text/plain": [
       "<binance_um_vip0_usdt: 0.0200 / 0.0500>"
      ]
     },
     "execution_count": 7,
     "metadata": {},
     "output_type": "execute_result"
    }
   ],
   "source": [
    "lookup.find_fees('binance', 'um_vip0_usdt')"
   ]
  },
  {
   "cell_type": "code",
   "execution_count": 17,
   "metadata": {},
   "outputs": [
    {
     "data": {
      "text/plain": [
       "name:\t\t\t(maker, taker)\n",
       "binance_spot_vip0_usdt   : (0.1, 0.1)\n",
       "binance_spot_vip1_usdt   : (0.09, 0.1)\n",
       "binance_spot_vip2_usdt   : (0.08, 0.1)\n",
       "binance_spot_vip3_usdt   : (0.042, 0.06)\n",
       "binance_spot_vip4_usdt   : (0.042, 0.054)\n",
       "binance_spot_vip5_usdt   : (0.036, 0.048)\n",
       "binance_spot_vip6_usdt   : (0.03, 0.042)\n",
       "binance_spot_vip7_usdt   : (0.024, 0.036)\n",
       "binance_spot_vip8_usdt   : (0.018, 0.03)\n",
       "binance_spot_vip9_usdt   : (0.012, 0.024)\n",
       "binance_um_vip0_usdt     : (0.02, 0.05)\n",
       "binance_um_vip1_usdt     : (0.016, 0.04)\n",
       "binance_um_vip2_usdt     : (0.014, 0.035)\n",
       "binance_um_vip3_usdt     : (0.012, 0.032)\n",
       "binance_um_vip4_usdt     : (0.01, 0.03)\n",
       "binance_um_vip5_usdt     : (0.008, 0.027)\n",
       "binance_um_vip6_usdt     : (0.006, 0.025)\n",
       "binance_um_vip7_usdt     : (0.004, 0.022)\n",
       "binance_um_vip8_usdt     : (0.002, 0.02)\n",
       "binance_um_vip9_usdt     : (0.0, 0.017)\n",
       "bitmex_tierb_xbt         : (0.02, 0.075)\n",
       "bitmex_tierb_usdt        : (-0.015, 0.075)\n",
       "bitmex_tieri_xbt         : (0.01, 0.05)\n",
       "bitmex_tieri_usdt        : (-0.015, 0.05)\n",
       "bitmex_tiert_xbt         : (0.0, 0.04)\n",
       "bitmex_tiert_usdt        : (-0.015, 0.04)\n",
       "bitmex_tierm_xbt         : (0.0, 0.035)\n",
       "bitmex_tierm_usdt        : (-0.015, 0.035)\n",
       "bitmex_tiere_xbt         : (0.0, 0.03)\n",
       "bitmex_tiere_usdt        : (-0.015, 0.03)\n",
       "bitmex_tierx_xbt         : (0.0, 0.025)\n",
       "bitmex_tierx_usdt        : (-0.015, 0.025)\n",
       "bitmex_tierd_xbt         : (-0.003, 0.024)\n",
       "bitmex_tierd_usdt        : (-0.015, 0.024)\n",
       "bitmex_tierw_xbt         : (-0.005, 0.023)\n",
       "bitmex_tierw_usdt        : (-0.015, 0.023)\n",
       "bitmex_tierk_xbt         : (-0.008, 0.022)\n",
       "bitmex_tierk_usdt        : (-0.015, 0.022)\n",
       "bitmex_tiers_xbt         : (-0.01, 0.0175)\n",
       "bitmex_tiers_usdt        : (-0.015, 0.02)\n",
       "dukas_regular            : (0.0035, 0.0035)\n",
       "dukas_premium            : (0.0017, 0.0017)"
      ]
     },
     "execution_count": 17,
     "metadata": {},
     "output_type": "execute_result"
    }
   ],
   "source": [
    "lookup.fees"
   ]
  }
 ],
 "metadata": {
  "kernelspec": {
   "display_name": "py39",
   "language": "python",
   "name": "python3"
  },
  "language_info": {
   "codemirror_mode": {
    "name": "ipython",
    "version": 3
   },
   "file_extension": ".py",
   "mimetype": "text/x-python",
   "name": "python",
   "nbconvert_exporter": "python",
   "pygments_lexer": "ipython3",
   "version": "3.11.8"
  }
 },
 "nbformat": 4,
 "nbformat_minor": 2
}
