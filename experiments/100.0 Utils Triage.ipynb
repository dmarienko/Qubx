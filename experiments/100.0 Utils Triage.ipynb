{
 "cells": [
  {
   "cell_type": "code",
   "execution_count": 1,
   "metadata": {},
   "outputs": [
    {
     "name": "stdout",
     "output_type": "stream",
     "text": [
      " >  [\u001b[32mdev\u001b[0m] \u001b[31minstalled cython rebuilding hook\u001b[0m\n"
     ]
    },
    {
     "name": "stderr",
     "output_type": "stream",
     "text": [
      "\u001b[32m2024-02-08 13:42:42.230\u001b[0m | \u001b[1mINFO    \u001b[0m | \u001b[36mqube.core.lookups\u001b[0m:\u001b[36m_update_binance\u001b[0m:\u001b[36m127\u001b[0m - \u001b[1mLoaded 276 for binance.um\u001b[0m\n",
      "\u001b[32m2024-02-08 13:42:42.294\u001b[0m | \u001b[1mINFO    \u001b[0m | \u001b[36mqube.core.lookups\u001b[0m:\u001b[36m_update_binance\u001b[0m:\u001b[36m127\u001b[0m - \u001b[1mLoaded 62 for binance.cm\u001b[0m\n",
      "\u001b[32m2024-02-08 13:42:42.310\u001b[0m | \u001b[1mINFO    \u001b[0m | \u001b[36mqube.core.lookups\u001b[0m:\u001b[36m_update_binance\u001b[0m:\u001b[36m127\u001b[0m - \u001b[1mLoaded 2473 for binance\u001b[0m\n",
      "\u001b[32m2024-02-08 13:42:42.440\u001b[0m | \u001b[1mINFO    \u001b[0m | \u001b[36mqube.core.lookups\u001b[0m:\u001b[36m_update_dukas\u001b[0m:\u001b[36m91\u001b[0m - \u001b[1mUpdates 7 for DUKASCOPY\u001b[0m\n"
     ]
    },
    {
     "name": "stdout",
     "output_type": "stream",
     "text": [
      "\n",
      "                   \u001b[31m╻\u001b[0m\n",
      "   \u001b[32m┏┓      ╻     \u001b[0m  \u001b[31m┃\u001b[0m  \u001b[33m┏┓\u001b[0m       \u001b[36mQuantitative Backtesting Environment\u001b[0m \n",
      "   \u001b[32m┃┃  ┓┏  ┣┓  ┏┓\u001b[0m  \u001b[31m┃\u001b[0m  \u001b[33m┏┛\u001b[0m       \n",
      "   \u001b[32m┗┻  ┗┻  ┗┛  ┗ \u001b[0m  \u001b[31m┃\u001b[0m  \u001b[33m┗━\u001b[0m       (c) 2024,  ver. \u001b[35mDev\u001b[0m\n",
      "                   \u001b[31m╹\u001b[0m       \n",
      "\n"
     ]
    }
   ],
   "source": [
    "import sys, os, re; sys.path = ([\"../src/\", \"../\"] if re.match(r'^(\\w\\:\\\\)|(/)', os.getcwd()) else [])+ sys.path \n",
    "\n",
    "import qube\n",
    "%qubed\n",
    "\n",
    "%load_ext autoreload\n",
    "%autoreload 2\n",
    "from qube import lookup\n",
    "from qube.core.basics import Instrument, FuturesInfo\n",
    "from qube.utils.marketdata.binance import get_binance_symbol_info_for_type\n",
    "# from qube.core.lookups import lookup\n",
    "from qube.utils.pandas import scols"
   ]
  },
  {
   "cell_type": "markdown",
   "metadata": {},
   "source": [
    "# mstruct -> Struct"
   ]
  },
  {
   "cell_type": "code",
   "execution_count": 14,
   "metadata": {},
   "outputs": [],
   "source": [
    "from qube.utils import Struct"
   ]
  },
  {
   "cell_type": "code",
   "execution_count": 15,
   "metadata": {},
   "outputs": [
    {
     "data": {
      "text/plain": [
       "Struct(x=1, b=Struct(x=1), c=555)"
      ]
     },
     "execution_count": 15,
     "metadata": {},
     "output_type": "execute_result"
    }
   ],
   "source": [
    "y = Struct(Struct(x=1), b=Struct(x=1), c = 555)\n",
    "y"
   ]
  },
  {
   "cell_type": "code",
   "execution_count": 16,
   "metadata": {},
   "outputs": [
    {
     "data": {
      "text/plain": [
       "Struct(x=1, b=Struct(x=1), c=555, a1=2)"
      ]
     },
     "execution_count": 16,
     "metadata": {},
     "output_type": "execute_result"
    }
   ],
   "source": [
    "y | {'a1': 2}"
   ]
  },
  {
   "cell_type": "code",
   "execution_count": 37,
   "metadata": {},
   "outputs": [],
   "source": [
    "y.ast = 1"
   ]
  },
  {
   "cell_type": "code",
   "execution_count": 111,
   "metadata": {},
   "outputs": [
    {
     "data": {
      "text/plain": [
       "{'s': 1}"
      ]
     },
     "execution_count": 111,
     "metadata": {},
     "output_type": "execute_result"
    }
   ],
   "source": [
    "dict(s=1)"
   ]
  },
  {
   "cell_type": "code",
   "execution_count": 38,
   "metadata": {},
   "outputs": [
    {
     "data": {
      "text/plain": [
       "Struct(a=2, b=Struct(x=1), ast=1)"
      ]
     },
     "execution_count": 38,
     "metadata": {},
     "output_type": "execute_result"
    }
   ],
   "source": [
    "y"
   ]
  },
  {
   "cell_type": "markdown",
   "metadata": {},
   "source": [
    "# Binance market info and data"
   ]
  },
  {
   "cell_type": "code",
   "execution_count": 2,
   "metadata": {},
   "outputs": [
    {
     "data": {
      "text/plain": [
       "[Instrument(symbol='BTCUSDT', market_type='CRYPTO', exchange='BINANCE', base='BTC', quote='USDT', margin_symbol=None, min_tick=0.01, min_size_step=1e-05, min_size=1e-05, futures_info=None, _aux_instrument=None),\n",
       " Instrument(symbol='BTCTUSD', market_type='CRYPTO', exchange='BINANCE', base='BTC', quote='TUSD', margin_symbol=None, min_tick=0.01, min_size_step=1e-05, min_size=1e-05, futures_info=None, _aux_instrument=None),\n",
       " Instrument(symbol='BTCPAX', market_type='CRYPTO', exchange='BINANCE', base='BTC', quote='PAX', margin_symbol=None, min_tick=0.01, min_size_step=1e-05, min_size=1e-05, futures_info=None, _aux_instrument=None),\n",
       " Instrument(symbol='BTCUSDC', market_type='CRYPTO', exchange='BINANCE', base='BTC', quote='USDC', margin_symbol=None, min_tick=0.01, min_size_step=1e-05, min_size=1e-05, futures_info=None, _aux_instrument=None),\n",
       " Instrument(symbol='BTCUSDS', market_type='CRYPTO', exchange='BINANCE', base='BTC', quote='USDS', margin_symbol=None, min_tick=0.01, min_size_step=1e-06, min_size=1e-06, futures_info=None, _aux_instrument=None),\n",
       " Instrument(symbol='BTCBBTC', market_type='CRYPTO', exchange='BINANCE', base='BTCB', quote='BTC', margin_symbol=None, min_tick=1e-06, min_size_step=0.001, min_size=0.001, futures_info=None, _aux_instrument=None),\n",
       " Instrument(symbol='BTCBUSD', market_type='CRYPTO', exchange='BINANCE', base='BTC', quote='BUSD', margin_symbol=None, min_tick=0.01, min_size_step=1e-05, min_size=1e-05, futures_info=None, _aux_instrument=None),\n",
       " Instrument(symbol='BTCNGN', market_type='CRYPTO', exchange='BINANCE', base='BTC', quote='NGN', margin_symbol=None, min_tick=1.0, min_size_step=1e-05, min_size=1e-05, futures_info=None, _aux_instrument=None),\n",
       " Instrument(symbol='BTCRUB', market_type='CRYPTO', exchange='BINANCE', base='BTC', quote='RUB', margin_symbol=None, min_tick=1.0, min_size_step=1e-05, min_size=1e-05, futures_info=None, _aux_instrument=None),\n",
       " Instrument(symbol='BTCTRY', market_type='CRYPTO', exchange='BINANCE', base='BTC', quote='TRY', margin_symbol=None, min_tick=1.0, min_size_step=1e-05, min_size=1e-05, futures_info=None, _aux_instrument=None),\n",
       " Instrument(symbol='BTCEUR', market_type='CRYPTO', exchange='BINANCE', base='BTC', quote='EUR', margin_symbol=None, min_tick=0.01, min_size_step=1e-05, min_size=1e-05, futures_info=None, _aux_instrument=None),\n",
       " Instrument(symbol='BTCZAR', market_type='CRYPTO', exchange='BINANCE', base='BTC', quote='ZAR', margin_symbol=None, min_tick=1.0, min_size_step=1e-05, min_size=1e-05, futures_info=None, _aux_instrument=None),\n",
       " Instrument(symbol='BTCBKRW', market_type='CRYPTO', exchange='BINANCE', base='BTC', quote='BKRW', margin_symbol=None, min_tick=1.0, min_size_step=1e-06, min_size=1e-06, futures_info=None, _aux_instrument=None),\n",
       " Instrument(symbol='BTCIDRT', market_type='CRYPTO', exchange='BINANCE', base='BTC', quote='IDRT', margin_symbol=None, min_tick=1.0, min_size_step=1e-05, min_size=1e-05, futures_info=None, _aux_instrument=None),\n",
       " Instrument(symbol='BTCUPUSDT', market_type='CRYPTO', exchange='BINANCE', base='BTCUP', quote='USDT', margin_symbol=None, min_tick=0.001, min_size_step=0.01, min_size=0.01, futures_info=None, _aux_instrument=None),\n",
       " Instrument(symbol='BTCDOWNUSDT', market_type='CRYPTO', exchange='BINANCE', base='BTCDOWN', quote='USDT', margin_symbol=None, min_tick=1e-06, min_size_step=0.01, min_size=0.01, futures_info=None, _aux_instrument=None),\n",
       " Instrument(symbol='BTCGBP', market_type='CRYPTO', exchange='BINANCE', base='BTC', quote='GBP', margin_symbol=None, min_tick=0.01, min_size_step=1e-05, min_size=1e-05, futures_info=None, _aux_instrument=None),\n",
       " Instrument(symbol='BTCUAH', market_type='CRYPTO', exchange='BINANCE', base='BTC', quote='UAH', margin_symbol=None, min_tick=1.0, min_size_step=1e-05, min_size=1e-05, futures_info=None, _aux_instrument=None),\n",
       " Instrument(symbol='BTCBIDR', market_type='CRYPTO', exchange='BINANCE', base='BTC', quote='BIDR', margin_symbol=None, min_tick=1.0, min_size_step=1e-05, min_size=1e-05, futures_info=None, _aux_instrument=None),\n",
       " Instrument(symbol='BTCAUD', market_type='CRYPTO', exchange='BINANCE', base='BTC', quote='AUD', margin_symbol=None, min_tick=0.01, min_size_step=1e-05, min_size=1e-05, futures_info=None, _aux_instrument=None),\n",
       " Instrument(symbol='BTCDAI', market_type='CRYPTO', exchange='BINANCE', base='BTC', quote='DAI', margin_symbol=None, min_tick=0.01, min_size_step=1e-05, min_size=1e-05, futures_info=None, _aux_instrument=None),\n",
       " Instrument(symbol='BTCBRL', market_type='CRYPTO', exchange='BINANCE', base='BTC', quote='BRL', margin_symbol=None, min_tick=1.0, min_size_step=1e-05, min_size=1e-05, futures_info=None, _aux_instrument=None),\n",
       " Instrument(symbol='BTCSTBTC', market_type='CRYPTO', exchange='BINANCE', base='BTCST', quote='BTC', margin_symbol=None, min_tick=1e-07, min_size_step=0.01, min_size=0.01, futures_info=None, _aux_instrument=None),\n",
       " Instrument(symbol='BTCSTBUSD', market_type='CRYPTO', exchange='BINANCE', base='BTCST', quote='BUSD', margin_symbol=None, min_tick=0.01, min_size_step=0.01, min_size=0.01, futures_info=None, _aux_instrument=None),\n",
       " Instrument(symbol='BTCSTUSDT', market_type='CRYPTO', exchange='BINANCE', base='BTCST', quote='USDT', margin_symbol=None, min_tick=0.01, min_size_step=0.01, min_size=0.01, futures_info=None, _aux_instrument=None),\n",
       " Instrument(symbol='BTCVAI', market_type='CRYPTO', exchange='BINANCE', base='BTC', quote='VAI', margin_symbol=None, min_tick=0.01, min_size_step=1e-05, min_size=1e-05, futures_info=None, _aux_instrument=None),\n",
       " Instrument(symbol='BTCUSDP', market_type='CRYPTO', exchange='BINANCE', base='BTC', quote='USDP', margin_symbol=None, min_tick=0.01, min_size_step=1e-05, min_size=1e-05, futures_info=None, _aux_instrument=None),\n",
       " Instrument(symbol='BTCUST', market_type='CRYPTO', exchange='BINANCE', base='BTC', quote='UST', margin_symbol=None, min_tick=0.01, min_size_step=1e-05, min_size=1e-05, futures_info=None, _aux_instrument=None),\n",
       " Instrument(symbol='BTCPLN', market_type='CRYPTO', exchange='BINANCE', base='BTC', quote='PLN', margin_symbol=None, min_tick=1.0, min_size_step=1e-05, min_size=1e-05, futures_info=None, _aux_instrument=None),\n",
       " Instrument(symbol='BTCRON', market_type='CRYPTO', exchange='BINANCE', base='BTC', quote='RON', margin_symbol=None, min_tick=1.0, min_size_step=1e-05, min_size=1e-05, futures_info=None, _aux_instrument=None),\n",
       " Instrument(symbol='BTCARS', market_type='CRYPTO', exchange='BINANCE', base='BTC', quote='ARS', margin_symbol=None, min_tick=1.0, min_size_step=1e-05, min_size=1e-05, futures_info=None, _aux_instrument=None),\n",
       " Instrument(symbol='BTCFDUSD', market_type='CRYPTO', exchange='BINANCE', base='BTC', quote='FDUSD', margin_symbol=None, min_tick=0.01, min_size_step=1e-05, min_size=1e-05, futures_info=None, _aux_instrument=None),\n",
       " Instrument(symbol='BTCAEUR', market_type='CRYPTO', exchange='BINANCE', base='BTC', quote='AEUR', margin_symbol=None, min_tick=0.01, min_size_step=1e-05, min_size=1e-05, futures_info=None, _aux_instrument=None)]"
      ]
     },
     "execution_count": 2,
     "metadata": {},
     "output_type": "execute_result"
    }
   ],
   "source": [
    "lookup['BINANCE:BTC.*']"
   ]
  }
 ],
 "metadata": {
  "kernelspec": {
   "display_name": "py39",
   "language": "python",
   "name": "python3"
  },
  "language_info": {
   "codemirror_mode": {
    "name": "ipython",
    "version": 3
   },
   "file_extension": ".py",
   "mimetype": "text/x-python",
   "name": "python",
   "nbconvert_exporter": "python",
   "pygments_lexer": "ipython3",
   "version": "3.9.13"
  }
 },
 "nbformat": 4,
 "nbformat_minor": 2
}
