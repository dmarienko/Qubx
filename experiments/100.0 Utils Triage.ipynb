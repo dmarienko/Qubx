{
 "cells": [
  {
   "cell_type": "code",
   "execution_count": 1,
   "metadata": {},
   "outputs": [
    {
     "name": "stdout",
     "output_type": "stream",
     "text": [
      " >  [\u001b[32mdev\u001b[0m] \u001b[31minstalled cython rebuilding hook\u001b[0m\n",
      "\u001b[32m2024-02-29 15:25:10.012\u001b[0m [ \u001b[1mℹ️\u001b[0m ] \u001b[1mLoaded 284 for binance.um\u001b[0m\n",
      "\u001b[32m2024-02-29 15:25:10.091\u001b[0m [ \u001b[1mℹ️\u001b[0m ] \u001b[1mLoaded 61 for binance.cm\u001b[0m\n",
      "\u001b[32m2024-02-29 15:25:10.129\u001b[0m [ \u001b[1mℹ️\u001b[0m ] \u001b[1mLoaded 2495 for binance\u001b[0m\n",
      "\u001b[32m2024-02-29 15:25:10.558\u001b[0m [ \u001b[1mℹ️\u001b[0m ] \u001b[1mUpdates 7 for DUKASCOPY\u001b[0m\n",
      "\n",
      "                   \u001b[31m╻\u001b[0m\n",
      "   \u001b[32m┏┓      ╻     \u001b[0m  \u001b[31m┃\u001b[0m  \u001b[33m┏┓\u001b[0m       \u001b[36mQuantitative Backtesting Environment\u001b[0m \n",
      "   \u001b[32m┃┃  ┓┏  ┣┓  ┏┓\u001b[0m  \u001b[31m┃\u001b[0m  \u001b[33m┏┛\u001b[0m       \n",
      "   \u001b[32m┗┻  ┗┻  ┗┛  ┗ \u001b[0m  \u001b[31m┃\u001b[0m  \u001b[33m┗━\u001b[0m       (c) 2024,  ver. \u001b[35mDev\u001b[0m\n",
      "                   \u001b[31m╹\u001b[0m       \n",
      "\n"
     ]
    }
   ],
   "source": [
    "import sys, os, re; sys.path = ([\"../src/\", \"../\"] if re.match(r'^(\\w\\:\\\\)|(/)', os.getcwd()) else [])+ sys.path \n",
    "\n",
    "import qubx\n",
    "%qubxd\n",
    "\n",
    "%load_ext autoreload\n",
    "%autoreload 2\n",
    "from qubx import lookup\n",
    "from qubx.core.basics import Instrument, FuturesInfo\n",
    "from qubx.utils.marketdata.binance import get_binance_symbol_info_for_type\n",
    "from qubx.utils.pandas import scols"
   ]
  },
  {
   "cell_type": "markdown",
   "metadata": {},
   "source": [
    "# mstruct -> Struct"
   ]
  },
  {
   "cell_type": "code",
   "execution_count": 2,
   "metadata": {},
   "outputs": [],
   "source": [
    "from qubx.utils import Struct"
   ]
  },
  {
   "cell_type": "code",
   "execution_count": 3,
   "metadata": {},
   "outputs": [
    {
     "data": {
      "text/plain": [
       "Struct(x=1, b=Struct(x=1), c=555)"
      ]
     },
     "execution_count": 3,
     "metadata": {},
     "output_type": "execute_result"
    }
   ],
   "source": [
    "y = Struct(Struct(x=1), b=Struct(x=1), c = 555)\n",
    "y"
   ]
  },
  {
   "cell_type": "code",
   "execution_count": 4,
   "metadata": {},
   "outputs": [
    {
     "data": {
      "text/plain": [
       "Struct(x=1, b=Struct(x=1), c=555, a1=2)"
      ]
     },
     "execution_count": 4,
     "metadata": {},
     "output_type": "execute_result"
    }
   ],
   "source": [
    "y | {'a1': 2}"
   ]
  },
  {
   "cell_type": "code",
   "execution_count": 5,
   "metadata": {},
   "outputs": [],
   "source": [
    "y.ast = 1"
   ]
  },
  {
   "cell_type": "code",
   "execution_count": 6,
   "metadata": {},
   "outputs": [
    {
     "data": {
      "text/plain": [
       "{'s': 1}"
      ]
     },
     "execution_count": 6,
     "metadata": {},
     "output_type": "execute_result"
    }
   ],
   "source": [
    "dict(s=1)"
   ]
  },
  {
   "cell_type": "code",
   "execution_count": 7,
   "metadata": {},
   "outputs": [
    {
     "data": {
      "text/plain": [
       "Struct(x=1, b=Struct(x=1), c=555, a1=2, ast=1)"
      ]
     },
     "execution_count": 7,
     "metadata": {},
     "output_type": "execute_result"
    }
   ],
   "source": [
    "y"
   ]
  },
  {
   "cell_type": "markdown",
   "metadata": {},
   "source": [
    "# Market info and symbols"
   ]
  },
  {
   "cell_type": "code",
   "execution_count": 8,
   "metadata": {},
   "outputs": [],
   "source": [
    "s0 = lookup['BINANCE:ETH.*']\n",
    "s1 = lookup['DUKAS:EURGBP']"
   ]
  },
  {
   "cell_type": "code",
   "execution_count": 9,
   "metadata": {},
   "outputs": [
    {
     "data": {
      "text/plain": [
       "(Instrument(symbol='BTCUSDT', market_type='CRYPTO', exchange='BINANCE', base='BTC', quote='USDT', margin_symbol=None, min_tick=0.01, min_size_step=1e-05, min_size=1e-05, futures_info=None, _aux_instrument=None),\n",
       " None,\n",
       " Instrument(symbol='GBPUSD', market_type='FX', exchange='DUKAS', base='GBP', quote='USD', margin_symbol='USD', min_tick=1e-05, min_size_step=1, min_size=1000, futures_info=None, _aux_instrument=None))"
      ]
     },
     "execution_count": 9,
     "metadata": {},
     "output_type": "execute_result"
    },
    {
     "ename": "",
     "evalue": "",
     "output_type": "error",
     "traceback": [
      "\u001b[1;31mThe Kernel crashed while executing code in the current cell or a previous cell. \n",
      "\u001b[1;31mPlease review the code in the cell(s) to identify a possible cause of the failure. \n",
      "\u001b[1;31mClick <a href='https://aka.ms/vscodeJupyterKernelCrash'>here</a> for more info. \n",
      "\u001b[1;31mView Jupyter <a href='command:jupyter.viewOutput'>log</a> for further details."
     ]
    }
   ],
   "source": [
    "(\n",
    "    lookup.find_aux_instrument_for(s0[0], 'USDT'), \n",
    "    lookup.find_aux_instrument_for(s0[1], 'USDT'), \n",
    "    lookup.find_aux_instrument_for(s1[0], 'USD'),\n",
    ")"
   ]
  }
 ],
 "metadata": {
  "kernelspec": {
   "display_name": "py39",
   "language": "python",
   "name": "python3"
  },
  "language_info": {
   "codemirror_mode": {
    "name": "ipython",
    "version": 3
   },
   "file_extension": ".py",
   "mimetype": "text/x-python",
   "name": "python",
   "nbconvert_exporter": "python",
   "pygments_lexer": "ipython3",
   "version": "3.9.13"
  }
 },
 "nbformat": 4,
 "nbformat_minor": 2
}
