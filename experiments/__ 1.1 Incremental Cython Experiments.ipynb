{
 "cells": [
  {
   "cell_type": "code",
   "execution_count": 1,
   "metadata": {},
   "outputs": [
    {
     "name": "stdout",
     "output_type": "stream",
     "text": [
      "installed\n"
     ]
    }
   ],
   "source": [
    "import pandas as pd\n",
    "import numpy as np\n",
    "import sys, os, re\n",
    "import matplotlib.pyplot as plt\n",
    "\n",
    "from importlib import reload\n",
    "\n",
    "if re.match(r'^(\\w\\:\\\\)|(/)', os.getcwd()):\n",
    "    sys.path.insert(0, \"c:/Users/dmitr/devs/quantl/\")\n",
    "    sys.path.insert(0, \"c:/Users/dmitr/devs/Qube2exp/src/\")\n",
    "    # sys.path.insert(0, \"c:/Users/dmitr/devs/Qube/\")\n",
    "    print('installed')"
   ]
  },
  {
   "cell_type": "markdown",
   "metadata": {},
   "source": [
    "# Experiment 1"
   ]
  },
  {
   "cell_type": "code",
   "execution_count": 3,
   "metadata": {},
   "outputs": [
    {
     "name": "stdout",
     "output_type": "stream",
     "text": [
      "The autoreload extension is already loaded. To reload it, use:\n",
      "  %reload_ext autoreload\n"
     ]
    },
    {
     "ename": "ModuleNotFoundError",
     "evalue": "No module named 'qube.core.cseries'",
     "output_type": "error",
     "traceback": [
      "\u001b[1;31m---------------------------------------------------------------------------\u001b[0m",
      "\u001b[1;31mModuleNotFoundError\u001b[0m                       Traceback (most recent call last)",
      "Cell \u001b[1;32mIn[3], line 7\u001b[0m\n\u001b[0;32m      4\u001b[0m \u001b[38;5;28;01mfrom\u001b[39;00m \u001b[38;5;21;01mqube\u001b[39;00m\u001b[38;5;21;01m.\u001b[39;00m\u001b[38;5;21;01mutils\u001b[39;00m \u001b[38;5;28;01mimport\u001b[39;00m reload_pyx_module\n\u001b[0;32m      6\u001b[0m reload_pyx_module(\u001b[38;5;124m'\u001b[39m\u001b[38;5;124m../../src/qube/core/\u001b[39m\u001b[38;5;124m'\u001b[39m)\n\u001b[1;32m----> 7\u001b[0m \u001b[38;5;28;01mfrom\u001b[39;00m \u001b[38;5;21;01mqube\u001b[39;00m\u001b[38;5;21;01m.\u001b[39;00m\u001b[38;5;21;01mcore\u001b[39;00m\u001b[38;5;21;01m.\u001b[39;00m\u001b[38;5;21;01mcseries\u001b[39;00m \u001b[38;5;28;01mimport\u001b[39;00m TimeItem\n\u001b[0;32m      8\u001b[0m \u001b[38;5;28;01mdel\u001b[39;00m sys\u001b[38;5;241m.\u001b[39mmodules[\u001b[38;5;124m'\u001b[39m\u001b[38;5;124mqube.core.cseries\u001b[39m\u001b[38;5;124m'\u001b[39m]\n\u001b[0;32m      9\u001b[0m \u001b[38;5;28;01mfrom\u001b[39;00m \u001b[38;5;21;01mqube\u001b[39;00m\u001b[38;5;21;01m.\u001b[39;00m\u001b[38;5;21;01mcore\u001b[39;00m\u001b[38;5;21;01m.\u001b[39;00m\u001b[38;5;21;01mcseries\u001b[39;00m \u001b[38;5;28;01mimport\u001b[39;00m TimeItem, Float, TimeSeries, FloatSeries, Sma, time_to_str, Ema, recognize_time\n",
      "\u001b[1;31mModuleNotFoundError\u001b[0m: No module named 'qube.core.cseries'"
     ]
    },
    {
     "ename": "",
     "evalue": "",
     "output_type": "error",
     "traceback": [
      "\u001b[1;31mThe Kernel crashed while executing code in the the current cell or a previous cell. Please review the code in the cell(s) to identify a possible cause of the failure. Click <a href='https://aka.ms/vscodeJupyterKernelCrash'>here</a> for more info. View Jupyter <a href='command:jupyter.viewOutput'>log</a> for further details."
     ]
    }
   ],
   "source": [
    "%load_ext autoreload\n",
    "%autoreload 2\n",
    "\n",
    "from qube.utils import reload_pyx_module\n",
    "\n",
    "reload_pyx_module('../../src/qube/core/')\n",
    "from qube.core.cseries import TimeItem\n",
    "del sys.modules['qube.core.cseries']\n",
    "from qube.core.cseries import TimeItem, Float, TimeSeries, FloatSeries, Sma, time_to_str, Ema, recognize_time\n",
    "\n",
    "T = pd.date_range('2024-01-01 00:00', freq='5Min', periods=50_000)"
   ]
  },
  {
   "cell_type": "code",
   "execution_count": null,
   "metadata": {},
   "outputs": [],
   "source": [
    "%%timeit\n",
    "ts = FloatSeries('test1', '5Min')\n",
    "ts.update(Float(recognize_time('2024-01-01 00:00'), 1))\n",
    "ts.update(Float(recognize_time('2024-01-01 00:06'), 2))\n",
    "ts.update(Float(recognize_time('2024-01-01 00:12'), 3))\n",
    "ts.update(Float(recognize_time('2024-01-01 00:21'), 4))\n",
    "ts.update(Float(recognize_time('2024-01-01 00:22'), 5))\n",
    "ts.update(Float(recognize_time('2024-01-01 00:31'), 6))\n",
    "ts.update(Float(recognize_time('2024-01-01 00:33'), 7))\n",
    "ts.update(Float(recognize_time('2024-01-01 00:45'), 12, 'test1'))\n",
    "ts.update(Float(recognize_time('2024-01-01 00:55'), 12, 'test2'))\n",
    "# print(ts)"
   ]
  },
  {
   "cell_type": "code",
   "execution_count": null,
   "metadata": {},
   "outputs": [],
   "source": [
    "ts[::-1]"
   ]
  },
  {
   "cell_type": "code",
   "execution_count": 8,
   "metadata": {},
   "outputs": [
    {
     "name": "stdout",
     "output_type": "stream",
     "text": [
      "87.7 ms ± 897 µs per loop (mean ± std. dev. of 7 runs, 10 loops each)\n"
     ]
    }
   ],
   "source": [
    "# %%timeit\n",
    "# sma(pd.Series(dict(zip(t, range(len(t))))), 25)"
   ]
  },
  {
   "cell_type": "code",
   "execution_count": 7,
   "metadata": {},
   "outputs": [],
   "source": [
    "T = pd.date_range('2024-01-01 00:00', freq='1Min', periods=100_000)\n",
    "data = list(zip(T, 1 + (2*np.random.randn(len(T))).cumsum()))"
   ]
  },
  {
   "cell_type": "code",
   "execution_count": 8,
   "metadata": {},
   "outputs": [
    {
     "name": "stdout",
     "output_type": "stream",
     "text": [
      "664 ms ± 5.61 ms per loop (mean ± std. dev. of 7 runs, 1 loop each)\n"
     ]
    }
   ],
   "source": [
    "%%timeit\n",
    "# s0 = Ema(100)\n",
    "s1 = Sma(100)\n",
    "# s2 = Sma(50)\n",
    "fs = FloatSeries('close', '1h').attach(s1)#.attach(s1)#.attach(s2)\n",
    "[fs.update(Float(ti.asm8, vi)) for ti, vi in data];"
   ]
  },
  {
   "cell_type": "code",
   "execution_count": null,
   "metadata": {},
   "outputs": [],
   "source": [
    "v0 = pd.Series({np.datetime64(v.time, 'ns'): v.v for v in fs})\n",
    "ma0 = pd.Series({np.datetime64(v.time, 'ns'): v.v for v in s0.values})\n",
    "ma1 = pd.Series({np.datetime64(v.time, 'ns'): v.v for v in s1.values})\n",
    "ma2 = pd.Series({np.datetime64(v.time, 'ns'): v.v for v in s2.values})\n",
    "plt.plot(v0)\n",
    "plt.plot(ma0, ls='--')\n",
    "plt.plot(ma1)\n",
    "plt.plot(ma2)"
   ]
  },
  {
   "cell_type": "code",
   "execution_count": 18,
   "metadata": {},
   "outputs": [
    {
     "name": "stdout",
     "output_type": "stream",
     "text": [
      "sma(100)[1H] | 0 records\n",
      "\n"
     ]
    }
   ],
   "source": [
    "print(s1.values)"
   ]
  },
  {
   "cell_type": "code",
   "execution_count": 51,
   "metadata": {},
   "outputs": [],
   "source": [
    "ti = np.datetime64('2023-01-01 10:32:12.001')\n",
    "dt = np.timedelta64(600, 's')"
   ]
  },
  {
   "cell_type": "code",
   "execution_count": 52,
   "metadata": {},
   "outputs": [
    {
     "data": {
      "text/plain": [
       "1826853857"
      ]
     },
     "execution_count": 52,
     "metadata": {},
     "output_type": "execute_result"
    }
   ],
   "source": [
    "ti.astype(int)"
   ]
  },
  {
   "cell_type": "code",
   "execution_count": 53,
   "metadata": {},
   "outputs": [
    {
     "data": {
      "text/plain": [
       "600"
      ]
     },
     "execution_count": 53,
     "metadata": {},
     "output_type": "execute_result"
    }
   ],
   "source": [
    "dt.astype(int)"
   ]
  },
  {
   "cell_type": "code",
   "execution_count": 79,
   "metadata": {},
   "outputs": [],
   "source": [
    "%load_ext cython"
   ]
  },
  {
   "cell_type": "code",
   "execution_count": null,
   "metadata": {},
   "outputs": [],
   "source": [
    "%%cython\n",
    "\n",
    "from cython.view cimport array\n",
    "from qube.core.cseries import TimeItem, Float\n",
    "cimport numpy as np\n",
    "\n",
    "cdef memviewprops(int[:] x):\n",
    "    print('{:10}:{}'.format('shape',x.shape))\n",
    "    print('{:10}:{}'.format('strides', x.strides))\n",
    "    print('{:10}:{}'.format('suboffsets', x.suboffsets))\n",
    "    print('{:10}:{}'.format('ndim', x.ndim))\n",
    "    print('{:10}:{}'.format('size', x.size))\n",
    "    print('{:10}:{}'.format('itemsize', x.itemsize))\n",
    "    print('{:10}:{}'.format('nbytes', x.nbytes))\n",
    "    return \n",
    "   \n",
    "def cythonviewprops(n):\n",
    "    x_cython = array(shape=(n,), itemsize=sizeof(Float), format='P')\n",
    "    return x_cython\n",
    "    # x_cython.extend()\n",
    "    # memviewprops(x_cython)\n",
    "\n",
    "np.zeros((1,), dtype='i')"
   ]
  },
  {
   "cell_type": "code",
   "execution_count": 186,
   "metadata": {},
   "outputs": [],
   "source": [
    "r = cythonviewprops(2)"
   ]
  },
  {
   "cell_type": "code",
   "execution_count": null,
   "metadata": {},
   "outputs": [],
   "source": [
    "# r[0] = Float(t0, 12.0)"
   ]
  }
 ],
 "metadata": {
  "kernelspec": {
   "display_name": "py39",
   "language": "python",
   "name": "python3"
  },
  "language_info": {
   "codemirror_mode": {
    "name": "ipython",
    "version": 3
   },
   "file_extension": ".py",
   "mimetype": "text/x-python",
   "name": "python",
   "nbconvert_exporter": "python",
   "pygments_lexer": "ipython3",
   "version": "3.9.13"
  }
 },
 "nbformat": 4,
 "nbformat_minor": 2
}
