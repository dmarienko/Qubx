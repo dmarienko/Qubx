{
 "cells": [
  {
   "cell_type": "code",
   "execution_count": 175,
   "metadata": {},
   "outputs": [
    {
     "name": "stdout",
     "output_type": "stream",
     "text": [
      "The autoreload extension is already loaded. To reload it, use:\n",
      "  %reload_ext autoreload\n"
     ]
    }
   ],
   "source": [
    "import sys, os, re; sys.path = ([\"../src/\", \"../\"] if re.match(r'^(\\w\\:\\\\)|(/)', os.getcwd()) else [])+ sys.path \n",
    "from typing import Any, List, Tuple, Dict, Optional, Union\n",
    "from itertools import islice\n",
    "\n",
    "import qube\n",
    "%qubed\n",
    "\n",
    "%load_ext autoreload\n",
    "%autoreload 2\n",
    "\n",
    "from qube.core.series import TimeSeries, OHLCV, time_as_nsec, Quote, Trade\n",
    "from qube.data.readers import (\n",
    "    CsvDataReader, QuotesDataProcessor, OhlcvDataProcessor, QuotesFromOHLCVDataProcessor, \n",
    "    OhlcvPandasDataProcessor, STOCK_DAILY_SESSION\n",
    ")\n",
    "from qube.ta.indicators import (sma, ema, tema, dema, kama, highest, lowest)\n",
    "from qube.utils.pandas import scols\n",
    "import numpy as np"
   ]
  },
  {
   "cell_type": "code",
   "execution_count": 9,
   "metadata": {},
   "outputs": [],
   "source": [
    "from qube.core.series import TimeSeries; from qube.ta.indicators import sma; del sys.modules['qube.core.series']; del sys.modules['qube.ta.indicators']\n",
    "from qube.core.series import TimeSeries, OHLCV, time_as_nsec, Quote, Trade\n",
    "from qube.ta.indicators import (sma, ema, tema, dema, kama, highest, lowest)"
   ]
  },
  {
   "cell_type": "markdown",
   "metadata": {},
   "source": [
    "# Common design"
   ]
  },
  {
   "cell_type": "markdown",
   "metadata": {},
   "source": [
    "## Standard CSV readers"
   ]
  },
  {
   "cell_type": "markdown",
   "metadata": {},
   "source": [
    "Takes too much time for loading big data"
   ]
  },
  {
   "cell_type": "code",
   "execution_count": 10,
   "metadata": {},
   "outputs": [],
   "source": [
    "r0 = CsvDataReader('../tests/data/csv/quotes.csv', QuotesDataProcessor())\n",
    "# r0.read()"
   ]
  },
  {
   "cell_type": "code",
   "execution_count": 11,
   "metadata": {},
   "outputs": [],
   "source": [
    "qts= r0.read('2017-08-24 13:09:29')"
   ]
  },
  {
   "cell_type": "code",
   "execution_count": 6,
   "metadata": {},
   "outputs": [
    {
     "data": {
      "text/plain": [
       "True"
      ]
     },
     "execution_count": 6,
     "metadata": {},
     "output_type": "execute_result"
    }
   ],
   "source": [
    "qts[-1].ask == 9.39"
   ]
  },
  {
   "cell_type": "code",
   "execution_count": 5,
   "metadata": {},
   "outputs": [],
   "source": [
    "T = lambda t: np.datetime64(t, 'ns')\n",
    "# r0.read()"
   ]
  },
  {
   "cell_type": "code",
   "execution_count": 133,
   "metadata": {},
   "outputs": [],
   "source": [
    "r1 = CsvDataReader('../tests/data/csv/BTCUSDT_ohlcv_M1.csv.gz', OhlcvDataProcessor('test0'))\n",
    "r2 = CsvDataReader('../tests/data/csv/BTCUSDT_ohlcv_M1_sec.csv.gz', OhlcvDataProcessor('test1'))\n",
    "r2x = CsvDataReader('../tests/data/csv/BTCUSDT_ohlcv_M1_sec.csv.gz', QuotesFromOHLCVDataProcessor(trades=1))\n",
    "r3 = CsvDataReader('../tests/data/csv/AAPL.csv', OhlcvDataProcessor('AAPL'), timestamp_parsers=[\"%m/%d/%Y\", \"%d-%m-%Y\"])\n",
    "r4 = CsvDataReader('../tests/data/csv/SPY.csv', OhlcvDataProcessor('SPY'), timestamp_parsers=[\"%Y-%m-%d\"])\n",
    "# r5 = CsvDataReader('../../BTCUSDT_ohlcv_M1.csv.gz', OhlcvDataProcessor('TestBig'))\n",
    "r4x = CsvDataReader('../tests/data/csv/SPY.csv', QuotesFromOHLCVDataProcessor(\n",
    "    trades=1,\n",
    "    daily_session_start_end=STOCK_DAILY_SESSION\n",
    "), timestamp_parsers=[\"%Y-%m-%d\"])"
   ]
  },
  {
   "cell_type": "code",
   "execution_count": 134,
   "metadata": {},
   "outputs": [
    {
     "name": "stdout",
     "output_type": "stream",
     "text": [
      "CPU times: total: 1.58 s\n",
      "Wall time: 2.8 s\n"
     ]
    }
   ],
   "source": [
    "%%time\n",
    "# data = r1.read('2024-01-08 11:05:00', '2024-01-08 11:10:00')\n",
    "# d4 = r4.read('2000-01-01 11:12:34')\n",
    "\n",
    "# data = r1.read('2024-01-08', '2024-01-08 00:59')\n",
    "# data = r1.read('2021-01-01', '2000-05-01')\n",
    "# data = r1.read('2021-01-01', '2000-05-01')\n",
    "# data = r5.read()\n",
    "# q_data = r4x.read()\n",
    "# s_data = r4.read()\n",
    "q_data = r2x.read()\n",
    "s_data = r2.read()"
   ]
  },
  {
   "cell_type": "code",
   "execution_count": 143,
   "metadata": {},
   "outputs": [],
   "source": [
    "s2 = OHLCV('Test1', '1Min')\n",
    "for q in q_data:\n",
    "    if isinstance(q, Trade):\n",
    "        s2.update(q.time, q.price, q.size)\n",
    "    else:\n",
    "        s2.update(q.time, q.mid_price())\n",
    "    # break"
   ]
  },
  {
   "cell_type": "code",
   "execution_count": 151,
   "metadata": {},
   "outputs": [
    {
     "data": {
      "text/plain": [
       "True"
      ]
     },
     "execution_count": 151,
     "metadata": {},
     "output_type": "execute_result"
    }
   ],
   "source": [
    "all((s2.pd() - s_data.pd()) < 1e-5)"
   ]
  },
  {
   "cell_type": "code",
   "execution_count": 145,
   "metadata": {},
   "outputs": [
    {
     "data": {
      "text/html": [
       "<div>\n",
       "<style scoped>\n",
       "    .dataframe tbody tr th:only-of-type {\n",
       "        vertical-align: middle;\n",
       "    }\n",
       "\n",
       "    .dataframe tbody tr th {\n",
       "        vertical-align: top;\n",
       "    }\n",
       "\n",
       "    .dataframe thead th {\n",
       "        text-align: right;\n",
       "    }\n",
       "</style>\n",
       "<table border=\"1\" class=\"dataframe\">\n",
       "  <thead>\n",
       "    <tr style=\"text-align: right;\">\n",
       "      <th></th>\n",
       "      <th>open</th>\n",
       "      <th>high</th>\n",
       "      <th>low</th>\n",
       "      <th>close</th>\n",
       "      <th>volume</th>\n",
       "    </tr>\n",
       "    <tr>\n",
       "      <th>timestamp</th>\n",
       "      <th></th>\n",
       "      <th></th>\n",
       "      <th></th>\n",
       "      <th></th>\n",
       "      <th></th>\n",
       "    </tr>\n",
       "  </thead>\n",
       "  <tbody>\n",
       "    <tr>\n",
       "      <th>2024-01-01 00:00:00</th>\n",
       "      <td>42314.0</td>\n",
       "      <td>42335.8</td>\n",
       "      <td>42289.6</td>\n",
       "      <td>42331.9</td>\n",
       "      <td>289.641</td>\n",
       "    </tr>\n",
       "    <tr>\n",
       "      <th>2024-01-01 00:01:00</th>\n",
       "      <td>42331.9</td>\n",
       "      <td>42353.1</td>\n",
       "      <td>42331.8</td>\n",
       "      <td>42350.4</td>\n",
       "      <td>202.444</td>\n",
       "    </tr>\n",
       "    <tr>\n",
       "      <th>2024-01-01 00:02:00</th>\n",
       "      <td>42350.4</td>\n",
       "      <td>42370.8</td>\n",
       "      <td>42349.6</td>\n",
       "      <td>42360.2</td>\n",
       "      <td>271.521</td>\n",
       "    </tr>\n",
       "    <tr>\n",
       "      <th>2024-01-01 00:03:00</th>\n",
       "      <td>42360.1</td>\n",
       "      <td>42405.8</td>\n",
       "      <td>42360.1</td>\n",
       "      <td>42405.8</td>\n",
       "      <td>392.238</td>\n",
       "    </tr>\n",
       "    <tr>\n",
       "      <th>2024-01-01 00:04:00</th>\n",
       "      <td>42405.7</td>\n",
       "      <td>42437.2</td>\n",
       "      <td>42405.7</td>\n",
       "      <td>42437.1</td>\n",
       "      <td>568.366</td>\n",
       "    </tr>\n",
       "    <tr>\n",
       "      <th>...</th>\n",
       "      <td>...</td>\n",
       "      <td>...</td>\n",
       "      <td>...</td>\n",
       "      <td>...</td>\n",
       "      <td>...</td>\n",
       "    </tr>\n",
       "    <tr>\n",
       "      <th>2024-02-15 06:13:00</th>\n",
       "      <td>51956.3</td>\n",
       "      <td>51977.9</td>\n",
       "      <td>51956.3</td>\n",
       "      <td>51977.2</td>\n",
       "      <td>86.380</td>\n",
       "    </tr>\n",
       "    <tr>\n",
       "      <th>2024-02-15 06:14:00</th>\n",
       "      <td>51977.8</td>\n",
       "      <td>51984.9</td>\n",
       "      <td>51961.5</td>\n",
       "      <td>51983.3</td>\n",
       "      <td>271.145</td>\n",
       "    </tr>\n",
       "    <tr>\n",
       "      <th>2024-02-15 06:15:00</th>\n",
       "      <td>51983.3</td>\n",
       "      <td>52015.0</td>\n",
       "      <td>51983.2</td>\n",
       "      <td>51995.9</td>\n",
       "      <td>191.007</td>\n",
       "    </tr>\n",
       "    <tr>\n",
       "      <th>2024-02-15 06:16:00</th>\n",
       "      <td>51996.0</td>\n",
       "      <td>52014.7</td>\n",
       "      <td>51965.9</td>\n",
       "      <td>51966.0</td>\n",
       "      <td>261.885</td>\n",
       "    </tr>\n",
       "    <tr>\n",
       "      <th>2024-02-15 06:17:00</th>\n",
       "      <td>51965.9</td>\n",
       "      <td>52004.7</td>\n",
       "      <td>51950.0</td>\n",
       "      <td>51950.4</td>\n",
       "      <td>223.358</td>\n",
       "    </tr>\n",
       "  </tbody>\n",
       "</table>\n",
       "<p>65178 rows × 5 columns</p>\n",
       "</div>"
      ],
      "text/plain": [
       "                        open     high      low    close   volume\n",
       "timestamp                                                       \n",
       "2024-01-01 00:00:00  42314.0  42335.8  42289.6  42331.9  289.641\n",
       "2024-01-01 00:01:00  42331.9  42353.1  42331.8  42350.4  202.444\n",
       "2024-01-01 00:02:00  42350.4  42370.8  42349.6  42360.2  271.521\n",
       "2024-01-01 00:03:00  42360.1  42405.8  42360.1  42405.8  392.238\n",
       "2024-01-01 00:04:00  42405.7  42437.2  42405.7  42437.1  568.366\n",
       "...                      ...      ...      ...      ...      ...\n",
       "2024-02-15 06:13:00  51956.3  51977.9  51956.3  51977.2   86.380\n",
       "2024-02-15 06:14:00  51977.8  51984.9  51961.5  51983.3  271.145\n",
       "2024-02-15 06:15:00  51983.3  52015.0  51983.2  51995.9  191.007\n",
       "2024-02-15 06:16:00  51996.0  52014.7  51965.9  51966.0  261.885\n",
       "2024-02-15 06:17:00  51965.9  52004.7  51950.0  51950.4  223.358\n",
       "\n",
       "[65178 rows x 5 columns]"
      ]
     },
     "execution_count": 145,
     "metadata": {},
     "output_type": "execute_result"
    }
   ],
   "source": [
    "s_data.pd()"
   ]
  },
  {
   "cell_type": "code",
   "execution_count": 12,
   "metadata": {},
   "outputs": [],
   "source": [
    "# np.datetime64(data.times[0], 'ns') == np.datetime64('2024-01-08T11:10:00.000000000')"
   ]
  },
  {
   "cell_type": "code",
   "execution_count": 14,
   "metadata": {},
   "outputs": [
    {
     "name": "stdout",
     "output_type": "stream",
     "text": [
      "TestBig[1Min] | 2333540 records\n",
      "  2024-02-15T06:17:00.000000000 {o:51965.900000 | h:52004.700000 | l:51950.000000 | c:51950.400000 | v:223.358000}\n",
      "  2024-02-15T06:16:00.000000000 {o:51996.000000 | h:52014.700000 | l:51965.900000 | c:51966.000000 | v:261.885000}\n",
      "  2024-02-15T06:15:00.000000000 {o:51983.300000 | h:52015.000000 | l:51983.200000 | c:51995.900000 | v:191.007000}\n",
      "   .......... \n",
      "  2019-09-08T17:59:00.000000000 {o:10000.000000 | h:10000.000000 | l:10000.000000 | c:10000.000000 | v:0.001000}\n",
      "  2019-09-08T17:58:00.000000000 {o:10000.000000 | h:10000.000000 | l:10000.000000 | c:10000.000000 | v:0.000000}\n",
      "  2019-09-08T17:57:00.000000000 {o:10000.000000 | h:10000.000000 | l:10000.000000 | c:10000.000000 | v:0.001000}\n",
      "\n"
     ]
    }
   ],
   "source": [
    "print(str(data))"
   ]
  },
  {
   "cell_type": "code",
   "execution_count": 17,
   "metadata": {},
   "outputs": [
    {
     "data": {
      "image/png": "[encoded data removed]",
      "text/plain": [
       "<Figure size 960x400 with 1 Axes>"
      ]
     },
     "metadata": {},
     "output_type": "display_data"
    }
   ],
   "source": [
    "d4.close.plot()"
   ]
  },
  {
   "cell_type": "code",
   "execution_count": 49,
   "metadata": {},
   "outputs": [
    {
     "name": "stdout",
     "output_type": "stream",
     "text": [
      "CPU times: total: 0 ns\n",
      "Wall time: 17.6 ms\n"
     ]
    }
   ],
   "source": [
    "# %%time\n",
    "# dx0 = pd.read_csv('data/BTCUSDT_ohlcv_M1.csv', parse_dates=True, index_col=['time'], engine=\"pyarrow\")"
   ]
  },
  {
   "cell_type": "code",
   "execution_count": 158,
   "metadata": {},
   "outputs": [
    {
     "data": {
      "text/plain": [
       "pyarrow.Table\n",
       "Date: date32[day]\n",
       "open: double\n",
       "high: double\n",
       "low: double\n",
       "close: double\n",
       "volume: double\n",
       "----\n",
       "Date: [[2000-01-03,2000-01-04,2000-01-05,2000-01-06,2000-01-07,...,2000-01-10,2000-01-11,2000-01-12,2000-01-13,2000-01-14]]\n",
       "open: [[107.404545309841,103.98585949558047,101.38228283794643,101.15588287295826,101.65396389794167,...,105.95558,105.63861840614187,104.75562164474871,104.66506129621452,106.15930686485927]]\n",
       "high: [[107.404545309841,104.37077420169946,102.53689364411323,102.51428774591652,105.59333799999999,...,106.43098837892867,105.84234580983004,104.75562164474871,105.5933379448276,106.83850929730367]]\n",
       "low: [[104.23493393897722,101.1671802569384,99.43523586964287,99.797478,101.47284324957117,...,105.07258350713381,103.9632524048443,103.51045051376147,103.80473821690417,105.75178540539264]]\n",
       "close: [[105.36693799999999,101.246443,101.427563,99.797478,105.59333799999999,...,105.95558,104.687735,103.646291,105.049976,106.47626799999999]]\n",
       "volume: [[8164300,8089800,12177900,6227200,8066500,...,5741700,7503700,6907700,5158300,7437300]]"
      ]
     },
     "execution_count": 158,
     "metadata": {},
     "output_type": "execute_result"
    }
   ],
   "source": [
    "from pyarrow import csv\n",
    "import pyarrow as pa\n",
    "table = csv.read_csv(\n",
    "    # 'data/BTCUSDT_ohlcv_M1_sec.csv', \n",
    "    # 'data/BTCUSDT_ohlcv_M1.csv.gz', \n",
    "    # 'data/AAPL.csv', \n",
    "    'data/SPY1.csv', \n",
    "    # 'data/quotes.csv', \n",
    "    # parse_options=csv.ParseOptions(ignore_empty_lines=True),\n",
    "    convert_options=csv.ConvertOptions(\n",
    "        # timestamp_parsers=[\"%d-%m-%Y\"]\n",
    "        timestamp_parsers=[\"%Y-%m-%d\"]\n",
    "    )\n",
    ")\n",
    "table"
   ]
  },
  {
   "cell_type": "code",
   "execution_count": 190,
   "metadata": {},
   "outputs": [
    {
     "data": {
      "text/plain": [
       "<pyarrow.Int64Scalar: 4>"
      ]
     },
     "execution_count": 190,
     "metadata": {},
     "output_type": "execute_result"
    }
   ],
   "source": [
    "# table[0].chunk(0).index(np.datetime64('2020-01-07', 's'))\n",
    "table[0].cast(pa.timestamp('ms')).index(np.datetime64('2000-01-07', 'ms'))"
   ]
  },
  {
   "cell_type": "code",
   "execution_count": 193,
   "metadata": {},
   "outputs": [
    {
     "data": {
      "text/plain": [
       "False"
      ]
     },
     "execution_count": 193,
     "metadata": {},
     "output_type": "execute_result"
    }
   ],
   "source": [
    "f = table.field(0)\n",
    "# f.type == pa.timestamp('ns')\n",
    "f.type == pa.timestamp('s')"
   ]
  },
  {
   "cell_type": "code",
   "execution_count": null,
   "metadata": {},
   "outputs": [],
   "source": [
    "n_chunks = table[table.column_names[0]].num_chunks\n",
    "\n",
    "for n in range(n_chunks):\n",
    "    print(n)\n",
    "    [table[k].chunk(n).to_numpy() for k in range(table.num_columns)]"
   ]
  },
  {
   "cell_type": "code",
   "execution_count": 155,
   "metadata": {},
   "outputs": [
    {
     "data": {
      "text/plain": [
       "array(['2000-01-03T00:00:00.000', '2000-01-04T00:00:00.000', '2000-01-05T00:00:00.000', '2000-01-06T00:00:00.000', '2000-01-07T00:00:00.000', '2000-01-08T00:00:00.000', '2000-01-09T00:00:00.000', '2000-01-10T00:00:00.000',\n",
       "       '2000-01-11T00:00:00.000', '2000-01-12T00:00:00.000', '2000-01-13T00:00:00.000', '2000-01-14T00:00:00.000'], dtype='datetime64[ms]')"
      ]
     },
     "execution_count": 155,
     "metadata": {},
     "output_type": "execute_result"
    }
   ],
   "source": [
    "table[0].chunk(0).cast(pa.timestamp('ms')).to_numpy()#(zero_copy_only=False)"
   ]
  },
  {
   "cell_type": "code",
   "execution_count": 55,
   "metadata": {},
   "outputs": [
    {
     "data": {
      "text/plain": [
       "pyarrow.Table\n",
       "time: timestamp[ns]\n",
       "open: double\n",
       "high: double\n",
       "low: double\n",
       "close: double\n",
       "volume: double\n",
       "----\n",
       "time: [[2024-01-01 00:00:00.000000000,2024-01-01 00:01:00.000000000,2024-01-01 00:02:00.000000000,2024-01-01 00:03:00.000000000,2024-01-01 00:04:00.000000000,...,2024-01-12 10:56:00.000000000,2024-01-12 10:57:00.000000000,2024-01-12 10:58:00.000000000,2024-01-12 10:59:00.000000000,2024-01-12 11:00:00.000000000],[2024-01-12 11:01:00.000000000,2024-01-12 11:02:00.000000000,2024-01-12 11:03:00.000000000,2024-01-12 11:04:00.000000000,2024-01-12 11:05:00.000000000,...,2024-01-23 22:39:00.000000000,2024-01-23 22:40:00.000000000,2024-01-23 22:41:00.000000000,2024-01-23 22:42:00.000000000,2024-01-23 22:43:00.000000000],[2024-01-23 22:44:00.000000000,2024-01-23 22:45:00.000000000,2024-01-23 22:46:00.000000000,2024-01-23 22:47:00.000000000,2024-01-23 22:48:00.000000000,...,2024-02-04 10:39:00.000000000,2024-02-04 10:40:00.000000000,2024-02-04 10:41:00.000000000,2024-02-04 10:42:00.000000000,2024-02-04 10:43:00.000000000],[2024-02-04 10:44:00.000000000,2024-02-04 10:45:00.000000000,2024-02-04 10:46:00.000000000,2024-02-04 10:47:00.000000000,2024-02-04 10:48:00.000000000,...,2024-02-15 06:13:00.000000000,2024-02-15 06:14:00.000000000,2024-02-15 06:15:00.000000000,2024-02-15 06:16:00.000000000,2024-02-15 06:17:00.000000000]]\n",
       "open: [[42314,42331.9,42350.4,42360.1,42405.7,...,46128.5,46114.8,46114.1,46072.1,46067.6],[46069.6,46129.8,46111.7,46127.8,46108.8,...,39428.9,39409.7,39435.9,39499.9,39526.8],[39553.4,39544.1,39539.5,39504.7,39480.4,...,42883.1,42889.9,42900.7,42900.7,42906.1],[42906.1,42906.1,42891.9,42889,42870.8,...,51956.3,51977.8,51983.3,51996,51965.9]]\n",
       "high: [[42335.8,42353.1,42370.8,42405.8,42437.2,...,46150,46129.2,46114.1,46103.4,46081.2],[46129.9,46129.9,46145.1,46146.7,46130.9,...,39428.9,39435.9,39500,39542.1,39556.2],[39558.5,39549.5,39539.6,39504.8,39480.4,...,42889.9,42900.8,42900.8,42906.2,42906.2],[42906.2,42906.2,42892,42889.1,42870.8,...,51977.9,51984.9,52015,52014.7,52004.7]]\n",
       "low: [[42289.6,42331.8,42349.6,42360.1,42405.7,...,46114.2,46108.3,46072.1,46065,46056],[46069.6,46090.1,46107.6,46104.2,46094.9,...,39408.2,39409.7,39435.8,39499.9,39525.4],[39544,39534.7,39504.7,39480.5,39440.9,...,42881.4,42889.8,42900.7,42900.7,42906.1],[42906.1,42891.7,42889,42870.8,42852.9,...,51956.3,51961.5,51983.2,51965.9,51950]]\n",
       "close: [[42331.9,42350.4,42360.2,42405.8,42437.1,...,46115,46114,46072.1,46067.6,46069.6],[46129.8,46111.8,46127.7,46108.9,46096.3,...,39409.7,39435.8,39500,39526.8,39553.4],[39544,39539.5,39504.7,39480.5,39449.8,...,42889.9,42900.7,42900.7,42906.2,42906.1],[42906.2,42891.9,42889.1,42870.8,42855.1,...,51977.2,51983.3,51995.9,51966,51950.4]]\n",
       "volume: [[289.641,202.444,271.521,392.238,568.366,...,347.731,114.403,137.128,210.582,131.802],[90.97,279.448,152.651,118.186,96.347,...,177.458,85.379,119.912,469.455,161.5],[196.617,156.573,128.248,106.218,165.594,...,19.828,15.341,4.824,24.982,7.04],[7.528,81.228,16.683,33.22,89.31,...,86.38,271.145,191.007,261.885,223.358]]"
      ]
     },
     "execution_count": 55,
     "metadata": {},
     "output_type": "execute_result"
    }
   ],
   "source": [
    "ti = table['time']\n",
    "table"
   ]
  },
  {
   "cell_type": "code",
   "execution_count": 56,
   "metadata": {},
   "outputs": [
    {
     "data": {
      "text/plain": [
       "4"
      ]
     },
     "execution_count": 56,
     "metadata": {},
     "output_type": "execute_result"
    }
   ],
   "source": [
    "table[table.column_names[0]].num_chunks"
   ]
  },
  {
   "cell_type": "code",
   "execution_count": 72,
   "metadata": {},
   "outputs": [
    {
     "data": {
      "text/plain": [
       "<pyarrow.Int64Scalar: -1>"
      ]
     },
     "execution_count": 72,
     "metadata": {},
     "output_type": "execute_result"
    }
   ],
   "source": [
    "# s0 = ti.index(time_as_nsec('2024-01-24 13:05:00'))\n",
    "s1 = ti.index(time_as_nsec('2024-02-08 18:05:00'))\n",
    "s1\n",
    "# print(s0, s1.as_py() - s0.as_py())"
   ]
  },
  {
   "cell_type": "code",
   "execution_count": 101,
   "metadata": {},
   "outputs": [
    {
     "name": "stdout",
     "output_type": "stream",
     "text": [
      "2024-02-08T10:02:00.000000000\n"
     ]
    }
   ],
   "source": [
    "for c in ti.iterchunks():\n",
    "    a = c.to_numpy()\n",
    "    ix = np.searchsorted(a, time_as_nsec('2024-02-08 10:01:01'))\n",
    "    if ix < len(c):\n",
    "        print(a[ix])\n",
    "        break"
   ]
  },
  {
   "cell_type": "code",
   "execution_count": null,
   "metadata": {},
   "outputs": [],
   "source": [
    "ti"
   ]
  },
  {
   "cell_type": "code",
   "execution_count": 93,
   "metadata": {},
   "outputs": [
    {
     "data": {
      "text/plain": [
       "16441"
      ]
     },
     "execution_count": 93,
     "metadata": {},
     "output_type": "execute_result"
    }
   ],
   "source": [
    "np.searchsorted(c.to_numpy(), time_as_nsec('2024-01-12 10:01'))"
   ]
  },
  {
   "cell_type": "code",
   "execution_count": 57,
   "metadata": {},
   "outputs": [],
   "source": [
    "selected_table = table.slice(s0.as_py(), s1.as_py() - s0.as_py())"
   ]
  },
  {
   "cell_type": "code",
   "execution_count": 61,
   "metadata": {},
   "outputs": [
    {
     "name": "stdout",
     "output_type": "stream",
     "text": [
      "2024-01-08T11:05:00.000000000\n",
      "2024-01-12T11:01:00.000000000\n",
      "2024-01-23T22:44:00.000000000\n",
      "2024-02-04T10:44:00.000000000\n"
     ]
    }
   ],
   "source": [
    "n_chunks = selected_table[table.column_names[0]].num_chunks\n",
    "n_chunks\n",
    "\n",
    "for n in range(n_chunks):\n",
    "    data = [selected_table[k].chunk(n).to_numpy() for k in range(selected_table.num_columns)]\n",
    "    print(data[0][0])\n",
    "    # break"
   ]
  },
  {
   "cell_type": "code",
   "execution_count": null,
   "metadata": {},
   "outputs": [],
   "source": [
    "data"
   ]
  },
  {
   "cell_type": "markdown",
   "metadata": {},
   "source": [
    "### Fast OHLC series creation"
   ]
  },
  {
   "cell_type": "code",
   "execution_count": null,
   "metadata": {},
   "outputs": [],
   "source": [
    "s = OHLCV('Test1', '1Min')\n",
    "s.from_data()"
   ]
  },
  {
   "cell_type": "code",
   "execution_count": null,
   "metadata": {},
   "outputs": [],
   "source": [
    "# tt = dx0.index.map(lambda x: x.asm8.item())\n",
    "# s.open.times.set_values(list(tt))\n",
    "# s.open.values.set_values(list(dx0.open.values))\n",
    "\n",
    "# s.high.values.set_values(list(dx0.high.values))\n",
    "# s.high.times.set_values(list(tt))\n",
    "\n",
    "# s.low.values.set_values(list(dx0.low.values))\n",
    "# s.low.times.set_values(list(tt))\n",
    "\n",
    "# s.close.values.set_values(list(dx0.close.values))\n",
    "# s.close.times.set_values(list(tt))\n",
    "\n",
    "# s.volume.values.set_values(list(dx0.volume.values))\n",
    "# s.volume.times.set_values(list(tt))\n",
    "\n",
    "# s.times.set_values(list(tt))"
   ]
  },
  {
   "cell_type": "markdown",
   "metadata": {},
   "source": [
    "### Pandas OHLC data loader"
   ]
  },
  {
   "cell_type": "code",
   "execution_count": 425,
   "metadata": {},
   "outputs": [],
   "source": [
    "# p1 = CsvDataReader('../tests/data/csv/BTCUSDT_ohlcv_M1.csv.gz', OhlcvPandasDataProcessor())\n",
    "p2 = CsvDataReader('../../BTCUSDT_ohlcv_M1.csv.gz', OhlcvPandasDataProcessor())"
   ]
  },
  {
   "cell_type": "code",
   "execution_count": 434,
   "metadata": {},
   "outputs": [
    {
     "name": "stdout",
     "output_type": "stream",
     "text": [
      "CPU times: total: 422 ms\n",
      "Wall time: 833 ms\n"
     ]
    }
   ],
   "source": [
    "%%time\n",
    "fx = p2.read('2022-02-01', '1d')"
   ]
  },
  {
   "cell_type": "code",
   "execution_count": 435,
   "metadata": {},
   "outputs": [
    {
     "data": {
      "text/html": [
       "<div>\n",
       "<style scoped>\n",
       "    .dataframe tbody tr th:only-of-type {\n",
       "        vertical-align: middle;\n",
       "    }\n",
       "\n",
       "    .dataframe tbody tr th {\n",
       "        vertical-align: top;\n",
       "    }\n",
       "\n",
       "    .dataframe thead th {\n",
       "        text-align: right;\n",
       "    }\n",
       "</style>\n",
       "<table border=\"1\" class=\"dataframe\">\n",
       "  <thead>\n",
       "    <tr style=\"text-align: right;\">\n",
       "      <th></th>\n",
       "      <th>open</th>\n",
       "      <th>high</th>\n",
       "      <th>low</th>\n",
       "      <th>close</th>\n",
       "      <th>volume</th>\n",
       "    </tr>\n",
       "  </thead>\n",
       "  <tbody>\n",
       "    <tr>\n",
       "      <th>2022-02-01 00:00:00</th>\n",
       "      <td>38439.04</td>\n",
       "      <td>38442.44</td>\n",
       "      <td>38377.55</td>\n",
       "      <td>38377.56</td>\n",
       "      <td>257.709</td>\n",
       "    </tr>\n",
       "    <tr>\n",
       "      <th>2022-02-01 00:01:00</th>\n",
       "      <td>38377.56</td>\n",
       "      <td>38377.57</td>\n",
       "      <td>38289.35</td>\n",
       "      <td>38289.35</td>\n",
       "      <td>486.257</td>\n",
       "    </tr>\n",
       "    <tr>\n",
       "      <th>2022-02-01 00:02:00</th>\n",
       "      <td>38289.35</td>\n",
       "      <td>38347.09</td>\n",
       "      <td>38269.88</td>\n",
       "      <td>38339.68</td>\n",
       "      <td>475.862</td>\n",
       "    </tr>\n",
       "    <tr>\n",
       "      <th>2022-02-01 00:03:00</th>\n",
       "      <td>38339.68</td>\n",
       "      <td>38424.11</td>\n",
       "      <td>38335.01</td>\n",
       "      <td>38393.83</td>\n",
       "      <td>339.537</td>\n",
       "    </tr>\n",
       "    <tr>\n",
       "      <th>2022-02-01 00:04:00</th>\n",
       "      <td>38394.99</td>\n",
       "      <td>38413.52</td>\n",
       "      <td>38386.88</td>\n",
       "      <td>38411.11</td>\n",
       "      <td>60.260</td>\n",
       "    </tr>\n",
       "    <tr>\n",
       "      <th>...</th>\n",
       "      <td>...</td>\n",
       "      <td>...</td>\n",
       "      <td>...</td>\n",
       "      <td>...</td>\n",
       "      <td>...</td>\n",
       "    </tr>\n",
       "    <tr>\n",
       "      <th>2024-02-15 06:13:00</th>\n",
       "      <td>51956.30</td>\n",
       "      <td>51977.90</td>\n",
       "      <td>51956.30</td>\n",
       "      <td>51977.20</td>\n",
       "      <td>86.380</td>\n",
       "    </tr>\n",
       "    <tr>\n",
       "      <th>2024-02-15 06:14:00</th>\n",
       "      <td>51977.80</td>\n",
       "      <td>51984.90</td>\n",
       "      <td>51961.50</td>\n",
       "      <td>51983.30</td>\n",
       "      <td>271.145</td>\n",
       "    </tr>\n",
       "    <tr>\n",
       "      <th>2024-02-15 06:15:00</th>\n",
       "      <td>51983.30</td>\n",
       "      <td>52015.00</td>\n",
       "      <td>51983.20</td>\n",
       "      <td>51995.90</td>\n",
       "      <td>191.007</td>\n",
       "    </tr>\n",
       "    <tr>\n",
       "      <th>2024-02-15 06:16:00</th>\n",
       "      <td>51996.00</td>\n",
       "      <td>52014.70</td>\n",
       "      <td>51965.90</td>\n",
       "      <td>51966.00</td>\n",
       "      <td>261.885</td>\n",
       "    </tr>\n",
       "    <tr>\n",
       "      <th>2024-02-15 06:17:00</th>\n",
       "      <td>51965.90</td>\n",
       "      <td>52004.70</td>\n",
       "      <td>51950.00</td>\n",
       "      <td>51950.40</td>\n",
       "      <td>223.358</td>\n",
       "    </tr>\n",
       "  </tbody>\n",
       "</table>\n",
       "<p>1071738 rows × 5 columns</p>\n",
       "</div>"
      ],
      "text/plain": [
       "                         open      high       low     close   volume\n",
       "2022-02-01 00:00:00  38439.04  38442.44  38377.55  38377.56  257.709\n",
       "2022-02-01 00:01:00  38377.56  38377.57  38289.35  38289.35  486.257\n",
       "2022-02-01 00:02:00  38289.35  38347.09  38269.88  38339.68  475.862\n",
       "2022-02-01 00:03:00  38339.68  38424.11  38335.01  38393.83  339.537\n",
       "2022-02-01 00:04:00  38394.99  38413.52  38386.88  38411.11   60.260\n",
       "...                       ...       ...       ...       ...      ...\n",
       "2024-02-15 06:13:00  51956.30  51977.90  51956.30  51977.20   86.380\n",
       "2024-02-15 06:14:00  51977.80  51984.90  51961.50  51983.30  271.145\n",
       "2024-02-15 06:15:00  51983.30  52015.00  51983.20  51995.90  191.007\n",
       "2024-02-15 06:16:00  51996.00  52014.70  51965.90  51966.00  261.885\n",
       "2024-02-15 06:17:00  51965.90  52004.70  51950.00  51950.40  223.358\n",
       "\n",
       "[1071738 rows x 5 columns]"
      ]
     },
     "execution_count": 435,
     "metadata": {},
     "output_type": "execute_result"
    }
   ],
   "source": [
    "fx"
   ]
  },
  {
   "cell_type": "code",
   "execution_count": 165,
   "metadata": {},
   "outputs": [
    {
     "data": {
      "text/html": [
       "<div>\n",
       "<style scoped>\n",
       "    .dataframe tbody tr th:only-of-type {\n",
       "        vertical-align: middle;\n",
       "    }\n",
       "\n",
       "    .dataframe tbody tr th {\n",
       "        vertical-align: top;\n",
       "    }\n",
       "\n",
       "    .dataframe thead th {\n",
       "        text-align: right;\n",
       "    }\n",
       "</style>\n",
       "<table border=\"1\" class=\"dataframe\">\n",
       "  <thead>\n",
       "    <tr style=\"text-align: right;\">\n",
       "      <th></th>\n",
       "      <th>x</th>\n",
       "      <th>y</th>\n",
       "    </tr>\n",
       "  </thead>\n",
       "  <tbody>\n",
       "    <tr>\n",
       "      <th>0</th>\n",
       "      <td>1</td>\n",
       "      <td>11</td>\n",
       "    </tr>\n",
       "    <tr>\n",
       "      <th>1</th>\n",
       "      <td>2</td>\n",
       "      <td>22</td>\n",
       "    </tr>\n",
       "    <tr>\n",
       "      <th>2</th>\n",
       "      <td>3</td>\n",
       "      <td>33</td>\n",
       "    </tr>\n",
       "  </tbody>\n",
       "</table>\n",
       "</div>"
      ],
      "text/plain": [
       "   x   y\n",
       "0  1  11\n",
       "1  2  22\n",
       "2  3  33"
      ]
     },
     "execution_count": 165,
     "metadata": {},
     "output_type": "execute_result"
    }
   ],
   "source": [
    "pd.DataFrame({'x': [1,2,3], 'y': [11,22,33]}, index=[0,1,2])"
   ]
  },
  {
   "cell_type": "code",
   "execution_count": 173,
   "metadata": {},
   "outputs": [],
   "source": [
    "f = pd.concat((f, pd.DataFrame({'x': [1,2,3], 'y': [11,22,33]})), copy=False)"
   ]
  },
  {
   "cell_type": "code",
   "execution_count": 174,
   "metadata": {},
   "outputs": [
    {
     "data": {
      "text/html": [
       "<div>\n",
       "<style scoped>\n",
       "    .dataframe tbody tr th:only-of-type {\n",
       "        vertical-align: middle;\n",
       "    }\n",
       "\n",
       "    .dataframe tbody tr th {\n",
       "        vertical-align: top;\n",
       "    }\n",
       "\n",
       "    .dataframe thead th {\n",
       "        text-align: right;\n",
       "    }\n",
       "</style>\n",
       "<table border=\"1\" class=\"dataframe\">\n",
       "  <thead>\n",
       "    <tr style=\"text-align: right;\">\n",
       "      <th></th>\n",
       "      <th>x</th>\n",
       "      <th>y</th>\n",
       "    </tr>\n",
       "  </thead>\n",
       "  <tbody>\n",
       "    <tr>\n",
       "      <th>0</th>\n",
       "      <td>1</td>\n",
       "      <td>11</td>\n",
       "    </tr>\n",
       "    <tr>\n",
       "      <th>1</th>\n",
       "      <td>2</td>\n",
       "      <td>22</td>\n",
       "    </tr>\n",
       "    <tr>\n",
       "      <th>2</th>\n",
       "      <td>3</td>\n",
       "      <td>33</td>\n",
       "    </tr>\n",
       "    <tr>\n",
       "      <th>0</th>\n",
       "      <td>1</td>\n",
       "      <td>11</td>\n",
       "    </tr>\n",
       "    <tr>\n",
       "      <th>1</th>\n",
       "      <td>2</td>\n",
       "      <td>22</td>\n",
       "    </tr>\n",
       "    <tr>\n",
       "      <th>2</th>\n",
       "      <td>3</td>\n",
       "      <td>33</td>\n",
       "    </tr>\n",
       "    <tr>\n",
       "      <th>0</th>\n",
       "      <td>1</td>\n",
       "      <td>11</td>\n",
       "    </tr>\n",
       "    <tr>\n",
       "      <th>1</th>\n",
       "      <td>2</td>\n",
       "      <td>22</td>\n",
       "    </tr>\n",
       "    <tr>\n",
       "      <th>2</th>\n",
       "      <td>3</td>\n",
       "      <td>33</td>\n",
       "    </tr>\n",
       "    <tr>\n",
       "      <th>0</th>\n",
       "      <td>1</td>\n",
       "      <td>11</td>\n",
       "    </tr>\n",
       "    <tr>\n",
       "      <th>1</th>\n",
       "      <td>2</td>\n",
       "      <td>22</td>\n",
       "    </tr>\n",
       "    <tr>\n",
       "      <th>2</th>\n",
       "      <td>3</td>\n",
       "      <td>33</td>\n",
       "    </tr>\n",
       "  </tbody>\n",
       "</table>\n",
       "</div>"
      ],
      "text/plain": [
       "   x   y\n",
       "0  1  11\n",
       "1  2  22\n",
       "2  3  33\n",
       "0  1  11\n",
       "1  2  22\n",
       "2  3  33\n",
       "0  1  11\n",
       "1  2  22\n",
       "2  3  33\n",
       "0  1  11\n",
       "1  2  22\n",
       "2  3  33"
      ]
     },
     "execution_count": 174,
     "metadata": {},
     "output_type": "execute_result"
    }
   ],
   "source": [
    "f"
   ]
  },
  {
   "cell_type": "markdown",
   "metadata": {},
   "source": [
    "## High level loader design"
   ]
  },
  {
   "cell_type": "code",
   "execution_count": null,
   "metadata": {},
   "outputs": [],
   "source": [
    "class Loader:\n",
    "    def symbols(self) -> list:\n",
    "        pass\n",
    "\n",
    "    def timerange(self) -> tuple:\n",
    "        pass\n",
    "\n",
    "    def timeframes(self) -> list:\n",
    "        pass\n",
    "\n",
    "    def ohlc(self, timeframe: str, start=None, end=None) -> list:\n",
    "        pass\n",
    "\n",
    "    def quotes(self):\n",
    "        pass\n",
    "\n",
    "    def trades(self):\n",
    "        pass"
   ]
  },
  {
   "cell_type": "markdown",
   "metadata": {},
   "source": [
    "# KDB"
   ]
  },
  {
   "cell_type": "code",
   "execution_count": null,
   "metadata": {},
   "outputs": [],
   "source": []
  },
  {
   "cell_type": "markdown",
   "metadata": {},
   "source": [
    "# Misc utils tests"
   ]
  },
  {
   "cell_type": "code",
   "execution_count": null,
   "metadata": {},
   "outputs": [],
   "source": [
    "from itertools import islice\n",
    "\n",
    "def chunked_iterable(iterable, chunk_size):\n",
    "    it = iter(iterable)\n",
    "    while True:\n",
    "        chunk = list(islice(it, chunk_size))\n",
    "        if not chunk:\n",
    "            break\n",
    "        yield chunk"
   ]
  },
  {
   "cell_type": "code",
   "execution_count": null,
   "metadata": {},
   "outputs": [
    {
     "name": "stdout",
     "output_type": "stream",
     "text": [
      "[1, 2, 3, 4, 5, 6, 7, 8, 9, 10]\n",
      "[11, 12, 13, 14, 15, 16, 17, 18, 19, 20]\n",
      "[21, 22, 23, 24, 25, 26, 27, 28, 29, 30]\n",
      "[31, 32, 33, 34, 35, 36, 37, 38, 39, 40]\n",
      "[41, 42, 43, 44, 45, 46, 47, 48, 49, 50]\n",
      "[51, 52, 53, 54, 55, 56, 57, 58, 59, 60]\n",
      "[61, 62, 63, 64, 65, 66, 67, 68, 69, 70]\n",
      "[71, 72, 73, 74, 75, 76, 77, 78, 79, 80]\n",
      "[81, 82, 83, 84, 85, 86, 87, 88, 89, 90]\n",
      "[91, 92, 93, 94, 95, 96, 97, 98, 99]\n"
     ]
    }
   ],
   "source": [
    "for p in chunked_iterable(np.arange(1,100), 10):\n",
    "    print(p)"
   ]
  },
  {
   "cell_type": "code",
   "execution_count": null,
   "metadata": {},
   "outputs": [
    {
     "name": "stdout",
     "output_type": "stream",
     "text": [
      "2333541\n"
     ]
    }
   ],
   "source": [
    "def csv_fast_detect_number_of_lines(file):\n",
    "    chunk = 1024 * 1024 * 512 # Process 500 MB at a time.\n",
    "    f = np.memmap(file)\n",
    "    num_newlines = sum(np.sum(f[i:i+chunk] == ord('\\n'))\n",
    "    for i in range(0, len(f), chunk))\n",
    "    del f\n",
    "    print(num_newlines)\n",
    "\n",
    "csv_fast_detect_number_of_lines('data/BTCUSDT_ohlcv_M1.csv')"
   ]
  }
 ],
 "metadata": {
  "kernelspec": {
   "display_name": "py39",
   "language": "python",
   "name": "python3"
  },
  "language_info": {
   "codemirror_mode": {
    "name": "ipython",
    "version": 3
   },
   "file_extension": ".py",
   "mimetype": "text/x-python",
   "name": "python",
   "nbconvert_exporter": "python",
   "pygments_lexer": "ipython3",
   "version": "3.9.13"
  }
 },
 "nbformat": 4,
 "nbformat_minor": 2
}
