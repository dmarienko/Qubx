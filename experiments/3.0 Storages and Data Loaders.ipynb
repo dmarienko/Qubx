{
 "cells": [
  {
   "cell_type": "code",
   "execution_count": 1,
   "metadata": {},
   "outputs": [
    {
     "name": "stdout",
     "output_type": "stream",
     "text": [
      " >  [\u001b[32mdev\u001b[0m] \u001b[31minstalling cython rebuilding hook\u001b[0m\n",
      "\n",
      "                   \u001b[31m╻\u001b[0m\n",
      "   \u001b[32m┏┓      ╻     \u001b[0m  \u001b[31m┃\u001b[0m  \u001b[33m┏┓\u001b[0m       \u001b[36mQuantitative Backtesting Environment\u001b[0m \n",
      "   \u001b[32m┃┃  ┓┏  ┣┓  ┏┓\u001b[0m  \u001b[31m┃\u001b[0m  \u001b[33m┏┛\u001b[0m       \n",
      "   \u001b[32m┗┻  ┗┻  ┗┛  ┗ \u001b[0m  \u001b[31m┃\u001b[0m  \u001b[33m┗━\u001b[0m       (c) 2024,  ver. \u001b[35mDev\u001b[0m\n",
      "                   \u001b[31m╹\u001b[0m       \n",
      "\n"
     ]
    }
   ],
   "source": [
    "import sys, os, re; sys.path = ([\"../src/\", \"../\"] if re.match(r'^(\\w\\:\\\\)|(/)', os.getcwd()) else [])+ sys.path \n",
    "from typing import Any, List, Tuple, Dict, Optional, Union\n",
    "from itertools import islice\n",
    "\n",
    "import qubx\n",
    "%qubxd dev\n",
    "\n",
    "%load_ext autoreload\n",
    "%autoreload 2\n",
    "\n",
    "from qubx.core.series import TimeSeries, OHLCV, time_as_nsec, Quote, Trade\n",
    "from qubx.data.readers import (\n",
    "    CsvDataReader, QuotesDataProcessor, OhlcvDataProcessor, QuotesFromOHLCVDataProcessor, \n",
    "    OhlcvPandasDataProcessor, STOCK_DAILY_SESSION\n",
    ")\n",
    "from qubx.ta.indicators import (sma, ema, tema, dema, kama, highest, lowest)\n",
    "from qubx.utils.pandas import scols\n",
    "import numpy as np"
   ]
  },
  {
   "cell_type": "code",
   "execution_count": 2,
   "metadata": {},
   "outputs": [],
   "source": [
    "from qubx.core.series import TimeSeries; from qubx.ta.indicators import sma; del sys.modules['qubx.core.series']; del sys.modules['qubx.ta.indicators']\n",
    "from qubx.core.series import TimeSeries, OHLCV, time_as_nsec, Quote, Trade\n",
    "from qubx.ta.indicators import (sma, ema, tema, dema, kama, highest, lowest)"
   ]
  },
  {
   "cell_type": "markdown",
   "metadata": {},
   "source": [
    "# Common design"
   ]
  },
  {
   "cell_type": "markdown",
   "metadata": {},
   "source": [
    "## Standard CSV readers"
   ]
  },
  {
   "cell_type": "markdown",
   "metadata": {},
   "source": [
    "Takes too much time for loading big data"
   ]
  },
  {
   "cell_type": "code",
   "execution_count": 3,
   "metadata": {},
   "outputs": [],
   "source": [
    "r0 = CsvDataReader('../tests/data/csv/quotes.csv', QuotesDataProcessor())\n",
    "# r0.read()"
   ]
  },
  {
   "cell_type": "code",
   "execution_count": 4,
   "metadata": {},
   "outputs": [],
   "source": [
    "qts = r0.read('2017-08-24 13:09:29')"
   ]
  },
  {
   "cell_type": "code",
   "execution_count": 5,
   "metadata": {},
   "outputs": [
    {
     "data": {
      "text/plain": [
       "True"
      ]
     },
     "execution_count": 5,
     "metadata": {},
     "output_type": "execute_result"
    }
   ],
   "source": [
    "qts[-1].ask == 9.39"
   ]
  },
  {
   "cell_type": "code",
   "execution_count": 4,
   "metadata": {},
   "outputs": [],
   "source": [
    "T = lambda t: np.datetime64(t, 'ns')\n",
    "# r0.read()"
   ]
  },
  {
   "cell_type": "code",
   "execution_count": 6,
   "metadata": {},
   "outputs": [],
   "source": [
    "r1 = CsvDataReader('../tests/data/csv/BTCUSDT_ohlcv_M1.csv.gz', OhlcvDataProcessor('test0'))\n",
    "r2 = CsvDataReader('../tests/data/csv/BTCUSDT_ohlcv_M1_sec.csv.gz', OhlcvDataProcessor('test1'))\n",
    "r2x = CsvDataReader('../tests/data/csv/BTCUSDT_ohlcv_M1_sec.csv.gz', QuotesFromOHLCVDataProcessor(trades=1))\n",
    "r3 = CsvDataReader('../tests/data/csv/AAPL.csv', OhlcvDataProcessor('AAPL'), timestamp_parsers=[\"%m/%d/%Y\", \"%d-%m-%Y\"])\n",
    "r4 = CsvDataReader('../tests/data/csv/SPY.csv', OhlcvDataProcessor('SPY'), timestamp_parsers=[\"%Y-%m-%d\"])\n",
    "# r5 = CsvDataReader('../../BTCUSDT_ohlcv_M1.csv.gz', OhlcvDataProcessor('TestBig'))\n",
    "r4x = CsvDataReader('../tests/data/csv/SPY.csv', QuotesFromOHLCVDataProcessor(\n",
    "    trades=1,\n",
    "    daily_session_start_end=STOCK_DAILY_SESSION\n",
    "), timestamp_parsers=[\"%Y-%m-%d\"])"
   ]
  },
  {
   "cell_type": "code",
   "execution_count": 4,
   "metadata": {},
   "outputs": [],
   "source": [
    "from qubx.data.readers import (\n",
    "    CsvDataReader, QuotesDataProcessor, OhlcvDataProcessor, QuotesFromOHLCVDataProcessor, \n",
    "    OhlcvPandasDataProcessor, STOCK_DAILY_SESSION\n",
    ")"
   ]
  },
  {
   "cell_type": "code",
   "execution_count": 11,
   "metadata": {},
   "outputs": [
    {
     "data": {
      "text/plain": [
       "array([], dtype=float64)"
      ]
     },
     "execution_count": 11,
     "metadata": {},
     "output_type": "execute_result"
    },
    {
     "ename": "",
     "evalue": "",
     "output_type": "error",
     "traceback": [
      "\u001b[1;31mThe Kernel crashed while executing code in the current cell or a previous cell. \n",
      "\u001b[1;31mPlease review the code in the cell(s) to identify a possible cause of the failure. \n",
      "\u001b[1;31mClick <a href='https://aka.ms/vscodeJupyterKernelCrash'>here</a> for more info. \n",
      "\u001b[1;31mView Jupyter <a href='command:jupyter.viewOutput'>log</a> for further details."
     ]
    }
   ],
   "source": [
    "np.empty(0)"
   ]
  },
  {
   "cell_type": "code",
   "execution_count": 5,
   "metadata": {},
   "outputs": [
    {
     "ename": "ValueError",
     "evalue": "Length of values (0) does not match length of index (65178)",
     "output_type": "error",
     "traceback": [
      "\u001b[1;31m---------------------------------------------------------------------------\u001b[0m",
      "\u001b[1;31mValueError\u001b[0m                                Traceback (most recent call last)",
      "Cell \u001b[1;32mIn[5], line 2\u001b[0m\n\u001b[0;32m      1\u001b[0m r0 \u001b[38;5;241m=\u001b[39m CsvDataReader(\u001b[38;5;124m'\u001b[39m\u001b[38;5;124m../tests/data/csv/BTCUSDT_ohlcv_M1.csv.gz\u001b[39m\u001b[38;5;124m'\u001b[39m, OhlcvPandasDataProcessor())\n\u001b[1;32m----> 2\u001b[0m \u001b[43mr0\u001b[49m\u001b[38;5;241;43m.\u001b[39;49m\u001b[43mread\u001b[49m\u001b[43m(\u001b[49m\u001b[43m)\u001b[49m\n",
      "File \u001b[1;32mc:\\Users\\dmitr\\devs\\Qubx\\experiments\\../src\\qubx\\data\\readers.py:401\u001b[0m, in \u001b[0;36mCsvDataReader.read\u001b[1;34m(self, start, stop)\u001b[0m\n\u001b[0;32m    396\u001b[0m     data \u001b[38;5;241m=\u001b[39m [\n\u001b[0;32m    397\u001b[0m         \u001b[38;5;66;03m# - in some cases we need to convert time index to primitive type\u001b[39;00m\n\u001b[0;32m    398\u001b[0m         _time_cast_function(selected_table[k]\u001b[38;5;241m.\u001b[39mchunk(n))\u001b[38;5;241m.\u001b[39mto_numpy() \u001b[38;5;28;01mif\u001b[39;00m k \u001b[38;5;241m==\u001b[39m _time_field_idx \u001b[38;5;28;01melse\u001b[39;00m selected_table[k]\u001b[38;5;241m.\u001b[39mchunk(n)\u001b[38;5;241m.\u001b[39mto_numpy()\n\u001b[0;32m    399\u001b[0m         \u001b[38;5;28;01mfor\u001b[39;00m k \u001b[38;5;129;01min\u001b[39;00m \u001b[38;5;28mrange\u001b[39m(selected_table\u001b[38;5;241m.\u001b[39mnum_columns)]\n\u001b[0;32m    400\u001b[0m     \u001b[38;5;28mself\u001b[39m\u001b[38;5;241m.\u001b[39m_processor\u001b[38;5;241m.\u001b[39mprocess_data(data)\n\u001b[1;32m--> 401\u001b[0m \u001b[38;5;28;01mreturn\u001b[39;00m \u001b[38;5;28;43mself\u001b[39;49m\u001b[38;5;241;43m.\u001b[39;49m\u001b[43m_processor\u001b[49m\u001b[38;5;241;43m.\u001b[39;49m\u001b[43mget_result\u001b[49m\u001b[43m(\u001b[49m\u001b[43m)\u001b[49m\n",
      "File \u001b[1;32mc:\\Users\\dmitr\\devs\\Qubx\\experiments\\../src\\qubx\\data\\readers.py:308\u001b[0m, in \u001b[0;36mOhlcvPandasDataProcessor.get_result\u001b[1;34m(self)\u001b[0m\n\u001b[0;32m    304\u001b[0m \u001b[38;5;28;01mdef\u001b[39;00m \u001b[38;5;21mget_result\u001b[39m(\u001b[38;5;28mself\u001b[39m) \u001b[38;5;241m-\u001b[39m\u001b[38;5;241m>\u001b[39m Any:\n\u001b[0;32m    305\u001b[0m     \u001b[38;5;66;03m# self.ohlc.index.name = 'time'\u001b[39;00m\n\u001b[0;32m    306\u001b[0m     \u001b[38;5;66;03m# return self.ohlc\u001b[39;00m\n\u001b[1;32m--> 308\u001b[0m     r \u001b[38;5;241m=\u001b[39m \u001b[43mpd\u001b[49m\u001b[38;5;241;43m.\u001b[39;49m\u001b[43mDataFrame\u001b[49m\u001b[43m(\u001b[49m\n\u001b[0;32m    309\u001b[0m \u001b[43m        \u001b[49m\u001b[43m{\u001b[49m\n\u001b[0;32m    310\u001b[0m \u001b[43m            \u001b[49m\u001b[38;5;124;43m'\u001b[39;49m\u001b[38;5;124;43mopen\u001b[39;49m\u001b[38;5;124;43m'\u001b[39;49m\u001b[43m:\u001b[49m\u001b[43m \u001b[49m\u001b[38;5;28;43mself\u001b[39;49m\u001b[38;5;241;43m.\u001b[39;49m\u001b[43m_open\u001b[49m\u001b[43m,\u001b[49m\u001b[43m \u001b[49m\n\u001b[0;32m    311\u001b[0m \u001b[43m            \u001b[49m\u001b[38;5;124;43m'\u001b[39;49m\u001b[38;5;124;43mhigh\u001b[39;49m\u001b[38;5;124;43m'\u001b[39;49m\u001b[43m:\u001b[49m\u001b[43m \u001b[49m\u001b[38;5;28;43mself\u001b[39;49m\u001b[38;5;241;43m.\u001b[39;49m\u001b[43m_high\u001b[49m\u001b[43m,\u001b[49m\u001b[43m \u001b[49m\n\u001b[0;32m    312\u001b[0m \u001b[43m            \u001b[49m\u001b[38;5;124;43m'\u001b[39;49m\u001b[38;5;124;43mlow\u001b[39;49m\u001b[38;5;124;43m'\u001b[39;49m\u001b[43m:\u001b[49m\u001b[43m \u001b[49m\u001b[38;5;28;43mself\u001b[39;49m\u001b[38;5;241;43m.\u001b[39;49m\u001b[43m_low\u001b[49m\u001b[43m,\u001b[49m\u001b[43m \u001b[49m\n\u001b[0;32m    313\u001b[0m \u001b[43m            \u001b[49m\u001b[38;5;124;43m'\u001b[39;49m\u001b[38;5;124;43mclose\u001b[39;49m\u001b[38;5;124;43m'\u001b[39;49m\u001b[43m:\u001b[49m\u001b[43m \u001b[49m\u001b[38;5;28;43mself\u001b[39;49m\u001b[38;5;241;43m.\u001b[39;49m\u001b[43m_close\u001b[49m\u001b[43m,\u001b[49m\u001b[43m \u001b[49m\n\u001b[0;32m    314\u001b[0m \u001b[43m            \u001b[49m\u001b[38;5;124;43m'\u001b[39;49m\u001b[38;5;124;43mvolume\u001b[39;49m\u001b[38;5;124;43m'\u001b[39;49m\u001b[43m:\u001b[49m\u001b[43m \u001b[49m\u001b[38;5;28;43mself\u001b[39;49m\u001b[38;5;241;43m.\u001b[39;49m\u001b[43m_volume\u001b[49m\u001b[43m \u001b[49m\u001b[38;5;28;43;01mif\u001b[39;49;00m\u001b[43m \u001b[49m\u001b[38;5;28;43mself\u001b[39;49m\u001b[38;5;241;43m.\u001b[39;49m\u001b[43m_volume_idx\u001b[49m\u001b[43m \u001b[49m\u001b[38;5;28;43;01melse\u001b[39;49;00m\u001b[43m \u001b[49m\u001b[43m[\u001b[49m\u001b[43m]\u001b[49m\u001b[43m,\u001b[49m\n\u001b[0;32m    315\u001b[0m \u001b[43m            \u001b[49m\u001b[38;5;124;43m'\u001b[39;49m\u001b[38;5;124;43mtaker_buy_quote_volume\u001b[39;49m\u001b[38;5;124;43m'\u001b[39;49m\u001b[43m:\u001b[49m\u001b[43m \u001b[49m\u001b[38;5;28;43mself\u001b[39;49m\u001b[38;5;241;43m.\u001b[39;49m\u001b[43m_bvolume\u001b[49m\u001b[43m \u001b[49m\u001b[38;5;28;43;01mif\u001b[39;49;00m\u001b[43m \u001b[49m\u001b[38;5;28;43mself\u001b[39;49m\u001b[38;5;241;43m.\u001b[39;49m\u001b[43m_b_volume_idx\u001b[49m\u001b[43m \u001b[49m\u001b[38;5;28;43;01melse\u001b[39;49;00m\u001b[43m \u001b[49m\u001b[43m[\u001b[49m\u001b[43m]\u001b[49m\n\u001b[0;32m    316\u001b[0m \u001b[43m        \u001b[49m\u001b[43m}\u001b[49m\u001b[43m,\u001b[49m\n\u001b[0;32m    317\u001b[0m \u001b[43m        \u001b[49m\u001b[43mindex\u001b[49m\u001b[43m \u001b[49m\u001b[38;5;241;43m=\u001b[39;49m\u001b[43m \u001b[49m\u001b[38;5;28;43mself\u001b[39;49m\u001b[38;5;241;43m.\u001b[39;49m\u001b[43m_time\u001b[49m\n\u001b[0;32m    318\u001b[0m \u001b[43m    \u001b[49m\u001b[43m)\u001b[49m\n\u001b[0;32m    319\u001b[0m     \u001b[38;5;28mprint\u001b[39m(r)\n\u001b[0;32m    320\u001b[0m     \u001b[38;5;28;01mreturn\u001b[39;00m r\u001b[38;5;241m.\u001b[39msort_index()\n",
      "File \u001b[1;32mc:\\Users\\dmitr\\devs\\venvs\\p311qbx\\Lib\\site-packages\\pandas\\core\\frame.py:767\u001b[0m, in \u001b[0;36mDataFrame.__init__\u001b[1;34m(self, data, index, columns, dtype, copy)\u001b[0m\n\u001b[0;32m    761\u001b[0m     mgr \u001b[38;5;241m=\u001b[39m \u001b[38;5;28mself\u001b[39m\u001b[38;5;241m.\u001b[39m_init_mgr(\n\u001b[0;32m    762\u001b[0m         data, axes\u001b[38;5;241m=\u001b[39m{\u001b[38;5;124m\"\u001b[39m\u001b[38;5;124mindex\u001b[39m\u001b[38;5;124m\"\u001b[39m: index, \u001b[38;5;124m\"\u001b[39m\u001b[38;5;124mcolumns\u001b[39m\u001b[38;5;124m\"\u001b[39m: columns}, dtype\u001b[38;5;241m=\u001b[39mdtype, copy\u001b[38;5;241m=\u001b[39mcopy\n\u001b[0;32m    763\u001b[0m     )\n\u001b[0;32m    765\u001b[0m \u001b[38;5;28;01melif\u001b[39;00m \u001b[38;5;28misinstance\u001b[39m(data, \u001b[38;5;28mdict\u001b[39m):\n\u001b[0;32m    766\u001b[0m     \u001b[38;5;66;03m# GH#38939 de facto copy defaults to False only in non-dict cases\u001b[39;00m\n\u001b[1;32m--> 767\u001b[0m     mgr \u001b[38;5;241m=\u001b[39m \u001b[43mdict_to_mgr\u001b[49m\u001b[43m(\u001b[49m\u001b[43mdata\u001b[49m\u001b[43m,\u001b[49m\u001b[43m \u001b[49m\u001b[43mindex\u001b[49m\u001b[43m,\u001b[49m\u001b[43m \u001b[49m\u001b[43mcolumns\u001b[49m\u001b[43m,\u001b[49m\u001b[43m \u001b[49m\u001b[43mdtype\u001b[49m\u001b[38;5;241;43m=\u001b[39;49m\u001b[43mdtype\u001b[49m\u001b[43m,\u001b[49m\u001b[43m \u001b[49m\u001b[43mcopy\u001b[49m\u001b[38;5;241;43m=\u001b[39;49m\u001b[43mcopy\u001b[49m\u001b[43m,\u001b[49m\u001b[43m \u001b[49m\u001b[43mtyp\u001b[49m\u001b[38;5;241;43m=\u001b[39;49m\u001b[43mmanager\u001b[49m\u001b[43m)\u001b[49m\n\u001b[0;32m    768\u001b[0m \u001b[38;5;28;01melif\u001b[39;00m \u001b[38;5;28misinstance\u001b[39m(data, ma\u001b[38;5;241m.\u001b[39mMaskedArray):\n\u001b[0;32m    769\u001b[0m     \u001b[38;5;28;01mfrom\u001b[39;00m \u001b[38;5;21;01mnumpy\u001b[39;00m\u001b[38;5;21;01m.\u001b[39;00m\u001b[38;5;21;01mma\u001b[39;00m \u001b[38;5;28;01mimport\u001b[39;00m mrecords\n",
      "File \u001b[1;32mc:\\Users\\dmitr\\devs\\venvs\\p311qbx\\Lib\\site-packages\\pandas\\core\\internals\\construction.py:503\u001b[0m, in \u001b[0;36mdict_to_mgr\u001b[1;34m(data, index, columns, dtype, typ, copy)\u001b[0m\n\u001b[0;32m    499\u001b[0m     \u001b[38;5;28;01melse\u001b[39;00m:\n\u001b[0;32m    500\u001b[0m         \u001b[38;5;66;03m# dtype check to exclude e.g. range objects, scalars\u001b[39;00m\n\u001b[0;32m    501\u001b[0m         arrays \u001b[38;5;241m=\u001b[39m [x\u001b[38;5;241m.\u001b[39mcopy() \u001b[38;5;28;01mif\u001b[39;00m \u001b[38;5;28mhasattr\u001b[39m(x, \u001b[38;5;124m\"\u001b[39m\u001b[38;5;124mdtype\u001b[39m\u001b[38;5;124m\"\u001b[39m) \u001b[38;5;28;01melse\u001b[39;00m x \u001b[38;5;28;01mfor\u001b[39;00m x \u001b[38;5;129;01min\u001b[39;00m arrays]\n\u001b[1;32m--> 503\u001b[0m \u001b[38;5;28;01mreturn\u001b[39;00m \u001b[43marrays_to_mgr\u001b[49m\u001b[43m(\u001b[49m\u001b[43marrays\u001b[49m\u001b[43m,\u001b[49m\u001b[43m \u001b[49m\u001b[43mcolumns\u001b[49m\u001b[43m,\u001b[49m\u001b[43m \u001b[49m\u001b[43mindex\u001b[49m\u001b[43m,\u001b[49m\u001b[43m \u001b[49m\u001b[43mdtype\u001b[49m\u001b[38;5;241;43m=\u001b[39;49m\u001b[43mdtype\u001b[49m\u001b[43m,\u001b[49m\u001b[43m \u001b[49m\u001b[43mtyp\u001b[49m\u001b[38;5;241;43m=\u001b[39;49m\u001b[43mtyp\u001b[49m\u001b[43m,\u001b[49m\u001b[43m \u001b[49m\u001b[43mconsolidate\u001b[49m\u001b[38;5;241;43m=\u001b[39;49m\u001b[43mcopy\u001b[49m\u001b[43m)\u001b[49m\n",
      "File \u001b[1;32mc:\\Users\\dmitr\\devs\\venvs\\p311qbx\\Lib\\site-packages\\pandas\\core\\internals\\construction.py:119\u001b[0m, in \u001b[0;36marrays_to_mgr\u001b[1;34m(arrays, columns, index, dtype, verify_integrity, typ, consolidate)\u001b[0m\n\u001b[0;32m    116\u001b[0m         index \u001b[38;5;241m=\u001b[39m ensure_index(index)\n\u001b[0;32m    118\u001b[0m     \u001b[38;5;66;03m# don't force copy because getting jammed in an ndarray anyway\u001b[39;00m\n\u001b[1;32m--> 119\u001b[0m     arrays, refs \u001b[38;5;241m=\u001b[39m \u001b[43m_homogenize\u001b[49m\u001b[43m(\u001b[49m\u001b[43marrays\u001b[49m\u001b[43m,\u001b[49m\u001b[43m \u001b[49m\u001b[43mindex\u001b[49m\u001b[43m,\u001b[49m\u001b[43m \u001b[49m\u001b[43mdtype\u001b[49m\u001b[43m)\u001b[49m\n\u001b[0;32m    120\u001b[0m     \u001b[38;5;66;03m# _homogenize ensures\u001b[39;00m\n\u001b[0;32m    121\u001b[0m     \u001b[38;5;66;03m#  - all(len(x) == len(index) for x in arrays)\u001b[39;00m\n\u001b[0;32m    122\u001b[0m     \u001b[38;5;66;03m#  - all(x.ndim == 1 for x in arrays)\u001b[39;00m\n\u001b[1;32m   (...)\u001b[0m\n\u001b[0;32m    125\u001b[0m \n\u001b[0;32m    126\u001b[0m \u001b[38;5;28;01melse\u001b[39;00m:\n\u001b[0;32m    127\u001b[0m     index \u001b[38;5;241m=\u001b[39m ensure_index(index)\n",
      "File \u001b[1;32mc:\\Users\\dmitr\\devs\\venvs\\p311qbx\\Lib\\site-packages\\pandas\\core\\internals\\construction.py:630\u001b[0m, in \u001b[0;36m_homogenize\u001b[1;34m(data, index, dtype)\u001b[0m\n\u001b[0;32m    627\u001b[0m         val \u001b[38;5;241m=\u001b[39m lib\u001b[38;5;241m.\u001b[39mfast_multiget(val, oindex\u001b[38;5;241m.\u001b[39m_values, default\u001b[38;5;241m=\u001b[39mnp\u001b[38;5;241m.\u001b[39mnan)\n\u001b[0;32m    629\u001b[0m     val \u001b[38;5;241m=\u001b[39m sanitize_array(val, index, dtype\u001b[38;5;241m=\u001b[39mdtype, copy\u001b[38;5;241m=\u001b[39m\u001b[38;5;28;01mFalse\u001b[39;00m)\n\u001b[1;32m--> 630\u001b[0m     \u001b[43mcom\u001b[49m\u001b[38;5;241;43m.\u001b[39;49m\u001b[43mrequire_length_match\u001b[49m\u001b[43m(\u001b[49m\u001b[43mval\u001b[49m\u001b[43m,\u001b[49m\u001b[43m \u001b[49m\u001b[43mindex\u001b[49m\u001b[43m)\u001b[49m\n\u001b[0;32m    631\u001b[0m     refs\u001b[38;5;241m.\u001b[39mappend(\u001b[38;5;28;01mNone\u001b[39;00m)\n\u001b[0;32m    633\u001b[0m homogenized\u001b[38;5;241m.\u001b[39mappend(val)\n",
      "File \u001b[1;32mc:\\Users\\dmitr\\devs\\venvs\\p311qbx\\Lib\\site-packages\\pandas\\core\\common.py:573\u001b[0m, in \u001b[0;36mrequire_length_match\u001b[1;34m(data, index)\u001b[0m\n\u001b[0;32m    569\u001b[0m \u001b[38;5;250m\u001b[39m\u001b[38;5;124;03m\"\"\"\u001b[39;00m\n\u001b[0;32m    570\u001b[0m \u001b[38;5;124;03mCheck the length of data matches the length of the index.\u001b[39;00m\n\u001b[0;32m    571\u001b[0m \u001b[38;5;124;03m\"\"\"\u001b[39;00m\n\u001b[0;32m    572\u001b[0m \u001b[38;5;28;01mif\u001b[39;00m \u001b[38;5;28mlen\u001b[39m(data) \u001b[38;5;241m!=\u001b[39m \u001b[38;5;28mlen\u001b[39m(index):\n\u001b[1;32m--> 573\u001b[0m     \u001b[38;5;28;01mraise\u001b[39;00m \u001b[38;5;167;01mValueError\u001b[39;00m(\n\u001b[0;32m    574\u001b[0m         \u001b[38;5;124m\"\u001b[39m\u001b[38;5;124mLength of values \u001b[39m\u001b[38;5;124m\"\u001b[39m\n\u001b[0;32m    575\u001b[0m         \u001b[38;5;124mf\u001b[39m\u001b[38;5;124m\"\u001b[39m\u001b[38;5;124m(\u001b[39m\u001b[38;5;132;01m{\u001b[39;00m\u001b[38;5;28mlen\u001b[39m(data)\u001b[38;5;132;01m}\u001b[39;00m\u001b[38;5;124m) \u001b[39m\u001b[38;5;124m\"\u001b[39m\n\u001b[0;32m    576\u001b[0m         \u001b[38;5;124m\"\u001b[39m\u001b[38;5;124mdoes not match length of index \u001b[39m\u001b[38;5;124m\"\u001b[39m\n\u001b[0;32m    577\u001b[0m         \u001b[38;5;124mf\u001b[39m\u001b[38;5;124m\"\u001b[39m\u001b[38;5;124m(\u001b[39m\u001b[38;5;132;01m{\u001b[39;00m\u001b[38;5;28mlen\u001b[39m(index)\u001b[38;5;132;01m}\u001b[39;00m\u001b[38;5;124m)\u001b[39m\u001b[38;5;124m\"\u001b[39m\n\u001b[0;32m    578\u001b[0m     )\n",
      "\u001b[1;31mValueError\u001b[0m: Length of values (0) does not match length of index (65178)"
     ]
    }
   ],
   "source": [
    "r0 = CsvDataReader('../tests/data/csv/BTCUSDT_ohlcv_M1.csv.gz', OhlcvPandasDataProcessor())\n",
    "r0.read()"
   ]
  },
  {
   "cell_type": "code",
   "execution_count": 6,
   "metadata": {},
   "outputs": [],
   "source": [
    "# %%time\n",
    "# data = r1.read('2024-01-08 11:05:00', '2024-01-08 11:10:00')\n",
    "# d4 = r4.read('2000-01-01 11:12:34')\n",
    "\n",
    "# data = r1.read('2024-01-08', '2024-01-08 00:59')\n",
    "# data = r1.read('2021-01-01', '2000-05-01')\n",
    "# data = r1.read('2021-01-01', '2000-05-01')\n",
    "# data = r5.read()\n",
    "# q_data = r4x.read()\n",
    "# s_data = r4.read()\n",
    "q_data = r2x.read()\n",
    "s_data = r2.read()"
   ]
  },
  {
   "cell_type": "code",
   "execution_count": 7,
   "metadata": {},
   "outputs": [],
   "source": [
    "s2 = OHLCV('Test1', '1Min')\n",
    "for q in q_data:\n",
    "    if isinstance(q, Trade):\n",
    "        s2.update(q.time, q.price, q.size)\n",
    "    else:\n",
    "        s2.update(q.time, q.mid_price())\n",
    "    # break"
   ]
  },
  {
   "cell_type": "code",
   "execution_count": 8,
   "metadata": {},
   "outputs": [
    {
     "data": {
      "text/plain": [
       "True"
      ]
     },
     "execution_count": 8,
     "metadata": {},
     "output_type": "execute_result"
    }
   ],
   "source": [
    "all((s2.pd() - s_data.pd()) < 1e-5)"
   ]
  },
  {
   "cell_type": "code",
   "execution_count": 9,
   "metadata": {},
   "outputs": [
    {
     "data": {
      "text/html": [
       "<div>\n",
       "<style scoped>\n",
       "    .dataframe tbody tr th:only-of-type {\n",
       "        vertical-align: middle;\n",
       "    }\n",
       "\n",
       "    .dataframe tbody tr th {\n",
       "        vertical-align: top;\n",
       "    }\n",
       "\n",
       "    .dataframe thead th {\n",
       "        text-align: right;\n",
       "    }\n",
       "</style>\n",
       "<table border=\"1\" class=\"dataframe\">\n",
       "  <thead>\n",
       "    <tr style=\"text-align: right;\">\n",
       "      <th></th>\n",
       "      <th>open</th>\n",
       "      <th>high</th>\n",
       "      <th>low</th>\n",
       "      <th>close</th>\n",
       "      <th>volume</th>\n",
       "    </tr>\n",
       "    <tr>\n",
       "      <th>timestamp</th>\n",
       "      <th></th>\n",
       "      <th></th>\n",
       "      <th></th>\n",
       "      <th></th>\n",
       "      <th></th>\n",
       "    </tr>\n",
       "  </thead>\n",
       "  <tbody>\n",
       "    <tr>\n",
       "      <th>2024-01-01 00:00:00</th>\n",
       "      <td>42314.0</td>\n",
       "      <td>42335.8</td>\n",
       "      <td>42289.6</td>\n",
       "      <td>42331.9</td>\n",
       "      <td>289.641</td>\n",
       "    </tr>\n",
       "    <tr>\n",
       "      <th>2024-01-01 00:01:00</th>\n",
       "      <td>42331.9</td>\n",
       "      <td>42353.1</td>\n",
       "      <td>42331.8</td>\n",
       "      <td>42350.4</td>\n",
       "      <td>202.444</td>\n",
       "    </tr>\n",
       "    <tr>\n",
       "      <th>2024-01-01 00:02:00</th>\n",
       "      <td>42350.4</td>\n",
       "      <td>42370.8</td>\n",
       "      <td>42349.6</td>\n",
       "      <td>42360.2</td>\n",
       "      <td>271.521</td>\n",
       "    </tr>\n",
       "    <tr>\n",
       "      <th>2024-01-01 00:03:00</th>\n",
       "      <td>42360.1</td>\n",
       "      <td>42405.8</td>\n",
       "      <td>42360.1</td>\n",
       "      <td>42405.8</td>\n",
       "      <td>392.238</td>\n",
       "    </tr>\n",
       "    <tr>\n",
       "      <th>2024-01-01 00:04:00</th>\n",
       "      <td>42405.7</td>\n",
       "      <td>42437.2</td>\n",
       "      <td>42405.7</td>\n",
       "      <td>42437.1</td>\n",
       "      <td>568.366</td>\n",
       "    </tr>\n",
       "    <tr>\n",
       "      <th>...</th>\n",
       "      <td>...</td>\n",
       "      <td>...</td>\n",
       "      <td>...</td>\n",
       "      <td>...</td>\n",
       "      <td>...</td>\n",
       "    </tr>\n",
       "    <tr>\n",
       "      <th>2024-02-15 06:13:00</th>\n",
       "      <td>51956.3</td>\n",
       "      <td>51977.9</td>\n",
       "      <td>51956.3</td>\n",
       "      <td>51977.2</td>\n",
       "      <td>86.380</td>\n",
       "    </tr>\n",
       "    <tr>\n",
       "      <th>2024-02-15 06:14:00</th>\n",
       "      <td>51977.8</td>\n",
       "      <td>51984.9</td>\n",
       "      <td>51961.5</td>\n",
       "      <td>51983.3</td>\n",
       "      <td>271.145</td>\n",
       "    </tr>\n",
       "    <tr>\n",
       "      <th>2024-02-15 06:15:00</th>\n",
       "      <td>51983.3</td>\n",
       "      <td>52015.0</td>\n",
       "      <td>51983.2</td>\n",
       "      <td>51995.9</td>\n",
       "      <td>191.007</td>\n",
       "    </tr>\n",
       "    <tr>\n",
       "      <th>2024-02-15 06:16:00</th>\n",
       "      <td>51996.0</td>\n",
       "      <td>52014.7</td>\n",
       "      <td>51965.9</td>\n",
       "      <td>51966.0</td>\n",
       "      <td>261.885</td>\n",
       "    </tr>\n",
       "    <tr>\n",
       "      <th>2024-02-15 06:17:00</th>\n",
       "      <td>51965.9</td>\n",
       "      <td>52004.7</td>\n",
       "      <td>51950.0</td>\n",
       "      <td>51950.4</td>\n",
       "      <td>223.358</td>\n",
       "    </tr>\n",
       "  </tbody>\n",
       "</table>\n",
       "<p>65178 rows × 5 columns</p>\n",
       "</div>"
      ],
      "text/plain": [
       "                        open     high      low    close   volume\n",
       "timestamp                                                       \n",
       "2024-01-01 00:00:00  42314.0  42335.8  42289.6  42331.9  289.641\n",
       "2024-01-01 00:01:00  42331.9  42353.1  42331.8  42350.4  202.444\n",
       "2024-01-01 00:02:00  42350.4  42370.8  42349.6  42360.2  271.521\n",
       "2024-01-01 00:03:00  42360.1  42405.8  42360.1  42405.8  392.238\n",
       "2024-01-01 00:04:00  42405.7  42437.2  42405.7  42437.1  568.366\n",
       "...                      ...      ...      ...      ...      ...\n",
       "2024-02-15 06:13:00  51956.3  51977.9  51956.3  51977.2   86.380\n",
       "2024-02-15 06:14:00  51977.8  51984.9  51961.5  51983.3  271.145\n",
       "2024-02-15 06:15:00  51983.3  52015.0  51983.2  51995.9  191.007\n",
       "2024-02-15 06:16:00  51996.0  52014.7  51965.9  51966.0  261.885\n",
       "2024-02-15 06:17:00  51965.9  52004.7  51950.0  51950.4  223.358\n",
       "\n",
       "[65178 rows x 5 columns]"
      ]
     },
     "execution_count": 9,
     "metadata": {},
     "output_type": "execute_result"
    }
   ],
   "source": [
    "s_data.pd()"
   ]
  },
  {
   "cell_type": "code",
   "execution_count": 12,
   "metadata": {},
   "outputs": [],
   "source": [
    "# np.datetime64(data.times[0], 'ns') == np.datetime64('2024-01-08T11:10:00.000000000')"
   ]
  },
  {
   "cell_type": "code",
   "execution_count": null,
   "metadata": {},
   "outputs": [],
   "source": [
    "# print(str(data))"
   ]
  },
  {
   "cell_type": "code",
   "execution_count": null,
   "metadata": {},
   "outputs": [],
   "source": [
    "# d4.close.plot()"
   ]
  },
  {
   "cell_type": "code",
   "execution_count": null,
   "metadata": {},
   "outputs": [],
   "source": [
    "# %%time\n",
    "# dx0 = pd.read_csv('data/BTCUSDT_ohlcv_M1.csv', parse_dates=True, index_col=['time'], engine=\"pyarrow\")"
   ]
  },
  {
   "cell_type": "code",
   "execution_count": 158,
   "metadata": {},
   "outputs": [
    {
     "data": {
      "text/plain": [
       "pyarrow.Table\n",
       "Date: date32[day]\n",
       "open: double\n",
       "high: double\n",
       "low: double\n",
       "close: double\n",
       "volume: double\n",
       "----\n",
       "Date: [[2000-01-03,2000-01-04,2000-01-05,2000-01-06,2000-01-07,...,2000-01-10,2000-01-11,2000-01-12,2000-01-13,2000-01-14]]\n",
       "open: [[107.404545309841,103.98585949558047,101.38228283794643,101.15588287295826,101.65396389794167,...,105.95558,105.63861840614187,104.75562164474871,104.66506129621452,106.15930686485927]]\n",
       "high: [[107.404545309841,104.37077420169946,102.53689364411323,102.51428774591652,105.59333799999999,...,106.43098837892867,105.84234580983004,104.75562164474871,105.5933379448276,106.83850929730367]]\n",
       "low: [[104.23493393897722,101.1671802569384,99.43523586964287,99.797478,101.47284324957117,...,105.07258350713381,103.9632524048443,103.51045051376147,103.80473821690417,105.75178540539264]]\n",
       "close: [[105.36693799999999,101.246443,101.427563,99.797478,105.59333799999999,...,105.95558,104.687735,103.646291,105.049976,106.47626799999999]]\n",
       "volume: [[8164300,8089800,12177900,6227200,8066500,...,5741700,7503700,6907700,5158300,7437300]]"
      ]
     },
     "execution_count": 158,
     "metadata": {},
     "output_type": "execute_result"
    }
   ],
   "source": [
    "from pyarrow import csv\n",
    "import pyarrow as pa\n",
    "table = csv.read_csv(\n",
    "    # 'data/BTCUSDT_ohlcv_M1_sec.csv', \n",
    "    # 'data/BTCUSDT_ohlcv_M1.csv.gz', \n",
    "    # 'data/AAPL.csv', \n",
    "    'data/SPY1.csv', \n",
    "    # 'data/quotes.csv', \n",
    "    # parse_options=csv.ParseOptions(ignore_empty_lines=True),\n",
    "    convert_options=csv.ConvertOptions(\n",
    "        # timestamp_parsers=[\"%d-%m-%Y\"]\n",
    "        timestamp_parsers=[\"%Y-%m-%d\"]\n",
    "    )\n",
    ")\n",
    "table"
   ]
  },
  {
   "cell_type": "code",
   "execution_count": 190,
   "metadata": {},
   "outputs": [
    {
     "data": {
      "text/plain": [
       "<pyarrow.Int64Scalar: 4>"
      ]
     },
     "execution_count": 190,
     "metadata": {},
     "output_type": "execute_result"
    }
   ],
   "source": [
    "# table[0].chunk(0).index(np.datetime64('2020-01-07', 's'))\n",
    "table[0].cast(pa.timestamp('ms')).index(np.datetime64('2000-01-07', 'ms'))"
   ]
  },
  {
   "cell_type": "code",
   "execution_count": 193,
   "metadata": {},
   "outputs": [
    {
     "data": {
      "text/plain": [
       "False"
      ]
     },
     "execution_count": 193,
     "metadata": {},
     "output_type": "execute_result"
    }
   ],
   "source": [
    "f = table.field(0)\n",
    "# f.type == pa.timestamp('ns')\n",
    "f.type == pa.timestamp('s')"
   ]
  },
  {
   "cell_type": "code",
   "execution_count": null,
   "metadata": {},
   "outputs": [],
   "source": [
    "n_chunks = table[table.column_names[0]].num_chunks\n",
    "\n",
    "for n in range(n_chunks):\n",
    "    print(n)\n",
    "    [table[k].chunk(n).to_numpy() for k in range(table.num_columns)]"
   ]
  },
  {
   "cell_type": "code",
   "execution_count": 155,
   "metadata": {},
   "outputs": [
    {
     "data": {
      "text/plain": [
       "array(['2000-01-03T00:00:00.000', '2000-01-04T00:00:00.000', '2000-01-05T00:00:00.000', '2000-01-06T00:00:00.000', '2000-01-07T00:00:00.000', '2000-01-08T00:00:00.000', '2000-01-09T00:00:00.000', '2000-01-10T00:00:00.000',\n",
       "       '2000-01-11T00:00:00.000', '2000-01-12T00:00:00.000', '2000-01-13T00:00:00.000', '2000-01-14T00:00:00.000'], dtype='datetime64[ms]')"
      ]
     },
     "execution_count": 155,
     "metadata": {},
     "output_type": "execute_result"
    }
   ],
   "source": [
    "table[0].chunk(0).cast(pa.timestamp('ms')).to_numpy()#(zero_copy_only=False)"
   ]
  },
  {
   "cell_type": "code",
   "execution_count": 55,
   "metadata": {},
   "outputs": [
    {
     "data": {
      "text/plain": [
       "pyarrow.Table\n",
       "time: timestamp[ns]\n",
       "open: double\n",
       "high: double\n",
       "low: double\n",
       "close: double\n",
       "volume: double\n",
       "----\n",
       "time: [[2024-01-01 00:00:00.000000000,2024-01-01 00:01:00.000000000,2024-01-01 00:02:00.000000000,2024-01-01 00:03:00.000000000,2024-01-01 00:04:00.000000000,...,2024-01-12 10:56:00.000000000,2024-01-12 10:57:00.000000000,2024-01-12 10:58:00.000000000,2024-01-12 10:59:00.000000000,2024-01-12 11:00:00.000000000],[2024-01-12 11:01:00.000000000,2024-01-12 11:02:00.000000000,2024-01-12 11:03:00.000000000,2024-01-12 11:04:00.000000000,2024-01-12 11:05:00.000000000,...,2024-01-23 22:39:00.000000000,2024-01-23 22:40:00.000000000,2024-01-23 22:41:00.000000000,2024-01-23 22:42:00.000000000,2024-01-23 22:43:00.000000000],[2024-01-23 22:44:00.000000000,2024-01-23 22:45:00.000000000,2024-01-23 22:46:00.000000000,2024-01-23 22:47:00.000000000,2024-01-23 22:48:00.000000000,...,2024-02-04 10:39:00.000000000,2024-02-04 10:40:00.000000000,2024-02-04 10:41:00.000000000,2024-02-04 10:42:00.000000000,2024-02-04 10:43:00.000000000],[2024-02-04 10:44:00.000000000,2024-02-04 10:45:00.000000000,2024-02-04 10:46:00.000000000,2024-02-04 10:47:00.000000000,2024-02-04 10:48:00.000000000,...,2024-02-15 06:13:00.000000000,2024-02-15 06:14:00.000000000,2024-02-15 06:15:00.000000000,2024-02-15 06:16:00.000000000,2024-02-15 06:17:00.000000000]]\n",
       "open: [[42314,42331.9,42350.4,42360.1,42405.7,...,46128.5,46114.8,46114.1,46072.1,46067.6],[46069.6,46129.8,46111.7,46127.8,46108.8,...,39428.9,39409.7,39435.9,39499.9,39526.8],[39553.4,39544.1,39539.5,39504.7,39480.4,...,42883.1,42889.9,42900.7,42900.7,42906.1],[42906.1,42906.1,42891.9,42889,42870.8,...,51956.3,51977.8,51983.3,51996,51965.9]]\n",
       "high: [[42335.8,42353.1,42370.8,42405.8,42437.2,...,46150,46129.2,46114.1,46103.4,46081.2],[46129.9,46129.9,46145.1,46146.7,46130.9,...,39428.9,39435.9,39500,39542.1,39556.2],[39558.5,39549.5,39539.6,39504.8,39480.4,...,42889.9,42900.8,42900.8,42906.2,42906.2],[42906.2,42906.2,42892,42889.1,42870.8,...,51977.9,51984.9,52015,52014.7,52004.7]]\n",
       "low: [[42289.6,42331.8,42349.6,42360.1,42405.7,...,46114.2,46108.3,46072.1,46065,46056],[46069.6,46090.1,46107.6,46104.2,46094.9,...,39408.2,39409.7,39435.8,39499.9,39525.4],[39544,39534.7,39504.7,39480.5,39440.9,...,42881.4,42889.8,42900.7,42900.7,42906.1],[42906.1,42891.7,42889,42870.8,42852.9,...,51956.3,51961.5,51983.2,51965.9,51950]]\n",
       "close: [[42331.9,42350.4,42360.2,42405.8,42437.1,...,46115,46114,46072.1,46067.6,46069.6],[46129.8,46111.8,46127.7,46108.9,46096.3,...,39409.7,39435.8,39500,39526.8,39553.4],[39544,39539.5,39504.7,39480.5,39449.8,...,42889.9,42900.7,42900.7,42906.2,42906.1],[42906.2,42891.9,42889.1,42870.8,42855.1,...,51977.2,51983.3,51995.9,51966,51950.4]]\n",
       "volume: [[289.641,202.444,271.521,392.238,568.366,...,347.731,114.403,137.128,210.582,131.802],[90.97,279.448,152.651,118.186,96.347,...,177.458,85.379,119.912,469.455,161.5],[196.617,156.573,128.248,106.218,165.594,...,19.828,15.341,4.824,24.982,7.04],[7.528,81.228,16.683,33.22,89.31,...,86.38,271.145,191.007,261.885,223.358]]"
      ]
     },
     "execution_count": 55,
     "metadata": {},
     "output_type": "execute_result"
    }
   ],
   "source": [
    "ti = table['time']\n",
    "table"
   ]
  },
  {
   "cell_type": "code",
   "execution_count": 56,
   "metadata": {},
   "outputs": [
    {
     "data": {
      "text/plain": [
       "4"
      ]
     },
     "execution_count": 56,
     "metadata": {},
     "output_type": "execute_result"
    }
   ],
   "source": [
    "table[table.column_names[0]].num_chunks"
   ]
  },
  {
   "cell_type": "code",
   "execution_count": 72,
   "metadata": {},
   "outputs": [
    {
     "data": {
      "text/plain": [
       "<pyarrow.Int64Scalar: -1>"
      ]
     },
     "execution_count": 72,
     "metadata": {},
     "output_type": "execute_result"
    }
   ],
   "source": [
    "# s0 = ti.index(time_as_nsec('2024-01-24 13:05:00'))\n",
    "s1 = ti.index(time_as_nsec('2024-02-08 18:05:00'))\n",
    "s1\n",
    "# print(s0, s1.as_py() - s0.as_py())"
   ]
  },
  {
   "cell_type": "code",
   "execution_count": 101,
   "metadata": {},
   "outputs": [
    {
     "name": "stdout",
     "output_type": "stream",
     "text": [
      "2024-02-08T10:02:00.000000000\n"
     ]
    }
   ],
   "source": [
    "for c in ti.iterchunks():\n",
    "    a = c.to_numpy()\n",
    "    ix = np.searchsorted(a, time_as_nsec('2024-02-08 10:01:01'))\n",
    "    if ix < len(c):\n",
    "        print(a[ix])\n",
    "        break"
   ]
  },
  {
   "cell_type": "code",
   "execution_count": null,
   "metadata": {},
   "outputs": [],
   "source": [
    "ti"
   ]
  },
  {
   "cell_type": "code",
   "execution_count": 93,
   "metadata": {},
   "outputs": [
    {
     "data": {
      "text/plain": [
       "16441"
      ]
     },
     "execution_count": 93,
     "metadata": {},
     "output_type": "execute_result"
    }
   ],
   "source": [
    "np.searchsorted(c.to_numpy(), time_as_nsec('2024-01-12 10:01'))"
   ]
  },
  {
   "cell_type": "code",
   "execution_count": 57,
   "metadata": {},
   "outputs": [],
   "source": [
    "selected_table = table.slice(s0.as_py(), s1.as_py() - s0.as_py())"
   ]
  },
  {
   "cell_type": "code",
   "execution_count": 61,
   "metadata": {},
   "outputs": [
    {
     "name": "stdout",
     "output_type": "stream",
     "text": [
      "2024-01-08T11:05:00.000000000\n",
      "2024-01-12T11:01:00.000000000\n",
      "2024-01-23T22:44:00.000000000\n",
      "2024-02-04T10:44:00.000000000\n"
     ]
    }
   ],
   "source": [
    "n_chunks = selected_table[table.column_names[0]].num_chunks\n",
    "n_chunks\n",
    "\n",
    "for n in range(n_chunks):\n",
    "    data = [selected_table[k].chunk(n).to_numpy() for k in range(selected_table.num_columns)]\n",
    "    print(data[0][0])\n",
    "    # break"
   ]
  },
  {
   "cell_type": "code",
   "execution_count": null,
   "metadata": {},
   "outputs": [],
   "source": [
    "data"
   ]
  },
  {
   "cell_type": "markdown",
   "metadata": {},
   "source": [
    "### Fast OHLC series creation"
   ]
  },
  {
   "cell_type": "code",
   "execution_count": null,
   "metadata": {},
   "outputs": [],
   "source": [
    "s = OHLCV('Test1', '1Min')\n",
    "s.from_data()"
   ]
  },
  {
   "cell_type": "code",
   "execution_count": null,
   "metadata": {},
   "outputs": [],
   "source": [
    "# tt = dx0.index.map(lambda x: x.asm8.item())\n",
    "# s.open.times.set_values(list(tt))\n",
    "# s.open.values.set_values(list(dx0.open.values))\n",
    "\n",
    "# s.high.values.set_values(list(dx0.high.values))\n",
    "# s.high.times.set_values(list(tt))\n",
    "\n",
    "# s.low.values.set_values(list(dx0.low.values))\n",
    "# s.low.times.set_values(list(tt))\n",
    "\n",
    "# s.close.values.set_values(list(dx0.close.values))\n",
    "# s.close.times.set_values(list(tt))\n",
    "\n",
    "# s.volume.values.set_values(list(dx0.volume.values))\n",
    "# s.volume.times.set_values(list(tt))\n",
    "\n",
    "# s.times.set_values(list(tt))"
   ]
  },
  {
   "cell_type": "markdown",
   "metadata": {},
   "source": [
    "### Pandas OHLC data loader"
   ]
  },
  {
   "cell_type": "code",
   "execution_count": 14,
   "metadata": {
    "notebookRunGroups": {
     "groupValue": "1"
    }
   },
   "outputs": [],
   "source": [
    "# p1 = CsvDataReader('../tests/data/csv/BTCUSDT_ohlcv_M1.csv.gz', OhlcvPandasDataProcessor())\n",
    "p2 = CsvDataReader('../../BTCUSDT_ohlcv_M1.csv.gz', OhlcvPandasDataProcessor())"
   ]
  },
  {
   "cell_type": "code",
   "execution_count": 18,
   "metadata": {
    "notebookRunGroups": {
     "groupValue": "1"
    }
   },
   "outputs": [],
   "source": [
    "# %%time\n",
    "fx = p2.read('2022-02-01', '1d')"
   ]
  },
  {
   "cell_type": "code",
   "execution_count": 20,
   "metadata": {},
   "outputs": [
    {
     "data": {
      "text/html": [
       "<div>\n",
       "<style scoped>\n",
       "    .dataframe tbody tr th:only-of-type {\n",
       "        vertical-align: middle;\n",
       "    }\n",
       "\n",
       "    .dataframe tbody tr th {\n",
       "        vertical-align: top;\n",
       "    }\n",
       "\n",
       "    .dataframe thead th {\n",
       "        text-align: right;\n",
       "    }\n",
       "</style>\n",
       "<table border=\"1\" class=\"dataframe\">\n",
       "  <thead>\n",
       "    <tr style=\"text-align: right;\">\n",
       "      <th></th>\n",
       "      <th>open</th>\n",
       "      <th>high</th>\n",
       "      <th>low</th>\n",
       "      <th>close</th>\n",
       "      <th>volume</th>\n",
       "    </tr>\n",
       "  </thead>\n",
       "  <tbody>\n",
       "    <tr>\n",
       "      <th>2022-02-01 00:00:00</th>\n",
       "      <td>38439.04</td>\n",
       "      <td>38442.44</td>\n",
       "      <td>38377.55</td>\n",
       "      <td>38377.56</td>\n",
       "      <td>257.709</td>\n",
       "    </tr>\n",
       "    <tr>\n",
       "      <th>2022-02-01 00:01:00</th>\n",
       "      <td>38377.56</td>\n",
       "      <td>38377.57</td>\n",
       "      <td>38289.35</td>\n",
       "      <td>38289.35</td>\n",
       "      <td>486.257</td>\n",
       "    </tr>\n",
       "    <tr>\n",
       "      <th>2022-02-01 00:02:00</th>\n",
       "      <td>38289.35</td>\n",
       "      <td>38347.09</td>\n",
       "      <td>38269.88</td>\n",
       "      <td>38339.68</td>\n",
       "      <td>475.862</td>\n",
       "    </tr>\n",
       "    <tr>\n",
       "      <th>2022-02-01 00:03:00</th>\n",
       "      <td>38339.68</td>\n",
       "      <td>38424.11</td>\n",
       "      <td>38335.01</td>\n",
       "      <td>38393.83</td>\n",
       "      <td>339.537</td>\n",
       "    </tr>\n",
       "    <tr>\n",
       "      <th>2022-02-01 00:04:00</th>\n",
       "      <td>38394.99</td>\n",
       "      <td>38413.52</td>\n",
       "      <td>38386.88</td>\n",
       "      <td>38411.11</td>\n",
       "      <td>60.260</td>\n",
       "    </tr>\n",
       "    <tr>\n",
       "      <th>...</th>\n",
       "      <td>...</td>\n",
       "      <td>...</td>\n",
       "      <td>...</td>\n",
       "      <td>...</td>\n",
       "      <td>...</td>\n",
       "    </tr>\n",
       "    <tr>\n",
       "      <th>2022-02-01 23:56:00</th>\n",
       "      <td>38721.73</td>\n",
       "      <td>38721.73</td>\n",
       "      <td>38710.05</td>\n",
       "      <td>38717.94</td>\n",
       "      <td>43.488</td>\n",
       "    </tr>\n",
       "    <tr>\n",
       "      <th>2022-02-01 23:57:00</th>\n",
       "      <td>38717.93</td>\n",
       "      <td>38717.94</td>\n",
       "      <td>38663.77</td>\n",
       "      <td>38679.24</td>\n",
       "      <td>131.914</td>\n",
       "    </tr>\n",
       "    <tr>\n",
       "      <th>2022-02-01 23:58:00</th>\n",
       "      <td>38679.35</td>\n",
       "      <td>38692.60</td>\n",
       "      <td>38671.52</td>\n",
       "      <td>38688.22</td>\n",
       "      <td>81.492</td>\n",
       "    </tr>\n",
       "    <tr>\n",
       "      <th>2022-02-01 23:59:00</th>\n",
       "      <td>38688.23</td>\n",
       "      <td>38700.00</td>\n",
       "      <td>38674.94</td>\n",
       "      <td>38680.51</td>\n",
       "      <td>104.766</td>\n",
       "    </tr>\n",
       "    <tr>\n",
       "      <th>2022-02-02 00:00:00</th>\n",
       "      <td>38680.51</td>\n",
       "      <td>38727.52</td>\n",
       "      <td>38680.50</td>\n",
       "      <td>38705.42</td>\n",
       "      <td>143.534</td>\n",
       "    </tr>\n",
       "  </tbody>\n",
       "</table>\n",
       "<p>1441 rows × 5 columns</p>\n",
       "</div>"
      ],
      "text/plain": [
       "                         open      high       low     close   volume\n",
       "2022-02-01 00:00:00  38439.04  38442.44  38377.55  38377.56  257.709\n",
       "2022-02-01 00:01:00  38377.56  38377.57  38289.35  38289.35  486.257\n",
       "2022-02-01 00:02:00  38289.35  38347.09  38269.88  38339.68  475.862\n",
       "2022-02-01 00:03:00  38339.68  38424.11  38335.01  38393.83  339.537\n",
       "2022-02-01 00:04:00  38394.99  38413.52  38386.88  38411.11   60.260\n",
       "...                       ...       ...       ...       ...      ...\n",
       "2022-02-01 23:56:00  38721.73  38721.73  38710.05  38717.94   43.488\n",
       "2022-02-01 23:57:00  38717.93  38717.94  38663.77  38679.24  131.914\n",
       "2022-02-01 23:58:00  38679.35  38692.60  38671.52  38688.22   81.492\n",
       "2022-02-01 23:59:00  38688.23  38700.00  38674.94  38680.51  104.766\n",
       "2022-02-02 00:00:00  38680.51  38727.52  38680.50  38705.42  143.534\n",
       "\n",
       "[1441 rows x 5 columns]"
      ]
     },
     "execution_count": 20,
     "metadata": {},
     "output_type": "execute_result"
    }
   ],
   "source": [
    "fx"
   ]
  },
  {
   "cell_type": "markdown",
   "metadata": {},
   "source": [
    "## High level loader design"
   ]
  },
  {
   "cell_type": "code",
   "execution_count": null,
   "metadata": {},
   "outputs": [],
   "source": [
    "class Loader:\n",
    "    def symbols(self) -> list:\n",
    "        pass\n",
    "\n",
    "    def timerange(self) -> tuple:\n",
    "        pass\n",
    "\n",
    "    def timeframes(self) -> list:\n",
    "        pass\n",
    "\n",
    "    def ohlc(self, timeframe: str, start=None, end=None) -> list:\n",
    "        pass\n",
    "\n",
    "    def quotes(self):\n",
    "        pass\n",
    "\n",
    "    def trades(self):\n",
    "        pass"
   ]
  },
  {
   "cell_type": "markdown",
   "metadata": {},
   "source": [
    "# KDB"
   ]
  },
  {
   "cell_type": "code",
   "execution_count": null,
   "metadata": {},
   "outputs": [],
   "source": []
  },
  {
   "cell_type": "markdown",
   "metadata": {},
   "source": [
    "# Misc utils tests"
   ]
  },
  {
   "cell_type": "code",
   "execution_count": null,
   "metadata": {},
   "outputs": [],
   "source": [
    "from itertools import islice\n",
    "\n",
    "def chunked_iterable(iterable, chunk_size):\n",
    "    it = iter(iterable)\n",
    "    while True:\n",
    "        chunk = list(islice(it, chunk_size))\n",
    "        if not chunk:\n",
    "            break\n",
    "        yield chunk"
   ]
  },
  {
   "cell_type": "code",
   "execution_count": null,
   "metadata": {},
   "outputs": [
    {
     "name": "stdout",
     "output_type": "stream",
     "text": [
      "[1, 2, 3, 4, 5, 6, 7, 8, 9, 10]\n",
      "[11, 12, 13, 14, 15, 16, 17, 18, 19, 20]\n",
      "[21, 22, 23, 24, 25, 26, 27, 28, 29, 30]\n",
      "[31, 32, 33, 34, 35, 36, 37, 38, 39, 40]\n",
      "[41, 42, 43, 44, 45, 46, 47, 48, 49, 50]\n",
      "[51, 52, 53, 54, 55, 56, 57, 58, 59, 60]\n",
      "[61, 62, 63, 64, 65, 66, 67, 68, 69, 70]\n",
      "[71, 72, 73, 74, 75, 76, 77, 78, 79, 80]\n",
      "[81, 82, 83, 84, 85, 86, 87, 88, 89, 90]\n",
      "[91, 92, 93, 94, 95, 96, 97, 98, 99]\n"
     ]
    }
   ],
   "source": [
    "for p in chunked_iterable(np.arange(1,100), 10):\n",
    "    print(p)"
   ]
  },
  {
   "cell_type": "code",
   "execution_count": null,
   "metadata": {},
   "outputs": [
    {
     "name": "stdout",
     "output_type": "stream",
     "text": [
      "2333541\n"
     ]
    }
   ],
   "source": [
    "def csv_fast_detect_number_of_lines(file):\n",
    "    chunk = 1024 * 1024 * 512 # Process 500 MB at a time.\n",
    "    f = np.memmap(file)\n",
    "    num_newlines = sum(np.sum(f[i:i+chunk] == ord('\\n'))\n",
    "    for i in range(0, len(f), chunk))\n",
    "    del f\n",
    "    print(num_newlines)\n",
    "\n",
    "csv_fast_detect_number_of_lines('data/BTCUSDT_ohlcv_M1.csv')"
   ]
  }
 ],
 "metadata": {
  "kernelspec": {
   "display_name": "py39",
   "language": "python",
   "name": "python3"
  },
  "language_info": {
   "codemirror_mode": {
    "name": "ipython",
    "version": 3
   },
   "file_extension": ".py",
   "mimetype": "text/x-python",
   "name": "python",
   "nbconvert_exporter": "python",
   "pygments_lexer": "ipython3",
   "version": "3.11.8"
  }
 },
 "nbformat": 4,
 "nbformat_minor": 2
}
