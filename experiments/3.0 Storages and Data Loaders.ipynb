{
 "cells": [
  {
   "cell_type": "code",
   "execution_count": 1,
   "metadata": {},
   "outputs": [
    {
     "name": "stdout",
     "output_type": "stream",
     "text": [
      " >  [\u001b[32mdev\u001b[0m] \u001b[31minstalled cython rebuilding hook\u001b[0m\n",
      "\n",
      "                   \u001b[31m╻\u001b[0m\n",
      "   \u001b[32m┏┓      ╻     \u001b[0m  \u001b[31m┃\u001b[0m  \u001b[33m┏┓\u001b[0m       \u001b[36mQuantitative Backtesting Environment\u001b[0m \n",
      "   \u001b[32m┃┃  ┓┏  ┣┓  ┏┓\u001b[0m  \u001b[31m┃\u001b[0m  \u001b[33m┏┛\u001b[0m       \n",
      "   \u001b[32m┗┻  ┗┻  ┗┛  ┗ \u001b[0m  \u001b[31m┃\u001b[0m  \u001b[33m┗━\u001b[0m       (c) 2024,  ver. \u001b[35mDev\u001b[0m\n",
      "                   \u001b[31m╹\u001b[0m       \n",
      "\n"
     ]
    }
   ],
   "source": [
    "import sys, os, re; sys.path = ([\"../src/\", \"../\"] if re.match(r'^(\\w\\:\\\\)|(/)', os.getcwd()) else [])+ sys.path \n",
    "from typing import Any, List, Tuple, Dict, Optional, Union\n",
    "from itertools import islice\n",
    "\n",
    "import qube\n",
    "%qubed\n",
    "\n",
    "%load_ext autoreload\n",
    "%autoreload 2\n",
    "\n",
    "from qube.core.series import TimeSeries, OHLCV, time_as_nsec, Quote, Trade\n",
    "from qube.data.readers import CsvDataReader, QuotesDataProcessor, OhlcvDataProcessor\n",
    "from qube.ta.indicators import (sma, ema, tema, dema, kama, highest, lowest)\n",
    "from qube.utils.pandas import scols\n",
    "import numpy as np"
   ]
  },
  {
   "cell_type": "code",
   "execution_count": 5,
   "metadata": {},
   "outputs": [],
   "source": [
    "from qube.core.series import TimeSeries; from qube.ta.indicators import sma; del sys.modules['qube.core.series']; del sys.modules['qube.ta.indicators']\n",
    "from qube.core.series import TimeSeries, OHLCV, time_as_nsec, Quote, Trade\n",
    "from qube.ta.indicators import (sma, ema, tema, dema, kama, highest, lowest)"
   ]
  },
  {
   "cell_type": "markdown",
   "metadata": {},
   "source": [
    "# Common design"
   ]
  },
  {
   "cell_type": "markdown",
   "metadata": {},
   "source": [
    "## Standard CSV readers"
   ]
  },
  {
   "cell_type": "markdown",
   "metadata": {},
   "source": [
    "Takes too much time for loading big data"
   ]
  },
  {
   "cell_type": "code",
   "execution_count": 4,
   "metadata": {},
   "outputs": [],
   "source": [
    "r0 = CsvDataReader('data/quotes.csv', QuotesDataProcessor())\n",
    "# r0.read()"
   ]
  },
  {
   "cell_type": "code",
   "execution_count": 5,
   "metadata": {},
   "outputs": [
    {
     "data": {
      "text/plain": [
       "[[2017-08-24T13:09:29.000000000]\t9.33000 (100.0) | 9.35000 (200.0),\n",
       " [2017-08-24T13:09:30.000000000]\t9.36000 (100.0) | 9.39000 (200.0),\n",
       " [2017-08-24T13:09:31.000000000]\t9.36000 (100.0) | 9.39000 (200.0)]"
      ]
     },
     "execution_count": 5,
     "metadata": {},
     "output_type": "execute_result"
    }
   ],
   "source": [
    "r0.read('2017-08-24 13:09:29')"
   ]
  },
  {
   "cell_type": "code",
   "execution_count": null,
   "metadata": {},
   "outputs": [],
   "source": [
    "# r0.read()"
   ]
  },
  {
   "cell_type": "code",
   "execution_count": 7,
   "metadata": {},
   "outputs": [],
   "source": [
    "# r1 = CsvDataReader('data/BTCUSDT_ohlcv_M1.csv', OhlcvDataProcessor())\n",
    "r1 = CsvDataReader('data/BTCUSDT_ohlcv_M1_sec.csv', OhlcvDataProcessor())\n",
    "# r1 = CsvDataReader('data/AAPL.csv', OhlcvDataProcessor(), timestamp_parsers=[\"%m/%d/%Y\", \"%d-%m-%Y\"])\n",
    "# r1 = CsvDataReader('../../BTCUSDT_ohlcv_M1.csv.gz', OhlcvDataProcessor())"
   ]
  },
  {
   "cell_type": "code",
   "execution_count": 8,
   "metadata": {},
   "outputs": [
    {
     "name": "stdout",
     "output_type": "stream",
     "text": [
      "CPU times: total: 125 ms\n",
      "Wall time: 214 ms\n"
     ]
    }
   ],
   "source": [
    "%%time\n",
    "# data = r1.read('2024-01-08 11:05:00', '2024-02-08 18:00:00')\n",
    "# data = r1.read('2024-01-08', '2024-01-08 00:59')\n",
    "data = r1.read()\n",
    "# data"
   ]
  },
  {
   "cell_type": "code",
   "execution_count": null,
   "metadata": {},
   "outputs": [],
   "source": [
    "# data"
   ]
  },
  {
   "cell_type": "code",
   "execution_count": 9,
   "metadata": {},
   "outputs": [
    {
     "name": "stdout",
     "output_type": "stream",
     "text": [
      "Test1[1Min] | 65178 records\n",
      "  2024-02-15T06:17:00.000000000 {o:51965.900000 | h:52004.700000 | l:51950.000000 | c:51950.400000 | v:223.358000}\n",
      "  2024-02-15T06:16:00.000000000 {o:51996.000000 | h:52014.700000 | l:51965.900000 | c:51966.000000 | v:261.885000}\n",
      "  2024-02-15T06:15:00.000000000 {o:51983.300000 | h:52015.000000 | l:51983.200000 | c:51995.900000 | v:191.007000}\n",
      "   .......... \n",
      "  2024-01-01T00:02:00.000000000 {o:42350.400000 | h:42370.800000 | l:42349.600000 | c:42360.200000 | v:271.521000}\n",
      "  2024-01-01T00:01:00.000000000 {o:42331.900000 | h:42353.100000 | l:42331.800000 | c:42350.400000 | v:202.444000}\n",
      "  2024-01-01T00:00:00.000000000 {o:42314.000000 | h:42335.800000 | l:42289.600000 | c:42331.900000 | v:289.641000}\n",
      "\n"
     ]
    }
   ],
   "source": [
    "print(str(data))"
   ]
  },
  {
   "cell_type": "code",
   "execution_count": 223,
   "metadata": {},
   "outputs": [],
   "source": [
    "t = np.datetime64('2023-01-01 12:00:12', 'ns') #.astype('datetime64[ns]').item()"
   ]
  },
  {
   "cell_type": "code",
   "execution_count": 224,
   "metadata": {},
   "outputs": [
    {
     "data": {
      "text/plain": [
       "1672574412000000000"
      ]
     },
     "execution_count": 224,
     "metadata": {},
     "output_type": "execute_result"
    }
   ],
   "source": [
    "t.item()"
   ]
  },
  {
   "cell_type": "code",
   "execution_count": 45,
   "metadata": {},
   "outputs": [],
   "source": [
    "# mx = scols(data.close.pd(), ema(data.close, 100).pd(), sma(data.close, 50).pd())"
   ]
  },
  {
   "cell_type": "code",
   "execution_count": null,
   "metadata": {},
   "outputs": [],
   "source": [
    "plt.plot(mx.close)\n",
    "plt.plot(mx['ema(100,init_mean=True)'])\n",
    "plt.plot(mx['sma(50)'])"
   ]
  },
  {
   "cell_type": "code",
   "execution_count": 49,
   "metadata": {},
   "outputs": [
    {
     "name": "stdout",
     "output_type": "stream",
     "text": [
      "CPU times: total: 0 ns\n",
      "Wall time: 17.6 ms\n"
     ]
    }
   ],
   "source": [
    "# %%time\n",
    "# dx0 = pd.read_csv('data/BTCUSDT_ohlcv_M1.csv', parse_dates=True, index_col=['time'], engine=\"pyarrow\")"
   ]
  },
  {
   "cell_type": "code",
   "execution_count": 301,
   "metadata": {},
   "outputs": [
    {
     "data": {
      "text/plain": [
       "pyarrow.Table\n",
       "Date: string\n",
       "Open: double\n",
       "High: double\n",
       "Low: double\n",
       "Close: double\n",
       "Volume: int64\n",
       "----\n",
       "Date: [[\"2-12-2016\",\"1-12-2016\",\"30-11-2016\",\"29-11-2016\",\"28-11-2016\",...,\"7-06-2016\",\"6-06-2016\",\"3-06-2016\",\"2-06-2016\",\"1-06-2016\"]]\n",
       "Open: [[109.17,110.36,111.6,110.78,111.43,...,99.25,97.99,97.79,97.6,99.02]]\n",
       "High: [[110.09,110.94,112.2,112.03,112.46,...,99.87,101.89,98.27,97.84,99.54]]\n",
       "Low: [[108.85,109.03,110.27,110.07,111.39,...,98.96,97.55,97.45,96.63,98.33]]\n",
       "Close: [[109.9,109.49,110.52,111.46,111.57,...,99.03,98.63,97.92,97.72,98.46]]\n",
       "Volume: [[26527997,37086862,36162258,28528750,27193983,...,22409450,23292504,28504888,40191600,29173285]]"
      ]
     },
     "execution_count": 301,
     "metadata": {},
     "output_type": "execute_result"
    }
   ],
   "source": [
    "from pyarrow import csv\n",
    "import pyarrow as pa\n",
    "table = csv.read_csv(\n",
    "    # 'data/BTCUSDT_ohlcv_M1_sec.csv', \n",
    "    # 'data/BTCUSDT_ohlcv_M1.csv', \n",
    "    'data/AAPL.csv', \n",
    "    # 'data/quotes.csv', \n",
    "    # parse_options=csv.ParseOptions(ignore_empty_lines=True),\n",
    "    convert_options=csv.ConvertOptions(\n",
    "        timestamp_parsers=[\"%d-%m-%Y\"]\n",
    "    )\n",
    ")\n",
    "table"
   ]
  },
  {
   "cell_type": "code",
   "execution_count": 297,
   "metadata": {},
   "outputs": [
    {
     "data": {
      "text/plain": [
       "pyarrow.Table\n",
       "animals: string\n",
       "n_legs: int64\n",
       "entry: timestamp[s]\n",
       "fast: string\n",
       "----\n",
       "animals: [[\"Flamingo\",\"Flamingo\"]]\n",
       "n_legs: [[2,2]]\n",
       "entry: [[2022-01-01 00:00:00,2022-02-01 00:00:00]]\n",
       "fast: [[\"Yes\",\"Yes\"]]"
      ]
     },
     "execution_count": 297,
     "metadata": {},
     "output_type": "execute_result"
    }
   ],
   "source": [
    "import io\n",
    "s = (\n",
    "    \"animals,n_legs,entry,fast\\n\"\n",
    "    # \"Flamingo,2,01/02/2022,Yes\\n\"\n",
    "    \"Flamingo,2,01-01-2022,Yes\\n\"\n",
    "    \"Flamingo,2,02/01/2022,Yes\\n\"\n",
    ")\n",
    "convert_options = csv.ConvertOptions(\n",
    "                  timestamp_parsers=[\"%m/%d/%Y\", \"%d-%m-%Y\"])\n",
    "csv.read_csv(io.BytesIO(s.encode()), convert_options=convert_options)"
   ]
  },
  {
   "cell_type": "code",
   "execution_count": 294,
   "metadata": {},
   "outputs": [
    {
     "data": {
      "text/plain": [
       "'18-Feb-2024'"
      ]
     },
     "execution_count": 294,
     "metadata": {},
     "output_type": "execute_result"
    }
   ],
   "source": [
    "pd.Timestamp('now').strftime(\"%d-%b-%Y\")"
   ]
  },
  {
   "cell_type": "code",
   "execution_count": 275,
   "metadata": {},
   "outputs": [],
   "source": [
    "from datetime import datetime"
   ]
  },
  {
   "cell_type": "code",
   "execution_count": 277,
   "metadata": {},
   "outputs": [
    {
     "data": {
      "text/plain": [
       "datetime.datetime(2012, 5, 12, 0, 0)"
      ]
     },
     "execution_count": 277,
     "metadata": {},
     "output_type": "execute_result"
    }
   ],
   "source": [
    "datetime.strptime('12-May-2012', \"%d-%b-%Y\")"
   ]
  },
  {
   "cell_type": "code",
   "execution_count": null,
   "metadata": {},
   "outputs": [],
   "source": []
  },
  {
   "cell_type": "code",
   "execution_count": 280,
   "metadata": {},
   "outputs": [
    {
     "data": {
      "text/plain": [
       "pyarrow.Table\n",
       "Date: string\n",
       "Open: double\n",
       "High: double\n",
       "Low: double\n",
       "Close: double\n",
       "Volume: int64\n",
       "----\n",
       "Date: [[\"2-Dec-2016\",\"1-Dec-2016\",\"30-Nov-2016\",\"29-Nov-2016\",\"28-Nov-2016\",...,\"11-Dec-2015\",\"10-Dec-2015\",\"9-Dec-2015\",\"8-Dec-2015\",\"7-Dec-2015\"]]\n",
       "Open: [[109.17,110.36,111.6,110.78,111.43,...,115.19,116.04,115.3,117.52,118.32]]\n",
       "High: [[110.09,110.94,112.2,112.03,112.46,...,115.39,116.94,117.69,118.6,119.86]]\n",
       "Low: [[108.85,109.03,110.27,110.07,111.39,...,112.85,115.51,115.08,116.86,117.81]]\n",
       "Close: [[109.9,109.49,110.52,111.46,111.57,...,113.18,116.17,115.62,118.23,118.28]]\n",
       "Volume: [[26527997,37086862,36162258,28528750,27193983,...,46886161,29212727,46361357,34309450,32084249]]"
      ]
     },
     "execution_count": 280,
     "metadata": {},
     "output_type": "execute_result"
    }
   ],
   "source": [
    "table"
   ]
  },
  {
   "cell_type": "code",
   "execution_count": 234,
   "metadata": {},
   "outputs": [
    {
     "ename": "KeyError",
     "evalue": "'Column time does not exist in schema'",
     "output_type": "error",
     "traceback": [
      "\u001b[1;31m---------------------------------------------------------------------------\u001b[0m",
      "\u001b[1;31mKeyError\u001b[0m                                  Traceback (most recent call last)",
      "Cell \u001b[1;32mIn[234], line 1\u001b[0m\n\u001b[1;32m----> 1\u001b[0m ts \u001b[38;5;241m=\u001b[39m \u001b[43mtable\u001b[49m\u001b[38;5;241;43m.\u001b[39;49m\u001b[43mfield\u001b[49m\u001b[43m(\u001b[49m\u001b[38;5;124;43m'\u001b[39;49m\u001b[38;5;124;43mtime\u001b[39;49m\u001b[38;5;124;43m'\u001b[39;49m\u001b[43m)\u001b[49m\n\u001b[0;32m      2\u001b[0m ts\u001b[38;5;241m.\u001b[39mtype\u001b[38;5;241m.\u001b[39munit\n",
      "File \u001b[1;32mc:\\Users\\dmitr\\devs\\venvs\\py39\\lib\\site-packages\\pyarrow\\table.pxi:1749\u001b[0m, in \u001b[0;36mpyarrow.lib._Tabular.field\u001b[1;34m()\u001b[0m\n",
      "File \u001b[1;32mc:\\Users\\dmitr\\devs\\venvs\\py39\\lib\\site-packages\\pyarrow\\types.pxi:2792\u001b[0m, in \u001b[0;36mpyarrow.lib.Schema.field\u001b[1;34m()\u001b[0m\n",
      "\u001b[1;31mKeyError\u001b[0m: 'Column time does not exist in schema'"
     ]
    }
   ],
   "source": [
    "ts = table.field('time')\n",
    "ts.type.unit"
   ]
  },
  {
   "cell_type": "code",
   "execution_count": 55,
   "metadata": {},
   "outputs": [
    {
     "data": {
      "text/plain": [
       "pyarrow.Table\n",
       "time: timestamp[ns]\n",
       "open: double\n",
       "high: double\n",
       "low: double\n",
       "close: double\n",
       "volume: double\n",
       "----\n",
       "time: [[2024-01-01 00:00:00.000000000,2024-01-01 00:01:00.000000000,2024-01-01 00:02:00.000000000,2024-01-01 00:03:00.000000000,2024-01-01 00:04:00.000000000,...,2024-01-12 10:56:00.000000000,2024-01-12 10:57:00.000000000,2024-01-12 10:58:00.000000000,2024-01-12 10:59:00.000000000,2024-01-12 11:00:00.000000000],[2024-01-12 11:01:00.000000000,2024-01-12 11:02:00.000000000,2024-01-12 11:03:00.000000000,2024-01-12 11:04:00.000000000,2024-01-12 11:05:00.000000000,...,2024-01-23 22:39:00.000000000,2024-01-23 22:40:00.000000000,2024-01-23 22:41:00.000000000,2024-01-23 22:42:00.000000000,2024-01-23 22:43:00.000000000],[2024-01-23 22:44:00.000000000,2024-01-23 22:45:00.000000000,2024-01-23 22:46:00.000000000,2024-01-23 22:47:00.000000000,2024-01-23 22:48:00.000000000,...,2024-02-04 10:39:00.000000000,2024-02-04 10:40:00.000000000,2024-02-04 10:41:00.000000000,2024-02-04 10:42:00.000000000,2024-02-04 10:43:00.000000000],[2024-02-04 10:44:00.000000000,2024-02-04 10:45:00.000000000,2024-02-04 10:46:00.000000000,2024-02-04 10:47:00.000000000,2024-02-04 10:48:00.000000000,...,2024-02-15 06:13:00.000000000,2024-02-15 06:14:00.000000000,2024-02-15 06:15:00.000000000,2024-02-15 06:16:00.000000000,2024-02-15 06:17:00.000000000]]\n",
       "open: [[42314,42331.9,42350.4,42360.1,42405.7,...,46128.5,46114.8,46114.1,46072.1,46067.6],[46069.6,46129.8,46111.7,46127.8,46108.8,...,39428.9,39409.7,39435.9,39499.9,39526.8],[39553.4,39544.1,39539.5,39504.7,39480.4,...,42883.1,42889.9,42900.7,42900.7,42906.1],[42906.1,42906.1,42891.9,42889,42870.8,...,51956.3,51977.8,51983.3,51996,51965.9]]\n",
       "high: [[42335.8,42353.1,42370.8,42405.8,42437.2,...,46150,46129.2,46114.1,46103.4,46081.2],[46129.9,46129.9,46145.1,46146.7,46130.9,...,39428.9,39435.9,39500,39542.1,39556.2],[39558.5,39549.5,39539.6,39504.8,39480.4,...,42889.9,42900.8,42900.8,42906.2,42906.2],[42906.2,42906.2,42892,42889.1,42870.8,...,51977.9,51984.9,52015,52014.7,52004.7]]\n",
       "low: [[42289.6,42331.8,42349.6,42360.1,42405.7,...,46114.2,46108.3,46072.1,46065,46056],[46069.6,46090.1,46107.6,46104.2,46094.9,...,39408.2,39409.7,39435.8,39499.9,39525.4],[39544,39534.7,39504.7,39480.5,39440.9,...,42881.4,42889.8,42900.7,42900.7,42906.1],[42906.1,42891.7,42889,42870.8,42852.9,...,51956.3,51961.5,51983.2,51965.9,51950]]\n",
       "close: [[42331.9,42350.4,42360.2,42405.8,42437.1,...,46115,46114,46072.1,46067.6,46069.6],[46129.8,46111.8,46127.7,46108.9,46096.3,...,39409.7,39435.8,39500,39526.8,39553.4],[39544,39539.5,39504.7,39480.5,39449.8,...,42889.9,42900.7,42900.7,42906.2,42906.1],[42906.2,42891.9,42889.1,42870.8,42855.1,...,51977.2,51983.3,51995.9,51966,51950.4]]\n",
       "volume: [[289.641,202.444,271.521,392.238,568.366,...,347.731,114.403,137.128,210.582,131.802],[90.97,279.448,152.651,118.186,96.347,...,177.458,85.379,119.912,469.455,161.5],[196.617,156.573,128.248,106.218,165.594,...,19.828,15.341,4.824,24.982,7.04],[7.528,81.228,16.683,33.22,89.31,...,86.38,271.145,191.007,261.885,223.358]]"
      ]
     },
     "execution_count": 55,
     "metadata": {},
     "output_type": "execute_result"
    }
   ],
   "source": [
    "ti = table['time']\n",
    "table"
   ]
  },
  {
   "cell_type": "code",
   "execution_count": 56,
   "metadata": {},
   "outputs": [
    {
     "data": {
      "text/plain": [
       "4"
      ]
     },
     "execution_count": 56,
     "metadata": {},
     "output_type": "execute_result"
    }
   ],
   "source": [
    "table[table.column_names[0]].num_chunks"
   ]
  },
  {
   "cell_type": "code",
   "execution_count": null,
   "metadata": {},
   "outputs": [],
   "source": []
  },
  {
   "cell_type": "code",
   "execution_count": 70,
   "metadata": {},
   "outputs": [
    {
     "ename": "TypeError",
     "evalue": "'>' not supported between instances of 'pyarrow.lib.ChunkedArray' and 'int'",
     "output_type": "error",
     "traceback": [
      "\u001b[1;31m---------------------------------------------------------------------------\u001b[0m",
      "\u001b[1;31mTypeError\u001b[0m                                 Traceback (most recent call last)",
      "Cell \u001b[1;32mIn[70], line 1\u001b[0m\n\u001b[1;32m----> 1\u001b[0m \u001b[43mti\u001b[49m\u001b[43m \u001b[49m\u001b[38;5;241;43m>\u001b[39;49m\u001b[43m \u001b[49m\u001b[43mtime_as_nsec\u001b[49m\u001b[43m(\u001b[49m\u001b[38;5;124;43m'\u001b[39;49m\u001b[38;5;124;43m2024-02-08 18:05:00\u001b[39;49m\u001b[38;5;124;43m'\u001b[39;49m\u001b[43m)\u001b[49m\n",
      "\u001b[1;31mTypeError\u001b[0m: '>' not supported between instances of 'pyarrow.lib.ChunkedArray' and 'int'"
     ]
    }
   ],
   "source": [
    "ti > time_as_nsec('2024-02-08 18:05:00')"
   ]
  },
  {
   "cell_type": "code",
   "execution_count": 72,
   "metadata": {},
   "outputs": [
    {
     "data": {
      "text/plain": [
       "<pyarrow.Int64Scalar: -1>"
      ]
     },
     "execution_count": 72,
     "metadata": {},
     "output_type": "execute_result"
    }
   ],
   "source": [
    "# s0 = ti.index(time_as_nsec('2024-01-24 13:05:00'))\n",
    "s1 = ti.index(time_as_nsec('2024-02-08 18:05:00'))\n",
    "s1\n",
    "# print(s0, s1.as_py() - s0.as_py())"
   ]
  },
  {
   "cell_type": "code",
   "execution_count": 101,
   "metadata": {},
   "outputs": [
    {
     "name": "stdout",
     "output_type": "stream",
     "text": [
      "2024-02-08T10:02:00.000000000\n"
     ]
    }
   ],
   "source": [
    "for c in ti.iterchunks():\n",
    "    a = c.to_numpy()\n",
    "    ix = np.searchsorted(a, time_as_nsec('2024-02-08 10:01:01'))\n",
    "    if ix < len(c):\n",
    "        print(a[ix])\n",
    "        break"
   ]
  },
  {
   "cell_type": "code",
   "execution_count": 103,
   "metadata": {},
   "outputs": [
    {
     "data": {
      "text/plain": [
       "pyarrow.lib.ChunkedArray"
      ]
     },
     "execution_count": 103,
     "metadata": {},
     "output_type": "execute_result"
    }
   ],
   "source": [
    "pa.ChunkedArray"
   ]
  },
  {
   "cell_type": "code",
   "execution_count": 102,
   "metadata": {},
   "outputs": [
    {
     "data": {
      "text/plain": [
       "<pyarrow.lib.ChunkedArray object at 0x0000023D27391E00>\n",
       "[\n",
       "  [\n",
       "    2024-01-01 00:00:00.000000000,\n",
       "    2024-01-01 00:01:00.000000000,\n",
       "    2024-01-01 00:02:00.000000000,\n",
       "    2024-01-01 00:03:00.000000000,\n",
       "    2024-01-01 00:04:00.000000000,\n",
       "    ...\n",
       "    2024-01-12 10:56:00.000000000,\n",
       "    2024-01-12 10:57:00.000000000,\n",
       "    2024-01-12 10:58:00.000000000,\n",
       "    2024-01-12 10:59:00.000000000,\n",
       "    2024-01-12 11:00:00.000000000\n",
       "  ],\n",
       "  [\n",
       "    2024-01-12 11:01:00.000000000,\n",
       "    2024-01-12 11:02:00.000000000,\n",
       "    2024-01-12 11:03:00.000000000,\n",
       "    2024-01-12 11:04:00.000000000,\n",
       "    2024-01-12 11:05:00.000000000,\n",
       "    ...\n",
       "    2024-01-23 22:39:00.000000000,\n",
       "    2024-01-23 22:40:00.000000000,\n",
       "    2024-01-23 22:41:00.000000000,\n",
       "    2024-01-23 22:42:00.000000000,\n",
       "    2024-01-23 22:43:00.000000000\n",
       "  ],\n",
       "  [\n",
       "    2024-01-23 22:44:00.000000000,\n",
       "    2024-01-23 22:45:00.000000000,\n",
       "    2024-01-23 22:46:00.000000000,\n",
       "    2024-01-23 22:47:00.000000000,\n",
       "    2024-01-23 22:48:00.000000000,\n",
       "    ...\n",
       "    2024-02-04 10:39:00.000000000,\n",
       "    2024-02-04 10:40:00.000000000,\n",
       "    2024-02-04 10:41:00.000000000,\n",
       "    2024-02-04 10:42:00.000000000,\n",
       "    2024-02-04 10:43:00.000000000\n",
       "  ],\n",
       "  [\n",
       "    2024-02-04 10:44:00.000000000,\n",
       "    2024-02-04 10:45:00.000000000,\n",
       "    2024-02-04 10:46:00.000000000,\n",
       "    2024-02-04 10:47:00.000000000,\n",
       "    2024-02-04 10:48:00.000000000,\n",
       "    ...\n",
       "    2024-02-15 06:13:00.000000000,\n",
       "    2024-02-15 06:14:00.000000000,\n",
       "    2024-02-15 06:15:00.000000000,\n",
       "    2024-02-15 06:16:00.000000000,\n",
       "    2024-02-15 06:17:00.000000000\n",
       "  ]\n",
       "]"
      ]
     },
     "execution_count": 102,
     "metadata": {},
     "output_type": "execute_result"
    }
   ],
   "source": [
    "ti"
   ]
  },
  {
   "cell_type": "code",
   "execution_count": 93,
   "metadata": {},
   "outputs": [
    {
     "data": {
      "text/plain": [
       "16441"
      ]
     },
     "execution_count": 93,
     "metadata": {},
     "output_type": "execute_result"
    }
   ],
   "source": [
    "np.searchsorted(c.to_numpy(), time_as_nsec('2024-01-12 10:01'))"
   ]
  },
  {
   "cell_type": "code",
   "execution_count": 90,
   "metadata": {},
   "outputs": [
    {
     "data": {
      "text/plain": [
       "<pyarrow.lib.TimestampArray object at 0x0000023D277A7B20>\n",
       "[\n",
       "  2024-01-01 00:00:00.000000000,\n",
       "  2024-01-01 00:01:00.000000000,\n",
       "  2024-01-01 00:02:00.000000000,\n",
       "  2024-01-01 00:03:00.000000000,\n",
       "  2024-01-01 00:04:00.000000000,\n",
       "  2024-01-01 00:05:00.000000000,\n",
       "  2024-01-01 00:06:00.000000000,\n",
       "  2024-01-01 00:07:00.000000000,\n",
       "  2024-01-01 00:08:00.000000000,\n",
       "  2024-01-01 00:09:00.000000000,\n",
       "  ...\n",
       "  2024-01-12 10:51:00.000000000,\n",
       "  2024-01-12 10:52:00.000000000,\n",
       "  2024-01-12 10:53:00.000000000,\n",
       "  2024-01-12 10:54:00.000000000,\n",
       "  2024-01-12 10:55:00.000000000,\n",
       "  2024-01-12 10:56:00.000000000,\n",
       "  2024-01-12 10:57:00.000000000,\n",
       "  2024-01-12 10:58:00.000000000,\n",
       "  2024-01-12 10:59:00.000000000,\n",
       "  2024-01-12 11:00:00.000000000\n",
       "]"
      ]
     },
     "execution_count": 90,
     "metadata": {},
     "output_type": "execute_result"
    }
   ],
   "source": [
    "c"
   ]
  },
  {
   "cell_type": "code",
   "execution_count": 57,
   "metadata": {},
   "outputs": [],
   "source": [
    "selected_table = table.slice(s0.as_py(), s1.as_py() - s0.as_py())"
   ]
  },
  {
   "cell_type": "code",
   "execution_count": 61,
   "metadata": {},
   "outputs": [
    {
     "name": "stdout",
     "output_type": "stream",
     "text": [
      "2024-01-08T11:05:00.000000000\n",
      "2024-01-12T11:01:00.000000000\n",
      "2024-01-23T22:44:00.000000000\n",
      "2024-02-04T10:44:00.000000000\n"
     ]
    }
   ],
   "source": [
    "n_chunks = selected_table[table.column_names[0]].num_chunks\n",
    "n_chunks\n",
    "\n",
    "for n in range(n_chunks):\n",
    "    data = [selected_table[k].chunk(n).to_numpy() for k in range(selected_table.num_columns)]\n",
    "    print(data[0][0])\n",
    "    # break"
   ]
  },
  {
   "cell_type": "code",
   "execution_count": null,
   "metadata": {},
   "outputs": [],
   "source": [
    "data"
   ]
  },
  {
   "cell_type": "markdown",
   "metadata": {},
   "source": [
    "### Fast OHLC series creation"
   ]
  },
  {
   "cell_type": "code",
   "execution_count": null,
   "metadata": {},
   "outputs": [],
   "source": [
    "s = OHLCV('Test1', '1Min')\n",
    "s.from_data()"
   ]
  },
  {
   "cell_type": "code",
   "execution_count": null,
   "metadata": {},
   "outputs": [],
   "source": []
  },
  {
   "cell_type": "code",
   "execution_count": null,
   "metadata": {},
   "outputs": [],
   "source": [
    "# tt = dx0.index.map(lambda x: x.asm8.item())\n",
    "# s.open.times.set_values(list(tt))\n",
    "# s.open.values.set_values(list(dx0.open.values))\n",
    "\n",
    "# s.high.values.set_values(list(dx0.high.values))\n",
    "# s.high.times.set_values(list(tt))\n",
    "\n",
    "# s.low.values.set_values(list(dx0.low.values))\n",
    "# s.low.times.set_values(list(tt))\n",
    "\n",
    "# s.close.values.set_values(list(dx0.close.values))\n",
    "# s.close.times.set_values(list(tt))\n",
    "\n",
    "# s.volume.values.set_values(list(dx0.volume.values))\n",
    "# s.volume.times.set_values(list(tt))\n",
    "\n",
    "# s.times.set_values(list(tt))"
   ]
  },
  {
   "cell_type": "code",
   "execution_count": null,
   "metadata": {},
   "outputs": [],
   "source": []
  },
  {
   "cell_type": "code",
   "execution_count": null,
   "metadata": {},
   "outputs": [],
   "source": []
  },
  {
   "cell_type": "markdown",
   "metadata": {},
   "source": [
    "## High level loader design"
   ]
  },
  {
   "cell_type": "code",
   "execution_count": null,
   "metadata": {},
   "outputs": [],
   "source": [
    "class Loader:\n",
    "    def symbols(self) -> list:\n",
    "        pass\n",
    "\n",
    "    def timerange(self) -> tuple:\n",
    "        pass\n",
    "\n",
    "    def timeframes(self) -> list:\n",
    "        pass\n",
    "\n",
    "    def ohlc(self, timeframe: str, start=None, end=None) -> list:\n",
    "        pass\n",
    "\n",
    "    def quotes(self):\n",
    "        pass\n",
    "\n",
    "    def trades(self):\n",
    "        pass"
   ]
  },
  {
   "cell_type": "markdown",
   "metadata": {},
   "source": [
    "# KDB"
   ]
  },
  {
   "cell_type": "code",
   "execution_count": null,
   "metadata": {},
   "outputs": [],
   "source": []
  },
  {
   "cell_type": "markdown",
   "metadata": {},
   "source": [
    "# Misc utils tests"
   ]
  },
  {
   "cell_type": "code",
   "execution_count": null,
   "metadata": {},
   "outputs": [],
   "source": [
    "from itertools import islice\n",
    "\n",
    "def chunked_iterable(iterable, chunk_size):\n",
    "    it = iter(iterable)\n",
    "    while True:\n",
    "        chunk = list(islice(it, chunk_size))\n",
    "        if not chunk:\n",
    "            break\n",
    "        yield chunk"
   ]
  },
  {
   "cell_type": "code",
   "execution_count": null,
   "metadata": {},
   "outputs": [
    {
     "name": "stdout",
     "output_type": "stream",
     "text": [
      "[1, 2, 3, 4, 5, 6, 7, 8, 9, 10]\n",
      "[11, 12, 13, 14, 15, 16, 17, 18, 19, 20]\n",
      "[21, 22, 23, 24, 25, 26, 27, 28, 29, 30]\n",
      "[31, 32, 33, 34, 35, 36, 37, 38, 39, 40]\n",
      "[41, 42, 43, 44, 45, 46, 47, 48, 49, 50]\n",
      "[51, 52, 53, 54, 55, 56, 57, 58, 59, 60]\n",
      "[61, 62, 63, 64, 65, 66, 67, 68, 69, 70]\n",
      "[71, 72, 73, 74, 75, 76, 77, 78, 79, 80]\n",
      "[81, 82, 83, 84, 85, 86, 87, 88, 89, 90]\n",
      "[91, 92, 93, 94, 95, 96, 97, 98, 99]\n"
     ]
    }
   ],
   "source": [
    "for p in chunked_iterable(np.arange(1,100), 10):\n",
    "    print(p)"
   ]
  },
  {
   "cell_type": "code",
   "execution_count": null,
   "metadata": {},
   "outputs": [
    {
     "name": "stdout",
     "output_type": "stream",
     "text": [
      "2333541\n"
     ]
    }
   ],
   "source": [
    "def csv_fast_detect_number_of_lines(file):\n",
    "    chunk = 1024 * 1024 * 512 # Process 500 MB at a time.\n",
    "    f = np.memmap(file)\n",
    "    num_newlines = sum(np.sum(f[i:i+chunk] == ord('\\n'))\n",
    "    for i in range(0, len(f), chunk))\n",
    "    del f\n",
    "    print(num_newlines)\n",
    "\n",
    "csv_fast_detect_number_of_lines('data/BTCUSDT_ohlcv_M1.csv')"
   ]
  }
 ],
 "metadata": {
  "kernelspec": {
   "display_name": "py39",
   "language": "python",
   "name": "python3"
  },
  "language_info": {
   "codemirror_mode": {
    "name": "ipython",
    "version": 3
   },
   "file_extension": ".py",
   "mimetype": "text/x-python",
   "name": "python",
   "nbconvert_exporter": "python",
   "pygments_lexer": "ipython3",
   "version": "3.9.13"
  }
 },
 "nbformat": 4,
 "nbformat_minor": 2
}
