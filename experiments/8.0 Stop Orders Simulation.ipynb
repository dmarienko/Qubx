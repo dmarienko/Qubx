{
 "cells": [
  {
   "cell_type": "code",
   "execution_count": 1,
   "metadata": {},
   "outputs": [
    {
     "name": "stdout",
     "output_type": "stream",
     "text": [
      " >  [\u001b[32mdev\u001b[0m] \u001b[31minstalling cython rebuilding hook\u001b[0m\n",
      "\n",
      "⠀⠀⡰⡖⠒⠒⢒⢦⠀⠀   \n",
      "⠀⢠⠃⠈⢆⣀⣎⣀⣱⡀  \u001b[31mQUBX\u001b[0m | \u001b[36mQuantitative Backtesting Environment\u001b[0m \n",
      "⠀⢳⠒⠒⡞⠚⡄⠀⡰⠁         (c) 2024, ver. \u001b[35mDev\u001b[0m\n",
      "⠀⠀⠱⣜⣀⣀⣈⣦⠃⠀⠀⠀ \n",
      "        \n"
     ]
    }
   ],
   "source": [
    "import sys, os, re; sys.path = ([\"../src/\", \"../\"] if re.match(r'^(\\w\\:\\\\)|(/)', os.getcwd()) else [])+ sys.path \n",
    "\n",
    "from typing import Any, Optional, List\n",
    "\n",
    "import qubx\n",
    "%qubxd dev \n",
    "\n",
    "%load_ext autoreload\n",
    "%autoreload 2\n",
    "\n",
    "from qubx import lookup, logger\n",
    "from qubx.core.strategy import IStrategy, StrategyContext, TriggerEvent, PositionsTracker\n",
    "from qubx.pandaz.utils import *\n",
    "import qubx.pandaz.ta as pta\n",
    "\n",
    "# - - - - - - - - - - - - - - - - - - - - - - - -\n",
    "from qubx.ta.indicators import sma, ema\n",
    "from qubx.data.readers import CsvStorageDataReader, MultiQdbConnector, AsTimestampedRecords, AsQuotes, RestoreTicksFromOHLC, AsPandasFrame, RestoreTicksFromOHLC, AsOhlcvSeries\n",
    "from qubx.core.basics import Deal, Instrument, Order, Position, Signal\n",
    "from qubx.utils.charting.lookinglass import LookingGlass\n",
    "\n",
    "from qubx.backtester.simulator import simulate\n",
    "from qubx.core.metrics import tearsheet\n",
    "from qubx.trackers.sizers import FixedSizer, FixedRiskSizer\n",
    "from qubx.core.metrics import chart_signals"
   ]
  },
  {
   "cell_type": "markdown",
   "metadata": {},
   "source": [
    "# Test raw StopOrder"
   ]
  },
  {
   "cell_type": "code",
   "execution_count": 2,
   "metadata": {},
   "outputs": [],
   "source": [
    "r = CsvStorageDataReader(\"../tests/data/csv\")"
   ]
  },
  {
   "cell_type": "code",
   "execution_count": 36,
   "metadata": {},
   "outputs": [],
   "source": [
    "instr = lookup.find_symbol(\"BINANCE.UM\", \"BTCUSDT\")\n",
    "ohlc = r.read(\"BTCUSDT_ohlcv_M1\", start='2024-01-01', stop='2024-01-15', transform=AsOhlcvSeries())\n",
    "stream = r.read(\"BTCUSDT_ohlcv_M1\", start='2024-01-01', stop='2024-01-15', transform=RestoreTicksFromOHLC(trades=False, spread=instr.min_tick))"
   ]
  },
  {
   "cell_type": "code",
   "execution_count": 37,
   "metadata": {},
   "outputs": [
    {
     "data": {
      "text/plain": [
       "42314.0"
      ]
     },
     "execution_count": 37,
     "metadata": {},
     "output_type": "execute_result"
    }
   ],
   "source": [
    "stream[0].mid_price()"
   ]
  },
  {
   "cell_type": "code",
   "execution_count": null,
   "metadata": {},
   "outputs": [],
   "source": [
    "LookingGlass([ohlc.pd()]).look(\n",
    "    ).hline(stream[0].mid_price() + 1000\n",
    "    ).hline(stream[0].mid_price() - 150\n",
    "    ).hline(stream[0].mid_price() + 2000\n",
    "    ).hline(stream[0].mid_price() - 1900\n",
    "            ).hover()\n",
    "# plt.axhline(stream[0].mid_price() + 150)"
   ]
  },
  {
   "cell_type": "markdown",
   "metadata": {},
   "source": [
    "# Signals"
   ]
  },
  {
   "cell_type": "code",
   "execution_count": 7,
   "metadata": {},
   "outputs": [],
   "source": [
    "from qubx.core.strategy import IPositionGathering, IStrategy, PositionsTracker, StrategyContext, TriggerEvent\n",
    "from qubx.core.utils import recognize_time, time_to_str"
   ]
  },
  {
   "cell_type": "code",
   "execution_count": 3,
   "metadata": {},
   "outputs": [],
   "source": [
    "I = lookup.find_symbol(\"BINANCE.UM\", \"BTCUSDT\")\n",
    "ohlc = CsvStorageDataReader(\"../tests/data/csv\").read(\n",
    "    \"BTCUSDT_ohlcv_M1\", start=\"2024-01-01\", stop=\"2024-01-15\", transform=AsPandasFrame()\n",
    ")\n",
    "\n",
    "if 0:\n",
    "    LookingGlass([ohlc[1100:1300]]).look(\n",
    "        ).vline(\"2024-01-01 20:00:00\"\n",
    "        ).hline(43800, c='red'\n",
    "        ).hline(43654.50, c='green'\n",
    "        ).hover(h=300)"
   ]
  },
  {
   "cell_type": "code",
   "execution_count": 4,
   "metadata": {},
   "outputs": [],
   "source": [
    "class GuineaPig(IStrategy):\n",
    "    tests = {}\n",
    "\n",
    "    def on_fit(\n",
    "        self, ctx: StrategyContext, fit_time: str , previous_fit_time: str | None = None\n",
    "    ):\n",
    "        self.tests = {recognize_time(k): v for k, v in self.tests.items()}\n",
    "\n",
    "    def on_event(self, ctx: StrategyContext, event: TriggerEvent) -> List[Signal] | None:\n",
    "        r = []\n",
    "        for k in list(self.tests.keys()):\n",
    "            if event.time >= k:\n",
    "                r.append(self.tests.pop(k))\n",
    "                # print(time_to_str(event.time))\n",
    "        return r"
   ]
  },
  {
   "cell_type": "code",
   "execution_count": 8,
   "metadata": {},
   "outputs": [
    {
     "name": "stdout",
     "output_type": "stream",
     "text": [
      "\u001b[32m2024-09-02 13:06:52.452\u001b[0m [ \u001b[34m\u001b[1m🐞\u001b[0m ] \u001b[34m\u001b[1m\u001b[31m2024-01-01 00:00:00\u001b[0m\u001b[34m\u001b[1m Initiating simulated trading for binance.um for 10000 x 1.0 in USDT...\u001b[0m\n",
      "\u001b[33m2024-01-01 00:00:00.000\u001b[0m [ \u001b[1mℹ️\u001b[0m ] \u001b[1mSimulatedData.binance.um initialized\u001b[0m\n",
      "\u001b[33m2024-01-01 00:00:00.000\u001b[0m [ \u001b[34m\u001b[1m🐞\u001b[0m ] \u001b[34m\u001b[1mTriggering strategy on every 1Min bar after 59S\u001b[0m\n"
     ]
    },
    {
     "data": {
      "application/vnd.jupyter.widget-view+json": {
       "model_id": "0f93a43c48174e278798592e9126b4db",
       "version_major": 2,
       "version_minor": 0
      },
      "text/plain": [
       "Simulating:   0%|          | 0/172800.0 [00:00<?, ?s/s]"
      ]
     },
     "metadata": {},
     "output_type": "display_data"
    },
    {
     "name": "stdout",
     "output_type": "stream",
     "text": [
      "\u001b[33m2024-01-01 00:00:00.000\u001b[0m [ \u001b[34m\u001b[1m🐞\u001b[0m ] \u001b[34m\u001b[1m(StrategyContext) Subscribing to ohlc updates using {'timeframe': '1Min', 'nback': 1} for \n",
      "\t['BTCUSDT'] \u001b[0m\n",
      "\u001b[33m2024-01-01 00:00:00.000\u001b[0m [ \u001b[34m\u001b[1m🐞\u001b[0m ] \u001b[34m\u001b[1mSimulatedExchangeService :: subscribe :: BTCUSDT :: ohlc\u001b[0m\n",
      "\u001b[33m2024-01-01 00:00:00.000\u001b[0m [ \u001b[34m\u001b[1m🐞\u001b[0m ] \u001b[34m\u001b[1mSimulatedExchangeService :: subscribe :: BTCUSDT :: ohlc\u001b[0m\n",
      "\u001b[33m2024-01-01 00:00:00.000\u001b[0m [ \u001b[1mℹ️\u001b[0m ] \u001b[1mSimulatedExchangeService :: run :: Simulation started at 2024-01-01\u001b[0m\n",
      "\u001b[33m2024-01-01 00:00:00.000\u001b[0m [ \u001b[34m\u001b[1m🐞\u001b[0m ] \u001b[34m\u001b[1mInitializing chunks for each loader\u001b[0m\n",
      "\u001b[33m2024-01-01 00:00:00.001\u001b[0m [ \u001b[34m\u001b[1m🐞\u001b[0m ] \u001b[34m\u001b[1m[2024-01-01T00:00:00.001000000]: Invoking GuineaPig on_fit('2024-01-01 00:00:00', 'None')\u001b[0m\n",
      "\u001b[33m2024-01-01 00:00:00.001\u001b[0m [ \u001b[34m\u001b[1m🐞\u001b[0m ] \u001b[34m\u001b[1m[2024-01-01T00:00:00.001000000]: GuineaPig is fitted\u001b[0m\n",
      "\u001b[33m2024-01-01 20:00:59.999\u001b[0m [ \u001b[34m\u001b[1m🐞\u001b[0m ] \u001b[34m\u001b[1m\t ::: \u001b[33mStart tracking Target for GuineaPig 43654.50 -1.000000 BTCUSDT stop: 43800 on BINANCE.UM -> -0.687 at 2024-01-01T20:00:59.999000000\u001b[0m\u001b[34m\u001b[1m of BTCUSDT take: None stop: 43800\u001b[0m\n",
      "\u001b[33m2024-01-01 20:00:59.999\u001b[0m [ \u001b[34m\u001b[1m🐞\u001b[0m ] \u001b[34m\u001b[1m(StrategyContext) sending market sell for 0.687 of BTCUSDT ...\u001b[0m\n",
      "\u001b[33m2024-01-01 20:00:59.999\u001b[0m [ \u001b[34m\u001b[1m🐞\u001b[0m ] \u001b[34m\u001b[1m[OMS] BTCUSDT - SIM-ORDER-BTCUSDT-100001 MARKET SELL 0.687 executed at 43654.45\u001b[0m\n",
      "\u001b[33m2024-01-01 20:00:59.999\u001b[0m [ \u001b[34m\u001b[1m🐞\u001b[0m ] \u001b[34m\u001b[1m  ::  traded -0.687 for BTCUSDT @ 43654.45 -> 0.00\u001b[0m\n",
      "\u001b[33m2024-01-01 20:00:59.999\u001b[0m [ \u001b[34m\u001b[1m🐞\u001b[0m ] \u001b[34m\u001b[1mOrder SIM-ORDER-BTCUSDT-100001 MARKET SELL 0.687 of BTCUSDT -> CLOSED\u001b[0m\n",
      "\u001b[33m2024-01-01 20:00:59.999\u001b[0m [ \u001b[34m\u001b[1m🐞\u001b[0m ] \u001b[34m\u001b[1m[SIM-ORDER-BTCUSDT-100001 / GuineaPig_BTCUSDT_17040672001] : MARKET SELL 0.687 of BTCUSDT  -> [CLOSED]\u001b[0m\n",
      "\u001b[33m2024-01-01 20:00:59.999\u001b[0m [ \u001b[34m\u001b[1m🐞\u001b[0m ] \u001b[34m\u001b[1mExecuted -0.687 @ 43654.45 of BTCUSDT for order SIM-ORDER-BTCUSDT-100001\u001b[0m\n",
      "\u001b[33m2024-01-01 20:00:59.999\u001b[0m [ \u001b[34m\u001b[1m🐞\u001b[0m ] \u001b[34m\u001b[1mBTCUSDT >>> Adjusting position from 0.0 to -0.687 : [SIM-ORDER-BTCUSDT-100001] MARKET SELL 0.687 of BTCUSDT  (gtc) [CLOSED]\u001b[0m\n",
      "\u001b[33m2024-01-01 20:13:36.000\u001b[0m [ \u001b[34m\u001b[1m🐞\u001b[0m ] \u001b[34m\u001b[1m\t ::: \u001b[31mStop triggered\u001b[0m\u001b[34m\u001b[1m for BTCUSDT at 43800\u001b[0m\n",
      "\u001b[33m2024-01-01 20:13:36.000\u001b[0m [ \u001b[34m\u001b[1m🐞\u001b[0m ] \u001b[34m\u001b[1m(StrategyContext) sending limit buy for 0.687 of BTCUSDT ...\u001b[0m\n",
      "\u001b[33m2024-01-01 20:13:36.000\u001b[0m [ \u001b[34m\u001b[1m🐞\u001b[0m ] \u001b[34m\u001b[1m[OMS] BTCUSDT - registered SIM-ORDER-BTCUSDT-100002 LIMIT BUY 0.687 43800\u001b[0m\n",
      "\u001b[33m2024-01-01 20:13:36.000\u001b[0m [ \u001b[34m\u001b[1m🐞\u001b[0m ] \u001b[34m\u001b[1m[SIM-ORDER-BTCUSDT-100002 / GuineaPig_BTCUSDT_17040672002] : LIMIT BUY 0.687 of BTCUSDT  @ 43800 -> [OPEN]\u001b[0m\n",
      "\u001b[33m2024-01-01 20:13:36.000\u001b[0m [ \u001b[34m\u001b[1m🐞\u001b[0m ] \u001b[34m\u001b[1mBTCUSDT >>> Adjusting position from -0.687 to 0.0 : [SIM-ORDER-BTCUSDT-100002] LIMIT BUY 0.687 of BTCUSDT @ 43800 (gtc) [OPEN]\u001b[0m\n",
      "\u001b[33m2024-01-01 20:13:59.999\u001b[0m [ \u001b[34m\u001b[1m🐞\u001b[0m ] \u001b[34m\u001b[1m[OMS] BTCUSDT - SIM-ORDER-BTCUSDT-100002 LIMIT BUY 0.687 executed at 43800\u001b[0m\n",
      "\u001b[33m2024-01-01 20:13:59.999\u001b[0m [ \u001b[34m\u001b[1m🐞\u001b[0m ] \u001b[34m\u001b[1m  ::  traded 0.687 for BTCUSDT @ 43800 -> -100.03\u001b[0m\n",
      "\u001b[33m2024-01-01 20:13:59.999\u001b[0m [ \u001b[34m\u001b[1m🐞\u001b[0m ] \u001b[34m\u001b[1mOrder SIM-ORDER-BTCUSDT-100002 LIMIT BUY 0.687 of BTCUSDT -> CLOSED\u001b[0m\n",
      "\u001b[33m2024-01-01 20:13:59.999\u001b[0m [ \u001b[34m\u001b[1m🐞\u001b[0m ] \u001b[34m\u001b[1m[SIM-ORDER-BTCUSDT-100002 / GuineaPig_BTCUSDT_17040672002] : LIMIT BUY 0.687 of BTCUSDT  @ 43800 -> [CLOSED]\u001b[0m\n",
      "\u001b[33m2024-01-01 20:13:59.999\u001b[0m [ \u001b[34m\u001b[1m🐞\u001b[0m ] \u001b[34m\u001b[1mExecuted 0.687 @ 43800 of BTCUSDT for order SIM-ORDER-BTCUSDT-100002\u001b[0m\n",
      "\u001b[33m2024-01-03 00:00:59.999\u001b[0m [ \u001b[1mℹ️\u001b[0m ] \u001b[1mSimulatedExchangeService :: run :: Simulation finished at 2024-01-03 00:00:00\u001b[0m\n"
     ]
    }
   ],
   "source": [
    "from qubx.trackers.riskctrl import AtrRiskTracker, StopTakePositionTracker\n",
    "\n",
    "result = simulate(\n",
    "    {\n",
    "        \"TEST\": [\n",
    "            GuineaPig(tests={\"2024-01-01 20:00:00\": I.signal(-1, stop=43800)}),\n",
    "            StopTakePositionTracker(None, None, sizer=FixedRiskSizer(1)),\n",
    "        ]\n",
    "    }, {f\"BINANCE.UM:BTCUSDT\": ohlc}, 10000,\n",
    "    instruments=[f\"BINANCE.UM:BTCUSDT\"], subscription=dict(type=\"ohlc\", timeframe=\"1Min\"), trigger=\"-1Sec\", commissions=\"vip0_usdt\",\n",
    "    debug=\"DEBUG\", start=\"2024-01-01\", stop=\"2024-01-03\",\n",
    ")\n",
    "# print(result[0].executions_log)"
   ]
  },
  {
   "cell_type": "code",
   "execution_count": 12,
   "metadata": {},
   "outputs": [
    {
     "data": {
      "text/html": [
       "<div>\n",
       "<style scoped>\n",
       "    .dataframe tbody tr th:only-of-type {\n",
       "        vertical-align: middle;\n",
       "    }\n",
       "\n",
       "    .dataframe tbody tr th {\n",
       "        vertical-align: top;\n",
       "    }\n",
       "\n",
       "    .dataframe thead th {\n",
       "        text-align: right;\n",
       "    }\n",
       "</style>\n",
       "<table border=\"1\" class=\"dataframe\">\n",
       "  <thead>\n",
       "    <tr style=\"text-align: right;\">\n",
       "      <th></th>\n",
       "      <th>instrument_id</th>\n",
       "      <th>side</th>\n",
       "      <th>filled_qty</th>\n",
       "      <th>price</th>\n",
       "      <th>commissions</th>\n",
       "      <th>commissions_quoted</th>\n",
       "    </tr>\n",
       "    <tr>\n",
       "      <th>timestamp</th>\n",
       "      <th></th>\n",
       "      <th></th>\n",
       "      <th></th>\n",
       "      <th></th>\n",
       "      <th></th>\n",
       "      <th></th>\n",
       "    </tr>\n",
       "  </thead>\n",
       "  <tbody>\n",
       "    <tr>\n",
       "      <th>2024-01-01 20:00:59.999</th>\n",
       "      <td>BTCUSDT</td>\n",
       "      <td>sell</td>\n",
       "      <td>-0.687</td>\n",
       "      <td>43654.45</td>\n",
       "      <td>14.995304</td>\n",
       "      <td>USDT</td>\n",
       "    </tr>\n",
       "    <tr>\n",
       "      <th>2024-01-01 20:13:59.999</th>\n",
       "      <td>BTCUSDT</td>\n",
       "      <td>buy</td>\n",
       "      <td>0.687</td>\n",
       "      <td>43800.00</td>\n",
       "      <td>6.018120</td>\n",
       "      <td>USDT</td>\n",
       "    </tr>\n",
       "  </tbody>\n",
       "</table>\n",
       "</div>"
      ],
      "text/plain": [
       "                        instrument_id  side  filled_qty     price  \\\n",
       "timestamp                                                           \n",
       "2024-01-01 20:00:59.999       BTCUSDT  sell      -0.687  43654.45   \n",
       "2024-01-01 20:13:59.999       BTCUSDT   buy       0.687  43800.00   \n",
       "\n",
       "                         commissions commissions_quoted  \n",
       "timestamp                                                \n",
       "2024-01-01 20:00:59.999    14.995304               USDT  \n",
       "2024-01-01 20:13:59.999     6.018120               USDT  "
      ]
     },
     "execution_count": 12,
     "metadata": {},
     "output_type": "execute_result"
    }
   ],
   "source": [
    "result[0].executions_log"
   ]
  },
  {
   "cell_type": "code",
   "execution_count": 11,
   "metadata": {},
   "outputs": [
    {
     "data": {
      "text/html": [
       "<div>\n",
       "<style scoped>\n",
       "    .dataframe tbody tr th:only-of-type {\n",
       "        vertical-align: middle;\n",
       "    }\n",
       "\n",
       "    .dataframe tbody tr th {\n",
       "        vertical-align: top;\n",
       "    }\n",
       "\n",
       "    .dataframe thead th {\n",
       "        text-align: right;\n",
       "    }\n",
       "</style>\n",
       "<table border=\"1\" class=\"dataframe\">\n",
       "  <thead>\n",
       "    <tr style=\"text-align: right;\">\n",
       "      <th></th>\n",
       "      <th>instrument_id</th>\n",
       "      <th>exchange_id</th>\n",
       "      <th>signal</th>\n",
       "      <th>target_position</th>\n",
       "      <th>reference_price</th>\n",
       "      <th>price</th>\n",
       "      <th>take</th>\n",
       "      <th>stop</th>\n",
       "      <th>group</th>\n",
       "      <th>comment</th>\n",
       "      <th>service</th>\n",
       "    </tr>\n",
       "    <tr>\n",
       "      <th>timestamp</th>\n",
       "      <th></th>\n",
       "      <th></th>\n",
       "      <th></th>\n",
       "      <th></th>\n",
       "      <th></th>\n",
       "      <th></th>\n",
       "      <th></th>\n",
       "      <th></th>\n",
       "      <th></th>\n",
       "      <th></th>\n",
       "      <th></th>\n",
       "    </tr>\n",
       "  </thead>\n",
       "  <tbody>\n",
       "    <tr>\n",
       "      <th>2024-01-01 20:00:59.999</th>\n",
       "      <td>BTCUSDT</td>\n",
       "      <td>BINANCE.UM</td>\n",
       "      <td>-1</td>\n",
       "      <td>-0.687</td>\n",
       "      <td>43654.5</td>\n",
       "      <td>NaN</td>\n",
       "      <td>None</td>\n",
       "      <td>43800.0</td>\n",
       "      <td>GuineaPig</td>\n",
       "      <td></td>\n",
       "      <td>False</td>\n",
       "    </tr>\n",
       "    <tr>\n",
       "      <th>2024-01-01 20:13:36.000</th>\n",
       "      <td>BTCUSDT</td>\n",
       "      <td>BINANCE.UM</td>\n",
       "      <td>0</td>\n",
       "      <td>0.000</td>\n",
       "      <td>43815.0</td>\n",
       "      <td>43800.0</td>\n",
       "      <td>None</td>\n",
       "      <td>NaN</td>\n",
       "      <td>Risk Manager</td>\n",
       "      <td>Stop triggered</td>\n",
       "      <td>False</td>\n",
       "    </tr>\n",
       "  </tbody>\n",
       "</table>\n",
       "</div>"
      ],
      "text/plain": [
       "                        instrument_id exchange_id  signal  target_position  \\\n",
       "timestamp                                                                    \n",
       "2024-01-01 20:00:59.999       BTCUSDT  BINANCE.UM      -1           -0.687   \n",
       "2024-01-01 20:13:36.000       BTCUSDT  BINANCE.UM       0            0.000   \n",
       "\n",
       "                         reference_price    price  take     stop  \\\n",
       "timestamp                                                          \n",
       "2024-01-01 20:00:59.999          43654.5      NaN  None  43800.0   \n",
       "2024-01-01 20:13:36.000          43815.0  43800.0  None      NaN   \n",
       "\n",
       "                                group         comment  service  \n",
       "timestamp                                                       \n",
       "2024-01-01 20:00:59.999     GuineaPig                    False  \n",
       "2024-01-01 20:13:36.000  Risk Manager  Stop triggered    False  "
      ]
     },
     "execution_count": 11,
     "metadata": {},
     "output_type": "execute_result"
    }
   ],
   "source": [
    "result[0].signals_log"
   ]
  },
  {
   "cell_type": "code",
   "execution_count": null,
   "metadata": {},
   "outputs": [],
   "source": [
    "# GuineaPig(tests={\"2024-01-01 20:00:00\": I.signal(-1, stop=43800)})"
   ]
  }
 ],
 "metadata": {
  "kernelspec": {
   "display_name": ".venv",
   "language": "python",
   "name": "python3"
  },
  "language_info": {
   "codemirror_mode": {
    "name": "ipython",
    "version": 3
   },
   "file_extension": ".py",
   "mimetype": "text/x-python",
   "name": "python",
   "nbconvert_exporter": "python",
   "pygments_lexer": "ipython3",
   "version": "3.11.8"
  }
 },
 "nbformat": 4,
 "nbformat_minor": 2
}
