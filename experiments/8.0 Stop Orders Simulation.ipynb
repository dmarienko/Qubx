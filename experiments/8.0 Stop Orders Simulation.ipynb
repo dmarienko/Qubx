{
 "cells": [
  {
   "cell_type": "code",
   "execution_count": 16,
   "metadata": {},
   "outputs": [
    {
     "name": "stdout",
     "output_type": "stream",
     "text": [
      " >  [\u001b[32mdev\u001b[0m] \u001b[31minstalling cython rebuilding hook\u001b[0m\n",
      "The autoreload extension is already loaded. To reload it, use:\n",
      "  %reload_ext autoreload\n"
     ]
    }
   ],
   "source": [
    "import sys, os, re; sys.path = ([\"../src/\", \"../\"] if re.match(r'^(\\w\\:\\\\)|(/)', os.getcwd()) else [])+ sys.path \n",
    "\n",
    "from typing import Any, Optional, List\n",
    "\n",
    "import qubx\n",
    "%qubxd dev \n",
    "\n",
    "%load_ext autoreload\n",
    "%autoreload 2\n",
    "\n",
    "from qubx import lookup, logger\n",
    "from qubx.core.strategy import IStrategy, StrategyContext, TriggerEvent, PositionsTracker\n",
    "from qubx.pandaz.utils import *\n",
    "import qubx.pandaz.ta as pta\n",
    "\n",
    "# - - - - - - - - - - - - - - - - - - - - - - - -\n",
    "from qubx.trackers import PortfolioRebalancerTracker\n",
    "from qubx.ta.indicators import sma, ema\n",
    "from qubx.data.readers import CsvStorageDataReader, MultiQdbConnector, AsTimestampedRecords, AsQuotes, RestoreTicksFromOHLC, AsPandasFrame, RestoreTicksFromOHLC, AsOhlcvSeries\n",
    "from qubx.core.basics import Deal, Instrument, Order, Position, Signal\n",
    "from qubx.utils.charting.lookinglass import LookingGlass\n",
    "\n",
    "from qubx.backtester.simulator import simulate\n",
    "from qubx.core.metrics import tearsheet\n",
    "from qubx.trackers.sizers import FixedSizer, FixedRiskSizer\n",
    "from qubx.core.metrics import chart_signals"
   ]
  },
  {
   "cell_type": "code",
   "execution_count": 2,
   "metadata": {},
   "outputs": [],
   "source": [
    "r = CsvStorageDataReader(\"../tests/data/csv\")"
   ]
  },
  {
   "cell_type": "code",
   "execution_count": 36,
   "metadata": {},
   "outputs": [],
   "source": [
    "instr = lookup.find_symbol(\"BINANCE.UM\", \"BTCUSDT\")\n",
    "ohlc = r.read(\"BTCUSDT_ohlcv_M1\", start='2024-01-01', stop='2024-01-15', transform=AsOhlcvSeries())\n",
    "stream = r.read(\"BTCUSDT_ohlcv_M1\", start='2024-01-01', stop='2024-01-15', transform=RestoreTicksFromOHLC(trades=False, spread=instr.min_tick))"
   ]
  },
  {
   "cell_type": "code",
   "execution_count": 37,
   "metadata": {},
   "outputs": [
    {
     "data": {
      "text/plain": [
       "42314.0"
      ]
     },
     "execution_count": 37,
     "metadata": {},
     "output_type": "execute_result"
    }
   ],
   "source": [
    "stream[0].mid_price()"
   ]
  },
  {
   "cell_type": "code",
   "execution_count": 47,
   "metadata": {},
   "outputs": [
    {
     "data": {
      "application/vnd.jupyter.widget-view+json": {
       "model_id": "da087b535b834e548fa93c8505b813ff",
       "version_major": 2,
       "version_minor": 0
      },
      "text/plain": [
       "FigureWidget({\n",
       "    'data': [{'close': array([42331.9, 42350.4, 42360.2, ..., 41814.3, 41734.9, 41763.1]),\n",
       "              'high': array([42335.8, 42353.1, 42370.8, ..., 41853. , 41821.9, 41797.5]),\n",
       "              'line': {'width': 1},\n",
       "              'low': array([42289.6, 42331.8, 42349.6, ..., 41814.3, 41731.2, 41720. ]),\n",
       "              'name': 'Master_0',\n",
       "              'open': array([42314. , 42331.9, 42350.4, ..., 41848.7, 41814.3, 41734.9]),\n",
       "              'type': 'candlestick',\n",
       "              'uid': 'ff7ef48d-73f6-4f1c-8ac3-05b933bcc3d5',\n",
       "              'x': array([datetime.datetime(2024, 1, 1, 0, 0),\n",
       "                          datetime.datetime(2024, 1, 1, 0, 1),\n",
       "                          datetime.datetime(2024, 1, 1, 0, 2), ...,\n",
       "                          datetime.datetime(2024, 1, 14, 23, 58),\n",
       "                          datetime.datetime(2024, 1, 14, 23, 59),\n",
       "                          datetime.datetime(2024, 1, 15, 0, 0)], dtype=object),\n",
       "              'xaxis': 'x',\n",
       "              'yaxis': 'y'}],\n",
       "    'layout': {'dragmode': 'zoom',\n",
       "               'height': 600,\n",
       "               'hoverdistance': 1000,\n",
       "               'hovermode': 'x unified',\n",
       "               'margin': {'b': 5, 'l': 5, 'r': 5, 't': 35},\n",
       "               'modebar': {'add': ['drawline', 'drawopenpath', 'drawrect', 'eraseshape']},\n",
       "               'newshape': {'line': {'color': 'yellow', 'width': 1.0}},\n",
       "               'shapes': [{'line': {'color': 'yellow', 'dash': 'dot', 'width': 1},\n",
       "                           'type': 'line',\n",
       "                           'x0': 0,\n",
       "                           'x1': 1,\n",
       "                           'xref': 'paper',\n",
       "                           'y0': 43314.0,\n",
       "                           'y1': 43314.0,\n",
       "                           'yref': 'y'},\n",
       "                          {'line': {'color': 'yellow', 'dash': 'dot', 'width': 1},\n",
       "                           'type': 'line',\n",
       "                           'x0': 0,\n",
       "                           'x1': 1,\n",
       "                           'xref': 'paper',\n",
       "                           'y0': 42164.0,\n",
       "                           'y1': 42164.0,\n",
       "                           'yref': 'y'},\n",
       "                          {'line': {'color': 'yellow', 'dash': 'dot', 'width': 1},\n",
       "                           'type': 'line',\n",
       "                           'x0': 0,\n",
       "                           'x1': 1,\n",
       "                           'xref': 'paper',\n",
       "                           'y0': 44314.0,\n",
       "                           'y1': 44314.0,\n",
       "                           'yref': 'y'},\n",
       "                          {'line': {'color': 'yellow', 'dash': 'dot', 'width': 1},\n",
       "                           'type': 'line',\n",
       "                           'x0': 0,\n",
       "                           'x1': 1,\n",
       "                           'xref': 'paper',\n",
       "                           'y0': 40414.0,\n",
       "                           'y1': 40414.0,\n",
       "                           'yref': 'y'}],\n",
       "               'showlegend': False,\n",
       "               'template': '...',\n",
       "               'title': {'text': ' None', 'x': 0.5, 'xanchor': 'center', 'y': 0.9, 'yanchor': 'top'},\n",
       "               'xaxis': {'anchor': 'y',\n",
       "                         'domain': [0.0, 1.0],\n",
       "                         'hoverformat': '%d-%b-%y %H:%M',\n",
       "                         'rangeslider': {'visible': False},\n",
       "                         'showspikes': True,\n",
       "                         'spikecolor': '#306020',\n",
       "                         'spikedash': 'dot',\n",
       "                         'spikemode': 'across',\n",
       "                         'spikesnap': 'cursor',\n",
       "                         'spikethickness': 1},\n",
       "               'yaxis': {'anchor': 'x',\n",
       "                         'domain': [0.0, 1.0],\n",
       "                         'hoverformat': '.2f',\n",
       "                         'spikecolor': '#306020',\n",
       "                         'spikesnap': 'cursor',\n",
       "                         'spikethickness': 1,\n",
       "                         'tickformat': '.2f'}}\n",
       "})"
      ]
     },
     "execution_count": 47,
     "metadata": {},
     "output_type": "execute_result"
    }
   ],
   "source": [
    "LookingGlass([ohlc.pd()]).look(\n",
    "    ).hline(stream[0].mid_price() + 1000\n",
    "    ).hline(stream[0].mid_price() - 150\n",
    "    ).hline(stream[0].mid_price() + 2000\n",
    "    ).hline(stream[0].mid_price() - 1900\n",
    "            ).hover()\n",
    "# plt.axhline(stream[0].mid_price() + 150)"
   ]
  },
  {
   "cell_type": "code",
   "execution_count": null,
   "metadata": {},
   "outputs": [],
   "source": []
  }
 ],
 "metadata": {
  "kernelspec": {
   "display_name": ".venv",
   "language": "python",
   "name": "python3"
  },
  "language_info": {
   "codemirror_mode": {
    "name": "ipython",
    "version": 3
   },
   "file_extension": ".py",
   "mimetype": "text/x-python",
   "name": "python",
   "nbconvert_exporter": "python",
   "pygments_lexer": "ipython3",
   "version": "3.11.8"
  }
 },
 "nbformat": 4,
 "nbformat_minor": 2
}
