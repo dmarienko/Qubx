{
 "cells": [
  {
   "cell_type": "code",
   "execution_count": 2,
   "metadata": {},
   "outputs": [
    {
     "name": "stdout",
     "output_type": "stream",
     "text": [
      " >  [\u001b[32mdev\u001b[0m] \u001b[31minstalling cython rebuilding hook\u001b[0m\n",
      "\n",
      "⠀⠀⡰⡖⠒⠒⢒⢦⠀⠀   \n",
      "⠀⢠⠃⠈⢆⣀⣎⣀⣱⡀  \u001b[31mQUBX\u001b[0m | \u001b[36mQuantitative Backtesting Environment\u001b[0m \n",
      "⠀⢳⠒⠒⡞⠚⡄⠀⡰⠁         (c) 2024, ver. \u001b[35m0.1.90\u001b[0m\n",
      "⠀⠀⠱⣜⣀⣀⣈⣦⠃⠀⠀⠀ \n",
      "        \n"
     ]
    },
    {
     "name": "stderr",
     "output_type": "stream",
     "text": [
      "In file included from /mnt/HC_Volume_100695026/home/shared/.conda/envs/xincubator/lib/python3.11/site-packages/numpy/core/include/numpy/ndarraytypes.h:1929,\n",
      "                 from /mnt/HC_Volume_100695026/home/shared/.conda/envs/xincubator/lib/python3.11/site-packages/numpy/core/include/numpy/ndarrayobject.h:12,\n",
      "                 from /mnt/HC_Volume_100695026/home/shared/.conda/envs/xincubator/lib/python3.11/site-packages/numpy/core/include/numpy/arrayobject.h:5,\n",
      "                 from .pyxbld/temp.linux-x86_64-cpython-311/mnt/HC_Volume_100695026/home/shared/devs/Qubx/src/qubx/ta/indicators.c:1205:\n",
      "/mnt/HC_Volume_100695026/home/shared/.conda/envs/xincubator/lib/python3.11/site-packages/numpy/core/include/numpy/npy_1_7_deprecated_api.h:17:2: warning: #warning \"Using deprecated NumPy API, disable it with \" \"#define NPY_NO_DEPRECATED_API NPY_1_7_API_VERSION\" [-Wcpp]\n",
      "   17 | #warning \"Using deprecated NumPy API, disable it with \" \\\n",
      "      |  ^~~~~~~\n",
      ".pyxbld/temp.linux-x86_64-cpython-311/mnt/HC_Volume_100695026/home/shared/devs/Qubx/src/qubx/ta/indicators.c:19102:15: warning: ‘__pyx_f_4qubx_2ta_10indicators_lognorm_pdf’ defined but not used [-Wunused-function]\n",
      "19102 | static double __pyx_f_4qubx_2ta_10indicators_lognorm_pdf(double __pyx_v_x, double __pyx_v_s) {\n",
      "      |               ^~~~~~~~~~~~~~~~~~~~~~~~~~~~~~~~~~~~~~~~~~\n"
     ]
    }
   ],
   "source": [
    "import sys, os, re; sys.path = ([\"../src/\", \"../\"] if re.match(r'^(\\w\\:\\\\)|(/)', os.getcwd()) else [])+ sys.path \n",
    "\n",
    "import queue\n",
    "from typing import Any, Optional, List\n",
    "import asyncio\n",
    "import nest_asyncio\n",
    "nest_asyncio.apply()\n",
    "\n",
    "import qubx\n",
    "%qubxd dev \n",
    "\n",
    "%load_ext autoreload\n",
    "%autoreload 2\n",
    "\n",
    "from qubx import lookup, logger\n",
    "from qubx.core.strategy import IStrategy, StrategyContext\n",
    "from qubx.impl.ccxt_trading import CCXTSyncTradingConnector\n",
    "from qubx.impl.ccxt_connector import CCXTDataConnector\n",
    "from qubx.utils.runner import get_account_config\n",
    "from qubx.pandaz import scols\n",
    "\n",
    "from xincubator.models.nimble.aoi_nimblers import NimbleI_AOI\n",
    "\n",
    "\n",
    "# path to pythonpath /mnt/HC_Volume_100695026/home/shared/devs/Qubx/experiments\n",
    "sys.path.append('/mnt/HC_Volume_100695026/home/shared/devs/Qubx/experiments')\n",
    "\n",
    "\n",
    "def clear_queue(q: queue.Queue):\n",
    "    while not q.empty():\n",
    "        try:\n",
    "            q.get_nowait()\n",
    "        except queue.Empty:\n",
    "            continue\n"
   ]
  },
  {
   "cell_type": "markdown",
   "metadata": {},
   "source": [
    "## Testing trade feed implementation"
   ]
  },
  {
   "cell_type": "markdown",
   "metadata": {},
   "source": [
    "Let's first take a look at the examples from ccxt how they listen to trades https://github.com/ccxt/ccxt/tree/master/examples/ccxt.pro/py"
   ]
  },
  {
   "cell_type": "code",
   "execution_count": 2,
   "metadata": {},
   "outputs": [],
   "source": [
    "import ccxt.pro as cxp\n",
    "from asyncio import gather, run\n",
    "\n",
    "\n",
    "async def symbol_loop(exchange, symbol):\n",
    "    print('Starting the', exchange.id, 'symbol loop with', symbol)\n",
    "    while True:\n",
    "        try:\n",
    "            trades = await exchange.watch_trades(symbol)\n",
    "            now = exchange.milliseconds()\n",
    "            print(exchange.iso8601(now), exchange.id, symbol, len(trades), trades[-1]['price'])\n",
    "        except Exception as e:\n",
    "            print(str(e))\n",
    "            # raise e  # uncomment to break all loops in case of an error in any one of them\n",
    "            break  # you can break just this one loop if it fails\n",
    "\n",
    "\n",
    "async def exchange_loop(exchange_id, symbols):\n",
    "    print('Starting the', exchange_id, 'exchange loop with', symbols)\n",
    "    exchange = getattr(cxp, exchange_id)({\n",
    "        'newUpdates': True,  # https://github.com/ccxt/ccxt/wiki/ccxt.pro.manual#incremental-data-structures\n",
    "    })\n",
    "    loops = [symbol_loop(exchange, symbol) for symbol in symbols]\n",
    "    await gather(*loops)\n",
    "    await exchange.close()\n",
    "\n",
    "\n",
    "async def main():\n",
    "    exchanges = {\n",
    "        'kraken': ['BTC/USD'],\n",
    "        'binanceusdm': ['BTCUSDT'],\n",
    "        'binance': ['BTCUSDT'],\n",
    "    }\n",
    "    loops = [exchange_loop(exchange_id, symbols) for exchange_id, symbols in exchanges.items()]\n",
    "    await gather(*loops)\n",
    "\n",
    "\n",
    "# await main()"
   ]
  },
  {
   "cell_type": "markdown",
   "metadata": {},
   "source": [
    "Now let's debug the strategy context with trade feed"
   ]
  },
  {
   "cell_type": "code",
   "execution_count": 3,
   "metadata": {},
   "outputs": [],
   "source": [
    "from pathlib import Path\n",
    "from strats.tradefeed import TradeTestStrat\n",
    "\n",
    "CONFIG_PATH = Path(\"/mnt/HC_Volume_100695026/home/shared/devs/Qubx/experiments/configs\")\n",
    "\n",
    "auth = get_account_config(\n",
    "    \"binance-mde\", str(CONFIG_PATH / \".env.fishermen2\")\n",
    ")"
   ]
  },
  {
   "cell_type": "code",
   "execution_count": 3,
   "metadata": {},
   "outputs": [
    {
     "name": "stdout",
     "output_type": "stream",
     "text": [
      "\u001b[32m2024-07-07 23:00:19.546\u001b[0m [ \u001b[1mℹ️\u001b[0m ] \u001b[1mBINANCE loading ...\u001b[0m\n",
      "\u001b[32m2024-07-07 23:00:22.864\u001b[0m [ \u001b[1mℹ️\u001b[0m ] \u001b[1mLoading account data for Binance\u001b[0m\n",
      "\u001b[32m2024-07-07 23:00:23.108\u001b[0m [ \u001b[1mℹ️\u001b[0m ] \u001b[1mBINANCE initialized - current time 2024-07-07T23:00:23.108902000\u001b[0m\n"
     ]
    },
    {
     "data": {
      "text/plain": [
       "{'BTC': (0.00401322, 0.0)}"
      ]
     },
     "execution_count": 3,
     "metadata": {},
     "output_type": "execute_result"
    }
   ],
   "source": [
    "brok = CCXTSyncTradingConnector('binance', **acc)\n",
    "data = CCXTDataConnector('binance', brok, **acc)\n",
    "brok.acc.get_balances()"
   ]
  },
  {
   "cell_type": "markdown",
   "metadata": {},
   "source": [
    "### Simple strategy wrapper"
   ]
  },
  {
   "cell_type": "code",
   "execution_count": 13,
   "metadata": {},
   "outputs": [
    {
     "name": "stdout",
     "output_type": "stream",
     "text": [
      "\u001b[32m2024-07-07 21:11:06.054\u001b[0m [ \u001b[33m\u001b[1m⚠️\u001b[0m ] \u001b[36mqubx.core.loggers\u001b[0m:\u001b[36m__init__\u001b[0m:\u001b[36m324\u001b[0m - \u001b[33m\u001b[1mLog writer is not defined - strategy activity will not be saved !\u001b[0m\n"
     ]
    },
    {
     "name": "stdout",
     "output_type": "stream",
     "text": [
      "\u001b[32m2024-07-07 21:11:06.055\u001b[0m [ \u001b[1mℹ️\u001b[0m ] \u001b[1m(StrategyContext) set strategy parameters:\n",
      "\tset \u001b[32mcapital_invested\u001b[0m\u001b[1m <- \u001b[31m100\u001b[0m\u001b[1m\n",
      "\tset \u001b[32mtrading_allowed\u001b[0m\u001b[1m <- \u001b[31mFalse\u001b[0m\u001b[1m\u001b[0m\n",
      "\u001b[32m2024-07-07 21:11:06.057\u001b[0m [ \u001b[34m\u001b[1m🐞\u001b[0m ] \u001b[34m\u001b[1mNext (time_event) event scheduled at \u001b[31m2024-07-07 21:11:07\u001b[0m\u001b[34m\u001b[1m\u001b[0m\n",
      "\u001b[32m2024-07-07 21:11:06.782\u001b[0m [ \u001b[1mℹ️\u001b[0m ] \u001b[1m(StrategyContext) Subscribing to trades updates using {'timeframe': '1Sec', 'nback': 100} for \n",
      "\t['LINKUSDT', 'XRPUSDT', 'PEPEUSDT'] \u001b[0m\n",
      "\u001b[32m2024-07-07 21:11:06.783\u001b[0m [ \u001b[1mℹ️\u001b[0m ] \u001b[1mSubscribed on trades updates for 3 symbols: \n",
      "\t\t['LINKUSDT', 'XRPUSDT', 'PEPEUSDT']\u001b[0m\n",
      "\u001b[32m2024-07-07 21:11:06.786\u001b[0m [ \u001b[1mℹ️\u001b[0m ] \u001b[1m> Started with capital 100\u001b[0m\n",
      "\u001b[32m2024-07-07 21:11:06.790\u001b[0m [ \u001b[1mℹ️\u001b[0m ] \u001b[1m(StrategyContext) Start processing market data\u001b[0m\n",
      "\u001b[32m2024-07-07 21:11:06.791\u001b[0m [ \u001b[1mℹ️\u001b[0m ] \u001b[1mListening to trades for LINKUSDT 1s 100...\u001b[0m\n",
      "\u001b[32m2024-07-07 21:11:06.792\u001b[0m [ \u001b[1mℹ️\u001b[0m ] \u001b[1m(StrategyContext) strategy is started\u001b[0m\n",
      "\u001b[32m2024-07-07 21:11:06.796\u001b[0m [ \u001b[1mℹ️\u001b[0m ] \u001b[1mListening to trades for XRPUSDT 1s 100...\u001b[0m\n",
      "\u001b[32m2024-07-07 21:11:06.799\u001b[0m [ \u001b[1mℹ️\u001b[0m ] \u001b[1mListening to trades for PEPEUSDT 1s 100...\u001b[0m\n",
      "\u001b[32m2024-07-07 21:11:07.022\u001b[0m [ \u001b[33m\u001b[1m⚠️\u001b[0m ] \u001b[36mqubx.core.strategy\u001b[0m:\u001b[36m_process_incoming_data\u001b[0m:\u001b[36m411\u001b[0m - \u001b[33m\u001b[1m[2024-07-07T21:11:07.022881000] TradeTestStrat::on_event() is SKIPPED for now because on_fit() was not called yet !\u001b[0m\n",
      "\u001b[32m2024-07-07 21:11:07.025\u001b[0m [ \u001b[34m\u001b[1m🐞\u001b[0m ] \u001b[34m\u001b[1mNext (time_event) event scheduled at \u001b[31m2024-07-07 21:11:08\u001b[0m\u001b[34m\u001b[1m\u001b[0m\n",
      "\u001b[32m2024-07-07 21:11:08.006\u001b[0m [ \u001b[34m\u001b[1m🐞\u001b[0m ] \u001b[34m\u001b[1mNext (time_event) event scheduled at \u001b[31m2024-07-07 21:11:09\u001b[0m\u001b[34m\u001b[1m\u001b[0m\n",
      "\u001b[32m2024-07-07 21:11:08.007\u001b[0m [ \u001b[33m\u001b[1m⚠️\u001b[0m ] \u001b[36mqubx.core.strategy\u001b[0m:\u001b[36m_process_incoming_data\u001b[0m:\u001b[36m411\u001b[0m - \u001b[33m\u001b[1m[2024-07-07T21:11:08.007104000] TradeTestStrat::on_event() is SKIPPED for now because on_fit() was not called yet !\u001b[0m\n",
      "\u001b[32m2024-07-07 21:11:09.012\u001b[0m [ \u001b[34m\u001b[1m🐞\u001b[0m ] \u001b[34m\u001b[1mNext (time_event) event scheduled at \u001b[31m2024-07-07 21:11:10\u001b[0m\u001b[34m\u001b[1m\u001b[0m\n",
      "\u001b[32m2024-07-07 21:11:09.024\u001b[0m [ \u001b[33m\u001b[1m⚠️\u001b[0m ] \u001b[36mqubx.core.strategy\u001b[0m:\u001b[36m_process_incoming_data\u001b[0m:\u001b[36m411\u001b[0m - \u001b[33m\u001b[1m[2024-07-07T21:11:09.024628000] TradeTestStrat::on_event() is SKIPPED for now because on_fit() was not called yet !\u001b[0m\n",
      "\u001b[32m2024-07-07 21:11:09.890\u001b[0m [ \u001b[1mℹ️\u001b[0m ] \u001b[1mLINKUSDT: loaded 101 1s bars\u001b[0m\n",
      "\u001b[32m2024-07-07 21:11:09.915\u001b[0m [ \u001b[1mℹ️\u001b[0m ] \u001b[1mXRPUSDT: loaded 101 1s bars\u001b[0m\n",
      "\u001b[32m2024-07-07 21:11:09.943\u001b[0m [ \u001b[1mℹ️\u001b[0m ] \u001b[1mPEPEUSDT: loaded 101 1s bars\u001b[0m\n",
      "\u001b[32m2024-07-07 21:11:09.958\u001b[0m [ \u001b[34m\u001b[1m🐞\u001b[0m ] \u001b[34m\u001b[1m[2024-07-07T21:11:09.958413000]: Invoking TradeTestStrat on_fit('2024-07-07 21:11:06.057621', 'None')\u001b[0m\n",
      "\u001b[32m2024-07-07 21:11:09.976\u001b[0m [ \u001b[1mℹ️\u001b[0m ] \u001b[1m> Fit is called | fit_time: 2024-07-07 21:11:06.057621 / prev: None\u001b[0m\n",
      "\u001b[32m2024-07-07 21:11:09.986\u001b[0m [ \u001b[1mℹ️\u001b[0m ] \u001b[1m                      close   close     close\n",
      "2024-07-07 21:05:00  12.626  0.4281  0.000009\n",
      "2024-07-07 21:10:00  12.590  0.4272  0.000009\u001b[0m\n",
      "\u001b[32m2024-07-07 21:11:09.989\u001b[0m [ \u001b[34m\u001b[1m🐞\u001b[0m ] \u001b[34m\u001b[1m[2024-07-07T21:11:09.989397000]: TradeTestStrat is fitted\u001b[0m\n",
      "\u001b[32m2024-07-07 21:11:10.024\u001b[0m [ \u001b[34m\u001b[1m🐞\u001b[0m ] \u001b[34m\u001b[1mNext (time_event) event scheduled at \u001b[31m2024-07-07 21:11:11\u001b[0m\u001b[34m\u001b[1m\u001b[0m\n",
      "\u001b[32m2024-07-07 21:11:11.004\u001b[0m [ \u001b[34m\u001b[1m🐞\u001b[0m ] \u001b[34m\u001b[1mNext (time_event) event scheduled at \u001b[31m2024-07-07 21:11:12\u001b[0m\u001b[34m\u001b[1m\u001b[0m\n",
      "\u001b[32m2024-07-07 21:11:12.095\u001b[0m [ \u001b[34m\u001b[1m🐞\u001b[0m ] \u001b[34m\u001b[1mNext (time_event) event scheduled at \u001b[31m2024-07-07 21:11:13\u001b[0m\u001b[34m\u001b[1m\u001b[0m\n",
      "\u001b[32m2024-07-07 21:11:13.039\u001b[0m [ \u001b[34m\u001b[1m🐞\u001b[0m ] \u001b[34m\u001b[1mNext (time_event) event scheduled at \u001b[31m2024-07-07 21:11:14\u001b[0m\u001b[34m\u001b[1m\u001b[0m\n",
      "\u001b[32m2024-07-07 21:11:14.011\u001b[0m [ \u001b[34m\u001b[1m🐞\u001b[0m ] \u001b[34m\u001b[1mNext (time_event) event scheduled at \u001b[31m2024-07-07 21:11:15\u001b[0m\u001b[34m\u001b[1m\u001b[0m\n",
      "\u001b[32m2024-07-07 21:11:15.098\u001b[0m [ \u001b[34m\u001b[1m🐞\u001b[0m ] \u001b[34m\u001b[1mNext (time_event) event scheduled at \u001b[31m2024-07-07 21:11:16\u001b[0m\u001b[34m\u001b[1m\u001b[0m\n",
      "\u001b[32m2024-07-07 21:11:16.042\u001b[0m [ \u001b[34m\u001b[1m🐞\u001b[0m ] \u001b[34m\u001b[1mNext (time_event) event scheduled at \u001b[31m2024-07-07 21:11:17\u001b[0m\u001b[34m\u001b[1m\u001b[0m\n",
      "\u001b[32m2024-07-07 21:11:17.012\u001b[0m [ \u001b[34m\u001b[1m🐞\u001b[0m ] \u001b[34m\u001b[1mNext (time_event) event scheduled at \u001b[31m2024-07-07 21:11:18\u001b[0m\u001b[34m\u001b[1m\u001b[0m\n",
      "\u001b[32m2024-07-07 21:11:18.099\u001b[0m [ \u001b[34m\u001b[1m🐞\u001b[0m ] \u001b[34m\u001b[1mNext (time_event) event scheduled at \u001b[31m2024-07-07 21:11:19\u001b[0m\u001b[34m\u001b[1m\u001b[0m\n",
      "\u001b[32m2024-07-07 21:11:19.042\u001b[0m [ \u001b[34m\u001b[1m🐞\u001b[0m ] \u001b[34m\u001b[1mNext (time_event) event scheduled at \u001b[31m2024-07-07 21:11:20\u001b[0m\u001b[34m\u001b[1m\u001b[0m\n",
      "\u001b[32m2024-07-07 21:11:20.014\u001b[0m [ \u001b[34m\u001b[1m🐞\u001b[0m ] \u001b[34m\u001b[1mNext (time_event) event scheduled at \u001b[31m2024-07-07 21:11:21\u001b[0m\u001b[34m\u001b[1m\u001b[0m\n",
      "\u001b[32m2024-07-07 21:11:21.099\u001b[0m [ \u001b[34m\u001b[1m🐞\u001b[0m ] \u001b[34m\u001b[1mNext (time_event) event scheduled at \u001b[31m2024-07-07 21:11:22\u001b[0m\u001b[34m\u001b[1m\u001b[0m\n",
      "\u001b[32m2024-07-07 21:11:22.042\u001b[0m [ \u001b[34m\u001b[1m🐞\u001b[0m ] \u001b[34m\u001b[1mNext (time_event) event scheduled at \u001b[31m2024-07-07 21:11:23\u001b[0m\u001b[34m\u001b[1m\u001b[0m\n",
      "\u001b[32m2024-07-07 21:11:23.013\u001b[0m [ \u001b[34m\u001b[1m🐞\u001b[0m ] \u001b[34m\u001b[1mNext (time_event) event scheduled at \u001b[31m2024-07-07 21:11:24\u001b[0m\u001b[34m\u001b[1m\u001b[0m\n",
      "\u001b[32m2024-07-07 21:11:24.098\u001b[0m [ \u001b[34m\u001b[1m🐞\u001b[0m ] \u001b[34m\u001b[1mNext (time_event) event scheduled at \u001b[31m2024-07-07 21:11:25\u001b[0m\u001b[34m\u001b[1m\u001b[0m\n",
      "\u001b[32m2024-07-07 21:11:25.042\u001b[0m [ \u001b[34m\u001b[1m🐞\u001b[0m ] \u001b[34m\u001b[1mNext (time_event) event scheduled at \u001b[31m2024-07-07 21:11:26\u001b[0m\u001b[34m\u001b[1m\u001b[0m\n",
      "\u001b[32m2024-07-07 21:11:26.013\u001b[0m [ \u001b[34m\u001b[1m🐞\u001b[0m ] \u001b[34m\u001b[1mNext (time_event) event scheduled at \u001b[31m2024-07-07 21:11:27\u001b[0m\u001b[34m\u001b[1m\u001b[0m\n",
      "\u001b[32m2024-07-07 21:11:27.099\u001b[0m [ \u001b[34m\u001b[1m🐞\u001b[0m ] \u001b[34m\u001b[1mNext (time_event) event scheduled at \u001b[31m2024-07-07 21:11:28\u001b[0m\u001b[34m\u001b[1m\u001b[0m\n",
      "\u001b[32m2024-07-07 21:11:28.041\u001b[0m [ \u001b[34m\u001b[1m🐞\u001b[0m ] \u001b[34m\u001b[1mNext (time_event) event scheduled at \u001b[31m2024-07-07 21:11:29\u001b[0m\u001b[34m\u001b[1m\u001b[0m\n",
      "\u001b[32m2024-07-07 21:11:29.012\u001b[0m [ \u001b[34m\u001b[1m🐞\u001b[0m ] \u001b[34m\u001b[1mNext (time_event) event scheduled at \u001b[31m2024-07-07 21:11:30\u001b[0m\u001b[34m\u001b[1m\u001b[0m\n",
      "\u001b[32m2024-07-07 21:11:30.098\u001b[0m [ \u001b[34m\u001b[1m🐞\u001b[0m ] \u001b[34m\u001b[1mNext (time_event) event scheduled at \u001b[31m2024-07-07 21:11:31\u001b[0m\u001b[34m\u001b[1m\u001b[0m\n",
      "\u001b[32m2024-07-07 21:11:31.041\u001b[0m [ \u001b[34m\u001b[1m🐞\u001b[0m ] \u001b[34m\u001b[1mNext (time_event) event scheduled at \u001b[31m2024-07-07 21:11:32\u001b[0m\u001b[34m\u001b[1m\u001b[0m\n",
      "\u001b[32m2024-07-07 21:11:32.012\u001b[0m [ \u001b[34m\u001b[1m🐞\u001b[0m ] \u001b[34m\u001b[1mNext (time_event) event scheduled at \u001b[31m2024-07-07 21:11:33\u001b[0m\u001b[34m\u001b[1m\u001b[0m\n",
      "\u001b[32m2024-07-07 21:11:33.098\u001b[0m [ \u001b[34m\u001b[1m🐞\u001b[0m ] \u001b[34m\u001b[1mNext (time_event) event scheduled at \u001b[31m2024-07-07 21:11:34\u001b[0m\u001b[34m\u001b[1m\u001b[0m\n",
      "\u001b[32m2024-07-07 21:11:33.235\u001b[0m [ \u001b[1mℹ️\u001b[0m ] \u001b[1mStopped by user\u001b[0m\n",
      "\u001b[32m2024-07-07 21:11:33.236\u001b[0m [ \u001b[1mℹ️\u001b[0m ] \u001b[1m> test is stopped\u001b[0m\n",
      "\u001b[32m2024-07-07 21:11:33.236\u001b[0m [ \u001b[1mℹ️\u001b[0m ] \u001b[1m(StrategyContext) Market data processing stopped\u001b[0m\n",
      "\u001b[32m2024-07-07 21:11:33.238\u001b[0m [ \u001b[1mℹ️\u001b[0m ] \u001b[1m\t\u001b[37mCachedMarketDataHolder.update_by_bar\u001b[0m\u001b[1m took \u001b[31m0.0000095\u001b[0m\u001b[1m secs\u001b[0m\n",
      "\u001b[32m2024-07-07 21:11:33.240\u001b[0m [ \u001b[1mℹ️\u001b[0m ] \u001b[1m\t\u001b[37mStrategyContext.handler\u001b[0m\u001b[1m took \u001b[31m0.0000164\u001b[0m\u001b[1m secs\u001b[0m\n",
      "\u001b[32m2024-07-07 21:11:33.241\u001b[0m [ \u001b[1mℹ️\u001b[0m ] \u001b[1m\t\u001b[37mStrategyContext._process_incoming_data\u001b[0m\u001b[1m took \u001b[31m0.1329745\u001b[0m\u001b[1m secs\u001b[0m\n",
      "\u001b[32m2024-07-07 21:11:33.242\u001b[0m [ \u001b[1mℹ️\u001b[0m ] \u001b[1m\t\u001b[37mloggers.notify\u001b[0m\u001b[1m took \u001b[31m0.0000080\u001b[0m\u001b[1m secs\u001b[0m\n",
      "\u001b[32m2024-07-07 21:11:33.243\u001b[0m [ \u001b[1mℹ️\u001b[0m ] \u001b[1m\t\u001b[37mCachedMarketDataHolder.get_ohlcv\u001b[0m\u001b[1m took \u001b[31m0.0005589\u001b[0m\u001b[1m secs\u001b[0m\n",
      "\u001b[32m2024-07-07 21:11:33.244\u001b[0m [ \u001b[1mℹ️\u001b[0m ] \u001b[1m\t\u001b[37mstrategy.on_fit\u001b[0m\u001b[1m took \u001b[31m0.0182658\u001b[0m\u001b[1m secs\u001b[0m\n",
      "\u001b[32m2024-07-07 21:11:33.246\u001b[0m [ \u001b[1mℹ️\u001b[0m ] \u001b[1m\t\u001b[37mCachedMarketDataHolder.update_by_trade\u001b[0m\u001b[1m took \u001b[31m0.0000804\u001b[0m\u001b[1m secs\u001b[0m\n",
      "\u001b[32m2024-07-07 21:11:33.247\u001b[0m [ \u001b[1mℹ️\u001b[0m ] \u001b[1m\t\u001b[37mstrategy.on_event\u001b[0m\u001b[1m took \u001b[31m0.0000098\u001b[0m\u001b[1m secs\u001b[0m\n"
     ]
    },
    {
     "name": "stdout",
     "output_type": "stream",
     "text": [
      "\u001b[32m2024-07-07 21:11:33.281\u001b[0m [ \u001b[34m\u001b[1m🐞\u001b[0m ] \u001b[34m\u001b[1mScheduler is stopped \u001b[0m\n"
     ]
    }
   ],
   "source": [
    "symbols = ['LINK', 'XRP', 'PEPE'] \n",
    "instruments = [lookup.find_instrument('BINANCE', s, 'USDT') for s in symbols]\n",
    "\n",
    "channel = cc.get_communication_channel()\n",
    "if not channel.control.is_set():\n",
    "    channel.start()\n",
    "\n",
    "ctx = StrategyContext(\n",
    "    TradeTestStrat(), dict(\n",
    "        capital_invested=100,\n",
    "        trading_allowed=False\n",
    "    ), \n",
    "    data, brok, instruments=instruments,  # type: ignore\n",
    "    md_subscription=dict(type='trades', timeframe='1Sec', nback=100),\n",
    "    # every second\n",
    "    trigger_spec=\"* * * * * *\"\n",
    ")\n",
    "S = ctx.strategy\n",
    "\n",
    "try:\n",
    "    ctx.start(blocking=True)\n",
    "except KeyboardInterrupt:\n",
    "    logger.info(\"Stopped by user\")\n",
    "finally:\n",
    "    ctx.stop()\n",
    "    channel.stop()\n",
    "    clear_queue(channel.queue)"
   ]
  },
  {
   "cell_type": "code",
   "execution_count": 6,
   "metadata": {},
   "outputs": [
    {
     "data": {
      "image/png": "[encoded data removed]",
      "text/plain": [
       "<Figure size 960x400 with 1 Axes>"
      ]
     },
     "metadata": {},
     "output_type": "display_data"
    }
   ],
   "source": [
    "N = lambda x: x / x.iloc[0]\n",
    "for s, hh in S.ohlcs('1Sec').items():\n",
    "    plt.plot(N(hh.close), label=s)\n",
    "plt.legend();"
   ]
  },
  {
   "cell_type": "markdown",
   "metadata": {},
   "source": [
    "### Try out running nimble AOI detection live"
   ]
  },
  {
   "cell_type": "code",
   "execution_count": 27,
   "metadata": {},
   "outputs": [
    {
     "name": "stdout",
     "output_type": "stream",
     "text": [
      "\u001b[32m2024-07-07 23:12:56.672\u001b[0m [ \u001b[1mℹ️\u001b[0m ] \u001b[1mBINANCE loading ...\u001b[0m\n",
      "\u001b[32m2024-07-07 23:13:00.374\u001b[0m [ \u001b[1mℹ️\u001b[0m ] \u001b[1mLoading account data for Binance\u001b[0m\n",
      "\u001b[32m2024-07-07 23:13:00.619\u001b[0m [ \u001b[1mℹ️\u001b[0m ] \u001b[1mBINANCE initialized - current time 2024-07-07T23:13:00.619354000\u001b[0m\n",
      "\u001b[32m2024-07-07 23:13:00.620\u001b[0m [ \u001b[33m\u001b[1m⚠️\u001b[0m ] \u001b[36mqubx.core.loggers\u001b[0m:\u001b[36m__init__\u001b[0m:\u001b[36m324\u001b[0m - \u001b[33m\u001b[1mLog writer is not defined - strategy activity will not be saved !\u001b[0m\n",
      "\u001b[32m2024-07-07 23:13:00.621\u001b[0m [ \u001b[1mℹ️\u001b[0m ] \u001b[1m(StrategyContext) set strategy parameters:\n",
      "\tset \u001b[32mcapital_invested\u001b[0m\u001b[1m <- \u001b[31m100\u001b[0m\u001b[1m\n",
      "\tset \u001b[32mtrading_allowed\u001b[0m\u001b[1m <- \u001b[31mFalse\u001b[0m\u001b[1m\u001b[0m\n",
      "\u001b[32m2024-07-07 23:13:00.622\u001b[0m [ \u001b[34m\u001b[1m🐞\u001b[0m ] \u001b[34m\u001b[1mNext (time_event) event scheduled at \u001b[31m2024-07-07 23:13:10\u001b[0m\u001b[34m\u001b[1m\u001b[0m\n",
      "\u001b[32m2024-07-07 23:13:00.857\u001b[0m [ \u001b[1mℹ️\u001b[0m ] \u001b[1m(StrategyContext) Subscribing to trades updates using {'timeframe': '1Sec', 'nback': 100} for \n",
      "\t['SOLUSDT'] \u001b[0m\n",
      "\u001b[32m2024-07-07 23:13:00.858\u001b[0m [ \u001b[1mℹ️\u001b[0m ] \u001b[1mSubscribed on trades updates for 1 symbols: \n",
      "\t\t['SOLUSDT']\u001b[0m\n",
      "\u001b[32m2024-07-07 23:13:00.860\u001b[0m [ \u001b[1mℹ️\u001b[0m ] \u001b[1m> Started with capital 100\u001b[0m\n",
      "\u001b[32m2024-07-07 23:13:00.860\u001b[0m [ \u001b[1mℹ️\u001b[0m ] \u001b[1mListening to trades for SOLUSDT 1s 100...\u001b[0m\n",
      "\u001b[32m2024-07-07 23:13:00.862\u001b[0m [ \u001b[1mℹ️\u001b[0m ] \u001b[1m(StrategyContext) Start processing market data\u001b[0m\n",
      "\u001b[32m2024-07-07 23:13:00.863\u001b[0m [ \u001b[1mℹ️\u001b[0m ] \u001b[1m(StrategyContext) strategy is started\u001b[0m\n",
      "\u001b[32m2024-07-07 23:13:03.076\u001b[0m [ \u001b[1mℹ️\u001b[0m ] \u001b[1mSOLUSDT: loaded 101 1s bars\u001b[0m\n",
      "\u001b[32m2024-07-07 23:13:03.082\u001b[0m [ \u001b[34m\u001b[1m🐞\u001b[0m ] \u001b[34m\u001b[1m[2024-07-07T23:13:03.082525000]: Invoking NimbleI_AOI on_fit('2024-07-07 23:13:00.622276', 'None')\u001b[0m\n",
      "\u001b[32m2024-07-07 23:13:03.083\u001b[0m [ \u001b[1mℹ️\u001b[0m ] \u001b[1m> Fit is called | fit_time: 2024-07-07 23:13:00.622276 / prev: None\u001b[0m\n",
      "\u001b[32m2024-07-07 23:13:03.085\u001b[0m [ \u001b[1mℹ️\u001b[0m ] \u001b[1mLoading historical data 4h bars 42.0\u001b[0m\n",
      "\u001b[32m2024-07-07 23:13:03.324\u001b[0m [ \u001b[34m\u001b[1m🐞\u001b[0m ] \u001b[34m\u001b[1mSOLUSDT -> loaded 42 bars\u001b[0m\n",
      "\u001b[32m2024-07-07 23:13:03.327\u001b[0m [ \u001b[1mℹ️\u001b[0m ] \u001b[1mWarming up AOI finders\u001b[0m\n",
      "\u001b[32m2024-07-07 23:13:03.331\u001b[0m [ \u001b[1mℹ️\u001b[0m ] \u001b[1mFinished fitting\u001b[0m\n",
      "\u001b[32m2024-07-07 23:13:03.332\u001b[0m [ \u001b[34m\u001b[1m🐞\u001b[0m ] \u001b[34m\u001b[1m[2024-07-07T23:13:03.332387000]: NimbleI_AOI is fitted\u001b[0m\n",
      "\u001b[32m2024-07-07 23:13:10.090\u001b[0m [ \u001b[34m\u001b[1m🐞\u001b[0m ] \u001b[34m\u001b[1mNext (time_event) event scheduled at \u001b[31m2024-07-07 23:13:20\u001b[0m\u001b[34m\u001b[1m\u001b[0m\n",
      "\u001b[32m2024-07-07 23:13:10.092\u001b[0m [ \u001b[34m\u001b[1m🐞\u001b[0m ] \u001b[34m\u001b[1mAll setups for SOLUSDT: [{'id': 'D_SUP_240702160000', 'setup_type': 'SUP', 'started': Timestamp('2024-07-02 16:00:00'), 'detected': Timestamp('2024-07-02 16:00:00'), 'end': Timestamp('2024-07-03 12:00:00'), 'living_time': Timedelta('0 days 20:00:00')}]\u001b[0m\n",
      "\u001b[32m2024-07-07 23:13:10.093\u001b[0m [ \u001b[34m\u001b[1m🐞\u001b[0m ] \u001b[34m\u001b[1mAll AOIs for SOLUSDT: [AOI(id='D_SUP_240702160000.1.Eedge0', detector_id='NimbleBreakoutDetector(0.9,0.2,0.05)_SOLUSDT_4h_8h', setup_id='D_SUP_240702160000', edge_id='edge0', ts=Timestamp('2024-07-03 04:00:00'), te=Timestamp('2024-07-03 12:00:00'), zone=(143.65992598243784, 145.10374433402012), setup_state={'id': 'D_SUP_240702160000', 'setup_type': 'SUP', 'started': Timestamp('2024-07-02 16:00:00'), 'detected': Timestamp('2024-07-02 16:00:00'), 'end': None, 'living_time': Timedelta('0 days 20:00:00')}, closed=True, edge_value_at_close=144.381835158229)]\u001b[0m\n",
      "\u001b[32m2024-07-07 23:13:20.067\u001b[0m [ \u001b[34m\u001b[1m🐞\u001b[0m ] \u001b[34m\u001b[1mNext (time_event) event scheduled at \u001b[31m2024-07-07 23:13:30\u001b[0m\u001b[34m\u001b[1m\u001b[0m\n",
      "\u001b[32m2024-07-07 23:13:20.067\u001b[0m [ \u001b[34m\u001b[1m🐞\u001b[0m ] \u001b[34m\u001b[1mAll setups for SOLUSDT: [{'id': 'D_SUP_240702160000', 'setup_type': 'SUP', 'started': Timestamp('2024-07-02 16:00:00'), 'detected': Timestamp('2024-07-02 16:00:00'), 'end': Timestamp('2024-07-03 12:00:00'), 'living_time': Timedelta('0 days 20:00:00')}]\u001b[0m\n",
      "\u001b[32m2024-07-07 23:13:20.070\u001b[0m [ \u001b[34m\u001b[1m🐞\u001b[0m ] \u001b[34m\u001b[1mAll AOIs for SOLUSDT: [AOI(id='D_SUP_240702160000.1.Eedge0', detector_id='NimbleBreakoutDetector(0.9,0.2,0.05)_SOLUSDT_4h_8h', setup_id='D_SUP_240702160000', edge_id='edge0', ts=Timestamp('2024-07-03 04:00:00'), te=Timestamp('2024-07-03 12:00:00'), zone=(143.65992598243784, 145.10374433402012), setup_state={'id': 'D_SUP_240702160000', 'setup_type': 'SUP', 'started': Timestamp('2024-07-02 16:00:00'), 'detected': Timestamp('2024-07-02 16:00:00'), 'end': None, 'living_time': Timedelta('0 days 20:00:00')}, closed=True, edge_value_at_close=144.381835158229)]\u001b[0m\n",
      "\u001b[32m2024-07-07 23:13:23.922\u001b[0m [ \u001b[1mℹ️\u001b[0m ] \u001b[1mStopped by user\u001b[0m\n",
      "\u001b[32m2024-07-07 23:13:23.924\u001b[0m [ \u001b[1mℹ️\u001b[0m ] \u001b[1m> test is stopped\u001b[0m\n",
      "\u001b[32m2024-07-07 23:13:23.924\u001b[0m [ \u001b[1mℹ️\u001b[0m ] \u001b[1m(StrategyContext) Market data processing stopped\u001b[0m\n",
      "\u001b[32m2024-07-07 23:13:23.925\u001b[0m [ \u001b[1mℹ️\u001b[0m ] \u001b[1m\t\u001b[37mCachedMarketDataHolder.update_by_bar\u001b[0m\u001b[1m took \u001b[31m0.0000055\u001b[0m\u001b[1m secs\u001b[0m\n",
      "\u001b[32m2024-07-07 23:13:23.927\u001b[0m [ \u001b[1mℹ️\u001b[0m ] \u001b[1m\t\u001b[37mStrategyContext.handler\u001b[0m\u001b[1m took \u001b[31m0.0000054\u001b[0m\u001b[1m secs\u001b[0m\n",
      "\u001b[32m2024-07-07 23:13:23.928\u001b[0m [ \u001b[1mℹ️\u001b[0m ] \u001b[1m\t\u001b[37mStrategyContext._process_incoming_data\u001b[0m\u001b[1m took \u001b[31m0.1039343\u001b[0m\u001b[1m secs\u001b[0m\n",
      "\u001b[32m2024-07-07 23:13:23.929\u001b[0m [ \u001b[1mℹ️\u001b[0m ] \u001b[1m\t\u001b[37mloggers.notify\u001b[0m\u001b[1m took \u001b[31m0.0000035\u001b[0m\u001b[1m secs\u001b[0m\n",
      "\u001b[32m2024-07-07 23:13:23.929\u001b[0m [ \u001b[1mℹ️\u001b[0m ] \u001b[1m\t\u001b[37mCachedMarketDataHolder.get_ohlcv\u001b[0m\u001b[1m took \u001b[31m0.0011710\u001b[0m\u001b[1m secs\u001b[0m\n",
      "\u001b[32m2024-07-07 23:13:23.930\u001b[0m [ \u001b[1mℹ️\u001b[0m ] \u001b[1m\t\u001b[37mCachedMarketDataHolder.update_by_bars\u001b[0m\u001b[1m took \u001b[31m0.0004119\u001b[0m\u001b[1m secs\u001b[0m\n",
      "\u001b[32m2024-07-07 23:13:23.931\u001b[0m [ \u001b[1mℹ️\u001b[0m ] \u001b[1m\t\u001b[37mStrategyContext.get_historical_ohlcs\u001b[0m\u001b[1m took \u001b[31m0.2399841\u001b[0m\u001b[1m secs\u001b[0m\n",
      "\u001b[32m2024-07-07 23:13:23.931\u001b[0m [ \u001b[1mℹ️\u001b[0m ] \u001b[1m\t\u001b[37mstrategy.on_fit\u001b[0m\u001b[1m took \u001b[31m0.2506498\u001b[0m\u001b[1m secs\u001b[0m\n",
      "\u001b[32m2024-07-07 23:13:23.932\u001b[0m [ \u001b[1mℹ️\u001b[0m ] \u001b[1m\t\u001b[37mCachedMarketDataHolder.update_by_trade\u001b[0m\u001b[1m took \u001b[31m0.0000759\u001b[0m\u001b[1m secs\u001b[0m\n",
      "\u001b[32m2024-07-07 23:13:23.932\u001b[0m [ \u001b[1mℹ️\u001b[0m ] \u001b[1m\t\u001b[37mstrategy.on_event\u001b[0m\u001b[1m took \u001b[31m0.0030407\u001b[0m\u001b[1m secs\u001b[0m\n"
     ]
    },
    {
     "name": "stdout",
     "output_type": "stream",
     "text": [
      "\u001b[32m2024-07-07 23:13:24.916\u001b[0m [ \u001b[34m\u001b[1m🐞\u001b[0m ] \u001b[34m\u001b[1mScheduler is stopped \u001b[0m\n"
     ]
    }
   ],
   "source": [
    "brok = CCXTSyncTradingConnector('binance', **acc)\n",
    "data = CCXTDataConnector('binance', brok, **acc)\n",
    "\n",
    "symbols = ['SOL'] \n",
    "instruments = [lookup.find_instrument('BINANCE', s, 'USDT') for s in symbols]\n",
    "\n",
    "channel = cc.get_communication_channel()\n",
    "if not channel.control.is_set():\n",
    "    channel.start()\n",
    "\n",
    "try:\n",
    "    ctx = StrategyContext(\n",
    "        NimbleI_AOI(), dict(\n",
    "            capital_invested=100,\n",
    "            trading_allowed=False\n",
    "        ), \n",
    "        data, brok, instruments=instruments,  # type: ignore\n",
    "        md_subscription=dict(type='trades', timeframe='1Sec', nback=100),\n",
    "        # every 10 seconds\n",
    "        trigger_spec=\"* * * * * */10\"\n",
    "    )\n",
    "    S = ctx.strategy\n",
    "    ctx.start(blocking=True)\n",
    "except KeyboardInterrupt:\n",
    "    logger.info(\"Stopped by user\")\n",
    "finally:\n",
    "    ctx.stop()\n",
    "    channel.stop()\n",
    "    clear_queue(channel.queue)"
   ]
  },
  {
   "cell_type": "code",
   "execution_count": null,
   "metadata": {},
   "outputs": [],
   "source": []
  }
 ],
 "metadata": {
  "kernelspec": {
   "display_name": "xincubator",
   "language": "python",
   "name": "xincubator"
  }
 },
 "nbformat": 4,
 "nbformat_minor": 2
}
