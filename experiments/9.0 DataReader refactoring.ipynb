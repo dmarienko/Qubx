{
 "cells": [
  {
   "cell_type": "code",
   "execution_count": 1,
   "metadata": {},
   "outputs": [
    {
     "name": "stdout",
     "output_type": "stream",
     "text": [
      " >  [\u001b[32mdev\u001b[0m] \u001b[31minstalling cython rebuilding hook\u001b[0m\n",
      "\n",
      "⠀⠀⡰⡖⠒⠒⢒⢦⠀⠀   \n",
      "⠀⢠⠃⠈⢆⣀⣎⣀⣱⡀  \u001b[31mQUBX\u001b[0m | \u001b[36mQuantitative Backtesting Environment\u001b[0m \n",
      "⠀⢳⠒⠒⡞⠚⡄⠀⡰⠁         (c) 2024, ver. \u001b[35mDev\u001b[0m\n",
      "⠀⠀⠱⣜⣀⣀⣈⣦⠃⠀⠀⠀ \n",
      "        \n"
     ]
    }
   ],
   "source": [
    "import sys, os, re; sys.path = ([\"../src/\", \"../\"] if re.match(r'^(\\w\\:\\\\)|(/)', os.getcwd()) else [])+ sys.path \n",
    "from typing import Any, Optional, List\n",
    "\n",
    "import qubx\n",
    "from qubx import logger, lookup\n",
    "from qubx.backtester.simulator import simulate\n",
    "from qubx.core.metrics import tearsheet\n",
    "from qubx.core.strategy import IStrategy, TriggerEvent, StrategyContext\n",
    "from qubx.trackers import Capital, PortfolioRebalancerTracker\n",
    "from qubx.core.basics import Instrument, Position, Signal\n",
    "\n",
    "%qubxd dev \n",
    "\n",
    "%load_ext autoreload\n",
    "%autoreload 2\n",
    "\n",
    "from qubx import lookup, logger\n",
    "from qubx.data.readers import CsvStorageDataReader, MultiQdbConnector, QuestDBConnector, DataReader, AsTimestampedRecords, AsQuotes, RestoreTicksFromOHLC, AsPandasFrame, RestoreTicksFromOHLC, AsOhlcvSeries\n",
    "from qubx.pandaz.utils import *\n",
    "from qubx.data.helpers import  InMemoryCachedReader, loader"
   ]
  },
  {
   "cell_type": "markdown",
   "metadata": {},
   "source": [
    "# Aux Data interface"
   ]
  },
  {
   "cell_type": "code",
   "execution_count": 20,
   "metadata": {},
   "outputs": [],
   "source": [
    "r_csv = CsvStorageDataReader(\"../tests/data/csv\")\n",
    "r_mqc = MultiQdbConnector(\"xlydian-data\")\n",
    "r_qdb = QuestDBConnector(host=\"xlydian-data\")"
   ]
  },
  {
   "cell_type": "code",
   "execution_count": 10,
   "metadata": {},
   "outputs": [
    {
     "data": {
      "text/plain": [
       "(set(),\n",
       " {'average_quote_volume', 'candles', 'fundamental_data', 'symbols'},\n",
       " {'average_quote_volume', 'candles', 'fundamental_data', 'symbols'})"
      ]
     },
     "execution_count": 10,
     "metadata": {},
     "output_type": "execute_result"
    }
   ],
   "source": [
    "r_csv.get_aux_data_ids(), r_qdb.get_aux_data_ids(), r_mqc.get_aux_data_ids()"
   ]
  },
  {
   "cell_type": "code",
   "execution_count": null,
   "metadata": {},
   "outputs": [],
   "source": [
    "r_mqc.get_aux_data('candles', exchange='BINANCE.UM', \n",
    "                   symbols=['BTCUSDT', 'ETHUSDT'], \n",
    "                   start='2024-01-01', stop='2024-01-31')"
   ]
  },
  {
   "cell_type": "code",
   "execution_count": 26,
   "metadata": {},
   "outputs": [
    {
     "data": {
      "text/html": [
       "<div>\n",
       "<style scoped>\n",
       "    .dataframe tbody tr th:only-of-type {\n",
       "        vertical-align: middle;\n",
       "    }\n",
       "\n",
       "    .dataframe tbody tr th {\n",
       "        vertical-align: top;\n",
       "    }\n",
       "\n",
       "    .dataframe thead th {\n",
       "        text-align: right;\n",
       "    }\n",
       "</style>\n",
       "<table border=\"1\" class=\"dataframe\">\n",
       "  <thead>\n",
       "    <tr style=\"text-align: right;\">\n",
       "      <th></th>\n",
       "      <th>metric</th>\n",
       "      <th>market_cap</th>\n",
       "      <th>price</th>\n",
       "      <th>volume</th>\n",
       "      <th>volume_usd</th>\n",
       "    </tr>\n",
       "    <tr>\n",
       "      <th>timestamp</th>\n",
       "      <th>symbol</th>\n",
       "      <th></th>\n",
       "      <th></th>\n",
       "      <th></th>\n",
       "      <th></th>\n",
       "    </tr>\n",
       "  </thead>\n",
       "  <tbody>\n",
       "    <tr>\n",
       "      <th rowspan=\"5\" valign=\"top\">2024-01-01</th>\n",
       "      <th>1INCHUSDT</th>\n",
       "      <td>4.810212e+08</td>\n",
       "      <td>0.42810</td>\n",
       "      <td>2.528007e+07</td>\n",
       "      <td>1.082240e+07</td>\n",
       "    </tr>\n",
       "    <tr>\n",
       "      <th>AAVEUSDT</th>\n",
       "      <td>1.604350e+09</td>\n",
       "      <td>108.78000</td>\n",
       "      <td>1.155772e+06</td>\n",
       "      <td>1.257249e+08</td>\n",
       "    </tr>\n",
       "    <tr>\n",
       "      <th>ACHUSDT</th>\n",
       "      <td>1.051147e+08</td>\n",
       "      <td>0.02136</td>\n",
       "      <td>4.327358e+08</td>\n",
       "      <td>9.243236e+06</td>\n",
       "    </tr>\n",
       "    <tr>\n",
       "      <th>ADAUSDT</th>\n",
       "      <td>2.076801e+10</td>\n",
       "      <td>0.59410</td>\n",
       "      <td>3.323489e+08</td>\n",
       "      <td>1.974485e+08</td>\n",
       "    </tr>\n",
       "    <tr>\n",
       "      <th>AGIXUSDT</th>\n",
       "      <td>3.989788e+08</td>\n",
       "      <td>0.31970</td>\n",
       "      <td>4.189333e+07</td>\n",
       "      <td>1.339330e+07</td>\n",
       "    </tr>\n",
       "    <tr>\n",
       "      <th>...</th>\n",
       "      <th>...</th>\n",
       "      <td>...</td>\n",
       "      <td>...</td>\n",
       "      <td>...</td>\n",
       "      <td>...</td>\n",
       "    </tr>\n",
       "    <tr>\n",
       "      <th rowspan=\"5\" valign=\"top\">2024-01-31</th>\n",
       "      <th>YFIUSDT</th>\n",
       "      <td>2.435439e+08</td>\n",
       "      <td>7309.00000</td>\n",
       "      <td>1.259769e+03</td>\n",
       "      <td>9.207652e+06</td>\n",
       "    </tr>\n",
       "    <tr>\n",
       "      <th>ZECUSDT</th>\n",
       "      <td>3.307871e+08</td>\n",
       "      <td>22.59000</td>\n",
       "      <td>5.673166e+05</td>\n",
       "      <td>1.281568e+07</td>\n",
       "    </tr>\n",
       "    <tr>\n",
       "      <th>ZENUSDT</th>\n",
       "      <td>1.160340e+08</td>\n",
       "      <td>7.94800</td>\n",
       "      <td>5.515012e+05</td>\n",
       "      <td>4.383332e+06</td>\n",
       "    </tr>\n",
       "    <tr>\n",
       "      <th>ZILUSDT</th>\n",
       "      <td>3.599965e+08</td>\n",
       "      <td>0.02046</td>\n",
       "      <td>3.587373e+08</td>\n",
       "      <td>7.339764e+06</td>\n",
       "    </tr>\n",
       "    <tr>\n",
       "      <th>ZRXUSDT</th>\n",
       "      <td>2.798377e+08</td>\n",
       "      <td>0.33150</td>\n",
       "      <td>1.322362e+08</td>\n",
       "      <td>4.383631e+07</td>\n",
       "    </tr>\n",
       "  </tbody>\n",
       "</table>\n",
       "<p>5456 rows × 4 columns</p>\n",
       "</div>"
      ],
      "text/plain": [
       "metric                  market_cap       price        volume    volume_usd\n",
       "timestamp  symbol                                                         \n",
       "2024-01-01 1INCHUSDT  4.810212e+08     0.42810  2.528007e+07  1.082240e+07\n",
       "           AAVEUSDT   1.604350e+09   108.78000  1.155772e+06  1.257249e+08\n",
       "           ACHUSDT    1.051147e+08     0.02136  4.327358e+08  9.243236e+06\n",
       "           ADAUSDT    2.076801e+10     0.59410  3.323489e+08  1.974485e+08\n",
       "           AGIXUSDT   3.989788e+08     0.31970  4.189333e+07  1.339330e+07\n",
       "...                            ...         ...           ...           ...\n",
       "2024-01-31 YFIUSDT    2.435439e+08  7309.00000  1.259769e+03  9.207652e+06\n",
       "           ZECUSDT    3.307871e+08    22.59000  5.673166e+05  1.281568e+07\n",
       "           ZENUSDT    1.160340e+08     7.94800  5.515012e+05  4.383332e+06\n",
       "           ZILUSDT    3.599965e+08     0.02046  3.587373e+08  7.339764e+06\n",
       "           ZRXUSDT    2.798377e+08     0.33150  1.322362e+08  4.383631e+07\n",
       "\n",
       "[5456 rows x 4 columns]"
      ]
     },
     "execution_count": 26,
     "metadata": {},
     "output_type": "execute_result"
    }
   ],
   "source": [
    "r_qdb.get_aux_data('fundamental_data', exchange='BINANCE.UM', \n",
    "                #    symbols=['BTCUSDT', 'ETHUSDT'], \n",
    "                   start='2024-01-01', stop='2024-02-01')"
   ]
  },
  {
   "cell_type": "markdown",
   "metadata": {},
   "source": [
    "# Handy reader"
   ]
  },
  {
   "cell_type": "code",
   "execution_count": 72,
   "metadata": {},
   "outputs": [],
   "source": [
    "r_mqc = MultiQdbConnector(\"xlydian-data\")"
   ]
  },
  {
   "cell_type": "code",
   "execution_count": 73,
   "metadata": {},
   "outputs": [],
   "source": [
    "F = '4h'\n",
    "_P = lambda ds: [print(f\"{s} : {len(v)} | {v.index[0]} : {v.index[-1]}\") for s, v in ds.items()]\n",
    "mcr = InMemoryCachedReader('BINANCE.UM', r_mqc, F)"
   ]
  },
  {
   "cell_type": "code",
   "execution_count": 29,
   "metadata": {},
   "outputs": [],
   "source": [
    "mcr.read(\"BTCUSDT\", \"2020-01-01\", \"2024-08-10\", transform=AsPandasFrame());"
   ]
  },
  {
   "cell_type": "code",
   "execution_count": null,
   "metadata": {},
   "outputs": [],
   "source": [
    "mcr[\"ASTRUSDT\", '2020-01-01':'2024-01-01'].close.plot()"
   ]
  },
  {
   "cell_type": "code",
   "execution_count": null,
   "metadata": {},
   "outputs": [],
   "source": [
    "mcr[\"ASTRUSDT\", '2020-01-01':'2025-01-01'].close.plot()"
   ]
  },
  {
   "cell_type": "code",
   "execution_count": 15,
   "metadata": {},
   "outputs": [
    {
     "data": {
      "text/plain": [
       "<Axes: xlabel='timestamp'>"
      ]
     },
     "execution_count": 15,
     "metadata": {},
     "output_type": "execute_result"
    },
    {
     "data": {
      "image/png": "[encoded data removed]",
      "text/plain": [
       "<Figure size 960x400 with 1 Axes>"
      ]
     },
     "metadata": {},
     "output_type": "display_data"
    }
   ],
   "source": [
    "mcr[\"XRPUSDT\", '2020-01-01':'2025-01-01'].close.plot()"
   ]
  },
  {
   "cell_type": "code",
   "execution_count": null,
   "metadata": {},
   "outputs": [],
   "source": [
    "mcr.read(\"BTCUSDT\", \"2020-01-01\", \"2024-08-10\", transform=AsPandasFrame())"
   ]
  },
  {
   "cell_type": "code",
   "execution_count": null,
   "metadata": {},
   "outputs": [],
   "source": [
    "mcr[\"ATAUSDT\"]"
   ]
  },
  {
   "cell_type": "code",
   "execution_count": 32,
   "metadata": {},
   "outputs": [
    {
     "name": "stdout",
     "output_type": "stream",
     "text": [
      "LTCUSDT : 2191 | 2023-01-01 00:00:00 : 2024-01-01 00:00:00\n",
      "BTCUSDT : 2191 | 2023-01-01 00:00:00 : 2024-01-01 00:00:00\n"
     ]
    }
   ],
   "source": [
    "_P(mcr._get_symbols_from_to(['LTCUSDT', 'BTCUSDT'], \"2023-01-01\", \"2024-01-01\" ));"
   ]
  },
  {
   "cell_type": "code",
   "execution_count": 33,
   "metadata": {},
   "outputs": [
    {
     "name": "stdout",
     "output_type": "stream",
     "text": [
      "LTCUSDT : 7453 | 2021-01-01 00:00:00 : 2024-06-01 00:00:00\n",
      "BTCUSDT : 7459 | 2021-01-01 00:00:00 : 2024-06-01 00:00:00\n",
      "ETHUSDT : 7483 | 2021-01-01 00:00:00 : 2024-06-01 00:00:00\n",
      "SOLUSDT : 7453 | 2021-01-01 00:00:00 : 2024-06-01 00:00:00\n",
      "XRPUSDT : 7453 | 2021-01-01 00:00:00 : 2024-06-01 00:00:00\n"
     ]
    }
   ],
   "source": [
    "_P(mcr._get_symbols_from_to(['LTCUSDT', 'BTCUSDT', 'ETHUSDT', 'SOLUSDT', 'XRPUSDT'], \"2021-01-01\", \"2024-06-01\" ));"
   ]
  },
  {
   "cell_type": "code",
   "execution_count": 86,
   "metadata": {},
   "outputs": [
    {
     "data": {
      "text/plain": [
       "['fff', 'c:/data']"
      ]
     },
     "execution_count": 86,
     "metadata": {},
     "output_type": "execute_result"
    }
   ],
   "source": [
    "\"fff::c:/data\".split(\"::\")"
   ]
  },
  {
   "cell_type": "code",
   "execution_count": null,
   "metadata": {},
   "outputs": [],
   "source": [
    "mcr1 = InMemoryCachedReader('BINANCE.UM', r_mqc, F)\n",
    "_P(x1:=mcr1['LTCUSDT', \"2021-01-01\" : \"2024-06-01\"])\n",
    "_P(x2:=mcr['LTCUSDT',  \"2021-01-01\" : \"2024-06-01\"])\n",
    "all(x1==x2)"
   ]
  },
  {
   "cell_type": "code",
   "execution_count": 70,
   "metadata": {},
   "outputs": [
    {
     "data": {
      "text/html": [
       "<div>\n",
       "<style scoped>\n",
       "    .dataframe tbody tr th:only-of-type {\n",
       "        vertical-align: middle;\n",
       "    }\n",
       "\n",
       "    .dataframe tbody tr th {\n",
       "        vertical-align: top;\n",
       "    }\n",
       "\n",
       "    .dataframe thead th {\n",
       "        text-align: right;\n",
       "    }\n",
       "</style>\n",
       "<table border=\"1\" class=\"dataframe\">\n",
       "  <thead>\n",
       "    <tr style=\"text-align: right;\">\n",
       "      <th></th>\n",
       "      <th>open</th>\n",
       "      <th>high</th>\n",
       "      <th>low</th>\n",
       "      <th>close</th>\n",
       "      <th>volume</th>\n",
       "      <th>quote_volume</th>\n",
       "      <th>count</th>\n",
       "      <th>taker_buy_volume</th>\n",
       "      <th>taker_buy_quote_volume</th>\n",
       "    </tr>\n",
       "    <tr>\n",
       "      <th>timestamp</th>\n",
       "      <th></th>\n",
       "      <th></th>\n",
       "      <th></th>\n",
       "      <th></th>\n",
       "      <th></th>\n",
       "      <th></th>\n",
       "      <th></th>\n",
       "      <th></th>\n",
       "      <th></th>\n",
       "    </tr>\n",
       "  </thead>\n",
       "  <tbody>\n",
       "    <tr>\n",
       "      <th>2021-09-18 00:00:00</th>\n",
       "      <td>0.11358</td>\n",
       "      <td>0.12022</td>\n",
       "      <td>0.11148</td>\n",
       "      <td>0.11445</td>\n",
       "      <td>6.305044e+07</td>\n",
       "      <td>7351074.5</td>\n",
       "      <td>22840</td>\n",
       "      <td>26654140.0</td>\n",
       "      <td>3109883.2</td>\n",
       "    </tr>\n",
       "    <tr>\n",
       "      <th>2021-09-18 04:00:00</th>\n",
       "      <td>0.11442</td>\n",
       "      <td>0.11887</td>\n",
       "      <td>0.10412</td>\n",
       "      <td>0.10837</td>\n",
       "      <td>2.382351e+08</td>\n",
       "      <td>26215362.0</td>\n",
       "      <td>80628</td>\n",
       "      <td>109107784.0</td>\n",
       "      <td>12020291.0</td>\n",
       "    </tr>\n",
       "    <tr>\n",
       "      <th>2021-09-18 08:00:00</th>\n",
       "      <td>0.10837</td>\n",
       "      <td>0.11798</td>\n",
       "      <td>0.10440</td>\n",
       "      <td>0.11310</td>\n",
       "      <td>2.995232e+08</td>\n",
       "      <td>33087352.0</td>\n",
       "      <td>95557</td>\n",
       "      <td>140715968.0</td>\n",
       "      <td>15578291.0</td>\n",
       "    </tr>\n",
       "    <tr>\n",
       "      <th>2021-09-18 12:00:00</th>\n",
       "      <td>0.11319</td>\n",
       "      <td>0.13840</td>\n",
       "      <td>0.11272</td>\n",
       "      <td>0.13000</td>\n",
       "      <td>1.920679e+09</td>\n",
       "      <td>250446624.0</td>\n",
       "      <td>507988</td>\n",
       "      <td>974595710.0</td>\n",
       "      <td>127152928.0</td>\n",
       "    </tr>\n",
       "    <tr>\n",
       "      <th>2021-09-18 16:00:00</th>\n",
       "      <td>0.13000</td>\n",
       "      <td>0.13190</td>\n",
       "      <td>0.11319</td>\n",
       "      <td>0.11586</td>\n",
       "      <td>1.028713e+09</td>\n",
       "      <td>124677496.0</td>\n",
       "      <td>271595</td>\n",
       "      <td>498680224.0</td>\n",
       "      <td>60459776.0</td>\n",
       "    </tr>\n",
       "    <tr>\n",
       "      <th>...</th>\n",
       "      <td>...</td>\n",
       "      <td>...</td>\n",
       "      <td>...</td>\n",
       "      <td>...</td>\n",
       "      <td>...</td>\n",
       "      <td>...</td>\n",
       "      <td>...</td>\n",
       "      <td>...</td>\n",
       "      <td>...</td>\n",
       "    </tr>\n",
       "    <tr>\n",
       "      <th>2022-12-31 08:00:00</th>\n",
       "      <td>0.01640</td>\n",
       "      <td>0.01655</td>\n",
       "      <td>0.01632</td>\n",
       "      <td>0.01641</td>\n",
       "      <td>2.386384e+08</td>\n",
       "      <td>3919607.0</td>\n",
       "      <td>14892</td>\n",
       "      <td>118997912.0</td>\n",
       "      <td>1955452.8</td>\n",
       "    </tr>\n",
       "    <tr>\n",
       "      <th>2022-12-31 12:00:00</th>\n",
       "      <td>0.01640</td>\n",
       "      <td>0.01692</td>\n",
       "      <td>0.01633</td>\n",
       "      <td>0.01661</td>\n",
       "      <td>6.860614e+08</td>\n",
       "      <td>11443808.0</td>\n",
       "      <td>35514</td>\n",
       "      <td>356820256.0</td>\n",
       "      <td>5953916.0</td>\n",
       "    </tr>\n",
       "    <tr>\n",
       "      <th>2022-12-31 16:00:00</th>\n",
       "      <td>0.01661</td>\n",
       "      <td>0.01678</td>\n",
       "      <td>0.01649</td>\n",
       "      <td>0.01652</td>\n",
       "      <td>3.119849e+08</td>\n",
       "      <td>5189706.0</td>\n",
       "      <td>17815</td>\n",
       "      <td>146555328.0</td>\n",
       "      <td>2438995.5</td>\n",
       "    </tr>\n",
       "    <tr>\n",
       "      <th>2022-12-31 20:00:00</th>\n",
       "      <td>0.01651</td>\n",
       "      <td>0.01668</td>\n",
       "      <td>0.01645</td>\n",
       "      <td>0.01666</td>\n",
       "      <td>1.817625e+08</td>\n",
       "      <td>3013031.0</td>\n",
       "      <td>12770</td>\n",
       "      <td>98037120.0</td>\n",
       "      <td>1625614.4</td>\n",
       "    </tr>\n",
       "    <tr>\n",
       "      <th>2023-01-01 00:00:00</th>\n",
       "      <td>0.01666</td>\n",
       "      <td>0.01680</td>\n",
       "      <td>0.01633</td>\n",
       "      <td>0.01668</td>\n",
       "      <td>2.611413e+08</td>\n",
       "      <td>4324404.0</td>\n",
       "      <td>16339</td>\n",
       "      <td>135846016.0</td>\n",
       "      <td>2251995.0</td>\n",
       "    </tr>\n",
       "  </tbody>\n",
       "</table>\n",
       "<p>2809 rows × 9 columns</p>\n",
       "</div>"
      ],
      "text/plain": [
       "                        open     high      low    close        volume  \\\n",
       "timestamp                                                               \n",
       "2021-09-18 00:00:00  0.11358  0.12022  0.11148  0.11445  6.305044e+07   \n",
       "2021-09-18 04:00:00  0.11442  0.11887  0.10412  0.10837  2.382351e+08   \n",
       "2021-09-18 08:00:00  0.10837  0.11798  0.10440  0.11310  2.995232e+08   \n",
       "2021-09-18 12:00:00  0.11319  0.13840  0.11272  0.13000  1.920679e+09   \n",
       "2021-09-18 16:00:00  0.13000  0.13190  0.11319  0.11586  1.028713e+09   \n",
       "...                      ...      ...      ...      ...           ...   \n",
       "2022-12-31 08:00:00  0.01640  0.01655  0.01632  0.01641  2.386384e+08   \n",
       "2022-12-31 12:00:00  0.01640  0.01692  0.01633  0.01661  6.860614e+08   \n",
       "2022-12-31 16:00:00  0.01661  0.01678  0.01649  0.01652  3.119849e+08   \n",
       "2022-12-31 20:00:00  0.01651  0.01668  0.01645  0.01666  1.817625e+08   \n",
       "2023-01-01 00:00:00  0.01666  0.01680  0.01633  0.01668  2.611413e+08   \n",
       "\n",
       "                     quote_volume   count  taker_buy_volume  \\\n",
       "timestamp                                                     \n",
       "2021-09-18 00:00:00     7351074.5   22840        26654140.0   \n",
       "2021-09-18 04:00:00    26215362.0   80628       109107784.0   \n",
       "2021-09-18 08:00:00    33087352.0   95557       140715968.0   \n",
       "2021-09-18 12:00:00   250446624.0  507988       974595710.0   \n",
       "2021-09-18 16:00:00   124677496.0  271595       498680224.0   \n",
       "...                           ...     ...               ...   \n",
       "2022-12-31 08:00:00     3919607.0   14892       118997912.0   \n",
       "2022-12-31 12:00:00    11443808.0   35514       356820256.0   \n",
       "2022-12-31 16:00:00     5189706.0   17815       146555328.0   \n",
       "2022-12-31 20:00:00     3013031.0   12770        98037120.0   \n",
       "2023-01-01 00:00:00     4324404.0   16339       135846016.0   \n",
       "\n",
       "                     taker_buy_quote_volume  \n",
       "timestamp                                    \n",
       "2021-09-18 00:00:00               3109883.2  \n",
       "2021-09-18 04:00:00              12020291.0  \n",
       "2021-09-18 08:00:00              15578291.0  \n",
       "2021-09-18 12:00:00             127152928.0  \n",
       "2021-09-18 16:00:00              60459776.0  \n",
       "...                                     ...  \n",
       "2022-12-31 08:00:00               1955452.8  \n",
       "2022-12-31 12:00:00               5953916.0  \n",
       "2022-12-31 16:00:00               2438995.5  \n",
       "2022-12-31 20:00:00               1625614.4  \n",
       "2023-01-01 00:00:00               2251995.0  \n",
       "\n",
       "[2809 rows x 9 columns]"
      ]
     },
     "execution_count": 70,
     "metadata": {},
     "output_type": "execute_result"
    }
   ],
   "source": [
    "mcr[\"GALAUSDT\", :'2023-01-01']"
   ]
  },
  {
   "cell_type": "markdown",
   "metadata": {},
   "source": [
    "# Loader with external custom data and time cut"
   ]
  },
  {
   "cell_type": "markdown",
   "metadata": {},
   "source": [
    "Load external data"
   ]
  },
  {
   "cell_type": "code",
   "execution_count": 71,
   "metadata": {},
   "outputs": [],
   "source": [
    "aux_all = pd.read_csv(\"../tests/data/csv/electricity_data.csv.gz\", parse_dates=['datetime'])\n",
    "electro_aux = aux_all[(aux_all['stateDescription'] == 'U.S. Total') & (aux_all['sectorName']=='all sectors')].set_index(\"datetime\", drop=True)"
   ]
  },
  {
   "cell_type": "code",
   "execution_count": 77,
   "metadata": {},
   "outputs": [],
   "source": [
    "class _FixTimeProvider:\n",
    "    def time(self) -> np.datetime64: \n",
    "        return np.datetime64(\"2022-06-01 05:00\")\n",
    "\n",
    "ldr = loader(\n",
    "    \"BINANCE.UM\", '1h', \n",
    "    electro=electro_aux,\n",
    "    source=\"csv::../tests/data/csv/\", \n",
    "    # source=\"mqdb::xlydian-data\", \n",
    "    time_provider=_FixTimeProvider()\n",
    ")"
   ]
  },
  {
   "cell_type": "code",
   "execution_count": 78,
   "metadata": {},
   "outputs": [
    {
     "ename": "ValueError",
     "evalue": "CsvStorageDataReader doesn't have getter for 'candles' auxiliary data. Available data: set()",
     "output_type": "error",
     "traceback": [
      "\u001b[1;31m---------------------------------------------------------------------------\u001b[0m",
      "\u001b[1;31m_RemoteTraceback\u001b[0m                          Traceback (most recent call last)",
      "\u001b[1;31m_RemoteTraceback\u001b[0m: \n\"\"\"\nTraceback (most recent call last):\n  File \"c:\\Users\\dmitr\\devs\\Qubx\\.venv\\Lib\\site-packages\\joblib\\externals\\loky\\process_executor.py\", line 463, in _process_worker\n    r = call_item()\n        ^^^^^^^^^^^\n  File \"c:\\Users\\dmitr\\devs\\Qubx\\.venv\\Lib\\site-packages\\joblib\\externals\\loky\\process_executor.py\", line 291, in __call__\n    return self.fn(*self.args, **self.kwargs)\n           ^^^^^^^^^^^^^^^^^^^^^^^^^^^^^^^^^^\n  File \"c:\\Users\\dmitr\\devs\\Qubx\\.venv\\Lib\\site-packages\\joblib\\parallel.py\", line 598, in __call__\n    return [func(*args, **kwargs)\n           ^^^^^^^^^^^^^^^^^^^^^^\n  File \"c:\\Users\\dmitr\\devs\\Qubx\\.venv\\Lib\\site-packages\\joblib\\parallel.py\", line 598, in <listcomp>\n    return [func(*args, **kwargs)\n            ^^^^^^^^^^^^^^^^^^^^^\n  File \"c:\\Users\\dmitr\\devs\\Qubx\\experiments\\../src\\qubx\\data\\readers.py\", line 124, in get_aux_data\n    raise ValueError(\nValueError: CsvStorageDataReader doesn't have getter for 'candles' auxiliary data. Available data: set()\n\"\"\"",
      "\nThe above exception was the direct cause of the following exception:\n",
      "\u001b[1;31mValueError\u001b[0m                                Traceback (most recent call last)",
      "Cell \u001b[1;32mIn[78], line 1\u001b[0m\n\u001b[1;32m----> 1\u001b[0m \u001b[43mldr\u001b[49m\u001b[38;5;241;43m.\u001b[39;49m\u001b[43mread\u001b[49m\u001b[43m(\u001b[49m\u001b[38;5;124;43m'\u001b[39;49m\u001b[38;5;124;43mBTCUSDT\u001b[39;49m\u001b[38;5;124;43m'\u001b[39;49m\u001b[43m,\u001b[49m\u001b[43m \u001b[49m\u001b[38;5;124;43m'\u001b[39;49m\u001b[38;5;124;43m2010-01-01\u001b[39;49m\u001b[38;5;124;43m'\u001b[39;49m\u001b[43m,\u001b[49m\u001b[43m \u001b[49m\u001b[38;5;124;43m'\u001b[39;49m\u001b[38;5;124;43m2025-01-01\u001b[39;49m\u001b[38;5;124;43m'\u001b[39;49m\u001b[43m)\u001b[49m[\u001b[38;5;241m-\u001b[39m\u001b[38;5;241m10\u001b[39m:]\n",
      "File \u001b[1;32mc:\\Users\\dmitr\\devs\\Qubx\\experiments\\../src\\qubx\\data\\helpers.py:117\u001b[0m, in \u001b[0;36mInMemoryCachedReader.read\u001b[1;34m(self, data_id, start, stop, transform, chunksize, **kwargs)\u001b[0m\n\u001b[0;32m    115\u001b[0m \u001b[38;5;28;01mif\u001b[39;00m _start \u001b[38;5;129;01mis\u001b[39;00m \u001b[38;5;28;01mNone\u001b[39;00m \u001b[38;5;129;01mor\u001b[39;00m _stop \u001b[38;5;129;01mis\u001b[39;00m \u001b[38;5;28;01mNone\u001b[39;00m:\n\u001b[0;32m    116\u001b[0m     \u001b[38;5;28;01mraise\u001b[39;00m \u001b[38;5;167;01mValueError\u001b[39;00m(\u001b[38;5;124m\"\u001b[39m\u001b[38;5;124mStart and stop date must be provided\u001b[39m\u001b[38;5;124m\"\u001b[39m)\n\u001b[1;32m--> 117\u001b[0m \u001b[38;5;28;43mself\u001b[39;49m\u001b[38;5;241;43m.\u001b[39;49m\u001b[43m_get_smbs_at\u001b[49m\u001b[43m(\u001b[49m\u001b[43m[\u001b[49m\u001b[43msymb\u001b[49m\u001b[43m]\u001b[49m\u001b[43m,\u001b[49m\u001b[43m \u001b[49m\u001b[43m_start\u001b[49m\u001b[43m,\u001b[49m\u001b[43m \u001b[49m\u001b[43m_stop\u001b[49m\u001b[43m)\u001b[49m\n\u001b[0;32m    118\u001b[0m \u001b[38;5;28;01mreturn\u001b[39;00m \u001b[38;5;28mself\u001b[39m\u001b[38;5;241m.\u001b[39m_cut_at_current_time(\u001b[38;5;28msuper\u001b[39m()\u001b[38;5;241m.\u001b[39mread(_s_path, start, stop, transform, chunksize, \u001b[38;5;241m*\u001b[39m\u001b[38;5;241m*\u001b[39mkwargs), prev_bar\u001b[38;5;241m=\u001b[39m\u001b[38;5;28;01mTrue\u001b[39;00m)\n",
      "File \u001b[1;32mc:\\Users\\dmitr\\devs\\Qubx\\experiments\\../src\\qubx\\data\\helpers.py:207\u001b[0m, in \u001b[0;36mInMemoryCachedReader._get_smbs_at\u001b[1;34m(self, symbols, start, stop)\u001b[0m\n\u001b[0;32m    205\u001b[0m     _e_req \u001b[38;5;241m=\u001b[39m \u001b[38;5;28mmax\u001b[39m(_stop, \u001b[38;5;28mself\u001b[39m\u001b[38;5;241m.\u001b[39m_stop \u001b[38;5;28;01mif\u001b[39;00m \u001b[38;5;28mself\u001b[39m\u001b[38;5;241m.\u001b[39m_stop \u001b[38;5;28;01melse\u001b[39;00m _stop)\n\u001b[0;32m    206\u001b[0m     logger\u001b[38;5;241m.\u001b[39mdebug(\u001b[38;5;124mf\u001b[39m\u001b[38;5;124m\"\u001b[39m\u001b[38;5;124mLoading all data \u001b[39m\u001b[38;5;132;01m{\u001b[39;00m_s_req\u001b[38;5;132;01m}\u001b[39;00m\u001b[38;5;124m - \u001b[39m\u001b[38;5;132;01m{\u001b[39;00m_e_req\u001b[38;5;132;01m}\u001b[39;00m\u001b[38;5;124m for \u001b[39m\u001b[38;5;132;01m{\u001b[39;00m\u001b[38;5;250m \u001b[39m\u001b[38;5;124m'\u001b[39m\u001b[38;5;124m,\u001b[39m\u001b[38;5;124m'\u001b[39m\u001b[38;5;241m.\u001b[39mjoin(_new_symbols)\u001b[38;5;132;01m}\u001b[39;00m\u001b[38;5;124m \u001b[39m\u001b[38;5;124m\"\u001b[39m)\n\u001b[1;32m--> 207\u001b[0m     _new_data \u001b[38;5;241m=\u001b[39m \u001b[38;5;28;43mself\u001b[39;49m\u001b[38;5;241;43m.\u001b[39;49m\u001b[43m_load_data\u001b[49m\u001b[43m(\u001b[49m\u001b[43m_new_symbols\u001b[49m\u001b[43m,\u001b[49m\u001b[43m \u001b[49m\u001b[43m_s_req\u001b[49m\u001b[43m,\u001b[49m\u001b[43m \u001b[49m\u001b[43m_e_req\u001b[49m\u001b[43m \u001b[49m\u001b[38;5;241;43m+\u001b[39;49m\u001b[43m \u001b[49m\u001b[43m_dtf\u001b[49m\u001b[43m,\u001b[49m\u001b[43m \u001b[49m\u001b[38;5;28;43mself\u001b[39;49m\u001b[38;5;241;43m.\u001b[39;49m\u001b[43m_data_timeframe\u001b[49m\u001b[43m)\u001b[49m\n\u001b[0;32m    208\u001b[0m     \u001b[38;5;28mself\u001b[39m\u001b[38;5;241m.\u001b[39m_data \u001b[38;5;241m|\u001b[39m\u001b[38;5;241m=\u001b[39m _new_data\n\u001b[0;32m    210\u001b[0m \u001b[38;5;66;03m# - part intervals\u001b[39;00m\n",
      "File \u001b[1;32mc:\\Users\\dmitr\\devs\\Qubx\\experiments\\../src\\qubx\\data\\helpers.py:178\u001b[0m, in \u001b[0;36mInMemoryCachedReader._load_data\u001b[1;34m(self, symbols, start, stop, timeframe)\u001b[0m\n\u001b[0;32m    175\u001b[0m _es \u001b[38;5;241m=\u001b[39m [(start, end[\u001b[38;5;241m0\u001b[39m]) \u001b[38;5;28;01mfor\u001b[39;00m (start, _), end \u001b[38;5;129;01min\u001b[39;00m _es]\n\u001b[0;32m    176\u001b[0m _es\u001b[38;5;241m.\u001b[39mappend((_ranges[\u001b[38;5;241m-\u001b[39m\u001b[38;5;241m1\u001b[39m][\u001b[38;5;241m0\u001b[39m], \u001b[38;5;28mstr\u001b[39m(stop)))\n\u001b[1;32m--> 178\u001b[0m _results \u001b[38;5;241m=\u001b[39m \u001b[43mProgressParallel\u001b[49m\u001b[43m(\u001b[49m\u001b[43mn_jobs\u001b[49m\u001b[38;5;241;43m=\u001b[39;49m\u001b[38;5;28;43mself\u001b[39;49m\u001b[38;5;241;43m.\u001b[39;49m\u001b[43m_n_jobs\u001b[49m\u001b[43m,\u001b[49m\u001b[43m \u001b[49m\u001b[43msilent\u001b[49m\u001b[38;5;241;43m=\u001b[39;49m\u001b[38;5;28;43;01mTrue\u001b[39;49;00m\u001b[43m,\u001b[49m\u001b[43m \u001b[49m\u001b[43mtotal\u001b[49m\u001b[38;5;241;43m=\u001b[39;49m\u001b[38;5;28;43mlen\u001b[39;49m\u001b[43m(\u001b[49m\u001b[43m_ranges\u001b[49m\u001b[43m)\u001b[49m\u001b[43m)\u001b[49m\u001b[43m(\u001b[49m\n\u001b[0;32m    179\u001b[0m \u001b[43m    \u001b[49m\u001b[43mdelayed\u001b[49m\u001b[43m(\u001b[49m\u001b[38;5;28;43mself\u001b[39;49m\u001b[38;5;241;43m.\u001b[39;49m\u001b[43m_reader\u001b[49m\u001b[38;5;241;43m.\u001b[39;49m\u001b[43mget_aux_data\u001b[49m\u001b[43m)\u001b[49m\u001b[43m(\u001b[49m\n\u001b[0;32m    180\u001b[0m \u001b[43m        \u001b[49m\u001b[38;5;124;43m\"\u001b[39;49m\u001b[38;5;124;43mcandles\u001b[39;49m\u001b[38;5;124;43m\"\u001b[39;49m\u001b[43m,\u001b[49m\u001b[43m \u001b[49m\u001b[43mexchange\u001b[49m\u001b[38;5;241;43m=\u001b[39;49m\u001b[38;5;28;43mself\u001b[39;49m\u001b[38;5;241;43m.\u001b[39;49m\u001b[43mexchange\u001b[49m\u001b[43m,\u001b[49m\u001b[43m \u001b[49m\u001b[43msymbols\u001b[49m\u001b[38;5;241;43m=\u001b[39;49m\u001b[43msymbols\u001b[49m\u001b[43m,\u001b[49m\u001b[43m \u001b[49m\u001b[43mstart\u001b[49m\u001b[38;5;241;43m=\u001b[39;49m\u001b[43ms\u001b[49m\u001b[43m,\u001b[49m\u001b[43m \u001b[49m\u001b[43mstop\u001b[49m\u001b[38;5;241;43m=\u001b[39;49m\u001b[43me\u001b[49m\u001b[43m,\u001b[49m\u001b[43m \u001b[49m\u001b[43mtimeframe\u001b[49m\u001b[38;5;241;43m=\u001b[39;49m\u001b[43mtimeframe\u001b[49m\n\u001b[0;32m    181\u001b[0m \u001b[43m    \u001b[49m\u001b[43m)\u001b[49m\n\u001b[0;32m    182\u001b[0m \u001b[43m    \u001b[49m\u001b[38;5;28;43;01mfor\u001b[39;49;00m\u001b[43m \u001b[49m\u001b[43ms\u001b[49m\u001b[43m,\u001b[49m\u001b[43m \u001b[49m\u001b[43me\u001b[49m\u001b[43m \u001b[49m\u001b[38;5;129;43;01min\u001b[39;49;00m\u001b[43m \u001b[49m\u001b[43m_es\u001b[49m\n\u001b[0;32m    183\u001b[0m \u001b[43m\u001b[49m\u001b[43m)\u001b[49m\n\u001b[0;32m    184\u001b[0m \u001b[38;5;28;01mfor\u001b[39;00m (s, e), data \u001b[38;5;129;01min\u001b[39;00m \u001b[38;5;28mzip\u001b[39m(_ranges, _results):\n\u001b[0;32m    185\u001b[0m     \u001b[38;5;28;01massert\u001b[39;00m \u001b[38;5;28misinstance\u001b[39m(data, pd\u001b[38;5;241m.\u001b[39mDataFrame)\n",
      "File \u001b[1;32mc:\\Users\\dmitr\\devs\\Qubx\\experiments\\../src\\qubx\\utils\\misc.py:350\u001b[0m, in \u001b[0;36mProgressParallel.__call__\u001b[1;34m(self, *args, **kwargs)\u001b[0m\n\u001b[0;32m    348\u001b[0m \u001b[38;5;28;01mdef\u001b[39;00m \u001b[38;5;21m__call__\u001b[39m(\u001b[38;5;28mself\u001b[39m, \u001b[38;5;241m*\u001b[39margs, \u001b[38;5;241m*\u001b[39m\u001b[38;5;241m*\u001b[39mkwargs):\n\u001b[0;32m    349\u001b[0m     \u001b[38;5;28;01mif\u001b[39;00m \u001b[38;5;28mself\u001b[39m\u001b[38;5;241m.\u001b[39msilent:\n\u001b[1;32m--> 350\u001b[0m         \u001b[38;5;28;01mreturn\u001b[39;00m \u001b[43mjoblib\u001b[49m\u001b[38;5;241;43m.\u001b[39;49m\u001b[43mParallel\u001b[49m\u001b[38;5;241;43m.\u001b[39;49m\u001b[38;5;21;43m__call__\u001b[39;49m\u001b[43m(\u001b[49m\u001b[38;5;28;43mself\u001b[39;49m\u001b[43m,\u001b[49m\u001b[43m \u001b[49m\u001b[38;5;241;43m*\u001b[39;49m\u001b[43margs\u001b[49m\u001b[43m,\u001b[49m\u001b[43m \u001b[49m\u001b[38;5;241;43m*\u001b[39;49m\u001b[38;5;241;43m*\u001b[39;49m\u001b[43mkwargs\u001b[49m\u001b[43m)\u001b[49m\n\u001b[0;32m    351\u001b[0m     \u001b[38;5;28;01mwith\u001b[39;00m tqdm(total\u001b[38;5;241m=\u001b[39m\u001b[38;5;28mself\u001b[39m\u001b[38;5;241m.\u001b[39mtotal) \u001b[38;5;28;01mas\u001b[39;00m \u001b[38;5;28mself\u001b[39m\u001b[38;5;241m.\u001b[39m_pbar:\n\u001b[0;32m    352\u001b[0m         \u001b[38;5;28;01mreturn\u001b[39;00m joblib\u001b[38;5;241m.\u001b[39mParallel\u001b[38;5;241m.\u001b[39m\u001b[38;5;21m__call__\u001b[39m(\u001b[38;5;28mself\u001b[39m, \u001b[38;5;241m*\u001b[39margs, \u001b[38;5;241m*\u001b[39m\u001b[38;5;241m*\u001b[39mkwargs)\n",
      "File \u001b[1;32mc:\\Users\\dmitr\\devs\\Qubx\\.venv\\Lib\\site-packages\\joblib\\parallel.py:2007\u001b[0m, in \u001b[0;36mParallel.__call__\u001b[1;34m(self, iterable)\u001b[0m\n\u001b[0;32m   2001\u001b[0m \u001b[38;5;66;03m# The first item from the output is blank, but it makes the interpreter\u001b[39;00m\n\u001b[0;32m   2002\u001b[0m \u001b[38;5;66;03m# progress until it enters the Try/Except block of the generator and\u001b[39;00m\n\u001b[0;32m   2003\u001b[0m \u001b[38;5;66;03m# reaches the first `yield` statement. This starts the asynchronous\u001b[39;00m\n\u001b[0;32m   2004\u001b[0m \u001b[38;5;66;03m# dispatch of the tasks to the workers.\u001b[39;00m\n\u001b[0;32m   2005\u001b[0m \u001b[38;5;28mnext\u001b[39m(output)\n\u001b[1;32m-> 2007\u001b[0m \u001b[38;5;28;01mreturn\u001b[39;00m output \u001b[38;5;28;01mif\u001b[39;00m \u001b[38;5;28mself\u001b[39m\u001b[38;5;241m.\u001b[39mreturn_generator \u001b[38;5;28;01melse\u001b[39;00m \u001b[38;5;28;43mlist\u001b[39;49m\u001b[43m(\u001b[49m\u001b[43moutput\u001b[49m\u001b[43m)\u001b[49m\n",
      "File \u001b[1;32mc:\\Users\\dmitr\\devs\\Qubx\\.venv\\Lib\\site-packages\\joblib\\parallel.py:1650\u001b[0m, in \u001b[0;36mParallel._get_outputs\u001b[1;34m(self, iterator, pre_dispatch)\u001b[0m\n\u001b[0;32m   1647\u001b[0m     \u001b[38;5;28;01myield\u001b[39;00m\n\u001b[0;32m   1649\u001b[0m     \u001b[38;5;28;01mwith\u001b[39;00m \u001b[38;5;28mself\u001b[39m\u001b[38;5;241m.\u001b[39m_backend\u001b[38;5;241m.\u001b[39mretrieval_context():\n\u001b[1;32m-> 1650\u001b[0m         \u001b[38;5;28;01myield from\u001b[39;00m \u001b[38;5;28mself\u001b[39m\u001b[38;5;241m.\u001b[39m_retrieve()\n\u001b[0;32m   1652\u001b[0m \u001b[38;5;28;01mexcept\u001b[39;00m \u001b[38;5;167;01mGeneratorExit\u001b[39;00m:\n\u001b[0;32m   1653\u001b[0m     \u001b[38;5;66;03m# The generator has been garbage collected before being fully\u001b[39;00m\n\u001b[0;32m   1654\u001b[0m     \u001b[38;5;66;03m# consumed. This aborts the remaining tasks if possible and warn\u001b[39;00m\n\u001b[0;32m   1655\u001b[0m     \u001b[38;5;66;03m# the user if necessary.\u001b[39;00m\n\u001b[0;32m   1656\u001b[0m     \u001b[38;5;28mself\u001b[39m\u001b[38;5;241m.\u001b[39m_exception \u001b[38;5;241m=\u001b[39m \u001b[38;5;28;01mTrue\u001b[39;00m\n",
      "File \u001b[1;32mc:\\Users\\dmitr\\devs\\Qubx\\.venv\\Lib\\site-packages\\joblib\\parallel.py:1754\u001b[0m, in \u001b[0;36mParallel._retrieve\u001b[1;34m(self)\u001b[0m\n\u001b[0;32m   1747\u001b[0m \u001b[38;5;28;01mwhile\u001b[39;00m \u001b[38;5;28mself\u001b[39m\u001b[38;5;241m.\u001b[39m_wait_retrieval():\n\u001b[0;32m   1748\u001b[0m \n\u001b[0;32m   1749\u001b[0m     \u001b[38;5;66;03m# If the callback thread of a worker has signaled that its task\u001b[39;00m\n\u001b[0;32m   1750\u001b[0m     \u001b[38;5;66;03m# triggered an exception, or if the retrieval loop has raised an\u001b[39;00m\n\u001b[0;32m   1751\u001b[0m     \u001b[38;5;66;03m# exception (e.g. `GeneratorExit`), exit the loop and surface the\u001b[39;00m\n\u001b[0;32m   1752\u001b[0m     \u001b[38;5;66;03m# worker traceback.\u001b[39;00m\n\u001b[0;32m   1753\u001b[0m     \u001b[38;5;28;01mif\u001b[39;00m \u001b[38;5;28mself\u001b[39m\u001b[38;5;241m.\u001b[39m_aborting:\n\u001b[1;32m-> 1754\u001b[0m         \u001b[38;5;28;43mself\u001b[39;49m\u001b[38;5;241;43m.\u001b[39;49m\u001b[43m_raise_error_fast\u001b[49m\u001b[43m(\u001b[49m\u001b[43m)\u001b[49m\n\u001b[0;32m   1755\u001b[0m         \u001b[38;5;28;01mbreak\u001b[39;00m\n\u001b[0;32m   1757\u001b[0m     \u001b[38;5;66;03m# If the next job is not ready for retrieval yet, we just wait for\u001b[39;00m\n\u001b[0;32m   1758\u001b[0m     \u001b[38;5;66;03m# async callbacks to progress.\u001b[39;00m\n",
      "File \u001b[1;32mc:\\Users\\dmitr\\devs\\Qubx\\.venv\\Lib\\site-packages\\joblib\\parallel.py:1789\u001b[0m, in \u001b[0;36mParallel._raise_error_fast\u001b[1;34m(self)\u001b[0m\n\u001b[0;32m   1785\u001b[0m \u001b[38;5;66;03m# If this error job exists, immediately raise the error by\u001b[39;00m\n\u001b[0;32m   1786\u001b[0m \u001b[38;5;66;03m# calling get_result. This job might not exists if abort has been\u001b[39;00m\n\u001b[0;32m   1787\u001b[0m \u001b[38;5;66;03m# called directly or if the generator is gc'ed.\u001b[39;00m\n\u001b[0;32m   1788\u001b[0m \u001b[38;5;28;01mif\u001b[39;00m error_job \u001b[38;5;129;01mis\u001b[39;00m \u001b[38;5;129;01mnot\u001b[39;00m \u001b[38;5;28;01mNone\u001b[39;00m:\n\u001b[1;32m-> 1789\u001b[0m     \u001b[43merror_job\u001b[49m\u001b[38;5;241;43m.\u001b[39;49m\u001b[43mget_result\u001b[49m\u001b[43m(\u001b[49m\u001b[38;5;28;43mself\u001b[39;49m\u001b[38;5;241;43m.\u001b[39;49m\u001b[43mtimeout\u001b[49m\u001b[43m)\u001b[49m\n",
      "File \u001b[1;32mc:\\Users\\dmitr\\devs\\Qubx\\.venv\\Lib\\site-packages\\joblib\\parallel.py:745\u001b[0m, in \u001b[0;36mBatchCompletionCallBack.get_result\u001b[1;34m(self, timeout)\u001b[0m\n\u001b[0;32m    739\u001b[0m backend \u001b[38;5;241m=\u001b[39m \u001b[38;5;28mself\u001b[39m\u001b[38;5;241m.\u001b[39mparallel\u001b[38;5;241m.\u001b[39m_backend\n\u001b[0;32m    741\u001b[0m \u001b[38;5;28;01mif\u001b[39;00m backend\u001b[38;5;241m.\u001b[39msupports_retrieve_callback:\n\u001b[0;32m    742\u001b[0m     \u001b[38;5;66;03m# We assume that the result has already been retrieved by the\u001b[39;00m\n\u001b[0;32m    743\u001b[0m     \u001b[38;5;66;03m# callback thread, and is stored internally. It's just waiting to\u001b[39;00m\n\u001b[0;32m    744\u001b[0m     \u001b[38;5;66;03m# be returned.\u001b[39;00m\n\u001b[1;32m--> 745\u001b[0m     \u001b[38;5;28;01mreturn\u001b[39;00m \u001b[38;5;28;43mself\u001b[39;49m\u001b[38;5;241;43m.\u001b[39;49m\u001b[43m_return_or_raise\u001b[49m\u001b[43m(\u001b[49m\u001b[43m)\u001b[49m\n\u001b[0;32m    747\u001b[0m \u001b[38;5;66;03m# For other backends, the main thread needs to run the retrieval step.\u001b[39;00m\n\u001b[0;32m    748\u001b[0m \u001b[38;5;28;01mtry\u001b[39;00m:\n",
      "File \u001b[1;32mc:\\Users\\dmitr\\devs\\Qubx\\.venv\\Lib\\site-packages\\joblib\\parallel.py:763\u001b[0m, in \u001b[0;36mBatchCompletionCallBack._return_or_raise\u001b[1;34m(self)\u001b[0m\n\u001b[0;32m    761\u001b[0m \u001b[38;5;28;01mtry\u001b[39;00m:\n\u001b[0;32m    762\u001b[0m     \u001b[38;5;28;01mif\u001b[39;00m \u001b[38;5;28mself\u001b[39m\u001b[38;5;241m.\u001b[39mstatus \u001b[38;5;241m==\u001b[39m TASK_ERROR:\n\u001b[1;32m--> 763\u001b[0m         \u001b[38;5;28;01mraise\u001b[39;00m \u001b[38;5;28mself\u001b[39m\u001b[38;5;241m.\u001b[39m_result\n\u001b[0;32m    764\u001b[0m     \u001b[38;5;28;01mreturn\u001b[39;00m \u001b[38;5;28mself\u001b[39m\u001b[38;5;241m.\u001b[39m_result\n\u001b[0;32m    765\u001b[0m \u001b[38;5;28;01mfinally\u001b[39;00m:\n",
      "\u001b[1;31mValueError\u001b[0m: CsvStorageDataReader doesn't have getter for 'candles' auxiliary data. Available data: set()"
     ]
    }
   ],
   "source": [
    "ldr.read('BTCUSDT', '2010-01-01', '2025-01-01')[-10:]"
   ]
  },
  {
   "cell_type": "code",
   "execution_count": 79,
   "metadata": {},
   "outputs": [
    {
     "data": {
      "text/plain": [
       "{'electro'}"
      ]
     },
     "execution_count": 79,
     "metadata": {},
     "output_type": "execute_result"
    }
   ],
   "source": [
    "ldr.get_aux_data_ids()"
   ]
  },
  {
   "cell_type": "code",
   "execution_count": null,
   "metadata": {},
   "outputs": [],
   "source": [
    "ldr['BTCUSDT', '2019-01-01':'2025-01-01']"
   ]
  },
  {
   "cell_type": "code",
   "execution_count": null,
   "metadata": {},
   "outputs": [],
   "source": [
    "ldr.get_aux_data('candles', symbols=['SOLUSDT', 'ETHUSDT'], start='2020-01-01', stop='2025-01-01')"
   ]
  },
  {
   "cell_type": "code",
   "execution_count": null,
   "metadata": {},
   "outputs": [],
   "source": [
    "ldr.get_aux_data(\"fundamental_data\", start=\"2020-01-01\", stop=\"2025-01-01\")"
   ]
  },
  {
   "cell_type": "markdown",
   "metadata": {},
   "source": [
    "# Test in strategy"
   ]
  },
  {
   "cell_type": "code",
   "execution_count": 39,
   "metadata": {},
   "outputs": [],
   "source": [
    "class Tester(IStrategy):\n",
    "    exchange: str = \"BINANCE.UM\"\n",
    "    min_capitalization_mil: float = 400\n",
    "    # hist_reader: MultiQdbConnector | None = None\n",
    "\n",
    "    def on_start(self, ctx: StrategyContext):\n",
    "        f_data = ctx.get_aux_data(\"fundamental_data\", None, '1d', \"2020-01-01\")\n",
    "        print(f_data)\n",
    "\n",
    "    def on_fit(\n",
    "        self, ctx: StrategyContext, fit_time: str | pd.Timestamp, previous_fit_time: str | pd.Timestamp | None = None\n",
    "    ):\n",
    "        stop = pd.Timestamp(fit_time)\n",
    "        start = stop - pd.Timedelta('5d')  # type: ignore\n",
    "        logger.info(f\"Fitting on data range: {start} : {stop}\")\n",
    "        # fundamental = self.hist_reader.get_fundamental_data(self.exchange, start, stop)\n",
    "\n",
    "        # _last_caps = pd.Series(fundamental[\"market_cap\"].groupby(\"symbol\").last().to_dict())\n",
    "        # _last_caps = _last_caps[_last_caps >= self.min_capitalization_mil * 1e6]\n",
    "        # symbols_available = set(_last_caps.index)\n",
    "        # raw_data = self.hist_reader.get_candles(\n",
    "        #     self.exchange, list(symbols_available), start, stop, '1d'\n",
    "        # )\n",
    "        # logger.info(str(raw_data.head()))\n",
    "\n",
    "    def on_event(self, ctx: StrategyContext, event: TriggerEvent) -> List[Signal] | None:\n",
    "        logger.info(f\"Event: {ctx.time()}\")\n",
    "        return None\n"
   ]
  },
  {
   "cell_type": "code",
   "execution_count": 45,
   "metadata": {},
   "outputs": [],
   "source": [
    "rd = loader(\"BINANCE.UM\", '1h', source=\"mqdb::xlydian-data\", n_jobs=1)"
   ]
  },
  {
   "cell_type": "code",
   "execution_count": 50,
   "metadata": {},
   "outputs": [
    {
     "data": {
      "text/html": [
       "<div>\n",
       "<style scoped>\n",
       "    .dataframe tbody tr th:only-of-type {\n",
       "        vertical-align: middle;\n",
       "    }\n",
       "\n",
       "    .dataframe tbody tr th {\n",
       "        vertical-align: top;\n",
       "    }\n",
       "\n",
       "    .dataframe thead th {\n",
       "        text-align: right;\n",
       "    }\n",
       "</style>\n",
       "<table border=\"1\" class=\"dataframe\">\n",
       "  <thead>\n",
       "    <tr style=\"text-align: right;\">\n",
       "      <th></th>\n",
       "      <th>open</th>\n",
       "      <th>high</th>\n",
       "      <th>low</th>\n",
       "      <th>close</th>\n",
       "      <th>volume</th>\n",
       "      <th>quote_volume</th>\n",
       "      <th>count</th>\n",
       "      <th>taker_buy_volume</th>\n",
       "      <th>taker_buy_quote_volume</th>\n",
       "    </tr>\n",
       "    <tr>\n",
       "      <th>timestamp</th>\n",
       "      <th></th>\n",
       "      <th></th>\n",
       "      <th></th>\n",
       "      <th></th>\n",
       "      <th></th>\n",
       "      <th></th>\n",
       "      <th></th>\n",
       "      <th></th>\n",
       "      <th></th>\n",
       "    </tr>\n",
       "  </thead>\n",
       "  <tbody>\n",
       "    <tr>\n",
       "      <th>2020-01-01 00:00:00</th>\n",
       "      <td>7189.43</td>\n",
       "      <td>7190.52</td>\n",
       "      <td>7170.15</td>\n",
       "      <td>7171.55</td>\n",
       "      <td>2449.049</td>\n",
       "      <td>17576424.0</td>\n",
       "      <td>3688</td>\n",
       "      <td>996.198</td>\n",
       "      <td>7149371.0</td>\n",
       "    </tr>\n",
       "    <tr>\n",
       "      <th>2020-01-01 01:00:00</th>\n",
       "      <td>7171.43</td>\n",
       "      <td>7225.00</td>\n",
       "      <td>7171.10</td>\n",
       "      <td>7210.24</td>\n",
       "      <td>3865.038</td>\n",
       "      <td>27838048.0</td>\n",
       "      <td>6635</td>\n",
       "      <td>2340.879</td>\n",
       "      <td>16860294.0</td>\n",
       "    </tr>\n",
       "    <tr>\n",
       "      <th>2020-01-01 02:00:00</th>\n",
       "      <td>7210.38</td>\n",
       "      <td>7239.30</td>\n",
       "      <td>7206.46</td>\n",
       "      <td>7237.99</td>\n",
       "      <td>3228.365</td>\n",
       "      <td>23324808.0</td>\n",
       "      <td>5120</td>\n",
       "      <td>1774.145</td>\n",
       "      <td>12818472.0</td>\n",
       "    </tr>\n",
       "    <tr>\n",
       "      <th>2020-01-01 03:00:00</th>\n",
       "      <td>7237.41</td>\n",
       "      <td>7239.74</td>\n",
       "      <td>7215.00</td>\n",
       "      <td>7221.65</td>\n",
       "      <td>2513.307</td>\n",
       "      <td>18161820.0</td>\n",
       "      <td>4143</td>\n",
       "      <td>1245.065</td>\n",
       "      <td>8996219.0</td>\n",
       "    </tr>\n",
       "    <tr>\n",
       "      <th>2020-01-01 04:00:00</th>\n",
       "      <td>7221.80</td>\n",
       "      <td>7225.41</td>\n",
       "      <td>7211.22</td>\n",
       "      <td>7213.86</td>\n",
       "      <td>1176.666</td>\n",
       "      <td>8493631.0</td>\n",
       "      <td>1966</td>\n",
       "      <td>586.864</td>\n",
       "      <td>4236085.0</td>\n",
       "    </tr>\n",
       "    <tr>\n",
       "      <th>...</th>\n",
       "      <td>...</td>\n",
       "      <td>...</td>\n",
       "      <td>...</td>\n",
       "      <td>...</td>\n",
       "      <td>...</td>\n",
       "      <td>...</td>\n",
       "      <td>...</td>\n",
       "      <td>...</td>\n",
       "      <td>...</td>\n",
       "    </tr>\n",
       "    <tr>\n",
       "      <th>2020-12-31 20:00:00</th>\n",
       "      <td>28917.08</td>\n",
       "      <td>29180.99</td>\n",
       "      <td>28888.00</td>\n",
       "      <td>29155.97</td>\n",
       "      <td>5985.124</td>\n",
       "      <td>173600592.0</td>\n",
       "      <td>53077</td>\n",
       "      <td>3132.339</td>\n",
       "      <td>90888720.0</td>\n",
       "    </tr>\n",
       "    <tr>\n",
       "      <th>2020-12-31 21:00:00</th>\n",
       "      <td>29155.96</td>\n",
       "      <td>29199.49</td>\n",
       "      <td>28915.96</td>\n",
       "      <td>28990.83</td>\n",
       "      <td>7883.537</td>\n",
       "      <td>229179792.0</td>\n",
       "      <td>65760</td>\n",
       "      <td>3724.889</td>\n",
       "      <td>108304544.0</td>\n",
       "    </tr>\n",
       "    <tr>\n",
       "      <th>2020-12-31 22:00:00</th>\n",
       "      <td>28993.77</td>\n",
       "      <td>29175.92</td>\n",
       "      <td>28920.07</td>\n",
       "      <td>29125.25</td>\n",
       "      <td>4290.432</td>\n",
       "      <td>124766688.0</td>\n",
       "      <td>47491</td>\n",
       "      <td>1949.491</td>\n",
       "      <td>56697968.0</td>\n",
       "    </tr>\n",
       "    <tr>\n",
       "      <th>2020-12-31 23:00:00</th>\n",
       "      <td>29123.18</td>\n",
       "      <td>29133.36</td>\n",
       "      <td>28800.00</td>\n",
       "      <td>28951.68</td>\n",
       "      <td>6908.520</td>\n",
       "      <td>200177728.0</td>\n",
       "      <td>57251</td>\n",
       "      <td>3151.956</td>\n",
       "      <td>91351928.0</td>\n",
       "    </tr>\n",
       "    <tr>\n",
       "      <th>2021-01-01 00:00:00</th>\n",
       "      <td>28948.19</td>\n",
       "      <td>29055.00</td>\n",
       "      <td>28706.00</td>\n",
       "      <td>29015.00</td>\n",
       "      <td>8037.588</td>\n",
       "      <td>232164624.0</td>\n",
       "      <td>65942</td>\n",
       "      <td>3983.843</td>\n",
       "      <td>115131160.0</td>\n",
       "    </tr>\n",
       "  </tbody>\n",
       "</table>\n",
       "<p>8785 rows × 9 columns</p>\n",
       "</div>"
      ],
      "text/plain": [
       "                         open      high       low     close    volume  \\\n",
       "timestamp                                                               \n",
       "2020-01-01 00:00:00   7189.43   7190.52   7170.15   7171.55  2449.049   \n",
       "2020-01-01 01:00:00   7171.43   7225.00   7171.10   7210.24  3865.038   \n",
       "2020-01-01 02:00:00   7210.38   7239.30   7206.46   7237.99  3228.365   \n",
       "2020-01-01 03:00:00   7237.41   7239.74   7215.00   7221.65  2513.307   \n",
       "2020-01-01 04:00:00   7221.80   7225.41   7211.22   7213.86  1176.666   \n",
       "...                       ...       ...       ...       ...       ...   \n",
       "2020-12-31 20:00:00  28917.08  29180.99  28888.00  29155.97  5985.124   \n",
       "2020-12-31 21:00:00  29155.96  29199.49  28915.96  28990.83  7883.537   \n",
       "2020-12-31 22:00:00  28993.77  29175.92  28920.07  29125.25  4290.432   \n",
       "2020-12-31 23:00:00  29123.18  29133.36  28800.00  28951.68  6908.520   \n",
       "2021-01-01 00:00:00  28948.19  29055.00  28706.00  29015.00  8037.588   \n",
       "\n",
       "                     quote_volume  count  taker_buy_volume  \\\n",
       "timestamp                                                    \n",
       "2020-01-01 00:00:00    17576424.0   3688           996.198   \n",
       "2020-01-01 01:00:00    27838048.0   6635          2340.879   \n",
       "2020-01-01 02:00:00    23324808.0   5120          1774.145   \n",
       "2020-01-01 03:00:00    18161820.0   4143          1245.065   \n",
       "2020-01-01 04:00:00     8493631.0   1966           586.864   \n",
       "...                           ...    ...               ...   \n",
       "2020-12-31 20:00:00   173600592.0  53077          3132.339   \n",
       "2020-12-31 21:00:00   229179792.0  65760          3724.889   \n",
       "2020-12-31 22:00:00   124766688.0  47491          1949.491   \n",
       "2020-12-31 23:00:00   200177728.0  57251          3151.956   \n",
       "2021-01-01 00:00:00   232164624.0  65942          3983.843   \n",
       "\n",
       "                     taker_buy_quote_volume  \n",
       "timestamp                                    \n",
       "2020-01-01 00:00:00               7149371.0  \n",
       "2020-01-01 01:00:00              16860294.0  \n",
       "2020-01-01 02:00:00              12818472.0  \n",
       "2020-01-01 03:00:00               8996219.0  \n",
       "2020-01-01 04:00:00               4236085.0  \n",
       "...                                     ...  \n",
       "2020-12-31 20:00:00              90888720.0  \n",
       "2020-12-31 21:00:00             108304544.0  \n",
       "2020-12-31 22:00:00              56697968.0  \n",
       "2020-12-31 23:00:00              91351928.0  \n",
       "2021-01-01 00:00:00             115131160.0  \n",
       "\n",
       "[8785 rows x 9 columns]"
      ]
     },
     "execution_count": 50,
     "metadata": {},
     "output_type": "execute_result"
    }
   ],
   "source": [
    "rd['BTCUSDT', '2020-01-01':'2021-01-01']"
   ]
  },
  {
   "cell_type": "code",
   "execution_count": null,
   "metadata": {},
   "outputs": [],
   "source": [
    "r = simulate({ 'mtx0': Tester(min_capitalization_mil=400) },\n",
    "    rd,\n",
    "    capital=100000, instruments=[\"BINANCE.UM:BTCUSDT\"], commissions=\"vip0_usdt\",\n",
    "    trigger=\"1d -5Min\", \n",
    "    subscription=dict(type=\"ohlc\", timeframe='1h', nback=14*24),\n",
    "    fit='50 23 * */2 L7', # last Sun each 3'rd month\n",
    "    start=\"2023-01-01 00:00\", stop=\"2024-01-10\",\n",
    "    debug=\"DEBUG\", \n",
    "    # enable_event_batching=True\n",
    ")"
   ]
  },
  {
   "cell_type": "code",
   "execution_count": null,
   "metadata": {},
   "outputs": [],
   "source": []
  }
 ],
 "metadata": {
  "kernelspec": {
   "display_name": ".venv",
   "language": "python",
   "name": "python3"
  },
  "language_info": {
   "codemirror_mode": {
    "name": "ipython",
    "version": 3
   },
   "file_extension": ".py",
   "mimetype": "text/x-python",
   "name": "python",
   "nbconvert_exporter": "python",
   "pygments_lexer": "ipython3",
   "version": "3.11.8"
  }
 },
 "nbformat": 4,
 "nbformat_minor": 2
}
