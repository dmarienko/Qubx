{
 "cells": [
  {
   "cell_type": "code",
   "execution_count": 353,
   "metadata": {},
   "outputs": [
    {
     "name": "stdout",
     "output_type": "stream",
     "text": [
      " >  [\u001b[32mdev\u001b[0m] \u001b[31minstalling cython rebuilding hook\u001b[0m\n",
      "The autoreload extension is already loaded. To reload it, use:\n",
      "  %reload_ext autoreload\n"
     ]
    }
   ],
   "source": [
    "import sys, os, re; sys.path = ([\"../src/\", \"../\"] if re.match(r'^(\\w\\:\\\\)|(/)', os.getcwd()) else [])+ sys.path \n",
    "from typing import Any, Optional, List\n",
    "\n",
    "import qubx\n",
    "%qubxd dev \n",
    "\n",
    "%load_ext autoreload\n",
    "%autoreload 2\n",
    "\n",
    "from qubx import lookup, logger\n",
    "from qubx.data.readers import CsvStorageDataReader, MultiQdbConnector, QuestDBConnector, DataReader, AsTimestampedRecords, AsQuotes, RestoreTicksFromOHLC, AsPandasFrame, RestoreTicksFromOHLC, AsOhlcvSeries\n",
    "from qubx.pandaz.utils import *\n",
    "from qubx.data.helpers import  InMemoryCachedReader"
   ]
  },
  {
   "cell_type": "markdown",
   "metadata": {},
   "source": [
    "# Aux Data interface"
   ]
  },
  {
   "cell_type": "code",
   "execution_count": 20,
   "metadata": {},
   "outputs": [],
   "source": [
    "r_csv = CsvStorageDataReader(\"../tests/data/csv\")\n",
    "r_mqc = MultiQdbConnector(\"xlydian-data\")\n",
    "r_qdb = QuestDBConnector(host=\"xlydian-data\")"
   ]
  },
  {
   "cell_type": "code",
   "execution_count": 10,
   "metadata": {},
   "outputs": [
    {
     "data": {
      "text/plain": [
       "(set(),\n",
       " {'average_quote_volume', 'candles', 'fundamental_data', 'symbols'},\n",
       " {'average_quote_volume', 'candles', 'fundamental_data', 'symbols'})"
      ]
     },
     "execution_count": 10,
     "metadata": {},
     "output_type": "execute_result"
    }
   ],
   "source": [
    "r_csv.get_aux_data_ids(), r_qdb.get_aux_data_ids(), r_mqc.get_aux_data_ids()"
   ]
  },
  {
   "cell_type": "code",
   "execution_count": null,
   "metadata": {},
   "outputs": [],
   "source": [
    "r_mqc.get_aux_data('candles', exchange='BINANCE.UM', \n",
    "                   symbols=['BTCUSDT', 'ETHUSDT'], \n",
    "                   start='2024-01-01', stop='2024-01-31')"
   ]
  },
  {
   "cell_type": "code",
   "execution_count": 26,
   "metadata": {},
   "outputs": [
    {
     "data": {
      "text/html": [
       "<div>\n",
       "<style scoped>\n",
       "    .dataframe tbody tr th:only-of-type {\n",
       "        vertical-align: middle;\n",
       "    }\n",
       "\n",
       "    .dataframe tbody tr th {\n",
       "        vertical-align: top;\n",
       "    }\n",
       "\n",
       "    .dataframe thead th {\n",
       "        text-align: right;\n",
       "    }\n",
       "</style>\n",
       "<table border=\"1\" class=\"dataframe\">\n",
       "  <thead>\n",
       "    <tr style=\"text-align: right;\">\n",
       "      <th></th>\n",
       "      <th>metric</th>\n",
       "      <th>market_cap</th>\n",
       "      <th>price</th>\n",
       "      <th>volume</th>\n",
       "      <th>volume_usd</th>\n",
       "    </tr>\n",
       "    <tr>\n",
       "      <th>timestamp</th>\n",
       "      <th>symbol</th>\n",
       "      <th></th>\n",
       "      <th></th>\n",
       "      <th></th>\n",
       "      <th></th>\n",
       "    </tr>\n",
       "  </thead>\n",
       "  <tbody>\n",
       "    <tr>\n",
       "      <th rowspan=\"5\" valign=\"top\">2024-01-01</th>\n",
       "      <th>1INCHUSDT</th>\n",
       "      <td>4.810212e+08</td>\n",
       "      <td>0.42810</td>\n",
       "      <td>2.528007e+07</td>\n",
       "      <td>1.082240e+07</td>\n",
       "    </tr>\n",
       "    <tr>\n",
       "      <th>AAVEUSDT</th>\n",
       "      <td>1.604350e+09</td>\n",
       "      <td>108.78000</td>\n",
       "      <td>1.155772e+06</td>\n",
       "      <td>1.257249e+08</td>\n",
       "    </tr>\n",
       "    <tr>\n",
       "      <th>ACHUSDT</th>\n",
       "      <td>1.051147e+08</td>\n",
       "      <td>0.02136</td>\n",
       "      <td>4.327358e+08</td>\n",
       "      <td>9.243236e+06</td>\n",
       "    </tr>\n",
       "    <tr>\n",
       "      <th>ADAUSDT</th>\n",
       "      <td>2.076801e+10</td>\n",
       "      <td>0.59410</td>\n",
       "      <td>3.323489e+08</td>\n",
       "      <td>1.974485e+08</td>\n",
       "    </tr>\n",
       "    <tr>\n",
       "      <th>AGIXUSDT</th>\n",
       "      <td>3.989788e+08</td>\n",
       "      <td>0.31970</td>\n",
       "      <td>4.189333e+07</td>\n",
       "      <td>1.339330e+07</td>\n",
       "    </tr>\n",
       "    <tr>\n",
       "      <th>...</th>\n",
       "      <th>...</th>\n",
       "      <td>...</td>\n",
       "      <td>...</td>\n",
       "      <td>...</td>\n",
       "      <td>...</td>\n",
       "    </tr>\n",
       "    <tr>\n",
       "      <th rowspan=\"5\" valign=\"top\">2024-01-31</th>\n",
       "      <th>YFIUSDT</th>\n",
       "      <td>2.435439e+08</td>\n",
       "      <td>7309.00000</td>\n",
       "      <td>1.259769e+03</td>\n",
       "      <td>9.207652e+06</td>\n",
       "    </tr>\n",
       "    <tr>\n",
       "      <th>ZECUSDT</th>\n",
       "      <td>3.307871e+08</td>\n",
       "      <td>22.59000</td>\n",
       "      <td>5.673166e+05</td>\n",
       "      <td>1.281568e+07</td>\n",
       "    </tr>\n",
       "    <tr>\n",
       "      <th>ZENUSDT</th>\n",
       "      <td>1.160340e+08</td>\n",
       "      <td>7.94800</td>\n",
       "      <td>5.515012e+05</td>\n",
       "      <td>4.383332e+06</td>\n",
       "    </tr>\n",
       "    <tr>\n",
       "      <th>ZILUSDT</th>\n",
       "      <td>3.599965e+08</td>\n",
       "      <td>0.02046</td>\n",
       "      <td>3.587373e+08</td>\n",
       "      <td>7.339764e+06</td>\n",
       "    </tr>\n",
       "    <tr>\n",
       "      <th>ZRXUSDT</th>\n",
       "      <td>2.798377e+08</td>\n",
       "      <td>0.33150</td>\n",
       "      <td>1.322362e+08</td>\n",
       "      <td>4.383631e+07</td>\n",
       "    </tr>\n",
       "  </tbody>\n",
       "</table>\n",
       "<p>5456 rows × 4 columns</p>\n",
       "</div>"
      ],
      "text/plain": [
       "metric                  market_cap       price        volume    volume_usd\n",
       "timestamp  symbol                                                         \n",
       "2024-01-01 1INCHUSDT  4.810212e+08     0.42810  2.528007e+07  1.082240e+07\n",
       "           AAVEUSDT   1.604350e+09   108.78000  1.155772e+06  1.257249e+08\n",
       "           ACHUSDT    1.051147e+08     0.02136  4.327358e+08  9.243236e+06\n",
       "           ADAUSDT    2.076801e+10     0.59410  3.323489e+08  1.974485e+08\n",
       "           AGIXUSDT   3.989788e+08     0.31970  4.189333e+07  1.339330e+07\n",
       "...                            ...         ...           ...           ...\n",
       "2024-01-31 YFIUSDT    2.435439e+08  7309.00000  1.259769e+03  9.207652e+06\n",
       "           ZECUSDT    3.307871e+08    22.59000  5.673166e+05  1.281568e+07\n",
       "           ZENUSDT    1.160340e+08     7.94800  5.515012e+05  4.383332e+06\n",
       "           ZILUSDT    3.599965e+08     0.02046  3.587373e+08  7.339764e+06\n",
       "           ZRXUSDT    2.798377e+08     0.33150  1.322362e+08  4.383631e+07\n",
       "\n",
       "[5456 rows x 4 columns]"
      ]
     },
     "execution_count": 26,
     "metadata": {},
     "output_type": "execute_result"
    }
   ],
   "source": [
    "r_qdb.get_aux_data('fundamental_data', exchange='BINANCE.UM', \n",
    "                #    symbols=['BTCUSDT', 'ETHUSDT'], \n",
    "                   start='2024-01-01', stop='2024-02-01')"
   ]
  },
  {
   "cell_type": "markdown",
   "metadata": {},
   "source": [
    "# Handy reader"
   ]
  },
  {
   "cell_type": "code",
   "execution_count": 354,
   "metadata": {},
   "outputs": [],
   "source": [
    "F = '4h'\n",
    "_P = lambda ds: [print(f\"{s} : {len(v)} | {v.index[0]} : {v.index[-1]}\") for s, v in ds.items()]\n",
    "mcr = InMemoryCachedReader('BINANCE.UM', r_mqc, F)"
   ]
  },
  {
   "cell_type": "code",
   "execution_count": 356,
   "metadata": {},
   "outputs": [
    {
     "name": "stdout",
     "output_type": "stream",
     "text": [
      "LTCUSDT : 2190 | 2023-01-01 00:00:00 : 2023-12-31 20:00:00\n",
      "BTCUSDT : 2190 | 2023-01-01 00:00:00 : 2023-12-31 20:00:00\n"
     ]
    }
   ],
   "source": [
    "_P(mcr._get_smbs_at(['LTCUSDT', 'BTCUSDT'], \"2023-01-01\", \"2024-01-01\" ));"
   ]
  },
  {
   "cell_type": "code",
   "execution_count": 357,
   "metadata": {},
   "outputs": [
    {
     "name": "stdout",
     "output_type": "stream",
     "text": [
      "LTCUSDT : 7452 | 2021-01-01 00:00:00 : 2024-05-31 20:00:00\n",
      "BTCUSDT : 7458 | 2021-01-01 00:00:00 : 2024-05-31 20:00:00\n",
      "ETHUSDT : 7482 | 2021-01-01 00:00:00 : 2024-05-31 20:00:00\n",
      "SOLUSDT : 7452 | 2021-01-01 00:00:00 : 2024-05-31 20:00:00\n",
      "XRPUSDT : 7452 | 2021-01-01 00:00:00 : 2024-05-31 20:00:00\n"
     ]
    }
   ],
   "source": [
    "_P(mcr._get_smbs_at(['LTCUSDT', 'BTCUSDT', 'ETHUSDT', 'SOLUSDT', 'XRPUSDT'], \"2021-01-01\", \"2024-06-01\" ));"
   ]
  },
  {
   "cell_type": "code",
   "execution_count": 358,
   "metadata": {},
   "outputs": [
    {
     "name": "stdout",
     "output_type": "stream",
     "text": [
      "LTCUSDT : 7452 | 2021-01-01 00:00:00 : 2024-05-31 20:00:00\n",
      "LTCUSDT : 7452 | 2021-01-01 00:00:00 : 2024-05-31 20:00:00\n"
     ]
    },
    {
     "data": {
      "text/plain": [
       "True"
      ]
     },
     "execution_count": 358,
     "metadata": {},
     "output_type": "execute_result"
    }
   ],
   "source": [
    "mcr1 = InMemoryCachedReader('BINANCE.UM', r_mqc, F)\n",
    "_P(x1:=mcr1._get_smbs_at(['LTCUSDT'], \"2021-01-01\", \"2024-06-01\"))\n",
    "_P(x2:=mcr._get_smbs_at(['LTCUSDT'],  \"2021-01-01\", \"2024-06-01\"))\n",
    "all(x1['LTCUSDT']==x2['LTCUSDT'])"
   ]
  },
  {
   "cell_type": "code",
   "execution_count": 409,
   "metadata": {},
   "outputs": [
    {
     "name": "stdout",
     "output_type": "stream",
     "text": [
      " >>> Get data for ['BTCUSDT'] from 2023-01-01 to 2024-01-01 | True\n",
      " >>> Get data for ['BTCUSDT'] from 2023-01-01 to 2024-01-01 | False\n",
      " >>> Get data for ['BTC'] from None to None | True\n",
      " >>> Get data for ['BTC'] from None to None | False\n"
     ]
    }
   ],
   "source": [
    "class X:\n",
    "    def __getitem__(self, keys):\n",
    "        _start, _stop = None, None\n",
    "        _instruments = []\n",
    "        _as_dict = False\n",
    "        if isinstance(keys, (tuple)):\n",
    "            for k in keys:\n",
    "                if isinstance(k, slice):\n",
    "                    _start, _stop = k.start, k.stop\n",
    "                if isinstance(k, (list, tuple)):\n",
    "                    _instruments = k\n",
    "                    _as_dict = True\n",
    "                if isinstance(k, str):\n",
    "                    _instruments.append(k)\n",
    "        else:\n",
    "            if isinstance(keys, (list, tuple)):\n",
    "                _instruments.extend(keys)\n",
    "                _as_dict = True\n",
    "            else:\n",
    "                _instruments.append(keys)\n",
    "        # _as_dict \n",
    "        print(f\" >>> Get data for {_instruments} from {_start} to {_stop} | {_as_dict}\")\n",
    "\n",
    "s = X()\n",
    "s[[\"BTCUSDT\"], '2023-01-01':'2024-01-01' ]\n",
    "s[\"BTCUSDT\", '2023-01-01':'2024-01-01' ]\n",
    "s[['BTC']]\n",
    "s['BTC']\n",
    "# s[{'b': 1}]"
   ]
  },
  {
   "cell_type": "code",
   "execution_count": null,
   "metadata": {},
   "outputs": [],
   "source": []
  }
 ],
 "metadata": {
  "kernelspec": {
   "display_name": ".venv",
   "language": "python",
   "name": "python3"
  },
  "language_info": {
   "codemirror_mode": {
    "name": "ipython",
    "version": 3
   },
   "file_extension": ".py",
   "mimetype": "text/x-python",
   "name": "python",
   "nbconvert_exporter": "python",
   "pygments_lexer": "ipython3",
   "version": "3.11.8"
  }
 },
 "nbformat": 4,
 "nbformat_minor": 2
}
