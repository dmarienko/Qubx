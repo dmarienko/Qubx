{
 "cells": [
  {
   "cell_type": "code",
   "execution_count": 1,
   "metadata": {},
   "outputs": [
    {
     "name": "stdout",
     "output_type": "stream",
     "text": [
      " >  [\u001b[32mdev\u001b[0m] \u001b[31minstalling cython rebuilding hook\u001b[0m\n",
      "\n",
      "                   \u001b[31m╻\u001b[0m\n",
      "   \u001b[32m┏┓      ╻     \u001b[0m  \u001b[31m┃\u001b[0m  \u001b[33m┏┓\u001b[0m       \u001b[36mQuantitative Backtesting Environment\u001b[0m \n",
      "   \u001b[32m┃┃  ┓┏  ┣┓  ┏┓\u001b[0m  \u001b[31m┃\u001b[0m  \u001b[33m┏┛\u001b[0m       \n",
      "   \u001b[32m┗┻  ┗┻  ┗┛  ┗ \u001b[0m  \u001b[31m┃\u001b[0m  \u001b[33m┗━\u001b[0m       (c) 2024,  ver. \u001b[35mDev\u001b[0m\n",
      "                   \u001b[31m╹\u001b[0m       \n",
      "\n"
     ]
    },
    {
     "ename": "",
     "evalue": "",
     "output_type": "error",
     "traceback": [
      "\u001b[1;31mThe Kernel crashed while executing code in the current cell or a previous cell. \n",
      "\u001b[1;31mPlease review the code in the cell(s) to identify a possible cause of the failure. \n",
      "\u001b[1;31mClick <a href='https://aka.ms/vscodeJupyterKernelCrash'>here</a> for more info. \n",
      "\u001b[1;31mView Jupyter <a href='command:jupyter.viewOutput'>log</a> for further details."
     ]
    }
   ],
   "source": [
    "import sys, os, re; sys.path = ([\"../src/\", \"../\"] if re.match(r'^(\\w\\:\\\\)|(/)', os.getcwd()) else [])+ sys.path \n",
    "from collections import deque\n",
    "\n",
    "import qubx\n",
    "%qubxd dev\n",
    "\n",
    "%load_ext autoreload\n",
    "%autoreload 2\n",
    "\n",
    "import tests.qubx.ta.utils_for_testing as test\n",
    "from qubx.utils import fig, sbp\n",
    "\n",
    "from qubx.data.readers import (\n",
    "    CsvDataReader, QuotesDataProcessor, OhlcvDataProcessor, QuotesFromOHLCVDataProcessor, \n",
    "    OhlcvPandasDataProcessor, STOCK_DAILY_SESSION\n",
    ")\n",
    "from qubx.core.series import TimeSeries, OHLCV\n",
    "from qubx.ta.indicators import (sma, ema, tema, dema, kama, highest, lowest)"
   ]
  },
  {
   "cell_type": "markdown",
   "metadata": {},
   "source": [
    "## <font color='gray'>Reload dev environment</font>"
   ]
  },
  {
   "cell_type": "code",
   "execution_count": 7,
   "metadata": {},
   "outputs": [],
   "source": [
    "from qubx.core.series import TimeSeries; from qubx.ta.indicators import sma; del sys.modules['qubx.core.series']; del sys.modules['qubx.ta.indicators']\n",
    "from qubx.core.series import TimeSeries, OHLCV\n",
    "from qubx.core.utils import recognize_time\n",
    "from qubx.ta.indicators import (sma, ema, tema, dema, kama, highest, lowest)"
   ]
  },
  {
   "cell_type": "markdown",
   "metadata": {},
   "source": [
    "## <font color='red'><b>On formed bar experiments</b></font>"
   ]
  },
  {
   "cell_type": "code",
   "execution_count": 57,
   "metadata": {},
   "outputs": [
    {
     "data": {
      "text/plain": [
       "500"
      ]
     },
     "execution_count": 57,
     "metadata": {},
     "output_type": "execute_result"
    }
   ],
   "source": [
    "# r2x = CsvDataReader('../tests/data/csv/BTCUSDT_ohlcv_M1_sec.csv.gz', QuotesFromOHLCVDataProcessor(trades=0))\n",
    "# ticks = r2x.read()\n",
    "# - small storage\n",
    "r0 = CsvDataReader('../tests/data/csv/quotes.csv', QuotesDataProcessor())\n",
    "ticks = r0.read()\n",
    "len(ticks)"
   ]
  },
  {
   "cell_type": "code",
   "execution_count": 85,
   "metadata": {},
   "outputs": [
    {
     "data": {
      "text/html": [
       "<div>\n",
       "<style scoped>\n",
       "    .dataframe tbody tr th:only-of-type {\n",
       "        vertical-align: middle;\n",
       "    }\n",
       "\n",
       "    .dataframe tbody tr th {\n",
       "        vertical-align: top;\n",
       "    }\n",
       "\n",
       "    .dataframe thead th {\n",
       "        text-align: right;\n",
       "    }\n",
       "</style>\n",
       "<table border=\"1\" class=\"dataframe\">\n",
       "  <thead>\n",
       "    <tr style=\"text-align: right;\">\n",
       "      <th></th>\n",
       "      <th>series</th>\n",
       "      <th>control</th>\n",
       "      <th>streamed</th>\n",
       "      <th>finished</th>\n",
       "      <th>h1</th>\n",
       "      <th>h11</th>\n",
       "    </tr>\n",
       "  </thead>\n",
       "  <tbody>\n",
       "    <tr>\n",
       "      <th>2017-08-24 13:01:00</th>\n",
       "      <td>9.845</td>\n",
       "      <td>9.845</td>\n",
       "      <td>NaN</td>\n",
       "      <td>NaN</td>\n",
       "      <td>NaN</td>\n",
       "      <td>NaN</td>\n",
       "    </tr>\n",
       "    <tr>\n",
       "      <th>2017-08-24 13:01:30</th>\n",
       "      <td>10.050</td>\n",
       "      <td>10.050</td>\n",
       "      <td>NaN</td>\n",
       "      <td>NaN</td>\n",
       "      <td>NaN</td>\n",
       "      <td>NaN</td>\n",
       "    </tr>\n",
       "    <tr>\n",
       "      <th>2017-08-24 13:02:00</th>\n",
       "      <td>9.950</td>\n",
       "      <td>9.950</td>\n",
       "      <td>NaN</td>\n",
       "      <td>NaN</td>\n",
       "      <td>NaN</td>\n",
       "      <td>NaN</td>\n",
       "    </tr>\n",
       "    <tr>\n",
       "      <th>2017-08-24 13:02:30</th>\n",
       "      <td>9.965</td>\n",
       "      <td>9.965</td>\n",
       "      <td>NaN</td>\n",
       "      <td>7.962000</td>\n",
       "      <td>NaN</td>\n",
       "      <td>NaN</td>\n",
       "    </tr>\n",
       "    <tr>\n",
       "      <th>2017-08-24 13:03:00</th>\n",
       "      <td>9.785</td>\n",
       "      <td>9.785</td>\n",
       "      <td>9.919000</td>\n",
       "      <td>8.569667</td>\n",
       "      <td>10.050</td>\n",
       "      <td>10.050</td>\n",
       "    </tr>\n",
       "    <tr>\n",
       "      <th>2017-08-24 13:03:30</th>\n",
       "      <td>9.685</td>\n",
       "      <td>9.685</td>\n",
       "      <td>9.841000</td>\n",
       "      <td>8.941444</td>\n",
       "      <td>10.050</td>\n",
       "      <td>10.050</td>\n",
       "    </tr>\n",
       "    <tr>\n",
       "      <th>2017-08-24 13:04:00</th>\n",
       "      <td>9.675</td>\n",
       "      <td>9.675</td>\n",
       "      <td>9.785667</td>\n",
       "      <td>9.185963</td>\n",
       "      <td>9.965</td>\n",
       "      <td>9.965</td>\n",
       "    </tr>\n",
       "    <tr>\n",
       "      <th>2017-08-24 13:04:30</th>\n",
       "      <td>9.815</td>\n",
       "      <td>9.815</td>\n",
       "      <td>9.795444</td>\n",
       "      <td>9.395642</td>\n",
       "      <td>9.965</td>\n",
       "      <td>9.965</td>\n",
       "    </tr>\n",
       "    <tr>\n",
       "      <th>2017-08-24 13:05:00</th>\n",
       "      <td>9.865</td>\n",
       "      <td>9.865</td>\n",
       "      <td>9.818630</td>\n",
       "      <td>9.552095</td>\n",
       "      <td>9.865</td>\n",
       "      <td>9.865</td>\n",
       "    </tr>\n",
       "    <tr>\n",
       "      <th>2017-08-24 13:05:30</th>\n",
       "      <td>9.915</td>\n",
       "      <td>9.915</td>\n",
       "      <td>9.850753</td>\n",
       "      <td>9.673063</td>\n",
       "      <td>9.915</td>\n",
       "      <td>9.915</td>\n",
       "    </tr>\n",
       "    <tr>\n",
       "      <th>2017-08-24 13:06:00</th>\n",
       "      <td>9.880</td>\n",
       "      <td>9.880</td>\n",
       "      <td>9.860502</td>\n",
       "      <td>9.742042</td>\n",
       "      <td>9.915</td>\n",
       "      <td>9.915</td>\n",
       "    </tr>\n",
       "    <tr>\n",
       "      <th>2017-08-24 13:06:30</th>\n",
       "      <td>9.835</td>\n",
       "      <td>9.835</td>\n",
       "      <td>9.852001</td>\n",
       "      <td>9.773028</td>\n",
       "      <td>9.915</td>\n",
       "      <td>9.915</td>\n",
       "    </tr>\n",
       "    <tr>\n",
       "      <th>2017-08-24 13:07:00</th>\n",
       "      <td>9.825</td>\n",
       "      <td>9.825</td>\n",
       "      <td>9.843001</td>\n",
       "      <td>9.790352</td>\n",
       "      <td>9.915</td>\n",
       "      <td>9.915</td>\n",
       "    </tr>\n",
       "    <tr>\n",
       "      <th>2017-08-24 13:07:30</th>\n",
       "      <td>9.530</td>\n",
       "      <td>9.530</td>\n",
       "      <td>9.738667</td>\n",
       "      <td>9.703568</td>\n",
       "      <td>9.915</td>\n",
       "      <td>9.915</td>\n",
       "    </tr>\n",
       "    <tr>\n",
       "      <th>2017-08-24 13:08:00</th>\n",
       "      <td>9.425</td>\n",
       "      <td>9.425</td>\n",
       "      <td>9.634112</td>\n",
       "      <td>9.610712</td>\n",
       "      <td>9.880</td>\n",
       "      <td>9.880</td>\n",
       "    </tr>\n",
       "    <tr>\n",
       "      <th>2017-08-24 13:08:30</th>\n",
       "      <td>9.425</td>\n",
       "      <td>9.425</td>\n",
       "      <td>9.564408</td>\n",
       "      <td>9.548808</td>\n",
       "      <td>9.835</td>\n",
       "      <td>9.835</td>\n",
       "    </tr>\n",
       "    <tr>\n",
       "      <th>2017-08-24 13:09:00</th>\n",
       "      <td>9.340</td>\n",
       "      <td>9.340</td>\n",
       "      <td>9.489605</td>\n",
       "      <td>9.479205</td>\n",
       "      <td>9.825</td>\n",
       "      <td>9.825</td>\n",
       "    </tr>\n",
       "    <tr>\n",
       "      <th>2017-08-24 13:09:30</th>\n",
       "      <td>9.375</td>\n",
       "      <td>9.375</td>\n",
       "      <td>9.451403</td>\n",
       "      <td>9.444470</td>\n",
       "      <td>9.530</td>\n",
       "      <td>9.530</td>\n",
       "    </tr>\n",
       "  </tbody>\n",
       "</table>\n",
       "</div>"
      ],
      "text/plain": [
       "                     series  control  streamed  finished      h1     h11\n",
       "2017-08-24 13:01:00   9.845    9.845       NaN       NaN     NaN     NaN\n",
       "2017-08-24 13:01:30  10.050   10.050       NaN       NaN     NaN     NaN\n",
       "2017-08-24 13:02:00   9.950    9.950       NaN       NaN     NaN     NaN\n",
       "2017-08-24 13:02:30   9.965    9.965       NaN  7.962000     NaN     NaN\n",
       "2017-08-24 13:03:00   9.785    9.785  9.919000  8.569667  10.050  10.050\n",
       "2017-08-24 13:03:30   9.685    9.685  9.841000  8.941444  10.050  10.050\n",
       "2017-08-24 13:04:00   9.675    9.675  9.785667  9.185963   9.965   9.965\n",
       "2017-08-24 13:04:30   9.815    9.815  9.795444  9.395642   9.965   9.965\n",
       "2017-08-24 13:05:00   9.865    9.865  9.818630  9.552095   9.865   9.865\n",
       "2017-08-24 13:05:30   9.915    9.915  9.850753  9.673063   9.915   9.915\n",
       "2017-08-24 13:06:00   9.880    9.880  9.860502  9.742042   9.915   9.915\n",
       "2017-08-24 13:06:30   9.835    9.835  9.852001  9.773028   9.915   9.915\n",
       "2017-08-24 13:07:00   9.825    9.825  9.843001  9.790352   9.915   9.915\n",
       "2017-08-24 13:07:30   9.530    9.530  9.738667  9.703568   9.915   9.915\n",
       "2017-08-24 13:08:00   9.425    9.425  9.634112  9.610712   9.880   9.880\n",
       "2017-08-24 13:08:30   9.425    9.425  9.564408  9.548808   9.835   9.835\n",
       "2017-08-24 13:09:00   9.340    9.340  9.489605  9.479205   9.825   9.825\n",
       "2017-08-24 13:09:30   9.375    9.375  9.451403  9.444470   9.530   9.530"
      ]
     },
     "execution_count": 85,
     "metadata": {},
     "output_type": "execute_result"
    }
   ],
   "source": [
    "s0 = TimeSeries('T0', '30Sec', process_every_update=1)\n",
    "control = TimeSeries('T0', '30Sec')\n",
    "m0 = ema(s0, 5)\n",
    "i1 = highest(s0, 5)\n",
    "for q in ticks:\n",
    "    s0.update(q.time, 0.5*(q.ask + q.bid))\n",
    "    control.update(q.time, 0.5*(q.ask + q.bid))\n",
    "\n",
    "m1 = ema(control, 5)\n",
    "i11 = highest(control, 5)\n",
    "mx = test.scols(s0.pd(), control.pd(), m0.pd(), m1.pd(), i1.pd(), i11.pd(), names=[\n",
    "    'series', 'control', 'streamed', 'finished', 'h1', 'h11'\n",
    "])#.dropna()\n",
    "# assert test.N(mx.streamed) == mx.finished\n",
    "mx"
   ]
  },
  {
   "cell_type": "code",
   "execution_count": 118,
   "metadata": {},
   "outputs": [
    {
     "data": {
      "text/plain": [
       "2017-08-24 13:01:00         NaN\n",
       "2017-08-24 13:01:30         NaN\n",
       "2017-08-24 13:02:00         NaN\n",
       "2017-08-24 13:02:30         NaN\n",
       "2017-08-24 13:03:00         NaN\n",
       "2017-08-24 13:03:30    9.817571\n",
       "2017-08-24 13:04:00    9.767093\n",
       "2017-08-24 13:04:30    9.783711\n",
       "2017-08-24 13:05:00    9.811531\n",
       "2017-08-24 13:05:30    9.846629\n",
       "2017-08-24 13:06:00    9.857883\n",
       "2017-08-24 13:06:30    9.850196\n",
       "2017-08-24 13:07:00    9.841754\n",
       "2017-08-24 13:07:30    9.737479\n",
       "2017-08-24 13:08:00    9.633081\n",
       "2017-08-24 13:08:30    9.563615\n",
       "2017-08-24 13:09:00    9.489001\n",
       "2017-08-24 13:09:30    9.450975\n",
       "Name: T0, dtype: float64"
      ]
     },
     "execution_count": 118,
     "metadata": {},
     "output_type": "execute_result"
    }
   ],
   "source": [
    "s0.pd().ewm(span=5, min_periods=6).mean()"
   ]
  },
  {
   "cell_type": "code",
   "execution_count": 121,
   "metadata": {},
   "outputs": [],
   "source": [
    "s0 = TimeSeries('T0', '30Sec', process_every_update=False)\n",
    "m0 = ema(s0, 5)\n",
    "i0 = highest(s0, 5)\n",
    "for q in ticks: s0.update(q.time, 0.5*(q.ask + q.bid))"
   ]
  },
  {
   "cell_type": "code",
   "execution_count": 122,
   "metadata": {},
   "outputs": [],
   "source": [
    "s00 = TimeSeries('T0', '30Sec')\n",
    "for q in ticks: s00.update(q.time, 0.5*(q.ask + q.bid))"
   ]
  },
  {
   "cell_type": "code",
   "execution_count": 136,
   "metadata": {},
   "outputs": [
    {
     "data": {
      "text/plain": [
       "array([-0.05440051, -0.12371229, -0.18486457, -0.27519263, -0.35748549, -0.34125346, -0.31196838, -0.24574205, -0.12697301,  0.02913186,  0.23655142,  0.46473342,  0.75464394,  0.99417169,         nan,         nan,         nan])"
      ]
     },
     "execution_count": 136,
     "metadata": {},
     "output_type": "execute_result"
    }
   ],
   "source": [
    "np.sin(m0)"
   ]
  },
  {
   "cell_type": "code",
   "execution_count": 159,
   "metadata": {},
   "outputs": [],
   "source": [
    "from qubx.utils.pandas import roll, scols"
   ]
  },
  {
   "cell_type": "code",
   "execution_count": null,
   "metadata": {},
   "outputs": [],
   "source": [
    "scols(s0, m0)"
   ]
  },
  {
   "cell_type": "code",
   "execution_count": 157,
   "metadata": {},
   "outputs": [
    {
     "data": {
      "text/plain": [
       "True"
      ]
     },
     "execution_count": 157,
     "metadata": {},
     "output_type": "execute_result"
    }
   ],
   "source": [
    "np.nansum((ema(s00, 5) - m0)) == 0"
   ]
  },
  {
   "cell_type": "code",
   "execution_count": 165,
   "metadata": {},
   "outputs": [
    {
     "data": {
      "text/html": [
       "<div>\n",
       "<style scoped>\n",
       "    .dataframe tbody tr th:only-of-type {\n",
       "        vertical-align: middle;\n",
       "    }\n",
       "\n",
       "    .dataframe tbody tr th {\n",
       "        vertical-align: top;\n",
       "    }\n",
       "\n",
       "    .dataframe thead th {\n",
       "        text-align: right;\n",
       "    }\n",
       "</style>\n",
       "<table border=\"1\" class=\"dataframe\">\n",
       "  <thead>\n",
       "    <tr style=\"text-align: right;\">\n",
       "      <th></th>\n",
       "      <th>ema(5,init_mean=True)</th>\n",
       "      <th>ema(5,init_mean=True)</th>\n",
       "    </tr>\n",
       "  </thead>\n",
       "  <tbody>\n",
       "    <tr>\n",
       "      <th>2017-08-24 13:01:00</th>\n",
       "      <td>NaN</td>\n",
       "      <td>NaN</td>\n",
       "    </tr>\n",
       "    <tr>\n",
       "      <th>2017-08-24 13:01:30</th>\n",
       "      <td>NaN</td>\n",
       "      <td>NaN</td>\n",
       "    </tr>\n",
       "    <tr>\n",
       "      <th>2017-08-24 13:02:00</th>\n",
       "      <td>NaN</td>\n",
       "      <td>NaN</td>\n",
       "    </tr>\n",
       "    <tr>\n",
       "      <th>2017-08-24 13:02:30</th>\n",
       "      <td>7.962000</td>\n",
       "      <td>NaN</td>\n",
       "    </tr>\n",
       "    <tr>\n",
       "      <th>2017-08-24 13:03:00</th>\n",
       "      <td>8.569667</td>\n",
       "      <td>9.919000</td>\n",
       "    </tr>\n",
       "    <tr>\n",
       "      <th>2017-08-24 13:03:30</th>\n",
       "      <td>8.941444</td>\n",
       "      <td>9.841000</td>\n",
       "    </tr>\n",
       "    <tr>\n",
       "      <th>2017-08-24 13:04:00</th>\n",
       "      <td>9.185963</td>\n",
       "      <td>9.785667</td>\n",
       "    </tr>\n",
       "    <tr>\n",
       "      <th>2017-08-24 13:04:30</th>\n",
       "      <td>9.395642</td>\n",
       "      <td>9.795444</td>\n",
       "    </tr>\n",
       "    <tr>\n",
       "      <th>2017-08-24 13:05:00</th>\n",
       "      <td>9.552095</td>\n",
       "      <td>9.818630</td>\n",
       "    </tr>\n",
       "    <tr>\n",
       "      <th>2017-08-24 13:05:30</th>\n",
       "      <td>9.673063</td>\n",
       "      <td>9.850753</td>\n",
       "    </tr>\n",
       "    <tr>\n",
       "      <th>2017-08-24 13:06:00</th>\n",
       "      <td>9.742042</td>\n",
       "      <td>9.860502</td>\n",
       "    </tr>\n",
       "    <tr>\n",
       "      <th>2017-08-24 13:06:30</th>\n",
       "      <td>9.773028</td>\n",
       "      <td>9.852001</td>\n",
       "    </tr>\n",
       "    <tr>\n",
       "      <th>2017-08-24 13:07:00</th>\n",
       "      <td>9.790352</td>\n",
       "      <td>9.843001</td>\n",
       "    </tr>\n",
       "    <tr>\n",
       "      <th>2017-08-24 13:07:30</th>\n",
       "      <td>9.703568</td>\n",
       "      <td>9.738667</td>\n",
       "    </tr>\n",
       "    <tr>\n",
       "      <th>2017-08-24 13:08:00</th>\n",
       "      <td>9.610712</td>\n",
       "      <td>9.634112</td>\n",
       "    </tr>\n",
       "    <tr>\n",
       "      <th>2017-08-24 13:08:30</th>\n",
       "      <td>9.548808</td>\n",
       "      <td>9.564408</td>\n",
       "    </tr>\n",
       "    <tr>\n",
       "      <th>2017-08-24 13:09:00</th>\n",
       "      <td>9.479205</td>\n",
       "      <td>9.489605</td>\n",
       "    </tr>\n",
       "    <tr>\n",
       "      <th>2017-08-24 13:09:30</th>\n",
       "      <td>NaN</td>\n",
       "      <td>9.451403</td>\n",
       "    </tr>\n",
       "  </tbody>\n",
       "</table>\n",
       "</div>"
      ],
      "text/plain": [
       "                     ema(5,init_mean=True)  ema(5,init_mean=True)\n",
       "2017-08-24 13:01:00                    NaN                    NaN\n",
       "2017-08-24 13:01:30                    NaN                    NaN\n",
       "2017-08-24 13:02:00                    NaN                    NaN\n",
       "2017-08-24 13:02:30               7.962000                    NaN\n",
       "2017-08-24 13:03:00               8.569667               9.919000\n",
       "2017-08-24 13:03:30               8.941444               9.841000\n",
       "2017-08-24 13:04:00               9.185963               9.785667\n",
       "2017-08-24 13:04:30               9.395642               9.795444\n",
       "2017-08-24 13:05:00               9.552095               9.818630\n",
       "2017-08-24 13:05:30               9.673063               9.850753\n",
       "2017-08-24 13:06:00               9.742042               9.860502\n",
       "2017-08-24 13:06:30               9.773028               9.852001\n",
       "2017-08-24 13:07:00               9.790352               9.843001\n",
       "2017-08-24 13:07:30               9.703568               9.738667\n",
       "2017-08-24 13:08:00               9.610712               9.634112\n",
       "2017-08-24 13:08:30               9.548808               9.564408\n",
       "2017-08-24 13:09:00               9.479205               9.489605\n",
       "2017-08-24 13:09:30                    NaN               9.451403"
      ]
     },
     "execution_count": 165,
     "metadata": {},
     "output_type": "execute_result"
    }
   ],
   "source": [
    "c0 = TimeSeries('T0', '30Sec', process_every_update=True)\n",
    "m1 = ema(c0, 5)\n",
    "i1 = highest(c0, 5)\n",
    "for q in ticks:\n",
    "    c0.update(q.time, 0.5*(q.ask + q.bid))\n",
    "test.scols(m0.pd(), m1.pd())#.dropna()"
   ]
  },
  {
   "cell_type": "code",
   "execution_count": null,
   "metadata": {},
   "outputs": [],
   "source": []
  }
 ],
 "metadata": {
  "kernelspec": {
   "display_name": "p311qbx",
   "language": "python",
   "name": "python3"
  },
  "language_info": {
   "codemirror_mode": {
    "name": "ipython",
    "version": 3
   },
   "file_extension": ".py",
   "mimetype": "text/x-python",
   "name": "python",
   "nbconvert_exporter": "python",
   "pygments_lexer": "ipython3",
   "version": "3.11.8"
  }
 },
 "nbformat": 4,
 "nbformat_minor": 2
}
