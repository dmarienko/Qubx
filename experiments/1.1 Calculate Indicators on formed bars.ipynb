{
 "cells": [
  {
   "cell_type": "code",
   "execution_count": 23,
   "metadata": {},
   "outputs": [
    {
     "name": "stdout",
     "output_type": "stream",
     "text": [
      "The autoreload extension is already loaded. To reload it, use:\n",
      "  %reload_ext autoreload\n"
     ]
    }
   ],
   "source": [
    "import sys, os, re; sys.path = ([\"../src/\", \"../\"] if re.match(r'^(\\w\\:\\\\)|(/)', os.getcwd()) else [])+ sys.path \n",
    "from collections import deque\n",
    "\n",
    "import qubx\n",
    "%qubxd\n",
    "\n",
    "%load_ext autoreload\n",
    "%autoreload 2\n",
    "\n",
    "import tests.qubx.ta.utils_for_testing as test\n",
    "from qubx.utils import fig, sbp\n",
    "\n",
    "from qubx.data.readers import (\n",
    "    CsvDataReader, QuotesDataProcessor, OhlcvDataProcessor, QuotesFromOHLCVDataProcessor, \n",
    "    OhlcvPandasDataProcessor, STOCK_DAILY_SESSION\n",
    ")\n",
    "from qubx.core.series import TimeSeries, OHLCV\n",
    "from qubx.ta.indicators import (sma, ema, tema, dema, kama, highest, lowest)"
   ]
  },
  {
   "cell_type": "markdown",
   "metadata": {},
   "source": [
    "## <font color='gray'>Reload dev environment</font>"
   ]
  },
  {
   "cell_type": "code",
   "execution_count": null,
   "metadata": {},
   "outputs": [],
   "source": [
    "from qubx.core.series import TimeSeries; from qubx.ta.indicators import sma; del sys.modules['qubx.core.series']; del sys.modules['qubx.ta.indicators']\n",
    "from qubx.core.series import TimeSeries, OHLCV\n",
    "from qubx.core.utils import recognize_time\n",
    "from qubx.ta.indicators import (sma, ema, tema, dema, kama, highest, lowest)"
   ]
  },
  {
   "cell_type": "markdown",
   "metadata": {},
   "source": [
    "## <font color='red'><b>On formed bar experiments</b></font>"
   ]
  },
  {
   "cell_type": "code",
   "execution_count": 55,
   "metadata": {},
   "outputs": [
    {
     "data": {
      "text/plain": [
       "500"
      ]
     },
     "execution_count": 55,
     "metadata": {},
     "output_type": "execute_result"
    }
   ],
   "source": [
    "# r2x = CsvDataReader('../tests/data/csv/BTCUSDT_ohlcv_M1_sec.csv.gz', QuotesFromOHLCVDataProcessor(trades=1))\n",
    "# ticks = r2x.read()\n",
    "# - small storage\n",
    "r0 = CsvDataReader('../tests/data/csv/quotes.csv', QuotesDataProcessor())\n",
    "ticks = r0.read()\n",
    "len(ticks)"
   ]
  },
  {
   "cell_type": "code",
   "execution_count": 69,
   "metadata": {},
   "outputs": [
    {
     "data": {
      "text/html": [
       "<div>\n",
       "<style scoped>\n",
       "    .dataframe tbody tr th:only-of-type {\n",
       "        vertical-align: middle;\n",
       "    }\n",
       "\n",
       "    .dataframe tbody tr th {\n",
       "        vertical-align: top;\n",
       "    }\n",
       "\n",
       "    .dataframe thead th {\n",
       "        text-align: right;\n",
       "    }\n",
       "</style>\n",
       "<table border=\"1\" class=\"dataframe\">\n",
       "  <thead>\n",
       "    <tr style=\"text-align: right;\">\n",
       "      <th></th>\n",
       "      <th>series</th>\n",
       "      <th>streamed</th>\n",
       "      <th>finished</th>\n",
       "    </tr>\n",
       "  </thead>\n",
       "  <tbody>\n",
       "    <tr>\n",
       "      <th>2017-08-24 13:04:00</th>\n",
       "      <td>9.815</td>\n",
       "      <td>9.821667</td>\n",
       "      <td>9.821667</td>\n",
       "    </tr>\n",
       "    <tr>\n",
       "      <th>2017-08-24 13:05:00</th>\n",
       "      <td>9.915</td>\n",
       "      <td>9.805000</td>\n",
       "      <td>9.805000</td>\n",
       "    </tr>\n",
       "    <tr>\n",
       "      <th>2017-08-24 13:06:00</th>\n",
       "      <td>9.835</td>\n",
       "      <td>9.855000</td>\n",
       "      <td>9.855000</td>\n",
       "    </tr>\n",
       "    <tr>\n",
       "      <th>2017-08-24 13:07:00</th>\n",
       "      <td>9.530</td>\n",
       "      <td>9.760000</td>\n",
       "      <td>9.760000</td>\n",
       "    </tr>\n",
       "    <tr>\n",
       "      <th>2017-08-24 13:08:00</th>\n",
       "      <td>9.425</td>\n",
       "      <td>9.596667</td>\n",
       "      <td>9.596667</td>\n",
       "    </tr>\n",
       "    <tr>\n",
       "      <th>2017-08-24 13:09:00</th>\n",
       "      <td>9.375</td>\n",
       "      <td>9.443333</td>\n",
       "      <td>9.443333</td>\n",
       "    </tr>\n",
       "  </tbody>\n",
       "</table>\n",
       "</div>"
      ],
      "text/plain": [
       "                     series  streamed  finished\n",
       "2017-08-24 13:04:00   9.815  9.821667  9.821667\n",
       "2017-08-24 13:05:00   9.915  9.805000  9.805000\n",
       "2017-08-24 13:06:00   9.835  9.855000  9.855000\n",
       "2017-08-24 13:07:00   9.530  9.760000  9.760000\n",
       "2017-08-24 13:08:00   9.425  9.596667  9.596667\n",
       "2017-08-24 13:09:00   9.375  9.443333  9.443333"
      ]
     },
     "execution_count": 69,
     "metadata": {},
     "output_type": "execute_result"
    }
   ],
   "source": [
    "s0 = TimeSeries('T0', '1Min')\n",
    "control = TimeSeries('T0', '1Min')\n",
    "m0 = sma(s0, 3)\n",
    "for q in ticks:\n",
    "    s0.update(q.time, 0.5*(q.ask + q.bid))\n",
    "    control.update(q.time, 0.5*(q.ask + q.bid))\n",
    "\n",
    "m1 = sma(control, 3)\n",
    "mx = test.scols(s0, m0, m1, names=['series', 'streamed', 'finished']).dropna()\n",
    "assert test.N(mx.streamed) == mx.finished\n",
    "mx"
   ]
  },
  {
   "cell_type": "code",
   "execution_count": null,
   "metadata": {},
   "outputs": [],
   "source": []
  }
 ],
 "metadata": {
  "kernelspec": {
   "display_name": "p311qbx",
   "language": "python",
   "name": "python3"
  },
  "language_info": {
   "codemirror_mode": {
    "name": "ipython",
    "version": 3
   },
   "file_extension": ".py",
   "mimetype": "text/x-python",
   "name": "python",
   "nbconvert_exporter": "python",
   "pygments_lexer": "ipython3",
   "version": "3.11.8"
  }
 },
 "nbformat": 4,
 "nbformat_minor": 2
}
