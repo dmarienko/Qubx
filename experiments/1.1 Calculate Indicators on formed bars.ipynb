{
 "cells": [
  {
   "cell_type": "code",
   "execution_count": 2,
   "metadata": {},
   "outputs": [
    {
     "name": "stdout",
     "output_type": "stream",
     "text": [
      "\n",
      "                   \u001b[31m╻\u001b[0m\n",
      "   \u001b[32m┏┓      ╻     \u001b[0m  \u001b[31m┃\u001b[0m  \u001b[33m┏┓\u001b[0m       \u001b[36mQuantitative Backtesting Environment\u001b[0m \n",
      "   \u001b[32m┃┃  ┓┏  ┣┓  ┏┓\u001b[0m  \u001b[31m┃\u001b[0m  \u001b[33m┏┛\u001b[0m       \n",
      "   \u001b[32m┗┻  ┗┻  ┗┛  ┗ \u001b[0m  \u001b[31m┃\u001b[0m  \u001b[33m┗━\u001b[0m       (c) 2024,  ver. \u001b[35mDev\u001b[0m\n",
      "                   \u001b[31m╹\u001b[0m       \n",
      "\n"
     ]
    }
   ],
   "source": [
    "import sys, os, re; sys.path = ([\"../src/\", \"../\"] if re.match(r'^(\\w\\:\\\\)|(/)', os.getcwd()) else [])+ sys.path \n",
    "from collections import deque\n",
    "\n",
    "import qubx\n",
    "%qubxd\n",
    "\n",
    "%load_ext autoreload\n",
    "%autoreload 2\n",
    "\n",
    "import tests.qubx.ta.utils_for_testing as test\n",
    "from qubx.utils import fig, sbp\n",
    "\n",
    "from qubx.data.readers import (\n",
    "    CsvDataReader, QuotesDataProcessor, OhlcvDataProcessor, QuotesFromOHLCVDataProcessor, \n",
    "    OhlcvPandasDataProcessor, STOCK_DAILY_SESSION\n",
    ")\n",
    "from qubx.core.series import TimeSeries, OHLCV\n",
    "from qubx.ta.indicators import (sma, ema, tema, dema, kama, highest, lowest)"
   ]
  },
  {
   "cell_type": "markdown",
   "metadata": {},
   "source": [
    "## <font color='gray'>Reload dev environment</font>"
   ]
  },
  {
   "cell_type": "code",
   "execution_count": 7,
   "metadata": {},
   "outputs": [],
   "source": [
    "from qubx.core.series import TimeSeries; from qubx.ta.indicators import sma; del sys.modules['qubx.core.series']; del sys.modules['qubx.ta.indicators']\n",
    "from qubx.core.series import TimeSeries, OHLCV\n",
    "from qubx.core.utils import recognize_time\n",
    "from qubx.ta.indicators import (sma, ema, tema, dema, kama, highest, lowest)"
   ]
  },
  {
   "cell_type": "markdown",
   "metadata": {},
   "source": [
    "## <font color='red'><b>On formed bar experiments</b></font>"
   ]
  },
  {
   "cell_type": "code",
   "execution_count": 22,
   "metadata": {},
   "outputs": [
    {
     "data": {
      "text/plain": [
       "260712"
      ]
     },
     "execution_count": 22,
     "metadata": {},
     "output_type": "execute_result"
    }
   ],
   "source": [
    "r2x = CsvDataReader('../tests/data/csv/BTCUSDT_ohlcv_M1_sec.csv.gz', QuotesFromOHLCVDataProcessor(trades=0))\n",
    "ticks = r2x.read()\n",
    "# - small storage\n",
    "# r0 = CsvDataReader('../tests/data/csv/quotes.csv', QuotesDataProcessor())\n",
    "# ticks = r0.read()\n",
    "len(ticks)"
   ]
  },
  {
   "cell_type": "code",
   "execution_count": 27,
   "metadata": {},
   "outputs": [
    {
     "data": {
      "text/html": [
       "<div>\n",
       "<style scoped>\n",
       "    .dataframe tbody tr th:only-of-type {\n",
       "        vertical-align: middle;\n",
       "    }\n",
       "\n",
       "    .dataframe tbody tr th {\n",
       "        vertical-align: top;\n",
       "    }\n",
       "\n",
       "    .dataframe thead th {\n",
       "        text-align: right;\n",
       "    }\n",
       "</style>\n",
       "<table border=\"1\" class=\"dataframe\">\n",
       "  <thead>\n",
       "    <tr style=\"text-align: right;\">\n",
       "      <th></th>\n",
       "      <th>series</th>\n",
       "      <th>control</th>\n",
       "      <th>streamed</th>\n",
       "      <th>finished</th>\n",
       "    </tr>\n",
       "  </thead>\n",
       "  <tbody>\n",
       "    <tr>\n",
       "      <th>2024-01-01 00:01:30</th>\n",
       "      <td>42350.4</td>\n",
       "      <td>42350.4</td>\n",
       "      <td>33860.740000</td>\n",
       "      <td>33860.740000</td>\n",
       "    </tr>\n",
       "    <tr>\n",
       "      <th>2024-01-01 00:02:00</th>\n",
       "      <td>42349.6</td>\n",
       "      <td>42349.6</td>\n",
       "      <td>36690.360000</td>\n",
       "      <td>36690.360000</td>\n",
       "    </tr>\n",
       "    <tr>\n",
       "      <th>2024-01-01 00:02:30</th>\n",
       "      <td>42360.2</td>\n",
       "      <td>42360.2</td>\n",
       "      <td>38580.306667</td>\n",
       "      <td>38580.306667</td>\n",
       "    </tr>\n",
       "    <tr>\n",
       "      <th>2024-01-01 00:03:00</th>\n",
       "      <td>42360.1</td>\n",
       "      <td>42360.1</td>\n",
       "      <td>39840.237778</td>\n",
       "      <td>39840.237778</td>\n",
       "    </tr>\n",
       "    <tr>\n",
       "      <th>2024-01-01 00:03:30</th>\n",
       "      <td>42405.8</td>\n",
       "      <td>42405.8</td>\n",
       "      <td>40695.425185</td>\n",
       "      <td>40695.425185</td>\n",
       "    </tr>\n",
       "    <tr>\n",
       "      <th>...</th>\n",
       "      <td>...</td>\n",
       "      <td>...</td>\n",
       "      <td>...</td>\n",
       "      <td>...</td>\n",
       "    </tr>\n",
       "    <tr>\n",
       "      <th>2024-02-15 06:15:00</th>\n",
       "      <td>51983.2</td>\n",
       "      <td>51983.2</td>\n",
       "      <td>51974.665555</td>\n",
       "      <td>51974.665555</td>\n",
       "    </tr>\n",
       "    <tr>\n",
       "      <th>2024-02-15 06:15:30</th>\n",
       "      <td>51995.9</td>\n",
       "      <td>51995.9</td>\n",
       "      <td>51981.743703</td>\n",
       "      <td>51981.743703</td>\n",
       "    </tr>\n",
       "    <tr>\n",
       "      <th>2024-02-15 06:16:00</th>\n",
       "      <td>52014.7</td>\n",
       "      <td>52014.7</td>\n",
       "      <td>51992.729135</td>\n",
       "      <td>51992.729135</td>\n",
       "    </tr>\n",
       "    <tr>\n",
       "      <th>2024-02-15 06:16:30</th>\n",
       "      <td>51966.0</td>\n",
       "      <td>51966.0</td>\n",
       "      <td>51983.819424</td>\n",
       "      <td>51983.819424</td>\n",
       "    </tr>\n",
       "    <tr>\n",
       "      <th>2024-02-15 06:17:00</th>\n",
       "      <td>52004.7</td>\n",
       "      <td>52004.7</td>\n",
       "      <td>51990.779616</td>\n",
       "      <td>51990.779616</td>\n",
       "    </tr>\n",
       "  </tbody>\n",
       "</table>\n",
       "<p>130352 rows × 4 columns</p>\n",
       "</div>"
      ],
      "text/plain": [
       "                      series  control      streamed      finished\n",
       "2024-01-01 00:01:30  42350.4  42350.4  33860.740000  33860.740000\n",
       "2024-01-01 00:02:00  42349.6  42349.6  36690.360000  36690.360000\n",
       "2024-01-01 00:02:30  42360.2  42360.2  38580.306667  38580.306667\n",
       "2024-01-01 00:03:00  42360.1  42360.1  39840.237778  39840.237778\n",
       "2024-01-01 00:03:30  42405.8  42405.8  40695.425185  40695.425185\n",
       "...                      ...      ...           ...           ...\n",
       "2024-02-15 06:15:00  51983.2  51983.2  51974.665555  51974.665555\n",
       "2024-02-15 06:15:30  51995.9  51995.9  51981.743703  51981.743703\n",
       "2024-02-15 06:16:00  52014.7  52014.7  51992.729135  51992.729135\n",
       "2024-02-15 06:16:30  51966.0  51966.0  51983.819424  51983.819424\n",
       "2024-02-15 06:17:00  52004.7  52004.7  51990.779616  51990.779616\n",
       "\n",
       "[130352 rows x 4 columns]"
      ]
     },
     "execution_count": 27,
     "metadata": {},
     "output_type": "execute_result"
    }
   ],
   "source": [
    "s0 = TimeSeries('T0', '30Sec', process_every_update=False)\n",
    "control = TimeSeries('T0', '30Sec')\n",
    "m0 = ema(s0, 5)\n",
    "for q in ticks:\n",
    "    s0.update(q.time, 0.5*(q.ask + q.bid))\n",
    "    control.update(q.time, 0.5*(q.ask + q.bid))\n",
    "\n",
    "m1 = ema(control, 5)\n",
    "mx = test.scols(s0.pd(), control.pd(), m0.pd(), m1.pd(), names=[\n",
    "    'series', 'control', 'streamed', 'finished'\n",
    "]).dropna()\n",
    "assert test.N(mx.streamed) == mx.finished\n",
    "mx"
   ]
  },
  {
   "cell_type": "code",
   "execution_count": null,
   "metadata": {},
   "outputs": [],
   "source": []
  }
 ],
 "metadata": {
  "kernelspec": {
   "display_name": "p311qbx",
   "language": "python",
   "name": "python3"
  },
  "language_info": {
   "codemirror_mode": {
    "name": "ipython",
    "version": 3
   },
   "file_extension": ".py",
   "mimetype": "text/x-python",
   "name": "python",
   "nbconvert_exporter": "python",
   "pygments_lexer": "ipython3",
   "version": "3.11.8"
  }
 },
 "nbformat": 4,
 "nbformat_minor": 2
}
