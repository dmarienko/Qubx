{
 "cells": [
  {
   "cell_type": "code",
   "execution_count": 2,
   "metadata": {
    "metadata": {}
   },
   "outputs": [],
   "source": [
    "import sys, os, re; sys.path = ([\"../src/\", \"../\"] if re.match(r'^(\\w\\:\\\\)|(/)', os.getcwd()) else [])+ sys.path \n",
    "\n",
    "import croniter\n",
    "import pandas as pd\n",
    "import datetime\n",
    "from datetime import timedelta\n",
    "import re"
   ]
  },
  {
   "cell_type": "markdown",
   "metadata": {},
   "source": [
    "# Croniter"
   ]
  },
  {
   "cell_type": "code",
   "execution_count": 529,
   "metadata": {
    "metadata": {}
   },
   "outputs": [
    {
     "name": "stdout",
     "output_type": "stream",
     "text": [
      "2023-08-25 11:59:55\n",
      "- - - -\n",
      "2023-08-25 12:00:00\n",
      "2023-08-25 12:00:55\n",
      "2023-08-25 12:01:00\n",
      "2023-08-25 12:01:55\n",
      "2023-08-25 12:02:00\n",
      "2023-08-25 12:02:55\n",
      "2023-08-25 12:03:00\n",
      "2023-08-25 12:03:55\n",
      "2023-08-25 12:04:00\n",
      "2023-08-25 12:04:55\n"
     ]
    }
   ],
   "source": [
    "now = datetime.datetime.now()\n",
    "iter = croniter.croniter('55 23 * * Sat,Mon-Fri 55', pd.Timestamp('2023-08-25'))\n",
    "iter = croniter.croniter('55 23 * * Sat 55', pd.Timestamp('2023-08-25'))\n",
    "iter = croniter.croniter('* * * * * */55', pd.Timestamp('2023-08-25 12:00'))\n",
    "\n",
    "print(pd.Timestamp(iter.get_prev(), unit='s'))\n",
    "print('- - - -')\n",
    "for _ in range(10):\n",
    "    print(pd.Timestamp(iter.get_next(), unit='s'))"
   ]
  },
  {
   "cell_type": "code",
   "execution_count": 6,
   "metadata": {
    "metadata": {}
   },
   "outputs": [],
   "source": [
    "# # cmp = pd.Timedelta(\"6d23h55min\").components\n",
    "# cmp = pd.Timedelta(\"5Min\").components\n",
    "# sched = f\"{cmp.minutes} {cmp.hours} */{cmp.days} * * {cmp.seconds}\"\n",
    "# iter = croniter.croniter(sched, pd.Timestamp('2023-08-25 12:00'))\n",
    "\n",
    "# pd.Timestamp(iter.get_prev(), unit='s'), pd.Timestamp(iter.get_next(), unit='s')"
   ]
  },
  {
   "cell_type": "code",
   "execution_count": null,
   "metadata": {
    "metadata": {}
   },
   "outputs": [],
   "source": [
    "from dateutil.parser import parser\n",
    "from dateutil.rrule import rrulestr\n",
    "# list(rrulestr(\"\"\"RRULE:FREQ=DAILY;INTERVAL=10\"\"\"))\n",
    "list(rrulestr('FREQ=WEEKLY;INTERVAL=1;BYHOUR=23;BYMINUTE=45;BYSECOND=0;COUNT=5'))\n",
    "list(rrulestr('FREQ=WEEKLY;INTERVAL=1;BYHOUR=23;BYMINUTE=45;BYSECOND=0;COUNT=5'))"
   ]
  },
  {
   "cell_type": "markdown",
   "metadata": {},
   "source": [
    "# Spec parser"
   ]
  },
  {
   "cell_type": "code",
   "execution_count": 408,
   "metadata": {
    "metadata": {}
   },
   "outputs": [],
   "source": [
    "%load_ext autoreload\n",
    "%autoreload 2\n",
    "from qubx.core.helpers import BasicScheduler, process_schedule_spec\n",
    "from qubx.utils.time import convert_seconds_to_str"
   ]
  },
  {
   "cell_type": "code",
   "execution_count": 411,
   "metadata": {
    "metadata": {}
   },
   "outputs": [],
   "source": [
    "specs = [\n",
    "    '',\n",
    "    'bar.1m: -5Sec',        # 5 sec before subsciption bar closing\n",
    "    '1Min -5Sec',           # 5 sec before subsciption bar closing\n",
    "    'bar:  5Sec',           # 5 sec after subsciption bar opened\n",
    "    'bar:  +5Sec',          # 5 sec after subsciption bar opened\n",
    "    'time: 23:59:00 @ Sat', # at 23:59:00 every Saturday\n",
    "    'time: 23:59 @ Sat',    # at 23:59:00 every Saturday\n",
    "    'time: 9:30:10',        # every day at 9:30:10\n",
    "    '* * * * * 45',         # raw cron \n",
    "    'cron: * * * * * 45',   # raw cron witch implicit type\n",
    "    '23:59:00 @ Sun',       # at 23:59:00 every Sunday\n",
    "    '9:30:10',              # every day at 9:30:10\n",
    "    '9:30 @ Mon-Fri',       # mon, ... fri at 9:30\n",
    "    '9:30:22 @ Mon,Fri',    # mon and fri at 9:30:22\n",
    "    '9:30 , 15:45 @ Mon-Fri', # mon, ... fri at 9:30 and 15:45\n",
    "    '9:30, 15:45 @ Mon, Fri', # mon and fri at 9:30 and 15:45\n",
    "    '9:30:10  15:45 @ Mon, Fri', # mon and fri at 9:30 and 15:45\n",
    "    'calendar: 23:00 liquidation', # custom event\n",
    "    '9:30 -1Min'            # time \n",
    "    '-5Sec',                # 5 sec before subsciption bar end\n",
    "    '5Min -5Sec',           # 5 sec before every 5min interval ends\n",
    "    '1w -1h',               # 1h before every week ends\n",
    "    '4month -5hour',        # 5h before the end of every 4 months \n",
    "    '1week -3hours -10Mins',# 5h before the end of every 4 months \n",
    "    '2h30m -5Sec',          # 5 sec before every 2h and 30min interval ends\n",
    "    '1w @ Sat',             # 5 sec before every 2h and 30min interval ends\n",
    "]"
   ]
  },
  {
   "cell_type": "code",
   "execution_count": 415,
   "metadata": {
    "metadata": {}
   },
   "outputs": [
    {
     "name": "stdout",
     "output_type": "stream",
     "text": [
      "                               []\n",
      "bar.1m: -5Sec                  [{'type': 'bar', 'args': None, 'timeframe': '1m', 'delay': Timedelta('-1 days +23:59:55'), 'spec': '-5Sec'}]\n",
      "1Min -5Sec                     [{'type': 'bar', 'args': None, 'timeframe': '1Min', 'delay': Timedelta('-1 days +23:59:55'), 'spec': '1Min -5Sec'}]\n",
      "bar:  5Sec                     [{'type': 'bar', 'args': None, 'timeframe': None, 'delay': Timedelta('0 days 00:00:05'), 'spec': '5Sec'}]\n",
      "bar:  +5Sec                    [{'type': 'bar', 'args': None, 'timeframe': None, 'delay': Timedelta('0 days 00:00:05'), 'spec': '+5Sec'}]\n",
      "time: 23:59:00 @ Sat           [{'type': 'cron', 'args': '59 23 * * Sat', 'spec': '23:59:00 @ Sat'}]\n",
      "time: 23:59 @ Sat              [{'type': 'cron', 'args': '59 23 * * Sat', 'spec': '23:59 @ Sat'}]\n",
      "time: 9:30:10                  [{'type': 'cron', 'args': '30 9 * * * 10', 'spec': '9:30:10'}]\n",
      "* * * * * 45                   [{'type': 'cron', 'args': '* * * * * 45', 'spec': '* * * * * 45'}]\n",
      "cron: * * * * * 45             [{'type': 'cron', 'args': '* * * * * 45', 'spec': '* * * * * 45'}]\n",
      "23:59:00 @ Sun                 [{'type': 'cron', 'args': '59 23 * * Sun', 'spec': '23:59:00 @ Sun'}]\n",
      "9:30:10                        [{'type': 'cron', 'args': '30 9 * * * 10', 'spec': '9:30:10'}]\n",
      "9:30 @ Mon-Fri                 [{'type': 'cron', 'args': '30 9 * * Mon-Fri', 'spec': '9:30 @ Mon-Fri'}]\n",
      "9:30:22 @ Mon,Fri              [{'type': 'cron', 'args': '30 9 * * Mon,Fri 22', 'spec': '9:30:22 @ Mon,Fri'}]\n",
      "9:30 , 15:45 @ Mon-Fri         [{'type': 'cron', 'args': '30 9 * * Mon-Fri', 'spec': '9:30 , 15:45 @ Mon-Fri'}, {'type': 'cron', 'args': '45 15 * * Mon-Fri', 'spec': '9:30 , 15:45 @ Mon-Fri'}]\n",
      "9:30, 15:45 @ Mon, Fri         [{'type': 'cron', 'args': '30 9 * * Mon,Fri', 'spec': '9:30, 15:45 @ Mon, Fri'}, {'type': 'cron', 'args': '45 15 * * Mon,Fri', 'spec': '9:30, 15:45 @ Mon, Fri'}]\n",
      "9:30:10  15:45 @ Mon, Fri      [{'type': 'cron', 'args': '30 9 * * Mon,Fri 10', 'spec': '9:30:10  15:45 @ Mon, Fri'}, {'type': 'cron', 'args': '45 15 * * Mon,Fri', 'spec': '9:30:10  15:45 @ Mon, Fri'}]\n",
      "calendar: 23:00 liquidation    [{'type': 'calendar', 'args': None, 'timeframe': None, 'delay': Timedelta('0 days 00:00:00'), 'spec': '23:00 liquidation'}]\n",
      "9:30 -1Min-5Sec                [{'type': 'cron', 'args': '30 9 * * *', 'spec': '9:30 -1Min-5Sec'}]\n",
      "5Min -5Sec                     [{'type': 'bar', 'args': None, 'timeframe': '5Min', 'delay': Timedelta('-1 days +23:59:55'), 'spec': '5Min -5Sec'}]\n",
      "1w -1h                         [{'type': 'bar', 'args': None, 'timeframe': '1w', 'delay': Timedelta('-1 days +23:00:00'), 'spec': '1w -1h'}]\n",
      "4month -5hour                  [{'type': 'bar', 'args': None, 'timeframe': '16w', 'delay': Timedelta('-1 days +19:00:00'), 'spec': '4month -5hour'}]\n",
      "1week -3hours -10Mins          [{'type': 'bar', 'args': None, 'timeframe': '1w', 'delay': Timedelta('-1 days +20:50:00'), 'spec': '1week -3hours -10Mins'}]\n",
      "2h30m -5Sec                    [{'type': 'bar', 'args': None, 'timeframe': '2h30Min', 'delay': Timedelta('-1 days +23:59:55'), 'spec': '2h30m -5Sec'}]\n",
      "1w @ Sat                       [{'type': 'bar', 'args': None, 'timeframe': '1w', 'delay': Timedelta('0 days 00:00:00'), 'spec': '1w @ Sat'}]\n"
     ]
    }
   ],
   "source": [
    "for s in specs:\n",
    "    print(s.ljust(30), process_schedule_spec(s))"
   ]
  },
  {
   "cell_type": "code",
   "execution_count": 414,
   "metadata": {
    "metadata": {}
   },
   "outputs": [],
   "source": [
    "if 0:\n",
    "    for s in specs: \n",
    "        m = re.compile(\n",
    "            r\"((?P<type>[A-Za-z]+)(\\.?(?P<timeframe>[0-9A-Za-z]+))?\\ *:)?\"\n",
    "            r\"\\ *\"\n",
    "            r\"((?P<spec>\"\n",
    "                r\"(?P<time>((\\d+:\\d+(:\\d+)?)\\ *,?\\ *)+)?\"\n",
    "                r\"((\\ *@\\ *)(?P<by>([A-Za-z0-9-,\\ ]+)))?\"\n",
    "                r\"((\"\n",
    "                r'((?P<months>[-+]?\\d+)(months|month|bm|mo))?'\n",
    "                r'((?P<weeks>[-+]?\\d+)(weeks|week|w))?'\n",
    "                r'((?P<days>[-+]?\\d+)(days|day|d))?'\n",
    "                r'((?P<hours>[-+]?\\d+)(hours|hour|h))?'\n",
    "                r'((?P<minutes>[-+]?\\d+)(mins|min|m))?'\n",
    "                r'((?P<seconds>[-+]?\\d+)(sec|s))?'\n",
    "                r\")(\\ *)?)*\"\n",
    "                r\".*\"\n",
    "            r\"))?\"\n",
    "\n",
    "            , re.IGNORECASE\n",
    "        ).match(s)\n",
    "        print(s.ljust(30), '->', {k: v for k, v in m.groupdict().items() if v} if m else '?????')\n"
   ]
  },
  {
   "cell_type": "markdown",
   "metadata": {},
   "source": [
    "# Scheduler tests"
   ]
  },
  {
   "cell_type": "code",
   "execution_count": 454,
   "metadata": {},
   "outputs": [
    {
     "name": "stdout",
     "output_type": "stream",
     "text": [
      "The autoreload extension is already loaded. To reload it, use:\n",
      "  %reload_ext autoreload\n"
     ]
    }
   ],
   "source": [
    "%load_ext autoreload\n",
    "%autoreload 2\n",
    "from qubx.core.helpers import BasicScheduler\n",
    "from qubx.core.basics import CtrlChannel\n",
    "import numpy as np"
   ]
  },
  {
   "cell_type": "code",
   "execution_count": null,
   "metadata": {},
   "outputs": [],
   "source": [
    "if 0:\n",
    "    import sched\n",
    "    import time as time_module\n",
    "\n",
    "    def myfunc(): \n",
    "        print(f\"Trigger: {pd.Timestamp('now')}\")\n",
    "\n",
    "    scheduler = sched.scheduler(time_module.time, time_module.sleep)\n",
    "    t1 = (pd.Timestamp('now', tz='UTC') + pd.Timedelta('3s')).round('3s').timestamp()\n",
    "    t2 = (pd.Timestamp('now', tz='UTC') + pd.Timedelta('5s')).round('5s').timestamp()\n",
    "    scheduler_e = scheduler.enterabs(t1, 1, myfunc, ())\n",
    "    scheduler_e = scheduler.enterabs(t2, 1, myfunc, ())\n",
    "\n",
    "    while (r:=scheduler.run(blocking=False)):\n",
    "        time_module.sleep(max(r/5, 0.1))"
   ]
  },
  {
   "cell_type": "code",
   "execution_count": 415,
   "metadata": {},
   "outputs": [],
   "source": [
    "time_now = lambda: pd.Timestamp('now', tz='UTC').as_unit('ns').asm8.item()\n",
    "\n",
    "bs = BasicScheduler(c:=CtrlChannel('test'), time_now)\n",
    "bs.schedule_event('* * * * * */10', 'TEST')"
   ]
  },
  {
   "cell_type": "code",
   "execution_count": 416,
   "metadata": {},
   "outputs": [
    {
     "data": {
      "text/plain": [
       "(Timestamp('2024-05-04 11:09:50'), Timestamp('2024-05-04 11:10:00'))"
      ]
     },
     "execution_count": 416,
     "metadata": {},
     "output_type": "execute_result"
    }
   ],
   "source": [
    "bs.get_event_last_time('TEST'), bs.get_event_next_time('TEST')"
   ]
  },
  {
   "cell_type": "code",
   "execution_count": 417,
   "metadata": {},
   "outputs": [
    {
     "name": "stdout",
     "output_type": "stream",
     "text": [
      "\u001b[32m2024-05-04 14:09:59.699\u001b[0m [ \u001b[34m\u001b[1m🐞\u001b[0m ] \u001b[34m\u001b[1mNext (TEST) event scheduled at \u001b[31m2024-05-04 11:10:00\u001b[0m\u001b[34m\u001b[1m\u001b[0m\n"
     ]
    },
    {
     "name": "stdout",
     "output_type": "stream",
     "text": [
      "\u001b[32m2024-05-04 14:10:00.002\u001b[0m [ \u001b[34m\u001b[1m🐞\u001b[0m ] \u001b[34m\u001b[1mNext (TEST) event scheduled at \u001b[31m2024-05-04 11:10:10\u001b[0m\u001b[34m\u001b[1m\u001b[0m\n",
      "\u001b[32m2024-05-04 14:10:10.067\u001b[0m [ \u001b[34m\u001b[1m🐞\u001b[0m ] \u001b[34m\u001b[1mNext (TEST) event scheduled at \u001b[31m2024-05-04 11:10:20\u001b[0m\u001b[34m\u001b[1m\u001b[0m\n",
      "\u001b[32m2024-05-04 14:10:15.017\u001b[0m [ \u001b[34m\u001b[1m🐞\u001b[0m ] \u001b[34m\u001b[1mNext (TEST-xxxx) event scheduled at \u001b[31m2024-05-04 11:10:16\u001b[0m\u001b[34m\u001b[1m\u001b[0m\n",
      "\u001b[32m2024-05-04 14:10:16.001\u001b[0m [ \u001b[34m\u001b[1m🐞\u001b[0m ] \u001b[34m\u001b[1mNext (TEST-xxxx) event scheduled at \u001b[31m2024-05-04 11:10:17\u001b[0m\u001b[34m\u001b[1m\u001b[0m\n",
      "\u001b[32m2024-05-04 14:10:17.097\u001b[0m [ \u001b[34m\u001b[1m🐞\u001b[0m ] \u001b[34m\u001b[1mNext (TEST-xxxx) event scheduled at \u001b[31m2024-05-04 11:10:18\u001b[0m\u001b[34m\u001b[1m\u001b[0m\n",
      "\u001b[32m2024-05-04 14:10:18.043\u001b[0m [ \u001b[34m\u001b[1m🐞\u001b[0m ] \u001b[34m\u001b[1mNext (TEST-xxxx) event scheduled at \u001b[31m2024-05-04 11:10:19\u001b[0m\u001b[34m\u001b[1m\u001b[0m\n",
      "\u001b[32m2024-05-04 14:10:19.013\u001b[0m [ \u001b[34m\u001b[1m🐞\u001b[0m ] \u001b[34m\u001b[1mNext (TEST-xxxx) event scheduled at \u001b[31m2024-05-04 11:10:20\u001b[0m\u001b[34m\u001b[1m\u001b[0m\n",
      "\u001b[32m2024-05-04 14:10:20.000\u001b[0m [ \u001b[34m\u001b[1m🐞\u001b[0m ] \u001b[34m\u001b[1mNext (TEST) event scheduled at \u001b[31m2024-05-04 11:10:30\u001b[0m\u001b[34m\u001b[1m\u001b[0m\n",
      "\u001b[32m2024-05-04 14:10:20.000\u001b[0m [ \u001b[34m\u001b[1m🐞\u001b[0m ] \u001b[34m\u001b[1mNext (TEST-xxxx) event scheduled at \u001b[31m2024-05-04 11:10:21\u001b[0m\u001b[34m\u001b[1m\u001b[0m\n",
      "\u001b[32m2024-05-04 14:10:21.095\u001b[0m [ \u001b[34m\u001b[1m🐞\u001b[0m ] \u001b[34m\u001b[1mNext (TEST-xxxx) event scheduled at \u001b[31m2024-05-04 11:10:22\u001b[0m\u001b[34m\u001b[1m\u001b[0m\n",
      "\u001b[32m2024-05-04 14:10:22.042\u001b[0m [ \u001b[34m\u001b[1m🐞\u001b[0m ] \u001b[34m\u001b[1mNext (TEST-xxxx) event scheduled at \u001b[31m2024-05-04 11:10:23\u001b[0m\u001b[34m\u001b[1m\u001b[0m\n",
      "\u001b[32m2024-05-04 14:10:23.013\u001b[0m [ \u001b[34m\u001b[1m🐞\u001b[0m ] \u001b[34m\u001b[1mNext (TEST-xxxx) event scheduled at \u001b[31m2024-05-04 11:10:24\u001b[0m\u001b[34m\u001b[1m\u001b[0m\n",
      "\u001b[32m2024-05-04 14:10:23.726\u001b[0m [ \u001b[34m\u001b[1m🐞\u001b[0m ] \u001b[34m\u001b[1mScheduler is stopped \u001b[0m\n"
     ]
    }
   ],
   "source": [
    "bs.run()"
   ]
  },
  {
   "cell_type": "code",
   "execution_count": 420,
   "metadata": {},
   "outputs": [
    {
     "name": "stdout",
     "output_type": "stream",
     "text": [
      "\u001b[32m2024-05-04 14:14:40.920\u001b[0m [ \u001b[34m\u001b[1m🐞\u001b[0m ] \u001b[34m\u001b[1mNext (TEST) event scheduled at \u001b[31m2024-05-04 11:14:50\u001b[0m\u001b[34m\u001b[1m\u001b[0m\n",
      "\u001b[32m2024-05-04 14:14:40.926\u001b[0m [ \u001b[34m\u001b[1m🐞\u001b[0m ] \u001b[34m\u001b[1mNext (TEST-xxxx) event scheduled at \u001b[31m2024-05-04 11:14:41\u001b[0m\u001b[34m\u001b[1m\u001b[0m\n",
      "\u001b[32m2024-05-04 14:14:40.926\u001b[0m [ \u001b[34m\u001b[1m🐞\u001b[0m ] \u001b[34m\u001b[1mNext (TEST-xxxx) event scheduled at \u001b[31m2024-05-04 11:14:41\u001b[0m\u001b[34m\u001b[1m\u001b[0m\n",
      "\u001b[32m2024-05-04 14:14:40.926\u001b[0m [ \u001b[34m\u001b[1m🐞\u001b[0m ] \u001b[34m\u001b[1mNext (TEST) event scheduled at \u001b[31m2024-05-04 11:14:50\u001b[0m\u001b[34m\u001b[1m\u001b[0m\n",
      "\u001b[32m2024-05-04 14:14:40.926\u001b[0m [ \u001b[34m\u001b[1m🐞\u001b[0m ] \u001b[34m\u001b[1mScheduler is stopped \u001b[0m\n",
      "\u001b[32m2024-05-04 14:14:40.926\u001b[0m [ \u001b[34m\u001b[1m🐞\u001b[0m ] \u001b[34m\u001b[1mNext (TEST-xxxx) event scheduled at \u001b[31m2024-05-04 11:14:41\u001b[0m\u001b[34m\u001b[1m\u001b[0m\n",
      "\u001b[32m2024-05-04 14:14:40.926\u001b[0m [ \u001b[34m\u001b[1m🐞\u001b[0m ] \u001b[34m\u001b[1mNext (TEST-xxxx) event scheduled at \u001b[31m2024-05-04 11:14:41\u001b[0m\u001b[34m\u001b[1m\u001b[0m\n",
      "\u001b[32m2024-05-04 14:14:40.926\u001b[0m [ \u001b[34m\u001b[1m🐞\u001b[0m ] \u001b[34m\u001b[1mNext (TEST) event scheduled at \u001b[31m2024-05-04 11:14:50\u001b[0m\u001b[34m\u001b[1m\u001b[0m\n",
      "\u001b[32m2024-05-04 14:14:40.926\u001b[0m [ \u001b[34m\u001b[1m🐞\u001b[0m ] \u001b[34m\u001b[1mScheduler is stopped \u001b[0m\n"
     ]
    }
   ],
   "source": [
    "bs.run()"
   ]
  },
  {
   "cell_type": "code",
   "execution_count": 418,
   "metadata": {},
   "outputs": [
    {
     "name": "stdout",
     "output_type": "stream",
     "text": [
      "\u001b[32m2024-05-04 14:10:14.397\u001b[0m [ \u001b[34m\u001b[1m🐞\u001b[0m ] \u001b[34m\u001b[1mNext (TEST-xxxx) event scheduled at \u001b[31m2024-05-04 11:10:15\u001b[0m\u001b[34m\u001b[1m\u001b[0m\n"
     ]
    }
   ],
   "source": [
    "bs.schedule_event('* * * * * */1', 'TEST-xxxx')"
   ]
  },
  {
   "cell_type": "code",
   "execution_count": 28,
   "metadata": {},
   "outputs": [
    {
     "data": {
      "text/plain": [
       "numpy.timedelta64(60000000000,'ns')"
      ]
     },
     "execution_count": 28,
     "metadata": {},
     "output_type": "execute_result"
    }
   ],
   "source": [
    "pd.Timedelta('1Min').asm8.item()"
   ]
  },
  {
   "cell_type": "code",
   "execution_count": 20,
   "metadata": {},
   "outputs": [
    {
     "data": {
      "text/plain": [
       "345600.0"
      ]
     },
     "execution_count": 20,
     "metadata": {},
     "output_type": "execute_result"
    }
   ],
   "source": [
    "pd.Timedelta('4d').total_seconds()"
   ]
  },
  {
   "cell_type": "code",
   "execution_count": 421,
   "metadata": {},
   "outputs": [],
   "source": [
    "c.stop()"
   ]
  },
  {
   "cell_type": "code",
   "execution_count": 457,
   "metadata": {},
   "outputs": [
    {
     "data": {
      "text/plain": [
       "Timedelta('0 days 00:00:00')"
      ]
     },
     "execution_count": 457,
     "metadata": {},
     "output_type": "execute_result"
    }
   ],
   "source": [
    "pd.Timedelta('0')"
   ]
  }
 ],
 "metadata": {
  "kernelspec": {
   "display_name": "p311qbx",
   "language": "python",
   "name": "python3"
  },
  "language_info": {
   "codemirror_mode": {
    "name": "ipython",
    "version": 3
   },
   "file_extension": ".py",
   "mimetype": "text/x-python",
   "name": "python",
   "nbconvert_exporter": "python",
   "pygments_lexer": "ipython3",
   "version": "3.11.8"
  }
 },
 "nbformat": 4,
 "nbformat_minor": 2
}
