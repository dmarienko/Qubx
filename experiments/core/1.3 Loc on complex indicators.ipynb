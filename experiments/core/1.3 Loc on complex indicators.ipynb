{
 "cells": [
  {
   "cell_type": "code",
   "execution_count": 1,
   "metadata": {},
   "outputs": [
    {
     "name": "stdout",
     "output_type": "stream",
     "text": [
      " >  [\u001b[32mdev\u001b[0m] \u001b[31minstalling cython rebuilding hook\u001b[0m\n",
      "\n",
      "⠀⠀⡰⡖⠒⠒⢒⢦⠀⠀   \n",
      "⠀⢠⠃⠈⢆⣀⣎⣀⣱⡀  \u001b[31mQUBX\u001b[0m | \u001b[36mQuantitative Backtesting Environment\u001b[0m \n",
      "⠀⢳⠒⠒⡞⠚⡄⠀⡰⠁         (c) 2024, ver. \u001b[35mDev\u001b[0m\n",
      "⠀⠀⠱⣜⣀⣀⣈⣦⠃⠀⠀⠀ \n",
      "        \n"
     ]
    }
   ],
   "source": [
    "import sys, os, re; sys.path = ([\"../src/\", \"../\"] if re.match(r'^(\\w\\:\\\\)|(/)', os.getcwd()) else [])+ sys.path \n",
    "import numpy as np\n",
    "import qubx\n",
    "%qubxd dev\n",
    "\n",
    "%load_ext autoreload\n",
    "%autoreload 2\n",
    "\n",
    "from qubx.core.series import TimeSeries, OHLCV\n",
    "from qubx.core.utils import recognize_time, time_to_str\n",
    "from qubx.data.readers import CsvStorageDataReader, AsOhlcvSeries\n",
    "from qubx.ta.indicators import swings, psar\n",
    "ohlc = CsvStorageDataReader(\"../tests/data/csv\").read(\"BTCUSDT_ohlcv_M1\", start=\"2024-01-01\", stop=\"2024-01-15\", transform=AsOhlcvSeries('15Min'))"
   ]
  },
  {
   "cell_type": "code",
   "execution_count": 2,
   "metadata": {},
   "outputs": [
    {
     "data": {
      "text/html": [
       "<div>\n",
       "<style scoped>\n",
       "    .dataframe tbody tr th:only-of-type {\n",
       "        vertical-align: middle;\n",
       "    }\n",
       "\n",
       "    .dataframe tbody tr th {\n",
       "        vertical-align: top;\n",
       "    }\n",
       "\n",
       "    .dataframe thead th {\n",
       "        text-align: right;\n",
       "    }\n",
       "</style>\n",
       "<table border=\"1\" class=\"dataframe\">\n",
       "  <thead>\n",
       "    <tr style=\"text-align: right;\">\n",
       "      <th></th>\n",
       "      <th>open</th>\n",
       "      <th>high</th>\n",
       "      <th>low</th>\n",
       "      <th>close</th>\n",
       "      <th>volume</th>\n",
       "      <th>bought_volume</th>\n",
       "    </tr>\n",
       "    <tr>\n",
       "      <th>timestamp</th>\n",
       "      <th></th>\n",
       "      <th></th>\n",
       "      <th></th>\n",
       "      <th></th>\n",
       "      <th></th>\n",
       "      <th></th>\n",
       "    </tr>\n",
       "  </thead>\n",
       "  <tbody>\n",
       "    <tr>\n",
       "      <th>2024-01-14 23:00:00</th>\n",
       "      <td>42279.9</td>\n",
       "      <td>42328.0</td>\n",
       "      <td>41935.0</td>\n",
       "      <td>42043.3</td>\n",
       "      <td>7215.828</td>\n",
       "      <td>0.0</td>\n",
       "    </tr>\n",
       "    <tr>\n",
       "      <th>2024-01-14 23:15:00</th>\n",
       "      <td>42043.3</td>\n",
       "      <td>42150.0</td>\n",
       "      <td>41850.3</td>\n",
       "      <td>42040.9</td>\n",
       "      <td>6947.573</td>\n",
       "      <td>0.0</td>\n",
       "    </tr>\n",
       "    <tr>\n",
       "      <th>2024-01-14 23:30:00</th>\n",
       "      <td>42041.0</td>\n",
       "      <td>42136.0</td>\n",
       "      <td>41750.0</td>\n",
       "      <td>41916.7</td>\n",
       "      <td>8196.718</td>\n",
       "      <td>0.0</td>\n",
       "    </tr>\n",
       "    <tr>\n",
       "      <th>2024-01-14 23:45:00</th>\n",
       "      <td>41916.6</td>\n",
       "      <td>41994.9</td>\n",
       "      <td>41713.5</td>\n",
       "      <td>41734.9</td>\n",
       "      <td>4345.071</td>\n",
       "      <td>0.0</td>\n",
       "    </tr>\n",
       "    <tr>\n",
       "      <th>2024-01-15 00:00:00</th>\n",
       "      <td>41734.9</td>\n",
       "      <td>41797.5</td>\n",
       "      <td>41720.0</td>\n",
       "      <td>41763.1</td>\n",
       "      <td>568.072</td>\n",
       "      <td>0.0</td>\n",
       "    </tr>\n",
       "  </tbody>\n",
       "</table>\n",
       "</div>"
      ],
      "text/plain": [
       "                        open     high      low    close    volume  \\\n",
       "timestamp                                                           \n",
       "2024-01-14 23:00:00  42279.9  42328.0  41935.0  42043.3  7215.828   \n",
       "2024-01-14 23:15:00  42043.3  42150.0  41850.3  42040.9  6947.573   \n",
       "2024-01-14 23:30:00  42041.0  42136.0  41750.0  41916.7  8196.718   \n",
       "2024-01-14 23:45:00  41916.6  41994.9  41713.5  41734.9  4345.071   \n",
       "2024-01-15 00:00:00  41734.9  41797.5  41720.0  41763.1   568.072   \n",
       "\n",
       "                     bought_volume  \n",
       "timestamp                           \n",
       "2024-01-14 23:00:00            0.0  \n",
       "2024-01-14 23:15:00            0.0  \n",
       "2024-01-14 23:30:00            0.0  \n",
       "2024-01-14 23:45:00            0.0  \n",
       "2024-01-15 00:00:00            0.0  "
      ]
     },
     "execution_count": 2,
     "metadata": {},
     "output_type": "execute_result"
    }
   ],
   "source": [
    "ohlc.pd().tail()"
   ]
  },
  {
   "cell_type": "code",
   "execution_count": null,
   "metadata": {},
   "outputs": [],
   "source": [
    "ohlc.loc['2024-01-01 01:00':'2024-01-01 02:00']"
   ]
  },
  {
   "cell_type": "code",
   "execution_count": null,
   "metadata": {},
   "outputs": [],
   "source": [
    "ohlc.pd().loc[:100]"
   ]
  },
  {
   "cell_type": "code",
   "execution_count": null,
   "metadata": {},
   "outputs": [],
   "source": [
    "(\n",
    "    all(ohlc.pd().loc['2024-01-01 10:00':'2024-01-01 11:10'] == ohlc.loc['2024-01-01 10:00':'2024-01-01 11:10'].pd()),\n",
    "    all(ohlc.pd().loc['2021-01-01 10:00':'2030-01-01 11:10'] == ohlc.loc['2021-01-01 10:00':'2030-01-01 11:10'].pd()),\n",
    "    all(ohlc.pd().loc[:] == ohlc.loc[:].pd()),\n",
    "    all(ohlc.pd().loc[:'2021-01-01 10:00'] == ohlc.loc[:'2021-01-01 10:00'].pd()),\n",
    " )"
   ]
  },
  {
   "cell_type": "code",
   "execution_count": null,
   "metadata": {},
   "outputs": [],
   "source": [
    "ohlc.loc['2024-01-01 02:01':'2029-01-01 02:15']"
   ]
  },
  {
   "cell_type": "code",
   "execution_count": 4,
   "metadata": {},
   "outputs": [
    {
     "data": {
      "text/html": [
       "<div>\n",
       "<style scoped>\n",
       "    .dataframe tbody tr th:only-of-type {\n",
       "        vertical-align: middle;\n",
       "    }\n",
       "\n",
       "    .dataframe tbody tr th {\n",
       "        vertical-align: top;\n",
       "    }\n",
       "\n",
       "    .dataframe thead tr th {\n",
       "        text-align: left;\n",
       "    }\n",
       "</style>\n",
       "<table border=\"1\" class=\"dataframe\">\n",
       "  <thead>\n",
       "    <tr>\n",
       "      <th></th>\n",
       "      <th colspan=\"5\" halign=\"left\">DownTrends</th>\n",
       "      <th colspan=\"5\" halign=\"left\">UpTrends</th>\n",
       "    </tr>\n",
       "    <tr>\n",
       "      <th></th>\n",
       "      <th>start_price</th>\n",
       "      <th>end_price</th>\n",
       "      <th>end</th>\n",
       "      <th>delta</th>\n",
       "      <th>spotted</th>\n",
       "      <th>start_price</th>\n",
       "      <th>end_price</th>\n",
       "      <th>end</th>\n",
       "      <th>delta</th>\n",
       "      <th>spotted</th>\n",
       "    </tr>\n",
       "  </thead>\n",
       "  <tbody>\n",
       "    <tr>\n",
       "      <th>2024-01-01 00:30:00</th>\n",
       "      <td>NaN</td>\n",
       "      <td>NaN</td>\n",
       "      <td>NaT</td>\n",
       "      <td>NaN</td>\n",
       "      <td>NaT</td>\n",
       "      <td>42386.2</td>\n",
       "      <td>42832.0</td>\n",
       "      <td>2024-01-01 01:30:00</td>\n",
       "      <td>445.8</td>\n",
       "      <td>2024-01-01 01:30:00</td>\n",
       "    </tr>\n",
       "    <tr>\n",
       "      <th>2024-01-01 01:30:00</th>\n",
       "      <td>42832.0</td>\n",
       "      <td>42207.9</td>\n",
       "      <td>2024-01-01 05:45:00</td>\n",
       "      <td>-624.1</td>\n",
       "      <td>2024-01-01 03:30:00</td>\n",
       "      <td>NaN</td>\n",
       "      <td>NaN</td>\n",
       "      <td>NaT</td>\n",
       "      <td>NaN</td>\n",
       "      <td>NaT</td>\n",
       "    </tr>\n",
       "    <tr>\n",
       "      <th>2024-01-01 05:45:00</th>\n",
       "      <td>NaN</td>\n",
       "      <td>NaN</td>\n",
       "      <td>NaT</td>\n",
       "      <td>NaN</td>\n",
       "      <td>NaT</td>\n",
       "      <td>42207.9</td>\n",
       "      <td>42800.0</td>\n",
       "      <td>2024-01-01 11:00:00</td>\n",
       "      <td>592.1</td>\n",
       "      <td>2024-01-01 07:15:00</td>\n",
       "    </tr>\n",
       "    <tr>\n",
       "      <th>2024-01-01 11:00:00</th>\n",
       "      <td>42800.0</td>\n",
       "      <td>42638.0</td>\n",
       "      <td>2024-01-01 11:30:00</td>\n",
       "      <td>-162.0</td>\n",
       "      <td>2024-01-01 11:30:00</td>\n",
       "      <td>NaN</td>\n",
       "      <td>NaN</td>\n",
       "      <td>NaT</td>\n",
       "      <td>NaN</td>\n",
       "      <td>NaT</td>\n",
       "    </tr>\n",
       "    <tr>\n",
       "      <th>2024-01-01 11:30:00</th>\n",
       "      <td>NaN</td>\n",
       "      <td>NaN</td>\n",
       "      <td>NaT</td>\n",
       "      <td>NaN</td>\n",
       "      <td>NaT</td>\n",
       "      <td>42638.0</td>\n",
       "      <td>42825.2</td>\n",
       "      <td>2024-01-01 12:30:00</td>\n",
       "      <td>187.2</td>\n",
       "      <td>2024-01-01 12:30:00</td>\n",
       "    </tr>\n",
       "    <tr>\n",
       "      <th>...</th>\n",
       "      <td>...</td>\n",
       "      <td>...</td>\n",
       "      <td>...</td>\n",
       "      <td>...</td>\n",
       "      <td>...</td>\n",
       "      <td>...</td>\n",
       "      <td>...</td>\n",
       "      <td>...</td>\n",
       "      <td>...</td>\n",
       "      <td>...</td>\n",
       "    </tr>\n",
       "    <tr>\n",
       "      <th>2024-01-14 12:15:00</th>\n",
       "      <td>NaN</td>\n",
       "      <td>NaN</td>\n",
       "      <td>NaT</td>\n",
       "      <td>NaN</td>\n",
       "      <td>NaT</td>\n",
       "      <td>42710.3</td>\n",
       "      <td>43019.1</td>\n",
       "      <td>2024-01-14 17:15:00</td>\n",
       "      <td>308.8</td>\n",
       "      <td>2024-01-14 14:00:00</td>\n",
       "    </tr>\n",
       "    <tr>\n",
       "      <th>2024-01-14 17:15:00</th>\n",
       "      <td>43019.1</td>\n",
       "      <td>42000.0</td>\n",
       "      <td>2024-01-14 20:00:00</td>\n",
       "      <td>-1019.1</td>\n",
       "      <td>2024-01-14 18:45:00</td>\n",
       "      <td>NaN</td>\n",
       "      <td>NaN</td>\n",
       "      <td>NaT</td>\n",
       "      <td>NaN</td>\n",
       "      <td>NaT</td>\n",
       "    </tr>\n",
       "    <tr>\n",
       "      <th>2024-01-14 20:00:00</th>\n",
       "      <td>NaN</td>\n",
       "      <td>NaN</td>\n",
       "      <td>NaT</td>\n",
       "      <td>NaN</td>\n",
       "      <td>NaT</td>\n",
       "      <td>42000.0</td>\n",
       "      <td>42755.0</td>\n",
       "      <td>2024-01-14 20:45:00</td>\n",
       "      <td>755.0</td>\n",
       "      <td>2024-01-14 20:30:00</td>\n",
       "    </tr>\n",
       "    <tr>\n",
       "      <th>2024-01-14 20:45:00</th>\n",
       "      <td>42755.0</td>\n",
       "      <td>41713.5</td>\n",
       "      <td>2024-01-14 23:45:00</td>\n",
       "      <td>-1041.5</td>\n",
       "      <td>2024-01-14 21:30:00</td>\n",
       "      <td>NaN</td>\n",
       "      <td>NaN</td>\n",
       "      <td>NaT</td>\n",
       "      <td>NaN</td>\n",
       "      <td>NaT</td>\n",
       "    </tr>\n",
       "    <tr>\n",
       "      <th>2024-01-14 23:45:00</th>\n",
       "      <td>NaN</td>\n",
       "      <td>NaN</td>\n",
       "      <td>NaT</td>\n",
       "      <td>NaN</td>\n",
       "      <td>NaT</td>\n",
       "      <td>41713.5</td>\n",
       "      <td>NaN</td>\n",
       "      <td>NaT</td>\n",
       "      <td>NaN</td>\n",
       "      <td>2024-01-14 23:45:00</td>\n",
       "    </tr>\n",
       "  </tbody>\n",
       "</table>\n",
       "<p>95 rows × 10 columns</p>\n",
       "</div>"
      ],
      "text/plain": [
       "                     DownTrends                                        \\\n",
       "                    start_price end_price                 end   delta   \n",
       "2024-01-01 00:30:00         NaN       NaN                 NaT     NaN   \n",
       "2024-01-01 01:30:00     42832.0   42207.9 2024-01-01 05:45:00  -624.1   \n",
       "2024-01-01 05:45:00         NaN       NaN                 NaT     NaN   \n",
       "2024-01-01 11:00:00     42800.0   42638.0 2024-01-01 11:30:00  -162.0   \n",
       "2024-01-01 11:30:00         NaN       NaN                 NaT     NaN   \n",
       "...                         ...       ...                 ...     ...   \n",
       "2024-01-14 12:15:00         NaN       NaN                 NaT     NaN   \n",
       "2024-01-14 17:15:00     43019.1   42000.0 2024-01-14 20:00:00 -1019.1   \n",
       "2024-01-14 20:00:00         NaN       NaN                 NaT     NaN   \n",
       "2024-01-14 20:45:00     42755.0   41713.5 2024-01-14 23:45:00 -1041.5   \n",
       "2024-01-14 23:45:00         NaN       NaN                 NaT     NaN   \n",
       "\n",
       "                                           UpTrends            \\\n",
       "                                spotted start_price end_price   \n",
       "2024-01-01 00:30:00                 NaT     42386.2   42832.0   \n",
       "2024-01-01 01:30:00 2024-01-01 03:30:00         NaN       NaN   \n",
       "2024-01-01 05:45:00                 NaT     42207.9   42800.0   \n",
       "2024-01-01 11:00:00 2024-01-01 11:30:00         NaN       NaN   \n",
       "2024-01-01 11:30:00                 NaT     42638.0   42825.2   \n",
       "...                                 ...         ...       ...   \n",
       "2024-01-14 12:15:00                 NaT     42710.3   43019.1   \n",
       "2024-01-14 17:15:00 2024-01-14 18:45:00         NaN       NaN   \n",
       "2024-01-14 20:00:00                 NaT     42000.0   42755.0   \n",
       "2024-01-14 20:45:00 2024-01-14 21:30:00         NaN       NaN   \n",
       "2024-01-14 23:45:00                 NaT     41713.5       NaN   \n",
       "\n",
       "                                                                    \n",
       "                                    end  delta             spotted  \n",
       "2024-01-01 00:30:00 2024-01-01 01:30:00  445.8 2024-01-01 01:30:00  \n",
       "2024-01-01 01:30:00                 NaT    NaN                 NaT  \n",
       "2024-01-01 05:45:00 2024-01-01 11:00:00  592.1 2024-01-01 07:15:00  \n",
       "2024-01-01 11:00:00                 NaT    NaN                 NaT  \n",
       "2024-01-01 11:30:00 2024-01-01 12:30:00  187.2 2024-01-01 12:30:00  \n",
       "...                                 ...    ...                 ...  \n",
       "2024-01-14 12:15:00 2024-01-14 17:15:00  308.8 2024-01-14 14:00:00  \n",
       "2024-01-14 17:15:00                 NaT    NaN                 NaT  \n",
       "2024-01-14 20:00:00 2024-01-14 20:45:00  755.0 2024-01-14 20:30:00  \n",
       "2024-01-14 20:45:00                 NaT    NaN                 NaT  \n",
       "2024-01-14 23:45:00                 NaT    NaN 2024-01-14 23:45:00  \n",
       "\n",
       "[95 rows x 10 columns]"
      ]
     },
     "execution_count": 4,
     "metadata": {},
     "output_type": "execute_result"
    }
   ],
   "source": [
    "sw = swings(ohlc, psar)\n",
    "sw.pd()"
   ]
  },
  {
   "cell_type": "code",
   "execution_count": 5,
   "metadata": {},
   "outputs": [
    {
     "data": {
      "text/plain": [
       "2024-01-01 00:30:00    42386.2\n",
       "2024-01-01 05:45:00    42207.9\n",
       "2024-01-01 11:30:00    42638.0\n",
       "2024-01-01 14:45:00    42614.5\n",
       "2024-01-01 22:15:00    43426.0\n",
       "2024-01-02 05:00:00    45153.0\n",
       "2024-01-02 11:30:00    45258.0\n",
       "2024-01-02 21:00:00    44598.0\n",
       "2024-01-03 04:30:00    45144.0\n",
       "2024-01-03 07:45:00    44960.0\n",
       "2024-01-03 12:00:00    40333.0\n",
       "2024-01-03 18:45:00    41920.0\n",
       "2024-01-04 10:15:00    42645.1\n",
       "2024-01-04 16:30:00    43773.4\n",
       "2024-01-05 01:45:00    42300.0\n",
       "2024-01-05 14:30:00    43000.0\n",
       "2024-01-06 07:15:00    43391.3\n",
       "2024-01-06 12:45:00    43527.2\n",
       "2024-01-06 20:00:00    43645.0\n",
       "2024-01-07 02:30:00    43824.2\n",
       "2024-01-07 09:45:00    43862.8\n",
       "2024-01-07 17:00:00    43686.9\n",
       "2024-01-07 23:30:00    43557.5\n",
       "2024-01-08 02:45:00    43158.1\n",
       "2024-01-08 09:45:00    43629.7\n",
       "2024-01-08 15:00:00    44667.4\n",
       "2024-01-08 21:00:00    46666.1\n",
       "2024-01-09 00:30:00    46253.7\n",
       "2024-01-09 09:15:00    46372.0\n",
       "2024-01-09 13:00:00    46064.1\n",
       "2024-01-09 21:15:00    44417.2\n",
       "2024-01-10 13:00:00    44291.5\n",
       "2024-01-10 20:00:00    44720.0\n",
       "2024-01-11 06:00:00    45610.1\n",
       "2024-01-11 13:30:00    46771.0\n",
       "2024-01-11 17:15:00    45600.0\n",
       "2024-01-12 04:45:00    45842.2\n",
       "2024-01-12 09:15:00    45527.5\n",
       "2024-01-12 16:45:00    43221.1\n",
       "2024-01-12 19:00:00    43309.4\n",
       "2024-01-12 22:15:00    41370.0\n",
       "2024-01-13 12:15:00    42509.8\n",
       "2024-01-13 20:00:00    42703.2\n",
       "2024-01-14 04:15:00    42553.0\n",
       "2024-01-14 09:30:00    42824.2\n",
       "2024-01-14 12:15:00    42710.3\n",
       "2024-01-14 20:00:00    42000.0\n",
       "Name: bottoms, dtype: float64"
      ]
     },
     "execution_count": 5,
     "metadata": {},
     "output_type": "execute_result"
    }
   ],
   "source": [
    "sw.bottoms.loc[:]"
   ]
  },
  {
   "cell_type": "code",
   "execution_count": 15,
   "metadata": {},
   "outputs": [
    {
     "name": "stdout",
     "output_type": "stream",
     "text": [
      " >>>> LOC[0 : 1345] stop=1345\n",
      "1704067200000000000  :  1705276800000000000\n",
      "2024-01-01T00:00:00.000000000  :  2024-01-15T00:00:00.000000000\n",
      " >>>> LOC[0 : 47] stop=47\n",
      " >>>> LOC[0 : 47] stop=47\n",
      " >>>> LOC[0 : 47] stop=47\n",
      " >>>> LOC[0 : 47] stop=47\n",
      " >>>> LOC[0 : 93] stop=93\n",
      " >>>> LOC[0 : 93] stop=93\n"
     ]
    }
   ],
   "source": [
    "xxx = sw.loc[:]"
   ]
  },
  {
   "cell_type": "code",
   "execution_count": null,
   "metadata": {},
   "outputs": [],
   "source": [
    "xxx.tops"
   ]
  },
  {
   "cell_type": "code",
   "execution_count": 21,
   "metadata": {},
   "outputs": [
    {
     "data": {
      "text/plain": [
       "True"
      ]
     },
     "execution_count": 21,
     "metadata": {},
     "output_type": "execute_result"
    }
   ],
   "source": [
    "all(sw.tops.pd() == xxx.tops.pd())"
   ]
  },
  {
   "cell_type": "code",
   "execution_count": 26,
   "metadata": {},
   "outputs": [
    {
     "name": "stdout",
     "output_type": "stream",
     "text": [
      " >>>> LOC[2 : 47] stop=47\n",
      "1704069000000000000  :  1704108600000000000\n",
      "2024-01-01T00:30:00.000000000  :  2024-01-01T11:30:00.000000000\n",
      " >>>> LOC[0 : 2] stop=2\n",
      " >>>> LOC[0 : 2] stop=2\n",
      " >>>> LOC[0 : 3] stop=3\n",
      " >>>> LOC[0 : 3] stop=3\n",
      " >>>> LOC[0 : 3] stop=3\n",
      " >>>> LOC[0 : 3] stop=3\n"
     ]
    },
    {
     "data": {
      "text/plain": [
       "45"
      ]
     },
     "execution_count": 26,
     "metadata": {},
     "output_type": "execute_result"
    }
   ],
   "source": [
    "len(sw.loc['2024-01-01 00:30:00':'2024-01-01 11:30:00'])"
   ]
  },
  {
   "cell_type": "code",
   "execution_count": 37,
   "metadata": {},
   "outputs": [
    {
     "name": "stdout",
     "output_type": "stream",
     "text": [
      " >>>> LOC[0 : 97] stop=97\n",
      "1704067200000000000  :  1704153600000000000\n",
      "2024-01-01T00:00:00.000000000  :  2024-01-02T00:00:00.000000000\n",
      " >>>> LOC[0 : 4] stop=4\n",
      " >>>> LOC[0 : 4] stop=4\n",
      " >>>> LOC[0 : 5] stop=5\n",
      " >>>> LOC[0 : 5] stop=5\n",
      " >>>> LOC[0 : 8] stop=8\n",
      " >>>> LOC[0 : 8] stop=8\n"
     ]
    },
    {
     "data": {
      "text/plain": [
       "97"
      ]
     },
     "execution_count": 37,
     "metadata": {},
     "output_type": "execute_result"
    }
   ],
   "source": [
    "len(sw.loc[:'2024-01-02 00:00:00'])"
   ]
  }
 ],
 "metadata": {
  "kernelspec": {
   "display_name": ".venv",
   "language": "python",
   "name": "python3"
  },
  "language_info": {
   "codemirror_mode": {
    "name": "ipython",
    "version": 3
   },
   "file_extension": ".py",
   "mimetype": "text/x-python",
   "name": "python",
   "nbconvert_exporter": "python",
   "pygments_lexer": "ipython3",
   "version": "3.11.8"
  }
 },
 "nbformat": 4,
 "nbformat_minor": 2
}
