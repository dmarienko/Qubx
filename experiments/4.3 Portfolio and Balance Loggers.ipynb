{
 "cells": [
  {
   "cell_type": "code",
   "execution_count": 51,
   "metadata": {
    "metadata": {}
   },
   "outputs": [
    {
     "name": "stdout",
     "output_type": "stream",
     "text": [
      " >  [\u001b[32mdev\u001b[0m] \u001b[31minstalling cython rebuilding hook\u001b[0m\n",
      "The autoreload extension is already loaded. To reload it, use:\n",
      "  %reload_ext autoreload\n"
     ]
    }
   ],
   "source": [
    "import sys, os, re; sys.path = ([\"../src/\", \"../\"] if re.match(r'^(\\w\\:\\\\)|(/)', os.getcwd()) else [])+ sys.path \n",
    "\n",
    "from typing import Any, Optional, List, Dict\n",
    "from collections import defaultdict\n",
    "import nest_asyncio\n",
    "nest_asyncio.apply()\n",
    "\n",
    "import qubx\n",
    "%qubxd dev \n",
    "\n",
    "%load_ext autoreload\n",
    "%autoreload 2\n",
    "\n",
    "import time\n",
    "import tabulate\n",
    "from qubx import lookup, logger\n",
    "from qubx.core.basics import Position, ZERO_COSTS\n",
    "from qubx.core.loggers import PositionsDumper, LogsWriter\n",
    "from qubx.core.series import time_as_nsec\n",
    "from qubx.core.utils import time_to_str, time_delta_to_str, recognize_timeframe"
   ]
  },
  {
   "cell_type": "code",
   "execution_count": 52,
   "metadata": {
    "metadata": {}
   },
   "outputs": [
    {
     "data": {
      "text/plain": [
       "0"
      ]
     },
     "execution_count": 52,
     "metadata": {},
     "output_type": "execute_result"
    }
   ],
   "source": [
    "positions = [\n",
    "    Position(lookup.find_symbol('BINANCE', s), ZERO_COSTS) for s in ['BTCUSDT', 'ETHUSDT']\n",
    "] \n",
    "\n",
    "positions[0].change_position_by(0, 0.05, 63000)\n",
    "positions[1].change_position_by(0, 0.5, 3200)"
   ]
  },
  {
   "cell_type": "code",
   "execution_count": 53,
   "metadata": {
    "metadata": {}
   },
   "outputs": [],
   "source": [
    "class PositionsWriter(LogsWriter):\n",
    "\n",
    "    def write_data(self, log_type, account_id: str, strategy_id: str, data: List[Dict[str, Any]]):\n",
    "        table = defaultdict(list)\n",
    "        total_pnl, total_mkv = 0, 0\n",
    "        \n",
    "        for r in data:\n",
    "            table['Symbol'].append(r['instrument_id'])\n",
    "            table['Time'].append(r['timestamp'])\n",
    "            table['Quantity'].append(r['quantity'])\n",
    "            table['AvgPrice'].append(r['avg_position_price'])\n",
    "            table['LastPrice'].append(r['current_price'])\n",
    "            table['PnL'].append(r['pnl_quoted'])\n",
    "            table['MarketValue'].append(r['market_value_quoted'])\n",
    "            total_pnl += r['pnl_quoted']\n",
    "            total_mkv += r['market_value_quoted']\n",
    "\n",
    "        table['Symbol'].append('TOTAL')\n",
    "        table['PnL'].append(total_pnl)\n",
    "        table['MarketValue'].append(total_mkv)\n",
    "\n",
    "        # - write to database table here\n",
    "        print(f\" ::: Strategy {strategy_id} @ {account_id} :::\")\n",
    "        print(tabulate.tabulate(table, ['Symbol', 'Time', 'Quantity', 'AvgPrice', 'LastPrice', 'PnL', 'MarketValue'], tablefmt='rounded_grid'))"
   ]
  },
  {
   "cell_type": "code",
   "execution_count": 54,
   "metadata": {
    "metadata": {}
   },
   "outputs": [
    {
     "data": {
      "text/plain": [
       "<qubx.core.loggers.PositionsDumper at 0x1ab447d7950>"
      ]
     },
     "execution_count": 54,
     "metadata": {},
     "output_type": "execute_result"
    }
   ],
   "source": [
    "pos_dumper = PositionsDumper('test', 'strategy1', '5Sec', PositionsWriter())\n",
    "pos_dumper.attach_positions(*positions)"
   ]
  },
  {
   "cell_type": "code",
   "execution_count": 55,
   "metadata": {
    "metadata": {}
   },
   "outputs": [
    {
     "name": "stdout",
     "output_type": "stream",
     "text": [
      " ::: Strategy strategy1 @ test :::\n",
      "╭──────────┬────────────────────────────┬────────────┬────────────┬─────────────┬───────┬───────────────╮\n",
      "│ Symbol   │ Time                       │   Quantity │   AvgPrice │   LastPrice │   PnL │   MarketValue │\n",
      "├──────────┼────────────────────────────┼────────────┼────────────┼─────────────┼───────┼───────────────┤\n",
      "│ BTCUSDT  │ 2024-04-22T17:58:44.238336 │       0.05 │      63000 │       63010 │   0.5 │        3150.5 │\n",
      "├──────────┼────────────────────────────┼────────────┼────────────┼─────────────┼───────┼───────────────┤\n",
      "│ ETHUSDT  │ 2024-04-22T17:58:44.238336 │       0.5  │       3200 │        3210 │   5   │        1605   │\n",
      "├──────────┼────────────────────────────┼────────────┼────────────┼─────────────┼───────┼───────────────┤\n",
      "│ TOTAL    │                            │            │            │             │   5.5 │        4755.5 │\n",
      "╰──────────┴────────────────────────────┴────────────┴────────────┴─────────────┴───────┴───────────────╯\n",
      " ::: Strategy strategy1 @ test :::\n",
      "╭──────────┬────────────────────────────┬────────────┬────────────┬─────────────┬───────┬───────────────╮\n",
      "│ Symbol   │ Time                       │   Quantity │   AvgPrice │   LastPrice │   PnL │   MarketValue │\n",
      "├──────────┼────────────────────────────┼────────────┼────────────┼─────────────┼───────┼───────────────┤\n",
      "│ BTCUSDT  │ 2024-04-22T17:58:45.240609 │       0.05 │      63000 │       63030 │   1.5 │        3151.5 │\n",
      "├──────────┼────────────────────────────┼────────────┼────────────┼─────────────┼───────┼───────────────┤\n",
      "│ ETHUSDT  │ 2024-04-22T17:58:45.240609 │       0.5  │       3200 │        3230 │  15   │        1615   │\n",
      "├──────────┼────────────────────────────┼────────────┼────────────┼─────────────┼───────┼───────────────┤\n",
      "│ TOTAL    │                            │            │            │             │  16.5 │        4766.5 │\n",
      "╰──────────┴────────────────────────────┴────────────┴────────────┴─────────────┴───────┴───────────────╯\n",
      " ::: Strategy strategy1 @ test :::\n",
      "╭──────────┬────────────────────────────┬────────────┬────────────┬─────────────┬───────┬───────────────╮\n",
      "│ Symbol   │ Time                       │   Quantity │   AvgPrice │   LastPrice │   PnL │   MarketValue │\n",
      "├──────────┼────────────────────────────┼────────────┼────────────┼─────────────┼───────┼───────────────┤\n",
      "│ BTCUSDT  │ 2024-04-22T17:58:50.249292 │       0.05 │      63000 │       63130 │   6.5 │        3156.5 │\n",
      "├──────────┼────────────────────────────┼────────────┼────────────┼─────────────┼───────┼───────────────┤\n",
      "│ ETHUSDT  │ 2024-04-22T17:58:50.249292 │       0.5  │       3200 │        3330 │  65   │        1665   │\n",
      "├──────────┼────────────────────────────┼────────────┼────────────┼─────────────┼───────┼───────────────┤\n",
      "│ TOTAL    │                            │            │            │             │  71.5 │        4821.5 │\n",
      "╰──────────┴────────────────────────────┴────────────┴────────────┴─────────────┴───────┴───────────────╯\n",
      " ::: Strategy strategy1 @ test :::\n",
      "╭──────────┬────────────────────────────┬────────────┬────────────┬─────────────┬───────┬───────────────╮\n",
      "│ Symbol   │ Time                       │   Quantity │   AvgPrice │   LastPrice │   PnL │   MarketValue │\n",
      "├──────────┼────────────────────────────┼────────────┼────────────┼─────────────┼───────┼───────────────┤\n",
      "│ BTCUSDT  │ 2024-04-22T17:58:55.256588 │       0.05 │      63000 │       63230 │  11.5 │        3161.5 │\n",
      "├──────────┼────────────────────────────┼────────────┼────────────┼─────────────┼───────┼───────────────┤\n",
      "│ ETHUSDT  │ 2024-04-22T17:58:55.256588 │       0.5  │       3200 │        3430 │ 115   │        1715   │\n",
      "├──────────┼────────────────────────────┼────────────┼────────────┼─────────────┼───────┼───────────────┤\n",
      "│ TOTAL    │                            │            │            │             │ 126.5 │        4876.5 │\n",
      "╰──────────┴────────────────────────────┴────────────┴────────────┴─────────────┴───────┴───────────────╯\n"
     ]
    }
   ],
   "source": [
    "for _ in range(30):\n",
    "    t = pd.Timestamp('now').asm8\n",
    "    for p in positions:\n",
    "        p.update_market_price(t, p.last_update_price + 10, 1)\n",
    "    pos_dumper.store(t)\n",
    "    time.sleep(0.5)"
   ]
  },
  {
   "cell_type": "code",
   "execution_count": 49,
   "metadata": {
    "metadata": {}
   },
   "outputs": [
    {
     "name": "stdout",
     "output_type": "stream",
     "text": [
      " ::: Strategy strategy1 @ test :::\n",
      "╭──────────┬────────────────────────────┬────────────┬────────────┬─────────────┬───────┬───────────────╮\n",
      "│ Symbol   │ Time                       │   Quantity │   AvgPrice │   LastPrice │   PnL │   MarketValue │\n",
      "├──────────┼────────────────────────────┼────────────┼────────────┼─────────────┼───────┼───────────────┤\n",
      "│ BTCUSDT  │ 2024-04-22T16:21:05.465011 │       0.05 │      63000 │       63600 │    30 │          3180 │\n",
      "├──────────┼────────────────────────────┼────────────┼────────────┼─────────────┼───────┼───────────────┤\n",
      "│ ETHUSDT  │ 2024-04-22T16:21:05.465011 │       0.5  │       3200 │        3800 │   300 │          1900 │\n",
      "├──────────┼────────────────────────────┼────────────┼────────────┼─────────────┼───────┼───────────────┤\n",
      "│ TOTAL    │                            │            │            │             │   330 │          5080 │\n",
      "╰──────────┴────────────────────────────┴────────────┴────────────┴─────────────┴───────┴───────────────╯\n"
     ]
    }
   ],
   "source": [
    "pos_dumper.store(pd.Timestamp('now').asm8)"
   ]
  }
 ],
 "metadata": {
  "kernelspec": {
   "display_name": "p311qbx",
   "language": "python",
   "name": "python3"
  },
  "language_info": {
   "codemirror_mode": {
    "name": "ipython",
    "version": 3
   },
   "file_extension": ".py",
   "mimetype": "text/x-python",
   "name": "python",
   "nbconvert_exporter": "python",
   "pygments_lexer": "ipython3",
   "version": "3.11.8"
  }
 },
 "nbformat": 4,
 "nbformat_minor": 2
}
