{
 "cells": [
  {
   "cell_type": "code",
   "execution_count": 2,
   "metadata": {},
   "outputs": [
    {
     "name": "stdout",
     "output_type": "stream",
     "text": [
      "The autoreload extension is already loaded. To reload it, use:\n",
      "  %reload_ext autoreload\n"
     ]
    }
   ],
   "source": [
    "from typing import Callable, Any, List\n",
    "import multiprocessing as mp\n",
    "from multiprocessing import Queue as MQueue\n",
    "from queue import Queue\n",
    "from threading import Thread\n",
    "import pyring as pr\n",
    "from pyring import WaitingBlockingRingBuffer, SingleProducerDisruptor\n",
    "import time\n",
    "\n",
    "%load_ext autoreload\n",
    "%autoreload 2\n",
    "\n",
    "from qubx import logger\n",
    "from qubx.core.basics import Trade\n",
    "from qubx.utils import Stopwatch\n",
    "\n",
    "def run_in_thread(method: Callable, *arguments, **kwargs) -> Thread:\n",
    "    (t := Thread(target=method, args=arguments, kwargs=kwargs)).start()\n",
    "    return t"
   ]
  },
  {
   "cell_type": "markdown",
   "metadata": {},
   "source": [
    "# Test throughput"
   ]
  },
  {
   "cell_type": "code",
   "execution_count": 7,
   "metadata": {},
   "outputs": [],
   "source": [
    "sw = Stopwatch()\n",
    "\n",
    "class DataPumper:\n",
    "    queue: Queue\n",
    "    def __init__(self, type='q', ring_size=10000):\n",
    "        self.type = type\n",
    "        if type == 'q':\n",
    "            self.queue = Queue()\n",
    "        else:\n",
    "            self.queue = pr.SingleProducerDisruptor(ring_size)\n",
    "\n",
    "    def pump(self, n):\n",
    "        sw.start(f'{self.type.upper()}:pump_batch')\n",
    "        self.queue.put('S')\n",
    "        for i in range(n):\n",
    "            self.queue.put(Trade(100, i + 0.1, i * 100))\n",
    "        self.queue.put('F')\n",
    "        sw.stop(f'{self.type.upper()}:pump_batch')\n",
    "\n",
    "class DataReader:\n",
    "    def __init__(self, pumper: DataPumper):\n",
    "        self.queue = pumper.queue\n",
    "        self.type = pumper.type\n",
    "        self._run = True\n",
    "\n",
    "    def _read_queue(self):\n",
    "        print(\"START reading queue\")\n",
    "        while self._run:\n",
    "            data = self.queue.get()\n",
    "            if isinstance(data, str):\n",
    "                if data == 'S':\n",
    "                    sw.start('Q:read_batch')\n",
    "                    print(\"batch reading started ...\")\n",
    "                elif data == 'F':\n",
    "                    sw.stop('Q:read_batch')\n",
    "                    print(\"batch finished\")\n",
    "\n",
    "    def _read_disr(self):\n",
    "        print(\"START reading disruptor\")\n",
    "        sbscr = self.queue.subscribe()\n",
    "        while self._run:\n",
    "            idx, data = sbscr.next()\n",
    "            if isinstance(data, str):\n",
    "                if data == 'S':\n",
    "                    sw.start('D:read_batch')\n",
    "                    print(\"batch reading started ...\")\n",
    "                elif data == 'F':\n",
    "                    sw.stop('D:read_batch')\n",
    "                    print(\"batch finished\")\n",
    "        sbscr.unregister()\n",
    "\n",
    "    def read(self):\n",
    "        if self.type=='q':\n",
    "            self._read_queue()\n",
    "        else:\n",
    "            self._read_disr()\n",
    "\n",
    "    def run(self):\n",
    "        return run_in_thread(self.read)\n",
    "\n",
    "    def stop(self):\n",
    "        self._run = False\n",
    "        self.queue.put(None)"
   ]
  },
  {
   "cell_type": "code",
   "execution_count": 12,
   "metadata": {},
   "outputs": [
    {
     "name": "stdout",
     "output_type": "stream",
     "text": [
      "START reading disruptor\n",
      "batch reading started ...\n",
      "batch finished\n",
      "batch reading started ...\n",
      "batch finished\n",
      "batch reading started ...\n"
     ]
    }
   ],
   "source": [
    "# PyRing\n",
    "dp = DataPumper('d')\n",
    "rd = DataReader(dp)\n",
    "rd.run()\n",
    "dp.pump(1_000_000)\n",
    "dp.pump(1_000_000)\n",
    "dp.pump(1_000_000)\n",
    "rd.stop()\n",
    "# dp.pump(1)"
   ]
  },
  {
   "cell_type": "code",
   "execution_count": null,
   "metadata": {},
   "outputs": [],
   "source": [
    "# Standard Queue\n",
    "dp = DataPumper('q')\n",
    "rd = DataReader(dp)\n",
    "rd.run()\n",
    "dp.pump(1_000_000)\n",
    "dp.pump(1_000_000)\n",
    "dp.pump(1_000_000)\n",
    "rd.stop()"
   ]
  },
  {
   "cell_type": "code",
   "execution_count": 14,
   "metadata": {},
   "outputs": [
    {
     "name": "stdout",
     "output_type": "stream",
     "text": [
      "\u001b[32m2024-03-18 10:53:58.319\u001b[0m [ \u001b[1mℹ️\u001b[0m ] \u001b[1mTests\n",
      "\t\u001b[37mD:pump_batch\u001b[0m\u001b[1m took \u001b[31m2.0618683\u001b[0m\u001b[1m secs\n",
      "\t\u001b[37mD:read_batch\u001b[0m\u001b[1m took \u001b[31m2.0830948\u001b[0m\u001b[1m secs\n",
      "\t\u001b[37mQ:pump_batch\u001b[0m\u001b[1m took \u001b[31m4.1221722\u001b[0m\u001b[1m secs\n",
      "\t\u001b[37mQ:read_batch\u001b[0m\u001b[1m took \u001b[31m4.3047418\u001b[0m\u001b[1m secs\u001b[0m\n"
     ]
    }
   ],
   "source": [
    "logger.info('Tests' + str(sw))"
   ]
  },
  {
   "cell_type": "code",
   "execution_count": 7,
   "metadata": {},
   "outputs": [],
   "source": [
    "sw.reset()"
   ]
  },
  {
   "cell_type": "markdown",
   "metadata": {},
   "source": [
    "# Test pyring\n"
   ]
  },
  {
   "cell_type": "code",
   "execution_count": 57,
   "metadata": {},
   "outputs": [],
   "source": [
    "import typing\n",
    "from pyring.ring_buffer import SimpleFactory, RingBufferInternal, RingFactory\n",
    "from pyring.disruptor import DisruptorMethods\n",
    "from multiprocessing import Value, Lock as MpLock"
   ]
  },
  {
   "cell_type": "code",
   "execution_count": null,
   "metadata": {},
   "outputs": [
    {
     "name": "stdout",
     "output_type": "stream",
     "text": [
      "0 Something new!\n"
     ]
    }
   ],
   "source": [
    "# create ring buffer\n",
    "ring_buffer = pr.RingBuffer()\n",
    "\n",
    "# add to ring\n",
    "ring_buffer.put(\"Something new!\")\n",
    "\n",
    "# get latest from ring\n",
    "sequence, value = ring_buffer.get_latest()\n",
    "print(sequence, value) # 0 Something new!"
   ]
  },
  {
   "cell_type": "code",
   "execution_count": null,
   "metadata": {},
   "outputs": [],
   "source": [
    "disruptor = pr.SingleProducerDisruptor()\n",
    "\n",
    "subscriber = disruptor.subscribe()\n",
    "# subscriber_two = disruptor.subscribe()\n",
    "\n",
    "for i in range(100):\n",
    "    disruptor.put(i ** 2)\n",
    "    sequence_one, res_one = subscriber.next()\n",
    "    # sequence_two, res_two = subscriber_two.next()\n",
    "    print(sequence_one, res_one)\n",
    "\n",
    "# releases the subscribers barriers and allows disruptor to continue\n",
    "subscriber.unregister()\n",
    "# subscriber_two.unregister()"
   ]
  },
  {
   "cell_type": "code",
   "execution_count": 86,
   "metadata": {},
   "outputs": [],
   "source": [
    "def prod1(disruptor):\n",
    "    # time.sleep(0.1)\n",
    "    # print('1 START')\n",
    "    for i in range(10):\n",
    "        disruptor.put(f\" 1 -------------- {i}\")\n",
    "        # time.sleep(0.1)\n",
    "    # print('1 DONE')\n",
    "\n",
    "def prod2(disruptor):\n",
    "    # print('2 START')\n",
    "    for i in range(10):\n",
    "        disruptor.put(f\" 2 . . . . . . .  {-i}\")\n",
    "        # time.sleep(0.1)\n",
    "    # print('2 DONE')"
   ]
  },
  {
   "cell_type": "code",
   "execution_count": 59,
   "metadata": {},
   "outputs": [],
   "source": [
    "from disruptors import DisruptorSubscriber, MultiProducerDisruptor"
   ]
  },
  {
   "cell_type": "code",
   "execution_count": 123,
   "metadata": {},
   "outputs": [
    {
     "name": "stdout",
     "output_type": "stream",
     "text": [
      "READ  0  2 . . . . . . .  0\n"
     ]
    },
    {
     "ename": "SequenceOverwritten",
     "evalue": "",
     "output_type": "error",
     "traceback": [
      "\u001b[1;31m---------------------------------------------------------------------------\u001b[0m",
      "\u001b[1;31mSequenceOverwritten\u001b[0m                       Traceback (most recent call last)",
      "Cell \u001b[1;32mIn[123], line 7\u001b[0m\n\u001b[0;32m      5\u001b[0m run_in_thread(prod1, disruptor);\n\u001b[0;32m      6\u001b[0m \u001b[38;5;28;01mwhile\u001b[39;00m \u001b[38;5;28;01mTrue\u001b[39;00m:\n\u001b[1;32m----> 7\u001b[0m     idx, res \u001b[38;5;241m=\u001b[39m \u001b[43msubscriber\u001b[49m\u001b[38;5;241;43m.\u001b[39;49m\u001b[43mnext\u001b[49m\u001b[43m(\u001b[49m\u001b[38;5;241;43m1\u001b[39;49m\u001b[43m)\u001b[49m\n\u001b[0;32m      8\u001b[0m     \u001b[38;5;28mprint\u001b[39m(\u001b[38;5;124m\"\u001b[39m\u001b[38;5;124mREAD \u001b[39m\u001b[38;5;124m\"\u001b[39m, idx, res)\n",
      "File \u001b[1;32mc:\\Users\\dmitr\\devs\\Qubx\\experiments\\disruptors.py:18\u001b[0m, in \u001b[0;36mDisruptorSubscriber.next\u001b[1;34m(self, timeout)\u001b[0m\n\u001b[0;32m     16\u001b[0m \u001b[38;5;28;01mdef\u001b[39;00m \u001b[38;5;21mnext\u001b[39m(\u001b[38;5;28mself\u001b[39m, timeout: typing\u001b[38;5;241m.\u001b[39mOptional[\u001b[38;5;28mfloat\u001b[39m] \u001b[38;5;241m=\u001b[39m \u001b[38;5;28;01mNone\u001b[39;00m):\n\u001b[0;32m     17\u001b[0m     \u001b[38;5;28;01mtry\u001b[39;00m:\n\u001b[1;32m---> 18\u001b[0m         res \u001b[38;5;241m=\u001b[39m \u001b[38;5;28;43mself\u001b[39;49m\u001b[38;5;241;43m.\u001b[39;49m\u001b[43m__ring_buffer\u001b[49m\u001b[38;5;241;43m.\u001b[39;49m\u001b[43m_get\u001b[49m\u001b[43m(\u001b[49m\u001b[38;5;28;43mself\u001b[39;49m\u001b[38;5;241;43m.\u001b[39;49m\u001b[43m_read_cursor\u001b[49m\u001b[43m)\u001b[49m\n\u001b[0;32m     19\u001b[0m     \u001b[38;5;28;01mexcept\u001b[39;00m SequenceNotFound:\n\u001b[0;32m     20\u001b[0m         \u001b[38;5;28mself\u001b[39m\u001b[38;5;241m.\u001b[39m_read_cursor_barrier\u001b[38;5;241m.\u001b[39mclear()\n",
      "File \u001b[1;32mc:\\Users\\dmitr\\devs\\venvs\\p311qbx\\Lib\\site-packages\\pyring\\ring_buffer.py:16\u001b[0m, in \u001b[0;36mrun_with_lock.<locals>.with_lock\u001b[1;34m(ring_buffer, *args, **kwargs)\u001b[0m\n\u001b[0;32m     12\u001b[0m \u001b[38;5;28;01mdef\u001b[39;00m \u001b[38;5;21mwith_lock\u001b[39m(\n\u001b[0;32m     13\u001b[0m     ring_buffer: \u001b[38;5;124m\"\u001b[39m\u001b[38;5;124mRingBufferInternal\u001b[39m\u001b[38;5;124m\"\u001b[39m, \u001b[38;5;241m*\u001b[39margs: typing\u001b[38;5;241m.\u001b[39mAny, \u001b[38;5;241m*\u001b[39m\u001b[38;5;241m*\u001b[39mkwargs: typing\u001b[38;5;241m.\u001b[39mAny\n\u001b[0;32m     14\u001b[0m ) \u001b[38;5;241m-\u001b[39m\u001b[38;5;241m>\u001b[39m T:\n\u001b[0;32m     15\u001b[0m     \u001b[38;5;28;01mif\u001b[39;00m ring_buffer\u001b[38;5;241m.\u001b[39m_lock \u001b[38;5;129;01mis\u001b[39;00m \u001b[38;5;28;01mNone\u001b[39;00m:\n\u001b[1;32m---> 16\u001b[0m         \u001b[38;5;28;01mreturn\u001b[39;00m \u001b[43mfunc\u001b[49m\u001b[43m(\u001b[49m\u001b[43mring_buffer\u001b[49m\u001b[43m,\u001b[49m\u001b[43m \u001b[49m\u001b[38;5;241;43m*\u001b[39;49m\u001b[43margs\u001b[49m\u001b[43m,\u001b[49m\u001b[43m \u001b[49m\u001b[38;5;241;43m*\u001b[39;49m\u001b[38;5;241;43m*\u001b[39;49m\u001b[43mkwargs\u001b[49m\u001b[43m)\u001b[49m\n\u001b[0;32m     17\u001b[0m     \u001b[38;5;28;01mwith\u001b[39;00m ring_buffer\u001b[38;5;241m.\u001b[39m_lock:\n\u001b[0;32m     18\u001b[0m         \u001b[38;5;28;01mreturn\u001b[39;00m func(ring_buffer, \u001b[38;5;241m*\u001b[39margs, \u001b[38;5;241m*\u001b[39m\u001b[38;5;241m*\u001b[39mkwargs)\n",
      "File \u001b[1;32mc:\\Users\\dmitr\\devs\\venvs\\p311qbx\\Lib\\site-packages\\pyring\\ring_buffer.py:74\u001b[0m, in \u001b[0;36mRingBufferInternal._get\u001b[1;34m(self, idx)\u001b[0m\n\u001b[0;32m     71\u001b[0m     \u001b[38;5;28;01mraise\u001b[39;00m SequenceNotFound()\n\u001b[0;32m     73\u001b[0m \u001b[38;5;28;01mif\u001b[39;00m idx \u001b[38;5;241m<\u001b[39m cursor_position \u001b[38;5;241m-\u001b[39m \u001b[38;5;28mself\u001b[39m\u001b[38;5;241m.\u001b[39mring_size:\n\u001b[1;32m---> 74\u001b[0m     \u001b[38;5;28;01mraise\u001b[39;00m SequenceOverwritten()\n\u001b[0;32m     76\u001b[0m \u001b[38;5;28;01mreturn\u001b[39;00m (idx, \u001b[38;5;28mself\u001b[39m\u001b[38;5;241m.\u001b[39m__ring[idx \u001b[38;5;241m%\u001b[39m \u001b[38;5;28mself\u001b[39m\u001b[38;5;241m.\u001b[39mring_size]\u001b[38;5;241m.\u001b[39mget())\n",
      "\u001b[1;31mSequenceOverwritten\u001b[0m: "
     ]
    }
   ],
   "source": [
    "disruptor = MultiProducerDisruptor(size=4)\n",
    "subscriber = disruptor.subscribe()\n",
    "\n",
    "run_in_thread(prod2, disruptor);\n",
    "run_in_thread(prod1, disruptor);\n",
    "while True:\n",
    "    idx, res = subscriber.next(1)\n",
    "    print(\"READ \", idx, res)"
   ]
  }
 ],
 "metadata": {
  "kernelspec": {
   "display_name": "p311qbx",
   "language": "python",
   "name": "python3"
  },
  "language_info": {
   "codemirror_mode": {
    "name": "ipython",
    "version": 3
   },
   "file_extension": ".py",
   "mimetype": "text/x-python",
   "name": "python",
   "nbconvert_exporter": "python",
   "pygments_lexer": "ipython3",
   "version": "3.11.8"
  }
 },
 "nbformat": 4,
 "nbformat_minor": 2
}
