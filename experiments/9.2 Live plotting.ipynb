{
 "cells": [
  {
   "cell_type": "code",
   "execution_count": 3,
   "metadata": {},
   "outputs": [
    {
     "name": "stdout",
     "output_type": "stream",
     "text": [
      "The autoreload extension is already loaded. To reload it, use:\n",
      "  %reload_ext autoreload\n"
     ]
    }
   ],
   "source": [
    "%load_ext autoreload\n",
    "%autoreload 2\n",
    "\n",
    "import qubx\n",
    "%qubxd\n",
    "\n",
    "import time\n",
    "import pandas as pd\n",
    "import matplotlib.pyplot as plt\n",
    "from typing import Any\n",
    "from pathlib import Path\n",
    "from IPython.display import clear_output\n",
    "from collections import defaultdict\n",
    "\n",
    "import os\n",
    "import dotenv\n",
    "from qubx import QubxLogConfig\n",
    "from qubx.utils.runner import run_ccxt_trading\n",
    "\n",
    "from qubx import lookup, logger, QubxLogConfig\n",
    "from qubx.core.basics import TriggerEvent, Trade, MarketEvent, Instrument, Subtype, FundingRate\n",
    "from qubx.core.interfaces import IStrategyContext, IStrategy\n",
    "from qubx.connectors.ccxt.ccxt_connector import CCXTExchangesConnector\n",
    "from qubx.connectors.ccxt.ccxt_trading import CCXTTradingConnector\n",
    "from qubx.utils.runner import get_account_config\n",
    "from qubx.pandaz import scols\n",
    "from qubx.backtester.simulator import SimulatedTrading\n",
    "from qubx.utils.runner import run_ccxt_paper_trading\n",
    "from qubx.utils.collections import TimeLimitedDeque\n",
    "from qubx.plotting.interfaces import IPlotter\n",
    "from qubx.plotting.data import PlotData"
   ]
  },
  {
   "cell_type": "code",
   "execution_count": null,
   "metadata": {},
   "outputs": [],
   "source": [
    "class TradeTestStrat(IStrategy, IPlotter):\n",
    "    def on_init(self, ctx: IStrategyContext):\n",
    "        ctx.set_base_subscription(Subtype.OHLC[\"1m\"])\n",
    "        ctx.subscribe(Subtype.TRADE)\n",
    "        ctx.set_warmup({\n",
    "            Subtype.OHLC[\"1h\"]: \"20d\",\n",
    "            Subtype.OHLC[\"1m\"]: \"2h\",\n",
    "            Subtype.TRADE: \"10m\",\n",
    "        })\n",
    "    \n",
    "    def get_plots(self) -> list[str]:\n",
    "        return [\"features\"]\n",
    "    \n",
    "    def get_plot_data(self, plot_name: str) -> PlotData:\n",
    "        match plot_name:\n",
    "            case \"features\":\n",
    "                self.plot_features()\n",
    "        raise ValueError(f\"Unknown plot name: {plot_name}\")\n",
    "    \n",
    "    def plot_features(self) -> PlotData:\n",
    "        pass\n",
    "\n",
    "\n",
    "ctx = run_ccxt_paper_trading(\n",
    "    strategy=(stg := TradeTestStrat()),\n",
    "    exchange=\"BINANCE.UM\",\n",
    "    symbols=[\"BTCUSDT\", \"ETHUSDT\", \"ADAUSDT\", \"XRPUSDT\"],\n",
    "    blocking=False,\n",
    ")"
   ]
  }
 ],
 "metadata": {
  "kernelspec": {
   "display_name": "xincubator",
   "language": "python",
   "name": "xincubator"
  }
 },
 "nbformat": 4,
 "nbformat_minor": 2
}
