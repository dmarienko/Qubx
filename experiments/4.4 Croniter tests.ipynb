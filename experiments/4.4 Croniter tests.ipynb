{
 "cells": [
  {
   "cell_type": "code",
   "execution_count": 522,
   "metadata": {
    "metadata": {}
   },
   "outputs": [],
   "source": [
    "import sys, os, re; sys.path = ([\"../src/\", \"../\"] if re.match(r'^(\\w\\:\\\\)|(/)', os.getcwd()) else [])+ sys.path \n",
    "\n",
    "import croniter\n",
    "import pandas as pd\n",
    "import datetime\n",
    "from datetime import timedelta\n",
    "import re"
   ]
  },
  {
   "cell_type": "markdown",
   "metadata": {},
   "source": [
    "# Misc"
   ]
  },
  {
   "cell_type": "code",
   "execution_count": 1769,
   "metadata": {
    "metadata": {}
   },
   "outputs": [
    {
     "name": "stdout",
     "output_type": "stream",
     "text": [
      "2023-08-25 10:59:55\n",
      "- - - -\n",
      "2023-08-25 15:00:55\n",
      "2023-08-25 15:01:55\n",
      "2023-08-25 15:02:55\n",
      "2023-08-25 15:03:55\n",
      "2023-08-25 15:04:55\n",
      "2023-08-25 15:05:55\n",
      "2023-08-25 15:06:55\n",
      "2023-08-25 15:07:55\n",
      "2023-08-25 15:08:55\n",
      "2023-08-25 15:09:55\n"
     ]
    }
   ],
   "source": [
    "now = datetime.datetime.now()\n",
    "# iter = croniter.croniter('55 23 * * Sat,Mon-Fri 55', pd.Timestamp('2023-08-25'))\n",
    "iter = croniter.croniter('* */5 * * * 55', pd.Timestamp('2023-08-25 12:00'))\n",
    "\n",
    "print(pd.Timestamp(iter.get_prev(), unit='s'))\n",
    "print('- - - -')\n",
    "for _ in range(10):\n",
    "    print(pd.Timestamp(iter.get_next(), unit='s'))"
   ]
  },
  {
   "cell_type": "code",
   "execution_count": 1754,
   "metadata": {
    "metadata": {}
   },
   "outputs": [
    {
     "name": "stdout",
     "output_type": "stream",
     "text": [
      "2023-08-25 12:10:55\n",
      "2023-08-25 12:20:55\n",
      "2023-08-25 12:30:55\n",
      "2023-08-25 12:40:55\n",
      "2023-08-25 12:50:55\n"
     ]
    }
   ],
   "source": []
  },
  {
   "cell_type": "code",
   "execution_count": null,
   "metadata": {
    "metadata": {}
   },
   "outputs": [],
   "source": [
    "# # cmp = pd.Timedelta(\"6d23h55min\").components\n",
    "# cmp = pd.Timedelta(\"5Min\").components\n",
    "# sched = f\"{cmp.minutes} {cmp.hours} */{cmp.days} * * {cmp.seconds}\"\n",
    "# iter = croniter.croniter(sched, pd.Timestamp('2023-08-25 12:00'))\n",
    "\n",
    "# pd.Timestamp(iter.get_prev(), unit='s'), pd.Timestamp(iter.get_next(), unit='s')"
   ]
  },
  {
   "cell_type": "code",
   "execution_count": 838,
   "metadata": {
    "metadata": {}
   },
   "outputs": [],
   "source": [
    "from dateutil.parser import parser\n",
    "from dateutil.rrule import rrulestr\n",
    "# list(rrulestr(\"\"\"RRULE:FREQ=DAILY;INTERVAL=10\"\"\"))\n",
    "list(rrulestr('FREQ=WEEKLY;INTERVAL=1;BYHOUR=23;BYMINUTE=45;BYSECOND=0;COUNT=5'))\n",
    "\n",
    "list(rrulestr('FREQ=WEEKLY;INTERVAL=1;BYHOUR=23;BYMINUTE=45;BYSECOND=0;COUNT=5'))"
   ]
  },
  {
   "cell_type": "markdown",
   "metadata": {},
   "source": [
    "# Spec parser"
   ]
  },
  {
   "cell_type": "code",
   "execution_count": 1787,
   "metadata": {
    "metadata": {}
   },
   "outputs": [
    {
     "name": "stdout",
     "output_type": "stream",
     "text": [
      "The autoreload extension is already loaded. To reload it, use:\n",
      "  %reload_ext autoreload\n"
     ]
    }
   ],
   "source": [
    "%load_ext autoreload\n",
    "%autoreload 2\n",
    "from qubx.core.helpers import BasicScheduler\n",
    "from qubx.utils.time import convert_seconds_to_str"
   ]
  },
  {
   "cell_type": "code",
   "execution_count": 1783,
   "metadata": {
    "metadata": {}
   },
   "outputs": [],
   "source": [
    "specs = [\n",
    "    '',\n",
    "    'bar.1m: -5Sec',        # 5 sec before subsciption bar closing\n",
    "    '1Min -5Sec',           # 5 sec before subsciption bar closing\n",
    "    'bar:  5Sec',           # 5 sec after subsciption bar opened\n",
    "    'bar:  +5Sec',          # 5 sec after subsciption bar opened\n",
    "    'time: 23:59:00 @ Sat', # at 23:59:00 every Saturday\n",
    "    'time: 23:59 @ Sat',    # at 23:59:00 every Saturday\n",
    "    'time: 9:30:10',        # every day at 9:30:10\n",
    "    '* * * * * 45',         # raw cron \n",
    "    'cron: * * * * * 45',   # raw cron witch implicit type\n",
    "    '23:59:00 @ Sun',       # at 23:59:00 every Sunday\n",
    "    '9:30:10',              # every day at 9:30:10\n",
    "    '9:30 @ Mon-Fri',       # mon, ... fri at 9:30\n",
    "    '9:30:22 @ Mon,Fri',    # mon and fri at 9:30:22\n",
    "    '9:30 , 15:45 @ Mon-Fri', # mon, ... fri at 9:30 and 15:45\n",
    "    '9:30, 15:45 @ Mon, Fri', # mon and fri at 9:30 and 15:45\n",
    "    '9:30:10  15:45 @ Mon, Fri', # mon and fri at 9:30 and 15:45\n",
    "    'calendar: 23:00 liquidation', # custom event\n",
    "    '9:30 -1Min'            # time \n",
    "    '-5Sec',                # 5 sec before subsciption bar end\n",
    "    '5Min -5Sec',           # 5 sec before every 5min interval ends\n",
    "    '1w -1h',               # 1h before every week ends\n",
    "    '4month -5hour',        # 5h before the end of every 4 months \n",
    "    '1week -3hours -10Mins',# 5h before the end of every 4 months \n",
    "    '2h30m -5Sec',          # 5 sec before every 2h and 30min interval ends\n",
    "]"
   ]
  },
  {
   "cell_type": "code",
   "execution_count": 1794,
   "metadata": {
    "metadata": {}
   },
   "outputs": [
    {
     "data": {
      "text/plain": [
       "numpy.timedelta64(12,'s')"
      ]
     },
     "execution_count": 1794,
     "metadata": {},
     "output_type": "execute_result"
    }
   ],
   "source": [
    "pd.Timedelta('12s').as_unit('s').to_timedelta64()"
   ]
  },
  {
   "cell_type": "code",
   "execution_count": 1788,
   "metadata": {
    "metadata": {}
   },
   "outputs": [
    {
     "name": "stdout",
     "output_type": "stream",
     "text": [
      "                               []\n",
      "bar.1m: -5Sec                  [{'type': 'bar', 'args': '-5Sec', 'timeframe': '1m', 'delay': Timedelta('-1 days +23:59:55')}]\n",
      "1Min -5Sec                     [{'type': 'bar', 'args': '1Min -5Sec', 'timeframe': '1Min', 'delay': Timedelta('-1 days +23:59:55')}]\n",
      "bar:  5Sec                     [{'type': 'bar', 'args': '5Sec', 'timeframe': None, 'delay': Timedelta('0 days 00:00:05')}]\n",
      "bar:  +5Sec                    [{'type': 'bar', 'args': '+5Sec', 'timeframe': None, 'delay': Timedelta('0 days 00:00:05')}]\n",
      "time: 23:59:00 @ Sat           [{'type': 'cron', 'args': '59 23 * * Sat'}]\n",
      "time: 23:59 @ Sat              [{'type': 'cron', 'args': '59 23 * * Sat'}]\n",
      "time: 9:30:10                  [{'type': 'cron', 'args': '30 9 * * * 10'}]\n",
      "* * * * * 45                   [{'type': 'cron', 'args': '* * * * * 45'}]\n",
      "cron: * * * * * 45             [{'type': 'cron', 'args': '* * * * * 45'}]\n",
      "23:59:00 @ Sun                 [{'type': 'cron', 'args': '59 23 * * Sun'}]\n",
      "9:30:10                        [{'type': 'cron', 'args': '30 9 * * * 10'}]\n",
      "9:30 @ Mon-Fri                 [{'type': 'cron', 'args': '30 9 * * Mon-Fri'}]\n",
      "9:30:22 @ Mon,Fri              [{'type': 'cron', 'args': '30 9 * * Mon,Fri 22'}]\n",
      "9:30 , 15:45 @ Mon-Fri         [{'type': 'cron', 'args': '30 9 * * Mon-Fri'}, {'type': 'cron', 'args': '45 15 * * Mon-Fri'}]\n",
      "9:30, 15:45 @ Mon, Fri         [{'type': 'cron', 'args': '30 9 * * Mon,Fri'}, {'type': 'cron', 'args': '45 15 * * Mon,Fri'}]\n",
      "9:30:10  15:45 @ Mon, Fri      [{'type': 'cron', 'args': '30 9 * * Mon,Fri 10'}, {'type': 'cron', 'args': '45 15 * * Mon,Fri'}]\n",
      "calendar: 23:00 liquidation    [{'type': 'calendar', 'args': '23:00 liquidation', 'timeframe': None, 'delay': Timedelta('0 days 00:00:00')}]\n",
      "9:30 -1Min-5Sec                [{'type': 'cron', 'args': '30 9 * * *'}]\n",
      "5Min -5Sec                     [{'type': 'bar', 'args': '5Min -5Sec', 'timeframe': '5Min', 'delay': Timedelta('-1 days +23:59:55')}]\n",
      "1w -1h                         [{'type': 'bar', 'args': '1w -1h', 'timeframe': '', 'delay': Timedelta('-1 days +23:00:00')}]\n",
      "4month -5hour                  [{'type': 'bar', 'args': '4month -5hour', 'timeframe': '', 'delay': Timedelta('-1 days +19:00:00')}]\n",
      "1week -3hours -10Mins          [{'type': 'bar', 'args': '1week -3hours -10Mins', 'timeframe': '', 'delay': Timedelta('-1 days +20:50:00')}]\n",
      "2h30m -5Sec                    [{'type': 'bar', 'args': '2h30m -5Sec', 'timeframe': '2h30Min', 'delay': Timedelta('-1 days +23:59:55')}]\n"
     ]
    }
   ],
   "source": [
    "bs = BasicScheduler()\n",
    "for s in specs:\n",
    "    print(s.ljust(30), bs._process_spec_dict(bs.parse_schedule_spec(s)))"
   ]
  },
  {
   "cell_type": "code",
   "execution_count": 1726,
   "metadata": {
    "metadata": {}
   },
   "outputs": [
    {
     "name": "stdout",
     "output_type": "stream",
     "text": [
      "                               -> {}\n",
      "bar.1m: -5Sec                  -> {'type': 'bar', 'timeframe': '1m', 'spec': '-5Sec', 'seconds': '-5'}\n",
      "bar:  5Sec                     -> {'type': 'bar', 'spec': '5Sec', 'seconds': '5'}\n",
      "bar:  +5Sec                    -> {'type': 'bar', 'spec': '+5Sec', 'seconds': '+5'}\n",
      "time: 23:59:00 @ Sat           -> {'type': 'time', 'spec': '23:59:00 @ Sat', 'time': '23:59:00 ', 'by': 'Sat'}\n",
      "time: 23:59 @ Sat              -> {'type': 'time', 'spec': '23:59 @ Sat', 'time': '23:59 ', 'by': 'Sat'}\n",
      "time: 9:30:10                  -> {'type': 'time', 'spec': '9:30:10', 'time': '9:30:10'}\n",
      "* * * * * 45                   -> {'spec': '* * * * * 45'}\n",
      "cron: * * * * * 45             -> {'type': 'cron', 'spec': '* * * * * 45'}\n",
      "23:59:00 @ Sun                 -> {'spec': '23:59:00 @ Sun', 'time': '23:59:00 ', 'by': 'Sun'}\n",
      "9:30:10                        -> {'spec': '9:30:10', 'time': '9:30:10'}\n",
      "9:30 @ Mon-Fri                 -> {'spec': '9:30 @ Mon-Fri', 'time': '9:30 ', 'by': 'Mon-Fri'}\n",
      "9:30:22 @ Mon,Fri              -> {'spec': '9:30:22 @ Mon,Fri', 'time': '9:30:22 ', 'by': 'Mon,Fri'}\n",
      "9:30 , 15:45 @ Mon-Fri         -> {'spec': '9:30 , 15:45 @ Mon-Fri', 'time': '9:30 , 15:45 ', 'by': 'Mon-Fri'}\n",
      "9:30, 15:45 @ Mon, Fri         -> {'spec': '9:30, 15:45 @ Mon, Fri', 'time': '9:30, 15:45 ', 'by': 'Mon, Fri'}\n",
      "9:30:10  15:45 @ Mon, Fri      -> {'spec': '9:30:10  15:45 @ Mon, Fri', 'time': '9:30:10  15:45 ', 'by': 'Mon, Fri'}\n",
      "-5Sec                          -> {'spec': '-5Sec', 'seconds': '-5'}\n",
      "5Min -5Sec                     -> {'spec': '5Min -5Sec', 'minutes': '5', 'seconds': '-5'}\n",
      "1w -1h                         -> {'spec': '1w -1h', 'weeks': '1', 'hours': '-1'}\n",
      "4month -5hour                  -> {'spec': '4month -5hour', 'months': '4', 'hours': '-5'}\n",
      "1week -3hours -10Mins          -> {'spec': '1week -3hours -10Mins', 'weeks': '1', 'hours': '-3', 'minutes': '-10'}\n",
      "2h30m -5Sec                    -> {'spec': '2h30m -5Sec', 'hours': '2', 'minutes': '30', 'seconds': '-5'}\n",
      "calendar: 23:00 liquidation    -> {'type': 'calendar', 'spec': '23:00 liquidation', 'time': '23:00 '}\n",
      "9:30 -1Min                     -> {'spec': '9:30 -1Min', 'time': '9:30 ', 'minutes': '-1'}\n"
     ]
    }
   ],
   "source": [
    "for s in specs: \n",
    "    m = re.compile(\n",
    "        r\"((?P<type>[A-Za-z]+)(\\.?(?P<timeframe>[0-9A-Za-z]+))?\\ *:)?\"\n",
    "        r\"\\ *\"\n",
    "        r\"((?P<spec>\"\n",
    "            r\"(?P<time>((\\d+:\\d+(:\\d+)?)\\ *,?\\ *)+)?\"\n",
    "            r\"((\\ *@\\ *)(?P<by>([A-Za-z0-9-,\\ ]+)))?\"\n",
    "            r\"((\"\n",
    "            r'((?P<months>[-+]?\\d+)(months|month|bm|mo))?'\n",
    "            r'((?P<weeks>[-+]?\\d+)(weeks|week|w))?'\n",
    "            r'((?P<days>[-+]?\\d+)(days|day|d))?'\n",
    "            r'((?P<hours>[-+]?\\d+)(hours|hour|h))?'\n",
    "            r'((?P<minutes>[-+]?\\d+)(mins|min|m))?'\n",
    "            r'((?P<seconds>[-+]?\\d+)(sec|s))?'\n",
    "            r\")(\\ *)?)*\"\n",
    "            r\".*\"\n",
    "        r\"))?\"\n",
    "\n",
    "        , re.IGNORECASE\n",
    "    ).match(s)\n",
    "    print(s.ljust(30), '->', {k: v for k, v in m.groupdict().items() if v} if m else '?????')\n"
   ]
  },
  {
   "cell_type": "code",
   "execution_count": 1731,
   "metadata": {
    "metadata": {}
   },
   "outputs": [],
   "source": [
    "from typing import Dict, List\n",
    "\n",
    "\n",
    "if 1:\n",
    "    S = lambda s: [x for x in re.split(r\"[, ]\", s) if x]\n",
    "    HMS = lambda s: list(map(int, s.split(':') if s.count(':') == 2 else [*s.split(':'), 0]))\n",
    "    AS_INT = lambda d, k: int(d.get(k, 0)) \n",
    "    AS_TD = lambda d: pd.Timedelta(d)\n",
    "\n",
    "    def _make_shift(_b, _w, _d, _h, _m, _s):\n",
    "        return AS_TD(f'{_b*4}W') + AS_TD(f'{_w}W') + AS_TD(f'{_d}D') + AS_TD(f'{_h}h') + AS_TD(f'{_m}Min') + AS_TD(f'{_s}Sec')\n",
    "\n",
    "    def _mk_cron(time: str, by: list | None) -> str:\n",
    "        h,m,s = HMS(time)\n",
    "        assert h < 24, f'Wrong value for hour {h}'\n",
    "        assert m < 60, f'Wrong value for minute {m}'\n",
    "        assert s < 60, f'Wrong value for seconds {s}'\n",
    "        b = ','.join(by) if by else '*'\n",
    "        c = f'{m} {h} * * {b}'\n",
    "        return c if s == 0 else c + f' {s}'\n",
    "\n",
    "    def _process_spec_dict(spec: dict) -> List[Dict]:\n",
    "        config = []\n",
    "        _T, _S = spec.get('type'), spec.get('spec')\n",
    "        _F = spec.get('timeframe')\n",
    "        _t, _by = S(spec.get('time', '')), S(spec.get('by', ''))\n",
    "        _b, _w, _d = AS_INT(spec, 'months'), AS_INT(spec, 'weeks'), AS_INT(spec, 'days')\n",
    "        _h, _m, _s = AS_INT(spec, 'hours'), AS_INT(spec, 'minutes'), AS_INT(spec, 'seconds')\n",
    "        _has_intervals = (_b != 0) or (_w != 0) or (_d != 0) or (_h != 0) or (_m != 0) or (_s != 0) \n",
    "        _shift = _make_shift(_b, _w, _d, _h, _m, _s)\n",
    "\n",
    "        match _T:\n",
    "            case 'cron':\n",
    "                if not _S or croniter.croniter.is_valid(_S):\n",
    "                    config.append(dict(type='cron', args=_S))\n",
    "                else:\n",
    "                    raise ValueError(f\"Wrong specification for cron type: {_S}\")\n",
    "\n",
    "            case 'time':\n",
    "                for t in _t:\n",
    "                    config.append(dict(type='cron', args=_mk_cron(t, _by)))\n",
    "            \n",
    "            case None:\n",
    "                if _t: # - if time specified\n",
    "                    for t in _t:\n",
    "                        config.append(dict(type='cron', args=_mk_cron(t, _by)))\n",
    "            case _:\n",
    "                config.append(dict(type=_T, args=_S, timeframe=_F, delay=_shift))\n",
    "\n",
    "        return config"
   ]
  },
  {
   "cell_type": "code",
   "execution_count": 1692,
   "metadata": {
    "metadata": {}
   },
   "outputs": [
    {
     "name": "stdout",
     "output_type": "stream",
     "text": [
      "0 days 12:00:00\n"
     ]
    },
    {
     "data": {
      "text/plain": [
       "[]"
      ]
     },
     "execution_count": 1692,
     "metadata": {},
     "output_type": "execute_result"
    }
   ],
   "source": [
    "_process_spec_dict( {'spec': '1h -5s', 'hours': '12'})"
   ]
  },
  {
   "cell_type": "code",
   "execution_count": 1693,
   "metadata": {
    "metadata": {}
   },
   "outputs": [
    {
     "data": {
      "text/plain": [
       "[{'type': 'cron', 'args': '30 9 * * Mon,Fri 10'},\n",
       " {'type': 'cron', 'args': '45 15 * * Mon,Fri'}]"
      ]
     },
     "execution_count": 1693,
     "metadata": {},
     "output_type": "execute_result"
    }
   ],
   "source": [
    "_process_spec_dict( {'spec': '9:30:10  15:45 @ Mon, Fri', 'time': '9:30:10  15:45 ', 'by': 'Mon, Fri'})"
   ]
  },
  {
   "cell_type": "code",
   "execution_count": 1694,
   "metadata": {
    "metadata": {}
   },
   "outputs": [
    {
     "data": {
      "text/plain": [
       "[{'type': 'cron', 'args': '30 9 * * * 10'}]"
      ]
     },
     "execution_count": 1694,
     "metadata": {},
     "output_type": "execute_result"
    }
   ],
   "source": [
    "_process_spec_dict( {'type': 'time', 'spec': '9:30:10', 'time': '9:30:10'})"
   ]
  },
  {
   "cell_type": "code",
   "execution_count": 1695,
   "metadata": {
    "metadata": {}
   },
   "outputs": [
    {
     "data": {
      "text/plain": [
       "[{'type': 'cron', 'args': '5 * * * *'}]"
      ]
     },
     "execution_count": 1695,
     "metadata": {},
     "output_type": "execute_result"
    }
   ],
   "source": [
    "_process_spec_dict( {'type': 'cron', 'spec': '5 * * * *'})"
   ]
  },
  {
   "cell_type": "code",
   "execution_count": 1732,
   "metadata": {
    "metadata": {}
   },
   "outputs": [
    {
     "data": {
      "text/plain": [
       "[{'type': 'bar',\n",
       "  'args': '',\n",
       "  'timeframe': '5m',\n",
       "  'delay': Timedelta('-1 days +23:59:00')}]"
      ]
     },
     "execution_count": 1732,
     "metadata": {},
     "output_type": "execute_result"
    }
   ],
   "source": [
    "_process_spec_dict( {'type': 'bar', 'spec': '', 'timeframe': '5m', 'minutes': -1})"
   ]
  }
 ],
 "metadata": {
  "kernelspec": {
   "display_name": "p311qbx",
   "language": "python",
   "name": "python3"
  },
  "language_info": {
   "codemirror_mode": {
    "name": "ipython",
    "version": 3
   },
   "file_extension": ".py",
   "mimetype": "text/x-python",
   "name": "python",
   "nbconvert_exporter": "python",
   "pygments_lexer": "ipython3",
   "version": "3.11.8"
  }
 },
 "nbformat": 4,
 "nbformat_minor": 2
}
