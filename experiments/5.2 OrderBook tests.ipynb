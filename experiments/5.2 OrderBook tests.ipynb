{
 "cells": [
  {
   "cell_type": "code",
   "execution_count": 29,
   "metadata": {},
   "outputs": [
    {
     "name": "stdout",
     "output_type": "stream",
     "text": [
      "The autoreload extension is already loaded. To reload it, use:\n",
      "  %reload_ext autoreload\n"
     ]
    }
   ],
   "source": [
    "%load_ext autoreload\n",
    "%autoreload 2\n",
    "\n",
    "import qubx\n",
    "\n",
    "%qubxd\n",
    "\n",
    "import numpy as np\n",
    "import pandas as pd\n",
    "import asyncio\n",
    "import ccxt.pro\n",
    "\n",
    "import gzip\n",
    "import json\n",
    "\n",
    "import matplotlib.pyplot as plt\n",
    "\n",
    "from pathlib import Path\n",
    "from qubx import lookup\n",
    "from qubx.connectors.ccxt.ccxt_utils import ccxt_convert_orderbook\n",
    "\n",
    "\n",
    "# output_path = Path(\"/mnt/HC_Volume_100695026/home/shared/devs/Qubx/tests/data/BTCUSDT_ccxt_orderbooks.txt.gz\")\n",
    "output_path = Path(\"/mnt/HC_Volume_100695026/home/shared/devs/Qubx/tests/data/XRPUSDT_ccxt_orderbooks.txt.gz\")"
   ]
  },
  {
   "cell_type": "markdown",
   "metadata": {},
   "source": [
    "## 1. Collect live orderbooks"
   ]
  },
  {
   "cell_type": "code",
   "execution_count": null,
   "metadata": {},
   "outputs": [],
   "source": [
    "exchange = ccxt.pro.binanceusdm({\n",
    "    \"options\": {\n",
    "        \"watchOrderBookRate\": 100,\n",
    "    },\n",
    "    \"asyncio_loop\": asyncio.get_event_loop(),\n",
    "})\n",
    "\n",
    "symbol = 'BTCUSDT'\n",
    "orderbooks = []\n",
    "\n",
    "try:\n",
    "    while True:\n",
    "        orderbooks.append(await exchange.watch_order_book_for_symbols([\n",
    "            \"XRPUSDT\",\n",
    "            # \"ETHUSDT\", \"XRPUSDT\", \"LTCUSDT\", \"BCHUSDT\", \"EOSUSDT\", \"BNBUSDT\", \"TRXUSDT\", \"ADAUSDT\", \"XLMUSDT\",\n",
    "            # \"LINKUSDT\", \"XTZUSDT\", \"XMRUSDT\", \"DASHUSDT\", \"ZECUSDT\", \"ETCUSDT\", \"VETUSDT\", \"QTUMUSDT\", \"IOTAUSDT\", \"THETAUSDT\",\n",
    "            # \"ATOMUSDT\", \"ALGOUSDT\", \"ZILUSDT\", \"KNCUSDT\", \"OMGUSDT\", \"DOGEUSDT\", \"COMPUSDT\", \"SUSHIUSDT\", \"YFIUSDT\", \"UNIUSDT\",\n",
    "        ], limit=1000))\n",
    "        if len(orderbooks) % 1000 == 0:\n",
    "            print(len(orderbooks), 'order books fetched')\n",
    "except KeyboardInterrupt:\n",
    "    print(\"Interrupted\")\n",
    "except Exception as e:\n",
    "    print(type(e).__name__, str(e))\n",
    "finally:\n",
    "    await exchange.close()"
   ]
  },
  {
   "cell_type": "code",
   "execution_count": 28,
   "metadata": {},
   "outputs": [
    {
     "data": {
      "text/plain": [
       "169"
      ]
     },
     "execution_count": 28,
     "metadata": {},
     "output_type": "execute_result"
    }
   ],
   "source": [
    "len(orderbooks)"
   ]
  },
  {
   "cell_type": "markdown",
   "metadata": {},
   "source": [
    "Here is a just a check that I used for debugging how ccxt handles connections if we watch separately each symbol.\n",
    "\n",
    "A new connection is created for each symbol as opposed to the previous case."
   ]
  },
  {
   "cell_type": "code",
   "execution_count": null,
   "metadata": {},
   "outputs": [],
   "source": [
    "exchange = ccxt.pro.binanceusdm({\n",
    "    \"options\": {\n",
    "        \"watchOrderBookRate\": 100,\n",
    "    },\n",
    "    \"asyncio_loop\": asyncio.get_event_loop(),\n",
    "})\n",
    "\n",
    "symbols = [\n",
    "    \"BTCUSDT\", \"ETHUSDT\", \"XRPUSDT\"\n",
    "    # \"LTCUSDT\", \"BCHUSDT\", \"EOSUSDT\", \"BNBUSDT\", \"TRXUSDT\", \"ADAUSDT\", \"XLMUSDT\",\n",
    "    # \"LINKUSDT\", \"XTZUSDT\", \"XMRUSDT\", \"DASHUSDT\", \"ZECUSDT\", \"ETCUSDT\", \"VETUSDT\", \"QTUMUSDT\", \"IOTAUSDT\", \"THETAUSDT\",\n",
    "    # \"ATOMUSDT\", \"ALGOUSDT\", \"ZILUSDT\", \"KNCUSDT\", \"OMGUSDT\", \"DOGEUSDT\", \"COMPUSDT\", \"SUSHIUSDT\", \"YFIUSDT\", \"UNIUSDT\",\n",
    "]\n",
    "\n",
    "orderbooks = []\n",
    "\n",
    "async def fetch_order_book(symbol):\n",
    "    while True:\n",
    "        orderbooks.append(await exchange.watch_order_book(symbol, limit=1000))\n",
    "        if len(orderbooks) % 1000 == 0:\n",
    "            print(f\"{symbol}: {len(orderbooks)} order books fetched\")\n",
    "\n",
    "tasks = [fetch_order_book(symbol) for symbol in symbols]\n",
    "\n",
    "try:\n",
    "    await asyncio.gather(*tasks)\n",
    "except KeyboardInterrupt:\n",
    "    print(f\"{symbol}: Interrupted\")\n",
    "except Exception as e:\n",
    "    print(f\"{symbol}: {type(e).__name__} {str(e)}\")\n",
    "finally:\n",
    "    await exchange.close()\n"
   ]
  },
  {
   "cell_type": "markdown",
   "metadata": {},
   "source": [
    "Save the first 1000 snapshots into a txt.gz file. I decided to go for a raw file because it is easier to view the data in an editor and the json objects remain untouched."
   ]
  },
  {
   "cell_type": "code",
   "execution_count": 30,
   "metadata": {},
   "outputs": [],
   "source": [
    "with gzip.open(output_path, 'wt', encoding='utf-8') as f:\n",
    "    for orderbook in orderbooks[:1000]:\n",
    "        f.write(json.dumps(orderbook) + '\\n')"
   ]
  },
  {
   "cell_type": "markdown",
   "metadata": {},
   "source": [
    "## 2. Read orderbooks and transform to internal format"
   ]
  },
  {
   "cell_type": "code",
   "execution_count": 8,
   "metadata": {},
   "outputs": [],
   "source": [
    "with gzip.open(output_path, \"rt\") as f:\n",
    "    orderbooks = [json.loads(line) for line in f]"
   ]
  },
  {
   "cell_type": "code",
   "execution_count": 11,
   "metadata": {},
   "outputs": [],
   "source": [
    "i1 = lookup.find_symbol(\"BINANCE.UM\", \"BTCUSDT\")\n",
    "assert i1 is not None\n",
    "\n",
    "obs = [\n",
    "    ccxt_convert_orderbook(orderbook, i1)\n",
    "    for orderbook in orderbooks\n",
    "]"
   ]
  },
  {
   "cell_type": "code",
   "execution_count": 23,
   "metadata": {},
   "outputs": [
    {
     "data": {
      "text/plain": [
       "[<matplotlib.lines.Line2D at 0x7df134723bd0>]"
      ]
     },
     "execution_count": 23,
     "metadata": {},
     "output_type": "execute_result"
    },
    {
     "data": {
      "image/png": "[encoded data removed]",
      "text/plain": [
       "<Figure size 960x400 with 1 Axes>"
      ]
     },
     "metadata": {},
     "output_type": "display_data"
    }
   ],
   "source": [
    "plt.plot(obs[100].asks.cumsum())\n",
    "plt.plot(obs[100].bids.cumsum())"
   ]
  },
  {
   "cell_type": "code",
   "execution_count": null,
   "metadata": {},
   "outputs": [],
   "source": []
  }
 ],
 "metadata": {
  "kernelspec": {
   "display_name": "xincubator",
   "language": "python",
   "name": "xincubator"
  }
 },
 "nbformat": 4,
 "nbformat_minor": 2
}
