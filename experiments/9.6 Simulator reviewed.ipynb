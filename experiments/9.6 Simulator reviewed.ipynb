{
 "cells": [
  {
   "cell_type": "code",
   "execution_count": 1,
   "metadata": {},
   "outputs": [
    {
     "name": "stdout",
     "output_type": "stream",
     "text": [
      "\n",
      "⠀⠀⡰⡖⠒⠒⢒⢦⠀⠀   \n",
      "⠀⢠⠃⠈⢆⣀⣎⣀⣱⡀  \u001b[31mQUBX\u001b[0m | \u001b[36mQuantitative Backtesting Environment\u001b[0m \n",
      "⠀⢳⠒⠒⡞⠚⡄⠀⡰⠁         (c) 2024, ver. \u001b[35mDev\u001b[0m\n",
      "⠀⠀⠱⣜⣀⣀⣈⣦⠃⠀⠀⠀ \n",
      "        \n"
     ]
    },
    {
     "data": {
      "text/html": [
       "<style> .cell-output-ipywidget-background { background-color: transparent !important; } :root { --jp-widgets-color: var(--vscode-editor-foreground); --jp-widgets-font-size: var(--vscode-editor-font-size); } </style>"
      ],
      "text/plain": [
       "<IPython.core.display.HTML object>"
      ]
     },
     "metadata": {},
     "output_type": "display_data"
    }
   ],
   "source": [
    "import sys, os, re\n",
    "from typing import *\n",
    "sys.path = ([\"../src/\", \"../\"] if re.match(r\"^(\\w\\:\\\\)|(/)\", os.getcwd()) else []) + sys.path\n",
    "import qubx\n",
    "%qubxd\n",
    "\n",
    "%load_ext autoreload\n",
    "%autoreload 2\n",
    "\n",
    "from qubx import lookup, logger\n",
    "from qubx.core.basics import DataType, Instrument, Signal, TimestampedDict\n",
    "from qubx.core.interfaces import IStrategy, IStrategyContext, TriggerEvent, MarketEvent\n",
    "from qubx.core.series import Bar, Quote, Trade, OrderBook\n",
    "from qubx.data.readers import InMemoryDataFrameReader, DataReader, AsDict, AsTrades, AsOhlcvSeries, AsBars, AsQuotes, AsTimestampedRecords, AsPandasFrame,RestoreTicksFromOHLC, RestoredBarsFromOHLC\n",
    "from qubx.backtester.utils import _StructureSniffer\n",
    "from qubx.core.metrics import tearsheet, chart_signals\n",
    "from qubx.pandaz.utils import *\n",
    "import qubx.ta.indicators as ta\n",
    "\n",
    "# - - - - - - - - - - - - - - - - - - - - - - - -\n",
    "from qubx.data.helpers import loader\n",
    "from qubx.backtester.simulator import simulate\n",
    "\n",
    "ld = loader(\"BINANCE.UM\", \"1h\", source=\"csv::../tests/data/csv_1h\", n_jobs=1)"
   ]
  },
  {
   "cell_type": "markdown",
   "metadata": {},
   "source": [
    "### <s>Current approach </s>"
   ]
  },
  {
   "cell_type": "code",
   "execution_count": 6,
   "metadata": {},
   "outputs": [],
   "source": [
    "class TestA(IStrategy):\n",
    "    \"\"\" Document your strategy here \"\"\"\n",
    "    timeframe: str = \"15Min\"\n",
    "    exchange = 'BINANCE.UM'\n",
    "\n",
    "    def on_init(self, ctx: IStrategyContext):\n",
    "        ctx.set_base_subscription(DataType.OHLC[self.timeframe])\n",
    "        ctx.set_event_schedule(\"55 23 * * *\")\n",
    "        ctx.set_fit_schedule(\"50 23 * * 1\")\n",
    "        self._idx = 0\n",
    "        self._to_test = [\n",
    "            [self.find_instrument(s) for s in [\"BTCUSDT\", \"ETHUSDT\"]],\n",
    "            [self.find_instrument(s) for s in [\"BTCUSDT\", \"BCHUSDT\", \"LTCUSDT\"]],\n",
    "            [self.find_instrument(s) for s in [\"BTCUSDT\", \"AAVEUSDT\", \"ETHUSDT\"]],\n",
    "            [self.find_instrument(s) for s in [\"BCHUSDT\"]],\n",
    "        ]\n",
    "\n",
    "    def on_fit(self, ctx: IStrategyContext):\n",
    "        logger.info(f\" -> subscribe : {self.lst(self._to_test[self._idx])}\")\n",
    "        ctx.set_universe(self._to_test[self._idx])\n",
    "        self._idx += 1\n",
    "        if self._idx >= len(self._to_test):\n",
    "            self._idx = 0 \n",
    "\n",
    "    def on_event(self, ctx: IStrategyContext, event: TriggerEvent) -> Optional[List[Signal]]:\n",
    "        s = []\n",
    "        logger.info(f\"Trig: {self.lst(ctx.instruments)} --> {str({i.symbol: ctx.quote(i) for i in ctx.instruments})}\")\n",
    "        if 1:\n",
    "            for i in ctx.instruments:\n",
    "                data = ctx.ohlc(i, self.timeframe)\n",
    "                s1 = ta.kama(data.close, 36) - ta.kama(data.close, 12)\n",
    "                if len(s1) > 1:\n",
    "                    if s1[1] < 0 and s1[0] > 0:\n",
    "                        logger.info(f\"BUY: {i}\")\n",
    "                        s.append(ctx.instruments[0].signal(+1))\n",
    "\n",
    "                    if s1[1] > 0 and s1[0] < 0:\n",
    "                        logger.info(f\"SELL: {i}\")\n",
    "                        s.append(i.signal(-1))\n",
    "        return s\n",
    "\n",
    "    def find_instrument(self, symbol: str) -> Instrument:\n",
    "        return lookup.find_symbol(self.exchange, symbol) # type: ignore\n",
    "\n",
    "    def lst(self, instrs: list[Instrument]):\n",
    "        return ','.join(map(lambda x: x.symbol, instrs))\n"
   ]
  },
  {
   "cell_type": "code",
   "execution_count": null,
   "metadata": {},
   "outputs": [],
   "source": [
    "r = simulate(\n",
    "   # {'A': TestA(timeframe=\"1h\")}, ld, 1000, \n",
    "   variate(TestA, timeframe=[\"15Min\", \"30Min\", \"1h\"]), ld, 1000, \n",
    "   ['BINANCE.UM:BTCUSDT'],\n",
    "   \"vip0_usdt\", \"2023-07-01\", \"2023-07-30\", debug=\"DEBUG\"\n",
    ")"
   ]
  },
  {
   "cell_type": "code",
   "execution_count": 4,
   "metadata": {},
   "outputs": [
    {
     "data": {
      "text/html": [
       "<div>\n",
       "<style scoped>\n",
       "    .dataframe tbody tr th:only-of-type {\n",
       "        vertical-align: middle;\n",
       "    }\n",
       "\n",
       "    .dataframe tbody tr th {\n",
       "        vertical-align: top;\n",
       "    }\n",
       "\n",
       "    .dataframe thead th {\n",
       "        text-align: right;\n",
       "    }\n",
       "</style>\n",
       "<table border=\"1\" class=\"dataframe\">\n",
       "  <thead>\n",
       "    <tr style=\"text-align: right;\">\n",
       "      <th></th>\n",
       "      <th></th>\n",
       "      <th>Gain</th>\n",
       "      <th>Cagr</th>\n",
       "      <th>Sharpe</th>\n",
       "      <th>Qr</th>\n",
       "      <th>Max dd pct</th>\n",
       "      <th>Mdd usd</th>\n",
       "      <th>Sortino</th>\n",
       "      <th>Calmar</th>\n",
       "      <th>Tail ratio</th>\n",
       "      <th>Stability</th>\n",
       "      <th>Var</th>\n",
       "      <th>Avg return</th>\n",
       "      <th>Fees</th>\n",
       "      <th>Execs</th>\n",
       "    </tr>\n",
       "    <tr>\n",
       "      <th>id</th>\n",
       "      <th></th>\n",
       "      <th></th>\n",
       "      <th></th>\n",
       "      <th></th>\n",
       "      <th></th>\n",
       "      <th></th>\n",
       "      <th></th>\n",
       "      <th></th>\n",
       "      <th></th>\n",
       "      <th></th>\n",
       "      <th></th>\n",
       "      <th></th>\n",
       "      <th></th>\n",
       "      <th></th>\n",
       "      <th></th>\n",
       "    </tr>\n",
       "  </thead>\n",
       "  <tbody>\n",
       "    <tr>\n",
       "      <th>0</th>\n",
       "      <th>TA_(t=15Min)</th>\n",
       "      <td>-659.24220</td>\n",
       "      <td>-0.999998</td>\n",
       "      <td>3.041389</td>\n",
       "      <td>-0.574773</td>\n",
       "      <td>106.709664</td>\n",
       "      <td>2215.990000</td>\n",
       "      <td>14.924458</td>\n",
       "      <td>-1.114604</td>\n",
       "      <td>2.524995</td>\n",
       "      <td>0.291326</td>\n",
       "      <td>1328.670529</td>\n",
       "      <td>14.507123</td>\n",
       "      <td>30.51720</td>\n",
       "      <td>4.0</td>\n",
       "    </tr>\n",
       "    <tr>\n",
       "      <th>2</th>\n",
       "      <th>TA_(t=1h)</th>\n",
       "      <td>-668.58825</td>\n",
       "      <td>-0.999999</td>\n",
       "      <td>3.020462</td>\n",
       "      <td>-0.590899</td>\n",
       "      <td>106.811806</td>\n",
       "      <td>2220.000000</td>\n",
       "      <td>14.826988</td>\n",
       "      <td>-1.114604</td>\n",
       "      <td>2.536118</td>\n",
       "      <td>0.305066</td>\n",
       "      <td>1330.357952</td>\n",
       "      <td>14.414770</td>\n",
       "      <td>30.68325</td>\n",
       "      <td>4.0</td>\n",
       "    </tr>\n",
       "    <tr>\n",
       "      <th>1</th>\n",
       "      <th>TA_(t=30Min)</th>\n",
       "      <td>-27.31788</td>\n",
       "      <td>-0.286085</td>\n",
       "      <td>-3.623893</td>\n",
       "      <td>-0.144373</td>\n",
       "      <td>4.877510</td>\n",
       "      <td>48.775097</td>\n",
       "      <td>-4.355597</td>\n",
       "      <td>-10.472455</td>\n",
       "      <td>0.000000</td>\n",
       "      <td>0.193378</td>\n",
       "      <td>8.682623</td>\n",
       "      <td>-0.091148</td>\n",
       "      <td>1.94288</td>\n",
       "      <td>2.0</td>\n",
       "    </tr>\n",
       "  </tbody>\n",
       "</table>\n",
       "</div>"
      ],
      "text/plain": [
       "                      Gain      Cagr    Sharpe        Qr  Max dd pct  \\\n",
       "id                                                                     \n",
       "0  TA_(t=15Min) -659.24220 -0.999998  3.041389 -0.574773  106.709664   \n",
       "2  TA_(t=1h)    -668.58825 -0.999999  3.020462 -0.590899  106.811806   \n",
       "1  TA_(t=30Min)  -27.31788 -0.286085 -3.623893 -0.144373    4.877510   \n",
       "\n",
       "                     Mdd usd    Sortino     Calmar  Tail ratio  Stability  \\\n",
       "id                                                                          \n",
       "0  TA_(t=15Min)  2215.990000  14.924458  -1.114604    2.524995   0.291326   \n",
       "2  TA_(t=1h)     2220.000000  14.826988  -1.114604    2.536118   0.305066   \n",
       "1  TA_(t=30Min)    48.775097  -4.355597 -10.472455    0.000000   0.193378   \n",
       "\n",
       "                         Var  Avg return      Fees  Execs  \n",
       "id                                                         \n",
       "0  TA_(t=15Min)  1328.670529   14.507123  30.51720    4.0  \n",
       "2  TA_(t=1h)     1330.357952   14.414770  30.68325    4.0  \n",
       "1  TA_(t=30Min)     8.682623   -0.091148   1.94288    2.0  "
      ]
     },
     "execution_count": 4,
     "metadata": {},
     "output_type": "execute_result"
    },
    {
     "data": {
      "image/png": "[encoded data removed]",
      "text/plain": [
       "<Figure size 960x400 with 1 Axes>"
      ]
     },
     "metadata": {},
     "output_type": "display_data"
    }
   ],
   "source": [
    "tearsheet(r, False, use_plotly=False)"
   ]
  },
  {
   "cell_type": "code",
   "execution_count": 5,
   "metadata": {},
   "outputs": [
    {
     "data": {
      "text/plain": [
       "\"TestA(timeframe='1h', exchange='BINANCE.UM')\""
      ]
     },
     "execution_count": 5,
     "metadata": {},
     "output_type": "execute_result"
    }
   ],
   "source": [
    "r[2].config()"
   ]
  },
  {
   "cell_type": "code",
   "execution_count": null,
   "metadata": {},
   "outputs": [],
   "source": [
    "# chart_signals(r[0], 'BTCUSDT', ld[['BTCUSDT']], show_signals=True)"
   ]
  },
  {
   "cell_type": "markdown",
   "metadata": {},
   "source": [
    "## <font color='#00ff00'>-> New approach</font>"
   ]
  },
  {
   "cell_type": "code",
   "execution_count": 203,
   "metadata": {},
   "outputs": [],
   "source": [
    "# - real data from CSV\n",
    "l1 = loader(\"BINANCE.UM\", \"1h\", source=\"csv::../tests/data/csv_1h\", n_jobs=1)\n",
    "\n",
    "# - 'real' quotes provider\n",
    "rnd = lambda n: np.random.randn(n)  # noqa: E731\n",
    "idx = pd.date_range(start=\"2023-06-01 00:00\", end=\"2023-07-30\", freq=\"5Min\", name=\"timestamp\")\n",
    "q_data = pd.DataFrame({\"bid\": rnd(len(idx)), \"ask\": rnd(len(idx)), \"bid_vol\": rnd(len(idx)), \"ask_vol\": rnd(len(idx)) }, index=idx)\n",
    "qts_reader = InMemoryDataFrameReader({\"BINANCE.UM:BTCUSDT\": q_data})\n",
    "\n",
    "# - any data provider\n",
    "idx = pd.date_range(start=\"2023-06-01 00:00\", end=\"2023-07-30\", freq=\"1h\", name=\"timestamp\")\n",
    "c_data = pd.DataFrame({\"value1\": rnd(len(idx)), \"value2\": rnd(len(idx))}, index=idx)\n",
    "custom_reader = InMemoryDataFrameReader({\"BINANCE.UM:BTCUSDT\": c_data})"
   ]
  },
  {
   "cell_type": "code",
   "execution_count": 322,
   "metadata": {},
   "outputs": [],
   "source": [
    "class TestB(IStrategy):\n",
    "    ma_period: str = \"15Min\"\n",
    "    apply_own_schedule = False\n",
    "    show_mkt = False\n",
    "\n",
    "    def on_init(self, ctx: IStrategyContext):\n",
    "        if self.apply_own_schedule: ctx.set_event_schedule(\"0 */1 * * *\")\n",
    "\n",
    "    def on_market_data(self, ctx: IStrategyContext, data: MarketEvent) -> list[Signal] | Signal | None:\n",
    "        if self.show_mkt:\n",
    "            logger.info(f'{data.instrument.symbol} market event ::: <g>{data.type}</g>\\t:::  -> {data.data}')\n",
    "\n",
    "    def on_event(self, ctx: IStrategyContext, event: TriggerEvent) -> list[Signal] | None:\n",
    "        s = []\n",
    "\n",
    "        for i in ctx.instruments:\n",
    "            data = ctx.ohlc(i, self.ma_period, 100)\n",
    "            s1 = ta.ema(data.close, 12) - ta.ema(data.close, 3)\n",
    "            if i.symbol == \"BTCUSDT\":  # debug output for BTCUSDT only\n",
    "                logger.info(f\"<r>{i}</r>: {s1[1]}, {s1[0]}\")\n",
    "            if len(s1) > 1:\n",
    "                if s1[1] < 0 and s1[0] > 0:\n",
    "                    logger.info(f\" >> BUY: {i}\")\n",
    "                    s.append(i.signal(+1))\n",
    "\n",
    "                if s1[1] > 0 and s1[0] < 0:\n",
    "                    logger.info(f\"SELL: {i}\")\n",
    "                    s.append(i.signal(-1))\n",
    "        return s"
   ]
  },
  {
   "cell_type": "code",
   "execution_count": 327,
   "metadata": {},
   "outputs": [
    {
     "name": "stdout",
     "output_type": "stream",
     "text": [
      "\u001b[32m2024-12-24 15:21:31.579\u001b[0m [ \u001b[34m\u001b[1m🐞\u001b[0m ] \u001b[36m(simulator)\u001b[0m \u001b[34m\u001b[1m\u001b[31m2023-07-10 00:00:00\u001b[0m\u001b[34m\u001b[1m Initiating simulated trading for binance.um for 1000 x 1.0 in USDT...\u001b[0m\n",
      "\u001b[96m2023-07-10 00:00:00.000\u001b[0m [\u001b[1mℹ️\u001b[0m] \u001b[1mSimulatedDataProvider.binance.um is initialized\u001b[0m\n"
     ]
    },
    {
     "data": {
      "application/vnd.jupyter.widget-view+json": {
       "model_id": "61defc87737e4d789b3df9d6f6c6a7e9",
       "version_major": 2,
       "version_minor": 0
      },
      "text/plain": [
       "Simulating:   0%|          | 0/100 [00:00<?, ?%/s]"
      ]
     },
     "metadata": {},
     "output_type": "display_data"
    },
    {
     "name": "stdout",
     "output_type": "stream",
     "text": [
      "\u001b[96m2023-07-10 00:00:00.000\u001b[0m [\u001b[34m\u001b[1m🐞\u001b[0m] \u001b[34m\u001b[1m | Setting up default base subscription: ohlc(1h)\u001b[0m\n",
      "\u001b[96m2023-07-10 00:00:00.000\u001b[0m [\u001b[34m\u001b[1m🐞\u001b[0m] \u001b[34m\u001b[1m | Setting default schedule: 0 */1 * * *\u001b[0m\n",
      "\u001b[96m2023-07-10 00:00:00.000\u001b[0m [\u001b[34m\u001b[1m🐞\u001b[0m] \u001b[34m\u001b[1m | get_subscribed_instruments __all__ -> []\u001b[0m\n",
      "\u001b[96m2023-07-10 00:00:00.000\u001b[0m [\u001b[34m\u001b[1m🐞\u001b[0m] \u001b[34m\u001b[1m | get_subscriptions None -> []\u001b[0m\n",
      "\u001b[96m2023-07-10 00:00:00.000\u001b[0m [\u001b[34m\u001b[1m🐞\u001b[0m] \u001b[34m\u001b[1m | get_subscribed_instruments ohlc(1h) -> []\u001b[0m\n",
      "\u001b[96m2023-07-10 00:00:00.000\u001b[0m [\u001b[34m\u001b[1m🐞\u001b[0m] \u001b[34m\u001b[1m | get_subscribed_instruments None -> []\u001b[0m\n",
      "\u001b[96m2023-07-10 00:00:00.000\u001b[0m [\u001b[34m\u001b[1m🐞\u001b[0m] \u001b[34m\u001b[1m | get_subscribed_instruments ohlc(1h) -> []\u001b[0m\n",
      "\u001b[96m2023-07-10 00:00:00.000\u001b[0m [\u001b[34m\u001b[1m🐞\u001b[0m] \u001b[34m\u001b[1m | subscribe: ohlc(1h) -> {BINANCE.UM:SWAP:ETHUSDT, BINANCE.UM:SWAP:BTCUSDT}\u001b[0m\n",
      "\u001b[96m2023-07-10 00:00:00.000\u001b[0m [\u001b[1mℹ️\u001b[0m] \u001b[1mSimulatedDataProvider ::: Simulation started at 2023-07-10 :::\u001b[0m\n",
      "\u001b[96m2023-07-10 00:00:00.000\u001b[0m [\u001b[34m\u001b[1m🐞\u001b[0m] \u001b[34m\u001b[1mPreloading initial data for ohlc.1h 2023-07-10 00:00:00 : 2023-07-11 00:00:00 ...\u001b[0m\n",
      "\u001b[96m2023-07-10 00:00:00.000\u001b[0m [\u001b[34m\u001b[1m🐞\u001b[0m] \u001b[34m\u001b[1mPreloading initial data for ohlc.1h 2023-07-10 00:00:00 : 2023-07-11 00:00:00 ...\u001b[0m\n",
      "\u001b[96m2023-07-10 00:00:01.000\u001b[0m [\u001b[34m\u001b[1m🐞\u001b[0m] \u001b[34m\u001b[1mInvoking \u001b[32mTestB\u001b[0m\u001b[34m\u001b[1m on_fit\u001b[0m\n",
      "\u001b[96m2023-07-10 00:00:01.000\u001b[0m [\u001b[34m\u001b[1m🐞\u001b[0m] \u001b[34m\u001b[1m\u001b[32mTestB\u001b[0m\u001b[34m\u001b[1m is fitted\u001b[0m\n",
      "\u001b[96m2023-07-10 01:00:00.000\u001b[0m [\u001b[1mℹ️\u001b[0m] \u001b[1m\u001b[31mBINANCE.UM:SWAP:BTCUSDT\u001b[0m\u001b[1m: 55.19313385956775, 74.6039133826198\u001b[0m\n",
      "\u001b[96m2023-07-10 02:00:00.000\u001b[0m [\u001b[1mℹ️\u001b[0m] \u001b[1m\u001b[31mBINANCE.UM:SWAP:BTCUSDT\u001b[0m\u001b[1m: 74.6039133826198, 92.20432676679047\u001b[0m\n",
      "\u001b[96m2023-07-10 03:00:00.000\u001b[0m [\u001b[1mℹ️\u001b[0m] \u001b[1m\u001b[31mBINANCE.UM:SWAP:BTCUSDT\u001b[0m\u001b[1m: 92.20432676679047, 39.56186113957301\u001b[0m\n",
      "\u001b[96m2023-07-10 04:00:00.000\u001b[0m [\u001b[1mℹ️\u001b[0m] \u001b[1m\u001b[31mBINANCE.UM:SWAP:BTCUSDT\u001b[0m\u001b[1m: 39.56186113957301, 28.85452097885718\u001b[0m\n",
      "\u001b[96m2023-07-10 05:00:00.000\u001b[0m [\u001b[1mℹ️\u001b[0m] \u001b[1m\u001b[31mBINANCE.UM:SWAP:BTCUSDT\u001b[0m\u001b[1m: 28.85452097885718, 34.70491391248652\u001b[0m\n",
      "\u001b[96m2023-07-10 06:00:00.000\u001b[0m [\u001b[1mℹ️\u001b[0m] \u001b[1m\u001b[31mBINANCE.UM:SWAP:BTCUSDT\u001b[0m\u001b[1m: 34.70491391248652, 48.529702160372835\u001b[0m\n",
      "\u001b[96m2023-07-10 07:00:00.000\u001b[0m [\u001b[1mℹ️\u001b[0m] \u001b[1m\u001b[31mBINANCE.UM:SWAP:BTCUSDT\u001b[0m\u001b[1m: 48.529702160372835, 48.568673945221235\u001b[0m\n",
      "\u001b[96m2023-07-10 08:00:00.000\u001b[0m [\u001b[1mℹ️\u001b[0m] \u001b[1m\u001b[31mBINANCE.UM:SWAP:BTCUSDT\u001b[0m\u001b[1m: 48.568673945221235, 35.8491101660984\u001b[0m\n",
      "\u001b[96m2023-07-10 09:00:00.000\u001b[0m [\u001b[1mℹ️\u001b[0m] \u001b[1m\u001b[31mBINANCE.UM:SWAP:BTCUSDT\u001b[0m\u001b[1m: 35.8491101660984, 32.867824708308035\u001b[0m\n",
      "\u001b[96m2023-07-10 10:00:00.000\u001b[0m [\u001b[1mℹ️\u001b[0m] \u001b[1m\u001b[31mBINANCE.UM:SWAP:BTCUSDT\u001b[0m\u001b[1m: 32.867824708308035, 14.608986652448948\u001b[0m\n",
      "\u001b[96m2023-07-10 11:00:00.000\u001b[0m [\u001b[1mℹ️\u001b[0m] \u001b[1m\u001b[31mBINANCE.UM:SWAP:BTCUSDT\u001b[0m\u001b[1m: 14.608986652448948, -10.231982267523563\u001b[0m\n",
      "\u001b[96m2023-07-10 11:00:00.000\u001b[0m [\u001b[1mℹ️\u001b[0m] \u001b[1mSELL: BINANCE.UM:SWAP:BTCUSDT\u001b[0m\n",
      "\u001b[96m2023-07-10 11:00:00.000\u001b[0m [\u001b[1mℹ️\u001b[0m] \u001b[1mSELL: BINANCE.UM:SWAP:ETHUSDT\u001b[0m\n",
      "\u001b[96m2023-07-10 11:00:00.000\u001b[0m [\u001b[34m\u001b[1m🐞\u001b[0m] \u001b[34m\u001b[1m(StrategyContext) sending market sell for 1.0 of \u001b[32mBTCUSDT\u001b[0m\u001b[34m\u001b[1m @ None ...\u001b[0m\n",
      "\u001b[96m2023-07-10 11:00:00.000\u001b[0m [\u001b[34m\u001b[1m🐞\u001b[0m] \u001b[34m\u001b[1m[OMS] BTCUSDT - \u001b[31mSIM-ORDER-BTCUSDT-100001\u001b[0m\u001b[34m\u001b[1m MARKET SELL 1.0 executed at 30173.05\u001b[0m\n",
      "\u001b[96m2023-07-10 11:00:00.000\u001b[0m [\u001b[34m\u001b[1m🐞\u001b[0m] \u001b[34m\u001b[1m[BINANCE.UM:SWAP:BTCUSDT] [SIM-ORDER-BTCUSDT-100001] Order MARKET SELL 1.0  -> CLOSED\u001b[0m\n",
      "\u001b[96m2023-07-10 11:00:00.000\u001b[0m [\u001b[34m\u001b[1m🐞\u001b[0m] \u001b[34m\u001b[1m  ::  traded -1.0 for BINANCE.UM:SWAP:BTCUSDT @ 30173.05 -> 0.00\u001b[0m\n",
      "\u001b[96m2023-07-10 11:00:00.000\u001b[0m [\u001b[34m\u001b[1m🐞\u001b[0m] \u001b[34m\u001b[1mExecuted -1.0 @ 30173.05 of BINANCE.UM:SWAP:BTCUSDT for order \u001b[31mSIM-ORDER-BTCUSDT-100001\u001b[0m\u001b[34m\u001b[1m\u001b[0m\n",
      "\u001b[96m2023-07-10 11:00:00.000\u001b[0m [\u001b[34m\u001b[1m🐞\u001b[0m] \u001b[34m\u001b[1m\u001b[32mBTCUSDT\u001b[0m\u001b[34m\u001b[1m: Adjusting position from 0.0 to -1.0 : [SIM-ORDER-BTCUSDT-100001] MARKET SELL 1.0 of BINANCE.UM:SWAP:BTCUSDT  (gtc) [CLOSED]\u001b[0m\n",
      "\u001b[96m2023-07-10 11:00:00.000\u001b[0m [\u001b[34m\u001b[1m🐞\u001b[0m] \u001b[34m\u001b[1m(StrategyContext) sending market sell for 1.0 of \u001b[32mETHUSDT\u001b[0m\u001b[34m\u001b[1m @ None ...\u001b[0m\n",
      "\u001b[96m2023-07-10 11:00:00.000\u001b[0m [\u001b[34m\u001b[1m🐞\u001b[0m] \u001b[34m\u001b[1m[OMS] ETHUSDT - \u001b[31mSIM-ORDER-ETHUSDT-100001\u001b[0m\u001b[34m\u001b[1m MARKET SELL 1.0 executed at 1862.0849999999998\u001b[0m\n",
      "\u001b[96m2023-07-10 11:00:00.000\u001b[0m [\u001b[34m\u001b[1m🐞\u001b[0m] \u001b[34m\u001b[1m[BINANCE.UM:SWAP:ETHUSDT] [SIM-ORDER-ETHUSDT-100001] Order MARKET SELL 1.0  -> CLOSED\u001b[0m\n",
      "\u001b[96m2023-07-10 11:00:00.000\u001b[0m [\u001b[34m\u001b[1m🐞\u001b[0m] \u001b[34m\u001b[1m  ::  traded -1.0 for BINANCE.UM:SWAP:ETHUSDT @ 1862.0849999999998 -> 0.00\u001b[0m\n",
      "\u001b[96m2023-07-10 11:00:00.000\u001b[0m [\u001b[34m\u001b[1m🐞\u001b[0m] \u001b[34m\u001b[1mExecuted -1.0 @ 1862.0849999999998 of BINANCE.UM:SWAP:ETHUSDT for order \u001b[31mSIM-ORDER-ETHUSDT-100001\u001b[0m\u001b[34m\u001b[1m\u001b[0m\n",
      "\u001b[96m2023-07-10 11:00:00.000\u001b[0m [\u001b[34m\u001b[1m🐞\u001b[0m] \u001b[34m\u001b[1m\u001b[32mETHUSDT\u001b[0m\u001b[34m\u001b[1m: Adjusting position from 0.0 to -1.0 : [SIM-ORDER-ETHUSDT-100001] MARKET SELL 1.0 of BINANCE.UM:SWAP:ETHUSDT  (gtc) [CLOSED]\u001b[0m\n",
      "\u001b[96m2023-07-10 12:00:00.000\u001b[0m [\u001b[1mℹ️\u001b[0m] \u001b[1m\u001b[31mBINANCE.UM:SWAP:BTCUSDT\u001b[0m\u001b[1m: -10.231982267523563, -36.70839355924181\u001b[0m\n",
      "\u001b[96m2023-07-10 13:00:00.000\u001b[0m [\u001b[1mℹ️\u001b[0m] \u001b[1m\u001b[31mBINANCE.UM:SWAP:BTCUSDT\u001b[0m\u001b[1m: -36.70839355924181, -19.297768062719115\u001b[0m\n",
      "\u001b[96m2023-07-10 14:00:00.000\u001b[0m [\u001b[1mℹ️\u001b[0m] \u001b[1m\u001b[31mBINANCE.UM:SWAP:BTCUSDT\u001b[0m\u001b[1m: -19.297768062719115, -27.062675117056642\u001b[0m\n",
      "\u001b[96m2023-07-10 15:00:00.000\u001b[0m [\u001b[1mℹ️\u001b[0m] \u001b[1m\u001b[31mBINANCE.UM:SWAP:BTCUSDT\u001b[0m\u001b[1m: -27.062675117056642, -63.504545400272036\u001b[0m\n",
      "\u001b[96m2023-07-10 16:00:00.000\u001b[0m [\u001b[1mℹ️\u001b[0m] \u001b[1m\u001b[31mBINANCE.UM:SWAP:BTCUSDT\u001b[0m\u001b[1m: -63.504545400272036, -74.31421779699667\u001b[0m\n",
      "\u001b[96m2023-07-10 17:00:00.000\u001b[0m [\u001b[1mℹ️\u001b[0m] \u001b[1m\u001b[31mBINANCE.UM:SWAP:BTCUSDT\u001b[0m\u001b[1m: -74.31421779699667, -86.46337013430457\u001b[0m\n",
      "\u001b[96m2023-07-10 18:00:00.000\u001b[0m [\u001b[1mℹ️\u001b[0m] \u001b[1m\u001b[31mBINANCE.UM:SWAP:BTCUSDT\u001b[0m\u001b[1m: -86.46337013430457, -60.16775226668324\u001b[0m\n",
      "\u001b[96m2023-07-10 19:00:00.000\u001b[0m [\u001b[1mℹ️\u001b[0m] \u001b[1m\u001b[31mBINANCE.UM:SWAP:BTCUSDT\u001b[0m\u001b[1m: -60.16775226668324, -132.64900991756076\u001b[0m\n",
      "\u001b[96m2023-07-10 20:00:00.000\u001b[0m [\u001b[1mℹ️\u001b[0m] \u001b[1m\u001b[31mBINANCE.UM:SWAP:BTCUSDT\u001b[0m\u001b[1m: -132.64900991756076, -258.7565412377371\u001b[0m\n",
      "\u001b[96m2023-07-10 21:00:00.000\u001b[0m [\u001b[1mℹ️\u001b[0m] \u001b[1m\u001b[31mBINANCE.UM:SWAP:BTCUSDT\u001b[0m\u001b[1m: -258.7565412377371, -274.4476859318311\u001b[0m\n",
      "\u001b[96m2023-07-10 22:00:00.000\u001b[0m [\u001b[1mℹ️\u001b[0m] \u001b[1m\u001b[31mBINANCE.UM:SWAP:BTCUSDT\u001b[0m\u001b[1m: -274.4476859318311, -90.18642515380634\u001b[0m\n"
     ]
    },
    {
     "name": "stdout",
     "output_type": "stream",
     "text": [
      "\u001b[96m2023-07-10 23:00:00.000\u001b[0m [\u001b[1mℹ️\u001b[0m] \u001b[1m\u001b[31mBINANCE.UM:SWAP:BTCUSDT\u001b[0m\u001b[1m: -90.18642515380634, -22.392320582042885\u001b[0m\n",
      "\u001b[96m2023-07-11 00:00:00.000\u001b[0m [\u001b[1mℹ️\u001b[0m] \u001b[1m\u001b[31mBINANCE.UM:SWAP:BTCUSDT\u001b[0m\u001b[1m: -22.392320582042885, -14.418482449214935\u001b[0m\n",
      "\u001b[96m2023-07-11 00:59:59.000\u001b[0m [\u001b[1mℹ️\u001b[0m] \u001b[1mSimulatedDataProvider ::: Simulation finished at 2023-07-11 00:00:00 :::\u001b[0m\n",
      "\u001b[96m2023-07-11 00:59:59.000\u001b[0m [\u001b[34m\u001b[1m🐞\u001b[0m] \u001b[34m\u001b[1m\u001b[33mTestC\u001b[0m\u001b[34m\u001b[1m new parameters:\n",
      "\tset \u001b[32mshow_mkt\u001b[0m\u001b[34m\u001b[1m <- \u001b[31m0\u001b[0m\u001b[34m\u001b[1m\n",
      "\tset \u001b[32mapply_own_schedule\u001b[0m\u001b[34m\u001b[1m <- \u001b[31m0\u001b[0m\u001b[34m\u001b[1m\u001b[0m\n"
     ]
    }
   ],
   "source": [
    "CFGS = [\n",
    "\n",
    "   l1,                                     # 0 - just reader\n",
    "\n",
    "   l1[['BTCUSDT'], \"2023-06-01\":\"now\"],    # 1 - as dict with dataframes\n",
    "\n",
    "   {'ohlc': l1},                           # 2 - as specified ohlc\n",
    "\n",
    "   {'ohlc(4h)': l1},                       # 3 - as 4h - we want to get triggers on 4h bars close\n",
    "\n",
    "   {'ohlc(6h)': l1[['BTCUSDT']] },         # 4 - as 6h from predefined data\n",
    "\n",
    "   {                                       # 5 - ohlc + real quotes / trades + custom data\n",
    "      'ohlc(1h)': l1,                     \n",
    "      # 'trade': l1, \n",
    "      # 'quote': l1, \n",
    "      # '<y>quote1</y>': qts_reader, \n",
    "      # '<r>MY_DATA</r>': custom_reader\n",
    "    },\n",
    "]\n",
    "\n",
    "r = simulate({'CrossOver MA': TestB(show_mkt=0, apply_own_schedule=0, ma_period=\"1h\")}, \n",
    "\n",
    "   CFGS[5],\n",
    "\n",
    "   1000, ['BINANCE.UM:BTCUSDT', 'BINANCE.UM:ETHUSDT'], \n",
    "   # 1000, ['BINANCE.UM:ETHUSDT'], \n",
    "   # \"vip0_usdt\", \"2023-07-01\", \"2023-07-30\", debug=\"DEBUG\",\n",
    "   \"vip0_usdt\", \"2023-07-10\", \"2023-07-11\", debug=\"DEBUG\",\n",
    "   enable_event_batching=False\n",
    ")"
   ]
  },
  {
   "cell_type": "code",
   "execution_count": 324,
   "metadata": {},
   "outputs": [],
   "source": [
    "d1 = l1.read(\"BINANCE.UM:BTCUSDT\", \"2023-07-10 12:00:00\", \"-100h\", transform=AsOhlcvSeries('1h'))\n",
    "s1 = ta.ema(d1.close, 12) - ta.ema(d1.close, 3)"
   ]
  },
  {
   "cell_type": "code",
   "execution_count": 326,
   "metadata": {},
   "outputs": [
    {
     "data": {
      "text/plain": [
       "2023-07-10 03:00:00    28.851864\n",
       "2023-07-10 04:00:00    34.702666\n",
       "2023-07-10 05:00:00    48.527800\n",
       "2023-07-10 06:00:00    48.567065\n",
       "2023-07-10 07:00:00    35.847748\n",
       "2023-07-10 08:00:00    32.866672\n",
       "2023-07-10 09:00:00    14.608012\n",
       "2023-07-10 10:00:00   -10.232807\n",
       "2023-07-10 11:00:00   -36.709092\n",
       "2023-07-10 12:00:00   -19.298359\n",
       "Name: minus(ema(3,init_mean=True)), dtype: float64"
      ]
     },
     "execution_count": 326,
     "metadata": {},
     "output_type": "execute_result"
    }
   ],
   "source": [
    "s1.pd().tail(10)"
   ]
  },
  {
   "cell_type": "code",
   "execution_count": null,
   "metadata": {},
   "outputs": [],
   "source": [
    "r[0].executions_log.loc['2023-07-19':'2023-07-20']"
   ]
  },
  {
   "cell_type": "code",
   "execution_count": 258,
   "metadata": {},
   "outputs": [
    {
     "data": {
      "text/html": [
       "<div>\n",
       "<style scoped>\n",
       "    .dataframe tbody tr th:only-of-type {\n",
       "        vertical-align: middle;\n",
       "    }\n",
       "\n",
       "    .dataframe tbody tr th {\n",
       "        vertical-align: top;\n",
       "    }\n",
       "\n",
       "    .dataframe thead th {\n",
       "        text-align: right;\n",
       "    }\n",
       "</style>\n",
       "<table border=\"1\" class=\"dataframe\">\n",
       "  <thead>\n",
       "    <tr style=\"text-align: right;\">\n",
       "      <th></th>\n",
       "      <th>Gain</th>\n",
       "      <th>Cagr</th>\n",
       "      <th>Sharpe</th>\n",
       "      <th>Qr</th>\n",
       "      <th>Max dd pct</th>\n",
       "      <th>Mdd usd</th>\n",
       "      <th>Sortino</th>\n",
       "      <th>Calmar</th>\n",
       "      <th>Tail ratio</th>\n",
       "      <th>Stability</th>\n",
       "      <th>Var</th>\n",
       "      <th>Avg return</th>\n",
       "      <th>Fees</th>\n",
       "      <th>Execs</th>\n",
       "    </tr>\n",
       "  </thead>\n",
       "  <tbody>\n",
       "    <tr>\n",
       "      <th>CrossOver MA</th>\n",
       "      <td>714.125</td>\n",
       "      <td>702.908</td>\n",
       "      <td>3.406</td>\n",
       "      <td>0.181</td>\n",
       "      <td>156.896</td>\n",
       "      <td>2113.428</td>\n",
       "      <td>130.684</td>\n",
       "      <td>635.265</td>\n",
       "      <td>2.194</td>\n",
       "      <td>0.473</td>\n",
       "      <td>57527.483</td>\n",
       "      <td>712.731</td>\n",
       "      <td>1467.83</td>\n",
       "      <td>83.0</td>\n",
       "    </tr>\n",
       "  </tbody>\n",
       "</table>\n",
       "</div>"
      ],
      "text/plain": [
       "                 Gain     Cagr  Sharpe     Qr  Max dd pct   Mdd usd  Sortino  \\\n",
       "CrossOver MA  714.125  702.908   3.406  0.181     156.896  2113.428  130.684   \n",
       "\n",
       "               Calmar  Tail ratio  Stability        Var  Avg return     Fees  \\\n",
       "CrossOver MA  635.265       2.194      0.473  57527.483     712.731  1467.83   \n",
       "\n",
       "              Execs  \n",
       "CrossOver MA   83.0  "
      ]
     },
     "execution_count": 258,
     "metadata": {},
     "output_type": "execute_result"
    },
    {
     "data": {
      "image/png": "[encoded data removed]",
      "text/plain": [
       "<Figure size 960x400 with 2 Axes>"
      ]
     },
     "metadata": {},
     "output_type": "display_data"
    }
   ],
   "source": [
    "tearsheet(r, False, plot_leverage=0)"
   ]
  },
  {
   "cell_type": "code",
   "execution_count": null,
   "metadata": {},
   "outputs": [],
   "source": [
    "r[0].to_html()"
   ]
  },
  {
   "cell_type": "code",
   "execution_count": null,
   "metadata": {},
   "outputs": [],
   "source": [
    "r[0].to_file(\"test\")"
   ]
  },
  {
   "cell_type": "code",
   "execution_count": null,
   "metadata": {},
   "outputs": [],
   "source": [
    "chart_signals(r[0], 'BTCUSDT', l1[['BTCUSDT']], show_signals=True, show_trades=True)"
   ]
  },
  {
   "cell_type": "code",
   "execution_count": null,
   "metadata": {},
   "outputs": [],
   "source": [
    "r[0].portfolio_log"
   ]
  },
  {
   "cell_type": "markdown",
   "metadata": {},
   "source": [
    "## Triggering time"
   ]
  },
  {
   "cell_type": "code",
   "execution_count": 328,
   "metadata": {},
   "outputs": [],
   "source": [
    "class TestC(IStrategy):\n",
    "    apply_own_schedule = False\n",
    "    show_mkt = False\n",
    "\n",
    "    def on_init(self, ctx: IStrategyContext):\n",
    "        if self.apply_own_schedule: \n",
    "            ctx.set_event_schedule(\"1 */4 * * *\")\n",
    "        # ctx.set_warmup({\n",
    "        #     DataType.OHLC['1h']: '1d'\n",
    "        # })\n",
    "\n",
    "    def on_market_data(self, ctx: IStrategyContext, data: MarketEvent) -> list[Signal] | Signal | None:\n",
    "        if self.show_mkt:\n",
    "            logger.info(f'{data.instrument.symbol} market event ::: <g>{data.type}</g>\\t:::  -> {data.data}')\n",
    "\n",
    "    def on_event(self, ctx: IStrategyContext, event: TriggerEvent) -> list[Signal] | None:\n",
    "        s = []\n",
    "\n",
    "        # for i in ctx.instruments:\n",
    "            # data = ctx.ohlc(i, '1h', 100)\n",
    "            # logger.info(data)\n",
    "        if 1: \n",
    "            logger.info(f'<r> === Event {ctx.time()} ::: {ctx.quote(ctx.instruments[0])} ===</r>')\n",
    "        return s"
   ]
  },
  {
   "cell_type": "code",
   "execution_count": 329,
   "metadata": {},
   "outputs": [
    {
     "name": "stdout",
     "output_type": "stream",
     "text": [
      "\u001b[32m2024-12-24 15:31:50.119\u001b[0m [ \u001b[34m\u001b[1m🐞\u001b[0m ] \u001b[36m(simulator)\u001b[0m \u001b[34m\u001b[1m\u001b[31m2023-07-01 00:00:00\u001b[0m\u001b[34m\u001b[1m Initiating simulated trading for binance.um for 1000 x 1.0 in USDT...\u001b[0m\n",
      "\u001b[96m2023-07-01 00:00:00.000\u001b[0m [\u001b[1mℹ️\u001b[0m] \u001b[1mSimulatedDataProvider.binance.um is initialized\u001b[0m\n",
      "\u001b[96m2023-07-01 00:00:00.000\u001b[0m [\u001b[34m\u001b[1m🐞\u001b[0m] \u001b[34m\u001b[1m | Setting up default base subscription: ohlc(1h)\u001b[0m\n",
      "\u001b[96m2023-07-01 00:00:00.000\u001b[0m [\u001b[34m\u001b[1m🐞\u001b[0m] \u001b[34m\u001b[1m | Setting default schedule: 0 */4 * * *\u001b[0m\n"
     ]
    },
    {
     "data": {
      "application/vnd.jupyter.widget-view+json": {
       "model_id": "faca7d46cae34b8abc957b4a82c6fa49",
       "version_major": 2,
       "version_minor": 0
      },
      "text/plain": [
       "Simulating:   0%|          | 0/100 [00:00<?, ?%/s]"
      ]
     },
     "metadata": {},
     "output_type": "display_data"
    },
    {
     "name": "stdout",
     "output_type": "stream",
     "text": [
      "\u001b[96m2023-07-01 00:00:00.000\u001b[0m [\u001b[34m\u001b[1m🐞\u001b[0m] \u001b[34m\u001b[1m | get_subscribed_instruments __all__ -> []\u001b[0m\n",
      "\u001b[96m2023-07-01 00:00:00.000\u001b[0m [\u001b[34m\u001b[1m🐞\u001b[0m] \u001b[34m\u001b[1m | get_subscriptions None -> []\u001b[0m\n",
      "\u001b[96m2023-07-01 00:00:00.000\u001b[0m [\u001b[34m\u001b[1m🐞\u001b[0m] \u001b[34m\u001b[1m | get_subscribed_instruments ohlc(1h) -> []\u001b[0m\n",
      "\u001b[96m2023-07-01 00:00:00.000\u001b[0m [\u001b[34m\u001b[1m🐞\u001b[0m] \u001b[34m\u001b[1m | get_subscribed_instruments None -> []\u001b[0m\n",
      "\u001b[96m2023-07-01 00:00:00.000\u001b[0m [\u001b[34m\u001b[1m🐞\u001b[0m] \u001b[34m\u001b[1m | get_subscribed_instruments ohlc(1h) -> []\u001b[0m\n",
      "\u001b[96m2023-07-01 00:00:00.000\u001b[0m [\u001b[34m\u001b[1m🐞\u001b[0m] \u001b[34m\u001b[1m | subscribe: ohlc(1h) -> {BINANCE.UM:SWAP:ETHUSDT, BINANCE.UM:SWAP:BTCUSDT}\u001b[0m\n",
      "\u001b[96m2023-07-01 00:00:00.000\u001b[0m [\u001b[1mℹ️\u001b[0m] \u001b[1mSimulatedDataProvider ::: Simulation started at 2023-07-01 :::\u001b[0m\n",
      "\u001b[96m2023-07-01 00:00:00.000\u001b[0m [\u001b[34m\u001b[1m🐞\u001b[0m] \u001b[34m\u001b[1mPreloading initial data for ohlc.1h 2023-07-01 00:00:00 : 2023-07-03 00:00:00 ...\u001b[0m\n",
      "\u001b[96m2023-07-01 00:00:01.000\u001b[0m [\u001b[34m\u001b[1m🐞\u001b[0m] \u001b[34m\u001b[1mInvoking \u001b[32mTestC\u001b[0m\u001b[34m\u001b[1m on_fit\u001b[0m\n",
      "\u001b[96m2023-07-01 00:00:01.000\u001b[0m [\u001b[34m\u001b[1m🐞\u001b[0m] \u001b[34m\u001b[1m\u001b[32mTestC\u001b[0m\u001b[34m\u001b[1m is fitted\u001b[0m\n",
      "\u001b[96m2023-07-01 04:00:00.000\u001b[0m [\u001b[1mℹ️\u001b[0m] \u001b[1m\u001b[31m === Event 2023-07-01T04:00:00.000000000 ::: [2023-07-01T03:59:59.000000000]\t30391.15000 (0.0) | 30391.25000 (0.0) ===\u001b[0m\u001b[1m\u001b[0m\n",
      "\u001b[96m2023-07-01 08:00:00.000\u001b[0m [\u001b[1mℹ️\u001b[0m] \u001b[1m\u001b[31m === Event 2023-07-01T08:00:00.000000000 ::: [2023-07-01T07:59:59.000000000]\t30448.05000 (0.0) | 30448.15000 (0.0) ===\u001b[0m\u001b[1m\u001b[0m\n",
      "\u001b[96m2023-07-01 12:00:00.000\u001b[0m [\u001b[1mℹ️\u001b[0m] \u001b[1m\u001b[31m === Event 2023-07-01T12:00:00.000000000 ::: [2023-07-01T11:59:59.000000000]\t30508.45000 (0.0) | 30508.55000 (0.0) ===\u001b[0m\u001b[1m\u001b[0m\n",
      "\u001b[96m2023-07-01 16:00:00.000\u001b[0m [\u001b[1mℹ️\u001b[0m] \u001b[1m\u001b[31m === Event 2023-07-01T16:00:00.000000000 ::: [2023-07-01T15:59:59.000000000]\t30561.45000 (0.0) | 30561.55000 (0.0) ===\u001b[0m\u001b[1m\u001b[0m\n",
      "\u001b[96m2023-07-01 20:00:00.000\u001b[0m [\u001b[1mℹ️\u001b[0m] \u001b[1m\u001b[31m === Event 2023-07-01T20:00:00.000000000 ::: [2023-07-01T19:59:59.000000000]\t30600.45000 (0.0) | 30600.55000 (0.0) ===\u001b[0m\u001b[1m\u001b[0m\n",
      "\u001b[96m2023-07-02 00:00:00.000\u001b[0m [\u001b[1mℹ️\u001b[0m] \u001b[1m\u001b[31m === Event 2023-07-02T00:00:00.000000000 ::: [2023-07-01T23:59:59.000000000]\t30573.55000 (0.0) | 30573.65000 (0.0) ===\u001b[0m\u001b[1m\u001b[0m\n",
      "\u001b[96m2023-07-02 04:00:00.000\u001b[0m [\u001b[1mℹ️\u001b[0m] \u001b[1m\u001b[31m === Event 2023-07-02T04:00:00.000000000 ::: [2023-07-02T03:59:59.000000000]\t30505.15000 (0.0) | 30505.25000 (0.0) ===\u001b[0m\u001b[1m\u001b[0m\n",
      "\u001b[96m2023-07-02 08:00:00.000\u001b[0m [\u001b[1mℹ️\u001b[0m] \u001b[1m\u001b[31m === Event 2023-07-02T08:00:00.000000000 ::: [2023-07-02T07:59:59.000000000]\t30504.65000 (0.0) | 30504.75000 (0.0) ===\u001b[0m\u001b[1m\u001b[0m\n",
      "\u001b[96m2023-07-02 12:00:00.000\u001b[0m [\u001b[1mℹ️\u001b[0m] \u001b[1m\u001b[31m === Event 2023-07-02T12:00:00.000000000 ::: [2023-07-02T11:59:59.000000000]\t30537.15000 (0.0) | 30537.25000 (0.0) ===\u001b[0m\u001b[1m\u001b[0m\n"
     ]
    },
    {
     "name": "stdout",
     "output_type": "stream",
     "text": [
      "\u001b[96m2023-07-02 16:00:00.000\u001b[0m [\u001b[1mℹ️\u001b[0m] \u001b[1m\u001b[31m === Event 2023-07-02T16:00:00.000000000 ::: [2023-07-02T15:59:59.000000000]\t30491.35000 (0.0) | 30491.45000 (0.0) ===\u001b[0m\u001b[1m\u001b[0m\n",
      "\u001b[96m2023-07-02 20:00:00.000\u001b[0m [\u001b[1mℹ️\u001b[0m] \u001b[1m\u001b[31m === Event 2023-07-02T20:00:00.000000000 ::: [2023-07-02T19:59:59.000000000]\t30552.75000 (0.0) | 30552.85000 (0.0) ===\u001b[0m\u001b[1m\u001b[0m\n",
      "\u001b[96m2023-07-03 00:00:00.000\u001b[0m [\u001b[1mℹ️\u001b[0m] \u001b[1m\u001b[31m === Event 2023-07-03T00:00:00.000000000 ::: [2023-07-02T23:59:59.000000000]\t30612.65000 (0.0) | 30612.75000 (0.0) ===\u001b[0m\u001b[1m\u001b[0m\n",
      "\u001b[96m2023-07-03 00:59:59.000\u001b[0m [\u001b[1mℹ️\u001b[0m] \u001b[1mSimulatedDataProvider ::: Simulation finished at 2023-07-03 00:00:00 :::\u001b[0m\n",
      "\u001b[96m2023-07-03 00:59:59.000\u001b[0m [\u001b[34m\u001b[1m🐞\u001b[0m] \u001b[34m\u001b[1m\u001b[33mTestD\u001b[0m\u001b[34m\u001b[1m new parameters:\n",
      "\tset \u001b[32mshow_mkt\u001b[0m\u001b[34m\u001b[1m <- \u001b[31m0\u001b[0m\u001b[34m\u001b[1m\u001b[0m\n"
     ]
    }
   ],
   "source": [
    "r = simulate({'A': (stg:=TestC(show_mkt=0, apply_own_schedule=0))}, \n",
    "   # qts_reader,\n",
    "   {\n",
    "      'ohlc(4h)': l1, \n",
    "      # 'trade': l1, \n",
    "      # 'quote': l1, \n",
    "      # 'quote': qts_reader, \n",
    "   #    # '<y>quote1</y>': qts_reader, \n",
    "      # '<r>MY_DATA</r>': custom_reader\n",
    "    },\n",
    "\n",
    "   1000, ['BINANCE.UM:BTCUSDT', 'BINANCE.UM:ETHUSDT' ], \n",
    "   \"vip0_usdt\", \"2023-07-01\", \"2023-07-03\", debug=\"DEBUG\", \n",
    "   enable_event_batching=True,\n",
    "   # open_close_time_indent_secs=5\n",
    ")"
   ]
  },
  {
   "cell_type": "markdown",
   "metadata": {},
   "source": [
    "# Initial quote and history"
   ]
  },
  {
   "cell_type": "code",
   "execution_count": 368,
   "metadata": {},
   "outputs": [
    {
     "name": "stdout",
     "output_type": "stream",
     "text": [
      "\u001b[32m2024-12-24 16:45:09.894\u001b[0m [ \u001b[34m\u001b[1m🐞\u001b[0m ] \u001b[36m(simulator)\u001b[0m \u001b[34m\u001b[1m\u001b[31m2023-07-01 00:00:00\u001b[0m\u001b[34m\u001b[1m Initiating simulated trading for binance.um for 1000 x 1.0 in USDT...\u001b[0m\n",
      "\u001b[96m2023-07-01 00:00:00.000\u001b[0m [\u001b[1mℹ️\u001b[0m] \u001b[1mSimulatedDataProvider.binance.um is initialized\u001b[0m\n",
      "\u001b[96m2023-07-01 00:00:00.000\u001b[0m [\u001b[34m\u001b[1m🐞\u001b[0m] \u001b[34m\u001b[1m | Setting up default base subscription: ohlc(1h)\u001b[0m\n"
     ]
    },
    {
     "data": {
      "application/vnd.jupyter.widget-view+json": {
       "model_id": "6e3ea55b9e3847cc83acbf5d3f97f4d7",
       "version_major": 2,
       "version_minor": 0
      },
      "text/plain": [
       "Simulating:   0%|          | 0/100 [00:00<?, ?%/s]"
      ]
     },
     "metadata": {},
     "output_type": "display_data"
    },
    {
     "name": "stdout",
     "output_type": "stream",
     "text": [
      "\u001b[96m2023-07-01 00:00:00.000\u001b[0m [\u001b[34m\u001b[1m🐞\u001b[0m] \u001b[34m\u001b[1m | get_subscribed_instruments __all__ -> []\u001b[0m\n",
      "\u001b[96m2023-07-01 00:00:00.000\u001b[0m [\u001b[34m\u001b[1m🐞\u001b[0m] \u001b[34m\u001b[1m | get_subscriptions None -> []\u001b[0m\n",
      "\u001b[96m2023-07-01 00:00:00.000\u001b[0m [\u001b[34m\u001b[1m🐞\u001b[0m] \u001b[34m\u001b[1m | get_subscribed_instruments ohlc(1h) -> []\u001b[0m\n",
      "\u001b[96m2023-07-01 00:00:00.000\u001b[0m [\u001b[34m\u001b[1m🐞\u001b[0m] \u001b[34m\u001b[1m | get_subscribed_instruments None -> []\u001b[0m\n",
      "\u001b[96m2023-07-01 00:00:00.000\u001b[0m [\u001b[34m\u001b[1m🐞\u001b[0m] \u001b[34m\u001b[1m | get_subscribed_instruments ohlc(1h) -> []\u001b[0m\n",
      "\u001b[96m2023-07-01 00:00:00.000\u001b[0m [\u001b[34m\u001b[1m🐞\u001b[0m] \u001b[34m\u001b[1m | subscribe: ohlc(1h) -> {BINANCE.UM:SWAP:BTCUSDT}\u001b[0m\n",
      "\u001b[96m2023-07-01 00:00:00.000\u001b[0m [\u001b[1mℹ️\u001b[0m] \u001b[1mSimulatedDataProvider ::: Simulation started at 2023-07-01 :::\u001b[0m\n",
      "\u001b[96m2023-07-01 00:00:00.000\u001b[0m [\u001b[34m\u001b[1m🐞\u001b[0m] \u001b[34m\u001b[1mPreloading initial data for ohlc.1h 2023-07-01 00:00:00 : 2023-07-02 00:00:00 ...\u001b[0m\n",
      "\u001b[96m2023-07-01 00:00:01.000\u001b[0m [\u001b[34m\u001b[1m🐞\u001b[0m] \u001b[34m\u001b[1mInvoking \u001b[32mTestD\u001b[0m\u001b[34m\u001b[1m on_fit\u001b[0m\n",
      "\u001b[96m2023-07-01 00:00:01.000\u001b[0m [\u001b[1mℹ️\u001b[0m] \u001b[1m\u001b[41m||| FIT |||\u001b[0m\u001b[1m\u001b[0m\n",
      "\u001b[96m2023-07-01 00:00:01.000\u001b[0m [\u001b[34m\u001b[1m🐞\u001b[0m] \u001b[34m\u001b[1m\u001b[32mTestD\u001b[0m\u001b[34m\u001b[1m is fitted\u001b[0m\n",
      "\u001b[96m2023-07-01 04:00:00.000\u001b[0m [\u001b[34m\u001b[1m🐞\u001b[0m] \u001b[34m\u001b[1mInvoking \u001b[32mTestD\u001b[0m\u001b[34m\u001b[1m on_fit\u001b[0m\n",
      "\u001b[96m2023-07-01 04:00:00.000\u001b[0m [\u001b[1mℹ️\u001b[0m] \u001b[1m\u001b[41m||| FIT |||\u001b[0m\u001b[1m\u001b[0m\n",
      "\u001b[96m2023-07-01 04:00:00.000\u001b[0m [\u001b[34m\u001b[1m🐞\u001b[0m] \u001b[34m\u001b[1m | get_subscribed_instruments __all__ -> [BINANCE.UM:SWAP:BTCUSDT]\u001b[0m\n",
      "\u001b[96m2023-07-01 04:00:00.000\u001b[0m [\u001b[34m\u001b[1m🐞\u001b[0m] \u001b[34m\u001b[1m | get_subscriptions None -> ['ohlc(1h)']\u001b[0m\n",
      "\u001b[96m2023-07-01 04:00:00.000\u001b[0m [\u001b[34m\u001b[1m🐞\u001b[0m] \u001b[34m\u001b[1m | get_subscribed_instruments ohlc(1h) -> [BINANCE.UM:SWAP:BTCUSDT]\u001b[0m\n",
      "\u001b[96m2023-07-01 04:00:00.000\u001b[0m [\u001b[34m\u001b[1m🐞\u001b[0m] \u001b[34m\u001b[1m | get_subscriptions None -> ['ohlc(1h)']\u001b[0m\n",
      "\u001b[96m2023-07-01 04:00:00.000\u001b[0m [\u001b[34m\u001b[1m🐞\u001b[0m] \u001b[34m\u001b[1m | get_subscribed_instruments None -> [BINANCE.UM:SWAP:BTCUSDT]\u001b[0m\n",
      "\u001b[96m2023-07-01 04:00:00.000\u001b[0m [\u001b[34m\u001b[1m🐞\u001b[0m] \u001b[34m\u001b[1m | get_subscribed_instruments ohlc(1h) -> [BINANCE.UM:SWAP:BTCUSDT]\u001b[0m\n",
      "\u001b[96m2023-07-01 04:00:00.000\u001b[0m [\u001b[34m\u001b[1m🐞\u001b[0m] \u001b[34m\u001b[1m | subscribe: ohlc(1h) -> {BINANCE.UM:SWAP:ETHUSDT}\u001b[0m\n",
      "\u001b[96m2023-07-01 04:00:00.000\u001b[0m [\u001b[34m\u001b[1m🐞\u001b[0m] \u001b[34m\u001b[1m | unsubscribe: ohlc(1h) -> {BINANCE.UM:SWAP:BTCUSDT}\u001b[0m\n",
      "\u001b[96m2023-07-01 04:00:00.000\u001b[0m [\u001b[34m\u001b[1m🐞\u001b[0m] \u001b[34m\u001b[1m\u001b[32mTestD\u001b[0m\u001b[34m\u001b[1m is fitted\u001b[0m\n",
      "\u001b[96m2023-07-01 04:00:01.000\u001b[0m [\u001b[1mℹ️\u001b[0m] \u001b[1m\t\u001b[33mETHUSDT ::: None\u001b[0m\u001b[1m\u001b[0m\n",
      "\u001b[96m2023-07-01 08:00:00.000\u001b[0m [\u001b[34m\u001b[1m🐞\u001b[0m] \u001b[34m\u001b[1mInvoking \u001b[32mTestD\u001b[0m\u001b[34m\u001b[1m on_fit\u001b[0m\n",
      "\u001b[96m2023-07-01 08:00:00.000\u001b[0m [\u001b[1mℹ️\u001b[0m] \u001b[1m\u001b[41m||| FIT |||\u001b[0m\u001b[1m\u001b[0m\n",
      "\u001b[96m2023-07-01 08:00:00.000\u001b[0m [\u001b[34m\u001b[1m🐞\u001b[0m] \u001b[34m\u001b[1m\u001b[32mTestD\u001b[0m\u001b[34m\u001b[1m is fitted\u001b[0m\n",
      "\u001b[96m2023-07-01 08:00:01.000\u001b[0m [\u001b[1mℹ️\u001b[0m] \u001b[1m\t\u001b[33mETHUSDT ::: [2023-07-01T08:00:01.000000000]\t1919.79500 (0.0) | 1919.80500 (0.0)\u001b[0m\u001b[1m\u001b[0m\n",
      "\u001b[96m2023-07-01 12:00:00.000\u001b[0m [\u001b[34m\u001b[1m🐞\u001b[0m] \u001b[34m\u001b[1mInvoking \u001b[32mTestD\u001b[0m\u001b[34m\u001b[1m on_fit\u001b[0m\n",
      "\u001b[96m2023-07-01 12:00:00.000\u001b[0m [\u001b[1mℹ️\u001b[0m] \u001b[1m\u001b[41m||| FIT |||\u001b[0m\u001b[1m\u001b[0m\n",
      "\u001b[96m2023-07-01 12:00:00.000\u001b[0m [\u001b[34m\u001b[1m🐞\u001b[0m] \u001b[34m\u001b[1m\u001b[32mTestD\u001b[0m\u001b[34m\u001b[1m is fitted\u001b[0m\n",
      "\u001b[96m2023-07-01 12:00:01.000\u001b[0m [\u001b[1mℹ️\u001b[0m] \u001b[1m\t\u001b[33mETHUSDT ::: [2023-07-01T12:00:01.000000000]\t1921.98500 (0.0) | 1921.99500 (0.0)\u001b[0m\u001b[1m\u001b[0m\n",
      "\u001b[96m2023-07-01 16:00:00.000\u001b[0m [\u001b[34m\u001b[1m🐞\u001b[0m] \u001b[34m\u001b[1mInvoking \u001b[32mTestD\u001b[0m\u001b[34m\u001b[1m on_fit\u001b[0m\n",
      "\u001b[96m2023-07-01 16:00:00.000\u001b[0m [\u001b[1mℹ️\u001b[0m] \u001b[1m\u001b[41m||| FIT |||\u001b[0m\u001b[1m\u001b[0m\n",
      "\u001b[96m2023-07-01 16:00:00.000\u001b[0m [\u001b[34m\u001b[1m🐞\u001b[0m] \u001b[34m\u001b[1m\u001b[32mTestD\u001b[0m\u001b[34m\u001b[1m is fitted\u001b[0m\n",
      "\u001b[96m2023-07-01 16:00:01.000\u001b[0m [\u001b[1mℹ️\u001b[0m] \u001b[1m\t\u001b[33mETHUSDT ::: [2023-07-01T16:00:01.000000000]\t1922.14500 (0.0) | 1922.15500 (0.0)\u001b[0m\u001b[1m\u001b[0m\n",
      "\u001b[96m2023-07-01 20:00:00.000\u001b[0m [\u001b[34m\u001b[1m🐞\u001b[0m] \u001b[34m\u001b[1mInvoking \u001b[32mTestD\u001b[0m\u001b[34m\u001b[1m on_fit\u001b[0m\n",
      "\u001b[96m2023-07-01 20:00:00.000\u001b[0m [\u001b[1mℹ️\u001b[0m] \u001b[1m\u001b[41m||| FIT |||\u001b[0m\u001b[1m\u001b[0m\n",
      "\u001b[96m2023-07-01 20:00:00.000\u001b[0m [\u001b[34m\u001b[1m🐞\u001b[0m] \u001b[34m\u001b[1m\u001b[32mTestD\u001b[0m\u001b[34m\u001b[1m is fitted\u001b[0m\n",
      "\u001b[96m2023-07-01 20:00:01.000\u001b[0m [\u001b[1mℹ️\u001b[0m] \u001b[1m\t\u001b[33mETHUSDT ::: [2023-07-01T20:00:01.000000000]\t1922.23500 (0.0) | 1922.24500 (0.0)\u001b[0m\u001b[1m\u001b[0m\n",
      "\u001b[96m2023-07-02 00:00:00.000\u001b[0m [\u001b[34m\u001b[1m🐞\u001b[0m] \u001b[34m\u001b[1mInvoking \u001b[32mTestD\u001b[0m\u001b[34m\u001b[1m on_fit\u001b[0m\n",
      "\u001b[96m2023-07-02 00:00:00.000\u001b[0m [\u001b[1mℹ️\u001b[0m] \u001b[1m\u001b[41m||| FIT |||\u001b[0m\u001b[1m\u001b[0m\n",
      "\u001b[96m2023-07-02 00:00:00.000\u001b[0m [\u001b[34m\u001b[1m🐞\u001b[0m] \u001b[34m\u001b[1m\u001b[32mTestD\u001b[0m\u001b[34m\u001b[1m is fitted\u001b[0m\n",
      "\u001b[96m2023-07-02 00:00:01.000\u001b[0m [\u001b[1mℹ️\u001b[0m] \u001b[1m\t\u001b[33mETHUSDT ::: [2023-07-02T00:00:01.000000000]\t1924.07500 (0.0) | 1924.08500 (0.0)\u001b[0m\u001b[1m\u001b[0m\n",
      "\u001b[96m2023-07-02 00:59:59.000\u001b[0m [\u001b[1mℹ️\u001b[0m] \u001b[1mSimulatedDataProvider ::: Simulation finished at 2023-07-02 00:00:00 :::\u001b[0m\n"
     ]
    }
   ],
   "source": [
    "class TestD(IStrategy):\n",
    "    show_mkt = False\n",
    "    _n_f = 0\n",
    "\n",
    "    def on_init(self, ctx: IStrategyContext):\n",
    "        ctx.set_fit_schedule(\"0 */4 * * *\")\n",
    "        ctx.set_event_schedule(\"0 */4 * * * 1\")\n",
    "        self._n_f = 0\n",
    "        # ctx.set_warmup({ DataType.OHLC['1h']: '4h' })\n",
    "\n",
    "    def on_fit(self, ctx: IStrategyContext):\n",
    "        logger.info(\"<R>||| FIT |||</R>\")\n",
    "        self._n_f += 1\n",
    "        if self._n_f == 2:\n",
    "            n_i = ctx.query_instrument(\"ETHUSDT\")\n",
    "            ctx.set_universe([n_i])\n",
    "\n",
    "    def on_market_data(self, ctx: IStrategyContext, data: MarketEvent) -> list[Signal] | Signal | None:\n",
    "        if self.show_mkt:\n",
    "            logger.info(f'{data.instrument.symbol} market event ::: <g>{data.type}</g>\\t:::  -> {data.data}')\n",
    "\n",
    "    def on_event(self, ctx: IStrategyContext, event: TriggerEvent) -> list[Signal] | None:\n",
    "        # for i in ctx.instruments:\n",
    "            # data = ctx.ohlc(i, '1h', 100)\n",
    "            # logger.info(data)\n",
    "\n",
    "        for i in ctx.instruments:\n",
    "            logger.info(f'\\t<y>{i.symbol} ::: {ctx.quote(i)}</y>')\n",
    "\n",
    "r = simulate({'A': (stg:=TestD(show_mkt=0))}, { 'ohlc(4h)': l1 },\n",
    "#    1000, ['BINANCE.UM:BTCUSDT', 'BINANCE.UM:ETHUSDT' ], \n",
    "   1000, ['BINANCE.UM:BTCUSDT' ], \n",
    "   \"vip0_usdt\", \"2023-07-01\", \"2023-07-02\", debug=\"DEBUG\", \n",
    "   enable_event_batching=True,\n",
    "   # open_close_time_indent_secs=5\n",
    ")"
   ]
  },
  {
   "cell_type": "code",
   "execution_count": null,
   "metadata": {},
   "outputs": [],
   "source": []
  },
  {
   "cell_type": "markdown",
   "metadata": {},
   "source": [
    "# Formed deals (TODO)"
   ]
  },
  {
   "cell_type": "code",
   "execution_count": 189,
   "metadata": {},
   "outputs": [],
   "source": [
    "T = pd.Timestamp\n",
    "\n",
    "S = pd.DataFrame({ \n",
    "    'BTCUSDT': {\n",
    "            T(\"2024-01-10 15:08:59.716000\"): {'signal': 1, 'exec_price': 10000.1},\n",
    "            T(\"2024-01-10 15:10:52.679000\"): {'signal': 1, 'exec_price': 10000.1},\n",
    "            T(\"2024-01-10 15:32:44.798000\"): {'signal': 1, 'exec_price': 10000.1},\n",
    "            T(\"2024-01-10 15:59:55.303000\"): {'signal': 1, 'exec_price': 10000.1},\n",
    "            T(\"2024-01-10 16:09:00.970000\"): {'signal': 1, 'exec_price': 10000.1},\n",
    "            T(\"2024-01-10 16:12:34.233000\"): {'signal': 1, 'exec_price': 10000.1},\n",
    "            T(\"2024-01-10 19:04:00.905000\"): {'signal': 1, 'exec_price': 10000.1},\n",
    "            T(\"2024-01-10 19:44:37.785000\"): {'signal': 1, 'exec_price': 10000.1},\n",
    "            T(\"2024-01-10 20:06:00.322000\"): {'signal': 1, 'exec_price': 10000.1},\n",
    "        }\n",
    "    }\n",
    ")"
   ]
  },
  {
   "cell_type": "code",
   "execution_count": 190,
   "metadata": {},
   "outputs": [
    {
     "data": {
      "text/html": [
       "<div>\n",
       "<style scoped>\n",
       "    .dataframe tbody tr th:only-of-type {\n",
       "        vertical-align: middle;\n",
       "    }\n",
       "\n",
       "    .dataframe tbody tr th {\n",
       "        vertical-align: top;\n",
       "    }\n",
       "\n",
       "    .dataframe thead th {\n",
       "        text-align: right;\n",
       "    }\n",
       "</style>\n",
       "<table border=\"1\" class=\"dataframe\">\n",
       "  <thead>\n",
       "    <tr style=\"text-align: right;\">\n",
       "      <th></th>\n",
       "      <th>BTCUSDT</th>\n",
       "    </tr>\n",
       "  </thead>\n",
       "  <tbody>\n",
       "    <tr>\n",
       "      <th>2024-01-10 15:08:59.716</th>\n",
       "      <td>{'signal': 1, 'exec_price': 10000.1}</td>\n",
       "    </tr>\n",
       "    <tr>\n",
       "      <th>2024-01-10 15:10:52.679</th>\n",
       "      <td>{'signal': 1, 'exec_price': 10000.1}</td>\n",
       "    </tr>\n",
       "    <tr>\n",
       "      <th>2024-01-10 15:32:44.798</th>\n",
       "      <td>{'signal': 1, 'exec_price': 10000.1}</td>\n",
       "    </tr>\n",
       "    <tr>\n",
       "      <th>2024-01-10 15:59:55.303</th>\n",
       "      <td>{'signal': 1, 'exec_price': 10000.1}</td>\n",
       "    </tr>\n",
       "    <tr>\n",
       "      <th>2024-01-10 16:09:00.970</th>\n",
       "      <td>{'signal': 1, 'exec_price': 10000.1}</td>\n",
       "    </tr>\n",
       "    <tr>\n",
       "      <th>2024-01-10 16:12:34.233</th>\n",
       "      <td>{'signal': 1, 'exec_price': 10000.1}</td>\n",
       "    </tr>\n",
       "    <tr>\n",
       "      <th>2024-01-10 19:04:00.905</th>\n",
       "      <td>{'signal': 1, 'exec_price': 10000.1}</td>\n",
       "    </tr>\n",
       "    <tr>\n",
       "      <th>2024-01-10 19:44:37.785</th>\n",
       "      <td>{'signal': 1, 'exec_price': 10000.1}</td>\n",
       "    </tr>\n",
       "    <tr>\n",
       "      <th>2024-01-10 20:06:00.322</th>\n",
       "      <td>{'signal': 1, 'exec_price': 10000.1}</td>\n",
       "    </tr>\n",
       "  </tbody>\n",
       "</table>\n",
       "</div>"
      ],
      "text/plain": [
       "                                                      BTCUSDT\n",
       "2024-01-10 15:08:59.716  {'signal': 1, 'exec_price': 10000.1}\n",
       "2024-01-10 15:10:52.679  {'signal': 1, 'exec_price': 10000.1}\n",
       "2024-01-10 15:32:44.798  {'signal': 1, 'exec_price': 10000.1}\n",
       "2024-01-10 15:59:55.303  {'signal': 1, 'exec_price': 10000.1}\n",
       "2024-01-10 16:09:00.970  {'signal': 1, 'exec_price': 10000.1}\n",
       "2024-01-10 16:12:34.233  {'signal': 1, 'exec_price': 10000.1}\n",
       "2024-01-10 19:04:00.905  {'signal': 1, 'exec_price': 10000.1}\n",
       "2024-01-10 19:44:37.785  {'signal': 1, 'exec_price': 10000.1}\n",
       "2024-01-10 20:06:00.322  {'signal': 1, 'exec_price': 10000.1}"
      ]
     },
     "execution_count": 190,
     "metadata": {},
     "output_type": "execute_result"
    }
   ],
   "source": [
    "S."
   ]
  },
  {
   "cell_type": "code",
   "execution_count": 186,
   "metadata": {},
   "outputs": [
    {
     "data": {
      "text/plain": [
       "True"
      ]
     },
     "execution_count": 186,
     "metadata": {},
     "output_type": "execute_result"
    }
   ],
   "source": [
    "_StructureSniffer()._is_signal(S)"
   ]
  },
  {
   "cell_type": "code",
   "execution_count": 95,
   "metadata": {},
   "outputs": [
    {
     "data": {
      "text/plain": [
       "numpy.datetime64('9999-12-31T23:59:59')"
      ]
     },
     "execution_count": 95,
     "metadata": {},
     "output_type": "execute_result"
    }
   ],
   "source": [
    "s = pd.Timestamp(\"2022-01-01 1:00:00.10020000\").to_datetime64().item() / 1000000000.0\n",
    "min(np.datetime64(int(s * 1000000000), 'ns'), np.datetime64(datetime.max).astype('datetime64[s]'))"
   ]
  },
  {
   "cell_type": "code",
   "execution_count": null,
   "metadata": {},
   "outputs": [],
   "source": [
    "r[0].to_html()"
   ]
  },
  {
   "cell_type": "code",
   "execution_count": 31,
   "metadata": {},
   "outputs": [
    {
     "data": {
      "text/plain": [
       "<Figure size 960x400 with 0 Axes>"
      ]
     },
     "metadata": {},
     "output_type": "display_data"
    }
   ],
   "source": [
    "r[0].to_file(\"Test2\")"
   ]
  },
  {
   "cell_type": "code",
   "execution_count": 33,
   "metadata": {},
   "outputs": [
    {
     "data": {
      "text/plain": [
       "'2024-12-19 15:35:56.545740'"
      ]
     },
     "execution_count": 33,
     "metadata": {},
     "output_type": "execute_result"
    }
   ],
   "source": [
    "str(r[0].creation_time)"
   ]
  },
  {
   "cell_type": "code",
   "execution_count": null,
   "metadata": {},
   "outputs": [],
   "source": [
    "tearsheet(r[0], plot_leverage=1)"
   ]
  }
 ],
 "metadata": {
  "kernelspec": {
   "display_name": ".venv",
   "language": "python",
   "name": "python3"
  },
  "language_info": {
   "codemirror_mode": {
    "name": "ipython",
    "version": 3
   },
   "file_extension": ".py",
   "mimetype": "text/x-python",
   "name": "python",
   "nbconvert_exporter": "python",
   "pygments_lexer": "ipython3",
   "version": "3.11.8"
  }
 },
 "nbformat": 4,
 "nbformat_minor": 2
}
