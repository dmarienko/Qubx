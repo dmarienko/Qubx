{
 "cells": [
  {
   "cell_type": "code",
   "execution_count": 1,
   "metadata": {},
   "outputs": [
    {
     "name": "stdout",
     "output_type": "stream",
     "text": [
      " >  [\u001b[32mdev\u001b[0m] \u001b[31minstalling cython rebuilding hook\u001b[0m\n",
      "\n",
      "⠀⠀⡰⡖⠒⠒⢒⢦⠀⠀   \n",
      "⠀⢠⠃⠈⢆⣀⣎⣀⣱⡀  \u001b[31mQUBX\u001b[0m | \u001b[36mQuantitative Backtesting Environment\u001b[0m \n",
      "⠀⢳⠒⠒⡞⠚⡄⠀⡰⠁         (c) 2024, ver. \u001b[35mDev\u001b[0m\n",
      "⠀⠀⠱⣜⣀⣀⣈⣦⠃⠀⠀⠀ \n",
      "        \n"
     ]
    },
    {
     "data": {
      "text/html": [
       "<style> .cell-output-ipywidget-background { background-color: transparent !important; } :root { --jp-widgets-color: var(--vscode-editor-foreground); --jp-widgets-font-size: var(--vscode-editor-font-size); } </style>"
      ],
      "text/plain": [
       "<IPython.core.display.HTML object>"
      ]
     },
     "metadata": {},
     "output_type": "display_data"
    }
   ],
   "source": [
    "import sys, os, re\n",
    "from typing import *\n",
    "sys.path = ([\"../src/\", \"../\"] if re.match(r\"^(\\w\\:\\\\)|(/)\", os.getcwd()) else []) + sys.path\n",
    "import qubx\n",
    "%qubxd dev \n",
    "\n",
    "%load_ext autoreload\n",
    "%autoreload 2\n",
    "\n",
    "from qubx import lookup, logger\n",
    "from qubx.core.basics import Subtype, Instrument, Signal\n",
    "from qubx.core.interfaces import IStrategy, IStrategyContext, TriggerEvent\n",
    "from qubx.core.metrics import tearsheet, chart_signals\n",
    "from qubx.pandaz.utils import *\n",
    "import qubx.ta.indicators as ta\n",
    "\n",
    "# - - - - - - - - - - - - - - - - - - - - - - - -\n",
    "from qubx.data.helpers import loader\n",
    "from qubx.backtester.simulated_data import IteratedDataStreamsSlicer, IterableSimulationData\n",
    "from qubx.core.mixins.subscription import SubscriptionManager\n",
    "\n",
    "from qubx.backtester.simulator import simulate, SimulatedTrading, SimulatedExchange, find_instruments_and_exchanges\n",
    "\n",
    "ld = loader(\"BINANCE.UM\", \"1h\", source=\"csv::../tests/data/csv_1h\", n_jobs=1)"
   ]
  },
  {
   "cell_type": "markdown",
   "metadata": {},
   "source": [
    "### Current approach "
   ]
  },
  {
   "cell_type": "code",
   "execution_count": 2,
   "metadata": {},
   "outputs": [],
   "source": [
    "class TestA(IStrategy):\n",
    "    timeframe: str = \"15Min\"\n",
    "    exchange = 'BINANCE.UM'\n",
    "\n",
    "    def on_init(self, ctx: IStrategyContext):\n",
    "        ctx.set_base_subscription(Subtype.OHLC[self.timeframe])\n",
    "        ctx.set_event_schedule(\"55 23 * * *\")\n",
    "        ctx.set_fit_schedule(\"50 23 * * 1\")\n",
    "        self._idx = 0\n",
    "        self._to_test = [\n",
    "            [self.find_instrument(s) for s in [\"BTCUSDT\", \"ETHUSDT\"]],\n",
    "            [self.find_instrument(s) for s in [\"BTCUSDT\", \"BCHUSDT\", \"LTCUSDT\"]],\n",
    "            [self.find_instrument(s) for s in [\"BTCUSDT\", \"AAVEUSDT\", \"ETHUSDT\"]],\n",
    "            [self.find_instrument(s) for s in [\"BCHUSDT\"]],\n",
    "        ]\n",
    "\n",
    "    def on_fit(self, ctx: IStrategyContext):\n",
    "        logger.info(f\" -> subscribe : {self.lst(self._to_test[self._idx])}\")\n",
    "        ctx.set_universe(self._to_test[self._idx])\n",
    "        self._idx += 1\n",
    "        if self._idx >= len(self._to_test):\n",
    "            self._idx = 0 \n",
    "\n",
    "    def on_event(self, ctx: IStrategyContext, event: TriggerEvent) -> Optional[List[Signal]]:\n",
    "        s = []\n",
    "        logger.info(f\"Trig: {self.lst(ctx.instruments)} --> {str({i.symbol: ctx.quote(i) for i in ctx.instruments})}\")\n",
    "        if 0:\n",
    "            for i in ctx.instruments:\n",
    "                data = ctx.ohlc(i, self.timeframe)\n",
    "                s1 = ta.kama(data.close, 36) - ta.kama(data.close, 12)\n",
    "                if len(s1) > 1:\n",
    "                    if s1[1] < 0 and s1[0] > 0:\n",
    "                        logger.info(f\"BUY: {i}\")\n",
    "                        s.append(ctx.instruments[0].signal(+1))\n",
    "\n",
    "                    if s1[1] > 0 and s1[0] < 0:\n",
    "                        logger.info(f\"SELL: {i}\")\n",
    "                        s.append(i.signal(-1))\n",
    "        return s\n",
    "\n",
    "    def find_instrument(self, symbol: str) -> Instrument:\n",
    "        return lookup.find_symbol(self.exchange, symbol) # type: ignore\n",
    "\n",
    "    def lst(self, instrs: list[Instrument]):\n",
    "        return ','.join(map(lambda x: x.symbol, instrs))\n"
   ]
  },
  {
   "cell_type": "code",
   "execution_count": 3,
   "metadata": {},
   "outputs": [
    {
     "name": "stdout",
     "output_type": "stream",
     "text": [
      "\u001b[32m2024-12-09 13:44:52.026\u001b[0m [ \u001b[34m\u001b[1m🐞\u001b[0m ] \u001b[36m(helpers)\u001b[0m \u001b[34m\u001b[1m\u001b[33mTestA\u001b[0m\u001b[34m\u001b[1m new parameters:\n",
      "\tset \u001b[32mtimeframe\u001b[0m\u001b[34m\u001b[1m <- \u001b[31m1h\u001b[0m\u001b[34m\u001b[1m\u001b[0m\n"
     ]
    },
    {
     "name": "stdout",
     "output_type": "stream",
     "text": [
      "\u001b[32m2024-12-09 13:44:52.037\u001b[0m [ \u001b[34m\u001b[1m🐞\u001b[0m ] \u001b[36m(simulator)\u001b[0m \u001b[34m\u001b[1m\u001b[31m2023-07-01 00:00:00\u001b[0m\u001b[34m\u001b[1m Initiating simulated trading for binance.um for 1000 x 1.0 in USDT...\u001b[0m\n",
      "\u001b[96m2023-07-01 00:00:00.000\u001b[0m [\u001b[1mℹ️\u001b[0m] \u001b[1mSimulatedExchange.binance.um is initialized\u001b[0m\n",
      "\u001b[96m2023-07-01 00:00:00.000\u001b[0m [\u001b[34m\u001b[1m🐞\u001b[0m] \u001b[34m\u001b[1m | get_subscribed_instruments __all__ -> []\u001b[0m\n",
      "\u001b[96m2023-07-01 00:00:00.000\u001b[0m [\u001b[34m\u001b[1m🐞\u001b[0m] \u001b[34m\u001b[1m | get_subscriptions None -> []\u001b[0m\n",
      "\u001b[96m2023-07-01 00:00:00.000\u001b[0m [\u001b[34m\u001b[1m🐞\u001b[0m] \u001b[34m\u001b[1m | get_subscribed_instruments ohlc(1h) -> []\u001b[0m\n",
      "\u001b[96m2023-07-01 00:00:00.000\u001b[0m [\u001b[34m\u001b[1m🐞\u001b[0m] \u001b[34m\u001b[1m | get_subscribed_instruments None -> []\u001b[0m\n",
      "\u001b[96m2023-07-01 00:00:00.000\u001b[0m [\u001b[34m\u001b[1m🐞\u001b[0m] \u001b[34m\u001b[1m | get_subscribed_instruments ohlc(1h) -> []\u001b[0m\n",
      "\u001b[96m2023-07-01 00:00:00.000\u001b[0m [\u001b[34m\u001b[1m🐞\u001b[0m] \u001b[34m\u001b[1m | subscribe: ohlc(1h) -> {BINANCE.UM:SWAP:BTCUSDT}\u001b[0m\n",
      "\u001b[96m2023-07-01 00:00:00.000\u001b[0m [\u001b[1mℹ️\u001b[0m] \u001b[1mSimulatedExchange ::: Simulation started at 2023-07-01 :::\u001b[0m\n"
     ]
    },
    {
     "data": {
      "application/vnd.jupyter.widget-view+json": {
       "model_id": "861270edb116411c962135e31c38ff11",
       "version_major": 2,
       "version_minor": 0
      },
      "text/plain": [
       "Simulating:   0%|          | 0/100 [00:00<?, ?%/s]"
      ]
     },
     "metadata": {},
     "output_type": "display_data"
    },
    {
     "name": "stdout",
     "output_type": "stream",
     "text": [
      "\u001b[96m2023-07-01 00:00:00.000\u001b[0m [\u001b[34m\u001b[1m🐞\u001b[0m] \u001b[34m\u001b[1mPreloading initial data for ohlc.1h 2023-07-01 00:00:00 : 2023-07-30 00:00:00 ...\u001b[0m\n",
      "\u001b[96m2023-07-01 00:00:00.000\u001b[0m [\u001b[34m\u001b[1m🐞\u001b[0m] \u001b[34m\u001b[1m(InMemoryCachedReader) Loading all data 2023-07-01 00:00:00 - 2023-07-30 00:00:00 for BTCUSDT \u001b[0m\n",
      "\u001b[96m2023-07-01 00:00:01.000\u001b[0m [\u001b[34m\u001b[1m🐞\u001b[0m] \u001b[34m\u001b[1mInvoking \u001b[32mTestA\u001b[0m\u001b[34m\u001b[1m on_fit\u001b[0m\n",
      "\u001b[96m2023-07-01 00:00:01.000\u001b[0m [\u001b[1mℹ️\u001b[0m] \u001b[1m -> subscribe : BTCUSDT,ETHUSDT\u001b[0m\n",
      "\u001b[96m2023-07-01 00:00:01.000\u001b[0m [\u001b[34m\u001b[1m🐞\u001b[0m] \u001b[34m\u001b[1m | get_subscribed_instruments __all__ -> [BINANCE.UM:SWAP:BTCUSDT]\u001b[0m\n",
      "\u001b[96m2023-07-01 00:00:01.000\u001b[0m [\u001b[34m\u001b[1m🐞\u001b[0m] \u001b[34m\u001b[1m | get_subscriptions None -> ['ohlc(1h)']\u001b[0m\n",
      "\u001b[96m2023-07-01 00:00:01.000\u001b[0m [\u001b[34m\u001b[1m🐞\u001b[0m] \u001b[34m\u001b[1m | get_subscribed_instruments ohlc(1h) -> [BINANCE.UM:SWAP:BTCUSDT]\u001b[0m\n",
      "\u001b[96m2023-07-01 00:00:01.000\u001b[0m [\u001b[34m\u001b[1m🐞\u001b[0m] \u001b[34m\u001b[1m | get_subscribed_instruments None -> [BINANCE.UM:SWAP:BTCUSDT]\u001b[0m\n",
      "\u001b[96m2023-07-01 00:00:01.000\u001b[0m [\u001b[34m\u001b[1m🐞\u001b[0m] \u001b[34m\u001b[1m | get_subscribed_instruments ohlc(1h) -> [BINANCE.UM:SWAP:BTCUSDT]\u001b[0m\n",
      "\u001b[96m2023-07-01 00:00:01.000\u001b[0m [\u001b[34m\u001b[1m🐞\u001b[0m] \u001b[34m\u001b[1m | subscribe: ohlc(1h) -> {BINANCE.UM:SWAP:ETHUSDT, BINANCE.UM:SWAP:BTCUSDT}\u001b[0m\n",
      "\u001b[96m2023-07-01 00:00:01.000\u001b[0m [\u001b[34m\u001b[1m🐞\u001b[0m] \u001b[34m\u001b[1m(InMemoryCachedReader) Loading all data 2023-07-01 00:00:00 - 2023-07-30 00:00:00 for ETHUSDT \u001b[0m\n",
      "\u001b[96m2023-07-01 00:00:01.000\u001b[0m [\u001b[34m\u001b[1m🐞\u001b[0m] \u001b[34m\u001b[1m\u001b[32mTestA\u001b[0m\u001b[34m\u001b[1m is fitted\u001b[0m\n",
      "\u001b[96m2023-07-01 23:59:59.000\u001b[0m [\u001b[1mℹ️\u001b[0m] \u001b[1mTrig: BTCUSDT,ETHUSDT --> {'BTCUSDT': [2023-07-01T23:59:59.000000000]\t30573.55000 (0.0) | 30573.65000 (0.0), 'ETHUSDT': [2023-07-01T23:36:00.000000000]\t1924.99500 (0.0) | 1925.00500 (0.0)}\u001b[0m\n",
      "\u001b[96m2023-07-02 23:59:59.000\u001b[0m [\u001b[1mℹ️\u001b[0m] \u001b[1mTrig: BTCUSDT,ETHUSDT --> {'BTCUSDT': [2023-07-02T23:59:59.000000000]\t30612.65000 (0.0) | 30612.75000 (0.0), 'ETHUSDT': [2023-07-02T23:36:00.000000000]\t1930.19500 (0.0) | 1930.20500 (0.0)}\u001b[0m\n",
      "\u001b[96m2023-07-03 23:59:59.000\u001b[0m [\u001b[34m\u001b[1m🐞\u001b[0m] \u001b[34m\u001b[1mInvoking \u001b[32mTestA\u001b[0m\u001b[34m\u001b[1m on_fit\u001b[0m\n",
      "\u001b[96m2023-07-03 23:59:59.000\u001b[0m [\u001b[1mℹ️\u001b[0m] \u001b[1m -> subscribe : BTCUSDT,BCHUSDT,LTCUSDT\u001b[0m\n",
      "\u001b[96m2023-07-03 23:59:59.000\u001b[0m [\u001b[34m\u001b[1m🐞\u001b[0m] \u001b[34m\u001b[1m | get_subscribed_instruments __all__ -> [BINANCE.UM:SWAP:BTCUSDT, BINANCE.UM:SWAP:ETHUSDT]\u001b[0m\n",
      "\u001b[96m2023-07-03 23:59:59.000\u001b[0m [\u001b[34m\u001b[1m🐞\u001b[0m] \u001b[34m\u001b[1m | get_subscriptions None -> ['ohlc(1h)']\u001b[0m\n",
      "\u001b[96m2023-07-03 23:59:59.000\u001b[0m [\u001b[34m\u001b[1m🐞\u001b[0m] \u001b[34m\u001b[1m | get_subscribed_instruments ohlc(1h) -> [BINANCE.UM:SWAP:BTCUSDT, BINANCE.UM:SWAP:ETHUSDT]\u001b[0m\n",
      "\u001b[96m2023-07-03 23:59:59.000\u001b[0m [\u001b[34m\u001b[1m🐞\u001b[0m] \u001b[34m\u001b[1m | get_subscriptions None -> ['ohlc(1h)']\u001b[0m\n",
      "\u001b[96m2023-07-03 23:59:59.000\u001b[0m [\u001b[34m\u001b[1m🐞\u001b[0m] \u001b[34m\u001b[1m | get_subscribed_instruments None -> [BINANCE.UM:SWAP:BTCUSDT, BINANCE.UM:SWAP:ETHUSDT]\u001b[0m\n",
      "\u001b[96m2023-07-03 23:59:59.000\u001b[0m [\u001b[34m\u001b[1m🐞\u001b[0m] \u001b[34m\u001b[1m | get_subscribed_instruments ohlc(1h) -> [BINANCE.UM:SWAP:BTCUSDT, BINANCE.UM:SWAP:ETHUSDT]\u001b[0m\n",
      "\u001b[96m2023-07-03 23:59:59.000\u001b[0m [\u001b[34m\u001b[1m🐞\u001b[0m] \u001b[34m\u001b[1m | subscribe: ohlc(1h) -> {BINANCE.UM:SWAP:BTCUSDT, BINANCE.UM:SWAP:BCHUSDT, BINANCE.UM:SWAP:LTCUSDT}\u001b[0m\n",
      "\u001b[96m2023-07-03 23:59:59.000\u001b[0m [\u001b[34m\u001b[1m🐞\u001b[0m] \u001b[34m\u001b[1m(InMemoryCachedReader) Loading all data 2023-07-01 00:00:00 - 2023-07-30 00:00:00 for BCHUSDT \u001b[0m\n",
      "\u001b[96m2023-07-03 23:59:59.000\u001b[0m [\u001b[34m\u001b[1m🐞\u001b[0m] \u001b[34m\u001b[1m(InMemoryCachedReader) Loading all data 2023-07-01 00:00:00 - 2023-07-30 00:00:00 for LTCUSDT \u001b[0m\n",
      "\u001b[96m2023-07-03 23:59:59.000\u001b[0m [\u001b[34m\u001b[1m🐞\u001b[0m] \u001b[34m\u001b[1m | unsubscribe: ohlc(1h) -> {BINANCE.UM:SWAP:ETHUSDT}\u001b[0m\n",
      "\u001b[96m2023-07-03 23:59:59.000\u001b[0m [\u001b[34m\u001b[1m🐞\u001b[0m] \u001b[34m\u001b[1m\u001b[32mTestA\u001b[0m\u001b[34m\u001b[1m is fitted\u001b[0m\n",
      "\u001b[96m2023-07-03 23:59:59.000\u001b[0m [\u001b[1mℹ️\u001b[0m] \u001b[1mTrig: BTCUSDT,BCHUSDT,LTCUSDT --> {'BTCUSDT': [2023-07-03T23:59:59.000000000]\t31148.95000 (0.0) | 31149.05000 (0.0), 'BCHUSDT': None, 'LTCUSDT': None}\u001b[0m\n",
      "\u001b[96m2023-07-04 23:59:59.000\u001b[0m [\u001b[1mℹ️\u001b[0m] \u001b[1mTrig: BTCUSDT,BCHUSDT,LTCUSDT --> {'BTCUSDT': [2023-07-04T23:59:59.000000000]\t30756.05000 (0.0) | 30756.15000 (0.0), 'BCHUSDT': [2023-07-04T23:36:00.000000000]\t270.94500 (0.0) | 270.95500 (0.0), 'LTCUSDT': [2023-07-04T23:36:00.000000000]\t104.10500 (0.0) | 104.11500 (0.0)}\u001b[0m\n",
      "\u001b[96m2023-07-05 23:59:59.000\u001b[0m [\u001b[1mℹ️\u001b[0m] \u001b[1mTrig: BTCUSDT,BCHUSDT,LTCUSDT --> {'BTCUSDT': [2023-07-05T23:59:59.000000000]\t30488.35000 (0.0) | 30488.45000 (0.0), 'BCHUSDT': [2023-07-05T23:36:00.000000000]\t273.51500 (0.0) | 273.52500 (0.0), 'LTCUSDT': [2023-07-05T23:36:00.000000000]\t102.99500 (0.0) | 103.00500 (0.0)}\u001b[0m\n",
      "\u001b[96m2023-07-06 23:59:59.000\u001b[0m [\u001b[1mℹ️\u001b[0m] \u001b[1mTrig: BTCUSDT,BCHUSDT,LTCUSDT --> {'BTCUSDT': [2023-07-06T23:59:59.000000000]\t29874.35000 (0.0) | 29874.45000 (0.0), 'BCHUSDT': [2023-07-06T23:36:00.000000000]\t272.25500 (0.0) | 272.26500 (0.0), 'LTCUSDT': [2023-07-06T23:36:00.000000000]\t95.10500 (0.0) | 95.11500 (0.0)}\u001b[0m\n",
      "\u001b[96m2023-07-07 23:59:59.000\u001b[0m [\u001b[1mℹ️\u001b[0m] \u001b[1mTrig: BTCUSDT,BCHUSDT,LTCUSDT --> {'BTCUSDT': [2023-07-07T23:59:59.000000000]\t30327.85000 (0.0) | 30327.95000 (0.0), 'BCHUSDT': [2023-07-07T23:36:00.000000000]\t279.64500 (0.0) | 279.65500 (0.0), 'LTCUSDT': [2023-07-07T23:36:00.000000000]\t97.79500 (0.0) | 97.80500 (0.0)}\u001b[0m\n",
      "\u001b[96m2023-07-08 23:59:59.000\u001b[0m [\u001b[1mℹ️\u001b[0m] \u001b[1mTrig: BTCUSDT,BCHUSDT,LTCUSDT --> {'BTCUSDT': [2023-07-08T23:59:59.000000000]\t30269.25000 (0.0) | 30269.35000 (0.0), 'BCHUSDT': [2023-07-08T23:36:00.000000000]\t273.08500 (0.0) | 273.09500 (0.0), 'LTCUSDT': [2023-07-08T23:36:00.000000000]\t97.88500 (0.0) | 97.89500 (0.0)}\u001b[0m\n",
      "\u001b[96m2023-07-09 23:59:59.000\u001b[0m [\u001b[1mℹ️\u001b[0m] \u001b[1mTrig: BTCUSDT,BCHUSDT,LTCUSDT --> {'BTCUSDT': [2023-07-09T23:59:59.000000000]\t30147.75000 (0.0) | 30147.85000 (0.0), 'BCHUSDT': [2023-07-09T23:36:00.000000000]\t263.94500 (0.0) | 263.95500 (0.0), 'LTCUSDT': [2023-07-09T23:36:00.000000000]\t93.84500 (0.0) | 93.85500 (0.0)}\u001b[0m\n",
      "\u001b[96m2023-07-10 23:59:59.000\u001b[0m [\u001b[34m\u001b[1m🐞\u001b[0m] \u001b[34m\u001b[1mInvoking \u001b[32mTestA\u001b[0m\u001b[34m\u001b[1m on_fit\u001b[0m\n",
      "\u001b[96m2023-07-10 23:59:59.000\u001b[0m [\u001b[1mℹ️\u001b[0m] \u001b[1m -> subscribe : BTCUSDT,AAVEUSDT,ETHUSDT\u001b[0m\n",
      "\u001b[96m2023-07-10 23:59:59.000\u001b[0m [\u001b[34m\u001b[1m🐞\u001b[0m] \u001b[34m\u001b[1m | get_subscribed_instruments __all__ -> [BINANCE.UM:SWAP:BTCUSDT, BINANCE.UM:SWAP:BCHUSDT, BINANCE.UM:SWAP:LTCUSDT]\u001b[0m\n",
      "\u001b[96m2023-07-10 23:59:59.000\u001b[0m [\u001b[34m\u001b[1m🐞\u001b[0m] \u001b[34m\u001b[1m | get_subscriptions None -> ['ohlc(1h)']\u001b[0m\n",
      "\u001b[96m2023-07-10 23:59:59.000\u001b[0m [\u001b[34m\u001b[1m🐞\u001b[0m] \u001b[34m\u001b[1m | get_subscribed_instruments ohlc(1h) -> [BINANCE.UM:SWAP:BTCUSDT, BINANCE.UM:SWAP:BCHUSDT, BINANCE.UM:SWAP:LTCUSDT]\u001b[0m\n",
      "\u001b[96m2023-07-10 23:59:59.000\u001b[0m [\u001b[34m\u001b[1m🐞\u001b[0m] \u001b[34m\u001b[1m | get_subscriptions None -> ['ohlc(1h)']\u001b[0m\n",
      "\u001b[96m2023-07-10 23:59:59.000\u001b[0m [\u001b[34m\u001b[1m🐞\u001b[0m] \u001b[34m\u001b[1m | get_subscriptions None -> ['ohlc(1h)']\u001b[0m\n",
      "\u001b[96m2023-07-10 23:59:59.000\u001b[0m [\u001b[34m\u001b[1m🐞\u001b[0m] \u001b[34m\u001b[1m | get_subscribed_instruments None -> [BINANCE.UM:SWAP:BTCUSDT, BINANCE.UM:SWAP:BCHUSDT, BINANCE.UM:SWAP:LTCUSDT]\u001b[0m\n",
      "\u001b[96m2023-07-10 23:59:59.000\u001b[0m [\u001b[34m\u001b[1m🐞\u001b[0m] \u001b[34m\u001b[1m | get_subscribed_instruments ohlc(1h) -> [BINANCE.UM:SWAP:BTCUSDT, BINANCE.UM:SWAP:BCHUSDT, BINANCE.UM:SWAP:LTCUSDT]\u001b[0m\n",
      "\u001b[96m2023-07-10 23:59:59.000\u001b[0m [\u001b[34m\u001b[1m🐞\u001b[0m] \u001b[34m\u001b[1m | subscribe: ohlc(1h) -> {BINANCE.UM:SWAP:AAVEUSDT, BINANCE.UM:SWAP:ETHUSDT, BINANCE.UM:SWAP:BTCUSDT}\u001b[0m\n",
      "\u001b[96m2023-07-10 23:59:59.000\u001b[0m [\u001b[34m\u001b[1m🐞\u001b[0m] \u001b[34m\u001b[1m(InMemoryCachedReader) Loading all data 2023-07-01 00:00:00 - 2023-07-30 00:00:00 for AAVEUSDT \u001b[0m\n",
      "\u001b[96m2023-07-10 23:59:59.000\u001b[0m [\u001b[34m\u001b[1m🐞\u001b[0m] \u001b[34m\u001b[1m | unsubscribe: ohlc(1h) -> {BINANCE.UM:SWAP:LTCUSDT, BINANCE.UM:SWAP:BCHUSDT}\u001b[0m\n",
      "\u001b[96m2023-07-10 23:59:59.000\u001b[0m [\u001b[34m\u001b[1m🐞\u001b[0m] \u001b[34m\u001b[1m\u001b[32mTestA\u001b[0m\u001b[34m\u001b[1m is fitted\u001b[0m\n",
      "\u001b[96m2023-07-10 23:59:59.000\u001b[0m [\u001b[1mℹ️\u001b[0m] \u001b[1mTrig: BTCUSDT,AAVEUSDT,ETHUSDT --> {'BTCUSDT': [2023-07-10T23:59:59.000000000]\t30396.85000 (0.0) | 30396.95000 (0.0), 'AAVEUSDT': None, 'ETHUSDT': [2023-07-03T23:36:00.000000000]\t1955.55500 (0.0) | 1955.56500 (0.0)}\u001b[0m\n",
      "\u001b[96m2023-07-11 23:59:59.000\u001b[0m [\u001b[1mℹ️\u001b[0m] \u001b[1mTrig: BTCUSDT,AAVEUSDT,ETHUSDT --> {'BTCUSDT': [2023-07-11T23:59:59.000000000]\t30608.35000 (0.0) | 30608.45000 (0.0), 'AAVEUSDT': [2023-07-11T23:36:00.000000000]\t73.66500 (0.0) | 73.67500 (0.0), 'ETHUSDT': [2023-07-11T23:36:00.000000000]\t1876.08500 (0.0) | 1876.09500 (0.0)}\u001b[0m\n",
      "\u001b[96m2023-07-12 23:59:59.000\u001b[0m [\u001b[1mℹ️\u001b[0m] \u001b[1mTrig: BTCUSDT,AAVEUSDT,ETHUSDT --> {'BTCUSDT': [2023-07-12T23:59:59.000000000]\t30368.85000 (0.0) | 30368.95000 (0.0), 'AAVEUSDT': [2023-07-12T23:36:00.000000000]\t76.81500 (0.0) | 76.82500 (0.0), 'ETHUSDT': [2023-07-12T23:36:00.000000000]\t1873.25500 (0.0) | 1873.26500 (0.0)}\u001b[0m\n",
      "\u001b[96m2023-07-13 23:59:59.000\u001b[0m [\u001b[1mℹ️\u001b[0m] \u001b[1mTrig: BTCUSDT,AAVEUSDT,ETHUSDT --> {'BTCUSDT': [2023-07-13T23:59:59.000000000]\t31441.65000 (0.0) | 31441.75000 (0.0), 'AAVEUSDT': [2023-07-13T23:36:00.000000000]\t79.35500 (0.0) | 79.36500 (0.0), 'ETHUSDT': [2023-07-13T23:36:00.000000000]\t2010.53500 (0.0) | 2010.54500 (0.0)}\u001b[0m\n",
      "\u001b[96m2023-07-14 23:59:59.000\u001b[0m [\u001b[1mℹ️\u001b[0m] \u001b[1mTrig: BTCUSDT,AAVEUSDT,ETHUSDT --> {'BTCUSDT': [2023-07-14T23:59:59.000000000]\t30293.25000 (0.0) | 30293.35000 (0.0), 'AAVEUSDT': [2023-07-14T23:36:00.000000000]\t81.48500 (0.0) | 81.49500 (0.0), 'ETHUSDT': [2023-07-14T23:36:00.000000000]\t1937.19500 (0.0) | 1937.20500 (0.0)}\u001b[0m\n",
      "\u001b[96m2023-07-15 23:59:59.000\u001b[0m [\u001b[1mℹ️\u001b[0m] \u001b[1mTrig: BTCUSDT,AAVEUSDT,ETHUSDT --> {'BTCUSDT': [2023-07-15T23:59:59.000000000]\t30276.35000 (0.0) | 30276.45000 (0.0), 'AAVEUSDT': [2023-07-15T23:36:00.000000000]\t78.99500 (0.0) | 79.00500 (0.0), 'ETHUSDT': [2023-07-15T23:36:00.000000000]\t1930.57500 (0.0) | 1930.58500 (0.0)}\u001b[0m\n",
      "\u001b[96m2023-07-16 23:59:59.000\u001b[0m [\u001b[1mℹ️\u001b[0m] \u001b[1mTrig: BTCUSDT,AAVEUSDT,ETHUSDT --> {'BTCUSDT': [2023-07-16T23:59:59.000000000]\t30216.75000 (0.0) | 30216.85000 (0.0), 'AAVEUSDT': [2023-07-16T23:36:00.000000000]\t76.13500 (0.0) | 76.14500 (0.0), 'ETHUSDT': [2023-07-16T23:36:00.000000000]\t1915.16500 (0.0) | 1915.17500 (0.0)}\u001b[0m\n",
      "\u001b[96m2023-07-17 23:59:59.000\u001b[0m [\u001b[34m\u001b[1m🐞\u001b[0m] \u001b[34m\u001b[1mInvoking \u001b[32mTestA\u001b[0m\u001b[34m\u001b[1m on_fit\u001b[0m\n",
      "\u001b[96m2023-07-17 23:59:59.000\u001b[0m [\u001b[1mℹ️\u001b[0m] \u001b[1m -> subscribe : BCHUSDT\u001b[0m\n",
      "\u001b[96m2023-07-17 23:59:59.000\u001b[0m [\u001b[34m\u001b[1m🐞\u001b[0m] \u001b[34m\u001b[1m | get_subscribed_instruments __all__ -> [BINANCE.UM:SWAP:BTCUSDT, BINANCE.UM:SWAP:AAVEUSDT, BINANCE.UM:SWAP:ETHUSDT]\u001b[0m\n",
      "\u001b[96m2023-07-17 23:59:59.000\u001b[0m [\u001b[34m\u001b[1m🐞\u001b[0m] \u001b[34m\u001b[1m | get_subscriptions None -> ['ohlc(1h)']\u001b[0m\n",
      "\u001b[96m2023-07-17 23:59:59.000\u001b[0m [\u001b[34m\u001b[1m🐞\u001b[0m] \u001b[34m\u001b[1m | get_subscribed_instruments ohlc(1h) -> [BINANCE.UM:SWAP:BTCUSDT, BINANCE.UM:SWAP:AAVEUSDT, BINANCE.UM:SWAP:ETHUSDT]\u001b[0m\n",
      "\u001b[96m2023-07-17 23:59:59.000\u001b[0m [\u001b[34m\u001b[1m🐞\u001b[0m] \u001b[34m\u001b[1m | get_subscriptions None -> ['ohlc(1h)']\u001b[0m\n",
      "\u001b[96m2023-07-17 23:59:59.000\u001b[0m [\u001b[34m\u001b[1m🐞\u001b[0m] \u001b[34m\u001b[1m | get_subscriptions None -> ['ohlc(1h)']\u001b[0m\n",
      "\u001b[96m2023-07-17 23:59:59.000\u001b[0m [\u001b[34m\u001b[1m🐞\u001b[0m] \u001b[34m\u001b[1m | get_subscriptions None -> ['ohlc(1h)']\u001b[0m\n",
      "\u001b[96m2023-07-17 23:59:59.000\u001b[0m [\u001b[34m\u001b[1m🐞\u001b[0m] \u001b[34m\u001b[1m | get_subscribed_instruments None -> [BINANCE.UM:SWAP:BTCUSDT, BINANCE.UM:SWAP:AAVEUSDT, BINANCE.UM:SWAP:ETHUSDT]\u001b[0m\n",
      "\u001b[96m2023-07-17 23:59:59.000\u001b[0m [\u001b[34m\u001b[1m🐞\u001b[0m] \u001b[34m\u001b[1m | get_subscribed_instruments ohlc(1h) -> [BINANCE.UM:SWAP:BTCUSDT, BINANCE.UM:SWAP:AAVEUSDT, BINANCE.UM:SWAP:ETHUSDT]\u001b[0m\n",
      "\u001b[96m2023-07-17 23:59:59.000\u001b[0m [\u001b[34m\u001b[1m🐞\u001b[0m] \u001b[34m\u001b[1m | subscribe: ohlc(1h) -> {BINANCE.UM:SWAP:BCHUSDT}\u001b[0m\n",
      "\u001b[96m2023-07-17 23:59:59.000\u001b[0m [\u001b[34m\u001b[1m🐞\u001b[0m] \u001b[34m\u001b[1m | unsubscribe: ohlc(1h) -> {BINANCE.UM:SWAP:AAVEUSDT, BINANCE.UM:SWAP:ETHUSDT, BINANCE.UM:SWAP:BTCUSDT}\u001b[0m\n",
      "\u001b[96m2023-07-17 23:59:59.000\u001b[0m [\u001b[34m\u001b[1m🐞\u001b[0m] \u001b[34m\u001b[1m\u001b[32mTestA\u001b[0m\u001b[34m\u001b[1m is fitted\u001b[0m\n",
      "\u001b[96m2023-07-17 23:59:59.000\u001b[0m [\u001b[1mℹ️\u001b[0m] \u001b[1mTrig: BCHUSDT --> {'BCHUSDT': [2023-07-10T23:36:00.000000000]\t272.40500 (0.0) | 272.41500 (0.0)}\u001b[0m\n",
      "\u001b[96m2023-07-18 23:59:59.000\u001b[0m [\u001b[1mℹ️\u001b[0m] \u001b[1mTrig: BCHUSDT --> {'BCHUSDT': [2023-07-18T23:59:59.000000000]\t243.51500 (0.0) | 243.52500 (0.0)}\u001b[0m\n",
      "\u001b[96m2023-07-19 23:59:59.000\u001b[0m [\u001b[1mℹ️\u001b[0m] \u001b[1mTrig: BCHUSDT --> {'BCHUSDT': [2023-07-19T23:59:59.000000000]\t243.82500 (0.0) | 243.83500 (0.0)}\u001b[0m\n",
      "\u001b[96m2023-07-20 23:59:59.000\u001b[0m [\u001b[1mℹ️\u001b[0m] \u001b[1mTrig: BCHUSDT --> {'BCHUSDT': [2023-07-20T23:59:59.000000000]\t243.96500 (0.0) | 243.97500 (0.0)}\u001b[0m\n",
      "\u001b[96m2023-07-21 23:59:59.000\u001b[0m [\u001b[1mℹ️\u001b[0m] \u001b[1mTrig: BCHUSDT --> {'BCHUSDT': [2023-07-21T23:59:59.000000000]\t246.01500 (0.0) | 246.02500 (0.0)}\u001b[0m\n",
      "\u001b[96m2023-07-22 23:59:59.000\u001b[0m [\u001b[1mℹ️\u001b[0m] \u001b[1mTrig: BCHUSDT --> {'BCHUSDT': [2023-07-22T23:59:59.000000000]\t239.22500 (0.0) | 239.23500 (0.0)}\u001b[0m\n",
      "\u001b[96m2023-07-23 23:59:59.000\u001b[0m [\u001b[1mℹ️\u001b[0m] \u001b[1mTrig: BCHUSDT --> {'BCHUSDT': [2023-07-23T23:59:59.000000000]\t249.28500 (0.0) | 249.29500 (0.0)}\u001b[0m\n",
      "\u001b[96m2023-07-24 23:59:59.000\u001b[0m [\u001b[34m\u001b[1m🐞\u001b[0m] \u001b[34m\u001b[1mInvoking \u001b[32mTestA\u001b[0m\u001b[34m\u001b[1m on_fit\u001b[0m\n",
      "\u001b[96m2023-07-24 23:59:59.000\u001b[0m [\u001b[1mℹ️\u001b[0m] \u001b[1m -> subscribe : BTCUSDT,ETHUSDT\u001b[0m\n",
      "\u001b[96m2023-07-24 23:59:59.000\u001b[0m [\u001b[34m\u001b[1m🐞\u001b[0m] \u001b[34m\u001b[1m | get_subscribed_instruments __all__ -> [BINANCE.UM:SWAP:BCHUSDT]\u001b[0m\n",
      "\u001b[96m2023-07-24 23:59:59.000\u001b[0m [\u001b[34m\u001b[1m🐞\u001b[0m] \u001b[34m\u001b[1m | get_subscriptions None -> ['ohlc(1h)']\u001b[0m\n",
      "\u001b[96m2023-07-24 23:59:59.000\u001b[0m [\u001b[34m\u001b[1m🐞\u001b[0m] \u001b[34m\u001b[1m | get_subscribed_instruments ohlc(1h) -> [BINANCE.UM:SWAP:BCHUSDT]\u001b[0m\n",
      "\u001b[96m2023-07-24 23:59:59.000\u001b[0m [\u001b[34m\u001b[1m🐞\u001b[0m] \u001b[34m\u001b[1m | get_subscriptions None -> ['ohlc(1h)']\u001b[0m\n",
      "\u001b[96m2023-07-24 23:59:59.000\u001b[0m [\u001b[34m\u001b[1m🐞\u001b[0m] \u001b[34m\u001b[1m | get_subscribed_instruments None -> [BINANCE.UM:SWAP:BCHUSDT]\u001b[0m\n",
      "\u001b[96m2023-07-24 23:59:59.000\u001b[0m [\u001b[34m\u001b[1m🐞\u001b[0m] \u001b[34m\u001b[1m | get_subscribed_instruments ohlc(1h) -> [BINANCE.UM:SWAP:BCHUSDT]\u001b[0m\n",
      "\u001b[96m2023-07-24 23:59:59.000\u001b[0m [\u001b[34m\u001b[1m🐞\u001b[0m] \u001b[34m\u001b[1m | subscribe: ohlc(1h) -> {BINANCE.UM:SWAP:ETHUSDT, BINANCE.UM:SWAP:BTCUSDT}\u001b[0m\n",
      "\u001b[96m2023-07-24 23:59:59.000\u001b[0m [\u001b[34m\u001b[1m🐞\u001b[0m] \u001b[34m\u001b[1m | unsubscribe: ohlc(1h) -> {BINANCE.UM:SWAP:BCHUSDT}\u001b[0m\n",
      "\u001b[96m2023-07-24 23:59:59.000\u001b[0m [\u001b[34m\u001b[1m🐞\u001b[0m] \u001b[34m\u001b[1m\u001b[32mTestA\u001b[0m\u001b[34m\u001b[1m is fitted\u001b[0m\n",
      "\u001b[96m2023-07-24 23:59:59.000\u001b[0m [\u001b[1mℹ️\u001b[0m] \u001b[1mTrig: BTCUSDT,ETHUSDT --> {'BTCUSDT': [2023-07-17T23:59:59.000000000]\t30126.05000 (0.0) | 30126.15000 (0.0), 'ETHUSDT': [2023-07-17T23:36:00.000000000]\t1913.04500 (0.0) | 1913.05500 (0.0)}\u001b[0m\n",
      "\u001b[96m2023-07-25 23:59:59.000\u001b[0m [\u001b[1mℹ️\u001b[0m] \u001b[1mTrig: BTCUSDT,ETHUSDT --> {'BTCUSDT': [2023-07-25T23:59:59.000000000]\t29216.25000 (0.0) | 29216.35000 (0.0), 'ETHUSDT': [2023-07-25T23:36:00.000000000]\t1855.87500 (0.0) | 1855.88500 (0.0)}\u001b[0m\n",
      "\u001b[96m2023-07-26 23:59:59.000\u001b[0m [\u001b[1mℹ️\u001b[0m] \u001b[1mTrig: BTCUSDT,ETHUSDT --> {'BTCUSDT': [2023-07-26T23:59:59.000000000]\t29335.95000 (0.0) | 29336.05000 (0.0), 'ETHUSDT': [2023-07-26T23:36:00.000000000]\t1865.99500 (0.0) | 1866.00500 (0.0)}\u001b[0m\n",
      "\u001b[96m2023-07-27 23:59:59.000\u001b[0m [\u001b[1mℹ️\u001b[0m] \u001b[1mTrig: BTCUSDT,ETHUSDT --> {'BTCUSDT': [2023-07-27T23:59:59.000000000]\t29209.65000 (0.0) | 29209.75000 (0.0), 'ETHUSDT': [2023-07-27T23:36:00.000000000]\t1860.82500 (0.0) | 1860.83500 (0.0)}\u001b[0m\n",
      "\u001b[96m2023-07-28 23:59:59.000\u001b[0m [\u001b[1mℹ️\u001b[0m] \u001b[1mTrig: BTCUSDT,ETHUSDT --> {'BTCUSDT': [2023-07-28T23:59:59.000000000]\t29299.85000 (0.0) | 29299.95000 (0.0), 'ETHUSDT': [2023-07-28T23:36:00.000000000]\t1873.32500 (0.0) | 1873.33500 (0.0)}\u001b[0m\n",
      "\u001b[96m2023-07-29 23:59:59.000\u001b[0m [\u001b[1mℹ️\u001b[0m] \u001b[1mTrig: BTCUSDT,ETHUSDT --> {'BTCUSDT': [2023-07-29T23:59:59.000000000]\t29339.05000 (0.0) | 29339.15000 (0.0), 'ETHUSDT': [2023-07-29T23:36:00.000000000]\t1881.58500 (0.0) | 1881.59500 (0.0)}\u001b[0m\n",
      "\u001b[96m2023-07-30 00:59:59.000\u001b[0m [\u001b[1mℹ️\u001b[0m] \u001b[1mSimulatedExchange ::: Simulation finished at 2023-07-30 00:00:00 :::\u001b[0m\n"
     ]
    }
   ],
   "source": [
    "r = simulate(\n",
    "   {'A': TestA(timeframe=\"1h\")}, ld, 1000, \n",
    "   ['BINANCE.UM:BTCUSDT'],\n",
    "   # ['BINANCE.UM:BTCUSDT', 'BINANCE.UM:ETHUSDT', 'BINANCE.UM:LTCUSDT', 'BINANCE.UM:AAVEUSDT'],\n",
    "   \"vip0_usdt\", \"2023-07-01\", \"2023-07-30\", debug=\"DEBUG\"\n",
    ")"
   ]
  },
  {
   "cell_type": "code",
   "execution_count": null,
   "metadata": {},
   "outputs": [],
   "source": [
    "tearsheet(r, False, use_plotly=False)"
   ]
  },
  {
   "cell_type": "code",
   "execution_count": null,
   "metadata": {},
   "outputs": [],
   "source": [
    "# chart_signals(r[0], 'BTCUSDT', ld[['BTCUSDT']], show_signals=True)"
   ]
  },
  {
   "cell_type": "markdown",
   "metadata": {},
   "source": [
    "### - What we want to have -"
   ]
  },
  {
   "cell_type": "code",
   "execution_count": 4,
   "metadata": {},
   "outputs": [],
   "source": [
    "class TestB(IStrategy):\n",
    "    timeframe: str = \"15Min\"\n",
    "\n",
    "    def on_event(self, ctx: IStrategyContext, event: TriggerEvent) -> Optional[List[Signal]]:\n",
    "        s = []\n",
    "        logger.info('Event')\n",
    "        if 0:\n",
    "            for i in ctx.instruments:\n",
    "                data = ctx.ohlc(i, self.timeframe)\n",
    "                s1 = ta.kama(data.close, 36) - ta.kama(data.close, 12)\n",
    "                if len(s1) > 1:\n",
    "                    if s1[1] < 0 and s1[0] > 0:\n",
    "                        logger.info(f\" >> BUY: {i}\")\n",
    "                        s.append(ctx.instruments[0].signal(+1))\n",
    "\n",
    "                    if s1[1] > 0 and s1[0] < 0:\n",
    "                        logger.info(f\"SELL: {i}\")\n",
    "                        s.append(i.signal(-1))\n",
    "        return s"
   ]
  },
  {
   "cell_type": "code",
   "execution_count": 9,
   "metadata": {},
   "outputs": [
    {
     "name": "stdout",
     "output_type": "stream",
     "text": [
      "\u001b[32m2024-12-09 10:35:23.980\u001b[0m [ \u001b[34m\u001b[1m🐞\u001b[0m ] \u001b[36m(simulator)\u001b[0m \u001b[34m\u001b[1m\u001b[31m2023-07-01 00:00:00\u001b[0m\u001b[34m\u001b[1m Initiating simulated trading for binance.um for 1000 x 1.0 in USDT...\u001b[0m\n",
      "\u001b[96m2023-07-01 00:00:00.000\u001b[0m [\u001b[1mℹ️\u001b[0m] \u001b[1mSimulatedTrading emulates stop orders executions at exact price\u001b[0m\n",
      "\u001b[96m2023-07-01 00:00:00.000\u001b[0m [\u001b[1mℹ️\u001b[0m] \u001b[1mSimulatedExchange.binance.um is initialized\u001b[0m\n",
      "\u001b[96m2023-07-01 00:00:00.000\u001b[0m [\u001b[34m\u001b[1m🐞\u001b[0m] \u001b[34m\u001b[1m | get_subscribed_instruments __all__ -> []\u001b[0m\n",
      "\u001b[96m2023-07-01 00:00:00.000\u001b[0m [\u001b[34m\u001b[1m🐞\u001b[0m] \u001b[34m\u001b[1m | get_subscriptions None -> []\u001b[0m\n"
     ]
    },
    {
     "data": {
      "application/vnd.jupyter.widget-view+json": {
       "model_id": "83c51ef635e545c1b10e422d283442be",
       "version_major": 2,
       "version_minor": 0
      },
      "text/plain": [
       "Simulating:   0%|          | 0/100 [00:00<?, ?%/s]"
      ]
     },
     "metadata": {},
     "output_type": "display_data"
    },
    {
     "name": "stdout",
     "output_type": "stream",
     "text": [
      "\u001b[96m2023-07-01 00:00:00.000\u001b[0m [\u001b[34m\u001b[1m🐞\u001b[0m] \u001b[34m\u001b[1m | get_subscribed_instruments ohlc(1Min) -> []\u001b[0m\n",
      "\u001b[96m2023-07-01 00:00:00.000\u001b[0m [\u001b[34m\u001b[1m🐞\u001b[0m] \u001b[34m\u001b[1m | get_subscribed_instruments None -> []\u001b[0m\n",
      "\u001b[96m2023-07-01 00:00:00.000\u001b[0m [\u001b[34m\u001b[1m🐞\u001b[0m] \u001b[34m\u001b[1m | get_subscribed_instruments ohlc(1Min) -> []\u001b[0m\n",
      "\u001b[96m2023-07-01 00:00:00.000\u001b[0m [\u001b[34m\u001b[1m🐞\u001b[0m] \u001b[34m\u001b[1m | subscribe: ohlc(1Min) -> {BINANCE.UM:SWAP:BTCUSDT}\u001b[0m\n",
      "\u001b[96m2023-07-01 00:00:00.000\u001b[0m [\u001b[1mℹ️\u001b[0m] \u001b[1mSimulatedExchange ::: Simulation started at 2023-07-01 :::\u001b[0m\n",
      "\u001b[96m2023-07-01 00:00:00.000\u001b[0m [\u001b[34m\u001b[1m🐞\u001b[0m] \u001b[34m\u001b[1mPreloading initial data for ohlc.1Min 2023-07-01 00:00:00 : 2023-07-02 00:00:00 ...\u001b[0m\n",
      "\u001b[96m2023-07-01 00:00:01.000\u001b[0m [\u001b[34m\u001b[1m🐞\u001b[0m] \u001b[34m\u001b[1mInvoking \u001b[32mTestB\u001b[0m\u001b[34m\u001b[1m on_fit\u001b[0m\n",
      "\u001b[96m2023-07-01 00:00:01.000\u001b[0m [\u001b[34m\u001b[1m🐞\u001b[0m] \u001b[34m\u001b[1m\u001b[32mTestB\u001b[0m\u001b[34m\u001b[1m is fitted\u001b[0m\n",
      "\u001b[96m2023-07-01 00:24:00.000\u001b[0m [\u001b[1mℹ️\u001b[0m] \u001b[1mEvent\u001b[0m\n",
      "\u001b[96m2023-07-01 00:36:00.000\u001b[0m [\u001b[1mℹ️\u001b[0m] \u001b[1mEvent\u001b[0m\n",
      "\u001b[96m2023-07-01 00:59:59.000\u001b[0m [\u001b[1mℹ️\u001b[0m] \u001b[1mEvent\u001b[0m\n",
      "\u001b[96m2023-07-01 01:24:00.000\u001b[0m [\u001b[1mℹ️\u001b[0m] \u001b[1mEvent\u001b[0m\n",
      "\u001b[96m2023-07-01 01:36:00.000\u001b[0m [\u001b[1mℹ️\u001b[0m] \u001b[1mEvent\u001b[0m\n",
      "\u001b[96m2023-07-01 01:59:59.000\u001b[0m [\u001b[1mℹ️\u001b[0m] \u001b[1mEvent\u001b[0m\n",
      "\u001b[96m2023-07-01 02:24:00.000\u001b[0m [\u001b[1mℹ️\u001b[0m] \u001b[1mEvent\u001b[0m\n",
      "\u001b[96m2023-07-01 02:36:00.000\u001b[0m [\u001b[1mℹ️\u001b[0m] \u001b[1mEvent\u001b[0m\n",
      "\u001b[96m2023-07-01 02:59:59.000\u001b[0m [\u001b[1mℹ️\u001b[0m] \u001b[1mEvent\u001b[0m\n",
      "\u001b[96m2023-07-01 03:24:00.000\u001b[0m [\u001b[1mℹ️\u001b[0m] \u001b[1mEvent\u001b[0m\n",
      "\u001b[96m2023-07-01 03:36:00.000\u001b[0m [\u001b[1mℹ️\u001b[0m] \u001b[1mEvent\u001b[0m\n",
      "\u001b[96m2023-07-01 03:59:59.000\u001b[0m [\u001b[1mℹ️\u001b[0m] \u001b[1mEvent\u001b[0m\n",
      "\u001b[96m2023-07-01 04:24:00.000\u001b[0m [\u001b[1mℹ️\u001b[0m] \u001b[1mEvent\u001b[0m\n",
      "\u001b[96m2023-07-01 04:36:00.000\u001b[0m [\u001b[1mℹ️\u001b[0m] \u001b[1mEvent\u001b[0m\n",
      "\u001b[96m2023-07-01 04:59:59.000\u001b[0m [\u001b[1mℹ️\u001b[0m] \u001b[1mEvent\u001b[0m\n",
      "\u001b[96m2023-07-01 05:24:00.000\u001b[0m [\u001b[1mℹ️\u001b[0m] \u001b[1mEvent\u001b[0m\n",
      "\u001b[96m2023-07-01 05:36:00.000\u001b[0m [\u001b[1mℹ️\u001b[0m] \u001b[1mEvent\u001b[0m\n",
      "\u001b[96m2023-07-01 05:59:59.000\u001b[0m [\u001b[1mℹ️\u001b[0m] \u001b[1mEvent\u001b[0m\n",
      "\u001b[96m2023-07-01 06:24:00.000\u001b[0m [\u001b[1mℹ️\u001b[0m] \u001b[1mEvent\u001b[0m\n",
      "\u001b[96m2023-07-01 06:36:00.000\u001b[0m [\u001b[1mℹ️\u001b[0m] \u001b[1mEvent\u001b[0m\n",
      "\u001b[96m2023-07-01 06:59:59.000\u001b[0m [\u001b[1mℹ️\u001b[0m] \u001b[1mEvent\u001b[0m\n",
      "\u001b[96m2023-07-01 07:24:00.000\u001b[0m [\u001b[1mℹ️\u001b[0m] \u001b[1mEvent\u001b[0m\n",
      "\u001b[96m2023-07-01 07:36:00.000\u001b[0m [\u001b[1mℹ️\u001b[0m] \u001b[1mEvent\u001b[0m\n",
      "\u001b[96m2023-07-01 07:59:59.000\u001b[0m [\u001b[1mℹ️\u001b[0m] \u001b[1mEvent\u001b[0m\n",
      "\u001b[96m2023-07-01 08:24:00.000\u001b[0m [\u001b[1mℹ️\u001b[0m] \u001b[1mEvent\u001b[0m\n",
      "\u001b[96m2023-07-01 08:36:00.000\u001b[0m [\u001b[1mℹ️\u001b[0m] \u001b[1mEvent\u001b[0m\n",
      "\u001b[96m2023-07-01 08:59:59.000\u001b[0m [\u001b[1mℹ️\u001b[0m] \u001b[1mEvent\u001b[0m\n",
      "\u001b[96m2023-07-01 09:24:00.000\u001b[0m [\u001b[1mℹ️\u001b[0m] \u001b[1mEvent\u001b[0m\n",
      "\u001b[96m2023-07-01 09:36:00.000\u001b[0m [\u001b[1mℹ️\u001b[0m] \u001b[1mEvent\u001b[0m\n",
      "\u001b[96m2023-07-01 09:59:59.000\u001b[0m [\u001b[1mℹ️\u001b[0m] \u001b[1mEvent\u001b[0m\n",
      "\u001b[96m2023-07-01 10:24:00.000\u001b[0m [\u001b[1mℹ️\u001b[0m] \u001b[1mEvent\u001b[0m\n",
      "\u001b[96m2023-07-01 10:36:00.000\u001b[0m [\u001b[1mℹ️\u001b[0m] \u001b[1mEvent\u001b[0m\n",
      "\u001b[96m2023-07-01 10:59:59.000\u001b[0m [\u001b[1mℹ️\u001b[0m] \u001b[1mEvent\u001b[0m\n",
      "\u001b[96m2023-07-01 11:24:00.000\u001b[0m [\u001b[1mℹ️\u001b[0m] \u001b[1mEvent\u001b[0m\n",
      "\u001b[96m2023-07-01 11:36:00.000\u001b[0m [\u001b[1mℹ️\u001b[0m] \u001b[1mEvent\u001b[0m\n",
      "\u001b[96m2023-07-01 11:59:59.000\u001b[0m [\u001b[1mℹ️\u001b[0m] \u001b[1mEvent\u001b[0m\n",
      "\u001b[96m2023-07-01 12:24:00.000\u001b[0m [\u001b[1mℹ️\u001b[0m] \u001b[1mEvent\u001b[0m\n",
      "\u001b[96m2023-07-01 12:36:00.000\u001b[0m [\u001b[1mℹ️\u001b[0m] \u001b[1mEvent\u001b[0m\n",
      "\u001b[96m2023-07-01 12:59:59.000\u001b[0m [\u001b[1mℹ️\u001b[0m] \u001b[1mEvent\u001b[0m\n",
      "\u001b[96m2023-07-01 13:24:00.000\u001b[0m [\u001b[1mℹ️\u001b[0m] \u001b[1mEvent\u001b[0m\n",
      "\u001b[96m2023-07-01 13:36:00.000\u001b[0m [\u001b[1mℹ️\u001b[0m] \u001b[1mEvent\u001b[0m\n",
      "\u001b[96m2023-07-01 13:59:59.000\u001b[0m [\u001b[1mℹ️\u001b[0m] \u001b[1mEvent\u001b[0m\n",
      "\u001b[96m2023-07-01 14:24:00.000\u001b[0m [\u001b[1mℹ️\u001b[0m] \u001b[1mEvent\u001b[0m\n",
      "\u001b[96m2023-07-01 14:36:00.000\u001b[0m [\u001b[1mℹ️\u001b[0m] \u001b[1mEvent\u001b[0m\n",
      "\u001b[96m2023-07-01 14:59:59.000\u001b[0m [\u001b[1mℹ️\u001b[0m] \u001b[1mEvent\u001b[0m\n",
      "\u001b[96m2023-07-01 15:24:00.000\u001b[0m [\u001b[1mℹ️\u001b[0m] \u001b[1mEvent\u001b[0m\n",
      "\u001b[96m2023-07-01 15:36:00.000\u001b[0m [\u001b[1mℹ️\u001b[0m] \u001b[1mEvent\u001b[0m\n",
      "\u001b[96m2023-07-01 15:59:59.000\u001b[0m [\u001b[1mℹ️\u001b[0m] \u001b[1mEvent\u001b[0m\n",
      "\u001b[96m2023-07-01 16:24:00.000\u001b[0m [\u001b[1mℹ️\u001b[0m] \u001b[1mEvent\u001b[0m\n",
      "\u001b[96m2023-07-01 16:36:00.000\u001b[0m [\u001b[1mℹ️\u001b[0m] \u001b[1mEvent\u001b[0m\n",
      "\u001b[96m2023-07-01 16:59:59.000\u001b[0m [\u001b[1mℹ️\u001b[0m] \u001b[1mEvent\u001b[0m\n",
      "\u001b[96m2023-07-01 17:24:00.000\u001b[0m [\u001b[1mℹ️\u001b[0m] \u001b[1mEvent\u001b[0m\n",
      "\u001b[96m2023-07-01 17:36:00.000\u001b[0m [\u001b[1mℹ️\u001b[0m] \u001b[1mEvent\u001b[0m\n",
      "\u001b[96m2023-07-01 17:59:59.000\u001b[0m [\u001b[1mℹ️\u001b[0m] \u001b[1mEvent\u001b[0m\n",
      "\u001b[96m2023-07-01 18:24:00.000\u001b[0m [\u001b[1mℹ️\u001b[0m] \u001b[1mEvent\u001b[0m\n",
      "\u001b[96m2023-07-01 18:36:00.000\u001b[0m [\u001b[1mℹ️\u001b[0m] \u001b[1mEvent\u001b[0m\n",
      "\u001b[96m2023-07-01 18:59:59.000\u001b[0m [\u001b[1mℹ️\u001b[0m] \u001b[1mEvent\u001b[0m\n",
      "\u001b[96m2023-07-01 19:24:00.000\u001b[0m [\u001b[1mℹ️\u001b[0m] \u001b[1mEvent\u001b[0m\n",
      "\u001b[96m2023-07-01 19:36:00.000\u001b[0m [\u001b[1mℹ️\u001b[0m] \u001b[1mEvent\u001b[0m\n",
      "\u001b[96m2023-07-01 19:59:59.000\u001b[0m [\u001b[1mℹ️\u001b[0m] \u001b[1mEvent\u001b[0m\n",
      "\u001b[96m2023-07-01 20:24:00.000\u001b[0m [\u001b[1mℹ️\u001b[0m] \u001b[1mEvent\u001b[0m\n",
      "\u001b[96m2023-07-01 20:36:00.000\u001b[0m [\u001b[1mℹ️\u001b[0m] \u001b[1mEvent\u001b[0m\n",
      "\u001b[96m2023-07-01 20:59:59.000\u001b[0m [\u001b[1mℹ️\u001b[0m] \u001b[1mEvent\u001b[0m\n",
      "\u001b[96m2023-07-01 21:24:00.000\u001b[0m [\u001b[1mℹ️\u001b[0m] \u001b[1mEvent\u001b[0m\n",
      "\u001b[96m2023-07-01 21:36:00.000\u001b[0m [\u001b[1mℹ️\u001b[0m] \u001b[1mEvent\u001b[0m\n",
      "\u001b[96m2023-07-01 21:59:59.000\u001b[0m [\u001b[1mℹ️\u001b[0m] \u001b[1mEvent\u001b[0m\n",
      "\u001b[96m2023-07-01 22:24:00.000\u001b[0m [\u001b[1mℹ️\u001b[0m] \u001b[1mEvent\u001b[0m\n",
      "\u001b[96m2023-07-01 22:36:00.000\u001b[0m [\u001b[1mℹ️\u001b[0m] \u001b[1mEvent\u001b[0m\n",
      "\u001b[96m2023-07-01 22:59:59.000\u001b[0m [\u001b[1mℹ️\u001b[0m] \u001b[1mEvent\u001b[0m\n"
     ]
    },
    {
     "name": "stdout",
     "output_type": "stream",
     "text": [
      "\u001b[96m2023-07-01 23:24:00.000\u001b[0m [\u001b[1mℹ️\u001b[0m] \u001b[1mEvent\u001b[0m\n",
      "\u001b[96m2023-07-01 23:36:00.000\u001b[0m [\u001b[1mℹ️\u001b[0m] \u001b[1mEvent\u001b[0m\n",
      "\u001b[96m2023-07-01 23:59:59.000\u001b[0m [\u001b[1mℹ️\u001b[0m] \u001b[1mEvent\u001b[0m\n",
      "\u001b[96m2023-07-02 00:24:00.000\u001b[0m [\u001b[1mℹ️\u001b[0m] \u001b[1mEvent\u001b[0m\n",
      "\u001b[96m2023-07-02 00:36:00.000\u001b[0m [\u001b[1mℹ️\u001b[0m] \u001b[1mEvent\u001b[0m\n",
      "\u001b[96m2023-07-02 00:59:59.000\u001b[0m [\u001b[1mℹ️\u001b[0m] \u001b[1mEvent\u001b[0m\n",
      "\u001b[96m2023-07-02 00:59:59.000\u001b[0m [\u001b[1mℹ️\u001b[0m] \u001b[1mSimulatedExchange ::: Simulation finished at 2023-07-02 00:00:00 :::\u001b[0m\n",
      "\u001b[96m2023-07-02 00:59:59.000\u001b[0m [\u001b[34m\u001b[1m🐞\u001b[0m] \u001b[34m\u001b[1m\u001b[33mTestA\u001b[0m\u001b[34m\u001b[1m new parameters:\n",
      "\tset \u001b[32mtimeframe\u001b[0m\u001b[34m\u001b[1m <- \u001b[31m1h\u001b[0m\u001b[34m\u001b[1m\u001b[0m\n"
     ]
    }
   ],
   "source": [
    "r = simulate(\n",
    "   {'A': TestB(timeframe=\"1h\")}, ld, 1000, \n",
    "   ['BINANCE.UM:BTCUSDT'],\n",
    "   # \"vip0_usdt\", \"2023-06-22\", \"2023-07-30\", debug=\"DEBUG\",\n",
    "   \"vip0_usdt\", \"2023-07-01\", \"2023-07-02\", debug=\"DEBUG\",\n",
    "\n",
    "   accurate_stop_orders_execution=True,\n",
    "   # simulation=\"ohlc(1h)\",\n",
    "   \n",
    ")"
   ]
  },
  {
   "cell_type": "code",
   "execution_count": null,
   "metadata": {},
   "outputs": [],
   "source": [
    "simulate.configs.ON_CLOSE()"
   ]
  },
  {
   "cell_type": "code",
   "execution_count": 125,
   "metadata": {},
   "outputs": [
    {
     "data": {
      "text/html": [
       "<div>\n",
       "<style scoped>\n",
       "    .dataframe tbody tr th:only-of-type {\n",
       "        vertical-align: middle;\n",
       "    }\n",
       "\n",
       "    .dataframe tbody tr th {\n",
       "        vertical-align: top;\n",
       "    }\n",
       "\n",
       "    .dataframe thead th {\n",
       "        text-align: right;\n",
       "    }\n",
       "</style>\n",
       "<table border=\"1\" class=\"dataframe\">\n",
       "  <thead>\n",
       "    <tr style=\"text-align: right;\">\n",
       "      <th></th>\n",
       "      <th>Gain</th>\n",
       "      <th>Cagr</th>\n",
       "      <th>Sharpe</th>\n",
       "      <th>Qr</th>\n",
       "      <th>Max dd pct</th>\n",
       "      <th>Mdd usd</th>\n",
       "      <th>Sortino</th>\n",
       "      <th>Calmar</th>\n",
       "      <th>Tail ratio</th>\n",
       "      <th>Stability</th>\n",
       "      <th>Var</th>\n",
       "      <th>Avg return</th>\n",
       "      <th>Fees</th>\n",
       "      <th>Execs</th>\n",
       "    </tr>\n",
       "  </thead>\n",
       "  <tbody>\n",
       "    <tr>\n",
       "      <th>/A</th>\n",
       "      <td>12518.061</td>\n",
       "      <td>3.838830e+10</td>\n",
       "      <td>9.456</td>\n",
       "      <td>12.415</td>\n",
       "      <td>36.744</td>\n",
       "      <td>1403.6</td>\n",
       "      <td>97.642</td>\n",
       "      <td>4.892308e+11</td>\n",
       "      <td>6.462</td>\n",
       "      <td>0.852</td>\n",
       "      <td>178.112</td>\n",
       "      <td>7.811</td>\n",
       "      <td>740.639</td>\n",
       "      <td>25.0</td>\n",
       "    </tr>\n",
       "  </tbody>\n",
       "</table>\n",
       "</div>"
      ],
      "text/plain": [
       "         Gain          Cagr  Sharpe      Qr  Max dd pct  Mdd usd  Sortino  \\\n",
       "/A  12518.061  3.838830e+10   9.456  12.415      36.744   1403.6   97.642   \n",
       "\n",
       "          Calmar  Tail ratio  Stability      Var  Avg return     Fees  Execs  \n",
       "/A  4.892308e+11       6.462      0.852  178.112       7.811  740.639   25.0  "
      ]
     },
     "execution_count": 125,
     "metadata": {},
     "output_type": "execute_result"
    },
    {
     "data": {
      "image/png": "[encoded data removed]",
      "text/plain": [
       "<Figure size 960x400 with 2 Axes>"
      ]
     },
     "metadata": {},
     "output_type": "display_data"
    }
   ],
   "source": [
    "tearsheet(r, False, use_plotly=False)"
   ]
  },
  {
   "cell_type": "code",
   "execution_count": null,
   "metadata": {},
   "outputs": [],
   "source": [
    "chart_signals(r[0], 'BTCUSDT', ld[['BTCUSDT']], show_signals=True)"
   ]
  },
  {
   "cell_type": "code",
   "execution_count": null,
   "metadata": {},
   "outputs": [],
   "source": []
  }
 ],
 "metadata": {
  "kernelspec": {
   "display_name": ".venv",
   "language": "python",
   "name": "python3"
  },
  "language_info": {
   "codemirror_mode": {
    "name": "ipython",
    "version": 3
   },
   "file_extension": ".py",
   "mimetype": "text/x-python",
   "name": "python",
   "nbconvert_exporter": "python",
   "pygments_lexer": "ipython3",
   "version": "3.11.8"
  }
 },
 "nbformat": 4,
 "nbformat_minor": 2
}
