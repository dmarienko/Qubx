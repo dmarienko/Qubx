{
 "cells": [
  {
   "cell_type": "code",
   "execution_count": 80,
   "metadata": {},
   "outputs": [
    {
     "name": "stdout",
     "output_type": "stream",
     "text": [
      " >  [\u001b[32mdev\u001b[0m] \u001b[31minstalling cython rebuilding hook\u001b[0m\n"
     ]
    },
    {
     "data": {
      "text/html": [
       "<style> .cell-output-ipywidget-background { background-color: transparent !important; } :root { --jp-widgets-color: var(--vscode-editor-foreground); --jp-widgets-font-size: var(--vscode-editor-font-size); } </style>"
      ],
      "text/plain": [
       "<IPython.core.display.HTML object>"
      ]
     },
     "metadata": {},
     "output_type": "display_data"
    },
    {
     "name": "stdout",
     "output_type": "stream",
     "text": [
      "The autoreload extension is already loaded. To reload it, use:\n",
      "  %reload_ext autoreload\n"
     ]
    }
   ],
   "source": [
    "import sys, os, re\n",
    "from typing import *\n",
    "sys.path = ([\"../src/\", \"../\"] if re.match(r\"^(\\w\\:\\\\)|(/)\", os.getcwd()) else []) + sys.path\n",
    "import qubx\n",
    "%qubxd dev \n",
    "\n",
    "%load_ext autoreload\n",
    "%autoreload 2\n",
    "\n",
    "from qubx import lookup, logger\n",
    "from qubx.core.basics import Subtype, Instrument, Signal\n",
    "from qubx.core.interfaces import IStrategy, IStrategyContext, TriggerEvent\n",
    "from qubx.core.metrics import tearsheet, chart_signals\n",
    "from qubx.pandaz.utils import *\n",
    "import qubx.ta.indicators as ta\n",
    "\n",
    "# - - - - - - - - - - - - - - - - - - - - - - - -\n",
    "from qubx.data.helpers import loader\n",
    "from qubx.backtester.simulator import simulate\n",
    "\n",
    "ld = loader(\"BINANCE.UM\", \"1h\", source=\"csv::../tests/data/csv_1h\", n_jobs=1)"
   ]
  },
  {
   "cell_type": "markdown",
   "metadata": {},
   "source": [
    "### Current approach "
   ]
  },
  {
   "cell_type": "code",
   "execution_count": 4,
   "metadata": {},
   "outputs": [],
   "source": [
    "class TestA(IStrategy):\n",
    "    \"\"\" Document your strategy here \"\"\"\n",
    "    timeframe: str = \"15Min\"\n",
    "    exchange = 'BINANCE.UM'\n",
    "\n",
    "    def on_init(self, ctx: IStrategyContext):\n",
    "        ctx.set_base_subscription(Subtype.OHLC[self.timeframe])\n",
    "        ctx.set_event_schedule(\"55 23 * * *\")\n",
    "        ctx.set_fit_schedule(\"50 23 * * 1\")\n",
    "        self._idx = 0\n",
    "        self._to_test = [\n",
    "            [self.find_instrument(s) for s in [\"BTCUSDT\", \"ETHUSDT\"]],\n",
    "            [self.find_instrument(s) for s in [\"BTCUSDT\", \"BCHUSDT\", \"LTCUSDT\"]],\n",
    "            [self.find_instrument(s) for s in [\"BTCUSDT\", \"AAVEUSDT\", \"ETHUSDT\"]],\n",
    "            [self.find_instrument(s) for s in [\"BCHUSDT\"]],\n",
    "        ]\n",
    "\n",
    "    def on_fit(self, ctx: IStrategyContext):\n",
    "        logger.info(f\" -> subscribe : {self.lst(self._to_test[self._idx])}\")\n",
    "        ctx.set_universe(self._to_test[self._idx])\n",
    "        self._idx += 1\n",
    "        if self._idx >= len(self._to_test):\n",
    "            self._idx = 0 \n",
    "\n",
    "    def on_event(self, ctx: IStrategyContext, event: TriggerEvent) -> Optional[List[Signal]]:\n",
    "        s = []\n",
    "        logger.info(f\"Trig: {self.lst(ctx.instruments)} --> {str({i.symbol: ctx.quote(i) for i in ctx.instruments})}\")\n",
    "        if 1:\n",
    "            for i in ctx.instruments:\n",
    "                data = ctx.ohlc(i, self.timeframe)\n",
    "                s1 = ta.kama(data.close, 36) - ta.kama(data.close, 12)\n",
    "                if len(s1) > 1:\n",
    "                    if s1[1] < 0 and s1[0] > 0:\n",
    "                        logger.info(f\"BUY: {i}\")\n",
    "                        s.append(ctx.instruments[0].signal(+1))\n",
    "\n",
    "                    if s1[1] > 0 and s1[0] < 0:\n",
    "                        logger.info(f\"SELL: {i}\")\n",
    "                        s.append(i.signal(-1))\n",
    "        return s\n",
    "\n",
    "    def find_instrument(self, symbol: str) -> Instrument:\n",
    "        return lookup.find_symbol(self.exchange, symbol) # type: ignore\n",
    "\n",
    "    def lst(self, instrs: list[Instrument]):\n",
    "        return ','.join(map(lambda x: x.symbol, instrs))\n"
   ]
  },
  {
   "cell_type": "code",
   "execution_count": 5,
   "metadata": {},
   "outputs": [
    {
     "name": "stdout",
     "output_type": "stream",
     "text": [
      "\u001b[96m2023-07-02 00:59:59.000\u001b[0m [\u001b[34m\u001b[1m🐞\u001b[0m] \u001b[34m\u001b[1m\u001b[33mTestA\u001b[0m\u001b[34m\u001b[1m new parameters:\n",
      "\tset \u001b[32mtimeframe\u001b[0m\u001b[34m\u001b[1m <- \u001b[31m15Min\u001b[0m\u001b[34m\u001b[1m\u001b[0m\n",
      "\u001b[96m2023-07-02 00:59:59.000\u001b[0m [\u001b[34m\u001b[1m🐞\u001b[0m] \u001b[34m\u001b[1m\u001b[33mTestA\u001b[0m\u001b[34m\u001b[1m new parameters:\n",
      "\tset \u001b[32mtimeframe\u001b[0m\u001b[34m\u001b[1m <- \u001b[31m30Min\u001b[0m\u001b[34m\u001b[1m\u001b[0m\n",
      "\u001b[96m2023-07-02 00:59:59.000\u001b[0m [\u001b[34m\u001b[1m🐞\u001b[0m] \u001b[34m\u001b[1m\u001b[33mTestA\u001b[0m\u001b[34m\u001b[1m new parameters:\n",
      "\tset \u001b[32mtimeframe\u001b[0m\u001b[34m\u001b[1m <- \u001b[31m1h\u001b[0m\u001b[34m\u001b[1m\u001b[0m\n"
     ]
    },
    {
     "data": {
      "application/vnd.jupyter.widget-view+json": {
       "model_id": "9e4c66209b0b4fa8a9d27802f6ab7344",
       "version_major": 2,
       "version_minor": 0
      },
      "text/plain": [
       "  0%|          | 0/3 [00:00<?, ?it/s]"
      ]
     },
     "metadata": {},
     "output_type": "display_data"
    },
    {
     "name": "stdout",
     "output_type": "stream",
     "text": [
      "\u001b[32m2024-12-09 15:45:00.954\u001b[0m [ \u001b[34m\u001b[1m🐞\u001b[0m ] \u001b[36m(simulator)\u001b[0m \u001b[34m\u001b[1m\u001b[31m2023-07-01 00:00:00\u001b[0m\u001b[34m\u001b[1m Initiating simulated trading for binance.um for 1000 x 1.0 in USDT...\u001b[0m\n",
      "\u001b[96m2023-07-01 00:00:00.000\u001b[0m [\u001b[1mℹ️\u001b[0m] \u001b[1mSimulatedExchange.binance.um is initialized\u001b[0m\n"
     ]
    },
    {
     "data": {
      "application/vnd.jupyter.widget-view+json": {
       "model_id": "2e835f0cc6b24b2b8711eedefcea378c",
       "version_major": 2,
       "version_minor": 0
      },
      "text/plain": [
       "Simulating:   0%|          | 0/100 [00:00<?, ?%/s]"
      ]
     },
     "metadata": {},
     "output_type": "display_data"
    },
    {
     "name": "stdout",
     "output_type": "stream",
     "text": [
      "\u001b[96m2023-07-01 00:00:00.000\u001b[0m [\u001b[34m\u001b[1m🐞\u001b[0m] \u001b[34m\u001b[1m | get_subscribed_instruments __all__ -> []\u001b[0m\n",
      "\u001b[96m2023-07-01 00:00:00.000\u001b[0m [\u001b[34m\u001b[1m🐞\u001b[0m] \u001b[34m\u001b[1m | get_subscriptions None -> []\u001b[0m\n",
      "\u001b[96m2023-07-01 00:00:00.000\u001b[0m [\u001b[34m\u001b[1m🐞\u001b[0m] \u001b[34m\u001b[1m | get_subscribed_instruments ohlc(15Min) -> []\u001b[0m\n",
      "\u001b[96m2023-07-01 00:00:00.000\u001b[0m [\u001b[34m\u001b[1m🐞\u001b[0m] \u001b[34m\u001b[1m | get_subscribed_instruments None -> []\u001b[0m\n",
      "\u001b[96m2023-07-01 00:00:00.000\u001b[0m [\u001b[34m\u001b[1m🐞\u001b[0m] \u001b[34m\u001b[1m | get_subscribed_instruments ohlc(15Min) -> []\u001b[0m\n",
      "\u001b[96m2023-07-01 00:00:00.000\u001b[0m [\u001b[34m\u001b[1m🐞\u001b[0m] \u001b[34m\u001b[1m | subscribe: ohlc(15Min) -> {BINANCE.UM:SWAP:BTCUSDT}\u001b[0m\n",
      "\u001b[96m2023-07-01 00:00:00.000\u001b[0m [\u001b[1mℹ️\u001b[0m] \u001b[1mSimulatedExchange ::: Simulation started at 2023-07-01 :::\u001b[0m\n",
      "\u001b[96m2023-07-01 00:00:00.000\u001b[0m [\u001b[34m\u001b[1m🐞\u001b[0m] \u001b[34m\u001b[1mPreloading initial data for ohlc.15Min 2023-07-01 00:00:00 : 2023-07-30 00:00:00 ...\u001b[0m\n",
      "\u001b[96m2023-07-01 00:00:00.000\u001b[0m [\u001b[34m\u001b[1m🐞\u001b[0m] \u001b[34m\u001b[1m(InMemoryCachedReader) Updating 1 symbols post interval 2023-07-02 00:00:00 : 2023-07-30 00:00:00\u001b[0m\n",
      "\u001b[96m2023-07-01 00:00:01.000\u001b[0m [\u001b[34m\u001b[1m🐞\u001b[0m] \u001b[34m\u001b[1mInvoking \u001b[32mTestA\u001b[0m\u001b[34m\u001b[1m on_fit\u001b[0m\n",
      "\u001b[96m2023-07-01 00:00:01.000\u001b[0m [\u001b[1mℹ️\u001b[0m] \u001b[1m -> subscribe : BTCUSDT,ETHUSDT\u001b[0m\n",
      "\u001b[96m2023-07-01 00:00:01.000\u001b[0m [\u001b[34m\u001b[1m🐞\u001b[0m] \u001b[34m\u001b[1m | get_subscribed_instruments __all__ -> [BINANCE.UM:SWAP:BTCUSDT]\u001b[0m\n",
      "\u001b[96m2023-07-01 00:00:01.000\u001b[0m [\u001b[34m\u001b[1m🐞\u001b[0m] \u001b[34m\u001b[1m | get_subscriptions None -> ['ohlc(15Min)']\u001b[0m\n",
      "\u001b[96m2023-07-01 00:00:01.000\u001b[0m [\u001b[34m\u001b[1m🐞\u001b[0m] \u001b[34m\u001b[1m | get_subscribed_instruments ohlc(15Min) -> [BINANCE.UM:SWAP:BTCUSDT]\u001b[0m\n",
      "\u001b[96m2023-07-01 00:00:01.000\u001b[0m [\u001b[34m\u001b[1m🐞\u001b[0m] \u001b[34m\u001b[1m | get_subscribed_instruments None -> [BINANCE.UM:SWAP:BTCUSDT]\u001b[0m\n",
      "\u001b[96m2023-07-01 00:00:01.000\u001b[0m [\u001b[34m\u001b[1m🐞\u001b[0m] \u001b[34m\u001b[1m | get_subscribed_instruments ohlc(15Min) -> [BINANCE.UM:SWAP:BTCUSDT]\u001b[0m\n",
      "\u001b[96m2023-07-01 00:00:01.000\u001b[0m [\u001b[34m\u001b[1m🐞\u001b[0m] \u001b[34m\u001b[1m | subscribe: ohlc(15Min) -> {BINANCE.UM:SWAP:ETHUSDT, BINANCE.UM:SWAP:BTCUSDT}\u001b[0m\n",
      "\u001b[96m2023-07-01 00:00:01.000\u001b[0m [\u001b[34m\u001b[1m🐞\u001b[0m] \u001b[34m\u001b[1m(InMemoryCachedReader) Loading all data 2023-07-01 00:00:00 - 2023-07-30 00:00:00 for ETHUSDT \u001b[0m\n",
      "\u001b[96m2023-07-01 00:00:01.000\u001b[0m [\u001b[34m\u001b[1m🐞\u001b[0m] \u001b[34m\u001b[1m\u001b[32mTestA\u001b[0m\u001b[34m\u001b[1m is fitted\u001b[0m\n",
      "\u001b[96m2023-07-01 23:59:59.000\u001b[0m [\u001b[1mℹ️\u001b[0m] \u001b[1mTrig: BTCUSDT,ETHUSDT --> {'BTCUSDT': [2023-07-01T23:59:59.000000000]\t30573.55000 (0.0) | 30573.65000 (0.0), 'ETHUSDT': [2023-07-01T23:36:00.000000000]\t1924.99500 (0.0) | 1925.00500 (0.0)}\u001b[0m\n",
      "\u001b[96m2023-07-02 23:59:59.000\u001b[0m [\u001b[1mℹ️\u001b[0m] \u001b[1mTrig: BTCUSDT,ETHUSDT --> {'BTCUSDT': [2023-07-02T23:59:59.000000000]\t30612.65000 (0.0) | 30612.75000 (0.0), 'ETHUSDT': [2023-07-02T23:36:00.000000000]\t1930.19500 (0.0) | 1930.20500 (0.0)}\u001b[0m\n",
      "\u001b[96m2023-07-03 23:59:59.000\u001b[0m [\u001b[34m\u001b[1m🐞\u001b[0m] \u001b[34m\u001b[1mInvoking \u001b[32mTestA\u001b[0m\u001b[34m\u001b[1m on_fit\u001b[0m\n",
      "\u001b[96m2023-07-03 23:59:59.000\u001b[0m [\u001b[1mℹ️\u001b[0m] \u001b[1m -> subscribe : BTCUSDT,BCHUSDT,LTCUSDT\u001b[0m\n",
      "\u001b[96m2023-07-03 23:59:59.000\u001b[0m [\u001b[34m\u001b[1m🐞\u001b[0m] \u001b[34m\u001b[1m | get_subscribed_instruments __all__ -> [BINANCE.UM:SWAP:BTCUSDT, BINANCE.UM:SWAP:ETHUSDT]\u001b[0m\n",
      "\u001b[96m2023-07-03 23:59:59.000\u001b[0m [\u001b[34m\u001b[1m🐞\u001b[0m] \u001b[34m\u001b[1m | get_subscriptions None -> ['ohlc(15Min)']\u001b[0m\n",
      "\u001b[96m2023-07-03 23:59:59.000\u001b[0m [\u001b[34m\u001b[1m🐞\u001b[0m] \u001b[34m\u001b[1m | get_subscribed_instruments ohlc(15Min) -> [BINANCE.UM:SWAP:BTCUSDT, BINANCE.UM:SWAP:ETHUSDT]\u001b[0m\n",
      "\u001b[96m2023-07-03 23:59:59.000\u001b[0m [\u001b[34m\u001b[1m🐞\u001b[0m] \u001b[34m\u001b[1m | get_subscriptions None -> ['ohlc(15Min)']\u001b[0m\n",
      "\u001b[96m2023-07-03 23:59:59.000\u001b[0m [\u001b[34m\u001b[1m🐞\u001b[0m] \u001b[34m\u001b[1m | get_subscribed_instruments None -> [BINANCE.UM:SWAP:BTCUSDT, BINANCE.UM:SWAP:ETHUSDT]\u001b[0m\n",
      "\u001b[96m2023-07-03 23:59:59.000\u001b[0m [\u001b[34m\u001b[1m🐞\u001b[0m] \u001b[34m\u001b[1m | get_subscribed_instruments ohlc(15Min) -> [BINANCE.UM:SWAP:BTCUSDT, BINANCE.UM:SWAP:ETHUSDT]\u001b[0m\n",
      "\u001b[96m2023-07-03 23:59:59.000\u001b[0m [\u001b[34m\u001b[1m🐞\u001b[0m] \u001b[34m\u001b[1m | subscribe: ohlc(15Min) -> {BINANCE.UM:SWAP:BTCUSDT, BINANCE.UM:SWAP:BCHUSDT, BINANCE.UM:SWAP:LTCUSDT}\u001b[0m\n",
      "\u001b[96m2023-07-03 23:59:59.000\u001b[0m [\u001b[34m\u001b[1m🐞\u001b[0m] \u001b[34m\u001b[1m(InMemoryCachedReader) Loading all data 2023-07-01 00:00:00 - 2023-07-30 00:00:00 for LTCUSDT \u001b[0m\n",
      "\u001b[96m2023-07-03 23:59:59.000\u001b[0m [\u001b[34m\u001b[1m🐞\u001b[0m] \u001b[34m\u001b[1m(InMemoryCachedReader) Loading all data 2023-07-01 00:00:00 - 2023-07-30 00:00:00 for BCHUSDT \u001b[0m\n",
      "\u001b[96m2023-07-03 23:59:59.000\u001b[0m [\u001b[34m\u001b[1m🐞\u001b[0m] \u001b[34m\u001b[1m | unsubscribe: ohlc(15Min) -> {BINANCE.UM:SWAP:ETHUSDT}\u001b[0m\n",
      "\u001b[96m2023-07-03 23:59:59.000\u001b[0m [\u001b[34m\u001b[1m🐞\u001b[0m] \u001b[34m\u001b[1m\u001b[32mTestA\u001b[0m\u001b[34m\u001b[1m is fitted\u001b[0m\n",
      "\u001b[96m2023-07-03 23:59:59.000\u001b[0m [\u001b[1mℹ️\u001b[0m] \u001b[1mTrig: BTCUSDT,BCHUSDT,LTCUSDT --> {'BTCUSDT': [2023-07-03T23:59:59.000000000]\t31148.95000 (0.0) | 31149.05000 (0.0), 'BCHUSDT': None, 'LTCUSDT': None}\u001b[0m\n",
      "\u001b[96m2023-07-04 23:59:59.000\u001b[0m [\u001b[1mℹ️\u001b[0m] \u001b[1mTrig: BTCUSDT,BCHUSDT,LTCUSDT --> {'BTCUSDT': [2023-07-04T23:59:59.000000000]\t30756.05000 (0.0) | 30756.15000 (0.0), 'BCHUSDT': [2023-07-04T23:36:00.000000000]\t270.94500 (0.0) | 270.95500 (0.0), 'LTCUSDT': [2023-07-04T23:36:00.000000000]\t104.10500 (0.0) | 104.11500 (0.0)}\u001b[0m\n",
      "\u001b[96m2023-07-04 23:59:59.000\u001b[0m [\u001b[1mℹ️\u001b[0m] \u001b[1mBUY: BINANCE.UM:SWAP:BCHUSDT\u001b[0m\n",
      "\u001b[96m2023-07-04 23:59:59.000\u001b[0m [\u001b[34m\u001b[1m🐞\u001b[0m] \u001b[34m\u001b[1m(StrategyContext) sending market buy for 1.0 of \u001b[32mBTCUSDT\u001b[0m\u001b[34m\u001b[1m @ None ...\u001b[0m\n",
      "\u001b[96m2023-07-04 23:59:59.000\u001b[0m [\u001b[34m\u001b[1m🐞\u001b[0m] \u001b[34m\u001b[1m[OMS] BTCUSDT - \u001b[31mSIM-ORDER-BTCUSDT-100001\u001b[0m\u001b[34m\u001b[1m MARKET BUY 1.0 executed at 30756.149999999998\u001b[0m\n",
      "\u001b[96m2023-07-04 23:59:59.000\u001b[0m [\u001b[34m\u001b[1m🐞\u001b[0m] \u001b[34m\u001b[1m  ::  traded 1.0 for BINANCE.UM:SWAP:BTCUSDT @ 30756.149999999998 -> 0.00\u001b[0m\n",
      "\u001b[96m2023-07-04 23:59:59.000\u001b[0m [\u001b[34m\u001b[1m🐞\u001b[0m] \u001b[34m\u001b[1m[BINANCE.UM:SWAP:BTCUSDT] [SIM-ORDER-BTCUSDT-100001] Order MARKET BUY 1.0  -> CLOSED\u001b[0m\n",
      "\u001b[96m2023-07-04 23:59:59.000\u001b[0m [\u001b[34m\u001b[1m🐞\u001b[0m] \u001b[34m\u001b[1mExecuted 1.0 @ 30756.149999999998 of BINANCE.UM:SWAP:BTCUSDT for order \u001b[31mSIM-ORDER-BTCUSDT-100001\u001b[0m\u001b[34m\u001b[1m\u001b[0m\n",
      "\u001b[96m2023-07-04 23:59:59.000\u001b[0m [\u001b[34m\u001b[1m🐞\u001b[0m] \u001b[34m\u001b[1m\u001b[32mBTCUSDT\u001b[0m\u001b[34m\u001b[1m: Adjusting position from 0.0 to 1.0 : [SIM-ORDER-BTCUSDT-100001] MARKET BUY 1.0 of BTCUSDT  (gtc) [CLOSED]\u001b[0m\n",
      "\u001b[96m2023-07-05 23:59:59.000\u001b[0m [\u001b[1mℹ️\u001b[0m] \u001b[1mTrig: BTCUSDT,BCHUSDT,LTCUSDT --> {'BTCUSDT': [2023-07-05T23:59:59.000000000]\t30488.35000 (0.0) | 30488.45000 (0.0), 'BCHUSDT': [2023-07-05T23:36:00.000000000]\t273.51500 (0.0) | 273.52500 (0.0), 'LTCUSDT': [2023-07-05T23:36:00.000000000]\t102.99500 (0.0) | 103.00500 (0.0)}\u001b[0m\n",
      "\u001b[96m2023-07-06 23:59:59.000\u001b[0m [\u001b[1mℹ️\u001b[0m] \u001b[1mTrig: BTCUSDT,BCHUSDT,LTCUSDT --> {'BTCUSDT': [2023-07-06T23:59:59.000000000]\t29874.35000 (0.0) | 29874.45000 (0.0), 'BCHUSDT': [2023-07-06T23:36:00.000000000]\t272.25500 (0.0) | 272.26500 (0.0), 'LTCUSDT': [2023-07-06T23:36:00.000000000]\t95.10500 (0.0) | 95.11500 (0.0)}\u001b[0m\n",
      "\u001b[96m2023-07-07 23:59:59.000\u001b[0m [\u001b[1mℹ️\u001b[0m] \u001b[1mTrig: BTCUSDT,BCHUSDT,LTCUSDT --> {'BTCUSDT': [2023-07-07T23:59:59.000000000]\t30327.85000 (0.0) | 30327.95000 (0.0), 'BCHUSDT': [2023-07-07T23:36:00.000000000]\t279.64500 (0.0) | 279.65500 (0.0), 'LTCUSDT': [2023-07-07T23:36:00.000000000]\t97.79500 (0.0) | 97.80500 (0.0)}\u001b[0m\n",
      "\u001b[96m2023-07-08 23:59:59.000\u001b[0m [\u001b[1mℹ️\u001b[0m] \u001b[1mTrig: BTCUSDT,BCHUSDT,LTCUSDT --> {'BTCUSDT': [2023-07-08T23:59:59.000000000]\t30269.25000 (0.0) | 30269.35000 (0.0), 'BCHUSDT': [2023-07-08T23:36:00.000000000]\t273.08500 (0.0) | 273.09500 (0.0), 'LTCUSDT': [2023-07-08T23:36:00.000000000]\t97.88500 (0.0) | 97.89500 (0.0)}\u001b[0m\n",
      "\u001b[96m2023-07-09 23:59:59.000\u001b[0m [\u001b[1mℹ️\u001b[0m] \u001b[1mTrig: BTCUSDT,BCHUSDT,LTCUSDT --> {'BTCUSDT': [2023-07-09T23:59:59.000000000]\t30147.75000 (0.0) | 30147.85000 (0.0), 'BCHUSDT': [2023-07-09T23:36:00.000000000]\t263.94500 (0.0) | 263.95500 (0.0), 'LTCUSDT': [2023-07-09T23:36:00.000000000]\t93.84500 (0.0) | 93.85500 (0.0)}\u001b[0m\n",
      "\u001b[96m2023-07-10 23:59:59.000\u001b[0m [\u001b[34m\u001b[1m🐞\u001b[0m] \u001b[34m\u001b[1mInvoking \u001b[32mTestA\u001b[0m\u001b[34m\u001b[1m on_fit\u001b[0m\n",
      "\u001b[96m2023-07-10 23:59:59.000\u001b[0m [\u001b[1mℹ️\u001b[0m] \u001b[1m -> subscribe : BTCUSDT,AAVEUSDT,ETHUSDT\u001b[0m\n",
      "\u001b[96m2023-07-10 23:59:59.000\u001b[0m [\u001b[34m\u001b[1m🐞\u001b[0m] \u001b[34m\u001b[1m | get_subscribed_instruments __all__ -> [BINANCE.UM:SWAP:BTCUSDT, BINANCE.UM:SWAP:BCHUSDT, BINANCE.UM:SWAP:LTCUSDT]\u001b[0m\n",
      "\u001b[96m2023-07-10 23:59:59.000\u001b[0m [\u001b[34m\u001b[1m🐞\u001b[0m] \u001b[34m\u001b[1m | get_subscriptions None -> ['ohlc(15Min)']\u001b[0m\n",
      "\u001b[96m2023-07-10 23:59:59.000\u001b[0m [\u001b[34m\u001b[1m🐞\u001b[0m] \u001b[34m\u001b[1m | get_subscribed_instruments ohlc(15Min) -> [BINANCE.UM:SWAP:BTCUSDT, BINANCE.UM:SWAP:BCHUSDT, BINANCE.UM:SWAP:LTCUSDT]\u001b[0m\n",
      "\u001b[96m2023-07-10 23:59:59.000\u001b[0m [\u001b[34m\u001b[1m🐞\u001b[0m] \u001b[34m\u001b[1m | get_subscriptions None -> ['ohlc(15Min)']\u001b[0m\n",
      "\u001b[96m2023-07-10 23:59:59.000\u001b[0m [\u001b[34m\u001b[1m🐞\u001b[0m] \u001b[34m\u001b[1m | get_subscriptions None -> ['ohlc(15Min)']\u001b[0m\n",
      "\u001b[96m2023-07-10 23:59:59.000\u001b[0m [\u001b[34m\u001b[1m🐞\u001b[0m] \u001b[34m\u001b[1m | get_subscribed_instruments None -> [BINANCE.UM:SWAP:BTCUSDT, BINANCE.UM:SWAP:BCHUSDT, BINANCE.UM:SWAP:LTCUSDT]\u001b[0m\n",
      "\u001b[96m2023-07-10 23:59:59.000\u001b[0m [\u001b[34m\u001b[1m🐞\u001b[0m] \u001b[34m\u001b[1m | get_subscribed_instruments ohlc(15Min) -> [BINANCE.UM:SWAP:BTCUSDT, BINANCE.UM:SWAP:BCHUSDT, BINANCE.UM:SWAP:LTCUSDT]\u001b[0m\n",
      "\u001b[96m2023-07-10 23:59:59.000\u001b[0m [\u001b[34m\u001b[1m🐞\u001b[0m] \u001b[34m\u001b[1m | subscribe: ohlc(15Min) -> {BINANCE.UM:SWAP:ETHUSDT, BINANCE.UM:SWAP:AAVEUSDT, BINANCE.UM:SWAP:BTCUSDT}\u001b[0m\n",
      "\u001b[96m2023-07-10 23:59:59.000\u001b[0m [\u001b[34m\u001b[1m🐞\u001b[0m] \u001b[34m\u001b[1m(InMemoryCachedReader) Loading all data 2023-07-01 00:00:00 - 2023-07-30 00:00:00 for AAVEUSDT \u001b[0m\n",
      "\u001b[96m2023-07-10 23:59:59.000\u001b[0m [\u001b[34m\u001b[1m🐞\u001b[0m] \u001b[34m\u001b[1m | unsubscribe: ohlc(15Min) -> {BINANCE.UM:SWAP:BCHUSDT, BINANCE.UM:SWAP:LTCUSDT}\u001b[0m\n",
      "\u001b[96m2023-07-10 23:59:59.000\u001b[0m [\u001b[34m\u001b[1m🐞\u001b[0m] \u001b[34m\u001b[1m\u001b[32mTestA\u001b[0m\u001b[34m\u001b[1m is fitted\u001b[0m\n",
      "\u001b[96m2023-07-10 23:59:59.000\u001b[0m [\u001b[1mℹ️\u001b[0m] \u001b[1mTrig: BTCUSDT,AAVEUSDT,ETHUSDT --> {'BTCUSDT': [2023-07-10T23:59:59.000000000]\t30396.85000 (0.0) | 30396.95000 (0.0), 'AAVEUSDT': None, 'ETHUSDT': [2023-07-03T23:36:00.000000000]\t1955.55500 (0.0) | 1955.56500 (0.0)}\u001b[0m\n",
      "\u001b[96m2023-07-11 23:59:59.000\u001b[0m [\u001b[1mℹ️\u001b[0m] \u001b[1mTrig: BTCUSDT,AAVEUSDT,ETHUSDT --> {'BTCUSDT': [2023-07-11T23:59:59.000000000]\t30608.35000 (0.0) | 30608.45000 (0.0), 'AAVEUSDT': [2023-07-11T23:36:00.000000000]\t73.66500 (0.0) | 73.67500 (0.0), 'ETHUSDT': [2023-07-11T23:36:00.000000000]\t1876.08500 (0.0) | 1876.09500 (0.0)}\u001b[0m\n",
      "\u001b[96m2023-07-12 23:59:59.000\u001b[0m [\u001b[1mℹ️\u001b[0m] \u001b[1mTrig: BTCUSDT,AAVEUSDT,ETHUSDT --> {'BTCUSDT': [2023-07-12T23:59:59.000000000]\t30368.85000 (0.0) | 30368.95000 (0.0), 'AAVEUSDT': [2023-07-12T23:36:00.000000000]\t76.81500 (0.0) | 76.82500 (0.0), 'ETHUSDT': [2023-07-12T23:36:00.000000000]\t1873.25500 (0.0) | 1873.26500 (0.0)}\u001b[0m\n",
      "\u001b[96m2023-07-12 23:59:59.000\u001b[0m [\u001b[1mℹ️\u001b[0m] \u001b[1mSELL: BINANCE.UM:SWAP:AAVEUSDT\u001b[0m\n",
      "\u001b[96m2023-07-12 23:59:59.000\u001b[0m [\u001b[34m\u001b[1m🐞\u001b[0m] \u001b[34m\u001b[1m(StrategyContext) sending market sell for 1.0 of \u001b[32mAAVEUSDT\u001b[0m\u001b[34m\u001b[1m @ None ...\u001b[0m\n",
      "\u001b[96m2023-07-12 23:59:59.000\u001b[0m [\u001b[34m\u001b[1m🐞\u001b[0m] \u001b[34m\u001b[1m[OMS] AAVEUSDT - \u001b[31mSIM-ORDER-AAVEUSDT-100001\u001b[0m\u001b[34m\u001b[1m MARKET SELL 1.0 executed at 76.815\u001b[0m\n",
      "\u001b[96m2023-07-12 23:59:59.000\u001b[0m [\u001b[34m\u001b[1m🐞\u001b[0m] \u001b[34m\u001b[1m  ::  traded -1.0 for BINANCE.UM:SWAP:AAVEUSDT @ 76.815 -> 0.00\u001b[0m\n",
      "\u001b[96m2023-07-12 23:59:59.000\u001b[0m [\u001b[34m\u001b[1m🐞\u001b[0m] \u001b[34m\u001b[1m[BINANCE.UM:SWAP:AAVEUSDT] [SIM-ORDER-AAVEUSDT-100001] Order MARKET SELL 1.0  -> CLOSED\u001b[0m\n",
      "\u001b[96m2023-07-12 23:59:59.000\u001b[0m [\u001b[34m\u001b[1m🐞\u001b[0m] \u001b[34m\u001b[1mExecuted -1.0 @ 76.815 of BINANCE.UM:SWAP:AAVEUSDT for order \u001b[31mSIM-ORDER-AAVEUSDT-100001\u001b[0m\u001b[34m\u001b[1m\u001b[0m\n",
      "\u001b[96m2023-07-12 23:59:59.000\u001b[0m [\u001b[34m\u001b[1m🐞\u001b[0m] \u001b[34m\u001b[1m\u001b[32mAAVEUSDT\u001b[0m\u001b[34m\u001b[1m: Adjusting position from 0.0 to -1.0 : [SIM-ORDER-AAVEUSDT-100001] MARKET SELL 1.0 of AAVEUSDT  (gtc) [CLOSED]\u001b[0m\n",
      "\u001b[96m2023-07-13 23:59:59.000\u001b[0m [\u001b[1mℹ️\u001b[0m] \u001b[1mTrig: BTCUSDT,AAVEUSDT,ETHUSDT --> {'BTCUSDT': [2023-07-13T23:59:59.000000000]\t31441.65000 (0.0) | 31441.75000 (0.0), 'AAVEUSDT': [2023-07-13T23:36:00.000000000]\t79.35500 (0.0) | 79.36500 (0.0), 'ETHUSDT': [2023-07-13T23:36:00.000000000]\t2010.53500 (0.0) | 2010.54500 (0.0)}\u001b[0m\n",
      "\u001b[96m2023-07-14 23:59:59.000\u001b[0m [\u001b[1mℹ️\u001b[0m] \u001b[1mTrig: BTCUSDT,AAVEUSDT,ETHUSDT --> {'BTCUSDT': [2023-07-14T23:59:59.000000000]\t30293.25000 (0.0) | 30293.35000 (0.0), 'AAVEUSDT': [2023-07-14T23:36:00.000000000]\t81.48500 (0.0) | 81.49500 (0.0), 'ETHUSDT': [2023-07-14T23:36:00.000000000]\t1937.19500 (0.0) | 1937.20500 (0.0)}\u001b[0m\n",
      "\u001b[96m2023-07-15 23:59:59.000\u001b[0m [\u001b[1mℹ️\u001b[0m] \u001b[1mTrig: BTCUSDT,AAVEUSDT,ETHUSDT --> {'BTCUSDT': [2023-07-15T23:59:59.000000000]\t30276.35000 (0.0) | 30276.45000 (0.0), 'AAVEUSDT': [2023-07-15T23:36:00.000000000]\t78.99500 (0.0) | 79.00500 (0.0), 'ETHUSDT': [2023-07-15T23:36:00.000000000]\t1930.57500 (0.0) | 1930.58500 (0.0)}\u001b[0m\n",
      "\u001b[96m2023-07-16 23:59:59.000\u001b[0m [\u001b[1mℹ️\u001b[0m] \u001b[1mTrig: BTCUSDT,AAVEUSDT,ETHUSDT --> {'BTCUSDT': [2023-07-16T23:59:59.000000000]\t30216.75000 (0.0) | 30216.85000 (0.0), 'AAVEUSDT': [2023-07-16T23:36:00.000000000]\t76.13500 (0.0) | 76.14500 (0.0), 'ETHUSDT': [2023-07-16T23:36:00.000000000]\t1915.16500 (0.0) | 1915.17500 (0.0)}\u001b[0m\n",
      "\u001b[96m2023-07-17 23:59:59.000\u001b[0m [\u001b[34m\u001b[1m🐞\u001b[0m] \u001b[34m\u001b[1mInvoking \u001b[32mTestA\u001b[0m\u001b[34m\u001b[1m on_fit\u001b[0m\n",
      "\u001b[96m2023-07-17 23:59:59.000\u001b[0m [\u001b[1mℹ️\u001b[0m] \u001b[1m -> subscribe : BCHUSDT\u001b[0m\n",
      "\u001b[96m2023-07-17 23:59:59.000\u001b[0m [\u001b[34m\u001b[1m🐞\u001b[0m] \u001b[34m\u001b[1m | get_subscribed_instruments __all__ -> [BINANCE.UM:SWAP:BTCUSDT, BINANCE.UM:SWAP:ETHUSDT, BINANCE.UM:SWAP:AAVEUSDT]\u001b[0m\n",
      "\u001b[96m2023-07-17 23:59:59.000\u001b[0m [\u001b[34m\u001b[1m🐞\u001b[0m] \u001b[34m\u001b[1m | get_subscriptions None -> ['ohlc(15Min)']\u001b[0m\n",
      "\u001b[96m2023-07-17 23:59:59.000\u001b[0m [\u001b[34m\u001b[1m🐞\u001b[0m] \u001b[34m\u001b[1m | get_subscribed_instruments ohlc(15Min) -> [BINANCE.UM:SWAP:BTCUSDT, BINANCE.UM:SWAP:ETHUSDT, BINANCE.UM:SWAP:AAVEUSDT]\u001b[0m\n",
      "\u001b[96m2023-07-17 23:59:59.000\u001b[0m [\u001b[34m\u001b[1m🐞\u001b[0m] \u001b[34m\u001b[1m(StrategyContext) sending market buy for 1.0 of \u001b[32mAAVEUSDT\u001b[0m\u001b[34m\u001b[1m @ None ...\u001b[0m\n",
      "\u001b[96m2023-07-17 23:59:59.000\u001b[0m [\u001b[34m\u001b[1m🐞\u001b[0m] \u001b[34m\u001b[1m[OMS] AAVEUSDT - \u001b[31mSIM-ORDER-AAVEUSDT-100002\u001b[0m\u001b[34m\u001b[1m MARKET BUY 1.0 executed at 75.38499999999999\u001b[0m\n",
      "\u001b[96m2023-07-17 23:59:59.000\u001b[0m [\u001b[34m\u001b[1m🐞\u001b[0m] \u001b[34m\u001b[1m  ::  traded 1.0 for BINANCE.UM:SWAP:AAVEUSDT @ 75.38499999999999 -> 1.43\u001b[0m\n",
      "\u001b[96m2023-07-17 23:59:59.000\u001b[0m [\u001b[34m\u001b[1m🐞\u001b[0m] \u001b[34m\u001b[1m[BINANCE.UM:SWAP:AAVEUSDT] [SIM-ORDER-AAVEUSDT-100002] Order MARKET BUY 1.0  -> CLOSED\u001b[0m\n",
      "\u001b[96m2023-07-17 23:59:59.000\u001b[0m [\u001b[33m\u001b[1m⚠️\u001b[0m] \u001b[36mqubx.core.mixins.processing\u001b[0m:\u001b[36mprocess_data\u001b[0m:\u001b[36m137\u001b[0m - \u001b[33m\u001b[1mTestA::on_event() is SKIPPED for now because is being still fitting!\u001b[0m\n",
      "\u001b[96m2023-07-17 23:59:59.000\u001b[0m [\u001b[34m\u001b[1m🐞\u001b[0m] \u001b[34m\u001b[1mExecuted 1.0 @ 75.38499999999999 of BINANCE.UM:SWAP:AAVEUSDT for order \u001b[31mSIM-ORDER-AAVEUSDT-100002\u001b[0m\u001b[34m\u001b[1m\u001b[0m\n",
      "\u001b[96m2023-07-17 23:59:59.000\u001b[0m [\u001b[34m\u001b[1m🐞\u001b[0m] \u001b[34m\u001b[1m(StrategyContext) sending market sell for 1.0 of \u001b[32mBTCUSDT\u001b[0m\u001b[34m\u001b[1m @ None ...\u001b[0m\n",
      "\u001b[96m2023-07-17 23:59:59.000\u001b[0m [\u001b[34m\u001b[1m🐞\u001b[0m] \u001b[34m\u001b[1m[OMS] BTCUSDT - \u001b[31mSIM-ORDER-BTCUSDT-100002\u001b[0m\u001b[34m\u001b[1m MARKET SELL 1.0 executed at 30126.05\u001b[0m\n",
      "\u001b[96m2023-07-17 23:59:59.000\u001b[0m [\u001b[34m\u001b[1m🐞\u001b[0m] \u001b[34m\u001b[1m  ::  traded -1.0 for BINANCE.UM:SWAP:BTCUSDT @ 30126.05 -> -630.15\u001b[0m\n",
      "\u001b[96m2023-07-17 23:59:59.000\u001b[0m [\u001b[34m\u001b[1m🐞\u001b[0m] \u001b[34m\u001b[1m[BINANCE.UM:SWAP:BTCUSDT] [SIM-ORDER-BTCUSDT-100002] Order MARKET SELL 1.0  -> CLOSED\u001b[0m\n",
      "\u001b[96m2023-07-17 23:59:59.000\u001b[0m [\u001b[33m\u001b[1m⚠️\u001b[0m] \u001b[36mqubx.core.mixins.processing\u001b[0m:\u001b[36mprocess_data\u001b[0m:\u001b[36m137\u001b[0m - \u001b[33m\u001b[1mTestA::on_event() is SKIPPED for now because is being still fitting!\u001b[0m\n",
      "\u001b[96m2023-07-17 23:59:59.000\u001b[0m [\u001b[34m\u001b[1m🐞\u001b[0m] \u001b[34m\u001b[1mExecuted -1.0 @ 30126.05 of BINANCE.UM:SWAP:BTCUSDT for order \u001b[31mSIM-ORDER-BTCUSDT-100002\u001b[0m\u001b[34m\u001b[1m\u001b[0m\n",
      "\u001b[96m2023-07-17 23:59:59.000\u001b[0m [\u001b[34m\u001b[1m🐞\u001b[0m] \u001b[34m\u001b[1m | get_subscriptions None -> ['ohlc(15Min)']\u001b[0m\n",
      "\u001b[96m2023-07-17 23:59:59.000\u001b[0m [\u001b[34m\u001b[1m🐞\u001b[0m] \u001b[34m\u001b[1m | get_subscriptions None -> ['ohlc(15Min)']\u001b[0m\n",
      "\u001b[96m2023-07-17 23:59:59.000\u001b[0m [\u001b[34m\u001b[1m🐞\u001b[0m] \u001b[34m\u001b[1m | get_subscriptions None -> ['ohlc(15Min)']\u001b[0m\n",
      "\u001b[96m2023-07-17 23:59:59.000\u001b[0m [\u001b[34m\u001b[1m🐞\u001b[0m] \u001b[34m\u001b[1m | get_subscribed_instruments None -> [BINANCE.UM:SWAP:BTCUSDT, BINANCE.UM:SWAP:ETHUSDT, BINANCE.UM:SWAP:AAVEUSDT]\u001b[0m\n",
      "\u001b[96m2023-07-17 23:59:59.000\u001b[0m [\u001b[34m\u001b[1m🐞\u001b[0m] \u001b[34m\u001b[1m | get_subscribed_instruments ohlc(15Min) -> [BINANCE.UM:SWAP:BTCUSDT, BINANCE.UM:SWAP:ETHUSDT, BINANCE.UM:SWAP:AAVEUSDT]\u001b[0m\n",
      "\u001b[96m2023-07-17 23:59:59.000\u001b[0m [\u001b[34m\u001b[1m🐞\u001b[0m] \u001b[34m\u001b[1m | subscribe: ohlc(15Min) -> {BINANCE.UM:SWAP:BCHUSDT}\u001b[0m\n",
      "\u001b[96m2023-07-17 23:59:59.000\u001b[0m [\u001b[34m\u001b[1m🐞\u001b[0m] \u001b[34m\u001b[1m | unsubscribe: ohlc(15Min) -> {BINANCE.UM:SWAP:ETHUSDT, BINANCE.UM:SWAP:AAVEUSDT, BINANCE.UM:SWAP:BTCUSDT}\u001b[0m\n",
      "\u001b[96m2023-07-17 23:59:59.000\u001b[0m [\u001b[34m\u001b[1m🐞\u001b[0m] \u001b[34m\u001b[1m\u001b[32mTestA\u001b[0m\u001b[34m\u001b[1m is fitted\u001b[0m\n",
      "\u001b[96m2023-07-17 23:59:59.000\u001b[0m [\u001b[1mℹ️\u001b[0m] \u001b[1mTrig: BCHUSDT --> {'BCHUSDT': [2023-07-10T23:36:00.000000000]\t272.40500 (0.0) | 272.41500 (0.0)}\u001b[0m\n",
      "\u001b[96m2023-07-18 23:59:59.000\u001b[0m [\u001b[1mℹ️\u001b[0m] \u001b[1mTrig: BCHUSDT --> {'BCHUSDT': [2023-07-18T23:59:59.000000000]\t243.51500 (0.0) | 243.52500 (0.0)}\u001b[0m\n",
      "\u001b[96m2023-07-19 23:59:59.000\u001b[0m [\u001b[1mℹ️\u001b[0m] \u001b[1mTrig: BCHUSDT --> {'BCHUSDT': [2023-07-19T23:59:59.000000000]\t243.82500 (0.0) | 243.83500 (0.0)}\u001b[0m\n",
      "\u001b[96m2023-07-20 23:59:59.000\u001b[0m [\u001b[1mℹ️\u001b[0m] \u001b[1mTrig: BCHUSDT --> {'BCHUSDT': [2023-07-20T23:59:59.000000000]\t243.96500 (0.0) | 243.97500 (0.0)}\u001b[0m\n",
      "\u001b[96m2023-07-21 23:59:59.000\u001b[0m [\u001b[1mℹ️\u001b[0m] \u001b[1mTrig: BCHUSDT --> {'BCHUSDT': [2023-07-21T23:59:59.000000000]\t246.01500 (0.0) | 246.02500 (0.0)}\u001b[0m\n",
      "\u001b[96m2023-07-22 23:59:59.000\u001b[0m [\u001b[1mℹ️\u001b[0m] \u001b[1mTrig: BCHUSDT --> {'BCHUSDT': [2023-07-22T23:59:59.000000000]\t239.22500 (0.0) | 239.23500 (0.0)}\u001b[0m\n",
      "\u001b[96m2023-07-23 23:59:59.000\u001b[0m [\u001b[1mℹ️\u001b[0m] \u001b[1mTrig: BCHUSDT --> {'BCHUSDT': [2023-07-23T23:59:59.000000000]\t249.28500 (0.0) | 249.29500 (0.0)}\u001b[0m\n",
      "\u001b[96m2023-07-24 23:59:59.000\u001b[0m [\u001b[34m\u001b[1m🐞\u001b[0m] \u001b[34m\u001b[1mInvoking \u001b[32mTestA\u001b[0m\u001b[34m\u001b[1m on_fit\u001b[0m\n",
      "\u001b[96m2023-07-24 23:59:59.000\u001b[0m [\u001b[1mℹ️\u001b[0m] \u001b[1m -> subscribe : BTCUSDT,ETHUSDT\u001b[0m\n",
      "\u001b[96m2023-07-24 23:59:59.000\u001b[0m [\u001b[34m\u001b[1m🐞\u001b[0m] \u001b[34m\u001b[1m | get_subscribed_instruments __all__ -> [BINANCE.UM:SWAP:BCHUSDT]\u001b[0m\n",
      "\u001b[96m2023-07-24 23:59:59.000\u001b[0m [\u001b[34m\u001b[1m🐞\u001b[0m] \u001b[34m\u001b[1m | get_subscriptions None -> ['ohlc(15Min)']\u001b[0m\n",
      "\u001b[96m2023-07-24 23:59:59.000\u001b[0m [\u001b[34m\u001b[1m🐞\u001b[0m] \u001b[34m\u001b[1m | get_subscribed_instruments ohlc(15Min) -> [BINANCE.UM:SWAP:BCHUSDT]\u001b[0m\n",
      "\u001b[96m2023-07-24 23:59:59.000\u001b[0m [\u001b[34m\u001b[1m🐞\u001b[0m] \u001b[34m\u001b[1m | get_subscriptions None -> ['ohlc(15Min)']\u001b[0m\n",
      "\u001b[96m2023-07-24 23:59:59.000\u001b[0m [\u001b[34m\u001b[1m🐞\u001b[0m] \u001b[34m\u001b[1m | get_subscribed_instruments None -> [BINANCE.UM:SWAP:BCHUSDT]\u001b[0m\n",
      "\u001b[96m2023-07-24 23:59:59.000\u001b[0m [\u001b[34m\u001b[1m🐞\u001b[0m] \u001b[34m\u001b[1m | get_subscribed_instruments ohlc(15Min) -> [BINANCE.UM:SWAP:BCHUSDT]\u001b[0m\n",
      "\u001b[96m2023-07-24 23:59:59.000\u001b[0m [\u001b[34m\u001b[1m🐞\u001b[0m] \u001b[34m\u001b[1m | subscribe: ohlc(15Min) -> {BINANCE.UM:SWAP:ETHUSDT, BINANCE.UM:SWAP:BTCUSDT}\u001b[0m\n",
      "\u001b[96m2023-07-24 23:59:59.000\u001b[0m [\u001b[34m\u001b[1m🐞\u001b[0m] \u001b[34m\u001b[1m | unsubscribe: ohlc(15Min) -> {BINANCE.UM:SWAP:BCHUSDT}\u001b[0m\n",
      "\u001b[96m2023-07-24 23:59:59.000\u001b[0m [\u001b[34m\u001b[1m🐞\u001b[0m] \u001b[34m\u001b[1m\u001b[32mTestA\u001b[0m\u001b[34m\u001b[1m is fitted\u001b[0m\n",
      "\u001b[96m2023-07-24 23:59:59.000\u001b[0m [\u001b[1mℹ️\u001b[0m] \u001b[1mTrig: BTCUSDT,ETHUSDT --> {'BTCUSDT': [2023-07-17T23:59:59.000000000]\t30126.05000 (0.0) | 30126.15000 (0.0), 'ETHUSDT': [2023-07-17T23:36:00.000000000]\t1913.04500 (0.0) | 1913.05500 (0.0)}\u001b[0m\n",
      "\u001b[96m2023-07-25 23:59:59.000\u001b[0m [\u001b[1mℹ️\u001b[0m] \u001b[1mTrig: BTCUSDT,ETHUSDT --> {'BTCUSDT': [2023-07-25T23:59:59.000000000]\t29216.25000 (0.0) | 29216.35000 (0.0), 'ETHUSDT': [2023-07-25T23:36:00.000000000]\t1855.87500 (0.0) | 1855.88500 (0.0)}\u001b[0m\n",
      "\u001b[96m2023-07-26 23:59:59.000\u001b[0m [\u001b[1mℹ️\u001b[0m] \u001b[1mTrig: BTCUSDT,ETHUSDT --> {'BTCUSDT': [2023-07-26T23:59:59.000000000]\t29335.95000 (0.0) | 29336.05000 (0.0), 'ETHUSDT': [2023-07-26T23:36:00.000000000]\t1865.99500 (0.0) | 1866.00500 (0.0)}\u001b[0m\n",
      "\u001b[96m2023-07-27 23:59:59.000\u001b[0m [\u001b[1mℹ️\u001b[0m] \u001b[1mTrig: BTCUSDT,ETHUSDT --> {'BTCUSDT': [2023-07-27T23:59:59.000000000]\t29209.65000 (0.0) | 29209.75000 (0.0), 'ETHUSDT': [2023-07-27T23:36:00.000000000]\t1860.82500 (0.0) | 1860.83500 (0.0)}\u001b[0m\n",
      "\u001b[96m2023-07-28 23:59:59.000\u001b[0m [\u001b[1mℹ️\u001b[0m] \u001b[1mTrig: BTCUSDT,ETHUSDT --> {'BTCUSDT': [2023-07-28T23:59:59.000000000]\t29299.85000 (0.0) | 29299.95000 (0.0), 'ETHUSDT': [2023-07-28T23:36:00.000000000]\t1873.32500 (0.0) | 1873.33500 (0.0)}\u001b[0m\n",
      "\u001b[96m2023-07-29 23:59:59.000\u001b[0m [\u001b[1mℹ️\u001b[0m] \u001b[1mTrig: BTCUSDT,ETHUSDT --> {'BTCUSDT': [2023-07-29T23:59:59.000000000]\t29339.05000 (0.0) | 29339.15000 (0.0), 'ETHUSDT': [2023-07-29T23:36:00.000000000]\t1881.58500 (0.0) | 1881.59500 (0.0)}\u001b[0m\n",
      "\u001b[96m2023-07-30 00:59:59.000\u001b[0m [\u001b[1mℹ️\u001b[0m] \u001b[1mSimulatedExchange ::: Simulation finished at 2023-07-30 00:00:00 :::\u001b[0m\n",
      "\u001b[96m2023-07-30 00:59:59.000\u001b[0m [\u001b[34m\u001b[1m🐞\u001b[0m] \u001b[34m\u001b[1m\u001b[31m2023-07-01 00:00:00\u001b[0m\u001b[34m\u001b[1m Initiating simulated trading for binance.um for 1000 x 1.0 in USDT...\u001b[0m\n",
      "\u001b[96m2023-07-01 00:00:00.000\u001b[0m [\u001b[1mℹ️\u001b[0m] \u001b[1mSimulatedExchange.binance.um is initialized\u001b[0m\n",
      "\u001b[96m2023-07-01 00:00:00.000\u001b[0m [\u001b[34m\u001b[1m🐞\u001b[0m] \u001b[34m\u001b[1m | get_subscribed_instruments __all__ -> []\u001b[0m\n"
     ]
    },
    {
     "data": {
      "application/vnd.jupyter.widget-view+json": {
       "model_id": "6ab2dd1fb25e4cf18c2018b317b9a31e",
       "version_major": 2,
       "version_minor": 0
      },
      "text/plain": [
       "Simulating:   0%|          | 0/100 [00:00<?, ?%/s]"
      ]
     },
     "metadata": {},
     "output_type": "display_data"
    },
    {
     "name": "stdout",
     "output_type": "stream",
     "text": [
      "\u001b[96m2023-07-01 00:00:00.000\u001b[0m [\u001b[34m\u001b[1m🐞\u001b[0m] \u001b[34m\u001b[1m | get_subscriptions None -> []\u001b[0m\n",
      "\u001b[96m2023-07-01 00:00:00.000\u001b[0m [\u001b[34m\u001b[1m🐞\u001b[0m] \u001b[34m\u001b[1m | get_subscribed_instruments ohlc(30Min) -> []\u001b[0m\n",
      "\u001b[96m2023-07-01 00:00:00.000\u001b[0m [\u001b[34m\u001b[1m🐞\u001b[0m] \u001b[34m\u001b[1m | get_subscribed_instruments None -> []\u001b[0m\n",
      "\u001b[96m2023-07-01 00:00:00.000\u001b[0m [\u001b[34m\u001b[1m🐞\u001b[0m] \u001b[34m\u001b[1m | get_subscribed_instruments ohlc(30Min) -> []\u001b[0m\n",
      "\u001b[96m2023-07-01 00:00:00.000\u001b[0m [\u001b[34m\u001b[1m🐞\u001b[0m] \u001b[34m\u001b[1m | subscribe: ohlc(30Min) -> {BINANCE.UM:SWAP:BTCUSDT}\u001b[0m\n",
      "\u001b[96m2023-07-01 00:00:00.000\u001b[0m [\u001b[1mℹ️\u001b[0m] \u001b[1mSimulatedExchange ::: Simulation started at 2023-07-01 :::\u001b[0m\n",
      "\u001b[96m2023-07-01 00:00:00.000\u001b[0m [\u001b[34m\u001b[1m🐞\u001b[0m] \u001b[34m\u001b[1mPreloading initial data for ohlc.30Min 2023-07-01 00:00:00 : 2023-07-30 00:00:00 ...\u001b[0m\n",
      "\u001b[96m2023-07-01 00:00:01.000\u001b[0m [\u001b[34m\u001b[1m🐞\u001b[0m] \u001b[34m\u001b[1mInvoking \u001b[32mTestA\u001b[0m\u001b[34m\u001b[1m on_fit\u001b[0m\n",
      "\u001b[96m2023-07-01 00:00:01.000\u001b[0m [\u001b[1mℹ️\u001b[0m] \u001b[1m -> subscribe : BTCUSDT,ETHUSDT\u001b[0m\n",
      "\u001b[96m2023-07-01 00:00:01.000\u001b[0m [\u001b[34m\u001b[1m🐞\u001b[0m] \u001b[34m\u001b[1m | get_subscribed_instruments __all__ -> [BINANCE.UM:SWAP:BTCUSDT]\u001b[0m\n",
      "\u001b[96m2023-07-01 00:00:01.000\u001b[0m [\u001b[34m\u001b[1m🐞\u001b[0m] \u001b[34m\u001b[1m | get_subscriptions None -> ['ohlc(30Min)']\u001b[0m\n",
      "\u001b[96m2023-07-01 00:00:01.000\u001b[0m [\u001b[34m\u001b[1m🐞\u001b[0m] \u001b[34m\u001b[1m | get_subscribed_instruments ohlc(30Min) -> [BINANCE.UM:SWAP:BTCUSDT]\u001b[0m\n",
      "\u001b[96m2023-07-01 00:00:01.000\u001b[0m [\u001b[34m\u001b[1m🐞\u001b[0m] \u001b[34m\u001b[1m | get_subscribed_instruments None -> [BINANCE.UM:SWAP:BTCUSDT]\u001b[0m\n",
      "\u001b[96m2023-07-01 00:00:01.000\u001b[0m [\u001b[34m\u001b[1m🐞\u001b[0m] \u001b[34m\u001b[1m | get_subscribed_instruments ohlc(30Min) -> [BINANCE.UM:SWAP:BTCUSDT]\u001b[0m\n",
      "\u001b[96m2023-07-01 00:00:01.000\u001b[0m [\u001b[34m\u001b[1m🐞\u001b[0m] \u001b[34m\u001b[1m | subscribe: ohlc(30Min) -> {BINANCE.UM:SWAP:ETHUSDT, BINANCE.UM:SWAP:BTCUSDT}\u001b[0m\n",
      "\u001b[96m2023-07-01 00:00:01.000\u001b[0m [\u001b[34m\u001b[1m🐞\u001b[0m] \u001b[34m\u001b[1m\u001b[32mTestA\u001b[0m\u001b[34m\u001b[1m is fitted\u001b[0m\n",
      "\u001b[96m2023-07-01 23:59:59.000\u001b[0m [\u001b[1mℹ️\u001b[0m] \u001b[1mTrig: BTCUSDT,ETHUSDT --> {'BTCUSDT': [2023-07-01T23:59:59.000000000]\t30573.55000 (0.0) | 30573.65000 (0.0), 'ETHUSDT': [2023-07-01T23:36:00.000000000]\t1924.99500 (0.0) | 1925.00500 (0.0)}\u001b[0m\n",
      "\u001b[96m2023-07-02 23:59:59.000\u001b[0m [\u001b[1mℹ️\u001b[0m] \u001b[1mTrig: BTCUSDT,ETHUSDT --> {'BTCUSDT': [2023-07-02T23:59:59.000000000]\t30612.65000 (0.0) | 30612.75000 (0.0), 'ETHUSDT': [2023-07-02T23:36:00.000000000]\t1930.19500 (0.0) | 1930.20500 (0.0)}\u001b[0m\n",
      "\u001b[96m2023-07-02 23:59:59.000\u001b[0m [\u001b[1mℹ️\u001b[0m] \u001b[1mSELL: BINANCE.UM:SWAP:ETHUSDT\u001b[0m\n",
      "\u001b[96m2023-07-02 23:59:59.000\u001b[0m [\u001b[34m\u001b[1m🐞\u001b[0m] \u001b[34m\u001b[1m(StrategyContext) sending market sell for 1.0 of \u001b[32mETHUSDT\u001b[0m\u001b[34m\u001b[1m @ None ...\u001b[0m\n",
      "\u001b[96m2023-07-02 23:59:59.000\u001b[0m [\u001b[34m\u001b[1m🐞\u001b[0m] \u001b[34m\u001b[1m[OMS] ETHUSDT - \u001b[31mSIM-ORDER-ETHUSDT-100001\u001b[0m\u001b[34m\u001b[1m MARKET SELL 1.0 executed at 1930.195\u001b[0m\n",
      "\u001b[96m2023-07-02 23:59:59.000\u001b[0m [\u001b[34m\u001b[1m🐞\u001b[0m] \u001b[34m\u001b[1m  ::  traded -1.0 for BINANCE.UM:SWAP:ETHUSDT @ 1930.195 -> 0.00\u001b[0m\n",
      "\u001b[96m2023-07-02 23:59:59.000\u001b[0m [\u001b[34m\u001b[1m🐞\u001b[0m] \u001b[34m\u001b[1m[BINANCE.UM:SWAP:ETHUSDT] [SIM-ORDER-ETHUSDT-100001] Order MARKET SELL 1.0  -> CLOSED\u001b[0m\n",
      "\u001b[96m2023-07-02 23:59:59.000\u001b[0m [\u001b[34m\u001b[1m🐞\u001b[0m] \u001b[34m\u001b[1mExecuted -1.0 @ 1930.195 of BINANCE.UM:SWAP:ETHUSDT for order \u001b[31mSIM-ORDER-ETHUSDT-100001\u001b[0m\u001b[34m\u001b[1m\u001b[0m\n",
      "\u001b[96m2023-07-02 23:59:59.000\u001b[0m [\u001b[34m\u001b[1m🐞\u001b[0m] \u001b[34m\u001b[1m\u001b[32mETHUSDT\u001b[0m\u001b[34m\u001b[1m: Adjusting position from 0.0 to -1.0 : [SIM-ORDER-ETHUSDT-100001] MARKET SELL 1.0 of ETHUSDT  (gtc) [CLOSED]\u001b[0m\n",
      "\u001b[96m2023-07-03 23:59:59.000\u001b[0m [\u001b[34m\u001b[1m🐞\u001b[0m] \u001b[34m\u001b[1mInvoking \u001b[32mTestA\u001b[0m\u001b[34m\u001b[1m on_fit\u001b[0m\n",
      "\u001b[96m2023-07-03 23:59:59.000\u001b[0m [\u001b[1mℹ️\u001b[0m] \u001b[1m -> subscribe : BTCUSDT,BCHUSDT,LTCUSDT\u001b[0m\n",
      "\u001b[96m2023-07-03 23:59:59.000\u001b[0m [\u001b[34m\u001b[1m🐞\u001b[0m] \u001b[34m\u001b[1m | get_subscribed_instruments __all__ -> [BINANCE.UM:SWAP:BTCUSDT, BINANCE.UM:SWAP:ETHUSDT]\u001b[0m\n",
      "\u001b[96m2023-07-03 23:59:59.000\u001b[0m [\u001b[34m\u001b[1m🐞\u001b[0m] \u001b[34m\u001b[1m | get_subscriptions None -> ['ohlc(30Min)']\u001b[0m\n",
      "\u001b[96m2023-07-03 23:59:59.000\u001b[0m [\u001b[34m\u001b[1m🐞\u001b[0m] \u001b[34m\u001b[1m | get_subscribed_instruments ohlc(30Min) -> [BINANCE.UM:SWAP:BTCUSDT, BINANCE.UM:SWAP:ETHUSDT]\u001b[0m\n",
      "\u001b[96m2023-07-03 23:59:59.000\u001b[0m [\u001b[34m\u001b[1m🐞\u001b[0m] \u001b[34m\u001b[1m(StrategyContext) sending market buy for 1.0 of \u001b[32mETHUSDT\u001b[0m\u001b[34m\u001b[1m @ None ...\u001b[0m\n",
      "\u001b[96m2023-07-03 23:59:59.000\u001b[0m [\u001b[34m\u001b[1m🐞\u001b[0m] \u001b[34m\u001b[1m[OMS] ETHUSDT - \u001b[31mSIM-ORDER-ETHUSDT-100002\u001b[0m\u001b[34m\u001b[1m MARKET BUY 1.0 executed at 1955.565\u001b[0m\n",
      "\u001b[96m2023-07-03 23:59:59.000\u001b[0m [\u001b[34m\u001b[1m🐞\u001b[0m] \u001b[34m\u001b[1m  ::  traded 1.0 for BINANCE.UM:SWAP:ETHUSDT @ 1955.565 -> -25.38\u001b[0m\n",
      "\u001b[96m2023-07-03 23:59:59.000\u001b[0m [\u001b[34m\u001b[1m🐞\u001b[0m] \u001b[34m\u001b[1m[BINANCE.UM:SWAP:ETHUSDT] [SIM-ORDER-ETHUSDT-100002] Order MARKET BUY 1.0  -> CLOSED\u001b[0m\n",
      "\u001b[96m2023-07-03 23:59:59.000\u001b[0m [\u001b[33m\u001b[1m⚠️\u001b[0m] \u001b[36mqubx.core.mixins.processing\u001b[0m:\u001b[36mprocess_data\u001b[0m:\u001b[36m137\u001b[0m - \u001b[33m\u001b[1mTestA::on_event() is SKIPPED for now because is being still fitting!\u001b[0m\n",
      "\u001b[96m2023-07-03 23:59:59.000\u001b[0m [\u001b[34m\u001b[1m🐞\u001b[0m] \u001b[34m\u001b[1mExecuted 1.0 @ 1955.565 of BINANCE.UM:SWAP:ETHUSDT for order \u001b[31mSIM-ORDER-ETHUSDT-100002\u001b[0m\u001b[34m\u001b[1m\u001b[0m\n",
      "\u001b[96m2023-07-03 23:59:59.000\u001b[0m [\u001b[34m\u001b[1m🐞\u001b[0m] \u001b[34m\u001b[1m | get_subscriptions None -> ['ohlc(30Min)']\u001b[0m\n",
      "\u001b[96m2023-07-03 23:59:59.000\u001b[0m [\u001b[34m\u001b[1m🐞\u001b[0m] \u001b[34m\u001b[1m | get_subscribed_instruments None -> [BINANCE.UM:SWAP:BTCUSDT, BINANCE.UM:SWAP:ETHUSDT]\u001b[0m\n",
      "\u001b[96m2023-07-03 23:59:59.000\u001b[0m [\u001b[34m\u001b[1m🐞\u001b[0m] \u001b[34m\u001b[1m | get_subscribed_instruments ohlc(30Min) -> [BINANCE.UM:SWAP:BTCUSDT, BINANCE.UM:SWAP:ETHUSDT]\u001b[0m\n",
      "\u001b[96m2023-07-03 23:59:59.000\u001b[0m [\u001b[34m\u001b[1m🐞\u001b[0m] \u001b[34m\u001b[1m | subscribe: ohlc(30Min) -> {BINANCE.UM:SWAP:BTCUSDT, BINANCE.UM:SWAP:BCHUSDT, BINANCE.UM:SWAP:LTCUSDT}\u001b[0m\n",
      "\u001b[96m2023-07-03 23:59:59.000\u001b[0m [\u001b[34m\u001b[1m🐞\u001b[0m] \u001b[34m\u001b[1m | unsubscribe: ohlc(30Min) -> {BINANCE.UM:SWAP:ETHUSDT}\u001b[0m\n",
      "\u001b[96m2023-07-03 23:59:59.000\u001b[0m [\u001b[34m\u001b[1m🐞\u001b[0m] \u001b[34m\u001b[1m\u001b[32mTestA\u001b[0m\u001b[34m\u001b[1m is fitted\u001b[0m\n",
      "\u001b[96m2023-07-03 23:59:59.000\u001b[0m [\u001b[1mℹ️\u001b[0m] \u001b[1mTrig: BTCUSDT,BCHUSDT,LTCUSDT --> {'BTCUSDT': [2023-07-03T23:59:59.000000000]\t31148.95000 (0.0) | 31149.05000 (0.0), 'BCHUSDT': None, 'LTCUSDT': None}\u001b[0m\n",
      "\u001b[96m2023-07-04 23:59:59.000\u001b[0m [\u001b[1mℹ️\u001b[0m] \u001b[1mTrig: BTCUSDT,BCHUSDT,LTCUSDT --> {'BTCUSDT': [2023-07-04T23:59:59.000000000]\t30756.05000 (0.0) | 30756.15000 (0.0), 'BCHUSDT': [2023-07-04T23:36:00.000000000]\t270.94500 (0.0) | 270.95500 (0.0), 'LTCUSDT': [2023-07-04T23:36:00.000000000]\t104.10500 (0.0) | 104.11500 (0.0)}\u001b[0m\n",
      "\u001b[96m2023-07-05 23:59:59.000\u001b[0m [\u001b[1mℹ️\u001b[0m] \u001b[1mTrig: BTCUSDT,BCHUSDT,LTCUSDT --> {'BTCUSDT': [2023-07-05T23:59:59.000000000]\t30488.35000 (0.0) | 30488.45000 (0.0), 'BCHUSDT': [2023-07-05T23:36:00.000000000]\t273.51500 (0.0) | 273.52500 (0.0), 'LTCUSDT': [2023-07-05T23:36:00.000000000]\t102.99500 (0.0) | 103.00500 (0.0)}\u001b[0m\n",
      "\u001b[96m2023-07-06 23:59:59.000\u001b[0m [\u001b[1mℹ️\u001b[0m] \u001b[1mTrig: BTCUSDT,BCHUSDT,LTCUSDT --> {'BTCUSDT': [2023-07-06T23:59:59.000000000]\t29874.35000 (0.0) | 29874.45000 (0.0), 'BCHUSDT': [2023-07-06T23:36:00.000000000]\t272.25500 (0.0) | 272.26500 (0.0), 'LTCUSDT': [2023-07-06T23:36:00.000000000]\t95.10500 (0.0) | 95.11500 (0.0)}\u001b[0m\n",
      "\u001b[96m2023-07-07 23:59:59.000\u001b[0m [\u001b[1mℹ️\u001b[0m] \u001b[1mTrig: BTCUSDT,BCHUSDT,LTCUSDT --> {'BTCUSDT': [2023-07-07T23:59:59.000000000]\t30327.85000 (0.0) | 30327.95000 (0.0), 'BCHUSDT': [2023-07-07T23:36:00.000000000]\t279.64500 (0.0) | 279.65500 (0.0), 'LTCUSDT': [2023-07-07T23:36:00.000000000]\t97.79500 (0.0) | 97.80500 (0.0)}\u001b[0m\n",
      "\u001b[96m2023-07-08 23:59:59.000\u001b[0m [\u001b[1mℹ️\u001b[0m] \u001b[1mTrig: BTCUSDT,BCHUSDT,LTCUSDT --> {'BTCUSDT': [2023-07-08T23:59:59.000000000]\t30269.25000 (0.0) | 30269.35000 (0.0), 'BCHUSDT': [2023-07-08T23:36:00.000000000]\t273.08500 (0.0) | 273.09500 (0.0), 'LTCUSDT': [2023-07-08T23:36:00.000000000]\t97.88500 (0.0) | 97.89500 (0.0)}\u001b[0m\n",
      "\u001b[96m2023-07-09 23:59:59.000\u001b[0m [\u001b[1mℹ️\u001b[0m] \u001b[1mTrig: BTCUSDT,BCHUSDT,LTCUSDT --> {'BTCUSDT': [2023-07-09T23:59:59.000000000]\t30147.75000 (0.0) | 30147.85000 (0.0), 'BCHUSDT': [2023-07-09T23:36:00.000000000]\t263.94500 (0.0) | 263.95500 (0.0), 'LTCUSDT': [2023-07-09T23:36:00.000000000]\t93.84500 (0.0) | 93.85500 (0.0)}\u001b[0m\n",
      "\u001b[96m2023-07-10 23:59:59.000\u001b[0m [\u001b[34m\u001b[1m🐞\u001b[0m] \u001b[34m\u001b[1mInvoking \u001b[32mTestA\u001b[0m\u001b[34m\u001b[1m on_fit\u001b[0m\n",
      "\u001b[96m2023-07-10 23:59:59.000\u001b[0m [\u001b[1mℹ️\u001b[0m] \u001b[1m -> subscribe : BTCUSDT,AAVEUSDT,ETHUSDT\u001b[0m\n",
      "\u001b[96m2023-07-10 23:59:59.000\u001b[0m [\u001b[34m\u001b[1m🐞\u001b[0m] \u001b[34m\u001b[1m | get_subscribed_instruments __all__ -> [BINANCE.UM:SWAP:BTCUSDT, BINANCE.UM:SWAP:BCHUSDT, BINANCE.UM:SWAP:LTCUSDT]\u001b[0m\n",
      "\u001b[96m2023-07-10 23:59:59.000\u001b[0m [\u001b[34m\u001b[1m🐞\u001b[0m] \u001b[34m\u001b[1m | get_subscriptions None -> ['ohlc(30Min)']\u001b[0m\n",
      "\u001b[96m2023-07-10 23:59:59.000\u001b[0m [\u001b[34m\u001b[1m🐞\u001b[0m] \u001b[34m\u001b[1m | get_subscribed_instruments ohlc(30Min) -> [BINANCE.UM:SWAP:BTCUSDT, BINANCE.UM:SWAP:BCHUSDT, BINANCE.UM:SWAP:LTCUSDT]\u001b[0m\n",
      "\u001b[96m2023-07-10 23:59:59.000\u001b[0m [\u001b[34m\u001b[1m🐞\u001b[0m] \u001b[34m\u001b[1m | get_subscriptions None -> ['ohlc(30Min)']\u001b[0m\n",
      "\u001b[96m2023-07-10 23:59:59.000\u001b[0m [\u001b[34m\u001b[1m🐞\u001b[0m] \u001b[34m\u001b[1m | get_subscriptions None -> ['ohlc(30Min)']\u001b[0m\n",
      "\u001b[96m2023-07-10 23:59:59.000\u001b[0m [\u001b[34m\u001b[1m🐞\u001b[0m] \u001b[34m\u001b[1m | get_subscribed_instruments None -> [BINANCE.UM:SWAP:BTCUSDT, BINANCE.UM:SWAP:BCHUSDT, BINANCE.UM:SWAP:LTCUSDT]\u001b[0m\n",
      "\u001b[96m2023-07-10 23:59:59.000\u001b[0m [\u001b[34m\u001b[1m🐞\u001b[0m] \u001b[34m\u001b[1m | get_subscribed_instruments ohlc(30Min) -> [BINANCE.UM:SWAP:BTCUSDT, BINANCE.UM:SWAP:BCHUSDT, BINANCE.UM:SWAP:LTCUSDT]\u001b[0m\n",
      "\u001b[96m2023-07-10 23:59:59.000\u001b[0m [\u001b[34m\u001b[1m🐞\u001b[0m] \u001b[34m\u001b[1m | subscribe: ohlc(30Min) -> {BINANCE.UM:SWAP:ETHUSDT, BINANCE.UM:SWAP:AAVEUSDT, BINANCE.UM:SWAP:BTCUSDT}\u001b[0m\n",
      "\u001b[96m2023-07-10 23:59:59.000\u001b[0m [\u001b[34m\u001b[1m🐞\u001b[0m] \u001b[34m\u001b[1m | unsubscribe: ohlc(30Min) -> {BINANCE.UM:SWAP:BCHUSDT, BINANCE.UM:SWAP:LTCUSDT}\u001b[0m\n",
      "\u001b[96m2023-07-10 23:59:59.000\u001b[0m [\u001b[34m\u001b[1m🐞\u001b[0m] \u001b[34m\u001b[1m\u001b[32mTestA\u001b[0m\u001b[34m\u001b[1m is fitted\u001b[0m\n",
      "\u001b[96m2023-07-10 23:59:59.000\u001b[0m [\u001b[1mℹ️\u001b[0m] \u001b[1mTrig: BTCUSDT,AAVEUSDT,ETHUSDT --> {'BTCUSDT': [2023-07-10T23:59:59.000000000]\t30396.85000 (0.0) | 30396.95000 (0.0), 'AAVEUSDT': None, 'ETHUSDT': [2023-07-03T23:36:00.000000000]\t1955.55500 (0.0) | 1955.56500 (0.0)}\u001b[0m\n",
      "\u001b[96m2023-07-11 23:59:59.000\u001b[0m [\u001b[1mℹ️\u001b[0m] \u001b[1mTrig: BTCUSDT,AAVEUSDT,ETHUSDT --> {'BTCUSDT': [2023-07-11T23:59:59.000000000]\t30608.35000 (0.0) | 30608.45000 (0.0), 'AAVEUSDT': [2023-07-11T23:36:00.000000000]\t73.66500 (0.0) | 73.67500 (0.0), 'ETHUSDT': [2023-07-11T23:36:00.000000000]\t1876.08500 (0.0) | 1876.09500 (0.0)}\u001b[0m\n",
      "\u001b[96m2023-07-12 23:59:59.000\u001b[0m [\u001b[1mℹ️\u001b[0m] \u001b[1mTrig: BTCUSDT,AAVEUSDT,ETHUSDT --> {'BTCUSDT': [2023-07-12T23:59:59.000000000]\t30368.85000 (0.0) | 30368.95000 (0.0), 'AAVEUSDT': [2023-07-12T23:36:00.000000000]\t76.81500 (0.0) | 76.82500 (0.0), 'ETHUSDT': [2023-07-12T23:36:00.000000000]\t1873.25500 (0.0) | 1873.26500 (0.0)}\u001b[0m\n",
      "\u001b[96m2023-07-13 23:59:59.000\u001b[0m [\u001b[1mℹ️\u001b[0m] \u001b[1mTrig: BTCUSDT,AAVEUSDT,ETHUSDT --> {'BTCUSDT': [2023-07-13T23:59:59.000000000]\t31441.65000 (0.0) | 31441.75000 (0.0), 'AAVEUSDT': [2023-07-13T23:36:00.000000000]\t79.35500 (0.0) | 79.36500 (0.0), 'ETHUSDT': [2023-07-13T23:36:00.000000000]\t2010.53500 (0.0) | 2010.54500 (0.0)}\u001b[0m\n",
      "\u001b[96m2023-07-14 23:59:59.000\u001b[0m [\u001b[1mℹ️\u001b[0m] \u001b[1mTrig: BTCUSDT,AAVEUSDT,ETHUSDT --> {'BTCUSDT': [2023-07-14T23:59:59.000000000]\t30293.25000 (0.0) | 30293.35000 (0.0), 'AAVEUSDT': [2023-07-14T23:36:00.000000000]\t81.48500 (0.0) | 81.49500 (0.0), 'ETHUSDT': [2023-07-14T23:36:00.000000000]\t1937.19500 (0.0) | 1937.20500 (0.0)}\u001b[0m\n",
      "\u001b[96m2023-07-15 23:59:59.000\u001b[0m [\u001b[1mℹ️\u001b[0m] \u001b[1mTrig: BTCUSDT,AAVEUSDT,ETHUSDT --> {'BTCUSDT': [2023-07-15T23:59:59.000000000]\t30276.35000 (0.0) | 30276.45000 (0.0), 'AAVEUSDT': [2023-07-15T23:36:00.000000000]\t78.99500 (0.0) | 79.00500 (0.0), 'ETHUSDT': [2023-07-15T23:36:00.000000000]\t1930.57500 (0.0) | 1930.58500 (0.0)}\u001b[0m\n",
      "\u001b[96m2023-07-16 23:59:59.000\u001b[0m [\u001b[1mℹ️\u001b[0m] \u001b[1mTrig: BTCUSDT,AAVEUSDT,ETHUSDT --> {'BTCUSDT': [2023-07-16T23:59:59.000000000]\t30216.75000 (0.0) | 30216.85000 (0.0), 'AAVEUSDT': [2023-07-16T23:36:00.000000000]\t76.13500 (0.0) | 76.14500 (0.0), 'ETHUSDT': [2023-07-16T23:36:00.000000000]\t1915.16500 (0.0) | 1915.17500 (0.0)}\u001b[0m\n",
      "\u001b[96m2023-07-17 23:59:59.000\u001b[0m [\u001b[34m\u001b[1m🐞\u001b[0m] \u001b[34m\u001b[1mInvoking \u001b[32mTestA\u001b[0m\u001b[34m\u001b[1m on_fit\u001b[0m\n",
      "\u001b[96m2023-07-17 23:59:59.000\u001b[0m [\u001b[1mℹ️\u001b[0m] \u001b[1m -> subscribe : BCHUSDT\u001b[0m\n",
      "\u001b[96m2023-07-17 23:59:59.000\u001b[0m [\u001b[34m\u001b[1m🐞\u001b[0m] \u001b[34m\u001b[1m | get_subscribed_instruments __all__ -> [BINANCE.UM:SWAP:BTCUSDT, BINANCE.UM:SWAP:ETHUSDT, BINANCE.UM:SWAP:AAVEUSDT]\u001b[0m\n",
      "\u001b[96m2023-07-17 23:59:59.000\u001b[0m [\u001b[34m\u001b[1m🐞\u001b[0m] \u001b[34m\u001b[1m | get_subscriptions None -> ['ohlc(30Min)']\u001b[0m\n",
      "\u001b[96m2023-07-17 23:59:59.000\u001b[0m [\u001b[34m\u001b[1m🐞\u001b[0m] \u001b[34m\u001b[1m | get_subscribed_instruments ohlc(30Min) -> [BINANCE.UM:SWAP:BTCUSDT, BINANCE.UM:SWAP:ETHUSDT, BINANCE.UM:SWAP:AAVEUSDT]\u001b[0m\n",
      "\u001b[96m2023-07-17 23:59:59.000\u001b[0m [\u001b[34m\u001b[1m🐞\u001b[0m] \u001b[34m\u001b[1m | get_subscriptions None -> ['ohlc(30Min)']\u001b[0m\n",
      "\u001b[96m2023-07-17 23:59:59.000\u001b[0m [\u001b[34m\u001b[1m🐞\u001b[0m] \u001b[34m\u001b[1m | get_subscriptions None -> ['ohlc(30Min)']\u001b[0m\n",
      "\u001b[96m2023-07-17 23:59:59.000\u001b[0m [\u001b[34m\u001b[1m🐞\u001b[0m] \u001b[34m\u001b[1m | get_subscriptions None -> ['ohlc(30Min)']\u001b[0m\n",
      "\u001b[96m2023-07-17 23:59:59.000\u001b[0m [\u001b[34m\u001b[1m🐞\u001b[0m] \u001b[34m\u001b[1m | get_subscribed_instruments None -> [BINANCE.UM:SWAP:BTCUSDT, BINANCE.UM:SWAP:ETHUSDT, BINANCE.UM:SWAP:AAVEUSDT]\u001b[0m\n",
      "\u001b[96m2023-07-17 23:59:59.000\u001b[0m [\u001b[34m\u001b[1m🐞\u001b[0m] \u001b[34m\u001b[1m | get_subscribed_instruments ohlc(30Min) -> [BINANCE.UM:SWAP:BTCUSDT, BINANCE.UM:SWAP:ETHUSDT, BINANCE.UM:SWAP:AAVEUSDT]\u001b[0m\n",
      "\u001b[96m2023-07-17 23:59:59.000\u001b[0m [\u001b[34m\u001b[1m🐞\u001b[0m] \u001b[34m\u001b[1m | subscribe: ohlc(30Min) -> {BINANCE.UM:SWAP:BCHUSDT}\u001b[0m\n",
      "\u001b[96m2023-07-17 23:59:59.000\u001b[0m [\u001b[34m\u001b[1m🐞\u001b[0m] \u001b[34m\u001b[1m | unsubscribe: ohlc(30Min) -> {BINANCE.UM:SWAP:ETHUSDT, BINANCE.UM:SWAP:AAVEUSDT, BINANCE.UM:SWAP:BTCUSDT}\u001b[0m\n",
      "\u001b[96m2023-07-17 23:59:59.000\u001b[0m [\u001b[34m\u001b[1m🐞\u001b[0m] \u001b[34m\u001b[1m\u001b[32mTestA\u001b[0m\u001b[34m\u001b[1m is fitted\u001b[0m\n",
      "\u001b[96m2023-07-17 23:59:59.000\u001b[0m [\u001b[1mℹ️\u001b[0m] \u001b[1mTrig: BCHUSDT --> {'BCHUSDT': [2023-07-10T23:36:00.000000000]\t272.40500 (0.0) | 272.41500 (0.0)}\u001b[0m\n",
      "\u001b[96m2023-07-18 23:59:59.000\u001b[0m [\u001b[1mℹ️\u001b[0m] \u001b[1mTrig: BCHUSDT --> {'BCHUSDT': [2023-07-18T23:59:59.000000000]\t243.51500 (0.0) | 243.52500 (0.0)}\u001b[0m\n",
      "\u001b[96m2023-07-19 23:59:59.000\u001b[0m [\u001b[1mℹ️\u001b[0m] \u001b[1mTrig: BCHUSDT --> {'BCHUSDT': [2023-07-19T23:59:59.000000000]\t243.82500 (0.0) | 243.83500 (0.0)}\u001b[0m\n",
      "\u001b[96m2023-07-20 23:59:59.000\u001b[0m [\u001b[1mℹ️\u001b[0m] \u001b[1mTrig: BCHUSDT --> {'BCHUSDT': [2023-07-20T23:59:59.000000000]\t243.96500 (0.0) | 243.97500 (0.0)}\u001b[0m\n",
      "\u001b[96m2023-07-21 23:59:59.000\u001b[0m [\u001b[1mℹ️\u001b[0m] \u001b[1mTrig: BCHUSDT --> {'BCHUSDT': [2023-07-21T23:59:59.000000000]\t246.01500 (0.0) | 246.02500 (0.0)}\u001b[0m\n",
      "\u001b[96m2023-07-22 23:59:59.000\u001b[0m [\u001b[1mℹ️\u001b[0m] \u001b[1mTrig: BCHUSDT --> {'BCHUSDT': [2023-07-22T23:59:59.000000000]\t239.22500 (0.0) | 239.23500 (0.0)}\u001b[0m\n",
      "\u001b[96m2023-07-23 23:59:59.000\u001b[0m [\u001b[1mℹ️\u001b[0m] \u001b[1mTrig: BCHUSDT --> {'BCHUSDT': [2023-07-23T23:59:59.000000000]\t249.28500 (0.0) | 249.29500 (0.0)}\u001b[0m\n",
      "\u001b[96m2023-07-24 23:59:59.000\u001b[0m [\u001b[34m\u001b[1m🐞\u001b[0m] \u001b[34m\u001b[1mInvoking \u001b[32mTestA\u001b[0m\u001b[34m\u001b[1m on_fit\u001b[0m\n",
      "\u001b[96m2023-07-24 23:59:59.000\u001b[0m [\u001b[1mℹ️\u001b[0m] \u001b[1m -> subscribe : BTCUSDT,ETHUSDT\u001b[0m\n",
      "\u001b[96m2023-07-24 23:59:59.000\u001b[0m [\u001b[34m\u001b[1m🐞\u001b[0m] \u001b[34m\u001b[1m | get_subscribed_instruments __all__ -> [BINANCE.UM:SWAP:BCHUSDT]\u001b[0m\n",
      "\u001b[96m2023-07-24 23:59:59.000\u001b[0m [\u001b[34m\u001b[1m🐞\u001b[0m] \u001b[34m\u001b[1m | get_subscriptions None -> ['ohlc(30Min)']\u001b[0m\n",
      "\u001b[96m2023-07-24 23:59:59.000\u001b[0m [\u001b[34m\u001b[1m🐞\u001b[0m] \u001b[34m\u001b[1m | get_subscribed_instruments ohlc(30Min) -> [BINANCE.UM:SWAP:BCHUSDT]\u001b[0m\n",
      "\u001b[96m2023-07-24 23:59:59.000\u001b[0m [\u001b[34m\u001b[1m🐞\u001b[0m] \u001b[34m\u001b[1m | get_subscriptions None -> ['ohlc(30Min)']\u001b[0m\n",
      "\u001b[96m2023-07-24 23:59:59.000\u001b[0m [\u001b[34m\u001b[1m🐞\u001b[0m] \u001b[34m\u001b[1m | get_subscribed_instruments None -> [BINANCE.UM:SWAP:BCHUSDT]\u001b[0m\n",
      "\u001b[96m2023-07-24 23:59:59.000\u001b[0m [\u001b[34m\u001b[1m🐞\u001b[0m] \u001b[34m\u001b[1m | get_subscribed_instruments ohlc(30Min) -> [BINANCE.UM:SWAP:BCHUSDT]\u001b[0m\n",
      "\u001b[96m2023-07-24 23:59:59.000\u001b[0m [\u001b[34m\u001b[1m🐞\u001b[0m] \u001b[34m\u001b[1m | subscribe: ohlc(30Min) -> {BINANCE.UM:SWAP:ETHUSDT, BINANCE.UM:SWAP:BTCUSDT}\u001b[0m\n",
      "\u001b[96m2023-07-24 23:59:59.000\u001b[0m [\u001b[34m\u001b[1m🐞\u001b[0m] \u001b[34m\u001b[1m | unsubscribe: ohlc(30Min) -> {BINANCE.UM:SWAP:BCHUSDT}\u001b[0m\n",
      "\u001b[96m2023-07-24 23:59:59.000\u001b[0m [\u001b[34m\u001b[1m🐞\u001b[0m] \u001b[34m\u001b[1m\u001b[32mTestA\u001b[0m\u001b[34m\u001b[1m is fitted\u001b[0m\n",
      "\u001b[96m2023-07-24 23:59:59.000\u001b[0m [\u001b[1mℹ️\u001b[0m] \u001b[1mTrig: BTCUSDT,ETHUSDT --> {'BTCUSDT': [2023-07-17T23:59:59.000000000]\t30126.05000 (0.0) | 30126.15000 (0.0), 'ETHUSDT': [2023-07-17T23:36:00.000000000]\t1913.04500 (0.0) | 1913.05500 (0.0)}\u001b[0m\n",
      "\u001b[96m2023-07-25 23:59:59.000\u001b[0m [\u001b[1mℹ️\u001b[0m] \u001b[1mTrig: BTCUSDT,ETHUSDT --> {'BTCUSDT': [2023-07-25T23:59:59.000000000]\t29216.25000 (0.0) | 29216.35000 (0.0), 'ETHUSDT': [2023-07-25T23:36:00.000000000]\t1855.87500 (0.0) | 1855.88500 (0.0)}\u001b[0m\n",
      "\u001b[96m2023-07-26 23:59:59.000\u001b[0m [\u001b[1mℹ️\u001b[0m] \u001b[1mTrig: BTCUSDT,ETHUSDT --> {'BTCUSDT': [2023-07-26T23:59:59.000000000]\t29335.95000 (0.0) | 29336.05000 (0.0), 'ETHUSDT': [2023-07-26T23:36:00.000000000]\t1865.99500 (0.0) | 1866.00500 (0.0)}\u001b[0m\n",
      "\u001b[96m2023-07-27 23:59:59.000\u001b[0m [\u001b[1mℹ️\u001b[0m] \u001b[1mTrig: BTCUSDT,ETHUSDT --> {'BTCUSDT': [2023-07-27T23:59:59.000000000]\t29209.65000 (0.0) | 29209.75000 (0.0), 'ETHUSDT': [2023-07-27T23:36:00.000000000]\t1860.82500 (0.0) | 1860.83500 (0.0)}\u001b[0m\n",
      "\u001b[96m2023-07-28 23:59:59.000\u001b[0m [\u001b[1mℹ️\u001b[0m] \u001b[1mTrig: BTCUSDT,ETHUSDT --> {'BTCUSDT': [2023-07-28T23:59:59.000000000]\t29299.85000 (0.0) | 29299.95000 (0.0), 'ETHUSDT': [2023-07-28T23:36:00.000000000]\t1873.32500 (0.0) | 1873.33500 (0.0)}\u001b[0m\n",
      "\u001b[96m2023-07-29 23:59:59.000\u001b[0m [\u001b[1mℹ️\u001b[0m] \u001b[1mTrig: BTCUSDT,ETHUSDT --> {'BTCUSDT': [2023-07-29T23:59:59.000000000]\t29339.05000 (0.0) | 29339.15000 (0.0), 'ETHUSDT': [2023-07-29T23:36:00.000000000]\t1881.58500 (0.0) | 1881.59500 (0.0)}\u001b[0m\n",
      "\u001b[96m2023-07-30 00:59:59.000\u001b[0m [\u001b[1mℹ️\u001b[0m] \u001b[1mSimulatedExchange ::: Simulation finished at 2023-07-30 00:00:00 :::\u001b[0m\n",
      "\u001b[96m2023-07-30 00:59:59.000\u001b[0m [\u001b[34m\u001b[1m🐞\u001b[0m] \u001b[34m\u001b[1m\u001b[31m2023-07-01 00:00:00\u001b[0m\u001b[34m\u001b[1m Initiating simulated trading for binance.um for 1000 x 1.0 in USDT...\u001b[0m\n",
      "\u001b[96m2023-07-01 00:00:00.000\u001b[0m [\u001b[1mℹ️\u001b[0m] \u001b[1mSimulatedExchange.binance.um is initialized\u001b[0m\n",
      "\u001b[96m2023-07-01 00:00:00.000\u001b[0m [\u001b[34m\u001b[1m🐞\u001b[0m] \u001b[34m\u001b[1m | get_subscribed_instruments __all__ -> []\u001b[0m\n",
      "\u001b[96m2023-07-01 00:00:00.000\u001b[0m [\u001b[34m\u001b[1m🐞\u001b[0m] \u001b[34m\u001b[1m | get_subscriptions None -> []\u001b[0m\n",
      "\u001b[96m2023-07-01 00:00:00.000\u001b[0m [\u001b[34m\u001b[1m🐞\u001b[0m] \u001b[34m\u001b[1m | get_subscribed_instruments ohlc(1h) -> []\u001b[0m\n"
     ]
    },
    {
     "data": {
      "application/vnd.jupyter.widget-view+json": {
       "model_id": "d98a50bb6a72450880e4aa113c0ba958",
       "version_major": 2,
       "version_minor": 0
      },
      "text/plain": [
       "Simulating:   0%|          | 0/100 [00:00<?, ?%/s]"
      ]
     },
     "metadata": {},
     "output_type": "display_data"
    },
    {
     "name": "stdout",
     "output_type": "stream",
     "text": [
      "\u001b[96m2023-07-01 00:00:00.000\u001b[0m [\u001b[34m\u001b[1m🐞\u001b[0m] \u001b[34m\u001b[1m | get_subscribed_instruments None -> []\u001b[0m\n",
      "\u001b[96m2023-07-01 00:00:00.000\u001b[0m [\u001b[34m\u001b[1m🐞\u001b[0m] \u001b[34m\u001b[1m | get_subscribed_instruments ohlc(1h) -> []\u001b[0m\n",
      "\u001b[96m2023-07-01 00:00:00.000\u001b[0m [\u001b[34m\u001b[1m🐞\u001b[0m] \u001b[34m\u001b[1m | subscribe: ohlc(1h) -> {BINANCE.UM:SWAP:BTCUSDT}\u001b[0m\n",
      "\u001b[96m2023-07-01 00:00:00.000\u001b[0m [\u001b[1mℹ️\u001b[0m] \u001b[1mSimulatedExchange ::: Simulation started at 2023-07-01 :::\u001b[0m\n",
      "\u001b[96m2023-07-01 00:00:00.000\u001b[0m [\u001b[34m\u001b[1m🐞\u001b[0m] \u001b[34m\u001b[1mPreloading initial data for ohlc.1h 2023-07-01 00:00:00 : 2023-07-30 00:00:00 ...\u001b[0m\n",
      "\u001b[96m2023-07-01 00:00:01.000\u001b[0m [\u001b[34m\u001b[1m🐞\u001b[0m] \u001b[34m\u001b[1mInvoking \u001b[32mTestA\u001b[0m\u001b[34m\u001b[1m on_fit\u001b[0m\n",
      "\u001b[96m2023-07-01 00:00:01.000\u001b[0m [\u001b[1mℹ️\u001b[0m] \u001b[1m -> subscribe : BTCUSDT,ETHUSDT\u001b[0m\n",
      "\u001b[96m2023-07-01 00:00:01.000\u001b[0m [\u001b[34m\u001b[1m🐞\u001b[0m] \u001b[34m\u001b[1m | get_subscribed_instruments __all__ -> [BINANCE.UM:SWAP:BTCUSDT]\u001b[0m\n",
      "\u001b[96m2023-07-01 00:00:01.000\u001b[0m [\u001b[34m\u001b[1m🐞\u001b[0m] \u001b[34m\u001b[1m | get_subscriptions None -> ['ohlc(1h)']\u001b[0m\n",
      "\u001b[96m2023-07-01 00:00:01.000\u001b[0m [\u001b[34m\u001b[1m🐞\u001b[0m] \u001b[34m\u001b[1m | get_subscribed_instruments ohlc(1h) -> [BINANCE.UM:SWAP:BTCUSDT]\u001b[0m\n",
      "\u001b[96m2023-07-01 00:00:01.000\u001b[0m [\u001b[34m\u001b[1m🐞\u001b[0m] \u001b[34m\u001b[1m | get_subscribed_instruments None -> [BINANCE.UM:SWAP:BTCUSDT]\u001b[0m\n",
      "\u001b[96m2023-07-01 00:00:01.000\u001b[0m [\u001b[34m\u001b[1m🐞\u001b[0m] \u001b[34m\u001b[1m | get_subscribed_instruments ohlc(1h) -> [BINANCE.UM:SWAP:BTCUSDT]\u001b[0m\n",
      "\u001b[96m2023-07-01 00:00:01.000\u001b[0m [\u001b[34m\u001b[1m🐞\u001b[0m] \u001b[34m\u001b[1m | subscribe: ohlc(1h) -> {BINANCE.UM:SWAP:ETHUSDT, BINANCE.UM:SWAP:BTCUSDT}\u001b[0m\n",
      "\u001b[96m2023-07-01 00:00:01.000\u001b[0m [\u001b[34m\u001b[1m🐞\u001b[0m] \u001b[34m\u001b[1m\u001b[32mTestA\u001b[0m\u001b[34m\u001b[1m is fitted\u001b[0m\n",
      "\u001b[96m2023-07-01 23:59:59.000\u001b[0m [\u001b[1mℹ️\u001b[0m] \u001b[1mTrig: BTCUSDT,ETHUSDT --> {'BTCUSDT': [2023-07-01T23:59:59.000000000]\t30573.55000 (0.0) | 30573.65000 (0.0), 'ETHUSDT': [2023-07-01T23:36:00.000000000]\t1924.99500 (0.0) | 1925.00500 (0.0)}\u001b[0m\n",
      "\u001b[96m2023-07-02 23:59:59.000\u001b[0m [\u001b[1mℹ️\u001b[0m] \u001b[1mTrig: BTCUSDT,ETHUSDT --> {'BTCUSDT': [2023-07-02T23:59:59.000000000]\t30612.65000 (0.0) | 30612.75000 (0.0), 'ETHUSDT': [2023-07-02T23:36:00.000000000]\t1930.19500 (0.0) | 1930.20500 (0.0)}\u001b[0m\n",
      "\u001b[96m2023-07-03 23:59:59.000\u001b[0m [\u001b[34m\u001b[1m🐞\u001b[0m] \u001b[34m\u001b[1mInvoking \u001b[32mTestA\u001b[0m\u001b[34m\u001b[1m on_fit\u001b[0m\n",
      "\u001b[96m2023-07-03 23:59:59.000\u001b[0m [\u001b[1mℹ️\u001b[0m] \u001b[1m -> subscribe : BTCUSDT,BCHUSDT,LTCUSDT\u001b[0m\n",
      "\u001b[96m2023-07-03 23:59:59.000\u001b[0m [\u001b[34m\u001b[1m🐞\u001b[0m] \u001b[34m\u001b[1m | get_subscribed_instruments __all__ -> [BINANCE.UM:SWAP:BTCUSDT, BINANCE.UM:SWAP:ETHUSDT]\u001b[0m\n",
      "\u001b[96m2023-07-03 23:59:59.000\u001b[0m [\u001b[34m\u001b[1m🐞\u001b[0m] \u001b[34m\u001b[1m | get_subscriptions None -> ['ohlc(1h)']\u001b[0m\n",
      "\u001b[96m2023-07-03 23:59:59.000\u001b[0m [\u001b[34m\u001b[1m🐞\u001b[0m] \u001b[34m\u001b[1m | get_subscribed_instruments ohlc(1h) -> [BINANCE.UM:SWAP:BTCUSDT, BINANCE.UM:SWAP:ETHUSDT]\u001b[0m\n",
      "\u001b[96m2023-07-03 23:59:59.000\u001b[0m [\u001b[34m\u001b[1m🐞\u001b[0m] \u001b[34m\u001b[1m | get_subscriptions None -> ['ohlc(1h)']\u001b[0m\n",
      "\u001b[96m2023-07-03 23:59:59.000\u001b[0m [\u001b[34m\u001b[1m🐞\u001b[0m] \u001b[34m\u001b[1m | get_subscribed_instruments None -> [BINANCE.UM:SWAP:BTCUSDT, BINANCE.UM:SWAP:ETHUSDT]\u001b[0m\n",
      "\u001b[96m2023-07-03 23:59:59.000\u001b[0m [\u001b[34m\u001b[1m🐞\u001b[0m] \u001b[34m\u001b[1m | get_subscribed_instruments ohlc(1h) -> [BINANCE.UM:SWAP:BTCUSDT, BINANCE.UM:SWAP:ETHUSDT]\u001b[0m\n",
      "\u001b[96m2023-07-03 23:59:59.000\u001b[0m [\u001b[34m\u001b[1m🐞\u001b[0m] \u001b[34m\u001b[1m | subscribe: ohlc(1h) -> {BINANCE.UM:SWAP:BTCUSDT, BINANCE.UM:SWAP:BCHUSDT, BINANCE.UM:SWAP:LTCUSDT}\u001b[0m\n",
      "\u001b[96m2023-07-03 23:59:59.000\u001b[0m [\u001b[34m\u001b[1m🐞\u001b[0m] \u001b[34m\u001b[1m | unsubscribe: ohlc(1h) -> {BINANCE.UM:SWAP:ETHUSDT}\u001b[0m\n",
      "\u001b[96m2023-07-03 23:59:59.000\u001b[0m [\u001b[34m\u001b[1m🐞\u001b[0m] \u001b[34m\u001b[1m\u001b[32mTestA\u001b[0m\u001b[34m\u001b[1m is fitted\u001b[0m\n",
      "\u001b[96m2023-07-03 23:59:59.000\u001b[0m [\u001b[1mℹ️\u001b[0m] \u001b[1mTrig: BTCUSDT,BCHUSDT,LTCUSDT --> {'BTCUSDT': [2023-07-03T23:59:59.000000000]\t31148.95000 (0.0) | 31149.05000 (0.0), 'BCHUSDT': None, 'LTCUSDT': None}\u001b[0m\n",
      "\u001b[96m2023-07-04 23:59:59.000\u001b[0m [\u001b[1mℹ️\u001b[0m] \u001b[1mTrig: BTCUSDT,BCHUSDT,LTCUSDT --> {'BTCUSDT': [2023-07-04T23:59:59.000000000]\t30756.05000 (0.0) | 30756.15000 (0.0), 'BCHUSDT': [2023-07-04T23:36:00.000000000]\t270.94500 (0.0) | 270.95500 (0.0), 'LTCUSDT': [2023-07-04T23:36:00.000000000]\t104.10500 (0.0) | 104.11500 (0.0)}\u001b[0m\n",
      "\u001b[96m2023-07-04 23:59:59.000\u001b[0m [\u001b[1mℹ️\u001b[0m] \u001b[1mBUY: BINANCE.UM:SWAP:BTCUSDT\u001b[0m\n",
      "\u001b[96m2023-07-04 23:59:59.000\u001b[0m [\u001b[34m\u001b[1m🐞\u001b[0m] \u001b[34m\u001b[1m(StrategyContext) sending market buy for 1.0 of \u001b[32mBTCUSDT\u001b[0m\u001b[34m\u001b[1m @ None ...\u001b[0m\n",
      "\u001b[96m2023-07-04 23:59:59.000\u001b[0m [\u001b[34m\u001b[1m🐞\u001b[0m] \u001b[34m\u001b[1m[OMS] BTCUSDT - \u001b[31mSIM-ORDER-BTCUSDT-100001\u001b[0m\u001b[34m\u001b[1m MARKET BUY 1.0 executed at 30756.149999999998\u001b[0m\n",
      "\u001b[96m2023-07-04 23:59:59.000\u001b[0m [\u001b[34m\u001b[1m🐞\u001b[0m] \u001b[34m\u001b[1m  ::  traded 1.0 for BINANCE.UM:SWAP:BTCUSDT @ 30756.149999999998 -> 0.00\u001b[0m\n",
      "\u001b[96m2023-07-04 23:59:59.000\u001b[0m [\u001b[34m\u001b[1m🐞\u001b[0m] \u001b[34m\u001b[1m[BINANCE.UM:SWAP:BTCUSDT] [SIM-ORDER-BTCUSDT-100001] Order MARKET BUY 1.0  -> CLOSED\u001b[0m\n",
      "\u001b[96m2023-07-04 23:59:59.000\u001b[0m [\u001b[34m\u001b[1m🐞\u001b[0m] \u001b[34m\u001b[1mExecuted 1.0 @ 30756.149999999998 of BINANCE.UM:SWAP:BTCUSDT for order \u001b[31mSIM-ORDER-BTCUSDT-100001\u001b[0m\u001b[34m\u001b[1m\u001b[0m\n",
      "\u001b[96m2023-07-04 23:59:59.000\u001b[0m [\u001b[34m\u001b[1m🐞\u001b[0m] \u001b[34m\u001b[1m\u001b[32mBTCUSDT\u001b[0m\u001b[34m\u001b[1m: Adjusting position from 0.0 to 1.0 : [SIM-ORDER-BTCUSDT-100001] MARKET BUY 1.0 of BTCUSDT  (gtc) [CLOSED]\u001b[0m\n",
      "\u001b[96m2023-07-05 23:59:59.000\u001b[0m [\u001b[1mℹ️\u001b[0m] \u001b[1mTrig: BTCUSDT,BCHUSDT,LTCUSDT --> {'BTCUSDT': [2023-07-05T23:59:59.000000000]\t30488.35000 (0.0) | 30488.45000 (0.0), 'BCHUSDT': [2023-07-05T23:36:00.000000000]\t273.51500 (0.0) | 273.52500 (0.0), 'LTCUSDT': [2023-07-05T23:36:00.000000000]\t102.99500 (0.0) | 103.00500 (0.0)}\u001b[0m\n",
      "\u001b[96m2023-07-06 23:59:59.000\u001b[0m [\u001b[1mℹ️\u001b[0m] \u001b[1mTrig: BTCUSDT,BCHUSDT,LTCUSDT --> {'BTCUSDT': [2023-07-06T23:59:59.000000000]\t29874.35000 (0.0) | 29874.45000 (0.0), 'BCHUSDT': [2023-07-06T23:36:00.000000000]\t272.25500 (0.0) | 272.26500 (0.0), 'LTCUSDT': [2023-07-06T23:36:00.000000000]\t95.10500 (0.0) | 95.11500 (0.0)}\u001b[0m\n",
      "\u001b[96m2023-07-07 23:59:59.000\u001b[0m [\u001b[1mℹ️\u001b[0m] \u001b[1mTrig: BTCUSDT,BCHUSDT,LTCUSDT --> {'BTCUSDT': [2023-07-07T23:59:59.000000000]\t30327.85000 (0.0) | 30327.95000 (0.0), 'BCHUSDT': [2023-07-07T23:36:00.000000000]\t279.64500 (0.0) | 279.65500 (0.0), 'LTCUSDT': [2023-07-07T23:36:00.000000000]\t97.79500 (0.0) | 97.80500 (0.0)}\u001b[0m\n",
      "\u001b[96m2023-07-08 23:59:59.000\u001b[0m [\u001b[1mℹ️\u001b[0m] \u001b[1mTrig: BTCUSDT,BCHUSDT,LTCUSDT --> {'BTCUSDT': [2023-07-08T23:59:59.000000000]\t30269.25000 (0.0) | 30269.35000 (0.0), 'BCHUSDT': [2023-07-08T23:36:00.000000000]\t273.08500 (0.0) | 273.09500 (0.0), 'LTCUSDT': [2023-07-08T23:36:00.000000000]\t97.88500 (0.0) | 97.89500 (0.0)}\u001b[0m\n",
      "\u001b[96m2023-07-09 23:59:59.000\u001b[0m [\u001b[1mℹ️\u001b[0m] \u001b[1mTrig: BTCUSDT,BCHUSDT,LTCUSDT --> {'BTCUSDT': [2023-07-09T23:59:59.000000000]\t30147.75000 (0.0) | 30147.85000 (0.0), 'BCHUSDT': [2023-07-09T23:36:00.000000000]\t263.94500 (0.0) | 263.95500 (0.0), 'LTCUSDT': [2023-07-09T23:36:00.000000000]\t93.84500 (0.0) | 93.85500 (0.0)}\u001b[0m\n",
      "\u001b[96m2023-07-10 23:59:59.000\u001b[0m [\u001b[34m\u001b[1m🐞\u001b[0m] \u001b[34m\u001b[1mInvoking \u001b[32mTestA\u001b[0m\u001b[34m\u001b[1m on_fit\u001b[0m\n",
      "\u001b[96m2023-07-10 23:59:59.000\u001b[0m [\u001b[1mℹ️\u001b[0m] \u001b[1m -> subscribe : BTCUSDT,AAVEUSDT,ETHUSDT\u001b[0m\n",
      "\u001b[96m2023-07-10 23:59:59.000\u001b[0m [\u001b[34m\u001b[1m🐞\u001b[0m] \u001b[34m\u001b[1m | get_subscribed_instruments __all__ -> [BINANCE.UM:SWAP:BTCUSDT, BINANCE.UM:SWAP:BCHUSDT, BINANCE.UM:SWAP:LTCUSDT]\u001b[0m\n",
      "\u001b[96m2023-07-10 23:59:59.000\u001b[0m [\u001b[34m\u001b[1m🐞\u001b[0m] \u001b[34m\u001b[1m | get_subscriptions None -> ['ohlc(1h)']\u001b[0m\n",
      "\u001b[96m2023-07-10 23:59:59.000\u001b[0m [\u001b[34m\u001b[1m🐞\u001b[0m] \u001b[34m\u001b[1m | get_subscribed_instruments ohlc(1h) -> [BINANCE.UM:SWAP:BTCUSDT, BINANCE.UM:SWAP:BCHUSDT, BINANCE.UM:SWAP:LTCUSDT]\u001b[0m\n",
      "\u001b[96m2023-07-10 23:59:59.000\u001b[0m [\u001b[34m\u001b[1m🐞\u001b[0m] \u001b[34m\u001b[1m | get_subscriptions None -> ['ohlc(1h)']\u001b[0m\n",
      "\u001b[96m2023-07-10 23:59:59.000\u001b[0m [\u001b[34m\u001b[1m🐞\u001b[0m] \u001b[34m\u001b[1m | get_subscriptions None -> ['ohlc(1h)']\u001b[0m\n",
      "\u001b[96m2023-07-10 23:59:59.000\u001b[0m [\u001b[34m\u001b[1m🐞\u001b[0m] \u001b[34m\u001b[1m | get_subscribed_instruments None -> [BINANCE.UM:SWAP:BTCUSDT, BINANCE.UM:SWAP:BCHUSDT, BINANCE.UM:SWAP:LTCUSDT]\u001b[0m\n",
      "\u001b[96m2023-07-10 23:59:59.000\u001b[0m [\u001b[34m\u001b[1m🐞\u001b[0m] \u001b[34m\u001b[1m | get_subscribed_instruments ohlc(1h) -> [BINANCE.UM:SWAP:BTCUSDT, BINANCE.UM:SWAP:BCHUSDT, BINANCE.UM:SWAP:LTCUSDT]\u001b[0m\n",
      "\u001b[96m2023-07-10 23:59:59.000\u001b[0m [\u001b[34m\u001b[1m🐞\u001b[0m] \u001b[34m\u001b[1m | subscribe: ohlc(1h) -> {BINANCE.UM:SWAP:ETHUSDT, BINANCE.UM:SWAP:AAVEUSDT, BINANCE.UM:SWAP:BTCUSDT}\u001b[0m\n",
      "\u001b[96m2023-07-10 23:59:59.000\u001b[0m [\u001b[34m\u001b[1m🐞\u001b[0m] \u001b[34m\u001b[1m | unsubscribe: ohlc(1h) -> {BINANCE.UM:SWAP:BCHUSDT, BINANCE.UM:SWAP:LTCUSDT}\u001b[0m\n",
      "\u001b[96m2023-07-10 23:59:59.000\u001b[0m [\u001b[34m\u001b[1m🐞\u001b[0m] \u001b[34m\u001b[1m\u001b[32mTestA\u001b[0m\u001b[34m\u001b[1m is fitted\u001b[0m\n",
      "\u001b[96m2023-07-10 23:59:59.000\u001b[0m [\u001b[1mℹ️\u001b[0m] \u001b[1mTrig: BTCUSDT,AAVEUSDT,ETHUSDT --> {'BTCUSDT': [2023-07-10T23:59:59.000000000]\t30396.85000 (0.0) | 30396.95000 (0.0), 'AAVEUSDT': None, 'ETHUSDT': [2023-07-03T23:36:00.000000000]\t1955.55500 (0.0) | 1955.56500 (0.0)}\u001b[0m\n",
      "\u001b[96m2023-07-11 23:59:59.000\u001b[0m [\u001b[1mℹ️\u001b[0m] \u001b[1mTrig: BTCUSDT,AAVEUSDT,ETHUSDT --> {'BTCUSDT': [2023-07-11T23:59:59.000000000]\t30608.35000 (0.0) | 30608.45000 (0.0), 'AAVEUSDT': [2023-07-11T23:36:00.000000000]\t73.66500 (0.0) | 73.67500 (0.0), 'ETHUSDT': [2023-07-11T23:36:00.000000000]\t1876.08500 (0.0) | 1876.09500 (0.0)}\u001b[0m\n",
      "\u001b[96m2023-07-12 23:59:59.000\u001b[0m [\u001b[1mℹ️\u001b[0m] \u001b[1mTrig: BTCUSDT,AAVEUSDT,ETHUSDT --> {'BTCUSDT': [2023-07-12T23:59:59.000000000]\t30368.85000 (0.0) | 30368.95000 (0.0), 'AAVEUSDT': [2023-07-12T23:36:00.000000000]\t76.81500 (0.0) | 76.82500 (0.0), 'ETHUSDT': [2023-07-12T23:36:00.000000000]\t1873.25500 (0.0) | 1873.26500 (0.0)}\u001b[0m\n",
      "\u001b[96m2023-07-13 23:59:59.000\u001b[0m [\u001b[1mℹ️\u001b[0m] \u001b[1mTrig: BTCUSDT,AAVEUSDT,ETHUSDT --> {'BTCUSDT': [2023-07-13T23:59:59.000000000]\t31441.65000 (0.0) | 31441.75000 (0.0), 'AAVEUSDT': [2023-07-13T23:36:00.000000000]\t79.35500 (0.0) | 79.36500 (0.0), 'ETHUSDT': [2023-07-13T23:36:00.000000000]\t2010.53500 (0.0) | 2010.54500 (0.0)}\u001b[0m\n",
      "\u001b[96m2023-07-14 23:59:59.000\u001b[0m [\u001b[1mℹ️\u001b[0m] \u001b[1mTrig: BTCUSDT,AAVEUSDT,ETHUSDT --> {'BTCUSDT': [2023-07-14T23:59:59.000000000]\t30293.25000 (0.0) | 30293.35000 (0.0), 'AAVEUSDT': [2023-07-14T23:36:00.000000000]\t81.48500 (0.0) | 81.49500 (0.0), 'ETHUSDT': [2023-07-14T23:36:00.000000000]\t1937.19500 (0.0) | 1937.20500 (0.0)}\u001b[0m\n",
      "\u001b[96m2023-07-15 23:59:59.000\u001b[0m [\u001b[1mℹ️\u001b[0m] \u001b[1mTrig: BTCUSDT,AAVEUSDT,ETHUSDT --> {'BTCUSDT': [2023-07-15T23:59:59.000000000]\t30276.35000 (0.0) | 30276.45000 (0.0), 'AAVEUSDT': [2023-07-15T23:36:00.000000000]\t78.99500 (0.0) | 79.00500 (0.0), 'ETHUSDT': [2023-07-15T23:36:00.000000000]\t1930.57500 (0.0) | 1930.58500 (0.0)}\u001b[0m\n",
      "\u001b[96m2023-07-16 23:59:59.000\u001b[0m [\u001b[1mℹ️\u001b[0m] \u001b[1mTrig: BTCUSDT,AAVEUSDT,ETHUSDT --> {'BTCUSDT': [2023-07-16T23:59:59.000000000]\t30216.75000 (0.0) | 30216.85000 (0.0), 'AAVEUSDT': [2023-07-16T23:36:00.000000000]\t76.13500 (0.0) | 76.14500 (0.0), 'ETHUSDT': [2023-07-16T23:36:00.000000000]\t1915.16500 (0.0) | 1915.17500 (0.0)}\u001b[0m\n",
      "\u001b[96m2023-07-17 23:59:59.000\u001b[0m [\u001b[34m\u001b[1m🐞\u001b[0m] \u001b[34m\u001b[1mInvoking \u001b[32mTestA\u001b[0m\u001b[34m\u001b[1m on_fit\u001b[0m\n",
      "\u001b[96m2023-07-17 23:59:59.000\u001b[0m [\u001b[1mℹ️\u001b[0m] \u001b[1m -> subscribe : BCHUSDT\u001b[0m\n",
      "\u001b[96m2023-07-17 23:59:59.000\u001b[0m [\u001b[34m\u001b[1m🐞\u001b[0m] \u001b[34m\u001b[1m | get_subscribed_instruments __all__ -> [BINANCE.UM:SWAP:BTCUSDT, BINANCE.UM:SWAP:ETHUSDT, BINANCE.UM:SWAP:AAVEUSDT]\u001b[0m\n",
      "\u001b[96m2023-07-17 23:59:59.000\u001b[0m [\u001b[34m\u001b[1m🐞\u001b[0m] \u001b[34m\u001b[1m | get_subscriptions None -> ['ohlc(1h)']\u001b[0m\n",
      "\u001b[96m2023-07-17 23:59:59.000\u001b[0m [\u001b[34m\u001b[1m🐞\u001b[0m] \u001b[34m\u001b[1m | get_subscribed_instruments ohlc(1h) -> [BINANCE.UM:SWAP:BTCUSDT, BINANCE.UM:SWAP:ETHUSDT, BINANCE.UM:SWAP:AAVEUSDT]\u001b[0m\n",
      "\u001b[96m2023-07-17 23:59:59.000\u001b[0m [\u001b[34m\u001b[1m🐞\u001b[0m] \u001b[34m\u001b[1m(StrategyContext) sending market sell for 1.0 of \u001b[32mBTCUSDT\u001b[0m\u001b[34m\u001b[1m @ None ...\u001b[0m\n",
      "\u001b[96m2023-07-17 23:59:59.000\u001b[0m [\u001b[34m\u001b[1m🐞\u001b[0m] \u001b[34m\u001b[1m[OMS] BTCUSDT - \u001b[31mSIM-ORDER-BTCUSDT-100002\u001b[0m\u001b[34m\u001b[1m MARKET SELL 1.0 executed at 30126.05\u001b[0m\n",
      "\u001b[96m2023-07-17 23:59:59.000\u001b[0m [\u001b[34m\u001b[1m🐞\u001b[0m] \u001b[34m\u001b[1m  ::  traded -1.0 for BINANCE.UM:SWAP:BTCUSDT @ 30126.05 -> -630.15\u001b[0m\n",
      "\u001b[96m2023-07-17 23:59:59.000\u001b[0m [\u001b[34m\u001b[1m🐞\u001b[0m] \u001b[34m\u001b[1m[BINANCE.UM:SWAP:BTCUSDT] [SIM-ORDER-BTCUSDT-100002] Order MARKET SELL 1.0  -> CLOSED\u001b[0m\n",
      "\u001b[96m2023-07-17 23:59:59.000\u001b[0m [\u001b[33m\u001b[1m⚠️\u001b[0m] \u001b[36mqubx.core.mixins.processing\u001b[0m:\u001b[36mprocess_data\u001b[0m:\u001b[36m137\u001b[0m - \u001b[33m\u001b[1mTestA::on_event() is SKIPPED for now because is being still fitting!\u001b[0m\n",
      "\u001b[96m2023-07-17 23:59:59.000\u001b[0m [\u001b[34m\u001b[1m🐞\u001b[0m] \u001b[34m\u001b[1mExecuted -1.0 @ 30126.05 of BINANCE.UM:SWAP:BTCUSDT for order \u001b[31mSIM-ORDER-BTCUSDT-100002\u001b[0m\u001b[34m\u001b[1m\u001b[0m\n",
      "\u001b[96m2023-07-17 23:59:59.000\u001b[0m [\u001b[34m\u001b[1m🐞\u001b[0m] \u001b[34m\u001b[1m | get_subscriptions None -> ['ohlc(1h)']\u001b[0m\n",
      "\u001b[96m2023-07-17 23:59:59.000\u001b[0m [\u001b[34m\u001b[1m🐞\u001b[0m] \u001b[34m\u001b[1m | get_subscriptions None -> ['ohlc(1h)']\u001b[0m\n",
      "\u001b[96m2023-07-17 23:59:59.000\u001b[0m [\u001b[34m\u001b[1m🐞\u001b[0m] \u001b[34m\u001b[1m | get_subscriptions None -> ['ohlc(1h)']\u001b[0m\n",
      "\u001b[96m2023-07-17 23:59:59.000\u001b[0m [\u001b[34m\u001b[1m🐞\u001b[0m] \u001b[34m\u001b[1m | get_subscribed_instruments None -> [BINANCE.UM:SWAP:BTCUSDT, BINANCE.UM:SWAP:ETHUSDT, BINANCE.UM:SWAP:AAVEUSDT]\u001b[0m\n",
      "\u001b[96m2023-07-17 23:59:59.000\u001b[0m [\u001b[34m\u001b[1m🐞\u001b[0m] \u001b[34m\u001b[1m | get_subscribed_instruments ohlc(1h) -> [BINANCE.UM:SWAP:BTCUSDT, BINANCE.UM:SWAP:ETHUSDT, BINANCE.UM:SWAP:AAVEUSDT]\u001b[0m\n",
      "\u001b[96m2023-07-17 23:59:59.000\u001b[0m [\u001b[34m\u001b[1m🐞\u001b[0m] \u001b[34m\u001b[1m | subscribe: ohlc(1h) -> {BINANCE.UM:SWAP:BCHUSDT}\u001b[0m\n",
      "\u001b[96m2023-07-17 23:59:59.000\u001b[0m [\u001b[34m\u001b[1m🐞\u001b[0m] \u001b[34m\u001b[1m | unsubscribe: ohlc(1h) -> {BINANCE.UM:SWAP:ETHUSDT, BINANCE.UM:SWAP:AAVEUSDT, BINANCE.UM:SWAP:BTCUSDT}\u001b[0m\n",
      "\u001b[96m2023-07-17 23:59:59.000\u001b[0m [\u001b[34m\u001b[1m🐞\u001b[0m] \u001b[34m\u001b[1m\u001b[32mTestA\u001b[0m\u001b[34m\u001b[1m is fitted\u001b[0m\n",
      "\u001b[96m2023-07-17 23:59:59.000\u001b[0m [\u001b[1mℹ️\u001b[0m] \u001b[1mTrig: BCHUSDT --> {'BCHUSDT': [2023-07-10T23:36:00.000000000]\t272.40500 (0.0) | 272.41500 (0.0)}\u001b[0m\n",
      "\u001b[96m2023-07-18 23:59:59.000\u001b[0m [\u001b[1mℹ️\u001b[0m] \u001b[1mTrig: BCHUSDT --> {'BCHUSDT': [2023-07-18T23:59:59.000000000]\t243.51500 (0.0) | 243.52500 (0.0)}\u001b[0m\n",
      "\u001b[96m2023-07-19 23:59:59.000\u001b[0m [\u001b[1mℹ️\u001b[0m] \u001b[1mTrig: BCHUSDT --> {'BCHUSDT': [2023-07-19T23:59:59.000000000]\t243.82500 (0.0) | 243.83500 (0.0)}\u001b[0m\n",
      "\u001b[96m2023-07-20 23:59:59.000\u001b[0m [\u001b[1mℹ️\u001b[0m] \u001b[1mTrig: BCHUSDT --> {'BCHUSDT': [2023-07-20T23:59:59.000000000]\t243.96500 (0.0) | 243.97500 (0.0)}\u001b[0m\n",
      "\u001b[96m2023-07-21 23:59:59.000\u001b[0m [\u001b[1mℹ️\u001b[0m] \u001b[1mTrig: BCHUSDT --> {'BCHUSDT': [2023-07-21T23:59:59.000000000]\t246.01500 (0.0) | 246.02500 (0.0)}\u001b[0m\n",
      "\u001b[96m2023-07-21 23:59:59.000\u001b[0m [\u001b[1mℹ️\u001b[0m] \u001b[1mBUY: BINANCE.UM:SWAP:BCHUSDT\u001b[0m\n",
      "\u001b[96m2023-07-21 23:59:59.000\u001b[0m [\u001b[34m\u001b[1m🐞\u001b[0m] \u001b[34m\u001b[1m(StrategyContext) sending market buy for 1.0 of \u001b[32mBCHUSDT\u001b[0m\u001b[34m\u001b[1m @ None ...\u001b[0m\n",
      "\u001b[96m2023-07-21 23:59:59.000\u001b[0m [\u001b[34m\u001b[1m🐞\u001b[0m] \u001b[34m\u001b[1m[OMS] BCHUSDT - \u001b[31mSIM-ORDER-BCHUSDT-100001\u001b[0m\u001b[34m\u001b[1m MARKET BUY 1.0 executed at 246.025\u001b[0m\n",
      "\u001b[96m2023-07-21 23:59:59.000\u001b[0m [\u001b[34m\u001b[1m🐞\u001b[0m] \u001b[34m\u001b[1m  ::  traded 1.0 for BINANCE.UM:SWAP:BCHUSDT @ 246.025 -> 0.00\u001b[0m\n",
      "\u001b[96m2023-07-21 23:59:59.000\u001b[0m [\u001b[34m\u001b[1m🐞\u001b[0m] \u001b[34m\u001b[1m[BINANCE.UM:SWAP:BCHUSDT] [SIM-ORDER-BCHUSDT-100001] Order MARKET BUY 1.0  -> CLOSED\u001b[0m\n",
      "\u001b[96m2023-07-21 23:59:59.000\u001b[0m [\u001b[34m\u001b[1m🐞\u001b[0m] \u001b[34m\u001b[1mExecuted 1.0 @ 246.025 of BINANCE.UM:SWAP:BCHUSDT for order \u001b[31mSIM-ORDER-BCHUSDT-100001\u001b[0m\u001b[34m\u001b[1m\u001b[0m\n",
      "\u001b[96m2023-07-21 23:59:59.000\u001b[0m [\u001b[34m\u001b[1m🐞\u001b[0m] \u001b[34m\u001b[1m\u001b[32mBCHUSDT\u001b[0m\u001b[34m\u001b[1m: Adjusting position from 0.0 to 1.0 : [SIM-ORDER-BCHUSDT-100001] MARKET BUY 1.0 of BCHUSDT  (gtc) [CLOSED]\u001b[0m\n",
      "\u001b[96m2023-07-22 23:59:59.000\u001b[0m [\u001b[1mℹ️\u001b[0m] \u001b[1mTrig: BCHUSDT --> {'BCHUSDT': [2023-07-22T23:59:59.000000000]\t239.22500 (0.0) | 239.23500 (0.0)}\u001b[0m\n",
      "\u001b[96m2023-07-23 23:59:59.000\u001b[0m [\u001b[1mℹ️\u001b[0m] \u001b[1mTrig: BCHUSDT --> {'BCHUSDT': [2023-07-23T23:59:59.000000000]\t249.28500 (0.0) | 249.29500 (0.0)}\u001b[0m\n",
      "\u001b[96m2023-07-24 23:59:59.000\u001b[0m [\u001b[34m\u001b[1m🐞\u001b[0m] \u001b[34m\u001b[1mInvoking \u001b[32mTestA\u001b[0m\u001b[34m\u001b[1m on_fit\u001b[0m\n",
      "\u001b[96m2023-07-24 23:59:59.000\u001b[0m [\u001b[1mℹ️\u001b[0m] \u001b[1m -> subscribe : BTCUSDT,ETHUSDT\u001b[0m\n",
      "\u001b[96m2023-07-24 23:59:59.000\u001b[0m [\u001b[34m\u001b[1m🐞\u001b[0m] \u001b[34m\u001b[1m | get_subscribed_instruments __all__ -> [BINANCE.UM:SWAP:BCHUSDT]\u001b[0m\n",
      "\u001b[96m2023-07-24 23:59:59.000\u001b[0m [\u001b[34m\u001b[1m🐞\u001b[0m] \u001b[34m\u001b[1m | get_subscriptions None -> ['ohlc(1h)']\u001b[0m\n",
      "\u001b[96m2023-07-24 23:59:59.000\u001b[0m [\u001b[34m\u001b[1m🐞\u001b[0m] \u001b[34m\u001b[1m | get_subscribed_instruments ohlc(1h) -> [BINANCE.UM:SWAP:BCHUSDT]\u001b[0m\n",
      "\u001b[96m2023-07-24 23:59:59.000\u001b[0m [\u001b[34m\u001b[1m🐞\u001b[0m] \u001b[34m\u001b[1m(StrategyContext) sending market sell for 1.0 of \u001b[32mBCHUSDT\u001b[0m\u001b[34m\u001b[1m @ None ...\u001b[0m\n",
      "\u001b[96m2023-07-24 23:59:59.000\u001b[0m [\u001b[34m\u001b[1m🐞\u001b[0m] \u001b[34m\u001b[1m[OMS] BCHUSDT - \u001b[31mSIM-ORDER-BCHUSDT-100002\u001b[0m\u001b[34m\u001b[1m MARKET SELL 1.0 executed at 238.275\u001b[0m\n",
      "\u001b[96m2023-07-24 23:59:59.000\u001b[0m [\u001b[34m\u001b[1m🐞\u001b[0m] \u001b[34m\u001b[1m  ::  traded -1.0 for BINANCE.UM:SWAP:BCHUSDT @ 238.275 -> -7.75\u001b[0m\n",
      "\u001b[96m2023-07-24 23:59:59.000\u001b[0m [\u001b[34m\u001b[1m🐞\u001b[0m] \u001b[34m\u001b[1m[BINANCE.UM:SWAP:BCHUSDT] [SIM-ORDER-BCHUSDT-100002] Order MARKET SELL 1.0  -> CLOSED\u001b[0m\n",
      "\u001b[96m2023-07-24 23:59:59.000\u001b[0m [\u001b[33m\u001b[1m⚠️\u001b[0m] \u001b[36mqubx.core.mixins.processing\u001b[0m:\u001b[36mprocess_data\u001b[0m:\u001b[36m137\u001b[0m - \u001b[33m\u001b[1mTestA::on_event() is SKIPPED for now because is being still fitting!\u001b[0m\n",
      "\u001b[96m2023-07-24 23:59:59.000\u001b[0m [\u001b[34m\u001b[1m🐞\u001b[0m] \u001b[34m\u001b[1mExecuted -1.0 @ 238.275 of BINANCE.UM:SWAP:BCHUSDT for order \u001b[31mSIM-ORDER-BCHUSDT-100002\u001b[0m\u001b[34m\u001b[1m\u001b[0m\n",
      "\u001b[96m2023-07-24 23:59:59.000\u001b[0m [\u001b[34m\u001b[1m🐞\u001b[0m] \u001b[34m\u001b[1m | get_subscriptions None -> ['ohlc(1h)']\u001b[0m\n",
      "\u001b[96m2023-07-24 23:59:59.000\u001b[0m [\u001b[34m\u001b[1m🐞\u001b[0m] \u001b[34m\u001b[1m | get_subscribed_instruments None -> [BINANCE.UM:SWAP:BCHUSDT]\u001b[0m\n",
      "\u001b[96m2023-07-24 23:59:59.000\u001b[0m [\u001b[34m\u001b[1m🐞\u001b[0m] \u001b[34m\u001b[1m | get_subscribed_instruments ohlc(1h) -> [BINANCE.UM:SWAP:BCHUSDT]\u001b[0m\n",
      "\u001b[96m2023-07-24 23:59:59.000\u001b[0m [\u001b[34m\u001b[1m🐞\u001b[0m] \u001b[34m\u001b[1m | subscribe: ohlc(1h) -> {BINANCE.UM:SWAP:ETHUSDT, BINANCE.UM:SWAP:BTCUSDT}\u001b[0m\n",
      "\u001b[96m2023-07-24 23:59:59.000\u001b[0m [\u001b[34m\u001b[1m🐞\u001b[0m] \u001b[34m\u001b[1m | unsubscribe: ohlc(1h) -> {BINANCE.UM:SWAP:BCHUSDT}\u001b[0m\n",
      "\u001b[96m2023-07-24 23:59:59.000\u001b[0m [\u001b[34m\u001b[1m🐞\u001b[0m] \u001b[34m\u001b[1m\u001b[32mTestA\u001b[0m\u001b[34m\u001b[1m is fitted\u001b[0m\n",
      "\u001b[96m2023-07-24 23:59:59.000\u001b[0m [\u001b[1mℹ️\u001b[0m] \u001b[1mTrig: BTCUSDT,ETHUSDT --> {'BTCUSDT': [2023-07-17T23:59:59.000000000]\t30126.05000 (0.0) | 30126.15000 (0.0), 'ETHUSDT': [2023-07-17T23:36:00.000000000]\t1913.04500 (0.0) | 1913.05500 (0.0)}\u001b[0m\n",
      "\u001b[96m2023-07-25 23:59:59.000\u001b[0m [\u001b[1mℹ️\u001b[0m] \u001b[1mTrig: BTCUSDT,ETHUSDT --> {'BTCUSDT': [2023-07-25T23:59:59.000000000]\t29216.25000 (0.0) | 29216.35000 (0.0), 'ETHUSDT': [2023-07-25T23:36:00.000000000]\t1855.87500 (0.0) | 1855.88500 (0.0)}\u001b[0m\n",
      "\u001b[96m2023-07-26 23:59:59.000\u001b[0m [\u001b[1mℹ️\u001b[0m] \u001b[1mTrig: BTCUSDT,ETHUSDT --> {'BTCUSDT': [2023-07-26T23:59:59.000000000]\t29335.95000 (0.0) | 29336.05000 (0.0), 'ETHUSDT': [2023-07-26T23:36:00.000000000]\t1865.99500 (0.0) | 1866.00500 (0.0)}\u001b[0m\n",
      "\u001b[96m2023-07-27 23:59:59.000\u001b[0m [\u001b[1mℹ️\u001b[0m] \u001b[1mTrig: BTCUSDT,ETHUSDT --> {'BTCUSDT': [2023-07-27T23:59:59.000000000]\t29209.65000 (0.0) | 29209.75000 (0.0), 'ETHUSDT': [2023-07-27T23:36:00.000000000]\t1860.82500 (0.0) | 1860.83500 (0.0)}\u001b[0m\n",
      "\u001b[96m2023-07-28 23:59:59.000\u001b[0m [\u001b[1mℹ️\u001b[0m] \u001b[1mTrig: BTCUSDT,ETHUSDT --> {'BTCUSDT': [2023-07-28T23:59:59.000000000]\t29299.85000 (0.0) | 29299.95000 (0.0), 'ETHUSDT': [2023-07-28T23:36:00.000000000]\t1873.32500 (0.0) | 1873.33500 (0.0)}\u001b[0m\n",
      "\u001b[96m2023-07-29 23:59:59.000\u001b[0m [\u001b[1mℹ️\u001b[0m] \u001b[1mTrig: BTCUSDT,ETHUSDT --> {'BTCUSDT': [2023-07-29T23:59:59.000000000]\t29339.05000 (0.0) | 29339.15000 (0.0), 'ETHUSDT': [2023-07-29T23:36:00.000000000]\t1881.58500 (0.0) | 1881.59500 (0.0)}\u001b[0m\n"
     ]
    },
    {
     "name": "stdout",
     "output_type": "stream",
     "text": [
      "\u001b[96m2023-07-30 00:59:59.000\u001b[0m [\u001b[1mℹ️\u001b[0m] \u001b[1mSimulatedExchange ::: Simulation finished at 2023-07-30 00:00:00 :::\u001b[0m\n",
      "\u001b[96m2023-07-30 00:59:59.000\u001b[0m [\u001b[34m\u001b[1m🐞\u001b[0m] \u001b[34m\u001b[1m\u001b[33mTestB\u001b[0m\u001b[34m\u001b[1m new parameters:\n",
      "\tset \u001b[32mtimeframe\u001b[0m\u001b[34m\u001b[1m <- \u001b[31m1h\u001b[0m\u001b[34m\u001b[1m\u001b[0m\n"
     ]
    }
   ],
   "source": [
    "r = simulate(\n",
    "   # {'A': TestA(timeframe=\"1h\")}, ld, 1000, \n",
    "   variate(TestA, timeframe=[\"15Min\", \"30Min\", \"1h\"]), ld, 1000, \n",
    "   ['BINANCE.UM:BTCUSDT'],\n",
    "   \"vip0_usdt\", \"2023-07-01\", \"2023-07-30\", debug=\"DEBUG\"\n",
    ")"
   ]
  },
  {
   "cell_type": "code",
   "execution_count": 6,
   "metadata": {},
   "outputs": [
    {
     "data": {
      "text/html": [
       "<div>\n",
       "<style scoped>\n",
       "    .dataframe tbody tr th:only-of-type {\n",
       "        vertical-align: middle;\n",
       "    }\n",
       "\n",
       "    .dataframe tbody tr th {\n",
       "        vertical-align: top;\n",
       "    }\n",
       "\n",
       "    .dataframe thead th {\n",
       "        text-align: right;\n",
       "    }\n",
       "</style>\n",
       "<table border=\"1\" class=\"dataframe\">\n",
       "  <thead>\n",
       "    <tr style=\"text-align: right;\">\n",
       "      <th></th>\n",
       "      <th></th>\n",
       "      <th>Gain</th>\n",
       "      <th>Cagr</th>\n",
       "      <th>Sharpe</th>\n",
       "      <th>Qr</th>\n",
       "      <th>Max dd pct</th>\n",
       "      <th>Mdd usd</th>\n",
       "      <th>Sortino</th>\n",
       "      <th>Calmar</th>\n",
       "      <th>Tail ratio</th>\n",
       "      <th>Stability</th>\n",
       "      <th>Var</th>\n",
       "      <th>Avg return</th>\n",
       "      <th>Fees</th>\n",
       "      <th>Execs</th>\n",
       "    </tr>\n",
       "    <tr>\n",
       "      <th>id</th>\n",
       "      <th></th>\n",
       "      <th></th>\n",
       "      <th></th>\n",
       "      <th></th>\n",
       "      <th></th>\n",
       "      <th></th>\n",
       "      <th></th>\n",
       "      <th></th>\n",
       "      <th></th>\n",
       "      <th></th>\n",
       "      <th></th>\n",
       "      <th></th>\n",
       "      <th></th>\n",
       "      <th></th>\n",
       "      <th></th>\n",
       "    </tr>\n",
       "  </thead>\n",
       "  <tbody>\n",
       "    <tr>\n",
       "      <th>0</th>\n",
       "      <th>TA_(t=15Min)</th>\n",
       "      <td>-659.24220</td>\n",
       "      <td>-0.999998</td>\n",
       "      <td>3.041389</td>\n",
       "      <td>-0.574773</td>\n",
       "      <td>106.709664</td>\n",
       "      <td>2215.990000</td>\n",
       "      <td>14.924458</td>\n",
       "      <td>-1.114604</td>\n",
       "      <td>2.524995</td>\n",
       "      <td>0.291326</td>\n",
       "      <td>1328.670529</td>\n",
       "      <td>14.507123</td>\n",
       "      <td>30.51720</td>\n",
       "      <td>4.0</td>\n",
       "    </tr>\n",
       "    <tr>\n",
       "      <th>2</th>\n",
       "      <th>TA_(t=1h)</th>\n",
       "      <td>-668.58825</td>\n",
       "      <td>-0.999999</td>\n",
       "      <td>3.020462</td>\n",
       "      <td>-0.590899</td>\n",
       "      <td>106.811806</td>\n",
       "      <td>2220.000000</td>\n",
       "      <td>14.826988</td>\n",
       "      <td>-1.114604</td>\n",
       "      <td>2.536118</td>\n",
       "      <td>0.305066</td>\n",
       "      <td>1330.357952</td>\n",
       "      <td>14.414770</td>\n",
       "      <td>30.68325</td>\n",
       "      <td>4.0</td>\n",
       "    </tr>\n",
       "    <tr>\n",
       "      <th>1</th>\n",
       "      <th>TA_(t=30Min)</th>\n",
       "      <td>-27.31788</td>\n",
       "      <td>-0.286085</td>\n",
       "      <td>-3.623893</td>\n",
       "      <td>-0.144373</td>\n",
       "      <td>4.877510</td>\n",
       "      <td>48.775097</td>\n",
       "      <td>-4.355597</td>\n",
       "      <td>-10.472455</td>\n",
       "      <td>0.000000</td>\n",
       "      <td>0.193378</td>\n",
       "      <td>8.682623</td>\n",
       "      <td>-0.091148</td>\n",
       "      <td>1.94288</td>\n",
       "      <td>2.0</td>\n",
       "    </tr>\n",
       "  </tbody>\n",
       "</table>\n",
       "</div>"
      ],
      "text/plain": [
       "                      Gain      Cagr    Sharpe        Qr  Max dd pct  \\\n",
       "id                                                                     \n",
       "0  TA_(t=15Min) -659.24220 -0.999998  3.041389 -0.574773  106.709664   \n",
       "2  TA_(t=1h)    -668.58825 -0.999999  3.020462 -0.590899  106.811806   \n",
       "1  TA_(t=30Min)  -27.31788 -0.286085 -3.623893 -0.144373    4.877510   \n",
       "\n",
       "                     Mdd usd    Sortino     Calmar  Tail ratio  Stability  \\\n",
       "id                                                                          \n",
       "0  TA_(t=15Min)  2215.990000  14.924458  -1.114604    2.524995   0.291326   \n",
       "2  TA_(t=1h)     2220.000000  14.826988  -1.114604    2.536118   0.305066   \n",
       "1  TA_(t=30Min)    48.775097  -4.355597 -10.472455    0.000000   0.193378   \n",
       "\n",
       "                         Var  Avg return      Fees  Execs  \n",
       "id                                                         \n",
       "0  TA_(t=15Min)  1328.670529   14.507123  30.51720    4.0  \n",
       "2  TA_(t=1h)     1330.357952   14.414770  30.68325    4.0  \n",
       "1  TA_(t=30Min)     8.682623   -0.091148   1.94288    2.0  "
      ]
     },
     "execution_count": 6,
     "metadata": {},
     "output_type": "execute_result"
    },
    {
     "data": {
      "image/png": "[encoded data removed]",
      "text/plain": [
       "<Figure size 960x400 with 1 Axes>"
      ]
     },
     "metadata": {},
     "output_type": "display_data"
    }
   ],
   "source": [
    "tearsheet(r, False, use_plotly=False)"
   ]
  },
  {
   "cell_type": "code",
   "execution_count": 7,
   "metadata": {},
   "outputs": [
    {
     "data": {
      "text/plain": [
       "\"TestA(timeframe='1h', exchange='BINANCE.UM')\""
      ]
     },
     "execution_count": 7,
     "metadata": {},
     "output_type": "execute_result"
    }
   ],
   "source": [
    "r[2].config()"
   ]
  },
  {
   "cell_type": "code",
   "execution_count": null,
   "metadata": {},
   "outputs": [],
   "source": [
    "# chart_signals(r[0], 'BTCUSDT', ld[['BTCUSDT']], show_signals=True)"
   ]
  },
  {
   "cell_type": "markdown",
   "metadata": {},
   "source": [
    "### - What we want to have -"
   ]
  },
  {
   "cell_type": "code",
   "execution_count": 8,
   "metadata": {},
   "outputs": [],
   "source": [
    "class TestB(IStrategy):\n",
    "    timeframe: str = \"15Min\"\n",
    "\n",
    "    def on_event(self, ctx: IStrategyContext, event: TriggerEvent) -> Optional[List[Signal]]:\n",
    "        s = []\n",
    "        logger.info('Event')\n",
    "        if 0:\n",
    "            for i in ctx.instruments:\n",
    "                data = ctx.ohlc(i, self.timeframe)\n",
    "                s1 = ta.kama(data.close, 36) - ta.kama(data.close, 12)\n",
    "                if len(s1) > 1:\n",
    "                    if s1[1] < 0 and s1[0] > 0:\n",
    "                        logger.info(f\" >> BUY: {i}\")\n",
    "                        s.append(ctx.instruments[0].signal(+1))\n",
    "\n",
    "                    if s1[1] > 0 and s1[0] < 0:\n",
    "                        logger.info(f\"SELL: {i}\")\n",
    "                        s.append(i.signal(-1))\n",
    "        return s"
   ]
  },
  {
   "cell_type": "code",
   "execution_count": 9,
   "metadata": {},
   "outputs": [
    {
     "name": "stdout",
     "output_type": "stream",
     "text": [
      "\u001b[32m2024-12-09 15:45:37.383\u001b[0m [ \u001b[34m\u001b[1m🐞\u001b[0m ] \u001b[36m(simulator)\u001b[0m \u001b[34m\u001b[1m\u001b[31m2023-07-01 00:00:00\u001b[0m\u001b[34m\u001b[1m Initiating simulated trading for binance.um for 1000 x 1.0 in USDT...\u001b[0m\n",
      "\u001b[96m2023-07-01 00:00:00.000\u001b[0m [\u001b[1mℹ️\u001b[0m] \u001b[1mSimulatedTrading emulates stop orders executions at exact price\u001b[0m\n",
      "\u001b[96m2023-07-01 00:00:00.000\u001b[0m [\u001b[1mℹ️\u001b[0m] \u001b[1mSimulatedExchange.binance.um is initialized\u001b[0m\n"
     ]
    },
    {
     "data": {
      "application/vnd.jupyter.widget-view+json": {
       "model_id": "c9fae24e2e8a4539b78fd9dcee53d58f",
       "version_major": 2,
       "version_minor": 0
      },
      "text/plain": [
       "Simulating:   0%|          | 0/100 [00:00<?, ?%/s]"
      ]
     },
     "metadata": {},
     "output_type": "display_data"
    },
    {
     "name": "stdout",
     "output_type": "stream",
     "text": [
      "\u001b[96m2023-07-01 00:00:00.000\u001b[0m [\u001b[34m\u001b[1m🐞\u001b[0m] \u001b[34m\u001b[1m | get_subscribed_instruments __all__ -> []\u001b[0m\n",
      "\u001b[96m2023-07-01 00:00:00.000\u001b[0m [\u001b[34m\u001b[1m🐞\u001b[0m] \u001b[34m\u001b[1m | get_subscriptions None -> []\u001b[0m\n",
      "\u001b[96m2023-07-01 00:00:00.000\u001b[0m [\u001b[34m\u001b[1m🐞\u001b[0m] \u001b[34m\u001b[1m | get_subscribed_instruments ohlc(1Min) -> []\u001b[0m\n",
      "\u001b[96m2023-07-01 00:00:00.000\u001b[0m [\u001b[34m\u001b[1m🐞\u001b[0m] \u001b[34m\u001b[1m | get_subscribed_instruments None -> []\u001b[0m\n",
      "\u001b[96m2023-07-01 00:00:00.000\u001b[0m [\u001b[34m\u001b[1m🐞\u001b[0m] \u001b[34m\u001b[1m | get_subscribed_instruments ohlc(1Min) -> []\u001b[0m\n",
      "\u001b[96m2023-07-01 00:00:00.000\u001b[0m [\u001b[34m\u001b[1m🐞\u001b[0m] \u001b[34m\u001b[1m | subscribe: ohlc(1Min) -> {BINANCE.UM:SWAP:BTCUSDT}\u001b[0m\n",
      "\u001b[96m2023-07-01 00:00:00.000\u001b[0m [\u001b[1mℹ️\u001b[0m] \u001b[1mSimulatedExchange ::: Simulation started at 2023-07-01 :::\u001b[0m\n",
      "\u001b[96m2023-07-01 00:00:00.000\u001b[0m [\u001b[34m\u001b[1m🐞\u001b[0m] \u001b[34m\u001b[1mPreloading initial data for ohlc.1Min 2023-07-01 00:00:00 : 2023-07-02 00:00:00 ...\u001b[0m\n",
      "\u001b[96m2023-07-01 00:00:01.000\u001b[0m [\u001b[34m\u001b[1m🐞\u001b[0m] \u001b[34m\u001b[1mInvoking \u001b[32mTestB\u001b[0m\u001b[34m\u001b[1m on_fit\u001b[0m\n",
      "\u001b[96m2023-07-01 00:00:01.000\u001b[0m [\u001b[34m\u001b[1m🐞\u001b[0m] \u001b[34m\u001b[1m\u001b[32mTestB\u001b[0m\u001b[34m\u001b[1m is fitted\u001b[0m\n",
      "\u001b[96m2023-07-01 00:24:00.000\u001b[0m [\u001b[1mℹ️\u001b[0m] \u001b[1mEvent\u001b[0m\n",
      "\u001b[96m2023-07-01 00:36:00.000\u001b[0m [\u001b[1mℹ️\u001b[0m] \u001b[1mEvent\u001b[0m\n",
      "\u001b[96m2023-07-01 00:59:59.000\u001b[0m [\u001b[1mℹ️\u001b[0m] \u001b[1mEvent\u001b[0m\n",
      "\u001b[96m2023-07-01 01:24:00.000\u001b[0m [\u001b[1mℹ️\u001b[0m] \u001b[1mEvent\u001b[0m\n",
      "\u001b[96m2023-07-01 01:36:00.000\u001b[0m [\u001b[1mℹ️\u001b[0m] \u001b[1mEvent\u001b[0m\n",
      "\u001b[96m2023-07-01 01:59:59.000\u001b[0m [\u001b[1mℹ️\u001b[0m] \u001b[1mEvent\u001b[0m\n",
      "\u001b[96m2023-07-01 02:24:00.000\u001b[0m [\u001b[1mℹ️\u001b[0m] \u001b[1mEvent\u001b[0m\n",
      "\u001b[96m2023-07-01 02:36:00.000\u001b[0m [\u001b[1mℹ️\u001b[0m] \u001b[1mEvent\u001b[0m\n",
      "\u001b[96m2023-07-01 02:59:59.000\u001b[0m [\u001b[1mℹ️\u001b[0m] \u001b[1mEvent\u001b[0m\n",
      "\u001b[96m2023-07-01 03:24:00.000\u001b[0m [\u001b[1mℹ️\u001b[0m] \u001b[1mEvent\u001b[0m\n",
      "\u001b[96m2023-07-01 03:36:00.000\u001b[0m [\u001b[1mℹ️\u001b[0m] \u001b[1mEvent\u001b[0m\n",
      "\u001b[96m2023-07-01 03:59:59.000\u001b[0m [\u001b[1mℹ️\u001b[0m] \u001b[1mEvent\u001b[0m\n",
      "\u001b[96m2023-07-01 04:24:00.000\u001b[0m [\u001b[1mℹ️\u001b[0m] \u001b[1mEvent\u001b[0m\n",
      "\u001b[96m2023-07-01 04:36:00.000\u001b[0m [\u001b[1mℹ️\u001b[0m] \u001b[1mEvent\u001b[0m\n",
      "\u001b[96m2023-07-01 04:59:59.000\u001b[0m [\u001b[1mℹ️\u001b[0m] \u001b[1mEvent\u001b[0m\n",
      "\u001b[96m2023-07-01 05:24:00.000\u001b[0m [\u001b[1mℹ️\u001b[0m] \u001b[1mEvent\u001b[0m\n",
      "\u001b[96m2023-07-01 05:36:00.000\u001b[0m [\u001b[1mℹ️\u001b[0m] \u001b[1mEvent\u001b[0m\n",
      "\u001b[96m2023-07-01 05:59:59.000\u001b[0m [\u001b[1mℹ️\u001b[0m] \u001b[1mEvent\u001b[0m\n",
      "\u001b[96m2023-07-01 06:24:00.000\u001b[0m [\u001b[1mℹ️\u001b[0m] \u001b[1mEvent\u001b[0m\n",
      "\u001b[96m2023-07-01 06:36:00.000\u001b[0m [\u001b[1mℹ️\u001b[0m] \u001b[1mEvent\u001b[0m\n",
      "\u001b[96m2023-07-01 06:59:59.000\u001b[0m [\u001b[1mℹ️\u001b[0m] \u001b[1mEvent\u001b[0m\n",
      "\u001b[96m2023-07-01 07:24:00.000\u001b[0m [\u001b[1mℹ️\u001b[0m] \u001b[1mEvent\u001b[0m\n",
      "\u001b[96m2023-07-01 07:36:00.000\u001b[0m [\u001b[1mℹ️\u001b[0m] \u001b[1mEvent\u001b[0m\n",
      "\u001b[96m2023-07-01 07:59:59.000\u001b[0m [\u001b[1mℹ️\u001b[0m] \u001b[1mEvent\u001b[0m\n",
      "\u001b[96m2023-07-01 08:24:00.000\u001b[0m [\u001b[1mℹ️\u001b[0m] \u001b[1mEvent\u001b[0m\n",
      "\u001b[96m2023-07-01 08:36:00.000\u001b[0m [\u001b[1mℹ️\u001b[0m] \u001b[1mEvent\u001b[0m\n",
      "\u001b[96m2023-07-01 08:59:59.000\u001b[0m [\u001b[1mℹ️\u001b[0m] \u001b[1mEvent\u001b[0m\n",
      "\u001b[96m2023-07-01 09:24:00.000\u001b[0m [\u001b[1mℹ️\u001b[0m] \u001b[1mEvent\u001b[0m\n",
      "\u001b[96m2023-07-01 09:36:00.000\u001b[0m [\u001b[1mℹ️\u001b[0m] \u001b[1mEvent\u001b[0m\n",
      "\u001b[96m2023-07-01 09:59:59.000\u001b[0m [\u001b[1mℹ️\u001b[0m] \u001b[1mEvent\u001b[0m\n",
      "\u001b[96m2023-07-01 10:24:00.000\u001b[0m [\u001b[1mℹ️\u001b[0m] \u001b[1mEvent\u001b[0m\n",
      "\u001b[96m2023-07-01 10:36:00.000\u001b[0m [\u001b[1mℹ️\u001b[0m] \u001b[1mEvent\u001b[0m\n",
      "\u001b[96m2023-07-01 10:59:59.000\u001b[0m [\u001b[1mℹ️\u001b[0m] \u001b[1mEvent\u001b[0m\n",
      "\u001b[96m2023-07-01 11:24:00.000\u001b[0m [\u001b[1mℹ️\u001b[0m] \u001b[1mEvent\u001b[0m\n",
      "\u001b[96m2023-07-01 11:36:00.000\u001b[0m [\u001b[1mℹ️\u001b[0m] \u001b[1mEvent\u001b[0m\n",
      "\u001b[96m2023-07-01 11:59:59.000\u001b[0m [\u001b[1mℹ️\u001b[0m] \u001b[1mEvent\u001b[0m\n",
      "\u001b[96m2023-07-01 12:24:00.000\u001b[0m [\u001b[1mℹ️\u001b[0m] \u001b[1mEvent\u001b[0m\n",
      "\u001b[96m2023-07-01 12:36:00.000\u001b[0m [\u001b[1mℹ️\u001b[0m] \u001b[1mEvent\u001b[0m\n",
      "\u001b[96m2023-07-01 12:59:59.000\u001b[0m [\u001b[1mℹ️\u001b[0m] \u001b[1mEvent\u001b[0m\n",
      "\u001b[96m2023-07-01 13:24:00.000\u001b[0m [\u001b[1mℹ️\u001b[0m] \u001b[1mEvent\u001b[0m\n",
      "\u001b[96m2023-07-01 13:36:00.000\u001b[0m [\u001b[1mℹ️\u001b[0m] \u001b[1mEvent\u001b[0m\n",
      "\u001b[96m2023-07-01 13:59:59.000\u001b[0m [\u001b[1mℹ️\u001b[0m] \u001b[1mEvent\u001b[0m\n",
      "\u001b[96m2023-07-01 14:24:00.000\u001b[0m [\u001b[1mℹ️\u001b[0m] \u001b[1mEvent\u001b[0m\n",
      "\u001b[96m2023-07-01 14:36:00.000\u001b[0m [\u001b[1mℹ️\u001b[0m] \u001b[1mEvent\u001b[0m\n",
      "\u001b[96m2023-07-01 14:59:59.000\u001b[0m [\u001b[1mℹ️\u001b[0m] \u001b[1mEvent\u001b[0m\n",
      "\u001b[96m2023-07-01 15:24:00.000\u001b[0m [\u001b[1mℹ️\u001b[0m] \u001b[1mEvent\u001b[0m\n",
      "\u001b[96m2023-07-01 15:36:00.000\u001b[0m [\u001b[1mℹ️\u001b[0m] \u001b[1mEvent\u001b[0m\n",
      "\u001b[96m2023-07-01 15:59:59.000\u001b[0m [\u001b[1mℹ️\u001b[0m] \u001b[1mEvent\u001b[0m\n",
      "\u001b[96m2023-07-01 16:24:00.000\u001b[0m [\u001b[1mℹ️\u001b[0m] \u001b[1mEvent\u001b[0m\n",
      "\u001b[96m2023-07-01 16:36:00.000\u001b[0m [\u001b[1mℹ️\u001b[0m] \u001b[1mEvent\u001b[0m\n",
      "\u001b[96m2023-07-01 16:59:59.000\u001b[0m [\u001b[1mℹ️\u001b[0m] \u001b[1mEvent\u001b[0m\n",
      "\u001b[96m2023-07-01 17:24:00.000\u001b[0m [\u001b[1mℹ️\u001b[0m] \u001b[1mEvent\u001b[0m\n",
      "\u001b[96m2023-07-01 17:36:00.000\u001b[0m [\u001b[1mℹ️\u001b[0m] \u001b[1mEvent\u001b[0m\n",
      "\u001b[96m2023-07-01 17:59:59.000\u001b[0m [\u001b[1mℹ️\u001b[0m] \u001b[1mEvent\u001b[0m\n",
      "\u001b[96m2023-07-01 18:24:00.000\u001b[0m [\u001b[1mℹ️\u001b[0m] \u001b[1mEvent\u001b[0m\n",
      "\u001b[96m2023-07-01 18:36:00.000\u001b[0m [\u001b[1mℹ️\u001b[0m] \u001b[1mEvent\u001b[0m\n",
      "\u001b[96m2023-07-01 18:59:59.000\u001b[0m [\u001b[1mℹ️\u001b[0m] \u001b[1mEvent\u001b[0m\n",
      "\u001b[96m2023-07-01 19:24:00.000\u001b[0m [\u001b[1mℹ️\u001b[0m] \u001b[1mEvent\u001b[0m\n",
      "\u001b[96m2023-07-01 19:36:00.000\u001b[0m [\u001b[1mℹ️\u001b[0m] \u001b[1mEvent\u001b[0m\n",
      "\u001b[96m2023-07-01 19:59:59.000\u001b[0m [\u001b[1mℹ️\u001b[0m] \u001b[1mEvent\u001b[0m\n",
      "\u001b[96m2023-07-01 20:24:00.000\u001b[0m [\u001b[1mℹ️\u001b[0m] \u001b[1mEvent\u001b[0m\n",
      "\u001b[96m2023-07-01 20:36:00.000\u001b[0m [\u001b[1mℹ️\u001b[0m] \u001b[1mEvent\u001b[0m\n",
      "\u001b[96m2023-07-01 20:59:59.000\u001b[0m [\u001b[1mℹ️\u001b[0m] \u001b[1mEvent\u001b[0m\n",
      "\u001b[96m2023-07-01 21:24:00.000\u001b[0m [\u001b[1mℹ️\u001b[0m] \u001b[1mEvent\u001b[0m\n",
      "\u001b[96m2023-07-01 21:36:00.000\u001b[0m [\u001b[1mℹ️\u001b[0m] \u001b[1mEvent\u001b[0m\n",
      "\u001b[96m2023-07-01 21:59:59.000\u001b[0m [\u001b[1mℹ️\u001b[0m] \u001b[1mEvent\u001b[0m\n",
      "\u001b[96m2023-07-01 22:24:00.000\u001b[0m [\u001b[1mℹ️\u001b[0m] \u001b[1mEvent\u001b[0m\n",
      "\u001b[96m2023-07-01 22:36:00.000\u001b[0m [\u001b[1mℹ️\u001b[0m] \u001b[1mEvent\u001b[0m\n"
     ]
    },
    {
     "name": "stdout",
     "output_type": "stream",
     "text": [
      "\u001b[96m2023-07-01 22:59:59.000\u001b[0m [\u001b[1mℹ️\u001b[0m] \u001b[1mEvent\u001b[0m\n",
      "\u001b[96m2023-07-01 23:24:00.000\u001b[0m [\u001b[1mℹ️\u001b[0m] \u001b[1mEvent\u001b[0m\n",
      "\u001b[96m2023-07-01 23:36:00.000\u001b[0m [\u001b[1mℹ️\u001b[0m] \u001b[1mEvent\u001b[0m\n",
      "\u001b[96m2023-07-01 23:59:59.000\u001b[0m [\u001b[1mℹ️\u001b[0m] \u001b[1mEvent\u001b[0m\n",
      "\u001b[96m2023-07-02 00:24:00.000\u001b[0m [\u001b[1mℹ️\u001b[0m] \u001b[1mEvent\u001b[0m\n",
      "\u001b[96m2023-07-02 00:36:00.000\u001b[0m [\u001b[1mℹ️\u001b[0m] \u001b[1mEvent\u001b[0m\n",
      "\u001b[96m2023-07-02 00:59:59.000\u001b[0m [\u001b[1mℹ️\u001b[0m] \u001b[1mEvent\u001b[0m\n",
      "\u001b[96m2023-07-02 00:59:59.000\u001b[0m [\u001b[1mℹ️\u001b[0m] \u001b[1mSimulatedExchange ::: Simulation finished at 2023-07-02 00:00:00 :::\u001b[0m\n",
      "\u001b[96m2023-07-02 00:59:59.000\u001b[0m [\u001b[34m\u001b[1m🐞\u001b[0m] \u001b[34m\u001b[1mConnected to QuestDB at nebula:8812\u001b[0m\n",
      "\u001b[96m2023-07-02 00:59:59.000\u001b[0m [\u001b[34m\u001b[1m🐞\u001b[0m] \u001b[34m\u001b[1mConnected to QuestDB at nebula:8812\u001b[0m\n",
      "\u001b[96m2023-07-02 00:59:59.000\u001b[0m [\u001b[34m\u001b[1m🐞\u001b[0m] \u001b[34m\u001b[1m(InMemoryCachedReader) Loading all data 2023-07-01 00:00:00 - 2023-07-02 00:00:00 for BTCUSDT \u001b[0m\n",
      "\u001b[96m2023-07-02 00:59:59.000\u001b[0m [\u001b[34m\u001b[1m🐞\u001b[0m] \u001b[34m\u001b[1mConnected to QuestDB at nebula:8812\u001b[0m\n",
      "\u001b[96m2023-07-02 00:59:59.000\u001b[0m [\u001b[34m\u001b[1m🐞\u001b[0m] \u001b[34m\u001b[1mClosing connection\u001b[0m\n",
      "\u001b[96m2023-07-02 00:59:59.000\u001b[0m [\u001b[34m\u001b[1m🐞\u001b[0m] \u001b[34m\u001b[1m(InMemoryCachedReader) Loading all data 2023-07-01 00:00:00 - 2023-07-02 00:00:00 for BTCUSDT \u001b[0m\n",
      "\u001b[96m2023-07-02 00:59:59.000\u001b[0m [\u001b[34m\u001b[1m🐞\u001b[0m] \u001b[34m\u001b[1mConnected to QuestDB at nebula:8812\u001b[0m\n",
      "\u001b[96m2023-07-02 00:59:59.000\u001b[0m [\u001b[34m\u001b[1m🐞\u001b[0m] \u001b[34m\u001b[1mClosing connection\u001b[0m\n",
      "\u001b[96m2023-07-02 00:59:59.000\u001b[0m [\u001b[34m\u001b[1m🐞\u001b[0m] \u001b[34m\u001b[1m(InMemoryCachedReader) Loading all data 2023-07-01 00:00:00 - 2023-07-02 00:00:00 for BTCUSDT \u001b[0m\n",
      "\u001b[96m2023-07-02 00:59:59.000\u001b[0m [\u001b[34m\u001b[1m🐞\u001b[0m] \u001b[34m\u001b[1mClosing connection\u001b[0m\n",
      "\u001b[96m2023-07-02 00:59:59.000\u001b[0m [\u001b[34m\u001b[1m🐞\u001b[0m] \u001b[34m\u001b[1m(InMemoryCachedReader) Loading all data 2023-07-01 00:00:00 - 2023-07-02 00:00:00 for ETHUSDT,BTCUSDT \u001b[0m\n",
      "\u001b[96m2023-07-02 00:59:59.000\u001b[0m [\u001b[34m\u001b[1m🐞\u001b[0m] \u001b[34m\u001b[1m(InMemoryCachedReader) Loading all data 2023-07-01 00:00:00 - 2023-07-02 00:00:00 for ETHUSDT,BTCUSDT \u001b[0m\n",
      "\u001b[96m2023-07-02 00:59:59.000\u001b[0m [\u001b[34m\u001b[1m🐞\u001b[0m] \u001b[34m\u001b[1m(InMemoryCachedReader) Loading all data 2023-07-01 00:00:00 - 2023-07-02 00:00:00 for ETHUSDT \u001b[0m\n",
      "\u001b[96m2023-07-02 00:59:59.000\u001b[0m [\u001b[34m\u001b[1m🐞\u001b[0m] \u001b[34m\u001b[1m(InMemoryCachedReader) Loading all data 2023-07-01 00:00:00 - 2023-07-02 00:00:00 for ETHUSDT \u001b[0m\n"
     ]
    }
   ],
   "source": [
    "r = simulate(\n",
    "   {'A': TestB(timeframe=\"1h\")}, ld, 1000, \n",
    "   ['BINANCE.UM:BTCUSDT'],\n",
    "   # \"vip0_usdt\", \"2023-06-22\", \"2023-07-30\", debug=\"DEBUG\",\n",
    "   \"vip0_usdt\", \"2023-07-01\", \"2023-07-02\", debug=\"DEBUG\",\n",
    "\n",
    "   accurate_stop_orders_execution=True,\n",
    "   # simulation=\"ohlc(1h)\",\n",
    "   \n",
    ")"
   ]
  },
  {
   "cell_type": "code",
   "execution_count": 10,
   "metadata": {},
   "outputs": [
    {
     "data": {
      "text/plain": [
       "\"TestB(timeframe='1h')\""
      ]
     },
     "execution_count": 10,
     "metadata": {},
     "output_type": "execute_result"
    }
   ],
   "source": [
    "r[0].config()"
   ]
  },
  {
   "cell_type": "code",
   "execution_count": null,
   "metadata": {},
   "outputs": [],
   "source": [
    "simulate.configs.ON_CLOSE()"
   ]
  },
  {
   "cell_type": "code",
   "execution_count": null,
   "metadata": {},
   "outputs": [],
   "source": [
    "tearsheet(r, False)"
   ]
  },
  {
   "cell_type": "code",
   "execution_count": null,
   "metadata": {},
   "outputs": [],
   "source": [
    "chart_signals(r[0], 'BTCUSDT', ld[['BTCUSDT']], show_signals=True)"
   ]
  },
  {
   "cell_type": "markdown",
   "metadata": {},
   "source": [
    "### Data Recognition"
   ]
  },
  {
   "cell_type": "code",
   "execution_count": 100,
   "metadata": {},
   "outputs": [],
   "source": [
    "data = ld[['BTCUSDT', 'ETHUSDT'], '2023-07-01':'2023-07-02']"
   ]
  },
  {
   "cell_type": "code",
   "execution_count": null,
   "metadata": {},
   "outputs": [
    {
     "data": {
      "text/plain": [
       "{'BTCUSDT': 'OHLC', 'ETHUSDT': 'OHLC'}"
      ]
     },
     "execution_count": 128,
     "metadata": {},
     "output_type": "execute_result"
    }
   ],
   "source": [
    "def _has_columns(v: pd.DataFrame, columns: list[str]):\n",
    "    return all([c in v.columns for c in columns])\n",
    "\n",
    "_types = {}\n",
    "for k, v in data.items():\n",
    "\n",
    "    if type(v) is pd.DataFrame:\n",
    "        if _has_columns(v, [\"open\", \"high\", \"low\", \"close\"]):\n",
    "            _types[k] = \"OHLC\"\n",
    "\n",
    "        if _has_columns(v, [\"bid\", \"ask\"]):\n",
    "            _types[k] = \"QUOTES\"\n",
    "\n",
    "        if _has_columns(v, [\"price\", \"size\"]):\n",
    "            _types[k] = \"TRADES\"\n",
    "_types"
   ]
  },
  {
   "cell_type": "code",
   "execution_count": null,
   "metadata": {},
   "outputs": [],
   "source": [
    "# l2 = loader(\"BINANCE.UM\", \"1h\", source=\"csv::../tests/data/csv\", n_jobs=1)\n",
    "# l2 = loader(\"csv\", \"1h\", source=\"csv::../tests/data/\", n_jobs=1)"
   ]
  },
  {
   "cell_type": "code",
   "execution_count": 108,
   "metadata": {},
   "outputs": [
    {
     "data": {
      "text/plain": [
       "[array([Timestamp('2023-07-01 00:00:00'), 30459.1, 98338, 30527.2, 30405.6, 30460.2, 267887520.0, 130112864.0, 4269.25, 8790.093], dtype=object),\n",
       " array([Timestamp('2023-07-01 01:00:00'), 30433.4, 93651, 30475.7, 30367.4, 30459.1, 261595424.0, 117457504.0, 3860.466, 8597.762], dtype=object),\n",
       " array([Timestamp('2023-07-01 02:00:00'), 30408.4, 83641, 30522.0, 30380.0, 30433.3, 229735088.0, 110459080.0, 3627.463, 7545.346], dtype=object),\n",
       " array([Timestamp('2023-07-01 03:00:00'), 30391.2, 61442, 30435.7, 30362.0, 30408.4, 147269552.0, 70929880.0, 2333.582, 4845.068], dtype=object),\n",
       " array([Timestamp('2023-07-01 04:00:00'), 30381.4, 88569, 30412.3, 30311.3, 30391.2, 266895504.0, 128709680.0, 4239.098, 8790.924], dtype=object),\n",
       " array([Timestamp('2023-07-01 05:00:00'), 30415.2, 46344, 30423.4, 30381.3, 30381.3, 96719576.0, 56243364.0, 1850.019, 3181.499], dtype=object),\n",
       " array([Timestamp('2023-07-01 06:00:00'), 30441.5, 55250, 30462.8, 30387.6, 30415.3, 203003472.0, 114352240.0, 3758.18, 6672.144], dtype=object),\n",
       " array([Timestamp('2023-07-01 07:00:00'), 30448.1, 58572, 30450.4, 30395.0, 30441.4, 148686336.0, 70007208.0, 2301.04, 4886.938], dtype=object),\n",
       " array([Timestamp('2023-07-01 08:00:00'), 30429.8, 59842, 30459.7, 30405.0, 30448.1, 120155264.0, 60925284.0, 2001.493, 3947.465], dtype=object),\n",
       " array([Timestamp('2023-07-01 09:00:00'), 30431.2, 40629, 30454.1, 30420.0, 30429.8, 100334096.0, 50341948.0, 1653.879, 3296.214], dtype=object),\n",
       " array([Timestamp('2023-07-01 10:00:00'), 30455.8, 61705, 30482.5, 30416.0, 30431.2, 198487808.0, 111782336.0, 3670.498, 6517.868], dtype=object),\n",
       " array([Timestamp('2023-07-01 11:00:00'), 30508.5, 92359, 30589.8, 30455.7, 30455.7, 303159552.0, 152322240.0, 4991.199, 9933.568], dtype=object),\n",
       " array([Timestamp('2023-07-01 12:00:00'), 30551.9, 119331, 30625.4, 30490.8, 30508.5, 322194496.0, 166636208.0, 5450.425, 10538.991], dtype=object),\n",
       " array([Timestamp('2023-07-01 13:00:00'), 30550.0, 92784, 30635.9, 30523.8, 30552.0, 242202752.0, 120785616.0, 3950.633, 7922.508], dtype=object),\n",
       " array([Timestamp('2023-07-01 14:00:00'), 30598.8, 82349, 30611.7, 30520.5, 30549.9, 191674048.0, 101236256.0, 3311.772, 6270.715], dtype=object),\n",
       " array([Timestamp('2023-07-01 15:00:00'), 30561.5, 91005, 30668.2, 30530.6, 30598.8, 249526592.0, 127290168.0, 4160.492, 8156.754], dtype=object),\n",
       " array([Timestamp('2023-07-01 16:00:00'), 30564.0, 64212, 30585.9, 30533.8, 30561.5, 148997728.0, 73605136.0, 2408.864, 4876.457], dtype=object),\n",
       " array([Timestamp('2023-07-01 17:00:00'), 30562.5, 51329, 30585.8, 30539.7, 30564.0, 104632872.0, 47816236.0, 1564.253, 3422.961], dtype=object),\n",
       " array([Timestamp('2023-07-01 18:00:00'), 30599.9, 42458, 30606.0, 30557.6, 30562.5, 80457104.0, 40317400.0, 1318.108, 2630.616], dtype=object),\n",
       " array([Timestamp('2023-07-01 19:00:00'), 30600.5, 55671, 30626.0, 30584.1, 30599.9, 157969312.0, 68584384.0, 2241.004, 5161.883], dtype=object),\n",
       " array([Timestamp('2023-07-01 20:00:00'), 30577.8, 36808, 30605.1, 30567.1, 30600.5, 63568416.0, 27774126.0, 907.971, 2078.168], dtype=object),\n",
       " array([Timestamp('2023-07-01 21:00:00'), 30574.7, 31835, 30596.1, 30558.1, 30577.8, 62218248.0, 29000382.0, 948.458, 2034.895], dtype=object),\n",
       " array([Timestamp('2023-07-01 22:00:00'), 30569.2, 45851, 30600.9, 30534.3, 30574.7, 103331752.0, 48283820.0, 1579.446, 3380.29], dtype=object),\n",
       " array([Timestamp('2023-07-01 23:00:00'), 30573.6, 36711, 30594.7, 30550.2, 30569.2, 62396520.0, 33463662.0, 1094.657, 2041.121], dtype=object),\n",
       " array([Timestamp('2023-07-02 00:00:00'), 30567.9, 81902, 30650.0, 30537.1, 30573.6, 262798784.0, 125825232.0, 4113.833, 8593.509], dtype=object)]"
      ]
     },
     "execution_count": 108,
     "metadata": {},
     "output_type": "execute_result"
    }
   ],
   "source": [
    "# l2.read(\"ETHUSDT\", \"2023-07-01\", \"2023-07-02\", data_type=\"agg_trades\", timeframe=None)\n",
    "ld.read(\"BINANCE.UM:BTCUSDT\", \"2023-07-01\", \"2023-07-02\", timeframe=None)"
   ]
  },
  {
   "cell_type": "code",
   "execution_count": null,
   "metadata": {},
   "outputs": [],
   "source": [
    "# recognize_simulation_data()"
   ]
  },
  {
   "cell_type": "code",
   "execution_count": null,
   "metadata": {},
   "outputs": [],
   "source": []
  }
 ],
 "metadata": {
  "kernelspec": {
   "display_name": ".venv",
   "language": "python",
   "name": "python3"
  },
  "language_info": {
   "codemirror_mode": {
    "name": "ipython",
    "version": 3
   },
   "file_extension": ".py",
   "mimetype": "text/x-python",
   "name": "python",
   "nbconvert_exporter": "python",
   "pygments_lexer": "ipython3",
   "version": "3.11.8"
  }
 },
 "nbformat": 4,
 "nbformat_minor": 2
}
