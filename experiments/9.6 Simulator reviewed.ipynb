{
 "cells": [
  {
   "cell_type": "code",
   "execution_count": 1,
   "metadata": {},
   "outputs": [
    {
     "name": "stdout",
     "output_type": "stream",
     "text": [
      "\n",
      "⠀⠀⡰⡖⠒⠒⢒⢦⠀⠀   \n",
      "⠀⢠⠃⠈⢆⣀⣎⣀⣱⡀  \u001b[31mQUBX\u001b[0m | \u001b[36mQuantitative Backtesting Environment\u001b[0m \n",
      "⠀⢳⠒⠒⡞⠚⡄⠀⡰⠁         (c) 2024, ver. \u001b[35mDev\u001b[0m\n",
      "⠀⠀⠱⣜⣀⣀⣈⣦⠃⠀⠀⠀ \n",
      "        \n"
     ]
    },
    {
     "data": {
      "text/html": [
       "<style> .cell-output-ipywidget-background { background-color: transparent !important; } :root { --jp-widgets-color: var(--vscode-editor-foreground); --jp-widgets-font-size: var(--vscode-editor-font-size); } </style>"
      ],
      "text/plain": [
       "<IPython.core.display.HTML object>"
      ]
     },
     "metadata": {},
     "output_type": "display_data"
    }
   ],
   "source": [
    "import sys, os, re\n",
    "from typing import *\n",
    "sys.path = ([\"../src/\", \"../\"] if re.match(r\"^(\\w\\:\\\\)|(/)\", os.getcwd()) else []) + sys.path\n",
    "import qubx\n",
    "%qubxd\n",
    "\n",
    "%load_ext autoreload\n",
    "%autoreload 2\n",
    "\n",
    "from qubx import lookup, logger\n",
    "from qubx.core.basics import DataType, Instrument, Signal, TimestampedDict\n",
    "from qubx.core.interfaces import IStrategy, IStrategyContext, TriggerEvent, MarketEvent\n",
    "from qubx.data.readers import InMemoryDataFrameReader, DataReader, AsDict, AsTrades, AsOhlcvSeries, AsBars, AsQuotes, AsTimestampedRecords, AsPandasFrame,RestoreTicksFromOHLC, RestoredBarsFromOHLC\n",
    "from qubx.backtester.utils import _StructureSniffer\n",
    "from qubx.core.metrics import tearsheet, chart_signals\n",
    "from qubx.pandaz.utils import *\n",
    "import qubx.ta.indicators as ta\n",
    "\n",
    "# - - - - - - - - - - - - - - - - - - - - - - - -\n",
    "from qubx.data.helpers import loader\n",
    "from qubx.backtester.simulator import simulate\n",
    "\n",
    "ld = loader(\"BINANCE.UM\", \"1h\", source=\"csv::../tests/data/csv_1h\", n_jobs=1)"
   ]
  },
  {
   "cell_type": "markdown",
   "metadata": {},
   "source": [
    "### <s>Current approach </s>"
   ]
  },
  {
   "cell_type": "code",
   "execution_count": 6,
   "metadata": {},
   "outputs": [],
   "source": [
    "class TestA(IStrategy):\n",
    "    \"\"\" Document your strategy here \"\"\"\n",
    "    timeframe: str = \"15Min\"\n",
    "    exchange = 'BINANCE.UM'\n",
    "\n",
    "    def on_init(self, ctx: IStrategyContext):\n",
    "        ctx.set_base_subscription(DataType.OHLC[self.timeframe])\n",
    "        ctx.set_event_schedule(\"55 23 * * *\")\n",
    "        ctx.set_fit_schedule(\"50 23 * * 1\")\n",
    "        self._idx = 0\n",
    "        self._to_test = [\n",
    "            [self.find_instrument(s) for s in [\"BTCUSDT\", \"ETHUSDT\"]],\n",
    "            [self.find_instrument(s) for s in [\"BTCUSDT\", \"BCHUSDT\", \"LTCUSDT\"]],\n",
    "            [self.find_instrument(s) for s in [\"BTCUSDT\", \"AAVEUSDT\", \"ETHUSDT\"]],\n",
    "            [self.find_instrument(s) for s in [\"BCHUSDT\"]],\n",
    "        ]\n",
    "\n",
    "    def on_fit(self, ctx: IStrategyContext):\n",
    "        logger.info(f\" -> subscribe : {self.lst(self._to_test[self._idx])}\")\n",
    "        ctx.set_universe(self._to_test[self._idx])\n",
    "        self._idx += 1\n",
    "        if self._idx >= len(self._to_test):\n",
    "            self._idx = 0 \n",
    "\n",
    "    def on_event(self, ctx: IStrategyContext, event: TriggerEvent) -> Optional[List[Signal]]:\n",
    "        s = []\n",
    "        logger.info(f\"Trig: {self.lst(ctx.instruments)} --> {str({i.symbol: ctx.quote(i) for i in ctx.instruments})}\")\n",
    "        if 1:\n",
    "            for i in ctx.instruments:\n",
    "                data = ctx.ohlc(i, self.timeframe)\n",
    "                s1 = ta.kama(data.close, 36) - ta.kama(data.close, 12)\n",
    "                if len(s1) > 1:\n",
    "                    if s1[1] < 0 and s1[0] > 0:\n",
    "                        logger.info(f\"BUY: {i}\")\n",
    "                        s.append(ctx.instruments[0].signal(+1))\n",
    "\n",
    "                    if s1[1] > 0 and s1[0] < 0:\n",
    "                        logger.info(f\"SELL: {i}\")\n",
    "                        s.append(i.signal(-1))\n",
    "        return s\n",
    "\n",
    "    def find_instrument(self, symbol: str) -> Instrument:\n",
    "        return lookup.find_symbol(self.exchange, symbol) # type: ignore\n",
    "\n",
    "    def lst(self, instrs: list[Instrument]):\n",
    "        return ','.join(map(lambda x: x.symbol, instrs))\n"
   ]
  },
  {
   "cell_type": "code",
   "execution_count": null,
   "metadata": {},
   "outputs": [],
   "source": [
    "r = simulate(\n",
    "   # {'A': TestA(timeframe=\"1h\")}, ld, 1000, \n",
    "   variate(TestA, timeframe=[\"15Min\", \"30Min\", \"1h\"]), ld, 1000, \n",
    "   ['BINANCE.UM:BTCUSDT'],\n",
    "   \"vip0_usdt\", \"2023-07-01\", \"2023-07-30\", debug=\"DEBUG\"\n",
    ")"
   ]
  },
  {
   "cell_type": "code",
   "execution_count": 4,
   "metadata": {},
   "outputs": [
    {
     "data": {
      "text/html": [
       "<div>\n",
       "<style scoped>\n",
       "    .dataframe tbody tr th:only-of-type {\n",
       "        vertical-align: middle;\n",
       "    }\n",
       "\n",
       "    .dataframe tbody tr th {\n",
       "        vertical-align: top;\n",
       "    }\n",
       "\n",
       "    .dataframe thead th {\n",
       "        text-align: right;\n",
       "    }\n",
       "</style>\n",
       "<table border=\"1\" class=\"dataframe\">\n",
       "  <thead>\n",
       "    <tr style=\"text-align: right;\">\n",
       "      <th></th>\n",
       "      <th></th>\n",
       "      <th>Gain</th>\n",
       "      <th>Cagr</th>\n",
       "      <th>Sharpe</th>\n",
       "      <th>Qr</th>\n",
       "      <th>Max dd pct</th>\n",
       "      <th>Mdd usd</th>\n",
       "      <th>Sortino</th>\n",
       "      <th>Calmar</th>\n",
       "      <th>Tail ratio</th>\n",
       "      <th>Stability</th>\n",
       "      <th>Var</th>\n",
       "      <th>Avg return</th>\n",
       "      <th>Fees</th>\n",
       "      <th>Execs</th>\n",
       "    </tr>\n",
       "    <tr>\n",
       "      <th>id</th>\n",
       "      <th></th>\n",
       "      <th></th>\n",
       "      <th></th>\n",
       "      <th></th>\n",
       "      <th></th>\n",
       "      <th></th>\n",
       "      <th></th>\n",
       "      <th></th>\n",
       "      <th></th>\n",
       "      <th></th>\n",
       "      <th></th>\n",
       "      <th></th>\n",
       "      <th></th>\n",
       "      <th></th>\n",
       "      <th></th>\n",
       "    </tr>\n",
       "  </thead>\n",
       "  <tbody>\n",
       "    <tr>\n",
       "      <th>0</th>\n",
       "      <th>TA_(t=15Min)</th>\n",
       "      <td>-659.24220</td>\n",
       "      <td>-0.999998</td>\n",
       "      <td>3.041389</td>\n",
       "      <td>-0.574773</td>\n",
       "      <td>106.709664</td>\n",
       "      <td>2215.990000</td>\n",
       "      <td>14.924458</td>\n",
       "      <td>-1.114604</td>\n",
       "      <td>2.524995</td>\n",
       "      <td>0.291326</td>\n",
       "      <td>1328.670529</td>\n",
       "      <td>14.507123</td>\n",
       "      <td>30.51720</td>\n",
       "      <td>4.0</td>\n",
       "    </tr>\n",
       "    <tr>\n",
       "      <th>2</th>\n",
       "      <th>TA_(t=1h)</th>\n",
       "      <td>-668.58825</td>\n",
       "      <td>-0.999999</td>\n",
       "      <td>3.020462</td>\n",
       "      <td>-0.590899</td>\n",
       "      <td>106.811806</td>\n",
       "      <td>2220.000000</td>\n",
       "      <td>14.826988</td>\n",
       "      <td>-1.114604</td>\n",
       "      <td>2.536118</td>\n",
       "      <td>0.305066</td>\n",
       "      <td>1330.357952</td>\n",
       "      <td>14.414770</td>\n",
       "      <td>30.68325</td>\n",
       "      <td>4.0</td>\n",
       "    </tr>\n",
       "    <tr>\n",
       "      <th>1</th>\n",
       "      <th>TA_(t=30Min)</th>\n",
       "      <td>-27.31788</td>\n",
       "      <td>-0.286085</td>\n",
       "      <td>-3.623893</td>\n",
       "      <td>-0.144373</td>\n",
       "      <td>4.877510</td>\n",
       "      <td>48.775097</td>\n",
       "      <td>-4.355597</td>\n",
       "      <td>-10.472455</td>\n",
       "      <td>0.000000</td>\n",
       "      <td>0.193378</td>\n",
       "      <td>8.682623</td>\n",
       "      <td>-0.091148</td>\n",
       "      <td>1.94288</td>\n",
       "      <td>2.0</td>\n",
       "    </tr>\n",
       "  </tbody>\n",
       "</table>\n",
       "</div>"
      ],
      "text/plain": [
       "                      Gain      Cagr    Sharpe        Qr  Max dd pct  \\\n",
       "id                                                                     \n",
       "0  TA_(t=15Min) -659.24220 -0.999998  3.041389 -0.574773  106.709664   \n",
       "2  TA_(t=1h)    -668.58825 -0.999999  3.020462 -0.590899  106.811806   \n",
       "1  TA_(t=30Min)  -27.31788 -0.286085 -3.623893 -0.144373    4.877510   \n",
       "\n",
       "                     Mdd usd    Sortino     Calmar  Tail ratio  Stability  \\\n",
       "id                                                                          \n",
       "0  TA_(t=15Min)  2215.990000  14.924458  -1.114604    2.524995   0.291326   \n",
       "2  TA_(t=1h)     2220.000000  14.826988  -1.114604    2.536118   0.305066   \n",
       "1  TA_(t=30Min)    48.775097  -4.355597 -10.472455    0.000000   0.193378   \n",
       "\n",
       "                         Var  Avg return      Fees  Execs  \n",
       "id                                                         \n",
       "0  TA_(t=15Min)  1328.670529   14.507123  30.51720    4.0  \n",
       "2  TA_(t=1h)     1330.357952   14.414770  30.68325    4.0  \n",
       "1  TA_(t=30Min)     8.682623   -0.091148   1.94288    2.0  "
      ]
     },
     "execution_count": 4,
     "metadata": {},
     "output_type": "execute_result"
    },
    {
     "data": {
      "image/png": "[encoded data removed]",
      "text/plain": [
       "<Figure size 960x400 with 1 Axes>"
      ]
     },
     "metadata": {},
     "output_type": "display_data"
    }
   ],
   "source": [
    "tearsheet(r, False, use_plotly=False)"
   ]
  },
  {
   "cell_type": "code",
   "execution_count": 5,
   "metadata": {},
   "outputs": [
    {
     "data": {
      "text/plain": [
       "\"TestA(timeframe='1h', exchange='BINANCE.UM')\""
      ]
     },
     "execution_count": 5,
     "metadata": {},
     "output_type": "execute_result"
    }
   ],
   "source": [
    "r[2].config()"
   ]
  },
  {
   "cell_type": "code",
   "execution_count": null,
   "metadata": {},
   "outputs": [],
   "source": [
    "# chart_signals(r[0], 'BTCUSDT', ld[['BTCUSDT']], show_signals=True)"
   ]
  },
  {
   "cell_type": "markdown",
   "metadata": {},
   "source": [
    "## <font color='#00ff00'>-> New approach</font>"
   ]
  },
  {
   "cell_type": "code",
   "execution_count": 2,
   "metadata": {},
   "outputs": [],
   "source": [
    "# - real data from CSV\n",
    "l1 = loader(\"BINANCE.UM\", \"1h\", source=\"csv::../tests/data/csv_1h\", n_jobs=1)\n",
    "\n",
    "# - 'real' quotes provider\n",
    "rnd = lambda n: np.random.randn(n)  # noqa: E731\n",
    "idx = pd.date_range(start=\"2023-06-01 00:00\", end=\"2023-07-30\", freq=\"5Min\", name=\"timestamp\")\n",
    "q_data = pd.DataFrame({\"bid\": rnd(len(idx)), \"ask\": rnd(len(idx)), \"bid_vol\": rnd(len(idx)), \"ask_vol\": rnd(len(idx)) }, index=idx)\n",
    "qts_reader = InMemoryDataFrameReader({\"BINANCE.UM:BTCUSDT\": q_data})\n",
    "\n",
    "# - any data provider\n",
    "idx = pd.date_range(start=\"2023-06-01 00:00\", end=\"2023-07-30\", freq=\"1h\", name=\"timestamp\")\n",
    "c_data = pd.DataFrame({\"value1\": rnd(len(idx)), \"value2\": rnd(len(idx))}, index=idx)\n",
    "custom_reader = InMemoryDataFrameReader({\"BINANCE.UM:BTCUSDT\": c_data})"
   ]
  },
  {
   "cell_type": "code",
   "execution_count": 3,
   "metadata": {},
   "outputs": [],
   "source": [
    "class TestB(IStrategy):\n",
    "    ma_period: str = \"15Min\"\n",
    "    apply_own_schedule = False\n",
    "    show_mkt = False\n",
    "\n",
    "    def on_init(self, ctx: IStrategyContext):\n",
    "        if self.apply_own_schedule: ctx.set_event_schedule(\"0 */1 * * *\")\n",
    "        # ctx.set_warmup({\n",
    "        #     DataType.OHLC['1h']: \"24h\"\n",
    "        # })\n",
    "\n",
    "    def on_market_data(self, ctx: IStrategyContext, data: MarketEvent) -> list[Signal] | Signal | None:\n",
    "        if self.show_mkt:\n",
    "            logger.info(f'{data.instrument.symbol} market event ::: <g>{data.type}</g>\\t:::  -> {data.data}')\n",
    "\n",
    "    def on_event(self, ctx: IStrategyContext, event: TriggerEvent) -> list[Signal] | None:\n",
    "        s = []\n",
    "\n",
    "        if False:\n",
    "            for i in ctx.instruments:\n",
    "                data = ctx.ohlc(i, self.ma_period, 100)\n",
    "                s1 = ta.ema(data.close, 12) - ta.ema(data.close, 3)\n",
    "                if i.symbol == \"BTCUSDT\":  # debug output for BTCUSDT only\n",
    "                    logger.info(f\"<r>{i}</r>: {s1[1]}, {s1[0]}\")\n",
    "                if len(s1) > 1:\n",
    "                    if s1[1] < 0 and s1[0] > 0:\n",
    "                        logger.info(f\" >> BUY: {i}\")\n",
    "                        s.append(i.signal(+1))\n",
    "\n",
    "                    if s1[1] > 0 and s1[0] < 0:\n",
    "                        logger.info(f\"SELL: {i}\")\n",
    "                        s.append(i.signal(-1))\n",
    "        return s"
   ]
  },
  {
   "cell_type": "code",
   "execution_count": 8,
   "metadata": {},
   "outputs": [
    {
     "name": "stdout",
     "output_type": "stream",
     "text": [
      "\u001b[96m2023-07-10 00:00:00.000\u001b[0m [\u001b[34m\u001b[1m🐞\u001b[0m] \u001b[34m\u001b[1mPreparing simulated trading on \u001b[32mBINANCE.UM\u001b[0m\u001b[34m\u001b[1m for 1000 x 1.0 in USDT...\u001b[0m\n",
      "\u001b[96m2023-07-10 00:00:00.000\u001b[0m [\u001b[1mℹ️\u001b[0m] \u001b[1mSimulatedDataProvider.binance.um is initialized\u001b[0m\n"
     ]
    },
    {
     "data": {
      "application/vnd.jupyter.widget-view+json": {
       "model_id": "96b0d6a6008d44e6beed723c4e8f2411",
       "version_major": 2,
       "version_minor": 0
      },
      "text/plain": [
       "Simulating:   0%|          | 0/100 [00:00<?, ?%/s]"
      ]
     },
     "metadata": {},
     "output_type": "display_data"
    },
    {
     "name": "stdout",
     "output_type": "stream",
     "text": [
      "\u001b[96m2023-07-10 00:00:00.000\u001b[0m [\u001b[34m\u001b[1m🐞\u001b[0m] \u001b[34m\u001b[1m | Setting up default base subscription: ohlc(1h)\u001b[0m\n",
      "\u001b[96m2023-07-10 00:00:00.000\u001b[0m [\u001b[34m\u001b[1m🐞\u001b[0m] \u001b[34m\u001b[1m | Setting default schedule: 0 */1 * * *\u001b[0m\n",
      "\u001b[96m2023-07-10 00:00:00.000\u001b[0m [\u001b[34m\u001b[1m🐞\u001b[0m] \u001b[34m\u001b[1mStrategy doesn't set warmup period for \u001b[36mohlc(1h)\u001b[0m\u001b[34m\u001b[1m so default \u001b[36m2h\u001b[0m\u001b[34m\u001b[1m will be used\u001b[0m\n",
      "\u001b[96m2023-07-10 00:00:00.000\u001b[0m [\u001b[34m\u001b[1m🐞\u001b[0m] \u001b[34m\u001b[1m | Subscribing to: ohlc_quotes\u001b[0m\n",
      "\u001b[96m2023-07-10 00:00:00.000\u001b[0m [\u001b[1mℹ️\u001b[0m] \u001b[1mSimulatedDataProvider ::: Simulation started at 2023-07-10 00:00:00 :::\u001b[0m\n",
      "\u001b[96m2023-07-10 00:00:00.000\u001b[0m [\u001b[34m\u001b[1m🐞\u001b[0m] \u001b[34m\u001b[1mPreloading initial data for ohlc.1h 2023-07-10 00:00:00 : 2023-07-11 00:00:00 ...\u001b[0m\n",
      "\u001b[96m2023-07-10 00:00:00.000\u001b[0m [\u001b[34m\u001b[1m🐞\u001b[0m] \u001b[34m\u001b[1mPreloading initial data for ohlc.1h 2023-07-10 00:00:00 : 2023-07-11 00:00:00 ...\u001b[0m\n",
      "\u001b[96m2023-07-10 00:00:01.000\u001b[0m [\u001b[34m\u001b[1m🐞\u001b[0m] \u001b[34m\u001b[1mInvoking \u001b[32mTestB\u001b[0m\u001b[34m\u001b[1m on_fit\u001b[0m\n",
      "\u001b[96m2023-07-10 00:00:01.000\u001b[0m [\u001b[34m\u001b[1m🐞\u001b[0m] \u001b[34m\u001b[1m\u001b[32mTestB\u001b[0m\u001b[34m\u001b[1m is fitted\u001b[0m\n",
      "\u001b[96m2023-07-10 00:24:00.000\u001b[0m [\u001b[1mℹ️\u001b[0m] \u001b[1mBTCUSDT market event ::: \u001b[32mohlc\u001b[0m\u001b[1m\t:::  -> {o:30147.800000 | h:30219.400000 | l:30147.800000 | c:30219.400000 | v:8186.595675}\u001b[0m\n",
      "\u001b[96m2023-07-10 00:36:00.000\u001b[0m [\u001b[1mℹ️\u001b[0m] \u001b[1mBTCUSDT market event ::: \u001b[32mohlc\u001b[0m\u001b[1m\t:::  -> {o:30147.800000 | h:30219.400000 | l:29928.800000 | c:29928.800000 | v:16201.684458}\u001b[0m\n",
      "\u001b[96m2023-07-10 00:59:59.000\u001b[0m [\u001b[1mℹ️\u001b[0m] \u001b[1mBTCUSDT market event ::: \u001b[32mohlc\u001b[0m\u001b[1m\t:::  -> {o:30147.800000 | h:30219.400000 | l:29928.800000 | c:30077.700000 | v:33226.602000}\u001b[0m\n",
      "\u001b[96m2023-07-10 01:00:01.000\u001b[0m [\u001b[1mℹ️\u001b[0m] \u001b[1mBTCUSDT market event ::: \u001b[32mohlc\u001b[0m\u001b[1m\t:::  -> {o:30077.700000 | h:30077.700000 | l:30077.700000 | c:30077.700000 | v:0.000000}\u001b[0m\n",
      "\u001b[96m2023-07-10 01:00:01.000\u001b[0m [\u001b[1mℹ️\u001b[0m] \u001b[1mBTCUSDT market event ::: \u001b[32mquote\u001b[0m\u001b[1m\t:::  -> [2023-07-10T01:00:01.000000000]\t30077.70000 (1000000000.0) | 30077.70000 (1000000000.0)\u001b[0m\n",
      "\u001b[96m2023-07-10 01:24:00.000\u001b[0m [\u001b[1mℹ️\u001b[0m] \u001b[1mBTCUSDT market event ::: \u001b[32mohlc\u001b[0m\u001b[1m\t:::  -> {o:30077.700000 | h:30128.000000 | l:30077.700000 | c:30128.000000 | v:4161.910083}\u001b[0m\n",
      "\u001b[96m2023-07-10 01:24:00.000\u001b[0m [\u001b[1mℹ️\u001b[0m] \u001b[1mBTCUSDT market event ::: \u001b[32mquote\u001b[0m\u001b[1m\t:::  -> [2023-07-10T01:24:00.000000000]\t30128.00000 (1000000000.0) | 30128.00000 (1000000000.0)\u001b[0m\n",
      "\u001b[96m2023-07-10 01:36:00.000\u001b[0m [\u001b[1mℹ️\u001b[0m] \u001b[1mBTCUSDT market event ::: \u001b[32mohlc\u001b[0m\u001b[1m\t:::  -> {o:30077.700000 | h:30128.000000 | l:30019.500000 | c:30019.500000 | v:7777.724608}\u001b[0m\n",
      "\u001b[96m2023-07-10 01:36:00.000\u001b[0m [\u001b[1mℹ️\u001b[0m] \u001b[1mBTCUSDT market event ::: \u001b[32mquote\u001b[0m\u001b[1m\t:::  -> [2023-07-10T01:36:00.000000000]\t30019.50000 (1000000000.0) | 30019.50000 (1000000000.0)\u001b[0m\n",
      "\u001b[96m2023-07-10 01:59:59.000\u001b[0m [\u001b[1mℹ️\u001b[0m] \u001b[1mBTCUSDT market event ::: \u001b[32mohlc\u001b[0m\u001b[1m\t:::  -> {o:30077.700000 | h:30128.000000 | l:30019.500000 | c:30034.000000 | v:8977.480000}\u001b[0m\n",
      "\u001b[96m2023-07-10 01:59:59.000\u001b[0m [\u001b[1mℹ️\u001b[0m] \u001b[1mBTCUSDT market event ::: \u001b[32mquote\u001b[0m\u001b[1m\t:::  -> [2023-07-10T01:59:59.000000000]\t30034.00000 (1000000000.0) | 30034.00000 (1000000000.0)\u001b[0m\n",
      "\u001b[96m2023-07-10 02:00:01.000\u001b[0m [\u001b[1mℹ️\u001b[0m] \u001b[1mBTCUSDT market event ::: \u001b[32mohlc\u001b[0m\u001b[1m\t:::  -> {o:30034.100000 | h:30034.100000 | l:30034.100000 | c:30034.100000 | v:0.000000}\u001b[0m\n",
      "\u001b[96m2023-07-10 02:00:01.000\u001b[0m [\u001b[1mℹ️\u001b[0m] \u001b[1mBTCUSDT market event ::: \u001b[32mquote\u001b[0m\u001b[1m\t:::  -> [2023-07-10T02:00:01.000000000]\t30034.10000 (1000000000.0) | 30034.10000 (1000000000.0)\u001b[0m\n",
      "\u001b[96m2023-07-10 02:24:00.000\u001b[0m [\u001b[1mℹ️\u001b[0m] \u001b[1mBTCUSDT market event ::: \u001b[32mohlc\u001b[0m\u001b[1m\t:::  -> {o:30034.100000 | h:30034.100000 | l:30032.000000 | c:30032.000000 | v:101.609202}\u001b[0m\n",
      "\u001b[96m2023-07-10 02:24:00.000\u001b[0m [\u001b[1mℹ️\u001b[0m] \u001b[1mBTCUSDT market event ::: \u001b[32mquote\u001b[0m\u001b[1m\t:::  -> [2023-07-10T02:24:00.000000000]\t30032.00000 (1000000000.0) | 30032.00000 (1000000000.0)\u001b[0m\n",
      "\u001b[96m2023-07-10 02:36:00.000\u001b[0m [\u001b[1mℹ️\u001b[0m] \u001b[1mBTCUSDT market event ::: \u001b[32mohlc\u001b[0m\u001b[1m\t:::  -> {o:30034.100000 | h:30218.900000 | l:30032.000000 | c:30218.900000 | v:7504.565366}\u001b[0m\n",
      "\u001b[96m2023-07-10 02:36:00.000\u001b[0m [\u001b[1mℹ️\u001b[0m] \u001b[1mBTCUSDT market event ::: \u001b[32mquote\u001b[0m\u001b[1m\t:::  -> [2023-07-10T02:36:00.000000000]\t30218.90000 (1000000000.0) | 30218.90000 (1000000000.0)\u001b[0m\n",
      "\u001b[96m2023-07-10 02:59:59.000\u001b[0m [\u001b[1mℹ️\u001b[0m] \u001b[1mBTCUSDT market event ::: \u001b[32mohlc\u001b[0m\u001b[1m\t:::  -> {o:30034.100000 | h:30218.900000 | l:30032.000000 | c:30187.100000 | v:9043.219000}\u001b[0m\n",
      "\u001b[96m2023-07-10 02:59:59.000\u001b[0m [\u001b[1mℹ️\u001b[0m] \u001b[1mBTCUSDT market event ::: \u001b[32mquote\u001b[0m\u001b[1m\t:::  -> [2023-07-10T02:59:59.000000000]\t30187.10000 (1000000000.0) | 30187.10000 (1000000000.0)\u001b[0m\n",
      "\u001b[96m2023-07-10 03:00:01.000\u001b[0m [\u001b[1mℹ️\u001b[0m] \u001b[1mBTCUSDT market event ::: \u001b[32mohlc\u001b[0m\u001b[1m\t:::  -> {o:30187.200000 | h:30187.200000 | l:30187.200000 | c:30187.200000 | v:0.000000}\u001b[0m\n",
      "\u001b[96m2023-07-10 03:00:01.000\u001b[0m [\u001b[1mℹ️\u001b[0m] \u001b[1mBTCUSDT market event ::: \u001b[32mquote\u001b[0m\u001b[1m\t:::  -> [2023-07-10T03:00:01.000000000]\t30187.20000 (1000000000.0) | 30187.20000 (1000000000.0)\u001b[0m\n",
      "\u001b[96m2023-07-10 03:24:00.000\u001b[0m [\u001b[1mℹ️\u001b[0m] \u001b[1mBTCUSDT market event ::: \u001b[32mohlc\u001b[0m\u001b[1m\t:::  -> {o:30187.200000 | h:30235.000000 | l:30187.200000 | c:30235.000000 | v:2978.259485}\u001b[0m\n",
      "\u001b[96m2023-07-10 03:24:00.000\u001b[0m [\u001b[1mℹ️\u001b[0m] \u001b[1mBTCUSDT market event ::: \u001b[32mquote\u001b[0m\u001b[1m\t:::  -> [2023-07-10T03:24:00.000000000]\t30235.00000 (1000000000.0) | 30235.00000 (1000000000.0)\u001b[0m\n",
      "\u001b[96m2023-07-10 03:36:00.000\u001b[0m [\u001b[1mℹ️\u001b[0m] \u001b[1mBTCUSDT market event ::: \u001b[32mohlc\u001b[0m\u001b[1m\t:::  -> {o:30187.200000 | h:30235.000000 | l:30137.600000 | c:30137.600000 | v:5613.832208}\u001b[0m\n",
      "\u001b[96m2023-07-10 03:36:00.000\u001b[0m [\u001b[1mℹ️\u001b[0m] \u001b[1mBTCUSDT market event ::: \u001b[32mquote\u001b[0m\u001b[1m\t:::  -> [2023-07-10T03:36:00.000000000]\t30137.60000 (1000000000.0) | 30137.60000 (1000000000.0)\u001b[0m\n",
      "\u001b[96m2023-07-10 03:59:59.000\u001b[0m [\u001b[1mℹ️\u001b[0m] \u001b[1mBTCUSDT market event ::: \u001b[32mohlc\u001b[0m\u001b[1m\t:::  -> {o:30187.200000 | h:30235.000000 | l:30137.600000 | c:30144.900000 | v:6068.671000}\u001b[0m\n",
      "\u001b[96m2023-07-10 03:59:59.000\u001b[0m [\u001b[1mℹ️\u001b[0m] \u001b[1mBTCUSDT market event ::: \u001b[32mquote\u001b[0m\u001b[1m\t:::  -> [2023-07-10T03:59:59.000000000]\t30144.90000 (1000000000.0) | 30144.90000 (1000000000.0)\u001b[0m\n",
      "\u001b[96m2023-07-10 04:00:01.000\u001b[0m [\u001b[1mℹ️\u001b[0m] \u001b[1mBTCUSDT market event ::: \u001b[32mohlc\u001b[0m\u001b[1m\t:::  -> {o:30145.000000 | h:30145.000000 | l:30145.000000 | c:30145.000000 | v:0.000000}\u001b[0m\n",
      "\u001b[96m2023-07-10 04:00:01.000\u001b[0m [\u001b[1mℹ️\u001b[0m] \u001b[1mBTCUSDT market event ::: \u001b[32mquote\u001b[0m\u001b[1m\t:::  -> [2023-07-10T04:00:01.000000000]\t30145.00000 (1000000000.0) | 30145.00000 (1000000000.0)\u001b[0m\n",
      "\u001b[96m2023-07-10 04:24:00.000\u001b[0m [\u001b[1mℹ️\u001b[0m] \u001b[1mBTCUSDT market event ::: \u001b[32mohlc\u001b[0m\u001b[1m\t:::  -> {o:30145.000000 | h:30151.000000 | l:30145.000000 | c:30151.000000 | v:581.930204}\u001b[0m\n",
      "\u001b[96m2023-07-10 04:24:00.000\u001b[0m [\u001b[1mℹ️\u001b[0m] \u001b[1mBTCUSDT market event ::: \u001b[32mquote\u001b[0m\u001b[1m\t:::  -> [2023-07-10T04:24:00.000000000]\t30151.00000 (1000000000.0) | 30151.00000 (1000000000.0)\u001b[0m\n",
      "\u001b[96m2023-07-10 04:36:00.000\u001b[0m [\u001b[1mℹ️\u001b[0m] \u001b[1mBTCUSDT market event ::: \u001b[32mohlc\u001b[0m\u001b[1m\t:::  -> {o:30145.000000 | h:30151.000000 | l:30102.000000 | c:30102.000000 | v:4122.005612}\u001b[0m\n",
      "\u001b[96m2023-07-10 04:36:00.000\u001b[0m [\u001b[1mℹ️\u001b[0m] \u001b[1mBTCUSDT market event ::: \u001b[32mquote\u001b[0m\u001b[1m\t:::  -> [2023-07-10T04:36:00.000000000]\t30102.00000 (1000000000.0) | 30102.00000 (1000000000.0)\u001b[0m\n",
      "\u001b[96m2023-07-10 04:59:59.000\u001b[0m [\u001b[1mℹ️\u001b[0m] \u001b[1mBTCUSDT market event ::: \u001b[32mohlc\u001b[0m\u001b[1m\t:::  -> {o:30145.000000 | h:30151.000000 | l:30102.000000 | c:30108.500000 | v:4752.430000}\u001b[0m\n",
      "\u001b[96m2023-07-10 04:59:59.000\u001b[0m [\u001b[1mℹ️\u001b[0m] \u001b[1mBTCUSDT market event ::: \u001b[32mquote\u001b[0m\u001b[1m\t:::  -> [2023-07-10T04:59:59.000000000]\t30108.50000 (1000000000.0) | 30108.50000 (1000000000.0)\u001b[0m\n",
      "\u001b[96m2023-07-10 05:00:01.000\u001b[0m [\u001b[1mℹ️\u001b[0m] \u001b[1mBTCUSDT market event ::: \u001b[32mohlc\u001b[0m\u001b[1m\t:::  -> {o:30108.400000 | h:30108.400000 | l:30108.400000 | c:30108.400000 | v:0.000000}\u001b[0m\n",
      "\u001b[96m2023-07-10 05:00:01.000\u001b[0m [\u001b[1mℹ️\u001b[0m] \u001b[1mBTCUSDT market event ::: \u001b[32mquote\u001b[0m\u001b[1m\t:::  -> [2023-07-10T05:00:01.000000000]\t30108.40000 (1000000000.0) | 30108.40000 (1000000000.0)\u001b[0m\n",
      "\u001b[96m2023-07-10 05:24:00.000\u001b[0m [\u001b[1mℹ️\u001b[0m] \u001b[1mBTCUSDT market event ::: \u001b[32mohlc\u001b[0m\u001b[1m\t:::  -> {o:30108.400000 | h:30134.800000 | l:30108.400000 | c:30134.800000 | v:2036.203186}\u001b[0m\n",
      "\u001b[96m2023-07-10 05:24:00.000\u001b[0m [\u001b[1mℹ️\u001b[0m] \u001b[1mBTCUSDT market event ::: \u001b[32mquote\u001b[0m\u001b[1m\t:::  -> [2023-07-10T05:24:00.000000000]\t30134.80000 (1000000000.0) | 30134.80000 (1000000000.0)\u001b[0m\n",
      "\u001b[96m2023-07-10 05:36:00.000\u001b[0m [\u001b[1mℹ️\u001b[0m] \u001b[1mBTCUSDT market event ::: \u001b[32mohlc\u001b[0m\u001b[1m\t:::  -> {o:30108.400000 | h:30134.800000 | l:30067.000000 | c:30067.000000 | v:5152.211091}\u001b[0m\n",
      "\u001b[96m2023-07-10 05:36:00.000\u001b[0m [\u001b[1mℹ️\u001b[0m] \u001b[1mBTCUSDT market event ::: \u001b[32mquote\u001b[0m\u001b[1m\t:::  -> [2023-07-10T05:36:00.000000000]\t30067.00000 (1000000000.0) | 30067.00000 (1000000000.0)\u001b[0m\n",
      "\u001b[96m2023-07-10 05:59:59.000\u001b[0m [\u001b[1mℹ️\u001b[0m] \u001b[1mBTCUSDT market event ::: \u001b[32mohlc\u001b[0m\u001b[1m\t:::  -> {o:30108.400000 | h:30134.800000 | l:30067.000000 | c:30068.000000 | v:5229.340000}\u001b[0m\n",
      "\u001b[96m2023-07-10 05:59:59.000\u001b[0m [\u001b[1mℹ️\u001b[0m] \u001b[1mBTCUSDT market event ::: \u001b[32mquote\u001b[0m\u001b[1m\t:::  -> [2023-07-10T05:59:59.000000000]\t30068.00000 (1000000000.0) | 30068.00000 (1000000000.0)\u001b[0m\n",
      "\u001b[96m2023-07-10 06:00:01.000\u001b[0m [\u001b[1mℹ️\u001b[0m] \u001b[1mBTCUSDT market event ::: \u001b[32mohlc\u001b[0m\u001b[1m\t:::  -> {o:30068.100000 | h:30068.100000 | l:30068.100000 | c:30068.100000 | v:0.000000}\u001b[0m\n",
      "\u001b[96m2023-07-10 06:00:01.000\u001b[0m [\u001b[1mℹ️\u001b[0m] \u001b[1mBTCUSDT market event ::: \u001b[32mquote\u001b[0m\u001b[1m\t:::  -> [2023-07-10T06:00:01.000000000]\t30068.10000 (1000000000.0) | 30068.10000 (1000000000.0)\u001b[0m\n",
      "\u001b[96m2023-07-10 06:24:00.000\u001b[0m [\u001b[1mℹ️\u001b[0m] \u001b[1mBTCUSDT market event ::: \u001b[32mohlc\u001b[0m\u001b[1m\t:::  -> {o:30068.100000 | h:30068.100000 | l:30034.200000 | c:30034.200000 | v:3033.690308}\u001b[0m\n",
      "\u001b[96m2023-07-10 06:24:00.000\u001b[0m [\u001b[1mℹ️\u001b[0m] \u001b[1mBTCUSDT market event ::: \u001b[32mquote\u001b[0m\u001b[1m\t:::  -> [2023-07-10T06:24:00.000000000]\t30034.20000 (1000000000.0) | 30034.20000 (1000000000.0)\u001b[0m\n",
      "\u001b[96m2023-07-10 06:36:00.000\u001b[0m [\u001b[1mℹ️\u001b[0m] \u001b[1mBTCUSDT market event ::: \u001b[32mohlc\u001b[0m\u001b[1m\t:::  -> {o:30068.100000 | h:30111.200000 | l:30034.200000 | c:30111.200000 | v:3561.677706}\u001b[0m\n",
      "\u001b[96m2023-07-10 06:36:00.000\u001b[0m [\u001b[1mℹ️\u001b[0m] \u001b[1mBTCUSDT market event ::: \u001b[32mquote\u001b[0m\u001b[1m\t:::  -> [2023-07-10T06:36:00.000000000]\t30111.20000 (1000000000.0) | 30111.20000 (1000000000.0)\u001b[0m\n",
      "\u001b[96m2023-07-10 06:59:59.000\u001b[0m [\u001b[1mℹ️\u001b[0m] \u001b[1mBTCUSDT market event ::: \u001b[32mohlc\u001b[0m\u001b[1m\t:::  -> {o:30068.100000 | h:30111.200000 | l:30034.200000 | c:30074.000000 | v:6890.683000}\u001b[0m\n",
      "\u001b[96m2023-07-10 06:59:59.000\u001b[0m [\u001b[1mℹ️\u001b[0m] \u001b[1mBTCUSDT market event ::: \u001b[32mquote\u001b[0m\u001b[1m\t:::  -> [2023-07-10T06:59:59.000000000]\t30074.00000 (1000000000.0) | 30074.00000 (1000000000.0)\u001b[0m\n",
      "\u001b[96m2023-07-10 07:00:01.000\u001b[0m [\u001b[1mℹ️\u001b[0m] \u001b[1mBTCUSDT market event ::: \u001b[32mohlc\u001b[0m\u001b[1m\t:::  -> {o:30073.900000 | h:30073.900000 | l:30073.900000 | c:30073.900000 | v:0.000000}\u001b[0m\n",
      "\u001b[96m2023-07-10 07:00:01.000\u001b[0m [\u001b[1mℹ️\u001b[0m] \u001b[1mBTCUSDT market event ::: \u001b[32mquote\u001b[0m\u001b[1m\t:::  -> [2023-07-10T07:00:01.000000000]\t30073.90000 (1000000000.0) | 30073.90000 (1000000000.0)\u001b[0m\n",
      "\u001b[96m2023-07-10 07:24:00.000\u001b[0m [\u001b[1mℹ️\u001b[0m] \u001b[1mBTCUSDT market event ::: \u001b[32mohlc\u001b[0m\u001b[1m\t:::  -> {o:30073.900000 | h:30073.900000 | l:30066.100000 | c:30066.100000 | v:786.876826}\u001b[0m\n",
      "\u001b[96m2023-07-10 07:24:00.000\u001b[0m [\u001b[1mℹ️\u001b[0m] \u001b[1mBTCUSDT market event ::: \u001b[32mquote\u001b[0m\u001b[1m\t:::  -> [2023-07-10T07:24:00.000000000]\t30066.10000 (1000000000.0) | 30066.10000 (1000000000.0)\u001b[0m\n",
      "\u001b[96m2023-07-10 07:36:00.000\u001b[0m [\u001b[1mℹ️\u001b[0m] \u001b[1mBTCUSDT market event ::: \u001b[32mohlc\u001b[0m\u001b[1m\t:::  -> {o:30073.900000 | h:30125.700000 | l:30066.100000 | c:30125.700000 | v:3419.887742}\u001b[0m\n",
      "\u001b[96m2023-07-10 07:36:00.000\u001b[0m [\u001b[1mℹ️\u001b[0m] \u001b[1mBTCUSDT market event ::: \u001b[32mquote\u001b[0m\u001b[1m\t:::  -> [2023-07-10T07:36:00.000000000]\t30125.70000 (1000000000.0) | 30125.70000 (1000000000.0)\u001b[0m\n",
      "\u001b[96m2023-07-10 07:59:59.000\u001b[0m [\u001b[1mℹ️\u001b[0m] \u001b[1mBTCUSDT market event ::: \u001b[32mohlc\u001b[0m\u001b[1m\t:::  -> {o:30073.900000 | h:30125.700000 | l:30066.100000 | c:30100.000000 | v:6012.546000}\u001b[0m\n",
      "\u001b[96m2023-07-10 07:59:59.000\u001b[0m [\u001b[1mℹ️\u001b[0m] \u001b[1mBTCUSDT market event ::: \u001b[32mquote\u001b[0m\u001b[1m\t:::  -> [2023-07-10T07:59:59.000000000]\t30100.00000 (1000000000.0) | 30100.00000 (1000000000.0)\u001b[0m\n",
      "\u001b[96m2023-07-10 08:00:01.000\u001b[0m [\u001b[1mℹ️\u001b[0m] \u001b[1mBTCUSDT market event ::: \u001b[32mohlc\u001b[0m\u001b[1m\t:::  -> {o:30100.000000 | h:30100.000000 | l:30100.000000 | c:30100.000000 | v:0.000000}\u001b[0m\n",
      "\u001b[96m2023-07-10 08:00:01.000\u001b[0m [\u001b[1mℹ️\u001b[0m] \u001b[1mBTCUSDT market event ::: \u001b[32mquote\u001b[0m\u001b[1m\t:::  -> [2023-07-10T08:00:01.000000000]\t30100.00000 (1000000000.0) | 30100.00000 (1000000000.0)\u001b[0m\n",
      "\u001b[96m2023-07-10 08:24:00.000\u001b[0m [\u001b[1mℹ️\u001b[0m] \u001b[1mBTCUSDT market event ::: \u001b[32mohlc\u001b[0m\u001b[1m\t:::  -> {o:30100.000000 | h:30105.100000 | l:30100.000000 | c:30105.100000 | v:342.766986}\u001b[0m\n",
      "\u001b[96m2023-07-10 08:24:00.000\u001b[0m [\u001b[1mℹ️\u001b[0m] \u001b[1mBTCUSDT market event ::: \u001b[32mquote\u001b[0m\u001b[1m\t:::  -> [2023-07-10T08:24:00.000000000]\t30105.10000 (1000000000.0) | 30105.10000 (1000000000.0)\u001b[0m\n",
      "\u001b[96m2023-07-10 08:36:00.000\u001b[0m [\u001b[1mℹ️\u001b[0m] \u001b[1mBTCUSDT market event ::: \u001b[32mohlc\u001b[0m\u001b[1m\t:::  -> {o:30100.000000 | h:30105.100000 | l:29966.600000 | c:29966.600000 | v:1344.184260}\u001b[0m\n",
      "\u001b[96m2023-07-10 08:36:00.000\u001b[0m [\u001b[1mℹ️\u001b[0m] \u001b[1mBTCUSDT market event ::: \u001b[32mquote\u001b[0m\u001b[1m\t:::  -> [2023-07-10T08:36:00.000000000]\t29966.60000 (1000000000.0) | 29966.60000 (1000000000.0)\u001b[0m\n",
      "\u001b[96m2023-07-10 08:59:59.000\u001b[0m [\u001b[1mℹ️\u001b[0m] \u001b[1mBTCUSDT market event ::: \u001b[32mohlc\u001b[0m\u001b[1m\t:::  -> {o:30100.000000 | h:30105.100000 | l:29966.600000 | c:30085.100000 | v:9308.476000}\u001b[0m\n",
      "\u001b[96m2023-07-10 08:59:59.000\u001b[0m [\u001b[1mℹ️\u001b[0m] \u001b[1mBTCUSDT market event ::: \u001b[32mquote\u001b[0m\u001b[1m\t:::  -> [2023-07-10T08:59:59.000000000]\t30085.10000 (1000000000.0) | 30085.10000 (1000000000.0)\u001b[0m\n",
      "\u001b[96m2023-07-10 09:00:01.000\u001b[0m [\u001b[1mℹ️\u001b[0m] \u001b[1mBTCUSDT market event ::: \u001b[32mohlc\u001b[0m\u001b[1m\t:::  -> {o:30085.000000 | h:30085.000000 | l:30085.000000 | c:30085.000000 | v:0.000000}\u001b[0m\n",
      "\u001b[96m2023-07-10 09:00:01.000\u001b[0m [\u001b[1mℹ️\u001b[0m] \u001b[1mBTCUSDT market event ::: \u001b[32mquote\u001b[0m\u001b[1m\t:::  -> [2023-07-10T09:00:01.000000000]\t30085.00000 (1000000000.0) | 30085.00000 (1000000000.0)\u001b[0m\n",
      "\u001b[96m2023-07-10 09:24:00.000\u001b[0m [\u001b[1mℹ️\u001b[0m] \u001b[1mBTCUSDT market event ::: \u001b[32mohlc\u001b[0m\u001b[1m\t:::  -> {o:30085.000000 | h:30085.000000 | l:30020.100000 | c:30020.100000 | v:5380.895883}\u001b[0m\n",
      "\u001b[96m2023-07-10 09:24:00.000\u001b[0m [\u001b[1mℹ️\u001b[0m] \u001b[1mBTCUSDT market event ::: \u001b[32mquote\u001b[0m\u001b[1m\t:::  -> [2023-07-10T09:24:00.000000000]\t30020.10000 (1000000000.0) | 30020.10000 (1000000000.0)\u001b[0m\n",
      "\u001b[96m2023-07-10 09:36:00.000\u001b[0m [\u001b[1mℹ️\u001b[0m] \u001b[1mBTCUSDT market event ::: \u001b[32mohlc\u001b[0m\u001b[1m\t:::  -> {o:30085.000000 | h:30194.300000 | l:30020.100000 | c:30194.300000 | v:8854.848696}\u001b[0m\n",
      "\u001b[96m2023-07-10 09:36:00.000\u001b[0m [\u001b[1mℹ️\u001b[0m] \u001b[1mBTCUSDT market event ::: \u001b[32mquote\u001b[0m\u001b[1m\t:::  -> [2023-07-10T09:36:00.000000000]\t30194.30000 (1000000000.0) | 30194.30000 (1000000000.0)\u001b[0m\n",
      "\u001b[96m2023-07-10 09:59:59.000\u001b[0m [\u001b[1mℹ️\u001b[0m] \u001b[1mBTCUSDT market event ::: \u001b[32mohlc\u001b[0m\u001b[1m\t:::  -> {o:30085.000000 | h:30194.300000 | l:30020.100000 | c:30126.900000 | v:14443.021000}\u001b[0m\n",
      "\u001b[96m2023-07-10 09:59:59.000\u001b[0m [\u001b[1mℹ️\u001b[0m] \u001b[1mBTCUSDT market event ::: \u001b[32mquote\u001b[0m\u001b[1m\t:::  -> [2023-07-10T09:59:59.000000000]\t30126.90000 (1000000000.0) | 30126.90000 (1000000000.0)\u001b[0m\n",
      "\u001b[96m2023-07-10 10:00:01.000\u001b[0m [\u001b[1mℹ️\u001b[0m] \u001b[1mBTCUSDT market event ::: \u001b[32mohlc\u001b[0m\u001b[1m\t:::  -> {o:30127.200000 | h:30127.200000 | l:30127.200000 | c:30127.200000 | v:0.000000}\u001b[0m\n",
      "\u001b[96m2023-07-10 10:00:01.000\u001b[0m [\u001b[1mℹ️\u001b[0m] \u001b[1mBTCUSDT market event ::: \u001b[32mquote\u001b[0m\u001b[1m\t:::  -> [2023-07-10T10:00:01.000000000]\t30127.20000 (1000000000.0) | 30127.20000 (1000000000.0)\u001b[0m\n",
      "\u001b[96m2023-07-10 10:24:00.000\u001b[0m [\u001b[1mℹ️\u001b[0m] \u001b[1mBTCUSDT market event ::: \u001b[32mohlc\u001b[0m\u001b[1m\t:::  -> {o:30127.200000 | h:30127.200000 | l:30127.200000 | c:30127.200000 | v:0.000000}\u001b[0m\n",
      "\u001b[96m2023-07-10 10:24:00.000\u001b[0m [\u001b[1mℹ️\u001b[0m] \u001b[1mBTCUSDT market event ::: \u001b[32mquote\u001b[0m\u001b[1m\t:::  -> [2023-07-10T10:24:00.000000000]\t30127.20000 (1000000000.0) | 30127.20000 (1000000000.0)\u001b[0m\n",
      "\u001b[96m2023-07-10 10:36:00.000\u001b[0m [\u001b[1mℹ️\u001b[0m] \u001b[1mBTCUSDT market event ::: \u001b[32mohlc\u001b[0m\u001b[1m\t:::  -> {o:30127.200000 | h:30220.800000 | l:30127.200000 | c:30220.800000 | v:3473.410904}\u001b[0m\n",
      "\u001b[96m2023-07-10 10:36:00.000\u001b[0m [\u001b[1mℹ️\u001b[0m] \u001b[1mBTCUSDT market event ::: \u001b[32mquote\u001b[0m\u001b[1m\t:::  -> [2023-07-10T10:36:00.000000000]\t30220.80000 (1000000000.0) | 30220.80000 (1000000000.0)\u001b[0m\n",
      "\u001b[96m2023-07-10 10:59:59.000\u001b[0m [\u001b[1mℹ️\u001b[0m] \u001b[1mBTCUSDT market event ::: \u001b[32mohlc\u001b[0m\u001b[1m\t:::  -> {o:30127.200000 | h:30220.800000 | l:30127.200000 | c:30173.100000 | v:7083.034000}\u001b[0m\n",
      "\u001b[96m2023-07-10 10:59:59.000\u001b[0m [\u001b[1mℹ️\u001b[0m] \u001b[1mBTCUSDT market event ::: \u001b[32mquote\u001b[0m\u001b[1m\t:::  -> [2023-07-10T10:59:59.000000000]\t30173.10000 (1000000000.0) | 30173.10000 (1000000000.0)\u001b[0m\n",
      "\u001b[96m2023-07-10 11:00:01.000\u001b[0m [\u001b[1mℹ️\u001b[0m] \u001b[1mBTCUSDT market event ::: \u001b[32mohlc\u001b[0m\u001b[1m\t:::  -> {o:30173.000000 | h:30173.000000 | l:30173.000000 | c:30173.000000 | v:0.000000}\u001b[0m\n",
      "\u001b[96m2023-07-10 11:00:01.000\u001b[0m [\u001b[1mℹ️\u001b[0m] \u001b[1mBTCUSDT market event ::: \u001b[32mquote\u001b[0m\u001b[1m\t:::  -> [2023-07-10T11:00:01.000000000]\t30173.00000 (1000000000.0) | 30173.00000 (1000000000.0)\u001b[0m\n",
      "\u001b[96m2023-07-10 11:24:00.000\u001b[0m [\u001b[1mℹ️\u001b[0m] \u001b[1mBTCUSDT market event ::: \u001b[32mohlc\u001b[0m\u001b[1m\t:::  -> {o:30173.000000 | h:30173.000000 | l:30161.300000 | c:30161.300000 | v:1129.291659}\u001b[0m\n",
      "\u001b[96m2023-07-10 11:24:00.000\u001b[0m [\u001b[1mℹ️\u001b[0m] \u001b[1mBTCUSDT market event ::: \u001b[32mquote\u001b[0m\u001b[1m\t:::  -> [2023-07-10T11:24:00.000000000]\t30161.30000 (1000000000.0) | 30161.30000 (1000000000.0)\u001b[0m\n",
      "\u001b[96m2023-07-10 11:36:00.000\u001b[0m [\u001b[1mℹ️\u001b[0m] \u001b[1mBTCUSDT market event ::: \u001b[32mohlc\u001b[0m\u001b[1m\t:::  -> {o:30173.000000 | h:30233.100000 | l:30161.300000 | c:30233.100000 | v:5810.543407}\u001b[0m\n",
      "\u001b[96m2023-07-10 11:36:00.000\u001b[0m [\u001b[1mℹ️\u001b[0m] \u001b[1mBTCUSDT market event ::: \u001b[32mquote\u001b[0m\u001b[1m\t:::  -> [2023-07-10T11:36:00.000000000]\t30233.10000 (1000000000.0) | 30233.10000 (1000000000.0)\u001b[0m\n",
      "\u001b[96m2023-07-10 11:59:59.000\u001b[0m [\u001b[1mℹ️\u001b[0m] \u001b[1mBTCUSDT market event ::: \u001b[32mohlc\u001b[0m\u001b[1m\t:::  -> {o:30173.000000 | h:30233.100000 | l:30161.300000 | c:30221.500000 | v:6930.183000}\u001b[0m\n",
      "\u001b[96m2023-07-10 11:59:59.000\u001b[0m [\u001b[1mℹ️\u001b[0m] \u001b[1mBTCUSDT market event ::: \u001b[32mquote\u001b[0m\u001b[1m\t:::  -> [2023-07-10T11:59:59.000000000]\t30221.50000 (1000000000.0) | 30221.50000 (1000000000.0)\u001b[0m\n",
      "\u001b[96m2023-07-10 12:00:01.000\u001b[0m [\u001b[1mℹ️\u001b[0m] \u001b[1mBTCUSDT market event ::: \u001b[32mohlc\u001b[0m\u001b[1m\t:::  -> {o:30221.600000 | h:30221.600000 | l:30221.600000 | c:30221.600000 | v:0.000000}\u001b[0m\n",
      "\u001b[96m2023-07-10 12:00:01.000\u001b[0m [\u001b[1mℹ️\u001b[0m] \u001b[1mBTCUSDT market event ::: \u001b[32mquote\u001b[0m\u001b[1m\t:::  -> [2023-07-10T12:00:01.000000000]\t30221.60000 (1000000000.0) | 30221.60000 (1000000000.0)\u001b[0m\n",
      "\u001b[96m2023-07-10 12:24:00.000\u001b[0m [\u001b[1mℹ️\u001b[0m] \u001b[1mBTCUSDT market event ::: \u001b[32mohlc\u001b[0m\u001b[1m\t:::  -> {o:30221.600000 | h:30275.400000 | l:30221.600000 | c:30275.400000 | v:5102.648332}\u001b[0m\n",
      "\u001b[96m2023-07-10 12:24:00.000\u001b[0m [\u001b[1mℹ️\u001b[0m] \u001b[1mBTCUSDT market event ::: \u001b[32mquote\u001b[0m\u001b[1m\t:::  -> [2023-07-10T12:24:00.000000000]\t30275.40000 (1000000000.0) | 30275.40000 (1000000000.0)\u001b[0m\n",
      "\u001b[96m2023-07-10 12:36:00.000\u001b[0m [\u001b[1mℹ️\u001b[0m] \u001b[1mBTCUSDT market event ::: \u001b[32mohlc\u001b[0m\u001b[1m\t:::  -> {o:30221.600000 | h:30275.400000 | l:30131.000000 | c:30131.000000 | v:12178.067767}\u001b[0m\n",
      "\u001b[96m2023-07-10 12:36:00.000\u001b[0m [\u001b[1mℹ️\u001b[0m] \u001b[1mBTCUSDT market event ::: \u001b[32mquote\u001b[0m\u001b[1m\t:::  -> [2023-07-10T12:36:00.000000000]\t30131.00000 (1000000000.0) | 30131.00000 (1000000000.0)\u001b[0m\n",
      "\u001b[96m2023-07-10 12:59:59.000\u001b[0m [\u001b[1mℹ️\u001b[0m] \u001b[1mBTCUSDT market event ::: \u001b[32mohlc\u001b[0m\u001b[1m\t:::  -> {o:30221.600000 | h:30275.400000 | l:30131.000000 | c:30147.000000 | v:13695.584000}\u001b[0m\n",
      "\u001b[96m2023-07-10 12:59:59.000\u001b[0m [\u001b[1mℹ️\u001b[0m] \u001b[1mBTCUSDT market event ::: \u001b[32mquote\u001b[0m\u001b[1m\t:::  -> [2023-07-10T12:59:59.000000000]\t30147.00000 (1000000000.0) | 30147.00000 (1000000000.0)\u001b[0m\n",
      "\u001b[96m2023-07-10 13:00:01.000\u001b[0m [\u001b[1mℹ️\u001b[0m] \u001b[1mBTCUSDT market event ::: \u001b[32mohlc\u001b[0m\u001b[1m\t:::  -> {o:30147.100000 | h:30147.100000 | l:30147.100000 | c:30147.100000 | v:0.000000}\u001b[0m\n",
      "\u001b[96m2023-07-10 13:00:01.000\u001b[0m [\u001b[1mℹ️\u001b[0m] \u001b[1mBTCUSDT market event ::: \u001b[32mquote\u001b[0m\u001b[1m\t:::  -> [2023-07-10T13:00:01.000000000]\t30147.10000 (1000000000.0) | 30147.10000 (1000000000.0)\u001b[0m\n",
      "\u001b[96m2023-07-10 13:24:00.000\u001b[0m [\u001b[1mℹ️\u001b[0m] \u001b[1mBTCUSDT market event ::: \u001b[32mohlc\u001b[0m\u001b[1m\t:::  -> {o:30147.100000 | h:30147.100000 | l:30142.000000 | c:30142.000000 | v:503.192496}\u001b[0m\n",
      "\u001b[96m2023-07-10 13:24:00.000\u001b[0m [\u001b[1mℹ️\u001b[0m] \u001b[1mBTCUSDT market event ::: \u001b[32mquote\u001b[0m\u001b[1m\t:::  -> [2023-07-10T13:24:00.000000000]\t30142.00000 (1000000000.0) | 30142.00000 (1000000000.0)\u001b[0m\n",
      "\u001b[96m2023-07-10 13:36:00.000\u001b[0m [\u001b[1mℹ️\u001b[0m] \u001b[1mBTCUSDT market event ::: \u001b[32mohlc\u001b[0m\u001b[1m\t:::  -> {o:30147.100000 | h:30323.700000 | l:30142.000000 | c:30323.700000 | v:5229.255355}\u001b[0m\n",
      "\u001b[96m2023-07-10 13:36:00.000\u001b[0m [\u001b[1mℹ️\u001b[0m] \u001b[1mBTCUSDT market event ::: \u001b[32mquote\u001b[0m\u001b[1m\t:::  -> [2023-07-10T13:36:00.000000000]\t30323.70000 (1000000000.0) | 30323.70000 (1000000000.0)\u001b[0m\n",
      "\u001b[96m2023-07-10 13:59:59.000\u001b[0m [\u001b[1mℹ️\u001b[0m] \u001b[1mBTCUSDT market event ::: \u001b[32mohlc\u001b[0m\u001b[1m\t:::  -> {o:30147.100000 | h:30323.700000 | l:30142.000000 | c:30195.000000 | v:17927.466000}\u001b[0m\n",
      "\u001b[96m2023-07-10 13:59:59.000\u001b[0m [\u001b[1mℹ️\u001b[0m] \u001b[1mBTCUSDT market event ::: \u001b[32mquote\u001b[0m\u001b[1m\t:::  -> [2023-07-10T13:59:59.000000000]\t30195.00000 (1000000000.0) | 30195.00000 (1000000000.0)\u001b[0m\n",
      "\u001b[96m2023-07-10 14:00:01.000\u001b[0m [\u001b[1mℹ️\u001b[0m] \u001b[1mBTCUSDT market event ::: \u001b[32mohlc\u001b[0m\u001b[1m\t:::  -> {o:30195.000000 | h:30195.000000 | l:30195.000000 | c:30195.000000 | v:0.000000}\u001b[0m\n",
      "\u001b[96m2023-07-10 14:00:01.000\u001b[0m [\u001b[1mℹ️\u001b[0m] \u001b[1mBTCUSDT market event ::: \u001b[32mquote\u001b[0m\u001b[1m\t:::  -> [2023-07-10T14:00:01.000000000]\t30195.00000 (1000000000.0) | 30195.00000 (1000000000.0)\u001b[0m\n",
      "\u001b[96m2023-07-10 14:24:00.000\u001b[0m [\u001b[1mℹ️\u001b[0m] \u001b[1mBTCUSDT market event ::: \u001b[32mohlc\u001b[0m\u001b[1m\t:::  -> {o:30195.000000 | h:30195.000000 | l:30180.000000 | c:30180.000000 | v:1665.113189}\u001b[0m\n",
      "\u001b[96m2023-07-10 14:24:00.000\u001b[0m [\u001b[1mℹ️\u001b[0m] \u001b[1mBTCUSDT market event ::: \u001b[32mquote\u001b[0m\u001b[1m\t:::  -> [2023-07-10T14:24:00.000000000]\t30180.00000 (1000000000.0) | 30180.00000 (1000000000.0)\u001b[0m\n",
      "\u001b[96m2023-07-10 14:36:00.000\u001b[0m [\u001b[1mℹ️\u001b[0m] \u001b[1mBTCUSDT market event ::: \u001b[32mohlc\u001b[0m\u001b[1m\t:::  -> {o:30195.000000 | h:30359.700000 | l:30180.000000 | c:30359.700000 | v:12965.681362}\u001b[0m\n",
      "\u001b[96m2023-07-10 14:36:00.000\u001b[0m [\u001b[1mℹ️\u001b[0m] \u001b[1mBTCUSDT market event ::: \u001b[32mquote\u001b[0m\u001b[1m\t:::  -> [2023-07-10T14:36:00.000000000]\t30359.70000 (1000000000.0) | 30359.70000 (1000000000.0)\u001b[0m\n",
      "\u001b[96m2023-07-10 14:59:59.000\u001b[0m [\u001b[1mℹ️\u001b[0m] \u001b[1mBTCUSDT market event ::: \u001b[32mohlc\u001b[0m\u001b[1m\t:::  -> {o:30195.000000 | h:30359.700000 | l:30180.000000 | c:30296.800000 | v:19948.056000}\u001b[0m\n",
      "\u001b[96m2023-07-10 14:59:59.000\u001b[0m [\u001b[1mℹ️\u001b[0m] \u001b[1mBTCUSDT market event ::: \u001b[32mquote\u001b[0m\u001b[1m\t:::  -> [2023-07-10T14:59:59.000000000]\t30296.80000 (1000000000.0) | 30296.80000 (1000000000.0)\u001b[0m\n",
      "\u001b[96m2023-07-10 15:00:01.000\u001b[0m [\u001b[1mℹ️\u001b[0m] \u001b[1mBTCUSDT market event ::: \u001b[32mohlc\u001b[0m\u001b[1m\t:::  -> {o:30296.800000 | h:30296.800000 | l:30296.800000 | c:30296.800000 | v:0.000000}\u001b[0m\n",
      "\u001b[96m2023-07-10 15:00:01.000\u001b[0m [\u001b[1mℹ️\u001b[0m] \u001b[1mBTCUSDT market event ::: \u001b[32mquote\u001b[0m\u001b[1m\t:::  -> [2023-07-10T15:00:01.000000000]\t30296.80000 (1000000000.0) | 30296.80000 (1000000000.0)\u001b[0m\n",
      "\u001b[96m2023-07-10 15:24:00.000\u001b[0m [\u001b[1mℹ️\u001b[0m] \u001b[1mBTCUSDT market event ::: \u001b[32mohlc\u001b[0m\u001b[1m\t:::  -> {o:30296.800000 | h:30296.800000 | l:30225.200000 | c:30225.200000 | v:8738.412124}\u001b[0m\n",
      "\u001b[96m2023-07-10 15:24:00.000\u001b[0m [\u001b[1mℹ️\u001b[0m] \u001b[1mBTCUSDT market event ::: \u001b[32mquote\u001b[0m\u001b[1m\t:::  -> [2023-07-10T15:24:00.000000000]\t30225.20000 (1000000000.0) | 30225.20000 (1000000000.0)\u001b[0m\n",
      "\u001b[96m2023-07-10 15:36:00.000\u001b[0m [\u001b[1mℹ️\u001b[0m] \u001b[1mBTCUSDT market event ::: \u001b[32mohlc\u001b[0m\u001b[1m\t:::  -> {o:30296.800000 | h:30312.200000 | l:30225.200000 | c:30312.200000 | v:8836.048014}\u001b[0m\n",
      "\u001b[96m2023-07-10 15:36:00.000\u001b[0m [\u001b[1mℹ️\u001b[0m] \u001b[1mBTCUSDT market event ::: \u001b[32mquote\u001b[0m\u001b[1m\t:::  -> [2023-07-10T15:36:00.000000000]\t30312.20000 (1000000000.0) | 30312.20000 (1000000000.0)\u001b[0m\n",
      "\u001b[96m2023-07-10 15:59:59.000\u001b[0m [\u001b[1mℹ️\u001b[0m] \u001b[1mBTCUSDT market event ::: \u001b[32mohlc\u001b[0m\u001b[1m\t:::  -> {o:30296.800000 | h:30312.200000 | l:30225.200000 | c:30297.600000 | v:10617.903000}\u001b[0m\n",
      "\u001b[96m2023-07-10 15:59:59.000\u001b[0m [\u001b[1mℹ️\u001b[0m] \u001b[1mBTCUSDT market event ::: \u001b[32mquote\u001b[0m\u001b[1m\t:::  -> [2023-07-10T15:59:59.000000000]\t30297.60000 (1000000000.0) | 30297.60000 (1000000000.0)\u001b[0m\n",
      "\u001b[96m2023-07-10 16:00:01.000\u001b[0m [\u001b[1mℹ️\u001b[0m] \u001b[1mBTCUSDT market event ::: \u001b[32mohlc\u001b[0m\u001b[1m\t:::  -> {o:30297.500000 | h:30297.500000 | l:30297.500000 | c:30297.500000 | v:0.000000}\u001b[0m\n",
      "\u001b[96m2023-07-10 16:00:01.000\u001b[0m [\u001b[1mℹ️\u001b[0m] \u001b[1mBTCUSDT market event ::: \u001b[32mquote\u001b[0m\u001b[1m\t:::  -> [2023-07-10T16:00:01.000000000]\t30297.50000 (1000000000.0) | 30297.50000 (1000000000.0)\u001b[0m\n",
      "\u001b[96m2023-07-10 16:24:00.000\u001b[0m [\u001b[1mℹ️\u001b[0m] \u001b[1mBTCUSDT market event ::: \u001b[32mohlc\u001b[0m\u001b[1m\t:::  -> {o:30297.500000 | h:30297.500000 | l:30223.500000 | c:30223.500000 | v:6099.361287}\u001b[0m\n",
      "\u001b[96m2023-07-10 16:24:00.000\u001b[0m [\u001b[1mℹ️\u001b[0m] \u001b[1mBTCUSDT market event ::: \u001b[32mquote\u001b[0m\u001b[1m\t:::  -> [2023-07-10T16:24:00.000000000]\t30223.50000 (1000000000.0) | 30223.50000 (1000000000.0)\u001b[0m\n",
      "\u001b[96m2023-07-10 16:36:00.000\u001b[0m [\u001b[1mℹ️\u001b[0m] \u001b[1mBTCUSDT market event ::: \u001b[32mohlc\u001b[0m\u001b[1m\t:::  -> {o:30297.500000 | h:30377.400000 | l:30223.500000 | c:30377.400000 | v:9272.677632}\u001b[0m\n",
      "\u001b[96m2023-07-10 16:36:00.000\u001b[0m [\u001b[1mℹ️\u001b[0m] \u001b[1mBTCUSDT market event ::: \u001b[32mquote\u001b[0m\u001b[1m\t:::  -> [2023-07-10T16:36:00.000000000]\t30377.40000 (1000000000.0) | 30377.40000 (1000000000.0)\u001b[0m\n",
      "\u001b[96m2023-07-10 16:59:59.000\u001b[0m [\u001b[1mℹ️\u001b[0m] \u001b[1mBTCUSDT market event ::: \u001b[32mohlc\u001b[0m\u001b[1m\t:::  -> {o:30297.500000 | h:30377.400000 | l:30223.500000 | c:30336.000000 | v:12685.023000}\u001b[0m\n",
      "\u001b[96m2023-07-10 16:59:59.000\u001b[0m [\u001b[1mℹ️\u001b[0m] \u001b[1mBTCUSDT market event ::: \u001b[32mquote\u001b[0m\u001b[1m\t:::  -> [2023-07-10T16:59:59.000000000]\t30336.00000 (1000000000.0) | 30336.00000 (1000000000.0)\u001b[0m\n",
      "\u001b[96m2023-07-10 17:00:01.000\u001b[0m [\u001b[1mℹ️\u001b[0m] \u001b[1mBTCUSDT market event ::: \u001b[32mohlc\u001b[0m\u001b[1m\t:::  -> {o:30336.000000 | h:30336.000000 | l:30336.000000 | c:30336.000000 | v:0.000000}\u001b[0m\n",
      "\u001b[96m2023-07-10 17:00:01.000\u001b[0m [\u001b[1mℹ️\u001b[0m] \u001b[1mBTCUSDT market event ::: \u001b[32mquote\u001b[0m\u001b[1m\t:::  -> [2023-07-10T17:00:01.000000000]\t30336.00000 (1000000000.0) | 30336.00000 (1000000000.0)\u001b[0m\n",
      "\u001b[96m2023-07-10 17:24:00.000\u001b[0m [\u001b[1mℹ️\u001b[0m] \u001b[1mBTCUSDT market event ::: \u001b[32mohlc\u001b[0m\u001b[1m\t:::  -> {o:30336.000000 | h:30354.700000 | l:30336.000000 | c:30354.700000 | v:1376.187672}\u001b[0m\n",
      "\u001b[96m2023-07-10 17:24:00.000\u001b[0m [\u001b[1mℹ️\u001b[0m] \u001b[1mBTCUSDT market event ::: \u001b[32mquote\u001b[0m\u001b[1m\t:::  -> [2023-07-10T17:24:00.000000000]\t30354.70000 (1000000000.0) | 30354.70000 (1000000000.0)\u001b[0m\n",
      "\u001b[96m2023-07-10 17:36:00.000\u001b[0m [\u001b[1mℹ️\u001b[0m] \u001b[1mBTCUSDT market event ::: \u001b[32mohlc\u001b[0m\u001b[1m\t:::  -> {o:30336.000000 | h:30354.700000 | l:30240.800000 | c:30240.800000 | v:6645.441003}\u001b[0m\n",
      "\u001b[96m2023-07-10 17:36:00.000\u001b[0m [\u001b[1mℹ️\u001b[0m] \u001b[1mBTCUSDT market event ::: \u001b[32mquote\u001b[0m\u001b[1m\t:::  -> [2023-07-10T17:36:00.000000000]\t30240.80000 (1000000000.0) | 30240.80000 (1000000000.0)\u001b[0m\n",
      "\u001b[96m2023-07-10 17:59:59.000\u001b[0m [\u001b[1mℹ️\u001b[0m] \u001b[1mBTCUSDT market event ::: \u001b[32mohlc\u001b[0m\u001b[1m\t:::  -> {o:30336.000000 | h:30354.700000 | l:30240.800000 | c:30264.400000 | v:8382.234000}\u001b[0m\n",
      "\u001b[96m2023-07-10 17:59:59.000\u001b[0m [\u001b[1mℹ️\u001b[0m] \u001b[1mBTCUSDT market event ::: \u001b[32mquote\u001b[0m\u001b[1m\t:::  -> [2023-07-10T17:59:59.000000000]\t30264.40000 (1000000000.0) | 30264.40000 (1000000000.0)\u001b[0m\n",
      "\u001b[96m2023-07-10 18:00:01.000\u001b[0m [\u001b[1mℹ️\u001b[0m] \u001b[1mBTCUSDT market event ::: \u001b[32mohlc\u001b[0m\u001b[1m\t:::  -> {o:30264.400000 | h:30264.400000 | l:30264.400000 | c:30264.400000 | v:0.000000}\u001b[0m\n",
      "\u001b[96m2023-07-10 18:00:01.000\u001b[0m [\u001b[1mℹ️\u001b[0m] \u001b[1mBTCUSDT market event ::: \u001b[32mquote\u001b[0m\u001b[1m\t:::  -> [2023-07-10T18:00:01.000000000]\t30264.40000 (1000000000.0) | 30264.40000 (1000000000.0)\u001b[0m\n",
      "\u001b[96m2023-07-10 18:24:00.000\u001b[0m [\u001b[1mℹ️\u001b[0m] \u001b[1mBTCUSDT market event ::: \u001b[32mohlc\u001b[0m\u001b[1m\t:::  -> {o:30264.400000 | h:30264.400000 | l:30250.600000 | c:30250.600000 | v:1240.500255}\u001b[0m\n",
      "\u001b[96m2023-07-10 18:24:00.000\u001b[0m [\u001b[1mℹ️\u001b[0m] \u001b[1mBTCUSDT market event ::: \u001b[32mquote\u001b[0m\u001b[1m\t:::  -> [2023-07-10T18:24:00.000000000]\t30250.60000 (1000000000.0) | 30250.60000 (1000000000.0)\u001b[0m\n",
      "\u001b[96m2023-07-10 18:36:00.000\u001b[0m [\u001b[1mℹ️\u001b[0m] \u001b[1mBTCUSDT market event ::: \u001b[32mohlc\u001b[0m\u001b[1m\t:::  -> {o:30264.400000 | h:30556.000000 | l:30250.600000 | c:30556.000000 | v:24153.798451}\u001b[0m\n",
      "\u001b[96m2023-07-10 18:36:00.000\u001b[0m [\u001b[1mℹ️\u001b[0m] \u001b[1mBTCUSDT market event ::: \u001b[32mquote\u001b[0m\u001b[1m\t:::  -> [2023-07-10T18:36:00.000000000]\t30556.00000 (1000000000.0) | 30556.00000 (1000000000.0)\u001b[0m\n",
      "\u001b[96m2023-07-10 18:59:59.000\u001b[0m [\u001b[1mℹ️\u001b[0m] \u001b[1mBTCUSDT market event ::: \u001b[32mohlc\u001b[0m\u001b[1m\t:::  -> {o:30264.400000 | h:30556.000000 | l:30250.600000 | c:30519.300000 | v:27452.810000}\u001b[0m\n",
      "\u001b[96m2023-07-10 18:59:59.000\u001b[0m [\u001b[1mℹ️\u001b[0m] \u001b[1mBTCUSDT market event ::: \u001b[32mquote\u001b[0m\u001b[1m\t:::  -> [2023-07-10T18:59:59.000000000]\t30519.30000 (1000000000.0) | 30519.30000 (1000000000.0)\u001b[0m\n",
      "\u001b[96m2023-07-10 19:00:01.000\u001b[0m [\u001b[1mℹ️\u001b[0m] \u001b[1mBTCUSDT market event ::: \u001b[32mohlc\u001b[0m\u001b[1m\t:::  -> {o:30519.300000 | h:30519.300000 | l:30519.300000 | c:30519.300000 | v:0.000000}\u001b[0m\n",
      "\u001b[96m2023-07-10 19:00:01.000\u001b[0m [\u001b[1mℹ️\u001b[0m] \u001b[1mBTCUSDT market event ::: \u001b[32mquote\u001b[0m\u001b[1m\t:::  -> [2023-07-10T19:00:01.000000000]\t30519.30000 (1000000000.0) | 30519.30000 (1000000000.0)\u001b[0m\n",
      "\u001b[96m2023-07-10 19:24:00.000\u001b[0m [\u001b[1mℹ️\u001b[0m] \u001b[1mBTCUSDT market event ::: \u001b[32mohlc\u001b[0m\u001b[1m\t:::  -> {o:30519.300000 | h:30519.300000 | l:30478.800000 | c:30478.800000 | v:4998.823667}\u001b[0m\n",
      "\u001b[96m2023-07-10 19:24:00.000\u001b[0m [\u001b[1mℹ️\u001b[0m] \u001b[1mBTCUSDT market event ::: \u001b[32mquote\u001b[0m\u001b[1m\t:::  -> [2023-07-10T19:24:00.000000000]\t30478.80000 (1000000000.0) | 30478.80000 (1000000000.0)\u001b[0m\n",
      "\u001b[96m2023-07-10 19:36:00.000\u001b[0m [\u001b[1mℹ️\u001b[0m] \u001b[1mBTCUSDT market event ::: \u001b[32mohlc\u001b[0m\u001b[1m\t:::  -> {o:30519.300000 | h:30830.000000 | l:30478.800000 | c:30830.000000 | v:42668.971403}\u001b[0m\n",
      "\u001b[96m2023-07-10 19:36:00.000\u001b[0m [\u001b[1mℹ️\u001b[0m] \u001b[1mBTCUSDT market event ::: \u001b[32mquote\u001b[0m\u001b[1m\t:::  -> [2023-07-10T19:36:00.000000000]\t30830.00000 (1000000000.0) | 30830.00000 (1000000000.0)\u001b[0m\n",
      "\u001b[96m2023-07-10 19:59:59.000\u001b[0m [\u001b[1mℹ️\u001b[0m] \u001b[1mBTCUSDT market event ::: \u001b[32mohlc\u001b[0m\u001b[1m\t:::  -> {o:30519.300000 | h:30830.000000 | l:30478.800000 | c:30824.500000 | v:43347.824000}\u001b[0m\n",
      "\u001b[96m2023-07-10 19:59:59.000\u001b[0m [\u001b[1mℹ️\u001b[0m] \u001b[1mBTCUSDT market event ::: \u001b[32mquote\u001b[0m\u001b[1m\t:::  -> [2023-07-10T19:59:59.000000000]\t30824.50000 (1000000000.0) | 30824.50000 (1000000000.0)\u001b[0m\n",
      "\u001b[96m2023-07-10 20:00:01.000\u001b[0m [\u001b[1mℹ️\u001b[0m] \u001b[1mBTCUSDT market event ::: \u001b[32mohlc\u001b[0m\u001b[1m\t:::  -> {o:30824.500000 | h:30824.500000 | l:30824.500000 | c:30824.500000 | v:0.000000}\u001b[0m\n",
      "\u001b[96m2023-07-10 20:00:01.000\u001b[0m [\u001b[1mℹ️\u001b[0m] \u001b[1mBTCUSDT market event ::: \u001b[32mquote\u001b[0m\u001b[1m\t:::  -> [2023-07-10T20:00:01.000000000]\t30824.50000 (1000000000.0) | 30824.50000 (1000000000.0)\u001b[0m\n",
      "\u001b[96m2023-07-10 20:24:00.000\u001b[0m [\u001b[1mℹ️\u001b[0m] \u001b[1mBTCUSDT market event ::: \u001b[32mohlc\u001b[0m\u001b[1m\t:::  -> {o:30824.500000 | h:31040.000000 | l:30824.500000 | c:31040.000000 | v:49527.479993}\u001b[0m\n",
      "\u001b[96m2023-07-10 20:24:00.000\u001b[0m [\u001b[1mℹ️\u001b[0m] \u001b[1mBTCUSDT market event ::: \u001b[32mquote\u001b[0m\u001b[1m\t:::  -> [2023-07-10T20:24:00.000000000]\t31040.00000 (1000000000.0) | 31040.00000 (1000000000.0)\u001b[0m\n",
      "\u001b[96m2023-07-10 20:36:00.000\u001b[0m [\u001b[1mℹ️\u001b[0m] \u001b[1mBTCUSDT market event ::: \u001b[32mohlc\u001b[0m\u001b[1m\t:::  -> {o:30824.500000 | h:31040.000000 | l:30759.000000 | c:30759.000000 | v:61317.548316}\u001b[0m\n",
      "\u001b[96m2023-07-10 20:36:00.000\u001b[0m [\u001b[1mℹ️\u001b[0m] \u001b[1mBTCUSDT market event ::: \u001b[32mquote\u001b[0m\u001b[1m\t:::  -> [2023-07-10T20:36:00.000000000]\t30759.00000 (1000000000.0) | 30759.00000 (1000000000.0)\u001b[0m\n",
      "\u001b[96m2023-07-10 20:59:59.000\u001b[0m [\u001b[1mℹ️\u001b[0m] \u001b[1mBTCUSDT market event ::: \u001b[32mohlc\u001b[0m\u001b[1m\t:::  -> {o:30824.500000 | h:31040.000000 | l:30759.000000 | c:30773.200000 | v:64581.076000}\u001b[0m\n",
      "\u001b[96m2023-07-10 20:59:59.000\u001b[0m [\u001b[1mℹ️\u001b[0m] \u001b[1mBTCUSDT market event ::: \u001b[32mquote\u001b[0m\u001b[1m\t:::  -> [2023-07-10T20:59:59.000000000]\t30773.20000 (1000000000.0) | 30773.20000 (1000000000.0)\u001b[0m\n",
      "\u001b[96m2023-07-10 21:00:01.000\u001b[0m [\u001b[1mℹ️\u001b[0m] \u001b[1mBTCUSDT market event ::: \u001b[32mohlc\u001b[0m\u001b[1m\t:::  -> {o:30773.300000 | h:30773.300000 | l:30773.300000 | c:30773.300000 | v:0.000000}\u001b[0m\n",
      "\u001b[96m2023-07-10 21:00:01.000\u001b[0m [\u001b[1mℹ️\u001b[0m] \u001b[1mBTCUSDT market event ::: \u001b[32mquote\u001b[0m\u001b[1m\t:::  -> [2023-07-10T21:00:01.000000000]\t30773.30000 (1000000000.0) | 30773.30000 (1000000000.0)\u001b[0m\n",
      "\u001b[96m2023-07-10 21:24:00.000\u001b[0m [\u001b[1mℹ️\u001b[0m] \u001b[1mBTCUSDT market event ::: \u001b[32mohlc\u001b[0m\u001b[1m\t:::  -> {o:30773.300000 | h:30799.200000 | l:30773.300000 | c:30799.200000 | v:1667.286570}\u001b[0m\n",
      "\u001b[96m2023-07-10 21:24:00.000\u001b[0m [\u001b[1mℹ️\u001b[0m] \u001b[1mBTCUSDT market event ::: \u001b[32mquote\u001b[0m\u001b[1m\t:::  -> [2023-07-10T21:24:00.000000000]\t30799.20000 (1000000000.0) | 30799.20000 (1000000000.0)\u001b[0m\n",
      "\u001b[96m2023-07-10 21:36:00.000\u001b[0m [\u001b[1mℹ️\u001b[0m] \u001b[1mBTCUSDT market event ::: \u001b[32mohlc\u001b[0m\u001b[1m\t:::  -> {o:30773.300000 | h:30799.200000 | l:30100.000000 | c:30100.000000 | v:33249.170409}\u001b[0m\n",
      "\u001b[96m2023-07-10 21:36:00.000\u001b[0m [\u001b[1mℹ️\u001b[0m] \u001b[1mBTCUSDT market event ::: \u001b[32mquote\u001b[0m\u001b[1m\t:::  -> [2023-07-10T21:36:00.000000000]\t30100.00000 (1000000000.0) | 30100.00000 (1000000000.0)\u001b[0m\n",
      "\u001b[96m2023-07-10 21:59:59.000\u001b[0m [\u001b[1mℹ️\u001b[0m] \u001b[1mBTCUSDT market event ::: \u001b[32mohlc\u001b[0m\u001b[1m\t:::  -> {o:30773.300000 | h:30799.200000 | l:30100.000000 | c:30282.700000 | v:45010.300000}\u001b[0m\n",
      "\u001b[96m2023-07-10 21:59:59.000\u001b[0m [\u001b[1mℹ️\u001b[0m] \u001b[1mBTCUSDT market event ::: \u001b[32mquote\u001b[0m\u001b[1m\t:::  -> [2023-07-10T21:59:59.000000000]\t30282.70000 (1000000000.0) | 30282.70000 (1000000000.0)\u001b[0m\n",
      "\u001b[96m2023-07-10 22:00:01.000\u001b[0m [\u001b[1mℹ️\u001b[0m] \u001b[1mBTCUSDT market event ::: \u001b[32mohlc\u001b[0m\u001b[1m\t:::  -> {o:30282.800000 | h:30282.800000 | l:30282.800000 | c:30282.800000 | v:0.000000}\u001b[0m\n",
      "\u001b[96m2023-07-10 22:00:01.000\u001b[0m [\u001b[1mℹ️\u001b[0m] \u001b[1mBTCUSDT market event ::: \u001b[32mquote\u001b[0m\u001b[1m\t:::  -> [2023-07-10T22:00:01.000000000]\t30282.80000 (1000000000.0) | 30282.80000 (1000000000.0)\u001b[0m\n",
      "\u001b[96m2023-07-10 22:24:00.000\u001b[0m [\u001b[1mℹ️\u001b[0m] \u001b[1mBTCUSDT market event ::: \u001b[32mohlc\u001b[0m\u001b[1m\t:::  -> {o:30282.800000 | h:30282.800000 | l:30159.700000 | c:30159.700000 | v:19642.528506}\u001b[0m\n",
      "\u001b[96m2023-07-10 22:24:00.000\u001b[0m [\u001b[1mℹ️\u001b[0m] \u001b[1mBTCUSDT market event ::: \u001b[32mquote\u001b[0m\u001b[1m\t:::  -> [2023-07-10T22:24:00.000000000]\t30159.70000 (1000000000.0) | 30159.70000 (1000000000.0)\u001b[0m\n",
      "\u001b[96m2023-07-10 22:36:00.000\u001b[0m [\u001b[1mℹ️\u001b[0m] \u001b[1mBTCUSDT market event ::: \u001b[32mohlc\u001b[0m\u001b[1m\t:::  -> {o:30282.800000 | h:30385.100000 | l:30159.700000 | c:30385.100000 | v:27509.113846}\u001b[0m\n",
      "\u001b[96m2023-07-10 22:36:00.000\u001b[0m [\u001b[1mℹ️\u001b[0m] \u001b[1mBTCUSDT market event ::: \u001b[32mquote\u001b[0m\u001b[1m\t:::  -> [2023-07-10T22:36:00.000000000]\t30385.10000 (1000000000.0) | 30385.10000 (1000000000.0)\u001b[0m\n",
      "\u001b[96m2023-07-10 22:59:59.000\u001b[0m [\u001b[1mℹ️\u001b[0m] \u001b[1mBTCUSDT market event ::: \u001b[32mohlc\u001b[0m\u001b[1m\t:::  -> {o:30282.800000 | h:30385.100000 | l:30159.700000 | c:30332.100000 | v:35966.092000}\u001b[0m\n",
      "\u001b[96m2023-07-10 22:59:59.000\u001b[0m [\u001b[1mℹ️\u001b[0m] \u001b[1mBTCUSDT market event ::: \u001b[32mquote\u001b[0m\u001b[1m\t:::  -> [2023-07-10T22:59:59.000000000]\t30332.10000 (1000000000.0) | 30332.10000 (1000000000.0)\u001b[0m\n",
      "\u001b[96m2023-07-10 23:00:01.000\u001b[0m [\u001b[1mℹ️\u001b[0m] \u001b[1mBTCUSDT market event ::: \u001b[32mohlc\u001b[0m\u001b[1m\t:::  -> {o:30332.000000 | h:30332.000000 | l:30332.000000 | c:30332.000000 | v:0.000000}\u001b[0m\n",
      "\u001b[96m2023-07-10 23:00:01.000\u001b[0m [\u001b[1mℹ️\u001b[0m] \u001b[1mBTCUSDT market event ::: \u001b[32mquote\u001b[0m\u001b[1m\t:::  -> [2023-07-10T23:00:01.000000000]\t30332.00000 (1000000000.0) | 30332.00000 (1000000000.0)\u001b[0m\n",
      "\u001b[96m2023-07-10 23:24:00.000\u001b[0m [\u001b[1mℹ️\u001b[0m] \u001b[1mBTCUSDT market event ::: \u001b[32mohlc\u001b[0m\u001b[1m\t:::  -> {o:30332.000000 | h:30332.000000 | l:30320.000000 | c:30320.000000 | v:1582.009371}\u001b[0m\n",
      "\u001b[96m2023-07-10 23:24:00.000\u001b[0m [\u001b[1mℹ️\u001b[0m] \u001b[1mBTCUSDT market event ::: \u001b[32mquote\u001b[0m\u001b[1m\t:::  -> [2023-07-10T23:24:00.000000000]\t30320.00000 (1000000000.0) | 30320.00000 (1000000000.0)\u001b[0m\n",
      "\u001b[96m2023-07-10 23:36:00.000\u001b[0m [\u001b[1mℹ️\u001b[0m] \u001b[1mBTCUSDT market event ::: \u001b[32mohlc\u001b[0m\u001b[1m\t:::  -> {o:30332.000000 | h:30407.500000 | l:30320.000000 | c:30407.500000 | v:10138.043389}\u001b[0m\n",
      "\u001b[96m2023-07-10 23:36:00.000\u001b[0m [\u001b[1mℹ️\u001b[0m] \u001b[1mBTCUSDT market event ::: \u001b[32mquote\u001b[0m\u001b[1m\t:::  -> [2023-07-10T23:36:00.000000000]\t30407.50000 (1000000000.0) | 30407.50000 (1000000000.0)\u001b[0m\n",
      "\u001b[96m2023-07-10 23:59:59.000\u001b[0m [\u001b[1mℹ️\u001b[0m] \u001b[1mBTCUSDT market event ::: \u001b[32mohlc\u001b[0m\u001b[1m\t:::  -> {o:30332.000000 | h:30407.500000 | l:30320.000000 | c:30396.900000 | v:11535.485000}\u001b[0m\n",
      "\u001b[96m2023-07-10 23:59:59.000\u001b[0m [\u001b[1mℹ️\u001b[0m] \u001b[1mBTCUSDT market event ::: \u001b[32mquote\u001b[0m\u001b[1m\t:::  -> [2023-07-10T23:59:59.000000000]\t30396.90000 (1000000000.0) | 30396.90000 (1000000000.0)\u001b[0m\n",
      "\u001b[96m2023-07-11 00:00:01.000\u001b[0m [\u001b[1mℹ️\u001b[0m] \u001b[1mBTCUSDT market event ::: \u001b[32mohlc\u001b[0m\u001b[1m\t:::  -> {o:30396.900000 | h:30396.900000 | l:30396.900000 | c:30396.900000 | v:0.000000}\u001b[0m\n",
      "\u001b[96m2023-07-11 00:00:01.000\u001b[0m [\u001b[1mℹ️\u001b[0m] \u001b[1mBTCUSDT market event ::: \u001b[32mquote\u001b[0m\u001b[1m\t:::  -> [2023-07-11T00:00:01.000000000]\t30396.90000 (1000000000.0) | 30396.90000 (1000000000.0)\u001b[0m\n",
      "\u001b[96m2023-07-11 00:24:00.000\u001b[0m [\u001b[1mℹ️\u001b[0m] \u001b[1mBTCUSDT market event ::: \u001b[32mohlc\u001b[0m\u001b[1m\t:::  -> {o:30396.900000 | h:30396.900000 | l:30348.700000 | c:30348.700000 | v:5341.835786}\u001b[0m\n",
      "\u001b[96m2023-07-11 00:24:00.000\u001b[0m [\u001b[1mℹ️\u001b[0m] \u001b[1mBTCUSDT market event ::: \u001b[32mquote\u001b[0m\u001b[1m\t:::  -> [2023-07-11T00:24:00.000000000]\t30348.70000 (1000000000.0) | 30348.70000 (1000000000.0)\u001b[0m\n",
      "\u001b[96m2023-07-11 00:36:00.000\u001b[0m [\u001b[1mℹ️\u001b[0m] \u001b[1mBTCUSDT market event ::: \u001b[32mohlc\u001b[0m\u001b[1m\t:::  -> {o:30396.900000 | h:30495.100000 | l:30348.700000 | c:30495.100000 | v:6306.026062}\u001b[0m\n",
      "\u001b[96m2023-07-11 00:36:00.000\u001b[0m [\u001b[1mℹ️\u001b[0m] \u001b[1mBTCUSDT market event ::: \u001b[32mquote\u001b[0m\u001b[1m\t:::  -> [2023-07-11T00:36:00.000000000]\t30495.10000 (1000000000.0) | 30495.10000 (1000000000.0)\u001b[0m\n",
      "\u001b[96m2023-07-11 00:59:59.000\u001b[0m [\u001b[1mℹ️\u001b[0m] \u001b[1mBTCUSDT market event ::: \u001b[32mohlc\u001b[0m\u001b[1m\t:::  -> {o:30396.900000 | h:30495.100000 | l:30348.700000 | c:30405.600000 | v:16224.995000}\u001b[0m\n",
      "\u001b[96m2023-07-11 00:59:59.000\u001b[0m [\u001b[1mℹ️\u001b[0m] \u001b[1mBTCUSDT market event ::: \u001b[32mquote\u001b[0m\u001b[1m\t:::  -> [2023-07-11T00:59:59.000000000]\t30405.60000 (1000000000.0) | 30405.60000 (1000000000.0)\u001b[0m\n",
      "\u001b[96m2023-07-11 00:59:59.000\u001b[0m [\u001b[1mℹ️\u001b[0m] \u001b[1mSimulatedDataProvider ::: Simulation finished at 2023-07-11 00:00:00 :::\u001b[0m\n"
     ]
    }
   ],
   "source": [
    "CFGS = [\n",
    "\n",
    "   l1,                                     # 0 - just reader\n",
    "\n",
    "   l1[['BTCUSDT'], \"2023-06-01\":\"now\"],    # 1 - as dict with dataframes\n",
    "\n",
    "   {'ohlc': l1},                           # 2 - as specified ohlc\n",
    "\n",
    "   {'ohlc(4h)': l1},                       # 3 - as 4h - we want to get triggers on 4h bars close\n",
    "\n",
    "   {'ohlc(6h)': l1[['BTCUSDT']] },         # 4 - as 6h from predefined data\n",
    "\n",
    "   {                                       # 5 - ohlc + real quotes / trades + custom data\n",
    "      'ohlc(1h)': l1,                     \n",
    "      # 'trade': l1, \n",
    "      'quote': l1, \n",
    "      # 'quote': qts_reader, \n",
    "      # '<r>MY_DATA</r>': custom_reader\n",
    "    },\n",
    "]\n",
    "\n",
    "r = simulate({'CrossOver MA': TestB(show_mkt=1, apply_own_schedule=0, ma_period=\"1h\")}, \n",
    "\n",
    "   CFGS[5],\n",
    "\n",
    "   # 1000, ['BINANCE.UM:BTCUSDT', 'BINANCE.UM:ETHUSDT'], \n",
    "   1000, ['BINANCE.UM:BTCUSDT'], \n",
    "   # 1000, ['BINANCE.UM:ETHUSDT'], \n",
    "   # \"vip0_usdt\", \"2023-07-01\", \"2023-07-30\", debug=\"DEBUG\",\n",
    "   \"vip0_usdt\", \"2023-07-10\", \"2023-07-11\", debug=\"DEBUG\",\n",
    "   enable_event_batching=False, n_jobs=1\n",
    ")"
   ]
  },
  {
   "cell_type": "code",
   "execution_count": 9,
   "metadata": {},
   "outputs": [],
   "source": [
    "d1 = l1.read(\"BINANCE.UM:BTCUSDT\", \"2023-07-10 12:00:00\", \"-100h\", transform=AsOhlcvSeries('1h'))\n",
    "s1 = ta.ema(d1.close, 12) - ta.ema(d1.close, 3)"
   ]
  },
  {
   "cell_type": "code",
   "execution_count": 10,
   "metadata": {},
   "outputs": [
    {
     "data": {
      "text/plain": [
       "2023-07-10 03:00:00    28.851864\n",
       "2023-07-10 04:00:00    34.702666\n",
       "2023-07-10 05:00:00    48.527800\n",
       "2023-07-10 06:00:00    48.567065\n",
       "2023-07-10 07:00:00    35.847748\n",
       "2023-07-10 08:00:00    32.866672\n",
       "2023-07-10 09:00:00    14.608012\n",
       "2023-07-10 10:00:00   -10.232807\n",
       "2023-07-10 11:00:00   -36.709092\n",
       "2023-07-10 12:00:00   -19.298359\n",
       "Name: minus(ema(3,init_mean=True)), dtype: float64"
      ]
     },
     "execution_count": 10,
     "metadata": {},
     "output_type": "execute_result"
    }
   ],
   "source": [
    "s1.pd().tail(10)"
   ]
  },
  {
   "cell_type": "code",
   "execution_count": null,
   "metadata": {},
   "outputs": [],
   "source": [
    "r[0].executions_log.loc['2023-07-19':'2023-07-20']"
   ]
  },
  {
   "cell_type": "code",
   "execution_count": 17,
   "metadata": {},
   "outputs": [
    {
     "data": {
      "text/html": [
       "<div>\n",
       "<style scoped>\n",
       "    .dataframe tbody tr th:only-of-type {\n",
       "        vertical-align: middle;\n",
       "    }\n",
       "\n",
       "    .dataframe tbody tr th {\n",
       "        vertical-align: top;\n",
       "    }\n",
       "\n",
       "    .dataframe thead th {\n",
       "        text-align: right;\n",
       "    }\n",
       "</style>\n",
       "<table border=\"1\" class=\"dataframe\">\n",
       "  <thead>\n",
       "    <tr style=\"text-align: right;\">\n",
       "      <th></th>\n",
       "      <th>Gain</th>\n",
       "      <th>Cagr</th>\n",
       "      <th>Sharpe</th>\n",
       "      <th>Qr</th>\n",
       "      <th>Max dd pct</th>\n",
       "      <th>Mdd usd</th>\n",
       "      <th>Sortino</th>\n",
       "      <th>Calmar</th>\n",
       "      <th>Tail ratio</th>\n",
       "      <th>Stability</th>\n",
       "      <th>Var</th>\n",
       "      <th>Avg return</th>\n",
       "      <th>Fees</th>\n",
       "      <th>Execs</th>\n",
       "    </tr>\n",
       "  </thead>\n",
       "  <tbody>\n",
       "    <tr>\n",
       "      <th>CrossOver MA</th>\n",
       "      <td>-337.187</td>\n",
       "      <td>-1.0</td>\n",
       "      <td>-37.25</td>\n",
       "      <td>-0.554</td>\n",
       "      <td>88.518</td>\n",
       "      <td>909.0</td>\n",
       "      <td>-21.615</td>\n",
       "      <td>-8.566</td>\n",
       "      <td>0.508</td>\n",
       "      <td>1.0</td>\n",
       "      <td>292.421</td>\n",
       "      <td>-18.316</td>\n",
       "      <td>15.087</td>\n",
       "      <td>1.0</td>\n",
       "    </tr>\n",
       "  </tbody>\n",
       "</table>\n",
       "</div>"
      ],
      "text/plain": [
       "                 Gain  Cagr  Sharpe     Qr  Max dd pct  Mdd usd  Sortino  \\\n",
       "CrossOver MA -337.187  -1.0  -37.25 -0.554      88.518    909.0  -21.615   \n",
       "\n",
       "              Calmar  Tail ratio  Stability      Var  Avg return    Fees  \\\n",
       "CrossOver MA  -8.566       0.508        1.0  292.421     -18.316  15.087   \n",
       "\n",
       "              Execs  \n",
       "CrossOver MA    1.0  "
      ]
     },
     "execution_count": 17,
     "metadata": {},
     "output_type": "execute_result"
    },
    {
     "data": {
      "image/png": "[encoded data removed]",
      "text/plain": [
       "<Figure size 960x400 with 2 Axes>"
      ]
     },
     "metadata": {},
     "output_type": "display_data"
    }
   ],
   "source": [
    "tearsheet(r, False, plot_leverage=0)"
   ]
  },
  {
   "cell_type": "code",
   "execution_count": 15,
   "metadata": {},
   "outputs": [
    {
     "data": {
      "text/html": [
       "\n",
       "            <style>\n",
       "                .report div { \n",
       "                    font-family: 'Maven Pro', 'Roboto', 'JetBrains mono', 'Meslo LG S', 'Pragmata Pro Mono', 'hasklig semibold' !important; \n",
       "                    font-size: 12px; background-color: #000; \n",
       "                }\n",
       "                .wrap_table th { text-align:center !important; font-weight: bold; font-size: 18px; color: #756732; }\n",
       "                .wrap_table td, .wrap_table tr { background: none !important; text-align:left !important; }\n",
       "\n",
       "                .rep_table table { width:100%;}\n",
       "                .rep_table th { text-align:center !important; font-weight: bold; font-size: 12px; color: #328032; }\n",
       "                .rep_table td, .rep_table tr { background: none !important; text-align:left !important; }\n",
       "\n",
       "                .flex-container { display: flex; align-items: flex-start; width: 100%; }\n",
       "                .table_block { width:100%; }\n",
       "                .wrap_table table, .wrap_table td, .wrap_table tr, .wrap_table th {\n",
       "                    border: 1px solid #55554a85; border-collapse: collapse; color: #9eb9c3d9 !important; background-color: #000; padding-left: 5px;\n",
       "                }\n",
       "            </style>\n",
       "            <h1>Simulation Report for (<font color='red'>CrossOver MA.0</font>) generated <font color='green'>2024-12-27 17:42:48.365575</font></h1>\n",
       "            <div class=\"report\">\n",
       "            <table class=\"wrap_table\" width=100%> \n",
       "                <tr><td width=15%>Strategy</td> <td>TestB(ma_period='1h', apply_own_schedule=0, show_mkt=0)</td></tr>\n",
       "                <tr><td width=15%>Period</td><td>2023-07-10 00:00:00 : 2023-07-11 00:00:00</td></tr>\n",
       "                <tr><td width=15%>Instruments</td> <td>['BTCUSDT']</td></tr>\n",
       "                <tr><td width=15%>Capital</td> <td>1000 USDT x 1.0 (vip0_usdt @ binance.um)</td></tr>\n",
       "                <tr><td width=15%>Author</td> <td>dmitr</td></tr>\n",
       "                <tr><td width=15%>Qubx version</td> <td>Dev</td></tr>\n",
       "            </table>\n",
       "                <div class=\"report\"> \n",
       "                    <table class=\"wrap_table\" width=100%> <th>Performance</th> </table>\n",
       "                    <table border=\"1\" class=\"dataframe rep_table\">\n",
       "  <thead>\n",
       "    <tr style=\"text-align: right;\">\n",
       "      <th></th>\n",
       "      <th>Gain</th>\n",
       "      <th>Cagr</th>\n",
       "      <th>Sharpe</th>\n",
       "      <th>Qr</th>\n",
       "      <th>Max dd pct</th>\n",
       "      <th>Mdd usd</th>\n",
       "      <th>Sortino</th>\n",
       "      <th>Calmar</th>\n",
       "      <th>Tail ratio</th>\n",
       "      <th>Stability</th>\n",
       "      <th>Var</th>\n",
       "      <th>Avg return</th>\n",
       "      <th>Fees</th>\n",
       "      <th>Execs</th>\n",
       "    </tr>\n",
       "  </thead>\n",
       "  <tbody>\n",
       "    <tr>\n",
       "      <th>CrossOver MA</th>\n",
       "      <td>-337.187</td>\n",
       "      <td>-1.0</td>\n",
       "      <td>-37.25</td>\n",
       "      <td>-0.554</td>\n",
       "      <td>88.518</td>\n",
       "      <td>909.0</td>\n",
       "      <td>-21.615</td>\n",
       "      <td>-8.566</td>\n",
       "      <td>0.508</td>\n",
       "      <td>1.0</td>\n",
       "      <td>292.421</td>\n",
       "      <td>-18.316</td>\n",
       "      <td>15.087</td>\n",
       "      <td>1.0</td>\n",
       "    </tr>\n",
       "  </tbody>\n",
       "</table>\n",
       "                    <table class=\"wrap_table\" width=100%> <th>Equity</th> </table>\n",
       "                    <img src='data:image/png;base64,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' style=\"max-width:1000px; width:100%; height:450px;\"/> \n",
       "                </div>\n",
       "            </div>\n",
       "        "
      ],
      "text/plain": [
       "<IPython.core.display.HTML object>"
      ]
     },
     "execution_count": 15,
     "metadata": {},
     "output_type": "execute_result"
    }
   ],
   "source": [
    "r[0].to_html()"
   ]
  },
  {
   "cell_type": "code",
   "execution_count": 16,
   "metadata": {},
   "outputs": [],
   "source": [
    "r[0].to_file(\"test\")"
   ]
  },
  {
   "cell_type": "code",
   "execution_count": null,
   "metadata": {},
   "outputs": [],
   "source": [
    "chart_signals(r[0], 'BTCUSDT', l1[['BTCUSDT']], show_signals=True, show_trades=True)"
   ]
  },
  {
   "cell_type": "code",
   "execution_count": null,
   "metadata": {},
   "outputs": [],
   "source": [
    "r[0].portfolio_log"
   ]
  },
  {
   "cell_type": "markdown",
   "metadata": {},
   "source": [
    "## Triggering time"
   ]
  },
  {
   "cell_type": "code",
   "execution_count": 4,
   "metadata": {},
   "outputs": [],
   "source": [
    "class TestC(IStrategy):\n",
    "    apply_own_schedule = False\n",
    "    show_mkt = False\n",
    "\n",
    "    def on_init(self, ctx: IStrategyContext):\n",
    "        if self.apply_own_schedule: \n",
    "            ctx.set_event_schedule(\"1 */4 * * *\")\n",
    "        # ctx.set_warmup({\n",
    "        #     DataType.OHLC['1h']: '1d'\n",
    "        # })\n",
    "\n",
    "    def on_market_data(self, ctx: IStrategyContext, data: MarketEvent) -> list[Signal] | Signal | None:\n",
    "        if self.show_mkt:\n",
    "            logger.info(f'{data.instrument.symbol} market event ::: <g>{data.type}</g>\\t:::  -> {data.data}')\n",
    "\n",
    "    def on_event(self, ctx: IStrategyContext, event: TriggerEvent) -> list[Signal] | None:\n",
    "        s = []\n",
    "\n",
    "        # for i in ctx.instruments:\n",
    "            # data = ctx.ohlc(i, '1h', 100)\n",
    "            # logger.info(data)\n",
    "        if 1: \n",
    "            logger.info(f'<r> === Event {ctx.time()} ::: {ctx.quote(ctx.instruments[0])} ===</r>')\n",
    "        return s"
   ]
  },
  {
   "cell_type": "code",
   "execution_count": 5,
   "metadata": {},
   "outputs": [
    {
     "name": "stdout",
     "output_type": "stream",
     "text": [
      "\u001b[96m2023-07-02 00:59:59.000\u001b[0m [\u001b[34m\u001b[1m🐞\u001b[0m] \u001b[34m\u001b[1m\u001b[33mTestC\u001b[0m\u001b[34m\u001b[1m new parameters:\n",
      "\tset \u001b[32mshow_mkt\u001b[0m\u001b[34m\u001b[1m <- \u001b[31m0\u001b[0m\u001b[34m\u001b[1m\n",
      "\tset \u001b[32mapply_own_schedule\u001b[0m\u001b[34m\u001b[1m <- \u001b[31m0\u001b[0m\u001b[34m\u001b[1m\u001b[0m\n"
     ]
    },
    {
     "name": "stdout",
     "output_type": "stream",
     "text": [
      "\u001b[32m2024-12-27 16:59:26.235\u001b[0m [ \u001b[1mℹ️\u001b[0m ] \u001b[36m(utils)\u001b[0m \u001b[1m>>>>>>>>>>> dict_keys([ohlc])\u001b[0m\n",
      "\u001b[96m2023-07-01 00:00:00.000\u001b[0m [\u001b[34m\u001b[1m🐞\u001b[0m] \u001b[34m\u001b[1mPreparing simulated trading on \u001b[32mBINANCE.UM\u001b[0m\u001b[34m\u001b[1m for 1000 x 1.0 in USDT...\u001b[0m\n",
      "\u001b[96m2023-07-01 00:00:00.000\u001b[0m [\u001b[1mℹ️\u001b[0m] \u001b[1mSimulatedDataProvider.binance.um is initialized\u001b[0m\n",
      "\u001b[96m2023-07-01 00:00:00.000\u001b[0m [\u001b[34m\u001b[1m🐞\u001b[0m] \u001b[34m\u001b[1m | Setting up default base subscription: ohlc(1h)\u001b[0m\n"
     ]
    },
    {
     "data": {
      "application/vnd.jupyter.widget-view+json": {
       "model_id": "62460ab9128645d094d48e537eb6ebc3",
       "version_major": 2,
       "version_minor": 0
      },
      "text/plain": [
       "Simulating:   0%|          | 0/100 [00:00<?, ?%/s]"
      ]
     },
     "metadata": {},
     "output_type": "display_data"
    },
    {
     "name": "stdout",
     "output_type": "stream",
     "text": [
      "\u001b[96m2023-07-01 00:00:00.000\u001b[0m [\u001b[34m\u001b[1m🐞\u001b[0m] \u001b[34m\u001b[1m | Setting default schedule: 0 */4 * * *\u001b[0m\n",
      "\u001b[96m2023-07-01 00:00:00.000\u001b[0m [\u001b[1mℹ️\u001b[0m] \u001b[1mSTG warmup: ohlc(1h) -> None\u001b[0m\n",
      "\u001b[96m2023-07-01 00:00:00.000\u001b[0m [\u001b[1mℹ️\u001b[0m] \u001b[1mSimulatedDataProvider ::: Simulation started at 2023-07-01 00:00:00 :::\u001b[0m\n",
      "\u001b[96m2023-07-01 00:00:00.000\u001b[0m [\u001b[34m\u001b[1m🐞\u001b[0m] \u001b[34m\u001b[1mPreloading initial data for ohlc.1h 2023-07-01 00:00:00 : 2023-07-03 00:00:00 ...\u001b[0m\n",
      "\u001b[96m2023-07-01 00:00:00.000\u001b[0m [\u001b[34m\u001b[1m🐞\u001b[0m] \u001b[34m\u001b[1m(InMemoryCachedReader) Updating 2 symbols post interval 2023-07-02 00:00:00 : 2023-07-03 00:00:00\u001b[0m\n",
      "\u001b[96m2023-07-01 00:00:01.000\u001b[0m [\u001b[34m\u001b[1m🐞\u001b[0m] \u001b[34m\u001b[1mInvoking \u001b[32mTestC\u001b[0m\u001b[34m\u001b[1m on_fit\u001b[0m\n",
      "\u001b[96m2023-07-01 00:00:01.000\u001b[0m [\u001b[34m\u001b[1m🐞\u001b[0m] \u001b[34m\u001b[1m\u001b[32mTestC\u001b[0m\u001b[34m\u001b[1m is fitted\u001b[0m\n",
      "\u001b[96m2023-07-01 04:00:00.000\u001b[0m [\u001b[1mℹ️\u001b[0m] \u001b[1m\u001b[31m === Event 2023-07-01T04:00:00.000000000 ::: [2023-07-01T03:59:59.000000000]\t30391.15000 (0.0) | 30391.25000 (0.0) ===\u001b[0m\u001b[1m\u001b[0m\n",
      "\u001b[96m2023-07-01 08:00:00.000\u001b[0m [\u001b[1mℹ️\u001b[0m] \u001b[1m\u001b[31m === Event 2023-07-01T08:00:00.000000000 ::: [2023-07-01T07:59:59.000000000]\t30448.05000 (0.0) | 30448.15000 (0.0) ===\u001b[0m\u001b[1m\u001b[0m\n",
      "\u001b[96m2023-07-01 12:00:00.000\u001b[0m [\u001b[1mℹ️\u001b[0m] \u001b[1m\u001b[31m === Event 2023-07-01T12:00:00.000000000 ::: [2023-07-01T11:59:59.000000000]\t30508.45000 (0.0) | 30508.55000 (0.0) ===\u001b[0m\u001b[1m\u001b[0m\n",
      "\u001b[96m2023-07-01 16:00:00.000\u001b[0m [\u001b[1mℹ️\u001b[0m] \u001b[1m\u001b[31m === Event 2023-07-01T16:00:00.000000000 ::: [2023-07-01T15:59:59.000000000]\t30561.45000 (0.0) | 30561.55000 (0.0) ===\u001b[0m\u001b[1m\u001b[0m\n",
      "\u001b[96m2023-07-01 20:00:00.000\u001b[0m [\u001b[1mℹ️\u001b[0m] \u001b[1m\u001b[31m === Event 2023-07-01T20:00:00.000000000 ::: [2023-07-01T19:59:59.000000000]\t30600.45000 (0.0) | 30600.55000 (0.0) ===\u001b[0m\u001b[1m\u001b[0m\n",
      "\u001b[96m2023-07-02 00:00:00.000\u001b[0m [\u001b[1mℹ️\u001b[0m] \u001b[1m\u001b[31m === Event 2023-07-02T00:00:00.000000000 ::: [2023-07-01T23:59:59.000000000]\t30573.55000 (0.0) | 30573.65000 (0.0) ===\u001b[0m\u001b[1m\u001b[0m\n",
      "\u001b[96m2023-07-02 04:00:00.000\u001b[0m [\u001b[1mℹ️\u001b[0m] \u001b[1m\u001b[31m === Event 2023-07-02T04:00:00.000000000 ::: [2023-07-02T03:59:59.000000000]\t30505.15000 (0.0) | 30505.25000 (0.0) ===\u001b[0m\u001b[1m\u001b[0m\n",
      "\u001b[96m2023-07-02 08:00:00.000\u001b[0m [\u001b[1mℹ️\u001b[0m] \u001b[1m\u001b[31m === Event 2023-07-02T08:00:00.000000000 ::: [2023-07-02T07:59:59.000000000]\t30504.65000 (0.0) | 30504.75000 (0.0) ===\u001b[0m\u001b[1m\u001b[0m\n",
      "\u001b[96m2023-07-02 12:00:00.000\u001b[0m [\u001b[1mℹ️\u001b[0m] \u001b[1m\u001b[31m === Event 2023-07-02T12:00:00.000000000 ::: [2023-07-02T11:59:59.000000000]\t30537.15000 (0.0) | 30537.25000 (0.0) ===\u001b[0m\u001b[1m\u001b[0m\n",
      "\u001b[96m2023-07-02 16:00:00.000\u001b[0m [\u001b[1mℹ️\u001b[0m] \u001b[1m\u001b[31m === Event 2023-07-02T16:00:00.000000000 ::: [2023-07-02T15:59:59.000000000]\t30491.35000 (0.0) | 30491.45000 (0.0) ===\u001b[0m\u001b[1m\u001b[0m\n",
      "\u001b[96m2023-07-02 20:00:00.000\u001b[0m [\u001b[1mℹ️\u001b[0m] \u001b[1m\u001b[31m === Event 2023-07-02T20:00:00.000000000 ::: [2023-07-02T19:59:59.000000000]\t30552.75000 (0.0) | 30552.85000 (0.0) ===\u001b[0m\u001b[1m\u001b[0m\n",
      "\u001b[96m2023-07-03 00:00:00.000\u001b[0m [\u001b[1mℹ️\u001b[0m] \u001b[1m\u001b[31m === Event 2023-07-03T00:00:00.000000000 ::: [2023-07-02T23:59:59.000000000]\t30612.65000 (0.0) | 30612.75000 (0.0) ===\u001b[0m\u001b[1m\u001b[0m\n",
      "\u001b[96m2023-07-03 00:59:59.000\u001b[0m [\u001b[1mℹ️\u001b[0m] \u001b[1mSimulatedDataProvider ::: Simulation finished at 2023-07-03 00:00:00 :::\u001b[0m\n"
     ]
    }
   ],
   "source": [
    "r = simulate({'A': (stg:=TestC(show_mkt=0, apply_own_schedule=0))}, \n",
    "   # qts_reader,\n",
    "   {\n",
    "      'ohlc(4h)': l1, \n",
    "      # 'trade': l1, \n",
    "      # 'quote': l1, \n",
    "      # 'quote': qts_reader, \n",
    "   #    # '<y>quote1</y>': qts_reader, \n",
    "      # '<r>MY_DATA</r>': custom_reader\n",
    "    },\n",
    "\n",
    "   1000, ['BINANCE.UM:BTCUSDT', 'BINANCE.UM:ETHUSDT' ], \n",
    "   \"vip0_usdt\", \"2023-07-01\", \"2023-07-03\", debug=\"DEBUG\", \n",
    "   enable_event_batching=True,\n",
    "   # open_close_time_indent_secs=5\n",
    ")"
   ]
  },
  {
   "cell_type": "markdown",
   "metadata": {},
   "source": [
    "# Initial quote and history"
   ]
  },
  {
   "cell_type": "code",
   "execution_count": 21,
   "metadata": {},
   "outputs": [],
   "source": [
    "l1 = loader(\"BINANCE.UM\", \"1h\", source=\"csv::../tests/data/csv_1h\", n_jobs=1)"
   ]
  },
  {
   "cell_type": "code",
   "execution_count": 25,
   "metadata": {},
   "outputs": [
    {
     "name": "stdout",
     "output_type": "stream",
     "text": [
      "\u001b[96m2023-07-01 00:00:00.000\u001b[0m [\u001b[34m\u001b[1m🐞\u001b[0m] \u001b[34m\u001b[1mPreparing simulated trading on \u001b[32mBINANCE.UM\u001b[0m\u001b[34m\u001b[1m for 1000 x 1.0 in USDT...\u001b[0m\n"
     ]
    },
    {
     "data": {
      "application/vnd.jupyter.widget-view+json": {
       "model_id": "cac03f760ed04c82851265105eaba3c8",
       "version_major": 2,
       "version_minor": 0
      },
      "text/plain": [
       "Simulating:   0%|          | 0/100 [00:00<?, ?%/s]"
      ]
     },
     "metadata": {},
     "output_type": "display_data"
    },
    {
     "name": "stdout",
     "output_type": "stream",
     "text": [
      "\u001b[96m2023-07-01 00:00:00.000\u001b[0m [\u001b[1mℹ️\u001b[0m] \u001b[1mSimulatedDataProvider.binance.um is initialized\u001b[0m\n",
      "\u001b[96m2023-07-01 00:00:00.000\u001b[0m [\u001b[34m\u001b[1m🐞\u001b[0m] \u001b[34m\u001b[1m | Setting up default base subscription: ohlc(1h)\u001b[0m\n",
      "\u001b[96m2023-07-01 00:00:00.000\u001b[0m [\u001b[1mℹ️\u001b[0m] \u001b[1mStrategy doesn't set warmup period for \u001b[36mohlc(1h)\u001b[0m\u001b[1m so default \u001b[36m2h\u001b[0m\u001b[1m will be used\u001b[0m\n",
      "\u001b[96m2023-07-01 00:00:00.000\u001b[0m [\u001b[1mℹ️\u001b[0m] \u001b[1mSimulatedDataProvider ::: Simulation started at 2023-07-01 00:00:00 :::\u001b[0m\n",
      "\u001b[96m2023-07-01 00:00:00.000\u001b[0m [\u001b[34m\u001b[1m🐞\u001b[0m] \u001b[34m\u001b[1mPreloading initial data for ohlc.1h 2023-07-01 00:00:00 : 2023-07-02 00:00:00 ...\u001b[0m\n",
      "\u001b[96m2023-07-01 00:00:01.000\u001b[0m [\u001b[34m\u001b[1m🐞\u001b[0m] \u001b[34m\u001b[1mInvoking \u001b[32mTestD\u001b[0m\u001b[34m\u001b[1m on_fit\u001b[0m\n",
      "\u001b[96m2023-07-01 00:00:01.000\u001b[0m [\u001b[1mℹ️\u001b[0m] \u001b[1m\u001b[46m------ FIT -------\u001b[0m\u001b[1m\u001b[0m\n",
      "\u001b[96m2023-07-01 00:00:01.000\u001b[0m [\u001b[34m\u001b[1m🐞\u001b[0m] \u001b[34m\u001b[1m\u001b[32mTestD\u001b[0m\u001b[34m\u001b[1m is fitted\u001b[0m\n",
      "\u001b[96m2023-07-01 00:00:02.000\u001b[0m [\u001b[1mℹ️\u001b[0m] \u001b[1m\t - \u001b[33mBTCUSDT :: [2023-07-01T00:00:01.000000000]\t30460.15000 (0.0) | 30460.25000 (0.0)\u001b[0m\u001b[1m\u001b[0m\n",
      "\u001b[96m2023-07-01 00:00:02.000\u001b[0m [\u001b[1mℹ️\u001b[0m] \u001b[1mBTCUSDT[1h] | 1 records\n",
      "  2023-07-01T00:00:00.000000000 {o:30460.200000 | h:30460.200000 | l:30460.200000 | c:30460.200000 | v:0.000000}\n",
      "\u001b[0m\n",
      "\u001b[96m2023-07-01 04:00:00.000\u001b[0m [\u001b[34m\u001b[1m🐞\u001b[0m] \u001b[34m\u001b[1mInvoking \u001b[32mTestD\u001b[0m\u001b[34m\u001b[1m on_fit\u001b[0m\n",
      "\u001b[96m2023-07-01 04:00:00.000\u001b[0m [\u001b[1mℹ️\u001b[0m] \u001b[1m\u001b[46m------ FIT -------\u001b[0m\u001b[1m\u001b[0m\n",
      "\u001b[96m2023-07-01 04:00:00.000\u001b[0m [\u001b[34m\u001b[1m🐞\u001b[0m] \u001b[34m\u001b[1m | Warming up ('ohlc(1h)', BINANCE.UM:SWAP:ETHUSDT) -> 2h\u001b[0m\n",
      "\u001b[96m2023-07-01 04:00:00.000\u001b[0m [\u001b[34m\u001b[1m🐞\u001b[0m] \u001b[34m\u001b[1m\u001b[32mTestD\u001b[0m\u001b[34m\u001b[1m is fitted\u001b[0m\n",
      "\u001b[96m2023-07-01 04:00:02.000\u001b[0m [\u001b[1mℹ️\u001b[0m] \u001b[1m\t - \u001b[33mBTCUSDT :: [2023-07-01T04:00:01.000000000]\t30391.15000 (0.0) | 30391.25000 (0.0)\u001b[0m\u001b[1m\u001b[0m\n",
      "\u001b[96m2023-07-01 04:00:02.000\u001b[0m [\u001b[1mℹ️\u001b[0m] \u001b[1mBTCUSDT[1h] | 5 records\n",
      "  2023-07-01T04:00:00.000000000 {o:30391.200000 | h:30391.200000 | l:30391.200000 | c:30391.200000 | v:0.000000}\n",
      "  2023-07-01T03:00:00.000000000 {o:30408.400000 | h:30435.700000 | l:30362.000000 | c:30391.200000 | v:9565.229227}\n",
      "  2023-07-01T02:00:00.000000000 {o:30433.300000 | h:30522.000000 | l:30380.000000 | c:30408.400000 | v:18294.807238}\n",
      "  2023-07-01T01:00:00.000000000 {o:30459.100000 | h:30475.700000 | l:30367.400000 | c:30433.400000 | v:13273.737825}\n",
      "  2023-07-01T00:00:00.000000000 {o:30460.200000 | h:30527.200000 | l:30405.600000 | c:30459.100000 | v:18556.059812}\n",
      "\u001b[0m\n",
      "\u001b[96m2023-07-01 04:00:02.000\u001b[0m [\u001b[1mℹ️\u001b[0m] \u001b[1m\t - \u001b[33mETHUSDT :: None\u001b[0m\u001b[1m\u001b[0m\n",
      "\u001b[96m2023-07-01 04:00:02.000\u001b[0m [\u001b[1mℹ️\u001b[0m] \u001b[1mETHUSDT[1h] | 0 records\n",
      "\u001b[0m\n",
      "\u001b[96m2023-07-01 08:00:00.000\u001b[0m [\u001b[34m\u001b[1m🐞\u001b[0m] \u001b[34m\u001b[1mInvoking \u001b[32mTestD\u001b[0m\u001b[34m\u001b[1m on_fit\u001b[0m\n",
      "\u001b[96m2023-07-01 08:00:00.000\u001b[0m [\u001b[1mℹ️\u001b[0m] \u001b[1m\u001b[46m------ FIT -------\u001b[0m\u001b[1m\u001b[0m\n",
      "\u001b[96m2023-07-01 08:00:00.000\u001b[0m [\u001b[34m\u001b[1m🐞\u001b[0m] \u001b[34m\u001b[1m\u001b[32mTestD\u001b[0m\u001b[34m\u001b[1m is fitted\u001b[0m\n",
      "\u001b[96m2023-07-01 08:00:02.000\u001b[0m [\u001b[1mℹ️\u001b[0m] \u001b[1m\t - \u001b[33mBTCUSDT :: [2023-07-01T08:00:01.000000000]\t30448.05000 (0.0) | 30448.15000 (0.0)\u001b[0m\u001b[1m\u001b[0m\n",
      "\u001b[96m2023-07-01 08:00:02.000\u001b[0m [\u001b[1mℹ️\u001b[0m] \u001b[1mBTCUSDT[1h] | 9 records\n",
      "  2023-07-01T08:00:00.000000000 {o:30448.100000 | h:30448.100000 | l:30448.100000 | c:30448.100000 | v:0.000000}\n",
      "  2023-07-01T07:00:00.000000000 {o:30441.400000 | h:30450.400000 | l:30395.000000 | c:30448.100000 | v:13664.019787}\n",
      "  2023-07-01T06:00:00.000000000 {o:30415.300000 | h:30462.800000 | l:30387.600000 | c:30441.500000 | v:13912.130043}\n",
      "   .......... \n",
      "  2023-07-01T02:00:00.000000000 {o:30433.300000 | h:30522.000000 | l:30380.000000 | c:30408.400000 | v:18294.807238}\n",
      "  2023-07-01T01:00:00.000000000 {o:30459.100000 | h:30475.700000 | l:30367.400000 | c:30433.400000 | v:13273.737825}\n",
      "  2023-07-01T00:00:00.000000000 {o:30460.200000 | h:30527.200000 | l:30405.600000 | c:30459.100000 | v:18556.059812}\n",
      "\u001b[0m\n",
      "\u001b[96m2023-07-01 08:00:02.000\u001b[0m [\u001b[1mℹ️\u001b[0m] \u001b[1m\t - \u001b[33mETHUSDT :: [2023-07-01T08:00:01.000000000]\t1919.79500 (0.0) | 1919.80500 (0.0)\u001b[0m\u001b[1m\u001b[0m\n",
      "\u001b[96m2023-07-01 08:00:02.000\u001b[0m [\u001b[1mℹ️\u001b[0m] \u001b[1mETHUSDT[1h] | 4 records\n",
      "  2023-07-01T08:00:00.000000000 {o:1919.800000 | h:1919.800000 | l:1919.800000 | c:1919.800000 | v:0.000000}\n",
      "  2023-07-01T07:00:00.000000000 {o:1920.400000 | h:1920.920000 | l:1912.000000 | c:1919.800000 | v:82417.684090}\n",
      "  2023-07-01T06:00:00.000000000 {o:1918.480000 | h:1921.970000 | l:1914.390000 | c:1920.400000 | v:163649.196158}\n",
      "  2023-07-01T05:00:00.000000000 {o:1915.000000 | h:1918.970000 | l:1913.940000 | c:1918.480000 | v:113938.942012}\n",
      "\u001b[0m\n",
      "\u001b[96m2023-07-01 12:00:00.000\u001b[0m [\u001b[34m\u001b[1m🐞\u001b[0m] \u001b[34m\u001b[1mInvoking \u001b[32mTestD\u001b[0m\u001b[34m\u001b[1m on_fit\u001b[0m\n",
      "\u001b[96m2023-07-01 12:00:00.000\u001b[0m [\u001b[1mℹ️\u001b[0m] \u001b[1m\u001b[46m------ FIT -------\u001b[0m\u001b[1m\u001b[0m\n",
      "\u001b[96m2023-07-01 12:00:00.000\u001b[0m [\u001b[34m\u001b[1m🐞\u001b[0m] \u001b[34m\u001b[1m\u001b[32mTestD\u001b[0m\u001b[34m\u001b[1m is fitted\u001b[0m\n",
      "\u001b[96m2023-07-01 12:00:02.000\u001b[0m [\u001b[1mℹ️\u001b[0m] \u001b[1m\t - \u001b[33mBTCUSDT :: [2023-07-01T12:00:01.000000000]\t30508.45000 (0.0) | 30508.55000 (0.0)\u001b[0m\u001b[1m\u001b[0m\n",
      "\u001b[96m2023-07-01 12:00:02.000\u001b[0m [\u001b[1mℹ️\u001b[0m] \u001b[1mBTCUSDT[1h] | 13 records\n",
      "  2023-07-01T12:00:00.000000000 {o:30508.500000 | h:30508.500000 | l:30508.500000 | c:30508.500000 | v:0.000000}\n",
      "  2023-07-01T11:00:00.000000000 {o:30455.700000 | h:30589.800000 | l:30455.700000 | c:30508.500000 | v:13844.771508}\n",
      "  2023-07-01T10:00:00.000000000 {o:30431.200000 | h:30482.500000 | l:30416.000000 | c:30455.800000 | v:11908.585895}\n",
      "   .......... \n",
      "  2023-07-01T02:00:00.000000000 {o:30433.300000 | h:30522.000000 | l:30380.000000 | c:30408.400000 | v:18294.807238}\n",
      "  2023-07-01T01:00:00.000000000 {o:30459.100000 | h:30475.700000 | l:30367.400000 | c:30433.400000 | v:13273.737825}\n",
      "  2023-07-01T00:00:00.000000000 {o:30460.200000 | h:30527.200000 | l:30405.600000 | c:30459.100000 | v:18556.059812}\n",
      "\u001b[0m\n",
      "\u001b[96m2023-07-01 12:00:02.000\u001b[0m [\u001b[1mℹ️\u001b[0m] \u001b[1m\t - \u001b[33mETHUSDT :: [2023-07-01T12:00:01.000000000]\t1921.98500 (0.0) | 1921.99500 (0.0)\u001b[0m\u001b[1m\u001b[0m\n",
      "\u001b[96m2023-07-01 12:00:02.000\u001b[0m [\u001b[1mℹ️\u001b[0m] \u001b[1mETHUSDT[1h] | 8 records\n",
      "  2023-07-01T12:00:00.000000000 {o:1921.990000 | h:1921.990000 | l:1921.990000 | c:1921.990000 | v:0.000000}\n",
      "  2023-07-01T11:00:00.000000000 {o:1922.010000 | h:1926.490000 | l:1920.310000 | c:1921.980000 | v:185971.337411}\n",
      "  2023-07-01T10:00:00.000000000 {o:1916.140000 | h:1926.310000 | l:1915.120000 | c:1922.010000 | v:178092.455550}\n",
      "   .......... \n",
      "  2023-07-01T07:00:00.000000000 {o:1920.400000 | h:1920.920000 | l:1912.000000 | c:1919.800000 | v:82417.684090}\n",
      "  2023-07-01T06:00:00.000000000 {o:1918.480000 | h:1921.970000 | l:1914.390000 | c:1920.400000 | v:163649.196158}\n",
      "  2023-07-01T05:00:00.000000000 {o:1915.000000 | h:1918.970000 | l:1913.940000 | c:1918.480000 | v:113938.942012}\n",
      "\u001b[0m\n",
      "\u001b[96m2023-07-01 16:00:00.000\u001b[0m [\u001b[34m\u001b[1m🐞\u001b[0m] \u001b[34m\u001b[1mInvoking \u001b[32mTestD\u001b[0m\u001b[34m\u001b[1m on_fit\u001b[0m\n",
      "\u001b[96m2023-07-01 16:00:00.000\u001b[0m [\u001b[1mℹ️\u001b[0m] \u001b[1m\u001b[46m------ FIT -------\u001b[0m\u001b[1m\u001b[0m\n",
      "\u001b[96m2023-07-01 16:00:00.000\u001b[0m [\u001b[34m\u001b[1m🐞\u001b[0m] \u001b[34m\u001b[1m\u001b[32mTestD\u001b[0m\u001b[34m\u001b[1m is fitted\u001b[0m\n",
      "\u001b[96m2023-07-01 16:00:02.000\u001b[0m [\u001b[1mℹ️\u001b[0m] \u001b[1m\t - \u001b[33mBTCUSDT :: [2023-07-01T16:00:01.000000000]\t30561.45000 (0.0) | 30561.55000 (0.0)\u001b[0m\u001b[1m\u001b[0m\n",
      "\u001b[96m2023-07-01 16:00:02.000\u001b[0m [\u001b[1mℹ️\u001b[0m] \u001b[1mBTCUSDT[1h] | 17 records\n",
      "  2023-07-01T16:00:00.000000000 {o:30561.500000 | h:30561.500000 | l:30561.500000 | c:30561.500000 | v:0.000000}\n",
      "  2023-07-01T15:00:00.000000000 {o:30598.800000 | h:30668.200000 | l:30530.600000 | c:30561.500000 | v:18595.739315}\n",
      "  2023-07-01T14:00:00.000000000 {o:30549.900000 | h:30611.700000 | l:30520.500000 | c:30598.800000 | v:13675.934359}\n",
      "   .......... \n",
      "  2023-07-01T02:00:00.000000000 {o:30433.300000 | h:30522.000000 | l:30380.000000 | c:30408.400000 | v:18294.807238}\n",
      "  2023-07-01T01:00:00.000000000 {o:30459.100000 | h:30475.700000 | l:30367.400000 | c:30433.400000 | v:13273.737825}\n",
      "  2023-07-01T00:00:00.000000000 {o:30460.200000 | h:30527.200000 | l:30405.600000 | c:30459.100000 | v:18556.059812}\n",
      "\u001b[0m\n",
      "\u001b[96m2023-07-01 16:00:02.000\u001b[0m [\u001b[1mℹ️\u001b[0m] \u001b[1m\t - \u001b[33mETHUSDT :: [2023-07-01T16:00:01.000000000]\t1922.14500 (0.0) | 1922.15500 (0.0)\u001b[0m\u001b[1m\u001b[0m\n",
      "\u001b[96m2023-07-01 16:00:02.000\u001b[0m [\u001b[1mℹ️\u001b[0m] \u001b[1mETHUSDT[1h] | 12 records\n",
      "  2023-07-01T16:00:00.000000000 {o:1922.150000 | h:1922.150000 | l:1922.150000 | c:1922.150000 | v:0.000000}\n",
      "  2023-07-01T15:00:00.000000000 {o:1922.210000 | h:1923.920000 | l:1916.720000 | c:1922.150000 | v:105559.518000}\n",
      "  2023-07-01T14:00:00.000000000 {o:1922.820000 | h:1925.260000 | l:1920.520000 | c:1922.200000 | v:120446.388388}\n",
      "   .......... \n",
      "  2023-07-01T07:00:00.000000000 {o:1920.400000 | h:1920.920000 | l:1912.000000 | c:1919.800000 | v:82417.684090}\n",
      "  2023-07-01T06:00:00.000000000 {o:1918.480000 | h:1921.970000 | l:1914.390000 | c:1920.400000 | v:163649.196158}\n",
      "  2023-07-01T05:00:00.000000000 {o:1915.000000 | h:1918.970000 | l:1913.940000 | c:1918.480000 | v:113938.942012}\n",
      "\u001b[0m\n",
      "\u001b[96m2023-07-01 20:00:00.000\u001b[0m [\u001b[34m\u001b[1m🐞\u001b[0m] \u001b[34m\u001b[1mInvoking \u001b[32mTestD\u001b[0m\u001b[34m\u001b[1m on_fit\u001b[0m\n",
      "\u001b[96m2023-07-01 20:00:00.000\u001b[0m [\u001b[1mℹ️\u001b[0m] \u001b[1m\u001b[46m------ FIT -------\u001b[0m\u001b[1m\u001b[0m\n",
      "\u001b[96m2023-07-01 20:00:00.000\u001b[0m [\u001b[34m\u001b[1m🐞\u001b[0m] \u001b[34m\u001b[1m\u001b[32mTestD\u001b[0m\u001b[34m\u001b[1m is fitted\u001b[0m\n",
      "\u001b[96m2023-07-01 20:00:02.000\u001b[0m [\u001b[1mℹ️\u001b[0m] \u001b[1m\t - \u001b[33mBTCUSDT :: [2023-07-01T20:00:01.000000000]\t30600.45000 (0.0) | 30600.55000 (0.0)\u001b[0m\u001b[1m\u001b[0m\n",
      "\u001b[96m2023-07-01 20:00:02.000\u001b[0m [\u001b[1mℹ️\u001b[0m] \u001b[1mBTCUSDT[1h] | 21 records\n",
      "  2023-07-01T20:00:00.000000000 {o:30600.500000 | h:30600.500000 | l:30600.500000 | c:30600.500000 | v:0.000000}\n",
      "  2023-07-01T19:00:00.000000000 {o:30599.900000 | h:30626.000000 | l:30584.100000 | c:30600.500000 | v:9128.771606}\n",
      "  2023-07-01T18:00:00.000000000 {o:30562.500000 | h:30606.000000 | l:30557.600000 | c:30599.900000 | v:5196.010116}\n",
      "   .......... \n",
      "  2023-07-01T02:00:00.000000000 {o:30433.300000 | h:30522.000000 | l:30380.000000 | c:30408.400000 | v:18294.807238}\n",
      "  2023-07-01T01:00:00.000000000 {o:30459.100000 | h:30475.700000 | l:30367.400000 | c:30433.400000 | v:13273.737825}\n",
      "  2023-07-01T00:00:00.000000000 {o:30460.200000 | h:30527.200000 | l:30405.600000 | c:30459.100000 | v:18556.059812}\n",
      "\u001b[0m\n",
      "\u001b[96m2023-07-01 20:00:02.000\u001b[0m [\u001b[1mℹ️\u001b[0m] \u001b[1m\t - \u001b[33mETHUSDT :: [2023-07-01T20:00:01.000000000]\t1922.23500 (0.0) | 1922.24500 (0.0)\u001b[0m\u001b[1m\u001b[0m\n",
      "\u001b[96m2023-07-01 20:00:02.000\u001b[0m [\u001b[1mℹ️\u001b[0m] \u001b[1mETHUSDT[1h] | 16 records\n",
      "  2023-07-01T20:00:00.000000000 {o:1922.240000 | h:1922.240000 | l:1922.240000 | c:1922.240000 | v:0.000000}\n",
      "  2023-07-01T19:00:00.000000000 {o:1920.930000 | h:1923.990000 | l:1920.920000 | c:1922.240000 | v:54801.337850}\n",
      "  2023-07-01T18:00:00.000000000 {o:1918.000000 | h:1921.000000 | l:1917.740000 | c:1920.920000 | v:54246.521227}\n",
      "   .......... \n",
      "  2023-07-01T07:00:00.000000000 {o:1920.400000 | h:1920.920000 | l:1912.000000 | c:1919.800000 | v:82417.684090}\n",
      "  2023-07-01T06:00:00.000000000 {o:1918.480000 | h:1921.970000 | l:1914.390000 | c:1920.400000 | v:163649.196158}\n",
      "  2023-07-01T05:00:00.000000000 {o:1915.000000 | h:1918.970000 | l:1913.940000 | c:1918.480000 | v:113938.942012}\n",
      "\u001b[0m\n",
      "\u001b[96m2023-07-02 00:00:00.000\u001b[0m [\u001b[34m\u001b[1m🐞\u001b[0m] \u001b[34m\u001b[1mInvoking \u001b[32mTestD\u001b[0m\u001b[34m\u001b[1m on_fit\u001b[0m\n",
      "\u001b[96m2023-07-02 00:00:00.000\u001b[0m [\u001b[1mℹ️\u001b[0m] \u001b[1m\u001b[46m------ FIT -------\u001b[0m\u001b[1m\u001b[0m\n",
      "\u001b[96m2023-07-02 00:00:00.000\u001b[0m [\u001b[34m\u001b[1m🐞\u001b[0m] \u001b[34m\u001b[1m\u001b[32mTestD\u001b[0m\u001b[34m\u001b[1m is fitted\u001b[0m\n",
      "\u001b[96m2023-07-02 00:00:02.000\u001b[0m [\u001b[1mℹ️\u001b[0m] \u001b[1m\t - \u001b[33mBTCUSDT :: [2023-07-02T00:00:01.000000000]\t30573.55000 (0.0) | 30573.65000 (0.0)\u001b[0m\u001b[1m\u001b[0m\n",
      "\u001b[96m2023-07-02 00:00:02.000\u001b[0m [\u001b[1mℹ️\u001b[0m] \u001b[1mBTCUSDT[1h] | 25 records\n",
      "  2023-07-02T00:00:00.000000000 {o:30573.600000 | h:30573.600000 | l:30573.600000 | c:30573.600000 | v:0.000000}\n",
      "  2023-07-01T23:00:00.000000000 {o:30569.200000 | h:30594.700000 | l:30550.200000 | c:30573.600000 | v:3985.919436}\n",
      "  2023-07-01T22:00:00.000000000 {o:30574.700000 | h:30600.900000 | l:30534.300000 | c:30569.200000 | v:6319.010586}\n",
      "   .......... \n",
      "  2023-07-01T02:00:00.000000000 {o:30433.300000 | h:30522.000000 | l:30380.000000 | c:30408.400000 | v:18294.807238}\n",
      "  2023-07-01T01:00:00.000000000 {o:30459.100000 | h:30475.700000 | l:30367.400000 | c:30433.400000 | v:13273.737825}\n",
      "  2023-07-01T00:00:00.000000000 {o:30460.200000 | h:30527.200000 | l:30405.600000 | c:30459.100000 | v:18556.059812}\n",
      "\u001b[0m\n",
      "\u001b[96m2023-07-02 00:00:02.000\u001b[0m [\u001b[1mℹ️\u001b[0m] \u001b[1m\t - \u001b[33mETHUSDT :: [2023-07-02T00:00:01.000000000]\t1924.07500 (0.0) | 1924.08500 (0.0)\u001b[0m\u001b[1m\u001b[0m\n",
      "\u001b[96m2023-07-02 00:00:02.000\u001b[0m [\u001b[1mℹ️\u001b[0m] \u001b[1mETHUSDT[1h] | 20 records\n",
      "  2023-07-02T00:00:00.000000000 {o:1924.080000 | h:1924.080000 | l:1924.080000 | c:1924.080000 | v:0.000000}\n",
      "  2023-07-01T23:00:00.000000000 {o:1922.210000 | h:1925.000000 | l:1920.000000 | c:1924.080000 | v:58578.386284}\n",
      "  2023-07-01T22:00:00.000000000 {o:1922.790000 | h:1927.180000 | l:1920.000000 | c:1922.210000 | v:106331.706986}\n",
      "   .......... \n",
      "  2023-07-01T07:00:00.000000000 {o:1920.400000 | h:1920.920000 | l:1912.000000 | c:1919.800000 | v:82417.684090}\n",
      "  2023-07-01T06:00:00.000000000 {o:1918.480000 | h:1921.970000 | l:1914.390000 | c:1920.400000 | v:163649.196158}\n",
      "  2023-07-01T05:00:00.000000000 {o:1915.000000 | h:1918.970000 | l:1913.940000 | c:1918.480000 | v:113938.942012}\n",
      "\u001b[0m\n"
     ]
    },
    {
     "name": "stdout",
     "output_type": "stream",
     "text": [
      "\u001b[96m2023-07-02 00:59:59.000\u001b[0m [\u001b[1mℹ️\u001b[0m] \u001b[1mSimulatedDataProvider ::: Simulation finished at 2023-07-02 00:00:00 :::\u001b[0m\n",
      "\u001b[96m2023-07-02 00:59:59.000\u001b[0m [\u001b[34m\u001b[1m🐞\u001b[0m] \u001b[34m\u001b[1m(InMemoryCachedReader) Loading all data 2023-06-01 00:00:00 - 2024-12-27 17:53:15.913245 for BTCUSDT \u001b[0m\n",
      "\u001b[96m2023-07-02 00:59:59.000\u001b[0m [\u001b[34m\u001b[1m🐞\u001b[0m] \u001b[34m\u001b[1m\u001b[33mTestB\u001b[0m\u001b[34m\u001b[1m new parameters:\n",
      "\tset \u001b[32mshow_mkt\u001b[0m\u001b[34m\u001b[1m <- \u001b[31m0\u001b[0m\u001b[34m\u001b[1m\n",
      "\tset \u001b[32mapply_own_schedule\u001b[0m\u001b[34m\u001b[1m <- \u001b[31m0\u001b[0m\u001b[34m\u001b[1m\n",
      "\tset \u001b[32mma_period\u001b[0m\u001b[34m\u001b[1m <- \u001b[31m1h\u001b[0m\u001b[34m\u001b[1m\u001b[0m\n"
     ]
    }
   ],
   "source": [
    "class TestD(IStrategy):\n",
    "    show_mkt = False\n",
    "    _n_f = 0\n",
    "\n",
    "    def on_init(self, ctx: IStrategyContext):\n",
    "        ctx.set_fit_schedule(\"0 */4 * * *\")\n",
    "        ctx.set_event_schedule(\"0 */4 * * * 2\")\n",
    "        self._n_f = 0\n",
    "        # ctx.set_warmup({ DataType.OHLC: '24h' })\n",
    "        # ctx.set_warmup({ DataType.OHLC['1h']: '24h' })\n",
    "        # ctx.set_warmup({ DataType.OHLC['4h']: '24h' })\n",
    "\n",
    "    def on_fit(self, ctx: IStrategyContext):\n",
    "        logger.info(\"<C>------ FIT -------</C>\")\n",
    "        self._n_f += 1\n",
    "        if self._n_f == 2:\n",
    "            n_i = ctx.query_instrument(\"ETHUSDT\")\n",
    "            ctx.set_universe(ctx.instruments + [n_i])\n",
    "\n",
    "    def on_market_data(self, ctx: IStrategyContext, data: MarketEvent) -> list[Signal] | Signal | None:\n",
    "        if self.show_mkt:\n",
    "            logger.info(f'{data.instrument.symbol} market event ::: <g>{data.type}</g>\\t:::  -> {data.data}')\n",
    "\n",
    "    def on_event(self, ctx: IStrategyContext, event: TriggerEvent) -> list[Signal] | None:\n",
    "        for i in ctx.instruments:\n",
    "            logger.info(f\"\\t - <y>{i.symbol} :: {ctx.quote(i)}</y>\")\n",
    "            logger.info(f\"{ctx.ohlc(i, '1h')}\")\n",
    "\n",
    "r = simulate({'A': (stg:=TestD(show_mkt=0))}, { 'ohlc(4h)': l1 },\n",
    "   1000, ['BINANCE.UM:BTCUSDT' ],\n",
    "   \"vip0_usdt\", \"2023-07-01\", \"2023-07-02\", debug=\"DEBUG\", \n",
    "#    enable_event_batching=True,\n",
    "   open_close_time_indent_secs=1\n",
    ")"
   ]
  },
  {
   "cell_type": "markdown",
   "metadata": {},
   "source": [
    "# Set universe | subscribe tests"
   ]
  },
  {
   "cell_type": "code",
   "execution_count": null,
   "metadata": {},
   "outputs": [],
   "source": [
    "l1 = loader(\"BINANCE.UM\", \"1h\", source=\"csv::../tests/data/csv_1h\", n_jobs=1)\n",
    "\n",
    "class TestD(IStrategy):\n",
    "    _n_f = 0\n",
    "    test_n = \"set_universe\"\n",
    "\n",
    "    def on_init(self, ctx: IStrategyContext):\n",
    "        ctx.set_fit_schedule(\"0 */4 * * *\")\n",
    "        ctx.set_event_schedule(\"0 */4 * * * 1\")\n",
    "        ctx.set_warmup({ DataType.OHLC['1h']: '4h' })\n",
    "        self._n_f = 0\n",
    "\n",
    "    def on_fit(self, ctx: IStrategyContext):\n",
    "        logger.info(\"<R>||| FIT |||</R>\")\n",
    "        self._n_f += 1\n",
    "        if self._n_f == 2:\n",
    "            n_i = ctx.query_instrument(\"ETHUSDT\")\n",
    "\n",
    "            if self.test_n == \"set_universe\":\n",
    "                ctx.set_universe(ctx.instruments + [n_i])\n",
    "\n",
    "            if self.test_n == \"subscribe\":\n",
    "                ctx.subscribe(ctx.get_base_subscription(), n_i)\n",
    "\n",
    "    def on_event(self, ctx: IStrategyContext, event: TriggerEvent) -> list[Signal] | None:\n",
    "        for i in ctx.instruments:\n",
    "            logger.info(f'\\t<y>{i.symbol} ::: {ctx.quote(i)}</y>')\n",
    "\n",
    "r = simulate({\n",
    "        'A': TestD(test_n=\"set_universe\"),\n",
    "        'B': TestD(test_n=\"subscribe\")\n",
    "    }, { 'ohlc(4h)': l1 },\n",
    "   1000, ['BINANCE.UM:BTCUSDT' ], \"vip0_usdt\", \"2023-07-01\", \"2023-07-02\", debug=\"DEBUG\", \n",
    ")"
   ]
  },
  {
   "cell_type": "markdown",
   "metadata": {},
   "source": [
    "# Formed deals (TODO)"
   ]
  },
  {
   "cell_type": "code",
   "execution_count": 189,
   "metadata": {},
   "outputs": [],
   "source": [
    "T = pd.Timestamp\n",
    "\n",
    "S = pd.DataFrame({ \n",
    "    'BTCUSDT': {\n",
    "            T(\"2024-01-10 15:08:59.716000\"): {'signal': 1, 'exec_price': 10000.1},\n",
    "            T(\"2024-01-10 15:10:52.679000\"): {'signal': 1, 'exec_price': 10000.1},\n",
    "            T(\"2024-01-10 15:32:44.798000\"): {'signal': 1, 'exec_price': 10000.1},\n",
    "            T(\"2024-01-10 15:59:55.303000\"): {'signal': 1, 'exec_price': 10000.1},\n",
    "            T(\"2024-01-10 16:09:00.970000\"): {'signal': 1, 'exec_price': 10000.1},\n",
    "            T(\"2024-01-10 16:12:34.233000\"): {'signal': 1, 'exec_price': 10000.1},\n",
    "            T(\"2024-01-10 19:04:00.905000\"): {'signal': 1, 'exec_price': 10000.1},\n",
    "            T(\"2024-01-10 19:44:37.785000\"): {'signal': 1, 'exec_price': 10000.1},\n",
    "            T(\"2024-01-10 20:06:00.322000\"): {'signal': 1, 'exec_price': 10000.1},\n",
    "        }\n",
    "    }\n",
    ")"
   ]
  },
  {
   "cell_type": "code",
   "execution_count": 190,
   "metadata": {},
   "outputs": [
    {
     "data": {
      "text/html": [
       "<div>\n",
       "<style scoped>\n",
       "    .dataframe tbody tr th:only-of-type {\n",
       "        vertical-align: middle;\n",
       "    }\n",
       "\n",
       "    .dataframe tbody tr th {\n",
       "        vertical-align: top;\n",
       "    }\n",
       "\n",
       "    .dataframe thead th {\n",
       "        text-align: right;\n",
       "    }\n",
       "</style>\n",
       "<table border=\"1\" class=\"dataframe\">\n",
       "  <thead>\n",
       "    <tr style=\"text-align: right;\">\n",
       "      <th></th>\n",
       "      <th>BTCUSDT</th>\n",
       "    </tr>\n",
       "  </thead>\n",
       "  <tbody>\n",
       "    <tr>\n",
       "      <th>2024-01-10 15:08:59.716</th>\n",
       "      <td>{'signal': 1, 'exec_price': 10000.1}</td>\n",
       "    </tr>\n",
       "    <tr>\n",
       "      <th>2024-01-10 15:10:52.679</th>\n",
       "      <td>{'signal': 1, 'exec_price': 10000.1}</td>\n",
       "    </tr>\n",
       "    <tr>\n",
       "      <th>2024-01-10 15:32:44.798</th>\n",
       "      <td>{'signal': 1, 'exec_price': 10000.1}</td>\n",
       "    </tr>\n",
       "    <tr>\n",
       "      <th>2024-01-10 15:59:55.303</th>\n",
       "      <td>{'signal': 1, 'exec_price': 10000.1}</td>\n",
       "    </tr>\n",
       "    <tr>\n",
       "      <th>2024-01-10 16:09:00.970</th>\n",
       "      <td>{'signal': 1, 'exec_price': 10000.1}</td>\n",
       "    </tr>\n",
       "    <tr>\n",
       "      <th>2024-01-10 16:12:34.233</th>\n",
       "      <td>{'signal': 1, 'exec_price': 10000.1}</td>\n",
       "    </tr>\n",
       "    <tr>\n",
       "      <th>2024-01-10 19:04:00.905</th>\n",
       "      <td>{'signal': 1, 'exec_price': 10000.1}</td>\n",
       "    </tr>\n",
       "    <tr>\n",
       "      <th>2024-01-10 19:44:37.785</th>\n",
       "      <td>{'signal': 1, 'exec_price': 10000.1}</td>\n",
       "    </tr>\n",
       "    <tr>\n",
       "      <th>2024-01-10 20:06:00.322</th>\n",
       "      <td>{'signal': 1, 'exec_price': 10000.1}</td>\n",
       "    </tr>\n",
       "  </tbody>\n",
       "</table>\n",
       "</div>"
      ],
      "text/plain": [
       "                                                      BTCUSDT\n",
       "2024-01-10 15:08:59.716  {'signal': 1, 'exec_price': 10000.1}\n",
       "2024-01-10 15:10:52.679  {'signal': 1, 'exec_price': 10000.1}\n",
       "2024-01-10 15:32:44.798  {'signal': 1, 'exec_price': 10000.1}\n",
       "2024-01-10 15:59:55.303  {'signal': 1, 'exec_price': 10000.1}\n",
       "2024-01-10 16:09:00.970  {'signal': 1, 'exec_price': 10000.1}\n",
       "2024-01-10 16:12:34.233  {'signal': 1, 'exec_price': 10000.1}\n",
       "2024-01-10 19:04:00.905  {'signal': 1, 'exec_price': 10000.1}\n",
       "2024-01-10 19:44:37.785  {'signal': 1, 'exec_price': 10000.1}\n",
       "2024-01-10 20:06:00.322  {'signal': 1, 'exec_price': 10000.1}"
      ]
     },
     "execution_count": 190,
     "metadata": {},
     "output_type": "execute_result"
    }
   ],
   "source": [
    "S."
   ]
  },
  {
   "cell_type": "code",
   "execution_count": 186,
   "metadata": {},
   "outputs": [
    {
     "data": {
      "text/plain": [
       "True"
      ]
     },
     "execution_count": 186,
     "metadata": {},
     "output_type": "execute_result"
    }
   ],
   "source": [
    "_StructureSniffer()._is_signal(S)"
   ]
  },
  {
   "cell_type": "code",
   "execution_count": 95,
   "metadata": {},
   "outputs": [
    {
     "data": {
      "text/plain": [
       "numpy.datetime64('9999-12-31T23:59:59')"
      ]
     },
     "execution_count": 95,
     "metadata": {},
     "output_type": "execute_result"
    }
   ],
   "source": [
    "s = pd.Timestamp(\"2022-01-01 1:00:00.10020000\").to_datetime64().item() / 1000000000.0\n",
    "min(np.datetime64(int(s * 1000000000), 'ns'), np.datetime64(datetime.max).astype('datetime64[s]'))"
   ]
  },
  {
   "cell_type": "code",
   "execution_count": null,
   "metadata": {},
   "outputs": [],
   "source": [
    "r[0].to_html()"
   ]
  },
  {
   "cell_type": "code",
   "execution_count": 31,
   "metadata": {},
   "outputs": [
    {
     "data": {
      "text/plain": [
       "<Figure size 960x400 with 0 Axes>"
      ]
     },
     "metadata": {},
     "output_type": "display_data"
    }
   ],
   "source": [
    "r[0].to_file(\"Test2\")"
   ]
  },
  {
   "cell_type": "code",
   "execution_count": 33,
   "metadata": {},
   "outputs": [
    {
     "data": {
      "text/plain": [
       "'2024-12-19 15:35:56.545740'"
      ]
     },
     "execution_count": 33,
     "metadata": {},
     "output_type": "execute_result"
    }
   ],
   "source": [
    "str(r[0].creation_time)"
   ]
  },
  {
   "cell_type": "code",
   "execution_count": null,
   "metadata": {},
   "outputs": [],
   "source": [
    "tearsheet(r[0], plot_leverage=1)"
   ]
  },
  {
   "cell_type": "markdown",
   "metadata": {},
   "source": [
    "# Misc"
   ]
  },
  {
   "cell_type": "code",
   "execution_count": 38,
   "metadata": {},
   "outputs": [],
   "source": [
    "from qubx.utils.time import handle_start_stop"
   ]
  },
  {
   "cell_type": "code",
   "execution_count": 54,
   "metadata": {},
   "outputs": [
    {
     "data": {
      "text/plain": [
       "[Timestamp('2023-07-01 00:00:00'), Timestamp('2024-12-27 12:22:51.563422')]"
      ]
     },
     "execution_count": 54,
     "metadata": {},
     "output_type": "execute_result"
    }
   ],
   "source": [
    "handle_start_stop(pd.Timestamp(\"2023-07-01\"), \"now\", convert=pd.Timestamp)"
   ]
  }
 ],
 "metadata": {
  "kernelspec": {
   "display_name": ".venv",
   "language": "python",
   "name": "python3"
  },
  "language_info": {
   "codemirror_mode": {
    "name": "ipython",
    "version": 3
   },
   "file_extension": ".py",
   "mimetype": "text/x-python",
   "name": "python",
   "nbconvert_exporter": "python",
   "pygments_lexer": "ipython3",
   "version": "3.11.8"
  }
 },
 "nbformat": 4,
 "nbformat_minor": 2
}
