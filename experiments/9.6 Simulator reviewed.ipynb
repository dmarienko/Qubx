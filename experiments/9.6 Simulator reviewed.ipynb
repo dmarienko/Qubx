{
 "cells": [
  {
   "cell_type": "code",
   "execution_count": 1,
   "metadata": {},
   "outputs": [
    {
     "name": "stdout",
     "output_type": "stream",
     "text": [
      " >  [\u001b[32mdev\u001b[0m] \u001b[31minstalling cython rebuilding hook\u001b[0m\n",
      "\n",
      "⠀⠀⡰⡖⠒⠒⢒⢦⠀⠀   \n",
      "⠀⢠⠃⠈⢆⣀⣎⣀⣱⡀  \u001b[31mQUBX\u001b[0m | \u001b[36mQuantitative Backtesting Environment\u001b[0m \n",
      "⠀⢳⠒⠒⡞⠚⡄⠀⡰⠁         (c) 2024, ver. \u001b[35mDev\u001b[0m\n",
      "⠀⠀⠱⣜⣀⣀⣈⣦⠃⠀⠀⠀ \n",
      "        \n"
     ]
    },
    {
     "data": {
      "text/html": [
       "<style> .cell-output-ipywidget-background { background-color: transparent !important; } :root { --jp-widgets-color: var(--vscode-editor-foreground); --jp-widgets-font-size: var(--vscode-editor-font-size); } </style>"
      ],
      "text/plain": [
       "<IPython.core.display.HTML object>"
      ]
     },
     "metadata": {},
     "output_type": "display_data"
    }
   ],
   "source": [
    "import sys, os, re\n",
    "from typing import *\n",
    "sys.path = ([\"../src/\", \"../\"] if re.match(r\"^(\\w\\:\\\\)|(/)\", os.getcwd()) else []) + sys.path\n",
    "import qubx\n",
    "%qubxd dev \n",
    "\n",
    "%load_ext autoreload\n",
    "%autoreload 2\n",
    "\n",
    "from qubx import lookup, logger\n",
    "from qubx.core.basics import Subtype, Instrument, Signal\n",
    "from qubx.core.interfaces import IStrategy, IStrategyContext, TriggerEvent\n",
    "from qubx.core.metrics import tearsheet, chart_signals\n",
    "from qubx.pandaz.utils import *\n",
    "import qubx.ta.indicators as ta\n",
    "\n",
    "# - - - - - - - - - - - - - - - - - - - - - - - -\n",
    "from qubx.data.helpers import loader\n",
    "from qubx.backtester.simulated_data import IteratedDataStreamsSlicer, IterableSimulationData\n",
    "from qubx.core.mixins.subscription import SubscriptionManager\n",
    "\n",
    "from qubx.backtester.simulator import simulate, SimulatedTrading, SimulatedExchange, find_instruments_and_exchanges\n",
    "\n",
    "ld = loader(\"BINANCE.UM\", \"1h\", source=\"csv::../tests/data/csv_1h\", n_jobs=1)"
   ]
  },
  {
   "cell_type": "markdown",
   "metadata": {},
   "source": [
    "### Current approach "
   ]
  },
  {
   "cell_type": "code",
   "execution_count": 6,
   "metadata": {},
   "outputs": [],
   "source": [
    "class TestA(IStrategy):\n",
    "    \"\"\" Document your strategy here \"\"\"\n",
    "    timeframe: str = \"15Min\"\n",
    "    exchange = 'BINANCE.UM'\n",
    "\n",
    "    def on_init(self, ctx: IStrategyContext):\n",
    "        ctx.set_base_subscription(Subtype.OHLC[self.timeframe])\n",
    "        ctx.set_event_schedule(\"55 23 * * *\")\n",
    "        ctx.set_fit_schedule(\"50 23 * * 1\")\n",
    "        self._idx = 0\n",
    "        self._to_test = [\n",
    "            [self.find_instrument(s) for s in [\"BTCUSDT\", \"ETHUSDT\"]],\n",
    "            [self.find_instrument(s) for s in [\"BTCUSDT\", \"BCHUSDT\", \"LTCUSDT\"]],\n",
    "            [self.find_instrument(s) for s in [\"BTCUSDT\", \"AAVEUSDT\", \"ETHUSDT\"]],\n",
    "            [self.find_instrument(s) for s in [\"BCHUSDT\"]],\n",
    "        ]\n",
    "\n",
    "    def on_fit(self, ctx: IStrategyContext):\n",
    "        logger.info(f\" -> subscribe : {self.lst(self._to_test[self._idx])}\")\n",
    "        ctx.set_universe(self._to_test[self._idx])\n",
    "        self._idx += 1\n",
    "        if self._idx >= len(self._to_test):\n",
    "            self._idx = 0 \n",
    "\n",
    "    def on_event(self, ctx: IStrategyContext, event: TriggerEvent) -> Optional[List[Signal]]:\n",
    "        s = []\n",
    "        logger.info(f\"Trig: {self.lst(ctx.instruments)} --> {str({i.symbol: ctx.quote(i) for i in ctx.instruments})}\")\n",
    "        if 1:\n",
    "            for i in ctx.instruments:\n",
    "                data = ctx.ohlc(i, self.timeframe)\n",
    "                s1 = ta.kama(data.close, 36) - ta.kama(data.close, 12)\n",
    "                if len(s1) > 1:\n",
    "                    if s1[1] < 0 and s1[0] > 0:\n",
    "                        logger.info(f\"BUY: {i}\")\n",
    "                        s.append(ctx.instruments[0].signal(+1))\n",
    "\n",
    "                    if s1[1] > 0 and s1[0] < 0:\n",
    "                        logger.info(f\"SELL: {i}\")\n",
    "                        s.append(i.signal(-1))\n",
    "        return s\n",
    "\n",
    "    def find_instrument(self, symbol: str) -> Instrument:\n",
    "        return lookup.find_symbol(self.exchange, symbol) # type: ignore\n",
    "\n",
    "    def lst(self, instrs: list[Instrument]):\n",
    "        return ','.join(map(lambda x: x.symbol, instrs))\n"
   ]
  },
  {
   "cell_type": "code",
   "execution_count": null,
   "metadata": {},
   "outputs": [],
   "source": [
    "r = simulate(\n",
    "   # {'A': TestA(timeframe=\"1h\")}, ld, 1000, \n",
    "   variate(TestA, timeframe=[\"15Min\", \"30Min\", \"1h\"]), ld, 1000, \n",
    "   ['BINANCE.UM:BTCUSDT'],\n",
    "   \"vip0_usdt\", \"2023-07-01\", \"2023-07-30\", debug=\"DEBUG\"\n",
    ")"
   ]
  },
  {
   "cell_type": "code",
   "execution_count": 18,
   "metadata": {},
   "outputs": [
    {
     "data": {
      "text/html": [
       "<div>\n",
       "<style scoped>\n",
       "    .dataframe tbody tr th:only-of-type {\n",
       "        vertical-align: middle;\n",
       "    }\n",
       "\n",
       "    .dataframe tbody tr th {\n",
       "        vertical-align: top;\n",
       "    }\n",
       "\n",
       "    .dataframe thead th {\n",
       "        text-align: right;\n",
       "    }\n",
       "</style>\n",
       "<table border=\"1\" class=\"dataframe\">\n",
       "  <thead>\n",
       "    <tr style=\"text-align: right;\">\n",
       "      <th></th>\n",
       "      <th></th>\n",
       "      <th>Gain</th>\n",
       "      <th>Cagr</th>\n",
       "      <th>Sharpe</th>\n",
       "      <th>Qr</th>\n",
       "      <th>Max dd pct</th>\n",
       "      <th>Mdd usd</th>\n",
       "      <th>Sortino</th>\n",
       "      <th>Calmar</th>\n",
       "      <th>Tail ratio</th>\n",
       "      <th>Stability</th>\n",
       "      <th>Var</th>\n",
       "      <th>Avg return</th>\n",
       "      <th>Fees</th>\n",
       "      <th>Execs</th>\n",
       "    </tr>\n",
       "    <tr>\n",
       "      <th>id</th>\n",
       "      <th></th>\n",
       "      <th></th>\n",
       "      <th></th>\n",
       "      <th></th>\n",
       "      <th></th>\n",
       "      <th></th>\n",
       "      <th></th>\n",
       "      <th></th>\n",
       "      <th></th>\n",
       "      <th></th>\n",
       "      <th></th>\n",
       "      <th></th>\n",
       "      <th></th>\n",
       "      <th></th>\n",
       "      <th></th>\n",
       "    </tr>\n",
       "  </thead>\n",
       "  <tbody>\n",
       "    <tr>\n",
       "      <th>0</th>\n",
       "      <th>/TA_(t=15Min)</th>\n",
       "      <td>-659.24220</td>\n",
       "      <td>-0.999998</td>\n",
       "      <td>3.041389</td>\n",
       "      <td>-0.574773</td>\n",
       "      <td>106.709664</td>\n",
       "      <td>2215.990000</td>\n",
       "      <td>14.924458</td>\n",
       "      <td>-1.114604</td>\n",
       "      <td>2.524995</td>\n",
       "      <td>0.291326</td>\n",
       "      <td>1328.670529</td>\n",
       "      <td>14.507123</td>\n",
       "      <td>30.51720</td>\n",
       "      <td>4.0</td>\n",
       "    </tr>\n",
       "    <tr>\n",
       "      <th>2</th>\n",
       "      <th>/TA_(t=1h)</th>\n",
       "      <td>-668.58825</td>\n",
       "      <td>-0.999999</td>\n",
       "      <td>3.020462</td>\n",
       "      <td>-0.590899</td>\n",
       "      <td>106.811806</td>\n",
       "      <td>2220.000000</td>\n",
       "      <td>14.826988</td>\n",
       "      <td>-1.114604</td>\n",
       "      <td>2.536118</td>\n",
       "      <td>0.305066</td>\n",
       "      <td>1330.357952</td>\n",
       "      <td>14.414770</td>\n",
       "      <td>30.68325</td>\n",
       "      <td>4.0</td>\n",
       "    </tr>\n",
       "    <tr>\n",
       "      <th>1</th>\n",
       "      <th>/TA_(t=30Min)</th>\n",
       "      <td>-27.31788</td>\n",
       "      <td>-0.286085</td>\n",
       "      <td>-3.623893</td>\n",
       "      <td>-0.144373</td>\n",
       "      <td>4.877510</td>\n",
       "      <td>48.775097</td>\n",
       "      <td>-4.355597</td>\n",
       "      <td>-10.472455</td>\n",
       "      <td>0.000000</td>\n",
       "      <td>0.193378</td>\n",
       "      <td>8.682623</td>\n",
       "      <td>-0.091148</td>\n",
       "      <td>1.94288</td>\n",
       "      <td>2.0</td>\n",
       "    </tr>\n",
       "  </tbody>\n",
       "</table>\n",
       "</div>"
      ],
      "text/plain": [
       "                       Gain      Cagr    Sharpe        Qr  Max dd pct  \\\n",
       "id                                                                      \n",
       "0  /TA_(t=15Min) -659.24220 -0.999998  3.041389 -0.574773  106.709664   \n",
       "2  /TA_(t=1h)    -668.58825 -0.999999  3.020462 -0.590899  106.811806   \n",
       "1  /TA_(t=30Min)  -27.31788 -0.286085 -3.623893 -0.144373    4.877510   \n",
       "\n",
       "                      Mdd usd    Sortino     Calmar  Tail ratio  Stability  \\\n",
       "id                                                                           \n",
       "0  /TA_(t=15Min)  2215.990000  14.924458  -1.114604    2.524995   0.291326   \n",
       "2  /TA_(t=1h)     2220.000000  14.826988  -1.114604    2.536118   0.305066   \n",
       "1  /TA_(t=30Min)    48.775097  -4.355597 -10.472455    0.000000   0.193378   \n",
       "\n",
       "                          Var  Avg return      Fees  Execs  \n",
       "id                                                          \n",
       "0  /TA_(t=15Min)  1328.670529   14.507123  30.51720    4.0  \n",
       "2  /TA_(t=1h)     1330.357952   14.414770  30.68325    4.0  \n",
       "1  /TA_(t=30Min)     8.682623   -0.091148   1.94288    2.0  "
      ]
     },
     "execution_count": 18,
     "metadata": {},
     "output_type": "execute_result"
    },
    {
     "data": {
      "image/png": "[encoded data removed]",
      "text/plain": [
       "<Figure size 960x400 with 1 Axes>"
      ]
     },
     "metadata": {},
     "output_type": "display_data"
    }
   ],
   "source": [
    "tearsheet(r, False, use_plotly=False)"
   ]
  },
  {
   "cell_type": "code",
   "execution_count": 33,
   "metadata": {},
   "outputs": [
    {
     "data": {
      "text/plain": [
       "\"TestA(timeframe='1h', exchange='BINANCE.UM')\""
      ]
     },
     "execution_count": 33,
     "metadata": {},
     "output_type": "execute_result"
    }
   ],
   "source": [
    "r[2].config()"
   ]
  },
  {
   "cell_type": "code",
   "execution_count": null,
   "metadata": {},
   "outputs": [],
   "source": [
    "# chart_signals(r[0], 'BTCUSDT', ld[['BTCUSDT']], show_signals=True)"
   ]
  },
  {
   "cell_type": "markdown",
   "metadata": {},
   "source": [
    "### - What we want to have -"
   ]
  },
  {
   "cell_type": "code",
   "execution_count": 37,
   "metadata": {},
   "outputs": [],
   "source": [
    "class TestB(IStrategy):\n",
    "    timeframe: str = \"15Min\"\n",
    "\n",
    "    def on_event(self, ctx: IStrategyContext, event: TriggerEvent) -> Optional[List[Signal]]:\n",
    "        s = []\n",
    "        logger.info('Event')\n",
    "        if 0:\n",
    "            for i in ctx.instruments:\n",
    "                data = ctx.ohlc(i, self.timeframe)\n",
    "                s1 = ta.kama(data.close, 36) - ta.kama(data.close, 12)\n",
    "                if len(s1) > 1:\n",
    "                    if s1[1] < 0 and s1[0] > 0:\n",
    "                        logger.info(f\" >> BUY: {i}\")\n",
    "                        s.append(ctx.instruments[0].signal(+1))\n",
    "\n",
    "                    if s1[1] > 0 and s1[0] < 0:\n",
    "                        logger.info(f\"SELL: {i}\")\n",
    "                        s.append(i.signal(-1))\n",
    "        return s"
   ]
  },
  {
   "cell_type": "code",
   "execution_count": 38,
   "metadata": {},
   "outputs": [
    {
     "name": "stdout",
     "output_type": "stream",
     "text": [
      "\u001b[96m2023-07-30 00:59:59.000\u001b[0m [\u001b[34m\u001b[1m🐞\u001b[0m] \u001b[34m\u001b[1m\u001b[33mTestB\u001b[0m\u001b[34m\u001b[1m new parameters:\n",
      "\tset \u001b[32mtimeframe\u001b[0m\u001b[34m\u001b[1m <- \u001b[31m1h\u001b[0m\u001b[34m\u001b[1m\u001b[0m\n"
     ]
    },
    {
     "name": "stdout",
     "output_type": "stream",
     "text": [
      "\u001b[32m2024-12-09 15:31:32.110\u001b[0m [ \u001b[34m\u001b[1m🐞\u001b[0m ] \u001b[36m(simulator)\u001b[0m \u001b[34m\u001b[1m\u001b[31m2023-07-01 00:00:00\u001b[0m\u001b[34m\u001b[1m Initiating simulated trading for binance.um for 1000 x 1.0 in USDT...\u001b[0m\n",
      "\u001b[96m2023-07-01 00:00:00.000\u001b[0m [\u001b[1mℹ️\u001b[0m] \u001b[1mSimulatedTrading emulates stop orders executions at exact price\u001b[0m\n",
      "\u001b[96m2023-07-01 00:00:00.000\u001b[0m [\u001b[1mℹ️\u001b[0m] \u001b[1mSimulatedExchange.binance.um is initialized\u001b[0m\n",
      "\u001b[96m2023-07-01 00:00:00.000\u001b[0m [\u001b[34m\u001b[1m🐞\u001b[0m] \u001b[34m\u001b[1m | get_subscribed_instruments __all__ -> []\u001b[0m\n",
      "\u001b[96m2023-07-01 00:00:00.000\u001b[0m [\u001b[34m\u001b[1m🐞\u001b[0m] \u001b[34m\u001b[1m | get_subscriptions None -> []\u001b[0m\n"
     ]
    },
    {
     "data": {
      "application/vnd.jupyter.widget-view+json": {
       "model_id": "a2248af9a36c466e9a21d9a4f8ae1e60",
       "version_major": 2,
       "version_minor": 0
      },
      "text/plain": [
       "Simulating:   0%|          | 0/100 [00:00<?, ?%/s]"
      ]
     },
     "metadata": {},
     "output_type": "display_data"
    },
    {
     "name": "stdout",
     "output_type": "stream",
     "text": [
      "\u001b[96m2023-07-01 00:00:00.000\u001b[0m [\u001b[34m\u001b[1m🐞\u001b[0m] \u001b[34m\u001b[1m | get_subscribed_instruments ohlc(1Min) -> []\u001b[0m\n",
      "\u001b[96m2023-07-01 00:00:00.000\u001b[0m [\u001b[34m\u001b[1m🐞\u001b[0m] \u001b[34m\u001b[1m | get_subscribed_instruments None -> []\u001b[0m\n",
      "\u001b[96m2023-07-01 00:00:00.000\u001b[0m [\u001b[34m\u001b[1m🐞\u001b[0m] \u001b[34m\u001b[1m | get_subscribed_instruments ohlc(1Min) -> []\u001b[0m\n",
      "\u001b[96m2023-07-01 00:00:00.000\u001b[0m [\u001b[34m\u001b[1m🐞\u001b[0m] \u001b[34m\u001b[1m | subscribe: ohlc(1Min) -> {BINANCE.UM:SWAP:BTCUSDT}\u001b[0m\n",
      "\u001b[96m2023-07-01 00:00:00.000\u001b[0m [\u001b[1mℹ️\u001b[0m] \u001b[1mSimulatedExchange ::: Simulation started at 2023-07-01 :::\u001b[0m\n",
      "\u001b[96m2023-07-01 00:00:00.000\u001b[0m [\u001b[34m\u001b[1m🐞\u001b[0m] \u001b[34m\u001b[1mPreloading initial data for ohlc.1Min 2023-07-01 00:00:00 : 2023-07-02 00:00:00 ...\u001b[0m\n",
      "\u001b[96m2023-07-01 00:00:01.000\u001b[0m [\u001b[34m\u001b[1m🐞\u001b[0m] \u001b[34m\u001b[1mInvoking \u001b[32mTestB\u001b[0m\u001b[34m\u001b[1m on_fit\u001b[0m\n",
      "\u001b[96m2023-07-01 00:00:01.000\u001b[0m [\u001b[34m\u001b[1m🐞\u001b[0m] \u001b[34m\u001b[1m\u001b[32mTestB\u001b[0m\u001b[34m\u001b[1m is fitted\u001b[0m\n",
      "\u001b[96m2023-07-01 00:24:00.000\u001b[0m [\u001b[1mℹ️\u001b[0m] \u001b[1mEvent\u001b[0m\n",
      "\u001b[96m2023-07-01 00:36:00.000\u001b[0m [\u001b[1mℹ️\u001b[0m] \u001b[1mEvent\u001b[0m\n",
      "\u001b[96m2023-07-01 00:59:59.000\u001b[0m [\u001b[1mℹ️\u001b[0m] \u001b[1mEvent\u001b[0m\n",
      "\u001b[96m2023-07-01 01:24:00.000\u001b[0m [\u001b[1mℹ️\u001b[0m] \u001b[1mEvent\u001b[0m\n",
      "\u001b[96m2023-07-01 01:36:00.000\u001b[0m [\u001b[1mℹ️\u001b[0m] \u001b[1mEvent\u001b[0m\n",
      "\u001b[96m2023-07-01 01:59:59.000\u001b[0m [\u001b[1mℹ️\u001b[0m] \u001b[1mEvent\u001b[0m\n",
      "\u001b[96m2023-07-01 02:24:00.000\u001b[0m [\u001b[1mℹ️\u001b[0m] \u001b[1mEvent\u001b[0m\n",
      "\u001b[96m2023-07-01 02:36:00.000\u001b[0m [\u001b[1mℹ️\u001b[0m] \u001b[1mEvent\u001b[0m\n",
      "\u001b[96m2023-07-01 02:59:59.000\u001b[0m [\u001b[1mℹ️\u001b[0m] \u001b[1mEvent\u001b[0m\n",
      "\u001b[96m2023-07-01 03:24:00.000\u001b[0m [\u001b[1mℹ️\u001b[0m] \u001b[1mEvent\u001b[0m\n",
      "\u001b[96m2023-07-01 03:36:00.000\u001b[0m [\u001b[1mℹ️\u001b[0m] \u001b[1mEvent\u001b[0m\n",
      "\u001b[96m2023-07-01 03:59:59.000\u001b[0m [\u001b[1mℹ️\u001b[0m] \u001b[1mEvent\u001b[0m\n",
      "\u001b[96m2023-07-01 04:24:00.000\u001b[0m [\u001b[1mℹ️\u001b[0m] \u001b[1mEvent\u001b[0m\n",
      "\u001b[96m2023-07-01 04:36:00.000\u001b[0m [\u001b[1mℹ️\u001b[0m] \u001b[1mEvent\u001b[0m\n",
      "\u001b[96m2023-07-01 04:59:59.000\u001b[0m [\u001b[1mℹ️\u001b[0m] \u001b[1mEvent\u001b[0m\n",
      "\u001b[96m2023-07-01 05:24:00.000\u001b[0m [\u001b[1mℹ️\u001b[0m] \u001b[1mEvent\u001b[0m\n",
      "\u001b[96m2023-07-01 05:36:00.000\u001b[0m [\u001b[1mℹ️\u001b[0m] \u001b[1mEvent\u001b[0m\n",
      "\u001b[96m2023-07-01 05:59:59.000\u001b[0m [\u001b[1mℹ️\u001b[0m] \u001b[1mEvent\u001b[0m\n",
      "\u001b[96m2023-07-01 06:24:00.000\u001b[0m [\u001b[1mℹ️\u001b[0m] \u001b[1mEvent\u001b[0m\n",
      "\u001b[96m2023-07-01 06:36:00.000\u001b[0m [\u001b[1mℹ️\u001b[0m] \u001b[1mEvent\u001b[0m\n",
      "\u001b[96m2023-07-01 06:59:59.000\u001b[0m [\u001b[1mℹ️\u001b[0m] \u001b[1mEvent\u001b[0m\n",
      "\u001b[96m2023-07-01 07:24:00.000\u001b[0m [\u001b[1mℹ️\u001b[0m] \u001b[1mEvent\u001b[0m\n",
      "\u001b[96m2023-07-01 07:36:00.000\u001b[0m [\u001b[1mℹ️\u001b[0m] \u001b[1mEvent\u001b[0m\n",
      "\u001b[96m2023-07-01 07:59:59.000\u001b[0m [\u001b[1mℹ️\u001b[0m] \u001b[1mEvent\u001b[0m\n",
      "\u001b[96m2023-07-01 08:24:00.000\u001b[0m [\u001b[1mℹ️\u001b[0m] \u001b[1mEvent\u001b[0m\n",
      "\u001b[96m2023-07-01 08:36:00.000\u001b[0m [\u001b[1mℹ️\u001b[0m] \u001b[1mEvent\u001b[0m\n",
      "\u001b[96m2023-07-01 08:59:59.000\u001b[0m [\u001b[1mℹ️\u001b[0m] \u001b[1mEvent\u001b[0m\n",
      "\u001b[96m2023-07-01 09:24:00.000\u001b[0m [\u001b[1mℹ️\u001b[0m] \u001b[1mEvent\u001b[0m\n",
      "\u001b[96m2023-07-01 09:36:00.000\u001b[0m [\u001b[1mℹ️\u001b[0m] \u001b[1mEvent\u001b[0m\n",
      "\u001b[96m2023-07-01 09:59:59.000\u001b[0m [\u001b[1mℹ️\u001b[0m] \u001b[1mEvent\u001b[0m\n",
      "\u001b[96m2023-07-01 10:24:00.000\u001b[0m [\u001b[1mℹ️\u001b[0m] \u001b[1mEvent\u001b[0m\n",
      "\u001b[96m2023-07-01 10:36:00.000\u001b[0m [\u001b[1mℹ️\u001b[0m] \u001b[1mEvent\u001b[0m\n",
      "\u001b[96m2023-07-01 10:59:59.000\u001b[0m [\u001b[1mℹ️\u001b[0m] \u001b[1mEvent\u001b[0m\n",
      "\u001b[96m2023-07-01 11:24:00.000\u001b[0m [\u001b[1mℹ️\u001b[0m] \u001b[1mEvent\u001b[0m\n",
      "\u001b[96m2023-07-01 11:36:00.000\u001b[0m [\u001b[1mℹ️\u001b[0m] \u001b[1mEvent\u001b[0m\n",
      "\u001b[96m2023-07-01 11:59:59.000\u001b[0m [\u001b[1mℹ️\u001b[0m] \u001b[1mEvent\u001b[0m\n",
      "\u001b[96m2023-07-01 12:24:00.000\u001b[0m [\u001b[1mℹ️\u001b[0m] \u001b[1mEvent\u001b[0m\n",
      "\u001b[96m2023-07-01 12:36:00.000\u001b[0m [\u001b[1mℹ️\u001b[0m] \u001b[1mEvent\u001b[0m\n",
      "\u001b[96m2023-07-01 12:59:59.000\u001b[0m [\u001b[1mℹ️\u001b[0m] \u001b[1mEvent\u001b[0m\n",
      "\u001b[96m2023-07-01 13:24:00.000\u001b[0m [\u001b[1mℹ️\u001b[0m] \u001b[1mEvent\u001b[0m\n",
      "\u001b[96m2023-07-01 13:36:00.000\u001b[0m [\u001b[1mℹ️\u001b[0m] \u001b[1mEvent\u001b[0m\n",
      "\u001b[96m2023-07-01 13:59:59.000\u001b[0m [\u001b[1mℹ️\u001b[0m] \u001b[1mEvent\u001b[0m\n",
      "\u001b[96m2023-07-01 14:24:00.000\u001b[0m [\u001b[1mℹ️\u001b[0m] \u001b[1mEvent\u001b[0m\n",
      "\u001b[96m2023-07-01 14:36:00.000\u001b[0m [\u001b[1mℹ️\u001b[0m] \u001b[1mEvent\u001b[0m\n",
      "\u001b[96m2023-07-01 14:59:59.000\u001b[0m [\u001b[1mℹ️\u001b[0m] \u001b[1mEvent\u001b[0m\n",
      "\u001b[96m2023-07-01 15:24:00.000\u001b[0m [\u001b[1mℹ️\u001b[0m] \u001b[1mEvent\u001b[0m\n",
      "\u001b[96m2023-07-01 15:36:00.000\u001b[0m [\u001b[1mℹ️\u001b[0m] \u001b[1mEvent\u001b[0m\n",
      "\u001b[96m2023-07-01 15:59:59.000\u001b[0m [\u001b[1mℹ️\u001b[0m] \u001b[1mEvent\u001b[0m\n",
      "\u001b[96m2023-07-01 16:24:00.000\u001b[0m [\u001b[1mℹ️\u001b[0m] \u001b[1mEvent\u001b[0m\n",
      "\u001b[96m2023-07-01 16:36:00.000\u001b[0m [\u001b[1mℹ️\u001b[0m] \u001b[1mEvent\u001b[0m\n",
      "\u001b[96m2023-07-01 16:59:59.000\u001b[0m [\u001b[1mℹ️\u001b[0m] \u001b[1mEvent\u001b[0m\n",
      "\u001b[96m2023-07-01 17:24:00.000\u001b[0m [\u001b[1mℹ️\u001b[0m] \u001b[1mEvent\u001b[0m\n",
      "\u001b[96m2023-07-01 17:36:00.000\u001b[0m [\u001b[1mℹ️\u001b[0m] \u001b[1mEvent\u001b[0m\n",
      "\u001b[96m2023-07-01 17:59:59.000\u001b[0m [\u001b[1mℹ️\u001b[0m] \u001b[1mEvent\u001b[0m\n",
      "\u001b[96m2023-07-01 18:24:00.000\u001b[0m [\u001b[1mℹ️\u001b[0m] \u001b[1mEvent\u001b[0m\n",
      "\u001b[96m2023-07-01 18:36:00.000\u001b[0m [\u001b[1mℹ️\u001b[0m] \u001b[1mEvent\u001b[0m\n",
      "\u001b[96m2023-07-01 18:59:59.000\u001b[0m [\u001b[1mℹ️\u001b[0m] \u001b[1mEvent\u001b[0m\n",
      "\u001b[96m2023-07-01 19:24:00.000\u001b[0m [\u001b[1mℹ️\u001b[0m] \u001b[1mEvent\u001b[0m\n",
      "\u001b[96m2023-07-01 19:36:00.000\u001b[0m [\u001b[1mℹ️\u001b[0m] \u001b[1mEvent\u001b[0m\n",
      "\u001b[96m2023-07-01 19:59:59.000\u001b[0m [\u001b[1mℹ️\u001b[0m] \u001b[1mEvent\u001b[0m\n",
      "\u001b[96m2023-07-01 20:24:00.000\u001b[0m [\u001b[1mℹ️\u001b[0m] \u001b[1mEvent\u001b[0m\n",
      "\u001b[96m2023-07-01 20:36:00.000\u001b[0m [\u001b[1mℹ️\u001b[0m] \u001b[1mEvent\u001b[0m\n",
      "\u001b[96m2023-07-01 20:59:59.000\u001b[0m [\u001b[1mℹ️\u001b[0m] \u001b[1mEvent\u001b[0m\n",
      "\u001b[96m2023-07-01 21:24:00.000\u001b[0m [\u001b[1mℹ️\u001b[0m] \u001b[1mEvent\u001b[0m\n",
      "\u001b[96m2023-07-01 21:36:00.000\u001b[0m [\u001b[1mℹ️\u001b[0m] \u001b[1mEvent\u001b[0m\n",
      "\u001b[96m2023-07-01 21:59:59.000\u001b[0m [\u001b[1mℹ️\u001b[0m] \u001b[1mEvent\u001b[0m\n",
      "\u001b[96m2023-07-01 22:24:00.000\u001b[0m [\u001b[1mℹ️\u001b[0m] \u001b[1mEvent\u001b[0m\n",
      "\u001b[96m2023-07-01 22:36:00.000\u001b[0m [\u001b[1mℹ️\u001b[0m] \u001b[1mEvent\u001b[0m\n",
      "\u001b[96m2023-07-01 22:59:59.000\u001b[0m [\u001b[1mℹ️\u001b[0m] \u001b[1mEvent\u001b[0m\n",
      "\u001b[96m2023-07-01 23:24:00.000\u001b[0m [\u001b[1mℹ️\u001b[0m] \u001b[1mEvent\u001b[0m\n",
      "\u001b[96m2023-07-01 23:36:00.000\u001b[0m [\u001b[1mℹ️\u001b[0m] \u001b[1mEvent\u001b[0m\n",
      "\u001b[96m2023-07-01 23:59:59.000\u001b[0m [\u001b[1mℹ️\u001b[0m] \u001b[1mEvent\u001b[0m\n",
      "\u001b[96m2023-07-02 00:24:00.000\u001b[0m [\u001b[1mℹ️\u001b[0m] \u001b[1mEvent\u001b[0m\n",
      "\u001b[96m2023-07-02 00:36:00.000\u001b[0m [\u001b[1mℹ️\u001b[0m] \u001b[1mEvent\u001b[0m\n",
      "\u001b[96m2023-07-02 00:59:59.000\u001b[0m [\u001b[1mℹ️\u001b[0m] \u001b[1mEvent\u001b[0m\n",
      "\u001b[96m2023-07-02 00:59:59.000\u001b[0m [\u001b[1mℹ️\u001b[0m] \u001b[1mSimulatedExchange ::: Simulation finished at 2023-07-02 00:00:00 :::\u001b[0m\n"
     ]
    }
   ],
   "source": [
    "r = simulate(\n",
    "   {'A': TestB(timeframe=\"1h\")}, ld, 1000, \n",
    "   ['BINANCE.UM:BTCUSDT'],\n",
    "   # \"vip0_usdt\", \"2023-06-22\", \"2023-07-30\", debug=\"DEBUG\",\n",
    "   \"vip0_usdt\", \"2023-07-01\", \"2023-07-02\", debug=\"DEBUG\",\n",
    "\n",
    "   accurate_stop_orders_execution=True,\n",
    "   # simulation=\"ohlc(1h)\",\n",
    "   \n",
    ")"
   ]
  },
  {
   "cell_type": "code",
   "execution_count": 89,
   "metadata": {},
   "outputs": [
    {
     "data": {
      "text/plain": [
       "\"TestB(timeframe='1h')\""
      ]
     },
     "execution_count": 89,
     "metadata": {},
     "output_type": "execute_result"
    }
   ],
   "source": [
    "r[0].config()"
   ]
  },
  {
   "cell_type": "code",
   "execution_count": null,
   "metadata": {},
   "outputs": [],
   "source": [
    "simulate.configs.ON_CLOSE()"
   ]
  },
  {
   "cell_type": "code",
   "execution_count": null,
   "metadata": {},
   "outputs": [],
   "source": [
    "tearsheet(r, False)"
   ]
  },
  {
   "cell_type": "code",
   "execution_count": null,
   "metadata": {},
   "outputs": [],
   "source": [
    "chart_signals(r[0], 'BTCUSDT', ld[['BTCUSDT']], show_signals=True)"
   ]
  },
  {
   "cell_type": "code",
   "execution_count": null,
   "metadata": {},
   "outputs": [],
   "source": []
  }
 ],
 "metadata": {
  "kernelspec": {
   "display_name": ".venv",
   "language": "python",
   "name": "python3"
  },
  "language_info": {
   "codemirror_mode": {
    "name": "ipython",
    "version": 3
   },
   "file_extension": ".py",
   "mimetype": "text/x-python",
   "name": "python",
   "nbconvert_exporter": "python",
   "pygments_lexer": "ipython3",
   "version": "3.11.8"
  }
 },
 "nbformat": 4,
 "nbformat_minor": 2
}
