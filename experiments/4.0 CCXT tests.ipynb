{
 "cells": [
  {
   "cell_type": "code",
   "execution_count": 1,
   "metadata": {},
   "outputs": [
    {
     "name": "stdout",
     "output_type": "stream",
     "text": [
      " >  [\u001b[32mdev\u001b[0m] \u001b[31minstalled cython rebuilding hook\u001b[0m\n",
      "\n",
      "                   \u001b[31m╻\u001b[0m\n",
      "   \u001b[32m┏┓      ╻     \u001b[0m  \u001b[31m┃\u001b[0m  \u001b[33m┏┓\u001b[0m       \u001b[36mQuantitative Backtesting Environment\u001b[0m \n",
      "   \u001b[32m┃┃  ┓┏  ┣┓  ┏┓\u001b[0m  \u001b[31m┃\u001b[0m  \u001b[33m┏┛\u001b[0m       \n",
      "   \u001b[32m┗┻  ┗┻  ┗┛  ┗ \u001b[0m  \u001b[31m┃\u001b[0m  \u001b[33m┗━\u001b[0m       (c) 2024,  ver. \u001b[35mDev\u001b[0m\n",
      "                   \u001b[31m╹\u001b[0m       \n",
      "\n"
     ]
    }
   ],
   "source": [
    "import sys, os, re; sys.path = ([\"../src/\", \"../\"] if re.match(r'^(\\w\\:\\\\)|(/)', os.getcwd()) else [])+ sys.path \n",
    "\n",
    "import ccxt as cx\n",
    "from typing import Any, Optional, List\n",
    "import ccxt.pro as cxp\n",
    "from ccxt.base.decimal_to_precision import ROUND_UP\n",
    "import asyncio\n",
    "import nest_asyncio\n",
    "nest_asyncio.apply()\n",
    "\n",
    "from ccxt.base.exchange import Exchange\n",
    "from threading import Thread, Event, Lock\n",
    "from queue import Queue\n",
    "# from multiprocessing import Queue #as Queue\n",
    "\n",
    "import qubx\n",
    "%qubxd\n",
    "\n",
    "%load_ext autoreload\n",
    "%autoreload 2\n",
    "\n",
    "from qubx import lookup\n",
    "from qubx.core.series import TimeSeries, Bar, Trade, Quote, OHLCV\n",
    "from qubx.core.strategy import IStrategy, StrategyContext, TriggerEvent\n",
    "from qubx.core.basics import Instrument, Position, Signal, TransactionCostsCalculator, dt_64\n",
    "from qubx.impl.ccxt_connector import CCXTConnector, CtrlChannel, BinanceQV"
   ]
  },
  {
   "cell_type": "markdown",
   "metadata": {},
   "source": [
    "# Common"
   ]
  },
  {
   "cell_type": "code",
   "execution_count": null,
   "metadata": {},
   "outputs": [],
   "source": [
    "lookup.instruments['KRAKEN.F:BTC/USD']"
   ]
  },
  {
   "cell_type": "code",
   "execution_count": 34,
   "metadata": {},
   "outputs": [
    {
     "data": {
      "text/plain": [
       "Instrument(symbol='BTCUSDT', market_type='CRYPTO', exchange='BINANCE.UM', base='BTC', quote='USDT', margin_symbol='USDT', min_tick=0.1, min_size_step=0.001, min_size=0.001, futures_info=FuturesInfo(contract_type='PERPETUAL', delivery_date=datetime.datetime(2100, 12, 25, 10, 0), onboard_date=datetime.datetime(2019, 9, 25, 11, 0), contract_size=1.0, maint_margin=2.5, required_margin=5.0, liquidation_fee=0.0125), _aux_instrument=None)"
      ]
     },
     "execution_count": 34,
     "metadata": {},
     "output_type": "execute_result"
    }
   ],
   "source": [
    "instr = lookup.instruments.find('BINANCE.UM', 'BTC', 'USDT')\n",
    "instr"
   ]
  },
  {
   "cell_type": "code",
   "execution_count": 39,
   "metadata": {},
   "outputs": [
    {
     "data": {
      "text/plain": [
       "Instrument(symbol='ETH/BTC', market_type='spot', exchange='KRAKEN', base='ETH', quote='BTC', margin_symbol=None, min_tick=1e-05, min_size_step=1e-05, min_size=1e-08, futures_info=None, _aux_instrument=None)"
      ]
     },
     "execution_count": 39,
     "metadata": {},
     "output_type": "execute_result"
    }
   ],
   "source": [
    "instr = lookup.instruments.find('KRAKEN', 'BTC', 'ETH')\n",
    "instr"
   ]
  },
  {
   "cell_type": "code",
   "execution_count": 38,
   "metadata": {},
   "outputs": [
    {
     "data": {
      "text/plain": [
       "Instrument(symbol='BTC/USD', market_type='spot', exchange='KRAKEN', base='BTC', quote='USD', margin_symbol=None, min_tick=0.1, min_size_step=0.1, min_size=1e-08, futures_info=None, _aux_instrument=None)"
      ]
     },
     "execution_count": 38,
     "metadata": {},
     "output_type": "execute_result"
    }
   ],
   "source": [
    "lookup.find_aux_instrument_for(instr, 'USD')"
   ]
  },
  {
   "cell_type": "code",
   "execution_count": 46,
   "metadata": {},
   "outputs": [],
   "source": [
    "bu = cxp.binanceusdm()\n",
    "bs = cxp.binance()\n",
    "ks = cxp.kraken()\n",
    "kf = cxp.krakenfutures()"
   ]
  },
  {
   "cell_type": "markdown",
   "metadata": {},
   "source": [
    "# Get OHLC [TODO]"
   ]
  },
  {
   "cell_type": "code",
   "execution_count": 47,
   "metadata": {},
   "outputs": [],
   "source": [
    "bs_markets = await bs.load_markets()\n",
    "bu_markets = await bu.load_markets()\n",
    "kf_markets = await kf.load_markets()\n",
    "ks_markets = await ks.load_markets()"
   ]
  },
  {
   "cell_type": "code",
   "execution_count": 53,
   "metadata": {},
   "outputs": [
    {
     "data": {
      "text/plain": [
       "60"
      ]
     },
     "execution_count": 53,
     "metadata": {},
     "output_type": "execute_result"
    }
   ],
   "source": [
    "bu.parse_timeframe('1m')"
   ]
  },
  {
   "cell_type": "code",
   "execution_count": null,
   "metadata": {},
   "outputs": [],
   "source": [
    "interval = bu.parse_timeframe('1m') * 1000\n",
    "orderbook_max_levels_limit = 100\n",
    "since = bu.round_timeframe('1m', bu.milliseconds(), ROUND_UP) - orderbook_max_levels_limit * interval\n",
    "await bu.fetch_ohlcv('ETH/USDT', '1m', since=since, limit=orderbook_max_levels_limit)"
   ]
  },
  {
   "cell_type": "code",
   "execution_count": null,
   "metadata": {},
   "outputs": [],
   "source": [
    "# await bnc1.fetch_ohlcv('ETH/USDT', '1m', since=since, limit=limit)"
   ]
  },
  {
   "cell_type": "code",
   "execution_count": 57,
   "metadata": {},
   "outputs": [],
   "source": [
    "cxc = CCXT_connector('binance')"
   ]
  },
  {
   "cell_type": "markdown",
   "metadata": {},
   "source": []
  },
  {
   "cell_type": "markdown",
   "metadata": {},
   "source": [
    "# Listen to data"
   ]
  },
  {
   "cell_type": "code",
   "execution_count": 3,
   "metadata": {},
   "outputs": [],
   "source": [
    "class RunThread(Thread):\n",
    "    def __init__(self, channel: CtrlChannel):\n",
    "        self.result = None\n",
    "        self.ch = channel\n",
    "        self.loops = []\n",
    "        super().__init__()\n",
    "\n",
    "    def add(self, func, *args, **kwargs):\n",
    "        self.loops.append(func(self.ch, *args, **kwargs))\n",
    "\n",
    "    async def run_loop(self):\n",
    "        self.result = await asyncio.gather(*self.loops)\n",
    "\n",
    "    def run(self):\n",
    "        self.ch.control.set()\n",
    "        asyncio.run(self.run_loop())\n",
    "\n",
    "    def stop(self):\n",
    "        self.ch.control.clear()\n",
    "        self.ch.queue.put((None, None)) # send sentinel\n",
    "\n",
    "\n",
    "async def listen_to_trades(channel: CtrlChannel, exchange: Exchange, symbols: List[str]):\n",
    "    method = 'watchTrades'\n",
    "    if exchange.has[method]:\n",
    "        # lock = channel.lock\n",
    "        while channel.control.is_set():\n",
    "            try:\n",
    "                # c_time = exchange.iso8601(exchange.milliseconds())\n",
    "                trades = await exchange.watch_trades_for_symbols(symbols)\n",
    "                # lock.acquire()\n",
    "                for trade in trades:\n",
    "                    # trade = trades[-1]\n",
    "                    t_ns = trade['timestamp'] * 1_000_000 # this is trade time \n",
    "                    s = trade['symbol']\n",
    "                    info = trade['info']\n",
    "                    price = trade['price']\n",
    "                    m = info['m']\n",
    "                    amnt = trade['amount'] # in base currency\n",
    "                    tas = Trade(t_ns, price, amnt, int(not m), int(trade['id']))\n",
    "                    channel.queue.put((s, tas))\n",
    "                # lock.release()\n",
    "                # print(trade, flush=True)\n",
    "                # print(f\"\\t[{c_time}] {s} : {str(tas)}\", flush=True)\n",
    "            except Exception as e:\n",
    "                print(type(e).__name__, str(e), flush=True)\n",
    "                await exchange.close()\n",
    "                raise e\n",
    "    else:\n",
    "        raise Exception(exchange.id + ' ' + method + ' is not supported or not implemented yet')\n",
    "\n",
    "\n",
    "async def listen_to_orderbook(channel: CtrlChannel, exchange: Exchange, symbols: List[str], orderbook_max_levels_limit=5):\n",
    "    lock = channel.lock\n",
    "    while channel.control.is_set():\n",
    "        try:\n",
    "            orderbook = await exchange.watch_order_book_for_symbols(symbols, limit=orderbook_max_levels_limit)\n",
    "            # - check what this time is ?\n",
    "            t_ns = orderbook['timestamp'] * 1_000_000\n",
    "            s = orderbook['symbol']\n",
    "            b, a = orderbook['bids'], orderbook['asks']\n",
    "            q = Quote(t_ns, b[0][0], a[0][0], b[0][1], a[0][1])\n",
    "            # lock.acquire()\n",
    "            channel.queue.put((s, q))\n",
    "            # lock.release()\n",
    "            # c_time = exchange.iso8601(exchange.milliseconds())\n",
    "            # print(f\"[{c_time}] {s} : {str(q)}\", flush=True)\n",
    "        except Exception as e:\n",
    "            print(type(e).__name__, str(e), flush=True)\n",
    "            await exchange.close()\n",
    "            raise e\n",
    " \n",
    "\n",
    "async def receiver(channel: CtrlChannel):\n",
    "    sers = {}\n",
    "    print(\"START LISTENING\", flush=True)\n",
    "    T, Q = 0, 0\n",
    "    while channel.control.is_set():\n",
    "        s, data = channel.queue.get()\n",
    "        if isinstance(data, Quote):\n",
    "            if not (Q % 100):\n",
    "                print(s, data, flush=True)\n",
    "                Q = 0\n",
    "            Q += 1\n",
    "        if isinstance(data, Trade):\n",
    "            if s not in sers:\n",
    "                sers[s] = TimeSeries(s, '1Min')\n",
    "            ts = sers[s]\n",
    "            ts.update(data.time, data.price)\n",
    "            if not (T % 100):\n",
    "                print(s, data, flush=True)\n",
    "                T = 0\n",
    "            T += 1\n",
    "        if isinstance(data, Bar):\n",
    "            # print(f\"{s} {pd.Timestamp(data.time, unit='ns')}: {data}\", flush=True)\n",
    "            if s not in sers:\n",
    "                sers[s] = {}\n",
    "            sers[s][data.time] = data\n",
    "\n",
    "    print(f\"STOP LISTENING: {str(sers)}\", flush=True)\n",
    "    return sers "
   ]
  },
  {
   "cell_type": "code",
   "execution_count": 4,
   "metadata": {},
   "outputs": [],
   "source": [
    "def prefetch_ohlcs(exchange: Exchange, symbol: str, timeframe: str, nbarsback: int):\n",
    "    assert nbarsback > 1\n",
    "    start = ((pd.Timestamp('now', tz='UTC') - nbarsback * pd.Timedelta(timeframe)).asm8.item()//1000000) if nbarsback > 1 else None \n",
    "    ohlcv = exchange.fetch_ohlcv(symbol, timeframe, since=start, limit=nbarsback + 1)\n",
    "    return ohlcv\n",
    "\n",
    "async def listen_to_ohlcv(channel: CtrlChannel, exchange: Exchange, \n",
    "                          symbol: List[str], timeframe: str, nbarsback: int):\n",
    "    # - check if we need to load initial 'snapshot'\n",
    "    if nbarsback > 1:\n",
    "        ohlcv = await prefetch_ohlcs(exchange, symbol, timeframe, nbarsback)\n",
    "        for oh in ohlcv:\n",
    "            b = Bar(oh[0] * 1_000_000, oh[1], oh[2], oh[3], oh[4], oh[6], oh[7])\n",
    "            channel.queue.put((symbol, b))\n",
    "\n",
    "    while channel.control.is_set():\n",
    "        try:\n",
    "            ohlcv = await exchange.watch_ohlcv(symbol, timeframe)\n",
    "            for oh in ohlcv:\n",
    "                b = Bar(oh[0] * 1000000, oh[1], oh[2], oh[3], oh[4], oh[6], oh[7])\n",
    "                channel.queue.put((symbol, b))\n",
    "        except Exception as e:\n",
    "            print(type(e).__name__, str(e), flush=True)\n",
    "            await exchange.close()\n",
    "            raise e"
   ]
  },
  {
   "cell_type": "code",
   "execution_count": 5,
   "metadata": {},
   "outputs": [],
   "source": [
    "symbs = ['1INCHUSDT', 'AGLDUSDT', 'APEUSDT', 'ARBUSDT', 'AUCTIONUSDT', 'BANDUSDT', 'BATUSDT', 'C98USDT', 'COMPUSDT', 'CYBERUSDT',\n",
    "        'DYDXUSDT', 'ENSUSDT', 'FXSUSDT', 'HFTUSDT', 'ICXUSDT', 'IOSTUSDT', 'IOTAUSDT', 'IOTXUSDT', 'LDOUSDT', 'LQTYUSDT', 'LTCUSDT',\n",
    "        'MASKUSDT', 'MBOXUSDT', 'MINAUSDT', 'MTLUSDT', 'OGNUSDT', 'OPUSDT', 'PEOPLEUSDT', 'POLSUSDT', 'PYRUSDT', 'QNTUSDT', 'RADUSDT',\n",
    "        'RDNTUSDT', 'RIFUSDT', 'RLCUSDT', 'SEIUSDT', 'SPELLUSDT', 'SSVUSDT', 'STGUSDT', 'STXUSDT', 'SUIUSDT', 'UMAUSDT', 'WAVESUSDT']"
   ]
  },
  {
   "cell_type": "code",
   "execution_count": 6,
   "metadata": {},
   "outputs": [
    {
     "name": "stdout",
     "output_type": "stream",
     "text": [
      "START LISTENING\n"
     ]
    }
   ],
   "source": [
    "chan = CtrlChannel('ticks')\n",
    "reader = RunThread(chan)\n",
    "reader.add(receiver)\n",
    "reader.start()"
   ]
  },
  {
   "cell_type": "code",
   "execution_count": 7,
   "metadata": {},
   "outputs": [],
   "source": [
    "# bu = cxp.binanceusdm()\n",
    "# bu = cxp.binance()\n",
    "bu = BinanceQV()\n",
    "# bu = getattr(cxp, 'binanceqv')()\n",
    "t1 = RunThread(chan)\n",
    "for s in symbs:\n",
    "    t1.add(listen_to_ohlcv, bu, s, '15m', 10)\n",
    "\n",
    "# t1.add(listen_to_ohlcv, bu, 'BTCUSDT', '5m', 10)\n",
    "# t1.add(listen_to_ohlcv, bu, 'ETHUSDT', '5m', 10)\n",
    "# t1.add(listen_to_ohlcv, bu, 'LTCUSDT', '5m', 10)\n",
    "# t1.add(listen_to_ohlcv, bu, 'SOLUSDT', '5m', 10)\n",
    "# t1.add(listen_to_trades, bu, ['BTCUSDT', 'ETHUSDT', 'SOLUSDT'])\n",
    "# t1.add(listen_to_orderbook, bu, ['BTCUSDT', 'ETHUSDT', 'SOLUSDT'])\n",
    "t1.start()"
   ]
  },
  {
   "cell_type": "code",
   "execution_count": 10,
   "metadata": {},
   "outputs": [],
   "source": [
    "reader.stop()\n",
    "t1.stop()"
   ]
  },
  {
   "cell_type": "code",
   "execution_count": null,
   "metadata": {},
   "outputs": [],
   "source": [
    "print(len(reader.result[0]), len(symbs))\n",
    "reader.result[0]"
   ]
  },
  {
   "cell_type": "markdown",
   "metadata": {},
   "source": [
    "# StrategyCtx"
   ]
  },
  {
   "cell_type": "code",
   "execution_count": 232,
   "metadata": {},
   "outputs": [],
   "source": [
    "from qubx import logger\n",
    "\n",
    "class ZeroStrat(IStrategy):\n",
    "    param1: int = 0\n",
    "\n",
    "    def on_start(self, ctx: StrategyContext):\n",
    "        logger.info(f\"> Started with param1 = {self.param1}\")\n",
    "\n",
    "    def on_event(self, ctx: StrategyContext, event: TriggerEvent) -> Optional[List[Signal]]:\n",
    "        logger.info(f\"{event.time} -> {event}\")\n",
    "        print(ctx.ohlc(ctx.instruments[0], '1Min'))\n",
    "        return None\n",
    "\n",
    "    def on_stop(self, ctx: StrategyContext):\n",
    "        logger.info(f\"> stopped\")"
   ]
  },
  {
   "cell_type": "code",
   "execution_count": 234,
   "metadata": {},
   "outputs": [
    {
     "data": {
      "text/plain": [
       "numpy.datetime64('2024-03-28T15:10:13.707052000')"
      ]
     },
     "execution_count": 234,
     "metadata": {},
     "output_type": "execute_result"
    }
   ],
   "source": [
    "cc = CCXTConnector('binance')\n",
    "cc.time()"
   ]
  },
  {
   "cell_type": "code",
   "execution_count": null,
   "metadata": {},
   "outputs": [],
   "source": [
    "# cc.get_historical_ohlcs('BTCUSDT', '1d', 20)"
   ]
  },
  {
   "cell_type": "code",
   "execution_count": 235,
   "metadata": {},
   "outputs": [
    {
     "name": "stdout",
     "output_type": "stream",
     "text": [
      "\u001b[32m2024-03-28 17:10:14.549\u001b[0m [ \u001b[1mℹ️\u001b[0m ] \u001b[1mSet param1 -> 1\u001b[0m\n"
     ]
    }
   ],
   "source": [
    "ctx = StrategyContext(\n",
    "    ZeroStrat(), dict(param1 = 1), cc, cc, \n",
    "    instruments=lookup.instruments[r'BINANCE:(BTC|ETH|LTC)USDT'],\n",
    "    fees_spec='vip0_usdt', base_currency='USDT',\n",
    "\n",
    "    md_subscription=dict(type='ohlc', timeframe='1Min', nback=10),\n",
    "    trigger=dict(type='bar', delay='-1s', timeframe='1Min')\n",
    ")"
   ]
  },
  {
   "cell_type": "code",
   "execution_count": 236,
   "metadata": {},
   "outputs": [
    {
     "name": "stdout",
     "output_type": "stream",
     "text": [
      "\u001b[32m2024-03-28 17:10:15.516\u001b[0m [ \u001b[1mℹ️\u001b[0m ] \u001b[1mSubscribing to ohlc updates using {'timeframe': '1Min', 'nback': 10} for \n",
      "\t['BTCUSDT', 'ETHUSDT', 'LTCUSDT'] \u001b[0m\n",
      "\u001b[32m2024-03-28 17:10:15.517\u001b[0m [ \u001b[1mℹ️\u001b[0m ] \u001b[1m> Started with param1 = 1\u001b[0m\n",
      "\u001b[32m2024-03-28 17:10:15.519\u001b[0m [ \u001b[1mℹ️\u001b[0m ] \u001b[1m> Data processor started\u001b[0m\n",
      "\u001b[32m2024-03-28 17:10:15.519\u001b[0m [ \u001b[1mℹ️\u001b[0m ] \u001b[1m> Market data subscribtions started\u001b[0m\n",
      "\u001b[32m2024-03-28 17:10:15.521\u001b[0m [ \u001b[1mℹ️\u001b[0m ] \u001b[1mStart processing market data\u001b[0m\n"
     ]
    }
   ],
   "source": [
    "ctx.start()"
   ]
  },
  {
   "cell_type": "code",
   "execution_count": 228,
   "metadata": {},
   "outputs": [
    {
     "name": "stdout",
     "output_type": "stream",
     "text": [
      "\u001b[32m2024-03-28 17:09:34.047\u001b[0m [ \u001b[1mℹ️\u001b[0m ] \u001b[1mMarket data processing finished\u001b[0m\n"
     ]
    }
   ],
   "source": [
    "ctx.stop()"
   ]
  },
  {
   "cell_type": "code",
   "execution_count": null,
   "metadata": {},
   "outputs": [],
   "source": [
    "ctx.ohlc('BTCUSDT', '1Min')"
   ]
  },
  {
   "cell_type": "code",
   "execution_count": 233,
   "metadata": {},
   "outputs": [],
   "source": [
    "await cc.exch.close()"
   ]
  },
  {
   "cell_type": "code",
   "execution_count": null,
   "metadata": {},
   "outputs": [],
   "source": [
    "# cc.close()"
   ]
  },
  {
   "cell_type": "markdown",
   "metadata": {},
   "source": [
    "<hr/>"
   ]
  },
  {
   "cell_type": "markdown",
   "metadata": {},
   "source": [
    "# Misc"
   ]
  },
  {
   "cell_type": "code",
   "execution_count": 105,
   "metadata": {},
   "outputs": [
    {
     "name": "stdout",
     "output_type": "stream",
     "text": [
      "The autoreload extension is already loaded. To reload it, use:\n",
      "  %reload_ext autoreload\n"
     ]
    }
   ],
   "source": [
    "%load_ext autoreload\n",
    "%autoreload 2\n",
    "\n",
    "from qubx.utils.time import convert_tf_str_td64\n",
    "from qubx.core.utils import recognize_time\n",
    "from qubx.core.strategy import OhlcvsHolder"
   ]
  },
  {
   "cell_type": "code",
   "execution_count": 136,
   "metadata": {},
   "outputs": [
    {
     "data": {
      "text/plain": [
       "Empty DataFrame\n",
       "Columns: [open, high, low, close, volume, bought_volume]\n",
       "Index: []"
      ]
     },
     "execution_count": 136,
     "metadata": {},
     "output_type": "execute_result"
    }
   ],
   "source": [
    "holder = OhlcvsHolder('1Min')\n",
    "holder.get_ohlcv('ETH', '1Min')\n",
    "holder.get_ohlcv('ETH', '5Min')"
   ]
  },
  {
   "cell_type": "code",
   "execution_count": 137,
   "metadata": {},
   "outputs": [
    {
     "data": {
      "text/plain": [
       "                     open  high  low  close  volume  bought_volume\n",
       "timestamp                                                         \n",
       "2020-01-01 00:00:00   1.0   1.0  1.0    1.0     1.0            0.0\n",
       "2020-01-01 00:01:00   1.0   4.0  1.0    3.0     2.0            1.0\n",
       "2020-01-01 00:03:00   1.0   4.0  1.0    3.0     2.0            1.0\n",
       "2020-01-01 00:04:00   1.0   4.0  1.0    3.0     2.0            1.0\n",
       "2020-01-01 00:05:00   1.0   4.0  1.0    3.0     2.0           11.0"
      ]
     },
     "execution_count": 137,
     "metadata": {},
     "output_type": "execute_result"
    }
   ],
   "source": [
    "holder.update_by_bar('ETH', Bar(recognize_time('2020-01-01 00:00'), 1, 1, 1, 1, 1))\n",
    "holder.update_by_bar('ETH', Bar(recognize_time('2020-01-01 00:01'), 1, 4, 1, 3, 2, 1))\n",
    "holder.update_by_bar('ETH', Bar(recognize_time('2020-01-01 00:03'), 1, 4, 1, 3, 2, 1))\n",
    "holder.update_by_bar('ETH', Bar(recognize_time('2020-01-01 00:03'), 1, 4, 1, 3, 2, 1))\n",
    "holder.update_by_bar('ETH', Bar(recognize_time('2020-01-01 00:04'), 1, 4, 1, 3, 2, 1))\n",
    "holder.update_by_bar('ETH', Bar(recognize_time('2020-01-01 00:05'), 1, 4, 1, 3, 2, 1))\n",
    "holder.update_by_bar('ETH', Bar(recognize_time('2020-01-01 00:05'), 1, 4, 1, 3, 2, 2))\n",
    "holder.update_by_bar('ETH', Bar(recognize_time('2020-01-01 00:05'), 1, 4, 1, 3, 2, 11))\n",
    "holder.update_by_bar('ETH', Bar(recognize_time('2020-01-01 00:05'), 1, 4, 1, 3, 2, 11))\n",
    "holder.get_ohlcv('ETH', '1Min')"
   ]
  },
  {
   "cell_type": "code",
   "execution_count": 138,
   "metadata": {},
   "outputs": [
    {
     "data": {
      "text/plain": [
       "                     open  high  low  close  volume  bought_volume\n",
       "timestamp                                                         \n",
       "2020-01-01 00:00:00   1.0   1.0  1.0    1.0     1.0            0.0\n",
       "2020-01-01 00:01:00   1.0   4.0  1.0    3.0     2.0            1.0\n",
       "2020-01-01 00:03:00   1.0   4.0  1.0    3.0     2.0            1.0\n",
       "2020-01-01 00:04:00   1.0   4.0  1.0    3.0     2.0            1.0\n",
       "2020-01-01 00:05:00   1.0   4.0  1.0    3.0     2.0           11.0"
      ]
     },
     "execution_count": 138,
     "metadata": {},
     "output_type": "execute_result"
    }
   ],
   "source": [
    "holder.get_ohlcv('ETH', '1Min')"
   ]
  },
  {
   "cell_type": "code",
   "execution_count": 129,
   "metadata": {},
   "outputs": [
    {
     "data": {
      "text/plain": [
       "                     open  high  low  close  volume  bought_volume\n",
       "timestamp                                                         \n",
       "2020-01-01 00:00:00   1.0   4.0  1.0    3.0     7.0            3.0\n",
       "2020-01-01 00:05:00   1.0   4.0  1.0    3.0     2.0           11.0"
      ]
     },
     "execution_count": 129,
     "metadata": {},
     "output_type": "execute_result"
    }
   ],
   "source": [
    "holder.get_ohlcv('ETH', '5Min')"
   ]
  },
  {
   "cell_type": "code",
   "execution_count": null,
   "metadata": {},
   "outputs": [],
   "source": [
    "# OHLCV.test = lambda self: print(\"TETET\")"
   ]
  },
  {
   "cell_type": "code",
   "execution_count": 3,
   "metadata": {},
   "outputs": [],
   "source": [
    "from qubx.core.series import TimeSeries, Bar, Trade, Quote, OHLCV"
   ]
  },
  {
   "cell_type": "code",
   "execution_count": 8,
   "metadata": {},
   "outputs": [
    {
     "data": {
      "text/plain": [
       "1"
      ]
     },
     "execution_count": 8,
     "metadata": {},
     "output_type": "execute_result"
    }
   ],
   "source": [
    "ser0 = OHLCV('test', '5Min')\n",
    "ser0.update_by_bar(recognize_time('2020-01-01 00:00:00').item(), 1, 1, 1, 1, 10, 1)\n",
    "ser0.update_by_bar(recognize_time('2020-01-01 00:01:00').item(), 2, 2, 2, 2, 1, 2)\n",
    "ser0.update_by_bar(recognize_time('2020-01-01 00:06:00').item(), 1, 2, 2, 2, 10)"
   ]
  },
  {
   "cell_type": "code",
   "execution_count": 9,
   "metadata": {},
   "outputs": [
    {
     "data": {
      "text/plain": [
       "                     open  high  low  close  volume  bought_volume\n",
       "timestamp                                                         \n",
       "2020-01-01 00:00:00   1.0   2.0  1.0    2.0    11.0            3.0\n",
       "2020-01-01 00:05:00   1.0   2.0  2.0    2.0    10.0            0.0"
      ]
     },
     "execution_count": 9,
     "metadata": {},
     "output_type": "execute_result"
    }
   ],
   "source": [
    "ser0"
   ]
  }
 ],
 "metadata": {
  "kernelspec": {
   "display_name": "p311qbx",
   "language": "python",
   "name": "python3"
  },
  "language_info": {
   "codemirror_mode": {
    "name": "ipython",
    "version": 3
   },
   "file_extension": ".py",
   "mimetype": "text/x-python",
   "name": "python",
   "nbconvert_exporter": "python",
   "pygments_lexer": "ipython3",
   "version": "3.11.8"
  }
 },
 "nbformat": 4,
 "nbformat_minor": 2
}
