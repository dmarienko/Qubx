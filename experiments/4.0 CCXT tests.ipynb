{
 "cells": [
  {
   "cell_type": "code",
   "execution_count": 1,
   "metadata": {},
   "outputs": [
    {
     "name": "stdout",
     "output_type": "stream",
     "text": [
      " >  [\u001b[32mdev\u001b[0m] \u001b[31minstalled cython rebuilding hook\u001b[0m\n",
      "\n",
      "                   \u001b[31m╻\u001b[0m\n",
      "   \u001b[32m┏┓      ╻     \u001b[0m  \u001b[31m┃\u001b[0m  \u001b[33m┏┓\u001b[0m       \u001b[36mQuantitative Backtesting Environment\u001b[0m \n",
      "   \u001b[32m┃┃  ┓┏  ┣┓  ┏┓\u001b[0m  \u001b[31m┃\u001b[0m  \u001b[33m┏┛\u001b[0m       \n",
      "   \u001b[32m┗┻  ┗┻  ┗┛  ┗ \u001b[0m  \u001b[31m┃\u001b[0m  \u001b[33m┗━\u001b[0m       (c) 2024,  ver. \u001b[35mDev\u001b[0m\n",
      "                   \u001b[31m╹\u001b[0m       \n",
      "\n"
     ]
    }
   ],
   "source": [
    "import sys, os, re; sys.path = ([\"../src/\", \"../\"] if re.match(r'^(\\w\\:\\\\)|(/)', os.getcwd()) else [])+ sys.path \n",
    "\n",
    "import ccxt as cx\n",
    "from typing import Any, Optional, List\n",
    "import ccxt.pro as cxp\n",
    "from ccxt.base.decimal_to_precision import ROUND_UP\n",
    "import asyncio\n",
    "import nest_asyncio\n",
    "nest_asyncio.apply()\n",
    "\n",
    "from ccxt.base.exchange import Exchange\n",
    "from threading import Thread, Event, Lock\n",
    "from queue import Queue\n",
    "# from multiprocessing import Queue #as Queue\n",
    "\n",
    "import qubx\n",
    "%qubxd\n",
    "\n",
    "%load_ext autoreload\n",
    "%autoreload 2\n",
    "\n",
    "from qubx import lookup\n",
    "from qubx.core.series import TimeSeries, Bar, Trade, Quote, OHLCV\n",
    "from qubx.core.strategy import IStrategy, StrategyContext, TriggerEvent\n",
    "from qubx.core.basics import Instrument, Position, Signal, TransactionCostsCalculator, dt_64\n",
    "from qubx.impl.ccxt_connector import CCXTConnector, CtrlChannel, BinanceQV\n",
    "from qubx.utils.pandas import ohlc_resample"
   ]
  },
  {
   "cell_type": "markdown",
   "metadata": {},
   "source": [
    "# Common"
   ]
  },
  {
   "cell_type": "code",
   "execution_count": null,
   "metadata": {},
   "outputs": [],
   "source": [
    "lookup.instruments['KRAKEN.F:BTC/USD']"
   ]
  },
  {
   "cell_type": "code",
   "execution_count": 34,
   "metadata": {},
   "outputs": [
    {
     "data": {
      "text/plain": [
       "Instrument(symbol='BTCUSDT', market_type='CRYPTO', exchange='BINANCE.UM', base='BTC', quote='USDT', margin_symbol='USDT', min_tick=0.1, min_size_step=0.001, min_size=0.001, futures_info=FuturesInfo(contract_type='PERPETUAL', delivery_date=datetime.datetime(2100, 12, 25, 10, 0), onboard_date=datetime.datetime(2019, 9, 25, 11, 0), contract_size=1.0, maint_margin=2.5, required_margin=5.0, liquidation_fee=0.0125), _aux_instrument=None)"
      ]
     },
     "execution_count": 34,
     "metadata": {},
     "output_type": "execute_result"
    }
   ],
   "source": [
    "instr = lookup.instruments.find('BINANCE.UM', 'BTC', 'USDT')\n",
    "instr"
   ]
  },
  {
   "cell_type": "code",
   "execution_count": 39,
   "metadata": {},
   "outputs": [
    {
     "data": {
      "text/plain": [
       "Instrument(symbol='ETH/BTC', market_type='spot', exchange='KRAKEN', base='ETH', quote='BTC', margin_symbol=None, min_tick=1e-05, min_size_step=1e-05, min_size=1e-08, futures_info=None, _aux_instrument=None)"
      ]
     },
     "execution_count": 39,
     "metadata": {},
     "output_type": "execute_result"
    }
   ],
   "source": [
    "instr = lookup.instruments.find('KRAKEN', 'BTC', 'ETH')\n",
    "instr"
   ]
  },
  {
   "cell_type": "code",
   "execution_count": 38,
   "metadata": {},
   "outputs": [
    {
     "data": {
      "text/plain": [
       "Instrument(symbol='BTC/USD', market_type='spot', exchange='KRAKEN', base='BTC', quote='USD', margin_symbol=None, min_tick=0.1, min_size_step=0.1, min_size=1e-08, futures_info=None, _aux_instrument=None)"
      ]
     },
     "execution_count": 38,
     "metadata": {},
     "output_type": "execute_result"
    }
   ],
   "source": [
    "lookup.find_aux_instrument_for(instr, 'USD')"
   ]
  },
  {
   "cell_type": "code",
   "execution_count": 46,
   "metadata": {},
   "outputs": [],
   "source": [
    "bu = cxp.binanceusdm()\n",
    "bs = cxp.binance()\n",
    "ks = cxp.kraken()\n",
    "kf = cxp.krakenfutures()"
   ]
  },
  {
   "cell_type": "markdown",
   "metadata": {},
   "source": [
    "# Get OHLC [TODO]"
   ]
  },
  {
   "cell_type": "code",
   "execution_count": 47,
   "metadata": {},
   "outputs": [],
   "source": [
    "bs_markets = await bs.load_markets()\n",
    "bu_markets = await bu.load_markets()\n",
    "kf_markets = await kf.load_markets()\n",
    "ks_markets = await ks.load_markets()"
   ]
  },
  {
   "cell_type": "code",
   "execution_count": 53,
   "metadata": {},
   "outputs": [
    {
     "data": {
      "text/plain": [
       "60"
      ]
     },
     "execution_count": 53,
     "metadata": {},
     "output_type": "execute_result"
    }
   ],
   "source": [
    "bu.parse_timeframe('1m')"
   ]
  },
  {
   "cell_type": "code",
   "execution_count": null,
   "metadata": {},
   "outputs": [],
   "source": [
    "interval = bu.parse_timeframe('1m') * 1000\n",
    "orderbook_max_levels_limit = 100\n",
    "since = bu.round_timeframe('1m', bu.milliseconds(), ROUND_UP) - orderbook_max_levels_limit * interval\n",
    "await bu.fetch_ohlcv('ETH/USDT', '1m', since=since, limit=orderbook_max_levels_limit)"
   ]
  },
  {
   "cell_type": "code",
   "execution_count": null,
   "metadata": {},
   "outputs": [],
   "source": [
    "# await bnc1.fetch_ohlcv('ETH/USDT', '1m', since=since, limit=limit)"
   ]
  },
  {
   "cell_type": "code",
   "execution_count": 57,
   "metadata": {},
   "outputs": [],
   "source": [
    "cxc = CCXT_connector('binance')"
   ]
  },
  {
   "cell_type": "markdown",
   "metadata": {},
   "source": []
  },
  {
   "cell_type": "markdown",
   "metadata": {},
   "source": [
    "# Listen to data"
   ]
  },
  {
   "cell_type": "code",
   "execution_count": 3,
   "metadata": {},
   "outputs": [],
   "source": [
    "class RunThread(Thread):\n",
    "    def __init__(self, channel: CtrlChannel):\n",
    "        self.result = None\n",
    "        self.ch = channel\n",
    "        self.loops = []\n",
    "        super().__init__()\n",
    "\n",
    "    def add(self, func, *args, **kwargs):\n",
    "        self.loops.append(func(self.ch, *args, **kwargs))\n",
    "\n",
    "    async def run_loop(self):\n",
    "        self.result = await asyncio.gather(*self.loops)\n",
    "\n",
    "    def run(self):\n",
    "        self.ch.control.set()\n",
    "        asyncio.run(self.run_loop())\n",
    "\n",
    "    def stop(self):\n",
    "        self.ch.control.clear()\n",
    "        self.ch.queue.put((None, None)) # send sentinel\n",
    "\n",
    "\n",
    "async def listen_to_trades(channel: CtrlChannel, exchange: Exchange, symbols: List[str]):\n",
    "    method = 'watchTrades'\n",
    "    if exchange.has[method]:\n",
    "        # lock = channel.lock\n",
    "        while channel.control.is_set():\n",
    "            try:\n",
    "                # c_time = exchange.iso8601(exchange.milliseconds())\n",
    "                trades = await exchange.watch_trades_for_symbols(symbols)\n",
    "                # lock.acquire()\n",
    "                for trade in trades:\n",
    "                    # trade = trades[-1]\n",
    "                    t_ns = trade['timestamp'] * 1_000_000 # this is trade time \n",
    "                    s = trade['symbol']\n",
    "                    info = trade['info']\n",
    "                    price = trade['price']\n",
    "                    m = info['m']\n",
    "                    amnt = trade['amount'] # in base currency\n",
    "                    tas = Trade(t_ns, price, amnt, int(not m), int(trade['id']))\n",
    "                    channel.queue.put((s, tas))\n",
    "                # lock.release()\n",
    "                # print(trade, flush=True)\n",
    "                # print(f\"\\t[{c_time}] {s} : {str(tas)}\", flush=True)\n",
    "            except Exception as e:\n",
    "                print(type(e).__name__, str(e), flush=True)\n",
    "                await exchange.close()\n",
    "                raise e\n",
    "    else:\n",
    "        raise Exception(exchange.id + ' ' + method + ' is not supported or not implemented yet')\n",
    "\n",
    "\n",
    "async def listen_to_orderbook(channel: CtrlChannel, exchange: Exchange, symbols: List[str], orderbook_max_levels_limit=5):\n",
    "    lock = channel.lock\n",
    "    while channel.control.is_set():\n",
    "        try:\n",
    "            orderbook = await exchange.watch_order_book_for_symbols(symbols, limit=orderbook_max_levels_limit)\n",
    "            # - check what this time is ?\n",
    "            t_ns = orderbook['timestamp'] * 1_000_000\n",
    "            s = orderbook['symbol']\n",
    "            b, a = orderbook['bids'], orderbook['asks']\n",
    "            q = Quote(t_ns, b[0][0], a[0][0], b[0][1], a[0][1])\n",
    "            # lock.acquire()\n",
    "            channel.queue.put((s, q))\n",
    "            # lock.release()\n",
    "            # c_time = exchange.iso8601(exchange.milliseconds())\n",
    "            # print(f\"[{c_time}] {s} : {str(q)}\", flush=True)\n",
    "        except Exception as e:\n",
    "            print(type(e).__name__, str(e), flush=True)\n",
    "            await exchange.close()\n",
    "            raise e\n",
    " \n",
    "\n",
    "async def receiver(channel: CtrlChannel):\n",
    "    sers = {}\n",
    "    print(\"START LISTENING\", flush=True)\n",
    "    T, Q = 0, 0\n",
    "    while channel.control.is_set():\n",
    "        s, data = channel.queue.get()\n",
    "        if isinstance(data, Quote):\n",
    "            if not (Q % 100):\n",
    "                print(s, data, flush=True)\n",
    "                Q = 0\n",
    "            Q += 1\n",
    "        if isinstance(data, Trade):\n",
    "            if s not in sers:\n",
    "                sers[s] = TimeSeries(s, '1Min')\n",
    "            ts = sers[s]\n",
    "            ts.update(data.time, data.price)\n",
    "            if not (T % 100):\n",
    "                print(s, data, flush=True)\n",
    "                T = 0\n",
    "            T += 1\n",
    "        if isinstance(data, Bar):\n",
    "            # print(f\"{s} {pd.Timestamp(data.time, unit='ns')}: {data}\", flush=True)\n",
    "            if s not in sers:\n",
    "                sers[s] = {}\n",
    "            sers[s][data.time] = data\n",
    "\n",
    "    print(f\"STOP LISTENING: {str(sers)}\", flush=True)\n",
    "    return sers "
   ]
  },
  {
   "cell_type": "code",
   "execution_count": 4,
   "metadata": {},
   "outputs": [],
   "source": [
    "def prefetch_ohlcs(exchange: Exchange, symbol: str, timeframe: str, nbarsback: int):\n",
    "    assert nbarsback > 1\n",
    "    start = ((pd.Timestamp('now', tz='UTC') - nbarsback * pd.Timedelta(timeframe)).asm8.item()//1000000) if nbarsback > 1 else None \n",
    "    ohlcv = exchange.fetch_ohlcv(symbol, timeframe, since=start, limit=nbarsback + 1)\n",
    "    return ohlcv\n",
    "\n",
    "async def listen_to_ohlcv(channel: CtrlChannel, exchange: Exchange, \n",
    "                          symbol: List[str], timeframe: str, nbarsback: int):\n",
    "    # - check if we need to load initial 'snapshot'\n",
    "    if nbarsback > 1:\n",
    "        ohlcv = await prefetch_ohlcs(exchange, symbol, timeframe, nbarsback)\n",
    "        for oh in ohlcv:\n",
    "            b = Bar(oh[0] * 1_000_000, oh[1], oh[2], oh[3], oh[4], oh[6], oh[7])\n",
    "            channel.queue.put((symbol, b))\n",
    "\n",
    "    while channel.control.is_set():\n",
    "        try:\n",
    "            ohlcv = await exchange.watch_ohlcv(symbol, timeframe)\n",
    "            for oh in ohlcv:\n",
    "                b = Bar(oh[0] * 1000000, oh[1], oh[2], oh[3], oh[4], oh[6], oh[7])\n",
    "                channel.queue.put((symbol, b))\n",
    "        except Exception as e:\n",
    "            print(type(e).__name__, str(e), flush=True)\n",
    "            await exchange.close()\n",
    "            raise e"
   ]
  },
  {
   "cell_type": "code",
   "execution_count": 5,
   "metadata": {},
   "outputs": [],
   "source": [
    "symbs = ['1INCHUSDT', 'AGLDUSDT', 'APEUSDT', 'ARBUSDT', 'AUCTIONUSDT', 'BANDUSDT', 'BATUSDT', 'C98USDT', 'COMPUSDT', 'CYBERUSDT',\n",
    "        'DYDXUSDT', 'ENSUSDT', 'FXSUSDT', 'HFTUSDT', 'ICXUSDT', 'IOSTUSDT', 'IOTAUSDT', 'IOTXUSDT', 'LDOUSDT', 'LQTYUSDT', 'LTCUSDT',\n",
    "        'MASKUSDT', 'MBOXUSDT', 'MINAUSDT', 'MTLUSDT', 'OGNUSDT', 'OPUSDT', 'PEOPLEUSDT', 'POLSUSDT', 'PYRUSDT', 'QNTUSDT', 'RADUSDT',\n",
    "        'RDNTUSDT', 'RIFUSDT', 'RLCUSDT', 'SEIUSDT', 'SPELLUSDT', 'SSVUSDT', 'STGUSDT', 'STXUSDT', 'SUIUSDT', 'UMAUSDT', 'WAVESUSDT']"
   ]
  },
  {
   "cell_type": "code",
   "execution_count": 6,
   "metadata": {},
   "outputs": [
    {
     "name": "stdout",
     "output_type": "stream",
     "text": [
      "START LISTENING\n"
     ]
    }
   ],
   "source": [
    "chan = CtrlChannel('ticks')\n",
    "reader = RunThread(chan)\n",
    "reader.add(receiver)\n",
    "reader.start()"
   ]
  },
  {
   "cell_type": "code",
   "execution_count": 7,
   "metadata": {},
   "outputs": [],
   "source": [
    "# bu = cxp.binanceusdm()\n",
    "# bu = cxp.binance()\n",
    "bu = BinanceQV()\n",
    "# bu = getattr(cxp, 'binanceqv')()\n",
    "t1 = RunThread(chan)\n",
    "for s in symbs:\n",
    "    t1.add(listen_to_ohlcv, bu, s, '15m', 10)\n",
    "\n",
    "# t1.add(listen_to_ohlcv, bu, 'BTCUSDT', '5m', 10)\n",
    "# t1.add(listen_to_ohlcv, bu, 'ETHUSDT', '5m', 10)\n",
    "# t1.add(listen_to_ohlcv, bu, 'LTCUSDT', '5m', 10)\n",
    "# t1.add(listen_to_ohlcv, bu, 'SOLUSDT', '5m', 10)\n",
    "# t1.add(listen_to_trades, bu, ['BTCUSDT', 'ETHUSDT', 'SOLUSDT'])\n",
    "# t1.add(listen_to_orderbook, bu, ['BTCUSDT', 'ETHUSDT', 'SOLUSDT'])\n",
    "t1.start()"
   ]
  },
  {
   "cell_type": "code",
   "execution_count": 10,
   "metadata": {},
   "outputs": [],
   "source": [
    "reader.stop()\n",
    "t1.stop()"
   ]
  },
  {
   "cell_type": "code",
   "execution_count": null,
   "metadata": {},
   "outputs": [],
   "source": [
    "print(len(reader.result[0]), len(symbs))\n",
    "reader.result[0]"
   ]
  },
  {
   "cell_type": "markdown",
   "metadata": {},
   "source": [
    "# StrategyCtx"
   ]
  },
  {
   "cell_type": "code",
   "execution_count": 232,
   "metadata": {},
   "outputs": [],
   "source": [
    "from qubx import logger\n",
    "\n",
    "class ZeroStrat(IStrategy):\n",
    "    param1: int = 0\n",
    "\n",
    "    def on_start(self, ctx: StrategyContext):\n",
    "        logger.info(f\"> Started with param1 = {self.param1}\")\n",
    "\n",
    "    def on_event(self, ctx: StrategyContext, event: TriggerEvent) -> Optional[List[Signal]]:\n",
    "        logger.info(f\"{event.time} -> {event}\")\n",
    "        print(ctx.ohlc(ctx.instruments[0], '1Min'))\n",
    "        return None\n",
    "\n",
    "    def on_stop(self, ctx: StrategyContext):\n",
    "        logger.info(f\"> stopped\")"
   ]
  },
  {
   "cell_type": "code",
   "execution_count": 234,
   "metadata": {},
   "outputs": [
    {
     "data": {
      "text/plain": [
       "numpy.datetime64('2024-03-28T15:10:13.707052000')"
      ]
     },
     "execution_count": 234,
     "metadata": {},
     "output_type": "execute_result"
    }
   ],
   "source": [
    "cc = CCXTConnector('binance')\n",
    "cc.time()"
   ]
  },
  {
   "cell_type": "code",
   "execution_count": null,
   "metadata": {},
   "outputs": [],
   "source": [
    "# cc.get_historical_ohlcs('BTCUSDT', '1d', 20)"
   ]
  },
  {
   "cell_type": "code",
   "execution_count": 235,
   "metadata": {},
   "outputs": [
    {
     "name": "stdout",
     "output_type": "stream",
     "text": [
      "\u001b[32m2024-03-28 17:10:14.549\u001b[0m [ \u001b[1mℹ️\u001b[0m ] \u001b[1mSet param1 -> 1\u001b[0m\n"
     ]
    }
   ],
   "source": [
    "ctx = StrategyContext(\n",
    "    ZeroStrat(), dict(param1 = 1), cc, cc, \n",
    "    instruments=lookup.instruments[r'BINANCE:(BTC|ETH|LTC)USDT'],\n",
    "    fees_spec='vip0_usdt', base_currency='USDT',\n",
    "\n",
    "    md_subscription=dict(type='ohlc', timeframe='1Min', nback=10),\n",
    "    trigger=dict(type='bar', delay='-1s', timeframe='1Min')\n",
    ")"
   ]
  },
  {
   "cell_type": "code",
   "execution_count": 236,
   "metadata": {},
   "outputs": [
    {
     "name": "stdout",
     "output_type": "stream",
     "text": [
      "\u001b[32m2024-03-28 17:10:15.516\u001b[0m [ \u001b[1mℹ️\u001b[0m ] \u001b[1mSubscribing to ohlc updates using {'timeframe': '1Min', 'nback': 10} for \n",
      "\t['BTCUSDT', 'ETHUSDT', 'LTCUSDT'] \u001b[0m\n",
      "\u001b[32m2024-03-28 17:10:15.517\u001b[0m [ \u001b[1mℹ️\u001b[0m ] \u001b[1m> Started with param1 = 1\u001b[0m\n",
      "\u001b[32m2024-03-28 17:10:15.519\u001b[0m [ \u001b[1mℹ️\u001b[0m ] \u001b[1m> Data processor started\u001b[0m\n",
      "\u001b[32m2024-03-28 17:10:15.519\u001b[0m [ \u001b[1mℹ️\u001b[0m ] \u001b[1m> Market data subscribtions started\u001b[0m\n",
      "\u001b[32m2024-03-28 17:10:15.521\u001b[0m [ \u001b[1mℹ️\u001b[0m ] \u001b[1mStart processing market data\u001b[0m\n"
     ]
    },
    {
     "name": "stdout",
     "output_type": "stream",
     "text": [
      "\u001b[32m2024-03-28 17:10:59.768\u001b[0m [ \u001b[1mℹ️\u001b[0m ] \u001b[1m2024-03-28T15:10:59.768303000 -> TriggerEvent(time=numpy.datetime64('2024-03-28T15:10:59.768303000'), type='bar', instrument='LTCUSDT', data={o:94.850000 | h:94.900000 | l:94.770000 | c:94.900000 | v:124395.248620})\u001b[0m\n",
      "BTCUSDT[1Min] | 10 records\n",
      "  2024-03-28T15:10:00.000000000 {o:71235.310000 | h:71264.860000 | l:71161.770000 | c:71260.000000 | v:4338877.031730}\n",
      "  2024-03-28T15:09:00.000000000 {o:71238.810000 | h:71314.000000 | l:71235.300000 | c:71235.310000 | v:2245439.958868}\n",
      "  2024-03-28T15:08:00.000000000 {o:71343.980000 | h:71347.060000 | l:71238.810000 | c:71238.820000 | v:2302190.839080}\n",
      "   .......... \n",
      "  2024-03-28T15:03:00.000000000 {o:71454.790000 | h:71481.110000 | l:71434.480000 | c:71477.360000 | v:3083391.648339}\n",
      "  2024-03-28T15:02:00.000000000 {o:71444.010000 | h:71521.000000 | l:71425.610000 | c:71454.790000 | v:5306387.934846}\n",
      "  2024-03-28T15:01:00.000000000 {o:71518.000000 | h:71537.000000 | l:71432.010000 | c:71444.010000 | v:4093273.473959}\n",
      "\n",
      "\u001b[32m2024-03-28 17:11:59.440\u001b[0m [ \u001b[1mℹ️\u001b[0m ] \u001b[1m2024-03-28T15:11:59.440024000 -> TriggerEvent(time=numpy.datetime64('2024-03-28T15:11:59.440024000'), type='bar', instrument='LTCUSDT', data={o:94.890000 | h:95.070000 | l:94.890000 | c:95.050000 | v:27525.262180})\u001b[0m\n",
      "BTCUSDT[1Min] | 11 records\n",
      "  2024-03-28T15:11:00.000000000 {o:71269.990000 | h:71398.000000 | l:71269.990000 | c:71373.410000 | v:3037962.882420}\n",
      "  2024-03-28T15:10:00.000000000 {o:71235.310000 | h:71270.000000 | l:71161.770000 | c:71269.990000 | v:4451295.798108}\n",
      "  2024-03-28T15:09:00.000000000 {o:71238.810000 | h:71314.000000 | l:71235.300000 | c:71235.310000 | v:2245439.958868}\n",
      "   .......... \n",
      "  2024-03-28T15:03:00.000000000 {o:71454.790000 | h:71481.110000 | l:71434.480000 | c:71477.360000 | v:3083391.648339}\n",
      "  2024-03-28T15:02:00.000000000 {o:71444.010000 | h:71521.000000 | l:71425.610000 | c:71454.790000 | v:5306387.934846}\n",
      "  2024-03-28T15:01:00.000000000 {o:71518.000000 | h:71537.000000 | l:71432.010000 | c:71444.010000 | v:4093273.473959}\n",
      "\n",
      "\u001b[32m2024-03-28 17:12:59.691\u001b[0m [ \u001b[1mℹ️\u001b[0m ] \u001b[1m2024-03-28T15:12:59.691440000 -> TriggerEvent(time=numpy.datetime64('2024-03-28T15:12:59.691440000'), type='bar', instrument='BTCUSDT', data={o:71373.420000 | h:71398.000000 | l:71313.990000 | c:71344.010000 | v:3586464.298538})\u001b[0m\n",
      "BTCUSDT[1Min] | 12 records\n",
      "  2024-03-28T15:12:00.000000000 {o:71373.420000 | h:71398.000000 | l:71313.990000 | c:71344.010000 | v:3586464.298538}\n",
      "  2024-03-28T15:11:00.000000000 {o:71269.990000 | h:71398.000000 | l:71269.990000 | c:71373.410000 | v:3046110.871109}\n",
      "  2024-03-28T15:10:00.000000000 {o:71235.310000 | h:71270.000000 | l:71161.770000 | c:71269.990000 | v:4451295.798108}\n",
      "   .......... \n",
      "  2024-03-28T15:03:00.000000000 {o:71454.790000 | h:71481.110000 | l:71434.480000 | c:71477.360000 | v:3083391.648339}\n",
      "  2024-03-28T15:02:00.000000000 {o:71444.010000 | h:71521.000000 | l:71425.610000 | c:71454.790000 | v:5306387.934846}\n",
      "  2024-03-28T15:01:00.000000000 {o:71518.000000 | h:71537.000000 | l:71432.010000 | c:71444.010000 | v:4093273.473959}\n",
      "\n",
      "\u001b[32m2024-03-28 17:13:59.024\u001b[0m [ \u001b[1mℹ️\u001b[0m ] \u001b[1m2024-03-28T15:13:59.023480000 -> TriggerEvent(time=numpy.datetime64('2024-03-28T15:13:59.023480000'), type='bar', instrument='LTCUSDT', data={o:95.120000 | h:95.210000 | l:95.120000 | c:95.170000 | v:49852.885960})\u001b[0m\n",
      "BTCUSDT[1Min] | 13 records\n",
      "  2024-03-28T15:13:00.000000000 {o:71344.010000 | h:71377.990000 | l:71336.430000 | c:71345.990000 | v:1884633.399550}\n",
      "  2024-03-28T15:12:00.000000000 {o:71373.420000 | h:71398.000000 | l:71313.990000 | c:71344.010000 | v:3587735.648888}\n",
      "  2024-03-28T15:11:00.000000000 {o:71269.990000 | h:71398.000000 | l:71269.990000 | c:71373.410000 | v:3046110.871109}\n",
      "   .......... \n",
      "  2024-03-28T15:03:00.000000000 {o:71454.790000 | h:71481.110000 | l:71434.480000 | c:71477.360000 | v:3083391.648339}\n",
      "  2024-03-28T15:02:00.000000000 {o:71444.010000 | h:71521.000000 | l:71425.610000 | c:71454.790000 | v:5306387.934846}\n",
      "  2024-03-28T15:01:00.000000000 {o:71518.000000 | h:71537.000000 | l:71432.010000 | c:71444.010000 | v:4093273.473959}\n",
      "\n",
      "\u001b[32m2024-03-28 17:14:59.707\u001b[0m [ \u001b[1mℹ️\u001b[0m ] \u001b[1m2024-03-28T15:14:59.706149000 -> TriggerEvent(time=numpy.datetime64('2024-03-28T15:14:59.706149000'), type='bar', instrument='ETHUSDT', data={o:3590.340000 | h:3591.170000 | l:3587.730000 | c:3588.710000 | v:990009.868448})\u001b[0m\n",
      "BTCUSDT[1Min] | 14 records\n",
      "  2024-03-28T15:14:00.000000000 {o:71338.000000 | h:71361.090000 | l:71268.930000 | c:71310.000000 | v:2969858.580159}\n",
      "  2024-03-28T15:13:00.000000000 {o:71344.010000 | h:71377.990000 | l:71336.430000 | c:71338.010000 | v:1957352.360832}\n",
      "  2024-03-28T15:12:00.000000000 {o:71373.420000 | h:71398.000000 | l:71313.990000 | c:71344.010000 | v:3587735.648888}\n",
      "   .......... \n",
      "  2024-03-28T15:03:00.000000000 {o:71454.790000 | h:71481.110000 | l:71434.480000 | c:71477.360000 | v:3083391.648339}\n",
      "  2024-03-28T15:02:00.000000000 {o:71444.010000 | h:71521.000000 | l:71425.610000 | c:71454.790000 | v:5306387.934846}\n",
      "  2024-03-28T15:01:00.000000000 {o:71518.000000 | h:71537.000000 | l:71432.010000 | c:71444.010000 | v:4093273.473959}\n",
      "\n"
     ]
    }
   ],
   "source": [
    "ctx.start()"
   ]
  },
  {
   "cell_type": "code",
   "execution_count": 240,
   "metadata": {},
   "outputs": [
    {
     "name": "stdout",
     "output_type": "stream",
     "text": [
      "\u001b[32m2024-03-28 17:17:32.501\u001b[0m [ \u001b[1mℹ️\u001b[0m ] \u001b[1m> stopped\u001b[0m\n",
      "\u001b[32m2024-03-28 17:17:32.501\u001b[0m [ \u001b[1mℹ️\u001b[0m ] \u001b[1mMarket data processing finished\u001b[0m\n"
     ]
    }
   ],
   "source": [
    "ctx.stop()"
   ]
  },
  {
   "cell_type": "code",
   "execution_count": 248,
   "metadata": {},
   "outputs": [
    {
     "data": {
      "text/html": [
       "<div>\n",
       "<style scoped>\n",
       "    .dataframe tbody tr th:only-of-type {\n",
       "        vertical-align: middle;\n",
       "    }\n",
       "\n",
       "    .dataframe tbody tr th {\n",
       "        vertical-align: top;\n",
       "    }\n",
       "\n",
       "    .dataframe thead th {\n",
       "        text-align: right;\n",
       "    }\n",
       "</style>\n",
       "<table border=\"1\" class=\"dataframe\">\n",
       "  <thead>\n",
       "    <tr style=\"text-align: right;\">\n",
       "      <th></th>\n",
       "      <th>open</th>\n",
       "      <th>high</th>\n",
       "      <th>low</th>\n",
       "      <th>close</th>\n",
       "      <th>volume</th>\n",
       "      <th>bought_volume</th>\n",
       "    </tr>\n",
       "    <tr>\n",
       "      <th>timestamp</th>\n",
       "      <th></th>\n",
       "      <th></th>\n",
       "      <th></th>\n",
       "      <th></th>\n",
       "      <th></th>\n",
       "      <th></th>\n",
       "    </tr>\n",
       "  </thead>\n",
       "  <tbody>\n",
       "    <tr>\n",
       "      <th>2024-03-28 15:00:00</th>\n",
       "      <td>71518.0</td>\n",
       "      <td>71537.0</td>\n",
       "      <td>71137.27</td>\n",
       "      <td>71185.98</td>\n",
       "      <td>5.665711e+07</td>\n",
       "      <td>2.599690e+07</td>\n",
       "    </tr>\n",
       "  </tbody>\n",
       "</table>\n",
       "</div>"
      ],
      "text/plain": [
       "                        open     high       low     close        volume  \\\n",
       "timestamp                                                                 \n",
       "2024-03-28 15:00:00  71518.0  71537.0  71137.27  71185.98  5.665711e+07   \n",
       "\n",
       "                     bought_volume  \n",
       "timestamp                           \n",
       "2024-03-28 15:00:00   2.599690e+07  "
      ]
     },
     "execution_count": 248,
     "metadata": {},
     "output_type": "execute_result"
    }
   ],
   "source": [
    "ohlc_resample(ctx.ohlc('BTCUSDT', '1Min').pd(), '1h')"
   ]
  },
  {
   "cell_type": "code",
   "execution_count": 249,
   "metadata": {},
   "outputs": [
    {
     "data": {
      "text/html": [
       "<div>\n",
       "<style scoped>\n",
       "    .dataframe tbody tr th:only-of-type {\n",
       "        vertical-align: middle;\n",
       "    }\n",
       "\n",
       "    .dataframe tbody tr th {\n",
       "        vertical-align: top;\n",
       "    }\n",
       "\n",
       "    .dataframe thead th {\n",
       "        text-align: right;\n",
       "    }\n",
       "</style>\n",
       "<table border=\"1\" class=\"dataframe\">\n",
       "  <thead>\n",
       "    <tr style=\"text-align: right;\">\n",
       "      <th></th>\n",
       "      <th>open</th>\n",
       "      <th>high</th>\n",
       "      <th>low</th>\n",
       "      <th>close</th>\n",
       "      <th>volume</th>\n",
       "      <th>bought_volume</th>\n",
       "    </tr>\n",
       "    <tr>\n",
       "      <th>timestamp</th>\n",
       "      <th></th>\n",
       "      <th></th>\n",
       "      <th></th>\n",
       "      <th></th>\n",
       "      <th></th>\n",
       "      <th></th>\n",
       "    </tr>\n",
       "  </thead>\n",
       "  <tbody>\n",
       "    <tr>\n",
       "      <th>2024-03-28 15:00:00</th>\n",
       "      <td>71518.0</td>\n",
       "      <td>71537.0</td>\n",
       "      <td>71137.27</td>\n",
       "      <td>71185.98</td>\n",
       "      <td>5.665711e+07</td>\n",
       "      <td>2.599690e+07</td>\n",
       "    </tr>\n",
       "  </tbody>\n",
       "</table>\n",
       "</div>"
      ],
      "text/plain": [
       "                        open     high       low     close        volume  \\\n",
       "timestamp                                                                 \n",
       "2024-03-28 15:00:00  71518.0  71537.0  71137.27  71185.98  5.665711e+07   \n",
       "\n",
       "                     bought_volume  \n",
       "timestamp                           \n",
       "2024-03-28 15:00:00   2.599690e+07  "
      ]
     },
     "execution_count": 249,
     "metadata": {},
     "output_type": "execute_result"
    }
   ],
   "source": [
    "ctx.ohlc('BTCUSDT', '1h').pd()"
   ]
  },
  {
   "cell_type": "code",
   "execution_count": 247,
   "metadata": {},
   "outputs": [
    {
     "data": {
      "text/plain": [
       "                         open      high       low     close        volume  \\\n",
       "timestamp                                                                   \n",
       "2024-03-28 15:01:00  71518.00  71537.00  71432.01  71444.01  4.093273e+06   \n",
       "2024-03-28 15:02:00  71444.01  71521.00  71425.61  71454.79  5.306388e+06   \n",
       "2024-03-28 15:03:00  71454.79  71481.11  71434.48  71477.36  3.083392e+06   \n",
       "2024-03-28 15:04:00  71477.36  71494.00  71362.00  71362.00  2.398666e+06   \n",
       "2024-03-28 15:05:00  71362.01  71367.91  71271.36  71337.99  5.774092e+06   \n",
       "2024-03-28 15:06:00  71338.00  71353.40  71292.00  71353.40  3.389442e+06   \n",
       "2024-03-28 15:07:00  71353.40  71395.39  71292.01  71343.98  3.701186e+06   \n",
       "2024-03-28 15:08:00  71343.98  71347.06  71238.81  71238.82  2.302191e+06   \n",
       "2024-03-28 15:09:00  71238.81  71314.00  71235.30  71235.31  2.245440e+06   \n",
       "2024-03-28 15:10:00  71235.31  71270.00  71161.77  71269.99  4.451296e+06   \n",
       "2024-03-28 15:11:00  71269.99  71398.00  71269.99  71373.41  3.046111e+06   \n",
       "2024-03-28 15:12:00  71373.42  71398.00  71313.99  71344.01  3.587736e+06   \n",
       "2024-03-28 15:13:00  71344.01  71377.99  71336.43  71338.01  1.957352e+06   \n",
       "2024-03-28 15:14:00  71338.00  71361.09  71268.93  71309.99  2.976123e+06   \n",
       "2024-03-28 15:15:00  71310.00  71310.00  71171.82  71178.01  2.746073e+06   \n",
       "2024-03-28 15:16:00  71178.00  71240.00  71178.00  71235.92  3.326122e+06   \n",
       "2024-03-28 15:17:00  71235.92  71246.83  71137.27  71185.98  2.272224e+06   \n",
       "\n",
       "                     bought_volume  \n",
       "timestamp                           \n",
       "2024-03-28 15:01:00   1.625724e+06  \n",
       "2024-03-28 15:02:00   3.369650e+06  \n",
       "2024-03-28 15:03:00   1.266207e+06  \n",
       "2024-03-28 15:04:00   4.245684e+05  \n",
       "2024-03-28 15:05:00   2.643733e+06  \n",
       "2024-03-28 15:06:00   1.781553e+06  \n",
       "2024-03-28 15:07:00   2.249866e+06  \n",
       "2024-03-28 15:08:00   6.625544e+05  \n",
       "2024-03-28 15:09:00   9.033293e+05  \n",
       "2024-03-28 15:10:00   2.047499e+06  \n",
       "2024-03-28 15:11:00   1.839762e+06  \n",
       "2024-03-28 15:12:00   1.282303e+06  \n",
       "2024-03-28 15:13:00   9.783473e+05  \n",
       "2024-03-28 15:14:00   1.465803e+06  \n",
       "2024-03-28 15:15:00   4.440167e+05  \n",
       "2024-03-28 15:16:00   2.126860e+06  \n",
       "2024-03-28 15:17:00   8.851198e+05  "
      ]
     },
     "execution_count": 247,
     "metadata": {},
     "output_type": "execute_result"
    }
   ],
   "source": [
    "ctx.ohlc('BTCUSDT', '1Min')"
   ]
  },
  {
   "cell_type": "code",
   "execution_count": 233,
   "metadata": {},
   "outputs": [],
   "source": [
    "await cc.exch.close()"
   ]
  },
  {
   "cell_type": "code",
   "execution_count": null,
   "metadata": {},
   "outputs": [],
   "source": [
    "# cc.close()"
   ]
  },
  {
   "cell_type": "markdown",
   "metadata": {},
   "source": [
    "<hr/>"
   ]
  },
  {
   "cell_type": "markdown",
   "metadata": {},
   "source": [
    "# Misc"
   ]
  }
 ],
 "metadata": {
  "kernelspec": {
   "display_name": "p311qbx",
   "language": "python",
   "name": "python3"
  },
  "language_info": {
   "codemirror_mode": {
    "name": "ipython",
    "version": 3
   },
   "file_extension": ".py",
   "mimetype": "text/x-python",
   "name": "python",
   "nbconvert_exporter": "python",
   "pygments_lexer": "ipython3",
   "version": "3.11.8"
  }
 },
 "nbformat": 4,
 "nbformat_minor": 2
}
