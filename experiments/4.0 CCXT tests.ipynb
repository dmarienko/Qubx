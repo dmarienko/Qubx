{
 "cells": [
  {
   "cell_type": "code",
   "execution_count": 1,
   "metadata": {},
   "outputs": [
    {
     "name": "stdout",
     "output_type": "stream",
     "text": [
      " >  [\u001b[32mdev\u001b[0m] \u001b[31minstalled cython rebuilding hook\u001b[0m\n",
      "\n",
      "                   \u001b[31m╻\u001b[0m\n",
      "   \u001b[32m┏┓      ╻     \u001b[0m  \u001b[31m┃\u001b[0m  \u001b[33m┏┓\u001b[0m       \u001b[36mQuantitative Backtesting Environment\u001b[0m \n",
      "   \u001b[32m┃┃  ┓┏  ┣┓  ┏┓\u001b[0m  \u001b[31m┃\u001b[0m  \u001b[33m┏┛\u001b[0m       \n",
      "   \u001b[32m┗┻  ┗┻  ┗┛  ┗ \u001b[0m  \u001b[31m┃\u001b[0m  \u001b[33m┗━\u001b[0m       (c) 2024,  ver. \u001b[35mDev\u001b[0m\n",
      "                   \u001b[31m╹\u001b[0m       \n",
      "\n"
     ]
    }
   ],
   "source": [
    "import sys, os, re; sys.path = ([\"../src/\", \"../\"] if re.match(r'^(\\w\\:\\\\)|(/)', os.getcwd()) else [])+ sys.path \n",
    "\n",
    "import ccxt as cx\n",
    "from typing import Any, Optional, List\n",
    "import ccxt.pro as cxp\n",
    "from ccxt.base.decimal_to_precision import ROUND_UP\n",
    "import asyncio\n",
    "import nest_asyncio\n",
    "nest_asyncio.apply()\n",
    "\n",
    "from ccxt.base.exchange import Exchange\n",
    "from threading import Thread, Event, Lock\n",
    "from queue import Queue\n",
    "# from multiprocessing import Queue #as Queue\n",
    "\n",
    "import qubx\n",
    "%qubxd\n",
    "\n",
    "%load_ext autoreload\n",
    "%autoreload 2\n",
    "\n",
    "from qubx import lookup\n",
    "from qubx.core.series import TimeSeries, Bar, Trade, Quote\n",
    "from qubx.core.strategy import IStrategy, StrategyContext, TriggerEvent\n",
    "from qubx.core.basics import Instrument, Position, Signal, TransactionCostsCalculator, dt_64\n",
    "from qubx.impl.ccxt_connector import CCXTConnector, CtrlChannel, BinanceQV"
   ]
  },
  {
   "cell_type": "markdown",
   "metadata": {},
   "source": [
    "# Common"
   ]
  },
  {
   "cell_type": "code",
   "execution_count": null,
   "metadata": {},
   "outputs": [],
   "source": [
    "lookup.instruments['KRAKEN.F:BTC/USD']"
   ]
  },
  {
   "cell_type": "code",
   "execution_count": 34,
   "metadata": {},
   "outputs": [
    {
     "data": {
      "text/plain": [
       "Instrument(symbol='BTCUSDT', market_type='CRYPTO', exchange='BINANCE.UM', base='BTC', quote='USDT', margin_symbol='USDT', min_tick=0.1, min_size_step=0.001, min_size=0.001, futures_info=FuturesInfo(contract_type='PERPETUAL', delivery_date=datetime.datetime(2100, 12, 25, 10, 0), onboard_date=datetime.datetime(2019, 9, 25, 11, 0), contract_size=1.0, maint_margin=2.5, required_margin=5.0, liquidation_fee=0.0125), _aux_instrument=None)"
      ]
     },
     "execution_count": 34,
     "metadata": {},
     "output_type": "execute_result"
    }
   ],
   "source": [
    "instr = lookup.instruments.find('BINANCE.UM', 'BTC', 'USDT')\n",
    "instr"
   ]
  },
  {
   "cell_type": "code",
   "execution_count": 39,
   "metadata": {},
   "outputs": [
    {
     "data": {
      "text/plain": [
       "Instrument(symbol='ETH/BTC', market_type='spot', exchange='KRAKEN', base='ETH', quote='BTC', margin_symbol=None, min_tick=1e-05, min_size_step=1e-05, min_size=1e-08, futures_info=None, _aux_instrument=None)"
      ]
     },
     "execution_count": 39,
     "metadata": {},
     "output_type": "execute_result"
    }
   ],
   "source": [
    "instr = lookup.instruments.find('KRAKEN', 'BTC', 'ETH')\n",
    "instr"
   ]
  },
  {
   "cell_type": "code",
   "execution_count": 38,
   "metadata": {},
   "outputs": [
    {
     "data": {
      "text/plain": [
       "Instrument(symbol='BTC/USD', market_type='spot', exchange='KRAKEN', base='BTC', quote='USD', margin_symbol=None, min_tick=0.1, min_size_step=0.1, min_size=1e-08, futures_info=None, _aux_instrument=None)"
      ]
     },
     "execution_count": 38,
     "metadata": {},
     "output_type": "execute_result"
    }
   ],
   "source": [
    "lookup.find_aux_instrument_for(instr, 'USD')"
   ]
  },
  {
   "cell_type": "code",
   "execution_count": 46,
   "metadata": {},
   "outputs": [],
   "source": [
    "bu = cxp.binanceusdm()\n",
    "bs = cxp.binance()\n",
    "ks = cxp.kraken()\n",
    "kf = cxp.krakenfutures()"
   ]
  },
  {
   "cell_type": "markdown",
   "metadata": {},
   "source": [
    "# Get OHLC [TODO]"
   ]
  },
  {
   "cell_type": "code",
   "execution_count": 47,
   "metadata": {},
   "outputs": [],
   "source": [
    "bs_markets = await bs.load_markets()\n",
    "bu_markets = await bu.load_markets()\n",
    "kf_markets = await kf.load_markets()\n",
    "ks_markets = await ks.load_markets()"
   ]
  },
  {
   "cell_type": "code",
   "execution_count": 53,
   "metadata": {},
   "outputs": [
    {
     "data": {
      "text/plain": [
       "60"
      ]
     },
     "execution_count": 53,
     "metadata": {},
     "output_type": "execute_result"
    }
   ],
   "source": [
    "bu.parse_timeframe('1m')"
   ]
  },
  {
   "cell_type": "code",
   "execution_count": null,
   "metadata": {},
   "outputs": [],
   "source": [
    "interval = bu.parse_timeframe('1m') * 1000\n",
    "orderbook_max_levels_limit = 100\n",
    "since = bu.round_timeframe('1m', bu.milliseconds(), ROUND_UP) - orderbook_max_levels_limit * interval\n",
    "await bu.fetch_ohlcv('ETH/USDT', '1m', since=since, limit=orderbook_max_levels_limit)"
   ]
  },
  {
   "cell_type": "code",
   "execution_count": null,
   "metadata": {},
   "outputs": [],
   "source": [
    "# await bnc1.fetch_ohlcv('ETH/USDT', '1m', since=since, limit=limit)"
   ]
  },
  {
   "cell_type": "code",
   "execution_count": 57,
   "metadata": {},
   "outputs": [],
   "source": [
    "cxc = CCXT_connector('binance')"
   ]
  },
  {
   "cell_type": "markdown",
   "metadata": {},
   "source": []
  },
  {
   "cell_type": "markdown",
   "metadata": {},
   "source": [
    "# Listen to data"
   ]
  },
  {
   "cell_type": "code",
   "execution_count": 3,
   "metadata": {},
   "outputs": [],
   "source": [
    "class RunThread(Thread):\n",
    "    def __init__(self, channel: CtrlChannel):\n",
    "        self.result = None\n",
    "        self.ch = channel\n",
    "        self.loops = []\n",
    "        super().__init__()\n",
    "\n",
    "    def add(self, func, *args, **kwargs):\n",
    "        self.loops.append(func(self.ch, *args, **kwargs))\n",
    "\n",
    "    async def run_loop(self):\n",
    "        self.result = await asyncio.gather(*self.loops)\n",
    "\n",
    "    def run(self):\n",
    "        self.ch.control.set()\n",
    "        asyncio.run(self.run_loop())\n",
    "\n",
    "    def stop(self):\n",
    "        self.ch.control.clear()\n",
    "        self.ch.queue.put((None, None)) # send sentinel\n",
    "\n",
    "\n",
    "async def listen_to_trades(channel: CtrlChannel, exchange: Exchange, symbols: List[str]):\n",
    "    method = 'watchTrades'\n",
    "    if exchange.has[method]:\n",
    "        # lock = channel.lock\n",
    "        while channel.control.is_set():\n",
    "            try:\n",
    "                # c_time = exchange.iso8601(exchange.milliseconds())\n",
    "                trades = await exchange.watch_trades_for_symbols(symbols)\n",
    "                # lock.acquire()\n",
    "                for trade in trades:\n",
    "                    # trade = trades[-1]\n",
    "                    t_ns = trade['timestamp'] * 1_000_000 # this is trade time \n",
    "                    s = trade['symbol']\n",
    "                    info = trade['info']\n",
    "                    price = trade['price']\n",
    "                    m = info['m']\n",
    "                    amnt = trade['amount'] # in base currency\n",
    "                    tas = Trade(t_ns, price, amnt, int(not m), int(trade['id']))\n",
    "                    channel.queue.put((s, tas))\n",
    "                # lock.release()\n",
    "                # print(trade, flush=True)\n",
    "                # print(f\"\\t[{c_time}] {s} : {str(tas)}\", flush=True)\n",
    "            except Exception as e:\n",
    "                print(type(e).__name__, str(e), flush=True)\n",
    "                await exchange.close()\n",
    "                raise e\n",
    "    else:\n",
    "        raise Exception(exchange.id + ' ' + method + ' is not supported or not implemented yet')\n",
    "\n",
    "\n",
    "async def listen_to_orderbook(channel: CtrlChannel, exchange: Exchange, symbols: List[str], orderbook_max_levels_limit=5):\n",
    "    lock = channel.lock\n",
    "    while channel.control.is_set():\n",
    "        try:\n",
    "            orderbook = await exchange.watch_order_book_for_symbols(symbols, limit=orderbook_max_levels_limit)\n",
    "            # - check what this time is ?\n",
    "            t_ns = orderbook['timestamp'] * 1_000_000\n",
    "            s = orderbook['symbol']\n",
    "            b, a = orderbook['bids'], orderbook['asks']\n",
    "            q = Quote(t_ns, b[0][0], a[0][0], b[0][1], a[0][1])\n",
    "            # lock.acquire()\n",
    "            channel.queue.put((s, q))\n",
    "            # lock.release()\n",
    "            # c_time = exchange.iso8601(exchange.milliseconds())\n",
    "            # print(f\"[{c_time}] {s} : {str(q)}\", flush=True)\n",
    "        except Exception as e:\n",
    "            print(type(e).__name__, str(e), flush=True)\n",
    "            await exchange.close()\n",
    "            raise e\n",
    " \n",
    "\n",
    "async def receiver(channel: CtrlChannel):\n",
    "    sers = {}\n",
    "    print(\"START LISTENING\", flush=True)\n",
    "    T, Q = 0, 0\n",
    "    while channel.control.is_set():\n",
    "        s, data = channel.queue.get()\n",
    "        if isinstance(data, Quote):\n",
    "            if not (Q % 100):\n",
    "                print(s, data, flush=True)\n",
    "                Q = 0\n",
    "            Q += 1\n",
    "        if isinstance(data, Trade):\n",
    "            if s not in sers:\n",
    "                sers[s] = TimeSeries(s, '1Min')\n",
    "            ts = sers[s]\n",
    "            ts.update(data.time, data.price)\n",
    "            if not (T % 100):\n",
    "                print(s, data, flush=True)\n",
    "                T = 0\n",
    "            T += 1\n",
    "        if isinstance(data, Bar):\n",
    "            # print(f\"{s} {pd.Timestamp(data.time, unit='ns')}: {data}\", flush=True)\n",
    "            if s not in sers:\n",
    "                sers[s] = {}\n",
    "            sers[s][data.time] = data\n",
    "\n",
    "    print(f\"STOP LISTENING: {str(sers)}\", flush=True)\n",
    "    return sers "
   ]
  },
  {
   "cell_type": "code",
   "execution_count": 4,
   "metadata": {},
   "outputs": [],
   "source": [
    "def prefetch_ohlcs(exchange: Exchange, symbol: str, timeframe: str, nbarsback: int):\n",
    "    assert nbarsback > 1\n",
    "    start = ((pd.Timestamp('now', tz='UTC') - nbarsback * pd.Timedelta(timeframe)).asm8.item()//1000000) if nbarsback > 1 else None \n",
    "    ohlcv = exchange.fetch_ohlcv(symbol, timeframe, since=start, limit=nbarsback + 1)\n",
    "    return ohlcv\n",
    "\n",
    "async def listen_to_ohlcv(channel: CtrlChannel, exchange: Exchange, \n",
    "                          symbol: List[str], timeframe: str, nbarsback: int):\n",
    "    # - check if we need to load initial 'snapshot'\n",
    "    if nbarsback > 1:\n",
    "        ohlcv = await prefetch_ohlcs(exchange, symbol, timeframe, nbarsback)\n",
    "        for oh in ohlcv:\n",
    "            b = Bar(oh[0] * 1_000_000, oh[1], oh[2], oh[3], oh[4], oh[6], oh[7])\n",
    "            channel.queue.put((symbol, b))\n",
    "\n",
    "    while channel.control.is_set():\n",
    "        try:\n",
    "            ohlcv = await exchange.watch_ohlcv(symbol, timeframe)\n",
    "            for oh in ohlcv:\n",
    "                b = Bar(oh[0] * 1000000, oh[1], oh[2], oh[3], oh[4], oh[6], oh[7])\n",
    "                channel.queue.put((symbol, b))\n",
    "        except Exception as e:\n",
    "            print(type(e).__name__, str(e), flush=True)\n",
    "            await exchange.close()\n",
    "            raise e"
   ]
  },
  {
   "cell_type": "code",
   "execution_count": 5,
   "metadata": {},
   "outputs": [],
   "source": [
    "symbs = ['1INCHUSDT', 'AGLDUSDT', 'APEUSDT', 'ARBUSDT', 'AUCTIONUSDT', 'BANDUSDT', 'BATUSDT', 'C98USDT', 'COMPUSDT', 'CYBERUSDT',\n",
    "        'DYDXUSDT', 'ENSUSDT', 'FXSUSDT', 'HFTUSDT', 'ICXUSDT', 'IOSTUSDT', 'IOTAUSDT', 'IOTXUSDT', 'LDOUSDT', 'LQTYUSDT', 'LTCUSDT',\n",
    "        'MASKUSDT', 'MBOXUSDT', 'MINAUSDT', 'MTLUSDT', 'OGNUSDT', 'OPUSDT', 'PEOPLEUSDT', 'POLSUSDT', 'PYRUSDT', 'QNTUSDT', 'RADUSDT',\n",
    "        'RDNTUSDT', 'RIFUSDT', 'RLCUSDT', 'SEIUSDT', 'SPELLUSDT', 'SSVUSDT', 'STGUSDT', 'STXUSDT', 'SUIUSDT', 'UMAUSDT', 'WAVESUSDT']"
   ]
  },
  {
   "cell_type": "code",
   "execution_count": 6,
   "metadata": {},
   "outputs": [
    {
     "name": "stdout",
     "output_type": "stream",
     "text": [
      "START LISTENING\n"
     ]
    }
   ],
   "source": [
    "chan = CtrlChannel('ticks')\n",
    "reader = RunThread(chan)\n",
    "reader.add(receiver)\n",
    "reader.start()"
   ]
  },
  {
   "cell_type": "code",
   "execution_count": 7,
   "metadata": {},
   "outputs": [],
   "source": [
    "# bu = cxp.binanceusdm()\n",
    "# bu = cxp.binance()\n",
    "bu = BinanceQV()\n",
    "# bu = getattr(cxp, 'binanceqv')()\n",
    "t1 = RunThread(chan)\n",
    "for s in symbs:\n",
    "    t1.add(listen_to_ohlcv, bu, s, '15m', 10)\n",
    "\n",
    "# t1.add(listen_to_ohlcv, bu, 'BTCUSDT', '5m', 10)\n",
    "# t1.add(listen_to_ohlcv, bu, 'ETHUSDT', '5m', 10)\n",
    "# t1.add(listen_to_ohlcv, bu, 'LTCUSDT', '5m', 10)\n",
    "# t1.add(listen_to_ohlcv, bu, 'SOLUSDT', '5m', 10)\n",
    "# t1.add(listen_to_trades, bu, ['BTCUSDT', 'ETHUSDT', 'SOLUSDT'])\n",
    "# t1.add(listen_to_orderbook, bu, ['BTCUSDT', 'ETHUSDT', 'SOLUSDT'])\n",
    "t1.start()"
   ]
  },
  {
   "cell_type": "code",
   "execution_count": 10,
   "metadata": {},
   "outputs": [],
   "source": [
    "reader.stop()\n",
    "t1.stop()"
   ]
  },
  {
   "cell_type": "code",
   "execution_count": null,
   "metadata": {},
   "outputs": [],
   "source": [
    "print(len(reader.result[0]), len(symbs))\n",
    "reader.result[0]"
   ]
  },
  {
   "cell_type": "markdown",
   "metadata": {},
   "source": [
    "# StrategyCtx"
   ]
  },
  {
   "cell_type": "code",
   "execution_count": 9,
   "metadata": {},
   "outputs": [],
   "source": [
    "class ZeroStrat(IStrategy):\n",
    "    param1: int = 0\n",
    "\n",
    "    def on_init(self):\n",
    "        pass\n",
    "\n",
    "    def process_event(self, time: dt_64, event: TriggerEvent) -> Optional[List[Signal]]:\n",
    "        print(f\"I'm Here param1 = {self.param1}!\")\n",
    "        return None"
   ]
  },
  {
   "cell_type": "code",
   "execution_count": 55,
   "metadata": {},
   "outputs": [
    {
     "data": {
      "text/plain": [
       "numpy.datetime64('2024-03-27T14:02:11.232381000')"
      ]
     },
     "execution_count": 55,
     "metadata": {},
     "output_type": "execute_result"
    }
   ],
   "source": [
    "cc = CCXTConnector('binance')\n",
    "cc.time()"
   ]
  },
  {
   "cell_type": "code",
   "execution_count": 24,
   "metadata": {},
   "outputs": [
    {
     "name": "stdout",
     "output_type": "stream",
     "text": [
      "START fetching ...\n"
     ]
    }
   ],
   "source": [
    "# cc.get_historical_ohlcs('BTCUSDT', '1d', 20)"
   ]
  },
  {
   "cell_type": "code",
   "execution_count": 56,
   "metadata": {},
   "outputs": [
    {
     "name": "stdout",
     "output_type": "stream",
     "text": [
      "\u001b[32m2024-03-27 16:02:12.743\u001b[0m [ \u001b[1mℹ️\u001b[0m ] \u001b[1mSet param1 -> 1\u001b[0m\n"
     ]
    },
    {
     "name": "stderr",
     "output_type": "stream",
     "text": [
      "binance requires to release all resources with an explicit call to the .close() coroutine. If you are using the exchange instance with async coroutines, add `await exchange.close()` to your code into a place when you're done with the exchange and don't need the exchange instance anymore (at the end of your async coroutine).\n",
      "Unclosed client session\n",
      "client_session: <aiohttp.client.ClientSession object at 0x0000027B54507150>\n",
      "Unclosed connector\n",
      "connections: ['[(<aiohttp.client_proto.ResponseHandler object at 0x0000027B52A38210>, 1634989.031)]', '[(<aiohttp.client_proto.ResponseHandler object at 0x0000027B52A38050>, 1634989.718)]', '[(<aiohttp.client_proto.ResponseHandler object at 0x0000027B52A39010>, 1634990.64), (<aiohttp.client_proto.ResponseHandler object at 0x0000027B52A38EC0>, 1634990.765), (<aiohttp.client_proto.ResponseHandler object at 0x0000027B52A38600>, 1634990.765)]']\n",
      "connector: <aiohttp.connector.TCPConnector object at 0x0000027B54506A10>\n"
     ]
    }
   ],
   "source": [
    "ctx = StrategyContext(\n",
    "    ZeroStrat(), dict(param1 = 1), cc, cc, \n",
    "    instruments=lookup.instruments[r'BINANCE:(BTC|ETH|LTC)USDT'],\n",
    "    md_subscription_params={'timeframe': '1Min', 'nback': 10},\n",
    "    fees_spec='vip0_usdt', base_currency='USDT'\n",
    ")"
   ]
  },
  {
   "cell_type": "code",
   "execution_count": 57,
   "metadata": {},
   "outputs": [
    {
     "name": "stdout",
     "output_type": "stream",
     "text": [
      "\u001b[32m2024-03-27 16:02:16.617\u001b[0m [ \u001b[1mℹ️\u001b[0m ] \u001b[1mSubscribing on ohlc data using {'timeframe': '1Min', 'nback': 10} for \n",
      "\t['BTCUSDT', 'ETHUSDT', 'LTCUSDT'] \u001b[0m\n",
      "\u001b[32m2024-03-27 16:02:16.622\u001b[0m [ \u001b[1mℹ️\u001b[0m ] \u001b[1mMarket data processor started\u001b[0m\n",
      "\u001b[32m2024-03-27 16:02:16.625\u001b[0m [ \u001b[1mℹ️\u001b[0m ] \u001b[1mStart listening to market data\u001b[0m\n",
      "\u001b[32m2024-03-27 16:02:16.625\u001b[0m [ \u001b[1mℹ️\u001b[0m ] \u001b[1mMarket data ubscribers started\u001b[0m\n"
     ]
    }
   ],
   "source": [
    "ctx.start()"
   ]
  },
  {
   "cell_type": "code",
   "execution_count": 62,
   "metadata": {},
   "outputs": [
    {
     "name": "stdout",
     "output_type": "stream",
     "text": [
      "\u001b[32m2024-03-27 16:02:23.888\u001b[0m [ \u001b[1mℹ️\u001b[0m ] \u001b[1mStop market data listening\u001b[0m\n"
     ]
    }
   ],
   "source": [
    "ctx.stop()"
   ]
  },
  {
   "cell_type": "code",
   "execution_count": null,
   "metadata": {},
   "outputs": [],
   "source": [
    "ctx.sers"
   ]
  },
  {
   "cell_type": "code",
   "execution_count": 63,
   "metadata": {},
   "outputs": [],
   "source": [
    "await cc.exch.close()"
   ]
  },
  {
   "cell_type": "code",
   "execution_count": null,
   "metadata": {},
   "outputs": [],
   "source": [
    "# cc.close()"
   ]
  },
  {
   "cell_type": "markdown",
   "metadata": {},
   "source": [
    "<hr/>"
   ]
  }
 ],
 "metadata": {
  "kernelspec": {
   "display_name": "p311qbx",
   "language": "python",
   "name": "python3"
  },
  "language_info": {
   "codemirror_mode": {
    "name": "ipython",
    "version": 3
   },
   "file_extension": ".py",
   "mimetype": "text/x-python",
   "name": "python",
   "nbconvert_exporter": "python",
   "pygments_lexer": "ipython3",
   "version": "3.11.8"
  }
 },
 "nbformat": 4,
 "nbformat_minor": 2
}
