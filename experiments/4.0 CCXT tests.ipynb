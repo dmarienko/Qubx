{
 "cells": [
  {
   "cell_type": "code",
   "execution_count": 153,
   "metadata": {},
   "outputs": [
    {
     "name": "stdout",
     "output_type": "stream",
     "text": [
      "The autoreload extension is already loaded. To reload it, use:\n",
      "  %reload_ext autoreload\n"
     ]
    }
   ],
   "source": [
    "import sys, os, re; sys.path = ([\"../src/\", \"../\"] if re.match(r'^(\\w\\:\\\\)|(/)', os.getcwd()) else [])+ sys.path \n",
    "\n",
    "import ccxt as cx\n",
    "from typing import Any, Optional, List\n",
    "import ccxt.pro as cxp\n",
    "from ccxt.base.decimal_to_precision import ROUND_UP\n",
    "import asyncio\n",
    "import nest_asyncio\n",
    "nest_asyncio.apply()\n",
    "\n",
    "from ccxt.base.exchange import Exchange\n",
    "from threading import Thread, Event, Lock\n",
    "from queue import Queue\n",
    "# from multiprocessing import Queue #as Queue\n",
    "\n",
    "import qubx\n",
    "%qubxd\n",
    "\n",
    "%load_ext autoreload\n",
    "%autoreload 2\n",
    "\n",
    "from qubx import lookup\n",
    "from qubx.core.series import TimeSeries, Bar, Trade, Quote\n",
    "from qubx.core.strategy import IStrategy, StrategyContext, TriggerEvent, TriggerType\n",
    "from qubx.core.basics import Instrument, Position, Signal, TransactionCostsCalculator, dt_64\n",
    "from qubx.impl.ccxt_connector import CCXTConnector, CtrlChannel, BinanceQV"
   ]
  },
  {
   "cell_type": "markdown",
   "metadata": {},
   "source": [
    "# Common"
   ]
  },
  {
   "cell_type": "code",
   "execution_count": null,
   "metadata": {},
   "outputs": [],
   "source": [
    "lookup.instruments['KRAKEN.F:BTC/USD']"
   ]
  },
  {
   "cell_type": "code",
   "execution_count": 34,
   "metadata": {},
   "outputs": [
    {
     "data": {
      "text/plain": [
       "Instrument(symbol='BTCUSDT', market_type='CRYPTO', exchange='BINANCE.UM', base='BTC', quote='USDT', margin_symbol='USDT', min_tick=0.1, min_size_step=0.001, min_size=0.001, futures_info=FuturesInfo(contract_type='PERPETUAL', delivery_date=datetime.datetime(2100, 12, 25, 10, 0), onboard_date=datetime.datetime(2019, 9, 25, 11, 0), contract_size=1.0, maint_margin=2.5, required_margin=5.0, liquidation_fee=0.0125), _aux_instrument=None)"
      ]
     },
     "execution_count": 34,
     "metadata": {},
     "output_type": "execute_result"
    }
   ],
   "source": [
    "instr = lookup.instruments.find('BINANCE.UM', 'BTC', 'USDT')\n",
    "instr"
   ]
  },
  {
   "cell_type": "code",
   "execution_count": 39,
   "metadata": {},
   "outputs": [
    {
     "data": {
      "text/plain": [
       "Instrument(symbol='ETH/BTC', market_type='spot', exchange='KRAKEN', base='ETH', quote='BTC', margin_symbol=None, min_tick=1e-05, min_size_step=1e-05, min_size=1e-08, futures_info=None, _aux_instrument=None)"
      ]
     },
     "execution_count": 39,
     "metadata": {},
     "output_type": "execute_result"
    }
   ],
   "source": [
    "instr = lookup.instruments.find('KRAKEN', 'BTC', 'ETH')\n",
    "instr"
   ]
  },
  {
   "cell_type": "code",
   "execution_count": 38,
   "metadata": {},
   "outputs": [
    {
     "data": {
      "text/plain": [
       "Instrument(symbol='BTC/USD', market_type='spot', exchange='KRAKEN', base='BTC', quote='USD', margin_symbol=None, min_tick=0.1, min_size_step=0.1, min_size=1e-08, futures_info=None, _aux_instrument=None)"
      ]
     },
     "execution_count": 38,
     "metadata": {},
     "output_type": "execute_result"
    }
   ],
   "source": [
    "lookup.find_aux_instrument_for(instr, 'USD')"
   ]
  },
  {
   "cell_type": "code",
   "execution_count": 46,
   "metadata": {},
   "outputs": [],
   "source": [
    "bu = cxp.binanceusdm()\n",
    "bs = cxp.binance()\n",
    "ks = cxp.kraken()\n",
    "kf = cxp.krakenfutures()"
   ]
  },
  {
   "cell_type": "markdown",
   "metadata": {},
   "source": [
    "# Get OHLC [TODO]"
   ]
  },
  {
   "cell_type": "code",
   "execution_count": 47,
   "metadata": {},
   "outputs": [],
   "source": [
    "bs_markets = await bs.load_markets()\n",
    "bu_markets = await bu.load_markets()\n",
    "kf_markets = await kf.load_markets()\n",
    "ks_markets = await ks.load_markets()"
   ]
  },
  {
   "cell_type": "code",
   "execution_count": 53,
   "metadata": {},
   "outputs": [
    {
     "data": {
      "text/plain": [
       "60"
      ]
     },
     "execution_count": 53,
     "metadata": {},
     "output_type": "execute_result"
    }
   ],
   "source": [
    "bu.parse_timeframe('1m')"
   ]
  },
  {
   "cell_type": "code",
   "execution_count": null,
   "metadata": {},
   "outputs": [],
   "source": [
    "interval = bu.parse_timeframe('1m') * 1000\n",
    "orderbook_max_levels_limit = 100\n",
    "since = bu.round_timeframe('1m', bu.milliseconds(), ROUND_UP) - orderbook_max_levels_limit * interval\n",
    "await bu.fetch_ohlcv('ETH/USDT', '1m', since=since, limit=orderbook_max_levels_limit)"
   ]
  },
  {
   "cell_type": "code",
   "execution_count": null,
   "metadata": {},
   "outputs": [],
   "source": [
    "# await bnc1.fetch_ohlcv('ETH/USDT', '1m', since=since, limit=limit)"
   ]
  },
  {
   "cell_type": "code",
   "execution_count": 57,
   "metadata": {},
   "outputs": [],
   "source": [
    "cxc = CCXT_connector('binance')"
   ]
  },
  {
   "cell_type": "markdown",
   "metadata": {},
   "source": []
  },
  {
   "cell_type": "markdown",
   "metadata": {},
   "source": [
    "# Listen to data"
   ]
  },
  {
   "cell_type": "code",
   "execution_count": 3,
   "metadata": {},
   "outputs": [],
   "source": [
    "class RunThread(Thread):\n",
    "    def __init__(self, channel: CtrlChannel):\n",
    "        self.result = None\n",
    "        self.ch = channel\n",
    "        self.loops = []\n",
    "        super().__init__()\n",
    "\n",
    "    def add(self, func, *args, **kwargs):\n",
    "        self.loops.append(func(self.ch, *args, **kwargs))\n",
    "\n",
    "    async def run_loop(self):\n",
    "        self.result = await asyncio.gather(*self.loops)\n",
    "\n",
    "    def run(self):\n",
    "        self.ch.control.set()\n",
    "        asyncio.run(self.run_loop())\n",
    "\n",
    "    def stop(self):\n",
    "        self.ch.control.clear()\n",
    "        self.ch.queue.put((None, None)) # send sentinel\n",
    "\n",
    "\n",
    "async def listen_to_trades(channel: CtrlChannel, exchange: Exchange, symbols: List[str]):\n",
    "    method = 'watchTrades'\n",
    "    if exchange.has[method]:\n",
    "        # lock = channel.lock\n",
    "        while channel.control.is_set():\n",
    "            try:\n",
    "                # c_time = exchange.iso8601(exchange.milliseconds())\n",
    "                trades = await exchange.watch_trades_for_symbols(symbols)\n",
    "                # lock.acquire()\n",
    "                for trade in trades:\n",
    "                    # trade = trades[-1]\n",
    "                    t_ns = trade['timestamp'] * 1_000_000 # this is trade time \n",
    "                    s = trade['symbol']\n",
    "                    info = trade['info']\n",
    "                    price = trade['price']\n",
    "                    m = info['m']\n",
    "                    amnt = trade['amount'] # in base currency\n",
    "                    tas = Trade(t_ns, price, amnt, int(not m), int(trade['id']))\n",
    "                    channel.queue.put((s, tas))\n",
    "                # lock.release()\n",
    "                # print(trade, flush=True)\n",
    "                # print(f\"\\t[{c_time}] {s} : {str(tas)}\", flush=True)\n",
    "            except Exception as e:\n",
    "                print(type(e).__name__, str(e), flush=True)\n",
    "                await exchange.close()\n",
    "                raise e\n",
    "    else:\n",
    "        raise Exception(exchange.id + ' ' + method + ' is not supported or not implemented yet')\n",
    "\n",
    "\n",
    "async def listen_to_orderbook(channel: CtrlChannel, exchange: Exchange, symbols: List[str], orderbook_max_levels_limit=5):\n",
    "    lock = channel.lock\n",
    "    while channel.control.is_set():\n",
    "        try:\n",
    "            orderbook = await exchange.watch_order_book_for_symbols(symbols, limit=orderbook_max_levels_limit)\n",
    "            # - check what this time is ?\n",
    "            t_ns = orderbook['timestamp'] * 1_000_000\n",
    "            s = orderbook['symbol']\n",
    "            b, a = orderbook['bids'], orderbook['asks']\n",
    "            q = Quote(t_ns, b[0][0], a[0][0], b[0][1], a[0][1])\n",
    "            # lock.acquire()\n",
    "            channel.queue.put((s, q))\n",
    "            # lock.release()\n",
    "            # c_time = exchange.iso8601(exchange.milliseconds())\n",
    "            # print(f\"[{c_time}] {s} : {str(q)}\", flush=True)\n",
    "        except Exception as e:\n",
    "            print(type(e).__name__, str(e), flush=True)\n",
    "            await exchange.close()\n",
    "            raise e\n",
    " \n",
    "\n",
    "async def receiver(channel: CtrlChannel):\n",
    "    sers = {}\n",
    "    print(\"START LISTENING\", flush=True)\n",
    "    T, Q = 0, 0\n",
    "    while channel.control.is_set():\n",
    "        s, data = channel.queue.get()\n",
    "        if isinstance(data, Quote):\n",
    "            if not (Q % 100):\n",
    "                print(s, data, flush=True)\n",
    "                Q = 0\n",
    "            Q += 1\n",
    "        if isinstance(data, Trade):\n",
    "            if s not in sers:\n",
    "                sers[s] = TimeSeries(s, '1Min')\n",
    "            ts = sers[s]\n",
    "            ts.update(data.time, data.price)\n",
    "            if not (T % 100):\n",
    "                print(s, data, flush=True)\n",
    "                T = 0\n",
    "            T += 1\n",
    "        if isinstance(data, Bar):\n",
    "            # print(f\"{s} {pd.Timestamp(data.time, unit='ns')}: {data}\", flush=True)\n",
    "            if s not in sers:\n",
    "                sers[s] = {}\n",
    "            sers[s][data.time] = data\n",
    "\n",
    "    print(f\"STOP LISTENING: {str(sers)}\", flush=True)\n",
    "    return sers "
   ]
  },
  {
   "cell_type": "code",
   "execution_count": 4,
   "metadata": {},
   "outputs": [],
   "source": [
    "def prefetch_ohlcs(exchange: Exchange, symbol: str, timeframe: str, nbarsback: int):\n",
    "    assert nbarsback > 1\n",
    "    start = ((pd.Timestamp('now', tz='UTC') - nbarsback * pd.Timedelta(timeframe)).asm8.item()//1000000) if nbarsback > 1 else None \n",
    "    ohlcv = exchange.fetch_ohlcv(symbol, timeframe, since=start, limit=nbarsback + 1)\n",
    "    return ohlcv\n",
    "\n",
    "async def listen_to_ohlcv(channel: CtrlChannel, exchange: Exchange, \n",
    "                          symbol: List[str], timeframe: str, nbarsback: int):\n",
    "    # - check if we need to load initial 'snapshot'\n",
    "    if nbarsback > 1:\n",
    "        ohlcv = await prefetch_ohlcs(exchange, symbol, timeframe, nbarsback)\n",
    "        for oh in ohlcv:\n",
    "            b = Bar(oh[0] * 1_000_000, oh[1], oh[2], oh[3], oh[4], oh[6], oh[7])\n",
    "            channel.queue.put((symbol, b))\n",
    "\n",
    "    while channel.control.is_set():\n",
    "        try:\n",
    "            ohlcv = await exchange.watch_ohlcv(symbol, timeframe)\n",
    "            for oh in ohlcv:\n",
    "                b = Bar(oh[0] * 1000000, oh[1], oh[2], oh[3], oh[4], oh[6], oh[7])\n",
    "                channel.queue.put((symbol, b))\n",
    "        except Exception as e:\n",
    "            print(type(e).__name__, str(e), flush=True)\n",
    "            await exchange.close()\n",
    "            raise e"
   ]
  },
  {
   "cell_type": "code",
   "execution_count": 5,
   "metadata": {},
   "outputs": [],
   "source": [
    "symbs = ['1INCHUSDT', 'AGLDUSDT', 'APEUSDT', 'ARBUSDT', 'AUCTIONUSDT', 'BANDUSDT', 'BATUSDT', 'C98USDT', 'COMPUSDT', 'CYBERUSDT',\n",
    "        'DYDXUSDT', 'ENSUSDT', 'FXSUSDT', 'HFTUSDT', 'ICXUSDT', 'IOSTUSDT', 'IOTAUSDT', 'IOTXUSDT', 'LDOUSDT', 'LQTYUSDT', 'LTCUSDT',\n",
    "        'MASKUSDT', 'MBOXUSDT', 'MINAUSDT', 'MTLUSDT', 'OGNUSDT', 'OPUSDT', 'PEOPLEUSDT', 'POLSUSDT', 'PYRUSDT', 'QNTUSDT', 'RADUSDT',\n",
    "        'RDNTUSDT', 'RIFUSDT', 'RLCUSDT', 'SEIUSDT', 'SPELLUSDT', 'SSVUSDT', 'STGUSDT', 'STXUSDT', 'SUIUSDT', 'UMAUSDT', 'WAVESUSDT']"
   ]
  },
  {
   "cell_type": "code",
   "execution_count": 6,
   "metadata": {},
   "outputs": [
    {
     "name": "stdout",
     "output_type": "stream",
     "text": [
      "START LISTENING\n"
     ]
    }
   ],
   "source": [
    "chan = CtrlChannel('ticks')\n",
    "reader = RunThread(chan)\n",
    "reader.add(receiver)\n",
    "reader.start()"
   ]
  },
  {
   "cell_type": "code",
   "execution_count": 7,
   "metadata": {},
   "outputs": [],
   "source": [
    "# bu = cxp.binanceusdm()\n",
    "# bu = cxp.binance()\n",
    "bu = BinanceQV()\n",
    "# bu = getattr(cxp, 'binanceqv')()\n",
    "t1 = RunThread(chan)\n",
    "for s in symbs:\n",
    "    t1.add(listen_to_ohlcv, bu, s, '15m', 10)\n",
    "\n",
    "# t1.add(listen_to_ohlcv, bu, 'BTCUSDT', '5m', 10)\n",
    "# t1.add(listen_to_ohlcv, bu, 'ETHUSDT', '5m', 10)\n",
    "# t1.add(listen_to_ohlcv, bu, 'LTCUSDT', '5m', 10)\n",
    "# t1.add(listen_to_ohlcv, bu, 'SOLUSDT', '5m', 10)\n",
    "# t1.add(listen_to_trades, bu, ['BTCUSDT', 'ETHUSDT', 'SOLUSDT'])\n",
    "# t1.add(listen_to_orderbook, bu, ['BTCUSDT', 'ETHUSDT', 'SOLUSDT'])\n",
    "t1.start()"
   ]
  },
  {
   "cell_type": "code",
   "execution_count": 10,
   "metadata": {},
   "outputs": [],
   "source": [
    "reader.stop()\n",
    "t1.stop()"
   ]
  },
  {
   "cell_type": "code",
   "execution_count": null,
   "metadata": {},
   "outputs": [],
   "source": [
    "print(len(reader.result[0]), len(symbs))\n",
    "reader.result[0]"
   ]
  },
  {
   "cell_type": "markdown",
   "metadata": {},
   "source": [
    "# StrategyCtx"
   ]
  },
  {
   "cell_type": "code",
   "execution_count": 27,
   "metadata": {},
   "outputs": [],
   "source": [
    "from qubx import logger\n",
    "\n",
    "class ZeroStrat(IStrategy):\n",
    "    param1: int = 0\n",
    "\n",
    "    def on_start(self, ctx: StrategyContext):\n",
    "        logger.info(f\"> Started with param1 = {self.param1}\")\n",
    "\n",
    "    def on_event(self, ctx: StrategyContext, event: TriggerEvent) -> Optional[List[Signal]]:\n",
    "        logger.info(f\"{event.time} -> {event}\")\n",
    "        return None"
   ]
  },
  {
   "cell_type": "code",
   "execution_count": 127,
   "metadata": {},
   "outputs": [
    {
     "data": {
      "text/plain": [
       "numpy.datetime64('2024-03-27T16:04:03.823145000')"
      ]
     },
     "execution_count": 127,
     "metadata": {},
     "output_type": "execute_result"
    }
   ],
   "source": [
    "cc = CCXTConnector('binance')\n",
    "cc.time()"
   ]
  },
  {
   "cell_type": "code",
   "execution_count": null,
   "metadata": {},
   "outputs": [],
   "source": [
    "# cc.get_historical_ohlcs('BTCUSDT', '1d', 20)"
   ]
  },
  {
   "cell_type": "code",
   "execution_count": 139,
   "metadata": {},
   "outputs": [
    {
     "name": "stdout",
     "output_type": "stream",
     "text": [
      "\u001b[32m2024-03-27 18:06:24.654\u001b[0m [ \u001b[1mℹ️\u001b[0m ] \u001b[1mSet param1 -> 1\u001b[0m\n"
     ]
    },
    {
     "ename": "TypeError",
     "evalue": "bad operand type for abs(): 'TriggerType'",
     "output_type": "error",
     "traceback": [
      "\u001b[1;31m---------------------------------------------------------------------------\u001b[0m",
      "\u001b[1;31mTypeError\u001b[0m                                 Traceback (most recent call last)",
      "Cell \u001b[1;32mIn[139], line 1\u001b[0m\n\u001b[1;32m----> 1\u001b[0m ctx \u001b[38;5;241m=\u001b[39m \u001b[43mStrategyContext\u001b[49m\u001b[43m(\u001b[49m\n\u001b[0;32m      2\u001b[0m \u001b[43m    \u001b[49m\u001b[43mZeroStrat\u001b[49m\u001b[43m(\u001b[49m\u001b[43m)\u001b[49m\u001b[43m,\u001b[49m\u001b[43m \u001b[49m\u001b[38;5;28;43mdict\u001b[39;49m\u001b[43m(\u001b[49m\u001b[43mparam1\u001b[49m\u001b[43m \u001b[49m\u001b[38;5;241;43m=\u001b[39;49m\u001b[43m \u001b[49m\u001b[38;5;241;43m1\u001b[39;49m\u001b[43m)\u001b[49m\u001b[43m,\u001b[49m\u001b[43m \u001b[49m\u001b[43mcc\u001b[49m\u001b[43m,\u001b[49m\u001b[43m \u001b[49m\u001b[43mcc\u001b[49m\u001b[43m,\u001b[49m\u001b[43m \u001b[49m\n\u001b[0;32m      3\u001b[0m \u001b[43m    \u001b[49m\u001b[43minstruments\u001b[49m\u001b[38;5;241;43m=\u001b[39;49m\u001b[43mlookup\u001b[49m\u001b[38;5;241;43m.\u001b[39;49m\u001b[43minstruments\u001b[49m\u001b[43m[\u001b[49m\u001b[38;5;124;43mr\u001b[39;49m\u001b[38;5;124;43m'\u001b[39;49m\u001b[38;5;124;43mBINANCE:(BTC|ETH|LTC)USDT\u001b[39;49m\u001b[38;5;124;43m'\u001b[39;49m\u001b[43m]\u001b[49m\u001b[43m,\u001b[49m\n\u001b[0;32m      4\u001b[0m \u001b[43m    \u001b[49m\u001b[43mmd_subscription_params\u001b[49m\u001b[38;5;241;43m=\u001b[39;49m\u001b[43m{\u001b[49m\u001b[38;5;124;43m'\u001b[39;49m\u001b[38;5;124;43mtimeframe\u001b[39;49m\u001b[38;5;124;43m'\u001b[39;49m\u001b[43m:\u001b[49m\u001b[43m \u001b[49m\u001b[38;5;124;43m'\u001b[39;49m\u001b[38;5;124;43m1Min\u001b[39;49m\u001b[38;5;124;43m'\u001b[39;49m\u001b[43m,\u001b[49m\u001b[43m \u001b[49m\u001b[38;5;124;43m'\u001b[39;49m\u001b[38;5;124;43mnback\u001b[39;49m\u001b[38;5;124;43m'\u001b[39;49m\u001b[43m:\u001b[49m\u001b[43m \u001b[49m\u001b[38;5;241;43m10\u001b[39;49m\u001b[43m}\u001b[49m\u001b[43m,\u001b[49m\n\u001b[0;32m      5\u001b[0m \u001b[43m    \u001b[49m\u001b[43mfees_spec\u001b[49m\u001b[38;5;241;43m=\u001b[39;49m\u001b[38;5;124;43m'\u001b[39;49m\u001b[38;5;124;43mvip0_usdt\u001b[39;49m\u001b[38;5;124;43m'\u001b[39;49m\u001b[43m,\u001b[49m\u001b[43m \u001b[49m\u001b[43mbase_currency\u001b[49m\u001b[38;5;241;43m=\u001b[39;49m\u001b[38;5;124;43m'\u001b[39;49m\u001b[38;5;124;43mUSDT\u001b[39;49m\u001b[38;5;124;43m'\u001b[39;49m\u001b[43m,\u001b[49m\n\u001b[0;32m      6\u001b[0m \u001b[43m    \u001b[49m\u001b[38;5;66;43;03m# trigger_on=TriggerType.BAR.timeframe('5Min').delay('-1Sec'),\u001b[39;49;00m\n\u001b[0;32m      7\u001b[0m \u001b[43m    \u001b[49m\u001b[43mtrigger_on\u001b[49m\u001b[38;5;241;43m=\u001b[39;49m\u001b[43mTriggerType\u001b[49m\u001b[38;5;241;43m.\u001b[39;49m\u001b[43mBAR\u001b[49m\u001b[43m,\u001b[49m\n\u001b[0;32m      8\u001b[0m \u001b[43m)\u001b[49m\n",
      "File \u001b[1;32mc:\\Users\\dmitr\\devs\\Qubx\\experiments\\../src\\qubx\\core\\strategy.py:208\u001b[0m, in \u001b[0;36mStrategyContext.__init__\u001b[1;34m(self, strategy, config, data_provider, exchange_service, instruments, fees_spec, base_currency, trigger_on, md_subscription_type, md_subscription_params)\u001b[0m\n\u001b[0;32m    205\u001b[0m \u001b[38;5;28;01mif\u001b[39;00m trigger_on\u001b[38;5;241m.\u001b[39m_inside_bar_delay \u001b[38;5;129;01mis\u001b[39;00m \u001b[38;5;28;01mNone\u001b[39;00m:\n\u001b[0;32m    206\u001b[0m     \u001b[38;5;28;01mraise\u001b[39;00m \u001b[38;5;167;01mValueError\u001b[39;00m(\u001b[38;5;124mf\u001b[39m\u001b[38;5;124m\"\u001b[39m\u001b[38;5;124mDelay is required for \u001b[39m\u001b[38;5;132;01m{\u001b[39;00mtrigger_on\u001b[38;5;241m.\u001b[39mname\u001b[38;5;132;01m}\u001b[39;00m\u001b[38;5;124m trigger: use TriggerType.delay(...)\u001b[39m\u001b[38;5;124m\"\u001b[39m)\n\u001b[1;32m--> 208\u001b[0m \u001b[38;5;28;01mif\u001b[39;00m \u001b[38;5;28;43mabs\u001b[39;49m\u001b[43m(\u001b[49m\u001b[43mtrigger_on\u001b[49m\u001b[38;5;241;43m.\u001b[39;49m\u001b[43m_inside_bar_delay\u001b[49m\u001b[43m)\u001b[49m \u001b[38;5;241m>\u001b[39m pd\u001b[38;5;241m.\u001b[39mTimedelta(trigger_on\u001b[38;5;241m.\u001b[39m_bar_timeframe):\n\u001b[0;32m    209\u001b[0m     \u001b[38;5;28;01mraise\u001b[39;00m \u001b[38;5;167;01mValueError\u001b[39;00m(\u001b[38;5;124mf\u001b[39m\u001b[38;5;124m\"\u001b[39m\u001b[38;5;124mDelay must be less or equal to bar\u001b[39m\u001b[38;5;124m'\u001b[39m\u001b[38;5;124ms timeframe for \u001b[39m\u001b[38;5;132;01m{\u001b[39;00mtrigger_on\u001b[38;5;241m.\u001b[39mname\u001b[38;5;132;01m}\u001b[39;00m\u001b[38;5;124m trigger: you set delay \u001b[39m\u001b[38;5;132;01m{\u001b[39;00mtrigger_on\u001b[38;5;241m.\u001b[39m_inside_bar_delay\u001b[38;5;132;01m}\u001b[39;00m\u001b[38;5;124m for \u001b[39m\u001b[38;5;132;01m{\u001b[39;00mtrigger_on\u001b[38;5;241m.\u001b[39m_bar_timeframe\u001b[38;5;132;01m}\u001b[39;00m\u001b[38;5;124m\"\u001b[39m)\n\u001b[0;32m    211\u001b[0m \u001b[38;5;66;03m# for positive delay - trigger strategy when this interval passed after new bar's open\u001b[39;00m\n",
      "\u001b[1;31mTypeError\u001b[0m: bad operand type for abs(): 'TriggerType'"
     ]
    }
   ],
   "source": [
    "ctx = StrategyContext(\n",
    "    ZeroStrat(), dict(param1 = 1), cc, cc, \n",
    "    instruments=lookup.instruments[r'BINANCE:(BTC|ETH|LTC)USDT'],\n",
    "    md_subscription_params={'timeframe': '1Min', 'nback': 10},\n",
    "    fees_spec='vip0_usdt', base_currency='USDT',\n",
    "    # trigger_on=TriggerType.BAR.timeframe('5Min').delay('-1Sec'),\n",
    "    trigger_on=TriggerType.BAR,\n",
    ")"
   ]
  },
  {
   "cell_type": "code",
   "execution_count": 156,
   "metadata": {},
   "outputs": [
    {
     "data": {
      "text/plain": [
       "True"
      ]
     },
     "execution_count": 156,
     "metadata": {},
     "output_type": "execute_result"
    }
   ],
   "source": [
    "TriggerType.BAR.delay('1h')._inside_bar_delay == TriggerType.BAR._inside_bar_delay"
   ]
  },
  {
   "cell_type": "code",
   "execution_count": 136,
   "metadata": {},
   "outputs": [
    {
     "data": {
      "text/plain": [
       "<TriggerType.BAR: 1>"
      ]
     },
     "execution_count": 136,
     "metadata": {},
     "output_type": "execute_result"
    }
   ],
   "source": [
    "TriggerType.BAR"
   ]
  },
  {
   "cell_type": "code",
   "execution_count": null,
   "metadata": {},
   "outputs": [],
   "source": [
    "ctx.start()"
   ]
  },
  {
   "cell_type": "code",
   "execution_count": 31,
   "metadata": {},
   "outputs": [
    {
     "name": "stdout",
     "output_type": "stream",
     "text": [
      "\u001b[32m2024-03-27 16:24:31.722\u001b[0m [ \u001b[1mℹ️\u001b[0m ] \u001b[1mStop market data listening\u001b[0m\n"
     ]
    }
   ],
   "source": [
    "ctx.stop()"
   ]
  },
  {
   "cell_type": "code",
   "execution_count": null,
   "metadata": {},
   "outputs": [],
   "source": [
    "ctx.sers"
   ]
  },
  {
   "cell_type": "code",
   "execution_count": 34,
   "metadata": {},
   "outputs": [],
   "source": [
    "await cc.exch.close()"
   ]
  },
  {
   "cell_type": "code",
   "execution_count": null,
   "metadata": {},
   "outputs": [],
   "source": [
    "# cc.close()"
   ]
  },
  {
   "cell_type": "markdown",
   "metadata": {},
   "source": [
    "<hr/>"
   ]
  },
  {
   "cell_type": "code",
   "execution_count": 126,
   "metadata": {},
   "outputs": [
    {
     "data": {
      "text/plain": [
       "<TriggerType.BAR: 1>"
      ]
     },
     "execution_count": 126,
     "metadata": {},
     "output_type": "execute_result"
    }
   ],
   "source": [
    "TriggerType.BAR.timeframe('5Min').delay('-1Sec')"
   ]
  },
  {
   "cell_type": "code",
   "execution_count": 92,
   "metadata": {},
   "outputs": [
    {
     "data": {
      "text/plain": [
       "<TriggerType.PERIODIC: 1>"
      ]
     },
     "execution_count": 92,
     "metadata": {},
     "output_type": "execute_result"
    }
   ],
   "source": [
    "TriggerType.PERIODIC.timeframe('9h').delay('31Min')\n"
   ]
  },
  {
   "cell_type": "code",
   "execution_count": 98,
   "metadata": {},
   "outputs": [
    {
     "data": {
      "text/plain": [
       "<TriggerType.PERIODIC: 1>"
      ]
     },
     "execution_count": 98,
     "metadata": {},
     "output_type": "execute_result"
    }
   ],
   "source": [
    "TriggerType.PERIODIC"
   ]
  },
  {
   "cell_type": "code",
   "execution_count": 121,
   "metadata": {},
   "outputs": [
    {
     "data": {
      "text/plain": [
       "numpy.timedelta64(295000000000,'ns')"
      ]
     },
     "execution_count": 121,
     "metadata": {},
     "output_type": "execute_result"
    }
   ],
   "source": [
    "(pd.Timedelta('5Min') + pd.Timedelta('-5Sec')).asm8#.item()"
   ]
  }
 ],
 "metadata": {
  "kernelspec": {
   "display_name": "p311qbx",
   "language": "python",
   "name": "python3"
  },
  "language_info": {
   "codemirror_mode": {
    "name": "ipython",
    "version": 3
   },
   "file_extension": ".py",
   "mimetype": "text/x-python",
   "name": "python",
   "nbconvert_exporter": "python",
   "pygments_lexer": "ipython3",
   "version": "3.11.8"
  }
 },
 "nbformat": 4,
 "nbformat_minor": 2
}
