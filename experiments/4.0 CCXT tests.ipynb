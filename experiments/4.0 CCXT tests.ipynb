{
 "cells": [
  {
   "cell_type": "code",
   "execution_count": 1,
   "metadata": {},
   "outputs": [
    {
     "name": "stdout",
     "output_type": "stream",
     "text": [
      " >  [\u001b[32mdev\u001b[0m] \u001b[31minstalled cython rebuilding hook\u001b[0m\n",
      "\n",
      "                   \u001b[31m╻\u001b[0m\n",
      "   \u001b[32m┏┓      ╻     \u001b[0m  \u001b[31m┃\u001b[0m  \u001b[33m┏┓\u001b[0m       \u001b[36mQuantitative Backtesting Environment\u001b[0m \n",
      "   \u001b[32m┃┃  ┓┏  ┣┓  ┏┓\u001b[0m  \u001b[31m┃\u001b[0m  \u001b[33m┏┛\u001b[0m       \n",
      "   \u001b[32m┗┻  ┗┻  ┗┛  ┗ \u001b[0m  \u001b[31m┃\u001b[0m  \u001b[33m┗━\u001b[0m       (c) 2024,  ver. \u001b[35mDev\u001b[0m\n",
      "                   \u001b[31m╹\u001b[0m       \n",
      "\n"
     ]
    }
   ],
   "source": [
    "import sys, os, re; sys.path = ([\"../src/\", \"../\"] if re.match(r'^(\\w\\:\\\\)|(/)', os.getcwd()) else [])+ sys.path \n",
    "\n",
    "import ccxt as cx\n",
    "import ccxt.pro as cxp\n",
    "from ccxt.base.decimal_to_precision import ROUND_UP\n",
    "import asyncio\n",
    "import nest_asyncio\n",
    "nest_asyncio.apply()\n",
    "\n",
    "import qubx\n",
    "%qubxd\n",
    "\n",
    "%load_ext autoreload\n",
    "%autoreload 2\n",
    "\n",
    "from qubx import lookup\n",
    "from qubx.core.basics import Trade, Quote\n",
    "from qubx.core.series import TimeSeries\n",
    "from qubx.impl.ccxt_connector import CCXT_connector"
   ]
  },
  {
   "cell_type": "markdown",
   "metadata": {},
   "source": [
    "# Common"
   ]
  },
  {
   "cell_type": "code",
   "execution_count": null,
   "metadata": {},
   "outputs": [],
   "source": [
    "lookup.instruments['KRAKEN.F:BTC/USD']"
   ]
  },
  {
   "cell_type": "code",
   "execution_count": 34,
   "metadata": {},
   "outputs": [
    {
     "data": {
      "text/plain": [
       "Instrument(symbol='BTCUSDT', market_type='CRYPTO', exchange='BINANCE.UM', base='BTC', quote='USDT', margin_symbol='USDT', min_tick=0.1, min_size_step=0.001, min_size=0.001, futures_info=FuturesInfo(contract_type='PERPETUAL', delivery_date=datetime.datetime(2100, 12, 25, 10, 0), onboard_date=datetime.datetime(2019, 9, 25, 11, 0), contract_size=1.0, maint_margin=2.5, required_margin=5.0, liquidation_fee=0.0125), _aux_instrument=None)"
      ]
     },
     "execution_count": 34,
     "metadata": {},
     "output_type": "execute_result"
    }
   ],
   "source": [
    "instr = lookup.instruments.find('BINANCE.UM', 'BTC', 'USDT')\n",
    "instr"
   ]
  },
  {
   "cell_type": "code",
   "execution_count": 39,
   "metadata": {},
   "outputs": [
    {
     "data": {
      "text/plain": [
       "Instrument(symbol='ETH/BTC', market_type='spot', exchange='KRAKEN', base='ETH', quote='BTC', margin_symbol=None, min_tick=1e-05, min_size_step=1e-05, min_size=1e-08, futures_info=None, _aux_instrument=None)"
      ]
     },
     "execution_count": 39,
     "metadata": {},
     "output_type": "execute_result"
    }
   ],
   "source": [
    "instr = lookup.instruments.find('KRAKEN', 'BTC', 'ETH')\n",
    "instr"
   ]
  },
  {
   "cell_type": "code",
   "execution_count": 38,
   "metadata": {},
   "outputs": [
    {
     "data": {
      "text/plain": [
       "Instrument(symbol='BTC/USD', market_type='spot', exchange='KRAKEN', base='BTC', quote='USD', margin_symbol=None, min_tick=0.1, min_size_step=0.1, min_size=1e-08, futures_info=None, _aux_instrument=None)"
      ]
     },
     "execution_count": 38,
     "metadata": {},
     "output_type": "execute_result"
    }
   ],
   "source": [
    "lookup.find_aux_instrument_for(instr, 'USD')"
   ]
  },
  {
   "cell_type": "code",
   "execution_count": 46,
   "metadata": {},
   "outputs": [],
   "source": [
    "bu = cxp.binanceusdm()\n",
    "bs = cxp.binance()\n",
    "ks = cxp.kraken()\n",
    "kf = cxp.krakenfutures()"
   ]
  },
  {
   "cell_type": "markdown",
   "metadata": {},
   "source": [
    "# Get OHLC [TODO]"
   ]
  },
  {
   "cell_type": "code",
   "execution_count": 47,
   "metadata": {},
   "outputs": [],
   "source": [
    "bs_markets = await bs.load_markets()\n",
    "bu_markets = await bu.load_markets()\n",
    "kf_markets = await kf.load_markets()\n",
    "ks_markets = await ks.load_markets()"
   ]
  },
  {
   "cell_type": "code",
   "execution_count": 53,
   "metadata": {},
   "outputs": [
    {
     "data": {
      "text/plain": [
       "60"
      ]
     },
     "execution_count": 53,
     "metadata": {},
     "output_type": "execute_result"
    }
   ],
   "source": [
    "bu.parse_timeframe('1m')"
   ]
  },
  {
   "cell_type": "code",
   "execution_count": null,
   "metadata": {},
   "outputs": [],
   "source": [
    "interval = bu.parse_timeframe('1m') * 1000\n",
    "orderbook_max_levels_limit = 100\n",
    "since = bu.round_timeframe('1m', bu.milliseconds(), ROUND_UP) - orderbook_max_levels_limit * interval\n",
    "await bu.fetch_ohlcv('ETH/USDT', '1m', since=since, limit=orderbook_max_levels_limit)"
   ]
  },
  {
   "cell_type": "code",
   "execution_count": null,
   "metadata": {},
   "outputs": [],
   "source": [
    "# await bnc1.fetch_ohlcv('ETH/USDT', '1m', since=since, limit=limit)"
   ]
  },
  {
   "cell_type": "code",
   "execution_count": 57,
   "metadata": {},
   "outputs": [],
   "source": [
    "cxc = CCXT_connector('binance')"
   ]
  },
  {
   "cell_type": "markdown",
   "metadata": {},
   "source": []
  },
  {
   "cell_type": "markdown",
   "metadata": {},
   "source": [
    "# Listen to data"
   ]
  },
  {
   "cell_type": "code",
   "execution_count": 7,
   "metadata": {},
   "outputs": [],
   "source": [
    "from typing import List\n",
    "from ccxt.base.exchange import Exchange\n",
    "from threading import Thread, Event, Lock\n",
    "from queue import Queue\n",
    "# from multiprocessing import Queue #as Queue\n",
    "\n",
    "class Channel:\n",
    "    control: Event\n",
    "    queue: Queue\n",
    "    name: str\n",
    "    lock: Lock\n",
    "\n",
    "    def __init__(self, name: str):\n",
    "        self.name = name\n",
    "        self.control = Event()\n",
    "        self.queue = Queue()\n",
    "        self.lock = Lock()\n",
    "\n",
    "    def stop(self):\n",
    "        if self.control.is_set():\n",
    "            self.control.clear()\n",
    "\n",
    "    def start(self):\n",
    "        self.control.set()\n",
    "\n",
    "class RunThread(Thread):\n",
    "    def __init__(self, channel: Channel):\n",
    "        self.result = None\n",
    "        self.ch = channel\n",
    "        self.loops = []\n",
    "        super().__init__()\n",
    "\n",
    "    def add(self, func, *args, **kwargs):\n",
    "        self.loops.append(func(self.ch, *args, **kwargs))\n",
    "\n",
    "    async def run_loop(self):\n",
    "        self.result = await asyncio.gather(*self.loops)\n",
    "\n",
    "    def run(self):\n",
    "        self.ch.control.set()\n",
    "        asyncio.run(self.run_loop())\n",
    "\n",
    "    def stop(self):\n",
    "        self.ch.control.clear()\n",
    "        self.ch.queue.put((None, None)) # send sentinel\n",
    "\n",
    "\n",
    "async def listen_to_trades(channel: Channel, exchange: Exchange, symbols: List[str]):\n",
    "    method = 'watchTrades'\n",
    "    if exchange.has[method]:\n",
    "        # lock = channel.lock\n",
    "        while channel.control.is_set():\n",
    "            try:\n",
    "                # c_time = exchange.iso8601(exchange.milliseconds())\n",
    "                trades = await exchange.watch_trades_for_symbols(symbols)\n",
    "                # lock.acquire()\n",
    "                for trade in trades:\n",
    "                    # trade = trades[-1]\n",
    "                    t_ns = trade['timestamp'] * 1_000_000 # this is trade time \n",
    "                    s = trade['symbol']\n",
    "                    info = trade['info']\n",
    "                    price = trade['price']\n",
    "                    m = info['m']\n",
    "                    amnt = trade['amount'] # in base currency\n",
    "                    tas = Trade(t_ns, price, amnt, int(not m), int(trade['id']))\n",
    "                    channel.queue.put((s, tas))\n",
    "                # lock.release()\n",
    "                # print(trade, flush=True)\n",
    "                # print(f\"\\t[{c_time}] {s} : {str(tas)}\", flush=True)\n",
    "            except Exception as e:\n",
    "                print(type(e).__name__, str(e), flush=True)\n",
    "                await exchange.close()\n",
    "                raise e\n",
    "    else:\n",
    "        raise Exception(exchange.id + ' ' + method + ' is not supported or not implemented yet')\n",
    "\n",
    "async def listen_to_orderbook(channel: Channel, exchange: Exchange, symbols: List[str], orderbook_max_levels_limit=5):\n",
    "    lock = channel.lock\n",
    "    while channel.control.is_set():\n",
    "        try:\n",
    "            orderbook = await exchange.watch_order_book_for_symbols(symbols, limit=orderbook_max_levels_limit)\n",
    "            # - check what this time is ?\n",
    "            t_ns = orderbook['timestamp'] * 1_000_000\n",
    "            s = orderbook['symbol']\n",
    "            b, a = orderbook['bids'], orderbook['asks']\n",
    "            q = Quote(t_ns, b[0][0], a[0][0], b[0][1], a[0][1])\n",
    "            # lock.acquire()\n",
    "            channel.queue.put((s, q))\n",
    "            # lock.release()\n",
    "            # c_time = exchange.iso8601(exchange.milliseconds())\n",
    "            # print(f\"[{c_time}] {s} : {str(q)}\", flush=True)\n",
    "        except Exception as e:\n",
    "            print(type(e).__name__, str(e), flush=True)\n",
    "            await exchange.close()\n",
    "            raise e\n",
    "\n",
    "async def receiver(channel: Channel):\n",
    "    sers = {}\n",
    "    print(\"START LISTENING\", flush=True)\n",
    "    T, Q = 0, 0\n",
    "    while channel.control.is_set():\n",
    "        s, data = channel.queue.get()\n",
    "        if isinstance(data, Quote):\n",
    "            if not (Q % 100):\n",
    "                print(s, data, flush=True)\n",
    "                Q = 0\n",
    "            Q += 1\n",
    "        if isinstance(data, Trade):\n",
    "            if s not in sers:\n",
    "                sers[s] = TimeSeries(s, '1Min')\n",
    "            ts = sers[s]\n",
    "            ts.update(data.time, data.price)\n",
    "\n",
    "            if not (T % 100):\n",
    "                print(s, data, flush=True)\n",
    "                T = 0\n",
    "            T += 1\n",
    "    print(f\"STOP LISTENING: {str(sers)}\", flush=True)\n",
    "    return sers "
   ]
  },
  {
   "cell_type": "code",
   "execution_count": 8,
   "metadata": {},
   "outputs": [
    {
     "name": "stdout",
     "output_type": "stream",
     "text": [
      "START LISTENING\n"
     ]
    }
   ],
   "source": [
    "chan = Channel('ticks')\n",
    "reader = RunThread(chan)\n",
    "reader.add(receiver)\n",
    "reader.start()"
   ]
  },
  {
   "cell_type": "code",
   "execution_count": null,
   "metadata": {},
   "outputs": [
    {
     "name": "stdout",
     "output_type": "stream",
     "text": [
      "SOL/USDT:USDT [2024-03-22T16:31:22.464000000]\t170.54000 (3.0) <take> 1439410614\n",
      "BTC/USDT:USDT [2024-03-22T16:31:22.598000000]\t63423.90000 (0.8) | 63424.00000 (3.8)\n",
      "BTC/USDT:USDT [2024-03-22T16:31:23.466000000]\t63427.60000 (0.0) <take> 4785611097\n",
      "BTC/USDT:USDT [2024-03-22T16:31:23.989000000]\t63439.70000 (0.0) <take> 4785611147\n",
      "SOL/USDT:USDT [2024-03-22T16:31:24.237000000]\t170.59900 (1.0) <take> 1439410668\n",
      "ETH/USDT:USDT [2024-03-22T16:31:24.551000000]\t3319.29000 (0.0) <take> 3798498582\n",
      "ETH/USDT:USDT [2024-03-22T16:31:25.297000000]\t3318.60000 (0.7) <take> 3798498632\n",
      "BTC/USDT:USDT [2024-03-22T16:31:25.514000000]\t63427.00000 (0.7) <make> 4785611330\n",
      "ETH/USDT:USDT [2024-03-22T16:31:26.046000000]\t3317.83000 (0.0) <take> 3798498689\n",
      "SOL/USDT:USDT [2024-03-22T16:31:26.295000000]\t170.45600 (1.0) <make> 1439410870\n",
      "ETH/USDT:USDT [2024-03-22T16:31:27.345000000]\t3317.98000 (0.0) <make> 3798498727\n",
      "BTC/USDT:USDT [2024-03-22T16:31:27.875000000]\t63418.90000 (0.3) | 63420.10000 (2.4)\n",
      "SOL/USDT:USDT [2024-03-22T16:31:28.607000000]\t170.52500 (1.0) <take> 1439410910\n",
      "SOL/USDT:USDT [2024-03-22T16:31:30.260000000]\t170.53100 (1.0) <make> 1439410917\n",
      "BTC/USDT:USDT [2024-03-22T16:31:31.901000000]\t63422.60000 (0.0) <take> 4785611531\n",
      "SOL/USDT:USDT [2024-03-22T16:31:32.723000000]\t170.54400 (1.0) <take> 1439410966\n",
      "BTC/USDT:USDT [2024-03-22T16:31:32.976000000]\t63432.00000 (0.3) | 63432.10000 (3.3)\n",
      "ETH/USDT:USDT [2024-03-22T16:31:33.345000000]\t3317.58000 (0.0) <take> 3798498957\n",
      "ETH/USDT:USDT [2024-03-22T16:31:33.715000000]\t3317.36000 (0.0) <make> 3798498998\n",
      "SOL/USDT:USDT [2024-03-22T16:31:33.870000000]\t170.44500 (1.0) <make> 1439411013\n",
      "BTC/USDT:USDT [2024-03-22T16:31:34.378000000]\t63407.10000 (0.1) <make> 4785611670\n",
      "BTC/USDT:USDT [2024-03-22T16:31:34.649000000]\t63402.10000 (0.0) <take> 4785611764\n",
      "BTC/USDT:USDT [2024-03-22T16:31:35.435000000]\t63413.80000 (0.0) <take> 4785611804\n",
      "ETH/USDT:USDT [2024-03-22T16:31:35.908000000]\t3316.64000 (0.1) <take> 3798499231\n",
      "ETH/USDT:USDT [2024-03-22T16:31:36.637000000]\t3316.34000 (0.0) <make> 3798499240\n",
      "SOL/USDT:USDT [2024-03-22T16:31:37.641000000]\t170.50000 (1.0) <take> 1439411106\n",
      "ETH/USDT:USDT [2024-03-22T16:31:37.833000000]\t3316.59000 (5.0) | 3316.60000 (26.0)\n",
      "BTC/USDT:USDT [2024-03-22T16:31:38.139000000]\t63415.60000 (0.0) <take> 4785612030\n",
      "ETH/USDT:USDT [2024-03-22T16:31:39.035000000]\t3316.16000 (0.0) <make> 3798499333\n",
      "SOL/USDT:USDT [2024-03-22T16:31:39.570000000]\t170.47400 (1.0) <take> 1439411141\n",
      "BTC/USDT:USDT [2024-03-22T16:31:41.203000000]\t63410.90000 (0.0) <make> 4785612135\n",
      "SOL/USDT:USDT [2024-03-22T16:31:42.075000000]\t170.52900 (10.0) | 170.53000 (23.0)\n",
      "ETH/USDT:USDT [2024-03-22T16:31:42.498000000]\t3316.46000 (0.1) <take> 3798499490\n",
      "SOL/USDT:USDT [2024-03-22T16:31:42.951000000]\t170.55800 (2.0) <take> 1439411215\n",
      "ETH/USDT:USDT [2024-03-22T16:31:44.363000000]\t3317.54000 (0.0) <take> 3798499545\n",
      "BTC/USDT:USDT [2024-03-22T16:31:46.111000000]\t63422.80000 (5.3) | 63422.90000 (0.5)\n",
      "BTC/USDT:USDT [2024-03-22T16:31:46.320000000]\t63422.90000 (0.0) <take> 4785612279\n",
      "BTC/USDT:USDT [2024-03-22T16:31:46.652000000]\t63430.00000 (0.0) <take> 4785612322\n",
      "BTC/USDT:USDT [2024-03-22T16:31:47.209000000]\t63439.10000 (0.0) <take> 4785612364\n",
      "ETH/USDT:USDT [2024-03-22T16:31:47.294000000]\t3318.48000 (0.0) <take> 3798499633\n",
      "ETH/USDT:USDT [2024-03-22T16:31:48.554000000]\t3318.88000 (0.2) <make> 3798499665\n",
      "BTC/USDT:USDT [2024-03-22T16:31:49.569000000]\t63450.80000 (0.0) <make> 4785612486\n",
      "SOL/USDT:USDT [2024-03-22T16:31:49.837000000]\t170.63300 (2.0) <make> 1439411462\n",
      "ETH/USDT:USDT [2024-03-22T16:31:50.651000000]\t3317.77000 (0.3) <take> 3798499788\n",
      "BTC/USDT:USDT [2024-03-22T16:31:50.788000000]\t63447.40000 (4.5) | 63447.50000 (0.5)\n",
      "BTC/USDT:USDT [2024-03-22T16:31:52.051000000]\t63447.40000 (0.1) <make> 4785612581\n",
      "BTC/USDT:USDT [2024-03-22T16:31:52.293000000]\t63431.30000 (0.1) <make> 4785612669\n",
      "SOL/USDT:USDT [2024-03-22T16:31:52.704000000]\t170.66300 (1.0) <take> 1439411589\n",
      "ETH/USDT:USDT [2024-03-22T16:31:53.589000000]\t3317.52000 (0.3) <make> 3798499919\n",
      "ETH/USDT:USDT [2024-03-22T16:31:54.087000000]\t3317.58000 (0.0) <take> 3798499980\n",
      "BTC/USDT:USDT [2024-03-22T16:31:54.686000000]\t63451.00000 (0.0) <take> 4785612788\n",
      "BTC/USDT:USDT [2024-03-22T16:31:54.800000000]\t63461.00000 (0.1) <take> 4785612840\n",
      "BTC/USDT:USDT [2024-03-22T16:31:54.961000000]\t63462.30000 (4.7) | 63462.40000 (0.6)\n",
      "SOL/USDT:USDT [2024-03-22T16:31:55.651000000]\t170.71100 (1.0) <take> 1439411728\n",
      "BTC/USDT:USDT [2024-03-22T16:31:55.850000000]\t63475.40000 (0.0) <take> 4785612908\n",
      "ETH/USDT:USDT [2024-03-22T16:31:56.257000000]\t3319.17000 (0.0) <take> 3798500094\n",
      "ETH/USDT:USDT [2024-03-22T16:31:56.343000000]\t3320.06000 (0.0) <take> 3798500194\n",
      "BTC/USDT:USDT [2024-03-22T16:31:56.524000000]\t63485.50000 (0.0) <take> 4785612994\n",
      "SOL/USDT:USDT [2024-03-22T16:31:56.793000000]\t170.80100 (1.0) <take> 1439411834\n",
      "BTC/USDT:USDT [2024-03-22T16:31:57.278000000]\t63500.00000 (0.4) <take> 4785613101\n",
      "ETH/USDT:USDT [2024-03-22T16:31:57.523000000]\t3320.86000 (0.6) <take> 3798500295\n",
      "ETH/USDT:USDT [2024-03-22T16:31:58.061000000]\t3321.64000 (0.0) <take> 3798500348\n",
      "ETH/USDT:USDT [2024-03-22T16:31:58.748000000]\t3321.73000 (3.5) <make> 3798500378\n",
      "SOL/USDT:USDT [2024-03-22T16:31:59.018000000]\t170.84100 (1.0) <make> 1439411929\n",
      "BTC/USDT:USDT [2024-03-22T16:31:59.926000000]\t63510.90000 (0.9) | 63511.00000 (1.2)\n",
      "BTC/USDT:USDT [2024-03-22T16:32:00.028000000]\t63510.90000 (0.0) <make> 4785613330\n",
      "BTC/USDT:USDT [2024-03-22T16:32:00.459000000]\t63506.10000 (0.0) <take> 4785613371\n",
      "ETH/USDT:USDT [2024-03-22T16:32:00.597000000]\t3322.09000 (0.0) <take> 3798500520\n",
      "BTC/USDT:USDT [2024-03-22T16:32:00.616000000]\t63520.30000 (0.3) <take> 4785613409\n",
      "ETH/USDT:USDT [2024-03-22T16:32:00.799000000]\t3323.25000 (0.2) <take> 3798500679\n",
      "ETH/USDT:USDT [2024-03-22T16:32:01.358000000]\t3322.97000 (0.3) <take> 3798500730\n",
      "ETH/USDT:USDT [2024-03-22T16:32:01.508000000]\t3322.73000 (2.3) <take> 3798500757\n",
      "ETH/USDT:USDT [2024-03-22T16:32:01.845000000]\t3323.60000 (0.0) <take> 3798500803\n",
      "ETH/USDT:USDT [2024-03-22T16:32:01.954000000]\t3324.00000 (0.0) <take> 3798500883\n",
      "ETH/USDT:USDT [2024-03-22T16:32:02.129000000]\t3324.29000 (0.0) <take> 3798500983\n",
      "SOL/USDT:USDT [2024-03-22T16:32:02.304000000]\t170.88200 (1.0) <make> 1439412157\n",
      "ETH/USDT:USDT [2024-03-22T16:32:02.302000000]\t3324.04000 (0.0) <make> 3798501017\n",
      "BTC/USDT:USDT [2024-03-22T16:32:02.644000000]\t63523.70000 (0.0) <make> 4785613593\n",
      "SOL/USDT:USDT [2024-03-22T16:32:03.220000000]\t170.88000 (3.0) <take> 1439412258\n",
      "ETH/USDT:USDT [2024-03-22T16:32:03.864000000]\t3323.54000 (0.0) <make> 3798501216\n",
      "BTC/USDT:USDT [2024-03-22T16:32:04.172000000]\t63505.70000 (0.0) <make> 4785613691\n",
      "SOL/USDT:USDT [2024-03-22T16:32:05.209000000]\t170.81600 (46.0) <make> 1439412328\n",
      "BTC/USDT:USDT [2024-03-22T16:32:05.276000000]\t63504.30000 (0.0) <make> 4785613762\n",
      "ETH/USDT:USDT [2024-03-22T16:32:05.604000000]\t3322.48000 (18.2) | 3322.49000 (12.9)\n",
      "ETH/USDT:USDT [2024-03-22T16:32:06.189000000]\t3322.74000 (0.0) <take> 3798501357\n",
      "ETH/USDT:USDT [2024-03-22T16:32:06.485000000]\t3323.22000 (0.2) <make> 3798501415\n",
      "ETH/USDT:USDT [2024-03-22T16:32:07.047000000]\t3322.58000 (0.0) <make> 3798501452\n",
      "SOL/USDT:USDT [2024-03-22T16:32:08.220000000]\t170.74600 (1.0) <make> 1439412476\n",
      "BTC/USDT:USDT [2024-03-22T16:32:08.319000000]\t63495.50000 (0.0) <make> 4785613892\n",
      "ETH/USDT:USDT [2024-03-22T16:32:09.140000000]\t3322.50000 (0.0) <take> 3798501535\n",
      "ETH/USDT:USDT [2024-03-22T16:32:09.763000000]\t3322.73000 (0.0) <make> 3798501577\n",
      "BTC/USDT:USDT [2024-03-22T16:32:10.290000000]\t63512.00000 (0.0) <take> 4785614007\n",
      "BTC/USDT:USDT [2024-03-22T16:32:10.473000000]\t63514.20000 (4.5) | 63514.30000 (0.6)\n",
      "BTC/USDT:USDT [2024-03-22T16:32:11.030000000]\t63509.00000 (0.0) <make> 4785614037\n",
      "ETH/USDT:USDT [2024-03-22T16:32:11.915000000]\t3322.79000 (0.0) <make> 3798501696\n",
      "ETH/USDT:USDT [2024-03-22T16:32:12.353000000]\t3322.54000 (0.4) <take> 3798501745\n",
      "SOL/USDT:USDT [2024-03-22T16:32:13.043000000]\t170.77400 (1.0) <take> 1439412665\n",
      "BTC/USDT:USDT [2024-03-22T16:32:14.356000000]\t63528.70000 (0.0) <make> 4785614235\n",
      "BTC/USDT:USDT [2024-03-22T16:32:14.529000000]\t63528.70000 (1.1) | 63528.80000 (1.7)\n",
      "BTC/USDT:USDT [2024-03-22T16:32:15.163000000]\t63530.50000 (1.7) <take> 4785614265\n",
      "BTC/USDT:USDT [2024-03-22T16:32:15.171000000]\t63539.50000 (0.0) <take> 4785614338\n",
      "ETH/USDT:USDT [2024-03-22T16:32:15.207000000]\t3324.53000 (0.0) <take> 3798501913\n",
      "ETH/USDT:USDT [2024-03-22T16:32:15.616000000]\t3324.73000 (2.0) <make> 3798501948\n",
      "ETH/USDT:USDT [2024-03-22T16:32:15.920000000]\t3324.24000 (0.0) <make> 3798501983\n",
      "ETH/USDT:USDT [2024-03-22T16:32:16.605000000]\t3324.30000 (0.0) <take> 3798502052\n",
      "ETH/USDT:USDT [2024-03-22T16:32:17.266000000]\t3324.77000 (0.3) <take> 3798502086\n",
      "BTC/USDT:USDT [2024-03-22T16:32:17.640000000]\t63549.30000 (0.0) <take> 4785614535\n",
      "ETH/USDT:USDT [2024-03-22T16:32:18.091000000]\t3325.38000 (0.0) <take> 3798502201\n",
      "BTC/USDT:USDT [2024-03-22T16:32:18.517000000]\t63555.10000 (0.0) <take> 4785614612\n",
      "SOL/USDT:USDT [2024-03-22T16:32:19.094000000]\t170.94500 (27.0) | 170.94600 (28.0)\n",
      "BTC/USDT:USDT [2024-03-22T16:32:19.815000000]\t63552.50000 (0.0) <make> 4785614660\n",
      "BTC/USDT:USDT [2024-03-22T16:32:20.077000000]\t63540.40000 (0.0) <make> 4785614718\n",
      "BTC/USDT:USDT [2024-03-22T16:32:20.078000000]\t63529.30000 (0.0) <make> 4785614818\n",
      "BTC/USDT:USDT [2024-03-22T16:32:20.078000000]\t63521.50000 (0.0) <make> 4785614918\n",
      "BTC/USDT:USDT [2024-03-22T16:32:20.078000000]\t63515.40000 (0.0) <make> 4785614987\n",
      "BTC/USDT:USDT [2024-03-22T16:32:20.111000000]\t63531.90000 (0.0) <make> 4785615074\n",
      "BTC/USDT:USDT [2024-03-22T16:32:20.143000000]\t63522.00000 (0.0) <make> 4785615126\n",
      "SOL/USDT:USDT [2024-03-22T16:32:20.442000000]\t170.85600 (2.0) <make> 1439412969\n",
      "SOL/USDT:USDT [2024-03-22T16:32:21.029000000]\t170.83300 (1.0) <make> 1439412988\n",
      "BTC/USDT:USDT [2024-03-22T16:32:21.353000000]\t63502.10000 (0.1) <take> 4785615278\n",
      "BTC/USDT:USDT [2024-03-22T16:32:22.430000000]\t63504.00000 (0.0) <make> 4785615336\n",
      "BTC/USDT:USDT [2024-03-22T16:32:22.752000000]\t63494.00000 (0.0) <make> 4785615400\n",
      "SOL/USDT:USDT [2024-03-22T16:32:23.179000000]\t170.78900 (1.0) <make> 1439413058\n",
      "SOL/USDT:USDT [2024-03-22T16:32:23.366000000]\t170.76400 (1.0) | 170.76600 (71.0)\n",
      "BTC/USDT:USDT [2024-03-22T16:32:23.517000000]\t63484.30000 (0.0) <make> 4785615464\n",
      "ETH/USDT:USDT [2024-03-22T16:32:23.803000000]\t3321.54000 (0.0) <make> 3798502614\n",
      "ETH/USDT:USDT [2024-03-22T16:32:23.972000000]\t3321.09000 (0.0) <make> 3798502646\n",
      "BTC/USDT:USDT [2024-03-22T16:32:24.686000000]\t63474.00000 (0.0) <take> 4785615567\n",
      "SOL/USDT:USDT [2024-03-22T16:32:25.222000000]\t170.69800 (2.0) <make> 1439413196\n",
      "SOL/USDT:USDT [2024-03-22T16:32:26.476000000]\t170.68300 (1.0) <take> 1439413224\n",
      "BTC/USDT:USDT [2024-03-22T16:32:27.767000000]\t63478.00000 (0.0) <take> 4785615687\n",
      "BTC/USDT:USDT [2024-03-22T16:32:27.798000000]\t63478.00000 (0.0) <take> 4785615787\n",
      "SOL/USDT:USDT [2024-03-22T16:32:28.051000000]\t170.72500 (22.0) | 170.72600 (2.0)\n",
      "BTC/USDT:USDT [2024-03-22T16:32:28.113000000]\t63484.00000 (0.0) <take> 4785615832\n",
      "ETH/USDT:USDT [2024-03-22T16:32:28.773000000]\t3320.52000 (2.4) <take> 3798502889\n",
      "ETH/USDT:USDT [2024-03-22T16:32:30.054000000]\t3320.61000 (0.0) <make> 3798502929\n",
      "BTC/USDT:USDT [2024-03-22T16:32:31.470000000]\t63475.10000 (0.0) <make> 4785615943\n",
      "ETH/USDT:USDT [2024-03-22T16:32:31.544000000]\t3319.68000 (0.0) <make> 3798503011\n",
      "BTC/USDT:USDT [2024-03-22T16:32:31.899000000]\t63459.90000 (0.0) <make> 4785616024\n",
      "ETH/USDT:USDT [2024-03-22T16:32:32.257000000]\t3318.86000 (0.5) <make> 3798503064\n",
      "SOL/USDT:USDT [2024-03-22T16:32:32.423000000]\t170.63000 (23.0) | 170.63100 (80.0)\n",
      "ETH/USDT:USDT [2024-03-22T16:32:32.857000000]\t3318.57000 (0.0) <make> 3798503088\n",
      "ETH/USDT:USDT [2024-03-22T16:32:33.681000000]\t3318.44000 (0.2) <take> 3798503115\n",
      "ETH/USDT:USDT [2024-03-22T16:32:34.682000000]\t3318.69000 (0.0) <make> 3798503139\n",
      "BTC/USDT:USDT [2024-03-22T16:32:34.782000000]\t63444.10000 (0.0) <make> 4785616247\n",
      "ETH/USDT:USDT [2024-03-22T16:32:34.929000000]\t3317.37000 (0.0) <make> 3798503230\n",
      "BTC/USDT:USDT [2024-03-22T16:32:35.474000000]\t63435.70000 (0.0) <make> 4785616319\n",
      "BTC/USDT:USDT [2024-03-22T16:32:36.300000000]\t63434.00000 (0.0) <make> 4785616383\n",
      "BTC/USDT:USDT [2024-03-22T16:32:37.072000000]\t63428.80000 (1.5) | 63428.90000 (2.6)\n",
      "BTC/USDT:USDT [2024-03-22T16:32:37.996000000]\t63428.90000 (0.0) <take> 4785616417\n",
      "ETH/USDT:USDT [2024-03-22T16:32:38.533000000]\t3317.23000 (0.0) <make> 3798503365\n",
      "BTC/USDT:USDT [2024-03-22T16:32:38.626000000]\t63420.00000 (0.0) <make> 4785616527\n",
      "SOL/USDT:USDT [2024-03-22T16:32:38.715000000]\t170.46400 (6.0) <make> 1439413690\n",
      "ETH/USDT:USDT [2024-03-22T16:32:39.009000000]\t3316.57000 (0.0) <make> 3798503419\n",
      "BTC/USDT:USDT [2024-03-22T16:32:39.027000000]\t63402.00000 (0.0) <make> 4785616672\n",
      "SOL/USDT:USDT [2024-03-22T16:32:39.950000000]\t170.42300 (1.0) <make> 1439413762\n",
      "ETH/USDT:USDT [2024-03-22T16:32:40.263000000]\t3316.02000 (2.0) <take> 3798503484\n",
      "ETH/USDT:USDT [2024-03-22T16:32:40.353000000]\t3316.56000 (0.0) <take> 3798503570\n",
      "SOL/USDT:USDT [2024-03-22T16:32:40.619000000]\t170.39400 (2.0) <make> 1439413813\n",
      "BTC/USDT:USDT [2024-03-22T16:32:40.645000000]\t63399.40000 (0.0) <take> 4785616807\n",
      "BTC/USDT:USDT [2024-03-22T16:32:40.825000000]\t63399.30000 (0.8) | 63399.40000 (1.4)\n",
      "BTC/USDT:USDT [2024-03-22T16:32:41.686000000]\t63399.40000 (0.0) <take> 4785616831\n",
      "BTC/USDT:USDT [2024-03-22T16:32:41.929000000]\t63391.10000 (0.0) <make> 4785616913\n",
      "ETH/USDT:USDT [2024-03-22T16:32:42.941000000]\t3316.00000 (0.2) <make> 3798503711\n",
      "ETH/USDT:USDT [2024-03-22T16:32:42.993000000]\t3315.23000 (0.0) <make> 3798503772\n",
      "ETH/USDT:USDT [2024-03-22T16:32:43.004000000]\t3314.83000 (0.3) <make> 3798503859\n",
      "SOL/USDT:USDT [2024-03-22T16:32:43.446000000]\t170.32000 (1.0) <make> 1439413999\n",
      "ETH/USDT:USDT [2024-03-22T16:32:43.579000000]\t3314.46000 (0.4) <make> 3798503913\n",
      "SOL/USDT:USDT [2024-03-22T16:32:43.851000000]\t170.29600 (1.0) <make> 1439414047\n",
      "SOL/USDT:USDT [2024-03-22T16:32:44.028000000]\t170.25200 (1.0) <make> 1439414088\n",
      "SOL/USDT:USDT [2024-03-22T16:32:44.941000000]\t170.29400 (75.0) | 170.29500 (3.0)\n"
     ]
    }
   ],
   "source": [
    "bu = cxp.binanceusdm()\n",
    "t1 = RunThread(chan)\n",
    "t1.add(listen_to_trades, bu, ['BTCUSDT', 'ETHUSDT', 'SOLUSDT'])\n",
    "t1.add(listen_to_orderbook, bu, ['BTCUSDT', 'ETHUSDT', 'SOLUSDT'])\n",
    "t1.start()"
   ]
  },
  {
   "cell_type": "code",
   "execution_count": 10,
   "metadata": {},
   "outputs": [
    {
     "name": "stdout",
     "output_type": "stream",
     "text": [
      "BTC/USDT:USDT [2024-03-22T16:32:45.022000000]\t63367.30000 (0.0) <take> 4785617205\n",
      "STOP LISTENING: {'SOL/USDT:USDT': 2024-03-22 16:31:00    170.856\n",
      "2024-03-22 16:32:00    170.295\n",
      "Name: SOL/USDT:USDT, dtype: float64, 'ETH/USDT:USDT': 2024-03-22 16:31:00    3321.56\n",
      "2024-03-22 16:32:00    3314.19\n",
      "Name: ETH/USDT:USDT, dtype: float64, 'BTC/USDT:USDT': 2024-03-22 16:31:00    63511.0\n",
      "2024-03-22 16:32:00    63367.3\n",
      "Name: BTC/USDT:USDT, dtype: float64}\n"
     ]
    },
    {
     "data": {
      "text/plain": [
       "<coroutine object Exchange.close at 0x000001A92045BF40>"
      ]
     },
     "execution_count": 10,
     "metadata": {},
     "output_type": "execute_result"
    }
   ],
   "source": [
    "t1.stop()\n",
    "bu.close()"
   ]
  },
  {
   "cell_type": "code",
   "execution_count": 94,
   "metadata": {},
   "outputs": [
    {
     "data": {
      "image/png": "[encoded data removed]",
      "text/plain": [
       "<Figure size 960x400 with 1 Axes>"
      ]
     },
     "metadata": {},
     "output_type": "display_data"
    }
   ],
   "source": [
    "# reader.result[0]['SOL/USDT:USDT'].plot()\n",
    "reader.result[0]['ETH/USDT:USDT'].plot()"
   ]
  },
  {
   "cell_type": "code",
   "execution_count": 95,
   "metadata": {},
   "outputs": [
    {
     "data": {
      "image/png": "[encoded data removed]",
      "text/plain": [
       "<Figure size 960x400 with 1 Axes>"
      ]
     },
     "metadata": {},
     "output_type": "display_data"
    }
   ],
   "source": [
    "reader.result[0]['BTC/USDT:USDT'].plot()"
   ]
  }
 ],
 "metadata": {
  "kernelspec": {
   "display_name": "p311qbx",
   "language": "python",
   "name": "python3"
  },
  "language_info": {
   "codemirror_mode": {
    "name": "ipython",
    "version": 3
   },
   "file_extension": ".py",
   "mimetype": "text/x-python",
   "name": "python",
   "nbconvert_exporter": "python",
   "pygments_lexer": "ipython3",
   "version": "3.11.8"
  }
 },
 "nbformat": 4,
 "nbformat_minor": 2
}
