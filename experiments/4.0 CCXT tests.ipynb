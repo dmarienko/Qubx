{
 "cells": [
  {
   "cell_type": "code",
   "execution_count": 1,
   "metadata": {},
   "outputs": [
    {
     "name": "stdout",
     "output_type": "stream",
     "text": [
      " >  [\u001b[32mdev\u001b[0m] \u001b[31minstalled cython rebuilding hook\u001b[0m\n",
      "\n",
      "                   \u001b[31m╻\u001b[0m\n",
      "   \u001b[32m┏┓      ╻     \u001b[0m  \u001b[31m┃\u001b[0m  \u001b[33m┏┓\u001b[0m       \u001b[36mQuantitative Backtesting Environment\u001b[0m \n",
      "   \u001b[32m┃┃  ┓┏  ┣┓  ┏┓\u001b[0m  \u001b[31m┃\u001b[0m  \u001b[33m┏┛\u001b[0m       \n",
      "   \u001b[32m┗┻  ┗┻  ┗┛  ┗ \u001b[0m  \u001b[31m┃\u001b[0m  \u001b[33m┗━\u001b[0m       (c) 2024,  ver. \u001b[35mDev\u001b[0m\n",
      "                   \u001b[31m╹\u001b[0m       \n",
      "\n"
     ]
    }
   ],
   "source": [
    "import sys, os, re; sys.path = ([\"../src/\", \"../\"] if re.match(r'^(\\w\\:\\\\)|(/)', os.getcwd()) else [])+ sys.path \n",
    "\n",
    "import ccxt as cx\n",
    "from typing import Any, Optional, List\n",
    "import ccxt.pro as cxp\n",
    "from ccxt.base.decimal_to_precision import ROUND_UP\n",
    "import asyncio\n",
    "import nest_asyncio\n",
    "nest_asyncio.apply()\n",
    "\n",
    "from ccxt.base.exchange import Exchange\n",
    "from threading import Thread, Event, Lock\n",
    "from queue import Queue\n",
    "# from multiprocessing import Queue #as Queue\n",
    "\n",
    "import qubx\n",
    "%qubxd\n",
    "\n",
    "%load_ext autoreload\n",
    "%autoreload 2\n",
    "\n",
    "from qubx import lookup\n",
    "from qubx.core.series import TimeSeries, Bar, Trade, Quote, OHLCV\n",
    "from qubx.core.strategy import IStrategy, StrategyContext, TriggerEvent\n",
    "from qubx.core.basics import Instrument, Position, Signal, TransactionCostsCalculator, dt_64\n",
    "from qubx.impl.ccxt_connector import CCXTConnector, CtrlChannel, BinanceQV"
   ]
  },
  {
   "cell_type": "markdown",
   "metadata": {},
   "source": [
    "# Common"
   ]
  },
  {
   "cell_type": "code",
   "execution_count": null,
   "metadata": {},
   "outputs": [],
   "source": [
    "lookup.instruments['KRAKEN.F:BTC/USD']"
   ]
  },
  {
   "cell_type": "code",
   "execution_count": 34,
   "metadata": {},
   "outputs": [
    {
     "data": {
      "text/plain": [
       "Instrument(symbol='BTCUSDT', market_type='CRYPTO', exchange='BINANCE.UM', base='BTC', quote='USDT', margin_symbol='USDT', min_tick=0.1, min_size_step=0.001, min_size=0.001, futures_info=FuturesInfo(contract_type='PERPETUAL', delivery_date=datetime.datetime(2100, 12, 25, 10, 0), onboard_date=datetime.datetime(2019, 9, 25, 11, 0), contract_size=1.0, maint_margin=2.5, required_margin=5.0, liquidation_fee=0.0125), _aux_instrument=None)"
      ]
     },
     "execution_count": 34,
     "metadata": {},
     "output_type": "execute_result"
    }
   ],
   "source": [
    "instr = lookup.instruments.find('BINANCE.UM', 'BTC', 'USDT')\n",
    "instr"
   ]
  },
  {
   "cell_type": "code",
   "execution_count": 39,
   "metadata": {},
   "outputs": [
    {
     "data": {
      "text/plain": [
       "Instrument(symbol='ETH/BTC', market_type='spot', exchange='KRAKEN', base='ETH', quote='BTC', margin_symbol=None, min_tick=1e-05, min_size_step=1e-05, min_size=1e-08, futures_info=None, _aux_instrument=None)"
      ]
     },
     "execution_count": 39,
     "metadata": {},
     "output_type": "execute_result"
    }
   ],
   "source": [
    "instr = lookup.instruments.find('KRAKEN', 'BTC', 'ETH')\n",
    "instr"
   ]
  },
  {
   "cell_type": "code",
   "execution_count": 38,
   "metadata": {},
   "outputs": [
    {
     "data": {
      "text/plain": [
       "Instrument(symbol='BTC/USD', market_type='spot', exchange='KRAKEN', base='BTC', quote='USD', margin_symbol=None, min_tick=0.1, min_size_step=0.1, min_size=1e-08, futures_info=None, _aux_instrument=None)"
      ]
     },
     "execution_count": 38,
     "metadata": {},
     "output_type": "execute_result"
    }
   ],
   "source": [
    "lookup.find_aux_instrument_for(instr, 'USD')"
   ]
  },
  {
   "cell_type": "code",
   "execution_count": 46,
   "metadata": {},
   "outputs": [],
   "source": [
    "bu = cxp.binanceusdm()\n",
    "bs = cxp.binance()\n",
    "ks = cxp.kraken()\n",
    "kf = cxp.krakenfutures()"
   ]
  },
  {
   "cell_type": "markdown",
   "metadata": {},
   "source": [
    "# Get OHLC [TODO]"
   ]
  },
  {
   "cell_type": "code",
   "execution_count": 47,
   "metadata": {},
   "outputs": [],
   "source": [
    "bs_markets = await bs.load_markets()\n",
    "bu_markets = await bu.load_markets()\n",
    "kf_markets = await kf.load_markets()\n",
    "ks_markets = await ks.load_markets()"
   ]
  },
  {
   "cell_type": "code",
   "execution_count": 53,
   "metadata": {},
   "outputs": [
    {
     "data": {
      "text/plain": [
       "60"
      ]
     },
     "execution_count": 53,
     "metadata": {},
     "output_type": "execute_result"
    }
   ],
   "source": [
    "bu.parse_timeframe('1m')"
   ]
  },
  {
   "cell_type": "code",
   "execution_count": null,
   "metadata": {},
   "outputs": [],
   "source": [
    "interval = bu.parse_timeframe('1m') * 1000\n",
    "orderbook_max_levels_limit = 100\n",
    "since = bu.round_timeframe('1m', bu.milliseconds(), ROUND_UP) - orderbook_max_levels_limit * interval\n",
    "await bu.fetch_ohlcv('ETH/USDT', '1m', since=since, limit=orderbook_max_levels_limit)"
   ]
  },
  {
   "cell_type": "code",
   "execution_count": null,
   "metadata": {},
   "outputs": [],
   "source": [
    "# await bnc1.fetch_ohlcv('ETH/USDT', '1m', since=since, limit=limit)"
   ]
  },
  {
   "cell_type": "code",
   "execution_count": 57,
   "metadata": {},
   "outputs": [],
   "source": [
    "cxc = CCXT_connector('binance')"
   ]
  },
  {
   "cell_type": "markdown",
   "metadata": {},
   "source": []
  },
  {
   "cell_type": "markdown",
   "metadata": {},
   "source": [
    "# Listen to data"
   ]
  },
  {
   "cell_type": "code",
   "execution_count": 3,
   "metadata": {},
   "outputs": [],
   "source": [
    "class RunThread(Thread):\n",
    "    def __init__(self, channel: CtrlChannel):\n",
    "        self.result = None\n",
    "        self.ch = channel\n",
    "        self.loops = []\n",
    "        super().__init__()\n",
    "\n",
    "    def add(self, func, *args, **kwargs):\n",
    "        self.loops.append(func(self.ch, *args, **kwargs))\n",
    "\n",
    "    async def run_loop(self):\n",
    "        self.result = await asyncio.gather(*self.loops)\n",
    "\n",
    "    def run(self):\n",
    "        self.ch.control.set()\n",
    "        asyncio.run(self.run_loop())\n",
    "\n",
    "    def stop(self):\n",
    "        self.ch.control.clear()\n",
    "        self.ch.queue.put((None, None)) # send sentinel\n",
    "\n",
    "\n",
    "async def listen_to_trades(channel: CtrlChannel, exchange: Exchange, symbols: List[str]):\n",
    "    method = 'watchTrades'\n",
    "    if exchange.has[method]:\n",
    "        # lock = channel.lock\n",
    "        while channel.control.is_set():\n",
    "            try:\n",
    "                # c_time = exchange.iso8601(exchange.milliseconds())\n",
    "                trades = await exchange.watch_trades_for_symbols(symbols)\n",
    "                # lock.acquire()\n",
    "                for trade in trades:\n",
    "                    # trade = trades[-1]\n",
    "                    t_ns = trade['timestamp'] * 1_000_000 # this is trade time \n",
    "                    s = trade['symbol']\n",
    "                    info = trade['info']\n",
    "                    price = trade['price']\n",
    "                    m = info['m']\n",
    "                    amnt = trade['amount'] # in base currency\n",
    "                    tas = Trade(t_ns, price, amnt, int(not m), int(trade['id']))\n",
    "                    channel.queue.put((s, tas))\n",
    "                # lock.release()\n",
    "                # print(trade, flush=True)\n",
    "                # print(f\"\\t[{c_time}] {s} : {str(tas)}\", flush=True)\n",
    "            except Exception as e:\n",
    "                print(type(e).__name__, str(e), flush=True)\n",
    "                await exchange.close()\n",
    "                raise e\n",
    "    else:\n",
    "        raise Exception(exchange.id + ' ' + method + ' is not supported or not implemented yet')\n",
    "\n",
    "\n",
    "async def listen_to_orderbook(channel: CtrlChannel, exchange: Exchange, symbols: List[str], orderbook_max_levels_limit=5):\n",
    "    lock = channel.lock\n",
    "    while channel.control.is_set():\n",
    "        try:\n",
    "            orderbook = await exchange.watch_order_book_for_symbols(symbols, limit=orderbook_max_levels_limit)\n",
    "            # - check what this time is ?\n",
    "            t_ns = orderbook['timestamp'] * 1_000_000\n",
    "            s = orderbook['symbol']\n",
    "            b, a = orderbook['bids'], orderbook['asks']\n",
    "            q = Quote(t_ns, b[0][0], a[0][0], b[0][1], a[0][1])\n",
    "            # lock.acquire()\n",
    "            channel.queue.put((s, q))\n",
    "            # lock.release()\n",
    "            # c_time = exchange.iso8601(exchange.milliseconds())\n",
    "            # print(f\"[{c_time}] {s} : {str(q)}\", flush=True)\n",
    "        except Exception as e:\n",
    "            print(type(e).__name__, str(e), flush=True)\n",
    "            await exchange.close()\n",
    "            raise e\n",
    " \n",
    "\n",
    "async def receiver(channel: CtrlChannel):\n",
    "    sers = {}\n",
    "    print(\"START LISTENING\", flush=True)\n",
    "    T, Q = 0, 0\n",
    "    while channel.control.is_set():\n",
    "        s, data = channel.queue.get()\n",
    "        if isinstance(data, Quote):\n",
    "            if not (Q % 100):\n",
    "                print(s, data, flush=True)\n",
    "                Q = 0\n",
    "            Q += 1\n",
    "        if isinstance(data, Trade):\n",
    "            if s not in sers:\n",
    "                sers[s] = TimeSeries(s, '1Min')\n",
    "            ts = sers[s]\n",
    "            ts.update(data.time, data.price)\n",
    "            if not (T % 100):\n",
    "                print(s, data, flush=True)\n",
    "                T = 0\n",
    "            T += 1\n",
    "        if isinstance(data, Bar):\n",
    "            # print(f\"{s} {pd.Timestamp(data.time, unit='ns')}: {data}\", flush=True)\n",
    "            if s not in sers:\n",
    "                sers[s] = {}\n",
    "            sers[s][data.time] = data\n",
    "\n",
    "    print(f\"STOP LISTENING: {str(sers)}\", flush=True)\n",
    "    return sers "
   ]
  },
  {
   "cell_type": "code",
   "execution_count": 4,
   "metadata": {},
   "outputs": [],
   "source": [
    "def prefetch_ohlcs(exchange: Exchange, symbol: str, timeframe: str, nbarsback: int):\n",
    "    assert nbarsback > 1\n",
    "    start = ((pd.Timestamp('now', tz='UTC') - nbarsback * pd.Timedelta(timeframe)).asm8.item()//1000000) if nbarsback > 1 else None \n",
    "    ohlcv = exchange.fetch_ohlcv(symbol, timeframe, since=start, limit=nbarsback + 1)\n",
    "    return ohlcv\n",
    "\n",
    "async def listen_to_ohlcv(channel: CtrlChannel, exchange: Exchange, \n",
    "                          symbol: List[str], timeframe: str, nbarsback: int):\n",
    "    # - check if we need to load initial 'snapshot'\n",
    "    if nbarsback > 1:\n",
    "        ohlcv = await prefetch_ohlcs(exchange, symbol, timeframe, nbarsback)\n",
    "        for oh in ohlcv:\n",
    "            b = Bar(oh[0] * 1_000_000, oh[1], oh[2], oh[3], oh[4], oh[6], oh[7])\n",
    "            channel.queue.put((symbol, b))\n",
    "\n",
    "    while channel.control.is_set():\n",
    "        try:\n",
    "            ohlcv = await exchange.watch_ohlcv(symbol, timeframe)\n",
    "            for oh in ohlcv:\n",
    "                b = Bar(oh[0] * 1000000, oh[1], oh[2], oh[3], oh[4], oh[6], oh[7])\n",
    "                channel.queue.put((symbol, b))\n",
    "        except Exception as e:\n",
    "            print(type(e).__name__, str(e), flush=True)\n",
    "            await exchange.close()\n",
    "            raise e"
   ]
  },
  {
   "cell_type": "code",
   "execution_count": 5,
   "metadata": {},
   "outputs": [],
   "source": [
    "symbs = ['1INCHUSDT', 'AGLDUSDT', 'APEUSDT', 'ARBUSDT', 'AUCTIONUSDT', 'BANDUSDT', 'BATUSDT', 'C98USDT', 'COMPUSDT', 'CYBERUSDT',\n",
    "        'DYDXUSDT', 'ENSUSDT', 'FXSUSDT', 'HFTUSDT', 'ICXUSDT', 'IOSTUSDT', 'IOTAUSDT', 'IOTXUSDT', 'LDOUSDT', 'LQTYUSDT', 'LTCUSDT',\n",
    "        'MASKUSDT', 'MBOXUSDT', 'MINAUSDT', 'MTLUSDT', 'OGNUSDT', 'OPUSDT', 'PEOPLEUSDT', 'POLSUSDT', 'PYRUSDT', 'QNTUSDT', 'RADUSDT',\n",
    "        'RDNTUSDT', 'RIFUSDT', 'RLCUSDT', 'SEIUSDT', 'SPELLUSDT', 'SSVUSDT', 'STGUSDT', 'STXUSDT', 'SUIUSDT', 'UMAUSDT', 'WAVESUSDT']"
   ]
  },
  {
   "cell_type": "code",
   "execution_count": 6,
   "metadata": {},
   "outputs": [
    {
     "name": "stdout",
     "output_type": "stream",
     "text": [
      "START LISTENING\n"
     ]
    }
   ],
   "source": [
    "chan = CtrlChannel('ticks')\n",
    "reader = RunThread(chan)\n",
    "reader.add(receiver)\n",
    "reader.start()"
   ]
  },
  {
   "cell_type": "code",
   "execution_count": 7,
   "metadata": {},
   "outputs": [],
   "source": [
    "# bu = cxp.binanceusdm()\n",
    "# bu = cxp.binance()\n",
    "bu = BinanceQV()\n",
    "# bu = getattr(cxp, 'binanceqv')()\n",
    "t1 = RunThread(chan)\n",
    "for s in symbs:\n",
    "    t1.add(listen_to_ohlcv, bu, s, '15m', 10)\n",
    "\n",
    "# t1.add(listen_to_ohlcv, bu, 'BTCUSDT', '5m', 10)\n",
    "# t1.add(listen_to_ohlcv, bu, 'ETHUSDT', '5m', 10)\n",
    "# t1.add(listen_to_ohlcv, bu, 'LTCUSDT', '5m', 10)\n",
    "# t1.add(listen_to_ohlcv, bu, 'SOLUSDT', '5m', 10)\n",
    "# t1.add(listen_to_trades, bu, ['BTCUSDT', 'ETHUSDT', 'SOLUSDT'])\n",
    "# t1.add(listen_to_orderbook, bu, ['BTCUSDT', 'ETHUSDT', 'SOLUSDT'])\n",
    "t1.start()"
   ]
  },
  {
   "cell_type": "code",
   "execution_count": 10,
   "metadata": {},
   "outputs": [],
   "source": [
    "reader.stop()\n",
    "t1.stop()"
   ]
  },
  {
   "cell_type": "code",
   "execution_count": null,
   "metadata": {},
   "outputs": [],
   "source": [
    "print(len(reader.result[0]), len(symbs))\n",
    "reader.result[0]"
   ]
  },
  {
   "cell_type": "markdown",
   "metadata": {},
   "source": [
    "# StrategyCtx"
   ]
  },
  {
   "cell_type": "code",
   "execution_count": 163,
   "metadata": {},
   "outputs": [],
   "source": [
    "from qubx import logger\n",
    "\n",
    "class ZeroStrat(IStrategy):\n",
    "    param1: int = 0\n",
    "\n",
    "    def on_start(self, ctx: StrategyContext):\n",
    "        logger.info(f\"> Started with param1 = {self.param1}\")\n",
    "\n",
    "    def on_event(self, ctx: StrategyContext, event: TriggerEvent) -> Optional[List[Signal]]:\n",
    "        logger.info(f\"{event.time} -> {event}\")\n",
    "        return None"
   ]
  },
  {
   "cell_type": "code",
   "execution_count": 153,
   "metadata": {},
   "outputs": [
    {
     "data": {
      "text/plain": [
       "numpy.datetime64('2024-03-28T14:23:46.550100000')"
      ]
     },
     "execution_count": 153,
     "metadata": {},
     "output_type": "execute_result"
    }
   ],
   "source": [
    "cc = CCXTConnector('binance')\n",
    "cc.time()"
   ]
  },
  {
   "cell_type": "code",
   "execution_count": null,
   "metadata": {},
   "outputs": [],
   "source": [
    "# cc.get_historical_ohlcs('BTCUSDT', '1d', 20)"
   ]
  },
  {
   "cell_type": "code",
   "execution_count": 154,
   "metadata": {},
   "outputs": [
    {
     "name": "stdout",
     "output_type": "stream",
     "text": [
      "\u001b[32m2024-03-28 16:23:47.425\u001b[0m [ \u001b[1mℹ️\u001b[0m ] \u001b[1mSet param1 -> 1\u001b[0m\n"
     ]
    }
   ],
   "source": [
    "ctx = StrategyContext(\n",
    "    ZeroStrat(), dict(param1 = 1), cc, cc, \n",
    "    instruments=lookup.instruments[r'BINANCE:(BTC|ETH|LTC)USDT'],\n",
    "    fees_spec='vip0_usdt', base_currency='USDT',\n",
    "\n",
    "    md_subscription=dict(type='ohlc', timeframe='1Min', nback=10),\n",
    "    trigger=dict(type='bar', delay='-1s', timeframe='1Min')\n",
    ")"
   ]
  },
  {
   "cell_type": "code",
   "execution_count": null,
   "metadata": {},
   "outputs": [
    {
     "name": "stdout",
     "output_type": "stream",
     "text": [
      "\u001b[32m2024-03-28 16:23:48.054\u001b[0m [ \u001b[1mℹ️\u001b[0m ] \u001b[1mSubscribing to ohlc updates using {'timeframe': '1Min', 'nback': 10} for \n",
      "\t['BTCUSDT', 'ETHUSDT', 'LTCUSDT'] \u001b[0m\n",
      "\u001b[32m2024-03-28 16:23:48.054\u001b[0m [ \u001b[1mℹ️\u001b[0m ] \u001b[1m> Started with param1 = 1\u001b[0m\n",
      "\u001b[32m2024-03-28 16:23:48.056\u001b[0m [ \u001b[1mℹ️\u001b[0m ] \u001b[1m> Data processor started\u001b[0m\n",
      "\u001b[32m2024-03-28 16:23:48.058\u001b[0m [ \u001b[1mℹ️\u001b[0m ] \u001b[1mStart processing market data\u001b[0m\n",
      "\u001b[32m2024-03-28 16:23:48.092\u001b[0m [ \u001b[1mℹ️\u001b[0m ] \u001b[1m> Market data subscribtions started\u001b[0m\n"
     ]
    },
    {
     "name": "stdout",
     "output_type": "stream",
     "text": [
      "\u001b[32m2024-03-28 16:23:50.575\u001b[0m [ \u001b[1mℹ️\u001b[0m ] \u001b[1m2024-03-28T14:23:50.575336000 -> TriggerEvent(time=numpy.datetime64('2024-03-28T14:23:50.575336000'), type='bar', instrument='BTCUSDT', data={o:70740.010000 | h:70825.980000 | l:70740.000000 | c:70790.000000 | v:7507510.353455})\u001b[0m\n",
      "\u001b[32m2024-03-28 16:23:50.576\u001b[0m [ \u001b[1mℹ️\u001b[0m ] \u001b[1m2024-03-28T14:23:50.575336000 -> TriggerEvent(time=numpy.datetime64('2024-03-28T14:23:50.575336000'), type='bar', instrument='BTCUSDT', data={o:70790.000000 | h:70860.000000 | l:70790.000000 | c:70847.760000 | v:2466864.829787})\u001b[0m\n",
      "\u001b[32m2024-03-28 16:23:50.576\u001b[0m [ \u001b[1mℹ️\u001b[0m ] \u001b[1m2024-03-28T14:23:50.576543000 -> TriggerEvent(time=numpy.datetime64('2024-03-28T14:23:50.576543000'), type='bar', instrument='BTCUSDT', data={o:70847.770000 | h:70925.190000 | l:70830.000000 | c:70830.010000 | v:1829000.874902})\u001b[0m\n",
      "\u001b[32m2024-03-28 16:23:50.577\u001b[0m [ \u001b[1mℹ️\u001b[0m ] \u001b[1m2024-03-28T14:23:50.577543000 -> TriggerEvent(time=numpy.datetime64('2024-03-28T14:23:50.577543000'), type='bar', instrument='BTCUSDT', data={o:70830.010000 | h:70875.870000 | l:70754.200000 | c:70772.230000 | v:3317510.996433})\u001b[0m\n",
      "\u001b[32m2024-03-28 16:23:50.578\u001b[0m [ \u001b[1mℹ️\u001b[0m ] \u001b[1m2024-03-28T14:23:50.578540000 -> TriggerEvent(time=numpy.datetime64('2024-03-28T14:23:50.578540000'), type='bar', instrument='BTCUSDT', data={o:70772.230000 | h:70830.800000 | l:70699.820000 | c:70830.790000 | v:3773712.657943})\u001b[0m\n",
      "\u001b[32m2024-03-28 16:23:50.578\u001b[0m [ \u001b[1mℹ️\u001b[0m ] \u001b[1m2024-03-28T14:23:50.578540000 -> TriggerEvent(time=numpy.datetime64('2024-03-28T14:23:50.578540000'), type='bar', instrument='BTCUSDT', data={o:70830.800000 | h:70980.000000 | l:70830.790000 | c:70964.000000 | v:2585844.432327})\u001b[0m\n",
      "\u001b[32m2024-03-28 16:23:50.579\u001b[0m [ \u001b[1mℹ️\u001b[0m ] \u001b[1m2024-03-28T14:23:50.579537000 -> TriggerEvent(time=numpy.datetime64('2024-03-28T14:23:50.579537000'), type='bar', instrument='BTCUSDT', data={o:70964.010000 | h:70964.010000 | l:70890.520000 | c:70954.960000 | v:2063747.326205})\u001b[0m\n",
      "\u001b[32m2024-03-28 16:23:50.580\u001b[0m [ \u001b[1mℹ️\u001b[0m ] \u001b[1m2024-03-28T14:23:50.580534000 -> TriggerEvent(time=numpy.datetime64('2024-03-28T14:23:50.580534000'), type='bar', instrument='BTCUSDT', data={o:70954.960000 | h:71000.000000 | l:70935.990000 | c:70945.990000 | v:2400950.542351})\u001b[0m\n",
      "\u001b[32m2024-03-28 16:23:50.581\u001b[0m [ \u001b[1mℹ️\u001b[0m ] \u001b[1m2024-03-28T14:23:50.581530000 -> TriggerEvent(time=numpy.datetime64('2024-03-28T14:23:50.581530000'), type='bar', instrument='BTCUSDT', data={o:70946.000000 | h:70988.250000 | l:70936.000000 | c:70938.010000 | v:1615148.921852})\u001b[0m\n",
      "\u001b[32m2024-03-28 16:23:50.582\u001b[0m [ \u001b[1mℹ️\u001b[0m ] \u001b[1m2024-03-28T14:23:50.582526000 -> TriggerEvent(time=numpy.datetime64('2024-03-28T14:23:50.582526000'), type='bar', instrument='BTCUSDT', data={o:70938.010000 | h:70982.000000 | l:70899.240000 | c:70972.010000 | v:2292697.278589})\u001b[0m\n",
      "\u001b[32m2024-03-28 16:23:50.697\u001b[0m [ \u001b[1mℹ️\u001b[0m ] \u001b[1m2024-03-28T14:23:50.697163000 -> TriggerEvent(time=numpy.datetime64('2024-03-28T14:23:50.697163000'), type='bar', instrument='ETHUSDT', data={o:3570.230000 | h:3573.880000 | l:3570.230000 | c:3571.780000 | v:1051593.968249})\u001b[0m\n",
      "\u001b[32m2024-03-28 16:23:50.699\u001b[0m [ \u001b[1mℹ️\u001b[0m ] \u001b[1m2024-03-28T14:23:50.699224000 -> TriggerEvent(time=numpy.datetime64('2024-03-28T14:23:50.699224000'), type='bar', instrument='ETHUSDT', data={o:3571.770000 | h:3576.990000 | l:3571.770000 | c:3575.970000 | v:1129539.322070})\u001b[0m\n",
      "\u001b[32m2024-03-28 16:23:50.699\u001b[0m [ \u001b[1mℹ️\u001b[0m ] \u001b[1m2024-03-28T14:23:50.699224000 -> TriggerEvent(time=numpy.datetime64('2024-03-28T14:23:50.699224000'), type='bar', instrument='ETHUSDT', data={o:3575.960000 | h:3579.830000 | l:3574.300000 | c:3574.300000 | v:738505.771534})\u001b[0m\n",
      "\u001b[32m2024-03-28 16:23:50.700\u001b[0m [ \u001b[1mℹ️\u001b[0m ] \u001b[1m2024-03-28T14:23:50.700229000 -> TriggerEvent(time=numpy.datetime64('2024-03-28T14:23:50.700229000'), type='bar', instrument='ETHUSDT', data={o:3574.310000 | h:3576.110000 | l:3571.290000 | c:3571.690000 | v:1484742.686754})\u001b[0m\n",
      "\u001b[32m2024-03-28 16:23:50.700\u001b[0m [ \u001b[1mℹ️\u001b[0m ] \u001b[1m2024-03-28T14:23:50.700229000 -> TriggerEvent(time=numpy.datetime64('2024-03-28T14:23:50.700229000'), type='bar', instrument='ETHUSDT', data={o:3571.690000 | h:3574.080000 | l:3568.270000 | c:3574.070000 | v:1128240.515004})\u001b[0m\n",
      "\u001b[32m2024-03-28 16:23:50.701\u001b[0m [ \u001b[1mℹ️\u001b[0m ] \u001b[1m2024-03-28T14:23:50.701310000 -> TriggerEvent(time=numpy.datetime64('2024-03-28T14:23:50.701310000'), type='bar', instrument='ETHUSDT', data={o:3574.080000 | h:3581.660000 | l:3574.070000 | c:3580.400000 | v:1618279.787571})\u001b[0m\n",
      "\u001b[32m2024-03-28 16:23:50.701\u001b[0m [ \u001b[1mℹ️\u001b[0m ] \u001b[1m2024-03-28T14:23:50.701310000 -> TriggerEvent(time=numpy.datetime64('2024-03-28T14:23:50.701310000'), type='bar', instrument='ETHUSDT', data={o:3580.390000 | h:3580.790000 | l:3577.120000 | c:3580.690000 | v:714267.751636})\u001b[0m\n",
      "\u001b[32m2024-03-28 16:23:50.701\u001b[0m [ \u001b[1mℹ️\u001b[0m ] \u001b[1m2024-03-28T14:23:50.701310000 -> TriggerEvent(time=numpy.datetime64('2024-03-28T14:23:50.701310000'), type='bar', instrument='ETHUSDT', data={o:3580.700000 | h:3584.260000 | l:3579.670000 | c:3579.850000 | v:685836.227813})\u001b[0m\n",
      "\u001b[32m2024-03-28 16:23:50.702\u001b[0m [ \u001b[1mℹ️\u001b[0m ] \u001b[1m2024-03-28T14:23:50.702326000 -> TriggerEvent(time=numpy.datetime64('2024-03-28T14:23:50.702326000'), type='bar', instrument='ETHUSDT', data={o:3579.840000 | h:3581.740000 | l:3579.060000 | c:3579.070000 | v:779722.736577})\u001b[0m\n",
      "\u001b[32m2024-03-28 16:23:50.702\u001b[0m [ \u001b[1mℹ️\u001b[0m ] \u001b[1m2024-03-28T14:23:50.702326000 -> TriggerEvent(time=numpy.datetime64('2024-03-28T14:23:50.702326000'), type='bar', instrument='ETHUSDT', data={o:3579.060000 | h:3581.900000 | l:3576.520000 | c:3581.760000 | v:713604.359834})\u001b[0m\n",
      "\u001b[32m2024-03-28 16:23:50.703\u001b[0m [ \u001b[1mℹ️\u001b[0m ] \u001b[1m2024-03-28T14:23:50.703336000 -> TriggerEvent(time=numpy.datetime64('2024-03-28T14:23:50.703336000'), type='bar', instrument='LTCUSDT', data={o:94.600000 | h:94.660000 | l:94.580000 | c:94.590000 | v:35374.927240})\u001b[0m\n",
      "\u001b[32m2024-03-28 16:23:50.703\u001b[0m [ \u001b[1mℹ️\u001b[0m ] \u001b[1m2024-03-28T14:23:50.703336000 -> TriggerEvent(time=numpy.datetime64('2024-03-28T14:23:50.703336000'), type='bar', instrument='LTCUSDT', data={o:94.600000 | h:94.700000 | l:94.570000 | c:94.600000 | v:51186.818980})\u001b[0m\n",
      "\u001b[32m2024-03-28 16:23:50.704\u001b[0m [ \u001b[1mℹ️\u001b[0m ] \u001b[1m2024-03-28T14:23:50.704867000 -> TriggerEvent(time=numpy.datetime64('2024-03-28T14:23:50.704867000'), type='bar', instrument='LTCUSDT', data={o:94.590000 | h:94.730000 | l:94.570000 | c:94.580000 | v:28429.306190})\u001b[0m\n",
      "\u001b[32m2024-03-28 16:23:50.704\u001b[0m [ \u001b[1mℹ️\u001b[0m ] \u001b[1m2024-03-28T14:23:50.704867000 -> TriggerEvent(time=numpy.datetime64('2024-03-28T14:23:50.704867000'), type='bar', instrument='LTCUSDT', data={o:94.580000 | h:94.640000 | l:94.490000 | c:94.500000 | v:59796.724410})\u001b[0m\n",
      "\u001b[32m2024-03-28 16:23:50.705\u001b[0m [ \u001b[1mℹ️\u001b[0m ] \u001b[1m2024-03-28T14:23:50.705807000 -> TriggerEvent(time=numpy.datetime64('2024-03-28T14:23:50.705807000'), type='bar', instrument='LTCUSDT', data={o:94.500000 | h:94.560000 | l:94.270000 | c:94.550000 | v:346802.252450})\u001b[0m\n",
      "\u001b[32m2024-03-28 16:23:50.706\u001b[0m [ \u001b[1mℹ️\u001b[0m ] \u001b[1m2024-03-28T14:23:50.706863000 -> TriggerEvent(time=numpy.datetime64('2024-03-28T14:23:50.706863000'), type='bar', instrument='LTCUSDT', data={o:94.550000 | h:94.860000 | l:94.550000 | c:94.800000 | v:170671.698710})\u001b[0m\n",
      "\u001b[32m2024-03-28 16:23:50.706\u001b[0m [ \u001b[1mℹ️\u001b[0m ] \u001b[1m2024-03-28T14:23:50.706863000 -> TriggerEvent(time=numpy.datetime64('2024-03-28T14:23:50.706863000'), type='bar', instrument='LTCUSDT', data={o:94.800000 | h:94.860000 | l:94.750000 | c:94.850000 | v:27501.801950})\u001b[0m\n",
      "\u001b[32m2024-03-28 16:23:50.706\u001b[0m [ \u001b[1mℹ️\u001b[0m ] \u001b[1m2024-03-28T14:23:50.706863000 -> TriggerEvent(time=numpy.datetime64('2024-03-28T14:23:50.706863000'), type='bar', instrument='LTCUSDT', data={o:94.850000 | h:94.920000 | l:94.770000 | c:94.830000 | v:59134.955120})\u001b[0m\n",
      "\u001b[32m2024-03-28 16:23:50.707\u001b[0m [ \u001b[1mℹ️\u001b[0m ] \u001b[1m2024-03-28T14:23:50.707937000 -> TriggerEvent(time=numpy.datetime64('2024-03-28T14:23:50.707937000'), type='bar', instrument='LTCUSDT', data={o:94.830000 | h:94.930000 | l:94.830000 | c:94.900000 | v:44974.233500})\u001b[0m\n",
      "\u001b[32m2024-03-28 16:23:50.707\u001b[0m [ \u001b[1mℹ️\u001b[0m ] \u001b[1m2024-03-28T14:23:50.707937000 -> TriggerEvent(time=numpy.datetime64('2024-03-28T14:23:50.707937000'), type='bar', instrument='LTCUSDT', data={o:94.890000 | h:94.890000 | l:94.800000 | c:94.890000 | v:34885.766160})\u001b[0m\n",
      "\u001b[32m2024-03-28 16:23:52.965\u001b[0m [ \u001b[1mℹ️\u001b[0m ] \u001b[1m2024-03-28T14:23:52.965613000 -> TriggerEvent(time=numpy.datetime64('2024-03-28T14:23:52.965613000'), type='bar', instrument='LTCUSDT', data={o:94.890000 | h:94.900000 | l:94.800000 | c:94.870000 | v:38229.739870})\u001b[0m\n",
      "\u001b[32m2024-03-28 16:23:54.149\u001b[0m [ \u001b[1mℹ️\u001b[0m ] \u001b[1m2024-03-28T14:23:54.149540000 -> TriggerEvent(time=numpy.datetime64('2024-03-28T14:23:54.149540000'), type='bar', instrument='BTCUSDT', data={o:70938.010000 | h:70982.000000 | l:70899.240000 | c:70952.010000 | v:2352741.946716})\u001b[0m\n",
      "\u001b[32m2024-03-28 16:23:54.329\u001b[0m [ \u001b[1mℹ️\u001b[0m ] \u001b[1m2024-03-28T14:23:54.329059000 -> TriggerEvent(time=numpy.datetime64('2024-03-28T14:23:54.329059000'), type='bar', instrument='ETHUSDT', data={o:3579.060000 | h:3581.900000 | l:3576.520000 | c:3580.700000 | v:920618.971792})\u001b[0m\n",
      "\u001b[32m2024-03-28 16:23:55.656\u001b[0m [ \u001b[1mℹ️\u001b[0m ] \u001b[1m2024-03-28T14:23:55.656734000 -> TriggerEvent(time=numpy.datetime64('2024-03-28T14:23:55.656734000'), type='bar', instrument='LTCUSDT', data={o:94.890000 | h:94.900000 | l:94.800000 | c:94.880000 | v:38248.431230})\u001b[0m\n",
      "\u001b[32m2024-03-28 16:23:56.467\u001b[0m [ \u001b[1mℹ️\u001b[0m ] \u001b[1m2024-03-28T14:23:56.467614000 -> TriggerEvent(time=numpy.datetime64('2024-03-28T14:23:56.467614000'), type='bar', instrument='BTCUSDT', data={o:70938.010000 | h:70982.000000 | l:70899.240000 | c:70952.020000 | v:2368553.604214})\u001b[0m\n",
      "\u001b[32m2024-03-28 16:23:56.642\u001b[0m [ \u001b[1mℹ️\u001b[0m ] \u001b[1m2024-03-28T14:23:56.642987000 -> TriggerEvent(time=numpy.datetime64('2024-03-28T14:23:56.642987000'), type='bar', instrument='ETHUSDT', data={o:3579.060000 | h:3581.900000 | l:3576.520000 | c:3580.690000 | v:928332.854849})\u001b[0m\n",
      "\u001b[32m2024-03-28 16:23:58.507\u001b[0m [ \u001b[1mℹ️\u001b[0m ] \u001b[1m2024-03-28T14:23:58.507121000 -> TriggerEvent(time=numpy.datetime64('2024-03-28T14:23:58.507121000'), type='bar', instrument='BTCUSDT', data={o:70938.010000 | h:70982.000000 | l:70899.240000 | c:70952.020000 | v:2391803.869613})\u001b[0m\n",
      "\u001b[32m2024-03-28 16:23:58.655\u001b[0m [ \u001b[1mℹ️\u001b[0m ] \u001b[1m2024-03-28T14:23:58.655982000 -> TriggerEvent(time=numpy.datetime64('2024-03-28T14:23:58.655982000'), type='bar', instrument='LTCUSDT', data={o:94.890000 | h:94.900000 | l:94.800000 | c:94.880000 | v:39700.733450})\u001b[0m\n",
      "\u001b[32m2024-03-28 16:23:58.855\u001b[0m [ \u001b[1mℹ️\u001b[0m ] \u001b[1m2024-03-28T14:23:58.855414000 -> TriggerEvent(time=numpy.datetime64('2024-03-28T14:23:58.855414000'), type='bar', instrument='ETHUSDT', data={o:3579.060000 | h:3581.900000 | l:3576.520000 | c:3580.470000 | v:957184.024619})\u001b[0m\n"
     ]
    }
   ],
   "source": [
    "ctx.start()"
   ]
  },
  {
   "cell_type": "code",
   "execution_count": 156,
   "metadata": {},
   "outputs": [
    {
     "name": "stdout",
     "output_type": "stream",
     "text": [
      "\u001b[32m2024-03-28 16:23:59.748\u001b[0m [ \u001b[1mℹ️\u001b[0m ] \u001b[1mMarket data processing finished\u001b[0m\n"
     ]
    }
   ],
   "source": [
    "ctx.stop()"
   ]
  },
  {
   "cell_type": "code",
   "execution_count": 161,
   "metadata": {},
   "outputs": [
    {
     "data": {
      "text/plain": [
       "                         open      high       low     close        volume  \\\n",
       "timestamp                                                                   \n",
       "2024-03-28 14:14:00  70740.01  70825.98  70740.00  70790.00  7.507510e+06   \n",
       "2024-03-28 14:15:00  70790.00  70860.00  70790.00  70847.76  2.466865e+06   \n",
       "2024-03-28 14:16:00  70847.77  70925.19  70830.00  70830.01  1.829001e+06   \n",
       "2024-03-28 14:17:00  70830.01  70875.87  70754.20  70772.23  3.317511e+06   \n",
       "2024-03-28 14:18:00  70772.23  70830.80  70699.82  70830.79  3.773713e+06   \n",
       "2024-03-28 14:19:00  70830.80  70980.00  70830.79  70964.00  2.585844e+06   \n",
       "2024-03-28 14:20:00  70964.01  70964.01  70890.52  70954.96  2.063747e+06   \n",
       "2024-03-28 14:21:00  70954.96  71000.00  70935.99  70945.99  2.400951e+06   \n",
       "2024-03-28 14:22:00  70946.00  70988.25  70936.00  70938.01  1.615149e+06   \n",
       "2024-03-28 14:23:00  70938.01  70982.00  70899.24  70952.02  2.391804e+06   \n",
       "\n",
       "                     bought_volume  \n",
       "timestamp                           \n",
       "2024-03-28 14:14:00   6.753365e+06  \n",
       "2024-03-28 14:15:00   1.709864e+06  \n",
       "2024-03-28 14:16:00   9.125722e+05  \n",
       "2024-03-28 14:17:00   1.073293e+06  \n",
       "2024-03-28 14:18:00   1.769153e+06  \n",
       "2024-03-28 14:19:00   1.490368e+06  \n",
       "2024-03-28 14:20:00   1.466528e+06  \n",
       "2024-03-28 14:21:00   1.269191e+06  \n",
       "2024-03-28 14:22:00   5.481366e+05  \n",
       "2024-03-28 14:23:00   1.389654e+06  "
      ]
     },
     "execution_count": 161,
     "metadata": {},
     "output_type": "execute_result"
    }
   ],
   "source": [
    "ctx.ohlc('BTCUSDT', '1Min')"
   ]
  },
  {
   "cell_type": "code",
   "execution_count": 162,
   "metadata": {},
   "outputs": [],
   "source": [
    "await cc.exch.close()"
   ]
  },
  {
   "cell_type": "code",
   "execution_count": null,
   "metadata": {},
   "outputs": [],
   "source": [
    "# cc.close()"
   ]
  },
  {
   "cell_type": "markdown",
   "metadata": {},
   "source": [
    "<hr/>"
   ]
  },
  {
   "cell_type": "markdown",
   "metadata": {},
   "source": [
    "# Misc"
   ]
  },
  {
   "cell_type": "code",
   "execution_count": 105,
   "metadata": {},
   "outputs": [
    {
     "name": "stdout",
     "output_type": "stream",
     "text": [
      "The autoreload extension is already loaded. To reload it, use:\n",
      "  %reload_ext autoreload\n"
     ]
    }
   ],
   "source": [
    "%load_ext autoreload\n",
    "%autoreload 2\n",
    "\n",
    "from qubx.utils.time import convert_tf_str_td64\n",
    "from qubx.core.utils import recognize_time\n",
    "from qubx.core.strategy import OhlcvsHolder"
   ]
  },
  {
   "cell_type": "code",
   "execution_count": 136,
   "metadata": {},
   "outputs": [
    {
     "data": {
      "text/plain": [
       "Empty DataFrame\n",
       "Columns: [open, high, low, close, volume, bought_volume]\n",
       "Index: []"
      ]
     },
     "execution_count": 136,
     "metadata": {},
     "output_type": "execute_result"
    }
   ],
   "source": [
    "holder = OhlcvsHolder('1Min')\n",
    "holder.get_ohlcv('ETH', '1Min')\n",
    "holder.get_ohlcv('ETH', '5Min')"
   ]
  },
  {
   "cell_type": "code",
   "execution_count": 137,
   "metadata": {},
   "outputs": [
    {
     "data": {
      "text/plain": [
       "                     open  high  low  close  volume  bought_volume\n",
       "timestamp                                                         \n",
       "2020-01-01 00:00:00   1.0   1.0  1.0    1.0     1.0            0.0\n",
       "2020-01-01 00:01:00   1.0   4.0  1.0    3.0     2.0            1.0\n",
       "2020-01-01 00:03:00   1.0   4.0  1.0    3.0     2.0            1.0\n",
       "2020-01-01 00:04:00   1.0   4.0  1.0    3.0     2.0            1.0\n",
       "2020-01-01 00:05:00   1.0   4.0  1.0    3.0     2.0           11.0"
      ]
     },
     "execution_count": 137,
     "metadata": {},
     "output_type": "execute_result"
    }
   ],
   "source": [
    "holder.update_by_bar('ETH', Bar(recognize_time('2020-01-01 00:00'), 1, 1, 1, 1, 1))\n",
    "holder.update_by_bar('ETH', Bar(recognize_time('2020-01-01 00:01'), 1, 4, 1, 3, 2, 1))\n",
    "holder.update_by_bar('ETH', Bar(recognize_time('2020-01-01 00:03'), 1, 4, 1, 3, 2, 1))\n",
    "holder.update_by_bar('ETH', Bar(recognize_time('2020-01-01 00:03'), 1, 4, 1, 3, 2, 1))\n",
    "holder.update_by_bar('ETH', Bar(recognize_time('2020-01-01 00:04'), 1, 4, 1, 3, 2, 1))\n",
    "holder.update_by_bar('ETH', Bar(recognize_time('2020-01-01 00:05'), 1, 4, 1, 3, 2, 1))\n",
    "holder.update_by_bar('ETH', Bar(recognize_time('2020-01-01 00:05'), 1, 4, 1, 3, 2, 2))\n",
    "holder.update_by_bar('ETH', Bar(recognize_time('2020-01-01 00:05'), 1, 4, 1, 3, 2, 11))\n",
    "holder.update_by_bar('ETH', Bar(recognize_time('2020-01-01 00:05'), 1, 4, 1, 3, 2, 11))\n",
    "holder.get_ohlcv('ETH', '1Min')"
   ]
  },
  {
   "cell_type": "code",
   "execution_count": 138,
   "metadata": {},
   "outputs": [
    {
     "data": {
      "text/plain": [
       "                     open  high  low  close  volume  bought_volume\n",
       "timestamp                                                         \n",
       "2020-01-01 00:00:00   1.0   1.0  1.0    1.0     1.0            0.0\n",
       "2020-01-01 00:01:00   1.0   4.0  1.0    3.0     2.0            1.0\n",
       "2020-01-01 00:03:00   1.0   4.0  1.0    3.0     2.0            1.0\n",
       "2020-01-01 00:04:00   1.0   4.0  1.0    3.0     2.0            1.0\n",
       "2020-01-01 00:05:00   1.0   4.0  1.0    3.0     2.0           11.0"
      ]
     },
     "execution_count": 138,
     "metadata": {},
     "output_type": "execute_result"
    }
   ],
   "source": [
    "holder.get_ohlcv('ETH', '1Min')"
   ]
  },
  {
   "cell_type": "code",
   "execution_count": 129,
   "metadata": {},
   "outputs": [
    {
     "data": {
      "text/plain": [
       "                     open  high  low  close  volume  bought_volume\n",
       "timestamp                                                         \n",
       "2020-01-01 00:00:00   1.0   4.0  1.0    3.0     7.0            3.0\n",
       "2020-01-01 00:05:00   1.0   4.0  1.0    3.0     2.0           11.0"
      ]
     },
     "execution_count": 129,
     "metadata": {},
     "output_type": "execute_result"
    }
   ],
   "source": [
    "holder.get_ohlcv('ETH', '5Min')"
   ]
  },
  {
   "cell_type": "code",
   "execution_count": null,
   "metadata": {},
   "outputs": [],
   "source": [
    "# OHLCV.test = lambda self: print(\"TETET\")"
   ]
  },
  {
   "cell_type": "code",
   "execution_count": 3,
   "metadata": {},
   "outputs": [],
   "source": [
    "from qubx.core.series import TimeSeries, Bar, Trade, Quote, OHLCV"
   ]
  },
  {
   "cell_type": "code",
   "execution_count": 8,
   "metadata": {},
   "outputs": [
    {
     "data": {
      "text/plain": [
       "1"
      ]
     },
     "execution_count": 8,
     "metadata": {},
     "output_type": "execute_result"
    }
   ],
   "source": [
    "ser0 = OHLCV('test', '5Min')\n",
    "ser0.update_by_bar(recognize_time('2020-01-01 00:00:00').item(), 1, 1, 1, 1, 10, 1)\n",
    "ser0.update_by_bar(recognize_time('2020-01-01 00:01:00').item(), 2, 2, 2, 2, 1, 2)\n",
    "ser0.update_by_bar(recognize_time('2020-01-01 00:06:00').item(), 1, 2, 2, 2, 10)"
   ]
  },
  {
   "cell_type": "code",
   "execution_count": 9,
   "metadata": {},
   "outputs": [
    {
     "data": {
      "text/plain": [
       "                     open  high  low  close  volume  bought_volume\n",
       "timestamp                                                         \n",
       "2020-01-01 00:00:00   1.0   2.0  1.0    2.0    11.0            3.0\n",
       "2020-01-01 00:05:00   1.0   2.0  2.0    2.0    10.0            0.0"
      ]
     },
     "execution_count": 9,
     "metadata": {},
     "output_type": "execute_result"
    }
   ],
   "source": [
    "ser0"
   ]
  }
 ],
 "metadata": {
  "kernelspec": {
   "display_name": "p311qbx",
   "language": "python",
   "name": "python3"
  },
  "language_info": {
   "codemirror_mode": {
    "name": "ipython",
    "version": 3
   },
   "file_extension": ".py",
   "mimetype": "text/x-python",
   "name": "python",
   "nbconvert_exporter": "python",
   "pygments_lexer": "ipython3",
   "version": "3.11.8"
  }
 },
 "nbformat": 4,
 "nbformat_minor": 2
}
