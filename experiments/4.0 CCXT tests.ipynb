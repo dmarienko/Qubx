{
 "cells": [
  {
   "cell_type": "code",
   "execution_count": 2,
   "metadata": {},
   "outputs": [
    {
     "name": "stdout",
     "output_type": "stream",
     "text": [
      " >  [\u001b[32mdev\u001b[0m] \u001b[31minstalled cython rebuilding hook\u001b[0m\n",
      "\n",
      "                   \u001b[31m╻\u001b[0m\n",
      "   \u001b[32m┏┓      ╻     \u001b[0m  \u001b[31m┃\u001b[0m  \u001b[33m┏┓\u001b[0m       \u001b[36mQuantitative Backtesting Environment\u001b[0m \n",
      "   \u001b[32m┃┃  ┓┏  ┣┓  ┏┓\u001b[0m  \u001b[31m┃\u001b[0m  \u001b[33m┏┛\u001b[0m       \n",
      "   \u001b[32m┗┻  ┗┻  ┗┛  ┗ \u001b[0m  \u001b[31m┃\u001b[0m  \u001b[33m┗━\u001b[0m       (c) 2024,  ver. \u001b[35mDev\u001b[0m\n",
      "                   \u001b[31m╹\u001b[0m       \n",
      "\n"
     ]
    }
   ],
   "source": [
    "import sys, os, re; sys.path = ([\"../src/\", \"../\"] if re.match(r'^(\\w\\:\\\\)|(/)', os.getcwd()) else [])+ sys.path \n",
    "\n",
    "import ccxt as cx\n",
    "import ccxt.pro as cxp\n",
    "from ccxt.base.decimal_to_precision import ROUND_UP\n",
    "import asyncio\n",
    "import nest_asyncio\n",
    "nest_asyncio.apply()\n",
    "\n",
    "import qubx\n",
    "%qubxd\n",
    "\n",
    "%load_ext autoreload\n",
    "%autoreload 2\n",
    "\n",
    "from qubx import lookup\n",
    "from qubx.impl.ccxt_connector import CCXT_connector"
   ]
  },
  {
   "cell_type": "code",
   "execution_count": null,
   "metadata": {},
   "outputs": [],
   "source": [
    "lookup.instruments['KRAKEN.F:BTC/USD']"
   ]
  },
  {
   "cell_type": "code",
   "execution_count": 34,
   "metadata": {},
   "outputs": [
    {
     "data": {
      "text/plain": [
       "Instrument(symbol='BTCUSDT', market_type='CRYPTO', exchange='BINANCE.UM', base='BTC', quote='USDT', margin_symbol='USDT', min_tick=0.1, min_size_step=0.001, min_size=0.001, futures_info=FuturesInfo(contract_type='PERPETUAL', delivery_date=datetime.datetime(2100, 12, 25, 10, 0), onboard_date=datetime.datetime(2019, 9, 25, 11, 0), contract_size=1.0, maint_margin=2.5, required_margin=5.0, liquidation_fee=0.0125), _aux_instrument=None)"
      ]
     },
     "execution_count": 34,
     "metadata": {},
     "output_type": "execute_result"
    }
   ],
   "source": [
    "instr = lookup.instruments.find('BINANCE.UM', 'BTC', 'USDT')\n",
    "instr"
   ]
  },
  {
   "cell_type": "code",
   "execution_count": 39,
   "metadata": {},
   "outputs": [
    {
     "data": {
      "text/plain": [
       "Instrument(symbol='ETH/BTC', market_type='spot', exchange='KRAKEN', base='ETH', quote='BTC', margin_symbol=None, min_tick=1e-05, min_size_step=1e-05, min_size=1e-08, futures_info=None, _aux_instrument=None)"
      ]
     },
     "execution_count": 39,
     "metadata": {},
     "output_type": "execute_result"
    }
   ],
   "source": [
    "instr = lookup.instruments.find('KRAKEN', 'BTC', 'ETH')\n",
    "instr"
   ]
  },
  {
   "cell_type": "code",
   "execution_count": 38,
   "metadata": {},
   "outputs": [
    {
     "data": {
      "text/plain": [
       "Instrument(symbol='BTC/USD', market_type='spot', exchange='KRAKEN', base='BTC', quote='USD', margin_symbol=None, min_tick=0.1, min_size_step=0.1, min_size=1e-08, futures_info=None, _aux_instrument=None)"
      ]
     },
     "execution_count": 38,
     "metadata": {},
     "output_type": "execute_result"
    }
   ],
   "source": [
    "lookup.find_aux_instrument_for(instr, 'USD')"
   ]
  },
  {
   "cell_type": "code",
   "execution_count": 46,
   "metadata": {},
   "outputs": [],
   "source": [
    "bu = cxp.binanceusdm()\n",
    "bs = cxp.binance()\n",
    "ks = cxp.kraken()\n",
    "kf = cxp.krakenfutures()"
   ]
  },
  {
   "cell_type": "markdown",
   "metadata": {},
   "source": [
    "# Get OHLC [TODO]"
   ]
  },
  {
   "cell_type": "code",
   "execution_count": 47,
   "metadata": {},
   "outputs": [],
   "source": [
    "bs_markets = await bs.load_markets()\n",
    "bu_markets = await bu.load_markets()\n",
    "kf_markets = await kf.load_markets()\n",
    "ks_markets = await ks.load_markets()"
   ]
  },
  {
   "cell_type": "code",
   "execution_count": 53,
   "metadata": {},
   "outputs": [
    {
     "data": {
      "text/plain": [
       "60"
      ]
     },
     "execution_count": 53,
     "metadata": {},
     "output_type": "execute_result"
    }
   ],
   "source": [
    "bu.parse_timeframe('1m')"
   ]
  },
  {
   "cell_type": "code",
   "execution_count": null,
   "metadata": {},
   "outputs": [],
   "source": [
    "interval = bu.parse_timeframe('1m') * 1000\n",
    "limit = 100\n",
    "since = bu.round_timeframe('1m', bu.milliseconds(), ROUND_UP) - limit * interval\n",
    "await bu.fetch_ohlcv('ETH/USDT', '1m', since=since, limit=limit)"
   ]
  },
  {
   "cell_type": "code",
   "execution_count": null,
   "metadata": {},
   "outputs": [],
   "source": [
    "# await bnc1.fetch_ohlcv('ETH/USDT', '1m', since=since, limit=limit)"
   ]
  },
  {
   "cell_type": "code",
   "execution_count": 57,
   "metadata": {},
   "outputs": [],
   "source": [
    "cxc = CCXT_connector('binance')"
   ]
  },
  {
   "cell_type": "markdown",
   "metadata": {},
   "source": []
  },
  {
   "cell_type": "markdown",
   "metadata": {},
   "source": [
    "# Listen to data"
   ]
  },
  {
   "cell_type": "code",
   "execution_count": 9,
   "metadata": {},
   "outputs": [],
   "source": [
    "from ccxt.base.exchange import Exchange\n",
    "from threading import Thread\n",
    "\n",
    "async def test(exchange: Exchange, symbols):\n",
    "    method = 'watchTrades'\n",
    "    if exchange.has[method]:\n",
    "        while True:\n",
    "            try:\n",
    "                trades = await exchange.watch_trades_for_symbols(symbols)\n",
    "                num_trades = len(trades)\n",
    "                trade = trades[-1]\n",
    "                print(\n",
    "                    exchange.iso8601(exchange.milliseconds()), \n",
    "                    trade['symbol'], trade['datetime'], trade['price'], trade['amount'], 'received', num_trades\n",
    "                )\n",
    "            except Exception as e:\n",
    "                await exchange.close()\n",
    "                raise e\n",
    "    else:\n",
    "        raise Exception(exchange.id + ' ' + method + ' is not supported or not implemented yet')\n"
   ]
  },
  {
   "cell_type": "code",
   "execution_count": 4,
   "metadata": {},
   "outputs": [],
   "source": [
    "bu = cxp.binanceusdm()"
   ]
  },
  {
   "cell_type": "code",
   "execution_count": 10,
   "metadata": {},
   "outputs": [],
   "source": [
    "class RunThread(Thread):\n",
    "    def __init__(self, func, args, kwargs):\n",
    "        self.func = func\n",
    "        self.args = args\n",
    "        self.kwargs = kwargs\n",
    "        self.result = None\n",
    "        super().__init__()\n",
    "\n",
    "    def run(self):\n",
    "        self.result = asyncio.run(self.func(*self.args, **self.kwargs))"
   ]
  },
  {
   "cell_type": "code",
   "execution_count": 12,
   "metadata": {},
   "outputs": [
    {
     "name": "stdout",
     "output_type": "stream",
     "text": [
      "2024-03-15T16:07:47.970Z BTC/USDT:USDT 2024-03-15T16:07:48.027Z 67725.9 0.002 received 1\n",
      "2024-03-15T16:07:48.017Z ETH/USDT:USDT 2024-03-15T16:07:48.062Z 3672.34 0.007 received 4\n",
      "2024-03-15T16:07:48.017Z ETH/USDT:USDT 2024-03-15T16:07:48.062Z 3672.34 0.032 received 1\n",
      "2024-03-15T16:07:48.073Z BTC/USDT:USDT 2024-03-15T16:07:48.123Z 67725.9 0.002 received 2\n",
      "2024-03-15T16:07:48.081Z ETH/USDT:USDT 2024-03-15T16:07:48.144Z 3672.34 0.203 received 2\n",
      "2024-03-15T16:07:48.090Z BTC/USDT:USDT 2024-03-15T16:07:48.153Z 67726.5 0.009 received 2\n",
      "2024-03-15T16:07:48.139Z BTC/USDT:USDT 2024-03-15T16:07:48.167Z 67726.6 0.017 received 1\n",
      "2024-03-15T16:07:48.246Z BTC/USDT:USDT 2024-03-15T16:07:48.279Z 67726.6 0.002 received 4\n",
      "2024-03-15T16:07:48.247Z BTC/USDT:USDT 2024-03-15T16:07:48.280Z 67726.6 0.018 received 5\n",
      "2024-03-15T16:07:48.247Z BTC/USDT:USDT 2024-03-15T16:07:48.281Z 67726.6 0.002 received 5\n",
      "2024-03-15T16:07:48.248Z BTC/USDT:USDT 2024-03-15T16:07:48.281Z 67726.6 0.004 received 2\n",
      "2024-03-15T16:07:48.322Z BTC/USDT:USDT 2024-03-15T16:07:48.362Z 67726.5 0.07 received 1\n",
      "2024-03-15T16:07:48.446Z BTC/USDT:USDT 2024-03-15T16:07:48.509Z 67726.5 0.05 received 1\n",
      "2024-03-15T16:07:48.537Z ETH/USDT:USDT 2024-03-15T16:07:48.600Z 3672.35 0.216 received 4\n",
      "2024-03-15T16:07:48.583Z BTC/USDT:USDT 2024-03-15T16:07:48.624Z 67727.0 0.011 received 4\n",
      "2024-03-15T16:07:48.583Z BTC/USDT:USDT 2024-03-15T16:07:48.624Z 67728.2 0.038 received 2\n",
      "2024-03-15T16:07:48.651Z BTC/USDT:USDT 2024-03-15T16:07:48.711Z 67728.6 0.048 received 3\n",
      "2024-03-15T16:07:48.720Z ETH/USDT:USDT 2024-03-15T16:07:48.775Z 3672.35 0.919 received 1\n",
      "2024-03-15T16:07:48.733Z BTC/USDT:USDT 2024-03-15T16:07:48.798Z 67729.4 0.007 received 1\n",
      "2024-03-15T16:07:48.738Z BTC/USDT:USDT 2024-03-15T16:07:48.801Z 67729.3 0.022 received 1\n",
      "2024-03-15T16:07:48.745Z BTC/USDT:USDT 2024-03-15T16:07:48.807Z 67729.4 0.2 received 4\n",
      "2024-03-15T16:07:48.746Z BTC/USDT:USDT 2024-03-15T16:07:48.807Z 67731.6 0.029 received 5\n",
      "2024-03-15T16:07:48.746Z BTC/USDT:USDT 2024-03-15T16:07:48.807Z 67733.3 0.02 received 5\n",
      "2024-03-15T16:07:48.747Z BTC/USDT:USDT 2024-03-15T16:07:48.807Z 67734.8 0.029 received 5\n",
      "2024-03-15T16:07:48.747Z BTC/USDT:USDT 2024-03-15T16:07:48.807Z 67736.3 0.046 received 5\n",
      "2024-03-15T16:07:48.748Z BTC/USDT:USDT 2024-03-15T16:07:48.807Z 67737.8 0.009 received 5\n",
      "2024-03-15T16:07:48.748Z BTC/USDT:USDT 2024-03-15T16:07:48.807Z 67738.8 0.073 received 3\n",
      "2024-03-15T16:07:48.788Z BTC/USDT:USDT 2024-03-15T16:07:48.825Z 67738.1 0.2 received 4\n",
      "2024-03-15T16:07:48.788Z BTC/USDT:USDT 2024-03-15T16:07:48.833Z 67738.1 0.029 received 2\n",
      "2024-03-15T16:07:48.857Z BTC/USDT:USDT 2024-03-15T16:07:48.906Z 67738.1 0.09 received 2\n",
      "2024-03-15T16:07:48.926Z BTC/USDT:USDT 2024-03-15T16:07:48.968Z 67738.1 0.09 received 3\n",
      "2024-03-15T16:07:48.994Z BTC/USDT:USDT 2024-03-15T16:07:49.019Z 67738.1 0.016 received 1\n",
      "2024-03-15T16:07:49.000Z ETH/USDT:USDT 2024-03-15T16:07:49.063Z 3672.34 0.027 received 1\n",
      "2024-03-15T16:07:49.070Z BTC/USDT:USDT 2024-03-15T16:07:49.104Z 67738.1 0.004 received 4\n",
      "2024-03-15T16:07:49.070Z ETH/USDT:USDT 2024-03-15T16:07:49.114Z 3672.35 2.007 received 5\n",
      "2024-03-15T16:07:49.071Z ETH/USDT:USDT 2024-03-15T16:07:49.114Z 3672.35 0.008 received 5\n",
      "2024-03-15T16:07:49.071Z BTC/USDT:USDT 2024-03-15T16:07:49.124Z 67738.2 0.012 received 1\n",
      "2024-03-15T16:07:49.091Z ETH/USDT:USDT 2024-03-15T16:07:49.139Z 3672.55 0.006 received 4\n",
      "2024-03-15T16:07:49.131Z BTC/USDT:USDT 2024-03-15T16:07:49.180Z 67738.1 0.001 received 1\n",
      "2024-03-15T16:07:49.140Z ETH/USDT:USDT 2024-03-15T16:07:49.197Z 3672.62 0.008 received 1\n",
      "2024-03-15T16:07:49.200Z ETH/USDT:USDT 2024-03-15T16:07:49.238Z 3672.62 0.113 received 4\n",
      "2024-03-15T16:07:49.200Z BTC/USDT:USDT 2024-03-15T16:07:49.239Z 67738.1 0.006 received 1\n",
      "2024-03-15T16:07:49.211Z ETH/USDT:USDT 2024-03-15T16:07:49.273Z 3672.62 0.903 received 1\n",
      "2024-03-15T16:07:49.217Z BTC/USDT:USDT 2024-03-15T16:07:49.277Z 67738.1 0.002 received 1\n",
      "2024-03-15T16:07:49.268Z ETH/USDT:USDT 2024-03-15T16:07:49.298Z 3672.62 0.008 received 1\n",
      "2024-03-15T16:07:49.275Z BTC/USDT:USDT 2024-03-15T16:07:49.315Z 67738.2 0.002 received 1\n",
      "2024-03-15T16:07:49.276Z BTC/USDT:USDT 2024-03-15T16:07:49.332Z 67738.2 0.009 received 1\n",
      "2024-03-15T16:07:49.338Z ETH/USDT:USDT 2024-03-15T16:07:49.359Z 3672.62 0.008 received 1\n",
      "2024-03-15T16:07:49.341Z ETH/USDT:USDT 2024-03-15T16:07:49.368Z 3672.62 0.008 received 4\n",
      "2024-03-15T16:07:49.342Z ETH/USDT:USDT 2024-03-15T16:07:49.368Z 3672.62 0.021 received 5\n",
      "2024-03-15T16:07:49.343Z ETH/USDT:USDT 2024-03-15T16:07:49.368Z 3672.58 1.513 received 5\n",
      "2024-03-15T16:07:49.343Z ETH/USDT:USDT 2024-03-15T16:07:49.368Z 3672.56 0.054 received 2\n",
      "2024-03-15T16:07:49.406Z BTC/USDT:USDT 2024-03-15T16:07:49.434Z 67738.1 0.001 received 2\n",
      "2024-03-15T16:07:49.543Z BTC/USDT:USDT 2024-03-15T16:07:49.593Z 67738.2 0.064 received 4\n",
      "2024-03-15T16:07:49.544Z BTC/USDT:USDT 2024-03-15T16:07:49.594Z 67738.2 0.271 received 3\n",
      "2024-03-15T16:07:49.610Z BTC/USDT:USDT 2024-03-15T16:07:49.654Z 67738.6 0.002 received 1\n",
      "2024-03-15T16:07:49.680Z BTC/USDT:USDT 2024-03-15T16:07:49.717Z 67738.6 0.003 received 4\n",
      "2024-03-15T16:07:49.689Z BTC/USDT:USDT 2024-03-15T16:07:49.752Z 67738.5 0.008 received 2\n",
      "2024-03-15T16:07:49.752Z BTC/USDT:USDT 2024-03-15T16:07:49.815Z 67738.6 0.008 received 1\n",
      "2024-03-15T16:07:49.758Z BTC/USDT:USDT 2024-03-15T16:07:49.822Z 67738.6 0.042 received 1\n",
      "2024-03-15T16:07:49.767Z BTC/USDT:USDT 2024-03-15T16:07:49.830Z 67738.6 0.058 received 1\n",
      "2024-03-15T16:07:49.817Z BTC/USDT:USDT 2024-03-15T16:07:49.863Z 67740.3 0.018 received 3\n",
      "2024-03-15T16:07:49.826Z ETH/USDT:USDT 2024-03-15T16:07:49.885Z 3672.54 0.115 received 4\n",
      "2024-03-15T16:07:49.827Z ETH/USDT:USDT 2024-03-15T16:07:49.885Z 3672.55 2.048 received 5\n",
      "2024-03-15T16:07:49.827Z ETH/USDT:USDT 2024-03-15T16:07:49.885Z 3672.55 1.76 received 1\n",
      "2024-03-15T16:07:49.870Z BTC/USDT:USDT 2024-03-15T16:07:49.918Z 67740.9 0.015 received 1\n",
      "2024-03-15T16:07:49.888Z BTC/USDT:USDT 2024-03-15T16:07:49.952Z 67740.8 0.1 received 1\n",
      "2024-03-15T16:07:49.896Z BTC/USDT:USDT 2024-03-15T16:07:49.959Z 67740.9 0.092 received 1\n",
      "2024-03-15T16:07:49.945Z ETH/USDT:USDT 2024-03-15T16:07:49.998Z 3672.55 0.545 received 1\n",
      "2024-03-15T16:07:49.953Z ETH/USDT:USDT 2024-03-15T16:07:50.013Z 3672.56 0.01 received 1\n",
      "2024-03-15T16:07:49.954Z BTC/USDT:USDT 2024-03-15T16:07:50.018Z 67740.9 0.007 received 1\n",
      "2024-03-15T16:07:50.083Z BTC/USDT:USDT 2024-03-15T16:07:50.130Z 67740.9 0.01 received 1\n",
      "2024-03-15T16:07:50.095Z ETH/USDT:USDT 2024-03-15T16:07:50.159Z 3672.56 3.0 received 1\n",
      "2024-03-15T16:07:50.104Z BTC/USDT:USDT 2024-03-15T16:07:50.167Z 67740.8 0.038 received 1\n",
      "2024-03-15T16:07:50.124Z ETH/USDT:USDT 2024-03-15T16:07:50.188Z 3672.55 0.079 received 3\n",
      "2024-03-15T16:07:50.128Z ETH/USDT:USDT 2024-03-15T16:07:50.191Z 3672.55 0.288 received 2\n",
      "2024-03-15T16:07:50.180Z BTC/USDT:USDT 2024-03-15T16:07:50.243Z 67740.9 0.011 received 1\n",
      "2024-03-15T16:07:50.282Z BTC/USDT:USDT 2024-03-15T16:07:50.344Z 67740.9 0.044 received 4\n",
      "2024-03-15T16:07:50.283Z BTC/USDT:USDT 2024-03-15T16:07:50.344Z 67741.0 0.019 received 5\n",
      "2024-03-15T16:07:50.283Z BTC/USDT:USDT 2024-03-15T16:07:50.344Z 67741.5 0.005 received 1\n",
      "2024-03-15T16:07:50.287Z BTC/USDT:USDT 2024-03-15T16:07:50.350Z 67741.5 0.003 received 1\n",
      "2024-03-15T16:07:50.300Z BTC/USDT:USDT 2024-03-15T16:07:50.359Z 67741.4 0.022 received 1\n",
      "2024-03-15T16:07:50.315Z ETH/USDT:USDT 2024-03-15T16:07:50.376Z 3672.55 0.187 received 1\n",
      "2024-03-15T16:07:50.323Z BTC/USDT:USDT 2024-03-15T16:07:50.387Z 67741.5 0.006 received 1\n",
      "2024-03-15T16:07:50.453Z BTC/USDT:USDT 2024-03-15T16:07:50.515Z 67741.4 0.043 received 4\n",
      "2024-03-15T16:07:50.454Z BTC/USDT:USDT 2024-03-15T16:07:50.515Z 67741.4 0.002 received 5\n",
      "2024-03-15T16:07:50.455Z BTC/USDT:USDT 2024-03-15T16:07:50.515Z 67741.3 0.002 received 5\n",
      "2024-03-15T16:07:50.456Z BTC/USDT:USDT 2024-03-15T16:07:50.515Z 67740.9 0.106 received 3\n",
      "2024-03-15T16:07:50.553Z BTC/USDT:USDT 2024-03-15T16:07:50.610Z 67740.9 0.568 received 3\n",
      "2024-03-15T16:07:50.599Z BTC/USDT:USDT 2024-03-15T16:07:50.657Z 67740.9 0.028 received 1\n",
      "2024-03-15T16:07:50.623Z BTC/USDT:USDT 2024-03-15T16:07:50.685Z 67740.9 0.007 received 1\n",
      "2024-03-15T16:07:50.637Z BTC/USDT:USDT 2024-03-15T16:07:50.697Z 67741.0 0.125 received 1\n",
      "2024-03-15T16:07:50.702Z BTC/USDT:USDT 2024-03-15T16:07:50.765Z 67741.0 0.022 received 1\n",
      "2024-03-15T16:07:50.751Z BTC/USDT:USDT 2024-03-15T16:07:50.814Z 67741.0 0.058 received 1\n",
      "2024-03-15T16:07:50.766Z BTC/USDT:USDT 2024-03-15T16:07:50.830Z 67740.9 0.01 received 1\n",
      "2024-03-15T16:07:50.905Z BTC/USDT:USDT 2024-03-15T16:07:50.967Z 67741.0 0.188 received 3\n",
      "2024-03-15T16:07:50.912Z ETH/USDT:USDT 2024-03-15T16:07:50.973Z 3672.56 0.026 received 4\n",
      "2024-03-15T16:07:50.913Z ETH/USDT:USDT 2024-03-15T16:07:50.973Z 3672.56 0.006 received 5\n",
      "2024-03-15T16:07:50.914Z ETH/USDT:USDT 2024-03-15T16:07:50.973Z 3672.57 0.006 received 2\n",
      "2024-03-15T16:07:50.988Z BTC/USDT:USDT 2024-03-15T16:07:51.052Z 67741.0 0.02 received 3\n",
      "2024-03-15T16:07:50.999Z BTC/USDT:USDT 2024-03-15T16:07:51.062Z 67741.0 0.003 received 1\n",
      "2024-03-15T16:07:51.001Z BTC/USDT:USDT 2024-03-15T16:07:51.065Z 67741.0 0.047 received 1\n",
      "2024-03-15T16:07:51.003Z BTC/USDT:USDT 2024-03-15T16:07:51.065Z 67741.0 0.074 received 4\n",
      "2024-03-15T16:07:51.003Z BTC/USDT:USDT 2024-03-15T16:07:51.065Z 67741.0 0.013 received 1\n",
      "2024-03-15T16:07:51.138Z BTC/USDT:USDT 2024-03-15T16:07:51.201Z 67741.0 0.065 received 3\n",
      "2024-03-15T16:07:51.147Z BTC/USDT:USDT 2024-03-15T16:07:51.211Z 67741.0 0.002 received 1\n",
      "2024-03-15T16:07:51.236Z BTC/USDT:USDT 2024-03-15T16:07:51.299Z 67740.9 0.002 received 1\n",
      "2024-03-15T16:07:51.303Z BTC/USDT:USDT 2024-03-15T16:07:51.367Z 67741.0 0.044 received 1\n",
      "2024-03-15T16:07:51.319Z ETH/USDT:USDT 2024-03-15T16:07:51.381Z 3672.59 0.152 received 2\n",
      "2024-03-15T16:07:51.333Z BTC/USDT:USDT 2024-03-15T16:07:51.396Z 67740.9 0.053 received 3\n",
      "2024-03-15T16:07:51.368Z BTC/USDT:USDT 2024-03-15T16:07:51.431Z 67741.0 0.011 received 1\n",
      "2024-03-15T16:07:51.446Z BTC/USDT:USDT 2024-03-15T16:07:51.510Z 67741.0 0.003 received 2\n",
      "2024-03-15T16:07:51.447Z BTC/USDT:USDT 2024-03-15T16:07:51.510Z 67741.0 0.076 received 2\n",
      "2024-03-15T16:07:51.489Z ETH/USDT:USDT 2024-03-15T16:07:51.550Z 3672.58 0.048 received 2\n",
      "2024-03-15T16:07:51.509Z BTC/USDT:USDT 2024-03-15T16:07:51.571Z 67740.9 0.006 received 1\n",
      "2024-03-15T16:07:51.622Z BTC/USDT:USDT 2024-03-15T16:07:51.646Z 67740.9 0.002 received 4\n",
      "2024-03-15T16:07:51.622Z BTC/USDT:USDT 2024-03-15T16:07:51.646Z 67740.9 0.092 received 5\n",
      "2024-03-15T16:07:51.623Z BTC/USDT:USDT 2024-03-15T16:07:51.646Z 67740.9 0.092 received 5\n",
      "2024-03-15T16:07:51.623Z BTC/USDT:USDT 2024-03-15T16:07:51.646Z 67740.9 0.092 received 5\n",
      "2024-03-15T16:07:51.623Z BTC/USDT:USDT 2024-03-15T16:07:51.647Z 67740.9 0.092 received 5\n",
      "2024-03-15T16:07:51.624Z BTC/USDT:USDT 2024-03-15T16:07:51.647Z 67740.9 0.092 received 5\n",
      "2024-03-15T16:07:51.625Z BTC/USDT:USDT 2024-03-15T16:07:51.647Z 67740.9 0.008 received 5\n",
      "2024-03-15T16:07:51.625Z BTC/USDT:USDT 2024-03-15T16:07:51.647Z 67740.9 0.092 received 5\n",
      "2024-03-15T16:07:51.625Z BTC/USDT:USDT 2024-03-15T16:07:51.647Z 67740.9 0.005 received 5\n",
      "2024-03-15T16:07:51.626Z BTC/USDT:USDT 2024-03-15T16:07:51.647Z 67740.9 0.011 received 5\n",
      "2024-03-15T16:07:51.626Z BTC/USDT:USDT 2024-03-15T16:07:51.647Z 67740.9 0.092 received 5\n",
      "2024-03-15T16:07:51.626Z BTC/USDT:USDT 2024-03-15T16:07:51.647Z 67740.9 0.092 received 5\n",
      "2024-03-15T16:07:51.627Z BTC/USDT:USDT 2024-03-15T16:07:51.647Z 67740.9 0.003 received 5\n",
      "2024-03-15T16:07:51.627Z BTC/USDT:USDT 2024-03-15T16:07:51.647Z 67740.9 0.014 received 5\n",
      "2024-03-15T16:07:51.627Z BTC/USDT:USDT 2024-03-15T16:07:51.647Z 67740.8 0.004 received 5\n",
      "2024-03-15T16:07:51.628Z BTC/USDT:USDT 2024-03-15T16:07:51.647Z 67738.2 0.002 received 5\n",
      "2024-03-15T16:07:51.628Z BTC/USDT:USDT 2024-03-15T16:07:51.647Z 67738.1 0.008 received 5\n",
      "2024-03-15T16:07:51.628Z BTC/USDT:USDT 2024-03-15T16:07:51.647Z 67737.2 0.026 received 5\n",
      "2024-03-15T16:07:51.629Z BTC/USDT:USDT 2024-03-15T16:07:51.647Z 67736.5 0.056 received 5\n",
      "2024-03-15T16:07:51.629Z BTC/USDT:USDT 2024-03-15T16:07:51.647Z 67736.2 0.092 received 5\n",
      "2024-03-15T16:07:51.630Z BTC/USDT:USDT 2024-03-15T16:07:51.647Z 67734.8 0.029 received 5\n",
      "2024-03-15T16:07:51.630Z BTC/USDT:USDT 2024-03-15T16:07:51.647Z 67733.3 0.057 received 5\n",
      "2024-03-15T16:07:51.630Z BTC/USDT:USDT 2024-03-15T16:07:51.647Z 67733.0 0.062 received 5\n",
      "2024-03-15T16:07:51.631Z BTC/USDT:USDT 2024-03-15T16:07:51.647Z 67732.3 0.092 received 5\n",
      "2024-03-15T16:07:51.631Z BTC/USDT:USDT 2024-03-15T16:07:51.647Z 67731.6 0.029 received 5\n",
      "2024-03-15T16:07:51.631Z BTC/USDT:USDT 2024-03-15T16:07:51.647Z 67730.2 0.007 received 5\n",
      "2024-03-15T16:07:51.632Z BTC/USDT:USDT 2024-03-15T16:07:51.647Z 67729.9 0.002 received 5\n",
      "2024-03-15T16:07:51.640Z BTC/USDT:USDT 2024-03-15T16:07:51.648Z 67720.1 0.092 received 142\n",
      "2024-03-15T16:07:51.640Z ETH/USDT:USDT 2024-03-15T16:07:51.664Z 3672.5 0.321 received 20\n",
      "2024-03-15T16:07:51.676Z BTC/USDT:USDT 2024-03-15T16:07:51.697Z 67729.5 0.002 received 4\n",
      "2024-03-15T16:07:51.677Z BTC/USDT:USDT 2024-03-15T16:07:51.697Z 67731.6 0.173 received 5\n",
      "2024-03-15T16:07:51.677Z BTC/USDT:USDT 2024-03-15T16:07:51.697Z 67731.6 0.013 received 5\n",
      "2024-03-15T16:07:51.678Z BTC/USDT:USDT 2024-03-15T16:07:51.697Z 67736.4 0.296 received 5\n",
      "2024-03-15T16:07:51.678Z BTC/USDT:USDT 2024-03-15T16:07:51.697Z 67740.0 0.138 received 5\n",
      "2024-03-15T16:07:51.679Z BTC/USDT:USDT 2024-03-15T16:07:51.697Z 67740.9 0.962 received 3\n",
      "2024-03-15T16:07:51.679Z ETH/USDT:USDT 2024-03-15T16:07:51.714Z 3672.35 0.013 received 6\n",
      "2024-03-15T16:07:51.731Z BTC/USDT:USDT 2024-03-15T16:07:51.788Z 67731.5 0.008 received 4\n",
      "2024-03-15T16:07:51.779Z ETH/USDT:USDT 2024-03-15T16:07:51.828Z 3672.34 0.007 received 3\n",
      "2024-03-15T16:07:51.780Z ETH/USDT:USDT 2024-03-15T16:07:51.828Z 3672.34 0.086 received 1\n",
      "2024-03-15T16:07:51.781Z BTC/USDT:USDT 2024-03-15T16:07:51.841Z 67731.6 0.24 received 6\n",
      "2024-03-15T16:07:51.781Z BTC/USDT:USDT 2024-03-15T16:07:51.841Z 67731.6 0.028 received 2\n",
      "2024-03-15T16:07:51.784Z BTC/USDT:USDT 2024-03-15T16:07:51.846Z 67731.5 0.017 received 1\n",
      "2024-03-15T16:07:51.791Z BTC/USDT:USDT 2024-03-15T16:07:51.851Z 67731.5 0.071 received 2\n",
      "2024-03-15T16:07:51.795Z BTC/USDT:USDT 2024-03-15T16:07:51.855Z 67731.5 0.004 received 2\n",
      "2024-03-15T16:07:51.798Z BTC/USDT:USDT 2024-03-15T16:07:51.858Z 67731.5 0.022 received 2\n",
      "2024-03-15T16:07:51.824Z BTC/USDT:USDT 2024-03-15T16:07:51.875Z 67731.6 0.003 received 2\n",
      "2024-03-15T16:07:51.870Z BTC/USDT:USDT 2024-03-15T16:07:51.934Z 67731.5 0.051 received 1\n",
      "2024-03-15T16:07:51.926Z ETH/USDT:USDT 2024-03-15T16:07:51.941Z 3672.34 0.007 received 4\n",
      "2024-03-15T16:07:51.927Z ETH/USDT:USDT 2024-03-15T16:07:51.942Z 3672.35 0.01 received 5\n",
      "2024-03-15T16:07:51.927Z ETH/USDT:USDT 2024-03-15T16:07:51.945Z 3672.24 0.006 received 5\n",
      "2024-03-15T16:07:51.928Z BTC/USDT:USDT 2024-03-15T16:07:51.959Z 67731.6 0.019 received 5\n",
      "2024-03-15T16:07:51.928Z BTC/USDT:USDT 2024-03-15T16:07:51.986Z 67731.5 0.135 received 5\n",
      "2024-03-15T16:07:52.000Z BTC/USDT:USDT 2024-03-15T16:07:52.056Z 67731.6 0.148 received 2\n",
      "2024-03-15T16:07:52.035Z ETH/USDT:USDT 2024-03-15T16:07:52.096Z 3672.2 0.011 received 3\n",
      "2024-03-15T16:07:52.047Z ETH/USDT:USDT 2024-03-15T16:07:52.103Z 3672.19 0.14 received 2\n",
      "2024-03-15T16:07:52.132Z ETH/USDT:USDT 2024-03-15T16:07:52.160Z 3672.19 0.013 received 1\n",
      "2024-03-15T16:07:52.200Z BTC/USDT:USDT 2024-03-15T16:07:52.226Z 67731.5 0.012 received 3\n",
      "2024-03-15T16:07:52.200Z BTC/USDT:USDT 2024-03-15T16:07:52.248Z 67731.5 0.009 received 2\n",
      "2024-03-15T16:07:52.206Z BTC/USDT:USDT 2024-03-15T16:07:52.270Z 67731.6 0.033 received 1\n",
      "2024-03-15T16:07:52.269Z BTC/USDT:USDT 2024-03-15T16:07:52.320Z 67731.5 0.067 received 2\n",
      "2024-03-15T16:07:52.283Z ETH/USDT:USDT 2024-03-15T16:07:52.346Z 3672.18 0.095 received 5\n",
      "2024-03-15T16:07:52.337Z ETH/USDT:USDT 2024-03-15T16:07:52.396Z 3672.15 0.136 received 1\n",
      "2024-03-15T16:07:52.406Z BTC/USDT:USDT 2024-03-15T16:07:52.450Z 67731.5 0.002 received 4\n",
      "2024-03-15T16:07:52.406Z BTC/USDT:USDT 2024-03-15T16:07:52.452Z 67731.5 0.013 received 5\n",
      "2024-03-15T16:07:52.407Z ETH/USDT:USDT 2024-03-15T16:07:52.452Z 3672.13 0.006 received 3\n",
      "2024-03-15T16:07:52.408Z ETH/USDT:USDT 2024-03-15T16:07:52.453Z 3671.87 1.823 received 5\n",
      "2024-03-15T16:07:52.408Z BTC/USDT:USDT 2024-03-15T16:07:52.454Z 67728.9 0.018 received 7\n",
      "2024-03-15T16:07:52.409Z ETH/USDT:USDT 2024-03-15T16:07:52.454Z 3671.82 0.514 received 7\n",
      "2024-03-15T16:07:52.409Z ETH/USDT:USDT 2024-03-15T16:07:52.454Z 3671.81 1.635 received 2\n",
      "2024-03-15T16:07:52.426Z ETH/USDT:USDT 2024-03-15T16:07:52.456Z 3671.66 0.047 received 4\n",
      "2024-03-15T16:07:52.426Z ETH/USDT:USDT 2024-03-15T16:07:52.456Z 3671.66 0.573 received 1\n",
      "2024-03-15T16:07:52.426Z ETH/USDT:USDT 2024-03-15T16:07:52.462Z 3671.6 0.006 received 4\n",
      "2024-03-15T16:07:52.427Z ETH/USDT:USDT 2024-03-15T16:07:52.462Z 3671.59 0.681 received 1\n",
      "2024-03-15T16:07:52.474Z ETH/USDT:USDT 2024-03-15T16:07:52.509Z 3671.56 0.034 received 2\n",
      "2024-03-15T16:07:52.474Z BTC/USDT:USDT 2024-03-15T16:07:52.514Z 67720.3 0.065 received 12\n",
      "2024-03-15T16:07:52.475Z ETH/USDT:USDT 2024-03-15T16:07:52.517Z 3671.44 0.014 received 5\n",
      "2024-03-15T16:07:52.475Z ETH/USDT:USDT 2024-03-15T16:07:52.521Z 3671.45 0.5 received 3\n",
      "2024-03-15T16:07:52.475Z ETH/USDT:USDT 2024-03-15T16:07:52.526Z 3671.36 1.62 received 4\n",
      "2024-03-15T16:07:52.477Z BTC/USDT:USDT 2024-03-15T16:07:52.528Z 67720.3 0.396 received 4\n",
      "2024-03-15T16:07:52.495Z BTC/USDT:USDT 2024-03-15T16:07:52.548Z 67719.7 0.38 received 4\n",
      "2024-03-15T16:07:52.496Z BTC/USDT:USDT 2024-03-15T16:07:52.548Z 67718.7 0.018 received 5\n",
      "2024-03-15T16:07:52.496Z BTC/USDT:USDT 2024-03-15T16:07:52.548Z 67717.8 0.037 received 5\n",
      "2024-03-15T16:07:52.497Z BTC/USDT:USDT 2024-03-15T16:07:52.548Z 67716.1 0.037 received 5\n",
      "2024-03-15T16:07:52.498Z BTC/USDT:USDT 2024-03-15T16:07:52.548Z 67715.2 0.071 received 4\n",
      "2024-03-15T16:07:52.552Z BTC/USDT:USDT 2024-03-15T16:07:52.607Z 67715.3 0.017 received 4\n",
      "2024-03-15T16:07:52.566Z BTC/USDT:USDT 2024-03-15T16:07:52.620Z 67715.3 0.014 received 1\n",
      "2024-03-15T16:07:52.620Z BTC/USDT:USDT 2024-03-15T16:07:52.675Z 67715.2 0.005 received 1\n",
      "2024-03-15T16:07:52.749Z ETH/USDT:USDT 2024-03-15T16:07:52.806Z 3671.31 0.1 received 2\n",
      "2024-03-15T16:07:52.819Z BTC/USDT:USDT 2024-03-15T16:07:52.842Z 67715.2 0.058 received 4\n",
      "2024-03-15T16:07:52.819Z BTC/USDT:USDT 2024-03-15T16:07:52.842Z 67715.2 0.002 received 5\n",
      "2024-03-15T16:07:52.820Z BTC/USDT:USDT 2024-03-15T16:07:52.860Z 67715.3 0.002 received 5\n",
      "2024-03-15T16:07:52.820Z BTC/USDT:USDT 2024-03-15T16:07:52.860Z 67715.3 0.006 received 5\n",
      "2024-03-15T16:07:52.821Z BTC/USDT:USDT 2024-03-15T16:07:52.860Z 67715.3 0.388 received 5\n",
      "2024-03-15T16:07:52.821Z BTC/USDT:USDT 2024-03-15T16:07:52.860Z 67715.3 0.104 received 3\n",
      "2024-03-15T16:07:52.826Z BTC/USDT:USDT 2024-03-15T16:07:52.883Z 67715.3 0.008 received 1\n",
      "2024-03-15T16:07:52.886Z BTC/USDT:USDT 2024-03-15T16:07:52.940Z 67715.3 0.004 received 2\n",
      "2024-03-15T16:07:52.908Z ETH/USDT:USDT 2024-03-15T16:07:52.968Z 3671.31 0.032 received 3\n",
      "2024-03-15T16:07:52.976Z ETH/USDT:USDT 2024-03-15T16:07:53.038Z 3671.31 3.344 received 4\n",
      "2024-03-15T16:07:52.977Z ETH/USDT:USDT 2024-03-15T16:07:53.038Z 3671.31 2.468 received 5\n",
      "2024-03-15T16:07:52.979Z ETH/USDT:USDT 2024-03-15T16:07:53.038Z 3671.31 0.59 received 1\n",
      "2024-03-15T16:07:53.023Z BTC/USDT:USDT 2024-03-15T16:07:53.077Z 67715.2 0.022 received 4\n",
      "2024-03-15T16:07:53.023Z BTC/USDT:USDT 2024-03-15T16:07:53.077Z 67715.2 0.19 received 1\n",
      "2024-03-15T16:07:53.035Z BTC/USDT:USDT 2024-03-15T16:07:53.090Z 67715.3 0.002 received 1\n",
      "2024-03-15T16:07:53.092Z BTC/USDT:USDT 2024-03-15T16:07:53.125Z 67715.3 0.066 received 4\n",
      "2024-03-15T16:07:53.093Z ETH/USDT:USDT 2024-03-15T16:07:53.132Z 3671.3 0.285 received 5\n",
      "2024-03-15T16:07:53.093Z ETH/USDT:USDT 2024-03-15T16:07:53.132Z 3671.3 1.199 received 3\n",
      "2024-03-15T16:07:53.094Z BTC/USDT:USDT 2024-03-15T16:07:53.143Z 67715.3 0.442 received 7\n",
      "2024-03-15T16:07:53.094Z BTC/USDT:USDT 2024-03-15T16:07:53.143Z 67715.3 0.205 received 2\n",
      "2024-03-15T16:07:53.095Z ETH/USDT:USDT 2024-03-15T16:07:53.154Z 3671.31 0.8 received 1\n",
      "2024-03-15T16:07:53.099Z BTC/USDT:USDT 2024-03-15T16:07:53.163Z 67715.2 0.047 received 1\n",
      "2024-03-15T16:07:53.101Z BTC/USDT:USDT 2024-03-15T16:07:53.163Z 67715.2 0.066 received 4\n",
      "2024-03-15T16:07:53.101Z BTC/USDT:USDT 2024-03-15T16:07:53.163Z 67715.2 0.143 received 1\n",
      "2024-03-15T16:07:53.113Z BTC/USDT:USDT 2024-03-15T16:07:53.173Z 67715.4 0.002 received 3\n",
      "2024-03-15T16:07:53.161Z BTC/USDT:USDT 2024-03-15T16:07:53.175Z 67717.8 0.022 received 2\n",
      "2024-03-15T16:07:53.163Z ETH/USDT:USDT 2024-03-15T16:07:53.180Z 3671.31 0.017 received 7\n",
      "2024-03-15T16:07:53.164Z ETH/USDT:USDT 2024-03-15T16:07:53.180Z 3671.31 0.23 received 5\n",
      "2024-03-15T16:07:53.165Z BTC/USDT:USDT 2024-03-15T16:07:53.182Z 67718.6 0.002 received 1\n"
     ]
    }
   ],
   "source": [
    "thread = RunThread(test, (bu, ['BTCUSDT', 'ETHUSDT']), {})\n",
    "thread.start()"
   ]
  },
  {
   "cell_type": "code",
   "execution_count": null,
   "metadata": {},
   "outputs": [],
   "source": [
    "thread.join()"
   ]
  },
  {
   "cell_type": "code",
   "execution_count": null,
   "metadata": {},
   "outputs": [],
   "source": [
    "asyncio.run(test(bu, ['BTCUSDT', 'ETHUSDT']))"
   ]
  }
 ],
 "metadata": {
  "kernelspec": {
   "display_name": "p311qbx",
   "language": "python",
   "name": "python3"
  },
  "language_info": {
   "codemirror_mode": {
    "name": "ipython",
    "version": 3
   },
   "file_extension": ".py",
   "mimetype": "text/x-python",
   "name": "python",
   "nbconvert_exporter": "python",
   "pygments_lexer": "ipython3",
   "version": "3.11.8"
  }
 },
 "nbformat": 4,
 "nbformat_minor": 2
}
