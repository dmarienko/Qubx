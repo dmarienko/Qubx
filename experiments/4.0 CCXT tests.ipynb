{
 "cells": [
  {
   "cell_type": "code",
   "execution_count": 1,
   "metadata": {},
   "outputs": [
    {
     "name": "stdout",
     "output_type": "stream",
     "text": [
      " >  [\u001b[32mdev\u001b[0m] \u001b[31minstalling cython rebuilding hook\u001b[0m\n",
      "\n",
      "                   \u001b[31m╻\u001b[0m\n",
      "   \u001b[32m┏┓      ╻     \u001b[0m  \u001b[31m┃\u001b[0m  \u001b[33m┏┓\u001b[0m       \u001b[36mQuantitative Backtesting Environment\u001b[0m \n",
      "   \u001b[32m┃┃  ┓┏  ┣┓  ┏┓\u001b[0m  \u001b[31m┃\u001b[0m  \u001b[33m┏┛\u001b[0m       \n",
      "   \u001b[32m┗┻  ┗┻  ┗┛  ┗ \u001b[0m  \u001b[31m┃\u001b[0m  \u001b[33m┗━\u001b[0m       (c) 2024,  ver. \u001b[35mDev\u001b[0m\n",
      "                   \u001b[31m╹\u001b[0m       \n",
      "\n"
     ]
    }
   ],
   "source": [
    "import sys, os, re; sys.path = ([\"../src/\", \"../\"] if re.match(r'^(\\w\\:\\\\)|(/)', os.getcwd()) else [])+ sys.path \n",
    "\n",
    "import ccxt as cx\n",
    "from typing import Any, Optional, List\n",
    "import ccxt.pro as cxp\n",
    "from ccxt.base.decimal_to_precision import ROUND_UP\n",
    "import asyncio\n",
    "import nest_asyncio\n",
    "nest_asyncio.apply()\n",
    "from ccxt.base.exchange import Exchange\n",
    "\n",
    "import qubx\n",
    "%qubxd dev\n",
    "\n",
    "%load_ext autoreload\n",
    "%autoreload 2\n",
    "\n",
    "from qubx import lookup\n",
    "from qubx.core.series import TimeSeries, Bar, Trade, Quote, OHLCV\n",
    "from qubx.utils.pandas import scols, ohlc_resample\n",
    "from qubx.core.strategy import IStrategy, StrategyContext, TriggerEvent\n",
    "from qubx.core.basics import Instrument, Position, Signal, TransactionCostsCalculator, dt_64\n",
    "from qubx.impl.ccxt_connector import CCXTConnector, CtrlChannel, BinanceQV\n",
    "from qubx.utils.pandas import ohlc_resample"
   ]
  },
  {
   "cell_type": "markdown",
   "metadata": {},
   "source": [
    "# Common"
   ]
  },
  {
   "cell_type": "code",
   "execution_count": null,
   "metadata": {},
   "outputs": [],
   "source": [
    "lookup.instruments['KRAKEN.F:BTC/USD']"
   ]
  },
  {
   "cell_type": "code",
   "execution_count": 34,
   "metadata": {},
   "outputs": [
    {
     "data": {
      "text/plain": [
       "Instrument(symbol='BTCUSDT', market_type='CRYPTO', exchange='BINANCE.UM', base='BTC', quote='USDT', margin_symbol='USDT', min_tick=0.1, min_size_step=0.001, min_size=0.001, futures_info=FuturesInfo(contract_type='PERPETUAL', delivery_date=datetime.datetime(2100, 12, 25, 10, 0), onboard_date=datetime.datetime(2019, 9, 25, 11, 0), contract_size=1.0, maint_margin=2.5, required_margin=5.0, liquidation_fee=0.0125), _aux_instrument=None)"
      ]
     },
     "execution_count": 34,
     "metadata": {},
     "output_type": "execute_result"
    }
   ],
   "source": [
    "instr = lookup.instruments.find('BINANCE.UM', 'BTC', 'USDT')\n",
    "instr"
   ]
  },
  {
   "cell_type": "code",
   "execution_count": 39,
   "metadata": {},
   "outputs": [
    {
     "data": {
      "text/plain": [
       "Instrument(symbol='ETH/BTC', market_type='spot', exchange='KRAKEN', base='ETH', quote='BTC', margin_symbol=None, min_tick=1e-05, min_size_step=1e-05, min_size=1e-08, futures_info=None, _aux_instrument=None)"
      ]
     },
     "execution_count": 39,
     "metadata": {},
     "output_type": "execute_result"
    }
   ],
   "source": [
    "instr = lookup.instruments.find('KRAKEN', 'BTC', 'ETH')\n",
    "instr"
   ]
  },
  {
   "cell_type": "code",
   "execution_count": 38,
   "metadata": {},
   "outputs": [
    {
     "data": {
      "text/plain": [
       "Instrument(symbol='BTC/USD', market_type='spot', exchange='KRAKEN', base='BTC', quote='USD', margin_symbol=None, min_tick=0.1, min_size_step=0.1, min_size=1e-08, futures_info=None, _aux_instrument=None)"
      ]
     },
     "execution_count": 38,
     "metadata": {},
     "output_type": "execute_result"
    }
   ],
   "source": [
    "lookup.find_aux_instrument_for(instr, 'USD')"
   ]
  },
  {
   "cell_type": "code",
   "execution_count": 46,
   "metadata": {},
   "outputs": [],
   "source": [
    "bu = cxp.binanceusdm()\n",
    "bs = cxp.binance()\n",
    "ks = cxp.kraken()\n",
    "kf = cxp.krakenfutures()"
   ]
  },
  {
   "cell_type": "markdown",
   "metadata": {},
   "source": [
    "# Get OHLC [TODO]"
   ]
  },
  {
   "cell_type": "code",
   "execution_count": 47,
   "metadata": {},
   "outputs": [],
   "source": [
    "bs_markets = await bs.load_markets()\n",
    "bu_markets = await bu.load_markets()\n",
    "kf_markets = await kf.load_markets()\n",
    "ks_markets = await ks.load_markets()"
   ]
  },
  {
   "cell_type": "code",
   "execution_count": 53,
   "metadata": {},
   "outputs": [
    {
     "data": {
      "text/plain": [
       "60"
      ]
     },
     "execution_count": 53,
     "metadata": {},
     "output_type": "execute_result"
    }
   ],
   "source": [
    "bu.parse_timeframe('1m')"
   ]
  },
  {
   "cell_type": "code",
   "execution_count": null,
   "metadata": {},
   "outputs": [],
   "source": [
    "interval = bu.parse_timeframe('1m') * 1000\n",
    "orderbook_max_levels_limit = 100\n",
    "since = bu.round_timeframe('1m', bu.milliseconds(), ROUND_UP) - orderbook_max_levels_limit * interval\n",
    "await bu.fetch_ohlcv('ETH/USDT', '1m', since=since, limit=orderbook_max_levels_limit)"
   ]
  },
  {
   "cell_type": "code",
   "execution_count": null,
   "metadata": {},
   "outputs": [],
   "source": [
    "# await bnc1.fetch_ohlcv('ETH/USDT', '1m', since=since, limit=limit)"
   ]
  },
  {
   "cell_type": "code",
   "execution_count": 57,
   "metadata": {},
   "outputs": [],
   "source": [
    "cxc = CCXT_connector('binance')"
   ]
  },
  {
   "cell_type": "markdown",
   "metadata": {},
   "source": []
  },
  {
   "cell_type": "markdown",
   "metadata": {},
   "source": [
    "# <font color='#ff0000'>Listen to data></font>"
   ]
  },
  {
   "cell_type": "code",
   "execution_count": 2,
   "metadata": {},
   "outputs": [],
   "source": [
    "import asyncio\n",
    "# from multiprocessing import Queue, Process, Event, Lock\n",
    "from threading import Thread, Event, Lock\n",
    "from queue import Queue\n",
    "# from multiprocessing import Queue, Process, Event, Lock\n",
    "from concurrent.futures import ThreadPoolExecutor, ProcessPoolExecutor"
   ]
  },
  {
   "cell_type": "code",
   "execution_count": 3,
   "metadata": {},
   "outputs": [],
   "source": [
    "class CtrlChannel:\n",
    "    \"\"\"\n",
    "    Controlled data communication channel\n",
    "    \"\"\"\n",
    "    control: Event\n",
    "    queue: Queue     # we need something like disruptor here (Queue is temporary)\n",
    "    name: str\n",
    "    lock: Lock\n",
    "\n",
    "    def __init__(self, name: str):\n",
    "        self.name = name\n",
    "        self.control = Event()\n",
    "        self.queue = Queue()\n",
    "        self.lock = Lock()\n",
    "\n",
    "    def stop(self):\n",
    "        if self.control.is_set():\n",
    "            self.control.clear()\n",
    "\n",
    "    def start(self):\n",
    "        self.control.set()\n",
    "\n",
    "\n",
    "class AsyncioThreadRunner(Thread):\n",
    "    channel: Optional[CtrlChannel]\n",
    "\n",
    "    def __init__(self, channel: Optional[CtrlChannel]):\n",
    "        self.result = None\n",
    "        self.channel = channel\n",
    "        self.loops = []\n",
    "        super().__init__()\n",
    "\n",
    "    def add(self, func, *args, **kwargs) -> 'AsyncioThreadRunner':\n",
    "        self.loops.append(func(self.channel, *args, **kwargs))\n",
    "        return self\n",
    "\n",
    "    async def run_loop(self):\n",
    "        self.result = await asyncio.gather(*self.loops)\n",
    "\n",
    "    def run(self):\n",
    "        if self.channel:\n",
    "            self.channel.control.set()\n",
    "        asyncio.run(self.run_loop())\n",
    "\n",
    "    def stop(self):\n",
    "        if self.channel:\n",
    "            self.channel.control.clear()\n",
    "            self.channel.queue.put((None, None)) # send sentinel"
   ]
  },
  {
   "cell_type": "code",
   "execution_count": 37,
   "metadata": {},
   "outputs": [],
   "source": [
    "class TestExch:\n",
    "    def __init__(self, exch: Exchange) -> None:\n",
    "        self.exchange = exch\n",
    "        self.loop = asyncio.get_running_loop()\n",
    "\n",
    "    async def listen_to_trades(self, channel: CtrlChannel, symbols: List[str]):\n",
    "        print(\"Start watch_trades_for_symbols ...\")\n",
    "        while channel.control.is_set():\n",
    "            try:\n",
    "                trades = await self.exchange.watch_trades_for_symbols(symbols)\n",
    "                for trade in trades:\n",
    "                    t_ns = trade['timestamp'] * 1_000_000 # this is trade time \n",
    "                    s, info, price, amnt = trade['symbol'], trade['info'], trade['price'], trade['amount']\n",
    "                    m = info['m']\n",
    "                    tas = Trade(t_ns, price, amnt, int(not m), int(trade['id']))\n",
    "                    channel.queue.put((s, tas))\n",
    "            except Exception as e:\n",
    "                print(type(e).__name__, str(e), flush=True)\n",
    "                await self.exchange.close()\n",
    "                raise e\n",
    "        print(\"Stop watch_trades_for_symbols\")\n",
    "\n",
    "    async def listen_to_orderbook(self, channel: CtrlChannel, symbols: List[str], orderbook_max_levels_limit=5):\n",
    "        while channel.control.is_set():\n",
    "            try:\n",
    "                orderbook = await self.exchange.watch_order_book_for_symbols(symbols, limit=orderbook_max_levels_limit)\n",
    "                t_ns = orderbook['timestamp'] * 1_000_000\n",
    "                s, b, a = orderbook['symbol'], orderbook['bids'], orderbook['asks']\n",
    "                q = Quote(t_ns, b[0][0], a[0][0], b[0][1], a[0][1])\n",
    "                channel.queue.put((s, q))\n",
    "            except Exception as e:\n",
    "                print(type(e).__name__, str(e), flush=True)\n",
    "                await self.exchange.close()\n",
    "                raise e\n",
    "\n",
    "    async def fetch_ohlcs(self, symbol: str, timeframe: str, nbarsback: int):\n",
    "        start = ((pd.Timestamp('now', tz='UTC') - nbarsback * pd.Timedelta(timeframe)).asm8.item()//1000000) if nbarsback > 1 else None \n",
    "        print(\"> START fetching OHLCV...\")\n",
    "        return await self.exchange.fetch_ohlcv(symbol, timeframe, since=start, limit=nbarsback + 1)\n",
    "\n",
    "    async def receiver(self, channel: CtrlChannel):\n",
    "        sers = {}\n",
    "        print(\">>> START LISTENING\", flush=True)\n",
    "        T, Q = 0, 0\n",
    "        while channel.control.is_set():\n",
    "            s, data = channel.queue.get()\n",
    "            if isinstance(data, Quote):\n",
    "                if not (Q % 100):\n",
    "                    print(s, data, flush=True)\n",
    "                    Q = 0\n",
    "                Q += 1\n",
    "            if isinstance(data, Trade):\n",
    "                if s not in sers:\n",
    "                    sers[s] = TimeSeries(s, '1Min')\n",
    "                ts = sers[s]\n",
    "                ts.update(data.time, data.price)\n",
    "                if not (T % 200):\n",
    "                    print(s, data, flush=True)\n",
    "                    T = 0\n",
    "                    print(\"--- Send request for OHLCV ...\")\n",
    "                    t1 = self.loop.create_task(self.fetch_ohlcs(s, '1m', 10))\n",
    "                    while not t1.done():\n",
    "                        await asyncio.sleep(0.01)\n",
    "                    print(\"DATA: \", t1.result())\n",
    "                    # print(\"DATA: \", data)\n",
    "                T += 1\n",
    "            if isinstance(data, Bar):\n",
    "                # print(f\"{s} {pd.Timestamp(data.time, unit='ns')}: {data}\", flush=True)\n",
    "                if s not in sers:\n",
    "                    sers[s] = {}\n",
    "                sers[s][data.time] = data\n",
    "\n",
    "        print(f\">>> STOP LISTENING: {str(sers)}\", flush=True)\n",
    "        return sers "
   ]
  },
  {
   "cell_type": "code",
   "execution_count": 38,
   "metadata": {},
   "outputs": [],
   "source": [
    "ctx = TestExch(BinanceQV())"
   ]
  },
  {
   "cell_type": "code",
   "execution_count": 39,
   "metadata": {},
   "outputs": [],
   "source": [
    "ch = CtrlChannel('A')\n",
    "rn0 = AsyncioThreadRunner(ch)\n",
    "# rn1 = AsyncioThreadRunner(ch)\n",
    "# rn0.add( ctx.listen_to_trades, ['BTCUSDT'])\n",
    "# rn1.add( ctx.receiver)\n",
    "\n",
    "# rn1.start()\n",
    "# rn0.start()\n",
    "ch.start()"
   ]
  },
  {
   "cell_type": "code",
   "execution_count": 8,
   "metadata": {},
   "outputs": [],
   "source": [
    "# pool1 = ThreadPoolExecutor(3)\n",
    "# pool2 = ThreadPoolExecutor(3)"
   ]
  },
  {
   "cell_type": "code",
   "execution_count": 10,
   "metadata": {},
   "outputs": [
    {
     "data": {
      "text/plain": [
       "(<concurrent.futures.thread.ThreadPoolExecutor at 0x2281009f550>,\n",
       " <concurrent.futures.thread.ThreadPoolExecutor at 0x2283650a450>)"
      ]
     },
     "execution_count": 10,
     "metadata": {},
     "output_type": "execute_result"
    }
   ],
   "source": [
    "# pool1, pool2"
   ]
  },
  {
   "cell_type": "code",
   "execution_count": 40,
   "metadata": {},
   "outputs": [
    {
     "name": "stdout",
     "output_type": "stream",
     "text": [
      ">>> START LISTENING\n"
     ]
    },
    {
     "name": "stdout",
     "output_type": "stream",
     "text": [
      "Start watch_trades_for_symbols ...\n",
      "> START fetching OHLCV...\n",
      "BTC/USDT [2024-04-01T11:02:37.519000000]\t69643.44000 (0.0) <make> 3524778593\n",
      "--- Send request for OHLCV ...\n",
      "> START fetching OHLCV...\n",
      "DATA:  [[1711968780000, 69544.16, 69558.05, 69544.16, 69558.05, 3.44984, 239948.4872952, 151848.9324906], [1711968840000, 69558.04, 69577.14, 69551.08, 69577.13, 10.91972, 759578.8338085, 441910.6662739], [1711968900000, 69577.13, 69577.14, 69551.09, 69551.09, 10.29042, 715825.1139341, 92807.3883297], [1711968960000, 69551.09, 69575.99, 69551.09, 69561.19, 12.30624, 856011.0503375, 361478.1261965], [1711969020000, 69561.18, 69572.1, 69552.0, 69552.01, 7.51446, 522723.9835937, 133638.4159887], [1711969080000, 69552.0, 69552.01, 69552.0, 69552.0, 2.19828, 152894.7797674, 64039.3176874], [1711969140000, 69552.0, 69558.96, 69552.0, 69554.01, 6.85855, 477060.7335589, 322629.2464023], [1711969200000, 69554.0, 69558.97, 69532.12, 69558.96, 14.82266, 1030892.4702116, 610302.8618266], [1711969260000, 69558.96, 69581.13, 69558.96, 69572.11, 13.90513, 967383.7185591, 720290.1370924], [1711969320000, 69572.11, 69643.44, 69572.11, 69643.44, 34.49484, 2401763.7438273, 2340019.8218329]]\n",
      "BTC/USDT [2024-04-01T11:02:46.354000000]\t69648.94000 (0.0) <take> 3524778793\n",
      "--- Send request for OHLCV ...\n",
      "> START fetching OHLCV...\n",
      "DATA:  [[1711968780000, 69544.16, 69558.05, 69544.16, 69558.05, 3.44984, 239948.4872952, 151848.9324906], [1711968840000, 69558.04, 69577.14, 69551.08, 69577.13, 10.91972, 759578.8338085, 441910.6662739], [1711968900000, 69577.13, 69577.14, 69551.09, 69551.09, 10.29042, 715825.1139341, 92807.3883297], [1711968960000, 69551.09, 69575.99, 69551.09, 69561.19, 12.30624, 856011.0503375, 361478.1261965], [1711969020000, 69561.18, 69572.1, 69552.0, 69552.01, 7.51446, 522723.9835937, 133638.4159887], [1711969080000, 69552.0, 69552.01, 69552.0, 69552.0, 2.19828, 152894.7797674, 64039.3176874], [1711969140000, 69552.0, 69558.96, 69552.0, 69554.01, 6.85855, 477060.7335589, 322629.2464023], [1711969200000, 69554.0, 69558.97, 69532.12, 69558.96, 14.82266, 1030892.4702116, 610302.8618266], [1711969260000, 69558.96, 69581.13, 69558.96, 69572.11, 13.90513, 967383.7185591, 720290.1370924], [1711969320000, 69572.11, 69653.56, 69572.11, 69653.56, 40.06691, 2789841.2008289, 2714753.9326713]]\n",
      "Stop watch_trades_for_symbols\n"
     ]
    }
   ],
   "source": [
    "loop = asyncio.get_running_loop()\n",
    "t0 = loop.create_task(ctx.listen_to_trades(ch, ['BTCUSDT']))\n",
    "t1 = loop.create_task(ctx.fetch_ohlcs('BTCUSDT', '1m', 10))\n",
    "rn0.add( ctx.receiver)\n",
    "rn0.start()\n",
    "\n",
    "# c2 = await loop.run_in_executor(pool2, ctx.listen_to_trades, ch, ['BTCUSDT'])\n",
    "# await asyncio.gather(c1, c2)"
   ]
  },
  {
   "cell_type": "code",
   "execution_count": 41,
   "metadata": {},
   "outputs": [
    {
     "name": "stdout",
     "output_type": "stream",
     "text": [
      ">>> STOP LISTENING: {'BTC/USDT': 2024-04-01 11:02:00    69654.21\n",
      "Name: BTC/USDT, dtype: float64}\n"
     ]
    }
   ],
   "source": [
    "ch.stop()"
   ]
  },
  {
   "cell_type": "code",
   "execution_count": 94,
   "metadata": {},
   "outputs": [],
   "source": [
    "# rn0.stop()\n",
    "# rn1.stop()"
   ]
  },
  {
   "cell_type": "code",
   "execution_count": 4,
   "metadata": {},
   "outputs": [],
   "source": [
    "def prefetch_ohlcs(exchange: Exchange, symbol: str, timeframe: str, nbarsback: int):\n",
    "    assert nbarsback > 1\n",
    "    start = ((pd.Timestamp('now', tz='UTC') - nbarsback * pd.Timedelta(timeframe)).asm8.item()//1000000) if nbarsback > 1 else None \n",
    "    ohlcv = exchange.fetch_ohlcv(symbol, timeframe, since=start, limit=nbarsback + 1)\n",
    "    return ohlcv\n",
    "\n",
    "async def listen_to_ohlcv(channel: CtrlChannel, exchange: Exchange, \n",
    "                          symbol: List[str], timeframe: str, nbarsback: int):\n",
    "    # - check if we need to load initial 'snapshot'\n",
    "    if nbarsback > 1:\n",
    "        ohlcv = await prefetch_ohlcs(exchange, symbol, timeframe, nbarsback)\n",
    "        for oh in ohlcv:\n",
    "            b = Bar(oh[0] * 1_000_000, oh[1], oh[2], oh[3], oh[4], oh[6], oh[7])\n",
    "            channel.queue.put((symbol, b))\n",
    "\n",
    "    while channel.control.is_set():\n",
    "        try:\n",
    "            ohlcv = await exchange.watch_ohlcv(symbol, timeframe)\n",
    "            for oh in ohlcv:\n",
    "                b = Bar(oh[0] * 1000000, oh[1], oh[2], oh[3], oh[4], oh[6], oh[7])\n",
    "                channel.queue.put((symbol, b))\n",
    "        except Exception as e:\n",
    "            print(type(e).__name__, str(e), flush=True)\n",
    "            await exchange.close()\n",
    "            raise e"
   ]
  },
  {
   "cell_type": "code",
   "execution_count": null,
   "metadata": {},
   "outputs": [],
   "source": []
  },
  {
   "cell_type": "code",
   "execution_count": 5,
   "metadata": {},
   "outputs": [],
   "source": [
    "symbs = ['1INCHUSDT', 'AGLDUSDT', 'APEUSDT', 'ARBUSDT', 'AUCTIONUSDT', 'BANDUSDT', 'BATUSDT', 'C98USDT', 'COMPUSDT', 'CYBERUSDT',\n",
    "        'DYDXUSDT', 'ENSUSDT', 'FXSUSDT', 'HFTUSDT', 'ICXUSDT', 'IOSTUSDT', 'IOTAUSDT', 'IOTXUSDT', 'LDOUSDT', 'LQTYUSDT', 'LTCUSDT',\n",
    "        'MASKUSDT', 'MBOXUSDT', 'MINAUSDT', 'MTLUSDT', 'OGNUSDT', 'OPUSDT', 'PEOPLEUSDT', 'POLSUSDT', 'PYRUSDT', 'QNTUSDT', 'RADUSDT',\n",
    "        'RDNTUSDT', 'RIFUSDT', 'RLCUSDT', 'SEIUSDT', 'SPELLUSDT', 'SSVUSDT', 'STGUSDT', 'STXUSDT', 'SUIUSDT', 'UMAUSDT', 'WAVESUSDT']"
   ]
  },
  {
   "cell_type": "code",
   "execution_count": 6,
   "metadata": {},
   "outputs": [
    {
     "name": "stdout",
     "output_type": "stream",
     "text": [
      "START LISTENING\n"
     ]
    }
   ],
   "source": [
    "# chan = CtrlChannel('ticks')\n",
    "# reader = RunThread(chan)\n",
    "# reader.add(receiver)\n",
    "# reader.start()"
   ]
  },
  {
   "cell_type": "code",
   "execution_count": 7,
   "metadata": {},
   "outputs": [],
   "source": [
    "# bu = cxp.binanceusdm()\n",
    "# bu = cxp.binance()\n",
    "# bu = BinanceQV()\n",
    "# bu = getattr(cxp, 'binanceqv')()\n",
    "# t1 = RunThread(chan)\n",
    "# for s in symbs:\n",
    "#     t1.add(listen_to_ohlcv, bu, s, '15m', 10)\n",
    "\n",
    "# t1.add(listen_to_ohlcv, bu, 'BTCUSDT', '5m', 10)\n",
    "# t1.add(listen_to_ohlcv, bu, 'ETHUSDT', '5m', 10)\n",
    "# t1.add(listen_to_ohlcv, bu, 'LTCUSDT', '5m', 10)\n",
    "# t1.add(listen_to_ohlcv, bu, 'SOLUSDT', '5m', 10)\n",
    "# t1.add(listen_to_trades, bu, ['BTCUSDT', 'ETHUSDT', 'SOLUSDT'])\n",
    "# t1.add(listen_to_orderbook, bu, ['BTCUSDT', 'ETHUSDT', 'SOLUSDT'])\n",
    "# t1.start()"
   ]
  },
  {
   "cell_type": "code",
   "execution_count": 10,
   "metadata": {},
   "outputs": [],
   "source": [
    "reader.stop()\n",
    "t1.stop()"
   ]
  },
  {
   "cell_type": "code",
   "execution_count": null,
   "metadata": {},
   "outputs": [],
   "source": [
    "print(len(reader.result[0]), len(symbs))\n",
    "reader.result[0]"
   ]
  },
  {
   "cell_type": "markdown",
   "metadata": {},
   "source": [
    "# StrategyCtx"
   ]
  },
  {
   "cell_type": "code",
   "execution_count": 43,
   "metadata": {},
   "outputs": [],
   "source": [
    "from qubx.core.basics import Instrument, Position, Signal\n",
    "from qubx.core.strategy import IStrategy, StrategyContext, TriggerEvent"
   ]
  },
  {
   "cell_type": "code",
   "execution_count": 44,
   "metadata": {},
   "outputs": [],
   "source": [
    "from qubx import logger\n",
    "\n",
    "class ZeroStrat(IStrategy):\n",
    "    param1: int = 0\n",
    "\n",
    "    def on_start(self, ctx: StrategyContext):\n",
    "        logger.info(f\"> Started with param1 = {self.param1}\")\n",
    "\n",
    "    def on_event(self, ctx: StrategyContext, event: TriggerEvent) -> Optional[List[Signal]]:\n",
    "        logger.info(f\"{event.time} -> {event}\")\n",
    "        xs = scols(*[ctx.ohlc(s, '1Min').pd()['close'].rename(s.symbol) for s in ctx.instruments])\n",
    "        print(xs)\n",
    "\n",
    "        return None\n",
    "\n",
    "    def on_stop(self, ctx: StrategyContext):\n",
    "        logger.info(f\"> stopped\")"
   ]
  },
  {
   "cell_type": "code",
   "execution_count": 45,
   "metadata": {},
   "outputs": [
    {
     "data": {
      "text/plain": [
       "numpy.datetime64('2024-04-01T11:05:39.743101000')"
      ]
     },
     "execution_count": 45,
     "metadata": {},
     "output_type": "execute_result"
    }
   ],
   "source": [
    "cc = CCXTConnector('binance')\n",
    "cc.time()"
   ]
  },
  {
   "cell_type": "code",
   "execution_count": 18,
   "metadata": {},
   "outputs": [],
   "source": [
    "# cc.get_historical_ohlcs('BTCUSDT', '1d', 20)"
   ]
  },
  {
   "cell_type": "code",
   "execution_count": 46,
   "metadata": {},
   "outputs": [
    {
     "name": "stdout",
     "output_type": "stream",
     "text": [
      "\u001b[32m2024-04-01 14:05:40.965\u001b[0m [ \u001b[1mℹ️\u001b[0m ] \u001b[1mSet param1 -> 1\u001b[0m\n"
     ]
    }
   ],
   "source": [
    "ctx = StrategyContext(\n",
    "    ZeroStrat(), dict(param1 = 1), cc, cc, \n",
    "    instruments=lookup.instruments[r'BINANCE:(BTC|ETH|LTC)USDT'],\n",
    "    capital=1000, fees_spec='vip0_usdt', base_currency='USDT',\n",
    "    md_subscription=dict(type='ohlc', timeframe='1Min', nback=10),\n",
    "    trigger=dict(type='bar', delay='-1s', timeframe='1Min')\n",
    ")"
   ]
  },
  {
   "cell_type": "code",
   "execution_count": 47,
   "metadata": {},
   "outputs": [
    {
     "name": "stdout",
     "output_type": "stream",
     "text": [
      "\u001b[32m2024-04-01 14:05:42.535\u001b[0m [ \u001b[1mℹ️\u001b[0m ] \u001b[1mSubscribing to ohlc updates using {'timeframe': '1Min', 'nback': 10} for \n",
      "\t['BTCUSDT', 'ETHUSDT', 'LTCUSDT'] \u001b[0m\n",
      "\u001b[32m2024-04-01 14:05:42.539\u001b[0m [ \u001b[1mℹ️\u001b[0m ] \u001b[1m> Started with param1 = 1\u001b[0m\n",
      "\u001b[32m2024-04-01 14:05:42.540\u001b[0m [ \u001b[1mℹ️\u001b[0m ] \u001b[1m> Data processor started\u001b[0m\n",
      "\u001b[32m2024-04-01 14:05:42.540\u001b[0m [ \u001b[1mℹ️\u001b[0m ] \u001b[1mStart processing market data\u001b[0m\n",
      "\u001b[32m2024-04-01 14:05:42.540\u001b[0m [ \u001b[1mℹ️\u001b[0m ] \u001b[1m> Market data subscribtions started\u001b[0m\n"
     ]
    }
   ],
   "source": [
    "ctx.start()"
   ]
  },
  {
   "cell_type": "code",
   "execution_count": 49,
   "metadata": {},
   "outputs": [
    {
     "name": "stdout",
     "output_type": "stream",
     "text": [
      "\u001b[32m2024-04-01 14:05:49.334\u001b[0m [ \u001b[1mℹ️\u001b[0m ] \u001b[1m> stopped\u001b[0m\n",
      "\u001b[32m2024-04-01 14:05:49.334\u001b[0m [ \u001b[1mℹ️\u001b[0m ] \u001b[1mMarket data processing finished\u001b[0m\n"
     ]
    }
   ],
   "source": [
    "ctx.stop()"
   ]
  },
  {
   "cell_type": "code",
   "execution_count": null,
   "metadata": {},
   "outputs": [],
   "source": [
    "ctx.ohlc('BTCUSDT', '1Min')"
   ]
  },
  {
   "cell_type": "code",
   "execution_count": 50,
   "metadata": {},
   "outputs": [
    {
     "ename": "AttributeError",
     "evalue": "'CCXTConnector' object has no attribute 'exch'",
     "output_type": "error",
     "traceback": [
      "\u001b[1;31m---------------------------------------------------------------------------\u001b[0m",
      "\u001b[1;31mAttributeError\u001b[0m                            Traceback (most recent call last)",
      "Cell \u001b[1;32mIn[50], line 1\u001b[0m\n\u001b[1;32m----> 1\u001b[0m \u001b[38;5;28;01mawait\u001b[39;00m \u001b[43mcc\u001b[49m\u001b[38;5;241;43m.\u001b[39;49m\u001b[43mexch\u001b[49m\u001b[38;5;241m.\u001b[39mclose()\n",
      "\u001b[1;31mAttributeError\u001b[0m: 'CCXTConnector' object has no attribute 'exch'"
     ]
    }
   ],
   "source": [
    "await cc.exch.close()"
   ]
  },
  {
   "cell_type": "code",
   "execution_count": null,
   "metadata": {},
   "outputs": [],
   "source": [
    "# cc.close()"
   ]
  },
  {
   "cell_type": "markdown",
   "metadata": {},
   "source": [
    "<hr/>"
   ]
  },
  {
   "cell_type": "markdown",
   "metadata": {},
   "source": [
    "# Asyncs"
   ]
  },
  {
   "cell_type": "code",
   "execution_count": null,
   "metadata": {},
   "outputs": [],
   "source": []
  }
 ],
 "metadata": {
  "kernelspec": {
   "display_name": "p311qbx",
   "language": "python",
   "name": "python3"
  },
  "language_info": {
   "codemirror_mode": {
    "name": "ipython",
    "version": 3
   },
   "file_extension": ".py",
   "mimetype": "text/x-python",
   "name": "python",
   "nbconvert_exporter": "python",
   "pygments_lexer": "ipython3",
   "version": "3.11.8"
  }
 },
 "nbformat": 4,
 "nbformat_minor": 2
}
