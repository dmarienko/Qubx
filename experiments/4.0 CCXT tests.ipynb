{
 "cells": [
  {
   "cell_type": "code",
   "execution_count": 260,
   "metadata": {},
   "outputs": [
    {
     "name": "stdout",
     "output_type": "stream",
     "text": [
      "The autoreload extension is already loaded. To reload it, use:\n",
      "  %reload_ext autoreload\n"
     ]
    }
   ],
   "source": [
    "import sys, os, re; sys.path = ([\"../src/\", \"../\"] if re.match(r'^(\\w\\:\\\\)|(/)', os.getcwd()) else [])+ sys.path \n",
    "\n",
    "import ccxt as cx\n",
    "from typing import Any, Optional, List\n",
    "import ccxt.pro as cxp\n",
    "from ccxt.base.decimal_to_precision import ROUND_UP\n",
    "import asyncio\n",
    "import nest_asyncio\n",
    "nest_asyncio.apply()\n",
    "\n",
    "from ccxt.base.exchange import Exchange\n",
    "from threading import Thread, Event, Lock\n",
    "from queue import Queue\n",
    "# from multiprocessing import Queue #as Queue\n",
    "\n",
    "import qubx\n",
    "%qubxd\n",
    "\n",
    "%load_ext autoreload\n",
    "%autoreload 2\n",
    "\n",
    "from qubx import lookup\n",
    "from qubx.core.series import TimeSeries, Bar, Trade, Quote\n",
    "from qubx.core.strategy import IStrategy, StrategyContext, TriggerEvent, TriggerType\n",
    "from qubx.core.basics import Instrument, Position, Signal, TransactionCostsCalculator, dt_64\n",
    "from qubx.impl.ccxt_connector import CCXTConnector, CtrlChannel, BinanceQV"
   ]
  },
  {
   "cell_type": "markdown",
   "metadata": {},
   "source": [
    "# Common"
   ]
  },
  {
   "cell_type": "code",
   "execution_count": null,
   "metadata": {},
   "outputs": [],
   "source": [
    "lookup.instruments['KRAKEN.F:BTC/USD']"
   ]
  },
  {
   "cell_type": "code",
   "execution_count": 34,
   "metadata": {},
   "outputs": [
    {
     "data": {
      "text/plain": [
       "Instrument(symbol='BTCUSDT', market_type='CRYPTO', exchange='BINANCE.UM', base='BTC', quote='USDT', margin_symbol='USDT', min_tick=0.1, min_size_step=0.001, min_size=0.001, futures_info=FuturesInfo(contract_type='PERPETUAL', delivery_date=datetime.datetime(2100, 12, 25, 10, 0), onboard_date=datetime.datetime(2019, 9, 25, 11, 0), contract_size=1.0, maint_margin=2.5, required_margin=5.0, liquidation_fee=0.0125), _aux_instrument=None)"
      ]
     },
     "execution_count": 34,
     "metadata": {},
     "output_type": "execute_result"
    }
   ],
   "source": [
    "instr = lookup.instruments.find('BINANCE.UM', 'BTC', 'USDT')\n",
    "instr"
   ]
  },
  {
   "cell_type": "code",
   "execution_count": 39,
   "metadata": {},
   "outputs": [
    {
     "data": {
      "text/plain": [
       "Instrument(symbol='ETH/BTC', market_type='spot', exchange='KRAKEN', base='ETH', quote='BTC', margin_symbol=None, min_tick=1e-05, min_size_step=1e-05, min_size=1e-08, futures_info=None, _aux_instrument=None)"
      ]
     },
     "execution_count": 39,
     "metadata": {},
     "output_type": "execute_result"
    }
   ],
   "source": [
    "instr = lookup.instruments.find('KRAKEN', 'BTC', 'ETH')\n",
    "instr"
   ]
  },
  {
   "cell_type": "code",
   "execution_count": 38,
   "metadata": {},
   "outputs": [
    {
     "data": {
      "text/plain": [
       "Instrument(symbol='BTC/USD', market_type='spot', exchange='KRAKEN', base='BTC', quote='USD', margin_symbol=None, min_tick=0.1, min_size_step=0.1, min_size=1e-08, futures_info=None, _aux_instrument=None)"
      ]
     },
     "execution_count": 38,
     "metadata": {},
     "output_type": "execute_result"
    }
   ],
   "source": [
    "lookup.find_aux_instrument_for(instr, 'USD')"
   ]
  },
  {
   "cell_type": "code",
   "execution_count": 46,
   "metadata": {},
   "outputs": [],
   "source": [
    "bu = cxp.binanceusdm()\n",
    "bs = cxp.binance()\n",
    "ks = cxp.kraken()\n",
    "kf = cxp.krakenfutures()"
   ]
  },
  {
   "cell_type": "markdown",
   "metadata": {},
   "source": [
    "# Get OHLC [TODO]"
   ]
  },
  {
   "cell_type": "code",
   "execution_count": 47,
   "metadata": {},
   "outputs": [],
   "source": [
    "bs_markets = await bs.load_markets()\n",
    "bu_markets = await bu.load_markets()\n",
    "kf_markets = await kf.load_markets()\n",
    "ks_markets = await ks.load_markets()"
   ]
  },
  {
   "cell_type": "code",
   "execution_count": 53,
   "metadata": {},
   "outputs": [
    {
     "data": {
      "text/plain": [
       "60"
      ]
     },
     "execution_count": 53,
     "metadata": {},
     "output_type": "execute_result"
    }
   ],
   "source": [
    "bu.parse_timeframe('1m')"
   ]
  },
  {
   "cell_type": "code",
   "execution_count": null,
   "metadata": {},
   "outputs": [],
   "source": [
    "interval = bu.parse_timeframe('1m') * 1000\n",
    "orderbook_max_levels_limit = 100\n",
    "since = bu.round_timeframe('1m', bu.milliseconds(), ROUND_UP) - orderbook_max_levels_limit * interval\n",
    "await bu.fetch_ohlcv('ETH/USDT', '1m', since=since, limit=orderbook_max_levels_limit)"
   ]
  },
  {
   "cell_type": "code",
   "execution_count": null,
   "metadata": {},
   "outputs": [],
   "source": [
    "# await bnc1.fetch_ohlcv('ETH/USDT', '1m', since=since, limit=limit)"
   ]
  },
  {
   "cell_type": "code",
   "execution_count": 57,
   "metadata": {},
   "outputs": [],
   "source": [
    "cxc = CCXT_connector('binance')"
   ]
  },
  {
   "cell_type": "markdown",
   "metadata": {},
   "source": []
  },
  {
   "cell_type": "markdown",
   "metadata": {},
   "source": [
    "# Listen to data"
   ]
  },
  {
   "cell_type": "code",
   "execution_count": 3,
   "metadata": {},
   "outputs": [],
   "source": [
    "class RunThread(Thread):\n",
    "    def __init__(self, channel: CtrlChannel):\n",
    "        self.result = None\n",
    "        self.ch = channel\n",
    "        self.loops = []\n",
    "        super().__init__()\n",
    "\n",
    "    def add(self, func, *args, **kwargs):\n",
    "        self.loops.append(func(self.ch, *args, **kwargs))\n",
    "\n",
    "    async def run_loop(self):\n",
    "        self.result = await asyncio.gather(*self.loops)\n",
    "\n",
    "    def run(self):\n",
    "        self.ch.control.set()\n",
    "        asyncio.run(self.run_loop())\n",
    "\n",
    "    def stop(self):\n",
    "        self.ch.control.clear()\n",
    "        self.ch.queue.put((None, None)) # send sentinel\n",
    "\n",
    "\n",
    "async def listen_to_trades(channel: CtrlChannel, exchange: Exchange, symbols: List[str]):\n",
    "    method = 'watchTrades'\n",
    "    if exchange.has[method]:\n",
    "        # lock = channel.lock\n",
    "        while channel.control.is_set():\n",
    "            try:\n",
    "                # c_time = exchange.iso8601(exchange.milliseconds())\n",
    "                trades = await exchange.watch_trades_for_symbols(symbols)\n",
    "                # lock.acquire()\n",
    "                for trade in trades:\n",
    "                    # trade = trades[-1]\n",
    "                    t_ns = trade['timestamp'] * 1_000_000 # this is trade time \n",
    "                    s = trade['symbol']\n",
    "                    info = trade['info']\n",
    "                    price = trade['price']\n",
    "                    m = info['m']\n",
    "                    amnt = trade['amount'] # in base currency\n",
    "                    tas = Trade(t_ns, price, amnt, int(not m), int(trade['id']))\n",
    "                    channel.queue.put((s, tas))\n",
    "                # lock.release()\n",
    "                # print(trade, flush=True)\n",
    "                # print(f\"\\t[{c_time}] {s} : {str(tas)}\", flush=True)\n",
    "            except Exception as e:\n",
    "                print(type(e).__name__, str(e), flush=True)\n",
    "                await exchange.close()\n",
    "                raise e\n",
    "    else:\n",
    "        raise Exception(exchange.id + ' ' + method + ' is not supported or not implemented yet')\n",
    "\n",
    "\n",
    "async def listen_to_orderbook(channel: CtrlChannel, exchange: Exchange, symbols: List[str], orderbook_max_levels_limit=5):\n",
    "    lock = channel.lock\n",
    "    while channel.control.is_set():\n",
    "        try:\n",
    "            orderbook = await exchange.watch_order_book_for_symbols(symbols, limit=orderbook_max_levels_limit)\n",
    "            # - check what this time is ?\n",
    "            t_ns = orderbook['timestamp'] * 1_000_000\n",
    "            s = orderbook['symbol']\n",
    "            b, a = orderbook['bids'], orderbook['asks']\n",
    "            q = Quote(t_ns, b[0][0], a[0][0], b[0][1], a[0][1])\n",
    "            # lock.acquire()\n",
    "            channel.queue.put((s, q))\n",
    "            # lock.release()\n",
    "            # c_time = exchange.iso8601(exchange.milliseconds())\n",
    "            # print(f\"[{c_time}] {s} : {str(q)}\", flush=True)\n",
    "        except Exception as e:\n",
    "            print(type(e).__name__, str(e), flush=True)\n",
    "            await exchange.close()\n",
    "            raise e\n",
    " \n",
    "\n",
    "async def receiver(channel: CtrlChannel):\n",
    "    sers = {}\n",
    "    print(\"START LISTENING\", flush=True)\n",
    "    T, Q = 0, 0\n",
    "    while channel.control.is_set():\n",
    "        s, data = channel.queue.get()\n",
    "        if isinstance(data, Quote):\n",
    "            if not (Q % 100):\n",
    "                print(s, data, flush=True)\n",
    "                Q = 0\n",
    "            Q += 1\n",
    "        if isinstance(data, Trade):\n",
    "            if s not in sers:\n",
    "                sers[s] = TimeSeries(s, '1Min')\n",
    "            ts = sers[s]\n",
    "            ts.update(data.time, data.price)\n",
    "            if not (T % 100):\n",
    "                print(s, data, flush=True)\n",
    "                T = 0\n",
    "            T += 1\n",
    "        if isinstance(data, Bar):\n",
    "            # print(f\"{s} {pd.Timestamp(data.time, unit='ns')}: {data}\", flush=True)\n",
    "            if s not in sers:\n",
    "                sers[s] = {}\n",
    "            sers[s][data.time] = data\n",
    "\n",
    "    print(f\"STOP LISTENING: {str(sers)}\", flush=True)\n",
    "    return sers "
   ]
  },
  {
   "cell_type": "code",
   "execution_count": 4,
   "metadata": {},
   "outputs": [],
   "source": [
    "def prefetch_ohlcs(exchange: Exchange, symbol: str, timeframe: str, nbarsback: int):\n",
    "    assert nbarsback > 1\n",
    "    start = ((pd.Timestamp('now', tz='UTC') - nbarsback * pd.Timedelta(timeframe)).asm8.item()//1000000) if nbarsback > 1 else None \n",
    "    ohlcv = exchange.fetch_ohlcv(symbol, timeframe, since=start, limit=nbarsback + 1)\n",
    "    return ohlcv\n",
    "\n",
    "async def listen_to_ohlcv(channel: CtrlChannel, exchange: Exchange, \n",
    "                          symbol: List[str], timeframe: str, nbarsback: int):\n",
    "    # - check if we need to load initial 'snapshot'\n",
    "    if nbarsback > 1:\n",
    "        ohlcv = await prefetch_ohlcs(exchange, symbol, timeframe, nbarsback)\n",
    "        for oh in ohlcv:\n",
    "            b = Bar(oh[0] * 1_000_000, oh[1], oh[2], oh[3], oh[4], oh[6], oh[7])\n",
    "            channel.queue.put((symbol, b))\n",
    "\n",
    "    while channel.control.is_set():\n",
    "        try:\n",
    "            ohlcv = await exchange.watch_ohlcv(symbol, timeframe)\n",
    "            for oh in ohlcv:\n",
    "                b = Bar(oh[0] * 1000000, oh[1], oh[2], oh[3], oh[4], oh[6], oh[7])\n",
    "                channel.queue.put((symbol, b))\n",
    "        except Exception as e:\n",
    "            print(type(e).__name__, str(e), flush=True)\n",
    "            await exchange.close()\n",
    "            raise e"
   ]
  },
  {
   "cell_type": "code",
   "execution_count": 5,
   "metadata": {},
   "outputs": [],
   "source": [
    "symbs = ['1INCHUSDT', 'AGLDUSDT', 'APEUSDT', 'ARBUSDT', 'AUCTIONUSDT', 'BANDUSDT', 'BATUSDT', 'C98USDT', 'COMPUSDT', 'CYBERUSDT',\n",
    "        'DYDXUSDT', 'ENSUSDT', 'FXSUSDT', 'HFTUSDT', 'ICXUSDT', 'IOSTUSDT', 'IOTAUSDT', 'IOTXUSDT', 'LDOUSDT', 'LQTYUSDT', 'LTCUSDT',\n",
    "        'MASKUSDT', 'MBOXUSDT', 'MINAUSDT', 'MTLUSDT', 'OGNUSDT', 'OPUSDT', 'PEOPLEUSDT', 'POLSUSDT', 'PYRUSDT', 'QNTUSDT', 'RADUSDT',\n",
    "        'RDNTUSDT', 'RIFUSDT', 'RLCUSDT', 'SEIUSDT', 'SPELLUSDT', 'SSVUSDT', 'STGUSDT', 'STXUSDT', 'SUIUSDT', 'UMAUSDT', 'WAVESUSDT']"
   ]
  },
  {
   "cell_type": "code",
   "execution_count": 6,
   "metadata": {},
   "outputs": [
    {
     "name": "stdout",
     "output_type": "stream",
     "text": [
      "START LISTENING\n"
     ]
    }
   ],
   "source": [
    "chan = CtrlChannel('ticks')\n",
    "reader = RunThread(chan)\n",
    "reader.add(receiver)\n",
    "reader.start()"
   ]
  },
  {
   "cell_type": "code",
   "execution_count": 7,
   "metadata": {},
   "outputs": [],
   "source": [
    "# bu = cxp.binanceusdm()\n",
    "# bu = cxp.binance()\n",
    "bu = BinanceQV()\n",
    "# bu = getattr(cxp, 'binanceqv')()\n",
    "t1 = RunThread(chan)\n",
    "for s in symbs:\n",
    "    t1.add(listen_to_ohlcv, bu, s, '15m', 10)\n",
    "\n",
    "# t1.add(listen_to_ohlcv, bu, 'BTCUSDT', '5m', 10)\n",
    "# t1.add(listen_to_ohlcv, bu, 'ETHUSDT', '5m', 10)\n",
    "# t1.add(listen_to_ohlcv, bu, 'LTCUSDT', '5m', 10)\n",
    "# t1.add(listen_to_ohlcv, bu, 'SOLUSDT', '5m', 10)\n",
    "# t1.add(listen_to_trades, bu, ['BTCUSDT', 'ETHUSDT', 'SOLUSDT'])\n",
    "# t1.add(listen_to_orderbook, bu, ['BTCUSDT', 'ETHUSDT', 'SOLUSDT'])\n",
    "t1.start()"
   ]
  },
  {
   "cell_type": "code",
   "execution_count": 10,
   "metadata": {},
   "outputs": [],
   "source": [
    "reader.stop()\n",
    "t1.stop()"
   ]
  },
  {
   "cell_type": "code",
   "execution_count": null,
   "metadata": {},
   "outputs": [],
   "source": [
    "print(len(reader.result[0]), len(symbs))\n",
    "reader.result[0]"
   ]
  },
  {
   "cell_type": "markdown",
   "metadata": {},
   "source": [
    "# StrategyCtx"
   ]
  },
  {
   "cell_type": "code",
   "execution_count": 268,
   "metadata": {},
   "outputs": [],
   "source": [
    "from qubx import logger\n",
    "\n",
    "class ZeroStrat(IStrategy):\n",
    "    param1: int = 0\n",
    "\n",
    "    def on_start(self, ctx: StrategyContext):\n",
    "        logger.info(f\"> Started with param1 = {self.param1}\")\n",
    "\n",
    "    def on_event(self, ctx: StrategyContext, event: TriggerEvent) -> Optional[List[Signal]]:\n",
    "        logger.info(f\"{event.time} -> {event}\")\n",
    "        return None"
   ]
  },
  {
   "cell_type": "code",
   "execution_count": 269,
   "metadata": {},
   "outputs": [
    {
     "data": {
      "text/plain": [
       "numpy.datetime64('2024-03-28T08:55:57.822750000')"
      ]
     },
     "execution_count": 269,
     "metadata": {},
     "output_type": "execute_result"
    }
   ],
   "source": [
    "cc = CCXTConnector('binance')\n",
    "cc.time()"
   ]
  },
  {
   "cell_type": "code",
   "execution_count": null,
   "metadata": {},
   "outputs": [],
   "source": [
    "# cc.get_historical_ohlcs('BTCUSDT', '1d', 20)"
   ]
  },
  {
   "cell_type": "code",
   "execution_count": 277,
   "metadata": {},
   "outputs": [
    {
     "name": "stdout",
     "output_type": "stream",
     "text": [
      "\u001b[32m2024-03-28 11:09:51.397\u001b[0m [ \u001b[1mℹ️\u001b[0m ] \u001b[1mSet param1 -> 1\u001b[0m\n"
     ]
    },
    {
     "ename": "ValueError",
     "evalue": "Configuration {'type': 'bar', 'timeframe': '1h'} must contain field 'delay'",
     "output_type": "error",
     "traceback": [
      "\u001b[1;31m---------------------------------------------------------------------------\u001b[0m",
      "\u001b[1;31mValueError\u001b[0m                                Traceback (most recent call last)",
      "Cell \u001b[1;32mIn[277], line 1\u001b[0m\n\u001b[1;32m----> 1\u001b[0m ctx \u001b[38;5;241m=\u001b[39m \u001b[43mStrategyContext\u001b[49m\u001b[43m(\u001b[49m\n\u001b[0;32m      2\u001b[0m \u001b[43m    \u001b[49m\u001b[43mZeroStrat\u001b[49m\u001b[43m(\u001b[49m\u001b[43m)\u001b[49m\u001b[43m,\u001b[49m\u001b[43m \u001b[49m\u001b[38;5;28;43mdict\u001b[39;49m\u001b[43m(\u001b[49m\u001b[43mparam1\u001b[49m\u001b[43m \u001b[49m\u001b[38;5;241;43m=\u001b[39;49m\u001b[43m \u001b[49m\u001b[38;5;241;43m1\u001b[39;49m\u001b[43m)\u001b[49m\u001b[43m,\u001b[49m\u001b[43m \u001b[49m\u001b[43mcc\u001b[49m\u001b[43m,\u001b[49m\u001b[43m \u001b[49m\u001b[43mcc\u001b[49m\u001b[43m,\u001b[49m\u001b[43m \u001b[49m\n\u001b[0;32m      3\u001b[0m \u001b[43m    \u001b[49m\u001b[43minstruments\u001b[49m\u001b[38;5;241;43m=\u001b[39;49m\u001b[43mlookup\u001b[49m\u001b[38;5;241;43m.\u001b[39;49m\u001b[43minstruments\u001b[49m\u001b[43m[\u001b[49m\u001b[38;5;124;43mr\u001b[39;49m\u001b[38;5;124;43m'\u001b[39;49m\u001b[38;5;124;43mBINANCE:(BTC|ETH|LTC)USDT\u001b[39;49m\u001b[38;5;124;43m'\u001b[39;49m\u001b[43m]\u001b[49m\u001b[43m,\u001b[49m\n\u001b[0;32m      4\u001b[0m \u001b[43m    \u001b[49m\u001b[43mmd_subscription\u001b[49m\u001b[38;5;241;43m=\u001b[39;49m\u001b[38;5;28;43mdict\u001b[39;49m\u001b[43m(\u001b[49m\u001b[38;5;28;43mtype\u001b[39;49m\u001b[38;5;241;43m=\u001b[39;49m\u001b[38;5;124;43m'\u001b[39;49m\u001b[38;5;124;43mohlc\u001b[39;49m\u001b[38;5;124;43m'\u001b[39;49m\u001b[43m,\u001b[49m\u001b[43m \u001b[49m\u001b[43mtimeframe\u001b[49m\u001b[38;5;241;43m=\u001b[39;49m\u001b[38;5;124;43m'\u001b[39;49m\u001b[38;5;124;43m1Min\u001b[39;49m\u001b[38;5;124;43m'\u001b[39;49m\u001b[43m,\u001b[49m\u001b[43m \u001b[49m\u001b[43mnback\u001b[49m\u001b[38;5;241;43m=\u001b[39;49m\u001b[38;5;241;43m10\u001b[39;49m\u001b[43m)\u001b[49m\u001b[43m,\u001b[49m\n\u001b[0;32m      5\u001b[0m \u001b[43m    \u001b[49m\u001b[43mfees_spec\u001b[49m\u001b[38;5;241;43m=\u001b[39;49m\u001b[38;5;124;43m'\u001b[39;49m\u001b[38;5;124;43mvip0_usdt\u001b[39;49m\u001b[38;5;124;43m'\u001b[39;49m\u001b[43m,\u001b[49m\u001b[43m \u001b[49m\u001b[43mbase_currency\u001b[49m\u001b[38;5;241;43m=\u001b[39;49m\u001b[38;5;124;43m'\u001b[39;49m\u001b[38;5;124;43mUSDT\u001b[39;49m\u001b[38;5;124;43m'\u001b[39;49m\u001b[43m,\u001b[49m\n\u001b[0;32m      6\u001b[0m \u001b[43m    \u001b[49m\u001b[38;5;66;43;03m# trigger=dict(type='bar', delay='-1s', timeframe='1h')\u001b[39;49;00m\n\u001b[0;32m      7\u001b[0m \u001b[43m    \u001b[49m\u001b[43mtrigger\u001b[49m\u001b[38;5;241;43m=\u001b[39;49m\u001b[38;5;28;43mdict\u001b[39;49m\u001b[43m(\u001b[49m\u001b[38;5;28;43mtype\u001b[39;49m\u001b[38;5;241;43m=\u001b[39;49m\u001b[38;5;124;43m'\u001b[39;49m\u001b[38;5;124;43mbar\u001b[39;49m\u001b[38;5;124;43m'\u001b[39;49m\u001b[43m,\u001b[49m\u001b[43m  \u001b[49m\u001b[43mtimeframe\u001b[49m\u001b[38;5;241;43m=\u001b[39;49m\u001b[38;5;124;43m'\u001b[39;49m\u001b[38;5;124;43m1h\u001b[39;49m\u001b[38;5;124;43m'\u001b[39;49m\u001b[43m)\u001b[49m\n\u001b[0;32m      8\u001b[0m \n\u001b[0;32m      9\u001b[0m \u001b[43m)\u001b[49m\n",
      "File \u001b[1;32mc:\\Users\\dmitr\\devs\\Qubx\\experiments\\../src\\qubx\\core\\strategy.py:179\u001b[0m, in \u001b[0;36mStrategyContext.__init__\u001b[1;34m(self, strategy, config, data_provider, exchange_service, instruments, fees_spec, base_currency, trigger, md_subscription)\u001b[0m\n\u001b[0;32m    176\u001b[0m \u001b[38;5;28mself\u001b[39m\u001b[38;5;241m.\u001b[39mfees_spec \u001b[38;5;241m=\u001b[39m fees_spec\n\u001b[0;32m    178\u001b[0m \u001b[38;5;66;03m# - process trigger configuration\u001b[39;00m\n\u001b[1;32m--> 179\u001b[0m \u001b[38;5;28;43mself\u001b[39;49m\u001b[38;5;241;43m.\u001b[39;49m\u001b[43m_check_how_to_trigger_strategy\u001b[49m\u001b[43m(\u001b[49m\u001b[43mtrigger\u001b[49m\u001b[43m)\u001b[49m\n\u001b[0;32m    181\u001b[0m \u001b[38;5;66;03m# - process market data configuration\u001b[39;00m\n\u001b[0;32m    182\u001b[0m \u001b[38;5;28mself\u001b[39m\u001b[38;5;241m.\u001b[39m_check_how_to_listen_to_market_data(md_subscription)\n",
      "File \u001b[1;32mc:\\Users\\dmitr\\devs\\Qubx\\experiments\\../src\\qubx\\core\\strategy.py:211\u001b[0m, in \u001b[0;36mStrategyContext._check_how_to_trigger_strategy\u001b[1;34m(self, trigger_config)\u001b[0m\n\u001b[0;32m    209\u001b[0m \u001b[38;5;28;01mcase\u001b[39;00m \u001b[38;5;124m'\u001b[39m\u001b[38;5;124mbar\u001b[39m\u001b[38;5;124m'\u001b[39m: \n\u001b[0;32m    210\u001b[0m     _bar_timeframe \u001b[38;5;241m=\u001b[39m pd\u001b[38;5;241m.\u001b[39mTimedelta(_dict_with_exc(trigger_config, \u001b[38;5;124m'\u001b[39m\u001b[38;5;124mtimeframe\u001b[39m\u001b[38;5;124m'\u001b[39m))\n\u001b[1;32m--> 211\u001b[0m     _inside_bar_delay \u001b[38;5;241m=\u001b[39m pd\u001b[38;5;241m.\u001b[39mTimedelta(\u001b[43m_dict_with_exc\u001b[49m\u001b[43m(\u001b[49m\u001b[43mtrigger_config\u001b[49m\u001b[43m,\u001b[49m\u001b[43m \u001b[49m\u001b[38;5;124;43m'\u001b[39;49m\u001b[38;5;124;43mdelay\u001b[39;49m\u001b[38;5;124;43m'\u001b[39;49m\u001b[43m)\u001b[49m)\n\u001b[0;32m    213\u001b[0m     \u001b[38;5;28;01mif\u001b[39;00m \u001b[38;5;28mabs\u001b[39m(pd\u001b[38;5;241m.\u001b[39mTimedelta(_inside_bar_delay)) \u001b[38;5;241m>\u001b[39m pd\u001b[38;5;241m.\u001b[39mTimedelta(_bar_timeframe):\n\u001b[0;32m    214\u001b[0m         \u001b[38;5;28;01mraise\u001b[39;00m \u001b[38;5;167;01mValueError\u001b[39;00m(\u001b[38;5;124mf\u001b[39m\u001b[38;5;124m\"\u001b[39m\u001b[38;5;124mDelay must be less or equal to bar\u001b[39m\u001b[38;5;124m'\u001b[39m\u001b[38;5;124ms timeframe for \u001b[39m\u001b[38;5;132;01m{\u001b[39;00m\u001b[38;5;28mself\u001b[39m\u001b[38;5;241m.\u001b[39m_trigger\u001b[38;5;132;01m}\u001b[39;00m\u001b[38;5;124m trigger: you set delay \u001b[39m\u001b[38;5;132;01m{\u001b[39;00m_inside_bar_delay\u001b[38;5;132;01m}\u001b[39;00m\u001b[38;5;124m for \u001b[39m\u001b[38;5;132;01m{\u001b[39;00m_bar_timeframe\u001b[38;5;132;01m}\u001b[39;00m\u001b[38;5;124m\"\u001b[39m)\n",
      "File \u001b[1;32mc:\\Users\\dmitr\\devs\\Qubx\\experiments\\../src\\qubx\\core\\strategy.py:119\u001b[0m, in \u001b[0;36m_dict_with_exc\u001b[1;34m(dct, f)\u001b[0m\n\u001b[0;32m    117\u001b[0m \u001b[38;5;28;01mdef\u001b[39;00m \u001b[38;5;21m_dict_with_exc\u001b[39m(dct, f):\n\u001b[0;32m    118\u001b[0m     \u001b[38;5;28;01mif\u001b[39;00m f \u001b[38;5;129;01mnot\u001b[39;00m \u001b[38;5;129;01min\u001b[39;00m dct:\n\u001b[1;32m--> 119\u001b[0m         \u001b[38;5;28;01mraise\u001b[39;00m \u001b[38;5;167;01mValueError\u001b[39;00m(\u001b[38;5;124mf\u001b[39m\u001b[38;5;124m\"\u001b[39m\u001b[38;5;124mConfiguration \u001b[39m\u001b[38;5;132;01m{\u001b[39;00mdct\u001b[38;5;132;01m}\u001b[39;00m\u001b[38;5;124m must contain field \u001b[39m\u001b[38;5;124m'\u001b[39m\u001b[38;5;132;01m{\u001b[39;00mf\u001b[38;5;132;01m}\u001b[39;00m\u001b[38;5;124m'\u001b[39m\u001b[38;5;124m\"\u001b[39m)\n\u001b[0;32m    120\u001b[0m     \u001b[38;5;28;01mreturn\u001b[39;00m dct[f]\n",
      "\u001b[1;31mValueError\u001b[0m: Configuration {'type': 'bar', 'timeframe': '1h'} must contain field 'delay'"
     ]
    }
   ],
   "source": [
    "ctx = StrategyContext(\n",
    "    ZeroStrat(), dict(param1 = 1), cc, cc, \n",
    "    instruments=lookup.instruments[r'BINANCE:(BTC|ETH|LTC)USDT'],\n",
    "    md_subscription=dict(type='ohlc', timeframe='1Min', nback=10),\n",
    "    fees_spec='vip0_usdt', base_currency='USDT',\n",
    "    trigger=dict(type='bar', delay='-1s', timeframe='1Min')\n",
    "\n",
    ")"
   ]
  },
  {
   "cell_type": "code",
   "execution_count": null,
   "metadata": {},
   "outputs": [
    {
     "name": "stdout",
     "output_type": "stream",
     "text": [
      "\u001b[32m2024-03-28 10:56:06.804\u001b[0m [ \u001b[1mℹ️\u001b[0m ] \u001b[1mSubscribing to ohlc updates using {'timeframe': '1Min', 'nback': 10} for \n",
      "\t['BTCUSDT', 'ETHUSDT', 'LTCUSDT'] \u001b[0m\n",
      "\u001b[32m2024-03-28 10:56:06.805\u001b[0m [ \u001b[1mℹ️\u001b[0m ] \u001b[1m> Started with param1 = 1\u001b[0m\n",
      "\u001b[32m2024-03-28 10:56:06.807\u001b[0m [ \u001b[1mℹ️\u001b[0m ] \u001b[1mMarket data processor started\u001b[0m\n",
      "\u001b[32m2024-03-28 10:56:06.808\u001b[0m [ \u001b[1mℹ️\u001b[0m ] \u001b[1mStart listening to market data\u001b[0m\n",
      "\u001b[32m2024-03-28 10:56:06.810\u001b[0m [ \u001b[1mℹ️\u001b[0m ] \u001b[1mMarket data ubscribers started\u001b[0m\n"
     ]
    },
    {
     "name": "stdout",
     "output_type": "stream",
     "text": [
      "\u001b[32m2024-03-28 10:56:09.266\u001b[0m [ \u001b[1mℹ️\u001b[0m ] \u001b[1m2024-03-28T08:56:09.265608000 -> TriggerEvent(time=numpy.datetime64('2024-03-28T08:56:09.265608000'), type='bar', instrument='BTCUSDT', data={1711615620000000000: {o:70810.000000 | h:70864.390000 | l:70809.990000 | c:70810.000000 | v:2539027.830099}})\u001b[0m\n",
      "\u001b[32m2024-03-28 10:56:09.268\u001b[0m [ \u001b[1mℹ️\u001b[0m ] \u001b[1m2024-03-28T08:56:09.267628000 -> TriggerEvent(time=numpy.datetime64('2024-03-28T08:56:09.267628000'), type='bar', instrument='BTCUSDT', data={1711615620000000000: {o:70810.000000 | h:70864.390000 | l:70809.990000 | c:70810.000000 | v:2539027.830099}, 1711615680000000000: {o:70810.000000 | h:70850.000000 | l:70807.500000 | c:70814.220000 | v:2404109.016316}})\u001b[0m\n",
      "\u001b[32m2024-03-28 10:56:09.269\u001b[0m [ \u001b[1mℹ️\u001b[0m ] \u001b[1m2024-03-28T08:56:09.269667000 -> TriggerEvent(time=numpy.datetime64('2024-03-28T08:56:09.269667000'), type='bar', instrument='BTCUSDT', data={1711615620000000000: {o:70810.000000 | h:70864.390000 | l:70809.990000 | c:70810.000000 | v:2539027.830099}, 1711615680000000000: {o:70810.000000 | h:70850.000000 | l:70807.500000 | c:70814.220000 | v:2404109.016316}, 1711615740000000000: {o:70814.220000 | h:70814.220000 | l:70741.100000 | c:70790.000000 | v:2535787.349629}})\u001b[0m\n",
      "\u001b[32m2024-03-28 10:56:09.271\u001b[0m [ \u001b[1mℹ️\u001b[0m ] \u001b[1m2024-03-28T08:56:09.271581000 -> TriggerEvent(time=numpy.datetime64('2024-03-28T08:56:09.271581000'), type='bar', instrument='BTCUSDT', data={1711615620000000000: {o:70810.000000 | h:70864.390000 | l:70809.990000 | c:70810.000000 | v:2539027.830099}, 1711615680000000000: {o:70810.000000 | h:70850.000000 | l:70807.500000 | c:70814.220000 | v:2404109.016316}, 1711615740000000000: {o:70814.220000 | h:70814.220000 | l:70741.100000 | c:70790.000000 | v:2535787.349629}, 1711615800000000000: {o:70790.000000 | h:70865.580000 | l:70746.150000 | c:70836.000000 | v:7391045.581968}})\u001b[0m\n",
      "\u001b[32m2024-03-28 10:56:09.273\u001b[0m [ \u001b[1mℹ️\u001b[0m ] \u001b[1m2024-03-28T08:56:09.273574000 -> TriggerEvent(time=numpy.datetime64('2024-03-28T08:56:09.273574000'), type='bar', instrument='BTCUSDT', data={1711615620000000000: {o:70810.000000 | h:70864.390000 | l:70809.990000 | c:70810.000000 | v:2539027.830099}, 1711615680000000000: {o:70810.000000 | h:70850.000000 | l:70807.500000 | c:70814.220000 | v:2404109.016316}, 1711615740000000000: {o:70814.220000 | h:70814.220000 | l:70741.100000 | c:70790.000000 | v:2535787.349629}, 1711615800000000000: {o:70790.000000 | h:70865.580000 | l:70746.150000 | c:70836.000000 | v:7391045.581968}, 1711615860000000000: {o:70835.990000 | h:70836.000000 | l:70634.000000 | c:70648.040000 | v:3138778.191885}})\u001b[0m\n",
      "\u001b[32m2024-03-28 10:56:09.274\u001b[0m [ \u001b[1mℹ️\u001b[0m ] \u001b[1m2024-03-28T08:56:09.274570000 -> TriggerEvent(time=numpy.datetime64('2024-03-28T08:56:09.274570000'), type='bar', instrument='BTCUSDT', data={1711615620000000000: {o:70810.000000 | h:70864.390000 | l:70809.990000 | c:70810.000000 | v:2539027.830099}, 1711615680000000000: {o:70810.000000 | h:70850.000000 | l:70807.500000 | c:70814.220000 | v:2404109.016316}, 1711615740000000000: {o:70814.220000 | h:70814.220000 | l:70741.100000 | c:70790.000000 | v:2535787.349629}, 1711615800000000000: {o:70790.000000 | h:70865.580000 | l:70746.150000 | c:70836.000000 | v:7391045.581968}, 1711615860000000000: {o:70835.990000 | h:70836.000000 | l:70634.000000 | c:70648.040000 | v:3138778.191885}, 1711615920000000000: {o:70648.050000 | h:70663.510000 | l:70584.530000 | c:70663.500000 | v:3157542.295841}})\u001b[0m\n",
      "\u001b[32m2024-03-28 10:56:09.275\u001b[0m [ \u001b[1mℹ️\u001b[0m ] \u001b[1m2024-03-28T08:56:09.275568000 -> TriggerEvent(time=numpy.datetime64('2024-03-28T08:56:09.275568000'), type='bar', instrument='BTCUSDT', data={1711615620000000000: {o:70810.000000 | h:70864.390000 | l:70809.990000 | c:70810.000000 | v:2539027.830099}, 1711615680000000000: {o:70810.000000 | h:70850.000000 | l:70807.500000 | c:70814.220000 | v:2404109.016316}, 1711615740000000000: {o:70814.220000 | h:70814.220000 | l:70741.100000 | c:70790.000000 | v:2535787.349629}, 1711615800000000000: {o:70790.000000 | h:70865.580000 | l:70746.150000 | c:70836.000000 | v:7391045.581968}, 1711615860000000000: {o:70835.990000 | h:70836.000000 | l:70634.000000 | c:70648.040000 | v:3138778.191885}, 1711615920000000000: {o:70648.050000 | h:70663.510000 | l:70584.530000 | c:70663.500000 | v:3157542.295841}, 1711615980000000000: {o:70663.500000 | h:70663.510000 | l:70611.700000 | c:70629.520000 | v:931977.102954}})\u001b[0m\n",
      "\u001b[32m2024-03-28 10:56:09.275\u001b[0m [ \u001b[1mℹ️\u001b[0m ] \u001b[1m2024-03-28T08:56:09.275568000 -> TriggerEvent(time=numpy.datetime64('2024-03-28T08:56:09.275568000'), type='bar', instrument='BTCUSDT', data={1711615620000000000: {o:70810.000000 | h:70864.390000 | l:70809.990000 | c:70810.000000 | v:2539027.830099}, 1711615680000000000: {o:70810.000000 | h:70850.000000 | l:70807.500000 | c:70814.220000 | v:2404109.016316}, 1711615740000000000: {o:70814.220000 | h:70814.220000 | l:70741.100000 | c:70790.000000 | v:2535787.349629}, 1711615800000000000: {o:70790.000000 | h:70865.580000 | l:70746.150000 | c:70836.000000 | v:7391045.581968}, 1711615860000000000: {o:70835.990000 | h:70836.000000 | l:70634.000000 | c:70648.040000 | v:3138778.191885}, 1711615920000000000: {o:70648.050000 | h:70663.510000 | l:70584.530000 | c:70663.500000 | v:3157542.295841}, 1711615980000000000: {o:70663.500000 | h:70663.510000 | l:70611.700000 | c:70629.520000 | v:931977.102954}, 1711616040000000000: {o:70629.530000 | h:70639.990000 | l:70629.520000 | c:70630.010000 | v:402995.810201}})\u001b[0m\n",
      "\u001b[32m2024-03-28 10:56:09.276\u001b[0m [ \u001b[1mℹ️\u001b[0m ] \u001b[1m2024-03-28T08:56:09.276564000 -> TriggerEvent(time=numpy.datetime64('2024-03-28T08:56:09.276564000'), type='bar', instrument='BTCUSDT', data={1711615620000000000: {o:70810.000000 | h:70864.390000 | l:70809.990000 | c:70810.000000 | v:2539027.830099}, 1711615680000000000: {o:70810.000000 | h:70850.000000 | l:70807.500000 | c:70814.220000 | v:2404109.016316}, 1711615740000000000: {o:70814.220000 | h:70814.220000 | l:70741.100000 | c:70790.000000 | v:2535787.349629}, 1711615800000000000: {o:70790.000000 | h:70865.580000 | l:70746.150000 | c:70836.000000 | v:7391045.581968}, 1711615860000000000: {o:70835.990000 | h:70836.000000 | l:70634.000000 | c:70648.040000 | v:3138778.191885}, 1711615920000000000: {o:70648.050000 | h:70663.510000 | l:70584.530000 | c:70663.500000 | v:3157542.295841}, 1711615980000000000: {o:70663.500000 | h:70663.510000 | l:70611.700000 | c:70629.520000 | v:931977.102954}, 1711616040000000000: {o:70629.530000 | h:70639.990000 | l:70629.520000 | c:70630.010000 | v:402995.810201}, 1711616100000000000: {o:70630.010000 | h:70694.200000 | l:70598.920000 | c:70664.000000 | v:1358746.157866}})\u001b[0m\n",
      "\u001b[32m2024-03-28 10:56:09.276\u001b[0m [ \u001b[1mℹ️\u001b[0m ] \u001b[1m2024-03-28T08:56:09.276564000 -> TriggerEvent(time=numpy.datetime64('2024-03-28T08:56:09.276564000'), type='bar', instrument='BTCUSDT', data={1711615620000000000: {o:70810.000000 | h:70864.390000 | l:70809.990000 | c:70810.000000 | v:2539027.830099}, 1711615680000000000: {o:70810.000000 | h:70850.000000 | l:70807.500000 | c:70814.220000 | v:2404109.016316}, 1711615740000000000: {o:70814.220000 | h:70814.220000 | l:70741.100000 | c:70790.000000 | v:2535787.349629}, 1711615800000000000: {o:70790.000000 | h:70865.580000 | l:70746.150000 | c:70836.000000 | v:7391045.581968}, 1711615860000000000: {o:70835.990000 | h:70836.000000 | l:70634.000000 | c:70648.040000 | v:3138778.191885}, 1711615920000000000: {o:70648.050000 | h:70663.510000 | l:70584.530000 | c:70663.500000 | v:3157542.295841}, 1711615980000000000: {o:70663.500000 | h:70663.510000 | l:70611.700000 | c:70629.520000 | v:931977.102954}, 1711616040000000000: {o:70629.530000 | h:70639.990000 | l:70629.520000 | c:70630.010000 | v:402995.810201}, 1711616100000000000: {o:70630.010000 | h:70694.200000 | l:70598.920000 | c:70664.000000 | v:1358746.157866}, 1711616160000000000: {o:70664.010000 | h:70675.750000 | l:70662.210000 | c:70662.210000 | v:264368.743661}})\u001b[0m\n",
      "\u001b[32m2024-03-28 10:56:09.408\u001b[0m [ \u001b[1mℹ️\u001b[0m ] \u001b[1m2024-03-28T08:56:09.408805000 -> TriggerEvent(time=numpy.datetime64('2024-03-28T08:56:09.408805000'), type='bar', instrument='ETHUSDT', data={1711615620000000000: {o:3580.210000 | h:3584.600000 | l:3580.200000 | c:3581.230000 | v:973020.205598}})\u001b[0m\n",
      "\u001b[32m2024-03-28 10:56:09.410\u001b[0m [ \u001b[1mℹ️\u001b[0m ] \u001b[1m2024-03-28T08:56:09.410809000 -> TriggerEvent(time=numpy.datetime64('2024-03-28T08:56:09.410809000'), type='bar', instrument='ETHUSDT', data={1711615620000000000: {o:3580.210000 | h:3584.600000 | l:3580.200000 | c:3581.230000 | v:973020.205598}, 1711615680000000000: {o:3581.230000 | h:3584.410000 | l:3581.230000 | c:3583.200000 | v:673591.924792}})\u001b[0m\n",
      "\u001b[32m2024-03-28 10:56:09.410\u001b[0m [ \u001b[1mℹ️\u001b[0m ] \u001b[1m2024-03-28T08:56:09.410809000 -> TriggerEvent(time=numpy.datetime64('2024-03-28T08:56:09.410809000'), type='bar', instrument='ETHUSDT', data={1711615620000000000: {o:3580.210000 | h:3584.600000 | l:3580.200000 | c:3581.230000 | v:973020.205598}, 1711615680000000000: {o:3581.230000 | h:3584.410000 | l:3581.230000 | c:3583.200000 | v:673591.924792}, 1711615740000000000: {o:3583.210000 | h:3583.210000 | l:3579.670000 | c:3581.740000 | v:410396.930359}})\u001b[0m\n",
      "\u001b[32m2024-03-28 10:56:09.411\u001b[0m [ \u001b[1mℹ️\u001b[0m ] \u001b[1m2024-03-28T08:56:09.411785000 -> TriggerEvent(time=numpy.datetime64('2024-03-28T08:56:09.411785000'), type='bar', instrument='ETHUSDT', data={1711615620000000000: {o:3580.210000 | h:3584.600000 | l:3580.200000 | c:3581.230000 | v:973020.205598}, 1711615680000000000: {o:3581.230000 | h:3584.410000 | l:3581.230000 | c:3583.200000 | v:673591.924792}, 1711615740000000000: {o:3583.210000 | h:3583.210000 | l:3579.670000 | c:3581.740000 | v:410396.930359}, 1711615800000000000: {o:3581.740000 | h:3595.700000 | l:3580.600000 | c:3592.410000 | v:14607081.078434}})\u001b[0m\n",
      "\u001b[32m2024-03-28 10:56:09.411\u001b[0m [ \u001b[1mℹ️\u001b[0m ] \u001b[1m2024-03-28T08:56:09.411785000 -> TriggerEvent(time=numpy.datetime64('2024-03-28T08:56:09.411785000'), type='bar', instrument='ETHUSDT', data={1711615620000000000: {o:3580.210000 | h:3584.600000 | l:3580.200000 | c:3581.230000 | v:973020.205598}, 1711615680000000000: {o:3581.230000 | h:3584.410000 | l:3581.230000 | c:3583.200000 | v:673591.924792}, 1711615740000000000: {o:3583.210000 | h:3583.210000 | l:3579.670000 | c:3581.740000 | v:410396.930359}, 1711615800000000000: {o:3581.740000 | h:3595.700000 | l:3580.600000 | c:3592.410000 | v:14607081.078434}, 1711615860000000000: {o:3592.400000 | h:3593.510000 | l:3581.680000 | c:3583.900000 | v:2715234.708195}})\u001b[0m\n",
      "\u001b[32m2024-03-28 10:56:09.412\u001b[0m [ \u001b[1mℹ️\u001b[0m ] \u001b[1m2024-03-28T08:56:09.412780000 -> TriggerEvent(time=numpy.datetime64('2024-03-28T08:56:09.412780000'), type='bar', instrument='ETHUSDT', data={1711615620000000000: {o:3580.210000 | h:3584.600000 | l:3580.200000 | c:3581.230000 | v:973020.205598}, 1711615680000000000: {o:3581.230000 | h:3584.410000 | l:3581.230000 | c:3583.200000 | v:673591.924792}, 1711615740000000000: {o:3583.210000 | h:3583.210000 | l:3579.670000 | c:3581.740000 | v:410396.930359}, 1711615800000000000: {o:3581.740000 | h:3595.700000 | l:3580.600000 | c:3592.410000 | v:14607081.078434}, 1711615860000000000: {o:3592.400000 | h:3593.510000 | l:3581.680000 | c:3583.900000 | v:2715234.708195}, 1711615920000000000: {o:3583.890000 | h:3584.600000 | l:3580.210000 | c:3582.010000 | v:885567.258789}})\u001b[0m\n",
      "\u001b[32m2024-03-28 10:56:09.412\u001b[0m [ \u001b[1mℹ️\u001b[0m ] \u001b[1m2024-03-28T08:56:09.412780000 -> TriggerEvent(time=numpy.datetime64('2024-03-28T08:56:09.412780000'), type='bar', instrument='ETHUSDT', data={1711615620000000000: {o:3580.210000 | h:3584.600000 | l:3580.200000 | c:3581.230000 | v:973020.205598}, 1711615680000000000: {o:3581.230000 | h:3584.410000 | l:3581.230000 | c:3583.200000 | v:673591.924792}, 1711615740000000000: {o:3583.210000 | h:3583.210000 | l:3579.670000 | c:3581.740000 | v:410396.930359}, 1711615800000000000: {o:3581.740000 | h:3595.700000 | l:3580.600000 | c:3592.410000 | v:14607081.078434}, 1711615860000000000: {o:3592.400000 | h:3593.510000 | l:3581.680000 | c:3583.900000 | v:2715234.708195}, 1711615920000000000: {o:3583.890000 | h:3584.600000 | l:3580.210000 | c:3582.010000 | v:885567.258789}, 1711615980000000000: {o:3582.000000 | h:3582.010000 | l:3577.650000 | c:3577.650000 | v:4246624.556799}})\u001b[0m\n",
      "\u001b[32m2024-03-28 10:56:09.413\u001b[0m [ \u001b[1mℹ️\u001b[0m ] \u001b[1m2024-03-28T08:56:09.413777000 -> TriggerEvent(time=numpy.datetime64('2024-03-28T08:56:09.413777000'), type='bar', instrument='ETHUSDT', data={1711615620000000000: {o:3580.210000 | h:3584.600000 | l:3580.200000 | c:3581.230000 | v:973020.205598}, 1711615680000000000: {o:3581.230000 | h:3584.410000 | l:3581.230000 | c:3583.200000 | v:673591.924792}, 1711615740000000000: {o:3583.210000 | h:3583.210000 | l:3579.670000 | c:3581.740000 | v:410396.930359}, 1711615800000000000: {o:3581.740000 | h:3595.700000 | l:3580.600000 | c:3592.410000 | v:14607081.078434}, 1711615860000000000: {o:3592.400000 | h:3593.510000 | l:3581.680000 | c:3583.900000 | v:2715234.708195}, 1711615920000000000: {o:3583.890000 | h:3584.600000 | l:3580.210000 | c:3582.010000 | v:885567.258789}, 1711615980000000000: {o:3582.000000 | h:3582.010000 | l:3577.650000 | c:3577.650000 | v:4246624.556799}, 1711616040000000000: {o:3577.650000 | h:3577.790000 | l:3576.240000 | c:3576.950000 | v:2552332.180753}})\u001b[0m\n",
      "\u001b[32m2024-03-28 10:56:09.413\u001b[0m [ \u001b[1mℹ️\u001b[0m ] \u001b[1m2024-03-28T08:56:09.413777000 -> TriggerEvent(time=numpy.datetime64('2024-03-28T08:56:09.413777000'), type='bar', instrument='ETHUSDT', data={1711615620000000000: {o:3580.210000 | h:3584.600000 | l:3580.200000 | c:3581.230000 | v:973020.205598}, 1711615680000000000: {o:3581.230000 | h:3584.410000 | l:3581.230000 | c:3583.200000 | v:673591.924792}, 1711615740000000000: {o:3583.210000 | h:3583.210000 | l:3579.670000 | c:3581.740000 | v:410396.930359}, 1711615800000000000: {o:3581.740000 | h:3595.700000 | l:3580.600000 | c:3592.410000 | v:14607081.078434}, 1711615860000000000: {o:3592.400000 | h:3593.510000 | l:3581.680000 | c:3583.900000 | v:2715234.708195}, 1711615920000000000: {o:3583.890000 | h:3584.600000 | l:3580.210000 | c:3582.010000 | v:885567.258789}, 1711615980000000000: {o:3582.000000 | h:3582.010000 | l:3577.650000 | c:3577.650000 | v:4246624.556799}, 1711616040000000000: {o:3577.650000 | h:3577.790000 | l:3576.240000 | c:3576.950000 | v:2552332.180753}, 1711616100000000000: {o:3576.950000 | h:3580.420000 | l:3575.170000 | c:3578.460000 | v:990899.998662}})\u001b[0m\n",
      "\u001b[32m2024-03-28 10:56:09.413\u001b[0m [ \u001b[1mℹ️\u001b[0m ] \u001b[1m2024-03-28T08:56:09.413777000 -> TriggerEvent(time=numpy.datetime64('2024-03-28T08:56:09.413777000'), type='bar', instrument='ETHUSDT', data={1711615620000000000: {o:3580.210000 | h:3584.600000 | l:3580.200000 | c:3581.230000 | v:973020.205598}, 1711615680000000000: {o:3581.230000 | h:3584.410000 | l:3581.230000 | c:3583.200000 | v:673591.924792}, 1711615740000000000: {o:3583.210000 | h:3583.210000 | l:3579.670000 | c:3581.740000 | v:410396.930359}, 1711615800000000000: {o:3581.740000 | h:3595.700000 | l:3580.600000 | c:3592.410000 | v:14607081.078434}, 1711615860000000000: {o:3592.400000 | h:3593.510000 | l:3581.680000 | c:3583.900000 | v:2715234.708195}, 1711615920000000000: {o:3583.890000 | h:3584.600000 | l:3580.210000 | c:3582.010000 | v:885567.258789}, 1711615980000000000: {o:3582.000000 | h:3582.010000 | l:3577.650000 | c:3577.650000 | v:4246624.556799}, 1711616040000000000: {o:3577.650000 | h:3577.790000 | l:3576.240000 | c:3576.950000 | v:2552332.180753}, 1711616100000000000: {o:3576.950000 | h:3580.420000 | l:3575.170000 | c:3578.460000 | v:990899.998662}, 1711616160000000000: {o:3578.460000 | h:3578.960000 | l:3578.460000 | c:3578.650000 | v:134978.585564}})\u001b[0m\n",
      "\u001b[32m2024-03-28 10:56:09.461\u001b[0m [ \u001b[1mℹ️\u001b[0m ] \u001b[1m2024-03-28T08:56:09.461619000 -> TriggerEvent(time=numpy.datetime64('2024-03-28T08:56:09.461619000'), type='bar', instrument='LTCUSDT', data={1711615620000000000: {o:96.220000 | h:96.290000 | l:96.130000 | c:96.170000 | v:146815.501220}})\u001b[0m\n",
      "\u001b[32m2024-03-28 10:56:09.462\u001b[0m [ \u001b[1mℹ️\u001b[0m ] \u001b[1m2024-03-28T08:56:09.462616000 -> TriggerEvent(time=numpy.datetime64('2024-03-28T08:56:09.462616000'), type='bar', instrument='LTCUSDT', data={1711615620000000000: {o:96.220000 | h:96.290000 | l:96.130000 | c:96.170000 | v:146815.501220}, 1711615680000000000: {o:96.170000 | h:96.330000 | l:96.170000 | c:96.250000 | v:34298.500710}})\u001b[0m\n",
      "\u001b[32m2024-03-28 10:56:09.463\u001b[0m [ \u001b[1mℹ️\u001b[0m ] \u001b[1m2024-03-28T08:56:09.463613000 -> TriggerEvent(time=numpy.datetime64('2024-03-28T08:56:09.463613000'), type='bar', instrument='LTCUSDT', data={1711615620000000000: {o:96.220000 | h:96.290000 | l:96.130000 | c:96.170000 | v:146815.501220}, 1711615680000000000: {o:96.170000 | h:96.330000 | l:96.170000 | c:96.250000 | v:34298.500710}, 1711615740000000000: {o:96.250000 | h:96.290000 | l:96.180000 | c:96.240000 | v:40649.662470}})\u001b[0m\n",
      "\u001b[32m2024-03-28 10:56:09.463\u001b[0m [ \u001b[1mℹ️\u001b[0m ] \u001b[1m2024-03-28T08:56:09.463613000 -> TriggerEvent(time=numpy.datetime64('2024-03-28T08:56:09.463613000'), type='bar', instrument='LTCUSDT', data={1711615620000000000: {o:96.220000 | h:96.290000 | l:96.130000 | c:96.170000 | v:146815.501220}, 1711615680000000000: {o:96.170000 | h:96.330000 | l:96.170000 | c:96.250000 | v:34298.500710}, 1711615740000000000: {o:96.250000 | h:96.290000 | l:96.180000 | c:96.240000 | v:40649.662470}, 1711615800000000000: {o:96.260000 | h:96.470000 | l:96.240000 | c:96.450000 | v:42367.094220}})\u001b[0m\n",
      "\u001b[32m2024-03-28 10:56:09.464\u001b[0m [ \u001b[1mℹ️\u001b[0m ] \u001b[1m2024-03-28T08:56:09.464609000 -> TriggerEvent(time=numpy.datetime64('2024-03-28T08:56:09.464609000'), type='bar', instrument='LTCUSDT', data={1711615620000000000: {o:96.220000 | h:96.290000 | l:96.130000 | c:96.170000 | v:146815.501220}, 1711615680000000000: {o:96.170000 | h:96.330000 | l:96.170000 | c:96.250000 | v:34298.500710}, 1711615740000000000: {o:96.250000 | h:96.290000 | l:96.180000 | c:96.240000 | v:40649.662470}, 1711615800000000000: {o:96.260000 | h:96.470000 | l:96.240000 | c:96.450000 | v:42367.094220}, 1711615860000000000: {o:96.470000 | h:96.590000 | l:96.270000 | c:96.310000 | v:144220.575990}})\u001b[0m\n",
      "\u001b[32m2024-03-28 10:56:09.465\u001b[0m [ \u001b[1mℹ️\u001b[0m ] \u001b[1m2024-03-28T08:56:09.465606000 -> TriggerEvent(time=numpy.datetime64('2024-03-28T08:56:09.465606000'), type='bar', instrument='LTCUSDT', data={1711615620000000000: {o:96.220000 | h:96.290000 | l:96.130000 | c:96.170000 | v:146815.501220}, 1711615680000000000: {o:96.170000 | h:96.330000 | l:96.170000 | c:96.250000 | v:34298.500710}, 1711615740000000000: {o:96.250000 | h:96.290000 | l:96.180000 | c:96.240000 | v:40649.662470}, 1711615800000000000: {o:96.260000 | h:96.470000 | l:96.240000 | c:96.450000 | v:42367.094220}, 1711615860000000000: {o:96.470000 | h:96.590000 | l:96.270000 | c:96.310000 | v:144220.575990}, 1711615920000000000: {o:96.320000 | h:96.340000 | l:96.150000 | c:96.260000 | v:34538.556240}})\u001b[0m\n",
      "\u001b[32m2024-03-28 10:56:09.466\u001b[0m [ \u001b[1mℹ️\u001b[0m ] \u001b[1m2024-03-28T08:56:09.466604000 -> TriggerEvent(time=numpy.datetime64('2024-03-28T08:56:09.466604000'), type='bar', instrument='LTCUSDT', data={1711615620000000000: {o:96.220000 | h:96.290000 | l:96.130000 | c:96.170000 | v:146815.501220}, 1711615680000000000: {o:96.170000 | h:96.330000 | l:96.170000 | c:96.250000 | v:34298.500710}, 1711615740000000000: {o:96.250000 | h:96.290000 | l:96.180000 | c:96.240000 | v:40649.662470}, 1711615800000000000: {o:96.260000 | h:96.470000 | l:96.240000 | c:96.450000 | v:42367.094220}, 1711615860000000000: {o:96.470000 | h:96.590000 | l:96.270000 | c:96.310000 | v:144220.575990}, 1711615920000000000: {o:96.320000 | h:96.340000 | l:96.150000 | c:96.260000 | v:34538.556240}, 1711615980000000000: {o:96.270000 | h:96.380000 | l:96.270000 | c:96.370000 | v:18540.019620}})\u001b[0m\n",
      "\u001b[32m2024-03-28 10:56:09.466\u001b[0m [ \u001b[1mℹ️\u001b[0m ] \u001b[1m2024-03-28T08:56:09.466604000 -> TriggerEvent(time=numpy.datetime64('2024-03-28T08:56:09.466604000'), type='bar', instrument='LTCUSDT', data={1711615620000000000: {o:96.220000 | h:96.290000 | l:96.130000 | c:96.170000 | v:146815.501220}, 1711615680000000000: {o:96.170000 | h:96.330000 | l:96.170000 | c:96.250000 | v:34298.500710}, 1711615740000000000: {o:96.250000 | h:96.290000 | l:96.180000 | c:96.240000 | v:40649.662470}, 1711615800000000000: {o:96.260000 | h:96.470000 | l:96.240000 | c:96.450000 | v:42367.094220}, 1711615860000000000: {o:96.470000 | h:96.590000 | l:96.270000 | c:96.310000 | v:144220.575990}, 1711615920000000000: {o:96.320000 | h:96.340000 | l:96.150000 | c:96.260000 | v:34538.556240}, 1711615980000000000: {o:96.270000 | h:96.380000 | l:96.270000 | c:96.370000 | v:18540.019620}, 1711616040000000000: {o:96.360000 | h:96.360000 | l:96.200000 | c:96.210000 | v:60599.679960}})\u001b[0m\n",
      "\u001b[32m2024-03-28 10:56:09.467\u001b[0m [ \u001b[1mℹ️\u001b[0m ] \u001b[1m2024-03-28T08:56:09.467599000 -> TriggerEvent(time=numpy.datetime64('2024-03-28T08:56:09.467599000'), type='bar', instrument='LTCUSDT', data={1711615620000000000: {o:96.220000 | h:96.290000 | l:96.130000 | c:96.170000 | v:146815.501220}, 1711615680000000000: {o:96.170000 | h:96.330000 | l:96.170000 | c:96.250000 | v:34298.500710}, 1711615740000000000: {o:96.250000 | h:96.290000 | l:96.180000 | c:96.240000 | v:40649.662470}, 1711615800000000000: {o:96.260000 | h:96.470000 | l:96.240000 | c:96.450000 | v:42367.094220}, 1711615860000000000: {o:96.470000 | h:96.590000 | l:96.270000 | c:96.310000 | v:144220.575990}, 1711615920000000000: {o:96.320000 | h:96.340000 | l:96.150000 | c:96.260000 | v:34538.556240}, 1711615980000000000: {o:96.270000 | h:96.380000 | l:96.270000 | c:96.370000 | v:18540.019620}, 1711616040000000000: {o:96.360000 | h:96.360000 | l:96.200000 | c:96.210000 | v:60599.679960}, 1711616100000000000: {o:96.200000 | h:96.260000 | l:96.180000 | c:96.190000 | v:22954.846910}})\u001b[0m\n",
      "\u001b[32m2024-03-28 10:56:09.467\u001b[0m [ \u001b[1mℹ️\u001b[0m ] \u001b[1m2024-03-28T08:56:09.467599000 -> TriggerEvent(time=numpy.datetime64('2024-03-28T08:56:09.467599000'), type='bar', instrument='LTCUSDT', data={1711615620000000000: {o:96.220000 | h:96.290000 | l:96.130000 | c:96.170000 | v:146815.501220}, 1711615680000000000: {o:96.170000 | h:96.330000 | l:96.170000 | c:96.250000 | v:34298.500710}, 1711615740000000000: {o:96.250000 | h:96.290000 | l:96.180000 | c:96.240000 | v:40649.662470}, 1711615800000000000: {o:96.260000 | h:96.470000 | l:96.240000 | c:96.450000 | v:42367.094220}, 1711615860000000000: {o:96.470000 | h:96.590000 | l:96.270000 | c:96.310000 | v:144220.575990}, 1711615920000000000: {o:96.320000 | h:96.340000 | l:96.150000 | c:96.260000 | v:34538.556240}, 1711615980000000000: {o:96.270000 | h:96.380000 | l:96.270000 | c:96.370000 | v:18540.019620}, 1711616040000000000: {o:96.360000 | h:96.360000 | l:96.200000 | c:96.210000 | v:60599.679960}, 1711616100000000000: {o:96.200000 | h:96.260000 | l:96.180000 | c:96.190000 | v:22954.846910}, 1711616160000000000: {o:96.190000 | h:96.190000 | l:96.180000 | c:96.190000 | v:952.158970}})\u001b[0m\n",
      "\u001b[32m2024-03-28 10:56:11.465\u001b[0m [ \u001b[1mℹ️\u001b[0m ] \u001b[1m2024-03-28T08:56:11.465644000 -> TriggerEvent(time=numpy.datetime64('2024-03-28T08:56:11.465644000'), type='bar', instrument='ETHUSDT', data={1711615620000000000: {o:3580.210000 | h:3584.600000 | l:3580.200000 | c:3581.230000 | v:973020.205598}, 1711615680000000000: {o:3581.230000 | h:3584.410000 | l:3581.230000 | c:3583.200000 | v:673591.924792}, 1711615740000000000: {o:3583.210000 | h:3583.210000 | l:3579.670000 | c:3581.740000 | v:410396.930359}, 1711615800000000000: {o:3581.740000 | h:3595.700000 | l:3580.600000 | c:3592.410000 | v:14607081.078434}, 1711615860000000000: {o:3592.400000 | h:3593.510000 | l:3581.680000 | c:3583.900000 | v:2715234.708195}, 1711615920000000000: {o:3583.890000 | h:3584.600000 | l:3580.210000 | c:3582.010000 | v:885567.258789}, 1711615980000000000: {o:3582.000000 | h:3582.010000 | l:3577.650000 | c:3577.650000 | v:4246624.556799}, 1711616040000000000: {o:3577.650000 | h:3577.790000 | l:3576.240000 | c:3576.950000 | v:2552332.180753}, 1711616100000000000: {o:3576.950000 | h:3580.420000 | l:3575.170000 | c:3578.460000 | v:990899.998662}, 1711616160000000000: {o:3578.460000 | h:3578.960000 | l:3578.460000 | c:3578.640000 | v:137150.103948}})\u001b[0m\n",
      "\u001b[32m2024-03-28 10:56:12.247\u001b[0m [ \u001b[1mℹ️\u001b[0m ] \u001b[1m2024-03-28T08:56:12.247636000 -> TriggerEvent(time=numpy.datetime64('2024-03-28T08:56:12.247636000'), type='bar', instrument='LTCUSDT', data={1711615620000000000: {o:96.220000 | h:96.290000 | l:96.130000 | c:96.170000 | v:146815.501220}, 1711615680000000000: {o:96.170000 | h:96.330000 | l:96.170000 | c:96.250000 | v:34298.500710}, 1711615740000000000: {o:96.250000 | h:96.290000 | l:96.180000 | c:96.240000 | v:40649.662470}, 1711615800000000000: {o:96.260000 | h:96.470000 | l:96.240000 | c:96.450000 | v:42367.094220}, 1711615860000000000: {o:96.470000 | h:96.590000 | l:96.270000 | c:96.310000 | v:144220.575990}, 1711615920000000000: {o:96.320000 | h:96.340000 | l:96.150000 | c:96.260000 | v:34538.556240}, 1711615980000000000: {o:96.270000 | h:96.380000 | l:96.270000 | c:96.370000 | v:18540.019620}, 1711616040000000000: {o:96.360000 | h:96.360000 | l:96.200000 | c:96.210000 | v:60599.679960}, 1711616100000000000: {o:96.200000 | h:96.260000 | l:96.180000 | c:96.190000 | v:22954.846910}, 1711616160000000000: {o:96.190000 | h:96.190000 | l:96.180000 | c:96.190000 | v:3402.097160}})\u001b[0m\n",
      "\u001b[32m2024-03-28 10:56:12.675\u001b[0m [ \u001b[1mℹ️\u001b[0m ] \u001b[1m2024-03-28T08:56:12.675581000 -> TriggerEvent(time=numpy.datetime64('2024-03-28T08:56:12.675581000'), type='bar', instrument='BTCUSDT', data={1711615620000000000: {o:70810.000000 | h:70864.390000 | l:70809.990000 | c:70810.000000 | v:2539027.830099}, 1711615680000000000: {o:70810.000000 | h:70850.000000 | l:70807.500000 | c:70814.220000 | v:2404109.016316}, 1711615740000000000: {o:70814.220000 | h:70814.220000 | l:70741.100000 | c:70790.000000 | v:2535787.349629}, 1711615800000000000: {o:70790.000000 | h:70865.580000 | l:70746.150000 | c:70836.000000 | v:7391045.581968}, 1711615860000000000: {o:70835.990000 | h:70836.000000 | l:70634.000000 | c:70648.040000 | v:3138778.191885}, 1711615920000000000: {o:70648.050000 | h:70663.510000 | l:70584.530000 | c:70663.500000 | v:3157542.295841}, 1711615980000000000: {o:70663.500000 | h:70663.510000 | l:70611.700000 | c:70629.520000 | v:931977.102954}, 1711616040000000000: {o:70629.530000 | h:70639.990000 | l:70629.520000 | c:70630.010000 | v:402995.810201}, 1711616100000000000: {o:70630.010000 | h:70694.200000 | l:70598.920000 | c:70664.000000 | v:1358746.157866}, 1711616160000000000: {o:70664.010000 | h:70685.720000 | l:70662.210000 | c:70685.720000 | v:407124.717320}})\u001b[0m\n",
      "\u001b[32m2024-03-28 10:56:13.553\u001b[0m [ \u001b[1mℹ️\u001b[0m ] \u001b[1m2024-03-28T08:56:13.553701000 -> TriggerEvent(time=numpy.datetime64('2024-03-28T08:56:13.553701000'), type='bar', instrument='ETHUSDT', data={1711615620000000000: {o:3580.210000 | h:3584.600000 | l:3580.200000 | c:3581.230000 | v:973020.205598}, 1711615680000000000: {o:3581.230000 | h:3584.410000 | l:3581.230000 | c:3583.200000 | v:673591.924792}, 1711615740000000000: {o:3583.210000 | h:3583.210000 | l:3579.670000 | c:3581.740000 | v:410396.930359}, 1711615800000000000: {o:3581.740000 | h:3595.700000 | l:3580.600000 | c:3592.410000 | v:14607081.078434}, 1711615860000000000: {o:3592.400000 | h:3593.510000 | l:3581.680000 | c:3583.900000 | v:2715234.708195}, 1711615920000000000: {o:3583.890000 | h:3584.600000 | l:3580.210000 | c:3582.010000 | v:885567.258789}, 1711615980000000000: {o:3582.000000 | h:3582.010000 | l:3577.650000 | c:3577.650000 | v:4246624.556799}, 1711616040000000000: {o:3577.650000 | h:3577.790000 | l:3576.240000 | c:3576.950000 | v:2552332.180753}, 1711616100000000000: {o:3576.950000 | h:3580.420000 | l:3575.170000 | c:3578.460000 | v:990899.998662}, 1711616160000000000: {o:3578.460000 | h:3579.650000 | l:3578.460000 | c:3579.650000 | v:157738.671161}})\u001b[0m\n",
      "\u001b[32m2024-03-28 10:56:14.734\u001b[0m [ \u001b[1mℹ️\u001b[0m ] \u001b[1m2024-03-28T08:56:14.734784000 -> TriggerEvent(time=numpy.datetime64('2024-03-28T08:56:14.734784000'), type='bar', instrument='LTCUSDT', data={1711615620000000000: {o:96.220000 | h:96.290000 | l:96.130000 | c:96.170000 | v:146815.501220}, 1711615680000000000: {o:96.170000 | h:96.330000 | l:96.170000 | c:96.250000 | v:34298.500710}, 1711615740000000000: {o:96.250000 | h:96.290000 | l:96.180000 | c:96.240000 | v:40649.662470}, 1711615800000000000: {o:96.260000 | h:96.470000 | l:96.240000 | c:96.450000 | v:42367.094220}, 1711615860000000000: {o:96.470000 | h:96.590000 | l:96.270000 | c:96.310000 | v:144220.575990}, 1711615920000000000: {o:96.320000 | h:96.340000 | l:96.150000 | c:96.260000 | v:34538.556240}, 1711615980000000000: {o:96.270000 | h:96.380000 | l:96.270000 | c:96.370000 | v:18540.019620}, 1711616040000000000: {o:96.360000 | h:96.360000 | l:96.200000 | c:96.210000 | v:60599.679960}, 1711616100000000000: {o:96.200000 | h:96.260000 | l:96.180000 | c:96.190000 | v:22954.846910}, 1711616160000000000: {o:96.190000 | h:96.190000 | l:96.180000 | c:96.190000 | v:3408.060940}})\u001b[0m\n",
      "\u001b[32m2024-03-28 10:56:14.784\u001b[0m [ \u001b[1mℹ️\u001b[0m ] \u001b[1m2024-03-28T08:56:14.784551000 -> TriggerEvent(time=numpy.datetime64('2024-03-28T08:56:14.784551000'), type='bar', instrument='BTCUSDT', data={1711615620000000000: {o:70810.000000 | h:70864.390000 | l:70809.990000 | c:70810.000000 | v:2539027.830099}, 1711615680000000000: {o:70810.000000 | h:70850.000000 | l:70807.500000 | c:70814.220000 | v:2404109.016316}, 1711615740000000000: {o:70814.220000 | h:70814.220000 | l:70741.100000 | c:70790.000000 | v:2535787.349629}, 1711615800000000000: {o:70790.000000 | h:70865.580000 | l:70746.150000 | c:70836.000000 | v:7391045.581968}, 1711615860000000000: {o:70835.990000 | h:70836.000000 | l:70634.000000 | c:70648.040000 | v:3138778.191885}, 1711615920000000000: {o:70648.050000 | h:70663.510000 | l:70584.530000 | c:70663.500000 | v:3157542.295841}, 1711615980000000000: {o:70663.500000 | h:70663.510000 | l:70611.700000 | c:70629.520000 | v:931977.102954}, 1711616040000000000: {o:70629.530000 | h:70639.990000 | l:70629.520000 | c:70630.010000 | v:402995.810201}, 1711616100000000000: {o:70630.010000 | h:70694.200000 | l:70598.920000 | c:70664.000000 | v:1358746.157866}, 1711616160000000000: {o:70664.010000 | h:70689.840000 | l:70662.210000 | c:70689.840000 | v:529826.700514}})\u001b[0m\n",
      "\u001b[32m2024-03-28 10:56:15.625\u001b[0m [ \u001b[1mℹ️\u001b[0m ] \u001b[1m2024-03-28T08:56:15.625046000 -> TriggerEvent(time=numpy.datetime64('2024-03-28T08:56:15.625046000'), type='bar', instrument='ETHUSDT', data={1711615620000000000: {o:3580.210000 | h:3584.600000 | l:3580.200000 | c:3581.230000 | v:973020.205598}, 1711615680000000000: {o:3581.230000 | h:3584.410000 | l:3581.230000 | c:3583.200000 | v:673591.924792}, 1711615740000000000: {o:3583.210000 | h:3583.210000 | l:3579.670000 | c:3581.740000 | v:410396.930359}, 1711615800000000000: {o:3581.740000 | h:3595.700000 | l:3580.600000 | c:3592.410000 | v:14607081.078434}, 1711615860000000000: {o:3592.400000 | h:3593.510000 | l:3581.680000 | c:3583.900000 | v:2715234.708195}, 1711615920000000000: {o:3583.890000 | h:3584.600000 | l:3580.210000 | c:3582.010000 | v:885567.258789}, 1711615980000000000: {o:3582.000000 | h:3582.010000 | l:3577.650000 | c:3577.650000 | v:4246624.556799}, 1711616040000000000: {o:3577.650000 | h:3577.790000 | l:3576.240000 | c:3576.950000 | v:2552332.180753}, 1711616100000000000: {o:3576.950000 | h:3580.420000 | l:3575.170000 | c:3578.460000 | v:990899.998662}, 1711616160000000000: {o:3578.460000 | h:3580.020000 | l:3578.460000 | c:3580.020000 | v:173978.651621}})\u001b[0m\n",
      "\u001b[32m2024-03-28 10:56:16.784\u001b[0m [ \u001b[1mℹ️\u001b[0m ] \u001b[1m2024-03-28T08:56:16.784218000 -> TriggerEvent(time=numpy.datetime64('2024-03-28T08:56:16.784218000'), type='bar', instrument='LTCUSDT', data={1711615620000000000: {o:96.220000 | h:96.290000 | l:96.130000 | c:96.170000 | v:146815.501220}, 1711615680000000000: {o:96.170000 | h:96.330000 | l:96.170000 | c:96.250000 | v:34298.500710}, 1711615740000000000: {o:96.250000 | h:96.290000 | l:96.180000 | c:96.240000 | v:40649.662470}, 1711615800000000000: {o:96.260000 | h:96.470000 | l:96.240000 | c:96.450000 | v:42367.094220}, 1711615860000000000: {o:96.470000 | h:96.590000 | l:96.270000 | c:96.310000 | v:144220.575990}, 1711615920000000000: {o:96.320000 | h:96.340000 | l:96.150000 | c:96.260000 | v:34538.556240}, 1711615980000000000: {o:96.270000 | h:96.380000 | l:96.270000 | c:96.370000 | v:18540.019620}, 1711616040000000000: {o:96.360000 | h:96.360000 | l:96.200000 | c:96.210000 | v:60599.679960}, 1711616100000000000: {o:96.200000 | h:96.260000 | l:96.180000 | c:96.190000 | v:22954.846910}, 1711616160000000000: {o:96.190000 | h:96.230000 | l:96.180000 | c:96.230000 | v:18684.134420}})\u001b[0m\n",
      "\u001b[32m2024-03-28 10:56:16.986\u001b[0m [ \u001b[1mℹ️\u001b[0m ] \u001b[1m2024-03-28T08:56:16.986297000 -> TriggerEvent(time=numpy.datetime64('2024-03-28T08:56:16.986297000'), type='bar', instrument='BTCUSDT', data={1711615620000000000: {o:70810.000000 | h:70864.390000 | l:70809.990000 | c:70810.000000 | v:2539027.830099}, 1711615680000000000: {o:70810.000000 | h:70850.000000 | l:70807.500000 | c:70814.220000 | v:2404109.016316}, 1711615740000000000: {o:70814.220000 | h:70814.220000 | l:70741.100000 | c:70790.000000 | v:2535787.349629}, 1711615800000000000: {o:70790.000000 | h:70865.580000 | l:70746.150000 | c:70836.000000 | v:7391045.581968}, 1711615860000000000: {o:70835.990000 | h:70836.000000 | l:70634.000000 | c:70648.040000 | v:3138778.191885}, 1711615920000000000: {o:70648.050000 | h:70663.510000 | l:70584.530000 | c:70663.500000 | v:3157542.295841}, 1711615980000000000: {o:70663.500000 | h:70663.510000 | l:70611.700000 | c:70629.520000 | v:931977.102954}, 1711616040000000000: {o:70629.530000 | h:70639.990000 | l:70629.520000 | c:70630.010000 | v:402995.810201}, 1711616100000000000: {o:70630.010000 | h:70694.200000 | l:70598.920000 | c:70664.000000 | v:1358746.157866}, 1711616160000000000: {o:70664.010000 | h:70690.440000 | l:70662.210000 | c:70682.540000 | v:608795.570053}})\u001b[0m\n",
      "\u001b[32m2024-03-28 10:56:17.831\u001b[0m [ \u001b[1mℹ️\u001b[0m ] \u001b[1m2024-03-28T08:56:17.831395000 -> TriggerEvent(time=numpy.datetime64('2024-03-28T08:56:17.831395000'), type='bar', instrument='ETHUSDT', data={1711615620000000000: {o:3580.210000 | h:3584.600000 | l:3580.200000 | c:3581.230000 | v:973020.205598}, 1711615680000000000: {o:3581.230000 | h:3584.410000 | l:3581.230000 | c:3583.200000 | v:673591.924792}, 1711615740000000000: {o:3583.210000 | h:3583.210000 | l:3579.670000 | c:3581.740000 | v:410396.930359}, 1711615800000000000: {o:3581.740000 | h:3595.700000 | l:3580.600000 | c:3592.410000 | v:14607081.078434}, 1711615860000000000: {o:3592.400000 | h:3593.510000 | l:3581.680000 | c:3583.900000 | v:2715234.708195}, 1711615920000000000: {o:3583.890000 | h:3584.600000 | l:3580.210000 | c:3582.010000 | v:885567.258789}, 1711615980000000000: {o:3582.000000 | h:3582.010000 | l:3577.650000 | c:3577.650000 | v:4246624.556799}, 1711616040000000000: {o:3577.650000 | h:3577.790000 | l:3576.240000 | c:3576.950000 | v:2552332.180753}, 1711616100000000000: {o:3576.950000 | h:3580.420000 | l:3575.170000 | c:3578.460000 | v:990899.998662}, 1711616160000000000: {o:3578.460000 | h:3580.020000 | l:3578.460000 | c:3579.560000 | v:179987.789620}})\u001b[0m\n"
     ]
    }
   ],
   "source": [
    "ctx.start()"
   ]
  },
  {
   "cell_type": "code",
   "execution_count": 272,
   "metadata": {},
   "outputs": [
    {
     "name": "stdout",
     "output_type": "stream",
     "text": [
      "\u001b[32m2024-03-28 10:56:18.627\u001b[0m [ \u001b[1mℹ️\u001b[0m ] \u001b[1mStop market data listening\u001b[0m\n"
     ]
    }
   ],
   "source": [
    "ctx.stop()"
   ]
  },
  {
   "cell_type": "code",
   "execution_count": null,
   "metadata": {},
   "outputs": [],
   "source": [
    "ctx.sers"
   ]
  },
  {
   "cell_type": "code",
   "execution_count": 274,
   "metadata": {},
   "outputs": [],
   "source": [
    "await cc.exch.close()"
   ]
  },
  {
   "cell_type": "code",
   "execution_count": null,
   "metadata": {},
   "outputs": [],
   "source": [
    "# cc.close()"
   ]
  },
  {
   "cell_type": "markdown",
   "metadata": {},
   "source": [
    "<hr/>"
   ]
  },
  {
   "cell_type": "markdown",
   "metadata": {},
   "source": [
    "# Misc"
   ]
  },
  {
   "cell_type": "code",
   "execution_count": null,
   "metadata": {},
   "outputs": [],
   "source": []
  }
 ],
 "metadata": {
  "kernelspec": {
   "display_name": "p311qbx",
   "language": "python",
   "name": "python3"
  },
  "language_info": {
   "codemirror_mode": {
    "name": "ipython",
    "version": 3
   },
   "file_extension": ".py",
   "mimetype": "text/x-python",
   "name": "python",
   "nbconvert_exporter": "python",
   "pygments_lexer": "ipython3",
   "version": "3.11.8"
  }
 },
 "nbformat": 4,
 "nbformat_minor": 2
}
