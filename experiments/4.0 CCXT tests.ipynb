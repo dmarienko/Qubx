{
 "cells": [
  {
   "cell_type": "code",
   "execution_count": 1,
   "metadata": {},
   "outputs": [
    {
     "name": "stdout",
     "output_type": "stream",
     "text": [
      " >  [\u001b[32mdev\u001b[0m] \u001b[31minstalled cython rebuilding hook\u001b[0m\n",
      "\n",
      "                   \u001b[31m╻\u001b[0m\n",
      "   \u001b[32m┏┓      ╻     \u001b[0m  \u001b[31m┃\u001b[0m  \u001b[33m┏┓\u001b[0m       \u001b[36mQuantitative Backtesting Environment\u001b[0m \n",
      "   \u001b[32m┃┃  ┓┏  ┣┓  ┏┓\u001b[0m  \u001b[31m┃\u001b[0m  \u001b[33m┏┛\u001b[0m       \n",
      "   \u001b[32m┗┻  ┗┻  ┗┛  ┗ \u001b[0m  \u001b[31m┃\u001b[0m  \u001b[33m┗━\u001b[0m       (c) 2024,  ver. \u001b[35mDev\u001b[0m\n",
      "                   \u001b[31m╹\u001b[0m       \n",
      "\n"
     ]
    }
   ],
   "source": [
    "import sys, os, re; sys.path = ([\"../src/\", \"../\"] if re.match(r'^(\\w\\:\\\\)|(/)', os.getcwd()) else [])+ sys.path \n",
    "\n",
    "import ccxt as cx\n",
    "from typing import Any, Optional, List\n",
    "import ccxt.pro as cxp\n",
    "from ccxt.base.decimal_to_precision import ROUND_UP\n",
    "import asyncio\n",
    "import nest_asyncio\n",
    "nest_asyncio.apply()\n",
    "\n",
    "from ccxt.base.exchange import Exchange\n",
    "from threading import Thread, Event, Lock\n",
    "from queue import Queue\n",
    "# from multiprocessing import Queue #as Queue\n",
    "\n",
    "import qubx\n",
    "%qubxd\n",
    "\n",
    "%load_ext autoreload\n",
    "%autoreload 2\n",
    "\n",
    "from qubx import lookup\n",
    "from qubx.core.series import TimeSeries, Bar, Trade, Quote, OHLCV\n",
    "from qubx.core.strategy import IStrategy, StrategyContext, TriggerEvent\n",
    "from qubx.core.basics import Instrument, Position, Signal, TransactionCostsCalculator, dt_64\n",
    "from qubx.impl.ccxt_connector import CCXTConnector, CtrlChannel, BinanceQV"
   ]
  },
  {
   "cell_type": "markdown",
   "metadata": {},
   "source": [
    "# Common"
   ]
  },
  {
   "cell_type": "code",
   "execution_count": null,
   "metadata": {},
   "outputs": [],
   "source": [
    "lookup.instruments['KRAKEN.F:BTC/USD']"
   ]
  },
  {
   "cell_type": "code",
   "execution_count": 34,
   "metadata": {},
   "outputs": [
    {
     "data": {
      "text/plain": [
       "Instrument(symbol='BTCUSDT', market_type='CRYPTO', exchange='BINANCE.UM', base='BTC', quote='USDT', margin_symbol='USDT', min_tick=0.1, min_size_step=0.001, min_size=0.001, futures_info=FuturesInfo(contract_type='PERPETUAL', delivery_date=datetime.datetime(2100, 12, 25, 10, 0), onboard_date=datetime.datetime(2019, 9, 25, 11, 0), contract_size=1.0, maint_margin=2.5, required_margin=5.0, liquidation_fee=0.0125), _aux_instrument=None)"
      ]
     },
     "execution_count": 34,
     "metadata": {},
     "output_type": "execute_result"
    }
   ],
   "source": [
    "instr = lookup.instruments.find('BINANCE.UM', 'BTC', 'USDT')\n",
    "instr"
   ]
  },
  {
   "cell_type": "code",
   "execution_count": 39,
   "metadata": {},
   "outputs": [
    {
     "data": {
      "text/plain": [
       "Instrument(symbol='ETH/BTC', market_type='spot', exchange='KRAKEN', base='ETH', quote='BTC', margin_symbol=None, min_tick=1e-05, min_size_step=1e-05, min_size=1e-08, futures_info=None, _aux_instrument=None)"
      ]
     },
     "execution_count": 39,
     "metadata": {},
     "output_type": "execute_result"
    }
   ],
   "source": [
    "instr = lookup.instruments.find('KRAKEN', 'BTC', 'ETH')\n",
    "instr"
   ]
  },
  {
   "cell_type": "code",
   "execution_count": 38,
   "metadata": {},
   "outputs": [
    {
     "data": {
      "text/plain": [
       "Instrument(symbol='BTC/USD', market_type='spot', exchange='KRAKEN', base='BTC', quote='USD', margin_symbol=None, min_tick=0.1, min_size_step=0.1, min_size=1e-08, futures_info=None, _aux_instrument=None)"
      ]
     },
     "execution_count": 38,
     "metadata": {},
     "output_type": "execute_result"
    }
   ],
   "source": [
    "lookup.find_aux_instrument_for(instr, 'USD')"
   ]
  },
  {
   "cell_type": "code",
   "execution_count": 46,
   "metadata": {},
   "outputs": [],
   "source": [
    "bu = cxp.binanceusdm()\n",
    "bs = cxp.binance()\n",
    "ks = cxp.kraken()\n",
    "kf = cxp.krakenfutures()"
   ]
  },
  {
   "cell_type": "markdown",
   "metadata": {},
   "source": [
    "# Get OHLC [TODO]"
   ]
  },
  {
   "cell_type": "code",
   "execution_count": 47,
   "metadata": {},
   "outputs": [],
   "source": [
    "bs_markets = await bs.load_markets()\n",
    "bu_markets = await bu.load_markets()\n",
    "kf_markets = await kf.load_markets()\n",
    "ks_markets = await ks.load_markets()"
   ]
  },
  {
   "cell_type": "code",
   "execution_count": 53,
   "metadata": {},
   "outputs": [
    {
     "data": {
      "text/plain": [
       "60"
      ]
     },
     "execution_count": 53,
     "metadata": {},
     "output_type": "execute_result"
    }
   ],
   "source": [
    "bu.parse_timeframe('1m')"
   ]
  },
  {
   "cell_type": "code",
   "execution_count": null,
   "metadata": {},
   "outputs": [],
   "source": [
    "interval = bu.parse_timeframe('1m') * 1000\n",
    "orderbook_max_levels_limit = 100\n",
    "since = bu.round_timeframe('1m', bu.milliseconds(), ROUND_UP) - orderbook_max_levels_limit * interval\n",
    "await bu.fetch_ohlcv('ETH/USDT', '1m', since=since, limit=orderbook_max_levels_limit)"
   ]
  },
  {
   "cell_type": "code",
   "execution_count": null,
   "metadata": {},
   "outputs": [],
   "source": [
    "# await bnc1.fetch_ohlcv('ETH/USDT', '1m', since=since, limit=limit)"
   ]
  },
  {
   "cell_type": "code",
   "execution_count": 57,
   "metadata": {},
   "outputs": [],
   "source": [
    "cxc = CCXT_connector('binance')"
   ]
  },
  {
   "cell_type": "markdown",
   "metadata": {},
   "source": []
  },
  {
   "cell_type": "markdown",
   "metadata": {},
   "source": [
    "# Listen to data"
   ]
  },
  {
   "cell_type": "code",
   "execution_count": 3,
   "metadata": {},
   "outputs": [],
   "source": [
    "class RunThread(Thread):\n",
    "    def __init__(self, channel: CtrlChannel):\n",
    "        self.result = None\n",
    "        self.ch = channel\n",
    "        self.loops = []\n",
    "        super().__init__()\n",
    "\n",
    "    def add(self, func, *args, **kwargs):\n",
    "        self.loops.append(func(self.ch, *args, **kwargs))\n",
    "\n",
    "    async def run_loop(self):\n",
    "        self.result = await asyncio.gather(*self.loops)\n",
    "\n",
    "    def run(self):\n",
    "        self.ch.control.set()\n",
    "        asyncio.run(self.run_loop())\n",
    "\n",
    "    def stop(self):\n",
    "        self.ch.control.clear()\n",
    "        self.ch.queue.put((None, None)) # send sentinel\n",
    "\n",
    "\n",
    "async def listen_to_trades(channel: CtrlChannel, exchange: Exchange, symbols: List[str]):\n",
    "    method = 'watchTrades'\n",
    "    if exchange.has[method]:\n",
    "        # lock = channel.lock\n",
    "        while channel.control.is_set():\n",
    "            try:\n",
    "                # c_time = exchange.iso8601(exchange.milliseconds())\n",
    "                trades = await exchange.watch_trades_for_symbols(symbols)\n",
    "                # lock.acquire()\n",
    "                for trade in trades:\n",
    "                    # trade = trades[-1]\n",
    "                    t_ns = trade['timestamp'] * 1_000_000 # this is trade time \n",
    "                    s = trade['symbol']\n",
    "                    info = trade['info']\n",
    "                    price = trade['price']\n",
    "                    m = info['m']\n",
    "                    amnt = trade['amount'] # in base currency\n",
    "                    tas = Trade(t_ns, price, amnt, int(not m), int(trade['id']))\n",
    "                    channel.queue.put((s, tas))\n",
    "                # lock.release()\n",
    "                # print(trade, flush=True)\n",
    "                # print(f\"\\t[{c_time}] {s} : {str(tas)}\", flush=True)\n",
    "            except Exception as e:\n",
    "                print(type(e).__name__, str(e), flush=True)\n",
    "                await exchange.close()\n",
    "                raise e\n",
    "    else:\n",
    "        raise Exception(exchange.id + ' ' + method + ' is not supported or not implemented yet')\n",
    "\n",
    "\n",
    "async def listen_to_orderbook(channel: CtrlChannel, exchange: Exchange, symbols: List[str], orderbook_max_levels_limit=5):\n",
    "    lock = channel.lock\n",
    "    while channel.control.is_set():\n",
    "        try:\n",
    "            orderbook = await exchange.watch_order_book_for_symbols(symbols, limit=orderbook_max_levels_limit)\n",
    "            # - check what this time is ?\n",
    "            t_ns = orderbook['timestamp'] * 1_000_000\n",
    "            s = orderbook['symbol']\n",
    "            b, a = orderbook['bids'], orderbook['asks']\n",
    "            q = Quote(t_ns, b[0][0], a[0][0], b[0][1], a[0][1])\n",
    "            # lock.acquire()\n",
    "            channel.queue.put((s, q))\n",
    "            # lock.release()\n",
    "            # c_time = exchange.iso8601(exchange.milliseconds())\n",
    "            # print(f\"[{c_time}] {s} : {str(q)}\", flush=True)\n",
    "        except Exception as e:\n",
    "            print(type(e).__name__, str(e), flush=True)\n",
    "            await exchange.close()\n",
    "            raise e\n",
    " \n",
    "\n",
    "async def receiver(channel: CtrlChannel):\n",
    "    sers = {}\n",
    "    print(\"START LISTENING\", flush=True)\n",
    "    T, Q = 0, 0\n",
    "    while channel.control.is_set():\n",
    "        s, data = channel.queue.get()\n",
    "        if isinstance(data, Quote):\n",
    "            if not (Q % 100):\n",
    "                print(s, data, flush=True)\n",
    "                Q = 0\n",
    "            Q += 1\n",
    "        if isinstance(data, Trade):\n",
    "            if s not in sers:\n",
    "                sers[s] = TimeSeries(s, '1Min')\n",
    "            ts = sers[s]\n",
    "            ts.update(data.time, data.price)\n",
    "            if not (T % 100):\n",
    "                print(s, data, flush=True)\n",
    "                T = 0\n",
    "            T += 1\n",
    "        if isinstance(data, Bar):\n",
    "            # print(f\"{s} {pd.Timestamp(data.time, unit='ns')}: {data}\", flush=True)\n",
    "            if s not in sers:\n",
    "                sers[s] = {}\n",
    "            sers[s][data.time] = data\n",
    "\n",
    "    print(f\"STOP LISTENING: {str(sers)}\", flush=True)\n",
    "    return sers "
   ]
  },
  {
   "cell_type": "code",
   "execution_count": 4,
   "metadata": {},
   "outputs": [],
   "source": [
    "def prefetch_ohlcs(exchange: Exchange, symbol: str, timeframe: str, nbarsback: int):\n",
    "    assert nbarsback > 1\n",
    "    start = ((pd.Timestamp('now', tz='UTC') - nbarsback * pd.Timedelta(timeframe)).asm8.item()//1000000) if nbarsback > 1 else None \n",
    "    ohlcv = exchange.fetch_ohlcv(symbol, timeframe, since=start, limit=nbarsback + 1)\n",
    "    return ohlcv\n",
    "\n",
    "async def listen_to_ohlcv(channel: CtrlChannel, exchange: Exchange, \n",
    "                          symbol: List[str], timeframe: str, nbarsback: int):\n",
    "    # - check if we need to load initial 'snapshot'\n",
    "    if nbarsback > 1:\n",
    "        ohlcv = await prefetch_ohlcs(exchange, symbol, timeframe, nbarsback)\n",
    "        for oh in ohlcv:\n",
    "            b = Bar(oh[0] * 1_000_000, oh[1], oh[2], oh[3], oh[4], oh[6], oh[7])\n",
    "            channel.queue.put((symbol, b))\n",
    "\n",
    "    while channel.control.is_set():\n",
    "        try:\n",
    "            ohlcv = await exchange.watch_ohlcv(symbol, timeframe)\n",
    "            for oh in ohlcv:\n",
    "                b = Bar(oh[0] * 1000000, oh[1], oh[2], oh[3], oh[4], oh[6], oh[7])\n",
    "                channel.queue.put((symbol, b))\n",
    "        except Exception as e:\n",
    "            print(type(e).__name__, str(e), flush=True)\n",
    "            await exchange.close()\n",
    "            raise e"
   ]
  },
  {
   "cell_type": "code",
   "execution_count": 5,
   "metadata": {},
   "outputs": [],
   "source": [
    "symbs = ['1INCHUSDT', 'AGLDUSDT', 'APEUSDT', 'ARBUSDT', 'AUCTIONUSDT', 'BANDUSDT', 'BATUSDT', 'C98USDT', 'COMPUSDT', 'CYBERUSDT',\n",
    "        'DYDXUSDT', 'ENSUSDT', 'FXSUSDT', 'HFTUSDT', 'ICXUSDT', 'IOSTUSDT', 'IOTAUSDT', 'IOTXUSDT', 'LDOUSDT', 'LQTYUSDT', 'LTCUSDT',\n",
    "        'MASKUSDT', 'MBOXUSDT', 'MINAUSDT', 'MTLUSDT', 'OGNUSDT', 'OPUSDT', 'PEOPLEUSDT', 'POLSUSDT', 'PYRUSDT', 'QNTUSDT', 'RADUSDT',\n",
    "        'RDNTUSDT', 'RIFUSDT', 'RLCUSDT', 'SEIUSDT', 'SPELLUSDT', 'SSVUSDT', 'STGUSDT', 'STXUSDT', 'SUIUSDT', 'UMAUSDT', 'WAVESUSDT']"
   ]
  },
  {
   "cell_type": "code",
   "execution_count": 6,
   "metadata": {},
   "outputs": [
    {
     "name": "stdout",
     "output_type": "stream",
     "text": [
      "START LISTENING\n"
     ]
    }
   ],
   "source": [
    "chan = CtrlChannel('ticks')\n",
    "reader = RunThread(chan)\n",
    "reader.add(receiver)\n",
    "reader.start()"
   ]
  },
  {
   "cell_type": "code",
   "execution_count": 7,
   "metadata": {},
   "outputs": [],
   "source": [
    "# bu = cxp.binanceusdm()\n",
    "# bu = cxp.binance()\n",
    "bu = BinanceQV()\n",
    "# bu = getattr(cxp, 'binanceqv')()\n",
    "t1 = RunThread(chan)\n",
    "for s in symbs:\n",
    "    t1.add(listen_to_ohlcv, bu, s, '15m', 10)\n",
    "\n",
    "# t1.add(listen_to_ohlcv, bu, 'BTCUSDT', '5m', 10)\n",
    "# t1.add(listen_to_ohlcv, bu, 'ETHUSDT', '5m', 10)\n",
    "# t1.add(listen_to_ohlcv, bu, 'LTCUSDT', '5m', 10)\n",
    "# t1.add(listen_to_ohlcv, bu, 'SOLUSDT', '5m', 10)\n",
    "# t1.add(listen_to_trades, bu, ['BTCUSDT', 'ETHUSDT', 'SOLUSDT'])\n",
    "# t1.add(listen_to_orderbook, bu, ['BTCUSDT', 'ETHUSDT', 'SOLUSDT'])\n",
    "t1.start()"
   ]
  },
  {
   "cell_type": "code",
   "execution_count": 10,
   "metadata": {},
   "outputs": [],
   "source": [
    "reader.stop()\n",
    "t1.stop()"
   ]
  },
  {
   "cell_type": "code",
   "execution_count": null,
   "metadata": {},
   "outputs": [],
   "source": [
    "print(len(reader.result[0]), len(symbs))\n",
    "reader.result[0]"
   ]
  },
  {
   "cell_type": "markdown",
   "metadata": {},
   "source": [
    "# StrategyCtx"
   ]
  },
  {
   "cell_type": "code",
   "execution_count": 203,
   "metadata": {},
   "outputs": [],
   "source": [
    "from qubx import logger\n",
    "\n",
    "class ZeroStrat(IStrategy):\n",
    "    param1: int = 0\n",
    "\n",
    "    def on_start(self, ctx: StrategyContext):\n",
    "        logger.info(f\"> Started with param1 = {self.param1}\")\n",
    "\n",
    "    def on_event(self, ctx: StrategyContext, event: TriggerEvent) -> Optional[List[Signal]]:\n",
    "        logger.info(f\"{event.time} -> {event}\")\n",
    "        print(ctx.ohlc(ctx.instruments[0], '1Min'))\n",
    "        return None"
   ]
  },
  {
   "cell_type": "code",
   "execution_count": 204,
   "metadata": {},
   "outputs": [
    {
     "data": {
      "text/plain": [
       "numpy.datetime64('2024-03-28T14:45:27.564373000')"
      ]
     },
     "execution_count": 204,
     "metadata": {},
     "output_type": "execute_result"
    }
   ],
   "source": [
    "cc = CCXTConnector('binance')\n",
    "cc.time()"
   ]
  },
  {
   "cell_type": "code",
   "execution_count": null,
   "metadata": {},
   "outputs": [],
   "source": [
    "# cc.get_historical_ohlcs('BTCUSDT', '1d', 20)"
   ]
  },
  {
   "cell_type": "code",
   "execution_count": 205,
   "metadata": {},
   "outputs": [
    {
     "name": "stdout",
     "output_type": "stream",
     "text": [
      "\u001b[32m2024-03-28 16:45:30.470\u001b[0m [ \u001b[1mℹ️\u001b[0m ] \u001b[1mSet param1 -> 1\u001b[0m\n"
     ]
    }
   ],
   "source": [
    "ctx = StrategyContext(\n",
    "    ZeroStrat(), dict(param1 = 1), cc, cc, \n",
    "    instruments=lookup.instruments[r'BINANCE:(BTC|ETH|LTC)USDT'],\n",
    "    fees_spec='vip0_usdt', base_currency='USDT',\n",
    "\n",
    "    md_subscription=dict(type='ohlc', timeframe='1Min', nback=10),\n",
    "    trigger=dict(type='bar', delay='-1s', timeframe='1Min')\n",
    ")"
   ]
  },
  {
   "cell_type": "code",
   "execution_count": null,
   "metadata": {},
   "outputs": [
    {
     "name": "stdout",
     "output_type": "stream",
     "text": [
      "\u001b[32m2024-03-28 16:45:40.012\u001b[0m [ \u001b[1mℹ️\u001b[0m ] \u001b[1mSubscribing to ohlc updates using {'timeframe': '1Min', 'nback': 10} for \n",
      "\t['BTCUSDT', 'ETHUSDT', 'LTCUSDT'] \u001b[0m\n",
      "\u001b[32m2024-03-28 16:45:40.014\u001b[0m [ \u001b[1mℹ️\u001b[0m ] \u001b[1m> Started with param1 = 1\u001b[0m\n",
      "\u001b[32m2024-03-28 16:45:40.016\u001b[0m [ \u001b[1mℹ️\u001b[0m ] \u001b[1m> Data processor started\u001b[0m\n",
      "\u001b[32m2024-03-28 16:45:40.018\u001b[0m [ \u001b[1mℹ️\u001b[0m ] \u001b[1mStart processing market data\u001b[0m\n",
      "\u001b[32m2024-03-28 16:45:40.020\u001b[0m [ \u001b[1mℹ️\u001b[0m ] \u001b[1m> Market data subscribtions started\u001b[0m\n"
     ]
    },
    {
     "name": "stdout",
     "output_type": "stream",
     "text": [
      "\u001b[32m2024-03-28 16:45:59.380\u001b[0m [ \u001b[1mℹ️\u001b[0m ] \u001b[1m2024-03-28T14:45:59.380275000 -> TriggerEvent(time=numpy.datetime64('2024-03-28T14:45:59.380275000'), type='bar', instrument='ETHUSDT', data={o:3601.110000 | h:3603.000000 | l:3598.980000 | c:3598.980000 | v:1027789.031965})\u001b[0m\n",
      "BTCUSDT[1Min] | 10 records\n",
      "  2024-03-28T14:45:00.000000000 {o:71270.000000 | h:71332.000000 | l:71245.700000 | c:71322.000000 | v:4210208.805196}\n",
      "  2024-03-28T14:44:00.000000000 {o:71144.000000 | h:71270.000000 | l:71101.100000 | c:71270.000000 | v:3069777.926218}\n",
      "  2024-03-28T14:43:00.000000000 {o:71223.300000 | h:71255.000000 | l:71090.000000 | c:71143.990000 | v:4866317.960553}\n",
      "   .......... \n",
      "  2024-03-28T14:38:00.000000000 {o:71270.000000 | h:71441.100000 | l:71262.050000 | c:71434.000000 | v:7334014.250422}\n",
      "  2024-03-28T14:37:00.000000000 {o:71298.470000 | h:71300.000000 | l:71198.000000 | c:71270.000000 | v:3409109.814485}\n",
      "  2024-03-28T14:36:00.000000000 {o:71392.000000 | h:71392.010000 | l:71293.500000 | c:71298.470000 | v:4627866.606653}\n",
      "\n",
      "\u001b[32m2024-03-28 16:45:59.722\u001b[0m [ \u001b[1mℹ️\u001b[0m ] \u001b[1m2024-03-28T14:45:59.722361000 -> TriggerEvent(time=numpy.datetime64('2024-03-28T14:45:59.722361000'), type='bar', instrument='LTCUSDT', data={o:95.190000 | h:95.220000 | l:95.120000 | c:95.120000 | v:80511.107820})\u001b[0m\n",
      "BTCUSDT[1Min] | 10 records\n",
      "  2024-03-28T14:45:00.000000000 {o:71270.000000 | h:71332.000000 | l:71245.700000 | c:71322.000000 | v:4210208.805196}\n",
      "  2024-03-28T14:44:00.000000000 {o:71144.000000 | h:71270.000000 | l:71101.100000 | c:71270.000000 | v:3069777.926218}\n",
      "  2024-03-28T14:43:00.000000000 {o:71223.300000 | h:71255.000000 | l:71090.000000 | c:71143.990000 | v:4866317.960553}\n",
      "   .......... \n",
      "  2024-03-28T14:38:00.000000000 {o:71270.000000 | h:71441.100000 | l:71262.050000 | c:71434.000000 | v:7334014.250422}\n",
      "  2024-03-28T14:37:00.000000000 {o:71298.470000 | h:71300.000000 | l:71198.000000 | c:71270.000000 | v:3409109.814485}\n",
      "  2024-03-28T14:36:00.000000000 {o:71392.000000 | h:71392.010000 | l:71293.500000 | c:71298.470000 | v:4627866.606653}\n",
      "\n",
      "\u001b[32m2024-03-28 16:45:59.822\u001b[0m [ \u001b[1mℹ️\u001b[0m ] \u001b[1m2024-03-28T14:45:59.822879000 -> TriggerEvent(time=numpy.datetime64('2024-03-28T14:45:59.822879000'), type='bar', instrument='LTCUSDT', data={o:95.190000 | h:95.220000 | l:95.120000 | c:95.120000 | v:80511.107820})\u001b[0m\n",
      "BTCUSDT[1Min] | 10 records\n",
      "  2024-03-28T14:45:00.000000000 {o:71270.000000 | h:71332.000000 | l:71245.700000 | c:71322.000000 | v:4210208.805196}\n",
      "  2024-03-28T14:44:00.000000000 {o:71144.000000 | h:71270.000000 | l:71101.100000 | c:71270.000000 | v:3069777.926218}\n",
      "  2024-03-28T14:43:00.000000000 {o:71223.300000 | h:71255.000000 | l:71090.000000 | c:71143.990000 | v:4866317.960553}\n",
      "   .......... \n",
      "  2024-03-28T14:38:00.000000000 {o:71270.000000 | h:71441.100000 | l:71262.050000 | c:71434.000000 | v:7334014.250422}\n",
      "  2024-03-28T14:37:00.000000000 {o:71298.470000 | h:71300.000000 | l:71198.000000 | c:71270.000000 | v:3409109.814485}\n",
      "  2024-03-28T14:36:00.000000000 {o:71392.000000 | h:71392.010000 | l:71293.500000 | c:71298.470000 | v:4627866.606653}\n",
      "\n",
      "\u001b[32m2024-03-28 16:45:59.837\u001b[0m [ \u001b[1mℹ️\u001b[0m ] \u001b[1m2024-03-28T14:45:59.837320000 -> TriggerEvent(time=numpy.datetime64('2024-03-28T14:45:59.837320000'), type='bar', instrument='BTCUSDT', data={o:71270.000000 | h:71332.000000 | l:71245.700000 | c:71322.000000 | v:4247493.809281})\u001b[0m\n",
      "BTCUSDT[1Min] | 10 records\n",
      "  2024-03-28T14:45:00.000000000 {o:71270.000000 | h:71332.000000 | l:71245.700000 | c:71322.000000 | v:4247493.809281}\n",
      "  2024-03-28T14:44:00.000000000 {o:71144.000000 | h:71270.000000 | l:71101.100000 | c:71270.000000 | v:3069777.926218}\n",
      "  2024-03-28T14:43:00.000000000 {o:71223.300000 | h:71255.000000 | l:71090.000000 | c:71143.990000 | v:4866317.960553}\n",
      "   .......... \n",
      "  2024-03-28T14:38:00.000000000 {o:71270.000000 | h:71441.100000 | l:71262.050000 | c:71434.000000 | v:7334014.250422}\n",
      "  2024-03-28T14:37:00.000000000 {o:71298.470000 | h:71300.000000 | l:71198.000000 | c:71270.000000 | v:3409109.814485}\n",
      "  2024-03-28T14:36:00.000000000 {o:71392.000000 | h:71392.010000 | l:71293.500000 | c:71298.470000 | v:4627866.606653}\n",
      "\n",
      "\u001b[32m2024-03-28 16:45:59.838\u001b[0m [ \u001b[1mℹ️\u001b[0m ] \u001b[1m2024-03-28T14:45:59.838315000 -> TriggerEvent(time=numpy.datetime64('2024-03-28T14:45:59.838315000'), type='bar', instrument='ETHUSDT', data={o:3601.110000 | h:3603.000000 | l:3598.970000 | c:3598.980000 | v:1033840.713510})\u001b[0m\n",
      "BTCUSDT[1Min] | 10 records\n",
      "  2024-03-28T14:45:00.000000000 {o:71270.000000 | h:71332.000000 | l:71245.700000 | c:71322.000000 | v:4247493.809281}\n",
      "  2024-03-28T14:44:00.000000000 {o:71144.000000 | h:71270.000000 | l:71101.100000 | c:71270.000000 | v:3069777.926218}\n",
      "  2024-03-28T14:43:00.000000000 {o:71223.300000 | h:71255.000000 | l:71090.000000 | c:71143.990000 | v:4866317.960553}\n",
      "   .......... \n",
      "  2024-03-28T14:38:00.000000000 {o:71270.000000 | h:71441.100000 | l:71262.050000 | c:71434.000000 | v:7334014.250422}\n",
      "  2024-03-28T14:37:00.000000000 {o:71298.470000 | h:71300.000000 | l:71198.000000 | c:71270.000000 | v:3409109.814485}\n",
      "  2024-03-28T14:36:00.000000000 {o:71392.000000 | h:71392.010000 | l:71293.500000 | c:71298.470000 | v:4627866.606653}\n",
      "\n",
      "\u001b[32m2024-03-28 16:46:59.469\u001b[0m [ \u001b[1mℹ️\u001b[0m ] \u001b[1m2024-03-28T14:46:59.468653000 -> TriggerEvent(time=numpy.datetime64('2024-03-28T14:46:59.468653000'), type='bar', instrument='LTCUSDT', data={o:95.120000 | h:95.150000 | l:95.080000 | c:95.110000 | v:51184.850020})\u001b[0m\n",
      "BTCUSDT[1Min] | 11 records\n",
      "  2024-03-28T14:46:00.000000000 {o:71322.010000 | h:71364.000000 | l:71322.000000 | c:71336.400000 | v:2964796.857368}\n",
      "  2024-03-28T14:45:00.000000000 {o:71270.000000 | h:71332.000000 | l:71245.700000 | c:71322.000000 | v:4247493.809281}\n",
      "  2024-03-28T14:44:00.000000000 {o:71144.000000 | h:71270.000000 | l:71101.100000 | c:71270.000000 | v:3069777.926218}\n",
      "   .......... \n",
      "  2024-03-28T14:38:00.000000000 {o:71270.000000 | h:71441.100000 | l:71262.050000 | c:71434.000000 | v:7334014.250422}\n",
      "  2024-03-28T14:37:00.000000000 {o:71298.470000 | h:71300.000000 | l:71198.000000 | c:71270.000000 | v:3409109.814485}\n",
      "  2024-03-28T14:36:00.000000000 {o:71392.000000 | h:71392.010000 | l:71293.500000 | c:71298.470000 | v:4627866.606653}\n",
      "\n",
      "\u001b[32m2024-03-28 16:46:59.822\u001b[0m [ \u001b[1mℹ️\u001b[0m ] \u001b[1m2024-03-28T14:46:59.822320000 -> TriggerEvent(time=numpy.datetime64('2024-03-28T14:46:59.822320000'), type='bar', instrument='LTCUSDT', data={o:95.120000 | h:95.150000 | l:95.080000 | c:95.110000 | v:51184.850020})\u001b[0m\n",
      "BTCUSDT[1Min] | 11 records\n",
      "  2024-03-28T14:46:00.000000000 {o:71322.010000 | h:71364.000000 | l:71322.000000 | c:71336.400000 | v:2964796.857368}\n",
      "  2024-03-28T14:45:00.000000000 {o:71270.000000 | h:71332.000000 | l:71245.700000 | c:71322.000000 | v:4247493.809281}\n",
      "  2024-03-28T14:44:00.000000000 {o:71144.000000 | h:71270.000000 | l:71101.100000 | c:71270.000000 | v:3069777.926218}\n",
      "   .......... \n",
      "  2024-03-28T14:38:00.000000000 {o:71270.000000 | h:71441.100000 | l:71262.050000 | c:71434.000000 | v:7334014.250422}\n",
      "  2024-03-28T14:37:00.000000000 {o:71298.470000 | h:71300.000000 | l:71198.000000 | c:71270.000000 | v:3409109.814485}\n",
      "  2024-03-28T14:36:00.000000000 {o:71392.000000 | h:71392.010000 | l:71293.500000 | c:71298.470000 | v:4627866.606653}\n",
      "\n",
      "\u001b[32m2024-03-28 16:46:59.826\u001b[0m [ \u001b[1mℹ️\u001b[0m ] \u001b[1m2024-03-28T14:46:59.826319000 -> TriggerEvent(time=numpy.datetime64('2024-03-28T14:46:59.826319000'), type='bar', instrument='ETHUSDT', data={o:3598.980000 | h:3600.850000 | l:3598.660000 | c:3599.140000 | v:839474.358990})\u001b[0m\n",
      "BTCUSDT[1Min] | 11 records\n",
      "  2024-03-28T14:46:00.000000000 {o:71322.010000 | h:71364.000000 | l:71322.000000 | c:71336.400000 | v:2964796.857368}\n",
      "  2024-03-28T14:45:00.000000000 {o:71270.000000 | h:71332.000000 | l:71245.700000 | c:71322.000000 | v:4247493.809281}\n",
      "  2024-03-28T14:44:00.000000000 {o:71144.000000 | h:71270.000000 | l:71101.100000 | c:71270.000000 | v:3069777.926218}\n",
      "   .......... \n",
      "  2024-03-28T14:38:00.000000000 {o:71270.000000 | h:71441.100000 | l:71262.050000 | c:71434.000000 | v:7334014.250422}\n",
      "  2024-03-28T14:37:00.000000000 {o:71298.470000 | h:71300.000000 | l:71198.000000 | c:71270.000000 | v:3409109.814485}\n",
      "  2024-03-28T14:36:00.000000000 {o:71392.000000 | h:71392.010000 | l:71293.500000 | c:71298.470000 | v:4627866.606653}\n",
      "\n",
      "\u001b[32m2024-03-28 16:46:59.832\u001b[0m [ \u001b[1mℹ️\u001b[0m ] \u001b[1m2024-03-28T14:46:59.832326000 -> TriggerEvent(time=numpy.datetime64('2024-03-28T14:46:59.832326000'), type='bar', instrument='BTCUSDT', data={o:71322.010000 | h:71364.000000 | l:71322.000000 | c:71336.400000 | v:3004769.495416})\u001b[0m\n",
      "BTCUSDT[1Min] | 11 records\n",
      "  2024-03-28T14:46:00.000000000 {o:71322.010000 | h:71364.000000 | l:71322.000000 | c:71336.400000 | v:3004769.495416}\n",
      "  2024-03-28T14:45:00.000000000 {o:71270.000000 | h:71332.000000 | l:71245.700000 | c:71322.000000 | v:4247493.809281}\n",
      "  2024-03-28T14:44:00.000000000 {o:71144.000000 | h:71270.000000 | l:71101.100000 | c:71270.000000 | v:3069777.926218}\n",
      "   .......... \n",
      "  2024-03-28T14:38:00.000000000 {o:71270.000000 | h:71441.100000 | l:71262.050000 | c:71434.000000 | v:7334014.250422}\n",
      "  2024-03-28T14:37:00.000000000 {o:71298.470000 | h:71300.000000 | l:71198.000000 | c:71270.000000 | v:3409109.814485}\n",
      "  2024-03-28T14:36:00.000000000 {o:71392.000000 | h:71392.010000 | l:71293.500000 | c:71298.470000 | v:4627866.606653}\n",
      "\n",
      "\u001b[32m2024-03-28 16:47:59.838\u001b[0m [ \u001b[1mℹ️\u001b[0m ] \u001b[1m2024-03-28T14:47:59.838648000 -> TriggerEvent(time=numpy.datetime64('2024-03-28T14:47:59.838648000'), type='bar', instrument='LTCUSDT', data={o:95.110000 | h:95.170000 | l:95.050000 | c:95.150000 | v:88526.450700})\u001b[0m\n",
      "BTCUSDT[1Min] | 12 records\n",
      "  2024-03-28T14:47:00.000000000 {o:71336.400000 | h:71357.610000 | l:71282.280000 | c:71352.140000 | v:2678434.722405}\n",
      "  2024-03-28T14:46:00.000000000 {o:71322.010000 | h:71364.000000 | l:71322.000000 | c:71336.400000 | v:3004769.495416}\n",
      "  2024-03-28T14:45:00.000000000 {o:71270.000000 | h:71332.000000 | l:71245.700000 | c:71322.000000 | v:4247493.809281}\n",
      "   .......... \n",
      "  2024-03-28T14:38:00.000000000 {o:71270.000000 | h:71441.100000 | l:71262.050000 | c:71434.000000 | v:7334014.250422}\n",
      "  2024-03-28T14:37:00.000000000 {o:71298.470000 | h:71300.000000 | l:71198.000000 | c:71270.000000 | v:3409109.814485}\n",
      "  2024-03-28T14:36:00.000000000 {o:71392.000000 | h:71392.010000 | l:71293.500000 | c:71298.470000 | v:4627866.606653}\n",
      "\n",
      "\u001b[32m2024-03-28 16:47:59.840\u001b[0m [ \u001b[1mℹ️\u001b[0m ] \u001b[1m2024-03-28T14:47:59.840654000 -> TriggerEvent(time=numpy.datetime64('2024-03-28T14:47:59.840654000'), type='bar', instrument='ETHUSDT', data={o:3599.140000 | h:3599.740000 | l:3596.890000 | c:3599.350000 | v:950561.162021})\u001b[0m\n",
      "BTCUSDT[1Min] | 12 records\n",
      "  2024-03-28T14:47:00.000000000 {o:71336.400000 | h:71357.610000 | l:71282.280000 | c:71352.140000 | v:2678434.722405}\n",
      "  2024-03-28T14:46:00.000000000 {o:71322.010000 | h:71364.000000 | l:71322.000000 | c:71336.400000 | v:3004769.495416}\n",
      "  2024-03-28T14:45:00.000000000 {o:71270.000000 | h:71332.000000 | l:71245.700000 | c:71322.000000 | v:4247493.809281}\n",
      "   .......... \n",
      "  2024-03-28T14:38:00.000000000 {o:71270.000000 | h:71441.100000 | l:71262.050000 | c:71434.000000 | v:7334014.250422}\n",
      "  2024-03-28T14:37:00.000000000 {o:71298.470000 | h:71300.000000 | l:71198.000000 | c:71270.000000 | v:3409109.814485}\n",
      "  2024-03-28T14:36:00.000000000 {o:71392.000000 | h:71392.010000 | l:71293.500000 | c:71298.470000 | v:4627866.606653}\n",
      "\n",
      "\u001b[32m2024-03-28 16:47:59.842\u001b[0m [ \u001b[1mℹ️\u001b[0m ] \u001b[1m2024-03-28T14:47:59.842642000 -> TriggerEvent(time=numpy.datetime64('2024-03-28T14:47:59.842642000'), type='bar', instrument='BTCUSDT', data={o:71336.400000 | h:71357.610000 | l:71282.280000 | c:71357.590000 | v:2843961.248603})\u001b[0m\n",
      "BTCUSDT[1Min] | 12 records\n",
      "  2024-03-28T14:47:00.000000000 {o:71336.400000 | h:71357.610000 | l:71282.280000 | c:71357.590000 | v:2843961.248603}\n",
      "  2024-03-28T14:46:00.000000000 {o:71322.010000 | h:71364.000000 | l:71322.000000 | c:71336.400000 | v:3004769.495416}\n",
      "  2024-03-28T14:45:00.000000000 {o:71270.000000 | h:71332.000000 | l:71245.700000 | c:71322.000000 | v:4247493.809281}\n",
      "   .......... \n",
      "  2024-03-28T14:38:00.000000000 {o:71270.000000 | h:71441.100000 | l:71262.050000 | c:71434.000000 | v:7334014.250422}\n",
      "  2024-03-28T14:37:00.000000000 {o:71298.470000 | h:71300.000000 | l:71198.000000 | c:71270.000000 | v:3409109.814485}\n",
      "  2024-03-28T14:36:00.000000000 {o:71392.000000 | h:71392.010000 | l:71293.500000 | c:71298.470000 | v:4627866.606653}\n",
      "\n",
      "\u001b[32m2024-03-28 16:48:59.670\u001b[0m [ \u001b[1mℹ️\u001b[0m ] \u001b[1m2024-03-28T14:48:59.670172000 -> TriggerEvent(time=numpy.datetime64('2024-03-28T14:48:59.670172000'), type='bar', instrument='BTCUSDT', data={o:71357.590000 | h:71387.600000 | l:71357.590000 | c:71387.590000 | v:3286977.489643})\u001b[0m\n",
      "BTCUSDT[1Min] | 13 records\n",
      "  2024-03-28T14:48:00.000000000 {o:71357.590000 | h:71387.600000 | l:71357.590000 | c:71387.590000 | v:3286977.489643}\n",
      "  2024-03-28T14:47:00.000000000 {o:71336.400000 | h:71357.610000 | l:71282.280000 | c:71357.590000 | v:2843961.248603}\n",
      "  2024-03-28T14:46:00.000000000 {o:71322.010000 | h:71364.000000 | l:71322.000000 | c:71336.400000 | v:3004769.495416}\n",
      "   .......... \n",
      "  2024-03-28T14:38:00.000000000 {o:71270.000000 | h:71441.100000 | l:71262.050000 | c:71434.000000 | v:7334014.250422}\n",
      "  2024-03-28T14:37:00.000000000 {o:71298.470000 | h:71300.000000 | l:71198.000000 | c:71270.000000 | v:3409109.814485}\n",
      "  2024-03-28T14:36:00.000000000 {o:71392.000000 | h:71392.010000 | l:71293.500000 | c:71298.470000 | v:4627866.606653}\n",
      "\n",
      "\u001b[32m2024-03-28 16:48:59.847\u001b[0m [ \u001b[1mℹ️\u001b[0m ] \u001b[1m2024-03-28T14:48:59.847303000 -> TriggerEvent(time=numpy.datetime64('2024-03-28T14:48:59.847303000'), type='bar', instrument='LTCUSDT', data={o:95.150000 | h:95.230000 | l:95.130000 | c:95.220000 | v:87527.275570})\u001b[0m\n",
      "BTCUSDT[1Min] | 13 records\n",
      "  2024-03-28T14:48:00.000000000 {o:71357.590000 | h:71387.600000 | l:71357.590000 | c:71387.590000 | v:3286977.489643}\n",
      "  2024-03-28T14:47:00.000000000 {o:71336.400000 | h:71357.610000 | l:71282.280000 | c:71357.590000 | v:2843961.248603}\n",
      "  2024-03-28T14:46:00.000000000 {o:71322.010000 | h:71364.000000 | l:71322.000000 | c:71336.400000 | v:3004769.495416}\n",
      "   .......... \n",
      "  2024-03-28T14:38:00.000000000 {o:71270.000000 | h:71441.100000 | l:71262.050000 | c:71434.000000 | v:7334014.250422}\n",
      "  2024-03-28T14:37:00.000000000 {o:71298.470000 | h:71300.000000 | l:71198.000000 | c:71270.000000 | v:3409109.814485}\n",
      "  2024-03-28T14:36:00.000000000 {o:71392.000000 | h:71392.010000 | l:71293.500000 | c:71298.470000 | v:4627866.606653}\n",
      "\n",
      "\u001b[32m2024-03-28 16:48:59.849\u001b[0m [ \u001b[1mℹ️\u001b[0m ] \u001b[1m2024-03-28T14:48:59.849248000 -> TriggerEvent(time=numpy.datetime64('2024-03-28T14:48:59.849248000'), type='bar', instrument='ETHUSDT', data={o:3599.350000 | h:3603.000000 | l:3598.730000 | c:3602.960000 | v:737360.408040})\u001b[0m\n",
      "BTCUSDT[1Min] | 13 records\n",
      "  2024-03-28T14:48:00.000000000 {o:71357.590000 | h:71387.600000 | l:71357.590000 | c:71387.590000 | v:3286977.489643}\n",
      "  2024-03-28T14:47:00.000000000 {o:71336.400000 | h:71357.610000 | l:71282.280000 | c:71357.590000 | v:2843961.248603}\n",
      "  2024-03-28T14:46:00.000000000 {o:71322.010000 | h:71364.000000 | l:71322.000000 | c:71336.400000 | v:3004769.495416}\n",
      "   .......... \n",
      "  2024-03-28T14:38:00.000000000 {o:71270.000000 | h:71441.100000 | l:71262.050000 | c:71434.000000 | v:7334014.250422}\n",
      "  2024-03-28T14:37:00.000000000 {o:71298.470000 | h:71300.000000 | l:71198.000000 | c:71270.000000 | v:3409109.814485}\n",
      "  2024-03-28T14:36:00.000000000 {o:71392.000000 | h:71392.010000 | l:71293.500000 | c:71298.470000 | v:4627866.606653}\n",
      "\n",
      "\u001b[32m2024-03-28 16:48:59.851\u001b[0m [ \u001b[1mℹ️\u001b[0m ] \u001b[1m2024-03-28T14:48:59.851661000 -> TriggerEvent(time=numpy.datetime64('2024-03-28T14:48:59.851661000'), type='bar', instrument='BTCUSDT', data={o:71357.590000 | h:71387.600000 | l:71357.590000 | c:71387.600000 | v:3289125.542388})\u001b[0m\n",
      "BTCUSDT[1Min] | 13 records\n",
      "  2024-03-28T14:48:00.000000000 {o:71357.590000 | h:71387.600000 | l:71357.590000 | c:71387.600000 | v:3289125.542388}\n",
      "  2024-03-28T14:47:00.000000000 {o:71336.400000 | h:71357.610000 | l:71282.280000 | c:71357.590000 | v:2843961.248603}\n",
      "  2024-03-28T14:46:00.000000000 {o:71322.010000 | h:71364.000000 | l:71322.000000 | c:71336.400000 | v:3004769.495416}\n",
      "   .......... \n",
      "  2024-03-28T14:38:00.000000000 {o:71270.000000 | h:71441.100000 | l:71262.050000 | c:71434.000000 | v:7334014.250422}\n",
      "  2024-03-28T14:37:00.000000000 {o:71298.470000 | h:71300.000000 | l:71198.000000 | c:71270.000000 | v:3409109.814485}\n",
      "  2024-03-28T14:36:00.000000000 {o:71392.000000 | h:71392.010000 | l:71293.500000 | c:71298.470000 | v:4627866.606653}\n",
      "\n",
      "\u001b[32m2024-03-28 16:49:59.476\u001b[0m [ \u001b[1mℹ️\u001b[0m ] \u001b[1m2024-03-28T14:49:59.476355000 -> TriggerEvent(time=numpy.datetime64('2024-03-28T14:49:59.476355000'), type='bar', instrument='BTCUSDT', data={o:71387.600000 | h:71460.000000 | l:71313.440000 | c:71335.990000 | v:8174643.185389})\u001b[0m\n",
      "BTCUSDT[1Min] | 14 records\n",
      "  2024-03-28T14:49:00.000000000 {o:71387.600000 | h:71460.000000 | l:71313.440000 | c:71335.990000 | v:8174643.185389}\n",
      "  2024-03-28T14:48:00.000000000 {o:71357.590000 | h:71387.600000 | l:71357.590000 | c:71387.600000 | v:3289125.542388}\n",
      "  2024-03-28T14:47:00.000000000 {o:71336.400000 | h:71357.610000 | l:71282.280000 | c:71357.590000 | v:2843961.248603}\n",
      "   .......... \n",
      "  2024-03-28T14:38:00.000000000 {o:71270.000000 | h:71441.100000 | l:71262.050000 | c:71434.000000 | v:7334014.250422}\n",
      "  2024-03-28T14:37:00.000000000 {o:71298.470000 | h:71300.000000 | l:71198.000000 | c:71270.000000 | v:3409109.814485}\n",
      "  2024-03-28T14:36:00.000000000 {o:71392.000000 | h:71392.010000 | l:71293.500000 | c:71298.470000 | v:4627866.606653}\n",
      "\n",
      "\u001b[32m2024-03-28 16:49:59.855\u001b[0m [ \u001b[1mℹ️\u001b[0m ] \u001b[1m2024-03-28T14:49:59.855559000 -> TriggerEvent(time=numpy.datetime64('2024-03-28T14:49:59.855559000'), type='bar', instrument='LTCUSDT', data={o:95.220000 | h:95.290000 | l:95.120000 | c:95.120000 | v:130818.366030})\u001b[0m\n",
      "BTCUSDT[1Min] | 14 records\n",
      "  2024-03-28T14:49:00.000000000 {o:71387.600000 | h:71460.000000 | l:71313.440000 | c:71335.990000 | v:8174643.185389}\n",
      "  2024-03-28T14:48:00.000000000 {o:71357.590000 | h:71387.600000 | l:71357.590000 | c:71387.600000 | v:3289125.542388}\n",
      "  2024-03-28T14:47:00.000000000 {o:71336.400000 | h:71357.610000 | l:71282.280000 | c:71357.590000 | v:2843961.248603}\n",
      "   .......... \n",
      "  2024-03-28T14:38:00.000000000 {o:71270.000000 | h:71441.100000 | l:71262.050000 | c:71434.000000 | v:7334014.250422}\n",
      "  2024-03-28T14:37:00.000000000 {o:71298.470000 | h:71300.000000 | l:71198.000000 | c:71270.000000 | v:3409109.814485}\n",
      "  2024-03-28T14:36:00.000000000 {o:71392.000000 | h:71392.010000 | l:71293.500000 | c:71298.470000 | v:4627866.606653}\n",
      "\n",
      "\u001b[32m2024-03-28 16:49:59.857\u001b[0m [ \u001b[1mℹ️\u001b[0m ] \u001b[1m2024-03-28T14:49:59.857576000 -> TriggerEvent(time=numpy.datetime64('2024-03-28T14:49:59.857576000'), type='bar', instrument='ETHUSDT', data={o:3602.970000 | h:3604.990000 | l:3599.630000 | c:3599.960000 | v:1699901.925314})\u001b[0m\n",
      "BTCUSDT[1Min] | 14 records\n",
      "  2024-03-28T14:49:00.000000000 {o:71387.600000 | h:71460.000000 | l:71313.440000 | c:71335.990000 | v:8174643.185389}\n",
      "  2024-03-28T14:48:00.000000000 {o:71357.590000 | h:71387.600000 | l:71357.590000 | c:71387.600000 | v:3289125.542388}\n",
      "  2024-03-28T14:47:00.000000000 {o:71336.400000 | h:71357.610000 | l:71282.280000 | c:71357.590000 | v:2843961.248603}\n",
      "   .......... \n",
      "  2024-03-28T14:38:00.000000000 {o:71270.000000 | h:71441.100000 | l:71262.050000 | c:71434.000000 | v:7334014.250422}\n",
      "  2024-03-28T14:37:00.000000000 {o:71298.470000 | h:71300.000000 | l:71198.000000 | c:71270.000000 | v:3409109.814485}\n",
      "  2024-03-28T14:36:00.000000000 {o:71392.000000 | h:71392.010000 | l:71293.500000 | c:71298.470000 | v:4627866.606653}\n",
      "\n",
      "\u001b[32m2024-03-28 16:49:59.860\u001b[0m [ \u001b[1mℹ️\u001b[0m ] \u001b[1m2024-03-28T14:49:59.860000000 -> TriggerEvent(time=numpy.datetime64('2024-03-28T14:49:59.860000000'), type='bar', instrument='BTCUSDT', data={o:71387.600000 | h:71460.000000 | l:71313.440000 | c:71330.000000 | v:8215908.755125})\u001b[0m\n",
      "BTCUSDT[1Min] | 14 records\n",
      "  2024-03-28T14:49:00.000000000 {o:71387.600000 | h:71460.000000 | l:71313.440000 | c:71330.000000 | v:8215908.755125}\n",
      "  2024-03-28T14:48:00.000000000 {o:71357.590000 | h:71387.600000 | l:71357.590000 | c:71387.600000 | v:3289125.542388}\n",
      "  2024-03-28T14:47:00.000000000 {o:71336.400000 | h:71357.610000 | l:71282.280000 | c:71357.590000 | v:2843961.248603}\n",
      "   .......... \n",
      "  2024-03-28T14:38:00.000000000 {o:71270.000000 | h:71441.100000 | l:71262.050000 | c:71434.000000 | v:7334014.250422}\n",
      "  2024-03-28T14:37:00.000000000 {o:71298.470000 | h:71300.000000 | l:71198.000000 | c:71270.000000 | v:3409109.814485}\n",
      "  2024-03-28T14:36:00.000000000 {o:71392.000000 | h:71392.010000 | l:71293.500000 | c:71298.470000 | v:4627866.606653}\n",
      "\n",
      "\u001b[32m2024-03-28 16:50:59.451\u001b[0m [ \u001b[1mℹ️\u001b[0m ] \u001b[1m2024-03-28T14:50:59.451265000 -> TriggerEvent(time=numpy.datetime64('2024-03-28T14:50:59.451265000'), type='bar', instrument='ETHUSDT', data={o:3599.970000 | h:3608.000000 | l:3599.630000 | c:3608.000000 | v:1510916.975884})\u001b[0m\n",
      "BTCUSDT[1Min] | 15 records\n",
      "  2024-03-28T14:50:00.000000000 {o:71330.010000 | h:71470.000000 | l:71313.720000 | c:71469.970000 | v:3665896.849679}\n",
      "  2024-03-28T14:49:00.000000000 {o:71387.600000 | h:71460.000000 | l:71313.440000 | c:71330.000000 | v:8215908.755125}\n",
      "  2024-03-28T14:48:00.000000000 {o:71357.590000 | h:71387.600000 | l:71357.590000 | c:71387.600000 | v:3289125.542388}\n",
      "   .......... \n",
      "  2024-03-28T14:38:00.000000000 {o:71270.000000 | h:71441.100000 | l:71262.050000 | c:71434.000000 | v:7334014.250422}\n",
      "  2024-03-28T14:37:00.000000000 {o:71298.470000 | h:71300.000000 | l:71198.000000 | c:71270.000000 | v:3409109.814485}\n",
      "  2024-03-28T14:36:00.000000000 {o:71392.000000 | h:71392.010000 | l:71293.500000 | c:71298.470000 | v:4627866.606653}\n",
      "\n",
      "\u001b[32m2024-03-28 16:50:59.822\u001b[0m [ \u001b[1mℹ️\u001b[0m ] \u001b[1m2024-03-28T14:50:59.822231000 -> TriggerEvent(time=numpy.datetime64('2024-03-28T14:50:59.822231000'), type='bar', instrument='LTCUSDT', data={o:95.110000 | h:95.300000 | l:95.110000 | c:95.290000 | v:55631.318760})\u001b[0m\n",
      "BTCUSDT[1Min] | 15 records\n",
      "  2024-03-28T14:50:00.000000000 {o:71330.010000 | h:71470.000000 | l:71313.720000 | c:71469.970000 | v:3665896.849679}\n",
      "  2024-03-28T14:49:00.000000000 {o:71387.600000 | h:71460.000000 | l:71313.440000 | c:71330.000000 | v:8215908.755125}\n",
      "  2024-03-28T14:48:00.000000000 {o:71357.590000 | h:71387.600000 | l:71357.590000 | c:71387.600000 | v:3289125.542388}\n",
      "   .......... \n",
      "  2024-03-28T14:38:00.000000000 {o:71270.000000 | h:71441.100000 | l:71262.050000 | c:71434.000000 | v:7334014.250422}\n",
      "  2024-03-28T14:37:00.000000000 {o:71298.470000 | h:71300.000000 | l:71198.000000 | c:71270.000000 | v:3409109.814485}\n",
      "  2024-03-28T14:36:00.000000000 {o:71392.000000 | h:71392.010000 | l:71293.500000 | c:71298.470000 | v:4627866.606653}\n",
      "\n",
      "\u001b[32m2024-03-28 16:50:59.826\u001b[0m [ \u001b[1mℹ️\u001b[0m ] \u001b[1m2024-03-28T14:50:59.826734000 -> TriggerEvent(time=numpy.datetime64('2024-03-28T14:50:59.826734000'), type='bar', instrument='BTCUSDT', data={o:71330.010000 | h:71470.000000 | l:71313.720000 | c:71469.980000 | v:3675869.769574})\u001b[0m\n",
      "BTCUSDT[1Min] | 15 records\n",
      "  2024-03-28T14:50:00.000000000 {o:71330.010000 | h:71470.000000 | l:71313.720000 | c:71469.980000 | v:3675869.769574}\n",
      "  2024-03-28T14:49:00.000000000 {o:71387.600000 | h:71460.000000 | l:71313.440000 | c:71330.000000 | v:8215908.755125}\n",
      "  2024-03-28T14:48:00.000000000 {o:71357.590000 | h:71387.600000 | l:71357.590000 | c:71387.600000 | v:3289125.542388}\n",
      "   .......... \n",
      "  2024-03-28T14:38:00.000000000 {o:71270.000000 | h:71441.100000 | l:71262.050000 | c:71434.000000 | v:7334014.250422}\n",
      "  2024-03-28T14:37:00.000000000 {o:71298.470000 | h:71300.000000 | l:71198.000000 | c:71270.000000 | v:3409109.814485}\n",
      "  2024-03-28T14:36:00.000000000 {o:71392.000000 | h:71392.010000 | l:71293.500000 | c:71298.470000 | v:4627866.606653}\n",
      "\n",
      "\u001b[32m2024-03-28 16:50:59.828\u001b[0m [ \u001b[1mℹ️\u001b[0m ] \u001b[1m2024-03-28T14:50:59.828728000 -> TriggerEvent(time=numpy.datetime64('2024-03-28T14:50:59.828728000'), type='bar', instrument='ETHUSDT', data={o:3599.970000 | h:3608.190000 | l:3599.630000 | c:3608.180000 | v:1525503.085823})\u001b[0m\n",
      "BTCUSDT[1Min] | 15 records\n",
      "  2024-03-28T14:50:00.000000000 {o:71330.010000 | h:71470.000000 | l:71313.720000 | c:71469.980000 | v:3675869.769574}\n",
      "  2024-03-28T14:49:00.000000000 {o:71387.600000 | h:71460.000000 | l:71313.440000 | c:71330.000000 | v:8215908.755125}\n",
      "  2024-03-28T14:48:00.000000000 {o:71357.590000 | h:71387.600000 | l:71357.590000 | c:71387.600000 | v:3289125.542388}\n",
      "   .......... \n",
      "  2024-03-28T14:38:00.000000000 {o:71270.000000 | h:71441.100000 | l:71262.050000 | c:71434.000000 | v:7334014.250422}\n",
      "  2024-03-28T14:37:00.000000000 {o:71298.470000 | h:71300.000000 | l:71198.000000 | c:71270.000000 | v:3409109.814485}\n",
      "  2024-03-28T14:36:00.000000000 {o:71392.000000 | h:71392.010000 | l:71293.500000 | c:71298.470000 | v:4627866.606653}\n",
      "\n",
      "\u001b[32m2024-03-28 16:51:59.582\u001b[0m [ \u001b[1mℹ️\u001b[0m ] \u001b[1m2024-03-28T14:51:59.582142000 -> TriggerEvent(time=numpy.datetime64('2024-03-28T14:51:59.582142000'), type='bar', instrument='BTCUSDT', data={o:71469.970000 | h:71536.000000 | l:71374.420000 | c:71421.110000 | v:15297636.987583})\u001b[0m\n",
      "BTCUSDT[1Min] | 16 records\n",
      "  2024-03-28T14:51:00.000000000 {o:71469.970000 | h:71536.000000 | l:71374.420000 | c:71421.110000 | v:15297636.987583}\n",
      "  2024-03-28T14:50:00.000000000 {o:71330.010000 | h:71470.000000 | l:71313.720000 | c:71469.980000 | v:3675869.769574}\n",
      "  2024-03-28T14:49:00.000000000 {o:71387.600000 | h:71460.000000 | l:71313.440000 | c:71330.000000 | v:8215908.755125}\n",
      "   .......... \n",
      "  2024-03-28T14:38:00.000000000 {o:71270.000000 | h:71441.100000 | l:71262.050000 | c:71434.000000 | v:7334014.250422}\n",
      "  2024-03-28T14:37:00.000000000 {o:71298.470000 | h:71300.000000 | l:71198.000000 | c:71270.000000 | v:3409109.814485}\n",
      "  2024-03-28T14:36:00.000000000 {o:71392.000000 | h:71392.010000 | l:71293.500000 | c:71298.470000 | v:4627866.606653}\n",
      "\n",
      "\u001b[32m2024-03-28 16:51:59.741\u001b[0m [ \u001b[1mℹ️\u001b[0m ] \u001b[1m2024-03-28T14:51:59.741430000 -> TriggerEvent(time=numpy.datetime64('2024-03-28T14:51:59.741430000'), type='bar', instrument='LTCUSDT', data={o:95.290000 | h:95.330000 | l:95.160000 | c:95.230000 | v:69538.227370})\u001b[0m\n",
      "BTCUSDT[1Min] | 16 records\n",
      "  2024-03-28T14:51:00.000000000 {o:71469.970000 | h:71536.000000 | l:71374.420000 | c:71421.110000 | v:15297636.987583}\n",
      "  2024-03-28T14:50:00.000000000 {o:71330.010000 | h:71470.000000 | l:71313.720000 | c:71469.980000 | v:3675869.769574}\n",
      "  2024-03-28T14:49:00.000000000 {o:71387.600000 | h:71460.000000 | l:71313.440000 | c:71330.000000 | v:8215908.755125}\n",
      "   .......... \n",
      "  2024-03-28T14:38:00.000000000 {o:71270.000000 | h:71441.100000 | l:71262.050000 | c:71434.000000 | v:7334014.250422}\n",
      "  2024-03-28T14:37:00.000000000 {o:71298.470000 | h:71300.000000 | l:71198.000000 | c:71270.000000 | v:3409109.814485}\n",
      "  2024-03-28T14:36:00.000000000 {o:71392.000000 | h:71392.010000 | l:71293.500000 | c:71298.470000 | v:4627866.606653}\n",
      "\n",
      "\u001b[32m2024-03-28 16:51:59.819\u001b[0m [ \u001b[1mℹ️\u001b[0m ] \u001b[1m2024-03-28T14:51:59.819553000 -> TriggerEvent(time=numpy.datetime64('2024-03-28T14:51:59.819553000'), type='bar', instrument='LTCUSDT', data={o:95.290000 | h:95.330000 | l:95.160000 | c:95.230000 | v:69538.227370})\u001b[0m\n",
      "BTCUSDT[1Min] | 16 records\n",
      "  2024-03-28T14:51:00.000000000 {o:71469.970000 | h:71536.000000 | l:71374.420000 | c:71421.110000 | v:15297636.987583}\n",
      "  2024-03-28T14:50:00.000000000 {o:71330.010000 | h:71470.000000 | l:71313.720000 | c:71469.980000 | v:3675869.769574}\n",
      "  2024-03-28T14:49:00.000000000 {o:71387.600000 | h:71460.000000 | l:71313.440000 | c:71330.000000 | v:8215908.755125}\n",
      "   .......... \n",
      "  2024-03-28T14:38:00.000000000 {o:71270.000000 | h:71441.100000 | l:71262.050000 | c:71434.000000 | v:7334014.250422}\n",
      "  2024-03-28T14:37:00.000000000 {o:71298.470000 | h:71300.000000 | l:71198.000000 | c:71270.000000 | v:3409109.814485}\n",
      "  2024-03-28T14:36:00.000000000 {o:71392.000000 | h:71392.010000 | l:71293.500000 | c:71298.470000 | v:4627866.606653}\n",
      "\n",
      "\u001b[32m2024-03-28 16:51:59.827\u001b[0m [ \u001b[1mℹ️\u001b[0m ] \u001b[1m2024-03-28T14:51:59.827527000 -> TriggerEvent(time=numpy.datetime64('2024-03-28T14:51:59.827527000'), type='bar', instrument='ETHUSDT', data={o:3608.180000 | h:3611.780000 | l:3604.010000 | c:3605.480000 | v:2070946.589843})\u001b[0m\n",
      "BTCUSDT[1Min] | 16 records\n",
      "  2024-03-28T14:51:00.000000000 {o:71469.970000 | h:71536.000000 | l:71374.420000 | c:71421.110000 | v:15297636.987583}\n",
      "  2024-03-28T14:50:00.000000000 {o:71330.010000 | h:71470.000000 | l:71313.720000 | c:71469.980000 | v:3675869.769574}\n",
      "  2024-03-28T14:49:00.000000000 {o:71387.600000 | h:71460.000000 | l:71313.440000 | c:71330.000000 | v:8215908.755125}\n",
      "   .......... \n",
      "  2024-03-28T14:38:00.000000000 {o:71270.000000 | h:71441.100000 | l:71262.050000 | c:71434.000000 | v:7334014.250422}\n",
      "  2024-03-28T14:37:00.000000000 {o:71298.470000 | h:71300.000000 | l:71198.000000 | c:71270.000000 | v:3409109.814485}\n",
      "  2024-03-28T14:36:00.000000000 {o:71392.000000 | h:71392.010000 | l:71293.500000 | c:71298.470000 | v:4627866.606653}\n",
      "\n",
      "\u001b[32m2024-03-28 16:51:59.828\u001b[0m [ \u001b[1mℹ️\u001b[0m ] \u001b[1m2024-03-28T14:51:59.828524000 -> TriggerEvent(time=numpy.datetime64('2024-03-28T14:51:59.828524000'), type='bar', instrument='BTCUSDT', data={o:71469.970000 | h:71536.000000 | l:71374.420000 | c:71421.100000 | v:15304220.584761})\u001b[0m\n",
      "BTCUSDT[1Min] | 16 records\n",
      "  2024-03-28T14:51:00.000000000 {o:71469.970000 | h:71536.000000 | l:71374.420000 | c:71421.100000 | v:15304220.584761}\n",
      "  2024-03-28T14:50:00.000000000 {o:71330.010000 | h:71470.000000 | l:71313.720000 | c:71469.980000 | v:3675869.769574}\n",
      "  2024-03-28T14:49:00.000000000 {o:71387.600000 | h:71460.000000 | l:71313.440000 | c:71330.000000 | v:8215908.755125}\n",
      "   .......... \n",
      "  2024-03-28T14:38:00.000000000 {o:71270.000000 | h:71441.100000 | l:71262.050000 | c:71434.000000 | v:7334014.250422}\n",
      "  2024-03-28T14:37:00.000000000 {o:71298.470000 | h:71300.000000 | l:71198.000000 | c:71270.000000 | v:3409109.814485}\n",
      "  2024-03-28T14:36:00.000000000 {o:71392.000000 | h:71392.010000 | l:71293.500000 | c:71298.470000 | v:4627866.606653}\n",
      "\n"
     ]
    }
   ],
   "source": [
    "ctx.start()"
   ]
  },
  {
   "cell_type": "code",
   "execution_count": 220,
   "metadata": {},
   "outputs": [
    {
     "name": "stdout",
     "output_type": "stream",
     "text": [
      "\u001b[32m2024-03-28 16:53:14.170\u001b[0m [ \u001b[1mℹ️\u001b[0m ] \u001b[1mMarket data processing finished\u001b[0m\n"
     ]
    }
   ],
   "source": [
    "ctx.stop()"
   ]
  },
  {
   "cell_type": "code",
   "execution_count": 221,
   "metadata": {},
   "outputs": [
    {
     "data": {
      "text/plain": [
       "                         open     high       low     close        volume  \\\n",
       "timestamp                                                                  \n",
       "2024-03-28 14:30:00  71392.00  71480.0  71198.00  71362.00  2.099251e+07   \n",
       "2024-03-28 14:40:00  71362.00  71460.0  71090.00  71330.00  4.241520e+07   \n",
       "2024-03-28 14:50:00  71330.01  71536.0  71313.72  71445.21  2.482705e+07   \n",
       "\n",
       "                     bought_volume  \n",
       "timestamp                           \n",
       "2024-03-28 14:30:00   1.222542e+07  \n",
       "2024-03-28 14:40:00   2.338564e+07  \n",
       "2024-03-28 14:50:00   1.727301e+07  "
      ]
     },
     "execution_count": 221,
     "metadata": {},
     "output_type": "execute_result"
    }
   ],
   "source": [
    "ctx.ohlc('BTCUSDT', '10Min')"
   ]
  },
  {
   "cell_type": "code",
   "execution_count": 202,
   "metadata": {},
   "outputs": [],
   "source": [
    "await cc.exch.close()"
   ]
  },
  {
   "cell_type": "code",
   "execution_count": null,
   "metadata": {},
   "outputs": [],
   "source": [
    "# cc.close()"
   ]
  },
  {
   "cell_type": "markdown",
   "metadata": {},
   "source": [
    "<hr/>"
   ]
  },
  {
   "cell_type": "markdown",
   "metadata": {},
   "source": [
    "# Misc"
   ]
  },
  {
   "cell_type": "code",
   "execution_count": 105,
   "metadata": {},
   "outputs": [
    {
     "name": "stdout",
     "output_type": "stream",
     "text": [
      "The autoreload extension is already loaded. To reload it, use:\n",
      "  %reload_ext autoreload\n"
     ]
    }
   ],
   "source": [
    "%load_ext autoreload\n",
    "%autoreload 2\n",
    "\n",
    "from qubx.utils.time import convert_tf_str_td64\n",
    "from qubx.core.utils import recognize_time\n",
    "from qubx.core.strategy import OhlcvsHolder"
   ]
  },
  {
   "cell_type": "code",
   "execution_count": 136,
   "metadata": {},
   "outputs": [
    {
     "data": {
      "text/plain": [
       "Empty DataFrame\n",
       "Columns: [open, high, low, close, volume, bought_volume]\n",
       "Index: []"
      ]
     },
     "execution_count": 136,
     "metadata": {},
     "output_type": "execute_result"
    }
   ],
   "source": [
    "holder = OhlcvsHolder('1Min')\n",
    "holder.get_ohlcv('ETH', '1Min')\n",
    "holder.get_ohlcv('ETH', '5Min')"
   ]
  },
  {
   "cell_type": "code",
   "execution_count": 137,
   "metadata": {},
   "outputs": [
    {
     "data": {
      "text/plain": [
       "                     open  high  low  close  volume  bought_volume\n",
       "timestamp                                                         \n",
       "2020-01-01 00:00:00   1.0   1.0  1.0    1.0     1.0            0.0\n",
       "2020-01-01 00:01:00   1.0   4.0  1.0    3.0     2.0            1.0\n",
       "2020-01-01 00:03:00   1.0   4.0  1.0    3.0     2.0            1.0\n",
       "2020-01-01 00:04:00   1.0   4.0  1.0    3.0     2.0            1.0\n",
       "2020-01-01 00:05:00   1.0   4.0  1.0    3.0     2.0           11.0"
      ]
     },
     "execution_count": 137,
     "metadata": {},
     "output_type": "execute_result"
    }
   ],
   "source": [
    "holder.update_by_bar('ETH', Bar(recognize_time('2020-01-01 00:00'), 1, 1, 1, 1, 1))\n",
    "holder.update_by_bar('ETH', Bar(recognize_time('2020-01-01 00:01'), 1, 4, 1, 3, 2, 1))\n",
    "holder.update_by_bar('ETH', Bar(recognize_time('2020-01-01 00:03'), 1, 4, 1, 3, 2, 1))\n",
    "holder.update_by_bar('ETH', Bar(recognize_time('2020-01-01 00:03'), 1, 4, 1, 3, 2, 1))\n",
    "holder.update_by_bar('ETH', Bar(recognize_time('2020-01-01 00:04'), 1, 4, 1, 3, 2, 1))\n",
    "holder.update_by_bar('ETH', Bar(recognize_time('2020-01-01 00:05'), 1, 4, 1, 3, 2, 1))\n",
    "holder.update_by_bar('ETH', Bar(recognize_time('2020-01-01 00:05'), 1, 4, 1, 3, 2, 2))\n",
    "holder.update_by_bar('ETH', Bar(recognize_time('2020-01-01 00:05'), 1, 4, 1, 3, 2, 11))\n",
    "holder.update_by_bar('ETH', Bar(recognize_time('2020-01-01 00:05'), 1, 4, 1, 3, 2, 11))\n",
    "holder.get_ohlcv('ETH', '1Min')"
   ]
  },
  {
   "cell_type": "code",
   "execution_count": 138,
   "metadata": {},
   "outputs": [
    {
     "data": {
      "text/plain": [
       "                     open  high  low  close  volume  bought_volume\n",
       "timestamp                                                         \n",
       "2020-01-01 00:00:00   1.0   1.0  1.0    1.0     1.0            0.0\n",
       "2020-01-01 00:01:00   1.0   4.0  1.0    3.0     2.0            1.0\n",
       "2020-01-01 00:03:00   1.0   4.0  1.0    3.0     2.0            1.0\n",
       "2020-01-01 00:04:00   1.0   4.0  1.0    3.0     2.0            1.0\n",
       "2020-01-01 00:05:00   1.0   4.0  1.0    3.0     2.0           11.0"
      ]
     },
     "execution_count": 138,
     "metadata": {},
     "output_type": "execute_result"
    }
   ],
   "source": [
    "holder.get_ohlcv('ETH', '1Min')"
   ]
  },
  {
   "cell_type": "code",
   "execution_count": 129,
   "metadata": {},
   "outputs": [
    {
     "data": {
      "text/plain": [
       "                     open  high  low  close  volume  bought_volume\n",
       "timestamp                                                         \n",
       "2020-01-01 00:00:00   1.0   4.0  1.0    3.0     7.0            3.0\n",
       "2020-01-01 00:05:00   1.0   4.0  1.0    3.0     2.0           11.0"
      ]
     },
     "execution_count": 129,
     "metadata": {},
     "output_type": "execute_result"
    }
   ],
   "source": [
    "holder.get_ohlcv('ETH', '5Min')"
   ]
  },
  {
   "cell_type": "code",
   "execution_count": null,
   "metadata": {},
   "outputs": [],
   "source": [
    "# OHLCV.test = lambda self: print(\"TETET\")"
   ]
  },
  {
   "cell_type": "code",
   "execution_count": 3,
   "metadata": {},
   "outputs": [],
   "source": [
    "from qubx.core.series import TimeSeries, Bar, Trade, Quote, OHLCV"
   ]
  },
  {
   "cell_type": "code",
   "execution_count": 8,
   "metadata": {},
   "outputs": [
    {
     "data": {
      "text/plain": [
       "1"
      ]
     },
     "execution_count": 8,
     "metadata": {},
     "output_type": "execute_result"
    }
   ],
   "source": [
    "ser0 = OHLCV('test', '5Min')\n",
    "ser0.update_by_bar(recognize_time('2020-01-01 00:00:00').item(), 1, 1, 1, 1, 10, 1)\n",
    "ser0.update_by_bar(recognize_time('2020-01-01 00:01:00').item(), 2, 2, 2, 2, 1, 2)\n",
    "ser0.update_by_bar(recognize_time('2020-01-01 00:06:00').item(), 1, 2, 2, 2, 10)"
   ]
  },
  {
   "cell_type": "code",
   "execution_count": 9,
   "metadata": {},
   "outputs": [
    {
     "data": {
      "text/plain": [
       "                     open  high  low  close  volume  bought_volume\n",
       "timestamp                                                         \n",
       "2020-01-01 00:00:00   1.0   2.0  1.0    2.0    11.0            3.0\n",
       "2020-01-01 00:05:00   1.0   2.0  2.0    2.0    10.0            0.0"
      ]
     },
     "execution_count": 9,
     "metadata": {},
     "output_type": "execute_result"
    }
   ],
   "source": [
    "ser0"
   ]
  }
 ],
 "metadata": {
  "kernelspec": {
   "display_name": "p311qbx",
   "language": "python",
   "name": "python3"
  },
  "language_info": {
   "codemirror_mode": {
    "name": "ipython",
    "version": 3
   },
   "file_extension": ".py",
   "mimetype": "text/x-python",
   "name": "python",
   "nbconvert_exporter": "python",
   "pygments_lexer": "ipython3",
   "version": "3.11.8"
  }
 },
 "nbformat": 4,
 "nbformat_minor": 2
}
