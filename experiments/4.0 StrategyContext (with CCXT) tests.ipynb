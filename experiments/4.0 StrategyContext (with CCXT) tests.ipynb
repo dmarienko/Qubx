{
 "cells": [
  {
   "cell_type": "code",
   "execution_count": 8,
   "metadata": {
    "metadata": {}
   },
   "outputs": [
    {
     "name": "stdout",
     "output_type": "stream",
     "text": [
      " >  [\u001b[32mdev\u001b[0m] \u001b[31minstalling cython rebuilding hook\u001b[0m\n",
      "The autoreload extension is already loaded. To reload it, use:\n",
      "  %reload_ext autoreload\n"
     ]
    }
   ],
   "source": [
    "import sys, os, re; sys.path = ([\"../src/\", \"../\"] if re.match(r'^(\\w\\:\\\\)|(/)', os.getcwd()) else [])+ sys.path \n",
    "\n",
    "import ccxt as cx\n",
    "from typing import Any, Optional, List\n",
    "import ccxt.pro as cxp\n",
    "from ccxt.base.decimal_to_precision import ROUND_UP\n",
    "import asyncio\n",
    "import nest_asyncio\n",
    "nest_asyncio.apply()\n",
    "from ccxt.base.exchange import Exchange\n",
    "\n",
    "import configparser\n",
    "\n",
    "import qubx\n",
    "%qubxd dev\n",
    "\n",
    "%load_ext autoreload\n",
    "%autoreload 2\n",
    "\n",
    "from qubx import lookup, logger\n",
    "from qubx.core.series import TimeSeries, Bar, Trade, Quote, OHLCV, time_as_nsec\n",
    "from qubx.pandaz import scols, ohlc_resample\n",
    "from qubx.core.strategy import IStrategy, StrategyContext, TriggerEvent\n",
    "from qubx.core.basics import Instrument, Position, Signal, TransactionCostsCalculator, CtrlChannel\n",
    "from qubx.impl.ccxt_connector import CCXTConnector, BinanceQV\n",
    "from qubx.pandaz import ohlc_resample\n",
    "from qubx.utils.runner import get_account_config"
   ]
  },
  {
   "cell_type": "markdown",
   "metadata": {},
   "source": [
    "# Common"
   ]
  },
  {
   "cell_type": "code",
   "execution_count": 97,
   "metadata": {},
   "outputs": [
    {
     "data": {
      "text/plain": [
       "[Instrument(symbol='BTC/USD:BTC', market_type='swap', exchange='KRAKEN.F', base='BTC', quote='USD', margin_symbol='BTC', min_tick=0.5, min_size_step=0.5, min_size=1.0, futures_info=FuturesInfo(contract_type='futures_inverse', delivery_date=datetime.datetime(2100, 1, 1, 0, 0), onboard_date=datetime.datetime(2018, 8, 31, 0, 0), contract_size=1.0, maint_margin=0.01, required_margin=0.02, liquidation_fee=0.0), _aux_instrument=None),\n",
       " Instrument(symbol='BTC/USD:USD', market_type='swap', exchange='KRAKEN.F', base='BTC', quote='USD', margin_symbol='USD', min_tick=1.0, min_size_step=1.0, min_size=0.0001, futures_info=FuturesInfo(contract_type='flexible_futures', delivery_date=datetime.datetime(2100, 1, 1, 0, 0), onboard_date=datetime.datetime(2022, 3, 22, 13, 15, 36), contract_size=1.0, maint_margin=0.01, required_margin=0.02, liquidation_fee=0.0), _aux_instrument=None),\n",
       " Instrument(symbol='BTC/USD:BTC-240329', market_type='future', exchange='KRAKEN.F', base='BTC', quote='USD', margin_symbol='BTC', min_tick=0.5, min_size_step=0.5, min_size=1.0, futures_info=FuturesInfo(contract_type='futures_inverse', delivery_date=datetime.datetime(2100, 1, 1, 0, 0), onboard_date=datetime.datetime(2023, 8, 25, 15, 0, 2), contract_size=1.0, maint_margin=0.01, required_margin=0.02, liquidation_fee=0.0), _aux_instrument=None),\n",
       " Instrument(symbol='BTC/USD:BTC-240628', market_type='future', exchange='KRAKEN.F', base='BTC', quote='USD', margin_symbol='BTC', min_tick=0.5, min_size_step=0.5, min_size=1.0, futures_info=FuturesInfo(contract_type='futures_inverse', delivery_date=datetime.datetime(2100, 1, 1, 0, 0), onboard_date=datetime.datetime(2023, 11, 24, 16, 0, 1), contract_size=1.0, maint_margin=0.01, required_margin=0.02, liquidation_fee=0.0), _aux_instrument=None),\n",
       " Instrument(symbol='BTC/USD:USD-240628', market_type='future', exchange='KRAKEN.F', base='BTC', quote='USD', margin_symbol='USD', min_tick=1.0, min_size_step=1.0, min_size=0.0001, futures_info=FuturesInfo(contract_type='flexible_futures', delivery_date=datetime.datetime(2100, 1, 1, 0, 0), onboard_date=datetime.datetime(2024, 2, 23, 8, 0), contract_size=1.0, maint_margin=0.01, required_margin=0.02, liquidation_fee=0.0), _aux_instrument=None),\n",
       " Instrument(symbol='BTC/USD:BTC-240927', market_type='future', exchange='KRAKEN.F', base='BTC', quote='USD', margin_symbol='BTC', min_tick=0.5, min_size_step=0.5, min_size=1.0, futures_info=FuturesInfo(contract_type='futures_inverse', delivery_date=datetime.datetime(2100, 1, 1, 0, 0), onboard_date=datetime.datetime(2024, 2, 23, 16, 0, 1), contract_size=1.0, maint_margin=0.01, required_margin=0.02, liquidation_fee=0.0), _aux_instrument=None),\n",
       " Instrument(symbol='BTC/USD:USD-240426', market_type='future', exchange='KRAKEN.F', base='BTC', quote='USD', margin_symbol='USD', min_tick=1.0, min_size_step=1.0, min_size=0.0001, futures_info=FuturesInfo(contract_type='flexible_futures', delivery_date=datetime.datetime(2100, 1, 1, 0, 0), onboard_date=datetime.datetime(2024, 3, 29, 8, 0), contract_size=1.0, maint_margin=0.01, required_margin=0.02, liquidation_fee=0.0), _aux_instrument=None),\n",
       " Instrument(symbol='BTC/USD:USD-240927', market_type='future', exchange='KRAKEN.F', base='BTC', quote='USD', margin_symbol='USD', min_tick=1.0, min_size_step=1.0, min_size=0.0001, futures_info=FuturesInfo(contract_type='flexible_futures', delivery_date=datetime.datetime(2100, 1, 1, 0, 0), onboard_date=datetime.datetime(2024, 3, 29, 8, 0), contract_size=1.0, maint_margin=0.01, required_margin=0.02, liquidation_fee=0.0), _aux_instrument=None)]"
      ]
     },
     "execution_count": 97,
     "metadata": {},
     "output_type": "execute_result"
    }
   ],
   "source": [
    "lookup.instruments['KRAKEN.F:BTC/USD']"
   ]
  },
  {
   "cell_type": "code",
   "execution_count": 98,
   "metadata": {},
   "outputs": [
    {
     "data": {
      "text/plain": [
       "Instrument(symbol='BTCUSDT', market_type='CRYPTO', exchange='BINANCE.UM', base='BTC', quote='USDT', margin_symbol='USDT', min_tick=0.1, min_size_step=0.001, min_size=0.001, futures_info=FuturesInfo(contract_type='PERPETUAL', delivery_date=datetime.datetime(2100, 12, 25, 10, 0), onboard_date=datetime.datetime(2019, 9, 25, 11, 0), contract_size=1.0, maint_margin=2.5, required_margin=5.0, liquidation_fee=0.0125), _aux_instrument=None)"
      ]
     },
     "execution_count": 98,
     "metadata": {},
     "output_type": "execute_result"
    }
   ],
   "source": [
    "instr = lookup.instruments.find('BINANCE.UM', 'BTC', 'USDT')\n",
    "instr"
   ]
  },
  {
   "cell_type": "code",
   "execution_count": 99,
   "metadata": {},
   "outputs": [
    {
     "data": {
      "text/plain": [
       "Instrument(symbol='ETH/BTC', market_type='spot', exchange='KRAKEN', base='ETH', quote='BTC', margin_symbol=None, min_tick=1e-05, min_size_step=1e-05, min_size=1e-08, futures_info=None, _aux_instrument=None)"
      ]
     },
     "execution_count": 99,
     "metadata": {},
     "output_type": "execute_result"
    }
   ],
   "source": [
    "instr = lookup.instruments.find('KRAKEN', 'BTC', 'ETH')\n",
    "instr"
   ]
  },
  {
   "cell_type": "code",
   "execution_count": 100,
   "metadata": {},
   "outputs": [
    {
     "data": {
      "text/plain": [
       "Instrument(symbol='BTC/USD', market_type='spot', exchange='KRAKEN', base='BTC', quote='USD', margin_symbol=None, min_tick=0.1, min_size_step=0.1, min_size=1e-08, futures_info=None, _aux_instrument=None)"
      ]
     },
     "execution_count": 100,
     "metadata": {},
     "output_type": "execute_result"
    }
   ],
   "source": [
    "lookup.find_aux_instrument_for(instr, 'USD')"
   ]
  },
  {
   "cell_type": "code",
   "execution_count": 101,
   "metadata": {},
   "outputs": [],
   "source": [
    "bu = cxp.binanceusdm()\n",
    "bs = cxp.binance()\n",
    "ks = cxp.kraken()\n",
    "kf = cxp.krakenfutures()"
   ]
  },
  {
   "cell_type": "markdown",
   "metadata": {},
   "source": [
    "# Get OHLC [TODO]"
   ]
  },
  {
   "cell_type": "code",
   "execution_count": 102,
   "metadata": {},
   "outputs": [],
   "source": [
    "bs_markets = await bs.load_markets()\n",
    "bu_markets = await bu.load_markets()\n",
    "kf_markets = await kf.load_markets()\n",
    "ks_markets = await ks.load_markets()"
   ]
  },
  {
   "cell_type": "code",
   "execution_count": null,
   "metadata": {},
   "outputs": [
    {
     "data": {
      "text/plain": [
       "60"
      ]
     },
     "execution_count": 53,
     "metadata": {},
     "output_type": "execute_result"
    }
   ],
   "source": [
    "bu.parse_timeframe('1m')"
   ]
  },
  {
   "cell_type": "code",
   "execution_count": null,
   "metadata": {},
   "outputs": [],
   "source": [
    "interval = bu.parse_timeframe('1m') * 1000\n",
    "orderbook_max_levels_limit = 100\n",
    "since = bu.round_timeframe('1m', bu.milliseconds(), ROUND_UP) - orderbook_max_levels_limit * interval\n",
    "await bu.fetch_ohlcv('ETH/USDT', '1m', since=since, limit=orderbook_max_levels_limit)"
   ]
  },
  {
   "cell_type": "code",
   "execution_count": null,
   "metadata": {},
   "outputs": [],
   "source": [
    "# await bnc1.fetch_ohlcv('ETH/USDT', '1m', since=since, limit=limit)"
   ]
  },
  {
   "cell_type": "markdown",
   "metadata": {},
   "source": [
    "# <font color='#ff0000'>Listen to data experiments</font>"
   ]
  },
  {
   "cell_type": "code",
   "execution_count": null,
   "metadata": {},
   "outputs": [],
   "source": [
    "import asyncio\n",
    "# from multiprocessing import Queue, Process, Event, Lock\n",
    "from threading import Thread, Event, Lock\n",
    "from queue import Queue\n",
    "# from multiprocessing import Queue, Process, Event, Lock\n",
    "from concurrent.futures import ThreadPoolExecutor, ProcessPoolExecutor"
   ]
  },
  {
   "cell_type": "code",
   "execution_count": null,
   "metadata": {},
   "outputs": [],
   "source": [
    "class TestExch:\n",
    "    def __init__(self, exch: Exchange) -> None:\n",
    "        self.exchange = exch\n",
    "        self.loop = asyncio.get_running_loop()\n",
    "\n",
    "    async def listen_to_trades(self, channel: CtrlChannel, symbols: List[str]):\n",
    "        print(\"Start watch_trades_for_symbols ...\")\n",
    "        data = asyncio.run(self.fetch_ohlcs(symbols[0], '1m', 10))\n",
    "        print('INIT:', data)\n",
    "\n",
    "        while channel.control.is_set():\n",
    "            try:\n",
    "                trades = await self.exchange.watch_trades_for_symbols(symbols)\n",
    "                for trade in trades:\n",
    "                    t_ns = trade['timestamp'] * 1_000_000 # this is trade time \n",
    "                    s, info, price, amnt = trade['symbol'], trade['info'], trade['price'], trade['amount']\n",
    "                    m = info['m']\n",
    "                    tas = Trade(t_ns, price, amnt, int(not m), int(trade['id']))\n",
    "                    channel.queue.put((s, tas))\n",
    "            except Exception as e:\n",
    "                print(type(e).__name__, str(e), flush=True)\n",
    "                await self.exchange.close()\n",
    "                raise e\n",
    "        print(\"Stop watch_trades_for_symbols\")\n",
    "\n",
    "    async def listen_to_orderbook(self, channel: CtrlChannel, symbols: List[str], orderbook_max_levels_limit=5):\n",
    "        while channel.control.is_set():\n",
    "            try:\n",
    "                orderbook = await self.exchange.watch_order_book_for_symbols(symbols, limit=orderbook_max_levels_limit)\n",
    "                t_ns = orderbook['timestamp'] * 1_000_000\n",
    "                s, b, a = orderbook['symbol'], orderbook['bids'], orderbook['asks']\n",
    "                q = Quote(t_ns, b[0][0], a[0][0], b[0][1], a[0][1])\n",
    "                channel.queue.put((s, q))\n",
    "            except Exception as e:\n",
    "                print(type(e).__name__, str(e), flush=True)\n",
    "                await self.exchange.close()\n",
    "                raise e\n",
    "\n",
    "    async def fetch_ohlcs(self, symbol: str, timeframe: str, nbarsback: int):\n",
    "        start = ((pd.Timestamp('now', tz='UTC') - nbarsback * pd.Timedelta(timeframe)).asm8.item()//1000000) if nbarsback > 1 else None \n",
    "        print(\"> START fetching OHLCV...\")\n",
    "        return await self.exchange.fetch_ohlcv(symbol, timeframe, since=start, limit=nbarsback + 1)\n",
    "\n",
    "    async def receiver(self, channel: CtrlChannel):\n",
    "        sers = {}\n",
    "        print(\">>> START LISTENING\", flush=True)\n",
    "        T, Q = 0, 0\n",
    "        while channel.control.is_set():\n",
    "            s, data = channel.queue.get()\n",
    "            if isinstance(data, Quote):\n",
    "                if not (Q % 100):\n",
    "                    print(s, data, flush=True)\n",
    "                    Q = 0\n",
    "                Q += 1\n",
    "            if isinstance(data, Trade):\n",
    "                if s not in sers:\n",
    "                    sers[s] = TimeSeries(s, '1Min')\n",
    "                ts = sers[s]\n",
    "                ts.update(data.time, data.price)\n",
    "                if not (T % 200):\n",
    "                    print(s, data, flush=True)\n",
    "                    T = 0\n",
    "                    print(\"--- Send request for OHLCV ...\")\n",
    "                    t1 = self.loop.create_task(self.fetch_ohlcs(s, '1m', 10))\n",
    "                    while not t1.done():\n",
    "                        await asyncio.sleep(0.01)\n",
    "                    print(\"DATA: \", t1.result())\n",
    "                    # print(\"DATA: \", data)\n",
    "                T += 1\n",
    "            if isinstance(data, Bar):\n",
    "                # print(f\"{s} {pd.Timestamp(data.time, unit='ns')}: {data}\", flush=True)\n",
    "                if s not in sers:\n",
    "                    sers[s] = {}\n",
    "                sers[s][data.time] = data\n",
    "\n",
    "        print(f\">>> STOP LISTENING: {str(sers)}\", flush=True)\n",
    "        return sers "
   ]
  },
  {
   "cell_type": "code",
   "execution_count": null,
   "metadata": {},
   "outputs": [],
   "source": [
    "ctx = TestExch(BinanceQV())"
   ]
  },
  {
   "cell_type": "code",
   "execution_count": null,
   "metadata": {},
   "outputs": [],
   "source": [
    "ch = CtrlChannel('A')\n",
    "rn0 = AsyncioThreadRunner(ch)"
   ]
  },
  {
   "cell_type": "code",
   "execution_count": null,
   "metadata": {},
   "outputs": [
    {
     "name": "stdout",
     "output_type": "stream",
     "text": [
      ">>> START LISTENING\n"
     ]
    },
    {
     "name": "stdout",
     "output_type": "stream",
     "text": [
      "Start watch_trades_for_symbols ...\n",
      "> START fetching OHLCV...\n",
      "> START fetching OHLCV...\n",
      "INIT: [[1711971720000, 69443.7, 69443.71, 69440.0, 69440.0, 5.89833, 409586.5446374, 271984.9707982], [1711971780000, 69440.01, 69500.0, 69440.0, 69490.01, 20.01146, 1390074.529704, 1036310.850841], [1711971840000, 69490.01, 69540.0, 69490.0, 69510.96, 14.81056, 1029563.0785195, 493610.8801056], [1711971900000, 69510.96, 69570.83, 69500.0, 69554.09, 19.08319, 1327018.2596471, 962626.2588972], [1711971960000, 69554.08, 69554.09, 69519.99, 69520.0, 9.45391, 657416.3889968, 251547.7517552], [1711972020000, 69519.99, 69520.0, 69498.41, 69498.41, 12.73967, 885420.2214033, 387573.7884844], [1711972080000, 69498.42, 69498.42, 69480.32, 69480.33, 5.39792, 375095.2328076, 60109.1915999], [1711972140000, 69480.32, 69480.33, 69455.79, 69456.19, 15.11164, 1049695.3534969, 121858.6134701], [1711972200000, 69456.19, 69480.0, 69456.18, 69480.0, 15.69416, 1090305.8098581, 979757.3004303], [1711972260000, 69479.99, 69480.0, 69479.99, 69479.99, 0.15835, 11002.1565358, 828.8964]]\n",
      "BTC/USDT [2024-04-01T11:51:06.708000000]\t69480.00000 (0.0) <take> 3524824162\n",
      "--- Send request for OHLCV ...\n",
      "> START fetching OHLCV...\n",
      "DATA:  [[1711971720000, 69443.7, 69443.71, 69440.0, 69440.0, 5.89833, 409586.5446374, 271984.9707982], [1711971780000, 69440.01, 69500.0, 69440.0, 69490.01, 20.01146, 1390074.529704, 1036310.850841], [1711971840000, 69490.01, 69540.0, 69490.0, 69510.96, 14.81056, 1029563.0785195, 493610.8801056], [1711971900000, 69510.96, 69570.83, 69500.0, 69554.09, 19.08319, 1327018.2596471, 962626.2588972], [1711971960000, 69554.08, 69554.09, 69519.99, 69520.0, 9.45391, 657416.3889968, 251547.7517552], [1711972020000, 69519.99, 69520.0, 69498.41, 69498.41, 12.73967, 885420.2214033, 387573.7884844], [1711972080000, 69498.42, 69498.42, 69480.32, 69480.33, 5.39792, 375095.2328076, 60109.1915999], [1711972140000, 69480.32, 69480.33, 69455.79, 69456.19, 15.11164, 1049695.3534969, 121858.6134701], [1711972200000, 69456.19, 69480.0, 69456.18, 69480.0, 15.69416, 1090305.8098581, 979757.3004303], [1711972260000, 69479.99, 69480.0, 69479.99, 69480.0, 0.73336, 50953.8462221, 5250.6036]]\n",
      "Stop watch_trades_for_symbols\n"
     ]
    }
   ],
   "source": [
    "loop = asyncio.get_running_loop()\n",
    "t0 = loop.create_task(ctx.listen_to_trades(ch, ['BTCUSDT']))\n",
    "t1 = loop.create_task(ctx.fetch_ohlcs('BTCUSDT', '1m', 10))\n",
    "rn0.add( ctx.receiver)\n",
    "rn0.start()\n",
    "\n",
    "# c2 = await loop.run_in_executor(pool2, ctx.listen_to_trades, ch, ['BTCUSDT'])\n",
    "# await asyncio.gather(c1, c2)"
   ]
  },
  {
   "cell_type": "code",
   "execution_count": null,
   "metadata": {},
   "outputs": [
    {
     "name": "stdout",
     "output_type": "stream",
     "text": [
      ">>> STOP LISTENING: {'BTC/USDT': 2024-04-01 11:51:00    69479.99\n",
      "Name: BTC/USDT, dtype: float64}\n"
     ]
    }
   ],
   "source": [
    "ch.stop()"
   ]
  },
  {
   "cell_type": "code",
   "execution_count": null,
   "metadata": {},
   "outputs": [
    {
     "name": "stdout",
     "output_type": "stream",
     "text": [
      "BTC/USDT [2024-04-01T11:24:49.455000000]\t69610.01000 (0.0) <take> 3524799974\n",
      "--- Send request for OHLCV ...\n",
      "> START fetching OHLCV...\n",
      "DATA:  [[1711970100000, 69724.01, 69724.01, 69700.01, 69709.76, 14.86888, 1036521.5927524, 617810.9342986], [1711970160000, 69709.76, 69723.88, 69709.75, 69720.78, 11.73767, 818351.0562077, 269665.2146643], [1711970220000, 69720.78, 69760.0, 69700.23, 69700.24, 33.50795, 2336411.6094154, 1296220.2618832], [1711970280000, 69700.23, 69710.28, 69692.02, 69693.7, 17.94041, 1250488.2348796, 511502.5382097], [1711970340000, 69693.7, 69693.7, 69660.36, 69660.49, 7.59259, 529021.1224605, 168510.3359819], [1711970400000, 69660.48, 69672.0, 69620.78, 69620.78, 21.80716, 1519151.1035091, 490904.8042106], [1711970460000, 69620.79, 69630.97, 69617.65, 69630.96, 13.73049, 955991.950191, 468183.1579287], [1711970520000, 69630.96, 69648.0, 69620.0, 69632.69, 22.78384, 1586433.187442, 1058745.1291371], [1711970580000, 69632.68, 69650.18, 69632.68, 69650.18, 14.06183, 979353.4547637, 756256.0373189], [1711970640000, 69650.18, 69650.18, 69610.0, 69610.01, 19.44822, 1354319.9348891, 326514.752013]]\n"
     ]
    }
   ],
   "source": [
    "# rn0.stop()\n",
    "# rn1.stop()"
   ]
  },
  {
   "cell_type": "code",
   "execution_count": null,
   "metadata": {},
   "outputs": [],
   "source": [
    "def prefetch_ohlcs(exchange: Exchange, symbol: str, timeframe: str, nbarsback: int):\n",
    "    assert nbarsback > 1\n",
    "    start = ((pd.Timestamp('now', tz='UTC') - nbarsback * pd.Timedelta(timeframe)).asm8.item()//1000000) if nbarsback > 1 else None \n",
    "    ohlcv = exchange.fetch_ohlcv(symbol, timeframe, since=start, limit=nbarsback + 1)\n",
    "    return ohlcv\n",
    "\n",
    "async def listen_to_ohlcv(channel: CtrlChannel, exchange: Exchange, \n",
    "                          symbol: List[str], timeframe: str, nbarsback: int):\n",
    "    # - check if we need to load initial 'snapshot'\n",
    "    if nbarsback > 1:\n",
    "        ohlcv = await prefetch_ohlcs(exchange, symbol, timeframe, nbarsback)\n",
    "        for oh in ohlcv:\n",
    "            b = Bar(oh[0] * 1_000_000, oh[1], oh[2], oh[3], oh[4], oh[6], oh[7])\n",
    "            channel.queue.put((symbol, b))\n",
    "\n",
    "    while channel.control.is_set():\n",
    "        try:\n",
    "            ohlcv = await exchange.watch_ohlcv(symbol, timeframe)\n",
    "            for oh in ohlcv:\n",
    "                b = Bar(oh[0] * 1000000, oh[1], oh[2], oh[3], oh[4], oh[6], oh[7])\n",
    "                channel.queue.put((symbol, b))\n",
    "        except Exception as e:\n",
    "            print(type(e).__name__, str(e), flush=True)\n",
    "            await exchange.close()\n",
    "            raise e"
   ]
  },
  {
   "cell_type": "code",
   "execution_count": null,
   "metadata": {},
   "outputs": [],
   "source": [
    "symbs = ['1INCHUSDT', 'AGLDUSDT', 'APEUSDT', 'ARBUSDT', 'AUCTIONUSDT', 'BANDUSDT', 'BATUSDT', 'C98USDT', 'COMPUSDT', 'CYBERUSDT',\n",
    "        'DYDXUSDT', 'ENSUSDT', 'FXSUSDT', 'HFTUSDT', 'ICXUSDT', 'IOSTUSDT', 'IOTAUSDT', 'IOTXUSDT', 'LDOUSDT', 'LQTYUSDT', 'LTCUSDT',\n",
    "        'MASKUSDT', 'MBOXUSDT', 'MINAUSDT', 'MTLUSDT', 'OGNUSDT', 'OPUSDT', 'PEOPLEUSDT', 'POLSUSDT', 'PYRUSDT', 'QNTUSDT', 'RADUSDT',\n",
    "        'RDNTUSDT', 'RIFUSDT', 'RLCUSDT', 'SEIUSDT', 'SPELLUSDT', 'SSVUSDT', 'STGUSDT', 'STXUSDT', 'SUIUSDT', 'UMAUSDT', 'WAVESUSDT']"
   ]
  },
  {
   "cell_type": "code",
   "execution_count": null,
   "metadata": {},
   "outputs": [
    {
     "name": "stdout",
     "output_type": "stream",
     "text": [
      "START LISTENING\n"
     ]
    }
   ],
   "source": [
    "# chan = CtrlChannel('ticks')\n",
    "# reader = RunThread(chan)\n",
    "# reader.add(receiver)\n",
    "# reader.start()"
   ]
  },
  {
   "cell_type": "code",
   "execution_count": null,
   "metadata": {},
   "outputs": [],
   "source": [
    "# bu = cxp.binanceusdm()\n",
    "# bu = cxp.binance()\n",
    "# bu = BinanceQV()\n",
    "# bu = getattr(cxp, 'binanceqv')()\n",
    "# t1 = RunThread(chan)\n",
    "# for s in symbs:\n",
    "#     t1.add(listen_to_ohlcv, bu, s, '15m', 10)\n",
    "\n",
    "# t1.add(listen_to_ohlcv, bu, 'BTCUSDT', '5m', 10)\n",
    "# t1.add(listen_to_ohlcv, bu, 'ETHUSDT', '5m', 10)\n",
    "# t1.add(listen_to_ohlcv, bu, 'LTCUSDT', '5m', 10)\n",
    "# t1.add(listen_to_ohlcv, bu, 'SOLUSDT', '5m', 10)\n",
    "# t1.add(listen_to_trades, bu, ['BTCUSDT', 'ETHUSDT', 'SOLUSDT'])\n",
    "# t1.add(listen_to_orderbook, bu, ['BTCUSDT', 'ETHUSDT', 'SOLUSDT'])\n",
    "# t1.start()"
   ]
  },
  {
   "cell_type": "code",
   "execution_count": null,
   "metadata": {},
   "outputs": [],
   "source": [
    "reader.stop()\n",
    "t1.stop()"
   ]
  },
  {
   "cell_type": "code",
   "execution_count": null,
   "metadata": {},
   "outputs": [],
   "source": [
    "print(len(reader.result[0]), len(symbs))\n",
    "reader.result[0]"
   ]
  },
  {
   "cell_type": "markdown",
   "metadata": {},
   "source": [
    "# StrategyCtx"
   ]
  },
  {
   "cell_type": "code",
   "execution_count": null,
   "metadata": {
    "metadata": {}
   },
   "outputs": [],
   "source": [
    "%load_ext autoreload\n",
    "%autoreload 2\n",
    "\n",
    "from qubx.core.basics import Instrument, Position, Signal, Order\n",
    "from qubx.core.strategy import IStrategy, StrategyContext, TriggerEvent"
   ]
  },
  {
   "cell_type": "code",
   "execution_count": 31,
   "metadata": {
    "metadata": {}
   },
   "outputs": [],
   "source": [
    "class ZeroStrat(IStrategy):\n",
    "    param1: int = 0\n",
    "\n",
    "    def on_start(self, ctx: StrategyContext):\n",
    "        logger.info(f\"> Started with param1 = {self.param1}\")\n",
    "\n",
    "    def on_event(self, ctx: StrategyContext, event: TriggerEvent) -> Optional[List[Signal]]:\n",
    "        # xs = scols(*[ctx.ohlc(s, '1Min').pd()['close'].rename(s.symbol) for s in ctx.instruments])\n",
    "        # print(xs)\n",
    "        # data = ctx.data_provider.get_historical_ohlcs('ACAUSDT', '1Min', 10)\n",
    "        # print(data)\n",
    "\n",
    "        for i in ctx.instruments:\n",
    "            print(str(ctx.positions[i.symbol]))\n",
    "\n",
    "        print('- ' * 30)\n",
    "        for o in ctx.exchange_service.get_orders():\n",
    "            print(o)\n",
    "\n",
    "        print('- ' * 30)\n",
    "\n",
    "        return None\n",
    "\n",
    "    def on_stop(self, ctx: StrategyContext):\n",
    "        logger.info(f\"> stopped\")"
   ]
  },
  {
   "cell_type": "code",
   "execution_count": 32,
   "metadata": {
    "metadata": {}
   },
   "outputs": [
    {
     "name": "stdout",
     "output_type": "stream",
     "text": [
      "\u001b[32m2024-04-22 18:08:14.272\u001b[0m [ \u001b[1mℹ️\u001b[0m ] \u001b[1mBINANCE loading ...\u001b[0m\n",
      "\u001b[32m2024-04-22 18:08:23.018\u001b[0m [ \u001b[1mℹ️\u001b[0m ] \u001b[1mLoading account data for Binance\u001b[0m\n",
      "\u001b[32m2024-04-22 18:08:23.293\u001b[0m [ \u001b[1mℹ️\u001b[0m ] \u001b[1mBINANCE initialized - current time 2024-04-22T15:08:23.293218000\u001b[0m\n",
      "\u001b[32m2024-04-22 18:08:23.294\u001b[0m [ \u001b[1mℹ️\u001b[0m ] \u001b[1m > 0.048 of BNB is reserved from trading\u001b[0m\n",
      "\u001b[32m2024-04-22 18:08:23.303\u001b[0m [ \u001b[1mℹ️\u001b[0m ] \u001b[1mBINANCE initialized - current time 2024-04-22T15:08:23.303409000\u001b[0m\n"
     ]
    }
   ],
   "source": [
    "cc = CCXTConnector('binance', **get_account_config('binance-mde', 'configs/.env'))"
   ]
  },
  {
   "cell_type": "code",
   "execution_count": 33,
   "metadata": {
    "metadata": {}
   },
   "outputs": [
    {
     "name": "stdout",
     "output_type": "stream",
     "text": [
      "\u001b[32m2024-04-22 18:08:33.126\u001b[0m [ \u001b[1mℹ️\u001b[0m ] \u001b[1m(StrategyContext) set strategy parameters:\n",
      "\tset \u001b[32mparam1\u001b[0m\u001b[1m <- \u001b[31m123\u001b[0m\u001b[1m\u001b[0m\n"
     ]
    }
   ],
   "source": [
    "ctx = StrategyContext(\n",
    "    ZeroStrat(), dict(param1 = 123), cc, cc, \n",
    "    instruments=lookup.instruments[r'BINANCE:(ACA|ETH|LTC|SUSHI)USDT'],\n",
    "    md_subscription=dict(type='ohlc', timeframe='1Min', nback=10),\n",
    "    trigger=dict(type='bar', delay='-1s', timeframe='1Min')\n",
    ")"
   ]
  },
  {
   "cell_type": "code",
   "execution_count": null,
   "metadata": {
    "metadata": {}
   },
   "outputs": [
    {
     "name": "stdout",
     "output_type": "stream",
     "text": [
      "\u001b[32m2024-04-22 18:08:41.666\u001b[0m [ \u001b[1mℹ️\u001b[0m ] \u001b[1m(StrategyContext) Subscribing to ohlc updates using {'timeframe': '1Min', 'nback': 10} for \n",
      "\t['ETHUSDT', 'LTCUSDT', 'SUSHIUSDT', 'ACAUSDT'] \u001b[0m\n",
      "\u001b[32m2024-04-22 18:08:41.668\u001b[0m [ \u001b[1mℹ️\u001b[0m ] \u001b[1mSubscribed on ohlc updates for 4 symbols: \n",
      "\t\t['ETHUSDT', 'LTCUSDT', 'SUSHIUSDT', 'ACAUSDT']\u001b[0m\n",
      "\u001b[32m2024-04-22 18:08:41.671\u001b[0m [ \u001b[1mℹ️\u001b[0m ] \u001b[1m> Started with param1 = 123\u001b[0m\n",
      "\u001b[32m2024-04-22 18:08:41.673\u001b[0m [ \u001b[1mℹ️\u001b[0m ] \u001b[1m(StrategyContext) Start processing market data\u001b[0m\n",
      "\u001b[32m2024-04-22 18:08:41.692\u001b[0m [ \u001b[1mℹ️\u001b[0m ] \u001b[1m(StrategyContext) Market data processor started\u001b[0m\n"
     ]
    },
    {
     "name": "stdout",
     "output_type": "stream",
     "text": [
      "\u001b[32m2024-04-22 18:08:53.603\u001b[0m [ \u001b[31m\u001b[1m❌\u001b[0m ] \u001b[31m\u001b[1m(CCXTConnector) NetworkError in _listen_to_execution_reports : binance GET https://dapi.binance.com/dapi/v1/exchangeInfo\u001b[0m\n",
      "\u001b[32m2024-04-22 18:08:53.621\u001b[0m [ \u001b[31m\u001b[1m❌\u001b[0m ] \u001b[31m\u001b[1m(CCXTConnector) NetworkError in _listen_to_execution_reports : binance GET https://dapi.binance.com/dapi/v1/exchangeInfo\u001b[0m\n",
      "\u001b[32m2024-04-22 18:08:53.622\u001b[0m [ \u001b[31m\u001b[1m❌\u001b[0m ] \u001b[31m\u001b[1m(CCXTConnector) NetworkError in _listen_to_execution_reports : binance GET https://dapi.binance.com/dapi/v1/exchangeInfo\u001b[0m\n",
      "\u001b[32m2024-04-22 18:08:53.624\u001b[0m [ \u001b[31m\u001b[1m❌\u001b[0m ] \u001b[31m\u001b[1m(CCXTConnector) NetworkError in _listen_to_execution_reports : binance GET https://dapi.binance.com/dapi/v1/exchangeInfo\u001b[0m\n",
      "\u001b[32m2024-04-22 18:09:05.601\u001b[0m [ \u001b[31m\u001b[1m❌\u001b[0m ] \u001b[31m\u001b[1m(CCXTConnector) NetworkError in _listen_to_execution_reports : binance GET https://dapi.binance.com/dapi/v1/exchangeInfo\u001b[0m\n",
      "\u001b[32m2024-04-22 18:09:05.602\u001b[0m [ \u001b[31m\u001b[1m❌\u001b[0m ] \u001b[31m\u001b[1m(CCXTConnector) NetworkError in _listen_to_execution_reports : binance GET https://dapi.binance.com/dapi/v1/exchangeInfo\u001b[0m\n",
      "\u001b[32m2024-04-22 18:09:05.604\u001b[0m [ \u001b[31m\u001b[1m❌\u001b[0m ] \u001b[31m\u001b[1m(CCXTConnector) NetworkError in _listen_to_execution_reports : binance GET https://dapi.binance.com/dapi/v1/exchangeInfo\u001b[0m\n",
      "\u001b[32m2024-04-22 18:09:05.607\u001b[0m [ \u001b[31m\u001b[1m❌\u001b[0m ] \u001b[31m\u001b[1m(CCXTConnector) NetworkError in _listen_to_execution_reports : binance GET https://dapi.binance.com/dapi/v1/exchangeInfo\u001b[0m\n",
      "\u001b[32m2024-04-22 18:09:17.589\u001b[0m [ \u001b[31m\u001b[1m❌\u001b[0m ] \u001b[31m\u001b[1m(CCXTConnector) NetworkError in _listen_to_execution_reports : binance GET https://fapi.binance.com/fapi/v1/exchangeInfo\u001b[0m\n",
      "\u001b[32m2024-04-22 18:09:17.590\u001b[0m [ \u001b[31m\u001b[1m❌\u001b[0m ] \u001b[31m\u001b[1m(CCXTConnector) NetworkError in _listen_to_execution_reports : binance GET https://fapi.binance.com/fapi/v1/exchangeInfo\u001b[0m\n",
      "\u001b[32m2024-04-22 18:09:17.591\u001b[0m [ \u001b[31m\u001b[1m❌\u001b[0m ] \u001b[31m\u001b[1m(CCXTConnector) NetworkError in _listen_to_execution_reports : binance GET https://fapi.binance.com/fapi/v1/exchangeInfo\u001b[0m\n",
      "\u001b[32m2024-04-22 18:09:17.591\u001b[0m [ \u001b[31m\u001b[1m❌\u001b[0m ] \u001b[31m\u001b[1m(CCXTConnector) NetworkError in _listen_to_execution_reports : binance GET https://fapi.binance.com/fapi/v1/exchangeInfo\u001b[0m\n",
      "\u001b[32m2024-04-22 18:09:29.609\u001b[0m [ \u001b[31m\u001b[1m❌\u001b[0m ] \u001b[31m\u001b[1m(CCXTConnector) NetworkError in _listen_to_execution_reports : binance GET https://fapi.binance.com/fapi/v1/exchangeInfo\u001b[0m\n",
      "\u001b[32m2024-04-22 18:09:29.611\u001b[0m [ \u001b[31m\u001b[1m❌\u001b[0m ] \u001b[31m\u001b[1m(CCXTConnector) NetworkError in _listen_to_execution_reports : binance GET https://fapi.binance.com/fapi/v1/exchangeInfo\u001b[0m\n",
      "\u001b[32m2024-04-22 18:09:29.613\u001b[0m [ \u001b[31m\u001b[1m❌\u001b[0m ] \u001b[31m\u001b[1m(CCXTConnector) NetworkError in _listen_to_execution_reports : binance GET https://fapi.binance.com/fapi/v1/exchangeInfo\u001b[0m\n",
      "\u001b[32m2024-04-22 18:09:29.615\u001b[0m [ \u001b[31m\u001b[1m❌\u001b[0m ] \u001b[31m\u001b[1m(CCXTConnector) NetworkError in _listen_to_execution_reports : binance GET https://fapi.binance.com/fapi/v1/exchangeInfo\u001b[0m\n",
      "\u001b[32m2024-04-22 18:09:32.840\u001b[0m [ \u001b[1mℹ️\u001b[0m ] \u001b[1m(StrategyContext) Market data processing stopped\u001b[0m\n",
      "\u001b[32m2024-04-22 18:09:34.287\u001b[0m [ \u001b[31m\u001b[1m❌\u001b[0m ] \u001b[31m\u001b[1m(CCXTConnector) NetworkError in _listen_to_execution_reports : binance GET https://fapi.binance.com/fapi/v1/exchangeInfo\u001b[0m\n",
      "\u001b[32m2024-04-22 18:09:34.288\u001b[0m [ \u001b[31m\u001b[1m❌\u001b[0m ] \u001b[31m\u001b[1m(CCXTConnector) NetworkError in _listen_to_execution_reports : binance GET https://fapi.binance.com/fapi/v1/exchangeInfo\u001b[0m\n",
      "\u001b[32m2024-04-22 18:09:34.289\u001b[0m [ \u001b[31m\u001b[1m❌\u001b[0m ] \u001b[31m\u001b[1m(CCXTConnector) NetworkError in _listen_to_execution_reports : binance GET https://fapi.binance.com/fapi/v1/exchangeInfo\u001b[0m\n",
      "\u001b[32m2024-04-22 18:09:34.289\u001b[0m [ \u001b[31m\u001b[1m❌\u001b[0m ] \u001b[31m\u001b[1m(CCXTConnector) NetworkError in _listen_to_execution_reports : binance GET https://fapi.binance.com/fapi/v1/exchangeInfo\u001b[0m\n"
     ]
    }
   ],
   "source": [
    "ctx.start()"
   ]
  },
  {
   "cell_type": "code",
   "execution_count": 25,
   "metadata": {
    "metadata": {}
   },
   "outputs": [
    {
     "data": {
      "text/plain": [
       "'2024-04-22 15:05:04 [BINANCE:ACAUSDT]       0.00    0.0000    +0.0000 | 0.1212        0.00'"
      ]
     },
     "execution_count": 25,
     "metadata": {},
     "output_type": "execute_result"
    }
   ],
   "source": [
    "str(cc._positions['ACAUSDT'])"
   ]
  },
  {
   "cell_type": "code",
   "execution_count": 21,
   "metadata": {
    "metadata": {}
   },
   "outputs": [
    {
     "data": {
      "text/plain": [
       "0.0"
      ]
     },
     "execution_count": 21,
     "metadata": {},
     "output_type": "execute_result"
    }
   ],
   "source": [
    "cc._positions['ACAUSDT'].position_avg_price"
   ]
  },
  {
   "cell_type": "code",
   "execution_count": null,
   "metadata": {
    "metadata": {}
   },
   "outputs": [],
   "source": [
    "print(cc._balance['total']['USDT'], cc._balance['free']['USDT'], cc._balance['used']['USDT'])\n",
    "print(ctx.get_capital())"
   ]
  },
  {
   "cell_type": "code",
   "execution_count": 31,
   "metadata": {},
   "outputs": [],
   "source": [
    "# ctx.cancel('ACAUSDT')"
   ]
  },
  {
   "cell_type": "code",
   "execution_count": null,
   "metadata": {},
   "outputs": [],
   "source": [
    "# o = cc.send_order('ACAUSDT', 'buy', 'limit', 50, 0.1100)\n",
    "# o = cc.send_order('ACAUSDT', 'buy', 'market', 45)\n",
    "# o = ctx.trade('ACAUSDT', -45.0, 0.1540)\n",
    "# o"
   ]
  },
  {
   "cell_type": "code",
   "execution_count": 20,
   "metadata": {},
   "outputs": [
    {
     "data": {
      "text/plain": [
       "Order(id='149305126', type='LIMIT', symbol='ACAUSDT', time=Timestamp('2024-04-05 15:00:05.250000'), quantity=90.0, price=0.11, side='BUY', status='OPEN', time_in_force='GTC', client_id='x-R4BD3S82869d5b8d161342c6df322f', cost=0.0, execution=None)"
      ]
     },
     "execution_count": 20,
     "metadata": {},
     "output_type": "execute_result"
    }
   ],
   "source": [
    "# cc.cancel_order('149305126')"
   ]
  },
  {
   "cell_type": "code",
   "execution_count": 26,
   "metadata": {
    "metadata": {}
   },
   "outputs": [
    {
     "name": "stdout",
     "output_type": "stream",
     "text": [
      "47.71593027\n"
     ]
    }
   ],
   "source": [
    "print(ctx.get_capital())"
   ]
  },
  {
   "cell_type": "code",
   "execution_count": null,
   "metadata": {},
   "outputs": [],
   "source": [
    "# cc.get_quote('ACAUSDT')"
   ]
  },
  {
   "cell_type": "code",
   "execution_count": 35,
   "metadata": {
    "metadata": {}
   },
   "outputs": [
    {
     "name": "stdout",
     "output_type": "stream",
     "text": [
      "\u001b[32m2024-04-22 18:09:32.841\u001b[0m [ \u001b[1mℹ️\u001b[0m ] \u001b[1m> stopped\u001b[0m\n"
     ]
    },
    {
     "ename": "",
     "evalue": "",
     "output_type": "error",
     "traceback": [
      "\u001b[1;31mThe Kernel crashed while executing code in the current cell or a previous cell. \n",
      "\u001b[1;31mPlease review the code in the cell(s) to identify a possible cause of the failure. \n",
      "\u001b[1;31mClick <a href='https://aka.ms/vscodeJupyterKernelCrash'>here</a> for more info. \n",
      "\u001b[1;31mView Jupyter <a href='command:jupyter.viewOutput'>log</a> for further details."
     ]
    }
   ],
   "source": [
    "ctx.stop()\n",
    "cc.close()"
   ]
  },
  {
   "cell_type": "code",
   "execution_count": 27,
   "metadata": {},
   "outputs": [],
   "source": [
    "# cc.get_historical_ohlcs('BTCUSDT', '1m', 10)"
   ]
  },
  {
   "cell_type": "code",
   "execution_count": null,
   "metadata": {},
   "outputs": [],
   "source": [
    "# ctx.ohlc('SUSHIUSDT', '1Min')"
   ]
  },
  {
   "cell_type": "markdown",
   "metadata": {},
   "source": [
    "<hr/>"
   ]
  },
  {
   "cell_type": "markdown",
   "metadata": {},
   "source": [
    "# Initial account data reading"
   ]
  },
  {
   "cell_type": "code",
   "execution_count": 2,
   "metadata": {},
   "outputs": [
    {
     "name": "stdout",
     "output_type": "stream",
     "text": [
      "The autoreload extension is already loaded. To reload it, use:\n",
      "  %reload_ext autoreload\n"
     ]
    }
   ],
   "source": [
    "%load_ext autoreload\n",
    "%autoreload 2\n",
    "\n",
    "from qubx.core.basics import Instrument, Position, Signal\n",
    "from qubx.core.strategy import IStrategy, StrategyContext, TriggerEvent"
   ]
  },
  {
   "cell_type": "code",
   "execution_count": null,
   "metadata": {},
   "outputs": [],
   "source": [
    "# cc = CCXTConnector('binance', **get_account_auth('binance-mde'))"
   ]
  },
  {
   "cell_type": "code",
   "execution_count": 47,
   "metadata": {},
   "outputs": [
    {
     "name": "stdout",
     "output_type": "stream",
     "text": [
      "\u001b[32m2024-04-03 11:29:44.371\u001b[0m [ \u001b[1mℹ️\u001b[0m ] \u001b[1mLoading account data for Binance\u001b[0m\n",
      "\u001b[32m2024-04-03 11:29:48.223\u001b[0m [ \u001b[1mℹ️\u001b[0m ] \u001b[1mBINANCE initialized - current time 2024-04-03T08:29:48.223537000\u001b[0m\n"
     ]
    }
   ],
   "source": [
    "bnc = CCXTConnector('binance', **get_account_auth('binance-mde'))\n",
    "# krk = CCXTConnector('kraken',  **get_account_auth('kraken-mde'))\n",
    "# krkf = CCXTConnector('kraken.f', **get_account_auth('kraken-futures-mde'))"
   ]
  },
  {
   "cell_type": "code",
   "execution_count": 63,
   "metadata": {},
   "outputs": [],
   "source": [
    "raw = bnc._get_orders_from_exchange('ACAUSDT')"
   ]
  },
  {
   "cell_type": "code",
   "execution_count": 64,
   "metadata": {},
   "outputs": [
    {
     "data": {
      "text/plain": [
       "{'148022194': Order(id='148022194', type='MARKET', symbol='ACAUSDT', time=Timestamp('2024-04-01 13:38:03.891000'), quantity=50.0, price=0.0, side='BUY', status='FILLED', time_in_force='GTC', client_id='electron_ce63fa14b5da4f5a99ac60679e9', cost=8.813596, executed_quantity=50.0, executed_price=0.17627192),\n",
       " '148035855': Order(id='148035855', type='LIMIT', symbol='ACAUSDT', time=Timestamp('2024-04-01 14:43:02.392000'), quantity=50.0, price=0.17, side='BUY', status='CANCELED', time_in_force='GTC', client_id='electron_d29b06e17def4150ab57ee416e9', cost=0.0, executed_quantity=0.0, executed_price=None),\n",
       " '148039443': Order(id='148039443', type='LIMIT', symbol='ACAUSDT', time=Timestamp('2024-04-01 14:53:03.356000'), quantity=50.0, price=0.1716, side='BUY', status='FILLED', time_in_force='GTC', client_id='electron_834e5611d24246e281eec59b15b', cost=8.58, executed_quantity=50.0, executed_price=0.1716),\n",
       " '148040032': Order(id='148040032', type='LIMIT', symbol='ACAUSDT', time=Timestamp('2024-04-01 14:53:57.405000'), quantity=50.0, price=0.165, side='BUY', status='FILLED', time_in_force='GTC', client_id='electron_ef7cd323345e4251860252c0f9c', cost=8.25, executed_quantity=50.0, executed_price=0.165),\n",
       " '148365016': Order(id='148365016', type='LIMIT', symbol='ACAUSDT', time=Timestamp('2024-04-02 10:28:58.681000'), quantity=40.0, price=0.1535, side='SELL', status='CANCELED', time_in_force='GTC', client_id='electron_be5d1a8530a64554bb39a7cd659', cost=0.0, executed_quantity=0.0, executed_price=None),\n",
       " '148365070': Order(id='148365070', type='MARKET', symbol='ACAUSDT', time=Timestamp('2024-04-02 10:29:13.883000'), quantity=40.0, price=0.0, side='SELL', status='FILLED', time_in_force='GTC', client_id='electron_433cdb795a03416ebf470ffe0c4', cost=6.136, executed_quantity=40.0, executed_price=0.1534),\n",
       " '148365474': Order(id='148365474', type='LIMIT', symbol='ACAUSDT', time=Timestamp('2024-04-02 10:30:02.532000'), quantity=50.0, price=0.14, side='BUY', status='NEW', time_in_force='GTC', client_id='electron_97ca6fb0a05c46a39d334dbb5f9', cost=0.0, executed_quantity=0.0, executed_price=None)}"
      ]
     },
     "execution_count": 64,
     "metadata": {},
     "output_type": "execute_result"
    }
   ],
   "source": [
    "raw"
   ]
  },
  {
   "cell_type": "code",
   "execution_count": 81,
   "metadata": {},
   "outputs": [],
   "source": [
    "# bnc.close()"
   ]
  },
  {
   "cell_type": "code",
   "execution_count": 4,
   "metadata": {},
   "outputs": [],
   "source": [
    "orders = bnc._get_orders_from_exchange('ACAUSDT', 30)"
   ]
  },
  {
   "cell_type": "code",
   "execution_count": null,
   "metadata": {},
   "outputs": [],
   "source": [
    "orders"
   ]
  },
  {
   "cell_type": "code",
   "execution_count": 21,
   "metadata": {},
   "outputs": [],
   "source": [
    "# pos = bnc.get_position(lookup.find_instrument('BINANCE', 'ACA', 'USDT')) # type: ignore"
   ]
  },
  {
   "cell_type": "code",
   "execution_count": 48,
   "metadata": {},
   "outputs": [],
   "source": [
    "pos = bnc.get_position(lookup.find_instrument('BINANCE', 'ACA', 'USDT')) # type: ignore"
   ]
  },
  {
   "cell_type": "code",
   "execution_count": 50,
   "metadata": {},
   "outputs": [
    {
     "data": {
      "text/plain": [
       "'2024-04-02 10:29:13 [BINANCE:ACAUSDT]     110.00    0.1710    -2.6336 | 0.1534       16.87'"
      ]
     },
     "execution_count": 50,
     "metadata": {},
     "output_type": "execute_result"
    }
   ],
   "source": [
    "str(pos)"
   ]
  },
  {
   "cell_type": "code",
   "execution_count": 42,
   "metadata": {},
   "outputs": [
    {
     "name": "stdout",
     "output_type": "stream",
     "text": [
      "BUY 50.0 0.17627192 MARKET -> 0\n",
      "BUY 50.0 0.1716 LIMIT -> 0\n",
      "BUY 50.0 0.165 LIMIT -> 0\n",
      "SELL 40.0 0.1534 MARKET -> -0.7022922666666664\n"
     ]
    }
   ],
   "source": [
    "pos = Position(lookup.find_instrument('BINANCE', 'ACA', 'USDT'), lookup.find_fees('binance', 'vip0_usdt')) \n",
    "\n",
    "vol = 110\n",
    "last_pos_orders = []\n",
    "\n",
    "for oid, od in reversed(orders.items()):\n",
    "    if od.status == 'FILLED' or od.status == 'PARTIALLY_FILLED':\n",
    "        s = +1 if od.side == 'BUY' else -1\n",
    "        vol -= od.executed_quantity * s\n",
    "        if vol >= 0:\n",
    "            last_pos_orders.append(od)\n",
    "\n",
    "for o in reversed(last_pos_orders):\n",
    "    s = +1 if o.side == 'BUY' else -1\n",
    "    r = pos.change_position_by(o.time.as_unit('ns').asm8, o.executed_quantity * s, o.executed_price, aggressive=o.type=='MARKET')\n",
    "    print(o.side, o.executed_quantity, o.executed_price, o.type, '->', r)"
   ]
  },
  {
   "cell_type": "code",
   "execution_count": 41,
   "metadata": {},
   "outputs": [
    {
     "data": {
      "text/plain": [
       "numpy.datetime64('2024-04-02T10:29:13.883000000')"
      ]
     },
     "execution_count": 41,
     "metadata": {},
     "output_type": "execute_result"
    }
   ],
   "source": [
    "o.time.as_unit('ns').asm8"
   ]
  },
  {
   "cell_type": "code",
   "execution_count": null,
   "metadata": {},
   "outputs": [],
   "source": [
    "last_pos_orders"
   ]
  },
  {
   "cell_type": "code",
   "execution_count": 44,
   "metadata": {},
   "outputs": [
    {
     "data": {
      "text/plain": [
       "'2024-04-02 10:29:13 [BINANCE:ACAUSDT]     110.00    0.1710    -2.6336 | 0.1534       16.87'"
      ]
     },
     "execution_count": 44,
     "metadata": {},
     "output_type": "execute_result"
    }
   ],
   "source": [
    "str(pos)"
   ]
  },
  {
   "cell_type": "code",
   "execution_count": 35,
   "metadata": {},
   "outputs": [
    {
     "data": {
      "text/plain": [
       "(-0.7022922666666664, 0.17095730666666667, -0.9633037333333325)"
      ]
     },
     "execution_count": 35,
     "metadata": {},
     "output_type": "execute_result"
    }
   ],
   "source": [
    "pos.update_market_price(0, 0.1622, 1)\n",
    "pos.r_pnl, pos.position_avg_price, pos.total_pnl() - pos.r_pnl"
   ]
  },
  {
   "cell_type": "code",
   "execution_count": 25,
   "metadata": {},
   "outputs": [
    {
     "data": {
      "text/plain": [
       "'--- [BINANCE:ACAUSDT]     110.00    0.1710    -1.6876 | 0.1620       17.82'"
      ]
     },
     "execution_count": 25,
     "metadata": {},
     "output_type": "execute_result"
    }
   ],
   "source": [
    "str(pos)"
   ]
  },
  {
   "cell_type": "code",
   "execution_count": null,
   "metadata": {},
   "outputs": [],
   "source": [
    "# krk._balance"
   ]
  },
  {
   "cell_type": "code",
   "execution_count": 65,
   "metadata": {},
   "outputs": [
    {
     "data": {
      "text/plain": [
       "68.15917702"
      ]
     },
     "execution_count": 65,
     "metadata": {},
     "output_type": "execute_result"
    }
   ],
   "source": [
    "bnc.get_capital()"
   ]
  },
  {
   "cell_type": "code",
   "execution_count": null,
   "metadata": {},
   "outputs": [],
   "source": [
    "bnc._balance['info']"
   ]
  },
  {
   "cell_type": "code",
   "execution_count": 66,
   "metadata": {},
   "outputs": [],
   "source": [
    "bnc.close()"
   ]
  },
  {
   "cell_type": "code",
   "execution_count": null,
   "metadata": {},
   "outputs": [],
   "source": [
    "# balance_k = krk._task_s(krk.exchange.fetch_balance())\n",
    "# binfo_k = balance_k['info']\n",
    "# binfo_k"
   ]
  },
  {
   "cell_type": "code",
   "execution_count": 61,
   "metadata": {},
   "outputs": [],
   "source": [
    "# balance_kf = krkf._task_s(krkf.exchange.fetch_balance())\n",
    "# binfo_kf = balance_kf['info']\n",
    "# binfo_kf\n",
    "\n",
    "# binfo_kf.get('accountType')\n",
    "# binfo_kf.get('commissionRates')"
   ]
  },
  {
   "cell_type": "code",
   "execution_count": null,
   "metadata": {},
   "outputs": [],
   "source": [
    "# binfo_kf['accounts']['flex']"
   ]
  },
  {
   "cell_type": "code",
   "execution_count": 31,
   "metadata": {},
   "outputs": [],
   "source": [
    "balance = bnc._task_s(bnc.exchange.fetch_balance())\n",
    "binfo = balance['info']\n",
    "acc_type = binfo.get('accountType')\n",
    "c_rates = binfo.get('commissionRates')"
   ]
  },
  {
   "cell_type": "code",
   "execution_count": null,
   "metadata": {},
   "outputs": [],
   "source": [
    "balance['total']"
   ]
  },
  {
   "cell_type": "code",
   "execution_count": null,
   "metadata": {},
   "outputs": [],
   "source": [
    "# balance#['commissionRates']"
   ]
  },
  {
   "cell_type": "code",
   "execution_count": null,
   "metadata": {},
   "outputs": [],
   "source": [
    "pos = 150\n",
    "last_pos_orders = []\n",
    "for o in orders.values():\n",
    "    if o['status'] == 'FILLED':\n",
    "        pos -= o['quantity'] \n",
    "        last_pos_orders.append(o)\n",
    "        if pos == 0:\n",
    "            break\n",
    "last_pos_orders"
   ]
  },
  {
   "cell_type": "code",
   "execution_count": null,
   "metadata": {},
   "outputs": [],
   "source": [
    "p = Position('')\n",
    "for o in reversed(last_pos_orders):\n",
    "    pass"
   ]
  },
  {
   "cell_type": "code",
   "execution_count": null,
   "metadata": {},
   "outputs": [],
   "source": [
    "p.update_position()"
   ]
  },
  {
   "cell_type": "code",
   "execution_count": null,
   "metadata": {},
   "outputs": [],
   "source": [
    "orders"
   ]
  },
  {
   "cell_type": "code",
   "execution_count": null,
   "metadata": {},
   "outputs": [
    {
     "name": "stdout",
     "output_type": "stream",
     "text": [
      "{'symbol': 'ACAUSDT', 'orderId': '148022194', 'orderListId': '-1', 'clientOrderId': 'electron_ce63fa14b5da4f5a99ac60679e9', 'price': '0.00000000', 'origQty': '50.00000000', 'executedQty': '50.00000000', 'cummulativeQuoteQty': '8.81359600', 'status': 'FILLED', 'timeInForce': 'GTC', 'type': 'MARKET', 'side': 'BUY', 'stopPrice': '0.00000000', 'icebergQty': '0.00000000', 'time': '1711978683891', 'updateTime': '1711978683891', 'isWorking': True, 'workingTime': '1711978683891', 'origQuoteOrderQty': '0.00000000', 'selfTradePreventionMode': 'EXPIRE_MAKER'}\n",
      "{'symbol': 'ACAUSDT', 'orderId': '148035855', 'orderListId': '-1', 'clientOrderId': 'electron_d29b06e17def4150ab57ee416e9', 'price': '0.17000000', 'origQty': '50.00000000', 'executedQty': '0.00000000', 'cummulativeQuoteQty': '0.00000000', 'status': 'NEW', 'timeInForce': 'GTC', 'type': 'LIMIT', 'side': 'BUY', 'stopPrice': '0.00000000', 'icebergQty': '0.00000000', 'time': '1711982582392', 'updateTime': '1711982582392', 'isWorking': True, 'workingTime': '1711982582392', 'origQuoteOrderQty': '0.00000000', 'selfTradePreventionMode': 'EXPIRE_MAKER'}\n"
     ]
    }
   ],
   "source": [
    "for o in ord_data:\n",
    "    print(o['info'])"
   ]
  },
  {
   "cell_type": "code",
   "execution_count": null,
   "metadata": {},
   "outputs": [
    {
     "data": {
      "text/plain": [
       "(0.0, 0.17, 'NEW', 'buy', '148035855')"
      ]
     },
     "metadata": {},
     "output_type": "display_data"
    }
   ],
   "source": [
    "pd.Timestamp(o['timestamp'], unit='ms')\n",
    "o['filled'], o['price'], o['info']['status'], o['side'], o['id']"
   ]
  },
  {
   "cell_type": "code",
   "execution_count": null,
   "metadata": {},
   "outputs": [],
   "source": [
    "o"
   ]
  },
  {
   "cell_type": "code",
   "execution_count": null,
   "metadata": {},
   "outputs": [],
   "source": [
    "r = await cc.exchange.fetch_closed_orders(symbol='ACAUSDT')"
   ]
  },
  {
   "cell_type": "code",
   "execution_count": null,
   "metadata": {},
   "outputs": [],
   "source": [
    "r"
   ]
  },
  {
   "cell_type": "code",
   "execution_count": null,
   "metadata": {},
   "outputs": [],
   "source": [
    "r#['balances']"
   ]
  },
  {
   "cell_type": "code",
   "execution_count": null,
   "metadata": {},
   "outputs": [
    {
     "data": {
      "text/plain": [
       "[]"
      ]
     },
     "metadata": {},
     "output_type": "display_data"
    }
   ],
   "source": [
    "await cc.exchange.fetch_positions(['ACAUSDT'])"
   ]
  },
  {
   "cell_type": "code",
   "execution_count": null,
   "metadata": {},
   "outputs": [
    {
     "data": {
      "text/plain": [
       "numpy.datetime64('2024-04-02T10:00:37.318239000')"
      ]
     },
     "execution_count": 22,
     "metadata": {},
     "output_type": "execute_result"
    }
   ],
   "source": [
    "cc = CCXTConnector('binance', **get_account_auth('account1'))\n",
    "cc.time()"
   ]
  },
  {
   "cell_type": "code",
   "execution_count": null,
   "metadata": {},
   "outputs": [],
   "source": [
    "# im"
   ]
  },
  {
   "cell_type": "code",
   "execution_count": null,
   "metadata": {},
   "outputs": [],
   "source": [
    "task = cc._run_async_task(cc.exchange.fetch_balance(), wait_result=1)\n",
    "\n",
    "# task = cc._loop.run_until_complete(cc.exchange.fetch_balance())\n",
    "# while not task.done():\n",
    "#     ...\n",
    "#     # await asyncio.sleep(0)\n",
    "\n",
    "# print(task.result())"
   ]
  },
  {
   "cell_type": "code",
   "execution_count": null,
   "metadata": {},
   "outputs": [],
   "source": [
    "task"
   ]
  },
  {
   "cell_type": "code",
   "execution_count": null,
   "metadata": {},
   "outputs": [],
   "source": [
    "r = cc._run_async_task(cc.exchange.fetch_deposits_withdrawals(), wait_result=1)"
   ]
  },
  {
   "cell_type": "code",
   "execution_count": null,
   "metadata": {},
   "outputs": [],
   "source": [
    "r = cc._run_async_task(cc.exchange.fetch_free_balance(), wait_result=1)"
   ]
  },
  {
   "cell_type": "code",
   "execution_count": null,
   "metadata": {},
   "outputs": [],
   "source": [
    "r"
   ]
  }
 ],
 "metadata": {
  "kernelspec": {
   "display_name": "p311qbx",
   "language": "python",
   "name": "python3"
  },
  "language_info": {
   "codemirror_mode": {
    "name": "ipython",
    "version": 3
   },
   "file_extension": ".py",
   "mimetype": "text/x-python",
   "name": "python",
   "nbconvert_exporter": "python",
   "pygments_lexer": "ipython3",
   "version": "3.11.8"
  }
 },
 "nbformat": 4,
 "nbformat_minor": 2
}
