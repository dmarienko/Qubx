{
 "cells": [
  {
   "cell_type": "code",
   "execution_count": 1,
   "metadata": {},
   "outputs": [
    {
     "name": "stderr",
     "output_type": "stream",
     "text": [
      "c:\\Users\\dmitr\\devs\\venvs\\py39\\lib\\site-packages\\tqdm\\auto.py:22: TqdmWarning: IProgress not found. Please update jupyter and ipywidgets. See https://ipywidgets.readthedocs.io/en/stable/user_install.html\n",
      "  from .autonotebook import tqdm as notebook_tqdm\n"
     ]
    },
    {
     "name": "stdout",
     "output_type": "stream",
     "text": [
      " >>> For support multiprocessing under Windows 'multiprocess' module should be installed\n",
      "Qube> Cant find \"projects/\" folder for adding to python path !\n",
      "\n",
      "           \u001b[32m   .+-------+\u001b[0m \n",
      "           \u001b[32m .' :     .'|\u001b[0m   \u001b[33mQUBE\u001b[0m | \u001b[36mQuantitative Backtesting Environment\u001b[0m\n",
      "           \u001b[32m+-------+'  |\u001b[0m  \n",
      "           \u001b[32m|   : \u001b[0m\u001b[31m*\u001b[0m\u001b[32m |   |\u001b[0m   (c) 2022,  ver. \u001b[35m0.3.7\u001b[0m\n",
      "           \u001b[32m|  ,+---|---+\u001b[0m \n",
      "           \u001b[32m|.'     | .' \u001b[0m   \n",
      "           \u001b[32m+-------+'   \u001b[0m \n"
     ]
    }
   ],
   "source": [
    "import qube\n",
    "import glob\n",
    "import importlib\n",
    "import inspect\n",
    "import os\n",
    "import ast\n",
    "from collections import defaultdict\n",
    "from sklearn.base import BaseEstimator\n",
    "from git import Repo, Remote\n",
    "from itertools import zip_longest\n",
    "from qube.simulator.tracking.trackers import FixedRiskTrader\n",
    "from qube.simulator.tracking.sizers import FixedSizer\n",
    "\n",
    "%qubed"
   ]
  },
  {
   "cell_type": "markdown",
   "metadata": {},
   "source": [
    "# Find all strategies in filesystem"
   ]
  },
  {
   "cell_type": "code",
   "execution_count": 2,
   "metadata": {},
   "outputs": [],
   "source": [
    "def iter_funcs(class_node):\n",
    "    decls = {}\n",
    "    for n in ast.walk(class_node): \n",
    "        if isinstance(n, ast.FunctionDef) and n.name == '__init__':\n",
    "            args = []\n",
    "            for x in n.args.args:\n",
    "                args.append(x.arg)\n",
    "            for x, dx in zip_longest(reversed(args), reversed(n.args.defaults)):\n",
    "                if x != 'self':\n",
    "                    # print(f\"{x} = {dx.value if dx else None}\")\n",
    "                    decls[x] = dx.value if dx and isinstance(dx, ast.Constant) else None\n",
    "    # return dict(reversed(decls))\n",
    "    return dict(reversed(list(decls.items())))\n",
    "\n",
    "def flatten(decl_list):\n",
    "    for d in decl_list:\n",
    "        try:\n",
    "            yield d.id\n",
    "        except AttributeError:\n",
    "            try:\n",
    "                yield d.func.id\n",
    "            except AttributeError:\n",
    "                yield None\n",
    "\n",
    "def is_decorated(decorator_list, decorator_name):\n",
    "    for x in flatten(decorator_list):\n",
    "        if x == decorator_name:\n",
    "            return True\n",
    "    return False"
   ]
  },
  {
   "cell_type": "code",
   "execution_count": 3,
   "metadata": {},
   "outputs": [],
   "source": [
    "strats = defaultdict(list)\n",
    "for file in glob.glob('**/*.py', recursive=True):\n",
    "    name = os.path.splitext(os.path.basename(file))[0]\n",
    "    # Ignore __ files\n",
    "    if name.startswith(\"__\"):\n",
    "        continue\n",
    "\n",
    "    with open(file, 'r') as f:\n",
    "        src = f.read()\n",
    "\n",
    "    try:\n",
    "        class_node = ast.parse(src)\n",
    "    except:\n",
    "        continue\n",
    "\n",
    "    nodes = [node for node in ast.walk(class_node) if isinstance(node, ast.ClassDef)]\n",
    "    for n in nodes:\n",
    "        if is_decorated(n.decorator_list, 'signal_generator'):\n",
    "            strats[file].append((n.name, ast.get_docstring(n), iter_funcs(n)))"
   ]
  },
  {
   "cell_type": "code",
   "execution_count": 4,
   "metadata": {},
   "outputs": [],
   "source": [
    "for f, sd in strats.items():\n",
    "    strs = \"\"\n",
    "    for sn, descr, pars in sd:\n",
    "        descr = (': ' + descr.replace('\\n', ' ').strip('\" ')) if descr else ''\n",
    "        strs += f\"   |-- {sn} {descr} \\n   |   {pars}\\n   |\\n\"\n",
    "\n",
    "    rst = f\"\"\" - {f} -\n",
    "{strs}\"\"\"\n",
    "    print(rst)\n",
    "    # break"
   ]
  },
  {
   "cell_type": "code",
   "execution_count": 5,
   "metadata": {},
   "outputs": [
    {
     "data": {
      "text/html": [
       "<pre style=\"white-space:pre;overflow-x:auto;line-height:normal;font-family:Menlo,'DejaVu Sans Mono',consolas,'Courier New',monospace\"><span style=\"font-weight: bold\">{}</span>\n",
       "</pre>\n"
      ],
      "text/plain": [
       "\u001b[1m{\u001b[0m\u001b[1m}\u001b[0m\n"
      ]
     },
     "metadata": {},
     "output_type": "display_data"
    },
    {
     "ename": "",
     "evalue": "",
     "output_type": "error",
     "traceback": [
      "\u001b[1;31mThe Kernel crashed while executing code in the the current cell or a previous cell. Please review the code in the cell(s) to identify a possible cause of the failure. Click <a href='https://aka.ms/vscodeJupyterKernelCrash'>here</a> for more info. View Jupyter <a href='command:jupyter.viewOutput'>log</a> for further details."
     ]
    }
   ],
   "source": [
    "print(dict(strats))"
   ]
  },
  {
   "cell_type": "code",
   "execution_count": 37,
   "metadata": {},
   "outputs": [
    {
     "name": "stdout",
     "output_type": "stream",
     "text": [
      "meanrevert = True\n",
      "stop_loss_pct = 0\n",
      "atr_avg = kama\n",
      "atr_period = None\n",
      "avg = tema\n",
      "nstd = 1\n",
      "period = 12\n",
      "capital = None\n",
      "timeframe = 1h\n",
      "reverting = False\n",
      "long_only = False\n",
      "vol_factor = 1\n",
      "vol_smoother = kama\n",
      "vol_periods = 100\n",
      "vol_timeframe = 1H\n",
      "max_position_size = 0\n",
      "max_capital_in_risk = 0\n",
      "stop_loss_pct = 0\n",
      "pvalue = 0.05\n",
      "beta = 0.05\n",
      "alpha = 0.9\n",
      "capital = None\n",
      "timeframe = 1h\n",
      "revert = False\n",
      "index_name = INDEX\n",
      "fdi_period = None\n",
      "long_only = False\n",
      "vol_factor = 1\n",
      "vol_smoother = kama\n",
      "vol_periods = 100\n",
      "vol_timeframe = 1H\n",
      "max_position_size = 0\n",
      "max_capital_in_risk = 0\n",
      "stop_loss_pct = 0\n",
      "pvalue = 0.05\n",
      "beta = 0.05\n",
      "alpha = 0.9\n",
      "capital = None\n",
      "no_regime_filter = False\n",
      "no_fdi_filter = False\n",
      "timeframe = 1h\n",
      "revert = False\n",
      "long_only = False\n",
      "index_name = INDEX\n",
      "filter_period = None\n",
      "vol_ratio = 5\n",
      "vol_factor = 1\n",
      "vol_smoother = kama\n",
      "vol_periods = 100\n",
      "vol_timeframe = 1H\n",
      "max_position_size = 0\n",
      "max_capital_in_risk = 0\n",
      "stop_loss_pct = 0\n",
      "pvalue = 0.05\n",
      "beta = 0.05\n",
      "alpha = 0.9\n",
      "capital = None\n",
      "revert = False\n",
      "timeframe = 1h\n",
      "filter_threshold = 50\n",
      "filter_period = 14\n",
      "long_only = False\n",
      "vol_factor = 1\n",
      "vol_smoother = kama\n",
      "vol_periods = 100\n",
      "vol_timeframe = 1H\n",
      "max_position_size = 0\n",
      "max_capital_in_risk = 0\n",
      "stop_loss_pct = 0\n",
      "pvalue = 0.05\n",
      "beta = 0.05\n",
      "alpha = 0.9\n",
      "capital = None\n",
      "split_num = 5\n",
      "imbalance_period = 1H\n",
      "pct_filter = 10\n",
      "thread_classes = None\n",
      "timeframe = 1h\n",
      "reverting = False\n",
      "long_only = False\n",
      "vol_factor = 1\n",
      "vol_smoother = kama\n",
      "vol_periods = 100\n",
      "vol_timeframe = 1H\n",
      "max_position_size = 0\n",
      "max_capital_in_risk = 0\n",
      "stop_loss_pct = 0\n",
      "pvalue = 0.05\n",
      "beta = 0.05\n",
      "alpha = 0.9\n",
      "capital = None\n",
      "split_num = 5\n",
      "imbalance_period = 1H\n",
      "pct_filter = 10\n",
      "thread_classes = None\n",
      "timeframe = 1h\n",
      "revert = False\n",
      "long_only = False\n",
      "index_name = INDEX\n",
      "no_regime_filter = False\n",
      "no_fdi_filter = False\n",
      "filter_period = None\n",
      "vol_ratio = 5\n",
      "vol_factor = 1\n",
      "vol_smoother = kama\n",
      "vol_periods = 100\n",
      "vol_timeframe = 1H\n",
      "max_position_size = 0\n",
      "max_capital_in_risk = 0\n",
      "stop_loss_pct = 0\n",
      "pvalue = 0.05\n",
      "beta = 0.05\n",
      "alpha = 0.9\n",
      "capital = None\n",
      "g_revert_entry_fraction = 0.5\n",
      "g_revert_entry_on_guard = False\n",
      "g_tii_period = 3\n",
      "g_tii_ti_period = 3\n",
      "g_tii_H = 20\n",
      "g_tsi_scaling_factor = 12\n",
      "g_tsi_atr_smoother = kama\n",
      "g_tsi_atr_period = 100\n",
      "g_type = None\n",
      "timeframe = 1h\n",
      "reverting = False\n",
      "long_only = False\n",
      "vol_factor = 1\n",
      "vol_smoother = kama\n",
      "vol_periods = 100\n",
      "vol_timeframe = 1H\n",
      "max_position_size = 0\n",
      "max_capital_in_risk = 0\n",
      "stop_loss_pct = 0\n",
      "pvalue = 0.05\n",
      "beta = 0.05\n",
      "alpha = 0.9\n",
      "capital = None\n",
      "no_regime_filter = False\n",
      "no_fdi_filter = False\n",
      "long_only = False\n",
      "split_num = 5\n",
      "imbalance_period = 1H\n",
      "pct_filter = 10\n",
      "thread_classes = None\n",
      "index_name = INDEX\n",
      "filter_period = None\n",
      "vol_ratio = 5\n",
      "vol_factor = 1\n",
      "vol_smoother = kama\n",
      "vol_periods = 100\n",
      "vol_timeframe = 1H\n",
      "max_position_holding_time = 24h\n",
      "N_take_level = 12\n",
      "N_stop_level = 5\n",
      "risk_atr_period = 24\n",
      "risk_atr_timeframe = 1H\n",
      "max_position_size = 0\n",
      "max_capital_in_risk = 0\n",
      "timeframe = 1h\n",
      "pvalue = 0.05\n",
      "beta = 0.05\n",
      "alpha = 0.9\n",
      "capital = None\n"
     ]
    }
   ],
   "source": [
    "file = 'incubator/research/meanreverting/nimble/nimblers.py'\n",
    "with open(file, 'r') as f:\n",
    "    src = f.read()\n",
    "    try:\n",
    "        class_node = ast.parse(src)\n",
    "    except:\n",
    "        raise\n",
    "\n",
    "    for n in ast.walk(class_node): \n",
    "        if isinstance(n, ast.FunctionDef) and n.name == '__init__':\n",
    "            args = []\n",
    "            for x in n.args.args:\n",
    "                args.append(x.arg)\n",
    "\n",
    "            for x, dx in zip_longest(reversed(args), reversed(n.args.defaults)):\n",
    "                if x != 'self':\n",
    "                    print(f\"{x} = {dx.value if dx and isinstance(dx, ast.Constant) else None}\")"
   ]
  },
  {
   "cell_type": "code",
   "execution_count": 38,
   "metadata": {},
   "outputs": [
    {
     "name": "stdout",
     "output_type": "stream",
     "text": [
      ">>> \u001b[37minsane-trend-breakout.yml\u001b[0m - \u001b[34mincubator/data/experiments/insane/insane-trend-breakout.yml\u001b[0m\n",
      " ~ ~ ~ ~ ~ ~ ~ ~ ~ ~ ~ ~ ~ ~ ~ ~ ~ ~ ~ ~ ~ ~ ~ ~ ~ ~ ~ ~ ~ ~ ~ ~ ~ ~ ~ ~ ~ ~ ~ ~ ~ ~ ~ ~ ~ ~ ~ ~ ~ ~\n",
      " |-[\u001b[31m0\u001b[0m]\t\u001b[32mInsane-breakout-default                           \u001b[0m\t[\u001b[33mInsane\u001b[0m]\t\u001b[37m2020-04-06\u001b[0m:\u001b[37mnow\u001b[0m\n",
      " | \t\t \u001b[31mincubator.research.momentum.insane.insaners.Insaner1Risk\u001b[0m\n",
      " | \t\t \u001b[35mINSANE Strategy - trend breakout | BTCUSDT | fixed capital | stop | take | 1H timeframe\u001b[0m | number symbols 1\n",
      "\n",
      " |-[\u001b[31m1\u001b[0m]\t\u001b[32mInsane-breakout-opt-stage-1                       \u001b[0m\t[\u001b[33mInsane\u001b[0m]\t\u001b[37m2020-04-06\u001b[0m:\u001b[37mnow\u001b[0m\n",
      " | \t\t \u001b[31mincubator.research.momentum.insane.insaners.Insaner1Risk\u001b[0m\n",
      " | \t\t \u001b[35mINSANE Strategy - trend breakout - opt stage 1 | BTCUSDT | fixed capital | stop | take | 1H timeframe\u001b[0m | number symbols 1\n",
      "\n",
      " |-[\u001b[31m2\u001b[0m]\t\u001b[32mInsane-breakout-big-range                         \u001b[0m\t[\u001b[33mInsane\u001b[0m]\t\u001b[37m2020-04-06\u001b[0m:\u001b[37mnow\u001b[0m\n",
      " | \t\t \u001b[31mincubator.research.momentum.insane.insaners.Insaner1Risk\u001b[0m\n",
      " | \t\t \u001b[35mINSANE Strategy - trend breakout - all option | BTCUSDT | fixed capital | stop | take | 1H timeframe\u001b[0m | number symbols 1\n",
      "\n",
      ">>> \u001b[37minsane-default.yml\u001b[0m - \u001b[34mincubator/data/experiments/insane/insane-default.yml\u001b[0m\n",
      " ~ ~ ~ ~ ~ ~ ~ ~ ~ ~ ~ ~ ~ ~ ~ ~ ~ ~ ~ ~ ~ ~ ~ ~ ~ ~ ~ ~ ~ ~ ~ ~ ~ ~ ~ ~ ~ ~ ~ ~ ~ ~ ~ ~ ~ ~ ~ ~ ~ ~\n",
      " |-[\u001b[31m3\u001b[0m]\t\u001b[32mInsane-default                                    \u001b[0m\t[\u001b[33mInsane\u001b[0m]\t\u001b[37m2020-04-06\u001b[0m:\u001b[37mnow\u001b[0m\n",
      " | \t\t \u001b[31mincubator.research.momentum.insane.insaners.Insaner0Risk\u001b[0m\n",
      " | \t\t \u001b[35mINSANE Strategy - Waddarh Attar QQE MCGinley | BTCUSDT | stop | take | 1H timeframe\u001b[0m | number symbols 1\n",
      "\n",
      " |-[\u001b[31m4\u001b[0m]\t\u001b[32mInsane-big-range                                  \u001b[0m\t[\u001b[33mInsane\u001b[0m]\t\u001b[37m2020-04-06\u001b[0m:\u001b[37mnow\u001b[0m\n",
      " | \t\t \u001b[31mincubator.research.momentum.insane.insaners.Insaner0Risk\u001b[0m\n",
      " | \t\t \u001b[35mINSANE Strategy - all options| BTCUSDT | stop | take | 1H timeframe\u001b[0m | number symbols 1\n",
      "\n",
      " |-[\u001b[31m5\u001b[0m]\t\u001b[32mInsane-winrates                                   \u001b[0m\t[\u001b[33mInsane\u001b[0m]\t\u001b[37m2020-04-06\u001b[0m:\u001b[37mnow\u001b[0m\n",
      " | \t\t \u001b[31mincubator.research.momentum.insane.insaners.Insaner0Risk\u001b[0m\n",
      " | \t\t \u001b[35mINSANE Strategy - winrates sets | BTCUSDT | stop | take | 1H timeframe\u001b[0m | number symbols 1\n",
      "\n",
      " |-[\u001b[31m6\u001b[0m]\t\u001b[32mInsane-winrates-filtered                          \u001b[0m\t[\u001b[33mInsane\u001b[0m]\t\u001b[37m2020-04-06\u001b[0m:\u001b[37mnow\u001b[0m\n",
      " | \t\t \u001b[31mincubator.research.momentum.insane.insaners.Insaner0Risk\u001b[0m\n",
      " | \t\t \u001b[35mINSANE Strategy - winrates sets | BTCUSDT | stop | take | 1H timeframe\u001b[0m | number symbols 1\n",
      "\n",
      " |-[\u001b[31m7\u001b[0m]\t\u001b[32mInsane-base-28                                    \u001b[0m\t[\u001b[33mInsane\u001b[0m]\t\u001b[37m2020-04-06\u001b[0m:\u001b[37mnow\u001b[0m\n",
      " | \t\t \u001b[31mincubator.research.momentum.insane.insaners.Insaner0Risk\u001b[0m\n",
      " | \t\t \u001b[35mINSANE Strategy - base | on 28 tokens | stop | take | 1H timeframe\u001b[0m | number symbols 36\n",
      "\n",
      " |-[\u001b[31m8\u001b[0m]\t\u001b[32mInsane-base-28-size-adj                           \u001b[0m\t[\u001b[33mInsane\u001b[0m]\t\u001b[37m2020-04-06\u001b[0m:\u001b[37mnow\u001b[0m\n",
      " | \t\t \u001b[31mincubator.research.momentum.insane.insaners.Insaner0Risk\u001b[0m\n",
      " | \t\t \u001b[35mINSANE Strategy - volume adjusting | on 28 tokens | stop | take | 1H timeframe\u001b[0m | number symbols 36\n",
      "\n",
      " |-[\u001b[31m9\u001b[0m]\t\u001b[32mInsane-base-28-size-adj-var                       \u001b[0m\t[\u001b[33mInsane\u001b[0m]\t\u001b[37m2020-04-06\u001b[0m:\u001b[37mnow\u001b[0m\n",
      " | \t\t \u001b[31mincubator.research.momentum.insane.insaners.Insaner0Risk\u001b[0m\n",
      " | \t\t \u001b[35mINSANE Strategy - volume & take & stop adjusting | on 28 tokens | stop | take | 1H timeframe\u001b[0m | number symbols 36\n",
      "\n",
      " |-[\u001b[31m10\u001b[0m]\t\u001b[32mInsane-base-all-size-adj                          \u001b[0m\t[\u001b[33mInsane\u001b[0m]\t\u001b[37m2020-04-06\u001b[0m:\u001b[37mnow\u001b[0m\n",
      " | \t\t \u001b[31mincubator.research.momentum.insane.insaners.Insaner0Risk\u001b[0m\n",
      " | \t\t \u001b[35mINSANE Strategy - volume adjusting | on all tokens | stop | take | 1H timeframe\u001b[0m | number symbols 134\n",
      "\n",
      " |-[\u001b[31m11\u001b[0m]\t\u001b[32mInsane0-hiliquid                                  \u001b[0m\t[\u001b[33mInsane\u001b[0m]\t\u001b[37m2020-04-06\u001b[0m:\u001b[37mnow\u001b[0m\n",
      " | \t\t \u001b[31mincubator.research.momentum.insane.insaners.Insaner0Risk\u001b[0m\n",
      " | \t\t \u001b[35mINSANE Strategy - size adjusted | high liquid peprs | 1H timeframe\u001b[0m | number symbols 20\n",
      "\n",
      ">>> \u001b[37minsane2.yaml\u001b[0m - \u001b[34mincubator/data/experiments/insane/insane2.yaml\u001b[0m\n",
      " ~ ~ ~ ~ ~ ~ ~ ~ ~ ~ ~ ~ ~ ~ ~ ~ ~ ~ ~ ~ ~ ~ ~ ~ ~ ~ ~ ~ ~ ~ ~ ~ ~ ~ ~ ~ ~ ~ ~ ~ ~ ~ ~ ~ ~ ~ ~ ~ ~ ~\n",
      " |-[\u001b[31m12\u001b[0m]\t\u001b[32mInsaner2v2-test1                                  \u001b[0m\t[\u001b[33mInsaner\u001b[0m]\t\u001b[37m2022-01-01\u001b[0m:\u001b[37m2023-08-01\u001b[0m\n",
      " | \t\t \u001b[31mincubator.research.momentum.insane.insaners.Insaner2v2\u001b[0m\n",
      " | \t\t \u001b[35mInsaner 2v2 on ETHUSDT | 1H timeframe\u001b[0m | number symbols 1\n",
      "\n",
      " |-[\u001b[31m13\u001b[0m]\t\u001b[32mInsaner2v2-test2                                  \u001b[0m\t[\u001b[33mInsaner\u001b[0m]\t\u001b[37m2022-01-01\u001b[0m:\u001b[37m2023-08-01\u001b[0m\n",
      " | \t\t \u001b[31mincubator.research.momentum.insane.insaners.Insaner2v2\u001b[0m\n",
      " | \t\t \u001b[35mInsaner 2v2 on SOLUSDT | 1H timeframe\u001b[0m | number symbols 1\n",
      "\n",
      " |-[\u001b[31m14\u001b[0m]\t\u001b[32mInsaner2v2-optimization                           \u001b[0m\t[\u001b[33mInsaner\u001b[0m]\t\u001b[37m2023-01-01\u001b[0m:\u001b[37m2023-03-01\u001b[0m\n",
      " | \t\t \u001b[31mincubator.research.momentum.insane.insaners.Insaner2v2\u001b[0m\n",
      " | \t\t \u001b[35mInsaner 2v2 Strategy - optimization | 1H timeframe | small hiliq set\u001b[0m | number symbols 5\n",
      "\n"
     ]
    },
    {
     "data": {
      "text/plain": [
       "\u001b[31m\t- actions: .run(<num>), .clean(<num>), .show(<num>), .load(<num>)\u001b[0m"
      ]
     },
     "execution_count": 38,
     "metadata": {},
     "output_type": "execute_result"
    }
   ],
   "source": [
    "from qube.booster.boosterai import Boo\n",
    "Boo.fzf('Insaner').show()"
   ]
  },
  {
   "cell_type": "markdown",
   "metadata": {},
   "source": [
    "# Git control"
   ]
  },
  {
   "cell_type": "code",
   "execution_count": 7,
   "metadata": {},
   "outputs": [
    {
     "data": {
      "text/plain": [
       "<git.Tree \"786e60650ee6f908b4fc9b7854475961ffadcf82\">"
      ]
     },
     "execution_count": 7,
     "metadata": {},
     "output_type": "execute_result"
    }
   ],
   "source": [
    "r = Repo('Qube2exp')\n",
    "git = r.git\n",
    "r.head.commit.tree"
   ]
  },
  {
   "cell_type": "code",
   "execution_count": 8,
   "metadata": {},
   "outputs": [
    {
     "data": {
      "text/plain": [
       "'772487e8b58e20114dfbf07fcd0851bff964cea3'"
      ]
     },
     "execution_count": 8,
     "metadata": {},
     "output_type": "execute_result"
    }
   ],
   "source": [
    "r.head.commit.hexsha"
   ]
  },
  {
   "cell_type": "code",
   "execution_count": 9,
   "metadata": {},
   "outputs": [
    {
     "data": {
      "text/plain": [
       "['experiments/booster/0. Ideas - reading filesystem.ipynb']"
      ]
     },
     "execution_count": 9,
     "metadata": {},
     "output_type": "execute_result"
    }
   ],
   "source": [
    "[d.a_path for d  in r.index.diff(None)]"
   ]
  },
  {
   "cell_type": "code",
   "execution_count": 32,
   "metadata": {},
   "outputs": [],
   "source": []
  },
  {
   "cell_type": "code",
   "execution_count": 116,
   "metadata": {},
   "outputs": [
    {
     "data": {
      "text/plain": [
       "'[main d906932] Second commit\\n 1 file changed, 280 insertions(+), 18 deletions(-)'"
      ]
     },
     "execution_count": 116,
     "metadata": {},
     "output_type": "execute_result"
    }
   ],
   "source": [
    "git.add('.')\n",
    "git.commit(m=\"Second commit\")"
   ]
  },
  {
   "cell_type": "code",
   "execution_count": 117,
   "metadata": {},
   "outputs": [
    {
     "data": {
      "text/plain": [
       "'d906932f93efb0f65b4f2561cac0c7d33f787f42'"
      ]
     },
     "execution_count": 117,
     "metadata": {},
     "output_type": "execute_result"
    }
   ],
   "source": [
    "hsh = r.commit('main').binsha.hex()\n",
    "hsh"
   ]
  },
  {
   "cell_type": "code",
   "execution_count": 66,
   "metadata": {},
   "outputs": [
    {
     "data": {
      "text/plain": [
       "('Xoj', 'Gupuw')"
      ]
     },
     "execution_count": 66,
     "metadata": {},
     "output_type": "execute_result"
    }
   ],
   "source": [
    "from qube.booster.boosterai import _generate_name_like_id\n",
    "_generate_name_like_id(hsh, 3), _generate_name_like_id(hsh, 5, 5)"
   ]
  },
  {
   "cell_type": "markdown",
   "metadata": {},
   "source": [
    "# New simulator | live design"
   ]
  },
  {
   "cell_type": "code",
   "execution_count": null,
   "metadata": {},
   "outputs": [],
   "source": [
    "class TimeData:\n",
    "    def freq(self, timeframe: str) -> 'TimeData':\n",
    "        return self\n",
    "\n",
    "    def timeframe(self):\n",
    "        return None\n",
    "\n",
    "class Storage:\n",
    "    \"\"\"\n",
    "    How to get data\n",
    "    \"\"\"\n",
    "    def load(self, symbols: list) -> TimeData:\n",
    "        return None\n",
    "\n",
    "class TradeOp:\n",
    "\n",
    "    def __add__(self, other: 'TradeOp') -> 'TradeOp':\n",
    "        return self\n",
    "\n",
    "class Market:\n",
    "    def get_availabe_balance(self) -> float:\n",
    "        return 0\n",
    "\n",
    "class IStrategy:\n",
    "    market: Market\n",
    "\n",
    "    def train(self, data: TimeData) -> 'IStrategy':\n",
    "        return self\n",
    "\n",
    "    def signals(self, data: TimeData):\n",
    "        return None\n",
    "    \n",
    "    def trade(self, side, where=None) -> TradeOp:\n",
    "        pass\n",
    "\n",
    "    def get_availabe_capital(self) -> float:\n",
    "        return self.market.get_availabe_balance()\n",
    "    \n",
    "    def tracker(self):\n",
    "        # portfolio / single ?\n",
    "        return None"
   ]
  },
  {
   "cell_type": "code",
   "execution_count": null,
   "metadata": {},
   "outputs": [],
   "source": [
    "from qube import ta\n",
    "from qube import variate\n",
    "\n",
    "class RsiTrader(IStrategy):\n",
    "\n",
    "    def __init__(self, period=12) -> None:\n",
    "        self.period = period\n",
    "\n",
    "    def train(self):\n",
    "        return self\n",
    "\n",
    "    def signals(self, data: TimeData) -> TradeOp:\n",
    "        r = ta.rsi(data, self.period)    # how to pass context (if needed at all) ?\n",
    "        mp = data.low + data.high\n",
    "\n",
    "        return self.trade(\n",
    "            +1, where=(r[1] < 20) & (r > 20) & (mp > data.close), stop=data.low[1]\n",
    "        ) + self.trade(\n",
    "            -1, where=(r[1] > 80) & (r < 80) & (mp < data.close), stop=data.high[1]\n",
    "        )\n",
    " \n",
    "class RsiTrader2(IStrategy):\n",
    "\n",
    "    def __init__(self, period=12) -> None:\n",
    "        self.period = period\n",
    "\n",
    "    def train(self):\n",
    "        return self\n",
    "\n",
    "    def signals(self, data: TimeData) -> TradeOp:\n",
    "        r = ta.rsi(data, self.period)\n",
    "        mp = data.low + data.high\n",
    "\n",
    "        return self.trade(\n",
    "            +1, where=(r[1] < 20) & (r > 20) & (mp > data.close), at=data.high[1], stop=data.low[1], gtc=1,\n",
    "        ) + self.trade(\n",
    "            -1, where=(r[1] > 80) & (r < 80) & (mp < data.close), at=data.low[1], stop=data.high[1], gtc=1,\n",
    "        )\n",
    "\n",
    "\n",
    "class PortfolioTrader(IStrategy):\n",
    "    def __init__(self) -> None:\n",
    "\n",
    "        "
   ]
  },
  {
   "cell_type": "code",
   "execution_count": null,
   "metadata": {},
   "outputs": [],
   "source": []
  },
  {
   "cell_type": "code",
   "execution_count": null,
   "metadata": {},
   "outputs": [],
   "source": [
    "data = Storage('mongo', 'binancef').load(['BTCUSDT', 'ETHUSDT', 'SOLUSDT', 'AVAXUSDT'])\n",
    "data = Storage('kdb', 'binance').load(['BTCUSDT', 'ETHUSDT', 'SOLUSDT', 'AVAXUSDT'])"
   ]
  },
  {
   "cell_type": "code",
   "execution_count": null,
   "metadata": {},
   "outputs": [],
   "source": [
    "test = Market.Test(\n",
    "    'binance-um.vip0-usdt', \n",
    "\n",
    "    # data.freq('ticks'), \n",
    "\n",
    "    data[['BTC', 'ETH']].freq('ticks'), \n",
    "\n",
    "    start='2023-07-01', stop='2023-12-02', \n",
    ")\n",
    "\n",
    "live = Market.Live(\n",
    "    'binance-um.vip0-usdt', \n",
    "    account='a2323098976897',\n",
    "    balance={'USDT': 45000},   # ????\n",
    "    leverage=2, \n",
    "    commissions='vip0-usdt',\n",
    ")"
   ]
  },
  {
   "cell_type": "code",
   "execution_count": null,
   "metadata": {},
   "outputs": [],
   "source": [
    "r = test.run(\n",
    "    variate(RsiTrader, period=[14, 28, 36]),\n",
    "\n",
    "    capital=10000, leverage=1, mode='portfolio',\n",
    "    train_period='4w', trade_period='1w',         # walk forward\n",
    "\n",
    "    custom = {\n",
    "        'BTCUSDT': dict(period=12)\n",
    "    }\n",
    ")"
   ]
  },
  {
   "cell_type": "code",
   "execution_count": null,
   "metadata": {},
   "outputs": [],
   "source": [
    "r.tearsheet()\n",
    "r.equity(drop=['ETH'])"
   ]
  },
  {
   "cell_type": "code",
   "execution_count": null,
   "metadata": {},
   "outputs": [],
   "source": []
  },
  {
   "cell_type": "code",
   "execution_count": null,
   "metadata": {},
   "outputs": [],
   "source": []
  }
 ],
 "metadata": {
  "kernelspec": {
   "display_name": "Python 3 (ipykernel)",
   "language": "python",
   "name": "python3"
  },
  "language_info": {
   "codemirror_mode": {
    "name": "ipython",
    "version": 3
   },
   "file_extension": ".py",
   "mimetype": "text/x-python",
   "name": "python",
   "nbconvert_exporter": "python",
   "pygments_lexer": "ipython3",
   "version": "3.9.13"
  }
 },
 "nbformat": 4,
 "nbformat_minor": 2
}
