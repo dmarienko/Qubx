{
 "cells": [
  {
   "cell_type": "code",
   "execution_count": 11,
   "metadata": {},
   "outputs": [
    {
     "name": "stdout",
     "output_type": "stream",
     "text": [
      "installed\n"
     ]
    }
   ],
   "source": [
    "import pandas as pd\n",
    "import numpy as np\n",
    "import sys, os, re\n",
    "import matplotlib.pyplot as plt\n",
    "\n",
    "# from importlib import reload\n",
    "\n",
    "if re.match(r'^(\\w\\:\\\\)|(/)', os.getcwd()):\n",
    "    # sys.path.insert(0, \"c:/Users/dmitr/devs/quantl/\")\n",
    "    # sys.path.insert(0, \"c:/Users/dmitr/devs/Qube/\")\n",
    "    sys.path.insert(0, \"c:/Users/dmitr/devs/Qube2exp/src/\")\n",
    "    # sys.path.insert(0, \"c:/Users/dmitr/devs/Qube2exp/tests/\")\n",
    "    sys.path.insert(0, \"c:/Users/dmitr/devs/Qube2exp/\")\n",
    "    print('installed')\n",
    "\n",
    "\n",
    "# just some handy helpers from old Qube\n",
    "# from ta_helpers import kama, kama_indicator, apply_to_frame\n",
    "import tests.qube.ta.utils_for_testing as test\n",
    "\n",
    "%load_ext cython\n",
    "\n",
    "T = pd.date_range('2024-01-01 00:00', freq='1Min', periods=100_000)\n",
    "ds = 1 + (2*np.random.randn(len(T))).cumsum()\n",
    "data = list(zip(T, ds))"
   ]
  },
  {
   "cell_type": "markdown",
   "metadata": {},
   "source": [
    "## Cython v2 tests (cseries1)"
   ]
  },
  {
   "cell_type": "code",
   "execution_count": 52,
   "metadata": {},
   "outputs": [
    {
     "name": "stdout",
     "output_type": "stream",
     "text": [
      "The autoreload extension is already loaded. To reload it, use:\n",
      "  %reload_ext autoreload\n",
      " > Reloaded ../../src/qube/core\\series.pyx\n"
     ]
    }
   ],
   "source": [
    "%load_ext autoreload\n",
    "%autoreload 2\n",
    "\n",
    "from qube.utils import reload_pyx_module\n",
    "\n",
    "reload_pyx_module('../../src/qube/core/')\n",
    "from qube.core.series import TimeSeries\n",
    "del sys.modules['qube.core.series']\n",
    "from qube.core.series import (TimeSeries, sma, ema, tema, dema, kama, recognize_time, OHLCV, RollingSum, lag, compare, highest, lowest)"
   ]
  },
  {
   "cell_type": "markdown",
   "metadata": {},
   "source": [
    "## Series example"
   ]
  },
  {
   "cell_type": "code",
   "execution_count": 79,
   "metadata": {},
   "outputs": [
    {
     "data": {
      "text/plain": [
       "1"
      ]
     },
     "execution_count": 79,
     "metadata": {},
     "output_type": "execute_result"
    }
   ],
   "source": [
    "# %%timeit\n",
    "ts = TimeSeries('test', '10Min')\n",
    "ts.update(recognize_time('2024-01-01 00:00'), 1)\n",
    "ts.update(recognize_time('2024-01-01 00:01'), 5)\n",
    "ts.update(recognize_time('2024-01-01 00:06'), 2)\n",
    "ts.update(recognize_time('2024-01-01 00:12'), 3)\n",
    "ts.update(recognize_time('2024-01-01 00:21'), 4)\n",
    "ts.update(recognize_time('2024-01-01 00:22'), 5)\n",
    "ts.update(recognize_time('2024-01-01 00:31'), 6)\n",
    "ts.update(recognize_time('2024-01-01 00:33'), 7)\n",
    "ts.update(recognize_time('2024-01-01 00:45'), -12)\n",
    "ts.update(recognize_time('2024-01-01 00:55'), 12)\n",
    "ts.update(recognize_time('2024-01-01 01:00'), 12)"
   ]
  },
  {
   "cell_type": "code",
   "execution_count": 80,
   "metadata": {},
   "outputs": [
    {
     "data": {
      "text/plain": [
       "2024-01-01 00:00:00     2.0\n",
       "2024-01-01 00:10:00     3.0\n",
       "2024-01-01 00:20:00     5.0\n",
       "2024-01-01 00:30:00     7.0\n",
       "2024-01-01 00:40:00   -12.0\n",
       "2024-01-01 00:50:00    12.0\n",
       "2024-01-01 01:00:00    12.0\n",
       "Name: test, dtype: float64"
      ]
     },
     "execution_count": 80,
     "metadata": {},
     "output_type": "execute_result"
    }
   ],
   "source": [
    "ts.to_series()"
   ]
  },
  {
   "cell_type": "markdown",
   "metadata": {},
   "source": [
    "## <font color='orange'>WIP</font>"
   ]
  },
  {
   "cell_type": "markdown",
   "metadata": {},
   "source": [
    "### Indicators tests"
   ]
  },
  {
   "cell_type": "code",
   "execution_count": 151,
   "metadata": {},
   "outputs": [],
   "source": [
    "# %%timeit \n",
    "ts = TimeSeries('close', '1h')\n",
    "s1 = sma(ts, 50)\n",
    "e1 = ema(ts, 50)\n",
    "ss1 = sma(s1, 50)\n",
    "ee1 = ema(e1, 50)\n",
    "t1 = tema(ts, 50)\n",
    "k1 = kama(ts, 50)\n",
    "d1 = dema(ts, 50)\n",
    "test.push(ts, data)"
   ]
  },
  {
   "cell_type": "code",
   "execution_count": 152,
   "metadata": {},
   "outputs": [
    {
     "data": {
      "text/plain": [
       "True"
      ]
     },
     "execution_count": 152,
     "metadata": {},
     "output_type": "execute_result"
    }
   ],
   "source": [
    "k1s = k1.to_series().dropna()\n",
    "ik1 = test.apply_to_frame(test.kama, ts.to_series(), 50).dropna()\n",
    "sum(ik1 - k1.to_series().dropna()) < 1e-8"
   ]
  },
  {
   "cell_type": "code",
   "execution_count": 113,
   "metadata": {},
   "outputs": [
    {
     "data": {
      "text/plain": [
       "True"
      ]
     },
     "execution_count": 113,
     "metadata": {},
     "output_type": "execute_result"
    }
   ],
   "source": [
    "k1 = kama(ts, 50)\n",
    "k1s = k1.to_series().dropna()\n",
    "sum(ik1 - k1.to_series().dropna()) < 1e-8"
   ]
  },
  {
   "cell_type": "code",
   "execution_count": null,
   "metadata": {},
   "outputs": [],
   "source": [
    "plt.plot(ts.to_series(), lw=0.5)\n",
    "plt.plot(tema(ts, 50).to_series())\n",
    "plt.plot(dema(ts, 50).to_series())\n",
    "plt.plot(t1.to_series())"
   ]
  },
  {
   "cell_type": "code",
   "execution_count": 115,
   "metadata": {},
   "outputs": [],
   "source": [
    "# %%timeit\n",
    "x0 = ts.to_series()\n",
    "pe1 = x0.ewm(span=50, min_periods=50).mean()\n",
    "pee1 = pe1.ewm(span=50, min_periods=50).mean()\n",
    "ps1 = x0.rolling(50).mean()\n",
    "pss1 = ps1.rolling(50).mean()"
   ]
  },
  {
   "cell_type": "code",
   "execution_count": null,
   "metadata": {},
   "outputs": [],
   "source": [
    "plt.plot(x0, lw=0.5)\n",
    "plt.plot(s1.to_series()); plt.plot(ps1)\n",
    "plt.plot(ss1.to_series()); plt.plot(pss1)\n",
    "plt.plot(e1.to_series()); plt.plot(pe1)\n",
    "plt.plot(ee1.to_series()); plt.plot(pee1)\n",
    "# plt.plot(s1.to_series()-ps1)"
   ]
  },
  {
   "cell_type": "code",
   "execution_count": 116,
   "metadata": {},
   "outputs": [],
   "source": [
    "# %%timeit\n",
    "s1 = sma(ts, 50)\n",
    "e1 = ema(ts, 50)\n",
    "ss1 = sma(s1, 50)\n",
    "ee1 = ema(e1, 50)\n",
    "k1 = kama(e1, 50)"
   ]
  },
  {
   "cell_type": "code",
   "execution_count": 117,
   "metadata": {},
   "outputs": [
    {
     "data": {
      "text/plain": [
       "{'sma(50)': <qube.core.series.Sma at 0x23b70af9430>,\n",
       " 'ema(50,init_mean=True)': <qube.core.series.Ema at 0x23b6c65e790>,\n",
       " 'tema(50,init_mean=True)': <qube.core.series.Tema at 0x23b6be71ca0>,\n",
       " 'kama(50,2,30)': <qube.core.series.Kama at 0x23b6c4581f0>,\n",
       " 'dema(50,init_mean=True)': <qube.core.series.Dema at 0x23b6c92a4c0>}"
      ]
     },
     "execution_count": 117,
     "metadata": {},
     "output_type": "execute_result"
    }
   ],
   "source": [
    "ts.get_indicators()"
   ]
  },
  {
   "cell_type": "code",
   "execution_count": null,
   "metadata": {},
   "outputs": [],
   "source": [
    "plt.plot(k1.to_series())"
   ]
  },
  {
   "cell_type": "markdown",
   "metadata": {},
   "source": [
    "### Indicators wip ... "
   ]
  },
  {
   "cell_type": "code",
   "execution_count": 271,
   "metadata": {},
   "outputs": [],
   "source": [
    "ts0 = TimeSeries('close', '1Min')\n",
    "# em0 = sma(ts0, 3)\n",
    "# em1 = sma(em0, 3)\n",
    "k0 = kama(ts0, 6)  \n",
    "l1 = lag(ts0, 1)\n",
    "l2 = lag(l1, 1)\n",
    "\n",
    "for t, v in [\n",
    "    ('2024-01-01 00:00', 9), ('2024-01-01 00:00', 1),\n",
    "    ('2024-01-01 00:01', 2), ('2024-01-01 00:01', 3),   ('2024-01-01 00:01', 2),\n",
    "    ('2024-01-01 00:02', 3),\n",
    "    ('2024-01-01 00:03', 4),\n",
    "    ('2024-01-01 00:04', 5), ('2024-01-01 00:04', 5.1), ('2024-01-01 00:04:20', 5),\n",
    "    ('2024-01-01 00:05', 6), ('2024-01-01 00:05', 7),   ('2024-01-01 00:05', 6),\n",
    "    ('2024-01-01 00:07', 8), ('2024-01-01 00:07', -1),  ('2024-01-01 00:07', 8),\n",
    "    ('2024-01-01 00:08', 8),\n",
    "    ('2024-01-01 00:09', 8),\n",
    "    ('2024-01-01 00:10', 12),\n",
    "    ('2024-01-01 00:11', 13),\n",
    "    ('2024-01-01 00:12', 14),\n",
    "    ('2024-01-01 00:13', 15),\n",
    "    ('2024-01-01 00:14', 17),\n",
    "    ('2024-01-01 00:15', 4),\n",
    "]:\n",
    "    ts0.update(recognize_time(t), v)\n",
    "    # print(l3[0])"
   ]
  },
  {
   "cell_type": "code",
   "execution_count": 274,
   "metadata": {},
   "outputs": [
    {
     "data": {
      "text/html": [
       "<div>\n",
       "<style scoped>\n",
       "    .dataframe tbody tr th:only-of-type {\n",
       "        vertical-align: middle;\n",
       "    }\n",
       "\n",
       "    .dataframe tbody tr th {\n",
       "        vertical-align: top;\n",
       "    }\n",
       "\n",
       "    .dataframe thead th {\n",
       "        text-align: right;\n",
       "    }\n",
       "</style>\n",
       "<table border=\"1\" class=\"dataframe\">\n",
       "  <thead>\n",
       "    <tr style=\"text-align: right;\">\n",
       "      <th></th>\n",
       "      <th>close</th>\n",
       "      <th>lag(1)</th>\n",
       "      <th>lag(1)</th>\n",
       "    </tr>\n",
       "  </thead>\n",
       "  <tbody>\n",
       "    <tr>\n",
       "      <th>2024-01-01 00:00:00</th>\n",
       "      <td>1.0</td>\n",
       "      <td>NaN</td>\n",
       "      <td>NaN</td>\n",
       "    </tr>\n",
       "    <tr>\n",
       "      <th>2024-01-01 00:01:00</th>\n",
       "      <td>2.0</td>\n",
       "      <td>1.0</td>\n",
       "      <td>NaN</td>\n",
       "    </tr>\n",
       "    <tr>\n",
       "      <th>2024-01-01 00:02:00</th>\n",
       "      <td>3.0</td>\n",
       "      <td>2.0</td>\n",
       "      <td>1.0</td>\n",
       "    </tr>\n",
       "    <tr>\n",
       "      <th>2024-01-01 00:03:00</th>\n",
       "      <td>4.0</td>\n",
       "      <td>3.0</td>\n",
       "      <td>2.0</td>\n",
       "    </tr>\n",
       "    <tr>\n",
       "      <th>2024-01-01 00:04:00</th>\n",
       "      <td>5.0</td>\n",
       "      <td>4.0</td>\n",
       "      <td>3.0</td>\n",
       "    </tr>\n",
       "    <tr>\n",
       "      <th>2024-01-01 00:05:00</th>\n",
       "      <td>6.0</td>\n",
       "      <td>5.0</td>\n",
       "      <td>4.0</td>\n",
       "    </tr>\n",
       "    <tr>\n",
       "      <th>2024-01-01 00:07:00</th>\n",
       "      <td>8.0</td>\n",
       "      <td>6.0</td>\n",
       "      <td>5.0</td>\n",
       "    </tr>\n",
       "    <tr>\n",
       "      <th>2024-01-01 00:08:00</th>\n",
       "      <td>8.0</td>\n",
       "      <td>8.0</td>\n",
       "      <td>6.0</td>\n",
       "    </tr>\n",
       "    <tr>\n",
       "      <th>2024-01-01 00:09:00</th>\n",
       "      <td>8.0</td>\n",
       "      <td>8.0</td>\n",
       "      <td>8.0</td>\n",
       "    </tr>\n",
       "    <tr>\n",
       "      <th>2024-01-01 00:10:00</th>\n",
       "      <td>12.0</td>\n",
       "      <td>8.0</td>\n",
       "      <td>8.0</td>\n",
       "    </tr>\n",
       "    <tr>\n",
       "      <th>2024-01-01 00:11:00</th>\n",
       "      <td>13.0</td>\n",
       "      <td>12.0</td>\n",
       "      <td>8.0</td>\n",
       "    </tr>\n",
       "    <tr>\n",
       "      <th>2024-01-01 00:12:00</th>\n",
       "      <td>14.0</td>\n",
       "      <td>13.0</td>\n",
       "      <td>12.0</td>\n",
       "    </tr>\n",
       "    <tr>\n",
       "      <th>2024-01-01 00:13:00</th>\n",
       "      <td>15.0</td>\n",
       "      <td>14.0</td>\n",
       "      <td>13.0</td>\n",
       "    </tr>\n",
       "    <tr>\n",
       "      <th>2024-01-01 00:14:00</th>\n",
       "      <td>17.0</td>\n",
       "      <td>15.0</td>\n",
       "      <td>14.0</td>\n",
       "    </tr>\n",
       "    <tr>\n",
       "      <th>2024-01-01 00:15:00</th>\n",
       "      <td>4.0</td>\n",
       "      <td>17.0</td>\n",
       "      <td>15.0</td>\n",
       "    </tr>\n",
       "  </tbody>\n",
       "</table>\n",
       "</div>"
      ],
      "text/plain": [
       "                     close  lag(1)  lag(1)\n",
       "2024-01-01 00:00:00    1.0     NaN     NaN\n",
       "2024-01-01 00:01:00    2.0     1.0     NaN\n",
       "2024-01-01 00:02:00    3.0     2.0     1.0\n",
       "2024-01-01 00:03:00    4.0     3.0     2.0\n",
       "2024-01-01 00:04:00    5.0     4.0     3.0\n",
       "2024-01-01 00:05:00    6.0     5.0     4.0\n",
       "2024-01-01 00:07:00    8.0     6.0     5.0\n",
       "2024-01-01 00:08:00    8.0     8.0     6.0\n",
       "2024-01-01 00:09:00    8.0     8.0     8.0\n",
       "2024-01-01 00:10:00   12.0     8.0     8.0\n",
       "2024-01-01 00:11:00   13.0    12.0     8.0\n",
       "2024-01-01 00:12:00   14.0    13.0    12.0\n",
       "2024-01-01 00:13:00   15.0    14.0    13.0\n",
       "2024-01-01 00:14:00   17.0    15.0    14.0\n",
       "2024-01-01 00:15:00    4.0    17.0    15.0"
      ]
     },
     "execution_count": 274,
     "metadata": {},
     "output_type": "execute_result"
    }
   ],
   "source": [
    "test.scols(ts0, l1, l2)"
   ]
  },
  {
   "cell_type": "code",
   "execution_count": 276,
   "metadata": {},
   "outputs": [
    {
     "data": {
      "text/plain": [
       "2024-01-01 00:00:00    False\n",
       "2024-01-01 00:01:00    False\n",
       "2024-01-01 00:02:00     True\n",
       "2024-01-01 00:03:00     True\n",
       "2024-01-01 00:04:00     True\n",
       "2024-01-01 00:05:00     True\n",
       "2024-01-01 00:07:00     True\n",
       "2024-01-01 00:08:00     True\n",
       "2024-01-01 00:09:00     True\n",
       "2024-01-01 00:10:00     True\n",
       "2024-01-01 00:11:00     True\n",
       "2024-01-01 00:12:00     True\n",
       "2024-01-01 00:13:00     True\n",
       "2024-01-01 00:14:00     True\n",
       "2024-01-01 00:15:00     True\n",
       "dtype: bool"
      ]
     },
     "execution_count": 276,
     "metadata": {},
     "output_type": "execute_result"
    }
   ],
   "source": [
    "lag(ts0, 2).to_series() == l2.to_series()"
   ]
  },
  {
   "cell_type": "code",
   "execution_count": null,
   "metadata": {},
   "outputs": [],
   "source": [
    "ts0.get_indicators()"
   ]
  },
  {
   "cell_type": "code",
   "execution_count": 252,
   "metadata": {},
   "outputs": [],
   "source": [
    "ll2 = lag(lag(ts0, 1),1)"
   ]
  },
  {
   "cell_type": "markdown",
   "metadata": {},
   "source": [
    "### Caching indicators"
   ]
  },
  {
   "cell_type": "code",
   "execution_count": 53,
   "metadata": {},
   "outputs": [],
   "source": [
    "ts = TimeSeries('close', '1h')\n",
    "test.push(ts, data);"
   ]
  },
  {
   "cell_type": "code",
   "execution_count": 76,
   "metadata": {},
   "outputs": [
    {
     "data": {
      "image/png": "[encoded data removed]",
      "text/plain": [
       "<Figure size 640x480 with 1 Axes>"
      ]
     },
     "metadata": {},
     "output_type": "display_data"
    }
   ],
   "source": [
    "ts.plot(ls=':', lw=1, c='r')\n",
    "# (ema(ema(ts, 50), 10)).plot(lw=1, c='g')\n",
    "(ema(ts, 300)).plot(lw=1, c='g')\n",
    "\n",
    "(((ts > ema(ts, 300))*2 - 1)*300).plot()\n",
    "(((ts < ema(ts, 300))*2 + 1)*300).plot()"
   ]
  },
  {
   "cell_type": "code",
   "execution_count": 55,
   "metadata": {},
   "outputs": [
    {
     "data": {
      "text/plain": [
       "2024-01-01 00:00:00    0.0\n",
       "2024-01-01 01:00:00    0.0\n",
       "2024-01-01 02:00:00    0.0\n",
       "2024-01-01 03:00:00    0.0\n",
       "2024-01-01 04:00:00    0.0\n",
       "                      ... \n",
       "2024-03-10 06:00:00    1.0\n",
       "2024-03-10 07:00:00    1.0\n",
       "2024-03-10 08:00:00    1.0\n",
       "2024-03-10 09:00:00    1.0\n",
       "2024-03-10 10:00:00    1.0\n",
       "Name: lessthan(close), Length: 1667, dtype: float64"
      ]
     },
     "execution_count": 55,
     "metadata": {},
     "output_type": "execute_result"
    }
   ],
   "source": []
  },
  {
   "cell_type": "code",
   "execution_count": null,
   "metadata": {},
   "outputs": [],
   "source": [
    "plt.plot(ts.pd())"
   ]
  },
  {
   "cell_type": "code",
   "execution_count": 233,
   "metadata": {},
   "outputs": [],
   "source": [
    "x = sma(ts, 15) / 10000"
   ]
  },
  {
   "cell_type": "code",
   "execution_count": 273,
   "metadata": {},
   "outputs": [
    {
     "data": {
      "text/plain": [
       "[<matplotlib.lines.Line2D at 0x1880aa48cd0>]"
      ]
     },
     "execution_count": 273,
     "metadata": {},
     "output_type": "execute_result"
    },
    {
     "data": {
      "image/png": "[encoded data removed]",
      "text/plain": [
       "<Figure size 640x480 with 1 Axes>"
      ]
     },
     "metadata": {},
     "output_type": "display_data"
    }
   ],
   "source": [
    "plt.plot(ts[::-1])\n",
    "plt.plot(sma(ts, 100)[::-1])"
   ]
  },
  {
   "cell_type": "code",
   "execution_count": 256,
   "metadata": {},
   "outputs": [
    {
     "data": {
      "text/html": [
       "<div>\n",
       "<style scoped>\n",
       "    .dataframe tbody tr th:only-of-type {\n",
       "        vertical-align: middle;\n",
       "    }\n",
       "\n",
       "    .dataframe tbody tr th {\n",
       "        vertical-align: top;\n",
       "    }\n",
       "\n",
       "    .dataframe thead th {\n",
       "        text-align: right;\n",
       "    }\n",
       "</style>\n",
       "<table border=\"1\" class=\"dataframe\">\n",
       "  <thead>\n",
       "    <tr style=\"text-align: right;\">\n",
       "      <th></th>\n",
       "      <th>close</th>\n",
       "      <th>sma(100)</th>\n",
       "    </tr>\n",
       "  </thead>\n",
       "  <tbody>\n",
       "    <tr>\n",
       "      <th>2024-01-01 00:00:00</th>\n",
       "      <td>9.547423</td>\n",
       "      <td>NaN</td>\n",
       "    </tr>\n",
       "    <tr>\n",
       "      <th>2024-01-01 00:05:00</th>\n",
       "      <td>6.196747</td>\n",
       "      <td>NaN</td>\n",
       "    </tr>\n",
       "    <tr>\n",
       "      <th>2024-01-01 00:10:00</th>\n",
       "      <td>4.965852</td>\n",
       "      <td>NaN</td>\n",
       "    </tr>\n",
       "    <tr>\n",
       "      <th>2024-01-01 00:15:00</th>\n",
       "      <td>7.308524</td>\n",
       "      <td>NaN</td>\n",
       "    </tr>\n",
       "    <tr>\n",
       "      <th>2024-01-01 00:20:00</th>\n",
       "      <td>6.591538</td>\n",
       "      <td>NaN</td>\n",
       "    </tr>\n",
       "    <tr>\n",
       "      <th>...</th>\n",
       "      <td>...</td>\n",
       "      <td>...</td>\n",
       "    </tr>\n",
       "    <tr>\n",
       "      <th>2024-03-10 10:15:00</th>\n",
       "      <td>-707.613430</td>\n",
       "      <td>-724.800415</td>\n",
       "    </tr>\n",
       "    <tr>\n",
       "      <th>2024-03-10 10:20:00</th>\n",
       "      <td>-709.290582</td>\n",
       "      <td>-724.533429</td>\n",
       "    </tr>\n",
       "    <tr>\n",
       "      <th>2024-03-10 10:25:00</th>\n",
       "      <td>-701.952448</td>\n",
       "      <td>-724.119552</td>\n",
       "    </tr>\n",
       "    <tr>\n",
       "      <th>2024-03-10 10:30:00</th>\n",
       "      <td>-698.142646</td>\n",
       "      <td>-723.615258</td>\n",
       "    </tr>\n",
       "    <tr>\n",
       "      <th>2024-03-10 10:35:00</th>\n",
       "      <td>-692.007145</td>\n",
       "      <td>-723.064154</td>\n",
       "    </tr>\n",
       "  </tbody>\n",
       "</table>\n",
       "<p>20000 rows × 2 columns</p>\n",
       "</div>"
      ],
      "text/plain": [
       "                          close    sma(100)\n",
       "2024-01-01 00:00:00    9.547423         NaN\n",
       "2024-01-01 00:05:00    6.196747         NaN\n",
       "2024-01-01 00:10:00    4.965852         NaN\n",
       "2024-01-01 00:15:00    7.308524         NaN\n",
       "2024-01-01 00:20:00    6.591538         NaN\n",
       "...                         ...         ...\n",
       "2024-03-10 10:15:00 -707.613430 -724.800415\n",
       "2024-03-10 10:20:00 -709.290582 -724.533429\n",
       "2024-03-10 10:25:00 -701.952448 -724.119552\n",
       "2024-03-10 10:30:00 -698.142646 -723.615258\n",
       "2024-03-10 10:35:00 -692.007145 -723.064154\n",
       "\n",
       "[20000 rows x 2 columns]"
      ]
     },
     "execution_count": 256,
     "metadata": {},
     "output_type": "execute_result"
    }
   ],
   "source": [
    "test.scols(ts.pd(), sma(ts, 100).pd())"
   ]
  },
  {
   "cell_type": "code",
   "execution_count": null,
   "metadata": {},
   "outputs": [],
   "source": [
    "c = 1\n",
    "((ts + sma(ts, 10))/c).pd()"
   ]
  },
  {
   "cell_type": "code",
   "execution_count": 167,
   "metadata": {},
   "outputs": [
    {
     "data": {
      "text/plain": [
       "{'sma(15)': <qube.core.series.Sma at 0x188073a03c0>,\n",
       " 'sma(10)': <qube.core.series.Sma at 0x188073a0970>,\n",
       " 'plus(divide(2))': <qube.core.series.Plus at 0x188031e2ac0>,\n",
       " 'plus(divide(21))': <qube.core.series.Plus at 0x188031e2c40>,\n",
       " 'plus(divide(-1000))': <qube.core.series.Plus at 0x188031e2dc0>,\n",
       " 'plus(divide(-1))': <qube.core.series.Plus at 0x188031e2a40>,\n",
       " 'plus(divide(1))': <qube.core.series.Plus at 0x188031e2440>,\n",
       " 'plus(sma(10))': <qube.core.series.Plus at 0x1887da0ab40>}"
      ]
     },
     "execution_count": 167,
     "metadata": {},
     "output_type": "execute_result"
    }
   ],
   "source": [
    "ts.get_indicators()"
   ]
  },
  {
   "cell_type": "code",
   "execution_count": 109,
   "metadata": {},
   "outputs": [
    {
     "data": {
      "text/plain": [
       "2024-01-01 00:00:00     -2.607196\n",
       "2024-01-01 01:00:00     -5.109464\n",
       "2024-01-01 02:00:00     10.511551\n",
       "2024-01-01 03:00:00     -7.930545\n",
       "2024-01-01 04:00:00    -23.576204\n",
       "                          ...    \n",
       "2024-03-10 06:00:00   -703.797913\n",
       "2024-03-10 07:00:00   -720.468246\n",
       "2024-03-10 08:00:00   -712.936513\n",
       "2024-03-10 09:00:00   -719.258723\n",
       "2024-03-10 10:00:00   -692.007145\n",
       "Name: close, Length: 1667, dtype: float64"
      ]
     },
     "execution_count": 109,
     "metadata": {},
     "output_type": "execute_result"
    }
   ],
   "source": [
    "ts.pd()"
   ]
  },
  {
   "cell_type": "code",
   "execution_count": 309,
   "metadata": {},
   "outputs": [
    {
     "data": {
      "text/plain": [
       "2024-01-01 00:00:00           NaN\n",
       "2024-01-01 01:00:00           NaN\n",
       "2024-01-01 02:00:00           NaN\n",
       "2024-01-01 03:00:00           NaN\n",
       "2024-01-01 04:00:00           NaN\n",
       "                          ...    \n",
       "2024-03-10 06:00:00    630.626537\n",
       "2024-03-10 07:00:00    633.594281\n",
       "2024-03-10 08:00:00    636.005011\n",
       "2024-03-10 09:00:00    638.245717\n",
       "2024-03-10 10:00:00    640.161844\n",
       "Name: dema(50,init_mean=True), Length: 1667, dtype: float64"
      ]
     },
     "execution_count": 309,
     "metadata": {},
     "output_type": "execute_result"
    }
   ],
   "source": [
    "ema(ts, 10).to_series()\n",
    "ema(ts, 50).to_series()\n",
    "tema(ts, 50).to_series()\n",
    "dema(ts, 50).to_series()"
   ]
  },
  {
   "cell_type": "code",
   "execution_count": 310,
   "metadata": {},
   "outputs": [
    {
     "data": {
      "text/plain": [
       "{'sma(10,)': <qube.core.series.Sma at 0x1e30d2dbf20>,\n",
       " 'ema(10,init_mean=True)': <qube.core.series.Ema at 0x1e30ca170d0>,\n",
       " 'ema(50,init_mean=True)': <qube.core.series.Ema at 0x1e30d29f700>,\n",
       " 'tema(50,init_mean=True)': <qube.core.series.Tema at 0x1e30d29f790>,\n",
       " 'dema(50,init_mean=True)': <qube.core.series.Dema at 0x1e30cb502c0>}"
      ]
     },
     "execution_count": 310,
     "metadata": {},
     "output_type": "execute_result"
    }
   ],
   "source": [
    "ts.get_indicators()"
   ]
  },
  {
   "cell_type": "markdown",
   "metadata": {},
   "source": [
    "### OHLC tests"
   ]
  },
  {
   "cell_type": "code",
   "execution_count": 367,
   "metadata": {},
   "outputs": [],
   "source": [
    "ohlc = OHLCV('1Min')\n",
    "s1 = sma(ohlc.close, 10)\n",
    "for t, v in [\n",
    "    ('2024-01-01 00:00', 9), ('2024-01-01 00:00', 1),\n",
    "    ('2024-01-01 00:01', 2), ('2024-01-01 00:01', 3),   ('2024-01-01 00:01', 2),\n",
    "    ('2024-01-01 00:02', 3),\n",
    "    ('2024-01-01 00:03', 4),\n",
    "    ('2024-01-01 00:04', 5), ('2024-01-01 00:04', 5.1), ('2024-01-01 00:04:20', 5),\n",
    "    ('2024-01-01 00:05', 6), ('2024-01-01 00:05', 7),   ('2024-01-01 00:05', 6),\n",
    "    ('2024-01-01 00:07', 8), ('2024-01-01 00:07', -1),  ('2024-01-01 00:07', 8),\n",
    "    ('2024-01-01 00:08', 8),\n",
    "    ('2024-01-01 00:09', 8),\n",
    "    ('2024-01-01 00:10', 12), ('2024-01-01 00:10:01', 21),('2024-01-01 00:10:30', 1),('2024-01-01 00:10:31', 5),\n",
    "    ('2024-01-01 00:11', 13),\n",
    "    ('2024-01-01 00:12', 14),\n",
    "    ('2024-01-01 00:13', 15),\n",
    "    ('2024-01-01 00:14', 17),\n",
    "    ('2024-01-01 00:15', 4), ('2024-01-01 00:15:10', 12),\n",
    "]:\n",
    "    ohlc.update(recognize_time(t), v, 1)"
   ]
  },
  {
   "cell_type": "code",
   "execution_count": 369,
   "metadata": {},
   "outputs": [],
   "source": [
    "r1 = RollingSum(3)"
   ]
  },
  {
   "cell_type": "code",
   "execution_count": 381,
   "metadata": {},
   "outputs": [
    {
     "name": "stdout",
     "output_type": "stream",
     "text": [
      "rs[3] = [1. 1. 1.] @ 0 -> 0\n"
     ]
    }
   ],
   "source": [
    "r1.update(1, 1); print(r1)\n",
    "# r1.update(1, 1); print(r1)\n",
    "# r1.update(1, 0); print(r1)"
   ]
  },
  {
   "cell_type": "code",
   "execution_count": null,
   "metadata": {},
   "outputs": [],
   "source": [
    "ohlc.to_series()"
   ]
  },
  {
   "cell_type": "code",
   "execution_count": 385,
   "metadata": {},
   "outputs": [
    {
     "name": "stdout",
     "output_type": "stream",
     "text": [
      "OHLCV[1Min] | 15 records\n",
      "  2024-01-01T00:15:00.000000000 {o:4.000000 | h:12.000000 | l:4.000000 | c:12.000000 | v:2.000000}\n",
      "  2024-01-01T00:14:00.000000000 {o:17.000000 | h:17.000000 | l:17.000000 | c:17.000000 | v:1.000000}\n",
      "  2024-01-01T00:13:00.000000000 {o:15.000000 | h:15.000000 | l:15.000000 | c:15.000000 | v:1.000000}\n",
      "   .......... \n",
      "  2024-01-01T00:02:00.000000000 {o:3.000000 | h:3.000000 | l:3.000000 | c:3.000000 | v:1.000000}\n",
      "  2024-01-01T00:01:00.000000000 {o:2.000000 | h:3.000000 | l:2.000000 | c:2.000000 | v:3.000000}\n",
      "  2024-01-01T00:00:00.000000000 {o:9.000000 | h:9.000000 | l:1.000000 | c:1.000000 | v:2.000000}\n",
      " sma(10)[1Min] | 15 records\n",
      "  2024-01-01T00:15:00.000000000 10.6\n",
      "  2024-01-01T00:14:00.000000000 9.9\n",
      "  2024-01-01T00:13:00.000000000 8.6\n",
      "   .......... \n",
      "  2024-01-01T00:02:00.000000000 nan\n",
      "  2024-01-01T00:01:00.000000000 nan\n",
      "  2024-01-01T00:00:00.000000000 nan\n",
      "\n"
     ]
    }
   ],
   "source": [
    "print(str(ohlc), str(s1))"
   ]
  },
  {
   "cell_type": "code",
   "execution_count": 386,
   "metadata": {},
   "outputs": [
    {
     "data": {
      "text/plain": [
       "2024-01-01 00:00:00     NaN\n",
       "2024-01-01 00:01:00     NaN\n",
       "2024-01-01 00:02:00     NaN\n",
       "2024-01-01 00:03:00     NaN\n",
       "2024-01-01 00:04:00     NaN\n",
       "2024-01-01 00:05:00     NaN\n",
       "2024-01-01 00:07:00     NaN\n",
       "2024-01-01 00:08:00     NaN\n",
       "2024-01-01 00:09:00     NaN\n",
       "2024-01-01 00:10:00     NaN\n",
       "2024-01-01 00:11:00     6.2\n",
       "2024-01-01 00:12:00     7.4\n",
       "2024-01-01 00:13:00     8.6\n",
       "2024-01-01 00:14:00     9.9\n",
       "2024-01-01 00:15:00    10.6\n",
       "Name: sma(10), dtype: float64"
      ]
     },
     "execution_count": 386,
     "metadata": {},
     "output_type": "execute_result"
    }
   ],
   "source": [
    "s1.to_series()"
   ]
  },
  {
   "cell_type": "code",
   "execution_count": 388,
   "metadata": {},
   "outputs": [
    {
     "data": {
      "text/plain": [
       "2024-01-01 00:00:00     NaN\n",
       "2024-01-01 00:01:00     NaN\n",
       "2024-01-01 00:02:00     NaN\n",
       "2024-01-01 00:03:00     NaN\n",
       "2024-01-01 00:04:00     NaN\n",
       "2024-01-01 00:05:00     NaN\n",
       "2024-01-01 00:07:00     NaN\n",
       "2024-01-01 00:08:00     NaN\n",
       "2024-01-01 00:09:00     NaN\n",
       "2024-01-01 00:10:00     5.0\n",
       "2024-01-01 00:11:00     6.2\n",
       "2024-01-01 00:12:00     7.4\n",
       "2024-01-01 00:13:00     8.6\n",
       "2024-01-01 00:14:00     9.9\n",
       "2024-01-01 00:15:00    10.6\n",
       "Name: sma(10), dtype: float64"
      ]
     },
     "execution_count": 388,
     "metadata": {},
     "output_type": "execute_result"
    }
   ],
   "source": [
    "sma(ohlc.close, 10).to_series()"
   ]
  },
  {
   "cell_type": "code",
   "execution_count": 389,
   "metadata": {},
   "outputs": [
    {
     "data": {
      "text/plain": [
       "2024-01-01 00:00:00       NaN\n",
       "2024-01-01 00:01:00       NaN\n",
       "2024-01-01 00:02:00       NaN\n",
       "2024-01-01 00:03:00       NaN\n",
       "2024-01-01 00:04:00       NaN\n",
       "2024-01-01 00:05:00       NaN\n",
       "2024-01-01 00:07:00       NaN\n",
       "2024-01-01 00:08:00     4.625\n",
       "2024-01-01 00:09:00     5.500\n",
       "2024-01-01 00:10:00     5.875\n",
       "2024-01-01 00:11:00     7.125\n",
       "2024-01-01 00:12:00     8.375\n",
       "2024-01-01 00:13:00     9.625\n",
       "2024-01-01 00:14:00    11.000\n",
       "2024-01-01 00:15:00    11.500\n",
       "Name: sma(8), dtype: float64"
      ]
     },
     "execution_count": 389,
     "metadata": {},
     "output_type": "execute_result"
    }
   ],
   "source": [
    "sma(ohlc.close, 8).to_series()"
   ]
  },
  {
   "cell_type": "markdown",
   "metadata": {},
   "source": [
    "## How to work with indicators in strategy"
   ]
  },
  {
   "cell_type": "code",
   "execution_count": 71,
   "metadata": {},
   "outputs": [
    {
     "data": {
      "text/plain": [
       "<qube.core.series.TimeSeries at 0x18802b9a640>"
      ]
     },
     "execution_count": 71,
     "metadata": {},
     "output_type": "execute_result"
    }
   ],
   "source": [
    "xs = TimeSeries('close', '1h')\n",
    "# compare(xs.shift(1), xs)\n",
    "hh = highest(xs, 13)\n",
    "ll = lowest(xs, 13)\n",
    "test.push(xs, data)"
   ]
  },
  {
   "cell_type": "code",
   "execution_count": 57,
   "metadata": {},
   "outputs": [
    {
     "data": {
      "text/plain": [
       "[<matplotlib.lines.Line2D at 0x18804a67820>]"
      ]
     },
     "execution_count": 57,
     "metadata": {},
     "output_type": "execute_result"
    },
    {
     "data": {
      "image/png": "[encoded data removed]",
      "text/plain": [
       "<Figure size 640x480 with 1 Axes>"
      ]
     },
     "metadata": {},
     "output_type": "display_data"
    }
   ],
   "source": [
    "plt.plot(xs.pd()[:100])\n",
    "plt.plot(highest(xs, 13).pd()[:100])\n",
    "plt.plot(lowest(xs, 13).pd()[:100])\n",
    "# plt.plot(hh.pd()[:100])\n",
    "# plt.plot(xs.pd().rolling(13).max()[:100])"
   ]
  },
  {
   "cell_type": "code",
   "execution_count": 75,
   "metadata": {},
   "outputs": [
    {
     "data": {
      "text/plain": [
       "True"
      ]
     },
     "execution_count": 75,
     "metadata": {},
     "output_type": "execute_result"
    }
   ],
   "source": [
    "all(abs(highest(xs, 13).pd().dropna() - xs.pd().rolling(13).max().dropna()) <= 1e-4)"
   ]
  },
  {
   "cell_type": "code",
   "execution_count": null,
   "metadata": {},
   "outputs": [],
   "source": [
    "test.scols(xs.to_series(), xs.shift(1).to_series(), compare(xs, xs.shift(1)).to_series())"
   ]
  },
  {
   "cell_type": "code",
   "execution_count": null,
   "metadata": {},
   "outputs": [],
   "source": [
    "xs.update(pd.Timestamp('2024-03-10 15:00:01').asm8, 1)\n",
    "test.scols(xs.pd(), xs.shift(1).pd(), compare(xs, xs.shift(1)).pd())"
   ]
  },
  {
   "cell_type": "code",
   "execution_count": null,
   "metadata": {},
   "outputs": [],
   "source": [
    "xs.shift(1)"
   ]
  },
  {
   "cell_type": "code",
   "execution_count": null,
   "metadata": {},
   "outputs": [],
   "source": [
    "for i in range(len(xs) - 1):\n",
    "    if (ema(xs, 15)[i] > ema(xs, 50)[i]) and (ema(xs, 15)[i+1] < ema(xs, 50)[i+1]):\n",
    "        print(pd.Timestamp(xs.times[i]))"
   ]
  },
  {
   "cell_type": "code",
   "execution_count": 133,
   "metadata": {},
   "outputs": [
    {
     "data": {
      "text/plain": [
       "{'lag(1)': <qube.core.series.Lag at 0x21b78bd2190>,\n",
       " 'compare(lag(1))': <qube.core.series.Compare at 0x21b78bd2c10>,\n",
       " 'ema(15,init_mean=True)': <qube.core.series.Ema at 0x21b78bf41f0>,\n",
       " 'ema(50,init_mean=True)': <qube.core.series.Ema at 0x21b78bf4700>}"
      ]
     },
     "execution_count": 133,
     "metadata": {},
     "output_type": "execute_result"
    }
   ],
   "source": [
    "xs.get_indicators()"
   ]
  },
  {
   "cell_type": "code",
   "execution_count": 392,
   "metadata": {},
   "outputs": [
    {
     "data": {
      "text/plain": [
       "[<matplotlib.lines.Line2D at 0x21b7cd2f6d0>]"
      ]
     },
     "execution_count": 392,
     "metadata": {},
     "output_type": "execute_result"
    },
    {
     "data": {
      "image/png": "[encoded data removed]",
      "text/plain": [
       "<Figure size 640x480 with 1 Axes>"
      ]
     },
     "metadata": {},
     "output_type": "display_data"
    }
   ],
   "source": []
  },
  {
   "cell_type": "code",
   "execution_count": 295,
   "metadata": {},
   "outputs": [],
   "source": [
    "from collections import deque\n",
    "class SlidingWindowMinMax:\n",
    "\tdef __init__(self, period):\n",
    "\t\tself.maxdeque = deque(maxlen=period-1)\n",
    "\t\t\n",
    "\tdef get_maximum(self):\n",
    "\t\treturn self.maxdeque[0]\n",
    "\t\n",
    "\tdef add_tail(self, val):\n",
    "\t\twhile len(self.maxdeque) > 0 and val >= self.maxdeque[-1]:\n",
    "\t\t\tself.maxdeque.pop()\n",
    "\t\tself.maxdeque.append(val)\n",
    "\t\t# print(f'MAX: {self.get_maximum()} ~ {self.maxdeque}')\n",
    "\n",
    "\tdef update(self, val):\n",
    "\t\tif self.maxdeque[0] < val:\n",
    "\t\t\tself.maxdeque[0] = val"
   ]
  },
  {
   "cell_type": "code",
   "execution_count": 376,
   "metadata": {},
   "outputs": [],
   "source": [
    "def max_sliding_window(a, k):\n",
    "    queue = deque()\n",
    "    res, i = [], 0\n",
    "    for i in range(len(a)):\n",
    "        while queue and queue[-1][0] <= a[i]:\n",
    "            queue.pop()\n",
    "        queue.append((a[i], i+k-1))\n",
    "        if i >= k-1: res.append(queue[0][0])\n",
    "        if i == queue[0][1]: queue.popleft()\n",
    "    return res"
   ]
  },
  {
   "cell_type": "code",
   "execution_count": 377,
   "metadata": {},
   "outputs": [
    {
     "data": {
      "text/plain": [
       "[2, 2, 3, 4, 5, 5, 5, 4]"
      ]
     },
     "execution_count": 377,
     "metadata": {},
     "output_type": "execute_result"
    }
   ],
   "source": [
    "max_sliding_window([1,2,1,2,3,4,5,1,1,4], 3)"
   ]
  },
  {
   "cell_type": "code",
   "execution_count": 364,
   "metadata": {},
   "outputs": [
    {
     "name": "stdout",
     "output_type": "stream",
     "text": [
      "[3, 5, 5, 5, 4]\n"
     ]
    }
   ],
   "source": [
    "def _windowed_max(int_list, k, reversed=False):\n",
    "    if reversed:\n",
    "        int_list = int_list.copy()\n",
    "        int_list.reverse()\n",
    "    left = []\n",
    "    cur_max = int_list[0]\n",
    "    for i, v in enumerate(int_list):\n",
    "        if i % k == 0:\n",
    "            cur_max = v\n",
    "        else:\n",
    "            cur_max = max(cur_max, v)\n",
    "        left.append(cur_max)\n",
    "    if reversed:\n",
    "        left.reverse()\n",
    "    return left\n",
    "\n",
    "def sliding_window_v3(int_list, k):\n",
    "    left = _windowed_max(int_list, k)\n",
    "    right = _windowed_max(int_list, k, reversed=True)\n",
    "    max_list = []\n",
    "    for i in range(k, len(int_list) + 1):\n",
    "        max_list.append(max(left[i - 1], right[i - k]))\n",
    "\n",
    "    return max_list\n",
    "list001 = [1, 2, 3, 5, 1, 4, 3]\n",
    "\n",
    "res = sliding_window_v3(list001, 3)\n",
    "print(res)"
   ]
  },
  {
   "cell_type": "code",
   "execution_count": null,
   "metadata": {},
   "outputs": [],
   "source": [
    "mq = MinMaxQueue()\n",
    "mq.enque_element(10)\n",
    "mq.enque_element(50)\n",
    "mq.enque_element(10)\n",
    "mq.enque_element(2)\n",
    "mq.enque_element(21)\n",
    "mq.enque_element(21)\n",
    "mq.enque_element(1)"
   ]
  },
  {
   "cell_type": "code",
   "execution_count": 301,
   "metadata": {},
   "outputs": [],
   "source": [
    "# def max_sliding_window(a, k):\n",
    "#     D = deque()\n",
    "#     res, i = [], 0\n",
    "#     for i in range(len(a)):\n",
    "#         while D and D[-1][0] <= a[i]:\n",
    "#             D.pop()\n",
    "#         D.append((a[i], i+k-1))\n",
    "#         if i >= k-1: res.append(D[0][0])\n",
    "#         if i == D[0][1]: D.popleft()\n",
    "#     return res"
   ]
  },
  {
   "cell_type": "code",
   "execution_count": null,
   "metadata": {},
   "outputs": [],
   "source": [
    "# pd.Series(max_sliding_window(xs.pd(), 20), index=xs.pd().index)"
   ]
  },
  {
   "cell_type": "code",
   "execution_count": 302,
   "metadata": {},
   "outputs": [],
   "source": [
    "sw = SlidingWindowMinMax(20)\n",
    "ms = {}\n",
    "for t,v in zip(xs.pd().index, xs.pd().values):\n",
    "    sw.add_tail(v)\n",
    "    ms[t] = sw.get_maximum()"
   ]
  },
  {
   "cell_type": "code",
   "execution_count": 304,
   "metadata": {},
   "outputs": [
    {
     "data": {
      "text/plain": [
       "[<matplotlib.lines.Line2D at 0x21b7cbd0760>]"
      ]
     },
     "execution_count": 304,
     "metadata": {},
     "output_type": "execute_result"
    },
    {
     "data": {
      "image/png": "[encoded data removed]",
      "text/plain": [
       "<Figure size 640x480 with 1 Axes>"
      ]
     },
     "metadata": {},
     "output_type": "display_data"
    }
   ],
   "source": [
    "\n",
    "plt.plot(xs.pd())\n",
    "# plt.plot(pd.Series(ms))\n",
    "\n",
    "max_sliding_window(xs.pd(), 20)\n",
    "plt.plot(xs.pd().rolling(20).max())"
   ]
  },
  {
   "cell_type": "code",
   "execution_count": null,
   "metadata": {},
   "outputs": [],
   "source": [
    "sw = SlidingWindowMinMax(3)\n",
    "sw.add_tail(1)\n",
    "sw.add_tail(2)\n",
    "sw.add_tail(3)\n",
    "sw.add_tail(2)\n",
    "sw.add_tail(1)\n",
    "sw.add_tail(1)\n",
    "# sw.update(5)\n",
    "# sw.update(6)\n",
    "# sw.update(1)\n",
    "sw.add_tail(12)\n",
    "sw.add_tail(1)\n",
    "sw.add_tail(3)\n",
    "sw.add_tail(1)\n",
    "sw.add_tail(1)"
   ]
  },
  {
   "cell_type": "code",
   "execution_count": 157,
   "metadata": {},
   "outputs": [
    {
     "data": {
      "text/plain": [
       "2"
      ]
     },
     "execution_count": 157,
     "metadata": {},
     "output_type": "execute_result"
    }
   ],
   "source": [
    "sw.get_maximum()"
   ]
  }
 ],
 "metadata": {
  "kernelspec": {
   "display_name": "py39",
   "language": "python",
   "name": "python3"
  },
  "language_info": {
   "codemirror_mode": {
    "name": "ipython",
    "version": 3
   },
   "file_extension": ".py",
   "mimetype": "text/x-python",
   "name": "python",
   "nbconvert_exporter": "python",
   "pygments_lexer": "ipython3",
   "version": "3.9.13"
  }
 },
 "nbformat": 4,
 "nbformat_minor": 2
}
