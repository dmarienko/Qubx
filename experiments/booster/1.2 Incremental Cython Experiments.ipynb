{
 "cells": [
  {
   "cell_type": "code",
   "execution_count": 16,
   "metadata": {},
   "outputs": [
    {
     "name": "stdout",
     "output_type": "stream",
     "text": [
      "installed\n",
      "The cython extension is already loaded. To reload it, use:\n",
      "  %reload_ext cython\n"
     ]
    }
   ],
   "source": [
    "import pandas as pd\n",
    "import numpy as np\n",
    "import sys, os, re\n",
    "import matplotlib.pyplot as plt\n",
    "\n",
    "# from importlib import reload\n",
    "\n",
    "if re.match(r'^(\\w\\:\\\\)|(/)', os.getcwd()):\n",
    "    # sys.path.insert(0, \"c:/Users/dmitr/devs/quantl/\")\n",
    "    # sys.path.insert(0, \"c:/Users/dmitr/devs/Qube/\")\n",
    "    sys.path.insert(0, \"c:/Users/dmitr/devs/Qube2exp/src/\")\n",
    "    sys.path.insert(0, \"c:/Users/dmitr/devs/Qube2exp/tests/\")\n",
    "    print('installed')\n",
    "\n",
    "\n",
    "# just some handy helpers from old Qube\n",
    "from ta_helpers import kama, kama_indicator, apply_to_frame\n",
    "\n",
    "%load_ext cython\n",
    "\n",
    "T = pd.date_range('2024-01-01 00:00', freq='1Min', periods=100_000)\n",
    "ds = 1 + (2*np.random.randn(len(T))).cumsum()\n",
    "data = list(zip(T, ds))"
   ]
  },
  {
   "cell_type": "markdown",
   "metadata": {},
   "source": [
    "## Cython v2 tests (cseries1)"
   ]
  },
  {
   "cell_type": "code",
   "execution_count": 2,
   "metadata": {},
   "outputs": [
    {
     "name": "stdout",
     "output_type": "stream",
     "text": [
      " > Reloaded ../../src/qube/core\\series.pyx\n",
      " > Reloaded c:\\Users/dmitr/devs/Qube2exp/src\\qube\\core\\series.pyx\n"
     ]
    }
   ],
   "source": [
    "%load_ext autoreload\n",
    "%autoreload 2\n",
    "\n",
    "from qube.utils import reload_pyx_module\n",
    "\n",
    "reload_pyx_module('../../src/qube/core/')\n",
    "from qube.core.series import TimeSeries\n",
    "del sys.modules['qube.core.series']\n",
    "from qube.core.series import (TimeSeries, Sma, Ema, recognize_time, Tema, Dema, Kama, OHLCV, RollingSum)"
   ]
  },
  {
   "cell_type": "markdown",
   "metadata": {},
   "source": [
    "## Series example"
   ]
  },
  {
   "cell_type": "code",
   "execution_count": 11,
   "metadata": {},
   "outputs": [
    {
     "data": {
      "text/plain": [
       "1"
      ]
     },
     "execution_count": 11,
     "metadata": {},
     "output_type": "execute_result"
    }
   ],
   "source": [
    "# %%timeit\n",
    "ts = TimeSeries('test', '10Min')\n",
    "ts.update(recognize_time('2024-01-01 00:00'), 1)\n",
    "ts.update(recognize_time('2024-01-01 00:01'), 5)\n",
    "ts.update(recognize_time('2024-01-01 00:06'), 2)\n",
    "ts.update(recognize_time('2024-01-01 00:12'), 3)\n",
    "ts.update(recognize_time('2024-01-01 00:21'), 4)\n",
    "ts.update(recognize_time('2024-01-01 00:22'), 5)\n",
    "ts.update(recognize_time('2024-01-01 00:31'), 6)\n",
    "ts.update(recognize_time('2024-01-01 00:33'), 7)\n",
    "ts.update(recognize_time('2024-01-01 00:45'), -12)\n",
    "ts.update(recognize_time('2024-01-01 00:55'), 12)\n",
    "ts.update(recognize_time('2024-01-01 01:00'), 12)"
   ]
  },
  {
   "cell_type": "code",
   "execution_count": 13,
   "metadata": {},
   "outputs": [
    {
     "data": {
      "text/plain": [
       "2024-01-01 00:00:00     2.0\n",
       "2024-01-01 00:10:00     3.0\n",
       "2024-01-01 00:20:00     5.0\n",
       "2024-01-01 00:30:00     7.0\n",
       "2024-01-01 00:40:00   -12.0\n",
       "2024-01-01 00:50:00    12.0\n",
       "2024-01-01 01:00:00    12.0\n",
       "Name: test, dtype: float64"
      ]
     },
     "execution_count": 13,
     "metadata": {},
     "output_type": "execute_result"
    }
   ],
   "source": [
    "ts.to_series()"
   ]
  },
  {
   "cell_type": "markdown",
   "metadata": {},
   "source": [
    "## <font color='orange'>WIP</font>"
   ]
  },
  {
   "cell_type": "code",
   "execution_count": 24,
   "metadata": {},
   "outputs": [
    {
     "name": "stdout",
     "output_type": "stream",
     "text": [
      "1.04 s ± 30.8 ms per loop (mean ± std. dev. of 7 runs, 1 loop each)\n"
     ]
    }
   ],
   "source": [
    "# %%timeit \n",
    "ts = TimeSeries('close', '1h')\n",
    "s1 = Sma(ts, 50)\n",
    "e1 = Ema(ts, 50)\n",
    "ss1 = Sma(s1, 50)\n",
    "ee1 = Ema(e1, 50)\n",
    "t1 = Tema(ts, 50)\n",
    "k1 = Kama(ts, 50)\n",
    "[ts.update(ti.asm8, vi) for ti, vi in data];"
   ]
  },
  {
   "cell_type": "code",
   "execution_count": 18,
   "metadata": {},
   "outputs": [
    {
     "data": {
      "text/plain": [
       "True"
      ]
     },
     "execution_count": 18,
     "metadata": {},
     "output_type": "execute_result"
    }
   ],
   "source": [
    "k1s = k1.to_series().dropna()\n",
    "ik1 = apply_to_frame(kama_indicator, ts.to_series(), 50).dropna()\n",
    "sum(ik1 - k1.to_series().dropna()) < 1e-8"
   ]
  },
  {
   "cell_type": "code",
   "execution_count": 19,
   "metadata": {},
   "outputs": [
    {
     "data": {
      "text/plain": [
       "True"
      ]
     },
     "execution_count": 19,
     "metadata": {},
     "output_type": "execute_result"
    }
   ],
   "source": [
    "k1 = Kama(ts, 50)\n",
    "k1s = k1.to_series().dropna()\n",
    "sum(ik1 - k1.to_series().dropna()) < 1e-8"
   ]
  },
  {
   "cell_type": "code",
   "execution_count": null,
   "metadata": {},
   "outputs": [],
   "source": [
    "plt.plot(ts.to_series(), lw=0.5)\n",
    "plt.plot(Tema(ts, 50).to_series())\n",
    "plt.plot(Dema(ts, 50).to_series())\n",
    "plt.plot(t1.to_series())"
   ]
  },
  {
   "cell_type": "code",
   "execution_count": 23,
   "metadata": {},
   "outputs": [
    {
     "name": "stdout",
     "output_type": "stream",
     "text": [
      "2.32 ms ± 58 µs per loop (mean ± std. dev. of 7 runs, 100 loops each)\n"
     ]
    }
   ],
   "source": [
    "# %%timeit\n",
    "x0 = ts.to_series()\n",
    "pe1 = x0.ewm(span=50, min_periods=50).mean()\n",
    "pee1 = pe1.ewm(span=50, min_periods=50).mean()\n",
    "ps1 = x0.rolling(50).mean()\n",
    "pss1 = ps1.rolling(50).mean()"
   ]
  },
  {
   "cell_type": "code",
   "execution_count": null,
   "metadata": {},
   "outputs": [],
   "source": [
    "plt.plot(x0, lw=0.5)\n",
    "plt.plot(s1.to_series()); plt.plot(ps1)\n",
    "plt.plot(ss1.to_series()); plt.plot(pss1)\n",
    "plt.plot(e1.to_series()); plt.plot(pe1)\n",
    "plt.plot(ee1.to_series()); plt.plot(pee1)\n",
    "# plt.plot(s1.to_series()-ps1)"
   ]
  },
  {
   "cell_type": "code",
   "execution_count": 31,
   "metadata": {},
   "outputs": [],
   "source": [
    "# %%timeit\n",
    "s1 = Sma(ts, 50)\n",
    "e1 = Ema(ts, 50)\n",
    "ss1 = Sma(s1, 50)\n",
    "ee1 = Ema(e1, 50)\n",
    "k1 = Kama(e1, 50)"
   ]
  },
  {
   "cell_type": "code",
   "execution_count": null,
   "metadata": {},
   "outputs": [],
   "source": [
    "plt.plot(e1.to_series()); plt.plot(k1.to_series())"
   ]
  },
  {
   "cell_type": "markdown",
   "metadata": {},
   "source": [
    "### indicators work ... "
   ]
  },
  {
   "cell_type": "code",
   "execution_count": 42,
   "metadata": {},
   "outputs": [],
   "source": [
    "ts0 = TimeSeries('close', '1Min')\n",
    "# em0 = Sma(ts0, 3)\n",
    "# em1 = Sma(em0, 3)\n",
    "k0 = Kama(ts0, 6)  \n",
    "\n",
    "for t, v in [\n",
    "    ('2024-01-01 00:00', 9), ('2024-01-01 00:00', 1),\n",
    "    ('2024-01-01 00:01', 2), ('2024-01-01 00:01', 3),   ('2024-01-01 00:01', 2),\n",
    "    ('2024-01-01 00:02', 3),\n",
    "    ('2024-01-01 00:03', 4),\n",
    "    ('2024-01-01 00:04', 5), ('2024-01-01 00:04', 5.1), ('2024-01-01 00:04:20', 5),\n",
    "    ('2024-01-01 00:05', 6), ('2024-01-01 00:05', 7),   ('2024-01-01 00:05', 6),\n",
    "    ('2024-01-01 00:07', 8), ('2024-01-01 00:07', -1),  ('2024-01-01 00:07', 8),\n",
    "    ('2024-01-01 00:08', 8),\n",
    "    ('2024-01-01 00:09', 8),\n",
    "    ('2024-01-01 00:10', 12),\n",
    "    ('2024-01-01 00:11', 13),\n",
    "    ('2024-01-01 00:12', 14),\n",
    "    ('2024-01-01 00:13', 15),\n",
    "    ('2024-01-01 00:14', 17),\n",
    "    ('2024-01-01 00:15', 4),\n",
    "]:\n",
    "    ts0.update(recognize_time(t), v)"
   ]
  },
  {
   "cell_type": "code",
   "execution_count": 43,
   "metadata": {},
   "outputs": [
    {
     "data": {
      "text/plain": [
       "2024-01-01 00:00:00          NaN\n",
       "2024-01-01 00:01:00          NaN\n",
       "2024-01-01 00:02:00          NaN\n",
       "2024-01-01 00:03:00          NaN\n",
       "2024-01-01 00:04:00          NaN\n",
       "2024-01-01 00:05:00     6.000000\n",
       "2024-01-01 00:07:00     6.888889\n",
       "2024-01-01 00:08:00     7.382716\n",
       "2024-01-01 00:09:00     7.657064\n",
       "2024-01-01 00:10:00     9.587258\n",
       "2024-01-01 00:11:00    11.104032\n",
       "2024-01-01 00:12:00    12.391129\n",
       "2024-01-01 00:13:00    13.550627\n",
       "2024-01-01 00:14:00    15.083682\n",
       "2024-01-01 00:15:00    14.748120\n",
       "Name: kama(6,2,30), dtype: float64"
      ]
     },
     "execution_count": 43,
     "metadata": {},
     "output_type": "execute_result"
    }
   ],
   "source": [
    "k0.to_series()"
   ]
  },
  {
   "cell_type": "markdown",
   "metadata": {},
   "source": [
    "### OHLC tests"
   ]
  },
  {
   "cell_type": "code",
   "execution_count": 3,
   "metadata": {},
   "outputs": [],
   "source": [
    "ohlc = OHLCV('1Min')\n",
    "s1 = Sma(ohlc.close, 10)\n",
    "for t, v in [\n",
    "    ('2024-01-01 00:00', 9), ('2024-01-01 00:00', 1),\n",
    "    ('2024-01-01 00:01', 2), ('2024-01-01 00:01', 3),   ('2024-01-01 00:01', 2),\n",
    "    ('2024-01-01 00:02', 3),\n",
    "    ('2024-01-01 00:03', 4),\n",
    "    ('2024-01-01 00:04', 5), ('2024-01-01 00:04', 5.1), ('2024-01-01 00:04:20', 5),\n",
    "    ('2024-01-01 00:05', 6), ('2024-01-01 00:05', 7),   ('2024-01-01 00:05', 6),\n",
    "    ('2024-01-01 00:07', 8), ('2024-01-01 00:07', -1),  ('2024-01-01 00:07', 8),\n",
    "    ('2024-01-01 00:08', 8),\n",
    "    ('2024-01-01 00:09', 8),\n",
    "    ('2024-01-01 00:10', 12), ('2024-01-01 00:10:01', 21),('2024-01-01 00:10:30', 1),('2024-01-01 00:10:31', 5),\n",
    "    ('2024-01-01 00:11', 13),\n",
    "    ('2024-01-01 00:12', 14),\n",
    "    ('2024-01-01 00:13', 15),\n",
    "    ('2024-01-01 00:14', 17),\n",
    "    ('2024-01-01 00:15', 4), ('2024-01-01 00:15:10', 12),\n",
    "]:\n",
    "    ohlc.update(recognize_time(t), v, 1)\n",
    "    # r1.update(recognize_time(t), v)"
   ]
  },
  {
   "cell_type": "code",
   "execution_count": 49,
   "metadata": {},
   "outputs": [],
   "source": [
    "ds = [\n",
    "    ('2024-01-01 00:00', 9), ('2024-01-01 00:00', 1),\n",
    "    ('2024-01-01 00:01', 2), ('2024-01-01 00:01', 3),   ('2024-01-01 00:01', 2),\n",
    "    ('2024-01-01 00:02', 3),\n",
    "    ('2024-01-01 00:03', 4),\n",
    "    ('2024-01-01 00:04', 5), ('2024-01-01 00:04', 5.1), ('2024-01-01 00:04:20', 5),\n",
    "    ('2024-01-01 00:05', 6), ('2024-01-01 00:05', 7),   ('2024-01-01 00:05', 6),\n",
    "    ('2024-01-01 00:07', 8), ('2024-01-01 00:07', -1),  ('2024-01-01 00:07', 8),\n",
    "    ('2024-01-01 00:08', 8),\n",
    "    ('2024-01-01 00:09', 8),\n",
    "    ('2024-01-01 00:10', 12), ('2024-01-01 00:10:01', 21),('2024-01-01 00:10:30', 1),('2024-01-01 00:10:31', 5),\n",
    "    ('2024-01-01 00:11', 13),\n",
    "    ('2024-01-01 00:12', 14),\n",
    "    ('2024-01-01 00:13', 15),\n",
    "    ('2024-01-01 00:14', 17),\n",
    "    ('2024-01-01 00:15', 4), ('2024-01-01 00:15:10', 12),\n",
    "]"
   ]
  },
  {
   "cell_type": "code",
   "execution_count": 48,
   "metadata": {},
   "outputs": [],
   "source": [
    "def push(series: TimeSeries, ds: list):\n",
    "    for t, d in ds:\n",
    "        if isinstance(t, str):\n",
    "            t = recognize_time(t)\n",
    "        if isinstance(d, (list, tuple)):\n",
    "            series.update(t, d[0], d[1])\n",
    "        else:\n",
    "            series.update(t, d)"
   ]
  },
  {
   "cell_type": "code",
   "execution_count": 50,
   "metadata": {},
   "outputs": [],
   "source": [
    "ohlc = OHLCV('1Min')\n",
    "push(ohlc, ds)"
   ]
  },
  {
   "cell_type": "code",
   "execution_count": null,
   "metadata": {},
   "outputs": [],
   "source": []
  },
  {
   "cell_type": "code",
   "execution_count": 4,
   "metadata": {},
   "outputs": [],
   "source": [
    "r1 = RollingSum(3)"
   ]
  },
  {
   "cell_type": "code",
   "execution_count": 5,
   "metadata": {},
   "outputs": [
    {
     "name": "stdout",
     "output_type": "stream",
     "text": [
      "rs[3] = [0. 1. 0.] @ 1 -> 1\n"
     ]
    }
   ],
   "source": [
    "r1.update(1, 1); print(r1)\n",
    "# r1.update(1, 1); print(r1)\n",
    "# r1.update(1, 0); print(r1)"
   ]
  },
  {
   "cell_type": "code",
   "execution_count": 51,
   "metadata": {},
   "outputs": [
    {
     "data": {
      "text/html": [
       "<div>\n",
       "<style scoped>\n",
       "    .dataframe tbody tr th:only-of-type {\n",
       "        vertical-align: middle;\n",
       "    }\n",
       "\n",
       "    .dataframe tbody tr th {\n",
       "        vertical-align: top;\n",
       "    }\n",
       "\n",
       "    .dataframe thead th {\n",
       "        text-align: right;\n",
       "    }\n",
       "</style>\n",
       "<table border=\"1\" class=\"dataframe\">\n",
       "  <thead>\n",
       "    <tr style=\"text-align: right;\">\n",
       "      <th></th>\n",
       "      <th>open</th>\n",
       "      <th>high</th>\n",
       "      <th>low</th>\n",
       "      <th>close</th>\n",
       "      <th>volume</th>\n",
       "    </tr>\n",
       "    <tr>\n",
       "      <th>timestamp</th>\n",
       "      <th></th>\n",
       "      <th></th>\n",
       "      <th></th>\n",
       "      <th></th>\n",
       "      <th></th>\n",
       "    </tr>\n",
       "  </thead>\n",
       "  <tbody>\n",
       "    <tr>\n",
       "      <th>2024-01-01 00:00:00</th>\n",
       "      <td>9.0</td>\n",
       "      <td>9.0</td>\n",
       "      <td>1.0</td>\n",
       "      <td>1.0</td>\n",
       "      <td>0.0</td>\n",
       "    </tr>\n",
       "    <tr>\n",
       "      <th>2024-01-01 00:01:00</th>\n",
       "      <td>2.0</td>\n",
       "      <td>3.0</td>\n",
       "      <td>2.0</td>\n",
       "      <td>2.0</td>\n",
       "      <td>0.0</td>\n",
       "    </tr>\n",
       "    <tr>\n",
       "      <th>2024-01-01 00:02:00</th>\n",
       "      <td>3.0</td>\n",
       "      <td>3.0</td>\n",
       "      <td>3.0</td>\n",
       "      <td>3.0</td>\n",
       "      <td>0.0</td>\n",
       "    </tr>\n",
       "    <tr>\n",
       "      <th>2024-01-01 00:03:00</th>\n",
       "      <td>4.0</td>\n",
       "      <td>4.0</td>\n",
       "      <td>4.0</td>\n",
       "      <td>4.0</td>\n",
       "      <td>0.0</td>\n",
       "    </tr>\n",
       "    <tr>\n",
       "      <th>2024-01-01 00:04:00</th>\n",
       "      <td>5.0</td>\n",
       "      <td>5.1</td>\n",
       "      <td>5.0</td>\n",
       "      <td>5.0</td>\n",
       "      <td>0.0</td>\n",
       "    </tr>\n",
       "    <tr>\n",
       "      <th>2024-01-01 00:05:00</th>\n",
       "      <td>6.0</td>\n",
       "      <td>7.0</td>\n",
       "      <td>6.0</td>\n",
       "      <td>6.0</td>\n",
       "      <td>0.0</td>\n",
       "    </tr>\n",
       "    <tr>\n",
       "      <th>2024-01-01 00:07:00</th>\n",
       "      <td>8.0</td>\n",
       "      <td>8.0</td>\n",
       "      <td>-1.0</td>\n",
       "      <td>8.0</td>\n",
       "      <td>0.0</td>\n",
       "    </tr>\n",
       "    <tr>\n",
       "      <th>2024-01-01 00:08:00</th>\n",
       "      <td>8.0</td>\n",
       "      <td>8.0</td>\n",
       "      <td>8.0</td>\n",
       "      <td>8.0</td>\n",
       "      <td>0.0</td>\n",
       "    </tr>\n",
       "    <tr>\n",
       "      <th>2024-01-01 00:09:00</th>\n",
       "      <td>8.0</td>\n",
       "      <td>8.0</td>\n",
       "      <td>8.0</td>\n",
       "      <td>8.0</td>\n",
       "      <td>0.0</td>\n",
       "    </tr>\n",
       "    <tr>\n",
       "      <th>2024-01-01 00:10:00</th>\n",
       "      <td>12.0</td>\n",
       "      <td>21.0</td>\n",
       "      <td>1.0</td>\n",
       "      <td>5.0</td>\n",
       "      <td>0.0</td>\n",
       "    </tr>\n",
       "    <tr>\n",
       "      <th>2024-01-01 00:11:00</th>\n",
       "      <td>13.0</td>\n",
       "      <td>13.0</td>\n",
       "      <td>13.0</td>\n",
       "      <td>13.0</td>\n",
       "      <td>0.0</td>\n",
       "    </tr>\n",
       "    <tr>\n",
       "      <th>2024-01-01 00:12:00</th>\n",
       "      <td>14.0</td>\n",
       "      <td>14.0</td>\n",
       "      <td>14.0</td>\n",
       "      <td>14.0</td>\n",
       "      <td>0.0</td>\n",
       "    </tr>\n",
       "    <tr>\n",
       "      <th>2024-01-01 00:13:00</th>\n",
       "      <td>15.0</td>\n",
       "      <td>15.0</td>\n",
       "      <td>15.0</td>\n",
       "      <td>15.0</td>\n",
       "      <td>0.0</td>\n",
       "    </tr>\n",
       "    <tr>\n",
       "      <th>2024-01-01 00:14:00</th>\n",
       "      <td>17.0</td>\n",
       "      <td>17.0</td>\n",
       "      <td>17.0</td>\n",
       "      <td>17.0</td>\n",
       "      <td>0.0</td>\n",
       "    </tr>\n",
       "    <tr>\n",
       "      <th>2024-01-01 00:15:00</th>\n",
       "      <td>4.0</td>\n",
       "      <td>12.0</td>\n",
       "      <td>4.0</td>\n",
       "      <td>12.0</td>\n",
       "      <td>0.0</td>\n",
       "    </tr>\n",
       "  </tbody>\n",
       "</table>\n",
       "</div>"
      ],
      "text/plain": [
       "                     open  high   low  close  volume\n",
       "timestamp                                           \n",
       "2024-01-01 00:00:00   9.0   9.0   1.0    1.0     0.0\n",
       "2024-01-01 00:01:00   2.0   3.0   2.0    2.0     0.0\n",
       "2024-01-01 00:02:00   3.0   3.0   3.0    3.0     0.0\n",
       "2024-01-01 00:03:00   4.0   4.0   4.0    4.0     0.0\n",
       "2024-01-01 00:04:00   5.0   5.1   5.0    5.0     0.0\n",
       "2024-01-01 00:05:00   6.0   7.0   6.0    6.0     0.0\n",
       "2024-01-01 00:07:00   8.0   8.0  -1.0    8.0     0.0\n",
       "2024-01-01 00:08:00   8.0   8.0   8.0    8.0     0.0\n",
       "2024-01-01 00:09:00   8.0   8.0   8.0    8.0     0.0\n",
       "2024-01-01 00:10:00  12.0  21.0   1.0    5.0     0.0\n",
       "2024-01-01 00:11:00  13.0  13.0  13.0   13.0     0.0\n",
       "2024-01-01 00:12:00  14.0  14.0  14.0   14.0     0.0\n",
       "2024-01-01 00:13:00  15.0  15.0  15.0   15.0     0.0\n",
       "2024-01-01 00:14:00  17.0  17.0  17.0   17.0     0.0\n",
       "2024-01-01 00:15:00   4.0  12.0   4.0   12.0     0.0"
      ]
     },
     "execution_count": 51,
     "metadata": {},
     "output_type": "execute_result"
    }
   ],
   "source": [
    "ohlc.to_series()"
   ]
  },
  {
   "cell_type": "code",
   "execution_count": null,
   "metadata": {},
   "outputs": [],
   "source": [
    "print(str(ohlc), str(s1))"
   ]
  },
  {
   "cell_type": "code",
   "execution_count": 8,
   "metadata": {},
   "outputs": [
    {
     "data": {
      "text/plain": [
       "2024-01-01 00:00:00     NaN\n",
       "2024-01-01 00:01:00     NaN\n",
       "2024-01-01 00:02:00     NaN\n",
       "2024-01-01 00:03:00     NaN\n",
       "2024-01-01 00:04:00     NaN\n",
       "2024-01-01 00:05:00     NaN\n",
       "2024-01-01 00:07:00     NaN\n",
       "2024-01-01 00:08:00     NaN\n",
       "2024-01-01 00:09:00     NaN\n",
       "2024-01-01 00:10:00     NaN\n",
       "2024-01-01 00:11:00     6.2\n",
       "2024-01-01 00:12:00     7.4\n",
       "2024-01-01 00:13:00     8.6\n",
       "2024-01-01 00:14:00     9.9\n",
       "2024-01-01 00:15:00    10.6\n",
       "Name: sma(10), dtype: float64"
      ]
     },
     "execution_count": 8,
     "metadata": {},
     "output_type": "execute_result"
    }
   ],
   "source": [
    "s1.to_series()"
   ]
  },
  {
   "cell_type": "code",
   "execution_count": 45,
   "metadata": {},
   "outputs": [
    {
     "data": {
      "text/plain": [
       "2024-01-01 00:00:00     NaN\n",
       "2024-01-01 00:01:00     NaN\n",
       "2024-01-01 00:02:00     NaN\n",
       "2024-01-01 00:03:00     NaN\n",
       "2024-01-01 00:04:00     NaN\n",
       "2024-01-01 00:05:00     NaN\n",
       "2024-01-01 00:07:00     NaN\n",
       "2024-01-01 00:08:00     NaN\n",
       "2024-01-01 00:09:00     NaN\n",
       "2024-01-01 00:10:00     5.0\n",
       "2024-01-01 00:11:00     6.2\n",
       "2024-01-01 00:12:00     7.4\n",
       "2024-01-01 00:13:00     8.6\n",
       "2024-01-01 00:14:00     9.9\n",
       "2024-01-01 00:15:00    10.6\n",
       "Name: sma(10), dtype: float64"
      ]
     },
     "execution_count": 45,
     "metadata": {},
     "output_type": "execute_result"
    }
   ],
   "source": [
    "Sma(ohlc.close, 10).to_series()"
   ]
  },
  {
   "cell_type": "code",
   "execution_count": 46,
   "metadata": {},
   "outputs": [
    {
     "data": {
      "text/plain": [
       "2024-01-01 00:00:00     NaN\n",
       "2024-01-01 00:01:00     NaN\n",
       "2024-01-01 00:02:00     NaN\n",
       "2024-01-01 00:03:00     NaN\n",
       "2024-01-01 00:04:00     3.0\n",
       "2024-01-01 00:05:00     4.0\n",
       "2024-01-01 00:07:00     5.2\n",
       "2024-01-01 00:08:00     6.2\n",
       "2024-01-01 00:09:00     7.0\n",
       "2024-01-01 00:10:00     7.0\n",
       "2024-01-01 00:11:00     8.4\n",
       "2024-01-01 00:12:00     9.6\n",
       "2024-01-01 00:13:00    11.0\n",
       "2024-01-01 00:14:00    12.8\n",
       "2024-01-01 00:15:00    14.2\n",
       "Name: sma(5), dtype: float64"
      ]
     },
     "execution_count": 46,
     "metadata": {},
     "output_type": "execute_result"
    }
   ],
   "source": [
    "Sma(ohlc.close, 5).to_series()"
   ]
  },
  {
   "cell_type": "code",
   "execution_count": null,
   "metadata": {},
   "outputs": [],
   "source": []
  }
 ],
 "metadata": {
  "kernelspec": {
   "display_name": "py39",
   "language": "python",
   "name": "python3"
  },
  "language_info": {
   "codemirror_mode": {
    "name": "ipython",
    "version": 3
   },
   "file_extension": ".py",
   "mimetype": "text/x-python",
   "name": "python",
   "nbconvert_exporter": "python",
   "pygments_lexer": "ipython3",
   "version": "3.9.13"
  }
 },
 "nbformat": 4,
 "nbformat_minor": 2
}
