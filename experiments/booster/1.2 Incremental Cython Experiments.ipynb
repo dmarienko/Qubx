{
 "cells": [
  {
   "cell_type": "code",
   "execution_count": 443,
   "metadata": {},
   "outputs": [
    {
     "name": "stdout",
     "output_type": "stream",
     "text": [
      "installed\n",
      "The cython extension is already loaded. To reload it, use:\n",
      "  %reload_ext cython\n"
     ]
    }
   ],
   "source": [
    "import pandas as pd\n",
    "import numpy as np\n",
    "import sys, os, re\n",
    "import matplotlib.pyplot as plt\n",
    "\n",
    "from importlib import reload\n",
    "\n",
    "if re.match(r'^(\\w\\:\\\\)|(/)', os.getcwd()):\n",
    "    sys.path.insert(0, \"c:/Users/dmitr/devs/quantl/\")\n",
    "    sys.path.insert(0, \"c:/Users/dmitr/devs/Qube2exp/src/\")\n",
    "    # sys.path.insert(0, \"c:/Users/dmitr/devs/Qube/\")\n",
    "    print('installed')\n",
    "\n",
    "%load_ext cython\n",
    "\n",
    "T = pd.date_range('2024-01-01 00:00', freq='1Min', periods=100_000)\n",
    "data = list(zip(T, 1 + (2*np.random.randn(len(T))).cumsum()))"
   ]
  },
  {
   "cell_type": "markdown",
   "metadata": {},
   "source": [
    "# Experiment 2"
   ]
  },
  {
   "cell_type": "code",
   "execution_count": 452,
   "metadata": {},
   "outputs": [
    {
     "name": "stdout",
     "output_type": "stream",
     "text": [
      "The autoreload extension is already loaded. To reload it, use:\n",
      "  %reload_ext autoreload\n",
      " > Reloaded ../../src/qube/core\\cseries.pyx\n",
      " > Reloaded ../../src/qube/core\\cseries1.pyx\n"
     ]
    }
   ],
   "source": [
    "%load_ext autoreload\n",
    "%autoreload 2\n",
    "\n",
    "from qube.utils import reload_pyx_module\n",
    "\n",
    "reload_pyx_module('../../src/qube/core/')\n",
    "from qube.core.cseries1 import TimeSeries\n",
    "del sys.modules['qube.core.cseries1']\n",
    "from qube.core.cseries1 import (time_to_str, recognize_time, TimeSeries, Ema, Sma)"
   ]
  },
  {
   "cell_type": "markdown",
   "metadata": {},
   "source": [
    "## First Cython tests"
   ]
  },
  {
   "cell_type": "markdown",
   "metadata": {},
   "source": [
    "### experimenting"
   ]
  },
  {
   "cell_type": "code",
   "execution_count": 267,
   "metadata": {},
   "outputs": [],
   "source": [
    "%%cython\n",
    "\n",
    "# - - - - - - - - - - - - - - - - - - - - - - - - - - - \n",
    "import numpy as np\n",
    "cimport numpy as np\n",
    "from typing_extensions import Union\n",
    "cdef extern from \"math.h\":\n",
    "    float INFINITY\n",
    "\n",
    "from qube.core.cseries1 import (recognize_timeframe, time_to_str, recognize_time, time_delta_to_str)\n",
    "\n",
    "cdef inline long long floor_t64(long long time, long long dt):\n",
    "    \"\"\"\n",
    "    Floor timestamp by dt\n",
    "    \"\"\"\n",
    "    return time - time % dt\n",
    "\n",
    "cdef nans(dims):\n",
    "    return np.nan * np.ones(dims)\n",
    "\n",
    "# - - - - - - - - - - - - - - - - - - - - - - - - - - - \n",
    "\n",
    "cdef class Indexed:\n",
    "    cdef list values\n",
    "    cdef float max_series_length\n",
    "\n",
    "    def __init__(self, max_series_length=INFINITY):\n",
    "        self.max_series_length = max_series_length\n",
    "        self.values = list()\n",
    "\n",
    "    def __len__(self) -> int:\n",
    "        return len(self.values)\n",
    "\n",
    "    def __getitem__(self, idx):\n",
    "        if isinstance(idx, slice):\n",
    "            return [self.values[self._get_index(i)] for i in range(*idx.indices(len(self.values)))]\n",
    "        return self.values[self._get_index(idx)]\n",
    "\n",
    "    def _get_index(self, idx: int) -> int:\n",
    "        n_len = len(self)\n",
    "        if n_len == 0 or (idx > 0 and idx > (n_len - 1)) or (idx < 0 and abs(idx) > n_len):\n",
    "            raise IndexError(f\"Can't find record at index {idx}\")\n",
    "        return (n_len - idx - 1) if idx >= 0 else abs(1 + idx)\n",
    "\n",
    "    def add(self, v):\n",
    "        self.values.append(v)\n",
    "        if len(self.values) >= self.max_series_length:\n",
    "            self.values.pop(0)\n",
    "\n",
    "    def update(self, v):\n",
    "        if self.values:\n",
    "            self.values[-1] = v\n",
    "        else:\n",
    "            self.append(v)\n",
    "\n",
    "cdef class TimeSeries:\n",
    "    cdef public long long timeframe\n",
    "    cdef public Indexed times\n",
    "    cdef public Indexed values\n",
    "    cdef float max_series_length\n",
    "    cdef unsigned short _is_new_item\n",
    "    cdef str name\n",
    "    cdef indicators\n",
    "\n",
    "    def __init__(self, str name, timeframe, max_series_length=INFINITY) -> None:\n",
    "        self.name = name\n",
    "        self.max_series_length = max_series_length\n",
    "        self.timeframe = recognize_timeframe(timeframe)\n",
    "        self.times = Indexed(max_series_length)\n",
    "        self.values = Indexed(max_series_length)\n",
    "        self.indicators = list()\n",
    "\n",
    "    def __len__(self) -> int:\n",
    "        return len(self.times)\n",
    "\n",
    "    def __getitem__(self, idx):\n",
    "        return self.values[idx]\n",
    "\n",
    "    def _add_new_item(self, long long time, float value):\n",
    "        self.times.add(time)\n",
    "        self.values.add(value)\n",
    "        self._is_new_item = True\n",
    "\n",
    "    def _update_last_item(self, long long time, float value):\n",
    "        self.times.update(time)\n",
    "        self.values.update(value)\n",
    "        self._is_new_item = False\n",
    "\n",
    "    def update(self, long long time, float value) -> short:\n",
    "        item_start_time = floor_t64(time, self.timeframe)\n",
    "        if not self.times:\n",
    "            self._add_new_item(item_start_time, value)\n",
    "\n",
    "            # Here we disable first notification because first item may be incomplete\n",
    "            self._is_new_item = False\n",
    "        elif time - self.times[0] >= self.timeframe:\n",
    "            # first we update indicators by current last bar\n",
    "            self._update_indicators(item_start_time, value, False)\n",
    "\n",
    "            # then add new item\n",
    "            self._add_new_item(item_start_time, value)\n",
    "        else:\n",
    "            self._update_last_item(item_start_time, value)\n",
    "\n",
    "        # update indicators by new data\n",
    "        self._update_indicators(item_start_time, value, True)\n",
    "\n",
    "        return self._is_new_item\n",
    "\n",
    "    cdef _update_indicators(self, long long time, value, short is_last_item):\n",
    "        for i in self.indicators:\n",
    "            i.update(time, value, is_last_item)\n",
    "\n",
    "    def to_records(self) -> dict:\n",
    "        ts = [np.datetime64(t, 'ns') for t in self.times[::-1]]\n",
    "        return dict(zip(ts, self.values[::-1]))\n",
    "\n",
    "    def __str__(self):\n",
    "        nl = len(self)\n",
    "        r = f\"{self.name}[{time_delta_to_str(self.timeframe)}] | {nl} records\\n\"\n",
    "        hd, tl = 3, 3 \n",
    "        if nl <= hd + tl:\n",
    "            hd, tl = nl, 0\n",
    "        \n",
    "        for n in range(hd):\n",
    "            r += f\"  {time_to_str(self.times[n], 'ns')} {str(self[n])}\\n\"\n",
    "        \n",
    "        if tl > 0:\n",
    "            r += \"   .......... \\n\"\n",
    "            for n in range(-tl, 0):\n",
    "                r += f\"  {time_to_str(self.times[n], 'ns')} {str(self[n])}\\n\"\n",
    "\n",
    "        return r\n",
    "\n",
    "\n",
    "cdef class Indicator(TimeSeries):\n",
    "    def __init__(self, TimeSeries series):\n",
    "        super().__init__(self.name(), series.timeframe, series.max_series_length)\n",
    "        series.indicators.append(self)\n",
    "\n",
    "    def name(self) -> str:\n",
    "        return 'none'\n",
    "\n",
    "    def update(self, long long time, value, short is_last_item) -> any:\n",
    "        iv = self.calculate(time, value, is_last_item)\n",
    "        if is_last_item:\n",
    "            if len(self) > 0:\n",
    "                self._update_last_item(time, iv)\n",
    "            else:\n",
    "                self._add_new_item(time, iv)\n",
    "        else:\n",
    "            self._add_new_item(time, iv)\n",
    "        return iv\n",
    "\n",
    "    def calculate(self, long long time, value) -> any:\n",
    "        pass\n",
    "\n",
    "\n",
    "cdef class Sma(Indicator):\n",
    "    cdef int period\n",
    "    cdef np.ndarray __s\n",
    "    cdef int __i\n",
    "\n",
    "    \"\"\"\n",
    "    Simple moving average\n",
    "    \"\"\"\n",
    "    def __init__(self, TimeSeries series, int period):\n",
    "        self.period = period\n",
    "        super().__init__(series)\n",
    "        self.__s = nans(period)\n",
    "        self.__i = 0\n",
    "\n",
    "    def name(self) -> str:\n",
    "        return f'sma{self.period}'\n",
    "\n",
    "    cpdef calculate(self, long long time, value, short is_last_item):\n",
    "        cdef float _x = value / self.period\n",
    "        self.__s[self.__i] = _x\n",
    "        if not is_last_item:\n",
    "            self.__i += 1\n",
    "            if self.__i >= self.period:\n",
    "                self.__i = 0\n",
    "        return np.sum(self.__s)"
   ]
  },
  {
   "cell_type": "markdown",
   "metadata": {},
   "source": [
    "### testing"
   ]
  },
  {
   "cell_type": "code",
   "execution_count": null,
   "metadata": {},
   "outputs": [],
   "source": [
    "# %%timeit\n",
    "ts = TimeSeries('test', '10Min')\n",
    "ts.update(recognize_time('2024-01-01 00:00'), 1)\n",
    "ts.update(recognize_time('2024-01-01 00:01'), 5)\n",
    "ts.update(recognize_time('2024-01-01 00:06'), 2)\n",
    "ts.update(recognize_time('2024-01-01 00:12'), 3)\n",
    "ts.update(recognize_time('2024-01-01 00:21'), 4)\n",
    "ts.update(recognize_time('2024-01-01 00:22'), 5)\n",
    "ts.update(recognize_time('2024-01-01 00:31'), 6)\n",
    "ts.update(recognize_time('2024-01-01 00:33'), 7)\n",
    "ts.update(recognize_time('2024-01-01 00:45'), -12)\n",
    "ts.update(recognize_time('2024-01-01 00:55'), 12)\n",
    "ts.update(recognize_time('2024-01-01 01:00'), 12)\n",
    "print(str(ts))"
   ]
  },
  {
   "cell_type": "code",
   "execution_count": 362,
   "metadata": {},
   "outputs": [
    {
     "name": "stdout",
     "output_type": "stream",
     "text": [
      "467 ms ± 11.8 ms per loop (mean ± std. dev. of 7 runs, 1 loop each)\n"
     ]
    }
   ],
   "source": [
    "%%timeit\n",
    "ts = TimeSeries('close', '1h')\n",
    "s1 = Sma(ts, 100)\n",
    "e1 = Ema(ts, 100)\n",
    "[ts.update(ti.asm8, vi) for ti, vi in data];"
   ]
  },
  {
   "cell_type": "code",
   "execution_count": 358,
   "metadata": {},
   "outputs": [],
   "source": [
    "x0 = pd.Series(ts.to_records())\n",
    "x1 = pd.Series(s1.to_records())\n",
    "x2 = pd.Series(e1.to_records())"
   ]
  },
  {
   "cell_type": "code",
   "execution_count": null,
   "metadata": {},
   "outputs": [],
   "source": [
    "plt.plot(x0)\n",
    "plt.plot(x1)\n",
    "plt.plot(x2)\n",
    "plt.plot(x0.ewm(span=100).mean())"
   ]
  },
  {
   "cell_type": "code",
   "execution_count": 455,
   "metadata": {},
   "outputs": [
    {
     "name": "stdout",
     "output_type": "stream",
     "text": [
      "~~ UI ~~ TRUE 1.0  >  -> ret NAN |  [ 1. nan nan nan nan]\n",
      "~~ UI ~~ TRUE 2.0  >  -> ret NAN |  [ 2. nan nan nan nan]\n",
      "~~ UI ~~ FALSE 3.0 >  -> ret NAN |  [ 3. nan nan nan nan]\n"
     ]
    }
   ],
   "source": [
    "ts0 = TimeSeries('close', '1Min')\n",
    "em0 = Ema(ts0, 5)\n",
    "\n",
    "for t,v in [\n",
    "    ('2024-01-01 00:00', 1),\n",
    "    ('2024-01-01 00:00', 2),\n",
    "    ('2024-01-01 00:01', 3),\n",
    "    # ('2024-01-01 00:01', 4),\n",
    "    # ('2024-01-01 00:02', 5),\n",
    "]:\n",
    "    ts0.update(recognize_time(t), v)"
   ]
  },
  {
   "cell_type": "code",
   "execution_count": 410,
   "metadata": {},
   "outputs": [
    {
     "name": "stdout",
     "output_type": "stream",
     "text": [
      " >in>  3.0\n",
      " >>>  2.1 [0.2 0.2 0.2 0.2 0.2 0.2 0.2 0.2 0.2 0.3]\n",
      " >>> STANDARD 3.0 2.0999999046325684 2.263636290485209\n"
     ]
    },
    {
     "data": {
      "text/plain": [
       "1"
      ]
     },
     "execution_count": 410,
     "metadata": {},
     "output_type": "execute_result"
    }
   ],
   "source": [
    "ts0.update(recognize_time('2024-01-01 00:11'), 3)"
   ]
  },
  {
   "cell_type": "markdown",
   "metadata": {},
   "source": [
    "## Tests of Cy module"
   ]
  },
  {
   "cell_type": "code",
   "execution_count": 50,
   "metadata": {},
   "outputs": [
    {
     "name": "stdout",
     "output_type": "stream",
     "text": [
      "The autoreload extension is already loaded. To reload it, use:\n",
      "  %reload_ext autoreload\n",
      " > Reloaded ../../src/qube/core\\cseries.pyx\n",
      " > Reloaded ../../src/qube/core\\cseries1.pyx\n"
     ]
    }
   ],
   "source": [
    "%load_ext autoreload\n",
    "%autoreload 2\n",
    "\n",
    "from qube.utils import reload_pyx_module\n",
    "\n",
    "reload_pyx_module('../../src/qube/core/')\n",
    "from qube.core.cseries1 import TimeItem\n",
    "del sys.modules['qube.core.cseries1']\n",
    "from qube.core.cseries1 import (TimeItem, Float, TimeSeries, FloatSeries, Sma, time_to_str, Ema, \n",
    "                                recognize_time, time_to_str, time_delta_to_str)"
   ]
  },
  {
   "cell_type": "code",
   "execution_count": null,
   "metadata": {},
   "outputs": [],
   "source": [
    "# %%timeit\n",
    "ts = FloatSeries('test1', '5Min')\n",
    "ts.update(Float(recognize_time('2024-01-01 00:00'), 1))\n",
    "ts.update(Float(recognize_time('2024-01-01 00:06'), 2))\n",
    "ts.update(Float(recognize_time('2024-01-01 00:12'), 3))\n",
    "ts.update(Float(recognize_time('2024-01-01 00:21'), 4))\n",
    "ts.update(Float(recognize_time('2024-01-01 00:22'), 5))\n",
    "ts.update(Float(recognize_time('2024-01-01 00:31'), 6))\n",
    "ts.update(Float(recognize_time('2024-01-01 00:33'), 7))\n",
    "ts.update(Float(recognize_time('2024-01-01 00:45'), 12, 'test1'))\n",
    "ts.update(Float(recognize_time('2024-01-01 00:55'), 12, 'test2'))\n",
    "print(ts)"
   ]
  },
  {
   "cell_type": "code",
   "execution_count": null,
   "metadata": {},
   "outputs": [],
   "source": [
    "ts[::-1]"
   ]
  },
  {
   "cell_type": "code",
   "execution_count": 8,
   "metadata": {},
   "outputs": [
    {
     "name": "stdout",
     "output_type": "stream",
     "text": [
      "87.7 ms ± 897 µs per loop (mean ± std. dev. of 7 runs, 10 loops each)\n"
     ]
    }
   ],
   "source": [
    "# %%timeit\n",
    "# sma(pd.Series(dict(zip(t, range(len(t))))), 25)"
   ]
  },
  {
   "cell_type": "code",
   "execution_count": 33,
   "metadata": {},
   "outputs": [],
   "source": [
    "T = pd.date_range('2024-01-01 00:00', freq='1Min', periods=100_000)\n",
    "data = list(zip(T, 1 + (2*np.random.randn(len(T))).cumsum()))"
   ]
  },
  {
   "cell_type": "code",
   "execution_count": 44,
   "metadata": {},
   "outputs": [
    {
     "name": "stdout",
     "output_type": "stream",
     "text": [
      "363 ms ± 5.05 ms per loop (mean ± std. dev. of 7 runs, 1 loop each)\n"
     ]
    }
   ],
   "source": [
    "%%timeit\n",
    "s0 = Ema(100)\n",
    "# s1 = Sma(100)\n",
    "# s2 = Sma(50)\n",
    "fs = FloatSeries('close', '1h').attach(s0)#.attach(s1).attach(s2)\n",
    "[fs.update(Float(ti.asm8, vi)) for ti, vi in data];"
   ]
  },
  {
   "cell_type": "code",
   "execution_count": null,
   "metadata": {},
   "outputs": [],
   "source": [
    "v0 = pd.Series({np.datetime64(v.time, 'ns'): v.v for v in fs})\n",
    "ma0 = pd.Series({np.datetime64(v.time, 'ns'): v.v for v in s0.values})\n",
    "ma1 = pd.Series({np.datetime64(v.time, 'ns'): v.v for v in s1.values})\n",
    "ma2 = pd.Series({np.datetime64(v.time, 'ns'): v.v for v in s2.values})\n",
    "plt.plot(v0)\n",
    "plt.plot(ma0, ls='--')\n",
    "plt.plot(ma1)\n",
    "plt.plot(ma2)"
   ]
  },
  {
   "cell_type": "code",
   "execution_count": null,
   "metadata": {},
   "outputs": [],
   "source": [
    "print(s1.values)"
   ]
  },
  {
   "cell_type": "code",
   "execution_count": null,
   "metadata": {},
   "outputs": [],
   "source": [
    "\n"
   ]
  },
  {
   "cell_type": "code",
   "execution_count": null,
   "metadata": {},
   "outputs": [],
   "source": []
  }
 ],
 "metadata": {
  "kernelspec": {
   "display_name": "py39",
   "language": "python",
   "name": "python3"
  },
  "language_info": {
   "codemirror_mode": {
    "name": "ipython",
    "version": 3
   },
   "file_extension": ".py",
   "mimetype": "text/x-python",
   "name": "python",
   "nbconvert_exporter": "python",
   "pygments_lexer": "ipython3",
   "version": "3.9.13"
  }
 },
 "nbformat": 4,
 "nbformat_minor": 2
}
