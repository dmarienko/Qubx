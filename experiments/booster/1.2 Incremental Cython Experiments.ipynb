{
 "cells": [
  {
   "cell_type": "code",
   "execution_count": 55,
   "metadata": {},
   "outputs": [
    {
     "name": "stdout",
     "output_type": "stream",
     "text": [
      "installed\n",
      "The cython extension is already loaded. To reload it, use:\n",
      "  %reload_ext cython\n"
     ]
    }
   ],
   "source": [
    "import pandas as pd\n",
    "import numpy as np\n",
    "import sys, os, re\n",
    "import matplotlib.pyplot as plt\n",
    "\n",
    "from importlib import reload\n",
    "\n",
    "if re.match(r'^(\\w\\:\\\\)|(/)', os.getcwd()):\n",
    "    sys.path.insert(0, \"c:/Users/dmitr/devs/quantl/\")\n",
    "    sys.path.insert(0, \"c:/Users/dmitr/devs/Qube2exp/src/\")\n",
    "    # sys.path.insert(0, \"c:/Users/dmitr/devs/Qube/\")\n",
    "    print('installed')\n",
    "\n",
    "import quantl.impl.indicators as Q\n",
    "\n",
    "%load_ext cython\n",
    "\n",
    "T = pd.date_range('2024-01-01 00:00', freq='1Min', periods=100_000)\n",
    "ds = 1 + (2*np.random.randn(len(T))).cumsum()\n",
    "data = list(zip(T, ds))"
   ]
  },
  {
   "cell_type": "markdown",
   "metadata": {},
   "source": [
    "## Cython v2 tests (cseries1)"
   ]
  },
  {
   "cell_type": "code",
   "execution_count": 128,
   "metadata": {},
   "outputs": [
    {
     "name": "stdout",
     "output_type": "stream",
     "text": [
      "The autoreload extension is already loaded. To reload it, use:\n",
      "  %reload_ext autoreload\n",
      " > Reloaded ../../src/qube/core\\cseries.pyx\n",
      " > Reloaded ../../src/qube/core\\cseries1.pyx\n"
     ]
    }
   ],
   "source": [
    "%load_ext autoreload\n",
    "%autoreload 2\n",
    "\n",
    "from qube.utils import reload_pyx_module\n",
    "\n",
    "reload_pyx_module('../../src/qube/core/')\n",
    "from qube.core.cseries1 import TimeSeries\n",
    "del sys.modules['qube.core.cseries1']\n",
    "from qube.core.cseries1 import (TimeSeries, Sma, Ema, recognize_time, Tema, Dema, Kama, RollingSum)"
   ]
  },
  {
   "cell_type": "markdown",
   "metadata": {},
   "source": [
    "### Series Testing"
   ]
  },
  {
   "cell_type": "code",
   "execution_count": 183,
   "metadata": {},
   "outputs": [
    {
     "name": "stdout",
     "output_type": "stream",
     "text": [
      "20 µs ± 958 ns per loop (mean ± std. dev. of 7 runs, 10,000 loops each)\n"
     ]
    }
   ],
   "source": [
    "%%timeit\n",
    "ts = TimeSeries('test', '10Min')\n",
    "ts.update(recognize_time('2024-01-01 00:00'), 1)\n",
    "ts.update(recognize_time('2024-01-01 00:01'), 5)\n",
    "ts.update(recognize_time('2024-01-01 00:06'), 2)\n",
    "ts.update(recognize_time('2024-01-01 00:12'), 3)\n",
    "ts.update(recognize_time('2024-01-01 00:21'), 4)\n",
    "ts.update(recognize_time('2024-01-01 00:22'), 5)\n",
    "ts.update(recognize_time('2024-01-01 00:31'), 6)\n",
    "ts.update(recognize_time('2024-01-01 00:33'), 7)\n",
    "ts.update(recognize_time('2024-01-01 00:45'), -12)\n",
    "ts.update(recognize_time('2024-01-01 00:55'), 12)\n",
    "ts.update(recognize_time('2024-01-01 01:00'), 12)\n",
    "# print(str(ts))"
   ]
  },
  {
   "cell_type": "markdown",
   "metadata": {},
   "source": [
    "### <font color='orange'>WIP</font>"
   ]
  },
  {
   "cell_type": "code",
   "execution_count": 129,
   "metadata": {},
   "outputs": [],
   "source": [
    "# %%timeit \n",
    "ts = TimeSeries('close', '1h')\n",
    "s1 = Sma(ts, 50)\n",
    "e1 = Ema(ts, 50)\n",
    "ss1 = Sma(s1, 50)\n",
    "ee1 = Ema(e1, 50)\n",
    "t1 = Tema(ts, 50)\n",
    "k1 = Kama(ts, 50)\n",
    "[ts.update(ti.asm8, vi) for ti, vi in data];"
   ]
  },
  {
   "cell_type": "code",
   "execution_count": 130,
   "metadata": {},
   "outputs": [],
   "source": [
    "x0 = pd.Series(ds, T).resample('1H').last()\n",
    "qt = Q.KAMA(50)\n",
    "for t,v in zip(x0.index, x0.values):\n",
    "    qt.update(v, t)"
   ]
  },
  {
   "cell_type": "code",
   "execution_count": null,
   "metadata": {},
   "outputs": [],
   "source": [
    "plt.plot(ts.to_series(), lw=0.5)\n",
    "plt.plot(k1.to_series())\n",
    "plt.plot(pd.Series(qt.to_dict()['kama(50,2,30)']))"
   ]
  },
  {
   "cell_type": "code",
   "execution_count": null,
   "metadata": {},
   "outputs": [],
   "source": [
    "plt.plot(ts.to_series(), lw=0.5)\n",
    "plt.plot(Tema(ts, 50).to_series())\n",
    "plt.plot(Dema(ts, 50).to_series())\n",
    "plt.plot(t1.to_series())"
   ]
  },
  {
   "cell_type": "code",
   "execution_count": 5,
   "metadata": {},
   "outputs": [],
   "source": [
    "# %%timeit\n",
    "x0 = ts.to_series()\n",
    "pe1 = x0.ewm(span=50, min_periods=50).mean()\n",
    "pee1 = pe1.ewm(span=50, min_periods=50).mean()\n",
    "ps1 = x0.rolling(50).mean()\n",
    "pss1 = ps1.rolling(50).mean()"
   ]
  },
  {
   "cell_type": "code",
   "execution_count": null,
   "metadata": {},
   "outputs": [],
   "source": [
    "plt.plot(x0, lw=0.5)\n",
    "plt.plot(s1.to_series()); plt.plot(ps1)\n",
    "plt.plot(ss1.to_series()); plt.plot(pss1)\n",
    "plt.plot(e1.to_series()); plt.plot(pe1)\n",
    "plt.plot(ee1.to_series()); plt.plot(pee1)\n",
    "# plt.plot(s1.to_series()-ps1)"
   ]
  },
  {
   "cell_type": "code",
   "execution_count": 8,
   "metadata": {},
   "outputs": [],
   "source": [
    "# %%timeit\n",
    "s1 = Sma(ts, 50)\n",
    "e1 = Ema(ts, 50)\n",
    "ss1 = Sma(s1, 50)\n",
    "ee1 = Ema(e1, 50)"
   ]
  },
  {
   "cell_type": "code",
   "execution_count": null,
   "metadata": {},
   "outputs": [],
   "source": [
    "plt.plot(e1.to_series()); plt.plot(s1.to_series())"
   ]
  },
  {
   "cell_type": "markdown",
   "metadata": {},
   "source": [
    "### work ... "
   ]
  },
  {
   "cell_type": "code",
   "execution_count": 120,
   "metadata": {},
   "outputs": [],
   "source": [
    "ts0 = TimeSeries('close', '1Min')\n",
    "# em0 = Sma(ts0, 3)\n",
    "# em1 = Sma(em0, 3)\n",
    "k0 = Kama(ts0, 6)  \n",
    "\n",
    "for t, v in [\n",
    "    ('2024-01-01 00:00', 9), ('2024-01-01 00:00', 1),\n",
    "    ('2024-01-01 00:01', 2), ('2024-01-01 00:01', 3),   ('2024-01-01 00:01', 2),\n",
    "    ('2024-01-01 00:02', 3),\n",
    "    ('2024-01-01 00:03', 4),\n",
    "    ('2024-01-01 00:04', 5), ('2024-01-01 00:04', 5.1), ('2024-01-01 00:04:20', 5),\n",
    "    ('2024-01-01 00:05', 6), ('2024-01-01 00:05', 7),   ('2024-01-01 00:05', 6.1),\n",
    "    ('2024-01-01 00:07', 8), ('2024-01-01 00:07', -1),  ('2024-01-01 00:07', 8),\n",
    "    ('2024-01-01 00:08', 8),\n",
    "    ('2024-01-01 00:09', 8),\n",
    "    ('2024-01-01 00:10', 12),\n",
    "    ('2024-01-01 00:11', 13),\n",
    "    ('2024-01-01 00:12', 14),\n",
    "    ('2024-01-01 00:13', 15),\n",
    "    ('2024-01-01 00:14', 17),\n",
    "    ('2024-01-01 00:15', 4),\n",
    "]:\n",
    "    ts0.update(recognize_time(t), v)"
   ]
  },
  {
   "cell_type": "code",
   "execution_count": 121,
   "metadata": {},
   "outputs": [
    {
     "data": {
      "text/plain": [
       "2024-01-01 00:00:00          NaN\n",
       "2024-01-01 00:01:00          NaN\n",
       "2024-01-01 00:02:00          NaN\n",
       "2024-01-01 00:03:00          NaN\n",
       "2024-01-01 00:04:00          NaN\n",
       "2024-01-01 00:05:00     6.100000\n",
       "2024-01-01 00:07:00     6.740583\n",
       "2024-01-01 00:08:00     7.144484\n",
       "2024-01-01 00:09:00     7.399748\n",
       "2024-01-01 00:10:00     9.008693\n",
       "2024-01-01 00:11:00    10.369351\n",
       "2024-01-01 00:12:00    11.358060\n",
       "2024-01-01 00:13:00    12.976700\n",
       "2024-01-01 00:14:00    14.764833\n",
       "2024-01-01 00:15:00    13.899762\n",
       "Name: kama(6,2,30), dtype: float64"
      ]
     },
     "execution_count": 121,
     "metadata": {},
     "output_type": "execute_result"
    }
   ],
   "source": [
    "k0.to_series()"
   ]
  },
  {
   "cell_type": "code",
   "execution_count": null,
   "metadata": {},
   "outputs": [],
   "source": []
  }
 ],
 "metadata": {
  "kernelspec": {
   "display_name": "py39",
   "language": "python",
   "name": "python3"
  },
  "language_info": {
   "codemirror_mode": {
    "name": "ipython",
    "version": 3
   },
   "file_extension": ".py",
   "mimetype": "text/x-python",
   "name": "python",
   "nbconvert_exporter": "python",
   "pygments_lexer": "ipython3",
   "version": "3.9.13"
  }
 },
 "nbformat": 4,
 "nbformat_minor": 2
}
