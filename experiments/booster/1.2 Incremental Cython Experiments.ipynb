{
 "cells": [
  {
   "cell_type": "code",
   "execution_count": 1,
   "metadata": {},
   "outputs": [
    {
     "name": "stdout",
     "output_type": "stream",
     "text": [
      "installed\n"
     ]
    }
   ],
   "source": [
    "import pandas as pd\n",
    "import numpy as np\n",
    "import sys, os, re\n",
    "import matplotlib.pyplot as plt\n",
    "\n",
    "from importlib import reload\n",
    "\n",
    "if re.match(r'^(\\w\\:\\\\)|(/)', os.getcwd()):\n",
    "    # sys.path.insert(0, \"c:/Users/dmitr/devs/quantl/\")\n",
    "    # sys.path.insert(0, \"c:/Users/dmitr/devs/Qube/\")\n",
    "    sys.path.insert(0, \"c:/Users/dmitr/devs/Qube2exp/src/\")\n",
    "    sys.path.insert(0, \"c:/Users/dmitr/devs/Qube2exp/tests/\")\n",
    "    print('installed')\n",
    "\n",
    "# import quantl.impl.indicators as Q\n",
    "\n",
    "%load_ext cython\n",
    "\n",
    "T = pd.date_range('2024-01-01 00:00', freq='1Min', periods=100_000)\n",
    "ds = 1 + (2*np.random.randn(len(T))).cumsum()\n",
    "data = list(zip(T, ds))"
   ]
  },
  {
   "cell_type": "markdown",
   "metadata": {},
   "source": [
    "## Helpers"
   ]
  },
  {
   "cell_type": "code",
   "execution_count": 2,
   "metadata": {},
   "outputs": [],
   "source": [
    "import types\n",
    "def apply_to_frame(func, x, *args, **kwargs):\n",
    "    _keep_names = False\n",
    "    if 'keep_names' in kwargs:\n",
    "        _keep_names = kwargs.pop('keep_names')\n",
    "\n",
    "    if func is None or not isinstance(func, types.FunctionType):\n",
    "        raise ValueError(str(func) + ' must be callable object')\n",
    "\n",
    "    xp = column_vector(func(x, *args, **kwargs))\n",
    "    _name = None\n",
    "    if not _keep_names:\n",
    "        _name = func.__name__ + '_' + '_'.join([str(i) for i in args])\n",
    "\n",
    "    if isinstance(x, pd.DataFrame):\n",
    "        c_names = x.columns if _keep_names else ['%s_%s' % (c, _name) for c in x.columns]\n",
    "        return pd.DataFrame(xp, index=x.index, columns=c_names)\n",
    "    elif isinstance(x, pd.Series):\n",
    "        return pd.Series(xp.flatten(), index=x.index, name=_name)\n",
    "\n",
    "    return xp\n",
    "def shift(xs: np.ndarray, n: int, fill=np.nan) -> np.ndarray:\n",
    "    e = np.empty_like(xs)\n",
    "    if n >= 0:\n",
    "        e[:n] = fill\n",
    "        e[n:] = xs[:-n]\n",
    "    else:\n",
    "        e[n:] = fill\n",
    "        e[:n] = xs[-n:]\n",
    "    return e\n",
    "\n",
    "def nans(dims):\n",
    "    return np.nan * np.ones(dims)\n",
    "\n",
    "def column_vector(x):\n",
    "    if isinstance(x, (pd.DataFrame, pd.Series)): x = x.values\n",
    "    return np.reshape(x, (x.shape[0], -1))\n",
    "\n",
    "def rolling_sum(x: np.ndarray, n: int) -> np.ndarray:\n",
    "    for i in range(0, x.shape[1]):\n",
    "        ret = np.nancumsum(x[:, i])\n",
    "        ret[n:] = ret[n:] - ret[:-n]\n",
    "        x[:, i] = np.concatenate((nans(n - 1), ret[n - 1:]))\n",
    "    return x\n",
    "\n",
    "def _calc_kama(x, period, fast_span, slow_span):\n",
    "    x = x.astype(np.float64)\n",
    "    for i in range(0, x.shape[1]):\n",
    "        nan_start = np.where(~np.isnan(x[:, i]))[0][0]\n",
    "        x_s = x[:, i][nan_start:]\n",
    "        if period >= len(x_s):\n",
    "            raise ValueError('Wrong value for period. period parameter must be less than number of input observations')\n",
    "        abs_diff = np.abs(x_s - shift(x_s, 1))\n",
    "        er = np.abs(x_s - shift(x_s, period)) / rolling_sum(np.reshape(abs_diff, (len(abs_diff), -1)), period)[:, 0]\n",
    "        sc = np.square((er * (2.0 / (fast_span + 1) - 2.0 / (slow_span + 1.0)) + 2 / (slow_span + 1.0)))\n",
    "        ama = nans(sc.shape)\n",
    "\n",
    "        # here ama_0 = x_0\n",
    "        ama[period - 1] = x_s[period - 1]\n",
    "        for n in range(period, len(ama)):\n",
    "            ama[n] = ama[n - 1] + sc[n] * (x_s[n] - ama[n - 1])\n",
    "\n",
    "        # drop 1-st kama value (just for compatibility with ta-lib)\n",
    "        ama[period - 1] = np.nan\n",
    "\n",
    "        x[:, i] = np.concatenate((nans(nan_start), ama))\n",
    "\n",
    "    return x\n",
    "\n",
    "def kama(x, period, fast_span=2, slow_span=30):\n",
    "    x = column_vector(x)\n",
    "    return _calc_kama(x, period, fast_span, slow_span)\n",
    "\n",
    "def kama_indicator(price, period=10, period_fast=2, period_slow=30):\n",
    "    #Efficiency Ratio\n",
    "    change = abs(price-price.shift(period))\n",
    "    volatility = (abs(price-price.shift())).rolling(period).sum()\n",
    "    er = change/volatility\n",
    "    # return er\n",
    "\n",
    "    #Smoothing Constant\n",
    "    sc_fatest = 2/(period_fast + 1)\n",
    "    sc_slowest = 2/(period_slow + 1)\n",
    "    sc= (er * (sc_fatest - sc_slowest) + sc_slowest)**2\n",
    "    # return sc\n",
    "\n",
    "    #KAMA\n",
    "    kama = np.zeros_like(price)\n",
    "    kama[period-1] = price[period-1]\n",
    "    for i in range(period, len(price)):\n",
    "        kama[i] = kama[i-1] + sc[i] * (price[i] - kama[i-1])\n",
    "    kama[kama==0]=np.nan\n",
    "\n",
    "    return kama"
   ]
  },
  {
   "cell_type": "markdown",
   "metadata": {},
   "source": [
    "## Cython v2 tests (cseries1)"
   ]
  },
  {
   "cell_type": "code",
   "execution_count": 48,
   "metadata": {},
   "outputs": [
    {
     "name": "stdout",
     "output_type": "stream",
     "text": [
      "The autoreload extension is already loaded. To reload it, use:\n",
      "  %reload_ext autoreload\n",
      " > Reloaded ../../src/qube/core\\series.pyx\n"
     ]
    }
   ],
   "source": [
    "%load_ext autoreload\n",
    "%autoreload 2\n",
    "\n",
    "from qube.utils import reload_pyx_module\n",
    "\n",
    "reload_pyx_module('../../src/qube/core/')\n",
    "from qube.core.series import TimeSeries\n",
    "del sys.modules['qube.core.series']\n",
    "from qube.core.series import (TimeSeries, Sma, Ema, recognize_time, Tema, Dema, Kama, OHLCV)"
   ]
  },
  {
   "cell_type": "markdown",
   "metadata": {},
   "source": [
    "### Series Testing"
   ]
  },
  {
   "cell_type": "code",
   "execution_count": 4,
   "metadata": {},
   "outputs": [
    {
     "data": {
      "text/plain": [
       "1"
      ]
     },
     "execution_count": 4,
     "metadata": {},
     "output_type": "execute_result"
    }
   ],
   "source": [
    "# %%timeit\n",
    "ts = TimeSeries('test', '10Min')\n",
    "ts.update(recognize_time('2024-01-01 00:00'), 1)\n",
    "ts.update(recognize_time('2024-01-01 00:01'), 5)\n",
    "ts.update(recognize_time('2024-01-01 00:06'), 2)\n",
    "ts.update(recognize_time('2024-01-01 00:12'), 3)\n",
    "ts.update(recognize_time('2024-01-01 00:21'), 4)\n",
    "ts.update(recognize_time('2024-01-01 00:22'), 5)\n",
    "ts.update(recognize_time('2024-01-01 00:31'), 6)\n",
    "ts.update(recognize_time('2024-01-01 00:33'), 7)\n",
    "ts.update(recognize_time('2024-01-01 00:45'), -12)\n",
    "ts.update(recognize_time('2024-01-01 00:55'), 12)\n",
    "ts.update(recognize_time('2024-01-01 01:00'), 12)"
   ]
  },
  {
   "cell_type": "code",
   "execution_count": 5,
   "metadata": {},
   "outputs": [
    {
     "data": {
      "text/plain": [
       "array([  2.,   3.,   5.,   7., -12.,  12.,  12.])"
      ]
     },
     "execution_count": 5,
     "metadata": {},
     "output_type": "execute_result"
    }
   ],
   "source": [
    "ts.to_series().values"
   ]
  },
  {
   "cell_type": "markdown",
   "metadata": {},
   "source": [
    "### <font color='orange'>WIP</font>"
   ]
  },
  {
   "cell_type": "code",
   "execution_count": 54,
   "metadata": {},
   "outputs": [],
   "source": [
    "# %%timeit \n",
    "ts = TimeSeries('close', '1h')\n",
    "s1 = Sma(ts, 50)\n",
    "e1 = Ema(ts, 50)\n",
    "ss1 = Sma(s1, 50)\n",
    "ee1 = Ema(e1, 50)\n",
    "t1 = Tema(ts, 50)\n",
    "k1 = Kama(ts, 50)\n",
    "[ts.update(ti.asm8, vi) for ti, vi in data];\n",
    "k1s = k1.to_series().dropna()"
   ]
  },
  {
   "cell_type": "code",
   "execution_count": 55,
   "metadata": {},
   "outputs": [
    {
     "data": {
      "text/plain": [
       "2024-01-03 01:00:00    -77.656493\n",
       "2024-01-03 02:00:00    -77.498554\n",
       "2024-01-03 03:00:00    -77.404650\n",
       "2024-01-03 04:00:00    -77.490290\n",
       "2024-01-03 05:00:00    -77.557940\n",
       "                          ...    \n",
       "2024-03-10 06:00:00    318.526099\n",
       "2024-03-10 07:00:00    318.502677\n",
       "2024-03-10 08:00:00    318.320884\n",
       "2024-03-10 09:00:00    318.152174\n",
       "2024-03-10 10:00:00    317.680129\n",
       "Name: kama_indicator_50, Length: 1618, dtype: float64"
      ]
     },
     "execution_count": 55,
     "metadata": {},
     "output_type": "execute_result"
    }
   ],
   "source": [
    "# ik0 = apply_to_frame(kama, ts.to_series(), 50).dropna()\n",
    "ik1 = apply_to_frame(kama_indicator, ts.to_series(), 50).dropna()\n",
    "# ik1 - k1.to_series().dropna()\n",
    "ik1"
   ]
  },
  {
   "cell_type": "code",
   "execution_count": 57,
   "metadata": {},
   "outputs": [],
   "source": [
    "k1 = Kama(ts, 50)\n",
    "k1s = k1.to_series().dropna()"
   ]
  },
  {
   "cell_type": "code",
   "execution_count": 58,
   "metadata": {},
   "outputs": [
    {
     "data": {
      "text/plain": [
       "2024-01-03 01:00:00    -77.656493\n",
       "2024-01-03 02:00:00    -77.498554\n",
       "2024-01-03 03:00:00    -77.404650\n",
       "2024-01-03 04:00:00    -77.490290\n",
       "2024-01-03 05:00:00    -77.557940\n",
       "                          ...    \n",
       "2024-03-10 06:00:00    318.526099\n",
       "2024-03-10 07:00:00    318.502677\n",
       "2024-03-10 08:00:00    318.320884\n",
       "2024-03-10 09:00:00    318.152174\n",
       "2024-03-10 10:00:00    317.680129\n",
       "Name: kama(50,2,30), Length: 1618, dtype: float64"
      ]
     },
     "execution_count": 58,
     "metadata": {},
     "output_type": "execute_result"
    }
   ],
   "source": [
    "k1s"
   ]
  },
  {
   "cell_type": "code",
   "execution_count": null,
   "metadata": {},
   "outputs": [],
   "source": [
    "ik1 - k1s"
   ]
  },
  {
   "cell_type": "code",
   "execution_count": null,
   "metadata": {},
   "outputs": [],
   "source": [
    "# ik1 = apply_to_frame(kama, ts.to_series(), 50)\n",
    "# ik1.dropna()"
   ]
  },
  {
   "cell_type": "code",
   "execution_count": null,
   "metadata": {},
   "outputs": [],
   "source": [
    "k1.to_series().dropna()"
   ]
  },
  {
   "cell_type": "code",
   "execution_count": 17,
   "metadata": {},
   "outputs": [],
   "source": [
    "x0 = pd.Series(ds, T).resample('1H').last()\n",
    "qt = Q.KAMA(50)\n",
    "for t,v in zip(x0.index, x0.values):\n",
    "    qt.update(v, t)"
   ]
  },
  {
   "cell_type": "code",
   "execution_count": null,
   "metadata": {},
   "outputs": [],
   "source": [
    "plt.plot(ts.to_series(), lw=0.5)\n",
    "plt.plot(k1.to_series())\n",
    "plt.plot(pd.Series(qt.to_dict()['kama(50,2,30)']))"
   ]
  },
  {
   "cell_type": "code",
   "execution_count": null,
   "metadata": {},
   "outputs": [],
   "source": [
    "plt.plot(ts.to_series(), lw=0.5)\n",
    "plt.plot(Tema(ts, 50).to_series())\n",
    "plt.plot(Dema(ts, 50).to_series())\n",
    "plt.plot(t1.to_series())"
   ]
  },
  {
   "cell_type": "code",
   "execution_count": 9,
   "metadata": {},
   "outputs": [],
   "source": [
    "# %%timeit\n",
    "x0 = ts.to_series()\n",
    "pe1 = x0.ewm(span=50, min_periods=50).mean()\n",
    "pee1 = pe1.ewm(span=50, min_periods=50).mean()\n",
    "ps1 = x0.rolling(50).mean()\n",
    "pss1 = ps1.rolling(50).mean()"
   ]
  },
  {
   "cell_type": "code",
   "execution_count": 10,
   "metadata": {},
   "outputs": [
    {
     "data": {
      "text/plain": [
       "[<matplotlib.lines.Line2D at 0x21852c1cc70>]"
      ]
     },
     "execution_count": 10,
     "metadata": {},
     "output_type": "execute_result"
    },
    {
     "data": {
      "image/png": "[encoded data removed]",
      "text/plain": [
       "<Figure size 640x480 with 1 Axes>"
      ]
     },
     "metadata": {},
     "output_type": "display_data"
    }
   ],
   "source": [
    "plt.plot(x0, lw=0.5)\n",
    "plt.plot(s1.to_series()); plt.plot(ps1)\n",
    "plt.plot(ss1.to_series()); plt.plot(pss1)\n",
    "plt.plot(e1.to_series()); plt.plot(pe1)\n",
    "plt.plot(ee1.to_series()); plt.plot(pee1)\n",
    "# plt.plot(s1.to_series()-ps1)"
   ]
  },
  {
   "cell_type": "code",
   "execution_count": 13,
   "metadata": {},
   "outputs": [],
   "source": [
    "# %%timeit\n",
    "s1 = Sma(ts, 50)\n",
    "e1 = Ema(ts, 50)\n",
    "ss1 = Sma(s1, 50)\n",
    "ee1 = Ema(e1, 50)\n",
    "k1 = Kama(e1, 50)"
   ]
  },
  {
   "cell_type": "code",
   "execution_count": null,
   "metadata": {},
   "outputs": [],
   "source": [
    "plt.plot(e1.to_series()); plt.plot(k1.to_series())"
   ]
  },
  {
   "cell_type": "code",
   "execution_count": 20,
   "metadata": {},
   "outputs": [],
   "source": [
    "import types\n",
    "def apply_to_frame(func, x, *args, **kwargs):\n",
    "    _keep_names = False\n",
    "    if 'keep_names' in kwargs:\n",
    "        _keep_names = kwargs.pop('keep_names')\n",
    "\n",
    "    if func is None or not isinstance(func, types.FunctionType):\n",
    "        raise ValueError(str(func) + ' must be callable object')\n",
    "\n",
    "    xp = column_vector(func(x, *args, **kwargs))\n",
    "    _name = None\n",
    "    if not _keep_names:\n",
    "        _name = func.__name__ + '_' + '_'.join([str(i) for i in args])\n",
    "\n",
    "    if isinstance(x, pd.DataFrame):\n",
    "        c_names = x.columns if _keep_names else ['%s_%s' % (c, _name) for c in x.columns]\n",
    "        return pd.DataFrame(xp, index=x.index, columns=c_names)\n",
    "    elif isinstance(x, pd.Series):\n",
    "        return pd.Series(xp.flatten(), index=x.index, name=_name)\n",
    "\n",
    "    return xp\n",
    "def shift(xs: np.ndarray, n: int, fill=np.nan) -> np.ndarray:\n",
    "    e = np.empty_like(xs)\n",
    "    if n >= 0:\n",
    "        e[:n] = fill\n",
    "        e[n:] = xs[:-n]\n",
    "    else:\n",
    "        e[n:] = fill\n",
    "        e[:n] = xs[-n:]\n",
    "    return e\n",
    "\n",
    "def nans(dims):\n",
    "    return np.nan * np.ones(dims)\n",
    "\n",
    "def column_vector(x):\n",
    "    if isinstance(x, (pd.DataFrame, pd.Series)): x = x.values\n",
    "    return np.reshape(x, (x.shape[0], -1))\n",
    "\n",
    "def rolling_sum(x: np.ndarray, n: int) -> np.ndarray:\n",
    "    for i in range(0, x.shape[1]):\n",
    "        ret = np.nancumsum(x[:, i])\n",
    "        ret[n:] = ret[n:] - ret[:-n]\n",
    "        x[:, i] = np.concatenate((nans(n - 1), ret[n - 1:]))\n",
    "    return x\n",
    "\n",
    "def _calc_kama(x, period, fast_span, slow_span):\n",
    "    x = x.astype(np.float64)\n",
    "    for i in range(0, x.shape[1]):\n",
    "        nan_start = np.where(~np.isnan(x[:, i]))[0][0]\n",
    "        x_s = x[:, i][nan_start:]\n",
    "        if period >= len(x_s):\n",
    "            raise ValueError('Wrong value for period. period parameter must be less than number of input observations')\n",
    "        abs_diff = np.abs(x_s - shift(x_s, 1))\n",
    "        er = np.abs(x_s - shift(x_s, period)) / rolling_sum(np.reshape(abs_diff, (len(abs_diff), -1)), period)[:, 0]\n",
    "        sc = np.square((er * (2.0 / (fast_span + 1) - 2.0 / (slow_span + 1.0)) + 2 / (slow_span + 1.0)))\n",
    "        ama = nans(sc.shape)\n",
    "\n",
    "        # here ama_0 = x_0\n",
    "        ama[period - 1] = x_s[period - 1]\n",
    "        for n in range(period, len(ama)):\n",
    "            ama[n] = ama[n - 1] + sc[n] * (x_s[n] - ama[n - 1])\n",
    "\n",
    "        # drop 1-st kama value (just for compatibility with ta-lib)\n",
    "        ama[period - 1] = np.nan\n",
    "\n",
    "        x[:, i] = np.concatenate((nans(nan_start), ama))\n",
    "\n",
    "    return x\n",
    "\n",
    "def kama(x, period, fast_span=2, slow_span=30):\n",
    "    x = column_vector(x)\n",
    "    return _calc_kama(x, period, fast_span, slow_span)"
   ]
  },
  {
   "cell_type": "markdown",
   "metadata": {},
   "source": [
    "### indicators work ... "
   ]
  },
  {
   "cell_type": "code",
   "execution_count": 7,
   "metadata": {},
   "outputs": [],
   "source": [
    "ts0 = TimeSeries('close', '1Min')\n",
    "# em0 = Sma(ts0, 3)\n",
    "# em1 = Sma(em0, 3)\n",
    "k0 = Kama(ts0, 6)  \n",
    "\n",
    "for t, v in [\n",
    "    ('2024-01-01 00:00', 9), ('2024-01-01 00:00', 1),\n",
    "    ('2024-01-01 00:01', 2), ('2024-01-01 00:01', 3),   ('2024-01-01 00:01', 2),\n",
    "    ('2024-01-01 00:02', 3),\n",
    "    ('2024-01-01 00:03', 4),\n",
    "    ('2024-01-01 00:04', 5), ('2024-01-01 00:04', 5.1), ('2024-01-01 00:04:20', 5),\n",
    "    ('2024-01-01 00:05', 6), ('2024-01-01 00:05', 7),   ('2024-01-01 00:05', 6),\n",
    "    ('2024-01-01 00:07', 8), ('2024-01-01 00:07', -1),  ('2024-01-01 00:07', 8),\n",
    "    ('2024-01-01 00:08', 8),\n",
    "    ('2024-01-01 00:09', 8),\n",
    "    ('2024-01-01 00:10', 12),\n",
    "    ('2024-01-01 00:11', 13),\n",
    "    ('2024-01-01 00:12', 14),\n",
    "    ('2024-01-01 00:13', 15),\n",
    "    ('2024-01-01 00:14', 17),\n",
    "    ('2024-01-01 00:15', 4),\n",
    "]:\n",
    "    ts0.update(recognize_time(t), v)"
   ]
  },
  {
   "cell_type": "code",
   "execution_count": 8,
   "metadata": {},
   "outputs": [
    {
     "data": {
      "text/plain": [
       "2024-01-01 00:00:00          NaN\n",
       "2024-01-01 00:01:00          NaN\n",
       "2024-01-01 00:02:00          NaN\n",
       "2024-01-01 00:03:00          NaN\n",
       "2024-01-01 00:04:00          NaN\n",
       "2024-01-01 00:05:00     6.000000\n",
       "2024-01-01 00:07:00     6.674298\n",
       "2024-01-01 00:08:00     7.099457\n",
       "2024-01-01 00:09:00     7.368156\n",
       "2024-01-01 00:10:00     8.988150\n",
       "2024-01-01 00:11:00    10.391300\n",
       "2024-01-01 00:12:00    11.352619\n",
       "2024-01-01 00:13:00    12.973677\n",
       "2024-01-01 00:14:00    14.763154\n",
       "2024-01-01 00:15:00    13.898217\n",
       "Name: kama(6,2,30), dtype: float64"
      ]
     },
     "execution_count": 8,
     "metadata": {},
     "output_type": "execute_result"
    }
   ],
   "source": [
    "k0.to_series()"
   ]
  },
  {
   "cell_type": "markdown",
   "metadata": {},
   "source": [
    "### OHLC tests"
   ]
  },
  {
   "cell_type": "code",
   "execution_count": 9,
   "metadata": {},
   "outputs": [],
   "source": [
    "ohlc = OHLCV('1Min')\n",
    "s1 = Sma(ohlc.close, 5)\n",
    "for t, v in [\n",
    "    ('2024-01-01 00:00', 9), ('2024-01-01 00:00', 1),\n",
    "    ('2024-01-01 00:01', 2), ('2024-01-01 00:01', 3),   ('2024-01-01 00:01', 2),\n",
    "    ('2024-01-01 00:02', 3),\n",
    "    ('2024-01-01 00:03', 4),\n",
    "    ('2024-01-01 00:04', 5), ('2024-01-01 00:04', 5.1), ('2024-01-01 00:04:20', 5),\n",
    "    ('2024-01-01 00:05', 6), ('2024-01-01 00:05', 7),   ('2024-01-01 00:05', 6),\n",
    "    ('2024-01-01 00:07', 8), ('2024-01-01 00:07', -1),  ('2024-01-01 00:07', 8),\n",
    "    ('2024-01-01 00:08', 8),\n",
    "    ('2024-01-01 00:09', 8),\n",
    "    ('2024-01-01 00:10', 12),('2024-01-01 00:10:01', 21),('2024-01-01 00:10:30', 1),('2024-01-01 00:10:31', 5),\n",
    "    ('2024-01-01 00:11', 13),\n",
    "    ('2024-01-01 00:12', 14),\n",
    "    ('2024-01-01 00:13', 15),\n",
    "    ('2024-01-01 00:14', 17),\n",
    "    ('2024-01-01 00:15', 4),\n",
    "]:\n",
    "    ohlc.update(recognize_time(t), v, 1)"
   ]
  },
  {
   "cell_type": "code",
   "execution_count": 10,
   "metadata": {},
   "outputs": [
    {
     "data": {
      "text/html": [
       "<div>\n",
       "<style scoped>\n",
       "    .dataframe tbody tr th:only-of-type {\n",
       "        vertical-align: middle;\n",
       "    }\n",
       "\n",
       "    .dataframe tbody tr th {\n",
       "        vertical-align: top;\n",
       "    }\n",
       "\n",
       "    .dataframe thead th {\n",
       "        text-align: right;\n",
       "    }\n",
       "</style>\n",
       "<table border=\"1\" class=\"dataframe\">\n",
       "  <thead>\n",
       "    <tr style=\"text-align: right;\">\n",
       "      <th></th>\n",
       "      <th>open</th>\n",
       "      <th>high</th>\n",
       "      <th>low</th>\n",
       "      <th>close</th>\n",
       "      <th>volume</th>\n",
       "    </tr>\n",
       "    <tr>\n",
       "      <th>timestamp</th>\n",
       "      <th></th>\n",
       "      <th></th>\n",
       "      <th></th>\n",
       "      <th></th>\n",
       "      <th></th>\n",
       "    </tr>\n",
       "  </thead>\n",
       "  <tbody>\n",
       "    <tr>\n",
       "      <th>2024-01-01 00:00:00</th>\n",
       "      <td>9.0</td>\n",
       "      <td>9.0</td>\n",
       "      <td>1.0</td>\n",
       "      <td>1.0</td>\n",
       "      <td>2.0</td>\n",
       "    </tr>\n",
       "    <tr>\n",
       "      <th>2024-01-01 00:01:00</th>\n",
       "      <td>2.0</td>\n",
       "      <td>3.0</td>\n",
       "      <td>2.0</td>\n",
       "      <td>2.0</td>\n",
       "      <td>3.0</td>\n",
       "    </tr>\n",
       "    <tr>\n",
       "      <th>2024-01-01 00:02:00</th>\n",
       "      <td>3.0</td>\n",
       "      <td>3.0</td>\n",
       "      <td>3.0</td>\n",
       "      <td>3.0</td>\n",
       "      <td>1.0</td>\n",
       "    </tr>\n",
       "    <tr>\n",
       "      <th>2024-01-01 00:03:00</th>\n",
       "      <td>4.0</td>\n",
       "      <td>4.0</td>\n",
       "      <td>4.0</td>\n",
       "      <td>4.0</td>\n",
       "      <td>1.0</td>\n",
       "    </tr>\n",
       "    <tr>\n",
       "      <th>2024-01-01 00:04:00</th>\n",
       "      <td>5.0</td>\n",
       "      <td>5.1</td>\n",
       "      <td>5.0</td>\n",
       "      <td>5.0</td>\n",
       "      <td>3.0</td>\n",
       "    </tr>\n",
       "    <tr>\n",
       "      <th>2024-01-01 00:05:00</th>\n",
       "      <td>6.0</td>\n",
       "      <td>7.0</td>\n",
       "      <td>6.0</td>\n",
       "      <td>6.0</td>\n",
       "      <td>3.0</td>\n",
       "    </tr>\n",
       "    <tr>\n",
       "      <th>2024-01-01 00:07:00</th>\n",
       "      <td>8.0</td>\n",
       "      <td>8.0</td>\n",
       "      <td>-1.0</td>\n",
       "      <td>8.0</td>\n",
       "      <td>3.0</td>\n",
       "    </tr>\n",
       "    <tr>\n",
       "      <th>2024-01-01 00:08:00</th>\n",
       "      <td>8.0</td>\n",
       "      <td>8.0</td>\n",
       "      <td>8.0</td>\n",
       "      <td>8.0</td>\n",
       "      <td>1.0</td>\n",
       "    </tr>\n",
       "    <tr>\n",
       "      <th>2024-01-01 00:09:00</th>\n",
       "      <td>8.0</td>\n",
       "      <td>8.0</td>\n",
       "      <td>8.0</td>\n",
       "      <td>8.0</td>\n",
       "      <td>1.0</td>\n",
       "    </tr>\n",
       "    <tr>\n",
       "      <th>2024-01-01 00:10:00</th>\n",
       "      <td>12.0</td>\n",
       "      <td>21.0</td>\n",
       "      <td>1.0</td>\n",
       "      <td>5.0</td>\n",
       "      <td>4.0</td>\n",
       "    </tr>\n",
       "    <tr>\n",
       "      <th>2024-01-01 00:11:00</th>\n",
       "      <td>13.0</td>\n",
       "      <td>13.0</td>\n",
       "      <td>13.0</td>\n",
       "      <td>13.0</td>\n",
       "      <td>1.0</td>\n",
       "    </tr>\n",
       "    <tr>\n",
       "      <th>2024-01-01 00:12:00</th>\n",
       "      <td>14.0</td>\n",
       "      <td>14.0</td>\n",
       "      <td>14.0</td>\n",
       "      <td>14.0</td>\n",
       "      <td>1.0</td>\n",
       "    </tr>\n",
       "    <tr>\n",
       "      <th>2024-01-01 00:13:00</th>\n",
       "      <td>15.0</td>\n",
       "      <td>15.0</td>\n",
       "      <td>15.0</td>\n",
       "      <td>15.0</td>\n",
       "      <td>1.0</td>\n",
       "    </tr>\n",
       "    <tr>\n",
       "      <th>2024-01-01 00:14:00</th>\n",
       "      <td>17.0</td>\n",
       "      <td>17.0</td>\n",
       "      <td>17.0</td>\n",
       "      <td>17.0</td>\n",
       "      <td>1.0</td>\n",
       "    </tr>\n",
       "    <tr>\n",
       "      <th>2024-01-01 00:15:00</th>\n",
       "      <td>4.0</td>\n",
       "      <td>4.0</td>\n",
       "      <td>4.0</td>\n",
       "      <td>4.0</td>\n",
       "      <td>1.0</td>\n",
       "    </tr>\n",
       "  </tbody>\n",
       "</table>\n",
       "</div>"
      ],
      "text/plain": [
       "                     open  high   low  close  volume\n",
       "timestamp                                           \n",
       "2024-01-01 00:00:00   9.0   9.0   1.0    1.0     2.0\n",
       "2024-01-01 00:01:00   2.0   3.0   2.0    2.0     3.0\n",
       "2024-01-01 00:02:00   3.0   3.0   3.0    3.0     1.0\n",
       "2024-01-01 00:03:00   4.0   4.0   4.0    4.0     1.0\n",
       "2024-01-01 00:04:00   5.0   5.1   5.0    5.0     3.0\n",
       "2024-01-01 00:05:00   6.0   7.0   6.0    6.0     3.0\n",
       "2024-01-01 00:07:00   8.0   8.0  -1.0    8.0     3.0\n",
       "2024-01-01 00:08:00   8.0   8.0   8.0    8.0     1.0\n",
       "2024-01-01 00:09:00   8.0   8.0   8.0    8.0     1.0\n",
       "2024-01-01 00:10:00  12.0  21.0   1.0    5.0     4.0\n",
       "2024-01-01 00:11:00  13.0  13.0  13.0   13.0     1.0\n",
       "2024-01-01 00:12:00  14.0  14.0  14.0   14.0     1.0\n",
       "2024-01-01 00:13:00  15.0  15.0  15.0   15.0     1.0\n",
       "2024-01-01 00:14:00  17.0  17.0  17.0   17.0     1.0\n",
       "2024-01-01 00:15:00   4.0   4.0   4.0    4.0     1.0"
      ]
     },
     "execution_count": 10,
     "metadata": {},
     "output_type": "execute_result"
    }
   ],
   "source": [
    "ohlc.to_series()"
   ]
  },
  {
   "cell_type": "code",
   "execution_count": 4,
   "metadata": {},
   "outputs": [
    {
     "name": "stdout",
     "output_type": "stream",
     "text": [
      "OHLCV[1Min] | 15 records\n",
      "  2024-01-01T00:15:00.000000000 {o:4.000000 | h:4.000000 | l:4.000000 | c:4.000000 | v:0.000000}\n",
      "  2024-01-01T00:14:00.000000000 {o:17.000000 | h:17.000000 | l:17.000000 | c:17.000000 | v:0.000000}\n",
      "  2024-01-01T00:13:00.000000000 {o:15.000000 | h:15.000000 | l:15.000000 | c:15.000000 | v:0.000000}\n",
      "   .......... \n",
      "  2024-01-01T00:02:00.000000000 {o:3.000000 | h:3.000000 | l:3.000000 | c:3.000000 | v:0.000000}\n",
      "  2024-01-01T00:01:00.000000000 {o:2.000000 | h:3.000000 | l:2.000000 | c:2.000000 | v:0.000000}\n",
      "  2024-01-01T00:00:00.000000000 {o:9.000000 | h:9.000000 | l:1.000000 | c:1.000000 | v:0.000000}\n",
      " sma(5)[1Min] | 0 records\n",
      "\n"
     ]
    }
   ],
   "source": [
    "print(str(ohlc), str(s1))"
   ]
  },
  {
   "cell_type": "code",
   "execution_count": 11,
   "metadata": {},
   "outputs": [
    {
     "name": "stderr",
     "output_type": "stream",
     "text": [
      "C:\\Users\\dmitr\\AppData\\Local\\Temp\\ipykernel_28024\\2722279538.py:1: FutureWarning: The default dtype for empty Series will be 'object' instead of 'float64' in a future version. Specify a dtype explicitly to silence this warning.\n",
      "  s1.to_series()\n"
     ]
    },
    {
     "data": {
      "text/plain": [
       "Series([], Name: sma(5), dtype: float64)"
      ]
     },
     "execution_count": 11,
     "metadata": {},
     "output_type": "execute_result"
    }
   ],
   "source": [
    "s1.to_series()"
   ]
  },
  {
   "cell_type": "code",
   "execution_count": 5,
   "metadata": {},
   "outputs": [
    {
     "data": {
      "text/plain": [
       "{o:4.000000 | h:4.000000 | l:4.000000 | c:4.000000 | v:0.000000}"
      ]
     },
     "execution_count": 5,
     "metadata": {},
     "output_type": "execute_result"
    }
   ],
   "source": [
    "ohlc[0]"
   ]
  },
  {
   "cell_type": "code",
   "execution_count": 6,
   "metadata": {},
   "outputs": [
    {
     "data": {
      "text/html": [
       "<div>\n",
       "<style scoped>\n",
       "    .dataframe tbody tr th:only-of-type {\n",
       "        vertical-align: middle;\n",
       "    }\n",
       "\n",
       "    .dataframe tbody tr th {\n",
       "        vertical-align: top;\n",
       "    }\n",
       "\n",
       "    .dataframe thead th {\n",
       "        text-align: right;\n",
       "    }\n",
       "</style>\n",
       "<table border=\"1\" class=\"dataframe\">\n",
       "  <thead>\n",
       "    <tr style=\"text-align: right;\">\n",
       "      <th></th>\n",
       "      <th>open</th>\n",
       "      <th>high</th>\n",
       "      <th>low</th>\n",
       "      <th>close</th>\n",
       "      <th>volume</th>\n",
       "    </tr>\n",
       "    <tr>\n",
       "      <th>timestamp</th>\n",
       "      <th></th>\n",
       "      <th></th>\n",
       "      <th></th>\n",
       "      <th></th>\n",
       "      <th></th>\n",
       "    </tr>\n",
       "  </thead>\n",
       "  <tbody>\n",
       "    <tr>\n",
       "      <th>2024-01-01 00:00:00</th>\n",
       "      <td>9.0</td>\n",
       "      <td>9.0</td>\n",
       "      <td>1.0</td>\n",
       "      <td>1.0</td>\n",
       "      <td>0.0</td>\n",
       "    </tr>\n",
       "    <tr>\n",
       "      <th>2024-01-01 00:01:00</th>\n",
       "      <td>2.0</td>\n",
       "      <td>3.0</td>\n",
       "      <td>2.0</td>\n",
       "      <td>2.0</td>\n",
       "      <td>0.0</td>\n",
       "    </tr>\n",
       "    <tr>\n",
       "      <th>2024-01-01 00:02:00</th>\n",
       "      <td>3.0</td>\n",
       "      <td>3.0</td>\n",
       "      <td>3.0</td>\n",
       "      <td>3.0</td>\n",
       "      <td>0.0</td>\n",
       "    </tr>\n",
       "    <tr>\n",
       "      <th>2024-01-01 00:03:00</th>\n",
       "      <td>4.0</td>\n",
       "      <td>4.0</td>\n",
       "      <td>4.0</td>\n",
       "      <td>4.0</td>\n",
       "      <td>0.0</td>\n",
       "    </tr>\n",
       "    <tr>\n",
       "      <th>2024-01-01 00:04:00</th>\n",
       "      <td>5.0</td>\n",
       "      <td>5.1</td>\n",
       "      <td>5.0</td>\n",
       "      <td>5.0</td>\n",
       "      <td>0.0</td>\n",
       "    </tr>\n",
       "    <tr>\n",
       "      <th>2024-01-01 00:05:00</th>\n",
       "      <td>6.0</td>\n",
       "      <td>7.0</td>\n",
       "      <td>6.0</td>\n",
       "      <td>6.0</td>\n",
       "      <td>0.0</td>\n",
       "    </tr>\n",
       "    <tr>\n",
       "      <th>2024-01-01 00:07:00</th>\n",
       "      <td>8.0</td>\n",
       "      <td>8.0</td>\n",
       "      <td>-1.0</td>\n",
       "      <td>8.0</td>\n",
       "      <td>0.0</td>\n",
       "    </tr>\n",
       "    <tr>\n",
       "      <th>2024-01-01 00:08:00</th>\n",
       "      <td>8.0</td>\n",
       "      <td>8.0</td>\n",
       "      <td>8.0</td>\n",
       "      <td>8.0</td>\n",
       "      <td>0.0</td>\n",
       "    </tr>\n",
       "    <tr>\n",
       "      <th>2024-01-01 00:09:00</th>\n",
       "      <td>8.0</td>\n",
       "      <td>8.0</td>\n",
       "      <td>8.0</td>\n",
       "      <td>8.0</td>\n",
       "      <td>0.0</td>\n",
       "    </tr>\n",
       "    <tr>\n",
       "      <th>2024-01-01 00:10:00</th>\n",
       "      <td>12.0</td>\n",
       "      <td>21.0</td>\n",
       "      <td>1.0</td>\n",
       "      <td>5.0</td>\n",
       "      <td>0.0</td>\n",
       "    </tr>\n",
       "    <tr>\n",
       "      <th>2024-01-01 00:11:00</th>\n",
       "      <td>13.0</td>\n",
       "      <td>13.0</td>\n",
       "      <td>13.0</td>\n",
       "      <td>13.0</td>\n",
       "      <td>0.0</td>\n",
       "    </tr>\n",
       "    <tr>\n",
       "      <th>2024-01-01 00:12:00</th>\n",
       "      <td>14.0</td>\n",
       "      <td>14.0</td>\n",
       "      <td>14.0</td>\n",
       "      <td>14.0</td>\n",
       "      <td>0.0</td>\n",
       "    </tr>\n",
       "    <tr>\n",
       "      <th>2024-01-01 00:13:00</th>\n",
       "      <td>15.0</td>\n",
       "      <td>15.0</td>\n",
       "      <td>15.0</td>\n",
       "      <td>15.0</td>\n",
       "      <td>0.0</td>\n",
       "    </tr>\n",
       "    <tr>\n",
       "      <th>2024-01-01 00:14:00</th>\n",
       "      <td>17.0</td>\n",
       "      <td>17.0</td>\n",
       "      <td>17.0</td>\n",
       "      <td>17.0</td>\n",
       "      <td>0.0</td>\n",
       "    </tr>\n",
       "    <tr>\n",
       "      <th>2024-01-01 00:15:00</th>\n",
       "      <td>4.0</td>\n",
       "      <td>4.0</td>\n",
       "      <td>4.0</td>\n",
       "      <td>4.0</td>\n",
       "      <td>0.0</td>\n",
       "    </tr>\n",
       "  </tbody>\n",
       "</table>\n",
       "</div>"
      ],
      "text/plain": [
       "                     open  high   low  close  volume\n",
       "timestamp                                           \n",
       "2024-01-01 00:00:00   9.0   9.0   1.0    1.0     0.0\n",
       "2024-01-01 00:01:00   2.0   3.0   2.0    2.0     0.0\n",
       "2024-01-01 00:02:00   3.0   3.0   3.0    3.0     0.0\n",
       "2024-01-01 00:03:00   4.0   4.0   4.0    4.0     0.0\n",
       "2024-01-01 00:04:00   5.0   5.1   5.0    5.0     0.0\n",
       "2024-01-01 00:05:00   6.0   7.0   6.0    6.0     0.0\n",
       "2024-01-01 00:07:00   8.0   8.0  -1.0    8.0     0.0\n",
       "2024-01-01 00:08:00   8.0   8.0   8.0    8.0     0.0\n",
       "2024-01-01 00:09:00   8.0   8.0   8.0    8.0     0.0\n",
       "2024-01-01 00:10:00  12.0  21.0   1.0    5.0     0.0\n",
       "2024-01-01 00:11:00  13.0  13.0  13.0   13.0     0.0\n",
       "2024-01-01 00:12:00  14.0  14.0  14.0   14.0     0.0\n",
       "2024-01-01 00:13:00  15.0  15.0  15.0   15.0     0.0\n",
       "2024-01-01 00:14:00  17.0  17.0  17.0   17.0     0.0\n",
       "2024-01-01 00:15:00   4.0   4.0   4.0    4.0     0.0"
      ]
     },
     "execution_count": 6,
     "metadata": {},
     "output_type": "execute_result"
    }
   ],
   "source": [
    "ohlc.to_series()"
   ]
  },
  {
   "cell_type": "code",
   "execution_count": 12,
   "metadata": {},
   "outputs": [
    {
     "data": {
      "text/plain": [
       "2024-01-01 00:00:00     NaN\n",
       "2024-01-01 00:01:00     NaN\n",
       "2024-01-01 00:02:00     NaN\n",
       "2024-01-01 00:03:00     NaN\n",
       "2024-01-01 00:04:00     3.0\n",
       "2024-01-01 00:05:00     4.0\n",
       "2024-01-01 00:07:00     5.2\n",
       "2024-01-01 00:08:00     6.2\n",
       "2024-01-01 00:09:00     7.0\n",
       "2024-01-01 00:10:00     7.0\n",
       "2024-01-01 00:11:00     8.4\n",
       "2024-01-01 00:12:00     9.6\n",
       "2024-01-01 00:13:00    11.0\n",
       "2024-01-01 00:14:00    12.8\n",
       "2024-01-01 00:15:00    12.6\n",
       "Name: sma(5), dtype: float64"
      ]
     },
     "execution_count": 12,
     "metadata": {},
     "output_type": "execute_result"
    }
   ],
   "source": [
    "Sma(ohlc.close, 5).to_series()"
   ]
  },
  {
   "cell_type": "code",
   "execution_count": null,
   "metadata": {},
   "outputs": [],
   "source": []
  }
 ],
 "metadata": {
  "kernelspec": {
   "display_name": "py39",
   "language": "python",
   "name": "python3"
  },
  "language_info": {
   "codemirror_mode": {
    "name": "ipython",
    "version": 3
   },
   "file_extension": ".py",
   "mimetype": "text/x-python",
   "name": "python",
   "nbconvert_exporter": "python",
   "pygments_lexer": "ipython3",
   "version": "3.9.13"
  }
 },
 "nbformat": 4,
 "nbformat_minor": 2
}
