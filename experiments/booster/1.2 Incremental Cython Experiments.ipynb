{
 "cells": [
  {
   "cell_type": "code",
   "execution_count": 1,
   "metadata": {},
   "outputs": [
    {
     "name": "stdout",
     "output_type": "stream",
     "text": [
      "installed\n",
      " > Reloaded c:\\Users/dmitr/devs/Qube2exp/src\\qube\\core\\series.pyx\n"
     ]
    }
   ],
   "source": [
    "import pandas as pd\n",
    "import numpy as np\n",
    "import sys, os, re\n",
    "import matplotlib.pyplot as plt\n",
    "\n",
    "# from importlib import reload\n",
    "\n",
    "if re.match(r'^(\\w\\:\\\\)|(/)', os.getcwd()):\n",
    "    # sys.path.insert(0, \"c:/Users/dmitr/devs/quantl/\")\n",
    "    # sys.path.insert(0, \"c:/Users/dmitr/devs/Qube/\")\n",
    "    sys.path.insert(0, \"c:/Users/dmitr/devs/Qube2exp/src/\")\n",
    "    # sys.path.insert(0, \"c:/Users/dmitr/devs/Qube2exp/tests/\")\n",
    "    sys.path.insert(0, \"c:/Users/dmitr/devs/Qube2exp/\")\n",
    "    print('installed')\n",
    "\n",
    "\n",
    "# just some handy helpers from old Qube\n",
    "# from ta_helpers import kama, kama_indicator, apply_to_frame\n",
    "import tests.qube.ta.utils_for_testing as test\n",
    "\n",
    "%load_ext cython\n",
    "\n",
    "T = pd.date_range('2024-01-01 00:00', freq='1Min', periods=100_000)\n",
    "ds = 1 + (2*np.random.randn(len(T))).cumsum()\n",
    "data = list(zip(T, ds))"
   ]
  },
  {
   "cell_type": "markdown",
   "metadata": {},
   "source": [
    "## Cython v2 tests (cseries1)"
   ]
  },
  {
   "cell_type": "code",
   "execution_count": 53,
   "metadata": {},
   "outputs": [
    {
     "name": "stdout",
     "output_type": "stream",
     "text": [
      "The autoreload extension is already loaded. To reload it, use:\n",
      "  %reload_ext autoreload\n",
      " > Reloaded ../../src/qube/core\\series.pyx\n"
     ]
    }
   ],
   "source": [
    "%load_ext autoreload\n",
    "%autoreload 2\n",
    "\n",
    "from qube.utils import reload_pyx_module\n",
    "\n",
    "reload_pyx_module('../../src/qube/core/')\n",
    "from qube.core.series import TimeSeries\n",
    "del sys.modules['qube.core.series']\n",
    "from qube.core.series import (TimeSeries, sma, ema, tema, dema, kama, recognize_time, OHLCV, RollingSum, Sma, Ema, Cached)"
   ]
  },
  {
   "cell_type": "markdown",
   "metadata": {},
   "source": [
    "## Series example"
   ]
  },
  {
   "cell_type": "code",
   "execution_count": 5,
   "metadata": {},
   "outputs": [
    {
     "data": {
      "text/plain": [
       "1"
      ]
     },
     "execution_count": 5,
     "metadata": {},
     "output_type": "execute_result"
    }
   ],
   "source": [
    "# %%timeit\n",
    "ts = TimeSeries('test', '10Min')\n",
    "ts.update(recognize_time('2024-01-01 00:00'), 1)\n",
    "ts.update(recognize_time('2024-01-01 00:01'), 5)\n",
    "ts.update(recognize_time('2024-01-01 00:06'), 2)\n",
    "ts.update(recognize_time('2024-01-01 00:12'), 3)\n",
    "ts.update(recognize_time('2024-01-01 00:21'), 4)\n",
    "ts.update(recognize_time('2024-01-01 00:22'), 5)\n",
    "ts.update(recognize_time('2024-01-01 00:31'), 6)\n",
    "ts.update(recognize_time('2024-01-01 00:33'), 7)\n",
    "ts.update(recognize_time('2024-01-01 00:45'), -12)\n",
    "ts.update(recognize_time('2024-01-01 00:55'), 12)\n",
    "ts.update(recognize_time('2024-01-01 01:00'), 12)"
   ]
  },
  {
   "cell_type": "code",
   "execution_count": 13,
   "metadata": {},
   "outputs": [
    {
     "data": {
      "text/plain": [
       "2024-01-01 00:00:00     2.0\n",
       "2024-01-01 00:10:00     3.0\n",
       "2024-01-01 00:20:00     5.0\n",
       "2024-01-01 00:30:00     7.0\n",
       "2024-01-01 00:40:00   -12.0\n",
       "2024-01-01 00:50:00    12.0\n",
       "2024-01-01 01:00:00    12.0\n",
       "Name: test, dtype: float64"
      ]
     },
     "execution_count": 13,
     "metadata": {},
     "output_type": "execute_result"
    }
   ],
   "source": [
    "ts.to_series()"
   ]
  },
  {
   "cell_type": "markdown",
   "metadata": {},
   "source": [
    "## <font color='orange'>WIP</font>"
   ]
  },
  {
   "cell_type": "markdown",
   "metadata": {},
   "source": [
    "### Indicators tests"
   ]
  },
  {
   "cell_type": "code",
   "execution_count": 406,
   "metadata": {},
   "outputs": [],
   "source": [
    "# %%timeit \n",
    "ts = TimeSeries('close', '1h')\n",
    "s1 = sma(ts, 50)\n",
    "e1 = ema(ts, 50)\n",
    "ss1 = sma(s1, 50)\n",
    "ee1 = ema(e1, 50)\n",
    "t1 = tema(ts, 50)\n",
    "k1 = kama(ts, 50)\n",
    "d1 = dema(ts, 50)\n",
    "test.push(ts, data)"
   ]
  },
  {
   "cell_type": "code",
   "execution_count": 403,
   "metadata": {},
   "outputs": [
    {
     "data": {
      "text/plain": [
       "True"
      ]
     },
     "execution_count": 403,
     "metadata": {},
     "output_type": "execute_result"
    }
   ],
   "source": [
    "k1s = k1.to_series().dropna()\n",
    "ik1 = test.apply_to_frame(test.kama, ts.to_series(), 50).dropna()\n",
    "sum(ik1 - k1.to_series().dropna()) < 1e-8"
   ]
  },
  {
   "cell_type": "code",
   "execution_count": 404,
   "metadata": {},
   "outputs": [
    {
     "data": {
      "text/plain": [
       "True"
      ]
     },
     "execution_count": 404,
     "metadata": {},
     "output_type": "execute_result"
    }
   ],
   "source": [
    "k1 = kama(ts, 50)\n",
    "k1s = k1.to_series().dropna()\n",
    "sum(ik1 - k1.to_series().dropna()) < 1e-8"
   ]
  },
  {
   "cell_type": "code",
   "execution_count": null,
   "metadata": {},
   "outputs": [],
   "source": [
    "plt.plot(ts.to_series(), lw=0.5)\n",
    "plt.plot(tema(ts, 50).to_series())\n",
    "plt.plot(dema(ts, 50).to_series())\n",
    "plt.plot(t1.to_series())"
   ]
  },
  {
   "cell_type": "code",
   "execution_count": 327,
   "metadata": {},
   "outputs": [],
   "source": [
    "# %%timeit\n",
    "x0 = ts.to_series()\n",
    "pe1 = x0.ewm(span=50, min_periods=50).mean()\n",
    "pee1 = pe1.ewm(span=50, min_periods=50).mean()\n",
    "ps1 = x0.rolling(50).mean()\n",
    "pss1 = ps1.rolling(50).mean()"
   ]
  },
  {
   "cell_type": "code",
   "execution_count": null,
   "metadata": {},
   "outputs": [],
   "source": [
    "plt.plot(x0, lw=0.5)\n",
    "plt.plot(s1.to_series()); plt.plot(ps1)\n",
    "plt.plot(ss1.to_series()); plt.plot(pss1)\n",
    "plt.plot(e1.to_series()); plt.plot(pe1)\n",
    "plt.plot(ee1.to_series()); plt.plot(pee1)\n",
    "# plt.plot(s1.to_series()-ps1)"
   ]
  },
  {
   "cell_type": "code",
   "execution_count": 355,
   "metadata": {},
   "outputs": [],
   "source": [
    "# %%timeit\n",
    "s1 = sma(ts, 50)\n",
    "e1 = ema(ts, 50)\n",
    "ss1 = sma(s1, 50)\n",
    "ee1 = ema(e1, 50)\n",
    "k1 = kama(e1, 50)"
   ]
  },
  {
   "cell_type": "code",
   "execution_count": 356,
   "metadata": {},
   "outputs": [
    {
     "data": {
      "text/plain": [
       "{'sma(50)': <qube.core.series.sma at 0x209e2fdabc0>,\n",
       " 'ema(50)': <qube.core.series.ema at 0x209e2899e00>}"
      ]
     },
     "execution_count": 356,
     "metadata": {},
     "output_type": "execute_result"
    }
   ],
   "source": [
    "ts.get_indicators().clear()"
   ]
  },
  {
   "cell_type": "code",
   "execution_count": 357,
   "metadata": {},
   "outputs": [
    {
     "data": {
      "text/plain": [
       "[<matplotlib.lines.Line2D at 0x209e3542cd0>]"
      ]
     },
     "execution_count": 357,
     "metadata": {},
     "output_type": "execute_result"
    },
    {
     "data": {
      "image/png": "[encoded data removed]",
      "text/plain": [
       "<Figure size 640x480 with 1 Axes>"
      ]
     },
     "metadata": {},
     "output_type": "display_data"
    }
   ],
   "source": [
    "plt.plot(k1.to_series())"
   ]
  },
  {
   "cell_type": "markdown",
   "metadata": {},
   "source": [
    "### Indicators wip ... "
   ]
  },
  {
   "cell_type": "code",
   "execution_count": 358,
   "metadata": {},
   "outputs": [],
   "source": [
    "ts0 = TimeSeries('close', '1Min')\n",
    "# em0 = sma(ts0, 3)\n",
    "# em1 = sma(em0, 3)\n",
    "k0 = kama(ts0, 6)  \n",
    "\n",
    "for t, v in [\n",
    "    ('2024-01-01 00:00', 9), ('2024-01-01 00:00', 1),\n",
    "    ('2024-01-01 00:01', 2), ('2024-01-01 00:01', 3),   ('2024-01-01 00:01', 2),\n",
    "    ('2024-01-01 00:02', 3),\n",
    "    ('2024-01-01 00:03', 4),\n",
    "    ('2024-01-01 00:04', 5), ('2024-01-01 00:04', 5.1), ('2024-01-01 00:04:20', 5),\n",
    "    ('2024-01-01 00:05', 6), ('2024-01-01 00:05', 7),   ('2024-01-01 00:05', 6),\n",
    "    ('2024-01-01 00:07', 8), ('2024-01-01 00:07', -1),  ('2024-01-01 00:07', 8),\n",
    "    ('2024-01-01 00:08', 8),\n",
    "    ('2024-01-01 00:09', 8),\n",
    "    ('2024-01-01 00:10', 12),\n",
    "    ('2024-01-01 00:11', 13),\n",
    "    ('2024-01-01 00:12', 14),\n",
    "    ('2024-01-01 00:13', 15),\n",
    "    ('2024-01-01 00:14', 17),\n",
    "    ('2024-01-01 00:15', 4),\n",
    "]:\n",
    "    ts0.update(recognize_time(t), v)"
   ]
  },
  {
   "cell_type": "code",
   "execution_count": 359,
   "metadata": {},
   "outputs": [
    {
     "data": {
      "text/plain": [
       "2024-01-01 00:00:00          NaN\n",
       "2024-01-01 00:01:00          NaN\n",
       "2024-01-01 00:02:00          NaN\n",
       "2024-01-01 00:03:00          NaN\n",
       "2024-01-01 00:04:00          NaN\n",
       "2024-01-01 00:05:00     6.000000\n",
       "2024-01-01 00:07:00     6.888889\n",
       "2024-01-01 00:08:00     7.382716\n",
       "2024-01-01 00:09:00     7.657064\n",
       "2024-01-01 00:10:00     9.587258\n",
       "2024-01-01 00:11:00    11.104032\n",
       "2024-01-01 00:12:00    12.391129\n",
       "2024-01-01 00:13:00    13.550627\n",
       "2024-01-01 00:14:00    15.083682\n",
       "2024-01-01 00:15:00    14.748120\n",
       "Name: kama(6,2,30), dtype: float64"
      ]
     },
     "execution_count": 359,
     "metadata": {},
     "output_type": "execute_result"
    }
   ],
   "source": [
    "k0.to_series()"
   ]
  },
  {
   "cell_type": "markdown",
   "metadata": {},
   "source": [
    "### Caching indicators"
   ]
  },
  {
   "cell_type": "code",
   "execution_count": 54,
   "metadata": {},
   "outputs": [],
   "source": [
    "ts = TimeSeries('close', '1h')\n",
    "test.push(ts, data)"
   ]
  },
  {
   "cell_type": "code",
   "execution_count": 55,
   "metadata": {},
   "outputs": [
    {
     "data": {
      "text/plain": [
       "2024-01-01 00:00:00           NaN\n",
       "2024-01-01 01:00:00           NaN\n",
       "2024-01-01 02:00:00           NaN\n",
       "2024-01-01 03:00:00           NaN\n",
       "2024-01-01 04:00:00           NaN\n",
       "                          ...    \n",
       "2024-03-10 06:00:00    635.948320\n",
       "2024-03-10 07:00:00    634.558595\n",
       "2024-03-10 08:00:00    634.599720\n",
       "2024-03-10 09:00:00    634.414935\n",
       "2024-03-10 10:00:00    634.240072\n",
       "Name: sma(10), Length: 1667, dtype: float64"
      ]
     },
     "execution_count": 55,
     "metadata": {},
     "output_type": "execute_result"
    }
   ],
   "source": [
    "sma(ts, 10).to_series()"
   ]
  },
  {
   "cell_type": "code",
   "execution_count": 62,
   "metadata": {},
   "outputs": [
    {
     "data": {
      "text/plain": [
       "2024-01-01 00:00:00          NaN\n",
       "2024-01-01 01:00:00          NaN\n",
       "2024-01-01 02:00:00          NaN\n",
       "2024-01-01 03:00:00          NaN\n",
       "2024-01-01 04:00:00          NaN\n",
       "                         ...    \n",
       "2024-03-10 06:00:00    19.967149\n",
       "2024-03-10 07:00:00    19.865463\n",
       "2024-03-10 08:00:00    19.491906\n",
       "2024-03-10 09:00:00    19.044843\n",
       "2024-03-10 10:00:00    18.456159\n",
       "Length: 1667, dtype: float64"
      ]
     },
     "execution_count": 62,
     "metadata": {},
     "output_type": "execute_result"
    }
   ],
   "source": [
    "ema(ts, 10).to_series()\n",
    "ema(ts, 50).to_series()\n",
    "tema(ts, 50).to_series()\n",
    "dema(ts, 50).to_series()"
   ]
  },
  {
   "cell_type": "code",
   "execution_count": 63,
   "metadata": {},
   "outputs": [
    {
     "data": {
      "text/plain": [
       "{'sma(10)': <qube.core.series.sma at 0x1e30c9849c0>,\n",
       " 'ema(10,1)': <qube.core.series.ema at 0x1e30c5b0040>,\n",
       " 'ema(50,1)': <qube.core.series.ema at 0x1e30c5b0680>,\n",
       " 'tema(50,1)': <qube.core.series.tema at 0x1e30d097680>,\n",
       " 'dema(50,1)': <qube.core.series.dema at 0x1e3096d3160>}"
      ]
     },
     "execution_count": 63,
     "metadata": {},
     "output_type": "execute_result"
    }
   ],
   "source": [
    "ts.get_indicators()"
   ]
  },
  {
   "cell_type": "markdown",
   "metadata": {},
   "source": [
    "### OHLC tests"
   ]
  },
  {
   "cell_type": "code",
   "execution_count": 367,
   "metadata": {},
   "outputs": [],
   "source": [
    "ohlc = OHLCV('1Min')\n",
    "s1 = sma(ohlc.close, 10)\n",
    "for t, v in [\n",
    "    ('2024-01-01 00:00', 9), ('2024-01-01 00:00', 1),\n",
    "    ('2024-01-01 00:01', 2), ('2024-01-01 00:01', 3),   ('2024-01-01 00:01', 2),\n",
    "    ('2024-01-01 00:02', 3),\n",
    "    ('2024-01-01 00:03', 4),\n",
    "    ('2024-01-01 00:04', 5), ('2024-01-01 00:04', 5.1), ('2024-01-01 00:04:20', 5),\n",
    "    ('2024-01-01 00:05', 6), ('2024-01-01 00:05', 7),   ('2024-01-01 00:05', 6),\n",
    "    ('2024-01-01 00:07', 8), ('2024-01-01 00:07', -1),  ('2024-01-01 00:07', 8),\n",
    "    ('2024-01-01 00:08', 8),\n",
    "    ('2024-01-01 00:09', 8),\n",
    "    ('2024-01-01 00:10', 12), ('2024-01-01 00:10:01', 21),('2024-01-01 00:10:30', 1),('2024-01-01 00:10:31', 5),\n",
    "    ('2024-01-01 00:11', 13),\n",
    "    ('2024-01-01 00:12', 14),\n",
    "    ('2024-01-01 00:13', 15),\n",
    "    ('2024-01-01 00:14', 17),\n",
    "    ('2024-01-01 00:15', 4), ('2024-01-01 00:15:10', 12),\n",
    "]:\n",
    "    ohlc.update(recognize_time(t), v, 1)"
   ]
  },
  {
   "cell_type": "code",
   "execution_count": 369,
   "metadata": {},
   "outputs": [],
   "source": [
    "r1 = RollingSum(3)"
   ]
  },
  {
   "cell_type": "code",
   "execution_count": 381,
   "metadata": {},
   "outputs": [
    {
     "name": "stdout",
     "output_type": "stream",
     "text": [
      "rs[3] = [1. 1. 1.] @ 0 -> 0\n"
     ]
    }
   ],
   "source": [
    "r1.update(1, 1); print(r1)\n",
    "# r1.update(1, 1); print(r1)\n",
    "# r1.update(1, 0); print(r1)"
   ]
  },
  {
   "cell_type": "code",
   "execution_count": null,
   "metadata": {},
   "outputs": [],
   "source": [
    "ohlc.to_series()"
   ]
  },
  {
   "cell_type": "code",
   "execution_count": 385,
   "metadata": {},
   "outputs": [
    {
     "name": "stdout",
     "output_type": "stream",
     "text": [
      "OHLCV[1Min] | 15 records\n",
      "  2024-01-01T00:15:00.000000000 {o:4.000000 | h:12.000000 | l:4.000000 | c:12.000000 | v:2.000000}\n",
      "  2024-01-01T00:14:00.000000000 {o:17.000000 | h:17.000000 | l:17.000000 | c:17.000000 | v:1.000000}\n",
      "  2024-01-01T00:13:00.000000000 {o:15.000000 | h:15.000000 | l:15.000000 | c:15.000000 | v:1.000000}\n",
      "   .......... \n",
      "  2024-01-01T00:02:00.000000000 {o:3.000000 | h:3.000000 | l:3.000000 | c:3.000000 | v:1.000000}\n",
      "  2024-01-01T00:01:00.000000000 {o:2.000000 | h:3.000000 | l:2.000000 | c:2.000000 | v:3.000000}\n",
      "  2024-01-01T00:00:00.000000000 {o:9.000000 | h:9.000000 | l:1.000000 | c:1.000000 | v:2.000000}\n",
      " sma(10)[1Min] | 15 records\n",
      "  2024-01-01T00:15:00.000000000 10.6\n",
      "  2024-01-01T00:14:00.000000000 9.9\n",
      "  2024-01-01T00:13:00.000000000 8.6\n",
      "   .......... \n",
      "  2024-01-01T00:02:00.000000000 nan\n",
      "  2024-01-01T00:01:00.000000000 nan\n",
      "  2024-01-01T00:00:00.000000000 nan\n",
      "\n"
     ]
    }
   ],
   "source": [
    "print(str(ohlc), str(s1))"
   ]
  },
  {
   "cell_type": "code",
   "execution_count": 386,
   "metadata": {},
   "outputs": [
    {
     "data": {
      "text/plain": [
       "2024-01-01 00:00:00     NaN\n",
       "2024-01-01 00:01:00     NaN\n",
       "2024-01-01 00:02:00     NaN\n",
       "2024-01-01 00:03:00     NaN\n",
       "2024-01-01 00:04:00     NaN\n",
       "2024-01-01 00:05:00     NaN\n",
       "2024-01-01 00:07:00     NaN\n",
       "2024-01-01 00:08:00     NaN\n",
       "2024-01-01 00:09:00     NaN\n",
       "2024-01-01 00:10:00     NaN\n",
       "2024-01-01 00:11:00     6.2\n",
       "2024-01-01 00:12:00     7.4\n",
       "2024-01-01 00:13:00     8.6\n",
       "2024-01-01 00:14:00     9.9\n",
       "2024-01-01 00:15:00    10.6\n",
       "Name: sma(10), dtype: float64"
      ]
     },
     "execution_count": 386,
     "metadata": {},
     "output_type": "execute_result"
    }
   ],
   "source": [
    "s1.to_series()"
   ]
  },
  {
   "cell_type": "code",
   "execution_count": 388,
   "metadata": {},
   "outputs": [
    {
     "data": {
      "text/plain": [
       "2024-01-01 00:00:00     NaN\n",
       "2024-01-01 00:01:00     NaN\n",
       "2024-01-01 00:02:00     NaN\n",
       "2024-01-01 00:03:00     NaN\n",
       "2024-01-01 00:04:00     NaN\n",
       "2024-01-01 00:05:00     NaN\n",
       "2024-01-01 00:07:00     NaN\n",
       "2024-01-01 00:08:00     NaN\n",
       "2024-01-01 00:09:00     NaN\n",
       "2024-01-01 00:10:00     5.0\n",
       "2024-01-01 00:11:00     6.2\n",
       "2024-01-01 00:12:00     7.4\n",
       "2024-01-01 00:13:00     8.6\n",
       "2024-01-01 00:14:00     9.9\n",
       "2024-01-01 00:15:00    10.6\n",
       "Name: sma(10), dtype: float64"
      ]
     },
     "execution_count": 388,
     "metadata": {},
     "output_type": "execute_result"
    }
   ],
   "source": [
    "sma(ohlc.close, 10).to_series()"
   ]
  },
  {
   "cell_type": "code",
   "execution_count": 389,
   "metadata": {},
   "outputs": [
    {
     "data": {
      "text/plain": [
       "2024-01-01 00:00:00       NaN\n",
       "2024-01-01 00:01:00       NaN\n",
       "2024-01-01 00:02:00       NaN\n",
       "2024-01-01 00:03:00       NaN\n",
       "2024-01-01 00:04:00       NaN\n",
       "2024-01-01 00:05:00       NaN\n",
       "2024-01-01 00:07:00       NaN\n",
       "2024-01-01 00:08:00     4.625\n",
       "2024-01-01 00:09:00     5.500\n",
       "2024-01-01 00:10:00     5.875\n",
       "2024-01-01 00:11:00     7.125\n",
       "2024-01-01 00:12:00     8.375\n",
       "2024-01-01 00:13:00     9.625\n",
       "2024-01-01 00:14:00    11.000\n",
       "2024-01-01 00:15:00    11.500\n",
       "Name: sma(8), dtype: float64"
      ]
     },
     "execution_count": 389,
     "metadata": {},
     "output_type": "execute_result"
    }
   ],
   "source": [
    "sma(ohlc.close, 8).to_series()"
   ]
  }
 ],
 "metadata": {
  "kernelspec": {
   "display_name": "py39",
   "language": "python",
   "name": "python3"
  },
  "language_info": {
   "codemirror_mode": {
    "name": "ipython",
    "version": 3
   },
   "file_extension": ".py",
   "mimetype": "text/x-python",
   "name": "python",
   "nbconvert_exporter": "python",
   "pygments_lexer": "ipython3",
   "version": "3.9.13"
  }
 },
 "nbformat": 4,
 "nbformat_minor": 2
}
