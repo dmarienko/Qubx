{
 "cells": [
  {
   "cell_type": "code",
   "execution_count": 1,
   "metadata": {},
   "outputs": [
    {
     "name": "stdout",
     "output_type": "stream",
     "text": [
      "installed\n"
     ]
    }
   ],
   "source": [
    "import pandas as pd\n",
    "import numpy as np\n",
    "import sys, os, re\n",
    "from numba import njit, typed\n",
    "from numba.experimental import jitclass\n",
    "\n",
    "if re.match(r'^(\\w\\:\\\\)|(/)', os.getcwd()):\n",
    "    sys.path.insert(0, \"c:/Users/dmitr/devs/quantl/\")\n",
    "    sys.path.insert(0, \"c:/Users/dmitr/devs/Qube2exp/src/\")\n",
    "    # sys.path.insert(0, \"c:/Users/dmitr/devs/Qube/\")\n",
    "    print('installed')"
   ]
  },
  {
   "cell_type": "markdown",
   "metadata": {},
   "source": [
    "# First experiments"
   ]
  },
  {
   "cell_type": "code",
   "execution_count": 2,
   "metadata": {},
   "outputs": [
    {
     "ename": "ModuleNotFoundError",
     "evalue": "No module named 'qube.quantitative'",
     "output_type": "error",
     "traceback": [
      "\u001b[1;31m---------------------------------------------------------------------------\u001b[0m",
      "\u001b[1;31mModuleNotFoundError\u001b[0m                       Traceback (most recent call last)",
      "Cell \u001b[1;32mIn[2], line 2\u001b[0m\n\u001b[0;32m      1\u001b[0m \u001b[38;5;66;03m# Time data representation\u001b[39;00m\n\u001b[1;32m----> 2\u001b[0m \u001b[38;5;28;01mfrom\u001b[39;00m \u001b[38;5;21;01mqube\u001b[39;00m\u001b[38;5;21;01m.\u001b[39;00m\u001b[38;5;21;01mquantitative\u001b[39;00m\u001b[38;5;21;01m.\u001b[39;00m\u001b[38;5;21;01mta\u001b[39;00m\u001b[38;5;21;01m.\u001b[39;00m\u001b[38;5;21;01mindicators\u001b[39;00m \u001b[38;5;28;01mimport\u001b[39;00m ema, _calc_ema\n\u001b[0;32m      3\u001b[0m \u001b[38;5;28;01mfrom\u001b[39;00m \u001b[38;5;21;01mqube\u001b[39;00m\u001b[38;5;21;01m.\u001b[39;00m\u001b[38;5;21;01mquantitative\u001b[39;00m\u001b[38;5;21;01m.\u001b[39;00m\u001b[38;5;21;01mtools\u001b[39;00m \u001b[38;5;28;01mimport\u001b[39;00m rolling_sum\n\u001b[0;32m      4\u001b[0m \u001b[38;5;28;01mfrom\u001b[39;00m \u001b[38;5;21;01mqube\u001b[39;00m\u001b[38;5;21;01m.\u001b[39;00m\u001b[38;5;21;01mquantitative\u001b[39;00m\u001b[38;5;21;01m.\u001b[39;00m\u001b[38;5;21;01mtools\u001b[39;00m \u001b[38;5;28;01mimport\u001b[39;00m column_vector\n",
      "\u001b[1;31mModuleNotFoundError\u001b[0m: No module named 'qube.quantitative'"
     ]
    }
   ],
   "source": [
    "# Time data representation\n",
    "from qube.quantitative.ta.indicators import ema, _calc_ema\n",
    "from qube.quantitative.tools import rolling_sum\n",
    "from qube.quantitative.tools import column_vector\n",
    "\n",
    "from quantl.core import Indicator\n",
    "from quantl.impl.indicators import Sma, Ema\n",
    "from quantl.utils import nans"
   ]
  },
  {
   "cell_type": "code",
   "execution_count": 131,
   "metadata": {},
   "outputs": [],
   "source": [
    "class SmaNu(Indicator):\n",
    "    \"\"\"\n",
    "    Simple moving average\n",
    "    \"\"\"\n",
    "    def __init__(self, period):\n",
    "        super().__init__()\n",
    "        self.period = period\n",
    "        self.__s = nans(period)\n",
    "        self.__i = typed.List([0])\n",
    "        self._name = 'sma(%d)' % period\n",
    "        self._calculate = self.wrap(period) \n",
    "\n",
    "    def wrap(cls, period):\n",
    "        @njit\n",
    "        def _do_calc(x, _is_being_appended, __s, __i):\n",
    "            _x = x / period\n",
    "            __s[__i[0]] = _x\n",
    "\n",
    "            if _is_being_appended:\n",
    "                __i[0] += 1\n",
    "                if __i[0] >= period:\n",
    "                    __i[0] = 0\n",
    "\n",
    "            return np.sum(__s)\n",
    "        return _do_calc\n",
    "\n",
    "    def calculate(self, x):\n",
    "        # print(self.__s)\n",
    "        return self._calculate(\n",
    "            x, self._is_being_appended, self.__s, self.__i\n",
    "        )"
   ]
  },
  {
   "cell_type": "code",
   "execution_count": 215,
   "metadata": {},
   "outputs": [],
   "source": [
    "class EmaFast(Indicator):\n",
    "    def __init__(self, period, init_mean=True):\n",
    "        super().__init__()\n",
    "        self.period = period\n",
    "        self.init_mean = init_mean\n",
    "        self._name = 'ema(%d,%s)' % (period, init_mean)\n",
    "        self.xs = [] \n",
    "        self.xc = np.arange(1500).reshape(-1, 1)\n",
    "\n",
    "    def calculate(self, x):\n",
    "        # self.xs.append(x)\n",
    "        # xc = np.array(self.xs).reshape(-1, 1)\n",
    "        # return 0\n",
    "        return _calc_ema(self.xc, self.period, self.init_mean)[-1][0]"
   ]
  },
  {
   "cell_type": "code",
   "execution_count": 3,
   "metadata": {},
   "outputs": [
    {
     "name": "stdout",
     "output_type": "stream",
     "text": [
      "2.47 ms ± 438 µs per loop (mean ± std. dev. of 7 runs, 100 loops each)\n"
     ]
    }
   ],
   "source": [
    "%%timeit\n",
    "\n",
    "e0 = Ema(15)\n",
    "for i in range(1500):\n",
    "    e0.update(i, i)"
   ]
  },
  {
   "cell_type": "code",
   "execution_count": 216,
   "metadata": {},
   "outputs": [
    {
     "name": "stdout",
     "output_type": "stream",
     "text": [
      "16.7 ms ± 559 µs per loop (mean ± std. dev. of 7 runs, 100 loops each)\n"
     ]
    }
   ],
   "source": [
    "%%timeit\n",
    "\n",
    "e1 = EmaFast(15)\n",
    "for i in range(1500):\n",
    "    e1.update(i, i)"
   ]
  },
  {
   "cell_type": "code",
   "execution_count": 154,
   "metadata": {},
   "outputs": [
    {
     "name": "stdout",
     "output_type": "stream",
     "text": [
      "116 ms ± 4.98 ms per loop (mean ± std. dev. of 7 runs, 10 loops each)\n"
     ]
    }
   ],
   "source": [
    "%%timeit\n",
    "\n",
    "sma1 = SmaNu(15)\n",
    "for i in range(1000):\n",
    "    sma1.update(i, float(i))"
   ]
  },
  {
   "cell_type": "code",
   "execution_count": 148,
   "metadata": {},
   "outputs": [
    {
     "name": "stdout",
     "output_type": "stream",
     "text": [
      "4.27 ms ± 329 µs per loop (mean ± std. dev. of 7 runs, 100 loops each)\n"
     ]
    }
   ],
   "source": [
    "%%timeit\n",
    "sma0 = Sma(15)\n",
    "for i in range(1000):\n",
    "    sma0.update(i, i)"
   ]
  },
  {
   "cell_type": "markdown",
   "metadata": {},
   "source": [
    "# Temporal data representation"
   ]
  },
  {
   "cell_type": "code",
   "execution_count": 8,
   "metadata": {},
   "outputs": [
    {
     "name": "stdout",
     "output_type": "stream",
     "text": [
      "The autoreload extension is already loaded. To reload it, use:\n",
      "  %reload_ext autoreload\n"
     ]
    }
   ],
   "source": [
    "%load_ext autoreload\n",
    "%autoreload 2\n",
    "\n",
    "from qube.core.series import  recognize_time,  FloatSeries, Float, Trade, Sma"
   ]
  },
  {
   "cell_type": "markdown",
   "metadata": {},
   "source": [
    "## Series experiments"
   ]
  },
  {
   "cell_type": "code",
   "execution_count": 12,
   "metadata": {},
   "outputs": [
    {
     "data": {
      "text/plain": [
       "True"
      ]
     },
     "execution_count": 12,
     "metadata": {},
     "output_type": "execute_result"
    }
   ],
   "source": [
    "# %%timeit\n",
    "fs = FloatSeries('close', '10Min')\n",
    "fs.update(Float(recognize_time('2024-01-01 00:00'), 1))\n",
    "fs.update(Float(recognize_time('2024-01-01 00:01'), 2))\n",
    "fs.update(Float(recognize_time('2024-01-01 00:12'), 3))\n",
    "fs.update(Float(recognize_time('2024-01-01 00:21'), 4))\n",
    "fs.update(Float(recognize_time('2024-01-01 00:22'), 5))\n",
    "fs.update(Float(recognize_time('2024-01-01 00:31'), 6))\n",
    "fs.update(Float(recognize_time('2024-01-01 00:33'), 7))\n",
    "fs.update(Trade(recognize_time('2024-01-01 00:45'), 12, 100))\n",
    "fs.update(Trade(recognize_time('2024-01-01 00:55'), 12, 100))"
   ]
  },
  {
   "cell_type": "code",
   "execution_count": 13,
   "metadata": {},
   "outputs": [
    {
     "name": "stdout",
     "output_type": "stream",
     "text": [
      "close[10 minutes] | 6 records\n",
      "  [2024-01-01T00:50:00]\t12\n",
      "  [2024-01-01T00:40:00]\t12\n",
      "  [2024-01-01T00:30:00]\t7\n",
      "   .......... \n",
      "  [2024-01-01T00:20:00]\t5\n",
      "  [2024-01-01T00:10:00]\t3\n",
      "  [2024-01-01T00:00:00]\t2\n",
      "\n"
     ]
    }
   ],
   "source": [
    "print(str(fs))"
   ]
  },
  {
   "cell_type": "code",
   "execution_count": 16,
   "metadata": {},
   "outputs": [],
   "source": [
    "T = pd.date_range('2020-01-01 00:00', freq='5Min', periods=50000)"
   ]
  },
  {
   "cell_type": "code",
   "execution_count": 17,
   "metadata": {},
   "outputs": [],
   "source": [
    "# %%timeit\n",
    "s0 = Sma(3)\n",
    "fs = FloatSeries('close', '10Min').attach(s0)\n",
    "[fs.update(Float(ti, vi)) for ti, vi in zip(T, range(len(T)))];"
   ]
  },
  {
   "cell_type": "code",
   "execution_count": 18,
   "metadata": {},
   "outputs": [
    {
     "name": "stdout",
     "output_type": "stream",
     "text": [
      "close[10 minutes] | 25000 records\n",
      "  [2020-06-22T14:30:00]\t49999\n",
      "  [2020-06-22T14:20:00]\t49997\n",
      "  [2020-06-22T14:10:00]\t49995\n",
      "   .......... \n",
      "  [2020-01-01T00:20:00]\t5\n",
      "  [2020-01-01T00:10:00]\t3\n",
      "  [2020-01-01T00:00:00]\t1\n",
      "\n"
     ]
    }
   ],
   "source": [
    "print(str(fs))"
   ]
  },
  {
   "cell_type": "code",
   "execution_count": null,
   "metadata": {},
   "outputs": [],
   "source": [
    "print(str(s0._values))"
   ]
  },
  {
   "cell_type": "code",
   "execution_count": 256,
   "metadata": {},
   "outputs": [],
   "source": [
    "fs = FloatSeries('Test', '10Min')"
   ]
  },
  {
   "cell_type": "code",
   "execution_count": 257,
   "metadata": {},
   "outputs": [
    {
     "data": {
      "text/plain": [
       "<qube.core.series.FloatSeries at 0x24fa42ad580>"
      ]
     },
     "execution_count": 257,
     "metadata": {},
     "output_type": "execute_result"
    }
   ],
   "source": [
    "s0 = Sma(3)\n",
    "fs.attach(s0)"
   ]
  },
  {
   "cell_type": "code",
   "execution_count": 258,
   "metadata": {},
   "outputs": [
    {
     "data": {
      "text/plain": [
       "True"
      ]
     },
     "execution_count": 258,
     "metadata": {},
     "output_type": "execute_result"
    }
   ],
   "source": [
    "fs.update(Float(recognize_time('2024-01-01 00:00'), 1))\n",
    "fs.update(Float(recognize_time('2024-01-01 00:01'), 2))\n",
    "fs.update(Float(recognize_time('2024-01-01 00:12'), 3))\n",
    "fs.update(Float(recognize_time('2024-01-01 00:21'), 4))\n",
    "fs.update(Float(recognize_time('2024-01-01 00:22'), 5))\n",
    "fs.update(Float(recognize_time('2024-01-01 00:31'), 6))\n",
    "fs.update(Float(recognize_time('2024-01-01 00:33'), 7))\n",
    "fs.update(Trade(recognize_time('2024-01-01 00:45'), 12, 100))\n",
    "fs.update(Trade(recognize_time('2024-01-01 00:55'), 12, 100))"
   ]
  },
  {
   "cell_type": "code",
   "execution_count": 259,
   "metadata": {},
   "outputs": [
    {
     "name": "stdout",
     "output_type": "stream",
     "text": [
      "sma(3)[10 minutes] | 6 records\n",
      "  [2024-01-01T00:50:00]\t10.333333333333334\n",
      "  [2024-01-01T00:40:00]\t8.0\n",
      "  [2024-01-01T00:30:00]\t5.0\n",
      "   .......... \n",
      "  [2024-01-01T00:20:00]\t3.333333333333333\n",
      "  [2024-01-01T00:10:00]\tnan\n",
      "  [2024-01-01T00:00:00]\tnan\n",
      "\n"
     ]
    }
   ],
   "source": [
    "print(str(s0._values))"
   ]
  },
  {
   "cell_type": "code",
   "execution_count": null,
   "metadata": {},
   "outputs": [],
   "source": []
  }
 ],
 "metadata": {
  "kernelspec": {
   "display_name": "py39",
   "language": "python",
   "name": "python3"
  },
  "language_info": {
   "codemirror_mode": {
    "name": "ipython",
    "version": 3
   },
   "file_extension": ".py",
   "mimetype": "text/x-python",
   "name": "python",
   "nbconvert_exporter": "python",
   "pygments_lexer": "ipython3",
   "version": "3.9.13"
  }
 },
 "nbformat": 4,
 "nbformat_minor": 2
}
