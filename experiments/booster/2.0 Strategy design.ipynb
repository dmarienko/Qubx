{
 "cells": [
  {
   "cell_type": "code",
   "execution_count": 1,
   "metadata": {},
   "outputs": [
    {
     "name": "stdout",
     "output_type": "stream",
     "text": [
      "installed\n",
      " > Reloaded c:\\Users/dmitr/devs/Qube2exp/src\\qube\\core\\series.pyx\n"
     ]
    }
   ],
   "source": [
    "import pandas as pd\n",
    "import numpy as np\n",
    "import sys, os, re\n",
    "import matplotlib.pyplot as plt\n",
    "\n",
    "# from importlib import reload\n",
    "\n",
    "if re.match(r'^(\\w\\:\\\\)|(/)', os.getcwd()):\n",
    "    # sys.path.insert(0, \"c:/Users/dmitr/devs/quantl/\")\n",
    "    # sys.path.insert(0, \"c:/Users/dmitr/devs/Qube/\")\n",
    "    sys.path.insert(0, \"c:/Users/dmitr/devs/Qube2exp/src/\")\n",
    "    # sys.path.insert(0, \"c:/Users/dmitr/devs/Qube2exp/tests/\")\n",
    "    sys.path.insert(0, \"c:/Users/dmitr/devs/Qube2exp/\")\n",
    "    print('installed')\n",
    "\n",
    "\n",
    "# just some handy helpers from old Qube\n",
    "import tests.qube.ta.utils_for_testing as test\n",
    "\n",
    "%load_ext cython\n",
    "\n",
    "T = pd.date_range('2024-01-01 00:00', freq='1Min', periods=100_000)\n",
    "ds = 1 + (2*np.random.randn(len(T))).cumsum()\n",
    "data = list(zip(T, ds))"
   ]
  },
  {
   "cell_type": "code",
   "execution_count": 7,
   "metadata": {},
   "outputs": [
    {
     "name": "stdout",
     "output_type": "stream",
     "text": [
      "The autoreload extension is already loaded. To reload it, use:\n",
      "  %reload_ext autoreload\n",
      " > Reloaded ../../src/qube/core\\series.pyx\n"
     ]
    }
   ],
   "source": [
    "%load_ext autoreload\n",
    "%autoreload 2\n",
    "\n",
    "from qube.utils import reload_pyx_module\n",
    "\n",
    "reload_pyx_module('../../src/qube/core/')\n",
    "from qube.core.series import TimeSeries\n",
    "del sys.modules['qube.core.series']\n",
    "from qube.core.series import (TimeSeries, sma, ema, tema, dema, kama, recognize_time, OHLCV, RollingSum, lag, compare)"
   ]
  },
  {
   "cell_type": "markdown",
   "metadata": {},
   "source": [
    "# Strategy high level design"
   ]
  },
  {
   "cell_type": "code",
   "execution_count": 6,
   "metadata": {},
   "outputs": [],
   "source": [
    "class IStrategy:\n",
    "\n",
    "    def trade(self, position: float, group=None, stop=None, take=None, limit=None, cancel=False):\n",
    "        print(f\"TRADE: {position} [{group}]\")\n",
    "        pass\n",
    "\n",
    "    def cancel(self, group=None):\n",
    "        print(f\"CANCEL: all from [{group}]\")\n",
    "\n",
    "    def position(self) -> float:\n",
    "        \"\"\"\n",
    "        Returns open position\n",
    "        \"\"\"\n",
    "        return 0.0\n",
    "\n",
    "\n",
    "class CrossTestClassical(IStrategy):\n",
    "\n",
    "    def __init__(self) -> None:\n",
    "        pass\n",
    "\n",
    "    def on_data(self, xs: OHLCV, is_bar_closed: bool):\n",
    "        if is_bar_closed:\n",
    "            fast = ema(xs.close, 15)\n",
    "            slow = ema(xs.close, 50)\n",
    "            b = xs[0]\n",
    "\n",
    "            if (fast[0] > slow[0]) and (fast[1] < slow[1]):\n",
    "                self.trade(+1, 'long', stop=b.low, cancel=True)\n",
    "\n",
    "            elif (fast[0] < slow[0]) and (fast[1] > slow[1]):\n",
    "                self.trade(-1, 'short', stop=b.high, cancel=True)\n",
    "\n",
    "class CrossTestVector(IStrategy):\n",
    "\n",
    "    def __init__(self) -> None:\n",
    "        pass\n",
    "\n",
    "    def on_data(self, xs: OHLCV, is_bar_closed: bool):\n",
    "        if is_bar_closed:\n",
    "            b = xs[0]\n",
    "            s = compare(ema(xs.close, 15), ema(xs.close, 50))\n",
    "            where(s, {\n",
    "                +1: +1,\n",
    "                -1: +1,\n",
    "                }\n",
    "            )\n",
    "\n",
    "            # if (fast[0] > slow[0]) and (fast[1] < slow[1]):\n",
    "            #     self.trade(+1, 'long', stop=b.low, cancel=True)\n",
    "\n",
    "            # elif (fast[0] < slow[0]) and (fast[1] > slow[1]):\n",
    "            #     self.trade(-1, 'short', stop=b.high, cancel=True)\n",
    "            "
   ]
  },
  {
   "cell_type": "code",
   "execution_count": 15,
   "metadata": {},
   "outputs": [],
   "source": [
    "from array import array"
   ]
  },
  {
   "cell_type": "code",
   "execution_count": 22,
   "metadata": {},
   "outputs": [
    {
     "data": {
      "text/plain": [
       "array('d', [nan, nan, nan, nan, nan])"
      ]
     },
     "execution_count": 22,
     "metadata": {},
     "output_type": "execute_result"
    }
   ],
   "source": [
    "a = array('d', [np.nan]*5)"
   ]
  },
  {
   "cell_type": "code",
   "execution_count": 28,
   "metadata": {},
   "outputs": [],
   "source": [
    "a[4] = 1"
   ]
  },
  {
   "cell_type": "code",
   "execution_count": 30,
   "metadata": {},
   "outputs": [
    {
     "data": {
      "text/plain": [
       "array('d', [nan, nan, nan, nan, 1.0])"
      ]
     },
     "execution_count": 30,
     "metadata": {},
     "output_type": "execute_result"
    }
   ],
   "source": [
    "a"
   ]
  },
  {
   "cell_type": "code",
   "execution_count": 11,
   "metadata": {},
   "outputs": [],
   "source": [
    "xs = test.push(OHLCV('1h'), data)"
   ]
  },
  {
   "cell_type": "code",
   "execution_count": 12,
   "metadata": {},
   "outputs": [],
   "source": [
    "s = compare(ema(xs.close, 15), ema(xs.close, 50))"
   ]
  },
  {
   "cell_type": "code",
   "execution_count": null,
   "metadata": {},
   "outputs": [],
   "source": [
    "s.pd()"
   ]
  },
  {
   "cell_type": "code",
   "execution_count": 5,
   "metadata": {},
   "outputs": [],
   "source": [
    "t = CrossTestClassical()"
   ]
  },
  {
   "cell_type": "code",
   "execution_count": null,
   "metadata": {},
   "outputs": [],
   "source": [
    "fast = ema(xs.close, 15)\n",
    "slow = ema(xs.close, 50)\n",
    "where(\n",
    "    (fast > slow) & (lag(fast, 1) < lag(slow, 1)) & (lag(xs.low, 1)  ), 1\n",
    ")"
   ]
  },
  {
   "cell_type": "code",
   "execution_count": null,
   "metadata": {},
   "outputs": [],
   "source": []
  }
 ],
 "metadata": {
  "kernelspec": {
   "display_name": "py39",
   "language": "python",
   "name": "python3"
  },
  "language_info": {
   "codemirror_mode": {
    "name": "ipython",
    "version": 3
   },
   "file_extension": ".py",
   "mimetype": "text/x-python",
   "name": "python",
   "nbconvert_exporter": "python",
   "pygments_lexer": "ipython3",
   "version": "3.9.13"
  }
 },
 "nbformat": 4,
 "nbformat_minor": 2
}
