{
 "cells": [
  {
   "cell_type": "code",
   "execution_count": 1,
   "metadata": {},
   "outputs": [
    {
     "name": "stdout",
     "output_type": "stream",
     "text": [
      "installed\n",
      " > Reloaded c:\\Users/dmitr/devs/Qube2exp/src\\qube\\core\\series.pyx\n"
     ]
    }
   ],
   "source": [
    "import pandas as pd\n",
    "import numpy as np\n",
    "import sys, os, re\n",
    "import matplotlib.pyplot as plt\n",
    "\n",
    "# from importlib import reload\n",
    "\n",
    "if re.match(r'^(\\w\\:\\\\)|(/)', os.getcwd()):\n",
    "    # sys.path.insert(0, \"c:/Users/dmitr/devs/quantl/\")\n",
    "    # sys.path.insert(0, \"c:/Users/dmitr/devs/Qube/\")\n",
    "    sys.path.insert(0, \"c:/Users/dmitr/devs/Qube2exp/src/\")\n",
    "    # sys.path.insert(0, \"c:/Users/dmitr/devs/Qube2exp/tests/\")\n",
    "    sys.path.insert(0, \"c:/Users/dmitr/devs/Qube2exp/\")\n",
    "    print('installed')\n",
    "\n",
    "\n",
    "# just some handy helpers from old Qube\n",
    "import tests.qube.ta.utils_for_testing as test\n",
    "\n",
    "%load_ext cython\n",
    "\n",
    "T = pd.date_range('2024-01-01 00:00', freq='1Min', periods=100_000)\n",
    "ds = 1 + (2*np.random.randn(len(T))).cumsum()\n",
    "data = list(zip(T, ds))"
   ]
  },
  {
   "cell_type": "code",
   "execution_count": 7,
   "metadata": {},
   "outputs": [
    {
     "name": "stdout",
     "output_type": "stream",
     "text": [
      "The autoreload extension is already loaded. To reload it, use:\n",
      "  %reload_ext autoreload\n",
      " > Reloaded ../../src/qube/core\\series.pyx\n"
     ]
    }
   ],
   "source": [
    "%load_ext autoreload\n",
    "%autoreload 2\n",
    "\n",
    "from qube.utils import reload_pyx_module\n",
    "\n",
    "reload_pyx_module('../../src/qube/core/')\n",
    "from qube.core.series import TimeSeries\n",
    "del sys.modules['qube.core.series']\n",
    "from qube.core.series import (TimeSeries, sma, ema, tema, dema, kama, recognize_time, OHLCV, RollingSum, lag, compare)"
   ]
  },
  {
   "cell_type": "markdown",
   "metadata": {},
   "source": [
    "# Strategy high level design"
   ]
  },
  {
   "cell_type": "code",
   "execution_count": 60,
   "metadata": {},
   "outputs": [],
   "source": [
    "from typing import List, Tuple, Dict, Optional, Union\n",
    "\n",
    "\n",
    "class Instrument:\n",
    "    name: str\n",
    "\n",
    "class Trade:\n",
    "    time: int\n",
    "    price: float\n",
    "    size: float\n",
    "\n",
    "class Quote:\n",
    "    time: int\n",
    "    bid: float\n",
    "    ask: float\n",
    "    bid_size: float\n",
    "    ask_size: float\n",
    "\n",
    "class IStrategy:\n",
    "    def __init__(self, **kwargs) -> None:\n",
    "        self.populate_parameters(**kwargs)\n",
    "\n",
    "    def populate_parameters(self, **kwargs):\n",
    "        for k,v in kwargs.items():\n",
    "            if k.startswith('_'):\n",
    "                raise ValueError(\"Internal variable can't be set from external parameter !\")\n",
    "            if hasattr(self, k):\n",
    "                self.__dict__[k] = v\n",
    "\n",
    "    def instruments(self) -> List[Instrument]:\n",
    "        pass\n",
    "\n",
    "    def position(self, position: float, group=None, stop=None, take=None, limit=None, cancel=False):\n",
    "        print(f\"NEW POSITION: {position} [{group}]\")\n",
    "        pass\n",
    "\n",
    "    def cancel(self, group=None):\n",
    "        print(f\"CANCEL: all from [{group}]\")\n",
    "\n",
    "    def open_position(self, instrument: Instrument) -> float:\n",
    "        \"\"\"\n",
    "        Returns open position\n",
    "        \"\"\"\n",
    "        return 0.0\n",
    "        \n",
    "class PositionTracker:\n",
    "    pass\n",
    "class CapitalManager:\n",
    "    pass\n",
    "class FixedCapitalPercentage(CapitalManager):\n",
    "    pass\n",
    "class AtrTracker(PositionTracker):\n",
    "    pass"
   ]
  },
  {
   "cell_type": "code",
   "execution_count": 58,
   "metadata": {},
   "outputs": [],
   "source": [
    "from qube.core.series import Bar\n",
    "\n",
    "\n",
    "class CrossTestClassical(IStrategy):\n",
    "    period_fast: int = 5\n",
    "    period_slow: int = 50\n",
    "\n",
    "    def __init__(self, **kwargs) -> None:\n",
    "        super().__init__(**kwargs)\n",
    "\n",
    "    def fit(self, instrument: Instrument):\n",
    "        ohlc = self.ohlc(instrument, '1H')\n",
    "        # do the trainig stuff ...\n",
    "        return self\n",
    "\n",
    "    def process_data(self, timestamp: np.datetime64, instrument: Optional[Instrument]):\n",
    "        ohlc = self.ohlc(instrument, '1H')\n",
    "        # tick_bars = self.tickbars(instrument, 200) # returns series of 200 tick bars\n",
    "        # trades = self.trades(instrument) # returns series of trades\n",
    "        # quotes = self.quotes(instrument) # returns series of quotes\n",
    "        fast = ema(ohlc.close, self.period_fast)\n",
    "        slow = ema(ohlc.close, self.period_slow)\n",
    "        bar:Bar = ohlc[0]\n",
    "\n",
    "        if (fast[0] > slow[0]) and (fast[1] < slow[1]):\n",
    "            return instrument.position(+1, 'long', stop=bar.low, cancel=True)\n",
    "        elif (fast[0] < slow[0]) and (fast[1] > slow[1]):\n",
    "            return instrument.position(-1, 'short', stop=bar.high, cancel=True)\n",
    "\n",
    "    def tracker(self, instrument: Instrument) -> Optional[PositionTracker]:\n",
    "        return None\n",
    "\n",
    "    def capital_manager(\n",
    "            self, instrument: Instrument, available_capital: float, entry_price: float, stop_price: float, take_price: float\n",
    "        ) -> Optional[CapitalManager]:\n",
    "        return None "
   ]
  },
  {
   "cell_type": "code",
   "execution_count": null,
   "metadata": {},
   "outputs": [],
   "source": [
    "class PairsTrading(IStrategy):\n",
    "    period: int = 15\n",
    "    timeframe: str = '1H'\n",
    "    __pair_for: Dict[Instrument, Instrument] = {}\n",
    "\n",
    "    def __init__(self, **kwargs) -> None:\n",
    "        super().__init__(**kwargs)\n",
    "\n",
    "    def fit(self, instrument: Instrument):\n",
    "        closes = self.prices(self.timeframe, 'close', self.instruments()).pd()\n",
    "        # - find pairs\n",
    "        self.pairs_finder(closes, self.period, self.instruments())\n",
    "        return self\n",
    "\n",
    "    def pairs_finder(self, period, closes: pd.DataFrame):\n",
    "        self.__pair_for.clear()\n",
    "        self.__pair_for[self.instruments()[0]] = self.instruments()[1]\n",
    "\n",
    "    def process_data(self, timestamp: np.datetime64, instrument1: Optional[Instrument]):\n",
    "        instrument2 = self.__pair_for[instrument1]\n",
    "        delta = self.ohlc(instrument1, self.timeframe).close - self.ohlc(instrument2, self.timeframe).close, \n",
    "        spread = (delta - ema(delta, self.period)) / std(delta - ema(delta, self.period)) \n",
    "        if spread[0] > 2:\n",
    "            return instrument1.position(-1, 'short'), instrument2.position(+1, 'long')\n",
    "        elif spread[0] < -2:\n",
    "            return instrument2.position(-1, 'short'), instrument1.position(+1, 'long')\n",
    "\n",
    "    def tracker(self, instrument: Instrument) -> Optional[PositionTracker]:\n",
    "        return None\n",
    "\n",
    "    def capital_manager(\n",
    "            self, \n",
    "            instruments: List[Instrument], \n",
    "            available_capital: float, \n",
    "            entry_prices: List[float], stop_prices: List[float], take_prices: List[float]\n",
    "        ) -> Optional[CapitalManager]:\n",
    "        return None "
   ]
  },
  {
   "cell_type": "code",
   "execution_count": 61,
   "metadata": {},
   "outputs": [
    {
     "data": {
      "text/plain": [
       "<__main__.CrossTestClassical at 0x1c27707ae20>"
      ]
     },
     "execution_count": 61,
     "metadata": {},
     "output_type": "execute_result"
    }
   ],
   "source": [
    "CrossTestClassical(period_fast=12)"
   ]
  },
  {
   "cell_type": "code",
   "execution_count": null,
   "metadata": {},
   "outputs": [],
   "source": [
    "m = Market(\n",
    "    'binance.um.usdt.vip0',\n",
    ")"
   ]
  },
  {
   "cell_type": "code",
   "execution_count": null,
   "metadata": {},
   "outputs": [],
   "source": [
    "data1Min = OHLCV()"
   ]
  },
  {
   "cell_type": "markdown",
   "metadata": {},
   "source": [
    "1. Start/End\n",
    "2."
   ]
  },
  {
   "cell_type": "code",
   "execution_count": null,
   "metadata": {},
   "outputs": [],
   "source": [
    "m.backtest(\n",
    "    {\n",
    "        'Signals': CrossTestClassical(period_fast=12),\n",
    "        'CapPct25%': CrossTestClassical(period_fast=12) + FixedCapitalPercentage(capital_in_risk=0.25),\n",
    "        'AtrTracker2': CrossTestClassical(period_fast=12) + AtrTracker(stop_atrs=2, initial_bar=0, period=200),\n",
    "    },\n",
    "    capital_base=100000,\n",
    "    leverage=5,\n",
    "    start='2021-01-01', end='now',\n",
    "    fit_start='2021-01-01', fit_end='now',\n",
    "\n",
    "    start='2021-01-01', end='',\n",
    "    fit_start='2021-01-01', fit_end='+4w',\n",
    "\n",
    "    data = data1Min.resample('15Min'),   # data to feed\n",
    "    handle_on='closes',                     # default on data's timeframe close prices\n",
    "    handle_on='closes.1H',                  # on 1H bar's close price\n",
    "    handle_on='quotes',                     # on every quote\n",
    "    handle_on='trades',                     # on every trade\n",
    "    handle_on='trades,quotes,15Min.closes', # on every trade or quote or close\n",
    "    handle_on='portfolio',                  # on every trade or quote or close\n",
    "    symbols=['BTCUSDT', 'ETHUSDT', 'ETHUSDT']\n",
    ")"
   ]
  },
  {
   "cell_type": "code",
   "execution_count": null,
   "metadata": {},
   "outputs": [],
   "source": [
    "# from zipline\n",
    "result = run_algorithm(start=start.tz_localize('UTC'),\n",
    "                       end=end.tz_localize('UTC'),\n",
    "                       initialize=initialize,\n",
    "                       handle_data=handle_data,\n",
    "                       capital_base=100000,\n",
    "                       benchmark_returns=benchmark_returns,\n",
    "                       bundle='quandl',\n",
    "                       data_frequency='daily')"
   ]
  },
  {
   "cell_type": "code",
   "execution_count": null,
   "metadata": {},
   "outputs": [],
   "source": []
  }
 ],
 "metadata": {
  "kernelspec": {
   "display_name": "py39",
   "language": "python",
   "name": "python3"
  },
  "language_info": {
   "codemirror_mode": {
    "name": "ipython",
    "version": 3
   },
   "file_extension": ".py",
   "mimetype": "text/x-python",
   "name": "python",
   "nbconvert_exporter": "python",
   "pygments_lexer": "ipython3",
   "version": "3.9.13"
  }
 },
 "nbformat": 4,
 "nbformat_minor": 2
}
