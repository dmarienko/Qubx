{
 "cells": [
  {
   "cell_type": "code",
   "execution_count": 5,
   "metadata": {},
   "outputs": [
    {
     "name": "stdout",
     "output_type": "stream",
     "text": [
      " >  [\u001b[32mdev\u001b[0m] \u001b[31minstalling cython rebuilding hook\u001b[0m\n",
      "The autoreload extension is already loaded. To reload it, use:\n",
      "  %reload_ext autoreload\n"
     ]
    }
   ],
   "source": [
    "import sys, os, re; sys.path = ([\"../src/\", \"../\"] if re.match(r'^(\\w\\:\\\\)|(/)', os.getcwd()) else [])+ sys.path \n",
    "\n",
    "from typing import Any, Optional, List\n",
    "\n",
    "import qubx\n",
    "%qubxd dev \n",
    "\n",
    "%load_ext autoreload\n",
    "%autoreload 2\n",
    "\n",
    "from qubx import lookup, logger\n",
    "from qubx.core.strategy import IStrategy, StrategyContext, TriggerEvent, PositionsTracker\n",
    "from qubx.pandaz.utils import *\n",
    "\n",
    "# - - - - - - - - - - - - - - - - - - - - - - - -\n",
    "from qubx.trackers import PortfolioRebalancerTracker\n",
    "from qubx.ta.indicators import sma, ema\n",
    "from qubx.data.readers import CsvStorageDataReader, MultiQdbConnector, AsTimestampedRecords, AsQuotes, RestoreTicksFromOHLC, AsPandasFrame, RestoreTicksFromOHLC, AsOhlcvSeries\n",
    "from qubx.core.basics import Deal, Instrument, Order, Position, Signal\n",
    "\n",
    "from qubx import QubxLogConfig\n",
    "from qubx.backtester.simulator import simulate\n",
    "from qubx.core.metrics import tearsheet\n",
    "from qubx.trackers.sizers import FixedSizer, FixedRiskSizer"
   ]
  },
  {
   "cell_type": "markdown",
   "metadata": {},
   "source": [
    "# Strat for signals testing"
   ]
  },
  {
   "cell_type": "code",
   "execution_count": 56,
   "metadata": {},
   "outputs": [],
   "source": [
    "class StrategyForTracking(IStrategy):\n",
    "    timeframe: str = \"1Min\"\n",
    "    fast_period = 5\n",
    "    slow_period = 12\n",
    "\n",
    "    def on_fit(self, ctx: StrategyContext, fit_time: str | pd.Timestamp, previous_fit_time: str | pd.Timestamp | None = None):\n",
    "        logger.info(f\" -> Fit is called | fit_time: {fit_time} / prev: {previous_fit_time}\")\n",
    "\n",
    "    def on_event(self, ctx: StrategyContext, event: TriggerEvent) -> List[Signal] | None:\n",
    "        signals = []\n",
    "        for i in ctx.instruments:\n",
    "            # logger.info(f\"\\t{i.symbol} : {ctx.broker_provider.get_quote(i.symbol)}\")\n",
    "            ohlc = ctx.ohlc(i, self.timeframe)\n",
    "            fast = sma(ohlc.close, self.fast_period)\n",
    "            slow = sma(ohlc.close, self.slow_period)\n",
    "            pos = ctx.positions[i.symbol].quantity\n",
    "\n",
    "            if pos <= 0:\n",
    "                if (fast[0] > slow[0]) and (fast[1] < slow[1]):\n",
    "                    # ctx.trade(i, abs(pos) + i.min_size * 10)\n",
    "                    signals.append(i.signal(+1, stop=ohlc[1].low))\n",
    "\n",
    "            if pos >= 0:\n",
    "                if (fast[0] < slow[0]) and (fast[1] > slow[1]):\n",
    "                    # ctx.trade(i, -pos - i.min_size * 10)\n",
    "                    signals.append(i.signal(-1, stop=ohlc[1].high))\n",
    "\n",
    "        return signals\n",
    "\n",
    "    def ohlcs(self, timeframe: str) -> Dict[str, pd.DataFrame]:\n",
    "        return {s.symbol: self.ctx.ohlc(s, timeframe).pd() for s in self.ctx.instruments}\n",
    "\n",
    "    def tracker(self, ctx: StrategyContext) -> PositionsTracker:\n",
    "        return PositionsTracker(FixedRiskSizer(5, 10_000, reinvest_profit=False))"
   ]
  },
  {
   "cell_type": "code",
   "execution_count": 57,
   "metadata": {},
   "outputs": [
    {
     "name": "stdout",
     "output_type": "stream",
     "text": [
      "\u001b[32m2024-07-30 16:33:39.647\u001b[0m [ \u001b[1mℹ️\u001b[0m ] \u001b[1m\u001b[33mStrategyForTracking\u001b[0m\u001b[1m new parameters:\n",
      "\tset \u001b[32mtimeframe\u001b[0m\u001b[1m <- \u001b[31m5Min\u001b[0m\u001b[1m\n",
      "\tset \u001b[32mfast_period\u001b[0m\u001b[1m <- \u001b[31m5\u001b[0m\u001b[1m\n",
      "\tset \u001b[32mslow_period\u001b[0m\u001b[1m <- \u001b[31m15\u001b[0m\u001b[1m\u001b[0m\n"
     ]
    },
    {
     "data": {
      "application/vnd.jupyter.widget-view+json": {
       "model_id": "2f14f726eb234d718ea0f41124b81ec3",
       "version_major": 2,
       "version_minor": 0
      },
      "text/plain": [
       "  0%|          | 0/1 [00:00<?, ?it/s]"
      ]
     },
     "metadata": {},
     "output_type": "display_data"
    },
    {
     "name": "stdout",
     "output_type": "stream",
     "text": [
      "\u001b[32m2024-07-30 16:33:39.662\u001b[0m [ \u001b[34m\u001b[1m🐞\u001b[0m ] \u001b[34m\u001b[1m\u001b[31m2024-01-01 00:00:00\u001b[0m\u001b[34m\u001b[1m Initiating simulated trading for binance.um for 10000 x 1.0 in USDT...\u001b[0m\n",
      "\u001b[32m2024-07-30 16:33:39.662\u001b[0m [ \u001b[1mℹ️\u001b[0m ] \u001b[1mSimulatedData.binance.um initialized\u001b[0m\n",
      "\u001b[32m2024-07-30 16:33:39.662\u001b[0m [ \u001b[34m\u001b[1m🐞\u001b[0m ] \u001b[34m\u001b[1mTriggering strategy on every 5Min bar after 4Min59S\u001b[0m\n",
      "\u001b[32m2024-07-30 16:33:39.662\u001b[0m [ \u001b[1mℹ️\u001b[0m ] \u001b[1m(StrategyContext) Subscribing to ohlc updates using {'timeframe': '1Min', 'nback': 0} for \n",
      "\t['BTCUSDT'] \u001b[0m\n"
     ]
    },
    {
     "data": {
      "application/vnd.jupyter.widget-view+json": {
       "model_id": "a546d6783c4b4af285f8ff31a78f358e",
       "version_major": 2,
       "version_minor": 0
      },
      "text/plain": [
       "  0%|          | 0/11524 [00:00<?, ?it/s]"
      ]
     },
     "metadata": {},
     "output_type": "display_data"
    },
    {
     "name": "stdout",
     "output_type": "stream",
     "text": [
      "\u001b[32m2024-07-30 16:33:39.782\u001b[0m [ \u001b[34m\u001b[1m🐞\u001b[0m ] \u001b[34m\u001b[1m[2024-01-01T00:00:00.001000000]: Invoking StrategyForTracking on_fit('2024-01-01 00:00:00', 'None')\u001b[0m\n",
      "\u001b[32m2024-07-30 16:33:39.782\u001b[0m [ \u001b[1mℹ️\u001b[0m ] \u001b[1m -> Fit is called | fit_time: 2024-01-01 00:00:00 / prev: None\u001b[0m\n",
      "\u001b[32m2024-07-30 16:33:39.782\u001b[0m [ \u001b[1mℹ️\u001b[0m ] \u001b[1m -> Fit is called | fit_time: 2024-01-01 00:00:00 / prev: None\u001b[0m\n",
      "\u001b[32m2024-07-30 16:33:39.784\u001b[0m [ \u001b[34m\u001b[1m🐞\u001b[0m ] \u001b[34m\u001b[1m[2024-01-01T00:00:00.001000000]: StrategyForTracking is fitted\u001b[0m\n",
      "\u001b[32m2024-07-30 16:33:39.834\u001b[0m [ \u001b[1mℹ️\u001b[0m ] \u001b[1m(StrategyContext) sending market sell for 0.234 of BTCUSDT ...\u001b[0m\n",
      "\u001b[32m2024-07-30 16:33:39.836\u001b[0m [ \u001b[34m\u001b[1m🐞\u001b[0m ] \u001b[34m\u001b[1m[OMS] BTCUSDT - SIM-ORDER-BTCUSDT-100001 MARKET SELL 0.234 executed at 42575.85\u001b[0m\n",
      "\u001b[32m2024-07-30 16:33:39.836\u001b[0m [ \u001b[1mℹ️\u001b[0m ] \u001b[1m  ::  traded -0.234 for BTCUSDT @ 42575.85 -> 0.00\u001b[0m\n",
      "\u001b[32m2024-07-30 16:33:39.837\u001b[0m [ \u001b[1mℹ️\u001b[0m ] \u001b[1mOrder SIM-ORDER-BTCUSDT-100001 MARKET SELL 0.234 of BTCUSDT -> CLOSED\u001b[0m\n",
      "\u001b[32m2024-07-30 16:33:39.837\u001b[0m [ \u001b[34m\u001b[1m🐞\u001b[0m ] \u001b[34m\u001b[1m[SIM-ORDER-BTCUSDT-100001 / StrategyForTracking_BTCUSDT_17040672001] : MARKET SELL 0.234 of BTCUSDT  -> [CLOSED]\u001b[0m\n",
      "\u001b[32m2024-07-30 16:33:39.839\u001b[0m [ \u001b[34m\u001b[1m🐞\u001b[0m ] \u001b[34m\u001b[1mExecuted -0.234 @ 42575.85 of BTCUSDT for order SIM-ORDER-BTCUSDT-100001\u001b[0m\n",
      "\u001b[32m2024-07-30 16:33:39.839\u001b[0m [ \u001b[1mℹ️\u001b[0m ] \u001b[1mBTCUSDT >>> Adjusting position from 0.0 to -0.23487493496900239 : [SIM-ORDER-BTCUSDT-100001] MARKET SELL 0.234 of BTCUSDT  (gtc) [CLOSED]\u001b[0m\n",
      "\u001b[32m2024-07-30 16:33:39.880\u001b[0m [ \u001b[1mℹ️\u001b[0m ] \u001b[1m(StrategyContext) sending market buy for 0.46900000000000003 of BTCUSDT ...\u001b[0m\n",
      "\u001b[32m2024-07-30 16:33:39.880\u001b[0m [ \u001b[34m\u001b[1m🐞\u001b[0m ] \u001b[34m\u001b[1m[OMS] BTCUSDT - SIM-ORDER-BTCUSDT-100002 MARKET BUY 0.46900000000000003 executed at 42391.55\u001b[0m\n",
      "\u001b[32m2024-07-30 16:33:39.880\u001b[0m [ \u001b[1mℹ️\u001b[0m ] \u001b[1m  ::  traded 0.46900000000000003 for BTCUSDT @ 42391.55 -> 43.11\u001b[0m\n",
      "\u001b[32m2024-07-30 16:33:39.894\u001b[0m [ \u001b[1mℹ️\u001b[0m ] \u001b[1mOrder SIM-ORDER-BTCUSDT-100002 MARKET BUY 0.46900000000000003 of BTCUSDT -> CLOSED\u001b[0m\n",
      "\u001b[32m2024-07-30 16:33:39.894\u001b[0m [ \u001b[34m\u001b[1m🐞\u001b[0m ] \u001b[34m\u001b[1m[SIM-ORDER-BTCUSDT-100002 / StrategyForTracking_BTCUSDT_17040672002] : MARKET BUY 0.46900000000000003 of BTCUSDT  -> [CLOSED]\u001b[0m\n",
      "\u001b[32m2024-07-30 16:33:39.895\u001b[0m [ \u001b[34m\u001b[1m🐞\u001b[0m ] \u001b[34m\u001b[1mExecuted 0.46900000000000003 @ 42391.55 of BTCUSDT for order SIM-ORDER-BTCUSDT-100002\u001b[0m\n",
      "\u001b[32m2024-07-30 16:33:39.897\u001b[0m [ \u001b[1mℹ️\u001b[0m ] \u001b[1mBTCUSDT >>> Adjusting position from -0.234 to 0.23589606890995962 : [SIM-ORDER-BTCUSDT-100002] MARKET BUY 0.46900000000000003 of BTCUSDT  (gtc) [CLOSED]\u001b[0m\n",
      "\u001b[32m2024-07-30 16:33:39.911\u001b[0m [ \u001b[1mℹ️\u001b[0m ] \u001b[1m(StrategyContext) sending market sell for 0.327 of BTCUSDT ...\u001b[0m\n",
      "\u001b[32m2024-07-30 16:33:39.912\u001b[0m [ \u001b[34m\u001b[1m🐞\u001b[0m ] \u001b[34m\u001b[1m[OMS] BTCUSDT - SIM-ORDER-BTCUSDT-100003 MARKET SELL 0.327 executed at 42344.049999999996\u001b[0m\n",
      "\u001b[32m2024-07-30 16:33:39.913\u001b[0m [ \u001b[1mℹ️\u001b[0m ] \u001b[1m  ::  traded -0.327 for BTCUSDT @ 42344.049999999996 -> -11.15\u001b[0m\n",
      "\u001b[32m2024-07-30 16:33:39.913\u001b[0m [ \u001b[1mℹ️\u001b[0m ] \u001b[1mOrder SIM-ORDER-BTCUSDT-100003 MARKET SELL 0.327 of BTCUSDT -> CLOSED\u001b[0m\n",
      "\u001b[32m2024-07-30 16:33:39.915\u001b[0m [ \u001b[34m\u001b[1m🐞\u001b[0m ] \u001b[34m\u001b[1m[SIM-ORDER-BTCUSDT-100003 / StrategyForTracking_BTCUSDT_17040672003] : MARKET SELL 0.327 of BTCUSDT  -> [CLOSED]\u001b[0m\n",
      "\u001b[32m2024-07-30 16:33:39.915\u001b[0m [ \u001b[34m\u001b[1m🐞\u001b[0m ] \u001b[34m\u001b[1mExecuted -0.327 @ 42344.049999999996 of BTCUSDT for order SIM-ORDER-BTCUSDT-100003\u001b[0m\n",
      "\u001b[32m2024-07-30 16:33:39.916\u001b[0m [ \u001b[1mℹ️\u001b[0m ] \u001b[1mBTCUSDT >>> Adjusting position from 0.23500000000000001 to -0.09205807659942777 : [SIM-ORDER-BTCUSDT-100003] MARKET SELL 0.327 of BTCUSDT  (gtc) [CLOSED]\u001b[0m\n",
      "\u001b[32m2024-07-30 16:33:39.931\u001b[0m [ \u001b[1mℹ️\u001b[0m ] \u001b[1m(StrategyContext) sending market buy for 0.328 of BTCUSDT ...\u001b[0m\n",
      "\u001b[32m2024-07-30 16:33:39.931\u001b[0m [ \u001b[34m\u001b[1m🐞\u001b[0m ] \u001b[34m\u001b[1m[OMS] BTCUSDT - SIM-ORDER-BTCUSDT-100004 MARKET BUY 0.328 executed at 42346.950000000004\u001b[0m\n",
      "\u001b[32m2024-07-30 16:33:39.931\u001b[0m [ \u001b[1mℹ️\u001b[0m ] \u001b[1m  ::  traded 0.328 for BTCUSDT @ 42346.950000000004 -> -0.27\u001b[0m\n",
      "\u001b[32m2024-07-30 16:33:39.931\u001b[0m [ \u001b[1mℹ️\u001b[0m ] \u001b[1mOrder SIM-ORDER-BTCUSDT-100004 MARKET BUY 0.328 of BTCUSDT -> CLOSED\u001b[0m\n",
      "\u001b[32m2024-07-30 16:33:39.931\u001b[0m [ \u001b[34m\u001b[1m🐞\u001b[0m ] \u001b[34m\u001b[1m[SIM-ORDER-BTCUSDT-100004 / StrategyForTracking_BTCUSDT_17040672004] : MARKET BUY 0.328 of BTCUSDT  -> [CLOSED]\u001b[0m\n",
      "\u001b[32m2024-07-30 16:33:39.931\u001b[0m [ \u001b[34m\u001b[1m🐞\u001b[0m ] \u001b[34m\u001b[1mExecuted 0.328 @ 42346.950000000004 of BTCUSDT for order SIM-ORDER-BTCUSDT-100004\u001b[0m\n",
      "\u001b[32m2024-07-30 16:33:39.931\u001b[0m [ \u001b[1mℹ️\u001b[0m ] \u001b[1mBTCUSDT >>> Adjusting position from -0.092 to 0.23614451572073075 : [SIM-ORDER-BTCUSDT-100004] MARKET BUY 0.328 of BTCUSDT  (gtc) [CLOSED]\u001b[0m\n",
      "\u001b[32m2024-07-30 16:33:40.030\u001b[0m [ \u001b[1mℹ️\u001b[0m ] \u001b[1m(StrategyContext) sending market sell for 0.243 of BTCUSDT ...\u001b[0m\n",
      "\u001b[32m2024-07-30 16:33:40.030\u001b[0m [ \u001b[34m\u001b[1m🐞\u001b[0m ] \u001b[34m\u001b[1m[OMS] BTCUSDT - SIM-ORDER-BTCUSDT-100005 MARKET SELL 0.243 executed at 42681.549999999996\u001b[0m\n",
      "\u001b[32m2024-07-30 16:33:40.030\u001b[0m [ \u001b[1mℹ️\u001b[0m ] \u001b[1m  ::  traded -0.243 for BTCUSDT @ 42681.549999999996 -> 78.98\u001b[0m\n",
      "\u001b[32m2024-07-30 16:33:40.030\u001b[0m [ \u001b[1mℹ️\u001b[0m ] \u001b[1mOrder SIM-ORDER-BTCUSDT-100005 MARKET SELL 0.243 of BTCUSDT -> CLOSED\u001b[0m\n",
      "\u001b[32m2024-07-30 16:33:40.030\u001b[0m [ \u001b[34m\u001b[1m🐞\u001b[0m ] \u001b[34m\u001b[1m[SIM-ORDER-BTCUSDT-100005 / StrategyForTracking_BTCUSDT_17040672005] : MARKET SELL 0.243 of BTCUSDT  -> [CLOSED]\u001b[0m\n",
      "\u001b[32m2024-07-30 16:33:40.030\u001b[0m [ \u001b[34m\u001b[1m🐞\u001b[0m ] \u001b[34m\u001b[1mExecuted -0.243 @ 42681.549999999996 of BTCUSDT for order SIM-ORDER-BTCUSDT-100005\u001b[0m\n",
      "\u001b[32m2024-07-30 16:33:40.043\u001b[0m [ \u001b[1mℹ️\u001b[0m ] \u001b[1mBTCUSDT >>> Adjusting position from 0.23600000000000002 to -0.0074536375722482826 : [SIM-ORDER-BTCUSDT-100005] MARKET SELL 0.243 of BTCUSDT  (gtc) [CLOSED]\u001b[0m\n",
      "\u001b[32m2024-07-30 16:33:40.045\u001b[0m [ \u001b[1mℹ️\u001b[0m ] \u001b[1m(StrategyContext) sending market buy for 0.241 of BTCUSDT ...\u001b[0m\n",
      "\u001b[32m2024-07-30 16:33:40.045\u001b[0m [ \u001b[34m\u001b[1m🐞\u001b[0m ] \u001b[34m\u001b[1m[OMS] BTCUSDT - SIM-ORDER-BTCUSDT-100006 MARKET BUY 0.241 executed at 42700.55\u001b[0m\n",
      "\u001b[32m2024-07-30 16:33:40.045\u001b[0m [ \u001b[1mℹ️\u001b[0m ] \u001b[1m  ::  traded 0.241 for BTCUSDT @ 42700.55 -> -0.13\u001b[0m\n",
      "\u001b[32m2024-07-30 16:33:40.060\u001b[0m [ \u001b[1mℹ️\u001b[0m ] \u001b[1mOrder SIM-ORDER-BTCUSDT-100006 MARKET BUY 0.241 of BTCUSDT -> CLOSED\u001b[0m\n",
      "\u001b[32m2024-07-30 16:33:40.061\u001b[0m [ \u001b[34m\u001b[1m🐞\u001b[0m ] \u001b[34m\u001b[1m[SIM-ORDER-BTCUSDT-100006 / StrategyForTracking_BTCUSDT_17040672006] : MARKET BUY 0.241 of BTCUSDT  -> [CLOSED]\u001b[0m\n",
      "\u001b[32m2024-07-30 16:33:40.062\u001b[0m [ \u001b[34m\u001b[1m🐞\u001b[0m ] \u001b[34m\u001b[1mExecuted 0.241 @ 42700.55 of BTCUSDT for order SIM-ORDER-BTCUSDT-100006\u001b[0m\n",
      "\u001b[32m2024-07-30 16:33:40.063\u001b[0m [ \u001b[1mℹ️\u001b[0m ] \u001b[1mBTCUSDT >>> Adjusting position from -0.0069999999999999785 to 0.2341890209845072 : [SIM-ORDER-BTCUSDT-100006] MARKET BUY 0.241 of BTCUSDT  (gtc) [CLOSED]\u001b[0m\n",
      "\u001b[32m2024-07-30 16:33:40.083\u001b[0m [ \u001b[1mℹ️\u001b[0m ] \u001b[1m(StrategyContext) sending market sell for 0.405 of BTCUSDT ...\u001b[0m\n",
      "\u001b[32m2024-07-30 16:33:40.083\u001b[0m [ \u001b[34m\u001b[1m🐞\u001b[0m ] \u001b[34m\u001b[1m[OMS] BTCUSDT - SIM-ORDER-BTCUSDT-100007 MARKET SELL 0.405 executed at 42727.45\u001b[0m\n",
      "\u001b[32m2024-07-30 16:33:40.083\u001b[0m [ \u001b[1mℹ️\u001b[0m ] \u001b[1m  ::  traded -0.405 for BTCUSDT @ 42727.45 -> 6.31\u001b[0m\n",
      "\u001b[32m2024-07-30 16:33:40.085\u001b[0m [ \u001b[1mℹ️\u001b[0m ] \u001b[1mOrder SIM-ORDER-BTCUSDT-100007 MARKET SELL 0.405 of BTCUSDT -> CLOSED\u001b[0m\n",
      "\u001b[32m2024-07-30 16:33:40.086\u001b[0m [ \u001b[34m\u001b[1m🐞\u001b[0m ] \u001b[34m\u001b[1m[SIM-ORDER-BTCUSDT-100007 / StrategyForTracking_BTCUSDT_17040672007] : MARKET SELL 0.405 of BTCUSDT  -> [CLOSED]\u001b[0m\n",
      "\u001b[32m2024-07-30 16:33:40.087\u001b[0m [ \u001b[34m\u001b[1m🐞\u001b[0m ] \u001b[34m\u001b[1mExecuted -0.405 @ 42727.45 of BTCUSDT for order SIM-ORDER-BTCUSDT-100007\u001b[0m\n",
      "\u001b[32m2024-07-30 16:33:40.087\u001b[0m [ \u001b[1mℹ️\u001b[0m ] \u001b[1mBTCUSDT >>> Adjusting position from 0.234 to -0.17166140496761115 : [SIM-ORDER-BTCUSDT-100007] MARKET SELL 0.405 of BTCUSDT  (gtc) [CLOSED]\u001b[0m\n",
      "\u001b[32m2024-07-30 16:33:40.097\u001b[0m [ \u001b[1mℹ️\u001b[0m ] \u001b[1m(StrategyContext) sending market buy for 0.404 of BTCUSDT ...\u001b[0m\n",
      "\u001b[32m2024-07-30 16:33:40.098\u001b[0m [ \u001b[34m\u001b[1m🐞\u001b[0m ] \u001b[34m\u001b[1m[OMS] BTCUSDT - SIM-ORDER-BTCUSDT-100008 MARKET BUY 0.404 executed at 42754.55\u001b[0m\n",
      "\u001b[32m2024-07-30 16:33:40.099\u001b[0m [ \u001b[1mℹ️\u001b[0m ] \u001b[1m  ::  traded 0.404 for BTCUSDT @ 42754.55 -> -4.64\u001b[0m\n",
      "\u001b[32m2024-07-30 16:33:40.100\u001b[0m [ \u001b[1mℹ️\u001b[0m ] \u001b[1mOrder SIM-ORDER-BTCUSDT-100008 MARKET BUY 0.404 of BTCUSDT -> CLOSED\u001b[0m\n",
      "\u001b[32m2024-07-30 16:33:40.100\u001b[0m [ \u001b[34m\u001b[1m🐞\u001b[0m ] \u001b[34m\u001b[1m[SIM-ORDER-BTCUSDT-100008 / StrategyForTracking_BTCUSDT_17040672008] : MARKET BUY 0.404 of BTCUSDT  -> [CLOSED]\u001b[0m\n",
      "\u001b[32m2024-07-30 16:33:40.101\u001b[0m [ \u001b[34m\u001b[1m🐞\u001b[0m ] \u001b[34m\u001b[1mExecuted 0.404 @ 42754.55 of BTCUSDT for order SIM-ORDER-BTCUSDT-100008\u001b[0m\n",
      "\u001b[32m2024-07-30 16:33:40.102\u001b[0m [ \u001b[1mℹ️\u001b[0m ] \u001b[1mBTCUSDT >>> Adjusting position from -0.171 to 0.2338932347551313 : [SIM-ORDER-BTCUSDT-100008] MARKET BUY 0.404 of BTCUSDT  (gtc) [CLOSED]\u001b[0m\n",
      "\u001b[32m2024-07-30 16:33:40.119\u001b[0m [ \u001b[1mℹ️\u001b[0m ] \u001b[1m(StrategyContext) sending market sell for 0.338 of BTCUSDT ...\u001b[0m\n",
      "\u001b[32m2024-07-30 16:33:40.121\u001b[0m [ \u001b[34m\u001b[1m🐞\u001b[0m ] \u001b[34m\u001b[1m[OMS] BTCUSDT - SIM-ORDER-BTCUSDT-100009 MARKET SELL 0.338 executed at 42711.25\u001b[0m\n",
      "\u001b[32m2024-07-30 16:33:40.122\u001b[0m [ \u001b[1mℹ️\u001b[0m ] \u001b[1m  ::  traded -0.338 for BTCUSDT @ 42711.25 -> -10.08\u001b[0m\n",
      "\u001b[32m2024-07-30 16:33:40.122\u001b[0m [ \u001b[1mℹ️\u001b[0m ] \u001b[1mOrder SIM-ORDER-BTCUSDT-100009 MARKET SELL 0.338 of BTCUSDT -> CLOSED\u001b[0m\n",
      "\u001b[32m2024-07-30 16:33:40.123\u001b[0m [ \u001b[34m\u001b[1m🐞\u001b[0m ] \u001b[34m\u001b[1m[SIM-ORDER-BTCUSDT-100009 / StrategyForTracking_BTCUSDT_17040672009] : MARKET SELL 0.338 of BTCUSDT  -> [CLOSED]\u001b[0m\n",
      "\u001b[32m2024-07-30 16:33:40.124\u001b[0m [ \u001b[34m\u001b[1m🐞\u001b[0m ] \u001b[34m\u001b[1mExecuted -0.338 @ 42711.25 of BTCUSDT for order SIM-ORDER-BTCUSDT-100009\u001b[0m\n",
      "\u001b[32m2024-07-30 16:33:40.126\u001b[0m [ \u001b[1mℹ️\u001b[0m ] \u001b[1mBTCUSDT >>> Adjusting position from 0.233 to -0.10546526686305796 : [SIM-ORDER-BTCUSDT-100009] MARKET SELL 0.338 of BTCUSDT  (gtc) [CLOSED]\u001b[0m\n",
      "\u001b[32m2024-07-30 16:33:40.149\u001b[0m [ \u001b[1mℹ️\u001b[0m ] \u001b[1m(StrategyContext) sending market buy for 0.338 of BTCUSDT ...\u001b[0m\n",
      "\u001b[32m2024-07-30 16:33:40.160\u001b[0m [ \u001b[34m\u001b[1m🐞\u001b[0m ] \u001b[34m\u001b[1m[OMS] BTCUSDT - SIM-ORDER-BTCUSDT-100010 MARKET BUY 0.338 executed at 42757.25\u001b[0m\n",
      "\u001b[32m2024-07-30 16:33:40.161\u001b[0m [ \u001b[1mℹ️\u001b[0m ] \u001b[1m  ::  traded 0.338 for BTCUSDT @ 42757.25 -> -4.84\u001b[0m\n",
      "\u001b[32m2024-07-30 16:33:40.162\u001b[0m [ \u001b[1mℹ️\u001b[0m ] \u001b[1mOrder SIM-ORDER-BTCUSDT-100010 MARKET BUY 0.338 of BTCUSDT -> CLOSED\u001b[0m\n",
      "\u001b[32m2024-07-30 16:33:40.163\u001b[0m [ \u001b[34m\u001b[1m🐞\u001b[0m ] \u001b[34m\u001b[1m[SIM-ORDER-BTCUSDT-100010 / StrategyForTracking_BTCUSDT_17040672010] : MARKET BUY 0.338 of BTCUSDT  -> [CLOSED]\u001b[0m\n",
      "\u001b[32m2024-07-30 16:33:40.164\u001b[0m [ \u001b[34m\u001b[1m🐞\u001b[0m ] \u001b[34m\u001b[1mExecuted 0.338 @ 42757.25 of BTCUSDT for order SIM-ORDER-BTCUSDT-100010\u001b[0m\n",
      "\u001b[32m2024-07-30 16:33:40.165\u001b[0m [ \u001b[1mℹ️\u001b[0m ] \u001b[1mBTCUSDT >>> Adjusting position from -0.10500000000000001 to 0.23387846505563384 : [SIM-ORDER-BTCUSDT-100010] MARKET BUY 0.338 of BTCUSDT  (gtc) [CLOSED]\u001b[0m\n",
      "\u001b[32m2024-07-30 16:33:40.179\u001b[0m [ \u001b[1mℹ️\u001b[0m ] \u001b[1m(StrategyContext) sending market sell for 0.303 of BTCUSDT ...\u001b[0m\n",
      "\u001b[32m2024-07-30 16:33:40.179\u001b[0m [ \u001b[34m\u001b[1m🐞\u001b[0m ] \u001b[34m\u001b[1m[OMS] BTCUSDT - SIM-ORDER-BTCUSDT-100011 MARKET SELL 0.303 executed at 42810.149999999994\u001b[0m\n",
      "\u001b[32m2024-07-30 16:33:40.179\u001b[0m [ \u001b[1mℹ️\u001b[0m ] \u001b[1m  ::  traded -0.303 for BTCUSDT @ 42810.149999999994 -> 12.34\u001b[0m\n",
      "\u001b[32m2024-07-30 16:33:40.179\u001b[0m [ \u001b[1mℹ️\u001b[0m ] \u001b[1mOrder SIM-ORDER-BTCUSDT-100011 MARKET SELL 0.303 of BTCUSDT -> CLOSED\u001b[0m\n",
      "\u001b[32m2024-07-30 16:33:40.193\u001b[0m [ \u001b[34m\u001b[1m🐞\u001b[0m ] \u001b[34m\u001b[1m[SIM-ORDER-BTCUSDT-100011 / StrategyForTracking_BTCUSDT_17040672011] : MARKET SELL 0.303 of BTCUSDT  -> [CLOSED]\u001b[0m\n",
      "\u001b[32m2024-07-30 16:33:40.194\u001b[0m [ \u001b[34m\u001b[1m🐞\u001b[0m ] \u001b[34m\u001b[1mExecuted -0.303 @ 42810.149999999994 of BTCUSDT for order SIM-ORDER-BTCUSDT-100011\u001b[0m\n",
      "\u001b[32m2024-07-30 16:33:40.194\u001b[0m [ \u001b[1mℹ️\u001b[0m ] \u001b[1mBTCUSDT >>> Adjusting position from 0.233 to -0.07084980761350673 : [SIM-ORDER-BTCUSDT-100011] MARKET SELL 0.303 of BTCUSDT  (gtc) [CLOSED]\u001b[0m\n",
      "\u001b[32m2024-07-30 16:33:40.212\u001b[0m [ \u001b[1mℹ️\u001b[0m ] \u001b[1m(StrategyContext) sending market buy for 0.303 of BTCUSDT ...\u001b[0m\n",
      "\u001b[32m2024-07-30 16:33:40.213\u001b[0m [ \u001b[34m\u001b[1m🐞\u001b[0m ] \u001b[34m\u001b[1m[OMS] BTCUSDT - SIM-ORDER-BTCUSDT-100012 MARKET BUY 0.303 executed at 42781.05\u001b[0m\n",
      "\u001b[32m2024-07-30 16:33:40.214\u001b[0m [ \u001b[1mℹ️\u001b[0m ] \u001b[1m  ::  traded 0.303 for BTCUSDT @ 42781.05 -> 2.03\u001b[0m\n",
      "\u001b[32m2024-07-30 16:33:40.215\u001b[0m [ \u001b[1mℹ️\u001b[0m ] \u001b[1mOrder SIM-ORDER-BTCUSDT-100012 MARKET BUY 0.303 of BTCUSDT -> CLOSED\u001b[0m\n",
      "\u001b[32m2024-07-30 16:33:40.216\u001b[0m [ \u001b[34m\u001b[1m🐞\u001b[0m ] \u001b[34m\u001b[1m[SIM-ORDER-BTCUSDT-100012 / StrategyForTracking_BTCUSDT_17040672012] : MARKET BUY 0.303 of BTCUSDT  -> [CLOSED]\u001b[0m\n",
      "\u001b[32m2024-07-30 16:33:40.217\u001b[0m [ \u001b[34m\u001b[1m🐞\u001b[0m ] \u001b[34m\u001b[1mExecuted 0.303 @ 42781.05 of BTCUSDT for order SIM-ORDER-BTCUSDT-100012\u001b[0m\n",
      "\u001b[32m2024-07-30 16:33:40.217\u001b[0m [ \u001b[1mℹ️\u001b[0m ] \u001b[1mBTCUSDT >>> Adjusting position from -0.06999999999999998 to 0.23374835353503476 : [SIM-ORDER-BTCUSDT-100012] MARKET BUY 0.303 of BTCUSDT  (gtc) [CLOSED]\u001b[0m\n",
      "\u001b[32m2024-07-30 16:33:40.217\u001b[0m [ \u001b[1mℹ️\u001b[0m ] \u001b[1m(StrategyContext) sending market sell for 0.307 of BTCUSDT ...\u001b[0m\n",
      "\u001b[32m2024-07-30 16:33:40.217\u001b[0m [ \u001b[34m\u001b[1m🐞\u001b[0m ] \u001b[34m\u001b[1m[OMS] BTCUSDT - SIM-ORDER-BTCUSDT-100013 MARKET SELL 0.307 executed at 42739.25\u001b[0m\n",
      "\u001b[32m2024-07-30 16:33:40.217\u001b[0m [ \u001b[1mℹ️\u001b[0m ] \u001b[1m  ::  traded -0.307 for BTCUSDT @ 42739.25 -> -9.73\u001b[0m\n",
      "\u001b[32m2024-07-30 16:33:40.217\u001b[0m [ \u001b[1mℹ️\u001b[0m ] \u001b[1mOrder SIM-ORDER-BTCUSDT-100013 MARKET SELL 0.307 of BTCUSDT -> CLOSED\u001b[0m\n",
      "\u001b[32m2024-07-30 16:33:40.226\u001b[0m [ \u001b[34m\u001b[1m🐞\u001b[0m ] \u001b[34m\u001b[1m[SIM-ORDER-BTCUSDT-100013 / StrategyForTracking_BTCUSDT_17040672013] : MARKET SELL 0.307 of BTCUSDT  -> [CLOSED]\u001b[0m\n",
      "\u001b[32m2024-07-30 16:33:40.233\u001b[0m [ \u001b[34m\u001b[1m🐞\u001b[0m ] \u001b[34m\u001b[1mExecuted -0.307 @ 42739.25 of BTCUSDT for order SIM-ORDER-BTCUSDT-100013\u001b[0m\n",
      "\u001b[32m2024-07-30 16:33:40.243\u001b[0m [ \u001b[1mℹ️\u001b[0m ] \u001b[1mBTCUSDT >>> Adjusting position from 0.233 to -0.0743200117701675 : [SIM-ORDER-BTCUSDT-100013] MARKET SELL 0.307 of BTCUSDT  (gtc) [CLOSED]\u001b[0m\n",
      "\u001b[32m2024-07-30 16:33:40.250\u001b[0m [ \u001b[1mℹ️\u001b[0m ] \u001b[1m(StrategyContext) sending market buy for 0.307 of BTCUSDT ...\u001b[0m\n",
      "\u001b[32m2024-07-30 16:33:40.277\u001b[0m [ \u001b[34m\u001b[1m🐞\u001b[0m ] \u001b[34m\u001b[1m[OMS] BTCUSDT - SIM-ORDER-BTCUSDT-100014 MARKET BUY 0.307 executed at 42852.65\u001b[0m\n",
      "\u001b[32m2024-07-30 16:33:40.278\u001b[0m [ \u001b[1mℹ️\u001b[0m ] \u001b[1m  ::  traded 0.307 for BTCUSDT @ 42852.65 -> -8.40\u001b[0m\n",
      "\u001b[32m2024-07-30 16:33:40.280\u001b[0m [ \u001b[1mℹ️\u001b[0m ] \u001b[1mOrder SIM-ORDER-BTCUSDT-100014 MARKET BUY 0.307 of BTCUSDT -> CLOSED\u001b[0m\n",
      "\u001b[32m2024-07-30 16:33:40.281\u001b[0m [ \u001b[34m\u001b[1m🐞\u001b[0m ] \u001b[34m\u001b[1m[SIM-ORDER-BTCUSDT-100014 / StrategyForTracking_BTCUSDT_17040672014] : MARKET BUY 0.307 of BTCUSDT  -> [CLOSED]\u001b[0m\n",
      "\u001b[32m2024-07-30 16:33:40.282\u001b[0m [ \u001b[34m\u001b[1m🐞\u001b[0m ] \u001b[34m\u001b[1mExecuted 0.307 @ 42852.65 of BTCUSDT for order SIM-ORDER-BTCUSDT-100014\u001b[0m\n",
      "\u001b[32m2024-07-30 16:33:40.282\u001b[0m [ \u001b[1mℹ️\u001b[0m ] \u001b[1mBTCUSDT >>> Adjusting position from -0.07399999999999998 to 0.2333577970090531 : [SIM-ORDER-BTCUSDT-100014] MARKET BUY 0.307 of BTCUSDT  (gtc) [CLOSED]\u001b[0m\n",
      "\u001b[32m2024-07-30 16:33:40.369\u001b[0m [ \u001b[1mℹ️\u001b[0m ] \u001b[1m(StrategyContext) sending market sell for 0.23900000000000002 of BTCUSDT ...\u001b[0m\n",
      "\u001b[32m2024-07-30 16:33:40.370\u001b[0m [ \u001b[34m\u001b[1m🐞\u001b[0m ] \u001b[34m\u001b[1m[OMS] BTCUSDT - SIM-ORDER-BTCUSDT-100015 MARKET SELL 0.23900000000000002 executed at 43666.85\u001b[0m\n",
      "\u001b[32m2024-07-30 16:33:40.372\u001b[0m [ \u001b[1mℹ️\u001b[0m ] \u001b[1m  ::  traded -0.23900000000000002 for BTCUSDT @ 43666.85 -> 189.72\u001b[0m\n",
      "\u001b[32m2024-07-30 16:33:40.372\u001b[0m [ \u001b[1mℹ️\u001b[0m ] \u001b[1mOrder SIM-ORDER-BTCUSDT-100015 MARKET SELL 0.23900000000000002 of BTCUSDT -> CLOSED\u001b[0m\n",
      "\u001b[32m2024-07-30 16:33:40.372\u001b[0m [ \u001b[34m\u001b[1m🐞\u001b[0m ] \u001b[34m\u001b[1m[SIM-ORDER-BTCUSDT-100015 / StrategyForTracking_BTCUSDT_17040672015] : MARKET SELL 0.23900000000000002 of BTCUSDT  -> [CLOSED]\u001b[0m\n",
      "\u001b[32m2024-07-30 16:33:40.374\u001b[0m [ \u001b[34m\u001b[1m🐞\u001b[0m ] \u001b[34m\u001b[1mExecuted -0.23900000000000002 @ 43666.85 of BTCUSDT for order SIM-ORDER-BTCUSDT-100015\u001b[0m\n",
      "\u001b[32m2024-07-30 16:33:40.374\u001b[0m [ \u001b[1mℹ️\u001b[0m ] \u001b[1mBTCUSDT >>> Adjusting position from 0.233 to -0.006436559796739532 : [SIM-ORDER-BTCUSDT-100015] MARKET SELL 0.23900000000000002 of BTCUSDT  (gtc) [CLOSED]\u001b[0m\n",
      "\u001b[32m2024-07-30 16:33:40.399\u001b[0m [ \u001b[1mℹ️\u001b[0m ] \u001b[1m(StrategyContext) sending market buy for 0.234 of BTCUSDT ...\u001b[0m\n",
      "\u001b[32m2024-07-30 16:33:40.399\u001b[0m [ \u001b[34m\u001b[1m🐞\u001b[0m ] \u001b[34m\u001b[1m[OMS] BTCUSDT - SIM-ORDER-BTCUSDT-100016 MARKET BUY 0.234 executed at 43713.25\u001b[0m\n",
      "\u001b[32m2024-07-30 16:33:40.399\u001b[0m [ \u001b[1mℹ️\u001b[0m ] \u001b[1m  ::  traded 0.234 for BTCUSDT @ 43713.25 -> -0.28\u001b[0m\n",
      "\u001b[32m2024-07-30 16:33:40.399\u001b[0m [ \u001b[1mℹ️\u001b[0m ] \u001b[1mOrder SIM-ORDER-BTCUSDT-100016 MARKET BUY 0.234 of BTCUSDT -> CLOSED\u001b[0m\n",
      "\u001b[32m2024-07-30 16:33:40.410\u001b[0m [ \u001b[34m\u001b[1m🐞\u001b[0m ] \u001b[34m\u001b[1m[SIM-ORDER-BTCUSDT-100016 / StrategyForTracking_BTCUSDT_17040672016] : MARKET BUY 0.234 of BTCUSDT  -> [CLOSED]\u001b[0m\n",
      "\u001b[32m2024-07-30 16:33:40.412\u001b[0m [ \u001b[34m\u001b[1m🐞\u001b[0m ] \u001b[34m\u001b[1mExecuted 0.234 @ 43713.25 of BTCUSDT for order SIM-ORDER-BTCUSDT-100016\u001b[0m\n",
      "\u001b[32m2024-07-30 16:33:40.413\u001b[0m [ \u001b[1mℹ️\u001b[0m ] \u001b[1mBTCUSDT >>> Adjusting position from -0.006000000000000005 to 0.22876358998701768 : [SIM-ORDER-BTCUSDT-100016] MARKET BUY 0.234 of BTCUSDT  (gtc) [CLOSED]\u001b[0m\n",
      "\u001b[32m2024-07-30 16:33:40.464\u001b[0m [ \u001b[1mℹ️\u001b[0m ] \u001b[1m(StrategyContext) sending market sell for 0.271 of BTCUSDT ...\u001b[0m\n",
      "\u001b[32m2024-07-30 16:33:40.465\u001b[0m [ \u001b[34m\u001b[1m🐞\u001b[0m ] \u001b[34m\u001b[1m[OMS] BTCUSDT - SIM-ORDER-BTCUSDT-100017 MARKET SELL 0.271 executed at 44761.95\u001b[0m\n",
      "\u001b[32m2024-07-30 16:33:40.466\u001b[0m [ \u001b[1mℹ️\u001b[0m ] \u001b[1m  ::  traded -0.271 for BTCUSDT @ 44761.95 -> 239.11\u001b[0m\n",
      "\u001b[32m2024-07-30 16:33:40.467\u001b[0m [ \u001b[1mℹ️\u001b[0m ] \u001b[1mOrder SIM-ORDER-BTCUSDT-100017 MARKET SELL 0.271 of BTCUSDT -> CLOSED\u001b[0m\n",
      "\u001b[32m2024-07-30 16:33:40.467\u001b[0m [ \u001b[34m\u001b[1m🐞\u001b[0m ] \u001b[34m\u001b[1m[SIM-ORDER-BTCUSDT-100017 / StrategyForTracking_BTCUSDT_17040672017] : MARKET SELL 0.271 of BTCUSDT  -> [CLOSED]\u001b[0m\n",
      "\u001b[32m2024-07-30 16:33:40.468\u001b[0m [ \u001b[34m\u001b[1m🐞\u001b[0m ] \u001b[34m\u001b[1mExecuted -0.271 @ 44761.95 of BTCUSDT for order SIM-ORDER-BTCUSDT-100017\u001b[0m\n",
      "\u001b[32m2024-07-30 16:33:40.469\u001b[0m [ \u001b[1mℹ️\u001b[0m ] \u001b[1mBTCUSDT >>> Adjusting position from 0.228 to -0.04390242890148854 : [SIM-ORDER-BTCUSDT-100017] MARKET SELL 0.271 of BTCUSDT  (gtc) [CLOSED]\u001b[0m\n",
      "\u001b[32m2024-07-30 16:33:40.477\u001b[0m [ \u001b[1mℹ️\u001b[0m ] \u001b[1m(StrategyContext) sending market buy for 0.265 of BTCUSDT ...\u001b[0m\n",
      "\u001b[32m2024-07-30 16:33:40.477\u001b[0m [ \u001b[34m\u001b[1m🐞\u001b[0m ] \u001b[34m\u001b[1m[OMS] BTCUSDT - SIM-ORDER-BTCUSDT-100018 MARKET BUY 0.265 executed at 44975.450000000004\u001b[0m\n",
      "\u001b[32m2024-07-30 16:33:40.477\u001b[0m [ \u001b[1mℹ️\u001b[0m ] \u001b[1m  ::  traded 0.265 for BTCUSDT @ 44975.450000000004 -> -9.18\u001b[0m\n",
      "\u001b[32m2024-07-30 16:33:40.477\u001b[0m [ \u001b[1mℹ️\u001b[0m ] \u001b[1mOrder SIM-ORDER-BTCUSDT-100018 MARKET BUY 0.265 of BTCUSDT -> CLOSED\u001b[0m\n",
      "\u001b[32m2024-07-30 16:33:40.477\u001b[0m [ \u001b[34m\u001b[1m🐞\u001b[0m ] \u001b[34m\u001b[1m[SIM-ORDER-BTCUSDT-100018 / StrategyForTracking_BTCUSDT_17040672018] : MARKET BUY 0.265 of BTCUSDT  -> [CLOSED]\u001b[0m\n",
      "\u001b[32m2024-07-30 16:33:40.477\u001b[0m [ \u001b[34m\u001b[1m🐞\u001b[0m ] \u001b[34m\u001b[1mExecuted 0.265 @ 44975.450000000004 of BTCUSDT for order SIM-ORDER-BTCUSDT-100018\u001b[0m\n",
      "\u001b[32m2024-07-30 16:33:40.477\u001b[0m [ \u001b[1mℹ️\u001b[0m ] \u001b[1mBTCUSDT >>> Adjusting position from -0.04300000000000001 to 0.22234352296641832 : [SIM-ORDER-BTCUSDT-100018] MARKET BUY 0.265 of BTCUSDT  (gtc) [CLOSED]\u001b[0m\n",
      "\u001b[32m2024-07-30 16:33:40.529\u001b[0m [ \u001b[1mℹ️\u001b[0m ] \u001b[1m(StrategyContext) sending market sell for 0.41200000000000003 of BTCUSDT ...\u001b[0m\n",
      "\u001b[32m2024-07-30 16:33:40.530\u001b[0m [ \u001b[34m\u001b[1m🐞\u001b[0m ] \u001b[34m\u001b[1m[OMS] BTCUSDT - SIM-ORDER-BTCUSDT-100019 MARKET SELL 0.41200000000000003 executed at 45331.649999999994\u001b[0m\n",
      "\u001b[32m2024-07-30 16:33:40.530\u001b[0m [ \u001b[1mℹ️\u001b[0m ] \u001b[1m  ::  traded -0.41200000000000003 for BTCUSDT @ 45331.649999999994 -> 79.09\u001b[0m\n",
      "\u001b[32m2024-07-30 16:33:40.531\u001b[0m [ \u001b[1mℹ️\u001b[0m ] \u001b[1mOrder SIM-ORDER-BTCUSDT-100019 MARKET SELL 0.41200000000000003 of BTCUSDT -> CLOSED\u001b[0m\n",
      "\u001b[32m2024-07-30 16:33:40.532\u001b[0m [ \u001b[34m\u001b[1m🐞\u001b[0m ] \u001b[34m\u001b[1m[SIM-ORDER-BTCUSDT-100019 / StrategyForTracking_BTCUSDT_17040672019] : MARKET SELL 0.41200000000000003 of BTCUSDT  -> [CLOSED]\u001b[0m\n",
      "\u001b[32m2024-07-30 16:33:40.532\u001b[0m [ \u001b[34m\u001b[1m🐞\u001b[0m ] \u001b[34m\u001b[1mExecuted -0.41200000000000003 @ 45331.649999999994 of BTCUSDT for order SIM-ORDER-BTCUSDT-100019\u001b[0m\n",
      "\u001b[32m2024-07-30 16:33:40.533\u001b[0m [ \u001b[1mℹ️\u001b[0m ] \u001b[1mBTCUSDT >>> Adjusting position from 0.222 to -0.1904933268048187 : [SIM-ORDER-BTCUSDT-100019] MARKET SELL 0.41200000000000003 of BTCUSDT  (gtc) [CLOSED]\u001b[0m\n",
      "\u001b[32m2024-07-30 16:33:40.544\u001b[0m [ \u001b[1mℹ️\u001b[0m ] \u001b[1m(StrategyContext) sending market buy for 0.41000000000000003 of BTCUSDT ...\u001b[0m\n",
      "\u001b[32m2024-07-30 16:33:40.544\u001b[0m [ \u001b[34m\u001b[1m🐞\u001b[0m ] \u001b[34m\u001b[1m[OMS] BTCUSDT - SIM-ORDER-BTCUSDT-100020 MARKET BUY 0.41000000000000003 executed at 45294.350000000006\u001b[0m\n",
      "\u001b[32m2024-07-30 16:33:40.544\u001b[0m [ \u001b[1mℹ️\u001b[0m ] \u001b[1m  ::  traded 0.41000000000000003 for BTCUSDT @ 45294.350000000006 -> 7.08\u001b[0m\n",
      "\u001b[32m2024-07-30 16:33:40.544\u001b[0m [ \u001b[1mℹ️\u001b[0m ] \u001b[1mOrder SIM-ORDER-BTCUSDT-100020 MARKET BUY 0.41000000000000003 of BTCUSDT -> CLOSED\u001b[0m\n",
      "\u001b[32m2024-07-30 16:33:40.544\u001b[0m [ \u001b[34m\u001b[1m🐞\u001b[0m ] \u001b[34m\u001b[1m[SIM-ORDER-BTCUSDT-100020 / StrategyForTracking_BTCUSDT_17040672020] : MARKET BUY 0.41000000000000003 of BTCUSDT  -> [CLOSED]\u001b[0m\n",
      "\u001b[32m2024-07-30 16:33:40.559\u001b[0m [ \u001b[34m\u001b[1m🐞\u001b[0m ] \u001b[34m\u001b[1mExecuted 0.41000000000000003 @ 45294.350000000006 of BTCUSDT for order SIM-ORDER-BTCUSDT-100020\u001b[0m\n",
      "\u001b[32m2024-07-30 16:33:40.560\u001b[0m [ \u001b[1mℹ️\u001b[0m ] \u001b[1mBTCUSDT >>> Adjusting position from -0.19000000000000003 to 0.22077808821630068 : [SIM-ORDER-BTCUSDT-100020] MARKET BUY 0.41000000000000003 of BTCUSDT  (gtc) [CLOSED]\u001b[0m\n",
      "\u001b[32m2024-07-30 16:33:40.563\u001b[0m [ \u001b[1mℹ️\u001b[0m ] \u001b[1m(StrategyContext) sending market sell for 0.441 of BTCUSDT ...\u001b[0m\n",
      "\u001b[32m2024-07-30 16:33:40.563\u001b[0m [ \u001b[34m\u001b[1m🐞\u001b[0m ] \u001b[34m\u001b[1m[OMS] BTCUSDT - SIM-ORDER-BTCUSDT-100021 MARKET SELL 0.441 executed at 45217.549999999996\u001b[0m\n",
      "\u001b[32m2024-07-30 16:33:40.563\u001b[0m [ \u001b[1mℹ️\u001b[0m ] \u001b[1m  ::  traded -0.441 for BTCUSDT @ 45217.549999999996 -> -16.89\u001b[0m\n",
      "\u001b[32m2024-07-30 16:33:40.563\u001b[0m [ \u001b[1mℹ️\u001b[0m ] \u001b[1mOrder SIM-ORDER-BTCUSDT-100021 MARKET SELL 0.441 of BTCUSDT -> CLOSED\u001b[0m\n",
      "\u001b[32m2024-07-30 16:33:40.563\u001b[0m [ \u001b[34m\u001b[1m🐞\u001b[0m ] \u001b[34m\u001b[1m[SIM-ORDER-BTCUSDT-100021 / StrategyForTracking_BTCUSDT_17040672021] : MARKET SELL 0.441 of BTCUSDT  -> [CLOSED]\u001b[0m\n",
      "\u001b[32m2024-07-30 16:33:40.576\u001b[0m [ \u001b[34m\u001b[1m🐞\u001b[0m ] \u001b[34m\u001b[1mExecuted -0.441 @ 45217.549999999996 of BTCUSDT for order SIM-ORDER-BTCUSDT-100021\u001b[0m\n",
      "\u001b[32m2024-07-30 16:33:40.578\u001b[0m [ \u001b[1mℹ️\u001b[0m ] \u001b[1mBTCUSDT >>> Adjusting position from 0.22 to -0.22115306999162937 : [SIM-ORDER-BTCUSDT-100021] MARKET SELL 0.441 of BTCUSDT  (gtc) [CLOSED]\u001b[0m\n",
      "\u001b[32m2024-07-30 16:33:40.582\u001b[0m [ \u001b[1mℹ️\u001b[0m ] \u001b[1m(StrategyContext) sending market buy for 0.442 of BTCUSDT ...\u001b[0m\n",
      "\u001b[32m2024-07-30 16:33:40.582\u001b[0m [ \u001b[34m\u001b[1m🐞\u001b[0m ] \u001b[34m\u001b[1m[OMS] BTCUSDT - SIM-ORDER-BTCUSDT-100022 MARKET BUY 0.442 executed at 45240.850000000006\u001b[0m\n",
      "\u001b[32m2024-07-30 16:33:40.594\u001b[0m [ \u001b[1mℹ️\u001b[0m ] \u001b[1m  ::  traded 0.442 for BTCUSDT @ 45240.850000000006 -> -5.16\u001b[0m\n",
      "\u001b[32m2024-07-30 16:33:40.594\u001b[0m [ \u001b[1mℹ️\u001b[0m ] \u001b[1mOrder SIM-ORDER-BTCUSDT-100022 MARKET BUY 0.442 of BTCUSDT -> CLOSED\u001b[0m\n",
      "\u001b[32m2024-07-30 16:33:40.595\u001b[0m [ \u001b[34m\u001b[1m🐞\u001b[0m ] \u001b[34m\u001b[1m[SIM-ORDER-BTCUSDT-100022 / StrategyForTracking_BTCUSDT_17040672022] : MARKET BUY 0.442 of BTCUSDT  -> [CLOSED]\u001b[0m\n",
      "\u001b[32m2024-07-30 16:33:40.597\u001b[0m [ \u001b[34m\u001b[1m🐞\u001b[0m ] \u001b[34m\u001b[1mExecuted 0.442 @ 45240.850000000006 of BTCUSDT for order SIM-ORDER-BTCUSDT-100022\u001b[0m\n",
      "\u001b[32m2024-07-30 16:33:40.598\u001b[0m [ \u001b[1mℹ️\u001b[0m ] \u001b[1mBTCUSDT >>> Adjusting position from -0.221 to 0.22103917145676968 : [SIM-ORDER-BTCUSDT-100022] MARKET BUY 0.442 of BTCUSDT  (gtc) [CLOSED]\u001b[0m\n",
      "\u001b[32m2024-07-30 16:33:40.598\u001b[0m [ \u001b[1mℹ️\u001b[0m ] \u001b[1m(StrategyContext) sending market sell for 0.441 of BTCUSDT ...\u001b[0m\n",
      "\u001b[32m2024-07-30 16:33:40.598\u001b[0m [ \u001b[34m\u001b[1m🐞\u001b[0m ] \u001b[34m\u001b[1m[OMS] BTCUSDT - SIM-ORDER-BTCUSDT-100023 MARKET SELL 0.441 executed at 45260.95\u001b[0m\n",
      "\u001b[32m2024-07-30 16:33:40.598\u001b[0m [ \u001b[1mℹ️\u001b[0m ] \u001b[1m  ::  traded -0.441 for BTCUSDT @ 45260.95 -> 4.45\u001b[0m\n",
      "\u001b[32m2024-07-30 16:33:40.598\u001b[0m [ \u001b[1mℹ️\u001b[0m ] \u001b[1mOrder SIM-ORDER-BTCUSDT-100023 MARKET SELL 0.441 of BTCUSDT -> CLOSED\u001b[0m\n",
      "\u001b[32m2024-07-30 16:33:40.598\u001b[0m [ \u001b[34m\u001b[1m🐞\u001b[0m ] \u001b[34m\u001b[1m[SIM-ORDER-BTCUSDT-100023 / StrategyForTracking_BTCUSDT_17040672023] : MARKET SELL 0.441 of BTCUSDT  -> [CLOSED]\u001b[0m\n",
      "\u001b[32m2024-07-30 16:33:40.598\u001b[0m [ \u001b[34m\u001b[1m🐞\u001b[0m ] \u001b[34m\u001b[1mExecuted -0.441 @ 45260.95 of BTCUSDT for order SIM-ORDER-BTCUSDT-100023\u001b[0m\n",
      "\u001b[32m2024-07-30 16:33:40.598\u001b[0m [ \u001b[1mℹ️\u001b[0m ] \u001b[1mBTCUSDT >>> Adjusting position from 0.221 to -0.22094100985507376 : [SIM-ORDER-BTCUSDT-100023] MARKET SELL 0.441 of BTCUSDT  (gtc) [CLOSED]\u001b[0m\n",
      "\u001b[32m2024-07-30 16:33:40.598\u001b[0m [ \u001b[1mℹ️\u001b[0m ] \u001b[1m(StrategyContext) sending market buy for 0.44 of BTCUSDT ...\u001b[0m\n",
      "\u001b[32m2024-07-30 16:33:40.598\u001b[0m [ \u001b[34m\u001b[1m🐞\u001b[0m ] \u001b[34m\u001b[1m[OMS] BTCUSDT - SIM-ORDER-BTCUSDT-100024 MARKET BUY 0.44 executed at 45325.850000000006\u001b[0m\n",
      "\u001b[32m2024-07-30 16:33:40.598\u001b[0m [ \u001b[1mℹ️\u001b[0m ] \u001b[1m  ::  traded 0.44 for BTCUSDT @ 45325.850000000006 -> -14.29\u001b[0m\n",
      "\u001b[32m2024-07-30 16:33:40.610\u001b[0m [ \u001b[1mℹ️\u001b[0m ] \u001b[1mOrder SIM-ORDER-BTCUSDT-100024 MARKET BUY 0.44 of BTCUSDT -> CLOSED\u001b[0m\n",
      "\u001b[32m2024-07-30 16:33:40.611\u001b[0m [ \u001b[34m\u001b[1m🐞\u001b[0m ] \u001b[34m\u001b[1m[SIM-ORDER-BTCUSDT-100024 / StrategyForTracking_BTCUSDT_17040672024] : MARKET BUY 0.44 of BTCUSDT  -> [CLOSED]\u001b[0m\n",
      "\u001b[32m2024-07-30 16:33:40.612\u001b[0m [ \u001b[34m\u001b[1m🐞\u001b[0m ] \u001b[34m\u001b[1mExecuted 0.44 @ 45325.850000000006 of BTCUSDT for order SIM-ORDER-BTCUSDT-100024\u001b[0m\n",
      "\u001b[32m2024-07-30 16:33:40.613\u001b[0m [ \u001b[1mℹ️\u001b[0m ] \u001b[1mBTCUSDT >>> Adjusting position from -0.22 to 0.22062465458452513 : [SIM-ORDER-BTCUSDT-100024] MARKET BUY 0.44 of BTCUSDT  (gtc) [CLOSED]\u001b[0m\n",
      "\u001b[32m2024-07-30 16:33:40.661\u001b[0m [ \u001b[1mℹ️\u001b[0m ] \u001b[1m(StrategyContext) sending market sell for 0.438 of BTCUSDT ...\u001b[0m\n",
      "\u001b[32m2024-07-30 16:33:40.661\u001b[0m [ \u001b[34m\u001b[1m🐞\u001b[0m ] \u001b[34m\u001b[1m[OMS] BTCUSDT - SIM-ORDER-BTCUSDT-100025 MARKET SELL 0.438 executed at 45777.85\u001b[0m\n",
      "\u001b[32m2024-07-30 16:33:40.676\u001b[0m [ \u001b[1mℹ️\u001b[0m ] \u001b[1m  ::  traded -0.438 for BTCUSDT @ 45777.85 -> 99.45\u001b[0m\n",
      "\u001b[32m2024-07-30 16:33:40.677\u001b[0m [ \u001b[1mℹ️\u001b[0m ] \u001b[1mOrder SIM-ORDER-BTCUSDT-100025 MARKET SELL 0.438 of BTCUSDT -> CLOSED\u001b[0m\n",
      "\u001b[32m2024-07-30 16:33:40.677\u001b[0m [ \u001b[34m\u001b[1m🐞\u001b[0m ] \u001b[34m\u001b[1m[SIM-ORDER-BTCUSDT-100025 / StrategyForTracking_BTCUSDT_17040672025] : MARKET SELL 0.438 of BTCUSDT  -> [CLOSED]\u001b[0m\n",
      "\u001b[32m2024-07-30 16:33:40.677\u001b[0m [ \u001b[34m\u001b[1m🐞\u001b[0m ] \u001b[34m\u001b[1mExecuted -0.438 @ 45777.85 of BTCUSDT for order SIM-ORDER-BTCUSDT-100025\u001b[0m\n",
      "\u001b[32m2024-07-30 16:33:40.677\u001b[0m [ \u001b[1mℹ️\u001b[0m ] \u001b[1mBTCUSDT >>> Adjusting position from 0.22 to -0.21844625730566203 : [SIM-ORDER-BTCUSDT-100025] MARKET SELL 0.438 of BTCUSDT  (gtc) [CLOSED]\u001b[0m\n",
      "\u001b[32m2024-07-30 16:33:40.727\u001b[0m [ \u001b[1mℹ️\u001b[0m ] \u001b[1m(StrategyContext) sending market buy for 0.437 of BTCUSDT ...\u001b[0m\n",
      "\u001b[32m2024-07-30 16:33:40.727\u001b[0m [ \u001b[34m\u001b[1m🐞\u001b[0m ] \u001b[34m\u001b[1m[OMS] BTCUSDT - SIM-ORDER-BTCUSDT-100026 MARKET BUY 0.437 executed at 45638.25\u001b[0m\n",
      "\u001b[32m2024-07-30 16:33:40.727\u001b[0m [ \u001b[1mℹ️\u001b[0m ] \u001b[1m  ::  traded 0.437 for BTCUSDT @ 45638.25 -> 30.42\u001b[0m\n",
      "\u001b[32m2024-07-30 16:33:40.727\u001b[0m [ \u001b[1mℹ️\u001b[0m ] \u001b[1mOrder SIM-ORDER-BTCUSDT-100026 MARKET BUY 0.437 of BTCUSDT -> CLOSED\u001b[0m\n",
      "\u001b[32m2024-07-30 16:33:40.727\u001b[0m [ \u001b[34m\u001b[1m🐞\u001b[0m ] \u001b[34m\u001b[1m[SIM-ORDER-BTCUSDT-100026 / StrategyForTracking_BTCUSDT_17040672026] : MARKET BUY 0.437 of BTCUSDT  -> [CLOSED]\u001b[0m\n",
      "\u001b[32m2024-07-30 16:33:40.727\u001b[0m [ \u001b[34m\u001b[1m🐞\u001b[0m ] \u001b[34m\u001b[1mExecuted 0.437 @ 45638.25 of BTCUSDT for order SIM-ORDER-BTCUSDT-100026\u001b[0m\n",
      "\u001b[32m2024-07-30 16:33:40.727\u001b[0m [ \u001b[1mℹ️\u001b[0m ] \u001b[1mBTCUSDT >>> Adjusting position from -0.218 to 0.21911444895455018 : [SIM-ORDER-BTCUSDT-100026] MARKET BUY 0.437 of BTCUSDT  (gtc) [CLOSED]\u001b[0m\n",
      "\u001b[32m2024-07-30 16:33:40.745\u001b[0m [ \u001b[1mℹ️\u001b[0m ] \u001b[1m(StrategyContext) sending market sell for 0.439 of BTCUSDT ...\u001b[0m\n",
      "\u001b[32m2024-07-30 16:33:40.745\u001b[0m [ \u001b[34m\u001b[1m🐞\u001b[0m ] \u001b[34m\u001b[1m[OMS] BTCUSDT - SIM-ORDER-BTCUSDT-100027 MARKET SELL 0.439 executed at 45355.049999999996\u001b[0m\n",
      "\u001b[32m2024-07-30 16:33:40.745\u001b[0m [ \u001b[1mℹ️\u001b[0m ] \u001b[1m  ::  traded -0.439 for BTCUSDT @ 45355.049999999996 -> -62.01\u001b[0m\n",
      "\u001b[32m2024-07-30 16:33:40.745\u001b[0m [ \u001b[1mℹ️\u001b[0m ] \u001b[1mOrder SIM-ORDER-BTCUSDT-100027 MARKET SELL 0.439 of BTCUSDT -> CLOSED\u001b[0m\n",
      "\u001b[32m2024-07-30 16:33:40.745\u001b[0m [ \u001b[34m\u001b[1m🐞\u001b[0m ] \u001b[34m\u001b[1m[SIM-ORDER-BTCUSDT-100027 / StrategyForTracking_BTCUSDT_17040672027] : MARKET SELL 0.439 of BTCUSDT  -> [CLOSED]\u001b[0m\n",
      "\u001b[32m2024-07-30 16:33:40.745\u001b[0m [ \u001b[34m\u001b[1m🐞\u001b[0m ] \u001b[34m\u001b[1mExecuted -0.439 @ 45355.049999999996 of BTCUSDT for order SIM-ORDER-BTCUSDT-100027\u001b[0m\n",
      "\u001b[32m2024-07-30 16:33:40.745\u001b[0m [ \u001b[1mℹ️\u001b[0m ] \u001b[1mBTCUSDT >>> Adjusting position from 0.219 to -0.22048261439464847 : [SIM-ORDER-BTCUSDT-100027] MARKET SELL 0.439 of BTCUSDT  (gtc) [CLOSED]\u001b[0m\n",
      "\u001b[32m2024-07-30 16:33:40.761\u001b[0m [ \u001b[1mℹ️\u001b[0m ] \u001b[1m(StrategyContext) sending market buy for 0.439 of BTCUSDT ...\u001b[0m\n",
      "\u001b[32m2024-07-30 16:33:40.762\u001b[0m [ \u001b[34m\u001b[1m🐞\u001b[0m ] \u001b[34m\u001b[1m[OMS] BTCUSDT - SIM-ORDER-BTCUSDT-100028 MARKET BUY 0.439 executed at 45566.75\u001b[0m\n",
      "\u001b[32m2024-07-30 16:33:40.764\u001b[0m [ \u001b[1mℹ️\u001b[0m ] \u001b[1m  ::  traded 0.439 for BTCUSDT @ 45566.75 -> -46.59\u001b[0m\n",
      "\u001b[32m2024-07-30 16:33:40.766\u001b[0m [ \u001b[1mℹ️\u001b[0m ] \u001b[1mOrder SIM-ORDER-BTCUSDT-100028 MARKET BUY 0.439 of BTCUSDT -> CLOSED\u001b[0m\n",
      "\u001b[32m2024-07-30 16:33:40.779\u001b[0m [ \u001b[34m\u001b[1m🐞\u001b[0m ] \u001b[34m\u001b[1m[SIM-ORDER-BTCUSDT-100028 / StrategyForTracking_BTCUSDT_17040672028] : MARKET BUY 0.439 of BTCUSDT  -> [CLOSED]\u001b[0m\n",
      "\u001b[32m2024-07-30 16:33:40.787\u001b[0m [ \u001b[34m\u001b[1m🐞\u001b[0m ] \u001b[34m\u001b[1mExecuted 0.439 @ 45566.75 of BTCUSDT for order SIM-ORDER-BTCUSDT-100028\u001b[0m\n",
      "\u001b[32m2024-07-30 16:33:40.799\u001b[0m [ \u001b[1mℹ️\u001b[0m ] \u001b[1mBTCUSDT >>> Adjusting position from -0.22 to 0.2194582672672508 : [SIM-ORDER-BTCUSDT-100028] MARKET BUY 0.439 of BTCUSDT  (gtc) [CLOSED]\u001b[0m\n",
      "\u001b[32m2024-07-30 16:33:40.852\u001b[0m [ \u001b[1mℹ️\u001b[0m ] \u001b[1m(StrategyContext) sending market sell for 0.277 of BTCUSDT ...\u001b[0m\n",
      "\u001b[32m2024-07-30 16:33:40.852\u001b[0m [ \u001b[34m\u001b[1m🐞\u001b[0m ] \u001b[34m\u001b[1m[OMS] BTCUSDT - SIM-ORDER-BTCUSDT-100029 MARKET SELL 0.277 executed at 45380.85\u001b[0m\n",
      "\u001b[32m2024-07-30 16:33:40.852\u001b[0m [ \u001b[1mℹ️\u001b[0m ] \u001b[1m  ::  traded -0.277 for BTCUSDT @ 45380.85 -> -40.70\u001b[0m\n",
      "\u001b[32m2024-07-30 16:33:40.852\u001b[0m [ \u001b[1mℹ️\u001b[0m ] \u001b[1mOrder SIM-ORDER-BTCUSDT-100029 MARKET SELL 0.277 of BTCUSDT -> CLOSED\u001b[0m\n",
      "\u001b[32m2024-07-30 16:33:40.852\u001b[0m [ \u001b[34m\u001b[1m🐞\u001b[0m ] \u001b[34m\u001b[1m[SIM-ORDER-BTCUSDT-100029 / StrategyForTracking_BTCUSDT_17040672029] : MARKET SELL 0.277 of BTCUSDT  -> [CLOSED]\u001b[0m\n",
      "\u001b[32m2024-07-30 16:33:40.852\u001b[0m [ \u001b[34m\u001b[1m🐞\u001b[0m ] \u001b[34m\u001b[1mExecuted -0.277 @ 45380.85 of BTCUSDT for order SIM-ORDER-BTCUSDT-100029\u001b[0m\n",
      "\u001b[32m2024-07-30 16:33:40.852\u001b[0m [ \u001b[1mℹ️\u001b[0m ] \u001b[1mBTCUSDT >>> Adjusting position from 0.219 to -0.05875465931637068 : [SIM-ORDER-BTCUSDT-100029] MARKET SELL 0.277 of BTCUSDT  (gtc) [CLOSED]\u001b[0m\n",
      "\u001b[32m2024-07-30 16:33:40.878\u001b[0m [ \u001b[1mℹ️\u001b[0m ] \u001b[1m(StrategyContext) sending market buy for 0.278 of BTCUSDT ...\u001b[0m\n",
      "\u001b[32m2024-07-30 16:33:40.878\u001b[0m [ \u001b[34m\u001b[1m🐞\u001b[0m ] \u001b[34m\u001b[1m[OMS] BTCUSDT - SIM-ORDER-BTCUSDT-100030 MARKET BUY 0.278 executed at 45329.55\u001b[0m\n",
      "\u001b[32m2024-07-30 16:33:40.878\u001b[0m [ \u001b[1mℹ️\u001b[0m ] \u001b[1m  ::  traded 0.278 for BTCUSDT @ 45329.55 -> 2.97\u001b[0m\n",
      "\u001b[32m2024-07-30 16:33:40.878\u001b[0m [ \u001b[1mℹ️\u001b[0m ] \u001b[1mOrder SIM-ORDER-BTCUSDT-100030 MARKET BUY 0.278 of BTCUSDT -> CLOSED\u001b[0m\n",
      "\u001b[32m2024-07-30 16:33:40.878\u001b[0m [ \u001b[34m\u001b[1m🐞\u001b[0m ] \u001b[34m\u001b[1m[SIM-ORDER-BTCUSDT-100030 / StrategyForTracking_BTCUSDT_17040672030] : MARKET BUY 0.278 of BTCUSDT  -> [CLOSED]\u001b[0m\n",
      "\u001b[32m2024-07-30 16:33:40.878\u001b[0m [ \u001b[34m\u001b[1m🐞\u001b[0m ] \u001b[34m\u001b[1mExecuted 0.278 @ 45329.55 of BTCUSDT for order SIM-ORDER-BTCUSDT-100030\u001b[0m\n",
      "\u001b[32m2024-07-30 16:33:40.878\u001b[0m [ \u001b[1mℹ️\u001b[0m ] \u001b[1mBTCUSDT >>> Adjusting position from -0.058000000000000024 to 0.22060664621643056 : [SIM-ORDER-BTCUSDT-100030] MARKET BUY 0.278 of BTCUSDT  (gtc) [CLOSED]\u001b[0m\n",
      "\u001b[32m2024-07-30 16:33:40.898\u001b[0m [ \u001b[1mℹ️\u001b[0m ] \u001b[1m(StrategyContext) sending market sell for 0.369 of BTCUSDT ...\u001b[0m\n",
      "\u001b[32m2024-07-30 16:33:40.898\u001b[0m [ \u001b[34m\u001b[1m🐞\u001b[0m ] \u001b[34m\u001b[1m[OMS] BTCUSDT - SIM-ORDER-BTCUSDT-100031 MARKET SELL 0.369 executed at 45036.95\u001b[0m\n",
      "\u001b[32m2024-07-30 16:33:40.898\u001b[0m [ \u001b[1mℹ️\u001b[0m ] \u001b[1m  ::  traded -0.369 for BTCUSDT @ 45036.95 -> -64.36\u001b[0m\n",
      "\u001b[32m2024-07-30 16:33:40.898\u001b[0m [ \u001b[1mℹ️\u001b[0m ] \u001b[1mOrder SIM-ORDER-BTCUSDT-100031 MARKET SELL 0.369 of BTCUSDT -> CLOSED\u001b[0m\n",
      "\u001b[32m2024-07-30 16:33:40.898\u001b[0m [ \u001b[34m\u001b[1m🐞\u001b[0m ] \u001b[34m\u001b[1m[SIM-ORDER-BTCUSDT-100031 / StrategyForTracking_BTCUSDT_17040672031] : MARKET SELL 0.369 of BTCUSDT  -> [CLOSED]\u001b[0m\n",
      "\u001b[32m2024-07-30 16:33:40.898\u001b[0m [ \u001b[34m\u001b[1m🐞\u001b[0m ] \u001b[34m\u001b[1mExecuted -0.369 @ 45036.95 of BTCUSDT for order SIM-ORDER-BTCUSDT-100031\u001b[0m\n",
      "\u001b[32m2024-07-30 16:33:40.898\u001b[0m [ \u001b[1mℹ️\u001b[0m ] \u001b[1mBTCUSDT >>> Adjusting position from 0.22 to -0.14958141498923705 : [SIM-ORDER-BTCUSDT-100031] MARKET SELL 0.369 of BTCUSDT  (gtc) [CLOSED]\u001b[0m\n",
      "\u001b[32m2024-07-30 16:33:40.913\u001b[0m [ \u001b[1mℹ️\u001b[0m ] \u001b[1m(StrategyContext) sending market buy for 0.369 of BTCUSDT ...\u001b[0m\n",
      "\u001b[32m2024-07-30 16:33:40.914\u001b[0m [ \u001b[34m\u001b[1m🐞\u001b[0m ] \u001b[34m\u001b[1m[OMS] BTCUSDT - SIM-ORDER-BTCUSDT-100032 MARKET BUY 0.369 executed at 45442.450000000004\u001b[0m\n",
      "\u001b[32m2024-07-30 16:33:40.915\u001b[0m [ \u001b[1mℹ️\u001b[0m ] \u001b[1m  ::  traded 0.369 for BTCUSDT @ 45442.450000000004 -> -60.43\u001b[0m\n",
      "\u001b[32m2024-07-30 16:33:40.915\u001b[0m [ \u001b[1mℹ️\u001b[0m ] \u001b[1mOrder SIM-ORDER-BTCUSDT-100032 MARKET BUY 0.369 of BTCUSDT -> CLOSED\u001b[0m\n",
      "\u001b[32m2024-07-30 16:33:40.915\u001b[0m [ \u001b[34m\u001b[1m🐞\u001b[0m ] \u001b[34m\u001b[1m[SIM-ORDER-BTCUSDT-100032 / StrategyForTracking_BTCUSDT_17040672032] : MARKET BUY 0.369 of BTCUSDT  -> [CLOSED]\u001b[0m\n",
      "\u001b[32m2024-07-30 16:33:40.915\u001b[0m [ \u001b[34m\u001b[1m🐞\u001b[0m ] \u001b[34m\u001b[1mExecuted 0.369 @ 45442.450000000004 of BTCUSDT for order SIM-ORDER-BTCUSDT-100032\u001b[0m\n",
      "\u001b[32m2024-07-30 16:33:40.915\u001b[0m [ \u001b[1mℹ️\u001b[0m ] \u001b[1mBTCUSDT >>> Adjusting position from -0.149 to 0.2200585575821726 : [SIM-ORDER-BTCUSDT-100032] MARKET BUY 0.369 of BTCUSDT  (gtc) [CLOSED]\u001b[0m\n",
      "\u001b[32m2024-07-30 16:33:40.932\u001b[0m [ \u001b[1mℹ️\u001b[0m ] \u001b[1m(StrategyContext) sending market sell for 0.277 of BTCUSDT ...\u001b[0m\n",
      "\u001b[32m2024-07-30 16:33:40.932\u001b[0m [ \u001b[34m\u001b[1m🐞\u001b[0m ] \u001b[34m\u001b[1m[OMS] BTCUSDT - SIM-ORDER-BTCUSDT-100033 MARKET SELL 0.277 executed at 45107.95\u001b[0m\n",
      "\u001b[32m2024-07-30 16:33:40.932\u001b[0m [ \u001b[1mℹ️\u001b[0m ] \u001b[1m  ::  traded -0.277 for BTCUSDT @ 45107.95 -> -73.58\u001b[0m\n",
      "\u001b[32m2024-07-30 16:33:40.932\u001b[0m [ \u001b[1mℹ️\u001b[0m ] \u001b[1mOrder SIM-ORDER-BTCUSDT-100033 MARKET SELL 0.277 of BTCUSDT -> CLOSED\u001b[0m\n",
      "\u001b[32m2024-07-30 16:33:40.932\u001b[0m [ \u001b[34m\u001b[1m🐞\u001b[0m ] \u001b[34m\u001b[1m[SIM-ORDER-BTCUSDT-100033 / StrategyForTracking_BTCUSDT_17040672033] : MARKET SELL 0.277 of BTCUSDT  -> [CLOSED]\u001b[0m\n",
      "\u001b[32m2024-07-30 16:33:40.932\u001b[0m [ \u001b[34m\u001b[1m🐞\u001b[0m ] \u001b[34m\u001b[1mExecuted -0.277 @ 45107.95 of BTCUSDT for order SIM-ORDER-BTCUSDT-100033\u001b[0m\n",
      "\u001b[32m2024-07-30 16:33:40.932\u001b[0m [ \u001b[1mℹ️\u001b[0m ] \u001b[1mBTCUSDT >>> Adjusting position from 0.22 to -0.05733138721958177 : [SIM-ORDER-BTCUSDT-100033] MARKET SELL 0.277 of BTCUSDT  (gtc) [CLOSED]\u001b[0m\n",
      "\u001b[32m2024-07-30 16:33:40.962\u001b[0m [ \u001b[1mℹ️\u001b[0m ] \u001b[1m(StrategyContext) sending market buy for 0.277 of BTCUSDT ...\u001b[0m\n",
      "\u001b[32m2024-07-30 16:33:40.963\u001b[0m [ \u001b[34m\u001b[1m🐞\u001b[0m ] \u001b[34m\u001b[1m[OMS] BTCUSDT - SIM-ORDER-BTCUSDT-100034 MARKET BUY 0.277 executed at 45267.55\u001b[0m\n",
      "\u001b[32m2024-07-30 16:33:40.964\u001b[0m [ \u001b[1mℹ️\u001b[0m ] \u001b[1m  ::  traded 0.277 for BTCUSDT @ 45267.55 -> -9.10\u001b[0m\n",
      "\u001b[32m2024-07-30 16:33:40.965\u001b[0m [ \u001b[1mℹ️\u001b[0m ] \u001b[1mOrder SIM-ORDER-BTCUSDT-100034 MARKET BUY 0.277 of BTCUSDT -> CLOSED\u001b[0m\n",
      "\u001b[32m2024-07-30 16:33:40.965\u001b[0m [ \u001b[34m\u001b[1m🐞\u001b[0m ] \u001b[34m\u001b[1m[SIM-ORDER-BTCUSDT-100034 / StrategyForTracking_BTCUSDT_17040672034] : MARKET BUY 0.277 of BTCUSDT  -> [CLOSED]\u001b[0m\n",
      "\u001b[32m2024-07-30 16:33:40.965\u001b[0m [ \u001b[34m\u001b[1m🐞\u001b[0m ] \u001b[34m\u001b[1mExecuted 0.277 @ 45267.55 of BTCUSDT for order SIM-ORDER-BTCUSDT-100034\u001b[0m\n",
      "\u001b[32m2024-07-30 16:33:40.965\u001b[0m [ \u001b[1mℹ️\u001b[0m ] \u001b[1mBTCUSDT >>> Adjusting position from -0.05700000000000002 to 0.22090879669873892 : [SIM-ORDER-BTCUSDT-100034] MARKET BUY 0.277 of BTCUSDT  (gtc) [CLOSED]\u001b[0m\n",
      "\u001b[32m2024-07-30 16:33:40.978\u001b[0m [ \u001b[1mℹ️\u001b[0m ] \u001b[1m(StrategyContext) sending market sell for 0.25 of BTCUSDT ...\u001b[0m\n",
      "\u001b[32m2024-07-30 16:33:40.978\u001b[0m [ \u001b[34m\u001b[1m🐞\u001b[0m ] \u001b[34m\u001b[1m[OMS] BTCUSDT - SIM-ORDER-BTCUSDT-100035 MARKET SELL 0.25 executed at 45000.25\u001b[0m\n",
      "\u001b[32m2024-07-30 16:33:40.978\u001b[0m [ \u001b[1mℹ️\u001b[0m ] \u001b[1m  ::  traded -0.25 for BTCUSDT @ 45000.25 -> -58.80\u001b[0m\n",
      "\u001b[32m2024-07-30 16:33:40.978\u001b[0m [ \u001b[1mℹ️\u001b[0m ] \u001b[1mOrder SIM-ORDER-BTCUSDT-100035 MARKET SELL 0.25 of BTCUSDT -> CLOSED\u001b[0m\n",
      "\u001b[32m2024-07-30 16:33:40.978\u001b[0m [ \u001b[34m\u001b[1m🐞\u001b[0m ] \u001b[34m\u001b[1m[SIM-ORDER-BTCUSDT-100035 / StrategyForTracking_BTCUSDT_17040672035] : MARKET SELL 0.25 of BTCUSDT  -> [CLOSED]\u001b[0m\n",
      "\u001b[32m2024-07-30 16:33:40.978\u001b[0m [ \u001b[34m\u001b[1m🐞\u001b[0m ] \u001b[34m\u001b[1mExecuted -0.25 @ 45000.25 of BTCUSDT for order SIM-ORDER-BTCUSDT-100035\u001b[0m\n",
      "\u001b[32m2024-07-30 16:33:40.978\u001b[0m [ \u001b[1mℹ️\u001b[0m ] \u001b[1mBTCUSDT >>> Adjusting position from 0.22 to -0.03045851863247123 : [SIM-ORDER-BTCUSDT-100035] MARKET SELL 0.25 of BTCUSDT  (gtc) [CLOSED]\u001b[0m\n",
      "\u001b[32m2024-07-30 16:33:40.998\u001b[0m [ \u001b[1mℹ️\u001b[0m ] \u001b[1m(StrategyContext) sending market buy for 0.251 of BTCUSDT ...\u001b[0m\n",
      "\u001b[32m2024-07-30 16:33:40.998\u001b[0m [ \u001b[34m\u001b[1m🐞\u001b[0m ] \u001b[34m\u001b[1m[OMS] BTCUSDT - SIM-ORDER-BTCUSDT-100036 MARKET BUY 0.251 executed at 45130.05\u001b[0m\n",
      "\u001b[32m2024-07-30 16:33:41.010\u001b[0m [ \u001b[1mℹ️\u001b[0m ] \u001b[1m  ::  traded 0.251 for BTCUSDT @ 45130.05 -> -3.90\u001b[0m\n",
      "\u001b[32m2024-07-30 16:33:41.011\u001b[0m [ \u001b[1mℹ️\u001b[0m ] \u001b[1mOrder SIM-ORDER-BTCUSDT-100036 MARKET BUY 0.251 of BTCUSDT -> CLOSED\u001b[0m\n",
      "\u001b[32m2024-07-30 16:33:41.011\u001b[0m [ \u001b[34m\u001b[1m🐞\u001b[0m ] \u001b[34m\u001b[1m[SIM-ORDER-BTCUSDT-100036 / StrategyForTracking_BTCUSDT_17040672036] : MARKET BUY 0.251 of BTCUSDT  -> [CLOSED]\u001b[0m\n",
      "\u001b[32m2024-07-30 16:33:41.012\u001b[0m [ \u001b[34m\u001b[1m🐞\u001b[0m ] \u001b[34m\u001b[1mExecuted 0.251 @ 45130.05 of BTCUSDT for order SIM-ORDER-BTCUSDT-100036\u001b[0m\n",
      "\u001b[32m2024-07-30 16:33:41.013\u001b[0m [ \u001b[1mℹ️\u001b[0m ] \u001b[1mBTCUSDT >>> Adjusting position from -0.03 to 0.221581850673775 : [SIM-ORDER-BTCUSDT-100036] MARKET BUY 0.251 of BTCUSDT  (gtc) [CLOSED]\u001b[0m\n",
      "\u001b[32m2024-07-30 16:33:41.016\u001b[0m [ \u001b[1mℹ️\u001b[0m ] \u001b[1m(StrategyContext) sending market sell for 0.233 of BTCUSDT ...\u001b[0m\n",
      "\u001b[32m2024-07-30 16:33:41.016\u001b[0m [ \u001b[34m\u001b[1m🐞\u001b[0m ] \u001b[34m\u001b[1m[OMS] BTCUSDT - SIM-ORDER-BTCUSDT-100037 MARKET SELL 0.233 executed at 44884.35\u001b[0m\n",
      "\u001b[32m2024-07-30 16:33:41.016\u001b[0m [ \u001b[1mℹ️\u001b[0m ] \u001b[1m  ::  traded -0.233 for BTCUSDT @ 44884.35 -> -54.29\u001b[0m\n",
      "\u001b[32m2024-07-30 16:33:41.016\u001b[0m [ \u001b[1mℹ️\u001b[0m ] \u001b[1mOrder SIM-ORDER-BTCUSDT-100037 MARKET SELL 0.233 of BTCUSDT -> CLOSED\u001b[0m\n",
      "\u001b[32m2024-07-30 16:33:41.016\u001b[0m [ \u001b[34m\u001b[1m🐞\u001b[0m ] \u001b[34m\u001b[1m[SIM-ORDER-BTCUSDT-100037 / StrategyForTracking_BTCUSDT_17040672037] : MARKET SELL 0.233 of BTCUSDT  -> [CLOSED]\u001b[0m\n",
      "\u001b[32m2024-07-30 16:33:41.026\u001b[0m [ \u001b[34m\u001b[1m🐞\u001b[0m ] \u001b[34m\u001b[1mExecuted -0.233 @ 44884.35 of BTCUSDT for order SIM-ORDER-BTCUSDT-100037\u001b[0m\n",
      "\u001b[32m2024-07-30 16:33:41.027\u001b[0m [ \u001b[1mℹ️\u001b[0m ] \u001b[1mBTCUSDT >>> Adjusting position from 0.221 to -0.012847986841623076 : [SIM-ORDER-BTCUSDT-100037] MARKET SELL 0.233 of BTCUSDT  (gtc) [CLOSED]\u001b[0m\n",
      "\u001b[32m2024-07-30 16:33:41.070\u001b[0m [ \u001b[1mℹ️\u001b[0m ] \u001b[1m(StrategyContext) sending market buy for 0.234 of BTCUSDT ...\u001b[0m\n",
      "\u001b[32m2024-07-30 16:33:41.071\u001b[0m [ \u001b[34m\u001b[1m🐞\u001b[0m ] \u001b[34m\u001b[1m[OMS] BTCUSDT - SIM-ORDER-BTCUSDT-100038 MARKET BUY 0.234 executed at 44974.05\u001b[0m\n",
      "\u001b[32m2024-07-30 16:33:41.071\u001b[0m [ \u001b[1mℹ️\u001b[0m ] \u001b[1m  ::  traded 0.234 for BTCUSDT @ 44974.05 -> -1.08\u001b[0m\n",
      "\u001b[32m2024-07-30 16:33:41.072\u001b[0m [ \u001b[1mℹ️\u001b[0m ] \u001b[1mOrder SIM-ORDER-BTCUSDT-100038 MARKET BUY 0.234 of BTCUSDT -> CLOSED\u001b[0m\n",
      "\u001b[32m2024-07-30 16:33:41.072\u001b[0m [ \u001b[34m\u001b[1m🐞\u001b[0m ] \u001b[34m\u001b[1m[SIM-ORDER-BTCUSDT-100038 / StrategyForTracking_BTCUSDT_17040672038] : MARKET BUY 0.234 of BTCUSDT  -> [CLOSED]\u001b[0m\n",
      "\u001b[32m2024-07-30 16:33:41.073\u001b[0m [ \u001b[34m\u001b[1m🐞\u001b[0m ] \u001b[34m\u001b[1mExecuted 0.234 @ 44974.05 of BTCUSDT for order SIM-ORDER-BTCUSDT-100038\u001b[0m\n",
      "\u001b[32m2024-07-30 16:33:41.074\u001b[0m [ \u001b[1mℹ️\u001b[0m ] \u001b[1mBTCUSDT >>> Adjusting position from -0.01200000000000001 to 0.22235044431177534 : [SIM-ORDER-BTCUSDT-100038] MARKET BUY 0.234 of BTCUSDT  (gtc) [CLOSED]\u001b[0m\n",
      "\u001b[32m2024-07-30 16:33:41.098\u001b[0m [ \u001b[1mℹ️\u001b[0m ] \u001b[1m(StrategyContext) sending market sell for 0.192 of BTCUSDT ...\u001b[0m\n",
      "\u001b[32m2024-07-30 16:33:41.099\u001b[0m [ \u001b[34m\u001b[1m🐞\u001b[0m ] \u001b[34m\u001b[1m[OMS] BTCUSDT - SIM-ORDER-BTCUSDT-100039 MARKET SELL 0.192 executed at 44956.549999999996\u001b[0m\n",
      "\u001b[32m2024-07-30 16:33:41.099\u001b[0m [ \u001b[1mℹ️\u001b[0m ] \u001b[1m  ::  traded -0.192 for BTCUSDT @ 44956.549999999996 -> -3.35\u001b[0m\n",
      "\u001b[32m2024-07-30 16:33:41.099\u001b[0m [ \u001b[1mℹ️\u001b[0m ] \u001b[1mOrder SIM-ORDER-BTCUSDT-100039 MARKET SELL 0.192 of BTCUSDT -> CLOSED\u001b[0m\n",
      "\u001b[32m2024-07-30 16:33:41.101\u001b[0m [ \u001b[34m\u001b[1m🐞\u001b[0m ] \u001b[34m\u001b[1m[SIM-ORDER-BTCUSDT-100039 / StrategyForTracking_BTCUSDT_17040672039] : MARKET SELL 0.192 of BTCUSDT  -> [CLOSED]\u001b[0m\n",
      "\u001b[32m2024-07-30 16:33:41.102\u001b[0m [ \u001b[34m\u001b[1m🐞\u001b[0m ] \u001b[34m\u001b[1mExecuted -0.192 @ 44956.549999999996 of BTCUSDT for order SIM-ORDER-BTCUSDT-100039\u001b[0m\n",
      "\u001b[32m2024-07-30 16:33:41.102\u001b[0m [ \u001b[1mℹ️\u001b[0m ] \u001b[1mBTCUSDT >>> Adjusting position from 0.222 to 0.02928879924080196 : [SIM-ORDER-BTCUSDT-100039] MARKET SELL 0.192 of BTCUSDT  (gtc) [CLOSED]\u001b[0m\n"
     ]
    }
   ],
   "source": [
    "r = CsvStorageDataReader(\"../tests/data/csv\")\n",
    "\n",
    "QubxLogConfig.set_log_level(\"DEBUG\")\n",
    "\n",
    "rep = simulate({\n",
    "    \n",
    "        \"As Strategy\": StrategyForTracking(\n",
    "            timeframe=\"5Min\", fast_period=5, slow_period=15),\n",
    "    },\n",
    "    r, 10000, [\"BINANCE.UM:BTCUSDT\"], \n",
    "    dict(type=\"ohlc\", timeframe=\"1Min\", nback=0),\n",
    "    \"5Min -1Sec\",\n",
    "    \"vip0_usdt\", \n",
    "    \"2024-01-01\", \"2024-01-03\", \n",
    ")"
   ]
  },
  {
   "cell_type": "code",
   "execution_count": 58,
   "metadata": {},
   "outputs": [
    {
     "data": {
      "application/vnd.plotly.v1+json": {
       "config": {
        "plotlyServerURL": "https://plot.ly"
       },
       "data": [
        {
         "fill": "tozeroy",
         "line": {
          "color": "green",
          "width": 1
         },
         "mode": "lines",
         "name": "Returns",
         "type": "scatter",
         "uid": "981007c7-a5e1-428c-b8a8-44244cf9c551",
         "x": [
          "2024-01-01T00:00:00",
          "2024-01-01T00:05:00",
          "2024-01-01T00:10:00",
          "2024-01-01T00:15:00",
          "2024-01-01T00:20:00",
          "2024-01-01T00:25:00",
          "2024-01-01T00:30:00",
          "2024-01-01T00:35:00",
          "2024-01-01T00:40:00",
          "2024-01-01T00:45:00",
          "2024-01-01T00:50:00",
          "2024-01-01T00:55:00",
          "2024-01-01T01:00:00",
          "2024-01-01T01:05:00",
          "2024-01-01T01:10:00",
          "2024-01-01T01:15:00",
          "2024-01-01T01:20:00",
          "2024-01-01T01:25:00",
          "2024-01-01T01:30:00",
          "2024-01-01T01:35:00",
          "2024-01-01T01:40:00",
          "2024-01-01T01:45:00",
          "2024-01-01T01:50:00",
          "2024-01-01T01:55:00",
          "2024-01-01T02:00:00",
          "2024-01-01T02:05:00",
          "2024-01-01T02:10:00",
          "2024-01-01T02:15:00",
          "2024-01-01T02:20:00",
          "2024-01-01T02:25:00",
          "2024-01-01T02:30:00",
          "2024-01-01T02:35:00",
          "2024-01-01T02:40:00",
          "2024-01-01T02:45:00",
          "2024-01-01T02:50:00",
          "2024-01-01T02:55:00",
          "2024-01-01T03:00:00",
          "2024-01-01T03:05:00",
          "2024-01-01T03:10:00",
          "2024-01-01T03:15:00",
          "2024-01-01T03:20:00",
          "2024-01-01T03:25:00",
          "2024-01-01T03:30:00",
          "2024-01-01T03:35:00",
          "2024-01-01T03:40:00",
          "2024-01-01T03:45:00",
          "2024-01-01T03:50:00",
          "2024-01-01T03:55:00",
          "2024-01-01T04:00:00",
          "2024-01-01T04:05:00",
          "2024-01-01T04:10:00",
          "2024-01-01T04:15:00",
          "2024-01-01T04:20:00",
          "2024-01-01T04:25:00",
          "2024-01-01T04:30:00",
          "2024-01-01T04:35:00",
          "2024-01-01T04:40:00",
          "2024-01-01T04:45:00",
          "2024-01-01T04:50:00",
          "2024-01-01T04:55:00",
          "2024-01-01T05:00:00",
          "2024-01-01T05:05:00",
          "2024-01-01T05:10:00",
          "2024-01-01T05:15:00",
          "2024-01-01T05:20:00",
          "2024-01-01T05:25:00",
          "2024-01-01T05:30:00",
          "2024-01-01T05:35:00",
          "2024-01-01T05:40:00",
          "2024-01-01T05:45:00",
          "2024-01-01T05:50:00",
          "2024-01-01T05:55:00",
          "2024-01-01T06:00:00",
          "2024-01-01T06:05:00",
          "2024-01-01T06:10:00",
          "2024-01-01T06:15:00",
          "2024-01-01T06:20:00",
          "2024-01-01T06:25:00",
          "2024-01-01T06:30:00",
          "2024-01-01T06:35:00",
          "2024-01-01T06:40:00",
          "2024-01-01T06:45:00",
          "2024-01-01T06:50:00",
          "2024-01-01T06:55:00",
          "2024-01-01T07:00:00",
          "2024-01-01T07:05:00",
          "2024-01-01T07:10:00",
          "2024-01-01T07:15:00",
          "2024-01-01T07:20:00",
          "2024-01-01T07:25:00",
          "2024-01-01T07:30:00",
          "2024-01-01T07:35:00",
          "2024-01-01T07:40:00",
          "2024-01-01T07:45:00",
          "2024-01-01T07:50:00",
          "2024-01-01T07:55:00",
          "2024-01-01T08:00:00",
          "2024-01-01T08:05:00",
          "2024-01-01T08:10:00",
          "2024-01-01T08:15:00",
          "2024-01-01T08:20:00",
          "2024-01-01T08:25:00",
          "2024-01-01T08:30:00",
          "2024-01-01T08:35:00",
          "2024-01-01T08:40:00",
          "2024-01-01T08:45:00",
          "2024-01-01T08:50:00",
          "2024-01-01T08:55:00",
          "2024-01-01T09:00:00",
          "2024-01-01T09:05:00",
          "2024-01-01T09:10:00",
          "2024-01-01T09:15:00",
          "2024-01-01T09:20:00",
          "2024-01-01T09:25:00",
          "2024-01-01T09:30:00",
          "2024-01-01T09:35:00",
          "2024-01-01T09:40:00",
          "2024-01-01T09:45:00",
          "2024-01-01T09:50:00",
          "2024-01-01T09:55:00",
          "2024-01-01T10:00:00",
          "2024-01-01T10:05:00",
          "2024-01-01T10:10:00",
          "2024-01-01T10:15:00",
          "2024-01-01T10:20:00",
          "2024-01-01T10:25:00",
          "2024-01-01T10:30:00",
          "2024-01-01T10:35:00",
          "2024-01-01T10:40:00",
          "2024-01-01T10:45:00",
          "2024-01-01T10:50:00",
          "2024-01-01T10:55:00",
          "2024-01-01T11:00:00",
          "2024-01-01T11:05:00",
          "2024-01-01T11:10:00",
          "2024-01-01T11:15:00",
          "2024-01-01T11:20:00",
          "2024-01-01T11:25:00",
          "2024-01-01T11:30:00",
          "2024-01-01T11:35:00",
          "2024-01-01T11:40:00",
          "2024-01-01T11:45:00",
          "2024-01-01T11:50:00",
          "2024-01-01T11:55:00",
          "2024-01-01T12:00:00",
          "2024-01-01T12:05:00",
          "2024-01-01T12:10:00",
          "2024-01-01T12:15:00",
          "2024-01-01T12:20:00",
          "2024-01-01T12:25:00",
          "2024-01-01T12:30:00",
          "2024-01-01T12:35:00",
          "2024-01-01T12:40:00",
          "2024-01-01T12:45:00",
          "2024-01-01T12:50:00",
          "2024-01-01T12:55:00",
          "2024-01-01T13:00:00",
          "2024-01-01T13:05:00",
          "2024-01-01T13:10:00",
          "2024-01-01T13:15:00",
          "2024-01-01T13:20:00",
          "2024-01-01T13:25:00",
          "2024-01-01T13:30:00",
          "2024-01-01T13:35:00",
          "2024-01-01T13:40:00",
          "2024-01-01T13:45:00",
          "2024-01-01T13:50:00",
          "2024-01-01T13:55:00",
          "2024-01-01T14:00:00",
          "2024-01-01T14:05:00",
          "2024-01-01T14:10:00",
          "2024-01-01T14:15:00",
          "2024-01-01T14:20:00",
          "2024-01-01T14:25:00",
          "2024-01-01T14:30:00",
          "2024-01-01T14:35:00",
          "2024-01-01T14:40:00",
          "2024-01-01T14:45:00",
          "2024-01-01T14:50:00",
          "2024-01-01T14:55:00",
          "2024-01-01T15:00:00",
          "2024-01-01T15:05:00",
          "2024-01-01T15:10:00",
          "2024-01-01T15:15:00",
          "2024-01-01T15:20:00",
          "2024-01-01T15:25:00",
          "2024-01-01T15:30:00",
          "2024-01-01T15:35:00",
          "2024-01-01T15:40:00",
          "2024-01-01T15:45:00",
          "2024-01-01T15:50:00",
          "2024-01-01T15:55:00",
          "2024-01-01T16:00:00",
          "2024-01-01T16:05:00",
          "2024-01-01T16:10:00",
          "2024-01-01T16:15:00",
          "2024-01-01T16:20:00",
          "2024-01-01T16:25:00",
          "2024-01-01T16:30:00",
          "2024-01-01T16:35:00",
          "2024-01-01T16:40:00",
          "2024-01-01T16:45:00",
          "2024-01-01T16:50:00",
          "2024-01-01T16:55:00",
          "2024-01-01T17:00:00",
          "2024-01-01T17:05:00",
          "2024-01-01T17:10:00",
          "2024-01-01T17:15:00",
          "2024-01-01T17:20:00",
          "2024-01-01T17:25:00",
          "2024-01-01T17:30:00",
          "2024-01-01T17:35:00",
          "2024-01-01T17:40:00",
          "2024-01-01T17:45:00",
          "2024-01-01T17:50:00",
          "2024-01-01T17:55:00",
          "2024-01-01T18:00:00",
          "2024-01-01T18:05:00",
          "2024-01-01T18:10:00",
          "2024-01-01T18:15:00",
          "2024-01-01T18:20:00",
          "2024-01-01T18:25:00",
          "2024-01-01T18:30:00",
          "2024-01-01T18:35:00",
          "2024-01-01T18:40:00",
          "2024-01-01T18:45:00",
          "2024-01-01T18:50:00",
          "2024-01-01T18:55:00",
          "2024-01-01T19:00:00",
          "2024-01-01T19:05:00",
          "2024-01-01T19:10:00",
          "2024-01-01T19:15:00",
          "2024-01-01T19:20:00",
          "2024-01-01T19:25:00",
          "2024-01-01T19:30:00",
          "2024-01-01T19:35:00",
          "2024-01-01T19:40:00",
          "2024-01-01T19:45:00",
          "2024-01-01T19:50:00",
          "2024-01-01T19:55:00",
          "2024-01-01T20:00:00",
          "2024-01-01T20:05:00",
          "2024-01-01T20:10:00",
          "2024-01-01T20:15:00",
          "2024-01-01T20:20:00",
          "2024-01-01T20:25:00",
          "2024-01-01T20:30:00",
          "2024-01-01T20:35:00",
          "2024-01-01T20:40:00",
          "2024-01-01T20:45:00",
          "2024-01-01T20:50:00",
          "2024-01-01T20:55:00",
          "2024-01-01T21:00:00",
          "2024-01-01T21:05:00",
          "2024-01-01T21:10:00",
          "2024-01-01T21:15:00",
          "2024-01-01T21:20:00",
          "2024-01-01T21:25:00",
          "2024-01-01T21:30:00",
          "2024-01-01T21:35:00",
          "2024-01-01T21:40:00",
          "2024-01-01T21:45:00",
          "2024-01-01T21:50:00",
          "2024-01-01T21:55:00",
          "2024-01-01T22:00:00",
          "2024-01-01T22:05:00",
          "2024-01-01T22:10:00",
          "2024-01-01T22:15:00",
          "2024-01-01T22:20:00",
          "2024-01-01T22:25:00",
          "2024-01-01T22:30:00",
          "2024-01-01T22:35:00",
          "2024-01-01T22:40:00",
          "2024-01-01T22:45:00",
          "2024-01-01T22:50:00",
          "2024-01-01T22:55:00",
          "2024-01-01T23:00:00",
          "2024-01-01T23:05:00",
          "2024-01-01T23:10:00",
          "2024-01-01T23:15:00",
          "2024-01-01T23:20:00",
          "2024-01-01T23:25:00",
          "2024-01-01T23:30:00",
          "2024-01-01T23:35:00",
          "2024-01-01T23:40:00",
          "2024-01-01T23:45:00",
          "2024-01-01T23:50:00",
          "2024-01-01T23:55:00",
          "2024-01-02T00:00:00",
          "2024-01-02T00:05:00",
          "2024-01-02T00:10:00",
          "2024-01-02T00:15:00",
          "2024-01-02T00:20:00",
          "2024-01-02T00:25:00",
          "2024-01-02T00:30:00",
          "2024-01-02T00:35:00",
          "2024-01-02T00:40:00",
          "2024-01-02T00:45:00",
          "2024-01-02T00:50:00",
          "2024-01-02T00:55:00",
          "2024-01-02T01:00:00",
          "2024-01-02T01:05:00",
          "2024-01-02T01:10:00",
          "2024-01-02T01:15:00",
          "2024-01-02T01:20:00",
          "2024-01-02T01:25:00",
          "2024-01-02T01:30:00",
          "2024-01-02T01:35:00",
          "2024-01-02T01:40:00",
          "2024-01-02T01:45:00",
          "2024-01-02T01:50:00",
          "2024-01-02T01:55:00",
          "2024-01-02T02:00:00",
          "2024-01-02T02:05:00",
          "2024-01-02T02:10:00",
          "2024-01-02T02:15:00",
          "2024-01-02T02:20:00",
          "2024-01-02T02:25:00",
          "2024-01-02T02:30:00",
          "2024-01-02T02:35:00",
          "2024-01-02T02:40:00",
          "2024-01-02T02:45:00",
          "2024-01-02T02:50:00",
          "2024-01-02T02:55:00",
          "2024-01-02T03:00:00",
          "2024-01-02T03:05:00",
          "2024-01-02T03:10:00",
          "2024-01-02T03:15:00",
          "2024-01-02T03:20:00",
          "2024-01-02T03:25:00",
          "2024-01-02T03:30:00",
          "2024-01-02T03:35:00",
          "2024-01-02T03:40:00",
          "2024-01-02T03:45:00",
          "2024-01-02T03:50:00",
          "2024-01-02T03:55:00",
          "2024-01-02T04:00:00",
          "2024-01-02T04:05:00",
          "2024-01-02T04:10:00",
          "2024-01-02T04:15:00",
          "2024-01-02T04:20:00",
          "2024-01-02T04:25:00",
          "2024-01-02T04:30:00",
          "2024-01-02T04:35:00",
          "2024-01-02T04:40:00",
          "2024-01-02T04:45:00",
          "2024-01-02T04:50:00",
          "2024-01-02T04:55:00",
          "2024-01-02T05:00:00",
          "2024-01-02T05:05:00",
          "2024-01-02T05:10:00",
          "2024-01-02T05:15:00",
          "2024-01-02T05:20:00",
          "2024-01-02T05:25:00",
          "2024-01-02T05:30:00",
          "2024-01-02T05:35:00",
          "2024-01-02T05:40:00",
          "2024-01-02T05:45:00",
          "2024-01-02T05:50:00",
          "2024-01-02T05:55:00",
          "2024-01-02T06:00:00",
          "2024-01-02T06:05:00",
          "2024-01-02T06:10:00",
          "2024-01-02T06:15:00",
          "2024-01-02T06:20:00",
          "2024-01-02T06:25:00",
          "2024-01-02T06:30:00",
          "2024-01-02T06:35:00",
          "2024-01-02T06:40:00",
          "2024-01-02T06:45:00",
          "2024-01-02T06:50:00",
          "2024-01-02T06:55:00",
          "2024-01-02T07:00:00",
          "2024-01-02T07:05:00",
          "2024-01-02T07:10:00",
          "2024-01-02T07:15:00",
          "2024-01-02T07:20:00",
          "2024-01-02T07:25:00",
          "2024-01-02T07:30:00",
          "2024-01-02T07:35:00",
          "2024-01-02T07:40:00",
          "2024-01-02T07:45:00",
          "2024-01-02T07:50:00",
          "2024-01-02T07:55:00",
          "2024-01-02T08:00:00",
          "2024-01-02T08:05:00",
          "2024-01-02T08:10:00",
          "2024-01-02T08:15:00",
          "2024-01-02T08:20:00",
          "2024-01-02T08:25:00",
          "2024-01-02T08:30:00",
          "2024-01-02T08:35:00",
          "2024-01-02T08:40:00",
          "2024-01-02T08:45:00",
          "2024-01-02T08:50:00",
          "2024-01-02T08:55:00",
          "2024-01-02T09:00:00",
          "2024-01-02T09:05:00",
          "2024-01-02T09:10:00",
          "2024-01-02T09:15:00",
          "2024-01-02T09:20:00",
          "2024-01-02T09:25:00",
          "2024-01-02T09:30:00",
          "2024-01-02T09:35:00",
          "2024-01-02T09:40:00",
          "2024-01-02T09:45:00",
          "2024-01-02T09:50:00",
          "2024-01-02T09:55:00",
          "2024-01-02T10:00:00",
          "2024-01-02T10:05:00",
          "2024-01-02T10:10:00",
          "2024-01-02T10:15:00",
          "2024-01-02T10:20:00",
          "2024-01-02T10:25:00",
          "2024-01-02T10:30:00",
          "2024-01-02T10:35:00",
          "2024-01-02T10:40:00",
          "2024-01-02T10:45:00",
          "2024-01-02T10:50:00",
          "2024-01-02T10:55:00",
          "2024-01-02T11:00:00",
          "2024-01-02T11:05:00",
          "2024-01-02T11:10:00",
          "2024-01-02T11:15:00",
          "2024-01-02T11:20:00",
          "2024-01-02T11:25:00",
          "2024-01-02T11:30:00",
          "2024-01-02T11:35:00",
          "2024-01-02T11:40:00",
          "2024-01-02T11:45:00",
          "2024-01-02T11:50:00",
          "2024-01-02T11:55:00",
          "2024-01-02T12:00:00",
          "2024-01-02T12:05:00",
          "2024-01-02T12:10:00",
          "2024-01-02T12:15:00",
          "2024-01-02T12:20:00",
          "2024-01-02T12:25:00",
          "2024-01-02T12:30:00",
          "2024-01-02T12:35:00",
          "2024-01-02T12:40:00",
          "2024-01-02T12:45:00",
          "2024-01-02T12:50:00",
          "2024-01-02T12:55:00",
          "2024-01-02T13:00:00",
          "2024-01-02T13:05:00",
          "2024-01-02T13:10:00",
          "2024-01-02T13:15:00",
          "2024-01-02T13:20:00",
          "2024-01-02T13:25:00",
          "2024-01-02T13:30:00",
          "2024-01-02T13:35:00",
          "2024-01-02T13:40:00",
          "2024-01-02T13:45:00",
          "2024-01-02T13:50:00",
          "2024-01-02T13:55:00",
          "2024-01-02T14:00:00",
          "2024-01-02T14:05:00",
          "2024-01-02T14:10:00",
          "2024-01-02T14:15:00",
          "2024-01-02T14:20:00",
          "2024-01-02T14:25:00",
          "2024-01-02T14:30:00",
          "2024-01-02T14:35:00",
          "2024-01-02T14:40:00",
          "2024-01-02T14:45:00",
          "2024-01-02T14:50:00",
          "2024-01-02T14:55:00",
          "2024-01-02T15:00:00",
          "2024-01-02T15:05:00",
          "2024-01-02T15:10:00",
          "2024-01-02T15:15:00",
          "2024-01-02T15:20:00",
          "2024-01-02T15:25:00",
          "2024-01-02T15:30:00",
          "2024-01-02T15:35:00",
          "2024-01-02T15:40:00",
          "2024-01-02T15:45:00",
          "2024-01-02T15:50:00",
          "2024-01-02T15:55:00",
          "2024-01-02T16:00:00",
          "2024-01-02T16:05:00",
          "2024-01-02T16:10:00",
          "2024-01-02T16:15:00",
          "2024-01-02T16:20:00",
          "2024-01-02T16:25:00",
          "2024-01-02T16:30:00",
          "2024-01-02T16:35:00",
          "2024-01-02T16:40:00",
          "2024-01-02T16:45:00",
          "2024-01-02T16:50:00",
          "2024-01-02T16:55:00",
          "2024-01-02T17:00:00",
          "2024-01-02T17:05:00",
          "2024-01-02T17:10:00",
          "2024-01-02T17:15:00",
          "2024-01-02T17:20:00",
          "2024-01-02T17:25:00",
          "2024-01-02T17:30:00",
          "2024-01-02T17:35:00",
          "2024-01-02T17:40:00",
          "2024-01-02T17:45:00",
          "2024-01-02T17:50:00",
          "2024-01-02T17:55:00",
          "2024-01-02T18:00:00",
          "2024-01-02T18:05:00",
          "2024-01-02T18:10:00",
          "2024-01-02T18:15:00",
          "2024-01-02T18:20:00",
          "2024-01-02T18:25:00",
          "2024-01-02T18:30:00",
          "2024-01-02T18:35:00",
          "2024-01-02T18:40:00",
          "2024-01-02T18:45:00",
          "2024-01-02T18:50:00",
          "2024-01-02T18:55:00",
          "2024-01-02T19:00:00",
          "2024-01-02T19:05:00",
          "2024-01-02T19:10:00",
          "2024-01-02T19:15:00",
          "2024-01-02T19:20:00",
          "2024-01-02T19:25:00",
          "2024-01-02T19:30:00",
          "2024-01-02T19:35:00",
          "2024-01-02T19:40:00",
          "2024-01-02T19:45:00",
          "2024-01-02T19:50:00",
          "2024-01-02T19:55:00",
          "2024-01-02T20:00:00",
          "2024-01-02T20:05:00",
          "2024-01-02T20:10:00",
          "2024-01-02T20:15:00",
          "2024-01-02T20:20:00",
          "2024-01-02T20:25:00",
          "2024-01-02T20:30:00",
          "2024-01-02T20:35:00",
          "2024-01-02T20:40:00",
          "2024-01-02T20:45:00",
          "2024-01-02T20:50:00",
          "2024-01-02T20:55:00",
          "2024-01-02T21:00:00",
          "2024-01-02T21:05:00",
          "2024-01-02T21:10:00",
          "2024-01-02T21:15:00",
          "2024-01-02T21:20:00",
          "2024-01-02T21:25:00",
          "2024-01-02T21:30:00",
          "2024-01-02T21:35:00",
          "2024-01-02T21:40:00",
          "2024-01-02T21:45:00",
          "2024-01-02T21:50:00",
          "2024-01-02T21:55:00",
          "2024-01-02T22:00:00",
          "2024-01-02T22:05:00",
          "2024-01-02T22:10:00",
          "2024-01-02T22:15:00",
          "2024-01-02T22:20:00",
          "2024-01-02T22:25:00",
          "2024-01-02T22:30:00",
          "2024-01-02T22:35:00",
          "2024-01-02T22:40:00",
          "2024-01-02T22:45:00",
          "2024-01-02T22:50:00",
          "2024-01-02T22:55:00",
          "2024-01-02T23:00:00",
          "2024-01-02T23:05:00",
          "2024-01-02T23:10:00",
          "2024-01-02T23:15:00",
          "2024-01-02T23:20:00",
          "2024-01-02T23:25:00",
          "2024-01-02T23:30:00",
          "2024-01-02T23:35:00",
          "2024-01-02T23:40:00",
          "2024-01-02T23:45:00",
          "2024-01-02T23:50:00",
          "2024-01-02T23:55:00",
          "2024-01-03T00:00:00"
         ],
         "xaxis": "x",
         "y": [
          0,
          0,
          0,
          0,
          0,
          0,
          0,
          0,
          0,
          0,
          0,
          0,
          0,
          0,
          0,
          0,
          0,
          0,
          0,
          0,
          0,
          0,
          0,
          0,
          0,
          0,
          0,
          0,
          -0.050281744499991454,
          -0.07321374450001139,
          -0.049345744499995625,
          -0.20659374450000545,
          -0.13054374449998907,
          -0.05074974449997827,
          0.020620255500025664,
          -0.12094974449998741,
          -0.15441174449999373,
          -0.07859574449999851,
          -0.04957974449999458,
          0.024130255500010023,
          0.11211425550001763,
          0.18910025550000764,
          0.20501225550000335,
          0.2471322554999933,
          0.2995482555000262,
          0.5209122555000167,
          0.40859225550000655,
          0.4710702555000168,
          0.43222625550001226,
          0.3779382555000099,
          0.398530255500007,
          0.5379942555000294,
          0.5892402555000231,
          0.47364425550002753,
          0.4951722555000204,
          0.45375425550002735,
          0.41795225550003146,
          0.48464225550002293,
          0.2821580707500271,
          0.30753807075003525,
          0.38790807075004263,
          0.20531307075004612,
          0.24526307075005693,
          0.2769880707500727,
          0.27863307075006727,
          0.22763807075005804,
          0.12846807075004296,
          0.10099904900005008,
          0.13181904900005925,
          0.10872704900006802,
          0.1665030490000774,
          0.1769910490000859,
          0.16687104900008354,
          0.1333830490000798,
          0.12243504900009139,
          0.1340270490000739,
          0.0764350490001009,
          0.02902005100009486,
          0.034212051000070964,
          0.07126405100006394,
          0.11539605100008288,
          0.1682600510000798,
          0.17014805100006303,
          0.2489720510000737,
          0.20956005100007946,
          0.3020720510000574,
          0.40001205100006487,
          0.3483280510000464,
          0.3457320510000583,
          0.35611605100007715,
          0.4491000510000731,
          0.45995605100006554,
          0.4483920510000461,
          0.33228005100005564,
          0.3825480510000423,
          0.4066200510000506,
          0.454292051000027,
          0.3783000510000356,
          0.44202005100002495,
          0.512820051000018,
          0.5083360510000245,
          0.4920520510000248,
          0.43753605100005366,
          0.3790080510000404,
          0.40898005100002965,
          0.4623160510000224,
          0.538544051000045,
          0.5824400510000327,
          0.5984880510000012,
          0.6499360510000329,
          0.577956051000017,
          0.6478120510000185,
          0.6921800510000242,
          0.8337800510000326,
          0.6803800510000402,
          0.8559640510000355,
          0.9388000510000216,
          0.8038080510000212,
          0.8120680510000255,
          0.8290600510000301,
          0.835904051000047,
          0.8290600510000301,
          0.8389720510000309,
          0.8625720510000212,
          0.8019200510000157,
          0.8975000510000442,
          0.8710680510000346,
          0.9255840510000279,
          0.9076480510000318,
          0.9940240510000642,
          1.006532051000053,
          0.9933160510000594,
          0.9277080510000424,
          1.0825240510000445,
          1.06553205100004,
          0.9331360510000497,
          0.9423400510000457,
          0.8717760510000394,
          0.897736051000031,
          0.7669359677500376,
          0.7671319677500232,
          0.7693299677500098,
          0.7695679677500289,
          0.766683967750037,
          0.763701967750019,
          0.7639609677500214,
          0.7664879677500069,
          0.7678109677500267,
          0.7139143050000296,
          0.7691383050000278,
          0.7693723050000045,
          0.7831783050000096,
          0.9947143050000218,
          0.9231103050000078,
          0.8339563049999832,
          0.7735843049999858,
          0.6708583049999772,
          0.7104043049999786,
          0.6905172187499753,
          0.6646962187499827,
          0.6599082187499716,
          0.5576645277499681,
          0.5537035277499491,
          0.5189865277499761,
          0.5373935277499742,
          0.6105555277499786,
          0.5590625277499761,
          0.5683825277499777,
          0.5562665277499823,
          0.37569152774996617,
          0.3848380152499775,
          0.41119301524996654,
          0.396808015249972,
          0.44825801524994713,
          0.4404880152499402,
          0.4088830152499501,
          0.44762801524997897,
          0.4205380152499716,
          0.46789301524996496,
          0.4437430152499422,
          0.453928015249927,
          0.4707280152499438,
          0.4235830152499398,
          0.41633801524993963,
          0.41770301524994835,
          0.26409776274993746,
          0.1662377627499323,
          0.02643776274993126,
          0.09051276274993914,
          0.5635027627499456,
          0.3591617627499488,
          0.4066937627499545,
          0.4059947627499394,
          0.36428776274992636,
          0.5206307627499296,
          0.5504547627499301,
          0.412984762749935,
          0.14526776274992326,
          0.2547777627499137,
          0.2752817627499349,
          0.32270688549989046,
          0.32438688549991657,
          0.33579688549991715,
          0.36568688549991624,
          0.3581268854999209,
          0.34062688549991726,
          0.336776885499912,
          0.3228468854999056,
          0.337616885499914,
          0.2783685947499226,
          0.2431855947499173,
          0.19472159474989148,
          0.11541234599989902,
          0.09498834599992456,
          0.04096834599991439,
          -0.03401247175011113,
          -0.04729347175010945,
          0.2681885282499019,
          0.4254635282498809,
          0.6549685282498885,
          0.6120965282498725,
          0.6812975282498579,
          0.5331095282498755,
          0.5088775282498625,
          0.6081355282498757,
          0.7355865282498764,
          0.7169465282498733,
          0.7055295282498708,
          0.6540365282498684,
          0.7358195282498592,
          0.7908075282498706,
          0.8213305282498862,
          0.8096805282498787,
          0.8798135282498842,
          1.0091285282498585,
          1.2484195282498556,
          1.3110965282498555,
          1.3015435282498489,
          1.4720995282498484,
          1.6321705282498655,
          1.6051425282498588,
          2.0336295282498584,
          2.0392215282498682,
          1.9222555282498721,
          1.843501528249858,
          1.9075765282498658,
          2.0573955282498613,
          2.002640528249855,
          1.9700205282498606,
          2.3325685282498565,
          2.221893528249841,
          2.061822528249846,
          2.064152528249852,
          2.16317752824986,
          2.063453528249881,
          2.12915952824988,
          2.204418528249885,
          2.007300528249889,
          1.9555745282498815,
          1.8107691424998906,
          1.815353142499898,
          1.8183771424999051,
          1.8156171424998924,
          1.8105951424999045,
          1.8100011424998952,
          1.8136431424998989,
          1.8137751424998738,
          1.8165051424998913,
          1.8207231424999026,
          1.8186411424998994,
          1.8190851424998877,
          1.8173391424998853,
          1.8154011424998728,
          1.8204891424998815,
          1.819757142499867,
          1.8194031424998647,
          1.8157431424998594,
          1.8064971424998744,
          1.756843639999861,
          1.8035836399998395,
          1.9317196399998515,
          2.1268876399998637,
          2.545723639999875,
          2.588359639999882,
          2.8029076399998853,
          2.7297196399999057,
          2.694835639999882,
          2.841667639999912,
          2.9358316399999085,
          3.1882276399998855,
          3.4775596399998943,
          4.1082076399998835,
          3.8699476399998822,
          4.371547639999873,
          3.959779639999872,
          4.06260763999986,
          3.9039196399998755,
          4.2297316399998675,
          4.157455639999852,
          4.462519639999862,
          5.100463639999853,
          5.154499639999877,
          5.344879639999878,
          4.548247639999881,
          4.777615639999877,
          4.752307639999898,
          4.696219639999888,
          4.612771639999891,
          4.45111963999989,
          4.413043639999881,
          4.087298197749867,
          4.043481197749865,
          4.016563197749856,
          3.977433197749858,
          3.967328197749853,
          3.9699081977498496,
          3.935922226499855,
          4.085772226499862,
          4.362162226499855,
          4.43120422649983,
          4.516230226499851,
          4.723578226499825,
          4.532880226499825,
          4.638552226499848,
          4.922934226499831,
          4.403232226499831,
          4.4685002264998275,
          4.6254542264998255,
          4.556190226499823,
          4.813044226499819,
          4.775748226499821,
          4.787736226499817,
          4.873650226499837,
          5.009070226499834,
          4.8305822264998355,
          4.903398226499833,
          4.95601222649984,
          4.873872226499842,
          4.599924226499841,
          4.920936226499828,
          4.6836182264998305,
          4.633034027499838,
          4.501934027499832,
          4.6938340274998325,
          4.808404027499824,
          4.776864027499816,
          4.788264027499833,
          4.826454027499816,
          4.8616040274998,
          4.958694027499799,
          4.683954027499793,
          4.609664027499805,
          4.701244027499785,
          4.696494027499787,
          4.611115609999761,
          4.621455609999781,
          4.692955609999783,
          4.581415609999762,
          4.6716156099997574,
          4.403655609999779,
          4.443915609999749,
          4.342559912249766,
          4.340349912249741,
          4.204655912249744,
          4.245761912249746,
          4.207086912249758,
          4.196920912249769,
          4.191195133749748,
          4.135926238999743,
          3.893319368999726,
          3.879239368999743,
          3.8044393689997458,
          3.6229393689997558,
          3.787279368999763,
          4.001339368999757,
          4.00595936899979,
          4.051939368999791,
          4.31835936899978,
          4.282279368999786,
          4.100559368999779,
          4.171839368999786,
          4.439359368999751,
          4.42725936899977,
          4.272379368999757,
          4.266879368999765,
          4.213859368999762,
          4.095059368999765,
          4.71523936899978,
          4.853839368999768,
          5.0320393689997855,
          4.901799368999771,
          4.804339368999777,
          4.766059368999764,
          4.738559368999762,
          4.88331936899975,
          5.045679368999756,
          4.973519368999746,
          5.127959368999746,
          4.885959368999759,
          4.792679368999742,
          4.8516393689997495,
          4.980559368999726,
          5.11233936899973,
          4.947999368999723,
          4.814019368999745,
          4.734819368999732,
          4.787357877499709,
          4.94606187749973,
          4.891779877499736,
          5.023887877499744,
          5.03849387749975,
          4.847089877499755,
          4.944535877499767,
          4.854719877499769,
          4.931019877499754,
          5.031517877499758,
          5.118935877499764,
          5.053317877499741,
          5.257365877499742,
          5.221177877499739,
          5.053753877499756,
          4.952819877499759,
          5.03347987749978,
          5.140081877499769,
          5.090813877499767,
          5.156649877499753,
          5.266739877499749,
          5.393615877499736,
          5.63712187749974,
          5.814355877499722,
          5.621861877499734,
          5.70993387749974,
          5.42195587749974,
          5.3984118774997425,
          5.480161877499756,
          5.532917877499743,
          5.592649877499745,
          5.423481877499747,
          5.370289877499723,
          4.992075301249721,
          4.843374301249748,
          4.706937301249736,
          4.537650301249729,
          4.395957301249731,
          4.272202466499708,
          4.065182466499717,
          3.992142466499704,
          3.898422466499696,
          3.7481624664996938,
          3.706772450249707,
          3.7133424502496792,
          3.7597704502496665,
          3.907814450249658,
          4.0315494502496385,
          3.9695724502496477,
          3.9807414502496474,
          3.96825845024964,
          3.963878450249636,
          4.131851450249635,
          4.251206450249634,
          4.00767845024963,
          4.005926450249642,
          3.9527094502496363,
          3.70261145024966,
          3.23657347299966,
          3.133623472999658,
          3.3298954729996666,
          3.3395814729996864,
          3.2873234729996925,
          3.330533472999697,
          3.304781472999685,
          3.3754254729996935,
          3.525935472999686,
          3.3714234729996795,
          3.4337154729996877,
          3.386793472999705,
          3.319861472999719,
          3.2749114729997197,
          3.3056514729997266,
          3.2031863984997244,
          2.9515063984997036,
          3.1151863984997252,
          2.771106398499734,
          2.7499863984997264,
          2.4765542257497275,
          2.598287225749729,
          2.1892822257497224,
          2.1247652257497363,
          2.2737652257497354,
          2.115974225749717,
          1.7885924054997338,
          1.5855324054997233,
          1.6807924054997425,
          1.6209524054997537,
          1.6312924054997513,
          1.4225124054997762,
          1.464972405499787,
          1.292492405499801,
          1.3347324054997944,
          0.9902708947497896,
          1.0201388947497891,
          0.9970538947497776,
          1.0388918947497938,
          1.038549894749785,
          1.0510898947497793,
          0.9785288947497861,
          1.0272068947497992,
          1.0215068947497796,
          1.0420268947497924,
          0.9486038947497777,
          0.9623408947497802,
          0.836411837999762,
          0.7409318379997476,
          0.49387183799973755,
          0.7046318379997585,
          0.581871837999759,
          0.6637118379997586,
          0.8053918379997693,
          0.5871518379997775,
          0.6036518379997746,
          0.5721918379997915,
          0.19240152549977463,
          0.2218615254997891,
          0.18742152549979796,
          0.18553152549978247,
          0.19552152549977553,
          0.17524152549976968,
          0.2055115254997686,
          0.1705015254997555,
          0.16027152549977774,
          0.14830152549978326,
          0.09683831274978072,
          0.15319331274978865,
          -0.06360768725020005,
          -0.21786568725020716,
          -0.25852968725020853,
          -0.49835045500020714,
          -0.4963584550002009,
          -0.4968624550002021,
          -0.4974264550002161,
          -0.49123445500021123,
          -0.4896744550002219,
          -0.47835845500021623,
          -0.4983024550002102,
          -0.5092344550002181,
          -0.5079144550002135,
          -0.49362245500021995,
          -0.5615060935002081,
          -0.6312140935002097,
          -0.5484080935002189,
          -0.31331009350019645,
          -0.3386180935001981,
          -0.16013009350019924,
          -0.21429809350019813,
          0.13490790649981488,
          -0.07510409350021119,
          0.027681906499821274,
          -0.2853380935001759,
          -0.2853380935001759,
          -0.4829180935001731,
          -0.4638260935001859,
          -0.6436103815001926,
          -0.6065603815001874,
          -0.6335303815001803,
          -0.6285803815001878,
          -0.6410003815001675,
          -0.6241403815001711,
          -0.6249803815001731,
          -0.6206603815001599,
          -0.6123503815001596,
          -0.630890381500171,
          -0.6456803815001577,
          -0.6647303815001671,
          -0.6723203815001688,
          -0.6727703815001651,
          -0.6355103815001706,
          -0.6366803815001765
         ],
         "yaxis": "y"
        },
        {
         "fill": "tozeroy",
         "line": {
          "width": 1
         },
         "mode": "lines",
         "name": "Drawdown_1",
         "type": "scatter",
         "uid": "c8b3f300-1b4f-4718-9ad8-51898b3b0ab9",
         "x": [
          "2024-01-01T00:00:00",
          "2024-01-01T00:05:00",
          "2024-01-01T00:10:00",
          "2024-01-01T00:15:00",
          "2024-01-01T00:20:00",
          "2024-01-01T00:25:00",
          "2024-01-01T00:30:00",
          "2024-01-01T00:35:00",
          "2024-01-01T00:40:00",
          "2024-01-01T00:45:00",
          "2024-01-01T00:50:00",
          "2024-01-01T00:55:00",
          "2024-01-01T01:00:00",
          "2024-01-01T01:05:00",
          "2024-01-01T01:10:00",
          "2024-01-01T01:15:00",
          "2024-01-01T01:20:00",
          "2024-01-01T01:25:00",
          "2024-01-01T01:30:00",
          "2024-01-01T01:35:00",
          "2024-01-01T01:40:00",
          "2024-01-01T01:45:00",
          "2024-01-01T01:50:00",
          "2024-01-01T01:55:00",
          "2024-01-01T02:00:00",
          "2024-01-01T02:05:00",
          "2024-01-01T02:10:00",
          "2024-01-01T02:15:00",
          "2024-01-01T02:20:00",
          "2024-01-01T02:25:00",
          "2024-01-01T02:30:00",
          "2024-01-01T02:35:00",
          "2024-01-01T02:40:00",
          "2024-01-01T02:45:00",
          "2024-01-01T02:50:00",
          "2024-01-01T02:55:00",
          "2024-01-01T03:00:00",
          "2024-01-01T03:05:00",
          "2024-01-01T03:10:00",
          "2024-01-01T03:15:00",
          "2024-01-01T03:20:00",
          "2024-01-01T03:25:00",
          "2024-01-01T03:30:00",
          "2024-01-01T03:35:00",
          "2024-01-01T03:40:00",
          "2024-01-01T03:45:00",
          "2024-01-01T03:50:00",
          "2024-01-01T03:55:00",
          "2024-01-01T04:00:00",
          "2024-01-01T04:05:00",
          "2024-01-01T04:10:00",
          "2024-01-01T04:15:00",
          "2024-01-01T04:20:00",
          "2024-01-01T04:25:00",
          "2024-01-01T04:30:00",
          "2024-01-01T04:35:00",
          "2024-01-01T04:40:00",
          "2024-01-01T04:45:00",
          "2024-01-01T04:50:00",
          "2024-01-01T04:55:00",
          "2024-01-01T05:00:00",
          "2024-01-01T05:05:00",
          "2024-01-01T05:10:00",
          "2024-01-01T05:15:00",
          "2024-01-01T05:20:00",
          "2024-01-01T05:25:00",
          "2024-01-01T05:30:00",
          "2024-01-01T05:35:00",
          "2024-01-01T05:40:00",
          "2024-01-01T05:45:00",
          "2024-01-01T05:50:00",
          "2024-01-01T05:55:00",
          "2024-01-01T06:00:00",
          "2024-01-01T06:05:00",
          "2024-01-01T06:10:00",
          "2024-01-01T06:15:00",
          "2024-01-01T06:20:00",
          "2024-01-01T06:25:00",
          "2024-01-01T06:30:00",
          "2024-01-01T06:35:00",
          "2024-01-01T06:40:00",
          "2024-01-01T06:45:00",
          "2024-01-01T06:50:00",
          "2024-01-01T06:55:00",
          "2024-01-01T07:00:00",
          "2024-01-01T07:05:00",
          "2024-01-01T07:10:00",
          "2024-01-01T07:15:00",
          "2024-01-01T07:20:00",
          "2024-01-01T07:25:00",
          "2024-01-01T07:30:00",
          "2024-01-01T07:35:00",
          "2024-01-01T07:40:00",
          "2024-01-01T07:45:00",
          "2024-01-01T07:50:00",
          "2024-01-01T07:55:00",
          "2024-01-01T08:00:00",
          "2024-01-01T08:05:00",
          "2024-01-01T08:10:00",
          "2024-01-01T08:15:00",
          "2024-01-01T08:20:00",
          "2024-01-01T08:25:00",
          "2024-01-01T08:30:00",
          "2024-01-01T08:35:00",
          "2024-01-01T08:40:00",
          "2024-01-01T08:45:00",
          "2024-01-01T08:50:00",
          "2024-01-01T08:55:00",
          "2024-01-01T09:00:00",
          "2024-01-01T09:05:00",
          "2024-01-01T09:10:00",
          "2024-01-01T09:15:00",
          "2024-01-01T09:20:00",
          "2024-01-01T09:25:00",
          "2024-01-01T09:30:00",
          "2024-01-01T09:35:00",
          "2024-01-01T09:40:00",
          "2024-01-01T09:45:00",
          "2024-01-01T09:50:00",
          "2024-01-01T09:55:00",
          "2024-01-01T10:00:00",
          "2024-01-01T10:05:00",
          "2024-01-01T10:10:00",
          "2024-01-01T10:15:00",
          "2024-01-01T10:20:00",
          "2024-01-01T10:25:00",
          "2024-01-01T10:30:00",
          "2024-01-01T10:35:00",
          "2024-01-01T10:40:00",
          "2024-01-01T10:45:00",
          "2024-01-01T10:50:00",
          "2024-01-01T10:55:00",
          "2024-01-01T11:00:00",
          "2024-01-01T11:05:00",
          "2024-01-01T11:10:00",
          "2024-01-01T11:15:00",
          "2024-01-01T11:20:00",
          "2024-01-01T11:25:00",
          "2024-01-01T11:30:00",
          "2024-01-01T11:35:00",
          "2024-01-01T11:40:00",
          "2024-01-01T11:45:00",
          "2024-01-01T11:50:00",
          "2024-01-01T11:55:00",
          "2024-01-01T12:00:00",
          "2024-01-01T12:05:00",
          "2024-01-01T12:10:00",
          "2024-01-01T12:15:00",
          "2024-01-01T12:20:00",
          "2024-01-01T12:25:00",
          "2024-01-01T12:30:00",
          "2024-01-01T12:35:00",
          "2024-01-01T12:40:00",
          "2024-01-01T12:45:00",
          "2024-01-01T12:50:00",
          "2024-01-01T12:55:00",
          "2024-01-01T13:00:00",
          "2024-01-01T13:05:00",
          "2024-01-01T13:10:00",
          "2024-01-01T13:15:00",
          "2024-01-01T13:20:00",
          "2024-01-01T13:25:00",
          "2024-01-01T13:30:00",
          "2024-01-01T13:35:00",
          "2024-01-01T13:40:00",
          "2024-01-01T13:45:00",
          "2024-01-01T13:50:00",
          "2024-01-01T13:55:00",
          "2024-01-01T14:00:00",
          "2024-01-01T14:05:00",
          "2024-01-01T14:10:00",
          "2024-01-01T14:15:00",
          "2024-01-01T14:20:00",
          "2024-01-01T14:25:00",
          "2024-01-01T14:30:00",
          "2024-01-01T14:35:00",
          "2024-01-01T14:40:00",
          "2024-01-01T14:45:00",
          "2024-01-01T14:50:00",
          "2024-01-01T14:55:00",
          "2024-01-01T15:00:00",
          "2024-01-01T15:05:00",
          "2024-01-01T15:10:00",
          "2024-01-01T15:15:00",
          "2024-01-01T15:20:00",
          "2024-01-01T15:25:00",
          "2024-01-01T15:30:00",
          "2024-01-01T15:35:00",
          "2024-01-01T15:40:00",
          "2024-01-01T15:45:00",
          "2024-01-01T15:50:00",
          "2024-01-01T15:55:00",
          "2024-01-01T16:00:00",
          "2024-01-01T16:05:00",
          "2024-01-01T16:10:00",
          "2024-01-01T16:15:00",
          "2024-01-01T16:20:00",
          "2024-01-01T16:25:00",
          "2024-01-01T16:30:00",
          "2024-01-01T16:35:00",
          "2024-01-01T16:40:00",
          "2024-01-01T16:45:00",
          "2024-01-01T16:50:00",
          "2024-01-01T16:55:00",
          "2024-01-01T17:00:00",
          "2024-01-01T17:05:00",
          "2024-01-01T17:10:00",
          "2024-01-01T17:15:00",
          "2024-01-01T17:20:00",
          "2024-01-01T17:25:00",
          "2024-01-01T17:30:00",
          "2024-01-01T17:35:00",
          "2024-01-01T17:40:00",
          "2024-01-01T17:45:00",
          "2024-01-01T17:50:00",
          "2024-01-01T17:55:00",
          "2024-01-01T18:00:00",
          "2024-01-01T18:05:00",
          "2024-01-01T18:10:00",
          "2024-01-01T18:15:00",
          "2024-01-01T18:20:00",
          "2024-01-01T18:25:00",
          "2024-01-01T18:30:00",
          "2024-01-01T18:35:00",
          "2024-01-01T18:40:00",
          "2024-01-01T18:45:00",
          "2024-01-01T18:50:00",
          "2024-01-01T18:55:00",
          "2024-01-01T19:00:00",
          "2024-01-01T19:05:00",
          "2024-01-01T19:10:00",
          "2024-01-01T19:15:00",
          "2024-01-01T19:20:00",
          "2024-01-01T19:25:00",
          "2024-01-01T19:30:00",
          "2024-01-01T19:35:00",
          "2024-01-01T19:40:00",
          "2024-01-01T19:45:00",
          "2024-01-01T19:50:00",
          "2024-01-01T19:55:00",
          "2024-01-01T20:00:00",
          "2024-01-01T20:05:00",
          "2024-01-01T20:10:00",
          "2024-01-01T20:15:00",
          "2024-01-01T20:20:00",
          "2024-01-01T20:25:00",
          "2024-01-01T20:30:00",
          "2024-01-01T20:35:00",
          "2024-01-01T20:40:00",
          "2024-01-01T20:45:00",
          "2024-01-01T20:50:00",
          "2024-01-01T20:55:00",
          "2024-01-01T21:00:00",
          "2024-01-01T21:05:00",
          "2024-01-01T21:10:00",
          "2024-01-01T21:15:00",
          "2024-01-01T21:20:00",
          "2024-01-01T21:25:00",
          "2024-01-01T21:30:00",
          "2024-01-01T21:35:00",
          "2024-01-01T21:40:00",
          "2024-01-01T21:45:00",
          "2024-01-01T21:50:00",
          "2024-01-01T21:55:00",
          "2024-01-01T22:00:00",
          "2024-01-01T22:05:00",
          "2024-01-01T22:10:00",
          "2024-01-01T22:15:00",
          "2024-01-01T22:20:00",
          "2024-01-01T22:25:00",
          "2024-01-01T22:30:00",
          "2024-01-01T22:35:00",
          "2024-01-01T22:40:00",
          "2024-01-01T22:45:00",
          "2024-01-01T22:50:00",
          "2024-01-01T22:55:00",
          "2024-01-01T23:00:00",
          "2024-01-01T23:05:00",
          "2024-01-01T23:10:00",
          "2024-01-01T23:15:00",
          "2024-01-01T23:20:00",
          "2024-01-01T23:25:00",
          "2024-01-01T23:30:00",
          "2024-01-01T23:35:00",
          "2024-01-01T23:40:00",
          "2024-01-01T23:45:00",
          "2024-01-01T23:50:00",
          "2024-01-01T23:55:00",
          "2024-01-02T00:00:00",
          "2024-01-02T00:05:00",
          "2024-01-02T00:10:00",
          "2024-01-02T00:15:00",
          "2024-01-02T00:20:00",
          "2024-01-02T00:25:00",
          "2024-01-02T00:30:00",
          "2024-01-02T00:35:00",
          "2024-01-02T00:40:00",
          "2024-01-02T00:45:00",
          "2024-01-02T00:50:00",
          "2024-01-02T00:55:00",
          "2024-01-02T01:00:00",
          "2024-01-02T01:05:00",
          "2024-01-02T01:10:00",
          "2024-01-02T01:15:00",
          "2024-01-02T01:20:00",
          "2024-01-02T01:25:00",
          "2024-01-02T01:30:00",
          "2024-01-02T01:35:00",
          "2024-01-02T01:40:00",
          "2024-01-02T01:45:00",
          "2024-01-02T01:50:00",
          "2024-01-02T01:55:00",
          "2024-01-02T02:00:00",
          "2024-01-02T02:05:00",
          "2024-01-02T02:10:00",
          "2024-01-02T02:15:00",
          "2024-01-02T02:20:00",
          "2024-01-02T02:25:00",
          "2024-01-02T02:30:00",
          "2024-01-02T02:35:00",
          "2024-01-02T02:40:00",
          "2024-01-02T02:45:00",
          "2024-01-02T02:50:00",
          "2024-01-02T02:55:00",
          "2024-01-02T03:00:00",
          "2024-01-02T03:05:00",
          "2024-01-02T03:10:00",
          "2024-01-02T03:15:00",
          "2024-01-02T03:20:00",
          "2024-01-02T03:25:00",
          "2024-01-02T03:30:00",
          "2024-01-02T03:35:00",
          "2024-01-02T03:40:00",
          "2024-01-02T03:45:00",
          "2024-01-02T03:50:00",
          "2024-01-02T03:55:00",
          "2024-01-02T04:00:00",
          "2024-01-02T04:05:00",
          "2024-01-02T04:10:00",
          "2024-01-02T04:15:00",
          "2024-01-02T04:20:00",
          "2024-01-02T04:25:00",
          "2024-01-02T04:30:00",
          "2024-01-02T04:35:00",
          "2024-01-02T04:40:00",
          "2024-01-02T04:45:00",
          "2024-01-02T04:50:00",
          "2024-01-02T04:55:00",
          "2024-01-02T05:00:00",
          "2024-01-02T05:05:00",
          "2024-01-02T05:10:00",
          "2024-01-02T05:15:00",
          "2024-01-02T05:20:00",
          "2024-01-02T05:25:00",
          "2024-01-02T05:30:00",
          "2024-01-02T05:35:00",
          "2024-01-02T05:40:00",
          "2024-01-02T05:45:00",
          "2024-01-02T05:50:00",
          "2024-01-02T05:55:00",
          "2024-01-02T06:00:00",
          "2024-01-02T06:05:00",
          "2024-01-02T06:10:00",
          "2024-01-02T06:15:00",
          "2024-01-02T06:20:00",
          "2024-01-02T06:25:00",
          "2024-01-02T06:30:00",
          "2024-01-02T06:35:00",
          "2024-01-02T06:40:00",
          "2024-01-02T06:45:00",
          "2024-01-02T06:50:00",
          "2024-01-02T06:55:00",
          "2024-01-02T07:00:00",
          "2024-01-02T07:05:00",
          "2024-01-02T07:10:00",
          "2024-01-02T07:15:00",
          "2024-01-02T07:20:00",
          "2024-01-02T07:25:00",
          "2024-01-02T07:30:00",
          "2024-01-02T07:35:00",
          "2024-01-02T07:40:00",
          "2024-01-02T07:45:00",
          "2024-01-02T07:50:00",
          "2024-01-02T07:55:00",
          "2024-01-02T08:00:00",
          "2024-01-02T08:05:00",
          "2024-01-02T08:10:00",
          "2024-01-02T08:15:00",
          "2024-01-02T08:20:00",
          "2024-01-02T08:25:00",
          "2024-01-02T08:30:00",
          "2024-01-02T08:35:00",
          "2024-01-02T08:40:00",
          "2024-01-02T08:45:00",
          "2024-01-02T08:50:00",
          "2024-01-02T08:55:00",
          "2024-01-02T09:00:00",
          "2024-01-02T09:05:00",
          "2024-01-02T09:10:00",
          "2024-01-02T09:15:00",
          "2024-01-02T09:20:00",
          "2024-01-02T09:25:00",
          "2024-01-02T09:30:00",
          "2024-01-02T09:35:00",
          "2024-01-02T09:40:00",
          "2024-01-02T09:45:00",
          "2024-01-02T09:50:00",
          "2024-01-02T09:55:00",
          "2024-01-02T10:00:00",
          "2024-01-02T10:05:00",
          "2024-01-02T10:10:00",
          "2024-01-02T10:15:00",
          "2024-01-02T10:20:00",
          "2024-01-02T10:25:00",
          "2024-01-02T10:30:00",
          "2024-01-02T10:35:00",
          "2024-01-02T10:40:00",
          "2024-01-02T10:45:00",
          "2024-01-02T10:50:00",
          "2024-01-02T10:55:00",
          "2024-01-02T11:00:00",
          "2024-01-02T11:05:00",
          "2024-01-02T11:10:00",
          "2024-01-02T11:15:00",
          "2024-01-02T11:20:00",
          "2024-01-02T11:25:00",
          "2024-01-02T11:30:00",
          "2024-01-02T11:35:00",
          "2024-01-02T11:40:00",
          "2024-01-02T11:45:00",
          "2024-01-02T11:50:00",
          "2024-01-02T11:55:00",
          "2024-01-02T12:00:00",
          "2024-01-02T12:05:00",
          "2024-01-02T12:10:00",
          "2024-01-02T12:15:00",
          "2024-01-02T12:20:00",
          "2024-01-02T12:25:00",
          "2024-01-02T12:30:00",
          "2024-01-02T12:35:00",
          "2024-01-02T12:40:00",
          "2024-01-02T12:45:00",
          "2024-01-02T12:50:00",
          "2024-01-02T12:55:00",
          "2024-01-02T13:00:00",
          "2024-01-02T13:05:00",
          "2024-01-02T13:10:00",
          "2024-01-02T13:15:00",
          "2024-01-02T13:20:00",
          "2024-01-02T13:25:00",
          "2024-01-02T13:30:00",
          "2024-01-02T13:35:00",
          "2024-01-02T13:40:00",
          "2024-01-02T13:45:00",
          "2024-01-02T13:50:00",
          "2024-01-02T13:55:00",
          "2024-01-02T14:00:00",
          "2024-01-02T14:05:00",
          "2024-01-02T14:10:00",
          "2024-01-02T14:15:00",
          "2024-01-02T14:20:00",
          "2024-01-02T14:25:00",
          "2024-01-02T14:30:00",
          "2024-01-02T14:35:00",
          "2024-01-02T14:40:00",
          "2024-01-02T14:45:00",
          "2024-01-02T14:50:00",
          "2024-01-02T14:55:00",
          "2024-01-02T15:00:00",
          "2024-01-02T15:05:00",
          "2024-01-02T15:10:00",
          "2024-01-02T15:15:00",
          "2024-01-02T15:20:00",
          "2024-01-02T15:25:00",
          "2024-01-02T15:30:00",
          "2024-01-02T15:35:00",
          "2024-01-02T15:40:00",
          "2024-01-02T15:45:00",
          "2024-01-02T15:50:00",
          "2024-01-02T15:55:00",
          "2024-01-02T16:00:00",
          "2024-01-02T16:05:00",
          "2024-01-02T16:10:00",
          "2024-01-02T16:15:00",
          "2024-01-02T16:20:00",
          "2024-01-02T16:25:00",
          "2024-01-02T16:30:00",
          "2024-01-02T16:35:00",
          "2024-01-02T16:40:00",
          "2024-01-02T16:45:00",
          "2024-01-02T16:50:00",
          "2024-01-02T16:55:00",
          "2024-01-02T17:00:00",
          "2024-01-02T17:05:00",
          "2024-01-02T17:10:00",
          "2024-01-02T17:15:00",
          "2024-01-02T17:20:00",
          "2024-01-02T17:25:00",
          "2024-01-02T17:30:00",
          "2024-01-02T17:35:00",
          "2024-01-02T17:40:00",
          "2024-01-02T17:45:00",
          "2024-01-02T17:50:00",
          "2024-01-02T17:55:00",
          "2024-01-02T18:00:00",
          "2024-01-02T18:05:00",
          "2024-01-02T18:10:00",
          "2024-01-02T18:15:00",
          "2024-01-02T18:20:00",
          "2024-01-02T18:25:00",
          "2024-01-02T18:30:00",
          "2024-01-02T18:35:00",
          "2024-01-02T18:40:00",
          "2024-01-02T18:45:00",
          "2024-01-02T18:50:00",
          "2024-01-02T18:55:00",
          "2024-01-02T19:00:00",
          "2024-01-02T19:05:00",
          "2024-01-02T19:10:00",
          "2024-01-02T19:15:00",
          "2024-01-02T19:20:00",
          "2024-01-02T19:25:00",
          "2024-01-02T19:30:00",
          "2024-01-02T19:35:00",
          "2024-01-02T19:40:00",
          "2024-01-02T19:45:00",
          "2024-01-02T19:50:00",
          "2024-01-02T19:55:00",
          "2024-01-02T20:00:00",
          "2024-01-02T20:05:00",
          "2024-01-02T20:10:00",
          "2024-01-02T20:15:00",
          "2024-01-02T20:20:00",
          "2024-01-02T20:25:00",
          "2024-01-02T20:30:00",
          "2024-01-02T20:35:00",
          "2024-01-02T20:40:00",
          "2024-01-02T20:45:00",
          "2024-01-02T20:50:00",
          "2024-01-02T20:55:00",
          "2024-01-02T21:00:00",
          "2024-01-02T21:05:00",
          "2024-01-02T21:10:00",
          "2024-01-02T21:15:00",
          "2024-01-02T21:20:00",
          "2024-01-02T21:25:00",
          "2024-01-02T21:30:00",
          "2024-01-02T21:35:00",
          "2024-01-02T21:40:00",
          "2024-01-02T21:45:00",
          "2024-01-02T21:50:00",
          "2024-01-02T21:55:00",
          "2024-01-02T22:00:00",
          "2024-01-02T22:05:00",
          "2024-01-02T22:10:00",
          "2024-01-02T22:15:00",
          "2024-01-02T22:20:00",
          "2024-01-02T22:25:00",
          "2024-01-02T22:30:00",
          "2024-01-02T22:35:00",
          "2024-01-02T22:40:00",
          "2024-01-02T22:45:00",
          "2024-01-02T22:50:00",
          "2024-01-02T22:55:00",
          "2024-01-02T23:00:00",
          "2024-01-02T23:05:00",
          "2024-01-02T23:10:00",
          "2024-01-02T23:15:00",
          "2024-01-02T23:20:00",
          "2024-01-02T23:25:00",
          "2024-01-02T23:30:00",
          "2024-01-02T23:35:00",
          "2024-01-02T23:40:00",
          "2024-01-02T23:45:00",
          "2024-01-02T23:50:00",
          "2024-01-02T23:55:00",
          "2024-01-03T00:00:00"
         ],
         "xaxis": "x",
         "y": [
          0,
          0,
          0,
          0,
          0,
          0,
          0,
          0,
          0,
          0,
          0,
          0,
          0,
          0,
          0,
          0,
          0,
          0,
          0,
          0,
          0,
          0,
          0,
          0,
          0,
          0,
          0,
          0,
          -0.050281744499989144,
          -0.07321374450000803,
          -0.04934574449998763,
          -0.20659374450000542,
          -0.1305437444999916,
          -0.0507497444999899,
          0,
          -0.14157000000001063,
          -0.17503200000001015,
          -0.0992160000000149,
          -0.07020000000000437,
          0,
          0,
          0,
          0,
          0,
          0,
          0,
          -0.11231999999999971,
          -0.04984199999998964,
          -0.08868599999999788,
          -0.14297399999999472,
          -0.12238199999999778,
          0,
          0,
          -0.115596000000005,
          -0.09406800000000658,
          -0.13548600000000077,
          -0.1712880000000041,
          -0.10459800000000541,
          -0.3070821847500156,
          -0.2817021847500109,
          -0.2013321847500083,
          -0.3839271847500095,
          -0.3439771847500015,
          -0.31225218474999566,
          -0.31060718475000615,
          -0.36160218475000877,
          -0.4607721847500216,
          -0.4882412065000244,
          -0.45742120650002105,
          -0.480513206500018,
          -0.4227372065000236,
          -0.4122492065000188,
          -0.422369206500025,
          -0.4558572065000226,
          -0.466805206500012,
          -0.4552132065000296,
          -0.5128052065000156,
          -0.5602202045000194,
          -0.5550282045000313,
          -0.517976204500028,
          -0.47384420450001924,
          -0.42098020450002877,
          -0.41909220450002976,
          -0.3402682045000256,
          -0.3796802045000186,
          -0.2871682045000307,
          -0.189228204500032,
          -0.24091220450003675,
          -0.24350820450003086,
          -0.23312420450001808,
          -0.14014020450002135,
          -0.12928420450001796,
          -0.14084820450003463,
          -0.2569602045000283,
          -0.20669220450003195,
          -0.18262020450001729,
          -0.13494820450003317,
          -0.21094020450002063,
          -0.14722020450002674,
          -0.07642020450002747,
          -0.08090420450002057,
          -0.09718820450003478,
          -0.15170420450001984,
          -0.21023220450002555,
          -0.1802602045000276,
          -0.12692420450002828,
          -0.05069620450001821,
          -0.006800204500013934,
          0,
          0,
          -0.07198000000000321,
          -0.0021240000000034343,
          0,
          0,
          -0.15340000000000145,
          0,
          0,
          -0.134992000000002,
          -0.1267320000000109,
          -0.1097400000000016,
          -0.10289599999998245,
          -0.1097400000000016,
          -0.0998279999999977,
          -0.07622800000001007,
          -0.13688000000000103,
          -0.041299999999991996,
          -0.06773199999999634,
          -0.013215999999993074,
          -0.031152000000001862,
          0,
          0,
          -0.013215999999993074,
          -0.07882400000000417,
          0,
          -0.016992000000009284,
          -0.14938799999999902,
          -0.1401839999999902,
          -0.21074800000000324,
          -0.18478800000000775,
          -0.31558808325000426,
          -0.315392083250008,
          -0.3131940832500186,
          -0.3129560832500101,
          -0.3158400832500047,
          -0.31882208325001554,
          -0.3185630832500101,
          -0.31603608325001914,
          -0.3147130832500079,
          -0.3686097460000019,
          -0.3133857460000036,
          -0.3131517460000214,
          -0.29934574600001723,
          -0.08780974600000263,
          -0.15941374600000927,
          -0.2485677460000261,
          -0.30893974600001456,
          -0.41166574600001693,
          -0.3721197460000076,
          -0.3920068322500083,
          -0.4178278322500046,
          -0.4226158322500123,
          -0.5248595232500156,
          -0.5288205232500331,
          -0.5635375232500155,
          -0.5451305232500272,
          -0.471968523250016,
          -0.5234615232500255,
          -0.5141415232500185,
          -0.5262575232500057,
          -0.7068325232500138,
          -0.6976860357500118,
          -0.6713310357500086,
          -0.6857160357500106,
          -0.6342660357500245,
          -0.6420360357500249,
          -0.6736410357500244,
          -0.6348960357500073,
          -0.6619860357500147,
          -0.6146310357500079,
          -0.6387810357500165,
          -0.6285960357500153,
          -0.6117960357500124,
          -0.6589410357500128,
          -0.6661860357500154,
          -0.6648210357500102,
          -0.8184262882500297,
          -0.9162862882500303,
          -1.056086288250026,
          -0.9920112882500325,
          -0.5190212882500237,
          -0.7233622882500277,
          -0.6758302882500175,
          -0.6765292882500217,
          -0.7182362882500274,
          -0.5618932882500303,
          -0.5320692882500225,
          -0.6695392882500164,
          -0.9372562882500278,
          -0.8277462882500367,
          -0.8072422882500178,
          -0.7598171655000442,
          -0.7581371655000294,
          -0.7467271655000332,
          -0.7168371655000374,
          -0.7243971655000314,
          -0.7418971655000314,
          -0.7457471655000336,
          -0.7596771655000338,
          -0.7449071655000261,
          -0.8041554562500278,
          -0.839338456250025,
          -0.8878024562500468,
          -0.967111705000043,
          -0.9875357050000275,
          -1.041555705000028,
          -1.1165365227500479,
          -1.1298175227500542,
          -0.8143355227500433,
          -0.6570605227500528,
          -0.4275555227500445,
          -0.4704275227500511,
          -0.4012265227500575,
          -0.5494145227500485,
          -0.5736465227500593,
          -0.47438852275005045,
          -0.3469375227500495,
          -0.3655775227500453,
          -0.3769945227500466,
          -0.4284875227500561,
          -0.34670452275006025,
          -0.29171652275004817,
          -0.2611935227500362,
          -0.2728435227500449,
          -0.20271052275003967,
          -0.0733955227500519,
          0,
          0,
          -0.009552999999996245,
          0,
          0,
          -0.027028000000009343,
          0,
          0,
          -0.11696599999999308,
          -0.19572000000000117,
          -0.13164499999998952,
          0,
          -0.054755000000004654,
          -0.08737500000001092,
          0,
          -0.11067500000001018,
          -0.27074600000001736,
          -0.26841600000001564,
          -0.16939100000001417,
          -0.2691150000000016,
          -0.20340900000001055,
          -0.1281500000000051,
          -0.3252679999999964,
          -0.3769940000000133,
          -0.5217993857500005,
          -0.5172153857500053,
          -0.5141913857500003,
          -0.516951385750017,
          -0.5219733857500068,
          -0.5225673857500078,
          -0.518925385750008,
          -0.5187933857500139,
          -0.5160633857500033,
          -0.5118453857500026,
          -0.5139273857500121,
          -0.5134833857500053,
          -0.5152293857500081,
          -0.5171673857500173,
          -0.512079385750003,
          -0.5128113857500103,
          -0.5131653857500169,
          -0.5168253857500167,
          -0.5260713857500013,
          -0.5757248882500243,
          -0.5289848882500336,
          -0.4008488882500205,
          -0.20568088825002634,
          0,
          0,
          0,
          -0.07318799999999101,
          -0.10807200000001103,
          0,
          0,
          0,
          0,
          0,
          -0.23826000000000933,
          0,
          -0.41176799999999275,
          -0.3089400000000023,
          -0.46762799999998605,
          -0.1418159999999807,
          -0.21409200000000056,
          0,
          0,
          0,
          0,
          -0.7966320000000087,
          -0.5672640000000138,
          -0.5925720000000001,
          -0.6486599999999999,
          -0.7321080000000074,
          -0.893760000000002,
          -0.931836000000003,
          -1.2575814422500116,
          -1.3013984422500107,
          -1.3283164422500158,
          -1.3674464422500023,
          -1.3775514422500055,
          -1.3749714422500074,
          -1.4089574135000111,
          -1.2591074135000053,
          -0.9827174135000132,
          -0.9136754135000228,
          -0.8286494135000066,
          -0.621301413500023,
          -0.8119994135000161,
          -0.7063274135000028,
          -0.421945413500016,
          -0.9416474135000135,
          -0.8763794135000171,
          -0.7194254135000119,
          -0.7886894135000148,
          -0.5318354135000117,
          -0.5691314135000175,
          -0.5571434135000163,
          -0.47122941350000475,
          -0.33580941350001015,
          -0.5142974135000077,
          -0.44148141350002335,
          -0.388867413500011,
          -0.47100741350001046,
          -0.7449554135000107,
          -0.42394341350001924,
          -0.6612614135000149,
          -0.7118456125000193,
          -0.8429456125000252,
          -0.65104561250002,
          -0.5364756125000167,
          -0.5680156125000212,
          -0.5566156125000089,
          -0.5184256125000138,
          -0.48327561250001966,
          -0.3861856125000122,
          -0.6609256125000138,
          -0.7352156125000147,
          -0.6436356125000202,
          -0.6483856125000238,
          -0.7337640300000384,
          -0.7234240300000238,
          -0.6519240300000274,
          -0.7634640300000501,
          -0.6732640300000458,
          -0.9412240300000303,
          -0.9009640300000501,
          -1.0023197277500366,
          -1.0045297277500504,
          -1.1402237277500535,
          -1.0991177277500537,
          -1.1377927277500566,
          -1.147958727750047,
          -1.1536845062500651,
          -1.2089534010000715,
          -1.4515602710000894,
          -1.465640271000084,
          -1.5404402710000795,
          -1.721940271000076,
          -1.557600271000083,
          -1.3435402710000925,
          -1.3389202710000792,
          -1.2929402710000795,
          -1.0265202710000814,
          -1.062600271000083,
          -1.2443202710000878,
          -1.1730402710000818,
          -0.9055202710000958,
          -0.9176202710000871,
          -1.072500271000099,
          -1.0780002710000918,
          -1.1310202710000885,
          -1.2498202710000805,
          -0.6296402710000802,
          -0.4910402710000926,
          -0.31284027100007733,
          -0.44308027100008984,
          -0.5405402710000817,
          -0.5788202710000951,
          -0.6063202710000951,
          -0.4615602710000894,
          -0.29920027100008156,
          -0.37136027100008506,
          -0.21692027100009,
          -0.4589202710000791,
          -0.5522002710000925,
          -0.49324027100008605,
          -0.3643202710000878,
          -0.23254027100008898,
          -0.39688027100010004,
          -0.5308602710000742,
          -0.6100602710000749,
          -0.5575217625000914,
          -0.39881776250007533,
          -0.4530997625000782,
          -0.32099176250008893,
          -0.30638576250008553,
          -0.49778976250008783,
          -0.4003437625000879,
          -0.49015976250007953,
          -0.41385976250008755,
          -0.31336176250008063,
          -0.2259437625000828,
          -0.2915617625000959,
          -0.08751376250009343,
          -0.12370176250009536,
          -0.29112576250008715,
          -0.3920597625000846,
          -0.3113997625000775,
          -0.2047977625000749,
          -0.25406576250008583,
          -0.1882297625000865,
          -0.07813976250008636,
          0,
          0,
          0,
          -0.19249399999998787,
          -0.10442199999999502,
          -0.3923999999999978,
          -0.4159439999999995,
          -0.3341939999999886,
          -0.2814379999999983,
          -0.22170599999999469,
          -0.39087399999998523,
          -0.4440660000000025,
          -0.8222805762500138,
          -0.9709815762499966,
          -1.107418576250002,
          -1.276705576250006,
          -1.4183985762500015,
          -1.5421534110000175,
          -1.7491734110000108,
          -1.8222134110000114,
          -1.9159334110000237,
          -2.066193411000022,
          -2.1075834272500105,
          -2.101013427250018,
          -2.054585427250022,
          -1.9065414272500312,
          -1.7828064272500341,
          -1.8447834272500223,
          -1.8336144272500314,
          -1.8460974272500243,
          -1.8504774272500253,
          -1.6825044272500236,
          -1.5631494272500277,
          -1.8066774272500334,
          -1.80842942725003,
          -1.8616464272500344,
          -2.1117444272500143,
          -2.577782404500031,
          -2.6807324045000316,
          -2.484460404500023,
          -2.474774404500022,
          -2.5270324045000234,
          -2.483822404500024,
          -2.5095744045000354,
          -2.4389304045000246,
          -2.28842040450003,
          -2.442932404500025,
          -2.3806404045000273,
          -2.4275624045000224,
          -2.4944944045000192,
          -2.5394444045000273,
          -2.508704404500022,
          -2.611169479000018,
          -2.862849479000033,
          -2.6991694790000293,
          -3.0432494790000235,
          -3.0643694790000335,
          -3.337801651750033,
          -3.216068651750029,
          -3.6250736517500446,
          -3.6895906517500223,
          -3.5405906517500263,
          -3.698381651750042,
          -4.025763472000035,
          -4.22882347200004,
          -4.133563472000041,
          -4.193403472000045,
          -4.183063472000049,
          -4.391843472000037,
          -4.349383472000045,
          -4.521863472000041,
          -4.479623472000039,
          -4.824084982750046,
          -4.79421698275004,
          -4.81730198275005,
          -4.775463982750043,
          -4.775805982750044,
          -4.763265982750053,
          -4.83582698275004,
          -4.787148982750041,
          -4.792848982750056,
          -4.772328982750041,
          -4.8657519827500435,
          -4.852014982750043,
          -4.977944039500053,
          -5.073424039500059,
          -5.320484039500061,
          -5.109724039500052,
          -5.23248403950005,
          -5.1506440395000395,
          -5.008964039500042,
          -5.227204039500048,
          -5.210704039500051,
          -5.2421640395000395,
          -5.621954352000048,
          -5.592494352000049,
          -5.626934352000044,
          -5.628824352000047,
          -5.618834352000049,
          -5.6391143520000515,
          -5.608844352000051,
          -5.643854352000053,
          -5.654084352000045,
          -5.666054352000047,
          -5.717517564750051,
          -5.661162564750048,
          -5.8779635647500434,
          -6.032221564750053,
          -6.07288556475005,
          -6.312706332500056,
          -6.310714332500047,
          -6.311218332500048,
          -6.311782332500061,
          -6.305590332500051,
          -6.30403033250006,
          -6.292714332500054,
          -6.3126583325000505,
          -6.3235903325000615,
          -6.3222703325000476,
          -6.307978332500061,
          -6.37586197100005,
          -6.445569971000059,
          -6.362763971000058,
          -6.1276659710000425,
          -6.152973971000047,
          -5.974485971000049,
          -6.0286539710000575,
          -5.679447971000045,
          -5.889459971000069,
          -5.786673971000055,
          -6.099693971000051,
          -6.099693971000051,
          -6.29727397100005,
          -6.278181971000049,
          -6.457966259000059,
          -6.42091625900006,
          -6.447886259000061,
          -6.442936259000071,
          -6.455356259000054,
          -6.438496259000058,
          -6.439336259000065,
          -6.435016259000058,
          -6.426706259000057,
          -6.4452462590000685,
          -6.460036259000062,
          -6.479086259000069,
          -6.486676259000069,
          -6.487126259000069,
          -6.449866259000064,
          -6.451036259000066
         ],
         "yaxis": "y2"
        }
       ],
       "layout": {
        "dragmode": "zoom",
        "height": 500,
        "hoverdistance": 1000,
        "hovermode": "x unified",
        "margin": {
         "b": 5,
         "l": 5,
         "r": 5,
         "t": 35
        },
        "modebar": {
         "add": [
          "drawline",
          "drawopenpath",
          "drawrect",
          "eraseshape"
         ]
        },
        "newshape": {
         "line": {
          "color": "yellow",
          "width": 1
         }
        },
        "showlegend": false,
        "template": {
         "data": {
          "bar": [
           {
            "error_x": {
             "color": "#f2f5fa"
            },
            "error_y": {
             "color": "#f2f5fa"
            },
            "marker": {
             "line": {
              "color": "rgb(17,17,17)",
              "width": 0.5
             },
             "pattern": {
              "fillmode": "overlay",
              "size": 10,
              "solidity": 0.2
             }
            },
            "type": "bar"
           }
          ],
          "barpolar": [
           {
            "marker": {
             "line": {
              "color": "rgb(17,17,17)",
              "width": 0.5
             },
             "pattern": {
              "fillmode": "overlay",
              "size": 10,
              "solidity": 0.2
             }
            },
            "type": "barpolar"
           }
          ],
          "carpet": [
           {
            "aaxis": {
             "endlinecolor": "#A2B1C6",
             "gridcolor": "#506784",
             "linecolor": "#506784",
             "minorgridcolor": "#506784",
             "startlinecolor": "#A2B1C6"
            },
            "baxis": {
             "endlinecolor": "#A2B1C6",
             "gridcolor": "#506784",
             "linecolor": "#506784",
             "minorgridcolor": "#506784",
             "startlinecolor": "#A2B1C6"
            },
            "type": "carpet"
           }
          ],
          "choropleth": [
           {
            "colorbar": {
             "outlinewidth": 0,
             "ticks": ""
            },
            "type": "choropleth"
           }
          ],
          "contour": [
           {
            "colorbar": {
             "outlinewidth": 0,
             "ticks": ""
            },
            "colorscale": [
             [
              0,
              "#0d0887"
             ],
             [
              0.1111111111111111,
              "#46039f"
             ],
             [
              0.2222222222222222,
              "#7201a8"
             ],
             [
              0.3333333333333333,
              "#9c179e"
             ],
             [
              0.4444444444444444,
              "#bd3786"
             ],
             [
              0.5555555555555556,
              "#d8576b"
             ],
             [
              0.6666666666666666,
              "#ed7953"
             ],
             [
              0.7777777777777778,
              "#fb9f3a"
             ],
             [
              0.8888888888888888,
              "#fdca26"
             ],
             [
              1,
              "#f0f921"
             ]
            ],
            "type": "contour"
           }
          ],
          "contourcarpet": [
           {
            "colorbar": {
             "outlinewidth": 0,
             "ticks": ""
            },
            "type": "contourcarpet"
           }
          ],
          "heatmap": [
           {
            "colorbar": {
             "outlinewidth": 0,
             "ticks": ""
            },
            "colorscale": [
             [
              0,
              "#0d0887"
             ],
             [
              0.1111111111111111,
              "#46039f"
             ],
             [
              0.2222222222222222,
              "#7201a8"
             ],
             [
              0.3333333333333333,
              "#9c179e"
             ],
             [
              0.4444444444444444,
              "#bd3786"
             ],
             [
              0.5555555555555556,
              "#d8576b"
             ],
             [
              0.6666666666666666,
              "#ed7953"
             ],
             [
              0.7777777777777778,
              "#fb9f3a"
             ],
             [
              0.8888888888888888,
              "#fdca26"
             ],
             [
              1,
              "#f0f921"
             ]
            ],
            "type": "heatmap"
           }
          ],
          "heatmapgl": [
           {
            "colorbar": {
             "outlinewidth": 0,
             "ticks": ""
            },
            "colorscale": [
             [
              0,
              "#0d0887"
             ],
             [
              0.1111111111111111,
              "#46039f"
             ],
             [
              0.2222222222222222,
              "#7201a8"
             ],
             [
              0.3333333333333333,
              "#9c179e"
             ],
             [
              0.4444444444444444,
              "#bd3786"
             ],
             [
              0.5555555555555556,
              "#d8576b"
             ],
             [
              0.6666666666666666,
              "#ed7953"
             ],
             [
              0.7777777777777778,
              "#fb9f3a"
             ],
             [
              0.8888888888888888,
              "#fdca26"
             ],
             [
              1,
              "#f0f921"
             ]
            ],
            "type": "heatmapgl"
           }
          ],
          "histogram": [
           {
            "marker": {
             "pattern": {
              "fillmode": "overlay",
              "size": 10,
              "solidity": 0.2
             }
            },
            "type": "histogram"
           }
          ],
          "histogram2d": [
           {
            "colorbar": {
             "outlinewidth": 0,
             "ticks": ""
            },
            "colorscale": [
             [
              0,
              "#0d0887"
             ],
             [
              0.1111111111111111,
              "#46039f"
             ],
             [
              0.2222222222222222,
              "#7201a8"
             ],
             [
              0.3333333333333333,
              "#9c179e"
             ],
             [
              0.4444444444444444,
              "#bd3786"
             ],
             [
              0.5555555555555556,
              "#d8576b"
             ],
             [
              0.6666666666666666,
              "#ed7953"
             ],
             [
              0.7777777777777778,
              "#fb9f3a"
             ],
             [
              0.8888888888888888,
              "#fdca26"
             ],
             [
              1,
              "#f0f921"
             ]
            ],
            "type": "histogram2d"
           }
          ],
          "histogram2dcontour": [
           {
            "colorbar": {
             "outlinewidth": 0,
             "ticks": ""
            },
            "colorscale": [
             [
              0,
              "#0d0887"
             ],
             [
              0.1111111111111111,
              "#46039f"
             ],
             [
              0.2222222222222222,
              "#7201a8"
             ],
             [
              0.3333333333333333,
              "#9c179e"
             ],
             [
              0.4444444444444444,
              "#bd3786"
             ],
             [
              0.5555555555555556,
              "#d8576b"
             ],
             [
              0.6666666666666666,
              "#ed7953"
             ],
             [
              0.7777777777777778,
              "#fb9f3a"
             ],
             [
              0.8888888888888888,
              "#fdca26"
             ],
             [
              1,
              "#f0f921"
             ]
            ],
            "type": "histogram2dcontour"
           }
          ],
          "mesh3d": [
           {
            "colorbar": {
             "outlinewidth": 0,
             "ticks": ""
            },
            "type": "mesh3d"
           }
          ],
          "parcoords": [
           {
            "line": {
             "colorbar": {
              "outlinewidth": 0,
              "ticks": ""
             }
            },
            "type": "parcoords"
           }
          ],
          "pie": [
           {
            "automargin": true,
            "type": "pie"
           }
          ],
          "scatter": [
           {
            "marker": {
             "line": {
              "color": "#283442"
             }
            },
            "type": "scatter"
           }
          ],
          "scatter3d": [
           {
            "line": {
             "colorbar": {
              "outlinewidth": 0,
              "ticks": ""
             }
            },
            "marker": {
             "colorbar": {
              "outlinewidth": 0,
              "ticks": ""
             }
            },
            "type": "scatter3d"
           }
          ],
          "scattercarpet": [
           {
            "marker": {
             "colorbar": {
              "outlinewidth": 0,
              "ticks": ""
             }
            },
            "type": "scattercarpet"
           }
          ],
          "scattergeo": [
           {
            "marker": {
             "colorbar": {
              "outlinewidth": 0,
              "ticks": ""
             }
            },
            "type": "scattergeo"
           }
          ],
          "scattergl": [
           {
            "marker": {
             "line": {
              "color": "#283442"
             }
            },
            "type": "scattergl"
           }
          ],
          "scattermapbox": [
           {
            "marker": {
             "colorbar": {
              "outlinewidth": 0,
              "ticks": ""
             }
            },
            "type": "scattermapbox"
           }
          ],
          "scatterpolar": [
           {
            "marker": {
             "colorbar": {
              "outlinewidth": 0,
              "ticks": ""
             }
            },
            "type": "scatterpolar"
           }
          ],
          "scatterpolargl": [
           {
            "marker": {
             "colorbar": {
              "outlinewidth": 0,
              "ticks": ""
             }
            },
            "type": "scatterpolargl"
           }
          ],
          "scatterternary": [
           {
            "marker": {
             "colorbar": {
              "outlinewidth": 0,
              "ticks": ""
             }
            },
            "type": "scatterternary"
           }
          ],
          "surface": [
           {
            "colorbar": {
             "outlinewidth": 0,
             "ticks": ""
            },
            "colorscale": [
             [
              0,
              "#0d0887"
             ],
             [
              0.1111111111111111,
              "#46039f"
             ],
             [
              0.2222222222222222,
              "#7201a8"
             ],
             [
              0.3333333333333333,
              "#9c179e"
             ],
             [
              0.4444444444444444,
              "#bd3786"
             ],
             [
              0.5555555555555556,
              "#d8576b"
             ],
             [
              0.6666666666666666,
              "#ed7953"
             ],
             [
              0.7777777777777778,
              "#fb9f3a"
             ],
             [
              0.8888888888888888,
              "#fdca26"
             ],
             [
              1,
              "#f0f921"
             ]
            ],
            "type": "surface"
           }
          ],
          "table": [
           {
            "cells": {
             "fill": {
              "color": "#506784"
             },
             "line": {
              "color": "rgb(17,17,17)"
             }
            },
            "header": {
             "fill": {
              "color": "#2a3f5f"
             },
             "line": {
              "color": "rgb(17,17,17)"
             }
            },
            "type": "table"
           }
          ]
         },
         "layout": {
          "annotationdefaults": {
           "arrowcolor": "#f2f5fa",
           "arrowhead": 0,
           "arrowwidth": 1
          },
          "autotypenumbers": "strict",
          "coloraxis": {
           "colorbar": {
            "outlinewidth": 0,
            "ticks": ""
           }
          },
          "colorscale": {
           "diverging": [
            [
             0,
             "#8e0152"
            ],
            [
             0.1,
             "#c51b7d"
            ],
            [
             0.2,
             "#de77ae"
            ],
            [
             0.3,
             "#f1b6da"
            ],
            [
             0.4,
             "#fde0ef"
            ],
            [
             0.5,
             "#f7f7f7"
            ],
            [
             0.6,
             "#e6f5d0"
            ],
            [
             0.7,
             "#b8e186"
            ],
            [
             0.8,
             "#7fbc41"
            ],
            [
             0.9,
             "#4d9221"
            ],
            [
             1,
             "#276419"
            ]
           ],
           "sequential": [
            [
             0,
             "#0d0887"
            ],
            [
             0.1111111111111111,
             "#46039f"
            ],
            [
             0.2222222222222222,
             "#7201a8"
            ],
            [
             0.3333333333333333,
             "#9c179e"
            ],
            [
             0.4444444444444444,
             "#bd3786"
            ],
            [
             0.5555555555555556,
             "#d8576b"
            ],
            [
             0.6666666666666666,
             "#ed7953"
            ],
            [
             0.7777777777777778,
             "#fb9f3a"
            ],
            [
             0.8888888888888888,
             "#fdca26"
            ],
            [
             1,
             "#f0f921"
            ]
           ],
           "sequentialminus": [
            [
             0,
             "#0d0887"
            ],
            [
             0.1111111111111111,
             "#46039f"
            ],
            [
             0.2222222222222222,
             "#7201a8"
            ],
            [
             0.3333333333333333,
             "#9c179e"
            ],
            [
             0.4444444444444444,
             "#bd3786"
            ],
            [
             0.5555555555555556,
             "#d8576b"
            ],
            [
             0.6666666666666666,
             "#ed7953"
            ],
            [
             0.7777777777777778,
             "#fb9f3a"
            ],
            [
             0.8888888888888888,
             "#fdca26"
            ],
            [
             1,
             "#f0f921"
            ]
           ]
          },
          "colorway": [
           "#636efa",
           "#EF553B",
           "#00cc96",
           "#ab63fa",
           "#FFA15A",
           "#19d3f3",
           "#FF6692",
           "#B6E880",
           "#FF97FF",
           "#FECB52"
          ],
          "font": {
           "color": "#f2f5fa"
          },
          "geo": {
           "bgcolor": "rgb(17,17,17)",
           "lakecolor": "rgb(17,17,17)",
           "landcolor": "rgb(17,17,17)",
           "showlakes": true,
           "showland": true,
           "subunitcolor": "#506784"
          },
          "hoverlabel": {
           "align": "left"
          },
          "hovermode": "closest",
          "mapbox": {
           "style": "dark"
          },
          "paper_bgcolor": "rgb(17,17,17)",
          "plot_bgcolor": "rgb(17,17,17)",
          "polar": {
           "angularaxis": {
            "gridcolor": "#506784",
            "linecolor": "#506784",
            "ticks": ""
           },
           "bgcolor": "rgb(17,17,17)",
           "radialaxis": {
            "gridcolor": "#506784",
            "linecolor": "#506784",
            "ticks": ""
           }
          },
          "scene": {
           "xaxis": {
            "backgroundcolor": "rgb(17,17,17)",
            "gridcolor": "#506784",
            "gridwidth": 2,
            "linecolor": "#506784",
            "showbackground": true,
            "ticks": "",
            "zerolinecolor": "#C8D4E3"
           },
           "yaxis": {
            "backgroundcolor": "rgb(17,17,17)",
            "gridcolor": "#506784",
            "gridwidth": 2,
            "linecolor": "#506784",
            "showbackground": true,
            "ticks": "",
            "zerolinecolor": "#C8D4E3"
           },
           "zaxis": {
            "backgroundcolor": "rgb(17,17,17)",
            "gridcolor": "#506784",
            "gridwidth": 2,
            "linecolor": "#506784",
            "showbackground": true,
            "ticks": "",
            "zerolinecolor": "#C8D4E3"
           }
          },
          "shapedefaults": {
           "line": {
            "color": "#f2f5fa"
           }
          },
          "sliderdefaults": {
           "bgcolor": "#C8D4E3",
           "bordercolor": "rgb(17,17,17)",
           "borderwidth": 1,
           "tickwidth": 0
          },
          "ternary": {
           "aaxis": {
            "gridcolor": "#506784",
            "linecolor": "#506784",
            "ticks": ""
           },
           "baxis": {
            "gridcolor": "#506784",
            "linecolor": "#506784",
            "ticks": ""
           },
           "bgcolor": "rgb(17,17,17)",
           "caxis": {
            "gridcolor": "#506784",
            "linecolor": "#506784",
            "ticks": ""
           }
          },
          "title": {
           "x": 0.05
          },
          "updatemenudefaults": {
           "bgcolor": "#506784",
           "borderwidth": 0
          },
          "xaxis": {
           "automargin": true,
           "gridcolor": "#283442",
           "linecolor": "#506784",
           "ticks": "",
           "title": {
            "standoff": 15
           },
           "zerolinecolor": "#283442",
           "zerolinewidth": 2
          },
          "yaxis": {
           "automargin": true,
           "gridcolor": "#283442",
           "linecolor": "#506784",
           "ticks": "",
           "title": {
            "standoff": 15
           },
           "zerolinecolor": "#283442",
           "zerolinewidth": 2
          }
         }
        },
        "title": {
         "text": " Simulation: /As Strategy",
         "x": 0.5,
         "xanchor": "center",
         "y": 0.9,
         "yanchor": "top"
        },
        "xaxis": {
         "anchor": "y",
         "domain": [
          0,
          1
         ],
         "hoverformat": "%d-%b-%y %H:%M",
         "matches": "x2",
         "rangeslider": {
          "visible": false
         },
         "showspikes": true,
         "showticklabels": false,
         "spikecolor": "#306020",
         "spikedash": "dot",
         "spikemode": "across",
         "spikesnap": "cursor",
         "spikethickness": 1
        },
        "xaxis2": {
         "anchor": "y2",
         "domain": [
          0,
          1
         ],
         "showspikes": true,
         "spikecolor": "#306020",
         "spikedash": "dot",
         "spikemode": "across",
         "spikesnap": "cursor",
         "spikethickness": 1
        },
        "yaxis": {
         "anchor": "x",
         "domain": [
          0.16631578947368428,
          1
         ],
         "hoverformat": ".2f",
         "spikecolor": "#306020",
         "spikesnap": "cursor",
         "spikethickness": 1,
         "tickformat": ".2f"
        },
        "yaxis2": {
         "anchor": "x2",
         "domain": [
          0,
          0.15631578947368427
         ],
         "range": [
          -6.130667436571789,
          0
         ],
         "spikecolor": "#306020",
         "spikesnap": "cursor",
         "spikethickness": 1,
         "tickformat": ".2f"
        }
       }
      }
     },
     "metadata": {},
     "output_type": "display_data"
    },
    {
     "data": {
      "application/vnd.plotly.v1+json": {
       "config": {
        "plotlyServerURL": "https://plot.ly"
       },
       "data": [
        {
         "cells": {
          "align": [
           "center",
           "left"
          ],
          "fill": {
           "color": "#101010"
          },
          "font": {
           "size": 10
          },
          "line": {
           "color": "darkslategray"
          },
          "values": [
           -63.668,
           -0.54,
           -1.105,
           0.103,
           6.131,
           648.713,
           -2.123,
           -15.974,
           0.84,
           0.75,
           436.403,
           -0.18,
           285.708,
           39
          ]
         },
         "columnwidth": [
          130,
          130,
          130,
          130,
          200
         ],
         "header": {
          "fill": {
           "color": "#303030"
          },
          "font": {
           "color": "white",
           "size": 11
          },
          "line": {
           "color": "darkslategray"
          },
          "values": [
           "Gain",
           "Cagr",
           "Sharpe",
           "Qr",
           "Max dd pct",
           "Mdd usd",
           "Sortino",
           "Calmar",
           "Tail ratio",
           "Stability",
           "Var",
           "Avg return",
           "Fees",
           "Execs"
          ]
         },
         "type": "table",
         "uid": "f41866d8-a732-4126-b835-babde33eadc9"
        }
       ],
       "layout": {
        "height": 80,
        "margin": {
         "b": 1,
         "l": 5,
         "r": 5,
         "t": 0
        },
        "template": {
         "data": {
          "bar": [
           {
            "error_x": {
             "color": "#f2f5fa"
            },
            "error_y": {
             "color": "#f2f5fa"
            },
            "marker": {
             "line": {
              "color": "rgb(17,17,17)",
              "width": 0.5
             },
             "pattern": {
              "fillmode": "overlay",
              "size": 10,
              "solidity": 0.2
             }
            },
            "type": "bar"
           }
          ],
          "barpolar": [
           {
            "marker": {
             "line": {
              "color": "rgb(17,17,17)",
              "width": 0.5
             },
             "pattern": {
              "fillmode": "overlay",
              "size": 10,
              "solidity": 0.2
             }
            },
            "type": "barpolar"
           }
          ],
          "carpet": [
           {
            "aaxis": {
             "endlinecolor": "#A2B1C6",
             "gridcolor": "#506784",
             "linecolor": "#506784",
             "minorgridcolor": "#506784",
             "startlinecolor": "#A2B1C6"
            },
            "baxis": {
             "endlinecolor": "#A2B1C6",
             "gridcolor": "#506784",
             "linecolor": "#506784",
             "minorgridcolor": "#506784",
             "startlinecolor": "#A2B1C6"
            },
            "type": "carpet"
           }
          ],
          "choropleth": [
           {
            "colorbar": {
             "outlinewidth": 0,
             "ticks": ""
            },
            "type": "choropleth"
           }
          ],
          "contour": [
           {
            "colorbar": {
             "outlinewidth": 0,
             "ticks": ""
            },
            "colorscale": [
             [
              0,
              "#0d0887"
             ],
             [
              0.1111111111111111,
              "#46039f"
             ],
             [
              0.2222222222222222,
              "#7201a8"
             ],
             [
              0.3333333333333333,
              "#9c179e"
             ],
             [
              0.4444444444444444,
              "#bd3786"
             ],
             [
              0.5555555555555556,
              "#d8576b"
             ],
             [
              0.6666666666666666,
              "#ed7953"
             ],
             [
              0.7777777777777778,
              "#fb9f3a"
             ],
             [
              0.8888888888888888,
              "#fdca26"
             ],
             [
              1,
              "#f0f921"
             ]
            ],
            "type": "contour"
           }
          ],
          "contourcarpet": [
           {
            "colorbar": {
             "outlinewidth": 0,
             "ticks": ""
            },
            "type": "contourcarpet"
           }
          ],
          "heatmap": [
           {
            "colorbar": {
             "outlinewidth": 0,
             "ticks": ""
            },
            "colorscale": [
             [
              0,
              "#0d0887"
             ],
             [
              0.1111111111111111,
              "#46039f"
             ],
             [
              0.2222222222222222,
              "#7201a8"
             ],
             [
              0.3333333333333333,
              "#9c179e"
             ],
             [
              0.4444444444444444,
              "#bd3786"
             ],
             [
              0.5555555555555556,
              "#d8576b"
             ],
             [
              0.6666666666666666,
              "#ed7953"
             ],
             [
              0.7777777777777778,
              "#fb9f3a"
             ],
             [
              0.8888888888888888,
              "#fdca26"
             ],
             [
              1,
              "#f0f921"
             ]
            ],
            "type": "heatmap"
           }
          ],
          "heatmapgl": [
           {
            "colorbar": {
             "outlinewidth": 0,
             "ticks": ""
            },
            "colorscale": [
             [
              0,
              "#0d0887"
             ],
             [
              0.1111111111111111,
              "#46039f"
             ],
             [
              0.2222222222222222,
              "#7201a8"
             ],
             [
              0.3333333333333333,
              "#9c179e"
             ],
             [
              0.4444444444444444,
              "#bd3786"
             ],
             [
              0.5555555555555556,
              "#d8576b"
             ],
             [
              0.6666666666666666,
              "#ed7953"
             ],
             [
              0.7777777777777778,
              "#fb9f3a"
             ],
             [
              0.8888888888888888,
              "#fdca26"
             ],
             [
              1,
              "#f0f921"
             ]
            ],
            "type": "heatmapgl"
           }
          ],
          "histogram": [
           {
            "marker": {
             "pattern": {
              "fillmode": "overlay",
              "size": 10,
              "solidity": 0.2
             }
            },
            "type": "histogram"
           }
          ],
          "histogram2d": [
           {
            "colorbar": {
             "outlinewidth": 0,
             "ticks": ""
            },
            "colorscale": [
             [
              0,
              "#0d0887"
             ],
             [
              0.1111111111111111,
              "#46039f"
             ],
             [
              0.2222222222222222,
              "#7201a8"
             ],
             [
              0.3333333333333333,
              "#9c179e"
             ],
             [
              0.4444444444444444,
              "#bd3786"
             ],
             [
              0.5555555555555556,
              "#d8576b"
             ],
             [
              0.6666666666666666,
              "#ed7953"
             ],
             [
              0.7777777777777778,
              "#fb9f3a"
             ],
             [
              0.8888888888888888,
              "#fdca26"
             ],
             [
              1,
              "#f0f921"
             ]
            ],
            "type": "histogram2d"
           }
          ],
          "histogram2dcontour": [
           {
            "colorbar": {
             "outlinewidth": 0,
             "ticks": ""
            },
            "colorscale": [
             [
              0,
              "#0d0887"
             ],
             [
              0.1111111111111111,
              "#46039f"
             ],
             [
              0.2222222222222222,
              "#7201a8"
             ],
             [
              0.3333333333333333,
              "#9c179e"
             ],
             [
              0.4444444444444444,
              "#bd3786"
             ],
             [
              0.5555555555555556,
              "#d8576b"
             ],
             [
              0.6666666666666666,
              "#ed7953"
             ],
             [
              0.7777777777777778,
              "#fb9f3a"
             ],
             [
              0.8888888888888888,
              "#fdca26"
             ],
             [
              1,
              "#f0f921"
             ]
            ],
            "type": "histogram2dcontour"
           }
          ],
          "mesh3d": [
           {
            "colorbar": {
             "outlinewidth": 0,
             "ticks": ""
            },
            "type": "mesh3d"
           }
          ],
          "parcoords": [
           {
            "line": {
             "colorbar": {
              "outlinewidth": 0,
              "ticks": ""
             }
            },
            "type": "parcoords"
           }
          ],
          "pie": [
           {
            "automargin": true,
            "type": "pie"
           }
          ],
          "scatter": [
           {
            "marker": {
             "line": {
              "color": "#283442"
             }
            },
            "type": "scatter"
           }
          ],
          "scatter3d": [
           {
            "line": {
             "colorbar": {
              "outlinewidth": 0,
              "ticks": ""
             }
            },
            "marker": {
             "colorbar": {
              "outlinewidth": 0,
              "ticks": ""
             }
            },
            "type": "scatter3d"
           }
          ],
          "scattercarpet": [
           {
            "marker": {
             "colorbar": {
              "outlinewidth": 0,
              "ticks": ""
             }
            },
            "type": "scattercarpet"
           }
          ],
          "scattergeo": [
           {
            "marker": {
             "colorbar": {
              "outlinewidth": 0,
              "ticks": ""
             }
            },
            "type": "scattergeo"
           }
          ],
          "scattergl": [
           {
            "marker": {
             "line": {
              "color": "#283442"
             }
            },
            "type": "scattergl"
           }
          ],
          "scattermapbox": [
           {
            "marker": {
             "colorbar": {
              "outlinewidth": 0,
              "ticks": ""
             }
            },
            "type": "scattermapbox"
           }
          ],
          "scatterpolar": [
           {
            "marker": {
             "colorbar": {
              "outlinewidth": 0,
              "ticks": ""
             }
            },
            "type": "scatterpolar"
           }
          ],
          "scatterpolargl": [
           {
            "marker": {
             "colorbar": {
              "outlinewidth": 0,
              "ticks": ""
             }
            },
            "type": "scatterpolargl"
           }
          ],
          "scatterternary": [
           {
            "marker": {
             "colorbar": {
              "outlinewidth": 0,
              "ticks": ""
             }
            },
            "type": "scatterternary"
           }
          ],
          "surface": [
           {
            "colorbar": {
             "outlinewidth": 0,
             "ticks": ""
            },
            "colorscale": [
             [
              0,
              "#0d0887"
             ],
             [
              0.1111111111111111,
              "#46039f"
             ],
             [
              0.2222222222222222,
              "#7201a8"
             ],
             [
              0.3333333333333333,
              "#9c179e"
             ],
             [
              0.4444444444444444,
              "#bd3786"
             ],
             [
              0.5555555555555556,
              "#d8576b"
             ],
             [
              0.6666666666666666,
              "#ed7953"
             ],
             [
              0.7777777777777778,
              "#fb9f3a"
             ],
             [
              0.8888888888888888,
              "#fdca26"
             ],
             [
              1,
              "#f0f921"
             ]
            ],
            "type": "surface"
           }
          ],
          "table": [
           {
            "cells": {
             "fill": {
              "color": "#506784"
             },
             "line": {
              "color": "rgb(17,17,17)"
             }
            },
            "header": {
             "fill": {
              "color": "#2a3f5f"
             },
             "line": {
              "color": "rgb(17,17,17)"
             }
            },
            "type": "table"
           }
          ]
         },
         "layout": {
          "annotationdefaults": {
           "arrowcolor": "#f2f5fa",
           "arrowhead": 0,
           "arrowwidth": 1
          },
          "autotypenumbers": "strict",
          "coloraxis": {
           "colorbar": {
            "outlinewidth": 0,
            "ticks": ""
           }
          },
          "colorscale": {
           "diverging": [
            [
             0,
             "#8e0152"
            ],
            [
             0.1,
             "#c51b7d"
            ],
            [
             0.2,
             "#de77ae"
            ],
            [
             0.3,
             "#f1b6da"
            ],
            [
             0.4,
             "#fde0ef"
            ],
            [
             0.5,
             "#f7f7f7"
            ],
            [
             0.6,
             "#e6f5d0"
            ],
            [
             0.7,
             "#b8e186"
            ],
            [
             0.8,
             "#7fbc41"
            ],
            [
             0.9,
             "#4d9221"
            ],
            [
             1,
             "#276419"
            ]
           ],
           "sequential": [
            [
             0,
             "#0d0887"
            ],
            [
             0.1111111111111111,
             "#46039f"
            ],
            [
             0.2222222222222222,
             "#7201a8"
            ],
            [
             0.3333333333333333,
             "#9c179e"
            ],
            [
             0.4444444444444444,
             "#bd3786"
            ],
            [
             0.5555555555555556,
             "#d8576b"
            ],
            [
             0.6666666666666666,
             "#ed7953"
            ],
            [
             0.7777777777777778,
             "#fb9f3a"
            ],
            [
             0.8888888888888888,
             "#fdca26"
            ],
            [
             1,
             "#f0f921"
            ]
           ],
           "sequentialminus": [
            [
             0,
             "#0d0887"
            ],
            [
             0.1111111111111111,
             "#46039f"
            ],
            [
             0.2222222222222222,
             "#7201a8"
            ],
            [
             0.3333333333333333,
             "#9c179e"
            ],
            [
             0.4444444444444444,
             "#bd3786"
            ],
            [
             0.5555555555555556,
             "#d8576b"
            ],
            [
             0.6666666666666666,
             "#ed7953"
            ],
            [
             0.7777777777777778,
             "#fb9f3a"
            ],
            [
             0.8888888888888888,
             "#fdca26"
            ],
            [
             1,
             "#f0f921"
            ]
           ]
          },
          "colorway": [
           "#636efa",
           "#EF553B",
           "#00cc96",
           "#ab63fa",
           "#FFA15A",
           "#19d3f3",
           "#FF6692",
           "#B6E880",
           "#FF97FF",
           "#FECB52"
          ],
          "font": {
           "color": "#f2f5fa"
          },
          "geo": {
           "bgcolor": "rgb(17,17,17)",
           "lakecolor": "rgb(17,17,17)",
           "landcolor": "rgb(17,17,17)",
           "showlakes": true,
           "showland": true,
           "subunitcolor": "#506784"
          },
          "hoverlabel": {
           "align": "left"
          },
          "hovermode": "closest",
          "mapbox": {
           "style": "dark"
          },
          "paper_bgcolor": "rgb(17,17,17)",
          "plot_bgcolor": "rgb(17,17,17)",
          "polar": {
           "angularaxis": {
            "gridcolor": "#506784",
            "linecolor": "#506784",
            "ticks": ""
           },
           "bgcolor": "rgb(17,17,17)",
           "radialaxis": {
            "gridcolor": "#506784",
            "linecolor": "#506784",
            "ticks": ""
           }
          },
          "scene": {
           "xaxis": {
            "backgroundcolor": "rgb(17,17,17)",
            "gridcolor": "#506784",
            "gridwidth": 2,
            "linecolor": "#506784",
            "showbackground": true,
            "ticks": "",
            "zerolinecolor": "#C8D4E3"
           },
           "yaxis": {
            "backgroundcolor": "rgb(17,17,17)",
            "gridcolor": "#506784",
            "gridwidth": 2,
            "linecolor": "#506784",
            "showbackground": true,
            "ticks": "",
            "zerolinecolor": "#C8D4E3"
           },
           "zaxis": {
            "backgroundcolor": "rgb(17,17,17)",
            "gridcolor": "#506784",
            "gridwidth": 2,
            "linecolor": "#506784",
            "showbackground": true,
            "ticks": "",
            "zerolinecolor": "#C8D4E3"
           }
          },
          "shapedefaults": {
           "line": {
            "color": "#f2f5fa"
           }
          },
          "sliderdefaults": {
           "bgcolor": "#C8D4E3",
           "bordercolor": "rgb(17,17,17)",
           "borderwidth": 1,
           "tickwidth": 0
          },
          "ternary": {
           "aaxis": {
            "gridcolor": "#506784",
            "linecolor": "#506784",
            "ticks": ""
           },
           "baxis": {
            "gridcolor": "#506784",
            "linecolor": "#506784",
            "ticks": ""
           },
           "bgcolor": "rgb(17,17,17)",
           "caxis": {
            "gridcolor": "#506784",
            "linecolor": "#506784",
            "ticks": ""
           }
          },
          "title": {
           "x": 0.05
          },
          "updatemenudefaults": {
           "bgcolor": "#506784",
           "borderwidth": 0
          },
          "xaxis": {
           "automargin": true,
           "gridcolor": "#283442",
           "linecolor": "#506784",
           "ticks": "",
           "title": {
            "standoff": 15
           },
           "zerolinecolor": "#283442",
           "zerolinewidth": 2
          },
          "yaxis": {
           "automargin": true,
           "gridcolor": "#283442",
           "linecolor": "#506784",
           "ticks": "",
           "title": {
            "standoff": 15
           },
           "zerolinecolor": "#283442",
           "zerolinewidth": 2
          }
         }
        }
       }
      }
     },
     "metadata": {},
     "output_type": "display_data"
    }
   ],
   "source": [
    "tearsheet(rep)"
   ]
  },
  {
   "cell_type": "code",
   "execution_count": 60,
   "metadata": {},
   "outputs": [
    {
     "data": {
      "text/html": [
       "<div>\n",
       "<style scoped>\n",
       "    .dataframe tbody tr th:only-of-type {\n",
       "        vertical-align: middle;\n",
       "    }\n",
       "\n",
       "    .dataframe tbody tr th {\n",
       "        vertical-align: top;\n",
       "    }\n",
       "\n",
       "    .dataframe thead th {\n",
       "        text-align: right;\n",
       "    }\n",
       "</style>\n",
       "<table border=\"1\" class=\"dataframe\">\n",
       "  <thead>\n",
       "    <tr style=\"text-align: right;\">\n",
       "      <th></th>\n",
       "      <th>instrument_id</th>\n",
       "      <th>side</th>\n",
       "      <th>filled_qty</th>\n",
       "      <th>price</th>\n",
       "      <th>commissions</th>\n",
       "      <th>commissions_quoted</th>\n",
       "    </tr>\n",
       "    <tr>\n",
       "      <th>timestamp</th>\n",
       "      <th></th>\n",
       "      <th></th>\n",
       "      <th></th>\n",
       "      <th></th>\n",
       "      <th></th>\n",
       "      <th></th>\n",
       "    </tr>\n",
       "  </thead>\n",
       "  <tbody>\n",
       "    <tr>\n",
       "      <th>2024-01-01 02:19:59.999</th>\n",
       "      <td>BTCUSDT</td>\n",
       "      <td>sell</td>\n",
       "      <td>-0.234</td>\n",
       "      <td>42575.85</td>\n",
       "      <td>4.981374</td>\n",
       "      <td>USDT</td>\n",
       "    </tr>\n",
       "    <tr>\n",
       "      <th>2024-01-01 04:49:59.999</th>\n",
       "      <td>BTCUSDT</td>\n",
       "      <td>buy</td>\n",
       "      <td>0.469</td>\n",
       "      <td>42391.55</td>\n",
       "      <td>9.940818</td>\n",
       "      <td>USDT</td>\n",
       "    </tr>\n",
       "    <tr>\n",
       "      <th>2024-01-01 05:34:59.999</th>\n",
       "      <td>BTCUSDT</td>\n",
       "      <td>sell</td>\n",
       "      <td>-0.327</td>\n",
       "      <td>42344.05</td>\n",
       "      <td>6.923252</td>\n",
       "      <td>USDT</td>\n",
       "    </tr>\n",
       "    <tr>\n",
       "      <th>2024-01-01 06:24:59.999</th>\n",
       "      <td>BTCUSDT</td>\n",
       "      <td>buy</td>\n",
       "      <td>0.328</td>\n",
       "      <td>42346.95</td>\n",
       "      <td>6.944900</td>\n",
       "      <td>USDT</td>\n",
       "    </tr>\n",
       "    <tr>\n",
       "      <th>2024-01-01 11:34:59.999</th>\n",
       "      <td>BTCUSDT</td>\n",
       "      <td>sell</td>\n",
       "      <td>-0.243</td>\n",
       "      <td>42681.55</td>\n",
       "      <td>5.185808</td>\n",
       "      <td>USDT</td>\n",
       "    </tr>\n",
       "    <tr>\n",
       "      <th>2024-01-01 12:19:59.999</th>\n",
       "      <td>BTCUSDT</td>\n",
       "      <td>buy</td>\n",
       "      <td>0.241</td>\n",
       "      <td>42700.55</td>\n",
       "      <td>5.145416</td>\n",
       "      <td>USDT</td>\n",
       "    </tr>\n",
       "    <tr>\n",
       "      <th>2024-01-01 13:09:59.999</th>\n",
       "      <td>BTCUSDT</td>\n",
       "      <td>sell</td>\n",
       "      <td>-0.405</td>\n",
       "      <td>42727.45</td>\n",
       "      <td>8.652309</td>\n",
       "      <td>USDT</td>\n",
       "    </tr>\n",
       "    <tr>\n",
       "      <th>2024-01-01 13:24:59.999</th>\n",
       "      <td>BTCUSDT</td>\n",
       "      <td>buy</td>\n",
       "      <td>0.404</td>\n",
       "      <td>42754.55</td>\n",
       "      <td>8.636419</td>\n",
       "      <td>USDT</td>\n",
       "    </tr>\n",
       "    <tr>\n",
       "      <th>2024-01-01 14:09:59.999</th>\n",
       "      <td>BTCUSDT</td>\n",
       "      <td>sell</td>\n",
       "      <td>-0.338</td>\n",
       "      <td>42711.25</td>\n",
       "      <td>7.218201</td>\n",
       "      <td>USDT</td>\n",
       "    </tr>\n",
       "    <tr>\n",
       "      <th>2024-01-01 15:24:59.999</th>\n",
       "      <td>BTCUSDT</td>\n",
       "      <td>buy</td>\n",
       "      <td>0.338</td>\n",
       "      <td>42757.25</td>\n",
       "      <td>7.225975</td>\n",
       "      <td>USDT</td>\n",
       "    </tr>\n",
       "    <tr>\n",
       "      <th>2024-01-01 16:39:59.999</th>\n",
       "      <td>BTCUSDT</td>\n",
       "      <td>sell</td>\n",
       "      <td>-0.303</td>\n",
       "      <td>42810.15</td>\n",
       "      <td>6.485738</td>\n",
       "      <td>USDT</td>\n",
       "    </tr>\n",
       "    <tr>\n",
       "      <th>2024-01-01 17:24:59.999</th>\n",
       "      <td>BTCUSDT</td>\n",
       "      <td>buy</td>\n",
       "      <td>0.303</td>\n",
       "      <td>42781.05</td>\n",
       "      <td>6.481329</td>\n",
       "      <td>USDT</td>\n",
       "    </tr>\n",
       "    <tr>\n",
       "      <th>2024-01-01 17:39:59.999</th>\n",
       "      <td>BTCUSDT</td>\n",
       "      <td>sell</td>\n",
       "      <td>-0.307</td>\n",
       "      <td>42739.25</td>\n",
       "      <td>6.560475</td>\n",
       "      <td>USDT</td>\n",
       "    </tr>\n",
       "    <tr>\n",
       "      <th>2024-01-01 17:54:59.999</th>\n",
       "      <td>BTCUSDT</td>\n",
       "      <td>buy</td>\n",
       "      <td>0.307</td>\n",
       "      <td>42852.65</td>\n",
       "      <td>6.577882</td>\n",
       "      <td>USDT</td>\n",
       "    </tr>\n",
       "    <tr>\n",
       "      <th>2024-01-01 21:34:59.999</th>\n",
       "      <td>BTCUSDT</td>\n",
       "      <td>sell</td>\n",
       "      <td>-0.239</td>\n",
       "      <td>43666.85</td>\n",
       "      <td>5.218189</td>\n",
       "      <td>USDT</td>\n",
       "    </tr>\n",
       "    <tr>\n",
       "      <th>2024-01-01 23:09:59.999</th>\n",
       "      <td>BTCUSDT</td>\n",
       "      <td>buy</td>\n",
       "      <td>0.234</td>\n",
       "      <td>43713.25</td>\n",
       "      <td>5.114450</td>\n",
       "      <td>USDT</td>\n",
       "    </tr>\n",
       "    <tr>\n",
       "      <th>2024-01-02 01:49:59.999</th>\n",
       "      <td>BTCUSDT</td>\n",
       "      <td>sell</td>\n",
       "      <td>-0.271</td>\n",
       "      <td>44761.95</td>\n",
       "      <td>6.065244</td>\n",
       "      <td>USDT</td>\n",
       "    </tr>\n",
       "    <tr>\n",
       "      <th>2024-01-02 02:19:59.999</th>\n",
       "      <td>BTCUSDT</td>\n",
       "      <td>buy</td>\n",
       "      <td>0.265</td>\n",
       "      <td>44975.45</td>\n",
       "      <td>5.959247</td>\n",
       "      <td>USDT</td>\n",
       "    </tr>\n",
       "    <tr>\n",
       "      <th>2024-01-02 04:24:59.999</th>\n",
       "      <td>BTCUSDT</td>\n",
       "      <td>sell</td>\n",
       "      <td>-0.412</td>\n",
       "      <td>45331.65</td>\n",
       "      <td>9.338320</td>\n",
       "      <td>USDT</td>\n",
       "    </tr>\n",
       "    <tr>\n",
       "      <th>2024-01-02 05:29:59.999</th>\n",
       "      <td>BTCUSDT</td>\n",
       "      <td>buy</td>\n",
       "      <td>0.410</td>\n",
       "      <td>45294.35</td>\n",
       "      <td>9.285342</td>\n",
       "      <td>USDT</td>\n",
       "    </tr>\n",
       "    <tr>\n",
       "      <th>2024-01-02 06:04:59.999</th>\n",
       "      <td>BTCUSDT</td>\n",
       "      <td>sell</td>\n",
       "      <td>-0.441</td>\n",
       "      <td>45217.55</td>\n",
       "      <td>9.970470</td>\n",
       "      <td>USDT</td>\n",
       "    </tr>\n",
       "    <tr>\n",
       "      <th>2024-01-02 06:34:59.999</th>\n",
       "      <td>BTCUSDT</td>\n",
       "      <td>buy</td>\n",
       "      <td>0.442</td>\n",
       "      <td>45240.85</td>\n",
       "      <td>9.998228</td>\n",
       "      <td>USDT</td>\n",
       "    </tr>\n",
       "    <tr>\n",
       "      <th>2024-01-02 06:39:59.999</th>\n",
       "      <td>BTCUSDT</td>\n",
       "      <td>sell</td>\n",
       "      <td>-0.441</td>\n",
       "      <td>45260.95</td>\n",
       "      <td>9.980039</td>\n",
       "      <td>USDT</td>\n",
       "    </tr>\n",
       "    <tr>\n",
       "      <th>2024-01-02 06:44:59.999</th>\n",
       "      <td>BTCUSDT</td>\n",
       "      <td>buy</td>\n",
       "      <td>0.440</td>\n",
       "      <td>45325.85</td>\n",
       "      <td>9.971687</td>\n",
       "      <td>USDT</td>\n",
       "    </tr>\n",
       "    <tr>\n",
       "      <th>2024-01-02 09:49:59.999</th>\n",
       "      <td>BTCUSDT</td>\n",
       "      <td>sell</td>\n",
       "      <td>-0.438</td>\n",
       "      <td>45777.85</td>\n",
       "      <td>10.025349</td>\n",
       "      <td>USDT</td>\n",
       "    </tr>\n",
       "    <tr>\n",
       "      <th>2024-01-02 12:34:59.999</th>\n",
       "      <td>BTCUSDT</td>\n",
       "      <td>buy</td>\n",
       "      <td>0.437</td>\n",
       "      <td>45638.25</td>\n",
       "      <td>9.971958</td>\n",
       "      <td>USDT</td>\n",
       "    </tr>\n",
       "    <tr>\n",
       "      <th>2024-01-02 12:59:59.999</th>\n",
       "      <td>BTCUSDT</td>\n",
       "      <td>sell</td>\n",
       "      <td>-0.439</td>\n",
       "      <td>45355.05</td>\n",
       "      <td>9.955433</td>\n",
       "      <td>USDT</td>\n",
       "    </tr>\n",
       "    <tr>\n",
       "      <th>2024-01-02 13:24:59.999</th>\n",
       "      <td>BTCUSDT</td>\n",
       "      <td>buy</td>\n",
       "      <td>0.439</td>\n",
       "      <td>45566.75</td>\n",
       "      <td>10.001902</td>\n",
       "      <td>USDT</td>\n",
       "    </tr>\n",
       "    <tr>\n",
       "      <th>2024-01-02 14:39:59.999</th>\n",
       "      <td>BTCUSDT</td>\n",
       "      <td>sell</td>\n",
       "      <td>-0.277</td>\n",
       "      <td>45380.85</td>\n",
       "      <td>6.285248</td>\n",
       "      <td>USDT</td>\n",
       "    </tr>\n",
       "    <tr>\n",
       "      <th>2024-01-02 15:54:59.999</th>\n",
       "      <td>BTCUSDT</td>\n",
       "      <td>buy</td>\n",
       "      <td>0.278</td>\n",
       "      <td>45329.55</td>\n",
       "      <td>6.300807</td>\n",
       "      <td>USDT</td>\n",
       "    </tr>\n",
       "    <tr>\n",
       "      <th>2024-01-02 16:19:59.999</th>\n",
       "      <td>BTCUSDT</td>\n",
       "      <td>sell</td>\n",
       "      <td>-0.369</td>\n",
       "      <td>45036.95</td>\n",
       "      <td>8.309317</td>\n",
       "      <td>USDT</td>\n",
       "    </tr>\n",
       "    <tr>\n",
       "      <th>2024-01-02 16:49:59.999</th>\n",
       "      <td>BTCUSDT</td>\n",
       "      <td>buy</td>\n",
       "      <td>0.369</td>\n",
       "      <td>45442.45</td>\n",
       "      <td>8.384132</td>\n",
       "      <td>USDT</td>\n",
       "    </tr>\n",
       "    <tr>\n",
       "      <th>2024-01-02 17:34:59.999</th>\n",
       "      <td>BTCUSDT</td>\n",
       "      <td>sell</td>\n",
       "      <td>-0.277</td>\n",
       "      <td>45107.95</td>\n",
       "      <td>6.247451</td>\n",
       "      <td>USDT</td>\n",
       "    </tr>\n",
       "    <tr>\n",
       "      <th>2024-01-02 18:34:59.999</th>\n",
       "      <td>BTCUSDT</td>\n",
       "      <td>buy</td>\n",
       "      <td>0.277</td>\n",
       "      <td>45267.55</td>\n",
       "      <td>6.269556</td>\n",
       "      <td>USDT</td>\n",
       "    </tr>\n",
       "    <tr>\n",
       "      <th>2024-01-02 19:24:59.999</th>\n",
       "      <td>BTCUSDT</td>\n",
       "      <td>sell</td>\n",
       "      <td>-0.250</td>\n",
       "      <td>45000.25</td>\n",
       "      <td>5.625031</td>\n",
       "      <td>USDT</td>\n",
       "    </tr>\n",
       "    <tr>\n",
       "      <th>2024-01-02 20:14:59.999</th>\n",
       "      <td>BTCUSDT</td>\n",
       "      <td>buy</td>\n",
       "      <td>0.251</td>\n",
       "      <td>45130.05</td>\n",
       "      <td>5.663821</td>\n",
       "      <td>USDT</td>\n",
       "    </tr>\n",
       "    <tr>\n",
       "      <th>2024-01-02 20:39:59.999</th>\n",
       "      <td>BTCUSDT</td>\n",
       "      <td>sell</td>\n",
       "      <td>-0.233</td>\n",
       "      <td>44884.35</td>\n",
       "      <td>5.229027</td>\n",
       "      <td>USDT</td>\n",
       "    </tr>\n",
       "    <tr>\n",
       "      <th>2024-01-02 21:34:59.999</th>\n",
       "      <td>BTCUSDT</td>\n",
       "      <td>buy</td>\n",
       "      <td>0.234</td>\n",
       "      <td>44974.05</td>\n",
       "      <td>5.261964</td>\n",
       "      <td>USDT</td>\n",
       "    </tr>\n",
       "    <tr>\n",
       "      <th>2024-01-02 22:44:59.999</th>\n",
       "      <td>BTCUSDT</td>\n",
       "      <td>sell</td>\n",
       "      <td>-0.192</td>\n",
       "      <td>44956.55</td>\n",
       "      <td>4.315829</td>\n",
       "      <td>USDT</td>\n",
       "    </tr>\n",
       "  </tbody>\n",
       "</table>\n",
       "</div>"
      ],
      "text/plain": [
       "                        instrument_id  side  filled_qty     price  \\\n",
       "timestamp                                                           \n",
       "2024-01-01 02:19:59.999       BTCUSDT  sell      -0.234  42575.85   \n",
       "2024-01-01 04:49:59.999       BTCUSDT   buy       0.469  42391.55   \n",
       "2024-01-01 05:34:59.999       BTCUSDT  sell      -0.327  42344.05   \n",
       "2024-01-01 06:24:59.999       BTCUSDT   buy       0.328  42346.95   \n",
       "2024-01-01 11:34:59.999       BTCUSDT  sell      -0.243  42681.55   \n",
       "2024-01-01 12:19:59.999       BTCUSDT   buy       0.241  42700.55   \n",
       "2024-01-01 13:09:59.999       BTCUSDT  sell      -0.405  42727.45   \n",
       "2024-01-01 13:24:59.999       BTCUSDT   buy       0.404  42754.55   \n",
       "2024-01-01 14:09:59.999       BTCUSDT  sell      -0.338  42711.25   \n",
       "2024-01-01 15:24:59.999       BTCUSDT   buy       0.338  42757.25   \n",
       "2024-01-01 16:39:59.999       BTCUSDT  sell      -0.303  42810.15   \n",
       "2024-01-01 17:24:59.999       BTCUSDT   buy       0.303  42781.05   \n",
       "2024-01-01 17:39:59.999       BTCUSDT  sell      -0.307  42739.25   \n",
       "2024-01-01 17:54:59.999       BTCUSDT   buy       0.307  42852.65   \n",
       "2024-01-01 21:34:59.999       BTCUSDT  sell      -0.239  43666.85   \n",
       "2024-01-01 23:09:59.999       BTCUSDT   buy       0.234  43713.25   \n",
       "2024-01-02 01:49:59.999       BTCUSDT  sell      -0.271  44761.95   \n",
       "2024-01-02 02:19:59.999       BTCUSDT   buy       0.265  44975.45   \n",
       "2024-01-02 04:24:59.999       BTCUSDT  sell      -0.412  45331.65   \n",
       "2024-01-02 05:29:59.999       BTCUSDT   buy       0.410  45294.35   \n",
       "2024-01-02 06:04:59.999       BTCUSDT  sell      -0.441  45217.55   \n",
       "2024-01-02 06:34:59.999       BTCUSDT   buy       0.442  45240.85   \n",
       "2024-01-02 06:39:59.999       BTCUSDT  sell      -0.441  45260.95   \n",
       "2024-01-02 06:44:59.999       BTCUSDT   buy       0.440  45325.85   \n",
       "2024-01-02 09:49:59.999       BTCUSDT  sell      -0.438  45777.85   \n",
       "2024-01-02 12:34:59.999       BTCUSDT   buy       0.437  45638.25   \n",
       "2024-01-02 12:59:59.999       BTCUSDT  sell      -0.439  45355.05   \n",
       "2024-01-02 13:24:59.999       BTCUSDT   buy       0.439  45566.75   \n",
       "2024-01-02 14:39:59.999       BTCUSDT  sell      -0.277  45380.85   \n",
       "2024-01-02 15:54:59.999       BTCUSDT   buy       0.278  45329.55   \n",
       "2024-01-02 16:19:59.999       BTCUSDT  sell      -0.369  45036.95   \n",
       "2024-01-02 16:49:59.999       BTCUSDT   buy       0.369  45442.45   \n",
       "2024-01-02 17:34:59.999       BTCUSDT  sell      -0.277  45107.95   \n",
       "2024-01-02 18:34:59.999       BTCUSDT   buy       0.277  45267.55   \n",
       "2024-01-02 19:24:59.999       BTCUSDT  sell      -0.250  45000.25   \n",
       "2024-01-02 20:14:59.999       BTCUSDT   buy       0.251  45130.05   \n",
       "2024-01-02 20:39:59.999       BTCUSDT  sell      -0.233  44884.35   \n",
       "2024-01-02 21:34:59.999       BTCUSDT   buy       0.234  44974.05   \n",
       "2024-01-02 22:44:59.999       BTCUSDT  sell      -0.192  44956.55   \n",
       "\n",
       "                         commissions commissions_quoted  \n",
       "timestamp                                                \n",
       "2024-01-01 02:19:59.999     4.981374               USDT  \n",
       "2024-01-01 04:49:59.999     9.940818               USDT  \n",
       "2024-01-01 05:34:59.999     6.923252               USDT  \n",
       "2024-01-01 06:24:59.999     6.944900               USDT  \n",
       "2024-01-01 11:34:59.999     5.185808               USDT  \n",
       "2024-01-01 12:19:59.999     5.145416               USDT  \n",
       "2024-01-01 13:09:59.999     8.652309               USDT  \n",
       "2024-01-01 13:24:59.999     8.636419               USDT  \n",
       "2024-01-01 14:09:59.999     7.218201               USDT  \n",
       "2024-01-01 15:24:59.999     7.225975               USDT  \n",
       "2024-01-01 16:39:59.999     6.485738               USDT  \n",
       "2024-01-01 17:24:59.999     6.481329               USDT  \n",
       "2024-01-01 17:39:59.999     6.560475               USDT  \n",
       "2024-01-01 17:54:59.999     6.577882               USDT  \n",
       "2024-01-01 21:34:59.999     5.218189               USDT  \n",
       "2024-01-01 23:09:59.999     5.114450               USDT  \n",
       "2024-01-02 01:49:59.999     6.065244               USDT  \n",
       "2024-01-02 02:19:59.999     5.959247               USDT  \n",
       "2024-01-02 04:24:59.999     9.338320               USDT  \n",
       "2024-01-02 05:29:59.999     9.285342               USDT  \n",
       "2024-01-02 06:04:59.999     9.970470               USDT  \n",
       "2024-01-02 06:34:59.999     9.998228               USDT  \n",
       "2024-01-02 06:39:59.999     9.980039               USDT  \n",
       "2024-01-02 06:44:59.999     9.971687               USDT  \n",
       "2024-01-02 09:49:59.999    10.025349               USDT  \n",
       "2024-01-02 12:34:59.999     9.971958               USDT  \n",
       "2024-01-02 12:59:59.999     9.955433               USDT  \n",
       "2024-01-02 13:24:59.999    10.001902               USDT  \n",
       "2024-01-02 14:39:59.999     6.285248               USDT  \n",
       "2024-01-02 15:54:59.999     6.300807               USDT  \n",
       "2024-01-02 16:19:59.999     8.309317               USDT  \n",
       "2024-01-02 16:49:59.999     8.384132               USDT  \n",
       "2024-01-02 17:34:59.999     6.247451               USDT  \n",
       "2024-01-02 18:34:59.999     6.269556               USDT  \n",
       "2024-01-02 19:24:59.999     5.625031               USDT  \n",
       "2024-01-02 20:14:59.999     5.663821               USDT  \n",
       "2024-01-02 20:39:59.999     5.229027               USDT  \n",
       "2024-01-02 21:34:59.999     5.261964               USDT  \n",
       "2024-01-02 22:44:59.999     4.315829               USDT  "
      ]
     },
     "execution_count": 60,
     "metadata": {},
     "output_type": "execute_result"
    }
   ],
   "source": [
    "rep[0].executions_log"
   ]
  }
 ],
 "metadata": {
  "kernelspec": {
   "display_name": ".venv",
   "language": "python",
   "name": "python3"
  },
  "language_info": {
   "codemirror_mode": {
    "name": "ipython",
    "version": 3
   },
   "file_extension": ".py",
   "mimetype": "text/x-python",
   "name": "python",
   "nbconvert_exporter": "python",
   "pygments_lexer": "ipython3",
   "version": "3.11.8"
  }
 },
 "nbformat": 4,
 "nbformat_minor": 2
}
