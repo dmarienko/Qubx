{
 "cells": [
  {
   "cell_type": "code",
   "execution_count": 4,
   "metadata": {},
   "outputs": [
    {
     "name": "stdout",
     "output_type": "stream",
     "text": [
      " >  [\u001b[32mdev\u001b[0m] \u001b[31minstalling cython rebuilding hook\u001b[0m\n",
      "The autoreload extension is already loaded. To reload it, use:\n",
      "  %reload_ext autoreload\n"
     ]
    }
   ],
   "source": [
    "import sys, os, re; sys.path = ([\"../src/\", \"../\"] if re.match(r'^(\\w\\:\\\\)|(/)', os.getcwd()) else [])+ sys.path \n",
    "\n",
    "from typing import Any, Optional, List\n",
    "\n",
    "import qubx\n",
    "%qubxd dev \n",
    "\n",
    "%load_ext autoreload\n",
    "%autoreload 2\n",
    "\n",
    "from qubx import lookup, logger\n",
    "from qubx.core.strategy import IStrategy, StrategyContext, TriggerEvent, PositionsTracker\n",
    "from qubx.pandaz.utils import *\n",
    "\n",
    "# - - - - - - - - - - - - - - - - - - - - - - - -\n",
    "from qubx.trackers import PortfolioRebalancerTracker\n",
    "from qubx.ta.indicators import sma, ema\n",
    "from qubx.data.readers import CsvStorageDataReader, MultiQdbConnector, AsTimestampedRecords, AsQuotes, RestoreTicksFromOHLC, AsPandasFrame, RestoreTicksFromOHLC, AsOhlcvSeries\n",
    "from qubx.core.basics import Deal, Instrument, Order, Position, Signal\n",
    "\n",
    "from qubx import QubxLogConfig\n",
    "from qubx.backtester.simulator import simulate\n",
    "from qubx.core.metrics import tearsheet\n",
    "from qubx.trackers.sizers import FixedSizer"
   ]
  },
  {
   "cell_type": "markdown",
   "metadata": {},
   "source": [
    "# Strat for signals testing"
   ]
  },
  {
   "cell_type": "code",
   "execution_count": 10,
   "metadata": {},
   "outputs": [],
   "source": [
    "class StrategyForTracking(IStrategy):\n",
    "    timeframe: str = \"1Min\"\n",
    "    fast_period = 5\n",
    "    slow_period = 12\n",
    "\n",
    "    def on_fit(self, ctx: \"StrategyContext\", fit_time: str | pd.Timestamp, previous_fit_time: str | pd.Timestamp | None = None):\n",
    "        logger.info(f\" -> Fit is called | fit_time: {fit_time} / prev: {previous_fit_time}\")\n",
    "\n",
    "    def on_event(self, ctx: StrategyContext, event: TriggerEvent) -> List[Signal] | None:\n",
    "        signals = []\n",
    "        for i in ctx.instruments:\n",
    "            # logger.info(f\"\\t{i.symbol} : {ctx.broker_provider.get_quote(i.symbol)}\")\n",
    "            ohlc = ctx.ohlc(i, self.timeframe)\n",
    "            fast = sma(ohlc.close, self.fast_period)\n",
    "            slow = sma(ohlc.close, self.slow_period)\n",
    "            pos = ctx.positions[i.symbol].quantity\n",
    "\n",
    "            if pos <= 0:\n",
    "                if (fast[0] > slow[0]) and (fast[1] < slow[1]):\n",
    "                    # ctx.trade(i, abs(pos) + i.min_size * 10)\n",
    "                    signals.append(i.signal(+1))\n",
    "\n",
    "            if pos >= 0:\n",
    "                if (fast[0] < slow[0]) and (fast[1] > slow[1]):\n",
    "                    # ctx.trade(i, -pos - i.min_size * 10)\n",
    "                    signals.append(i.signal(-1))\n",
    "\n",
    "        return signals\n",
    "\n",
    "    def ohlcs(self, timeframe: str) -> Dict[str, pd.DataFrame]:\n",
    "        return {s.symbol: self.ctx.ohlc(s, timeframe).pd() for s in self.ctx.instruments}\n",
    "\n",
    "    def tracker(self, ctx: StrategyContext) -> PositionsTracker:\n",
    "        return PositionsTracker(FixedSizer(0.01))"
   ]
  },
  {
   "cell_type": "code",
   "execution_count": 3,
   "metadata": {},
   "outputs": [
    {
     "name": "stdout",
     "output_type": "stream",
     "text": [
      "\u001b[32m2024-07-29 08:19:35.657\u001b[0m [ \u001b[34m\u001b[1m🐞\u001b[0m ] \u001b[34m\u001b[1mConnected to QuestDB at xlydian-data:8812\u001b[0m\n"
     ]
    }
   ],
   "source": [
    "# r = MultiQdbConnector('xlydian-data')"
   ]
  },
  {
   "cell_type": "code",
   "execution_count": null,
   "metadata": {},
   "outputs": [],
   "source": [
    "r = CsvStorageDataReader(\"../tests/data/csv\")\n",
    "\n",
    "QubxLogConfig.set_log_level(\"DEBUG\")\n",
    "\n",
    "rep = simulate({\n",
    "    \n",
    "        \"As Strategy\": StrategyForTracking(\n",
    "            timeframe=\"5Min\", fast_period=5, slow_period=15),\n",
    "    },\n",
    "    r, 10000, [\"BINANCE.UM:BTCUSDT\"], \n",
    "    dict(type=\"ohlc\", timeframe=\"1Min\", nback=0),\n",
    "    \"5Min -1Sec\",\n",
    "    \"vip0_usdt\", \n",
    "    \"2024-01-01\", \"2024-01-02\", \n",
    ")"
   ]
  },
  {
   "cell_type": "code",
   "execution_count": null,
   "metadata": {},
   "outputs": [],
   "source": [
    "tearsheet(rep)"
   ]
  },
  {
   "cell_type": "code",
   "execution_count": 5,
   "metadata": {},
   "outputs": [],
   "source": [
    "import numpy as np\n",
    "\n",
    "def _how_much_can_be_closed(self, position: float, to_remain: float) -> float:\n",
    "    d = np.sign(position)\n",
    "    qty_to_close = position\n",
    "    if to_remain != 0 and position != 0 and np.sign(to_remain) == d:\n",
    "        qty_to_close = max(position - to_remain, 0) if d > 0 else min(position - to_remain, 0)\n",
    "    return qty_to_close"
   ]
  },
  {
   "cell_type": "code",
   "execution_count": 18,
   "metadata": {},
   "outputs": [
    {
     "data": {
      "text/plain": [
       "990"
      ]
     },
     "execution_count": 18,
     "metadata": {},
     "output_type": "execute_result"
    }
   ],
   "source": [
    "_how_much_can_be_closed(None, 1000, 10)"
   ]
  }
 ],
 "metadata": {
  "kernelspec": {
   "display_name": ".venv",
   "language": "python",
   "name": "python3"
  },
  "language_info": {
   "codemirror_mode": {
    "name": "ipython",
    "version": 3
   },
   "file_extension": ".py",
   "mimetype": "text/x-python",
   "name": "python",
   "nbconvert_exporter": "python",
   "pygments_lexer": "ipython3",
   "version": "3.11.8"
  }
 },
 "nbformat": 4,
 "nbformat_minor": 2
}
