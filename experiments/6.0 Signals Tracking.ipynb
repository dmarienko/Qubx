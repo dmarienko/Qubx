{
 "cells": [
  {
   "cell_type": "code",
   "execution_count": 4,
   "metadata": {},
   "outputs": [
    {
     "name": "stdout",
     "output_type": "stream",
     "text": [
      " >  [\u001b[32mdev\u001b[0m] \u001b[31minstalling cython rebuilding hook\u001b[0m\n",
      "The autoreload extension is already loaded. To reload it, use:\n",
      "  %reload_ext autoreload\n"
     ]
    }
   ],
   "source": [
    "import sys, os, re; sys.path = ([\"../src/\", \"../\"] if re.match(r'^(\\w\\:\\\\)|(/)', os.getcwd()) else [])+ sys.path \n",
    "\n",
    "from typing import Any, Optional, List\n",
    "\n",
    "import qubx\n",
    "%qubxd dev \n",
    "\n",
    "%load_ext autoreload\n",
    "%autoreload 2\n",
    "\n",
    "from qubx import lookup, logger\n",
    "from qubx.core.strategy import IStrategy, StrategyContext, TriggerEvent, PositionsTracker\n",
    "from qubx.pandaz.utils import *\n",
    "\n",
    "# - - - - - - - - - - - - - - - - - - - - - - - -\n",
    "from qubx.trackers import PortfolioRebalancerTracker\n",
    "from qubx.ta.indicators import sma, ema\n",
    "from qubx.data.readers import CsvStorageDataReader, MultiQdbConnector, AsTimestampedRecords, AsQuotes, RestoreTicksFromOHLC, AsPandasFrame, RestoreTicksFromOHLC, AsOhlcvSeries\n",
    "from qubx.core.basics import Deal, Instrument, Order, Position, Signal\n",
    "\n",
    "from qubx import QubxLogConfig\n",
    "from qubx.backtester.simulator import simulate\n",
    "from qubx.core.metrics import tearsheet\n",
    "from qubx.trackers.sizers import FixedSizer"
   ]
  },
  {
   "cell_type": "markdown",
   "metadata": {},
   "source": [
    "# Strat for signals testing"
   ]
  },
  {
   "cell_type": "code",
   "execution_count": 10,
   "metadata": {},
   "outputs": [],
   "source": [
    "class StrategyForTracking(IStrategy):\n",
    "    timeframe: str = \"1Min\"\n",
    "    fast_period = 5\n",
    "    slow_period = 12\n",
    "\n",
    "    def on_fit(self, ctx: \"StrategyContext\", fit_time: str | pd.Timestamp, previous_fit_time: str | pd.Timestamp | None = None):\n",
    "        logger.info(f\" -> Fit is called | fit_time: {fit_time} / prev: {previous_fit_time}\")\n",
    "\n",
    "    def on_event(self, ctx: StrategyContext, event: TriggerEvent) -> List[Signal] | None:\n",
    "        signals = []\n",
    "        for i in ctx.instruments:\n",
    "            # logger.info(f\"\\t{i.symbol} : {ctx.broker_provider.get_quote(i.symbol)}\")\n",
    "            ohlc = ctx.ohlc(i, self.timeframe)\n",
    "            fast = sma(ohlc.close, self.fast_period)\n",
    "            slow = sma(ohlc.close, self.slow_period)\n",
    "            pos = ctx.positions[i.symbol].quantity\n",
    "\n",
    "            if pos <= 0:\n",
    "                if (fast[0] > slow[0]) and (fast[1] < slow[1]):\n",
    "                    # ctx.trade(i, abs(pos) + i.min_size * 10)\n",
    "                    signals.append(i.signal(+1))\n",
    "\n",
    "            if pos >= 0:\n",
    "                if (fast[0] < slow[0]) and (fast[1] > slow[1]):\n",
    "                    # ctx.trade(i, -pos - i.min_size * 10)\n",
    "                    signals.append(i.signal(-1))\n",
    "\n",
    "        return signals\n",
    "\n",
    "    def ohlcs(self, timeframe: str) -> Dict[str, pd.DataFrame]:\n",
    "        return {s.symbol: self.ctx.ohlc(s, timeframe).pd() for s in self.ctx.instruments}\n",
    "\n",
    "    def tracker(self, ctx: StrategyContext) -> PositionsTracker:\n",
    "        return PositionsTracker(FixedSizer(0.01))"
   ]
  },
  {
   "cell_type": "code",
   "execution_count": 3,
   "metadata": {},
   "outputs": [
    {
     "name": "stdout",
     "output_type": "stream",
     "text": [
      "\u001b[32m2024-07-29 08:19:35.657\u001b[0m [ \u001b[34m\u001b[1m🐞\u001b[0m ] \u001b[34m\u001b[1mConnected to QuestDB at xlydian-data:8812\u001b[0m\n"
     ]
    }
   ],
   "source": [
    "# r = MultiQdbConnector('xlydian-data')"
   ]
  },
  {
   "cell_type": "code",
   "execution_count": 11,
   "metadata": {},
   "outputs": [
    {
     "name": "stdout",
     "output_type": "stream",
     "text": [
      "\u001b[32m2024-07-29 19:33:04.971\u001b[0m [ \u001b[1mℹ️\u001b[0m ] \u001b[1m\u001b[33mStrategyForTracking\u001b[0m\u001b[1m new parameters:\n",
      "\tset \u001b[32mtimeframe\u001b[0m\u001b[1m <- \u001b[31m5Min\u001b[0m\u001b[1m\n",
      "\tset \u001b[32mfast_period\u001b[0m\u001b[1m <- \u001b[31m5\u001b[0m\u001b[1m\n",
      "\tset \u001b[32mslow_period\u001b[0m\u001b[1m <- \u001b[31m15\u001b[0m\u001b[1m\u001b[0m\n"
     ]
    },
    {
     "data": {
      "application/vnd.jupyter.widget-view+json": {
       "model_id": "65cf76d15c2046898261dff47523b53d",
       "version_major": 2,
       "version_minor": 0
      },
      "text/plain": [
       "  0%|          | 0/1 [00:00<?, ?it/s]"
      ]
     },
     "metadata": {},
     "output_type": "display_data"
    },
    {
     "name": "stdout",
     "output_type": "stream",
     "text": [
      "\u001b[32m2024-07-29 19:33:04.977\u001b[0m [ \u001b[34m\u001b[1m🐞\u001b[0m ] \u001b[34m\u001b[1m\u001b[31m2024-01-01 00:00:00\u001b[0m\u001b[34m\u001b[1m Initiating simulated trading for binance.um for 10000 x 1.0 in USDT...\u001b[0m\n",
      "\u001b[32m2024-07-29 19:33:04.978\u001b[0m [ \u001b[1mℹ️\u001b[0m ] \u001b[1mSimulatedData.binance.um initialized\u001b[0m\n",
      "\u001b[32m2024-07-29 19:33:04.979\u001b[0m [ \u001b[34m\u001b[1m🐞\u001b[0m ] \u001b[34m\u001b[1mTriggering strategy on every 5Min bar after 4Min59S\u001b[0m\n",
      "\u001b[32m2024-07-29 19:33:04.979\u001b[0m [ \u001b[1mℹ️\u001b[0m ] \u001b[1m(StrategyContext) Subscribing to ohlc updates using {'timeframe': '1Min', 'nback': 0} for \n",
      "\t['BTCUSDT'] \u001b[0m\n"
     ]
    },
    {
     "data": {
      "application/vnd.jupyter.widget-view+json": {
       "model_id": "82de899dd599472db18fae9a5ea09e88",
       "version_major": 2,
       "version_minor": 0
      },
      "text/plain": [
       "  0%|          | 0/5764 [00:00<?, ?it/s]"
      ]
     },
     "metadata": {},
     "output_type": "display_data"
    },
    {
     "name": "stdout",
     "output_type": "stream",
     "text": [
      "\u001b[32m2024-07-29 19:33:05.023\u001b[0m [ \u001b[34m\u001b[1m🐞\u001b[0m ] \u001b[34m\u001b[1m[2024-01-01T00:00:00.001000000]: Invoking StrategyForTracking on_fit('2024-01-01 00:00:00', 'None')\u001b[0m\n",
      "\u001b[32m2024-07-29 19:33:05.023\u001b[0m [ \u001b[1mℹ️\u001b[0m ] \u001b[1m -> Fit is called | fit_time: 2024-01-01 00:00:00 / prev: None\u001b[0m\n",
      "\u001b[32m2024-07-29 19:33:05.023\u001b[0m [ \u001b[1mℹ️\u001b[0m ] \u001b[1m -> Fit is called | fit_time: 2024-01-01 00:00:00 / prev: None\u001b[0m\n",
      "\u001b[32m2024-07-29 19:33:05.023\u001b[0m [ \u001b[34m\u001b[1m🐞\u001b[0m ] \u001b[34m\u001b[1m[2024-01-01T00:00:00.001000000]: StrategyForTracking is fitted\u001b[0m\n",
      "\u001b[32m2024-07-29 19:33:05.051\u001b[0m [ \u001b[1mℹ️\u001b[0m ] \u001b[1m(StrategyContext) sending market sell for 0.01 of BTCUSDT ...\u001b[0m\n",
      "\u001b[32m2024-07-29 19:33:05.052\u001b[0m [ \u001b[34m\u001b[1m🐞\u001b[0m ] \u001b[34m\u001b[1m[OMS] BTCUSDT - SIM-ORDER-BTCUSDT-100001 MARKET SELL 0.01 executed at 42575.85\u001b[0m\n",
      "\u001b[32m2024-07-29 19:33:05.052\u001b[0m [ \u001b[1mℹ️\u001b[0m ] \u001b[1m  ::  traded -0.01 for BTCUSDT @ 42575.85 -> 0.00\u001b[0m\n",
      "\u001b[32m2024-07-29 19:33:05.052\u001b[0m [ \u001b[1mℹ️\u001b[0m ] \u001b[1mOrder SIM-ORDER-BTCUSDT-100001 MARKET SELL 0.01 of BTCUSDT -> CLOSED\u001b[0m\n",
      "\u001b[32m2024-07-29 19:33:05.052\u001b[0m [ \u001b[34m\u001b[1m🐞\u001b[0m ] \u001b[34m\u001b[1m[SIM-ORDER-BTCUSDT-100001 / StrategyForTracking_BTCUSDT_17040672001] : MARKET SELL 0.01 of BTCUSDT  -> [CLOSED]\u001b[0m\n",
      "\u001b[32m2024-07-29 19:33:05.055\u001b[0m [ \u001b[34m\u001b[1m🐞\u001b[0m ] \u001b[34m\u001b[1mExecuted -0.01 @ 42575.85 of BTCUSDT for order SIM-ORDER-BTCUSDT-100001\u001b[0m\n",
      "\u001b[32m2024-07-29 19:33:05.055\u001b[0m [ \u001b[1mℹ️\u001b[0m ] \u001b[1mBTCUSDT >>> Adjusting position from 0.0 to -0.01 : [SIM-ORDER-BTCUSDT-100001] MARKET SELL 0.01 of BTCUSDT  (gtc) [CLOSED]\u001b[0m\n",
      "\u001b[32m2024-07-29 19:33:05.084\u001b[0m [ \u001b[1mℹ️\u001b[0m ] \u001b[1m(StrategyContext) sending market buy for 0.02 of BTCUSDT ...\u001b[0m\n",
      "\u001b[32m2024-07-29 19:33:05.085\u001b[0m [ \u001b[34m\u001b[1m🐞\u001b[0m ] \u001b[34m\u001b[1m[OMS] BTCUSDT - SIM-ORDER-BTCUSDT-100002 MARKET BUY 0.02 executed at 42391.55\u001b[0m\n",
      "\u001b[32m2024-07-29 19:33:05.085\u001b[0m [ \u001b[1mℹ️\u001b[0m ] \u001b[1m  ::  traded 0.02 for BTCUSDT @ 42391.55 -> 1.84\u001b[0m\n",
      "\u001b[32m2024-07-29 19:33:05.086\u001b[0m [ \u001b[1mℹ️\u001b[0m ] \u001b[1mOrder SIM-ORDER-BTCUSDT-100002 MARKET BUY 0.02 of BTCUSDT -> CLOSED\u001b[0m\n",
      "\u001b[32m2024-07-29 19:33:05.087\u001b[0m [ \u001b[34m\u001b[1m🐞\u001b[0m ] \u001b[34m\u001b[1m[SIM-ORDER-BTCUSDT-100002 / StrategyForTracking_BTCUSDT_17040672002] : MARKET BUY 0.02 of BTCUSDT  -> [CLOSED]\u001b[0m\n",
      "\u001b[32m2024-07-29 19:33:05.088\u001b[0m [ \u001b[34m\u001b[1m🐞\u001b[0m ] \u001b[34m\u001b[1mExecuted 0.02 @ 42391.55 of BTCUSDT for order SIM-ORDER-BTCUSDT-100002\u001b[0m\n",
      "\u001b[32m2024-07-29 19:33:05.088\u001b[0m [ \u001b[1mℹ️\u001b[0m ] \u001b[1mBTCUSDT >>> Adjusting position from -0.01 to 0.01 : [SIM-ORDER-BTCUSDT-100002] MARKET BUY 0.02 of BTCUSDT  (gtc) [CLOSED]\u001b[0m\n",
      "\u001b[32m2024-07-29 19:33:05.096\u001b[0m [ \u001b[1mℹ️\u001b[0m ] \u001b[1m(StrategyContext) sending market sell for 0.02 of BTCUSDT ...\u001b[0m\n",
      "\u001b[32m2024-07-29 19:33:05.097\u001b[0m [ \u001b[34m\u001b[1m🐞\u001b[0m ] \u001b[34m\u001b[1m[OMS] BTCUSDT - SIM-ORDER-BTCUSDT-100003 MARKET SELL 0.02 executed at 42344.049999999996\u001b[0m\n",
      "\u001b[32m2024-07-29 19:33:05.098\u001b[0m [ \u001b[1mℹ️\u001b[0m ] \u001b[1m  ::  traded -0.02 for BTCUSDT @ 42344.049999999996 -> -0.47\u001b[0m\n",
      "\u001b[32m2024-07-29 19:33:05.098\u001b[0m [ \u001b[1mℹ️\u001b[0m ] \u001b[1mOrder SIM-ORDER-BTCUSDT-100003 MARKET SELL 0.02 of BTCUSDT -> CLOSED\u001b[0m\n",
      "\u001b[32m2024-07-29 19:33:05.099\u001b[0m [ \u001b[34m\u001b[1m🐞\u001b[0m ] \u001b[34m\u001b[1m[SIM-ORDER-BTCUSDT-100003 / StrategyForTracking_BTCUSDT_17040672003] : MARKET SELL 0.02 of BTCUSDT  -> [CLOSED]\u001b[0m\n",
      "\u001b[32m2024-07-29 19:33:05.099\u001b[0m [ \u001b[34m\u001b[1m🐞\u001b[0m ] \u001b[34m\u001b[1mExecuted -0.02 @ 42344.049999999996 of BTCUSDT for order SIM-ORDER-BTCUSDT-100003\u001b[0m\n",
      "\u001b[32m2024-07-29 19:33:05.100\u001b[0m [ \u001b[1mℹ️\u001b[0m ] \u001b[1mBTCUSDT >>> Adjusting position from 0.01 to -0.01 : [SIM-ORDER-BTCUSDT-100003] MARKET SELL 0.02 of BTCUSDT  (gtc) [CLOSED]\u001b[0m\n",
      "\u001b[32m2024-07-29 19:33:05.111\u001b[0m [ \u001b[1mℹ️\u001b[0m ] \u001b[1m(StrategyContext) sending market buy for 0.02 of BTCUSDT ...\u001b[0m\n",
      "\u001b[32m2024-07-29 19:33:05.111\u001b[0m [ \u001b[34m\u001b[1m🐞\u001b[0m ] \u001b[34m\u001b[1m[OMS] BTCUSDT - SIM-ORDER-BTCUSDT-100004 MARKET BUY 0.02 executed at 42346.950000000004\u001b[0m\n",
      "\u001b[32m2024-07-29 19:33:05.112\u001b[0m [ \u001b[1mℹ️\u001b[0m ] \u001b[1m  ::  traded 0.02 for BTCUSDT @ 42346.950000000004 -> -0.03\u001b[0m\n",
      "\u001b[32m2024-07-29 19:33:05.113\u001b[0m [ \u001b[1mℹ️\u001b[0m ] \u001b[1mOrder SIM-ORDER-BTCUSDT-100004 MARKET BUY 0.02 of BTCUSDT -> CLOSED\u001b[0m\n",
      "\u001b[32m2024-07-29 19:33:05.113\u001b[0m [ \u001b[34m\u001b[1m🐞\u001b[0m ] \u001b[34m\u001b[1m[SIM-ORDER-BTCUSDT-100004 / StrategyForTracking_BTCUSDT_17040672004] : MARKET BUY 0.02 of BTCUSDT  -> [CLOSED]\u001b[0m\n",
      "\u001b[32m2024-07-29 19:33:05.113\u001b[0m [ \u001b[34m\u001b[1m🐞\u001b[0m ] \u001b[34m\u001b[1mExecuted 0.02 @ 42346.950000000004 of BTCUSDT for order SIM-ORDER-BTCUSDT-100004\u001b[0m\n",
      "\u001b[32m2024-07-29 19:33:05.113\u001b[0m [ \u001b[1mℹ️\u001b[0m ] \u001b[1mBTCUSDT >>> Adjusting position from -0.01 to 0.01 : [SIM-ORDER-BTCUSDT-100004] MARKET BUY 0.02 of BTCUSDT  (gtc) [CLOSED]\u001b[0m\n",
      "\u001b[32m2024-07-29 19:33:05.187\u001b[0m [ \u001b[1mℹ️\u001b[0m ] \u001b[1m(StrategyContext) sending market sell for 0.02 of BTCUSDT ...\u001b[0m\n",
      "\u001b[32m2024-07-29 19:33:05.187\u001b[0m [ \u001b[34m\u001b[1m🐞\u001b[0m ] \u001b[34m\u001b[1m[OMS] BTCUSDT - SIM-ORDER-BTCUSDT-100005 MARKET SELL 0.02 executed at 42681.549999999996\u001b[0m\n",
      "\u001b[32m2024-07-29 19:33:05.199\u001b[0m [ \u001b[1mℹ️\u001b[0m ] \u001b[1m  ::  traded -0.02 for BTCUSDT @ 42681.549999999996 -> 3.35\u001b[0m\n",
      "\u001b[32m2024-07-29 19:33:05.199\u001b[0m [ \u001b[1mℹ️\u001b[0m ] \u001b[1mOrder SIM-ORDER-BTCUSDT-100005 MARKET SELL 0.02 of BTCUSDT -> CLOSED\u001b[0m\n",
      "\u001b[32m2024-07-29 19:33:05.200\u001b[0m [ \u001b[34m\u001b[1m🐞\u001b[0m ] \u001b[34m\u001b[1m[SIM-ORDER-BTCUSDT-100005 / StrategyForTracking_BTCUSDT_17040672005] : MARKET SELL 0.02 of BTCUSDT  -> [CLOSED]\u001b[0m\n",
      "\u001b[32m2024-07-29 19:33:05.200\u001b[0m [ \u001b[34m\u001b[1m🐞\u001b[0m ] \u001b[34m\u001b[1mExecuted -0.02 @ 42681.549999999996 of BTCUSDT for order SIM-ORDER-BTCUSDT-100005\u001b[0m\n",
      "\u001b[32m2024-07-29 19:33:05.201\u001b[0m [ \u001b[1mℹ️\u001b[0m ] \u001b[1mBTCUSDT >>> Adjusting position from 0.01 to -0.01 : [SIM-ORDER-BTCUSDT-100005] MARKET SELL 0.02 of BTCUSDT  (gtc) [CLOSED]\u001b[0m\n",
      "\u001b[32m2024-07-29 19:33:05.210\u001b[0m [ \u001b[1mℹ️\u001b[0m ] \u001b[1m(StrategyContext) sending market buy for 0.02 of BTCUSDT ...\u001b[0m\n",
      "\u001b[32m2024-07-29 19:33:05.210\u001b[0m [ \u001b[34m\u001b[1m🐞\u001b[0m ] \u001b[34m\u001b[1m[OMS] BTCUSDT - SIM-ORDER-BTCUSDT-100006 MARKET BUY 0.02 executed at 42700.55\u001b[0m\n",
      "\u001b[32m2024-07-29 19:33:05.211\u001b[0m [ \u001b[1mℹ️\u001b[0m ] \u001b[1m  ::  traded 0.02 for BTCUSDT @ 42700.55 -> -0.19\u001b[0m\n",
      "\u001b[32m2024-07-29 19:33:05.212\u001b[0m [ \u001b[1mℹ️\u001b[0m ] \u001b[1mOrder SIM-ORDER-BTCUSDT-100006 MARKET BUY 0.02 of BTCUSDT -> CLOSED\u001b[0m\n",
      "\u001b[32m2024-07-29 19:33:05.212\u001b[0m [ \u001b[34m\u001b[1m🐞\u001b[0m ] \u001b[34m\u001b[1m[SIM-ORDER-BTCUSDT-100006 / StrategyForTracking_BTCUSDT_17040672006] : MARKET BUY 0.02 of BTCUSDT  -> [CLOSED]\u001b[0m\n",
      "\u001b[32m2024-07-29 19:33:05.212\u001b[0m [ \u001b[34m\u001b[1m🐞\u001b[0m ] \u001b[34m\u001b[1mExecuted 0.02 @ 42700.55 of BTCUSDT for order SIM-ORDER-BTCUSDT-100006\u001b[0m\n",
      "\u001b[32m2024-07-29 19:33:05.214\u001b[0m [ \u001b[1mℹ️\u001b[0m ] \u001b[1mBTCUSDT >>> Adjusting position from -0.01 to 0.01 : [SIM-ORDER-BTCUSDT-100006] MARKET BUY 0.02 of BTCUSDT  (gtc) [CLOSED]\u001b[0m\n",
      "\u001b[32m2024-07-29 19:33:05.219\u001b[0m [ \u001b[1mℹ️\u001b[0m ] \u001b[1m(StrategyContext) sending market sell for 0.02 of BTCUSDT ...\u001b[0m\n",
      "\u001b[32m2024-07-29 19:33:05.219\u001b[0m [ \u001b[34m\u001b[1m🐞\u001b[0m ] \u001b[34m\u001b[1m[OMS] BTCUSDT - SIM-ORDER-BTCUSDT-100007 MARKET SELL 0.02 executed at 42727.45\u001b[0m\n",
      "\u001b[32m2024-07-29 19:33:05.219\u001b[0m [ \u001b[1mℹ️\u001b[0m ] \u001b[1m  ::  traded -0.02 for BTCUSDT @ 42727.45 -> 0.27\u001b[0m\n",
      "\u001b[32m2024-07-29 19:33:05.219\u001b[0m [ \u001b[1mℹ️\u001b[0m ] \u001b[1mOrder SIM-ORDER-BTCUSDT-100007 MARKET SELL 0.02 of BTCUSDT -> CLOSED\u001b[0m\n",
      "\u001b[32m2024-07-29 19:33:05.219\u001b[0m [ \u001b[34m\u001b[1m🐞\u001b[0m ] \u001b[34m\u001b[1m[SIM-ORDER-BTCUSDT-100007 / StrategyForTracking_BTCUSDT_17040672007] : MARKET SELL 0.02 of BTCUSDT  -> [CLOSED]\u001b[0m\n",
      "\u001b[32m2024-07-29 19:33:05.219\u001b[0m [ \u001b[34m\u001b[1m🐞\u001b[0m ] \u001b[34m\u001b[1mExecuted -0.02 @ 42727.45 of BTCUSDT for order SIM-ORDER-BTCUSDT-100007\u001b[0m\n",
      "\u001b[32m2024-07-29 19:33:05.219\u001b[0m [ \u001b[1mℹ️\u001b[0m ] \u001b[1mBTCUSDT >>> Adjusting position from 0.01 to -0.01 : [SIM-ORDER-BTCUSDT-100007] MARKET SELL 0.02 of BTCUSDT  (gtc) [CLOSED]\u001b[0m\n",
      "\u001b[32m2024-07-29 19:33:05.219\u001b[0m [ \u001b[1mℹ️\u001b[0m ] \u001b[1m(StrategyContext) sending market buy for 0.02 of BTCUSDT ...\u001b[0m\n",
      "\u001b[32m2024-07-29 19:33:05.219\u001b[0m [ \u001b[34m\u001b[1m🐞\u001b[0m ] \u001b[34m\u001b[1m[OMS] BTCUSDT - SIM-ORDER-BTCUSDT-100008 MARKET BUY 0.02 executed at 42754.55\u001b[0m\n",
      "\u001b[32m2024-07-29 19:33:05.219\u001b[0m [ \u001b[1mℹ️\u001b[0m ] \u001b[1m  ::  traded 0.02 for BTCUSDT @ 42754.55 -> -0.27\u001b[0m\n",
      "\u001b[32m2024-07-29 19:33:05.219\u001b[0m [ \u001b[1mℹ️\u001b[0m ] \u001b[1mOrder SIM-ORDER-BTCUSDT-100008 MARKET BUY 0.02 of BTCUSDT -> CLOSED\u001b[0m\n",
      "\u001b[32m2024-07-29 19:33:05.219\u001b[0m [ \u001b[34m\u001b[1m🐞\u001b[0m ] \u001b[34m\u001b[1m[SIM-ORDER-BTCUSDT-100008 / StrategyForTracking_BTCUSDT_17040672008] : MARKET BUY 0.02 of BTCUSDT  -> [CLOSED]\u001b[0m\n",
      "\u001b[32m2024-07-29 19:33:05.219\u001b[0m [ \u001b[34m\u001b[1m🐞\u001b[0m ] \u001b[34m\u001b[1mExecuted 0.02 @ 42754.55 of BTCUSDT for order SIM-ORDER-BTCUSDT-100008\u001b[0m\n",
      "\u001b[32m2024-07-29 19:33:05.219\u001b[0m [ \u001b[1mℹ️\u001b[0m ] \u001b[1mBTCUSDT >>> Adjusting position from -0.01 to 0.01 : [SIM-ORDER-BTCUSDT-100008] MARKET BUY 0.02 of BTCUSDT  (gtc) [CLOSED]\u001b[0m\n",
      "\u001b[32m2024-07-29 19:33:05.238\u001b[0m [ \u001b[1mℹ️\u001b[0m ] \u001b[1m(StrategyContext) sending market sell for 0.02 of BTCUSDT ...\u001b[0m\n",
      "\u001b[32m2024-07-29 19:33:05.238\u001b[0m [ \u001b[34m\u001b[1m🐞\u001b[0m ] \u001b[34m\u001b[1m[OMS] BTCUSDT - SIM-ORDER-BTCUSDT-100009 MARKET SELL 0.02 executed at 42711.25\u001b[0m\n",
      "\u001b[32m2024-07-29 19:33:05.238\u001b[0m [ \u001b[1mℹ️\u001b[0m ] \u001b[1m  ::  traded -0.02 for BTCUSDT @ 42711.25 -> -0.43\u001b[0m\n",
      "\u001b[32m2024-07-29 19:33:05.238\u001b[0m [ \u001b[1mℹ️\u001b[0m ] \u001b[1mOrder SIM-ORDER-BTCUSDT-100009 MARKET SELL 0.02 of BTCUSDT -> CLOSED\u001b[0m\n",
      "\u001b[32m2024-07-29 19:33:05.238\u001b[0m [ \u001b[34m\u001b[1m🐞\u001b[0m ] \u001b[34m\u001b[1m[SIM-ORDER-BTCUSDT-100009 / StrategyForTracking_BTCUSDT_17040672009] : MARKET SELL 0.02 of BTCUSDT  -> [CLOSED]\u001b[0m\n",
      "\u001b[32m2024-07-29 19:33:05.238\u001b[0m [ \u001b[34m\u001b[1m🐞\u001b[0m ] \u001b[34m\u001b[1mExecuted -0.02 @ 42711.25 of BTCUSDT for order SIM-ORDER-BTCUSDT-100009\u001b[0m\n",
      "\u001b[32m2024-07-29 19:33:05.238\u001b[0m [ \u001b[1mℹ️\u001b[0m ] \u001b[1mBTCUSDT >>> Adjusting position from 0.01 to -0.01 : [SIM-ORDER-BTCUSDT-100009] MARKET SELL 0.02 of BTCUSDT  (gtc) [CLOSED]\u001b[0m\n",
      "\u001b[32m2024-07-29 19:33:05.260\u001b[0m [ \u001b[1mℹ️\u001b[0m ] \u001b[1m(StrategyContext) sending market buy for 0.02 of BTCUSDT ...\u001b[0m\n",
      "\u001b[32m2024-07-29 19:33:05.260\u001b[0m [ \u001b[34m\u001b[1m🐞\u001b[0m ] \u001b[34m\u001b[1m[OMS] BTCUSDT - SIM-ORDER-BTCUSDT-100010 MARKET BUY 0.02 executed at 42757.25\u001b[0m\n",
      "\u001b[32m2024-07-29 19:33:05.260\u001b[0m [ \u001b[1mℹ️\u001b[0m ] \u001b[1m  ::  traded 0.02 for BTCUSDT @ 42757.25 -> -0.46\u001b[0m\n",
      "\u001b[32m2024-07-29 19:33:05.260\u001b[0m [ \u001b[1mℹ️\u001b[0m ] \u001b[1mOrder SIM-ORDER-BTCUSDT-100010 MARKET BUY 0.02 of BTCUSDT -> CLOSED\u001b[0m\n",
      "\u001b[32m2024-07-29 19:33:05.260\u001b[0m [ \u001b[34m\u001b[1m🐞\u001b[0m ] \u001b[34m\u001b[1m[SIM-ORDER-BTCUSDT-100010 / StrategyForTracking_BTCUSDT_17040672010] : MARKET BUY 0.02 of BTCUSDT  -> [CLOSED]\u001b[0m\n",
      "\u001b[32m2024-07-29 19:33:05.260\u001b[0m [ \u001b[34m\u001b[1m🐞\u001b[0m ] \u001b[34m\u001b[1mExecuted 0.02 @ 42757.25 of BTCUSDT for order SIM-ORDER-BTCUSDT-100010\u001b[0m\n",
      "\u001b[32m2024-07-29 19:33:05.260\u001b[0m [ \u001b[1mℹ️\u001b[0m ] \u001b[1mBTCUSDT >>> Adjusting position from -0.01 to 0.01 : [SIM-ORDER-BTCUSDT-100010] MARKET BUY 0.02 of BTCUSDT  (gtc) [CLOSED]\u001b[0m\n",
      "\u001b[32m2024-07-29 19:33:05.271\u001b[0m [ \u001b[1mℹ️\u001b[0m ] \u001b[1m(StrategyContext) sending market sell for 0.02 of BTCUSDT ...\u001b[0m\n",
      "\u001b[32m2024-07-29 19:33:05.271\u001b[0m [ \u001b[34m\u001b[1m🐞\u001b[0m ] \u001b[34m\u001b[1m[OMS] BTCUSDT - SIM-ORDER-BTCUSDT-100011 MARKET SELL 0.02 executed at 42810.149999999994\u001b[0m\n",
      "\u001b[32m2024-07-29 19:33:05.271\u001b[0m [ \u001b[1mℹ️\u001b[0m ] \u001b[1m  ::  traded -0.02 for BTCUSDT @ 42810.149999999994 -> 0.53\u001b[0m\n",
      "\u001b[32m2024-07-29 19:33:05.271\u001b[0m [ \u001b[1mℹ️\u001b[0m ] \u001b[1mOrder SIM-ORDER-BTCUSDT-100011 MARKET SELL 0.02 of BTCUSDT -> CLOSED\u001b[0m\n",
      "\u001b[32m2024-07-29 19:33:05.271\u001b[0m [ \u001b[34m\u001b[1m🐞\u001b[0m ] \u001b[34m\u001b[1m[SIM-ORDER-BTCUSDT-100011 / StrategyForTracking_BTCUSDT_17040672011] : MARKET SELL 0.02 of BTCUSDT  -> [CLOSED]\u001b[0m\n",
      "\u001b[32m2024-07-29 19:33:05.271\u001b[0m [ \u001b[34m\u001b[1m🐞\u001b[0m ] \u001b[34m\u001b[1mExecuted -0.02 @ 42810.149999999994 of BTCUSDT for order SIM-ORDER-BTCUSDT-100011\u001b[0m\n",
      "\u001b[32m2024-07-29 19:33:05.271\u001b[0m [ \u001b[1mℹ️\u001b[0m ] \u001b[1mBTCUSDT >>> Adjusting position from 0.01 to -0.01 : [SIM-ORDER-BTCUSDT-100011] MARKET SELL 0.02 of BTCUSDT  (gtc) [CLOSED]\u001b[0m\n",
      "\u001b[32m2024-07-29 19:33:05.287\u001b[0m [ \u001b[1mℹ️\u001b[0m ] \u001b[1m(StrategyContext) sending market buy for 0.02 of BTCUSDT ...\u001b[0m\n",
      "\u001b[32m2024-07-29 19:33:05.287\u001b[0m [ \u001b[34m\u001b[1m🐞\u001b[0m ] \u001b[34m\u001b[1m[OMS] BTCUSDT - SIM-ORDER-BTCUSDT-100012 MARKET BUY 0.02 executed at 42781.05\u001b[0m\n",
      "\u001b[32m2024-07-29 19:33:05.287\u001b[0m [ \u001b[1mℹ️\u001b[0m ] \u001b[1m  ::  traded 0.02 for BTCUSDT @ 42781.05 -> 0.29\u001b[0m\n",
      "\u001b[32m2024-07-29 19:33:05.287\u001b[0m [ \u001b[1mℹ️\u001b[0m ] \u001b[1mOrder SIM-ORDER-BTCUSDT-100012 MARKET BUY 0.02 of BTCUSDT -> CLOSED\u001b[0m\n",
      "\u001b[32m2024-07-29 19:33:05.287\u001b[0m [ \u001b[34m\u001b[1m🐞\u001b[0m ] \u001b[34m\u001b[1m[SIM-ORDER-BTCUSDT-100012 / StrategyForTracking_BTCUSDT_17040672012] : MARKET BUY 0.02 of BTCUSDT  -> [CLOSED]\u001b[0m\n",
      "\u001b[32m2024-07-29 19:33:05.287\u001b[0m [ \u001b[34m\u001b[1m🐞\u001b[0m ] \u001b[34m\u001b[1mExecuted 0.02 @ 42781.05 of BTCUSDT for order SIM-ORDER-BTCUSDT-100012\u001b[0m\n",
      "\u001b[32m2024-07-29 19:33:05.287\u001b[0m [ \u001b[1mℹ️\u001b[0m ] \u001b[1mBTCUSDT >>> Adjusting position from -0.01 to 0.01 : [SIM-ORDER-BTCUSDT-100012] MARKET BUY 0.02 of BTCUSDT  (gtc) [CLOSED]\u001b[0m\n",
      "\u001b[32m2024-07-29 19:33:05.287\u001b[0m [ \u001b[1mℹ️\u001b[0m ] \u001b[1m(StrategyContext) sending market sell for 0.02 of BTCUSDT ...\u001b[0m\n",
      "\u001b[32m2024-07-29 19:33:05.287\u001b[0m [ \u001b[34m\u001b[1m🐞\u001b[0m ] \u001b[34m\u001b[1m[OMS] BTCUSDT - SIM-ORDER-BTCUSDT-100013 MARKET SELL 0.02 executed at 42739.25\u001b[0m\n",
      "\u001b[32m2024-07-29 19:33:05.287\u001b[0m [ \u001b[1mℹ️\u001b[0m ] \u001b[1m  ::  traded -0.02 for BTCUSDT @ 42739.25 -> -0.42\u001b[0m\n",
      "\u001b[32m2024-07-29 19:33:05.299\u001b[0m [ \u001b[1mℹ️\u001b[0m ] \u001b[1mOrder SIM-ORDER-BTCUSDT-100013 MARKET SELL 0.02 of BTCUSDT -> CLOSED\u001b[0m\n",
      "\u001b[32m2024-07-29 19:33:05.299\u001b[0m [ \u001b[34m\u001b[1m🐞\u001b[0m ] \u001b[34m\u001b[1m[SIM-ORDER-BTCUSDT-100013 / StrategyForTracking_BTCUSDT_17040672013] : MARKET SELL 0.02 of BTCUSDT  -> [CLOSED]\u001b[0m\n",
      "\u001b[32m2024-07-29 19:33:05.299\u001b[0m [ \u001b[34m\u001b[1m🐞\u001b[0m ] \u001b[34m\u001b[1mExecuted -0.02 @ 42739.25 of BTCUSDT for order SIM-ORDER-BTCUSDT-100013\u001b[0m\n",
      "\u001b[32m2024-07-29 19:33:05.300\u001b[0m [ \u001b[1mℹ️\u001b[0m ] \u001b[1mBTCUSDT >>> Adjusting position from 0.01 to -0.01 : [SIM-ORDER-BTCUSDT-100013] MARKET SELL 0.02 of BTCUSDT  (gtc) [CLOSED]\u001b[0m\n",
      "\u001b[32m2024-07-29 19:33:05.305\u001b[0m [ \u001b[1mℹ️\u001b[0m ] \u001b[1m(StrategyContext) sending market buy for 0.02 of BTCUSDT ...\u001b[0m\n",
      "\u001b[32m2024-07-29 19:33:05.305\u001b[0m [ \u001b[34m\u001b[1m🐞\u001b[0m ] \u001b[34m\u001b[1m[OMS] BTCUSDT - SIM-ORDER-BTCUSDT-100014 MARKET BUY 0.02 executed at 42852.65\u001b[0m\n",
      "\u001b[32m2024-07-29 19:33:05.306\u001b[0m [ \u001b[1mℹ️\u001b[0m ] \u001b[1m  ::  traded 0.02 for BTCUSDT @ 42852.65 -> -1.13\u001b[0m\n",
      "\u001b[32m2024-07-29 19:33:05.306\u001b[0m [ \u001b[1mℹ️\u001b[0m ] \u001b[1mOrder SIM-ORDER-BTCUSDT-100014 MARKET BUY 0.02 of BTCUSDT -> CLOSED\u001b[0m\n",
      "\u001b[32m2024-07-29 19:33:05.307\u001b[0m [ \u001b[34m\u001b[1m🐞\u001b[0m ] \u001b[34m\u001b[1m[SIM-ORDER-BTCUSDT-100014 / StrategyForTracking_BTCUSDT_17040672014] : MARKET BUY 0.02 of BTCUSDT  -> [CLOSED]\u001b[0m\n",
      "\u001b[32m2024-07-29 19:33:05.307\u001b[0m [ \u001b[34m\u001b[1m🐞\u001b[0m ] \u001b[34m\u001b[1mExecuted 0.02 @ 42852.65 of BTCUSDT for order SIM-ORDER-BTCUSDT-100014\u001b[0m\n",
      "\u001b[32m2024-07-29 19:33:05.308\u001b[0m [ \u001b[1mℹ️\u001b[0m ] \u001b[1mBTCUSDT >>> Adjusting position from -0.01 to 0.01 : [SIM-ORDER-BTCUSDT-100014] MARKET BUY 0.02 of BTCUSDT  (gtc) [CLOSED]\u001b[0m\n",
      "\u001b[32m2024-07-29 19:33:05.338\u001b[0m [ \u001b[1mℹ️\u001b[0m ] \u001b[1m(StrategyContext) sending market sell for 0.02 of BTCUSDT ...\u001b[0m\n",
      "\u001b[32m2024-07-29 19:33:05.338\u001b[0m [ \u001b[34m\u001b[1m🐞\u001b[0m ] \u001b[34m\u001b[1m[OMS] BTCUSDT - SIM-ORDER-BTCUSDT-100015 MARKET SELL 0.02 executed at 43666.85\u001b[0m\n",
      "\u001b[32m2024-07-29 19:33:05.338\u001b[0m [ \u001b[1mℹ️\u001b[0m ] \u001b[1m  ::  traded -0.02 for BTCUSDT @ 43666.85 -> 8.14\u001b[0m\n",
      "\u001b[32m2024-07-29 19:33:05.338\u001b[0m [ \u001b[1mℹ️\u001b[0m ] \u001b[1mOrder SIM-ORDER-BTCUSDT-100015 MARKET SELL 0.02 of BTCUSDT -> CLOSED\u001b[0m\n",
      "\u001b[32m2024-07-29 19:33:05.338\u001b[0m [ \u001b[34m\u001b[1m🐞\u001b[0m ] \u001b[34m\u001b[1m[SIM-ORDER-BTCUSDT-100015 / StrategyForTracking_BTCUSDT_17040672015] : MARKET SELL 0.02 of BTCUSDT  -> [CLOSED]\u001b[0m\n",
      "\u001b[32m2024-07-29 19:33:05.349\u001b[0m [ \u001b[34m\u001b[1m🐞\u001b[0m ] \u001b[34m\u001b[1mExecuted -0.02 @ 43666.85 of BTCUSDT for order SIM-ORDER-BTCUSDT-100015\u001b[0m\n",
      "\u001b[32m2024-07-29 19:33:05.349\u001b[0m [ \u001b[1mℹ️\u001b[0m ] \u001b[1mBTCUSDT >>> Adjusting position from 0.01 to -0.01 : [SIM-ORDER-BTCUSDT-100015] MARKET SELL 0.02 of BTCUSDT  (gtc) [CLOSED]\u001b[0m\n",
      "\u001b[32m2024-07-29 19:33:05.354\u001b[0m [ \u001b[1mℹ️\u001b[0m ] \u001b[1m(StrategyContext) sending market buy for 0.02 of BTCUSDT ...\u001b[0m\n",
      "\u001b[32m2024-07-29 19:33:05.366\u001b[0m [ \u001b[34m\u001b[1m🐞\u001b[0m ] \u001b[34m\u001b[1m[OMS] BTCUSDT - SIM-ORDER-BTCUSDT-100016 MARKET BUY 0.02 executed at 43713.25\u001b[0m\n",
      "\u001b[32m2024-07-29 19:33:05.367\u001b[0m [ \u001b[1mℹ️\u001b[0m ] \u001b[1m  ::  traded 0.02 for BTCUSDT @ 43713.25 -> -0.46\u001b[0m\n",
      "\u001b[32m2024-07-29 19:33:05.369\u001b[0m [ \u001b[1mℹ️\u001b[0m ] \u001b[1mOrder SIM-ORDER-BTCUSDT-100016 MARKET BUY 0.02 of BTCUSDT -> CLOSED\u001b[0m\n",
      "\u001b[32m2024-07-29 19:33:05.369\u001b[0m [ \u001b[34m\u001b[1m🐞\u001b[0m ] \u001b[34m\u001b[1m[SIM-ORDER-BTCUSDT-100016 / StrategyForTracking_BTCUSDT_17040672016] : MARKET BUY 0.02 of BTCUSDT  -> [CLOSED]\u001b[0m\n",
      "\u001b[32m2024-07-29 19:33:05.370\u001b[0m [ \u001b[34m\u001b[1m🐞\u001b[0m ] \u001b[34m\u001b[1mExecuted 0.02 @ 43713.25 of BTCUSDT for order SIM-ORDER-BTCUSDT-100016\u001b[0m\n",
      "\u001b[32m2024-07-29 19:33:05.371\u001b[0m [ \u001b[1mℹ️\u001b[0m ] \u001b[1mBTCUSDT >>> Adjusting position from -0.01 to 0.01 : [SIM-ORDER-BTCUSDT-100016] MARKET BUY 0.02 of BTCUSDT  (gtc) [CLOSED]\u001b[0m\n"
     ]
    }
   ],
   "source": [
    "r = CsvStorageDataReader(\"../tests/data/csv\")\n",
    "\n",
    "QubxLogConfig.set_log_level(\"DEBUG\")\n",
    "\n",
    "rep = simulate({\n",
    "    \n",
    "        \"As Strategy\": StrategyForTracking(\n",
    "            timeframe=\"5Min\", fast_period=5, slow_period=15),\n",
    "    },\n",
    "    r, 10000, [\"BINANCE.UM:BTCUSDT\"], \n",
    "    dict(type=\"ohlc\", timeframe=\"1Min\", nback=0),\n",
    "    \"5Min -1Sec\",\n",
    "    \"vip0_usdt\", \n",
    "    \"2024-01-01\", \"2024-01-02\", \n",
    ")"
   ]
  },
  {
   "cell_type": "code",
   "execution_count": null,
   "metadata": {},
   "outputs": [],
   "source": [
    "tearsheet(rep)"
   ]
  }
 ],
 "metadata": {
  "kernelspec": {
   "display_name": ".venv",
   "language": "python",
   "name": "python3"
  },
  "language_info": {
   "codemirror_mode": {
    "name": "ipython",
    "version": 3
   },
   "file_extension": ".py",
   "mimetype": "text/x-python",
   "name": "python",
   "nbconvert_exporter": "python",
   "pygments_lexer": "ipython3",
   "version": "3.11.8"
  }
 },
 "nbformat": 4,
 "nbformat_minor": 2
}
