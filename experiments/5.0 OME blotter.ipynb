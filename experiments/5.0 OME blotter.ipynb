{
 "cells": [
  {
   "cell_type": "code",
   "execution_count": 4,
   "metadata": {},
   "outputs": [
    {
     "name": "stdout",
     "output_type": "stream",
     "text": [
      " >  [\u001b[32mdev\u001b[0m] \u001b[31minstalling cython rebuilding hook\u001b[0m\n",
      "The autoreload extension is already loaded. To reload it, use:\n",
      "  %reload_ext autoreload\n"
     ]
    }
   ],
   "source": [
    "import sys, os, re; sys.path = ([\"../src/\", \"../\"] if re.match(r'^(\\w\\:\\\\)|(/)', os.getcwd()) else [])+ sys.path \n",
    "\n",
    "from typing import Any, Optional, List\n",
    "# import asyncio\n",
    "# import nest_asyncio\n",
    "# nest_asyncio.apply()\n",
    "\n",
    "import qubx\n",
    "%qubxd dev \n",
    "\n",
    "%load_ext autoreload\n",
    "%autoreload 2\n",
    "\n",
    "from qubx import lookup, logger\n",
    "from qubx.core.strategy import IStrategy, StrategyContext, TriggerEvent\n",
    "from qubx.pandaz.utils import *\n",
    "\n",
    "# - - - - - - - - - - - - - - - - - - - - - - - -\n",
    "from qubx.backtester.ome import OrderManagementEngine\n",
    "from qubx.trackers import PortfolioRebalancerTracker\n",
    "from qubx.data.readers import CsvStorageDataReader, AsTimestampedRecords, AsQuotes, RestoreTicksFromOHLC\n",
    "from qubx.core.basics import Deal, Instrument, Order, Position, Signal"
   ]
  },
  {
   "cell_type": "markdown",
   "metadata": {},
   "source": [
    "# OME tests"
   ]
  },
  {
   "cell_type": "code",
   "execution_count": 5,
   "metadata": {},
   "outputs": [],
   "source": [
    "r = CsvStorageDataReader('../tests/data/csv')"
   ]
  },
  {
   "cell_type": "code",
   "execution_count": 8,
   "metadata": {},
   "outputs": [],
   "source": [
    "stream = r.read('BTCUSDT_ohlcv_M1', transform=RestoreTicksFromOHLC(trades=True))"
   ]
  },
  {
   "cell_type": "code",
   "execution_count": 14,
   "metadata": {},
   "outputs": [],
   "source": [
    "from sortedcontainers import SortedDict\n",
    "\n",
    "orders: SortedDict[float, Order] = SortedDict()\n",
    "orders[12.0] = Order(\"10000\", \"MARKET\", \"BTCUSDT\",  np.datetime64(\"2020-01-01\"), 100, 12.0, \"BUY\", \"PENDING\", \"gtc\")\n",
    "orders[13.0] = Order(\"10000\", \"MARKET\", \"BTCUSDT\",  np.datetime64(\"2020-01-01\"), 200, 13.0, \"SELL\", \"PENDING\", \"gtc\")"
   ]
  },
  {
   "cell_type": "code",
   "execution_count": 16,
   "metadata": {},
   "outputs": [
    {
     "name": "stdout",
     "output_type": "stream",
     "text": [
      "SortedDict({12.0: Order(id='10000', type='MARKET', symbol='BTCUSDT', time=numpy.datetime64('2020-01-01'), quantity=100, price=12.0, side='BUY', status='PENDING', time_in_force='gtc', client_id=None, cost=0.0), 13.0: Order(id='10000', type='MARKET', symbol='BTCUSDT', time=numpy.datetime64('2020-01-01'), quantity=200, price=13.0, side='SELL', status='PENDING', time_in_force='gtc', client_id=None, cost=0.0)})\n"
     ]
    }
   ],
   "source": []
  },
  {
   "cell_type": "markdown",
   "metadata": {},
   "source": [
    "# <font color='red'>(TODO)</font> Attempt to backtest strategy "
   ]
  },
  {
   "cell_type": "code",
   "execution_count": null,
   "metadata": {},
   "outputs": [],
   "source": [
    "class TestStrategy(IStrategy):\n",
    "\n",
    "    def on_start(self, ctx: StrategyContext):\n",
    "        logger.info(f\"Strategy started | {ctx.time}\")\n",
    "\n",
    "    def on_fit(self, ctx: 'StrategyContext', fit_time: str | pd.Timestamp, previous_fit_time: str | pd.Timestamp | None = None):\n",
    "        logger.info(f\"> Fit is called | fit_time: {fit_time} / prev: {previous_fit_time}\")\n",
    "\n",
    "    def on_event(self, ctx: StrategyContext, event: TriggerEvent) -> List[Signal] | None:\n",
    "        logger.info(f\"{event.time} -> {event}\")\n",
    "        # ohlcs = self.ohlcs('15Min')\n",
    "\n",
    "        # symbols_to_close, symbols_to_open = [], []\n",
    "        # for s, p in ctx.positions.items():\n",
    "        #     if p.quantity != 0: symbols_to_close.append(s)\n",
    "        #     else: symbols_to_open.append(s)\n",
    "\n",
    "        # if not symbols_to_close: # first run just open half from all universe\n",
    "        #     symbols_to_open = symbols_to_open[:len(symbols_to_open) // 2]\n",
    "\n",
    "        # cap = self._tracker.estimate_capital_to_trade(symbols_to_close)\n",
    "        # capital_per_symbol = np.clip(round(cap.capital / len(symbols_to_open)), 5, np.inf)\n",
    "\n",
    "        # logger.info(f\"\\n>>> to close: {symbols_to_close}\\n>>> to open: {symbols_to_open} | {capital_per_symbol} per symbol\")\n",
    "\n",
    "        # c_time = ctx.time()\n",
    "        # to_open = pd.DataFrame({s: {c_time: capital_per_symbol / ohlcs[s].close.iloc[-1]} for s in symbols_to_open})\n",
    "        # to_close = pd.DataFrame({s: {c_time: 0} for s in symbols_to_close})\n",
    "        # signals = scols(to_close, to_open)\n",
    "\n",
    "        # self.reporting(signals, cap)\n",
    "\n",
    "        # # - process signals\n",
    "        # if self.trading_allowed:\n",
    "        #     self._tracker.process_signals(signals)\n",
    "        # else:\n",
    "        #     logger.warning(\"Trading is disabled - no postions will be changed\")\n",
    "\n",
    "        return None\n",
    "\n",
    "    def ohlcs(self, timeframe:str) -> Dict[str, pd.DataFrame]:\n",
    "        return {s.symbol: self.ctx.ohlc(s, timeframe).pd() for s in self.ctx.instruments}\n",
    "\n",
    "    def on_stop(self, ctx: StrategyContext):\n",
    "        logger.info(f\"> test is stopped\")\n",
    "\n",
    "    def tracker(self, ctx: StrategyContext) -> PortfolioRebalancerTracker:\n",
    "        return PortfolioRebalancerTracker(ctx, 1000, 0)"
   ]
  },
  {
   "cell_type": "code",
   "execution_count": null,
   "metadata": {},
   "outputs": [],
   "source": [
    "ctx = StrategyContext(\n",
    "    TestStrategy(), dict(\n",
    "        capital_invested=100,\n",
    "        trading_allowed=False\n",
    "    ), \n",
    "    cc, cc, instruments=instruments,  # type: ignore\n",
    "    md_subscription=dict(type='ohlc', timeframe='5Min', nback=100),\n",
    "    trigger=dict(type='bar', delay='-5Sec', timeframe='1Min')\n",
    ")\n",
    "S = ctx.strategy"
   ]
  }
 ],
 "metadata": {
  "kernelspec": {
   "display_name": "p311qbx",
   "language": "python",
   "name": "python3"
  },
  "language_info": {
   "codemirror_mode": {
    "name": "ipython",
    "version": 3
   },
   "file_extension": ".py",
   "mimetype": "text/x-python",
   "name": "python",
   "nbconvert_exporter": "python",
   "pygments_lexer": "ipython3",
   "version": "3.11.8"
  }
 },
 "nbformat": 4,
 "nbformat_minor": 2
}
